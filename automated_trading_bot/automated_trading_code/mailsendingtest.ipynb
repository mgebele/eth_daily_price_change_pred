{
 "cells": [
  {
   "cell_type": "code",
   "execution_count": null,
   "metadata": {
    "ExecuteTime": {
     "end_time": "2021-01-18T11:54:03.835458Z",
     "start_time": "2021-01-18T11:54:02.637179Z"
    }
   },
   "outputs": [],
   "source": [
    "import smtplib, ssl\n",
    "\n",
    "port = 465  # For SSL\n",
    "smtp_server = \"smtp.gmail.com\"\n",
    "sender_email = \"\"  # Enter your address\n",
    "receiver_email = \"\"  # Enter receiver address\n",
    "password = \"\"\n",
    "message = \"\"\"\\\n",
    "Subject: Hi there\n",
    "\n",
    "This message is sent from Python.\"\"\"\n",
    "\n",
    "context = ssl.create_default_context()\n",
    "with smtplib.SMTP_SSL(smtp_server, port, context=context) as server:\n",
    "    server.login(sender_email, password)\n",
    "    server.sendmail(sender_email, receiver_email, message)"
   ]
  },
  {
   "cell_type": "code",
   "execution_count": null,
   "metadata": {},
   "outputs": [],
   "source": []
  },
  {
   "cell_type": "code",
   "execution_count": null,
   "metadata": {
    "ExecuteTime": {
     "end_time": "2021-01-18T11:59:05.764715Z",
     "start_time": "2021-01-18T11:59:05.684927Z"
    }
   },
   "outputs": [],
   "source": [
    "import smtplib\n",
    "from email.mime.text import MIMEText\n",
    "from email.mime.multipart import MIMEMultipart\n",
    "\n",
    "sender_email = \"\"  # Enter your address\n",
    "receiver_email = \"\"  # Enter receiver address\n",
    "password = \"\"\n",
    "\n",
    "message = MIMEMultipart(\"alternative\")\n",
    "message[\"Subject\"] = \"multipart test\"\n",
    "message[\"From\"] = sender_email\n",
    "message[\"To\"] = receiver_email\n",
    "\n",
    "# Create the plain-text and HTML version of your message\n",
    "text = \"\"\"\\\n",
    "Hi,\n",
    "How are you?\n",
    "Real Python has many great tutorials:\n",
    "\"\"\"\n",
    "\n",
    "# Turn these into plain/html MIMEText objects\n",
    "part1 = MIMEText(text, \"plain\")\n",
    "\n",
    "# Add HTML/plain-text parts to MIMEMultipart message\n",
    "# The email client will try to render the last part first\n",
    "message.attach(part1)\n",
    "\n",
    "# Create secure connection with server and send email\n",
    "context = ssl.create_default_context()\n",
    "with smtplib.SMTP_SSL(\"smtp.gmail.com\", 465, context=context) as server:\n",
    "    server.login(sender_email, password)\n",
    "    server.sendmail(\n",
    "        sender_email, receiver_email, message.as_string()\n",
    "    )"
   ]
  },
  {
   "cell_type": "code",
   "execution_count": 1,
   "metadata": {
    "ExecuteTime": {
     "end_time": "2021-01-18T11:59:37.761982Z",
     "start_time": "2021-01-18T11:59:37.725047Z"
    }
   },
   "outputs": [],
   "source": [
    "import smtplib\n",
    "from email.mime.text import MIMEText\n",
    "from email.mime.multipart import MIMEMultipart"
   ]
  },
  {
   "cell_type": "code",
   "execution_count": 2,
   "metadata": {
    "ExecuteTime": {
     "end_time": "2021-01-18T11:59:38.062138Z",
     "start_time": "2021-01-18T11:59:38.047181Z"
    }
   },
   "outputs": [],
   "source": [
    "def sendmail_result():\n",
    "        # create message object instance\n",
    "        msg = MIMEMultipart()\n",
    "\n",
    "        # please download the html?\n",
    "        message = \"_\".format()\n",
    "\n",
    "        # setup the parameters of the message\n",
    "        password = \"\"\n",
    "        msg['From'] = \"\"\n",
    "        msg['Subject'] = \"Pre\"\n",
    "\n",
    "        # Type in the email recipients\n",
    "        email_send = 'gebele.markus@googlemail.com'  # ,j.gebele@web.de\n",
    "\n",
    "        # add in the message body\n",
    "        msg.attach(MIMEText(message, 'plain'))\n",
    "\n",
    "        # create server\n",
    "        server = smtplib.SMTP('smtp.gmail.com: 587')\n",
    "        server.starttls()\n",
    "\n",
    "        # Login Credentials for sending the mail\n",
    "        server.login(msg['From'], password)\n",
    "\n",
    "        # send the message via the server to one recipient\n",
    "        # server.sendmail(msg['From'], msg['To'], msg.as_string())\n",
    "\n",
    "        # send the message via the server to multiple recipients\n",
    "        server.sendmail(msg['From'], email_send.split(','), msg.as_string())\n",
    "\n",
    "        server.quit()\n",
    "\n",
    "        print(\"successfully sent email to %s\" % email_send)"
   ]
  },
  {
   "cell_type": "code",
   "execution_count": 3,
   "metadata": {
    "ExecuteTime": {
     "end_time": "2021-01-18T11:59:39.755777Z",
     "start_time": "2021-01-18T11:59:38.406170Z"
    }
   },
   "outputs": [
    {
     "name": "stdout",
     "output_type": "stream",
     "text": [
      "successfully sent email to gebele.markus@googlemail.com\n"
     ]
    }
   ],
   "source": [
    "sendmail_result()"
   ]
  },
  {
   "cell_type": "code",
   "execution_count": null,
   "metadata": {},
   "outputs": [],
   "source": []
  }
 ],
 "metadata": {
  "kernelspec": {
   "display_name": "Python 3",
   "language": "python",
   "name": "python3"
  },
  "language_info": {
   "codemirror_mode": {
    "name": "ipython",
    "version": 3
   },
   "file_extension": ".py",
   "mimetype": "text/x-python",
   "name": "python",
   "nbconvert_exporter": "python",
   "pygments_lexer": "ipython3",
   "version": "3.8.3"
  },
  "toc": {
   "base_numbering": 1,
   "nav_menu": {},
   "number_sections": true,
   "sideBar": true,
   "skip_h1_title": false,
   "title_cell": "Table of Contents",
   "title_sidebar": "Contents",
   "toc_cell": false,
   "toc_position": {},
   "toc_section_display": true,
   "toc_window_display": false
  }
 },
 "nbformat": 4,
 "nbformat_minor": 4
}
