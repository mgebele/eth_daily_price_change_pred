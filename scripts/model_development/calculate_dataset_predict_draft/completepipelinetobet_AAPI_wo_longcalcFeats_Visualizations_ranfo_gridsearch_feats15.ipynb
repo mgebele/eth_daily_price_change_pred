{
 "cells": [
  {
   "cell_type": "markdown",
   "metadata": {
    "toc": true
   },
   "source": [
    "<h1>Table of Contents<span class=\"tocSkip\"></span></h1>\n",
    "<div class=\"toc\"><ul class=\"toc-item\"><li><span><a href=\"#Data-Preprocessing\" data-toc-modified-id=\"Data-Preprocessing-1\"><span class=\"toc-item-num\">1&nbsp;&nbsp;</span>Data Preprocessing</a></span><ul class=\"toc-item\"><li><span><a href=\"#Data-Import-via-Application-Programming-Interfaces\" data-toc-modified-id=\"Data-Import-via-Application-Programming-Interfaces-1.1\"><span class=\"toc-item-num\">1.1&nbsp;&nbsp;</span>Data Import via Application Programming Interfaces</a></span><ul class=\"toc-item\"><li><span><a href=\"#Blockchain-Data-from-Glassnode\" data-toc-modified-id=\"Blockchain-Data-from-Glassnode-1.1.1\"><span class=\"toc-item-num\">1.1.1&nbsp;&nbsp;</span>Blockchain Data from Glassnode</a></span><ul class=\"toc-item\"><li><span><a href=\"#Market-Metrics-from-Glassnode\" data-toc-modified-id=\"Market-Metrics-from-Glassnode-1.1.1.1\"><span class=\"toc-item-num\">1.1.1.1&nbsp;&nbsp;</span>Market Metrics from Glassnode</a></span></li><li><span><a href=\"#Mining-Metrics-from-Glassnode\" data-toc-modified-id=\"Mining-Metrics-from-Glassnode-1.1.1.2\"><span class=\"toc-item-num\">1.1.1.2&nbsp;&nbsp;</span>Mining Metrics from Glassnode</a></span></li><li><span><a href=\"#Blocks-Metrics-from-Glassnode\" data-toc-modified-id=\"Blocks-Metrics-from-Glassnode-1.1.1.3\"><span class=\"toc-item-num\">1.1.1.3&nbsp;&nbsp;</span>Blocks Metrics from Glassnode</a></span></li><li><span><a href=\"#Distribution-Metrics-from-Glassnode\" data-toc-modified-id=\"Distribution-Metrics-from-Glassnode-1.1.1.4\"><span class=\"toc-item-num\">1.1.1.4&nbsp;&nbsp;</span>Distribution Metrics from Glassnode</a></span></li><li><span><a href=\"#Fee-Metrics-from-Glassnode\" data-toc-modified-id=\"Fee-Metrics-from-Glassnode-1.1.1.5\"><span class=\"toc-item-num\">1.1.1.5&nbsp;&nbsp;</span>Fee Metrics from Glassnode</a></span></li><li><span><a href=\"#UTXO-Metrics-from-Glassnode\" data-toc-modified-id=\"UTXO-Metrics-from-Glassnode-1.1.1.6\"><span class=\"toc-item-num\">1.1.1.6&nbsp;&nbsp;</span>UTXO Metrics from Glassnode</a></span></li><li><span><a href=\"#Supply-Metrics-from-Glassnode\" data-toc-modified-id=\"Supply-Metrics-from-Glassnode-1.1.1.7\"><span class=\"toc-item-num\">1.1.1.7&nbsp;&nbsp;</span>Supply Metrics from Glassnode</a></span></li><li><span><a href=\"#Transaction-Metrics-from-Glassnode\" data-toc-modified-id=\"Transaction-Metrics-from-Glassnode-1.1.1.8\"><span class=\"toc-item-num\">1.1.1.8&nbsp;&nbsp;</span>Transaction Metrics from Glassnode</a></span></li><li><span><a href=\"#Exchange-Metrics-from-Glassnode---1-Month-Lag\" data-toc-modified-id=\"Exchange-Metrics-from-Glassnode---1-Month-Lag-1.1.1.9\"><span class=\"toc-item-num\">1.1.1.9&nbsp;&nbsp;</span>Exchange Metrics from Glassnode - 1 Month Lag</a></span></li><li><span><a href=\"#Indicator-I-Metrics-from-Glassnode\" data-toc-modified-id=\"Indicator-I-Metrics-from-Glassnode-1.1.1.10\"><span class=\"toc-item-num\">1.1.1.10&nbsp;&nbsp;</span>Indicator-I Metrics from Glassnode</a></span></li><li><span><a href=\"#Indicator-2-Metrics-from-Glassnode\" data-toc-modified-id=\"Indicator-2-Metrics-from-Glassnode-1.1.1.11\"><span class=\"toc-item-num\">1.1.1.11&nbsp;&nbsp;</span>Indicator-2 Metrics from Glassnode</a></span></li><li><span><a href=\"#Indicator-3-Metrics-from-Glassnode\" data-toc-modified-id=\"Indicator-3-Metrics-from-Glassnode-1.1.1.12\"><span class=\"toc-item-num\">1.1.1.12&nbsp;&nbsp;</span>Indicator-3 Metrics from Glassnode</a></span></li><li><span><a href=\"#Addresses-Metrics-from-Glassnode\" data-toc-modified-id=\"Addresses-Metrics-from-Glassnode-1.1.1.13\"><span class=\"toc-item-num\">1.1.1.13&nbsp;&nbsp;</span>Addresses Metrics from Glassnode</a></span></li><li><span><a href=\"#Futures-Metrics-from-Glassnode---Excluded-as-Data-Available-Only-Since-Feb-2020\" data-toc-modified-id=\"Futures-Metrics-from-Glassnode---Excluded-as-Data-Available-Only-Since-Feb-2020-1.1.1.14\"><span class=\"toc-item-num\">1.1.1.14&nbsp;&nbsp;</span>Futures Metrics from Glassnode - Excluded as Data Available Only Since Feb 2020</a></span><ul class=\"toc-item\"><li><span><a href=\"#List-of-Futures-Features\" data-toc-modified-id=\"List-of-Futures-Features-1.1.1.14.1\"><span class=\"toc-item-num\">1.1.1.14.1&nbsp;&nbsp;</span>List of Futures Features</a></span></li><li><span><a href=\"#Data-Frame-of-Future-features\" data-toc-modified-id=\"Data-Frame-of-Future-features-1.1.1.14.2\"><span class=\"toc-item-num\">1.1.1.14.2&nbsp;&nbsp;</span>Data Frame of Future features</a></span></li></ul></li></ul></li></ul></li><li><span><a href=\"#File-Import-and-Data-Tidying\" data-toc-modified-id=\"File-Import-and-Data-Tidying-1.2\"><span class=\"toc-item-num\">1.2&nbsp;&nbsp;</span>File Import and Data Tidying</a></span><ul class=\"toc-item\"><li><span><a href=\"#Import-Blockchain-CSV-Files\" data-toc-modified-id=\"Import-Blockchain-CSV-Files-1.2.1\"><span class=\"toc-item-num\">1.2.1&nbsp;&nbsp;</span>Import Blockchain CSV-Files</a></span><ul class=\"toc-item\"><li><span><a href=\"#Market-Metric-CSV-Files\" data-toc-modified-id=\"Market-Metric-CSV-Files-1.2.1.1\"><span class=\"toc-item-num\">1.2.1.1&nbsp;&nbsp;</span>Market Metric CSV-Files</a></span></li><li><span><a href=\"#Mining-Metric-CSV-Files\" data-toc-modified-id=\"Mining-Metric-CSV-Files-1.2.1.2\"><span class=\"toc-item-num\">1.2.1.2&nbsp;&nbsp;</span>Mining Metric CSV-Files</a></span></li><li><span><a href=\"#Blocks-Metric-CSV-Files\" data-toc-modified-id=\"Blocks-Metric-CSV-Files-1.2.1.3\"><span class=\"toc-item-num\">1.2.1.3&nbsp;&nbsp;</span>Blocks Metric CSV-Files</a></span></li><li><span><a href=\"#Distribution-Metric-CSV-Files\" data-toc-modified-id=\"Distribution-Metric-CSV-Files-1.2.1.4\"><span class=\"toc-item-num\">1.2.1.4&nbsp;&nbsp;</span>Distribution Metric CSV-Files</a></span></li><li><span><a href=\"#Fee-Metric-CSV-Files\" data-toc-modified-id=\"Fee-Metric-CSV-Files-1.2.1.5\"><span class=\"toc-item-num\">1.2.1.5&nbsp;&nbsp;</span>Fee Metric CSV-Files</a></span></li><li><span><a href=\"#UTXO-Metric-CSV-Files\" data-toc-modified-id=\"UTXO-Metric-CSV-Files-1.2.1.6\"><span class=\"toc-item-num\">1.2.1.6&nbsp;&nbsp;</span>UTXO Metric CSV-Files</a></span></li><li><span><a href=\"#Supply-Metric-CSV-Files\" data-toc-modified-id=\"Supply-Metric-CSV-Files-1.2.1.7\"><span class=\"toc-item-num\">1.2.1.7&nbsp;&nbsp;</span>Supply Metric CSV-Files</a></span></li><li><span><a href=\"#Transaction-Metric-CSV-Files\" data-toc-modified-id=\"Transaction-Metric-CSV-Files-1.2.1.8\"><span class=\"toc-item-num\">1.2.1.8&nbsp;&nbsp;</span>Transaction Metric CSV-Files</a></span></li><li><span><a href=\"#Exchange-Metrics-CSV-Files\" data-toc-modified-id=\"Exchange-Metrics-CSV-Files-1.2.1.9\"><span class=\"toc-item-num\">1.2.1.9&nbsp;&nbsp;</span>Exchange Metrics CSV-Files</a></span></li><li><span><a href=\"#Indicator-1-Metric-CSV-Files\" data-toc-modified-id=\"Indicator-1-Metric-CSV-Files-1.2.1.10\"><span class=\"toc-item-num\">1.2.1.10&nbsp;&nbsp;</span>Indicator-1 Metric CSV-Files</a></span></li><li><span><a href=\"#Indicator-2-Metrics-CSV-Files\" data-toc-modified-id=\"Indicator-2-Metrics-CSV-Files-1.2.1.11\"><span class=\"toc-item-num\">1.2.1.11&nbsp;&nbsp;</span>Indicator-2 Metrics CSV-Files</a></span></li><li><span><a href=\"#Indicator-3-Metrics-CSV-Files\" data-toc-modified-id=\"Indicator-3-Metrics-CSV-Files-1.2.1.12\"><span class=\"toc-item-num\">1.2.1.12&nbsp;&nbsp;</span>Indicator-3 Metrics CSV-Files</a></span></li><li><span><a href=\"#Addresses-Metric-CSV-Files\" data-toc-modified-id=\"Addresses-Metric-CSV-Files-1.2.1.13\"><span class=\"toc-item-num\">1.2.1.13&nbsp;&nbsp;</span>Addresses Metric CSV-Files</a></span></li><li><span><a href=\"#Futures-Metrics-CSV-Files---Excluded-as-Data-Available-Only-Since-Feb-2020\" data-toc-modified-id=\"Futures-Metrics-CSV-Files---Excluded-as-Data-Available-Only-Since-Feb-2020-1.2.1.14\"><span class=\"toc-item-num\">1.2.1.14&nbsp;&nbsp;</span>Futures Metrics CSV-Files - Excluded as Data Available Only Since Feb 2020</a></span><ul class=\"toc-item\"><li><span><a href=\"#List-of-Future-Features\" data-toc-modified-id=\"List-of-Future-Features-1.2.1.14.1\"><span class=\"toc-item-num\">1.2.1.14.1&nbsp;&nbsp;</span>List of Future Features</a></span></li><li><span><a href=\"#Counter-to-Differentiate-between-Data-Frame-Setup-and-Data-Frame-Extension\" data-toc-modified-id=\"Counter-to-Differentiate-between-Data-Frame-Setup-and-Data-Frame-Extension-1.2.1.14.2\"><span class=\"toc-item-num\">1.2.1.14.2&nbsp;&nbsp;</span>Counter to Differentiate between Data Frame Setup and Data Frame Extension</a></span></li><li><span><a href=\"#For-Loop-through-all-Features-in-the-List\" data-toc-modified-id=\"For-Loop-through-all-Features-in-the-List-1.2.1.14.3\"><span class=\"toc-item-num\">1.2.1.14.3&nbsp;&nbsp;</span>For Loop through all Features in the List</a></span></li><li><span><a href=\"#Store-Data-Frame-Copy-in-Market-Data-Frame\" data-toc-modified-id=\"Store-Data-Frame-Copy-in-Market-Data-Frame-1.2.1.14.4\"><span class=\"toc-item-num\">1.2.1.14.4&nbsp;&nbsp;</span>Store Data Frame Copy in Market Data Frame</a></span></li><li><span><a href=\"#Delete-Original-Data-Frame\" data-toc-modified-id=\"Delete-Original-Data-Frame-1.2.1.14.5\"><span class=\"toc-item-num\">1.2.1.14.5&nbsp;&nbsp;</span>Delete Original Data Frame</a></span></li><li><span><a href=\"#Change-Data-Type-of-Columns-to-Float\" data-toc-modified-id=\"Change-Data-Type-of-Columns-to-Float-1.2.1.14.6\"><span class=\"toc-item-num\">1.2.1.14.6&nbsp;&nbsp;</span>Change Data Type of Columns to Float</a></span></li></ul></li></ul></li></ul></li><li><span><a href=\"#Target-Variables\" data-toc-modified-id=\"Target-Variables-1.3\"><span class=\"toc-item-num\">1.3&nbsp;&nbsp;</span>Target Variables</a></span></li><li><span><a href=\"#Feature-Engineering\" data-toc-modified-id=\"Feature-Engineering-1.4\"><span class=\"toc-item-num\">1.4&nbsp;&nbsp;</span>Feature Engineering</a></span><ul class=\"toc-item\"><li><span><a href=\"#Volatility\" data-toc-modified-id=\"Volatility-1.4.1\"><span class=\"toc-item-num\">1.4.1&nbsp;&nbsp;</span>Volatility</a></span></li><li><span><a href=\"#Log-Price\" data-toc-modified-id=\"Log-Price-1.4.2\"><span class=\"toc-item-num\">1.4.2&nbsp;&nbsp;</span>Log Price</a></span></li></ul></li></ul></li><li><span><a href=\"#Data-Sets\" data-toc-modified-id=\"Data-Sets-2\"><span class=\"toc-item-num\">2&nbsp;&nbsp;</span>Data Sets</a></span><ul class=\"toc-item\"><li><span><a href=\"#Data-Set-I.---Blockchain-Metrics-Only\" data-toc-modified-id=\"Data-Set-I.---Blockchain-Metrics-Only-2.1\"><span class=\"toc-item-num\">2.1&nbsp;&nbsp;</span>Data Set I. - Blockchain Metrics Only</a></span></li></ul></li><li><span><a href=\"#Classification-Models---Data-Set-Variations\" data-toc-modified-id=\"Classification-Models---Data-Set-Variations-3\"><span class=\"toc-item-num\">3&nbsp;&nbsp;</span>Classification Models - Data Set Variations</a></span></li><li><span><a href=\"#Import-Data-Sets\" data-toc-modified-id=\"Import-Data-Sets-4\"><span class=\"toc-item-num\">4&nbsp;&nbsp;</span>Import Data Sets</a></span><ul class=\"toc-item\"><li><span><a href=\"#Data-Set-I.\" data-toc-modified-id=\"Data-Set-I.-4.1\"><span class=\"toc-item-num\">4.1&nbsp;&nbsp;</span>Data Set I.</a></span></li><li><span><a href=\"#Prediction-Shift\" data-toc-modified-id=\"Prediction-Shift-4.2\"><span class=\"toc-item-num\">4.2&nbsp;&nbsp;</span>Prediction Shift</a></span><ul class=\"toc-item\"><li><span><a href=\"#Data-Set-I.\" data-toc-modified-id=\"Data-Set-I.-4.2.1\"><span class=\"toc-item-num\">4.2.1&nbsp;&nbsp;</span>Data Set I.</a></span></li></ul></li></ul></li><li><span><a href=\"#Classification-Setup\" data-toc-modified-id=\"Classification-Setup-5\"><span class=\"toc-item-num\">5&nbsp;&nbsp;</span>Classification Setup</a></span><ul class=\"toc-item\"><li><span><a href=\"#Create-Data-Set-Copies-for-Trading-Strategy\" data-toc-modified-id=\"Create-Data-Set-Copies-for-Trading-Strategy-5.1\"><span class=\"toc-item-num\">5.1&nbsp;&nbsp;</span>Create Data Set Copies for Trading Strategy</a></span></li><li><span><a href=\"#Categorization---Data-Set-I.\" data-toc-modified-id=\"Categorization---Data-Set-I.-5.2\"><span class=\"toc-item-num\">5.2&nbsp;&nbsp;</span>Categorization - Data Set I.</a></span></li></ul></li><li><span><a href=\"#Model-Preparation---Data-Set-I.\" data-toc-modified-id=\"Model-Preparation---Data-Set-I.-6\"><span class=\"toc-item-num\">6&nbsp;&nbsp;</span>Model Preparation - Data Set I.</a></span><ul class=\"toc-item\"><li><span><a href=\"#Train-Test-Split---Data-Set-I.\" data-toc-modified-id=\"Train-Test-Split---Data-Set-I.-6.1\"><span class=\"toc-item-num\">6.1&nbsp;&nbsp;</span>Train Test Split - Data Set I.</a></span><ul class=\"toc-item\"><li><span><a href=\"#Check-of-Class-Balance\" data-toc-modified-id=\"Check-of-Class-Balance-6.1.1\"><span class=\"toc-item-num\">6.1.1&nbsp;&nbsp;</span>Check of Class Balance</a></span></li></ul></li></ul></li><li><span><a href=\"#Feature-Selection-random-forest\" data-toc-modified-id=\"Feature-Selection-random-forest-7\"><span class=\"toc-item-num\">7&nbsp;&nbsp;</span>Feature Selection random forest</a></span></li><li><span><a href=\"#Visualize-pred-vs-reality\" data-toc-modified-id=\"Visualize-pred-vs-reality-8\"><span class=\"toc-item-num\">8&nbsp;&nbsp;</span>Visualize pred vs reality</a></span></li><li><span><a href=\"#Hyperparam-tuning-ranfo\" data-toc-modified-id=\"Hyperparam-tuning-ranfo-9\"><span class=\"toc-item-num\">9&nbsp;&nbsp;</span>Hyperparam tuning ranfo</a></span></li><li><span><a href=\"#Evaluate-Random-Search\" data-toc-modified-id=\"Evaluate-Random-Search-10\"><span class=\"toc-item-num\">10&nbsp;&nbsp;</span>Evaluate Random Search</a></span></li><li><span><a href=\"#Grid-Search-with-Cross-Validation\" data-toc-modified-id=\"Grid-Search-with-Cross-Validation-11\"><span class=\"toc-item-num\">11&nbsp;&nbsp;</span>Grid Search with Cross Validation</a></span></li><li><span><a href=\"#second-grid\" data-toc-modified-id=\"second-grid-12\"><span class=\"toc-item-num\">12&nbsp;&nbsp;</span>second grid</a></span></li><li><span><a href=\"#third-grid\" data-toc-modified-id=\"third-grid-13\"><span class=\"toc-item-num\">13&nbsp;&nbsp;</span>third grid</a></span></li><li><span><a href=\"#forth-grid\" data-toc-modified-id=\"forth-grid-14\"><span class=\"toc-item-num\">14&nbsp;&nbsp;</span>forth grid</a></span></li><li><span><a href=\"#XGBoost\" data-toc-modified-id=\"XGBoost-15\"><span class=\"toc-item-num\">15&nbsp;&nbsp;</span>XGBoost</a></span></li><li><span><a href=\"#random-grid-xgb---16-feats\" data-toc-modified-id=\"random-grid-xgb---16-feats-16\"><span class=\"toc-item-num\">16&nbsp;&nbsp;</span>random grid xgb - 16 feats</a></span></li><li><span><a href=\"#XGBoost\" data-toc-modified-id=\"XGBoost-17\"><span class=\"toc-item-num\">17&nbsp;&nbsp;</span>XGBoost</a></span></li><li><span><a href=\"#XGBoost-3\" data-toc-modified-id=\"XGBoost-3-18\"><span class=\"toc-item-num\">18&nbsp;&nbsp;</span>XGBoost 3</a></span></li><li><span><a href=\"#XGBoost-4-TORUN!\" data-toc-modified-id=\"XGBoost-4-TORUN!-19\"><span class=\"toc-item-num\">19&nbsp;&nbsp;</span>XGBoost 4 TORUN!</a></span><ul class=\"toc-item\"><li><span><a href=\"#Feature-Scaling---Data-Set-I.\" data-toc-modified-id=\"Feature-Scaling---Data-Set-I.-19.1\"><span class=\"toc-item-num\">19.1&nbsp;&nbsp;</span>Feature Scaling - Data Set I.</a></span></li></ul></li><li><span><a href=\"#Classification-Models---Data-Set-I.\" data-toc-modified-id=\"Classification-Models---Data-Set-I.-20\"><span class=\"toc-item-num\">20&nbsp;&nbsp;</span>Classification Models - Data Set I.</a></span><ul class=\"toc-item\"><li><span><a href=\"#Logistic-Regression---Data-Set-I.\" data-toc-modified-id=\"Logistic-Regression---Data-Set-I.-20.1\"><span class=\"toc-item-num\">20.1&nbsp;&nbsp;</span>Logistic Regression - Data Set I.</a></span></li><li><span><a href=\"#Random-Forest-Classifier---Data-Set-I.\" data-toc-modified-id=\"Random-Forest-Classifier---Data-Set-I.-20.2\"><span class=\"toc-item-num\">20.2&nbsp;&nbsp;</span>Random Forest Classifier - Data Set I.</a></span></li></ul></li><li><span><a href=\"#Trading-Strategy---Data-Set-I\" data-toc-modified-id=\"Trading-Strategy---Data-Set-I-21\"><span class=\"toc-item-num\">21&nbsp;&nbsp;</span>Trading Strategy - Data Set I</a></span><ul class=\"toc-item\"><li><span><a href=\"#Trading-Strategy-in-Combination-with-Logistic-Regression\" data-toc-modified-id=\"Trading-Strategy-in-Combination-with-Logistic-Regression-21.1\"><span class=\"toc-item-num\">21.1&nbsp;&nbsp;</span>Trading Strategy in Combination with Logistic Regression</a></span></li></ul></li><li><span><a href=\"#Deepdive-in-prediction\" data-toc-modified-id=\"Deepdive-in-prediction-22\"><span class=\"toc-item-num\">22&nbsp;&nbsp;</span>Deepdive in prediction</a></span></li></ul></div>"
   ]
  },
  {
   "cell_type": "markdown",
   "metadata": {},
   "source": [
    "# Data Preprocessing"
   ]
  },
  {
   "cell_type": "markdown",
   "metadata": {},
   "source": [
    "## Data Import via Application Programming Interfaces"
   ]
  },
  {
   "cell_type": "code",
   "execution_count": 1,
   "metadata": {
    "ExecuteTime": {
     "end_time": "2021-01-05T23:12:17.382559Z",
     "start_time": "2021-01-05T23:12:16.492505Z"
    },
    "scrolled": true
   },
   "outputs": [],
   "source": [
    "# Import of Modules and Packages\n",
    "import os\n",
    "import requests\n",
    "import json\n",
    "import datetime\n",
    "import yfinance as yf\n",
    "import time\n",
    "\n",
    "import numpy as np\n",
    "import pandas as pd\n",
    "import matplotlib.pyplot as plt\n",
    "\n",
    "from pytrends.request import TrendReq\n",
    "from pytrends import dailydata"
   ]
  },
  {
   "cell_type": "code",
   "execution_count": 2,
   "metadata": {
    "ExecuteTime": {
     "end_time": "2021-01-05T23:12:17.398508Z",
     "start_time": "2021-01-05T23:12:17.383520Z"
    }
   },
   "outputs": [],
   "source": [
    "# Adjustment of Decimal Places\n",
    "pd.options.display.float_format = '{:.2f}'.format"
   ]
  },
  {
   "cell_type": "code",
   "execution_count": 3,
   "metadata": {
    "ExecuteTime": {
     "end_time": "2021-01-05T23:12:17.414472Z",
     "start_time": "2021-01-05T23:12:17.400510Z"
    }
   },
   "outputs": [],
   "source": [
    "# Glassnode API Key\n",
    "API_Key = ''"
   ]
  },
  {
   "cell_type": "code",
   "execution_count": 4,
   "metadata": {
    "ExecuteTime": {
     "end_time": "2021-01-05T23:12:17.430451Z",
     "start_time": "2021-01-05T23:12:17.416467Z"
    }
   },
   "outputs": [],
   "source": [
    "#os.chdir('\\\\github_repo\\\\JupyterLabDir\\\\Rest\\\\MA BTC\\\\Markus_Code_MA_final\\\\20201010\\\\Glassnode')"
   ]
  },
  {
   "cell_type": "code",
   "execution_count": 5,
   "metadata": {
    "ExecuteTime": {
     "end_time": "2021-01-05T23:12:17.446427Z",
     "start_time": "2021-01-05T23:12:17.431448Z"
    }
   },
   "outputs": [
    {
     "data": {
      "text/plain": [
       "'C:\\\\Users\\\\markus.gebele\\\\github_repo\\\\JupyterLabDir\\\\Rest\\\\MA BTC\\\\Markus_Code_MA_final\\\\20201010'"
      ]
     },
     "execution_count": 5,
     "metadata": {},
     "output_type": "execute_result"
    }
   ],
   "source": [
    "os.getcwd()"
   ]
  },
  {
   "cell_type": "code",
   "execution_count": 6,
   "metadata": {
    "ExecuteTime": {
     "end_time": "2021-01-05T23:12:17.462422Z",
     "start_time": "2021-01-05T23:12:17.447405Z"
    }
   },
   "outputs": [],
   "source": [
    "#os.chdir('C:\\\\Users\\\\markus.gebele\\\\github_repo\\\\JupyterLabDir\\\\Rest\\\\MA BTC\\\\Markus_Code_MA_final\\\\20201010\\\\Glassnode')"
   ]
  },
  {
   "cell_type": "markdown",
   "metadata": {},
   "source": [
    "### Blockchain Data from Glassnode"
   ]
  },
  {
   "cell_type": "code",
   "execution_count": 7,
   "metadata": {
    "ExecuteTime": {
     "end_time": "2021-01-05T23:12:17.478412Z",
     "start_time": "2021-01-05T23:12:17.463498Z"
    }
   },
   "outputs": [],
   "source": [
    "# Import Function for a Single Feature Variable from Glassnode\n",
    "def import_glassnode (url, feature_name):\n",
    "    data = requests.get(url).json()\n",
    "    df = pd.json_normalize(data)\n",
    "    \n",
    "    # Rename columns\n",
    "    df.columns = ['Date', feature_name]\n",
    "   \n",
    "    # Convert Object to Datetime Object\n",
    "    df.Date = pd.to_datetime(df.Date, unit='s')\n",
    "    df.Date = df.Date.map(lambda x: x.strftime('%Y-%m-%d'))\n",
    "    \n",
    "    # Set Date Column as Index\n",
    "    df.set_index('Date', inplace=True)\n",
    "    \n",
    "    # Drop Missing Values\n",
    "    df = df.dropna()\n",
    "    \n",
    "    # Change Data Type to Float\n",
    "    df = df.astype(float)\n",
    "    \n",
    "    # Creation of CSV-File, Part of Feature Name as CSV File Name \n",
    "    df.to_csv(\"{}.csv\".format(feature_name.rsplit('/')[-1]), decimal=',')\n",
    "    \n",
    "    # Plot of DataFrame\n",
    "    #df.plot(figsize=(4.5, 1.75))\n",
    "    #plt.xticks(rotation=45)\n",
    "    return df"
   ]
  },
  {
   "cell_type": "code",
   "execution_count": 8,
   "metadata": {
    "ExecuteTime": {
     "end_time": "2021-01-05T23:12:17.494371Z",
     "start_time": "2021-01-05T23:12:17.481372Z"
    }
   },
   "outputs": [],
   "source": [
    "# Import Function for Several Feature Variables from Glassnode\n",
    "def import_glassnode_many(feature_list):\n",
    "    # Counter to Differentiate between Data Frame Setup and Data Frame Join\n",
    "    counter=0\n",
    "    \n",
    "    # For Loop through all Features in the List\n",
    "    for feature in feature_list:\n",
    "        \n",
    "        # URL\n",
    "        url = 'https://api.glassnode.com/v1/metrics/{}?a=btc&f=json&api_key={}'.format(feature, API_Key)\n",
    "        \n",
    "        # Execute Import Function for a Single Feature Variable\n",
    "        df=import_glassnode(url, feature)\n",
    "        \n",
    "        # Display Data Frame Tail\n",
    "        print(df.tail())\n",
    "        \n",
    "        # Condition - Data Frame Set up or Data Frame Join\n",
    "        if counter > 0:\n",
    "            \n",
    "            # Data Frame Join\n",
    "            df_new = df_new.join(df, how='inner')   \n",
    "        \n",
    "        else:\n",
    "            \n",
    "            # Data Frame Setup\n",
    "            df_new = df\n",
    "        \n",
    "        # Increase Counter\n",
    "        counter +=1\n",
    "    \n",
    "    return df_new"
   ]
  },
  {
   "cell_type": "markdown",
   "metadata": {},
   "source": [
    "#### Market Metrics from Glassnode"
   ]
  },
  {
   "cell_type": "code",
   "execution_count": 9,
   "metadata": {
    "ExecuteTime": {
     "end_time": "2021-01-05T23:12:17.510350Z",
     "start_time": "2021-01-05T23:12:17.496331Z"
    }
   },
   "outputs": [],
   "source": [
    "# List of Market Features\n",
    "market_feature_list = ['market/price_usd_close', 'market/price_drawdown_relative', 'market/price_realized_usd', 'market/mvrv']"
   ]
  },
  {
   "cell_type": "code",
   "execution_count": 10,
   "metadata": {
    "ExecuteTime": {
     "end_time": "2021-01-05T23:12:19.099676Z",
     "start_time": "2021-01-05T23:12:17.511353Z"
    }
   },
   "outputs": [
    {
     "name": "stdout",
     "output_type": "stream",
     "text": [
      "            market/price_usd_close\n",
      "Date                              \n",
      "2021-01-01                29354.31\n",
      "2021-01-02                32031.62\n",
      "2021-01-03                32939.06\n",
      "2021-01-04                31930.84\n",
      "2021-01-05                34187.92\n",
      "            market/price_drawdown_relative\n",
      "Date                                      \n",
      "2020-12-31                           -0.01\n",
      "2021-01-01                           -0.01\n",
      "2021-01-02                           -0.03\n",
      "2021-01-03                           -0.05\n",
      "2021-01-04                           -0.08\n",
      "            market/price_realized_usd\n",
      "Date                                 \n",
      "2020-12-31                    9117.34\n",
      "2021-01-01                    9214.82\n",
      "2021-01-02                    9347.90\n",
      "2021-01-03                    9516.58\n",
      "2021-01-04                    9679.78\n",
      "            market/mvrv\n",
      "Date                   \n",
      "2020-12-31         3.17\n",
      "2021-01-01         3.18\n",
      "2021-01-02         3.29\n",
      "2021-01-03         3.50\n",
      "2021-01-04         3.29\n"
     ]
    }
   ],
   "source": [
    "try: \n",
    "    # Data Frame of Market Features\n",
    "    df_market = import_glassnode_many(market_feature_list)\n",
    "except:\n",
    "    time.sleep(60)\n",
    "    df_market = import_glassnode_many(market_feature_list)"
   ]
  },
  {
   "cell_type": "markdown",
   "metadata": {},
   "source": [
    "#### Mining Metrics from Glassnode"
   ]
  },
  {
   "cell_type": "code",
   "execution_count": 11,
   "metadata": {
    "ExecuteTime": {
     "end_time": "2021-01-05T23:12:19.115722Z",
     "start_time": "2021-01-05T23:12:19.100583Z"
    }
   },
   "outputs": [],
   "source": [
    "# List of Mining Features    #'mining/revenue_sum',\n",
    "mining_feature_list = ['mining/difficulty_latest', 'mining/hash_rate_mean', 'mining/marketcap_thermocap_ratio']"
   ]
  },
  {
   "cell_type": "code",
   "execution_count": 12,
   "metadata": {
    "ExecuteTime": {
     "end_time": "2021-01-05T23:12:20.383107Z",
     "start_time": "2021-01-05T23:12:19.116625Z"
    }
   },
   "outputs": [
    {
     "name": "stdout",
     "output_type": "stream",
     "text": [
      "             mining/difficulty_latest\n",
      "Date                                 \n",
      "2020-12-31 79884643861355300913152.00\n",
      "2021-01-01 79884643861355300913152.00\n",
      "2021-01-02 79884643861355300913152.00\n",
      "2021-01-03 79884643861355300913152.00\n",
      "2021-01-04 79884643861355300913152.00\n",
      "              mining/hash_rate_mean\n",
      "Date                               \n",
      "2020-12-31 153010994865171988480.00\n",
      "2021-01-01 137674793367052992512.00\n",
      "2021-01-02 139456642693557993472.00\n",
      "2021-01-03 147794214705847992320.00\n",
      "2021-01-04 158212766745824002048.00\n",
      "            mining/marketcap_thermocap_ratio\n",
      "Date                                        \n",
      "2020-12-31                              0.00\n",
      "2021-01-01                              0.00\n",
      "2021-01-02                              0.00\n",
      "2021-01-03                              0.00\n",
      "2021-01-04                              0.00\n"
     ]
    }
   ],
   "source": [
    "# Data Frame of Mining Features\n",
    "df_mining = import_glassnode_many(mining_feature_list)"
   ]
  },
  {
   "cell_type": "markdown",
   "metadata": {},
   "source": [
    "#### Blocks Metrics from Glassnode"
   ]
  },
  {
   "cell_type": "code",
   "execution_count": 13,
   "metadata": {
    "ExecuteTime": {
     "end_time": "2021-01-05T23:12:20.399145Z",
     "start_time": "2021-01-05T23:12:20.384101Z"
    }
   },
   "outputs": [],
   "source": [
    "# List of Blockchain Features\n",
    "blockchain_feature_list = ['blockchain/block_count', 'blockchain/block_interval_mean', 'blockchain/block_size_sum']"
   ]
  },
  {
   "cell_type": "code",
   "execution_count": 14,
   "metadata": {
    "ExecuteTime": {
     "end_time": "2021-01-05T23:12:21.428510Z",
     "start_time": "2021-01-05T23:12:20.400502Z"
    }
   },
   "outputs": [
    {
     "name": "stdout",
     "output_type": "stream",
     "text": [
      "            blockchain/block_count\n",
      "Date                              \n",
      "2020-12-31                  166.00\n",
      "2021-01-01                  149.00\n",
      "2021-01-02                  151.00\n",
      "2021-01-03                  158.00\n",
      "2021-01-04                  173.00\n",
      "            blockchain/block_interval_mean\n",
      "Date                                      \n",
      "2020-12-31                          522.08\n",
      "2021-01-01                          580.24\n",
      "2021-01-02                          572.83\n",
      "2021-01-03                          540.51\n",
      "2021-01-04                          504.92\n",
      "            blockchain/block_size_sum\n",
      "Date                                 \n",
      "2020-12-31               212042592.00\n",
      "2021-01-01               201482667.00\n",
      "2021-01-02               210741224.00\n",
      "2021-01-03               203613640.00\n",
      "2021-01-04               228153471.00\n"
     ]
    }
   ],
   "source": [
    "# Data Frame of Blockchain Features\n",
    "df_blockchainfeatures = import_glassnode_many(blockchain_feature_list)"
   ]
  },
  {
   "cell_type": "markdown",
   "metadata": {},
   "source": [
    "#### Distribution Metrics from Glassnode "
   ]
  },
  {
   "cell_type": "code",
   "execution_count": 15,
   "metadata": {
    "ExecuteTime": {
     "end_time": "2021-01-05T23:12:21.443930Z",
     "start_time": "2021-01-05T23:12:21.429526Z"
    }
   },
   "outputs": [],
   "source": [
    "# List of Distribution Features\n",
    "#distribution_feature_list = ['distribution/balance_1pct_holders', 'distribution/gini', 'distribution/herfindahl'] #"
   ]
  },
  {
   "cell_type": "code",
   "execution_count": 16,
   "metadata": {
    "ExecuteTime": {
     "end_time": "2021-01-05T23:12:21.459371Z",
     "start_time": "2021-01-05T23:12:21.444893Z"
    }
   },
   "outputs": [],
   "source": [
    "# Data Frame of Distribution Features\n",
    "#df_distribution = import_glassnode_many(distribution_feature_list)"
   ]
  },
  {
   "cell_type": "markdown",
   "metadata": {},
   "source": [
    "#### Fee Metrics from Glassnode "
   ]
  },
  {
   "cell_type": "code",
   "execution_count": 17,
   "metadata": {
    "ExecuteTime": {
     "end_time": "2021-01-05T23:12:21.474955Z",
     "start_time": "2021-01-05T23:12:21.460680Z"
    }
   },
   "outputs": [],
   "source": [
    "# List of Fee Features\n",
    "fees_feature_list = ['fees/volume_sum', 'fees/volume_mean', 'fees/fee_ratio_multiple']"
   ]
  },
  {
   "cell_type": "code",
   "execution_count": 18,
   "metadata": {
    "ExecuteTime": {
     "end_time": "2021-01-05T23:12:22.582989Z",
     "start_time": "2021-01-05T23:12:21.476766Z"
    }
   },
   "outputs": [
    {
     "name": "stdout",
     "output_type": "stream",
     "text": [
      "            fees/volume_sum\n",
      "Date                       \n",
      "2020-12-31           113.57\n",
      "2021-01-01            48.94\n",
      "2021-01-02            79.70\n",
      "2021-01-03            86.42\n",
      "2021-01-04           108.71\n",
      "            fees/volume_mean\n",
      "Date                        \n",
      "2020-12-31              0.00\n",
      "2021-01-01              0.00\n",
      "2021-01-02              0.00\n",
      "2021-01-03              0.00\n",
      "2021-01-04              0.00\n",
      "            fees/fee_ratio_multiple\n",
      "Date                               \n",
      "2020-12-31                    10.14\n",
      "2021-01-01                    20.03\n",
      "2021-01-02                    12.84\n",
      "2021-01-03                    12.43\n",
      "2021-01-04                    10.95\n"
     ]
    }
   ],
   "source": [
    "# Data Frame of Fee Features\n",
    "df_fees = import_glassnode_many(fees_feature_list)"
   ]
  },
  {
   "cell_type": "markdown",
   "metadata": {},
   "source": [
    "#### UTXO Metrics from Glassnode"
   ]
  },
  {
   "cell_type": "code",
   "execution_count": 19,
   "metadata": {
    "ExecuteTime": {
     "end_time": "2021-01-05T23:12:22.599053Z",
     "start_time": "2021-01-05T23:12:22.583986Z"
    }
   },
   "outputs": [],
   "source": [
    "# List of UTXO Features\n",
    "utxo_feature_list = ['blockchain/utxo_created_count', 'blockchain/utxo_spent_count', 'blockchain/utxo_created_value_sum', 'blockchain/utxo_spent_value_sum', 'blockchain/utxo_profit_relative', 'blockchain/utxo_profit_count', 'blockchain/utxo_loss_count']"
   ]
  },
  {
   "cell_type": "code",
   "execution_count": 20,
   "metadata": {
    "ExecuteTime": {
     "end_time": "2021-01-05T23:12:25.127799Z",
     "start_time": "2021-01-05T23:12:22.600860Z"
    }
   },
   "outputs": [
    {
     "name": "stdout",
     "output_type": "stream",
     "text": [
      "            blockchain/utxo_created_count\n",
      "Date                                     \n",
      "2020-12-31                     1035545.00\n",
      "2021-01-01                      782170.00\n",
      "2021-01-02                      893920.00\n",
      "2021-01-03                     1020588.00\n",
      "2021-01-04                     1082828.00\n",
      "            blockchain/utxo_spent_count\n",
      "Date                                   \n",
      "2020-12-31                   1013154.00\n",
      "2021-01-01                    972590.00\n",
      "2021-01-02                    990961.00\n",
      "2021-01-03                    975697.00\n",
      "2021-01-04                   1082845.00\n",
      "            blockchain/utxo_created_value_sum\n",
      "Date                                         \n",
      "2020-12-31                         1945437.01\n",
      "2021-01-01                         1603396.21\n",
      "2021-01-02                         2164453.30\n",
      "2021-01-03                         2211805.28\n",
      "2021-01-04                         1922521.52\n",
      "            blockchain/utxo_spent_value_sum\n",
      "Date                                       \n",
      "2020-12-31                       1944399.51\n",
      "2021-01-01                       1602464.96\n",
      "2021-01-02                       2163509.55\n",
      "2021-01-03                       2210817.78\n",
      "2021-01-04                       1921440.27\n",
      "            blockchain/utxo_profit_relative\n",
      "Date                                       \n",
      "2020-12-31                             1.00\n",
      "2021-01-01                             1.00\n",
      "2021-01-02                             1.00\n",
      "2021-01-03                             1.00\n",
      "2021-01-04                             0.99\n",
      "            blockchain/utxo_profit_count\n",
      "Date                                    \n",
      "2020-12-31                  115462532.00\n",
      "2021-01-01                  115406845.00\n",
      "2021-01-02                  115229754.00\n",
      "2021-01-03                  115041498.00\n",
      "2021-01-04                  114700834.00\n",
      "            blockchain/utxo_loss_count\n",
      "Date                                  \n",
      "2020-12-31                   236564.00\n",
      "2021-01-01                   102161.00\n",
      "2021-01-02                   178765.00\n",
      "2021-01-03                   420618.00\n",
      "2021-01-04                   750370.00\n"
     ]
    }
   ],
   "source": [
    "# Data Frame of UTXO Features\n",
    "df_utxo = import_glassnode_many(utxo_feature_list)"
   ]
  },
  {
   "cell_type": "code",
   "execution_count": null,
   "metadata": {},
   "outputs": [],
   "source": []
  },
  {
   "cell_type": "markdown",
   "metadata": {},
   "source": [
    "#### Supply Metrics from Glassnode"
   ]
  },
  {
   "cell_type": "code",
   "execution_count": 21,
   "metadata": {
    "ExecuteTime": {
     "end_time": "2021-01-05T23:12:25.143000Z",
     "start_time": "2021-01-05T23:12:25.128766Z"
    }
   },
   "outputs": [],
   "source": [
    "# List of Supply Features\n",
    "supply_feature_list = ['supply/current','supply/profit_relative', 'supply/profit_sum', 'supply/loss_sum', 'supply/active_more_1y_percent', 'supply/active_more_2y_percent', 'supply/active_more_3y_percent', 'supply/active_more_5y_percent', 'supply/active_24h', 'supply/active_1d_1w', 'supply/active_1w_1m', 'supply/active_1m_3m', 'supply/active_3m_6m', 'supply/active_6m_12m', 'supply/active_1y_2y', 'supply/active_2y_3y', 'supply/active_3y_5y', 'supply/active_5y_7y', 'supply/active_7y_10y', 'supply/active_more_10y', 'supply/issued', 'supply/inflation_rate']"
   ]
  },
  {
   "cell_type": "code",
   "execution_count": 22,
   "metadata": {
    "ExecuteTime": {
     "end_time": "2021-01-05T23:12:34.305956Z",
     "start_time": "2021-01-05T23:12:25.144105Z"
    }
   },
   "outputs": [
    {
     "name": "stdout",
     "output_type": "stream",
     "text": [
      "            supply/current\n",
      "Date                      \n",
      "2020-12-31     18586956.25\n",
      "2021-01-01     18587887.50\n",
      "2021-01-02     18588831.25\n",
      "2021-01-03     18589818.75\n",
      "2021-01-04     18590900.00\n",
      "            supply/profit_relative\n",
      "Date                              \n",
      "2020-12-31                    0.99\n",
      "2021-01-01                    0.99\n",
      "2021-01-02                    0.99\n",
      "2021-01-03                    0.99\n",
      "2021-01-04                    0.98\n",
      "            supply/profit_sum\n",
      "Date                         \n",
      "2020-12-31        18458381.35\n",
      "2021-01-01        18443387.48\n",
      "2021-01-02        18455946.72\n",
      "2021-01-03        18331396.43\n",
      "2021-01-04        18182431.53\n",
      "            supply/loss_sum\n",
      "Date                       \n",
      "2020-12-31        110935.51\n",
      "2021-01-01        115670.88\n",
      "2021-01-02        100540.17\n",
      "2021-01-03        245451.92\n",
      "2021-01-04        381367.49\n",
      "            supply/active_more_1y_percent\n",
      "Date                                     \n",
      "2020-12-31                           0.59\n",
      "2021-01-01                           0.59\n",
      "2021-01-02                           0.59\n",
      "2021-01-03                           0.59\n",
      "2021-01-04                           0.58\n",
      "            supply/active_more_2y_percent\n",
      "Date                                     \n",
      "2020-12-31                           0.47\n",
      "2021-01-01                           0.47\n",
      "2021-01-02                           0.47\n",
      "2021-01-03                           0.47\n",
      "2021-01-04                           0.47\n",
      "            supply/active_more_3y_percent\n",
      "Date                                     \n",
      "2020-12-31                           0.34\n",
      "2021-01-01                           0.34\n",
      "2021-01-02                           0.34\n",
      "2021-01-03                           0.34\n",
      "2021-01-04                           0.34\n",
      "            supply/active_more_5y_percent\n",
      "Date                                     \n",
      "2020-12-31                           0.22\n",
      "2021-01-01                           0.22\n",
      "2021-01-02                           0.22\n",
      "2021-01-03                           0.22\n",
      "2021-01-04                           0.22\n",
      "            supply/active_24h\n",
      "Date                         \n",
      "2020-12-31          350284.79\n",
      "2021-01-01          345651.08\n",
      "2021-01-02          304792.42\n",
      "2021-01-03          321566.98\n",
      "2021-01-04          360085.28\n",
      "            supply/active_1d_1w\n",
      "Date                           \n",
      "2020-12-31            905359.70\n",
      "2021-01-01            971577.84\n",
      "2021-01-02           1076317.63\n",
      "2021-01-03           1126241.06\n",
      "2021-01-04           1057308.37\n",
      "            supply/active_1w_1m\n",
      "Date                           \n",
      "2020-12-31           1630837.95\n",
      "2021-01-01           1604251.85\n",
      "2021-01-02           1600214.92\n",
      "2021-01-03           1563356.78\n",
      "2021-01-04           1688084.77\n",
      "            supply/active_1m_3m\n",
      "Date                           \n",
      "2020-12-31           1972507.07\n",
      "2021-01-01           1995694.27\n",
      "2021-01-02           2012728.46\n",
      "2021-01-03           2026836.47\n",
      "2021-01-04           1969715.17\n",
      "            supply/active_3m_6m\n",
      "Date                           \n",
      "2020-12-31           1196867.00\n",
      "2021-01-01           1161144.42\n",
      "2021-01-02           1152598.03\n",
      "2021-01-03           1145484.94\n",
      "2021-01-04           1132848.09\n",
      "            supply/active_6m_12m\n",
      "Date                            \n",
      "2020-12-31            1548301.83\n",
      "2021-01-01            1540464.13\n",
      "2021-01-02            1533827.47\n",
      "2021-01-03            1519126.08\n",
      "2021-01-04            1524891.84\n",
      "            supply/active_1y_2y\n",
      "Date                           \n",
      "2020-12-31           2236023.69\n",
      "2021-01-01           2232620.58\n",
      "2021-01-02           2211641.52\n",
      "2021-01-03           2200906.58\n",
      "2021-01-04           2192602.20\n",
      "            supply/active_2y_3y\n",
      "Date                           \n",
      "2020-12-31           2416903.00\n",
      "2021-01-01           2392555.29\n",
      "2021-01-02           2350995.92\n",
      "2021-01-03           2334645.78\n",
      "2021-01-04           2324858.51\n",
      "            supply/active_3y_5y\n",
      "Date                           \n",
      "2020-12-31           2260950.04\n",
      "2021-01-01           2274522.68\n",
      "2021-01-02           2275313.67\n",
      "2021-01-03           2283151.43\n",
      "2021-01-04           2281924.96\n",
      "            supply/active_5y_7y\n",
      "Date                           \n",
      "2020-12-31            775822.81\n",
      "2021-01-01            774810.82\n",
      "2021-01-02            771210.50\n",
      "2021-01-03            768500.49\n",
      "2021-01-04            763466.33\n",
      "            supply/active_7y_10y\n",
      "Date                            \n",
      "2020-12-31            1429324.95\n",
      "2021-01-01            1430311.41\n",
      "2021-01-02            1434184.42\n",
      "2021-01-03            1436132.97\n",
      "2021-01-04            1430966.93\n",
      "            supply/active_more_10y\n",
      "Date                              \n",
      "2020-12-31              1863744.47\n",
      "2021-01-01              1864254.16\n",
      "2021-01-02              1864977.32\n",
      "2021-01-03              1863840.24\n",
      "2021-01-04              1864118.61\n",
      "            supply/issued\n",
      "Date                     \n",
      "2020-12-31        1037.50\n",
      "2021-01-01         931.25\n",
      "2021-01-02         943.75\n",
      "2021-01-03         987.50\n",
      "2021-01-04        1081.25\n",
      "            supply/inflation_rate\n",
      "Date                             \n",
      "2020-12-31                   0.02\n",
      "2021-01-01                   0.02\n",
      "2021-01-02                   0.02\n",
      "2021-01-03                   0.02\n",
      "2021-01-04                   0.02\n"
     ]
    }
   ],
   "source": [
    "# Data Frame of Supply Features\n",
    "df_supply = import_glassnode_many(supply_feature_list)"
   ]
  },
  {
   "cell_type": "markdown",
   "metadata": {},
   "source": [
    "#### Transaction Metrics from Glassnode"
   ]
  },
  {
   "cell_type": "code",
   "execution_count": 23,
   "metadata": {
    "ExecuteTime": {
     "end_time": "2021-01-05T23:12:34.321921Z",
     "start_time": "2021-01-05T23:12:34.309412Z"
    }
   },
   "outputs": [],
   "source": [
    "# List of Transaction Features\n",
    "transaction_feature_list = ['transactions/count', 'transactions/size_sum','transactions/transfers_volume_sum', 'transactions/transfers_volume_adjusted_sum']"
   ]
  },
  {
   "cell_type": "code",
   "execution_count": 24,
   "metadata": {
    "ExecuteTime": {
     "end_time": "2021-01-05T23:12:35.889639Z",
     "start_time": "2021-01-05T23:12:34.323892Z"
    }
   },
   "outputs": [
    {
     "name": "stdout",
     "output_type": "stream",
     "text": [
      "            transactions/count\n",
      "Date                          \n",
      "2020-12-31           344752.00\n",
      "2021-01-01           257931.00\n",
      "2021-01-02           296960.00\n",
      "2021-01-03           358958.00\n",
      "2021-01-04           373561.00\n",
      "            transactions/size_sum\n",
      "Date                             \n",
      "2020-12-31           211975639.00\n",
      "2021-01-01           201422896.00\n",
      "2021-01-02           210680558.00\n",
      "2021-01-03           203549603.00\n",
      "2021-01-04           228084877.00\n",
      "            transactions/transfers_volume_sum\n",
      "Date                                         \n",
      "2020-12-31                         1944285.94\n",
      "2021-01-01                         1602416.02\n",
      "2021-01-02                         2163429.85\n",
      "2021-01-03                         2210731.36\n",
      "2021-01-04                         1921331.57\n",
      "            transactions/transfers_volume_adjusted_sum\n",
      "Date                                                  \n",
      "2020-12-31                                   653879.17\n",
      "2021-01-01                                   501667.81\n",
      "2021-01-02                                   670820.89\n",
      "2021-01-03                                   560913.64\n",
      "2021-01-04                                   744535.96\n"
     ]
    }
   ],
   "source": [
    "# Data Frame of Transaction Features\n",
    "df_transaction = import_glassnode_many(transaction_feature_list)"
   ]
  },
  {
   "cell_type": "code",
   "execution_count": null,
   "metadata": {},
   "outputs": [],
   "source": []
  },
  {
   "cell_type": "markdown",
   "metadata": {},
   "source": [
    "#### Exchange Metrics from Glassnode - 1 Month Lag"
   ]
  },
  {
   "cell_type": "code",
   "execution_count": 25,
   "metadata": {
    "ExecuteTime": {
     "end_time": "2021-01-05T23:12:35.905596Z",
     "start_time": "2021-01-05T23:12:35.890608Z"
    }
   },
   "outputs": [],
   "source": [
    "# List of Exchange Features\n",
    "#exchange_feature_list = ['transactions/transfers_volume_to_exchanges_sum', 'transactions/transfers_volume_from_exchanges_sum', 'transactions/transfers_to_exchanges_count', 'transactions/transfers_from_exchanges_count', 'distribution/balance_exchanges', 'transactions/transfers_volume_exchanges_net']"
   ]
  },
  {
   "cell_type": "code",
   "execution_count": 26,
   "metadata": {
    "ExecuteTime": {
     "end_time": "2021-01-05T23:12:35.921516Z",
     "start_time": "2021-01-05T23:12:35.906559Z"
    }
   },
   "outputs": [],
   "source": [
    "# Data Frame of Exchange Features\n",
    "#df_exchange = import_glassnode_many(exchange_feature_list)"
   ]
  },
  {
   "cell_type": "markdown",
   "metadata": {},
   "source": [
    "#### Indicator-I Metrics from Glassnode"
   ]
  },
  {
   "cell_type": "code",
   "execution_count": 27,
   "metadata": {
    "ExecuteTime": {
     "end_time": "2021-01-05T23:12:35.937507Z",
     "start_time": "2021-01-05T23:12:35.923510Z"
    }
   },
   "outputs": [],
   "source": [
    "# List of Indicator-1 Features\n",
    "indicator1_feature_list = ['indicators/sopr_adjusted', 'indicators/nvt', 'indicators/velocity', 'indicators/cdd', 'indicators/reserve_risk', 'indicators/average_dormancy', 'indicators/liveliness']                         "
   ]
  },
  {
   "cell_type": "code",
   "execution_count": 28,
   "metadata": {
    "ExecuteTime": {
     "end_time": "2021-01-05T23:12:38.601992Z",
     "start_time": "2021-01-05T23:12:35.938469Z"
    }
   },
   "outputs": [
    {
     "name": "stdout",
     "output_type": "stream",
     "text": [
      "            indicators/sopr_adjusted\n",
      "Date                                \n",
      "2020-12-31                      1.08\n",
      "2021-01-01                      1.14\n",
      "2021-01-02                      1.20\n",
      "2021-01-03                      1.26\n",
      "2021-01-04                      1.16\n",
      "            indicators/nvt\n",
      "Date                      \n",
      "2020-12-31           28.43\n",
      "2021-01-01           37.05\n",
      "2021-01-02           27.71\n",
      "2021-01-03           33.14\n",
      "2021-01-04           24.97\n",
      "            indicators/velocity\n",
      "Date                           \n",
      "2020-12-31                 0.04\n",
      "2021-01-01                 0.03\n",
      "2021-01-02                 0.04\n",
      "2021-01-03                 0.03\n",
      "2021-01-04                 0.04\n",
      "            indicators/cdd\n",
      "Date                      \n",
      "2020-12-31     17273916.08\n",
      "2021-01-01     23607957.86\n",
      "2021-01-02     55604615.52\n",
      "2021-01-03     34185968.35\n",
      "2021-01-04     53243227.65\n",
      "            indicators/reserve_risk\n",
      "Date                               \n",
      "2020-12-31                     0.00\n",
      "2021-01-01                     0.00\n",
      "2021-01-02                     0.00\n",
      "2021-01-03                     0.01\n",
      "2021-01-04                     0.00\n",
      "            indicators/average_dormancy\n",
      "Date                                   \n",
      "2020-12-31                        26.42\n",
      "2021-01-01                        47.06\n",
      "2021-01-02                        82.89\n",
      "2021-01-03                        60.95\n",
      "2021-01-04                        71.51\n",
      "            indicators/liveliness\n",
      "Date                             \n",
      "2020-12-31                   0.61\n",
      "2021-01-01                   0.61\n",
      "2021-01-02                   0.61\n",
      "2021-01-03                   0.61\n",
      "2021-01-04                   0.61\n"
     ]
    }
   ],
   "source": [
    "# Data Frame of Indicator-1 Features\n",
    "df_indicator1 = import_glassnode_many(indicator1_feature_list)"
   ]
  },
  {
   "cell_type": "markdown",
   "metadata": {},
   "source": [
    "#### Indicator-2 Metrics from Glassnode"
   ]
  },
  {
   "cell_type": "code",
   "execution_count": 29,
   "metadata": {
    "ExecuteTime": {
     "end_time": "2021-01-05T23:12:38.618076Z",
     "start_time": "2021-01-05T23:12:38.602989Z"
    }
   },
   "outputs": [],
   "source": [
    "# List of Indicator-2 Features\n",
    "indicator2_feature_list = ['indicators/asol', 'indicators/sol_1h', 'indicators/sol_1h_24h', 'indicators/sol_1d_1w', 'indicators/sol_1w_1m', 'indicators/sol_1m_3m', 'indicators/sol_3m_6m', 'indicators/sol_6m_12m', 'indicators/sol_1y_2y', 'indicators/sol_2y_3y', 'indicators/sol_3y_5y', 'indicators/sol_5y_7y', 'indicators/sol_7y_10y']"
   ]
  },
  {
   "cell_type": "code",
   "execution_count": 30,
   "metadata": {
    "ExecuteTime": {
     "end_time": "2021-01-05T23:12:45.117348Z",
     "start_time": "2021-01-05T23:12:38.618958Z"
    }
   },
   "outputs": [
    {
     "name": "stdout",
     "output_type": "stream",
     "text": [
      "            indicators/asol\n",
      "Date                       \n",
      "2020-12-31            57.30\n",
      "2021-01-01            73.99\n",
      "2021-01-02            69.72\n",
      "2021-01-03           103.58\n",
      "2021-01-04            81.05\n",
      "            indicators/sol_1h\n",
      "Date                         \n",
      "2020-12-31          201575.00\n",
      "2021-01-01          165507.00\n",
      "2021-01-02          174871.00\n",
      "2021-01-03          210322.00\n",
      "2021-01-04          234638.00\n",
      "            indicators/sol_1h_24h\n",
      "Date                             \n",
      "2020-12-31              398474.00\n",
      "2021-01-01              264070.00\n",
      "2021-01-02              247042.00\n",
      "2021-01-03              346505.00\n",
      "2021-01-04              348126.00\n",
      "            indicators/sol_1d_1w\n",
      "Date                            \n",
      "2020-12-31             171006.00\n",
      "2021-01-01             194826.00\n",
      "2021-01-02             207404.00\n",
      "2021-01-03             174311.00\n",
      "2021-01-04             234387.00\n",
      "            indicators/sol_1w_1m\n",
      "Date                            \n",
      "2020-12-31             111967.00\n",
      "2021-01-01             214999.00\n",
      "2021-01-02             244192.00\n",
      "2021-01-03              86568.00\n",
      "2021-01-04             105205.00\n",
      "            indicators/sol_1m_3m\n",
      "Date                            \n",
      "2020-12-31              51114.00\n",
      "2021-01-01              36299.00\n",
      "2021-01-02              34297.00\n",
      "2021-01-03              42503.00\n",
      "2021-01-04              59494.00\n",
      "            indicators/sol_3m_6m\n",
      "Date                            \n",
      "2020-12-31              24866.00\n",
      "2021-01-01              22815.00\n",
      "2021-01-02              17509.00\n",
      "2021-01-03              22084.00\n",
      "2021-01-04              19594.00\n",
      "            indicators/sol_6m_12m\n",
      "Date                             \n",
      "2020-12-31               15774.00\n",
      "2021-01-01               22238.00\n",
      "2021-01-02               19247.00\n",
      "2021-01-03               25647.00\n",
      "2021-01-04               20339.00\n",
      "            indicators/sol_1y_2y\n",
      "Date                            \n",
      "2020-12-31              17465.00\n",
      "2021-01-01              27276.00\n",
      "2021-01-02              19635.00\n",
      "2021-01-03              25391.00\n",
      "2021-01-04              27505.00\n",
      "            indicators/sol_2y_3y\n",
      "Date                            \n",
      "2020-12-31              11373.00\n",
      "2021-01-01              13112.00\n",
      "2021-01-02              13931.00\n",
      "2021-01-03              21383.00\n",
      "2021-01-04              16991.00\n",
      "            indicators/sol_3y_5y\n",
      "Date                            \n",
      "2020-12-31               7715.00\n",
      "2021-01-01               7489.00\n",
      "2021-01-02               9288.00\n",
      "2021-01-03              15816.00\n",
      "2021-01-04              12553.00\n",
      "            indicators/sol_5y_7y\n",
      "Date                            \n",
      "2020-12-31               1293.00\n",
      "2021-01-01               2922.00\n",
      "2021-01-02               2158.00\n",
      "2021-01-03               4307.00\n",
      "2021-01-04               3289.00\n",
      "            indicators/sol_7y_10y\n",
      "Date                             \n",
      "2020-12-31                 532.00\n",
      "2021-01-01                1036.00\n",
      "2021-01-02                1386.00\n",
      "2021-01-03                 834.00\n",
      "2021-01-04                 723.00\n"
     ]
    }
   ],
   "source": [
    "# Data Frame of Indicator-2 Features\n",
    "df_indicator2 = import_glassnode_many(indicator2_feature_list)"
   ]
  },
  {
   "cell_type": "code",
   "execution_count": null,
   "metadata": {},
   "outputs": [],
   "source": []
  },
  {
   "cell_type": "markdown",
   "metadata": {},
   "source": [
    "#### Indicator-3 Metrics from Glassnode"
   ]
  },
  {
   "cell_type": "code",
   "execution_count": 31,
   "metadata": {
    "ExecuteTime": {
     "end_time": "2021-01-05T23:12:45.132606Z",
     "start_time": "2021-01-05T23:12:45.118345Z"
    }
   },
   "outputs": [],
   "source": [
    "# List of Indicator-3 Features\n",
    "indicator3_feature_list = ['indicators/net_unrealized_profit_loss', 'indicators/unrealized_profit', 'indicators/unrealized_loss', 'indicators/net_realized_profit_loss', 'indicators/realized_profit', 'indicators/realized_loss', 'indicators/nupl_more_155', 'indicators/nupl_less_155', 'indicators/puell_multiple', 'indicators/stock_to_flow_deflection', 'indicators/difficulty_ribbon_compression']"
   ]
  },
  {
   "cell_type": "code",
   "execution_count": 32,
   "metadata": {
    "ExecuteTime": {
     "end_time": "2021-01-05T23:12:49.102624Z",
     "start_time": "2021-01-05T23:12:45.134201Z"
    }
   },
   "outputs": [
    {
     "name": "stdout",
     "output_type": "stream",
     "text": [
      "            indicators/net_unrealized_profit_loss\n",
      "Date                                             \n",
      "2020-12-31                                   0.68\n",
      "2021-01-01                                   0.68\n",
      "2021-01-02                                   0.70\n",
      "2021-01-03                                   0.71\n",
      "2021-01-04                                   0.69\n",
      "            indicators/unrealized_profit\n",
      "Date                                    \n",
      "2020-12-31                          0.68\n",
      "2021-01-01                          0.68\n",
      "2021-01-02                          0.70\n",
      "2021-01-03                          0.71\n",
      "2021-01-04                          0.69\n",
      "            indicators/unrealized_loss\n",
      "Date                                  \n",
      "2020-12-31                        0.00\n",
      "2021-01-01                        0.00\n",
      "2021-01-02                        0.00\n",
      "2021-01-03                        0.00\n",
      "2021-01-04                        0.00\n",
      "            indicators/net_realized_profit_loss\n",
      "Date                                           \n",
      "2020-12-31                        1346663560.57\n",
      "2021-01-01                        1883966012.59\n",
      "2021-01-02                        2976631648.26\n",
      "2021-01-03                        3072477046.90\n",
      "2021-01-04                        2695366158.28\n",
      "            indicators/realized_profit\n",
      "Date                                  \n",
      "2020-12-31               1437961048.60\n",
      "2021-01-01               1916853159.80\n",
      "2021-01-02               3054666437.98\n",
      "2021-01-03               3205681051.53\n",
      "2021-01-04               3083574948.16\n",
      "            indicators/realized_loss\n",
      "Date                                \n",
      "2020-12-31               91297488.02\n",
      "2021-01-01               32887147.20\n",
      "2021-01-02               78034789.72\n",
      "2021-01-03              133204004.62\n",
      "2021-01-04              388208789.89\n",
      "            indicators/nupl_more_155\n",
      "Date                                \n",
      "2020-12-31                      0.81\n",
      "2021-01-01                      0.81\n",
      "2021-01-02                      0.83\n",
      "2021-01-03                      0.84\n",
      "2021-01-04                      0.83\n",
      "            indicators/nupl_less_155\n",
      "Date                                \n",
      "2020-12-31                      0.35\n",
      "2021-01-01                      0.34\n",
      "2021-01-02                      0.39\n",
      "2021-01-03                      0.40\n",
      "2021-01-04                      0.36\n",
      "            indicators/puell_multiple\n",
      "Date                                 \n",
      "2020-12-31                       2.35\n",
      "2021-01-01                       2.13\n",
      "2021-01-02                       2.26\n",
      "2021-01-03                       2.56\n",
      "2021-01-04                       2.66\n",
      "            indicators/stock_to_flow_deflection\n",
      "Date                                           \n",
      "2020-12-31                                 0.82\n",
      "2021-01-01                                 0.83\n",
      "2021-01-02                                 0.90\n",
      "2021-01-03                                 0.93\n",
      "2021-01-04                                 0.88\n",
      "            indicators/difficulty_ribbon_compression\n",
      "Date                                                \n",
      "2020-12-31                                      0.02\n",
      "2021-01-01                                      0.02\n",
      "2021-01-02                                      0.02\n",
      "2021-01-03                                      0.02\n",
      "2021-01-04                                      0.02\n"
     ]
    }
   ],
   "source": [
    "# Data Frame of Indicator-3 Features\n",
    "df_indicator3 = import_glassnode_many(indicator3_feature_list)"
   ]
  },
  {
   "cell_type": "markdown",
   "metadata": {},
   "source": [
    "#### Addresses Metrics from Glassnode"
   ]
  },
  {
   "cell_type": "code",
   "execution_count": 33,
   "metadata": {
    "ExecuteTime": {
     "end_time": "2021-01-05T23:12:49.118758Z",
     "start_time": "2021-01-05T23:12:49.103618Z"
    }
   },
   "outputs": [],
   "source": [
    "# List of Addresses Features\n",
    "addresses_feature_list = ['addresses/active_count', 'addresses/sending_count', 'addresses/receiving_count', 'addresses/new_non_zero_count', 'addresses/non_zero_count', 'addresses/min_point_zero_1_count','addresses/min_point_1_count', 'addresses/min_1_count', 'addresses/min_10_count', 'addresses/min_100_count', 'addresses/min_1k_count', 'addresses/min_10k_count']"
   ]
  },
  {
   "cell_type": "code",
   "execution_count": 34,
   "metadata": {
    "ExecuteTime": {
     "end_time": "2021-01-05T23:12:54.659535Z",
     "start_time": "2021-01-05T23:12:49.119727Z"
    }
   },
   "outputs": [
    {
     "name": "stdout",
     "output_type": "stream",
     "text": [
      "            addresses/active_count\n",
      "Date                              \n",
      "2020-12-31              1203670.00\n",
      "2021-01-01               996185.00\n",
      "2021-01-02              1138629.00\n",
      "2021-01-03              1188455.00\n",
      "2021-01-04              1274837.00\n",
      "            addresses/sending_count\n",
      "Date                               \n",
      "2020-12-31                766683.00\n",
      "2021-01-01                648748.00\n",
      "2021-01-02                704979.00\n",
      "2021-01-03                727072.00\n",
      "2021-01-04                804714.00\n",
      "            addresses/receiving_count\n",
      "Date                                 \n",
      "2020-12-31                  809854.00\n",
      "2021-01-01                  609725.00\n",
      "2021-01-02                  711702.00\n",
      "2021-01-03                  812730.00\n",
      "2021-01-04                  851652.00\n",
      "            addresses/new_non_zero_count\n",
      "Date                                    \n",
      "2020-12-31                     569538.00\n",
      "2021-01-01                     439557.00\n",
      "2021-01-02                     515203.00\n",
      "2021-01-03                     596887.00\n",
      "2021-01-04                     612801.00\n",
      "            addresses/non_zero_count\n",
      "Date                                \n",
      "2020-12-31               33037830.00\n",
      "2021-01-01               32973984.00\n",
      "2021-01-02               32958286.00\n",
      "2021-01-03               33002059.00\n",
      "2021-01-04               33014567.00\n",
      "            addresses/min_point_zero_1_count\n",
      "Date                                        \n",
      "2020-12-31                        8493252.00\n",
      "2021-01-01                        8467424.00\n",
      "2021-01-02                        8472257.00\n",
      "2021-01-03                        8469431.00\n",
      "2021-01-04                        8463274.00\n",
      "            addresses/min_point_1_count\n",
      "Date                                   \n",
      "2020-12-31                   3124363.00\n",
      "2021-01-01                   3125609.00\n",
      "2021-01-02                   3126821.00\n",
      "2021-01-03                   3125040.00\n",
      "2021-01-04                   3124137.00\n",
      "            addresses/min_1_count\n",
      "Date                             \n",
      "2020-12-31              827449.00\n",
      "2021-01-01              828042.00\n",
      "2021-01-02              828045.00\n",
      "2021-01-03              827595.00\n",
      "2021-01-04              827107.00\n",
      "            addresses/min_10_count\n",
      "Date                              \n",
      "2020-12-31               153710.00\n",
      "2021-01-01               153601.00\n",
      "2021-01-02               153418.00\n",
      "2021-01-03               152777.00\n",
      "2021-01-04               152627.00\n",
      "            addresses/min_100_count\n",
      "Date                               \n",
      "2020-12-31                 16212.00\n",
      "2021-01-01                 16333.00\n",
      "2021-01-02                 16235.00\n",
      "2021-01-03                 16221.00\n",
      "2021-01-04                 16215.00\n",
      "            addresses/min_1k_count\n",
      "Date                              \n",
      "2020-12-31                 2268.00\n",
      "2021-01-01                 2274.00\n",
      "2021-01-02                 2273.00\n",
      "2021-01-03                 2282.00\n",
      "2021-01-04                 2281.00\n",
      "            addresses/min_10k_count\n",
      "Date                               \n",
      "2020-12-31                    97.00\n",
      "2021-01-01                    96.00\n",
      "2021-01-02                    99.00\n",
      "2021-01-03                    99.00\n",
      "2021-01-04                   101.00\n"
     ]
    }
   ],
   "source": [
    "# Data Frame of Addresses Features\n",
    "df_addresses = import_glassnode_many(addresses_feature_list)"
   ]
  },
  {
   "cell_type": "markdown",
   "metadata": {},
   "source": [
    "#### Futures Metrics from Glassnode - Excluded as Data Available Only Since Feb 2020"
   ]
  },
  {
   "cell_type": "markdown",
   "metadata": {},
   "source": [
    "##### List of Futures Features\n",
    "futures_feature_list = ['derivatives/futures_volume_daily_all_sum', 'derivatives/futures_volume_daily_perpetual_sum', 'derivatives/futures_open_interest_all_sum', 'derivatives/futures_open_interest_perpetual_sum', 'derivatives/futures_funding_rate_perpetual']"
   ]
  },
  {
   "cell_type": "markdown",
   "metadata": {},
   "source": [
    "##### Data Frame of Future features\n",
    "df_futures = import_glassnode_many(futures_feature_list)"
   ]
  },
  {
   "cell_type": "code",
   "execution_count": null,
   "metadata": {},
   "outputs": [],
   "source": []
  },
  {
   "cell_type": "markdown",
   "metadata": {},
   "source": [
    "## File Import and Data Tidying"
   ]
  },
  {
   "cell_type": "code",
   "execution_count": 35,
   "metadata": {
    "ExecuteTime": {
     "end_time": "2021-01-05T23:12:55.375997Z",
     "start_time": "2021-01-05T23:12:54.660693Z"
    },
    "scrolled": true
   },
   "outputs": [],
   "source": [
    "# Import of Modules and Packages\n",
    "import os\n",
    "import numpy as np\n",
    "import pandas as pd\n",
    "import matplotlib.pyplot as plt\n",
    "import seaborn as sns"
   ]
  },
  {
   "cell_type": "code",
   "execution_count": 36,
   "metadata": {
    "ExecuteTime": {
     "end_time": "2021-01-05T23:12:55.391517Z",
     "start_time": "2021-01-05T23:12:55.379043Z"
    }
   },
   "outputs": [],
   "source": [
    "# Adjustment of Decimal Places\n",
    "pd.options.display.float_format = '{:.6f}'.format"
   ]
  },
  {
   "cell_type": "code",
   "execution_count": 37,
   "metadata": {
    "ExecuteTime": {
     "end_time": "2021-01-05T23:12:55.407476Z",
     "start_time": "2021-01-05T23:12:55.393513Z"
    }
   },
   "outputs": [],
   "source": [
    "os.chdir('C:\\\\Users\\\\markus.gebele\\\\github_repo\\\\JupyterLabDir\\\\Rest\\\\MA BTC\\\\Markus_Code_MA_final\\\\20201010')"
   ]
  },
  {
   "cell_type": "markdown",
   "metadata": {},
   "source": [
    "### Import Blockchain CSV-Files"
   ]
  },
  {
   "cell_type": "markdown",
   "metadata": {},
   "source": [
    "#### Market Metric CSV-Files"
   ]
  },
  {
   "cell_type": "code",
   "execution_count": 38,
   "metadata": {
    "ExecuteTime": {
     "end_time": "2021-01-05T23:12:55.531462Z",
     "start_time": "2021-01-05T23:12:55.409474Z"
    }
   },
   "outputs": [],
   "source": [
    "# List of Market Features\n",
    "market_feature_list = ['price_usd_close', 'price_drawdown_relative', 'price_realized_usd', 'mvrv']\n",
    "\n",
    "# Counter to Differentiate between Data Frame Setup and Data Frame Extension\n",
    "counter=0\n",
    "\n",
    "# For Loop through all Features in the List\n",
    "for x in market_feature_list:\n",
    "    \n",
    "    # Import Feature CSV-Files\n",
    "    df = pd.read_csv(\"Glassnode/{}.csv\".format(x), index_col='Date', ) #decimal=\".\"\n",
    "    \n",
    "    # Condition - Data Frame Set up or Data Frame Extension\n",
    "    if counter > 0:\n",
    "        \n",
    "        # Data Frame Extension - Inner Join\n",
    "        df_new = df_new.join(df, how='inner')\n",
    "    \n",
    "    else:\n",
    "        \n",
    "        # Data Frame Setup\n",
    "        df_new = df\n",
    "    \n",
    "    # Increase Counter\n",
    "    counter +=1\n",
    "\n",
    "# Store Data Frame Copy in Market Data Frame\n",
    "df_market = df_new.copy()\n",
    "\n",
    "# Delete Original Data Frame\n",
    "del df_new\n",
    "\n",
    "# Change Data Type of Columns to Float\n",
    "for y in df_market.columns:\n",
    "    try:\n",
    "        df_market[\"{}\".format(y)] = df_market[\"{}\".format(y)].str.replace(',','.')\n",
    "        df_market[\"{}\".format(y)] = df_market[\"{}\".format(y)].astype(float)\n",
    "    except:\n",
    "        pass"
   ]
  },
  {
   "cell_type": "code",
   "execution_count": 39,
   "metadata": {
    "ExecuteTime": {
     "end_time": "2021-01-05T23:12:55.547422Z",
     "start_time": "2021-01-05T23:12:55.533458Z"
    }
   },
   "outputs": [
    {
     "data": {
      "text/html": [
       "<div>\n",
       "<style scoped>\n",
       "    .dataframe tbody tr th:only-of-type {\n",
       "        vertical-align: middle;\n",
       "    }\n",
       "\n",
       "    .dataframe tbody tr th {\n",
       "        vertical-align: top;\n",
       "    }\n",
       "\n",
       "    .dataframe thead th {\n",
       "        text-align: right;\n",
       "    }\n",
       "</style>\n",
       "<table border=\"1\" class=\"dataframe\">\n",
       "  <thead>\n",
       "    <tr style=\"text-align: right;\">\n",
       "      <th></th>\n",
       "      <th>market/price_usd_close</th>\n",
       "      <th>market/price_drawdown_relative</th>\n",
       "      <th>market/price_realized_usd</th>\n",
       "      <th>market/mvrv</th>\n",
       "    </tr>\n",
       "    <tr>\n",
       "      <th>Date</th>\n",
       "      <th></th>\n",
       "      <th></th>\n",
       "      <th></th>\n",
       "      <th></th>\n",
       "    </tr>\n",
       "  </thead>\n",
       "  <tbody>\n",
       "    <tr>\n",
       "      <th>2020-12-25</th>\n",
       "      <td>24688.211520</td>\n",
       "      <td>-0.001589</td>\n",
       "      <td>8467.173679</td>\n",
       "      <td>2.837378</td>\n",
       "    </tr>\n",
       "    <tr>\n",
       "      <th>2020-12-26</th>\n",
       "      <td>26440.248700</td>\n",
       "      <td>-0.009069</td>\n",
       "      <td>8511.239439</td>\n",
       "      <td>2.967878</td>\n",
       "    </tr>\n",
       "    <tr>\n",
       "      <th>2020-12-27</th>\n",
       "      <td>26388.149456</td>\n",
       "      <td>-0.067189</td>\n",
       "      <td>8610.606247</td>\n",
       "      <td>3.140541</td>\n",
       "    </tr>\n",
       "    <tr>\n",
       "      <th>2020-12-28</th>\n",
       "      <td>27098.952754</td>\n",
       "      <td>-0.042062</td>\n",
       "      <td>8811.238744</td>\n",
       "      <td>3.061128</td>\n",
       "    </tr>\n",
       "    <tr>\n",
       "      <th>2020-12-29</th>\n",
       "      <td>27324.988106</td>\n",
       "      <td>-0.034072</td>\n",
       "      <td>8943.516636</td>\n",
       "      <td>2.984407</td>\n",
       "    </tr>\n",
       "  </tbody>\n",
       "</table>\n",
       "</div>"
      ],
      "text/plain": [
       "            market/price_usd_close  market/price_drawdown_relative  \\\n",
       "Date                                                                 \n",
       "2020-12-25            24688.211520                       -0.001589   \n",
       "2020-12-26            26440.248700                       -0.009069   \n",
       "2020-12-27            26388.149456                       -0.067189   \n",
       "2020-12-28            27098.952754                       -0.042062   \n",
       "2020-12-29            27324.988106                       -0.034072   \n",
       "\n",
       "            market/price_realized_usd  market/mvrv  \n",
       "Date                                                \n",
       "2020-12-25                8467.173679     2.837378  \n",
       "2020-12-26                8511.239439     2.967878  \n",
       "2020-12-27                8610.606247     3.140541  \n",
       "2020-12-28                8811.238744     3.061128  \n",
       "2020-12-29                8943.516636     2.984407  "
      ]
     },
     "execution_count": 39,
     "metadata": {},
     "output_type": "execute_result"
    }
   ],
   "source": [
    "# Latest Market Metric Values\n",
    "df_market.tail()"
   ]
  },
  {
   "cell_type": "markdown",
   "metadata": {},
   "source": [
    "#### Mining Metric CSV-Files"
   ]
  },
  {
   "cell_type": "code",
   "execution_count": 40,
   "metadata": {
    "ExecuteTime": {
     "end_time": "2021-01-05T23:12:55.562883Z",
     "start_time": "2021-01-05T23:12:55.549415Z"
    }
   },
   "outputs": [],
   "source": [
    "# # List of Mining Features\n",
    "# mining_feature_list = ['difficulty_latest'] #, 'hash_rate_mean', 'revenue_sum','marketcap_thermocap_ratio'\n",
    "\n",
    "# # For Loop through all Features in the List\n",
    "# for x in mining_feature_list:\n",
    "    \n",
    "#     # Import Feature CSV-Files\n",
    "#     df_mining_difficulty_latest = pd.read_csv(\"Glassnode/{}.csv\".format(x), index_col='Date')\n",
    "    \n",
    "# # Change Data Type of Columns to Float\n",
    "# for y in df_mining_difficulty_latest.columns:\n",
    "#     try:\n",
    "#         df_mining_difficulty_latest[\"{}\".format(y)] = df_mining_difficulty_latest[\"{}\".format(y)].str.replace(',','.')\n",
    "#         df_mining_difficulty_latest[\"{}\".format(y)] = df_mining_difficulty_latest[\"{}\".format(y)].astype(float)\n",
    "#     except:\n",
    "#         pass\n",
    "    \n",
    "# df_mining_difficulty_latest"
   ]
  },
  {
   "cell_type": "code",
   "execution_count": 41,
   "metadata": {
    "ExecuteTime": {
     "end_time": "2021-01-05T23:12:55.578047Z",
     "start_time": "2021-01-05T23:12:55.563880Z"
    }
   },
   "outputs": [],
   "source": [
    "# # List of Mining Features\n",
    "# mining_feature_list = ['hash_rate_mean'] # 'revenue_sum','marketcap_thermocap_ratio'\n",
    "\n",
    "# # For Loop through all Features in the List\n",
    "# for x in mining_feature_list:\n",
    "    \n",
    "#     # Import Feature CSV-Files\n",
    "#     df_mining_hash_rate_mean = pd.read_csv(\"Glassnode/{}.csv\".format(x), index_col='Date')\n",
    "    \n",
    "# # Change Data Type of Columns to Float\n",
    "# for y in df_mining_hash_rate_mean.columns:\n",
    "#     try:\n",
    "#         df_mining_hash_rate_mean[\"{}\".format(y)] = df_mining_hash_rate_mean[\"{}\".format(y)].str.replace(',','.')\n",
    "#         df_mining_hash_rate_mean[\"{}\".format(y)] = df_mining_hash_rate_mean[\"{}\".format(y)].astype(float)\n",
    "#     except:\n",
    "#         pass\n",
    "    \n",
    "# df_mining_hash_rate_mean"
   ]
  },
  {
   "cell_type": "code",
   "execution_count": 42,
   "metadata": {
    "ExecuteTime": {
     "end_time": "2021-01-05T23:12:55.593595Z",
     "start_time": "2021-01-05T23:12:55.579980Z"
    }
   },
   "outputs": [],
   "source": [
    "# # List of Mining Features\n",
    "# mining_feature_list = ['marketcap_thermocap_ratio'] # 'revenue_sum','marketcap_thermocap_ratio'\n",
    "\n",
    "# # For Loop through all Features in the List\n",
    "# for x in mining_feature_list:\n",
    "    \n",
    "#     # Import Feature CSV-Files\n",
    "#     df_mining_marketcap_thermocap_ratio = pd.read_csv(\"Glassnode/{}.csv\".format(x), index_col='Date')\n",
    "    \n",
    "# # Change Data Type of Columns to Float\n",
    "# for y in df_mining_marketcap_thermocap_ratio.columns:\n",
    "#     try:\n",
    "#         df_mining_marketcap_thermocap_ratio[\"{}\".format(y)] = df_mining_marketcap_thermocap_ratio[\"{}\".format(y)].str.replace(',','.')\n",
    "#         df_mining_marketcap_thermocap_ratio[\"{}\".format(y)] = df_mining_marketcap_thermocap_ratio[\"{}\".format(y)].astype(float)\n",
    "#     except:\n",
    "#         pass\n",
    "    \n",
    "# df_mining_revenue_sum"
   ]
  },
  {
   "cell_type": "code",
   "execution_count": 43,
   "metadata": {
    "ExecuteTime": {
     "end_time": "2021-01-05T23:12:55.656465Z",
     "start_time": "2021-01-05T23:12:55.595555Z"
    }
   },
   "outputs": [],
   "source": [
    "# List of Mining Features\n",
    "mining_feature_list = ['difficulty_latest', 'hash_rate_mean'] #, 'revenue_sum','marketcap_thermocap_ratio'\n",
    "\n",
    "# Counter to Differentiate between Data Frame Setup and Data Frame Extension\n",
    "counter=0\n",
    "\n",
    "# For Loop through all Features in the List\n",
    "for x in mining_feature_list:\n",
    "    \n",
    "    # Import Feature CSV-Files\n",
    "    df = pd.read_csv(\"Glassnode/{}.csv\".format(x), index_col='Date')\n",
    "    \n",
    "    # Condition - Data Frame Set up or Data Frame Extension\n",
    "    if counter > 0:\n",
    "        \n",
    "        # Data Frame Extension - Inner Join\n",
    "        df_new = df_new.join(df, how='inner')\n",
    "    \n",
    "    else:\n",
    "        \n",
    "        # Data Frame Setup\n",
    "        df_new = df\n",
    "    \n",
    "    # Increase Counter\n",
    "    counter +=1\n",
    "\n",
    "# Store Data Frame Copy in Market Data Frame    \n",
    "df_mining = df_new.copy()\n",
    "\n",
    "# Delete Original Data Frame\n",
    "del df_new\n",
    "\n",
    "# Change Data Type of Columns to Float\n",
    "for y in df_mining.columns:\n",
    "    try:\n",
    "        df_mining[\"{}\".format(y)] = df_mining[\"{}\".format(y)].str.replace(',','.')\n",
    "        df_mining[\"{}\".format(y)] = df_mining[\"{}\".format(y)].astype(float)\n",
    "    except:\n",
    "        pass"
   ]
  },
  {
   "cell_type": "code",
   "execution_count": 44,
   "metadata": {
    "ExecuteTime": {
     "end_time": "2021-01-05T23:12:55.672583Z",
     "start_time": "2021-01-05T23:12:55.657461Z"
    }
   },
   "outputs": [
    {
     "data": {
      "text/html": [
       "<div>\n",
       "<style scoped>\n",
       "    .dataframe tbody tr th:only-of-type {\n",
       "        vertical-align: middle;\n",
       "    }\n",
       "\n",
       "    .dataframe tbody tr th {\n",
       "        vertical-align: top;\n",
       "    }\n",
       "\n",
       "    .dataframe thead th {\n",
       "        text-align: right;\n",
       "    }\n",
       "</style>\n",
       "<table border=\"1\" class=\"dataframe\">\n",
       "  <thead>\n",
       "    <tr style=\"text-align: right;\">\n",
       "      <th></th>\n",
       "      <th>mining/difficulty_latest</th>\n",
       "      <th>mining/hash_rate_mean</th>\n",
       "    </tr>\n",
       "    <tr>\n",
       "      <th>Date</th>\n",
       "      <th></th>\n",
       "      <th></th>\n",
       "    </tr>\n",
       "  </thead>\n",
       "  <tbody>\n",
       "    <tr>\n",
       "      <th>2020-12-25</th>\n",
       "      <td>80187763369133704478720.000000</td>\n",
       "      <td>133658648082637996032.000000</td>\n",
       "    </tr>\n",
       "    <tr>\n",
       "      <th>2020-12-26</th>\n",
       "      <td>80187763369133704478720.000000</td>\n",
       "      <td>127352989515328995328.000000</td>\n",
       "    </tr>\n",
       "    <tr>\n",
       "      <th>2020-12-27</th>\n",
       "      <td>80187763369133704478720.000000</td>\n",
       "      <td>136527494404802002944.000000</td>\n",
       "    </tr>\n",
       "    <tr>\n",
       "      <th>2020-12-28</th>\n",
       "      <td>79884643861355300913152.000000</td>\n",
       "      <td>148273901331699007488.000000</td>\n",
       "    </tr>\n",
       "    <tr>\n",
       "      <th>2020-12-29</th>\n",
       "      <td>79884643861355300913152.000000</td>\n",
       "      <td>140440271419453997056.000000</td>\n",
       "    </tr>\n",
       "  </tbody>\n",
       "</table>\n",
       "</div>"
      ],
      "text/plain": [
       "                 mining/difficulty_latest        mining/hash_rate_mean\n",
       "Date                                                                  \n",
       "2020-12-25 80187763369133704478720.000000 133658648082637996032.000000\n",
       "2020-12-26 80187763369133704478720.000000 127352989515328995328.000000\n",
       "2020-12-27 80187763369133704478720.000000 136527494404802002944.000000\n",
       "2020-12-28 79884643861355300913152.000000 148273901331699007488.000000\n",
       "2020-12-29 79884643861355300913152.000000 140440271419453997056.000000"
      ]
     },
     "execution_count": 44,
     "metadata": {},
     "output_type": "execute_result"
    }
   ],
   "source": [
    "# Latest Mining Metric Values\n",
    "df_mining.tail()"
   ]
  },
  {
   "cell_type": "markdown",
   "metadata": {},
   "source": [
    "#### Blocks Metric CSV-Files"
   ]
  },
  {
   "cell_type": "code",
   "execution_count": 45,
   "metadata": {
    "ExecuteTime": {
     "end_time": "2021-01-05T23:12:55.750456Z",
     "start_time": "2021-01-05T23:12:55.673850Z"
    }
   },
   "outputs": [],
   "source": [
    "# List of Blockchain Features\n",
    "block_feature_list = ['block_count', 'block_interval_mean', 'block_size_sum']\n",
    "\n",
    "# Counter to Differentiate between Data Frame Setup and Data Frame Extension\n",
    "counter=0\n",
    "\n",
    "# For Loop through all Features in the List\n",
    "for x in block_feature_list:\n",
    "    \n",
    "    # Import Feature CSV-Files\n",
    "    df = pd.read_csv(\"Glassnode/{}.csv\".format(x), index_col='Date')\n",
    "    \n",
    "    # Condition - Data Frame Set up or Data Frame Extension\n",
    "    if counter > 0:\n",
    "        \n",
    "        # Data Frame Extension - Inner Join\n",
    "        df_new = df_new.join(df, how='inner')\n",
    "    \n",
    "    else:\n",
    "        \n",
    "        # Data Frame Setup\n",
    "        df_new = df\n",
    "    \n",
    "    # Increase Counter\n",
    "    counter +=1\n",
    "\n",
    "# Store Data Frame Copy in Market Data Frame\n",
    "df_blockfeatures = df_new.copy()\n",
    "\n",
    "# Delete Original Data Frame\n",
    "del df_new\n",
    "\n",
    "# Change Data Type of Columns to Float\n",
    "for y in df_blockfeatures.columns:\n",
    "    try:\n",
    "        df_blockfeatures[\"{}\".format(y)] = df_blockfeatures[\"{}\".format(y)].str.replace(',','.')\n",
    "        df_blockfeatures[\"{}\".format(y)] = df_blockfeatures[\"{}\".format(y)].astype(float)\n",
    "    except:\n",
    "        pass"
   ]
  },
  {
   "cell_type": "code",
   "execution_count": 46,
   "metadata": {
    "ExecuteTime": {
     "end_time": "2021-01-05T23:12:55.766413Z",
     "start_time": "2021-01-05T23:12:55.753449Z"
    }
   },
   "outputs": [
    {
     "data": {
      "text/html": [
       "<div>\n",
       "<style scoped>\n",
       "    .dataframe tbody tr th:only-of-type {\n",
       "        vertical-align: middle;\n",
       "    }\n",
       "\n",
       "    .dataframe tbody tr th {\n",
       "        vertical-align: top;\n",
       "    }\n",
       "\n",
       "    .dataframe thead th {\n",
       "        text-align: right;\n",
       "    }\n",
       "</style>\n",
       "<table border=\"1\" class=\"dataframe\">\n",
       "  <thead>\n",
       "    <tr style=\"text-align: right;\">\n",
       "      <th></th>\n",
       "      <th>blockchain/block_count</th>\n",
       "      <th>blockchain/block_interval_mean</th>\n",
       "      <th>blockchain/block_size_sum</th>\n",
       "    </tr>\n",
       "    <tr>\n",
       "      <th>Date</th>\n",
       "      <th></th>\n",
       "      <th></th>\n",
       "      <th></th>\n",
       "    </tr>\n",
       "  </thead>\n",
       "  <tbody>\n",
       "    <tr>\n",
       "      <th>2020-12-25</th>\n",
       "      <td>144.000000</td>\n",
       "      <td>599.944444</td>\n",
       "      <td>185161562.000000</td>\n",
       "    </tr>\n",
       "    <tr>\n",
       "      <th>2020-12-26</th>\n",
       "      <td>137.000000</td>\n",
       "      <td>629.649635</td>\n",
       "      <td>189726620.000000</td>\n",
       "    </tr>\n",
       "    <tr>\n",
       "      <th>2020-12-27</th>\n",
       "      <td>148.000000</td>\n",
       "      <td>587.337838</td>\n",
       "      <td>192986040.000000</td>\n",
       "    </tr>\n",
       "    <tr>\n",
       "      <th>2020-12-28</th>\n",
       "      <td>160.000000</td>\n",
       "      <td>538.768750</td>\n",
       "      <td>207461109.000000</td>\n",
       "    </tr>\n",
       "    <tr>\n",
       "      <th>2020-12-29</th>\n",
       "      <td>152.000000</td>\n",
       "      <td>568.815789</td>\n",
       "      <td>194049804.000000</td>\n",
       "    </tr>\n",
       "  </tbody>\n",
       "</table>\n",
       "</div>"
      ],
      "text/plain": [
       "            blockchain/block_count  blockchain/block_interval_mean  \\\n",
       "Date                                                                 \n",
       "2020-12-25              144.000000                      599.944444   \n",
       "2020-12-26              137.000000                      629.649635   \n",
       "2020-12-27              148.000000                      587.337838   \n",
       "2020-12-28              160.000000                      538.768750   \n",
       "2020-12-29              152.000000                      568.815789   \n",
       "\n",
       "            blockchain/block_size_sum  \n",
       "Date                                   \n",
       "2020-12-25           185161562.000000  \n",
       "2020-12-26           189726620.000000  \n",
       "2020-12-27           192986040.000000  \n",
       "2020-12-28           207461109.000000  \n",
       "2020-12-29           194049804.000000  "
      ]
     },
     "execution_count": 46,
     "metadata": {},
     "output_type": "execute_result"
    }
   ],
   "source": [
    "# Show Latest Feature Values\n",
    "df_blockfeatures.tail()"
   ]
  },
  {
   "cell_type": "markdown",
   "metadata": {},
   "source": [
    "#### Distribution Metric CSV-Files"
   ]
  },
  {
   "cell_type": "code",
   "execution_count": 47,
   "metadata": {
    "ExecuteTime": {
     "end_time": "2021-01-05T23:12:55.782214Z",
     "start_time": "2021-01-05T23:12:55.768414Z"
    }
   },
   "outputs": [],
   "source": [
    "# # List of Distribution Features\n",
    "# distribution_feature_list = ['balance_1pct_holders', 'gini', 'herfindahl']\n",
    "\n",
    "# # Counter to Differentiate between Data Frame Setup and Data Frame Extension\n",
    "# counter=0\n",
    "\n",
    "# # For Loop through all Features in the List\n",
    "# for x in distribution_feature_list:\n",
    "    \n",
    "#     # Import Feature CSV-Files\n",
    "#     df = pd.read_csv(\"Glassnode/{}.csv\".format(x), index_col='Date')\n",
    "    \n",
    "#     # Condition - Data Frame Set up or Data Frame Extension\n",
    "#     if counter > 0:\n",
    "        \n",
    "#         # Data Frame Extension - Inner Join\n",
    "#         df_new = df_new.join(df, how='inner')\n",
    "    \n",
    "#     else:\n",
    "#         # Data Frame Setup\n",
    "#         df_new = df\n",
    "    \n",
    "#     # Increase Counter    \n",
    "#     counter +=1\n",
    "\n",
    "# # Store Data Frame Copy in Distribution Data Frame    \n",
    "# df_distribution = df_new.copy()\n",
    "\n",
    "# # Delete Original Data Frame\n",
    "# del df_new\n",
    "\n",
    "# # Change Data Type of Columns to Float\n",
    "# for y in df_distribution.columns:\n",
    "#     try:\n",
    "#         df_distribution[\"{}\".format(y)] = df_distribution[\"{}\".format(y)].str.replace(',','.')\n",
    "#         df_distribution[\"{}\".format(y)] = df_distribution[\"{}\".format(y)].astype(float)\n",
    "#     except:\n",
    "#         pass"
   ]
  },
  {
   "cell_type": "code",
   "execution_count": 48,
   "metadata": {
    "ExecuteTime": {
     "end_time": "2021-01-05T23:12:55.797581Z",
     "start_time": "2021-01-05T23:12:55.783208Z"
    }
   },
   "outputs": [],
   "source": [
    "# # Latest Distribution Metric Values\n",
    "# df_distribution.tail()"
   ]
  },
  {
   "cell_type": "markdown",
   "metadata": {},
   "source": [
    "#### Fee Metric CSV-Files"
   ]
  },
  {
   "cell_type": "code",
   "execution_count": 49,
   "metadata": {
    "ExecuteTime": {
     "end_time": "2021-01-05T23:12:55.952571Z",
     "start_time": "2021-01-05T23:12:55.800179Z"
    }
   },
   "outputs": [],
   "source": [
    "# List of Fee Features\n",
    "fees_feature_list = ['volume_sum', 'volume_mean', 'fee_ratio_multiple']\n",
    "\n",
    "# Counter to Differentiate between Data Frame Setup and Data Frame Extension\n",
    "counter=0\n",
    "\n",
    "# For Loop through all Features in the List\n",
    "for x in fees_feature_list:\n",
    "    \n",
    "    # Import Feature CSV-Files\n",
    "    df = pd.read_csv(\"Glassnode/{}.csv\".format(x), index_col='Date') #decimal=\".\"\n",
    "    \n",
    "    # Condition - Data Frame Set up or Data Frame Extension\n",
    "    if counter > 0:\n",
    "        \n",
    "        # Data Frame Extension - Inner Join\n",
    "        df_new = df_new.join(df, how='inner')\n",
    "        \n",
    "    else:\n",
    "        \n",
    "        # Data Frame Setup\n",
    "        df_new = df\n",
    "    \n",
    "    # Increase Counter\n",
    "    counter +=1\n",
    "\n",
    "# Store Data Frame Copy in Fees Data Frame    \n",
    "df_fees = df_new.copy()\n",
    "\n",
    "# Delete Original Data Frame\n",
    "del df_new\n",
    "\n",
    "# Change Data Type of Columns to Float\n",
    "for y in df_fees.columns:\n",
    "    try:\n",
    "        df_fees[\"{}\".format(y)] = df_fees[\"{}\".format(y)].str.replace(',','.')\n",
    "        df_fees[\"{}\".format(y)] = df_fees[\"{}\".format(y)].astype(float)\n",
    "    except:\n",
    "        pass"
   ]
  },
  {
   "cell_type": "code",
   "execution_count": 50,
   "metadata": {
    "ExecuteTime": {
     "end_time": "2021-01-05T23:12:55.967934Z",
     "start_time": "2021-01-05T23:12:55.953937Z"
    }
   },
   "outputs": [
    {
     "data": {
      "text/html": [
       "<div>\n",
       "<style scoped>\n",
       "    .dataframe tbody tr th:only-of-type {\n",
       "        vertical-align: middle;\n",
       "    }\n",
       "\n",
       "    .dataframe tbody tr th {\n",
       "        vertical-align: top;\n",
       "    }\n",
       "\n",
       "    .dataframe thead th {\n",
       "        text-align: right;\n",
       "    }\n",
       "</style>\n",
       "<table border=\"1\" class=\"dataframe\">\n",
       "  <thead>\n",
       "    <tr style=\"text-align: right;\">\n",
       "      <th></th>\n",
       "      <th>fees/volume_sum</th>\n",
       "      <th>fees/volume_mean</th>\n",
       "      <th>fees/fee_ratio_multiple</th>\n",
       "    </tr>\n",
       "    <tr>\n",
       "      <th>Date</th>\n",
       "      <th></th>\n",
       "      <th></th>\n",
       "      <th></th>\n",
       "    </tr>\n",
       "  </thead>\n",
       "  <tbody>\n",
       "    <tr>\n",
       "      <th>2020-12-25</th>\n",
       "      <td>92.484946</td>\n",
       "      <td>0.000304</td>\n",
       "      <td>10.731313</td>\n",
       "    </tr>\n",
       "    <tr>\n",
       "      <th>2020-12-26</th>\n",
       "      <td>69.643227</td>\n",
       "      <td>0.000254</td>\n",
       "      <td>13.294806</td>\n",
       "    </tr>\n",
       "    <tr>\n",
       "      <th>2020-12-27</th>\n",
       "      <td>91.993297</td>\n",
       "      <td>0.000298</td>\n",
       "      <td>11.055080</td>\n",
       "    </tr>\n",
       "    <tr>\n",
       "      <th>2020-12-28</th>\n",
       "      <td>99.540067</td>\n",
       "      <td>0.000322</td>\n",
       "      <td>11.046206</td>\n",
       "    </tr>\n",
       "    <tr>\n",
       "      <th>2020-12-29</th>\n",
       "      <td>105.852910</td>\n",
       "      <td>0.000315</td>\n",
       "      <td>9.974718</td>\n",
       "    </tr>\n",
       "  </tbody>\n",
       "</table>\n",
       "</div>"
      ],
      "text/plain": [
       "            fees/volume_sum  fees/volume_mean  fees/fee_ratio_multiple\n",
       "Date                                                                  \n",
       "2020-12-25        92.484946          0.000304                10.731313\n",
       "2020-12-26        69.643227          0.000254                13.294806\n",
       "2020-12-27        91.993297          0.000298                11.055080\n",
       "2020-12-28        99.540067          0.000322                11.046206\n",
       "2020-12-29       105.852910          0.000315                 9.974718"
      ]
     },
     "execution_count": 50,
     "metadata": {},
     "output_type": "execute_result"
    }
   ],
   "source": [
    "# Latest Fee Metric Values\n",
    "df_fees.tail()"
   ]
  },
  {
   "cell_type": "markdown",
   "metadata": {},
   "source": [
    "#### UTXO Metric CSV-Files"
   ]
  },
  {
   "cell_type": "code",
   "execution_count": 51,
   "metadata": {
    "ExecuteTime": {
     "end_time": "2021-01-05T23:12:56.123692Z",
     "start_time": "2021-01-05T23:12:55.969894Z"
    }
   },
   "outputs": [],
   "source": [
    "# List of UTXO Features\n",
    "utxo_feature_list = ['utxo_created_count', 'utxo_spent_count','utxo_created_value_sum', 'utxo_spent_value_sum', 'utxo_profit_relative', 'utxo_profit_count', 'utxo_loss_count']\n",
    "\n",
    "# Counter to Differentiate between Data Frame Setup and Data Frame Extension\n",
    "counter=0\n",
    "\n",
    "# For Loop through all Features in the List\n",
    "for x in utxo_feature_list:\n",
    "    \n",
    "    # Import Feature CSV-Files\n",
    "    df = pd.read_csv(\"Glassnode/{}.csv\".format(x), index_col='Date', ) #decimal=\".\"\n",
    "    \n",
    "    # Condition - Data Frame Set up or Data Frame Extension\n",
    "    if counter > 0:\n",
    "        \n",
    "        # Data Frame Extension - Inner Join\n",
    "        df_new = df_new.join(df, how='inner')\n",
    "    \n",
    "    else:\n",
    "        \n",
    "        # Data Frame Setup\n",
    "        df_new = df\n",
    "\n",
    "    # Increase Counter\n",
    "    counter +=1\n",
    "\n",
    "# Store Data Frame Copy in UTXO Data Frame\n",
    "df_utxo = df_new.copy()\n",
    "\n",
    "# Delete Original Data Frame\n",
    "del df_new\n",
    "\n",
    "# Change Data Type of Columns to Float\n",
    "for y in df_utxo.columns:\n",
    "    try:\n",
    "        df_utxo[\"{}\".format(y)] = df_utxo[\"{}\".format(y)].str.replace(',','.')\n",
    "        df_utxo[\"{}\".format(y)] = df_utxo[\"{}\".format(y)].astype(float)\n",
    "    except:\n",
    "        pass"
   ]
  },
  {
   "cell_type": "code",
   "execution_count": 52,
   "metadata": {
    "ExecuteTime": {
     "end_time": "2021-01-05T23:12:56.139689Z",
     "start_time": "2021-01-05T23:12:56.125654Z"
    }
   },
   "outputs": [
    {
     "data": {
      "text/html": [
       "<div>\n",
       "<style scoped>\n",
       "    .dataframe tbody tr th:only-of-type {\n",
       "        vertical-align: middle;\n",
       "    }\n",
       "\n",
       "    .dataframe tbody tr th {\n",
       "        vertical-align: top;\n",
       "    }\n",
       "\n",
       "    .dataframe thead th {\n",
       "        text-align: right;\n",
       "    }\n",
       "</style>\n",
       "<table border=\"1\" class=\"dataframe\">\n",
       "  <thead>\n",
       "    <tr style=\"text-align: right;\">\n",
       "      <th></th>\n",
       "      <th>blockchain/utxo_created_count</th>\n",
       "      <th>blockchain/utxo_spent_count</th>\n",
       "      <th>blockchain/utxo_created_value_sum</th>\n",
       "      <th>blockchain/utxo_spent_value_sum</th>\n",
       "      <th>blockchain/utxo_profit_relative</th>\n",
       "      <th>blockchain/utxo_profit_count</th>\n",
       "      <th>blockchain/utxo_loss_count</th>\n",
       "    </tr>\n",
       "    <tr>\n",
       "      <th>Date</th>\n",
       "      <th></th>\n",
       "      <th></th>\n",
       "      <th></th>\n",
       "      <th></th>\n",
       "      <th></th>\n",
       "      <th></th>\n",
       "      <th></th>\n",
       "    </tr>\n",
       "  </thead>\n",
       "  <tbody>\n",
       "    <tr>\n",
       "      <th>2020-12-25</th>\n",
       "      <td>847493.000000</td>\n",
       "      <td>901673.000000</td>\n",
       "      <td>2043474.790273</td>\n",
       "      <td>2042574.790273</td>\n",
       "      <td>0.999961</td>\n",
       "      <td>115850112.000000</td>\n",
       "      <td>4486.000000</td>\n",
       "    </tr>\n",
       "    <tr>\n",
       "      <th>2020-12-26</th>\n",
       "      <td>795770.000000</td>\n",
       "      <td>863067.000000</td>\n",
       "      <td>2013537.272122</td>\n",
       "      <td>2012681.022122</td>\n",
       "      <td>0.999491</td>\n",
       "      <td>115728359.000000</td>\n",
       "      <td>58942.000000</td>\n",
       "    </tr>\n",
       "    <tr>\n",
       "      <th>2020-12-27</th>\n",
       "      <td>879278.000000</td>\n",
       "      <td>928647.000000</td>\n",
       "      <td>2514614.697649</td>\n",
       "      <td>2513689.697649</td>\n",
       "      <td>0.995529</td>\n",
       "      <td>115220416.000000</td>\n",
       "      <td>512678.000000</td>\n",
       "    </tr>\n",
       "    <tr>\n",
       "      <th>2020-12-28</th>\n",
       "      <td>909933.000000</td>\n",
       "      <td>1004976.000000</td>\n",
       "      <td>1980852.007461</td>\n",
       "      <td>1979852.007461</td>\n",
       "      <td>0.997228</td>\n",
       "      <td>115322365.000000</td>\n",
       "      <td>320524.000000</td>\n",
       "    </tr>\n",
       "    <tr>\n",
       "      <th>2020-12-29</th>\n",
       "      <td>982939.000000</td>\n",
       "      <td>928787.000000</td>\n",
       "      <td>1845946.881812</td>\n",
       "      <td>1844996.881812</td>\n",
       "      <td>0.999084</td>\n",
       "      <td>115591044.000000</td>\n",
       "      <td>101319.000000</td>\n",
       "    </tr>\n",
       "  </tbody>\n",
       "</table>\n",
       "</div>"
      ],
      "text/plain": [
       "            blockchain/utxo_created_count  blockchain/utxo_spent_count  \\\n",
       "Date                                                                     \n",
       "2020-12-25                  847493.000000                901673.000000   \n",
       "2020-12-26                  795770.000000                863067.000000   \n",
       "2020-12-27                  879278.000000                928647.000000   \n",
       "2020-12-28                  909933.000000               1004976.000000   \n",
       "2020-12-29                  982939.000000                928787.000000   \n",
       "\n",
       "            blockchain/utxo_created_value_sum  \\\n",
       "Date                                            \n",
       "2020-12-25                     2043474.790273   \n",
       "2020-12-26                     2013537.272122   \n",
       "2020-12-27                     2514614.697649   \n",
       "2020-12-28                     1980852.007461   \n",
       "2020-12-29                     1845946.881812   \n",
       "\n",
       "            blockchain/utxo_spent_value_sum  blockchain/utxo_profit_relative  \\\n",
       "Date                                                                           \n",
       "2020-12-25                   2042574.790273                         0.999961   \n",
       "2020-12-26                   2012681.022122                         0.999491   \n",
       "2020-12-27                   2513689.697649                         0.995529   \n",
       "2020-12-28                   1979852.007461                         0.997228   \n",
       "2020-12-29                   1844996.881812                         0.999084   \n",
       "\n",
       "            blockchain/utxo_profit_count  blockchain/utxo_loss_count  \n",
       "Date                                                                  \n",
       "2020-12-25              115850112.000000                 4486.000000  \n",
       "2020-12-26              115728359.000000                58942.000000  \n",
       "2020-12-27              115220416.000000               512678.000000  \n",
       "2020-12-28              115322365.000000               320524.000000  \n",
       "2020-12-29              115591044.000000               101319.000000  "
      ]
     },
     "execution_count": 52,
     "metadata": {},
     "output_type": "execute_result"
    }
   ],
   "source": [
    "# Latest UTXO Metric Values\n",
    "df_utxo.tail()"
   ]
  },
  {
   "cell_type": "markdown",
   "metadata": {},
   "source": [
    "#### Supply Metric CSV-Files"
   ]
  },
  {
   "cell_type": "code",
   "execution_count": 53,
   "metadata": {
    "ExecuteTime": {
     "end_time": "2021-01-05T23:12:56.718567Z",
     "start_time": "2021-01-05T23:12:56.140689Z"
    }
   },
   "outputs": [],
   "source": [
    "# List of Supply Features\n",
    "supply_feature_list = ['current','profit_relative', 'profit_sum', 'loss_sum', 'active_more_1y_percent', 'active_more_2y_percent', 'active_more_3y_percent', 'active_more_5y_percent', 'active_24h', 'active_1d_1w', 'active_1w_1m', 'active_1m_3m', 'active_3m_6m', 'active_6m_12m', 'active_1y_2y', 'active_2y_3y', 'active_3y_5y', 'active_5y_7y', 'active_7y_10y', 'active_more_10y', 'issued', 'inflation_rate']\n",
    "\n",
    "# Counter to Differentiate between Data Frame Setup and Data Frame Extension\n",
    "counter=0\n",
    "\n",
    "# For Loop through all Features in the List\n",
    "for x in supply_feature_list:\n",
    "    \n",
    "    # Import Feature CSV-Files\n",
    "    df = pd.read_csv(\"Glassnode/{}.csv\".format(x), index_col='Date', ) #decimal=\".\"\n",
    "    \n",
    "    # Condition - Data Frame Set up or Data Frame Extension\n",
    "    if counter > 0:\n",
    "        \n",
    "        # Data Frame Extension - Inner Join\n",
    "        df_new = df_new.join(df, how='inner')\n",
    "    \n",
    "    else:\n",
    "        \n",
    "        # Data Frame Setup\n",
    "        df_new = df\n",
    "    \n",
    "    # Increase Counter\n",
    "    counter +=1\n",
    "\n",
    "# Store Data Frame Copy in Supply Data Frame    \n",
    "df_supply = df_new.copy()\n",
    "\n",
    "# Delete Original Data Frame\n",
    "del df_new\n",
    "\n",
    "# Change Data Type of Columns to Float\n",
    "for y in df_supply.columns:\n",
    "    try:\n",
    "        df_supply[\"{}\".format(y)] = df_supply[\"{}\".format(y)].str.replace(',','.')\n",
    "        df_supply[\"{}\".format(y)] = df_supply[\"{}\".format(y)].astype(float)\n",
    "    except:\n",
    "        pass"
   ]
  },
  {
   "cell_type": "code",
   "execution_count": 54,
   "metadata": {
    "ExecuteTime": {
     "end_time": "2021-01-05T23:12:56.749698Z",
     "start_time": "2021-01-05T23:12:56.719525Z"
    }
   },
   "outputs": [
    {
     "data": {
      "text/html": [
       "<div>\n",
       "<style scoped>\n",
       "    .dataframe tbody tr th:only-of-type {\n",
       "        vertical-align: middle;\n",
       "    }\n",
       "\n",
       "    .dataframe tbody tr th {\n",
       "        vertical-align: top;\n",
       "    }\n",
       "\n",
       "    .dataframe thead th {\n",
       "        text-align: right;\n",
       "    }\n",
       "</style>\n",
       "<table border=\"1\" class=\"dataframe\">\n",
       "  <thead>\n",
       "    <tr style=\"text-align: right;\">\n",
       "      <th></th>\n",
       "      <th>supply/current</th>\n",
       "      <th>supply/profit_relative</th>\n",
       "      <th>supply/profit_sum</th>\n",
       "      <th>supply/loss_sum</th>\n",
       "      <th>supply/active_more_1y_percent</th>\n",
       "      <th>supply/active_more_2y_percent</th>\n",
       "      <th>supply/active_more_3y_percent</th>\n",
       "      <th>supply/active_more_5y_percent</th>\n",
       "      <th>supply/active_24h</th>\n",
       "      <th>supply/active_1d_1w</th>\n",
       "      <th>...</th>\n",
       "      <th>supply/active_3m_6m</th>\n",
       "      <th>supply/active_6m_12m</th>\n",
       "      <th>supply/active_1y_2y</th>\n",
       "      <th>supply/active_2y_3y</th>\n",
       "      <th>supply/active_3y_5y</th>\n",
       "      <th>supply/active_5y_7y</th>\n",
       "      <th>supply/active_7y_10y</th>\n",
       "      <th>supply/active_more_10y</th>\n",
       "      <th>supply/issued</th>\n",
       "      <th>supply/inflation_rate</th>\n",
       "    </tr>\n",
       "    <tr>\n",
       "      <th>Date</th>\n",
       "      <th></th>\n",
       "      <th></th>\n",
       "      <th></th>\n",
       "      <th></th>\n",
       "      <th></th>\n",
       "      <th></th>\n",
       "      <th></th>\n",
       "      <th></th>\n",
       "      <th></th>\n",
       "      <th></th>\n",
       "      <th></th>\n",
       "      <th></th>\n",
       "      <th></th>\n",
       "      <th></th>\n",
       "      <th></th>\n",
       "      <th></th>\n",
       "      <th></th>\n",
       "      <th></th>\n",
       "      <th></th>\n",
       "      <th></th>\n",
       "      <th></th>\n",
       "    </tr>\n",
       "  </thead>\n",
       "  <tbody>\n",
       "    <tr>\n",
       "      <th>2020-12-25</th>\n",
       "      <td>18581112.500000</td>\n",
       "      <td>0.999060</td>\n",
       "      <td>18550682.864399</td>\n",
       "      <td>17459.231099</td>\n",
       "      <td>0.596005</td>\n",
       "      <td>0.472420</td>\n",
       "      <td>0.338620</td>\n",
       "      <td>0.219090</td>\n",
       "      <td>160312.628412</td>\n",
       "      <td>935645.655444</td>\n",
       "      <td>...</td>\n",
       "      <td>1193118.529370</td>\n",
       "      <td>1682577.421704</td>\n",
       "      <td>2296346.525161</td>\n",
       "      <td>2486168.540529</td>\n",
       "      <td>2220997.771787</td>\n",
       "      <td>795663.645221</td>\n",
       "      <td>1412964.450601</td>\n",
       "      <td>1862302.720039</td>\n",
       "      <td>900.000000</td>\n",
       "      <td>0.017836</td>\n",
       "    </tr>\n",
       "    <tr>\n",
       "      <th>2020-12-26</th>\n",
       "      <td>18581968.750000</td>\n",
       "      <td>0.998221</td>\n",
       "      <td>18535955.256937</td>\n",
       "      <td>33043.088561</td>\n",
       "      <td>0.595695</td>\n",
       "      <td>0.472188</td>\n",
       "      <td>0.338818</td>\n",
       "      <td>0.219040</td>\n",
       "      <td>203462.839580</td>\n",
       "      <td>901935.775577</td>\n",
       "      <td>...</td>\n",
       "      <td>1184073.764434</td>\n",
       "      <td>1682796.389856</td>\n",
       "      <td>2295009.952812</td>\n",
       "      <td>2478281.572923</td>\n",
       "      <td>2225699.106010</td>\n",
       "      <td>794756.605631</td>\n",
       "      <td>1412534.697738</td>\n",
       "      <td>1862909.485784</td>\n",
       "      <td>856.250000</td>\n",
       "      <td>0.016961</td>\n",
       "    </tr>\n",
       "    <tr>\n",
       "      <th>2020-12-27</th>\n",
       "      <td>18582893.750000</td>\n",
       "      <td>0.981186</td>\n",
       "      <td>18220550.269596</td>\n",
       "      <td>347279.043184</td>\n",
       "      <td>0.595073</td>\n",
       "      <td>0.471820</td>\n",
       "      <td>0.338973</td>\n",
       "      <td>0.219000</td>\n",
       "      <td>330967.381654</td>\n",
       "      <td>784814.445477</td>\n",
       "      <td>...</td>\n",
       "      <td>1184760.852570</td>\n",
       "      <td>1669322.022131</td>\n",
       "      <td>2290387.358006</td>\n",
       "      <td>2468686.675362</td>\n",
       "      <td>2229440.648420</td>\n",
       "      <td>785751.221451</td>\n",
       "      <td>1421789.336849</td>\n",
       "      <td>1862122.205784</td>\n",
       "      <td>925.000000</td>\n",
       "      <td>0.018334</td>\n",
       "    </tr>\n",
       "    <tr>\n",
       "      <th>2020-12-28</th>\n",
       "      <td>18583893.750000</td>\n",
       "      <td>0.981443</td>\n",
       "      <td>18226294.313033</td>\n",
       "      <td>344629.032466</td>\n",
       "      <td>0.592565</td>\n",
       "      <td>0.471480</td>\n",
       "      <td>0.339267</td>\n",
       "      <td>0.219026</td>\n",
       "      <td>393035.719930</td>\n",
       "      <td>862224.608146</td>\n",
       "      <td>...</td>\n",
       "      <td>1200597.293788</td>\n",
       "      <td>1567603.802235</td>\n",
       "      <td>2250221.728703</td>\n",
       "      <td>2457024.365931</td>\n",
       "      <td>2234561.938275</td>\n",
       "      <td>785683.064885</td>\n",
       "      <td>1422165.797948</td>\n",
       "      <td>1862499.705784</td>\n",
       "      <td>1000.000000</td>\n",
       "      <td>0.019834</td>\n",
       "    </tr>\n",
       "    <tr>\n",
       "      <th>2020-12-29</th>\n",
       "      <td>18584843.750000</td>\n",
       "      <td>0.991553</td>\n",
       "      <td>18414993.930470</td>\n",
       "      <td>148835.867717</td>\n",
       "      <td>0.592057</td>\n",
       "      <td>0.471182</td>\n",
       "      <td>0.339371</td>\n",
       "      <td>0.218995</td>\n",
       "      <td>367692.792983</td>\n",
       "      <td>903325.002323</td>\n",
       "      <td>...</td>\n",
       "      <td>1192113.732084</td>\n",
       "      <td>1555569.523211</td>\n",
       "      <td>2246431.534213</td>\n",
       "      <td>2449702.346384</td>\n",
       "      <td>2237156.358103</td>\n",
       "      <td>777595.049057</td>\n",
       "      <td>1429695.115425</td>\n",
       "      <td>1862703.255784</td>\n",
       "      <td>950.000000</td>\n",
       "      <td>0.018832</td>\n",
       "    </tr>\n",
       "  </tbody>\n",
       "</table>\n",
       "<p>5 rows × 22 columns</p>\n",
       "</div>"
      ],
      "text/plain": [
       "            supply/current  supply/profit_relative  supply/profit_sum  \\\n",
       "Date                                                                    \n",
       "2020-12-25 18581112.500000                0.999060    18550682.864399   \n",
       "2020-12-26 18581968.750000                0.998221    18535955.256937   \n",
       "2020-12-27 18582893.750000                0.981186    18220550.269596   \n",
       "2020-12-28 18583893.750000                0.981443    18226294.313033   \n",
       "2020-12-29 18584843.750000                0.991553    18414993.930470   \n",
       "\n",
       "            supply/loss_sum  supply/active_more_1y_percent  \\\n",
       "Date                                                         \n",
       "2020-12-25     17459.231099                       0.596005   \n",
       "2020-12-26     33043.088561                       0.595695   \n",
       "2020-12-27    347279.043184                       0.595073   \n",
       "2020-12-28    344629.032466                       0.592565   \n",
       "2020-12-29    148835.867717                       0.592057   \n",
       "\n",
       "            supply/active_more_2y_percent  supply/active_more_3y_percent  \\\n",
       "Date                                                                       \n",
       "2020-12-25                       0.472420                       0.338620   \n",
       "2020-12-26                       0.472188                       0.338818   \n",
       "2020-12-27                       0.471820                       0.338973   \n",
       "2020-12-28                       0.471480                       0.339267   \n",
       "2020-12-29                       0.471182                       0.339371   \n",
       "\n",
       "            supply/active_more_5y_percent  supply/active_24h  \\\n",
       "Date                                                           \n",
       "2020-12-25                       0.219090      160312.628412   \n",
       "2020-12-26                       0.219040      203462.839580   \n",
       "2020-12-27                       0.219000      330967.381654   \n",
       "2020-12-28                       0.219026      393035.719930   \n",
       "2020-12-29                       0.218995      367692.792983   \n",
       "\n",
       "            supply/active_1d_1w  ...  supply/active_3m_6m  \\\n",
       "Date                             ...                        \n",
       "2020-12-25        935645.655444  ...       1193118.529370   \n",
       "2020-12-26        901935.775577  ...       1184073.764434   \n",
       "2020-12-27        784814.445477  ...       1184760.852570   \n",
       "2020-12-28        862224.608146  ...       1200597.293788   \n",
       "2020-12-29        903325.002323  ...       1192113.732084   \n",
       "\n",
       "            supply/active_6m_12m  supply/active_1y_2y  supply/active_2y_3y  \\\n",
       "Date                                                                         \n",
       "2020-12-25        1682577.421704       2296346.525161       2486168.540529   \n",
       "2020-12-26        1682796.389856       2295009.952812       2478281.572923   \n",
       "2020-12-27        1669322.022131       2290387.358006       2468686.675362   \n",
       "2020-12-28        1567603.802235       2250221.728703       2457024.365931   \n",
       "2020-12-29        1555569.523211       2246431.534213       2449702.346384   \n",
       "\n",
       "            supply/active_3y_5y  supply/active_5y_7y  supply/active_7y_10y  \\\n",
       "Date                                                                         \n",
       "2020-12-25       2220997.771787        795663.645221        1412964.450601   \n",
       "2020-12-26       2225699.106010        794756.605631        1412534.697738   \n",
       "2020-12-27       2229440.648420        785751.221451        1421789.336849   \n",
       "2020-12-28       2234561.938275        785683.064885        1422165.797948   \n",
       "2020-12-29       2237156.358103        777595.049057        1429695.115425   \n",
       "\n",
       "            supply/active_more_10y  supply/issued  supply/inflation_rate  \n",
       "Date                                                                      \n",
       "2020-12-25          1862302.720039     900.000000               0.017836  \n",
       "2020-12-26          1862909.485784     856.250000               0.016961  \n",
       "2020-12-27          1862122.205784     925.000000               0.018334  \n",
       "2020-12-28          1862499.705784    1000.000000               0.019834  \n",
       "2020-12-29          1862703.255784     950.000000               0.018832  \n",
       "\n",
       "[5 rows x 22 columns]"
      ]
     },
     "execution_count": 54,
     "metadata": {},
     "output_type": "execute_result"
    }
   ],
   "source": [
    "# Latest Supply Metric Values\n",
    "df_supply.tail()"
   ]
  },
  {
   "cell_type": "markdown",
   "metadata": {},
   "source": [
    "#### Transaction Metric CSV-Files"
   ]
  },
  {
   "cell_type": "code",
   "execution_count": 55,
   "metadata": {
    "ExecuteTime": {
     "end_time": "2021-01-05T23:12:56.859805Z",
     "start_time": "2021-01-05T23:12:56.752693Z"
    }
   },
   "outputs": [],
   "source": [
    "# List of Transaction features\n",
    "transaction_feature_list = ['count', 'size_sum','transfers_volume_sum', 'transfers_volume_adjusted_sum']\n",
    "\n",
    "# Counter to Differentiate between Data Frame Setup and Data Frame Extension\n",
    "counter=0\n",
    "\n",
    "# For Loop through all Features in the List\n",
    "for x in transaction_feature_list:\n",
    "    \n",
    "    # Import Feature CSV-Files\n",
    "    df = pd.read_csv(\"Glassnode/{}.csv\".format(x), index_col='Date', ) #decimal=\".\"\n",
    "    \n",
    "    # Condition - Data Frame Set up or Data Frame Extension\n",
    "    if counter > 0:\n",
    "        \n",
    "        # Data Frame Extension - Inner Join\n",
    "        df_new = df_new.join(df, how='inner')\n",
    "    \n",
    "    else:\n",
    "        \n",
    "        # Data Frame Setup\n",
    "        df_new = df\n",
    "    \n",
    "    # Increase Counter\n",
    "    counter +=1\n",
    "\n",
    "# Store Data Frame Copy in Transaction Data Frame\n",
    "df_transaction = df_new.copy()\n",
    "\n",
    "# Delete Original Data Frame\n",
    "del df_new\n",
    "\n",
    "# Change Data Type of Columns to Float\n",
    "for y in df_transaction.columns:\n",
    "    try:\n",
    "        df_transaction[\"{}\".format(y)] = df_transaction[\"{}\".format(y)].str.replace(',','.')\n",
    "        df_transaction[\"{}\".format(y)] = df_transaction[\"{}\".format(y)].astype(float)\n",
    "    except:\n",
    "        pass"
   ]
  },
  {
   "cell_type": "code",
   "execution_count": 56,
   "metadata": {
    "ExecuteTime": {
     "end_time": "2021-01-05T23:12:56.875763Z",
     "start_time": "2021-01-05T23:12:56.861800Z"
    }
   },
   "outputs": [
    {
     "data": {
      "text/html": [
       "<div>\n",
       "<style scoped>\n",
       "    .dataframe tbody tr th:only-of-type {\n",
       "        vertical-align: middle;\n",
       "    }\n",
       "\n",
       "    .dataframe tbody tr th {\n",
       "        vertical-align: top;\n",
       "    }\n",
       "\n",
       "    .dataframe thead th {\n",
       "        text-align: right;\n",
       "    }\n",
       "</style>\n",
       "<table border=\"1\" class=\"dataframe\">\n",
       "  <thead>\n",
       "    <tr style=\"text-align: right;\">\n",
       "      <th></th>\n",
       "      <th>transactions/count</th>\n",
       "      <th>transactions/size_sum</th>\n",
       "      <th>transactions/transfers_volume_sum</th>\n",
       "      <th>transactions/transfers_volume_adjusted_sum</th>\n",
       "    </tr>\n",
       "    <tr>\n",
       "      <th>Date</th>\n",
       "      <th></th>\n",
       "      <th></th>\n",
       "      <th></th>\n",
       "      <th></th>\n",
       "    </tr>\n",
       "  </thead>\n",
       "  <tbody>\n",
       "    <tr>\n",
       "      <th>2020-12-25</th>\n",
       "      <td>303757.000000</td>\n",
       "      <td>185103589.000000</td>\n",
       "      <td>2042482.305327</td>\n",
       "      <td>371194.169582</td>\n",
       "    </tr>\n",
       "    <tr>\n",
       "      <th>2020-12-26</th>\n",
       "      <td>273817.000000</td>\n",
       "      <td>189670059.000000</td>\n",
       "      <td>2012611.378894</td>\n",
       "      <td>435542.248384</td>\n",
       "    </tr>\n",
       "    <tr>\n",
       "      <th>2020-12-27</th>\n",
       "      <td>308857.000000</td>\n",
       "      <td>192926371.000000</td>\n",
       "      <td>2513597.704352</td>\n",
       "      <td>544128.935203</td>\n",
       "    </tr>\n",
       "    <tr>\n",
       "      <th>2020-12-28</th>\n",
       "      <td>308823.000000</td>\n",
       "      <td>207395711.000000</td>\n",
       "      <td>1979752.467394</td>\n",
       "      <td>693120.074529</td>\n",
       "    </tr>\n",
       "    <tr>\n",
       "      <th>2020-12-29</th>\n",
       "      <td>336159.000000</td>\n",
       "      <td>193987680.000000</td>\n",
       "      <td>1844891.028901</td>\n",
       "      <td>704627.529006</td>\n",
       "    </tr>\n",
       "  </tbody>\n",
       "</table>\n",
       "</div>"
      ],
      "text/plain": [
       "            transactions/count  transactions/size_sum  \\\n",
       "Date                                                    \n",
       "2020-12-25       303757.000000       185103589.000000   \n",
       "2020-12-26       273817.000000       189670059.000000   \n",
       "2020-12-27       308857.000000       192926371.000000   \n",
       "2020-12-28       308823.000000       207395711.000000   \n",
       "2020-12-29       336159.000000       193987680.000000   \n",
       "\n",
       "            transactions/transfers_volume_sum  \\\n",
       "Date                                            \n",
       "2020-12-25                     2042482.305327   \n",
       "2020-12-26                     2012611.378894   \n",
       "2020-12-27                     2513597.704352   \n",
       "2020-12-28                     1979752.467394   \n",
       "2020-12-29                     1844891.028901   \n",
       "\n",
       "            transactions/transfers_volume_adjusted_sum  \n",
       "Date                                                    \n",
       "2020-12-25                               371194.169582  \n",
       "2020-12-26                               435542.248384  \n",
       "2020-12-27                               544128.935203  \n",
       "2020-12-28                               693120.074529  \n",
       "2020-12-29                               704627.529006  "
      ]
     },
     "execution_count": 56,
     "metadata": {},
     "output_type": "execute_result"
    }
   ],
   "source": [
    "# Latest Transaction Metric Values\n",
    "df_transaction.tail()"
   ]
  },
  {
   "cell_type": "markdown",
   "metadata": {},
   "source": [
    "#### Exchange Metrics CSV-Files"
   ]
  },
  {
   "cell_type": "code",
   "execution_count": 57,
   "metadata": {
    "ExecuteTime": {
     "end_time": "2021-01-05T23:12:56.891801Z",
     "start_time": "2021-01-05T23:12:56.877757Z"
    }
   },
   "outputs": [],
   "source": [
    "# # List of Exchange Features\n",
    "# exchange_feature_list = ['transfers_volume_to_exchanges_sum', 'transfers_volume_from_exchanges_sum', 'transfers_to_exchanges_count', \n",
    "#                          'transfers_from_exchanges_count', 'balance_exchanges', 'transfers_volume_exchanges_net']\n",
    "\n",
    "# # Counter to Differentiate between Data Frame Setup and Data Frame Extension\n",
    "# counter=0\n",
    "\n",
    "# # For Loop through all Features in the List\n",
    "# for x in exchange_feature_list:\n",
    "    \n",
    "#     # Import Feature CSV-Files\n",
    "#     df = pd.read_csv(\"Glassnode/{}.csv\".format(x), index_col='Date', ) #decimal=\".\"\n",
    "    \n",
    "#     # Condition - Data Frame Set up or Data Frame Extension\n",
    "#     if counter > 0:\n",
    "        \n",
    "#         # Data Frame Extension - Inner Join\n",
    "#         df_new = df_new.join(df, how='inner')\n",
    "    \n",
    "#     else:\n",
    "        \n",
    "#         # Data Frame Setup\n",
    "#         df_new = df\n",
    "    \n",
    "#     # Increase Counter\n",
    "#     counter +=1\n",
    "\n",
    "# # Store Data Frame Copy in Exchange Data Frame    \n",
    "# df_exchange = df_new.copy()\n",
    "\n",
    "# # Delete Original Data Frame\n",
    "# del df_new\n",
    "\n",
    "# # Change Data Type of Columns to Float\n",
    "# for y in df_exchange.columns:\n",
    "#     try:\n",
    "#         df_exchange[\"{}\".format(y)] = df_exchange[\"{}\".format(y)].str.replace(',','.')\n",
    "#         df_exchange[\"{}\".format(y)] = df_exchange[\"{}\".format(y)].astype(float)\n",
    "#     except:\n",
    "#         pass"
   ]
  },
  {
   "cell_type": "code",
   "execution_count": 58,
   "metadata": {
    "ExecuteTime": {
     "end_time": "2021-01-05T23:12:56.907757Z",
     "start_time": "2021-01-05T23:12:56.893794Z"
    }
   },
   "outputs": [],
   "source": [
    "# # Latest Exchange Metric Values\n",
    "# df_exchange.tail()"
   ]
  },
  {
   "cell_type": "markdown",
   "metadata": {},
   "source": [
    "#### Indicator-1 Metric CSV-Files"
   ]
  },
  {
   "cell_type": "code",
   "execution_count": 59,
   "metadata": {
    "ExecuteTime": {
     "end_time": "2021-01-05T23:12:57.142409Z",
     "start_time": "2021-01-05T23:12:56.909752Z"
    }
   },
   "outputs": [],
   "source": [
    "# List of Indicator-1 features\n",
    "indicator1_feature_list = ['sopr_adjusted', 'nvt', 'velocity', 'cdd','reserve_risk', 'average_dormancy', 'liveliness'] \n",
    "\n",
    "# Counter to Differentiate between Data Frame Setup and Data Frame Extension\n",
    "counter=0\n",
    "\n",
    "# For Loop through all Features in the List\n",
    "for x in indicator1_feature_list:\n",
    "    \n",
    "    # Import Feature CSV-Files\n",
    "    df = pd.read_csv(\"Glassnode/{}.csv\".format(x), index_col='Date', ) #decimal=\".\"\n",
    "    \n",
    "    # Condition - Data Frame Set up or Data Frame Extension\n",
    "    if counter > 0:\n",
    "        \n",
    "        # Data Frame Extension - Inner Join\n",
    "        df_new = df_new.join(df, how='inner')\n",
    "    \n",
    "    else:\n",
    "        \n",
    "        # Data Frame Setup\n",
    "        df_new = df\n",
    "    \n",
    "    # Increase Counter\n",
    "    counter +=1\n",
    "\n",
    "# Store Data Frame Copy in Indicator-1 Data Frame    \n",
    "df_indicator1 = df_new.copy()\n",
    "\n",
    "# Delete Original Data Frame\n",
    "del df_new\n",
    "\n",
    "# Change Data Type of Columns to Float\n",
    "for y in df_indicator1.columns:\n",
    "    try:\n",
    "        df_indicator1[\"{}\".format(y)] = df_indicator1[\"{}\".format(y)].str.replace(',','.')\n",
    "        df_indicator1[\"{}\".format(y)] = df_indicator1[\"{}\".format(y)].astype(float)\n",
    "    except:\n",
    "        pass"
   ]
  },
  {
   "cell_type": "code",
   "execution_count": 60,
   "metadata": {
    "ExecuteTime": {
     "end_time": "2021-01-05T23:12:57.172666Z",
     "start_time": "2021-01-05T23:12:57.144884Z"
    }
   },
   "outputs": [
    {
     "data": {
      "text/html": [
       "<div>\n",
       "<style scoped>\n",
       "    .dataframe tbody tr th:only-of-type {\n",
       "        vertical-align: middle;\n",
       "    }\n",
       "\n",
       "    .dataframe tbody tr th {\n",
       "        vertical-align: top;\n",
       "    }\n",
       "\n",
       "    .dataframe thead th {\n",
       "        text-align: right;\n",
       "    }\n",
       "</style>\n",
       "<table border=\"1\" class=\"dataframe\">\n",
       "  <thead>\n",
       "    <tr style=\"text-align: right;\">\n",
       "      <th></th>\n",
       "      <th>indicators/sopr_adjusted</th>\n",
       "      <th>indicators/nvt</th>\n",
       "      <th>indicators/velocity</th>\n",
       "      <th>indicators/cdd</th>\n",
       "      <th>indicators/reserve_risk</th>\n",
       "      <th>indicators/average_dormancy</th>\n",
       "      <th>indicators/liveliness</th>\n",
       "    </tr>\n",
       "    <tr>\n",
       "      <th>Date</th>\n",
       "      <th></th>\n",
       "      <th></th>\n",
       "      <th></th>\n",
       "      <th></th>\n",
       "      <th></th>\n",
       "      <th></th>\n",
       "      <th></th>\n",
       "    </tr>\n",
       "  </thead>\n",
       "  <tbody>\n",
       "    <tr>\n",
       "      <th>2020-12-25</th>\n",
       "      <td>1.056374</td>\n",
       "      <td>50.057663</td>\n",
       "      <td>0.019977</td>\n",
       "      <td>6679495.056003</td>\n",
       "      <td>0.003787</td>\n",
       "      <td>17.994612</td>\n",
       "      <td>0.608377</td>\n",
       "    </tr>\n",
       "    <tr>\n",
       "      <th>2020-12-26</th>\n",
       "      <td>1.116886</td>\n",
       "      <td>42.663987</td>\n",
       "      <td>0.023439</td>\n",
       "      <td>14214785.183155</td>\n",
       "      <td>0.003977</td>\n",
       "      <td>32.636984</td>\n",
       "      <td>0.608333</td>\n",
       "    </tr>\n",
       "    <tr>\n",
       "      <th>2020-12-27</th>\n",
       "      <td>1.160415</td>\n",
       "      <td>34.151637</td>\n",
       "      <td>0.029281</td>\n",
       "      <td>22942746.153958</td>\n",
       "      <td>0.004252</td>\n",
       "      <td>42.164172</td>\n",
       "      <td>0.608554</td>\n",
       "    </tr>\n",
       "    <tr>\n",
       "      <th>2020-12-28</th>\n",
       "      <td>1.308332</td>\n",
       "      <td>26.811940</td>\n",
       "      <td>0.037297</td>\n",
       "      <td>60422253.822521</td>\n",
       "      <td>0.004235</td>\n",
       "      <td>87.174295</td>\n",
       "      <td>0.608781</td>\n",
       "    </tr>\n",
       "    <tr>\n",
       "      <th>2020-12-29</th>\n",
       "      <td>1.180687</td>\n",
       "      <td>26.375415</td>\n",
       "      <td>0.037914</td>\n",
       "      <td>24006308.482487</td>\n",
       "      <td>0.004186</td>\n",
       "      <td>34.069501</td>\n",
       "      <td>0.609575</td>\n",
       "    </tr>\n",
       "  </tbody>\n",
       "</table>\n",
       "</div>"
      ],
      "text/plain": [
       "            indicators/sopr_adjusted  indicators/nvt  indicators/velocity  \\\n",
       "Date                                                                        \n",
       "2020-12-25                  1.056374       50.057663             0.019977   \n",
       "2020-12-26                  1.116886       42.663987             0.023439   \n",
       "2020-12-27                  1.160415       34.151637             0.029281   \n",
       "2020-12-28                  1.308332       26.811940             0.037297   \n",
       "2020-12-29                  1.180687       26.375415             0.037914   \n",
       "\n",
       "            indicators/cdd  indicators/reserve_risk  \\\n",
       "Date                                                  \n",
       "2020-12-25  6679495.056003                 0.003787   \n",
       "2020-12-26 14214785.183155                 0.003977   \n",
       "2020-12-27 22942746.153958                 0.004252   \n",
       "2020-12-28 60422253.822521                 0.004235   \n",
       "2020-12-29 24006308.482487                 0.004186   \n",
       "\n",
       "            indicators/average_dormancy  indicators/liveliness  \n",
       "Date                                                            \n",
       "2020-12-25                    17.994612               0.608377  \n",
       "2020-12-26                    32.636984               0.608333  \n",
       "2020-12-27                    42.164172               0.608554  \n",
       "2020-12-28                    87.174295               0.608781  \n",
       "2020-12-29                    34.069501               0.609575  "
      ]
     },
     "execution_count": 60,
     "metadata": {},
     "output_type": "execute_result"
    }
   ],
   "source": [
    "# Latest Indicator-1 Metric Values\n",
    "df_indicator1.tail()"
   ]
  },
  {
   "cell_type": "markdown",
   "metadata": {},
   "source": [
    "#### Indicator-2 Metrics CSV-Files"
   ]
  },
  {
   "cell_type": "code",
   "execution_count": 61,
   "metadata": {
    "ExecuteTime": {
     "end_time": "2021-01-05T23:12:57.547335Z",
     "start_time": "2021-01-05T23:12:57.175387Z"
    }
   },
   "outputs": [],
   "source": [
    "# List of Indicator-2 Features\n",
    "indicator2_feature_list = ['asol', 'sol_1h', 'sol_1h_24h', 'sol_1d_1w','sol_1w_1m', 'sol_1m_3m', 'sol_3m_6m', 'sol_6m_12m','sol_1y_2y', 'sol_2y_3y', 'sol_3y_5y', 'sol_5y_7y', 'sol_7y_10y']\n",
    "\n",
    "# Counter to Differentiate between Data Frame Setup and Data Frame Extension\n",
    "counter=0\n",
    "\n",
    "# For Loop through all Features in the List\n",
    "for x in indicator2_feature_list:\n",
    "    \n",
    "    # Import Feature CSV-Files\n",
    "    df = pd.read_csv(\"Glassnode/{}.csv\".format(x), index_col='Date')\n",
    "    \n",
    "    # Condition - Data Frame Set up or Data Frame Extension\n",
    "    if counter > 0:\n",
    "        \n",
    "        # Data Frame Extension - Inner Join\n",
    "        df_new = df_new.join(df, how='inner')\n",
    "    \n",
    "    else:\n",
    "        \n",
    "        # Data Frame Setup\n",
    "        df_new = df\n",
    "    \n",
    "    # Increase Counter\n",
    "    counter +=1\n",
    "\n",
    "# Store Data Frame Copy in Indicator-2 Data Frame\n",
    "df_indicator2 = df_new.copy()\n",
    "\n",
    "# Delete Original Data Frame\n",
    "del df_new\n",
    "\n",
    "# Change Data Type of Columns to Float\n",
    "for y in df_indicator2.columns:\n",
    "    try:\n",
    "        df_indicator2[\"{}\".format(y)] = df_indicator2[\"{}\".format(y)].str.replace(',','.')\n",
    "        df_indicator2[\"{}\".format(y)] = df_indicator2[\"{}\".format(y)].astype(float)\n",
    "    except:\n",
    "        pass"
   ]
  },
  {
   "cell_type": "code",
   "execution_count": 62,
   "metadata": {
    "ExecuteTime": {
     "end_time": "2021-01-05T23:12:57.562577Z",
     "start_time": "2021-01-05T23:12:57.549330Z"
    }
   },
   "outputs": [
    {
     "data": {
      "text/html": [
       "<div>\n",
       "<style scoped>\n",
       "    .dataframe tbody tr th:only-of-type {\n",
       "        vertical-align: middle;\n",
       "    }\n",
       "\n",
       "    .dataframe tbody tr th {\n",
       "        vertical-align: top;\n",
       "    }\n",
       "\n",
       "    .dataframe thead th {\n",
       "        text-align: right;\n",
       "    }\n",
       "</style>\n",
       "<table border=\"1\" class=\"dataframe\">\n",
       "  <thead>\n",
       "    <tr style=\"text-align: right;\">\n",
       "      <th></th>\n",
       "      <th>indicators/asol</th>\n",
       "      <th>indicators/sol_1h</th>\n",
       "      <th>indicators/sol_1h_24h</th>\n",
       "      <th>indicators/sol_1d_1w</th>\n",
       "      <th>indicators/sol_1w_1m</th>\n",
       "      <th>indicators/sol_1m_3m</th>\n",
       "      <th>indicators/sol_3m_6m</th>\n",
       "      <th>indicators/sol_6m_12m</th>\n",
       "      <th>indicators/sol_1y_2y</th>\n",
       "      <th>indicators/sol_2y_3y</th>\n",
       "      <th>indicators/sol_3y_5y</th>\n",
       "      <th>indicators/sol_5y_7y</th>\n",
       "      <th>indicators/sol_7y_10y</th>\n",
       "    </tr>\n",
       "    <tr>\n",
       "      <th>Date</th>\n",
       "      <th></th>\n",
       "      <th></th>\n",
       "      <th></th>\n",
       "      <th></th>\n",
       "      <th></th>\n",
       "      <th></th>\n",
       "      <th></th>\n",
       "      <th></th>\n",
       "      <th></th>\n",
       "      <th></th>\n",
       "      <th></th>\n",
       "      <th></th>\n",
       "      <th></th>\n",
       "    </tr>\n",
       "  </thead>\n",
       "  <tbody>\n",
       "    <tr>\n",
       "      <th>2020-12-25</th>\n",
       "      <td>44.243999</td>\n",
       "      <td>175545.000000</td>\n",
       "      <td>331966.000000</td>\n",
       "      <td>221714.000000</td>\n",
       "      <td>80389.000000</td>\n",
       "      <td>39332.000000</td>\n",
       "      <td>16812.000000</td>\n",
       "      <td>10970.000000</td>\n",
       "      <td>10595.000000</td>\n",
       "      <td>8122.000000</td>\n",
       "      <td>4315.000000</td>\n",
       "      <td>1634.000000</td>\n",
       "      <td>278.000000</td>\n",
       "    </tr>\n",
       "    <tr>\n",
       "      <th>2020-12-26</th>\n",
       "      <td>61.127237</td>\n",
       "      <td>166423.000000</td>\n",
       "      <td>263951.000000</td>\n",
       "      <td>190106.000000</td>\n",
       "      <td>110269.000000</td>\n",
       "      <td>58924.000000</td>\n",
       "      <td>22870.000000</td>\n",
       "      <td>16644.000000</td>\n",
       "      <td>15508.000000</td>\n",
       "      <td>10291.000000</td>\n",
       "      <td>6109.000000</td>\n",
       "      <td>1657.000000</td>\n",
       "      <td>315.000000</td>\n",
       "    </tr>\n",
       "    <tr>\n",
       "      <th>2020-12-27</th>\n",
       "      <td>93.701222</td>\n",
       "      <td>180629.000000</td>\n",
       "      <td>294008.000000</td>\n",
       "      <td>164071.000000</td>\n",
       "      <td>127105.000000</td>\n",
       "      <td>53686.000000</td>\n",
       "      <td>25761.000000</td>\n",
       "      <td>22405.000000</td>\n",
       "      <td>25273.000000</td>\n",
       "      <td>20604.000000</td>\n",
       "      <td>11410.000000</td>\n",
       "      <td>2670.000000</td>\n",
       "      <td>1004.000000</td>\n",
       "    </tr>\n",
       "    <tr>\n",
       "      <th>2020-12-28</th>\n",
       "      <td>65.377763</td>\n",
       "      <td>193535.000000</td>\n",
       "      <td>291430.000000</td>\n",
       "      <td>188939.000000</td>\n",
       "      <td>150587.000000</td>\n",
       "      <td>67193.000000</td>\n",
       "      <td>46330.000000</td>\n",
       "      <td>28454.000000</td>\n",
       "      <td>17133.000000</td>\n",
       "      <td>12586.000000</td>\n",
       "      <td>6973.000000</td>\n",
       "      <td>1674.000000</td>\n",
       "      <td>142.000000</td>\n",
       "    </tr>\n",
       "    <tr>\n",
       "      <th>2020-12-29</th>\n",
       "      <td>53.604037</td>\n",
       "      <td>192181.000000</td>\n",
       "      <td>356111.000000</td>\n",
       "      <td>154759.000000</td>\n",
       "      <td>104333.000000</td>\n",
       "      <td>56130.000000</td>\n",
       "      <td>16620.000000</td>\n",
       "      <td>12325.000000</td>\n",
       "      <td>20164.000000</td>\n",
       "      <td>9481.000000</td>\n",
       "      <td>5318.000000</td>\n",
       "      <td>1203.000000</td>\n",
       "      <td>162.000000</td>\n",
       "    </tr>\n",
       "  </tbody>\n",
       "</table>\n",
       "</div>"
      ],
      "text/plain": [
       "            indicators/asol  indicators/sol_1h  indicators/sol_1h_24h  \\\n",
       "Date                                                                    \n",
       "2020-12-25        44.243999      175545.000000          331966.000000   \n",
       "2020-12-26        61.127237      166423.000000          263951.000000   \n",
       "2020-12-27        93.701222      180629.000000          294008.000000   \n",
       "2020-12-28        65.377763      193535.000000          291430.000000   \n",
       "2020-12-29        53.604037      192181.000000          356111.000000   \n",
       "\n",
       "            indicators/sol_1d_1w  indicators/sol_1w_1m  indicators/sol_1m_3m  \\\n",
       "Date                                                                           \n",
       "2020-12-25         221714.000000          80389.000000          39332.000000   \n",
       "2020-12-26         190106.000000         110269.000000          58924.000000   \n",
       "2020-12-27         164071.000000         127105.000000          53686.000000   \n",
       "2020-12-28         188939.000000         150587.000000          67193.000000   \n",
       "2020-12-29         154759.000000         104333.000000          56130.000000   \n",
       "\n",
       "            indicators/sol_3m_6m  indicators/sol_6m_12m  indicators/sol_1y_2y  \\\n",
       "Date                                                                            \n",
       "2020-12-25          16812.000000           10970.000000          10595.000000   \n",
       "2020-12-26          22870.000000           16644.000000          15508.000000   \n",
       "2020-12-27          25761.000000           22405.000000          25273.000000   \n",
       "2020-12-28          46330.000000           28454.000000          17133.000000   \n",
       "2020-12-29          16620.000000           12325.000000          20164.000000   \n",
       "\n",
       "            indicators/sol_2y_3y  indicators/sol_3y_5y  indicators/sol_5y_7y  \\\n",
       "Date                                                                           \n",
       "2020-12-25           8122.000000           4315.000000           1634.000000   \n",
       "2020-12-26          10291.000000           6109.000000           1657.000000   \n",
       "2020-12-27          20604.000000          11410.000000           2670.000000   \n",
       "2020-12-28          12586.000000           6973.000000           1674.000000   \n",
       "2020-12-29           9481.000000           5318.000000           1203.000000   \n",
       "\n",
       "            indicators/sol_7y_10y  \n",
       "Date                               \n",
       "2020-12-25             278.000000  \n",
       "2020-12-26             315.000000  \n",
       "2020-12-27            1004.000000  \n",
       "2020-12-28             142.000000  \n",
       "2020-12-29             162.000000  "
      ]
     },
     "execution_count": 62,
     "metadata": {},
     "output_type": "execute_result"
    }
   ],
   "source": [
    "# Latest Indicator-2 Metric Values\n",
    "df_indicator2.tail()"
   ]
  },
  {
   "cell_type": "markdown",
   "metadata": {},
   "source": [
    "#### Indicator-3 Metrics CSV-Files"
   ]
  },
  {
   "cell_type": "code",
   "execution_count": 63,
   "metadata": {
    "ExecuteTime": {
     "end_time": "2021-01-05T23:12:57.872620Z",
     "start_time": "2021-01-05T23:12:57.564571Z"
    }
   },
   "outputs": [],
   "source": [
    "# List of Indicator-3 Features\n",
    "indicator3_feature_list = ['net_unrealized_profit_loss', 'unrealized_profit', 'unrealized_loss', 'net_realized_profit_loss', 'realized_profit', 'realized_loss', 'nupl_more_155', 'nupl_less_155', 'puell_multiple', 'stock_to_flow_deflection', 'difficulty_ribbon_compression']\n",
    "\n",
    "# Counter to Differentiate between Data Frame Setup and Data Frame Extension\n",
    "counter=0\n",
    "\n",
    "# For Loop through all Features in the List\n",
    "for x in indicator3_feature_list:\n",
    "    \n",
    "    # Import Feature CSV-Files\n",
    "    df = pd.read_csv(\"Glassnode/{}.csv\".format(x), index_col='Date')\n",
    "    \n",
    "    # Condition - Data Frame Set up or Data Frame Extension\n",
    "    if counter > 0:\n",
    "        \n",
    "        # Data Frame Extension - Inner Join\n",
    "        df_new = df_new.join(df, how='inner')\n",
    "    \n",
    "    else:\n",
    "        \n",
    "        # Data Frame Setup\n",
    "        df_new = df\n",
    "    \n",
    "    # Increase Counter\n",
    "    counter +=1\n",
    "\n",
    "# Store Data Frame Copy in Indicator-3 Data Frame\n",
    "df_indicator3 = df_new.copy()\n",
    "\n",
    "# Delete Original Data Frame\n",
    "del df_new\n",
    "\n",
    "# Change Data Type of Columns to Float\n",
    "for y in df_indicator3.columns:\n",
    "    try:\n",
    "        df_indicator3[\"{}\".format(y)] = df_indicator3[\"{}\".format(y)].str.replace(',','.')\n",
    "        df_indicator3[\"{}\".format(y)] = df_indicator3[\"{}\".format(y)].astype(float)\n",
    "    except:\n",
    "        pass"
   ]
  },
  {
   "cell_type": "code",
   "execution_count": 64,
   "metadata": {
    "ExecuteTime": {
     "end_time": "2021-01-05T23:12:57.887298Z",
     "start_time": "2021-01-05T23:12:57.874595Z"
    }
   },
   "outputs": [
    {
     "data": {
      "text/html": [
       "<div>\n",
       "<style scoped>\n",
       "    .dataframe tbody tr th:only-of-type {\n",
       "        vertical-align: middle;\n",
       "    }\n",
       "\n",
       "    .dataframe tbody tr th {\n",
       "        vertical-align: top;\n",
       "    }\n",
       "\n",
       "    .dataframe thead th {\n",
       "        text-align: right;\n",
       "    }\n",
       "</style>\n",
       "<table border=\"1\" class=\"dataframe\">\n",
       "  <thead>\n",
       "    <tr style=\"text-align: right;\">\n",
       "      <th></th>\n",
       "      <th>indicators/net_unrealized_profit_loss</th>\n",
       "      <th>indicators/unrealized_profit</th>\n",
       "      <th>indicators/unrealized_loss</th>\n",
       "      <th>indicators/net_realized_profit_loss</th>\n",
       "      <th>indicators/realized_profit</th>\n",
       "      <th>indicators/realized_loss</th>\n",
       "      <th>indicators/nupl_more_155</th>\n",
       "      <th>indicators/nupl_less_155</th>\n",
       "      <th>indicators/puell_multiple</th>\n",
       "      <th>indicators/stock_to_flow_deflection</th>\n",
       "      <th>indicators/difficulty_ribbon_compression</th>\n",
       "    </tr>\n",
       "    <tr>\n",
       "      <th>Date</th>\n",
       "      <th></th>\n",
       "      <th></th>\n",
       "      <th></th>\n",
       "      <th></th>\n",
       "      <th></th>\n",
       "      <th></th>\n",
       "      <th></th>\n",
       "      <th></th>\n",
       "      <th></th>\n",
       "      <th></th>\n",
       "      <th></th>\n",
       "    </tr>\n",
       "  </thead>\n",
       "  <tbody>\n",
       "    <tr>\n",
       "      <th>2020-12-25</th>\n",
       "      <td>0.653966</td>\n",
       "      <td>0.653966</td>\n",
       "      <td>0.000001</td>\n",
       "      <td>399359784.546646</td>\n",
       "      <td>434377918.262611</td>\n",
       "      <td>35018133.715966</td>\n",
       "      <td>0.778718</td>\n",
       "      <td>0.303996</td>\n",
       "      <td>1.719116</td>\n",
       "      <td>0.734276</td>\n",
       "      <td>0.019653</td>\n",
       "    </tr>\n",
       "    <tr>\n",
       "      <th>2020-12-26</th>\n",
       "      <td>0.674940</td>\n",
       "      <td>0.674948</td>\n",
       "      <td>0.000008</td>\n",
       "      <td>945580192.039410</td>\n",
       "      <td>972686637.198179</td>\n",
       "      <td>27106445.158769</td>\n",
       "      <td>0.792870</td>\n",
       "      <td>0.342730</td>\n",
       "      <td>1.718968</td>\n",
       "      <td>0.778810</td>\n",
       "      <td>0.019031</td>\n",
       "    </tr>\n",
       "    <tr>\n",
       "      <th>2020-12-27</th>\n",
       "      <td>0.670453</td>\n",
       "      <td>0.671063</td>\n",
       "      <td>0.000611</td>\n",
       "      <td>1865915462.339770</td>\n",
       "      <td>1992167360.186250</td>\n",
       "      <td>126251897.846474</td>\n",
       "      <td>0.792847</td>\n",
       "      <td>0.331458</td>\n",
       "      <td>1.987776</td>\n",
       "      <td>0.773012</td>\n",
       "      <td>0.018575</td>\n",
       "    </tr>\n",
       "    <tr>\n",
       "      <th>2020-12-28</th>\n",
       "      <td>0.671615</td>\n",
       "      <td>0.671812</td>\n",
       "      <td>0.000197</td>\n",
       "      <td>3746981340.250410</td>\n",
       "      <td>3832497486.610910</td>\n",
       "      <td>85516146.360499</td>\n",
       "      <td>0.799557</td>\n",
       "      <td>0.333678</td>\n",
       "      <td>2.131462</td>\n",
       "      <td>0.787739</td>\n",
       "      <td>0.018095</td>\n",
       "    </tr>\n",
       "    <tr>\n",
       "      <th>2020-12-29</th>\n",
       "      <td>0.669409</td>\n",
       "      <td>0.669516</td>\n",
       "      <td>0.000107</td>\n",
       "      <td>2481317274.709690</td>\n",
       "      <td>2578856325.329050</td>\n",
       "      <td>97539050.619364</td>\n",
       "      <td>0.801282</td>\n",
       "      <td>0.324912</td>\n",
       "      <td>2.003586</td>\n",
       "      <td>0.788037</td>\n",
       "      <td>0.017655</td>\n",
       "    </tr>\n",
       "  </tbody>\n",
       "</table>\n",
       "</div>"
      ],
      "text/plain": [
       "            indicators/net_unrealized_profit_loss  \\\n",
       "Date                                                \n",
       "2020-12-25                               0.653966   \n",
       "2020-12-26                               0.674940   \n",
       "2020-12-27                               0.670453   \n",
       "2020-12-28                               0.671615   \n",
       "2020-12-29                               0.669409   \n",
       "\n",
       "            indicators/unrealized_profit  indicators/unrealized_loss  \\\n",
       "Date                                                                   \n",
       "2020-12-25                      0.653966                    0.000001   \n",
       "2020-12-26                      0.674948                    0.000008   \n",
       "2020-12-27                      0.671063                    0.000611   \n",
       "2020-12-28                      0.671812                    0.000197   \n",
       "2020-12-29                      0.669516                    0.000107   \n",
       "\n",
       "            indicators/net_realized_profit_loss  indicators/realized_profit  \\\n",
       "Date                                                                          \n",
       "2020-12-25                     399359784.546646            434377918.262611   \n",
       "2020-12-26                     945580192.039410            972686637.198179   \n",
       "2020-12-27                    1865915462.339770           1992167360.186250   \n",
       "2020-12-28                    3746981340.250410           3832497486.610910   \n",
       "2020-12-29                    2481317274.709690           2578856325.329050   \n",
       "\n",
       "            indicators/realized_loss  indicators/nupl_more_155  \\\n",
       "Date                                                             \n",
       "2020-12-25           35018133.715966                  0.778718   \n",
       "2020-12-26           27106445.158769                  0.792870   \n",
       "2020-12-27          126251897.846474                  0.792847   \n",
       "2020-12-28           85516146.360499                  0.799557   \n",
       "2020-12-29           97539050.619364                  0.801282   \n",
       "\n",
       "            indicators/nupl_less_155  indicators/puell_multiple  \\\n",
       "Date                                                              \n",
       "2020-12-25                  0.303996                   1.719116   \n",
       "2020-12-26                  0.342730                   1.718968   \n",
       "2020-12-27                  0.331458                   1.987776   \n",
       "2020-12-28                  0.333678                   2.131462   \n",
       "2020-12-29                  0.324912                   2.003586   \n",
       "\n",
       "            indicators/stock_to_flow_deflection  \\\n",
       "Date                                              \n",
       "2020-12-25                             0.734276   \n",
       "2020-12-26                             0.778810   \n",
       "2020-12-27                             0.773012   \n",
       "2020-12-28                             0.787739   \n",
       "2020-12-29                             0.788037   \n",
       "\n",
       "            indicators/difficulty_ribbon_compression  \n",
       "Date                                                  \n",
       "2020-12-25                                  0.019653  \n",
       "2020-12-26                                  0.019031  \n",
       "2020-12-27                                  0.018575  \n",
       "2020-12-28                                  0.018095  \n",
       "2020-12-29                                  0.017655  "
      ]
     },
     "execution_count": 64,
     "metadata": {},
     "output_type": "execute_result"
    }
   ],
   "source": [
    "# Latest Indicator-3 Metric Values\n",
    "df_indicator3.tail()"
   ]
  },
  {
   "cell_type": "markdown",
   "metadata": {},
   "source": [
    "#### Addresses Metric CSV-Files"
   ]
  },
  {
   "cell_type": "code",
   "execution_count": 65,
   "metadata": {
    "ExecuteTime": {
     "end_time": "2021-01-05T23:12:58.166128Z",
     "start_time": "2021-01-05T23:12:57.888558Z"
    }
   },
   "outputs": [],
   "source": [
    "# List of Addresses Features\n",
    "addresses_feature_list = ['active_count', 'sending_count', 'receiving_count', 'new_non_zero_count', 'non_zero_count', 'min_point_zero_1_count', 'min_point_1_count', 'min_1_count', 'min_10_count', 'min_100_count', 'min_1k_count', 'min_10k_count']\n",
    "\n",
    "# Counter to Differentiate between Data Frame Setup and Data Frame Extension\n",
    "counter=0\n",
    "\n",
    "# For Loop through all Features in the List\n",
    "for x in addresses_feature_list:\n",
    "    \n",
    "    # Import Feature CSV-Files\n",
    "    df = pd.read_csv(\"Glassnode/{}.csv\".format(x), index_col='Date')\n",
    "    \n",
    "    # Condition - Data Frame Set up or Data Frame Extension\n",
    "    if counter > 0:\n",
    "        \n",
    "        # Data Frame Extension - Inner Join\n",
    "        df_new = df_new.join(df, how='inner')\n",
    "    \n",
    "    else:\n",
    "        \n",
    "        # Data Frame Setup\n",
    "        df_new = df\n",
    "    \n",
    "    # Increase Counter\n",
    "    counter +=1\n",
    "\n",
    "# Store Data Frame Copy in Addresses Data Frame\n",
    "df_addresses = df_new.copy()\n",
    "\n",
    "# Delete Original Data Frame\n",
    "del df_new\n",
    "\n",
    "# Change Data Type of Columns to Float\n",
    "for y in df_addresses.columns:\n",
    "    try:\n",
    "        df_addresses[\"{}\".format(y)] = df_addresses[\"{}\".format(y)].str.replace(',','.')\n",
    "        df_addresses[\"{}\".format(y)] = df_addresses[\"{}\".format(y)].astype(float)\n",
    "    except:\n",
    "        pass"
   ]
  },
  {
   "cell_type": "code",
   "execution_count": 66,
   "metadata": {
    "ExecuteTime": {
     "end_time": "2021-01-05T23:12:58.181747Z",
     "start_time": "2021-01-05T23:12:58.167434Z"
    }
   },
   "outputs": [
    {
     "data": {
      "text/html": [
       "<div>\n",
       "<style scoped>\n",
       "    .dataframe tbody tr th:only-of-type {\n",
       "        vertical-align: middle;\n",
       "    }\n",
       "\n",
       "    .dataframe tbody tr th {\n",
       "        vertical-align: top;\n",
       "    }\n",
       "\n",
       "    .dataframe thead th {\n",
       "        text-align: right;\n",
       "    }\n",
       "</style>\n",
       "<table border=\"1\" class=\"dataframe\">\n",
       "  <thead>\n",
       "    <tr style=\"text-align: right;\">\n",
       "      <th></th>\n",
       "      <th>addresses/active_count</th>\n",
       "      <th>addresses/sending_count</th>\n",
       "      <th>addresses/receiving_count</th>\n",
       "      <th>addresses/new_non_zero_count</th>\n",
       "      <th>addresses/non_zero_count</th>\n",
       "      <th>addresses/min_point_zero_1_count</th>\n",
       "      <th>addresses/min_point_1_count</th>\n",
       "      <th>addresses/min_1_count</th>\n",
       "      <th>addresses/min_10_count</th>\n",
       "      <th>addresses/min_100_count</th>\n",
       "      <th>addresses/min_1k_count</th>\n",
       "      <th>addresses/min_10k_count</th>\n",
       "    </tr>\n",
       "    <tr>\n",
       "      <th>Date</th>\n",
       "      <th></th>\n",
       "      <th></th>\n",
       "      <th></th>\n",
       "      <th></th>\n",
       "      <th></th>\n",
       "      <th></th>\n",
       "      <th></th>\n",
       "      <th></th>\n",
       "      <th></th>\n",
       "      <th></th>\n",
       "      <th></th>\n",
       "      <th></th>\n",
       "    </tr>\n",
       "  </thead>\n",
       "  <tbody>\n",
       "    <tr>\n",
       "      <th>2020-12-25</th>\n",
       "      <td>1025877.000000</td>\n",
       "      <td>662802.000000</td>\n",
       "      <td>662961.000000</td>\n",
       "      <td>474667.000000</td>\n",
       "      <td>33073258.000000</td>\n",
       "      <td>8513136.000000</td>\n",
       "      <td>3130986.000000</td>\n",
       "      <td>828971.000000</td>\n",
       "      <td>153594.000000</td>\n",
       "      <td>16068.000000</td>\n",
       "      <td>2228.000000</td>\n",
       "      <td>103.000000</td>\n",
       "    </tr>\n",
       "    <tr>\n",
       "      <th>2020-12-26</th>\n",
       "      <td>949564.000000</td>\n",
       "      <td>598441.000000</td>\n",
       "      <td>627828.000000</td>\n",
       "      <td>448279.000000</td>\n",
       "      <td>33075652.000000</td>\n",
       "      <td>8490133.000000</td>\n",
       "      <td>3122900.000000</td>\n",
       "      <td>826721.000000</td>\n",
       "      <td>153580.000000</td>\n",
       "      <td>16104.000000</td>\n",
       "      <td>2221.000000</td>\n",
       "      <td>102.000000</td>\n",
       "    </tr>\n",
       "    <tr>\n",
       "      <th>2020-12-27</th>\n",
       "      <td>1060060.000000</td>\n",
       "      <td>667385.000000</td>\n",
       "      <td>696511.000000</td>\n",
       "      <td>503446.000000</td>\n",
       "      <td>33070470.000000</td>\n",
       "      <td>8470448.000000</td>\n",
       "      <td>3120657.000000</td>\n",
       "      <td>825437.000000</td>\n",
       "      <td>153305.000000</td>\n",
       "      <td>16038.000000</td>\n",
       "      <td>2225.000000</td>\n",
       "      <td>102.000000</td>\n",
       "    </tr>\n",
       "    <tr>\n",
       "      <th>2020-12-28</th>\n",
       "      <td>1144968.000000</td>\n",
       "      <td>737505.000000</td>\n",
       "      <td>717060.000000</td>\n",
       "      <td>510439.000000</td>\n",
       "      <td>33024571.000000</td>\n",
       "      <td>8472554.000000</td>\n",
       "      <td>3121921.000000</td>\n",
       "      <td>825430.000000</td>\n",
       "      <td>153690.000000</td>\n",
       "      <td>16197.000000</td>\n",
       "      <td>2225.000000</td>\n",
       "      <td>98.000000</td>\n",
       "    </tr>\n",
       "    <tr>\n",
       "      <th>2020-12-29</th>\n",
       "      <td>1150742.000000</td>\n",
       "      <td>721767.000000</td>\n",
       "      <td>775904.000000</td>\n",
       "      <td>560252.000000</td>\n",
       "      <td>33035139.000000</td>\n",
       "      <td>8480292.000000</td>\n",
       "      <td>3120133.000000</td>\n",
       "      <td>825876.000000</td>\n",
       "      <td>153524.000000</td>\n",
       "      <td>16227.000000</td>\n",
       "      <td>2257.000000</td>\n",
       "      <td>98.000000</td>\n",
       "    </tr>\n",
       "  </tbody>\n",
       "</table>\n",
       "</div>"
      ],
      "text/plain": [
       "            addresses/active_count  addresses/sending_count  \\\n",
       "Date                                                          \n",
       "2020-12-25          1025877.000000            662802.000000   \n",
       "2020-12-26           949564.000000            598441.000000   \n",
       "2020-12-27          1060060.000000            667385.000000   \n",
       "2020-12-28          1144968.000000            737505.000000   \n",
       "2020-12-29          1150742.000000            721767.000000   \n",
       "\n",
       "            addresses/receiving_count  addresses/new_non_zero_count  \\\n",
       "Date                                                                  \n",
       "2020-12-25              662961.000000                 474667.000000   \n",
       "2020-12-26              627828.000000                 448279.000000   \n",
       "2020-12-27              696511.000000                 503446.000000   \n",
       "2020-12-28              717060.000000                 510439.000000   \n",
       "2020-12-29              775904.000000                 560252.000000   \n",
       "\n",
       "            addresses/non_zero_count  addresses/min_point_zero_1_count  \\\n",
       "Date                                                                     \n",
       "2020-12-25           33073258.000000                    8513136.000000   \n",
       "2020-12-26           33075652.000000                    8490133.000000   \n",
       "2020-12-27           33070470.000000                    8470448.000000   \n",
       "2020-12-28           33024571.000000                    8472554.000000   \n",
       "2020-12-29           33035139.000000                    8480292.000000   \n",
       "\n",
       "            addresses/min_point_1_count  addresses/min_1_count  \\\n",
       "Date                                                             \n",
       "2020-12-25               3130986.000000          828971.000000   \n",
       "2020-12-26               3122900.000000          826721.000000   \n",
       "2020-12-27               3120657.000000          825437.000000   \n",
       "2020-12-28               3121921.000000          825430.000000   \n",
       "2020-12-29               3120133.000000          825876.000000   \n",
       "\n",
       "            addresses/min_10_count  addresses/min_100_count  \\\n",
       "Date                                                          \n",
       "2020-12-25           153594.000000             16068.000000   \n",
       "2020-12-26           153580.000000             16104.000000   \n",
       "2020-12-27           153305.000000             16038.000000   \n",
       "2020-12-28           153690.000000             16197.000000   \n",
       "2020-12-29           153524.000000             16227.000000   \n",
       "\n",
       "            addresses/min_1k_count  addresses/min_10k_count  \n",
       "Date                                                         \n",
       "2020-12-25             2228.000000               103.000000  \n",
       "2020-12-26             2221.000000               102.000000  \n",
       "2020-12-27             2225.000000               102.000000  \n",
       "2020-12-28             2225.000000                98.000000  \n",
       "2020-12-29             2257.000000                98.000000  "
      ]
     },
     "execution_count": 66,
     "metadata": {},
     "output_type": "execute_result"
    }
   ],
   "source": [
    "# Latest Addresses Metric Values\n",
    "df_addresses.tail()"
   ]
  },
  {
   "cell_type": "markdown",
   "metadata": {},
   "source": [
    "#### Futures Metrics CSV-Files - Excluded as Data Available Only Since Feb 2020"
   ]
  },
  {
   "cell_type": "markdown",
   "metadata": {},
   "source": [
    "##### List of Future Features\n",
    "futures_feature_list = ['futures_volume_daily_all_sum', 'futures_volume_daily_perpetual_sum', 'futures_open_interest_all_sum', 'futures_open_interest_perpetual_sum', 'futures_funding_rate_perpetual']\n",
    "\n",
    "##### Counter to Differentiate between Data Frame Setup and Data Frame Extension\n",
    "counter=0\n",
    "\n",
    "##### For Loop through all Features in the List\n",
    "for x in futures_feature_list:\n",
    "    \n",
    "    ##### Import Feature CSV-Files\n",
    "    df = pd.read_csv(\"Glassnode/{}.csv\".format(x), index_col='Date')\n",
    "    \n",
    "    ##### Condition - Data Frame Set up or Data Frame Extension\n",
    "    if counter > 0:\n",
    "        \n",
    "        ##### Data Frame Extension - Inner Join\n",
    "        df_new = df_new.join(df, how='inner')\n",
    "    \n",
    "    else:\n",
    "        \n",
    "        ##### Data Frame Setup\n",
    "        df_new = df\n",
    "    \n",
    "    ##### Increase Counter\n",
    "    counter +=1\n",
    "\n",
    "##### Store Data Frame Copy in Market Data Frame\n",
    "df_futures = df_new.copy()\n",
    "\n",
    "##### Delete Original Data Frame\n",
    "del df_new\n",
    "\n",
    "##### Change Data Type of Columns to Float\n",
    "for y in df_futures.columns:\n",
    "    try:\n",
    "        df_futures[\"{}\".format(y)] = df_futures[\"{}\".format(y)].str.replace(',','.')\n",
    "        df_futures[\"{}\".format(y)] = df_futures[\"{}\".format(y)].astype(float)\n",
    "    except:\n",
    "        pass"
   ]
  },
  {
   "cell_type": "markdown",
   "metadata": {},
   "source": [
    "## Target Variables"
   ]
  },
  {
   "cell_type": "code",
   "execution_count": 67,
   "metadata": {
    "ExecuteTime": {
     "end_time": "2021-01-05T23:12:58.197573Z",
     "start_time": "2021-01-05T23:12:58.182814Z"
    }
   },
   "outputs": [],
   "source": [
    "df_return = pd.DataFrame(df_market['market/price_usd_close'])"
   ]
  },
  {
   "cell_type": "code",
   "execution_count": 68,
   "metadata": {
    "ExecuteTime": {
     "end_time": "2021-01-05T23:12:58.212889Z",
     "start_time": "2021-01-05T23:12:58.207644Z"
    }
   },
   "outputs": [],
   "source": [
    "df_return.columns = ['Closed Price USD']"
   ]
  },
  {
   "cell_type": "code",
   "execution_count": 69,
   "metadata": {
    "ExecuteTime": {
     "end_time": "2021-01-05T23:12:58.228867Z",
     "start_time": "2021-01-05T23:12:58.216918Z"
    }
   },
   "outputs": [],
   "source": [
    "# Add Column with BTC Daily Returns in USD\n",
    "df_return['Daily Return in USD'] = df_return['Closed Price USD'].diff()"
   ]
  },
  {
   "cell_type": "raw",
   "metadata": {},
   "source": [
    "# Add Column with BTC Daily Returns in Percent\n",
    "df_return['Daily Returns in Percent'] = (df_return['Daily Returns USD']) / (df_return['Closed Price USD'].shift(1))*100"
   ]
  },
  {
   "cell_type": "raw",
   "metadata": {},
   "source": [
    "# Add Column with BTC Daily Log Returns in Percent\n",
    "df_return['Daily Log Returns in Percent'] = pd.DataFrame(np.log(df_return['Closed Price USD']/df_return['Closed Price USD'].shift(1))*100)"
   ]
  },
  {
   "cell_type": "code",
   "execution_count": 70,
   "metadata": {
    "ExecuteTime": {
     "end_time": "2021-01-05T23:12:58.244808Z",
     "start_time": "2021-01-05T23:12:58.229843Z"
    }
   },
   "outputs": [
    {
     "data": {
      "text/html": [
       "<div>\n",
       "<style scoped>\n",
       "    .dataframe tbody tr th:only-of-type {\n",
       "        vertical-align: middle;\n",
       "    }\n",
       "\n",
       "    .dataframe tbody tr th {\n",
       "        vertical-align: top;\n",
       "    }\n",
       "\n",
       "    .dataframe thead th {\n",
       "        text-align: right;\n",
       "    }\n",
       "</style>\n",
       "<table border=\"1\" class=\"dataframe\">\n",
       "  <thead>\n",
       "    <tr style=\"text-align: right;\">\n",
       "      <th></th>\n",
       "      <th>Closed Price USD</th>\n",
       "      <th>Daily Return in USD</th>\n",
       "    </tr>\n",
       "    <tr>\n",
       "      <th>Date</th>\n",
       "      <th></th>\n",
       "      <th></th>\n",
       "    </tr>\n",
       "  </thead>\n",
       "  <tbody>\n",
       "    <tr>\n",
       "      <th>2020-12-25</th>\n",
       "      <td>24688.211520</td>\n",
       "      <td>923.458115</td>\n",
       "    </tr>\n",
       "    <tr>\n",
       "      <th>2020-12-26</th>\n",
       "      <td>26440.248700</td>\n",
       "      <td>1752.037180</td>\n",
       "    </tr>\n",
       "    <tr>\n",
       "      <th>2020-12-27</th>\n",
       "      <td>26388.149456</td>\n",
       "      <td>-52.099245</td>\n",
       "    </tr>\n",
       "    <tr>\n",
       "      <th>2020-12-28</th>\n",
       "      <td>27098.952754</td>\n",
       "      <td>710.803298</td>\n",
       "    </tr>\n",
       "    <tr>\n",
       "      <th>2020-12-29</th>\n",
       "      <td>27324.988106</td>\n",
       "      <td>226.035353</td>\n",
       "    </tr>\n",
       "  </tbody>\n",
       "</table>\n",
       "</div>"
      ],
      "text/plain": [
       "            Closed Price USD  Daily Return in USD\n",
       "Date                                             \n",
       "2020-12-25      24688.211520           923.458115\n",
       "2020-12-26      26440.248700          1752.037180\n",
       "2020-12-27      26388.149456           -52.099245\n",
       "2020-12-28      27098.952754           710.803298\n",
       "2020-12-29      27324.988106           226.035353"
      ]
     },
     "execution_count": 70,
     "metadata": {},
     "output_type": "execute_result"
    }
   ],
   "source": [
    "df_return.tail()"
   ]
  },
  {
   "cell_type": "markdown",
   "metadata": {},
   "source": [
    "## Feature Engineering"
   ]
  },
  {
   "cell_type": "markdown",
   "metadata": {},
   "source": [
    "### Volatility"
   ]
  },
  {
   "cell_type": "code",
   "execution_count": 71,
   "metadata": {
    "ExecuteTime": {
     "end_time": "2021-01-05T23:12:58.260766Z",
     "start_time": "2021-01-05T23:12:58.246838Z"
    }
   },
   "outputs": [],
   "source": [
    "# Selecting BTC Close Price in USD\n",
    "df_volatility = pd.DataFrame(df_market['market/price_usd_close'])"
   ]
  },
  {
   "cell_type": "code",
   "execution_count": 72,
   "metadata": {
    "ExecuteTime": {
     "end_time": "2021-01-05T23:12:58.276756Z",
     "start_time": "2021-01-05T23:12:58.262762Z"
    }
   },
   "outputs": [],
   "source": [
    "# Rename Price Column\n",
    "df_volatility.columns = ['Closed Price USD']"
   ]
  },
  {
   "cell_type": "code",
   "execution_count": 73,
   "metadata": {
    "ExecuteTime": {
     "end_time": "2021-01-05T23:12:58.292678Z",
     "start_time": "2021-01-05T23:12:58.278717Z"
    }
   },
   "outputs": [],
   "source": [
    "# Add Column with BTC Daily Returns in USD\n",
    "df_volatility['Daily Return in USD'] = df_volatility['Closed Price USD'].diff()"
   ]
  },
  {
   "cell_type": "code",
   "execution_count": 74,
   "metadata": {
    "ExecuteTime": {
     "end_time": "2021-01-05T23:12:58.308672Z",
     "start_time": "2021-01-05T23:12:58.293892Z"
    }
   },
   "outputs": [],
   "source": [
    "# Add Column with BTC Daily Returns in Percent\n",
    "df_volatility['Daily Return in Percent'] = (df_volatility['Daily Return in USD']) / (df_volatility['Closed Price USD'].shift(1))*100"
   ]
  },
  {
   "cell_type": "code",
   "execution_count": 75,
   "metadata": {
    "ExecuteTime": {
     "end_time": "2021-01-05T23:12:58.323930Z",
     "start_time": "2021-01-05T23:12:58.310929Z"
    }
   },
   "outputs": [],
   "source": [
    "# Add Column with BTC Daily Log Returns in Percent\n",
    "df_volatility['Daily Log Return in Percent'] = pd.DataFrame(np.log(df_volatility['Closed Price USD']/df_volatility['Closed Price USD'].shift(1))*100)"
   ]
  },
  {
   "cell_type": "code",
   "execution_count": 76,
   "metadata": {
    "ExecuteTime": {
     "end_time": "2021-01-05T23:12:58.339881Z",
     "start_time": "2021-01-05T23:12:58.324890Z"
    }
   },
   "outputs": [
    {
     "data": {
      "text/html": [
       "<div>\n",
       "<style scoped>\n",
       "    .dataframe tbody tr th:only-of-type {\n",
       "        vertical-align: middle;\n",
       "    }\n",
       "\n",
       "    .dataframe tbody tr th {\n",
       "        vertical-align: top;\n",
       "    }\n",
       "\n",
       "    .dataframe thead th {\n",
       "        text-align: right;\n",
       "    }\n",
       "</style>\n",
       "<table border=\"1\" class=\"dataframe\">\n",
       "  <thead>\n",
       "    <tr style=\"text-align: right;\">\n",
       "      <th></th>\n",
       "      <th>Closed Price USD</th>\n",
       "      <th>Daily Return in USD</th>\n",
       "      <th>Daily Return in Percent</th>\n",
       "      <th>Daily Log Return in Percent</th>\n",
       "    </tr>\n",
       "    <tr>\n",
       "      <th>Date</th>\n",
       "      <th></th>\n",
       "      <th></th>\n",
       "      <th></th>\n",
       "      <th></th>\n",
       "    </tr>\n",
       "  </thead>\n",
       "  <tbody>\n",
       "    <tr>\n",
       "      <th>2020-12-25</th>\n",
       "      <td>24688.211520</td>\n",
       "      <td>923.458115</td>\n",
       "      <td>3.885831</td>\n",
       "      <td>3.812233</td>\n",
       "    </tr>\n",
       "    <tr>\n",
       "      <th>2020-12-26</th>\n",
       "      <td>26440.248700</td>\n",
       "      <td>1752.037180</td>\n",
       "      <td>7.096655</td>\n",
       "      <td>6.856156</td>\n",
       "    </tr>\n",
       "    <tr>\n",
       "      <th>2020-12-27</th>\n",
       "      <td>26388.149456</td>\n",
       "      <td>-52.099245</td>\n",
       "      <td>-0.197045</td>\n",
       "      <td>-0.197240</td>\n",
       "    </tr>\n",
       "    <tr>\n",
       "      <th>2020-12-28</th>\n",
       "      <td>27098.952754</td>\n",
       "      <td>710.803298</td>\n",
       "      <td>2.693646</td>\n",
       "      <td>2.658006</td>\n",
       "    </tr>\n",
       "    <tr>\n",
       "      <th>2020-12-29</th>\n",
       "      <td>27324.988106</td>\n",
       "      <td>226.035353</td>\n",
       "      <td>0.834111</td>\n",
       "      <td>0.830652</td>\n",
       "    </tr>\n",
       "  </tbody>\n",
       "</table>\n",
       "</div>"
      ],
      "text/plain": [
       "            Closed Price USD  Daily Return in USD  Daily Return in Percent  \\\n",
       "Date                                                                         \n",
       "2020-12-25      24688.211520           923.458115                 3.885831   \n",
       "2020-12-26      26440.248700          1752.037180                 7.096655   \n",
       "2020-12-27      26388.149456           -52.099245                -0.197045   \n",
       "2020-12-28      27098.952754           710.803298                 2.693646   \n",
       "2020-12-29      27324.988106           226.035353                 0.834111   \n",
       "\n",
       "            Daily Log Return in Percent  \n",
       "Date                                     \n",
       "2020-12-25                     3.812233  \n",
       "2020-12-26                     6.856156  \n",
       "2020-12-27                    -0.197240  \n",
       "2020-12-28                     2.658006  \n",
       "2020-12-29                     0.830652  "
      ]
     },
     "execution_count": 76,
     "metadata": {},
     "output_type": "execute_result"
    }
   ],
   "source": [
    "df_volatility.tail()"
   ]
  },
  {
   "cell_type": "code",
   "execution_count": 77,
   "metadata": {
    "ExecuteTime": {
     "end_time": "2021-01-05T23:12:58.355236Z",
     "start_time": "2021-01-05T23:12:58.341279Z"
    }
   },
   "outputs": [],
   "source": [
    "# Calculation of Rolling Volatility of BTC Daily Log Returns for 10, 20 and 30 days period\n",
    "df_volatility['Volatility Daily Log Return in Percent 3D'] = pd.DataFrame(df_volatility['Daily Log Return in Percent'].rolling(window=3, min_periods=1).std())\n",
    "df_volatility['Volatility Daily Log Return in Percent 5D'] = pd.DataFrame(df_volatility['Daily Log Return in Percent'].rolling(window=5, min_periods=1).std())\n",
    "df_volatility['Volatility Daily Log Return in Percent 10D'] = pd.DataFrame(df_volatility['Daily Log Return in Percent'].rolling(window=10, min_periods=1).std())"
   ]
  },
  {
   "cell_type": "code",
   "execution_count": 78,
   "metadata": {
    "ExecuteTime": {
     "end_time": "2021-01-05T23:12:58.370564Z",
     "start_time": "2021-01-05T23:12:58.357234Z"
    }
   },
   "outputs": [
    {
     "data": {
      "text/html": [
       "<div>\n",
       "<style scoped>\n",
       "    .dataframe tbody tr th:only-of-type {\n",
       "        vertical-align: middle;\n",
       "    }\n",
       "\n",
       "    .dataframe tbody tr th {\n",
       "        vertical-align: top;\n",
       "    }\n",
       "\n",
       "    .dataframe thead th {\n",
       "        text-align: right;\n",
       "    }\n",
       "</style>\n",
       "<table border=\"1\" class=\"dataframe\">\n",
       "  <thead>\n",
       "    <tr style=\"text-align: right;\">\n",
       "      <th></th>\n",
       "      <th>Closed Price USD</th>\n",
       "      <th>Daily Return in USD</th>\n",
       "      <th>Daily Return in Percent</th>\n",
       "      <th>Daily Log Return in Percent</th>\n",
       "      <th>Volatility Daily Log Return in Percent 3D</th>\n",
       "      <th>Volatility Daily Log Return in Percent 5D</th>\n",
       "      <th>Volatility Daily Log Return in Percent 10D</th>\n",
       "    </tr>\n",
       "    <tr>\n",
       "      <th>Date</th>\n",
       "      <th></th>\n",
       "      <th></th>\n",
       "      <th></th>\n",
       "      <th></th>\n",
       "      <th></th>\n",
       "      <th></th>\n",
       "      <th></th>\n",
       "    </tr>\n",
       "  </thead>\n",
       "  <tbody>\n",
       "    <tr>\n",
       "      <th>2020-12-25</th>\n",
       "      <td>24688.211520</td>\n",
       "      <td>923.458115</td>\n",
       "      <td>3.885831</td>\n",
       "      <td>3.812233</td>\n",
       "      <td>3.003029</td>\n",
       "      <td>3.212691</td>\n",
       "      <td>3.861086</td>\n",
       "    </tr>\n",
       "    <tr>\n",
       "      <th>2020-12-26</th>\n",
       "      <td>26440.248700</td>\n",
       "      <td>1752.037180</td>\n",
       "      <td>7.096655</td>\n",
       "      <td>6.856156</td>\n",
       "      <td>2.425623</td>\n",
       "      <td>3.254318</td>\n",
       "      <td>3.397940</td>\n",
       "    </tr>\n",
       "    <tr>\n",
       "      <th>2020-12-27</th>\n",
       "      <td>26388.149456</td>\n",
       "      <td>-52.099245</td>\n",
       "      <td>-0.197045</td>\n",
       "      <td>-0.197240</td>\n",
       "      <td>3.537695</td>\n",
       "      <td>3.462559</td>\n",
       "      <td>3.079384</td>\n",
       "    </tr>\n",
       "    <tr>\n",
       "      <th>2020-12-28</th>\n",
       "      <td>27098.952754</td>\n",
       "      <td>710.803298</td>\n",
       "      <td>2.693646</td>\n",
       "      <td>2.658006</td>\n",
       "      <td>3.547940</td>\n",
       "      <td>2.585531</td>\n",
       "      <td>3.100619</td>\n",
       "    </tr>\n",
       "    <tr>\n",
       "      <th>2020-12-29</th>\n",
       "      <td>27324.988106</td>\n",
       "      <td>226.035353</td>\n",
       "      <td>0.834111</td>\n",
       "      <td>0.830652</td>\n",
       "      <td>1.446156</td>\n",
       "      <td>2.754933</td>\n",
       "      <td>3.049137</td>\n",
       "    </tr>\n",
       "  </tbody>\n",
       "</table>\n",
       "</div>"
      ],
      "text/plain": [
       "            Closed Price USD  Daily Return in USD  Daily Return in Percent  \\\n",
       "Date                                                                         \n",
       "2020-12-25      24688.211520           923.458115                 3.885831   \n",
       "2020-12-26      26440.248700          1752.037180                 7.096655   \n",
       "2020-12-27      26388.149456           -52.099245                -0.197045   \n",
       "2020-12-28      27098.952754           710.803298                 2.693646   \n",
       "2020-12-29      27324.988106           226.035353                 0.834111   \n",
       "\n",
       "            Daily Log Return in Percent  \\\n",
       "Date                                      \n",
       "2020-12-25                     3.812233   \n",
       "2020-12-26                     6.856156   \n",
       "2020-12-27                    -0.197240   \n",
       "2020-12-28                     2.658006   \n",
       "2020-12-29                     0.830652   \n",
       "\n",
       "            Volatility Daily Log Return in Percent 3D  \\\n",
       "Date                                                    \n",
       "2020-12-25                                   3.003029   \n",
       "2020-12-26                                   2.425623   \n",
       "2020-12-27                                   3.537695   \n",
       "2020-12-28                                   3.547940   \n",
       "2020-12-29                                   1.446156   \n",
       "\n",
       "            Volatility Daily Log Return in Percent 5D  \\\n",
       "Date                                                    \n",
       "2020-12-25                                   3.212691   \n",
       "2020-12-26                                   3.254318   \n",
       "2020-12-27                                   3.462559   \n",
       "2020-12-28                                   2.585531   \n",
       "2020-12-29                                   2.754933   \n",
       "\n",
       "            Volatility Daily Log Return in Percent 10D  \n",
       "Date                                                    \n",
       "2020-12-25                                    3.861086  \n",
       "2020-12-26                                    3.397940  \n",
       "2020-12-27                                    3.079384  \n",
       "2020-12-28                                    3.100619  \n",
       "2020-12-29                                    3.049137  "
      ]
     },
     "execution_count": 78,
     "metadata": {},
     "output_type": "execute_result"
    }
   ],
   "source": [
    "df_volatility.tail()"
   ]
  },
  {
   "cell_type": "code",
   "execution_count": 79,
   "metadata": {
    "ExecuteTime": {
     "end_time": "2021-01-05T23:12:58.386522Z",
     "start_time": "2021-01-05T23:12:58.372595Z"
    }
   },
   "outputs": [],
   "source": [
    "df_volatility_reduced = df_volatility['Volatility Daily Log Return in Percent 5D']"
   ]
  },
  {
   "cell_type": "markdown",
   "metadata": {},
   "source": [
    "### Log Price"
   ]
  },
  {
   "cell_type": "code",
   "execution_count": 80,
   "metadata": {
    "ExecuteTime": {
     "end_time": "2021-01-05T23:12:58.402288Z",
     "start_time": "2021-01-05T23:12:58.388517Z"
    }
   },
   "outputs": [],
   "source": [
    "# Selecting BTC Close Price in USD\n",
    "df_logprice = pd.DataFrame(np.log(df_market['market/price_usd_close']))"
   ]
  },
  {
   "cell_type": "code",
   "execution_count": 81,
   "metadata": {
    "ExecuteTime": {
     "end_time": "2021-01-05T23:12:58.417507Z",
     "start_time": "2021-01-05T23:12:58.403447Z"
    }
   },
   "outputs": [],
   "source": [
    "df_logprice.columns = ['Log Price in USD']"
   ]
  },
  {
   "cell_type": "code",
   "execution_count": 82,
   "metadata": {
    "ExecuteTime": {
     "end_time": "2021-01-05T23:12:58.432471Z",
     "start_time": "2021-01-05T23:12:58.418471Z"
    }
   },
   "outputs": [
    {
     "data": {
      "text/html": [
       "<div>\n",
       "<style scoped>\n",
       "    .dataframe tbody tr th:only-of-type {\n",
       "        vertical-align: middle;\n",
       "    }\n",
       "\n",
       "    .dataframe tbody tr th {\n",
       "        vertical-align: top;\n",
       "    }\n",
       "\n",
       "    .dataframe thead th {\n",
       "        text-align: right;\n",
       "    }\n",
       "</style>\n",
       "<table border=\"1\" class=\"dataframe\">\n",
       "  <thead>\n",
       "    <tr style=\"text-align: right;\">\n",
       "      <th></th>\n",
       "      <th>Log Price in USD</th>\n",
       "    </tr>\n",
       "    <tr>\n",
       "      <th>Date</th>\n",
       "      <th></th>\n",
       "    </tr>\n",
       "  </thead>\n",
       "  <tbody>\n",
       "    <tr>\n",
       "      <th>2020-12-25</th>\n",
       "      <td>10.114081</td>\n",
       "    </tr>\n",
       "    <tr>\n",
       "      <th>2020-12-26</th>\n",
       "      <td>10.182643</td>\n",
       "    </tr>\n",
       "    <tr>\n",
       "      <th>2020-12-27</th>\n",
       "      <td>10.180670</td>\n",
       "    </tr>\n",
       "    <tr>\n",
       "      <th>2020-12-28</th>\n",
       "      <td>10.207250</td>\n",
       "    </tr>\n",
       "    <tr>\n",
       "      <th>2020-12-29</th>\n",
       "      <td>10.215557</td>\n",
       "    </tr>\n",
       "  </tbody>\n",
       "</table>\n",
       "</div>"
      ],
      "text/plain": [
       "            Log Price in USD\n",
       "Date                        \n",
       "2020-12-25         10.114081\n",
       "2020-12-26         10.182643\n",
       "2020-12-27         10.180670\n",
       "2020-12-28         10.207250\n",
       "2020-12-29         10.215557"
      ]
     },
     "execution_count": 82,
     "metadata": {},
     "output_type": "execute_result"
    }
   ],
   "source": [
    "df_logprice.tail()"
   ]
  },
  {
   "cell_type": "markdown",
   "metadata": {},
   "source": [
    "# Data Sets"
   ]
  },
  {
   "cell_type": "markdown",
   "metadata": {},
   "source": [
    "## Data Set I. - Blockchain Metrics Only"
   ]
  },
  {
   "cell_type": "code",
   "execution_count": 83,
   "metadata": {
    "ExecuteTime": {
     "end_time": "2021-01-05T23:12:58.463691Z",
     "start_time": "2021-01-05T23:12:58.434461Z"
    }
   },
   "outputs": [],
   "source": [
    "# Merging all Blockchain DataFrame Metrics\n",
    "df_blockchain = pd.concat([df_return, df_logprice, df_volatility_reduced, df_market, df_mining, df_blockfeatures, df_fees, df_utxo, df_supply, \n",
    "                           df_transaction, df_indicator1, df_indicator2, df_indicator3, df_addresses], axis=1, join='inner')"
   ]
  },
  {
   "cell_type": "code",
   "execution_count": 84,
   "metadata": {
    "ExecuteTime": {
     "end_time": "2021-01-05T23:12:58.479650Z",
     "start_time": "2021-01-05T23:12:58.465686Z"
    }
   },
   "outputs": [],
   "source": [
    "df_blockchain = df_blockchain.dropna()"
   ]
  },
  {
   "cell_type": "code",
   "execution_count": 85,
   "metadata": {
    "ExecuteTime": {
     "end_time": "2021-01-05T23:12:58.495700Z",
     "start_time": "2021-01-05T23:12:58.481644Z"
    }
   },
   "outputs": [],
   "source": [
    "df_blockchain = df_blockchain.drop(['Closed Price USD'], axis=1)"
   ]
  },
  {
   "cell_type": "code",
   "execution_count": 86,
   "metadata": {
    "ExecuteTime": {
     "end_time": "2021-01-05T23:12:58.511614Z",
     "start_time": "2021-01-05T23:12:58.497601Z"
    }
   },
   "outputs": [],
   "source": [
    "df_blockchain.index = df_blockchain.index.astype('datetime64[ns]')"
   ]
  },
  {
   "cell_type": "code",
   "execution_count": 87,
   "metadata": {
    "ExecuteTime": {
     "end_time": "2021-01-05T23:12:58.542619Z",
     "start_time": "2021-01-05T23:12:58.513607Z"
    },
    "scrolled": true
   },
   "outputs": [
    {
     "name": "stdout",
     "output_type": "stream",
     "text": [
      "<class 'pandas.core.frame.DataFrame'>\n",
      "DatetimeIndex: 3455 entries, 2011-07-16 to 2020-12-29\n",
      "Data columns (total 91 columns):\n",
      " #   Column                                      Non-Null Count  Dtype  \n",
      "---  ------                                      --------------  -----  \n",
      " 0   Daily Return in USD                         3455 non-null   float64\n",
      " 1   Log Price in USD                            3455 non-null   float64\n",
      " 2   Volatility Daily Log Return in Percent 5D   3455 non-null   float64\n",
      " 3   market/price_usd_close                      3455 non-null   float64\n",
      " 4   market/price_drawdown_relative              3455 non-null   float64\n",
      " 5   market/price_realized_usd                   3455 non-null   float64\n",
      " 6   market/mvrv                                 3455 non-null   float64\n",
      " 7   mining/difficulty_latest                    3455 non-null   float64\n",
      " 8   mining/hash_rate_mean                       3455 non-null   float64\n",
      " 9   blockchain/block_count                      3455 non-null   float64\n",
      " 10  blockchain/block_interval_mean              3455 non-null   float64\n",
      " 11  blockchain/block_size_sum                   3455 non-null   float64\n",
      " 12  fees/volume_sum                             3455 non-null   float64\n",
      " 13  fees/volume_mean                            3455 non-null   float64\n",
      " 14  fees/fee_ratio_multiple                     3455 non-null   float64\n",
      " 15  blockchain/utxo_created_count               3455 non-null   float64\n",
      " 16  blockchain/utxo_spent_count                 3455 non-null   float64\n",
      " 17  blockchain/utxo_created_value_sum           3455 non-null   float64\n",
      " 18  blockchain/utxo_spent_value_sum             3455 non-null   float64\n",
      " 19  blockchain/utxo_profit_relative             3455 non-null   float64\n",
      " 20  blockchain/utxo_profit_count                3455 non-null   float64\n",
      " 21  blockchain/utxo_loss_count                  3455 non-null   float64\n",
      " 22  supply/current                              3455 non-null   float64\n",
      " 23  supply/profit_relative                      3455 non-null   float64\n",
      " 24  supply/profit_sum                           3455 non-null   float64\n",
      " 25  supply/loss_sum                             3455 non-null   float64\n",
      " 26  supply/active_more_1y_percent               3455 non-null   float64\n",
      " 27  supply/active_more_2y_percent               3455 non-null   float64\n",
      " 28  supply/active_more_3y_percent               3455 non-null   float64\n",
      " 29  supply/active_more_5y_percent               3455 non-null   float64\n",
      " 30  supply/active_24h                           3455 non-null   float64\n",
      " 31  supply/active_1d_1w                         3455 non-null   float64\n",
      " 32  supply/active_1w_1m                         3455 non-null   float64\n",
      " 33  supply/active_1m_3m                         3455 non-null   float64\n",
      " 34  supply/active_3m_6m                         3455 non-null   float64\n",
      " 35  supply/active_6m_12m                        3455 non-null   float64\n",
      " 36  supply/active_1y_2y                         3455 non-null   float64\n",
      " 37  supply/active_2y_3y                         3455 non-null   float64\n",
      " 38  supply/active_3y_5y                         3455 non-null   float64\n",
      " 39  supply/active_5y_7y                         3455 non-null   float64\n",
      " 40  supply/active_7y_10y                        3455 non-null   float64\n",
      " 41  supply/active_more_10y                      3455 non-null   float64\n",
      " 42  supply/issued                               3455 non-null   float64\n",
      " 43  supply/inflation_rate                       3455 non-null   float64\n",
      " 44  transactions/count                          3455 non-null   float64\n",
      " 45  transactions/size_sum                       3455 non-null   float64\n",
      " 46  transactions/transfers_volume_sum           3455 non-null   float64\n",
      " 47  transactions/transfers_volume_adjusted_sum  3455 non-null   float64\n",
      " 48  indicators/sopr_adjusted                    3455 non-null   float64\n",
      " 49  indicators/nvt                              3455 non-null   float64\n",
      " 50  indicators/velocity                         3455 non-null   float64\n",
      " 51  indicators/cdd                              3455 non-null   float64\n",
      " 52  indicators/reserve_risk                     3455 non-null   float64\n",
      " 53  indicators/average_dormancy                 3455 non-null   float64\n",
      " 54  indicators/liveliness                       3455 non-null   float64\n",
      " 55  indicators/asol                             3455 non-null   float64\n",
      " 56  indicators/sol_1h                           3455 non-null   float64\n",
      " 57  indicators/sol_1h_24h                       3455 non-null   float64\n",
      " 58  indicators/sol_1d_1w                        3455 non-null   float64\n",
      " 59  indicators/sol_1w_1m                        3455 non-null   float64\n",
      " 60  indicators/sol_1m_3m                        3455 non-null   float64\n",
      " 61  indicators/sol_3m_6m                        3455 non-null   float64\n",
      " 62  indicators/sol_6m_12m                       3455 non-null   float64\n",
      " 63  indicators/sol_1y_2y                        3455 non-null   float64\n",
      " 64  indicators/sol_2y_3y                        3455 non-null   float64\n",
      " 65  indicators/sol_3y_5y                        3455 non-null   float64\n",
      " 66  indicators/sol_5y_7y                        3455 non-null   float64\n",
      " 67  indicators/sol_7y_10y                       3455 non-null   float64\n",
      " 68  indicators/net_unrealized_profit_loss       3455 non-null   float64\n",
      " 69  indicators/unrealized_profit                3455 non-null   float64\n",
      " 70  indicators/unrealized_loss                  3455 non-null   float64\n",
      " 71  indicators/net_realized_profit_loss         3455 non-null   float64\n",
      " 72  indicators/realized_profit                  3455 non-null   float64\n",
      " 73  indicators/realized_loss                    3455 non-null   float64\n",
      " 74  indicators/nupl_more_155                    3455 non-null   float64\n",
      " 75  indicators/nupl_less_155                    3455 non-null   float64\n",
      " 76  indicators/puell_multiple                   3455 non-null   float64\n",
      " 77  indicators/stock_to_flow_deflection         3455 non-null   float64\n",
      " 78  indicators/difficulty_ribbon_compression    3455 non-null   float64\n",
      " 79  addresses/active_count                      3455 non-null   float64\n",
      " 80  addresses/sending_count                     3455 non-null   float64\n",
      " 81  addresses/receiving_count                   3455 non-null   float64\n",
      " 82  addresses/new_non_zero_count                3455 non-null   float64\n",
      " 83  addresses/non_zero_count                    3455 non-null   float64\n",
      " 84  addresses/min_point_zero_1_count            3455 non-null   float64\n",
      " 85  addresses/min_point_1_count                 3455 non-null   float64\n",
      " 86  addresses/min_1_count                       3455 non-null   float64\n",
      " 87  addresses/min_10_count                      3455 non-null   float64\n",
      " 88  addresses/min_100_count                     3455 non-null   float64\n",
      " 89  addresses/min_1k_count                      3455 non-null   float64\n",
      " 90  addresses/min_10k_count                     3455 non-null   float64\n",
      "dtypes: float64(91)\n",
      "memory usage: 2.4 MB\n"
     ]
    }
   ],
   "source": [
    "df_blockchain.info()"
   ]
  },
  {
   "cell_type": "code",
   "execution_count": 88,
   "metadata": {
    "ExecuteTime": {
     "end_time": "2021-01-05T23:12:58.573464Z",
     "start_time": "2021-01-05T23:12:58.545498Z"
    }
   },
   "outputs": [
    {
     "data": {
      "text/html": [
       "<div>\n",
       "<style scoped>\n",
       "    .dataframe tbody tr th:only-of-type {\n",
       "        vertical-align: middle;\n",
       "    }\n",
       "\n",
       "    .dataframe tbody tr th {\n",
       "        vertical-align: top;\n",
       "    }\n",
       "\n",
       "    .dataframe thead th {\n",
       "        text-align: right;\n",
       "    }\n",
       "</style>\n",
       "<table border=\"1\" class=\"dataframe\">\n",
       "  <thead>\n",
       "    <tr style=\"text-align: right;\">\n",
       "      <th></th>\n",
       "      <th>Daily Return in USD</th>\n",
       "      <th>Log Price in USD</th>\n",
       "      <th>Volatility Daily Log Return in Percent 5D</th>\n",
       "      <th>market/price_usd_close</th>\n",
       "      <th>market/price_drawdown_relative</th>\n",
       "      <th>market/price_realized_usd</th>\n",
       "      <th>market/mvrv</th>\n",
       "      <th>mining/difficulty_latest</th>\n",
       "      <th>mining/hash_rate_mean</th>\n",
       "      <th>blockchain/block_count</th>\n",
       "      <th>...</th>\n",
       "      <th>addresses/receiving_count</th>\n",
       "      <th>addresses/new_non_zero_count</th>\n",
       "      <th>addresses/non_zero_count</th>\n",
       "      <th>addresses/min_point_zero_1_count</th>\n",
       "      <th>addresses/min_point_1_count</th>\n",
       "      <th>addresses/min_1_count</th>\n",
       "      <th>addresses/min_10_count</th>\n",
       "      <th>addresses/min_100_count</th>\n",
       "      <th>addresses/min_1k_count</th>\n",
       "      <th>addresses/min_10k_count</th>\n",
       "    </tr>\n",
       "    <tr>\n",
       "      <th>Date</th>\n",
       "      <th></th>\n",
       "      <th></th>\n",
       "      <th></th>\n",
       "      <th></th>\n",
       "      <th></th>\n",
       "      <th></th>\n",
       "      <th></th>\n",
       "      <th></th>\n",
       "      <th></th>\n",
       "      <th></th>\n",
       "      <th></th>\n",
       "      <th></th>\n",
       "      <th></th>\n",
       "      <th></th>\n",
       "      <th></th>\n",
       "      <th></th>\n",
       "      <th></th>\n",
       "      <th></th>\n",
       "      <th></th>\n",
       "      <th></th>\n",
       "      <th></th>\n",
       "    </tr>\n",
       "  </thead>\n",
       "  <tbody>\n",
       "    <tr>\n",
       "      <th>2020-12-25</th>\n",
       "      <td>923.458115</td>\n",
       "      <td>10.114081</td>\n",
       "      <td>3.212691</td>\n",
       "      <td>24688.211520</td>\n",
       "      <td>-0.001589</td>\n",
       "      <td>8467.173679</td>\n",
       "      <td>2.837378</td>\n",
       "      <td>80187763369133704478720.000000</td>\n",
       "      <td>133658648082637996032.000000</td>\n",
       "      <td>144.000000</td>\n",
       "      <td>...</td>\n",
       "      <td>662961.000000</td>\n",
       "      <td>474667.000000</td>\n",
       "      <td>33073258.000000</td>\n",
       "      <td>8513136.000000</td>\n",
       "      <td>3130986.000000</td>\n",
       "      <td>828971.000000</td>\n",
       "      <td>153594.000000</td>\n",
       "      <td>16068.000000</td>\n",
       "      <td>2228.000000</td>\n",
       "      <td>103.000000</td>\n",
       "    </tr>\n",
       "    <tr>\n",
       "      <th>2020-12-26</th>\n",
       "      <td>1752.037180</td>\n",
       "      <td>10.182643</td>\n",
       "      <td>3.254318</td>\n",
       "      <td>26440.248700</td>\n",
       "      <td>-0.009069</td>\n",
       "      <td>8511.239439</td>\n",
       "      <td>2.967878</td>\n",
       "      <td>80187763369133704478720.000000</td>\n",
       "      <td>127352989515328995328.000000</td>\n",
       "      <td>137.000000</td>\n",
       "      <td>...</td>\n",
       "      <td>627828.000000</td>\n",
       "      <td>448279.000000</td>\n",
       "      <td>33075652.000000</td>\n",
       "      <td>8490133.000000</td>\n",
       "      <td>3122900.000000</td>\n",
       "      <td>826721.000000</td>\n",
       "      <td>153580.000000</td>\n",
       "      <td>16104.000000</td>\n",
       "      <td>2221.000000</td>\n",
       "      <td>102.000000</td>\n",
       "    </tr>\n",
       "    <tr>\n",
       "      <th>2020-12-27</th>\n",
       "      <td>-52.099245</td>\n",
       "      <td>10.180670</td>\n",
       "      <td>3.462559</td>\n",
       "      <td>26388.149456</td>\n",
       "      <td>-0.067189</td>\n",
       "      <td>8610.606247</td>\n",
       "      <td>3.140541</td>\n",
       "      <td>80187763369133704478720.000000</td>\n",
       "      <td>136527494404802002944.000000</td>\n",
       "      <td>148.000000</td>\n",
       "      <td>...</td>\n",
       "      <td>696511.000000</td>\n",
       "      <td>503446.000000</td>\n",
       "      <td>33070470.000000</td>\n",
       "      <td>8470448.000000</td>\n",
       "      <td>3120657.000000</td>\n",
       "      <td>825437.000000</td>\n",
       "      <td>153305.000000</td>\n",
       "      <td>16038.000000</td>\n",
       "      <td>2225.000000</td>\n",
       "      <td>102.000000</td>\n",
       "    </tr>\n",
       "    <tr>\n",
       "      <th>2020-12-28</th>\n",
       "      <td>710.803298</td>\n",
       "      <td>10.207250</td>\n",
       "      <td>2.585531</td>\n",
       "      <td>27098.952754</td>\n",
       "      <td>-0.042062</td>\n",
       "      <td>8811.238744</td>\n",
       "      <td>3.061128</td>\n",
       "      <td>79884643861355300913152.000000</td>\n",
       "      <td>148273901331699007488.000000</td>\n",
       "      <td>160.000000</td>\n",
       "      <td>...</td>\n",
       "      <td>717060.000000</td>\n",
       "      <td>510439.000000</td>\n",
       "      <td>33024571.000000</td>\n",
       "      <td>8472554.000000</td>\n",
       "      <td>3121921.000000</td>\n",
       "      <td>825430.000000</td>\n",
       "      <td>153690.000000</td>\n",
       "      <td>16197.000000</td>\n",
       "      <td>2225.000000</td>\n",
       "      <td>98.000000</td>\n",
       "    </tr>\n",
       "    <tr>\n",
       "      <th>2020-12-29</th>\n",
       "      <td>226.035353</td>\n",
       "      <td>10.215557</td>\n",
       "      <td>2.754933</td>\n",
       "      <td>27324.988106</td>\n",
       "      <td>-0.034072</td>\n",
       "      <td>8943.516636</td>\n",
       "      <td>2.984407</td>\n",
       "      <td>79884643861355300913152.000000</td>\n",
       "      <td>140440271419453997056.000000</td>\n",
       "      <td>152.000000</td>\n",
       "      <td>...</td>\n",
       "      <td>775904.000000</td>\n",
       "      <td>560252.000000</td>\n",
       "      <td>33035139.000000</td>\n",
       "      <td>8480292.000000</td>\n",
       "      <td>3120133.000000</td>\n",
       "      <td>825876.000000</td>\n",
       "      <td>153524.000000</td>\n",
       "      <td>16227.000000</td>\n",
       "      <td>2257.000000</td>\n",
       "      <td>98.000000</td>\n",
       "    </tr>\n",
       "  </tbody>\n",
       "</table>\n",
       "<p>5 rows × 91 columns</p>\n",
       "</div>"
      ],
      "text/plain": [
       "            Daily Return in USD  Log Price in USD  \\\n",
       "Date                                                \n",
       "2020-12-25           923.458115         10.114081   \n",
       "2020-12-26          1752.037180         10.182643   \n",
       "2020-12-27           -52.099245         10.180670   \n",
       "2020-12-28           710.803298         10.207250   \n",
       "2020-12-29           226.035353         10.215557   \n",
       "\n",
       "            Volatility Daily Log Return in Percent 5D  market/price_usd_close  \\\n",
       "Date                                                                            \n",
       "2020-12-25                                   3.212691            24688.211520   \n",
       "2020-12-26                                   3.254318            26440.248700   \n",
       "2020-12-27                                   3.462559            26388.149456   \n",
       "2020-12-28                                   2.585531            27098.952754   \n",
       "2020-12-29                                   2.754933            27324.988106   \n",
       "\n",
       "            market/price_drawdown_relative  market/price_realized_usd  \\\n",
       "Date                                                                    \n",
       "2020-12-25                       -0.001589                8467.173679   \n",
       "2020-12-26                       -0.009069                8511.239439   \n",
       "2020-12-27                       -0.067189                8610.606247   \n",
       "2020-12-28                       -0.042062                8811.238744   \n",
       "2020-12-29                       -0.034072                8943.516636   \n",
       "\n",
       "            market/mvrv       mining/difficulty_latest  \\\n",
       "Date                                                     \n",
       "2020-12-25     2.837378 80187763369133704478720.000000   \n",
       "2020-12-26     2.967878 80187763369133704478720.000000   \n",
       "2020-12-27     3.140541 80187763369133704478720.000000   \n",
       "2020-12-28     3.061128 79884643861355300913152.000000   \n",
       "2020-12-29     2.984407 79884643861355300913152.000000   \n",
       "\n",
       "                  mining/hash_rate_mean  blockchain/block_count  ...  \\\n",
       "Date                                                             ...   \n",
       "2020-12-25 133658648082637996032.000000              144.000000  ...   \n",
       "2020-12-26 127352989515328995328.000000              137.000000  ...   \n",
       "2020-12-27 136527494404802002944.000000              148.000000  ...   \n",
       "2020-12-28 148273901331699007488.000000              160.000000  ...   \n",
       "2020-12-29 140440271419453997056.000000              152.000000  ...   \n",
       "\n",
       "            addresses/receiving_count  addresses/new_non_zero_count  \\\n",
       "Date                                                                  \n",
       "2020-12-25              662961.000000                 474667.000000   \n",
       "2020-12-26              627828.000000                 448279.000000   \n",
       "2020-12-27              696511.000000                 503446.000000   \n",
       "2020-12-28              717060.000000                 510439.000000   \n",
       "2020-12-29              775904.000000                 560252.000000   \n",
       "\n",
       "            addresses/non_zero_count  addresses/min_point_zero_1_count  \\\n",
       "Date                                                                     \n",
       "2020-12-25           33073258.000000                    8513136.000000   \n",
       "2020-12-26           33075652.000000                    8490133.000000   \n",
       "2020-12-27           33070470.000000                    8470448.000000   \n",
       "2020-12-28           33024571.000000                    8472554.000000   \n",
       "2020-12-29           33035139.000000                    8480292.000000   \n",
       "\n",
       "            addresses/min_point_1_count  addresses/min_1_count  \\\n",
       "Date                                                             \n",
       "2020-12-25               3130986.000000          828971.000000   \n",
       "2020-12-26               3122900.000000          826721.000000   \n",
       "2020-12-27               3120657.000000          825437.000000   \n",
       "2020-12-28               3121921.000000          825430.000000   \n",
       "2020-12-29               3120133.000000          825876.000000   \n",
       "\n",
       "            addresses/min_10_count  addresses/min_100_count  \\\n",
       "Date                                                          \n",
       "2020-12-25           153594.000000             16068.000000   \n",
       "2020-12-26           153580.000000             16104.000000   \n",
       "2020-12-27           153305.000000             16038.000000   \n",
       "2020-12-28           153690.000000             16197.000000   \n",
       "2020-12-29           153524.000000             16227.000000   \n",
       "\n",
       "            addresses/min_1k_count  addresses/min_10k_count  \n",
       "Date                                                         \n",
       "2020-12-25             2228.000000               103.000000  \n",
       "2020-12-26             2221.000000               102.000000  \n",
       "2020-12-27             2225.000000               102.000000  \n",
       "2020-12-28             2225.000000                98.000000  \n",
       "2020-12-29             2257.000000                98.000000  \n",
       "\n",
       "[5 rows x 91 columns]"
      ]
     },
     "execution_count": 88,
     "metadata": {},
     "output_type": "execute_result"
    }
   ],
   "source": [
    "df_blockchain.tail()"
   ]
  },
  {
   "cell_type": "code",
   "execution_count": 89,
   "metadata": {
    "ExecuteTime": {
     "end_time": "2021-01-05T23:12:58.761960Z",
     "start_time": "2021-01-05T23:12:58.575418Z"
    }
   },
   "outputs": [
    {
     "data": {
      "text/html": [
       "<div>\n",
       "<style scoped>\n",
       "    .dataframe tbody tr th:only-of-type {\n",
       "        vertical-align: middle;\n",
       "    }\n",
       "\n",
       "    .dataframe tbody tr th {\n",
       "        vertical-align: top;\n",
       "    }\n",
       "\n",
       "    .dataframe thead th {\n",
       "        text-align: right;\n",
       "    }\n",
       "</style>\n",
       "<table border=\"1\" class=\"dataframe\">\n",
       "  <thead>\n",
       "    <tr style=\"text-align: right;\">\n",
       "      <th></th>\n",
       "      <th>Daily Return in USD</th>\n",
       "      <th>Log Price in USD</th>\n",
       "      <th>Volatility Daily Log Return in Percent 5D</th>\n",
       "      <th>market/price_usd_close</th>\n",
       "      <th>market/price_drawdown_relative</th>\n",
       "      <th>market/price_realized_usd</th>\n",
       "      <th>market/mvrv</th>\n",
       "      <th>mining/difficulty_latest</th>\n",
       "      <th>mining/hash_rate_mean</th>\n",
       "      <th>blockchain/block_count</th>\n",
       "      <th>...</th>\n",
       "      <th>addresses/receiving_count</th>\n",
       "      <th>addresses/new_non_zero_count</th>\n",
       "      <th>addresses/non_zero_count</th>\n",
       "      <th>addresses/min_point_zero_1_count</th>\n",
       "      <th>addresses/min_point_1_count</th>\n",
       "      <th>addresses/min_1_count</th>\n",
       "      <th>addresses/min_10_count</th>\n",
       "      <th>addresses/min_100_count</th>\n",
       "      <th>addresses/min_1k_count</th>\n",
       "      <th>addresses/min_10k_count</th>\n",
       "    </tr>\n",
       "  </thead>\n",
       "  <tbody>\n",
       "    <tr>\n",
       "      <th>count</th>\n",
       "      <td>3455.000000</td>\n",
       "      <td>3455.000000</td>\n",
       "      <td>3455.000000</td>\n",
       "      <td>3455.000000</td>\n",
       "      <td>3455.000000</td>\n",
       "      <td>3455.000000</td>\n",
       "      <td>3455.000000</td>\n",
       "      <td>3455.000000</td>\n",
       "      <td>3455.000000</td>\n",
       "      <td>3455.000000</td>\n",
       "      <td>...</td>\n",
       "      <td>3455.000000</td>\n",
       "      <td>3455.000000</td>\n",
       "      <td>3455.000000</td>\n",
       "      <td>3455.000000</td>\n",
       "      <td>3455.000000</td>\n",
       "      <td>3455.000000</td>\n",
       "      <td>3455.000000</td>\n",
       "      <td>3455.000000</td>\n",
       "      <td>3455.000000</td>\n",
       "      <td>3455.000000</td>\n",
       "    </tr>\n",
       "    <tr>\n",
       "      <th>mean</th>\n",
       "      <td>7.904827</td>\n",
       "      <td>6.386595</td>\n",
       "      <td>3.533192</td>\n",
       "      <td>3327.681942</td>\n",
       "      <td>-0.545322</td>\n",
       "      <td>1970.117358</td>\n",
       "      <td>1.695819</td>\n",
       "      <td>14353719238361098485760.000000</td>\n",
       "      <td>24302747001824137216.000000</td>\n",
       "      <td>152.562373</td>\n",
       "      <td>...</td>\n",
       "      <td>327058.805210</td>\n",
       "      <td>219136.283647</td>\n",
       "      <td>12330936.860203</td>\n",
       "      <td>3504837.261939</td>\n",
       "      <td>1404429.580029</td>\n",
       "      <td>472796.956585</td>\n",
       "      <td>125650.617366</td>\n",
       "      <td>14687.789580</td>\n",
       "      <td>1624.120116</td>\n",
       "      <td>102.243126</td>\n",
       "    </tr>\n",
       "    <tr>\n",
       "      <th>std</th>\n",
       "      <td>241.090445</td>\n",
       "      <td>2.486828</td>\n",
       "      <td>3.349979</td>\n",
       "      <td>4486.624203</td>\n",
       "      <td>0.234312</td>\n",
       "      <td>2442.558200</td>\n",
       "      <td>0.746033</td>\n",
       "      <td>23759441662281179463680.000000</td>\n",
       "      <td>40114982933232230400.000000</td>\n",
       "      <td>18.957533</td>\n",
       "      <td>...</td>\n",
       "      <td>229458.791348</td>\n",
       "      <td>161017.939896</td>\n",
       "      <td>10912236.455319</td>\n",
       "      <td>2930391.383391</td>\n",
       "      <td>1033833.023818</td>\n",
       "      <td>241077.013536</td>\n",
       "      <td>28896.553214</td>\n",
       "      <td>3618.618890</td>\n",
       "      <td>389.147207</td>\n",
       "      <td>14.697370</td>\n",
       "    </tr>\n",
       "    <tr>\n",
       "      <th>min</th>\n",
       "      <td>-3052.461475</td>\n",
       "      <td>0.718341</td>\n",
       "      <td>0.157723</td>\n",
       "      <td>2.051027</td>\n",
       "      <td>-0.935694</td>\n",
       "      <td>4.780226</td>\n",
       "      <td>0.402165</td>\n",
       "      <td>4684588175054590.000000</td>\n",
       "      <td>6399665203131.940430</td>\n",
       "      <td>80.000000</td>\n",
       "      <td>...</td>\n",
       "      <td>7539.000000</td>\n",
       "      <td>4241.000000</td>\n",
       "      <td>296738.000000</td>\n",
       "      <td>195085.000000</td>\n",
       "      <td>125059.000000</td>\n",
       "      <td>98120.000000</td>\n",
       "      <td>64333.000000</td>\n",
       "      <td>3746.000000</td>\n",
       "      <td>597.000000</td>\n",
       "      <td>62.000000</td>\n",
       "    </tr>\n",
       "    <tr>\n",
       "      <th>25%</th>\n",
       "      <td>-7.002932</td>\n",
       "      <td>5.409758</td>\n",
       "      <td>1.527148</td>\n",
       "      <td>223.577367</td>\n",
       "      <td>-0.712791</td>\n",
       "      <td>164.913126</td>\n",
       "      <td>1.193815</td>\n",
       "      <td>2617708177598920192.000000</td>\n",
       "      <td>5139102536382890.000000</td>\n",
       "      <td>140.000000</td>\n",
       "      <td>...</td>\n",
       "      <td>103745.500000</td>\n",
       "      <td>62254.000000</td>\n",
       "      <td>2114197.000000</td>\n",
       "      <td>703422.000000</td>\n",
       "      <td>408416.500000</td>\n",
       "      <td>235756.500000</td>\n",
       "      <td>99691.500000</td>\n",
       "      <td>12937.000000</td>\n",
       "      <td>1461.000000</td>\n",
       "      <td>97.000000</td>\n",
       "    </tr>\n",
       "    <tr>\n",
       "      <th>50%</th>\n",
       "      <td>0.108716</td>\n",
       "      <td>6.429602</td>\n",
       "      <td>2.662162</td>\n",
       "      <td>619.926985</td>\n",
       "      <td>-0.593551</td>\n",
       "      <td>351.552875</td>\n",
       "      <td>1.605403</td>\n",
       "      <td>716621792837638029312.000000</td>\n",
       "      <td>1252290268138319872.000000</td>\n",
       "      <td>151.000000</td>\n",
       "      <td>...</td>\n",
       "      <td>368721.000000</td>\n",
       "      <td>225591.000000</td>\n",
       "      <td>7583326.000000</td>\n",
       "      <td>2594208.000000</td>\n",
       "      <td>1198967.000000</td>\n",
       "      <td>484527.000000</td>\n",
       "      <td>138476.000000</td>\n",
       "      <td>16179.000000</td>\n",
       "      <td>1688.000000</td>\n",
       "      <td>105.000000</td>\n",
       "    </tr>\n",
       "    <tr>\n",
       "      <th>75%</th>\n",
       "      <td>13.314853</td>\n",
       "      <td>8.793180</td>\n",
       "      <td>4.409015</td>\n",
       "      <td>6589.151018</td>\n",
       "      <td>-0.445004</td>\n",
       "      <td>4961.513717</td>\n",
       "      <td>1.988186</td>\n",
       "      <td>24131685420266202071040.000000</td>\n",
       "      <td>39311589905386799104.000000</td>\n",
       "      <td>163.000000</td>\n",
       "      <td>...</td>\n",
       "      <td>513610.000000</td>\n",
       "      <td>351713.000000</td>\n",
       "      <td>22451290.500000</td>\n",
       "      <td>6394029.500000</td>\n",
       "      <td>2475117.000000</td>\n",
       "      <td>711475.000000</td>\n",
       "      <td>149825.000000</td>\n",
       "      <td>17142.000000</td>\n",
       "      <td>1848.500000</td>\n",
       "      <td>113.000000</td>\n",
       "    </tr>\n",
       "    <tr>\n",
       "      <th>max</th>\n",
       "      <td>3224.132131</td>\n",
       "      <td>10.215557</td>\n",
       "      <td>41.749946</td>\n",
       "      <td>27324.988106</td>\n",
       "      <td>0.000000</td>\n",
       "      <td>8943.516636</td>\n",
       "      <td>5.733982</td>\n",
       "      <td>85887904103269694177280.000000</td>\n",
       "      <td>160765244797356015616.000000</td>\n",
       "      <td>260.000000</td>\n",
       "      <td>...</td>\n",
       "      <td>1072829.000000</td>\n",
       "      <td>800180.000000</td>\n",
       "      <td>33275082.000000</td>\n",
       "      <td>8753449.000000</td>\n",
       "      <td>3186455.000000</td>\n",
       "      <td>829715.000000</td>\n",
       "      <td>157275.000000</td>\n",
       "      <td>18543.000000</td>\n",
       "      <td>2306.000000</td>\n",
       "      <td>126.000000</td>\n",
       "    </tr>\n",
       "  </tbody>\n",
       "</table>\n",
       "<p>8 rows × 91 columns</p>\n",
       "</div>"
      ],
      "text/plain": [
       "       Daily Return in USD  Log Price in USD  \\\n",
       "count          3455.000000       3455.000000   \n",
       "mean              7.904827          6.386595   \n",
       "std             241.090445          2.486828   \n",
       "min           -3052.461475          0.718341   \n",
       "25%              -7.002932          5.409758   \n",
       "50%               0.108716          6.429602   \n",
       "75%              13.314853          8.793180   \n",
       "max            3224.132131         10.215557   \n",
       "\n",
       "       Volatility Daily Log Return in Percent 5D  market/price_usd_close  \\\n",
       "count                                3455.000000             3455.000000   \n",
       "mean                                    3.533192             3327.681942   \n",
       "std                                     3.349979             4486.624203   \n",
       "min                                     0.157723                2.051027   \n",
       "25%                                     1.527148              223.577367   \n",
       "50%                                     2.662162              619.926985   \n",
       "75%                                     4.409015             6589.151018   \n",
       "max                                    41.749946            27324.988106   \n",
       "\n",
       "       market/price_drawdown_relative  market/price_realized_usd  market/mvrv  \\\n",
       "count                     3455.000000                3455.000000  3455.000000   \n",
       "mean                        -0.545322                1970.117358     1.695819   \n",
       "std                          0.234312                2442.558200     0.746033   \n",
       "min                         -0.935694                   4.780226     0.402165   \n",
       "25%                         -0.712791                 164.913126     1.193815   \n",
       "50%                         -0.593551                 351.552875     1.605403   \n",
       "75%                         -0.445004                4961.513717     1.988186   \n",
       "max                          0.000000                8943.516636     5.733982   \n",
       "\n",
       "            mining/difficulty_latest        mining/hash_rate_mean  \\\n",
       "count                    3455.000000                  3455.000000   \n",
       "mean  14353719238361098485760.000000  24302747001824137216.000000   \n",
       "std   23759441662281179463680.000000  40114982933232230400.000000   \n",
       "min          4684588175054590.000000         6399665203131.940430   \n",
       "25%       2617708177598920192.000000      5139102536382890.000000   \n",
       "50%     716621792837638029312.000000   1252290268138319872.000000   \n",
       "75%   24131685420266202071040.000000  39311589905386799104.000000   \n",
       "max   85887904103269694177280.000000 160765244797356015616.000000   \n",
       "\n",
       "       blockchain/block_count  ...  addresses/receiving_count  \\\n",
       "count             3455.000000  ...                3455.000000   \n",
       "mean               152.562373  ...              327058.805210   \n",
       "std                 18.957533  ...              229458.791348   \n",
       "min                 80.000000  ...                7539.000000   \n",
       "25%                140.000000  ...              103745.500000   \n",
       "50%                151.000000  ...              368721.000000   \n",
       "75%                163.000000  ...              513610.000000   \n",
       "max                260.000000  ...             1072829.000000   \n",
       "\n",
       "       addresses/new_non_zero_count  addresses/non_zero_count  \\\n",
       "count                   3455.000000               3455.000000   \n",
       "mean                  219136.283647           12330936.860203   \n",
       "std                   161017.939896           10912236.455319   \n",
       "min                     4241.000000             296738.000000   \n",
       "25%                    62254.000000            2114197.000000   \n",
       "50%                   225591.000000            7583326.000000   \n",
       "75%                   351713.000000           22451290.500000   \n",
       "max                   800180.000000           33275082.000000   \n",
       "\n",
       "       addresses/min_point_zero_1_count  addresses/min_point_1_count  \\\n",
       "count                       3455.000000                  3455.000000   \n",
       "mean                     3504837.261939               1404429.580029   \n",
       "std                      2930391.383391               1033833.023818   \n",
       "min                       195085.000000                125059.000000   \n",
       "25%                       703422.000000                408416.500000   \n",
       "50%                      2594208.000000               1198967.000000   \n",
       "75%                      6394029.500000               2475117.000000   \n",
       "max                      8753449.000000               3186455.000000   \n",
       "\n",
       "       addresses/min_1_count  addresses/min_10_count  addresses/min_100_count  \\\n",
       "count            3455.000000             3455.000000              3455.000000   \n",
       "mean           472796.956585           125650.617366             14687.789580   \n",
       "std            241077.013536            28896.553214              3618.618890   \n",
       "min             98120.000000            64333.000000              3746.000000   \n",
       "25%            235756.500000            99691.500000             12937.000000   \n",
       "50%            484527.000000           138476.000000             16179.000000   \n",
       "75%            711475.000000           149825.000000             17142.000000   \n",
       "max            829715.000000           157275.000000             18543.000000   \n",
       "\n",
       "       addresses/min_1k_count  addresses/min_10k_count  \n",
       "count             3455.000000              3455.000000  \n",
       "mean              1624.120116               102.243126  \n",
       "std                389.147207                14.697370  \n",
       "min                597.000000                62.000000  \n",
       "25%               1461.000000                97.000000  \n",
       "50%               1688.000000               105.000000  \n",
       "75%               1848.500000               113.000000  \n",
       "max               2306.000000               126.000000  \n",
       "\n",
       "[8 rows x 91 columns]"
      ]
     },
     "execution_count": 89,
     "metadata": {},
     "output_type": "execute_result"
    }
   ],
   "source": [
    "# Summary of each variable\n",
    "df_blockchain.describe()"
   ]
  },
  {
   "cell_type": "code",
   "execution_count": 90,
   "metadata": {
    "ExecuteTime": {
     "end_time": "2021-01-05T23:12:59.199614Z",
     "start_time": "2021-01-05T23:12:58.763275Z"
    }
   },
   "outputs": [],
   "source": [
    "# Creating CSV-File of Blockchain Data\n",
    "df_blockchain.to_csv(\"df_dataset1.csv\")"
   ]
  },
  {
   "cell_type": "code",
   "execution_count": null,
   "metadata": {},
   "outputs": [],
   "source": []
  },
  {
   "cell_type": "markdown",
   "metadata": {},
   "source": [
    "# Classification Models - Data Set Variations"
   ]
  },
  {
   "cell_type": "code",
   "execution_count": 91,
   "metadata": {
    "ExecuteTime": {
     "end_time": "2021-01-05T23:13:02.274615Z",
     "start_time": "2021-01-05T23:12:59.201607Z"
    },
    "scrolled": true
   },
   "outputs": [],
   "source": [
    "# Import of Modules and Packages\n",
    "import os\n",
    "import pandas as pd\n",
    "import matplotlib.pyplot as plt\n",
    "import math\n",
    "\n",
    "from sklearn.preprocessing import StandardScaler, MinMaxScaler\n",
    "\n",
    "from sklearn.model_selection import train_test_split\n",
    "from sklearn.model_selection import cross_val_score\n",
    "from sklearn.model_selection import StratifiedKFold\n",
    "from sklearn.metrics import roc_auc_score, roc_curve\n",
    "from sklearn.metrics import confusion_matrix, classification_report\n",
    "\n",
    "# Logistic Regression\n",
    "from sklearn.linear_model import LogisticRegression\n",
    "from sklearn.tree import DecisionTreeClassifier\n",
    "from sklearn.ensemble import RandomForestClassifier\n",
    "from sklearn.neighbors import KNeighborsClassifier\n",
    "from pycaret.classification import *\n",
    "\n",
    "# Deep Neural Networks\n",
    "from tensorflow import keras\n",
    "from keras.wrappers.scikit_learn import KerasClassifier\n",
    "from keras.models import Sequential\n",
    "from keras.layers import Dense\n",
    "from keras.optimizers import SGD\n",
    "from keras.optimizers import Adam\n",
    "import numpy as np\n",
    "\n",
    "# PyCaret\n",
    "import pycaret"
   ]
  },
  {
   "cell_type": "code",
   "execution_count": 92,
   "metadata": {
    "ExecuteTime": {
     "end_time": "2021-01-05T23:13:02.290582Z",
     "start_time": "2021-01-05T23:13:02.277895Z"
    }
   },
   "outputs": [],
   "source": [
    "# Adjustment of Decimal Places\n",
    "pd.options.display.float_format = '{:.2f}'.format"
   ]
  },
  {
   "cell_type": "markdown",
   "metadata": {},
   "source": [
    "# Import Data Sets"
   ]
  },
  {
   "cell_type": "markdown",
   "metadata": {},
   "source": [
    "## Data Set I."
   ]
  },
  {
   "cell_type": "code",
   "execution_count": 93,
   "metadata": {
    "ExecuteTime": {
     "end_time": "2021-01-05T23:13:02.306580Z",
     "start_time": "2021-01-05T23:13:02.292544Z"
    }
   },
   "outputs": [
    {
     "data": {
      "text/plain": [
       "'C:\\\\Users\\\\markus.gebele\\\\github_repo\\\\JupyterLabDir\\\\Rest\\\\MA BTC\\\\Markus_Code_MA_final\\\\20201010'"
      ]
     },
     "execution_count": 93,
     "metadata": {},
     "output_type": "execute_result"
    }
   ],
   "source": [
    "os.getcwd()"
   ]
  },
  {
   "cell_type": "code",
   "execution_count": 94,
   "metadata": {
    "ExecuteTime": {
     "end_time": "2021-01-05T23:13:02.400217Z",
     "start_time": "2021-01-05T23:13:02.309777Z"
    }
   },
   "outputs": [],
   "source": [
    "# CSV Import of Data Set I. - Blockchain Data\n",
    "df_dataset1 = pd.read_csv('df_dataset1.csv', parse_dates = True, index_col='Date')"
   ]
  },
  {
   "cell_type": "code",
   "execution_count": 95,
   "metadata": {
    "ExecuteTime": {
     "end_time": "2021-01-05T23:13:02.431579Z",
     "start_time": "2021-01-05T23:13:02.401180Z"
    }
   },
   "outputs": [
    {
     "data": {
      "text/html": [
       "<div>\n",
       "<style scoped>\n",
       "    .dataframe tbody tr th:only-of-type {\n",
       "        vertical-align: middle;\n",
       "    }\n",
       "\n",
       "    .dataframe tbody tr th {\n",
       "        vertical-align: top;\n",
       "    }\n",
       "\n",
       "    .dataframe thead th {\n",
       "        text-align: right;\n",
       "    }\n",
       "</style>\n",
       "<table border=\"1\" class=\"dataframe\">\n",
       "  <thead>\n",
       "    <tr style=\"text-align: right;\">\n",
       "      <th></th>\n",
       "      <th>Daily Return in USD</th>\n",
       "      <th>Log Price in USD</th>\n",
       "      <th>Volatility Daily Log Return in Percent 5D</th>\n",
       "      <th>market/price_usd_close</th>\n",
       "      <th>market/price_drawdown_relative</th>\n",
       "      <th>market/price_realized_usd</th>\n",
       "      <th>market/mvrv</th>\n",
       "      <th>mining/difficulty_latest</th>\n",
       "      <th>mining/hash_rate_mean</th>\n",
       "      <th>blockchain/block_count</th>\n",
       "      <th>...</th>\n",
       "      <th>addresses/receiving_count</th>\n",
       "      <th>addresses/new_non_zero_count</th>\n",
       "      <th>addresses/non_zero_count</th>\n",
       "      <th>addresses/min_point_zero_1_count</th>\n",
       "      <th>addresses/min_point_1_count</th>\n",
       "      <th>addresses/min_1_count</th>\n",
       "      <th>addresses/min_10_count</th>\n",
       "      <th>addresses/min_100_count</th>\n",
       "      <th>addresses/min_1k_count</th>\n",
       "      <th>addresses/min_10k_count</th>\n",
       "    </tr>\n",
       "    <tr>\n",
       "      <th>Date</th>\n",
       "      <th></th>\n",
       "      <th></th>\n",
       "      <th></th>\n",
       "      <th></th>\n",
       "      <th></th>\n",
       "      <th></th>\n",
       "      <th></th>\n",
       "      <th></th>\n",
       "      <th></th>\n",
       "      <th></th>\n",
       "      <th></th>\n",
       "      <th></th>\n",
       "      <th></th>\n",
       "      <th></th>\n",
       "      <th></th>\n",
       "      <th></th>\n",
       "      <th></th>\n",
       "      <th></th>\n",
       "      <th></th>\n",
       "      <th></th>\n",
       "      <th></th>\n",
       "    </tr>\n",
       "  </thead>\n",
       "  <tbody>\n",
       "    <tr>\n",
       "      <th>2011-07-16</th>\n",
       "      <td>-0.09</td>\n",
       "      <td>2.62</td>\n",
       "      <td>0.70</td>\n",
       "      <td>13.72</td>\n",
       "      <td>-0.57</td>\n",
       "      <td>7.31</td>\n",
       "      <td>1.87</td>\n",
       "      <td>6713154126051590.00</td>\n",
       "      <td>11654137109701.80</td>\n",
       "      <td>157.00</td>\n",
       "      <td>...</td>\n",
       "      <td>20543.00</td>\n",
       "      <td>14625.00</td>\n",
       "      <td>296738.00</td>\n",
       "      <td>196860.00</td>\n",
       "      <td>126035.00</td>\n",
       "      <td>99005.00</td>\n",
       "      <td>64333.00</td>\n",
       "      <td>3805.00</td>\n",
       "      <td>598.00</td>\n",
       "      <td>62.00</td>\n",
       "    </tr>\n",
       "    <tr>\n",
       "      <th>2011-07-17</th>\n",
       "      <td>-0.55</td>\n",
       "      <td>2.58</td>\n",
       "      <td>1.70</td>\n",
       "      <td>13.17</td>\n",
       "      <td>-0.59</td>\n",
       "      <td>7.32</td>\n",
       "      <td>1.82</td>\n",
       "      <td>6713154126051590.00</td>\n",
       "      <td>13208752331351.50</td>\n",
       "      <td>170.00</td>\n",
       "      <td>...</td>\n",
       "      <td>21180.00</td>\n",
       "      <td>15530.00</td>\n",
       "      <td>303267.00</td>\n",
       "      <td>197576.00</td>\n",
       "      <td>126461.00</td>\n",
       "      <td>99364.00</td>\n",
       "      <td>64511.00</td>\n",
       "      <td>3824.00</td>\n",
       "      <td>599.00</td>\n",
       "      <td>62.00</td>\n",
       "    </tr>\n",
       "    <tr>\n",
       "      <th>2011-07-18</th>\n",
       "      <td>0.26</td>\n",
       "      <td>2.60</td>\n",
       "      <td>2.23</td>\n",
       "      <td>13.42</td>\n",
       "      <td>-0.58</td>\n",
       "      <td>7.01</td>\n",
       "      <td>1.86</td>\n",
       "      <td>6713154126051590.00</td>\n",
       "      <td>13355914725081.60</td>\n",
       "      <td>170.00</td>\n",
       "      <td>...</td>\n",
       "      <td>21198.00</td>\n",
       "      <td>15356.00</td>\n",
       "      <td>305043.00</td>\n",
       "      <td>195085.00</td>\n",
       "      <td>125059.00</td>\n",
       "      <td>98120.00</td>\n",
       "      <td>64454.00</td>\n",
       "      <td>3746.00</td>\n",
       "      <td>600.00</td>\n",
       "      <td>63.00</td>\n",
       "    </tr>\n",
       "    <tr>\n",
       "      <th>2011-07-19</th>\n",
       "      <td>0.42</td>\n",
       "      <td>2.63</td>\n",
       "      <td>2.83</td>\n",
       "      <td>13.84</td>\n",
       "      <td>-0.57</td>\n",
       "      <td>7.03</td>\n",
       "      <td>1.96</td>\n",
       "      <td>7262342175053680.00</td>\n",
       "      <td>11065053631354.40</td>\n",
       "      <td>142.00</td>\n",
       "      <td>...</td>\n",
       "      <td>21433.00</td>\n",
       "      <td>15873.00</td>\n",
       "      <td>310575.00</td>\n",
       "      <td>196075.00</td>\n",
       "      <td>125791.00</td>\n",
       "      <td>98755.00</td>\n",
       "      <td>64598.00</td>\n",
       "      <td>3761.00</td>\n",
       "      <td>597.00</td>\n",
       "      <td>63.00</td>\n",
       "    </tr>\n",
       "    <tr>\n",
       "      <th>2011-07-20</th>\n",
       "      <td>-0.15</td>\n",
       "      <td>2.62</td>\n",
       "      <td>2.80</td>\n",
       "      <td>13.69</td>\n",
       "      <td>-0.57</td>\n",
       "      <td>6.97</td>\n",
       "      <td>1.98</td>\n",
       "      <td>7262342175053680.00</td>\n",
       "      <td>12525772772957.20</td>\n",
       "      <td>149.00</td>\n",
       "      <td>...</td>\n",
       "      <td>21633.00</td>\n",
       "      <td>15840.00</td>\n",
       "      <td>315842.00</td>\n",
       "      <td>196368.00</td>\n",
       "      <td>126121.00</td>\n",
       "      <td>99090.00</td>\n",
       "      <td>64643.00</td>\n",
       "      <td>3799.00</td>\n",
       "      <td>598.00</td>\n",
       "      <td>63.00</td>\n",
       "    </tr>\n",
       "    <tr>\n",
       "      <th>...</th>\n",
       "      <td>...</td>\n",
       "      <td>...</td>\n",
       "      <td>...</td>\n",
       "      <td>...</td>\n",
       "      <td>...</td>\n",
       "      <td>...</td>\n",
       "      <td>...</td>\n",
       "      <td>...</td>\n",
       "      <td>...</td>\n",
       "      <td>...</td>\n",
       "      <td>...</td>\n",
       "      <td>...</td>\n",
       "      <td>...</td>\n",
       "      <td>...</td>\n",
       "      <td>...</td>\n",
       "      <td>...</td>\n",
       "      <td>...</td>\n",
       "      <td>...</td>\n",
       "      <td>...</td>\n",
       "      <td>...</td>\n",
       "      <td>...</td>\n",
       "    </tr>\n",
       "    <tr>\n",
       "      <th>2020-12-25</th>\n",
       "      <td>923.46</td>\n",
       "      <td>10.11</td>\n",
       "      <td>3.21</td>\n",
       "      <td>24688.21</td>\n",
       "      <td>-0.00</td>\n",
       "      <td>8467.17</td>\n",
       "      <td>2.84</td>\n",
       "      <td>80187763369133704478720.00</td>\n",
       "      <td>133658648082637996032.00</td>\n",
       "      <td>144.00</td>\n",
       "      <td>...</td>\n",
       "      <td>662961.00</td>\n",
       "      <td>474667.00</td>\n",
       "      <td>33073258.00</td>\n",
       "      <td>8513136.00</td>\n",
       "      <td>3130986.00</td>\n",
       "      <td>828971.00</td>\n",
       "      <td>153594.00</td>\n",
       "      <td>16068.00</td>\n",
       "      <td>2228.00</td>\n",
       "      <td>103.00</td>\n",
       "    </tr>\n",
       "    <tr>\n",
       "      <th>2020-12-26</th>\n",
       "      <td>1752.04</td>\n",
       "      <td>10.18</td>\n",
       "      <td>3.25</td>\n",
       "      <td>26440.25</td>\n",
       "      <td>-0.01</td>\n",
       "      <td>8511.24</td>\n",
       "      <td>2.97</td>\n",
       "      <td>80187763369133704478720.00</td>\n",
       "      <td>127352989515328995328.00</td>\n",
       "      <td>137.00</td>\n",
       "      <td>...</td>\n",
       "      <td>627828.00</td>\n",
       "      <td>448279.00</td>\n",
       "      <td>33075652.00</td>\n",
       "      <td>8490133.00</td>\n",
       "      <td>3122900.00</td>\n",
       "      <td>826721.00</td>\n",
       "      <td>153580.00</td>\n",
       "      <td>16104.00</td>\n",
       "      <td>2221.00</td>\n",
       "      <td>102.00</td>\n",
       "    </tr>\n",
       "    <tr>\n",
       "      <th>2020-12-27</th>\n",
       "      <td>-52.10</td>\n",
       "      <td>10.18</td>\n",
       "      <td>3.46</td>\n",
       "      <td>26388.15</td>\n",
       "      <td>-0.07</td>\n",
       "      <td>8610.61</td>\n",
       "      <td>3.14</td>\n",
       "      <td>80187763369133704478720.00</td>\n",
       "      <td>136527494404802002944.00</td>\n",
       "      <td>148.00</td>\n",
       "      <td>...</td>\n",
       "      <td>696511.00</td>\n",
       "      <td>503446.00</td>\n",
       "      <td>33070470.00</td>\n",
       "      <td>8470448.00</td>\n",
       "      <td>3120657.00</td>\n",
       "      <td>825437.00</td>\n",
       "      <td>153305.00</td>\n",
       "      <td>16038.00</td>\n",
       "      <td>2225.00</td>\n",
       "      <td>102.00</td>\n",
       "    </tr>\n",
       "    <tr>\n",
       "      <th>2020-12-28</th>\n",
       "      <td>710.80</td>\n",
       "      <td>10.21</td>\n",
       "      <td>2.59</td>\n",
       "      <td>27098.95</td>\n",
       "      <td>-0.04</td>\n",
       "      <td>8811.24</td>\n",
       "      <td>3.06</td>\n",
       "      <td>79884643861355300913152.00</td>\n",
       "      <td>148273901331699007488.00</td>\n",
       "      <td>160.00</td>\n",
       "      <td>...</td>\n",
       "      <td>717060.00</td>\n",
       "      <td>510439.00</td>\n",
       "      <td>33024571.00</td>\n",
       "      <td>8472554.00</td>\n",
       "      <td>3121921.00</td>\n",
       "      <td>825430.00</td>\n",
       "      <td>153690.00</td>\n",
       "      <td>16197.00</td>\n",
       "      <td>2225.00</td>\n",
       "      <td>98.00</td>\n",
       "    </tr>\n",
       "    <tr>\n",
       "      <th>2020-12-29</th>\n",
       "      <td>226.04</td>\n",
       "      <td>10.22</td>\n",
       "      <td>2.75</td>\n",
       "      <td>27324.99</td>\n",
       "      <td>-0.03</td>\n",
       "      <td>8943.52</td>\n",
       "      <td>2.98</td>\n",
       "      <td>79884643861355300913152.00</td>\n",
       "      <td>140440271419453997056.00</td>\n",
       "      <td>152.00</td>\n",
       "      <td>...</td>\n",
       "      <td>775904.00</td>\n",
       "      <td>560252.00</td>\n",
       "      <td>33035139.00</td>\n",
       "      <td>8480292.00</td>\n",
       "      <td>3120133.00</td>\n",
       "      <td>825876.00</td>\n",
       "      <td>153524.00</td>\n",
       "      <td>16227.00</td>\n",
       "      <td>2257.00</td>\n",
       "      <td>98.00</td>\n",
       "    </tr>\n",
       "  </tbody>\n",
       "</table>\n",
       "<p>3455 rows × 91 columns</p>\n",
       "</div>"
      ],
      "text/plain": [
       "            Daily Return in USD  Log Price in USD  \\\n",
       "Date                                                \n",
       "2011-07-16                -0.09              2.62   \n",
       "2011-07-17                -0.55              2.58   \n",
       "2011-07-18                 0.26              2.60   \n",
       "2011-07-19                 0.42              2.63   \n",
       "2011-07-20                -0.15              2.62   \n",
       "...                         ...               ...   \n",
       "2020-12-25               923.46             10.11   \n",
       "2020-12-26              1752.04             10.18   \n",
       "2020-12-27               -52.10             10.18   \n",
       "2020-12-28               710.80             10.21   \n",
       "2020-12-29               226.04             10.22   \n",
       "\n",
       "            Volatility Daily Log Return in Percent 5D  market/price_usd_close  \\\n",
       "Date                                                                            \n",
       "2011-07-16                                       0.70                   13.72   \n",
       "2011-07-17                                       1.70                   13.17   \n",
       "2011-07-18                                       2.23                   13.42   \n",
       "2011-07-19                                       2.83                   13.84   \n",
       "2011-07-20                                       2.80                   13.69   \n",
       "...                                               ...                     ...   \n",
       "2020-12-25                                       3.21                24688.21   \n",
       "2020-12-26                                       3.25                26440.25   \n",
       "2020-12-27                                       3.46                26388.15   \n",
       "2020-12-28                                       2.59                27098.95   \n",
       "2020-12-29                                       2.75                27324.99   \n",
       "\n",
       "            market/price_drawdown_relative  market/price_realized_usd  \\\n",
       "Date                                                                    \n",
       "2011-07-16                           -0.57                       7.31   \n",
       "2011-07-17                           -0.59                       7.32   \n",
       "2011-07-18                           -0.58                       7.01   \n",
       "2011-07-19                           -0.57                       7.03   \n",
       "2011-07-20                           -0.57                       6.97   \n",
       "...                                    ...                        ...   \n",
       "2020-12-25                           -0.00                    8467.17   \n",
       "2020-12-26                           -0.01                    8511.24   \n",
       "2020-12-27                           -0.07                    8610.61   \n",
       "2020-12-28                           -0.04                    8811.24   \n",
       "2020-12-29                           -0.03                    8943.52   \n",
       "\n",
       "            market/mvrv   mining/difficulty_latest    mining/hash_rate_mean  \\\n",
       "Date                                                                          \n",
       "2011-07-16         1.87        6713154126051590.00        11654137109701.80   \n",
       "2011-07-17         1.82        6713154126051590.00        13208752331351.50   \n",
       "2011-07-18         1.86        6713154126051590.00        13355914725081.60   \n",
       "2011-07-19         1.96        7262342175053680.00        11065053631354.40   \n",
       "2011-07-20         1.98        7262342175053680.00        12525772772957.20   \n",
       "...                 ...                        ...                      ...   \n",
       "2020-12-25         2.84 80187763369133704478720.00 133658648082637996032.00   \n",
       "2020-12-26         2.97 80187763369133704478720.00 127352989515328995328.00   \n",
       "2020-12-27         3.14 80187763369133704478720.00 136527494404802002944.00   \n",
       "2020-12-28         3.06 79884643861355300913152.00 148273901331699007488.00   \n",
       "2020-12-29         2.98 79884643861355300913152.00 140440271419453997056.00   \n",
       "\n",
       "            blockchain/block_count  ...  addresses/receiving_count  \\\n",
       "Date                                ...                              \n",
       "2011-07-16                  157.00  ...                   20543.00   \n",
       "2011-07-17                  170.00  ...                   21180.00   \n",
       "2011-07-18                  170.00  ...                   21198.00   \n",
       "2011-07-19                  142.00  ...                   21433.00   \n",
       "2011-07-20                  149.00  ...                   21633.00   \n",
       "...                            ...  ...                        ...   \n",
       "2020-12-25                  144.00  ...                  662961.00   \n",
       "2020-12-26                  137.00  ...                  627828.00   \n",
       "2020-12-27                  148.00  ...                  696511.00   \n",
       "2020-12-28                  160.00  ...                  717060.00   \n",
       "2020-12-29                  152.00  ...                  775904.00   \n",
       "\n",
       "            addresses/new_non_zero_count  addresses/non_zero_count  \\\n",
       "Date                                                                 \n",
       "2011-07-16                      14625.00                 296738.00   \n",
       "2011-07-17                      15530.00                 303267.00   \n",
       "2011-07-18                      15356.00                 305043.00   \n",
       "2011-07-19                      15873.00                 310575.00   \n",
       "2011-07-20                      15840.00                 315842.00   \n",
       "...                                  ...                       ...   \n",
       "2020-12-25                     474667.00               33073258.00   \n",
       "2020-12-26                     448279.00               33075652.00   \n",
       "2020-12-27                     503446.00               33070470.00   \n",
       "2020-12-28                     510439.00               33024571.00   \n",
       "2020-12-29                     560252.00               33035139.00   \n",
       "\n",
       "            addresses/min_point_zero_1_count  addresses/min_point_1_count  \\\n",
       "Date                                                                        \n",
       "2011-07-16                         196860.00                    126035.00   \n",
       "2011-07-17                         197576.00                    126461.00   \n",
       "2011-07-18                         195085.00                    125059.00   \n",
       "2011-07-19                         196075.00                    125791.00   \n",
       "2011-07-20                         196368.00                    126121.00   \n",
       "...                                      ...                          ...   \n",
       "2020-12-25                        8513136.00                   3130986.00   \n",
       "2020-12-26                        8490133.00                   3122900.00   \n",
       "2020-12-27                        8470448.00                   3120657.00   \n",
       "2020-12-28                        8472554.00                   3121921.00   \n",
       "2020-12-29                        8480292.00                   3120133.00   \n",
       "\n",
       "            addresses/min_1_count  addresses/min_10_count  \\\n",
       "Date                                                        \n",
       "2011-07-16               99005.00                64333.00   \n",
       "2011-07-17               99364.00                64511.00   \n",
       "2011-07-18               98120.00                64454.00   \n",
       "2011-07-19               98755.00                64598.00   \n",
       "2011-07-20               99090.00                64643.00   \n",
       "...                           ...                     ...   \n",
       "2020-12-25              828971.00               153594.00   \n",
       "2020-12-26              826721.00               153580.00   \n",
       "2020-12-27              825437.00               153305.00   \n",
       "2020-12-28              825430.00               153690.00   \n",
       "2020-12-29              825876.00               153524.00   \n",
       "\n",
       "            addresses/min_100_count  addresses/min_1k_count  \\\n",
       "Date                                                          \n",
       "2011-07-16                  3805.00                  598.00   \n",
       "2011-07-17                  3824.00                  599.00   \n",
       "2011-07-18                  3746.00                  600.00   \n",
       "2011-07-19                  3761.00                  597.00   \n",
       "2011-07-20                  3799.00                  598.00   \n",
       "...                             ...                     ...   \n",
       "2020-12-25                 16068.00                 2228.00   \n",
       "2020-12-26                 16104.00                 2221.00   \n",
       "2020-12-27                 16038.00                 2225.00   \n",
       "2020-12-28                 16197.00                 2225.00   \n",
       "2020-12-29                 16227.00                 2257.00   \n",
       "\n",
       "            addresses/min_10k_count  \n",
       "Date                                 \n",
       "2011-07-16                    62.00  \n",
       "2011-07-17                    62.00  \n",
       "2011-07-18                    63.00  \n",
       "2011-07-19                    63.00  \n",
       "2011-07-20                    63.00  \n",
       "...                             ...  \n",
       "2020-12-25                   103.00  \n",
       "2020-12-26                   102.00  \n",
       "2020-12-27                   102.00  \n",
       "2020-12-28                    98.00  \n",
       "2020-12-29                    98.00  \n",
       "\n",
       "[3455 rows x 91 columns]"
      ]
     },
     "execution_count": 95,
     "metadata": {},
     "output_type": "execute_result"
    }
   ],
   "source": [
    "# Daily Return in USD in row 2011-07-16 means the change in \"btc dollar price\" from 2011-07-15 23:59 to 2011-07-16 23:59 \n",
    "# in row 2011-07-17 means the change in \"btc dollar price\" from 2011-07-16 23:59 to 2011-07-17 23:59 \n",
    "\n",
    "df_dataset1"
   ]
  },
  {
   "cell_type": "code",
   "execution_count": 96,
   "metadata": {
    "ExecuteTime": {
     "end_time": "2021-01-05T23:13:03.118770Z",
     "start_time": "2021-01-05T23:13:02.433538Z"
    }
   },
   "outputs": [
    {
     "ename": "NameError",
     "evalue": "name 'sdfsdf' is not defined",
     "output_type": "error",
     "traceback": [
      "\u001b[1;31m---------------------------------------------------------------------------\u001b[0m",
      "\u001b[1;31mNameError\u001b[0m                                 Traceback (most recent call last)",
      "\u001b[1;32m<ipython-input-96-fa65e4c5ad0e>\u001b[0m in \u001b[0;36m<module>\u001b[1;34m\u001b[0m\n\u001b[1;32m----> 1\u001b[1;33m \u001b[0msdfsdf\u001b[0m\u001b[1;33m\u001b[0m\u001b[1;33m\u001b[0m\u001b[0m\n\u001b[0m",
      "\u001b[1;31mNameError\u001b[0m: name 'sdfsdf' is not defined"
     ]
    }
   ],
   "source": [
    "sdfsdf"
   ]
  },
  {
   "cell_type": "code",
   "execution_count": null,
   "metadata": {
    "ExecuteTime": {
     "end_time": "2021-01-05T23:13:03.121741Z",
     "start_time": "2021-01-05T23:12:17.467Z"
    },
    "scrolled": true
   },
   "outputs": [],
   "source": [
    "# Data Set Info\n",
    "df_dataset1.info()"
   ]
  },
  {
   "cell_type": "code",
   "execution_count": null,
   "metadata": {
    "ExecuteTime": {
     "end_time": "2021-01-05T23:13:03.122737Z",
     "start_time": "2021-01-05T23:12:17.473Z"
    }
   },
   "outputs": [],
   "source": [
    "# List of Data Types\n",
    "l_dtypes = df_dataset1.dtypes"
   ]
  },
  {
   "cell_type": "code",
   "execution_count": null,
   "metadata": {
    "ExecuteTime": {
     "end_time": "2021-01-05T23:13:03.123734Z",
     "start_time": "2021-01-05T23:12:17.479Z"
    }
   },
   "outputs": [],
   "source": [
    "# Counter\n",
    "counter = 0\n",
    "\n",
    "# Cross-Check of Data Types\n",
    "for i in l_dtypes:\n",
    "    if (i == float):\n",
    "        counter = counter+1\n",
    "    else:\n",
    "        counter = counter\n",
    "\n",
    "# Number of Float Data Types\n",
    "print(counter)"
   ]
  },
  {
   "cell_type": "code",
   "execution_count": null,
   "metadata": {
    "ExecuteTime": {
     "end_time": "2021-01-05T23:13:03.124731Z",
     "start_time": "2021-01-05T23:12:17.485Z"
    }
   },
   "outputs": [],
   "source": [
    "# Data Types\n",
    "df_dataset1.dtypes"
   ]
  },
  {
   "cell_type": "code",
   "execution_count": null,
   "metadata": {
    "ExecuteTime": {
     "end_time": "2021-01-05T23:13:03.125729Z",
     "start_time": "2021-01-05T23:12:17.492Z"
    }
   },
   "outputs": [],
   "source": [
    "# Summary Statistics\n",
    "df_dataset1.describe()"
   ]
  },
  {
   "cell_type": "code",
   "execution_count": null,
   "metadata": {
    "ExecuteTime": {
     "end_time": "2021-01-05T23:13:03.126728Z",
     "start_time": "2021-01-05T23:12:17.501Z"
    }
   },
   "outputs": [],
   "source": [
    "# Dataset Tail\n",
    "df_dataset1.tail()"
   ]
  },
  {
   "cell_type": "markdown",
   "metadata": {},
   "source": [
    "## Prediction Shift"
   ]
  },
  {
   "cell_type": "markdown",
   "metadata": {},
   "source": [
    "### Data Set I."
   ]
  },
  {
   "cell_type": "code",
   "execution_count": null,
   "metadata": {
    "ExecuteTime": {
     "end_time": "2021-01-05T23:13:03.127724Z",
     "start_time": "2021-01-05T23:12:17.509Z"
    }
   },
   "outputs": [],
   "source": [
    "# Shift of Target Column by 1 Day\n",
    "df_dataset1['Daily Return in USD'] = df_dataset1['Daily Return in USD'].shift(1) "
   ]
  },
  {
   "cell_type": "code",
   "execution_count": null,
   "metadata": {
    "ExecuteTime": {
     "end_time": "2021-01-05T23:13:03.128722Z",
     "start_time": "2021-01-05T23:12:17.516Z"
    }
   },
   "outputs": [],
   "source": [
    "# Check Shift\n",
    "df_dataset1.tail()"
   ]
  },
  {
   "cell_type": "code",
   "execution_count": null,
   "metadata": {
    "ExecuteTime": {
     "end_time": "2021-01-05T23:13:03.128722Z",
     "start_time": "2021-01-05T23:12:17.522Z"
    }
   },
   "outputs": [],
   "source": [
    "# Check Empty Cells\n",
    "df_dataset1.isnull().sum()"
   ]
  },
  {
   "cell_type": "code",
   "execution_count": null,
   "metadata": {
    "ExecuteTime": {
     "end_time": "2021-01-05T23:13:03.129718Z",
     "start_time": "2021-01-05T23:12:17.529Z"
    }
   },
   "outputs": [],
   "source": [
    "# daily return: von gestern auf heute die preisveränderung deswegen shift später\n",
    "df_dataset1.isnull()"
   ]
  },
  {
   "cell_type": "code",
   "execution_count": null,
   "metadata": {
    "ExecuteTime": {
     "end_time": "2021-01-05T23:13:03.130715Z",
     "start_time": "2021-01-05T23:12:17.535Z"
    }
   },
   "outputs": [],
   "source": [
    "# Delete Empty Row\n",
    "df_dataset1 = df_dataset1.dropna()"
   ]
  },
  {
   "cell_type": "code",
   "execution_count": null,
   "metadata": {
    "ExecuteTime": {
     "end_time": "2021-01-05T23:13:03.131714Z",
     "start_time": "2021-01-05T23:12:17.541Z"
    }
   },
   "outputs": [],
   "source": [
    "# Re-Check Empty Cells\n",
    "df_dataset1.isnull().sum()"
   ]
  },
  {
   "cell_type": "markdown",
   "metadata": {},
   "source": [
    "# Classification Setup"
   ]
  },
  {
   "cell_type": "markdown",
   "metadata": {},
   "source": [
    "## Create Data Set Copies for Trading Strategy"
   ]
  },
  {
   "cell_type": "code",
   "execution_count": null,
   "metadata": {
    "ExecuteTime": {
     "end_time": "2021-01-05T23:13:03.132711Z",
     "start_time": "2021-01-05T23:12:17.549Z"
    }
   },
   "outputs": [],
   "source": [
    "# Data Set Copy for Trading Extension\n",
    "df_dataset1_copy = df_dataset1.copy()\n"
   ]
  },
  {
   "cell_type": "markdown",
   "metadata": {},
   "source": [
    "## Categorization - Data Set I."
   ]
  },
  {
   "cell_type": "code",
   "execution_count": null,
   "metadata": {
    "ExecuteTime": {
     "end_time": "2021-01-05T23:13:03.132711Z",
     "start_time": "2021-01-05T23:12:17.557Z"
    }
   },
   "outputs": [],
   "source": [
    "# Categorization\n",
    "# Class 1 for all Returns >= 0 USD\n",
    "df_dataset1.loc[df_dataset1['Daily Return in USD'] >= 0, 'Class'] = 1\n",
    "# Class 0 for all Returns < 0 USD\n",
    "df_dataset1.loc[df_dataset1['Daily Return in USD'] < 0, 'Class'] = 0"
   ]
  },
  {
   "cell_type": "code",
   "execution_count": null,
   "metadata": {
    "ExecuteTime": {
     "end_time": "2021-01-05T23:13:03.133710Z",
     "start_time": "2021-01-05T23:12:17.564Z"
    }
   },
   "outputs": [],
   "source": [
    "# Data Set Head\n",
    "df_dataset1.head()"
   ]
  },
  {
   "cell_type": "code",
   "execution_count": null,
   "metadata": {
    "ExecuteTime": {
     "end_time": "2021-01-05T23:13:03.134705Z",
     "start_time": "2021-01-05T23:12:17.569Z"
    }
   },
   "outputs": [],
   "source": [
    "for x in range(len(df_dataset1.columns)):\n",
    "    print(x, df_dataset1.columns[x])"
   ]
  },
  {
   "cell_type": "code",
   "execution_count": null,
   "metadata": {
    "ExecuteTime": {
     "end_time": "2021-01-05T23:13:03.135704Z",
     "start_time": "2021-01-05T23:12:17.575Z"
    }
   },
   "outputs": [],
   "source": [
    "# Delete Original Target Column\n",
    "df_dataset1 = df_dataset1.drop(['Daily Return in USD'], axis=1)"
   ]
  },
  {
   "cell_type": "code",
   "execution_count": null,
   "metadata": {
    "ExecuteTime": {
     "end_time": "2021-01-05T23:13:03.135704Z",
     "start_time": "2021-01-05T23:12:17.581Z"
    }
   },
   "outputs": [],
   "source": [
    "# Check Class Balance\n",
    "df_dataset1['Class'].value_counts()"
   ]
  },
  {
   "cell_type": "code",
   "execution_count": null,
   "metadata": {
    "ExecuteTime": {
     "end_time": "2021-01-05T23:13:03.136707Z",
     "start_time": "2021-01-05T23:12:17.588Z"
    }
   },
   "outputs": [],
   "source": [
    "# Data Set Head\n",
    "df_dataset1.tail()"
   ]
  },
  {
   "cell_type": "markdown",
   "metadata": {},
   "source": [
    "# Model Preparation - Data Set I."
   ]
  },
  {
   "cell_type": "markdown",
   "metadata": {},
   "source": [
    "## Train Test Split - Data Set I."
   ]
  },
  {
   "cell_type": "code",
   "execution_count": null,
   "metadata": {
    "ExecuteTime": {
     "end_time": "2021-01-05T23:13:03.137698Z",
     "start_time": "2021-01-05T23:12:17.596Z"
    }
   },
   "outputs": [],
   "source": [
    "# Setup of Predictors (Indpendent Variables) by Excluding Target Variable\n",
    "predictors = df_dataset1.drop(['Class'], axis=1).values.astype(np.float32)"
   ]
  },
  {
   "cell_type": "code",
   "execution_count": null,
   "metadata": {
    "ExecuteTime": {
     "end_time": "2021-01-05T23:13:03.137698Z",
     "start_time": "2021-01-05T23:12:17.602Z"
    }
   },
   "outputs": [],
   "source": [
    "# Setup of Categorized Target Variable\n",
    "target = df_dataset1['Class'].astype(np.float32)"
   ]
  },
  {
   "cell_type": "code",
   "execution_count": null,
   "metadata": {
    "ExecuteTime": {
     "end_time": "2021-01-05T23:13:03.138695Z",
     "start_time": "2021-01-05T23:12:17.607Z"
    }
   },
   "outputs": [],
   "source": [
    "# Predictor Dimensions\n",
    "predictors.shape"
   ]
  },
  {
   "cell_type": "code",
   "execution_count": null,
   "metadata": {
    "ExecuteTime": {
     "end_time": "2021-01-05T23:13:03.139693Z",
     "start_time": "2021-01-05T23:12:17.614Z"
    },
    "scrolled": true
   },
   "outputs": [],
   "source": [
    "for x in range(len(predictors[0])):\n",
    "    print(x, predictors[0][x])"
   ]
  },
  {
   "cell_type": "code",
   "execution_count": null,
   "metadata": {
    "ExecuteTime": {
     "end_time": "2021-01-05T23:13:03.139693Z",
     "start_time": "2021-01-05T23:12:17.622Z"
    }
   },
   "outputs": [],
   "source": [
    "# Target Dimensions\n",
    "target.shape"
   ]
  },
  {
   "cell_type": "code",
   "execution_count": null,
   "metadata": {
    "ExecuteTime": {
     "end_time": "2021-01-05T23:13:03.140705Z",
     "start_time": "2021-01-05T23:12:17.628Z"
    }
   },
   "outputs": [],
   "source": [
    "# Train-Test-Split Function to Create Training and Test Data Set\n",
    "X_train, X_test, y_train, y_test = train_test_split(predictors, target, test_size=0.3, random_state = 41, stratify=target)"
   ]
  },
  {
   "cell_type": "code",
   "execution_count": null,
   "metadata": {
    "ExecuteTime": {
     "end_time": "2021-01-05T23:13:03.141687Z",
     "start_time": "2021-01-05T23:12:17.634Z"
    }
   },
   "outputs": [],
   "source": [
    "# Dimensions of Predictors for Training\n",
    "X_train.shape"
   ]
  },
  {
   "cell_type": "code",
   "execution_count": null,
   "metadata": {
    "ExecuteTime": {
     "end_time": "2021-01-05T23:13:03.142685Z",
     "start_time": "2021-01-05T23:12:17.641Z"
    }
   },
   "outputs": [],
   "source": [
    "# Dimensions of Target for Training\n",
    "y_train.shape"
   ]
  },
  {
   "cell_type": "code",
   "execution_count": null,
   "metadata": {
    "ExecuteTime": {
     "end_time": "2021-01-05T23:13:03.143696Z",
     "start_time": "2021-01-05T23:12:17.648Z"
    }
   },
   "outputs": [],
   "source": [
    "# Number of Predictors\n",
    "n_nodes = predictors.shape[1]\n",
    "n_nodes"
   ]
  },
  {
   "cell_type": "markdown",
   "metadata": {},
   "source": [
    "### Check of Class Balance"
   ]
  },
  {
   "cell_type": "code",
   "execution_count": null,
   "metadata": {
    "ExecuteTime": {
     "end_time": "2021-01-05T23:13:03.144681Z",
     "start_time": "2021-01-05T23:12:17.656Z"
    }
   },
   "outputs": [],
   "source": [
    "# Check Training Target of Class 0\n",
    "y_train[y_train==0].count()"
   ]
  },
  {
   "cell_type": "code",
   "execution_count": null,
   "metadata": {
    "ExecuteTime": {
     "end_time": "2021-01-05T23:13:03.144681Z",
     "start_time": "2021-01-05T23:12:17.663Z"
    }
   },
   "outputs": [],
   "source": [
    "# Check Training Target of Class 1\n",
    "y_train[y_train==1].count()"
   ]
  },
  {
   "cell_type": "code",
   "execution_count": null,
   "metadata": {
    "ExecuteTime": {
     "end_time": "2021-01-05T23:13:03.146675Z",
     "start_time": "2021-01-05T23:12:17.669Z"
    }
   },
   "outputs": [],
   "source": [
    "# Check Test Target of Class 0\n",
    "y_test[y_test==0].count()"
   ]
  },
  {
   "cell_type": "code",
   "execution_count": null,
   "metadata": {
    "ExecuteTime": {
     "end_time": "2021-01-05T23:13:03.147672Z",
     "start_time": "2021-01-05T23:12:17.676Z"
    }
   },
   "outputs": [],
   "source": [
    "# Check Test Target of Class 1\n",
    "y_test[y_test==1].count()"
   ]
  },
  {
   "cell_type": "markdown",
   "metadata": {},
   "source": [
    "#  Feature Selection random forest"
   ]
  },
  {
   "cell_type": "code",
   "execution_count": null,
   "metadata": {
    "ExecuteTime": {
     "end_time": "2021-01-05T23:13:03.148669Z",
     "start_time": "2021-01-05T23:12:17.684Z"
    }
   },
   "outputs": [],
   "source": [
    "import pandas as pd\n",
    "from sklearn.feature_selection import SelectFromModel\n",
    "\n",
    "rank_delete_list = []\n",
    "\n",
    "# define dataset\n",
    "#X, y = make_classification(n_samples=1000, n_features=10, n_informative=5, n_redundant=5, random_state=1)\n",
    "# define RFE\n",
    "sel = SelectFromModel(RandomForestClassifier(max_depth=4, min_samples_leaf=4, min_samples_split=3,\n",
    "                       n_estimators=625))\n",
    "# fit RFE\n",
    "sel.fit(X_train, y_train)\n",
    "# summarize all features\n",
    "sel.get_support()\n",
    "\n",
    "# summarize all features\n",
    "for i in range(X_train.shape[1]):\n",
    "    print('Column: %d, Selected %s' % (i, sel.get_support()[i]))\n",
    "    if sel.get_support()[i] == False:\n",
    "        rank_delete_list.append(i)"
   ]
  },
  {
   "cell_type": "code",
   "execution_count": null,
   "metadata": {
    "ExecuteTime": {
     "end_time": "2021-01-05T23:13:03.149666Z",
     "start_time": "2021-01-05T23:12:17.691Z"
    }
   },
   "outputs": [],
   "source": [
    "predictors = np.delete(predictors, rank_delete_list, 1)"
   ]
  },
  {
   "cell_type": "code",
   "execution_count": null,
   "metadata": {
    "ExecuteTime": {
     "end_time": "2021-01-05T23:13:03.149666Z",
     "start_time": "2021-01-05T23:12:17.697Z"
    }
   },
   "outputs": [],
   "source": [
    "predictors.shape"
   ]
  },
  {
   "cell_type": "markdown",
   "metadata": {},
   "source": [
    "# Visualize pred vs reality"
   ]
  },
  {
   "cell_type": "code",
   "execution_count": null,
   "metadata": {
    "ExecuteTime": {
     "end_time": "2021-01-05T23:13:03.150663Z",
     "start_time": "2021-01-05T23:12:17.705Z"
    }
   },
   "outputs": [],
   "source": [
    "# Split Data into Training and Testing\n",
    "X_train, X_test, y_train, y_test = train_test_split(\n",
    "    predictors, target, test_size=0.3, stratify=target)\n",
    "\n",
    "# Amount of Columns\n",
    "n_nodes = predictors.shape[1]\n",
    "\n",
    "# Instantiation of MinMaxScaler\n",
    "norm_scaler = MinMaxScaler()\n",
    "\n",
    "# Training and Application of Feature Scaler on Training Data of Predictors\n",
    "X_train_scaled = pd.DataFrame(norm_scaler.fit_transform(X_train))\n",
    "\n",
    "# Application of Feature Scaler on Test Data of Predictors\n",
    "X_test_scaled = norm_scaler.transform(X_test)\n",
    "\n",
    "# Instantiate Classifier Logistic Regression\n",
    "rfc = RandomForestClassifier(n_estimators=100, max_leaf_nodes=None, criterion='gini', max_depth=3)"
   ]
  },
  {
   "cell_type": "markdown",
   "metadata": {},
   "source": [
    "# Hyperparam tuning ranfo"
   ]
  },
  {
   "cell_type": "code",
   "execution_count": null,
   "metadata": {
    "ExecuteTime": {
     "end_time": "2021-01-05T23:13:03.151661Z",
     "start_time": "2021-01-05T23:12:17.716Z"
    }
   },
   "outputs": [],
   "source": [
    "from sklearn.model_selection import RandomizedSearchCV\n",
    "# Number of trees in random forest\n",
    "n_estimators = [int(x) for x in np.linspace(start = 200, stop = 2000, num = 10)]\n",
    "# Number of features to consider at every split\n",
    "max_features = ['auto', 'sqrt']\n",
    "# Maximum number of levels in tree\n",
    "max_depth = [int(x) for x in np.linspace(10, 110, num = 11)]\n",
    "max_depth.append(None)\n",
    "# Minimum number of samples required to split a node\n",
    "min_samples_split = [2, 5, 10]\n",
    "# Minimum number of samples required at each leaf node\n",
    "min_samples_leaf = [1, 2, 4]\n",
    "# Method of selecting samples for training each tree\n",
    "bootstrap = [True, False]\n",
    "# Create the random grid\n",
    "random_grid = {'n_estimators': n_estimators,\n",
    "               'max_features': max_features,\n",
    "               'max_depth': max_depth,\n",
    "               'min_samples_split': min_samples_split,\n",
    "               'min_samples_leaf': min_samples_leaf,\n",
    "               'bootstrap': bootstrap}\n",
    "print(random_grid)"
   ]
  },
  {
   "cell_type": "code",
   "execution_count": null,
   "metadata": {
    "ExecuteTime": {
     "end_time": "2021-01-05T23:13:03.152659Z",
     "start_time": "2021-01-05T23:12:17.724Z"
    },
    "scrolled": true
   },
   "outputs": [],
   "source": [
    "# Use the random grid to search for best hyperparameters\n",
    "# First create the base model to tune\n",
    "rf = RandomForestClassifier()\n",
    "# Random search of parameters, using 3 fold cross validation, \n",
    "# segarch across 100 different combinations, and use all available cores\n",
    "rf_random = RandomizedSearchCV(estimator = rf, param_distributions = random_grid, n_iter = 100, cv = 3, verbose=2, random_state=42, n_jobs = -1)\n",
    "# Fit the random search model\n",
    "rf_random.fit(X_train, y_train)"
   ]
  },
  {
   "cell_type": "code",
   "execution_count": null,
   "metadata": {
    "ExecuteTime": {
     "end_time": "2021-01-05T23:13:03.153654Z",
     "start_time": "2021-01-05T23:12:17.731Z"
    }
   },
   "outputs": [],
   "source": [
    "train_features = X_train\n",
    "\n",
    "train_labels = y_train\n",
    "\n",
    "test_features = X_test\n",
    "test_labels = y_test"
   ]
  },
  {
   "cell_type": "code",
   "execution_count": null,
   "metadata": {
    "ExecuteTime": {
     "end_time": "2021-01-05T23:13:03.154653Z",
     "start_time": "2021-01-05T23:12:17.737Z"
    }
   },
   "outputs": [],
   "source": [
    "asdasd"
   ]
  },
  {
   "cell_type": "code",
   "execution_count": null,
   "metadata": {
    "ExecuteTime": {
     "end_time": "2021-01-05T23:13:03.155650Z",
     "start_time": "2021-01-05T23:12:17.744Z"
    }
   },
   "outputs": [],
   "source": [
    "test_labels.values"
   ]
  },
  {
   "cell_type": "markdown",
   "metadata": {},
   "source": [
    "# Evaluate Random Search"
   ]
  },
  {
   "cell_type": "code",
   "execution_count": null,
   "metadata": {
    "ExecuteTime": {
     "end_time": "2021-01-05T23:13:03.155650Z",
     "start_time": "2021-01-05T23:12:17.754Z"
    }
   },
   "outputs": [],
   "source": [
    "from numpy import inf\n",
    "\n",
    "def evaluate(model, test_features, test_labels):\n",
    "    predictions = model.predict(test_features)\n",
    "    #print(\"predictions {} _test_labels {} \".format(predictions, test_labels))\n",
    "    errors = int( np.sum((predictions==test_labels) == False) )\n",
    "    alle = len(test_labels.values)\n",
    "    x = errors / alle\n",
    "    mape = 100 * errors / alle\n",
    "    accuracy = 100 - mape\n",
    "    print('Model Performance')\n",
    "    print('Amount Errors total {} of {} '.format(np.mean(errors), alle))\n",
    "    print('Accuracy = {:0.2f}%.'.format(accuracy))\n",
    "    return accuracy\n",
    "    \n",
    "base_model = RandomForestClassifier(n_estimators = 10)\n",
    "base_model.fit(train_features, train_labels)\n",
    "base_accuracy = evaluate(base_model, test_features, test_labels)"
   ]
  },
  {
   "cell_type": "code",
   "execution_count": null,
   "metadata": {
    "ExecuteTime": {
     "end_time": "2021-01-05T23:13:03.156646Z",
     "start_time": "2021-01-05T23:12:17.761Z"
    }
   },
   "outputs": [],
   "source": [
    "best_random = rf_random.best_estimator_\n",
    "best_random.get_params()"
   ]
  },
  {
   "cell_type": "code",
   "execution_count": null,
   "metadata": {
    "ExecuteTime": {
     "end_time": "2021-01-05T23:13:03.157701Z",
     "start_time": "2021-01-05T23:12:17.769Z"
    }
   },
   "outputs": [],
   "source": [
    "best_random"
   ]
  },
  {
   "cell_type": "code",
   "execution_count": null,
   "metadata": {
    "ExecuteTime": {
     "end_time": "2021-01-05T23:13:03.159642Z",
     "start_time": "2021-01-05T23:12:17.777Z"
    }
   },
   "outputs": [],
   "source": [
    "random_accuracy = evaluate(best_random, test_features, test_labels)"
   ]
  },
  {
   "cell_type": "code",
   "execution_count": null,
   "metadata": {
    "ExecuteTime": {
     "end_time": "2021-01-05T23:13:03.160636Z",
     "start_time": "2021-01-05T23:12:17.783Z"
    }
   },
   "outputs": [],
   "source": [
    "print('Improvement of {:0.2f}%.'.format( 100 * (random_accuracy - base_accuracy) / base_accuracy))"
   ]
  },
  {
   "cell_type": "markdown",
   "metadata": {},
   "source": [
    "# Grid Search with Cross Validation"
   ]
  },
  {
   "cell_type": "code",
   "execution_count": null,
   "metadata": {
    "ExecuteTime": {
     "end_time": "2021-01-05T23:13:03.161645Z",
     "start_time": "2021-01-05T23:12:17.792Z"
    }
   },
   "outputs": [],
   "source": [
    "from sklearn.model_selection import GridSearchCV\n",
    "# Create the parameter grid based on the results of random search \n",
    "param_grid = {\n",
    "    'bootstrap': [True],\n",
    "    'max_depth': [5, 10, 15, 20],\n",
    "    'min_samples_leaf': [3, 4, 5],\n",
    "    'min_samples_split': [1, 2, 3],\n",
    "    'n_estimators': [100, 200, 400, 600, 800]\n",
    "}\n",
    "# Create a based model\n",
    "rf = RandomForestClassifier()\n",
    "# Instantiate the grid search model\n",
    "grid_search = GridSearchCV(estimator = rf, param_grid = param_grid, \n",
    "                          cv = 3, n_jobs = -1, verbose = 2)"
   ]
  },
  {
   "cell_type": "code",
   "execution_count": null,
   "metadata": {
    "ExecuteTime": {
     "end_time": "2021-01-05T23:13:03.162631Z",
     "start_time": "2021-01-05T23:12:17.799Z"
    }
   },
   "outputs": [],
   "source": [
    "# Fit the grid search to the data\n",
    "grid_search.fit(train_features, train_labels)\n",
    "grid_search.best_params_"
   ]
  },
  {
   "cell_type": "code",
   "execution_count": null,
   "metadata": {
    "ExecuteTime": {
     "end_time": "2021-01-05T23:13:03.163629Z",
     "start_time": "2021-01-05T23:12:17.806Z"
    }
   },
   "outputs": [],
   "source": [
    "best_grid = grid_search.best_estimator_\n",
    "grid_accuracy = evaluate(best_grid, test_features, test_labels)"
   ]
  },
  {
   "cell_type": "code",
   "execution_count": null,
   "metadata": {
    "ExecuteTime": {
     "end_time": "2021-01-05T23:13:03.164658Z",
     "start_time": "2021-01-05T23:12:17.813Z"
    }
   },
   "outputs": [],
   "source": [
    "print('Improvement of {:0.2f}%.'.format( 100 * (grid_accuracy - base_accuracy) / base_accuracy))"
   ]
  },
  {
   "cell_type": "code",
   "execution_count": null,
   "metadata": {
    "ExecuteTime": {
     "end_time": "2021-01-05T23:13:03.165623Z",
     "start_time": "2021-01-05T23:12:17.818Z"
    }
   },
   "outputs": [],
   "source": [
    "base_accuracy"
   ]
  },
  {
   "cell_type": "code",
   "execution_count": null,
   "metadata": {
    "ExecuteTime": {
     "end_time": "2021-01-05T23:13:03.165623Z",
     "start_time": "2021-01-05T23:12:17.824Z"
    }
   },
   "outputs": [],
   "source": [
    "random_accuracy"
   ]
  },
  {
   "cell_type": "code",
   "execution_count": null,
   "metadata": {
    "ExecuteTime": {
     "end_time": "2021-01-05T23:13:03.167617Z",
     "start_time": "2021-01-05T23:12:17.831Z"
    }
   },
   "outputs": [],
   "source": [
    "grid_accuracy"
   ]
  },
  {
   "cell_type": "code",
   "execution_count": null,
   "metadata": {
    "ExecuteTime": {
     "end_time": "2021-01-05T23:13:03.178587Z",
     "start_time": "2021-01-05T23:12:17.837Z"
    }
   },
   "outputs": [],
   "source": [
    "best_grid"
   ]
  },
  {
   "cell_type": "markdown",
   "metadata": {},
   "source": [
    "# second grid "
   ]
  },
  {
   "cell_type": "code",
   "execution_count": null,
   "metadata": {
    "ExecuteTime": {
     "end_time": "2021-01-05T23:13:03.181125Z",
     "start_time": "2021-01-05T23:12:17.844Z"
    }
   },
   "outputs": [],
   "source": [
    "from sklearn.model_selection import GridSearchCV\n",
    "# Create the parameter grid based on the results of random search \n",
    "param_grid = {\n",
    "    'bootstrap': [True],\n",
    "    'max_depth': [3,4,5,6,7],\n",
    "    'min_samples_leaf': [3, 4, 5],\n",
    "    'min_samples_split': [2, 3, 4],\n",
    "    'n_estimators': [500, 550, 600, 650, 700]\n",
    "}\n",
    "# Create a based model\n",
    "rf = RandomForestClassifier()\n",
    "# Instantiate the grid search model\n",
    "grid_search = GridSearchCV(estimator = rf, param_grid = param_grid, \n",
    "                          cv = 3, n_jobs = -1, verbose = 2)"
   ]
  },
  {
   "cell_type": "code",
   "execution_count": null,
   "metadata": {
    "ExecuteTime": {
     "end_time": "2021-01-05T23:13:03.181582Z",
     "start_time": "2021-01-05T23:12:17.851Z"
    }
   },
   "outputs": [],
   "source": [
    "# Fit the grid search to the data\n",
    "grid_search.fit(train_features, train_labels)\n",
    "grid_search.best_params_"
   ]
  },
  {
   "cell_type": "code",
   "execution_count": null,
   "metadata": {
    "ExecuteTime": {
     "end_time": "2021-01-05T23:13:03.183575Z",
     "start_time": "2021-01-05T23:12:17.859Z"
    }
   },
   "outputs": [],
   "source": [
    "best_grid = grid_search.best_estimator_\n",
    "grid_accuracy = evaluate(best_grid, test_features, test_labels)"
   ]
  },
  {
   "cell_type": "code",
   "execution_count": null,
   "metadata": {
    "ExecuteTime": {
     "end_time": "2021-01-05T23:13:03.185732Z",
     "start_time": "2021-01-05T23:12:17.865Z"
    }
   },
   "outputs": [],
   "source": [
    "print('Improvement of {:0.2f}%.'.format( 100 * (grid_accuracy - base_accuracy) / base_accuracy))"
   ]
  },
  {
   "cell_type": "code",
   "execution_count": null,
   "metadata": {
    "ExecuteTime": {
     "end_time": "2021-01-05T23:13:03.186729Z",
     "start_time": "2021-01-05T23:12:17.871Z"
    }
   },
   "outputs": [],
   "source": [
    "best_grid"
   ]
  },
  {
   "cell_type": "markdown",
   "metadata": {},
   "source": [
    "# third grid "
   ]
  },
  {
   "cell_type": "code",
   "execution_count": null,
   "metadata": {
    "ExecuteTime": {
     "end_time": "2021-01-05T23:13:03.187726Z",
     "start_time": "2021-01-05T23:12:17.878Z"
    }
   },
   "outputs": [],
   "source": [
    "from sklearn.model_selection import GridSearchCV\n",
    "# Create the parameter grid based on the results of random search \n",
    "param_grid = {\n",
    "    'bootstrap': [True],\n",
    "    'max_depth': [5,6,7],\n",
    "    'min_samples_leaf': [1,2,3,4],\n",
    "    'min_samples_split': [2, 3, 4],\n",
    "    'n_estimators': [550, 575, 600, 625, 650]\n",
    "}\n",
    "# Create a based model\n",
    "rf = RandomForestClassifier()\n",
    "# Instantiate the grid search model\n",
    "grid_search = GridSearchCV(estimator = rf, param_grid = param_grid, \n",
    "                          cv = 3, n_jobs = -1, verbose = 2)"
   ]
  },
  {
   "cell_type": "code",
   "execution_count": null,
   "metadata": {
    "ExecuteTime": {
     "end_time": "2021-01-05T23:13:03.188729Z",
     "start_time": "2021-01-05T23:12:17.884Z"
    },
    "scrolled": true
   },
   "outputs": [],
   "source": [
    "# Fit the grid search to the data\n",
    "grid_search.fit(train_features, train_labels)\n",
    "grid_search.best_params_"
   ]
  },
  {
   "cell_type": "code",
   "execution_count": null,
   "metadata": {
    "ExecuteTime": {
     "end_time": "2021-01-05T23:13:03.189721Z",
     "start_time": "2021-01-05T23:12:17.889Z"
    }
   },
   "outputs": [],
   "source": [
    "best_grid = grid_search.best_estimator_\n",
    "grid_accuracy = evaluate(best_grid, test_features, test_labels)"
   ]
  },
  {
   "cell_type": "code",
   "execution_count": null,
   "metadata": {
    "ExecuteTime": {
     "end_time": "2021-01-05T23:13:03.190730Z",
     "start_time": "2021-01-05T23:12:17.895Z"
    }
   },
   "outputs": [],
   "source": [
    "print('Improvement of {:0.2f}%.'.format( 100 * (grid_accuracy - base_accuracy) / base_accuracy))"
   ]
  },
  {
   "cell_type": "code",
   "execution_count": null,
   "metadata": {
    "ExecuteTime": {
     "end_time": "2021-01-05T23:13:03.191741Z",
     "start_time": "2021-01-05T23:12:17.902Z"
    }
   },
   "outputs": [],
   "source": [
    "best_grid"
   ]
  },
  {
   "cell_type": "code",
   "execution_count": null,
   "metadata": {},
   "outputs": [],
   "source": []
  },
  {
   "cell_type": "markdown",
   "metadata": {},
   "source": [
    "# forth grid "
   ]
  },
  {
   "cell_type": "code",
   "execution_count": null,
   "metadata": {
    "ExecuteTime": {
     "end_time": "2021-01-05T23:13:03.193711Z",
     "start_time": "2021-01-05T23:12:17.913Z"
    }
   },
   "outputs": [],
   "source": [
    "from sklearn.model_selection import GridSearchCV\n",
    "# Create the parameter grid based on the results of random search \n",
    "param_grid = {\n",
    "    'bootstrap': [True],\n",
    "    'max_depth': [3,4,5,6,7],\n",
    "    'min_samples_leaf': [1,2,3,4,5,6],\n",
    "    'min_samples_split': [2, 3, 4],\n",
    "    'n_estimators': [600, 625, 650, 675, 700]\n",
    "}\n",
    "# Create a based model\n",
    "rf = RandomForestClassifier()\n",
    "# Instantiate the grid search model\n",
    "grid_search = GridSearchCV(estimator = rf, param_grid = param_grid, \n",
    "                          cv = 3, n_jobs = -1, verbose = 2)"
   ]
  },
  {
   "cell_type": "code",
   "execution_count": null,
   "metadata": {
    "ExecuteTime": {
     "end_time": "2021-01-05T23:13:03.194708Z",
     "start_time": "2021-01-05T23:12:17.919Z"
    },
    "scrolled": true
   },
   "outputs": [],
   "source": [
    "# Fit the grid search to the data\n",
    "grid_search.fit(train_features, train_labels)\n",
    "grid_search.best_params_"
   ]
  },
  {
   "cell_type": "code",
   "execution_count": null,
   "metadata": {
    "ExecuteTime": {
     "end_time": "2021-01-05T23:13:03.194708Z",
     "start_time": "2021-01-05T23:12:17.925Z"
    }
   },
   "outputs": [],
   "source": [
    "best_grid = grid_search.best_estimator_\n",
    "grid_accuracy = evaluate(best_grid, test_features, test_labels)"
   ]
  },
  {
   "cell_type": "code",
   "execution_count": null,
   "metadata": {
    "ExecuteTime": {
     "end_time": "2021-01-05T23:13:03.195706Z",
     "start_time": "2021-01-05T23:12:17.931Z"
    }
   },
   "outputs": [],
   "source": [
    "print('Improvement of {:0.2f}%.'.format( 100 * (grid_accuracy - base_accuracy) / base_accuracy))"
   ]
  },
  {
   "cell_type": "code",
   "execution_count": null,
   "metadata": {
    "ExecuteTime": {
     "end_time": "2021-01-05T23:13:03.197700Z",
     "start_time": "2021-01-05T23:12:17.936Z"
    }
   },
   "outputs": [],
   "source": [
    "best_grid"
   ]
  },
  {
   "cell_type": "markdown",
   "metadata": {},
   "source": [
    "# XGBoost"
   ]
  },
  {
   "cell_type": "code",
   "execution_count": null,
   "metadata": {
    "ExecuteTime": {
     "end_time": "2021-01-05T23:13:03.198697Z",
     "start_time": "2021-01-05T23:12:17.945Z"
    }
   },
   "outputs": [],
   "source": [
    "# A parameter grid for XGBoost\n",
    "params = {\n",
    "        'min_child_weight': [1, 5, 10],\n",
    "        'gamma': [0.5, 1, 1.5, 2, 5],\n",
    "        'subsample': [0.6, 0.8, 1.0],\n",
    "        'colsample_bytree': [0.6, 0.8, 1.0],\n",
    "        'max_depth': [3, 4, 5]\n",
    "        }"
   ]
  },
  {
   "cell_type": "code",
   "execution_count": null,
   "metadata": {
    "ExecuteTime": {
     "end_time": "2021-01-05T23:13:03.199694Z",
     "start_time": "2021-01-05T23:12:17.951Z"
    }
   },
   "outputs": [],
   "source": [
    "xgb = XGBClassifier(learning_rate=0.001, n_estimators=600, objective='binary:logistic',\n",
    "                    silent=True, nthread=1)"
   ]
  },
  {
   "cell_type": "code",
   "execution_count": null,
   "metadata": {
    "ExecuteTime": {
     "end_time": "2021-01-05T23:13:03.200711Z",
     "start_time": "2021-01-05T23:12:17.957Z"
    },
    "scrolled": true
   },
   "outputs": [],
   "source": [
    "folds = 5\n",
    "param_comb = 10\n",
    "\n",
    "skf = StratifiedKFold(n_splits=folds, shuffle = True, random_state = 1001)\n",
    "\n",
    "random_search = RandomizedSearchCV(xgb, param_distributions=params, n_iter=param_comb, scoring='accuracy', n_jobs=4, cv=skf.split(predictors, target), verbose=3 )\n",
    "\n",
    "random_search.fit(predictors, target)"
   ]
  },
  {
   "cell_type": "code",
   "execution_count": null,
   "metadata": {
    "ExecuteTime": {
     "end_time": "2021-01-05T23:13:03.201690Z",
     "start_time": "2021-01-05T23:12:17.964Z"
    },
    "scrolled": true
   },
   "outputs": [],
   "source": [
    "print('\\n All results:')\n",
    "print(random_search.cv_results_)\n",
    "print('\\n Best estimator:')\n",
    "print(random_search.best_estimator_)\n",
    "print('\\n Best normalized gini score for %d-fold search with %d parameter combinations:' % (folds, param_comb))\n",
    "print(random_search.best_score_ * 2 - 1)\n",
    "print('\\n Best hyperparameters:')\n",
    "print(random_search.best_params_)\n",
    "results = pd.DataFrame(random_search.cv_results_)\n",
    "results.to_csv('xgb-random-grid-search-results-01.csv', index=False)"
   ]
  },
  {
   "cell_type": "code",
   "execution_count": null,
   "metadata": {},
   "outputs": [],
   "source": []
  },
  {
   "cell_type": "markdown",
   "metadata": {},
   "source": [
    "# random grid xgb - 16 feats\n",
    "base_score=0.5, booster='gbtree', colsample_bylevel=1,\n",
    "colsample_bynode=1, colsample_bytree=1.0, gamma=1, gpu_id=-1,\n",
    "importance_type='gain', interaction_constraints='',\n",
    "learning_rate=0.001, max_delta_step=0, max_depth=4,\n",
    "min_child_weight=10, missing=nan, monotone_constraints='()',\n",
    "n_estimators=600, n_jobs=1, nthread=1, num_parallel_tree=1,\n",
    "reg_alpha=0, reg_lambda=1, scale_pos_weight=1,\n",
    "silent=True, subsample=0.6, tree_method='exact',\n",
    "validate_parameters=1, verbosity=None"
   ]
  },
  {
   "cell_type": "code",
   "execution_count": null,
   "metadata": {
    "ExecuteTime": {
     "end_time": "2021-01-05T23:13:03.202686Z",
     "start_time": "2021-01-05T23:12:17.974Z"
    }
   },
   "outputs": [],
   "source": [
    "from sklearn.model_selection import GridSearchCV\n",
    "\n",
    "from xgboost import XGBClassifier"
   ]
  },
  {
   "cell_type": "code",
   "execution_count": null,
   "metadata": {
    "ExecuteTime": {
     "end_time": "2021-01-05T23:13:03.203695Z",
     "start_time": "2021-01-05T23:12:17.981Z"
    }
   },
   "outputs": [],
   "source": [
    "#XGBoost hyper-parameter tuning\n",
    "param_tuning = {\n",
    "    'learning_rate': [0.0001, 0.001, 0.01, 0.1],\n",
    "    'max_depth': [2, 3, 4, 5, 6 ],\n",
    "    'gamma': [0, 1, 2, 3, 4, 5],\n",
    "    'min_child_weight': [5, 7, 10, 15],\n",
    "    'subsample': [ 0.7, 1.0, 1.3],\n",
    "    'colsample_bytree': [0.7, 1.0, 1.3],\n",
    "    '' : [300, 500, 600, 800],\n",
    "    'base_score' : [0.2, 0.5, 0.8],\n",
    "    'objective': ['reg:squarederror']\n",
    "}\n",
    "\n",
    "xgb_model = XGBClassifier()\n",
    "\n",
    "gsearch = GridSearchCV(estimator = xgb_model,\n",
    "                       param_grid = param_tuning,                        \n",
    "                       #scoring = 'neg_mean_absolute_error', #MAE\n",
    "                       #scoring = 'neg_mean_squared_error',  #MSE\n",
    "                       cv = 5,\n",
    "                       n_jobs = -1,\n",
    "                       verbose = 1)"
   ]
  },
  {
   "cell_type": "code",
   "execution_count": null,
   "metadata": {
    "ExecuteTime": {
     "end_time": "2021-01-05T23:13:03.204683Z",
     "start_time": "2021-01-05T23:12:17.987Z"
    }
   },
   "outputs": [],
   "source": [
    "# Fit the grid search to the data\n",
    "gsearch.fit(train_features, train_labels)\n",
    "gsearch.best_params_"
   ]
  },
  {
   "cell_type": "code",
   "execution_count": null,
   "metadata": {
    "ExecuteTime": {
     "end_time": "2021-01-05T23:13:03.205680Z",
     "start_time": "2021-01-05T23:12:17.993Z"
    }
   },
   "outputs": [],
   "source": [
    "best_grid = gsearch.best_estimator_\n",
    "grid_accuracy = evaluate(best_grid, test_features, test_labels)"
   ]
  },
  {
   "cell_type": "code",
   "execution_count": null,
   "metadata": {
    "ExecuteTime": {
     "end_time": "2021-01-05T23:13:03.206688Z",
     "start_time": "2021-01-05T23:12:17.999Z"
    }
   },
   "outputs": [],
   "source": [
    "print('Improvement of {:0.2f}%.'.format( 100 * (grid_accuracy - base_accuracy) / base_accuracy))"
   ]
  },
  {
   "cell_type": "code",
   "execution_count": null,
   "metadata": {
    "ExecuteTime": {
     "end_time": "2021-01-05T23:13:03.208672Z",
     "start_time": "2021-01-05T23:12:18.005Z"
    }
   },
   "outputs": [],
   "source": [
    "best_grid"
   ]
  },
  {
   "cell_type": "markdown",
   "metadata": {},
   "source": []
  },
  {
   "cell_type": "markdown",
   "metadata": {},
   "source": [
    "# XGBoost"
   ]
  },
  {
   "cell_type": "code",
   "execution_count": null,
   "metadata": {
    "ExecuteTime": {
     "end_time": "2021-01-05T23:13:03.209667Z",
     "start_time": "2021-01-05T23:12:18.014Z"
    }
   },
   "outputs": [],
   "source": [
    "from xgboost import XGBClassifier\n",
    "\n",
    "#XGBoost hyper-parameter tuning\n",
    "param_tuning = {\n",
    "    'learning_rate': [0.05, 0.1, 0.2],\n",
    "    'max_depth': [1, 2, 3, 4, 5 ],\n",
    "    'gamma': [2,3,4],\n",
    "    'min_child_weight': [2,3,4],\n",
    "    'subsample': [ 0.5, 0.7, 0.9 ],\n",
    "    'colsample_bytree': [0.7, 1.0, 1.3],\n",
    "    'n_estimators' : [50,100,150],\n",
    "    'objective': ['reg:squarederror']\n",
    "}\n",
    "\n",
    "xgb_model = XGBClassifier()\n",
    "\n",
    "gsearch = GridSearchCV(estimator = xgb_model,\n",
    "                       param_grid = param_tuning,                        \n",
    "                       #scoring = 'neg_mean_absolute_error', #MAE\n",
    "                       #scoring = 'neg_mean_squared_error',  #MSE\n",
    "                       cv = 5,\n",
    "                       n_jobs = -1,\n",
    "                       verbose = 1)\n"
   ]
  },
  {
   "cell_type": "code",
   "execution_count": null,
   "metadata": {
    "ExecuteTime": {
     "end_time": "2021-01-05T23:13:03.210667Z",
     "start_time": "2021-01-05T23:12:18.020Z"
    }
   },
   "outputs": [],
   "source": [
    "# Fit the grid search to the data\n",
    "gsearch.fit(train_features, train_labels)\n",
    "gsearch.best_params_"
   ]
  },
  {
   "cell_type": "code",
   "execution_count": null,
   "metadata": {
    "ExecuteTime": {
     "end_time": "2021-01-05T23:13:03.212744Z",
     "start_time": "2021-01-05T23:12:18.026Z"
    }
   },
   "outputs": [],
   "source": [
    "best_grid = gsearch.best_estimator_\n",
    "grid_accuracy = evaluate(best_grid, test_features, test_labels)"
   ]
  },
  {
   "cell_type": "code",
   "execution_count": null,
   "metadata": {
    "ExecuteTime": {
     "end_time": "2021-01-05T23:13:03.213830Z",
     "start_time": "2021-01-05T23:12:18.032Z"
    }
   },
   "outputs": [],
   "source": [
    "print('Improvement of {:0.2f}%.'.format( 100 * (grid_accuracy - base_accuracy) / base_accuracy))"
   ]
  },
  {
   "cell_type": "code",
   "execution_count": null,
   "metadata": {
    "ExecuteTime": {
     "end_time": "2021-01-05T23:13:03.214743Z",
     "start_time": "2021-01-05T23:12:18.038Z"
    },
    "scrolled": true
   },
   "outputs": [],
   "source": [
    "best_grid"
   ]
  },
  {
   "cell_type": "code",
   "execution_count": null,
   "metadata": {
    "ExecuteTime": {
     "end_time": "2021-01-05T23:13:03.215754Z",
     "start_time": "2021-01-05T23:12:18.044Z"
    }
   },
   "outputs": [],
   "source": [
    "range(1, 1)"
   ]
  },
  {
   "cell_type": "markdown",
   "metadata": {},
   "source": [
    "# XGBoost 3"
   ]
  },
  {
   "cell_type": "code",
   "execution_count": null,
   "metadata": {
    "ExecuteTime": {
     "end_time": "2021-01-05T23:13:03.217295Z",
     "start_time": "2021-01-05T23:12:18.052Z"
    }
   },
   "outputs": [],
   "source": [
    "best % per day:\n",
    "\n",
    "# base_score=0.5, booster='gbtree', colsample_bylevel=1,\n",
    "# colsample_bynode=1, colsample_bytree=0.7, gamma=0, gpu_id=-1,\n",
    "# importance_type='gain', interaction_constraints='',\n",
    "# learning_rate=0.01, max_delta_step=0, max_depth=3,\n",
    "# min_child_weight=1, monotone_constraints='()',\n",
    "# n_estimators=200, n_jobs=0, num_parallel_tree=1,\n",
    "# objective='reg:squarederror', random_state=0, reg_alpha=0,\n",
    "# reg_lambda=1, scale_pos_weight=1, subsample=0.7,\n",
    "# tree_method='exact', validate_parameters=1, verbosity=None)"
   ]
  },
  {
   "cell_type": "code",
   "execution_count": null,
   "metadata": {
    "ExecuteTime": {
     "end_time": "2021-01-05T23:13:03.217733Z",
     "start_time": "2021-01-05T23:12:18.058Z"
    }
   },
   "outputs": [],
   "source": [
    "from xgboost import XGBClassifier\n",
    "\n",
    "#XGBoost hyper-parameter tuning\n",
    "param_tuning = {\n",
    "    'learning_rate': [0.005, 0.01, 0.02],\n",
    "    'max_depth': [2, 3, 4],\n",
    "    'gamma': [0,1,2],\n",
    "    'min_child_weight': [0,1,2],\n",
    "    'subsample': [ 0.6, 0.7, 0.8 ],\n",
    "    'colsample_bytree': [0.6, 0.7, 0.8],\n",
    "    'n_estimators' : [150,200,250],\n",
    "    'objective': ['reg:squarederror']\n",
    "}\n",
    "\n",
    "xgb_model = XGBClassifier()\n",
    "\n",
    "gsearch = GridSearchCV(estimator = xgb_model,\n",
    "                       param_grid = param_tuning,                        \n",
    "                       #scoring = 'neg_mean_absolute_error', #MAE\n",
    "                       #scoring = 'neg_mean_squared_error',  #MSE\n",
    "                       cv = 5,\n",
    "                       n_jobs = -1,\n",
    "                       verbose = 1)"
   ]
  },
  {
   "cell_type": "code",
   "execution_count": null,
   "metadata": {
    "ExecuteTime": {
     "end_time": "2021-01-05T23:13:03.218730Z",
     "start_time": "2021-01-05T23:12:18.066Z"
    }
   },
   "outputs": [],
   "source": [
    "# Fit the grid search to the data\n",
    "gsearch.fit(train_features, train_labels)\n",
    "gsearch.best_params_"
   ]
  },
  {
   "cell_type": "code",
   "execution_count": null,
   "metadata": {
    "ExecuteTime": {
     "end_time": "2021-01-05T23:13:03.220182Z",
     "start_time": "2021-01-05T23:12:18.073Z"
    }
   },
   "outputs": [],
   "source": [
    "best_grid = gsearch.best_estimator_\n",
    "grid_accuracy = evaluate(best_grid, test_features, test_labels)"
   ]
  },
  {
   "cell_type": "code",
   "execution_count": null,
   "metadata": {
    "ExecuteTime": {
     "end_time": "2021-01-05T23:13:03.221183Z",
     "start_time": "2021-01-05T23:12:18.079Z"
    }
   },
   "outputs": [],
   "source": [
    "print('Improvement of {:0.2f}%.'.format( 100 * (grid_accuracy - base_accuracy) / base_accuracy))"
   ]
  },
  {
   "cell_type": "code",
   "execution_count": null,
   "metadata": {
    "ExecuteTime": {
     "end_time": "2021-01-05T23:13:03.222180Z",
     "start_time": "2021-01-05T23:12:18.086Z"
    },
    "scrolled": false
   },
   "outputs": [],
   "source": [
    "best_grid"
   ]
  },
  {
   "cell_type": "markdown",
   "metadata": {},
   "source": [
    "# XGBoost 4 TORUN!"
   ]
  },
  {
   "cell_type": "code",
   "execution_count": null,
   "metadata": {
    "ExecuteTime": {
     "end_time": "2021-01-05T23:13:03.227270Z",
     "start_time": "2021-01-05T23:12:18.096Z"
    }
   },
   "outputs": [],
   "source": [
    "from xgboost import XGBClassifier\n",
    "from sklearn.model_selection import GridSearchCV\n",
    "\n",
    "\n",
    "#XGBoost hyper-parameter tuning\n",
    "param_tuning = {\n",
    "    'learning_rate': [0.009,0.01, 0.011,0.013,0.015],\n",
    "    'max_depth': [1,2, 3, 4],\n",
    "    'gamma': [0,1,2,3,4],\n",
    "    'min_child_weight': [0,1,2,3],\n",
    "    'subsample': [ 0.6, 0.7, 0.8, 0.9, 1.0 ],\n",
    "    'colsample_bytree': [0.4,0.5,0.6, 0.7, 0.8],\n",
    "    #'n_estimators' : [150,200,250,300,350,400],\n",
    "    'objective': ['reg:squarederror']\n",
    "}\n",
    "\n",
    "xgb_model = XGBClassifier()\n",
    "\n",
    "gsearch = GridSearchCV(estimator = xgb_model,\n",
    "                       param_grid = param_tuning,                        \n",
    "                       #scoring = 'neg_mean_absolute_error', #MAE\n",
    "                       #scoring = 'neg_mean_squared_error',  #MSE\n",
    "                       cv = 5,\n",
    "                       n_jobs = -1,\n",
    "                       verbose = 1)"
   ]
  },
  {
   "cell_type": "code",
   "execution_count": null,
   "metadata": {
    "ExecuteTime": {
     "end_time": "2021-01-05T23:13:03.228235Z",
     "start_time": "2021-01-05T23:12:18.102Z"
    }
   },
   "outputs": [],
   "source": [
    "# Fit the grid search to the data\n",
    "gsearch.fit(train_features, train_labels)\n",
    "gsearch.best_params_"
   ]
  },
  {
   "cell_type": "code",
   "execution_count": null,
   "metadata": {
    "ExecuteTime": {
     "end_time": "2021-01-05T23:13:03.229828Z",
     "start_time": "2021-01-05T23:12:18.108Z"
    }
   },
   "outputs": [],
   "source": [
    "best_grid = gsearch.best_estimator_\n",
    "grid_accuracy = evaluate(best_grid, test_features, test_labels)"
   ]
  },
  {
   "cell_type": "code",
   "execution_count": null,
   "metadata": {
    "ExecuteTime": {
     "end_time": "2021-01-05T23:13:03.229828Z",
     "start_time": "2021-01-05T23:12:18.114Z"
    }
   },
   "outputs": [],
   "source": [
    "print('Improvement of {:0.2f}%.'.format( 100 * (grid_accuracy - base_accuracy) / base_accuracy))"
   ]
  },
  {
   "cell_type": "code",
   "execution_count": null,
   "metadata": {
    "ExecuteTime": {
     "end_time": "2021-01-05T23:13:03.230854Z",
     "start_time": "2021-01-05T23:12:18.120Z"
    },
    "scrolled": false
   },
   "outputs": [],
   "source": [
    "best_grid"
   ]
  },
  {
   "cell_type": "code",
   "execution_count": null,
   "metadata": {},
   "outputs": [],
   "source": []
  },
  {
   "cell_type": "code",
   "execution_count": null,
   "metadata": {},
   "outputs": [],
   "source": []
  },
  {
   "cell_type": "code",
   "execution_count": null,
   "metadata": {},
   "outputs": [],
   "source": []
  },
  {
   "cell_type": "code",
   "execution_count": null,
   "metadata": {},
   "outputs": [],
   "source": []
  },
  {
   "cell_type": "code",
   "execution_count": null,
   "metadata": {},
   "outputs": [],
   "source": []
  },
  {
   "cell_type": "code",
   "execution_count": null,
   "metadata": {},
   "outputs": [],
   "source": []
  },
  {
   "cell_type": "code",
   "execution_count": null,
   "metadata": {
    "ExecuteTime": {
     "end_time": "2021-01-05T23:13:03.230854Z",
     "start_time": "2021-01-05T23:12:18.145Z"
    }
   },
   "outputs": [],
   "source": [
    "\n",
    "\n",
    "# Train Classifier\n",
    "lreg.fit(X_train_scaled, y_train)\n",
    "\n",
    "# Prediction of Classes\n",
    "y_pred = lreg.predict(X_test_scaled)\n",
    "\n",
    "# Display Confusion Matrix and Classification Report\n",
    "print(confusion_matrix(y_test, y_pred))\n",
    "#     print(classification_report(y_test, y_pred))\n",
    "\n",
    "# Prediction of Probabilities\n",
    "y_pred_prob = lreg.predict_proba(X_test_scaled)[:, 1]\n",
    "\n",
    "# Create Data Frame of Actual Values - y_test\n",
    "df_y_test = pd.DataFrame(y_test)\n",
    "\n",
    "# Add Predicted Probabilities to Data Frame\n",
    "df_y_test[\"y_pred_prob\"] = y_pred_prob\n",
    "\n",
    "# Add Predicted Classes (0 or 1) to Data Frame to Cross-Check Predicted Probabilities\n",
    "df_y_test[\"y_pred\"] = y_pred"
   ]
  },
  {
   "cell_type": "code",
   "execution_count": null,
   "metadata": {
    "ExecuteTime": {
     "end_time": "2021-01-05T23:13:03.232055Z",
     "start_time": "2021-01-05T23:12:18.151Z"
    }
   },
   "outputs": [],
   "source": [
    "df_y_test=df_y_test.sort_index()\n",
    "df_y_test"
   ]
  },
  {
   "cell_type": "code",
   "execution_count": null,
   "metadata": {
    "ExecuteTime": {
     "end_time": "2021-01-05T23:13:03.232810Z",
     "start_time": "2021-01-05T23:12:18.156Z"
    }
   },
   "outputs": [],
   "source": [
    "df_y_test[df_y_test['Class']!=df_y_test['y_pred']]"
   ]
  },
  {
   "cell_type": "code",
   "execution_count": null,
   "metadata": {
    "ExecuteTime": {
     "end_time": "2021-01-05T23:13:03.232810Z",
     "start_time": "2021-01-05T23:12:18.161Z"
    }
   },
   "outputs": [],
   "source": [
    "df_y_test[df_y_test['Class']==df_y_test['y_pred']]"
   ]
  },
  {
   "cell_type": "code",
   "execution_count": null,
   "metadata": {
    "ExecuteTime": {
     "end_time": "2021-01-05T23:13:03.233807Z",
     "start_time": "2021-01-05T23:12:18.167Z"
    }
   },
   "outputs": [],
   "source": [
    "import plotly.graph_objects as go\n",
    "\n",
    "# Create traces\n",
    "fig = go.Figure()\n",
    "fig.add_trace(go.Scatter(x=df_y_test.index, y=df_y_test['Class'],\n",
    "                    mode='lines+markers',\n",
    "                    name='Class - reality'))\n",
    "fig.add_trace(go.Scatter(x=df_y_test.index, y=df_y_test['y_pred_prob'],\n",
    "                    mode='lines+markers',\n",
    "                    name='y_pred'))\n",
    "fig.show()\n"
   ]
  },
  {
   "cell_type": "code",
   "execution_count": null,
   "metadata": {
    "ExecuteTime": {
     "end_time": "2021-01-05T23:13:03.234805Z",
     "start_time": "2021-01-05T23:12:18.174Z"
    }
   },
   "outputs": [],
   "source": [
    "# Select Actual Daily Returns in USD from the Data Set Copy\n",
    "df_dataset1_copy_dailyreturns = df_dataset1_copy[['Daily Return in USD']]\n",
    "\n",
    "# # Merge Predictions and Daily Returns Data Frame on the Column \"Date\"\n",
    "# df_y_test_withdailyreturns = pd.merge(\n",
    "#     df_y_test, df_dataset1_copy_dailyreturns, on='Date')\n",
    "\n",
    "# df_dataset1_copy_percentage = df_dataset1_copy[['percentage_daily_return']]\n",
    "# df_y_test_withdailyreturns = pd.merge(\n",
    "#     df_y_test_withdailyreturns, df_dataset1_copy_percentage, on='Date')\n",
    "\n",
    "# # Add Bitcoin Price in USD\n",
    "# df_y_test_withdailyreturns = pd.merge(\n",
    "#     df_y_test_withdailyreturns, df_dataset1['market/price_usd_close'], on='Date')\n",
    "\n",
    "# df_y_test_withdailyreturns['y_pred_prob_bereinigt'] = np.where(\n",
    "#     df_y_test_withdailyreturns['y_pred_prob'] < 0.5, 1-df_y_test_withdailyreturns['y_pred_prob'], df_y_test_withdailyreturns['y_pred_prob'])\n",
    "\n",
    "# df_y_test_withdailyreturns[\"Einsatz\"] = einsatz * \\\n",
    "#     df_y_test_withdailyreturns[\"y_pred_prob_bereinigt\"]  # **2\n"
   ]
  },
  {
   "cell_type": "code",
   "execution_count": null,
   "metadata": {},
   "outputs": [],
   "source": []
  },
  {
   "cell_type": "code",
   "execution_count": null,
   "metadata": {},
   "outputs": [],
   "source": []
  },
  {
   "cell_type": "markdown",
   "metadata": {},
   "source": [
    "## Feature Scaling - Data Set I."
   ]
  },
  {
   "cell_type": "code",
   "execution_count": null,
   "metadata": {
    "ExecuteTime": {
     "end_time": "2021-01-05T23:13:03.234805Z",
     "start_time": "2021-01-05T23:12:18.189Z"
    }
   },
   "outputs": [],
   "source": [
    "# Instantiation of MinMaxScaler and StandardSacler\n",
    "norm_scaler = MinMaxScaler()\n",
    "#std_scaler = StandardScaler()"
   ]
  },
  {
   "cell_type": "code",
   "execution_count": null,
   "metadata": {
    "ExecuteTime": {
     "end_time": "2021-01-05T23:13:03.235802Z",
     "start_time": "2021-01-05T23:12:18.195Z"
    }
   },
   "outputs": [],
   "source": [
    "# Scaler Training and Transformation of Training Set\n",
    "X_train_scaled = pd.DataFrame(norm_scaler.fit_transform(X_train))"
   ]
  },
  {
   "cell_type": "code",
   "execution_count": null,
   "metadata": {
    "ExecuteTime": {
     "end_time": "2021-01-05T23:13:03.236800Z",
     "start_time": "2021-01-05T23:12:18.200Z"
    }
   },
   "outputs": [],
   "source": [
    "# Scaler Transformation of Test Set\n",
    "X_test_scaled = norm_scaler.transform(X_test)"
   ]
  },
  {
   "cell_type": "code",
   "execution_count": null,
   "metadata": {
    "ExecuteTime": {
     "end_time": "2021-01-05T23:13:03.236800Z",
     "start_time": "2021-01-05T23:12:18.205Z"
    }
   },
   "outputs": [],
   "source": [
    "# Scaled Test Features\n",
    "X_test_scaled"
   ]
  },
  {
   "cell_type": "code",
   "execution_count": null,
   "metadata": {
    "ExecuteTime": {
     "end_time": "2021-01-05T23:13:03.237810Z",
     "start_time": "2021-01-05T23:12:18.210Z"
    }
   },
   "outputs": [],
   "source": [
    "# Scaler Transformation of Entire Training Set - Input for Cross-Validation\n",
    "predictors_scaled = norm_scaler.transform(predictors)"
   ]
  },
  {
   "cell_type": "markdown",
   "metadata": {},
   "source": [
    "# Classification Models - Data Set I."
   ]
  },
  {
   "cell_type": "code",
   "execution_count": null,
   "metadata": {
    "ExecuteTime": {
     "end_time": "2021-01-05T23:13:03.238795Z",
     "start_time": "2021-01-05T23:12:18.216Z"
    }
   },
   "outputs": [],
   "source": [
    "# Function To Show Accuracy Mean and Accuracy Standard Deviation\n",
    "def show_scores(scores):\n",
    "    # Scores Series\n",
    "    print('Scores:', scores)\n",
    "    # Score Mean\n",
    "    print('Mean:', np.mean(scores))\n",
    "    # Score Standard Deviation\n",
    "    print('Standard Deviation:', np.std(scores))"
   ]
  },
  {
   "cell_type": "markdown",
   "metadata": {},
   "source": [
    "## Logistic Regression - Data Set I."
   ]
  },
  {
   "cell_type": "code",
   "execution_count": null,
   "metadata": {
    "ExecuteTime": {
     "end_time": "2021-01-05T23:13:03.238795Z",
     "start_time": "2021-01-05T23:12:18.221Z"
    }
   },
   "outputs": [],
   "source": [
    "# Instantiate Classifier - LogisticRegression\n",
    "lreg = LogisticRegression(max_iter=1200)"
   ]
  },
  {
   "cell_type": "code",
   "execution_count": null,
   "metadata": {
    "ExecuteTime": {
     "end_time": "2021-01-05T23:13:03.239793Z",
     "start_time": "2021-01-05T23:12:18.226Z"
    }
   },
   "outputs": [],
   "source": [
    "# Train Classifier\n",
    "lreg.fit(X_train_scaled, y_train)"
   ]
  },
  {
   "cell_type": "code",
   "execution_count": null,
   "metadata": {
    "ExecuteTime": {
     "end_time": "2021-01-05T23:13:03.240789Z",
     "start_time": "2021-01-05T23:12:18.232Z"
    }
   },
   "outputs": [],
   "source": [
    "# Prediction of Classes\n",
    "y_pred = lreg.predict(X_test_scaled)"
   ]
  },
  {
   "cell_type": "code",
   "execution_count": null,
   "metadata": {
    "ExecuteTime": {
     "end_time": "2021-01-05T23:13:03.241787Z",
     "start_time": "2021-01-05T23:12:18.237Z"
    }
   },
   "outputs": [],
   "source": [
    "# Prediction of Probabilities\n",
    "y_pred_prob = lreg.predict_proba(X_test_scaled)[:,1]"
   ]
  },
  {
   "cell_type": "code",
   "execution_count": null,
   "metadata": {
    "ExecuteTime": {
     "end_time": "2021-01-05T23:13:03.242784Z",
     "start_time": "2021-01-05T23:12:18.242Z"
    }
   },
   "outputs": [],
   "source": [
    "# Select Predicted Probabilities\n",
    "y_pred_prob[1:11]"
   ]
  },
  {
   "cell_type": "code",
   "execution_count": null,
   "metadata": {
    "ExecuteTime": {
     "end_time": "2021-01-05T23:13:03.243782Z",
     "start_time": "2021-01-05T23:12:18.247Z"
    }
   },
   "outputs": [],
   "source": [
    "# Select Actual Classes\n",
    "np.array(y_test[1:11])"
   ]
  },
  {
   "cell_type": "code",
   "execution_count": null,
   "metadata": {
    "ExecuteTime": {
     "end_time": "2021-01-05T23:13:03.244780Z",
     "start_time": "2021-01-05T23:12:18.252Z"
    }
   },
   "outputs": [],
   "source": [
    "# Train Accuracy\n",
    "lreg.score(X_train_scaled, y_train)"
   ]
  },
  {
   "cell_type": "code",
   "execution_count": null,
   "metadata": {
    "ExecuteTime": {
     "end_time": "2021-01-05T23:13:03.245776Z",
     "start_time": "2021-01-05T23:12:18.257Z"
    }
   },
   "outputs": [],
   "source": [
    "# Test Accuracy\n",
    "lreg.score(X_test_scaled, y_test)"
   ]
  },
  {
   "cell_type": "code",
   "execution_count": null,
   "metadata": {
    "ExecuteTime": {
     "end_time": "2021-01-05T23:13:03.246774Z",
     "start_time": "2021-01-05T23:12:18.262Z"
    }
   },
   "outputs": [],
   "source": [
    "# Output of Confusion Matrix\n",
    "print(confusion_matrix(y_test, y_pred))"
   ]
  },
  {
   "cell_type": "code",
   "execution_count": null,
   "metadata": {
    "ExecuteTime": {
     "end_time": "2021-01-05T23:13:03.247294Z",
     "start_time": "2021-01-05T23:12:18.267Z"
    }
   },
   "outputs": [],
   "source": [
    "# Output of Classification Report\n",
    "print(classification_report(y_test, y_pred))"
   ]
  },
  {
   "cell_type": "code",
   "execution_count": null,
   "metadata": {
    "ExecuteTime": {
     "end_time": "2021-01-05T23:13:03.247771Z",
     "start_time": "2021-01-05T23:12:18.273Z"
    }
   },
   "outputs": [],
   "source": [
    "# Generate ROC curve values: fpr, tpr, thresholds\n",
    "fpr, tpr, thresholds = roc_curve(y_test, y_pred_prob)"
   ]
  },
  {
   "cell_type": "code",
   "execution_count": null,
   "metadata": {
    "ExecuteTime": {
     "end_time": "2021-01-05T23:13:03.248767Z",
     "start_time": "2021-01-05T23:12:18.278Z"
    }
   },
   "outputs": [],
   "source": [
    "# 10-fold Cross Validation including Stratification\n",
    "skf = StratifiedKFold(shuffle=True, n_splits=10)"
   ]
  },
  {
   "cell_type": "code",
   "execution_count": null,
   "metadata": {
    "ExecuteTime": {
     "end_time": "2021-01-05T23:13:03.249764Z",
     "start_time": "2021-01-05T23:12:18.284Z"
    }
   },
   "outputs": [],
   "source": [
    "# Compute and print AUC Score\n",
    "print(\"AUC: {}\".format(roc_auc_score(y_test, y_pred_prob)))"
   ]
  },
  {
   "cell_type": "code",
   "execution_count": null,
   "metadata": {
    "ExecuteTime": {
     "end_time": "2021-01-05T23:13:03.250762Z",
     "start_time": "2021-01-05T23:12:18.290Z"
    }
   },
   "outputs": [],
   "source": [
    "# Cross-Validation for AUC scores\n",
    "cv_auc = cross_val_score(lreg, predictors_scaled, target, cv=skf, scoring='roc_auc')"
   ]
  },
  {
   "cell_type": "code",
   "execution_count": null,
   "metadata": {
    "ExecuteTime": {
     "end_time": "2021-01-05T23:13:03.251761Z",
     "start_time": "2021-01-05T23:12:18.295Z"
    }
   },
   "outputs": [],
   "source": [
    "# Print List of AUC scores\n",
    "print(\"AUC scores computed using 10-fold cross-validation: {}\".format(cv_auc))"
   ]
  },
  {
   "cell_type": "code",
   "execution_count": null,
   "metadata": {
    "ExecuteTime": {
     "end_time": "2021-01-05T23:13:03.251761Z",
     "start_time": "2021-01-05T23:12:18.301Z"
    }
   },
   "outputs": [],
   "source": [
    "# Cross-Validation for Accuracy Scores\n",
    "cv_acc = cross_val_score(lreg, predictors_scaled, target, cv=skf, scoring='accuracy')"
   ]
  },
  {
   "cell_type": "code",
   "execution_count": null,
   "metadata": {
    "ExecuteTime": {
     "end_time": "2021-01-05T23:13:03.252758Z",
     "start_time": "2021-01-05T23:12:18.306Z"
    }
   },
   "outputs": [],
   "source": [
    "# Print List of Accuracy Scores\n",
    "print(\"Accuracy scores computed using 10-fold cross-validation: {}\".format(cv_acc))"
   ]
  },
  {
   "cell_type": "code",
   "execution_count": null,
   "metadata": {
    "ExecuteTime": {
     "end_time": "2021-01-05T23:13:03.253755Z",
     "start_time": "2021-01-05T23:12:18.312Z"
    }
   },
   "outputs": [],
   "source": [
    "# Accuracy Results - Mean and Standard Deviation\n",
    "show_scores(cv_acc)"
   ]
  },
  {
   "cell_type": "markdown",
   "metadata": {},
   "source": [
    "## Random Forest Classifier - Data Set I."
   ]
  },
  {
   "cell_type": "code",
   "execution_count": null,
   "metadata": {
    "ExecuteTime": {
     "end_time": "2021-01-05T23:13:03.253755Z",
     "start_time": "2021-01-05T23:12:18.319Z"
    }
   },
   "outputs": [],
   "source": [
    "# Instantiate Classifier - Random Forest\n",
    "rfc = RandomForestClassifier(n_estimators=100, max_leaf_nodes=None, criterion='gini', max_depth=3, random_state=41)"
   ]
  },
  {
   "cell_type": "code",
   "execution_count": null,
   "metadata": {
    "ExecuteTime": {
     "end_time": "2021-01-05T23:13:03.254752Z",
     "start_time": "2021-01-05T23:12:18.325Z"
    }
   },
   "outputs": [],
   "source": [
    "# Train Classifier\n",
    "rfc.fit(X_train_scaled, y_train)"
   ]
  },
  {
   "cell_type": "code",
   "execution_count": null,
   "metadata": {
    "ExecuteTime": {
     "end_time": "2021-01-05T23:13:03.255750Z",
     "start_time": "2021-01-05T23:12:18.332Z"
    }
   },
   "outputs": [],
   "source": [
    "# Prediction of Classes\n",
    "y_pred = rfc.predict(X_test_scaled)"
   ]
  },
  {
   "cell_type": "code",
   "execution_count": null,
   "metadata": {
    "ExecuteTime": {
     "end_time": "2021-01-05T23:13:03.255750Z",
     "start_time": "2021-01-05T23:12:18.338Z"
    }
   },
   "outputs": [],
   "source": [
    "# Prediction of Probabilities\n",
    "y_pred_prob = rfc.predict_proba(X_test_scaled)[:,1]"
   ]
  },
  {
   "cell_type": "code",
   "execution_count": null,
   "metadata": {
    "ExecuteTime": {
     "end_time": "2021-01-05T23:13:03.256751Z",
     "start_time": "2021-01-05T23:12:18.344Z"
    }
   },
   "outputs": [],
   "source": [
    "# Select Predicted Probabilities\n",
    "y_pred_prob[1:11]"
   ]
  },
  {
   "cell_type": "code",
   "execution_count": null,
   "metadata": {
    "ExecuteTime": {
     "end_time": "2021-01-05T23:13:03.257745Z",
     "start_time": "2021-01-05T23:12:18.350Z"
    }
   },
   "outputs": [],
   "source": [
    "# Train Accuracy\n",
    "rfc.score(X_train_scaled, y_train)"
   ]
  },
  {
   "cell_type": "code",
   "execution_count": null,
   "metadata": {
    "ExecuteTime": {
     "end_time": "2021-01-05T23:13:03.258755Z",
     "start_time": "2021-01-05T23:12:18.356Z"
    }
   },
   "outputs": [],
   "source": [
    "# Test Accuracy\n",
    "rfc.score(X_test_scaled, y_test)"
   ]
  },
  {
   "cell_type": "code",
   "execution_count": null,
   "metadata": {
    "ExecuteTime": {
     "end_time": "2021-01-05T23:13:03.259836Z",
     "start_time": "2021-01-05T23:12:18.363Z"
    }
   },
   "outputs": [],
   "source": [
    "# Output of Confusion Matrix\n",
    "print(confusion_matrix(y_test, y_pred))"
   ]
  },
  {
   "cell_type": "code",
   "execution_count": null,
   "metadata": {
    "ExecuteTime": {
     "end_time": "2021-01-05T23:13:03.260827Z",
     "start_time": "2021-01-05T23:12:18.369Z"
    }
   },
   "outputs": [],
   "source": [
    "# Output of Classification Report\n",
    "print(classification_report(y_test, y_pred))"
   ]
  },
  {
   "cell_type": "code",
   "execution_count": null,
   "metadata": {
    "ExecuteTime": {
     "end_time": "2021-01-05T23:13:03.261962Z",
     "start_time": "2021-01-05T23:12:18.377Z"
    }
   },
   "outputs": [],
   "source": [
    "# Generate ROC curve values: fpr, tpr, thresholds\n",
    "fpr, tpr, thresholds = roc_curve(y_test, y_pred_prob)"
   ]
  },
  {
   "cell_type": "code",
   "execution_count": null,
   "metadata": {
    "ExecuteTime": {
     "end_time": "2021-01-05T23:13:03.262852Z",
     "start_time": "2021-01-05T23:12:18.384Z"
    }
   },
   "outputs": [],
   "source": [
    "# 10-fold Cross Validation including Stratification\n",
    "skf = StratifiedKFold(shuffle=True, n_splits=10)"
   ]
  },
  {
   "cell_type": "code",
   "execution_count": null,
   "metadata": {
    "ExecuteTime": {
     "end_time": "2021-01-05T23:13:03.263819Z",
     "start_time": "2021-01-05T23:12:18.390Z"
    }
   },
   "outputs": [],
   "source": [
    "# Compute and print AUC score\n",
    "print(\"AUC: {}\".format(roc_auc_score(y_test, y_pred_prob)))"
   ]
  },
  {
   "cell_type": "code",
   "execution_count": null,
   "metadata": {
    "ExecuteTime": {
     "end_time": "2021-01-05T23:13:03.264818Z",
     "start_time": "2021-01-05T23:12:18.397Z"
    }
   },
   "outputs": [],
   "source": [
    "# Cross-Validation for AUC scores\n",
    "cv_auc = cross_val_score(rfc, predictors_scaled, target, cv=skf, scoring='roc_auc')"
   ]
  },
  {
   "cell_type": "code",
   "execution_count": null,
   "metadata": {
    "ExecuteTime": {
     "end_time": "2021-01-05T23:13:03.265814Z",
     "start_time": "2021-01-05T23:12:18.403Z"
    }
   },
   "outputs": [],
   "source": [
    "# Print List of AUC scores\n",
    "print(\"AUC scores computed using 10-fold cross-validation: {}\".format(cv_auc))"
   ]
  },
  {
   "cell_type": "code",
   "execution_count": null,
   "metadata": {
    "ExecuteTime": {
     "end_time": "2021-01-05T23:13:03.265814Z",
     "start_time": "2021-01-05T23:12:18.410Z"
    }
   },
   "outputs": [],
   "source": [
    "# Cross-Validation for Accuracy Scores\n",
    "cv_acc = cross_val_score(rfc, predictors_scaled, target, cv=skf, scoring='accuracy')"
   ]
  },
  {
   "cell_type": "code",
   "execution_count": null,
   "metadata": {
    "ExecuteTime": {
     "end_time": "2021-01-05T23:13:03.266811Z",
     "start_time": "2021-01-05T23:12:18.416Z"
    }
   },
   "outputs": [],
   "source": [
    "# Print List of Accuracy Scores\n",
    "print(\"Accuracy scores computed using 10-fold cross-validation: {}\".format(cv_acc))"
   ]
  },
  {
   "cell_type": "code",
   "execution_count": null,
   "metadata": {
    "ExecuteTime": {
     "end_time": "2021-01-05T23:13:03.267809Z",
     "start_time": "2021-01-05T23:12:18.423Z"
    }
   },
   "outputs": [],
   "source": [
    "# Accuracy Results - Mean and Standard Deviation\n",
    "show_scores(cv_acc)"
   ]
  },
  {
   "cell_type": "markdown",
   "metadata": {},
   "source": [
    "# Trading Strategy - Data Set I"
   ]
  },
  {
   "cell_type": "markdown",
   "metadata": {},
   "source": [
    "## Trading Strategy in Combination with Logistic Regression"
   ]
  },
  {
   "cell_type": "code",
   "execution_count": null,
   "metadata": {
    "ExecuteTime": {
     "end_time": "2021-01-05T23:13:03.267809Z",
     "start_time": "2021-01-05T23:12:18.433Z"
    }
   },
   "outputs": [],
   "source": [
    "# Create Lists To Store All Calculated Values For Every Variable of Every Run\n",
    "# Specified Period\n",
    "# Threshold 0.5\n",
    "spec_list_05_total = []\n",
    "spec_list_05_profit = []\n",
    "spec_list_05_loss = []\n",
    "spec_list_05_trans = []\n",
    "spec_list_05_acc = []\n",
    "spec_list_05_preds_corr = []\n",
    "spec_list_05_preds = []\n",
    "# Threshold 0.6\n",
    "spec_list_06_total = []\n",
    "spec_list_06_profit = []\n",
    "spec_list_06_loss = []\n",
    "spec_list_06_trans = []\n",
    "spec_list_06_acc = []\n",
    "spec_list_06_preds_corr = []\n",
    "spec_list_06_preds = []\n",
    "# Threshold 0.7\n",
    "spec_list_07_total = []\n",
    "spec_list_07_profit = []\n",
    "spec_list_07_loss = []\n",
    "spec_list_07_trans = []\n",
    "spec_list_07_acc = []\n",
    "spec_list_07_preds_corr = []\n",
    "spec_list_07_preds = []\n",
    "# Threshold 0.8\n",
    "spec_list_08_total = []\n",
    "spec_list_08_profit = []\n",
    "spec_list_08_loss = []\n",
    "spec_list_08_trans = []\n",
    "spec_list_08_acc = []\n",
    "spec_list_08_preds_corr = []\n",
    "spec_list_08_preds = []\n",
    "\n",
    "# Entire Period\n",
    "# Threshold 0.5\n",
    "list_05_total = []\n",
    "list_05_profit = []\n",
    "list_05_loss = []\n",
    "list_05_trans = []\n",
    "list_05_acc = []\n",
    "list_05_preds_corr = []\n",
    "list_05_preds = []\n",
    "# Threshold 0.6\n",
    "list_06_total = []\n",
    "list_06_profit = []\n",
    "list_06_loss = []\n",
    "list_06_trans = []\n",
    "list_06_acc = []\n",
    "list_06_preds_corr = []\n",
    "list_06_preds = []\n",
    "# Threshold 0.7\n",
    "list_07_total = []\n",
    "list_07_profit = []\n",
    "list_07_loss = []\n",
    "list_07_trans = []\n",
    "list_07_acc = []\n",
    "list_07_preds_corr = []\n",
    "list_07_preds = []\n",
    "# Threshold 0.8\n",
    "list_08_total = []\n",
    "list_08_profit = []\n",
    "list_08_loss = []\n",
    "list_08_trans = []\n",
    "list_08_acc = []\n",
    "list_08_preds_corr = []\n",
    "list_08_preds = []"
   ]
  },
  {
   "cell_type": "code",
   "execution_count": null,
   "metadata": {
    "ExecuteTime": {
     "end_time": "2021-01-05T23:13:03.268806Z",
     "start_time": "2021-01-05T23:12:18.439Z"
    }
   },
   "outputs": [],
   "source": [
    "target\n"
   ]
  },
  {
   "cell_type": "code",
   "execution_count": null,
   "metadata": {
    "ExecuteTime": {
     "end_time": "2021-01-05T23:13:03.268806Z",
     "start_time": "2021-01-05T23:12:18.445Z"
    }
   },
   "outputs": [],
   "source": [
    "predictors"
   ]
  },
  {
   "cell_type": "code",
   "execution_count": null,
   "metadata": {
    "ExecuteTime": {
     "end_time": "2021-01-05T23:13:03.269803Z",
     "start_time": "2021-01-05T23:12:18.451Z"
    }
   },
   "outputs": [],
   "source": [
    "for x in df_dataset1.columns:\n",
    "    print(x)"
   ]
  },
  {
   "cell_type": "code",
   "execution_count": null,
   "metadata": {
    "ExecuteTime": {
     "end_time": "2021-01-05T23:13:03.269803Z",
     "start_time": "2021-01-05T23:12:18.458Z"
    }
   },
   "outputs": [],
   "source": [
    "df_dataset1_copy[['Daily Return in USD']]"
   ]
  },
  {
   "cell_type": "code",
   "execution_count": null,
   "metadata": {
    "ExecuteTime": {
     "end_time": "2021-01-05T23:13:03.270802Z",
     "start_time": "2021-01-05T23:12:18.464Z"
    }
   },
   "outputs": [],
   "source": [
    "df_dataset1_copy[\"percentage_daily_return\"] = df_dataset1_copy[\"Daily Return in USD\"]/df_dataset1_copy[\"market/price_usd_close\"]\n",
    "df_dataset1_copy[\"percentage_daily_return\"]"
   ]
  },
  {
   "cell_type": "code",
   "execution_count": null,
   "metadata": {
    "ExecuteTime": {
     "end_time": "2021-01-05T23:13:03.271798Z",
     "start_time": "2021-01-05T23:12:18.470Z"
    }
   },
   "outputs": [],
   "source": [
    "predictors"
   ]
  },
  {
   "cell_type": "code",
   "execution_count": null,
   "metadata": {
    "ExecuteTime": {
     "end_time": "2021-01-05T23:13:03.272795Z",
     "start_time": "2021-01-05T23:12:18.477Z"
    },
    "scrolled": true
   },
   "outputs": [],
   "source": [
    "einsatz = 1000\n",
    "prestakepercentlist = []\n",
    "zinseszins = []\n",
    "profitpercent = []\n",
    "current_profitpercent = []\n",
    "spec_start_date = '2019-09-09'\n",
    "\n",
    "prestakepercentlist51 = []\n",
    "prestakepercentlist52 = []\n",
    "prestakepercentlist53 = []\n",
    "\n",
    "profitpercent51 = []\n",
    "profitpercent52 = []\n",
    "profitpercent53 = []\n",
    "\n",
    "current_profitpercent51 = []\n",
    "current_profitpercent52 = []\n",
    "current_profitpercent53 = []\n",
    "\n",
    "zinseszins51 = []\n",
    "zinseszins52 = []\n",
    "zinseszins53 = []\n",
    "\n",
    "current_zinseszins = []\n",
    "current_zinseszins51 = []\n",
    "current_zinseszins52 = []\n",
    "current_zinseszins53 = []\n",
    "\n",
    "\n",
    "# For Loop to Simulate K-fold Cross Validation\n",
    "for x in range(1, 100):\n",
    "\n",
    "    # Display Number of Runs\n",
    "    print(\"Run:\", x)\n",
    "\n",
    "    # Split Data into Training and Testing\n",
    "    X_train, X_test, y_train, y_test = train_test_split(\n",
    "        predictors, target, test_size=0.3, stratify=target)\n",
    "\n",
    "    # Amount of Columns\n",
    "    n_nodes = predictors.shape[1]\n",
    "\n",
    "    # Instantiation of MinMaxScaler\n",
    "    norm_scaler = MinMaxScaler()\n",
    "\n",
    "    # Training and Application of Feature Scaler on Training Data of Predictors\n",
    "    X_train_scaled = pd.DataFrame(norm_scaler.fit_transform(X_train))\n",
    "\n",
    "    # Application of Feature Scaler on Test Data of Predictors\n",
    "    X_test_scaled = norm_scaler.transform(X_test)\n",
    "\n",
    "    # Instantiate Classifier Logistic Regression\n",
    "    lreg = LogisticRegression(max_iter=1100, penalty='l1', C=1, solver= 'liblinear')\n",
    "    \n",
    "#     LR = LogisticRegression()\n",
    "# LRparam_grid = {\n",
    "#     'C': [1], #1\n",
    "#      'penalty': ['l1'], #l2\n",
    "#      'max_iter': [1100],\n",
    "#      'solver': ['liblinear',] #,  'sag', 'saga' , 'lbfgs'  #'newton-cg'\n",
    "# }\n",
    "\n",
    "\n",
    "\n",
    "\n",
    "    # Train Classifier\n",
    "    lreg.fit(X_train_scaled, y_train)\n",
    "\n",
    "    # Prediction of Classes\n",
    "    y_pred = lreg.predict(X_test_scaled)\n",
    "\n",
    "    # Display Confusion Matrix and Classification Report\n",
    "    print(confusion_matrix(y_test, y_pred))\n",
    "#     print(classification_report(y_test, y_pred))\n",
    "\n",
    "    # Prediction of Probabilities\n",
    "    y_pred_prob = lreg.predict_proba(X_test_scaled)[:, 1]\n",
    "\n",
    "    # Create Data Frame of Actual Values - y_test\n",
    "    df_y_test = pd.DataFrame(y_test)\n",
    "\n",
    "    # Add Predicted Probabilities to Data Frame\n",
    "    df_y_test[\"y_pred_prob\"] = y_pred_prob\n",
    "\n",
    "    # Add Predicted Classes (0 or 1) to Data Frame to Cross-Check Predicted Probabilities\n",
    "    df_y_test[\"y_pred\"] = y_pred\n",
    "\n",
    "    # Select Actual Daily Returns in USD from the Data Set Copy\n",
    "    df_dataset1_copy_dailyreturns = df_dataset1_copy[['Daily Return in USD']]\n",
    "\n",
    "    # Merge Predictions and Daily Returns Data Frame on the Column \"Date\"\n",
    "    df_y_test_withdailyreturns = pd.merge(\n",
    "        df_y_test, df_dataset1_copy_dailyreturns, on='Date')\n",
    "\n",
    "    df_dataset1_copy_percentage = df_dataset1_copy[['percentage_daily_return']]\n",
    "    df_y_test_withdailyreturns = pd.merge(\n",
    "        df_y_test_withdailyreturns, df_dataset1_copy_percentage, on='Date')\n",
    "\n",
    "    # Add Bitcoin Price in USD\n",
    "    df_y_test_withdailyreturns = pd.merge(\n",
    "        df_y_test_withdailyreturns, df_dataset1['market/price_usd_close'], on='Date')\n",
    "\n",
    "    df_y_test_withdailyreturns['y_pred_prob_bereinigt'] = np.where(\n",
    "        df_y_test_withdailyreturns['y_pred_prob'] < 0.5, 1-df_y_test_withdailyreturns['y_pred_prob'], df_y_test_withdailyreturns['y_pred_prob'])\n",
    "\n",
    "    df_y_test_withdailyreturns[\"Einsatz\"] = einsatz * \\\n",
    "        df_y_test_withdailyreturns[\"y_pred_prob_bereinigt\"]  # **2\n",
    "\n",
    "    # Add and Calculate Transaction Costs based on the Bitcoin Price in USD\n",
    "    df_y_test_withdailyreturns['Transaction Costs in USD'] = df_y_test_withdailyreturns['Einsatz']*0.0003*2\n",
    "\n",
    "    # Create List of Multiple Thresholds\n",
    "    # A Threshold of 0.7 means that only predicted probabilites with more than 0.7 or less than 0.3 are considered further\n",
    "    list_thresholdcalc = [0.5, 0.51, 0.52, 0.53]\n",
    "\n",
    "    # Try and Except Block to Address Cases in Which a Data Frame does NOT Contain Any Values Because No predicted Probability Meets the Threshold Requirements\n",
    "    try:\n",
    "\n",
    "        # For Loop Over List\n",
    "        for thresholdcalc in list_thresholdcalc:\n",
    "\n",
    "            # Creation of a Data Frame Containing Only Probability Predictions Which Meet the Threshold Requirements\n",
    "            df_y_test_probaall = df_y_test.loc[(df_y_test['y_pred_prob'] > thresholdcalc) | (\n",
    "                df_y_test['y_pred_prob'] < 1-thresholdcalc)]\n",
    "\n",
    "            # Calculation Of Accuracy Only for the Data Subset Meeting Threshold Requirements\n",
    "            acc_calc = len(df_y_test_probaall[df_y_test_probaall['Class']\n",
    "                                              == df_y_test_probaall['y_pred']]) / len(df_y_test_probaall)\n",
    "\n",
    "            print(\"Threshold of:\", thresholdcalc)\n",
    "            print(classification_report(\n",
    "                df_y_test_probaall[\"Class\"], df_y_test_probaall[\"y_pred\"]))\n",
    "\n",
    "            # Creation of Another Data Frame including Returns and Transaction Costs\n",
    "            # Only For Probability Predicitons that Meet the Threshold Requirements\n",
    "            df_y_test_probaall_withdailyreturns = df_y_test_withdailyreturns.loc[(\n",
    "                df_y_test_withdailyreturns['y_pred_prob'] > thresholdcalc) | (df_y_test_withdailyreturns['y_pred_prob'] < 1-thresholdcalc)]\n",
    "\n",
    "            # Trading Assumption: Bet Amount = 1 Bitcoin for Each Prediction\n",
    "            # Select Daily Returns Only From True Predictions Where Predicted Class equals Actual Class.\n",
    "            # It does not matter whether Daily Returns are Positive or Negative as Short-Selling Option Allows To Profit From Falling Prices\n",
    "            profit = df_y_test_probaall_withdailyreturns[\"percentage_daily_return\"][\n",
    "                df_y_test_probaall_withdailyreturns['Class'] == df_y_test_probaall_withdailyreturns['y_pred']].abs().sum()\n",
    "\n",
    "            # Select  Daily Returns Only From False Predictions Where Predicted Class equals Actual Class\n",
    "            loss = df_y_test_probaall_withdailyreturns[\"percentage_daily_return\"][df_y_test_probaall_withdailyreturns['Class']\n",
    "                                                                                  != df_y_test_probaall_withdailyreturns['y_pred']].abs().sum()\n",
    "\n",
    "            print(\"prestake profit-loss {:.2f} x\".format(profit-loss))\n",
    "\n",
    "            if thresholdcalc == 0.5:\n",
    "                prestakepercentlist.append(int((profit-loss)*100))\n",
    "            if thresholdcalc == 0.51:\n",
    "                prestakepercentlist51.append(int((profit-loss)*100))\n",
    "            if thresholdcalc == 0.52:\n",
    "                prestakepercentlist52.append(int((profit-loss)*100))\n",
    "            if thresholdcalc == 0.53:\n",
    "                prestakepercentlist53.append(int((profit-loss)*100))\n",
    "\n",
    "            loss = loss * einsatz\n",
    "            profit = profit * einsatz\n",
    "\n",
    "            # Calculation of Transaction Costs based On BTC Value in USD. Each Future Trade considers Transaction Costs twice, becauase of Buying and Selling the Future\n",
    "            transaction_costs = df_y_test_probaall_withdailyreturns['Transaction Costs in USD'].sum(\n",
    "            )\n",
    "\n",
    "            # Calculation of Total Profit Considering Profit, Loss and Transaction Costs\n",
    "            total = profit-loss-transaction_costs\n",
    "\n",
    "            # In addition, the same setting with different time horizon\n",
    "            currentpreds_all = df_y_test_probaall_withdailyreturns[\n",
    "                df_y_test_probaall_withdailyreturns.index >= spec_start_date]\n",
    "\n",
    "            # the len\n",
    "            currentpreds_all_count = len(currentpreds_all)\n",
    "\n",
    "            # Analog to Profit Calculation Above\n",
    "            currentpreds_winning_total = currentpreds_all[\"percentage_daily_return\"][(\n",
    "                currentpreds_all['Class'] == currentpreds_all['y_pred'])].abs().sum()\n",
    "            # Analog to Loss Calculation Above\n",
    "            currentpreds_loosing_total = currentpreds_all[\"percentage_daily_return\"][(\n",
    "                currentpreds_all['Class'] != currentpreds_all['y_pred'])].abs().sum()\n",
    "            # Analog to Calculation of Transaction Costs Above\n",
    "            currentpreds_transaction_costs = currentpreds_all['Transaction Costs in USD'][(\n",
    "                currentpreds_all['Class'] != currentpreds_all['y_pred'])].abs().sum()\n",
    "\n",
    "            currentpreds_loosing_total = currentpreds_loosing_total * einsatz\n",
    "            currentpreds_winning_total = currentpreds_winning_total * einsatz\n",
    "\n",
    "            # Analog to Calculation of Total Profit\n",
    "            currentpreds_total = currentpreds_winning_total - \\\n",
    "                currentpreds_loosing_total-currentpreds_transaction_costs\n",
    "\n",
    "            # Condition\n",
    "            # In Case the Shorter Time Horizon Does Not Include any Sample -> Empyt Output\n",
    "            if currentpreds_all_count == 0:\n",
    "                currentpreds_all_count = '-'\n",
    "                current_acc_calc = '-'\n",
    "\n",
    "            # Otherwise Calculation of Accuracy analog to theeins Accuracy Calculation for the Entire Period\n",
    "            else:\n",
    "                current_acc_calc = (len(currentpreds_all[\"Daily Return in USD\"][(\n",
    "                    currentpreds_all['Class'] == currentpreds_all['y_pred'])]))/currentpreds_all_count\n",
    "\n",
    "            # Display of Threshold, Total Profit, Profit, Loss, Transaction Costs, Accuracy and Correct Number of Predictions Both for the Specified Time Horizon and the Entire Time\n",
    "            print(\"SpecPeriod:\")\n",
    "            print(\"einsatz\", int(currentpreds_all[\"Einsatz\"].sum()), \"Total Return in SpecPeriod:\", int(currentpreds_total), \"/ Profit: \", int(currentpreds_winning_total), \"/ Loss: \", int(currentpreds_loosing_total), \"/ TransCosts: \", int(currentpreds_transaction_costs),\n",
    "                  \"/ #CorrectPreds:\", (len(currentpreds_all[\"Daily Return in USD\"][(currentpreds_all['Class'] == currentpreds_all['y_pred'])])), \"of\", len(currentpreds_all))\n",
    "\n",
    "            print(\"CalcAccuracy {:.2f} -- profit in %/bet: {:.2f}\".format(current_acc_calc, 100*(int(\n",
    "                currentpreds_total) / len(currentpreds_all)) / (currentpreds_all[\"Einsatz\"].sum() / len(currentpreds_all))))\n",
    "            print(\"einsatz * 1+profit% ^ # wetten {:.2f}\".format(einsatz*(1+(int(currentpreds_total) / len(currentpreds_all)) / (\n",
    "                currentpreds_all[\"Einsatz\"].sum() / len(currentpreds_all))) ** len(currentpreds_all)))\n",
    "\n",
    "            if thresholdcalc == 0.5:\n",
    "                current_profitpercent.append(100*(int(currentpreds_total) / len(\n",
    "                    currentpreds_all)) / (currentpreds_all[\"Einsatz\"].sum() / len(currentpreds_all)))\n",
    "            if thresholdcalc == 0.51:\n",
    "                current_profitpercent51.append(100*(int(currentpreds_total) / len(\n",
    "                    currentpreds_all)) / (currentpreds_all[\"Einsatz\"].sum() / len(currentpreds_all)))\n",
    "            if thresholdcalc == 0.52:\n",
    "                current_profitpercent52.append(100*(int(currentpreds_total) / len(\n",
    "                    currentpreds_all)) / (currentpreds_all[\"Einsatz\"].sum() / len(currentpreds_all)))\n",
    "            if thresholdcalc == 0.53:\n",
    "                current_profitpercent53.append(100*(int(currentpreds_total) / len(\n",
    "                    currentpreds_all)) / (currentpreds_all[\"Einsatz\"].sum() / len(currentpreds_all)))\n",
    "\n",
    "            print()\n",
    "            print(\"Entire Period:\")\n",
    "            print(\"einsatz\", int(df_y_test_probaall_withdailyreturns[\"Einsatz\"].sum()), \"TotReturn:\", int(total), \"/ Profit: \", int(profit), \"/ Loss: \", int(loss), \"/ TransCosts: \", int(\n",
    "                transaction_costs), \"/ CalcAccuracy\", round(acc_calc, 2), \"/ #CorrectPreds:\", len(df_y_test_probaall[df_y_test_probaall['Class'] == df_y_test_probaall['y_pred']]),  \"Of\", len(df_y_test_probaall))\n",
    "            print(\"einsatz/bet\", df_y_test_probaall_withdailyreturns[\"Einsatz\"].sum() / len(df_y_test_probaall), \"TotReturn / bet\", int(total) / len(\n",
    "                df_y_test_probaall), \"/ TranCosts / bet \", int(transaction_costs) / len(df_y_test_probaall), \"/ CalcuAcc\", round(acc_calc, 2))\n",
    "            print(\"profit in %/bet: {:.2f}\".format(100*(int(total) / len(df_y_test_probaall)) / (\n",
    "                df_y_test_probaall_withdailyreturns[\"Einsatz\"].sum() / len(df_y_test_probaall))))\n",
    "\n",
    "            if thresholdcalc == 0.5:\n",
    "                profitpercent.append(100*(int(total) / len(df_y_test_probaall)) / (\n",
    "                    df_y_test_probaall_withdailyreturns[\"Einsatz\"].sum() / len(df_y_test_probaall)))\n",
    "            if thresholdcalc == 0.51:\n",
    "                profitpercent51.append(100*(int(total) / len(df_y_test_probaall)) / (\n",
    "                    df_y_test_probaall_withdailyreturns[\"Einsatz\"].sum() / len(df_y_test_probaall)))\n",
    "            if thresholdcalc == 0.52:\n",
    "                profitpercent52.append(100*(int(total) / len(df_y_test_probaall)) / (\n",
    "                    df_y_test_probaall_withdailyreturns[\"Einsatz\"].sum() / len(df_y_test_probaall)))\n",
    "            if thresholdcalc == 0.53:\n",
    "                profitpercent53.append(100*(int(total) / len(df_y_test_probaall)) / (\n",
    "                    df_y_test_probaall_withdailyreturns[\"Einsatz\"].sum() / len(df_y_test_probaall)))\n",
    "\n",
    "            print(\"einsatz * 1+profit% ^ # wetten {:.2f}\".format(einsatz*(1+(int(total) / len(df_y_test_probaall)) / (\n",
    "                df_y_test_probaall_withdailyreturns[\"Einsatz\"].sum() / len(df_y_test_probaall))) ** len(df_y_test_probaall)))\n",
    "            if thresholdcalc == 0.5:\n",
    "                zinseszins.append(einsatz*(1+(int(total) / len(df_y_test_probaall)) / (\n",
    "                    df_y_test_probaall_withdailyreturns[\"Einsatz\"].sum() / len(df_y_test_probaall))) ** len(df_y_test_probaall))\n",
    "\n",
    "                current_zinseszins.append(einsatz*(1+(int(currentpreds_total) / len(currentpreds_all)) / (\n",
    "                    currentpreds_all[\"Einsatz\"].sum() / len(currentpreds_all))) ** len(currentpreds_all))\n",
    "\n",
    "            print()\n",
    "            print()\n",
    "\n",
    "            # Store All Calculated Values For Every Variable of Every Run\n",
    "            # Specified Period\n",
    "            # Threshold = 0.5\n",
    "            if thresholdcalc == 0.5:\n",
    "                spec_list_05_total.append(currentpreds_total)\n",
    "                spec_list_05_profit.append(currentpreds_winning_total)\n",
    "                spec_list_05_loss.append(currentpreds_loosing_total)\n",
    "                spec_list_05_trans.append(currentpreds_transaction_costs)\n",
    "                spec_list_05_acc.append(current_acc_calc)\n",
    "                spec_list_05_preds_corr.append((len(df_y_test_probaall_withdailyreturns[\"Daily Return in USD\"][(\n",
    "                    df_y_test_probaall_withdailyreturns.index >= spec_start_date) & (df_y_test_probaall_withdailyreturns['Class'] == df_y_test_probaall_withdailyreturns['y_pred'])])))\n",
    "                spec_list_05_preds.append(currentpreds_all_count)\n",
    "                # Entire Period:\n",
    "                list_05_total.append(total)\n",
    "                list_05_profit.append(profit)\n",
    "                list_05_loss.append(loss)\n",
    "                list_05_trans.append(transaction_costs)\n",
    "                list_05_acc.append(acc_calc)\n",
    "                list_05_preds_corr.append(len(\n",
    "                    df_y_test_probaall[df_y_test_probaall['Class'] == df_y_test_probaall['y_pred']]))\n",
    "                list_05_preds.append(len(df_y_test_probaall))\n",
    "\n",
    "            # Threshold = 0.6\n",
    "            if thresholdcalc == 0.51:\n",
    "                spec_list_06_total.append(currentpreds_total)\n",
    "                spec_list_06_profit.append(currentpreds_winning_total)\n",
    "                spec_list_06_loss.append(currentpreds_loosing_total)\n",
    "                spec_list_06_trans.append(currentpreds_transaction_costs)\n",
    "                spec_list_06_acc.append(current_acc_calc)\n",
    "                spec_list_06_preds_corr.append((len(df_y_test_probaall_withdailyreturns[\"Daily Return in USD\"][(\n",
    "                    df_y_test_probaall_withdailyreturns.index >= spec_start_date) & (df_y_test_probaall_withdailyreturns['Class'] == df_y_test_probaall_withdailyreturns['y_pred'])])))\n",
    "                spec_list_06_preds.append(currentpreds_all_count)\n",
    "                # Entire Period:\n",
    "                list_06_total.append(total)\n",
    "                list_06_profit.append(profit)\n",
    "                list_06_loss.append(loss)\n",
    "                list_06_trans.append(transaction_costs)\n",
    "                list_06_acc.append(acc_calc)\n",
    "                list_06_preds_corr.append(len(\n",
    "                    df_y_test_probaall[df_y_test_probaall['Class'] == df_y_test_probaall['y_pred']]))\n",
    "                list_06_preds.append(len(df_y_test_probaall))\n",
    "\n",
    "                zinseszins51.append(einsatz*(1+(int(total) / len(df_y_test_probaall)) / (\n",
    "                    df_y_test_probaall_withdailyreturns[\"Einsatz\"].sum() / len(df_y_test_probaall))) ** len(df_y_test_probaall))\n",
    "\n",
    "                current_zinseszins51.append(einsatz*(1+(int(currentpreds_total) / len(currentpreds_all)) / (\n",
    "                    currentpreds_all[\"Einsatz\"].sum() / len(currentpreds_all))) ** len(currentpreds_all))\n",
    "\n",
    "            # Threshold = 0.7\n",
    "            if thresholdcalc == 0.52:\n",
    "                spec_list_07_total.append(currentpreds_total)\n",
    "                spec_list_07_profit.append(currentpreds_winning_total)\n",
    "                spec_list_07_loss.append(currentpreds_loosing_total)\n",
    "                spec_list_07_trans.append(currentpreds_transaction_costs)\n",
    "                spec_list_07_acc.append(current_acc_calc)\n",
    "                spec_list_07_preds_corr.append((len(df_y_test_probaall_withdailyreturns[\"Daily Return in USD\"][(\n",
    "                    df_y_test_probaall_withdailyreturns.index >= spec_start_date) & (df_y_test_probaall_withdailyreturns['Class'] == df_y_test_probaall_withdailyreturns['y_pred'])])))\n",
    "                spec_list_07_preds.append(currentpreds_all_count)\n",
    "                # Entire Period:\n",
    "                list_07_total.append(total)\n",
    "                list_07_profit.append(profit)\n",
    "                list_07_loss.append(loss)\n",
    "                list_07_trans.append(transaction_costs)\n",
    "                list_07_acc.append(acc_calc)\n",
    "                list_07_preds_corr.append(len(\n",
    "                    df_y_test_probaall[df_y_test_probaall['Class'] == df_y_test_probaall['y_pred']]))\n",
    "                list_07_preds.append(len(df_y_test_probaall))\n",
    "                zinseszins52.append(einsatz*(1+(int(total) / len(df_y_test_probaall)) / (\n",
    "                    df_y_test_probaall_withdailyreturns[\"Einsatz\"].sum() / len(df_y_test_probaall))) ** len(df_y_test_probaall))\n",
    "\n",
    "                current_zinseszins52.append(einsatz*(1+(int(currentpreds_total) / len(currentpreds_all)) / (\n",
    "                    currentpreds_all[\"Einsatz\"].sum() / len(currentpreds_all))) ** len(currentpreds_all))\n",
    "\n",
    "            # Threshold = 0.8\n",
    "            if thresholdcalc == 0.53:\n",
    "                spec_list_08_total.append(currentpreds_total)\n",
    "                spec_list_08_profit.append(currentpreds_winning_total)\n",
    "                spec_list_08_loss.append(currentpreds_loosing_total)\n",
    "                spec_list_08_trans.append(currentpreds_transaction_costs)\n",
    "                spec_list_08_acc.append(current_acc_calc)\n",
    "                spec_list_08_preds_corr.append((len(df_y_test_probaall_withdailyreturns[\"Daily Return in USD\"][(\n",
    "                    df_y_test_probaall_withdailyreturns.index >= spec_start_date) & (df_y_test_probaall_withdailyreturns['Class'] == df_y_test_probaall_withdailyreturns['y_pred'])])))\n",
    "                spec_list_08_preds.append(currentpreds_all_count)\n",
    "                # Entire Period:\n",
    "                list_08_total.append(total)\n",
    "                list_08_profit.append(profit)\n",
    "                list_08_loss.append(loss)\n",
    "                list_08_trans.append(transaction_costs)\n",
    "                list_08_acc.append(acc_calc)\n",
    "                list_08_preds_corr.append(len(\n",
    "                    df_y_test_probaall[df_y_test_probaall['Class'] == df_y_test_probaall['y_pred']]))\n",
    "                list_08_preds.append(len(df_y_test_probaall))\n",
    "                zinseszins53.append(einsatz*(1+(int(total) / len(df_y_test_probaall)) / (\n",
    "                    df_y_test_probaall_withdailyreturns[\"Einsatz\"].sum() / len(df_y_test_probaall))) ** len(df_y_test_probaall))\n",
    "\n",
    "                current_zinseszins53.append(einsatz*(1+(int(currentpreds_total) / len(currentpreds_all)) / (\n",
    "                    currentpreds_all[\"Einsatz\"].sum() / len(currentpreds_all))) ** len(currentpreds_all))\n",
    "\n",
    "    except:\n",
    "        print(\"error\")\n",
    "    print()\n",
    "    print()\n"
   ]
  },
  {
   "cell_type": "code",
   "execution_count": null,
   "metadata": {
    "ExecuteTime": {
     "end_time": "2021-01-05T23:13:03.272795Z",
     "start_time": "2021-01-05T23:12:18.483Z"
    },
    "scrolled": true
   },
   "outputs": [],
   "source": [
    "import statistics"
   ]
  },
  {
   "cell_type": "code",
   "execution_count": null,
   "metadata": {
    "ExecuteTime": {
     "end_time": "2021-01-05T23:13:03.273799Z",
     "start_time": "2021-01-05T23:12:18.490Z"
    }
   },
   "outputs": [],
   "source": [
    "print( statistics.median(prestakepercentlist) )\n",
    "print( statistics.median(profitpercent) )\n",
    "print( statistics.median(zinseszins) )\n",
    "print( statistics.median(current_profitpercent) )\n",
    "print( statistics.median(current_zinseszins) )"
   ]
  },
  {
   "cell_type": "code",
   "execution_count": null,
   "metadata": {
    "ExecuteTime": {
     "end_time": "2021-01-05T23:13:03.274789Z",
     "start_time": "2021-01-05T23:12:18.496Z"
    }
   },
   "outputs": [],
   "source": [
    "print( statistics.median(prestakepercentlist51) )\n",
    "print( statistics.median(profitpercent51) )\n",
    "print( statistics.median(zinseszins51) )\n",
    "print( statistics.median(current_profitpercent51) )\n",
    "print( statistics.median(current_zinseszins51) )"
   ]
  },
  {
   "cell_type": "code",
   "execution_count": null,
   "metadata": {
    "ExecuteTime": {
     "end_time": "2021-01-05T23:13:03.275787Z",
     "start_time": "2021-01-05T23:12:18.502Z"
    }
   },
   "outputs": [],
   "source": [
    "print( statistics.median(prestakepercentlist52) )\n",
    "print( statistics.median(profitpercent52) )\n",
    "print( statistics.median(zinseszins52) )\n",
    "print( statistics.median(current_profitpercent52) )\n",
    "print( statistics.median(current_zinseszins52) )"
   ]
  },
  {
   "cell_type": "code",
   "execution_count": null,
   "metadata": {
    "ExecuteTime": {
     "end_time": "2021-01-05T23:13:03.276787Z",
     "start_time": "2021-01-05T23:12:18.508Z"
    }
   },
   "outputs": [],
   "source": [
    "print( statistics.median(prestakepercentlist53) )\n",
    "print( statistics.median(profitpercent53) )\n",
    "print( statistics.median(zinseszins53) )\n",
    "print( statistics.median(current_profitpercent53) )\n",
    "print( statistics.median(current_zinseszins53) )"
   ]
  },
  {
   "cell_type": "code",
   "execution_count": null,
   "metadata": {
    "ExecuteTime": {
     "end_time": "2021-01-05T23:13:03.277782Z",
     "start_time": "2021-01-05T23:12:18.514Z"
    }
   },
   "outputs": [],
   "source": [
    "current_profitpercent"
   ]
  },
  {
   "cell_type": "code",
   "execution_count": null,
   "metadata": {
    "ExecuteTime": {
     "end_time": "2021-01-05T23:13:03.278789Z",
     "start_time": "2021-01-05T23:12:18.520Z"
    }
   },
   "outputs": [],
   "source": [
    "currentpreds_all[\"Daily Return in USD\"][(\n",
    "    currentpreds_all['Class'] == currentpreds_all['y_pred'])].sort_values()"
   ]
  },
  {
   "cell_type": "code",
   "execution_count": null,
   "metadata": {
    "ExecuteTime": {
     "end_time": "2021-01-05T23:13:03.279795Z",
     "start_time": "2021-01-05T23:12:18.526Z"
    },
    "scrolled": true
   },
   "outputs": [],
   "source": [
    "currentpreds_all[\"Daily Return in USD\"][(\n",
    "    currentpreds_all['Class'] != currentpreds_all['y_pred'])].sort_values()"
   ]
  },
  {
   "cell_type": "code",
   "execution_count": null,
   "metadata": {},
   "outputs": [],
   "source": []
  },
  {
   "cell_type": "markdown",
   "metadata": {},
   "source": [
    "# Deepdive in prediction"
   ]
  },
  {
   "cell_type": "code",
   "execution_count": null,
   "metadata": {
    "ExecuteTime": {
     "end_time": "2021-01-05T23:13:03.280795Z",
     "start_time": "2021-01-05T23:12:18.536Z"
    }
   },
   "outputs": [],
   "source": [
    "current_profitpercent"
   ]
  },
  {
   "cell_type": "code",
   "execution_count": null,
   "metadata": {
    "ExecuteTime": {
     "end_time": "2021-01-05T23:13:03.281794Z",
     "start_time": "2021-01-05T23:12:18.541Z"
    }
   },
   "outputs": [],
   "source": [
    "profitpercent"
   ]
  },
  {
   "cell_type": "code",
   "execution_count": null,
   "metadata": {
    "ExecuteTime": {
     "end_time": "2021-01-05T23:13:03.281794Z",
     "start_time": "2021-01-05T23:12:18.547Z"
    }
   },
   "outputs": [],
   "source": [
    "df_y_test_withdailyreturns.sort_values(\"Daily Return in USD\")"
   ]
  },
  {
   "cell_type": "code",
   "execution_count": null,
   "metadata": {
    "ExecuteTime": {
     "end_time": "2021-01-05T23:13:03.282795Z",
     "start_time": "2021-01-05T23:12:18.552Z"
    }
   },
   "outputs": [],
   "source": [
    "df_y_test_withdailyreturns[df_y_test_withdailyreturns[\"Class\"] != df_y_test_withdailyreturns[\"y_pred\"]].abs().sum()"
   ]
  },
  {
   "cell_type": "code",
   "execution_count": null,
   "metadata": {
    "ExecuteTime": {
     "end_time": "2021-01-05T23:13:03.283786Z",
     "start_time": "2021-01-05T23:12:18.557Z"
    }
   },
   "outputs": [],
   "source": [
    "df_y_test_withdailyreturns[df_y_test_withdailyreturns[\"Class\"] == df_y_test_withdailyreturns[\"y_pred\"]].abs().sum()"
   ]
  },
  {
   "cell_type": "code",
   "execution_count": null,
   "metadata": {
    "ExecuteTime": {
     "end_time": "2021-01-05T23:13:03.284783Z",
     "start_time": "2021-01-05T23:12:18.562Z"
    }
   },
   "outputs": [],
   "source": [
    "dfrights = df_y_test_withdailyreturns[df_y_test_withdailyreturns[\"Class\"] == df_y_test_withdailyreturns[\"y_pred\"]]\n",
    "dfwrongs = df_y_test_withdailyreturns[df_y_test_withdailyreturns[\"Class\"] != df_y_test_withdailyreturns[\"y_pred\"]]"
   ]
  },
  {
   "cell_type": "code",
   "execution_count": null,
   "metadata": {
    "ExecuteTime": {
     "end_time": "2021-01-05T23:13:03.285812Z",
     "start_time": "2021-01-05T23:12:18.568Z"
    }
   },
   "outputs": [],
   "source": [
    "df_y_test_withdailyreturns = df_y_test_withdailyreturns.sort_index()\n",
    "df_y_test_withdailyreturns[\"dfrights\"] = np.where(df_y_test_withdailyreturns[\"Class\"] == df_y_test_withdailyreturns[\"y_pred\"], 1.0, 0.0)\n",
    "df_y_test_withdailyreturns.head()"
   ]
  },
  {
   "cell_type": "code",
   "execution_count": null,
   "metadata": {
    "ExecuteTime": {
     "end_time": "2021-01-05T23:13:03.286813Z",
     "start_time": "2021-01-05T23:12:18.574Z"
    }
   },
   "outputs": [],
   "source": [
    "df_y_test_withdailyreturns['gain'] = np.where(df_y_test_withdailyreturns[\"dfrights\"]==1.0, df_y_test_withdailyreturns[\"percentage_daily_return\"].abs(), -1*df_y_test_withdailyreturns[\"percentage_daily_return\"].abs() )\n",
    "df_y_test_withdailyreturns['gain_cumsum'] = df_y_test_withdailyreturns['gain'].cumsum()\n",
    "df_y_test_withdailyreturns['gain_cumsum']"
   ]
  },
  {
   "cell_type": "code",
   "execution_count": null,
   "metadata": {
    "ExecuteTime": {
     "end_time": "2021-01-05T23:13:03.286813Z",
     "start_time": "2021-01-05T23:12:18.579Z"
    }
   },
   "outputs": [],
   "source": [
    "import plotly.express as px\n",
    "\n",
    "fig = px.line(df_y_test_withdailyreturns, y=df_y_test_withdailyreturns['gain_cumsum'], title='Algo gains over time')\n",
    "fig.show()"
   ]
  }
 ],
 "metadata": {
  "kernelspec": {
   "display_name": "Python 3",
   "language": "python",
   "name": "python3"
  },
  "language_info": {
   "codemirror_mode": {
    "name": "ipython",
    "version": 3
   },
   "file_extension": ".py",
   "mimetype": "text/x-python",
   "name": "python",
   "nbconvert_exporter": "python",
   "pygments_lexer": "ipython3",
   "version": "3.8.5"
  },
  "toc": {
   "base_numbering": 1,
   "nav_menu": {},
   "number_sections": true,
   "sideBar": true,
   "skip_h1_title": false,
   "title_cell": "Table of Contents",
   "title_sidebar": "Contents",
   "toc_cell": true,
   "toc_position": {},
   "toc_section_display": true,
   "toc_window_display": false
  },
  "toc-autonumbering": true,
  "toc-showtags": false,
  "varInspector": {
   "cols": {
    "lenName": 16,
    "lenType": 16,
    "lenVar": 40
   },
   "kernels_config": {
    "python": {
     "delete_cmd_postfix": "",
     "delete_cmd_prefix": "del ",
     "library": "var_list.py",
     "varRefreshCmd": "print(var_dic_list())"
    },
    "r": {
     "delete_cmd_postfix": ") ",
     "delete_cmd_prefix": "rm(",
     "library": "var_list.r",
     "varRefreshCmd": "cat(var_dic_list()) "
    }
   },
   "types_to_exclude": [
    "module",
    "function",
    "builtin_function_or_method",
    "instance",
    "_Feature"
   ],
   "window_display": false
  }
 },
 "nbformat": 4,
 "nbformat_minor": 4
}
