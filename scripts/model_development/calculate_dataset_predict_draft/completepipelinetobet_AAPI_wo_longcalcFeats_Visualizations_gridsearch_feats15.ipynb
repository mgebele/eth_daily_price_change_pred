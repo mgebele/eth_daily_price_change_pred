{
 "cells": [
  {
   "cell_type": "markdown",
   "metadata": {
    "toc": true
   },
   "source": [
    "<h1>Table of Contents<span class=\"tocSkip\"></span></h1>\n",
    "<div class=\"toc\"><ul class=\"toc-item\"><li><span><a href=\"#Data-Preprocessing\" data-toc-modified-id=\"Data-Preprocessing-1\"><span class=\"toc-item-num\">1&nbsp;&nbsp;</span>Data Preprocessing</a></span><ul class=\"toc-item\"><li><span><a href=\"#Data-Import-via-Application-Programming-Interfaces\" data-toc-modified-id=\"Data-Import-via-Application-Programming-Interfaces-1.1\"><span class=\"toc-item-num\">1.1&nbsp;&nbsp;</span>Data Import via Application Programming Interfaces</a></span><ul class=\"toc-item\"><li><span><a href=\"#Blockchain-Data-from-Glassnode\" data-toc-modified-id=\"Blockchain-Data-from-Glassnode-1.1.1\"><span class=\"toc-item-num\">1.1.1&nbsp;&nbsp;</span>Blockchain Data from Glassnode</a></span><ul class=\"toc-item\"><li><span><a href=\"#Market-Metrics-from-Glassnode\" data-toc-modified-id=\"Market-Metrics-from-Glassnode-1.1.1.1\"><span class=\"toc-item-num\">1.1.1.1&nbsp;&nbsp;</span>Market Metrics from Glassnode</a></span></li><li><span><a href=\"#Mining-Metrics-from-Glassnode\" data-toc-modified-id=\"Mining-Metrics-from-Glassnode-1.1.1.2\"><span class=\"toc-item-num\">1.1.1.2&nbsp;&nbsp;</span>Mining Metrics from Glassnode</a></span></li><li><span><a href=\"#Blocks-Metrics-from-Glassnode\" data-toc-modified-id=\"Blocks-Metrics-from-Glassnode-1.1.1.3\"><span class=\"toc-item-num\">1.1.1.3&nbsp;&nbsp;</span>Blocks Metrics from Glassnode</a></span></li><li><span><a href=\"#Distribution-Metrics-from-Glassnode\" data-toc-modified-id=\"Distribution-Metrics-from-Glassnode-1.1.1.4\"><span class=\"toc-item-num\">1.1.1.4&nbsp;&nbsp;</span>Distribution Metrics from Glassnode</a></span></li><li><span><a href=\"#Fee-Metrics-from-Glassnode\" data-toc-modified-id=\"Fee-Metrics-from-Glassnode-1.1.1.5\"><span class=\"toc-item-num\">1.1.1.5&nbsp;&nbsp;</span>Fee Metrics from Glassnode</a></span></li><li><span><a href=\"#UTXO-Metrics-from-Glassnode\" data-toc-modified-id=\"UTXO-Metrics-from-Glassnode-1.1.1.6\"><span class=\"toc-item-num\">1.1.1.6&nbsp;&nbsp;</span>UTXO Metrics from Glassnode</a></span></li><li><span><a href=\"#Supply-Metrics-from-Glassnode\" data-toc-modified-id=\"Supply-Metrics-from-Glassnode-1.1.1.7\"><span class=\"toc-item-num\">1.1.1.7&nbsp;&nbsp;</span>Supply Metrics from Glassnode</a></span></li><li><span><a href=\"#Transaction-Metrics-from-Glassnode\" data-toc-modified-id=\"Transaction-Metrics-from-Glassnode-1.1.1.8\"><span class=\"toc-item-num\">1.1.1.8&nbsp;&nbsp;</span>Transaction Metrics from Glassnode</a></span></li><li><span><a href=\"#Exchange-Metrics-from-Glassnode---1-Month-Lag\" data-toc-modified-id=\"Exchange-Metrics-from-Glassnode---1-Month-Lag-1.1.1.9\"><span class=\"toc-item-num\">1.1.1.9&nbsp;&nbsp;</span>Exchange Metrics from Glassnode - 1 Month Lag</a></span></li><li><span><a href=\"#Indicator-I-Metrics-from-Glassnode\" data-toc-modified-id=\"Indicator-I-Metrics-from-Glassnode-1.1.1.10\"><span class=\"toc-item-num\">1.1.1.10&nbsp;&nbsp;</span>Indicator-I Metrics from Glassnode</a></span></li><li><span><a href=\"#Indicator-2-Metrics-from-Glassnode\" data-toc-modified-id=\"Indicator-2-Metrics-from-Glassnode-1.1.1.11\"><span class=\"toc-item-num\">1.1.1.11&nbsp;&nbsp;</span>Indicator-2 Metrics from Glassnode</a></span></li><li><span><a href=\"#Indicator-3-Metrics-from-Glassnode\" data-toc-modified-id=\"Indicator-3-Metrics-from-Glassnode-1.1.1.12\"><span class=\"toc-item-num\">1.1.1.12&nbsp;&nbsp;</span>Indicator-3 Metrics from Glassnode</a></span></li><li><span><a href=\"#Addresses-Metrics-from-Glassnode\" data-toc-modified-id=\"Addresses-Metrics-from-Glassnode-1.1.1.13\"><span class=\"toc-item-num\">1.1.1.13&nbsp;&nbsp;</span>Addresses Metrics from Glassnode</a></span></li><li><span><a href=\"#Futures-Metrics-from-Glassnode---Excluded-as-Data-Available-Only-Since-Feb-2020\" data-toc-modified-id=\"Futures-Metrics-from-Glassnode---Excluded-as-Data-Available-Only-Since-Feb-2020-1.1.1.14\"><span class=\"toc-item-num\">1.1.1.14&nbsp;&nbsp;</span>Futures Metrics from Glassnode - Excluded as Data Available Only Since Feb 2020</a></span><ul class=\"toc-item\"><li><span><a href=\"#List-of-Futures-Features\" data-toc-modified-id=\"List-of-Futures-Features-1.1.1.14.1\"><span class=\"toc-item-num\">1.1.1.14.1&nbsp;&nbsp;</span>List of Futures Features</a></span></li><li><span><a href=\"#Data-Frame-of-Future-features\" data-toc-modified-id=\"Data-Frame-of-Future-features-1.1.1.14.2\"><span class=\"toc-item-num\">1.1.1.14.2&nbsp;&nbsp;</span>Data Frame of Future features</a></span></li></ul></li></ul></li></ul></li><li><span><a href=\"#File-Import-and-Data-Tidying\" data-toc-modified-id=\"File-Import-and-Data-Tidying-1.2\"><span class=\"toc-item-num\">1.2&nbsp;&nbsp;</span>File Import and Data Tidying</a></span><ul class=\"toc-item\"><li><span><a href=\"#Import-Blockchain-CSV-Files\" data-toc-modified-id=\"Import-Blockchain-CSV-Files-1.2.1\"><span class=\"toc-item-num\">1.2.1&nbsp;&nbsp;</span>Import Blockchain CSV-Files</a></span><ul class=\"toc-item\"><li><span><a href=\"#Market-Metric-CSV-Files\" data-toc-modified-id=\"Market-Metric-CSV-Files-1.2.1.1\"><span class=\"toc-item-num\">1.2.1.1&nbsp;&nbsp;</span>Market Metric CSV-Files</a></span></li><li><span><a href=\"#Mining-Metric-CSV-Files\" data-toc-modified-id=\"Mining-Metric-CSV-Files-1.2.1.2\"><span class=\"toc-item-num\">1.2.1.2&nbsp;&nbsp;</span>Mining Metric CSV-Files</a></span></li><li><span><a href=\"#Blocks-Metric-CSV-Files\" data-toc-modified-id=\"Blocks-Metric-CSV-Files-1.2.1.3\"><span class=\"toc-item-num\">1.2.1.3&nbsp;&nbsp;</span>Blocks Metric CSV-Files</a></span></li><li><span><a href=\"#Distribution-Metric-CSV-Files\" data-toc-modified-id=\"Distribution-Metric-CSV-Files-1.2.1.4\"><span class=\"toc-item-num\">1.2.1.4&nbsp;&nbsp;</span>Distribution Metric CSV-Files</a></span></li><li><span><a href=\"#Fee-Metric-CSV-Files\" data-toc-modified-id=\"Fee-Metric-CSV-Files-1.2.1.5\"><span class=\"toc-item-num\">1.2.1.5&nbsp;&nbsp;</span>Fee Metric CSV-Files</a></span></li><li><span><a href=\"#UTXO-Metric-CSV-Files\" data-toc-modified-id=\"UTXO-Metric-CSV-Files-1.2.1.6\"><span class=\"toc-item-num\">1.2.1.6&nbsp;&nbsp;</span>UTXO Metric CSV-Files</a></span></li><li><span><a href=\"#Supply-Metric-CSV-Files\" data-toc-modified-id=\"Supply-Metric-CSV-Files-1.2.1.7\"><span class=\"toc-item-num\">1.2.1.7&nbsp;&nbsp;</span>Supply Metric CSV-Files</a></span></li><li><span><a href=\"#Transaction-Metric-CSV-Files\" data-toc-modified-id=\"Transaction-Metric-CSV-Files-1.2.1.8\"><span class=\"toc-item-num\">1.2.1.8&nbsp;&nbsp;</span>Transaction Metric CSV-Files</a></span></li><li><span><a href=\"#Exchange-Metrics-CSV-Files\" data-toc-modified-id=\"Exchange-Metrics-CSV-Files-1.2.1.9\"><span class=\"toc-item-num\">1.2.1.9&nbsp;&nbsp;</span>Exchange Metrics CSV-Files</a></span></li><li><span><a href=\"#Indicator-1-Metric-CSV-Files\" data-toc-modified-id=\"Indicator-1-Metric-CSV-Files-1.2.1.10\"><span class=\"toc-item-num\">1.2.1.10&nbsp;&nbsp;</span>Indicator-1 Metric CSV-Files</a></span></li><li><span><a href=\"#Indicator-2-Metrics-CSV-Files\" data-toc-modified-id=\"Indicator-2-Metrics-CSV-Files-1.2.1.11\"><span class=\"toc-item-num\">1.2.1.11&nbsp;&nbsp;</span>Indicator-2 Metrics CSV-Files</a></span></li><li><span><a href=\"#Indicator-3-Metrics-CSV-Files\" data-toc-modified-id=\"Indicator-3-Metrics-CSV-Files-1.2.1.12\"><span class=\"toc-item-num\">1.2.1.12&nbsp;&nbsp;</span>Indicator-3 Metrics CSV-Files</a></span></li><li><span><a href=\"#Addresses-Metric-CSV-Files\" data-toc-modified-id=\"Addresses-Metric-CSV-Files-1.2.1.13\"><span class=\"toc-item-num\">1.2.1.13&nbsp;&nbsp;</span>Addresses Metric CSV-Files</a></span></li><li><span><a href=\"#Futures-Metrics-CSV-Files---Excluded-as-Data-Available-Only-Since-Feb-2020\" data-toc-modified-id=\"Futures-Metrics-CSV-Files---Excluded-as-Data-Available-Only-Since-Feb-2020-1.2.1.14\"><span class=\"toc-item-num\">1.2.1.14&nbsp;&nbsp;</span>Futures Metrics CSV-Files - Excluded as Data Available Only Since Feb 2020</a></span><ul class=\"toc-item\"><li><span><a href=\"#List-of-Future-Features\" data-toc-modified-id=\"List-of-Future-Features-1.2.1.14.1\"><span class=\"toc-item-num\">1.2.1.14.1&nbsp;&nbsp;</span>List of Future Features</a></span></li><li><span><a href=\"#Counter-to-Differentiate-between-Data-Frame-Setup-and-Data-Frame-Extension\" data-toc-modified-id=\"Counter-to-Differentiate-between-Data-Frame-Setup-and-Data-Frame-Extension-1.2.1.14.2\"><span class=\"toc-item-num\">1.2.1.14.2&nbsp;&nbsp;</span>Counter to Differentiate between Data Frame Setup and Data Frame Extension</a></span></li><li><span><a href=\"#For-Loop-through-all-Features-in-the-List\" data-toc-modified-id=\"For-Loop-through-all-Features-in-the-List-1.2.1.14.3\"><span class=\"toc-item-num\">1.2.1.14.3&nbsp;&nbsp;</span>For Loop through all Features in the List</a></span></li><li><span><a href=\"#Store-Data-Frame-Copy-in-Market-Data-Frame\" data-toc-modified-id=\"Store-Data-Frame-Copy-in-Market-Data-Frame-1.2.1.14.4\"><span class=\"toc-item-num\">1.2.1.14.4&nbsp;&nbsp;</span>Store Data Frame Copy in Market Data Frame</a></span></li><li><span><a href=\"#Delete-Original-Data-Frame\" data-toc-modified-id=\"Delete-Original-Data-Frame-1.2.1.14.5\"><span class=\"toc-item-num\">1.2.1.14.5&nbsp;&nbsp;</span>Delete Original Data Frame</a></span></li><li><span><a href=\"#Change-Data-Type-of-Columns-to-Float\" data-toc-modified-id=\"Change-Data-Type-of-Columns-to-Float-1.2.1.14.6\"><span class=\"toc-item-num\">1.2.1.14.6&nbsp;&nbsp;</span>Change Data Type of Columns to Float</a></span></li></ul></li></ul></li></ul></li><li><span><a href=\"#Target-Variables\" data-toc-modified-id=\"Target-Variables-1.3\"><span class=\"toc-item-num\">1.3&nbsp;&nbsp;</span>Target Variables</a></span></li><li><span><a href=\"#Feature-Engineering\" data-toc-modified-id=\"Feature-Engineering-1.4\"><span class=\"toc-item-num\">1.4&nbsp;&nbsp;</span>Feature Engineering</a></span><ul class=\"toc-item\"><li><span><a href=\"#Volatility\" data-toc-modified-id=\"Volatility-1.4.1\"><span class=\"toc-item-num\">1.4.1&nbsp;&nbsp;</span>Volatility</a></span></li><li><span><a href=\"#Log-Price\" data-toc-modified-id=\"Log-Price-1.4.2\"><span class=\"toc-item-num\">1.4.2&nbsp;&nbsp;</span>Log Price</a></span></li></ul></li></ul></li><li><span><a href=\"#Data-Sets\" data-toc-modified-id=\"Data-Sets-2\"><span class=\"toc-item-num\">2&nbsp;&nbsp;</span>Data Sets</a></span><ul class=\"toc-item\"><li><span><a href=\"#Data-Set-I.---Blockchain-Metrics-Only\" data-toc-modified-id=\"Data-Set-I.---Blockchain-Metrics-Only-2.1\"><span class=\"toc-item-num\">2.1&nbsp;&nbsp;</span>Data Set I. - Blockchain Metrics Only</a></span></li></ul></li><li><span><a href=\"#Classification-Models---Data-Set-Variations\" data-toc-modified-id=\"Classification-Models---Data-Set-Variations-3\"><span class=\"toc-item-num\">3&nbsp;&nbsp;</span>Classification Models - Data Set Variations</a></span></li><li><span><a href=\"#Import-Data-Sets\" data-toc-modified-id=\"Import-Data-Sets-4\"><span class=\"toc-item-num\">4&nbsp;&nbsp;</span>Import Data Sets</a></span><ul class=\"toc-item\"><li><span><a href=\"#Data-Set-I.\" data-toc-modified-id=\"Data-Set-I.-4.1\"><span class=\"toc-item-num\">4.1&nbsp;&nbsp;</span>Data Set I.</a></span></li><li><span><a href=\"#Prediction-Shift\" data-toc-modified-id=\"Prediction-Shift-4.2\"><span class=\"toc-item-num\">4.2&nbsp;&nbsp;</span>Prediction Shift</a></span><ul class=\"toc-item\"><li><span><a href=\"#Data-Set-I.\" data-toc-modified-id=\"Data-Set-I.-4.2.1\"><span class=\"toc-item-num\">4.2.1&nbsp;&nbsp;</span>Data Set I.</a></span></li></ul></li></ul></li><li><span><a href=\"#Classification-Setup\" data-toc-modified-id=\"Classification-Setup-5\"><span class=\"toc-item-num\">5&nbsp;&nbsp;</span>Classification Setup</a></span><ul class=\"toc-item\"><li><span><a href=\"#Create-Data-Set-Copies-for-Trading-Strategy\" data-toc-modified-id=\"Create-Data-Set-Copies-for-Trading-Strategy-5.1\"><span class=\"toc-item-num\">5.1&nbsp;&nbsp;</span>Create Data Set Copies for Trading Strategy</a></span></li><li><span><a href=\"#Categorization---Data-Set-I.\" data-toc-modified-id=\"Categorization---Data-Set-I.-5.2\"><span class=\"toc-item-num\">5.2&nbsp;&nbsp;</span>Categorization - Data Set I.</a></span></li></ul></li><li><span><a href=\"#Model-Preparation---Data-Set-I.\" data-toc-modified-id=\"Model-Preparation---Data-Set-I.-6\"><span class=\"toc-item-num\">6&nbsp;&nbsp;</span>Model Preparation - Data Set I.</a></span><ul class=\"toc-item\"><li><span><a href=\"#Train-Test-Split---Data-Set-I.\" data-toc-modified-id=\"Train-Test-Split---Data-Set-I.-6.1\"><span class=\"toc-item-num\">6.1&nbsp;&nbsp;</span>Train Test Split - Data Set I.</a></span><ul class=\"toc-item\"><li><span><a href=\"#Check-of-Class-Balance\" data-toc-modified-id=\"Check-of-Class-Balance-6.1.1\"><span class=\"toc-item-num\">6.1.1&nbsp;&nbsp;</span>Check of Class Balance</a></span></li></ul></li></ul></li><li><span><a href=\"#Feature-Selection-random-forest\" data-toc-modified-id=\"Feature-Selection-random-forest-7\"><span class=\"toc-item-num\">7&nbsp;&nbsp;</span>Feature Selection random forest</a></span></li><li><span><a href=\"#Visualize-pred-vs-reality\" data-toc-modified-id=\"Visualize-pred-vs-reality-8\"><span class=\"toc-item-num\">8&nbsp;&nbsp;</span>Visualize pred vs reality</a></span></li><li><span><a href=\"#Hyperparam-tuning-ranfo\" data-toc-modified-id=\"Hyperparam-tuning-ranfo-9\"><span class=\"toc-item-num\">9&nbsp;&nbsp;</span>Hyperparam tuning ranfo</a></span></li><li><span><a href=\"#Evaluate-Random-Search\" data-toc-modified-id=\"Evaluate-Random-Search-10\"><span class=\"toc-item-num\">10&nbsp;&nbsp;</span>Evaluate Random Search</a></span></li><li><span><a href=\"#Grid-Search-with-Cross-Validation\" data-toc-modified-id=\"Grid-Search-with-Cross-Validation-11\"><span class=\"toc-item-num\">11&nbsp;&nbsp;</span>Grid Search with Cross Validation</a></span></li><li><span><a href=\"#second-grid\" data-toc-modified-id=\"second-grid-12\"><span class=\"toc-item-num\">12&nbsp;&nbsp;</span>second grid</a></span></li><li><span><a href=\"#third-grid\" data-toc-modified-id=\"third-grid-13\"><span class=\"toc-item-num\">13&nbsp;&nbsp;</span>third grid</a></span></li><li><span><a href=\"#forth-grid\" data-toc-modified-id=\"forth-grid-14\"><span class=\"toc-item-num\">14&nbsp;&nbsp;</span>forth grid</a></span></li><li><span><a href=\"#XGBoost\" data-toc-modified-id=\"XGBoost-15\"><span class=\"toc-item-num\">15&nbsp;&nbsp;</span>XGBoost</a></span></li><li><span><a href=\"#random-grid-xgb---16-feats\" data-toc-modified-id=\"random-grid-xgb---16-feats-16\"><span class=\"toc-item-num\">16&nbsp;&nbsp;</span>random grid xgb - 16 feats</a></span></li><li><span><a href=\"#XGBoost-1\" data-toc-modified-id=\"XGBoost-1-17\"><span class=\"toc-item-num\">17&nbsp;&nbsp;</span>XGBoost 1</a></span></li><li><span><a href=\"#XGBoost-3-TORUN!\" data-toc-modified-id=\"XGBoost-3-TORUN!-18\"><span class=\"toc-item-num\">18&nbsp;&nbsp;</span>XGBoost 3 TORUN!</a></span><ul class=\"toc-item\"><li><span><a href=\"#Feature-Scaling---Data-Set-I.\" data-toc-modified-id=\"Feature-Scaling---Data-Set-I.-18.1\"><span class=\"toc-item-num\">18.1&nbsp;&nbsp;</span>Feature Scaling - Data Set I.</a></span></li></ul></li><li><span><a href=\"#Classification-Models---Data-Set-I.\" data-toc-modified-id=\"Classification-Models---Data-Set-I.-19\"><span class=\"toc-item-num\">19&nbsp;&nbsp;</span>Classification Models - Data Set I.</a></span><ul class=\"toc-item\"><li><span><a href=\"#Logistic-Regression---Data-Set-I.\" data-toc-modified-id=\"Logistic-Regression---Data-Set-I.-19.1\"><span class=\"toc-item-num\">19.1&nbsp;&nbsp;</span>Logistic Regression - Data Set I.</a></span></li><li><span><a href=\"#Random-Forest-Classifier---Data-Set-I.\" data-toc-modified-id=\"Random-Forest-Classifier---Data-Set-I.-19.2\"><span class=\"toc-item-num\">19.2&nbsp;&nbsp;</span>Random Forest Classifier - Data Set I.</a></span></li></ul></li><li><span><a href=\"#Trading-Strategy---Data-Set-I\" data-toc-modified-id=\"Trading-Strategy---Data-Set-I-20\"><span class=\"toc-item-num\">20&nbsp;&nbsp;</span>Trading Strategy - Data Set I</a></span><ul class=\"toc-item\"><li><span><a href=\"#Trading-Strategy-in-Combination-with-Logistic-Regression\" data-toc-modified-id=\"Trading-Strategy-in-Combination-with-Logistic-Regression-20.1\"><span class=\"toc-item-num\">20.1&nbsp;&nbsp;</span>Trading Strategy in Combination with Logistic Regression</a></span></li></ul></li><li><span><a href=\"#Deepdive-in-prediction\" data-toc-modified-id=\"Deepdive-in-prediction-21\"><span class=\"toc-item-num\">21&nbsp;&nbsp;</span>Deepdive in prediction</a></span></li></ul></div>"
   ]
  },
  {
   "cell_type": "markdown",
   "metadata": {},
   "source": [
    "# Data Preprocessing"
   ]
  },
  {
   "cell_type": "markdown",
   "metadata": {},
   "source": [
    "## Data Import via Application Programming Interfaces"
   ]
  },
  {
   "cell_type": "code",
   "execution_count": 1,
   "metadata": {
    "ExecuteTime": {
     "end_time": "2020-11-23T00:15:16.597024Z",
     "start_time": "2020-11-23T00:15:15.559633Z"
    },
    "scrolled": true
   },
   "outputs": [],
   "source": [
    "# Import of Modules and Packages\n",
    "import os\n",
    "import requests\n",
    "import json\n",
    "import datetime\n",
    "import yfinance as yf\n",
    "import time\n",
    "\n",
    "import numpy as np\n",
    "import pandas as pd\n",
    "import matplotlib.pyplot as plt\n",
    "\n",
    "from pytrends.request import TrendReq\n",
    "from pytrends import dailydata"
   ]
  },
  {
   "cell_type": "code",
   "execution_count": 2,
   "metadata": {
    "ExecuteTime": {
     "end_time": "2020-11-23T00:15:16.602999Z",
     "start_time": "2020-11-23T00:15:16.598958Z"
    }
   },
   "outputs": [],
   "source": [
    "# Adjustment of Decimal Places\n",
    "pd.options.display.float_format = '{:.2f}'.format"
   ]
  },
  {
   "cell_type": "code",
   "execution_count": 3,
   "metadata": {
    "ExecuteTime": {
     "end_time": "2020-11-23T00:15:16.608957Z",
     "start_time": "2020-11-23T00:15:16.604971Z"
    }
   },
   "outputs": [],
   "source": [
    "# Glassnode API Key\n",
    "API_Key = ''"
   ]
  },
  {
   "cell_type": "code",
   "execution_count": 4,
   "metadata": {},
   "outputs": [
    {
     "ename": "FileNotFoundError",
     "evalue": "[WinError 3] Das System kann den angegebenen Pfad nicht finden: '\\\\github_repo\\\\JupyterLabDir\\\\Rest\\\\MA BTC\\\\Markus_Code_MA_final\\\\20201010\\\\Glassnode'",
     "output_type": "error",
     "traceback": [
      "\u001b[1;31m---------------------------------------------------------------------------\u001b[0m",
      "\u001b[1;31mFileNotFoundError\u001b[0m                         Traceback (most recent call last)",
      "\u001b[1;32m<ipython-input-4-a6e849b38970>\u001b[0m in \u001b[0;36m<module>\u001b[1;34m\u001b[0m\n\u001b[1;32m----> 1\u001b[1;33m \u001b[0mos\u001b[0m\u001b[1;33m.\u001b[0m\u001b[0mchdir\u001b[0m\u001b[1;33m(\u001b[0m\u001b[1;34m'\\\\github_repo\\\\JupyterLabDir\\\\Rest\\\\MA BTC\\\\Markus_Code_MA_final\\\\20201010\\\\Glassnode'\u001b[0m\u001b[1;33m)\u001b[0m\u001b[1;33m\u001b[0m\u001b[1;33m\u001b[0m\u001b[0m\n\u001b[0m",
      "\u001b[1;31mFileNotFoundError\u001b[0m: [WinError 3] Das System kann den angegebenen Pfad nicht finden: '\\\\github_repo\\\\JupyterLabDir\\\\Rest\\\\MA BTC\\\\Markus_Code_MA_final\\\\20201010\\\\Glassnode'"
     ]
    }
   ],
   "source": [
    "#os.chdir('\\\\github_repo\\\\JupyterLabDir\\\\Rest\\\\MA BTC\\\\Markus_Code_MA_final\\\\20201010\\\\Glassnode')"
   ]
  },
  {
   "cell_type": "code",
   "execution_count": 9,
   "metadata": {
    "ExecuteTime": {
     "end_time": "2020-11-23T00:15:16.618461Z",
     "start_time": "2020-11-23T00:15:16.610974Z"
    }
   },
   "outputs": [
    {
     "data": {
      "text/plain": [
       "'C:\\\\Users\\\\markus.gebele\\\\github_repo\\\\JupyterLabDir\\\\Rest\\\\MA BTC\\\\Markus_Code_MA_final\\\\20201010'"
      ]
     },
     "execution_count": 9,
     "metadata": {},
     "output_type": "execute_result"
    }
   ],
   "source": [
    "os.getcwd()"
   ]
  },
  {
   "cell_type": "code",
   "execution_count": 10,
   "metadata": {
    "ExecuteTime": {
     "end_time": "2020-11-23T00:15:16.873781Z",
     "start_time": "2020-11-23T00:15:16.623418Z"
    }
   },
   "outputs": [],
   "source": [
    "#os.chdir('C:\\\\Users\\\\markus.gebele\\\\github_repo\\\\JupyterLabDir\\\\Rest\\\\MA BTC\\\\Markus_Code_MA_final\\\\20201010\\\\Glassnode')"
   ]
  },
  {
   "cell_type": "markdown",
   "metadata": {},
   "source": [
    "### Blockchain Data from Glassnode"
   ]
  },
  {
   "cell_type": "code",
   "execution_count": 11,
   "metadata": {
    "ExecuteTime": {
     "end_time": "2020-11-23T00:15:16.880770Z",
     "start_time": "2020-11-23T00:15:15.570Z"
    }
   },
   "outputs": [],
   "source": [
    "# Import Function for a Single Feature Variable from Glassnode\n",
    "def import_glassnode (url, feature_name):\n",
    "    data = requests.get(url).json()\n",
    "    df = pd.json_normalize(data)\n",
    "    \n",
    "    # Rename columns\n",
    "    df.columns = ['Date', feature_name]\n",
    "   \n",
    "    # Convert Object to Datetime Object\n",
    "    df.Date = pd.to_datetime(df.Date, unit='s')\n",
    "    df.Date = df.Date.map(lambda x: x.strftime('%Y-%m-%d'))\n",
    "    \n",
    "    # Set Date Column as Index\n",
    "    df.set_index('Date', inplace=True)\n",
    "    \n",
    "    # Drop Missing Values\n",
    "    df = df.dropna()\n",
    "    \n",
    "    # Change Data Type to Float\n",
    "    df = df.astype(float)\n",
    "    \n",
    "    # Creation of CSV-File, Part of Feature Name as CSV File Name \n",
    "    df.to_csv(\"{}.csv\".format(feature_name.rsplit('/')[-1]), decimal=',')\n",
    "    \n",
    "    # Plot of DataFrame\n",
    "    #df.plot(figsize=(4.5, 1.75))\n",
    "    #plt.xticks(rotation=45)\n",
    "    return df"
   ]
  },
  {
   "cell_type": "code",
   "execution_count": 12,
   "metadata": {
    "ExecuteTime": {
     "end_time": "2020-11-23T00:15:16.881727Z",
     "start_time": "2020-11-23T00:15:15.576Z"
    }
   },
   "outputs": [],
   "source": [
    "# Import Function for Several Feature Variables from Glassnode\n",
    "def import_glassnode_many(feature_list):\n",
    "    # Counter to Differentiate between Data Frame Setup and Data Frame Join\n",
    "    counter=0\n",
    "    \n",
    "    # For Loop through all Features in the List\n",
    "    for feature in feature_list:\n",
    "        \n",
    "        # URL\n",
    "        url = 'https://api.glassnode.com/v1/metrics/{}?a=btc&f=json&api_key={}'.format(feature, API_Key)\n",
    "        \n",
    "        # Execute Import Function for a Single Feature Variable\n",
    "        df=import_glassnode(url, feature)\n",
    "        \n",
    "        # Display Data Frame Tail\n",
    "        print(df.tail())\n",
    "        \n",
    "        # Condition - Data Frame Set up or Data Frame Join\n",
    "        if counter > 0:\n",
    "            \n",
    "            # Data Frame Join\n",
    "            df_new = df_new.join(df, how='inner')   \n",
    "        \n",
    "        else:\n",
    "            \n",
    "            # Data Frame Setup\n",
    "            df_new = df\n",
    "        \n",
    "        # Increase Counter\n",
    "        counter +=1\n",
    "    \n",
    "    return df_new"
   ]
  },
  {
   "cell_type": "markdown",
   "metadata": {},
   "source": [
    "#### Market Metrics from Glassnode"
   ]
  },
  {
   "cell_type": "code",
   "execution_count": 13,
   "metadata": {
    "ExecuteTime": {
     "end_time": "2020-11-23T00:15:16.882719Z",
     "start_time": "2020-11-23T00:15:15.583Z"
    }
   },
   "outputs": [],
   "source": [
    "# List of Market Features\n",
    "market_feature_list = ['market/price_usd_close', 'market/price_drawdown_relative', 'market/price_realized_usd', 'market/mvrv']"
   ]
  },
  {
   "cell_type": "code",
   "execution_count": 14,
   "metadata": {
    "ExecuteTime": {
     "end_time": "2020-11-23T00:15:16.884746Z",
     "start_time": "2020-11-23T00:15:15.589Z"
    }
   },
   "outputs": [
    {
     "name": "stdout",
     "output_type": "stream",
     "text": [
      "            market/price_usd_close\n",
      "Date                              \n",
      "2020-11-28                17714.06\n",
      "2020-11-29                18147.64\n",
      "2020-11-30                19689.81\n",
      "2020-12-01                18863.78\n",
      "2020-12-02                18917.65\n",
      "            market/price_drawdown_relative\n",
      "Date                                      \n",
      "2020-11-27                           -0.14\n",
      "2020-11-28                           -0.11\n",
      "2020-11-29                           -0.08\n",
      "2020-11-30                           -0.01\n",
      "2020-12-01                           -0.05\n",
      "            market/price_realized_usd\n",
      "Date                                 \n",
      "2020-11-27                    7324.71\n",
      "2020-11-28                    7331.63\n",
      "2020-11-29                    7344.01\n",
      "2020-11-30                    7383.43\n",
      "2020-12-01                    7433.57\n",
      "            market/mvrv\n",
      "Date                   \n",
      "2020-11-27         2.32\n",
      "2020-11-28         2.36\n",
      "2020-11-29         2.45\n",
      "2020-11-30         2.56\n",
      "2020-12-01         2.59\n"
     ]
    }
   ],
   "source": [
    "try: \n",
    "    # Data Frame of Market Features\n",
    "    df_market = import_glassnode_many(market_feature_list)\n",
    "except:\n",
    "    time.sleep(60)\n",
    "    df_market = import_glassnode_many(market_feature_list)"
   ]
  },
  {
   "cell_type": "markdown",
   "metadata": {},
   "source": [
    "#### Mining Metrics from Glassnode"
   ]
  },
  {
   "cell_type": "code",
   "execution_count": 15,
   "metadata": {
    "ExecuteTime": {
     "end_time": "2020-11-23T00:15:16.885715Z",
     "start_time": "2020-11-23T00:15:15.599Z"
    }
   },
   "outputs": [],
   "source": [
    "# List of Mining Features    #'mining/revenue_sum',\n",
    "mining_feature_list = ['mining/difficulty_latest', 'mining/hash_rate_mean', 'mining/marketcap_thermocap_ratio']"
   ]
  },
  {
   "cell_type": "code",
   "execution_count": 16,
   "metadata": {
    "ExecuteTime": {
     "end_time": "2020-11-23T00:15:16.886712Z",
     "start_time": "2020-11-23T00:15:15.604Z"
    }
   },
   "outputs": [
    {
     "name": "stdout",
     "output_type": "stream",
     "text": [
      "             mining/difficulty_latest\n",
      "Date                                 \n",
      "2020-11-27 75577685065077505392640.00\n",
      "2020-11-28 75577685065077505392640.00\n",
      "2020-11-29 82279353027041903509504.00\n",
      "2020-11-30 82279353027041903509504.00\n",
      "2020-12-01 82279353027041903509504.00\n",
      "              mining/hash_rate_mean\n",
      "Date                               \n",
      "2020-11-27 134789789111882006528.00\n",
      "2020-11-28 133670565738951000064.00\n",
      "2020-11-29 135712889718699999232.00\n",
      "2020-11-30 107377083337826992128.00\n",
      "2020-12-01 146392546734912995328.00\n",
      "            mining/marketcap_thermocap_ratio\n",
      "Date                                        \n",
      "2020-11-27                              0.00\n",
      "2020-11-28                              0.00\n",
      "2020-11-29                              0.00\n",
      "2020-11-30                              0.00\n",
      "2020-12-01                              0.00\n"
     ]
    }
   ],
   "source": [
    "# Data Frame of Mining Features\n",
    "df_mining = import_glassnode_many(mining_feature_list)"
   ]
  },
  {
   "cell_type": "markdown",
   "metadata": {},
   "source": [
    "#### Blocks Metrics from Glassnode"
   ]
  },
  {
   "cell_type": "code",
   "execution_count": 17,
   "metadata": {
    "ExecuteTime": {
     "end_time": "2020-11-23T00:15:16.888754Z",
     "start_time": "2020-11-23T00:15:15.611Z"
    }
   },
   "outputs": [],
   "source": [
    "# List of Blockchain Features\n",
    "blockchain_feature_list = ['blockchain/block_count', 'blockchain/block_interval_mean', 'blockchain/block_size_sum']"
   ]
  },
  {
   "cell_type": "code",
   "execution_count": 18,
   "metadata": {
    "ExecuteTime": {
     "end_time": "2020-11-23T00:15:16.889715Z",
     "start_time": "2020-11-23T00:15:15.617Z"
    }
   },
   "outputs": [
    {
     "name": "stdout",
     "output_type": "stream",
     "text": [
      "            blockchain/block_count\n",
      "Date                              \n",
      "2020-11-27                  154.00\n",
      "2020-11-28                  154.00\n",
      "2020-11-29                  150.00\n",
      "2020-11-30                  113.00\n",
      "2020-12-01                  152.00\n",
      "            blockchain/block_interval_mean\n",
      "Date                                      \n",
      "2020-11-27                          560.71\n",
      "2020-11-28                          565.40\n",
      "2020-11-29                          576.96\n",
      "2020-11-30                          766.27\n",
      "2020-12-01                          562.05\n",
      "            blockchain/block_size_sum\n",
      "Date                                 \n",
      "2020-11-27               197914555.00\n",
      "2020-11-28               203325984.00\n",
      "2020-11-29               165724061.00\n",
      "2020-11-30               148990700.00\n",
      "2020-12-01               194130643.00\n"
     ]
    }
   ],
   "source": [
    "# Data Frame of Blockchain Features\n",
    "df_blockchainfeatures = import_glassnode_many(blockchain_feature_list)"
   ]
  },
  {
   "cell_type": "markdown",
   "metadata": {},
   "source": [
    "#### Distribution Metrics from Glassnode "
   ]
  },
  {
   "cell_type": "code",
   "execution_count": 19,
   "metadata": {
    "ExecuteTime": {
     "end_time": "2020-11-23T00:15:16.890728Z",
     "start_time": "2020-11-23T00:15:15.625Z"
    }
   },
   "outputs": [],
   "source": [
    "# List of Distribution Features\n",
    "#distribution_feature_list = ['distribution/balance_1pct_holders', 'distribution/gini', 'distribution/herfindahl'] #"
   ]
  },
  {
   "cell_type": "code",
   "execution_count": 20,
   "metadata": {
    "ExecuteTime": {
     "end_time": "2020-11-23T00:15:16.891717Z",
     "start_time": "2020-11-23T00:15:15.631Z"
    }
   },
   "outputs": [],
   "source": [
    "# Data Frame of Distribution Features\n",
    "#df_distribution = import_glassnode_many(distribution_feature_list)"
   ]
  },
  {
   "cell_type": "markdown",
   "metadata": {},
   "source": [
    "#### Fee Metrics from Glassnode "
   ]
  },
  {
   "cell_type": "code",
   "execution_count": 21,
   "metadata": {
    "ExecuteTime": {
     "end_time": "2020-11-23T00:15:16.892716Z",
     "start_time": "2020-11-23T00:15:15.638Z"
    }
   },
   "outputs": [],
   "source": [
    "# List of Fee Features\n",
    "fees_feature_list = ['fees/volume_sum', 'fees/volume_mean', 'fees/fee_ratio_multiple']"
   ]
  },
  {
   "cell_type": "code",
   "execution_count": 22,
   "metadata": {
    "ExecuteTime": {
     "end_time": "2020-11-23T00:15:16.894717Z",
     "start_time": "2020-11-23T00:15:15.644Z"
    }
   },
   "outputs": [
    {
     "name": "stdout",
     "output_type": "stream",
     "text": [
      "            fees/volume_sum\n",
      "Date                       \n",
      "2020-11-27            84.21\n",
      "2020-11-28            56.82\n",
      "2020-11-29            39.87\n",
      "2020-11-30            72.32\n",
      "2020-12-01           145.31\n",
      "            fees/volume_mean\n",
      "Date                        \n",
      "2020-11-27              0.00\n",
      "2020-11-28              0.00\n",
      "2020-11-29              0.00\n",
      "2020-11-30              0.00\n",
      "2020-12-01              0.00\n",
      "            fees/fee_ratio_multiple\n",
      "Date                               \n",
      "2020-11-27                    12.43\n",
      "2020-11-28                    17.94\n",
      "2020-11-29                    24.52\n",
      "2020-11-30                    10.77\n",
      "2020-12-01                     7.54\n"
     ]
    }
   ],
   "source": [
    "# Data Frame of Fee Features\n",
    "df_fees = import_glassnode_many(fees_feature_list)"
   ]
  },
  {
   "cell_type": "markdown",
   "metadata": {},
   "source": [
    "#### UTXO Metrics from Glassnode"
   ]
  },
  {
   "cell_type": "code",
   "execution_count": 23,
   "metadata": {
    "ExecuteTime": {
     "end_time": "2020-11-23T00:15:16.895713Z",
     "start_time": "2020-11-23T00:15:15.651Z"
    }
   },
   "outputs": [],
   "source": [
    "# List of UTXO Features\n",
    "utxo_feature_list = ['blockchain/utxo_created_count', 'blockchain/utxo_spent_count', 'blockchain/utxo_created_value_sum', 'blockchain/utxo_spent_value_sum', 'blockchain/utxo_profit_relative', 'blockchain/utxo_profit_count', 'blockchain/utxo_loss_count']"
   ]
  },
  {
   "cell_type": "code",
   "execution_count": 24,
   "metadata": {
    "ExecuteTime": {
     "end_time": "2020-11-23T00:15:16.896746Z",
     "start_time": "2020-11-23T00:15:15.657Z"
    }
   },
   "outputs": [
    {
     "name": "stdout",
     "output_type": "stream",
     "text": [
      "            blockchain/utxo_created_count\n",
      "Date                                     \n",
      "2020-11-27                      919277.00\n",
      "2020-11-28                      823749.00\n",
      "2020-11-29                      747296.00\n",
      "2020-11-30                      772603.00\n",
      "2020-12-01                     1056559.00\n",
      "            blockchain/utxo_spent_count\n",
      "Date                                   \n",
      "2020-11-27                    956335.00\n",
      "2020-11-28                    955855.00\n",
      "2020-11-29                    769819.00\n",
      "2020-11-30                    696986.00\n",
      "2020-12-01                    905405.00\n",
      "            blockchain/utxo_created_value_sum\n",
      "Date                                         \n",
      "2020-11-27                         1857757.44\n",
      "2020-11-28                         1297738.60\n",
      "2020-11-29                         1275997.46\n",
      "2020-11-30                         2254249.72\n",
      "2020-12-01                         2099814.43\n",
      "            blockchain/utxo_spent_value_sum\n",
      "Date                                       \n",
      "2020-11-27                       1856794.94\n",
      "2020-11-28                       1296776.10\n",
      "2020-11-29                       1275059.96\n",
      "2020-11-30                       2253543.47\n",
      "2020-12-01                       2098864.43\n",
      "            blockchain/utxo_profit_relative\n",
      "Date                                       \n",
      "2020-11-27                             0.98\n",
      "2020-11-28                             0.98\n",
      "2020-11-29                             0.99\n",
      "2020-11-30                             1.00\n",
      "2020-12-01                             0.99\n",
      "            blockchain/utxo_profit_count\n",
      "Date                                    \n",
      "2020-11-27                  112351600.00\n",
      "2020-11-28                  112838038.00\n",
      "2020-11-29                  113368033.00\n",
      "2020-11-30                  114997966.00\n",
      "2020-12-01                  114051582.00\n",
      "            blockchain/utxo_loss_count\n",
      "Date                                  \n",
      "2020-11-27                  2758813.00\n",
      "2020-11-28                  2140269.00\n",
      "2020-11-29                  1585703.00\n",
      "2020-11-30                    10627.00\n",
      "2020-12-01                  1130973.00\n"
     ]
    }
   ],
   "source": [
    "# Data Frame of UTXO Features\n",
    "df_utxo = import_glassnode_many(utxo_feature_list)"
   ]
  },
  {
   "cell_type": "code",
   "execution_count": null,
   "metadata": {},
   "outputs": [],
   "source": []
  },
  {
   "cell_type": "markdown",
   "metadata": {},
   "source": [
    "#### Supply Metrics from Glassnode"
   ]
  },
  {
   "cell_type": "code",
   "execution_count": 25,
   "metadata": {
    "ExecuteTime": {
     "end_time": "2020-11-23T00:15:16.898726Z",
     "start_time": "2020-11-23T00:15:15.668Z"
    }
   },
   "outputs": [],
   "source": [
    "# List of Supply Features\n",
    "supply_feature_list = ['supply/current','supply/profit_relative', 'supply/profit_sum', 'supply/loss_sum', 'supply/active_more_1y_percent', 'supply/active_more_2y_percent', 'supply/active_more_3y_percent', 'supply/active_more_5y_percent', 'supply/active_24h', 'supply/active_1d_1w', 'supply/active_1w_1m', 'supply/active_1m_3m', 'supply/active_3m_6m', 'supply/active_6m_12m', 'supply/active_1y_2y', 'supply/active_2y_3y', 'supply/active_3y_5y', 'supply/active_5y_7y', 'supply/active_7y_10y', 'supply/active_more_10y', 'supply/issued', 'supply/inflation_rate']"
   ]
  },
  {
   "cell_type": "code",
   "execution_count": 26,
   "metadata": {
    "ExecuteTime": {
     "end_time": "2020-11-23T00:15:16.899729Z",
     "start_time": "2020-11-23T00:15:15.674Z"
    }
   },
   "outputs": [
    {
     "name": "stdout",
     "output_type": "stream",
     "text": [
      "            supply/current\n",
      "Date                      \n",
      "2020-11-27     18556137.50\n",
      "2020-11-28     18557100.00\n",
      "2020-11-29     18558037.50\n",
      "2020-11-30     18558743.75\n",
      "2020-12-01     18559693.75\n",
      "            supply/profit_relative\n",
      "Date                              \n",
      "2020-11-27                    0.94\n",
      "2020-11-28                    0.95\n",
      "2020-11-29                    0.96\n",
      "2020-11-30                    1.00\n",
      "2020-12-01                    0.97\n",
      "            supply/profit_sum\n",
      "Date                         \n",
      "2020-11-27        17381451.07\n",
      "2020-11-28        17622583.20\n",
      "2020-11-29        17882503.89\n",
      "2020-11-30        18508745.21\n",
      "2020-12-01        17976928.39\n",
      "            supply/loss_sum\n",
      "Date                       \n",
      "2020-11-27       1161716.03\n",
      "2020-11-28        921546.39\n",
      "2020-11-29        660647.67\n",
      "2020-11-30          5332.87\n",
      "2020-12-01        569794.96\n",
      "            supply/active_more_1y_percent\n",
      "Date                                     \n",
      "2020-11-27                           0.61\n",
      "2020-11-28                           0.61\n",
      "2020-11-29                           0.61\n",
      "2020-11-30                           0.61\n",
      "2020-12-01                           0.61\n",
      "            supply/active_more_2y_percent\n",
      "Date                                     \n",
      "2020-11-27                           0.44\n",
      "2020-11-28                           0.44\n",
      "2020-11-29                           0.44\n",
      "2020-11-30                           0.44\n",
      "2020-12-01                           0.44\n",
      "            supply/active_more_3y_percent\n",
      "Date                                     \n",
      "2020-11-27                           0.33\n",
      "2020-11-28                           0.33\n",
      "2020-11-29                           0.33\n",
      "2020-11-30                           0.33\n",
      "2020-12-01                           0.33\n",
      "            supply/active_more_5y_percent\n",
      "Date                                     \n",
      "2020-11-27                           0.22\n",
      "2020-11-28                           0.22\n",
      "2020-11-29                           0.22\n",
      "2020-11-30                           0.22\n",
      "2020-12-01                           0.22\n",
      "            supply/active_24h\n",
      "Date                         \n",
      "2020-11-27          288809.43\n",
      "2020-11-28          145627.22\n",
      "2020-11-29          148654.67\n",
      "2020-11-30          344613.63\n",
      "2020-12-01          316734.60\n",
      "            supply/active_1d_1w\n",
      "Date                           \n",
      "2020-11-27            588750.79\n",
      "2020-11-28            689281.38\n",
      "2020-11-29            690785.10\n",
      "2020-11-30            544835.84\n",
      "2020-12-01            574383.08\n",
      "            supply/active_1w_1m\n",
      "Date                           \n",
      "2020-11-27           1559456.81\n",
      "2020-11-28           1573298.24\n",
      "2020-11-29           1557439.77\n",
      "2020-11-30           1522574.47\n",
      "2020-12-01           1550547.64\n",
      "            supply/active_1m_3m\n",
      "Date                           \n",
      "2020-11-27           1538563.77\n",
      "2020-11-28           1564231.41\n",
      "2020-11-29           1557129.40\n",
      "2020-11-30           1552900.73\n",
      "2020-12-01           1536320.17\n",
      "            supply/active_3m_6m\n",
      "Date                           \n",
      "2020-11-27           1382362.87\n",
      "2020-11-28           1349269.20\n",
      "2020-11-29           1356692.15\n",
      "2020-11-30           1363027.17\n",
      "2020-12-01           1363545.05\n",
      "            supply/active_6m_12m\n",
      "Date                            \n",
      "2020-11-27            1790632.86\n",
      "2020-11-28            1822854.18\n",
      "2020-11-29            1834935.00\n",
      "2020-11-30            1830493.66\n",
      "2020-12-01            1827059.56\n",
      "            supply/active_1y_2y\n",
      "Date                           \n",
      "2020-11-27           3289432.16\n",
      "2020-11-28           3294375.58\n",
      "2020-11-29           3236015.19\n",
      "2020-11-30           3178409.69\n",
      "2020-12-01           3177203.22\n",
      "            supply/active_2y_3y\n",
      "Date                           \n",
      "2020-11-27           2063541.16\n",
      "2020-11-28           2049727.01\n",
      "2020-11-29           2101911.81\n",
      "2020-11-30           2148894.49\n",
      "2020-12-01           2132277.92\n",
      "            supply/active_3y_5y\n",
      "Date                           \n",
      "2020-11-27           1995883.53\n",
      "2020-11-28           2009493.24\n",
      "2020-11-29           2014579.02\n",
      "2020-11-30           2012952.46\n",
      "2020-12-01           2023160.92\n",
      "            supply/active_5y_7y\n",
      "Date                           \n",
      "2020-11-27            871086.00\n",
      "2020-11-28            869446.52\n",
      "2020-11-29            868768.77\n",
      "2020-11-30            866940.79\n",
      "2020-12-01            862263.39\n",
      "            supply/active_7y_10y\n",
      "Date                            \n",
      "2020-11-27            1348826.21\n",
      "2020-11-28            1350121.77\n",
      "2020-11-29            1350999.20\n",
      "2020-11-30            1351921.45\n",
      "2020-12-01            1354008.93\n",
      "            supply/active_more_10y\n",
      "Date                              \n",
      "2020-11-27              1838762.96\n",
      "2020-11-28              1839345.31\n",
      "2020-11-29              1840098.48\n",
      "2020-11-30              1841150.43\n",
      "2020-12-01              1842160.32\n",
      "            supply/issued\n",
      "Date                     \n",
      "2020-11-27         962.50\n",
      "2020-11-28         962.50\n",
      "2020-11-29         937.50\n",
      "2020-11-30         706.25\n",
      "2020-12-01         950.00\n",
      "            supply/inflation_rate\n",
      "Date                             \n",
      "2020-11-27                   0.02\n",
      "2020-11-28                   0.02\n",
      "2020-11-29                   0.02\n",
      "2020-11-30                   0.01\n",
      "2020-12-01                   0.02\n"
     ]
    }
   ],
   "source": [
    "# Data Frame of Supply Features\n",
    "df_supply = import_glassnode_many(supply_feature_list)"
   ]
  },
  {
   "cell_type": "markdown",
   "metadata": {},
   "source": [
    "#### Transaction Metrics from Glassnode"
   ]
  },
  {
   "cell_type": "code",
   "execution_count": 27,
   "metadata": {
    "ExecuteTime": {
     "end_time": "2020-11-23T00:15:16.901715Z",
     "start_time": "2020-11-23T00:15:15.680Z"
    }
   },
   "outputs": [],
   "source": [
    "# List of Transaction Features\n",
    "transaction_feature_list = ['transactions/count', 'transactions/size_sum','transactions/transfers_volume_sum', 'transactions/transfers_volume_adjusted_sum']"
   ]
  },
  {
   "cell_type": "code",
   "execution_count": 28,
   "metadata": {
    "ExecuteTime": {
     "end_time": "2020-11-23T00:15:16.902717Z",
     "start_time": "2020-11-23T00:15:15.686Z"
    }
   },
   "outputs": [
    {
     "name": "stdout",
     "output_type": "stream",
     "text": [
      "            transactions/count\n",
      "Date                          \n",
      "2020-11-27           322291.00\n",
      "2020-11-28           293795.00\n",
      "2020-11-29           263423.00\n",
      "2020-11-30           256438.00\n",
      "2020-12-01           377916.00\n",
      "            transactions/size_sum\n",
      "Date                             \n",
      "2020-11-27           197852505.00\n",
      "2020-11-28           203263899.00\n",
      "2020-11-29           165665191.00\n",
      "2020-11-30           148946689.00\n",
      "2020-12-01           194069127.00\n",
      "            transactions/transfers_volume_sum\n",
      "Date                                         \n",
      "2020-11-27                         1856710.72\n",
      "2020-11-28                         1296719.28\n",
      "2020-11-29                         1275020.09\n",
      "2020-11-30                         2253471.16\n",
      "2020-12-01                         2098719.12\n",
      "            transactions/transfers_volume_adjusted_sum\n",
      "Date                                                  \n",
      "2020-11-27                                   660956.82\n",
      "2020-11-28                                   342520.51\n",
      "2020-11-29                                   413188.45\n",
      "2020-11-30                                   641130.20\n",
      "2020-12-01                                   777037.47\n"
     ]
    }
   ],
   "source": [
    "# Data Frame of Transaction Features\n",
    "df_transaction = import_glassnode_many(transaction_feature_list)"
   ]
  },
  {
   "cell_type": "code",
   "execution_count": null,
   "metadata": {},
   "outputs": [],
   "source": []
  },
  {
   "cell_type": "markdown",
   "metadata": {},
   "source": [
    "#### Exchange Metrics from Glassnode - 1 Month Lag"
   ]
  },
  {
   "cell_type": "code",
   "execution_count": 29,
   "metadata": {
    "ExecuteTime": {
     "end_time": "2020-11-23T00:15:16.903716Z",
     "start_time": "2020-11-23T00:15:15.696Z"
    }
   },
   "outputs": [],
   "source": [
    "# List of Exchange Features\n",
    "#exchange_feature_list = ['transactions/transfers_volume_to_exchanges_sum', 'transactions/transfers_volume_from_exchanges_sum', 'transactions/transfers_to_exchanges_count', 'transactions/transfers_from_exchanges_count', 'distribution/balance_exchanges', 'transactions/transfers_volume_exchanges_net']"
   ]
  },
  {
   "cell_type": "code",
   "execution_count": 30,
   "metadata": {
    "ExecuteTime": {
     "end_time": "2020-11-23T00:15:16.904716Z",
     "start_time": "2020-11-23T00:15:15.703Z"
    }
   },
   "outputs": [],
   "source": [
    "# Data Frame of Exchange Features\n",
    "#df_exchange = import_glassnode_many(exchange_feature_list)"
   ]
  },
  {
   "cell_type": "markdown",
   "metadata": {},
   "source": [
    "#### Indicator-I Metrics from Glassnode"
   ]
  },
  {
   "cell_type": "code",
   "execution_count": 31,
   "metadata": {
    "ExecuteTime": {
     "end_time": "2020-11-23T00:15:16.905710Z",
     "start_time": "2020-11-23T00:15:15.710Z"
    }
   },
   "outputs": [],
   "source": [
    "# List of Indicator-1 Features\n",
    "indicator1_feature_list = ['indicators/sopr_adjusted', 'indicators/nvt', 'indicators/velocity', 'indicators/cdd', 'indicators/reserve_risk', 'indicators/average_dormancy', 'indicators/liveliness']                         "
   ]
  },
  {
   "cell_type": "code",
   "execution_count": 32,
   "metadata": {
    "ExecuteTime": {
     "end_time": "2020-11-23T00:15:16.906716Z",
     "start_time": "2020-11-23T00:15:15.716Z"
    }
   },
   "outputs": [
    {
     "name": "stdout",
     "output_type": "stream",
     "text": [
      "            indicators/sopr_adjusted\n",
      "Date                                \n",
      "2020-11-27                      1.03\n",
      "2020-11-28                      1.03\n",
      "2020-11-29                      1.04\n",
      "2020-11-30                      1.09\n",
      "2020-12-01                      1.07\n",
      "            indicators/nvt\n",
      "Date                      \n",
      "2020-11-27           28.07\n",
      "2020-11-28           54.18\n",
      "2020-11-29           44.91\n",
      "2020-11-30           28.95\n",
      "2020-12-01           23.89\n",
      "            indicators/velocity\n",
      "Date                           \n",
      "2020-11-27                 0.04\n",
      "2020-11-28                 0.02\n",
      "2020-11-29                 0.02\n",
      "2020-11-30                 0.03\n",
      "2020-12-01                 0.04\n",
      "            indicators/cdd\n",
      "Date                      \n",
      "2020-11-27     22067884.44\n",
      "2020-11-28      5768075.20\n",
      "2020-11-29      9024622.08\n",
      "2020-11-30     23587199.18\n",
      "2020-12-01     23639692.65\n",
      "            indicators/reserve_risk\n",
      "Date                               \n",
      "2020-11-27                     0.00\n",
      "2020-11-28                     0.00\n",
      "2020-11-29                     0.00\n",
      "2020-11-30                     0.00\n",
      "2020-12-01                     0.00\n",
      "            indicators/average_dormancy\n",
      "Date                                   \n",
      "2020-11-27                        33.39\n",
      "2020-11-28                        16.84\n",
      "2020-11-29                        21.84\n",
      "2020-11-30                        36.79\n",
      "2020-12-01                        30.42\n",
      "            indicators/liveliness\n",
      "Date                             \n",
      "2020-11-27                   0.60\n",
      "2020-11-28                   0.60\n",
      "2020-11-29                   0.60\n",
      "2020-11-30                   0.60\n",
      "2020-12-01                   0.60\n"
     ]
    }
   ],
   "source": [
    "# Data Frame of Indicator-1 Features\n",
    "df_indicator1 = import_glassnode_many(indicator1_feature_list)"
   ]
  },
  {
   "cell_type": "markdown",
   "metadata": {},
   "source": [
    "#### Indicator-2 Metrics from Glassnode"
   ]
  },
  {
   "cell_type": "code",
   "execution_count": 33,
   "metadata": {
    "ExecuteTime": {
     "end_time": "2020-11-23T00:15:16.908718Z",
     "start_time": "2020-11-23T00:15:15.723Z"
    }
   },
   "outputs": [],
   "source": [
    "# List of Indicator-2 Features\n",
    "indicator2_feature_list = ['indicators/asol', 'indicators/sol_1h', 'indicators/sol_1h_24h', 'indicators/sol_1d_1w', 'indicators/sol_1w_1m', 'indicators/sol_1m_3m', 'indicators/sol_3m_6m', 'indicators/sol_6m_12m', 'indicators/sol_1y_2y', 'indicators/sol_2y_3y', 'indicators/sol_3y_5y', 'indicators/sol_5y_7y', 'indicators/sol_7y_10y']"
   ]
  },
  {
   "cell_type": "code",
   "execution_count": 34,
   "metadata": {
    "ExecuteTime": {
     "end_time": "2020-11-23T00:15:16.909754Z",
     "start_time": "2020-11-23T00:15:15.729Z"
    }
   },
   "outputs": [
    {
     "name": "stdout",
     "output_type": "stream",
     "text": [
      "            indicators/asol\n",
      "Date                       \n",
      "2020-11-27            39.81\n",
      "2020-11-28            47.32\n",
      "2020-11-29            58.66\n",
      "2020-11-30            38.42\n",
      "2020-12-01            52.93\n",
      "            indicators/sol_1h\n",
      "Date                         \n",
      "2020-11-27          199527.00\n",
      "2020-11-28          189661.00\n",
      "2020-11-29          170417.00\n",
      "2020-11-30          156129.00\n",
      "2020-12-01          221420.00\n",
      "            indicators/sol_1h_24h\n",
      "Date                             \n",
      "2020-11-27              345546.00\n",
      "2020-11-28              299206.00\n",
      "2020-11-29              240405.00\n",
      "2020-11-30              224157.00\n",
      "2020-12-01              335946.00\n",
      "            indicators/sol_1d_1w\n",
      "Date                            \n",
      "2020-11-27             232134.00\n",
      "2020-11-28             251704.00\n",
      "2020-11-29             193345.00\n",
      "2020-11-30             177745.00\n",
      "2020-12-01             154791.00\n",
      "            indicators/sol_1w_1m\n",
      "Date                            \n",
      "2020-11-27              86893.00\n",
      "2020-11-28             100026.00\n",
      "2020-11-29              82080.00\n",
      "2020-11-30              75099.00\n",
      "2020-12-01              85878.00\n",
      "            indicators/sol_1m_3m\n",
      "Date                            \n",
      "2020-11-27              41758.00\n",
      "2020-11-28              48330.00\n",
      "2020-11-29              31311.00\n",
      "2020-11-30              29392.00\n",
      "2020-12-01              46000.00\n",
      "            indicators/sol_3m_6m\n",
      "Date                            \n",
      "2020-11-27              13164.00\n",
      "2020-11-28              19487.00\n",
      "2020-11-29              13161.00\n",
      "2020-11-30              10059.00\n",
      "2020-12-01              15220.00\n",
      "            indicators/sol_6m_12m\n",
      "Date                             \n",
      "2020-11-27               11330.00\n",
      "2020-11-28               15585.00\n",
      "2020-11-29               14472.00\n",
      "2020-11-30                7873.00\n",
      "2020-12-01               14365.00\n",
      "            indicators/sol_1y_2y\n",
      "Date                            \n",
      "2020-11-27              14587.00\n",
      "2020-11-28              17730.00\n",
      "2020-11-29              10358.00\n",
      "2020-11-30               6792.00\n",
      "2020-12-01              13278.00\n",
      "            indicators/sol_2y_3y\n",
      "Date                            \n",
      "2020-11-27               7182.00\n",
      "2020-11-28               9643.00\n",
      "2020-11-29               5800.00\n",
      "2020-11-30               6748.00\n",
      "2020-12-01              13945.00\n",
      "            indicators/sol_3y_5y\n",
      "Date                            \n",
      "2020-11-27               2950.00\n",
      "2020-11-28               3359.00\n",
      "2020-11-29               2789.00\n",
      "2020-11-30               2422.00\n",
      "2020-12-01               4017.00\n",
      "            indicators/sol_5y_7y\n",
      "Date                            \n",
      "2020-11-27               1049.00\n",
      "2020-11-28                969.00\n",
      "2020-11-29               4885.00\n",
      "2020-11-30                391.00\n",
      "2020-12-01                416.00\n",
      "            indicators/sol_7y_10y\n",
      "Date                             \n",
      "2020-11-27                 215.00\n",
      "2020-11-28                 155.00\n",
      "2020-11-29                 796.00\n",
      "2020-11-30                 179.00\n",
      "2020-12-01                 129.00\n"
     ]
    }
   ],
   "source": [
    "# Data Frame of Indicator-2 Features\n",
    "df_indicator2 = import_glassnode_many(indicator2_feature_list)"
   ]
  },
  {
   "cell_type": "code",
   "execution_count": null,
   "metadata": {},
   "outputs": [],
   "source": []
  },
  {
   "cell_type": "markdown",
   "metadata": {},
   "source": [
    "#### Indicator-3 Metrics from Glassnode"
   ]
  },
  {
   "cell_type": "code",
   "execution_count": 35,
   "metadata": {
    "ExecuteTime": {
     "end_time": "2020-11-23T00:15:16.910714Z",
     "start_time": "2020-11-23T00:15:15.739Z"
    }
   },
   "outputs": [],
   "source": [
    "# List of Indicator-3 Features\n",
    "indicator3_feature_list = ['indicators/net_unrealized_profit_loss', 'indicators/unrealized_profit', 'indicators/unrealized_loss', 'indicators/net_realized_profit_loss', 'indicators/realized_profit', 'indicators/realized_loss', 'indicators/nupl_more_155', 'indicators/nupl_less_155', 'indicators/puell_multiple', 'indicators/stock_to_flow_deflection', 'indicators/difficulty_ribbon_compression']"
   ]
  },
  {
   "cell_type": "code",
   "execution_count": 36,
   "metadata": {
    "ExecuteTime": {
     "end_time": "2020-11-23T00:15:16.912728Z",
     "start_time": "2020-11-23T00:15:15.745Z"
    }
   },
   "outputs": [
    {
     "name": "stdout",
     "output_type": "stream",
     "text": [
      "            indicators/net_unrealized_profit_loss\n",
      "Date                                             \n",
      "2020-11-27                                   0.57\n",
      "2020-11-28                                   0.58\n",
      "2020-11-29                                   0.59\n",
      "2020-11-30                                   0.62\n",
      "2020-12-01                                   0.60\n",
      "            indicators/unrealized_profit\n",
      "Date                                    \n",
      "2020-11-27                          0.57\n",
      "2020-11-28                          0.59\n",
      "2020-11-29                          0.59\n",
      "2020-11-30                          0.62\n",
      "2020-12-01                          0.60\n",
      "            indicators/unrealized_loss\n",
      "Date                                  \n",
      "2020-11-27                        0.00\n",
      "2020-11-28                        0.00\n",
      "2020-11-29                        0.00\n",
      "2020-11-30                        0.00\n",
      "2020-12-01                        0.00\n",
      "            indicators/net_realized_profit_loss\n",
      "Date                                           \n",
      "2020-11-27                         287463917.99\n",
      "2020-11-28                         174442581.58\n",
      "2020-11-29                         243291799.68\n",
      "2020-11-30                         930610432.56\n",
      "2020-12-01                         773064011.72\n",
      "            indicators/realized_profit\n",
      "Date                                  \n",
      "2020-11-27                499823727.98\n",
      "2020-11-28                218246122.17\n",
      "2020-11-29                281095917.02\n",
      "2020-11-30                961528905.35\n",
      "2020-12-01                907547252.96\n",
      "            indicators/realized_loss\n",
      "Date                                \n",
      "2020-11-27              212359809.98\n",
      "2020-11-28               43803540.59\n",
      "2020-11-29               37804117.34\n",
      "2020-11-30               30918472.79\n",
      "2020-12-01              134483241.24\n",
      "            indicators/nupl_more_155\n",
      "Date                                \n",
      "2020-11-27                      0.67\n",
      "2020-11-28                      0.68\n",
      "2020-11-29                      0.69\n",
      "2020-11-30                      0.72\n",
      "2020-12-01                      0.70\n",
      "            indicators/nupl_less_155\n",
      "Date                                \n",
      "2020-11-27                      0.19\n",
      "2020-11-28                      0.21\n",
      "2020-11-29                      0.23\n",
      "2020-11-30                      0.28\n",
      "2020-12-01                      0.24\n",
      "            indicators/puell_multiple\n",
      "Date                                 \n",
      "2020-11-27                       1.34\n",
      "2020-11-28                       1.36\n",
      "2020-11-29                       1.38\n",
      "2020-11-30                       1.09\n",
      "2020-12-01                       1.50\n",
      "            indicators/stock_to_flow_deflection\n",
      "Date                                           \n",
      "2020-11-27                                 0.62\n",
      "2020-11-28                                 0.63\n",
      "2020-11-29                                 0.65\n",
      "2020-11-30                                 0.70\n",
      "2020-12-01                                 0.66\n",
      "            indicators/difficulty_ribbon_compression\n",
      "Date                                                \n",
      "2020-11-27                                      0.03\n",
      "2020-11-28                                      0.03\n",
      "2020-11-29                                      0.03\n",
      "2020-11-30                                      0.03\n",
      "2020-12-01                                      0.02\n"
     ]
    }
   ],
   "source": [
    "# Data Frame of Indicator-3 Features\n",
    "df_indicator3 = import_glassnode_many(indicator3_feature_list)"
   ]
  },
  {
   "cell_type": "markdown",
   "metadata": {},
   "source": [
    "#### Addresses Metrics from Glassnode"
   ]
  },
  {
   "cell_type": "code",
   "execution_count": 37,
   "metadata": {
    "ExecuteTime": {
     "end_time": "2020-11-23T00:15:16.913747Z",
     "start_time": "2020-11-23T00:15:15.752Z"
    }
   },
   "outputs": [],
   "source": [
    "# List of Addresses Features\n",
    "addresses_feature_list = ['addresses/active_count', 'addresses/sending_count', 'addresses/receiving_count', 'addresses/new_non_zero_count', 'addresses/non_zero_count', 'addresses/min_point_zero_1_count','addresses/min_point_1_count', 'addresses/min_1_count', 'addresses/min_10_count', 'addresses/min_100_count', 'addresses/min_1k_count', 'addresses/min_10k_count']"
   ]
  },
  {
   "cell_type": "code",
   "execution_count": 38,
   "metadata": {
    "ExecuteTime": {
     "end_time": "2020-11-23T00:15:16.914716Z",
     "start_time": "2020-11-23T00:15:15.761Z"
    }
   },
   "outputs": [
    {
     "name": "stdout",
     "output_type": "stream",
     "text": [
      "            addresses/active_count\n",
      "Date                              \n",
      "2020-11-27              1098290.00\n",
      "2020-11-28              1043272.00\n",
      "2020-11-29               884127.00\n",
      "2020-11-30               889631.00\n",
      "2020-12-01              1170489.00\n",
      "            addresses/sending_count\n",
      "Date                               \n",
      "2020-11-27                718366.00\n",
      "2020-11-28                703716.00\n",
      "2020-11-29                563015.00\n",
      "2020-11-30                519025.00\n",
      "2020-12-01                687581.00\n",
      "            addresses/receiving_count\n",
      "Date                                 \n",
      "2020-11-27                  719222.00\n",
      "2020-11-28                  644191.00\n",
      "2020-11-29                  588994.00\n",
      "2020-11-30                  623543.00\n",
      "2020-12-01                  841565.00\n",
      "            addresses/new_non_zero_count\n",
      "Date                                    \n",
      "2020-11-27                     513799.00\n",
      "2020-11-28                     472882.00\n",
      "2020-11-29                     434832.00\n",
      "2020-11-30                     441143.00\n",
      "2020-12-01                     614449.00\n",
      "            addresses/non_zero_count\n",
      "Date                                \n",
      "2020-11-27               32675862.00\n",
      "2020-11-28               32586624.00\n",
      "2020-11-29               32586946.00\n",
      "2020-11-30               32659333.00\n",
      "2020-12-01               32764603.00\n",
      "            addresses/min_point_zero_1_count\n",
      "Date                                        \n",
      "2020-11-27                        8515464.00\n",
      "2020-11-28                        8481925.00\n",
      "2020-11-29                        8468254.00\n",
      "2020-11-30                        8499912.00\n",
      "2020-12-01                        8525194.00\n",
      "            addresses/min_point_1_count\n",
      "Date                                   \n",
      "2020-11-27                   3121227.00\n",
      "2020-11-28                   3118114.00\n",
      "2020-11-29                   3111465.00\n",
      "2020-11-30                   3117495.00\n",
      "2020-12-01                   3115114.00\n",
      "            addresses/min_1_count\n",
      "Date                             \n",
      "2020-11-27              820011.00\n",
      "2020-11-28              820175.00\n",
      "2020-11-29              819629.00\n",
      "2020-11-30              821144.00\n",
      "2020-12-01              820762.00\n",
      "            addresses/min_10_count\n",
      "Date                              \n",
      "2020-11-27               154563.00\n",
      "2020-11-28               154599.00\n",
      "2020-11-29               154481.00\n",
      "2020-11-30               154578.00\n",
      "2020-12-01               154377.00\n",
      "            addresses/min_100_count\n",
      "Date                               \n",
      "2020-11-27                 16089.00\n",
      "2020-11-28                 16082.00\n",
      "2020-11-29                 16105.00\n",
      "2020-11-30                 16150.00\n",
      "2020-12-01                 16130.00\n",
      "            addresses/min_1k_count\n",
      "Date                              \n",
      "2020-11-27                 2263.00\n",
      "2020-11-28                 2262.00\n",
      "2020-11-29                 2262.00\n",
      "2020-11-30                 2261.00\n",
      "2020-12-01                 2259.00\n",
      "            addresses/min_10k_count\n",
      "Date                               \n",
      "2020-11-27                   109.00\n",
      "2020-11-28                   109.00\n",
      "2020-11-29                   109.00\n",
      "2020-11-30                   109.00\n",
      "2020-12-01                   108.00\n"
     ]
    }
   ],
   "source": [
    "# Data Frame of Addresses Features\n",
    "df_addresses = import_glassnode_many(addresses_feature_list)"
   ]
  },
  {
   "cell_type": "markdown",
   "metadata": {},
   "source": [
    "#### Futures Metrics from Glassnode - Excluded as Data Available Only Since Feb 2020"
   ]
  },
  {
   "cell_type": "markdown",
   "metadata": {},
   "source": [
    "##### List of Futures Features\n",
    "futures_feature_list = ['derivatives/futures_volume_daily_all_sum', 'derivatives/futures_volume_daily_perpetual_sum', 'derivatives/futures_open_interest_all_sum', 'derivatives/futures_open_interest_perpetual_sum', 'derivatives/futures_funding_rate_perpetual']"
   ]
  },
  {
   "cell_type": "markdown",
   "metadata": {},
   "source": [
    "##### Data Frame of Future features\n",
    "df_futures = import_glassnode_many(futures_feature_list)"
   ]
  },
  {
   "cell_type": "code",
   "execution_count": null,
   "metadata": {},
   "outputs": [],
   "source": []
  },
  {
   "cell_type": "markdown",
   "metadata": {},
   "source": [
    "## File Import and Data Tidying"
   ]
  },
  {
   "cell_type": "code",
   "execution_count": 39,
   "metadata": {
    "ExecuteTime": {
     "end_time": "2020-11-23T00:15:16.915713Z",
     "start_time": "2020-11-23T00:15:15.776Z"
    },
    "scrolled": true
   },
   "outputs": [],
   "source": [
    "# Import of Modules and Packages\n",
    "import os\n",
    "import numpy as np\n",
    "import pandas as pd\n",
    "import matplotlib.pyplot as plt\n",
    "import seaborn as sns"
   ]
  },
  {
   "cell_type": "code",
   "execution_count": 40,
   "metadata": {
    "ExecuteTime": {
     "end_time": "2020-11-23T00:15:16.917717Z",
     "start_time": "2020-11-23T00:15:15.783Z"
    }
   },
   "outputs": [],
   "source": [
    "# Adjustment of Decimal Places\n",
    "pd.options.display.float_format = '{:.6f}'.format"
   ]
  },
  {
   "cell_type": "code",
   "execution_count": 41,
   "metadata": {
    "ExecuteTime": {
     "end_time": "2020-11-23T00:15:16.918715Z",
     "start_time": "2020-11-23T00:15:15.789Z"
    }
   },
   "outputs": [],
   "source": [
    "os.chdir('C:\\\\Users\\\\markus.gebele\\\\github_repo\\\\JupyterLabDir\\\\Rest\\\\MA BTC\\\\Markus_Code_MA_final\\\\20201010')"
   ]
  },
  {
   "cell_type": "markdown",
   "metadata": {},
   "source": [
    "### Import Blockchain CSV-Files"
   ]
  },
  {
   "cell_type": "markdown",
   "metadata": {},
   "source": [
    "#### Market Metric CSV-Files"
   ]
  },
  {
   "cell_type": "code",
   "execution_count": 42,
   "metadata": {
    "ExecuteTime": {
     "end_time": "2020-11-23T00:15:16.918715Z",
     "start_time": "2020-11-23T00:15:15.798Z"
    }
   },
   "outputs": [],
   "source": [
    "# List of Market Features\n",
    "market_feature_list = ['price_usd_close', 'price_drawdown_relative', 'price_realized_usd', 'mvrv']\n",
    "\n",
    "# Counter to Differentiate between Data Frame Setup and Data Frame Extension\n",
    "counter=0\n",
    "\n",
    "# For Loop through all Features in the List\n",
    "for x in market_feature_list:\n",
    "    \n",
    "    # Import Feature CSV-Files\n",
    "    df = pd.read_csv(\"Glassnode/{}.csv\".format(x), index_col='Date', ) #decimal=\".\"\n",
    "    \n",
    "    # Condition - Data Frame Set up or Data Frame Extension\n",
    "    if counter > 0:\n",
    "        \n",
    "        # Data Frame Extension - Inner Join\n",
    "        df_new = df_new.join(df, how='inner')\n",
    "    \n",
    "    else:\n",
    "        \n",
    "        # Data Frame Setup\n",
    "        df_new = df\n",
    "    \n",
    "    # Increase Counter\n",
    "    counter +=1\n",
    "\n",
    "# Store Data Frame Copy in Market Data Frame\n",
    "df_market = df_new.copy()\n",
    "\n",
    "# Delete Original Data Frame\n",
    "del df_new\n",
    "\n",
    "# Change Data Type of Columns to Float\n",
    "for y in df_market.columns:\n",
    "    try:\n",
    "        df_market[\"{}\".format(y)] = df_market[\"{}\".format(y)].str.replace(',','.')\n",
    "        df_market[\"{}\".format(y)] = df_market[\"{}\".format(y)].astype(float)\n",
    "    except:\n",
    "        pass"
   ]
  },
  {
   "cell_type": "code",
   "execution_count": 43,
   "metadata": {
    "ExecuteTime": {
     "end_time": "2020-11-23T00:15:16.920715Z",
     "start_time": "2020-11-23T00:15:15.804Z"
    }
   },
   "outputs": [
    {
     "data": {
      "text/html": [
       "<div>\n",
       "<style scoped>\n",
       "    .dataframe tbody tr th:only-of-type {\n",
       "        vertical-align: middle;\n",
       "    }\n",
       "\n",
       "    .dataframe tbody tr th {\n",
       "        vertical-align: top;\n",
       "    }\n",
       "\n",
       "    .dataframe thead th {\n",
       "        text-align: right;\n",
       "    }\n",
       "</style>\n",
       "<table border=\"1\" class=\"dataframe\">\n",
       "  <thead>\n",
       "    <tr style=\"text-align: right;\">\n",
       "      <th></th>\n",
       "      <th>market/price_usd_close</th>\n",
       "      <th>market/price_drawdown_relative</th>\n",
       "      <th>market/price_realized_usd</th>\n",
       "      <th>market/mvrv</th>\n",
       "    </tr>\n",
       "    <tr>\n",
       "      <th>Date</th>\n",
       "      <th></th>\n",
       "      <th></th>\n",
       "      <th></th>\n",
       "      <th></th>\n",
       "    </tr>\n",
       "  </thead>\n",
       "  <tbody>\n",
       "    <tr>\n",
       "      <th>2020-11-27</th>\n",
       "      <td>17096.724533</td>\n",
       "      <td>-0.137049</td>\n",
       "      <td>7324.711202</td>\n",
       "      <td>2.321520</td>\n",
       "    </tr>\n",
       "    <tr>\n",
       "      <th>2020-11-28</th>\n",
       "      <td>17714.060586</td>\n",
       "      <td>-0.105889</td>\n",
       "      <td>7331.626545</td>\n",
       "      <td>2.360943</td>\n",
       "    </tr>\n",
       "    <tr>\n",
       "      <th>2020-11-29</th>\n",
       "      <td>18147.636460</td>\n",
       "      <td>-0.084005</td>\n",
       "      <td>7344.014152</td>\n",
       "      <td>2.449016</td>\n",
       "    </tr>\n",
       "    <tr>\n",
       "      <th>2020-11-30</th>\n",
       "      <td>19689.810545</td>\n",
       "      <td>-0.006164</td>\n",
       "      <td>7383.431438</td>\n",
       "      <td>2.555244</td>\n",
       "    </tr>\n",
       "    <tr>\n",
       "      <th>2020-12-01</th>\n",
       "      <td>18863.780861</td>\n",
       "      <td>-0.049165</td>\n",
       "      <td>7433.569725</td>\n",
       "      <td>2.590058</td>\n",
       "    </tr>\n",
       "  </tbody>\n",
       "</table>\n",
       "</div>"
      ],
      "text/plain": [
       "            market/price_usd_close  market/price_drawdown_relative  \\\n",
       "Date                                                                 \n",
       "2020-11-27            17096.724533                       -0.137049   \n",
       "2020-11-28            17714.060586                       -0.105889   \n",
       "2020-11-29            18147.636460                       -0.084005   \n",
       "2020-11-30            19689.810545                       -0.006164   \n",
       "2020-12-01            18863.780861                       -0.049165   \n",
       "\n",
       "            market/price_realized_usd  market/mvrv  \n",
       "Date                                                \n",
       "2020-11-27                7324.711202     2.321520  \n",
       "2020-11-28                7331.626545     2.360943  \n",
       "2020-11-29                7344.014152     2.449016  \n",
       "2020-11-30                7383.431438     2.555244  \n",
       "2020-12-01                7433.569725     2.590058  "
      ]
     },
     "execution_count": 43,
     "metadata": {},
     "output_type": "execute_result"
    }
   ],
   "source": [
    "# Latest Market Metric Values\n",
    "df_market.tail()"
   ]
  },
  {
   "cell_type": "markdown",
   "metadata": {},
   "source": [
    "#### Mining Metric CSV-Files"
   ]
  },
  {
   "cell_type": "code",
   "execution_count": 44,
   "metadata": {
    "ExecuteTime": {
     "end_time": "2020-11-23T00:15:16.921717Z",
     "start_time": "2020-11-23T00:15:15.812Z"
    }
   },
   "outputs": [],
   "source": [
    "# # List of Mining Features\n",
    "# mining_feature_list = ['difficulty_latest'] #, 'hash_rate_mean', 'revenue_sum','marketcap_thermocap_ratio'\n",
    "\n",
    "# # For Loop through all Features in the List\n",
    "# for x in mining_feature_list:\n",
    "    \n",
    "#     # Import Feature CSV-Files\n",
    "#     df_mining_difficulty_latest = pd.read_csv(\"Glassnode/{}.csv\".format(x), index_col='Date')\n",
    "    \n",
    "# # Change Data Type of Columns to Float\n",
    "# for y in df_mining_difficulty_latest.columns:\n",
    "#     try:\n",
    "#         df_mining_difficulty_latest[\"{}\".format(y)] = df_mining_difficulty_latest[\"{}\".format(y)].str.replace(',','.')\n",
    "#         df_mining_difficulty_latest[\"{}\".format(y)] = df_mining_difficulty_latest[\"{}\".format(y)].astype(float)\n",
    "#     except:\n",
    "#         pass\n",
    "    \n",
    "# df_mining_difficulty_latest"
   ]
  },
  {
   "cell_type": "code",
   "execution_count": 45,
   "metadata": {
    "ExecuteTime": {
     "end_time": "2020-11-23T00:15:16.923715Z",
     "start_time": "2020-11-23T00:15:15.819Z"
    }
   },
   "outputs": [],
   "source": [
    "# # List of Mining Features\n",
    "# mining_feature_list = ['hash_rate_mean'] # 'revenue_sum','marketcap_thermocap_ratio'\n",
    "\n",
    "# # For Loop through all Features in the List\n",
    "# for x in mining_feature_list:\n",
    "    \n",
    "#     # Import Feature CSV-Files\n",
    "#     df_mining_hash_rate_mean = pd.read_csv(\"Glassnode/{}.csv\".format(x), index_col='Date')\n",
    "    \n",
    "# # Change Data Type of Columns to Float\n",
    "# for y in df_mining_hash_rate_mean.columns:\n",
    "#     try:\n",
    "#         df_mining_hash_rate_mean[\"{}\".format(y)] = df_mining_hash_rate_mean[\"{}\".format(y)].str.replace(',','.')\n",
    "#         df_mining_hash_rate_mean[\"{}\".format(y)] = df_mining_hash_rate_mean[\"{}\".format(y)].astype(float)\n",
    "#     except:\n",
    "#         pass\n",
    "    \n",
    "# df_mining_hash_rate_mean"
   ]
  },
  {
   "cell_type": "code",
   "execution_count": 46,
   "metadata": {
    "ExecuteTime": {
     "end_time": "2020-11-23T00:15:16.924717Z",
     "start_time": "2020-11-23T00:15:15.826Z"
    }
   },
   "outputs": [],
   "source": [
    "# # List of Mining Features\n",
    "# mining_feature_list = ['marketcap_thermocap_ratio'] # 'revenue_sum','marketcap_thermocap_ratio'\n",
    "\n",
    "# # For Loop through all Features in the List\n",
    "# for x in mining_feature_list:\n",
    "    \n",
    "#     # Import Feature CSV-Files\n",
    "#     df_mining_marketcap_thermocap_ratio = pd.read_csv(\"Glassnode/{}.csv\".format(x), index_col='Date')\n",
    "    \n",
    "# # Change Data Type of Columns to Float\n",
    "# for y in df_mining_marketcap_thermocap_ratio.columns:\n",
    "#     try:\n",
    "#         df_mining_marketcap_thermocap_ratio[\"{}\".format(y)] = df_mining_marketcap_thermocap_ratio[\"{}\".format(y)].str.replace(',','.')\n",
    "#         df_mining_marketcap_thermocap_ratio[\"{}\".format(y)] = df_mining_marketcap_thermocap_ratio[\"{}\".format(y)].astype(float)\n",
    "#     except:\n",
    "#         pass\n",
    "    \n",
    "# df_mining_revenue_sum"
   ]
  },
  {
   "cell_type": "code",
   "execution_count": 47,
   "metadata": {
    "ExecuteTime": {
     "end_time": "2020-11-23T00:15:16.925716Z",
     "start_time": "2020-11-23T00:15:15.833Z"
    }
   },
   "outputs": [],
   "source": [
    "# List of Mining Features\n",
    "mining_feature_list = ['difficulty_latest', 'hash_rate_mean'] #, 'revenue_sum','marketcap_thermocap_ratio'\n",
    "\n",
    "# Counter to Differentiate between Data Frame Setup and Data Frame Extension\n",
    "counter=0\n",
    "\n",
    "# For Loop through all Features in the List\n",
    "for x in mining_feature_list:\n",
    "    \n",
    "    # Import Feature CSV-Files\n",
    "    df = pd.read_csv(\"Glassnode/{}.csv\".format(x), index_col='Date')\n",
    "    \n",
    "    # Condition - Data Frame Set up or Data Frame Extension\n",
    "    if counter > 0:\n",
    "        \n",
    "        # Data Frame Extension - Inner Join\n",
    "        df_new = df_new.join(df, how='inner')\n",
    "    \n",
    "    else:\n",
    "        \n",
    "        # Data Frame Setup\n",
    "        df_new = df\n",
    "    \n",
    "    # Increase Counter\n",
    "    counter +=1\n",
    "\n",
    "# Store Data Frame Copy in Market Data Frame    \n",
    "df_mining = df_new.copy()\n",
    "\n",
    "# Delete Original Data Frame\n",
    "del df_new\n",
    "\n",
    "# Change Data Type of Columns to Float\n",
    "for y in df_mining.columns:\n",
    "    try:\n",
    "        df_mining[\"{}\".format(y)] = df_mining[\"{}\".format(y)].str.replace(',','.')\n",
    "        df_mining[\"{}\".format(y)] = df_mining[\"{}\".format(y)].astype(float)\n",
    "    except:\n",
    "        pass"
   ]
  },
  {
   "cell_type": "code",
   "execution_count": 48,
   "metadata": {
    "ExecuteTime": {
     "end_time": "2020-11-23T00:15:16.926716Z",
     "start_time": "2020-11-23T00:15:15.842Z"
    }
   },
   "outputs": [
    {
     "data": {
      "text/html": [
       "<div>\n",
       "<style scoped>\n",
       "    .dataframe tbody tr th:only-of-type {\n",
       "        vertical-align: middle;\n",
       "    }\n",
       "\n",
       "    .dataframe tbody tr th {\n",
       "        vertical-align: top;\n",
       "    }\n",
       "\n",
       "    .dataframe thead th {\n",
       "        text-align: right;\n",
       "    }\n",
       "</style>\n",
       "<table border=\"1\" class=\"dataframe\">\n",
       "  <thead>\n",
       "    <tr style=\"text-align: right;\">\n",
       "      <th></th>\n",
       "      <th>mining/difficulty_latest</th>\n",
       "      <th>mining/hash_rate_mean</th>\n",
       "    </tr>\n",
       "    <tr>\n",
       "      <th>Date</th>\n",
       "      <th></th>\n",
       "      <th></th>\n",
       "    </tr>\n",
       "  </thead>\n",
       "  <tbody>\n",
       "    <tr>\n",
       "      <th>2020-11-27</th>\n",
       "      <td>75577685065077505392640.000000</td>\n",
       "      <td>134789789111882006528.000000</td>\n",
       "    </tr>\n",
       "    <tr>\n",
       "      <th>2020-11-28</th>\n",
       "      <td>75577685065077505392640.000000</td>\n",
       "      <td>133670565738951000064.000000</td>\n",
       "    </tr>\n",
       "    <tr>\n",
       "      <th>2020-11-29</th>\n",
       "      <td>82279353027041903509504.000000</td>\n",
       "      <td>135712889718699999232.000000</td>\n",
       "    </tr>\n",
       "    <tr>\n",
       "      <th>2020-11-30</th>\n",
       "      <td>82279353027041903509504.000000</td>\n",
       "      <td>107377083337826992128.000000</td>\n",
       "    </tr>\n",
       "    <tr>\n",
       "      <th>2020-12-01</th>\n",
       "      <td>82279353027041903509504.000000</td>\n",
       "      <td>146392546734912995328.000000</td>\n",
       "    </tr>\n",
       "  </tbody>\n",
       "</table>\n",
       "</div>"
      ],
      "text/plain": [
       "                 mining/difficulty_latest        mining/hash_rate_mean\n",
       "Date                                                                  \n",
       "2020-11-27 75577685065077505392640.000000 134789789111882006528.000000\n",
       "2020-11-28 75577685065077505392640.000000 133670565738951000064.000000\n",
       "2020-11-29 82279353027041903509504.000000 135712889718699999232.000000\n",
       "2020-11-30 82279353027041903509504.000000 107377083337826992128.000000\n",
       "2020-12-01 82279353027041903509504.000000 146392546734912995328.000000"
      ]
     },
     "execution_count": 48,
     "metadata": {},
     "output_type": "execute_result"
    }
   ],
   "source": [
    "# Latest Mining Metric Values\n",
    "df_mining.tail()"
   ]
  },
  {
   "cell_type": "markdown",
   "metadata": {},
   "source": [
    "#### Blocks Metric CSV-Files"
   ]
  },
  {
   "cell_type": "code",
   "execution_count": 49,
   "metadata": {
    "ExecuteTime": {
     "end_time": "2020-11-23T00:15:16.927714Z",
     "start_time": "2020-11-23T00:15:15.849Z"
    }
   },
   "outputs": [],
   "source": [
    "# List of Blockchain Features\n",
    "block_feature_list = ['block_count', 'block_interval_mean', 'block_size_sum']\n",
    "\n",
    "# Counter to Differentiate between Data Frame Setup and Data Frame Extension\n",
    "counter=0\n",
    "\n",
    "# For Loop through all Features in the List\n",
    "for x in block_feature_list:\n",
    "    \n",
    "    # Import Feature CSV-Files\n",
    "    df = pd.read_csv(\"Glassnode/{}.csv\".format(x), index_col='Date')\n",
    "    \n",
    "    # Condition - Data Frame Set up or Data Frame Extension\n",
    "    if counter > 0:\n",
    "        \n",
    "        # Data Frame Extension - Inner Join\n",
    "        df_new = df_new.join(df, how='inner')\n",
    "    \n",
    "    else:\n",
    "        \n",
    "        # Data Frame Setup\n",
    "        df_new = df\n",
    "    \n",
    "    # Increase Counter\n",
    "    counter +=1\n",
    "\n",
    "# Store Data Frame Copy in Market Data Frame\n",
    "df_blockfeatures = df_new.copy()\n",
    "\n",
    "# Delete Original Data Frame\n",
    "del df_new\n",
    "\n",
    "# Change Data Type of Columns to Float\n",
    "for y in df_blockfeatures.columns:\n",
    "    try:\n",
    "        df_blockfeatures[\"{}\".format(y)] = df_blockfeatures[\"{}\".format(y)].str.replace(',','.')\n",
    "        df_blockfeatures[\"{}\".format(y)] = df_blockfeatures[\"{}\".format(y)].astype(float)\n",
    "    except:\n",
    "        pass"
   ]
  },
  {
   "cell_type": "code",
   "execution_count": 50,
   "metadata": {
    "ExecuteTime": {
     "end_time": "2020-11-23T00:15:16.929715Z",
     "start_time": "2020-11-23T00:15:15.856Z"
    }
   },
   "outputs": [
    {
     "data": {
      "text/html": [
       "<div>\n",
       "<style scoped>\n",
       "    .dataframe tbody tr th:only-of-type {\n",
       "        vertical-align: middle;\n",
       "    }\n",
       "\n",
       "    .dataframe tbody tr th {\n",
       "        vertical-align: top;\n",
       "    }\n",
       "\n",
       "    .dataframe thead th {\n",
       "        text-align: right;\n",
       "    }\n",
       "</style>\n",
       "<table border=\"1\" class=\"dataframe\">\n",
       "  <thead>\n",
       "    <tr style=\"text-align: right;\">\n",
       "      <th></th>\n",
       "      <th>blockchain/block_count</th>\n",
       "      <th>blockchain/block_interval_mean</th>\n",
       "      <th>blockchain/block_size_sum</th>\n",
       "    </tr>\n",
       "    <tr>\n",
       "      <th>Date</th>\n",
       "      <th></th>\n",
       "      <th></th>\n",
       "      <th></th>\n",
       "    </tr>\n",
       "  </thead>\n",
       "  <tbody>\n",
       "    <tr>\n",
       "      <th>2020-11-27</th>\n",
       "      <td>154.000000</td>\n",
       "      <td>560.707792</td>\n",
       "      <td>197914555.000000</td>\n",
       "    </tr>\n",
       "    <tr>\n",
       "      <th>2020-11-28</th>\n",
       "      <td>154.000000</td>\n",
       "      <td>565.402597</td>\n",
       "      <td>203325984.000000</td>\n",
       "    </tr>\n",
       "    <tr>\n",
       "      <th>2020-11-29</th>\n",
       "      <td>150.000000</td>\n",
       "      <td>576.960000</td>\n",
       "      <td>165724061.000000</td>\n",
       "    </tr>\n",
       "    <tr>\n",
       "      <th>2020-11-30</th>\n",
       "      <td>113.000000</td>\n",
       "      <td>766.265487</td>\n",
       "      <td>148990700.000000</td>\n",
       "    </tr>\n",
       "    <tr>\n",
       "      <th>2020-12-01</th>\n",
       "      <td>152.000000</td>\n",
       "      <td>562.046053</td>\n",
       "      <td>194130643.000000</td>\n",
       "    </tr>\n",
       "  </tbody>\n",
       "</table>\n",
       "</div>"
      ],
      "text/plain": [
       "            blockchain/block_count  blockchain/block_interval_mean  \\\n",
       "Date                                                                 \n",
       "2020-11-27              154.000000                      560.707792   \n",
       "2020-11-28              154.000000                      565.402597   \n",
       "2020-11-29              150.000000                      576.960000   \n",
       "2020-11-30              113.000000                      766.265487   \n",
       "2020-12-01              152.000000                      562.046053   \n",
       "\n",
       "            blockchain/block_size_sum  \n",
       "Date                                   \n",
       "2020-11-27           197914555.000000  \n",
       "2020-11-28           203325984.000000  \n",
       "2020-11-29           165724061.000000  \n",
       "2020-11-30           148990700.000000  \n",
       "2020-12-01           194130643.000000  "
      ]
     },
     "execution_count": 50,
     "metadata": {},
     "output_type": "execute_result"
    }
   ],
   "source": [
    "# Show Latest Feature Values\n",
    "df_blockfeatures.tail()"
   ]
  },
  {
   "cell_type": "markdown",
   "metadata": {},
   "source": [
    "#### Distribution Metric CSV-Files"
   ]
  },
  {
   "cell_type": "code",
   "execution_count": 51,
   "metadata": {
    "ExecuteTime": {
     "end_time": "2020-11-23T00:15:16.930715Z",
     "start_time": "2020-11-23T00:15:15.863Z"
    }
   },
   "outputs": [],
   "source": [
    "# # List of Distribution Features\n",
    "# distribution_feature_list = ['balance_1pct_holders', 'gini', 'herfindahl']\n",
    "\n",
    "# # Counter to Differentiate between Data Frame Setup and Data Frame Extension\n",
    "# counter=0\n",
    "\n",
    "# # For Loop through all Features in the List\n",
    "# for x in distribution_feature_list:\n",
    "    \n",
    "#     # Import Feature CSV-Files\n",
    "#     df = pd.read_csv(\"Glassnode/{}.csv\".format(x), index_col='Date')\n",
    "    \n",
    "#     # Condition - Data Frame Set up or Data Frame Extension\n",
    "#     if counter > 0:\n",
    "        \n",
    "#         # Data Frame Extension - Inner Join\n",
    "#         df_new = df_new.join(df, how='inner')\n",
    "    \n",
    "#     else:\n",
    "#         # Data Frame Setup\n",
    "#         df_new = df\n",
    "    \n",
    "#     # Increase Counter    \n",
    "#     counter +=1\n",
    "\n",
    "# # Store Data Frame Copy in Distribution Data Frame    \n",
    "# df_distribution = df_new.copy()\n",
    "\n",
    "# # Delete Original Data Frame\n",
    "# del df_new\n",
    "\n",
    "# # Change Data Type of Columns to Float\n",
    "# for y in df_distribution.columns:\n",
    "#     try:\n",
    "#         df_distribution[\"{}\".format(y)] = df_distribution[\"{}\".format(y)].str.replace(',','.')\n",
    "#         df_distribution[\"{}\".format(y)] = df_distribution[\"{}\".format(y)].astype(float)\n",
    "#     except:\n",
    "#         pass"
   ]
  },
  {
   "cell_type": "code",
   "execution_count": 52,
   "metadata": {
    "ExecuteTime": {
     "end_time": "2020-11-23T00:15:16.931719Z",
     "start_time": "2020-11-23T00:15:15.869Z"
    }
   },
   "outputs": [],
   "source": [
    "# # Latest Distribution Metric Values\n",
    "# df_distribution.tail()"
   ]
  },
  {
   "cell_type": "markdown",
   "metadata": {},
   "source": [
    "#### Fee Metric CSV-Files"
   ]
  },
  {
   "cell_type": "code",
   "execution_count": 53,
   "metadata": {
    "ExecuteTime": {
     "end_time": "2020-11-23T00:15:16.932714Z",
     "start_time": "2020-11-23T00:15:15.877Z"
    }
   },
   "outputs": [],
   "source": [
    "# List of Fee Features\n",
    "fees_feature_list = ['volume_sum', 'volume_mean', 'fee_ratio_multiple']\n",
    "\n",
    "# Counter to Differentiate between Data Frame Setup and Data Frame Extension\n",
    "counter=0\n",
    "\n",
    "# For Loop through all Features in the List\n",
    "for x in fees_feature_list:\n",
    "    \n",
    "    # Import Feature CSV-Files\n",
    "    df = pd.read_csv(\"Glassnode/{}.csv\".format(x), index_col='Date') #decimal=\".\"\n",
    "    \n",
    "    # Condition - Data Frame Set up or Data Frame Extension\n",
    "    if counter > 0:\n",
    "        \n",
    "        # Data Frame Extension - Inner Join\n",
    "        df_new = df_new.join(df, how='inner')\n",
    "        \n",
    "    else:\n",
    "        \n",
    "        # Data Frame Setup\n",
    "        df_new = df\n",
    "    \n",
    "    # Increase Counter\n",
    "    counter +=1\n",
    "\n",
    "# Store Data Frame Copy in Fees Data Frame    \n",
    "df_fees = df_new.copy()\n",
    "\n",
    "# Delete Original Data Frame\n",
    "del df_new\n",
    "\n",
    "# Change Data Type of Columns to Float\n",
    "for y in df_fees.columns:\n",
    "    try:\n",
    "        df_fees[\"{}\".format(y)] = df_fees[\"{}\".format(y)].str.replace(',','.')\n",
    "        df_fees[\"{}\".format(y)] = df_fees[\"{}\".format(y)].astype(float)\n",
    "    except:\n",
    "        pass"
   ]
  },
  {
   "cell_type": "code",
   "execution_count": 54,
   "metadata": {
    "ExecuteTime": {
     "end_time": "2020-11-23T00:15:16.934717Z",
     "start_time": "2020-11-23T00:15:15.883Z"
    }
   },
   "outputs": [
    {
     "data": {
      "text/html": [
       "<div>\n",
       "<style scoped>\n",
       "    .dataframe tbody tr th:only-of-type {\n",
       "        vertical-align: middle;\n",
       "    }\n",
       "\n",
       "    .dataframe tbody tr th {\n",
       "        vertical-align: top;\n",
       "    }\n",
       "\n",
       "    .dataframe thead th {\n",
       "        text-align: right;\n",
       "    }\n",
       "</style>\n",
       "<table border=\"1\" class=\"dataframe\">\n",
       "  <thead>\n",
       "    <tr style=\"text-align: right;\">\n",
       "      <th></th>\n",
       "      <th>fees/volume_sum</th>\n",
       "      <th>fees/volume_mean</th>\n",
       "      <th>fees/fee_ratio_multiple</th>\n",
       "    </tr>\n",
       "    <tr>\n",
       "      <th>Date</th>\n",
       "      <th></th>\n",
       "      <th></th>\n",
       "      <th></th>\n",
       "    </tr>\n",
       "  </thead>\n",
       "  <tbody>\n",
       "    <tr>\n",
       "      <th>2020-11-27</th>\n",
       "      <td>84.214949</td>\n",
       "      <td>0.000261</td>\n",
       "      <td>12.429087</td>\n",
       "    </tr>\n",
       "    <tr>\n",
       "      <th>2020-11-28</th>\n",
       "      <td>56.820280</td>\n",
       "      <td>0.000193</td>\n",
       "      <td>17.939374</td>\n",
       "    </tr>\n",
       "    <tr>\n",
       "      <th>2020-11-29</th>\n",
       "      <td>39.865948</td>\n",
       "      <td>0.000151</td>\n",
       "      <td>24.516310</td>\n",
       "    </tr>\n",
       "    <tr>\n",
       "      <th>2020-11-30</th>\n",
       "      <td>72.317829</td>\n",
       "      <td>0.000282</td>\n",
       "      <td>10.765918</td>\n",
       "    </tr>\n",
       "    <tr>\n",
       "      <th>2020-12-01</th>\n",
       "      <td>145.308383</td>\n",
       "      <td>0.000384</td>\n",
       "      <td>7.537820</td>\n",
       "    </tr>\n",
       "  </tbody>\n",
       "</table>\n",
       "</div>"
      ],
      "text/plain": [
       "            fees/volume_sum  fees/volume_mean  fees/fee_ratio_multiple\n",
       "Date                                                                  \n",
       "2020-11-27        84.214949          0.000261                12.429087\n",
       "2020-11-28        56.820280          0.000193                17.939374\n",
       "2020-11-29        39.865948          0.000151                24.516310\n",
       "2020-11-30        72.317829          0.000282                10.765918\n",
       "2020-12-01       145.308383          0.000384                 7.537820"
      ]
     },
     "execution_count": 54,
     "metadata": {},
     "output_type": "execute_result"
    }
   ],
   "source": [
    "# Latest Fee Metric Values\n",
    "df_fees.tail()"
   ]
  },
  {
   "cell_type": "markdown",
   "metadata": {},
   "source": [
    "#### UTXO Metric CSV-Files"
   ]
  },
  {
   "cell_type": "code",
   "execution_count": 55,
   "metadata": {
    "ExecuteTime": {
     "end_time": "2020-11-23T00:15:16.935713Z",
     "start_time": "2020-11-23T00:15:15.890Z"
    }
   },
   "outputs": [],
   "source": [
    "# List of UTXO Features\n",
    "utxo_feature_list = ['utxo_created_count', 'utxo_spent_count','utxo_created_value_sum', 'utxo_spent_value_sum', 'utxo_profit_relative', 'utxo_profit_count', 'utxo_loss_count']\n",
    "\n",
    "# Counter to Differentiate between Data Frame Setup and Data Frame Extension\n",
    "counter=0\n",
    "\n",
    "# For Loop through all Features in the List\n",
    "for x in utxo_feature_list:\n",
    "    \n",
    "    # Import Feature CSV-Files\n",
    "    df = pd.read_csv(\"Glassnode/{}.csv\".format(x), index_col='Date', ) #decimal=\".\"\n",
    "    \n",
    "    # Condition - Data Frame Set up or Data Frame Extension\n",
    "    if counter > 0:\n",
    "        \n",
    "        # Data Frame Extension - Inner Join\n",
    "        df_new = df_new.join(df, how='inner')\n",
    "    \n",
    "    else:\n",
    "        \n",
    "        # Data Frame Setup\n",
    "        df_new = df\n",
    "\n",
    "    # Increase Counter\n",
    "    counter +=1\n",
    "\n",
    "# Store Data Frame Copy in UTXO Data Frame\n",
    "df_utxo = df_new.copy()\n",
    "\n",
    "# Delete Original Data Frame\n",
    "del df_new\n",
    "\n",
    "# Change Data Type of Columns to Float\n",
    "for y in df_utxo.columns:\n",
    "    try:\n",
    "        df_utxo[\"{}\".format(y)] = df_utxo[\"{}\".format(y)].str.replace(',','.')\n",
    "        df_utxo[\"{}\".format(y)] = df_utxo[\"{}\".format(y)].astype(float)\n",
    "    except:\n",
    "        pass"
   ]
  },
  {
   "cell_type": "code",
   "execution_count": 56,
   "metadata": {
    "ExecuteTime": {
     "end_time": "2020-11-23T00:15:16.936717Z",
     "start_time": "2020-11-23T00:15:15.896Z"
    }
   },
   "outputs": [
    {
     "data": {
      "text/html": [
       "<div>\n",
       "<style scoped>\n",
       "    .dataframe tbody tr th:only-of-type {\n",
       "        vertical-align: middle;\n",
       "    }\n",
       "\n",
       "    .dataframe tbody tr th {\n",
       "        vertical-align: top;\n",
       "    }\n",
       "\n",
       "    .dataframe thead th {\n",
       "        text-align: right;\n",
       "    }\n",
       "</style>\n",
       "<table border=\"1\" class=\"dataframe\">\n",
       "  <thead>\n",
       "    <tr style=\"text-align: right;\">\n",
       "      <th></th>\n",
       "      <th>blockchain/utxo_created_count</th>\n",
       "      <th>blockchain/utxo_spent_count</th>\n",
       "      <th>blockchain/utxo_created_value_sum</th>\n",
       "      <th>blockchain/utxo_spent_value_sum</th>\n",
       "      <th>blockchain/utxo_profit_relative</th>\n",
       "      <th>blockchain/utxo_profit_count</th>\n",
       "      <th>blockchain/utxo_loss_count</th>\n",
       "    </tr>\n",
       "    <tr>\n",
       "      <th>Date</th>\n",
       "      <th></th>\n",
       "      <th></th>\n",
       "      <th></th>\n",
       "      <th></th>\n",
       "      <th></th>\n",
       "      <th></th>\n",
       "      <th></th>\n",
       "    </tr>\n",
       "  </thead>\n",
       "  <tbody>\n",
       "    <tr>\n",
       "      <th>2020-11-27</th>\n",
       "      <td>919277.000000</td>\n",
       "      <td>956335.000000</td>\n",
       "      <td>1857757.436596</td>\n",
       "      <td>1856794.936596</td>\n",
       "      <td>0.976033</td>\n",
       "      <td>112351600.000000</td>\n",
       "      <td>2758813.000000</td>\n",
       "    </tr>\n",
       "    <tr>\n",
       "      <th>2020-11-28</th>\n",
       "      <td>823749.000000</td>\n",
       "      <td>955855.000000</td>\n",
       "      <td>1297738.598791</td>\n",
       "      <td>1296776.098791</td>\n",
       "      <td>0.981385</td>\n",
       "      <td>112838038.000000</td>\n",
       "      <td>2140269.000000</td>\n",
       "    </tr>\n",
       "    <tr>\n",
       "      <th>2020-11-29</th>\n",
       "      <td>747296.000000</td>\n",
       "      <td>769819.000000</td>\n",
       "      <td>1275997.458033</td>\n",
       "      <td>1275059.958033</td>\n",
       "      <td>0.986188</td>\n",
       "      <td>113368033.000000</td>\n",
       "      <td>1585703.000000</td>\n",
       "    </tr>\n",
       "    <tr>\n",
       "      <th>2020-11-30</th>\n",
       "      <td>772603.000000</td>\n",
       "      <td>696986.000000</td>\n",
       "      <td>2254249.723763</td>\n",
       "      <td>2253543.473763</td>\n",
       "      <td>0.999709</td>\n",
       "      <td>114997966.000000</td>\n",
       "      <td>10627.000000</td>\n",
       "    </tr>\n",
       "    <tr>\n",
       "      <th>2020-12-01</th>\n",
       "      <td>1056559.000000</td>\n",
       "      <td>905405.000000</td>\n",
       "      <td>2099814.428736</td>\n",
       "      <td>2098864.428736</td>\n",
       "      <td>0.990181</td>\n",
       "      <td>114051582.000000</td>\n",
       "      <td>1130973.000000</td>\n",
       "    </tr>\n",
       "  </tbody>\n",
       "</table>\n",
       "</div>"
      ],
      "text/plain": [
       "            blockchain/utxo_created_count  blockchain/utxo_spent_count  \\\n",
       "Date                                                                     \n",
       "2020-11-27                  919277.000000                956335.000000   \n",
       "2020-11-28                  823749.000000                955855.000000   \n",
       "2020-11-29                  747296.000000                769819.000000   \n",
       "2020-11-30                  772603.000000                696986.000000   \n",
       "2020-12-01                 1056559.000000                905405.000000   \n",
       "\n",
       "            blockchain/utxo_created_value_sum  \\\n",
       "Date                                            \n",
       "2020-11-27                     1857757.436596   \n",
       "2020-11-28                     1297738.598791   \n",
       "2020-11-29                     1275997.458033   \n",
       "2020-11-30                     2254249.723763   \n",
       "2020-12-01                     2099814.428736   \n",
       "\n",
       "            blockchain/utxo_spent_value_sum  blockchain/utxo_profit_relative  \\\n",
       "Date                                                                           \n",
       "2020-11-27                   1856794.936596                         0.976033   \n",
       "2020-11-28                   1296776.098791                         0.981385   \n",
       "2020-11-29                   1275059.958033                         0.986188   \n",
       "2020-11-30                   2253543.473763                         0.999709   \n",
       "2020-12-01                   2098864.428736                         0.990181   \n",
       "\n",
       "            blockchain/utxo_profit_count  blockchain/utxo_loss_count  \n",
       "Date                                                                  \n",
       "2020-11-27              112351600.000000              2758813.000000  \n",
       "2020-11-28              112838038.000000              2140269.000000  \n",
       "2020-11-29              113368033.000000              1585703.000000  \n",
       "2020-11-30              114997966.000000                10627.000000  \n",
       "2020-12-01              114051582.000000              1130973.000000  "
      ]
     },
     "execution_count": 56,
     "metadata": {},
     "output_type": "execute_result"
    }
   ],
   "source": [
    "# Latest UTXO Metric Values\n",
    "df_utxo.tail()"
   ]
  },
  {
   "cell_type": "markdown",
   "metadata": {},
   "source": [
    "#### Supply Metric CSV-Files"
   ]
  },
  {
   "cell_type": "code",
   "execution_count": 57,
   "metadata": {
    "ExecuteTime": {
     "end_time": "2020-11-23T00:15:16.937713Z",
     "start_time": "2020-11-23T00:15:15.904Z"
    }
   },
   "outputs": [],
   "source": [
    "# List of Supply Features\n",
    "supply_feature_list = ['current','profit_relative', 'profit_sum', 'loss_sum', 'active_more_1y_percent', 'active_more_2y_percent', 'active_more_3y_percent', 'active_more_5y_percent', 'active_24h', 'active_1d_1w', 'active_1w_1m', 'active_1m_3m', 'active_3m_6m', 'active_6m_12m', 'active_1y_2y', 'active_2y_3y', 'active_3y_5y', 'active_5y_7y', 'active_7y_10y', 'active_more_10y', 'issued', 'inflation_rate']\n",
    "\n",
    "# Counter to Differentiate between Data Frame Setup and Data Frame Extension\n",
    "counter=0\n",
    "\n",
    "# For Loop through all Features in the List\n",
    "for x in supply_feature_list:\n",
    "    \n",
    "    # Import Feature CSV-Files\n",
    "    df = pd.read_csv(\"Glassnode/{}.csv\".format(x), index_col='Date', ) #decimal=\".\"\n",
    "    \n",
    "    # Condition - Data Frame Set up or Data Frame Extension\n",
    "    if counter > 0:\n",
    "        \n",
    "        # Data Frame Extension - Inner Join\n",
    "        df_new = df_new.join(df, how='inner')\n",
    "    \n",
    "    else:\n",
    "        \n",
    "        # Data Frame Setup\n",
    "        df_new = df\n",
    "    \n",
    "    # Increase Counter\n",
    "    counter +=1\n",
    "\n",
    "# Store Data Frame Copy in Supply Data Frame    \n",
    "df_supply = df_new.copy()\n",
    "\n",
    "# Delete Original Data Frame\n",
    "del df_new\n",
    "\n",
    "# Change Data Type of Columns to Float\n",
    "for y in df_supply.columns:\n",
    "    try:\n",
    "        df_supply[\"{}\".format(y)] = df_supply[\"{}\".format(y)].str.replace(',','.')\n",
    "        df_supply[\"{}\".format(y)] = df_supply[\"{}\".format(y)].astype(float)\n",
    "    except:\n",
    "        pass"
   ]
  },
  {
   "cell_type": "code",
   "execution_count": 58,
   "metadata": {
    "ExecuteTime": {
     "end_time": "2020-11-23T00:15:16.939721Z",
     "start_time": "2020-11-23T00:15:15.911Z"
    }
   },
   "outputs": [
    {
     "data": {
      "text/html": [
       "<div>\n",
       "<style scoped>\n",
       "    .dataframe tbody tr th:only-of-type {\n",
       "        vertical-align: middle;\n",
       "    }\n",
       "\n",
       "    .dataframe tbody tr th {\n",
       "        vertical-align: top;\n",
       "    }\n",
       "\n",
       "    .dataframe thead th {\n",
       "        text-align: right;\n",
       "    }\n",
       "</style>\n",
       "<table border=\"1\" class=\"dataframe\">\n",
       "  <thead>\n",
       "    <tr style=\"text-align: right;\">\n",
       "      <th></th>\n",
       "      <th>supply/current</th>\n",
       "      <th>supply/profit_relative</th>\n",
       "      <th>supply/profit_sum</th>\n",
       "      <th>supply/loss_sum</th>\n",
       "      <th>supply/active_more_1y_percent</th>\n",
       "      <th>supply/active_more_2y_percent</th>\n",
       "      <th>supply/active_more_3y_percent</th>\n",
       "      <th>supply/active_more_5y_percent</th>\n",
       "      <th>supply/active_24h</th>\n",
       "      <th>supply/active_1d_1w</th>\n",
       "      <th>...</th>\n",
       "      <th>supply/active_3m_6m</th>\n",
       "      <th>supply/active_6m_12m</th>\n",
       "      <th>supply/active_1y_2y</th>\n",
       "      <th>supply/active_2y_3y</th>\n",
       "      <th>supply/active_3y_5y</th>\n",
       "      <th>supply/active_5y_7y</th>\n",
       "      <th>supply/active_7y_10y</th>\n",
       "      <th>supply/active_more_10y</th>\n",
       "      <th>supply/issued</th>\n",
       "      <th>supply/inflation_rate</th>\n",
       "    </tr>\n",
       "    <tr>\n",
       "      <th>Date</th>\n",
       "      <th></th>\n",
       "      <th></th>\n",
       "      <th></th>\n",
       "      <th></th>\n",
       "      <th></th>\n",
       "      <th></th>\n",
       "      <th></th>\n",
       "      <th></th>\n",
       "      <th></th>\n",
       "      <th></th>\n",
       "      <th></th>\n",
       "      <th></th>\n",
       "      <th></th>\n",
       "      <th></th>\n",
       "      <th></th>\n",
       "      <th></th>\n",
       "      <th></th>\n",
       "      <th></th>\n",
       "      <th></th>\n",
       "      <th></th>\n",
       "      <th></th>\n",
       "    </tr>\n",
       "  </thead>\n",
       "  <tbody>\n",
       "    <tr>\n",
       "      <th>2020-11-27</th>\n",
       "      <td>18556137.500000</td>\n",
       "      <td>0.937351</td>\n",
       "      <td>17381451.070415</td>\n",
       "      <td>1161716.025083</td>\n",
       "      <td>0.614758</td>\n",
       "      <td>0.437489</td>\n",
       "      <td>0.326283</td>\n",
       "      <td>0.218724</td>\n",
       "      <td>288809.431831</td>\n",
       "      <td>588750.788106</td>\n",
       "      <td>...</td>\n",
       "      <td>1382362.869021</td>\n",
       "      <td>1790632.855051</td>\n",
       "      <td>3289432.163467</td>\n",
       "      <td>2063541.161777</td>\n",
       "      <td>1995883.526556</td>\n",
       "      <td>871085.999917</td>\n",
       "      <td>1348826.206163</td>\n",
       "      <td>1838762.958235</td>\n",
       "      <td>962.500000</td>\n",
       "      <td>0.019112</td>\n",
       "    </tr>\n",
       "    <tr>\n",
       "      <th>2020-11-28</th>\n",
       "      <td>18557100.000000</td>\n",
       "      <td>0.950305</td>\n",
       "      <td>17622583.204449</td>\n",
       "      <td>921546.391049</td>\n",
       "      <td>0.614994</td>\n",
       "      <td>0.437468</td>\n",
       "      <td>0.327013</td>\n",
       "      <td>0.218726</td>\n",
       "      <td>145627.222835</td>\n",
       "      <td>689281.380092</td>\n",
       "      <td>...</td>\n",
       "      <td>1349269.198003</td>\n",
       "      <td>1822854.180325</td>\n",
       "      <td>3294375.581548</td>\n",
       "      <td>2049727.006793</td>\n",
       "      <td>2009493.240743</td>\n",
       "      <td>869446.515325</td>\n",
       "      <td>1350121.766577</td>\n",
       "      <td>1839345.308235</td>\n",
       "      <td>962.500000</td>\n",
       "      <td>0.019111</td>\n",
       "    </tr>\n",
       "    <tr>\n",
       "      <th>2020-11-29</th>\n",
       "      <td>18558037.500000</td>\n",
       "      <td>0.964273</td>\n",
       "      <td>17882503.887525</td>\n",
       "      <td>660647.673520</td>\n",
       "      <td>0.614956</td>\n",
       "      <td>0.440583</td>\n",
       "      <td>0.327322</td>\n",
       "      <td>0.218766</td>\n",
       "      <td>148654.673336</td>\n",
       "      <td>690785.098405</td>\n",
       "      <td>...</td>\n",
       "      <td>1356692.145072</td>\n",
       "      <td>1834935.002837</td>\n",
       "      <td>3236015.187847</td>\n",
       "      <td>2101911.805385</td>\n",
       "      <td>2014579.020223</td>\n",
       "      <td>868768.766887</td>\n",
       "      <td>1350999.196783</td>\n",
       "      <td>1840098.478235</td>\n",
       "      <td>937.500000</td>\n",
       "      <td>0.018609</td>\n",
       "    </tr>\n",
       "    <tr>\n",
       "      <th>2020-11-30</th>\n",
       "      <td>18558743.750000</td>\n",
       "      <td>0.998003</td>\n",
       "      <td>18508745.208329</td>\n",
       "      <td>5332.865657</td>\n",
       "      <td>0.614280</td>\n",
       "      <td>0.443018</td>\n",
       "      <td>0.327229</td>\n",
       "      <td>0.218765</td>\n",
       "      <td>344613.631284</td>\n",
       "      <td>544835.838108</td>\n",
       "      <td>...</td>\n",
       "      <td>1363027.165516</td>\n",
       "      <td>1830493.660165</td>\n",
       "      <td>3178409.687079</td>\n",
       "      <td>2148894.487112</td>\n",
       "      <td>2012952.458750</td>\n",
       "      <td>866940.785670</td>\n",
       "      <td>1351921.446147</td>\n",
       "      <td>1841150.428235</td>\n",
       "      <td>706.250000</td>\n",
       "      <td>0.013987</td>\n",
       "    </tr>\n",
       "    <tr>\n",
       "      <th>2020-12-01</th>\n",
       "      <td>18559693.750000</td>\n",
       "      <td>0.969278</td>\n",
       "      <td>17976928.385263</td>\n",
       "      <td>569794.960235</td>\n",
       "      <td>0.613753</td>\n",
       "      <td>0.442565</td>\n",
       "      <td>0.327677</td>\n",
       "      <td>0.218669</td>\n",
       "      <td>316734.595710</td>\n",
       "      <td>574383.081195</td>\n",
       "      <td>...</td>\n",
       "      <td>1363545.050144</td>\n",
       "      <td>1827059.564973</td>\n",
       "      <td>3177203.219007</td>\n",
       "      <td>2132277.920779</td>\n",
       "      <td>2023160.923652</td>\n",
       "      <td>862263.392576</td>\n",
       "      <td>1354008.926480</td>\n",
       "      <td>1842160.318235</td>\n",
       "      <td>950.000000</td>\n",
       "      <td>0.018858</td>\n",
       "    </tr>\n",
       "  </tbody>\n",
       "</table>\n",
       "<p>5 rows × 22 columns</p>\n",
       "</div>"
      ],
      "text/plain": [
       "            supply/current  supply/profit_relative  supply/profit_sum  \\\n",
       "Date                                                                    \n",
       "2020-11-27 18556137.500000                0.937351    17381451.070415   \n",
       "2020-11-28 18557100.000000                0.950305    17622583.204449   \n",
       "2020-11-29 18558037.500000                0.964273    17882503.887525   \n",
       "2020-11-30 18558743.750000                0.998003    18508745.208329   \n",
       "2020-12-01 18559693.750000                0.969278    17976928.385263   \n",
       "\n",
       "            supply/loss_sum  supply/active_more_1y_percent  \\\n",
       "Date                                                         \n",
       "2020-11-27   1161716.025083                       0.614758   \n",
       "2020-11-28    921546.391049                       0.614994   \n",
       "2020-11-29    660647.673520                       0.614956   \n",
       "2020-11-30      5332.865657                       0.614280   \n",
       "2020-12-01    569794.960235                       0.613753   \n",
       "\n",
       "            supply/active_more_2y_percent  supply/active_more_3y_percent  \\\n",
       "Date                                                                       \n",
       "2020-11-27                       0.437489                       0.326283   \n",
       "2020-11-28                       0.437468                       0.327013   \n",
       "2020-11-29                       0.440583                       0.327322   \n",
       "2020-11-30                       0.443018                       0.327229   \n",
       "2020-12-01                       0.442565                       0.327677   \n",
       "\n",
       "            supply/active_more_5y_percent  supply/active_24h  \\\n",
       "Date                                                           \n",
       "2020-11-27                       0.218724      288809.431831   \n",
       "2020-11-28                       0.218726      145627.222835   \n",
       "2020-11-29                       0.218766      148654.673336   \n",
       "2020-11-30                       0.218765      344613.631284   \n",
       "2020-12-01                       0.218669      316734.595710   \n",
       "\n",
       "            supply/active_1d_1w  ...  supply/active_3m_6m  \\\n",
       "Date                             ...                        \n",
       "2020-11-27        588750.788106  ...       1382362.869021   \n",
       "2020-11-28        689281.380092  ...       1349269.198003   \n",
       "2020-11-29        690785.098405  ...       1356692.145072   \n",
       "2020-11-30        544835.838108  ...       1363027.165516   \n",
       "2020-12-01        574383.081195  ...       1363545.050144   \n",
       "\n",
       "            supply/active_6m_12m  supply/active_1y_2y  supply/active_2y_3y  \\\n",
       "Date                                                                         \n",
       "2020-11-27        1790632.855051       3289432.163467       2063541.161777   \n",
       "2020-11-28        1822854.180325       3294375.581548       2049727.006793   \n",
       "2020-11-29        1834935.002837       3236015.187847       2101911.805385   \n",
       "2020-11-30        1830493.660165       3178409.687079       2148894.487112   \n",
       "2020-12-01        1827059.564973       3177203.219007       2132277.920779   \n",
       "\n",
       "            supply/active_3y_5y  supply/active_5y_7y  supply/active_7y_10y  \\\n",
       "Date                                                                         \n",
       "2020-11-27       1995883.526556        871085.999917        1348826.206163   \n",
       "2020-11-28       2009493.240743        869446.515325        1350121.766577   \n",
       "2020-11-29       2014579.020223        868768.766887        1350999.196783   \n",
       "2020-11-30       2012952.458750        866940.785670        1351921.446147   \n",
       "2020-12-01       2023160.923652        862263.392576        1354008.926480   \n",
       "\n",
       "            supply/active_more_10y  supply/issued  supply/inflation_rate  \n",
       "Date                                                                      \n",
       "2020-11-27          1838762.958235     962.500000               0.019112  \n",
       "2020-11-28          1839345.308235     962.500000               0.019111  \n",
       "2020-11-29          1840098.478235     937.500000               0.018609  \n",
       "2020-11-30          1841150.428235     706.250000               0.013987  \n",
       "2020-12-01          1842160.318235     950.000000               0.018858  \n",
       "\n",
       "[5 rows x 22 columns]"
      ]
     },
     "execution_count": 58,
     "metadata": {},
     "output_type": "execute_result"
    }
   ],
   "source": [
    "# Latest Supply Metric Values\n",
    "df_supply.tail()"
   ]
  },
  {
   "cell_type": "markdown",
   "metadata": {},
   "source": [
    "#### Transaction Metric CSV-Files"
   ]
  },
  {
   "cell_type": "code",
   "execution_count": 59,
   "metadata": {
    "ExecuteTime": {
     "end_time": "2020-11-23T00:15:16.940718Z",
     "start_time": "2020-11-23T00:15:15.917Z"
    }
   },
   "outputs": [],
   "source": [
    "# List of Transaction features\n",
    "transaction_feature_list = ['count', 'size_sum','transfers_volume_sum', 'transfers_volume_adjusted_sum']\n",
    "\n",
    "# Counter to Differentiate between Data Frame Setup and Data Frame Extension\n",
    "counter=0\n",
    "\n",
    "# For Loop through all Features in the List\n",
    "for x in transaction_feature_list:\n",
    "    \n",
    "    # Import Feature CSV-Files\n",
    "    df = pd.read_csv(\"Glassnode/{}.csv\".format(x), index_col='Date', ) #decimal=\".\"\n",
    "    \n",
    "    # Condition - Data Frame Set up or Data Frame Extension\n",
    "    if counter > 0:\n",
    "        \n",
    "        # Data Frame Extension - Inner Join\n",
    "        df_new = df_new.join(df, how='inner')\n",
    "    \n",
    "    else:\n",
    "        \n",
    "        # Data Frame Setup\n",
    "        df_new = df\n",
    "    \n",
    "    # Increase Counter\n",
    "    counter +=1\n",
    "\n",
    "# Store Data Frame Copy in Transaction Data Frame\n",
    "df_transaction = df_new.copy()\n",
    "\n",
    "# Delete Original Data Frame\n",
    "del df_new\n",
    "\n",
    "# Change Data Type of Columns to Float\n",
    "for y in df_transaction.columns:\n",
    "    try:\n",
    "        df_transaction[\"{}\".format(y)] = df_transaction[\"{}\".format(y)].str.replace(',','.')\n",
    "        df_transaction[\"{}\".format(y)] = df_transaction[\"{}\".format(y)].astype(float)\n",
    "    except:\n",
    "        pass"
   ]
  },
  {
   "cell_type": "code",
   "execution_count": 60,
   "metadata": {
    "ExecuteTime": {
     "end_time": "2020-11-23T00:15:16.941715Z",
     "start_time": "2020-11-23T00:15:15.923Z"
    }
   },
   "outputs": [
    {
     "data": {
      "text/html": [
       "<div>\n",
       "<style scoped>\n",
       "    .dataframe tbody tr th:only-of-type {\n",
       "        vertical-align: middle;\n",
       "    }\n",
       "\n",
       "    .dataframe tbody tr th {\n",
       "        vertical-align: top;\n",
       "    }\n",
       "\n",
       "    .dataframe thead th {\n",
       "        text-align: right;\n",
       "    }\n",
       "</style>\n",
       "<table border=\"1\" class=\"dataframe\">\n",
       "  <thead>\n",
       "    <tr style=\"text-align: right;\">\n",
       "      <th></th>\n",
       "      <th>transactions/count</th>\n",
       "      <th>transactions/size_sum</th>\n",
       "      <th>transactions/transfers_volume_sum</th>\n",
       "      <th>transactions/transfers_volume_adjusted_sum</th>\n",
       "    </tr>\n",
       "    <tr>\n",
       "      <th>Date</th>\n",
       "      <th></th>\n",
       "      <th></th>\n",
       "      <th></th>\n",
       "      <th></th>\n",
       "    </tr>\n",
       "  </thead>\n",
       "  <tbody>\n",
       "    <tr>\n",
       "      <th>2020-11-27</th>\n",
       "      <td>322291.000000</td>\n",
       "      <td>197852505.000000</td>\n",
       "      <td>1856710.721646</td>\n",
       "      <td>660956.816131</td>\n",
       "    </tr>\n",
       "    <tr>\n",
       "      <th>2020-11-28</th>\n",
       "      <td>293795.000000</td>\n",
       "      <td>203263899.000000</td>\n",
       "      <td>1296719.278511</td>\n",
       "      <td>342520.511352</td>\n",
       "    </tr>\n",
       "    <tr>\n",
       "      <th>2020-11-29</th>\n",
       "      <td>263423.000000</td>\n",
       "      <td>165665191.000000</td>\n",
       "      <td>1275020.092085</td>\n",
       "      <td>413188.447311</td>\n",
       "    </tr>\n",
       "    <tr>\n",
       "      <th>2020-11-30</th>\n",
       "      <td>256438.000000</td>\n",
       "      <td>148946689.000000</td>\n",
       "      <td>2253471.155935</td>\n",
       "      <td>641130.200126</td>\n",
       "    </tr>\n",
       "    <tr>\n",
       "      <th>2020-12-01</th>\n",
       "      <td>377916.000000</td>\n",
       "      <td>194069127.000000</td>\n",
       "      <td>2098719.120353</td>\n",
       "      <td>777037.467005</td>\n",
       "    </tr>\n",
       "  </tbody>\n",
       "</table>\n",
       "</div>"
      ],
      "text/plain": [
       "            transactions/count  transactions/size_sum  \\\n",
       "Date                                                    \n",
       "2020-11-27       322291.000000       197852505.000000   \n",
       "2020-11-28       293795.000000       203263899.000000   \n",
       "2020-11-29       263423.000000       165665191.000000   \n",
       "2020-11-30       256438.000000       148946689.000000   \n",
       "2020-12-01       377916.000000       194069127.000000   \n",
       "\n",
       "            transactions/transfers_volume_sum  \\\n",
       "Date                                            \n",
       "2020-11-27                     1856710.721646   \n",
       "2020-11-28                     1296719.278511   \n",
       "2020-11-29                     1275020.092085   \n",
       "2020-11-30                     2253471.155935   \n",
       "2020-12-01                     2098719.120353   \n",
       "\n",
       "            transactions/transfers_volume_adjusted_sum  \n",
       "Date                                                    \n",
       "2020-11-27                               660956.816131  \n",
       "2020-11-28                               342520.511352  \n",
       "2020-11-29                               413188.447311  \n",
       "2020-11-30                               641130.200126  \n",
       "2020-12-01                               777037.467005  "
      ]
     },
     "execution_count": 60,
     "metadata": {},
     "output_type": "execute_result"
    }
   ],
   "source": [
    "# Latest Transaction Metric Values\n",
    "df_transaction.tail()"
   ]
  },
  {
   "cell_type": "markdown",
   "metadata": {},
   "source": [
    "#### Exchange Metrics CSV-Files"
   ]
  },
  {
   "cell_type": "code",
   "execution_count": 61,
   "metadata": {
    "ExecuteTime": {
     "end_time": "2020-11-23T00:15:16.942719Z",
     "start_time": "2020-11-23T00:15:15.930Z"
    }
   },
   "outputs": [],
   "source": [
    "# # List of Exchange Features\n",
    "# exchange_feature_list = ['transfers_volume_to_exchanges_sum', 'transfers_volume_from_exchanges_sum', 'transfers_to_exchanges_count', \n",
    "#                          'transfers_from_exchanges_count', 'balance_exchanges', 'transfers_volume_exchanges_net']\n",
    "\n",
    "# # Counter to Differentiate between Data Frame Setup and Data Frame Extension\n",
    "# counter=0\n",
    "\n",
    "# # For Loop through all Features in the List\n",
    "# for x in exchange_feature_list:\n",
    "    \n",
    "#     # Import Feature CSV-Files\n",
    "#     df = pd.read_csv(\"Glassnode/{}.csv\".format(x), index_col='Date', ) #decimal=\".\"\n",
    "    \n",
    "#     # Condition - Data Frame Set up or Data Frame Extension\n",
    "#     if counter > 0:\n",
    "        \n",
    "#         # Data Frame Extension - Inner Join\n",
    "#         df_new = df_new.join(df, how='inner')\n",
    "    \n",
    "#     else:\n",
    "        \n",
    "#         # Data Frame Setup\n",
    "#         df_new = df\n",
    "    \n",
    "#     # Increase Counter\n",
    "#     counter +=1\n",
    "\n",
    "# # Store Data Frame Copy in Exchange Data Frame    \n",
    "# df_exchange = df_new.copy()\n",
    "\n",
    "# # Delete Original Data Frame\n",
    "# del df_new\n",
    "\n",
    "# # Change Data Type of Columns to Float\n",
    "# for y in df_exchange.columns:\n",
    "#     try:\n",
    "#         df_exchange[\"{}\".format(y)] = df_exchange[\"{}\".format(y)].str.replace(',','.')\n",
    "#         df_exchange[\"{}\".format(y)] = df_exchange[\"{}\".format(y)].astype(float)\n",
    "#     except:\n",
    "#         pass"
   ]
  },
  {
   "cell_type": "code",
   "execution_count": 62,
   "metadata": {
    "ExecuteTime": {
     "end_time": "2020-11-23T00:15:16.943740Z",
     "start_time": "2020-11-23T00:15:15.935Z"
    }
   },
   "outputs": [],
   "source": [
    "# # Latest Exchange Metric Values\n",
    "# df_exchange.tail()"
   ]
  },
  {
   "cell_type": "markdown",
   "metadata": {},
   "source": [
    "#### Indicator-1 Metric CSV-Files"
   ]
  },
  {
   "cell_type": "code",
   "execution_count": 63,
   "metadata": {
    "ExecuteTime": {
     "end_time": "2020-11-23T00:15:16.945718Z",
     "start_time": "2020-11-23T00:15:15.942Z"
    }
   },
   "outputs": [],
   "source": [
    "# List of Indicator-1 features\n",
    "indicator1_feature_list = ['sopr_adjusted', 'nvt', 'velocity', 'cdd','reserve_risk', 'average_dormancy', 'liveliness'] \n",
    "\n",
    "# Counter to Differentiate between Data Frame Setup and Data Frame Extension\n",
    "counter=0\n",
    "\n",
    "# For Loop through all Features in the List\n",
    "for x in indicator1_feature_list:\n",
    "    \n",
    "    # Import Feature CSV-Files\n",
    "    df = pd.read_csv(\"Glassnode/{}.csv\".format(x), index_col='Date', ) #decimal=\".\"\n",
    "    \n",
    "    # Condition - Data Frame Set up or Data Frame Extension\n",
    "    if counter > 0:\n",
    "        \n",
    "        # Data Frame Extension - Inner Join\n",
    "        df_new = df_new.join(df, how='inner')\n",
    "    \n",
    "    else:\n",
    "        \n",
    "        # Data Frame Setup\n",
    "        df_new = df\n",
    "    \n",
    "    # Increase Counter\n",
    "    counter +=1\n",
    "\n",
    "# Store Data Frame Copy in Indicator-1 Data Frame    \n",
    "df_indicator1 = df_new.copy()\n",
    "\n",
    "# Delete Original Data Frame\n",
    "del df_new\n",
    "\n",
    "# Change Data Type of Columns to Float\n",
    "for y in df_indicator1.columns:\n",
    "    try:\n",
    "        df_indicator1[\"{}\".format(y)] = df_indicator1[\"{}\".format(y)].str.replace(',','.')\n",
    "        df_indicator1[\"{}\".format(y)] = df_indicator1[\"{}\".format(y)].astype(float)\n",
    "    except:\n",
    "        pass"
   ]
  },
  {
   "cell_type": "code",
   "execution_count": 64,
   "metadata": {
    "ExecuteTime": {
     "end_time": "2020-11-23T00:15:16.946718Z",
     "start_time": "2020-11-23T00:15:15.949Z"
    }
   },
   "outputs": [
    {
     "data": {
      "text/html": [
       "<div>\n",
       "<style scoped>\n",
       "    .dataframe tbody tr th:only-of-type {\n",
       "        vertical-align: middle;\n",
       "    }\n",
       "\n",
       "    .dataframe tbody tr th {\n",
       "        vertical-align: top;\n",
       "    }\n",
       "\n",
       "    .dataframe thead th {\n",
       "        text-align: right;\n",
       "    }\n",
       "</style>\n",
       "<table border=\"1\" class=\"dataframe\">\n",
       "  <thead>\n",
       "    <tr style=\"text-align: right;\">\n",
       "      <th></th>\n",
       "      <th>indicators/sopr_adjusted</th>\n",
       "      <th>indicators/nvt</th>\n",
       "      <th>indicators/velocity</th>\n",
       "      <th>indicators/cdd</th>\n",
       "      <th>indicators/reserve_risk</th>\n",
       "      <th>indicators/average_dormancy</th>\n",
       "      <th>indicators/liveliness</th>\n",
       "    </tr>\n",
       "    <tr>\n",
       "      <th>Date</th>\n",
       "      <th></th>\n",
       "      <th></th>\n",
       "      <th></th>\n",
       "      <th></th>\n",
       "      <th></th>\n",
       "      <th></th>\n",
       "      <th></th>\n",
       "    </tr>\n",
       "  </thead>\n",
       "  <tbody>\n",
       "    <tr>\n",
       "      <th>2020-11-27</th>\n",
       "      <td>1.029315</td>\n",
       "      <td>28.074659</td>\n",
       "      <td>0.035619</td>\n",
       "      <td>22067884.439785</td>\n",
       "      <td>0.002742</td>\n",
       "      <td>33.387786</td>\n",
       "      <td>0.603623</td>\n",
       "    </tr>\n",
       "    <tr>\n",
       "      <th>2020-11-28</th>\n",
       "      <td>1.026012</td>\n",
       "      <td>54.178069</td>\n",
       "      <td>0.018458</td>\n",
       "      <td>5768075.198675</td>\n",
       "      <td>0.002789</td>\n",
       "      <td>16.840087</td>\n",
       "      <td>0.603646</td>\n",
       "    </tr>\n",
       "    <tr>\n",
       "      <th>2020-11-29</th>\n",
       "      <td>1.037644</td>\n",
       "      <td>44.914222</td>\n",
       "      <td>0.022265</td>\n",
       "      <td>9024622.077505</td>\n",
       "      <td>0.002895</td>\n",
       "      <td>21.841419</td>\n",
       "      <td>0.603591</td>\n",
       "    </tr>\n",
       "    <tr>\n",
       "      <th>2020-11-30</th>\n",
       "      <td>1.086601</td>\n",
       "      <td>28.946919</td>\n",
       "      <td>0.034546</td>\n",
       "      <td>23587199.175718</td>\n",
       "      <td>0.003033</td>\n",
       "      <td>36.790030</td>\n",
       "      <td>0.603680</td>\n",
       "    </tr>\n",
       "    <tr>\n",
       "      <th>2020-12-01</th>\n",
       "      <td>1.066294</td>\n",
       "      <td>23.885198</td>\n",
       "      <td>0.041867</td>\n",
       "      <td>23639692.647496</td>\n",
       "      <td>0.003093</td>\n",
       "      <td>30.422848</td>\n",
       "      <td>0.604011</td>\n",
       "    </tr>\n",
       "  </tbody>\n",
       "</table>\n",
       "</div>"
      ],
      "text/plain": [
       "            indicators/sopr_adjusted  indicators/nvt  indicators/velocity  \\\n",
       "Date                                                                        \n",
       "2020-11-27                  1.029315       28.074659             0.035619   \n",
       "2020-11-28                  1.026012       54.178069             0.018458   \n",
       "2020-11-29                  1.037644       44.914222             0.022265   \n",
       "2020-11-30                  1.086601       28.946919             0.034546   \n",
       "2020-12-01                  1.066294       23.885198             0.041867   \n",
       "\n",
       "            indicators/cdd  indicators/reserve_risk  \\\n",
       "Date                                                  \n",
       "2020-11-27 22067884.439785                 0.002742   \n",
       "2020-11-28  5768075.198675                 0.002789   \n",
       "2020-11-29  9024622.077505                 0.002895   \n",
       "2020-11-30 23587199.175718                 0.003033   \n",
       "2020-12-01 23639692.647496                 0.003093   \n",
       "\n",
       "            indicators/average_dormancy  indicators/liveliness  \n",
       "Date                                                            \n",
       "2020-11-27                    33.387786               0.603623  \n",
       "2020-11-28                    16.840087               0.603646  \n",
       "2020-11-29                    21.841419               0.603591  \n",
       "2020-11-30                    36.790030               0.603680  \n",
       "2020-12-01                    30.422848               0.604011  "
      ]
     },
     "execution_count": 64,
     "metadata": {},
     "output_type": "execute_result"
    }
   ],
   "source": [
    "# Latest Indicator-1 Metric Values\n",
    "df_indicator1.tail()"
   ]
  },
  {
   "cell_type": "markdown",
   "metadata": {},
   "source": [
    "#### Indicator-2 Metrics CSV-Files"
   ]
  },
  {
   "cell_type": "code",
   "execution_count": 65,
   "metadata": {
    "ExecuteTime": {
     "end_time": "2020-11-23T00:15:16.947715Z",
     "start_time": "2020-11-23T00:15:15.955Z"
    }
   },
   "outputs": [],
   "source": [
    "# List of Indicator-2 Features\n",
    "indicator2_feature_list = ['asol', 'sol_1h', 'sol_1h_24h', 'sol_1d_1w','sol_1w_1m', 'sol_1m_3m', 'sol_3m_6m', 'sol_6m_12m','sol_1y_2y', 'sol_2y_3y', 'sol_3y_5y', 'sol_5y_7y', 'sol_7y_10y']\n",
    "\n",
    "# Counter to Differentiate between Data Frame Setup and Data Frame Extension\n",
    "counter=0\n",
    "\n",
    "# For Loop through all Features in the List\n",
    "for x in indicator2_feature_list:\n",
    "    \n",
    "    # Import Feature CSV-Files\n",
    "    df = pd.read_csv(\"Glassnode/{}.csv\".format(x), index_col='Date')\n",
    "    \n",
    "    # Condition - Data Frame Set up or Data Frame Extension\n",
    "    if counter > 0:\n",
    "        \n",
    "        # Data Frame Extension - Inner Join\n",
    "        df_new = df_new.join(df, how='inner')\n",
    "    \n",
    "    else:\n",
    "        \n",
    "        # Data Frame Setup\n",
    "        df_new = df\n",
    "    \n",
    "    # Increase Counter\n",
    "    counter +=1\n",
    "\n",
    "# Store Data Frame Copy in Indicator-2 Data Frame\n",
    "df_indicator2 = df_new.copy()\n",
    "\n",
    "# Delete Original Data Frame\n",
    "del df_new\n",
    "\n",
    "# Change Data Type of Columns to Float\n",
    "for y in df_indicator2.columns:\n",
    "    try:\n",
    "        df_indicator2[\"{}\".format(y)] = df_indicator2[\"{}\".format(y)].str.replace(',','.')\n",
    "        df_indicator2[\"{}\".format(y)] = df_indicator2[\"{}\".format(y)].astype(float)\n",
    "    except:\n",
    "        pass"
   ]
  },
  {
   "cell_type": "code",
   "execution_count": 66,
   "metadata": {
    "ExecuteTime": {
     "end_time": "2020-11-23T00:15:16.949744Z",
     "start_time": "2020-11-23T00:15:15.962Z"
    }
   },
   "outputs": [
    {
     "data": {
      "text/html": [
       "<div>\n",
       "<style scoped>\n",
       "    .dataframe tbody tr th:only-of-type {\n",
       "        vertical-align: middle;\n",
       "    }\n",
       "\n",
       "    .dataframe tbody tr th {\n",
       "        vertical-align: top;\n",
       "    }\n",
       "\n",
       "    .dataframe thead th {\n",
       "        text-align: right;\n",
       "    }\n",
       "</style>\n",
       "<table border=\"1\" class=\"dataframe\">\n",
       "  <thead>\n",
       "    <tr style=\"text-align: right;\">\n",
       "      <th></th>\n",
       "      <th>indicators/asol</th>\n",
       "      <th>indicators/sol_1h</th>\n",
       "      <th>indicators/sol_1h_24h</th>\n",
       "      <th>indicators/sol_1d_1w</th>\n",
       "      <th>indicators/sol_1w_1m</th>\n",
       "      <th>indicators/sol_1m_3m</th>\n",
       "      <th>indicators/sol_3m_6m</th>\n",
       "      <th>indicators/sol_6m_12m</th>\n",
       "      <th>indicators/sol_1y_2y</th>\n",
       "      <th>indicators/sol_2y_3y</th>\n",
       "      <th>indicators/sol_3y_5y</th>\n",
       "      <th>indicators/sol_5y_7y</th>\n",
       "      <th>indicators/sol_7y_10y</th>\n",
       "    </tr>\n",
       "    <tr>\n",
       "      <th>Date</th>\n",
       "      <th></th>\n",
       "      <th></th>\n",
       "      <th></th>\n",
       "      <th></th>\n",
       "      <th></th>\n",
       "      <th></th>\n",
       "      <th></th>\n",
       "      <th></th>\n",
       "      <th></th>\n",
       "      <th></th>\n",
       "      <th></th>\n",
       "      <th></th>\n",
       "      <th></th>\n",
       "    </tr>\n",
       "  </thead>\n",
       "  <tbody>\n",
       "    <tr>\n",
       "      <th>2020-11-27</th>\n",
       "      <td>39.811225</td>\n",
       "      <td>199527.000000</td>\n",
       "      <td>345546.000000</td>\n",
       "      <td>232134.000000</td>\n",
       "      <td>86893.000000</td>\n",
       "      <td>41758.000000</td>\n",
       "      <td>13164.000000</td>\n",
       "      <td>11330.000000</td>\n",
       "      <td>14587.000000</td>\n",
       "      <td>7182.000000</td>\n",
       "      <td>2950.000000</td>\n",
       "      <td>1049.000000</td>\n",
       "      <td>215.000000</td>\n",
       "    </tr>\n",
       "    <tr>\n",
       "      <th>2020-11-28</th>\n",
       "      <td>47.320904</td>\n",
       "      <td>189661.000000</td>\n",
       "      <td>299206.000000</td>\n",
       "      <td>251704.000000</td>\n",
       "      <td>100026.000000</td>\n",
       "      <td>48330.000000</td>\n",
       "      <td>19487.000000</td>\n",
       "      <td>15585.000000</td>\n",
       "      <td>17730.000000</td>\n",
       "      <td>9643.000000</td>\n",
       "      <td>3359.000000</td>\n",
       "      <td>969.000000</td>\n",
       "      <td>155.000000</td>\n",
       "    </tr>\n",
       "    <tr>\n",
       "      <th>2020-11-29</th>\n",
       "      <td>58.657665</td>\n",
       "      <td>170417.000000</td>\n",
       "      <td>240405.000000</td>\n",
       "      <td>193345.000000</td>\n",
       "      <td>82080.000000</td>\n",
       "      <td>31311.000000</td>\n",
       "      <td>13161.000000</td>\n",
       "      <td>14472.000000</td>\n",
       "      <td>10358.000000</td>\n",
       "      <td>5800.000000</td>\n",
       "      <td>2789.000000</td>\n",
       "      <td>4885.000000</td>\n",
       "      <td>796.000000</td>\n",
       "    </tr>\n",
       "    <tr>\n",
       "      <th>2020-11-30</th>\n",
       "      <td>38.417301</td>\n",
       "      <td>156129.000000</td>\n",
       "      <td>224157.000000</td>\n",
       "      <td>177745.000000</td>\n",
       "      <td>75099.000000</td>\n",
       "      <td>29392.000000</td>\n",
       "      <td>10059.000000</td>\n",
       "      <td>7873.000000</td>\n",
       "      <td>6792.000000</td>\n",
       "      <td>6748.000000</td>\n",
       "      <td>2422.000000</td>\n",
       "      <td>391.000000</td>\n",
       "      <td>179.000000</td>\n",
       "    </tr>\n",
       "    <tr>\n",
       "      <th>2020-12-01</th>\n",
       "      <td>52.932243</td>\n",
       "      <td>221420.000000</td>\n",
       "      <td>335946.000000</td>\n",
       "      <td>154791.000000</td>\n",
       "      <td>85878.000000</td>\n",
       "      <td>46000.000000</td>\n",
       "      <td>15220.000000</td>\n",
       "      <td>14365.000000</td>\n",
       "      <td>13278.000000</td>\n",
       "      <td>13945.000000</td>\n",
       "      <td>4017.000000</td>\n",
       "      <td>416.000000</td>\n",
       "      <td>129.000000</td>\n",
       "    </tr>\n",
       "  </tbody>\n",
       "</table>\n",
       "</div>"
      ],
      "text/plain": [
       "            indicators/asol  indicators/sol_1h  indicators/sol_1h_24h  \\\n",
       "Date                                                                    \n",
       "2020-11-27        39.811225      199527.000000          345546.000000   \n",
       "2020-11-28        47.320904      189661.000000          299206.000000   \n",
       "2020-11-29        58.657665      170417.000000          240405.000000   \n",
       "2020-11-30        38.417301      156129.000000          224157.000000   \n",
       "2020-12-01        52.932243      221420.000000          335946.000000   \n",
       "\n",
       "            indicators/sol_1d_1w  indicators/sol_1w_1m  indicators/sol_1m_3m  \\\n",
       "Date                                                                           \n",
       "2020-11-27         232134.000000          86893.000000          41758.000000   \n",
       "2020-11-28         251704.000000         100026.000000          48330.000000   \n",
       "2020-11-29         193345.000000          82080.000000          31311.000000   \n",
       "2020-11-30         177745.000000          75099.000000          29392.000000   \n",
       "2020-12-01         154791.000000          85878.000000          46000.000000   \n",
       "\n",
       "            indicators/sol_3m_6m  indicators/sol_6m_12m  indicators/sol_1y_2y  \\\n",
       "Date                                                                            \n",
       "2020-11-27          13164.000000           11330.000000          14587.000000   \n",
       "2020-11-28          19487.000000           15585.000000          17730.000000   \n",
       "2020-11-29          13161.000000           14472.000000          10358.000000   \n",
       "2020-11-30          10059.000000            7873.000000           6792.000000   \n",
       "2020-12-01          15220.000000           14365.000000          13278.000000   \n",
       "\n",
       "            indicators/sol_2y_3y  indicators/sol_3y_5y  indicators/sol_5y_7y  \\\n",
       "Date                                                                           \n",
       "2020-11-27           7182.000000           2950.000000           1049.000000   \n",
       "2020-11-28           9643.000000           3359.000000            969.000000   \n",
       "2020-11-29           5800.000000           2789.000000           4885.000000   \n",
       "2020-11-30           6748.000000           2422.000000            391.000000   \n",
       "2020-12-01          13945.000000           4017.000000            416.000000   \n",
       "\n",
       "            indicators/sol_7y_10y  \n",
       "Date                               \n",
       "2020-11-27             215.000000  \n",
       "2020-11-28             155.000000  \n",
       "2020-11-29             796.000000  \n",
       "2020-11-30             179.000000  \n",
       "2020-12-01             129.000000  "
      ]
     },
     "execution_count": 66,
     "metadata": {},
     "output_type": "execute_result"
    }
   ],
   "source": [
    "# Latest Indicator-2 Metric Values\n",
    "df_indicator2.tail()"
   ]
  },
  {
   "cell_type": "markdown",
   "metadata": {},
   "source": [
    "#### Indicator-3 Metrics CSV-Files"
   ]
  },
  {
   "cell_type": "code",
   "execution_count": 67,
   "metadata": {
    "ExecuteTime": {
     "end_time": "2020-11-23T00:15:16.950716Z",
     "start_time": "2020-11-23T00:15:15.969Z"
    }
   },
   "outputs": [],
   "source": [
    "# List of Indicator-3 Features\n",
    "indicator3_feature_list = ['net_unrealized_profit_loss', 'unrealized_profit', 'unrealized_loss', 'net_realized_profit_loss', 'realized_profit', 'realized_loss', 'nupl_more_155', 'nupl_less_155', 'puell_multiple', 'stock_to_flow_deflection', 'difficulty_ribbon_compression']\n",
    "\n",
    "# Counter to Differentiate between Data Frame Setup and Data Frame Extension\n",
    "counter=0\n",
    "\n",
    "# For Loop through all Features in the List\n",
    "for x in indicator3_feature_list:\n",
    "    \n",
    "    # Import Feature CSV-Files\n",
    "    df = pd.read_csv(\"Glassnode/{}.csv\".format(x), index_col='Date')\n",
    "    \n",
    "    # Condition - Data Frame Set up or Data Frame Extension\n",
    "    if counter > 0:\n",
    "        \n",
    "        # Data Frame Extension - Inner Join\n",
    "        df_new = df_new.join(df, how='inner')\n",
    "    \n",
    "    else:\n",
    "        \n",
    "        # Data Frame Setup\n",
    "        df_new = df\n",
    "    \n",
    "    # Increase Counter\n",
    "    counter +=1\n",
    "\n",
    "# Store Data Frame Copy in Indicator-3 Data Frame\n",
    "df_indicator3 = df_new.copy()\n",
    "\n",
    "# Delete Original Data Frame\n",
    "del df_new\n",
    "\n",
    "# Change Data Type of Columns to Float\n",
    "for y in df_indicator3.columns:\n",
    "    try:\n",
    "        df_indicator3[\"{}\".format(y)] = df_indicator3[\"{}\".format(y)].str.replace(',','.')\n",
    "        df_indicator3[\"{}\".format(y)] = df_indicator3[\"{}\".format(y)].astype(float)\n",
    "    except:\n",
    "        pass"
   ]
  },
  {
   "cell_type": "code",
   "execution_count": 68,
   "metadata": {
    "ExecuteTime": {
     "end_time": "2020-11-23T00:15:16.951716Z",
     "start_time": "2020-11-23T00:15:15.975Z"
    }
   },
   "outputs": [
    {
     "data": {
      "text/html": [
       "<div>\n",
       "<style scoped>\n",
       "    .dataframe tbody tr th:only-of-type {\n",
       "        vertical-align: middle;\n",
       "    }\n",
       "\n",
       "    .dataframe tbody tr th {\n",
       "        vertical-align: top;\n",
       "    }\n",
       "\n",
       "    .dataframe thead th {\n",
       "        text-align: right;\n",
       "    }\n",
       "</style>\n",
       "<table border=\"1\" class=\"dataframe\">\n",
       "  <thead>\n",
       "    <tr style=\"text-align: right;\">\n",
       "      <th></th>\n",
       "      <th>indicators/net_unrealized_profit_loss</th>\n",
       "      <th>indicators/unrealized_profit</th>\n",
       "      <th>indicators/unrealized_loss</th>\n",
       "      <th>indicators/net_realized_profit_loss</th>\n",
       "      <th>indicators/realized_profit</th>\n",
       "      <th>indicators/realized_loss</th>\n",
       "      <th>indicators/nupl_more_155</th>\n",
       "      <th>indicators/nupl_less_155</th>\n",
       "      <th>indicators/puell_multiple</th>\n",
       "      <th>indicators/stock_to_flow_deflection</th>\n",
       "      <th>indicators/difficulty_ribbon_compression</th>\n",
       "    </tr>\n",
       "    <tr>\n",
       "      <th>Date</th>\n",
       "      <th></th>\n",
       "      <th></th>\n",
       "      <th></th>\n",
       "      <th></th>\n",
       "      <th></th>\n",
       "      <th></th>\n",
       "      <th></th>\n",
       "      <th></th>\n",
       "      <th></th>\n",
       "      <th></th>\n",
       "      <th></th>\n",
       "    </tr>\n",
       "  </thead>\n",
       "  <tbody>\n",
       "    <tr>\n",
       "      <th>2020-11-27</th>\n",
       "      <td>0.569638</td>\n",
       "      <td>0.573845</td>\n",
       "      <td>0.004206</td>\n",
       "      <td>287463917.994573</td>\n",
       "      <td>499823727.975242</td>\n",
       "      <td>212359809.980669</td>\n",
       "      <td>0.673585</td>\n",
       "      <td>0.185563</td>\n",
       "      <td>1.342383</td>\n",
       "      <td>0.616738</td>\n",
       "      <td>0.029690</td>\n",
       "    </tr>\n",
       "    <tr>\n",
       "      <th>2020-11-28</th>\n",
       "      <td>0.584076</td>\n",
       "      <td>0.586118</td>\n",
       "      <td>0.002042</td>\n",
       "      <td>174442581.582252</td>\n",
       "      <td>218246122.168506</td>\n",
       "      <td>43803540.586254</td>\n",
       "      <td>0.684383</td>\n",
       "      <td>0.210765</td>\n",
       "      <td>1.363777</td>\n",
       "      <td>0.634911</td>\n",
       "      <td>0.028495</td>\n",
       "    </tr>\n",
       "    <tr>\n",
       "      <th>2020-11-29</th>\n",
       "      <td>0.593261</td>\n",
       "      <td>0.594296</td>\n",
       "      <td>0.001034</td>\n",
       "      <td>243291799.680883</td>\n",
       "      <td>281095917.024708</td>\n",
       "      <td>37804117.343825</td>\n",
       "      <td>0.692025</td>\n",
       "      <td>0.227499</td>\n",
       "      <td>1.379278</td>\n",
       "      <td>0.647637</td>\n",
       "      <td>0.026482</td>\n",
       "    </tr>\n",
       "    <tr>\n",
       "      <th>2020-11-30</th>\n",
       "      <td>0.622548</td>\n",
       "      <td>0.622548</td>\n",
       "      <td>0.000001</td>\n",
       "      <td>930610432.561855</td>\n",
       "      <td>961528905.350072</td>\n",
       "      <td>30918472.788217</td>\n",
       "      <td>0.716211</td>\n",
       "      <td>0.280243</td>\n",
       "      <td>1.087892</td>\n",
       "      <td>0.697539</td>\n",
       "      <td>0.025092</td>\n",
       "    </tr>\n",
       "    <tr>\n",
       "      <th>2020-12-01</th>\n",
       "      <td>0.603777</td>\n",
       "      <td>0.604387</td>\n",
       "      <td>0.000610</td>\n",
       "      <td>773064011.715369</td>\n",
       "      <td>907547252.958713</td>\n",
       "      <td>134483241.243344</td>\n",
       "      <td>0.703497</td>\n",
       "      <td>0.240982</td>\n",
       "      <td>1.496095</td>\n",
       "      <td>0.663430</td>\n",
       "      <td>0.024159</td>\n",
       "    </tr>\n",
       "  </tbody>\n",
       "</table>\n",
       "</div>"
      ],
      "text/plain": [
       "            indicators/net_unrealized_profit_loss  \\\n",
       "Date                                                \n",
       "2020-11-27                               0.569638   \n",
       "2020-11-28                               0.584076   \n",
       "2020-11-29                               0.593261   \n",
       "2020-11-30                               0.622548   \n",
       "2020-12-01                               0.603777   \n",
       "\n",
       "            indicators/unrealized_profit  indicators/unrealized_loss  \\\n",
       "Date                                                                   \n",
       "2020-11-27                      0.573845                    0.004206   \n",
       "2020-11-28                      0.586118                    0.002042   \n",
       "2020-11-29                      0.594296                    0.001034   \n",
       "2020-11-30                      0.622548                    0.000001   \n",
       "2020-12-01                      0.604387                    0.000610   \n",
       "\n",
       "            indicators/net_realized_profit_loss  indicators/realized_profit  \\\n",
       "Date                                                                          \n",
       "2020-11-27                     287463917.994573            499823727.975242   \n",
       "2020-11-28                     174442581.582252            218246122.168506   \n",
       "2020-11-29                     243291799.680883            281095917.024708   \n",
       "2020-11-30                     930610432.561855            961528905.350072   \n",
       "2020-12-01                     773064011.715369            907547252.958713   \n",
       "\n",
       "            indicators/realized_loss  indicators/nupl_more_155  \\\n",
       "Date                                                             \n",
       "2020-11-27          212359809.980669                  0.673585   \n",
       "2020-11-28           43803540.586254                  0.684383   \n",
       "2020-11-29           37804117.343825                  0.692025   \n",
       "2020-11-30           30918472.788217                  0.716211   \n",
       "2020-12-01          134483241.243344                  0.703497   \n",
       "\n",
       "            indicators/nupl_less_155  indicators/puell_multiple  \\\n",
       "Date                                                              \n",
       "2020-11-27                  0.185563                   1.342383   \n",
       "2020-11-28                  0.210765                   1.363777   \n",
       "2020-11-29                  0.227499                   1.379278   \n",
       "2020-11-30                  0.280243                   1.087892   \n",
       "2020-12-01                  0.240982                   1.496095   \n",
       "\n",
       "            indicators/stock_to_flow_deflection  \\\n",
       "Date                                              \n",
       "2020-11-27                             0.616738   \n",
       "2020-11-28                             0.634911   \n",
       "2020-11-29                             0.647637   \n",
       "2020-11-30                             0.697539   \n",
       "2020-12-01                             0.663430   \n",
       "\n",
       "            indicators/difficulty_ribbon_compression  \n",
       "Date                                                  \n",
       "2020-11-27                                  0.029690  \n",
       "2020-11-28                                  0.028495  \n",
       "2020-11-29                                  0.026482  \n",
       "2020-11-30                                  0.025092  \n",
       "2020-12-01                                  0.024159  "
      ]
     },
     "execution_count": 68,
     "metadata": {},
     "output_type": "execute_result"
    }
   ],
   "source": [
    "# Latest Indicator-3 Metric Values\n",
    "df_indicator3.tail()"
   ]
  },
  {
   "cell_type": "markdown",
   "metadata": {},
   "source": [
    "#### Addresses Metric CSV-Files"
   ]
  },
  {
   "cell_type": "code",
   "execution_count": 69,
   "metadata": {
    "ExecuteTime": {
     "end_time": "2020-11-23T00:15:16.953718Z",
     "start_time": "2020-11-23T00:15:15.982Z"
    }
   },
   "outputs": [],
   "source": [
    "# List of Addresses Features\n",
    "addresses_feature_list = ['active_count', 'sending_count', 'receiving_count', 'new_non_zero_count', 'non_zero_count', 'min_point_zero_1_count', 'min_point_1_count', 'min_1_count', 'min_10_count', 'min_100_count', 'min_1k_count', 'min_10k_count']\n",
    "\n",
    "# Counter to Differentiate between Data Frame Setup and Data Frame Extension\n",
    "counter=0\n",
    "\n",
    "# For Loop through all Features in the List\n",
    "for x in addresses_feature_list:\n",
    "    \n",
    "    # Import Feature CSV-Files\n",
    "    df = pd.read_csv(\"Glassnode/{}.csv\".format(x), index_col='Date')\n",
    "    \n",
    "    # Condition - Data Frame Set up or Data Frame Extension\n",
    "    if counter > 0:\n",
    "        \n",
    "        # Data Frame Extension - Inner Join\n",
    "        df_new = df_new.join(df, how='inner')\n",
    "    \n",
    "    else:\n",
    "        \n",
    "        # Data Frame Setup\n",
    "        df_new = df\n",
    "    \n",
    "    # Increase Counter\n",
    "    counter +=1\n",
    "\n",
    "# Store Data Frame Copy in Addresses Data Frame\n",
    "df_addresses = df_new.copy()\n",
    "\n",
    "# Delete Original Data Frame\n",
    "del df_new\n",
    "\n",
    "# Change Data Type of Columns to Float\n",
    "for y in df_addresses.columns:\n",
    "    try:\n",
    "        df_addresses[\"{}\".format(y)] = df_addresses[\"{}\".format(y)].str.replace(',','.')\n",
    "        df_addresses[\"{}\".format(y)] = df_addresses[\"{}\".format(y)].astype(float)\n",
    "    except:\n",
    "        pass"
   ]
  },
  {
   "cell_type": "code",
   "execution_count": 70,
   "metadata": {
    "ExecuteTime": {
     "end_time": "2020-11-23T00:15:16.954714Z",
     "start_time": "2020-11-23T00:15:15.988Z"
    }
   },
   "outputs": [
    {
     "data": {
      "text/html": [
       "<div>\n",
       "<style scoped>\n",
       "    .dataframe tbody tr th:only-of-type {\n",
       "        vertical-align: middle;\n",
       "    }\n",
       "\n",
       "    .dataframe tbody tr th {\n",
       "        vertical-align: top;\n",
       "    }\n",
       "\n",
       "    .dataframe thead th {\n",
       "        text-align: right;\n",
       "    }\n",
       "</style>\n",
       "<table border=\"1\" class=\"dataframe\">\n",
       "  <thead>\n",
       "    <tr style=\"text-align: right;\">\n",
       "      <th></th>\n",
       "      <th>addresses/active_count</th>\n",
       "      <th>addresses/sending_count</th>\n",
       "      <th>addresses/receiving_count</th>\n",
       "      <th>addresses/new_non_zero_count</th>\n",
       "      <th>addresses/non_zero_count</th>\n",
       "      <th>addresses/min_point_zero_1_count</th>\n",
       "      <th>addresses/min_point_1_count</th>\n",
       "      <th>addresses/min_1_count</th>\n",
       "      <th>addresses/min_10_count</th>\n",
       "      <th>addresses/min_100_count</th>\n",
       "      <th>addresses/min_1k_count</th>\n",
       "      <th>addresses/min_10k_count</th>\n",
       "    </tr>\n",
       "    <tr>\n",
       "      <th>Date</th>\n",
       "      <th></th>\n",
       "      <th></th>\n",
       "      <th></th>\n",
       "      <th></th>\n",
       "      <th></th>\n",
       "      <th></th>\n",
       "      <th></th>\n",
       "      <th></th>\n",
       "      <th></th>\n",
       "      <th></th>\n",
       "      <th></th>\n",
       "      <th></th>\n",
       "    </tr>\n",
       "  </thead>\n",
       "  <tbody>\n",
       "    <tr>\n",
       "      <th>2020-11-27</th>\n",
       "      <td>1098290.000000</td>\n",
       "      <td>718366.000000</td>\n",
       "      <td>719222.000000</td>\n",
       "      <td>513799.000000</td>\n",
       "      <td>32675862.000000</td>\n",
       "      <td>8515464.000000</td>\n",
       "      <td>3121227.000000</td>\n",
       "      <td>820011.000000</td>\n",
       "      <td>154563.000000</td>\n",
       "      <td>16089.000000</td>\n",
       "      <td>2263.000000</td>\n",
       "      <td>109.000000</td>\n",
       "    </tr>\n",
       "    <tr>\n",
       "      <th>2020-11-28</th>\n",
       "      <td>1043272.000000</td>\n",
       "      <td>703716.000000</td>\n",
       "      <td>644191.000000</td>\n",
       "      <td>472882.000000</td>\n",
       "      <td>32586624.000000</td>\n",
       "      <td>8481925.000000</td>\n",
       "      <td>3118114.000000</td>\n",
       "      <td>820175.000000</td>\n",
       "      <td>154599.000000</td>\n",
       "      <td>16082.000000</td>\n",
       "      <td>2262.000000</td>\n",
       "      <td>109.000000</td>\n",
       "    </tr>\n",
       "    <tr>\n",
       "      <th>2020-11-29</th>\n",
       "      <td>884127.000000</td>\n",
       "      <td>563015.000000</td>\n",
       "      <td>588994.000000</td>\n",
       "      <td>434832.000000</td>\n",
       "      <td>32586946.000000</td>\n",
       "      <td>8468254.000000</td>\n",
       "      <td>3111465.000000</td>\n",
       "      <td>819629.000000</td>\n",
       "      <td>154481.000000</td>\n",
       "      <td>16105.000000</td>\n",
       "      <td>2262.000000</td>\n",
       "      <td>109.000000</td>\n",
       "    </tr>\n",
       "    <tr>\n",
       "      <th>2020-11-30</th>\n",
       "      <td>889631.000000</td>\n",
       "      <td>519025.000000</td>\n",
       "      <td>623543.000000</td>\n",
       "      <td>441143.000000</td>\n",
       "      <td>32659333.000000</td>\n",
       "      <td>8499912.000000</td>\n",
       "      <td>3117495.000000</td>\n",
       "      <td>821144.000000</td>\n",
       "      <td>154578.000000</td>\n",
       "      <td>16150.000000</td>\n",
       "      <td>2261.000000</td>\n",
       "      <td>109.000000</td>\n",
       "    </tr>\n",
       "    <tr>\n",
       "      <th>2020-12-01</th>\n",
       "      <td>1170489.000000</td>\n",
       "      <td>687581.000000</td>\n",
       "      <td>841565.000000</td>\n",
       "      <td>614449.000000</td>\n",
       "      <td>32764603.000000</td>\n",
       "      <td>8525194.000000</td>\n",
       "      <td>3115114.000000</td>\n",
       "      <td>820762.000000</td>\n",
       "      <td>154377.000000</td>\n",
       "      <td>16130.000000</td>\n",
       "      <td>2259.000000</td>\n",
       "      <td>108.000000</td>\n",
       "    </tr>\n",
       "  </tbody>\n",
       "</table>\n",
       "</div>"
      ],
      "text/plain": [
       "            addresses/active_count  addresses/sending_count  \\\n",
       "Date                                                          \n",
       "2020-11-27          1098290.000000            718366.000000   \n",
       "2020-11-28          1043272.000000            703716.000000   \n",
       "2020-11-29           884127.000000            563015.000000   \n",
       "2020-11-30           889631.000000            519025.000000   \n",
       "2020-12-01          1170489.000000            687581.000000   \n",
       "\n",
       "            addresses/receiving_count  addresses/new_non_zero_count  \\\n",
       "Date                                                                  \n",
       "2020-11-27              719222.000000                 513799.000000   \n",
       "2020-11-28              644191.000000                 472882.000000   \n",
       "2020-11-29              588994.000000                 434832.000000   \n",
       "2020-11-30              623543.000000                 441143.000000   \n",
       "2020-12-01              841565.000000                 614449.000000   \n",
       "\n",
       "            addresses/non_zero_count  addresses/min_point_zero_1_count  \\\n",
       "Date                                                                     \n",
       "2020-11-27           32675862.000000                    8515464.000000   \n",
       "2020-11-28           32586624.000000                    8481925.000000   \n",
       "2020-11-29           32586946.000000                    8468254.000000   \n",
       "2020-11-30           32659333.000000                    8499912.000000   \n",
       "2020-12-01           32764603.000000                    8525194.000000   \n",
       "\n",
       "            addresses/min_point_1_count  addresses/min_1_count  \\\n",
       "Date                                                             \n",
       "2020-11-27               3121227.000000          820011.000000   \n",
       "2020-11-28               3118114.000000          820175.000000   \n",
       "2020-11-29               3111465.000000          819629.000000   \n",
       "2020-11-30               3117495.000000          821144.000000   \n",
       "2020-12-01               3115114.000000          820762.000000   \n",
       "\n",
       "            addresses/min_10_count  addresses/min_100_count  \\\n",
       "Date                                                          \n",
       "2020-11-27           154563.000000             16089.000000   \n",
       "2020-11-28           154599.000000             16082.000000   \n",
       "2020-11-29           154481.000000             16105.000000   \n",
       "2020-11-30           154578.000000             16150.000000   \n",
       "2020-12-01           154377.000000             16130.000000   \n",
       "\n",
       "            addresses/min_1k_count  addresses/min_10k_count  \n",
       "Date                                                         \n",
       "2020-11-27             2263.000000               109.000000  \n",
       "2020-11-28             2262.000000               109.000000  \n",
       "2020-11-29             2262.000000               109.000000  \n",
       "2020-11-30             2261.000000               109.000000  \n",
       "2020-12-01             2259.000000               108.000000  "
      ]
     },
     "execution_count": 70,
     "metadata": {},
     "output_type": "execute_result"
    }
   ],
   "source": [
    "# Latest Addresses Metric Values\n",
    "df_addresses.tail()"
   ]
  },
  {
   "cell_type": "markdown",
   "metadata": {},
   "source": [
    "#### Futures Metrics CSV-Files - Excluded as Data Available Only Since Feb 2020"
   ]
  },
  {
   "cell_type": "markdown",
   "metadata": {},
   "source": [
    "##### List of Future Features\n",
    "futures_feature_list = ['futures_volume_daily_all_sum', 'futures_volume_daily_perpetual_sum', 'futures_open_interest_all_sum', 'futures_open_interest_perpetual_sum', 'futures_funding_rate_perpetual']\n",
    "\n",
    "##### Counter to Differentiate between Data Frame Setup and Data Frame Extension\n",
    "counter=0\n",
    "\n",
    "##### For Loop through all Features in the List\n",
    "for x in futures_feature_list:\n",
    "    \n",
    "    ##### Import Feature CSV-Files\n",
    "    df = pd.read_csv(\"Glassnode/{}.csv\".format(x), index_col='Date')\n",
    "    \n",
    "    ##### Condition - Data Frame Set up or Data Frame Extension\n",
    "    if counter > 0:\n",
    "        \n",
    "        ##### Data Frame Extension - Inner Join\n",
    "        df_new = df_new.join(df, how='inner')\n",
    "    \n",
    "    else:\n",
    "        \n",
    "        ##### Data Frame Setup\n",
    "        df_new = df\n",
    "    \n",
    "    ##### Increase Counter\n",
    "    counter +=1\n",
    "\n",
    "##### Store Data Frame Copy in Market Data Frame\n",
    "df_futures = df_new.copy()\n",
    "\n",
    "##### Delete Original Data Frame\n",
    "del df_new\n",
    "\n",
    "##### Change Data Type of Columns to Float\n",
    "for y in df_futures.columns:\n",
    "    try:\n",
    "        df_futures[\"{}\".format(y)] = df_futures[\"{}\".format(y)].str.replace(',','.')\n",
    "        df_futures[\"{}\".format(y)] = df_futures[\"{}\".format(y)].astype(float)\n",
    "    except:\n",
    "        pass"
   ]
  },
  {
   "cell_type": "markdown",
   "metadata": {},
   "source": [
    "## Target Variables"
   ]
  },
  {
   "cell_type": "code",
   "execution_count": 71,
   "metadata": {
    "ExecuteTime": {
     "end_time": "2020-11-23T00:15:16.956734Z",
     "start_time": "2020-11-23T00:15:15.998Z"
    }
   },
   "outputs": [],
   "source": [
    "df_return = pd.DataFrame(df_market['market/price_usd_close'])"
   ]
  },
  {
   "cell_type": "code",
   "execution_count": 72,
   "metadata": {
    "ExecuteTime": {
     "end_time": "2020-11-23T00:15:16.957715Z",
     "start_time": "2020-11-23T00:15:16.004Z"
    }
   },
   "outputs": [],
   "source": [
    "df_return.columns = ['Closed Price USD']"
   ]
  },
  {
   "cell_type": "code",
   "execution_count": 73,
   "metadata": {
    "ExecuteTime": {
     "end_time": "2020-11-23T00:15:16.958715Z",
     "start_time": "2020-11-23T00:15:16.010Z"
    }
   },
   "outputs": [],
   "source": [
    "# Add Column with BTC Daily Returns in USD\n",
    "df_return['Daily Return in USD'] = df_return['Closed Price USD'].diff()"
   ]
  },
  {
   "cell_type": "raw",
   "metadata": {},
   "source": [
    "# Add Column with BTC Daily Returns in Percent\n",
    "df_return['Daily Returns in Percent'] = (df_return['Daily Returns USD']) / (df_return['Closed Price USD'].shift(1))*100"
   ]
  },
  {
   "cell_type": "raw",
   "metadata": {},
   "source": [
    "# Add Column with BTC Daily Log Returns in Percent\n",
    "df_return['Daily Log Returns in Percent'] = pd.DataFrame(np.log(df_return['Closed Price USD']/df_return['Closed Price USD'].shift(1))*100)"
   ]
  },
  {
   "cell_type": "code",
   "execution_count": 74,
   "metadata": {
    "ExecuteTime": {
     "end_time": "2020-11-23T00:15:16.960715Z",
     "start_time": "2020-11-23T00:15:16.169Z"
    }
   },
   "outputs": [
    {
     "data": {
      "text/html": [
       "<div>\n",
       "<style scoped>\n",
       "    .dataframe tbody tr th:only-of-type {\n",
       "        vertical-align: middle;\n",
       "    }\n",
       "\n",
       "    .dataframe tbody tr th {\n",
       "        vertical-align: top;\n",
       "    }\n",
       "\n",
       "    .dataframe thead th {\n",
       "        text-align: right;\n",
       "    }\n",
       "</style>\n",
       "<table border=\"1\" class=\"dataframe\">\n",
       "  <thead>\n",
       "    <tr style=\"text-align: right;\">\n",
       "      <th></th>\n",
       "      <th>Closed Price USD</th>\n",
       "      <th>Daily Return in USD</th>\n",
       "    </tr>\n",
       "    <tr>\n",
       "      <th>Date</th>\n",
       "      <th></th>\n",
       "      <th></th>\n",
       "    </tr>\n",
       "  </thead>\n",
       "  <tbody>\n",
       "    <tr>\n",
       "      <th>2020-11-27</th>\n",
       "      <td>17096.724533</td>\n",
       "      <td>-9.566168</td>\n",
       "    </tr>\n",
       "    <tr>\n",
       "      <th>2020-11-28</th>\n",
       "      <td>17714.060586</td>\n",
       "      <td>617.336053</td>\n",
       "    </tr>\n",
       "    <tr>\n",
       "      <th>2020-11-29</th>\n",
       "      <td>18147.636460</td>\n",
       "      <td>433.575874</td>\n",
       "    </tr>\n",
       "    <tr>\n",
       "      <th>2020-11-30</th>\n",
       "      <td>19689.810545</td>\n",
       "      <td>1542.174085</td>\n",
       "    </tr>\n",
       "    <tr>\n",
       "      <th>2020-12-01</th>\n",
       "      <td>18863.780861</td>\n",
       "      <td>-826.029684</td>\n",
       "    </tr>\n",
       "  </tbody>\n",
       "</table>\n",
       "</div>"
      ],
      "text/plain": [
       "            Closed Price USD  Daily Return in USD\n",
       "Date                                             \n",
       "2020-11-27      17096.724533            -9.566168\n",
       "2020-11-28      17714.060586           617.336053\n",
       "2020-11-29      18147.636460           433.575874\n",
       "2020-11-30      19689.810545          1542.174085\n",
       "2020-12-01      18863.780861          -826.029684"
      ]
     },
     "execution_count": 74,
     "metadata": {},
     "output_type": "execute_result"
    }
   ],
   "source": [
    "df_return.tail()"
   ]
  },
  {
   "cell_type": "markdown",
   "metadata": {},
   "source": [
    "## Feature Engineering"
   ]
  },
  {
   "cell_type": "markdown",
   "metadata": {},
   "source": [
    "### Volatility"
   ]
  },
  {
   "cell_type": "code",
   "execution_count": 75,
   "metadata": {
    "ExecuteTime": {
     "end_time": "2020-11-23T00:15:16.961736Z",
     "start_time": "2020-11-23T00:15:16.177Z"
    }
   },
   "outputs": [],
   "source": [
    "# Selecting BTC Close Price in USD\n",
    "df_volatility = pd.DataFrame(df_market['market/price_usd_close'])"
   ]
  },
  {
   "cell_type": "code",
   "execution_count": 76,
   "metadata": {
    "ExecuteTime": {
     "end_time": "2020-11-23T00:15:16.962716Z",
     "start_time": "2020-11-23T00:15:16.184Z"
    }
   },
   "outputs": [],
   "source": [
    "# Rename Price Column\n",
    "df_volatility.columns = ['Closed Price USD']"
   ]
  },
  {
   "cell_type": "code",
   "execution_count": 77,
   "metadata": {
    "ExecuteTime": {
     "end_time": "2020-11-23T00:15:16.964712Z",
     "start_time": "2020-11-23T00:15:16.191Z"
    }
   },
   "outputs": [],
   "source": [
    "# Add Column with BTC Daily Returns in USD\n",
    "df_volatility['Daily Return in USD'] = df_volatility['Closed Price USD'].diff()"
   ]
  },
  {
   "cell_type": "code",
   "execution_count": 78,
   "metadata": {
    "ExecuteTime": {
     "end_time": "2020-11-23T00:15:16.965713Z",
     "start_time": "2020-11-23T00:15:16.198Z"
    }
   },
   "outputs": [],
   "source": [
    "# Add Column with BTC Daily Returns in Percent\n",
    "df_volatility['Daily Return in Percent'] = (df_volatility['Daily Return in USD']) / (df_volatility['Closed Price USD'].shift(1))*100"
   ]
  },
  {
   "cell_type": "code",
   "execution_count": 79,
   "metadata": {
    "ExecuteTime": {
     "end_time": "2020-11-23T00:15:16.966713Z",
     "start_time": "2020-11-23T00:15:16.205Z"
    }
   },
   "outputs": [],
   "source": [
    "# Add Column with BTC Daily Log Returns in Percent\n",
    "df_volatility['Daily Log Return in Percent'] = pd.DataFrame(np.log(df_volatility['Closed Price USD']/df_volatility['Closed Price USD'].shift(1))*100)"
   ]
  },
  {
   "cell_type": "code",
   "execution_count": 80,
   "metadata": {
    "ExecuteTime": {
     "end_time": "2020-11-23T00:15:16.967713Z",
     "start_time": "2020-11-23T00:15:16.211Z"
    }
   },
   "outputs": [
    {
     "data": {
      "text/html": [
       "<div>\n",
       "<style scoped>\n",
       "    .dataframe tbody tr th:only-of-type {\n",
       "        vertical-align: middle;\n",
       "    }\n",
       "\n",
       "    .dataframe tbody tr th {\n",
       "        vertical-align: top;\n",
       "    }\n",
       "\n",
       "    .dataframe thead th {\n",
       "        text-align: right;\n",
       "    }\n",
       "</style>\n",
       "<table border=\"1\" class=\"dataframe\">\n",
       "  <thead>\n",
       "    <tr style=\"text-align: right;\">\n",
       "      <th></th>\n",
       "      <th>Closed Price USD</th>\n",
       "      <th>Daily Return in USD</th>\n",
       "      <th>Daily Return in Percent</th>\n",
       "      <th>Daily Log Return in Percent</th>\n",
       "    </tr>\n",
       "    <tr>\n",
       "      <th>Date</th>\n",
       "      <th></th>\n",
       "      <th></th>\n",
       "      <th></th>\n",
       "      <th></th>\n",
       "    </tr>\n",
       "  </thead>\n",
       "  <tbody>\n",
       "    <tr>\n",
       "      <th>2020-11-27</th>\n",
       "      <td>17096.724533</td>\n",
       "      <td>-9.566168</td>\n",
       "      <td>-0.055922</td>\n",
       "      <td>-0.055938</td>\n",
       "    </tr>\n",
       "    <tr>\n",
       "      <th>2020-11-28</th>\n",
       "      <td>17714.060586</td>\n",
       "      <td>617.336053</td>\n",
       "      <td>3.610844</td>\n",
       "      <td>3.547181</td>\n",
       "    </tr>\n",
       "    <tr>\n",
       "      <th>2020-11-29</th>\n",
       "      <td>18147.636460</td>\n",
       "      <td>433.575874</td>\n",
       "      <td>2.447637</td>\n",
       "      <td>2.418162</td>\n",
       "    </tr>\n",
       "    <tr>\n",
       "      <th>2020-11-30</th>\n",
       "      <td>19689.810545</td>\n",
       "      <td>1542.174085</td>\n",
       "      <td>8.497934</td>\n",
       "      <td>8.156094</td>\n",
       "    </tr>\n",
       "    <tr>\n",
       "      <th>2020-12-01</th>\n",
       "      <td>18863.780861</td>\n",
       "      <td>-826.029684</td>\n",
       "      <td>-4.195214</td>\n",
       "      <td>-4.285754</td>\n",
       "    </tr>\n",
       "  </tbody>\n",
       "</table>\n",
       "</div>"
      ],
      "text/plain": [
       "            Closed Price USD  Daily Return in USD  Daily Return in Percent  \\\n",
       "Date                                                                         \n",
       "2020-11-27      17096.724533            -9.566168                -0.055922   \n",
       "2020-11-28      17714.060586           617.336053                 3.610844   \n",
       "2020-11-29      18147.636460           433.575874                 2.447637   \n",
       "2020-11-30      19689.810545          1542.174085                 8.497934   \n",
       "2020-12-01      18863.780861          -826.029684                -4.195214   \n",
       "\n",
       "            Daily Log Return in Percent  \n",
       "Date                                     \n",
       "2020-11-27                    -0.055938  \n",
       "2020-11-28                     3.547181  \n",
       "2020-11-29                     2.418162  \n",
       "2020-11-30                     8.156094  \n",
       "2020-12-01                    -4.285754  "
      ]
     },
     "execution_count": 80,
     "metadata": {},
     "output_type": "execute_result"
    }
   ],
   "source": [
    "df_volatility.tail()"
   ]
  },
  {
   "cell_type": "code",
   "execution_count": 81,
   "metadata": {
    "ExecuteTime": {
     "end_time": "2020-11-23T00:15:16.968713Z",
     "start_time": "2020-11-23T00:15:16.217Z"
    }
   },
   "outputs": [],
   "source": [
    "# Calculation of Rolling Volatility of BTC Daily Log Returns for 10, 20 and 30 days period\n",
    "df_volatility['Volatility Daily Log Return in Percent 3D'] = pd.DataFrame(df_volatility['Daily Log Return in Percent'].rolling(window=3, min_periods=1).std())\n",
    "df_volatility['Volatility Daily Log Return in Percent 5D'] = pd.DataFrame(df_volatility['Daily Log Return in Percent'].rolling(window=5, min_periods=1).std())\n",
    "df_volatility['Volatility Daily Log Return in Percent 10D'] = pd.DataFrame(df_volatility['Daily Log Return in Percent'].rolling(window=10, min_periods=1).std())"
   ]
  },
  {
   "cell_type": "code",
   "execution_count": 82,
   "metadata": {
    "ExecuteTime": {
     "end_time": "2020-11-23T00:15:16.969716Z",
     "start_time": "2020-11-23T00:15:16.224Z"
    }
   },
   "outputs": [
    {
     "data": {
      "text/html": [
       "<div>\n",
       "<style scoped>\n",
       "    .dataframe tbody tr th:only-of-type {\n",
       "        vertical-align: middle;\n",
       "    }\n",
       "\n",
       "    .dataframe tbody tr th {\n",
       "        vertical-align: top;\n",
       "    }\n",
       "\n",
       "    .dataframe thead th {\n",
       "        text-align: right;\n",
       "    }\n",
       "</style>\n",
       "<table border=\"1\" class=\"dataframe\">\n",
       "  <thead>\n",
       "    <tr style=\"text-align: right;\">\n",
       "      <th></th>\n",
       "      <th>Closed Price USD</th>\n",
       "      <th>Daily Return in USD</th>\n",
       "      <th>Daily Return in Percent</th>\n",
       "      <th>Daily Log Return in Percent</th>\n",
       "      <th>Volatility Daily Log Return in Percent 3D</th>\n",
       "      <th>Volatility Daily Log Return in Percent 5D</th>\n",
       "      <th>Volatility Daily Log Return in Percent 10D</th>\n",
       "    </tr>\n",
       "    <tr>\n",
       "      <th>Date</th>\n",
       "      <th></th>\n",
       "      <th></th>\n",
       "      <th></th>\n",
       "      <th></th>\n",
       "      <th></th>\n",
       "      <th></th>\n",
       "      <th></th>\n",
       "    </tr>\n",
       "  </thead>\n",
       "  <tbody>\n",
       "    <tr>\n",
       "      <th>2020-11-27</th>\n",
       "      <td>17096.724533</td>\n",
       "      <td>-9.566168</td>\n",
       "      <td>-0.055922</td>\n",
       "      <td>-0.055938</td>\n",
       "      <td>4.909464</td>\n",
       "      <td>4.829046</td>\n",
       "      <td>3.752302</td>\n",
       "    </tr>\n",
       "    <tr>\n",
       "      <th>2020-11-28</th>\n",
       "      <td>17714.060586</td>\n",
       "      <td>617.336053</td>\n",
       "      <td>3.610844</td>\n",
       "      <td>3.547181</td>\n",
       "      <td>6.600074</td>\n",
       "      <td>5.343618</td>\n",
       "      <td>3.939559</td>\n",
       "    </tr>\n",
       "    <tr>\n",
       "      <th>2020-11-29</th>\n",
       "      <td>18147.636460</td>\n",
       "      <td>433.575874</td>\n",
       "      <td>2.447637</td>\n",
       "      <td>2.418162</td>\n",
       "      <td>1.842929</td>\n",
       "      <td>5.044789</td>\n",
       "      <td>4.016258</td>\n",
       "    </tr>\n",
       "    <tr>\n",
       "      <th>2020-11-30</th>\n",
       "      <td>19689.810545</td>\n",
       "      <td>1542.174085</td>\n",
       "      <td>8.497934</td>\n",
       "      <td>8.156094</td>\n",
       "      <td>3.039754</td>\n",
       "      <td>6.440478</td>\n",
       "      <td>4.574515</td>\n",
       "    </tr>\n",
       "    <tr>\n",
       "      <th>2020-12-01</th>\n",
       "      <td>18863.780861</td>\n",
       "      <td>-826.029684</td>\n",
       "      <td>-4.195214</td>\n",
       "      <td>-4.285754</td>\n",
       "      <td>6.227171</td>\n",
       "      <td>4.587865</td>\n",
       "      <td>4.825944</td>\n",
       "    </tr>\n",
       "  </tbody>\n",
       "</table>\n",
       "</div>"
      ],
      "text/plain": [
       "            Closed Price USD  Daily Return in USD  Daily Return in Percent  \\\n",
       "Date                                                                         \n",
       "2020-11-27      17096.724533            -9.566168                -0.055922   \n",
       "2020-11-28      17714.060586           617.336053                 3.610844   \n",
       "2020-11-29      18147.636460           433.575874                 2.447637   \n",
       "2020-11-30      19689.810545          1542.174085                 8.497934   \n",
       "2020-12-01      18863.780861          -826.029684                -4.195214   \n",
       "\n",
       "            Daily Log Return in Percent  \\\n",
       "Date                                      \n",
       "2020-11-27                    -0.055938   \n",
       "2020-11-28                     3.547181   \n",
       "2020-11-29                     2.418162   \n",
       "2020-11-30                     8.156094   \n",
       "2020-12-01                    -4.285754   \n",
       "\n",
       "            Volatility Daily Log Return in Percent 3D  \\\n",
       "Date                                                    \n",
       "2020-11-27                                   4.909464   \n",
       "2020-11-28                                   6.600074   \n",
       "2020-11-29                                   1.842929   \n",
       "2020-11-30                                   3.039754   \n",
       "2020-12-01                                   6.227171   \n",
       "\n",
       "            Volatility Daily Log Return in Percent 5D  \\\n",
       "Date                                                    \n",
       "2020-11-27                                   4.829046   \n",
       "2020-11-28                                   5.343618   \n",
       "2020-11-29                                   5.044789   \n",
       "2020-11-30                                   6.440478   \n",
       "2020-12-01                                   4.587865   \n",
       "\n",
       "            Volatility Daily Log Return in Percent 10D  \n",
       "Date                                                    \n",
       "2020-11-27                                    3.752302  \n",
       "2020-11-28                                    3.939559  \n",
       "2020-11-29                                    4.016258  \n",
       "2020-11-30                                    4.574515  \n",
       "2020-12-01                                    4.825944  "
      ]
     },
     "execution_count": 82,
     "metadata": {},
     "output_type": "execute_result"
    }
   ],
   "source": [
    "df_volatility.tail()"
   ]
  },
  {
   "cell_type": "code",
   "execution_count": 83,
   "metadata": {
    "ExecuteTime": {
     "end_time": "2020-11-23T00:15:16.971735Z",
     "start_time": "2020-11-23T00:15:16.230Z"
    }
   },
   "outputs": [],
   "source": [
    "df_volatility_reduced = df_volatility['Volatility Daily Log Return in Percent 5D']"
   ]
  },
  {
   "cell_type": "markdown",
   "metadata": {},
   "source": [
    "### Log Price"
   ]
  },
  {
   "cell_type": "code",
   "execution_count": 84,
   "metadata": {
    "ExecuteTime": {
     "end_time": "2020-11-23T00:15:16.972717Z",
     "start_time": "2020-11-23T00:15:16.238Z"
    }
   },
   "outputs": [],
   "source": [
    "# Selecting BTC Close Price in USD\n",
    "df_logprice = pd.DataFrame(np.log(df_market['market/price_usd_close']))"
   ]
  },
  {
   "cell_type": "code",
   "execution_count": 85,
   "metadata": {
    "ExecuteTime": {
     "end_time": "2020-11-23T00:15:16.973716Z",
     "start_time": "2020-11-23T00:15:16.244Z"
    }
   },
   "outputs": [],
   "source": [
    "df_logprice.columns = ['Log Price in USD']"
   ]
  },
  {
   "cell_type": "code",
   "execution_count": 86,
   "metadata": {
    "ExecuteTime": {
     "end_time": "2020-11-23T00:15:16.974715Z",
     "start_time": "2020-11-23T00:15:16.252Z"
    }
   },
   "outputs": [
    {
     "data": {
      "text/html": [
       "<div>\n",
       "<style scoped>\n",
       "    .dataframe tbody tr th:only-of-type {\n",
       "        vertical-align: middle;\n",
       "    }\n",
       "\n",
       "    .dataframe tbody tr th {\n",
       "        vertical-align: top;\n",
       "    }\n",
       "\n",
       "    .dataframe thead th {\n",
       "        text-align: right;\n",
       "    }\n",
       "</style>\n",
       "<table border=\"1\" class=\"dataframe\">\n",
       "  <thead>\n",
       "    <tr style=\"text-align: right;\">\n",
       "      <th></th>\n",
       "      <th>Log Price in USD</th>\n",
       "    </tr>\n",
       "    <tr>\n",
       "      <th>Date</th>\n",
       "      <th></th>\n",
       "    </tr>\n",
       "  </thead>\n",
       "  <tbody>\n",
       "    <tr>\n",
       "      <th>2020-11-27</th>\n",
       "      <td>9.746642</td>\n",
       "    </tr>\n",
       "    <tr>\n",
       "      <th>2020-11-28</th>\n",
       "      <td>9.782114</td>\n",
       "    </tr>\n",
       "    <tr>\n",
       "      <th>2020-11-29</th>\n",
       "      <td>9.806296</td>\n",
       "    </tr>\n",
       "    <tr>\n",
       "      <th>2020-11-30</th>\n",
       "      <td>9.887857</td>\n",
       "    </tr>\n",
       "    <tr>\n",
       "      <th>2020-12-01</th>\n",
       "      <td>9.844999</td>\n",
       "    </tr>\n",
       "  </tbody>\n",
       "</table>\n",
       "</div>"
      ],
      "text/plain": [
       "            Log Price in USD\n",
       "Date                        \n",
       "2020-11-27          9.746642\n",
       "2020-11-28          9.782114\n",
       "2020-11-29          9.806296\n",
       "2020-11-30          9.887857\n",
       "2020-12-01          9.844999"
      ]
     },
     "execution_count": 86,
     "metadata": {},
     "output_type": "execute_result"
    }
   ],
   "source": [
    "df_logprice.tail()"
   ]
  },
  {
   "cell_type": "markdown",
   "metadata": {},
   "source": [
    "# Data Sets"
   ]
  },
  {
   "cell_type": "markdown",
   "metadata": {},
   "source": [
    "## Data Set I. - Blockchain Metrics Only"
   ]
  },
  {
   "cell_type": "code",
   "execution_count": 87,
   "metadata": {
    "ExecuteTime": {
     "end_time": "2020-11-23T00:15:16.975715Z",
     "start_time": "2020-11-23T00:15:16.262Z"
    }
   },
   "outputs": [],
   "source": [
    "# Merging all Blockchain DataFrame Metrics\n",
    "df_blockchain = pd.concat([df_return, df_logprice, df_volatility_reduced, df_market, df_mining, df_blockfeatures, df_fees, df_utxo, df_supply, \n",
    "                           df_transaction, df_indicator1, df_indicator2, df_indicator3, df_addresses], axis=1, join='inner')"
   ]
  },
  {
   "cell_type": "code",
   "execution_count": 88,
   "metadata": {
    "ExecuteTime": {
     "end_time": "2020-11-23T00:15:16.976713Z",
     "start_time": "2020-11-23T00:15:16.268Z"
    }
   },
   "outputs": [],
   "source": [
    "df_blockchain = df_blockchain.dropna()"
   ]
  },
  {
   "cell_type": "code",
   "execution_count": 89,
   "metadata": {
    "ExecuteTime": {
     "end_time": "2020-11-23T00:15:16.978713Z",
     "start_time": "2020-11-23T00:15:16.274Z"
    }
   },
   "outputs": [],
   "source": [
    "df_blockchain = df_blockchain.drop(['Closed Price USD'], axis=1)"
   ]
  },
  {
   "cell_type": "code",
   "execution_count": 90,
   "metadata": {
    "ExecuteTime": {
     "end_time": "2020-11-23T00:15:16.979713Z",
     "start_time": "2020-11-23T00:15:16.280Z"
    }
   },
   "outputs": [],
   "source": [
    "df_blockchain.index = df_blockchain.index.astype('datetime64[ns]')"
   ]
  },
  {
   "cell_type": "code",
   "execution_count": 91,
   "metadata": {
    "ExecuteTime": {
     "end_time": "2020-11-23T00:15:16.981713Z",
     "start_time": "2020-11-23T00:15:16.285Z"
    },
    "scrolled": true
   },
   "outputs": [
    {
     "name": "stdout",
     "output_type": "stream",
     "text": [
      "<class 'pandas.core.frame.DataFrame'>\n",
      "DatetimeIndex: 3427 entries, 2011-07-16 to 2020-12-01\n",
      "Data columns (total 91 columns):\n",
      " #   Column                                      Non-Null Count  Dtype  \n",
      "---  ------                                      --------------  -----  \n",
      " 0   Daily Return in USD                         3427 non-null   float64\n",
      " 1   Log Price in USD                            3427 non-null   float64\n",
      " 2   Volatility Daily Log Return in Percent 5D   3427 non-null   float64\n",
      " 3   market/price_usd_close                      3427 non-null   float64\n",
      " 4   market/price_drawdown_relative              3427 non-null   float64\n",
      " 5   market/price_realized_usd                   3427 non-null   float64\n",
      " 6   market/mvrv                                 3427 non-null   float64\n",
      " 7   mining/difficulty_latest                    3427 non-null   float64\n",
      " 8   mining/hash_rate_mean                       3427 non-null   float64\n",
      " 9   blockchain/block_count                      3427 non-null   float64\n",
      " 10  blockchain/block_interval_mean              3427 non-null   float64\n",
      " 11  blockchain/block_size_sum                   3427 non-null   float64\n",
      " 12  fees/volume_sum                             3427 non-null   float64\n",
      " 13  fees/volume_mean                            3427 non-null   float64\n",
      " 14  fees/fee_ratio_multiple                     3427 non-null   float64\n",
      " 15  blockchain/utxo_created_count               3427 non-null   float64\n",
      " 16  blockchain/utxo_spent_count                 3427 non-null   float64\n",
      " 17  blockchain/utxo_created_value_sum           3427 non-null   float64\n",
      " 18  blockchain/utxo_spent_value_sum             3427 non-null   float64\n",
      " 19  blockchain/utxo_profit_relative             3427 non-null   float64\n",
      " 20  blockchain/utxo_profit_count                3427 non-null   float64\n",
      " 21  blockchain/utxo_loss_count                  3427 non-null   float64\n",
      " 22  supply/current                              3427 non-null   float64\n",
      " 23  supply/profit_relative                      3427 non-null   float64\n",
      " 24  supply/profit_sum                           3427 non-null   float64\n",
      " 25  supply/loss_sum                             3427 non-null   float64\n",
      " 26  supply/active_more_1y_percent               3427 non-null   float64\n",
      " 27  supply/active_more_2y_percent               3427 non-null   float64\n",
      " 28  supply/active_more_3y_percent               3427 non-null   float64\n",
      " 29  supply/active_more_5y_percent               3427 non-null   float64\n",
      " 30  supply/active_24h                           3427 non-null   float64\n",
      " 31  supply/active_1d_1w                         3427 non-null   float64\n",
      " 32  supply/active_1w_1m                         3427 non-null   float64\n",
      " 33  supply/active_1m_3m                         3427 non-null   float64\n",
      " 34  supply/active_3m_6m                         3427 non-null   float64\n",
      " 35  supply/active_6m_12m                        3427 non-null   float64\n",
      " 36  supply/active_1y_2y                         3427 non-null   float64\n",
      " 37  supply/active_2y_3y                         3427 non-null   float64\n",
      " 38  supply/active_3y_5y                         3427 non-null   float64\n",
      " 39  supply/active_5y_7y                         3427 non-null   float64\n",
      " 40  supply/active_7y_10y                        3427 non-null   float64\n",
      " 41  supply/active_more_10y                      3427 non-null   float64\n",
      " 42  supply/issued                               3427 non-null   float64\n",
      " 43  supply/inflation_rate                       3427 non-null   float64\n",
      " 44  transactions/count                          3427 non-null   float64\n",
      " 45  transactions/size_sum                       3427 non-null   float64\n",
      " 46  transactions/transfers_volume_sum           3427 non-null   float64\n",
      " 47  transactions/transfers_volume_adjusted_sum  3427 non-null   float64\n",
      " 48  indicators/sopr_adjusted                    3427 non-null   float64\n",
      " 49  indicators/nvt                              3427 non-null   float64\n",
      " 50  indicators/velocity                         3427 non-null   float64\n",
      " 51  indicators/cdd                              3427 non-null   float64\n",
      " 52  indicators/reserve_risk                     3427 non-null   float64\n",
      " 53  indicators/average_dormancy                 3427 non-null   float64\n",
      " 54  indicators/liveliness                       3427 non-null   float64\n",
      " 55  indicators/asol                             3427 non-null   float64\n",
      " 56  indicators/sol_1h                           3427 non-null   float64\n",
      " 57  indicators/sol_1h_24h                       3427 non-null   float64\n",
      " 58  indicators/sol_1d_1w                        3427 non-null   float64\n",
      " 59  indicators/sol_1w_1m                        3427 non-null   float64\n",
      " 60  indicators/sol_1m_3m                        3427 non-null   float64\n",
      " 61  indicators/sol_3m_6m                        3427 non-null   float64\n",
      " 62  indicators/sol_6m_12m                       3427 non-null   float64\n",
      " 63  indicators/sol_1y_2y                        3427 non-null   float64\n",
      " 64  indicators/sol_2y_3y                        3427 non-null   float64\n",
      " 65  indicators/sol_3y_5y                        3427 non-null   float64\n",
      " 66  indicators/sol_5y_7y                        3427 non-null   float64\n",
      " 67  indicators/sol_7y_10y                       3427 non-null   float64\n",
      " 68  indicators/net_unrealized_profit_loss       3427 non-null   float64\n",
      " 69  indicators/unrealized_profit                3427 non-null   float64\n",
      " 70  indicators/unrealized_loss                  3427 non-null   float64\n",
      " 71  indicators/net_realized_profit_loss         3427 non-null   float64\n",
      " 72  indicators/realized_profit                  3427 non-null   float64\n",
      " 73  indicators/realized_loss                    3427 non-null   float64\n",
      " 74  indicators/nupl_more_155                    3427 non-null   float64\n",
      " 75  indicators/nupl_less_155                    3427 non-null   float64\n",
      " 76  indicators/puell_multiple                   3427 non-null   float64\n",
      " 77  indicators/stock_to_flow_deflection         3427 non-null   float64\n",
      " 78  indicators/difficulty_ribbon_compression    3427 non-null   float64\n",
      " 79  addresses/active_count                      3427 non-null   float64\n",
      " 80  addresses/sending_count                     3427 non-null   float64\n",
      " 81  addresses/receiving_count                   3427 non-null   float64\n",
      " 82  addresses/new_non_zero_count                3427 non-null   float64\n",
      " 83  addresses/non_zero_count                    3427 non-null   float64\n",
      " 84  addresses/min_point_zero_1_count            3427 non-null   float64\n",
      " 85  addresses/min_point_1_count                 3427 non-null   float64\n",
      " 86  addresses/min_1_count                       3427 non-null   float64\n",
      " 87  addresses/min_10_count                      3427 non-null   float64\n",
      " 88  addresses/min_100_count                     3427 non-null   float64\n",
      " 89  addresses/min_1k_count                      3427 non-null   float64\n",
      " 90  addresses/min_10k_count                     3427 non-null   float64\n",
      "dtypes: float64(91)\n",
      "memory usage: 2.4 MB\n"
     ]
    }
   ],
   "source": [
    "df_blockchain.info()"
   ]
  },
  {
   "cell_type": "code",
   "execution_count": 92,
   "metadata": {
    "ExecuteTime": {
     "end_time": "2020-11-23T00:15:16.982716Z",
     "start_time": "2020-11-23T00:15:16.291Z"
    }
   },
   "outputs": [
    {
     "data": {
      "text/html": [
       "<div>\n",
       "<style scoped>\n",
       "    .dataframe tbody tr th:only-of-type {\n",
       "        vertical-align: middle;\n",
       "    }\n",
       "\n",
       "    .dataframe tbody tr th {\n",
       "        vertical-align: top;\n",
       "    }\n",
       "\n",
       "    .dataframe thead th {\n",
       "        text-align: right;\n",
       "    }\n",
       "</style>\n",
       "<table border=\"1\" class=\"dataframe\">\n",
       "  <thead>\n",
       "    <tr style=\"text-align: right;\">\n",
       "      <th></th>\n",
       "      <th>Daily Return in USD</th>\n",
       "      <th>Log Price in USD</th>\n",
       "      <th>Volatility Daily Log Return in Percent 5D</th>\n",
       "      <th>market/price_usd_close</th>\n",
       "      <th>market/price_drawdown_relative</th>\n",
       "      <th>market/price_realized_usd</th>\n",
       "      <th>market/mvrv</th>\n",
       "      <th>mining/difficulty_latest</th>\n",
       "      <th>mining/hash_rate_mean</th>\n",
       "      <th>blockchain/block_count</th>\n",
       "      <th>...</th>\n",
       "      <th>addresses/receiving_count</th>\n",
       "      <th>addresses/new_non_zero_count</th>\n",
       "      <th>addresses/non_zero_count</th>\n",
       "      <th>addresses/min_point_zero_1_count</th>\n",
       "      <th>addresses/min_point_1_count</th>\n",
       "      <th>addresses/min_1_count</th>\n",
       "      <th>addresses/min_10_count</th>\n",
       "      <th>addresses/min_100_count</th>\n",
       "      <th>addresses/min_1k_count</th>\n",
       "      <th>addresses/min_10k_count</th>\n",
       "    </tr>\n",
       "    <tr>\n",
       "      <th>Date</th>\n",
       "      <th></th>\n",
       "      <th></th>\n",
       "      <th></th>\n",
       "      <th></th>\n",
       "      <th></th>\n",
       "      <th></th>\n",
       "      <th></th>\n",
       "      <th></th>\n",
       "      <th></th>\n",
       "      <th></th>\n",
       "      <th></th>\n",
       "      <th></th>\n",
       "      <th></th>\n",
       "      <th></th>\n",
       "      <th></th>\n",
       "      <th></th>\n",
       "      <th></th>\n",
       "      <th></th>\n",
       "      <th></th>\n",
       "      <th></th>\n",
       "      <th></th>\n",
       "    </tr>\n",
       "  </thead>\n",
       "  <tbody>\n",
       "    <tr>\n",
       "      <th>2020-11-27</th>\n",
       "      <td>-9.566168</td>\n",
       "      <td>9.746642</td>\n",
       "      <td>4.829046</td>\n",
       "      <td>17096.724533</td>\n",
       "      <td>-0.137049</td>\n",
       "      <td>7324.711202</td>\n",
       "      <td>2.321520</td>\n",
       "      <td>75577685065077505392640.000000</td>\n",
       "      <td>134789789111882006528.000000</td>\n",
       "      <td>154.000000</td>\n",
       "      <td>...</td>\n",
       "      <td>719222.000000</td>\n",
       "      <td>513799.000000</td>\n",
       "      <td>32675862.000000</td>\n",
       "      <td>8515464.000000</td>\n",
       "      <td>3121227.000000</td>\n",
       "      <td>820011.000000</td>\n",
       "      <td>154563.000000</td>\n",
       "      <td>16089.000000</td>\n",
       "      <td>2263.000000</td>\n",
       "      <td>109.000000</td>\n",
       "    </tr>\n",
       "    <tr>\n",
       "      <th>2020-11-28</th>\n",
       "      <td>617.336053</td>\n",
       "      <td>9.782114</td>\n",
       "      <td>5.343618</td>\n",
       "      <td>17714.060586</td>\n",
       "      <td>-0.105889</td>\n",
       "      <td>7331.626545</td>\n",
       "      <td>2.360943</td>\n",
       "      <td>75577685065077505392640.000000</td>\n",
       "      <td>133670565738951000064.000000</td>\n",
       "      <td>154.000000</td>\n",
       "      <td>...</td>\n",
       "      <td>644191.000000</td>\n",
       "      <td>472882.000000</td>\n",
       "      <td>32586624.000000</td>\n",
       "      <td>8481925.000000</td>\n",
       "      <td>3118114.000000</td>\n",
       "      <td>820175.000000</td>\n",
       "      <td>154599.000000</td>\n",
       "      <td>16082.000000</td>\n",
       "      <td>2262.000000</td>\n",
       "      <td>109.000000</td>\n",
       "    </tr>\n",
       "    <tr>\n",
       "      <th>2020-11-29</th>\n",
       "      <td>433.575874</td>\n",
       "      <td>9.806296</td>\n",
       "      <td>5.044789</td>\n",
       "      <td>18147.636460</td>\n",
       "      <td>-0.084005</td>\n",
       "      <td>7344.014152</td>\n",
       "      <td>2.449016</td>\n",
       "      <td>82279353027041903509504.000000</td>\n",
       "      <td>135712889718699999232.000000</td>\n",
       "      <td>150.000000</td>\n",
       "      <td>...</td>\n",
       "      <td>588994.000000</td>\n",
       "      <td>434832.000000</td>\n",
       "      <td>32586946.000000</td>\n",
       "      <td>8468254.000000</td>\n",
       "      <td>3111465.000000</td>\n",
       "      <td>819629.000000</td>\n",
       "      <td>154481.000000</td>\n",
       "      <td>16105.000000</td>\n",
       "      <td>2262.000000</td>\n",
       "      <td>109.000000</td>\n",
       "    </tr>\n",
       "    <tr>\n",
       "      <th>2020-11-30</th>\n",
       "      <td>1542.174085</td>\n",
       "      <td>9.887857</td>\n",
       "      <td>6.440478</td>\n",
       "      <td>19689.810545</td>\n",
       "      <td>-0.006164</td>\n",
       "      <td>7383.431438</td>\n",
       "      <td>2.555244</td>\n",
       "      <td>82279353027041903509504.000000</td>\n",
       "      <td>107377083337826992128.000000</td>\n",
       "      <td>113.000000</td>\n",
       "      <td>...</td>\n",
       "      <td>623543.000000</td>\n",
       "      <td>441143.000000</td>\n",
       "      <td>32659333.000000</td>\n",
       "      <td>8499912.000000</td>\n",
       "      <td>3117495.000000</td>\n",
       "      <td>821144.000000</td>\n",
       "      <td>154578.000000</td>\n",
       "      <td>16150.000000</td>\n",
       "      <td>2261.000000</td>\n",
       "      <td>109.000000</td>\n",
       "    </tr>\n",
       "    <tr>\n",
       "      <th>2020-12-01</th>\n",
       "      <td>-826.029684</td>\n",
       "      <td>9.844999</td>\n",
       "      <td>4.587865</td>\n",
       "      <td>18863.780861</td>\n",
       "      <td>-0.049165</td>\n",
       "      <td>7433.569725</td>\n",
       "      <td>2.590058</td>\n",
       "      <td>82279353027041903509504.000000</td>\n",
       "      <td>146392546734912995328.000000</td>\n",
       "      <td>152.000000</td>\n",
       "      <td>...</td>\n",
       "      <td>841565.000000</td>\n",
       "      <td>614449.000000</td>\n",
       "      <td>32764603.000000</td>\n",
       "      <td>8525194.000000</td>\n",
       "      <td>3115114.000000</td>\n",
       "      <td>820762.000000</td>\n",
       "      <td>154377.000000</td>\n",
       "      <td>16130.000000</td>\n",
       "      <td>2259.000000</td>\n",
       "      <td>108.000000</td>\n",
       "    </tr>\n",
       "  </tbody>\n",
       "</table>\n",
       "<p>5 rows × 91 columns</p>\n",
       "</div>"
      ],
      "text/plain": [
       "            Daily Return in USD  Log Price in USD  \\\n",
       "Date                                                \n",
       "2020-11-27            -9.566168          9.746642   \n",
       "2020-11-28           617.336053          9.782114   \n",
       "2020-11-29           433.575874          9.806296   \n",
       "2020-11-30          1542.174085          9.887857   \n",
       "2020-12-01          -826.029684          9.844999   \n",
       "\n",
       "            Volatility Daily Log Return in Percent 5D  market/price_usd_close  \\\n",
       "Date                                                                            \n",
       "2020-11-27                                   4.829046            17096.724533   \n",
       "2020-11-28                                   5.343618            17714.060586   \n",
       "2020-11-29                                   5.044789            18147.636460   \n",
       "2020-11-30                                   6.440478            19689.810545   \n",
       "2020-12-01                                   4.587865            18863.780861   \n",
       "\n",
       "            market/price_drawdown_relative  market/price_realized_usd  \\\n",
       "Date                                                                    \n",
       "2020-11-27                       -0.137049                7324.711202   \n",
       "2020-11-28                       -0.105889                7331.626545   \n",
       "2020-11-29                       -0.084005                7344.014152   \n",
       "2020-11-30                       -0.006164                7383.431438   \n",
       "2020-12-01                       -0.049165                7433.569725   \n",
       "\n",
       "            market/mvrv       mining/difficulty_latest  \\\n",
       "Date                                                     \n",
       "2020-11-27     2.321520 75577685065077505392640.000000   \n",
       "2020-11-28     2.360943 75577685065077505392640.000000   \n",
       "2020-11-29     2.449016 82279353027041903509504.000000   \n",
       "2020-11-30     2.555244 82279353027041903509504.000000   \n",
       "2020-12-01     2.590058 82279353027041903509504.000000   \n",
       "\n",
       "                  mining/hash_rate_mean  blockchain/block_count  ...  \\\n",
       "Date                                                             ...   \n",
       "2020-11-27 134789789111882006528.000000              154.000000  ...   \n",
       "2020-11-28 133670565738951000064.000000              154.000000  ...   \n",
       "2020-11-29 135712889718699999232.000000              150.000000  ...   \n",
       "2020-11-30 107377083337826992128.000000              113.000000  ...   \n",
       "2020-12-01 146392546734912995328.000000              152.000000  ...   \n",
       "\n",
       "            addresses/receiving_count  addresses/new_non_zero_count  \\\n",
       "Date                                                                  \n",
       "2020-11-27              719222.000000                 513799.000000   \n",
       "2020-11-28              644191.000000                 472882.000000   \n",
       "2020-11-29              588994.000000                 434832.000000   \n",
       "2020-11-30              623543.000000                 441143.000000   \n",
       "2020-12-01              841565.000000                 614449.000000   \n",
       "\n",
       "            addresses/non_zero_count  addresses/min_point_zero_1_count  \\\n",
       "Date                                                                     \n",
       "2020-11-27           32675862.000000                    8515464.000000   \n",
       "2020-11-28           32586624.000000                    8481925.000000   \n",
       "2020-11-29           32586946.000000                    8468254.000000   \n",
       "2020-11-30           32659333.000000                    8499912.000000   \n",
       "2020-12-01           32764603.000000                    8525194.000000   \n",
       "\n",
       "            addresses/min_point_1_count  addresses/min_1_count  \\\n",
       "Date                                                             \n",
       "2020-11-27               3121227.000000          820011.000000   \n",
       "2020-11-28               3118114.000000          820175.000000   \n",
       "2020-11-29               3111465.000000          819629.000000   \n",
       "2020-11-30               3117495.000000          821144.000000   \n",
       "2020-12-01               3115114.000000          820762.000000   \n",
       "\n",
       "            addresses/min_10_count  addresses/min_100_count  \\\n",
       "Date                                                          \n",
       "2020-11-27           154563.000000             16089.000000   \n",
       "2020-11-28           154599.000000             16082.000000   \n",
       "2020-11-29           154481.000000             16105.000000   \n",
       "2020-11-30           154578.000000             16150.000000   \n",
       "2020-12-01           154377.000000             16130.000000   \n",
       "\n",
       "            addresses/min_1k_count  addresses/min_10k_count  \n",
       "Date                                                         \n",
       "2020-11-27             2263.000000               109.000000  \n",
       "2020-11-28             2262.000000               109.000000  \n",
       "2020-11-29             2262.000000               109.000000  \n",
       "2020-11-30             2261.000000               109.000000  \n",
       "2020-12-01             2259.000000               108.000000  \n",
       "\n",
       "[5 rows x 91 columns]"
      ]
     },
     "execution_count": 92,
     "metadata": {},
     "output_type": "execute_result"
    }
   ],
   "source": [
    "df_blockchain.tail()"
   ]
  },
  {
   "cell_type": "code",
   "execution_count": 93,
   "metadata": {
    "ExecuteTime": {
     "end_time": "2020-11-23T00:15:16.983715Z",
     "start_time": "2020-11-23T00:15:16.298Z"
    }
   },
   "outputs": [
    {
     "data": {
      "text/html": [
       "<div>\n",
       "<style scoped>\n",
       "    .dataframe tbody tr th:only-of-type {\n",
       "        vertical-align: middle;\n",
       "    }\n",
       "\n",
       "    .dataframe tbody tr th {\n",
       "        vertical-align: top;\n",
       "    }\n",
       "\n",
       "    .dataframe thead th {\n",
       "        text-align: right;\n",
       "    }\n",
       "</style>\n",
       "<table border=\"1\" class=\"dataframe\">\n",
       "  <thead>\n",
       "    <tr style=\"text-align: right;\">\n",
       "      <th></th>\n",
       "      <th>Daily Return in USD</th>\n",
       "      <th>Log Price in USD</th>\n",
       "      <th>Volatility Daily Log Return in Percent 5D</th>\n",
       "      <th>market/price_usd_close</th>\n",
       "      <th>market/price_drawdown_relative</th>\n",
       "      <th>market/price_realized_usd</th>\n",
       "      <th>market/mvrv</th>\n",
       "      <th>mining/difficulty_latest</th>\n",
       "      <th>mining/hash_rate_mean</th>\n",
       "      <th>blockchain/block_count</th>\n",
       "      <th>...</th>\n",
       "      <th>addresses/receiving_count</th>\n",
       "      <th>addresses/new_non_zero_count</th>\n",
       "      <th>addresses/non_zero_count</th>\n",
       "      <th>addresses/min_point_zero_1_count</th>\n",
       "      <th>addresses/min_point_1_count</th>\n",
       "      <th>addresses/min_1_count</th>\n",
       "      <th>addresses/min_10_count</th>\n",
       "      <th>addresses/min_100_count</th>\n",
       "      <th>addresses/min_1k_count</th>\n",
       "      <th>addresses/min_10k_count</th>\n",
       "    </tr>\n",
       "  </thead>\n",
       "  <tbody>\n",
       "    <tr>\n",
       "      <th>count</th>\n",
       "      <td>3427.000000</td>\n",
       "      <td>3427.000000</td>\n",
       "      <td>3427.000000</td>\n",
       "      <td>3427.000000</td>\n",
       "      <td>3427.000000</td>\n",
       "      <td>3427.000000</td>\n",
       "      <td>3427.000000</td>\n",
       "      <td>3427.000000</td>\n",
       "      <td>3427.000000</td>\n",
       "      <td>3427.000000</td>\n",
       "      <td>...</td>\n",
       "      <td>3427.000000</td>\n",
       "      <td>3427.000000</td>\n",
       "      <td>3427.000000</td>\n",
       "      <td>3427.000000</td>\n",
       "      <td>3427.000000</td>\n",
       "      <td>3427.000000</td>\n",
       "      <td>3427.000000</td>\n",
       "      <td>3427.000000</td>\n",
       "      <td>3427.000000</td>\n",
       "      <td>3427.000000</td>\n",
       "    </tr>\n",
       "    <tr>\n",
       "      <th>mean</th>\n",
       "      <td>5.500429</td>\n",
       "      <td>6.357303</td>\n",
       "      <td>3.536239</td>\n",
       "      <td>3178.286011</td>\n",
       "      <td>-0.549479</td>\n",
       "      <td>1921.066095</td>\n",
       "      <td>1.687814</td>\n",
       "      <td>13809291318056737308672.000000</td>\n",
       "      <td>23400277815955836928.000000</td>\n",
       "      <td>152.634666</td>\n",
       "      <td>...</td>\n",
       "      <td>323952.439743</td>\n",
       "      <td>216789.266414</td>\n",
       "      <td>12162132.882696</td>\n",
       "      <td>3463763.951853</td>\n",
       "      <td>1390346.730960</td>\n",
       "      <td>469910.070907</td>\n",
       "      <td>125418.739714</td>\n",
       "      <td>14676.156697</td>\n",
       "      <td>1618.897286</td>\n",
       "      <td>102.220601</td>\n",
       "    </tr>\n",
       "    <tr>\n",
       "      <th>std</th>\n",
       "      <td>232.809183</td>\n",
       "      <td>2.475641</td>\n",
       "      <td>3.362698</td>\n",
       "      <td>4179.356515</td>\n",
       "      <td>0.230680</td>\n",
       "      <td>2390.891152</td>\n",
       "      <td>0.743507</td>\n",
       "      <td>23076639658811274035200.000000</td>\n",
       "      <td>39002884300803047424.000000</td>\n",
       "      <td>18.998607</td>\n",
       "      <td>...</td>\n",
       "      <td>227728.669831</td>\n",
       "      <td>159518.332733</td>\n",
       "      <td>10795038.352755</td>\n",
       "      <td>2906740.704137</td>\n",
       "      <td>1026190.126568</td>\n",
       "      <td>239925.805157</td>\n",
       "      <td>28899.790678</td>\n",
       "      <td>3631.075202</td>\n",
       "      <td>386.396933</td>\n",
       "      <td>14.753444</td>\n",
       "    </tr>\n",
       "    <tr>\n",
       "      <th>min</th>\n",
       "      <td>-3052.461475</td>\n",
       "      <td>0.718341</td>\n",
       "      <td>0.157723</td>\n",
       "      <td>2.051027</td>\n",
       "      <td>-0.935694</td>\n",
       "      <td>4.780226</td>\n",
       "      <td>0.402165</td>\n",
       "      <td>4684588175054590.000000</td>\n",
       "      <td>6399665203131.940430</td>\n",
       "      <td>80.000000</td>\n",
       "      <td>...</td>\n",
       "      <td>7539.000000</td>\n",
       "      <td>4241.000000</td>\n",
       "      <td>296738.000000</td>\n",
       "      <td>195085.000000</td>\n",
       "      <td>125059.000000</td>\n",
       "      <td>98120.000000</td>\n",
       "      <td>64333.000000</td>\n",
       "      <td>3746.000000</td>\n",
       "      <td>597.000000</td>\n",
       "      <td>62.000000</td>\n",
       "    </tr>\n",
       "    <tr>\n",
       "      <th>25%</th>\n",
       "      <td>-6.980254</td>\n",
       "      <td>5.405136</td>\n",
       "      <td>1.517253</td>\n",
       "      <td>222.546633</td>\n",
       "      <td>-0.715045</td>\n",
       "      <td>110.887151</td>\n",
       "      <td>1.184703</td>\n",
       "      <td>2617708177598920192.000000</td>\n",
       "      <td>4798276647006305.000000</td>\n",
       "      <td>140.000000</td>\n",
       "      <td>...</td>\n",
       "      <td>98356.000000</td>\n",
       "      <td>60727.500000</td>\n",
       "      <td>2080736.500000</td>\n",
       "      <td>684792.500000</td>\n",
       "      <td>399635.000000</td>\n",
       "      <td>232553.500000</td>\n",
       "      <td>98981.500000</td>\n",
       "      <td>12878.500000</td>\n",
       "      <td>1458.000000</td>\n",
       "      <td>96.000000</td>\n",
       "    </tr>\n",
       "    <tr>\n",
       "      <th>50%</th>\n",
       "      <td>0.102697</td>\n",
       "      <td>6.416282</td>\n",
       "      <td>2.653754</td>\n",
       "      <td>611.724312</td>\n",
       "      <td>-0.596692</td>\n",
       "      <td>349.907576</td>\n",
       "      <td>1.598906</td>\n",
       "      <td>710803494424285937664.000000</td>\n",
       "      <td>1207072827652849920.000000</td>\n",
       "      <td>152.000000</td>\n",
       "      <td>...</td>\n",
       "      <td>366101.000000</td>\n",
       "      <td>223657.000000</td>\n",
       "      <td>7436662.000000</td>\n",
       "      <td>2567356.000000</td>\n",
       "      <td>1186798.000000</td>\n",
       "      <td>476115.000000</td>\n",
       "      <td>138103.000000</td>\n",
       "      <td>16185.000000</td>\n",
       "      <td>1683.000000</td>\n",
       "      <td>105.000000</td>\n",
       "    </tr>\n",
       "    <tr>\n",
       "      <th>75%</th>\n",
       "      <td>12.756603</td>\n",
       "      <td>8.780327</td>\n",
       "      <td>4.417728</td>\n",
       "      <td>6505.004406</td>\n",
       "      <td>-0.450774</td>\n",
       "      <td>4860.182349</td>\n",
       "      <td>1.977049</td>\n",
       "      <td>23036823578322000674816.000000</td>\n",
       "      <td>38314210336822706176.000000</td>\n",
       "      <td>164.000000</td>\n",
       "      <td>...</td>\n",
       "      <td>509692.000000</td>\n",
       "      <td>348885.500000</td>\n",
       "      <td>22404783.000000</td>\n",
       "      <td>6385967.500000</td>\n",
       "      <td>2461892.500000</td>\n",
       "      <td>710453.500000</td>\n",
       "      <td>149749.000000</td>\n",
       "      <td>17153.000000</td>\n",
       "      <td>1843.000000</td>\n",
       "      <td>113.000000</td>\n",
       "    </tr>\n",
       "    <tr>\n",
       "      <th>max</th>\n",
       "      <td>3224.132131</td>\n",
       "      <td>9.887857</td>\n",
       "      <td>41.749946</td>\n",
       "      <td>19689.810545</td>\n",
       "      <td>0.000000</td>\n",
       "      <td>7433.569725</td>\n",
       "      <td>5.733982</td>\n",
       "      <td>85887904103269694177280.000000</td>\n",
       "      <td>160765244797356015616.000000</td>\n",
       "      <td>260.000000</td>\n",
       "      <td>...</td>\n",
       "      <td>1072829.000000</td>\n",
       "      <td>800180.000000</td>\n",
       "      <td>32849437.000000</td>\n",
       "      <td>8753449.000000</td>\n",
       "      <td>3186455.000000</td>\n",
       "      <td>825254.000000</td>\n",
       "      <td>157275.000000</td>\n",
       "      <td>18543.000000</td>\n",
       "      <td>2274.000000</td>\n",
       "      <td>126.000000</td>\n",
       "    </tr>\n",
       "  </tbody>\n",
       "</table>\n",
       "<p>8 rows × 91 columns</p>\n",
       "</div>"
      ],
      "text/plain": [
       "       Daily Return in USD  Log Price in USD  \\\n",
       "count          3427.000000       3427.000000   \n",
       "mean              5.500429          6.357303   \n",
       "std             232.809183          2.475641   \n",
       "min           -3052.461475          0.718341   \n",
       "25%              -6.980254          5.405136   \n",
       "50%               0.102697          6.416282   \n",
       "75%              12.756603          8.780327   \n",
       "max            3224.132131          9.887857   \n",
       "\n",
       "       Volatility Daily Log Return in Percent 5D  market/price_usd_close  \\\n",
       "count                                3427.000000             3427.000000   \n",
       "mean                                    3.536239             3178.286011   \n",
       "std                                     3.362698             4179.356515   \n",
       "min                                     0.157723                2.051027   \n",
       "25%                                     1.517253              222.546633   \n",
       "50%                                     2.653754              611.724312   \n",
       "75%                                     4.417728             6505.004406   \n",
       "max                                    41.749946            19689.810545   \n",
       "\n",
       "       market/price_drawdown_relative  market/price_realized_usd  market/mvrv  \\\n",
       "count                     3427.000000                3427.000000  3427.000000   \n",
       "mean                        -0.549479                1921.066095     1.687814   \n",
       "std                          0.230680                2390.891152     0.743507   \n",
       "min                         -0.935694                   4.780226     0.402165   \n",
       "25%                         -0.715045                 110.887151     1.184703   \n",
       "50%                         -0.596692                 349.907576     1.598906   \n",
       "75%                         -0.450774                4860.182349     1.977049   \n",
       "max                          0.000000                7433.569725     5.733982   \n",
       "\n",
       "            mining/difficulty_latest        mining/hash_rate_mean  \\\n",
       "count                    3427.000000                  3427.000000   \n",
       "mean  13809291318056737308672.000000  23400277815955836928.000000   \n",
       "std   23076639658811274035200.000000  39002884300803047424.000000   \n",
       "min          4684588175054590.000000         6399665203131.940430   \n",
       "25%       2617708177598920192.000000      4798276647006305.000000   \n",
       "50%     710803494424285937664.000000   1207072827652849920.000000   \n",
       "75%   23036823578322000674816.000000  38314210336822706176.000000   \n",
       "max   85887904103269694177280.000000 160765244797356015616.000000   \n",
       "\n",
       "       blockchain/block_count  ...  addresses/receiving_count  \\\n",
       "count             3427.000000  ...                3427.000000   \n",
       "mean               152.634666  ...              323952.439743   \n",
       "std                 18.998607  ...              227728.669831   \n",
       "min                 80.000000  ...                7539.000000   \n",
       "25%                140.000000  ...               98356.000000   \n",
       "50%                152.000000  ...              366101.000000   \n",
       "75%                164.000000  ...              509692.000000   \n",
       "max                260.000000  ...             1072829.000000   \n",
       "\n",
       "       addresses/new_non_zero_count  addresses/non_zero_count  \\\n",
       "count                   3427.000000               3427.000000   \n",
       "mean                  216789.266414           12162132.882696   \n",
       "std                   159518.332733           10795038.352755   \n",
       "min                     4241.000000             296738.000000   \n",
       "25%                    60727.500000            2080736.500000   \n",
       "50%                   223657.000000            7436662.000000   \n",
       "75%                   348885.500000           22404783.000000   \n",
       "max                   800180.000000           32849437.000000   \n",
       "\n",
       "       addresses/min_point_zero_1_count  addresses/min_point_1_count  \\\n",
       "count                       3427.000000                  3427.000000   \n",
       "mean                     3463763.951853               1390346.730960   \n",
       "std                      2906740.704137               1026190.126568   \n",
       "min                       195085.000000                125059.000000   \n",
       "25%                       684792.500000                399635.000000   \n",
       "50%                      2567356.000000               1186798.000000   \n",
       "75%                      6385967.500000               2461892.500000   \n",
       "max                      8753449.000000               3186455.000000   \n",
       "\n",
       "       addresses/min_1_count  addresses/min_10_count  addresses/min_100_count  \\\n",
       "count            3427.000000             3427.000000              3427.000000   \n",
       "mean           469910.070907           125418.739714             14676.156697   \n",
       "std            239925.805157            28899.790678              3631.075202   \n",
       "min             98120.000000            64333.000000              3746.000000   \n",
       "25%            232553.500000            98981.500000             12878.500000   \n",
       "50%            476115.000000           138103.000000             16185.000000   \n",
       "75%            710453.500000           149749.000000             17153.000000   \n",
       "max            825254.000000           157275.000000             18543.000000   \n",
       "\n",
       "       addresses/min_1k_count  addresses/min_10k_count  \n",
       "count             3427.000000              3427.000000  \n",
       "mean              1618.897286               102.220601  \n",
       "std                386.396933                14.753444  \n",
       "min                597.000000                62.000000  \n",
       "25%               1458.000000                96.000000  \n",
       "50%               1683.000000               105.000000  \n",
       "75%               1843.000000               113.000000  \n",
       "max               2274.000000               126.000000  \n",
       "\n",
       "[8 rows x 91 columns]"
      ]
     },
     "execution_count": 93,
     "metadata": {},
     "output_type": "execute_result"
    }
   ],
   "source": [
    "# Summary of each variable\n",
    "df_blockchain.describe()"
   ]
  },
  {
   "cell_type": "code",
   "execution_count": 94,
   "metadata": {
    "ExecuteTime": {
     "end_time": "2020-11-23T00:15:16.984716Z",
     "start_time": "2020-11-23T00:15:16.304Z"
    }
   },
   "outputs": [],
   "source": [
    "# Creating CSV-File of Blockchain Data\n",
    "df_blockchain.to_csv(\"df_dataset1.csv\")"
   ]
  },
  {
   "cell_type": "code",
   "execution_count": null,
   "metadata": {},
   "outputs": [],
   "source": []
  },
  {
   "cell_type": "markdown",
   "metadata": {},
   "source": [
    "# Classification Models - Data Set Variations"
   ]
  },
  {
   "cell_type": "code",
   "execution_count": 1,
   "metadata": {
    "ExecuteTime": {
     "end_time": "2020-12-25T22:13:07.807818Z",
     "start_time": "2020-12-25T22:13:03.155574Z"
    },
    "scrolled": true
   },
   "outputs": [],
   "source": [
    "# Import of Modules and Packages\n",
    "import os\n",
    "import pandas as pd\n",
    "import matplotlib.pyplot as plt\n",
    "import math\n",
    "\n",
    "from sklearn.preprocessing import StandardScaler, MinMaxScaler\n",
    "\n",
    "from sklearn.model_selection import train_test_split\n",
    "from sklearn.model_selection import cross_val_score\n",
    "from sklearn.model_selection import StratifiedKFold\n",
    "from sklearn.metrics import roc_auc_score, roc_curve\n",
    "from sklearn.metrics import confusion_matrix, classification_report\n",
    "\n",
    "# Logistic Regression\n",
    "from sklearn.linear_model import LogisticRegression\n",
    "from sklearn.tree import DecisionTreeClassifier\n",
    "from sklearn.ensemble import RandomForestClassifier\n",
    "from sklearn.neighbors import KNeighborsClassifier\n",
    "from pycaret.classification import *\n",
    "\n",
    "# Deep Neural Networks\n",
    "from tensorflow import keras\n",
    "from keras.wrappers.scikit_learn import KerasClassifier\n",
    "from keras.models import Sequential\n",
    "from keras.layers import Dense\n",
    "from keras.optimizers import SGD\n",
    "from keras.optimizers import Adam\n",
    "import numpy as np\n",
    "\n",
    "# PyCaret\n",
    "import pycaret"
   ]
  },
  {
   "cell_type": "code",
   "execution_count": 2,
   "metadata": {
    "ExecuteTime": {
     "end_time": "2020-12-25T22:13:07.823549Z",
     "start_time": "2020-12-25T22:13:07.809312Z"
    }
   },
   "outputs": [],
   "source": [
    "# Adjustment of Decimal Places\n",
    "pd.options.display.float_format = '{:.2f}'.format"
   ]
  },
  {
   "cell_type": "markdown",
   "metadata": {},
   "source": [
    "# Import Data Sets"
   ]
  },
  {
   "cell_type": "markdown",
   "metadata": {},
   "source": [
    "## Data Set I."
   ]
  },
  {
   "cell_type": "code",
   "execution_count": 3,
   "metadata": {
    "ExecuteTime": {
     "end_time": "2020-12-25T22:13:07.839026Z",
     "start_time": "2020-12-25T22:13:07.825544Z"
    }
   },
   "outputs": [
    {
     "data": {
      "text/plain": [
       "'C:\\\\Users\\\\markus.gebele\\\\github_repo\\\\JupyterLabDir\\\\Rest\\\\MA BTC\\\\Markus_Code_MA_final\\\\20201010'"
      ]
     },
     "execution_count": 3,
     "metadata": {},
     "output_type": "execute_result"
    }
   ],
   "source": [
    "os.getcwd()"
   ]
  },
  {
   "cell_type": "code",
   "execution_count": 4,
   "metadata": {
    "ExecuteTime": {
     "end_time": "2020-12-25T22:13:07.933257Z",
     "start_time": "2020-12-25T22:13:07.840505Z"
    }
   },
   "outputs": [],
   "source": [
    "# CSV Import of Data Set I. - Blockchain Data\n",
    "df_dataset1 = pd.read_csv('df_dataset1.csv', parse_dates = True, index_col='Date')"
   ]
  },
  {
   "cell_type": "code",
   "execution_count": 5,
   "metadata": {
    "ExecuteTime": {
     "end_time": "2020-12-25T22:13:07.980130Z",
     "start_time": "2020-12-25T22:13:07.935314Z"
    }
   },
   "outputs": [
    {
     "data": {
      "text/html": [
       "<div>\n",
       "<style scoped>\n",
       "    .dataframe tbody tr th:only-of-type {\n",
       "        vertical-align: middle;\n",
       "    }\n",
       "\n",
       "    .dataframe tbody tr th {\n",
       "        vertical-align: top;\n",
       "    }\n",
       "\n",
       "    .dataframe thead th {\n",
       "        text-align: right;\n",
       "    }\n",
       "</style>\n",
       "<table border=\"1\" class=\"dataframe\">\n",
       "  <thead>\n",
       "    <tr style=\"text-align: right;\">\n",
       "      <th></th>\n",
       "      <th>Daily Return in USD</th>\n",
       "      <th>Log Price in USD</th>\n",
       "      <th>Volatility Daily Log Return in Percent 5D</th>\n",
       "      <th>market/price_usd_close</th>\n",
       "      <th>market/price_drawdown_relative</th>\n",
       "      <th>market/price_realized_usd</th>\n",
       "      <th>market/mvrv</th>\n",
       "      <th>mining/difficulty_latest</th>\n",
       "      <th>mining/hash_rate_mean</th>\n",
       "      <th>blockchain/block_count</th>\n",
       "      <th>...</th>\n",
       "      <th>addresses/receiving_count</th>\n",
       "      <th>addresses/new_non_zero_count</th>\n",
       "      <th>addresses/non_zero_count</th>\n",
       "      <th>addresses/min_point_zero_1_count</th>\n",
       "      <th>addresses/min_point_1_count</th>\n",
       "      <th>addresses/min_1_count</th>\n",
       "      <th>addresses/min_10_count</th>\n",
       "      <th>addresses/min_100_count</th>\n",
       "      <th>addresses/min_1k_count</th>\n",
       "      <th>addresses/min_10k_count</th>\n",
       "    </tr>\n",
       "    <tr>\n",
       "      <th>Date</th>\n",
       "      <th></th>\n",
       "      <th></th>\n",
       "      <th></th>\n",
       "      <th></th>\n",
       "      <th></th>\n",
       "      <th></th>\n",
       "      <th></th>\n",
       "      <th></th>\n",
       "      <th></th>\n",
       "      <th></th>\n",
       "      <th></th>\n",
       "      <th></th>\n",
       "      <th></th>\n",
       "      <th></th>\n",
       "      <th></th>\n",
       "      <th></th>\n",
       "      <th></th>\n",
       "      <th></th>\n",
       "      <th></th>\n",
       "      <th></th>\n",
       "      <th></th>\n",
       "    </tr>\n",
       "  </thead>\n",
       "  <tbody>\n",
       "    <tr>\n",
       "      <th>2011-07-16</th>\n",
       "      <td>-0.09</td>\n",
       "      <td>2.62</td>\n",
       "      <td>0.70</td>\n",
       "      <td>13.72</td>\n",
       "      <td>-0.57</td>\n",
       "      <td>7.31</td>\n",
       "      <td>1.87</td>\n",
       "      <td>6713154126051590.00</td>\n",
       "      <td>11654137109701.80</td>\n",
       "      <td>157.00</td>\n",
       "      <td>...</td>\n",
       "      <td>20543.00</td>\n",
       "      <td>14625.00</td>\n",
       "      <td>296738.00</td>\n",
       "      <td>196860.00</td>\n",
       "      <td>126035.00</td>\n",
       "      <td>99005.00</td>\n",
       "      <td>64333.00</td>\n",
       "      <td>3805.00</td>\n",
       "      <td>598.00</td>\n",
       "      <td>62.00</td>\n",
       "    </tr>\n",
       "    <tr>\n",
       "      <th>2011-07-17</th>\n",
       "      <td>-0.55</td>\n",
       "      <td>2.58</td>\n",
       "      <td>1.70</td>\n",
       "      <td>13.17</td>\n",
       "      <td>-0.59</td>\n",
       "      <td>7.32</td>\n",
       "      <td>1.82</td>\n",
       "      <td>6713154126051590.00</td>\n",
       "      <td>13208752331351.50</td>\n",
       "      <td>170.00</td>\n",
       "      <td>...</td>\n",
       "      <td>21180.00</td>\n",
       "      <td>15530.00</td>\n",
       "      <td>303267.00</td>\n",
       "      <td>197576.00</td>\n",
       "      <td>126461.00</td>\n",
       "      <td>99364.00</td>\n",
       "      <td>64511.00</td>\n",
       "      <td>3824.00</td>\n",
       "      <td>599.00</td>\n",
       "      <td>62.00</td>\n",
       "    </tr>\n",
       "    <tr>\n",
       "      <th>2011-07-18</th>\n",
       "      <td>0.26</td>\n",
       "      <td>2.60</td>\n",
       "      <td>2.23</td>\n",
       "      <td>13.42</td>\n",
       "      <td>-0.58</td>\n",
       "      <td>7.01</td>\n",
       "      <td>1.86</td>\n",
       "      <td>6713154126051590.00</td>\n",
       "      <td>13355914725081.60</td>\n",
       "      <td>170.00</td>\n",
       "      <td>...</td>\n",
       "      <td>21198.00</td>\n",
       "      <td>15356.00</td>\n",
       "      <td>305043.00</td>\n",
       "      <td>195085.00</td>\n",
       "      <td>125059.00</td>\n",
       "      <td>98120.00</td>\n",
       "      <td>64454.00</td>\n",
       "      <td>3746.00</td>\n",
       "      <td>600.00</td>\n",
       "      <td>63.00</td>\n",
       "    </tr>\n",
       "    <tr>\n",
       "      <th>2011-07-19</th>\n",
       "      <td>0.42</td>\n",
       "      <td>2.63</td>\n",
       "      <td>2.83</td>\n",
       "      <td>13.84</td>\n",
       "      <td>-0.57</td>\n",
       "      <td>7.03</td>\n",
       "      <td>1.96</td>\n",
       "      <td>7262342175053680.00</td>\n",
       "      <td>11065053631354.40</td>\n",
       "      <td>142.00</td>\n",
       "      <td>...</td>\n",
       "      <td>21433.00</td>\n",
       "      <td>15873.00</td>\n",
       "      <td>310575.00</td>\n",
       "      <td>196075.00</td>\n",
       "      <td>125791.00</td>\n",
       "      <td>98755.00</td>\n",
       "      <td>64598.00</td>\n",
       "      <td>3761.00</td>\n",
       "      <td>597.00</td>\n",
       "      <td>63.00</td>\n",
       "    </tr>\n",
       "    <tr>\n",
       "      <th>2011-07-20</th>\n",
       "      <td>-0.15</td>\n",
       "      <td>2.62</td>\n",
       "      <td>2.80</td>\n",
       "      <td>13.69</td>\n",
       "      <td>-0.57</td>\n",
       "      <td>6.97</td>\n",
       "      <td>1.98</td>\n",
       "      <td>7262342175053680.00</td>\n",
       "      <td>12525772772957.20</td>\n",
       "      <td>149.00</td>\n",
       "      <td>...</td>\n",
       "      <td>21633.00</td>\n",
       "      <td>15840.00</td>\n",
       "      <td>315842.00</td>\n",
       "      <td>196368.00</td>\n",
       "      <td>126121.00</td>\n",
       "      <td>99090.00</td>\n",
       "      <td>64643.00</td>\n",
       "      <td>3799.00</td>\n",
       "      <td>598.00</td>\n",
       "      <td>63.00</td>\n",
       "    </tr>\n",
       "    <tr>\n",
       "      <th>...</th>\n",
       "      <td>...</td>\n",
       "      <td>...</td>\n",
       "      <td>...</td>\n",
       "      <td>...</td>\n",
       "      <td>...</td>\n",
       "      <td>...</td>\n",
       "      <td>...</td>\n",
       "      <td>...</td>\n",
       "      <td>...</td>\n",
       "      <td>...</td>\n",
       "      <td>...</td>\n",
       "      <td>...</td>\n",
       "      <td>...</td>\n",
       "      <td>...</td>\n",
       "      <td>...</td>\n",
       "      <td>...</td>\n",
       "      <td>...</td>\n",
       "      <td>...</td>\n",
       "      <td>...</td>\n",
       "      <td>...</td>\n",
       "      <td>...</td>\n",
       "    </tr>\n",
       "    <tr>\n",
       "      <th>2020-12-20</th>\n",
       "      <td>-301.46</td>\n",
       "      <td>10.07</td>\n",
       "      <td>4.24</td>\n",
       "      <td>23549.78</td>\n",
       "      <td>-0.03</td>\n",
       "      <td>8159.47</td>\n",
       "      <td>2.89</td>\n",
       "      <td>80187763369133704478720.00</td>\n",
       "      <td>141220096205307002880.00</td>\n",
       "      <td>151.00</td>\n",
       "      <td>...</td>\n",
       "      <td>638805.00</td>\n",
       "      <td>465212.00</td>\n",
       "      <td>33157050.00</td>\n",
       "      <td>8520195.00</td>\n",
       "      <td>3128579.00</td>\n",
       "      <td>827865.00</td>\n",
       "      <td>153996.00</td>\n",
       "      <td>16101.00</td>\n",
       "      <td>2275.00</td>\n",
       "      <td>107.00</td>\n",
       "    </tr>\n",
       "    <tr>\n",
       "      <th>2020-12-21</th>\n",
       "      <td>-674.33</td>\n",
       "      <td>10.04</td>\n",
       "      <td>3.74</td>\n",
       "      <td>22875.46</td>\n",
       "      <td>-0.05</td>\n",
       "      <td>8205.79</td>\n",
       "      <td>2.83</td>\n",
       "      <td>80187763369133704478720.00</td>\n",
       "      <td>125467801265571004416.00</td>\n",
       "      <td>136.00</td>\n",
       "      <td>...</td>\n",
       "      <td>649831.00</td>\n",
       "      <td>461211.00</td>\n",
       "      <td>33047778.00</td>\n",
       "      <td>8550819.00</td>\n",
       "      <td>3133729.00</td>\n",
       "      <td>828815.00</td>\n",
       "      <td>153675.00</td>\n",
       "      <td>16081.00</td>\n",
       "      <td>2266.00</td>\n",
       "      <td>107.00</td>\n",
       "    </tr>\n",
       "    <tr>\n",
       "      <th>2020-12-22</th>\n",
       "      <td>883.48</td>\n",
       "      <td>10.08</td>\n",
       "      <td>2.89</td>\n",
       "      <td>23758.93</td>\n",
       "      <td>-0.02</td>\n",
       "      <td>8286.35</td>\n",
       "      <td>2.79</td>\n",
       "      <td>80187763369133704478720.00</td>\n",
       "      <td>132165952003620995072.00</td>\n",
       "      <td>143.00</td>\n",
       "      <td>...</td>\n",
       "      <td>738830.00</td>\n",
       "      <td>528210.00</td>\n",
       "      <td>33068915.00</td>\n",
       "      <td>8550157.00</td>\n",
       "      <td>3139132.00</td>\n",
       "      <td>829715.00</td>\n",
       "      <td>153788.00</td>\n",
       "      <td>16136.00</td>\n",
       "      <td>2252.00</td>\n",
       "      <td>105.00</td>\n",
       "    </tr>\n",
       "    <tr>\n",
       "      <th>2020-12-23</th>\n",
       "      <td>-479.38</td>\n",
       "      <td>10.06</td>\n",
       "      <td>3.13</td>\n",
       "      <td>23279.55</td>\n",
       "      <td>-0.04</td>\n",
       "      <td>8375.79</td>\n",
       "      <td>2.81</td>\n",
       "      <td>80187763369133704478720.00</td>\n",
       "      <td>146111617294112997376.00</td>\n",
       "      <td>154.00</td>\n",
       "      <td>...</td>\n",
       "      <td>782721.00</td>\n",
       "      <td>540230.00</td>\n",
       "      <td>33111216.00</td>\n",
       "      <td>8544699.00</td>\n",
       "      <td>3133057.00</td>\n",
       "      <td>828576.00</td>\n",
       "      <td>153724.00</td>\n",
       "      <td>16119.00</td>\n",
       "      <td>2247.00</td>\n",
       "      <td>103.00</td>\n",
       "    </tr>\n",
       "    <tr>\n",
       "      <th>2020-12-24</th>\n",
       "      <td>485.20</td>\n",
       "      <td>10.08</td>\n",
       "      <td>2.86</td>\n",
       "      <td>23764.75</td>\n",
       "      <td>-0.02</td>\n",
       "      <td>8448.07</td>\n",
       "      <td>2.75</td>\n",
       "      <td>80187763369133704478720.00</td>\n",
       "      <td>114954071251531005952.00</td>\n",
       "      <td>126.00</td>\n",
       "      <td>...</td>\n",
       "      <td>639266.00</td>\n",
       "      <td>447429.00</td>\n",
       "      <td>33117973.00</td>\n",
       "      <td>8545074.00</td>\n",
       "      <td>3134905.00</td>\n",
       "      <td>829222.00</td>\n",
       "      <td>153650.00</td>\n",
       "      <td>16089.00</td>\n",
       "      <td>2232.00</td>\n",
       "      <td>103.00</td>\n",
       "    </tr>\n",
       "  </tbody>\n",
       "</table>\n",
       "<p>3450 rows × 91 columns</p>\n",
       "</div>"
      ],
      "text/plain": [
       "            Daily Return in USD  Log Price in USD  \\\n",
       "Date                                                \n",
       "2011-07-16                -0.09              2.62   \n",
       "2011-07-17                -0.55              2.58   \n",
       "2011-07-18                 0.26              2.60   \n",
       "2011-07-19                 0.42              2.63   \n",
       "2011-07-20                -0.15              2.62   \n",
       "...                         ...               ...   \n",
       "2020-12-20              -301.46             10.07   \n",
       "2020-12-21              -674.33             10.04   \n",
       "2020-12-22               883.48             10.08   \n",
       "2020-12-23              -479.38             10.06   \n",
       "2020-12-24               485.20             10.08   \n",
       "\n",
       "            Volatility Daily Log Return in Percent 5D  market/price_usd_close  \\\n",
       "Date                                                                            \n",
       "2011-07-16                                       0.70                   13.72   \n",
       "2011-07-17                                       1.70                   13.17   \n",
       "2011-07-18                                       2.23                   13.42   \n",
       "2011-07-19                                       2.83                   13.84   \n",
       "2011-07-20                                       2.80                   13.69   \n",
       "...                                               ...                     ...   \n",
       "2020-12-20                                       4.24                23549.78   \n",
       "2020-12-21                                       3.74                22875.46   \n",
       "2020-12-22                                       2.89                23758.93   \n",
       "2020-12-23                                       3.13                23279.55   \n",
       "2020-12-24                                       2.86                23764.75   \n",
       "\n",
       "            market/price_drawdown_relative  market/price_realized_usd  \\\n",
       "Date                                                                    \n",
       "2011-07-16                           -0.57                       7.31   \n",
       "2011-07-17                           -0.59                       7.32   \n",
       "2011-07-18                           -0.58                       7.01   \n",
       "2011-07-19                           -0.57                       7.03   \n",
       "2011-07-20                           -0.57                       6.97   \n",
       "...                                    ...                        ...   \n",
       "2020-12-20                           -0.03                    8159.47   \n",
       "2020-12-21                           -0.05                    8205.79   \n",
       "2020-12-22                           -0.02                    8286.35   \n",
       "2020-12-23                           -0.04                    8375.79   \n",
       "2020-12-24                           -0.02                    8448.07   \n",
       "\n",
       "            market/mvrv   mining/difficulty_latest    mining/hash_rate_mean  \\\n",
       "Date                                                                          \n",
       "2011-07-16         1.87        6713154126051590.00        11654137109701.80   \n",
       "2011-07-17         1.82        6713154126051590.00        13208752331351.50   \n",
       "2011-07-18         1.86        6713154126051590.00        13355914725081.60   \n",
       "2011-07-19         1.96        7262342175053680.00        11065053631354.40   \n",
       "2011-07-20         1.98        7262342175053680.00        12525772772957.20   \n",
       "...                 ...                        ...                      ...   \n",
       "2020-12-20         2.89 80187763369133704478720.00 141220096205307002880.00   \n",
       "2020-12-21         2.83 80187763369133704478720.00 125467801265571004416.00   \n",
       "2020-12-22         2.79 80187763369133704478720.00 132165952003620995072.00   \n",
       "2020-12-23         2.81 80187763369133704478720.00 146111617294112997376.00   \n",
       "2020-12-24         2.75 80187763369133704478720.00 114954071251531005952.00   \n",
       "\n",
       "            blockchain/block_count  ...  addresses/receiving_count  \\\n",
       "Date                                ...                              \n",
       "2011-07-16                  157.00  ...                   20543.00   \n",
       "2011-07-17                  170.00  ...                   21180.00   \n",
       "2011-07-18                  170.00  ...                   21198.00   \n",
       "2011-07-19                  142.00  ...                   21433.00   \n",
       "2011-07-20                  149.00  ...                   21633.00   \n",
       "...                            ...  ...                        ...   \n",
       "2020-12-20                  151.00  ...                  638805.00   \n",
       "2020-12-21                  136.00  ...                  649831.00   \n",
       "2020-12-22                  143.00  ...                  738830.00   \n",
       "2020-12-23                  154.00  ...                  782721.00   \n",
       "2020-12-24                  126.00  ...                  639266.00   \n",
       "\n",
       "            addresses/new_non_zero_count  addresses/non_zero_count  \\\n",
       "Date                                                                 \n",
       "2011-07-16                      14625.00                 296738.00   \n",
       "2011-07-17                      15530.00                 303267.00   \n",
       "2011-07-18                      15356.00                 305043.00   \n",
       "2011-07-19                      15873.00                 310575.00   \n",
       "2011-07-20                      15840.00                 315842.00   \n",
       "...                                  ...                       ...   \n",
       "2020-12-20                     465212.00               33157050.00   \n",
       "2020-12-21                     461211.00               33047778.00   \n",
       "2020-12-22                     528210.00               33068915.00   \n",
       "2020-12-23                     540230.00               33111216.00   \n",
       "2020-12-24                     447429.00               33117973.00   \n",
       "\n",
       "            addresses/min_point_zero_1_count  addresses/min_point_1_count  \\\n",
       "Date                                                                        \n",
       "2011-07-16                         196860.00                    126035.00   \n",
       "2011-07-17                         197576.00                    126461.00   \n",
       "2011-07-18                         195085.00                    125059.00   \n",
       "2011-07-19                         196075.00                    125791.00   \n",
       "2011-07-20                         196368.00                    126121.00   \n",
       "...                                      ...                          ...   \n",
       "2020-12-20                        8520195.00                   3128579.00   \n",
       "2020-12-21                        8550819.00                   3133729.00   \n",
       "2020-12-22                        8550157.00                   3139132.00   \n",
       "2020-12-23                        8544699.00                   3133057.00   \n",
       "2020-12-24                        8545074.00                   3134905.00   \n",
       "\n",
       "            addresses/min_1_count  addresses/min_10_count  \\\n",
       "Date                                                        \n",
       "2011-07-16               99005.00                64333.00   \n",
       "2011-07-17               99364.00                64511.00   \n",
       "2011-07-18               98120.00                64454.00   \n",
       "2011-07-19               98755.00                64598.00   \n",
       "2011-07-20               99090.00                64643.00   \n",
       "...                           ...                     ...   \n",
       "2020-12-20              827865.00               153996.00   \n",
       "2020-12-21              828815.00               153675.00   \n",
       "2020-12-22              829715.00               153788.00   \n",
       "2020-12-23              828576.00               153724.00   \n",
       "2020-12-24              829222.00               153650.00   \n",
       "\n",
       "            addresses/min_100_count  addresses/min_1k_count  \\\n",
       "Date                                                          \n",
       "2011-07-16                  3805.00                  598.00   \n",
       "2011-07-17                  3824.00                  599.00   \n",
       "2011-07-18                  3746.00                  600.00   \n",
       "2011-07-19                  3761.00                  597.00   \n",
       "2011-07-20                  3799.00                  598.00   \n",
       "...                             ...                     ...   \n",
       "2020-12-20                 16101.00                 2275.00   \n",
       "2020-12-21                 16081.00                 2266.00   \n",
       "2020-12-22                 16136.00                 2252.00   \n",
       "2020-12-23                 16119.00                 2247.00   \n",
       "2020-12-24                 16089.00                 2232.00   \n",
       "\n",
       "            addresses/min_10k_count  \n",
       "Date                                 \n",
       "2011-07-16                    62.00  \n",
       "2011-07-17                    62.00  \n",
       "2011-07-18                    63.00  \n",
       "2011-07-19                    63.00  \n",
       "2011-07-20                    63.00  \n",
       "...                             ...  \n",
       "2020-12-20                   107.00  \n",
       "2020-12-21                   107.00  \n",
       "2020-12-22                   105.00  \n",
       "2020-12-23                   103.00  \n",
       "2020-12-24                   103.00  \n",
       "\n",
       "[3450 rows x 91 columns]"
      ]
     },
     "execution_count": 5,
     "metadata": {},
     "output_type": "execute_result"
    }
   ],
   "source": [
    "# Daily Return in USD in row 2011-07-16 means the change in \"btc dollar price\" from 2011-07-15 23:59 to 2011-07-16 23:59 \n",
    "# in row 2011-07-17 means the change in \"btc dollar price\" from 2011-07-16 23:59 to 2011-07-17 23:59 \n",
    "\n",
    "df_dataset1"
   ]
  },
  {
   "cell_type": "code",
   "execution_count": 6,
   "metadata": {
    "ExecuteTime": {
     "end_time": "2020-12-25T22:13:08.012066Z",
     "start_time": "2020-12-25T22:13:07.981140Z"
    },
    "scrolled": true
   },
   "outputs": [
    {
     "name": "stdout",
     "output_type": "stream",
     "text": [
      "<class 'pandas.core.frame.DataFrame'>\n",
      "DatetimeIndex: 3450 entries, 2011-07-16 to 2020-12-24\n",
      "Data columns (total 91 columns):\n",
      " #   Column                                      Non-Null Count  Dtype  \n",
      "---  ------                                      --------------  -----  \n",
      " 0   Daily Return in USD                         3450 non-null   float64\n",
      " 1   Log Price in USD                            3450 non-null   float64\n",
      " 2   Volatility Daily Log Return in Percent 5D   3450 non-null   float64\n",
      " 3   market/price_usd_close                      3450 non-null   float64\n",
      " 4   market/price_drawdown_relative              3450 non-null   float64\n",
      " 5   market/price_realized_usd                   3450 non-null   float64\n",
      " 6   market/mvrv                                 3450 non-null   float64\n",
      " 7   mining/difficulty_latest                    3450 non-null   float64\n",
      " 8   mining/hash_rate_mean                       3450 non-null   float64\n",
      " 9   blockchain/block_count                      3450 non-null   float64\n",
      " 10  blockchain/block_interval_mean              3450 non-null   float64\n",
      " 11  blockchain/block_size_sum                   3450 non-null   float64\n",
      " 12  fees/volume_sum                             3450 non-null   float64\n",
      " 13  fees/volume_mean                            3450 non-null   float64\n",
      " 14  fees/fee_ratio_multiple                     3450 non-null   float64\n",
      " 15  blockchain/utxo_created_count               3450 non-null   float64\n",
      " 16  blockchain/utxo_spent_count                 3450 non-null   float64\n",
      " 17  blockchain/utxo_created_value_sum           3450 non-null   float64\n",
      " 18  blockchain/utxo_spent_value_sum             3450 non-null   float64\n",
      " 19  blockchain/utxo_profit_relative             3450 non-null   float64\n",
      " 20  blockchain/utxo_profit_count                3450 non-null   float64\n",
      " 21  blockchain/utxo_loss_count                  3450 non-null   float64\n",
      " 22  supply/current                              3450 non-null   float64\n",
      " 23  supply/profit_relative                      3450 non-null   float64\n",
      " 24  supply/profit_sum                           3450 non-null   float64\n",
      " 25  supply/loss_sum                             3450 non-null   float64\n",
      " 26  supply/active_more_1y_percent               3450 non-null   float64\n",
      " 27  supply/active_more_2y_percent               3450 non-null   float64\n",
      " 28  supply/active_more_3y_percent               3450 non-null   float64\n",
      " 29  supply/active_more_5y_percent               3450 non-null   float64\n",
      " 30  supply/active_24h                           3450 non-null   float64\n",
      " 31  supply/active_1d_1w                         3450 non-null   float64\n",
      " 32  supply/active_1w_1m                         3450 non-null   float64\n",
      " 33  supply/active_1m_3m                         3450 non-null   float64\n",
      " 34  supply/active_3m_6m                         3450 non-null   float64\n",
      " 35  supply/active_6m_12m                        3450 non-null   float64\n",
      " 36  supply/active_1y_2y                         3450 non-null   float64\n",
      " 37  supply/active_2y_3y                         3450 non-null   float64\n",
      " 38  supply/active_3y_5y                         3450 non-null   float64\n",
      " 39  supply/active_5y_7y                         3450 non-null   float64\n",
      " 40  supply/active_7y_10y                        3450 non-null   float64\n",
      " 41  supply/active_more_10y                      3450 non-null   float64\n",
      " 42  supply/issued                               3450 non-null   float64\n",
      " 43  supply/inflation_rate                       3450 non-null   float64\n",
      " 44  transactions/count                          3450 non-null   float64\n",
      " 45  transactions/size_sum                       3450 non-null   float64\n",
      " 46  transactions/transfers_volume_sum           3450 non-null   float64\n",
      " 47  transactions/transfers_volume_adjusted_sum  3450 non-null   float64\n",
      " 48  indicators/sopr_adjusted                    3450 non-null   float64\n",
      " 49  indicators/nvt                              3450 non-null   float64\n",
      " 50  indicators/velocity                         3450 non-null   float64\n",
      " 51  indicators/cdd                              3450 non-null   float64\n",
      " 52  indicators/reserve_risk                     3450 non-null   float64\n",
      " 53  indicators/average_dormancy                 3450 non-null   float64\n",
      " 54  indicators/liveliness                       3450 non-null   float64\n",
      " 55  indicators/asol                             3450 non-null   float64\n",
      " 56  indicators/sol_1h                           3450 non-null   float64\n",
      " 57  indicators/sol_1h_24h                       3450 non-null   float64\n",
      " 58  indicators/sol_1d_1w                        3450 non-null   float64\n",
      " 59  indicators/sol_1w_1m                        3450 non-null   float64\n",
      " 60  indicators/sol_1m_3m                        3450 non-null   float64\n",
      " 61  indicators/sol_3m_6m                        3450 non-null   float64\n",
      " 62  indicators/sol_6m_12m                       3450 non-null   float64\n",
      " 63  indicators/sol_1y_2y                        3450 non-null   float64\n",
      " 64  indicators/sol_2y_3y                        3450 non-null   float64\n",
      " 65  indicators/sol_3y_5y                        3450 non-null   float64\n",
      " 66  indicators/sol_5y_7y                        3450 non-null   float64\n",
      " 67  indicators/sol_7y_10y                       3450 non-null   float64\n",
      " 68  indicators/net_unrealized_profit_loss       3450 non-null   float64\n",
      " 69  indicators/unrealized_profit                3450 non-null   float64\n",
      " 70  indicators/unrealized_loss                  3450 non-null   float64\n",
      " 71  indicators/net_realized_profit_loss         3450 non-null   float64\n",
      " 72  indicators/realized_profit                  3450 non-null   float64\n",
      " 73  indicators/realized_loss                    3450 non-null   float64\n",
      " 74  indicators/nupl_more_155                    3450 non-null   float64\n",
      " 75  indicators/nupl_less_155                    3450 non-null   float64\n",
      " 76  indicators/puell_multiple                   3450 non-null   float64\n",
      " 77  indicators/stock_to_flow_deflection         3450 non-null   float64\n",
      " 78  indicators/difficulty_ribbon_compression    3450 non-null   float64\n",
      " 79  addresses/active_count                      3450 non-null   float64\n",
      " 80  addresses/sending_count                     3450 non-null   float64\n",
      " 81  addresses/receiving_count                   3450 non-null   float64\n",
      " 82  addresses/new_non_zero_count                3450 non-null   float64\n",
      " 83  addresses/non_zero_count                    3450 non-null   float64\n",
      " 84  addresses/min_point_zero_1_count            3450 non-null   float64\n",
      " 85  addresses/min_point_1_count                 3450 non-null   float64\n",
      " 86  addresses/min_1_count                       3450 non-null   float64\n",
      " 87  addresses/min_10_count                      3450 non-null   float64\n",
      " 88  addresses/min_100_count                     3450 non-null   float64\n",
      " 89  addresses/min_1k_count                      3450 non-null   float64\n",
      " 90  addresses/min_10k_count                     3450 non-null   float64\n",
      "dtypes: float64(91)\n",
      "memory usage: 2.4 MB\n"
     ]
    }
   ],
   "source": [
    "# Data Set Info\n",
    "df_dataset1.info()"
   ]
  },
  {
   "cell_type": "code",
   "execution_count": 7,
   "metadata": {
    "ExecuteTime": {
     "end_time": "2020-12-25T22:13:08.027007Z",
     "start_time": "2020-12-25T22:13:08.014039Z"
    }
   },
   "outputs": [],
   "source": [
    "# List of Data Types\n",
    "l_dtypes = df_dataset1.dtypes"
   ]
  },
  {
   "cell_type": "code",
   "execution_count": 8,
   "metadata": {
    "ExecuteTime": {
     "end_time": "2020-12-25T22:13:08.042962Z",
     "start_time": "2020-12-25T22:13:08.030994Z"
    }
   },
   "outputs": [
    {
     "name": "stdout",
     "output_type": "stream",
     "text": [
      "91\n"
     ]
    }
   ],
   "source": [
    "# Counter\n",
    "counter = 0\n",
    "\n",
    "# Cross-Check of Data Types\n",
    "for i in l_dtypes:\n",
    "    if (i == float):\n",
    "        counter = counter+1\n",
    "    else:\n",
    "        counter = counter\n",
    "\n",
    "# Number of Float Data Types\n",
    "print(counter)"
   ]
  },
  {
   "cell_type": "code",
   "execution_count": 9,
   "metadata": {
    "ExecuteTime": {
     "end_time": "2020-12-25T22:13:08.058284Z",
     "start_time": "2020-12-25T22:13:08.045958Z"
    }
   },
   "outputs": [
    {
     "data": {
      "text/plain": [
       "Daily Return in USD                          float64\n",
       "Log Price in USD                             float64\n",
       "Volatility Daily Log Return in Percent 5D    float64\n",
       "market/price_usd_close                       float64\n",
       "market/price_drawdown_relative               float64\n",
       "                                              ...   \n",
       "addresses/min_1_count                        float64\n",
       "addresses/min_10_count                       float64\n",
       "addresses/min_100_count                      float64\n",
       "addresses/min_1k_count                       float64\n",
       "addresses/min_10k_count                      float64\n",
       "Length: 91, dtype: object"
      ]
     },
     "execution_count": 9,
     "metadata": {},
     "output_type": "execute_result"
    }
   ],
   "source": [
    "# Data Types\n",
    "df_dataset1.dtypes"
   ]
  },
  {
   "cell_type": "code",
   "execution_count": 10,
   "metadata": {
    "ExecuteTime": {
     "end_time": "2020-12-25T22:13:08.311613Z",
     "start_time": "2020-12-25T22:13:08.061276Z"
    }
   },
   "outputs": [
    {
     "data": {
      "text/html": [
       "<div>\n",
       "<style scoped>\n",
       "    .dataframe tbody tr th:only-of-type {\n",
       "        vertical-align: middle;\n",
       "    }\n",
       "\n",
       "    .dataframe tbody tr th {\n",
       "        vertical-align: top;\n",
       "    }\n",
       "\n",
       "    .dataframe thead th {\n",
       "        text-align: right;\n",
       "    }\n",
       "</style>\n",
       "<table border=\"1\" class=\"dataframe\">\n",
       "  <thead>\n",
       "    <tr style=\"text-align: right;\">\n",
       "      <th></th>\n",
       "      <th>Daily Return in USD</th>\n",
       "      <th>Log Price in USD</th>\n",
       "      <th>Volatility Daily Log Return in Percent 5D</th>\n",
       "      <th>market/price_usd_close</th>\n",
       "      <th>market/price_drawdown_relative</th>\n",
       "      <th>market/price_realized_usd</th>\n",
       "      <th>market/mvrv</th>\n",
       "      <th>mining/difficulty_latest</th>\n",
       "      <th>mining/hash_rate_mean</th>\n",
       "      <th>blockchain/block_count</th>\n",
       "      <th>...</th>\n",
       "      <th>addresses/receiving_count</th>\n",
       "      <th>addresses/new_non_zero_count</th>\n",
       "      <th>addresses/non_zero_count</th>\n",
       "      <th>addresses/min_point_zero_1_count</th>\n",
       "      <th>addresses/min_point_1_count</th>\n",
       "      <th>addresses/min_1_count</th>\n",
       "      <th>addresses/min_10_count</th>\n",
       "      <th>addresses/min_100_count</th>\n",
       "      <th>addresses/min_1k_count</th>\n",
       "      <th>addresses/min_10k_count</th>\n",
       "    </tr>\n",
       "  </thead>\n",
       "  <tbody>\n",
       "    <tr>\n",
       "      <th>count</th>\n",
       "      <td>3450.00</td>\n",
       "      <td>3450.00</td>\n",
       "      <td>3450.00</td>\n",
       "      <td>3450.00</td>\n",
       "      <td>3450.00</td>\n",
       "      <td>3450.00</td>\n",
       "      <td>3450.00</td>\n",
       "      <td>3450.00</td>\n",
       "      <td>3450.00</td>\n",
       "      <td>3450.00</td>\n",
       "      <td>...</td>\n",
       "      <td>3450.00</td>\n",
       "      <td>3450.00</td>\n",
       "      <td>3450.00</td>\n",
       "      <td>3450.00</td>\n",
       "      <td>3450.00</td>\n",
       "      <td>3450.00</td>\n",
       "      <td>3450.00</td>\n",
       "      <td>3450.00</td>\n",
       "      <td>3450.00</td>\n",
       "      <td>3450.00</td>\n",
       "    </tr>\n",
       "    <tr>\n",
       "      <th>mean</th>\n",
       "      <td>6.88</td>\n",
       "      <td>6.38</td>\n",
       "      <td>3.53</td>\n",
       "      <td>3294.26</td>\n",
       "      <td>-0.55</td>\n",
       "      <td>1960.41</td>\n",
       "      <td>1.69</td>\n",
       "      <td>14258483301654345023488.00</td>\n",
       "      <td>24139054372912599040.00</td>\n",
       "      <td>152.57</td>\n",
       "      <td>...</td>\n",
       "      <td>326524.03</td>\n",
       "      <td>218730.08</td>\n",
       "      <td>12300900.80</td>\n",
       "      <td>3497619.18</td>\n",
       "      <td>1401938.44</td>\n",
       "      <td>472284.36</td>\n",
       "      <td>125610.20</td>\n",
       "      <td>14685.70</td>\n",
       "      <td>1623.24</td>\n",
       "      <td>102.25</td>\n",
       "    </tr>\n",
       "    <tr>\n",
       "      <th>std</th>\n",
       "      <td>238.59</td>\n",
       "      <td>2.48</td>\n",
       "      <td>3.35</td>\n",
       "      <td>4402.92</td>\n",
       "      <td>0.23</td>\n",
       "      <td>2430.96</td>\n",
       "      <td>0.74</td>\n",
       "      <td>23644455980179065405440.00</td>\n",
       "      <td>39911819571285884928.00</td>\n",
       "      <td>18.97</td>\n",
       "      <td>...</td>\n",
       "      <td>229186.28</td>\n",
       "      <td>160773.96</td>\n",
       "      <td>10891554.18</td>\n",
       "      <td>2926368.08</td>\n",
       "      <td>1032507.00</td>\n",
       "      <td>240874.99</td>\n",
       "      <td>28897.96</td>\n",
       "      <td>3620.82</td>\n",
       "      <td>388.74</td>\n",
       "      <td>14.71</td>\n",
       "    </tr>\n",
       "    <tr>\n",
       "      <th>min</th>\n",
       "      <td>-3052.46</td>\n",
       "      <td>0.72</td>\n",
       "      <td>0.16</td>\n",
       "      <td>2.05</td>\n",
       "      <td>-0.94</td>\n",
       "      <td>4.78</td>\n",
       "      <td>0.40</td>\n",
       "      <td>4684588175054590.00</td>\n",
       "      <td>6399665203131.94</td>\n",
       "      <td>80.00</td>\n",
       "      <td>...</td>\n",
       "      <td>7539.00</td>\n",
       "      <td>4241.00</td>\n",
       "      <td>296738.00</td>\n",
       "      <td>195085.00</td>\n",
       "      <td>125059.00</td>\n",
       "      <td>98120.00</td>\n",
       "      <td>64333.00</td>\n",
       "      <td>3746.00</td>\n",
       "      <td>597.00</td>\n",
       "      <td>62.00</td>\n",
       "    </tr>\n",
       "    <tr>\n",
       "      <th>25%</th>\n",
       "      <td>-7.00</td>\n",
       "      <td>5.41</td>\n",
       "      <td>1.52</td>\n",
       "      <td>223.57</td>\n",
       "      <td>-0.71</td>\n",
       "      <td>150.89</td>\n",
       "      <td>1.19</td>\n",
       "      <td>2617708177598920192.00</td>\n",
       "      <td>5113736190477835.00</td>\n",
       "      <td>140.00</td>\n",
       "      <td>...</td>\n",
       "      <td>103041.75</td>\n",
       "      <td>62105.75</td>\n",
       "      <td>2105452.75</td>\n",
       "      <td>699958.50</td>\n",
       "      <td>406206.25</td>\n",
       "      <td>234501.50</td>\n",
       "      <td>99368.50</td>\n",
       "      <td>12930.00</td>\n",
       "      <td>1459.50</td>\n",
       "      <td>97.00</td>\n",
       "    </tr>\n",
       "    <tr>\n",
       "      <th>50%</th>\n",
       "      <td>0.11</td>\n",
       "      <td>6.43</td>\n",
       "      <td>2.66</td>\n",
       "      <td>619.28</td>\n",
       "      <td>-0.59</td>\n",
       "      <td>351.29</td>\n",
       "      <td>1.60</td>\n",
       "      <td>716621792837638029312.00</td>\n",
       "      <td>1244570822244329984.00</td>\n",
       "      <td>151.00</td>\n",
       "      <td>...</td>\n",
       "      <td>368541.50</td>\n",
       "      <td>225366.50</td>\n",
       "      <td>7556593.50</td>\n",
       "      <td>2590722.00</td>\n",
       "      <td>1195713.00</td>\n",
       "      <td>483207.00</td>\n",
       "      <td>138454.00</td>\n",
       "      <td>16179.50</td>\n",
       "      <td>1687.00</td>\n",
       "      <td>105.00</td>\n",
       "    </tr>\n",
       "    <tr>\n",
       "      <th>75%</th>\n",
       "      <td>13.15</td>\n",
       "      <td>8.79</td>\n",
       "      <td>4.41</td>\n",
       "      <td>6579.52</td>\n",
       "      <td>-0.45</td>\n",
       "      <td>4960.97</td>\n",
       "      <td>1.98</td>\n",
       "      <td>24131685420266202071040.00</td>\n",
       "      <td>39067211902994776064.00</td>\n",
       "      <td>163.00</td>\n",
       "      <td>...</td>\n",
       "      <td>512675.75</td>\n",
       "      <td>351078.00</td>\n",
       "      <td>22440748.50</td>\n",
       "      <td>6393393.75</td>\n",
       "      <td>2474191.00</td>\n",
       "      <td>711228.50</td>\n",
       "      <td>149815.25</td>\n",
       "      <td>17142.75</td>\n",
       "      <td>1847.00</td>\n",
       "      <td>113.00</td>\n",
       "    </tr>\n",
       "    <tr>\n",
       "      <th>max</th>\n",
       "      <td>3224.13</td>\n",
       "      <td>10.08</td>\n",
       "      <td>41.75</td>\n",
       "      <td>23851.24</td>\n",
       "      <td>0.00</td>\n",
       "      <td>8448.07</td>\n",
       "      <td>5.73</td>\n",
       "      <td>85887904103269694177280.00</td>\n",
       "      <td>160765244797356015616.00</td>\n",
       "      <td>260.00</td>\n",
       "      <td>...</td>\n",
       "      <td>1072829.00</td>\n",
       "      <td>800180.00</td>\n",
       "      <td>33275082.00</td>\n",
       "      <td>8753449.00</td>\n",
       "      <td>3186455.00</td>\n",
       "      <td>829715.00</td>\n",
       "      <td>157275.00</td>\n",
       "      <td>18543.00</td>\n",
       "      <td>2306.00</td>\n",
       "      <td>126.00</td>\n",
       "    </tr>\n",
       "  </tbody>\n",
       "</table>\n",
       "<p>8 rows × 91 columns</p>\n",
       "</div>"
      ],
      "text/plain": [
       "       Daily Return in USD  Log Price in USD  \\\n",
       "count              3450.00           3450.00   \n",
       "mean                  6.88              6.38   \n",
       "std                 238.59              2.48   \n",
       "min               -3052.46              0.72   \n",
       "25%                  -7.00              5.41   \n",
       "50%                   0.11              6.43   \n",
       "75%                  13.15              8.79   \n",
       "max                3224.13             10.08   \n",
       "\n",
       "       Volatility Daily Log Return in Percent 5D  market/price_usd_close  \\\n",
       "count                                    3450.00                 3450.00   \n",
       "mean                                        3.53                 3294.26   \n",
       "std                                         3.35                 4402.92   \n",
       "min                                         0.16                    2.05   \n",
       "25%                                         1.52                  223.57   \n",
       "50%                                         2.66                  619.28   \n",
       "75%                                         4.41                 6579.52   \n",
       "max                                        41.75                23851.24   \n",
       "\n",
       "       market/price_drawdown_relative  market/price_realized_usd  market/mvrv  \\\n",
       "count                         3450.00                    3450.00      3450.00   \n",
       "mean                            -0.55                    1960.41         1.69   \n",
       "std                              0.23                    2430.96         0.74   \n",
       "min                             -0.94                       4.78         0.40   \n",
       "25%                             -0.71                     150.89         1.19   \n",
       "50%                             -0.59                     351.29         1.60   \n",
       "75%                             -0.45                    4960.97         1.98   \n",
       "max                              0.00                    8448.07         5.73   \n",
       "\n",
       "        mining/difficulty_latest    mining/hash_rate_mean  \\\n",
       "count                    3450.00                  3450.00   \n",
       "mean  14258483301654345023488.00  24139054372912599040.00   \n",
       "std   23644455980179065405440.00  39911819571285884928.00   \n",
       "min          4684588175054590.00         6399665203131.94   \n",
       "25%       2617708177598920192.00      5113736190477835.00   \n",
       "50%     716621792837638029312.00   1244570822244329984.00   \n",
       "75%   24131685420266202071040.00  39067211902994776064.00   \n",
       "max   85887904103269694177280.00 160765244797356015616.00   \n",
       "\n",
       "       blockchain/block_count  ...  addresses/receiving_count  \\\n",
       "count                 3450.00  ...                    3450.00   \n",
       "mean                   152.57  ...                  326524.03   \n",
       "std                     18.97  ...                  229186.28   \n",
       "min                     80.00  ...                    7539.00   \n",
       "25%                    140.00  ...                  103041.75   \n",
       "50%                    151.00  ...                  368541.50   \n",
       "75%                    163.00  ...                  512675.75   \n",
       "max                    260.00  ...                 1072829.00   \n",
       "\n",
       "       addresses/new_non_zero_count  addresses/non_zero_count  \\\n",
       "count                       3450.00                   3450.00   \n",
       "mean                      218730.08               12300900.80   \n",
       "std                       160773.96               10891554.18   \n",
       "min                         4241.00                 296738.00   \n",
       "25%                        62105.75                2105452.75   \n",
       "50%                       225366.50                7556593.50   \n",
       "75%                       351078.00               22440748.50   \n",
       "max                       800180.00               33275082.00   \n",
       "\n",
       "       addresses/min_point_zero_1_count  addresses/min_point_1_count  \\\n",
       "count                           3450.00                      3450.00   \n",
       "mean                         3497619.18                   1401938.44   \n",
       "std                          2926368.08                   1032507.00   \n",
       "min                           195085.00                    125059.00   \n",
       "25%                           699958.50                    406206.25   \n",
       "50%                          2590722.00                   1195713.00   \n",
       "75%                          6393393.75                   2474191.00   \n",
       "max                          8753449.00                   3186455.00   \n",
       "\n",
       "       addresses/min_1_count  addresses/min_10_count  addresses/min_100_count  \\\n",
       "count                3450.00                 3450.00                  3450.00   \n",
       "mean               472284.36               125610.20                 14685.70   \n",
       "std                240874.99                28897.96                  3620.82   \n",
       "min                 98120.00                64333.00                  3746.00   \n",
       "25%                234501.50                99368.50                 12930.00   \n",
       "50%                483207.00               138454.00                 16179.50   \n",
       "75%                711228.50               149815.25                 17142.75   \n",
       "max                829715.00               157275.00                 18543.00   \n",
       "\n",
       "       addresses/min_1k_count  addresses/min_10k_count  \n",
       "count                 3450.00                  3450.00  \n",
       "mean                  1623.24                   102.25  \n",
       "std                    388.74                    14.71  \n",
       "min                    597.00                    62.00  \n",
       "25%                   1459.50                    97.00  \n",
       "50%                   1687.00                   105.00  \n",
       "75%                   1847.00                   113.00  \n",
       "max                   2306.00                   126.00  \n",
       "\n",
       "[8 rows x 91 columns]"
      ]
     },
     "execution_count": 10,
     "metadata": {},
     "output_type": "execute_result"
    }
   ],
   "source": [
    "# Summary Statistics\n",
    "df_dataset1.describe()"
   ]
  },
  {
   "cell_type": "code",
   "execution_count": 11,
   "metadata": {
    "ExecuteTime": {
     "end_time": "2020-12-25T22:13:08.342743Z",
     "start_time": "2020-12-25T22:13:08.313567Z"
    }
   },
   "outputs": [
    {
     "data": {
      "text/html": [
       "<div>\n",
       "<style scoped>\n",
       "    .dataframe tbody tr th:only-of-type {\n",
       "        vertical-align: middle;\n",
       "    }\n",
       "\n",
       "    .dataframe tbody tr th {\n",
       "        vertical-align: top;\n",
       "    }\n",
       "\n",
       "    .dataframe thead th {\n",
       "        text-align: right;\n",
       "    }\n",
       "</style>\n",
       "<table border=\"1\" class=\"dataframe\">\n",
       "  <thead>\n",
       "    <tr style=\"text-align: right;\">\n",
       "      <th></th>\n",
       "      <th>Daily Return in USD</th>\n",
       "      <th>Log Price in USD</th>\n",
       "      <th>Volatility Daily Log Return in Percent 5D</th>\n",
       "      <th>market/price_usd_close</th>\n",
       "      <th>market/price_drawdown_relative</th>\n",
       "      <th>market/price_realized_usd</th>\n",
       "      <th>market/mvrv</th>\n",
       "      <th>mining/difficulty_latest</th>\n",
       "      <th>mining/hash_rate_mean</th>\n",
       "      <th>blockchain/block_count</th>\n",
       "      <th>...</th>\n",
       "      <th>addresses/receiving_count</th>\n",
       "      <th>addresses/new_non_zero_count</th>\n",
       "      <th>addresses/non_zero_count</th>\n",
       "      <th>addresses/min_point_zero_1_count</th>\n",
       "      <th>addresses/min_point_1_count</th>\n",
       "      <th>addresses/min_1_count</th>\n",
       "      <th>addresses/min_10_count</th>\n",
       "      <th>addresses/min_100_count</th>\n",
       "      <th>addresses/min_1k_count</th>\n",
       "      <th>addresses/min_10k_count</th>\n",
       "    </tr>\n",
       "    <tr>\n",
       "      <th>Date</th>\n",
       "      <th></th>\n",
       "      <th></th>\n",
       "      <th></th>\n",
       "      <th></th>\n",
       "      <th></th>\n",
       "      <th></th>\n",
       "      <th></th>\n",
       "      <th></th>\n",
       "      <th></th>\n",
       "      <th></th>\n",
       "      <th></th>\n",
       "      <th></th>\n",
       "      <th></th>\n",
       "      <th></th>\n",
       "      <th></th>\n",
       "      <th></th>\n",
       "      <th></th>\n",
       "      <th></th>\n",
       "      <th></th>\n",
       "      <th></th>\n",
       "      <th></th>\n",
       "    </tr>\n",
       "  </thead>\n",
       "  <tbody>\n",
       "    <tr>\n",
       "      <th>2020-12-20</th>\n",
       "      <td>-301.46</td>\n",
       "      <td>10.07</td>\n",
       "      <td>4.24</td>\n",
       "      <td>23549.78</td>\n",
       "      <td>-0.03</td>\n",
       "      <td>8159.47</td>\n",
       "      <td>2.89</td>\n",
       "      <td>80187763369133704478720.00</td>\n",
       "      <td>141220096205307002880.00</td>\n",
       "      <td>151.00</td>\n",
       "      <td>...</td>\n",
       "      <td>638805.00</td>\n",
       "      <td>465212.00</td>\n",
       "      <td>33157050.00</td>\n",
       "      <td>8520195.00</td>\n",
       "      <td>3128579.00</td>\n",
       "      <td>827865.00</td>\n",
       "      <td>153996.00</td>\n",
       "      <td>16101.00</td>\n",
       "      <td>2275.00</td>\n",
       "      <td>107.00</td>\n",
       "    </tr>\n",
       "    <tr>\n",
       "      <th>2020-12-21</th>\n",
       "      <td>-674.33</td>\n",
       "      <td>10.04</td>\n",
       "      <td>3.74</td>\n",
       "      <td>22875.46</td>\n",
       "      <td>-0.05</td>\n",
       "      <td>8205.79</td>\n",
       "      <td>2.83</td>\n",
       "      <td>80187763369133704478720.00</td>\n",
       "      <td>125467801265571004416.00</td>\n",
       "      <td>136.00</td>\n",
       "      <td>...</td>\n",
       "      <td>649831.00</td>\n",
       "      <td>461211.00</td>\n",
       "      <td>33047778.00</td>\n",
       "      <td>8550819.00</td>\n",
       "      <td>3133729.00</td>\n",
       "      <td>828815.00</td>\n",
       "      <td>153675.00</td>\n",
       "      <td>16081.00</td>\n",
       "      <td>2266.00</td>\n",
       "      <td>107.00</td>\n",
       "    </tr>\n",
       "    <tr>\n",
       "      <th>2020-12-22</th>\n",
       "      <td>883.48</td>\n",
       "      <td>10.08</td>\n",
       "      <td>2.89</td>\n",
       "      <td>23758.93</td>\n",
       "      <td>-0.02</td>\n",
       "      <td>8286.35</td>\n",
       "      <td>2.79</td>\n",
       "      <td>80187763369133704478720.00</td>\n",
       "      <td>132165952003620995072.00</td>\n",
       "      <td>143.00</td>\n",
       "      <td>...</td>\n",
       "      <td>738830.00</td>\n",
       "      <td>528210.00</td>\n",
       "      <td>33068915.00</td>\n",
       "      <td>8550157.00</td>\n",
       "      <td>3139132.00</td>\n",
       "      <td>829715.00</td>\n",
       "      <td>153788.00</td>\n",
       "      <td>16136.00</td>\n",
       "      <td>2252.00</td>\n",
       "      <td>105.00</td>\n",
       "    </tr>\n",
       "    <tr>\n",
       "      <th>2020-12-23</th>\n",
       "      <td>-479.38</td>\n",
       "      <td>10.06</td>\n",
       "      <td>3.13</td>\n",
       "      <td>23279.55</td>\n",
       "      <td>-0.04</td>\n",
       "      <td>8375.79</td>\n",
       "      <td>2.81</td>\n",
       "      <td>80187763369133704478720.00</td>\n",
       "      <td>146111617294112997376.00</td>\n",
       "      <td>154.00</td>\n",
       "      <td>...</td>\n",
       "      <td>782721.00</td>\n",
       "      <td>540230.00</td>\n",
       "      <td>33111216.00</td>\n",
       "      <td>8544699.00</td>\n",
       "      <td>3133057.00</td>\n",
       "      <td>828576.00</td>\n",
       "      <td>153724.00</td>\n",
       "      <td>16119.00</td>\n",
       "      <td>2247.00</td>\n",
       "      <td>103.00</td>\n",
       "    </tr>\n",
       "    <tr>\n",
       "      <th>2020-12-24</th>\n",
       "      <td>485.20</td>\n",
       "      <td>10.08</td>\n",
       "      <td>2.86</td>\n",
       "      <td>23764.75</td>\n",
       "      <td>-0.02</td>\n",
       "      <td>8448.07</td>\n",
       "      <td>2.75</td>\n",
       "      <td>80187763369133704478720.00</td>\n",
       "      <td>114954071251531005952.00</td>\n",
       "      <td>126.00</td>\n",
       "      <td>...</td>\n",
       "      <td>639266.00</td>\n",
       "      <td>447429.00</td>\n",
       "      <td>33117973.00</td>\n",
       "      <td>8545074.00</td>\n",
       "      <td>3134905.00</td>\n",
       "      <td>829222.00</td>\n",
       "      <td>153650.00</td>\n",
       "      <td>16089.00</td>\n",
       "      <td>2232.00</td>\n",
       "      <td>103.00</td>\n",
       "    </tr>\n",
       "  </tbody>\n",
       "</table>\n",
       "<p>5 rows × 91 columns</p>\n",
       "</div>"
      ],
      "text/plain": [
       "            Daily Return in USD  Log Price in USD  \\\n",
       "Date                                                \n",
       "2020-12-20              -301.46             10.07   \n",
       "2020-12-21              -674.33             10.04   \n",
       "2020-12-22               883.48             10.08   \n",
       "2020-12-23              -479.38             10.06   \n",
       "2020-12-24               485.20             10.08   \n",
       "\n",
       "            Volatility Daily Log Return in Percent 5D  market/price_usd_close  \\\n",
       "Date                                                                            \n",
       "2020-12-20                                       4.24                23549.78   \n",
       "2020-12-21                                       3.74                22875.46   \n",
       "2020-12-22                                       2.89                23758.93   \n",
       "2020-12-23                                       3.13                23279.55   \n",
       "2020-12-24                                       2.86                23764.75   \n",
       "\n",
       "            market/price_drawdown_relative  market/price_realized_usd  \\\n",
       "Date                                                                    \n",
       "2020-12-20                           -0.03                    8159.47   \n",
       "2020-12-21                           -0.05                    8205.79   \n",
       "2020-12-22                           -0.02                    8286.35   \n",
       "2020-12-23                           -0.04                    8375.79   \n",
       "2020-12-24                           -0.02                    8448.07   \n",
       "\n",
       "            market/mvrv   mining/difficulty_latest    mining/hash_rate_mean  \\\n",
       "Date                                                                          \n",
       "2020-12-20         2.89 80187763369133704478720.00 141220096205307002880.00   \n",
       "2020-12-21         2.83 80187763369133704478720.00 125467801265571004416.00   \n",
       "2020-12-22         2.79 80187763369133704478720.00 132165952003620995072.00   \n",
       "2020-12-23         2.81 80187763369133704478720.00 146111617294112997376.00   \n",
       "2020-12-24         2.75 80187763369133704478720.00 114954071251531005952.00   \n",
       "\n",
       "            blockchain/block_count  ...  addresses/receiving_count  \\\n",
       "Date                                ...                              \n",
       "2020-12-20                  151.00  ...                  638805.00   \n",
       "2020-12-21                  136.00  ...                  649831.00   \n",
       "2020-12-22                  143.00  ...                  738830.00   \n",
       "2020-12-23                  154.00  ...                  782721.00   \n",
       "2020-12-24                  126.00  ...                  639266.00   \n",
       "\n",
       "            addresses/new_non_zero_count  addresses/non_zero_count  \\\n",
       "Date                                                                 \n",
       "2020-12-20                     465212.00               33157050.00   \n",
       "2020-12-21                     461211.00               33047778.00   \n",
       "2020-12-22                     528210.00               33068915.00   \n",
       "2020-12-23                     540230.00               33111216.00   \n",
       "2020-12-24                     447429.00               33117973.00   \n",
       "\n",
       "            addresses/min_point_zero_1_count  addresses/min_point_1_count  \\\n",
       "Date                                                                        \n",
       "2020-12-20                        8520195.00                   3128579.00   \n",
       "2020-12-21                        8550819.00                   3133729.00   \n",
       "2020-12-22                        8550157.00                   3139132.00   \n",
       "2020-12-23                        8544699.00                   3133057.00   \n",
       "2020-12-24                        8545074.00                   3134905.00   \n",
       "\n",
       "            addresses/min_1_count  addresses/min_10_count  \\\n",
       "Date                                                        \n",
       "2020-12-20              827865.00               153996.00   \n",
       "2020-12-21              828815.00               153675.00   \n",
       "2020-12-22              829715.00               153788.00   \n",
       "2020-12-23              828576.00               153724.00   \n",
       "2020-12-24              829222.00               153650.00   \n",
       "\n",
       "            addresses/min_100_count  addresses/min_1k_count  \\\n",
       "Date                                                          \n",
       "2020-12-20                 16101.00                 2275.00   \n",
       "2020-12-21                 16081.00                 2266.00   \n",
       "2020-12-22                 16136.00                 2252.00   \n",
       "2020-12-23                 16119.00                 2247.00   \n",
       "2020-12-24                 16089.00                 2232.00   \n",
       "\n",
       "            addresses/min_10k_count  \n",
       "Date                                 \n",
       "2020-12-20                   107.00  \n",
       "2020-12-21                   107.00  \n",
       "2020-12-22                   105.00  \n",
       "2020-12-23                   103.00  \n",
       "2020-12-24                   103.00  \n",
       "\n",
       "[5 rows x 91 columns]"
      ]
     },
     "execution_count": 11,
     "metadata": {},
     "output_type": "execute_result"
    }
   ],
   "source": [
    "# Dataset Tail\n",
    "df_dataset1.tail()"
   ]
  },
  {
   "cell_type": "markdown",
   "metadata": {},
   "source": [
    "## Prediction Shift"
   ]
  },
  {
   "cell_type": "markdown",
   "metadata": {},
   "source": [
    "### Data Set I."
   ]
  },
  {
   "cell_type": "code",
   "execution_count": 12,
   "metadata": {
    "ExecuteTime": {
     "end_time": "2020-12-25T22:13:09.858761Z",
     "start_time": "2020-12-25T22:13:09.839853Z"
    }
   },
   "outputs": [
    {
     "data": {
      "text/html": [
       "<div>\n",
       "<style scoped>\n",
       "    .dataframe tbody tr th:only-of-type {\n",
       "        vertical-align: middle;\n",
       "    }\n",
       "\n",
       "    .dataframe tbody tr th {\n",
       "        vertical-align: top;\n",
       "    }\n",
       "\n",
       "    .dataframe thead th {\n",
       "        text-align: right;\n",
       "    }\n",
       "</style>\n",
       "<table border=\"1\" class=\"dataframe\">\n",
       "  <thead>\n",
       "    <tr style=\"text-align: right;\">\n",
       "      <th></th>\n",
       "      <th>Daily Return in USD</th>\n",
       "      <th>Log Price in USD</th>\n",
       "      <th>Volatility Daily Log Return in Percent 5D</th>\n",
       "      <th>market/price_usd_close</th>\n",
       "    </tr>\n",
       "    <tr>\n",
       "      <th>Date</th>\n",
       "      <th></th>\n",
       "      <th></th>\n",
       "      <th></th>\n",
       "      <th></th>\n",
       "    </tr>\n",
       "  </thead>\n",
       "  <tbody>\n",
       "    <tr>\n",
       "      <th>2011-07-16</th>\n",
       "      <td>-0.09</td>\n",
       "      <td>2.62</td>\n",
       "      <td>0.70</td>\n",
       "      <td>13.72</td>\n",
       "    </tr>\n",
       "    <tr>\n",
       "      <th>2011-07-17</th>\n",
       "      <td>-0.55</td>\n",
       "      <td>2.58</td>\n",
       "      <td>1.70</td>\n",
       "      <td>13.17</td>\n",
       "    </tr>\n",
       "    <tr>\n",
       "      <th>2011-07-18</th>\n",
       "      <td>0.26</td>\n",
       "      <td>2.60</td>\n",
       "      <td>2.23</td>\n",
       "      <td>13.42</td>\n",
       "    </tr>\n",
       "    <tr>\n",
       "      <th>2011-07-19</th>\n",
       "      <td>0.42</td>\n",
       "      <td>2.63</td>\n",
       "      <td>2.83</td>\n",
       "      <td>13.84</td>\n",
       "    </tr>\n",
       "    <tr>\n",
       "      <th>2011-07-20</th>\n",
       "      <td>-0.15</td>\n",
       "      <td>2.62</td>\n",
       "      <td>2.80</td>\n",
       "      <td>13.69</td>\n",
       "    </tr>\n",
       "    <tr>\n",
       "      <th>...</th>\n",
       "      <td>...</td>\n",
       "      <td>...</td>\n",
       "      <td>...</td>\n",
       "      <td>...</td>\n",
       "    </tr>\n",
       "    <tr>\n",
       "      <th>2020-12-20</th>\n",
       "      <td>-301.46</td>\n",
       "      <td>10.07</td>\n",
       "      <td>4.24</td>\n",
       "      <td>23549.78</td>\n",
       "    </tr>\n",
       "    <tr>\n",
       "      <th>2020-12-21</th>\n",
       "      <td>-674.33</td>\n",
       "      <td>10.04</td>\n",
       "      <td>3.74</td>\n",
       "      <td>22875.46</td>\n",
       "    </tr>\n",
       "    <tr>\n",
       "      <th>2020-12-22</th>\n",
       "      <td>883.48</td>\n",
       "      <td>10.08</td>\n",
       "      <td>2.89</td>\n",
       "      <td>23758.93</td>\n",
       "    </tr>\n",
       "    <tr>\n",
       "      <th>2020-12-23</th>\n",
       "      <td>-479.38</td>\n",
       "      <td>10.06</td>\n",
       "      <td>3.13</td>\n",
       "      <td>23279.55</td>\n",
       "    </tr>\n",
       "    <tr>\n",
       "      <th>2020-12-24</th>\n",
       "      <td>485.20</td>\n",
       "      <td>10.08</td>\n",
       "      <td>2.86</td>\n",
       "      <td>23764.75</td>\n",
       "    </tr>\n",
       "  </tbody>\n",
       "</table>\n",
       "<p>3450 rows × 4 columns</p>\n",
       "</div>"
      ],
      "text/plain": [
       "            Daily Return in USD  Log Price in USD  \\\n",
       "Date                                                \n",
       "2011-07-16                -0.09              2.62   \n",
       "2011-07-17                -0.55              2.58   \n",
       "2011-07-18                 0.26              2.60   \n",
       "2011-07-19                 0.42              2.63   \n",
       "2011-07-20                -0.15              2.62   \n",
       "...                         ...               ...   \n",
       "2020-12-20              -301.46             10.07   \n",
       "2020-12-21              -674.33             10.04   \n",
       "2020-12-22               883.48             10.08   \n",
       "2020-12-23              -479.38             10.06   \n",
       "2020-12-24               485.20             10.08   \n",
       "\n",
       "            Volatility Daily Log Return in Percent 5D  market/price_usd_close  \n",
       "Date                                                                           \n",
       "2011-07-16                                       0.70                   13.72  \n",
       "2011-07-17                                       1.70                   13.17  \n",
       "2011-07-18                                       2.23                   13.42  \n",
       "2011-07-19                                       2.83                   13.84  \n",
       "2011-07-20                                       2.80                   13.69  \n",
       "...                                               ...                     ...  \n",
       "2020-12-20                                       4.24                23549.78  \n",
       "2020-12-21                                       3.74                22875.46  \n",
       "2020-12-22                                       2.89                23758.93  \n",
       "2020-12-23                                       3.13                23279.55  \n",
       "2020-12-24                                       2.86                23764.75  \n",
       "\n",
       "[3450 rows x 4 columns]"
      ]
     },
     "execution_count": 12,
     "metadata": {},
     "output_type": "execute_result"
    }
   ],
   "source": [
    "df_dataset1[['Daily Return in USD', 'Log Price in USD',\n",
    "       'Volatility Daily Log Return in Percent 5D', 'market/price_usd_close']]"
   ]
  },
  {
   "cell_type": "code",
   "execution_count": 13,
   "metadata": {
    "ExecuteTime": {
     "end_time": "2020-12-25T22:13:10.253628Z",
     "start_time": "2020-12-25T22:13:10.231419Z"
    }
   },
   "outputs": [],
   "source": [
    "# Shift of Target Column by 1 Day\n",
    "df_dataset1['Daily Return in USD_ohneshift'] = df_dataset1['Daily Return in USD'] \n",
    "df_dataset1[\"percentage_daily_return_bef_shift\"] = df_dataset1[\"Daily Return in USD_ohneshift\"]/df_dataset1[\"market/price_usd_close\"]"
   ]
  },
  {
   "cell_type": "code",
   "execution_count": 14,
   "metadata": {
    "ExecuteTime": {
     "end_time": "2020-12-25T22:13:10.648147Z",
     "start_time": "2020-12-25T22:13:10.638173Z"
    }
   },
   "outputs": [],
   "source": [
    "df_dataset1 = df_dataset1.sort_index(ascending = False)"
   ]
  },
  {
   "cell_type": "code",
   "execution_count": 15,
   "metadata": {
    "ExecuteTime": {
     "end_time": "2020-12-25T22:13:11.028175Z",
     "start_time": "2020-12-25T22:13:11.012223Z"
    }
   },
   "outputs": [],
   "source": [
    "# Shift of Target Column by 1 Day\n",
    "df_dataset1['Daily Return in USD'] = df_dataset1['Daily Return in USD'].shift(1) "
   ]
  },
  {
   "cell_type": "code",
   "execution_count": 16,
   "metadata": {
    "ExecuteTime": {
     "end_time": "2020-12-25T22:13:11.392692Z",
     "start_time": "2020-12-25T22:13:11.366981Z"
    }
   },
   "outputs": [
    {
     "data": {
      "text/html": [
       "<div>\n",
       "<style scoped>\n",
       "    .dataframe tbody tr th:only-of-type {\n",
       "        vertical-align: middle;\n",
       "    }\n",
       "\n",
       "    .dataframe tbody tr th {\n",
       "        vertical-align: top;\n",
       "    }\n",
       "\n",
       "    .dataframe thead th {\n",
       "        text-align: right;\n",
       "    }\n",
       "</style>\n",
       "<table border=\"1\" class=\"dataframe\">\n",
       "  <thead>\n",
       "    <tr style=\"text-align: right;\">\n",
       "      <th></th>\n",
       "      <th>Daily Return in USD</th>\n",
       "      <th>addresses/active_count</th>\n",
       "      <th>Log Price in USD</th>\n",
       "      <th>Volatility Daily Log Return in Percent 5D</th>\n",
       "      <th>market/price_usd_close</th>\n",
       "    </tr>\n",
       "    <tr>\n",
       "      <th>Date</th>\n",
       "      <th></th>\n",
       "      <th></th>\n",
       "      <th></th>\n",
       "      <th></th>\n",
       "      <th></th>\n",
       "    </tr>\n",
       "  </thead>\n",
       "  <tbody>\n",
       "    <tr>\n",
       "      <th>2020-12-24</th>\n",
       "      <td>nan</td>\n",
       "      <td>972137.00</td>\n",
       "      <td>10.08</td>\n",
       "      <td>2.86</td>\n",
       "      <td>23764.75</td>\n",
       "    </tr>\n",
       "    <tr>\n",
       "      <th>2020-12-23</th>\n",
       "      <td>485.20</td>\n",
       "      <td>1131834.00</td>\n",
       "      <td>10.06</td>\n",
       "      <td>3.13</td>\n",
       "      <td>23279.55</td>\n",
       "    </tr>\n",
       "    <tr>\n",
       "      <th>2020-12-22</th>\n",
       "      <td>-479.38</td>\n",
       "      <td>1099356.00</td>\n",
       "      <td>10.08</td>\n",
       "      <td>2.89</td>\n",
       "      <td>23758.93</td>\n",
       "    </tr>\n",
       "    <tr>\n",
       "      <th>2020-12-21</th>\n",
       "      <td>883.48</td>\n",
       "      <td>1125440.00</td>\n",
       "      <td>10.04</td>\n",
       "      <td>3.74</td>\n",
       "      <td>22875.46</td>\n",
       "    </tr>\n",
       "    <tr>\n",
       "      <th>2020-12-20</th>\n",
       "      <td>-674.33</td>\n",
       "      <td>1078245.00</td>\n",
       "      <td>10.07</td>\n",
       "      <td>4.24</td>\n",
       "      <td>23549.78</td>\n",
       "    </tr>\n",
       "    <tr>\n",
       "      <th>...</th>\n",
       "      <td>...</td>\n",
       "      <td>...</td>\n",
       "      <td>...</td>\n",
       "      <td>...</td>\n",
       "      <td>...</td>\n",
       "    </tr>\n",
       "    <tr>\n",
       "      <th>2011-07-20</th>\n",
       "      <td>-0.08</td>\n",
       "      <td>25539.00</td>\n",
       "      <td>2.62</td>\n",
       "      <td>2.80</td>\n",
       "      <td>13.69</td>\n",
       "    </tr>\n",
       "    <tr>\n",
       "      <th>2011-07-19</th>\n",
       "      <td>-0.15</td>\n",
       "      <td>24782.00</td>\n",
       "      <td>2.63</td>\n",
       "      <td>2.83</td>\n",
       "      <td>13.84</td>\n",
       "    </tr>\n",
       "    <tr>\n",
       "      <th>2011-07-18</th>\n",
       "      <td>0.42</td>\n",
       "      <td>27601.00</td>\n",
       "      <td>2.60</td>\n",
       "      <td>2.23</td>\n",
       "      <td>13.42</td>\n",
       "    </tr>\n",
       "    <tr>\n",
       "      <th>2011-07-17</th>\n",
       "      <td>0.26</td>\n",
       "      <td>24274.00</td>\n",
       "      <td>2.58</td>\n",
       "      <td>1.70</td>\n",
       "      <td>13.17</td>\n",
       "    </tr>\n",
       "    <tr>\n",
       "      <th>2011-07-16</th>\n",
       "      <td>-0.55</td>\n",
       "      <td>23674.00</td>\n",
       "      <td>2.62</td>\n",
       "      <td>0.70</td>\n",
       "      <td>13.72</td>\n",
       "    </tr>\n",
       "  </tbody>\n",
       "</table>\n",
       "<p>3450 rows × 5 columns</p>\n",
       "</div>"
      ],
      "text/plain": [
       "            Daily Return in USD  addresses/active_count  Log Price in USD  \\\n",
       "Date                                                                        \n",
       "2020-12-24                  nan               972137.00             10.08   \n",
       "2020-12-23               485.20              1131834.00             10.06   \n",
       "2020-12-22              -479.38              1099356.00             10.08   \n",
       "2020-12-21               883.48              1125440.00             10.04   \n",
       "2020-12-20              -674.33              1078245.00             10.07   \n",
       "...                         ...                     ...               ...   \n",
       "2011-07-20                -0.08                25539.00              2.62   \n",
       "2011-07-19                -0.15                24782.00              2.63   \n",
       "2011-07-18                 0.42                27601.00              2.60   \n",
       "2011-07-17                 0.26                24274.00              2.58   \n",
       "2011-07-16                -0.55                23674.00              2.62   \n",
       "\n",
       "            Volatility Daily Log Return in Percent 5D  market/price_usd_close  \n",
       "Date                                                                           \n",
       "2020-12-24                                       2.86                23764.75  \n",
       "2020-12-23                                       3.13                23279.55  \n",
       "2020-12-22                                       2.89                23758.93  \n",
       "2020-12-21                                       3.74                22875.46  \n",
       "2020-12-20                                       4.24                23549.78  \n",
       "...                                               ...                     ...  \n",
       "2011-07-20                                       2.80                   13.69  \n",
       "2011-07-19                                       2.83                   13.84  \n",
       "2011-07-18                                       2.23                   13.42  \n",
       "2011-07-17                                       1.70                   13.17  \n",
       "2011-07-16                                       0.70                   13.72  \n",
       "\n",
       "[3450 rows x 5 columns]"
      ]
     },
     "execution_count": 16,
     "metadata": {},
     "output_type": "execute_result"
    }
   ],
   "source": [
    "df_dataset1[['Daily Return in USD', 'addresses/active_count', 'Log Price in USD',\n",
    "       'Volatility Daily Log Return in Percent 5D', 'market/price_usd_close']]"
   ]
  },
  {
   "cell_type": "code",
   "execution_count": 17,
   "metadata": {
    "ExecuteTime": {
     "end_time": "2020-12-25T22:13:11.771583Z",
     "start_time": "2020-12-25T22:13:11.750945Z"
    }
   },
   "outputs": [],
   "source": [
    "df_dataset1['market/price_usd_close_cummax']=df_dataset1['market/price_usd_close'].cummax()\n",
    "df_dataset1['price_usd_close_percent_of_maxtilnow'] = df_dataset1['market/price_usd_close']/df_dataset1['market/price_usd_close_cummax']\n"
   ]
  },
  {
   "cell_type": "code",
   "execution_count": null,
   "metadata": {},
   "outputs": [],
   "source": []
  },
  {
   "cell_type": "code",
   "execution_count": 18,
   "metadata": {
    "ExecuteTime": {
     "end_time": "2020-12-25T22:13:12.526154Z",
     "start_time": "2020-12-25T22:13:12.509200Z"
    }
   },
   "outputs": [
    {
     "data": {
      "text/html": [
       "<div>\n",
       "<style scoped>\n",
       "    .dataframe tbody tr th:only-of-type {\n",
       "        vertical-align: middle;\n",
       "    }\n",
       "\n",
       "    .dataframe tbody tr th {\n",
       "        vertical-align: top;\n",
       "    }\n",
       "\n",
       "    .dataframe thead th {\n",
       "        text-align: right;\n",
       "    }\n",
       "</style>\n",
       "<table border=\"1\" class=\"dataframe\">\n",
       "  <thead>\n",
       "    <tr style=\"text-align: right;\">\n",
       "      <th></th>\n",
       "      <th>Log Price in USD</th>\n",
       "      <th>Volatility Daily Log Return in Percent 5D</th>\n",
       "      <th>market/price_usd_close</th>\n",
       "      <th>percentage_daily_return_bef_shift</th>\n",
       "    </tr>\n",
       "    <tr>\n",
       "      <th>Date</th>\n",
       "      <th></th>\n",
       "      <th></th>\n",
       "      <th></th>\n",
       "      <th></th>\n",
       "    </tr>\n",
       "  </thead>\n",
       "  <tbody>\n",
       "    <tr>\n",
       "      <th>2011-07-20</th>\n",
       "      <td>2.62</td>\n",
       "      <td>2.80</td>\n",
       "      <td>13.69</td>\n",
       "      <td>-0.01</td>\n",
       "    </tr>\n",
       "    <tr>\n",
       "      <th>2011-07-19</th>\n",
       "      <td>2.63</td>\n",
       "      <td>2.83</td>\n",
       "      <td>13.84</td>\n",
       "      <td>0.03</td>\n",
       "    </tr>\n",
       "    <tr>\n",
       "      <th>2011-07-18</th>\n",
       "      <td>2.60</td>\n",
       "      <td>2.23</td>\n",
       "      <td>13.42</td>\n",
       "      <td>0.02</td>\n",
       "    </tr>\n",
       "    <tr>\n",
       "      <th>2011-07-17</th>\n",
       "      <td>2.58</td>\n",
       "      <td>1.70</td>\n",
       "      <td>13.17</td>\n",
       "      <td>-0.04</td>\n",
       "    </tr>\n",
       "    <tr>\n",
       "      <th>2011-07-16</th>\n",
       "      <td>2.62</td>\n",
       "      <td>0.70</td>\n",
       "      <td>13.72</td>\n",
       "      <td>-0.01</td>\n",
       "    </tr>\n",
       "  </tbody>\n",
       "</table>\n",
       "</div>"
      ],
      "text/plain": [
       "            Log Price in USD  Volatility Daily Log Return in Percent 5D  \\\n",
       "Date                                                                      \n",
       "2011-07-20              2.62                                       2.80   \n",
       "2011-07-19              2.63                                       2.83   \n",
       "2011-07-18              2.60                                       2.23   \n",
       "2011-07-17              2.58                                       1.70   \n",
       "2011-07-16              2.62                                       0.70   \n",
       "\n",
       "            market/price_usd_close  percentage_daily_return_bef_shift  \n",
       "Date                                                                   \n",
       "2011-07-20                   13.69                              -0.01  \n",
       "2011-07-19                   13.84                               0.03  \n",
       "2011-07-18                   13.42                               0.02  \n",
       "2011-07-17                   13.17                              -0.04  \n",
       "2011-07-16                   13.72                              -0.01  "
      ]
     },
     "execution_count": 18,
     "metadata": {},
     "output_type": "execute_result"
    }
   ],
   "source": [
    "# Check Shift\n",
    "df_dataset1[[ 'Log Price in USD',\n",
    "       'Volatility Daily Log Return in Percent 5D', 'market/price_usd_close',\"percentage_daily_return_bef_shift\"]].tail()"
   ]
  },
  {
   "cell_type": "code",
   "execution_count": 19,
   "metadata": {
    "ExecuteTime": {
     "end_time": "2020-12-25T22:13:12.919147Z",
     "start_time": "2020-12-25T22:13:12.896174Z"
    }
   },
   "outputs": [
    {
     "data": {
      "text/html": [
       "<div>\n",
       "<style scoped>\n",
       "    .dataframe tbody tr th:only-of-type {\n",
       "        vertical-align: middle;\n",
       "    }\n",
       "\n",
       "    .dataframe tbody tr th {\n",
       "        vertical-align: top;\n",
       "    }\n",
       "\n",
       "    .dataframe thead th {\n",
       "        text-align: right;\n",
       "    }\n",
       "</style>\n",
       "<table border=\"1\" class=\"dataframe\">\n",
       "  <thead>\n",
       "    <tr style=\"text-align: right;\">\n",
       "      <th></th>\n",
       "      <th>Daily Return in USD</th>\n",
       "      <th>Log Price in USD</th>\n",
       "      <th>Volatility Daily Log Return in Percent 5D</th>\n",
       "      <th>market/price_usd_close</th>\n",
       "      <th>market/price_drawdown_relative</th>\n",
       "      <th>market/price_realized_usd</th>\n",
       "      <th>market/mvrv</th>\n",
       "      <th>mining/difficulty_latest</th>\n",
       "      <th>mining/hash_rate_mean</th>\n",
       "      <th>blockchain/block_count</th>\n",
       "      <th>...</th>\n",
       "      <th>addresses/min_point_1_count</th>\n",
       "      <th>addresses/min_1_count</th>\n",
       "      <th>addresses/min_10_count</th>\n",
       "      <th>addresses/min_100_count</th>\n",
       "      <th>addresses/min_1k_count</th>\n",
       "      <th>addresses/min_10k_count</th>\n",
       "      <th>Daily Return in USD_ohneshift</th>\n",
       "      <th>percentage_daily_return_bef_shift</th>\n",
       "      <th>market/price_usd_close_cummax</th>\n",
       "      <th>price_usd_close_percent_of_maxtilnow</th>\n",
       "    </tr>\n",
       "    <tr>\n",
       "      <th>Date</th>\n",
       "      <th></th>\n",
       "      <th></th>\n",
       "      <th></th>\n",
       "      <th></th>\n",
       "      <th></th>\n",
       "      <th></th>\n",
       "      <th></th>\n",
       "      <th></th>\n",
       "      <th></th>\n",
       "      <th></th>\n",
       "      <th></th>\n",
       "      <th></th>\n",
       "      <th></th>\n",
       "      <th></th>\n",
       "      <th></th>\n",
       "      <th></th>\n",
       "      <th></th>\n",
       "      <th></th>\n",
       "      <th></th>\n",
       "      <th></th>\n",
       "      <th></th>\n",
       "    </tr>\n",
       "  </thead>\n",
       "  <tbody>\n",
       "    <tr>\n",
       "      <th>2011-07-20</th>\n",
       "      <td>-0.08</td>\n",
       "      <td>2.62</td>\n",
       "      <td>2.80</td>\n",
       "      <td>13.69</td>\n",
       "      <td>-0.57</td>\n",
       "      <td>6.97</td>\n",
       "      <td>1.98</td>\n",
       "      <td>7262342175053680.00</td>\n",
       "      <td>12525772772957.20</td>\n",
       "      <td>149.00</td>\n",
       "      <td>...</td>\n",
       "      <td>126121.00</td>\n",
       "      <td>99090.00</td>\n",
       "      <td>64643.00</td>\n",
       "      <td>3799.00</td>\n",
       "      <td>598.00</td>\n",
       "      <td>63.00</td>\n",
       "      <td>-0.15</td>\n",
       "      <td>-0.01</td>\n",
       "      <td>23851.24</td>\n",
       "      <td>0.00</td>\n",
       "    </tr>\n",
       "    <tr>\n",
       "      <th>2011-07-19</th>\n",
       "      <td>-0.15</td>\n",
       "      <td>2.63</td>\n",
       "      <td>2.83</td>\n",
       "      <td>13.84</td>\n",
       "      <td>-0.57</td>\n",
       "      <td>7.03</td>\n",
       "      <td>1.96</td>\n",
       "      <td>7262342175053680.00</td>\n",
       "      <td>11065053631354.40</td>\n",
       "      <td>142.00</td>\n",
       "      <td>...</td>\n",
       "      <td>125791.00</td>\n",
       "      <td>98755.00</td>\n",
       "      <td>64598.00</td>\n",
       "      <td>3761.00</td>\n",
       "      <td>597.00</td>\n",
       "      <td>63.00</td>\n",
       "      <td>0.42</td>\n",
       "      <td>0.03</td>\n",
       "      <td>23851.24</td>\n",
       "      <td>0.00</td>\n",
       "    </tr>\n",
       "    <tr>\n",
       "      <th>2011-07-18</th>\n",
       "      <td>0.42</td>\n",
       "      <td>2.60</td>\n",
       "      <td>2.23</td>\n",
       "      <td>13.42</td>\n",
       "      <td>-0.58</td>\n",
       "      <td>7.01</td>\n",
       "      <td>1.86</td>\n",
       "      <td>6713154126051590.00</td>\n",
       "      <td>13355914725081.60</td>\n",
       "      <td>170.00</td>\n",
       "      <td>...</td>\n",
       "      <td>125059.00</td>\n",
       "      <td>98120.00</td>\n",
       "      <td>64454.00</td>\n",
       "      <td>3746.00</td>\n",
       "      <td>600.00</td>\n",
       "      <td>63.00</td>\n",
       "      <td>0.26</td>\n",
       "      <td>0.02</td>\n",
       "      <td>23851.24</td>\n",
       "      <td>0.00</td>\n",
       "    </tr>\n",
       "    <tr>\n",
       "      <th>2011-07-17</th>\n",
       "      <td>0.26</td>\n",
       "      <td>2.58</td>\n",
       "      <td>1.70</td>\n",
       "      <td>13.17</td>\n",
       "      <td>-0.59</td>\n",
       "      <td>7.32</td>\n",
       "      <td>1.82</td>\n",
       "      <td>6713154126051590.00</td>\n",
       "      <td>13208752331351.50</td>\n",
       "      <td>170.00</td>\n",
       "      <td>...</td>\n",
       "      <td>126461.00</td>\n",
       "      <td>99364.00</td>\n",
       "      <td>64511.00</td>\n",
       "      <td>3824.00</td>\n",
       "      <td>599.00</td>\n",
       "      <td>62.00</td>\n",
       "      <td>-0.55</td>\n",
       "      <td>-0.04</td>\n",
       "      <td>23851.24</td>\n",
       "      <td>0.00</td>\n",
       "    </tr>\n",
       "    <tr>\n",
       "      <th>2011-07-16</th>\n",
       "      <td>-0.55</td>\n",
       "      <td>2.62</td>\n",
       "      <td>0.70</td>\n",
       "      <td>13.72</td>\n",
       "      <td>-0.57</td>\n",
       "      <td>7.31</td>\n",
       "      <td>1.87</td>\n",
       "      <td>6713154126051590.00</td>\n",
       "      <td>11654137109701.80</td>\n",
       "      <td>157.00</td>\n",
       "      <td>...</td>\n",
       "      <td>126035.00</td>\n",
       "      <td>99005.00</td>\n",
       "      <td>64333.00</td>\n",
       "      <td>3805.00</td>\n",
       "      <td>598.00</td>\n",
       "      <td>62.00</td>\n",
       "      <td>-0.09</td>\n",
       "      <td>-0.01</td>\n",
       "      <td>23851.24</td>\n",
       "      <td>0.00</td>\n",
       "    </tr>\n",
       "  </tbody>\n",
       "</table>\n",
       "<p>5 rows × 95 columns</p>\n",
       "</div>"
      ],
      "text/plain": [
       "            Daily Return in USD  Log Price in USD  \\\n",
       "Date                                                \n",
       "2011-07-20                -0.08              2.62   \n",
       "2011-07-19                -0.15              2.63   \n",
       "2011-07-18                 0.42              2.60   \n",
       "2011-07-17                 0.26              2.58   \n",
       "2011-07-16                -0.55              2.62   \n",
       "\n",
       "            Volatility Daily Log Return in Percent 5D  market/price_usd_close  \\\n",
       "Date                                                                            \n",
       "2011-07-20                                       2.80                   13.69   \n",
       "2011-07-19                                       2.83                   13.84   \n",
       "2011-07-18                                       2.23                   13.42   \n",
       "2011-07-17                                       1.70                   13.17   \n",
       "2011-07-16                                       0.70                   13.72   \n",
       "\n",
       "            market/price_drawdown_relative  market/price_realized_usd  \\\n",
       "Date                                                                    \n",
       "2011-07-20                           -0.57                       6.97   \n",
       "2011-07-19                           -0.57                       7.03   \n",
       "2011-07-18                           -0.58                       7.01   \n",
       "2011-07-17                           -0.59                       7.32   \n",
       "2011-07-16                           -0.57                       7.31   \n",
       "\n",
       "            market/mvrv  mining/difficulty_latest  mining/hash_rate_mean  \\\n",
       "Date                                                                       \n",
       "2011-07-20         1.98       7262342175053680.00      12525772772957.20   \n",
       "2011-07-19         1.96       7262342175053680.00      11065053631354.40   \n",
       "2011-07-18         1.86       6713154126051590.00      13355914725081.60   \n",
       "2011-07-17         1.82       6713154126051590.00      13208752331351.50   \n",
       "2011-07-16         1.87       6713154126051590.00      11654137109701.80   \n",
       "\n",
       "            blockchain/block_count  ...  addresses/min_point_1_count  \\\n",
       "Date                                ...                                \n",
       "2011-07-20                  149.00  ...                    126121.00   \n",
       "2011-07-19                  142.00  ...                    125791.00   \n",
       "2011-07-18                  170.00  ...                    125059.00   \n",
       "2011-07-17                  170.00  ...                    126461.00   \n",
       "2011-07-16                  157.00  ...                    126035.00   \n",
       "\n",
       "            addresses/min_1_count  addresses/min_10_count  \\\n",
       "Date                                                        \n",
       "2011-07-20               99090.00                64643.00   \n",
       "2011-07-19               98755.00                64598.00   \n",
       "2011-07-18               98120.00                64454.00   \n",
       "2011-07-17               99364.00                64511.00   \n",
       "2011-07-16               99005.00                64333.00   \n",
       "\n",
       "            addresses/min_100_count  addresses/min_1k_count  \\\n",
       "Date                                                          \n",
       "2011-07-20                  3799.00                  598.00   \n",
       "2011-07-19                  3761.00                  597.00   \n",
       "2011-07-18                  3746.00                  600.00   \n",
       "2011-07-17                  3824.00                  599.00   \n",
       "2011-07-16                  3805.00                  598.00   \n",
       "\n",
       "            addresses/min_10k_count  Daily Return in USD_ohneshift  \\\n",
       "Date                                                                 \n",
       "2011-07-20                    63.00                          -0.15   \n",
       "2011-07-19                    63.00                           0.42   \n",
       "2011-07-18                    63.00                           0.26   \n",
       "2011-07-17                    62.00                          -0.55   \n",
       "2011-07-16                    62.00                          -0.09   \n",
       "\n",
       "            percentage_daily_return_bef_shift  market/price_usd_close_cummax  \\\n",
       "Date                                                                           \n",
       "2011-07-20                              -0.01                       23851.24   \n",
       "2011-07-19                               0.03                       23851.24   \n",
       "2011-07-18                               0.02                       23851.24   \n",
       "2011-07-17                              -0.04                       23851.24   \n",
       "2011-07-16                              -0.01                       23851.24   \n",
       "\n",
       "            price_usd_close_percent_of_maxtilnow  \n",
       "Date                                              \n",
       "2011-07-20                                  0.00  \n",
       "2011-07-19                                  0.00  \n",
       "2011-07-18                                  0.00  \n",
       "2011-07-17                                  0.00  \n",
       "2011-07-16                                  0.00  \n",
       "\n",
       "[5 rows x 95 columns]"
      ]
     },
     "execution_count": 19,
     "metadata": {},
     "output_type": "execute_result"
    }
   ],
   "source": [
    "# Check Shift\n",
    "df_dataset1.tail()"
   ]
  },
  {
   "cell_type": "code",
   "execution_count": 20,
   "metadata": {
    "ExecuteTime": {
     "end_time": "2020-12-25T22:13:13.294475Z",
     "start_time": "2020-12-25T22:13:13.283467Z"
    }
   },
   "outputs": [
    {
     "data": {
      "text/plain": [
       "Daily Return in USD                          1\n",
       "Log Price in USD                             0\n",
       "Volatility Daily Log Return in Percent 5D    0\n",
       "market/price_usd_close                       0\n",
       "market/price_drawdown_relative               0\n",
       "                                            ..\n",
       "addresses/min_10k_count                      0\n",
       "Daily Return in USD_ohneshift                0\n",
       "percentage_daily_return_bef_shift            0\n",
       "market/price_usd_close_cummax                0\n",
       "price_usd_close_percent_of_maxtilnow         0\n",
       "Length: 95, dtype: int64"
      ]
     },
     "execution_count": 20,
     "metadata": {},
     "output_type": "execute_result"
    }
   ],
   "source": [
    "# Check Empty Cells\n",
    "df_dataset1.isnull().sum()"
   ]
  },
  {
   "cell_type": "code",
   "execution_count": 21,
   "metadata": {
    "ExecuteTime": {
     "end_time": "2020-12-25T22:13:13.783131Z",
     "start_time": "2020-12-25T22:13:13.751313Z"
    }
   },
   "outputs": [
    {
     "data": {
      "text/html": [
       "<div>\n",
       "<style scoped>\n",
       "    .dataframe tbody tr th:only-of-type {\n",
       "        vertical-align: middle;\n",
       "    }\n",
       "\n",
       "    .dataframe tbody tr th {\n",
       "        vertical-align: top;\n",
       "    }\n",
       "\n",
       "    .dataframe thead th {\n",
       "        text-align: right;\n",
       "    }\n",
       "</style>\n",
       "<table border=\"1\" class=\"dataframe\">\n",
       "  <thead>\n",
       "    <tr style=\"text-align: right;\">\n",
       "      <th></th>\n",
       "      <th>Daily Return in USD</th>\n",
       "      <th>Log Price in USD</th>\n",
       "      <th>Volatility Daily Log Return in Percent 5D</th>\n",
       "      <th>market/price_usd_close</th>\n",
       "      <th>market/price_drawdown_relative</th>\n",
       "      <th>market/price_realized_usd</th>\n",
       "      <th>market/mvrv</th>\n",
       "      <th>mining/difficulty_latest</th>\n",
       "      <th>mining/hash_rate_mean</th>\n",
       "      <th>blockchain/block_count</th>\n",
       "      <th>...</th>\n",
       "      <th>addresses/min_point_1_count</th>\n",
       "      <th>addresses/min_1_count</th>\n",
       "      <th>addresses/min_10_count</th>\n",
       "      <th>addresses/min_100_count</th>\n",
       "      <th>addresses/min_1k_count</th>\n",
       "      <th>addresses/min_10k_count</th>\n",
       "      <th>Daily Return in USD_ohneshift</th>\n",
       "      <th>percentage_daily_return_bef_shift</th>\n",
       "      <th>market/price_usd_close_cummax</th>\n",
       "      <th>price_usd_close_percent_of_maxtilnow</th>\n",
       "    </tr>\n",
       "    <tr>\n",
       "      <th>Date</th>\n",
       "      <th></th>\n",
       "      <th></th>\n",
       "      <th></th>\n",
       "      <th></th>\n",
       "      <th></th>\n",
       "      <th></th>\n",
       "      <th></th>\n",
       "      <th></th>\n",
       "      <th></th>\n",
       "      <th></th>\n",
       "      <th></th>\n",
       "      <th></th>\n",
       "      <th></th>\n",
       "      <th></th>\n",
       "      <th></th>\n",
       "      <th></th>\n",
       "      <th></th>\n",
       "      <th></th>\n",
       "      <th></th>\n",
       "      <th></th>\n",
       "      <th></th>\n",
       "    </tr>\n",
       "  </thead>\n",
       "  <tbody>\n",
       "    <tr>\n",
       "      <th>2020-12-24</th>\n",
       "      <td>True</td>\n",
       "      <td>False</td>\n",
       "      <td>False</td>\n",
       "      <td>False</td>\n",
       "      <td>False</td>\n",
       "      <td>False</td>\n",
       "      <td>False</td>\n",
       "      <td>False</td>\n",
       "      <td>False</td>\n",
       "      <td>False</td>\n",
       "      <td>...</td>\n",
       "      <td>False</td>\n",
       "      <td>False</td>\n",
       "      <td>False</td>\n",
       "      <td>False</td>\n",
       "      <td>False</td>\n",
       "      <td>False</td>\n",
       "      <td>False</td>\n",
       "      <td>False</td>\n",
       "      <td>False</td>\n",
       "      <td>False</td>\n",
       "    </tr>\n",
       "    <tr>\n",
       "      <th>2020-12-23</th>\n",
       "      <td>False</td>\n",
       "      <td>False</td>\n",
       "      <td>False</td>\n",
       "      <td>False</td>\n",
       "      <td>False</td>\n",
       "      <td>False</td>\n",
       "      <td>False</td>\n",
       "      <td>False</td>\n",
       "      <td>False</td>\n",
       "      <td>False</td>\n",
       "      <td>...</td>\n",
       "      <td>False</td>\n",
       "      <td>False</td>\n",
       "      <td>False</td>\n",
       "      <td>False</td>\n",
       "      <td>False</td>\n",
       "      <td>False</td>\n",
       "      <td>False</td>\n",
       "      <td>False</td>\n",
       "      <td>False</td>\n",
       "      <td>False</td>\n",
       "    </tr>\n",
       "    <tr>\n",
       "      <th>2020-12-22</th>\n",
       "      <td>False</td>\n",
       "      <td>False</td>\n",
       "      <td>False</td>\n",
       "      <td>False</td>\n",
       "      <td>False</td>\n",
       "      <td>False</td>\n",
       "      <td>False</td>\n",
       "      <td>False</td>\n",
       "      <td>False</td>\n",
       "      <td>False</td>\n",
       "      <td>...</td>\n",
       "      <td>False</td>\n",
       "      <td>False</td>\n",
       "      <td>False</td>\n",
       "      <td>False</td>\n",
       "      <td>False</td>\n",
       "      <td>False</td>\n",
       "      <td>False</td>\n",
       "      <td>False</td>\n",
       "      <td>False</td>\n",
       "      <td>False</td>\n",
       "    </tr>\n",
       "    <tr>\n",
       "      <th>2020-12-21</th>\n",
       "      <td>False</td>\n",
       "      <td>False</td>\n",
       "      <td>False</td>\n",
       "      <td>False</td>\n",
       "      <td>False</td>\n",
       "      <td>False</td>\n",
       "      <td>False</td>\n",
       "      <td>False</td>\n",
       "      <td>False</td>\n",
       "      <td>False</td>\n",
       "      <td>...</td>\n",
       "      <td>False</td>\n",
       "      <td>False</td>\n",
       "      <td>False</td>\n",
       "      <td>False</td>\n",
       "      <td>False</td>\n",
       "      <td>False</td>\n",
       "      <td>False</td>\n",
       "      <td>False</td>\n",
       "      <td>False</td>\n",
       "      <td>False</td>\n",
       "    </tr>\n",
       "    <tr>\n",
       "      <th>2020-12-20</th>\n",
       "      <td>False</td>\n",
       "      <td>False</td>\n",
       "      <td>False</td>\n",
       "      <td>False</td>\n",
       "      <td>False</td>\n",
       "      <td>False</td>\n",
       "      <td>False</td>\n",
       "      <td>False</td>\n",
       "      <td>False</td>\n",
       "      <td>False</td>\n",
       "      <td>...</td>\n",
       "      <td>False</td>\n",
       "      <td>False</td>\n",
       "      <td>False</td>\n",
       "      <td>False</td>\n",
       "      <td>False</td>\n",
       "      <td>False</td>\n",
       "      <td>False</td>\n",
       "      <td>False</td>\n",
       "      <td>False</td>\n",
       "      <td>False</td>\n",
       "    </tr>\n",
       "    <tr>\n",
       "      <th>...</th>\n",
       "      <td>...</td>\n",
       "      <td>...</td>\n",
       "      <td>...</td>\n",
       "      <td>...</td>\n",
       "      <td>...</td>\n",
       "      <td>...</td>\n",
       "      <td>...</td>\n",
       "      <td>...</td>\n",
       "      <td>...</td>\n",
       "      <td>...</td>\n",
       "      <td>...</td>\n",
       "      <td>...</td>\n",
       "      <td>...</td>\n",
       "      <td>...</td>\n",
       "      <td>...</td>\n",
       "      <td>...</td>\n",
       "      <td>...</td>\n",
       "      <td>...</td>\n",
       "      <td>...</td>\n",
       "      <td>...</td>\n",
       "      <td>...</td>\n",
       "    </tr>\n",
       "    <tr>\n",
       "      <th>2011-07-20</th>\n",
       "      <td>False</td>\n",
       "      <td>False</td>\n",
       "      <td>False</td>\n",
       "      <td>False</td>\n",
       "      <td>False</td>\n",
       "      <td>False</td>\n",
       "      <td>False</td>\n",
       "      <td>False</td>\n",
       "      <td>False</td>\n",
       "      <td>False</td>\n",
       "      <td>...</td>\n",
       "      <td>False</td>\n",
       "      <td>False</td>\n",
       "      <td>False</td>\n",
       "      <td>False</td>\n",
       "      <td>False</td>\n",
       "      <td>False</td>\n",
       "      <td>False</td>\n",
       "      <td>False</td>\n",
       "      <td>False</td>\n",
       "      <td>False</td>\n",
       "    </tr>\n",
       "    <tr>\n",
       "      <th>2011-07-19</th>\n",
       "      <td>False</td>\n",
       "      <td>False</td>\n",
       "      <td>False</td>\n",
       "      <td>False</td>\n",
       "      <td>False</td>\n",
       "      <td>False</td>\n",
       "      <td>False</td>\n",
       "      <td>False</td>\n",
       "      <td>False</td>\n",
       "      <td>False</td>\n",
       "      <td>...</td>\n",
       "      <td>False</td>\n",
       "      <td>False</td>\n",
       "      <td>False</td>\n",
       "      <td>False</td>\n",
       "      <td>False</td>\n",
       "      <td>False</td>\n",
       "      <td>False</td>\n",
       "      <td>False</td>\n",
       "      <td>False</td>\n",
       "      <td>False</td>\n",
       "    </tr>\n",
       "    <tr>\n",
       "      <th>2011-07-18</th>\n",
       "      <td>False</td>\n",
       "      <td>False</td>\n",
       "      <td>False</td>\n",
       "      <td>False</td>\n",
       "      <td>False</td>\n",
       "      <td>False</td>\n",
       "      <td>False</td>\n",
       "      <td>False</td>\n",
       "      <td>False</td>\n",
       "      <td>False</td>\n",
       "      <td>...</td>\n",
       "      <td>False</td>\n",
       "      <td>False</td>\n",
       "      <td>False</td>\n",
       "      <td>False</td>\n",
       "      <td>False</td>\n",
       "      <td>False</td>\n",
       "      <td>False</td>\n",
       "      <td>False</td>\n",
       "      <td>False</td>\n",
       "      <td>False</td>\n",
       "    </tr>\n",
       "    <tr>\n",
       "      <th>2011-07-17</th>\n",
       "      <td>False</td>\n",
       "      <td>False</td>\n",
       "      <td>False</td>\n",
       "      <td>False</td>\n",
       "      <td>False</td>\n",
       "      <td>False</td>\n",
       "      <td>False</td>\n",
       "      <td>False</td>\n",
       "      <td>False</td>\n",
       "      <td>False</td>\n",
       "      <td>...</td>\n",
       "      <td>False</td>\n",
       "      <td>False</td>\n",
       "      <td>False</td>\n",
       "      <td>False</td>\n",
       "      <td>False</td>\n",
       "      <td>False</td>\n",
       "      <td>False</td>\n",
       "      <td>False</td>\n",
       "      <td>False</td>\n",
       "      <td>False</td>\n",
       "    </tr>\n",
       "    <tr>\n",
       "      <th>2011-07-16</th>\n",
       "      <td>False</td>\n",
       "      <td>False</td>\n",
       "      <td>False</td>\n",
       "      <td>False</td>\n",
       "      <td>False</td>\n",
       "      <td>False</td>\n",
       "      <td>False</td>\n",
       "      <td>False</td>\n",
       "      <td>False</td>\n",
       "      <td>False</td>\n",
       "      <td>...</td>\n",
       "      <td>False</td>\n",
       "      <td>False</td>\n",
       "      <td>False</td>\n",
       "      <td>False</td>\n",
       "      <td>False</td>\n",
       "      <td>False</td>\n",
       "      <td>False</td>\n",
       "      <td>False</td>\n",
       "      <td>False</td>\n",
       "      <td>False</td>\n",
       "    </tr>\n",
       "  </tbody>\n",
       "</table>\n",
       "<p>3450 rows × 95 columns</p>\n",
       "</div>"
      ],
      "text/plain": [
       "            Daily Return in USD  Log Price in USD  \\\n",
       "Date                                                \n",
       "2020-12-24                 True             False   \n",
       "2020-12-23                False             False   \n",
       "2020-12-22                False             False   \n",
       "2020-12-21                False             False   \n",
       "2020-12-20                False             False   \n",
       "...                         ...               ...   \n",
       "2011-07-20                False             False   \n",
       "2011-07-19                False             False   \n",
       "2011-07-18                False             False   \n",
       "2011-07-17                False             False   \n",
       "2011-07-16                False             False   \n",
       "\n",
       "            Volatility Daily Log Return in Percent 5D  market/price_usd_close  \\\n",
       "Date                                                                            \n",
       "2020-12-24                                      False                   False   \n",
       "2020-12-23                                      False                   False   \n",
       "2020-12-22                                      False                   False   \n",
       "2020-12-21                                      False                   False   \n",
       "2020-12-20                                      False                   False   \n",
       "...                                               ...                     ...   \n",
       "2011-07-20                                      False                   False   \n",
       "2011-07-19                                      False                   False   \n",
       "2011-07-18                                      False                   False   \n",
       "2011-07-17                                      False                   False   \n",
       "2011-07-16                                      False                   False   \n",
       "\n",
       "            market/price_drawdown_relative  market/price_realized_usd  \\\n",
       "Date                                                                    \n",
       "2020-12-24                           False                      False   \n",
       "2020-12-23                           False                      False   \n",
       "2020-12-22                           False                      False   \n",
       "2020-12-21                           False                      False   \n",
       "2020-12-20                           False                      False   \n",
       "...                                    ...                        ...   \n",
       "2011-07-20                           False                      False   \n",
       "2011-07-19                           False                      False   \n",
       "2011-07-18                           False                      False   \n",
       "2011-07-17                           False                      False   \n",
       "2011-07-16                           False                      False   \n",
       "\n",
       "            market/mvrv  mining/difficulty_latest  mining/hash_rate_mean  \\\n",
       "Date                                                                       \n",
       "2020-12-24        False                     False                  False   \n",
       "2020-12-23        False                     False                  False   \n",
       "2020-12-22        False                     False                  False   \n",
       "2020-12-21        False                     False                  False   \n",
       "2020-12-20        False                     False                  False   \n",
       "...                 ...                       ...                    ...   \n",
       "2011-07-20        False                     False                  False   \n",
       "2011-07-19        False                     False                  False   \n",
       "2011-07-18        False                     False                  False   \n",
       "2011-07-17        False                     False                  False   \n",
       "2011-07-16        False                     False                  False   \n",
       "\n",
       "            blockchain/block_count  ...  addresses/min_point_1_count  \\\n",
       "Date                                ...                                \n",
       "2020-12-24                   False  ...                        False   \n",
       "2020-12-23                   False  ...                        False   \n",
       "2020-12-22                   False  ...                        False   \n",
       "2020-12-21                   False  ...                        False   \n",
       "2020-12-20                   False  ...                        False   \n",
       "...                            ...  ...                          ...   \n",
       "2011-07-20                   False  ...                        False   \n",
       "2011-07-19                   False  ...                        False   \n",
       "2011-07-18                   False  ...                        False   \n",
       "2011-07-17                   False  ...                        False   \n",
       "2011-07-16                   False  ...                        False   \n",
       "\n",
       "            addresses/min_1_count  addresses/min_10_count  \\\n",
       "Date                                                        \n",
       "2020-12-24                  False                   False   \n",
       "2020-12-23                  False                   False   \n",
       "2020-12-22                  False                   False   \n",
       "2020-12-21                  False                   False   \n",
       "2020-12-20                  False                   False   \n",
       "...                           ...                     ...   \n",
       "2011-07-20                  False                   False   \n",
       "2011-07-19                  False                   False   \n",
       "2011-07-18                  False                   False   \n",
       "2011-07-17                  False                   False   \n",
       "2011-07-16                  False                   False   \n",
       "\n",
       "            addresses/min_100_count  addresses/min_1k_count  \\\n",
       "Date                                                          \n",
       "2020-12-24                    False                   False   \n",
       "2020-12-23                    False                   False   \n",
       "2020-12-22                    False                   False   \n",
       "2020-12-21                    False                   False   \n",
       "2020-12-20                    False                   False   \n",
       "...                             ...                     ...   \n",
       "2011-07-20                    False                   False   \n",
       "2011-07-19                    False                   False   \n",
       "2011-07-18                    False                   False   \n",
       "2011-07-17                    False                   False   \n",
       "2011-07-16                    False                   False   \n",
       "\n",
       "            addresses/min_10k_count  Daily Return in USD_ohneshift  \\\n",
       "Date                                                                 \n",
       "2020-12-24                    False                          False   \n",
       "2020-12-23                    False                          False   \n",
       "2020-12-22                    False                          False   \n",
       "2020-12-21                    False                          False   \n",
       "2020-12-20                    False                          False   \n",
       "...                             ...                            ...   \n",
       "2011-07-20                    False                          False   \n",
       "2011-07-19                    False                          False   \n",
       "2011-07-18                    False                          False   \n",
       "2011-07-17                    False                          False   \n",
       "2011-07-16                    False                          False   \n",
       "\n",
       "            percentage_daily_return_bef_shift  market/price_usd_close_cummax  \\\n",
       "Date                                                                           \n",
       "2020-12-24                              False                          False   \n",
       "2020-12-23                              False                          False   \n",
       "2020-12-22                              False                          False   \n",
       "2020-12-21                              False                          False   \n",
       "2020-12-20                              False                          False   \n",
       "...                                       ...                            ...   \n",
       "2011-07-20                              False                          False   \n",
       "2011-07-19                              False                          False   \n",
       "2011-07-18                              False                          False   \n",
       "2011-07-17                              False                          False   \n",
       "2011-07-16                              False                          False   \n",
       "\n",
       "            price_usd_close_percent_of_maxtilnow  \n",
       "Date                                              \n",
       "2020-12-24                                 False  \n",
       "2020-12-23                                 False  \n",
       "2020-12-22                                 False  \n",
       "2020-12-21                                 False  \n",
       "2020-12-20                                 False  \n",
       "...                                          ...  \n",
       "2011-07-20                                 False  \n",
       "2011-07-19                                 False  \n",
       "2011-07-18                                 False  \n",
       "2011-07-17                                 False  \n",
       "2011-07-16                                 False  \n",
       "\n",
       "[3450 rows x 95 columns]"
      ]
     },
     "execution_count": 21,
     "metadata": {},
     "output_type": "execute_result"
    }
   ],
   "source": [
    "# daily return: von gestern auf heute die preisveränderung deswegen shift später\n",
    "df_dataset1.isnull()"
   ]
  },
  {
   "cell_type": "code",
   "execution_count": 22,
   "metadata": {
    "ExecuteTime": {
     "end_time": "2020-12-25T22:13:14.209010Z",
     "start_time": "2020-12-25T22:13:14.185104Z"
    }
   },
   "outputs": [],
   "source": [
    "# Delete Empty Row\n",
    "df_dataset1 = df_dataset1.dropna()"
   ]
  },
  {
   "cell_type": "code",
   "execution_count": 23,
   "metadata": {
    "ExecuteTime": {
     "end_time": "2020-12-25T22:13:14.873416Z",
     "start_time": "2020-12-25T22:13:14.861412Z"
    }
   },
   "outputs": [
    {
     "data": {
      "text/plain": [
       "Daily Return in USD                          0\n",
       "Log Price in USD                             0\n",
       "Volatility Daily Log Return in Percent 5D    0\n",
       "market/price_usd_close                       0\n",
       "market/price_drawdown_relative               0\n",
       "                                            ..\n",
       "addresses/min_10k_count                      0\n",
       "Daily Return in USD_ohneshift                0\n",
       "percentage_daily_return_bef_shift            0\n",
       "market/price_usd_close_cummax                0\n",
       "price_usd_close_percent_of_maxtilnow         0\n",
       "Length: 95, dtype: int64"
      ]
     },
     "execution_count": 23,
     "metadata": {},
     "output_type": "execute_result"
    }
   ],
   "source": [
    "# Re-Check Empty Cells\n",
    "df_dataset1.isnull().sum()"
   ]
  },
  {
   "cell_type": "markdown",
   "metadata": {},
   "source": [
    "# Classification Setup"
   ]
  },
  {
   "cell_type": "markdown",
   "metadata": {},
   "source": [
    "## Create Data Set Copies for Trading Strategy"
   ]
  },
  {
   "cell_type": "code",
   "execution_count": 24,
   "metadata": {
    "ExecuteTime": {
     "end_time": "2020-12-25T22:13:16.346144Z",
     "start_time": "2020-12-25T22:13:16.341157Z"
    }
   },
   "outputs": [],
   "source": [
    "# Data Set Copy for Trading Extension\n",
    "df_dataset1_copy = df_dataset1.copy()\n"
   ]
  },
  {
   "cell_type": "markdown",
   "metadata": {},
   "source": [
    "## Categorization - Data Set I."
   ]
  },
  {
   "cell_type": "code",
   "execution_count": 25,
   "metadata": {
    "ExecuteTime": {
     "end_time": "2020-12-25T22:13:20.007039Z",
     "start_time": "2020-12-25T22:13:19.989233Z"
    }
   },
   "outputs": [],
   "source": [
    "# Categorization\n",
    "# Class 1 for all Returns >= 0 USD\n",
    "df_dataset1.loc[df_dataset1['Daily Return in USD'] >= 0, 'Class'] = 1\n",
    "# Class 0 for all Returns < 0 USD\n",
    "df_dataset1.loc[df_dataset1['Daily Return in USD'] < 0, 'Class'] = 0"
   ]
  },
  {
   "cell_type": "code",
   "execution_count": 26,
   "metadata": {
    "ExecuteTime": {
     "end_time": "2020-12-25T22:13:20.624032Z",
     "start_time": "2020-12-25T22:13:20.607066Z"
    }
   },
   "outputs": [
    {
     "data": {
      "text/html": [
       "<div>\n",
       "<style scoped>\n",
       "    .dataframe tbody tr th:only-of-type {\n",
       "        vertical-align: middle;\n",
       "    }\n",
       "\n",
       "    .dataframe tbody tr th {\n",
       "        vertical-align: top;\n",
       "    }\n",
       "\n",
       "    .dataframe thead th {\n",
       "        text-align: right;\n",
       "    }\n",
       "</style>\n",
       "<table border=\"1\" class=\"dataframe\">\n",
       "  <thead>\n",
       "    <tr style=\"text-align: right;\">\n",
       "      <th></th>\n",
       "      <th>Daily Return in USD</th>\n",
       "      <th>Log Price in USD</th>\n",
       "      <th>Volatility Daily Log Return in Percent 5D</th>\n",
       "      <th>market/price_usd_close</th>\n",
       "      <th>market/price_drawdown_relative</th>\n",
       "      <th>market/price_realized_usd</th>\n",
       "      <th>market/mvrv</th>\n",
       "      <th>mining/difficulty_latest</th>\n",
       "      <th>mining/hash_rate_mean</th>\n",
       "      <th>blockchain/block_count</th>\n",
       "      <th>...</th>\n",
       "      <th>addresses/min_1_count</th>\n",
       "      <th>addresses/min_10_count</th>\n",
       "      <th>addresses/min_100_count</th>\n",
       "      <th>addresses/min_1k_count</th>\n",
       "      <th>addresses/min_10k_count</th>\n",
       "      <th>Daily Return in USD_ohneshift</th>\n",
       "      <th>percentage_daily_return_bef_shift</th>\n",
       "      <th>market/price_usd_close_cummax</th>\n",
       "      <th>price_usd_close_percent_of_maxtilnow</th>\n",
       "      <th>Class</th>\n",
       "    </tr>\n",
       "    <tr>\n",
       "      <th>Date</th>\n",
       "      <th></th>\n",
       "      <th></th>\n",
       "      <th></th>\n",
       "      <th></th>\n",
       "      <th></th>\n",
       "      <th></th>\n",
       "      <th></th>\n",
       "      <th></th>\n",
       "      <th></th>\n",
       "      <th></th>\n",
       "      <th></th>\n",
       "      <th></th>\n",
       "      <th></th>\n",
       "      <th></th>\n",
       "      <th></th>\n",
       "      <th></th>\n",
       "      <th></th>\n",
       "      <th></th>\n",
       "      <th></th>\n",
       "      <th></th>\n",
       "      <th></th>\n",
       "    </tr>\n",
       "  </thead>\n",
       "  <tbody>\n",
       "    <tr>\n",
       "      <th>2020-12-23</th>\n",
       "      <td>485.20</td>\n",
       "      <td>10.06</td>\n",
       "      <td>3.13</td>\n",
       "      <td>23279.55</td>\n",
       "      <td>-0.04</td>\n",
       "      <td>8375.79</td>\n",
       "      <td>2.81</td>\n",
       "      <td>80187763369133704478720.00</td>\n",
       "      <td>146111617294112997376.00</td>\n",
       "      <td>154.00</td>\n",
       "      <td>...</td>\n",
       "      <td>828576.00</td>\n",
       "      <td>153724.00</td>\n",
       "      <td>16119.00</td>\n",
       "      <td>2247.00</td>\n",
       "      <td>103.00</td>\n",
       "      <td>-479.38</td>\n",
       "      <td>-0.02</td>\n",
       "      <td>23764.75</td>\n",
       "      <td>0.98</td>\n",
       "      <td>1.00</td>\n",
       "    </tr>\n",
       "    <tr>\n",
       "      <th>2020-12-22</th>\n",
       "      <td>-479.38</td>\n",
       "      <td>10.08</td>\n",
       "      <td>2.89</td>\n",
       "      <td>23758.93</td>\n",
       "      <td>-0.02</td>\n",
       "      <td>8286.35</td>\n",
       "      <td>2.79</td>\n",
       "      <td>80187763369133704478720.00</td>\n",
       "      <td>132165952003620995072.00</td>\n",
       "      <td>143.00</td>\n",
       "      <td>...</td>\n",
       "      <td>829715.00</td>\n",
       "      <td>153788.00</td>\n",
       "      <td>16136.00</td>\n",
       "      <td>2252.00</td>\n",
       "      <td>105.00</td>\n",
       "      <td>883.48</td>\n",
       "      <td>0.04</td>\n",
       "      <td>23764.75</td>\n",
       "      <td>1.00</td>\n",
       "      <td>0.00</td>\n",
       "    </tr>\n",
       "    <tr>\n",
       "      <th>2020-12-21</th>\n",
       "      <td>883.48</td>\n",
       "      <td>10.04</td>\n",
       "      <td>3.74</td>\n",
       "      <td>22875.46</td>\n",
       "      <td>-0.05</td>\n",
       "      <td>8205.79</td>\n",
       "      <td>2.83</td>\n",
       "      <td>80187763369133704478720.00</td>\n",
       "      <td>125467801265571004416.00</td>\n",
       "      <td>136.00</td>\n",
       "      <td>...</td>\n",
       "      <td>828815.00</td>\n",
       "      <td>153675.00</td>\n",
       "      <td>16081.00</td>\n",
       "      <td>2266.00</td>\n",
       "      <td>107.00</td>\n",
       "      <td>-674.33</td>\n",
       "      <td>-0.03</td>\n",
       "      <td>23764.75</td>\n",
       "      <td>0.96</td>\n",
       "      <td>1.00</td>\n",
       "    </tr>\n",
       "    <tr>\n",
       "      <th>2020-12-20</th>\n",
       "      <td>-674.33</td>\n",
       "      <td>10.07</td>\n",
       "      <td>4.24</td>\n",
       "      <td>23549.78</td>\n",
       "      <td>-0.03</td>\n",
       "      <td>8159.47</td>\n",
       "      <td>2.89</td>\n",
       "      <td>80187763369133704478720.00</td>\n",
       "      <td>141220096205307002880.00</td>\n",
       "      <td>151.00</td>\n",
       "      <td>...</td>\n",
       "      <td>827865.00</td>\n",
       "      <td>153996.00</td>\n",
       "      <td>16101.00</td>\n",
       "      <td>2275.00</td>\n",
       "      <td>107.00</td>\n",
       "      <td>-301.46</td>\n",
       "      <td>-0.01</td>\n",
       "      <td>23764.75</td>\n",
       "      <td>0.99</td>\n",
       "      <td>0.00</td>\n",
       "    </tr>\n",
       "    <tr>\n",
       "      <th>2020-12-19</th>\n",
       "      <td>-301.46</td>\n",
       "      <td>10.08</td>\n",
       "      <td>3.64</td>\n",
       "      <td>23851.24</td>\n",
       "      <td>-0.01</td>\n",
       "      <td>8110.96</td>\n",
       "      <td>2.88</td>\n",
       "      <td>80187763369133704478720.00</td>\n",
       "      <td>145727178343050002432.00</td>\n",
       "      <td>158.00</td>\n",
       "      <td>...</td>\n",
       "      <td>828127.00</td>\n",
       "      <td>154028.00</td>\n",
       "      <td>16123.00</td>\n",
       "      <td>2302.00</td>\n",
       "      <td>107.00</td>\n",
       "      <td>772.48</td>\n",
       "      <td>0.03</td>\n",
       "      <td>23851.24</td>\n",
       "      <td>1.00</td>\n",
       "      <td>0.00</td>\n",
       "    </tr>\n",
       "  </tbody>\n",
       "</table>\n",
       "<p>5 rows × 96 columns</p>\n",
       "</div>"
      ],
      "text/plain": [
       "            Daily Return in USD  Log Price in USD  \\\n",
       "Date                                                \n",
       "2020-12-23               485.20             10.06   \n",
       "2020-12-22              -479.38             10.08   \n",
       "2020-12-21               883.48             10.04   \n",
       "2020-12-20              -674.33             10.07   \n",
       "2020-12-19              -301.46             10.08   \n",
       "\n",
       "            Volatility Daily Log Return in Percent 5D  market/price_usd_close  \\\n",
       "Date                                                                            \n",
       "2020-12-23                                       3.13                23279.55   \n",
       "2020-12-22                                       2.89                23758.93   \n",
       "2020-12-21                                       3.74                22875.46   \n",
       "2020-12-20                                       4.24                23549.78   \n",
       "2020-12-19                                       3.64                23851.24   \n",
       "\n",
       "            market/price_drawdown_relative  market/price_realized_usd  \\\n",
       "Date                                                                    \n",
       "2020-12-23                           -0.04                    8375.79   \n",
       "2020-12-22                           -0.02                    8286.35   \n",
       "2020-12-21                           -0.05                    8205.79   \n",
       "2020-12-20                           -0.03                    8159.47   \n",
       "2020-12-19                           -0.01                    8110.96   \n",
       "\n",
       "            market/mvrv   mining/difficulty_latest    mining/hash_rate_mean  \\\n",
       "Date                                                                          \n",
       "2020-12-23         2.81 80187763369133704478720.00 146111617294112997376.00   \n",
       "2020-12-22         2.79 80187763369133704478720.00 132165952003620995072.00   \n",
       "2020-12-21         2.83 80187763369133704478720.00 125467801265571004416.00   \n",
       "2020-12-20         2.89 80187763369133704478720.00 141220096205307002880.00   \n",
       "2020-12-19         2.88 80187763369133704478720.00 145727178343050002432.00   \n",
       "\n",
       "            blockchain/block_count  ...  addresses/min_1_count  \\\n",
       "Date                                ...                          \n",
       "2020-12-23                  154.00  ...              828576.00   \n",
       "2020-12-22                  143.00  ...              829715.00   \n",
       "2020-12-21                  136.00  ...              828815.00   \n",
       "2020-12-20                  151.00  ...              827865.00   \n",
       "2020-12-19                  158.00  ...              828127.00   \n",
       "\n",
       "            addresses/min_10_count  addresses/min_100_count  \\\n",
       "Date                                                          \n",
       "2020-12-23               153724.00                 16119.00   \n",
       "2020-12-22               153788.00                 16136.00   \n",
       "2020-12-21               153675.00                 16081.00   \n",
       "2020-12-20               153996.00                 16101.00   \n",
       "2020-12-19               154028.00                 16123.00   \n",
       "\n",
       "            addresses/min_1k_count  addresses/min_10k_count  \\\n",
       "Date                                                          \n",
       "2020-12-23                 2247.00                   103.00   \n",
       "2020-12-22                 2252.00                   105.00   \n",
       "2020-12-21                 2266.00                   107.00   \n",
       "2020-12-20                 2275.00                   107.00   \n",
       "2020-12-19                 2302.00                   107.00   \n",
       "\n",
       "            Daily Return in USD_ohneshift  percentage_daily_return_bef_shift  \\\n",
       "Date                                                                           \n",
       "2020-12-23                        -479.38                              -0.02   \n",
       "2020-12-22                         883.48                               0.04   \n",
       "2020-12-21                        -674.33                              -0.03   \n",
       "2020-12-20                        -301.46                              -0.01   \n",
       "2020-12-19                         772.48                               0.03   \n",
       "\n",
       "            market/price_usd_close_cummax  \\\n",
       "Date                                        \n",
       "2020-12-23                       23764.75   \n",
       "2020-12-22                       23764.75   \n",
       "2020-12-21                       23764.75   \n",
       "2020-12-20                       23764.75   \n",
       "2020-12-19                       23851.24   \n",
       "\n",
       "            price_usd_close_percent_of_maxtilnow  Class  \n",
       "Date                                                     \n",
       "2020-12-23                                  0.98   1.00  \n",
       "2020-12-22                                  1.00   0.00  \n",
       "2020-12-21                                  0.96   1.00  \n",
       "2020-12-20                                  0.99   0.00  \n",
       "2020-12-19                                  1.00   0.00  \n",
       "\n",
       "[5 rows x 96 columns]"
      ]
     },
     "execution_count": 26,
     "metadata": {},
     "output_type": "execute_result"
    }
   ],
   "source": [
    "# Data Set Head\n",
    "df_dataset1.head()"
   ]
  },
  {
   "cell_type": "code",
   "execution_count": 27,
   "metadata": {
    "ExecuteTime": {
     "end_time": "2020-12-25T22:13:21.320380Z",
     "start_time": "2020-12-25T22:13:21.310408Z"
    }
   },
   "outputs": [
    {
     "name": "stdout",
     "output_type": "stream",
     "text": [
      "0 Daily Return in USD\n",
      "1 Log Price in USD\n",
      "2 Volatility Daily Log Return in Percent 5D\n",
      "3 market/price_usd_close\n",
      "4 market/price_drawdown_relative\n",
      "5 market/price_realized_usd\n",
      "6 market/mvrv\n",
      "7 mining/difficulty_latest\n",
      "8 mining/hash_rate_mean\n",
      "9 blockchain/block_count\n",
      "10 blockchain/block_interval_mean\n",
      "11 blockchain/block_size_sum\n",
      "12 fees/volume_sum\n",
      "13 fees/volume_mean\n",
      "14 fees/fee_ratio_multiple\n",
      "15 blockchain/utxo_created_count\n",
      "16 blockchain/utxo_spent_count\n",
      "17 blockchain/utxo_created_value_sum\n",
      "18 blockchain/utxo_spent_value_sum\n",
      "19 blockchain/utxo_profit_relative\n",
      "20 blockchain/utxo_profit_count\n",
      "21 blockchain/utxo_loss_count\n",
      "22 supply/current\n",
      "23 supply/profit_relative\n",
      "24 supply/profit_sum\n",
      "25 supply/loss_sum\n",
      "26 supply/active_more_1y_percent\n",
      "27 supply/active_more_2y_percent\n",
      "28 supply/active_more_3y_percent\n",
      "29 supply/active_more_5y_percent\n",
      "30 supply/active_24h\n",
      "31 supply/active_1d_1w\n",
      "32 supply/active_1w_1m\n",
      "33 supply/active_1m_3m\n",
      "34 supply/active_3m_6m\n",
      "35 supply/active_6m_12m\n",
      "36 supply/active_1y_2y\n",
      "37 supply/active_2y_3y\n",
      "38 supply/active_3y_5y\n",
      "39 supply/active_5y_7y\n",
      "40 supply/active_7y_10y\n",
      "41 supply/active_more_10y\n",
      "42 supply/issued\n",
      "43 supply/inflation_rate\n",
      "44 transactions/count\n",
      "45 transactions/size_sum\n",
      "46 transactions/transfers_volume_sum\n",
      "47 transactions/transfers_volume_adjusted_sum\n",
      "48 indicators/sopr_adjusted\n",
      "49 indicators/nvt\n",
      "50 indicators/velocity\n",
      "51 indicators/cdd\n",
      "52 indicators/reserve_risk\n",
      "53 indicators/average_dormancy\n",
      "54 indicators/liveliness\n",
      "55 indicators/asol\n",
      "56 indicators/sol_1h\n",
      "57 indicators/sol_1h_24h\n",
      "58 indicators/sol_1d_1w\n",
      "59 indicators/sol_1w_1m\n",
      "60 indicators/sol_1m_3m\n",
      "61 indicators/sol_3m_6m\n",
      "62 indicators/sol_6m_12m\n",
      "63 indicators/sol_1y_2y\n",
      "64 indicators/sol_2y_3y\n",
      "65 indicators/sol_3y_5y\n",
      "66 indicators/sol_5y_7y\n",
      "67 indicators/sol_7y_10y\n",
      "68 indicators/net_unrealized_profit_loss\n",
      "69 indicators/unrealized_profit\n",
      "70 indicators/unrealized_loss\n",
      "71 indicators/net_realized_profit_loss\n",
      "72 indicators/realized_profit\n",
      "73 indicators/realized_loss\n",
      "74 indicators/nupl_more_155\n",
      "75 indicators/nupl_less_155\n",
      "76 indicators/puell_multiple\n",
      "77 indicators/stock_to_flow_deflection\n",
      "78 indicators/difficulty_ribbon_compression\n",
      "79 addresses/active_count\n",
      "80 addresses/sending_count\n",
      "81 addresses/receiving_count\n",
      "82 addresses/new_non_zero_count\n",
      "83 addresses/non_zero_count\n",
      "84 addresses/min_point_zero_1_count\n",
      "85 addresses/min_point_1_count\n",
      "86 addresses/min_1_count\n",
      "87 addresses/min_10_count\n",
      "88 addresses/min_100_count\n",
      "89 addresses/min_1k_count\n",
      "90 addresses/min_10k_count\n",
      "91 Daily Return in USD_ohneshift\n",
      "92 percentage_daily_return_bef_shift\n",
      "93 market/price_usd_close_cummax\n",
      "94 price_usd_close_percent_of_maxtilnow\n",
      "95 Class\n"
     ]
    }
   ],
   "source": [
    "for x in range(len(df_dataset1.columns)):\n",
    "    print(x, df_dataset1.columns[x])"
   ]
  },
  {
   "cell_type": "code",
   "execution_count": 28,
   "metadata": {
    "ExecuteTime": {
     "end_time": "2020-12-25T22:13:22.056133Z",
     "start_time": "2020-12-25T22:13:22.045164Z"
    }
   },
   "outputs": [],
   "source": [
    "# Delete Original Target Column\n",
    "df_dataset1 = df_dataset1.drop(['Daily Return in USD'], axis=1)"
   ]
  },
  {
   "cell_type": "code",
   "execution_count": 29,
   "metadata": {
    "ExecuteTime": {
     "end_time": "2020-12-25T22:13:23.002699Z",
     "start_time": "2020-12-25T22:13:22.991729Z"
    }
   },
   "outputs": [
    {
     "data": {
      "text/plain": [
       "1.00    1873\n",
       "0.00    1576\n",
       "Name: Class, dtype: int64"
      ]
     },
     "execution_count": 29,
     "metadata": {},
     "output_type": "execute_result"
    }
   ],
   "source": [
    "# Check Class Balance\n",
    "df_dataset1['Class'].value_counts()"
   ]
  },
  {
   "cell_type": "code",
   "execution_count": 30,
   "metadata": {
    "ExecuteTime": {
     "end_time": "2020-12-25T22:13:23.961674Z",
     "start_time": "2020-12-25T22:13:23.930361Z"
    }
   },
   "outputs": [
    {
     "data": {
      "text/html": [
       "<div>\n",
       "<style scoped>\n",
       "    .dataframe tbody tr th:only-of-type {\n",
       "        vertical-align: middle;\n",
       "    }\n",
       "\n",
       "    .dataframe tbody tr th {\n",
       "        vertical-align: top;\n",
       "    }\n",
       "\n",
       "    .dataframe thead th {\n",
       "        text-align: right;\n",
       "    }\n",
       "</style>\n",
       "<table border=\"1\" class=\"dataframe\">\n",
       "  <thead>\n",
       "    <tr style=\"text-align: right;\">\n",
       "      <th></th>\n",
       "      <th>Log Price in USD</th>\n",
       "      <th>Volatility Daily Log Return in Percent 5D</th>\n",
       "      <th>market/price_usd_close</th>\n",
       "      <th>market/price_drawdown_relative</th>\n",
       "      <th>market/price_realized_usd</th>\n",
       "      <th>market/mvrv</th>\n",
       "      <th>mining/difficulty_latest</th>\n",
       "      <th>mining/hash_rate_mean</th>\n",
       "      <th>blockchain/block_count</th>\n",
       "      <th>blockchain/block_interval_mean</th>\n",
       "      <th>...</th>\n",
       "      <th>addresses/min_1_count</th>\n",
       "      <th>addresses/min_10_count</th>\n",
       "      <th>addresses/min_100_count</th>\n",
       "      <th>addresses/min_1k_count</th>\n",
       "      <th>addresses/min_10k_count</th>\n",
       "      <th>Daily Return in USD_ohneshift</th>\n",
       "      <th>percentage_daily_return_bef_shift</th>\n",
       "      <th>market/price_usd_close_cummax</th>\n",
       "      <th>price_usd_close_percent_of_maxtilnow</th>\n",
       "      <th>Class</th>\n",
       "    </tr>\n",
       "    <tr>\n",
       "      <th>Date</th>\n",
       "      <th></th>\n",
       "      <th></th>\n",
       "      <th></th>\n",
       "      <th></th>\n",
       "      <th></th>\n",
       "      <th></th>\n",
       "      <th></th>\n",
       "      <th></th>\n",
       "      <th></th>\n",
       "      <th></th>\n",
       "      <th></th>\n",
       "      <th></th>\n",
       "      <th></th>\n",
       "      <th></th>\n",
       "      <th></th>\n",
       "      <th></th>\n",
       "      <th></th>\n",
       "      <th></th>\n",
       "      <th></th>\n",
       "      <th></th>\n",
       "      <th></th>\n",
       "    </tr>\n",
       "  </thead>\n",
       "  <tbody>\n",
       "    <tr>\n",
       "      <th>2011-07-20</th>\n",
       "      <td>2.62</td>\n",
       "      <td>2.80</td>\n",
       "      <td>13.69</td>\n",
       "      <td>-0.57</td>\n",
       "      <td>6.97</td>\n",
       "      <td>1.98</td>\n",
       "      <td>7262342175053680.00</td>\n",
       "      <td>12525772772957.20</td>\n",
       "      <td>149.00</td>\n",
       "      <td>579.79</td>\n",
       "      <td>...</td>\n",
       "      <td>99090.00</td>\n",
       "      <td>64643.00</td>\n",
       "      <td>3799.00</td>\n",
       "      <td>598.00</td>\n",
       "      <td>63.00</td>\n",
       "      <td>-0.15</td>\n",
       "      <td>-0.01</td>\n",
       "      <td>23851.24</td>\n",
       "      <td>0.00</td>\n",
       "      <td>0.00</td>\n",
       "    </tr>\n",
       "    <tr>\n",
       "      <th>2011-07-19</th>\n",
       "      <td>2.63</td>\n",
       "      <td>2.83</td>\n",
       "      <td>13.84</td>\n",
       "      <td>-0.57</td>\n",
       "      <td>7.03</td>\n",
       "      <td>1.96</td>\n",
       "      <td>7262342175053680.00</td>\n",
       "      <td>11065053631354.40</td>\n",
       "      <td>142.00</td>\n",
       "      <td>615.92</td>\n",
       "      <td>...</td>\n",
       "      <td>98755.00</td>\n",
       "      <td>64598.00</td>\n",
       "      <td>3761.00</td>\n",
       "      <td>597.00</td>\n",
       "      <td>63.00</td>\n",
       "      <td>0.42</td>\n",
       "      <td>0.03</td>\n",
       "      <td>23851.24</td>\n",
       "      <td>0.00</td>\n",
       "      <td>0.00</td>\n",
       "    </tr>\n",
       "    <tr>\n",
       "      <th>2011-07-18</th>\n",
       "      <td>2.60</td>\n",
       "      <td>2.23</td>\n",
       "      <td>13.42</td>\n",
       "      <td>-0.58</td>\n",
       "      <td>7.01</td>\n",
       "      <td>1.86</td>\n",
       "      <td>6713154126051590.00</td>\n",
       "      <td>13355914725081.60</td>\n",
       "      <td>170.00</td>\n",
       "      <td>502.64</td>\n",
       "      <td>...</td>\n",
       "      <td>98120.00</td>\n",
       "      <td>64454.00</td>\n",
       "      <td>3746.00</td>\n",
       "      <td>600.00</td>\n",
       "      <td>63.00</td>\n",
       "      <td>0.26</td>\n",
       "      <td>0.02</td>\n",
       "      <td>23851.24</td>\n",
       "      <td>0.00</td>\n",
       "      <td>1.00</td>\n",
       "    </tr>\n",
       "    <tr>\n",
       "      <th>2011-07-17</th>\n",
       "      <td>2.58</td>\n",
       "      <td>1.70</td>\n",
       "      <td>13.17</td>\n",
       "      <td>-0.59</td>\n",
       "      <td>7.32</td>\n",
       "      <td>1.82</td>\n",
       "      <td>6713154126051590.00</td>\n",
       "      <td>13208752331351.50</td>\n",
       "      <td>170.00</td>\n",
       "      <td>508.24</td>\n",
       "      <td>...</td>\n",
       "      <td>99364.00</td>\n",
       "      <td>64511.00</td>\n",
       "      <td>3824.00</td>\n",
       "      <td>599.00</td>\n",
       "      <td>62.00</td>\n",
       "      <td>-0.55</td>\n",
       "      <td>-0.04</td>\n",
       "      <td>23851.24</td>\n",
       "      <td>0.00</td>\n",
       "      <td>1.00</td>\n",
       "    </tr>\n",
       "    <tr>\n",
       "      <th>2011-07-16</th>\n",
       "      <td>2.62</td>\n",
       "      <td>0.70</td>\n",
       "      <td>13.72</td>\n",
       "      <td>-0.57</td>\n",
       "      <td>7.31</td>\n",
       "      <td>1.87</td>\n",
       "      <td>6713154126051590.00</td>\n",
       "      <td>11654137109701.80</td>\n",
       "      <td>157.00</td>\n",
       "      <td>576.03</td>\n",
       "      <td>...</td>\n",
       "      <td>99005.00</td>\n",
       "      <td>64333.00</td>\n",
       "      <td>3805.00</td>\n",
       "      <td>598.00</td>\n",
       "      <td>62.00</td>\n",
       "      <td>-0.09</td>\n",
       "      <td>-0.01</td>\n",
       "      <td>23851.24</td>\n",
       "      <td>0.00</td>\n",
       "      <td>0.00</td>\n",
       "    </tr>\n",
       "  </tbody>\n",
       "</table>\n",
       "<p>5 rows × 95 columns</p>\n",
       "</div>"
      ],
      "text/plain": [
       "            Log Price in USD  Volatility Daily Log Return in Percent 5D  \\\n",
       "Date                                                                      \n",
       "2011-07-20              2.62                                       2.80   \n",
       "2011-07-19              2.63                                       2.83   \n",
       "2011-07-18              2.60                                       2.23   \n",
       "2011-07-17              2.58                                       1.70   \n",
       "2011-07-16              2.62                                       0.70   \n",
       "\n",
       "            market/price_usd_close  market/price_drawdown_relative  \\\n",
       "Date                                                                 \n",
       "2011-07-20                   13.69                           -0.57   \n",
       "2011-07-19                   13.84                           -0.57   \n",
       "2011-07-18                   13.42                           -0.58   \n",
       "2011-07-17                   13.17                           -0.59   \n",
       "2011-07-16                   13.72                           -0.57   \n",
       "\n",
       "            market/price_realized_usd  market/mvrv  mining/difficulty_latest  \\\n",
       "Date                                                                           \n",
       "2011-07-20                       6.97         1.98       7262342175053680.00   \n",
       "2011-07-19                       7.03         1.96       7262342175053680.00   \n",
       "2011-07-18                       7.01         1.86       6713154126051590.00   \n",
       "2011-07-17                       7.32         1.82       6713154126051590.00   \n",
       "2011-07-16                       7.31         1.87       6713154126051590.00   \n",
       "\n",
       "            mining/hash_rate_mean  blockchain/block_count  \\\n",
       "Date                                                        \n",
       "2011-07-20      12525772772957.20                  149.00   \n",
       "2011-07-19      11065053631354.40                  142.00   \n",
       "2011-07-18      13355914725081.60                  170.00   \n",
       "2011-07-17      13208752331351.50                  170.00   \n",
       "2011-07-16      11654137109701.80                  157.00   \n",
       "\n",
       "            blockchain/block_interval_mean  ...  addresses/min_1_count  \\\n",
       "Date                                        ...                          \n",
       "2011-07-20                          579.79  ...               99090.00   \n",
       "2011-07-19                          615.92  ...               98755.00   \n",
       "2011-07-18                          502.64  ...               98120.00   \n",
       "2011-07-17                          508.24  ...               99364.00   \n",
       "2011-07-16                          576.03  ...               99005.00   \n",
       "\n",
       "            addresses/min_10_count  addresses/min_100_count  \\\n",
       "Date                                                          \n",
       "2011-07-20                64643.00                  3799.00   \n",
       "2011-07-19                64598.00                  3761.00   \n",
       "2011-07-18                64454.00                  3746.00   \n",
       "2011-07-17                64511.00                  3824.00   \n",
       "2011-07-16                64333.00                  3805.00   \n",
       "\n",
       "            addresses/min_1k_count  addresses/min_10k_count  \\\n",
       "Date                                                          \n",
       "2011-07-20                  598.00                    63.00   \n",
       "2011-07-19                  597.00                    63.00   \n",
       "2011-07-18                  600.00                    63.00   \n",
       "2011-07-17                  599.00                    62.00   \n",
       "2011-07-16                  598.00                    62.00   \n",
       "\n",
       "            Daily Return in USD_ohneshift  percentage_daily_return_bef_shift  \\\n",
       "Date                                                                           \n",
       "2011-07-20                          -0.15                              -0.01   \n",
       "2011-07-19                           0.42                               0.03   \n",
       "2011-07-18                           0.26                               0.02   \n",
       "2011-07-17                          -0.55                              -0.04   \n",
       "2011-07-16                          -0.09                              -0.01   \n",
       "\n",
       "            market/price_usd_close_cummax  \\\n",
       "Date                                        \n",
       "2011-07-20                       23851.24   \n",
       "2011-07-19                       23851.24   \n",
       "2011-07-18                       23851.24   \n",
       "2011-07-17                       23851.24   \n",
       "2011-07-16                       23851.24   \n",
       "\n",
       "            price_usd_close_percent_of_maxtilnow  Class  \n",
       "Date                                                     \n",
       "2011-07-20                                  0.00   0.00  \n",
       "2011-07-19                                  0.00   0.00  \n",
       "2011-07-18                                  0.00   1.00  \n",
       "2011-07-17                                  0.00   1.00  \n",
       "2011-07-16                                  0.00   0.00  \n",
       "\n",
       "[5 rows x 95 columns]"
      ]
     },
     "execution_count": 30,
     "metadata": {},
     "output_type": "execute_result"
    }
   ],
   "source": [
    "# Data Set Head\n",
    "df_dataset1.tail()"
   ]
  },
  {
   "cell_type": "markdown",
   "metadata": {},
   "source": [
    "# Model Preparation - Data Set I."
   ]
  },
  {
   "cell_type": "markdown",
   "metadata": {},
   "source": [
    "## Train Test Split - Data Set I."
   ]
  },
  {
   "cell_type": "code",
   "execution_count": 31,
   "metadata": {
    "ExecuteTime": {
     "end_time": "2020-12-25T22:13:26.665684Z",
     "start_time": "2020-12-25T22:13:26.643917Z"
    }
   },
   "outputs": [],
   "source": [
    "# Setup of Predictors (Indpendent Variables) by Excluding Target Variable\n",
    "predictors = df_dataset1.drop(['Class'], axis=1).values.astype(np.float32)"
   ]
  },
  {
   "cell_type": "code",
   "execution_count": 32,
   "metadata": {
    "ExecuteTime": {
     "end_time": "2020-12-25T22:13:27.335970Z",
     "start_time": "2020-12-25T22:13:27.325001Z"
    }
   },
   "outputs": [],
   "source": [
    "# Setup of Categorized Target Variable\n",
    "target = df_dataset1['Class'].astype(np.float32)"
   ]
  },
  {
   "cell_type": "code",
   "execution_count": 33,
   "metadata": {
    "ExecuteTime": {
     "end_time": "2020-12-25T22:13:27.633283Z",
     "start_time": "2020-12-25T22:13:27.617692Z"
    }
   },
   "outputs": [
    {
     "data": {
      "text/plain": [
       "(3449, 94)"
      ]
     },
     "execution_count": 33,
     "metadata": {},
     "output_type": "execute_result"
    }
   ],
   "source": [
    "# Predictor Dimensions\n",
    "predictors.shape"
   ]
  },
  {
   "cell_type": "code",
   "execution_count": 34,
   "metadata": {
    "ExecuteTime": {
     "end_time": "2020-12-25T22:13:28.011636Z",
     "start_time": "2020-12-25T22:13:27.981631Z"
    },
    "scrolled": true
   },
   "outputs": [
    {
     "name": "stdout",
     "output_type": "stream",
     "text": [
      "0 10.05533\n",
      "1 3.1329691\n",
      "2 23279.549\n",
      "3 -0.036508415\n",
      "4 8375.793\n",
      "5 2.8112316\n",
      "6 8.018776e+22\n",
      "7 1.4611162e+20\n",
      "8 154.0\n",
      "9 548.8117\n",
      "10 191926660.0\n",
      "11 143.04462\n",
      "12 0.00042282237\n",
      "13 7.72867\n",
      "14 1000784.0\n",
      "15 910566.0\n",
      "16 2006004.5\n",
      "17 2005042.0\n",
      "18 0.9892959\n",
      "19 114621940.0\n",
      "20 1240201.0\n",
      "21 18579424.0\n",
      "22 0.9676617\n",
      "23 17966048.0\n",
      "24 600407.5\n",
      "25 0.5961984\n",
      "26 0.47260875\n",
      "27 0.33790302\n",
      "28 0.21902245\n",
      "29 337956.5\n",
      "30 1028577.9\n",
      "31 1212465.1\n",
      "32 2030709.9\n",
      "33 1184297.6\n",
      "34 1708365.9\n",
      "35 2296224.2\n",
      "36 2502755.2\n",
      "37 2208732.5\n",
      "38 795245.75\n",
      "39 1413201.9\n",
      "40 1860863.5\n",
      "41 962.5\n",
      "42 0.019088088\n",
      "43 338309.0\n",
      "44 191864560.0\n",
      "45 2004898.9\n",
      "46 714836.3\n",
      "47 1.126225\n",
      "48 25.99116\n",
      "49 0.03847462\n",
      "50 28566390.0\n",
      "51 0.0037179582\n",
      "52 39.96214\n",
      "53 0.6080142\n",
      "54 37.438366\n",
      "55 193841.0\n",
      "56 355402.0\n",
      "57 178754.0\n",
      "58 100046.0\n",
      "59 36927.0\n",
      "60 13580.0\n",
      "61 10916.0\n",
      "62 10182.0\n",
      "63 6519.0\n",
      "64 3518.0\n",
      "65 607.0\n",
      "66 274.0\n",
      "67 0.6372493\n",
      "68 0.6376507\n",
      "69 0.00040143754\n",
      "70 1560834800.0\n",
      "71 1646821900.0\n",
      "72 85987100.0\n",
      "73 0.7660498\n",
      "74 0.2765987\n",
      "75 1.8082918\n",
      "76 0.7051771\n",
      "77 0.021079965\n",
      "78 1131834.0\n",
      "79 684823.0\n",
      "80 782721.0\n",
      "81 540230.0\n",
      "82 33111216.0\n",
      "83 8544699.0\n",
      "84 3133057.0\n",
      "85 828576.0\n",
      "86 153724.0\n",
      "87 16119.0\n",
      "88 2247.0\n",
      "89 103.0\n",
      "90 -479.38434\n",
      "91 -0.020592509\n",
      "92 23764.754\n",
      "93 0.979583\n"
     ]
    }
   ],
   "source": [
    "for x in range(len(predictors[0])):\n",
    "    print(x, predictors[0][x])"
   ]
  },
  {
   "cell_type": "code",
   "execution_count": 35,
   "metadata": {
    "ExecuteTime": {
     "end_time": "2020-12-25T22:13:28.948069Z",
     "start_time": "2020-12-25T22:13:28.930949Z"
    }
   },
   "outputs": [
    {
     "data": {
      "text/plain": [
       "(3449,)"
      ]
     },
     "execution_count": 35,
     "metadata": {},
     "output_type": "execute_result"
    }
   ],
   "source": [
    "# Target Dimensions\n",
    "target.shape"
   ]
  },
  {
   "cell_type": "code",
   "execution_count": 36,
   "metadata": {
    "ExecuteTime": {
     "end_time": "2020-12-25T22:13:29.798004Z",
     "start_time": "2020-12-25T22:13:29.783045Z"
    }
   },
   "outputs": [],
   "source": [
    "# Train-Test-Split Function to Create Training and Test Data Set\n",
    "X_train, X_test, y_train, y_test = train_test_split(predictors, target, test_size=0.3, random_state = 41, stratify=target)"
   ]
  },
  {
   "cell_type": "code",
   "execution_count": 37,
   "metadata": {
    "ExecuteTime": {
     "end_time": "2020-12-25T22:13:30.348062Z",
     "start_time": "2020-12-25T22:13:30.334033Z"
    }
   },
   "outputs": [
    {
     "data": {
      "text/plain": [
       "(2414, 94)"
      ]
     },
     "execution_count": 37,
     "metadata": {},
     "output_type": "execute_result"
    }
   ],
   "source": [
    "# Dimensions of Predictors for Training\n",
    "X_train.shape"
   ]
  },
  {
   "cell_type": "code",
   "execution_count": 38,
   "metadata": {
    "ExecuteTime": {
     "end_time": "2020-12-25T22:13:30.870615Z",
     "start_time": "2020-12-25T22:13:30.864632Z"
    }
   },
   "outputs": [
    {
     "data": {
      "text/plain": [
       "(2414,)"
      ]
     },
     "execution_count": 38,
     "metadata": {},
     "output_type": "execute_result"
    }
   ],
   "source": [
    "# Dimensions of Target for Training\n",
    "y_train.shape"
   ]
  },
  {
   "cell_type": "code",
   "execution_count": 39,
   "metadata": {
    "ExecuteTime": {
     "end_time": "2020-12-25T22:13:31.472169Z",
     "start_time": "2020-12-25T22:13:31.460554Z"
    }
   },
   "outputs": [
    {
     "data": {
      "text/plain": [
       "94"
      ]
     },
     "execution_count": 39,
     "metadata": {},
     "output_type": "execute_result"
    }
   ],
   "source": [
    "# Number of Predictors\n",
    "n_nodes = predictors.shape[1]\n",
    "n_nodes"
   ]
  },
  {
   "cell_type": "markdown",
   "metadata": {},
   "source": [
    "### Check of Class Balance"
   ]
  },
  {
   "cell_type": "code",
   "execution_count": 40,
   "metadata": {
    "ExecuteTime": {
     "end_time": "2020-12-25T22:13:32.842003Z",
     "start_time": "2020-12-25T22:13:32.824049Z"
    }
   },
   "outputs": [
    {
     "data": {
      "text/plain": [
       "1103"
      ]
     },
     "execution_count": 40,
     "metadata": {},
     "output_type": "execute_result"
    }
   ],
   "source": [
    "# Check Training Target of Class 0\n",
    "y_train[y_train==0].count()"
   ]
  },
  {
   "cell_type": "code",
   "execution_count": 41,
   "metadata": {
    "ExecuteTime": {
     "end_time": "2020-12-25T22:13:33.204067Z",
     "start_time": "2020-12-25T22:13:33.184623Z"
    }
   },
   "outputs": [
    {
     "data": {
      "text/plain": [
       "1311"
      ]
     },
     "execution_count": 41,
     "metadata": {},
     "output_type": "execute_result"
    }
   ],
   "source": [
    "# Check Training Target of Class 1\n",
    "y_train[y_train==1].count()"
   ]
  },
  {
   "cell_type": "code",
   "execution_count": 42,
   "metadata": {
    "ExecuteTime": {
     "end_time": "2020-12-25T22:13:33.549204Z",
     "start_time": "2020-12-25T22:13:33.542212Z"
    }
   },
   "outputs": [
    {
     "data": {
      "text/plain": [
       "473"
      ]
     },
     "execution_count": 42,
     "metadata": {},
     "output_type": "execute_result"
    }
   ],
   "source": [
    "# Check Test Target of Class 0\n",
    "y_test[y_test==0].count()"
   ]
  },
  {
   "cell_type": "code",
   "execution_count": 43,
   "metadata": {
    "ExecuteTime": {
     "end_time": "2020-12-25T22:13:33.863356Z",
     "start_time": "2020-12-25T22:13:33.854381Z"
    }
   },
   "outputs": [
    {
     "data": {
      "text/plain": [
       "562"
      ]
     },
     "execution_count": 43,
     "metadata": {},
     "output_type": "execute_result"
    }
   ],
   "source": [
    "# Check Test Target of Class 1\n",
    "y_test[y_test==1].count()"
   ]
  },
  {
   "cell_type": "markdown",
   "metadata": {},
   "source": [
    "#  Feature Selection random forest"
   ]
  },
  {
   "cell_type": "code",
   "execution_count": 44,
   "metadata": {
    "ExecuteTime": {
     "end_time": "2020-12-25T22:13:48.895416Z",
     "start_time": "2020-12-25T22:13:35.191812Z"
    }
   },
   "outputs": [
    {
     "name": "stdout",
     "output_type": "stream",
     "text": [
      "Column: 0, Selected False\n",
      "Column: 1, Selected True\n",
      "Column: 2, Selected False\n",
      "Column: 3, Selected True\n",
      "Column: 4, Selected False\n",
      "Column: 5, Selected False\n",
      "Column: 6, Selected False\n",
      "Column: 7, Selected True\n",
      "Column: 8, Selected False\n",
      "Column: 9, Selected True\n",
      "Column: 10, Selected False\n",
      "Column: 11, Selected False\n",
      "Column: 12, Selected True\n",
      "Column: 13, Selected False\n",
      "Column: 14, Selected False\n",
      "Column: 15, Selected False\n",
      "Column: 16, Selected True\n",
      "Column: 17, Selected True\n",
      "Column: 18, Selected True\n",
      "Column: 19, Selected False\n",
      "Column: 20, Selected True\n",
      "Column: 21, Selected False\n",
      "Column: 22, Selected True\n",
      "Column: 23, Selected False\n",
      "Column: 24, Selected True\n",
      "Column: 25, Selected False\n",
      "Column: 26, Selected True\n",
      "Column: 27, Selected False\n",
      "Column: 28, Selected False\n",
      "Column: 29, Selected True\n",
      "Column: 30, Selected True\n",
      "Column: 31, Selected False\n",
      "Column: 32, Selected False\n",
      "Column: 33, Selected False\n",
      "Column: 34, Selected True\n",
      "Column: 35, Selected True\n",
      "Column: 36, Selected True\n",
      "Column: 37, Selected False\n",
      "Column: 38, Selected False\n",
      "Column: 39, Selected False\n",
      "Column: 40, Selected False\n",
      "Column: 41, Selected False\n",
      "Column: 42, Selected False\n",
      "Column: 43, Selected False\n",
      "Column: 44, Selected False\n",
      "Column: 45, Selected True\n",
      "Column: 46, Selected True\n",
      "Column: 47, Selected True\n",
      "Column: 48, Selected True\n",
      "Column: 49, Selected True\n",
      "Column: 50, Selected False\n",
      "Column: 51, Selected False\n",
      "Column: 52, Selected True\n",
      "Column: 53, Selected False\n",
      "Column: 54, Selected False\n",
      "Column: 55, Selected True\n",
      "Column: 56, Selected False\n",
      "Column: 57, Selected False\n",
      "Column: 58, Selected False\n",
      "Column: 59, Selected False\n",
      "Column: 60, Selected True\n",
      "Column: 61, Selected False\n",
      "Column: 62, Selected False\n",
      "Column: 63, Selected False\n",
      "Column: 64, Selected False\n",
      "Column: 65, Selected False\n",
      "Column: 66, Selected False\n",
      "Column: 67, Selected False\n",
      "Column: 68, Selected False\n",
      "Column: 69, Selected True\n",
      "Column: 70, Selected False\n",
      "Column: 71, Selected False\n",
      "Column: 72, Selected False\n",
      "Column: 73, Selected True\n",
      "Column: 74, Selected True\n",
      "Column: 75, Selected True\n",
      "Column: 76, Selected True\n",
      "Column: 77, Selected True\n",
      "Column: 78, Selected False\n",
      "Column: 79, Selected False\n",
      "Column: 80, Selected False\n",
      "Column: 81, Selected True\n",
      "Column: 82, Selected False\n",
      "Column: 83, Selected False\n",
      "Column: 84, Selected False\n",
      "Column: 85, Selected False\n",
      "Column: 86, Selected False\n",
      "Column: 87, Selected True\n",
      "Column: 88, Selected False\n",
      "Column: 89, Selected False\n",
      "Column: 90, Selected True\n",
      "Column: 91, Selected False\n",
      "Column: 92, Selected False\n",
      "Column: 93, Selected False\n"
     ]
    }
   ],
   "source": [
    "import pandas as pd\n",
    "from sklearn.feature_selection import SelectFromModel\n",
    "\n",
    "rank_delete_list = []\n",
    "\n",
    "# define dataset\n",
    "#X, y = make_classification(n_samples=1000, n_features=10, n_informative=5, n_redundant=5, random_state=1)\n",
    "# define RFE\n",
    "sel = SelectFromModel(RandomForestClassifier(max_depth=4, min_samples_leaf=4, min_samples_split=3,\n",
    "                       n_estimators=625))\n",
    "# fit RFE\n",
    "sel.fit(X_train, y_train)\n",
    "# summarize all features\n",
    "sel.get_support()\n",
    "\n",
    "# summarize all features\n",
    "for i in range(X_train.shape[1]):\n",
    "    print('Column: %d, Selected %s' % (i, sel.get_support()[i]))\n",
    "    if sel.get_support()[i] == False:\n",
    "        rank_delete_list.append(i)"
   ]
  },
  {
   "cell_type": "code",
   "execution_count": 45,
   "metadata": {
    "ExecuteTime": {
     "end_time": "2020-12-25T22:13:48.912105Z",
     "start_time": "2020-12-25T22:13:48.897763Z"
    }
   },
   "outputs": [],
   "source": [
    "predictors = np.delete(predictors, rank_delete_list, 1)"
   ]
  },
  {
   "cell_type": "code",
   "execution_count": 46,
   "metadata": {
    "ExecuteTime": {
     "end_time": "2020-12-25T22:13:48.926948Z",
     "start_time": "2020-12-25T22:13:48.913980Z"
    }
   },
   "outputs": [
    {
     "data": {
      "text/plain": [
       "(3449, 34)"
      ]
     },
     "execution_count": 46,
     "metadata": {},
     "output_type": "execute_result"
    }
   ],
   "source": [
    "predictors.shape"
   ]
  },
  {
   "cell_type": "markdown",
   "metadata": {},
   "source": [
    "# Visualize pred vs reality"
   ]
  },
  {
   "cell_type": "code",
   "execution_count": 47,
   "metadata": {
    "ExecuteTime": {
     "end_time": "2020-12-25T22:14:15.017601Z",
     "start_time": "2020-12-25T22:14:15.006631Z"
    }
   },
   "outputs": [],
   "source": [
    "# Split Data into Training and Testing\n",
    "X_train, X_test, y_train, y_test = train_test_split(\n",
    "    predictors, target, test_size=0.3, stratify=target)\n",
    "\n",
    "# Amount of Columns\n",
    "n_nodes = predictors.shape[1]\n",
    "\n",
    "# Instantiation of MinMaxScaler\n",
    "norm_scaler = MinMaxScaler()\n",
    "\n",
    "# Training and Application of Feature Scaler on Training Data of Predictors\n",
    "X_train_scaled = pd.DataFrame(norm_scaler.fit_transform(X_train))\n",
    "\n",
    "# Application of Feature Scaler on Test Data of Predictors\n",
    "X_test_scaled = norm_scaler.transform(X_test)\n",
    "\n",
    "# Instantiate Classifier Logistic Regression\n",
    "rfc = RandomForestClassifier(n_estimators=100, max_leaf_nodes=None, criterion='gini', max_depth=3)"
   ]
  },
  {
   "cell_type": "markdown",
   "metadata": {},
   "source": [
    "# Hyperparam tuning ranfo"
   ]
  },
  {
   "cell_type": "markdown",
   "metadata": {},
   "source": [
    "from sklearn.model_selection import RandomizedSearchCV\n",
    "# Number of trees in random forest\n",
    "n_estimators = [int(x) for x in np.linspace(start = 200, stop = 2000, num = 10)]\n",
    "# Number of features to consider at every split\n",
    "max_features = ['auto', 'sqrt']\n",
    "# Maximum number of levels in tree\n",
    "max_depth = [int(x) for x in np.linspace(10, 110, num = 11)]\n",
    "max_depth.append(None)\n",
    "# Minimum number of samples required to split a node\n",
    "min_samples_split = [2, 5, 10]\n",
    "# Minimum number of samples required at each leaf node\n",
    "min_samples_leaf = [1, 2, 4]\n",
    "# Method of selecting samples for training each tree\n",
    "bootstrap = [True, False]\n",
    "# Create the random grid\n",
    "random_grid = {'n_estimators': n_estimators,\n",
    "               'max_features': max_features,\n",
    "               'max_depth': max_depth,\n",
    "               'min_samples_split': min_samples_split,\n",
    "               'min_samples_leaf': min_samples_leaf,\n",
    "               'bootstrap': bootstrap}\n",
    "print(random_grid)"
   ]
  },
  {
   "cell_type": "markdown",
   "metadata": {
    "scrolled": true
   },
   "source": [
    "# Use the random grid to search for best hyperparameters\n",
    "# First create the base model to tune\n",
    "rf = RandomForestClassifier()\n",
    "# Random search of parameters, using 3 fold cross validation, \n",
    "# search across 100 different combinations, and use all available cores\n",
    "rf_random = RandomizedSearchCV(estimator = rf, param_distributions = random_grid, n_iter = 100, cv = 3, verbose=2, random_state=42, n_jobs = -1)\n",
    "# Fit the random search model\n",
    "rf_random.fit(X_train, y_train)"
   ]
  },
  {
   "cell_type": "code",
   "execution_count": 48,
   "metadata": {
    "ExecuteTime": {
     "end_time": "2020-12-25T22:14:24.693325Z",
     "start_time": "2020-12-25T22:14:24.679328Z"
    }
   },
   "outputs": [],
   "source": [
    "train_features = X_train\n",
    "\n",
    "train_labels = y_train\n",
    "\n",
    "test_features = X_test\n",
    "test_labels = y_test"
   ]
  },
  {
   "cell_type": "code",
   "execution_count": 49,
   "metadata": {
    "ExecuteTime": {
     "end_time": "2020-12-25T22:14:25.753645Z",
     "start_time": "2020-12-25T22:14:25.735080Z"
    }
   },
   "outputs": [
    {
     "data": {
      "text/plain": [
       "array([1., 0., 0., ..., 1., 1., 1.], dtype=float32)"
      ]
     },
     "execution_count": 49,
     "metadata": {},
     "output_type": "execute_result"
    }
   ],
   "source": [
    "test_labels.values"
   ]
  },
  {
   "cell_type": "markdown",
   "metadata": {},
   "source": [
    "# Evaluate Random Search"
   ]
  },
  {
   "cell_type": "code",
   "execution_count": 50,
   "metadata": {
    "ExecuteTime": {
     "end_time": "2020-12-25T22:14:29.919439Z",
     "start_time": "2020-12-25T22:14:29.805712Z"
    }
   },
   "outputs": [
    {
     "name": "stdout",
     "output_type": "stream",
     "text": [
      "Model Performance\n",
      "Amount Errors total 482.0 of 1035 \n",
      "Accuracy = 53.43%.\n"
     ]
    }
   ],
   "source": [
    "from numpy import inf\n",
    "\n",
    "def evaluate(model, test_features, test_labels):\n",
    "    predictions = model.predict(test_features)\n",
    "    #print(\"predictions {} _test_labels {} \".format(predictions, test_labels))\n",
    "    errors = int( np.sum((predictions==test_labels) == False) )\n",
    "    alle = len(test_labels.values)\n",
    "    x = errors / alle\n",
    "    mape = 100 * errors / alle\n",
    "    accuracy = 100 - mape\n",
    "    print('Model Performance')\n",
    "    print('Amount Errors total {} of {} '.format(np.mean(errors), alle))\n",
    "    print('Accuracy = {:0.2f}%.'.format(accuracy))\n",
    "    return accuracy\n",
    "    \n",
    "base_model = RandomForestClassifier(n_estimators = 10)\n",
    "base_model.fit(train_features, train_labels)\n",
    "base_accuracy = evaluate(base_model, test_features, test_labels)"
   ]
  },
  {
   "cell_type": "code",
   "execution_count": null,
   "metadata": {},
   "outputs": [],
   "source": [
    "best_random = rf_random.best_estimator_\n",
    "best_random.get_params()"
   ]
  },
  {
   "cell_type": "code",
   "execution_count": null,
   "metadata": {},
   "outputs": [],
   "source": [
    "best_random"
   ]
  },
  {
   "cell_type": "code",
   "execution_count": null,
   "metadata": {},
   "outputs": [],
   "source": [
    "random_accuracy = evaluate(best_random, test_features, test_labels)"
   ]
  },
  {
   "cell_type": "code",
   "execution_count": null,
   "metadata": {},
   "outputs": [],
   "source": [
    "print('Improvement of {:0.2f}%.'.format( 100 * (random_accuracy - base_accuracy) / base_accuracy))"
   ]
  },
  {
   "cell_type": "markdown",
   "metadata": {},
   "source": [
    "# Grid Search with Cross Validation"
   ]
  },
  {
   "cell_type": "code",
   "execution_count": 56,
   "metadata": {
    "ExecuteTime": {
     "end_time": "2020-12-25T22:15:46.114893Z",
     "start_time": "2020-12-25T22:15:46.109908Z"
    }
   },
   "outputs": [],
   "source": [
    "from sklearn.model_selection import GridSearchCV\n",
    "\n",
    "# Create the parameter grid based on the results of random search \n",
    "param_grid = {\n",
    "    'bootstrap': [True],\n",
    "    'max_depth': [5, 10, 15, 20],\n",
    "    'min_samples_leaf': [3, 4, 5],\n",
    "    'min_samples_split': [1, 2, 3],\n",
    "    'n_estimators': [100, 200, 400, 600, 800]\n",
    "}\n",
    "# Create a based model\n",
    "rf = RandomForestClassifier()\n",
    "# Instantiate the grid search model\n",
    "grid_search = GridSearchCV(estimator = rf, param_grid = param_grid, \n",
    "                          cv = 3, n_jobs = -1, verbose = 2)"
   ]
  },
  {
   "cell_type": "code",
   "execution_count": 57,
   "metadata": {
    "ExecuteTime": {
     "end_time": "2020-12-25T22:17:38.989733Z",
     "start_time": "2020-12-25T22:15:47.021803Z"
    }
   },
   "outputs": [
    {
     "name": "stdout",
     "output_type": "stream",
     "text": [
      "Fitting 3 folds for each of 180 candidates, totalling 540 fits\n"
     ]
    },
    {
     "name": "stderr",
     "output_type": "stream",
     "text": [
      "[Parallel(n_jobs=-1)]: Using backend LokyBackend with 8 concurrent workers.\n",
      "[Parallel(n_jobs=-1)]: Done  25 tasks      | elapsed:   11.3s\n",
      "[Parallel(n_jobs=-1)]: Done 146 tasks      | elapsed:   54.8s\n"
     ]
    },
    {
     "ename": "KeyboardInterrupt",
     "evalue": "",
     "output_type": "error",
     "traceback": [
      "\u001b[1;31m---------------------------------------------------------------------------\u001b[0m",
      "\u001b[1;31mKeyboardInterrupt\u001b[0m                         Traceback (most recent call last)",
      "\u001b[1;32m<ipython-input-57-e6a80b3cb893>\u001b[0m in \u001b[0;36m<module>\u001b[1;34m\u001b[0m\n\u001b[0;32m      1\u001b[0m \u001b[1;31m# Fit the grid search to the data\u001b[0m\u001b[1;33m\u001b[0m\u001b[1;33m\u001b[0m\u001b[1;33m\u001b[0m\u001b[0m\n\u001b[1;32m----> 2\u001b[1;33m \u001b[0mgrid_search\u001b[0m\u001b[1;33m.\u001b[0m\u001b[0mfit\u001b[0m\u001b[1;33m(\u001b[0m\u001b[0mtrain_features\u001b[0m\u001b[1;33m,\u001b[0m \u001b[0mtrain_labels\u001b[0m\u001b[1;33m)\u001b[0m\u001b[1;33m\u001b[0m\u001b[1;33m\u001b[0m\u001b[0m\n\u001b[0m\u001b[0;32m      3\u001b[0m \u001b[0mgrid_search\u001b[0m\u001b[1;33m.\u001b[0m\u001b[0mbest_params_\u001b[0m\u001b[1;33m\u001b[0m\u001b[1;33m\u001b[0m\u001b[0m\n",
      "\u001b[1;32m~\\Anaconda3\\envs\\btcpred\\lib\\site-packages\\sklearn\\utils\\validation.py\u001b[0m in \u001b[0;36minner_f\u001b[1;34m(*args, **kwargs)\u001b[0m\n\u001b[0;32m     70\u001b[0m                           FutureWarning)\n\u001b[0;32m     71\u001b[0m         \u001b[0mkwargs\u001b[0m\u001b[1;33m.\u001b[0m\u001b[0mupdate\u001b[0m\u001b[1;33m(\u001b[0m\u001b[1;33m{\u001b[0m\u001b[0mk\u001b[0m\u001b[1;33m:\u001b[0m \u001b[0marg\u001b[0m \u001b[1;32mfor\u001b[0m \u001b[0mk\u001b[0m\u001b[1;33m,\u001b[0m \u001b[0marg\u001b[0m \u001b[1;32min\u001b[0m \u001b[0mzip\u001b[0m\u001b[1;33m(\u001b[0m\u001b[0msig\u001b[0m\u001b[1;33m.\u001b[0m\u001b[0mparameters\u001b[0m\u001b[1;33m,\u001b[0m \u001b[0margs\u001b[0m\u001b[1;33m)\u001b[0m\u001b[1;33m}\u001b[0m\u001b[1;33m)\u001b[0m\u001b[1;33m\u001b[0m\u001b[1;33m\u001b[0m\u001b[0m\n\u001b[1;32m---> 72\u001b[1;33m         \u001b[1;32mreturn\u001b[0m \u001b[0mf\u001b[0m\u001b[1;33m(\u001b[0m\u001b[1;33m**\u001b[0m\u001b[0mkwargs\u001b[0m\u001b[1;33m)\u001b[0m\u001b[1;33m\u001b[0m\u001b[1;33m\u001b[0m\u001b[0m\n\u001b[0m\u001b[0;32m     73\u001b[0m     \u001b[1;32mreturn\u001b[0m \u001b[0minner_f\u001b[0m\u001b[1;33m\u001b[0m\u001b[1;33m\u001b[0m\u001b[0m\n\u001b[0;32m     74\u001b[0m \u001b[1;33m\u001b[0m\u001b[0m\n",
      "\u001b[1;32m~\\Anaconda3\\envs\\btcpred\\lib\\site-packages\\sklearn\\model_selection\\_search.py\u001b[0m in \u001b[0;36mfit\u001b[1;34m(self, X, y, groups, **fit_params)\u001b[0m\n\u001b[0;32m    734\u001b[0m                 \u001b[1;32mreturn\u001b[0m \u001b[0mresults\u001b[0m\u001b[1;33m\u001b[0m\u001b[1;33m\u001b[0m\u001b[0m\n\u001b[0;32m    735\u001b[0m \u001b[1;33m\u001b[0m\u001b[0m\n\u001b[1;32m--> 736\u001b[1;33m             \u001b[0mself\u001b[0m\u001b[1;33m.\u001b[0m\u001b[0m_run_search\u001b[0m\u001b[1;33m(\u001b[0m\u001b[0mevaluate_candidates\u001b[0m\u001b[1;33m)\u001b[0m\u001b[1;33m\u001b[0m\u001b[1;33m\u001b[0m\u001b[0m\n\u001b[0m\u001b[0;32m    737\u001b[0m \u001b[1;33m\u001b[0m\u001b[0m\n\u001b[0;32m    738\u001b[0m         \u001b[1;31m# For multi-metric evaluation, store the best_index_, best_params_ and\u001b[0m\u001b[1;33m\u001b[0m\u001b[1;33m\u001b[0m\u001b[1;33m\u001b[0m\u001b[0m\n",
      "\u001b[1;32m~\\Anaconda3\\envs\\btcpred\\lib\\site-packages\\sklearn\\model_selection\\_search.py\u001b[0m in \u001b[0;36m_run_search\u001b[1;34m(self, evaluate_candidates)\u001b[0m\n\u001b[0;32m   1186\u001b[0m     \u001b[1;32mdef\u001b[0m \u001b[0m_run_search\u001b[0m\u001b[1;33m(\u001b[0m\u001b[0mself\u001b[0m\u001b[1;33m,\u001b[0m \u001b[0mevaluate_candidates\u001b[0m\u001b[1;33m)\u001b[0m\u001b[1;33m:\u001b[0m\u001b[1;33m\u001b[0m\u001b[1;33m\u001b[0m\u001b[0m\n\u001b[0;32m   1187\u001b[0m         \u001b[1;34m\"\"\"Search all candidates in param_grid\"\"\"\u001b[0m\u001b[1;33m\u001b[0m\u001b[1;33m\u001b[0m\u001b[0m\n\u001b[1;32m-> 1188\u001b[1;33m         \u001b[0mevaluate_candidates\u001b[0m\u001b[1;33m(\u001b[0m\u001b[0mParameterGrid\u001b[0m\u001b[1;33m(\u001b[0m\u001b[0mself\u001b[0m\u001b[1;33m.\u001b[0m\u001b[0mparam_grid\u001b[0m\u001b[1;33m)\u001b[0m\u001b[1;33m)\u001b[0m\u001b[1;33m\u001b[0m\u001b[1;33m\u001b[0m\u001b[0m\n\u001b[0m\u001b[0;32m   1189\u001b[0m \u001b[1;33m\u001b[0m\u001b[0m\n\u001b[0;32m   1190\u001b[0m \u001b[1;33m\u001b[0m\u001b[0m\n",
      "\u001b[1;32m~\\Anaconda3\\envs\\btcpred\\lib\\site-packages\\sklearn\\model_selection\\_search.py\u001b[0m in \u001b[0;36mevaluate_candidates\u001b[1;34m(candidate_params)\u001b[0m\n\u001b[0;32m    706\u001b[0m                               n_splits, n_candidates, n_candidates * n_splits))\n\u001b[0;32m    707\u001b[0m \u001b[1;33m\u001b[0m\u001b[0m\n\u001b[1;32m--> 708\u001b[1;33m                 out = parallel(delayed(_fit_and_score)(clone(base_estimator),\n\u001b[0m\u001b[0;32m    709\u001b[0m                                                        \u001b[0mX\u001b[0m\u001b[1;33m,\u001b[0m \u001b[0my\u001b[0m\u001b[1;33m,\u001b[0m\u001b[1;33m\u001b[0m\u001b[1;33m\u001b[0m\u001b[0m\n\u001b[0;32m    710\u001b[0m                                                        \u001b[0mtrain\u001b[0m\u001b[1;33m=\u001b[0m\u001b[0mtrain\u001b[0m\u001b[1;33m,\u001b[0m \u001b[0mtest\u001b[0m\u001b[1;33m=\u001b[0m\u001b[0mtest\u001b[0m\u001b[1;33m,\u001b[0m\u001b[1;33m\u001b[0m\u001b[1;33m\u001b[0m\u001b[0m\n",
      "\u001b[1;32m~\\Anaconda3\\envs\\btcpred\\lib\\site-packages\\joblib\\parallel.py\u001b[0m in \u001b[0;36m__call__\u001b[1;34m(self, iterable)\u001b[0m\n\u001b[0;32m   1040\u001b[0m \u001b[1;33m\u001b[0m\u001b[0m\n\u001b[0;32m   1041\u001b[0m             \u001b[1;32mwith\u001b[0m \u001b[0mself\u001b[0m\u001b[1;33m.\u001b[0m\u001b[0m_backend\u001b[0m\u001b[1;33m.\u001b[0m\u001b[0mretrieval_context\u001b[0m\u001b[1;33m(\u001b[0m\u001b[1;33m)\u001b[0m\u001b[1;33m:\u001b[0m\u001b[1;33m\u001b[0m\u001b[1;33m\u001b[0m\u001b[0m\n\u001b[1;32m-> 1042\u001b[1;33m                 \u001b[0mself\u001b[0m\u001b[1;33m.\u001b[0m\u001b[0mretrieve\u001b[0m\u001b[1;33m(\u001b[0m\u001b[1;33m)\u001b[0m\u001b[1;33m\u001b[0m\u001b[1;33m\u001b[0m\u001b[0m\n\u001b[0m\u001b[0;32m   1043\u001b[0m             \u001b[1;31m# Make sure that we get a last message telling us we are done\u001b[0m\u001b[1;33m\u001b[0m\u001b[1;33m\u001b[0m\u001b[1;33m\u001b[0m\u001b[0m\n\u001b[0;32m   1044\u001b[0m             \u001b[0melapsed_time\u001b[0m \u001b[1;33m=\u001b[0m \u001b[0mtime\u001b[0m\u001b[1;33m.\u001b[0m\u001b[0mtime\u001b[0m\u001b[1;33m(\u001b[0m\u001b[1;33m)\u001b[0m \u001b[1;33m-\u001b[0m \u001b[0mself\u001b[0m\u001b[1;33m.\u001b[0m\u001b[0m_start_time\u001b[0m\u001b[1;33m\u001b[0m\u001b[1;33m\u001b[0m\u001b[0m\n",
      "\u001b[1;32m~\\Anaconda3\\envs\\btcpred\\lib\\site-packages\\joblib\\parallel.py\u001b[0m in \u001b[0;36mretrieve\u001b[1;34m(self)\u001b[0m\n\u001b[0;32m    919\u001b[0m             \u001b[1;32mtry\u001b[0m\u001b[1;33m:\u001b[0m\u001b[1;33m\u001b[0m\u001b[1;33m\u001b[0m\u001b[0m\n\u001b[0;32m    920\u001b[0m                 \u001b[1;32mif\u001b[0m \u001b[0mgetattr\u001b[0m\u001b[1;33m(\u001b[0m\u001b[0mself\u001b[0m\u001b[1;33m.\u001b[0m\u001b[0m_backend\u001b[0m\u001b[1;33m,\u001b[0m \u001b[1;34m'supports_timeout'\u001b[0m\u001b[1;33m,\u001b[0m \u001b[1;32mFalse\u001b[0m\u001b[1;33m)\u001b[0m\u001b[1;33m:\u001b[0m\u001b[1;33m\u001b[0m\u001b[1;33m\u001b[0m\u001b[0m\n\u001b[1;32m--> 921\u001b[1;33m                     \u001b[0mself\u001b[0m\u001b[1;33m.\u001b[0m\u001b[0m_output\u001b[0m\u001b[1;33m.\u001b[0m\u001b[0mextend\u001b[0m\u001b[1;33m(\u001b[0m\u001b[0mjob\u001b[0m\u001b[1;33m.\u001b[0m\u001b[0mget\u001b[0m\u001b[1;33m(\u001b[0m\u001b[0mtimeout\u001b[0m\u001b[1;33m=\u001b[0m\u001b[0mself\u001b[0m\u001b[1;33m.\u001b[0m\u001b[0mtimeout\u001b[0m\u001b[1;33m)\u001b[0m\u001b[1;33m)\u001b[0m\u001b[1;33m\u001b[0m\u001b[1;33m\u001b[0m\u001b[0m\n\u001b[0m\u001b[0;32m    922\u001b[0m                 \u001b[1;32melse\u001b[0m\u001b[1;33m:\u001b[0m\u001b[1;33m\u001b[0m\u001b[1;33m\u001b[0m\u001b[0m\n\u001b[0;32m    923\u001b[0m                     \u001b[0mself\u001b[0m\u001b[1;33m.\u001b[0m\u001b[0m_output\u001b[0m\u001b[1;33m.\u001b[0m\u001b[0mextend\u001b[0m\u001b[1;33m(\u001b[0m\u001b[0mjob\u001b[0m\u001b[1;33m.\u001b[0m\u001b[0mget\u001b[0m\u001b[1;33m(\u001b[0m\u001b[1;33m)\u001b[0m\u001b[1;33m)\u001b[0m\u001b[1;33m\u001b[0m\u001b[1;33m\u001b[0m\u001b[0m\n",
      "\u001b[1;32m~\\Anaconda3\\envs\\btcpred\\lib\\site-packages\\joblib\\_parallel_backends.py\u001b[0m in \u001b[0;36mwrap_future_result\u001b[1;34m(future, timeout)\u001b[0m\n\u001b[0;32m    540\u001b[0m         AsyncResults.get from multiprocessing.\"\"\"\n\u001b[0;32m    541\u001b[0m         \u001b[1;32mtry\u001b[0m\u001b[1;33m:\u001b[0m\u001b[1;33m\u001b[0m\u001b[1;33m\u001b[0m\u001b[0m\n\u001b[1;32m--> 542\u001b[1;33m             \u001b[1;32mreturn\u001b[0m \u001b[0mfuture\u001b[0m\u001b[1;33m.\u001b[0m\u001b[0mresult\u001b[0m\u001b[1;33m(\u001b[0m\u001b[0mtimeout\u001b[0m\u001b[1;33m=\u001b[0m\u001b[0mtimeout\u001b[0m\u001b[1;33m)\u001b[0m\u001b[1;33m\u001b[0m\u001b[1;33m\u001b[0m\u001b[0m\n\u001b[0m\u001b[0;32m    543\u001b[0m         \u001b[1;32mexcept\u001b[0m \u001b[0mCfTimeoutError\u001b[0m \u001b[1;32mas\u001b[0m \u001b[0me\u001b[0m\u001b[1;33m:\u001b[0m\u001b[1;33m\u001b[0m\u001b[1;33m\u001b[0m\u001b[0m\n\u001b[0;32m    544\u001b[0m             \u001b[1;32mraise\u001b[0m \u001b[0mTimeoutError\u001b[0m \u001b[1;32mfrom\u001b[0m \u001b[0me\u001b[0m\u001b[1;33m\u001b[0m\u001b[1;33m\u001b[0m\u001b[0m\n",
      "\u001b[1;32m~\\Anaconda3\\envs\\btcpred\\lib\\concurrent\\futures\\_base.py\u001b[0m in \u001b[0;36mresult\u001b[1;34m(self, timeout)\u001b[0m\n\u001b[0;32m    432\u001b[0m                 \u001b[1;32mreturn\u001b[0m \u001b[0mself\u001b[0m\u001b[1;33m.\u001b[0m\u001b[0m__get_result\u001b[0m\u001b[1;33m(\u001b[0m\u001b[1;33m)\u001b[0m\u001b[1;33m\u001b[0m\u001b[1;33m\u001b[0m\u001b[0m\n\u001b[0;32m    433\u001b[0m \u001b[1;33m\u001b[0m\u001b[0m\n\u001b[1;32m--> 434\u001b[1;33m             \u001b[0mself\u001b[0m\u001b[1;33m.\u001b[0m\u001b[0m_condition\u001b[0m\u001b[1;33m.\u001b[0m\u001b[0mwait\u001b[0m\u001b[1;33m(\u001b[0m\u001b[0mtimeout\u001b[0m\u001b[1;33m)\u001b[0m\u001b[1;33m\u001b[0m\u001b[1;33m\u001b[0m\u001b[0m\n\u001b[0m\u001b[0;32m    435\u001b[0m \u001b[1;33m\u001b[0m\u001b[0m\n\u001b[0;32m    436\u001b[0m             \u001b[1;32mif\u001b[0m \u001b[0mself\u001b[0m\u001b[1;33m.\u001b[0m\u001b[0m_state\u001b[0m \u001b[1;32min\u001b[0m \u001b[1;33m[\u001b[0m\u001b[0mCANCELLED\u001b[0m\u001b[1;33m,\u001b[0m \u001b[0mCANCELLED_AND_NOTIFIED\u001b[0m\u001b[1;33m]\u001b[0m\u001b[1;33m:\u001b[0m\u001b[1;33m\u001b[0m\u001b[1;33m\u001b[0m\u001b[0m\n",
      "\u001b[1;32m~\\Anaconda3\\envs\\btcpred\\lib\\threading.py\u001b[0m in \u001b[0;36mwait\u001b[1;34m(self, timeout)\u001b[0m\n\u001b[0;32m    300\u001b[0m         \u001b[1;32mtry\u001b[0m\u001b[1;33m:\u001b[0m    \u001b[1;31m# restore state no matter what (e.g., KeyboardInterrupt)\u001b[0m\u001b[1;33m\u001b[0m\u001b[1;33m\u001b[0m\u001b[0m\n\u001b[0;32m    301\u001b[0m             \u001b[1;32mif\u001b[0m \u001b[0mtimeout\u001b[0m \u001b[1;32mis\u001b[0m \u001b[1;32mNone\u001b[0m\u001b[1;33m:\u001b[0m\u001b[1;33m\u001b[0m\u001b[1;33m\u001b[0m\u001b[0m\n\u001b[1;32m--> 302\u001b[1;33m                 \u001b[0mwaiter\u001b[0m\u001b[1;33m.\u001b[0m\u001b[0macquire\u001b[0m\u001b[1;33m(\u001b[0m\u001b[1;33m)\u001b[0m\u001b[1;33m\u001b[0m\u001b[1;33m\u001b[0m\u001b[0m\n\u001b[0m\u001b[0;32m    303\u001b[0m                 \u001b[0mgotit\u001b[0m \u001b[1;33m=\u001b[0m \u001b[1;32mTrue\u001b[0m\u001b[1;33m\u001b[0m\u001b[1;33m\u001b[0m\u001b[0m\n\u001b[0;32m    304\u001b[0m             \u001b[1;32melse\u001b[0m\u001b[1;33m:\u001b[0m\u001b[1;33m\u001b[0m\u001b[1;33m\u001b[0m\u001b[0m\n",
      "\u001b[1;31mKeyboardInterrupt\u001b[0m: "
     ]
    }
   ],
   "source": [
    "# Fit the grid search to the data\n",
    "grid_search.fit(train_features, train_labels)\n",
    "grid_search.best_params_"
   ]
  },
  {
   "cell_type": "code",
   "execution_count": null,
   "metadata": {},
   "outputs": [],
   "source": [
    "best_grid = grid_search.best_estimator_\n",
    "grid_accuracy = evaluate(best_grid, test_features, test_labels)"
   ]
  },
  {
   "cell_type": "code",
   "execution_count": null,
   "metadata": {},
   "outputs": [],
   "source": [
    "print('Improvement of {:0.2f}%.'.format( 100 * (grid_accuracy - base_accuracy) / base_accuracy))"
   ]
  },
  {
   "cell_type": "code",
   "execution_count": null,
   "metadata": {},
   "outputs": [],
   "source": [
    "base_accuracy"
   ]
  },
  {
   "cell_type": "code",
   "execution_count": null,
   "metadata": {},
   "outputs": [],
   "source": [
    "random_accuracy"
   ]
  },
  {
   "cell_type": "code",
   "execution_count": null,
   "metadata": {},
   "outputs": [],
   "source": [
    "grid_accuracy"
   ]
  },
  {
   "cell_type": "code",
   "execution_count": null,
   "metadata": {},
   "outputs": [],
   "source": [
    "best_grid"
   ]
  },
  {
   "cell_type": "markdown",
   "metadata": {},
   "source": [
    "# second grid "
   ]
  },
  {
   "cell_type": "code",
   "execution_count": null,
   "metadata": {},
   "outputs": [],
   "source": [
    "from sklearn.model_selection import GridSearchCV\n",
    "# Create the parameter grid based on the results of random search \n",
    "param_grid = {\n",
    "    'bootstrap': [True],\n",
    "    'max_depth': [3,4,5,6,7],\n",
    "    'min_samples_leaf': [3, 4, 5],\n",
    "    'min_samples_split': [2, 3, 4],\n",
    "    'n_estimators': [500, 550, 600, 650, 700]\n",
    "}\n",
    "# Create a based model\n",
    "rf = RandomForestClassifier()\n",
    "# Instantiate the grid search model\n",
    "grid_search = GridSearchCV(estimator = rf, param_grid = param_grid, \n",
    "                          cv = 3, n_jobs = -1, verbose = 2)"
   ]
  },
  {
   "cell_type": "code",
   "execution_count": null,
   "metadata": {},
   "outputs": [],
   "source": [
    "# Fit the grid search to the data\n",
    "grid_search.fit(train_features, train_labels)\n",
    "grid_search.best_params_"
   ]
  },
  {
   "cell_type": "code",
   "execution_count": null,
   "metadata": {},
   "outputs": [],
   "source": [
    "best_grid = grid_search.best_estimator_\n",
    "grid_accuracy = evaluate(best_grid, test_features, test_labels)"
   ]
  },
  {
   "cell_type": "code",
   "execution_count": null,
   "metadata": {},
   "outputs": [],
   "source": [
    "print('Improvement of {:0.2f}%.'.format( 100 * (grid_accuracy - base_accuracy) / base_accuracy))"
   ]
  },
  {
   "cell_type": "code",
   "execution_count": null,
   "metadata": {},
   "outputs": [],
   "source": [
    "best_grid"
   ]
  },
  {
   "cell_type": "markdown",
   "metadata": {},
   "source": [
    "# third grid "
   ]
  },
  {
   "cell_type": "code",
   "execution_count": null,
   "metadata": {},
   "outputs": [],
   "source": [
    "from sklearn.model_selection import GridSearchCV\n",
    "# Create the parameter grid based on the results of random search \n",
    "param_grid = {\n",
    "    'bootstrap': [True],\n",
    "    'max_depth': [5,6,7],\n",
    "    'min_samples_leaf': [1,2,3,4],\n",
    "    'min_samples_split': [2, 3, 4],\n",
    "    'n_estimators': [550, 575, 600, 625, 650]\n",
    "}\n",
    "# Create a based model\n",
    "rf = RandomForestClassifier()\n",
    "# Instantiate the grid search model\n",
    "grid_search = GridSearchCV(estimator = rf, param_grid = param_grid, \n",
    "                          cv = 3, n_jobs = -1, verbose = 2)"
   ]
  },
  {
   "cell_type": "code",
   "execution_count": null,
   "metadata": {
    "scrolled": true
   },
   "outputs": [],
   "source": [
    "# Fit the grid search to the data\n",
    "grid_search.fit(train_features, train_labels)\n",
    "grid_search.best_params_"
   ]
  },
  {
   "cell_type": "code",
   "execution_count": null,
   "metadata": {},
   "outputs": [],
   "source": [
    "best_grid = grid_search.best_estimator_\n",
    "grid_accuracy = evaluate(best_grid, test_features, test_labels)"
   ]
  },
  {
   "cell_type": "code",
   "execution_count": null,
   "metadata": {},
   "outputs": [],
   "source": [
    "print('Improvement of {:0.2f}%.'.format( 100 * (grid_accuracy - base_accuracy) / base_accuracy))"
   ]
  },
  {
   "cell_type": "code",
   "execution_count": null,
   "metadata": {},
   "outputs": [],
   "source": [
    "best_grid"
   ]
  },
  {
   "cell_type": "code",
   "execution_count": null,
   "metadata": {},
   "outputs": [],
   "source": []
  },
  {
   "cell_type": "markdown",
   "metadata": {},
   "source": [
    "# forth grid "
   ]
  },
  {
   "cell_type": "markdown",
   "metadata": {},
   "source": [
    "from sklearn.model_selection import GridSearchCV\n",
    "# Create the parameter grid based on the results of random search \n",
    "param_grid = {\n",
    "    'bootstrap': [True],\n",
    "    'max_depth': [3,4,5,6,7],\n",
    "    'min_samples_leaf': [1,2,3,4,5,6],\n",
    "    'min_samples_split': [2, 3, 4],\n",
    "    'n_estimators': [600, 625, 650, 675, 700]\n",
    "}\n",
    "# Create a based model\n",
    "rf = RandomForestClassifier()\n",
    "# Instantiate the grid search model\n",
    "grid_search = GridSearchCV(estimator = rf, param_grid = param_grid, \n",
    "                          cv = 3, n_jobs = -1, verbose = 2)"
   ]
  },
  {
   "cell_type": "markdown",
   "metadata": {
    "scrolled": true
   },
   "source": [
    "# Fit the grid search to the data\n",
    "grid_search.fit(train_features, train_labels)\n",
    "grid_search.best_params_"
   ]
  },
  {
   "cell_type": "markdown",
   "metadata": {},
   "source": [
    "best_grid = grid_search.best_estimator_\n",
    "grid_accuracy = evaluate(best_grid, test_features, test_labels)"
   ]
  },
  {
   "cell_type": "markdown",
   "metadata": {},
   "source": [
    "print('Improvement of {:0.2f}%.'.format( 100 * (grid_accuracy - base_accuracy) / base_accuracy))"
   ]
  },
  {
   "cell_type": "markdown",
   "metadata": {},
   "source": [
    "best_grid"
   ]
  },
  {
   "cell_type": "markdown",
   "metadata": {},
   "source": [
    "# XGBoost start"
   ]
  },
  {
   "cell_type": "code",
   "execution_count": null,
   "metadata": {
    "ExecuteTime": {
     "end_time": "2020-12-25T22:17:38.993811Z",
     "start_time": "2020-12-25T22:15:59.956Z"
    }
   },
   "outputs": [],
   "source": [
    "from xgboost import XGBClassifier\n",
    "from sklearn.model_selection import RandomizedSearchCV\n",
    "\n",
    "# A parameter grid for XGBoost\n",
    "params = {\n",
    "        'min_child_weight': [1, 5, 10],\n",
    "        'gamma': [0.5, 1, 1.5, 2, 5],\n",
    "        'subsample': np.arange(0.0, 1.0, 0.1),\n",
    "        'colsample_bytree': np.arange(0.0, 1.0, 0.1),\n",
    "        'max_depth': [1, 3, 4, 5, 10]\n",
    "        }"
   ]
  },
  {
   "cell_type": "code",
   "execution_count": null,
   "metadata": {
    "ExecuteTime": {
     "end_time": "2020-12-25T22:17:38.995836Z",
     "start_time": "2020-12-25T22:16:01.056Z"
    }
   },
   "outputs": [],
   "source": [
    "xgb = XGBClassifier(learning_rate=0.001, n_estimators=600, objective='binary:logistic',\n",
    "                    silent=True, nthread=1)"
   ]
  },
  {
   "cell_type": "code",
   "execution_count": null,
   "metadata": {
    "ExecuteTime": {
     "end_time": "2020-12-25T22:17:38.996678Z",
     "start_time": "2020-12-25T22:16:02.224Z"
    },
    "scrolled": true
   },
   "outputs": [],
   "source": [
    "folds = 5\n",
    "param_comb = 10\n",
    "\n",
    "skf = StratifiedKFold(n_splits=folds, shuffle = True, random_state = 1001)\n",
    "\n",
    "random_search = RandomizedSearchCV(xgb, param_distributions=params, n_iter=param_comb, scoring='accuracy', n_jobs=4, cv=skf.split(predictors, target), verbose=3 )\n",
    "\n",
    "random_search.fit(predictors, target)"
   ]
  },
  {
   "cell_type": "code",
   "execution_count": null,
   "metadata": {
    "ExecuteTime": {
     "end_time": "2020-12-25T22:17:38.997680Z",
     "start_time": "2020-12-25T22:16:04.072Z"
    },
    "scrolled": true
   },
   "outputs": [],
   "source": [
    "print('\\n All results:')\n",
    "print(random_search.cv_results_)\n",
    "print('\\n Best estimator:')\n",
    "print(random_search.best_estimator_)\n",
    "print('\\n Best normalized gini score for %d-fold search with %d parameter combinations:' % (folds, param_comb))\n",
    "print(random_search.best_score_ * 2 - 1)\n",
    "print('\\n Best hyperparameters:')\n",
    "print(random_search.best_params_)\n",
    "results = pd.DataFrame(random_search.cv_results_)\n",
    "results.to_csv('xgb-random-grid-search-results-01.csv', index=False)"
   ]
  },
  {
   "cell_type": "code",
   "execution_count": null,
   "metadata": {},
   "outputs": [],
   "source": []
  },
  {
   "cell_type": "markdown",
   "metadata": {},
   "source": [
    "# random grid xgb - 16 feats\n",
    "base_score=0.5, booster='gbtree', colsample_bylevel=1,\n",
    "colsample_bynode=1, colsample_bytree=1.0, gamma=1, gpu_id=-1,\n",
    "importance_type='gain', interaction_constraints='',\n",
    "learning_rate=0.001, max_delta_step=0, max_depth=4,\n",
    "min_child_weight=10, missing=nan, monotone_constraints='()',\n",
    "n_estimators=600, n_jobs=1, nthread=1, num_parallel_tree=1,\n",
    "reg_alpha=0, reg_lambda=1, scale_pos_weight=1,\n",
    "silent=True, subsample=0.6, tree_method='exact',\n",
    "validate_parameters=1, verbosity=None"
   ]
  },
  {
   "cell_type": "markdown",
   "metadata": {},
   "source": [
    "# XGBoost 1"
   ]
  },
  {
   "cell_type": "code",
   "execution_count": 119,
   "metadata": {},
   "outputs": [],
   "source": [
    "from sklearn.model_selection import GridSearchCV\n",
    "\n",
    "from xgboost import XGBClassifier"
   ]
  },
  {
   "cell_type": "code",
   "execution_count": 120,
   "metadata": {},
   "outputs": [],
   "source": [
    "#XGBoost hyper-parameter tuning\n",
    "param_tuning = {\n",
    "    'learning_rate': [0.0001, 0.001, 0.01, 0.1],\n",
    "    'max_depth': [2, 3, 4, 5, 6 ],\n",
    "    'gamma': [0, 1, 2, 3, 4, 5],\n",
    "    'min_child_weight': [5, 7, 10, 15],\n",
    "    'subsample': [ 0.7, 1.0, 1.3],\n",
    "    'colsample_bytree': [0.7, 1.0, 1.3],\n",
    "    '' : [300, 500, 600, 800],\n",
    "    'base_score' : [0.2, 0.5, 0.8],\n",
    "    'objective': ['reg:squarederror']\n",
    "}\n",
    "\n",
    "xgb_model = XGBClassifier()\n",
    "\n",
    "gsearch = GridSearchCV(estimator = xgb_model,\n",
    "                       param_grid = param_tuning,                        \n",
    "                       #scoring = 'neg_mean_absolute_error', #MAE\n",
    "                       #scoring = 'neg_mean_squared_error',  #MSE\n",
    "                       cv = 5,\n",
    "                       n_jobs = -1,\n",
    "                       verbose = 1)"
   ]
  },
  {
   "cell_type": "code",
   "execution_count": 121,
   "metadata": {},
   "outputs": [
    {
     "name": "stdout",
     "output_type": "stream",
     "text": [
      "Fitting 5 folds for each of 69120 candidates, totalling 345600 fits\n"
     ]
    },
    {
     "name": "stderr",
     "output_type": "stream",
     "text": [
      "[Parallel(n_jobs=-1)]: Using backend LokyBackend with 8 concurrent workers.\n",
      "[Parallel(n_jobs=-1)]: Done  34 tasks      | elapsed:   18.6s\n",
      "[Parallel(n_jobs=-1)]: Done 184 tasks      | elapsed:  2.0min\n",
      "[Parallel(n_jobs=-1)]: Done 434 tasks      | elapsed:  5.9min\n",
      "[Parallel(n_jobs=-1)]: Done 784 tasks      | elapsed: 13.4min\n",
      "[Parallel(n_jobs=-1)]: Done 1234 tasks      | elapsed: 25.3min\n",
      "[Parallel(n_jobs=-1)]: Done 1784 tasks      | elapsed: 33.4min\n",
      "[Parallel(n_jobs=-1)]: Done 2434 tasks      | elapsed: 49.8min\n",
      "[Parallel(n_jobs=-1)]: Done 3184 tasks      | elapsed: 62.0min\n",
      "[Parallel(n_jobs=-1)]: Done 4034 tasks      | elapsed: 78.5min\n",
      "[Parallel(n_jobs=-1)]: Done 4984 tasks      | elapsed: 104.7min\n",
      "[Parallel(n_jobs=-1)]: Done 6034 tasks      | elapsed: 129.2min\n",
      "[Parallel(n_jobs=-1)]: Done 7184 tasks      | elapsed: 153.1min\n",
      "[Parallel(n_jobs=-1)]: Done 8434 tasks      | elapsed: 176.2min\n",
      "[Parallel(n_jobs=-1)]: Done 9784 tasks      | elapsed: 200.3min\n",
      "[Parallel(n_jobs=-1)]: Done 11234 tasks      | elapsed: 225.3min\n",
      "[Parallel(n_jobs=-1)]: Done 12784 tasks      | elapsed: 253.7min\n",
      "[Parallel(n_jobs=-1)]: Done 14434 tasks      | elapsed: 290.1min\n",
      "[Parallel(n_jobs=-1)]: Done 16184 tasks      | elapsed: 319.1min\n",
      "[Parallel(n_jobs=-1)]: Done 18034 tasks      | elapsed: 354.6min\n",
      "[Parallel(n_jobs=-1)]: Done 19984 tasks      | elapsed: 389.8min\n"
     ]
    },
    {
     "ename": "KeyboardInterrupt",
     "evalue": "",
     "output_type": "error",
     "traceback": [
      "\u001b[1;31m---------------------------------------------------------------------------\u001b[0m",
      "\u001b[1;31mKeyboardInterrupt\u001b[0m                         Traceback (most recent call last)",
      "\u001b[1;32m<ipython-input-121-fdd9f053a353>\u001b[0m in \u001b[0;36m<module>\u001b[1;34m\u001b[0m\n\u001b[0;32m      1\u001b[0m \u001b[1;31m# Fit the grid search to the data\u001b[0m\u001b[1;33m\u001b[0m\u001b[1;33m\u001b[0m\u001b[1;33m\u001b[0m\u001b[0m\n\u001b[1;32m----> 2\u001b[1;33m \u001b[0mgsearch\u001b[0m\u001b[1;33m.\u001b[0m\u001b[0mfit\u001b[0m\u001b[1;33m(\u001b[0m\u001b[0mtrain_features\u001b[0m\u001b[1;33m,\u001b[0m \u001b[0mtrain_labels\u001b[0m\u001b[1;33m)\u001b[0m\u001b[1;33m\u001b[0m\u001b[1;33m\u001b[0m\u001b[0m\n\u001b[0m\u001b[0;32m      3\u001b[0m \u001b[0mgsearch\u001b[0m\u001b[1;33m.\u001b[0m\u001b[0mbest_params_\u001b[0m\u001b[1;33m\u001b[0m\u001b[1;33m\u001b[0m\u001b[0m\n",
      "\u001b[1;32m~\\Anaconda3\\envs\\btcpred\\lib\\site-packages\\sklearn\\utils\\validation.py\u001b[0m in \u001b[0;36minner_f\u001b[1;34m(*args, **kwargs)\u001b[0m\n\u001b[0;32m     70\u001b[0m                           FutureWarning)\n\u001b[0;32m     71\u001b[0m         \u001b[0mkwargs\u001b[0m\u001b[1;33m.\u001b[0m\u001b[0mupdate\u001b[0m\u001b[1;33m(\u001b[0m\u001b[1;33m{\u001b[0m\u001b[0mk\u001b[0m\u001b[1;33m:\u001b[0m \u001b[0marg\u001b[0m \u001b[1;32mfor\u001b[0m \u001b[0mk\u001b[0m\u001b[1;33m,\u001b[0m \u001b[0marg\u001b[0m \u001b[1;32min\u001b[0m \u001b[0mzip\u001b[0m\u001b[1;33m(\u001b[0m\u001b[0msig\u001b[0m\u001b[1;33m.\u001b[0m\u001b[0mparameters\u001b[0m\u001b[1;33m,\u001b[0m \u001b[0margs\u001b[0m\u001b[1;33m)\u001b[0m\u001b[1;33m}\u001b[0m\u001b[1;33m)\u001b[0m\u001b[1;33m\u001b[0m\u001b[1;33m\u001b[0m\u001b[0m\n\u001b[1;32m---> 72\u001b[1;33m         \u001b[1;32mreturn\u001b[0m \u001b[0mf\u001b[0m\u001b[1;33m(\u001b[0m\u001b[1;33m**\u001b[0m\u001b[0mkwargs\u001b[0m\u001b[1;33m)\u001b[0m\u001b[1;33m\u001b[0m\u001b[1;33m\u001b[0m\u001b[0m\n\u001b[0m\u001b[0;32m     73\u001b[0m     \u001b[1;32mreturn\u001b[0m \u001b[0minner_f\u001b[0m\u001b[1;33m\u001b[0m\u001b[1;33m\u001b[0m\u001b[0m\n\u001b[0;32m     74\u001b[0m \u001b[1;33m\u001b[0m\u001b[0m\n",
      "\u001b[1;32m~\\Anaconda3\\envs\\btcpred\\lib\\site-packages\\sklearn\\model_selection\\_search.py\u001b[0m in \u001b[0;36mfit\u001b[1;34m(self, X, y, groups, **fit_params)\u001b[0m\n\u001b[0;32m    734\u001b[0m                 \u001b[1;32mreturn\u001b[0m \u001b[0mresults\u001b[0m\u001b[1;33m\u001b[0m\u001b[1;33m\u001b[0m\u001b[0m\n\u001b[0;32m    735\u001b[0m \u001b[1;33m\u001b[0m\u001b[0m\n\u001b[1;32m--> 736\u001b[1;33m             \u001b[0mself\u001b[0m\u001b[1;33m.\u001b[0m\u001b[0m_run_search\u001b[0m\u001b[1;33m(\u001b[0m\u001b[0mevaluate_candidates\u001b[0m\u001b[1;33m)\u001b[0m\u001b[1;33m\u001b[0m\u001b[1;33m\u001b[0m\u001b[0m\n\u001b[0m\u001b[0;32m    737\u001b[0m \u001b[1;33m\u001b[0m\u001b[0m\n\u001b[0;32m    738\u001b[0m         \u001b[1;31m# For multi-metric evaluation, store the best_index_, best_params_ and\u001b[0m\u001b[1;33m\u001b[0m\u001b[1;33m\u001b[0m\u001b[1;33m\u001b[0m\u001b[0m\n",
      "\u001b[1;32m~\\Anaconda3\\envs\\btcpred\\lib\\site-packages\\sklearn\\model_selection\\_search.py\u001b[0m in \u001b[0;36m_run_search\u001b[1;34m(self, evaluate_candidates)\u001b[0m\n\u001b[0;32m   1186\u001b[0m     \u001b[1;32mdef\u001b[0m \u001b[0m_run_search\u001b[0m\u001b[1;33m(\u001b[0m\u001b[0mself\u001b[0m\u001b[1;33m,\u001b[0m \u001b[0mevaluate_candidates\u001b[0m\u001b[1;33m)\u001b[0m\u001b[1;33m:\u001b[0m\u001b[1;33m\u001b[0m\u001b[1;33m\u001b[0m\u001b[0m\n\u001b[0;32m   1187\u001b[0m         \u001b[1;34m\"\"\"Search all candidates in param_grid\"\"\"\u001b[0m\u001b[1;33m\u001b[0m\u001b[1;33m\u001b[0m\u001b[0m\n\u001b[1;32m-> 1188\u001b[1;33m         \u001b[0mevaluate_candidates\u001b[0m\u001b[1;33m(\u001b[0m\u001b[0mParameterGrid\u001b[0m\u001b[1;33m(\u001b[0m\u001b[0mself\u001b[0m\u001b[1;33m.\u001b[0m\u001b[0mparam_grid\u001b[0m\u001b[1;33m)\u001b[0m\u001b[1;33m)\u001b[0m\u001b[1;33m\u001b[0m\u001b[1;33m\u001b[0m\u001b[0m\n\u001b[0m\u001b[0;32m   1189\u001b[0m \u001b[1;33m\u001b[0m\u001b[0m\n\u001b[0;32m   1190\u001b[0m \u001b[1;33m\u001b[0m\u001b[0m\n",
      "\u001b[1;32m~\\Anaconda3\\envs\\btcpred\\lib\\site-packages\\sklearn\\model_selection\\_search.py\u001b[0m in \u001b[0;36mevaluate_candidates\u001b[1;34m(candidate_params)\u001b[0m\n\u001b[0;32m    706\u001b[0m                               n_splits, n_candidates, n_candidates * n_splits))\n\u001b[0;32m    707\u001b[0m \u001b[1;33m\u001b[0m\u001b[0m\n\u001b[1;32m--> 708\u001b[1;33m                 out = parallel(delayed(_fit_and_score)(clone(base_estimator),\n\u001b[0m\u001b[0;32m    709\u001b[0m                                                        \u001b[0mX\u001b[0m\u001b[1;33m,\u001b[0m \u001b[0my\u001b[0m\u001b[1;33m,\u001b[0m\u001b[1;33m\u001b[0m\u001b[1;33m\u001b[0m\u001b[0m\n\u001b[0;32m    710\u001b[0m                                                        \u001b[0mtrain\u001b[0m\u001b[1;33m=\u001b[0m\u001b[0mtrain\u001b[0m\u001b[1;33m,\u001b[0m \u001b[0mtest\u001b[0m\u001b[1;33m=\u001b[0m\u001b[0mtest\u001b[0m\u001b[1;33m,\u001b[0m\u001b[1;33m\u001b[0m\u001b[1;33m\u001b[0m\u001b[0m\n",
      "\u001b[1;32m~\\Anaconda3\\envs\\btcpred\\lib\\site-packages\\joblib\\parallel.py\u001b[0m in \u001b[0;36m__call__\u001b[1;34m(self, iterable)\u001b[0m\n\u001b[0;32m   1040\u001b[0m \u001b[1;33m\u001b[0m\u001b[0m\n\u001b[0;32m   1041\u001b[0m             \u001b[1;32mwith\u001b[0m \u001b[0mself\u001b[0m\u001b[1;33m.\u001b[0m\u001b[0m_backend\u001b[0m\u001b[1;33m.\u001b[0m\u001b[0mretrieval_context\u001b[0m\u001b[1;33m(\u001b[0m\u001b[1;33m)\u001b[0m\u001b[1;33m:\u001b[0m\u001b[1;33m\u001b[0m\u001b[1;33m\u001b[0m\u001b[0m\n\u001b[1;32m-> 1042\u001b[1;33m                 \u001b[0mself\u001b[0m\u001b[1;33m.\u001b[0m\u001b[0mretrieve\u001b[0m\u001b[1;33m(\u001b[0m\u001b[1;33m)\u001b[0m\u001b[1;33m\u001b[0m\u001b[1;33m\u001b[0m\u001b[0m\n\u001b[0m\u001b[0;32m   1043\u001b[0m             \u001b[1;31m# Make sure that we get a last message telling us we are done\u001b[0m\u001b[1;33m\u001b[0m\u001b[1;33m\u001b[0m\u001b[1;33m\u001b[0m\u001b[0m\n\u001b[0;32m   1044\u001b[0m             \u001b[0melapsed_time\u001b[0m \u001b[1;33m=\u001b[0m \u001b[0mtime\u001b[0m\u001b[1;33m.\u001b[0m\u001b[0mtime\u001b[0m\u001b[1;33m(\u001b[0m\u001b[1;33m)\u001b[0m \u001b[1;33m-\u001b[0m \u001b[0mself\u001b[0m\u001b[1;33m.\u001b[0m\u001b[0m_start_time\u001b[0m\u001b[1;33m\u001b[0m\u001b[1;33m\u001b[0m\u001b[0m\n",
      "\u001b[1;32m~\\Anaconda3\\envs\\btcpred\\lib\\site-packages\\joblib\\parallel.py\u001b[0m in \u001b[0;36mretrieve\u001b[1;34m(self)\u001b[0m\n\u001b[0;32m    919\u001b[0m             \u001b[1;32mtry\u001b[0m\u001b[1;33m:\u001b[0m\u001b[1;33m\u001b[0m\u001b[1;33m\u001b[0m\u001b[0m\n\u001b[0;32m    920\u001b[0m                 \u001b[1;32mif\u001b[0m \u001b[0mgetattr\u001b[0m\u001b[1;33m(\u001b[0m\u001b[0mself\u001b[0m\u001b[1;33m.\u001b[0m\u001b[0m_backend\u001b[0m\u001b[1;33m,\u001b[0m \u001b[1;34m'supports_timeout'\u001b[0m\u001b[1;33m,\u001b[0m \u001b[1;32mFalse\u001b[0m\u001b[1;33m)\u001b[0m\u001b[1;33m:\u001b[0m\u001b[1;33m\u001b[0m\u001b[1;33m\u001b[0m\u001b[0m\n\u001b[1;32m--> 921\u001b[1;33m                     \u001b[0mself\u001b[0m\u001b[1;33m.\u001b[0m\u001b[0m_output\u001b[0m\u001b[1;33m.\u001b[0m\u001b[0mextend\u001b[0m\u001b[1;33m(\u001b[0m\u001b[0mjob\u001b[0m\u001b[1;33m.\u001b[0m\u001b[0mget\u001b[0m\u001b[1;33m(\u001b[0m\u001b[0mtimeout\u001b[0m\u001b[1;33m=\u001b[0m\u001b[0mself\u001b[0m\u001b[1;33m.\u001b[0m\u001b[0mtimeout\u001b[0m\u001b[1;33m)\u001b[0m\u001b[1;33m)\u001b[0m\u001b[1;33m\u001b[0m\u001b[1;33m\u001b[0m\u001b[0m\n\u001b[0m\u001b[0;32m    922\u001b[0m                 \u001b[1;32melse\u001b[0m\u001b[1;33m:\u001b[0m\u001b[1;33m\u001b[0m\u001b[1;33m\u001b[0m\u001b[0m\n\u001b[0;32m    923\u001b[0m                     \u001b[0mself\u001b[0m\u001b[1;33m.\u001b[0m\u001b[0m_output\u001b[0m\u001b[1;33m.\u001b[0m\u001b[0mextend\u001b[0m\u001b[1;33m(\u001b[0m\u001b[0mjob\u001b[0m\u001b[1;33m.\u001b[0m\u001b[0mget\u001b[0m\u001b[1;33m(\u001b[0m\u001b[1;33m)\u001b[0m\u001b[1;33m)\u001b[0m\u001b[1;33m\u001b[0m\u001b[1;33m\u001b[0m\u001b[0m\n",
      "\u001b[1;32m~\\Anaconda3\\envs\\btcpred\\lib\\site-packages\\joblib\\_parallel_backends.py\u001b[0m in \u001b[0;36mwrap_future_result\u001b[1;34m(future, timeout)\u001b[0m\n\u001b[0;32m    540\u001b[0m         AsyncResults.get from multiprocessing.\"\"\"\n\u001b[0;32m    541\u001b[0m         \u001b[1;32mtry\u001b[0m\u001b[1;33m:\u001b[0m\u001b[1;33m\u001b[0m\u001b[1;33m\u001b[0m\u001b[0m\n\u001b[1;32m--> 542\u001b[1;33m             \u001b[1;32mreturn\u001b[0m \u001b[0mfuture\u001b[0m\u001b[1;33m.\u001b[0m\u001b[0mresult\u001b[0m\u001b[1;33m(\u001b[0m\u001b[0mtimeout\u001b[0m\u001b[1;33m=\u001b[0m\u001b[0mtimeout\u001b[0m\u001b[1;33m)\u001b[0m\u001b[1;33m\u001b[0m\u001b[1;33m\u001b[0m\u001b[0m\n\u001b[0m\u001b[0;32m    543\u001b[0m         \u001b[1;32mexcept\u001b[0m \u001b[0mCfTimeoutError\u001b[0m \u001b[1;32mas\u001b[0m \u001b[0me\u001b[0m\u001b[1;33m:\u001b[0m\u001b[1;33m\u001b[0m\u001b[1;33m\u001b[0m\u001b[0m\n\u001b[0;32m    544\u001b[0m             \u001b[1;32mraise\u001b[0m \u001b[0mTimeoutError\u001b[0m \u001b[1;32mfrom\u001b[0m \u001b[0me\u001b[0m\u001b[1;33m\u001b[0m\u001b[1;33m\u001b[0m\u001b[0m\n",
      "\u001b[1;32m~\\Anaconda3\\envs\\btcpred\\lib\\concurrent\\futures\\_base.py\u001b[0m in \u001b[0;36mresult\u001b[1;34m(self, timeout)\u001b[0m\n\u001b[0;32m    432\u001b[0m                 \u001b[1;32mreturn\u001b[0m \u001b[0mself\u001b[0m\u001b[1;33m.\u001b[0m\u001b[0m__get_result\u001b[0m\u001b[1;33m(\u001b[0m\u001b[1;33m)\u001b[0m\u001b[1;33m\u001b[0m\u001b[1;33m\u001b[0m\u001b[0m\n\u001b[0;32m    433\u001b[0m \u001b[1;33m\u001b[0m\u001b[0m\n\u001b[1;32m--> 434\u001b[1;33m             \u001b[0mself\u001b[0m\u001b[1;33m.\u001b[0m\u001b[0m_condition\u001b[0m\u001b[1;33m.\u001b[0m\u001b[0mwait\u001b[0m\u001b[1;33m(\u001b[0m\u001b[0mtimeout\u001b[0m\u001b[1;33m)\u001b[0m\u001b[1;33m\u001b[0m\u001b[1;33m\u001b[0m\u001b[0m\n\u001b[0m\u001b[0;32m    435\u001b[0m \u001b[1;33m\u001b[0m\u001b[0m\n\u001b[0;32m    436\u001b[0m             \u001b[1;32mif\u001b[0m \u001b[0mself\u001b[0m\u001b[1;33m.\u001b[0m\u001b[0m_state\u001b[0m \u001b[1;32min\u001b[0m \u001b[1;33m[\u001b[0m\u001b[0mCANCELLED\u001b[0m\u001b[1;33m,\u001b[0m \u001b[0mCANCELLED_AND_NOTIFIED\u001b[0m\u001b[1;33m]\u001b[0m\u001b[1;33m:\u001b[0m\u001b[1;33m\u001b[0m\u001b[1;33m\u001b[0m\u001b[0m\n",
      "\u001b[1;32m~\\Anaconda3\\envs\\btcpred\\lib\\threading.py\u001b[0m in \u001b[0;36mwait\u001b[1;34m(self, timeout)\u001b[0m\n\u001b[0;32m    300\u001b[0m         \u001b[1;32mtry\u001b[0m\u001b[1;33m:\u001b[0m    \u001b[1;31m# restore state no matter what (e.g., KeyboardInterrupt)\u001b[0m\u001b[1;33m\u001b[0m\u001b[1;33m\u001b[0m\u001b[0m\n\u001b[0;32m    301\u001b[0m             \u001b[1;32mif\u001b[0m \u001b[0mtimeout\u001b[0m \u001b[1;32mis\u001b[0m \u001b[1;32mNone\u001b[0m\u001b[1;33m:\u001b[0m\u001b[1;33m\u001b[0m\u001b[1;33m\u001b[0m\u001b[0m\n\u001b[1;32m--> 302\u001b[1;33m                 \u001b[0mwaiter\u001b[0m\u001b[1;33m.\u001b[0m\u001b[0macquire\u001b[0m\u001b[1;33m(\u001b[0m\u001b[1;33m)\u001b[0m\u001b[1;33m\u001b[0m\u001b[1;33m\u001b[0m\u001b[0m\n\u001b[0m\u001b[0;32m    303\u001b[0m                 \u001b[0mgotit\u001b[0m \u001b[1;33m=\u001b[0m \u001b[1;32mTrue\u001b[0m\u001b[1;33m\u001b[0m\u001b[1;33m\u001b[0m\u001b[0m\n\u001b[0;32m    304\u001b[0m             \u001b[1;32melse\u001b[0m\u001b[1;33m:\u001b[0m\u001b[1;33m\u001b[0m\u001b[1;33m\u001b[0m\u001b[0m\n",
      "\u001b[1;31mKeyboardInterrupt\u001b[0m: "
     ]
    }
   ],
   "source": [
    "# Fit the grid search to the data\n",
    "gsearch.fit(train_features, train_labels)\n",
    "gsearch.best_params_"
   ]
  },
  {
   "cell_type": "code",
   "execution_count": null,
   "metadata": {},
   "outputs": [],
   "source": [
    "best_grid = gsearch.best_estimator_\n",
    "grid_accuracy = evaluate(best_grid, test_features, test_labels)"
   ]
  },
  {
   "cell_type": "code",
   "execution_count": null,
   "metadata": {},
   "outputs": [],
   "source": [
    "print('Improvement of {:0.2f}%.'.format( 100 * (grid_accuracy - base_accuracy) / base_accuracy))"
   ]
  },
  {
   "cell_type": "code",
   "execution_count": null,
   "metadata": {},
   "outputs": [],
   "source": [
    "best_grid"
   ]
  },
  {
   "cell_type": "markdown",
   "metadata": {},
   "source": []
  },
  {
   "cell_type": "markdown",
   "metadata": {},
   "source": [
    "# XGBoost 2"
   ]
  },
  {
   "cell_type": "code",
   "execution_count": 89,
   "metadata": {},
   "outputs": [],
   "source": [
    "from xgboost import XGBClassifier\n",
    "\n",
    "#XGBoost hyper-parameter tuning\n",
    "param_tuning = {\n",
    "    'learning_rate': [0.05, 0.1, 0.2],\n",
    "    'max_depth': [1, 2, 3, 4, 5 ],\n",
    "    'gamma': [2,3,4],\n",
    "    'min_child_weight': [2,3,4],\n",
    "    'subsample': [ 0.5, 0.7, 0.9 ],\n",
    "    'colsample_bytree': [0.7, 1.0, 1.3],\n",
    "    'n_estimators' : [50,100,150],\n",
    "    'objective': ['reg:squarederror']\n",
    "}\n",
    "\n",
    "xgb_model = XGBClassifier()\n",
    "\n",
    "gsearch = GridSearchCV(estimator = xgb_model,\n",
    "                       param_grid = param_tuning,                        \n",
    "                       #scoring = 'neg_mean_absolute_error', #MAE\n",
    "                       #scoring = 'neg_mean_squared_error',  #MSE\n",
    "                       cv = 5,\n",
    "                       n_jobs = -1,\n",
    "                       verbose = 1)\n"
   ]
  },
  {
   "cell_type": "code",
   "execution_count": 90,
   "metadata": {},
   "outputs": [
    {
     "name": "stdout",
     "output_type": "stream",
     "text": [
      "Fitting 5 folds for each of 3645 candidates, totalling 18225 fits\n"
     ]
    },
    {
     "name": "stderr",
     "output_type": "stream",
     "text": [
      "[Parallel(n_jobs=-1)]: Using backend LokyBackend with 8 concurrent workers.\n",
      "[Parallel(n_jobs=-1)]: Done  34 tasks      | elapsed:    4.8s\n",
      "[Parallel(n_jobs=-1)]: Done 184 tasks      | elapsed:   20.5s\n",
      "[Parallel(n_jobs=-1)]: Done 434 tasks      | elapsed:  1.2min\n",
      "[Parallel(n_jobs=-1)]: Done 784 tasks      | elapsed:  3.0min\n",
      "[Parallel(n_jobs=-1)]: Done 1234 tasks      | elapsed:  5.1min\n",
      "[Parallel(n_jobs=-1)]: Done 1784 tasks      | elapsed:  7.9min\n",
      "[Parallel(n_jobs=-1)]: Done 2434 tasks      | elapsed: 11.4min\n",
      "[Parallel(n_jobs=-1)]: Done 3184 tasks      | elapsed: 15.6min\n",
      "[Parallel(n_jobs=-1)]: Done 4034 tasks      | elapsed: 20.8min\n",
      "[Parallel(n_jobs=-1)]: Done 4984 tasks      | elapsed: 25.3min\n",
      "[Parallel(n_jobs=-1)]: Done 6034 tasks      | elapsed: 31.4min\n",
      "[Parallel(n_jobs=-1)]: Done 7184 tasks      | elapsed: 38.3min\n",
      "[Parallel(n_jobs=-1)]: Done 8434 tasks      | elapsed: 45.5min\n",
      "[Parallel(n_jobs=-1)]: Done 9784 tasks      | elapsed: 54.0min\n",
      "[Parallel(n_jobs=-1)]: Done 11234 tasks      | elapsed: 63.4min\n",
      "[Parallel(n_jobs=-1)]: Done 16224 tasks      | elapsed: 69.1min\n",
      "[Parallel(n_jobs=-1)]: Done 18225 out of 18225 | elapsed: 69.2min finished\n"
     ]
    },
    {
     "data": {
      "text/plain": [
       "{'colsample_bytree': 1.0,\n",
       " 'gamma': 4,\n",
       " 'learning_rate': 0.1,\n",
       " 'max_depth': 3,\n",
       " 'min_child_weight': 2,\n",
       " 'n_estimators': 50,\n",
       " 'objective': 'reg:squarederror',\n",
       " 'subsample': 0.7}"
      ]
     },
     "execution_count": 90,
     "metadata": {},
     "output_type": "execute_result"
    }
   ],
   "source": [
    "# Fit the grid search to the data\n",
    "gsearch.fit(train_features, train_labels)\n",
    "gsearch.best_params_"
   ]
  },
  {
   "cell_type": "code",
   "execution_count": 91,
   "metadata": {},
   "outputs": [
    {
     "name": "stdout",
     "output_type": "stream",
     "text": [
      "Model Performance\n",
      "Amount Errors total 368.0 of 1032 \n",
      "Accuracy = 64.34%.\n"
     ]
    }
   ],
   "source": [
    "best_grid = gsearch.best_estimator_\n",
    "grid_accuracy = evaluate(best_grid, test_features, test_labels)"
   ]
  },
  {
   "cell_type": "code",
   "execution_count": 92,
   "metadata": {},
   "outputs": [
    {
     "name": "stdout",
     "output_type": "stream",
     "text": [
      "Improvement of 17.11%.\n"
     ]
    }
   ],
   "source": [
    "print('Improvement of {:0.2f}%.'.format( 100 * (grid_accuracy - base_accuracy) / base_accuracy))"
   ]
  },
  {
   "cell_type": "code",
   "execution_count": 93,
   "metadata": {
    "scrolled": true
   },
   "outputs": [
    {
     "data": {
      "text/plain": [
       "XGBClassifier(base_score=0.5, booster='gbtree', colsample_bylevel=1,\n",
       "              colsample_bynode=1, colsample_bytree=1.0, gamma=4, gpu_id=-1,\n",
       "              importance_type='gain', interaction_constraints='',\n",
       "              learning_rate=0.1, max_delta_step=0, max_depth=3,\n",
       "              min_child_weight=2, missing=nan, monotone_constraints='()',\n",
       "              n_estimators=50, n_jobs=0, num_parallel_tree=1,\n",
       "              objective='reg:squarederror', random_state=0, reg_alpha=0,\n",
       "              reg_lambda=1, scale_pos_weight=1, subsample=0.7,\n",
       "              tree_method='exact', validate_parameters=1, verbosity=None)"
      ]
     },
     "execution_count": 93,
     "metadata": {},
     "output_type": "execute_result"
    }
   ],
   "source": [
    "best_grid"
   ]
  },
  {
   "cell_type": "code",
   "execution_count": 101,
   "metadata": {},
   "outputs": [
    {
     "data": {
      "text/plain": [
       "range(1, 1)"
      ]
     },
     "execution_count": 101,
     "metadata": {},
     "output_type": "execute_result"
    }
   ],
   "source": [
    "range(1, 1)"
   ]
  },
  {
   "cell_type": "markdown",
   "metadata": {},
   "source": [
    "# XGBoost 3 TORUN!"
   ]
  },
  {
   "cell_type": "code",
   "execution_count": 102,
   "metadata": {},
   "outputs": [
    {
     "ename": "SyntaxError",
     "evalue": "invalid syntax (<ipython-input-102-36cba9accae3>, line 1)",
     "output_type": "error",
     "traceback": [
      "\u001b[1;36m  File \u001b[1;32m\"<ipython-input-102-36cba9accae3>\"\u001b[1;36m, line \u001b[1;32m1\u001b[0m\n\u001b[1;33m    best % per day:\u001b[0m\n\u001b[1;37m               ^\u001b[0m\n\u001b[1;31mSyntaxError\u001b[0m\u001b[1;31m:\u001b[0m invalid syntax\n"
     ]
    }
   ],
   "source": [
    "best % per day:\n",
    "\n",
    "# base_score=0.5, booster='gbtree', colsample_bylevel=1,\n",
    "# colsample_bynode=1, colsample_bytree=0.7, gamma=0, gpu_id=-1,\n",
    "# importance_type='gain', interaction_constraints='',\n",
    "# learning_rate=0.01, max_delta_step=0, max_depth=3,\n",
    "# min_child_weight=1, monotone_constraints='()',\n",
    "# n_estimators=200, n_jobs=0, num_parallel_tree=1,\n",
    "# objective='reg:squarederror', random_state=0, reg_alpha=0,\n",
    "# reg_lambda=1, scale_pos_weight=1, subsample=0.7,\n",
    "# tree_method='exact', validate_parameters=1, verbosity=None)"
   ]
  },
  {
   "cell_type": "code",
   "execution_count": 122,
   "metadata": {},
   "outputs": [],
   "source": [
    "from xgboost import XGBClassifier\n",
    "\n",
    "#XGBoost hyper-parameter tuning\n",
    "param_tuning = {\n",
    "    'learning_rate': [0.005, 0.01, 0.02],\n",
    "    'max_depth': [2, 3, 4],\n",
    "    'gamma': [0,1,2],\n",
    "    'min_child_weight': [0,1,2],\n",
    "    'subsample': [ 0.6, 0.7, 0.8 ],\n",
    "    'colsample_bytree': [0.6, 0.7, 0.8],\n",
    "    'n_estimators' : [150,200,250],\n",
    "    'objective': ['reg:squarederror']\n",
    "}\n",
    "\n",
    "xgb_model = XGBClassifier()\n",
    "\n",
    "gsearch = GridSearchCV(estimator = xgb_model,\n",
    "                       param_grid = param_tuning,                        \n",
    "                       #scoring = 'neg_mean_absolute_error', #MAE\n",
    "                       #scoring = 'neg_mean_squared_error',  #MSE\n",
    "                       cv = 5,\n",
    "                       n_jobs = -1,\n",
    "                       verbose = 1)"
   ]
  },
  {
   "cell_type": "code",
   "execution_count": 123,
   "metadata": {},
   "outputs": [
    {
     "name": "stdout",
     "output_type": "stream",
     "text": [
      "Fitting 5 folds for each of 2187 candidates, totalling 10935 fits\n"
     ]
    },
    {
     "name": "stderr",
     "output_type": "stream",
     "text": [
      "[Parallel(n_jobs=-1)]: Using backend LokyBackend with 8 concurrent workers.\n",
      "[Parallel(n_jobs=-1)]: Done  34 tasks      | elapsed:   10.8s\n",
      "[Parallel(n_jobs=-1)]: Done 184 tasks      | elapsed:   59.2s\n",
      "[Parallel(n_jobs=-1)]: Done 434 tasks      | elapsed:  3.0min\n",
      "[Parallel(n_jobs=-1)]: Done 784 tasks      | elapsed:  5.5min\n",
      "[Parallel(n_jobs=-1)]: Done 1234 tasks      | elapsed:  8.5min\n",
      "[Parallel(n_jobs=-1)]: Done 1784 tasks      | elapsed: 12.3min\n",
      "[Parallel(n_jobs=-1)]: Done 2434 tasks      | elapsed: 17.3min\n",
      "[Parallel(n_jobs=-1)]: Done 3184 tasks      | elapsed: 22.6min\n",
      "[Parallel(n_jobs=-1)]: Done 4034 tasks      | elapsed: 29.1min\n",
      "[Parallel(n_jobs=-1)]: Done 4984 tasks      | elapsed: 35.9min\n",
      "[Parallel(n_jobs=-1)]: Done 6034 tasks      | elapsed: 44.0min\n",
      "[Parallel(n_jobs=-1)]: Done 7184 tasks      | elapsed: 52.4min\n",
      "[Parallel(n_jobs=-1)]: Done 8434 tasks      | elapsed: 62.9min\n",
      "[Parallel(n_jobs=-1)]: Done 9784 tasks      | elapsed: 74.2min\n",
      "[Parallel(n_jobs=-1)]: Done 10935 out of 10935 | elapsed: 84.1min finished\n"
     ]
    },
    {
     "data": {
      "text/plain": [
       "{'colsample_bytree': 0.6,\n",
       " 'gamma': 2,\n",
       " 'learning_rate': 0.01,\n",
       " 'max_depth': 2,\n",
       " 'min_child_weight': 0,\n",
       " 'n_estimators': 250,\n",
       " 'objective': 'reg:squarederror',\n",
       " 'subsample': 0.8}"
      ]
     },
     "execution_count": 123,
     "metadata": {},
     "output_type": "execute_result"
    }
   ],
   "source": [
    "# Fit the grid search to the data\n",
    "gsearch.fit(train_features, train_labels)\n",
    "gsearch.best_params_"
   ]
  },
  {
   "cell_type": "code",
   "execution_count": 124,
   "metadata": {},
   "outputs": [
    {
     "name": "stdout",
     "output_type": "stream",
     "text": [
      "Model Performance\n",
      "Amount Errors total 373.0 of 1032 \n",
      "Accuracy = 63.86%.\n"
     ]
    }
   ],
   "source": [
    "best_grid = gsearch.best_estimator_\n",
    "grid_accuracy = evaluate(best_grid, test_features, test_labels)"
   ]
  },
  {
   "cell_type": "code",
   "execution_count": 125,
   "metadata": {},
   "outputs": [
    {
     "name": "stdout",
     "output_type": "stream",
     "text": [
      "Improvement of 16.23%.\n"
     ]
    }
   ],
   "source": [
    "print('Improvement of {:0.2f}%.'.format( 100 * (grid_accuracy - base_accuracy) / base_accuracy))"
   ]
  },
  {
   "cell_type": "code",
   "execution_count": 126,
   "metadata": {
    "scrolled": true
   },
   "outputs": [
    {
     "data": {
      "text/plain": [
       "XGBClassifier(base_score=0.5, booster='gbtree', colsample_bylevel=1,\n",
       "              colsample_bynode=1, colsample_bytree=0.6, gamma=2, gpu_id=-1,\n",
       "              importance_type='gain', interaction_constraints='',\n",
       "              learning_rate=0.01, max_delta_step=0, max_depth=2,\n",
       "              min_child_weight=0, missing=nan, monotone_constraints='()',\n",
       "              n_estimators=250, n_jobs=0, num_parallel_tree=1,\n",
       "              objective='reg:squarederror', random_state=0, reg_alpha=0,\n",
       "              reg_lambda=1, scale_pos_weight=1, subsample=0.8,\n",
       "              tree_method='exact', validate_parameters=1, verbosity=None)"
      ]
     },
     "execution_count": 126,
     "metadata": {},
     "output_type": "execute_result"
    }
   ],
   "source": [
    "best_grid"
   ]
  },
  {
   "cell_type": "code",
   "execution_count": 127,
   "metadata": {},
   "outputs": [
    {
     "ename": "SyntaxError",
     "evalue": "unmatched ')' (<ipython-input-127-c041e1c328e1>, line 10)",
     "output_type": "error",
     "traceback": [
      "\u001b[1;36m  File \u001b[1;32m\"<ipython-input-127-c041e1c328e1>\"\u001b[1;36m, line \u001b[1;32m10\u001b[0m\n\u001b[1;33m    tree_method='exact', validate_parameters=1, verbosity=None)\u001b[0m\n\u001b[1;37m                                                              ^\u001b[0m\n\u001b[1;31mSyntaxError\u001b[0m\u001b[1;31m:\u001b[0m unmatched ')'\n"
     ]
    }
   ],
   "source": [
    "# Instantiate Classifier Logistic Regression\n",
    "base_score=0.5, booster='gbtree', colsample_bylevel=1,\n",
    "colsample_bynode=1, colsample_bytree=0.7, gamma=0, gpu_id=-1,\n",
    "importance_type='gain', interaction_constraints='',\n",
    "learning_rate=0.01, max_delta_step=0, max_depth=3,\n",
    "min_child_weight=1, monotone_constraints='()',\n",
    "n_estimators=200, n_jobs=0, num_parallel_tree=1,\n",
    "objective='reg:squarederror', random_state=0, reg_alpha=0,\n",
    "reg_lambda=1, scale_pos_weight=1, subsample=0.7,\n",
    "tree_method='exact', validate_parameters=1, verbosity=None)\n"
   ]
  },
  {
   "cell_type": "code",
   "execution_count": null,
   "metadata": {},
   "outputs": [],
   "source": []
  },
  {
   "cell_type": "code",
   "execution_count": null,
   "metadata": {},
   "outputs": [],
   "source": []
  },
  {
   "cell_type": "code",
   "execution_count": null,
   "metadata": {},
   "outputs": [],
   "source": []
  },
  {
   "cell_type": "code",
   "execution_count": null,
   "metadata": {},
   "outputs": [],
   "source": []
  },
  {
   "cell_type": "code",
   "execution_count": null,
   "metadata": {},
   "outputs": [],
   "source": []
  },
  {
   "cell_type": "code",
   "execution_count": null,
   "metadata": {},
   "outputs": [],
   "source": []
  },
  {
   "cell_type": "code",
   "execution_count": null,
   "metadata": {},
   "outputs": [],
   "source": [
    "\n",
    "\n",
    "# Train Classifier\n",
    "lreg.fit(X_train_scaled, y_train)\n",
    "\n",
    "# Prediction of Classes\n",
    "y_pred = lreg.predict(X_test_scaled)\n",
    "\n",
    "# Display Confusion Matrix and Classification Report\n",
    "print(confusion_matrix(y_test, y_pred))\n",
    "#     print(classification_report(y_test, y_pred))\n",
    "\n",
    "# Prediction of Probabilities\n",
    "y_pred_prob = lreg.predict_proba(X_test_scaled)[:, 1]\n",
    "\n",
    "# Create Data Frame of Actual Values - y_test\n",
    "df_y_test = pd.DataFrame(y_test)\n",
    "\n",
    "# Add Predicted Probabilities to Data Frame\n",
    "df_y_test[\"y_pred_prob\"] = y_pred_prob\n",
    "\n",
    "# Add Predicted Classes (0 or 1) to Data Frame to Cross-Check Predicted Probabilities\n",
    "df_y_test[\"y_pred\"] = y_pred"
   ]
  },
  {
   "cell_type": "code",
   "execution_count": null,
   "metadata": {},
   "outputs": [],
   "source": [
    "df_y_test=df_y_test.sort_index()\n",
    "df_y_test"
   ]
  },
  {
   "cell_type": "code",
   "execution_count": null,
   "metadata": {},
   "outputs": [],
   "source": [
    "df_y_test[df_y_test['Class']!=df_y_test['y_pred']]"
   ]
  },
  {
   "cell_type": "code",
   "execution_count": null,
   "metadata": {},
   "outputs": [],
   "source": [
    "df_y_test[df_y_test['Class']==df_y_test['y_pred']]"
   ]
  },
  {
   "cell_type": "code",
   "execution_count": null,
   "metadata": {},
   "outputs": [],
   "source": [
    "import plotly.graph_objects as go\n",
    "\n",
    "# Create traces\n",
    "fig = go.Figure()\n",
    "fig.add_trace(go.Scatter(x=df_y_test.index, y=df_y_test['Class'],\n",
    "                    mode='lines+markers',\n",
    "                    name='Class - reality'))\n",
    "fig.add_trace(go.Scatter(x=df_y_test.index, y=df_y_test['y_pred_prob'],\n",
    "                    mode='lines+markers',\n",
    "                    name='y_pred'))\n",
    "fig.show()\n"
   ]
  },
  {
   "cell_type": "code",
   "execution_count": null,
   "metadata": {},
   "outputs": [],
   "source": [
    "# Select Actual Daily Returns in USD from the Data Set Copy\n",
    "df_dataset1_copy_dailyreturns = df_dataset1_copy[['Daily Return in USD']]\n",
    "\n",
    "# # Merge Predictions and Daily Returns Data Frame on the Column \"Date\"\n",
    "# df_y_test_withdailyreturns = pd.merge(\n",
    "#     df_y_test, df_dataset1_copy_dailyreturns, on='Date')\n",
    "\n",
    "# df_dataset1_copy_percentage = df_dataset1_copy[['percentage_daily_return']]\n",
    "# df_y_test_withdailyreturns = pd.merge(\n",
    "#     df_y_test_withdailyreturns, df_dataset1_copy_percentage, on='Date')\n",
    "\n",
    "# # Add Bitcoin Price in USD\n",
    "# df_y_test_withdailyreturns = pd.merge(\n",
    "#     df_y_test_withdailyreturns, df_dataset1['market/price_usd_close'], on='Date')\n",
    "\n",
    "# df_y_test_withdailyreturns['y_pred_prob_bereinigt'] = np.where(\n",
    "#     df_y_test_withdailyreturns['y_pred_prob'] < 0.5, 1-df_y_test_withdailyreturns['y_pred_prob'], df_y_test_withdailyreturns['y_pred_prob'])\n",
    "\n",
    "# df_y_test_withdailyreturns[\"Einsatz\"] = einsatz * \\\n",
    "#     df_y_test_withdailyreturns[\"y_pred_prob_bereinigt\"]  # **2\n"
   ]
  },
  {
   "cell_type": "code",
   "execution_count": null,
   "metadata": {},
   "outputs": [],
   "source": []
  },
  {
   "cell_type": "code",
   "execution_count": null,
   "metadata": {},
   "outputs": [],
   "source": []
  },
  {
   "cell_type": "markdown",
   "metadata": {},
   "source": [
    "## Feature Scaling - Data Set I."
   ]
  },
  {
   "cell_type": "code",
   "execution_count": null,
   "metadata": {
    "ExecuteTime": {
     "end_time": "2020-11-23T00:15:17.030715Z",
     "start_time": "2020-11-23T00:15:16.551Z"
    }
   },
   "outputs": [],
   "source": [
    "# Instantiation of MinMaxScaler and StandardSacler\n",
    "norm_scaler = MinMaxScaler()\n",
    "#std_scaler = StandardScaler()"
   ]
  },
  {
   "cell_type": "code",
   "execution_count": null,
   "metadata": {
    "ExecuteTime": {
     "end_time": "2020-11-23T00:15:17.031716Z",
     "start_time": "2020-11-23T00:15:16.558Z"
    }
   },
   "outputs": [],
   "source": [
    "# Scaler Training and Transformation of Training Set\n",
    "X_train_scaled = pd.DataFrame(norm_scaler.fit_transform(X_train))"
   ]
  },
  {
   "cell_type": "code",
   "execution_count": null,
   "metadata": {
    "ExecuteTime": {
     "end_time": "2020-11-23T00:15:17.032715Z",
     "start_time": "2020-11-23T00:15:16.565Z"
    }
   },
   "outputs": [],
   "source": [
    "# Scaler Transformation of Test Set\n",
    "X_test_scaled = norm_scaler.transform(X_test)"
   ]
  },
  {
   "cell_type": "code",
   "execution_count": null,
   "metadata": {
    "ExecuteTime": {
     "end_time": "2020-11-23T00:15:17.033713Z",
     "start_time": "2020-11-23T00:15:16.570Z"
    }
   },
   "outputs": [],
   "source": [
    "# Scaled Test Features\n",
    "X_test_scaled"
   ]
  },
  {
   "cell_type": "code",
   "execution_count": null,
   "metadata": {
    "ExecuteTime": {
     "end_time": "2020-11-23T00:15:17.034715Z",
     "start_time": "2020-11-23T00:15:16.577Z"
    }
   },
   "outputs": [],
   "source": [
    "# Scaler Transformation of Entire Training Set - Input for Cross-Validation\n",
    "predictors_scaled = norm_scaler.transform(predictors)"
   ]
  },
  {
   "cell_type": "markdown",
   "metadata": {},
   "source": [
    "# Classification Models - Data Set I."
   ]
  },
  {
   "cell_type": "code",
   "execution_count": null,
   "metadata": {
    "ExecuteTime": {
     "end_time": "2020-11-23T00:15:17.036716Z",
     "start_time": "2020-11-23T00:15:16.583Z"
    }
   },
   "outputs": [],
   "source": [
    "# Function To Show Accuracy Mean and Accuracy Standard Deviation\n",
    "def show_scores(scores):\n",
    "    # Scores Series\n",
    "    print('Scores:', scores)\n",
    "    # Score Mean\n",
    "    print('Mean:', np.mean(scores))\n",
    "    # Score Standard Deviation\n",
    "    print('Standard Deviation:', np.std(scores))"
   ]
  },
  {
   "cell_type": "markdown",
   "metadata": {},
   "source": [
    "## Logistic Regression - Data Set I."
   ]
  },
  {
   "cell_type": "code",
   "execution_count": null,
   "metadata": {
    "ExecuteTime": {
     "end_time": "2020-11-23T00:15:17.037714Z",
     "start_time": "2020-11-23T00:15:16.590Z"
    }
   },
   "outputs": [],
   "source": [
    "# Instantiate Classifier - LogisticRegression\n",
    "lreg = LogisticRegression(max_iter=1200)"
   ]
  },
  {
   "cell_type": "code",
   "execution_count": null,
   "metadata": {
    "ExecuteTime": {
     "end_time": "2020-11-23T00:15:17.038716Z",
     "start_time": "2020-11-23T00:15:16.599Z"
    }
   },
   "outputs": [],
   "source": [
    "# Train Classifier\n",
    "lreg.fit(X_train_scaled, y_train)"
   ]
  },
  {
   "cell_type": "code",
   "execution_count": null,
   "metadata": {
    "ExecuteTime": {
     "end_time": "2020-11-23T00:15:17.039721Z",
     "start_time": "2020-11-23T00:15:16.610Z"
    }
   },
   "outputs": [],
   "source": [
    "# Prediction of Classes\n",
    "y_pred = lreg.predict(X_test_scaled)"
   ]
  },
  {
   "cell_type": "code",
   "execution_count": null,
   "metadata": {
    "ExecuteTime": {
     "end_time": "2020-11-23T00:15:17.040717Z",
     "start_time": "2020-11-23T00:15:16.619Z"
    }
   },
   "outputs": [],
   "source": [
    "# Prediction of Probabilities\n",
    "y_pred_prob = lreg.predict_proba(X_test_scaled)[:,1]"
   ]
  },
  {
   "cell_type": "code",
   "execution_count": null,
   "metadata": {
    "ExecuteTime": {
     "end_time": "2020-11-23T00:15:17.041712Z",
     "start_time": "2020-11-23T00:15:16.626Z"
    }
   },
   "outputs": [],
   "source": [
    "# Select Predicted Probabilities\n",
    "y_pred_prob[1:11]"
   ]
  },
  {
   "cell_type": "code",
   "execution_count": null,
   "metadata": {
    "ExecuteTime": {
     "end_time": "2020-11-23T00:15:17.043712Z",
     "start_time": "2020-11-23T00:15:16.631Z"
    }
   },
   "outputs": [],
   "source": [
    "# Select Actual Classes\n",
    "np.array(y_test[1:11])"
   ]
  },
  {
   "cell_type": "code",
   "execution_count": null,
   "metadata": {
    "ExecuteTime": {
     "end_time": "2020-11-23T00:15:17.044711Z",
     "start_time": "2020-11-23T00:15:16.637Z"
    }
   },
   "outputs": [],
   "source": [
    "# Train Accuracy\n",
    "lreg.score(X_train_scaled, y_train)"
   ]
  },
  {
   "cell_type": "code",
   "execution_count": null,
   "metadata": {
    "ExecuteTime": {
     "end_time": "2020-11-23T00:15:17.045711Z",
     "start_time": "2020-11-23T00:15:16.642Z"
    }
   },
   "outputs": [],
   "source": [
    "# Test Accuracy\n",
    "lreg.score(X_test_scaled, y_test)"
   ]
  },
  {
   "cell_type": "code",
   "execution_count": null,
   "metadata": {
    "ExecuteTime": {
     "end_time": "2020-11-23T00:15:17.046711Z",
     "start_time": "2020-11-23T00:15:16.648Z"
    }
   },
   "outputs": [],
   "source": [
    "# Output of Confusion Matrix\n",
    "print(confusion_matrix(y_test, y_pred))"
   ]
  },
  {
   "cell_type": "code",
   "execution_count": null,
   "metadata": {
    "ExecuteTime": {
     "end_time": "2020-11-23T00:15:17.047710Z",
     "start_time": "2020-11-23T00:15:16.653Z"
    }
   },
   "outputs": [],
   "source": [
    "# Output of Classification Report\n",
    "print(classification_report(y_test, y_pred))"
   ]
  },
  {
   "cell_type": "code",
   "execution_count": null,
   "metadata": {
    "ExecuteTime": {
     "end_time": "2020-11-23T00:15:17.048711Z",
     "start_time": "2020-11-23T00:15:16.659Z"
    }
   },
   "outputs": [],
   "source": [
    "# Generate ROC curve values: fpr, tpr, thresholds\n",
    "fpr, tpr, thresholds = roc_curve(y_test, y_pred_prob)"
   ]
  },
  {
   "cell_type": "code",
   "execution_count": null,
   "metadata": {
    "ExecuteTime": {
     "end_time": "2020-11-23T00:15:17.049713Z",
     "start_time": "2020-11-23T00:15:16.664Z"
    }
   },
   "outputs": [],
   "source": [
    "# 10-fold Cross Validation including Stratification\n",
    "skf = StratifiedKFold(shuffle=True, n_splits=10)"
   ]
  },
  {
   "cell_type": "code",
   "execution_count": null,
   "metadata": {
    "ExecuteTime": {
     "end_time": "2020-11-23T00:15:17.050711Z",
     "start_time": "2020-11-23T00:15:16.669Z"
    }
   },
   "outputs": [],
   "source": [
    "# Compute and print AUC Score\n",
    "print(\"AUC: {}\".format(roc_auc_score(y_test, y_pred_prob)))"
   ]
  },
  {
   "cell_type": "code",
   "execution_count": null,
   "metadata": {
    "ExecuteTime": {
     "end_time": "2020-11-23T00:15:17.051711Z",
     "start_time": "2020-11-23T00:15:16.675Z"
    }
   },
   "outputs": [],
   "source": [
    "# Cross-Validation for AUC scores\n",
    "cv_auc = cross_val_score(lreg, predictors_scaled, target, cv=skf, scoring='roc_auc')"
   ]
  },
  {
   "cell_type": "code",
   "execution_count": null,
   "metadata": {
    "ExecuteTime": {
     "end_time": "2020-11-23T00:15:17.053762Z",
     "start_time": "2020-11-23T00:15:16.680Z"
    }
   },
   "outputs": [],
   "source": [
    "# Print List of AUC scores\n",
    "print(\"AUC scores computed using 10-fold cross-validation: {}\".format(cv_auc))"
   ]
  },
  {
   "cell_type": "code",
   "execution_count": null,
   "metadata": {
    "ExecuteTime": {
     "end_time": "2020-11-23T00:15:17.054721Z",
     "start_time": "2020-11-23T00:15:16.685Z"
    }
   },
   "outputs": [],
   "source": [
    "# Cross-Validation for Accuracy Scores\n",
    "cv_acc = cross_val_score(lreg, predictors_scaled, target, cv=skf, scoring='accuracy')"
   ]
  },
  {
   "cell_type": "code",
   "execution_count": null,
   "metadata": {
    "ExecuteTime": {
     "end_time": "2020-11-23T00:15:17.055715Z",
     "start_time": "2020-11-23T00:15:16.691Z"
    }
   },
   "outputs": [],
   "source": [
    "# Print List of Accuracy Scores\n",
    "print(\"Accuracy scores computed using 10-fold cross-validation: {}\".format(cv_acc))"
   ]
  },
  {
   "cell_type": "code",
   "execution_count": null,
   "metadata": {
    "ExecuteTime": {
     "end_time": "2020-11-23T00:15:17.057718Z",
     "start_time": "2020-11-23T00:15:16.696Z"
    }
   },
   "outputs": [],
   "source": [
    "# Accuracy Results - Mean and Standard Deviation\n",
    "show_scores(cv_acc)"
   ]
  },
  {
   "cell_type": "markdown",
   "metadata": {},
   "source": [
    "## Random Forest Classifier - Data Set I."
   ]
  },
  {
   "cell_type": "code",
   "execution_count": null,
   "metadata": {
    "ExecuteTime": {
     "end_time": "2020-11-23T00:15:17.058713Z",
     "start_time": "2020-11-23T00:15:16.702Z"
    }
   },
   "outputs": [],
   "source": [
    "# Instantiate Classifier - Random Forest\n",
    "rfc = RandomForestClassifier(n_estimators=100, max_leaf_nodes=None, criterion='gini', max_depth=3, random_state=41)"
   ]
  },
  {
   "cell_type": "code",
   "execution_count": null,
   "metadata": {
    "ExecuteTime": {
     "end_time": "2020-11-23T00:15:17.060715Z",
     "start_time": "2020-11-23T00:15:16.708Z"
    }
   },
   "outputs": [],
   "source": [
    "# Train Classifier\n",
    "rfc.fit(X_train_scaled, y_train)"
   ]
  },
  {
   "cell_type": "code",
   "execution_count": null,
   "metadata": {
    "ExecuteTime": {
     "end_time": "2020-11-23T00:15:17.061721Z",
     "start_time": "2020-11-23T00:15:16.714Z"
    }
   },
   "outputs": [],
   "source": [
    "# Prediction of Classes\n",
    "y_pred = rfc.predict(X_test_scaled)"
   ]
  },
  {
   "cell_type": "code",
   "execution_count": null,
   "metadata": {
    "ExecuteTime": {
     "end_time": "2020-11-23T00:15:17.062712Z",
     "start_time": "2020-11-23T00:15:16.721Z"
    }
   },
   "outputs": [],
   "source": [
    "# Prediction of Probabilities\n",
    "y_pred_prob = rfc.predict_proba(X_test_scaled)[:,1]"
   ]
  },
  {
   "cell_type": "code",
   "execution_count": null,
   "metadata": {
    "ExecuteTime": {
     "end_time": "2020-11-23T00:15:17.063712Z",
     "start_time": "2020-11-23T00:15:16.728Z"
    }
   },
   "outputs": [],
   "source": [
    "# Select Predicted Probabilities\n",
    "y_pred_prob[1:11]"
   ]
  },
  {
   "cell_type": "code",
   "execution_count": null,
   "metadata": {
    "ExecuteTime": {
     "end_time": "2020-11-23T00:15:17.064716Z",
     "start_time": "2020-11-23T00:15:16.733Z"
    }
   },
   "outputs": [],
   "source": [
    "# Train Accuracy\n",
    "rfc.score(X_train_scaled, y_train)"
   ]
  },
  {
   "cell_type": "code",
   "execution_count": null,
   "metadata": {
    "ExecuteTime": {
     "end_time": "2020-11-23T00:15:17.065711Z",
     "start_time": "2020-11-23T00:15:16.738Z"
    }
   },
   "outputs": [],
   "source": [
    "# Test Accuracy\n",
    "rfc.score(X_test_scaled, y_test)"
   ]
  },
  {
   "cell_type": "code",
   "execution_count": null,
   "metadata": {
    "ExecuteTime": {
     "end_time": "2020-11-23T00:15:17.066718Z",
     "start_time": "2020-11-23T00:15:16.744Z"
    }
   },
   "outputs": [],
   "source": [
    "# Output of Confusion Matrix\n",
    "print(confusion_matrix(y_test, y_pred))"
   ]
  },
  {
   "cell_type": "code",
   "execution_count": null,
   "metadata": {
    "ExecuteTime": {
     "end_time": "2020-11-23T00:15:17.067712Z",
     "start_time": "2020-11-23T00:15:16.749Z"
    }
   },
   "outputs": [],
   "source": [
    "# Output of Classification Report\n",
    "print(classification_report(y_test, y_pred))"
   ]
  },
  {
   "cell_type": "code",
   "execution_count": null,
   "metadata": {
    "ExecuteTime": {
     "end_time": "2020-11-23T00:15:17.068712Z",
     "start_time": "2020-11-23T00:15:16.754Z"
    }
   },
   "outputs": [],
   "source": [
    "# Generate ROC curve values: fpr, tpr, thresholds\n",
    "fpr, tpr, thresholds = roc_curve(y_test, y_pred_prob)"
   ]
  },
  {
   "cell_type": "code",
   "execution_count": null,
   "metadata": {
    "ExecuteTime": {
     "end_time": "2020-11-23T00:15:17.069712Z",
     "start_time": "2020-11-23T00:15:16.760Z"
    }
   },
   "outputs": [],
   "source": [
    "# 10-fold Cross Validation including Stratification\n",
    "skf = StratifiedKFold(shuffle=True, n_splits=10)"
   ]
  },
  {
   "cell_type": "code",
   "execution_count": null,
   "metadata": {
    "ExecuteTime": {
     "end_time": "2020-11-23T00:15:17.070713Z",
     "start_time": "2020-11-23T00:15:16.765Z"
    }
   },
   "outputs": [],
   "source": [
    "# Compute and print AUC score\n",
    "print(\"AUC: {}\".format(roc_auc_score(y_test, y_pred_prob)))"
   ]
  },
  {
   "cell_type": "code",
   "execution_count": null,
   "metadata": {
    "ExecuteTime": {
     "end_time": "2020-11-23T00:15:17.071711Z",
     "start_time": "2020-11-23T00:15:16.772Z"
    }
   },
   "outputs": [],
   "source": [
    "# Cross-Validation for AUC scores\n",
    "cv_auc = cross_val_score(rfc, predictors_scaled, target, cv=skf, scoring='roc_auc')"
   ]
  },
  {
   "cell_type": "code",
   "execution_count": null,
   "metadata": {
    "ExecuteTime": {
     "end_time": "2020-11-23T00:15:17.073711Z",
     "start_time": "2020-11-23T00:15:16.777Z"
    }
   },
   "outputs": [],
   "source": [
    "# Print List of AUC scores\n",
    "print(\"AUC scores computed using 10-fold cross-validation: {}\".format(cv_auc))"
   ]
  },
  {
   "cell_type": "code",
   "execution_count": null,
   "metadata": {
    "ExecuteTime": {
     "end_time": "2020-11-23T00:15:17.074711Z",
     "start_time": "2020-11-23T00:15:16.782Z"
    }
   },
   "outputs": [],
   "source": [
    "# Cross-Validation for Accuracy Scores\n",
    "cv_acc = cross_val_score(rfc, predictors_scaled, target, cv=skf, scoring='accuracy')"
   ]
  },
  {
   "cell_type": "code",
   "execution_count": null,
   "metadata": {
    "ExecuteTime": {
     "end_time": "2020-11-23T00:15:17.075711Z",
     "start_time": "2020-11-23T00:15:16.787Z"
    }
   },
   "outputs": [],
   "source": [
    "# Print List of Accuracy Scores\n",
    "print(\"Accuracy scores computed using 10-fold cross-validation: {}\".format(cv_acc))"
   ]
  },
  {
   "cell_type": "code",
   "execution_count": null,
   "metadata": {
    "ExecuteTime": {
     "end_time": "2020-11-23T00:15:17.076712Z",
     "start_time": "2020-11-23T00:15:16.793Z"
    }
   },
   "outputs": [],
   "source": [
    "# Accuracy Results - Mean and Standard Deviation\n",
    "show_scores(cv_acc)"
   ]
  },
  {
   "cell_type": "markdown",
   "metadata": {},
   "source": [
    "# Trading Strategy - Data Set I"
   ]
  },
  {
   "cell_type": "markdown",
   "metadata": {},
   "source": [
    "## Trading Strategy in Combination with Logistic Regression"
   ]
  },
  {
   "cell_type": "code",
   "execution_count": null,
   "metadata": {
    "ExecuteTime": {
     "end_time": "2020-11-23T00:15:17.077712Z",
     "start_time": "2020-11-23T00:15:16.800Z"
    }
   },
   "outputs": [],
   "source": [
    "# Create Lists To Store All Calculated Values For Every Variable of Every Run\n",
    "# Specified Period\n",
    "# Threshold 0.5\n",
    "spec_list_05_total = []\n",
    "spec_list_05_profit = []\n",
    "spec_list_05_loss = []\n",
    "spec_list_05_trans = []\n",
    "spec_list_05_acc = []\n",
    "spec_list_05_preds_corr = []\n",
    "spec_list_05_preds = []\n",
    "# Threshold 0.6\n",
    "spec_list_06_total = []\n",
    "spec_list_06_profit = []\n",
    "spec_list_06_loss = []\n",
    "spec_list_06_trans = []\n",
    "spec_list_06_acc = []\n",
    "spec_list_06_preds_corr = []\n",
    "spec_list_06_preds = []\n",
    "# Threshold 0.7\n",
    "spec_list_07_total = []\n",
    "spec_list_07_profit = []\n",
    "spec_list_07_loss = []\n",
    "spec_list_07_trans = []\n",
    "spec_list_07_acc = []\n",
    "spec_list_07_preds_corr = []\n",
    "spec_list_07_preds = []\n",
    "# Threshold 0.8\n",
    "spec_list_08_total = []\n",
    "spec_list_08_profit = []\n",
    "spec_list_08_loss = []\n",
    "spec_list_08_trans = []\n",
    "spec_list_08_acc = []\n",
    "spec_list_08_preds_corr = []\n",
    "spec_list_08_preds = []\n",
    "\n",
    "# Entire Period\n",
    "# Threshold 0.5\n",
    "list_05_total = []\n",
    "list_05_profit = []\n",
    "list_05_loss = []\n",
    "list_05_trans = []\n",
    "list_05_acc = []\n",
    "list_05_preds_corr = []\n",
    "list_05_preds = []\n",
    "# Threshold 0.6\n",
    "list_06_total = []\n",
    "list_06_profit = []\n",
    "list_06_loss = []\n",
    "list_06_trans = []\n",
    "list_06_acc = []\n",
    "list_06_preds_corr = []\n",
    "list_06_preds = []\n",
    "# Threshold 0.7\n",
    "list_07_total = []\n",
    "list_07_profit = []\n",
    "list_07_loss = []\n",
    "list_07_trans = []\n",
    "list_07_acc = []\n",
    "list_07_preds_corr = []\n",
    "list_07_preds = []\n",
    "# Threshold 0.8\n",
    "list_08_total = []\n",
    "list_08_profit = []\n",
    "list_08_loss = []\n",
    "list_08_trans = []\n",
    "list_08_acc = []\n",
    "list_08_preds_corr = []\n",
    "list_08_preds = []"
   ]
  },
  {
   "cell_type": "code",
   "execution_count": 58,
   "metadata": {
    "ExecuteTime": {
     "end_time": "2020-12-26T21:46:10.897054Z",
     "start_time": "2020-12-26T21:46:10.834148Z"
    }
   },
   "outputs": [
    {
     "data": {
      "text/plain": [
       "Date\n",
       "2020-12-23   1.00\n",
       "2020-12-22   0.00\n",
       "2020-12-21   1.00\n",
       "2020-12-20   0.00\n",
       "2020-12-19   0.00\n",
       "             ... \n",
       "2011-07-20   0.00\n",
       "2011-07-19   0.00\n",
       "2011-07-18   1.00\n",
       "2011-07-17   1.00\n",
       "2011-07-16   0.00\n",
       "Name: Class, Length: 3449, dtype: float32"
      ]
     },
     "execution_count": 58,
     "metadata": {},
     "output_type": "execute_result"
    }
   ],
   "source": [
    "target\n"
   ]
  },
  {
   "cell_type": "code",
   "execution_count": 59,
   "metadata": {
    "ExecuteTime": {
     "end_time": "2020-12-26T21:46:10.912972Z",
     "start_time": "2020-12-26T21:46:10.899354Z"
    }
   },
   "outputs": [
    {
     "data": {
      "text/plain": [
       "array([[ 3.13296914e+00, -3.65084149e-02,  1.46111620e+20, ...,\n",
       "         5.40230000e+05,  1.61190000e+04, -4.79384338e+02],\n",
       "       [ 2.88843989e+00, -1.66677050e-02,  1.32165951e+20, ...,\n",
       "         5.28210000e+05,  1.61360000e+04,  8.83477905e+02],\n",
       "       [ 3.73631477e+00, -5.32329977e-02,  1.25467805e+20, ...,\n",
       "         4.61211000e+05,  1.60810000e+04, -6.74325439e+02],\n",
       "       ...,\n",
       "       [ 2.22710562e+00, -5.79142928e-01,  1.33559149e+13, ...,\n",
       "         1.53560000e+04,  3.74600000e+03,  2.55152732e-01],\n",
       "       [ 1.70053411e+00, -5.87142766e-01,  1.32087525e+13, ...,\n",
       "         1.55300000e+04,  3.82400000e+03, -5.51129818e-01],\n",
       "       [ 7.02314258e-01, -5.69863081e-01,  1.16541369e+13, ...,\n",
       "         1.46250000e+04,  3.80500000e+03, -9.09514278e-02]], dtype=float32)"
      ]
     },
     "execution_count": 59,
     "metadata": {},
     "output_type": "execute_result"
    }
   ],
   "source": [
    "predictors"
   ]
  },
  {
   "cell_type": "code",
   "execution_count": 60,
   "metadata": {
    "ExecuteTime": {
     "end_time": "2020-12-26T21:46:10.929037Z",
     "start_time": "2020-12-26T21:46:10.914933Z"
    }
   },
   "outputs": [
    {
     "name": "stdout",
     "output_type": "stream",
     "text": [
      "Log Price in USD\n",
      "Volatility Daily Log Return in Percent 5D\n",
      "market/price_usd_close\n",
      "market/price_drawdown_relative\n",
      "market/price_realized_usd\n",
      "market/mvrv\n",
      "mining/difficulty_latest\n",
      "mining/hash_rate_mean\n",
      "blockchain/block_count\n",
      "blockchain/block_interval_mean\n",
      "blockchain/block_size_sum\n",
      "fees/volume_sum\n",
      "fees/volume_mean\n",
      "fees/fee_ratio_multiple\n",
      "blockchain/utxo_created_count\n",
      "blockchain/utxo_spent_count\n",
      "blockchain/utxo_created_value_sum\n",
      "blockchain/utxo_spent_value_sum\n",
      "blockchain/utxo_profit_relative\n",
      "blockchain/utxo_profit_count\n",
      "blockchain/utxo_loss_count\n",
      "supply/current\n",
      "supply/profit_relative\n",
      "supply/profit_sum\n",
      "supply/loss_sum\n",
      "supply/active_more_1y_percent\n",
      "supply/active_more_2y_percent\n",
      "supply/active_more_3y_percent\n",
      "supply/active_more_5y_percent\n",
      "supply/active_24h\n",
      "supply/active_1d_1w\n",
      "supply/active_1w_1m\n",
      "supply/active_1m_3m\n",
      "supply/active_3m_6m\n",
      "supply/active_6m_12m\n",
      "supply/active_1y_2y\n",
      "supply/active_2y_3y\n",
      "supply/active_3y_5y\n",
      "supply/active_5y_7y\n",
      "supply/active_7y_10y\n",
      "supply/active_more_10y\n",
      "supply/issued\n",
      "supply/inflation_rate\n",
      "transactions/count\n",
      "transactions/size_sum\n",
      "transactions/transfers_volume_sum\n",
      "transactions/transfers_volume_adjusted_sum\n",
      "indicators/sopr_adjusted\n",
      "indicators/nvt\n",
      "indicators/velocity\n",
      "indicators/cdd\n",
      "indicators/reserve_risk\n",
      "indicators/average_dormancy\n",
      "indicators/liveliness\n",
      "indicators/asol\n",
      "indicators/sol_1h\n",
      "indicators/sol_1h_24h\n",
      "indicators/sol_1d_1w\n",
      "indicators/sol_1w_1m\n",
      "indicators/sol_1m_3m\n",
      "indicators/sol_3m_6m\n",
      "indicators/sol_6m_12m\n",
      "indicators/sol_1y_2y\n",
      "indicators/sol_2y_3y\n",
      "indicators/sol_3y_5y\n",
      "indicators/sol_5y_7y\n",
      "indicators/sol_7y_10y\n",
      "indicators/net_unrealized_profit_loss\n",
      "indicators/unrealized_profit\n",
      "indicators/unrealized_loss\n",
      "indicators/net_realized_profit_loss\n",
      "indicators/realized_profit\n",
      "indicators/realized_loss\n",
      "indicators/nupl_more_155\n",
      "indicators/nupl_less_155\n",
      "indicators/puell_multiple\n",
      "indicators/stock_to_flow_deflection\n",
      "indicators/difficulty_ribbon_compression\n",
      "addresses/active_count\n",
      "addresses/sending_count\n",
      "addresses/receiving_count\n",
      "addresses/new_non_zero_count\n",
      "addresses/non_zero_count\n",
      "addresses/min_point_zero_1_count\n",
      "addresses/min_point_1_count\n",
      "addresses/min_1_count\n",
      "addresses/min_10_count\n",
      "addresses/min_100_count\n",
      "addresses/min_1k_count\n",
      "addresses/min_10k_count\n",
      "Daily Return in USD_ohneshift\n",
      "percentage_daily_return_bef_shift\n",
      "market/price_usd_close_cummax\n",
      "price_usd_close_percent_of_maxtilnow\n",
      "Class\n"
     ]
    }
   ],
   "source": [
    "for x in df_dataset1.columns:\n",
    "    print(x)"
   ]
  },
  {
   "cell_type": "code",
   "execution_count": 61,
   "metadata": {
    "ExecuteTime": {
     "end_time": "2020-12-26T21:46:10.959814Z",
     "start_time": "2020-12-26T21:46:10.930890Z"
    }
   },
   "outputs": [
    {
     "data": {
      "text/html": [
       "<div>\n",
       "<style scoped>\n",
       "    .dataframe tbody tr th:only-of-type {\n",
       "        vertical-align: middle;\n",
       "    }\n",
       "\n",
       "    .dataframe tbody tr th {\n",
       "        vertical-align: top;\n",
       "    }\n",
       "\n",
       "    .dataframe thead th {\n",
       "        text-align: right;\n",
       "    }\n",
       "</style>\n",
       "<table border=\"1\" class=\"dataframe\">\n",
       "  <thead>\n",
       "    <tr style=\"text-align: right;\">\n",
       "      <th></th>\n",
       "      <th>Daily Return in USD</th>\n",
       "    </tr>\n",
       "    <tr>\n",
       "      <th>Date</th>\n",
       "      <th></th>\n",
       "    </tr>\n",
       "  </thead>\n",
       "  <tbody>\n",
       "    <tr>\n",
       "      <th>2020-12-23</th>\n",
       "      <td>485.20</td>\n",
       "    </tr>\n",
       "    <tr>\n",
       "      <th>2020-12-22</th>\n",
       "      <td>-479.38</td>\n",
       "    </tr>\n",
       "    <tr>\n",
       "      <th>2020-12-21</th>\n",
       "      <td>883.48</td>\n",
       "    </tr>\n",
       "    <tr>\n",
       "      <th>2020-12-20</th>\n",
       "      <td>-674.33</td>\n",
       "    </tr>\n",
       "    <tr>\n",
       "      <th>2020-12-19</th>\n",
       "      <td>-301.46</td>\n",
       "    </tr>\n",
       "    <tr>\n",
       "      <th>...</th>\n",
       "      <td>...</td>\n",
       "    </tr>\n",
       "    <tr>\n",
       "      <th>2011-07-20</th>\n",
       "      <td>-0.08</td>\n",
       "    </tr>\n",
       "    <tr>\n",
       "      <th>2011-07-19</th>\n",
       "      <td>-0.15</td>\n",
       "    </tr>\n",
       "    <tr>\n",
       "      <th>2011-07-18</th>\n",
       "      <td>0.42</td>\n",
       "    </tr>\n",
       "    <tr>\n",
       "      <th>2011-07-17</th>\n",
       "      <td>0.26</td>\n",
       "    </tr>\n",
       "    <tr>\n",
       "      <th>2011-07-16</th>\n",
       "      <td>-0.55</td>\n",
       "    </tr>\n",
       "  </tbody>\n",
       "</table>\n",
       "<p>3449 rows × 1 columns</p>\n",
       "</div>"
      ],
      "text/plain": [
       "            Daily Return in USD\n",
       "Date                           \n",
       "2020-12-23               485.20\n",
       "2020-12-22              -479.38\n",
       "2020-12-21               883.48\n",
       "2020-12-20              -674.33\n",
       "2020-12-19              -301.46\n",
       "...                         ...\n",
       "2011-07-20                -0.08\n",
       "2011-07-19                -0.15\n",
       "2011-07-18                 0.42\n",
       "2011-07-17                 0.26\n",
       "2011-07-16                -0.55\n",
       "\n",
       "[3449 rows x 1 columns]"
      ]
     },
     "execution_count": 61,
     "metadata": {},
     "output_type": "execute_result"
    }
   ],
   "source": [
    "df_dataset1_copy[['Daily Return in USD']]"
   ]
  },
  {
   "cell_type": "code",
   "execution_count": 62,
   "metadata": {
    "ExecuteTime": {
     "end_time": "2020-12-26T21:46:10.975771Z",
     "start_time": "2020-12-26T21:46:10.960811Z"
    }
   },
   "outputs": [
    {
     "data": {
      "text/plain": [
       "Date\n",
       "2020-12-23    0.02\n",
       "2020-12-22   -0.02\n",
       "2020-12-21    0.04\n",
       "2020-12-20   -0.03\n",
       "2020-12-19   -0.01\n",
       "              ... \n",
       "2011-07-20   -0.01\n",
       "2011-07-19   -0.01\n",
       "2011-07-18    0.03\n",
       "2011-07-17    0.02\n",
       "2011-07-16   -0.04\n",
       "Name: percentage_daily_return, Length: 3449, dtype: float64"
      ]
     },
     "execution_count": 62,
     "metadata": {},
     "output_type": "execute_result"
    }
   ],
   "source": [
    "df_dataset1_copy[\"percentage_daily_return\"] = df_dataset1_copy[\"Daily Return in USD\"]/df_dataset1_copy[\"market/price_usd_close\"]\n",
    "df_dataset1_copy[\"percentage_daily_return\"]"
   ]
  },
  {
   "cell_type": "code",
   "execution_count": 63,
   "metadata": {
    "ExecuteTime": {
     "end_time": "2020-12-26T21:46:10.991838Z",
     "start_time": "2020-12-26T21:46:10.976768Z"
    }
   },
   "outputs": [
    {
     "data": {
      "text/plain": [
       "array([[ 3.13296914e+00, -3.65084149e-02,  1.46111620e+20, ...,\n",
       "         5.40230000e+05,  1.61190000e+04, -4.79384338e+02],\n",
       "       [ 2.88843989e+00, -1.66677050e-02,  1.32165951e+20, ...,\n",
       "         5.28210000e+05,  1.61360000e+04,  8.83477905e+02],\n",
       "       [ 3.73631477e+00, -5.32329977e-02,  1.25467805e+20, ...,\n",
       "         4.61211000e+05,  1.60810000e+04, -6.74325439e+02],\n",
       "       ...,\n",
       "       [ 2.22710562e+00, -5.79142928e-01,  1.33559149e+13, ...,\n",
       "         1.53560000e+04,  3.74600000e+03,  2.55152732e-01],\n",
       "       [ 1.70053411e+00, -5.87142766e-01,  1.32087525e+13, ...,\n",
       "         1.55300000e+04,  3.82400000e+03, -5.51129818e-01],\n",
       "       [ 7.02314258e-01, -5.69863081e-01,  1.16541369e+13, ...,\n",
       "         1.46250000e+04,  3.80500000e+03, -9.09514278e-02]], dtype=float32)"
      ]
     },
     "execution_count": 63,
     "metadata": {},
     "output_type": "execute_result"
    }
   ],
   "source": [
    "predictors"
   ]
  },
  {
   "cell_type": "code",
   "execution_count": null,
   "metadata": {
    "ExecuteTime": {
     "start_time": "2020-12-26T22:04:29.357Z"
    },
    "scrolled": true
   },
   "outputs": [],
   "source": [
    "einsatz = 1000\n",
    "prestakepercentlist = []\n",
    "zinseszins = []\n",
    "profitpercent = []\n",
    "current_profitpercent = []\n",
    "spec_start_date = '2019-09-09'\n",
    "\n",
    "prestakepercentlist51 = []\n",
    "prestakepercentlist52 = []\n",
    "prestakepercentlist53 = []\n",
    "\n",
    "profitpercent51 = []\n",
    "profitpercent52 = []\n",
    "profitpercent53 = []\n",
    "\n",
    "current_profitpercent51 = []\n",
    "current_profitpercent52 = []\n",
    "current_profitpercent53 = []\n",
    "\n",
    "zinseszins51 = []\n",
    "zinseszins52 = []\n",
    "zinseszins53 = []\n",
    "\n",
    "current_zinseszins = []\n",
    "current_zinseszins51 = []\n",
    "current_zinseszins52 = []\n",
    "current_zinseszins53 = []\n",
    "\n",
    "\n",
    "# For Loop to Simulate K-fold Cross Validation\n",
    "for x in range(1, 100):\n",
    "\n",
    "    # Display Number of Runs\n",
    "    print(\"Run:\", x)\n",
    "\n",
    "    # Split Data into Training and Testing\n",
    "    X_train, X_test, y_train, y_test = train_test_split(\n",
    "        predictors, target, test_size=0.3, stratify=target)\n",
    "\n",
    "    # Amount of Columns\n",
    "    n_nodes = predictors.shape[1]\n",
    "\n",
    "    # Instantiation of MinMaxScaler\n",
    "    norm_scaler = MinMaxScaler()\n",
    "\n",
    "    # Training and Application of Feature Scaler on Training Data of Predictors\n",
    "    X_train_scaled = pd.DataFrame(norm_scaler.fit_transform(X_train))\n",
    "\n",
    "    # Application of Feature Scaler on Test Data of Predictors\n",
    "    X_test_scaled = norm_scaler.transform(X_test)\n",
    "\n",
    "    # Instantiate Classifier Logistic Regression\n",
    "    #lreg = LogisticRegression(max_iter=1100, penalty='l1', C=1, solver= 'liblinear')\n",
    "    \n",
    "#     LR = LogisticRegression()\n",
    "# LRparam_grid = {\n",
    "#     'C': [1], #1\n",
    "#      'penalty': ['l1'], #l2\n",
    "#      'max_iter': [1100],\n",
    "#      'solver': ['liblinear',] #,  'sag', 'saga' , 'lbfgs'  #'newton-cg'\n",
    "# }\n",
    "\n",
    "    lreg = RandomForestClassifier(bootstrap=True, ccp_alpha=0.0, class_weight=None,\n",
    "                       criterion='gini', max_depth=5, max_features='sqrt',\n",
    "                       max_leaf_nodes=None, max_samples=None,\n",
    "                       min_impurity_decrease=0.0, min_impurity_split=None,\n",
    "                       min_samples_leaf=4, min_samples_split=100,\n",
    "                       min_weight_fraction_leaf=0.0, n_estimators=800,\n",
    "                       n_jobs=None, oob_score=False, random_state=None,\n",
    "                       verbose=0, warm_start=False)\n",
    "\n",
    "\n",
    "    # Train Classifier\n",
    "    lreg.fit(X_train_scaled, y_train)\n",
    "\n",
    "    # Prediction of Classes\n",
    "    y_pred = lreg.predict(X_test_scaled)\n",
    "\n",
    "    # Display Confusion Matrix and Classification Report\n",
    "    print(confusion_matrix(y_test, y_pred))\n",
    "#     print(classification_report(y_test, y_pred))\n",
    "\n",
    "    # Prediction of Probabilities\n",
    "    y_pred_prob = lreg.predict_proba(X_test_scaled)[:, 1]\n",
    "\n",
    "    # Create Data Frame of Actual Values - y_test\n",
    "    df_y_test = pd.DataFrame(y_test)\n",
    "\n",
    "    # Add Predicted Probabilities to Data Frame\n",
    "    df_y_test[\"y_pred_prob\"] = y_pred_prob\n",
    "\n",
    "    # Add Predicted Classes (0 or 1) to Data Frame to Cross-Check Predicted Probabilities\n",
    "    df_y_test[\"y_pred\"] = y_pred\n",
    "\n",
    "    # Select Actual Daily Returns in USD from the Data Set Copy\n",
    "    df_dataset1_copy_dailyreturns = df_dataset1_copy[['Daily Return in USD']]\n",
    "\n",
    "    # Merge Predictions and Daily Returns Data Frame on the Column \"Date\"\n",
    "    df_y_test_withdailyreturns = pd.merge(\n",
    "        df_y_test, df_dataset1_copy_dailyreturns, on='Date')\n",
    "\n",
    "    df_dataset1_copy_percentage = df_dataset1_copy[['percentage_daily_return']]\n",
    "    df_y_test_withdailyreturns = pd.merge(\n",
    "        df_y_test_withdailyreturns, df_dataset1_copy_percentage, on='Date')\n",
    "\n",
    "    # Add Bitcoin Price in USD\n",
    "    df_y_test_withdailyreturns = pd.merge(\n",
    "        df_y_test_withdailyreturns, df_dataset1['market/price_usd_close'], on='Date')\n",
    "\n",
    "    df_y_test_withdailyreturns['y_pred_prob_bereinigt'] = np.where(\n",
    "        df_y_test_withdailyreturns['y_pred_prob'] < 0.5, 1-df_y_test_withdailyreturns['y_pred_prob'], df_y_test_withdailyreturns['y_pred_prob'])\n",
    "\n",
    "    df_y_test_withdailyreturns[\"Einsatz\"] = einsatz * \\\n",
    "        df_y_test_withdailyreturns[\"y_pred_prob_bereinigt\"]  # **2\n",
    "\n",
    "    # Add and Calculate Transaction Costs based on the Bitcoin Price in USD\n",
    "    df_y_test_withdailyreturns['Transaction Costs in USD'] = df_y_test_withdailyreturns['Einsatz']*0.0003*2\n",
    "\n",
    "    # Create List of Multiple Thresholds\n",
    "    # A Threshold of 0.7 means that only predicted probabilites with more than 0.7 or less than 0.3 are considered further\n",
    "    list_thresholdcalc = [0.5, 0.51, 0.52, 0.53]\n",
    "\n",
    "    # Try and Except Block to Address Cases in Which a Data Frame does NOT Contain Any Values Because No predicted Probability Meets the Threshold Requirements\n",
    "    try:\n",
    "\n",
    "        # For Loop Over List\n",
    "        for thresholdcalc in list_thresholdcalc:\n",
    "\n",
    "            # Creation of a Data Frame Containing Only Probability Predictions Which Meet the Threshold Requirements\n",
    "            df_y_test_probaall = df_y_test.loc[(df_y_test['y_pred_prob'] > thresholdcalc) | (\n",
    "                df_y_test['y_pred_prob'] < 1-thresholdcalc)]\n",
    "\n",
    "            # Calculation Of Accuracy Only for the Data Subset Meeting Threshold Requirements\n",
    "            acc_calc = len(df_y_test_probaall[df_y_test_probaall['Class']\n",
    "                                              == df_y_test_probaall['y_pred']]) / len(df_y_test_probaall)\n",
    "\n",
    "            print(\"Threshold of:\", thresholdcalc)\n",
    "            print(classification_report(\n",
    "                df_y_test_probaall[\"Class\"], df_y_test_probaall[\"y_pred\"]))\n",
    "\n",
    "            # Creation of Another Data Frame including Returns and Transaction Costs\n",
    "            # Only For Probability Predicitons that Meet the Threshold Requirements\n",
    "            df_y_test_probaall_withdailyreturns = df_y_test_withdailyreturns.loc[(\n",
    "                df_y_test_withdailyreturns['y_pred_prob'] > thresholdcalc) | (df_y_test_withdailyreturns['y_pred_prob'] < 1-thresholdcalc)]\n",
    "\n",
    "            # Trading Assumption: Bet Amount = 1 Bitcoin for Each Prediction\n",
    "            # Select Daily Returns Only From True Predictions Where Predicted Class equals Actual Class.\n",
    "            # It does not matter whether Daily Returns are Positive or Negative as Short-Selling Option Allows To Profit From Falling Prices\n",
    "            profit = df_y_test_probaall_withdailyreturns[\"percentage_daily_return\"][\n",
    "                df_y_test_probaall_withdailyreturns['Class'] == df_y_test_probaall_withdailyreturns['y_pred']].abs().sum()\n",
    "\n",
    "            # Select  Daily Returns Only From False Predictions Where Predicted Class equals Actual Class\n",
    "            loss = df_y_test_probaall_withdailyreturns[\"percentage_daily_return\"][df_y_test_probaall_withdailyreturns['Class']\n",
    "                                                                                  != df_y_test_probaall_withdailyreturns['y_pred']].abs().sum()\n",
    "\n",
    "            print(\"prestake profit-loss {:.2f} x\".format(profit-loss))\n",
    "\n",
    "            if thresholdcalc == 0.5:\n",
    "                prestakepercentlist.append(int((profit-loss)*100))\n",
    "            if thresholdcalc == 0.51:\n",
    "                prestakepercentlist51.append(int((profit-loss)*100))\n",
    "            if thresholdcalc == 0.52:\n",
    "                prestakepercentlist52.append(int((profit-loss)*100))\n",
    "            if thresholdcalc == 0.53:\n",
    "                prestakepercentlist53.append(int((profit-loss)*100))\n",
    "\n",
    "            loss = loss * einsatz\n",
    "            profit = profit * einsatz\n",
    "\n",
    "            # Calculation of Transaction Costs based On BTC Value in USD. Each Future Trade considers Transaction Costs twice, becauase of Buying and Selling the Future\n",
    "            transaction_costs = df_y_test_probaall_withdailyreturns['Transaction Costs in USD'].sum(\n",
    "            )\n",
    "\n",
    "            # Calculation of Total Profit Considering Profit, Loss and Transaction Costs\n",
    "            total = profit-loss-transaction_costs\n",
    "\n",
    "            # In addition, the same setting with different time horizon\n",
    "            currentpreds_all = df_y_test_probaall_withdailyreturns[\n",
    "                df_y_test_probaall_withdailyreturns.index >= spec_start_date]\n",
    "\n",
    "            # the len\n",
    "            currentpreds_all_count = len(currentpreds_all)\n",
    "\n",
    "            # Analog to Profit Calculation Above\n",
    "            currentpreds_winning_total = currentpreds_all[\"percentage_daily_return\"][(\n",
    "                currentpreds_all['Class'] == currentpreds_all['y_pred'])].abs().sum()\n",
    "            # Analog to Loss Calculation Above\n",
    "            currentpreds_loosing_total = currentpreds_all[\"percentage_daily_return\"][(\n",
    "                currentpreds_all['Class'] != currentpreds_all['y_pred'])].abs().sum()\n",
    "            # Analog to Calculation of Transaction Costs Above\n",
    "            currentpreds_transaction_costs = currentpreds_all['Transaction Costs in USD'][(\n",
    "                currentpreds_all['Class'] != currentpreds_all['y_pred'])].abs().sum()\n",
    "\n",
    "            currentpreds_loosing_total = currentpreds_loosing_total * einsatz\n",
    "            currentpreds_winning_total = currentpreds_winning_total * einsatz\n",
    "\n",
    "            # Analog to Calculation of Total Profit\n",
    "            currentpreds_total = currentpreds_winning_total - \\\n",
    "                currentpreds_loosing_total-currentpreds_transaction_costs\n",
    "\n",
    "            # Condition\n",
    "            # In Case the Shorter Time Horizon Does Not Include any Sample -> Empyt Output\n",
    "            if currentpreds_all_count == 0:\n",
    "                currentpreds_all_count = '-'\n",
    "                current_acc_calc = '-'\n",
    "\n",
    "            # Otherwise Calculation of Accuracy analog to theeins Accuracy Calculation for the Entire Period\n",
    "            else:\n",
    "                current_acc_calc = (len(currentpreds_all[\"Daily Return in USD\"][(\n",
    "                    currentpreds_all['Class'] == currentpreds_all['y_pred'])]))/currentpreds_all_count\n",
    "\n",
    "            # Display of Threshold, Total Profit, Profit, Loss, Transaction Costs, Accuracy and Correct Number of Predictions Both for the Specified Time Horizon and the Entire Time\n",
    "            print(\"SpecPeriod:\")\n",
    "            print(\"einsatz\", int(currentpreds_all[\"Einsatz\"].sum()), \"Total Return in SpecPeriod:\", int(currentpreds_total), \"/ Profit: \", int(currentpreds_winning_total), \"/ Loss: \", int(currentpreds_loosing_total), \"/ TransCosts: \", int(currentpreds_transaction_costs),\n",
    "                  \"/ #CorrectPreds:\", (len(currentpreds_all[\"Daily Return in USD\"][(currentpreds_all['Class'] == currentpreds_all['y_pred'])])), \"of\", len(currentpreds_all))\n",
    "\n",
    "            print(\"CalcAccuracy {:.2f} -- profit in %/bet: {:.2f}\".format(current_acc_calc, 100*(int(\n",
    "                currentpreds_total) / len(currentpreds_all)) / (currentpreds_all[\"Einsatz\"].sum() / len(currentpreds_all))))\n",
    "            print(\"einsatz * 1+profit% ^ # wetten {:.2f}\".format(einsatz*(1+(int(currentpreds_total) / len(currentpreds_all)) / (\n",
    "                currentpreds_all[\"Einsatz\"].sum() / len(currentpreds_all))) ** len(currentpreds_all)))\n",
    "\n",
    "            if thresholdcalc == 0.5:\n",
    "                current_profitpercent.append(100*(int(currentpreds_total) / len(\n",
    "                    currentpreds_all)) / (currentpreds_all[\"Einsatz\"].sum() / len(currentpreds_all)))\n",
    "            if thresholdcalc == 0.51:\n",
    "                current_profitpercent51.append(100*(int(currentpreds_total) / len(\n",
    "                    currentpreds_all)) / (currentpreds_all[\"Einsatz\"].sum() / len(currentpreds_all)))\n",
    "            if thresholdcalc == 0.52:\n",
    "                current_profitpercent52.append(100*(int(currentpreds_total) / len(\n",
    "                    currentpreds_all)) / (currentpreds_all[\"Einsatz\"].sum() / len(currentpreds_all)))\n",
    "            if thresholdcalc == 0.53:\n",
    "                current_profitpercent53.append(100*(int(currentpreds_total) / len(\n",
    "                    currentpreds_all)) / (currentpreds_all[\"Einsatz\"].sum() / len(currentpreds_all)))\n",
    "\n",
    "            print()\n",
    "            print(\"Entire Period:\")\n",
    "            print(\"einsatz\", int(df_y_test_probaall_withdailyreturns[\"Einsatz\"].sum()), \"TotReturn:\", int(total), \"/ Profit: \", int(profit), \"/ Loss: \", int(loss), \"/ TransCosts: \", int(\n",
    "                transaction_costs), \"/ CalcAccuracy\", round(acc_calc, 2), \"/ #CorrectPreds:\", len(df_y_test_probaall[df_y_test_probaall['Class'] == df_y_test_probaall['y_pred']]),  \"Of\", len(df_y_test_probaall))\n",
    "            print(\"einsatz/bet\", df_y_test_probaall_withdailyreturns[\"Einsatz\"].sum() / len(df_y_test_probaall), \"TotReturn / bet\", int(total) / len(\n",
    "                df_y_test_probaall), \"/ TranCosts / bet \", int(transaction_costs) / len(df_y_test_probaall), \"/ CalcuAcc\", round(acc_calc, 2))\n",
    "            print(\"profit in %/bet: {:.2f}\".format(100*(int(total) / len(df_y_test_probaall)) / (\n",
    "                df_y_test_probaall_withdailyreturns[\"Einsatz\"].sum() / len(df_y_test_probaall))))\n",
    "\n",
    "            if thresholdcalc == 0.5:\n",
    "                profitpercent.append(100*(int(total) / len(df_y_test_probaall)) / (\n",
    "                    df_y_test_probaall_withdailyreturns[\"Einsatz\"].sum() / len(df_y_test_probaall)))\n",
    "            if thresholdcalc == 0.51:\n",
    "                profitpercent51.append(100*(int(total) / len(df_y_test_probaall)) / (\n",
    "                    df_y_test_probaall_withdailyreturns[\"Einsatz\"].sum() / len(df_y_test_probaall)))\n",
    "            if thresholdcalc == 0.52:\n",
    "                profitpercent52.append(100*(int(total) / len(df_y_test_probaall)) / (\n",
    "                    df_y_test_probaall_withdailyreturns[\"Einsatz\"].sum() / len(df_y_test_probaall)))\n",
    "            if thresholdcalc == 0.53:\n",
    "                profitpercent53.append(100*(int(total) / len(df_y_test_probaall)) / (\n",
    "                    df_y_test_probaall_withdailyreturns[\"Einsatz\"].sum() / len(df_y_test_probaall)))\n",
    "\n",
    "            print(\"einsatz * 1+profit% ^ # wetten {:.2f}\".format(einsatz*(1+(int(total) / len(df_y_test_probaall)) / (\n",
    "                df_y_test_probaall_withdailyreturns[\"Einsatz\"].sum() / len(df_y_test_probaall))) ** len(df_y_test_probaall)))\n",
    "            if thresholdcalc == 0.5:\n",
    "                zinseszins.append(einsatz*(1+(int(total) / len(df_y_test_probaall)) / (\n",
    "                    df_y_test_probaall_withdailyreturns[\"Einsatz\"].sum() / len(df_y_test_probaall))) ** len(df_y_test_probaall))\n",
    "\n",
    "                current_zinseszins.append(einsatz*(1+(int(currentpreds_total) / len(currentpreds_all)) / (\n",
    "                    currentpreds_all[\"Einsatz\"].sum() / len(currentpreds_all))) ** len(currentpreds_all))\n",
    "\n",
    "            print()\n",
    "            print()\n",
    "\n",
    "            # Store All Calculated Values For Every Variable of Every Run\n",
    "            # Specified Period\n",
    "            # Threshold = 0.5\n",
    "            if thresholdcalc == 0.5:\n",
    "                spec_list_05_total.append(currentpreds_total)\n",
    "                spec_list_05_profit.append(currentpreds_winning_total)\n",
    "                spec_list_05_loss.append(currentpreds_loosing_total)\n",
    "                spec_list_05_trans.append(currentpreds_transaction_costs)\n",
    "                spec_list_05_acc.append(current_acc_calc)\n",
    "                spec_list_05_preds_corr.append((len(df_y_test_probaall_withdailyreturns[\"Daily Return in USD\"][(\n",
    "                    df_y_test_probaall_withdailyreturns.index >= spec_start_date) & (df_y_test_probaall_withdailyreturns['Class'] == df_y_test_probaall_withdailyreturns['y_pred'])])))\n",
    "                spec_list_05_preds.append(currentpreds_all_count)\n",
    "                # Entire Period:\n",
    "                list_05_total.append(total)\n",
    "                list_05_profit.append(profit)\n",
    "                list_05_loss.append(loss)\n",
    "                list_05_trans.append(transaction_costs)\n",
    "                list_05_acc.append(acc_calc)\n",
    "                list_05_preds_corr.append(len(\n",
    "                    df_y_test_probaall[df_y_test_probaall['Class'] == df_y_test_probaall['y_pred']]))\n",
    "                list_05_preds.append(len(df_y_test_probaall))\n",
    "\n",
    "            # Threshold = 0.6\n",
    "            if thresholdcalc == 0.51:\n",
    "                spec_list_06_total.append(currentpreds_total)\n",
    "                spec_list_06_profit.append(currentpreds_winning_total)\n",
    "                spec_list_06_loss.append(currentpreds_loosing_total)\n",
    "                spec_list_06_trans.append(currentpreds_transaction_costs)\n",
    "                spec_list_06_acc.append(current_acc_calc)\n",
    "                spec_list_06_preds_corr.append((len(df_y_test_probaall_withdailyreturns[\"Daily Return in USD\"][(\n",
    "                    df_y_test_probaall_withdailyreturns.index >= spec_start_date) & (df_y_test_probaall_withdailyreturns['Class'] == df_y_test_probaall_withdailyreturns['y_pred'])])))\n",
    "                spec_list_06_preds.append(currentpreds_all_count)\n",
    "                # Entire Period:\n",
    "                list_06_total.append(total)\n",
    "                list_06_profit.append(profit)\n",
    "                list_06_loss.append(loss)\n",
    "                list_06_trans.append(transaction_costs)\n",
    "                list_06_acc.append(acc_calc)\n",
    "                list_06_preds_corr.append(len(\n",
    "                    df_y_test_probaall[df_y_test_probaall['Class'] == df_y_test_probaall['y_pred']]))\n",
    "                list_06_preds.append(len(df_y_test_probaall))\n",
    "\n",
    "                zinseszins51.append(einsatz*(1+(int(total) / len(df_y_test_probaall)) / (\n",
    "                    df_y_test_probaall_withdailyreturns[\"Einsatz\"].sum() / len(df_y_test_probaall))) ** len(df_y_test_probaall))\n",
    "\n",
    "                current_zinseszins51.append(einsatz*(1+(int(currentpreds_total) / len(currentpreds_all)) / (\n",
    "                    currentpreds_all[\"Einsatz\"].sum() / len(currentpreds_all))) ** len(currentpreds_all))\n",
    "\n",
    "            # Threshold = 0.7\n",
    "            if thresholdcalc == 0.52:\n",
    "                spec_list_07_total.append(currentpreds_total)\n",
    "                spec_list_07_profit.append(currentpreds_winning_total)\n",
    "                spec_list_07_loss.append(currentpreds_loosing_total)\n",
    "                spec_list_07_trans.append(currentpreds_transaction_costs)\n",
    "                spec_list_07_acc.append(current_acc_calc)\n",
    "                spec_list_07_preds_corr.append((len(df_y_test_probaall_withdailyreturns[\"Daily Return in USD\"][(\n",
    "                    df_y_test_probaall_withdailyreturns.index >= spec_start_date) & (df_y_test_probaall_withdailyreturns['Class'] == df_y_test_probaall_withdailyreturns['y_pred'])])))\n",
    "                spec_list_07_preds.append(currentpreds_all_count)\n",
    "                # Entire Period:\n",
    "                list_07_total.append(total)\n",
    "                list_07_profit.append(profit)\n",
    "                list_07_loss.append(loss)\n",
    "                list_07_trans.append(transaction_costs)\n",
    "                list_07_acc.append(acc_calc)\n",
    "                list_07_preds_corr.append(len(\n",
    "                    df_y_test_probaall[df_y_test_probaall['Class'] == df_y_test_probaall['y_pred']]))\n",
    "                list_07_preds.append(len(df_y_test_probaall))\n",
    "                zinseszins52.append(einsatz*(1+(int(total) / len(df_y_test_probaall)) / (\n",
    "                    df_y_test_probaall_withdailyreturns[\"Einsatz\"].sum() / len(df_y_test_probaall))) ** len(df_y_test_probaall))\n",
    "\n",
    "                current_zinseszins52.append(einsatz*(1+(int(currentpreds_total) / len(currentpreds_all)) / (\n",
    "                    currentpreds_all[\"Einsatz\"].sum() / len(currentpreds_all))) ** len(currentpreds_all))\n",
    "\n",
    "            # Threshold = 0.8\n",
    "            if thresholdcalc == 0.53:\n",
    "                spec_list_08_total.append(currentpreds_total)\n",
    "                spec_list_08_profit.append(currentpreds_winning_total)\n",
    "                spec_list_08_loss.append(currentpreds_loosing_total)\n",
    "                spec_list_08_trans.append(currentpreds_transaction_costs)\n",
    "                spec_list_08_acc.append(current_acc_calc)\n",
    "                spec_list_08_preds_corr.append((len(df_y_test_probaall_withdailyreturns[\"Daily Return in USD\"][(\n",
    "                    df_y_test_probaall_withdailyreturns.index >= spec_start_date) & (df_y_test_probaall_withdailyreturns['Class'] == df_y_test_probaall_withdailyreturns['y_pred'])])))\n",
    "                spec_list_08_preds.append(currentpreds_all_count)\n",
    "                # Entire Period:\n",
    "                list_08_total.append(total)\n",
    "                list_08_profit.append(profit)\n",
    "                list_08_loss.append(loss)\n",
    "                list_08_trans.append(transaction_costs)\n",
    "                list_08_acc.append(acc_calc)\n",
    "                list_08_preds_corr.append(len(\n",
    "                    df_y_test_probaall[df_y_test_probaall['Class'] == df_y_test_probaall['y_pred']]))\n",
    "                list_08_preds.append(len(df_y_test_probaall))\n",
    "                zinseszins53.append(einsatz*(1+(int(total) / len(df_y_test_probaall)) / (\n",
    "                    df_y_test_probaall_withdailyreturns[\"Einsatz\"].sum() / len(df_y_test_probaall))) ** len(df_y_test_probaall))\n",
    "\n",
    "                current_zinseszins53.append(einsatz*(1+(int(currentpreds_total) / len(currentpreds_all)) / (\n",
    "                    currentpreds_all[\"Einsatz\"].sum() / len(currentpreds_all))) ** len(currentpreds_all))\n",
    "\n",
    "    except:\n",
    "        print(\"error\")\n",
    "    print()\n",
    "    print()\n"
   ]
  },
  {
   "cell_type": "code",
   "execution_count": null,
   "metadata": {
    "ExecuteTime": {
     "start_time": "2020-12-26T22:04:29.363Z"
    },
    "scrolled": true
   },
   "outputs": [],
   "source": [
    "import statistics"
   ]
  },
  {
   "cell_type": "code",
   "execution_count": null,
   "metadata": {
    "ExecuteTime": {
     "start_time": "2020-12-26T22:04:29.369Z"
    }
   },
   "outputs": [],
   "source": [
    "print( statistics.median(prestakepercentlist) )\n",
    "print( statistics.median(profitpercent) )\n",
    "print( statistics.median(zinseszins) )\n",
    "print( statistics.median(current_profitpercent) )\n",
    "print( statistics.median(current_zinseszins) )"
   ]
  },
  {
   "cell_type": "code",
   "execution_count": null,
   "metadata": {
    "ExecuteTime": {
     "start_time": "2020-12-26T22:04:29.376Z"
    }
   },
   "outputs": [],
   "source": [
    "print( statistics.median(prestakepercentlist51) )\n",
    "print( statistics.median(profitpercent51) )\n",
    "print( statistics.median(zinseszins51) )\n",
    "print( statistics.median(current_profitpercent51) )\n",
    "print( statistics.median(current_zinseszins51) )"
   ]
  },
  {
   "cell_type": "code",
   "execution_count": null,
   "metadata": {
    "ExecuteTime": {
     "start_time": "2020-12-26T22:04:29.382Z"
    }
   },
   "outputs": [],
   "source": [
    "print( statistics.median(prestakepercentlist52) )\n",
    "print( statistics.median(profitpercent52) )\n",
    "print( statistics.median(zinseszins52) )\n",
    "print( statistics.median(current_profitpercent52) )\n",
    "print( statistics.median(current_zinseszins52) )"
   ]
  },
  {
   "cell_type": "code",
   "execution_count": null,
   "metadata": {
    "ExecuteTime": {
     "start_time": "2020-12-26T22:04:29.388Z"
    }
   },
   "outputs": [],
   "source": [
    "print( statistics.median(prestakepercentlist53) )\n",
    "print( statistics.median(profitpercent53) )\n",
    "print( statistics.median(zinseszins53) )\n",
    "print( statistics.median(current_profitpercent53) )\n",
    "print( statistics.median(current_zinseszins53) )"
   ]
  },
  {
   "cell_type": "code",
   "execution_count": null,
   "metadata": {
    "ExecuteTime": {
     "start_time": "2020-12-26T22:04:29.394Z"
    }
   },
   "outputs": [],
   "source": [
    "current_profitpercent"
   ]
  },
  {
   "cell_type": "code",
   "execution_count": null,
   "metadata": {
    "ExecuteTime": {
     "start_time": "2020-12-26T22:04:29.401Z"
    }
   },
   "outputs": [],
   "source": [
    "currentpreds_all[\"Daily Return in USD\"][(\n",
    "    currentpreds_all['Class'] == currentpreds_all['y_pred'])].sort_values()"
   ]
  },
  {
   "cell_type": "code",
   "execution_count": null,
   "metadata": {
    "ExecuteTime": {
     "start_time": "2020-12-26T22:04:29.407Z"
    },
    "scrolled": true
   },
   "outputs": [],
   "source": [
    "currentpreds_all[\"Daily Return in USD\"][(\n",
    "    currentpreds_all['Class'] != currentpreds_all['y_pred'])].sort_values()"
   ]
  },
  {
   "cell_type": "code",
   "execution_count": null,
   "metadata": {},
   "outputs": [],
   "source": []
  },
  {
   "cell_type": "markdown",
   "metadata": {},
   "source": [
    "# Deepdive in prediction"
   ]
  },
  {
   "cell_type": "code",
   "execution_count": null,
   "metadata": {
    "ExecuteTime": {
     "start_time": "2020-12-26T22:04:29.418Z"
    }
   },
   "outputs": [],
   "source": [
    "current_profitpercent"
   ]
  },
  {
   "cell_type": "code",
   "execution_count": null,
   "metadata": {
    "ExecuteTime": {
     "start_time": "2020-12-26T22:04:29.424Z"
    }
   },
   "outputs": [],
   "source": [
    "profitpercent"
   ]
  },
  {
   "cell_type": "code",
   "execution_count": null,
   "metadata": {
    "ExecuteTime": {
     "start_time": "2020-12-26T22:04:29.430Z"
    }
   },
   "outputs": [],
   "source": [
    "df_y_test_withdailyreturns.sort_values(\"Daily Return in USD\")"
   ]
  },
  {
   "cell_type": "code",
   "execution_count": null,
   "metadata": {
    "ExecuteTime": {
     "start_time": "2020-12-26T22:04:29.437Z"
    }
   },
   "outputs": [],
   "source": [
    "df_y_test_withdailyreturns[df_y_test_withdailyreturns[\"Class\"] != df_y_test_withdailyreturns[\"y_pred\"]].abs().sum()"
   ]
  },
  {
   "cell_type": "code",
   "execution_count": null,
   "metadata": {
    "ExecuteTime": {
     "start_time": "2020-12-26T22:04:29.443Z"
    }
   },
   "outputs": [],
   "source": [
    "df_y_test_withdailyreturns[df_y_test_withdailyreturns[\"Class\"] == df_y_test_withdailyreturns[\"y_pred\"]].abs().sum()"
   ]
  },
  {
   "cell_type": "code",
   "execution_count": null,
   "metadata": {
    "ExecuteTime": {
     "start_time": "2020-12-26T22:04:29.449Z"
    }
   },
   "outputs": [],
   "source": [
    "dfrights = df_y_test_withdailyreturns[df_y_test_withdailyreturns[\"Class\"] == df_y_test_withdailyreturns[\"y_pred\"]]\n",
    "dfwrongs = df_y_test_withdailyreturns[df_y_test_withdailyreturns[\"Class\"] != df_y_test_withdailyreturns[\"y_pred\"]]"
   ]
  },
  {
   "cell_type": "code",
   "execution_count": null,
   "metadata": {
    "ExecuteTime": {
     "start_time": "2020-12-26T22:04:29.455Z"
    }
   },
   "outputs": [],
   "source": [
    "df_y_test_withdailyreturns = df_y_test_withdailyreturns.sort_index()\n",
    "df_y_test_withdailyreturns[\"dfrights\"] = np.where(df_y_test_withdailyreturns[\"Class\"] == df_y_test_withdailyreturns[\"y_pred\"], 1.0, 0.0)\n",
    "df_y_test_withdailyreturns.head()"
   ]
  },
  {
   "cell_type": "code",
   "execution_count": null,
   "metadata": {
    "ExecuteTime": {
     "start_time": "2020-12-26T22:04:29.461Z"
    }
   },
   "outputs": [],
   "source": [
    "df_y_test_withdailyreturns['gain'] = np.where(df_y_test_withdailyreturns[\"dfrights\"]==1.0, df_y_test_withdailyreturns[\"percentage_daily_return\"].abs(), -1*df_y_test_withdailyreturns[\"percentage_daily_return\"].abs() )\n",
    "df_y_test_withdailyreturns['gain_cumsum'] = df_y_test_withdailyreturns['gain'].cumsum()\n",
    "df_y_test_withdailyreturns['gain_cumsum']"
   ]
  },
  {
   "cell_type": "code",
   "execution_count": null,
   "metadata": {
    "ExecuteTime": {
     "start_time": "2020-12-26T22:04:29.467Z"
    }
   },
   "outputs": [],
   "source": [
    "import plotly.express as px\n",
    "\n",
    "fig = px.line(df_y_test_withdailyreturns, y=df_y_test_withdailyreturns['gain_cumsum'], title='Algo gains over time')\n",
    "fig.show()"
   ]
  }
 ],
 "metadata": {
  "kernelspec": {
   "display_name": "Python 3",
   "language": "python",
   "name": "python3"
  },
  "language_info": {
   "codemirror_mode": {
    "name": "ipython",
    "version": 3
   },
   "file_extension": ".py",
   "mimetype": "text/x-python",
   "name": "python",
   "nbconvert_exporter": "python",
   "pygments_lexer": "ipython3",
   "version": "3.8.5"
  },
  "toc": {
   "base_numbering": 1,
   "nav_menu": {},
   "number_sections": true,
   "sideBar": true,
   "skip_h1_title": false,
   "title_cell": "Table of Contents",
   "title_sidebar": "Contents",
   "toc_cell": true,
   "toc_position": {},
   "toc_section_display": true,
   "toc_window_display": false
  },
  "toc-autonumbering": true,
  "toc-showtags": false,
  "varInspector": {
   "cols": {
    "lenName": 16,
    "lenType": 16,
    "lenVar": 40
   },
   "kernels_config": {
    "python": {
     "delete_cmd_postfix": "",
     "delete_cmd_prefix": "del ",
     "library": "var_list.py",
     "varRefreshCmd": "print(var_dic_list())"
    },
    "r": {
     "delete_cmd_postfix": ") ",
     "delete_cmd_prefix": "rm(",
     "library": "var_list.r",
     "varRefreshCmd": "cat(var_dic_list()) "
    }
   },
   "types_to_exclude": [
    "module",
    "function",
    "builtin_function_or_method",
    "instance",
    "_Feature"
   ],
   "window_display": false
  }
 },
 "nbformat": 4,
 "nbformat_minor": 4
}
