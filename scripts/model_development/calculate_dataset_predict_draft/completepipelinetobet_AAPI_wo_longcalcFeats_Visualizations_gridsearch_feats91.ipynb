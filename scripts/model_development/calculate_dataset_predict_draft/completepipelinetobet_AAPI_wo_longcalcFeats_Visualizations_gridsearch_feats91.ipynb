{
 "cells": [
  {
   "cell_type": "markdown",
   "metadata": {
    "toc": true
   },
   "source": [
    "<h1>Table of Contents<span class=\"tocSkip\"></span></h1>\n",
    "<div class=\"toc\"><ul class=\"toc-item\"><li><span><a href=\"#Data-Preprocessing\" data-toc-modified-id=\"Data-Preprocessing-1\"><span class=\"toc-item-num\">1&nbsp;&nbsp;</span>Data Preprocessing</a></span><ul class=\"toc-item\"><li><span><a href=\"#Data-Import-via-Application-Programming-Interfaces\" data-toc-modified-id=\"Data-Import-via-Application-Programming-Interfaces-1.1\"><span class=\"toc-item-num\">1.1&nbsp;&nbsp;</span>Data Import via Application Programming Interfaces</a></span><ul class=\"toc-item\"><li><span><a href=\"#Blockchain-Data-from-Glassnode\" data-toc-modified-id=\"Blockchain-Data-from-Glassnode-1.1.1\"><span class=\"toc-item-num\">1.1.1&nbsp;&nbsp;</span>Blockchain Data from Glassnode</a></span><ul class=\"toc-item\"><li><span><a href=\"#Market-Metrics-from-Glassnode\" data-toc-modified-id=\"Market-Metrics-from-Glassnode-1.1.1.1\"><span class=\"toc-item-num\">1.1.1.1&nbsp;&nbsp;</span>Market Metrics from Glassnode</a></span></li><li><span><a href=\"#Mining-Metrics-from-Glassnode\" data-toc-modified-id=\"Mining-Metrics-from-Glassnode-1.1.1.2\"><span class=\"toc-item-num\">1.1.1.2&nbsp;&nbsp;</span>Mining Metrics from Glassnode</a></span></li><li><span><a href=\"#Blocks-Metrics-from-Glassnode\" data-toc-modified-id=\"Blocks-Metrics-from-Glassnode-1.1.1.3\"><span class=\"toc-item-num\">1.1.1.3&nbsp;&nbsp;</span>Blocks Metrics from Glassnode</a></span></li><li><span><a href=\"#Distribution-Metrics-from-Glassnode\" data-toc-modified-id=\"Distribution-Metrics-from-Glassnode-1.1.1.4\"><span class=\"toc-item-num\">1.1.1.4&nbsp;&nbsp;</span>Distribution Metrics from Glassnode</a></span></li><li><span><a href=\"#Fee-Metrics-from-Glassnode\" data-toc-modified-id=\"Fee-Metrics-from-Glassnode-1.1.1.5\"><span class=\"toc-item-num\">1.1.1.5&nbsp;&nbsp;</span>Fee Metrics from Glassnode</a></span></li><li><span><a href=\"#UTXO-Metrics-from-Glassnode\" data-toc-modified-id=\"UTXO-Metrics-from-Glassnode-1.1.1.6\"><span class=\"toc-item-num\">1.1.1.6&nbsp;&nbsp;</span>UTXO Metrics from Glassnode</a></span></li><li><span><a href=\"#Supply-Metrics-from-Glassnode\" data-toc-modified-id=\"Supply-Metrics-from-Glassnode-1.1.1.7\"><span class=\"toc-item-num\">1.1.1.7&nbsp;&nbsp;</span>Supply Metrics from Glassnode</a></span></li><li><span><a href=\"#Transaction-Metrics-from-Glassnode\" data-toc-modified-id=\"Transaction-Metrics-from-Glassnode-1.1.1.8\"><span class=\"toc-item-num\">1.1.1.8&nbsp;&nbsp;</span>Transaction Metrics from Glassnode</a></span></li><li><span><a href=\"#Exchange-Metrics-from-Glassnode---1-Month-Lag\" data-toc-modified-id=\"Exchange-Metrics-from-Glassnode---1-Month-Lag-1.1.1.9\"><span class=\"toc-item-num\">1.1.1.9&nbsp;&nbsp;</span>Exchange Metrics from Glassnode - 1 Month Lag</a></span></li><li><span><a href=\"#Indicator-I-Metrics-from-Glassnode\" data-toc-modified-id=\"Indicator-I-Metrics-from-Glassnode-1.1.1.10\"><span class=\"toc-item-num\">1.1.1.10&nbsp;&nbsp;</span>Indicator-I Metrics from Glassnode</a></span></li><li><span><a href=\"#Indicator-2-Metrics-from-Glassnode\" data-toc-modified-id=\"Indicator-2-Metrics-from-Glassnode-1.1.1.11\"><span class=\"toc-item-num\">1.1.1.11&nbsp;&nbsp;</span>Indicator-2 Metrics from Glassnode</a></span></li><li><span><a href=\"#Indicator-3-Metrics-from-Glassnode\" data-toc-modified-id=\"Indicator-3-Metrics-from-Glassnode-1.1.1.12\"><span class=\"toc-item-num\">1.1.1.12&nbsp;&nbsp;</span>Indicator-3 Metrics from Glassnode</a></span></li><li><span><a href=\"#Addresses-Metrics-from-Glassnode\" data-toc-modified-id=\"Addresses-Metrics-from-Glassnode-1.1.1.13\"><span class=\"toc-item-num\">1.1.1.13&nbsp;&nbsp;</span>Addresses Metrics from Glassnode</a></span></li><li><span><a href=\"#Futures-Metrics-from-Glassnode---Excluded-as-Data-Available-Only-Since-Feb-2020\" data-toc-modified-id=\"Futures-Metrics-from-Glassnode---Excluded-as-Data-Available-Only-Since-Feb-2020-1.1.1.14\"><span class=\"toc-item-num\">1.1.1.14&nbsp;&nbsp;</span>Futures Metrics from Glassnode - Excluded as Data Available Only Since Feb 2020</a></span><ul class=\"toc-item\"><li><span><a href=\"#List-of-Futures-Features\" data-toc-modified-id=\"List-of-Futures-Features-1.1.1.14.1\"><span class=\"toc-item-num\">1.1.1.14.1&nbsp;&nbsp;</span>List of Futures Features</a></span></li><li><span><a href=\"#Data-Frame-of-Future-features\" data-toc-modified-id=\"Data-Frame-of-Future-features-1.1.1.14.2\"><span class=\"toc-item-num\">1.1.1.14.2&nbsp;&nbsp;</span>Data Frame of Future features</a></span></li></ul></li></ul></li></ul></li><li><span><a href=\"#File-Import-and-Data-Tidying\" data-toc-modified-id=\"File-Import-and-Data-Tidying-1.2\"><span class=\"toc-item-num\">1.2&nbsp;&nbsp;</span>File Import and Data Tidying</a></span><ul class=\"toc-item\"><li><span><a href=\"#Import-Blockchain-CSV-Files\" data-toc-modified-id=\"Import-Blockchain-CSV-Files-1.2.1\"><span class=\"toc-item-num\">1.2.1&nbsp;&nbsp;</span>Import Blockchain CSV-Files</a></span><ul class=\"toc-item\"><li><span><a href=\"#Market-Metric-CSV-Files\" data-toc-modified-id=\"Market-Metric-CSV-Files-1.2.1.1\"><span class=\"toc-item-num\">1.2.1.1&nbsp;&nbsp;</span>Market Metric CSV-Files</a></span></li><li><span><a href=\"#Mining-Metric-CSV-Files\" data-toc-modified-id=\"Mining-Metric-CSV-Files-1.2.1.2\"><span class=\"toc-item-num\">1.2.1.2&nbsp;&nbsp;</span>Mining Metric CSV-Files</a></span></li><li><span><a href=\"#Blocks-Metric-CSV-Files\" data-toc-modified-id=\"Blocks-Metric-CSV-Files-1.2.1.3\"><span class=\"toc-item-num\">1.2.1.3&nbsp;&nbsp;</span>Blocks Metric CSV-Files</a></span></li><li><span><a href=\"#Distribution-Metric-CSV-Files\" data-toc-modified-id=\"Distribution-Metric-CSV-Files-1.2.1.4\"><span class=\"toc-item-num\">1.2.1.4&nbsp;&nbsp;</span>Distribution Metric CSV-Files</a></span></li><li><span><a href=\"#Fee-Metric-CSV-Files\" data-toc-modified-id=\"Fee-Metric-CSV-Files-1.2.1.5\"><span class=\"toc-item-num\">1.2.1.5&nbsp;&nbsp;</span>Fee Metric CSV-Files</a></span></li><li><span><a href=\"#UTXO-Metric-CSV-Files\" data-toc-modified-id=\"UTXO-Metric-CSV-Files-1.2.1.6\"><span class=\"toc-item-num\">1.2.1.6&nbsp;&nbsp;</span>UTXO Metric CSV-Files</a></span></li><li><span><a href=\"#Supply-Metric-CSV-Files\" data-toc-modified-id=\"Supply-Metric-CSV-Files-1.2.1.7\"><span class=\"toc-item-num\">1.2.1.7&nbsp;&nbsp;</span>Supply Metric CSV-Files</a></span></li><li><span><a href=\"#Transaction-Metric-CSV-Files\" data-toc-modified-id=\"Transaction-Metric-CSV-Files-1.2.1.8\"><span class=\"toc-item-num\">1.2.1.8&nbsp;&nbsp;</span>Transaction Metric CSV-Files</a></span></li><li><span><a href=\"#Exchange-Metrics-CSV-Files\" data-toc-modified-id=\"Exchange-Metrics-CSV-Files-1.2.1.9\"><span class=\"toc-item-num\">1.2.1.9&nbsp;&nbsp;</span>Exchange Metrics CSV-Files</a></span></li><li><span><a href=\"#Indicator-1-Metric-CSV-Files\" data-toc-modified-id=\"Indicator-1-Metric-CSV-Files-1.2.1.10\"><span class=\"toc-item-num\">1.2.1.10&nbsp;&nbsp;</span>Indicator-1 Metric CSV-Files</a></span></li><li><span><a href=\"#Indicator-2-Metrics-CSV-Files\" data-toc-modified-id=\"Indicator-2-Metrics-CSV-Files-1.2.1.11\"><span class=\"toc-item-num\">1.2.1.11&nbsp;&nbsp;</span>Indicator-2 Metrics CSV-Files</a></span></li><li><span><a href=\"#Indicator-3-Metrics-CSV-Files\" data-toc-modified-id=\"Indicator-3-Metrics-CSV-Files-1.2.1.12\"><span class=\"toc-item-num\">1.2.1.12&nbsp;&nbsp;</span>Indicator-3 Metrics CSV-Files</a></span></li><li><span><a href=\"#Addresses-Metric-CSV-Files\" data-toc-modified-id=\"Addresses-Metric-CSV-Files-1.2.1.13\"><span class=\"toc-item-num\">1.2.1.13&nbsp;&nbsp;</span>Addresses Metric CSV-Files</a></span></li><li><span><a href=\"#Futures-Metrics-CSV-Files---Excluded-as-Data-Available-Only-Since-Feb-2020\" data-toc-modified-id=\"Futures-Metrics-CSV-Files---Excluded-as-Data-Available-Only-Since-Feb-2020-1.2.1.14\"><span class=\"toc-item-num\">1.2.1.14&nbsp;&nbsp;</span>Futures Metrics CSV-Files - Excluded as Data Available Only Since Feb 2020</a></span><ul class=\"toc-item\"><li><span><a href=\"#List-of-Future-Features\" data-toc-modified-id=\"List-of-Future-Features-1.2.1.14.1\"><span class=\"toc-item-num\">1.2.1.14.1&nbsp;&nbsp;</span>List of Future Features</a></span></li><li><span><a href=\"#Counter-to-Differentiate-between-Data-Frame-Setup-and-Data-Frame-Extension\" data-toc-modified-id=\"Counter-to-Differentiate-between-Data-Frame-Setup-and-Data-Frame-Extension-1.2.1.14.2\"><span class=\"toc-item-num\">1.2.1.14.2&nbsp;&nbsp;</span>Counter to Differentiate between Data Frame Setup and Data Frame Extension</a></span></li><li><span><a href=\"#For-Loop-through-all-Features-in-the-List\" data-toc-modified-id=\"For-Loop-through-all-Features-in-the-List-1.2.1.14.3\"><span class=\"toc-item-num\">1.2.1.14.3&nbsp;&nbsp;</span>For Loop through all Features in the List</a></span></li><li><span><a href=\"#Store-Data-Frame-Copy-in-Market-Data-Frame\" data-toc-modified-id=\"Store-Data-Frame-Copy-in-Market-Data-Frame-1.2.1.14.4\"><span class=\"toc-item-num\">1.2.1.14.4&nbsp;&nbsp;</span>Store Data Frame Copy in Market Data Frame</a></span></li><li><span><a href=\"#Delete-Original-Data-Frame\" data-toc-modified-id=\"Delete-Original-Data-Frame-1.2.1.14.5\"><span class=\"toc-item-num\">1.2.1.14.5&nbsp;&nbsp;</span>Delete Original Data Frame</a></span></li><li><span><a href=\"#Change-Data-Type-of-Columns-to-Float\" data-toc-modified-id=\"Change-Data-Type-of-Columns-to-Float-1.2.1.14.6\"><span class=\"toc-item-num\">1.2.1.14.6&nbsp;&nbsp;</span>Change Data Type of Columns to Float</a></span></li></ul></li></ul></li></ul></li><li><span><a href=\"#Target-Variables\" data-toc-modified-id=\"Target-Variables-1.3\"><span class=\"toc-item-num\">1.3&nbsp;&nbsp;</span>Target Variables</a></span></li><li><span><a href=\"#Feature-Engineering\" data-toc-modified-id=\"Feature-Engineering-1.4\"><span class=\"toc-item-num\">1.4&nbsp;&nbsp;</span>Feature Engineering</a></span><ul class=\"toc-item\"><li><span><a href=\"#Volatility\" data-toc-modified-id=\"Volatility-1.4.1\"><span class=\"toc-item-num\">1.4.1&nbsp;&nbsp;</span>Volatility</a></span></li><li><span><a href=\"#Log-Price\" data-toc-modified-id=\"Log-Price-1.4.2\"><span class=\"toc-item-num\">1.4.2&nbsp;&nbsp;</span>Log Price</a></span></li></ul></li></ul></li><li><span><a href=\"#Data-Sets\" data-toc-modified-id=\"Data-Sets-2\"><span class=\"toc-item-num\">2&nbsp;&nbsp;</span>Data Sets</a></span><ul class=\"toc-item\"><li><span><a href=\"#Data-Set-I.---Blockchain-Metrics-Only\" data-toc-modified-id=\"Data-Set-I.---Blockchain-Metrics-Only-2.1\"><span class=\"toc-item-num\">2.1&nbsp;&nbsp;</span>Data Set I. - Blockchain Metrics Only</a></span></li></ul></li><li><span><a href=\"#Classification-Models---Data-Set-Variations\" data-toc-modified-id=\"Classification-Models---Data-Set-Variations-3\"><span class=\"toc-item-num\">3&nbsp;&nbsp;</span>Classification Models - Data Set Variations</a></span></li><li><span><a href=\"#Import-Data-Sets\" data-toc-modified-id=\"Import-Data-Sets-4\"><span class=\"toc-item-num\">4&nbsp;&nbsp;</span>Import Data Sets</a></span><ul class=\"toc-item\"><li><span><a href=\"#Data-Set-I.\" data-toc-modified-id=\"Data-Set-I.-4.1\"><span class=\"toc-item-num\">4.1&nbsp;&nbsp;</span>Data Set I.</a></span></li><li><span><a href=\"#Prediction-Shift\" data-toc-modified-id=\"Prediction-Shift-4.2\"><span class=\"toc-item-num\">4.2&nbsp;&nbsp;</span>Prediction Shift</a></span><ul class=\"toc-item\"><li><span><a href=\"#Data-Set-I.\" data-toc-modified-id=\"Data-Set-I.-4.2.1\"><span class=\"toc-item-num\">4.2.1&nbsp;&nbsp;</span>Data Set I.</a></span></li></ul></li></ul></li><li><span><a href=\"#Classification-Setup\" data-toc-modified-id=\"Classification-Setup-5\"><span class=\"toc-item-num\">5&nbsp;&nbsp;</span>Classification Setup</a></span><ul class=\"toc-item\"><li><span><a href=\"#Create-Data-Set-Copies-for-Trading-Strategy\" data-toc-modified-id=\"Create-Data-Set-Copies-for-Trading-Strategy-5.1\"><span class=\"toc-item-num\">5.1&nbsp;&nbsp;</span>Create Data Set Copies for Trading Strategy</a></span></li><li><span><a href=\"#Categorization---Data-Set-I.\" data-toc-modified-id=\"Categorization---Data-Set-I.-5.2\"><span class=\"toc-item-num\">5.2&nbsp;&nbsp;</span>Categorization - Data Set I.</a></span></li></ul></li><li><span><a href=\"#Model-Preparation---Data-Set-I.\" data-toc-modified-id=\"Model-Preparation---Data-Set-I.-6\"><span class=\"toc-item-num\">6&nbsp;&nbsp;</span>Model Preparation - Data Set I.</a></span><ul class=\"toc-item\"><li><span><a href=\"#Train-Test-Split---Data-Set-I.\" data-toc-modified-id=\"Train-Test-Split---Data-Set-I.-6.1\"><span class=\"toc-item-num\">6.1&nbsp;&nbsp;</span>Train Test Split - Data Set I.</a></span><ul class=\"toc-item\"><li><span><a href=\"#Check-of-Class-Balance\" data-toc-modified-id=\"Check-of-Class-Balance-6.1.1\"><span class=\"toc-item-num\">6.1.1&nbsp;&nbsp;</span>Check of Class Balance</a></span></li></ul></li></ul></li><li><span><a href=\"#Visualize-pred-vs-reality\" data-toc-modified-id=\"Visualize-pred-vs-reality-7\"><span class=\"toc-item-num\">7&nbsp;&nbsp;</span>Visualize pred vs reality</a></span></li><li><span><a href=\"#Hyperparam-tuning-ranfo\" data-toc-modified-id=\"Hyperparam-tuning-ranfo-8\"><span class=\"toc-item-num\">8&nbsp;&nbsp;</span>Hyperparam tuning ranfo</a></span></li><li><span><a href=\"#Evaluate-Random-Search\" data-toc-modified-id=\"Evaluate-Random-Search-9\"><span class=\"toc-item-num\">9&nbsp;&nbsp;</span>Evaluate Random Search</a></span></li><li><span><a href=\"#Grid-Search-with-Cross-Validation\" data-toc-modified-id=\"Grid-Search-with-Cross-Validation-10\"><span class=\"toc-item-num\">10&nbsp;&nbsp;</span>Grid Search with Cross Validation</a></span></li><li><span><a href=\"#second-grid\" data-toc-modified-id=\"second-grid-11\"><span class=\"toc-item-num\">11&nbsp;&nbsp;</span>second grid</a></span></li><li><span><a href=\"#third-grid\" data-toc-modified-id=\"third-grid-12\"><span class=\"toc-item-num\">12&nbsp;&nbsp;</span>third grid</a></span></li><li><span><a href=\"#forth-grid\" data-toc-modified-id=\"forth-grid-13\"><span class=\"toc-item-num\">13&nbsp;&nbsp;</span>forth grid</a></span></li><li><span><a href=\"#Feature-Selection-random-forest\" data-toc-modified-id=\"Feature-Selection-random-forest-14\"><span class=\"toc-item-num\">14&nbsp;&nbsp;</span>Feature Selection random forest</a></span></li><li><span><a href=\"#XGBoost\" data-toc-modified-id=\"XGBoost-15\"><span class=\"toc-item-num\">15&nbsp;&nbsp;</span>XGBoost</a></span></li><li><span><a href=\"#XGBoost\" data-toc-modified-id=\"XGBoost-16\"><span class=\"toc-item-num\">16&nbsp;&nbsp;</span>XGBoost</a></span></li><li><span><a href=\"#XGBoost-3-TORUN!\" data-toc-modified-id=\"XGBoost-3-TORUN!-17\"><span class=\"toc-item-num\">17&nbsp;&nbsp;</span>XGBoost 3 TORUN!</a></span><ul class=\"toc-item\"><li><span><a href=\"#Feature-Scaling---Data-Set-I.\" data-toc-modified-id=\"Feature-Scaling---Data-Set-I.-17.1\"><span class=\"toc-item-num\">17.1&nbsp;&nbsp;</span>Feature Scaling - Data Set I.</a></span></li></ul></li><li><span><a href=\"#Classification-Models---Data-Set-I.\" data-toc-modified-id=\"Classification-Models---Data-Set-I.-18\"><span class=\"toc-item-num\">18&nbsp;&nbsp;</span>Classification Models - Data Set I.</a></span><ul class=\"toc-item\"><li><span><a href=\"#Logistic-Regression---Data-Set-I.\" data-toc-modified-id=\"Logistic-Regression---Data-Set-I.-18.1\"><span class=\"toc-item-num\">18.1&nbsp;&nbsp;</span>Logistic Regression - Data Set I.</a></span></li><li><span><a href=\"#Random-Forest-Classifier---Data-Set-I.\" data-toc-modified-id=\"Random-Forest-Classifier---Data-Set-I.-18.2\"><span class=\"toc-item-num\">18.2&nbsp;&nbsp;</span>Random Forest Classifier - Data Set I.</a></span></li></ul></li><li><span><a href=\"#Trading-Strategy---Data-Set-I\" data-toc-modified-id=\"Trading-Strategy---Data-Set-I-19\"><span class=\"toc-item-num\">19&nbsp;&nbsp;</span>Trading Strategy - Data Set I</a></span><ul class=\"toc-item\"><li><span><a href=\"#Trading-Strategy-in-Combination-with-Logistic-Regression\" data-toc-modified-id=\"Trading-Strategy-in-Combination-with-Logistic-Regression-19.1\"><span class=\"toc-item-num\">19.1&nbsp;&nbsp;</span>Trading Strategy in Combination with Logistic Regression</a></span></li></ul></li><li><span><a href=\"#Deepdive-in-prediction\" data-toc-modified-id=\"Deepdive-in-prediction-20\"><span class=\"toc-item-num\">20&nbsp;&nbsp;</span>Deepdive in prediction</a></span></li><li><span><a href=\"#Bet-on-tomorrow\" data-toc-modified-id=\"Bet-on-tomorrow-21\"><span class=\"toc-item-num\">21&nbsp;&nbsp;</span>Bet on tomorrow</a></span></li><li><span><a href=\"#get-x-train-data-of-today-to-predict-tomorrow-y\" data-toc-modified-id=\"get-x-train-data-of-today-to-predict-tomorrow-y-22\"><span class=\"toc-item-num\">22&nbsp;&nbsp;</span>get x train data of today to predict tomorrow y</a></span></li><li><span><a href=\"#Binance-Trading-Bot-execution!\" data-toc-modified-id=\"Binance-Trading-Bot-execution!-23\"><span class=\"toc-item-num\">23&nbsp;&nbsp;</span>Binance Trading Bot execution!</a></span></li><li><span><a href=\"#Store-DF-of-the-one-prediction-in-database\" data-toc-modified-id=\"Store-DF-of-the-one-prediction-in-database-24\"><span class=\"toc-item-num\">24&nbsp;&nbsp;</span>Store DF of the one prediction in database</a></span></li></ul></div>"
   ]
  },
  {
   "cell_type": "markdown",
   "metadata": {},
   "source": [
    "# Data Preprocessing"
   ]
  },
  {
   "cell_type": "markdown",
   "metadata": {},
   "source": [
    "## Data Import via Application Programming Interfaces"
   ]
  },
  {
   "cell_type": "code",
   "execution_count": 1,
   "metadata": {
    "ExecuteTime": {
     "end_time": "2020-12-26T15:40:11.358716Z",
     "start_time": "2020-12-26T15:40:10.432159Z"
    },
    "scrolled": true
   },
   "outputs": [],
   "source": [
    "# Import of Modules and Packages\n",
    "import os\n",
    "import requests\n",
    "import json\n",
    "import datetime\n",
    "import yfinance as yf\n",
    "import time\n",
    "\n",
    "import numpy as np\n",
    "import pandas as pd\n",
    "import matplotlib.pyplot as plt\n",
    "\n",
    "from pytrends.request import TrendReq\n",
    "from pytrends import dailydata"
   ]
  },
  {
   "cell_type": "code",
   "execution_count": 2,
   "metadata": {
    "ExecuteTime": {
     "end_time": "2020-12-26T15:40:11.374641Z",
     "start_time": "2020-12-26T15:40:11.360688Z"
    }
   },
   "outputs": [],
   "source": [
    "# Adjustment of Decimal Places\n",
    "pd.options.display.float_format = '{:.2f}'.format"
   ]
  },
  {
   "cell_type": "code",
   "execution_count": 3,
   "metadata": {
    "ExecuteTime": {
     "end_time": "2020-12-26T15:40:11.390061Z",
     "start_time": "2020-12-26T15:40:11.378774Z"
    }
   },
   "outputs": [],
   "source": [
    "# Glassnode API Key\n",
    "API_Key = ''"
   ]
  },
  {
   "cell_type": "code",
   "execution_count": 4,
   "metadata": {
    "ExecuteTime": {
     "end_time": "2020-12-26T15:40:11.405561Z",
     "start_time": "2020-12-26T15:40:11.393591Z"
    }
   },
   "outputs": [],
   "source": [
    "#os.chdir('\\\\github_repo\\\\JupyterLabDir\\\\Rest\\\\MA BTC\\\\Markus_Code_MA_final\\\\20201010\\\\Glassnode')"
   ]
  },
  {
   "cell_type": "code",
   "execution_count": 5,
   "metadata": {
    "ExecuteTime": {
     "end_time": "2020-12-26T15:40:11.421551Z",
     "start_time": "2020-12-26T15:40:11.407556Z"
    }
   },
   "outputs": [
    {
     "data": {
      "text/plain": [
       "'C:\\\\Users\\\\markus.gebele\\\\github_repo\\\\JupyterLabDir\\\\Rest\\\\MA BTC\\\\Markus_Code_MA_final\\\\20201010'"
      ]
     },
     "execution_count": 5,
     "metadata": {},
     "output_type": "execute_result"
    }
   ],
   "source": [
    "os.getcwd()"
   ]
  },
  {
   "cell_type": "code",
   "execution_count": 6,
   "metadata": {
    "ExecuteTime": {
     "end_time": "2020-12-26T15:40:11.437473Z",
     "start_time": "2020-12-26T15:40:11.423511Z"
    }
   },
   "outputs": [],
   "source": [
    "#os.chdir('C:\\\\Users\\\\markus.gebele\\\\github_repo\\\\JupyterLabDir\\\\Rest\\\\MA BTC\\\\Markus_Code_MA_final\\\\20201010\\\\Glassnode')"
   ]
  },
  {
   "cell_type": "markdown",
   "metadata": {},
   "source": [
    "### Blockchain Data from Glassnode"
   ]
  },
  {
   "cell_type": "code",
   "execution_count": 7,
   "metadata": {
    "ExecuteTime": {
     "end_time": "2020-12-26T15:40:11.453430Z",
     "start_time": "2020-12-26T15:40:11.439468Z"
    }
   },
   "outputs": [],
   "source": [
    "# Import Function for a Single Feature Variable from Glassnode\n",
    "def import_glassnode (url, feature_name):\n",
    "    data = requests.get(url).json()\n",
    "    df = pd.json_normalize(data)\n",
    "    \n",
    "    # Rename columns\n",
    "    df.columns = ['Date', feature_name]\n",
    "   \n",
    "    # Convert Object to Datetime Object\n",
    "    df.Date = pd.to_datetime(df.Date, unit='s')\n",
    "    df.Date = df.Date.map(lambda x: x.strftime('%Y-%m-%d'))\n",
    "    \n",
    "    # Set Date Column as Index\n",
    "    df.set_index('Date', inplace=True)\n",
    "    \n",
    "    # Drop Missing Values\n",
    "    df = df.dropna()\n",
    "    \n",
    "    # Change Data Type to Float\n",
    "    df = df.astype(float)\n",
    "    \n",
    "    # Creation of CSV-File, Part of Feature Name as CSV File Name \n",
    "    df.to_csv(\"{}.csv\".format(feature_name.rsplit('/')[-1]), decimal=',')\n",
    "    \n",
    "    # Plot of DataFrame\n",
    "    #df.plot(figsize=(4.5, 1.75))\n",
    "    #plt.xticks(rotation=45)\n",
    "    return df"
   ]
  },
  {
   "cell_type": "code",
   "execution_count": 8,
   "metadata": {
    "ExecuteTime": {
     "end_time": "2020-12-26T15:40:11.469393Z",
     "start_time": "2020-12-26T15:40:11.456425Z"
    }
   },
   "outputs": [],
   "source": [
    "# Import Function for Several Feature Variables from Glassnode\n",
    "def import_glassnode_many(feature_list):\n",
    "    # Counter to Differentiate between Data Frame Setup and Data Frame Join\n",
    "    counter=0\n",
    "    \n",
    "    # For Loop through all Features in the List\n",
    "    for feature in feature_list:\n",
    "        \n",
    "        # URL\n",
    "        url = 'https://api.glassnode.com/v1/metrics/{}?a=btc&f=json&api_key={}'.format(feature, API_Key)\n",
    "        \n",
    "        # Execute Import Function for a Single Feature Variable\n",
    "        df=import_glassnode(url, feature)\n",
    "        \n",
    "        # Display Data Frame Tail\n",
    "        print(df.tail())\n",
    "        \n",
    "        # Condition - Data Frame Set up or Data Frame Join\n",
    "        if counter > 0:\n",
    "            \n",
    "            # Data Frame Join\n",
    "            df_new = df_new.join(df, how='inner')   \n",
    "        \n",
    "        else:\n",
    "            \n",
    "            # Data Frame Setup\n",
    "            df_new = df\n",
    "        \n",
    "        # Increase Counter\n",
    "        counter +=1\n",
    "    \n",
    "    return df_new"
   ]
  },
  {
   "cell_type": "markdown",
   "metadata": {},
   "source": [
    "#### Market Metrics from Glassnode"
   ]
  },
  {
   "cell_type": "code",
   "execution_count": 9,
   "metadata": {
    "ExecuteTime": {
     "end_time": "2020-12-26T15:40:11.485345Z",
     "start_time": "2020-12-26T15:40:11.471384Z"
    }
   },
   "outputs": [],
   "source": [
    "# List of Market Features\n",
    "market_feature_list = ['market/price_usd_close', 'market/price_drawdown_relative', 'market/price_realized_usd', 'market/mvrv']"
   ]
  },
  {
   "cell_type": "code",
   "execution_count": 10,
   "metadata": {
    "ExecuteTime": {
     "end_time": "2020-12-26T15:41:14.953421Z",
     "start_time": "2020-12-26T15:40:11.487340Z"
    }
   },
   "outputs": [
    {
     "name": "stdout",
     "output_type": "stream",
     "text": [
      "            market/price_usd_close\n",
      "Date                              \n",
      "2020-12-22                23758.93\n",
      "2020-12-23                23279.55\n",
      "2020-12-24                23764.75\n",
      "2020-12-25                24688.21\n",
      "2020-12-26                25506.37\n",
      "            market/price_drawdown_relative\n",
      "Date                                      \n",
      "2020-12-21                           -0.05\n",
      "2020-12-22                           -0.02\n",
      "2020-12-23                           -0.04\n",
      "2020-12-24                           -0.02\n",
      "2020-12-25                           -0.00\n",
      "            market/price_realized_usd\n",
      "Date                                 \n",
      "2020-12-21                    8205.79\n",
      "2020-12-22                    8286.35\n",
      "2020-12-23                    8375.79\n",
      "2020-12-24                    8448.07\n",
      "2020-12-25                    8467.17\n",
      "            market/mvrv\n",
      "Date                   \n",
      "2020-12-21         2.83\n",
      "2020-12-22         2.79\n",
      "2020-12-23         2.81\n",
      "2020-12-24         2.75\n",
      "2020-12-25         2.84\n"
     ]
    }
   ],
   "source": [
    "try: \n",
    "    # Data Frame of Market Features\n",
    "    df_market = import_glassnode_many(market_feature_list)\n",
    "except:\n",
    "    time.sleep(60)\n",
    "    df_market = import_glassnode_many(market_feature_list)"
   ]
  },
  {
   "cell_type": "markdown",
   "metadata": {},
   "source": [
    "#### Mining Metrics from Glassnode"
   ]
  },
  {
   "cell_type": "code",
   "execution_count": 11,
   "metadata": {
    "ExecuteTime": {
     "end_time": "2020-12-26T15:41:14.969417Z",
     "start_time": "2020-12-26T15:41:14.954433Z"
    }
   },
   "outputs": [],
   "source": [
    "# List of Mining Features    #'mining/revenue_sum',\n",
    "mining_feature_list = ['mining/difficulty_latest', 'mining/hash_rate_mean', 'mining/marketcap_thermocap_ratio']"
   ]
  },
  {
   "cell_type": "code",
   "execution_count": 12,
   "metadata": {
    "ExecuteTime": {
     "end_time": "2020-12-26T15:41:16.383366Z",
     "start_time": "2020-12-26T15:41:14.970380Z"
    }
   },
   "outputs": [
    {
     "name": "stdout",
     "output_type": "stream",
     "text": [
      "             mining/difficulty_latest\n",
      "Date                                 \n",
      "2020-12-21 80187763369133704478720.00\n",
      "2020-12-22 80187763369133704478720.00\n",
      "2020-12-23 80187763369133704478720.00\n",
      "2020-12-24 80187763369133704478720.00\n",
      "2020-12-25 80187763369133704478720.00\n",
      "              mining/hash_rate_mean\n",
      "Date                               \n",
      "2020-12-21 125467801265571004416.00\n",
      "2020-12-22 132165952003620995072.00\n",
      "2020-12-23 146111617294112997376.00\n",
      "2020-12-24 114954071251531005952.00\n",
      "2020-12-25 133658648082637996032.00\n",
      "            mining/marketcap_thermocap_ratio\n",
      "Date                                        \n",
      "2020-12-21                              0.00\n",
      "2020-12-22                              0.00\n",
      "2020-12-23                              0.00\n",
      "2020-12-24                              0.00\n",
      "2020-12-25                              0.00\n"
     ]
    }
   ],
   "source": [
    "# Data Frame of Mining Features\n",
    "df_mining = import_glassnode_many(mining_feature_list)"
   ]
  },
  {
   "cell_type": "markdown",
   "metadata": {},
   "source": [
    "#### Blocks Metrics from Glassnode"
   ]
  },
  {
   "cell_type": "code",
   "execution_count": 13,
   "metadata": {
    "ExecuteTime": {
     "end_time": "2020-12-26T15:41:16.399412Z",
     "start_time": "2020-12-26T15:41:16.384383Z"
    }
   },
   "outputs": [],
   "source": [
    "# List of Blockchain Features\n",
    "blockchain_feature_list = ['blockchain/block_count', 'blockchain/block_interval_mean', 'blockchain/block_size_sum']"
   ]
  },
  {
   "cell_type": "code",
   "execution_count": 14,
   "metadata": {
    "ExecuteTime": {
     "end_time": "2020-12-26T15:41:17.432893Z",
     "start_time": "2020-12-26T15:41:16.401317Z"
    }
   },
   "outputs": [
    {
     "name": "stdout",
     "output_type": "stream",
     "text": [
      "            blockchain/block_count\n",
      "Date                              \n",
      "2020-12-21                  136.00\n",
      "2020-12-22                  143.00\n",
      "2020-12-23                  154.00\n",
      "2020-12-24                  126.00\n",
      "2020-12-25                  144.00\n",
      "            blockchain/block_interval_mean\n",
      "Date                                      \n",
      "2020-12-21                          639.11\n",
      "2020-12-22                          606.72\n",
      "2020-12-23                          548.81\n",
      "2020-12-24                          697.56\n",
      "2020-12-25                          599.94\n",
      "            blockchain/block_size_sum\n",
      "Date                                 \n",
      "2020-12-21               182970116.00\n",
      "2020-12-22               186197300.00\n",
      "2020-12-23               191926648.00\n",
      "2020-12-24               160033350.00\n",
      "2020-12-25               185161562.00\n"
     ]
    }
   ],
   "source": [
    "# Data Frame of Blockchain Features\n",
    "df_blockchainfeatures = import_glassnode_many(blockchain_feature_list)"
   ]
  },
  {
   "cell_type": "markdown",
   "metadata": {},
   "source": [
    "#### Distribution Metrics from Glassnode "
   ]
  },
  {
   "cell_type": "code",
   "execution_count": 15,
   "metadata": {
    "ExecuteTime": {
     "end_time": "2020-12-26T15:41:17.448855Z",
     "start_time": "2020-12-26T15:41:17.433856Z"
    }
   },
   "outputs": [],
   "source": [
    "# List of Distribution Features\n",
    "#distribution_feature_list = ['distribution/balance_1pct_holders', 'distribution/gini', 'distribution/herfindahl'] #"
   ]
  },
  {
   "cell_type": "code",
   "execution_count": 16,
   "metadata": {
    "ExecuteTime": {
     "end_time": "2020-12-26T15:41:17.464812Z",
     "start_time": "2020-12-26T15:41:17.449845Z"
    }
   },
   "outputs": [],
   "source": [
    "# Data Frame of Distribution Features\n",
    "#df_distribution = import_glassnode_many(distribution_feature_list)"
   ]
  },
  {
   "cell_type": "markdown",
   "metadata": {},
   "source": [
    "#### Fee Metrics from Glassnode "
   ]
  },
  {
   "cell_type": "code",
   "execution_count": 17,
   "metadata": {
    "ExecuteTime": {
     "end_time": "2020-12-26T15:41:17.480770Z",
     "start_time": "2020-12-26T15:41:17.466820Z"
    }
   },
   "outputs": [],
   "source": [
    "# List of Fee Features\n",
    "fees_feature_list = ['fees/volume_sum', 'fees/volume_mean', 'fees/fee_ratio_multiple']"
   ]
  },
  {
   "cell_type": "code",
   "execution_count": 18,
   "metadata": {
    "ExecuteTime": {
     "end_time": "2020-12-26T15:41:18.741377Z",
     "start_time": "2020-12-26T15:41:17.481727Z"
    }
   },
   "outputs": [
    {
     "name": "stdout",
     "output_type": "stream",
     "text": [
      "            fees/volume_sum\n",
      "Date                       \n",
      "2020-12-21           138.56\n",
      "2020-12-22           133.03\n",
      "2020-12-23           143.04\n",
      "2020-12-24           106.43\n",
      "2020-12-25            92.48\n",
      "            fees/volume_mean\n",
      "Date                        \n",
      "2020-12-21              0.00\n",
      "2020-12-22              0.00\n",
      "2020-12-23              0.00\n",
      "2020-12-24              0.00\n",
      "2020-12-25              0.00\n",
      "            fees/fee_ratio_multiple\n",
      "Date                               \n",
      "2020-12-21                     7.13\n",
      "2020-12-22                     7.72\n",
      "2020-12-23                     7.73\n",
      "2020-12-24                     8.40\n",
      "2020-12-25                    10.73\n"
     ]
    }
   ],
   "source": [
    "# Data Frame of Fee Features\n",
    "df_fees = import_glassnode_many(fees_feature_list)"
   ]
  },
  {
   "cell_type": "markdown",
   "metadata": {},
   "source": [
    "#### UTXO Metrics from Glassnode"
   ]
  },
  {
   "cell_type": "code",
   "execution_count": 19,
   "metadata": {
    "ExecuteTime": {
     "end_time": "2020-12-26T15:41:18.756790Z",
     "start_time": "2020-12-26T15:41:18.742827Z"
    }
   },
   "outputs": [],
   "source": [
    "# List of UTXO Features\n",
    "utxo_feature_list = ['blockchain/utxo_created_count', 'blockchain/utxo_spent_count', 'blockchain/utxo_created_value_sum', 'blockchain/utxo_spent_value_sum', 'blockchain/utxo_profit_relative', 'blockchain/utxo_profit_count', 'blockchain/utxo_loss_count']"
   ]
  },
  {
   "cell_type": "code",
   "execution_count": 20,
   "metadata": {
    "ExecuteTime": {
     "end_time": "2020-12-26T15:41:21.321305Z",
     "start_time": "2020-12-26T15:41:18.757787Z"
    }
   },
   "outputs": [
    {
     "name": "stdout",
     "output_type": "stream",
     "text": [
      "            blockchain/utxo_created_count\n",
      "Date                                     \n",
      "2020-12-21                      801093.00\n",
      "2020-12-22                      940355.00\n",
      "2020-12-23                     1000784.00\n",
      "2020-12-24                      813920.00\n",
      "2020-12-25                      847493.00\n",
      "            blockchain/utxo_spent_count\n",
      "Date                                   \n",
      "2020-12-21                    872946.00\n",
      "2020-12-22                    881579.00\n",
      "2020-12-23                    910566.00\n",
      "2020-12-24                    767276.00\n",
      "2020-12-25                    901673.00\n",
      "            blockchain/utxo_created_value_sum\n",
      "Date                                         \n",
      "2020-12-21                         1743577.76\n",
      "2020-12-22                         2040795.08\n",
      "2020-12-23                         2006004.46\n",
      "2020-12-24                         2115162.46\n",
      "2020-12-25                         2043474.79\n",
      "            blockchain/utxo_spent_value_sum\n",
      "Date                                       \n",
      "2020-12-21                       1742727.76\n",
      "2020-12-22                       2039901.33\n",
      "2020-12-23                       2005041.96\n",
      "2020-12-24                       2114374.96\n",
      "2020-12-25                       2042574.79\n",
      "            blockchain/utxo_profit_relative\n",
      "Date                                       \n",
      "2020-12-21                             0.99\n",
      "2020-12-22                             1.00\n",
      "2020-12-23                             0.99\n",
      "2020-12-24                             1.00\n",
      "2020-12-25                             1.00\n",
      "            blockchain/utxo_profit_count\n",
      "Date                                    \n",
      "2020-12-21                  114356011.00\n",
      "2020-12-22                  115536726.00\n",
      "2020-12-23                  114621933.00\n",
      "2020-12-24                  115675765.00\n",
      "2020-12-25                  115850112.00\n",
      "            blockchain/utxo_loss_count\n",
      "Date                                  \n",
      "2020-12-21                  1357129.00\n",
      "2020-12-22                   228390.00\n",
      "2020-12-23                  1240201.00\n",
      "2020-12-24                   233013.00\n",
      "2020-12-25                     4486.00\n"
     ]
    }
   ],
   "source": [
    "# Data Frame of UTXO Features\n",
    "df_utxo = import_glassnode_many(utxo_feature_list)"
   ]
  },
  {
   "cell_type": "code",
   "execution_count": null,
   "metadata": {},
   "outputs": [],
   "source": []
  },
  {
   "cell_type": "markdown",
   "metadata": {},
   "source": [
    "#### Supply Metrics from Glassnode"
   ]
  },
  {
   "cell_type": "code",
   "execution_count": 21,
   "metadata": {
    "ExecuteTime": {
     "end_time": "2020-12-26T15:41:21.337263Z",
     "start_time": "2020-12-26T15:41:21.322267Z"
    }
   },
   "outputs": [],
   "source": [
    "# List of Supply Features\n",
    "supply_feature_list = ['supply/current','supply/profit_relative', 'supply/profit_sum', 'supply/loss_sum', 'supply/active_more_1y_percent', 'supply/active_more_2y_percent', 'supply/active_more_3y_percent', 'supply/active_more_5y_percent', 'supply/active_24h', 'supply/active_1d_1w', 'supply/active_1w_1m', 'supply/active_1m_3m', 'supply/active_3m_6m', 'supply/active_6m_12m', 'supply/active_1y_2y', 'supply/active_2y_3y', 'supply/active_3y_5y', 'supply/active_5y_7y', 'supply/active_7y_10y', 'supply/active_more_10y', 'supply/issued', 'supply/inflation_rate']"
   ]
  },
  {
   "cell_type": "code",
   "execution_count": 22,
   "metadata": {
    "ExecuteTime": {
     "end_time": "2020-12-26T15:41:30.161740Z",
     "start_time": "2020-12-26T15:41:21.338224Z"
    }
   },
   "outputs": [
    {
     "name": "stdout",
     "output_type": "stream",
     "text": [
      "            supply/current\n",
      "Date                      \n",
      "2020-12-21     18577568.75\n",
      "2020-12-22     18578462.50\n",
      "2020-12-23     18579425.00\n",
      "2020-12-24     18580212.50\n",
      "2020-12-25     18581112.50\n",
      "            supply/profit_relative\n",
      "Date                              \n",
      "2020-12-21                    0.96\n",
      "2020-12-22                    0.99\n",
      "2020-12-23                    0.97\n",
      "2020-12-24                    0.99\n",
      "2020-12-25                    1.00\n",
      "            supply/profit_sum\n",
      "Date                         \n",
      "2020-12-21        17830745.43\n",
      "2020-12-22        18450395.77\n",
      "2020-12-23        17966047.10\n",
      "2020-12-24        18470314.54\n",
      "2020-12-25        18550682.86\n",
      "            supply/loss_sum\n",
      "Date                       \n",
      "2020-12-21        733852.91\n",
      "2020-12-22         95579.73\n",
      "2020-12-23        600407.49\n",
      "2020-12-24         96927.55\n",
      "2020-12-25         17459.23\n",
      "            supply/active_more_1y_percent\n",
      "Date                                     \n",
      "2020-12-21                           0.60\n",
      "2020-12-22                           0.60\n",
      "2020-12-23                           0.60\n",
      "2020-12-24                           0.60\n",
      "2020-12-25                           0.60\n",
      "            supply/active_more_2y_percent\n",
      "Date                                     \n",
      "2020-12-21                           0.47\n",
      "2020-12-22                           0.47\n",
      "2020-12-23                           0.47\n",
      "2020-12-24                           0.47\n",
      "2020-12-25                           0.47\n",
      "            supply/active_more_3y_percent\n",
      "Date                                     \n",
      "2020-12-21                           0.34\n",
      "2020-12-22                           0.34\n",
      "2020-12-23                           0.34\n",
      "2020-12-24                           0.34\n",
      "2020-12-25                           0.34\n",
      "            supply/active_more_5y_percent\n",
      "Date                                     \n",
      "2020-12-21                           0.22\n",
      "2020-12-22                           0.22\n",
      "2020-12-23                           0.22\n",
      "2020-12-24                           0.22\n",
      "2020-12-25                           0.22\n",
      "            supply/active_24h\n",
      "Date                         \n",
      "2020-12-21          287238.62\n",
      "2020-12-22          375438.88\n",
      "2020-12-23          337956.51\n",
      "2020-12-24          377139.14\n",
      "2020-12-25          160312.63\n",
      "            supply/active_1d_1w\n",
      "Date                           \n",
      "2020-12-21            948249.10\n",
      "2020-12-22            928000.85\n",
      "2020-12-23           1028577.91\n",
      "2020-12-24            940901.18\n",
      "2020-12-25            935645.66\n",
      "            supply/active_1w_1m\n",
      "Date                           \n",
      "2020-12-21           1210315.83\n",
      "2020-12-22           1219032.14\n",
      "2020-12-23           1212465.10\n",
      "2020-12-24           1298274.56\n",
      "2020-12-25           1500195.53\n",
      "            supply/active_1m_3m\n",
      "Date                           \n",
      "2020-12-21           2025418.74\n",
      "2020-12-22           2020672.60\n",
      "2020-12-23           2030709.83\n",
      "2020-12-24           2012413.75\n",
      "2020-12-25           2034790.12\n",
      "            supply/active_3m_6m\n",
      "Date                           \n",
      "2020-12-21           1195285.82\n",
      "2020-12-22           1195736.44\n",
      "2020-12-23           1184297.60\n",
      "2020-12-24           1192682.92\n",
      "2020-12-25           1193118.53\n",
      "            supply/active_6m_12m\n",
      "Date                            \n",
      "2020-12-21            1780498.06\n",
      "2020-12-22            1748508.83\n",
      "2020-12-23            1708365.88\n",
      "2020-12-24            1683414.00\n",
      "2020-12-25            1682577.42\n",
      "            supply/active_1y_2y\n",
      "Date                           \n",
      "2020-12-21           2325598.41\n",
      "2020-12-22           2300520.98\n",
      "2020-12-23           2296224.30\n",
      "2020-12-24           2295449.14\n",
      "2020-12-25           2296346.53\n",
      "            supply/active_2y_3y\n",
      "Date                           \n",
      "2020-12-21           2539762.09\n",
      "2020-12-22           2518802.40\n",
      "2020-12-23           2502755.20\n",
      "2020-12-24           2495530.85\n",
      "2020-12-25           2486168.54\n",
      "            supply/active_3y_5y\n",
      "Date                           \n",
      "2020-12-21           2194909.90\n",
      "2020-12-22           2202813.22\n",
      "2020-12-23           2208732.49\n",
      "2020-12-24           2214773.98\n",
      "2020-12-25           2220997.77\n",
      "            supply/active_5y_7y\n",
      "Date                           \n",
      "2020-12-21            797116.56\n",
      "2020-12-22            795407.55\n",
      "2020-12-23            795245.77\n",
      "2020-12-24            794812.14\n",
      "2020-12-25            795663.65\n",
      "            supply/active_7y_10y\n",
      "Date                            \n",
      "2020-12-21            1413085.13\n",
      "2020-12-22            1412919.63\n",
      "2020-12-23            1413201.93\n",
      "2020-12-24            1413510.85\n",
      "2020-12-25            1412964.45\n",
      "            supply/active_more_10y\n",
      "Date                              \n",
      "2020-12-21              1860061.54\n",
      "2020-12-22              1860580.02\n",
      "2020-12-23              1860863.53\n",
      "2020-12-24              1861281.04\n",
      "2020-12-25              1862302.72\n",
      "            supply/issued\n",
      "Date                     \n",
      "2020-12-21         850.00\n",
      "2020-12-22         893.75\n",
      "2020-12-23         962.50\n",
      "2020-12-24         787.50\n",
      "2020-12-25         900.00\n",
      "            supply/inflation_rate\n",
      "Date                             \n",
      "2020-12-21                   0.02\n",
      "2020-12-22                   0.02\n",
      "2020-12-23                   0.02\n",
      "2020-12-24                   0.02\n",
      "2020-12-25                   0.02\n"
     ]
    }
   ],
   "source": [
    "# Data Frame of Supply Features\n",
    "df_supply = import_glassnode_many(supply_feature_list)"
   ]
  },
  {
   "cell_type": "markdown",
   "metadata": {},
   "source": [
    "#### Transaction Metrics from Glassnode"
   ]
  },
  {
   "cell_type": "code",
   "execution_count": 23,
   "metadata": {
    "ExecuteTime": {
     "end_time": "2020-12-26T15:41:30.177566Z",
     "start_time": "2020-12-26T15:41:30.165563Z"
    }
   },
   "outputs": [],
   "source": [
    "# List of Transaction Features\n",
    "transaction_feature_list = ['transactions/count', 'transactions/size_sum','transactions/transfers_volume_sum', 'transactions/transfers_volume_adjusted_sum']"
   ]
  },
  {
   "cell_type": "code",
   "execution_count": 24,
   "metadata": {
    "ExecuteTime": {
     "end_time": "2020-12-26T15:41:31.897640Z",
     "start_time": "2020-12-26T15:41:30.179526Z"
    }
   },
   "outputs": [
    {
     "name": "stdout",
     "output_type": "stream",
     "text": [
      "            transactions/count\n",
      "Date                          \n",
      "2020-12-21           269698.00\n",
      "2020-12-22           324020.00\n",
      "2020-12-23           338309.00\n",
      "2020-12-24           269433.00\n",
      "2020-12-25           303757.00\n",
      "            transactions/size_sum\n",
      "Date                             \n",
      "2020-12-21           182916163.00\n",
      "2020-12-22           186139711.00\n",
      "2020-12-23           191864565.00\n",
      "2020-12-24           159983541.00\n",
      "2020-12-25           185103589.00\n",
      "            transactions/transfers_volume_sum\n",
      "Date                                         \n",
      "2020-12-21                         1742589.20\n",
      "2020-12-22                         2039768.31\n",
      "2020-12-23                         2004898.91\n",
      "2020-12-24                         2114268.53\n",
      "2020-12-25                         2042482.31\n",
      "            transactions/transfers_volume_adjusted_sum\n",
      "Date                                                  \n",
      "2020-12-21                                   577583.68\n",
      "2020-12-22                                   734478.59\n",
      "2020-12-23                                   714836.32\n",
      "2020-12-24                                   537084.84\n",
      "2020-12-25                                   371194.17\n"
     ]
    }
   ],
   "source": [
    "# Data Frame of Transaction Features\n",
    "df_transaction = import_glassnode_many(transaction_feature_list)"
   ]
  },
  {
   "cell_type": "code",
   "execution_count": null,
   "metadata": {},
   "outputs": [],
   "source": []
  },
  {
   "cell_type": "markdown",
   "metadata": {},
   "source": [
    "#### Exchange Metrics from Glassnode - 1 Month Lag"
   ]
  },
  {
   "cell_type": "code",
   "execution_count": 25,
   "metadata": {
    "ExecuteTime": {
     "end_time": "2020-12-26T15:41:31.913520Z",
     "start_time": "2020-12-26T15:41:31.898526Z"
    }
   },
   "outputs": [],
   "source": [
    "# List of Exchange Features\n",
    "#exchange_feature_list = ['transactions/transfers_volume_to_exchanges_sum', 'transactions/transfers_volume_from_exchanges_sum', 'transactions/transfers_to_exchanges_count', 'transactions/transfers_from_exchanges_count', 'distribution/balance_exchanges', 'transactions/transfers_volume_exchanges_net']"
   ]
  },
  {
   "cell_type": "code",
   "execution_count": 26,
   "metadata": {
    "ExecuteTime": {
     "end_time": "2020-12-26T15:41:31.928480Z",
     "start_time": "2020-12-26T15:41:31.914484Z"
    }
   },
   "outputs": [],
   "source": [
    "# Data Frame of Exchange Features\n",
    "#df_exchange = import_glassnode_many(exchange_feature_list)"
   ]
  },
  {
   "cell_type": "markdown",
   "metadata": {},
   "source": [
    "#### Indicator-I Metrics from Glassnode"
   ]
  },
  {
   "cell_type": "code",
   "execution_count": 27,
   "metadata": {
    "ExecuteTime": {
     "end_time": "2020-12-26T15:41:31.944513Z",
     "start_time": "2020-12-26T15:41:31.929444Z"
    }
   },
   "outputs": [],
   "source": [
    "# List of Indicator-1 Features\n",
    "indicator1_feature_list = ['indicators/sopr_adjusted', 'indicators/nvt', 'indicators/velocity', 'indicators/cdd', 'indicators/reserve_risk', 'indicators/average_dormancy', 'indicators/liveliness']                         "
   ]
  },
  {
   "cell_type": "code",
   "execution_count": 28,
   "metadata": {
    "ExecuteTime": {
     "end_time": "2020-12-26T15:41:34.912611Z",
     "start_time": "2020-12-26T15:41:31.945402Z"
    }
   },
   "outputs": [
    {
     "name": "stdout",
     "output_type": "stream",
     "text": [
      "            indicators/sopr_adjusted\n",
      "Date                                \n",
      "2020-12-21                      1.07\n",
      "2020-12-22                      1.12\n",
      "2020-12-23                      1.13\n",
      "2020-12-24                      1.12\n",
      "2020-12-25                      1.06\n",
      "            indicators/nvt\n",
      "Date                      \n",
      "2020-12-21           32.16\n",
      "2020-12-22           25.29\n",
      "2020-12-23           25.99\n",
      "2020-12-24           34.59\n",
      "2020-12-25           50.06\n",
      "            indicators/velocity\n",
      "Date                           \n",
      "2020-12-21                 0.03\n",
      "2020-12-22                 0.04\n",
      "2020-12-23                 0.04\n",
      "2020-12-24                 0.03\n",
      "2020-12-25                 0.02\n",
      "            indicators/cdd\n",
      "Date                      \n",
      "2020-12-21     16416212.39\n",
      "2020-12-22     38593112.50\n",
      "2020-12-23     28566389.34\n",
      "2020-12-24     14555610.66\n",
      "2020-12-25      6679495.06\n",
      "            indicators/reserve_risk\n",
      "Date                               \n",
      "2020-12-21                     0.00\n",
      "2020-12-22                     0.00\n",
      "2020-12-23                     0.00\n",
      "2020-12-24                     0.00\n",
      "2020-12-25                     0.00\n",
      "            indicators/average_dormancy\n",
      "Date                                   \n",
      "2020-12-21                        28.42\n",
      "2020-12-22                        52.54\n",
      "2020-12-23                        39.96\n",
      "2020-12-24                        27.10\n",
      "2020-12-25                        17.99\n",
      "            indicators/liveliness\n",
      "Date                             \n",
      "2020-12-21                   0.61\n",
      "2020-12-22                   0.61\n",
      "2020-12-23                   0.61\n",
      "2020-12-24                   0.61\n",
      "2020-12-25                   0.61\n"
     ]
    }
   ],
   "source": [
    "# Data Frame of Indicator-1 Features\n",
    "df_indicator1 = import_glassnode_many(indicator1_feature_list)"
   ]
  },
  {
   "cell_type": "markdown",
   "metadata": {},
   "source": [
    "#### Indicator-2 Metrics from Glassnode"
   ]
  },
  {
   "cell_type": "code",
   "execution_count": 29,
   "metadata": {
    "ExecuteTime": {
     "end_time": "2020-12-26T15:41:34.928485Z",
     "start_time": "2020-12-26T15:41:34.913525Z"
    }
   },
   "outputs": [],
   "source": [
    "# List of Indicator-2 Features\n",
    "indicator2_feature_list = ['indicators/asol', 'indicators/sol_1h', 'indicators/sol_1h_24h', 'indicators/sol_1d_1w', 'indicators/sol_1w_1m', 'indicators/sol_1m_3m', 'indicators/sol_3m_6m', 'indicators/sol_6m_12m', 'indicators/sol_1y_2y', 'indicators/sol_2y_3y', 'indicators/sol_3y_5y', 'indicators/sol_5y_7y', 'indicators/sol_7y_10y']"
   ]
  },
  {
   "cell_type": "code",
   "execution_count": 30,
   "metadata": {
    "ExecuteTime": {
     "end_time": "2020-12-26T15:41:41.312644Z",
     "start_time": "2020-12-26T15:41:34.929451Z"
    }
   },
   "outputs": [
    {
     "name": "stdout",
     "output_type": "stream",
     "text": [
      "            indicators/asol\n",
      "Date                       \n",
      "2020-12-21            41.38\n",
      "2020-12-22            43.65\n",
      "2020-12-23            37.44\n",
      "2020-12-24            50.41\n",
      "2020-12-25            44.24\n",
      "            indicators/sol_1h\n",
      "Date                         \n",
      "2020-12-21          145616.00\n",
      "2020-12-22          175881.00\n",
      "2020-12-23          193841.00\n",
      "2020-12-24          149454.00\n",
      "2020-12-25          175545.00\n",
      "            indicators/sol_1h_24h\n",
      "Date                             \n",
      "2020-12-21              227289.00\n",
      "2020-12-22              350843.00\n",
      "2020-12-23              355402.00\n",
      "2020-12-24              290417.00\n",
      "2020-12-25              331966.00\n",
      "            indicators/sol_1d_1w\n",
      "Date                            \n",
      "2020-12-21             185611.00\n",
      "2020-12-22             192885.00\n",
      "2020-12-23             178754.00\n",
      "2020-12-24             158440.00\n",
      "2020-12-25             221714.00\n",
      "            indicators/sol_1w_1m\n",
      "Date                            \n",
      "2020-12-21             169677.00\n",
      "2020-12-22              75899.00\n",
      "2020-12-23             100046.00\n",
      "2020-12-24              68661.00\n",
      "2020-12-25              80389.00\n",
      "            indicators/sol_1m_3m\n",
      "Date                            \n",
      "2020-12-21             104814.00\n",
      "2020-12-22              31817.00\n",
      "2020-12-23              36927.00\n",
      "2020-12-24              43123.00\n",
      "2020-12-25              39332.00\n",
      "            indicators/sol_3m_6m\n",
      "Date                            \n",
      "2020-12-21              10600.00\n",
      "2020-12-22              16756.00\n",
      "2020-12-23              13580.00\n",
      "2020-12-24              21258.00\n",
      "2020-12-25              16812.00\n",
      "            indicators/sol_6m_12m\n",
      "Date                             \n",
      "2020-12-21                9769.00\n",
      "2020-12-22               12723.00\n",
      "2020-12-23               10916.00\n",
      "2020-12-24                9333.00\n",
      "2020-12-25               10970.00\n",
      "            indicators/sol_1y_2y\n",
      "Date                            \n",
      "2020-12-21               8240.00\n",
      "2020-12-22              11365.00\n",
      "2020-12-23              10182.00\n",
      "2020-12-24              14909.00\n",
      "2020-12-25              10595.00\n",
      "            indicators/sol_2y_3y\n",
      "Date                            \n",
      "2020-12-21               6635.00\n",
      "2020-12-22               8062.00\n",
      "2020-12-23               6519.00\n",
      "2020-12-24               6208.00\n",
      "2020-12-25               8122.00\n",
      "            indicators/sol_3y_5y\n",
      "Date                            \n",
      "2020-12-21               3604.00\n",
      "2020-12-22               3796.00\n",
      "2020-12-23               3518.00\n",
      "2020-12-24               3563.00\n",
      "2020-12-25               4315.00\n",
      "            indicators/sol_5y_7y\n",
      "Date                            \n",
      "2020-12-21                878.00\n",
      "2020-12-22               1106.00\n",
      "2020-12-23                607.00\n",
      "2020-12-24               1744.00\n",
      "2020-12-25               1634.00\n",
      "            indicators/sol_7y_10y\n",
      "Date                             \n",
      "2020-12-21                 213.00\n",
      "2020-12-22                 445.00\n",
      "2020-12-23                 274.00\n",
      "2020-12-24                 166.00\n",
      "2020-12-25                 278.00\n"
     ]
    }
   ],
   "source": [
    "# Data Frame of Indicator-2 Features\n",
    "df_indicator2 = import_glassnode_many(indicator2_feature_list)"
   ]
  },
  {
   "cell_type": "code",
   "execution_count": null,
   "metadata": {},
   "outputs": [],
   "source": []
  },
  {
   "cell_type": "markdown",
   "metadata": {},
   "source": [
    "#### Indicator-3 Metrics from Glassnode"
   ]
  },
  {
   "cell_type": "code",
   "execution_count": 31,
   "metadata": {
    "ExecuteTime": {
     "end_time": "2020-12-26T15:41:41.328601Z",
     "start_time": "2020-12-26T15:41:41.313644Z"
    }
   },
   "outputs": [],
   "source": [
    "# List of Indicator-3 Features\n",
    "indicator3_feature_list = ['indicators/net_unrealized_profit_loss', 'indicators/unrealized_profit', 'indicators/unrealized_loss', 'indicators/net_realized_profit_loss', 'indicators/realized_profit', 'indicators/realized_loss', 'indicators/nupl_more_155', 'indicators/nupl_less_155', 'indicators/puell_multiple', 'indicators/stock_to_flow_deflection', 'indicators/difficulty_ribbon_compression']"
   ]
  },
  {
   "cell_type": "code",
   "execution_count": 32,
   "metadata": {
    "ExecuteTime": {
     "end_time": "2020-12-26T15:41:45.297618Z",
     "start_time": "2020-12-26T15:41:41.329564Z"
    }
   },
   "outputs": [
    {
     "name": "stdout",
     "output_type": "stream",
     "text": [
      "            indicators/net_unrealized_profit_loss\n",
      "Date                                             \n",
      "2020-12-21                                   0.64\n",
      "2020-12-22                                   0.65\n",
      "2020-12-23                                   0.64\n",
      "2020-12-24                                   0.64\n",
      "2020-12-25                                   0.65\n",
      "            indicators/unrealized_profit\n",
      "Date                                    \n",
      "2020-12-21                          0.64\n",
      "2020-12-22                          0.65\n",
      "2020-12-23                          0.64\n",
      "2020-12-24                          0.64\n",
      "2020-12-25                          0.65\n",
      "            indicators/unrealized_loss\n",
      "Date                                  \n",
      "2020-12-21                        0.00\n",
      "2020-12-22                        0.00\n",
      "2020-12-23                        0.00\n",
      "2020-12-24                        0.00\n",
      "2020-12-25                        0.00\n",
      "            indicators/net_realized_profit_loss\n",
      "Date                                           \n",
      "2020-12-21                         719923075.45\n",
      "2020-12-22                        1643315945.24\n",
      "2020-12-23                        1560834780.05\n",
      "2020-12-24                        1400309670.42\n",
      "2020-12-25                         399359784.55\n",
      "            indicators/realized_profit\n",
      "Date                                  \n",
      "2020-12-21                871530051.64\n",
      "2020-12-22               1741228980.95\n",
      "2020-12-23               1646821880.75\n",
      "2020-12-24               1471331914.02\n",
      "2020-12-25                434377918.26\n",
      "            indicators/realized_loss\n",
      "Date                                \n",
      "2020-12-21              151606976.19\n",
      "2020-12-22               97913035.71\n",
      "2020-12-23               85987100.69\n",
      "2020-12-24               71022243.59\n",
      "2020-12-25               35018133.72\n",
      "            indicators/nupl_more_155\n",
      "Date                                \n",
      "2020-12-21                      0.76\n",
      "2020-12-22                      0.77\n",
      "2020-12-23                      0.77\n",
      "2020-12-24                      0.77\n",
      "2020-12-25                      0.78\n",
      "            indicators/nupl_less_155\n",
      "Date                                \n",
      "2020-12-21                      0.28\n",
      "2020-12-22                      0.30\n",
      "2020-12-23                      0.28\n",
      "2020-12-24                      0.28\n",
      "2020-12-25                      0.30\n",
      "            indicators/puell_multiple\n",
      "Date                                 \n",
      "2020-12-21                       1.58\n",
      "2020-12-22                       1.65\n",
      "2020-12-23                       1.81\n",
      "2020-12-24                       1.46\n",
      "2020-12-25                       1.72\n",
      "            indicators/stock_to_flow_deflection\n",
      "Date                                           \n",
      "2020-12-21                                 0.70\n",
      "2020-12-22                                 0.72\n",
      "2020-12-23                                 0.71\n",
      "2020-12-24                                 0.71\n",
      "2020-12-25                                 0.73\n",
      "            indicators/difficulty_ribbon_compression\n",
      "Date                                                \n",
      "2020-12-21                                      0.02\n",
      "2020-12-22                                      0.02\n",
      "2020-12-23                                      0.02\n",
      "2020-12-24                                      0.02\n",
      "2020-12-25                                      0.02\n"
     ]
    }
   ],
   "source": [
    "# Data Frame of Indicator-3 Features\n",
    "df_indicator3 = import_glassnode_many(indicator3_feature_list)"
   ]
  },
  {
   "cell_type": "markdown",
   "metadata": {},
   "source": [
    "#### Addresses Metrics from Glassnode"
   ]
  },
  {
   "cell_type": "code",
   "execution_count": 33,
   "metadata": {
    "ExecuteTime": {
     "end_time": "2020-12-26T15:41:45.313609Z",
     "start_time": "2020-12-26T15:41:45.299791Z"
    }
   },
   "outputs": [],
   "source": [
    "# List of Addresses Features\n",
    "addresses_feature_list = ['addresses/active_count', 'addresses/sending_count', 'addresses/receiving_count', 'addresses/new_non_zero_count', 'addresses/non_zero_count', 'addresses/min_point_zero_1_count','addresses/min_point_1_count', 'addresses/min_1_count', 'addresses/min_10_count', 'addresses/min_100_count', 'addresses/min_1k_count', 'addresses/min_10k_count']"
   ]
  },
  {
   "cell_type": "code",
   "execution_count": 34,
   "metadata": {
    "ExecuteTime": {
     "end_time": "2020-12-26T15:41:50.224417Z",
     "start_time": "2020-12-26T15:41:45.315570Z"
    }
   },
   "outputs": [
    {
     "name": "stdout",
     "output_type": "stream",
     "text": [
      "            addresses/active_count\n",
      "Date                              \n",
      "2020-12-21              1125440.00\n",
      "2020-12-22              1099356.00\n",
      "2020-12-23              1131834.00\n",
      "2020-12-24               972137.00\n",
      "2020-12-25              1025877.00\n",
      "            addresses/sending_count\n",
      "Date                               \n",
      "2020-12-21                715418.00\n",
      "2020-12-22                669771.00\n",
      "2020-12-23                684823.00\n",
      "2020-12-24                587208.00\n",
      "2020-12-25                662802.00\n",
      "            addresses/receiving_count\n",
      "Date                                 \n",
      "2020-12-21                  649831.00\n",
      "2020-12-22                  738830.00\n",
      "2020-12-23                  782721.00\n",
      "2020-12-24                  639266.00\n",
      "2020-12-25                  662961.00\n",
      "            addresses/new_non_zero_count\n",
      "Date                                    \n",
      "2020-12-21                     461211.00\n",
      "2020-12-22                     528210.00\n",
      "2020-12-23                     540230.00\n",
      "2020-12-24                     447429.00\n",
      "2020-12-25                     474667.00\n",
      "            addresses/non_zero_count\n",
      "Date                                \n",
      "2020-12-21               33047778.00\n",
      "2020-12-22               33068915.00\n",
      "2020-12-23               33111216.00\n",
      "2020-12-24               33117973.00\n",
      "2020-12-25               33073258.00\n",
      "            addresses/min_point_zero_1_count\n",
      "Date                                        \n",
      "2020-12-21                        8550819.00\n",
      "2020-12-22                        8550157.00\n",
      "2020-12-23                        8544699.00\n",
      "2020-12-24                        8545074.00\n",
      "2020-12-25                        8513136.00\n",
      "            addresses/min_point_1_count\n",
      "Date                                   \n",
      "2020-12-21                   3133729.00\n",
      "2020-12-22                   3139132.00\n",
      "2020-12-23                   3133057.00\n",
      "2020-12-24                   3134905.00\n",
      "2020-12-25                   3130986.00\n",
      "            addresses/min_1_count\n",
      "Date                             \n",
      "2020-12-21              828815.00\n",
      "2020-12-22              829715.00\n",
      "2020-12-23              828576.00\n",
      "2020-12-24              829222.00\n",
      "2020-12-25              828971.00\n",
      "            addresses/min_10_count\n",
      "Date                              \n",
      "2020-12-21               153675.00\n",
      "2020-12-22               153788.00\n",
      "2020-12-23               153724.00\n",
      "2020-12-24               153650.00\n",
      "2020-12-25               153594.00\n",
      "            addresses/min_100_count\n",
      "Date                               \n",
      "2020-12-21                 16081.00\n",
      "2020-12-22                 16136.00\n",
      "2020-12-23                 16119.00\n",
      "2020-12-24                 16089.00\n",
      "2020-12-25                 16068.00\n",
      "            addresses/min_1k_count\n",
      "Date                              \n",
      "2020-12-21                 2266.00\n",
      "2020-12-22                 2252.00\n",
      "2020-12-23                 2247.00\n",
      "2020-12-24                 2232.00\n",
      "2020-12-25                 2228.00\n",
      "            addresses/min_10k_count\n",
      "Date                               \n",
      "2020-12-21                   107.00\n",
      "2020-12-22                   105.00\n",
      "2020-12-23                   103.00\n",
      "2020-12-24                   103.00\n",
      "2020-12-25                   103.00\n"
     ]
    }
   ],
   "source": [
    "# Data Frame of Addresses Features\n",
    "df_addresses = import_glassnode_many(addresses_feature_list)"
   ]
  },
  {
   "cell_type": "markdown",
   "metadata": {},
   "source": [
    "#### Futures Metrics from Glassnode - Excluded as Data Available Only Since Feb 2020"
   ]
  },
  {
   "cell_type": "markdown",
   "metadata": {},
   "source": [
    "##### List of Futures Features\n",
    "futures_feature_list = ['derivatives/futures_volume_daily_all_sum', 'derivatives/futures_volume_daily_perpetual_sum', 'derivatives/futures_open_interest_all_sum', 'derivatives/futures_open_interest_perpetual_sum', 'derivatives/futures_funding_rate_perpetual']"
   ]
  },
  {
   "cell_type": "markdown",
   "metadata": {},
   "source": [
    "##### Data Frame of Future features\n",
    "df_futures = import_glassnode_many(futures_feature_list)"
   ]
  },
  {
   "cell_type": "code",
   "execution_count": null,
   "metadata": {},
   "outputs": [],
   "source": []
  },
  {
   "cell_type": "markdown",
   "metadata": {},
   "source": [
    "## File Import and Data Tidying"
   ]
  },
  {
   "cell_type": "code",
   "execution_count": 35,
   "metadata": {
    "ExecuteTime": {
     "end_time": "2020-12-26T15:41:50.772919Z",
     "start_time": "2020-12-26T15:41:50.225381Z"
    },
    "scrolled": true
   },
   "outputs": [],
   "source": [
    "# Import of Modules and Packages\n",
    "import os\n",
    "import numpy as np\n",
    "import pandas as pd\n",
    "import matplotlib.pyplot as plt\n",
    "import seaborn as sns"
   ]
  },
  {
   "cell_type": "code",
   "execution_count": 36,
   "metadata": {
    "ExecuteTime": {
     "end_time": "2020-12-26T15:41:50.788877Z",
     "start_time": "2020-12-26T15:41:50.775912Z"
    }
   },
   "outputs": [],
   "source": [
    "# Adjustment of Decimal Places\n",
    "pd.options.display.float_format = '{:.6f}'.format"
   ]
  },
  {
   "cell_type": "code",
   "execution_count": 37,
   "metadata": {
    "ExecuteTime": {
     "end_time": "2020-12-26T15:41:50.804836Z",
     "start_time": "2020-12-26T15:41:50.789874Z"
    }
   },
   "outputs": [],
   "source": [
    "os.chdir('C:\\\\Users\\\\markus.gebele\\\\github_repo\\\\JupyterLabDir\\\\Rest\\\\MA BTC\\\\Markus_Code_MA_final\\\\20201010')"
   ]
  },
  {
   "cell_type": "markdown",
   "metadata": {},
   "source": [
    "### Import Blockchain CSV-Files"
   ]
  },
  {
   "cell_type": "markdown",
   "metadata": {},
   "source": [
    "#### Market Metric CSV-Files"
   ]
  },
  {
   "cell_type": "code",
   "execution_count": 38,
   "metadata": {
    "ExecuteTime": {
     "end_time": "2020-12-26T15:41:50.899581Z",
     "start_time": "2020-12-26T15:41:50.805831Z"
    }
   },
   "outputs": [],
   "source": [
    "# List of Market Features\n",
    "market_feature_list = ['price_usd_close', 'price_drawdown_relative', 'price_realized_usd', 'mvrv']\n",
    "\n",
    "# Counter to Differentiate between Data Frame Setup and Data Frame Extension\n",
    "counter=0\n",
    "\n",
    "# For Loop through all Features in the List\n",
    "for x in market_feature_list:\n",
    "    \n",
    "    # Import Feature CSV-Files\n",
    "    df = pd.read_csv(\"Glassnode/{}.csv\".format(x), index_col='Date', ) #decimal=\".\"\n",
    "    \n",
    "    # Condition - Data Frame Set up or Data Frame Extension\n",
    "    if counter > 0:\n",
    "        \n",
    "        # Data Frame Extension - Inner Join\n",
    "        df_new = df_new.join(df, how='inner')\n",
    "    \n",
    "    else:\n",
    "        \n",
    "        # Data Frame Setup\n",
    "        df_new = df\n",
    "    \n",
    "    # Increase Counter\n",
    "    counter +=1\n",
    "\n",
    "# Store Data Frame Copy in Market Data Frame\n",
    "df_market = df_new.copy()\n",
    "\n",
    "# Delete Original Data Frame\n",
    "del df_new\n",
    "\n",
    "# Change Data Type of Columns to Float\n",
    "for y in df_market.columns:\n",
    "    try:\n",
    "        df_market[\"{}\".format(y)] = df_market[\"{}\".format(y)].str.replace(',','.')\n",
    "        df_market[\"{}\".format(y)] = df_market[\"{}\".format(y)].astype(float)\n",
    "    except:\n",
    "        pass"
   ]
  },
  {
   "cell_type": "code",
   "execution_count": 39,
   "metadata": {
    "ExecuteTime": {
     "end_time": "2020-12-26T15:41:50.914540Z",
     "start_time": "2020-12-26T15:41:50.901600Z"
    }
   },
   "outputs": [
    {
     "data": {
      "text/html": [
       "<div>\n",
       "<style scoped>\n",
       "    .dataframe tbody tr th:only-of-type {\n",
       "        vertical-align: middle;\n",
       "    }\n",
       "\n",
       "    .dataframe tbody tr th {\n",
       "        vertical-align: top;\n",
       "    }\n",
       "\n",
       "    .dataframe thead th {\n",
       "        text-align: right;\n",
       "    }\n",
       "</style>\n",
       "<table border=\"1\" class=\"dataframe\">\n",
       "  <thead>\n",
       "    <tr style=\"text-align: right;\">\n",
       "      <th></th>\n",
       "      <th>market/price_usd_close</th>\n",
       "      <th>market/price_drawdown_relative</th>\n",
       "      <th>market/price_realized_usd</th>\n",
       "      <th>market/mvrv</th>\n",
       "    </tr>\n",
       "    <tr>\n",
       "      <th>Date</th>\n",
       "      <th></th>\n",
       "      <th></th>\n",
       "      <th></th>\n",
       "      <th></th>\n",
       "    </tr>\n",
       "  </thead>\n",
       "  <tbody>\n",
       "    <tr>\n",
       "      <th>2020-12-20</th>\n",
       "      <td>23549.781123</td>\n",
       "      <td>-0.025324</td>\n",
       "      <td>8159.474215</td>\n",
       "      <td>2.890503</td>\n",
       "    </tr>\n",
       "    <tr>\n",
       "      <th>2020-12-21</th>\n",
       "      <td>22875.455700</td>\n",
       "      <td>-0.053233</td>\n",
       "      <td>8205.792035</td>\n",
       "      <td>2.832762</td>\n",
       "    </tr>\n",
       "    <tr>\n",
       "      <th>2020-12-22</th>\n",
       "      <td>23758.933628</td>\n",
       "      <td>-0.016668</td>\n",
       "      <td>8286.352932</td>\n",
       "      <td>2.786825</td>\n",
       "    </tr>\n",
       "    <tr>\n",
       "      <th>2020-12-23</th>\n",
       "      <td>23279.549293</td>\n",
       "      <td>-0.036508</td>\n",
       "      <td>8375.793326</td>\n",
       "      <td>2.811232</td>\n",
       "    </tr>\n",
       "    <tr>\n",
       "      <th>2020-12-24</th>\n",
       "      <td>23764.753405</td>\n",
       "      <td>-0.016427</td>\n",
       "      <td>8448.066552</td>\n",
       "      <td>2.750256</td>\n",
       "    </tr>\n",
       "  </tbody>\n",
       "</table>\n",
       "</div>"
      ],
      "text/plain": [
       "            market/price_usd_close  market/price_drawdown_relative  \\\n",
       "Date                                                                 \n",
       "2020-12-20            23549.781123                       -0.025324   \n",
       "2020-12-21            22875.455700                       -0.053233   \n",
       "2020-12-22            23758.933628                       -0.016668   \n",
       "2020-12-23            23279.549293                       -0.036508   \n",
       "2020-12-24            23764.753405                       -0.016427   \n",
       "\n",
       "            market/price_realized_usd  market/mvrv  \n",
       "Date                                                \n",
       "2020-12-20                8159.474215     2.890503  \n",
       "2020-12-21                8205.792035     2.832762  \n",
       "2020-12-22                8286.352932     2.786825  \n",
       "2020-12-23                8375.793326     2.811232  \n",
       "2020-12-24                8448.066552     2.750256  "
      ]
     },
     "execution_count": 39,
     "metadata": {},
     "output_type": "execute_result"
    }
   ],
   "source": [
    "# Latest Market Metric Values\n",
    "df_market.tail()"
   ]
  },
  {
   "cell_type": "markdown",
   "metadata": {},
   "source": [
    "#### Mining Metric CSV-Files"
   ]
  },
  {
   "cell_type": "code",
   "execution_count": 40,
   "metadata": {
    "ExecuteTime": {
     "end_time": "2020-12-26T15:41:50.929501Z",
     "start_time": "2020-12-26T15:41:50.915537Z"
    }
   },
   "outputs": [],
   "source": [
    "# # List of Mining Features\n",
    "# mining_feature_list = ['difficulty_latest'] #, 'hash_rate_mean', 'revenue_sum','marketcap_thermocap_ratio'\n",
    "\n",
    "# # For Loop through all Features in the List\n",
    "# for x in mining_feature_list:\n",
    "    \n",
    "#     # Import Feature CSV-Files\n",
    "#     df_mining_difficulty_latest = pd.read_csv(\"Glassnode/{}.csv\".format(x), index_col='Date')\n",
    "    \n",
    "# # Change Data Type of Columns to Float\n",
    "# for y in df_mining_difficulty_latest.columns:\n",
    "#     try:\n",
    "#         df_mining_difficulty_latest[\"{}\".format(y)] = df_mining_difficulty_latest[\"{}\".format(y)].str.replace(',','.')\n",
    "#         df_mining_difficulty_latest[\"{}\".format(y)] = df_mining_difficulty_latest[\"{}\".format(y)].astype(float)\n",
    "#     except:\n",
    "#         pass\n",
    "    \n",
    "# df_mining_difficulty_latest"
   ]
  },
  {
   "cell_type": "code",
   "execution_count": 41,
   "metadata": {
    "ExecuteTime": {
     "end_time": "2020-12-26T15:41:50.945458Z",
     "start_time": "2020-12-26T15:41:50.930497Z"
    }
   },
   "outputs": [],
   "source": [
    "# # List of Mining Features\n",
    "# mining_feature_list = ['hash_rate_mean'] # 'revenue_sum','marketcap_thermocap_ratio'\n",
    "\n",
    "# # For Loop through all Features in the List\n",
    "# for x in mining_feature_list:\n",
    "    \n",
    "#     # Import Feature CSV-Files\n",
    "#     df_mining_hash_rate_mean = pd.read_csv(\"Glassnode/{}.csv\".format(x), index_col='Date')\n",
    "    \n",
    "# # Change Data Type of Columns to Float\n",
    "# for y in df_mining_hash_rate_mean.columns:\n",
    "#     try:\n",
    "#         df_mining_hash_rate_mean[\"{}\".format(y)] = df_mining_hash_rate_mean[\"{}\".format(y)].str.replace(',','.')\n",
    "#         df_mining_hash_rate_mean[\"{}\".format(y)] = df_mining_hash_rate_mean[\"{}\".format(y)].astype(float)\n",
    "#     except:\n",
    "#         pass\n",
    "    \n",
    "# df_mining_hash_rate_mean"
   ]
  },
  {
   "cell_type": "code",
   "execution_count": 42,
   "metadata": {
    "ExecuteTime": {
     "end_time": "2020-12-26T15:41:50.961416Z",
     "start_time": "2020-12-26T15:41:50.947453Z"
    }
   },
   "outputs": [],
   "source": [
    "# # List of Mining Features\n",
    "# mining_feature_list = ['marketcap_thermocap_ratio'] # 'revenue_sum','marketcap_thermocap_ratio'\n",
    "\n",
    "# # For Loop through all Features in the List\n",
    "# for x in mining_feature_list:\n",
    "    \n",
    "#     # Import Feature CSV-Files\n",
    "#     df_mining_marketcap_thermocap_ratio = pd.read_csv(\"Glassnode/{}.csv\".format(x), index_col='Date')\n",
    "    \n",
    "# # Change Data Type of Columns to Float\n",
    "# for y in df_mining_marketcap_thermocap_ratio.columns:\n",
    "#     try:\n",
    "#         df_mining_marketcap_thermocap_ratio[\"{}\".format(y)] = df_mining_marketcap_thermocap_ratio[\"{}\".format(y)].str.replace(',','.')\n",
    "#         df_mining_marketcap_thermocap_ratio[\"{}\".format(y)] = df_mining_marketcap_thermocap_ratio[\"{}\".format(y)].astype(float)\n",
    "#     except:\n",
    "#         pass\n",
    "    \n",
    "# df_mining_revenue_sum"
   ]
  },
  {
   "cell_type": "code",
   "execution_count": 43,
   "metadata": {
    "ExecuteTime": {
     "end_time": "2020-12-26T15:41:51.008323Z",
     "start_time": "2020-12-26T15:41:50.962413Z"
    }
   },
   "outputs": [],
   "source": [
    "# List of Mining Features\n",
    "mining_feature_list = ['difficulty_latest', 'hash_rate_mean'] #, 'revenue_sum','marketcap_thermocap_ratio'\n",
    "\n",
    "# Counter to Differentiate between Data Frame Setup and Data Frame Extension\n",
    "counter=0\n",
    "\n",
    "# For Loop through all Features in the List\n",
    "for x in mining_feature_list:\n",
    "    \n",
    "    # Import Feature CSV-Files\n",
    "    df = pd.read_csv(\"Glassnode/{}.csv\".format(x), index_col='Date')\n",
    "    \n",
    "    # Condition - Data Frame Set up or Data Frame Extension\n",
    "    if counter > 0:\n",
    "        \n",
    "        # Data Frame Extension - Inner Join\n",
    "        df_new = df_new.join(df, how='inner')\n",
    "    \n",
    "    else:\n",
    "        \n",
    "        # Data Frame Setup\n",
    "        df_new = df\n",
    "    \n",
    "    # Increase Counter\n",
    "    counter +=1\n",
    "\n",
    "# Store Data Frame Copy in Market Data Frame    \n",
    "df_mining = df_new.copy()\n",
    "\n",
    "# Delete Original Data Frame\n",
    "del df_new\n",
    "\n",
    "# Change Data Type of Columns to Float\n",
    "for y in df_mining.columns:\n",
    "    try:\n",
    "        df_mining[\"{}\".format(y)] = df_mining[\"{}\".format(y)].str.replace(',','.')\n",
    "        df_mining[\"{}\".format(y)] = df_mining[\"{}\".format(y)].astype(float)\n",
    "    except:\n",
    "        pass"
   ]
  },
  {
   "cell_type": "code",
   "execution_count": 44,
   "metadata": {
    "ExecuteTime": {
     "end_time": "2020-12-26T15:41:51.024246Z",
     "start_time": "2020-12-26T15:41:51.009319Z"
    }
   },
   "outputs": [
    {
     "data": {
      "text/html": [
       "<div>\n",
       "<style scoped>\n",
       "    .dataframe tbody tr th:only-of-type {\n",
       "        vertical-align: middle;\n",
       "    }\n",
       "\n",
       "    .dataframe tbody tr th {\n",
       "        vertical-align: top;\n",
       "    }\n",
       "\n",
       "    .dataframe thead th {\n",
       "        text-align: right;\n",
       "    }\n",
       "</style>\n",
       "<table border=\"1\" class=\"dataframe\">\n",
       "  <thead>\n",
       "    <tr style=\"text-align: right;\">\n",
       "      <th></th>\n",
       "      <th>mining/difficulty_latest</th>\n",
       "      <th>mining/hash_rate_mean</th>\n",
       "    </tr>\n",
       "    <tr>\n",
       "      <th>Date</th>\n",
       "      <th></th>\n",
       "      <th></th>\n",
       "    </tr>\n",
       "  </thead>\n",
       "  <tbody>\n",
       "    <tr>\n",
       "      <th>2020-12-20</th>\n",
       "      <td>80187763369133704478720.000000</td>\n",
       "      <td>141220096205307002880.000000</td>\n",
       "    </tr>\n",
       "    <tr>\n",
       "      <th>2020-12-21</th>\n",
       "      <td>80187763369133704478720.000000</td>\n",
       "      <td>125467801265571004416.000000</td>\n",
       "    </tr>\n",
       "    <tr>\n",
       "      <th>2020-12-22</th>\n",
       "      <td>80187763369133704478720.000000</td>\n",
       "      <td>132165952003620995072.000000</td>\n",
       "    </tr>\n",
       "    <tr>\n",
       "      <th>2020-12-23</th>\n",
       "      <td>80187763369133704478720.000000</td>\n",
       "      <td>146111617294112997376.000000</td>\n",
       "    </tr>\n",
       "    <tr>\n",
       "      <th>2020-12-24</th>\n",
       "      <td>80187763369133704478720.000000</td>\n",
       "      <td>114954071251531005952.000000</td>\n",
       "    </tr>\n",
       "  </tbody>\n",
       "</table>\n",
       "</div>"
      ],
      "text/plain": [
       "                 mining/difficulty_latest        mining/hash_rate_mean\n",
       "Date                                                                  \n",
       "2020-12-20 80187763369133704478720.000000 141220096205307002880.000000\n",
       "2020-12-21 80187763369133704478720.000000 125467801265571004416.000000\n",
       "2020-12-22 80187763369133704478720.000000 132165952003620995072.000000\n",
       "2020-12-23 80187763369133704478720.000000 146111617294112997376.000000\n",
       "2020-12-24 80187763369133704478720.000000 114954071251531005952.000000"
      ]
     },
     "execution_count": 44,
     "metadata": {},
     "output_type": "execute_result"
    }
   ],
   "source": [
    "# Latest Mining Metric Values\n",
    "df_mining.tail()"
   ]
  },
  {
   "cell_type": "markdown",
   "metadata": {},
   "source": [
    "#### Blocks Metric CSV-Files"
   ]
  },
  {
   "cell_type": "code",
   "execution_count": 45,
   "metadata": {
    "ExecuteTime": {
     "end_time": "2020-12-26T15:41:51.088159Z",
     "start_time": "2020-12-26T15:41:51.025243Z"
    }
   },
   "outputs": [],
   "source": [
    "# List of Blockchain Features\n",
    "block_feature_list = ['block_count', 'block_interval_mean', 'block_size_sum']\n",
    "\n",
    "# Counter to Differentiate between Data Frame Setup and Data Frame Extension\n",
    "counter=0\n",
    "\n",
    "# For Loop through all Features in the List\n",
    "for x in block_feature_list:\n",
    "    \n",
    "    # Import Feature CSV-Files\n",
    "    df = pd.read_csv(\"Glassnode/{}.csv\".format(x), index_col='Date')\n",
    "    \n",
    "    # Condition - Data Frame Set up or Data Frame Extension\n",
    "    if counter > 0:\n",
    "        \n",
    "        # Data Frame Extension - Inner Join\n",
    "        df_new = df_new.join(df, how='inner')\n",
    "    \n",
    "    else:\n",
    "        \n",
    "        # Data Frame Setup\n",
    "        df_new = df\n",
    "    \n",
    "    # Increase Counter\n",
    "    counter +=1\n",
    "\n",
    "# Store Data Frame Copy in Market Data Frame\n",
    "df_blockfeatures = df_new.copy()\n",
    "\n",
    "# Delete Original Data Frame\n",
    "del df_new\n",
    "\n",
    "# Change Data Type of Columns to Float\n",
    "for y in df_blockfeatures.columns:\n",
    "    try:\n",
    "        df_blockfeatures[\"{}\".format(y)] = df_blockfeatures[\"{}\".format(y)].str.replace(',','.')\n",
    "        df_blockfeatures[\"{}\".format(y)] = df_blockfeatures[\"{}\".format(y)].astype(float)\n",
    "    except:\n",
    "        pass"
   ]
  },
  {
   "cell_type": "code",
   "execution_count": 46,
   "metadata": {
    "ExecuteTime": {
     "end_time": "2020-12-26T15:41:51.104060Z",
     "start_time": "2020-12-26T15:41:51.089257Z"
    }
   },
   "outputs": [
    {
     "data": {
      "text/html": [
       "<div>\n",
       "<style scoped>\n",
       "    .dataframe tbody tr th:only-of-type {\n",
       "        vertical-align: middle;\n",
       "    }\n",
       "\n",
       "    .dataframe tbody tr th {\n",
       "        vertical-align: top;\n",
       "    }\n",
       "\n",
       "    .dataframe thead th {\n",
       "        text-align: right;\n",
       "    }\n",
       "</style>\n",
       "<table border=\"1\" class=\"dataframe\">\n",
       "  <thead>\n",
       "    <tr style=\"text-align: right;\">\n",
       "      <th></th>\n",
       "      <th>blockchain/block_count</th>\n",
       "      <th>blockchain/block_interval_mean</th>\n",
       "      <th>blockchain/block_size_sum</th>\n",
       "    </tr>\n",
       "    <tr>\n",
       "      <th>Date</th>\n",
       "      <th></th>\n",
       "      <th></th>\n",
       "      <th></th>\n",
       "    </tr>\n",
       "  </thead>\n",
       "  <tbody>\n",
       "    <tr>\n",
       "      <th>2020-12-20</th>\n",
       "      <td>151.000000</td>\n",
       "      <td>567.821192</td>\n",
       "      <td>202947940.000000</td>\n",
       "    </tr>\n",
       "    <tr>\n",
       "      <th>2020-12-21</th>\n",
       "      <td>136.000000</td>\n",
       "      <td>639.110294</td>\n",
       "      <td>182970116.000000</td>\n",
       "    </tr>\n",
       "    <tr>\n",
       "      <th>2020-12-22</th>\n",
       "      <td>143.000000</td>\n",
       "      <td>606.720280</td>\n",
       "      <td>186197300.000000</td>\n",
       "    </tr>\n",
       "    <tr>\n",
       "      <th>2020-12-23</th>\n",
       "      <td>154.000000</td>\n",
       "      <td>548.811688</td>\n",
       "      <td>191926648.000000</td>\n",
       "    </tr>\n",
       "    <tr>\n",
       "      <th>2020-12-24</th>\n",
       "      <td>126.000000</td>\n",
       "      <td>697.563492</td>\n",
       "      <td>160033350.000000</td>\n",
       "    </tr>\n",
       "  </tbody>\n",
       "</table>\n",
       "</div>"
      ],
      "text/plain": [
       "            blockchain/block_count  blockchain/block_interval_mean  \\\n",
       "Date                                                                 \n",
       "2020-12-20              151.000000                      567.821192   \n",
       "2020-12-21              136.000000                      639.110294   \n",
       "2020-12-22              143.000000                      606.720280   \n",
       "2020-12-23              154.000000                      548.811688   \n",
       "2020-12-24              126.000000                      697.563492   \n",
       "\n",
       "            blockchain/block_size_sum  \n",
       "Date                                   \n",
       "2020-12-20           202947940.000000  \n",
       "2020-12-21           182970116.000000  \n",
       "2020-12-22           186197300.000000  \n",
       "2020-12-23           191926648.000000  \n",
       "2020-12-24           160033350.000000  "
      ]
     },
     "execution_count": 46,
     "metadata": {},
     "output_type": "execute_result"
    }
   ],
   "source": [
    "# Show Latest Feature Values\n",
    "df_blockfeatures.tail()"
   ]
  },
  {
   "cell_type": "markdown",
   "metadata": {},
   "source": [
    "#### Distribution Metric CSV-Files"
   ]
  },
  {
   "cell_type": "code",
   "execution_count": 47,
   "metadata": {
    "ExecuteTime": {
     "end_time": "2020-12-26T15:41:51.120027Z",
     "start_time": "2020-12-26T15:41:51.106029Z"
    }
   },
   "outputs": [],
   "source": [
    "# # List of Distribution Features\n",
    "# distribution_feature_list = ['balance_1pct_holders', 'gini', 'herfindahl']\n",
    "\n",
    "# # Counter to Differentiate between Data Frame Setup and Data Frame Extension\n",
    "# counter=0\n",
    "\n",
    "# # For Loop through all Features in the List\n",
    "# for x in distribution_feature_list:\n",
    "    \n",
    "#     # Import Feature CSV-Files\n",
    "#     df = pd.read_csv(\"Glassnode/{}.csv\".format(x), index_col='Date')\n",
    "    \n",
    "#     # Condition - Data Frame Set up or Data Frame Extension\n",
    "#     if counter > 0:\n",
    "        \n",
    "#         # Data Frame Extension - Inner Join\n",
    "#         df_new = df_new.join(df, how='inner')\n",
    "    \n",
    "#     else:\n",
    "#         # Data Frame Setup\n",
    "#         df_new = df\n",
    "    \n",
    "#     # Increase Counter    \n",
    "#     counter +=1\n",
    "\n",
    "# # Store Data Frame Copy in Distribution Data Frame    \n",
    "# df_distribution = df_new.copy()\n",
    "\n",
    "# # Delete Original Data Frame\n",
    "# del df_new\n",
    "\n",
    "# # Change Data Type of Columns to Float\n",
    "# for y in df_distribution.columns:\n",
    "#     try:\n",
    "#         df_distribution[\"{}\".format(y)] = df_distribution[\"{}\".format(y)].str.replace(',','.')\n",
    "#         df_distribution[\"{}\".format(y)] = df_distribution[\"{}\".format(y)].astype(float)\n",
    "#     except:\n",
    "#         pass"
   ]
  },
  {
   "cell_type": "code",
   "execution_count": 48,
   "metadata": {
    "ExecuteTime": {
     "end_time": "2020-12-26T15:41:51.135954Z",
     "start_time": "2020-12-26T15:41:51.121023Z"
    }
   },
   "outputs": [],
   "source": [
    "# # Latest Distribution Metric Values\n",
    "# df_distribution.tail()"
   ]
  },
  {
   "cell_type": "markdown",
   "metadata": {},
   "source": [
    "#### Fee Metric CSV-Files"
   ]
  },
  {
   "cell_type": "code",
   "execution_count": 49,
   "metadata": {
    "ExecuteTime": {
     "end_time": "2020-12-26T15:41:51.214769Z",
     "start_time": "2020-12-26T15:41:51.137943Z"
    }
   },
   "outputs": [],
   "source": [
    "# List of Fee Features\n",
    "fees_feature_list = ['volume_sum', 'volume_mean', 'fee_ratio_multiple']\n",
    "\n",
    "# Counter to Differentiate between Data Frame Setup and Data Frame Extension\n",
    "counter=0\n",
    "\n",
    "# For Loop through all Features in the List\n",
    "for x in fees_feature_list:\n",
    "    \n",
    "    # Import Feature CSV-Files\n",
    "    df = pd.read_csv(\"Glassnode/{}.csv\".format(x), index_col='Date') #decimal=\".\"\n",
    "    \n",
    "    # Condition - Data Frame Set up or Data Frame Extension\n",
    "    if counter > 0:\n",
    "        \n",
    "        # Data Frame Extension - Inner Join\n",
    "        df_new = df_new.join(df, how='inner')\n",
    "        \n",
    "    else:\n",
    "        \n",
    "        # Data Frame Setup\n",
    "        df_new = df\n",
    "    \n",
    "    # Increase Counter\n",
    "    counter +=1\n",
    "\n",
    "# Store Data Frame Copy in Fees Data Frame    \n",
    "df_fees = df_new.copy()\n",
    "\n",
    "# Delete Original Data Frame\n",
    "del df_new\n",
    "\n",
    "# Change Data Type of Columns to Float\n",
    "for y in df_fees.columns:\n",
    "    try:\n",
    "        df_fees[\"{}\".format(y)] = df_fees[\"{}\".format(y)].str.replace(',','.')\n",
    "        df_fees[\"{}\".format(y)] = df_fees[\"{}\".format(y)].astype(float)\n",
    "    except:\n",
    "        pass"
   ]
  },
  {
   "cell_type": "code",
   "execution_count": 50,
   "metadata": {
    "ExecuteTime": {
     "end_time": "2020-12-26T15:41:51.230729Z",
     "start_time": "2020-12-26T15:41:51.215766Z"
    }
   },
   "outputs": [
    {
     "data": {
      "text/html": [
       "<div>\n",
       "<style scoped>\n",
       "    .dataframe tbody tr th:only-of-type {\n",
       "        vertical-align: middle;\n",
       "    }\n",
       "\n",
       "    .dataframe tbody tr th {\n",
       "        vertical-align: top;\n",
       "    }\n",
       "\n",
       "    .dataframe thead th {\n",
       "        text-align: right;\n",
       "    }\n",
       "</style>\n",
       "<table border=\"1\" class=\"dataframe\">\n",
       "  <thead>\n",
       "    <tr style=\"text-align: right;\">\n",
       "      <th></th>\n",
       "      <th>fees/volume_sum</th>\n",
       "      <th>fees/volume_mean</th>\n",
       "      <th>fees/fee_ratio_multiple</th>\n",
       "    </tr>\n",
       "    <tr>\n",
       "      <th>Date</th>\n",
       "      <th></th>\n",
       "      <th></th>\n",
       "      <th></th>\n",
       "    </tr>\n",
       "  </thead>\n",
       "  <tbody>\n",
       "    <tr>\n",
       "      <th>2020-12-20</th>\n",
       "      <td>73.514919</td>\n",
       "      <td>0.000261</td>\n",
       "      <td>13.837530</td>\n",
       "    </tr>\n",
       "    <tr>\n",
       "      <th>2020-12-21</th>\n",
       "      <td>138.562692</td>\n",
       "      <td>0.000514</td>\n",
       "      <td>7.134407</td>\n",
       "    </tr>\n",
       "    <tr>\n",
       "      <th>2020-12-22</th>\n",
       "      <td>133.026814</td>\n",
       "      <td>0.000411</td>\n",
       "      <td>7.718570</td>\n",
       "    </tr>\n",
       "    <tr>\n",
       "      <th>2020-12-23</th>\n",
       "      <td>143.044612</td>\n",
       "      <td>0.000423</td>\n",
       "      <td>7.728670</td>\n",
       "    </tr>\n",
       "    <tr>\n",
       "      <th>2020-12-24</th>\n",
       "      <td>106.429444</td>\n",
       "      <td>0.000395</td>\n",
       "      <td>8.399268</td>\n",
       "    </tr>\n",
       "  </tbody>\n",
       "</table>\n",
       "</div>"
      ],
      "text/plain": [
       "            fees/volume_sum  fees/volume_mean  fees/fee_ratio_multiple\n",
       "Date                                                                  \n",
       "2020-12-20        73.514919          0.000261                13.837530\n",
       "2020-12-21       138.562692          0.000514                 7.134407\n",
       "2020-12-22       133.026814          0.000411                 7.718570\n",
       "2020-12-23       143.044612          0.000423                 7.728670\n",
       "2020-12-24       106.429444          0.000395                 8.399268"
      ]
     },
     "execution_count": 50,
     "metadata": {},
     "output_type": "execute_result"
    }
   ],
   "source": [
    "# Latest Fee Metric Values\n",
    "df_fees.tail()"
   ]
  },
  {
   "cell_type": "markdown",
   "metadata": {},
   "source": [
    "#### UTXO Metric CSV-Files"
   ]
  },
  {
   "cell_type": "code",
   "execution_count": 51,
   "metadata": {
    "ExecuteTime": {
     "end_time": "2020-12-26T15:41:51.373414Z",
     "start_time": "2020-12-26T15:41:51.231692Z"
    }
   },
   "outputs": [],
   "source": [
    "# List of UTXO Features\n",
    "utxo_feature_list = ['utxo_created_count', 'utxo_spent_count','utxo_created_value_sum', 'utxo_spent_value_sum', 'utxo_profit_relative', 'utxo_profit_count', 'utxo_loss_count']\n",
    "\n",
    "# Counter to Differentiate between Data Frame Setup and Data Frame Extension\n",
    "counter=0\n",
    "\n",
    "# For Loop through all Features in the List\n",
    "for x in utxo_feature_list:\n",
    "    \n",
    "    # Import Feature CSV-Files\n",
    "    df = pd.read_csv(\"Glassnode/{}.csv\".format(x), index_col='Date', ) #decimal=\".\"\n",
    "    \n",
    "    # Condition - Data Frame Set up or Data Frame Extension\n",
    "    if counter > 0:\n",
    "        \n",
    "        # Data Frame Extension - Inner Join\n",
    "        df_new = df_new.join(df, how='inner')\n",
    "    \n",
    "    else:\n",
    "        \n",
    "        # Data Frame Setup\n",
    "        df_new = df\n",
    "\n",
    "    # Increase Counter\n",
    "    counter +=1\n",
    "\n",
    "# Store Data Frame Copy in UTXO Data Frame\n",
    "df_utxo = df_new.copy()\n",
    "\n",
    "# Delete Original Data Frame\n",
    "del df_new\n",
    "\n",
    "# Change Data Type of Columns to Float\n",
    "for y in df_utxo.columns:\n",
    "    try:\n",
    "        df_utxo[\"{}\".format(y)] = df_utxo[\"{}\".format(y)].str.replace(',','.')\n",
    "        df_utxo[\"{}\".format(y)] = df_utxo[\"{}\".format(y)].astype(float)\n",
    "    except:\n",
    "        pass"
   ]
  },
  {
   "cell_type": "code",
   "execution_count": 52,
   "metadata": {
    "ExecuteTime": {
     "end_time": "2020-12-26T15:41:51.389352Z",
     "start_time": "2020-12-26T15:41:51.375326Z"
    }
   },
   "outputs": [
    {
     "data": {
      "text/html": [
       "<div>\n",
       "<style scoped>\n",
       "    .dataframe tbody tr th:only-of-type {\n",
       "        vertical-align: middle;\n",
       "    }\n",
       "\n",
       "    .dataframe tbody tr th {\n",
       "        vertical-align: top;\n",
       "    }\n",
       "\n",
       "    .dataframe thead th {\n",
       "        text-align: right;\n",
       "    }\n",
       "</style>\n",
       "<table border=\"1\" class=\"dataframe\">\n",
       "  <thead>\n",
       "    <tr style=\"text-align: right;\">\n",
       "      <th></th>\n",
       "      <th>blockchain/utxo_created_count</th>\n",
       "      <th>blockchain/utxo_spent_count</th>\n",
       "      <th>blockchain/utxo_created_value_sum</th>\n",
       "      <th>blockchain/utxo_spent_value_sum</th>\n",
       "      <th>blockchain/utxo_profit_relative</th>\n",
       "      <th>blockchain/utxo_profit_count</th>\n",
       "      <th>blockchain/utxo_loss_count</th>\n",
       "    </tr>\n",
       "    <tr>\n",
       "      <th>Date</th>\n",
       "      <th></th>\n",
       "      <th></th>\n",
       "      <th></th>\n",
       "      <th></th>\n",
       "      <th></th>\n",
       "      <th></th>\n",
       "      <th></th>\n",
       "    </tr>\n",
       "  </thead>\n",
       "  <tbody>\n",
       "    <tr>\n",
       "      <th>2020-12-20</th>\n",
       "      <td>802023.000000</td>\n",
       "      <td>978675.000000</td>\n",
       "      <td>1323039.919518</td>\n",
       "      <td>1322096.169518</td>\n",
       "      <td>0.996394</td>\n",
       "      <td>115367417.000000</td>\n",
       "      <td>417576.000000</td>\n",
       "    </tr>\n",
       "    <tr>\n",
       "      <th>2020-12-21</th>\n",
       "      <td>801093.000000</td>\n",
       "      <td>872946.000000</td>\n",
       "      <td>1743577.764197</td>\n",
       "      <td>1742727.764197</td>\n",
       "      <td>0.988272</td>\n",
       "      <td>114356011.000000</td>\n",
       "      <td>1357129.000000</td>\n",
       "    </tr>\n",
       "    <tr>\n",
       "      <th>2020-12-22</th>\n",
       "      <td>940355.000000</td>\n",
       "      <td>881579.000000</td>\n",
       "      <td>2040795.083998</td>\n",
       "      <td>2039901.333998</td>\n",
       "      <td>0.997969</td>\n",
       "      <td>115536726.000000</td>\n",
       "      <td>228390.000000</td>\n",
       "    </tr>\n",
       "    <tr>\n",
       "      <th>2020-12-23</th>\n",
       "      <td>1000784.000000</td>\n",
       "      <td>910566.000000</td>\n",
       "      <td>2006004.456482</td>\n",
       "      <td>2005041.956482</td>\n",
       "      <td>0.989296</td>\n",
       "      <td>114621933.000000</td>\n",
       "      <td>1240201.000000</td>\n",
       "    </tr>\n",
       "    <tr>\n",
       "      <th>2020-12-24</th>\n",
       "      <td>813920.000000</td>\n",
       "      <td>767276.000000</td>\n",
       "      <td>2115162.459113</td>\n",
       "      <td>2114374.959113</td>\n",
       "      <td>0.997990</td>\n",
       "      <td>115675765.000000</td>\n",
       "      <td>233013.000000</td>\n",
       "    </tr>\n",
       "  </tbody>\n",
       "</table>\n",
       "</div>"
      ],
      "text/plain": [
       "            blockchain/utxo_created_count  blockchain/utxo_spent_count  \\\n",
       "Date                                                                     \n",
       "2020-12-20                  802023.000000                978675.000000   \n",
       "2020-12-21                  801093.000000                872946.000000   \n",
       "2020-12-22                  940355.000000                881579.000000   \n",
       "2020-12-23                 1000784.000000                910566.000000   \n",
       "2020-12-24                  813920.000000                767276.000000   \n",
       "\n",
       "            blockchain/utxo_created_value_sum  \\\n",
       "Date                                            \n",
       "2020-12-20                     1323039.919518   \n",
       "2020-12-21                     1743577.764197   \n",
       "2020-12-22                     2040795.083998   \n",
       "2020-12-23                     2006004.456482   \n",
       "2020-12-24                     2115162.459113   \n",
       "\n",
       "            blockchain/utxo_spent_value_sum  blockchain/utxo_profit_relative  \\\n",
       "Date                                                                           \n",
       "2020-12-20                   1322096.169518                         0.996394   \n",
       "2020-12-21                   1742727.764197                         0.988272   \n",
       "2020-12-22                   2039901.333998                         0.997969   \n",
       "2020-12-23                   2005041.956482                         0.989296   \n",
       "2020-12-24                   2114374.959113                         0.997990   \n",
       "\n",
       "            blockchain/utxo_profit_count  blockchain/utxo_loss_count  \n",
       "Date                                                                  \n",
       "2020-12-20              115367417.000000               417576.000000  \n",
       "2020-12-21              114356011.000000              1357129.000000  \n",
       "2020-12-22              115536726.000000               228390.000000  \n",
       "2020-12-23              114621933.000000              1240201.000000  \n",
       "2020-12-24              115675765.000000               233013.000000  "
      ]
     },
     "execution_count": 52,
     "metadata": {},
     "output_type": "execute_result"
    }
   ],
   "source": [
    "# Latest UTXO Metric Values\n",
    "df_utxo.tail()"
   ]
  },
  {
   "cell_type": "markdown",
   "metadata": {},
   "source": [
    "#### Supply Metric CSV-Files"
   ]
  },
  {
   "cell_type": "code",
   "execution_count": 53,
   "metadata": {
    "ExecuteTime": {
     "end_time": "2020-12-26T15:41:51.896955Z",
     "start_time": "2020-12-26T15:41:51.390269Z"
    }
   },
   "outputs": [],
   "source": [
    "# List of Supply Features\n",
    "supply_feature_list = ['current','profit_relative', 'profit_sum', 'loss_sum', 'active_more_1y_percent', 'active_more_2y_percent', 'active_more_3y_percent', 'active_more_5y_percent', 'active_24h', 'active_1d_1w', 'active_1w_1m', 'active_1m_3m', 'active_3m_6m', 'active_6m_12m', 'active_1y_2y', 'active_2y_3y', 'active_3y_5y', 'active_5y_7y', 'active_7y_10y', 'active_more_10y', 'issued', 'inflation_rate']\n",
    "\n",
    "# Counter to Differentiate between Data Frame Setup and Data Frame Extension\n",
    "counter=0\n",
    "\n",
    "# For Loop through all Features in the List\n",
    "for x in supply_feature_list:\n",
    "    \n",
    "    # Import Feature CSV-Files\n",
    "    df = pd.read_csv(\"Glassnode/{}.csv\".format(x), index_col='Date', ) #decimal=\".\"\n",
    "    \n",
    "    # Condition - Data Frame Set up or Data Frame Extension\n",
    "    if counter > 0:\n",
    "        \n",
    "        # Data Frame Extension - Inner Join\n",
    "        df_new = df_new.join(df, how='inner')\n",
    "    \n",
    "    else:\n",
    "        \n",
    "        # Data Frame Setup\n",
    "        df_new = df\n",
    "    \n",
    "    # Increase Counter\n",
    "    counter +=1\n",
    "\n",
    "# Store Data Frame Copy in Supply Data Frame    \n",
    "df_supply = df_new.copy()\n",
    "\n",
    "# Delete Original Data Frame\n",
    "del df_new\n",
    "\n",
    "# Change Data Type of Columns to Float\n",
    "for y in df_supply.columns:\n",
    "    try:\n",
    "        df_supply[\"{}\".format(y)] = df_supply[\"{}\".format(y)].str.replace(',','.')\n",
    "        df_supply[\"{}\".format(y)] = df_supply[\"{}\".format(y)].astype(float)\n",
    "    except:\n",
    "        pass"
   ]
  },
  {
   "cell_type": "code",
   "execution_count": 54,
   "metadata": {
    "ExecuteTime": {
     "end_time": "2020-12-26T15:41:51.928864Z",
     "start_time": "2020-12-26T15:41:51.897912Z"
    }
   },
   "outputs": [
    {
     "data": {
      "text/html": [
       "<div>\n",
       "<style scoped>\n",
       "    .dataframe tbody tr th:only-of-type {\n",
       "        vertical-align: middle;\n",
       "    }\n",
       "\n",
       "    .dataframe tbody tr th {\n",
       "        vertical-align: top;\n",
       "    }\n",
       "\n",
       "    .dataframe thead th {\n",
       "        text-align: right;\n",
       "    }\n",
       "</style>\n",
       "<table border=\"1\" class=\"dataframe\">\n",
       "  <thead>\n",
       "    <tr style=\"text-align: right;\">\n",
       "      <th></th>\n",
       "      <th>supply/current</th>\n",
       "      <th>supply/profit_relative</th>\n",
       "      <th>supply/profit_sum</th>\n",
       "      <th>supply/loss_sum</th>\n",
       "      <th>supply/active_more_1y_percent</th>\n",
       "      <th>supply/active_more_2y_percent</th>\n",
       "      <th>supply/active_more_3y_percent</th>\n",
       "      <th>supply/active_more_5y_percent</th>\n",
       "      <th>supply/active_24h</th>\n",
       "      <th>supply/active_1d_1w</th>\n",
       "      <th>...</th>\n",
       "      <th>supply/active_3m_6m</th>\n",
       "      <th>supply/active_6m_12m</th>\n",
       "      <th>supply/active_1y_2y</th>\n",
       "      <th>supply/active_2y_3y</th>\n",
       "      <th>supply/active_3y_5y</th>\n",
       "      <th>supply/active_5y_7y</th>\n",
       "      <th>supply/active_7y_10y</th>\n",
       "      <th>supply/active_more_10y</th>\n",
       "      <th>supply/issued</th>\n",
       "      <th>supply/inflation_rate</th>\n",
       "    </tr>\n",
       "    <tr>\n",
       "      <th>Date</th>\n",
       "      <th></th>\n",
       "      <th></th>\n",
       "      <th></th>\n",
       "      <th></th>\n",
       "      <th></th>\n",
       "      <th></th>\n",
       "      <th></th>\n",
       "      <th></th>\n",
       "      <th></th>\n",
       "      <th></th>\n",
       "      <th></th>\n",
       "      <th></th>\n",
       "      <th></th>\n",
       "      <th></th>\n",
       "      <th></th>\n",
       "      <th></th>\n",
       "      <th></th>\n",
       "      <th></th>\n",
       "      <th></th>\n",
       "      <th></th>\n",
       "      <th></th>\n",
       "    </tr>\n",
       "  </thead>\n",
       "  <tbody>\n",
       "    <tr>\n",
       "      <th>2020-12-20</th>\n",
       "      <td>18576718.750000</td>\n",
       "      <td>0.991367</td>\n",
       "      <td>18403491.469066</td>\n",
       "      <td>160256.876432</td>\n",
       "      <td>0.600160</td>\n",
       "      <td>0.474047</td>\n",
       "      <td>0.336766</td>\n",
       "      <td>0.219087</td>\n",
       "      <td>213129.301976</td>\n",
       "      <td>998697.053479</td>\n",
       "      <td>...</td>\n",
       "      <td>1199429.356592</td>\n",
       "      <td>1777285.948063</td>\n",
       "      <td>2342765.234921</td>\n",
       "      <td>2550240.505550</td>\n",
       "      <td>2186091.149401</td>\n",
       "      <td>797322.087725</td>\n",
       "      <td>1412882.534142</td>\n",
       "      <td>1859706.120039</td>\n",
       "      <td>943.750000</td>\n",
       "      <td>0.018716</td>\n",
       "    </tr>\n",
       "    <tr>\n",
       "      <th>2020-12-21</th>\n",
       "      <td>18577568.750000</td>\n",
       "      <td>0.960470</td>\n",
       "      <td>17830745.433329</td>\n",
       "      <td>733852.912170</td>\n",
       "      <td>0.599138</td>\n",
       "      <td>0.473955</td>\n",
       "      <td>0.337244</td>\n",
       "      <td>0.219096</td>\n",
       "      <td>287238.624739</td>\n",
       "      <td>948249.099909</td>\n",
       "      <td>...</td>\n",
       "      <td>1195285.818046</td>\n",
       "      <td>1780498.064146</td>\n",
       "      <td>2325598.413545</td>\n",
       "      <td>2539762.090186</td>\n",
       "      <td>2194909.896592</td>\n",
       "      <td>797116.556065</td>\n",
       "      <td>1413085.129293</td>\n",
       "      <td>1860061.540039</td>\n",
       "      <td>850.000000</td>\n",
       "      <td>0.016840</td>\n",
       "    </tr>\n",
       "    <tr>\n",
       "      <th>2020-12-22</th>\n",
       "      <td>18578462.500000</td>\n",
       "      <td>0.993801</td>\n",
       "      <td>18450395.768873</td>\n",
       "      <td>95579.730503</td>\n",
       "      <td>0.596984</td>\n",
       "      <td>0.473157</td>\n",
       "      <td>0.337580</td>\n",
       "      <td>0.219012</td>\n",
       "      <td>375438.876473</td>\n",
       "      <td>928000.853458</td>\n",
       "      <td>...</td>\n",
       "      <td>1195736.437660</td>\n",
       "      <td>1748508.833361</td>\n",
       "      <td>2300520.979271</td>\n",
       "      <td>2518802.397737</td>\n",
       "      <td>2202813.222243</td>\n",
       "      <td>795407.551748</td>\n",
       "      <td>1412919.631347</td>\n",
       "      <td>1860580.020039</td>\n",
       "      <td>893.750000</td>\n",
       "      <td>0.017714</td>\n",
       "    </tr>\n",
       "    <tr>\n",
       "      <th>2020-12-23</th>\n",
       "      <td>18579425.000000</td>\n",
       "      <td>0.967662</td>\n",
       "      <td>17966047.101468</td>\n",
       "      <td>600407.494030</td>\n",
       "      <td>0.596198</td>\n",
       "      <td>0.472609</td>\n",
       "      <td>0.337903</td>\n",
       "      <td>0.219022</td>\n",
       "      <td>337956.508149</td>\n",
       "      <td>1028577.905221</td>\n",
       "      <td>...</td>\n",
       "      <td>1184297.599709</td>\n",
       "      <td>1708365.878369</td>\n",
       "      <td>2296224.304989</td>\n",
       "      <td>2502755.199186</td>\n",
       "      <td>2208732.490139</td>\n",
       "      <td>795245.773950</td>\n",
       "      <td>1413201.927403</td>\n",
       "      <td>1860863.530039</td>\n",
       "      <td>962.500000</td>\n",
       "      <td>0.019088</td>\n",
       "    </tr>\n",
       "    <tr>\n",
       "      <th>2020-12-24</th>\n",
       "      <td>18580212.500000</td>\n",
       "      <td>0.994780</td>\n",
       "      <td>18470314.542264</td>\n",
       "      <td>96927.553235</td>\n",
       "      <td>0.596083</td>\n",
       "      <td>0.472541</td>\n",
       "      <td>0.338230</td>\n",
       "      <td>0.219029</td>\n",
       "      <td>377139.138342</td>\n",
       "      <td>940901.181635</td>\n",
       "      <td>...</td>\n",
       "      <td>1192682.921490</td>\n",
       "      <td>1683413.997615</td>\n",
       "      <td>2295449.138291</td>\n",
       "      <td>2495530.848223</td>\n",
       "      <td>2214773.975731</td>\n",
       "      <td>794812.141882</td>\n",
       "      <td>1413510.852302</td>\n",
       "      <td>1861281.040039</td>\n",
       "      <td>787.500000</td>\n",
       "      <td>0.015590</td>\n",
       "    </tr>\n",
       "  </tbody>\n",
       "</table>\n",
       "<p>5 rows × 22 columns</p>\n",
       "</div>"
      ],
      "text/plain": [
       "            supply/current  supply/profit_relative  supply/profit_sum  \\\n",
       "Date                                                                    \n",
       "2020-12-20 18576718.750000                0.991367    18403491.469066   \n",
       "2020-12-21 18577568.750000                0.960470    17830745.433329   \n",
       "2020-12-22 18578462.500000                0.993801    18450395.768873   \n",
       "2020-12-23 18579425.000000                0.967662    17966047.101468   \n",
       "2020-12-24 18580212.500000                0.994780    18470314.542264   \n",
       "\n",
       "            supply/loss_sum  supply/active_more_1y_percent  \\\n",
       "Date                                                         \n",
       "2020-12-20    160256.876432                       0.600160   \n",
       "2020-12-21    733852.912170                       0.599138   \n",
       "2020-12-22     95579.730503                       0.596984   \n",
       "2020-12-23    600407.494030                       0.596198   \n",
       "2020-12-24     96927.553235                       0.596083   \n",
       "\n",
       "            supply/active_more_2y_percent  supply/active_more_3y_percent  \\\n",
       "Date                                                                       \n",
       "2020-12-20                       0.474047                       0.336766   \n",
       "2020-12-21                       0.473955                       0.337244   \n",
       "2020-12-22                       0.473157                       0.337580   \n",
       "2020-12-23                       0.472609                       0.337903   \n",
       "2020-12-24                       0.472541                       0.338230   \n",
       "\n",
       "            supply/active_more_5y_percent  supply/active_24h  \\\n",
       "Date                                                           \n",
       "2020-12-20                       0.219087      213129.301976   \n",
       "2020-12-21                       0.219096      287238.624739   \n",
       "2020-12-22                       0.219012      375438.876473   \n",
       "2020-12-23                       0.219022      337956.508149   \n",
       "2020-12-24                       0.219029      377139.138342   \n",
       "\n",
       "            supply/active_1d_1w  ...  supply/active_3m_6m  \\\n",
       "Date                             ...                        \n",
       "2020-12-20        998697.053479  ...       1199429.356592   \n",
       "2020-12-21        948249.099909  ...       1195285.818046   \n",
       "2020-12-22        928000.853458  ...       1195736.437660   \n",
       "2020-12-23       1028577.905221  ...       1184297.599709   \n",
       "2020-12-24        940901.181635  ...       1192682.921490   \n",
       "\n",
       "            supply/active_6m_12m  supply/active_1y_2y  supply/active_2y_3y  \\\n",
       "Date                                                                         \n",
       "2020-12-20        1777285.948063       2342765.234921       2550240.505550   \n",
       "2020-12-21        1780498.064146       2325598.413545       2539762.090186   \n",
       "2020-12-22        1748508.833361       2300520.979271       2518802.397737   \n",
       "2020-12-23        1708365.878369       2296224.304989       2502755.199186   \n",
       "2020-12-24        1683413.997615       2295449.138291       2495530.848223   \n",
       "\n",
       "            supply/active_3y_5y  supply/active_5y_7y  supply/active_7y_10y  \\\n",
       "Date                                                                         \n",
       "2020-12-20       2186091.149401        797322.087725        1412882.534142   \n",
       "2020-12-21       2194909.896592        797116.556065        1413085.129293   \n",
       "2020-12-22       2202813.222243        795407.551748        1412919.631347   \n",
       "2020-12-23       2208732.490139        795245.773950        1413201.927403   \n",
       "2020-12-24       2214773.975731        794812.141882        1413510.852302   \n",
       "\n",
       "            supply/active_more_10y  supply/issued  supply/inflation_rate  \n",
       "Date                                                                      \n",
       "2020-12-20          1859706.120039     943.750000               0.018716  \n",
       "2020-12-21          1860061.540039     850.000000               0.016840  \n",
       "2020-12-22          1860580.020039     893.750000               0.017714  \n",
       "2020-12-23          1860863.530039     962.500000               0.019088  \n",
       "2020-12-24          1861281.040039     787.500000               0.015590  \n",
       "\n",
       "[5 rows x 22 columns]"
      ]
     },
     "execution_count": 54,
     "metadata": {},
     "output_type": "execute_result"
    }
   ],
   "source": [
    "# Latest Supply Metric Values\n",
    "df_supply.tail()"
   ]
  },
  {
   "cell_type": "markdown",
   "metadata": {},
   "source": [
    "#### Transaction Metric CSV-Files"
   ]
  },
  {
   "cell_type": "code",
   "execution_count": 55,
   "metadata": {
    "ExecuteTime": {
     "end_time": "2020-12-26T15:41:52.007656Z",
     "start_time": "2020-12-26T15:41:51.929859Z"
    }
   },
   "outputs": [],
   "source": [
    "# List of Transaction features\n",
    "transaction_feature_list = ['count', 'size_sum','transfers_volume_sum', 'transfers_volume_adjusted_sum']\n",
    "\n",
    "# Counter to Differentiate between Data Frame Setup and Data Frame Extension\n",
    "counter=0\n",
    "\n",
    "# For Loop through all Features in the List\n",
    "for x in transaction_feature_list:\n",
    "    \n",
    "    # Import Feature CSV-Files\n",
    "    df = pd.read_csv(\"Glassnode/{}.csv\".format(x), index_col='Date', ) #decimal=\".\"\n",
    "    \n",
    "    # Condition - Data Frame Set up or Data Frame Extension\n",
    "    if counter > 0:\n",
    "        \n",
    "        # Data Frame Extension - Inner Join\n",
    "        df_new = df_new.join(df, how='inner')\n",
    "    \n",
    "    else:\n",
    "        \n",
    "        # Data Frame Setup\n",
    "        df_new = df\n",
    "    \n",
    "    # Increase Counter\n",
    "    counter +=1\n",
    "\n",
    "# Store Data Frame Copy in Transaction Data Frame\n",
    "df_transaction = df_new.copy()\n",
    "\n",
    "# Delete Original Data Frame\n",
    "del df_new\n",
    "\n",
    "# Change Data Type of Columns to Float\n",
    "for y in df_transaction.columns:\n",
    "    try:\n",
    "        df_transaction[\"{}\".format(y)] = df_transaction[\"{}\".format(y)].str.replace(',','.')\n",
    "        df_transaction[\"{}\".format(y)] = df_transaction[\"{}\".format(y)].astype(float)\n",
    "    except:\n",
    "        pass"
   ]
  },
  {
   "cell_type": "code",
   "execution_count": 56,
   "metadata": {
    "ExecuteTime": {
     "end_time": "2020-12-26T15:41:52.023612Z",
     "start_time": "2020-12-26T15:41:52.008648Z"
    }
   },
   "outputs": [
    {
     "data": {
      "text/html": [
       "<div>\n",
       "<style scoped>\n",
       "    .dataframe tbody tr th:only-of-type {\n",
       "        vertical-align: middle;\n",
       "    }\n",
       "\n",
       "    .dataframe tbody tr th {\n",
       "        vertical-align: top;\n",
       "    }\n",
       "\n",
       "    .dataframe thead th {\n",
       "        text-align: right;\n",
       "    }\n",
       "</style>\n",
       "<table border=\"1\" class=\"dataframe\">\n",
       "  <thead>\n",
       "    <tr style=\"text-align: right;\">\n",
       "      <th></th>\n",
       "      <th>transactions/count</th>\n",
       "      <th>transactions/size_sum</th>\n",
       "      <th>transactions/transfers_volume_sum</th>\n",
       "      <th>transactions/transfers_volume_adjusted_sum</th>\n",
       "    </tr>\n",
       "    <tr>\n",
       "      <th>Date</th>\n",
       "      <th></th>\n",
       "      <th></th>\n",
       "      <th></th>\n",
       "      <th></th>\n",
       "    </tr>\n",
       "  </thead>\n",
       "  <tbody>\n",
       "    <tr>\n",
       "      <th>2020-12-20</th>\n",
       "      <td>281892.000000</td>\n",
       "      <td>202886737.000000</td>\n",
       "      <td>1322022.654599</td>\n",
       "      <td>356785.176274</td>\n",
       "    </tr>\n",
       "    <tr>\n",
       "      <th>2020-12-21</th>\n",
       "      <td>269698.000000</td>\n",
       "      <td>182916163.000000</td>\n",
       "      <td>1742589.201505</td>\n",
       "      <td>577583.682002</td>\n",
       "    </tr>\n",
       "    <tr>\n",
       "      <th>2020-12-22</th>\n",
       "      <td>324020.000000</td>\n",
       "      <td>186139711.000000</td>\n",
       "      <td>2039768.307184</td>\n",
       "      <td>734478.588800</td>\n",
       "    </tr>\n",
       "    <tr>\n",
       "      <th>2020-12-23</th>\n",
       "      <td>338309.000000</td>\n",
       "      <td>191864565.000000</td>\n",
       "      <td>2004898.911870</td>\n",
       "      <td>714836.321250</td>\n",
       "    </tr>\n",
       "    <tr>\n",
       "      <th>2020-12-24</th>\n",
       "      <td>269433.000000</td>\n",
       "      <td>159983541.000000</td>\n",
       "      <td>2114268.529668</td>\n",
       "      <td>537084.844518</td>\n",
       "    </tr>\n",
       "  </tbody>\n",
       "</table>\n",
       "</div>"
      ],
      "text/plain": [
       "            transactions/count  transactions/size_sum  \\\n",
       "Date                                                    \n",
       "2020-12-20       281892.000000       202886737.000000   \n",
       "2020-12-21       269698.000000       182916163.000000   \n",
       "2020-12-22       324020.000000       186139711.000000   \n",
       "2020-12-23       338309.000000       191864565.000000   \n",
       "2020-12-24       269433.000000       159983541.000000   \n",
       "\n",
       "            transactions/transfers_volume_sum  \\\n",
       "Date                                            \n",
       "2020-12-20                     1322022.654599   \n",
       "2020-12-21                     1742589.201505   \n",
       "2020-12-22                     2039768.307184   \n",
       "2020-12-23                     2004898.911870   \n",
       "2020-12-24                     2114268.529668   \n",
       "\n",
       "            transactions/transfers_volume_adjusted_sum  \n",
       "Date                                                    \n",
       "2020-12-20                               356785.176274  \n",
       "2020-12-21                               577583.682002  \n",
       "2020-12-22                               734478.588800  \n",
       "2020-12-23                               714836.321250  \n",
       "2020-12-24                               537084.844518  "
      ]
     },
     "execution_count": 56,
     "metadata": {},
     "output_type": "execute_result"
    }
   ],
   "source": [
    "# Latest Transaction Metric Values\n",
    "df_transaction.tail()"
   ]
  },
  {
   "cell_type": "markdown",
   "metadata": {},
   "source": [
    "#### Exchange Metrics CSV-Files"
   ]
  },
  {
   "cell_type": "code",
   "execution_count": 57,
   "metadata": {
    "ExecuteTime": {
     "end_time": "2020-12-26T15:41:52.039570Z",
     "start_time": "2020-12-26T15:41:52.024574Z"
    }
   },
   "outputs": [],
   "source": [
    "# # List of Exchange Features\n",
    "# exchange_feature_list = ['transfers_volume_to_exchanges_sum', 'transfers_volume_from_exchanges_sum', 'transfers_to_exchanges_count', \n",
    "#                          'transfers_from_exchanges_count', 'balance_exchanges', 'transfers_volume_exchanges_net']\n",
    "\n",
    "# # Counter to Differentiate between Data Frame Setup and Data Frame Extension\n",
    "# counter=0\n",
    "\n",
    "# # For Loop through all Features in the List\n",
    "# for x in exchange_feature_list:\n",
    "    \n",
    "#     # Import Feature CSV-Files\n",
    "#     df = pd.read_csv(\"Glassnode/{}.csv\".format(x), index_col='Date', ) #decimal=\".\"\n",
    "    \n",
    "#     # Condition - Data Frame Set up or Data Frame Extension\n",
    "#     if counter > 0:\n",
    "        \n",
    "#         # Data Frame Extension - Inner Join\n",
    "#         df_new = df_new.join(df, how='inner')\n",
    "    \n",
    "#     else:\n",
    "        \n",
    "#         # Data Frame Setup\n",
    "#         df_new = df\n",
    "    \n",
    "#     # Increase Counter\n",
    "#     counter +=1\n",
    "\n",
    "# # Store Data Frame Copy in Exchange Data Frame    \n",
    "# df_exchange = df_new.copy()\n",
    "\n",
    "# # Delete Original Data Frame\n",
    "# del df_new\n",
    "\n",
    "# # Change Data Type of Columns to Float\n",
    "# for y in df_exchange.columns:\n",
    "#     try:\n",
    "#         df_exchange[\"{}\".format(y)] = df_exchange[\"{}\".format(y)].str.replace(',','.')\n",
    "#         df_exchange[\"{}\".format(y)] = df_exchange[\"{}\".format(y)].astype(float)\n",
    "#     except:\n",
    "#         pass"
   ]
  },
  {
   "cell_type": "code",
   "execution_count": 58,
   "metadata": {
    "ExecuteTime": {
     "end_time": "2020-12-26T15:41:52.055526Z",
     "start_time": "2020-12-26T15:41:52.040534Z"
    }
   },
   "outputs": [],
   "source": [
    "# # Latest Exchange Metric Values\n",
    "# df_exchange.tail()"
   ]
  },
  {
   "cell_type": "markdown",
   "metadata": {},
   "source": [
    "#### Indicator-1 Metric CSV-Files"
   ]
  },
  {
   "cell_type": "code",
   "execution_count": 59,
   "metadata": {
    "ExecuteTime": {
     "end_time": "2020-12-26T15:41:52.290864Z",
     "start_time": "2020-12-26T15:41:52.056526Z"
    }
   },
   "outputs": [],
   "source": [
    "# List of Indicator-1 features\n",
    "indicator1_feature_list = ['sopr_adjusted', 'nvt', 'velocity', 'cdd','reserve_risk', 'average_dormancy', 'liveliness'] \n",
    "\n",
    "# Counter to Differentiate between Data Frame Setup and Data Frame Extension\n",
    "counter=0\n",
    "\n",
    "# For Loop through all Features in the List\n",
    "for x in indicator1_feature_list:\n",
    "    \n",
    "    # Import Feature CSV-Files\n",
    "    df = pd.read_csv(\"Glassnode/{}.csv\".format(x), index_col='Date', ) #decimal=\".\"\n",
    "    \n",
    "    # Condition - Data Frame Set up or Data Frame Extension\n",
    "    if counter > 0:\n",
    "        \n",
    "        # Data Frame Extension - Inner Join\n",
    "        df_new = df_new.join(df, how='inner')\n",
    "    \n",
    "    else:\n",
    "        \n",
    "        # Data Frame Setup\n",
    "        df_new = df\n",
    "    \n",
    "    # Increase Counter\n",
    "    counter +=1\n",
    "\n",
    "# Store Data Frame Copy in Indicator-1 Data Frame    \n",
    "df_indicator1 = df_new.copy()\n",
    "\n",
    "# Delete Original Data Frame\n",
    "del df_new\n",
    "\n",
    "# Change Data Type of Columns to Float\n",
    "for y in df_indicator1.columns:\n",
    "    try:\n",
    "        df_indicator1[\"{}\".format(y)] = df_indicator1[\"{}\".format(y)].str.replace(',','.')\n",
    "        df_indicator1[\"{}\".format(y)] = df_indicator1[\"{}\".format(y)].astype(float)\n",
    "    except:\n",
    "        pass"
   ]
  },
  {
   "cell_type": "code",
   "execution_count": 60,
   "metadata": {
    "ExecuteTime": {
     "end_time": "2020-12-26T15:41:52.322778Z",
     "start_time": "2020-12-26T15:41:52.293857Z"
    }
   },
   "outputs": [
    {
     "data": {
      "text/html": [
       "<div>\n",
       "<style scoped>\n",
       "    .dataframe tbody tr th:only-of-type {\n",
       "        vertical-align: middle;\n",
       "    }\n",
       "\n",
       "    .dataframe tbody tr th {\n",
       "        vertical-align: top;\n",
       "    }\n",
       "\n",
       "    .dataframe thead th {\n",
       "        text-align: right;\n",
       "    }\n",
       "</style>\n",
       "<table border=\"1\" class=\"dataframe\">\n",
       "  <thead>\n",
       "    <tr style=\"text-align: right;\">\n",
       "      <th></th>\n",
       "      <th>indicators/sopr_adjusted</th>\n",
       "      <th>indicators/nvt</th>\n",
       "      <th>indicators/velocity</th>\n",
       "      <th>indicators/cdd</th>\n",
       "      <th>indicators/reserve_risk</th>\n",
       "      <th>indicators/average_dormancy</th>\n",
       "      <th>indicators/liveliness</th>\n",
       "    </tr>\n",
       "    <tr>\n",
       "      <th>Date</th>\n",
       "      <th></th>\n",
       "      <th></th>\n",
       "      <th></th>\n",
       "      <th></th>\n",
       "      <th></th>\n",
       "      <th></th>\n",
       "      <th></th>\n",
       "    </tr>\n",
       "  </thead>\n",
       "  <tbody>\n",
       "    <tr>\n",
       "      <th>2020-12-20</th>\n",
       "      <td>1.103510</td>\n",
       "      <td>52.066958</td>\n",
       "      <td>0.019206</td>\n",
       "      <td>22946648.396152</td>\n",
       "      <td>0.003734</td>\n",
       "      <td>64.315027</td>\n",
       "      <td>0.606995</td>\n",
       "    </tr>\n",
       "    <tr>\n",
       "      <th>2020-12-21</th>\n",
       "      <td>1.066110</td>\n",
       "      <td>32.164289</td>\n",
       "      <td>0.031090</td>\n",
       "      <td>16416212.390717</td>\n",
       "      <td>0.003676</td>\n",
       "      <td>28.422223</td>\n",
       "      <td>0.607246</td>\n",
       "    </tr>\n",
       "    <tr>\n",
       "      <th>2020-12-22</th>\n",
       "      <td>1.117790</td>\n",
       "      <td>25.294764</td>\n",
       "      <td>0.039534</td>\n",
       "      <td>38593112.502022</td>\n",
       "      <td>0.003649</td>\n",
       "      <td>52.544912</td>\n",
       "      <td>0.607591</td>\n",
       "    </tr>\n",
       "    <tr>\n",
       "      <th>2020-12-23</th>\n",
       "      <td>1.126225</td>\n",
       "      <td>25.991160</td>\n",
       "      <td>0.038475</td>\n",
       "      <td>28566389.337585</td>\n",
       "      <td>0.003718</td>\n",
       "      <td>39.962140</td>\n",
       "      <td>0.608014</td>\n",
       "    </tr>\n",
       "    <tr>\n",
       "      <th>2020-12-24</th>\n",
       "      <td>1.117424</td>\n",
       "      <td>34.594557</td>\n",
       "      <td>0.028906</td>\n",
       "      <td>14555610.663966</td>\n",
       "      <td>0.003666</td>\n",
       "      <td>27.101138</td>\n",
       "      <td>0.608288</td>\n",
       "    </tr>\n",
       "  </tbody>\n",
       "</table>\n",
       "</div>"
      ],
      "text/plain": [
       "            indicators/sopr_adjusted  indicators/nvt  indicators/velocity  \\\n",
       "Date                                                                        \n",
       "2020-12-20                  1.103510       52.066958             0.019206   \n",
       "2020-12-21                  1.066110       32.164289             0.031090   \n",
       "2020-12-22                  1.117790       25.294764             0.039534   \n",
       "2020-12-23                  1.126225       25.991160             0.038475   \n",
       "2020-12-24                  1.117424       34.594557             0.028906   \n",
       "\n",
       "            indicators/cdd  indicators/reserve_risk  \\\n",
       "Date                                                  \n",
       "2020-12-20 22946648.396152                 0.003734   \n",
       "2020-12-21 16416212.390717                 0.003676   \n",
       "2020-12-22 38593112.502022                 0.003649   \n",
       "2020-12-23 28566389.337585                 0.003718   \n",
       "2020-12-24 14555610.663966                 0.003666   \n",
       "\n",
       "            indicators/average_dormancy  indicators/liveliness  \n",
       "Date                                                            \n",
       "2020-12-20                    64.315027               0.606995  \n",
       "2020-12-21                    28.422223               0.607246  \n",
       "2020-12-22                    52.544912               0.607591  \n",
       "2020-12-23                    39.962140               0.608014  \n",
       "2020-12-24                    27.101138               0.608288  "
      ]
     },
     "execution_count": 60,
     "metadata": {},
     "output_type": "execute_result"
    }
   ],
   "source": [
    "# Latest Indicator-1 Metric Values\n",
    "df_indicator1.tail()"
   ]
  },
  {
   "cell_type": "markdown",
   "metadata": {},
   "source": [
    "#### Indicator-2 Metrics CSV-Files"
   ]
  },
  {
   "cell_type": "code",
   "execution_count": 61,
   "metadata": {
    "ExecuteTime": {
     "end_time": "2020-12-26T15:41:52.814464Z",
     "start_time": "2020-12-26T15:41:52.324948Z"
    }
   },
   "outputs": [],
   "source": [
    "# List of Indicator-2 Features\n",
    "indicator2_feature_list = ['asol', 'sol_1h', 'sol_1h_24h', 'sol_1d_1w','sol_1w_1m', 'sol_1m_3m', 'sol_3m_6m', 'sol_6m_12m','sol_1y_2y', 'sol_2y_3y', 'sol_3y_5y', 'sol_5y_7y', 'sol_7y_10y']\n",
    "\n",
    "# Counter to Differentiate between Data Frame Setup and Data Frame Extension\n",
    "counter=0\n",
    "\n",
    "# For Loop through all Features in the List\n",
    "for x in indicator2_feature_list:\n",
    "    \n",
    "    # Import Feature CSV-Files\n",
    "    df = pd.read_csv(\"Glassnode/{}.csv\".format(x), index_col='Date')\n",
    "    \n",
    "    # Condition - Data Frame Set up or Data Frame Extension\n",
    "    if counter > 0:\n",
    "        \n",
    "        # Data Frame Extension - Inner Join\n",
    "        df_new = df_new.join(df, how='inner')\n",
    "    \n",
    "    else:\n",
    "        \n",
    "        # Data Frame Setup\n",
    "        df_new = df\n",
    "    \n",
    "    # Increase Counter\n",
    "    counter +=1\n",
    "\n",
    "# Store Data Frame Copy in Indicator-2 Data Frame\n",
    "df_indicator2 = df_new.copy()\n",
    "\n",
    "# Delete Original Data Frame\n",
    "del df_new\n",
    "\n",
    "# Change Data Type of Columns to Float\n",
    "for y in df_indicator2.columns:\n",
    "    try:\n",
    "        df_indicator2[\"{}\".format(y)] = df_indicator2[\"{}\".format(y)].str.replace(',','.')\n",
    "        df_indicator2[\"{}\".format(y)] = df_indicator2[\"{}\".format(y)].astype(float)\n",
    "    except:\n",
    "        pass"
   ]
  },
  {
   "cell_type": "code",
   "execution_count": 62,
   "metadata": {
    "ExecuteTime": {
     "end_time": "2020-12-26T15:41:52.846415Z",
     "start_time": "2020-12-26T15:41:52.817476Z"
    }
   },
   "outputs": [
    {
     "data": {
      "text/html": [
       "<div>\n",
       "<style scoped>\n",
       "    .dataframe tbody tr th:only-of-type {\n",
       "        vertical-align: middle;\n",
       "    }\n",
       "\n",
       "    .dataframe tbody tr th {\n",
       "        vertical-align: top;\n",
       "    }\n",
       "\n",
       "    .dataframe thead th {\n",
       "        text-align: right;\n",
       "    }\n",
       "</style>\n",
       "<table border=\"1\" class=\"dataframe\">\n",
       "  <thead>\n",
       "    <tr style=\"text-align: right;\">\n",
       "      <th></th>\n",
       "      <th>indicators/asol</th>\n",
       "      <th>indicators/sol_1h</th>\n",
       "      <th>indicators/sol_1h_24h</th>\n",
       "      <th>indicators/sol_1d_1w</th>\n",
       "      <th>indicators/sol_1w_1m</th>\n",
       "      <th>indicators/sol_1m_3m</th>\n",
       "      <th>indicators/sol_3m_6m</th>\n",
       "      <th>indicators/sol_6m_12m</th>\n",
       "      <th>indicators/sol_1y_2y</th>\n",
       "      <th>indicators/sol_2y_3y</th>\n",
       "      <th>indicators/sol_3y_5y</th>\n",
       "      <th>indicators/sol_5y_7y</th>\n",
       "      <th>indicators/sol_7y_10y</th>\n",
       "    </tr>\n",
       "    <tr>\n",
       "      <th>Date</th>\n",
       "      <th></th>\n",
       "      <th></th>\n",
       "      <th></th>\n",
       "      <th></th>\n",
       "      <th></th>\n",
       "      <th></th>\n",
       "      <th></th>\n",
       "      <th></th>\n",
       "      <th></th>\n",
       "      <th></th>\n",
       "      <th></th>\n",
       "      <th></th>\n",
       "      <th></th>\n",
       "    </tr>\n",
       "  </thead>\n",
       "  <tbody>\n",
       "    <tr>\n",
       "      <th>2020-12-20</th>\n",
       "      <td>72.041645</td>\n",
       "      <td>162407.000000</td>\n",
       "      <td>278568.000000</td>\n",
       "      <td>301292.000000</td>\n",
       "      <td>93392.000000</td>\n",
       "      <td>59429.000000</td>\n",
       "      <td>18451.000000</td>\n",
       "      <td>17749.000000</td>\n",
       "      <td>16555.000000</td>\n",
       "      <td>12894.000000</td>\n",
       "      <td>15038.000000</td>\n",
       "      <td>2440.000000</td>\n",
       "      <td>460.000000</td>\n",
       "    </tr>\n",
       "    <tr>\n",
       "      <th>2020-12-21</th>\n",
       "      <td>41.375776</td>\n",
       "      <td>145616.000000</td>\n",
       "      <td>227289.000000</td>\n",
       "      <td>185611.000000</td>\n",
       "      <td>169677.000000</td>\n",
       "      <td>104814.000000</td>\n",
       "      <td>10600.000000</td>\n",
       "      <td>9769.000000</td>\n",
       "      <td>8240.000000</td>\n",
       "      <td>6635.000000</td>\n",
       "      <td>3604.000000</td>\n",
       "      <td>878.000000</td>\n",
       "      <td>213.000000</td>\n",
       "    </tr>\n",
       "    <tr>\n",
       "      <th>2020-12-22</th>\n",
       "      <td>43.654548</td>\n",
       "      <td>175881.000000</td>\n",
       "      <td>350843.000000</td>\n",
       "      <td>192885.000000</td>\n",
       "      <td>75899.000000</td>\n",
       "      <td>31817.000000</td>\n",
       "      <td>16756.000000</td>\n",
       "      <td>12723.000000</td>\n",
       "      <td>11365.000000</td>\n",
       "      <td>8062.000000</td>\n",
       "      <td>3796.000000</td>\n",
       "      <td>1106.000000</td>\n",
       "      <td>445.000000</td>\n",
       "    </tr>\n",
       "    <tr>\n",
       "      <th>2020-12-23</th>\n",
       "      <td>37.438367</td>\n",
       "      <td>193841.000000</td>\n",
       "      <td>355402.000000</td>\n",
       "      <td>178754.000000</td>\n",
       "      <td>100046.000000</td>\n",
       "      <td>36927.000000</td>\n",
       "      <td>13580.000000</td>\n",
       "      <td>10916.000000</td>\n",
       "      <td>10182.000000</td>\n",
       "      <td>6519.000000</td>\n",
       "      <td>3518.000000</td>\n",
       "      <td>607.000000</td>\n",
       "      <td>274.000000</td>\n",
       "    </tr>\n",
       "    <tr>\n",
       "      <th>2020-12-24</th>\n",
       "      <td>50.410794</td>\n",
       "      <td>149454.000000</td>\n",
       "      <td>290417.000000</td>\n",
       "      <td>158440.000000</td>\n",
       "      <td>68661.000000</td>\n",
       "      <td>43123.000000</td>\n",
       "      <td>21258.000000</td>\n",
       "      <td>9333.000000</td>\n",
       "      <td>14909.000000</td>\n",
       "      <td>6208.000000</td>\n",
       "      <td>3563.000000</td>\n",
       "      <td>1744.000000</td>\n",
       "      <td>166.000000</td>\n",
       "    </tr>\n",
       "  </tbody>\n",
       "</table>\n",
       "</div>"
      ],
      "text/plain": [
       "            indicators/asol  indicators/sol_1h  indicators/sol_1h_24h  \\\n",
       "Date                                                                    \n",
       "2020-12-20        72.041645      162407.000000          278568.000000   \n",
       "2020-12-21        41.375776      145616.000000          227289.000000   \n",
       "2020-12-22        43.654548      175881.000000          350843.000000   \n",
       "2020-12-23        37.438367      193841.000000          355402.000000   \n",
       "2020-12-24        50.410794      149454.000000          290417.000000   \n",
       "\n",
       "            indicators/sol_1d_1w  indicators/sol_1w_1m  indicators/sol_1m_3m  \\\n",
       "Date                                                                           \n",
       "2020-12-20         301292.000000          93392.000000          59429.000000   \n",
       "2020-12-21         185611.000000         169677.000000         104814.000000   \n",
       "2020-12-22         192885.000000          75899.000000          31817.000000   \n",
       "2020-12-23         178754.000000         100046.000000          36927.000000   \n",
       "2020-12-24         158440.000000          68661.000000          43123.000000   \n",
       "\n",
       "            indicators/sol_3m_6m  indicators/sol_6m_12m  indicators/sol_1y_2y  \\\n",
       "Date                                                                            \n",
       "2020-12-20          18451.000000           17749.000000          16555.000000   \n",
       "2020-12-21          10600.000000            9769.000000           8240.000000   \n",
       "2020-12-22          16756.000000           12723.000000          11365.000000   \n",
       "2020-12-23          13580.000000           10916.000000          10182.000000   \n",
       "2020-12-24          21258.000000            9333.000000          14909.000000   \n",
       "\n",
       "            indicators/sol_2y_3y  indicators/sol_3y_5y  indicators/sol_5y_7y  \\\n",
       "Date                                                                           \n",
       "2020-12-20          12894.000000          15038.000000           2440.000000   \n",
       "2020-12-21           6635.000000           3604.000000            878.000000   \n",
       "2020-12-22           8062.000000           3796.000000           1106.000000   \n",
       "2020-12-23           6519.000000           3518.000000            607.000000   \n",
       "2020-12-24           6208.000000           3563.000000           1744.000000   \n",
       "\n",
       "            indicators/sol_7y_10y  \n",
       "Date                               \n",
       "2020-12-20             460.000000  \n",
       "2020-12-21             213.000000  \n",
       "2020-12-22             445.000000  \n",
       "2020-12-23             274.000000  \n",
       "2020-12-24             166.000000  "
      ]
     },
     "execution_count": 62,
     "metadata": {},
     "output_type": "execute_result"
    }
   ],
   "source": [
    "# Latest Indicator-2 Metric Values\n",
    "df_indicator2.tail()"
   ]
  },
  {
   "cell_type": "markdown",
   "metadata": {},
   "source": [
    "#### Indicator-3 Metrics CSV-Files"
   ]
  },
  {
   "cell_type": "code",
   "execution_count": 63,
   "metadata": {
    "ExecuteTime": {
     "end_time": "2020-12-26T15:41:53.195495Z",
     "start_time": "2020-12-26T15:41:52.848436Z"
    }
   },
   "outputs": [],
   "source": [
    "# List of Indicator-3 Features\n",
    "indicator3_feature_list = ['net_unrealized_profit_loss', 'unrealized_profit', 'unrealized_loss', 'net_realized_profit_loss', 'realized_profit', 'realized_loss', 'nupl_more_155', 'nupl_less_155', 'puell_multiple', 'stock_to_flow_deflection', 'difficulty_ribbon_compression']\n",
    "\n",
    "# Counter to Differentiate between Data Frame Setup and Data Frame Extension\n",
    "counter=0\n",
    "\n",
    "# For Loop through all Features in the List\n",
    "for x in indicator3_feature_list:\n",
    "    \n",
    "    # Import Feature CSV-Files\n",
    "    df = pd.read_csv(\"Glassnode/{}.csv\".format(x), index_col='Date')\n",
    "    \n",
    "    # Condition - Data Frame Set up or Data Frame Extension\n",
    "    if counter > 0:\n",
    "        \n",
    "        # Data Frame Extension - Inner Join\n",
    "        df_new = df_new.join(df, how='inner')\n",
    "    \n",
    "    else:\n",
    "        \n",
    "        # Data Frame Setup\n",
    "        df_new = df\n",
    "    \n",
    "    # Increase Counter\n",
    "    counter +=1\n",
    "\n",
    "# Store Data Frame Copy in Indicator-3 Data Frame\n",
    "df_indicator3 = df_new.copy()\n",
    "\n",
    "# Delete Original Data Frame\n",
    "del df_new\n",
    "\n",
    "# Change Data Type of Columns to Float\n",
    "for y in df_indicator3.columns:\n",
    "    try:\n",
    "        df_indicator3[\"{}\".format(y)] = df_indicator3[\"{}\".format(y)].str.replace(',','.')\n",
    "        df_indicator3[\"{}\".format(y)] = df_indicator3[\"{}\".format(y)].astype(float)\n",
    "    except:\n",
    "        pass"
   ]
  },
  {
   "cell_type": "code",
   "execution_count": 64,
   "metadata": {
    "ExecuteTime": {
     "end_time": "2020-12-26T15:41:53.211437Z",
     "start_time": "2020-12-26T15:41:53.197441Z"
    }
   },
   "outputs": [
    {
     "data": {
      "text/html": [
       "<div>\n",
       "<style scoped>\n",
       "    .dataframe tbody tr th:only-of-type {\n",
       "        vertical-align: middle;\n",
       "    }\n",
       "\n",
       "    .dataframe tbody tr th {\n",
       "        vertical-align: top;\n",
       "    }\n",
       "\n",
       "    .dataframe thead th {\n",
       "        text-align: right;\n",
       "    }\n",
       "</style>\n",
       "<table border=\"1\" class=\"dataframe\">\n",
       "  <thead>\n",
       "    <tr style=\"text-align: right;\">\n",
       "      <th></th>\n",
       "      <th>indicators/net_unrealized_profit_loss</th>\n",
       "      <th>indicators/unrealized_profit</th>\n",
       "      <th>indicators/unrealized_loss</th>\n",
       "      <th>indicators/net_realized_profit_loss</th>\n",
       "      <th>indicators/realized_profit</th>\n",
       "      <th>indicators/realized_loss</th>\n",
       "      <th>indicators/nupl_more_155</th>\n",
       "      <th>indicators/nupl_less_155</th>\n",
       "      <th>indicators/puell_multiple</th>\n",
       "      <th>indicators/stock_to_flow_deflection</th>\n",
       "      <th>indicators/difficulty_ribbon_compression</th>\n",
       "    </tr>\n",
       "    <tr>\n",
       "      <th>Date</th>\n",
       "      <th></th>\n",
       "      <th></th>\n",
       "      <th></th>\n",
       "      <th></th>\n",
       "      <th></th>\n",
       "      <th></th>\n",
       "      <th></th>\n",
       "      <th></th>\n",
       "      <th></th>\n",
       "      <th></th>\n",
       "      <th></th>\n",
       "    </tr>\n",
       "  </thead>\n",
       "  <tbody>\n",
       "    <tr>\n",
       "      <th>2020-12-20</th>\n",
       "      <td>0.650482</td>\n",
       "      <td>0.650577</td>\n",
       "      <td>0.000095</td>\n",
       "      <td>877456915.755440</td>\n",
       "      <td>928901102.924461</td>\n",
       "      <td>51444187.169021</td>\n",
       "      <td>0.765574</td>\n",
       "      <td>0.301044</td>\n",
       "      <td>1.785482</td>\n",
       "      <td>0.723678</td>\n",
       "      <td>0.022580</td>\n",
       "    </tr>\n",
       "    <tr>\n",
       "      <th>2020-12-21</th>\n",
       "      <td>0.638454</td>\n",
       "      <td>0.639051</td>\n",
       "      <td>0.000598</td>\n",
       "      <td>719923075.447780</td>\n",
       "      <td>871530051.640369</td>\n",
       "      <td>151606976.192589</td>\n",
       "      <td>0.759691</td>\n",
       "      <td>0.277646</td>\n",
       "      <td>1.580511</td>\n",
       "      <td>0.698475</td>\n",
       "      <td>0.021851</td>\n",
       "    </tr>\n",
       "    <tr>\n",
       "      <th>2020-12-22</th>\n",
       "      <td>0.648140</td>\n",
       "      <td>0.648168</td>\n",
       "      <td>0.000028</td>\n",
       "      <td>1643315945.240010</td>\n",
       "      <td>1741228980.952010</td>\n",
       "      <td>97913035.711994</td>\n",
       "      <td>0.769200</td>\n",
       "      <td>0.295821</td>\n",
       "      <td>1.651147</td>\n",
       "      <td>0.719964</td>\n",
       "      <td>0.021417</td>\n",
       "    </tr>\n",
       "    <tr>\n",
       "      <th>2020-12-23</th>\n",
       "      <td>0.637249</td>\n",
       "      <td>0.637651</td>\n",
       "      <td>0.000401</td>\n",
       "      <td>1560834780.054150</td>\n",
       "      <td>1646821880.745280</td>\n",
       "      <td>85987100.691126</td>\n",
       "      <td>0.766050</td>\n",
       "      <td>0.276599</td>\n",
       "      <td>1.808292</td>\n",
       "      <td>0.705177</td>\n",
       "      <td>0.021080</td>\n",
       "    </tr>\n",
       "    <tr>\n",
       "      <th>2020-12-24</th>\n",
       "      <td>0.641456</td>\n",
       "      <td>0.641482</td>\n",
       "      <td>0.000026</td>\n",
       "      <td>1400309670.421880</td>\n",
       "      <td>1471331914.015050</td>\n",
       "      <td>71022243.593170</td>\n",
       "      <td>0.769535</td>\n",
       "      <td>0.277785</td>\n",
       "      <td>1.457667</td>\n",
       "      <td>0.711080</td>\n",
       "      <td>0.020333</td>\n",
       "    </tr>\n",
       "  </tbody>\n",
       "</table>\n",
       "</div>"
      ],
      "text/plain": [
       "            indicators/net_unrealized_profit_loss  \\\n",
       "Date                                                \n",
       "2020-12-20                               0.650482   \n",
       "2020-12-21                               0.638454   \n",
       "2020-12-22                               0.648140   \n",
       "2020-12-23                               0.637249   \n",
       "2020-12-24                               0.641456   \n",
       "\n",
       "            indicators/unrealized_profit  indicators/unrealized_loss  \\\n",
       "Date                                                                   \n",
       "2020-12-20                      0.650577                    0.000095   \n",
       "2020-12-21                      0.639051                    0.000598   \n",
       "2020-12-22                      0.648168                    0.000028   \n",
       "2020-12-23                      0.637651                    0.000401   \n",
       "2020-12-24                      0.641482                    0.000026   \n",
       "\n",
       "            indicators/net_realized_profit_loss  indicators/realized_profit  \\\n",
       "Date                                                                          \n",
       "2020-12-20                     877456915.755440            928901102.924461   \n",
       "2020-12-21                     719923075.447780            871530051.640369   \n",
       "2020-12-22                    1643315945.240010           1741228980.952010   \n",
       "2020-12-23                    1560834780.054150           1646821880.745280   \n",
       "2020-12-24                    1400309670.421880           1471331914.015050   \n",
       "\n",
       "            indicators/realized_loss  indicators/nupl_more_155  \\\n",
       "Date                                                             \n",
       "2020-12-20           51444187.169021                  0.765574   \n",
       "2020-12-21          151606976.192589                  0.759691   \n",
       "2020-12-22           97913035.711994                  0.769200   \n",
       "2020-12-23           85987100.691126                  0.766050   \n",
       "2020-12-24           71022243.593170                  0.769535   \n",
       "\n",
       "            indicators/nupl_less_155  indicators/puell_multiple  \\\n",
       "Date                                                              \n",
       "2020-12-20                  0.301044                   1.785482   \n",
       "2020-12-21                  0.277646                   1.580511   \n",
       "2020-12-22                  0.295821                   1.651147   \n",
       "2020-12-23                  0.276599                   1.808292   \n",
       "2020-12-24                  0.277785                   1.457667   \n",
       "\n",
       "            indicators/stock_to_flow_deflection  \\\n",
       "Date                                              \n",
       "2020-12-20                             0.723678   \n",
       "2020-12-21                             0.698475   \n",
       "2020-12-22                             0.719964   \n",
       "2020-12-23                             0.705177   \n",
       "2020-12-24                             0.711080   \n",
       "\n",
       "            indicators/difficulty_ribbon_compression  \n",
       "Date                                                  \n",
       "2020-12-20                                  0.022580  \n",
       "2020-12-21                                  0.021851  \n",
       "2020-12-22                                  0.021417  \n",
       "2020-12-23                                  0.021080  \n",
       "2020-12-24                                  0.020333  "
      ]
     },
     "execution_count": 64,
     "metadata": {},
     "output_type": "execute_result"
    }
   ],
   "source": [
    "# Latest Indicator-3 Metric Values\n",
    "df_indicator3.tail()"
   ]
  },
  {
   "cell_type": "markdown",
   "metadata": {},
   "source": [
    "#### Addresses Metric CSV-Files"
   ]
  },
  {
   "cell_type": "code",
   "execution_count": 65,
   "metadata": {
    "ExecuteTime": {
     "end_time": "2020-12-26T15:41:53.527587Z",
     "start_time": "2020-12-26T15:41:53.213420Z"
    }
   },
   "outputs": [],
   "source": [
    "# List of Addresses Features\n",
    "addresses_feature_list = ['active_count', 'sending_count', 'receiving_count', 'new_non_zero_count', 'non_zero_count', 'min_point_zero_1_count', 'min_point_1_count', 'min_1_count', 'min_10_count', 'min_100_count', 'min_1k_count', 'min_10k_count']\n",
    "\n",
    "# Counter to Differentiate between Data Frame Setup and Data Frame Extension\n",
    "counter=0\n",
    "\n",
    "# For Loop through all Features in the List\n",
    "for x in addresses_feature_list:\n",
    "    \n",
    "    # Import Feature CSV-Files\n",
    "    df = pd.read_csv(\"Glassnode/{}.csv\".format(x), index_col='Date')\n",
    "    \n",
    "    # Condition - Data Frame Set up or Data Frame Extension\n",
    "    if counter > 0:\n",
    "        \n",
    "        # Data Frame Extension - Inner Join\n",
    "        df_new = df_new.join(df, how='inner')\n",
    "    \n",
    "    else:\n",
    "        \n",
    "        # Data Frame Setup\n",
    "        df_new = df\n",
    "    \n",
    "    # Increase Counter\n",
    "    counter +=1\n",
    "\n",
    "# Store Data Frame Copy in Addresses Data Frame\n",
    "df_addresses = df_new.copy()\n",
    "\n",
    "# Delete Original Data Frame\n",
    "del df_new\n",
    "\n",
    "# Change Data Type of Columns to Float\n",
    "for y in df_addresses.columns:\n",
    "    try:\n",
    "        df_addresses[\"{}\".format(y)] = df_addresses[\"{}\".format(y)].str.replace(',','.')\n",
    "        df_addresses[\"{}\".format(y)] = df_addresses[\"{}\".format(y)].astype(float)\n",
    "    except:\n",
    "        pass"
   ]
  },
  {
   "cell_type": "code",
   "execution_count": 66,
   "metadata": {
    "ExecuteTime": {
     "end_time": "2020-12-26T15:41:53.542518Z",
     "start_time": "2020-12-26T15:41:53.529555Z"
    }
   },
   "outputs": [
    {
     "data": {
      "text/html": [
       "<div>\n",
       "<style scoped>\n",
       "    .dataframe tbody tr th:only-of-type {\n",
       "        vertical-align: middle;\n",
       "    }\n",
       "\n",
       "    .dataframe tbody tr th {\n",
       "        vertical-align: top;\n",
       "    }\n",
       "\n",
       "    .dataframe thead th {\n",
       "        text-align: right;\n",
       "    }\n",
       "</style>\n",
       "<table border=\"1\" class=\"dataframe\">\n",
       "  <thead>\n",
       "    <tr style=\"text-align: right;\">\n",
       "      <th></th>\n",
       "      <th>addresses/active_count</th>\n",
       "      <th>addresses/sending_count</th>\n",
       "      <th>addresses/receiving_count</th>\n",
       "      <th>addresses/new_non_zero_count</th>\n",
       "      <th>addresses/non_zero_count</th>\n",
       "      <th>addresses/min_point_zero_1_count</th>\n",
       "      <th>addresses/min_point_1_count</th>\n",
       "      <th>addresses/min_1_count</th>\n",
       "      <th>addresses/min_10_count</th>\n",
       "      <th>addresses/min_100_count</th>\n",
       "      <th>addresses/min_1k_count</th>\n",
       "      <th>addresses/min_10k_count</th>\n",
       "    </tr>\n",
       "    <tr>\n",
       "      <th>Date</th>\n",
       "      <th></th>\n",
       "      <th></th>\n",
       "      <th></th>\n",
       "      <th></th>\n",
       "      <th></th>\n",
       "      <th></th>\n",
       "      <th></th>\n",
       "      <th></th>\n",
       "      <th></th>\n",
       "      <th></th>\n",
       "      <th></th>\n",
       "      <th></th>\n",
       "    </tr>\n",
       "  </thead>\n",
       "  <tbody>\n",
       "    <tr>\n",
       "      <th>2020-12-20</th>\n",
       "      <td>1078245.000000</td>\n",
       "      <td>711846.000000</td>\n",
       "      <td>638805.000000</td>\n",
       "      <td>465212.000000</td>\n",
       "      <td>33157050.000000</td>\n",
       "      <td>8520195.000000</td>\n",
       "      <td>3128579.000000</td>\n",
       "      <td>827865.000000</td>\n",
       "      <td>153996.000000</td>\n",
       "      <td>16101.000000</td>\n",
       "      <td>2275.000000</td>\n",
       "      <td>107.000000</td>\n",
       "    </tr>\n",
       "    <tr>\n",
       "      <th>2020-12-21</th>\n",
       "      <td>1125440.000000</td>\n",
       "      <td>715418.000000</td>\n",
       "      <td>649831.000000</td>\n",
       "      <td>461211.000000</td>\n",
       "      <td>33047778.000000</td>\n",
       "      <td>8550819.000000</td>\n",
       "      <td>3133729.000000</td>\n",
       "      <td>828815.000000</td>\n",
       "      <td>153675.000000</td>\n",
       "      <td>16081.000000</td>\n",
       "      <td>2266.000000</td>\n",
       "      <td>107.000000</td>\n",
       "    </tr>\n",
       "    <tr>\n",
       "      <th>2020-12-22</th>\n",
       "      <td>1099356.000000</td>\n",
       "      <td>669771.000000</td>\n",
       "      <td>738830.000000</td>\n",
       "      <td>528210.000000</td>\n",
       "      <td>33068915.000000</td>\n",
       "      <td>8550157.000000</td>\n",
       "      <td>3139132.000000</td>\n",
       "      <td>829715.000000</td>\n",
       "      <td>153788.000000</td>\n",
       "      <td>16136.000000</td>\n",
       "      <td>2252.000000</td>\n",
       "      <td>105.000000</td>\n",
       "    </tr>\n",
       "    <tr>\n",
       "      <th>2020-12-23</th>\n",
       "      <td>1131834.000000</td>\n",
       "      <td>684823.000000</td>\n",
       "      <td>782721.000000</td>\n",
       "      <td>540230.000000</td>\n",
       "      <td>33111216.000000</td>\n",
       "      <td>8544699.000000</td>\n",
       "      <td>3133057.000000</td>\n",
       "      <td>828576.000000</td>\n",
       "      <td>153724.000000</td>\n",
       "      <td>16119.000000</td>\n",
       "      <td>2247.000000</td>\n",
       "      <td>103.000000</td>\n",
       "    </tr>\n",
       "    <tr>\n",
       "      <th>2020-12-24</th>\n",
       "      <td>972137.000000</td>\n",
       "      <td>587208.000000</td>\n",
       "      <td>639266.000000</td>\n",
       "      <td>447429.000000</td>\n",
       "      <td>33117973.000000</td>\n",
       "      <td>8545074.000000</td>\n",
       "      <td>3134905.000000</td>\n",
       "      <td>829222.000000</td>\n",
       "      <td>153650.000000</td>\n",
       "      <td>16089.000000</td>\n",
       "      <td>2232.000000</td>\n",
       "      <td>103.000000</td>\n",
       "    </tr>\n",
       "  </tbody>\n",
       "</table>\n",
       "</div>"
      ],
      "text/plain": [
       "            addresses/active_count  addresses/sending_count  \\\n",
       "Date                                                          \n",
       "2020-12-20          1078245.000000            711846.000000   \n",
       "2020-12-21          1125440.000000            715418.000000   \n",
       "2020-12-22          1099356.000000            669771.000000   \n",
       "2020-12-23          1131834.000000            684823.000000   \n",
       "2020-12-24           972137.000000            587208.000000   \n",
       "\n",
       "            addresses/receiving_count  addresses/new_non_zero_count  \\\n",
       "Date                                                                  \n",
       "2020-12-20              638805.000000                 465212.000000   \n",
       "2020-12-21              649831.000000                 461211.000000   \n",
       "2020-12-22              738830.000000                 528210.000000   \n",
       "2020-12-23              782721.000000                 540230.000000   \n",
       "2020-12-24              639266.000000                 447429.000000   \n",
       "\n",
       "            addresses/non_zero_count  addresses/min_point_zero_1_count  \\\n",
       "Date                                                                     \n",
       "2020-12-20           33157050.000000                    8520195.000000   \n",
       "2020-12-21           33047778.000000                    8550819.000000   \n",
       "2020-12-22           33068915.000000                    8550157.000000   \n",
       "2020-12-23           33111216.000000                    8544699.000000   \n",
       "2020-12-24           33117973.000000                    8545074.000000   \n",
       "\n",
       "            addresses/min_point_1_count  addresses/min_1_count  \\\n",
       "Date                                                             \n",
       "2020-12-20               3128579.000000          827865.000000   \n",
       "2020-12-21               3133729.000000          828815.000000   \n",
       "2020-12-22               3139132.000000          829715.000000   \n",
       "2020-12-23               3133057.000000          828576.000000   \n",
       "2020-12-24               3134905.000000          829222.000000   \n",
       "\n",
       "            addresses/min_10_count  addresses/min_100_count  \\\n",
       "Date                                                          \n",
       "2020-12-20           153996.000000             16101.000000   \n",
       "2020-12-21           153675.000000             16081.000000   \n",
       "2020-12-22           153788.000000             16136.000000   \n",
       "2020-12-23           153724.000000             16119.000000   \n",
       "2020-12-24           153650.000000             16089.000000   \n",
       "\n",
       "            addresses/min_1k_count  addresses/min_10k_count  \n",
       "Date                                                         \n",
       "2020-12-20             2275.000000               107.000000  \n",
       "2020-12-21             2266.000000               107.000000  \n",
       "2020-12-22             2252.000000               105.000000  \n",
       "2020-12-23             2247.000000               103.000000  \n",
       "2020-12-24             2232.000000               103.000000  "
      ]
     },
     "execution_count": 66,
     "metadata": {},
     "output_type": "execute_result"
    }
   ],
   "source": [
    "# Latest Addresses Metric Values\n",
    "df_addresses.tail()"
   ]
  },
  {
   "cell_type": "markdown",
   "metadata": {},
   "source": [
    "#### Futures Metrics CSV-Files - Excluded as Data Available Only Since Feb 2020"
   ]
  },
  {
   "cell_type": "markdown",
   "metadata": {},
   "source": [
    "##### List of Future Features\n",
    "futures_feature_list = ['futures_volume_daily_all_sum', 'futures_volume_daily_perpetual_sum', 'futures_open_interest_all_sum', 'futures_open_interest_perpetual_sum', 'futures_funding_rate_perpetual']\n",
    "\n",
    "##### Counter to Differentiate between Data Frame Setup and Data Frame Extension\n",
    "counter=0\n",
    "\n",
    "##### For Loop through all Features in the List\n",
    "for x in futures_feature_list:\n",
    "    \n",
    "    ##### Import Feature CSV-Files\n",
    "    df = pd.read_csv(\"Glassnode/{}.csv\".format(x), index_col='Date')\n",
    "    \n",
    "    ##### Condition - Data Frame Set up or Data Frame Extension\n",
    "    if counter > 0:\n",
    "        \n",
    "        ##### Data Frame Extension - Inner Join\n",
    "        df_new = df_new.join(df, how='inner')\n",
    "    \n",
    "    else:\n",
    "        \n",
    "        ##### Data Frame Setup\n",
    "        df_new = df\n",
    "    \n",
    "    ##### Increase Counter\n",
    "    counter +=1\n",
    "\n",
    "##### Store Data Frame Copy in Market Data Frame\n",
    "df_futures = df_new.copy()\n",
    "\n",
    "##### Delete Original Data Frame\n",
    "del df_new\n",
    "\n",
    "##### Change Data Type of Columns to Float\n",
    "for y in df_futures.columns:\n",
    "    try:\n",
    "        df_futures[\"{}\".format(y)] = df_futures[\"{}\".format(y)].str.replace(',','.')\n",
    "        df_futures[\"{}\".format(y)] = df_futures[\"{}\".format(y)].astype(float)\n",
    "    except:\n",
    "        pass"
   ]
  },
  {
   "cell_type": "markdown",
   "metadata": {},
   "source": [
    "## Target Variables"
   ]
  },
  {
   "cell_type": "code",
   "execution_count": 67,
   "metadata": {
    "ExecuteTime": {
     "end_time": "2020-12-26T15:41:53.558511Z",
     "start_time": "2020-12-26T15:41:53.544513Z"
    }
   },
   "outputs": [],
   "source": [
    "df_return = pd.DataFrame(df_market['market/price_usd_close'])"
   ]
  },
  {
   "cell_type": "code",
   "execution_count": 68,
   "metadata": {
    "ExecuteTime": {
     "end_time": "2020-12-26T15:41:53.574434Z",
     "start_time": "2020-12-26T15:41:53.570444Z"
    }
   },
   "outputs": [],
   "source": [
    "df_return.columns = ['Closed Price USD']"
   ]
  },
  {
   "cell_type": "code",
   "execution_count": 69,
   "metadata": {
    "ExecuteTime": {
     "end_time": "2020-12-26T15:41:53.590391Z",
     "start_time": "2020-12-26T15:41:53.579420Z"
    }
   },
   "outputs": [],
   "source": [
    "# Add Column with BTC Daily Returns in USD\n",
    "df_return['Daily Return in USD'] = df_return['Closed Price USD'].diff()"
   ]
  },
  {
   "cell_type": "raw",
   "metadata": {},
   "source": [
    "# Add Column with BTC Daily Returns in Percent\n",
    "df_return['Daily Returns in Percent'] = (df_return['Daily Returns USD']) / (df_return['Closed Price USD'].shift(1))*100"
   ]
  },
  {
   "cell_type": "raw",
   "metadata": {},
   "source": [
    "# Add Column with BTC Daily Log Returns in Percent\n",
    "df_return['Daily Log Returns in Percent'] = pd.DataFrame(np.log(df_return['Closed Price USD']/df_return['Closed Price USD'].shift(1))*100)"
   ]
  },
  {
   "cell_type": "code",
   "execution_count": 70,
   "metadata": {
    "ExecuteTime": {
     "end_time": "2020-12-26T15:41:53.606389Z",
     "start_time": "2020-12-26T15:41:53.592385Z"
    }
   },
   "outputs": [
    {
     "data": {
      "text/html": [
       "<div>\n",
       "<style scoped>\n",
       "    .dataframe tbody tr th:only-of-type {\n",
       "        vertical-align: middle;\n",
       "    }\n",
       "\n",
       "    .dataframe tbody tr th {\n",
       "        vertical-align: top;\n",
       "    }\n",
       "\n",
       "    .dataframe thead th {\n",
       "        text-align: right;\n",
       "    }\n",
       "</style>\n",
       "<table border=\"1\" class=\"dataframe\">\n",
       "  <thead>\n",
       "    <tr style=\"text-align: right;\">\n",
       "      <th></th>\n",
       "      <th>Closed Price USD</th>\n",
       "      <th>Daily Return in USD</th>\n",
       "    </tr>\n",
       "    <tr>\n",
       "      <th>Date</th>\n",
       "      <th></th>\n",
       "      <th></th>\n",
       "    </tr>\n",
       "  </thead>\n",
       "  <tbody>\n",
       "    <tr>\n",
       "      <th>2020-12-20</th>\n",
       "      <td>23549.781123</td>\n",
       "      <td>-301.461391</td>\n",
       "    </tr>\n",
       "    <tr>\n",
       "      <th>2020-12-21</th>\n",
       "      <td>22875.455700</td>\n",
       "      <td>-674.325424</td>\n",
       "    </tr>\n",
       "    <tr>\n",
       "      <th>2020-12-22</th>\n",
       "      <td>23758.933628</td>\n",
       "      <td>883.477928</td>\n",
       "    </tr>\n",
       "    <tr>\n",
       "      <th>2020-12-23</th>\n",
       "      <td>23279.549293</td>\n",
       "      <td>-479.384335</td>\n",
       "    </tr>\n",
       "    <tr>\n",
       "      <th>2020-12-24</th>\n",
       "      <td>23764.753405</td>\n",
       "      <td>485.204112</td>\n",
       "    </tr>\n",
       "  </tbody>\n",
       "</table>\n",
       "</div>"
      ],
      "text/plain": [
       "            Closed Price USD  Daily Return in USD\n",
       "Date                                             \n",
       "2020-12-20      23549.781123          -301.461391\n",
       "2020-12-21      22875.455700          -674.325424\n",
       "2020-12-22      23758.933628           883.477928\n",
       "2020-12-23      23279.549293          -479.384335\n",
       "2020-12-24      23764.753405           485.204112"
      ]
     },
     "execution_count": 70,
     "metadata": {},
     "output_type": "execute_result"
    }
   ],
   "source": [
    "df_return.tail()"
   ]
  },
  {
   "cell_type": "markdown",
   "metadata": {},
   "source": [
    "## Feature Engineering"
   ]
  },
  {
   "cell_type": "markdown",
   "metadata": {},
   "source": [
    "### Volatility"
   ]
  },
  {
   "cell_type": "code",
   "execution_count": 71,
   "metadata": {
    "ExecuteTime": {
     "end_time": "2020-12-26T15:41:53.622341Z",
     "start_time": "2020-12-26T15:41:53.608344Z"
    }
   },
   "outputs": [],
   "source": [
    "# Selecting BTC Close Price in USD\n",
    "df_volatility = pd.DataFrame(df_market['market/price_usd_close'])"
   ]
  },
  {
   "cell_type": "code",
   "execution_count": 72,
   "metadata": {
    "ExecuteTime": {
     "end_time": "2020-12-26T15:41:53.638263Z",
     "start_time": "2020-12-26T15:41:53.625298Z"
    }
   },
   "outputs": [],
   "source": [
    "# Rename Price Column\n",
    "df_volatility.columns = ['Closed Price USD']"
   ]
  },
  {
   "cell_type": "code",
   "execution_count": 73,
   "metadata": {
    "ExecuteTime": {
     "end_time": "2020-12-26T15:41:53.654310Z",
     "start_time": "2020-12-26T15:41:53.640257Z"
    }
   },
   "outputs": [],
   "source": [
    "# Add Column with BTC Daily Returns in USD\n",
    "df_volatility['Daily Return in USD'] = df_volatility['Closed Price USD'].diff()"
   ]
  },
  {
   "cell_type": "code",
   "execution_count": 74,
   "metadata": {
    "ExecuteTime": {
     "end_time": "2020-12-26T15:41:53.670216Z",
     "start_time": "2020-12-26T15:41:53.656217Z"
    }
   },
   "outputs": [],
   "source": [
    "# Add Column with BTC Daily Returns in Percent\n",
    "df_volatility['Daily Return in Percent'] = (df_volatility['Daily Return in USD']) / (df_volatility['Closed Price USD'].shift(1))*100"
   ]
  },
  {
   "cell_type": "code",
   "execution_count": 75,
   "metadata": {
    "ExecuteTime": {
     "end_time": "2020-12-26T15:41:53.686170Z",
     "start_time": "2020-12-26T15:41:53.672172Z"
    }
   },
   "outputs": [],
   "source": [
    "# Add Column with BTC Daily Log Returns in Percent\n",
    "df_volatility['Daily Log Return in Percent'] = pd.DataFrame(np.log(df_volatility['Closed Price USD']/df_volatility['Closed Price USD'].shift(1))*100)"
   ]
  },
  {
   "cell_type": "code",
   "execution_count": 76,
   "metadata": {
    "ExecuteTime": {
     "end_time": "2020-12-26T15:41:53.702092Z",
     "start_time": "2020-12-26T15:41:53.687133Z"
    }
   },
   "outputs": [
    {
     "data": {
      "text/html": [
       "<div>\n",
       "<style scoped>\n",
       "    .dataframe tbody tr th:only-of-type {\n",
       "        vertical-align: middle;\n",
       "    }\n",
       "\n",
       "    .dataframe tbody tr th {\n",
       "        vertical-align: top;\n",
       "    }\n",
       "\n",
       "    .dataframe thead th {\n",
       "        text-align: right;\n",
       "    }\n",
       "</style>\n",
       "<table border=\"1\" class=\"dataframe\">\n",
       "  <thead>\n",
       "    <tr style=\"text-align: right;\">\n",
       "      <th></th>\n",
       "      <th>Closed Price USD</th>\n",
       "      <th>Daily Return in USD</th>\n",
       "      <th>Daily Return in Percent</th>\n",
       "      <th>Daily Log Return in Percent</th>\n",
       "    </tr>\n",
       "    <tr>\n",
       "      <th>Date</th>\n",
       "      <th></th>\n",
       "      <th></th>\n",
       "      <th></th>\n",
       "      <th></th>\n",
       "    </tr>\n",
       "  </thead>\n",
       "  <tbody>\n",
       "    <tr>\n",
       "      <th>2020-12-20</th>\n",
       "      <td>23549.781123</td>\n",
       "      <td>-301.461391</td>\n",
       "      <td>-1.263923</td>\n",
       "      <td>-1.271979</td>\n",
       "    </tr>\n",
       "    <tr>\n",
       "      <th>2020-12-21</th>\n",
       "      <td>22875.455700</td>\n",
       "      <td>-674.325424</td>\n",
       "      <td>-2.863404</td>\n",
       "      <td>-2.905199</td>\n",
       "    </tr>\n",
       "    <tr>\n",
       "      <th>2020-12-22</th>\n",
       "      <td>23758.933628</td>\n",
       "      <td>883.477928</td>\n",
       "      <td>3.862122</td>\n",
       "      <td>3.789408</td>\n",
       "    </tr>\n",
       "    <tr>\n",
       "      <th>2020-12-23</th>\n",
       "      <td>23279.549293</td>\n",
       "      <td>-479.384335</td>\n",
       "      <td>-2.017701</td>\n",
       "      <td>-2.038335</td>\n",
       "    </tr>\n",
       "    <tr>\n",
       "      <th>2020-12-24</th>\n",
       "      <td>23764.753405</td>\n",
       "      <td>485.204112</td>\n",
       "      <td>2.084250</td>\n",
       "      <td>2.062827</td>\n",
       "    </tr>\n",
       "  </tbody>\n",
       "</table>\n",
       "</div>"
      ],
      "text/plain": [
       "            Closed Price USD  Daily Return in USD  Daily Return in Percent  \\\n",
       "Date                                                                         \n",
       "2020-12-20      23549.781123          -301.461391                -1.263923   \n",
       "2020-12-21      22875.455700          -674.325424                -2.863404   \n",
       "2020-12-22      23758.933628           883.477928                 3.862122   \n",
       "2020-12-23      23279.549293          -479.384335                -2.017701   \n",
       "2020-12-24      23764.753405           485.204112                 2.084250   \n",
       "\n",
       "            Daily Log Return in Percent  \n",
       "Date                                     \n",
       "2020-12-20                    -1.271979  \n",
       "2020-12-21                    -2.905199  \n",
       "2020-12-22                     3.789408  \n",
       "2020-12-23                    -2.038335  \n",
       "2020-12-24                     2.062827  "
      ]
     },
     "execution_count": 76,
     "metadata": {},
     "output_type": "execute_result"
    }
   ],
   "source": [
    "df_volatility.tail()"
   ]
  },
  {
   "cell_type": "code",
   "execution_count": 77,
   "metadata": {
    "ExecuteTime": {
     "end_time": "2020-12-26T15:41:53.718049Z",
     "start_time": "2020-12-26T15:41:53.704186Z"
    }
   },
   "outputs": [],
   "source": [
    "# Calculation of Rolling Volatility of BTC Daily Log Returns for 10, 20 and 30 days period\n",
    "df_volatility['Volatility Daily Log Return in Percent 3D'] = pd.DataFrame(df_volatility['Daily Log Return in Percent'].rolling(window=3, min_periods=1).std())\n",
    "df_volatility['Volatility Daily Log Return in Percent 5D'] = pd.DataFrame(df_volatility['Daily Log Return in Percent'].rolling(window=5, min_periods=1).std())\n",
    "df_volatility['Volatility Daily Log Return in Percent 10D'] = pd.DataFrame(df_volatility['Daily Log Return in Percent'].rolling(window=10, min_periods=1).std())"
   ]
  },
  {
   "cell_type": "code",
   "execution_count": 78,
   "metadata": {
    "ExecuteTime": {
     "end_time": "2020-12-26T15:41:53.734008Z",
     "start_time": "2020-12-26T15:41:53.720044Z"
    }
   },
   "outputs": [
    {
     "data": {
      "text/html": [
       "<div>\n",
       "<style scoped>\n",
       "    .dataframe tbody tr th:only-of-type {\n",
       "        vertical-align: middle;\n",
       "    }\n",
       "\n",
       "    .dataframe tbody tr th {\n",
       "        vertical-align: top;\n",
       "    }\n",
       "\n",
       "    .dataframe thead th {\n",
       "        text-align: right;\n",
       "    }\n",
       "</style>\n",
       "<table border=\"1\" class=\"dataframe\">\n",
       "  <thead>\n",
       "    <tr style=\"text-align: right;\">\n",
       "      <th></th>\n",
       "      <th>Closed Price USD</th>\n",
       "      <th>Daily Return in USD</th>\n",
       "      <th>Daily Return in Percent</th>\n",
       "      <th>Daily Log Return in Percent</th>\n",
       "      <th>Volatility Daily Log Return in Percent 3D</th>\n",
       "      <th>Volatility Daily Log Return in Percent 5D</th>\n",
       "      <th>Volatility Daily Log Return in Percent 10D</th>\n",
       "    </tr>\n",
       "    <tr>\n",
       "      <th>Date</th>\n",
       "      <th></th>\n",
       "      <th></th>\n",
       "      <th></th>\n",
       "      <th></th>\n",
       "      <th></th>\n",
       "      <th></th>\n",
       "      <th></th>\n",
       "    </tr>\n",
       "  </thead>\n",
       "  <tbody>\n",
       "    <tr>\n",
       "      <th>2020-12-20</th>\n",
       "      <td>23549.781123</td>\n",
       "      <td>-301.461391</td>\n",
       "      <td>-1.263923</td>\n",
       "      <td>-1.271979</td>\n",
       "      <td>2.286554</td>\n",
       "      <td>4.235064</td>\n",
       "      <td>3.374177</td>\n",
       "    </tr>\n",
       "    <tr>\n",
       "      <th>2020-12-21</th>\n",
       "      <td>22875.455700</td>\n",
       "      <td>-674.325424</td>\n",
       "      <td>-2.863404</td>\n",
       "      <td>-2.905199</td>\n",
       "      <td>3.212215</td>\n",
       "      <td>3.736315</td>\n",
       "      <td>3.632825</td>\n",
       "    </tr>\n",
       "    <tr>\n",
       "      <th>2020-12-22</th>\n",
       "      <td>23758.933628</td>\n",
       "      <td>883.477928</td>\n",
       "      <td>3.862122</td>\n",
       "      <td>3.789408</td>\n",
       "      <td>3.490530</td>\n",
       "      <td>2.888440</td>\n",
       "      <td>3.627352</td>\n",
       "    </tr>\n",
       "    <tr>\n",
       "      <th>2020-12-23</th>\n",
       "      <td>23279.549293</td>\n",
       "      <td>-479.384335</td>\n",
       "      <td>-2.017701</td>\n",
       "      <td>-2.038335</td>\n",
       "      <td>3.640783</td>\n",
       "      <td>3.132969</td>\n",
       "      <td>3.885051</td>\n",
       "    </tr>\n",
       "    <tr>\n",
       "      <th>2020-12-24</th>\n",
       "      <td>23764.753405</td>\n",
       "      <td>485.204112</td>\n",
       "      <td>2.084250</td>\n",
       "      <td>2.062827</td>\n",
       "      <td>2.993415</td>\n",
       "      <td>2.863625</td>\n",
       "      <td>3.851810</td>\n",
       "    </tr>\n",
       "  </tbody>\n",
       "</table>\n",
       "</div>"
      ],
      "text/plain": [
       "            Closed Price USD  Daily Return in USD  Daily Return in Percent  \\\n",
       "Date                                                                         \n",
       "2020-12-20      23549.781123          -301.461391                -1.263923   \n",
       "2020-12-21      22875.455700          -674.325424                -2.863404   \n",
       "2020-12-22      23758.933628           883.477928                 3.862122   \n",
       "2020-12-23      23279.549293          -479.384335                -2.017701   \n",
       "2020-12-24      23764.753405           485.204112                 2.084250   \n",
       "\n",
       "            Daily Log Return in Percent  \\\n",
       "Date                                      \n",
       "2020-12-20                    -1.271979   \n",
       "2020-12-21                    -2.905199   \n",
       "2020-12-22                     3.789408   \n",
       "2020-12-23                    -2.038335   \n",
       "2020-12-24                     2.062827   \n",
       "\n",
       "            Volatility Daily Log Return in Percent 3D  \\\n",
       "Date                                                    \n",
       "2020-12-20                                   2.286554   \n",
       "2020-12-21                                   3.212215   \n",
       "2020-12-22                                   3.490530   \n",
       "2020-12-23                                   3.640783   \n",
       "2020-12-24                                   2.993415   \n",
       "\n",
       "            Volatility Daily Log Return in Percent 5D  \\\n",
       "Date                                                    \n",
       "2020-12-20                                   4.235064   \n",
       "2020-12-21                                   3.736315   \n",
       "2020-12-22                                   2.888440   \n",
       "2020-12-23                                   3.132969   \n",
       "2020-12-24                                   2.863625   \n",
       "\n",
       "            Volatility Daily Log Return in Percent 10D  \n",
       "Date                                                    \n",
       "2020-12-20                                    3.374177  \n",
       "2020-12-21                                    3.632825  \n",
       "2020-12-22                                    3.627352  \n",
       "2020-12-23                                    3.885051  \n",
       "2020-12-24                                    3.851810  "
      ]
     },
     "execution_count": 78,
     "metadata": {},
     "output_type": "execute_result"
    }
   ],
   "source": [
    "df_volatility.tail()"
   ]
  },
  {
   "cell_type": "code",
   "execution_count": 79,
   "metadata": {
    "ExecuteTime": {
     "end_time": "2020-12-26T15:41:53.750010Z",
     "start_time": "2020-12-26T15:41:53.736044Z"
    }
   },
   "outputs": [],
   "source": [
    "df_volatility_reduced = df_volatility['Volatility Daily Log Return in Percent 5D']"
   ]
  },
  {
   "cell_type": "markdown",
   "metadata": {},
   "source": [
    "### Log Price"
   ]
  },
  {
   "cell_type": "code",
   "execution_count": 80,
   "metadata": {
    "ExecuteTime": {
     "end_time": "2020-12-26T15:41:53.765958Z",
     "start_time": "2020-12-26T15:41:53.751959Z"
    }
   },
   "outputs": [],
   "source": [
    "# Selecting BTC Close Price in USD\n",
    "df_logprice = pd.DataFrame(np.log(df_market['market/price_usd_close']))"
   ]
  },
  {
   "cell_type": "code",
   "execution_count": 81,
   "metadata": {
    "ExecuteTime": {
     "end_time": "2020-12-26T15:41:53.781880Z",
     "start_time": "2020-12-26T15:41:53.767917Z"
    }
   },
   "outputs": [],
   "source": [
    "df_logprice.columns = ['Log Price in USD']"
   ]
  },
  {
   "cell_type": "code",
   "execution_count": 82,
   "metadata": {
    "ExecuteTime": {
     "end_time": "2020-12-26T15:41:53.796839Z",
     "start_time": "2020-12-26T15:41:53.782876Z"
    }
   },
   "outputs": [
    {
     "data": {
      "text/html": [
       "<div>\n",
       "<style scoped>\n",
       "    .dataframe tbody tr th:only-of-type {\n",
       "        vertical-align: middle;\n",
       "    }\n",
       "\n",
       "    .dataframe tbody tr th {\n",
       "        vertical-align: top;\n",
       "    }\n",
       "\n",
       "    .dataframe thead th {\n",
       "        text-align: right;\n",
       "    }\n",
       "</style>\n",
       "<table border=\"1\" class=\"dataframe\">\n",
       "  <thead>\n",
       "    <tr style=\"text-align: right;\">\n",
       "      <th></th>\n",
       "      <th>Log Price in USD</th>\n",
       "    </tr>\n",
       "    <tr>\n",
       "      <th>Date</th>\n",
       "      <th></th>\n",
       "    </tr>\n",
       "  </thead>\n",
       "  <tbody>\n",
       "    <tr>\n",
       "      <th>2020-12-20</th>\n",
       "      <td>10.066872</td>\n",
       "    </tr>\n",
       "    <tr>\n",
       "      <th>2020-12-21</th>\n",
       "      <td>10.037820</td>\n",
       "    </tr>\n",
       "    <tr>\n",
       "      <th>2020-12-22</th>\n",
       "      <td>10.075714</td>\n",
       "    </tr>\n",
       "    <tr>\n",
       "      <th>2020-12-23</th>\n",
       "      <td>10.055331</td>\n",
       "    </tr>\n",
       "    <tr>\n",
       "      <th>2020-12-24</th>\n",
       "      <td>10.075959</td>\n",
       "    </tr>\n",
       "  </tbody>\n",
       "</table>\n",
       "</div>"
      ],
      "text/plain": [
       "            Log Price in USD\n",
       "Date                        \n",
       "2020-12-20         10.066872\n",
       "2020-12-21         10.037820\n",
       "2020-12-22         10.075714\n",
       "2020-12-23         10.055331\n",
       "2020-12-24         10.075959"
      ]
     },
     "execution_count": 82,
     "metadata": {},
     "output_type": "execute_result"
    }
   ],
   "source": [
    "df_logprice.tail()"
   ]
  },
  {
   "cell_type": "markdown",
   "metadata": {},
   "source": [
    "# Data Sets"
   ]
  },
  {
   "cell_type": "markdown",
   "metadata": {},
   "source": [
    "## Data Set I. - Blockchain Metrics Only"
   ]
  },
  {
   "cell_type": "code",
   "execution_count": 83,
   "metadata": {
    "ExecuteTime": {
     "end_time": "2020-12-26T15:41:53.828041Z",
     "start_time": "2020-12-26T15:41:53.797836Z"
    }
   },
   "outputs": [],
   "source": [
    "# Merging all Blockchain DataFrame Metrics\n",
    "df_blockchain = pd.concat([df_return, df_logprice, df_volatility_reduced, df_market, df_mining, df_blockfeatures, df_fees, df_utxo, df_supply, \n",
    "                           df_transaction, df_indicator1, df_indicator2, df_indicator3, df_addresses], axis=1, join='inner')"
   ]
  },
  {
   "cell_type": "code",
   "execution_count": 84,
   "metadata": {
    "ExecuteTime": {
     "end_time": "2020-12-26T15:41:53.844077Z",
     "start_time": "2020-12-26T15:41:53.829039Z"
    }
   },
   "outputs": [],
   "source": [
    "df_blockchain = df_blockchain.dropna()"
   ]
  },
  {
   "cell_type": "code",
   "execution_count": 85,
   "metadata": {
    "ExecuteTime": {
     "end_time": "2020-12-26T15:41:53.859957Z",
     "start_time": "2020-12-26T15:41:53.845299Z"
    }
   },
   "outputs": [],
   "source": [
    "df_blockchain = df_blockchain.drop(['Closed Price USD'], axis=1)"
   ]
  },
  {
   "cell_type": "code",
   "execution_count": 86,
   "metadata": {
    "ExecuteTime": {
     "end_time": "2020-12-26T15:41:53.875949Z",
     "start_time": "2020-12-26T15:41:53.860954Z"
    }
   },
   "outputs": [],
   "source": [
    "df_blockchain.index = df_blockchain.index.astype('datetime64[ns]')"
   ]
  },
  {
   "cell_type": "code",
   "execution_count": 87,
   "metadata": {
    "ExecuteTime": {
     "end_time": "2020-12-26T15:41:53.907830Z",
     "start_time": "2020-12-26T15:41:53.877913Z"
    },
    "scrolled": true
   },
   "outputs": [
    {
     "name": "stdout",
     "output_type": "stream",
     "text": [
      "<class 'pandas.core.frame.DataFrame'>\n",
      "DatetimeIndex: 3450 entries, 2011-07-16 to 2020-12-24\n",
      "Data columns (total 91 columns):\n",
      " #   Column                                      Non-Null Count  Dtype  \n",
      "---  ------                                      --------------  -----  \n",
      " 0   Daily Return in USD                         3450 non-null   float64\n",
      " 1   Log Price in USD                            3450 non-null   float64\n",
      " 2   Volatility Daily Log Return in Percent 5D   3450 non-null   float64\n",
      " 3   market/price_usd_close                      3450 non-null   float64\n",
      " 4   market/price_drawdown_relative              3450 non-null   float64\n",
      " 5   market/price_realized_usd                   3450 non-null   float64\n",
      " 6   market/mvrv                                 3450 non-null   float64\n",
      " 7   mining/difficulty_latest                    3450 non-null   float64\n",
      " 8   mining/hash_rate_mean                       3450 non-null   float64\n",
      " 9   blockchain/block_count                      3450 non-null   float64\n",
      " 10  blockchain/block_interval_mean              3450 non-null   float64\n",
      " 11  blockchain/block_size_sum                   3450 non-null   float64\n",
      " 12  fees/volume_sum                             3450 non-null   float64\n",
      " 13  fees/volume_mean                            3450 non-null   float64\n",
      " 14  fees/fee_ratio_multiple                     3450 non-null   float64\n",
      " 15  blockchain/utxo_created_count               3450 non-null   float64\n",
      " 16  blockchain/utxo_spent_count                 3450 non-null   float64\n",
      " 17  blockchain/utxo_created_value_sum           3450 non-null   float64\n",
      " 18  blockchain/utxo_spent_value_sum             3450 non-null   float64\n",
      " 19  blockchain/utxo_profit_relative             3450 non-null   float64\n",
      " 20  blockchain/utxo_profit_count                3450 non-null   float64\n",
      " 21  blockchain/utxo_loss_count                  3450 non-null   float64\n",
      " 22  supply/current                              3450 non-null   float64\n",
      " 23  supply/profit_relative                      3450 non-null   float64\n",
      " 24  supply/profit_sum                           3450 non-null   float64\n",
      " 25  supply/loss_sum                             3450 non-null   float64\n",
      " 26  supply/active_more_1y_percent               3450 non-null   float64\n",
      " 27  supply/active_more_2y_percent               3450 non-null   float64\n",
      " 28  supply/active_more_3y_percent               3450 non-null   float64\n",
      " 29  supply/active_more_5y_percent               3450 non-null   float64\n",
      " 30  supply/active_24h                           3450 non-null   float64\n",
      " 31  supply/active_1d_1w                         3450 non-null   float64\n",
      " 32  supply/active_1w_1m                         3450 non-null   float64\n",
      " 33  supply/active_1m_3m                         3450 non-null   float64\n",
      " 34  supply/active_3m_6m                         3450 non-null   float64\n",
      " 35  supply/active_6m_12m                        3450 non-null   float64\n",
      " 36  supply/active_1y_2y                         3450 non-null   float64\n",
      " 37  supply/active_2y_3y                         3450 non-null   float64\n",
      " 38  supply/active_3y_5y                         3450 non-null   float64\n",
      " 39  supply/active_5y_7y                         3450 non-null   float64\n",
      " 40  supply/active_7y_10y                        3450 non-null   float64\n",
      " 41  supply/active_more_10y                      3450 non-null   float64\n",
      " 42  supply/issued                               3450 non-null   float64\n",
      " 43  supply/inflation_rate                       3450 non-null   float64\n",
      " 44  transactions/count                          3450 non-null   float64\n",
      " 45  transactions/size_sum                       3450 non-null   float64\n",
      " 46  transactions/transfers_volume_sum           3450 non-null   float64\n",
      " 47  transactions/transfers_volume_adjusted_sum  3450 non-null   float64\n",
      " 48  indicators/sopr_adjusted                    3450 non-null   float64\n",
      " 49  indicators/nvt                              3450 non-null   float64\n",
      " 50  indicators/velocity                         3450 non-null   float64\n",
      " 51  indicators/cdd                              3450 non-null   float64\n",
      " 52  indicators/reserve_risk                     3450 non-null   float64\n",
      " 53  indicators/average_dormancy                 3450 non-null   float64\n",
      " 54  indicators/liveliness                       3450 non-null   float64\n",
      " 55  indicators/asol                             3450 non-null   float64\n",
      " 56  indicators/sol_1h                           3450 non-null   float64\n",
      " 57  indicators/sol_1h_24h                       3450 non-null   float64\n",
      " 58  indicators/sol_1d_1w                        3450 non-null   float64\n",
      " 59  indicators/sol_1w_1m                        3450 non-null   float64\n",
      " 60  indicators/sol_1m_3m                        3450 non-null   float64\n",
      " 61  indicators/sol_3m_6m                        3450 non-null   float64\n",
      " 62  indicators/sol_6m_12m                       3450 non-null   float64\n",
      " 63  indicators/sol_1y_2y                        3450 non-null   float64\n",
      " 64  indicators/sol_2y_3y                        3450 non-null   float64\n",
      " 65  indicators/sol_3y_5y                        3450 non-null   float64\n",
      " 66  indicators/sol_5y_7y                        3450 non-null   float64\n",
      " 67  indicators/sol_7y_10y                       3450 non-null   float64\n",
      " 68  indicators/net_unrealized_profit_loss       3450 non-null   float64\n",
      " 69  indicators/unrealized_profit                3450 non-null   float64\n",
      " 70  indicators/unrealized_loss                  3450 non-null   float64\n",
      " 71  indicators/net_realized_profit_loss         3450 non-null   float64\n",
      " 72  indicators/realized_profit                  3450 non-null   float64\n",
      " 73  indicators/realized_loss                    3450 non-null   float64\n",
      " 74  indicators/nupl_more_155                    3450 non-null   float64\n",
      " 75  indicators/nupl_less_155                    3450 non-null   float64\n",
      " 76  indicators/puell_multiple                   3450 non-null   float64\n",
      " 77  indicators/stock_to_flow_deflection         3450 non-null   float64\n",
      " 78  indicators/difficulty_ribbon_compression    3450 non-null   float64\n",
      " 79  addresses/active_count                      3450 non-null   float64\n",
      " 80  addresses/sending_count                     3450 non-null   float64\n",
      " 81  addresses/receiving_count                   3450 non-null   float64\n",
      " 82  addresses/new_non_zero_count                3450 non-null   float64\n",
      " 83  addresses/non_zero_count                    3450 non-null   float64\n",
      " 84  addresses/min_point_zero_1_count            3450 non-null   float64\n",
      " 85  addresses/min_point_1_count                 3450 non-null   float64\n",
      " 86  addresses/min_1_count                       3450 non-null   float64\n",
      " 87  addresses/min_10_count                      3450 non-null   float64\n",
      " 88  addresses/min_100_count                     3450 non-null   float64\n",
      " 89  addresses/min_1k_count                      3450 non-null   float64\n",
      " 90  addresses/min_10k_count                     3450 non-null   float64\n",
      "dtypes: float64(91)\n",
      "memory usage: 2.4 MB\n"
     ]
    }
   ],
   "source": [
    "df_blockchain.info()"
   ]
  },
  {
   "cell_type": "code",
   "execution_count": 88,
   "metadata": {
    "ExecuteTime": {
     "end_time": "2020-12-26T15:41:53.939743Z",
     "start_time": "2020-12-26T15:41:53.909825Z"
    }
   },
   "outputs": [
    {
     "data": {
      "text/html": [
       "<div>\n",
       "<style scoped>\n",
       "    .dataframe tbody tr th:only-of-type {\n",
       "        vertical-align: middle;\n",
       "    }\n",
       "\n",
       "    .dataframe tbody tr th {\n",
       "        vertical-align: top;\n",
       "    }\n",
       "\n",
       "    .dataframe thead th {\n",
       "        text-align: right;\n",
       "    }\n",
       "</style>\n",
       "<table border=\"1\" class=\"dataframe\">\n",
       "  <thead>\n",
       "    <tr style=\"text-align: right;\">\n",
       "      <th></th>\n",
       "      <th>Daily Return in USD</th>\n",
       "      <th>Log Price in USD</th>\n",
       "      <th>Volatility Daily Log Return in Percent 5D</th>\n",
       "      <th>market/price_usd_close</th>\n",
       "      <th>market/price_drawdown_relative</th>\n",
       "      <th>market/price_realized_usd</th>\n",
       "      <th>market/mvrv</th>\n",
       "      <th>mining/difficulty_latest</th>\n",
       "      <th>mining/hash_rate_mean</th>\n",
       "      <th>blockchain/block_count</th>\n",
       "      <th>...</th>\n",
       "      <th>addresses/receiving_count</th>\n",
       "      <th>addresses/new_non_zero_count</th>\n",
       "      <th>addresses/non_zero_count</th>\n",
       "      <th>addresses/min_point_zero_1_count</th>\n",
       "      <th>addresses/min_point_1_count</th>\n",
       "      <th>addresses/min_1_count</th>\n",
       "      <th>addresses/min_10_count</th>\n",
       "      <th>addresses/min_100_count</th>\n",
       "      <th>addresses/min_1k_count</th>\n",
       "      <th>addresses/min_10k_count</th>\n",
       "    </tr>\n",
       "    <tr>\n",
       "      <th>Date</th>\n",
       "      <th></th>\n",
       "      <th></th>\n",
       "      <th></th>\n",
       "      <th></th>\n",
       "      <th></th>\n",
       "      <th></th>\n",
       "      <th></th>\n",
       "      <th></th>\n",
       "      <th></th>\n",
       "      <th></th>\n",
       "      <th></th>\n",
       "      <th></th>\n",
       "      <th></th>\n",
       "      <th></th>\n",
       "      <th></th>\n",
       "      <th></th>\n",
       "      <th></th>\n",
       "      <th></th>\n",
       "      <th></th>\n",
       "      <th></th>\n",
       "      <th></th>\n",
       "    </tr>\n",
       "  </thead>\n",
       "  <tbody>\n",
       "    <tr>\n",
       "      <th>2020-12-20</th>\n",
       "      <td>-301.461391</td>\n",
       "      <td>10.066872</td>\n",
       "      <td>4.235064</td>\n",
       "      <td>23549.781123</td>\n",
       "      <td>-0.025324</td>\n",
       "      <td>8159.474215</td>\n",
       "      <td>2.890503</td>\n",
       "      <td>80187763369133704478720.000000</td>\n",
       "      <td>141220096205307002880.000000</td>\n",
       "      <td>151.000000</td>\n",
       "      <td>...</td>\n",
       "      <td>638805.000000</td>\n",
       "      <td>465212.000000</td>\n",
       "      <td>33157050.000000</td>\n",
       "      <td>8520195.000000</td>\n",
       "      <td>3128579.000000</td>\n",
       "      <td>827865.000000</td>\n",
       "      <td>153996.000000</td>\n",
       "      <td>16101.000000</td>\n",
       "      <td>2275.000000</td>\n",
       "      <td>107.000000</td>\n",
       "    </tr>\n",
       "    <tr>\n",
       "      <th>2020-12-21</th>\n",
       "      <td>-674.325424</td>\n",
       "      <td>10.037820</td>\n",
       "      <td>3.736315</td>\n",
       "      <td>22875.455700</td>\n",
       "      <td>-0.053233</td>\n",
       "      <td>8205.792035</td>\n",
       "      <td>2.832762</td>\n",
       "      <td>80187763369133704478720.000000</td>\n",
       "      <td>125467801265571004416.000000</td>\n",
       "      <td>136.000000</td>\n",
       "      <td>...</td>\n",
       "      <td>649831.000000</td>\n",
       "      <td>461211.000000</td>\n",
       "      <td>33047778.000000</td>\n",
       "      <td>8550819.000000</td>\n",
       "      <td>3133729.000000</td>\n",
       "      <td>828815.000000</td>\n",
       "      <td>153675.000000</td>\n",
       "      <td>16081.000000</td>\n",
       "      <td>2266.000000</td>\n",
       "      <td>107.000000</td>\n",
       "    </tr>\n",
       "    <tr>\n",
       "      <th>2020-12-22</th>\n",
       "      <td>883.477928</td>\n",
       "      <td>10.075714</td>\n",
       "      <td>2.888440</td>\n",
       "      <td>23758.933628</td>\n",
       "      <td>-0.016668</td>\n",
       "      <td>8286.352932</td>\n",
       "      <td>2.786825</td>\n",
       "      <td>80187763369133704478720.000000</td>\n",
       "      <td>132165952003620995072.000000</td>\n",
       "      <td>143.000000</td>\n",
       "      <td>...</td>\n",
       "      <td>738830.000000</td>\n",
       "      <td>528210.000000</td>\n",
       "      <td>33068915.000000</td>\n",
       "      <td>8550157.000000</td>\n",
       "      <td>3139132.000000</td>\n",
       "      <td>829715.000000</td>\n",
       "      <td>153788.000000</td>\n",
       "      <td>16136.000000</td>\n",
       "      <td>2252.000000</td>\n",
       "      <td>105.000000</td>\n",
       "    </tr>\n",
       "    <tr>\n",
       "      <th>2020-12-23</th>\n",
       "      <td>-479.384335</td>\n",
       "      <td>10.055331</td>\n",
       "      <td>3.132969</td>\n",
       "      <td>23279.549293</td>\n",
       "      <td>-0.036508</td>\n",
       "      <td>8375.793326</td>\n",
       "      <td>2.811232</td>\n",
       "      <td>80187763369133704478720.000000</td>\n",
       "      <td>146111617294112997376.000000</td>\n",
       "      <td>154.000000</td>\n",
       "      <td>...</td>\n",
       "      <td>782721.000000</td>\n",
       "      <td>540230.000000</td>\n",
       "      <td>33111216.000000</td>\n",
       "      <td>8544699.000000</td>\n",
       "      <td>3133057.000000</td>\n",
       "      <td>828576.000000</td>\n",
       "      <td>153724.000000</td>\n",
       "      <td>16119.000000</td>\n",
       "      <td>2247.000000</td>\n",
       "      <td>103.000000</td>\n",
       "    </tr>\n",
       "    <tr>\n",
       "      <th>2020-12-24</th>\n",
       "      <td>485.204112</td>\n",
       "      <td>10.075959</td>\n",
       "      <td>2.863625</td>\n",
       "      <td>23764.753405</td>\n",
       "      <td>-0.016427</td>\n",
       "      <td>8448.066552</td>\n",
       "      <td>2.750256</td>\n",
       "      <td>80187763369133704478720.000000</td>\n",
       "      <td>114954071251531005952.000000</td>\n",
       "      <td>126.000000</td>\n",
       "      <td>...</td>\n",
       "      <td>639266.000000</td>\n",
       "      <td>447429.000000</td>\n",
       "      <td>33117973.000000</td>\n",
       "      <td>8545074.000000</td>\n",
       "      <td>3134905.000000</td>\n",
       "      <td>829222.000000</td>\n",
       "      <td>153650.000000</td>\n",
       "      <td>16089.000000</td>\n",
       "      <td>2232.000000</td>\n",
       "      <td>103.000000</td>\n",
       "    </tr>\n",
       "  </tbody>\n",
       "</table>\n",
       "<p>5 rows × 91 columns</p>\n",
       "</div>"
      ],
      "text/plain": [
       "            Daily Return in USD  Log Price in USD  \\\n",
       "Date                                                \n",
       "2020-12-20          -301.461391         10.066872   \n",
       "2020-12-21          -674.325424         10.037820   \n",
       "2020-12-22           883.477928         10.075714   \n",
       "2020-12-23          -479.384335         10.055331   \n",
       "2020-12-24           485.204112         10.075959   \n",
       "\n",
       "            Volatility Daily Log Return in Percent 5D  market/price_usd_close  \\\n",
       "Date                                                                            \n",
       "2020-12-20                                   4.235064            23549.781123   \n",
       "2020-12-21                                   3.736315            22875.455700   \n",
       "2020-12-22                                   2.888440            23758.933628   \n",
       "2020-12-23                                   3.132969            23279.549293   \n",
       "2020-12-24                                   2.863625            23764.753405   \n",
       "\n",
       "            market/price_drawdown_relative  market/price_realized_usd  \\\n",
       "Date                                                                    \n",
       "2020-12-20                       -0.025324                8159.474215   \n",
       "2020-12-21                       -0.053233                8205.792035   \n",
       "2020-12-22                       -0.016668                8286.352932   \n",
       "2020-12-23                       -0.036508                8375.793326   \n",
       "2020-12-24                       -0.016427                8448.066552   \n",
       "\n",
       "            market/mvrv       mining/difficulty_latest  \\\n",
       "Date                                                     \n",
       "2020-12-20     2.890503 80187763369133704478720.000000   \n",
       "2020-12-21     2.832762 80187763369133704478720.000000   \n",
       "2020-12-22     2.786825 80187763369133704478720.000000   \n",
       "2020-12-23     2.811232 80187763369133704478720.000000   \n",
       "2020-12-24     2.750256 80187763369133704478720.000000   \n",
       "\n",
       "                  mining/hash_rate_mean  blockchain/block_count  ...  \\\n",
       "Date                                                             ...   \n",
       "2020-12-20 141220096205307002880.000000              151.000000  ...   \n",
       "2020-12-21 125467801265571004416.000000              136.000000  ...   \n",
       "2020-12-22 132165952003620995072.000000              143.000000  ...   \n",
       "2020-12-23 146111617294112997376.000000              154.000000  ...   \n",
       "2020-12-24 114954071251531005952.000000              126.000000  ...   \n",
       "\n",
       "            addresses/receiving_count  addresses/new_non_zero_count  \\\n",
       "Date                                                                  \n",
       "2020-12-20              638805.000000                 465212.000000   \n",
       "2020-12-21              649831.000000                 461211.000000   \n",
       "2020-12-22              738830.000000                 528210.000000   \n",
       "2020-12-23              782721.000000                 540230.000000   \n",
       "2020-12-24              639266.000000                 447429.000000   \n",
       "\n",
       "            addresses/non_zero_count  addresses/min_point_zero_1_count  \\\n",
       "Date                                                                     \n",
       "2020-12-20           33157050.000000                    8520195.000000   \n",
       "2020-12-21           33047778.000000                    8550819.000000   \n",
       "2020-12-22           33068915.000000                    8550157.000000   \n",
       "2020-12-23           33111216.000000                    8544699.000000   \n",
       "2020-12-24           33117973.000000                    8545074.000000   \n",
       "\n",
       "            addresses/min_point_1_count  addresses/min_1_count  \\\n",
       "Date                                                             \n",
       "2020-12-20               3128579.000000          827865.000000   \n",
       "2020-12-21               3133729.000000          828815.000000   \n",
       "2020-12-22               3139132.000000          829715.000000   \n",
       "2020-12-23               3133057.000000          828576.000000   \n",
       "2020-12-24               3134905.000000          829222.000000   \n",
       "\n",
       "            addresses/min_10_count  addresses/min_100_count  \\\n",
       "Date                                                          \n",
       "2020-12-20           153996.000000             16101.000000   \n",
       "2020-12-21           153675.000000             16081.000000   \n",
       "2020-12-22           153788.000000             16136.000000   \n",
       "2020-12-23           153724.000000             16119.000000   \n",
       "2020-12-24           153650.000000             16089.000000   \n",
       "\n",
       "            addresses/min_1k_count  addresses/min_10k_count  \n",
       "Date                                                         \n",
       "2020-12-20             2275.000000               107.000000  \n",
       "2020-12-21             2266.000000               107.000000  \n",
       "2020-12-22             2252.000000               105.000000  \n",
       "2020-12-23             2247.000000               103.000000  \n",
       "2020-12-24             2232.000000               103.000000  \n",
       "\n",
       "[5 rows x 91 columns]"
      ]
     },
     "execution_count": 88,
     "metadata": {},
     "output_type": "execute_result"
    }
   ],
   "source": [
    "df_blockchain.tail()"
   ]
  },
  {
   "cell_type": "code",
   "execution_count": 89,
   "metadata": {
    "ExecuteTime": {
     "end_time": "2020-12-26T15:41:54.161183Z",
     "start_time": "2020-12-26T15:41:53.941742Z"
    }
   },
   "outputs": [
    {
     "data": {
      "text/html": [
       "<div>\n",
       "<style scoped>\n",
       "    .dataframe tbody tr th:only-of-type {\n",
       "        vertical-align: middle;\n",
       "    }\n",
       "\n",
       "    .dataframe tbody tr th {\n",
       "        vertical-align: top;\n",
       "    }\n",
       "\n",
       "    .dataframe thead th {\n",
       "        text-align: right;\n",
       "    }\n",
       "</style>\n",
       "<table border=\"1\" class=\"dataframe\">\n",
       "  <thead>\n",
       "    <tr style=\"text-align: right;\">\n",
       "      <th></th>\n",
       "      <th>Daily Return in USD</th>\n",
       "      <th>Log Price in USD</th>\n",
       "      <th>Volatility Daily Log Return in Percent 5D</th>\n",
       "      <th>market/price_usd_close</th>\n",
       "      <th>market/price_drawdown_relative</th>\n",
       "      <th>market/price_realized_usd</th>\n",
       "      <th>market/mvrv</th>\n",
       "      <th>mining/difficulty_latest</th>\n",
       "      <th>mining/hash_rate_mean</th>\n",
       "      <th>blockchain/block_count</th>\n",
       "      <th>...</th>\n",
       "      <th>addresses/receiving_count</th>\n",
       "      <th>addresses/new_non_zero_count</th>\n",
       "      <th>addresses/non_zero_count</th>\n",
       "      <th>addresses/min_point_zero_1_count</th>\n",
       "      <th>addresses/min_point_1_count</th>\n",
       "      <th>addresses/min_1_count</th>\n",
       "      <th>addresses/min_10_count</th>\n",
       "      <th>addresses/min_100_count</th>\n",
       "      <th>addresses/min_1k_count</th>\n",
       "      <th>addresses/min_10k_count</th>\n",
       "    </tr>\n",
       "  </thead>\n",
       "  <tbody>\n",
       "    <tr>\n",
       "      <th>count</th>\n",
       "      <td>3450.000000</td>\n",
       "      <td>3450.000000</td>\n",
       "      <td>3450.000000</td>\n",
       "      <td>3450.000000</td>\n",
       "      <td>3450.000000</td>\n",
       "      <td>3450.000000</td>\n",
       "      <td>3450.000000</td>\n",
       "      <td>3450.000000</td>\n",
       "      <td>3450.000000</td>\n",
       "      <td>3450.000000</td>\n",
       "      <td>...</td>\n",
       "      <td>3450.000000</td>\n",
       "      <td>3450.000000</td>\n",
       "      <td>3450.000000</td>\n",
       "      <td>3450.000000</td>\n",
       "      <td>3450.000000</td>\n",
       "      <td>3450.000000</td>\n",
       "      <td>3450.000000</td>\n",
       "      <td>3450.000000</td>\n",
       "      <td>3450.000000</td>\n",
       "      <td>3450.000000</td>\n",
       "    </tr>\n",
       "    <tr>\n",
       "      <th>mean</th>\n",
       "      <td>6.884331</td>\n",
       "      <td>6.381098</td>\n",
       "      <td>3.533886</td>\n",
       "      <td>3294.261032</td>\n",
       "      <td>-0.546068</td>\n",
       "      <td>1960.409188</td>\n",
       "      <td>1.693931</td>\n",
       "      <td>14258483301654345023488.000000</td>\n",
       "      <td>24139054372912599040.000000</td>\n",
       "      <td>152.568696</td>\n",
       "      <td>...</td>\n",
       "      <td>326524.031304</td>\n",
       "      <td>218730.080290</td>\n",
       "      <td>12300900.800580</td>\n",
       "      <td>3497619.181739</td>\n",
       "      <td>1401938.435362</td>\n",
       "      <td>472284.362319</td>\n",
       "      <td>125610.200000</td>\n",
       "      <td>14685.704058</td>\n",
       "      <td>1623.240290</td>\n",
       "      <td>102.245507</td>\n",
       "    </tr>\n",
       "    <tr>\n",
       "      <th>std</th>\n",
       "      <td>238.588984</td>\n",
       "      <td>2.484429</td>\n",
       "      <td>3.352333</td>\n",
       "      <td>4402.919255</td>\n",
       "      <td>0.233659</td>\n",
       "      <td>2430.956025</td>\n",
       "      <td>0.744912</td>\n",
       "      <td>23644455980179065405440.000000</td>\n",
       "      <td>39911819571285884928.000000</td>\n",
       "      <td>18.968273</td>\n",
       "      <td>...</td>\n",
       "      <td>229186.277756</td>\n",
       "      <td>160773.956999</td>\n",
       "      <td>10891554.175969</td>\n",
       "      <td>2926368.076179</td>\n",
       "      <td>1032506.995768</td>\n",
       "      <td>240874.993732</td>\n",
       "      <td>28897.961097</td>\n",
       "      <td>3620.824696</td>\n",
       "      <td>388.741279</td>\n",
       "      <td>14.707657</td>\n",
       "    </tr>\n",
       "    <tr>\n",
       "      <th>min</th>\n",
       "      <td>-3052.461475</td>\n",
       "      <td>0.718341</td>\n",
       "      <td>0.157723</td>\n",
       "      <td>2.051027</td>\n",
       "      <td>-0.935694</td>\n",
       "      <td>4.780226</td>\n",
       "      <td>0.402165</td>\n",
       "      <td>4684588175054590.000000</td>\n",
       "      <td>6399665203131.940430</td>\n",
       "      <td>80.000000</td>\n",
       "      <td>...</td>\n",
       "      <td>7539.000000</td>\n",
       "      <td>4241.000000</td>\n",
       "      <td>296738.000000</td>\n",
       "      <td>195085.000000</td>\n",
       "      <td>125059.000000</td>\n",
       "      <td>98120.000000</td>\n",
       "      <td>64333.000000</td>\n",
       "      <td>3746.000000</td>\n",
       "      <td>597.000000</td>\n",
       "      <td>62.000000</td>\n",
       "    </tr>\n",
       "    <tr>\n",
       "      <th>25%</th>\n",
       "      <td>-7.004699</td>\n",
       "      <td>5.409714</td>\n",
       "      <td>1.524291</td>\n",
       "      <td>223.567638</td>\n",
       "      <td>-0.713338</td>\n",
       "      <td>150.890128</td>\n",
       "      <td>1.193198</td>\n",
       "      <td>2617708177598920192.000000</td>\n",
       "      <td>5113736190477835.000000</td>\n",
       "      <td>140.000000</td>\n",
       "      <td>...</td>\n",
       "      <td>103041.750000</td>\n",
       "      <td>62105.750000</td>\n",
       "      <td>2105452.750000</td>\n",
       "      <td>699958.500000</td>\n",
       "      <td>406206.250000</td>\n",
       "      <td>234501.500000</td>\n",
       "      <td>99368.500000</td>\n",
       "      <td>12930.000000</td>\n",
       "      <td>1459.500000</td>\n",
       "      <td>97.000000</td>\n",
       "    </tr>\n",
       "    <tr>\n",
       "      <th>50%</th>\n",
       "      <td>0.105490</td>\n",
       "      <td>6.428564</td>\n",
       "      <td>2.659629</td>\n",
       "      <td>619.284380</td>\n",
       "      <td>-0.593978</td>\n",
       "      <td>351.289279</td>\n",
       "      <td>1.604761</td>\n",
       "      <td>716621792837638029312.000000</td>\n",
       "      <td>1244570822244329984.000000</td>\n",
       "      <td>151.000000</td>\n",
       "      <td>...</td>\n",
       "      <td>368541.500000</td>\n",
       "      <td>225366.500000</td>\n",
       "      <td>7556593.500000</td>\n",
       "      <td>2590722.000000</td>\n",
       "      <td>1195713.000000</td>\n",
       "      <td>483207.000000</td>\n",
       "      <td>138454.000000</td>\n",
       "      <td>16179.500000</td>\n",
       "      <td>1687.000000</td>\n",
       "      <td>105.000000</td>\n",
       "    </tr>\n",
       "    <tr>\n",
       "      <th>75%</th>\n",
       "      <td>13.154104</td>\n",
       "      <td>8.791717</td>\n",
       "      <td>4.411982</td>\n",
       "      <td>6579.522851</td>\n",
       "      <td>-0.446526</td>\n",
       "      <td>4960.968404</td>\n",
       "      <td>1.984730</td>\n",
       "      <td>24131685420266202071040.000000</td>\n",
       "      <td>39067211902994776064.000000</td>\n",
       "      <td>163.000000</td>\n",
       "      <td>...</td>\n",
       "      <td>512675.750000</td>\n",
       "      <td>351078.000000</td>\n",
       "      <td>22440748.500000</td>\n",
       "      <td>6393393.750000</td>\n",
       "      <td>2474191.000000</td>\n",
       "      <td>711228.500000</td>\n",
       "      <td>149815.250000</td>\n",
       "      <td>17142.750000</td>\n",
       "      <td>1847.000000</td>\n",
       "      <td>113.000000</td>\n",
       "    </tr>\n",
       "    <tr>\n",
       "      <th>max</th>\n",
       "      <td>3224.132131</td>\n",
       "      <td>10.079592</td>\n",
       "      <td>41.749946</td>\n",
       "      <td>23851.242514</td>\n",
       "      <td>0.000000</td>\n",
       "      <td>8448.066552</td>\n",
       "      <td>5.733982</td>\n",
       "      <td>85887904103269694177280.000000</td>\n",
       "      <td>160765244797356015616.000000</td>\n",
       "      <td>260.000000</td>\n",
       "      <td>...</td>\n",
       "      <td>1072829.000000</td>\n",
       "      <td>800180.000000</td>\n",
       "      <td>33275082.000000</td>\n",
       "      <td>8753449.000000</td>\n",
       "      <td>3186455.000000</td>\n",
       "      <td>829715.000000</td>\n",
       "      <td>157275.000000</td>\n",
       "      <td>18543.000000</td>\n",
       "      <td>2306.000000</td>\n",
       "      <td>126.000000</td>\n",
       "    </tr>\n",
       "  </tbody>\n",
       "</table>\n",
       "<p>8 rows × 91 columns</p>\n",
       "</div>"
      ],
      "text/plain": [
       "       Daily Return in USD  Log Price in USD  \\\n",
       "count          3450.000000       3450.000000   \n",
       "mean              6.884331          6.381098   \n",
       "std             238.588984          2.484429   \n",
       "min           -3052.461475          0.718341   \n",
       "25%              -7.004699          5.409714   \n",
       "50%               0.105490          6.428564   \n",
       "75%              13.154104          8.791717   \n",
       "max            3224.132131         10.079592   \n",
       "\n",
       "       Volatility Daily Log Return in Percent 5D  market/price_usd_close  \\\n",
       "count                                3450.000000             3450.000000   \n",
       "mean                                    3.533886             3294.261032   \n",
       "std                                     3.352333             4402.919255   \n",
       "min                                     0.157723                2.051027   \n",
       "25%                                     1.524291              223.567638   \n",
       "50%                                     2.659629              619.284380   \n",
       "75%                                     4.411982             6579.522851   \n",
       "max                                    41.749946            23851.242514   \n",
       "\n",
       "       market/price_drawdown_relative  market/price_realized_usd  market/mvrv  \\\n",
       "count                     3450.000000                3450.000000  3450.000000   \n",
       "mean                        -0.546068                1960.409188     1.693931   \n",
       "std                          0.233659                2430.956025     0.744912   \n",
       "min                         -0.935694                   4.780226     0.402165   \n",
       "25%                         -0.713338                 150.890128     1.193198   \n",
       "50%                         -0.593978                 351.289279     1.604761   \n",
       "75%                         -0.446526                4960.968404     1.984730   \n",
       "max                          0.000000                8448.066552     5.733982   \n",
       "\n",
       "            mining/difficulty_latest        mining/hash_rate_mean  \\\n",
       "count                    3450.000000                  3450.000000   \n",
       "mean  14258483301654345023488.000000  24139054372912599040.000000   \n",
       "std   23644455980179065405440.000000  39911819571285884928.000000   \n",
       "min          4684588175054590.000000         6399665203131.940430   \n",
       "25%       2617708177598920192.000000      5113736190477835.000000   \n",
       "50%     716621792837638029312.000000   1244570822244329984.000000   \n",
       "75%   24131685420266202071040.000000  39067211902994776064.000000   \n",
       "max   85887904103269694177280.000000 160765244797356015616.000000   \n",
       "\n",
       "       blockchain/block_count  ...  addresses/receiving_count  \\\n",
       "count             3450.000000  ...                3450.000000   \n",
       "mean               152.568696  ...              326524.031304   \n",
       "std                 18.968273  ...              229186.277756   \n",
       "min                 80.000000  ...                7539.000000   \n",
       "25%                140.000000  ...              103041.750000   \n",
       "50%                151.000000  ...              368541.500000   \n",
       "75%                163.000000  ...              512675.750000   \n",
       "max                260.000000  ...             1072829.000000   \n",
       "\n",
       "       addresses/new_non_zero_count  addresses/non_zero_count  \\\n",
       "count                   3450.000000               3450.000000   \n",
       "mean                  218730.080290           12300900.800580   \n",
       "std                   160773.956999           10891554.175969   \n",
       "min                     4241.000000             296738.000000   \n",
       "25%                    62105.750000            2105452.750000   \n",
       "50%                   225366.500000            7556593.500000   \n",
       "75%                   351078.000000           22440748.500000   \n",
       "max                   800180.000000           33275082.000000   \n",
       "\n",
       "       addresses/min_point_zero_1_count  addresses/min_point_1_count  \\\n",
       "count                       3450.000000                  3450.000000   \n",
       "mean                     3497619.181739               1401938.435362   \n",
       "std                      2926368.076179               1032506.995768   \n",
       "min                       195085.000000                125059.000000   \n",
       "25%                       699958.500000                406206.250000   \n",
       "50%                      2590722.000000               1195713.000000   \n",
       "75%                      6393393.750000               2474191.000000   \n",
       "max                      8753449.000000               3186455.000000   \n",
       "\n",
       "       addresses/min_1_count  addresses/min_10_count  addresses/min_100_count  \\\n",
       "count            3450.000000             3450.000000              3450.000000   \n",
       "mean           472284.362319           125610.200000             14685.704058   \n",
       "std            240874.993732            28897.961097              3620.824696   \n",
       "min             98120.000000            64333.000000              3746.000000   \n",
       "25%            234501.500000            99368.500000             12930.000000   \n",
       "50%            483207.000000           138454.000000             16179.500000   \n",
       "75%            711228.500000           149815.250000             17142.750000   \n",
       "max            829715.000000           157275.000000             18543.000000   \n",
       "\n",
       "       addresses/min_1k_count  addresses/min_10k_count  \n",
       "count             3450.000000              3450.000000  \n",
       "mean              1623.240290               102.245507  \n",
       "std                388.741279                14.707657  \n",
       "min                597.000000                62.000000  \n",
       "25%               1459.500000                97.000000  \n",
       "50%               1687.000000               105.000000  \n",
       "75%               1847.000000               113.000000  \n",
       "max               2306.000000               126.000000  \n",
       "\n",
       "[8 rows x 91 columns]"
      ]
     },
     "execution_count": 89,
     "metadata": {},
     "output_type": "execute_result"
    }
   ],
   "source": [
    "# Summary of each variable\n",
    "df_blockchain.describe()"
   ]
  },
  {
   "cell_type": "code",
   "execution_count": 90,
   "metadata": {
    "ExecuteTime": {
     "end_time": "2020-12-26T15:41:54.668796Z",
     "start_time": "2020-12-26T15:41:54.162274Z"
    }
   },
   "outputs": [],
   "source": [
    "# Creating CSV-File of Blockchain Data\n",
    "df_blockchain.to_csv(\"df_dataset1.csv\")"
   ]
  },
  {
   "cell_type": "code",
   "execution_count": null,
   "metadata": {},
   "outputs": [],
   "source": []
  },
  {
   "cell_type": "markdown",
   "metadata": {},
   "source": [
    "# Classification Models - Data Set Variations"
   ]
  },
  {
   "cell_type": "code",
   "execution_count": 91,
   "metadata": {
    "ExecuteTime": {
     "end_time": "2020-12-26T15:41:57.952055Z",
     "start_time": "2020-12-26T15:41:54.670790Z"
    },
    "scrolled": true
   },
   "outputs": [],
   "source": [
    "# Import of Modules and Packages\n",
    "import os\n",
    "import pandas as pd\n",
    "import matplotlib.pyplot as plt\n",
    "import math\n",
    "\n",
    "from sklearn.preprocessing import StandardScaler, MinMaxScaler\n",
    "\n",
    "from sklearn.model_selection import train_test_split\n",
    "from sklearn.model_selection import cross_val_score\n",
    "from sklearn.model_selection import StratifiedKFold\n",
    "from sklearn.metrics import roc_auc_score, roc_curve\n",
    "from sklearn.metrics import confusion_matrix, classification_report\n",
    "\n",
    "# Logistic Regression\n",
    "from sklearn.linear_model import LogisticRegression\n",
    "from sklearn.tree import DecisionTreeClassifier\n",
    "from sklearn.ensemble import RandomForestClassifier\n",
    "from sklearn.neighbors import KNeighborsClassifier\n",
    "from pycaret.classification import *\n",
    "\n",
    "# Deep Neural Networks\n",
    "from tensorflow import keras\n",
    "from keras.wrappers.scikit_learn import KerasClassifier\n",
    "from keras.models import Sequential\n",
    "from keras.layers import Dense\n",
    "from keras.optimizers import SGD\n",
    "from keras.optimizers import Adam\n",
    "import numpy as np\n",
    "\n",
    "# PyCaret\n",
    "import pycaret"
   ]
  },
  {
   "cell_type": "code",
   "execution_count": 92,
   "metadata": {
    "ExecuteTime": {
     "end_time": "2020-12-26T15:41:57.968017Z",
     "start_time": "2020-12-26T15:41:57.954019Z"
    }
   },
   "outputs": [],
   "source": [
    "# Adjustment of Decimal Places\n",
    "pd.options.display.float_format = '{:.2f}'.format"
   ]
  },
  {
   "cell_type": "markdown",
   "metadata": {},
   "source": [
    "# Import Data Sets"
   ]
  },
  {
   "cell_type": "markdown",
   "metadata": {},
   "source": [
    "## Data Set I."
   ]
  },
  {
   "cell_type": "code",
   "execution_count": 93,
   "metadata": {
    "ExecuteTime": {
     "end_time": "2020-12-26T15:41:57.983974Z",
     "start_time": "2020-12-26T15:41:57.969977Z"
    }
   },
   "outputs": [
    {
     "data": {
      "text/plain": [
       "'C:\\\\Users\\\\markus.gebele\\\\github_repo\\\\JupyterLabDir\\\\Rest\\\\MA BTC\\\\Markus_Code_MA_final\\\\20201010'"
      ]
     },
     "execution_count": 93,
     "metadata": {},
     "output_type": "execute_result"
    }
   ],
   "source": [
    "os.getcwd()"
   ]
  },
  {
   "cell_type": "code",
   "execution_count": 94,
   "metadata": {
    "ExecuteTime": {
     "end_time": "2020-12-26T15:41:58.078719Z",
     "start_time": "2020-12-26T15:41:57.985934Z"
    }
   },
   "outputs": [],
   "source": [
    "# CSV Import of Data Set I. - Blockchain Data\n",
    "df_dataset1 = pd.read_csv('df_dataset1.csv', parse_dates = True, index_col='Date')"
   ]
  },
  {
   "cell_type": "code",
   "execution_count": 95,
   "metadata": {
    "ExecuteTime": {
     "end_time": "2020-12-26T15:41:58.110601Z",
     "start_time": "2020-12-26T15:41:58.080699Z"
    }
   },
   "outputs": [
    {
     "data": {
      "text/html": [
       "<div>\n",
       "<style scoped>\n",
       "    .dataframe tbody tr th:only-of-type {\n",
       "        vertical-align: middle;\n",
       "    }\n",
       "\n",
       "    .dataframe tbody tr th {\n",
       "        vertical-align: top;\n",
       "    }\n",
       "\n",
       "    .dataframe thead th {\n",
       "        text-align: right;\n",
       "    }\n",
       "</style>\n",
       "<table border=\"1\" class=\"dataframe\">\n",
       "  <thead>\n",
       "    <tr style=\"text-align: right;\">\n",
       "      <th></th>\n",
       "      <th>Daily Return in USD</th>\n",
       "      <th>Log Price in USD</th>\n",
       "      <th>Volatility Daily Log Return in Percent 5D</th>\n",
       "      <th>market/price_usd_close</th>\n",
       "      <th>market/price_drawdown_relative</th>\n",
       "      <th>market/price_realized_usd</th>\n",
       "      <th>market/mvrv</th>\n",
       "      <th>mining/difficulty_latest</th>\n",
       "      <th>mining/hash_rate_mean</th>\n",
       "      <th>blockchain/block_count</th>\n",
       "      <th>...</th>\n",
       "      <th>addresses/receiving_count</th>\n",
       "      <th>addresses/new_non_zero_count</th>\n",
       "      <th>addresses/non_zero_count</th>\n",
       "      <th>addresses/min_point_zero_1_count</th>\n",
       "      <th>addresses/min_point_1_count</th>\n",
       "      <th>addresses/min_1_count</th>\n",
       "      <th>addresses/min_10_count</th>\n",
       "      <th>addresses/min_100_count</th>\n",
       "      <th>addresses/min_1k_count</th>\n",
       "      <th>addresses/min_10k_count</th>\n",
       "    </tr>\n",
       "    <tr>\n",
       "      <th>Date</th>\n",
       "      <th></th>\n",
       "      <th></th>\n",
       "      <th></th>\n",
       "      <th></th>\n",
       "      <th></th>\n",
       "      <th></th>\n",
       "      <th></th>\n",
       "      <th></th>\n",
       "      <th></th>\n",
       "      <th></th>\n",
       "      <th></th>\n",
       "      <th></th>\n",
       "      <th></th>\n",
       "      <th></th>\n",
       "      <th></th>\n",
       "      <th></th>\n",
       "      <th></th>\n",
       "      <th></th>\n",
       "      <th></th>\n",
       "      <th></th>\n",
       "      <th></th>\n",
       "    </tr>\n",
       "  </thead>\n",
       "  <tbody>\n",
       "    <tr>\n",
       "      <th>2011-07-16</th>\n",
       "      <td>-0.09</td>\n",
       "      <td>2.62</td>\n",
       "      <td>0.70</td>\n",
       "      <td>13.72</td>\n",
       "      <td>-0.57</td>\n",
       "      <td>7.31</td>\n",
       "      <td>1.87</td>\n",
       "      <td>6713154126051590.00</td>\n",
       "      <td>11654137109701.80</td>\n",
       "      <td>157.00</td>\n",
       "      <td>...</td>\n",
       "      <td>20543.00</td>\n",
       "      <td>14625.00</td>\n",
       "      <td>296738.00</td>\n",
       "      <td>196860.00</td>\n",
       "      <td>126035.00</td>\n",
       "      <td>99005.00</td>\n",
       "      <td>64333.00</td>\n",
       "      <td>3805.00</td>\n",
       "      <td>598.00</td>\n",
       "      <td>62.00</td>\n",
       "    </tr>\n",
       "    <tr>\n",
       "      <th>2011-07-17</th>\n",
       "      <td>-0.55</td>\n",
       "      <td>2.58</td>\n",
       "      <td>1.70</td>\n",
       "      <td>13.17</td>\n",
       "      <td>-0.59</td>\n",
       "      <td>7.32</td>\n",
       "      <td>1.82</td>\n",
       "      <td>6713154126051590.00</td>\n",
       "      <td>13208752331351.50</td>\n",
       "      <td>170.00</td>\n",
       "      <td>...</td>\n",
       "      <td>21180.00</td>\n",
       "      <td>15530.00</td>\n",
       "      <td>303267.00</td>\n",
       "      <td>197576.00</td>\n",
       "      <td>126461.00</td>\n",
       "      <td>99364.00</td>\n",
       "      <td>64511.00</td>\n",
       "      <td>3824.00</td>\n",
       "      <td>599.00</td>\n",
       "      <td>62.00</td>\n",
       "    </tr>\n",
       "    <tr>\n",
       "      <th>2011-07-18</th>\n",
       "      <td>0.26</td>\n",
       "      <td>2.60</td>\n",
       "      <td>2.23</td>\n",
       "      <td>13.42</td>\n",
       "      <td>-0.58</td>\n",
       "      <td>7.01</td>\n",
       "      <td>1.86</td>\n",
       "      <td>6713154126051590.00</td>\n",
       "      <td>13355914725081.60</td>\n",
       "      <td>170.00</td>\n",
       "      <td>...</td>\n",
       "      <td>21198.00</td>\n",
       "      <td>15356.00</td>\n",
       "      <td>305043.00</td>\n",
       "      <td>195085.00</td>\n",
       "      <td>125059.00</td>\n",
       "      <td>98120.00</td>\n",
       "      <td>64454.00</td>\n",
       "      <td>3746.00</td>\n",
       "      <td>600.00</td>\n",
       "      <td>63.00</td>\n",
       "    </tr>\n",
       "    <tr>\n",
       "      <th>2011-07-19</th>\n",
       "      <td>0.42</td>\n",
       "      <td>2.63</td>\n",
       "      <td>2.83</td>\n",
       "      <td>13.84</td>\n",
       "      <td>-0.57</td>\n",
       "      <td>7.03</td>\n",
       "      <td>1.96</td>\n",
       "      <td>7262342175053680.00</td>\n",
       "      <td>11065053631354.40</td>\n",
       "      <td>142.00</td>\n",
       "      <td>...</td>\n",
       "      <td>21433.00</td>\n",
       "      <td>15873.00</td>\n",
       "      <td>310575.00</td>\n",
       "      <td>196075.00</td>\n",
       "      <td>125791.00</td>\n",
       "      <td>98755.00</td>\n",
       "      <td>64598.00</td>\n",
       "      <td>3761.00</td>\n",
       "      <td>597.00</td>\n",
       "      <td>63.00</td>\n",
       "    </tr>\n",
       "    <tr>\n",
       "      <th>2011-07-20</th>\n",
       "      <td>-0.15</td>\n",
       "      <td>2.62</td>\n",
       "      <td>2.80</td>\n",
       "      <td>13.69</td>\n",
       "      <td>-0.57</td>\n",
       "      <td>6.97</td>\n",
       "      <td>1.98</td>\n",
       "      <td>7262342175053680.00</td>\n",
       "      <td>12525772772957.20</td>\n",
       "      <td>149.00</td>\n",
       "      <td>...</td>\n",
       "      <td>21633.00</td>\n",
       "      <td>15840.00</td>\n",
       "      <td>315842.00</td>\n",
       "      <td>196368.00</td>\n",
       "      <td>126121.00</td>\n",
       "      <td>99090.00</td>\n",
       "      <td>64643.00</td>\n",
       "      <td>3799.00</td>\n",
       "      <td>598.00</td>\n",
       "      <td>63.00</td>\n",
       "    </tr>\n",
       "    <tr>\n",
       "      <th>...</th>\n",
       "      <td>...</td>\n",
       "      <td>...</td>\n",
       "      <td>...</td>\n",
       "      <td>...</td>\n",
       "      <td>...</td>\n",
       "      <td>...</td>\n",
       "      <td>...</td>\n",
       "      <td>...</td>\n",
       "      <td>...</td>\n",
       "      <td>...</td>\n",
       "      <td>...</td>\n",
       "      <td>...</td>\n",
       "      <td>...</td>\n",
       "      <td>...</td>\n",
       "      <td>...</td>\n",
       "      <td>...</td>\n",
       "      <td>...</td>\n",
       "      <td>...</td>\n",
       "      <td>...</td>\n",
       "      <td>...</td>\n",
       "      <td>...</td>\n",
       "    </tr>\n",
       "    <tr>\n",
       "      <th>2020-12-20</th>\n",
       "      <td>-301.46</td>\n",
       "      <td>10.07</td>\n",
       "      <td>4.24</td>\n",
       "      <td>23549.78</td>\n",
       "      <td>-0.03</td>\n",
       "      <td>8159.47</td>\n",
       "      <td>2.89</td>\n",
       "      <td>80187763369133704478720.00</td>\n",
       "      <td>141220096205307002880.00</td>\n",
       "      <td>151.00</td>\n",
       "      <td>...</td>\n",
       "      <td>638805.00</td>\n",
       "      <td>465212.00</td>\n",
       "      <td>33157050.00</td>\n",
       "      <td>8520195.00</td>\n",
       "      <td>3128579.00</td>\n",
       "      <td>827865.00</td>\n",
       "      <td>153996.00</td>\n",
       "      <td>16101.00</td>\n",
       "      <td>2275.00</td>\n",
       "      <td>107.00</td>\n",
       "    </tr>\n",
       "    <tr>\n",
       "      <th>2020-12-21</th>\n",
       "      <td>-674.33</td>\n",
       "      <td>10.04</td>\n",
       "      <td>3.74</td>\n",
       "      <td>22875.46</td>\n",
       "      <td>-0.05</td>\n",
       "      <td>8205.79</td>\n",
       "      <td>2.83</td>\n",
       "      <td>80187763369133704478720.00</td>\n",
       "      <td>125467801265571004416.00</td>\n",
       "      <td>136.00</td>\n",
       "      <td>...</td>\n",
       "      <td>649831.00</td>\n",
       "      <td>461211.00</td>\n",
       "      <td>33047778.00</td>\n",
       "      <td>8550819.00</td>\n",
       "      <td>3133729.00</td>\n",
       "      <td>828815.00</td>\n",
       "      <td>153675.00</td>\n",
       "      <td>16081.00</td>\n",
       "      <td>2266.00</td>\n",
       "      <td>107.00</td>\n",
       "    </tr>\n",
       "    <tr>\n",
       "      <th>2020-12-22</th>\n",
       "      <td>883.48</td>\n",
       "      <td>10.08</td>\n",
       "      <td>2.89</td>\n",
       "      <td>23758.93</td>\n",
       "      <td>-0.02</td>\n",
       "      <td>8286.35</td>\n",
       "      <td>2.79</td>\n",
       "      <td>80187763369133704478720.00</td>\n",
       "      <td>132165952003620995072.00</td>\n",
       "      <td>143.00</td>\n",
       "      <td>...</td>\n",
       "      <td>738830.00</td>\n",
       "      <td>528210.00</td>\n",
       "      <td>33068915.00</td>\n",
       "      <td>8550157.00</td>\n",
       "      <td>3139132.00</td>\n",
       "      <td>829715.00</td>\n",
       "      <td>153788.00</td>\n",
       "      <td>16136.00</td>\n",
       "      <td>2252.00</td>\n",
       "      <td>105.00</td>\n",
       "    </tr>\n",
       "    <tr>\n",
       "      <th>2020-12-23</th>\n",
       "      <td>-479.38</td>\n",
       "      <td>10.06</td>\n",
       "      <td>3.13</td>\n",
       "      <td>23279.55</td>\n",
       "      <td>-0.04</td>\n",
       "      <td>8375.79</td>\n",
       "      <td>2.81</td>\n",
       "      <td>80187763369133704478720.00</td>\n",
       "      <td>146111617294112997376.00</td>\n",
       "      <td>154.00</td>\n",
       "      <td>...</td>\n",
       "      <td>782721.00</td>\n",
       "      <td>540230.00</td>\n",
       "      <td>33111216.00</td>\n",
       "      <td>8544699.00</td>\n",
       "      <td>3133057.00</td>\n",
       "      <td>828576.00</td>\n",
       "      <td>153724.00</td>\n",
       "      <td>16119.00</td>\n",
       "      <td>2247.00</td>\n",
       "      <td>103.00</td>\n",
       "    </tr>\n",
       "    <tr>\n",
       "      <th>2020-12-24</th>\n",
       "      <td>485.20</td>\n",
       "      <td>10.08</td>\n",
       "      <td>2.86</td>\n",
       "      <td>23764.75</td>\n",
       "      <td>-0.02</td>\n",
       "      <td>8448.07</td>\n",
       "      <td>2.75</td>\n",
       "      <td>80187763369133704478720.00</td>\n",
       "      <td>114954071251531005952.00</td>\n",
       "      <td>126.00</td>\n",
       "      <td>...</td>\n",
       "      <td>639266.00</td>\n",
       "      <td>447429.00</td>\n",
       "      <td>33117973.00</td>\n",
       "      <td>8545074.00</td>\n",
       "      <td>3134905.00</td>\n",
       "      <td>829222.00</td>\n",
       "      <td>153650.00</td>\n",
       "      <td>16089.00</td>\n",
       "      <td>2232.00</td>\n",
       "      <td>103.00</td>\n",
       "    </tr>\n",
       "  </tbody>\n",
       "</table>\n",
       "<p>3450 rows × 91 columns</p>\n",
       "</div>"
      ],
      "text/plain": [
       "            Daily Return in USD  Log Price in USD  \\\n",
       "Date                                                \n",
       "2011-07-16                -0.09              2.62   \n",
       "2011-07-17                -0.55              2.58   \n",
       "2011-07-18                 0.26              2.60   \n",
       "2011-07-19                 0.42              2.63   \n",
       "2011-07-20                -0.15              2.62   \n",
       "...                         ...               ...   \n",
       "2020-12-20              -301.46             10.07   \n",
       "2020-12-21              -674.33             10.04   \n",
       "2020-12-22               883.48             10.08   \n",
       "2020-12-23              -479.38             10.06   \n",
       "2020-12-24               485.20             10.08   \n",
       "\n",
       "            Volatility Daily Log Return in Percent 5D  market/price_usd_close  \\\n",
       "Date                                                                            \n",
       "2011-07-16                                       0.70                   13.72   \n",
       "2011-07-17                                       1.70                   13.17   \n",
       "2011-07-18                                       2.23                   13.42   \n",
       "2011-07-19                                       2.83                   13.84   \n",
       "2011-07-20                                       2.80                   13.69   \n",
       "...                                               ...                     ...   \n",
       "2020-12-20                                       4.24                23549.78   \n",
       "2020-12-21                                       3.74                22875.46   \n",
       "2020-12-22                                       2.89                23758.93   \n",
       "2020-12-23                                       3.13                23279.55   \n",
       "2020-12-24                                       2.86                23764.75   \n",
       "\n",
       "            market/price_drawdown_relative  market/price_realized_usd  \\\n",
       "Date                                                                    \n",
       "2011-07-16                           -0.57                       7.31   \n",
       "2011-07-17                           -0.59                       7.32   \n",
       "2011-07-18                           -0.58                       7.01   \n",
       "2011-07-19                           -0.57                       7.03   \n",
       "2011-07-20                           -0.57                       6.97   \n",
       "...                                    ...                        ...   \n",
       "2020-12-20                           -0.03                    8159.47   \n",
       "2020-12-21                           -0.05                    8205.79   \n",
       "2020-12-22                           -0.02                    8286.35   \n",
       "2020-12-23                           -0.04                    8375.79   \n",
       "2020-12-24                           -0.02                    8448.07   \n",
       "\n",
       "            market/mvrv   mining/difficulty_latest    mining/hash_rate_mean  \\\n",
       "Date                                                                          \n",
       "2011-07-16         1.87        6713154126051590.00        11654137109701.80   \n",
       "2011-07-17         1.82        6713154126051590.00        13208752331351.50   \n",
       "2011-07-18         1.86        6713154126051590.00        13355914725081.60   \n",
       "2011-07-19         1.96        7262342175053680.00        11065053631354.40   \n",
       "2011-07-20         1.98        7262342175053680.00        12525772772957.20   \n",
       "...                 ...                        ...                      ...   \n",
       "2020-12-20         2.89 80187763369133704478720.00 141220096205307002880.00   \n",
       "2020-12-21         2.83 80187763369133704478720.00 125467801265571004416.00   \n",
       "2020-12-22         2.79 80187763369133704478720.00 132165952003620995072.00   \n",
       "2020-12-23         2.81 80187763369133704478720.00 146111617294112997376.00   \n",
       "2020-12-24         2.75 80187763369133704478720.00 114954071251531005952.00   \n",
       "\n",
       "            blockchain/block_count  ...  addresses/receiving_count  \\\n",
       "Date                                ...                              \n",
       "2011-07-16                  157.00  ...                   20543.00   \n",
       "2011-07-17                  170.00  ...                   21180.00   \n",
       "2011-07-18                  170.00  ...                   21198.00   \n",
       "2011-07-19                  142.00  ...                   21433.00   \n",
       "2011-07-20                  149.00  ...                   21633.00   \n",
       "...                            ...  ...                        ...   \n",
       "2020-12-20                  151.00  ...                  638805.00   \n",
       "2020-12-21                  136.00  ...                  649831.00   \n",
       "2020-12-22                  143.00  ...                  738830.00   \n",
       "2020-12-23                  154.00  ...                  782721.00   \n",
       "2020-12-24                  126.00  ...                  639266.00   \n",
       "\n",
       "            addresses/new_non_zero_count  addresses/non_zero_count  \\\n",
       "Date                                                                 \n",
       "2011-07-16                      14625.00                 296738.00   \n",
       "2011-07-17                      15530.00                 303267.00   \n",
       "2011-07-18                      15356.00                 305043.00   \n",
       "2011-07-19                      15873.00                 310575.00   \n",
       "2011-07-20                      15840.00                 315842.00   \n",
       "...                                  ...                       ...   \n",
       "2020-12-20                     465212.00               33157050.00   \n",
       "2020-12-21                     461211.00               33047778.00   \n",
       "2020-12-22                     528210.00               33068915.00   \n",
       "2020-12-23                     540230.00               33111216.00   \n",
       "2020-12-24                     447429.00               33117973.00   \n",
       "\n",
       "            addresses/min_point_zero_1_count  addresses/min_point_1_count  \\\n",
       "Date                                                                        \n",
       "2011-07-16                         196860.00                    126035.00   \n",
       "2011-07-17                         197576.00                    126461.00   \n",
       "2011-07-18                         195085.00                    125059.00   \n",
       "2011-07-19                         196075.00                    125791.00   \n",
       "2011-07-20                         196368.00                    126121.00   \n",
       "...                                      ...                          ...   \n",
       "2020-12-20                        8520195.00                   3128579.00   \n",
       "2020-12-21                        8550819.00                   3133729.00   \n",
       "2020-12-22                        8550157.00                   3139132.00   \n",
       "2020-12-23                        8544699.00                   3133057.00   \n",
       "2020-12-24                        8545074.00                   3134905.00   \n",
       "\n",
       "            addresses/min_1_count  addresses/min_10_count  \\\n",
       "Date                                                        \n",
       "2011-07-16               99005.00                64333.00   \n",
       "2011-07-17               99364.00                64511.00   \n",
       "2011-07-18               98120.00                64454.00   \n",
       "2011-07-19               98755.00                64598.00   \n",
       "2011-07-20               99090.00                64643.00   \n",
       "...                           ...                     ...   \n",
       "2020-12-20              827865.00               153996.00   \n",
       "2020-12-21              828815.00               153675.00   \n",
       "2020-12-22              829715.00               153788.00   \n",
       "2020-12-23              828576.00               153724.00   \n",
       "2020-12-24              829222.00               153650.00   \n",
       "\n",
       "            addresses/min_100_count  addresses/min_1k_count  \\\n",
       "Date                                                          \n",
       "2011-07-16                  3805.00                  598.00   \n",
       "2011-07-17                  3824.00                  599.00   \n",
       "2011-07-18                  3746.00                  600.00   \n",
       "2011-07-19                  3761.00                  597.00   \n",
       "2011-07-20                  3799.00                  598.00   \n",
       "...                             ...                     ...   \n",
       "2020-12-20                 16101.00                 2275.00   \n",
       "2020-12-21                 16081.00                 2266.00   \n",
       "2020-12-22                 16136.00                 2252.00   \n",
       "2020-12-23                 16119.00                 2247.00   \n",
       "2020-12-24                 16089.00                 2232.00   \n",
       "\n",
       "            addresses/min_10k_count  \n",
       "Date                                 \n",
       "2011-07-16                    62.00  \n",
       "2011-07-17                    62.00  \n",
       "2011-07-18                    63.00  \n",
       "2011-07-19                    63.00  \n",
       "2011-07-20                    63.00  \n",
       "...                             ...  \n",
       "2020-12-20                   107.00  \n",
       "2020-12-21                   107.00  \n",
       "2020-12-22                   105.00  \n",
       "2020-12-23                   103.00  \n",
       "2020-12-24                   103.00  \n",
       "\n",
       "[3450 rows x 91 columns]"
      ]
     },
     "execution_count": 95,
     "metadata": {},
     "output_type": "execute_result"
    }
   ],
   "source": [
    "# Daily Return in USD in row 2011-07-16 means the change in \"btc dollar price\" from 2011-07-15 23:59 to 2011-07-16 23:59 \n",
    "# in row 2011-07-17 means the change in \"btc dollar price\" from 2011-07-16 23:59 to 2011-07-17 23:59 \n",
    "\n",
    "df_dataset1"
   ]
  },
  {
   "cell_type": "code",
   "execution_count": 96,
   "metadata": {
    "ExecuteTime": {
     "end_time": "2020-12-26T15:41:58.142757Z",
     "start_time": "2020-12-26T15:41:58.111597Z"
    },
    "scrolled": true
   },
   "outputs": [
    {
     "name": "stdout",
     "output_type": "stream",
     "text": [
      "<class 'pandas.core.frame.DataFrame'>\n",
      "DatetimeIndex: 3450 entries, 2011-07-16 to 2020-12-24\n",
      "Data columns (total 91 columns):\n",
      " #   Column                                      Non-Null Count  Dtype  \n",
      "---  ------                                      --------------  -----  \n",
      " 0   Daily Return in USD                         3450 non-null   float64\n",
      " 1   Log Price in USD                            3450 non-null   float64\n",
      " 2   Volatility Daily Log Return in Percent 5D   3450 non-null   float64\n",
      " 3   market/price_usd_close                      3450 non-null   float64\n",
      " 4   market/price_drawdown_relative              3450 non-null   float64\n",
      " 5   market/price_realized_usd                   3450 non-null   float64\n",
      " 6   market/mvrv                                 3450 non-null   float64\n",
      " 7   mining/difficulty_latest                    3450 non-null   float64\n",
      " 8   mining/hash_rate_mean                       3450 non-null   float64\n",
      " 9   blockchain/block_count                      3450 non-null   float64\n",
      " 10  blockchain/block_interval_mean              3450 non-null   float64\n",
      " 11  blockchain/block_size_sum                   3450 non-null   float64\n",
      " 12  fees/volume_sum                             3450 non-null   float64\n",
      " 13  fees/volume_mean                            3450 non-null   float64\n",
      " 14  fees/fee_ratio_multiple                     3450 non-null   float64\n",
      " 15  blockchain/utxo_created_count               3450 non-null   float64\n",
      " 16  blockchain/utxo_spent_count                 3450 non-null   float64\n",
      " 17  blockchain/utxo_created_value_sum           3450 non-null   float64\n",
      " 18  blockchain/utxo_spent_value_sum             3450 non-null   float64\n",
      " 19  blockchain/utxo_profit_relative             3450 non-null   float64\n",
      " 20  blockchain/utxo_profit_count                3450 non-null   float64\n",
      " 21  blockchain/utxo_loss_count                  3450 non-null   float64\n",
      " 22  supply/current                              3450 non-null   float64\n",
      " 23  supply/profit_relative                      3450 non-null   float64\n",
      " 24  supply/profit_sum                           3450 non-null   float64\n",
      " 25  supply/loss_sum                             3450 non-null   float64\n",
      " 26  supply/active_more_1y_percent               3450 non-null   float64\n",
      " 27  supply/active_more_2y_percent               3450 non-null   float64\n",
      " 28  supply/active_more_3y_percent               3450 non-null   float64\n",
      " 29  supply/active_more_5y_percent               3450 non-null   float64\n",
      " 30  supply/active_24h                           3450 non-null   float64\n",
      " 31  supply/active_1d_1w                         3450 non-null   float64\n",
      " 32  supply/active_1w_1m                         3450 non-null   float64\n",
      " 33  supply/active_1m_3m                         3450 non-null   float64\n",
      " 34  supply/active_3m_6m                         3450 non-null   float64\n",
      " 35  supply/active_6m_12m                        3450 non-null   float64\n",
      " 36  supply/active_1y_2y                         3450 non-null   float64\n",
      " 37  supply/active_2y_3y                         3450 non-null   float64\n",
      " 38  supply/active_3y_5y                         3450 non-null   float64\n",
      " 39  supply/active_5y_7y                         3450 non-null   float64\n",
      " 40  supply/active_7y_10y                        3450 non-null   float64\n",
      " 41  supply/active_more_10y                      3450 non-null   float64\n",
      " 42  supply/issued                               3450 non-null   float64\n",
      " 43  supply/inflation_rate                       3450 non-null   float64\n",
      " 44  transactions/count                          3450 non-null   float64\n",
      " 45  transactions/size_sum                       3450 non-null   float64\n",
      " 46  transactions/transfers_volume_sum           3450 non-null   float64\n",
      " 47  transactions/transfers_volume_adjusted_sum  3450 non-null   float64\n",
      " 48  indicators/sopr_adjusted                    3450 non-null   float64\n",
      " 49  indicators/nvt                              3450 non-null   float64\n",
      " 50  indicators/velocity                         3450 non-null   float64\n",
      " 51  indicators/cdd                              3450 non-null   float64\n",
      " 52  indicators/reserve_risk                     3450 non-null   float64\n",
      " 53  indicators/average_dormancy                 3450 non-null   float64\n",
      " 54  indicators/liveliness                       3450 non-null   float64\n",
      " 55  indicators/asol                             3450 non-null   float64\n",
      " 56  indicators/sol_1h                           3450 non-null   float64\n",
      " 57  indicators/sol_1h_24h                       3450 non-null   float64\n",
      " 58  indicators/sol_1d_1w                        3450 non-null   float64\n",
      " 59  indicators/sol_1w_1m                        3450 non-null   float64\n",
      " 60  indicators/sol_1m_3m                        3450 non-null   float64\n",
      " 61  indicators/sol_3m_6m                        3450 non-null   float64\n",
      " 62  indicators/sol_6m_12m                       3450 non-null   float64\n",
      " 63  indicators/sol_1y_2y                        3450 non-null   float64\n",
      " 64  indicators/sol_2y_3y                        3450 non-null   float64\n",
      " 65  indicators/sol_3y_5y                        3450 non-null   float64\n",
      " 66  indicators/sol_5y_7y                        3450 non-null   float64\n",
      " 67  indicators/sol_7y_10y                       3450 non-null   float64\n",
      " 68  indicators/net_unrealized_profit_loss       3450 non-null   float64\n",
      " 69  indicators/unrealized_profit                3450 non-null   float64\n",
      " 70  indicators/unrealized_loss                  3450 non-null   float64\n",
      " 71  indicators/net_realized_profit_loss         3450 non-null   float64\n",
      " 72  indicators/realized_profit                  3450 non-null   float64\n",
      " 73  indicators/realized_loss                    3450 non-null   float64\n",
      " 74  indicators/nupl_more_155                    3450 non-null   float64\n",
      " 75  indicators/nupl_less_155                    3450 non-null   float64\n",
      " 76  indicators/puell_multiple                   3450 non-null   float64\n",
      " 77  indicators/stock_to_flow_deflection         3450 non-null   float64\n",
      " 78  indicators/difficulty_ribbon_compression    3450 non-null   float64\n",
      " 79  addresses/active_count                      3450 non-null   float64\n",
      " 80  addresses/sending_count                     3450 non-null   float64\n",
      " 81  addresses/receiving_count                   3450 non-null   float64\n",
      " 82  addresses/new_non_zero_count                3450 non-null   float64\n",
      " 83  addresses/non_zero_count                    3450 non-null   float64\n",
      " 84  addresses/min_point_zero_1_count            3450 non-null   float64\n",
      " 85  addresses/min_point_1_count                 3450 non-null   float64\n",
      " 86  addresses/min_1_count                       3450 non-null   float64\n",
      " 87  addresses/min_10_count                      3450 non-null   float64\n",
      " 88  addresses/min_100_count                     3450 non-null   float64\n",
      " 89  addresses/min_1k_count                      3450 non-null   float64\n",
      " 90  addresses/min_10k_count                     3450 non-null   float64\n",
      "dtypes: float64(91)\n",
      "memory usage: 2.4 MB\n"
     ]
    }
   ],
   "source": [
    "# Data Set Info\n",
    "df_dataset1.info()"
   ]
  },
  {
   "cell_type": "code",
   "execution_count": 97,
   "metadata": {
    "ExecuteTime": {
     "end_time": "2020-12-26T15:41:58.158476Z",
     "start_time": "2020-12-26T15:41:58.144542Z"
    }
   },
   "outputs": [],
   "source": [
    "# List of Data Types\n",
    "l_dtypes = df_dataset1.dtypes"
   ]
  },
  {
   "cell_type": "code",
   "execution_count": 98,
   "metadata": {
    "ExecuteTime": {
     "end_time": "2020-12-26T15:41:58.174430Z",
     "start_time": "2020-12-26T15:41:58.161465Z"
    }
   },
   "outputs": [
    {
     "name": "stdout",
     "output_type": "stream",
     "text": [
      "91\n"
     ]
    }
   ],
   "source": [
    "# Counter\n",
    "counter = 0\n",
    "\n",
    "# Cross-Check of Data Types\n",
    "for i in l_dtypes:\n",
    "    if (i == float):\n",
    "        counter = counter+1\n",
    "    else:\n",
    "        counter = counter\n",
    "\n",
    "# Number of Float Data Types\n",
    "print(counter)"
   ]
  },
  {
   "cell_type": "code",
   "execution_count": 99,
   "metadata": {
    "ExecuteTime": {
     "end_time": "2020-12-26T15:41:58.190421Z",
     "start_time": "2020-12-26T15:41:58.176424Z"
    }
   },
   "outputs": [
    {
     "data": {
      "text/plain": [
       "Daily Return in USD                          float64\n",
       "Log Price in USD                             float64\n",
       "Volatility Daily Log Return in Percent 5D    float64\n",
       "market/price_usd_close                       float64\n",
       "market/price_drawdown_relative               float64\n",
       "                                              ...   \n",
       "addresses/min_1_count                        float64\n",
       "addresses/min_10_count                       float64\n",
       "addresses/min_100_count                      float64\n",
       "addresses/min_1k_count                       float64\n",
       "addresses/min_10k_count                      float64\n",
       "Length: 91, dtype: object"
      ]
     },
     "execution_count": 99,
     "metadata": {},
     "output_type": "execute_result"
    }
   ],
   "source": [
    "# Data Types\n",
    "df_dataset1.dtypes"
   ]
  },
  {
   "cell_type": "code",
   "execution_count": 100,
   "metadata": {
    "ExecuteTime": {
     "end_time": "2020-12-26T15:41:58.395838Z",
     "start_time": "2020-12-26T15:41:58.192382Z"
    }
   },
   "outputs": [
    {
     "data": {
      "text/html": [
       "<div>\n",
       "<style scoped>\n",
       "    .dataframe tbody tr th:only-of-type {\n",
       "        vertical-align: middle;\n",
       "    }\n",
       "\n",
       "    .dataframe tbody tr th {\n",
       "        vertical-align: top;\n",
       "    }\n",
       "\n",
       "    .dataframe thead th {\n",
       "        text-align: right;\n",
       "    }\n",
       "</style>\n",
       "<table border=\"1\" class=\"dataframe\">\n",
       "  <thead>\n",
       "    <tr style=\"text-align: right;\">\n",
       "      <th></th>\n",
       "      <th>Daily Return in USD</th>\n",
       "      <th>Log Price in USD</th>\n",
       "      <th>Volatility Daily Log Return in Percent 5D</th>\n",
       "      <th>market/price_usd_close</th>\n",
       "      <th>market/price_drawdown_relative</th>\n",
       "      <th>market/price_realized_usd</th>\n",
       "      <th>market/mvrv</th>\n",
       "      <th>mining/difficulty_latest</th>\n",
       "      <th>mining/hash_rate_mean</th>\n",
       "      <th>blockchain/block_count</th>\n",
       "      <th>...</th>\n",
       "      <th>addresses/receiving_count</th>\n",
       "      <th>addresses/new_non_zero_count</th>\n",
       "      <th>addresses/non_zero_count</th>\n",
       "      <th>addresses/min_point_zero_1_count</th>\n",
       "      <th>addresses/min_point_1_count</th>\n",
       "      <th>addresses/min_1_count</th>\n",
       "      <th>addresses/min_10_count</th>\n",
       "      <th>addresses/min_100_count</th>\n",
       "      <th>addresses/min_1k_count</th>\n",
       "      <th>addresses/min_10k_count</th>\n",
       "    </tr>\n",
       "  </thead>\n",
       "  <tbody>\n",
       "    <tr>\n",
       "      <th>count</th>\n",
       "      <td>3450.00</td>\n",
       "      <td>3450.00</td>\n",
       "      <td>3450.00</td>\n",
       "      <td>3450.00</td>\n",
       "      <td>3450.00</td>\n",
       "      <td>3450.00</td>\n",
       "      <td>3450.00</td>\n",
       "      <td>3450.00</td>\n",
       "      <td>3450.00</td>\n",
       "      <td>3450.00</td>\n",
       "      <td>...</td>\n",
       "      <td>3450.00</td>\n",
       "      <td>3450.00</td>\n",
       "      <td>3450.00</td>\n",
       "      <td>3450.00</td>\n",
       "      <td>3450.00</td>\n",
       "      <td>3450.00</td>\n",
       "      <td>3450.00</td>\n",
       "      <td>3450.00</td>\n",
       "      <td>3450.00</td>\n",
       "      <td>3450.00</td>\n",
       "    </tr>\n",
       "    <tr>\n",
       "      <th>mean</th>\n",
       "      <td>6.88</td>\n",
       "      <td>6.38</td>\n",
       "      <td>3.53</td>\n",
       "      <td>3294.26</td>\n",
       "      <td>-0.55</td>\n",
       "      <td>1960.41</td>\n",
       "      <td>1.69</td>\n",
       "      <td>14258483301654345023488.00</td>\n",
       "      <td>24139054372912599040.00</td>\n",
       "      <td>152.57</td>\n",
       "      <td>...</td>\n",
       "      <td>326524.03</td>\n",
       "      <td>218730.08</td>\n",
       "      <td>12300900.80</td>\n",
       "      <td>3497619.18</td>\n",
       "      <td>1401938.44</td>\n",
       "      <td>472284.36</td>\n",
       "      <td>125610.20</td>\n",
       "      <td>14685.70</td>\n",
       "      <td>1623.24</td>\n",
       "      <td>102.25</td>\n",
       "    </tr>\n",
       "    <tr>\n",
       "      <th>std</th>\n",
       "      <td>238.59</td>\n",
       "      <td>2.48</td>\n",
       "      <td>3.35</td>\n",
       "      <td>4402.92</td>\n",
       "      <td>0.23</td>\n",
       "      <td>2430.96</td>\n",
       "      <td>0.74</td>\n",
       "      <td>23644455980179065405440.00</td>\n",
       "      <td>39911819571285884928.00</td>\n",
       "      <td>18.97</td>\n",
       "      <td>...</td>\n",
       "      <td>229186.28</td>\n",
       "      <td>160773.96</td>\n",
       "      <td>10891554.18</td>\n",
       "      <td>2926368.08</td>\n",
       "      <td>1032507.00</td>\n",
       "      <td>240874.99</td>\n",
       "      <td>28897.96</td>\n",
       "      <td>3620.82</td>\n",
       "      <td>388.74</td>\n",
       "      <td>14.71</td>\n",
       "    </tr>\n",
       "    <tr>\n",
       "      <th>min</th>\n",
       "      <td>-3052.46</td>\n",
       "      <td>0.72</td>\n",
       "      <td>0.16</td>\n",
       "      <td>2.05</td>\n",
       "      <td>-0.94</td>\n",
       "      <td>4.78</td>\n",
       "      <td>0.40</td>\n",
       "      <td>4684588175054590.00</td>\n",
       "      <td>6399665203131.94</td>\n",
       "      <td>80.00</td>\n",
       "      <td>...</td>\n",
       "      <td>7539.00</td>\n",
       "      <td>4241.00</td>\n",
       "      <td>296738.00</td>\n",
       "      <td>195085.00</td>\n",
       "      <td>125059.00</td>\n",
       "      <td>98120.00</td>\n",
       "      <td>64333.00</td>\n",
       "      <td>3746.00</td>\n",
       "      <td>597.00</td>\n",
       "      <td>62.00</td>\n",
       "    </tr>\n",
       "    <tr>\n",
       "      <th>25%</th>\n",
       "      <td>-7.00</td>\n",
       "      <td>5.41</td>\n",
       "      <td>1.52</td>\n",
       "      <td>223.57</td>\n",
       "      <td>-0.71</td>\n",
       "      <td>150.89</td>\n",
       "      <td>1.19</td>\n",
       "      <td>2617708177598920192.00</td>\n",
       "      <td>5113736190477835.00</td>\n",
       "      <td>140.00</td>\n",
       "      <td>...</td>\n",
       "      <td>103041.75</td>\n",
       "      <td>62105.75</td>\n",
       "      <td>2105452.75</td>\n",
       "      <td>699958.50</td>\n",
       "      <td>406206.25</td>\n",
       "      <td>234501.50</td>\n",
       "      <td>99368.50</td>\n",
       "      <td>12930.00</td>\n",
       "      <td>1459.50</td>\n",
       "      <td>97.00</td>\n",
       "    </tr>\n",
       "    <tr>\n",
       "      <th>50%</th>\n",
       "      <td>0.11</td>\n",
       "      <td>6.43</td>\n",
       "      <td>2.66</td>\n",
       "      <td>619.28</td>\n",
       "      <td>-0.59</td>\n",
       "      <td>351.29</td>\n",
       "      <td>1.60</td>\n",
       "      <td>716621792837638029312.00</td>\n",
       "      <td>1244570822244329984.00</td>\n",
       "      <td>151.00</td>\n",
       "      <td>...</td>\n",
       "      <td>368541.50</td>\n",
       "      <td>225366.50</td>\n",
       "      <td>7556593.50</td>\n",
       "      <td>2590722.00</td>\n",
       "      <td>1195713.00</td>\n",
       "      <td>483207.00</td>\n",
       "      <td>138454.00</td>\n",
       "      <td>16179.50</td>\n",
       "      <td>1687.00</td>\n",
       "      <td>105.00</td>\n",
       "    </tr>\n",
       "    <tr>\n",
       "      <th>75%</th>\n",
       "      <td>13.15</td>\n",
       "      <td>8.79</td>\n",
       "      <td>4.41</td>\n",
       "      <td>6579.52</td>\n",
       "      <td>-0.45</td>\n",
       "      <td>4960.97</td>\n",
       "      <td>1.98</td>\n",
       "      <td>24131685420266202071040.00</td>\n",
       "      <td>39067211902994776064.00</td>\n",
       "      <td>163.00</td>\n",
       "      <td>...</td>\n",
       "      <td>512675.75</td>\n",
       "      <td>351078.00</td>\n",
       "      <td>22440748.50</td>\n",
       "      <td>6393393.75</td>\n",
       "      <td>2474191.00</td>\n",
       "      <td>711228.50</td>\n",
       "      <td>149815.25</td>\n",
       "      <td>17142.75</td>\n",
       "      <td>1847.00</td>\n",
       "      <td>113.00</td>\n",
       "    </tr>\n",
       "    <tr>\n",
       "      <th>max</th>\n",
       "      <td>3224.13</td>\n",
       "      <td>10.08</td>\n",
       "      <td>41.75</td>\n",
       "      <td>23851.24</td>\n",
       "      <td>0.00</td>\n",
       "      <td>8448.07</td>\n",
       "      <td>5.73</td>\n",
       "      <td>85887904103269694177280.00</td>\n",
       "      <td>160765244797356015616.00</td>\n",
       "      <td>260.00</td>\n",
       "      <td>...</td>\n",
       "      <td>1072829.00</td>\n",
       "      <td>800180.00</td>\n",
       "      <td>33275082.00</td>\n",
       "      <td>8753449.00</td>\n",
       "      <td>3186455.00</td>\n",
       "      <td>829715.00</td>\n",
       "      <td>157275.00</td>\n",
       "      <td>18543.00</td>\n",
       "      <td>2306.00</td>\n",
       "      <td>126.00</td>\n",
       "    </tr>\n",
       "  </tbody>\n",
       "</table>\n",
       "<p>8 rows × 91 columns</p>\n",
       "</div>"
      ],
      "text/plain": [
       "       Daily Return in USD  Log Price in USD  \\\n",
       "count              3450.00           3450.00   \n",
       "mean                  6.88              6.38   \n",
       "std                 238.59              2.48   \n",
       "min               -3052.46              0.72   \n",
       "25%                  -7.00              5.41   \n",
       "50%                   0.11              6.43   \n",
       "75%                  13.15              8.79   \n",
       "max                3224.13             10.08   \n",
       "\n",
       "       Volatility Daily Log Return in Percent 5D  market/price_usd_close  \\\n",
       "count                                    3450.00                 3450.00   \n",
       "mean                                        3.53                 3294.26   \n",
       "std                                         3.35                 4402.92   \n",
       "min                                         0.16                    2.05   \n",
       "25%                                         1.52                  223.57   \n",
       "50%                                         2.66                  619.28   \n",
       "75%                                         4.41                 6579.52   \n",
       "max                                        41.75                23851.24   \n",
       "\n",
       "       market/price_drawdown_relative  market/price_realized_usd  market/mvrv  \\\n",
       "count                         3450.00                    3450.00      3450.00   \n",
       "mean                            -0.55                    1960.41         1.69   \n",
       "std                              0.23                    2430.96         0.74   \n",
       "min                             -0.94                       4.78         0.40   \n",
       "25%                             -0.71                     150.89         1.19   \n",
       "50%                             -0.59                     351.29         1.60   \n",
       "75%                             -0.45                    4960.97         1.98   \n",
       "max                              0.00                    8448.07         5.73   \n",
       "\n",
       "        mining/difficulty_latest    mining/hash_rate_mean  \\\n",
       "count                    3450.00                  3450.00   \n",
       "mean  14258483301654345023488.00  24139054372912599040.00   \n",
       "std   23644455980179065405440.00  39911819571285884928.00   \n",
       "min          4684588175054590.00         6399665203131.94   \n",
       "25%       2617708177598920192.00      5113736190477835.00   \n",
       "50%     716621792837638029312.00   1244570822244329984.00   \n",
       "75%   24131685420266202071040.00  39067211902994776064.00   \n",
       "max   85887904103269694177280.00 160765244797356015616.00   \n",
       "\n",
       "       blockchain/block_count  ...  addresses/receiving_count  \\\n",
       "count                 3450.00  ...                    3450.00   \n",
       "mean                   152.57  ...                  326524.03   \n",
       "std                     18.97  ...                  229186.28   \n",
       "min                     80.00  ...                    7539.00   \n",
       "25%                    140.00  ...                  103041.75   \n",
       "50%                    151.00  ...                  368541.50   \n",
       "75%                    163.00  ...                  512675.75   \n",
       "max                    260.00  ...                 1072829.00   \n",
       "\n",
       "       addresses/new_non_zero_count  addresses/non_zero_count  \\\n",
       "count                       3450.00                   3450.00   \n",
       "mean                      218730.08               12300900.80   \n",
       "std                       160773.96               10891554.18   \n",
       "min                         4241.00                 296738.00   \n",
       "25%                        62105.75                2105452.75   \n",
       "50%                       225366.50                7556593.50   \n",
       "75%                       351078.00               22440748.50   \n",
       "max                       800180.00               33275082.00   \n",
       "\n",
       "       addresses/min_point_zero_1_count  addresses/min_point_1_count  \\\n",
       "count                           3450.00                      3450.00   \n",
       "mean                         3497619.18                   1401938.44   \n",
       "std                          2926368.08                   1032507.00   \n",
       "min                           195085.00                    125059.00   \n",
       "25%                           699958.50                    406206.25   \n",
       "50%                          2590722.00                   1195713.00   \n",
       "75%                          6393393.75                   2474191.00   \n",
       "max                          8753449.00                   3186455.00   \n",
       "\n",
       "       addresses/min_1_count  addresses/min_10_count  addresses/min_100_count  \\\n",
       "count                3450.00                 3450.00                  3450.00   \n",
       "mean               472284.36               125610.20                 14685.70   \n",
       "std                240874.99                28897.96                  3620.82   \n",
       "min                 98120.00                64333.00                  3746.00   \n",
       "25%                234501.50                99368.50                 12930.00   \n",
       "50%                483207.00               138454.00                 16179.50   \n",
       "75%                711228.50               149815.25                 17142.75   \n",
       "max                829715.00               157275.00                 18543.00   \n",
       "\n",
       "       addresses/min_1k_count  addresses/min_10k_count  \n",
       "count                 3450.00                  3450.00  \n",
       "mean                  1623.24                   102.25  \n",
       "std                    388.74                    14.71  \n",
       "min                    597.00                    62.00  \n",
       "25%                   1459.50                    97.00  \n",
       "50%                   1687.00                   105.00  \n",
       "75%                   1847.00                   113.00  \n",
       "max                   2306.00                   126.00  \n",
       "\n",
       "[8 rows x 91 columns]"
      ]
     },
     "execution_count": 100,
     "metadata": {},
     "output_type": "execute_result"
    }
   ],
   "source": [
    "# Summary Statistics\n",
    "df_dataset1.describe()"
   ]
  },
  {
   "cell_type": "code",
   "execution_count": 101,
   "metadata": {
    "ExecuteTime": {
     "end_time": "2020-12-26T15:41:58.426791Z",
     "start_time": "2020-12-26T15:41:58.397833Z"
    }
   },
   "outputs": [
    {
     "data": {
      "text/html": [
       "<div>\n",
       "<style scoped>\n",
       "    .dataframe tbody tr th:only-of-type {\n",
       "        vertical-align: middle;\n",
       "    }\n",
       "\n",
       "    .dataframe tbody tr th {\n",
       "        vertical-align: top;\n",
       "    }\n",
       "\n",
       "    .dataframe thead th {\n",
       "        text-align: right;\n",
       "    }\n",
       "</style>\n",
       "<table border=\"1\" class=\"dataframe\">\n",
       "  <thead>\n",
       "    <tr style=\"text-align: right;\">\n",
       "      <th></th>\n",
       "      <th>Daily Return in USD</th>\n",
       "      <th>Log Price in USD</th>\n",
       "      <th>Volatility Daily Log Return in Percent 5D</th>\n",
       "      <th>market/price_usd_close</th>\n",
       "      <th>market/price_drawdown_relative</th>\n",
       "      <th>market/price_realized_usd</th>\n",
       "      <th>market/mvrv</th>\n",
       "      <th>mining/difficulty_latest</th>\n",
       "      <th>mining/hash_rate_mean</th>\n",
       "      <th>blockchain/block_count</th>\n",
       "      <th>...</th>\n",
       "      <th>addresses/receiving_count</th>\n",
       "      <th>addresses/new_non_zero_count</th>\n",
       "      <th>addresses/non_zero_count</th>\n",
       "      <th>addresses/min_point_zero_1_count</th>\n",
       "      <th>addresses/min_point_1_count</th>\n",
       "      <th>addresses/min_1_count</th>\n",
       "      <th>addresses/min_10_count</th>\n",
       "      <th>addresses/min_100_count</th>\n",
       "      <th>addresses/min_1k_count</th>\n",
       "      <th>addresses/min_10k_count</th>\n",
       "    </tr>\n",
       "    <tr>\n",
       "      <th>Date</th>\n",
       "      <th></th>\n",
       "      <th></th>\n",
       "      <th></th>\n",
       "      <th></th>\n",
       "      <th></th>\n",
       "      <th></th>\n",
       "      <th></th>\n",
       "      <th></th>\n",
       "      <th></th>\n",
       "      <th></th>\n",
       "      <th></th>\n",
       "      <th></th>\n",
       "      <th></th>\n",
       "      <th></th>\n",
       "      <th></th>\n",
       "      <th></th>\n",
       "      <th></th>\n",
       "      <th></th>\n",
       "      <th></th>\n",
       "      <th></th>\n",
       "      <th></th>\n",
       "    </tr>\n",
       "  </thead>\n",
       "  <tbody>\n",
       "    <tr>\n",
       "      <th>2020-12-20</th>\n",
       "      <td>-301.46</td>\n",
       "      <td>10.07</td>\n",
       "      <td>4.24</td>\n",
       "      <td>23549.78</td>\n",
       "      <td>-0.03</td>\n",
       "      <td>8159.47</td>\n",
       "      <td>2.89</td>\n",
       "      <td>80187763369133704478720.00</td>\n",
       "      <td>141220096205307002880.00</td>\n",
       "      <td>151.00</td>\n",
       "      <td>...</td>\n",
       "      <td>638805.00</td>\n",
       "      <td>465212.00</td>\n",
       "      <td>33157050.00</td>\n",
       "      <td>8520195.00</td>\n",
       "      <td>3128579.00</td>\n",
       "      <td>827865.00</td>\n",
       "      <td>153996.00</td>\n",
       "      <td>16101.00</td>\n",
       "      <td>2275.00</td>\n",
       "      <td>107.00</td>\n",
       "    </tr>\n",
       "    <tr>\n",
       "      <th>2020-12-21</th>\n",
       "      <td>-674.33</td>\n",
       "      <td>10.04</td>\n",
       "      <td>3.74</td>\n",
       "      <td>22875.46</td>\n",
       "      <td>-0.05</td>\n",
       "      <td>8205.79</td>\n",
       "      <td>2.83</td>\n",
       "      <td>80187763369133704478720.00</td>\n",
       "      <td>125467801265571004416.00</td>\n",
       "      <td>136.00</td>\n",
       "      <td>...</td>\n",
       "      <td>649831.00</td>\n",
       "      <td>461211.00</td>\n",
       "      <td>33047778.00</td>\n",
       "      <td>8550819.00</td>\n",
       "      <td>3133729.00</td>\n",
       "      <td>828815.00</td>\n",
       "      <td>153675.00</td>\n",
       "      <td>16081.00</td>\n",
       "      <td>2266.00</td>\n",
       "      <td>107.00</td>\n",
       "    </tr>\n",
       "    <tr>\n",
       "      <th>2020-12-22</th>\n",
       "      <td>883.48</td>\n",
       "      <td>10.08</td>\n",
       "      <td>2.89</td>\n",
       "      <td>23758.93</td>\n",
       "      <td>-0.02</td>\n",
       "      <td>8286.35</td>\n",
       "      <td>2.79</td>\n",
       "      <td>80187763369133704478720.00</td>\n",
       "      <td>132165952003620995072.00</td>\n",
       "      <td>143.00</td>\n",
       "      <td>...</td>\n",
       "      <td>738830.00</td>\n",
       "      <td>528210.00</td>\n",
       "      <td>33068915.00</td>\n",
       "      <td>8550157.00</td>\n",
       "      <td>3139132.00</td>\n",
       "      <td>829715.00</td>\n",
       "      <td>153788.00</td>\n",
       "      <td>16136.00</td>\n",
       "      <td>2252.00</td>\n",
       "      <td>105.00</td>\n",
       "    </tr>\n",
       "    <tr>\n",
       "      <th>2020-12-23</th>\n",
       "      <td>-479.38</td>\n",
       "      <td>10.06</td>\n",
       "      <td>3.13</td>\n",
       "      <td>23279.55</td>\n",
       "      <td>-0.04</td>\n",
       "      <td>8375.79</td>\n",
       "      <td>2.81</td>\n",
       "      <td>80187763369133704478720.00</td>\n",
       "      <td>146111617294112997376.00</td>\n",
       "      <td>154.00</td>\n",
       "      <td>...</td>\n",
       "      <td>782721.00</td>\n",
       "      <td>540230.00</td>\n",
       "      <td>33111216.00</td>\n",
       "      <td>8544699.00</td>\n",
       "      <td>3133057.00</td>\n",
       "      <td>828576.00</td>\n",
       "      <td>153724.00</td>\n",
       "      <td>16119.00</td>\n",
       "      <td>2247.00</td>\n",
       "      <td>103.00</td>\n",
       "    </tr>\n",
       "    <tr>\n",
       "      <th>2020-12-24</th>\n",
       "      <td>485.20</td>\n",
       "      <td>10.08</td>\n",
       "      <td>2.86</td>\n",
       "      <td>23764.75</td>\n",
       "      <td>-0.02</td>\n",
       "      <td>8448.07</td>\n",
       "      <td>2.75</td>\n",
       "      <td>80187763369133704478720.00</td>\n",
       "      <td>114954071251531005952.00</td>\n",
       "      <td>126.00</td>\n",
       "      <td>...</td>\n",
       "      <td>639266.00</td>\n",
       "      <td>447429.00</td>\n",
       "      <td>33117973.00</td>\n",
       "      <td>8545074.00</td>\n",
       "      <td>3134905.00</td>\n",
       "      <td>829222.00</td>\n",
       "      <td>153650.00</td>\n",
       "      <td>16089.00</td>\n",
       "      <td>2232.00</td>\n",
       "      <td>103.00</td>\n",
       "    </tr>\n",
       "  </tbody>\n",
       "</table>\n",
       "<p>5 rows × 91 columns</p>\n",
       "</div>"
      ],
      "text/plain": [
       "            Daily Return in USD  Log Price in USD  \\\n",
       "Date                                                \n",
       "2020-12-20              -301.46             10.07   \n",
       "2020-12-21              -674.33             10.04   \n",
       "2020-12-22               883.48             10.08   \n",
       "2020-12-23              -479.38             10.06   \n",
       "2020-12-24               485.20             10.08   \n",
       "\n",
       "            Volatility Daily Log Return in Percent 5D  market/price_usd_close  \\\n",
       "Date                                                                            \n",
       "2020-12-20                                       4.24                23549.78   \n",
       "2020-12-21                                       3.74                22875.46   \n",
       "2020-12-22                                       2.89                23758.93   \n",
       "2020-12-23                                       3.13                23279.55   \n",
       "2020-12-24                                       2.86                23764.75   \n",
       "\n",
       "            market/price_drawdown_relative  market/price_realized_usd  \\\n",
       "Date                                                                    \n",
       "2020-12-20                           -0.03                    8159.47   \n",
       "2020-12-21                           -0.05                    8205.79   \n",
       "2020-12-22                           -0.02                    8286.35   \n",
       "2020-12-23                           -0.04                    8375.79   \n",
       "2020-12-24                           -0.02                    8448.07   \n",
       "\n",
       "            market/mvrv   mining/difficulty_latest    mining/hash_rate_mean  \\\n",
       "Date                                                                          \n",
       "2020-12-20         2.89 80187763369133704478720.00 141220096205307002880.00   \n",
       "2020-12-21         2.83 80187763369133704478720.00 125467801265571004416.00   \n",
       "2020-12-22         2.79 80187763369133704478720.00 132165952003620995072.00   \n",
       "2020-12-23         2.81 80187763369133704478720.00 146111617294112997376.00   \n",
       "2020-12-24         2.75 80187763369133704478720.00 114954071251531005952.00   \n",
       "\n",
       "            blockchain/block_count  ...  addresses/receiving_count  \\\n",
       "Date                                ...                              \n",
       "2020-12-20                  151.00  ...                  638805.00   \n",
       "2020-12-21                  136.00  ...                  649831.00   \n",
       "2020-12-22                  143.00  ...                  738830.00   \n",
       "2020-12-23                  154.00  ...                  782721.00   \n",
       "2020-12-24                  126.00  ...                  639266.00   \n",
       "\n",
       "            addresses/new_non_zero_count  addresses/non_zero_count  \\\n",
       "Date                                                                 \n",
       "2020-12-20                     465212.00               33157050.00   \n",
       "2020-12-21                     461211.00               33047778.00   \n",
       "2020-12-22                     528210.00               33068915.00   \n",
       "2020-12-23                     540230.00               33111216.00   \n",
       "2020-12-24                     447429.00               33117973.00   \n",
       "\n",
       "            addresses/min_point_zero_1_count  addresses/min_point_1_count  \\\n",
       "Date                                                                        \n",
       "2020-12-20                        8520195.00                   3128579.00   \n",
       "2020-12-21                        8550819.00                   3133729.00   \n",
       "2020-12-22                        8550157.00                   3139132.00   \n",
       "2020-12-23                        8544699.00                   3133057.00   \n",
       "2020-12-24                        8545074.00                   3134905.00   \n",
       "\n",
       "            addresses/min_1_count  addresses/min_10_count  \\\n",
       "Date                                                        \n",
       "2020-12-20              827865.00               153996.00   \n",
       "2020-12-21              828815.00               153675.00   \n",
       "2020-12-22              829715.00               153788.00   \n",
       "2020-12-23              828576.00               153724.00   \n",
       "2020-12-24              829222.00               153650.00   \n",
       "\n",
       "            addresses/min_100_count  addresses/min_1k_count  \\\n",
       "Date                                                          \n",
       "2020-12-20                 16101.00                 2275.00   \n",
       "2020-12-21                 16081.00                 2266.00   \n",
       "2020-12-22                 16136.00                 2252.00   \n",
       "2020-12-23                 16119.00                 2247.00   \n",
       "2020-12-24                 16089.00                 2232.00   \n",
       "\n",
       "            addresses/min_10k_count  \n",
       "Date                                 \n",
       "2020-12-20                   107.00  \n",
       "2020-12-21                   107.00  \n",
       "2020-12-22                   105.00  \n",
       "2020-12-23                   103.00  \n",
       "2020-12-24                   103.00  \n",
       "\n",
       "[5 rows x 91 columns]"
      ]
     },
     "execution_count": 101,
     "metadata": {},
     "output_type": "execute_result"
    }
   ],
   "source": [
    "# Dataset Tail\n",
    "df_dataset1.tail()"
   ]
  },
  {
   "cell_type": "markdown",
   "metadata": {},
   "source": [
    "## Prediction Shift"
   ]
  },
  {
   "cell_type": "markdown",
   "metadata": {},
   "source": [
    "### Data Set I."
   ]
  },
  {
   "cell_type": "code",
   "execution_count": 102,
   "metadata": {
    "ExecuteTime": {
     "end_time": "2020-12-26T15:41:58.442747Z",
     "start_time": "2020-12-26T15:41:58.428751Z"
    }
   },
   "outputs": [
    {
     "data": {
      "text/plain": [
       "Index(['Daily Return in USD', 'Log Price in USD',\n",
       "       'Volatility Daily Log Return in Percent 5D', 'market/price_usd_close',\n",
       "       'market/price_drawdown_relative', 'market/price_realized_usd',\n",
       "       'market/mvrv', 'mining/difficulty_latest', 'mining/hash_rate_mean',\n",
       "       'blockchain/block_count', 'blockchain/block_interval_mean',\n",
       "       'blockchain/block_size_sum', 'fees/volume_sum', 'fees/volume_mean',\n",
       "       'fees/fee_ratio_multiple', 'blockchain/utxo_created_count',\n",
       "       'blockchain/utxo_spent_count', 'blockchain/utxo_created_value_sum',\n",
       "       'blockchain/utxo_spent_value_sum', 'blockchain/utxo_profit_relative',\n",
       "       'blockchain/utxo_profit_count', 'blockchain/utxo_loss_count',\n",
       "       'supply/current', 'supply/profit_relative', 'supply/profit_sum',\n",
       "       'supply/loss_sum', 'supply/active_more_1y_percent',\n",
       "       'supply/active_more_2y_percent', 'supply/active_more_3y_percent',\n",
       "       'supply/active_more_5y_percent', 'supply/active_24h',\n",
       "       'supply/active_1d_1w', 'supply/active_1w_1m', 'supply/active_1m_3m',\n",
       "       'supply/active_3m_6m', 'supply/active_6m_12m', 'supply/active_1y_2y',\n",
       "       'supply/active_2y_3y', 'supply/active_3y_5y', 'supply/active_5y_7y',\n",
       "       'supply/active_7y_10y', 'supply/active_more_10y', 'supply/issued',\n",
       "       'supply/inflation_rate', 'transactions/count', 'transactions/size_sum',\n",
       "       'transactions/transfers_volume_sum',\n",
       "       'transactions/transfers_volume_adjusted_sum',\n",
       "       'indicators/sopr_adjusted', 'indicators/nvt', 'indicators/velocity',\n",
       "       'indicators/cdd', 'indicators/reserve_risk',\n",
       "       'indicators/average_dormancy', 'indicators/liveliness',\n",
       "       'indicators/asol', 'indicators/sol_1h', 'indicators/sol_1h_24h',\n",
       "       'indicators/sol_1d_1w', 'indicators/sol_1w_1m', 'indicators/sol_1m_3m',\n",
       "       'indicators/sol_3m_6m', 'indicators/sol_6m_12m', 'indicators/sol_1y_2y',\n",
       "       'indicators/sol_2y_3y', 'indicators/sol_3y_5y', 'indicators/sol_5y_7y',\n",
       "       'indicators/sol_7y_10y', 'indicators/net_unrealized_profit_loss',\n",
       "       'indicators/unrealized_profit', 'indicators/unrealized_loss',\n",
       "       'indicators/net_realized_profit_loss', 'indicators/realized_profit',\n",
       "       'indicators/realized_loss', 'indicators/nupl_more_155',\n",
       "       'indicators/nupl_less_155', 'indicators/puell_multiple',\n",
       "       'indicators/stock_to_flow_deflection',\n",
       "       'indicators/difficulty_ribbon_compression', 'addresses/active_count',\n",
       "       'addresses/sending_count', 'addresses/receiving_count',\n",
       "       'addresses/new_non_zero_count', 'addresses/non_zero_count',\n",
       "       'addresses/min_point_zero_1_count', 'addresses/min_point_1_count',\n",
       "       'addresses/min_1_count', 'addresses/min_10_count',\n",
       "       'addresses/min_100_count', 'addresses/min_1k_count',\n",
       "       'addresses/min_10k_count'],\n",
       "      dtype='object')"
      ]
     },
     "execution_count": 102,
     "metadata": {},
     "output_type": "execute_result"
    }
   ],
   "source": [
    "df_dataset1.columns"
   ]
  },
  {
   "cell_type": "code",
   "execution_count": 103,
   "metadata": {
    "ExecuteTime": {
     "end_time": "2020-12-26T15:41:58.458670Z",
     "start_time": "2020-12-26T15:41:58.443710Z"
    }
   },
   "outputs": [
    {
     "data": {
      "text/html": [
       "<div>\n",
       "<style scoped>\n",
       "    .dataframe tbody tr th:only-of-type {\n",
       "        vertical-align: middle;\n",
       "    }\n",
       "\n",
       "    .dataframe tbody tr th {\n",
       "        vertical-align: top;\n",
       "    }\n",
       "\n",
       "    .dataframe thead th {\n",
       "        text-align: right;\n",
       "    }\n",
       "</style>\n",
       "<table border=\"1\" class=\"dataframe\">\n",
       "  <thead>\n",
       "    <tr style=\"text-align: right;\">\n",
       "      <th></th>\n",
       "      <th>Daily Return in USD</th>\n",
       "      <th>Log Price in USD</th>\n",
       "      <th>Volatility Daily Log Return in Percent 5D</th>\n",
       "      <th>market/price_usd_close</th>\n",
       "    </tr>\n",
       "    <tr>\n",
       "      <th>Date</th>\n",
       "      <th></th>\n",
       "      <th></th>\n",
       "      <th></th>\n",
       "      <th></th>\n",
       "    </tr>\n",
       "  </thead>\n",
       "  <tbody>\n",
       "    <tr>\n",
       "      <th>2011-07-16</th>\n",
       "      <td>-0.09</td>\n",
       "      <td>2.62</td>\n",
       "      <td>0.70</td>\n",
       "      <td>13.72</td>\n",
       "    </tr>\n",
       "    <tr>\n",
       "      <th>2011-07-17</th>\n",
       "      <td>-0.55</td>\n",
       "      <td>2.58</td>\n",
       "      <td>1.70</td>\n",
       "      <td>13.17</td>\n",
       "    </tr>\n",
       "    <tr>\n",
       "      <th>2011-07-18</th>\n",
       "      <td>0.26</td>\n",
       "      <td>2.60</td>\n",
       "      <td>2.23</td>\n",
       "      <td>13.42</td>\n",
       "    </tr>\n",
       "    <tr>\n",
       "      <th>2011-07-19</th>\n",
       "      <td>0.42</td>\n",
       "      <td>2.63</td>\n",
       "      <td>2.83</td>\n",
       "      <td>13.84</td>\n",
       "    </tr>\n",
       "    <tr>\n",
       "      <th>2011-07-20</th>\n",
       "      <td>-0.15</td>\n",
       "      <td>2.62</td>\n",
       "      <td>2.80</td>\n",
       "      <td>13.69</td>\n",
       "    </tr>\n",
       "    <tr>\n",
       "      <th>...</th>\n",
       "      <td>...</td>\n",
       "      <td>...</td>\n",
       "      <td>...</td>\n",
       "      <td>...</td>\n",
       "    </tr>\n",
       "    <tr>\n",
       "      <th>2020-12-20</th>\n",
       "      <td>-301.46</td>\n",
       "      <td>10.07</td>\n",
       "      <td>4.24</td>\n",
       "      <td>23549.78</td>\n",
       "    </tr>\n",
       "    <tr>\n",
       "      <th>2020-12-21</th>\n",
       "      <td>-674.33</td>\n",
       "      <td>10.04</td>\n",
       "      <td>3.74</td>\n",
       "      <td>22875.46</td>\n",
       "    </tr>\n",
       "    <tr>\n",
       "      <th>2020-12-22</th>\n",
       "      <td>883.48</td>\n",
       "      <td>10.08</td>\n",
       "      <td>2.89</td>\n",
       "      <td>23758.93</td>\n",
       "    </tr>\n",
       "    <tr>\n",
       "      <th>2020-12-23</th>\n",
       "      <td>-479.38</td>\n",
       "      <td>10.06</td>\n",
       "      <td>3.13</td>\n",
       "      <td>23279.55</td>\n",
       "    </tr>\n",
       "    <tr>\n",
       "      <th>2020-12-24</th>\n",
       "      <td>485.20</td>\n",
       "      <td>10.08</td>\n",
       "      <td>2.86</td>\n",
       "      <td>23764.75</td>\n",
       "    </tr>\n",
       "  </tbody>\n",
       "</table>\n",
       "<p>3450 rows × 4 columns</p>\n",
       "</div>"
      ],
      "text/plain": [
       "            Daily Return in USD  Log Price in USD  \\\n",
       "Date                                                \n",
       "2011-07-16                -0.09              2.62   \n",
       "2011-07-17                -0.55              2.58   \n",
       "2011-07-18                 0.26              2.60   \n",
       "2011-07-19                 0.42              2.63   \n",
       "2011-07-20                -0.15              2.62   \n",
       "...                         ...               ...   \n",
       "2020-12-20              -301.46             10.07   \n",
       "2020-12-21              -674.33             10.04   \n",
       "2020-12-22               883.48             10.08   \n",
       "2020-12-23              -479.38             10.06   \n",
       "2020-12-24               485.20             10.08   \n",
       "\n",
       "            Volatility Daily Log Return in Percent 5D  market/price_usd_close  \n",
       "Date                                                                           \n",
       "2011-07-16                                       0.70                   13.72  \n",
       "2011-07-17                                       1.70                   13.17  \n",
       "2011-07-18                                       2.23                   13.42  \n",
       "2011-07-19                                       2.83                   13.84  \n",
       "2011-07-20                                       2.80                   13.69  \n",
       "...                                               ...                     ...  \n",
       "2020-12-20                                       4.24                23549.78  \n",
       "2020-12-21                                       3.74                22875.46  \n",
       "2020-12-22                                       2.89                23758.93  \n",
       "2020-12-23                                       3.13                23279.55  \n",
       "2020-12-24                                       2.86                23764.75  \n",
       "\n",
       "[3450 rows x 4 columns]"
      ]
     },
     "execution_count": 103,
     "metadata": {},
     "output_type": "execute_result"
    }
   ],
   "source": [
    "df_dataset1[['Daily Return in USD', 'Log Price in USD',\n",
    "       'Volatility Daily Log Return in Percent 5D', 'market/price_usd_close']]"
   ]
  },
  {
   "cell_type": "code",
   "execution_count": 104,
   "metadata": {
    "ExecuteTime": {
     "end_time": "2020-12-26T15:41:58.474663Z",
     "start_time": "2020-12-26T15:41:58.460671Z"
    }
   },
   "outputs": [],
   "source": [
    "# Shift of Target Column by 1 Day\n",
    "df_dataset1['Daily Return in USD_ohneshift'] = df_dataset1['Daily Return in USD'] \n",
    "df_dataset1[\"percentage_daily_return_bef_shift\"] = df_dataset1[\"Daily Return in USD_ohneshift\"]/df_dataset1[\"market/price_usd_close\"]"
   ]
  },
  {
   "cell_type": "code",
   "execution_count": 105,
   "metadata": {
    "ExecuteTime": {
     "end_time": "2020-12-26T15:41:58.490622Z",
     "start_time": "2020-12-26T15:41:58.476622Z"
    }
   },
   "outputs": [],
   "source": [
    "df_dataset1 = df_dataset1.sort_index(ascending = False)"
   ]
  },
  {
   "cell_type": "code",
   "execution_count": 106,
   "metadata": {
    "ExecuteTime": {
     "end_time": "2020-12-26T15:41:58.506578Z",
     "start_time": "2020-12-26T15:41:58.492580Z"
    }
   },
   "outputs": [],
   "source": [
    "df_dataset1['Daily Return in USD'] = df_dataset1['Daily Return in USD'].shift(1) "
   ]
  },
  {
   "cell_type": "code",
   "execution_count": 107,
   "metadata": {
    "ExecuteTime": {
     "end_time": "2020-12-26T15:41:58.537460Z",
     "start_time": "2020-12-26T15:41:58.508570Z"
    }
   },
   "outputs": [
    {
     "data": {
      "text/html": [
       "<div>\n",
       "<style scoped>\n",
       "    .dataframe tbody tr th:only-of-type {\n",
       "        vertical-align: middle;\n",
       "    }\n",
       "\n",
       "    .dataframe tbody tr th {\n",
       "        vertical-align: top;\n",
       "    }\n",
       "\n",
       "    .dataframe thead th {\n",
       "        text-align: right;\n",
       "    }\n",
       "</style>\n",
       "<table border=\"1\" class=\"dataframe\">\n",
       "  <thead>\n",
       "    <tr style=\"text-align: right;\">\n",
       "      <th></th>\n",
       "      <th>Daily Return in USD</th>\n",
       "      <th>addresses/active_count</th>\n",
       "      <th>Log Price in USD</th>\n",
       "      <th>Volatility Daily Log Return in Percent 5D</th>\n",
       "      <th>market/price_usd_close</th>\n",
       "    </tr>\n",
       "    <tr>\n",
       "      <th>Date</th>\n",
       "      <th></th>\n",
       "      <th></th>\n",
       "      <th></th>\n",
       "      <th></th>\n",
       "      <th></th>\n",
       "    </tr>\n",
       "  </thead>\n",
       "  <tbody>\n",
       "    <tr>\n",
       "      <th>2020-12-24</th>\n",
       "      <td>nan</td>\n",
       "      <td>972137.00</td>\n",
       "      <td>10.08</td>\n",
       "      <td>2.86</td>\n",
       "      <td>23764.75</td>\n",
       "    </tr>\n",
       "    <tr>\n",
       "      <th>2020-12-23</th>\n",
       "      <td>485.20</td>\n",
       "      <td>1131834.00</td>\n",
       "      <td>10.06</td>\n",
       "      <td>3.13</td>\n",
       "      <td>23279.55</td>\n",
       "    </tr>\n",
       "    <tr>\n",
       "      <th>2020-12-22</th>\n",
       "      <td>-479.38</td>\n",
       "      <td>1099356.00</td>\n",
       "      <td>10.08</td>\n",
       "      <td>2.89</td>\n",
       "      <td>23758.93</td>\n",
       "    </tr>\n",
       "    <tr>\n",
       "      <th>2020-12-21</th>\n",
       "      <td>883.48</td>\n",
       "      <td>1125440.00</td>\n",
       "      <td>10.04</td>\n",
       "      <td>3.74</td>\n",
       "      <td>22875.46</td>\n",
       "    </tr>\n",
       "    <tr>\n",
       "      <th>2020-12-20</th>\n",
       "      <td>-674.33</td>\n",
       "      <td>1078245.00</td>\n",
       "      <td>10.07</td>\n",
       "      <td>4.24</td>\n",
       "      <td>23549.78</td>\n",
       "    </tr>\n",
       "    <tr>\n",
       "      <th>...</th>\n",
       "      <td>...</td>\n",
       "      <td>...</td>\n",
       "      <td>...</td>\n",
       "      <td>...</td>\n",
       "      <td>...</td>\n",
       "    </tr>\n",
       "    <tr>\n",
       "      <th>2011-07-20</th>\n",
       "      <td>-0.08</td>\n",
       "      <td>25539.00</td>\n",
       "      <td>2.62</td>\n",
       "      <td>2.80</td>\n",
       "      <td>13.69</td>\n",
       "    </tr>\n",
       "    <tr>\n",
       "      <th>2011-07-19</th>\n",
       "      <td>-0.15</td>\n",
       "      <td>24782.00</td>\n",
       "      <td>2.63</td>\n",
       "      <td>2.83</td>\n",
       "      <td>13.84</td>\n",
       "    </tr>\n",
       "    <tr>\n",
       "      <th>2011-07-18</th>\n",
       "      <td>0.42</td>\n",
       "      <td>27601.00</td>\n",
       "      <td>2.60</td>\n",
       "      <td>2.23</td>\n",
       "      <td>13.42</td>\n",
       "    </tr>\n",
       "    <tr>\n",
       "      <th>2011-07-17</th>\n",
       "      <td>0.26</td>\n",
       "      <td>24274.00</td>\n",
       "      <td>2.58</td>\n",
       "      <td>1.70</td>\n",
       "      <td>13.17</td>\n",
       "    </tr>\n",
       "    <tr>\n",
       "      <th>2011-07-16</th>\n",
       "      <td>-0.55</td>\n",
       "      <td>23674.00</td>\n",
       "      <td>2.62</td>\n",
       "      <td>0.70</td>\n",
       "      <td>13.72</td>\n",
       "    </tr>\n",
       "  </tbody>\n",
       "</table>\n",
       "<p>3450 rows × 5 columns</p>\n",
       "</div>"
      ],
      "text/plain": [
       "            Daily Return in USD  addresses/active_count  Log Price in USD  \\\n",
       "Date                                                                        \n",
       "2020-12-24                  nan               972137.00             10.08   \n",
       "2020-12-23               485.20              1131834.00             10.06   \n",
       "2020-12-22              -479.38              1099356.00             10.08   \n",
       "2020-12-21               883.48              1125440.00             10.04   \n",
       "2020-12-20              -674.33              1078245.00             10.07   \n",
       "...                         ...                     ...               ...   \n",
       "2011-07-20                -0.08                25539.00              2.62   \n",
       "2011-07-19                -0.15                24782.00              2.63   \n",
       "2011-07-18                 0.42                27601.00              2.60   \n",
       "2011-07-17                 0.26                24274.00              2.58   \n",
       "2011-07-16                -0.55                23674.00              2.62   \n",
       "\n",
       "            Volatility Daily Log Return in Percent 5D  market/price_usd_close  \n",
       "Date                                                                           \n",
       "2020-12-24                                       2.86                23764.75  \n",
       "2020-12-23                                       3.13                23279.55  \n",
       "2020-12-22                                       2.89                23758.93  \n",
       "2020-12-21                                       3.74                22875.46  \n",
       "2020-12-20                                       4.24                23549.78  \n",
       "...                                               ...                     ...  \n",
       "2011-07-20                                       2.80                   13.69  \n",
       "2011-07-19                                       2.83                   13.84  \n",
       "2011-07-18                                       2.23                   13.42  \n",
       "2011-07-17                                       1.70                   13.17  \n",
       "2011-07-16                                       0.70                   13.72  \n",
       "\n",
       "[3450 rows x 5 columns]"
      ]
     },
     "execution_count": 107,
     "metadata": {},
     "output_type": "execute_result"
    }
   ],
   "source": [
    "df_dataset1[['Daily Return in USD', 'addresses/active_count', 'Log Price in USD',\n",
    "       'Volatility Daily Log Return in Percent 5D', 'market/price_usd_close']]"
   ]
  },
  {
   "cell_type": "code",
   "execution_count": 108,
   "metadata": {
    "ExecuteTime": {
     "end_time": "2020-12-26T15:41:58.553417Z",
     "start_time": "2020-12-26T15:41:58.539455Z"
    }
   },
   "outputs": [],
   "source": [
    "df_dataset1['market/price_usd_close_cummax']=df_dataset1['market/price_usd_close'].cummax()\n",
    "df_dataset1['price_usd_close_percent_of_maxtilnow'] = df_dataset1['market/price_usd_close']/df_dataset1['market/price_usd_close_cummax']\n"
   ]
  },
  {
   "cell_type": "code",
   "execution_count": null,
   "metadata": {},
   "outputs": [],
   "source": []
  },
  {
   "cell_type": "code",
   "execution_count": 109,
   "metadata": {
    "ExecuteTime": {
     "end_time": "2020-12-26T15:41:58.569375Z",
     "start_time": "2020-12-26T15:41:58.555592Z"
    }
   },
   "outputs": [
    {
     "data": {
      "text/html": [
       "<div>\n",
       "<style scoped>\n",
       "    .dataframe tbody tr th:only-of-type {\n",
       "        vertical-align: middle;\n",
       "    }\n",
       "\n",
       "    .dataframe tbody tr th {\n",
       "        vertical-align: top;\n",
       "    }\n",
       "\n",
       "    .dataframe thead th {\n",
       "        text-align: right;\n",
       "    }\n",
       "</style>\n",
       "<table border=\"1\" class=\"dataframe\">\n",
       "  <thead>\n",
       "    <tr style=\"text-align: right;\">\n",
       "      <th></th>\n",
       "      <th>Log Price in USD</th>\n",
       "      <th>Volatility Daily Log Return in Percent 5D</th>\n",
       "      <th>market/price_usd_close</th>\n",
       "      <th>percentage_daily_return_bef_shift</th>\n",
       "    </tr>\n",
       "    <tr>\n",
       "      <th>Date</th>\n",
       "      <th></th>\n",
       "      <th></th>\n",
       "      <th></th>\n",
       "      <th></th>\n",
       "    </tr>\n",
       "  </thead>\n",
       "  <tbody>\n",
       "    <tr>\n",
       "      <th>2011-07-20</th>\n",
       "      <td>2.62</td>\n",
       "      <td>2.80</td>\n",
       "      <td>13.69</td>\n",
       "      <td>-0.01</td>\n",
       "    </tr>\n",
       "    <tr>\n",
       "      <th>2011-07-19</th>\n",
       "      <td>2.63</td>\n",
       "      <td>2.83</td>\n",
       "      <td>13.84</td>\n",
       "      <td>0.03</td>\n",
       "    </tr>\n",
       "    <tr>\n",
       "      <th>2011-07-18</th>\n",
       "      <td>2.60</td>\n",
       "      <td>2.23</td>\n",
       "      <td>13.42</td>\n",
       "      <td>0.02</td>\n",
       "    </tr>\n",
       "    <tr>\n",
       "      <th>2011-07-17</th>\n",
       "      <td>2.58</td>\n",
       "      <td>1.70</td>\n",
       "      <td>13.17</td>\n",
       "      <td>-0.04</td>\n",
       "    </tr>\n",
       "    <tr>\n",
       "      <th>2011-07-16</th>\n",
       "      <td>2.62</td>\n",
       "      <td>0.70</td>\n",
       "      <td>13.72</td>\n",
       "      <td>-0.01</td>\n",
       "    </tr>\n",
       "  </tbody>\n",
       "</table>\n",
       "</div>"
      ],
      "text/plain": [
       "            Log Price in USD  Volatility Daily Log Return in Percent 5D  \\\n",
       "Date                                                                      \n",
       "2011-07-20              2.62                                       2.80   \n",
       "2011-07-19              2.63                                       2.83   \n",
       "2011-07-18              2.60                                       2.23   \n",
       "2011-07-17              2.58                                       1.70   \n",
       "2011-07-16              2.62                                       0.70   \n",
       "\n",
       "            market/price_usd_close  percentage_daily_return_bef_shift  \n",
       "Date                                                                   \n",
       "2011-07-20                   13.69                              -0.01  \n",
       "2011-07-19                   13.84                               0.03  \n",
       "2011-07-18                   13.42                               0.02  \n",
       "2011-07-17                   13.17                              -0.04  \n",
       "2011-07-16                   13.72                              -0.01  "
      ]
     },
     "execution_count": 109,
     "metadata": {},
     "output_type": "execute_result"
    }
   ],
   "source": [
    "# Check Shift\n",
    "df_dataset1[[ 'Log Price in USD',\n",
    "       'Volatility Daily Log Return in Percent 5D', 'market/price_usd_close',\"percentage_daily_return_bef_shift\"]].tail()"
   ]
  },
  {
   "cell_type": "code",
   "execution_count": 110,
   "metadata": {
    "ExecuteTime": {
     "end_time": "2020-12-26T15:41:58.585370Z",
     "start_time": "2020-12-26T15:41:58.570372Z"
    }
   },
   "outputs": [
    {
     "data": {
      "text/plain": [
       "Daily Return in USD                          1\n",
       "Log Price in USD                             0\n",
       "Volatility Daily Log Return in Percent 5D    0\n",
       "market/price_usd_close                       0\n",
       "market/price_drawdown_relative               0\n",
       "                                            ..\n",
       "addresses/min_10k_count                      0\n",
       "Daily Return in USD_ohneshift                0\n",
       "percentage_daily_return_bef_shift            0\n",
       "market/price_usd_close_cummax                0\n",
       "price_usd_close_percent_of_maxtilnow         0\n",
       "Length: 95, dtype: int64"
      ]
     },
     "execution_count": 110,
     "metadata": {},
     "output_type": "execute_result"
    }
   ],
   "source": [
    "# Check Empty Cells\n",
    "df_dataset1.isnull().sum()"
   ]
  },
  {
   "cell_type": "code",
   "execution_count": 111,
   "metadata": {
    "ExecuteTime": {
     "end_time": "2020-12-26T15:41:58.632208Z",
     "start_time": "2020-12-26T15:41:58.587329Z"
    }
   },
   "outputs": [
    {
     "data": {
      "text/html": [
       "<div>\n",
       "<style scoped>\n",
       "    .dataframe tbody tr th:only-of-type {\n",
       "        vertical-align: middle;\n",
       "    }\n",
       "\n",
       "    .dataframe tbody tr th {\n",
       "        vertical-align: top;\n",
       "    }\n",
       "\n",
       "    .dataframe thead th {\n",
       "        text-align: right;\n",
       "    }\n",
       "</style>\n",
       "<table border=\"1\" class=\"dataframe\">\n",
       "  <thead>\n",
       "    <tr style=\"text-align: right;\">\n",
       "      <th></th>\n",
       "      <th>Daily Return in USD</th>\n",
       "      <th>Log Price in USD</th>\n",
       "      <th>Volatility Daily Log Return in Percent 5D</th>\n",
       "      <th>market/price_usd_close</th>\n",
       "      <th>market/price_drawdown_relative</th>\n",
       "      <th>market/price_realized_usd</th>\n",
       "      <th>market/mvrv</th>\n",
       "      <th>mining/difficulty_latest</th>\n",
       "      <th>mining/hash_rate_mean</th>\n",
       "      <th>blockchain/block_count</th>\n",
       "      <th>...</th>\n",
       "      <th>addresses/min_point_1_count</th>\n",
       "      <th>addresses/min_1_count</th>\n",
       "      <th>addresses/min_10_count</th>\n",
       "      <th>addresses/min_100_count</th>\n",
       "      <th>addresses/min_1k_count</th>\n",
       "      <th>addresses/min_10k_count</th>\n",
       "      <th>Daily Return in USD_ohneshift</th>\n",
       "      <th>percentage_daily_return_bef_shift</th>\n",
       "      <th>market/price_usd_close_cummax</th>\n",
       "      <th>price_usd_close_percent_of_maxtilnow</th>\n",
       "    </tr>\n",
       "    <tr>\n",
       "      <th>Date</th>\n",
       "      <th></th>\n",
       "      <th></th>\n",
       "      <th></th>\n",
       "      <th></th>\n",
       "      <th></th>\n",
       "      <th></th>\n",
       "      <th></th>\n",
       "      <th></th>\n",
       "      <th></th>\n",
       "      <th></th>\n",
       "      <th></th>\n",
       "      <th></th>\n",
       "      <th></th>\n",
       "      <th></th>\n",
       "      <th></th>\n",
       "      <th></th>\n",
       "      <th></th>\n",
       "      <th></th>\n",
       "      <th></th>\n",
       "      <th></th>\n",
       "      <th></th>\n",
       "    </tr>\n",
       "  </thead>\n",
       "  <tbody>\n",
       "    <tr>\n",
       "      <th>2020-12-24</th>\n",
       "      <td>True</td>\n",
       "      <td>False</td>\n",
       "      <td>False</td>\n",
       "      <td>False</td>\n",
       "      <td>False</td>\n",
       "      <td>False</td>\n",
       "      <td>False</td>\n",
       "      <td>False</td>\n",
       "      <td>False</td>\n",
       "      <td>False</td>\n",
       "      <td>...</td>\n",
       "      <td>False</td>\n",
       "      <td>False</td>\n",
       "      <td>False</td>\n",
       "      <td>False</td>\n",
       "      <td>False</td>\n",
       "      <td>False</td>\n",
       "      <td>False</td>\n",
       "      <td>False</td>\n",
       "      <td>False</td>\n",
       "      <td>False</td>\n",
       "    </tr>\n",
       "    <tr>\n",
       "      <th>2020-12-23</th>\n",
       "      <td>False</td>\n",
       "      <td>False</td>\n",
       "      <td>False</td>\n",
       "      <td>False</td>\n",
       "      <td>False</td>\n",
       "      <td>False</td>\n",
       "      <td>False</td>\n",
       "      <td>False</td>\n",
       "      <td>False</td>\n",
       "      <td>False</td>\n",
       "      <td>...</td>\n",
       "      <td>False</td>\n",
       "      <td>False</td>\n",
       "      <td>False</td>\n",
       "      <td>False</td>\n",
       "      <td>False</td>\n",
       "      <td>False</td>\n",
       "      <td>False</td>\n",
       "      <td>False</td>\n",
       "      <td>False</td>\n",
       "      <td>False</td>\n",
       "    </tr>\n",
       "    <tr>\n",
       "      <th>2020-12-22</th>\n",
       "      <td>False</td>\n",
       "      <td>False</td>\n",
       "      <td>False</td>\n",
       "      <td>False</td>\n",
       "      <td>False</td>\n",
       "      <td>False</td>\n",
       "      <td>False</td>\n",
       "      <td>False</td>\n",
       "      <td>False</td>\n",
       "      <td>False</td>\n",
       "      <td>...</td>\n",
       "      <td>False</td>\n",
       "      <td>False</td>\n",
       "      <td>False</td>\n",
       "      <td>False</td>\n",
       "      <td>False</td>\n",
       "      <td>False</td>\n",
       "      <td>False</td>\n",
       "      <td>False</td>\n",
       "      <td>False</td>\n",
       "      <td>False</td>\n",
       "    </tr>\n",
       "    <tr>\n",
       "      <th>2020-12-21</th>\n",
       "      <td>False</td>\n",
       "      <td>False</td>\n",
       "      <td>False</td>\n",
       "      <td>False</td>\n",
       "      <td>False</td>\n",
       "      <td>False</td>\n",
       "      <td>False</td>\n",
       "      <td>False</td>\n",
       "      <td>False</td>\n",
       "      <td>False</td>\n",
       "      <td>...</td>\n",
       "      <td>False</td>\n",
       "      <td>False</td>\n",
       "      <td>False</td>\n",
       "      <td>False</td>\n",
       "      <td>False</td>\n",
       "      <td>False</td>\n",
       "      <td>False</td>\n",
       "      <td>False</td>\n",
       "      <td>False</td>\n",
       "      <td>False</td>\n",
       "    </tr>\n",
       "    <tr>\n",
       "      <th>2020-12-20</th>\n",
       "      <td>False</td>\n",
       "      <td>False</td>\n",
       "      <td>False</td>\n",
       "      <td>False</td>\n",
       "      <td>False</td>\n",
       "      <td>False</td>\n",
       "      <td>False</td>\n",
       "      <td>False</td>\n",
       "      <td>False</td>\n",
       "      <td>False</td>\n",
       "      <td>...</td>\n",
       "      <td>False</td>\n",
       "      <td>False</td>\n",
       "      <td>False</td>\n",
       "      <td>False</td>\n",
       "      <td>False</td>\n",
       "      <td>False</td>\n",
       "      <td>False</td>\n",
       "      <td>False</td>\n",
       "      <td>False</td>\n",
       "      <td>False</td>\n",
       "    </tr>\n",
       "    <tr>\n",
       "      <th>...</th>\n",
       "      <td>...</td>\n",
       "      <td>...</td>\n",
       "      <td>...</td>\n",
       "      <td>...</td>\n",
       "      <td>...</td>\n",
       "      <td>...</td>\n",
       "      <td>...</td>\n",
       "      <td>...</td>\n",
       "      <td>...</td>\n",
       "      <td>...</td>\n",
       "      <td>...</td>\n",
       "      <td>...</td>\n",
       "      <td>...</td>\n",
       "      <td>...</td>\n",
       "      <td>...</td>\n",
       "      <td>...</td>\n",
       "      <td>...</td>\n",
       "      <td>...</td>\n",
       "      <td>...</td>\n",
       "      <td>...</td>\n",
       "      <td>...</td>\n",
       "    </tr>\n",
       "    <tr>\n",
       "      <th>2011-07-20</th>\n",
       "      <td>False</td>\n",
       "      <td>False</td>\n",
       "      <td>False</td>\n",
       "      <td>False</td>\n",
       "      <td>False</td>\n",
       "      <td>False</td>\n",
       "      <td>False</td>\n",
       "      <td>False</td>\n",
       "      <td>False</td>\n",
       "      <td>False</td>\n",
       "      <td>...</td>\n",
       "      <td>False</td>\n",
       "      <td>False</td>\n",
       "      <td>False</td>\n",
       "      <td>False</td>\n",
       "      <td>False</td>\n",
       "      <td>False</td>\n",
       "      <td>False</td>\n",
       "      <td>False</td>\n",
       "      <td>False</td>\n",
       "      <td>False</td>\n",
       "    </tr>\n",
       "    <tr>\n",
       "      <th>2011-07-19</th>\n",
       "      <td>False</td>\n",
       "      <td>False</td>\n",
       "      <td>False</td>\n",
       "      <td>False</td>\n",
       "      <td>False</td>\n",
       "      <td>False</td>\n",
       "      <td>False</td>\n",
       "      <td>False</td>\n",
       "      <td>False</td>\n",
       "      <td>False</td>\n",
       "      <td>...</td>\n",
       "      <td>False</td>\n",
       "      <td>False</td>\n",
       "      <td>False</td>\n",
       "      <td>False</td>\n",
       "      <td>False</td>\n",
       "      <td>False</td>\n",
       "      <td>False</td>\n",
       "      <td>False</td>\n",
       "      <td>False</td>\n",
       "      <td>False</td>\n",
       "    </tr>\n",
       "    <tr>\n",
       "      <th>2011-07-18</th>\n",
       "      <td>False</td>\n",
       "      <td>False</td>\n",
       "      <td>False</td>\n",
       "      <td>False</td>\n",
       "      <td>False</td>\n",
       "      <td>False</td>\n",
       "      <td>False</td>\n",
       "      <td>False</td>\n",
       "      <td>False</td>\n",
       "      <td>False</td>\n",
       "      <td>...</td>\n",
       "      <td>False</td>\n",
       "      <td>False</td>\n",
       "      <td>False</td>\n",
       "      <td>False</td>\n",
       "      <td>False</td>\n",
       "      <td>False</td>\n",
       "      <td>False</td>\n",
       "      <td>False</td>\n",
       "      <td>False</td>\n",
       "      <td>False</td>\n",
       "    </tr>\n",
       "    <tr>\n",
       "      <th>2011-07-17</th>\n",
       "      <td>False</td>\n",
       "      <td>False</td>\n",
       "      <td>False</td>\n",
       "      <td>False</td>\n",
       "      <td>False</td>\n",
       "      <td>False</td>\n",
       "      <td>False</td>\n",
       "      <td>False</td>\n",
       "      <td>False</td>\n",
       "      <td>False</td>\n",
       "      <td>...</td>\n",
       "      <td>False</td>\n",
       "      <td>False</td>\n",
       "      <td>False</td>\n",
       "      <td>False</td>\n",
       "      <td>False</td>\n",
       "      <td>False</td>\n",
       "      <td>False</td>\n",
       "      <td>False</td>\n",
       "      <td>False</td>\n",
       "      <td>False</td>\n",
       "    </tr>\n",
       "    <tr>\n",
       "      <th>2011-07-16</th>\n",
       "      <td>False</td>\n",
       "      <td>False</td>\n",
       "      <td>False</td>\n",
       "      <td>False</td>\n",
       "      <td>False</td>\n",
       "      <td>False</td>\n",
       "      <td>False</td>\n",
       "      <td>False</td>\n",
       "      <td>False</td>\n",
       "      <td>False</td>\n",
       "      <td>...</td>\n",
       "      <td>False</td>\n",
       "      <td>False</td>\n",
       "      <td>False</td>\n",
       "      <td>False</td>\n",
       "      <td>False</td>\n",
       "      <td>False</td>\n",
       "      <td>False</td>\n",
       "      <td>False</td>\n",
       "      <td>False</td>\n",
       "      <td>False</td>\n",
       "    </tr>\n",
       "  </tbody>\n",
       "</table>\n",
       "<p>3450 rows × 95 columns</p>\n",
       "</div>"
      ],
      "text/plain": [
       "            Daily Return in USD  Log Price in USD  \\\n",
       "Date                                                \n",
       "2020-12-24                 True             False   \n",
       "2020-12-23                False             False   \n",
       "2020-12-22                False             False   \n",
       "2020-12-21                False             False   \n",
       "2020-12-20                False             False   \n",
       "...                         ...               ...   \n",
       "2011-07-20                False             False   \n",
       "2011-07-19                False             False   \n",
       "2011-07-18                False             False   \n",
       "2011-07-17                False             False   \n",
       "2011-07-16                False             False   \n",
       "\n",
       "            Volatility Daily Log Return in Percent 5D  market/price_usd_close  \\\n",
       "Date                                                                            \n",
       "2020-12-24                                      False                   False   \n",
       "2020-12-23                                      False                   False   \n",
       "2020-12-22                                      False                   False   \n",
       "2020-12-21                                      False                   False   \n",
       "2020-12-20                                      False                   False   \n",
       "...                                               ...                     ...   \n",
       "2011-07-20                                      False                   False   \n",
       "2011-07-19                                      False                   False   \n",
       "2011-07-18                                      False                   False   \n",
       "2011-07-17                                      False                   False   \n",
       "2011-07-16                                      False                   False   \n",
       "\n",
       "            market/price_drawdown_relative  market/price_realized_usd  \\\n",
       "Date                                                                    \n",
       "2020-12-24                           False                      False   \n",
       "2020-12-23                           False                      False   \n",
       "2020-12-22                           False                      False   \n",
       "2020-12-21                           False                      False   \n",
       "2020-12-20                           False                      False   \n",
       "...                                    ...                        ...   \n",
       "2011-07-20                           False                      False   \n",
       "2011-07-19                           False                      False   \n",
       "2011-07-18                           False                      False   \n",
       "2011-07-17                           False                      False   \n",
       "2011-07-16                           False                      False   \n",
       "\n",
       "            market/mvrv  mining/difficulty_latest  mining/hash_rate_mean  \\\n",
       "Date                                                                       \n",
       "2020-12-24        False                     False                  False   \n",
       "2020-12-23        False                     False                  False   \n",
       "2020-12-22        False                     False                  False   \n",
       "2020-12-21        False                     False                  False   \n",
       "2020-12-20        False                     False                  False   \n",
       "...                 ...                       ...                    ...   \n",
       "2011-07-20        False                     False                  False   \n",
       "2011-07-19        False                     False                  False   \n",
       "2011-07-18        False                     False                  False   \n",
       "2011-07-17        False                     False                  False   \n",
       "2011-07-16        False                     False                  False   \n",
       "\n",
       "            blockchain/block_count  ...  addresses/min_point_1_count  \\\n",
       "Date                                ...                                \n",
       "2020-12-24                   False  ...                        False   \n",
       "2020-12-23                   False  ...                        False   \n",
       "2020-12-22                   False  ...                        False   \n",
       "2020-12-21                   False  ...                        False   \n",
       "2020-12-20                   False  ...                        False   \n",
       "...                            ...  ...                          ...   \n",
       "2011-07-20                   False  ...                        False   \n",
       "2011-07-19                   False  ...                        False   \n",
       "2011-07-18                   False  ...                        False   \n",
       "2011-07-17                   False  ...                        False   \n",
       "2011-07-16                   False  ...                        False   \n",
       "\n",
       "            addresses/min_1_count  addresses/min_10_count  \\\n",
       "Date                                                        \n",
       "2020-12-24                  False                   False   \n",
       "2020-12-23                  False                   False   \n",
       "2020-12-22                  False                   False   \n",
       "2020-12-21                  False                   False   \n",
       "2020-12-20                  False                   False   \n",
       "...                           ...                     ...   \n",
       "2011-07-20                  False                   False   \n",
       "2011-07-19                  False                   False   \n",
       "2011-07-18                  False                   False   \n",
       "2011-07-17                  False                   False   \n",
       "2011-07-16                  False                   False   \n",
       "\n",
       "            addresses/min_100_count  addresses/min_1k_count  \\\n",
       "Date                                                          \n",
       "2020-12-24                    False                   False   \n",
       "2020-12-23                    False                   False   \n",
       "2020-12-22                    False                   False   \n",
       "2020-12-21                    False                   False   \n",
       "2020-12-20                    False                   False   \n",
       "...                             ...                     ...   \n",
       "2011-07-20                    False                   False   \n",
       "2011-07-19                    False                   False   \n",
       "2011-07-18                    False                   False   \n",
       "2011-07-17                    False                   False   \n",
       "2011-07-16                    False                   False   \n",
       "\n",
       "            addresses/min_10k_count  Daily Return in USD_ohneshift  \\\n",
       "Date                                                                 \n",
       "2020-12-24                    False                          False   \n",
       "2020-12-23                    False                          False   \n",
       "2020-12-22                    False                          False   \n",
       "2020-12-21                    False                          False   \n",
       "2020-12-20                    False                          False   \n",
       "...                             ...                            ...   \n",
       "2011-07-20                    False                          False   \n",
       "2011-07-19                    False                          False   \n",
       "2011-07-18                    False                          False   \n",
       "2011-07-17                    False                          False   \n",
       "2011-07-16                    False                          False   \n",
       "\n",
       "            percentage_daily_return_bef_shift  market/price_usd_close_cummax  \\\n",
       "Date                                                                           \n",
       "2020-12-24                              False                          False   \n",
       "2020-12-23                              False                          False   \n",
       "2020-12-22                              False                          False   \n",
       "2020-12-21                              False                          False   \n",
       "2020-12-20                              False                          False   \n",
       "...                                       ...                            ...   \n",
       "2011-07-20                              False                          False   \n",
       "2011-07-19                              False                          False   \n",
       "2011-07-18                              False                          False   \n",
       "2011-07-17                              False                          False   \n",
       "2011-07-16                              False                          False   \n",
       "\n",
       "            price_usd_close_percent_of_maxtilnow  \n",
       "Date                                              \n",
       "2020-12-24                                 False  \n",
       "2020-12-23                                 False  \n",
       "2020-12-22                                 False  \n",
       "2020-12-21                                 False  \n",
       "2020-12-20                                 False  \n",
       "...                                          ...  \n",
       "2011-07-20                                 False  \n",
       "2011-07-19                                 False  \n",
       "2011-07-18                                 False  \n",
       "2011-07-17                                 False  \n",
       "2011-07-16                                 False  \n",
       "\n",
       "[3450 rows x 95 columns]"
      ]
     },
     "execution_count": 111,
     "metadata": {},
     "output_type": "execute_result"
    }
   ],
   "source": [
    "# daily return: von gestern auf heute die preisveränderung deswegen shift später\n",
    "df_dataset1.isnull()"
   ]
  },
  {
   "cell_type": "code",
   "execution_count": 112,
   "metadata": {
    "ExecuteTime": {
     "end_time": "2020-12-26T15:41:58.647399Z",
     "start_time": "2020-12-26T15:41:58.634202Z"
    }
   },
   "outputs": [],
   "source": [
    "# Delete Empty Row\n",
    "df_dataset1 = df_dataset1.dropna()"
   ]
  },
  {
   "cell_type": "code",
   "execution_count": 113,
   "metadata": {
    "ExecuteTime": {
     "end_time": "2020-12-26T15:41:58.663159Z",
     "start_time": "2020-12-26T15:41:58.649193Z"
    }
   },
   "outputs": [
    {
     "data": {
      "text/plain": [
       "Daily Return in USD                          0\n",
       "Log Price in USD                             0\n",
       "Volatility Daily Log Return in Percent 5D    0\n",
       "market/price_usd_close                       0\n",
       "market/price_drawdown_relative               0\n",
       "                                            ..\n",
       "addresses/min_10k_count                      0\n",
       "Daily Return in USD_ohneshift                0\n",
       "percentage_daily_return_bef_shift            0\n",
       "market/price_usd_close_cummax                0\n",
       "price_usd_close_percent_of_maxtilnow         0\n",
       "Length: 95, dtype: int64"
      ]
     },
     "execution_count": 113,
     "metadata": {},
     "output_type": "execute_result"
    }
   ],
   "source": [
    "# Re-Check Empty Cells\n",
    "df_dataset1.isnull().sum()"
   ]
  },
  {
   "cell_type": "markdown",
   "metadata": {},
   "source": [
    "# Classification Setup"
   ]
  },
  {
   "cell_type": "markdown",
   "metadata": {},
   "source": [
    "## Create Data Set Copies for Trading Strategy"
   ]
  },
  {
   "cell_type": "code",
   "execution_count": 114,
   "metadata": {
    "ExecuteTime": {
     "end_time": "2020-12-26T15:41:58.679114Z",
     "start_time": "2020-12-26T15:41:58.665121Z"
    }
   },
   "outputs": [],
   "source": [
    "# Data Set Copy for Trading Extension\n",
    "df_dataset1_copy = df_dataset1.copy()\n"
   ]
  },
  {
   "cell_type": "markdown",
   "metadata": {},
   "source": [
    "## Categorization - Data Set I."
   ]
  },
  {
   "cell_type": "code",
   "execution_count": 115,
   "metadata": {
    "ExecuteTime": {
     "end_time": "2020-12-26T15:41:58.695122Z",
     "start_time": "2020-12-26T15:41:58.681089Z"
    }
   },
   "outputs": [],
   "source": [
    "# Categorization\n",
    "# Class 1 for all Returns >= 0 USD\n",
    "df_dataset1.loc[df_dataset1['Daily Return in USD'] >= 0, 'Class'] = 1\n",
    "# Class 0 for all Returns < 0 USD\n",
    "df_dataset1.loc[df_dataset1['Daily Return in USD'] < 0, 'Class'] = 0"
   ]
  },
  {
   "cell_type": "code",
   "execution_count": 116,
   "metadata": {
    "ExecuteTime": {
     "end_time": "2020-12-26T15:41:58.726987Z",
     "start_time": "2020-12-26T15:41:58.696036Z"
    }
   },
   "outputs": [
    {
     "data": {
      "text/html": [
       "<div>\n",
       "<style scoped>\n",
       "    .dataframe tbody tr th:only-of-type {\n",
       "        vertical-align: middle;\n",
       "    }\n",
       "\n",
       "    .dataframe tbody tr th {\n",
       "        vertical-align: top;\n",
       "    }\n",
       "\n",
       "    .dataframe thead th {\n",
       "        text-align: right;\n",
       "    }\n",
       "</style>\n",
       "<table border=\"1\" class=\"dataframe\">\n",
       "  <thead>\n",
       "    <tr style=\"text-align: right;\">\n",
       "      <th></th>\n",
       "      <th>Daily Return in USD</th>\n",
       "      <th>Log Price in USD</th>\n",
       "      <th>Volatility Daily Log Return in Percent 5D</th>\n",
       "      <th>market/price_usd_close</th>\n",
       "      <th>market/price_drawdown_relative</th>\n",
       "      <th>market/price_realized_usd</th>\n",
       "      <th>market/mvrv</th>\n",
       "      <th>mining/difficulty_latest</th>\n",
       "      <th>mining/hash_rate_mean</th>\n",
       "      <th>blockchain/block_count</th>\n",
       "      <th>...</th>\n",
       "      <th>addresses/min_1_count</th>\n",
       "      <th>addresses/min_10_count</th>\n",
       "      <th>addresses/min_100_count</th>\n",
       "      <th>addresses/min_1k_count</th>\n",
       "      <th>addresses/min_10k_count</th>\n",
       "      <th>Daily Return in USD_ohneshift</th>\n",
       "      <th>percentage_daily_return_bef_shift</th>\n",
       "      <th>market/price_usd_close_cummax</th>\n",
       "      <th>price_usd_close_percent_of_maxtilnow</th>\n",
       "      <th>Class</th>\n",
       "    </tr>\n",
       "    <tr>\n",
       "      <th>Date</th>\n",
       "      <th></th>\n",
       "      <th></th>\n",
       "      <th></th>\n",
       "      <th></th>\n",
       "      <th></th>\n",
       "      <th></th>\n",
       "      <th></th>\n",
       "      <th></th>\n",
       "      <th></th>\n",
       "      <th></th>\n",
       "      <th></th>\n",
       "      <th></th>\n",
       "      <th></th>\n",
       "      <th></th>\n",
       "      <th></th>\n",
       "      <th></th>\n",
       "      <th></th>\n",
       "      <th></th>\n",
       "      <th></th>\n",
       "      <th></th>\n",
       "      <th></th>\n",
       "    </tr>\n",
       "  </thead>\n",
       "  <tbody>\n",
       "    <tr>\n",
       "      <th>2020-12-23</th>\n",
       "      <td>485.20</td>\n",
       "      <td>10.06</td>\n",
       "      <td>3.13</td>\n",
       "      <td>23279.55</td>\n",
       "      <td>-0.04</td>\n",
       "      <td>8375.79</td>\n",
       "      <td>2.81</td>\n",
       "      <td>80187763369133704478720.00</td>\n",
       "      <td>146111617294112997376.00</td>\n",
       "      <td>154.00</td>\n",
       "      <td>...</td>\n",
       "      <td>828576.00</td>\n",
       "      <td>153724.00</td>\n",
       "      <td>16119.00</td>\n",
       "      <td>2247.00</td>\n",
       "      <td>103.00</td>\n",
       "      <td>-479.38</td>\n",
       "      <td>-0.02</td>\n",
       "      <td>23764.75</td>\n",
       "      <td>0.98</td>\n",
       "      <td>1.00</td>\n",
       "    </tr>\n",
       "    <tr>\n",
       "      <th>2020-12-22</th>\n",
       "      <td>-479.38</td>\n",
       "      <td>10.08</td>\n",
       "      <td>2.89</td>\n",
       "      <td>23758.93</td>\n",
       "      <td>-0.02</td>\n",
       "      <td>8286.35</td>\n",
       "      <td>2.79</td>\n",
       "      <td>80187763369133704478720.00</td>\n",
       "      <td>132165952003620995072.00</td>\n",
       "      <td>143.00</td>\n",
       "      <td>...</td>\n",
       "      <td>829715.00</td>\n",
       "      <td>153788.00</td>\n",
       "      <td>16136.00</td>\n",
       "      <td>2252.00</td>\n",
       "      <td>105.00</td>\n",
       "      <td>883.48</td>\n",
       "      <td>0.04</td>\n",
       "      <td>23764.75</td>\n",
       "      <td>1.00</td>\n",
       "      <td>0.00</td>\n",
       "    </tr>\n",
       "    <tr>\n",
       "      <th>2020-12-21</th>\n",
       "      <td>883.48</td>\n",
       "      <td>10.04</td>\n",
       "      <td>3.74</td>\n",
       "      <td>22875.46</td>\n",
       "      <td>-0.05</td>\n",
       "      <td>8205.79</td>\n",
       "      <td>2.83</td>\n",
       "      <td>80187763369133704478720.00</td>\n",
       "      <td>125467801265571004416.00</td>\n",
       "      <td>136.00</td>\n",
       "      <td>...</td>\n",
       "      <td>828815.00</td>\n",
       "      <td>153675.00</td>\n",
       "      <td>16081.00</td>\n",
       "      <td>2266.00</td>\n",
       "      <td>107.00</td>\n",
       "      <td>-674.33</td>\n",
       "      <td>-0.03</td>\n",
       "      <td>23764.75</td>\n",
       "      <td>0.96</td>\n",
       "      <td>1.00</td>\n",
       "    </tr>\n",
       "    <tr>\n",
       "      <th>2020-12-20</th>\n",
       "      <td>-674.33</td>\n",
       "      <td>10.07</td>\n",
       "      <td>4.24</td>\n",
       "      <td>23549.78</td>\n",
       "      <td>-0.03</td>\n",
       "      <td>8159.47</td>\n",
       "      <td>2.89</td>\n",
       "      <td>80187763369133704478720.00</td>\n",
       "      <td>141220096205307002880.00</td>\n",
       "      <td>151.00</td>\n",
       "      <td>...</td>\n",
       "      <td>827865.00</td>\n",
       "      <td>153996.00</td>\n",
       "      <td>16101.00</td>\n",
       "      <td>2275.00</td>\n",
       "      <td>107.00</td>\n",
       "      <td>-301.46</td>\n",
       "      <td>-0.01</td>\n",
       "      <td>23764.75</td>\n",
       "      <td>0.99</td>\n",
       "      <td>0.00</td>\n",
       "    </tr>\n",
       "    <tr>\n",
       "      <th>2020-12-19</th>\n",
       "      <td>-301.46</td>\n",
       "      <td>10.08</td>\n",
       "      <td>3.64</td>\n",
       "      <td>23851.24</td>\n",
       "      <td>-0.01</td>\n",
       "      <td>8110.96</td>\n",
       "      <td>2.88</td>\n",
       "      <td>80187763369133704478720.00</td>\n",
       "      <td>145727178343050002432.00</td>\n",
       "      <td>158.00</td>\n",
       "      <td>...</td>\n",
       "      <td>828127.00</td>\n",
       "      <td>154028.00</td>\n",
       "      <td>16123.00</td>\n",
       "      <td>2302.00</td>\n",
       "      <td>107.00</td>\n",
       "      <td>772.48</td>\n",
       "      <td>0.03</td>\n",
       "      <td>23851.24</td>\n",
       "      <td>1.00</td>\n",
       "      <td>0.00</td>\n",
       "    </tr>\n",
       "  </tbody>\n",
       "</table>\n",
       "<p>5 rows × 96 columns</p>\n",
       "</div>"
      ],
      "text/plain": [
       "            Daily Return in USD  Log Price in USD  \\\n",
       "Date                                                \n",
       "2020-12-23               485.20             10.06   \n",
       "2020-12-22              -479.38             10.08   \n",
       "2020-12-21               883.48             10.04   \n",
       "2020-12-20              -674.33             10.07   \n",
       "2020-12-19              -301.46             10.08   \n",
       "\n",
       "            Volatility Daily Log Return in Percent 5D  market/price_usd_close  \\\n",
       "Date                                                                            \n",
       "2020-12-23                                       3.13                23279.55   \n",
       "2020-12-22                                       2.89                23758.93   \n",
       "2020-12-21                                       3.74                22875.46   \n",
       "2020-12-20                                       4.24                23549.78   \n",
       "2020-12-19                                       3.64                23851.24   \n",
       "\n",
       "            market/price_drawdown_relative  market/price_realized_usd  \\\n",
       "Date                                                                    \n",
       "2020-12-23                           -0.04                    8375.79   \n",
       "2020-12-22                           -0.02                    8286.35   \n",
       "2020-12-21                           -0.05                    8205.79   \n",
       "2020-12-20                           -0.03                    8159.47   \n",
       "2020-12-19                           -0.01                    8110.96   \n",
       "\n",
       "            market/mvrv   mining/difficulty_latest    mining/hash_rate_mean  \\\n",
       "Date                                                                          \n",
       "2020-12-23         2.81 80187763369133704478720.00 146111617294112997376.00   \n",
       "2020-12-22         2.79 80187763369133704478720.00 132165952003620995072.00   \n",
       "2020-12-21         2.83 80187763369133704478720.00 125467801265571004416.00   \n",
       "2020-12-20         2.89 80187763369133704478720.00 141220096205307002880.00   \n",
       "2020-12-19         2.88 80187763369133704478720.00 145727178343050002432.00   \n",
       "\n",
       "            blockchain/block_count  ...  addresses/min_1_count  \\\n",
       "Date                                ...                          \n",
       "2020-12-23                  154.00  ...              828576.00   \n",
       "2020-12-22                  143.00  ...              829715.00   \n",
       "2020-12-21                  136.00  ...              828815.00   \n",
       "2020-12-20                  151.00  ...              827865.00   \n",
       "2020-12-19                  158.00  ...              828127.00   \n",
       "\n",
       "            addresses/min_10_count  addresses/min_100_count  \\\n",
       "Date                                                          \n",
       "2020-12-23               153724.00                 16119.00   \n",
       "2020-12-22               153788.00                 16136.00   \n",
       "2020-12-21               153675.00                 16081.00   \n",
       "2020-12-20               153996.00                 16101.00   \n",
       "2020-12-19               154028.00                 16123.00   \n",
       "\n",
       "            addresses/min_1k_count  addresses/min_10k_count  \\\n",
       "Date                                                          \n",
       "2020-12-23                 2247.00                   103.00   \n",
       "2020-12-22                 2252.00                   105.00   \n",
       "2020-12-21                 2266.00                   107.00   \n",
       "2020-12-20                 2275.00                   107.00   \n",
       "2020-12-19                 2302.00                   107.00   \n",
       "\n",
       "            Daily Return in USD_ohneshift  percentage_daily_return_bef_shift  \\\n",
       "Date                                                                           \n",
       "2020-12-23                        -479.38                              -0.02   \n",
       "2020-12-22                         883.48                               0.04   \n",
       "2020-12-21                        -674.33                              -0.03   \n",
       "2020-12-20                        -301.46                              -0.01   \n",
       "2020-12-19                         772.48                               0.03   \n",
       "\n",
       "            market/price_usd_close_cummax  \\\n",
       "Date                                        \n",
       "2020-12-23                       23764.75   \n",
       "2020-12-22                       23764.75   \n",
       "2020-12-21                       23764.75   \n",
       "2020-12-20                       23764.75   \n",
       "2020-12-19                       23851.24   \n",
       "\n",
       "            price_usd_close_percent_of_maxtilnow  Class  \n",
       "Date                                                     \n",
       "2020-12-23                                  0.98   1.00  \n",
       "2020-12-22                                  1.00   0.00  \n",
       "2020-12-21                                  0.96   1.00  \n",
       "2020-12-20                                  0.99   0.00  \n",
       "2020-12-19                                  1.00   0.00  \n",
       "\n",
       "[5 rows x 96 columns]"
      ]
     },
     "execution_count": 116,
     "metadata": {},
     "output_type": "execute_result"
    }
   ],
   "source": [
    "# Data Set Head\n",
    "df_dataset1.head()"
   ]
  },
  {
   "cell_type": "code",
   "execution_count": 117,
   "metadata": {
    "ExecuteTime": {
     "end_time": "2020-12-26T15:41:58.742928Z",
     "start_time": "2020-12-26T15:41:58.728984Z"
    }
   },
   "outputs": [
    {
     "name": "stdout",
     "output_type": "stream",
     "text": [
      "0 Daily Return in USD\n",
      "1 Log Price in USD\n",
      "2 Volatility Daily Log Return in Percent 5D\n",
      "3 market/price_usd_close\n",
      "4 market/price_drawdown_relative\n",
      "5 market/price_realized_usd\n",
      "6 market/mvrv\n",
      "7 mining/difficulty_latest\n",
      "8 mining/hash_rate_mean\n",
      "9 blockchain/block_count\n",
      "10 blockchain/block_interval_mean\n",
      "11 blockchain/block_size_sum\n",
      "12 fees/volume_sum\n",
      "13 fees/volume_mean\n",
      "14 fees/fee_ratio_multiple\n",
      "15 blockchain/utxo_created_count\n",
      "16 blockchain/utxo_spent_count\n",
      "17 blockchain/utxo_created_value_sum\n",
      "18 blockchain/utxo_spent_value_sum\n",
      "19 blockchain/utxo_profit_relative\n",
      "20 blockchain/utxo_profit_count\n",
      "21 blockchain/utxo_loss_count\n",
      "22 supply/current\n",
      "23 supply/profit_relative\n",
      "24 supply/profit_sum\n",
      "25 supply/loss_sum\n",
      "26 supply/active_more_1y_percent\n",
      "27 supply/active_more_2y_percent\n",
      "28 supply/active_more_3y_percent\n",
      "29 supply/active_more_5y_percent\n",
      "30 supply/active_24h\n",
      "31 supply/active_1d_1w\n",
      "32 supply/active_1w_1m\n",
      "33 supply/active_1m_3m\n",
      "34 supply/active_3m_6m\n",
      "35 supply/active_6m_12m\n",
      "36 supply/active_1y_2y\n",
      "37 supply/active_2y_3y\n",
      "38 supply/active_3y_5y\n",
      "39 supply/active_5y_7y\n",
      "40 supply/active_7y_10y\n",
      "41 supply/active_more_10y\n",
      "42 supply/issued\n",
      "43 supply/inflation_rate\n",
      "44 transactions/count\n",
      "45 transactions/size_sum\n",
      "46 transactions/transfers_volume_sum\n",
      "47 transactions/transfers_volume_adjusted_sum\n",
      "48 indicators/sopr_adjusted\n",
      "49 indicators/nvt\n",
      "50 indicators/velocity\n",
      "51 indicators/cdd\n",
      "52 indicators/reserve_risk\n",
      "53 indicators/average_dormancy\n",
      "54 indicators/liveliness\n",
      "55 indicators/asol\n",
      "56 indicators/sol_1h\n",
      "57 indicators/sol_1h_24h\n",
      "58 indicators/sol_1d_1w\n",
      "59 indicators/sol_1w_1m\n",
      "60 indicators/sol_1m_3m\n",
      "61 indicators/sol_3m_6m\n",
      "62 indicators/sol_6m_12m\n",
      "63 indicators/sol_1y_2y\n",
      "64 indicators/sol_2y_3y\n",
      "65 indicators/sol_3y_5y\n",
      "66 indicators/sol_5y_7y\n",
      "67 indicators/sol_7y_10y\n",
      "68 indicators/net_unrealized_profit_loss\n",
      "69 indicators/unrealized_profit\n",
      "70 indicators/unrealized_loss\n",
      "71 indicators/net_realized_profit_loss\n",
      "72 indicators/realized_profit\n",
      "73 indicators/realized_loss\n",
      "74 indicators/nupl_more_155\n",
      "75 indicators/nupl_less_155\n",
      "76 indicators/puell_multiple\n",
      "77 indicators/stock_to_flow_deflection\n",
      "78 indicators/difficulty_ribbon_compression\n",
      "79 addresses/active_count\n",
      "80 addresses/sending_count\n",
      "81 addresses/receiving_count\n",
      "82 addresses/new_non_zero_count\n",
      "83 addresses/non_zero_count\n",
      "84 addresses/min_point_zero_1_count\n",
      "85 addresses/min_point_1_count\n",
      "86 addresses/min_1_count\n",
      "87 addresses/min_10_count\n",
      "88 addresses/min_100_count\n",
      "89 addresses/min_1k_count\n",
      "90 addresses/min_10k_count\n",
      "91 Daily Return in USD_ohneshift\n",
      "92 percentage_daily_return_bef_shift\n",
      "93 market/price_usd_close_cummax\n",
      "94 price_usd_close_percent_of_maxtilnow\n",
      "95 Class\n"
     ]
    }
   ],
   "source": [
    "for x in range(len(df_dataset1.columns)):\n",
    "    print(x, df_dataset1.columns[x])"
   ]
  },
  {
   "cell_type": "code",
   "execution_count": 118,
   "metadata": {
    "ExecuteTime": {
     "end_time": "2020-12-26T15:41:58.758998Z",
     "start_time": "2020-12-26T15:41:58.743909Z"
    }
   },
   "outputs": [],
   "source": [
    "# Delete Original Target Column\n",
    "df_dataset1 = df_dataset1.drop(['Daily Return in USD'], axis=1)"
   ]
  },
  {
   "cell_type": "code",
   "execution_count": 119,
   "metadata": {
    "ExecuteTime": {
     "end_time": "2020-12-26T15:41:58.774862Z",
     "start_time": "2020-12-26T15:41:58.760863Z"
    }
   },
   "outputs": [
    {
     "data": {
      "text/plain": [
       "1.00    1873\n",
       "0.00    1576\n",
       "Name: Class, dtype: int64"
      ]
     },
     "execution_count": 119,
     "metadata": {},
     "output_type": "execute_result"
    }
   ],
   "source": [
    "# Check Class Balance\n",
    "df_dataset1['Class'].value_counts()"
   ]
  },
  {
   "cell_type": "code",
   "execution_count": 120,
   "metadata": {
    "ExecuteTime": {
     "end_time": "2020-12-26T15:41:58.806774Z",
     "start_time": "2020-12-26T15:41:58.776821Z"
    }
   },
   "outputs": [
    {
     "data": {
      "text/html": [
       "<div>\n",
       "<style scoped>\n",
       "    .dataframe tbody tr th:only-of-type {\n",
       "        vertical-align: middle;\n",
       "    }\n",
       "\n",
       "    .dataframe tbody tr th {\n",
       "        vertical-align: top;\n",
       "    }\n",
       "\n",
       "    .dataframe thead th {\n",
       "        text-align: right;\n",
       "    }\n",
       "</style>\n",
       "<table border=\"1\" class=\"dataframe\">\n",
       "  <thead>\n",
       "    <tr style=\"text-align: right;\">\n",
       "      <th></th>\n",
       "      <th>Log Price in USD</th>\n",
       "      <th>Volatility Daily Log Return in Percent 5D</th>\n",
       "      <th>market/price_usd_close</th>\n",
       "      <th>market/price_drawdown_relative</th>\n",
       "      <th>market/price_realized_usd</th>\n",
       "      <th>market/mvrv</th>\n",
       "      <th>mining/difficulty_latest</th>\n",
       "      <th>mining/hash_rate_mean</th>\n",
       "      <th>blockchain/block_count</th>\n",
       "      <th>blockchain/block_interval_mean</th>\n",
       "      <th>...</th>\n",
       "      <th>addresses/min_1_count</th>\n",
       "      <th>addresses/min_10_count</th>\n",
       "      <th>addresses/min_100_count</th>\n",
       "      <th>addresses/min_1k_count</th>\n",
       "      <th>addresses/min_10k_count</th>\n",
       "      <th>Daily Return in USD_ohneshift</th>\n",
       "      <th>percentage_daily_return_bef_shift</th>\n",
       "      <th>market/price_usd_close_cummax</th>\n",
       "      <th>price_usd_close_percent_of_maxtilnow</th>\n",
       "      <th>Class</th>\n",
       "    </tr>\n",
       "    <tr>\n",
       "      <th>Date</th>\n",
       "      <th></th>\n",
       "      <th></th>\n",
       "      <th></th>\n",
       "      <th></th>\n",
       "      <th></th>\n",
       "      <th></th>\n",
       "      <th></th>\n",
       "      <th></th>\n",
       "      <th></th>\n",
       "      <th></th>\n",
       "      <th></th>\n",
       "      <th></th>\n",
       "      <th></th>\n",
       "      <th></th>\n",
       "      <th></th>\n",
       "      <th></th>\n",
       "      <th></th>\n",
       "      <th></th>\n",
       "      <th></th>\n",
       "      <th></th>\n",
       "      <th></th>\n",
       "    </tr>\n",
       "  </thead>\n",
       "  <tbody>\n",
       "    <tr>\n",
       "      <th>2011-07-20</th>\n",
       "      <td>2.62</td>\n",
       "      <td>2.80</td>\n",
       "      <td>13.69</td>\n",
       "      <td>-0.57</td>\n",
       "      <td>6.97</td>\n",
       "      <td>1.98</td>\n",
       "      <td>7262342175053680.00</td>\n",
       "      <td>12525772772957.20</td>\n",
       "      <td>149.00</td>\n",
       "      <td>579.79</td>\n",
       "      <td>...</td>\n",
       "      <td>99090.00</td>\n",
       "      <td>64643.00</td>\n",
       "      <td>3799.00</td>\n",
       "      <td>598.00</td>\n",
       "      <td>63.00</td>\n",
       "      <td>-0.15</td>\n",
       "      <td>-0.01</td>\n",
       "      <td>23851.24</td>\n",
       "      <td>0.00</td>\n",
       "      <td>0.00</td>\n",
       "    </tr>\n",
       "    <tr>\n",
       "      <th>2011-07-19</th>\n",
       "      <td>2.63</td>\n",
       "      <td>2.83</td>\n",
       "      <td>13.84</td>\n",
       "      <td>-0.57</td>\n",
       "      <td>7.03</td>\n",
       "      <td>1.96</td>\n",
       "      <td>7262342175053680.00</td>\n",
       "      <td>11065053631354.40</td>\n",
       "      <td>142.00</td>\n",
       "      <td>615.92</td>\n",
       "      <td>...</td>\n",
       "      <td>98755.00</td>\n",
       "      <td>64598.00</td>\n",
       "      <td>3761.00</td>\n",
       "      <td>597.00</td>\n",
       "      <td>63.00</td>\n",
       "      <td>0.42</td>\n",
       "      <td>0.03</td>\n",
       "      <td>23851.24</td>\n",
       "      <td>0.00</td>\n",
       "      <td>0.00</td>\n",
       "    </tr>\n",
       "    <tr>\n",
       "      <th>2011-07-18</th>\n",
       "      <td>2.60</td>\n",
       "      <td>2.23</td>\n",
       "      <td>13.42</td>\n",
       "      <td>-0.58</td>\n",
       "      <td>7.01</td>\n",
       "      <td>1.86</td>\n",
       "      <td>6713154126051590.00</td>\n",
       "      <td>13355914725081.60</td>\n",
       "      <td>170.00</td>\n",
       "      <td>502.64</td>\n",
       "      <td>...</td>\n",
       "      <td>98120.00</td>\n",
       "      <td>64454.00</td>\n",
       "      <td>3746.00</td>\n",
       "      <td>600.00</td>\n",
       "      <td>63.00</td>\n",
       "      <td>0.26</td>\n",
       "      <td>0.02</td>\n",
       "      <td>23851.24</td>\n",
       "      <td>0.00</td>\n",
       "      <td>1.00</td>\n",
       "    </tr>\n",
       "    <tr>\n",
       "      <th>2011-07-17</th>\n",
       "      <td>2.58</td>\n",
       "      <td>1.70</td>\n",
       "      <td>13.17</td>\n",
       "      <td>-0.59</td>\n",
       "      <td>7.32</td>\n",
       "      <td>1.82</td>\n",
       "      <td>6713154126051590.00</td>\n",
       "      <td>13208752331351.50</td>\n",
       "      <td>170.00</td>\n",
       "      <td>508.24</td>\n",
       "      <td>...</td>\n",
       "      <td>99364.00</td>\n",
       "      <td>64511.00</td>\n",
       "      <td>3824.00</td>\n",
       "      <td>599.00</td>\n",
       "      <td>62.00</td>\n",
       "      <td>-0.55</td>\n",
       "      <td>-0.04</td>\n",
       "      <td>23851.24</td>\n",
       "      <td>0.00</td>\n",
       "      <td>1.00</td>\n",
       "    </tr>\n",
       "    <tr>\n",
       "      <th>2011-07-16</th>\n",
       "      <td>2.62</td>\n",
       "      <td>0.70</td>\n",
       "      <td>13.72</td>\n",
       "      <td>-0.57</td>\n",
       "      <td>7.31</td>\n",
       "      <td>1.87</td>\n",
       "      <td>6713154126051590.00</td>\n",
       "      <td>11654137109701.80</td>\n",
       "      <td>157.00</td>\n",
       "      <td>576.03</td>\n",
       "      <td>...</td>\n",
       "      <td>99005.00</td>\n",
       "      <td>64333.00</td>\n",
       "      <td>3805.00</td>\n",
       "      <td>598.00</td>\n",
       "      <td>62.00</td>\n",
       "      <td>-0.09</td>\n",
       "      <td>-0.01</td>\n",
       "      <td>23851.24</td>\n",
       "      <td>0.00</td>\n",
       "      <td>0.00</td>\n",
       "    </tr>\n",
       "  </tbody>\n",
       "</table>\n",
       "<p>5 rows × 95 columns</p>\n",
       "</div>"
      ],
      "text/plain": [
       "            Log Price in USD  Volatility Daily Log Return in Percent 5D  \\\n",
       "Date                                                                      \n",
       "2011-07-20              2.62                                       2.80   \n",
       "2011-07-19              2.63                                       2.83   \n",
       "2011-07-18              2.60                                       2.23   \n",
       "2011-07-17              2.58                                       1.70   \n",
       "2011-07-16              2.62                                       0.70   \n",
       "\n",
       "            market/price_usd_close  market/price_drawdown_relative  \\\n",
       "Date                                                                 \n",
       "2011-07-20                   13.69                           -0.57   \n",
       "2011-07-19                   13.84                           -0.57   \n",
       "2011-07-18                   13.42                           -0.58   \n",
       "2011-07-17                   13.17                           -0.59   \n",
       "2011-07-16                   13.72                           -0.57   \n",
       "\n",
       "            market/price_realized_usd  market/mvrv  mining/difficulty_latest  \\\n",
       "Date                                                                           \n",
       "2011-07-20                       6.97         1.98       7262342175053680.00   \n",
       "2011-07-19                       7.03         1.96       7262342175053680.00   \n",
       "2011-07-18                       7.01         1.86       6713154126051590.00   \n",
       "2011-07-17                       7.32         1.82       6713154126051590.00   \n",
       "2011-07-16                       7.31         1.87       6713154126051590.00   \n",
       "\n",
       "            mining/hash_rate_mean  blockchain/block_count  \\\n",
       "Date                                                        \n",
       "2011-07-20      12525772772957.20                  149.00   \n",
       "2011-07-19      11065053631354.40                  142.00   \n",
       "2011-07-18      13355914725081.60                  170.00   \n",
       "2011-07-17      13208752331351.50                  170.00   \n",
       "2011-07-16      11654137109701.80                  157.00   \n",
       "\n",
       "            blockchain/block_interval_mean  ...  addresses/min_1_count  \\\n",
       "Date                                        ...                          \n",
       "2011-07-20                          579.79  ...               99090.00   \n",
       "2011-07-19                          615.92  ...               98755.00   \n",
       "2011-07-18                          502.64  ...               98120.00   \n",
       "2011-07-17                          508.24  ...               99364.00   \n",
       "2011-07-16                          576.03  ...               99005.00   \n",
       "\n",
       "            addresses/min_10_count  addresses/min_100_count  \\\n",
       "Date                                                          \n",
       "2011-07-20                64643.00                  3799.00   \n",
       "2011-07-19                64598.00                  3761.00   \n",
       "2011-07-18                64454.00                  3746.00   \n",
       "2011-07-17                64511.00                  3824.00   \n",
       "2011-07-16                64333.00                  3805.00   \n",
       "\n",
       "            addresses/min_1k_count  addresses/min_10k_count  \\\n",
       "Date                                                          \n",
       "2011-07-20                  598.00                    63.00   \n",
       "2011-07-19                  597.00                    63.00   \n",
       "2011-07-18                  600.00                    63.00   \n",
       "2011-07-17                  599.00                    62.00   \n",
       "2011-07-16                  598.00                    62.00   \n",
       "\n",
       "            Daily Return in USD_ohneshift  percentage_daily_return_bef_shift  \\\n",
       "Date                                                                           \n",
       "2011-07-20                          -0.15                              -0.01   \n",
       "2011-07-19                           0.42                               0.03   \n",
       "2011-07-18                           0.26                               0.02   \n",
       "2011-07-17                          -0.55                              -0.04   \n",
       "2011-07-16                          -0.09                              -0.01   \n",
       "\n",
       "            market/price_usd_close_cummax  \\\n",
       "Date                                        \n",
       "2011-07-20                       23851.24   \n",
       "2011-07-19                       23851.24   \n",
       "2011-07-18                       23851.24   \n",
       "2011-07-17                       23851.24   \n",
       "2011-07-16                       23851.24   \n",
       "\n",
       "            price_usd_close_percent_of_maxtilnow  Class  \n",
       "Date                                                     \n",
       "2011-07-20                                  0.00   0.00  \n",
       "2011-07-19                                  0.00   0.00  \n",
       "2011-07-18                                  0.00   1.00  \n",
       "2011-07-17                                  0.00   1.00  \n",
       "2011-07-16                                  0.00   0.00  \n",
       "\n",
       "[5 rows x 95 columns]"
      ]
     },
     "execution_count": 120,
     "metadata": {},
     "output_type": "execute_result"
    }
   ],
   "source": [
    "# Data Set Head\n",
    "df_dataset1.tail()"
   ]
  },
  {
   "cell_type": "markdown",
   "metadata": {},
   "source": [
    "# Model Preparation - Data Set I."
   ]
  },
  {
   "cell_type": "markdown",
   "metadata": {},
   "source": [
    "## Train Test Split - Data Set I."
   ]
  },
  {
   "cell_type": "code",
   "execution_count": 121,
   "metadata": {
    "ExecuteTime": {
     "end_time": "2020-12-26T15:41:58.822698Z",
     "start_time": "2020-12-26T15:41:58.809199Z"
    }
   },
   "outputs": [],
   "source": [
    "# Setup of Predictors (Indpendent Variables) by Excluding Target Variable\n",
    "predictors = df_dataset1.drop(['Class'], axis=1).values.astype(np.float32)"
   ]
  },
  {
   "cell_type": "code",
   "execution_count": 122,
   "metadata": {
    "ExecuteTime": {
     "end_time": "2020-12-26T15:41:58.838655Z",
     "start_time": "2020-12-26T15:41:58.824693Z"
    }
   },
   "outputs": [],
   "source": [
    "# Setup of Categorized Target Variable\n",
    "target = df_dataset1['Class'].astype(np.float32)"
   ]
  },
  {
   "cell_type": "code",
   "execution_count": 123,
   "metadata": {
    "ExecuteTime": {
     "end_time": "2020-12-26T15:41:58.854615Z",
     "start_time": "2020-12-26T15:41:58.840650Z"
    }
   },
   "outputs": [
    {
     "data": {
      "text/plain": [
       "(3449, 94)"
      ]
     },
     "execution_count": 123,
     "metadata": {},
     "output_type": "execute_result"
    }
   ],
   "source": [
    "# Predictor Dimensions\n",
    "predictors.shape"
   ]
  },
  {
   "cell_type": "code",
   "execution_count": 124,
   "metadata": {
    "ExecuteTime": {
     "end_time": "2020-12-26T15:41:58.870643Z",
     "start_time": "2020-12-26T15:41:58.855612Z"
    },
    "scrolled": true
   },
   "outputs": [
    {
     "name": "stdout",
     "output_type": "stream",
     "text": [
      "0 10.05533\n",
      "1 3.1329691\n",
      "2 23279.549\n",
      "3 -0.036508415\n",
      "4 8375.793\n",
      "5 2.8112316\n",
      "6 8.018776e+22\n",
      "7 1.4611162e+20\n",
      "8 154.0\n",
      "9 548.8117\n",
      "10 191926660.0\n",
      "11 143.04462\n",
      "12 0.00042282237\n",
      "13 7.72867\n",
      "14 1000784.0\n",
      "15 910566.0\n",
      "16 2006004.5\n",
      "17 2005042.0\n",
      "18 0.9892959\n",
      "19 114621940.0\n",
      "20 1240201.0\n",
      "21 18579424.0\n",
      "22 0.9676617\n",
      "23 17966048.0\n",
      "24 600407.5\n",
      "25 0.5961984\n",
      "26 0.47260875\n",
      "27 0.33790302\n",
      "28 0.21902245\n",
      "29 337956.5\n",
      "30 1028577.9\n",
      "31 1212465.1\n",
      "32 2030709.9\n",
      "33 1184297.6\n",
      "34 1708365.9\n",
      "35 2296224.2\n",
      "36 2502755.2\n",
      "37 2208732.5\n",
      "38 795245.75\n",
      "39 1413201.9\n",
      "40 1860863.5\n",
      "41 962.5\n",
      "42 0.019088088\n",
      "43 338309.0\n",
      "44 191864560.0\n",
      "45 2004898.9\n",
      "46 714836.3\n",
      "47 1.126225\n",
      "48 25.99116\n",
      "49 0.03847462\n",
      "50 28566390.0\n",
      "51 0.0037179582\n",
      "52 39.96214\n",
      "53 0.6080142\n",
      "54 37.438366\n",
      "55 193841.0\n",
      "56 355402.0\n",
      "57 178754.0\n",
      "58 100046.0\n",
      "59 36927.0\n",
      "60 13580.0\n",
      "61 10916.0\n",
      "62 10182.0\n",
      "63 6519.0\n",
      "64 3518.0\n",
      "65 607.0\n",
      "66 274.0\n",
      "67 0.6372493\n",
      "68 0.6376507\n",
      "69 0.00040143754\n",
      "70 1560834800.0\n",
      "71 1646821900.0\n",
      "72 85987100.0\n",
      "73 0.7660498\n",
      "74 0.2765987\n",
      "75 1.8082918\n",
      "76 0.7051771\n",
      "77 0.021079965\n",
      "78 1131834.0\n",
      "79 684823.0\n",
      "80 782721.0\n",
      "81 540230.0\n",
      "82 33111216.0\n",
      "83 8544699.0\n",
      "84 3133057.0\n",
      "85 828576.0\n",
      "86 153724.0\n",
      "87 16119.0\n",
      "88 2247.0\n",
      "89 103.0\n",
      "90 -479.38434\n",
      "91 -0.020592509\n",
      "92 23764.754\n",
      "93 0.979583\n"
     ]
    }
   ],
   "source": [
    "for x in range(len(predictors[0])):\n",
    "    print(x, predictors[0][x])"
   ]
  },
  {
   "cell_type": "code",
   "execution_count": 125,
   "metadata": {
    "ExecuteTime": {
     "end_time": "2020-12-26T15:41:58.886527Z",
     "start_time": "2020-12-26T15:41:58.872567Z"
    }
   },
   "outputs": [
    {
     "data": {
      "text/plain": [
       "(3449,)"
      ]
     },
     "execution_count": 125,
     "metadata": {},
     "output_type": "execute_result"
    }
   ],
   "source": [
    "# Target Dimensions\n",
    "target.shape"
   ]
  },
  {
   "cell_type": "code",
   "execution_count": 126,
   "metadata": {
    "ExecuteTime": {
     "end_time": "2020-12-26T15:41:58.902517Z",
     "start_time": "2020-12-26T15:41:58.888522Z"
    }
   },
   "outputs": [],
   "source": [
    "# Train-Test-Split Function to Create Training and Test Data Set\n",
    "X_train, X_test, y_train, y_test = train_test_split(predictors, target, test_size=0.3, random_state = 41, stratify=target)"
   ]
  },
  {
   "cell_type": "code",
   "execution_count": 127,
   "metadata": {
    "ExecuteTime": {
     "end_time": "2020-12-26T15:41:58.918442Z",
     "start_time": "2020-12-26T15:41:58.904480Z"
    }
   },
   "outputs": [
    {
     "data": {
      "text/plain": [
       "(2414, 94)"
      ]
     },
     "execution_count": 127,
     "metadata": {},
     "output_type": "execute_result"
    }
   ],
   "source": [
    "# Dimensions of Predictors for Training\n",
    "X_train.shape"
   ]
  },
  {
   "cell_type": "code",
   "execution_count": 128,
   "metadata": {
    "ExecuteTime": {
     "end_time": "2020-12-26T15:41:58.934401Z",
     "start_time": "2020-12-26T15:41:58.920438Z"
    }
   },
   "outputs": [
    {
     "data": {
      "text/plain": [
       "(2414,)"
      ]
     },
     "execution_count": 128,
     "metadata": {},
     "output_type": "execute_result"
    }
   ],
   "source": [
    "# Dimensions of Target for Training\n",
    "y_train.shape"
   ]
  },
  {
   "cell_type": "code",
   "execution_count": 129,
   "metadata": {
    "ExecuteTime": {
     "end_time": "2020-12-26T15:41:58.950358Z",
     "start_time": "2020-12-26T15:41:58.936394Z"
    }
   },
   "outputs": [
    {
     "data": {
      "text/plain": [
       "94"
      ]
     },
     "execution_count": 129,
     "metadata": {},
     "output_type": "execute_result"
    }
   ],
   "source": [
    "# Number of Predictors\n",
    "n_nodes = predictors.shape[1]\n",
    "n_nodes"
   ]
  },
  {
   "cell_type": "markdown",
   "metadata": {},
   "source": [
    "### Check of Class Balance"
   ]
  },
  {
   "cell_type": "code",
   "execution_count": 130,
   "metadata": {
    "ExecuteTime": {
     "end_time": "2020-12-26T15:41:58.966314Z",
     "start_time": "2020-12-26T15:41:58.952352Z"
    }
   },
   "outputs": [
    {
     "data": {
      "text/plain": [
       "1103"
      ]
     },
     "execution_count": 130,
     "metadata": {},
     "output_type": "execute_result"
    }
   ],
   "source": [
    "# Check Training Target of Class 0\n",
    "y_train[y_train==0].count()"
   ]
  },
  {
   "cell_type": "code",
   "execution_count": 131,
   "metadata": {
    "ExecuteTime": {
     "end_time": "2020-12-26T15:41:58.982306Z",
     "start_time": "2020-12-26T15:41:58.968510Z"
    }
   },
   "outputs": [
    {
     "data": {
      "text/plain": [
       "1311"
      ]
     },
     "execution_count": 131,
     "metadata": {},
     "output_type": "execute_result"
    }
   ],
   "source": [
    "# Check Training Target of Class 1\n",
    "y_train[y_train==1].count()"
   ]
  },
  {
   "cell_type": "code",
   "execution_count": 132,
   "metadata": {
    "ExecuteTime": {
     "end_time": "2020-12-26T15:41:58.998267Z",
     "start_time": "2020-12-26T15:41:58.984269Z"
    }
   },
   "outputs": [
    {
     "data": {
      "text/plain": [
       "473"
      ]
     },
     "execution_count": 132,
     "metadata": {},
     "output_type": "execute_result"
    }
   ],
   "source": [
    "# Check Test Target of Class 0\n",
    "y_test[y_test==0].count()"
   ]
  },
  {
   "cell_type": "code",
   "execution_count": 133,
   "metadata": {
    "ExecuteTime": {
     "end_time": "2020-12-26T15:41:59.014187Z",
     "start_time": "2020-12-26T15:41:58.999226Z"
    }
   },
   "outputs": [
    {
     "data": {
      "text/plain": [
       "562"
      ]
     },
     "execution_count": 133,
     "metadata": {},
     "output_type": "execute_result"
    }
   ],
   "source": [
    "# Check Test Target of Class 1\n",
    "y_test[y_test==1].count()"
   ]
  },
  {
   "cell_type": "code",
   "execution_count": null,
   "metadata": {},
   "outputs": [],
   "source": []
  },
  {
   "cell_type": "markdown",
   "metadata": {},
   "source": [
    "# Visualize pred vs reality"
   ]
  },
  {
   "cell_type": "code",
   "execution_count": 135,
   "metadata": {
    "ExecuteTime": {
     "end_time": "2020-12-26T15:42:25.939199Z",
     "start_time": "2020-12-26T15:42:25.924203Z"
    }
   },
   "outputs": [],
   "source": [
    "# Split Data into Training and Testing\n",
    "X_train, X_test, y_train, y_test = train_test_split(\n",
    "    predictors, target, test_size=0.3, stratify=target)\n",
    "\n",
    "# Amount of Columns\n",
    "n_nodes = predictors.shape[1]\n",
    "\n",
    "# Instantiation of MinMaxScaler\n",
    "norm_scaler = MinMaxScaler()\n",
    "\n",
    "# Training and Application of Feature Scaler on Training Data of Predictors\n",
    "X_train_scaled = pd.DataFrame(norm_scaler.fit_transform(X_train))\n",
    "\n",
    "# Application of Feature Scaler on Test Data of Predictors\n",
    "X_test_scaled = norm_scaler.transform(X_test)\n",
    "\n",
    "# Instantiate Classifier Logistic Regression\n",
    "rfc = RandomForestClassifier(n_estimators=100, max_leaf_nodes=None, criterion='gini', max_depth=3)"
   ]
  },
  {
   "cell_type": "markdown",
   "metadata": {},
   "source": [
    "# Hyperparam tuning ranfo"
   ]
  },
  {
   "cell_type": "code",
   "execution_count": 136,
   "metadata": {
    "ExecuteTime": {
     "end_time": "2020-12-26T15:42:27.364396Z",
     "start_time": "2020-12-26T15:42:27.347398Z"
    }
   },
   "outputs": [
    {
     "name": "stdout",
     "output_type": "stream",
     "text": [
      "{'n_estimators': [200, 400, 600, 800, 1000, 1200, 1400, 1600, 1800, 2000], 'max_features': ['auto', 'sqrt'], 'max_depth': [10, 20, 30, 40, 50, 60, 70, 80, 90, 100, 110, None], 'min_samples_split': [2, 5, 10], 'min_samples_leaf': [1, 2, 4], 'bootstrap': [True, False]}\n"
     ]
    }
   ],
   "source": [
    "from sklearn.model_selection import RandomizedSearchCV\n",
    "# Number of trees in random forest\n",
    "n_estimators = [int(x) for x in np.linspace(start = 200, stop = 2000, num = 10)]\n",
    "# Number of features to consider at every split\n",
    "max_features = ['auto', 'sqrt']\n",
    "# Maximum number of levels in tree\n",
    "max_depth = [int(x) for x in np.linspace(10, 110, num = 11)]\n",
    "max_depth.append(None)\n",
    "# Minimum number of samples required to split a node\n",
    "min_samples_split = [2, 5, 10]\n",
    "# Minimum number of samples required at each leaf node\n",
    "min_samples_leaf = [1, 2, 4]\n",
    "# Method of selecting samples for training each tree\n",
    "bootstrap = [True, False]\n",
    "# Create the random grid\n",
    "random_grid = {'n_estimators': n_estimators,\n",
    "               'max_features': max_features,\n",
    "               'max_depth': max_depth,\n",
    "               'min_samples_split': min_samples_split,\n",
    "               'min_samples_leaf': min_samples_leaf,\n",
    "               'bootstrap': bootstrap}\n",
    "print(random_grid)"
   ]
  },
  {
   "cell_type": "code",
   "execution_count": 137,
   "metadata": {
    "ExecuteTime": {
     "end_time": "2020-12-26T16:16:24.692937Z",
     "start_time": "2020-12-26T15:42:28.440903Z"
    }
   },
   "outputs": [
    {
     "name": "stdout",
     "output_type": "stream",
     "text": [
      "Fitting 5 folds for each of 100 candidates, totalling 500 fits\n"
     ]
    },
    {
     "name": "stderr",
     "output_type": "stream",
     "text": [
      "[Parallel(n_jobs=-1)]: Using backend LokyBackend with 8 concurrent workers.\n",
      "[Parallel(n_jobs=-1)]: Done  25 tasks      | elapsed:  1.4min\n",
      "[Parallel(n_jobs=-1)]: Done 146 tasks      | elapsed:  9.7min\n",
      "[Parallel(n_jobs=-1)]: Done 349 tasks      | elapsed: 25.3min\n",
      "[Parallel(n_jobs=-1)]: Done 500 out of 500 | elapsed: 33.8min finished\n"
     ]
    },
    {
     "data": {
      "text/plain": [
       "RandomizedSearchCV(cv=5, estimator=RandomForestClassifier(), n_iter=100,\n",
       "                   n_jobs=-1,\n",
       "                   param_distributions={'bootstrap': [True, False],\n",
       "                                        'max_depth': [10, 20, 30, 40, 50, 60,\n",
       "                                                      70, 80, 90, 100, 110,\n",
       "                                                      None],\n",
       "                                        'max_features': ['auto', 'sqrt'],\n",
       "                                        'min_samples_leaf': [1, 2, 4],\n",
       "                                        'min_samples_split': [2, 5, 10],\n",
       "                                        'n_estimators': [200, 400, 600, 800,\n",
       "                                                         1000, 1200, 1400, 1600,\n",
       "                                                         1800, 2000]},\n",
       "                   verbose=2)"
      ]
     },
     "execution_count": 137,
     "metadata": {},
     "output_type": "execute_result"
    }
   ],
   "source": [
    "### n_iter higher than 100 to have more combinations!\n",
    "\n",
    "\n",
    "# Use the random grid to search for best hyperparameters\n",
    "# First create the base model to tune\n",
    "rf = RandomForestClassifier()\n",
    "# Random search of parameters, using 3 fold cross validation, \n",
    "# search across 100 different combinations, and use all available cores\n",
    "rf_random = RandomizedSearchCV(estimator = rf, param_distributions = random_grid, n_iter = 100, cv = 5, verbose=2, n_jobs = -1)\n",
    "# Fit the random search model\n",
    "rf_random.fit(X_train, y_train)"
   ]
  },
  {
   "cell_type": "code",
   "execution_count": 147,
   "metadata": {
    "ExecuteTime": {
     "end_time": "2020-12-26T16:20:06.768473Z",
     "start_time": "2020-12-26T16:20:06.762521Z"
    }
   },
   "outputs": [
    {
     "data": {
      "text/plain": [
       "{'n_estimators': 1000,\n",
       " 'min_samples_split': 10,\n",
       " 'min_samples_leaf': 2,\n",
       " 'max_features': 'sqrt',\n",
       " 'max_depth': 10,\n",
       " 'bootstrap': True}"
      ]
     },
     "execution_count": 147,
     "metadata": {},
     "output_type": "execute_result"
    }
   ],
   "source": [
    "rf_random.best_params_"
   ]
  },
  {
   "cell_type": "code",
   "execution_count": 149,
   "metadata": {
    "ExecuteTime": {
     "end_time": "2020-12-26T16:20:46.133052Z",
     "start_time": "2020-12-26T16:20:46.122084Z"
    }
   },
   "outputs": [
    {
     "data": {
      "text/plain": [
       "RandomForestClassifier(max_depth=10, max_features='sqrt', min_samples_leaf=2,\n",
       "                       min_samples_split=10, n_estimators=1000)"
      ]
     },
     "execution_count": 149,
     "metadata": {},
     "output_type": "execute_result"
    }
   ],
   "source": [
    "best_random = rf_random.best_estimator_\n",
    "best_random"
   ]
  },
  {
   "cell_type": "code",
   "execution_count": null,
   "metadata": {},
   "outputs": [],
   "source": [
    "# best after randomized search!\n",
    "RandomForestClassifier(max_depth=10, max_features='sqrt', min_samples_leaf=2,\n",
    "                       min_samples_split=10, n_estimators=1000)"
   ]
  },
  {
   "cell_type": "code",
   "execution_count": 138,
   "metadata": {
    "ExecuteTime": {
     "end_time": "2020-12-26T16:16:24.708841Z",
     "start_time": "2020-12-26T16:16:24.694843Z"
    }
   },
   "outputs": [],
   "source": [
    "train_features = X_train\n",
    "train_labels = y_train\n",
    "test_features = X_test\n",
    "test_labels = y_test"
   ]
  },
  {
   "cell_type": "code",
   "execution_count": 139,
   "metadata": {
    "ExecuteTime": {
     "end_time": "2020-12-26T16:16:24.724797Z",
     "start_time": "2020-12-26T16:16:24.710801Z"
    }
   },
   "outputs": [
    {
     "data": {
      "text/plain": [
       "array([1., 1., 0., ..., 0., 0., 1.], dtype=float32)"
      ]
     },
     "execution_count": 139,
     "metadata": {},
     "output_type": "execute_result"
    }
   ],
   "source": [
    "test_labels.values"
   ]
  },
  {
   "cell_type": "markdown",
   "metadata": {},
   "source": [
    "# Evaluate Random Search"
   ]
  },
  {
   "cell_type": "code",
   "execution_count": 140,
   "metadata": {
    "ExecuteTime": {
     "end_time": "2020-12-26T16:16:24.883377Z",
     "start_time": "2020-12-26T16:16:24.725792Z"
    }
   },
   "outputs": [
    {
     "name": "stdout",
     "output_type": "stream",
     "text": [
      "Model Performance\n",
      "Amount Errors total 505.0 of 1035 \n",
      "Accuracy = 51.21%.\n"
     ]
    }
   ],
   "source": [
    "from numpy import inf\n",
    "\n",
    "def evaluate(model, test_features, test_labels):\n",
    "    predictions = model.predict(test_features)\n",
    "    #print(\"predictions {} _test_labels {} \".format(predictions, test_labels))\n",
    "    errors = int( np.sum((predictions==test_labels) == False) )\n",
    "    alle = len(test_labels.values)\n",
    "    x = errors / alle\n",
    "    mape = 100 * errors / alle\n",
    "    accuracy = 100 - mape\n",
    "    print('Model Performance')\n",
    "    print('Amount Errors total {} of {} '.format(np.mean(errors), alle))\n",
    "    print('Accuracy = {:0.2f}%.'.format(accuracy))\n",
    "    return accuracy\n",
    "    \n",
    "base_model = RandomForestClassifier(n_estimators = 10)\n",
    "base_model.fit(train_features, train_labels)\n",
    "base_accuracy = evaluate(base_model, test_features, test_labels)"
   ]
  },
  {
   "cell_type": "code",
   "execution_count": 141,
   "metadata": {
    "ExecuteTime": {
     "end_time": "2020-12-26T16:16:24.899336Z",
     "start_time": "2020-12-26T16:16:24.884339Z"
    }
   },
   "outputs": [
    {
     "data": {
      "text/plain": [
       "{'bootstrap': True,\n",
       " 'ccp_alpha': 0.0,\n",
       " 'class_weight': None,\n",
       " 'criterion': 'gini',\n",
       " 'max_depth': 10,\n",
       " 'max_features': 'sqrt',\n",
       " 'max_leaf_nodes': None,\n",
       " 'max_samples': None,\n",
       " 'min_impurity_decrease': 0.0,\n",
       " 'min_impurity_split': None,\n",
       " 'min_samples_leaf': 2,\n",
       " 'min_samples_split': 10,\n",
       " 'min_weight_fraction_leaf': 0.0,\n",
       " 'n_estimators': 1000,\n",
       " 'n_jobs': None,\n",
       " 'oob_score': False,\n",
       " 'random_state': None,\n",
       " 'verbose': 0,\n",
       " 'warm_start': False}"
      ]
     },
     "execution_count": 141,
     "metadata": {},
     "output_type": "execute_result"
    }
   ],
   "source": [
    "best_random = rf_random.best_estimator_\n",
    "best_random.get_params()"
   ]
  },
  {
   "cell_type": "code",
   "execution_count": 142,
   "metadata": {
    "ExecuteTime": {
     "end_time": "2020-12-26T16:16:24.915293Z",
     "start_time": "2020-12-26T16:16:24.900344Z"
    }
   },
   "outputs": [
    {
     "data": {
      "text/plain": [
       "RandomForestClassifier(max_depth=10, max_features='sqrt', min_samples_leaf=2,\n",
       "                       min_samples_split=10, n_estimators=1000)"
      ]
     },
     "execution_count": 142,
     "metadata": {},
     "output_type": "execute_result"
    }
   ],
   "source": [
    "best_random"
   ]
  },
  {
   "cell_type": "code",
   "execution_count": 143,
   "metadata": {
    "ExecuteTime": {
     "end_time": "2020-12-26T16:16:25.120745Z",
     "start_time": "2020-12-26T16:16:24.916284Z"
    }
   },
   "outputs": [
    {
     "name": "stdout",
     "output_type": "stream",
     "text": [
      "Model Performance\n",
      "Amount Errors total 496.0 of 1035 \n",
      "Accuracy = 52.08%.\n"
     ]
    }
   ],
   "source": [
    "random_accuracy = evaluate(best_random, test_features, test_labels)"
   ]
  },
  {
   "cell_type": "code",
   "execution_count": 144,
   "metadata": {
    "ExecuteTime": {
     "end_time": "2020-12-26T16:16:25.136670Z",
     "start_time": "2020-12-26T16:16:25.122706Z"
    }
   },
   "outputs": [
    {
     "name": "stdout",
     "output_type": "stream",
     "text": [
      "Improvement of 1.70%.\n"
     ]
    }
   ],
   "source": [
    "print('Improvement of {:0.2f}%.'.format( 100 * (random_accuracy - base_accuracy) / base_accuracy))"
   ]
  },
  {
   "cell_type": "code",
   "execution_count": null,
   "metadata": {
    "ExecuteTime": {
     "end_time": "2020-12-26T15:41:59.719303Z",
     "start_time": "2020-12-26T15:40:12.064Z"
    }
   },
   "outputs": [],
   "source": [
    "# # best random search result:\n",
    "# RandomForestClassifier(max_depth=10, max_features='sqrt', min_samples_leaf=2,\n",
    "#                        min_samples_split=10, n_estimators=1000)"
   ]
  },
  {
   "cell_type": "markdown",
   "metadata": {},
   "source": [
    "# Grid Search with Cross Validation"
   ]
  },
  {
   "cell_type": "code",
   "execution_count": 152,
   "metadata": {
    "ExecuteTime": {
     "end_time": "2020-12-26T16:31:45.994680Z",
     "start_time": "2020-12-26T16:31:45.982631Z"
    }
   },
   "outputs": [],
   "source": [
    "from sklearn.model_selection import GridSearchCV\n",
    "# Create the parameter grid based on the results of random search \n",
    "param_grid = {\n",
    "    'bootstrap': [True],\n",
    "    'max_depth': [5,7,9, 10, 11],\n",
    "    'min_samples_leaf': [2, 3, 5],\n",
    "    'min_samples_split': [8,9,10,12,14,18],\n",
    "    'n_estimators': [900,1000,1100]\n",
    "}\n",
    "# Create a based model\n",
    "rf = RandomForestClassifier()\n",
    "# Instantiate the grid search model\n",
    "grid_search = GridSearchCV(estimator = rf, param_grid = param_grid, \n",
    "                          cv = 5, n_jobs = -1, verbose = 2)"
   ]
  },
  {
   "cell_type": "code",
   "execution_count": 153,
   "metadata": {
    "ExecuteTime": {
     "end_time": "2020-12-26T17:28:42.199940Z",
     "start_time": "2020-12-26T16:31:46.399517Z"
    }
   },
   "outputs": [
    {
     "name": "stdout",
     "output_type": "stream",
     "text": [
      "Fitting 5 folds for each of 270 candidates, totalling 1350 fits\n"
     ]
    },
    {
     "name": "stderr",
     "output_type": "stream",
     "text": [
      "[Parallel(n_jobs=-1)]: Using backend LokyBackend with 8 concurrent workers.\n",
      "[Parallel(n_jobs=-1)]: Done  25 tasks      | elapsed:  1.1min\n",
      "[Parallel(n_jobs=-1)]: Done 146 tasks      | elapsed:  5.2min\n",
      "[Parallel(n_jobs=-1)]: Done 349 tasks      | elapsed: 12.2min\n",
      "[Parallel(n_jobs=-1)]: Done 632 tasks      | elapsed: 23.5min\n",
      "[Parallel(n_jobs=-1)]: Done 997 tasks      | elapsed: 40.1min\n",
      "[Parallel(n_jobs=-1)]: Done 1350 out of 1350 | elapsed: 56.8min finished\n"
     ]
    },
    {
     "data": {
      "text/plain": [
       "{'bootstrap': True,\n",
       " 'max_depth': 5,\n",
       " 'min_samples_leaf': 2,\n",
       " 'min_samples_split': 18,\n",
       " 'n_estimators': 900}"
      ]
     },
     "execution_count": 153,
     "metadata": {},
     "output_type": "execute_result"
    }
   ],
   "source": [
    "# Fit the grid search to the data\n",
    "grid_search.fit(train_features, train_labels)\n",
    "grid_search.best_params_"
   ]
  },
  {
   "cell_type": "code",
   "execution_count": 154,
   "metadata": {
    "ExecuteTime": {
     "end_time": "2020-12-26T17:28:42.357582Z",
     "start_time": "2020-12-26T17:28:42.201906Z"
    }
   },
   "outputs": [
    {
     "name": "stdout",
     "output_type": "stream",
     "text": [
      "Model Performance\n",
      "Amount Errors total 472.0 of 1035 \n",
      "Accuracy = 54.40%.\n"
     ]
    }
   ],
   "source": [
    "best_grid = grid_search.best_estimator_\n",
    "grid_accuracy = evaluate(best_grid, test_features, test_labels)"
   ]
  },
  {
   "cell_type": "code",
   "execution_count": 155,
   "metadata": {
    "ExecuteTime": {
     "end_time": "2020-12-26T17:28:42.372886Z",
     "start_time": "2020-12-26T17:28:42.359986Z"
    }
   },
   "outputs": [
    {
     "name": "stdout",
     "output_type": "stream",
     "text": [
      "Improvement of 6.23%.\n"
     ]
    }
   ],
   "source": [
    "print('Improvement of {:0.2f}%.'.format( 100 * (grid_accuracy - base_accuracy) / base_accuracy))"
   ]
  },
  {
   "cell_type": "code",
   "execution_count": 156,
   "metadata": {
    "ExecuteTime": {
     "end_time": "2020-12-26T17:28:42.388883Z",
     "start_time": "2020-12-26T17:28:42.374881Z"
    }
   },
   "outputs": [
    {
     "data": {
      "text/plain": [
       "51.207729468599034"
      ]
     },
     "execution_count": 156,
     "metadata": {},
     "output_type": "execute_result"
    }
   ],
   "source": [
    "base_accuracy"
   ]
  },
  {
   "cell_type": "code",
   "execution_count": 157,
   "metadata": {
    "ExecuteTime": {
     "end_time": "2020-12-26T17:28:42.404802Z",
     "start_time": "2020-12-26T17:28:42.389842Z"
    }
   },
   "outputs": [
    {
     "data": {
      "text/plain": [
       "52.07729468599034"
      ]
     },
     "execution_count": 157,
     "metadata": {},
     "output_type": "execute_result"
    }
   ],
   "source": [
    "random_accuracy"
   ]
  },
  {
   "cell_type": "code",
   "execution_count": 158,
   "metadata": {
    "ExecuteTime": {
     "end_time": "2020-12-26T17:28:42.420960Z",
     "start_time": "2020-12-26T17:28:42.406797Z"
    }
   },
   "outputs": [
    {
     "data": {
      "text/plain": [
       "54.39613526570049"
      ]
     },
     "execution_count": 158,
     "metadata": {},
     "output_type": "execute_result"
    }
   ],
   "source": [
    "grid_accuracy"
   ]
  },
  {
   "cell_type": "code",
   "execution_count": 159,
   "metadata": {
    "ExecuteTime": {
     "end_time": "2020-12-26T17:28:42.451676Z",
     "start_time": "2020-12-26T17:28:42.429743Z"
    }
   },
   "outputs": [
    {
     "data": {
      "text/plain": [
       "RandomForestClassifier(max_depth=5, min_samples_leaf=2, min_samples_split=18,\n",
       "                       n_estimators=900)"
      ]
     },
     "execution_count": 159,
     "metadata": {},
     "output_type": "execute_result"
    }
   ],
   "source": [
    "best_grid"
   ]
  },
  {
   "cell_type": "markdown",
   "metadata": {},
   "source": [
    "# second grid "
   ]
  },
  {
   "cell_type": "code",
   "execution_count": null,
   "metadata": {
    "ExecuteTime": {
     "end_time": "2020-12-26T15:41:59.725446Z",
     "start_time": "2020-12-26T15:40:12.147Z"
    }
   },
   "outputs": [],
   "source": [
    "from sklearn.model_selection import GridSearchCV\n",
    "# Create the parameter grid based on the results of random search \n",
    "param_grid = {\n",
    "    'bootstrap': [True],\n",
    "    'max_depth': [3,4,5,6,7],\n",
    "    'min_samples_leaf': [3, 4, 5],\n",
    "    'min_samples_split': [2, 3, 4],\n",
    "    'n_estimators': [500, 550, 600, 650, 700]\n",
    "}\n",
    "# Create a based model\n",
    "rf = RandomForestClassifier()\n",
    "# Instantiate the grid search model\n",
    "grid_search = GridSearchCV(estimator = rf, param_grid = param_grid, \n",
    "                          cv = 3, n_jobs = -1, verbose = 2)"
   ]
  },
  {
   "cell_type": "code",
   "execution_count": null,
   "metadata": {
    "ExecuteTime": {
     "end_time": "2020-12-26T15:41:59.726297Z",
     "start_time": "2020-12-26T15:40:12.156Z"
    }
   },
   "outputs": [],
   "source": [
    "# Fit the grid search to the data\n",
    "grid_search.fit(train_features, train_labels)\n",
    "grid_search.best_params_"
   ]
  },
  {
   "cell_type": "code",
   "execution_count": null,
   "metadata": {
    "ExecuteTime": {
     "end_time": "2020-12-26T15:41:59.727283Z",
     "start_time": "2020-12-26T15:40:12.166Z"
    }
   },
   "outputs": [],
   "source": [
    "best_grid = grid_search.best_estimator_\n",
    "grid_accuracy = evaluate(best_grid, test_features, test_labels)"
   ]
  },
  {
   "cell_type": "code",
   "execution_count": null,
   "metadata": {
    "ExecuteTime": {
     "end_time": "2020-12-26T15:41:59.727283Z",
     "start_time": "2020-12-26T15:40:12.175Z"
    }
   },
   "outputs": [],
   "source": [
    "print('Improvement of {:0.2f}%.'.format( 100 * (grid_accuracy - base_accuracy) / base_accuracy))"
   ]
  },
  {
   "cell_type": "code",
   "execution_count": null,
   "metadata": {
    "ExecuteTime": {
     "end_time": "2020-12-26T15:41:59.728279Z",
     "start_time": "2020-12-26T15:40:12.186Z"
    }
   },
   "outputs": [],
   "source": [
    "best_grid"
   ]
  },
  {
   "cell_type": "markdown",
   "metadata": {},
   "source": [
    "# third grid "
   ]
  },
  {
   "cell_type": "code",
   "execution_count": null,
   "metadata": {
    "ExecuteTime": {
     "end_time": "2020-12-26T15:41:59.728279Z",
     "start_time": "2020-12-26T15:40:12.197Z"
    }
   },
   "outputs": [],
   "source": [
    "from sklearn.model_selection import GridSearchCV\n",
    "# Create the parameter grid based on the results of random search \n",
    "param_grid = {\n",
    "    'bootstrap': [True],\n",
    "    'max_depth': [5,6,7],\n",
    "    'min_samples_leaf': [1,2,3,4],\n",
    "    'min_samples_split': [2, 3, 4],\n",
    "    'n_estimators': [550, 575, 600, 625, 650]\n",
    "}\n",
    "# Create a based model\n",
    "rf = RandomForestClassifier()\n",
    "# Instantiate the grid search model\n",
    "grid_search = GridSearchCV(estimator = rf, param_grid = param_grid, \n",
    "                          cv = 3, n_jobs = -1, verbose = 2)"
   ]
  },
  {
   "cell_type": "code",
   "execution_count": null,
   "metadata": {
    "ExecuteTime": {
     "end_time": "2020-12-26T15:41:59.729275Z",
     "start_time": "2020-12-26T15:40:12.206Z"
    },
    "scrolled": true
   },
   "outputs": [],
   "source": [
    "# Fit the grid search to the data\n",
    "grid_search.fit(train_features, train_labels)\n",
    "grid_search.best_params_"
   ]
  },
  {
   "cell_type": "code",
   "execution_count": null,
   "metadata": {
    "ExecuteTime": {
     "end_time": "2020-12-26T15:41:59.730273Z",
     "start_time": "2020-12-26T15:40:12.214Z"
    }
   },
   "outputs": [],
   "source": [
    "best_grid = grid_search.best_estimator_\n",
    "grid_accuracy = evaluate(best_grid, test_features, test_labels)"
   ]
  },
  {
   "cell_type": "code",
   "execution_count": null,
   "metadata": {
    "ExecuteTime": {
     "end_time": "2020-12-26T15:41:59.731276Z",
     "start_time": "2020-12-26T15:40:12.223Z"
    }
   },
   "outputs": [],
   "source": [
    "print('Improvement of {:0.2f}%.'.format( 100 * (grid_accuracy - base_accuracy) / base_accuracy))"
   ]
  },
  {
   "cell_type": "code",
   "execution_count": null,
   "metadata": {
    "ExecuteTime": {
     "end_time": "2020-12-26T15:41:59.731276Z",
     "start_time": "2020-12-26T15:40:12.231Z"
    }
   },
   "outputs": [],
   "source": [
    "best_grid"
   ]
  },
  {
   "cell_type": "code",
   "execution_count": null,
   "metadata": {},
   "outputs": [],
   "source": []
  },
  {
   "cell_type": "markdown",
   "metadata": {},
   "source": [
    "# forth grid "
   ]
  },
  {
   "cell_type": "code",
   "execution_count": null,
   "metadata": {
    "ExecuteTime": {
     "end_time": "2020-12-26T15:41:59.732268Z",
     "start_time": "2020-12-26T15:40:12.248Z"
    }
   },
   "outputs": [],
   "source": [
    "from sklearn.model_selection import GridSearchCV\n",
    "# Create the parameter grid based on the results of random search \n",
    "param_grid = {\n",
    "    'bootstrap': [True],\n",
    "    'max_depth': [3,4,5,6,7],\n",
    "    'min_samples_leaf': [1,2,3,4,5,6],\n",
    "    'min_samples_split': [2, 3, 4],\n",
    "    'n_estimators': [600, 625, 650, 675, 700]\n",
    "}\n",
    "# Create a based model\n",
    "rf = RandomForestClassifier()\n",
    "# Instantiate the grid search model\n",
    "grid_search = GridSearchCV(estimator = rf, param_grid = param_grid, \n",
    "                          cv = 3, n_jobs = -1, verbose = 2)"
   ]
  },
  {
   "cell_type": "code",
   "execution_count": null,
   "metadata": {
    "ExecuteTime": {
     "end_time": "2020-12-26T15:41:59.733265Z",
     "start_time": "2020-12-26T15:40:12.258Z"
    },
    "scrolled": true
   },
   "outputs": [],
   "source": [
    "# Fit the grid search to the data\n",
    "grid_search.fit(train_features, train_labels)\n",
    "grid_search.best_params_"
   ]
  },
  {
   "cell_type": "code",
   "execution_count": null,
   "metadata": {
    "ExecuteTime": {
     "end_time": "2020-12-26T15:41:59.733265Z",
     "start_time": "2020-12-26T15:40:12.266Z"
    }
   },
   "outputs": [],
   "source": [
    "best_grid = grid_search.best_estimator_\n",
    "grid_accuracy = evaluate(best_grid, test_features, test_labels)"
   ]
  },
  {
   "cell_type": "code",
   "execution_count": null,
   "metadata": {
    "ExecuteTime": {
     "end_time": "2020-12-26T15:41:59.734532Z",
     "start_time": "2020-12-26T15:40:12.274Z"
    }
   },
   "outputs": [],
   "source": [
    "print('Improvement of {:0.2f}%.'.format( 100 * (grid_accuracy - base_accuracy) / base_accuracy))"
   ]
  },
  {
   "cell_type": "code",
   "execution_count": null,
   "metadata": {
    "ExecuteTime": {
     "end_time": "2020-12-26T15:41:59.735261Z",
     "start_time": "2020-12-26T15:40:12.283Z"
    }
   },
   "outputs": [],
   "source": [
    "best_grid"
   ]
  },
  {
   "cell_type": "code",
   "execution_count": null,
   "metadata": {},
   "outputs": [],
   "source": []
  },
  {
   "cell_type": "code",
   "execution_count": null,
   "metadata": {},
   "outputs": [],
   "source": []
  },
  {
   "cell_type": "markdown",
   "metadata": {},
   "source": [
    "#  Feature Selection random forest"
   ]
  },
  {
   "cell_type": "code",
   "execution_count": null,
   "metadata": {
    "ExecuteTime": {
     "end_time": "2020-12-26T15:41:59.736286Z",
     "start_time": "2020-12-26T15:40:12.305Z"
    }
   },
   "outputs": [],
   "source": [
    "import pandas as pd\n",
    "from sklearn.feature_selection import SelectFromModel\n",
    "\n",
    "rank_delete_list = []\n",
    "\n",
    "# define dataset\n",
    "#X, y = make_classification(n_samples=1000, n_features=10, n_informative=5, n_redundant=5, random_state=1)\n",
    "# define RFE\n",
    "sel = SelectFromModel(RandomForestClassifier(max_depth=4, min_samples_leaf=4, min_samples_split=3,\n",
    "                       n_estimators=625))\n",
    "# fit RFE\n",
    "sel.fit(X_train, y_train)\n",
    "# summarize all features\n",
    "sel.get_support()\n",
    "\n",
    "# summarize all features\n",
    "for i in range(X_train.shape[1]):\n",
    "    print('Column: %d, Selected %s' % (i, sel.get_support()[i]))\n",
    "    if sel.get_support()[i] == False:\n",
    "        rank_delete_list.append(i)"
   ]
  },
  {
   "cell_type": "code",
   "execution_count": null,
   "metadata": {
    "ExecuteTime": {
     "end_time": "2020-12-26T15:41:59.736286Z",
     "start_time": "2020-12-26T15:40:12.313Z"
    }
   },
   "outputs": [],
   "source": [
    "predictors = np.delete(predictors, rank_delete_list, 1)"
   ]
  },
  {
   "cell_type": "code",
   "execution_count": null,
   "metadata": {
    "ExecuteTime": {
     "end_time": "2020-12-26T15:41:59.737362Z",
     "start_time": "2020-12-26T15:40:12.321Z"
    },
    "scrolled": true
   },
   "outputs": [],
   "source": [
    "predictors.shape"
   ]
  },
  {
   "cell_type": "code",
   "execution_count": null,
   "metadata": {},
   "outputs": [],
   "source": []
  },
  {
   "cell_type": "markdown",
   "metadata": {},
   "source": [
    "# XGBoost"
   ]
  },
  {
   "cell_type": "code",
   "execution_count": null,
   "metadata": {
    "ExecuteTime": {
     "end_time": "2020-12-26T15:41:59.738252Z",
     "start_time": "2020-12-26T15:40:12.337Z"
    }
   },
   "outputs": [],
   "source": [
    "# A parameter grid for XGBoost\n",
    "params = {\n",
    "        'min_child_weight': [1, 5, 10],\n",
    "        'gamma': [0.5, 1, 1.5, 2, 5],\n",
    "        'subsample': [0.6, 0.8, 1.0],\n",
    "        'colsample_bytree': [0.6, 0.8, 1.0],\n",
    "        'max_depth': [3, 4, 5]\n",
    "        }"
   ]
  },
  {
   "cell_type": "code",
   "execution_count": null,
   "metadata": {
    "ExecuteTime": {
     "end_time": "2020-12-26T15:41:59.739249Z",
     "start_time": "2020-12-26T15:40:12.344Z"
    }
   },
   "outputs": [],
   "source": [
    "xgb = XGBClassifier(learning_rate=0.001, n_estimators=600, objective='binary:logistic',\n",
    "                    silent=True, nthread=1)"
   ]
  },
  {
   "cell_type": "code",
   "execution_count": null,
   "metadata": {
    "ExecuteTime": {
     "end_time": "2020-12-26T15:41:59.740270Z",
     "start_time": "2020-12-26T15:40:12.352Z"
    },
    "scrolled": true
   },
   "outputs": [],
   "source": [
    "folds = 5\n",
    "param_comb = 10\n",
    "\n",
    "skf = StratifiedKFold(n_splits=folds, shuffle = True, random_state = 1001)\n",
    "\n",
    "random_search = RandomizedSearchCV(xgb, param_distributions=params, n_iter=param_comb, scoring='accuracy', n_jobs=4, cv=skf.split(predictors, target), verbose=3 )\n",
    "\n",
    "random_search.fit(predictors, target)"
   ]
  },
  {
   "cell_type": "code",
   "execution_count": null,
   "metadata": {
    "ExecuteTime": {
     "end_time": "2020-12-26T15:41:59.740413Z",
     "start_time": "2020-12-26T15:40:12.360Z"
    },
    "scrolled": true
   },
   "outputs": [],
   "source": [
    "print('\\n All results:')\n",
    "print(random_search.cv_results_)\n",
    "print('\\n Best estimator:')\n",
    "print(random_search.best_estimator_)\n",
    "print('\\n Best normalized gini score for %d-fold search with %d parameter combinations:' % (folds, param_comb))\n",
    "print(random_search.best_score_ * 2 - 1)\n",
    "print('\\n Best hyperparameters:')\n",
    "print(random_search.best_params_)\n",
    "results = pd.DataFrame(random_search.cv_results_)\n",
    "results.to_csv('xgb-random-grid-search-results-01.csv', index=False)"
   ]
  },
  {
   "cell_type": "code",
   "execution_count": null,
   "metadata": {},
   "outputs": [],
   "source": []
  },
  {
   "cell_type": "code",
   "execution_count": null,
   "metadata": {},
   "outputs": [],
   "source": []
  },
  {
   "cell_type": "code",
   "execution_count": null,
   "metadata": {
    "ExecuteTime": {
     "end_time": "2020-12-26T15:41:59.741264Z",
     "start_time": "2020-12-26T15:40:12.378Z"
    }
   },
   "outputs": [],
   "source": [
    "from sklearn.model_selection import GridSearchCV\n",
    "\n",
    "from xgboost import XGBClassifier"
   ]
  },
  {
   "cell_type": "code",
   "execution_count": null,
   "metadata": {
    "ExecuteTime": {
     "end_time": "2020-12-26T15:41:59.741264Z",
     "start_time": "2020-12-26T15:40:12.388Z"
    }
   },
   "outputs": [],
   "source": [
    "#XGBoost hyper-parameter tuning\n",
    "param_tuning = {\n",
    "    'learning_rate': [0.01, 0.1],\n",
    "    'max_depth': [1, 2, 3, 4, 5 ],\n",
    "    'gamma': [4, 5, 6],\n",
    "    'min_child_weight': [3, 5, 7],\n",
    "    'subsample': [ 0.7, 1.0, 1.3],\n",
    "    'colsample_bytree': [0.7, 1.0, 1.3],\n",
    "    'n_estimators' : [100, 200, 500],\n",
    "    'objective': ['reg:squarederror']\n",
    "}\n",
    "\n",
    "xgb_model = XGBClassifier()\n",
    "\n",
    "gsearch = GridSearchCV(estimator = xgb_model,\n",
    "                       param_grid = param_tuning,                        \n",
    "                       #scoring = 'neg_mean_absolute_error', #MAE\n",
    "                       #scoring = 'neg_mean_squared_error',  #MSE\n",
    "                       cv = 5,\n",
    "                       n_jobs = -1,\n",
    "                       verbose = 1)"
   ]
  },
  {
   "cell_type": "code",
   "execution_count": null,
   "metadata": {
    "ExecuteTime": {
     "end_time": "2020-12-26T15:41:59.742241Z",
     "start_time": "2020-12-26T15:40:12.397Z"
    }
   },
   "outputs": [],
   "source": [
    "# Fit the grid search to the data\n",
    "gsearch.fit(train_features, train_labels)\n",
    "gsearch.best_params_"
   ]
  },
  {
   "cell_type": "code",
   "execution_count": null,
   "metadata": {
    "ExecuteTime": {
     "end_time": "2020-12-26T15:41:59.743238Z",
     "start_time": "2020-12-26T15:40:12.404Z"
    }
   },
   "outputs": [],
   "source": [
    "best_grid = gsearch.best_estimator_\n",
    "grid_accuracy = evaluate(best_grid, test_features, test_labels)"
   ]
  },
  {
   "cell_type": "code",
   "execution_count": null,
   "metadata": {
    "ExecuteTime": {
     "end_time": "2020-12-26T15:41:59.744236Z",
     "start_time": "2020-12-26T15:40:12.412Z"
    }
   },
   "outputs": [],
   "source": [
    "print('Improvement of {:0.2f}%.'.format( 100 * (grid_accuracy - base_accuracy) / base_accuracy))"
   ]
  },
  {
   "cell_type": "code",
   "execution_count": null,
   "metadata": {
    "ExecuteTime": {
     "end_time": "2020-12-26T15:41:59.745234Z",
     "start_time": "2020-12-26T15:40:12.420Z"
    }
   },
   "outputs": [],
   "source": [
    "best_grid"
   ]
  },
  {
   "cell_type": "markdown",
   "metadata": {},
   "source": [
    "new result:\n",
    "{'colsample_bytree': 1.0,\n",
    " 'gamma': 4,\n",
    " 'learning_rate': 0.1,\n",
    " 'max_depth': 3,\n",
    " 'min_child_weight': 3,\n",
    " 'n_estimators': 100,\n",
    " 'objective': 'reg:squarederror',\n",
    " 'subsample': 0.7}\n",
    "\n",
    "old result:\n",
    "{'colsample_bytree': 0.7,\n",
    " 'learning_rate': 0.01,\n",
    " 'max_depth': 3,\n",
    " 'min_child_weight': 1,\n",
    " 'n_estimators': 200,\n",
    " 'objective': 'reg:squarederror',\n",
    " 'subsample': 0.7}"
   ]
  },
  {
   "cell_type": "markdown",
   "metadata": {},
   "source": [
    "# XGBoost"
   ]
  },
  {
   "cell_type": "code",
   "execution_count": null,
   "metadata": {
    "ExecuteTime": {
     "end_time": "2020-12-26T15:41:59.745395Z",
     "start_time": "2020-12-26T15:40:12.433Z"
    }
   },
   "outputs": [],
   "source": [
    "from xgboost import XGBClassifier\n",
    "\n",
    "#XGBoost hyper-parameter tuning\n",
    "param_tuning = {\n",
    "    'learning_rate': [0.05, 0.1, 0.2],\n",
    "    'max_depth': [1, 2, 3, 4, 5 ],\n",
    "    'gamma': [2,3,4],\n",
    "    'min_child_weight': [2,3,4],\n",
    "    'subsample': [ 0.5, 0.7, 0.9 ],\n",
    "    'colsample_bytree': [0.7, 1.0, 1.3],\n",
    "    'n_estimators' : [50,100,150],\n",
    "    'objective': ['reg:squarederror']\n",
    "}\n",
    "\n",
    "xgb_model = XGBClassifier()\n",
    "\n",
    "gsearch = GridSearchCV(estimator = xgb_model,\n",
    "                       param_grid = param_tuning,                        \n",
    "                       #scoring = 'neg_mean_absolute_error', #MAE\n",
    "                       #scoring = 'neg_mean_squared_error',  #MSE\n",
    "                       cv = 5,\n",
    "                       n_jobs = -1,\n",
    "                       verbose = 1)\n"
   ]
  },
  {
   "cell_type": "code",
   "execution_count": null,
   "metadata": {
    "ExecuteTime": {
     "end_time": "2020-12-26T15:41:59.746231Z",
     "start_time": "2020-12-26T15:40:12.442Z"
    }
   },
   "outputs": [],
   "source": [
    "# Fit the grid search to the data\n",
    "gsearch.fit(train_features, train_labels)\n",
    "gsearch.best_params_"
   ]
  },
  {
   "cell_type": "code",
   "execution_count": null,
   "metadata": {
    "ExecuteTime": {
     "end_time": "2020-12-26T15:41:59.746231Z",
     "start_time": "2020-12-26T15:40:12.450Z"
    }
   },
   "outputs": [],
   "source": [
    "best_grid = gsearch.best_estimator_\n",
    "grid_accuracy = evaluate(best_grid, test_features, test_labels)"
   ]
  },
  {
   "cell_type": "code",
   "execution_count": null,
   "metadata": {
    "ExecuteTime": {
     "end_time": "2020-12-26T15:41:59.748226Z",
     "start_time": "2020-12-26T15:40:12.458Z"
    }
   },
   "outputs": [],
   "source": [
    "print('Improvement of {:0.2f}%.'.format( 100 * (grid_accuracy - base_accuracy) / base_accuracy))"
   ]
  },
  {
   "cell_type": "code",
   "execution_count": null,
   "metadata": {
    "ExecuteTime": {
     "end_time": "2020-12-26T15:41:59.748226Z",
     "start_time": "2020-12-26T15:40:12.467Z"
    },
    "scrolled": true
   },
   "outputs": [],
   "source": [
    "best_grid"
   ]
  },
  {
   "cell_type": "code",
   "execution_count": null,
   "metadata": {
    "ExecuteTime": {
     "end_time": "2020-12-26T15:41:59.749223Z",
     "start_time": "2020-12-26T15:40:12.477Z"
    }
   },
   "outputs": [],
   "source": [
    "range(1, 1)"
   ]
  },
  {
   "cell_type": "markdown",
   "metadata": {},
   "source": [
    "# XGBoost 3 TORUN!"
   ]
  },
  {
   "cell_type": "code",
   "execution_count": null,
   "metadata": {
    "ExecuteTime": {
     "end_time": "2020-12-26T15:41:59.750221Z",
     "start_time": "2020-12-26T15:40:12.489Z"
    }
   },
   "outputs": [],
   "source": [
    "best % per day:\n",
    "\n",
    "# base_score=0.5, booster='gbtree', colsample_bylevel=1,\n",
    "# colsample_bynode=1, colsample_bytree=0.7, gamma=0, gpu_id=-1,\n",
    "# importance_type='gain', interaction_constraints='',\n",
    "# learning_rate=0.01, max_delta_step=0, max_depth=3,\n",
    "# min_child_weight=1, monotone_constraints='()',\n",
    "# n_estimators=200, n_jobs=0, num_parallel_tree=1,\n",
    "# objective='reg:squarederror', random_state=0, reg_alpha=0,\n",
    "# reg_lambda=1, scale_pos_weight=1, subsample=0.7,\n",
    "# tree_method='exact', validate_parameters=1, verbosity=None)"
   ]
  },
  {
   "cell_type": "code",
   "execution_count": null,
   "metadata": {
    "ExecuteTime": {
     "end_time": "2020-12-26T15:41:59.750221Z",
     "start_time": "2020-12-26T15:40:12.498Z"
    }
   },
   "outputs": [],
   "source": [
    "from xgboost import XGBClassifier\n",
    "\n",
    "#XGBoost hyper-parameter tuning\n",
    "param_tuning = {\n",
    "    'learning_rate': [0.005, 0.01, 0.02],\n",
    "    'max_depth': [2, 3, 4],\n",
    "    'gamma': [0,1,2],\n",
    "    'min_child_weight': [0,1,2],\n",
    "    'subsample': [ 0.6, 0.7, 0.8 ],\n",
    "    'colsample_bytree': [0.6, 0.7, 0.8],\n",
    "    'n_estimators' : [150,200,250],\n",
    "    'objective': ['reg:squarederror']\n",
    "}\n",
    "\n",
    "xgb_model = XGBClassifier()\n",
    "\n",
    "gsearch = GridSearchCV(estimator = xgb_model,\n",
    "                       param_grid = param_tuning,                        \n",
    "                       #scoring = 'neg_mean_absolute_error', #MAE\n",
    "                       #scoring = 'neg_mean_squared_error',  #MSE\n",
    "                       cv = 5,\n",
    "                       n_jobs = -1,\n",
    "                       verbose = 1)"
   ]
  },
  {
   "cell_type": "code",
   "execution_count": null,
   "metadata": {
    "ExecuteTime": {
     "end_time": "2020-12-26T15:41:59.751218Z",
     "start_time": "2020-12-26T15:40:12.506Z"
    }
   },
   "outputs": [],
   "source": [
    "# Fit the grid search to the data\n",
    "gsearch.fit(train_features, train_labels)\n",
    "gsearch.best_params_"
   ]
  },
  {
   "cell_type": "code",
   "execution_count": null,
   "metadata": {
    "ExecuteTime": {
     "end_time": "2020-12-26T15:41:59.752215Z",
     "start_time": "2020-12-26T15:40:12.515Z"
    }
   },
   "outputs": [],
   "source": [
    "best_grid = gsearch.best_estimator_\n",
    "grid_accuracy = evaluate(best_grid, test_features, test_labels)"
   ]
  },
  {
   "cell_type": "code",
   "execution_count": null,
   "metadata": {
    "ExecuteTime": {
     "end_time": "2020-12-26T15:41:59.752215Z",
     "start_time": "2020-12-26T15:40:12.525Z"
    }
   },
   "outputs": [],
   "source": [
    "print('Improvement of {:0.2f}%.'.format( 100 * (grid_accuracy - base_accuracy) / base_accuracy))"
   ]
  },
  {
   "cell_type": "code",
   "execution_count": null,
   "metadata": {
    "ExecuteTime": {
     "end_time": "2020-12-26T15:41:59.753212Z",
     "start_time": "2020-12-26T15:40:12.533Z"
    },
    "scrolled": true
   },
   "outputs": [],
   "source": [
    "best_grid"
   ]
  },
  {
   "cell_type": "code",
   "execution_count": null,
   "metadata": {
    "ExecuteTime": {
     "end_time": "2020-12-26T15:41:59.753212Z",
     "start_time": "2020-12-26T15:40:12.542Z"
    }
   },
   "outputs": [],
   "source": [
    "# Instantiate Classifier Logistic Regression\n",
    "base_score=0.5, booster='gbtree', colsample_bylevel=1,\n",
    "colsample_bynode=1, colsample_bytree=0.7, gamma=0, gpu_id=-1,\n",
    "importance_type='gain', interaction_constraints='',\n",
    "learning_rate=0.01, max_delta_step=0, max_depth=3,\n",
    "min_child_weight=1, monotone_constraints='()',\n",
    "n_estimators=200, n_jobs=0, num_parallel_tree=1,\n",
    "objective='reg:squarederror', random_state=0, reg_alpha=0,\n",
    "reg_lambda=1, scale_pos_weight=1, subsample=0.7,\n",
    "tree_method='exact', validate_parameters=1, verbosity=None)\n"
   ]
  },
  {
   "cell_type": "code",
   "execution_count": null,
   "metadata": {},
   "outputs": [],
   "source": []
  },
  {
   "cell_type": "code",
   "execution_count": null,
   "metadata": {},
   "outputs": [],
   "source": []
  },
  {
   "cell_type": "code",
   "execution_count": null,
   "metadata": {},
   "outputs": [],
   "source": []
  },
  {
   "cell_type": "code",
   "execution_count": null,
   "metadata": {},
   "outputs": [],
   "source": []
  },
  {
   "cell_type": "code",
   "execution_count": null,
   "metadata": {},
   "outputs": [],
   "source": []
  },
  {
   "cell_type": "code",
   "execution_count": null,
   "metadata": {},
   "outputs": [],
   "source": []
  },
  {
   "cell_type": "code",
   "execution_count": null,
   "metadata": {
    "ExecuteTime": {
     "end_time": "2020-12-26T15:41:59.754270Z",
     "start_time": "2020-12-26T15:40:12.580Z"
    }
   },
   "outputs": [],
   "source": [
    "\n",
    "\n",
    "# Train Classifier\n",
    "lreg.fit(X_train_scaled, y_train)\n",
    "\n",
    "# Prediction of Classes\n",
    "y_pred = lreg.predict(X_test_scaled)\n",
    "\n",
    "# Display Confusion Matrix and Classification Report\n",
    "print(confusion_matrix(y_test, y_pred))\n",
    "#     print(classification_report(y_test, y_pred))\n",
    "\n",
    "# Prediction of Probabilities\n",
    "y_pred_prob = lreg.predict_proba(X_test_scaled)[:, 1]\n",
    "\n",
    "# Create Data Frame of Actual Values - y_test\n",
    "df_y_test = pd.DataFrame(y_test)\n",
    "\n",
    "# Add Predicted Probabilities to Data Frame\n",
    "df_y_test[\"y_pred_prob\"] = y_pred_prob\n",
    "\n",
    "# Add Predicted Classes (0 or 1) to Data Frame to Cross-Check Predicted Probabilities\n",
    "df_y_test[\"y_pred\"] = y_pred"
   ]
  },
  {
   "cell_type": "code",
   "execution_count": null,
   "metadata": {
    "ExecuteTime": {
     "end_time": "2020-12-26T15:41:59.755206Z",
     "start_time": "2020-12-26T15:40:12.590Z"
    }
   },
   "outputs": [],
   "source": [
    "df_y_test=df_y_test.sort_index()\n",
    "df_y_test"
   ]
  },
  {
   "cell_type": "code",
   "execution_count": null,
   "metadata": {
    "ExecuteTime": {
     "end_time": "2020-12-26T15:41:59.755206Z",
     "start_time": "2020-12-26T15:40:12.598Z"
    }
   },
   "outputs": [],
   "source": [
    "df_y_test[df_y_test['Class']!=df_y_test['y_pred']]"
   ]
  },
  {
   "cell_type": "code",
   "execution_count": null,
   "metadata": {
    "ExecuteTime": {
     "end_time": "2020-12-26T15:41:59.756204Z",
     "start_time": "2020-12-26T15:40:12.607Z"
    }
   },
   "outputs": [],
   "source": [
    "df_y_test[df_y_test['Class']==df_y_test['y_pred']]"
   ]
  },
  {
   "cell_type": "code",
   "execution_count": null,
   "metadata": {
    "ExecuteTime": {
     "end_time": "2020-12-26T15:41:59.756681Z",
     "start_time": "2020-12-26T15:40:12.616Z"
    }
   },
   "outputs": [],
   "source": [
    "import plotly.graph_objects as go\n",
    "\n",
    "# Create traces\n",
    "fig = go.Figure()\n",
    "fig.add_trace(go.Scatter(x=df_y_test.index, y=df_y_test['Class'],\n",
    "                    mode='lines+markers',\n",
    "                    name='Class - reality'))\n",
    "fig.add_trace(go.Scatter(x=df_y_test.index, y=df_y_test['y_pred_prob'],\n",
    "                    mode='lines+markers',\n",
    "                    name='y_pred'))\n",
    "fig.show()\n"
   ]
  },
  {
   "cell_type": "code",
   "execution_count": null,
   "metadata": {
    "ExecuteTime": {
     "end_time": "2020-12-26T15:41:59.757201Z",
     "start_time": "2020-12-26T15:40:12.625Z"
    }
   },
   "outputs": [],
   "source": [
    "# Select Actual Daily Returns in USD from the Data Set Copy\n",
    "df_dataset1_copy_dailyreturns = df_dataset1_copy[['Daily Return in USD']]\n",
    "\n",
    "# # Merge Predictions and Daily Returns Data Frame on the Column \"Date\"\n",
    "# df_y_test_withdailyreturns = pd.merge(\n",
    "#     df_y_test, df_dataset1_copy_dailyreturns, on='Date')\n",
    "\n",
    "# df_dataset1_copy_percentage = df_dataset1_copy[['percentage_daily_return']]\n",
    "# df_y_test_withdailyreturns = pd.merge(\n",
    "#     df_y_test_withdailyreturns, df_dataset1_copy_percentage, on='Date')\n",
    "\n",
    "# # Add Bitcoin Price in USD\n",
    "# df_y_test_withdailyreturns = pd.merge(\n",
    "#     df_y_test_withdailyreturns, df_dataset1['market/price_usd_close'], on='Date')\n",
    "\n",
    "# df_y_test_withdailyreturns['y_pred_prob_bereinigt'] = np.where(\n",
    "#     df_y_test_withdailyreturns['y_pred_prob'] < 0.5, 1-df_y_test_withdailyreturns['y_pred_prob'], df_y_test_withdailyreturns['y_pred_prob'])\n",
    "\n",
    "# df_y_test_withdailyreturns[\"Einsatz\"] = einsatz * \\\n",
    "#     df_y_test_withdailyreturns[\"y_pred_prob_bereinigt\"]  # **2\n"
   ]
  },
  {
   "cell_type": "code",
   "execution_count": null,
   "metadata": {},
   "outputs": [],
   "source": []
  },
  {
   "cell_type": "code",
   "execution_count": null,
   "metadata": {},
   "outputs": [],
   "source": []
  },
  {
   "cell_type": "markdown",
   "metadata": {},
   "source": [
    "## Feature Scaling - Data Set I."
   ]
  },
  {
   "cell_type": "code",
   "execution_count": null,
   "metadata": {
    "ExecuteTime": {
     "end_time": "2020-12-26T15:41:59.758199Z",
     "start_time": "2020-12-26T15:40:12.644Z"
    }
   },
   "outputs": [],
   "source": [
    "# Instantiation of MinMaxScaler and StandardSacler\n",
    "norm_scaler = MinMaxScaler()\n",
    "#std_scaler = StandardScaler()"
   ]
  },
  {
   "cell_type": "code",
   "execution_count": null,
   "metadata": {
    "ExecuteTime": {
     "end_time": "2020-12-26T15:41:59.758199Z",
     "start_time": "2020-12-26T15:40:12.651Z"
    }
   },
   "outputs": [],
   "source": [
    "# Scaler Training and Transformation of Training Set\n",
    "X_train_scaled = pd.DataFrame(norm_scaler.fit_transform(X_train))"
   ]
  },
  {
   "cell_type": "code",
   "execution_count": null,
   "metadata": {
    "ExecuteTime": {
     "end_time": "2020-12-26T15:41:59.759196Z",
     "start_time": "2020-12-26T15:40:12.658Z"
    }
   },
   "outputs": [],
   "source": [
    "# Scaler Transformation of Test Set\n",
    "X_test_scaled = norm_scaler.transform(X_test)"
   ]
  },
  {
   "cell_type": "code",
   "execution_count": null,
   "metadata": {
    "ExecuteTime": {
     "end_time": "2020-12-26T15:41:59.759196Z",
     "start_time": "2020-12-26T15:40:12.665Z"
    }
   },
   "outputs": [],
   "source": [
    "# Scaled Test Features\n",
    "X_test_scaled"
   ]
  },
  {
   "cell_type": "code",
   "execution_count": null,
   "metadata": {
    "ExecuteTime": {
     "end_time": "2020-12-26T15:41:59.760193Z",
     "start_time": "2020-12-26T15:40:12.672Z"
    }
   },
   "outputs": [],
   "source": [
    "# Scaler Transformation of Entire Training Set - Input for Cross-Validation\n",
    "predictors_scaled = norm_scaler.transform(predictors)"
   ]
  },
  {
   "cell_type": "markdown",
   "metadata": {},
   "source": [
    "# Classification Models - Data Set I."
   ]
  },
  {
   "cell_type": "code",
   "execution_count": null,
   "metadata": {
    "ExecuteTime": {
     "end_time": "2020-12-26T15:41:59.761191Z",
     "start_time": "2020-12-26T15:40:12.681Z"
    }
   },
   "outputs": [],
   "source": [
    "# Function To Show Accuracy Mean and Accuracy Standard Deviation\n",
    "def show_scores(scores):\n",
    "    # Scores Series\n",
    "    print('Scores:', scores)\n",
    "    # Score Mean\n",
    "    print('Mean:', np.mean(scores))\n",
    "    # Score Standard Deviation\n",
    "    print('Standard Deviation:', np.std(scores))"
   ]
  },
  {
   "cell_type": "markdown",
   "metadata": {},
   "source": [
    "## Logistic Regression - Data Set I."
   ]
  },
  {
   "cell_type": "code",
   "execution_count": null,
   "metadata": {
    "ExecuteTime": {
     "end_time": "2020-12-26T15:41:59.761191Z",
     "start_time": "2020-12-26T15:40:12.691Z"
    }
   },
   "outputs": [],
   "source": [
    "# Instantiate Classifier - LogisticRegression\n",
    "lreg = LogisticRegression(max_iter=1200)"
   ]
  },
  {
   "cell_type": "code",
   "execution_count": null,
   "metadata": {
    "ExecuteTime": {
     "end_time": "2020-12-26T15:41:59.762188Z",
     "start_time": "2020-12-26T15:40:12.697Z"
    }
   },
   "outputs": [],
   "source": [
    "# Train Classifier\n",
    "lreg.fit(X_train_scaled, y_train)"
   ]
  },
  {
   "cell_type": "code",
   "execution_count": null,
   "metadata": {
    "ExecuteTime": {
     "end_time": "2020-12-26T15:41:59.762188Z",
     "start_time": "2020-12-26T15:40:12.704Z"
    }
   },
   "outputs": [],
   "source": [
    "# Prediction of Classes\n",
    "y_pred = lreg.predict(X_test_scaled)"
   ]
  },
  {
   "cell_type": "code",
   "execution_count": null,
   "metadata": {
    "ExecuteTime": {
     "end_time": "2020-12-26T15:41:59.763185Z",
     "start_time": "2020-12-26T15:40:12.712Z"
    }
   },
   "outputs": [],
   "source": [
    "# Prediction of Probabilities\n",
    "y_pred_prob = lreg.predict_proba(X_test_scaled)[:,1]"
   ]
  },
  {
   "cell_type": "code",
   "execution_count": null,
   "metadata": {
    "ExecuteTime": {
     "end_time": "2020-12-26T15:41:59.764183Z",
     "start_time": "2020-12-26T15:40:12.719Z"
    }
   },
   "outputs": [],
   "source": [
    "# Select Predicted Probabilities\n",
    "y_pred_prob[1:11]"
   ]
  },
  {
   "cell_type": "code",
   "execution_count": null,
   "metadata": {
    "ExecuteTime": {
     "end_time": "2020-12-26T15:41:59.764183Z",
     "start_time": "2020-12-26T15:40:12.727Z"
    }
   },
   "outputs": [],
   "source": [
    "# Select Actual Classes\n",
    "np.array(y_test[1:11])"
   ]
  },
  {
   "cell_type": "code",
   "execution_count": null,
   "metadata": {
    "ExecuteTime": {
     "end_time": "2020-12-26T15:41:59.765180Z",
     "start_time": "2020-12-26T15:40:12.736Z"
    }
   },
   "outputs": [],
   "source": [
    "# Train Accuracy\n",
    "lreg.score(X_train_scaled, y_train)"
   ]
  },
  {
   "cell_type": "code",
   "execution_count": null,
   "metadata": {
    "ExecuteTime": {
     "end_time": "2020-12-26T15:41:59.766178Z",
     "start_time": "2020-12-26T15:40:12.744Z"
    }
   },
   "outputs": [],
   "source": [
    "# Test Accuracy\n",
    "lreg.score(X_test_scaled, y_test)"
   ]
  },
  {
   "cell_type": "code",
   "execution_count": null,
   "metadata": {
    "ExecuteTime": {
     "end_time": "2020-12-26T15:41:59.767175Z",
     "start_time": "2020-12-26T15:40:12.752Z"
    }
   },
   "outputs": [],
   "source": [
    "# Output of Confusion Matrix\n",
    "print(confusion_matrix(y_test, y_pred))"
   ]
  },
  {
   "cell_type": "code",
   "execution_count": null,
   "metadata": {
    "ExecuteTime": {
     "end_time": "2020-12-26T15:41:59.767175Z",
     "start_time": "2020-12-26T15:40:12.761Z"
    }
   },
   "outputs": [],
   "source": [
    "# Output of Classification Report\n",
    "print(classification_report(y_test, y_pred))"
   ]
  },
  {
   "cell_type": "code",
   "execution_count": null,
   "metadata": {
    "ExecuteTime": {
     "end_time": "2020-12-26T15:41:59.768172Z",
     "start_time": "2020-12-26T15:40:12.770Z"
    }
   },
   "outputs": [],
   "source": [
    "# Generate ROC curve values: fpr, tpr, thresholds\n",
    "fpr, tpr, thresholds = roc_curve(y_test, y_pred_prob)"
   ]
  },
  {
   "cell_type": "code",
   "execution_count": null,
   "metadata": {
    "ExecuteTime": {
     "end_time": "2020-12-26T15:41:59.768172Z",
     "start_time": "2020-12-26T15:40:12.778Z"
    }
   },
   "outputs": [],
   "source": [
    "# 10-fold Cross Validation including Stratification\n",
    "skf = StratifiedKFold(shuffle=True, n_splits=10)"
   ]
  },
  {
   "cell_type": "code",
   "execution_count": null,
   "metadata": {
    "ExecuteTime": {
     "end_time": "2020-12-26T15:41:59.769169Z",
     "start_time": "2020-12-26T15:40:12.786Z"
    }
   },
   "outputs": [],
   "source": [
    "# Compute and print AUC Score\n",
    "print(\"AUC: {}\".format(roc_auc_score(y_test, y_pred_prob)))"
   ]
  },
  {
   "cell_type": "code",
   "execution_count": null,
   "metadata": {
    "ExecuteTime": {
     "end_time": "2020-12-26T15:41:59.770167Z",
     "start_time": "2020-12-26T15:40:12.794Z"
    }
   },
   "outputs": [],
   "source": [
    "# Cross-Validation for AUC scores\n",
    "cv_auc = cross_val_score(lreg, predictors_scaled, target, cv=skf, scoring='roc_auc')"
   ]
  },
  {
   "cell_type": "code",
   "execution_count": null,
   "metadata": {
    "ExecuteTime": {
     "end_time": "2020-12-26T15:41:59.771164Z",
     "start_time": "2020-12-26T15:40:12.803Z"
    }
   },
   "outputs": [],
   "source": [
    "# Print List of AUC scores\n",
    "print(\"AUC scores computed using 10-fold cross-validation: {}\".format(cv_auc))"
   ]
  },
  {
   "cell_type": "code",
   "execution_count": null,
   "metadata": {
    "ExecuteTime": {
     "end_time": "2020-12-26T15:41:59.771164Z",
     "start_time": "2020-12-26T15:40:12.811Z"
    }
   },
   "outputs": [],
   "source": [
    "# Cross-Validation for Accuracy Scores\n",
    "cv_acc = cross_val_score(lreg, predictors_scaled, target, cv=skf, scoring='accuracy')"
   ]
  },
  {
   "cell_type": "code",
   "execution_count": null,
   "metadata": {
    "ExecuteTime": {
     "end_time": "2020-12-26T15:41:59.772162Z",
     "start_time": "2020-12-26T15:40:12.819Z"
    }
   },
   "outputs": [],
   "source": [
    "# Print List of Accuracy Scores\n",
    "print(\"Accuracy scores computed using 10-fold cross-validation: {}\".format(cv_acc))"
   ]
  },
  {
   "cell_type": "code",
   "execution_count": null,
   "metadata": {
    "ExecuteTime": {
     "end_time": "2020-12-26T15:41:59.773159Z",
     "start_time": "2020-12-26T15:40:12.828Z"
    }
   },
   "outputs": [],
   "source": [
    "# Accuracy Results - Mean and Standard Deviation\n",
    "show_scores(cv_acc)"
   ]
  },
  {
   "cell_type": "markdown",
   "metadata": {},
   "source": [
    "## Random Forest Classifier - Data Set I."
   ]
  },
  {
   "cell_type": "code",
   "execution_count": null,
   "metadata": {
    "ExecuteTime": {
     "end_time": "2020-12-26T15:41:59.774156Z",
     "start_time": "2020-12-26T15:40:12.839Z"
    }
   },
   "outputs": [],
   "source": [
    "# Instantiate Classifier - Random Forest\n",
    "rfc = RandomForestClassifier(n_estimators=100, max_leaf_nodes=None, criterion='gini', max_depth=3, random_state=41)"
   ]
  },
  {
   "cell_type": "code",
   "execution_count": null,
   "metadata": {
    "ExecuteTime": {
     "end_time": "2020-12-26T15:41:59.774156Z",
     "start_time": "2020-12-26T15:40:12.847Z"
    }
   },
   "outputs": [],
   "source": [
    "# Train Classifier\n",
    "rfc.fit(X_train_scaled, y_train)"
   ]
  },
  {
   "cell_type": "code",
   "execution_count": null,
   "metadata": {
    "ExecuteTime": {
     "end_time": "2020-12-26T15:41:59.775154Z",
     "start_time": "2020-12-26T15:40:12.856Z"
    }
   },
   "outputs": [],
   "source": [
    "# Prediction of Classes\n",
    "y_pred = rfc.predict(X_test_scaled)"
   ]
  },
  {
   "cell_type": "code",
   "execution_count": null,
   "metadata": {
    "ExecuteTime": {
     "end_time": "2020-12-26T15:41:59.776151Z",
     "start_time": "2020-12-26T15:40:12.865Z"
    }
   },
   "outputs": [],
   "source": [
    "# Prediction of Probabilities\n",
    "y_pred_prob = rfc.predict_proba(X_test_scaled)[:,1]"
   ]
  },
  {
   "cell_type": "code",
   "execution_count": null,
   "metadata": {
    "ExecuteTime": {
     "end_time": "2020-12-26T15:41:59.776151Z",
     "start_time": "2020-12-26T15:40:12.873Z"
    }
   },
   "outputs": [],
   "source": [
    "# Select Predicted Probabilities\n",
    "y_pred_prob[1:11]"
   ]
  },
  {
   "cell_type": "code",
   "execution_count": null,
   "metadata": {
    "ExecuteTime": {
     "end_time": "2020-12-26T15:41:59.777181Z",
     "start_time": "2020-12-26T15:40:12.882Z"
    }
   },
   "outputs": [],
   "source": [
    "# Train Accuracy\n",
    "rfc.score(X_train_scaled, y_train)"
   ]
  },
  {
   "cell_type": "code",
   "execution_count": null,
   "metadata": {
    "ExecuteTime": {
     "end_time": "2020-12-26T15:41:59.777181Z",
     "start_time": "2020-12-26T15:40:12.891Z"
    }
   },
   "outputs": [],
   "source": [
    "# Test Accuracy\n",
    "rfc.score(X_test_scaled, y_test)"
   ]
  },
  {
   "cell_type": "code",
   "execution_count": null,
   "metadata": {
    "ExecuteTime": {
     "end_time": "2020-12-26T15:41:59.778146Z",
     "start_time": "2020-12-26T15:40:12.900Z"
    }
   },
   "outputs": [],
   "source": [
    "# Output of Confusion Matrix\n",
    "print(confusion_matrix(y_test, y_pred))"
   ]
  },
  {
   "cell_type": "code",
   "execution_count": null,
   "metadata": {
    "ExecuteTime": {
     "end_time": "2020-12-26T15:41:59.779156Z",
     "start_time": "2020-12-26T15:40:12.910Z"
    }
   },
   "outputs": [],
   "source": [
    "# Output of Classification Report\n",
    "print(classification_report(y_test, y_pred))"
   ]
  },
  {
   "cell_type": "code",
   "execution_count": null,
   "metadata": {
    "ExecuteTime": {
     "end_time": "2020-12-26T15:41:59.779156Z",
     "start_time": "2020-12-26T15:40:12.918Z"
    }
   },
   "outputs": [],
   "source": [
    "# Generate ROC curve values: fpr, tpr, thresholds\n",
    "fpr, tpr, thresholds = roc_curve(y_test, y_pred_prob)"
   ]
  },
  {
   "cell_type": "code",
   "execution_count": null,
   "metadata": {
    "ExecuteTime": {
     "end_time": "2020-12-26T15:41:59.780140Z",
     "start_time": "2020-12-26T15:40:12.927Z"
    }
   },
   "outputs": [],
   "source": [
    "# 10-fold Cross Validation including Stratification\n",
    "skf = StratifiedKFold(shuffle=True, n_splits=10)"
   ]
  },
  {
   "cell_type": "code",
   "execution_count": null,
   "metadata": {
    "ExecuteTime": {
     "end_time": "2020-12-26T15:41:59.781177Z",
     "start_time": "2020-12-26T15:40:12.936Z"
    }
   },
   "outputs": [],
   "source": [
    "# Compute and print AUC score\n",
    "print(\"AUC: {}\".format(roc_auc_score(y_test, y_pred_prob)))"
   ]
  },
  {
   "cell_type": "code",
   "execution_count": null,
   "metadata": {
    "ExecuteTime": {
     "end_time": "2020-12-26T15:41:59.782135Z",
     "start_time": "2020-12-26T15:40:12.944Z"
    }
   },
   "outputs": [],
   "source": [
    "# Cross-Validation for AUC scores\n",
    "cv_auc = cross_val_score(rfc, predictors_scaled, target, cv=skf, scoring='roc_auc')"
   ]
  },
  {
   "cell_type": "code",
   "execution_count": null,
   "metadata": {
    "ExecuteTime": {
     "end_time": "2020-12-26T15:41:59.783132Z",
     "start_time": "2020-12-26T15:40:12.952Z"
    }
   },
   "outputs": [],
   "source": [
    "# Print List of AUC scores\n",
    "print(\"AUC scores computed using 10-fold cross-validation: {}\".format(cv_auc))"
   ]
  },
  {
   "cell_type": "code",
   "execution_count": null,
   "metadata": {
    "ExecuteTime": {
     "end_time": "2020-12-26T15:41:59.783132Z",
     "start_time": "2020-12-26T15:40:12.961Z"
    }
   },
   "outputs": [],
   "source": [
    "# Cross-Validation for Accuracy Scores\n",
    "cv_acc = cross_val_score(rfc, predictors_scaled, target, cv=skf, scoring='accuracy')"
   ]
  },
  {
   "cell_type": "code",
   "execution_count": null,
   "metadata": {
    "ExecuteTime": {
     "end_time": "2020-12-26T15:41:59.784130Z",
     "start_time": "2020-12-26T15:40:12.970Z"
    }
   },
   "outputs": [],
   "source": [
    "# Print List of Accuracy Scores\n",
    "print(\"Accuracy scores computed using 10-fold cross-validation: {}\".format(cv_acc))"
   ]
  },
  {
   "cell_type": "code",
   "execution_count": null,
   "metadata": {
    "ExecuteTime": {
     "end_time": "2020-12-26T15:41:59.785127Z",
     "start_time": "2020-12-26T15:40:12.978Z"
    }
   },
   "outputs": [],
   "source": [
    "# Accuracy Results - Mean and Standard Deviation\n",
    "show_scores(cv_acc)"
   ]
  }
 ],
 "metadata": {
  "kernelspec": {
   "display_name": "Python 3",
   "language": "python",
   "name": "python3"
  },
  "language_info": {
   "codemirror_mode": {
    "name": "ipython",
    "version": 3
   },
   "file_extension": ".py",
   "mimetype": "text/x-python",
   "name": "python",
   "nbconvert_exporter": "python",
   "pygments_lexer": "ipython3",
   "version": "3.8.5"
  },
  "toc": {
   "base_numbering": 1,
   "nav_menu": {},
   "number_sections": true,
   "sideBar": true,
   "skip_h1_title": false,
   "title_cell": "Table of Contents",
   "title_sidebar": "Contents",
   "toc_cell": true,
   "toc_position": {},
   "toc_section_display": true,
   "toc_window_display": true
  },
  "toc-autonumbering": true,
  "toc-showtags": false,
  "varInspector": {
   "cols": {
    "lenName": 16,
    "lenType": 16,
    "lenVar": 40
   },
   "kernels_config": {
    "python": {
     "delete_cmd_postfix": "",
     "delete_cmd_prefix": "del ",
     "library": "var_list.py",
     "varRefreshCmd": "print(var_dic_list())"
    },
    "r": {
     "delete_cmd_postfix": ") ",
     "delete_cmd_prefix": "rm(",
     "library": "var_list.r",
     "varRefreshCmd": "cat(var_dic_list()) "
    }
   },
   "types_to_exclude": [
    "module",
    "function",
    "builtin_function_or_method",
    "instance",
    "_Feature"
   ],
   "window_display": false
  }
 },
 "nbformat": 4,
 "nbformat_minor": 4
}
