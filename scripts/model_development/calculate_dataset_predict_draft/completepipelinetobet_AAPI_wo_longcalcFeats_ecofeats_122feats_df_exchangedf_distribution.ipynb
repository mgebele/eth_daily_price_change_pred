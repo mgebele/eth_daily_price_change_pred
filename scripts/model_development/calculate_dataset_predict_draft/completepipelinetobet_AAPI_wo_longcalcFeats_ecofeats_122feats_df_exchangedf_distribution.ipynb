{
 "cells": [
  {
   "cell_type": "markdown",
   "metadata": {
    "toc": true
   },
   "source": [
    "<h1>Table of Contents<span class=\"tocSkip\"></span></h1>\n",
    "<div class=\"toc\"><ul class=\"toc-item\"><li><span><a href=\"#Data-Preprocessing\" data-toc-modified-id=\"Data-Preprocessing-1\"><span class=\"toc-item-num\">1&nbsp;&nbsp;</span>Data Preprocessing</a></span><ul class=\"toc-item\"><li><span><a href=\"#Data-Import-via-Application-Programming-Interfaces\" data-toc-modified-id=\"Data-Import-via-Application-Programming-Interfaces-1.1\"><span class=\"toc-item-num\">1.1&nbsp;&nbsp;</span>Data Import via Application Programming Interfaces</a></span><ul class=\"toc-item\"><li><span><a href=\"#Blockchain-Data-from-Glassnode\" data-toc-modified-id=\"Blockchain-Data-from-Glassnode-1.1.1\"><span class=\"toc-item-num\">1.1.1&nbsp;&nbsp;</span>Blockchain Data from Glassnode</a></span><ul class=\"toc-item\"><li><span><a href=\"#Market-Metrics-from-Glassnode\" data-toc-modified-id=\"Market-Metrics-from-Glassnode-1.1.1.1\"><span class=\"toc-item-num\">1.1.1.1&nbsp;&nbsp;</span>Market Metrics from Glassnode</a></span></li><li><span><a href=\"#Mining-Metrics-from-Glassnode\" data-toc-modified-id=\"Mining-Metrics-from-Glassnode-1.1.1.2\"><span class=\"toc-item-num\">1.1.1.2&nbsp;&nbsp;</span>Mining Metrics from Glassnode</a></span></li><li><span><a href=\"#Blocks-Metrics-from-Glassnode\" data-toc-modified-id=\"Blocks-Metrics-from-Glassnode-1.1.1.3\"><span class=\"toc-item-num\">1.1.1.3&nbsp;&nbsp;</span>Blocks Metrics from Glassnode</a></span></li><li><span><a href=\"#Distribution-Metrics-from-Glassnode\" data-toc-modified-id=\"Distribution-Metrics-from-Glassnode-1.1.1.4\"><span class=\"toc-item-num\">1.1.1.4&nbsp;&nbsp;</span>Distribution Metrics from Glassnode</a></span></li><li><span><a href=\"#Fee-Metrics-from-Glassnode\" data-toc-modified-id=\"Fee-Metrics-from-Glassnode-1.1.1.5\"><span class=\"toc-item-num\">1.1.1.5&nbsp;&nbsp;</span>Fee Metrics from Glassnode</a></span></li><li><span><a href=\"#UTXO-Metrics-from-Glassnode\" data-toc-modified-id=\"UTXO-Metrics-from-Glassnode-1.1.1.6\"><span class=\"toc-item-num\">1.1.1.6&nbsp;&nbsp;</span>UTXO Metrics from Glassnode</a></span></li><li><span><a href=\"#Supply-Metrics-from-Glassnode\" data-toc-modified-id=\"Supply-Metrics-from-Glassnode-1.1.1.7\"><span class=\"toc-item-num\">1.1.1.7&nbsp;&nbsp;</span>Supply Metrics from Glassnode</a></span></li><li><span><a href=\"#Transaction-Metrics-from-Glassnode\" data-toc-modified-id=\"Transaction-Metrics-from-Glassnode-1.1.1.8\"><span class=\"toc-item-num\">1.1.1.8&nbsp;&nbsp;</span>Transaction Metrics from Glassnode</a></span></li><li><span><a href=\"#Exchange-Metrics-from-Glassnode---1-Month-Lag\" data-toc-modified-id=\"Exchange-Metrics-from-Glassnode---1-Month-Lag-1.1.1.9\"><span class=\"toc-item-num\">1.1.1.9&nbsp;&nbsp;</span>Exchange Metrics from Glassnode - 1 Month Lag</a></span></li><li><span><a href=\"#Indicator-I-Metrics-from-Glassnode\" data-toc-modified-id=\"Indicator-I-Metrics-from-Glassnode-1.1.1.10\"><span class=\"toc-item-num\">1.1.1.10&nbsp;&nbsp;</span>Indicator-I Metrics from Glassnode</a></span></li><li><span><a href=\"#Indicator-2-Metrics-from-Glassnode\" data-toc-modified-id=\"Indicator-2-Metrics-from-Glassnode-1.1.1.11\"><span class=\"toc-item-num\">1.1.1.11&nbsp;&nbsp;</span>Indicator-2 Metrics from Glassnode</a></span></li><li><span><a href=\"#Indicator-3-Metrics-from-Glassnode\" data-toc-modified-id=\"Indicator-3-Metrics-from-Glassnode-1.1.1.12\"><span class=\"toc-item-num\">1.1.1.12&nbsp;&nbsp;</span>Indicator-3 Metrics from Glassnode</a></span></li><li><span><a href=\"#Addresses-Metrics-from-Glassnode\" data-toc-modified-id=\"Addresses-Metrics-from-Glassnode-1.1.1.13\"><span class=\"toc-item-num\">1.1.1.13&nbsp;&nbsp;</span>Addresses Metrics from Glassnode</a></span></li><li><span><a href=\"#Futures-Metrics-from-Glassnode---Excluded-as-Data-Available-Only-Since-Feb-2020\" data-toc-modified-id=\"Futures-Metrics-from-Glassnode---Excluded-as-Data-Available-Only-Since-Feb-2020-1.1.1.14\"><span class=\"toc-item-num\">1.1.1.14&nbsp;&nbsp;</span>Futures Metrics from Glassnode - Excluded as Data Available Only Since Feb 2020</a></span><ul class=\"toc-item\"><li><span><a href=\"#List-of-Futures-Features\" data-toc-modified-id=\"List-of-Futures-Features-1.1.1.14.1\"><span class=\"toc-item-num\">1.1.1.14.1&nbsp;&nbsp;</span>List of Futures Features</a></span></li><li><span><a href=\"#Data-Frame-of-Future-features\" data-toc-modified-id=\"Data-Frame-of-Future-features-1.1.1.14.2\"><span class=\"toc-item-num\">1.1.1.14.2&nbsp;&nbsp;</span>Data Frame of Future features</a></span></li></ul></li></ul></li></ul></li><li><span><a href=\"#File-Import-and-Data-Tidying\" data-toc-modified-id=\"File-Import-and-Data-Tidying-1.2\"><span class=\"toc-item-num\">1.2&nbsp;&nbsp;</span>File Import and Data Tidying</a></span><ul class=\"toc-item\"><li><span><a href=\"#Import-Blockchain-CSV-Files\" data-toc-modified-id=\"Import-Blockchain-CSV-Files-1.2.1\"><span class=\"toc-item-num\">1.2.1&nbsp;&nbsp;</span>Import Blockchain CSV-Files</a></span><ul class=\"toc-item\"><li><span><a href=\"#Market-Metric-CSV-Files\" data-toc-modified-id=\"Market-Metric-CSV-Files-1.2.1.1\"><span class=\"toc-item-num\">1.2.1.1&nbsp;&nbsp;</span>Market Metric CSV-Files</a></span></li><li><span><a href=\"#Mining-Metric-CSV-Files\" data-toc-modified-id=\"Mining-Metric-CSV-Files-1.2.1.2\"><span class=\"toc-item-num\">1.2.1.2&nbsp;&nbsp;</span>Mining Metric CSV-Files</a></span></li><li><span><a href=\"#Blocks-Metric-CSV-Files\" data-toc-modified-id=\"Blocks-Metric-CSV-Files-1.2.1.3\"><span class=\"toc-item-num\">1.2.1.3&nbsp;&nbsp;</span>Blocks Metric CSV-Files</a></span></li><li><span><a href=\"#Distribution-Metric-CSV-Files\" data-toc-modified-id=\"Distribution-Metric-CSV-Files-1.2.1.4\"><span class=\"toc-item-num\">1.2.1.4&nbsp;&nbsp;</span>Distribution Metric CSV-Files</a></span></li><li><span><a href=\"#Fee-Metric-CSV-Files\" data-toc-modified-id=\"Fee-Metric-CSV-Files-1.2.1.5\"><span class=\"toc-item-num\">1.2.1.5&nbsp;&nbsp;</span>Fee Metric CSV-Files</a></span></li><li><span><a href=\"#UTXO-Metric-CSV-Files\" data-toc-modified-id=\"UTXO-Metric-CSV-Files-1.2.1.6\"><span class=\"toc-item-num\">1.2.1.6&nbsp;&nbsp;</span>UTXO Metric CSV-Files</a></span></li><li><span><a href=\"#Supply-Metric-CSV-Files\" data-toc-modified-id=\"Supply-Metric-CSV-Files-1.2.1.7\"><span class=\"toc-item-num\">1.2.1.7&nbsp;&nbsp;</span>Supply Metric CSV-Files</a></span></li><li><span><a href=\"#Transaction-Metric-CSV-Files\" data-toc-modified-id=\"Transaction-Metric-CSV-Files-1.2.1.8\"><span class=\"toc-item-num\">1.2.1.8&nbsp;&nbsp;</span>Transaction Metric CSV-Files</a></span></li><li><span><a href=\"#Exchange-Metrics-CSV-Files\" data-toc-modified-id=\"Exchange-Metrics-CSV-Files-1.2.1.9\"><span class=\"toc-item-num\">1.2.1.9&nbsp;&nbsp;</span>Exchange Metrics CSV-Files</a></span></li><li><span><a href=\"#Indicator-1-Metric-CSV-Files\" data-toc-modified-id=\"Indicator-1-Metric-CSV-Files-1.2.1.10\"><span class=\"toc-item-num\">1.2.1.10&nbsp;&nbsp;</span>Indicator-1 Metric CSV-Files</a></span></li><li><span><a href=\"#Indicator-2-Metrics-CSV-Files\" data-toc-modified-id=\"Indicator-2-Metrics-CSV-Files-1.2.1.11\"><span class=\"toc-item-num\">1.2.1.11&nbsp;&nbsp;</span>Indicator-2 Metrics CSV-Files</a></span></li><li><span><a href=\"#Indicator-3-Metrics-CSV-Files\" data-toc-modified-id=\"Indicator-3-Metrics-CSV-Files-1.2.1.12\"><span class=\"toc-item-num\">1.2.1.12&nbsp;&nbsp;</span>Indicator-3 Metrics CSV-Files</a></span></li><li><span><a href=\"#Addresses-Metric-CSV-Files\" data-toc-modified-id=\"Addresses-Metric-CSV-Files-1.2.1.13\"><span class=\"toc-item-num\">1.2.1.13&nbsp;&nbsp;</span>Addresses Metric CSV-Files</a></span></li><li><span><a href=\"#Futures-Metrics-CSV-Files---Excluded-as-Data-Available-Only-Since-Feb-2020\" data-toc-modified-id=\"Futures-Metrics-CSV-Files---Excluded-as-Data-Available-Only-Since-Feb-2020-1.2.1.14\"><span class=\"toc-item-num\">1.2.1.14&nbsp;&nbsp;</span>Futures Metrics CSV-Files - Excluded as Data Available Only Since Feb 2020</a></span><ul class=\"toc-item\"><li><span><a href=\"#List-of-Future-Features\" data-toc-modified-id=\"List-of-Future-Features-1.2.1.14.1\"><span class=\"toc-item-num\">1.2.1.14.1&nbsp;&nbsp;</span>List of Future Features</a></span></li><li><span><a href=\"#Counter-to-Differentiate-between-Data-Frame-Setup-and-Data-Frame-Extension\" data-toc-modified-id=\"Counter-to-Differentiate-between-Data-Frame-Setup-and-Data-Frame-Extension-1.2.1.14.2\"><span class=\"toc-item-num\">1.2.1.14.2&nbsp;&nbsp;</span>Counter to Differentiate between Data Frame Setup and Data Frame Extension</a></span></li><li><span><a href=\"#For-Loop-through-all-Features-in-the-List\" data-toc-modified-id=\"For-Loop-through-all-Features-in-the-List-1.2.1.14.3\"><span class=\"toc-item-num\">1.2.1.14.3&nbsp;&nbsp;</span>For Loop through all Features in the List</a></span></li><li><span><a href=\"#Store-Data-Frame-Copy-in-Market-Data-Frame\" data-toc-modified-id=\"Store-Data-Frame-Copy-in-Market-Data-Frame-1.2.1.14.4\"><span class=\"toc-item-num\">1.2.1.14.4&nbsp;&nbsp;</span>Store Data Frame Copy in Market Data Frame</a></span></li><li><span><a href=\"#Delete-Original-Data-Frame\" data-toc-modified-id=\"Delete-Original-Data-Frame-1.2.1.14.5\"><span class=\"toc-item-num\">1.2.1.14.5&nbsp;&nbsp;</span>Delete Original Data Frame</a></span></li><li><span><a href=\"#Change-Data-Type-of-Columns-to-Float\" data-toc-modified-id=\"Change-Data-Type-of-Columns-to-Float-1.2.1.14.6\"><span class=\"toc-item-num\">1.2.1.14.6&nbsp;&nbsp;</span>Change Data Type of Columns to Float</a></span></li></ul></li></ul></li></ul></li></ul></li><li><span><a href=\"#Economic-Data-from-Yahoo-Finance\" data-toc-modified-id=\"Economic-Data-from-Yahoo-Finance-2\"><span class=\"toc-item-num\">2&nbsp;&nbsp;</span>Economic Data from Yahoo Finance</a></span></li><li><span><a href=\"#Import-Economic-CSV-Files\" data-toc-modified-id=\"Import-Economic-CSV-Files-3\"><span class=\"toc-item-num\">3&nbsp;&nbsp;</span>Import Economic CSV-Files</a></span></li><li><span><a href=\"#Commodity-CSV-Files\" data-toc-modified-id=\"Commodity-CSV-Files-4\"><span class=\"toc-item-num\">4&nbsp;&nbsp;</span>Commodity CSV-Files</a></span></li><li><span><a href=\"#Bond-Yield-CSV-Files\" data-toc-modified-id=\"Bond-Yield-CSV-Files-5\"><span class=\"toc-item-num\">5&nbsp;&nbsp;</span>Bond Yield CSV-Files</a></span></li><li><span><a href=\"#Currency-CSV-Files\" data-toc-modified-id=\"Currency-CSV-Files-6\"><span class=\"toc-item-num\">6&nbsp;&nbsp;</span>Currency CSV-Files</a></span></li><li><span><a href=\"#Stocks\" data-toc-modified-id=\"Stocks-7\"><span class=\"toc-item-num\">7&nbsp;&nbsp;</span>Stocks</a></span><ul class=\"toc-item\"><li><span><a href=\"#Target-Variables\" data-toc-modified-id=\"Target-Variables-7.1\"><span class=\"toc-item-num\">7.1&nbsp;&nbsp;</span>Target Variables</a></span></li><li><span><a href=\"#Feature-Engineering\" data-toc-modified-id=\"Feature-Engineering-7.2\"><span class=\"toc-item-num\">7.2&nbsp;&nbsp;</span>Feature Engineering</a></span><ul class=\"toc-item\"><li><span><a href=\"#Volatility\" data-toc-modified-id=\"Volatility-7.2.1\"><span class=\"toc-item-num\">7.2.1&nbsp;&nbsp;</span>Volatility</a></span></li><li><span><a href=\"#Log-Price\" data-toc-modified-id=\"Log-Price-7.2.2\"><span class=\"toc-item-num\">7.2.2&nbsp;&nbsp;</span>Log Price</a></span></li></ul></li></ul></li><li><span><a href=\"#Data-Sets\" data-toc-modified-id=\"Data-Sets-8\"><span class=\"toc-item-num\">8&nbsp;&nbsp;</span>Data Sets</a></span><ul class=\"toc-item\"><li><span><a href=\"#Data-Set-I.---Blockchain-Metrics-Only\" data-toc-modified-id=\"Data-Set-I.---Blockchain-Metrics-Only-8.1\"><span class=\"toc-item-num\">8.1&nbsp;&nbsp;</span>Data Set I. - Blockchain Metrics Only</a></span></li></ul></li><li><span><a href=\"#Data-Set-II.---Blockchain-and-Economic-Metrics\" data-toc-modified-id=\"Data-Set-II.---Blockchain-and-Economic-Metrics-9\"><span class=\"toc-item-num\">9&nbsp;&nbsp;</span>Data Set II. - Blockchain and Economic Metrics</a></span></li><li><span><a href=\"#START-Classification-Models---Data-Set-Variations\" data-toc-modified-id=\"START-Classification-Models---Data-Set-Variations-10\"><span class=\"toc-item-num\">10&nbsp;&nbsp;</span>START Classification Models - Data Set Variations</a></span></li><li><span><a href=\"#Import-Data-Sets\" data-toc-modified-id=\"Import-Data-Sets-11\"><span class=\"toc-item-num\">11&nbsp;&nbsp;</span>Import Data Sets</a></span><ul class=\"toc-item\"><li><span><a href=\"#Data-Set-I.\" data-toc-modified-id=\"Data-Set-I.-11.1\"><span class=\"toc-item-num\">11.1&nbsp;&nbsp;</span>Data Set I.</a></span></li><li><span><a href=\"#Prediction-Shift\" data-toc-modified-id=\"Prediction-Shift-11.2\"><span class=\"toc-item-num\">11.2&nbsp;&nbsp;</span>Prediction Shift</a></span><ul class=\"toc-item\"><li><span><a href=\"#Data-Set-I.\" data-toc-modified-id=\"Data-Set-I.-11.2.1\"><span class=\"toc-item-num\">11.2.1&nbsp;&nbsp;</span>Data Set I.</a></span></li></ul></li></ul></li><li><span><a href=\"#Classification-Setup\" data-toc-modified-id=\"Classification-Setup-12\"><span class=\"toc-item-num\">12&nbsp;&nbsp;</span>Classification Setup</a></span><ul class=\"toc-item\"><li><span><a href=\"#Create-Data-Set-Copies-for-Trading-Strategy\" data-toc-modified-id=\"Create-Data-Set-Copies-for-Trading-Strategy-12.1\"><span class=\"toc-item-num\">12.1&nbsp;&nbsp;</span>Create Data Set Copies for Trading Strategy</a></span></li><li><span><a href=\"#Categorization---Data-Set-I.\" data-toc-modified-id=\"Categorization---Data-Set-I.-12.2\"><span class=\"toc-item-num\">12.2&nbsp;&nbsp;</span>Categorization - Data Set I.</a></span></li></ul></li><li><span><a href=\"#Model-Preparation---Data-Set-I.\" data-toc-modified-id=\"Model-Preparation---Data-Set-I.-13\"><span class=\"toc-item-num\">13&nbsp;&nbsp;</span>Model Preparation - Data Set I.</a></span><ul class=\"toc-item\"><li><span><a href=\"#Train-Test-Split---Data-Set-I.\" data-toc-modified-id=\"Train-Test-Split---Data-Set-I.-13.1\"><span class=\"toc-item-num\">13.1&nbsp;&nbsp;</span>Train Test Split - Data Set I.</a></span><ul class=\"toc-item\"><li><span><a href=\"#Check-of-Class-Balance\" data-toc-modified-id=\"Check-of-Class-Balance-13.1.1\"><span class=\"toc-item-num\">13.1.1&nbsp;&nbsp;</span>Check of Class Balance</a></span></li></ul></li></ul></li><li><span><a href=\"#Feature-Selection-random-forest\" data-toc-modified-id=\"Feature-Selection-random-forest-14\"><span class=\"toc-item-num\">14&nbsp;&nbsp;</span>Feature Selection random forest</a></span></li><li><span><a href=\"#Visualize-pred-vs-reality\" data-toc-modified-id=\"Visualize-pred-vs-reality-15\"><span class=\"toc-item-num\">15&nbsp;&nbsp;</span>Visualize pred vs reality</a></span></li><li><span><a href=\"#Hyperparam-tuning\" data-toc-modified-id=\"Hyperparam-tuning-16\"><span class=\"toc-item-num\">16&nbsp;&nbsp;</span>Hyperparam tuning</a></span><ul class=\"toc-item\"><li><span><a href=\"#Feature-Scaling---Data-Set-I.\" data-toc-modified-id=\"Feature-Scaling---Data-Set-I.-16.1\"><span class=\"toc-item-num\">16.1&nbsp;&nbsp;</span>Feature Scaling - Data Set I.</a></span></li></ul></li><li><span><a href=\"#Classification-Models---Data-Set-I.\" data-toc-modified-id=\"Classification-Models---Data-Set-I.-17\"><span class=\"toc-item-num\">17&nbsp;&nbsp;</span>Classification Models - Data Set I.</a></span><ul class=\"toc-item\"><li><span><a href=\"#XGBoost---Data-Set-I.\" data-toc-modified-id=\"XGBoost---Data-Set-I.-17.1\"><span class=\"toc-item-num\">17.1&nbsp;&nbsp;</span>XGBoost - Data Set I.</a></span></li><li><span><a href=\"#Logistic-Regression-classical\" data-toc-modified-id=\"Logistic-Regression-classical-17.2\"><span class=\"toc-item-num\">17.2&nbsp;&nbsp;</span>Logistic Regression classical</a></span></li><li><span><a href=\"#Logistic-Regression---Data-Set-I.\" data-toc-modified-id=\"Logistic-Regression---Data-Set-I.-17.3\"><span class=\"toc-item-num\">17.3&nbsp;&nbsp;</span>Logistic Regression - Data Set I.</a></span></li><li><span><a href=\"#XGBoost---Data-Set-I.\" data-toc-modified-id=\"XGBoost---Data-Set-I.-17.4\"><span class=\"toc-item-num\">17.4&nbsp;&nbsp;</span>XGBoost - Data Set I.</a></span></li><li><span><a href=\"#Random-Forest-Classifier---Data-Set-I.\" data-toc-modified-id=\"Random-Forest-Classifier---Data-Set-I.-17.5\"><span class=\"toc-item-num\">17.5&nbsp;&nbsp;</span>Random Forest Classifier - Data Set I.</a></span></li></ul></li><li><span><a href=\"#Trading-Strategy---Data-Set-I\" data-toc-modified-id=\"Trading-Strategy---Data-Set-I-18\"><span class=\"toc-item-num\">18&nbsp;&nbsp;</span>Trading Strategy - Data Set I</a></span><ul class=\"toc-item\"><li><span><a href=\"#Trading-Strategy-in-Combination-with-Logistic-Regression\" data-toc-modified-id=\"Trading-Strategy-in-Combination-with-Logistic-Regression-18.1\"><span class=\"toc-item-num\">18.1&nbsp;&nbsp;</span>Trading Strategy in Combination with Logistic Regression</a></span></li></ul></li><li><span><a href=\"#save-to-csv\" data-toc-modified-id=\"save-to-csv-19\"><span class=\"toc-item-num\">19&nbsp;&nbsp;</span>save to csv</a></span></li><li><span><a href=\"#Deepdive-in-prediction\" data-toc-modified-id=\"Deepdive-in-prediction-20\"><span class=\"toc-item-num\">20&nbsp;&nbsp;</span>Deepdive in prediction</a></span></li><li><span><a href=\"#predict-on-tomorrow\" data-toc-modified-id=\"predict-on-tomorrow-21\"><span class=\"toc-item-num\">21&nbsp;&nbsp;</span>predict on tomorrow</a></span></li><li><span><a href=\"#get-x-train-data-of-today-to-predict-tomorrow-y\" data-toc-modified-id=\"get-x-train-data-of-today-to-predict-tomorrow-y-22\"><span class=\"toc-item-num\">22&nbsp;&nbsp;</span>get x train data of today to predict tomorrow y</a></span></li></ul></div>"
   ]
  },
  {
   "cell_type": "markdown",
   "metadata": {},
   "source": [
    "# Data Preprocessing"
   ]
  },
  {
   "cell_type": "markdown",
   "metadata": {},
   "source": [
    "## Data Import via Application Programming Interfaces"
   ]
  },
  {
   "cell_type": "code",
   "execution_count": 1,
   "metadata": {
    "ExecuteTime": {
     "end_time": "2020-12-26T21:32:46.432868Z",
     "start_time": "2020-12-26T21:32:45.691885Z"
    },
    "scrolled": true
   },
   "outputs": [],
   "source": [
    "# Import of Modules and Packages\n",
    "import os\n",
    "import requests\n",
    "import json\n",
    "import datetime\n",
    "import yfinance as yf\n",
    "import time\n",
    "\n",
    "import numpy as np\n",
    "import pandas as pd\n",
    "import matplotlib.pyplot as plt\n",
    "\n",
    "from pytrends.request import TrendReq\n",
    "from pytrends import dailydata"
   ]
  },
  {
   "cell_type": "code",
   "execution_count": 2,
   "metadata": {
    "ExecuteTime": {
     "end_time": "2020-12-26T21:32:46.448826Z",
     "start_time": "2020-12-26T21:32:46.433866Z"
    }
   },
   "outputs": [],
   "source": [
    "# Adjustment of Decimal Places\n",
    "pd.options.display.float_format = '{:.2f}'.format"
   ]
  },
  {
   "cell_type": "code",
   "execution_count": 3,
   "metadata": {
    "ExecuteTime": {
     "end_time": "2020-12-26T21:32:46.464783Z",
     "start_time": "2020-12-26T21:32:46.452852Z"
    }
   },
   "outputs": [],
   "source": [
    "# Glassnode API Key\n",
    "API_Key = ''"
   ]
  },
  {
   "cell_type": "code",
   "execution_count": 4,
   "metadata": {
    "ExecuteTime": {
     "end_time": "2020-12-26T21:32:46.480741Z",
     "start_time": "2020-12-26T21:32:46.465781Z"
    }
   },
   "outputs": [],
   "source": [
    "#os.chdir('\\\\github_repo\\\\JupyterLabDir\\\\Rest\\\\MA BTC\\\\Markus_Code_MA_final\\\\20201010\\\\Glassnode')"
   ]
  },
  {
   "cell_type": "code",
   "execution_count": 5,
   "metadata": {
    "ExecuteTime": {
     "end_time": "2020-12-26T21:32:46.496797Z",
     "start_time": "2020-12-26T21:32:46.481738Z"
    }
   },
   "outputs": [
    {
     "data": {
      "text/plain": [
       "'C:\\\\Users\\\\markus.gebele\\\\github_repo\\\\JupyterLabDir\\\\Rest\\\\MA BTC\\\\Markus_Code_MA_final\\\\20201010'"
      ]
     },
     "execution_count": 5,
     "metadata": {},
     "output_type": "execute_result"
    }
   ],
   "source": [
    "os.getcwd()"
   ]
  },
  {
   "cell_type": "code",
   "execution_count": 6,
   "metadata": {
    "ExecuteTime": {
     "end_time": "2020-12-26T21:32:46.512655Z",
     "start_time": "2020-12-26T21:32:46.498693Z"
    }
   },
   "outputs": [],
   "source": [
    "os.chdir('{}JupyterLabDir\\\\Rest\\\\MA BTC\\\\Markus_Code_MA_final\\\\20201010\\\\Glassnode'.format(os.getcwd().split('JupyterLabDir')[0]))"
   ]
  },
  {
   "cell_type": "markdown",
   "metadata": {},
   "source": [
    "### Blockchain Data from Glassnode"
   ]
  },
  {
   "cell_type": "code",
   "execution_count": 7,
   "metadata": {
    "ExecuteTime": {
     "end_time": "2020-12-26T21:32:46.528000Z",
     "start_time": "2020-12-26T21:32:46.514650Z"
    }
   },
   "outputs": [],
   "source": [
    "# Import Function for a Single Feature Variable from Glassnode\n",
    "def import_glassnode (url, feature_name):\n",
    "    data = requests.get(url).json()\n",
    "    df = pd.json_normalize(data)\n",
    "    \n",
    "    # Rename columns\n",
    "    df.columns = ['Date', feature_name]\n",
    "   \n",
    "    # Convert Object to Datetime Object\n",
    "    df.Date = pd.to_datetime(df.Date, unit='s')\n",
    "    df.Date = df.Date.map(lambda x: x.strftime('%Y-%m-%d'))\n",
    "    \n",
    "    # Set Date Column as Index\n",
    "    df.set_index('Date', inplace=True)\n",
    "    \n",
    "    # Drop Missing Values\n",
    "    df = df.dropna()\n",
    "    \n",
    "    # Change Data Type to Float\n",
    "    df = df.astype(float)\n",
    "    \n",
    "    # Creation of CSV-File, Part of Feature Name as CSV File Name \n",
    "    df.to_csv(\"{}.csv\".format(feature_name.rsplit('/')[-1]), decimal=',')\n",
    "    \n",
    "    # Plot of DataFrame\n",
    "    #df.plot(figsize=(4.5, 1.75))\n",
    "    #plt.xticks(rotation=45)\n",
    "    return df"
   ]
  },
  {
   "cell_type": "code",
   "execution_count": 8,
   "metadata": {
    "ExecuteTime": {
     "end_time": "2020-12-26T21:32:46.543885Z",
     "start_time": "2020-12-26T21:32:46.528926Z"
    }
   },
   "outputs": [],
   "source": [
    "# Import Function for Several Feature Variables from Glassnode\n",
    "def import_glassnode_many(feature_list):\n",
    "    # Counter to Differentiate between Data Frame Setup and Data Frame Join\n",
    "    counter=0\n",
    "    \n",
    "    # For Loop through all Features in the List\n",
    "    for feature in feature_list:\n",
    "        \n",
    "        # URL\n",
    "        url = 'https://api.glassnode.com/v1/metrics/{}?a=btc&f=json&api_key={}'.format(feature, API_Key)\n",
    "        \n",
    "        # Execute Import Function for a Single Feature Variable\n",
    "        df=import_glassnode(url, feature)\n",
    "        \n",
    "        # Display Data Frame Tail\n",
    "        print(df.tail())\n",
    "        \n",
    "        # Condition - Data Frame Set up or Data Frame Join\n",
    "        if counter > 0:\n",
    "            \n",
    "            # Data Frame Join\n",
    "            df_new = df_new.join(df, how='inner')   \n",
    "        \n",
    "        else:\n",
    "            \n",
    "            # Data Frame Setup\n",
    "            df_new = df\n",
    "        \n",
    "        # Increase Counter\n",
    "        counter +=1\n",
    "    \n",
    "    return df_new"
   ]
  },
  {
   "cell_type": "markdown",
   "metadata": {},
   "source": [
    "#### Market Metrics from Glassnode"
   ]
  },
  {
   "cell_type": "code",
   "execution_count": 9,
   "metadata": {
    "ExecuteTime": {
     "end_time": "2020-12-26T21:32:46.559163Z",
     "start_time": "2020-12-26T21:32:46.544883Z"
    }
   },
   "outputs": [],
   "source": [
    "# List of Market Features\n",
    "market_feature_list = ['market/price_usd_close', 'market/price_drawdown_relative', 'market/price_realized_usd', 'market/mvrv']"
   ]
  },
  {
   "cell_type": "code",
   "execution_count": 10,
   "metadata": {
    "ExecuteTime": {
     "end_time": "2020-12-26T21:32:48.800548Z",
     "start_time": "2020-12-26T21:32:46.560840Z"
    }
   },
   "outputs": [
    {
     "name": "stdout",
     "output_type": "stream",
     "text": [
      "            market/price_usd_close\n",
      "Date                              \n",
      "2020-12-23                23279.55\n",
      "2020-12-24                23764.75\n",
      "2020-12-25                24688.21\n",
      "2020-12-26                26440.25\n",
      "2020-12-27                26497.96\n",
      "            market/price_drawdown_relative\n",
      "Date                                      \n",
      "2020-12-22                           -0.02\n",
      "2020-12-23                           -0.04\n",
      "2020-12-24                           -0.02\n",
      "2020-12-25                           -0.00\n",
      "2020-12-26                           -0.01\n",
      "            market/price_realized_usd\n",
      "Date                                 \n",
      "2020-12-22                    8286.35\n",
      "2020-12-23                    8375.79\n",
      "2020-12-24                    8448.07\n",
      "2020-12-25                    8467.17\n",
      "2020-12-26                    8511.24\n",
      "            market/mvrv\n",
      "Date                   \n",
      "2020-12-22         2.79\n",
      "2020-12-23         2.81\n",
      "2020-12-24         2.75\n",
      "2020-12-25         2.84\n",
      "2020-12-26         2.97\n"
     ]
    }
   ],
   "source": [
    "try: \n",
    "    # Data Frame of Market Features\n",
    "    df_market = import_glassnode_many(market_feature_list)\n",
    "except:\n",
    "    time.sleep(60)\n",
    "    df_market = import_glassnode_many(market_feature_list)"
   ]
  },
  {
   "cell_type": "markdown",
   "metadata": {},
   "source": [
    "#### Mining Metrics from Glassnode"
   ]
  },
  {
   "cell_type": "code",
   "execution_count": 11,
   "metadata": {
    "ExecuteTime": {
     "end_time": "2020-12-26T21:32:48.816504Z",
     "start_time": "2020-12-26T21:32:48.801545Z"
    }
   },
   "outputs": [],
   "source": [
    "# List of Mining Features    #'mining/revenue_sum',\n",
    "mining_feature_list = ['mining/difficulty_latest', 'mining/hash_rate_mean', 'mining/marketcap_thermocap_ratio']"
   ]
  },
  {
   "cell_type": "code",
   "execution_count": 12,
   "metadata": {
    "ExecuteTime": {
     "end_time": "2020-12-26T21:32:50.046655Z",
     "start_time": "2020-12-26T21:32:48.817536Z"
    }
   },
   "outputs": [
    {
     "name": "stdout",
     "output_type": "stream",
     "text": [
      "             mining/difficulty_latest\n",
      "Date                                 \n",
      "2020-12-22 80187763369133704478720.00\n",
      "2020-12-23 80187763369133704478720.00\n",
      "2020-12-24 80187763369133704478720.00\n",
      "2020-12-25 80187763369133704478720.00\n",
      "2020-12-26 80187763369133704478720.00\n",
      "              mining/hash_rate_mean\n",
      "Date                               \n",
      "2020-12-22 132165952003620995072.00\n",
      "2020-12-23 146111617294112997376.00\n",
      "2020-12-24 114954071251531005952.00\n",
      "2020-12-25 133658648082637996032.00\n",
      "2020-12-26 127352989515328995328.00\n",
      "            mining/marketcap_thermocap_ratio\n",
      "Date                                        \n",
      "2020-12-22                              0.00\n",
      "2020-12-23                              0.00\n",
      "2020-12-24                              0.00\n",
      "2020-12-25                              0.00\n",
      "2020-12-26                              0.00\n"
     ]
    }
   ],
   "source": [
    "# Data Frame of Mining Features\n",
    "df_mining = import_glassnode_many(mining_feature_list)"
   ]
  },
  {
   "cell_type": "markdown",
   "metadata": {},
   "source": [
    "#### Blocks Metrics from Glassnode"
   ]
  },
  {
   "cell_type": "code",
   "execution_count": 13,
   "metadata": {
    "ExecuteTime": {
     "end_time": "2020-12-26T21:32:50.062612Z",
     "start_time": "2020-12-26T21:32:50.047653Z"
    }
   },
   "outputs": [],
   "source": [
    "# List of Blockchain Features\n",
    "blockchain_feature_list = ['blockchain/block_count', 'blockchain/block_interval_mean', 'blockchain/block_size_sum']"
   ]
  },
  {
   "cell_type": "code",
   "execution_count": 14,
   "metadata": {
    "ExecuteTime": {
     "end_time": "2020-12-26T21:32:51.143950Z",
     "start_time": "2020-12-26T21:32:50.064699Z"
    }
   },
   "outputs": [
    {
     "name": "stdout",
     "output_type": "stream",
     "text": [
      "            blockchain/block_count\n",
      "Date                              \n",
      "2020-12-22                  143.00\n",
      "2020-12-23                  154.00\n",
      "2020-12-24                  126.00\n",
      "2020-12-25                  144.00\n",
      "2020-12-26                  137.00\n",
      "            blockchain/block_interval_mean\n",
      "Date                                      \n",
      "2020-12-22                          606.72\n",
      "2020-12-23                          548.81\n",
      "2020-12-24                          697.56\n",
      "2020-12-25                          599.94\n",
      "2020-12-26                          629.65\n",
      "            blockchain/block_size_sum\n",
      "Date                                 \n",
      "2020-12-22               186197300.00\n",
      "2020-12-23               191926648.00\n",
      "2020-12-24               160033350.00\n",
      "2020-12-25               185161562.00\n",
      "2020-12-26               189726620.00\n"
     ]
    }
   ],
   "source": [
    "# Data Frame of Blockchain Features\n",
    "df_blockchainfeatures = import_glassnode_many(blockchain_feature_list)"
   ]
  },
  {
   "cell_type": "markdown",
   "metadata": {},
   "source": [
    "#### Distribution Metrics from Glassnode "
   ]
  },
  {
   "cell_type": "code",
   "execution_count": 15,
   "metadata": {
    "ExecuteTime": {
     "end_time": "2020-12-26T21:32:51.158870Z",
     "start_time": "2020-12-26T21:32:51.145184Z"
    }
   },
   "outputs": [],
   "source": [
    "# List of Distribution Features\n",
    "#distribution_feature_list = ['distribution/balance_1pct_holders', 'distribution/gini', 'distribution/herfindahl'] #\n",
    "\n",
    "# List of Distribution Features\n",
    "distribution_feature_list = ['distribution/balance_exchanges'] \n",
    "\n"
   ]
  },
  {
   "cell_type": "code",
   "execution_count": 16,
   "metadata": {
    "ExecuteTime": {
     "end_time": "2020-12-26T21:32:51.174819Z",
     "start_time": "2020-12-26T21:32:51.160823Z"
    }
   },
   "outputs": [
    {
     "name": "stdout",
     "output_type": "stream",
     "text": [
      "            distribution/balance_exchanges\n",
      "Date                                      \n",
      "2020-12-22                      2395347.74\n",
      "2020-12-23                      2381871.45\n",
      "2020-12-24                      2385704.41\n",
      "2020-12-25                      2394084.29\n",
      "2020-12-26                      2391271.68\n"
     ]
    }
   ],
   "source": [
    "# Data Frame of Distribution Features\n",
    "df_distribution = import_glassnode_many(distribution_feature_list)"
   ]
  },
  {
   "cell_type": "markdown",
   "metadata": {},
   "source": [
    "#### Fee Metrics from Glassnode "
   ]
  },
  {
   "cell_type": "code",
   "execution_count": 17,
   "metadata": {
    "ExecuteTime": {
     "end_time": "2020-12-26T21:32:51.189956Z",
     "start_time": "2020-12-26T21:32:51.176813Z"
    }
   },
   "outputs": [],
   "source": [
    "# List of Fee Features\n",
    "fees_feature_list = ['fees/volume_sum', 'fees/volume_mean', 'fees/fee_ratio_multiple']"
   ]
  },
  {
   "cell_type": "code",
   "execution_count": 18,
   "metadata": {
    "ExecuteTime": {
     "end_time": "2020-12-26T21:32:52.823740Z",
     "start_time": "2020-12-26T21:32:51.191740Z"
    }
   },
   "outputs": [
    {
     "name": "stdout",
     "output_type": "stream",
     "text": [
      "            fees/volume_sum\n",
      "Date                       \n",
      "2020-12-22           133.03\n",
      "2020-12-23           143.04\n",
      "2020-12-24           106.43\n",
      "2020-12-25            92.48\n",
      "2020-12-26            69.64\n",
      "            fees/volume_mean\n",
      "Date                        \n",
      "2020-12-22              0.00\n",
      "2020-12-23              0.00\n",
      "2020-12-24              0.00\n",
      "2020-12-25              0.00\n",
      "2020-12-26              0.00\n",
      "            fees/fee_ratio_multiple\n",
      "Date                               \n",
      "2020-12-22                     7.72\n",
      "2020-12-23                     7.73\n",
      "2020-12-24                     8.40\n",
      "2020-12-25                    10.73\n",
      "2020-12-26                    13.29\n"
     ]
    }
   ],
   "source": [
    "# Data Frame of Fee Features\n",
    "df_fees = import_glassnode_many(fees_feature_list)"
   ]
  },
  {
   "cell_type": "markdown",
   "metadata": {},
   "source": [
    "#### UTXO Metrics from Glassnode"
   ]
  },
  {
   "cell_type": "code",
   "execution_count": 19,
   "metadata": {
    "ExecuteTime": {
     "end_time": "2020-12-26T21:32:52.839112Z",
     "start_time": "2020-12-26T21:32:52.825703Z"
    }
   },
   "outputs": [],
   "source": [
    "# List of UTXO Features\n",
    "utxo_feature_list = ['blockchain/utxo_created_count', 'blockchain/utxo_spent_count', 'blockchain/utxo_created_value_sum', 'blockchain/utxo_spent_value_sum', 'blockchain/utxo_profit_relative', 'blockchain/utxo_profit_count', 'blockchain/utxo_loss_count']"
   ]
  },
  {
   "cell_type": "code",
   "execution_count": 20,
   "metadata": {
    "ExecuteTime": {
     "end_time": "2020-12-26T21:32:56.977978Z",
     "start_time": "2020-12-26T21:32:52.840661Z"
    }
   },
   "outputs": [
    {
     "name": "stdout",
     "output_type": "stream",
     "text": [
      "            blockchain/utxo_created_count\n",
      "Date                                     \n",
      "2020-12-22                      940355.00\n",
      "2020-12-23                     1000784.00\n",
      "2020-12-24                      813920.00\n",
      "2020-12-25                      847493.00\n",
      "2020-12-26                      795770.00\n",
      "            blockchain/utxo_spent_count\n",
      "Date                                   \n",
      "2020-12-22                    881579.00\n",
      "2020-12-23                    910566.00\n",
      "2020-12-24                    767276.00\n",
      "2020-12-25                    901673.00\n",
      "2020-12-26                    863067.00\n",
      "            blockchain/utxo_created_value_sum\n",
      "Date                                         \n",
      "2020-12-22                         2040795.08\n",
      "2020-12-23                         2006004.46\n",
      "2020-12-24                         2115162.46\n",
      "2020-12-25                         2043474.79\n",
      "2020-12-26                         2013537.27\n",
      "            blockchain/utxo_spent_value_sum\n",
      "Date                                       \n",
      "2020-12-22                       2039901.33\n",
      "2020-12-23                       2005041.96\n",
      "2020-12-24                       2114374.96\n",
      "2020-12-25                       2042574.79\n",
      "2020-12-26                       2012681.02\n",
      "            blockchain/utxo_profit_relative\n",
      "Date                                       \n",
      "2020-12-22                             1.00\n",
      "2020-12-23                             0.99\n",
      "2020-12-24                             1.00\n",
      "2020-12-25                             1.00\n",
      "2020-12-26                             1.00\n",
      "            blockchain/utxo_profit_count\n",
      "Date                                    \n",
      "2020-12-22                  115536726.00\n",
      "2020-12-23                  114621933.00\n",
      "2020-12-24                  115675765.00\n",
      "2020-12-25                  115850112.00\n",
      "2020-12-26                  115728359.00\n",
      "            blockchain/utxo_loss_count\n",
      "Date                                  \n",
      "2020-12-22                   228390.00\n",
      "2020-12-23                  1240201.00\n",
      "2020-12-24                   233013.00\n",
      "2020-12-25                     4486.00\n",
      "2020-12-26                    58942.00\n"
     ]
    }
   ],
   "source": [
    "# Data Frame of UTXO Features\n",
    "df_utxo = import_glassnode_many(utxo_feature_list)"
   ]
  },
  {
   "cell_type": "code",
   "execution_count": null,
   "metadata": {},
   "outputs": [],
   "source": []
  },
  {
   "cell_type": "markdown",
   "metadata": {},
   "source": [
    "#### Supply Metrics from Glassnode"
   ]
  },
  {
   "cell_type": "code",
   "execution_count": 21,
   "metadata": {
    "ExecuteTime": {
     "end_time": "2020-12-26T21:32:56.993936Z",
     "start_time": "2020-12-26T21:32:56.979973Z"
    }
   },
   "outputs": [],
   "source": [
    "# List of Supply Features\n",
    "supply_feature_list = ['supply/current','supply/profit_relative', 'supply/profit_sum', 'supply/loss_sum', 'supply/active_more_1y_percent', 'supply/active_more_2y_percent', 'supply/active_more_3y_percent', 'supply/active_more_5y_percent', 'supply/active_24h', 'supply/active_1d_1w', 'supply/active_1w_1m', 'supply/active_1m_3m', 'supply/active_3m_6m', 'supply/active_6m_12m', 'supply/active_1y_2y', 'supply/active_2y_3y', 'supply/active_3y_5y', 'supply/active_5y_7y', 'supply/active_7y_10y', 'supply/active_more_10y', 'supply/issued', 'supply/inflation_rate']"
   ]
  },
  {
   "cell_type": "code",
   "execution_count": 22,
   "metadata": {
    "ExecuteTime": {
     "end_time": "2020-12-26T21:33:09.223049Z",
     "start_time": "2020-12-26T21:32:56.999919Z"
    }
   },
   "outputs": [
    {
     "name": "stdout",
     "output_type": "stream",
     "text": [
      "            supply/current\n",
      "Date                      \n",
      "2020-12-22     18578462.50\n",
      "2020-12-23     18579425.00\n",
      "2020-12-24     18580212.50\n",
      "2020-12-25     18581112.50\n",
      "2020-12-26     18581968.75\n",
      "            supply/profit_relative\n",
      "Date                              \n",
      "2020-12-22                    0.99\n",
      "2020-12-23                    0.97\n",
      "2020-12-24                    0.99\n",
      "2020-12-25                    1.00\n",
      "2020-12-26                    1.00\n",
      "            supply/profit_sum\n",
      "Date                         \n",
      "2020-12-22        18450395.77\n",
      "2020-12-23        17966047.10\n",
      "2020-12-24        18470314.54\n",
      "2020-12-25        18550682.86\n",
      "2020-12-26        18535955.26\n",
      "            supply/loss_sum\n",
      "Date                       \n",
      "2020-12-22         95579.73\n",
      "2020-12-23        600407.49\n",
      "2020-12-24         96927.55\n",
      "2020-12-25         17459.23\n",
      "2020-12-26         33043.09\n",
      "            supply/active_more_1y_percent\n",
      "Date                                     \n",
      "2020-12-22                           0.60\n",
      "2020-12-23                           0.60\n",
      "2020-12-24                           0.60\n",
      "2020-12-25                           0.60\n",
      "2020-12-26                           0.60\n",
      "            supply/active_more_2y_percent\n",
      "Date                                     \n",
      "2020-12-22                           0.47\n",
      "2020-12-23                           0.47\n",
      "2020-12-24                           0.47\n",
      "2020-12-25                           0.47\n",
      "2020-12-26                           0.47\n",
      "            supply/active_more_3y_percent\n",
      "Date                                     \n",
      "2020-12-22                           0.34\n",
      "2020-12-23                           0.34\n",
      "2020-12-24                           0.34\n",
      "2020-12-25                           0.34\n",
      "2020-12-26                           0.34\n",
      "            supply/active_more_5y_percent\n",
      "Date                                     \n",
      "2020-12-22                           0.22\n",
      "2020-12-23                           0.22\n",
      "2020-12-24                           0.22\n",
      "2020-12-25                           0.22\n",
      "2020-12-26                           0.22\n",
      "            supply/active_24h\n",
      "Date                         \n",
      "2020-12-22          375438.88\n",
      "2020-12-23          337956.51\n",
      "2020-12-24          377139.14\n",
      "2020-12-25          160312.63\n",
      "2020-12-26          203462.84\n",
      "            supply/active_1d_1w\n",
      "Date                           \n",
      "2020-12-22            928000.85\n",
      "2020-12-23           1028577.91\n",
      "2020-12-24            940901.18\n",
      "2020-12-25            935645.66\n",
      "2020-12-26            901935.78\n",
      "            supply/active_1w_1m\n",
      "Date                           \n",
      "2020-12-22           1219032.14\n",
      "2020-12-23           1212465.10\n",
      "2020-12-24           1298274.56\n",
      "2020-12-25           1500195.53\n",
      "2020-12-26           1474357.12\n",
      "            supply/active_1m_3m\n",
      "Date                           \n",
      "2020-12-22           2020672.60\n",
      "2020-12-23           2030709.83\n",
      "2020-12-24           2012413.75\n",
      "2020-12-25           2034790.12\n",
      "2020-12-26           2066122.48\n",
      "            supply/active_3m_6m\n",
      "Date                           \n",
      "2020-12-22           1195736.44\n",
      "2020-12-23           1184297.60\n",
      "2020-12-24           1192682.92\n",
      "2020-12-25           1193118.53\n",
      "2020-12-26           1184073.76\n",
      "            supply/active_6m_12m\n",
      "Date                            \n",
      "2020-12-22            1748508.83\n",
      "2020-12-23            1708365.88\n",
      "2020-12-24            1683414.00\n",
      "2020-12-25            1682577.42\n",
      "2020-12-26            1682796.39\n",
      "            supply/active_1y_2y\n",
      "Date                           \n",
      "2020-12-22           2300520.98\n",
      "2020-12-23           2296224.30\n",
      "2020-12-24           2295449.14\n",
      "2020-12-25           2296346.53\n",
      "2020-12-26           2295009.95\n",
      "            supply/active_2y_3y\n",
      "Date                           \n",
      "2020-12-22           2518802.40\n",
      "2020-12-23           2502755.20\n",
      "2020-12-24           2495530.85\n",
      "2020-12-25           2486168.54\n",
      "2020-12-26           2478281.57\n",
      "            supply/active_3y_5y\n",
      "Date                           \n",
      "2020-12-22           2202813.22\n",
      "2020-12-23           2208732.49\n",
      "2020-12-24           2214773.98\n",
      "2020-12-25           2220997.77\n",
      "2020-12-26           2225699.11\n",
      "            supply/active_5y_7y\n",
      "Date                           \n",
      "2020-12-22            795407.55\n",
      "2020-12-23            795245.77\n",
      "2020-12-24            794812.14\n",
      "2020-12-25            795663.65\n",
      "2020-12-26            794756.61\n",
      "            supply/active_7y_10y\n",
      "Date                            \n",
      "2020-12-22            1412919.63\n",
      "2020-12-23            1413201.93\n",
      "2020-12-24            1413510.85\n",
      "2020-12-25            1412964.45\n",
      "2020-12-26            1412534.70\n",
      "            supply/active_more_10y\n",
      "Date                              \n",
      "2020-12-22              1860580.02\n",
      "2020-12-23              1860863.53\n",
      "2020-12-24              1861281.04\n",
      "2020-12-25              1862302.72\n",
      "2020-12-26              1862909.49\n",
      "            supply/issued\n",
      "Date                     \n",
      "2020-12-22         893.75\n",
      "2020-12-23         962.50\n",
      "2020-12-24         787.50\n",
      "2020-12-25         900.00\n",
      "2020-12-26         856.25\n",
      "            supply/inflation_rate\n",
      "Date                             \n",
      "2020-12-22                   0.02\n",
      "2020-12-23                   0.02\n",
      "2020-12-24                   0.02\n",
      "2020-12-25                   0.02\n",
      "2020-12-26                   0.02\n"
     ]
    }
   ],
   "source": [
    "# Data Frame of Supply Features\n",
    "df_supply = import_glassnode_many(supply_feature_list)"
   ]
  },
  {
   "cell_type": "markdown",
   "metadata": {},
   "source": [
    "#### Transaction Metrics from Glassnode"
   ]
  },
  {
   "cell_type": "code",
   "execution_count": 23,
   "metadata": {
    "ExecuteTime": {
     "end_time": "2020-12-26T21:33:09.230373Z",
     "start_time": "2020-12-26T21:33:09.225010Z"
    }
   },
   "outputs": [],
   "source": [
    "# List of Transaction Features\n",
    "transaction_feature_list = ['transactions/count', 'transactions/size_sum','transactions/transfers_volume_sum', 'transactions/transfers_volume_adjusted_sum']"
   ]
  },
  {
   "cell_type": "code",
   "execution_count": 24,
   "metadata": {
    "ExecuteTime": {
     "end_time": "2020-12-26T21:33:11.108984Z",
     "start_time": "2020-12-26T21:33:09.230995Z"
    }
   },
   "outputs": [
    {
     "name": "stdout",
     "output_type": "stream",
     "text": [
      "            transactions/count\n",
      "Date                          \n",
      "2020-12-22           324020.00\n",
      "2020-12-23           338309.00\n",
      "2020-12-24           269433.00\n",
      "2020-12-25           303757.00\n",
      "2020-12-26           273817.00\n",
      "            transactions/size_sum\n",
      "Date                             \n",
      "2020-12-22           186139711.00\n",
      "2020-12-23           191864565.00\n",
      "2020-12-24           159983541.00\n",
      "2020-12-25           185103589.00\n",
      "2020-12-26           189670059.00\n",
      "            transactions/transfers_volume_sum\n",
      "Date                                         \n",
      "2020-12-22                         2039768.31\n",
      "2020-12-23                         2004898.91\n",
      "2020-12-24                         2114268.53\n",
      "2020-12-25                         2042482.31\n",
      "2020-12-26                         2012611.38\n",
      "            transactions/transfers_volume_adjusted_sum\n",
      "Date                                                  \n",
      "2020-12-22                                   734478.59\n",
      "2020-12-23                                   714836.32\n",
      "2020-12-24                                   537084.84\n",
      "2020-12-25                                   371194.17\n",
      "2020-12-26                                   435542.25\n"
     ]
    }
   ],
   "source": [
    "# Data Frame of Transaction Features\n",
    "df_transaction = import_glassnode_many(transaction_feature_list)"
   ]
  },
  {
   "cell_type": "code",
   "execution_count": null,
   "metadata": {},
   "outputs": [],
   "source": []
  },
  {
   "cell_type": "markdown",
   "metadata": {},
   "source": [
    "#### Exchange Metrics from Glassnode - 1 Month Lag"
   ]
  },
  {
   "cell_type": "code",
   "execution_count": 25,
   "metadata": {
    "ExecuteTime": {
     "end_time": "2020-12-26T21:33:11.124942Z",
     "start_time": "2020-12-26T21:33:11.109979Z"
    }
   },
   "outputs": [],
   "source": [
    "#List of Exchange Features\n",
    "exchange_feature_list = ['transactions/transfers_volume_to_exchanges_sum',\n",
    "                         'transactions/transfers_volume_from_exchanges_sum', \n",
    "                         'transactions/transfers_to_exchanges_count', \n",
    "                         'transactions/transfers_from_exchanges_count',\n",
    "                         'transactions/transfers_volume_exchanges_net']\n",
    "\n",
    "# only til dez 2019: 'transactions/transfers_volume_miners_to_exchanges'"
   ]
  },
  {
   "cell_type": "code",
   "execution_count": 26,
   "metadata": {
    "ExecuteTime": {
     "end_time": "2020-12-26T21:33:11.140899Z",
     "start_time": "2020-12-26T21:33:11.126936Z"
    }
   },
   "outputs": [
    {
     "name": "stdout",
     "output_type": "stream",
     "text": [
      "            transactions/transfers_volume_to_exchanges_sum\n",
      "Date                                                      \n",
      "2020-12-22                                        59177.65\n",
      "2020-12-23                                        83633.05\n",
      "2020-12-24                                        56540.11\n",
      "2020-12-25                                        38213.54\n",
      "2020-12-26                                        32126.26\n",
      "            transactions/transfers_volume_from_exchanges_sum\n",
      "Date                                                        \n",
      "2020-12-22                                          78803.88\n",
      "2020-12-23                                          97093.69\n",
      "2020-12-24                                          52695.44\n",
      "2020-12-25                                          29821.67\n",
      "2020-12-26                                          34927.84\n",
      "            transactions/transfers_to_exchanges_count\n",
      "Date                                                 \n",
      "2020-12-22                                   61549.00\n",
      "2020-12-23                                   68670.00\n",
      "2020-12-24                                   54525.00\n",
      "2020-12-25                                   56010.00\n",
      "2020-12-26                                   55271.00\n",
      "            transactions/transfers_from_exchanges_count\n",
      "Date                                                   \n",
      "2020-12-22                                     48885.00\n",
      "2020-12-23                                     47368.00\n",
      "2020-12-24                                     44395.00\n",
      "2020-12-25                                     32189.00\n",
      "2020-12-26                                     40047.00\n",
      "            transactions/transfers_volume_exchanges_net\n",
      "Date                                                   \n",
      "2020-12-22                                    -19626.23\n",
      "2020-12-23                                    -13460.64\n",
      "2020-12-24                                      3844.66\n",
      "2020-12-25                                      8391.87\n",
      "2020-12-26                                     -2801.58\n"
     ]
    }
   ],
   "source": [
    "#Data Frame of Exchange Features\n",
    "df_exchange = import_glassnode_many(exchange_feature_list)"
   ]
  },
  {
   "cell_type": "markdown",
   "metadata": {},
   "source": [
    "#### Indicator-I Metrics from Glassnode"
   ]
  },
  {
   "cell_type": "code",
   "execution_count": 27,
   "metadata": {
    "ExecuteTime": {
     "end_time": "2020-12-26T21:33:11.156859Z",
     "start_time": "2020-12-26T21:33:11.141864Z"
    }
   },
   "outputs": [],
   "source": [
    "# List of Indicator-1 Features\n",
    "indicator1_feature_list = ['indicators/sopr_adjusted', 'indicators/nvt', 'indicators/velocity', 'indicators/cdd', 'indicators/reserve_risk', 'indicators/average_dormancy', 'indicators/liveliness']                         "
   ]
  },
  {
   "cell_type": "code",
   "execution_count": 28,
   "metadata": {
    "ExecuteTime": {
     "end_time": "2020-12-26T21:33:14.438755Z",
     "start_time": "2020-12-26T21:33:11.158849Z"
    }
   },
   "outputs": [
    {
     "name": "stdout",
     "output_type": "stream",
     "text": [
      "            indicators/sopr_adjusted\n",
      "Date                                \n",
      "2020-12-22                      1.12\n",
      "2020-12-23                      1.13\n",
      "2020-12-24                      1.12\n",
      "2020-12-25                      1.06\n",
      "2020-12-26                      1.12\n",
      "            indicators/nvt\n",
      "Date                      \n",
      "2020-12-22           25.29\n",
      "2020-12-23           25.99\n",
      "2020-12-24           34.59\n",
      "2020-12-25           50.06\n",
      "2020-12-26           42.66\n",
      "            indicators/velocity\n",
      "Date                           \n",
      "2020-12-22                 0.04\n",
      "2020-12-23                 0.04\n",
      "2020-12-24                 0.03\n",
      "2020-12-25                 0.02\n",
      "2020-12-26                 0.02\n",
      "            indicators/cdd\n",
      "Date                      \n",
      "2020-12-22     38593112.50\n",
      "2020-12-23     28566389.34\n",
      "2020-12-24     14555610.66\n",
      "2020-12-25      6679495.06\n",
      "2020-12-26     14214785.18\n",
      "            indicators/reserve_risk\n",
      "Date                               \n",
      "2020-12-22                     0.00\n",
      "2020-12-23                     0.00\n",
      "2020-12-24                     0.00\n",
      "2020-12-25                     0.00\n",
      "2020-12-26                     0.00\n",
      "            indicators/average_dormancy\n",
      "Date                                   \n",
      "2020-12-22                        52.54\n",
      "2020-12-23                        39.96\n",
      "2020-12-24                        27.10\n",
      "2020-12-25                        17.99\n",
      "2020-12-26                        32.64\n",
      "            indicators/liveliness\n",
      "Date                             \n",
      "2020-12-22                   0.61\n",
      "2020-12-23                   0.61\n",
      "2020-12-24                   0.61\n",
      "2020-12-25                   0.61\n",
      "2020-12-26                   0.61\n"
     ]
    }
   ],
   "source": [
    "# Data Frame of Indicator-1 Features\n",
    "df_indicator1 = import_glassnode_many(indicator1_feature_list)"
   ]
  },
  {
   "cell_type": "markdown",
   "metadata": {},
   "source": [
    "#### Indicator-2 Metrics from Glassnode"
   ]
  },
  {
   "cell_type": "code",
   "execution_count": 29,
   "metadata": {
    "ExecuteTime": {
     "end_time": "2020-12-26T21:33:14.454713Z",
     "start_time": "2020-12-26T21:33:14.439747Z"
    }
   },
   "outputs": [],
   "source": [
    "# List of Indicator-2 Features\n",
    "indicator2_feature_list = ['indicators/asol', 'indicators/sol_1h', 'indicators/sol_1h_24h', 'indicators/sol_1d_1w', 'indicators/sol_1w_1m', 'indicators/sol_1m_3m', 'indicators/sol_3m_6m', 'indicators/sol_6m_12m', 'indicators/sol_1y_2y', 'indicators/sol_2y_3y', 'indicators/sol_3y_5y', 'indicators/sol_5y_7y', 'indicators/sol_7y_10y']"
   ]
  },
  {
   "cell_type": "code",
   "execution_count": 30,
   "metadata": {
    "ExecuteTime": {
     "end_time": "2020-12-26T21:33:21.135052Z",
     "start_time": "2020-12-26T21:33:14.455674Z"
    },
    "scrolled": true
   },
   "outputs": [
    {
     "name": "stdout",
     "output_type": "stream",
     "text": [
      "            indicators/asol\n",
      "Date                       \n",
      "2020-12-22            43.65\n",
      "2020-12-23            37.44\n",
      "2020-12-24            50.41\n",
      "2020-12-25            44.24\n",
      "2020-12-26            61.13\n",
      "            indicators/sol_1h\n",
      "Date                         \n",
      "2020-12-22          175881.00\n",
      "2020-12-23          193841.00\n",
      "2020-12-24          149454.00\n",
      "2020-12-25          175545.00\n",
      "2020-12-26          166423.00\n",
      "            indicators/sol_1h_24h\n",
      "Date                             \n",
      "2020-12-22              350843.00\n",
      "2020-12-23              355402.00\n",
      "2020-12-24              290417.00\n",
      "2020-12-25              331966.00\n",
      "2020-12-26              263951.00\n",
      "            indicators/sol_1d_1w\n",
      "Date                            \n",
      "2020-12-22             192885.00\n",
      "2020-12-23             178754.00\n",
      "2020-12-24             158440.00\n",
      "2020-12-25             221714.00\n",
      "2020-12-26             190106.00\n",
      "            indicators/sol_1w_1m\n",
      "Date                            \n",
      "2020-12-22              75899.00\n",
      "2020-12-23             100046.00\n",
      "2020-12-24              68661.00\n",
      "2020-12-25              80389.00\n",
      "2020-12-26             110269.00\n",
      "            indicators/sol_1m_3m\n",
      "Date                            \n",
      "2020-12-22              31817.00\n",
      "2020-12-23              36927.00\n",
      "2020-12-24              43123.00\n",
      "2020-12-25              39332.00\n",
      "2020-12-26              58924.00\n",
      "            indicators/sol_3m_6m\n",
      "Date                            \n",
      "2020-12-22              16756.00\n",
      "2020-12-23              13580.00\n",
      "2020-12-24              21258.00\n",
      "2020-12-25              16812.00\n",
      "2020-12-26              22870.00\n",
      "            indicators/sol_6m_12m\n",
      "Date                             \n",
      "2020-12-22               12723.00\n",
      "2020-12-23               10916.00\n",
      "2020-12-24                9333.00\n",
      "2020-12-25               10970.00\n",
      "2020-12-26               16644.00\n",
      "            indicators/sol_1y_2y\n",
      "Date                            \n",
      "2020-12-22              11365.00\n",
      "2020-12-23              10182.00\n",
      "2020-12-24              14909.00\n",
      "2020-12-25              10595.00\n",
      "2020-12-26              15508.00\n",
      "            indicators/sol_2y_3y\n",
      "Date                            \n",
      "2020-12-22               8062.00\n",
      "2020-12-23               6519.00\n",
      "2020-12-24               6208.00\n",
      "2020-12-25               8122.00\n",
      "2020-12-26              10291.00\n",
      "            indicators/sol_3y_5y\n",
      "Date                            \n",
      "2020-12-22               3796.00\n",
      "2020-12-23               3518.00\n",
      "2020-12-24               3563.00\n",
      "2020-12-25               4315.00\n",
      "2020-12-26               6109.00\n",
      "            indicators/sol_5y_7y\n",
      "Date                            \n",
      "2020-12-22               1106.00\n",
      "2020-12-23                607.00\n",
      "2020-12-24               1744.00\n",
      "2020-12-25               1634.00\n",
      "2020-12-26               1657.00\n",
      "            indicators/sol_7y_10y\n",
      "Date                             \n",
      "2020-12-22                 445.00\n",
      "2020-12-23                 274.00\n",
      "2020-12-24                 166.00\n",
      "2020-12-25                 278.00\n",
      "2020-12-26                 315.00\n"
     ]
    }
   ],
   "source": [
    "# Data Frame of Indicator-2 Features\n",
    "df_indicator2 = import_glassnode_many(indicator2_feature_list)"
   ]
  },
  {
   "cell_type": "code",
   "execution_count": null,
   "metadata": {},
   "outputs": [],
   "source": []
  },
  {
   "cell_type": "markdown",
   "metadata": {},
   "source": [
    "#### Indicator-3 Metrics from Glassnode"
   ]
  },
  {
   "cell_type": "code",
   "execution_count": 31,
   "metadata": {
    "ExecuteTime": {
     "end_time": "2020-12-26T21:33:21.151008Z",
     "start_time": "2020-12-26T21:33:21.137045Z"
    }
   },
   "outputs": [],
   "source": [
    "# List of Indicator-3 Features\n",
    "indicator3_feature_list = ['indicators/net_unrealized_profit_loss', 'indicators/unrealized_profit', 'indicators/unrealized_loss', 'indicators/net_realized_profit_loss', 'indicators/realized_profit', 'indicators/realized_loss', 'indicators/nupl_more_155', 'indicators/nupl_less_155', 'indicators/puell_multiple', 'indicators/stock_to_flow_deflection', 'indicators/difficulty_ribbon_compression']"
   ]
  },
  {
   "cell_type": "code",
   "execution_count": 32,
   "metadata": {
    "ExecuteTime": {
     "end_time": "2020-12-26T21:33:26.877558Z",
     "start_time": "2020-12-26T21:33:21.153003Z"
    },
    "scrolled": true
   },
   "outputs": [
    {
     "name": "stdout",
     "output_type": "stream",
     "text": [
      "            indicators/net_unrealized_profit_loss\n",
      "Date                                             \n",
      "2020-12-22                                   0.65\n",
      "2020-12-23                                   0.64\n",
      "2020-12-24                                   0.64\n",
      "2020-12-25                                   0.65\n",
      "2020-12-26                                   0.67\n",
      "            indicators/unrealized_profit\n",
      "Date                                    \n",
      "2020-12-22                          0.65\n",
      "2020-12-23                          0.64\n",
      "2020-12-24                          0.64\n",
      "2020-12-25                          0.65\n",
      "2020-12-26                          0.67\n",
      "            indicators/unrealized_loss\n",
      "Date                                  \n",
      "2020-12-22                        0.00\n",
      "2020-12-23                        0.00\n",
      "2020-12-24                        0.00\n",
      "2020-12-25                        0.00\n",
      "2020-12-26                        0.00\n",
      "            indicators/net_realized_profit_loss\n",
      "Date                                           \n",
      "2020-12-22                        1643315945.24\n",
      "2020-12-23                        1560834780.05\n",
      "2020-12-24                        1400309670.42\n",
      "2020-12-25                         399359784.55\n",
      "2020-12-26                         945580192.04\n",
      "            indicators/realized_profit\n",
      "Date                                  \n",
      "2020-12-22               1741228980.95\n",
      "2020-12-23               1646821880.75\n",
      "2020-12-24               1471331914.02\n",
      "2020-12-25                434377918.26\n",
      "2020-12-26                972686637.20\n",
      "            indicators/realized_loss\n",
      "Date                                \n",
      "2020-12-22               97913035.71\n",
      "2020-12-23               85987100.69\n",
      "2020-12-24               71022243.59\n",
      "2020-12-25               35018133.72\n",
      "2020-12-26               27106445.16\n",
      "            indicators/nupl_more_155\n",
      "Date                                \n",
      "2020-12-22                      0.77\n",
      "2020-12-23                      0.77\n",
      "2020-12-24                      0.77\n",
      "2020-12-25                      0.78\n",
      "2020-12-26                      0.79\n",
      "            indicators/nupl_less_155\n",
      "Date                                \n",
      "2020-12-22                      0.30\n",
      "2020-12-23                      0.28\n",
      "2020-12-24                      0.28\n",
      "2020-12-25                      0.30\n",
      "2020-12-26                      0.34\n",
      "            indicators/puell_multiple\n",
      "Date                                 \n",
      "2020-12-22                       1.65\n",
      "2020-12-23                       1.81\n",
      "2020-12-24                       1.46\n",
      "2020-12-25                       1.72\n",
      "2020-12-26                       1.72\n",
      "            indicators/stock_to_flow_deflection\n",
      "Date                                           \n",
      "2020-12-22                                 0.72\n",
      "2020-12-23                                 0.71\n",
      "2020-12-24                                 0.71\n",
      "2020-12-25                                 0.73\n",
      "2020-12-26                                 0.78\n",
      "            indicators/difficulty_ribbon_compression\n",
      "Date                                                \n",
      "2020-12-22                                      0.02\n",
      "2020-12-23                                      0.02\n",
      "2020-12-24                                      0.02\n",
      "2020-12-25                                      0.02\n",
      "2020-12-26                                      0.02\n"
     ]
    }
   ],
   "source": [
    "# Data Frame of Indicator-3 Features\n",
    "df_indicator3 = import_glassnode_many(indicator3_feature_list)"
   ]
  },
  {
   "cell_type": "markdown",
   "metadata": {},
   "source": [
    "#### Addresses Metrics from Glassnode"
   ]
  },
  {
   "cell_type": "code",
   "execution_count": 33,
   "metadata": {
    "ExecuteTime": {
     "end_time": "2020-12-26T21:33:26.893477Z",
     "start_time": "2020-12-26T21:33:26.878517Z"
    }
   },
   "outputs": [],
   "source": [
    "# List of Addresses Features\n",
    "addresses_feature_list = ['addresses/active_count', 'addresses/sending_count', 'addresses/receiving_count', 'addresses/new_non_zero_count', 'addresses/non_zero_count', 'addresses/min_point_zero_1_count','addresses/min_point_1_count', 'addresses/min_1_count', 'addresses/min_10_count', 'addresses/min_100_count', 'addresses/min_1k_count', 'addresses/min_10k_count']"
   ]
  },
  {
   "cell_type": "code",
   "execution_count": 34,
   "metadata": {
    "ExecuteTime": {
     "end_time": "2020-12-26T21:33:32.502395Z",
     "start_time": "2020-12-26T21:33:26.894474Z"
    },
    "scrolled": true
   },
   "outputs": [
    {
     "name": "stdout",
     "output_type": "stream",
     "text": [
      "            addresses/active_count\n",
      "Date                              \n",
      "2020-12-22              1099356.00\n",
      "2020-12-23              1131834.00\n",
      "2020-12-24               972137.00\n",
      "2020-12-25              1025877.00\n",
      "2020-12-26               949564.00\n",
      "            addresses/sending_count\n",
      "Date                               \n",
      "2020-12-22                669771.00\n",
      "2020-12-23                684823.00\n",
      "2020-12-24                587208.00\n",
      "2020-12-25                662802.00\n",
      "2020-12-26                598441.00\n",
      "            addresses/receiving_count\n",
      "Date                                 \n",
      "2020-12-22                  738830.00\n",
      "2020-12-23                  782721.00\n",
      "2020-12-24                  639266.00\n",
      "2020-12-25                  662961.00\n",
      "2020-12-26                  627828.00\n",
      "            addresses/new_non_zero_count\n",
      "Date                                    \n",
      "2020-12-22                     528210.00\n",
      "2020-12-23                     540230.00\n",
      "2020-12-24                     447429.00\n",
      "2020-12-25                     474667.00\n",
      "2020-12-26                     448279.00\n",
      "            addresses/non_zero_count\n",
      "Date                                \n",
      "2020-12-22               33068915.00\n",
      "2020-12-23               33111216.00\n",
      "2020-12-24               33117973.00\n",
      "2020-12-25               33073258.00\n",
      "2020-12-26               33075652.00\n",
      "            addresses/min_point_zero_1_count\n",
      "Date                                        \n",
      "2020-12-22                        8550157.00\n",
      "2020-12-23                        8544699.00\n",
      "2020-12-24                        8545074.00\n",
      "2020-12-25                        8513136.00\n",
      "2020-12-26                        8490133.00\n",
      "            addresses/min_point_1_count\n",
      "Date                                   \n",
      "2020-12-22                   3139132.00\n",
      "2020-12-23                   3133057.00\n",
      "2020-12-24                   3134905.00\n",
      "2020-12-25                   3130986.00\n",
      "2020-12-26                   3122900.00\n",
      "            addresses/min_1_count\n",
      "Date                             \n",
      "2020-12-22              829715.00\n",
      "2020-12-23              828576.00\n",
      "2020-12-24              829222.00\n",
      "2020-12-25              828971.00\n",
      "2020-12-26              826721.00\n",
      "            addresses/min_10_count\n",
      "Date                              \n",
      "2020-12-22               153788.00\n",
      "2020-12-23               153724.00\n",
      "2020-12-24               153650.00\n",
      "2020-12-25               153594.00\n",
      "2020-12-26               153580.00\n",
      "            addresses/min_100_count\n",
      "Date                               \n",
      "2020-12-22                 16136.00\n",
      "2020-12-23                 16119.00\n",
      "2020-12-24                 16089.00\n",
      "2020-12-25                 16068.00\n",
      "2020-12-26                 16104.00\n",
      "            addresses/min_1k_count\n",
      "Date                              \n",
      "2020-12-22                 2252.00\n",
      "2020-12-23                 2247.00\n",
      "2020-12-24                 2232.00\n",
      "2020-12-25                 2228.00\n",
      "2020-12-26                 2221.00\n",
      "            addresses/min_10k_count\n",
      "Date                               \n",
      "2020-12-22                   105.00\n",
      "2020-12-23                   103.00\n",
      "2020-12-24                   103.00\n",
      "2020-12-25                   103.00\n",
      "2020-12-26                   102.00\n"
     ]
    }
   ],
   "source": [
    "# Data Frame of Addresses Features\n",
    "df_addresses = import_glassnode_many(addresses_feature_list)"
   ]
  },
  {
   "cell_type": "markdown",
   "metadata": {},
   "source": [
    "#### Futures Metrics from Glassnode - Excluded as Data Available Only Since Feb 2020"
   ]
  },
  {
   "cell_type": "markdown",
   "metadata": {},
   "source": [
    "##### List of Futures Features\n",
    "futures_feature_list = ['derivatives/futures_volume_daily_all_sum', 'derivatives/futures_volume_daily_perpetual_sum', 'derivatives/futures_open_interest_all_sum', 'derivatives/futures_open_interest_perpetual_sum', 'derivatives/futures_funding_rate_perpetual']"
   ]
  },
  {
   "cell_type": "markdown",
   "metadata": {},
   "source": [
    "##### Data Frame of Future features\n",
    "df_futures = import_glassnode_many(futures_feature_list)"
   ]
  },
  {
   "cell_type": "code",
   "execution_count": null,
   "metadata": {},
   "outputs": [],
   "source": []
  },
  {
   "cell_type": "markdown",
   "metadata": {},
   "source": [
    "## File Import and Data Tidying"
   ]
  },
  {
   "cell_type": "code",
   "execution_count": 35,
   "metadata": {
    "ExecuteTime": {
     "end_time": "2020-12-26T21:33:33.098986Z",
     "start_time": "2020-12-26T21:33:32.503359Z"
    },
    "scrolled": true
   },
   "outputs": [],
   "source": [
    "# Import of Modules and Packages\n",
    "import os\n",
    "import numpy as np\n",
    "import pandas as pd\n",
    "import matplotlib.pyplot as plt\n",
    "import seaborn as sns"
   ]
  },
  {
   "cell_type": "code",
   "execution_count": 36,
   "metadata": {
    "ExecuteTime": {
     "end_time": "2020-12-26T21:33:33.114937Z",
     "start_time": "2020-12-26T21:33:33.100938Z"
    }
   },
   "outputs": [],
   "source": [
    "# Adjustment of Decimal Places\n",
    "pd.options.display.float_format = '{:.6f}'.format"
   ]
  },
  {
   "cell_type": "code",
   "execution_count": 37,
   "metadata": {
    "ExecuteTime": {
     "end_time": "2020-12-26T21:33:33.130893Z",
     "start_time": "2020-12-26T21:33:33.115901Z"
    }
   },
   "outputs": [],
   "source": [
    "os.chdir('{}JupyterLabDir\\\\Rest\\\\MA BTC\\\\Markus_Code_MA_final\\\\20201010'.format(os.getcwd().split('JupyterLabDir')[0]))\n"
   ]
  },
  {
   "cell_type": "markdown",
   "metadata": {},
   "source": [
    "### Import Blockchain CSV-Files"
   ]
  },
  {
   "cell_type": "markdown",
   "metadata": {},
   "source": [
    "#### Market Metric CSV-Files"
   ]
  },
  {
   "cell_type": "code",
   "execution_count": 38,
   "metadata": {
    "ExecuteTime": {
     "end_time": "2020-12-26T21:33:33.242588Z",
     "start_time": "2020-12-26T21:33:33.131855Z"
    }
   },
   "outputs": [],
   "source": [
    "# List of Market Features\n",
    "market_feature_list = ['price_usd_close', 'price_drawdown_relative', 'price_realized_usd', 'mvrv']\n",
    "\n",
    "# Counter to Differentiate between Data Frame Setup and Data Frame Extension\n",
    "counter=0\n",
    "\n",
    "# For Loop through all Features in the List\n",
    "for x in market_feature_list:\n",
    "    \n",
    "    # Import Feature CSV-Files\n",
    "    df = pd.read_csv(\"Glassnode/{}.csv\".format(x), index_col='Date', ) #decimal=\".\"\n",
    "    \n",
    "    # Condition - Data Frame Set up or Data Frame Extension\n",
    "    if counter > 0:\n",
    "        \n",
    "        # Data Frame Extension - Inner Join\n",
    "        df_new = df_new.join(df, how='inner')\n",
    "    \n",
    "    else:\n",
    "        \n",
    "        # Data Frame Setup\n",
    "        df_new = df\n",
    "    \n",
    "    # Increase Counter\n",
    "    counter +=1\n",
    "\n",
    "# Store Data Frame Copy in Market Data Frame\n",
    "df_market = df_new.copy()\n",
    "\n",
    "# Delete Original Data Frame\n",
    "del df_new\n",
    "\n",
    "# Change Data Type of Columns to Float\n",
    "for y in df_market.columns:\n",
    "    try:\n",
    "        df_market[\"{}\".format(y)] = df_market[\"{}\".format(y)].str.replace(',','.')\n",
    "        df_market[\"{}\".format(y)] = df_market[\"{}\".format(y)].astype(float)\n",
    "    except:\n",
    "        pass"
   ]
  },
  {
   "cell_type": "code",
   "execution_count": 39,
   "metadata": {
    "ExecuteTime": {
     "end_time": "2020-12-26T21:33:33.258552Z",
     "start_time": "2020-12-26T21:33:33.244641Z"
    }
   },
   "outputs": [
    {
     "data": {
      "text/html": [
       "<div>\n",
       "<style scoped>\n",
       "    .dataframe tbody tr th:only-of-type {\n",
       "        vertical-align: middle;\n",
       "    }\n",
       "\n",
       "    .dataframe tbody tr th {\n",
       "        vertical-align: top;\n",
       "    }\n",
       "\n",
       "    .dataframe thead th {\n",
       "        text-align: right;\n",
       "    }\n",
       "</style>\n",
       "<table border=\"1\" class=\"dataframe\">\n",
       "  <thead>\n",
       "    <tr style=\"text-align: right;\">\n",
       "      <th></th>\n",
       "      <th>market/price_usd_close</th>\n",
       "      <th>market/price_drawdown_relative</th>\n",
       "      <th>market/price_realized_usd</th>\n",
       "      <th>market/mvrv</th>\n",
       "    </tr>\n",
       "    <tr>\n",
       "      <th>Date</th>\n",
       "      <th></th>\n",
       "      <th></th>\n",
       "      <th></th>\n",
       "      <th></th>\n",
       "    </tr>\n",
       "  </thead>\n",
       "  <tbody>\n",
       "    <tr>\n",
       "      <th>2020-12-22</th>\n",
       "      <td>23758.933628</td>\n",
       "      <td>-0.016668</td>\n",
       "      <td>8286.352932</td>\n",
       "      <td>2.786825</td>\n",
       "    </tr>\n",
       "    <tr>\n",
       "      <th>2020-12-23</th>\n",
       "      <td>23279.549293</td>\n",
       "      <td>-0.036508</td>\n",
       "      <td>8375.793326</td>\n",
       "      <td>2.811232</td>\n",
       "    </tr>\n",
       "    <tr>\n",
       "      <th>2020-12-24</th>\n",
       "      <td>23764.753405</td>\n",
       "      <td>-0.016427</td>\n",
       "      <td>8448.066552</td>\n",
       "      <td>2.750256</td>\n",
       "    </tr>\n",
       "    <tr>\n",
       "      <th>2020-12-25</th>\n",
       "      <td>24688.211520</td>\n",
       "      <td>-0.001589</td>\n",
       "      <td>8467.173679</td>\n",
       "      <td>2.837378</td>\n",
       "    </tr>\n",
       "    <tr>\n",
       "      <th>2020-12-26</th>\n",
       "      <td>26440.248700</td>\n",
       "      <td>-0.009069</td>\n",
       "      <td>8511.239439</td>\n",
       "      <td>2.967878</td>\n",
       "    </tr>\n",
       "  </tbody>\n",
       "</table>\n",
       "</div>"
      ],
      "text/plain": [
       "            market/price_usd_close  market/price_drawdown_relative  \\\n",
       "Date                                                                 \n",
       "2020-12-22            23758.933628                       -0.016668   \n",
       "2020-12-23            23279.549293                       -0.036508   \n",
       "2020-12-24            23764.753405                       -0.016427   \n",
       "2020-12-25            24688.211520                       -0.001589   \n",
       "2020-12-26            26440.248700                       -0.009069   \n",
       "\n",
       "            market/price_realized_usd  market/mvrv  \n",
       "Date                                                \n",
       "2020-12-22                8286.352932     2.786825  \n",
       "2020-12-23                8375.793326     2.811232  \n",
       "2020-12-24                8448.066552     2.750256  \n",
       "2020-12-25                8467.173679     2.837378  \n",
       "2020-12-26                8511.239439     2.967878  "
      ]
     },
     "execution_count": 39,
     "metadata": {},
     "output_type": "execute_result"
    }
   ],
   "source": [
    "# Latest Market Metric Values\n",
    "df_market.tail()"
   ]
  },
  {
   "cell_type": "markdown",
   "metadata": {},
   "source": [
    "#### Mining Metric CSV-Files"
   ]
  },
  {
   "cell_type": "code",
   "execution_count": 40,
   "metadata": {
    "ExecuteTime": {
     "end_time": "2020-12-26T21:33:33.274510Z",
     "start_time": "2020-12-26T21:33:33.259514Z"
    }
   },
   "outputs": [],
   "source": [
    "# # List of Mining Features\n",
    "# mining_feature_list = ['difficulty_latest'] #, 'hash_rate_mean', 'revenue_sum','marketcap_thermocap_ratio'\n",
    "\n",
    "# # For Loop through all Features in the List\n",
    "# for x in mining_feature_list:\n",
    "    \n",
    "#     # Import Feature CSV-Files\n",
    "#     df_mining_difficulty_latest = pd.read_csv(\"Glassnode/{}.csv\".format(x), index_col='Date')\n",
    "    \n",
    "# # Change Data Type of Columns to Float\n",
    "# for y in df_mining_difficulty_latest.columns:\n",
    "#     try:\n",
    "#         df_mining_difficulty_latest[\"{}\".format(y)] = df_mining_difficulty_latest[\"{}\".format(y)].str.replace(',','.')\n",
    "#         df_mining_difficulty_latest[\"{}\".format(y)] = df_mining_difficulty_latest[\"{}\".format(y)].astype(float)\n",
    "#     except:\n",
    "#         pass\n",
    "    \n",
    "# df_mining_difficulty_latest"
   ]
  },
  {
   "cell_type": "code",
   "execution_count": 41,
   "metadata": {
    "ExecuteTime": {
     "end_time": "2020-12-26T21:33:33.290469Z",
     "start_time": "2020-12-26T21:33:33.275472Z"
    }
   },
   "outputs": [],
   "source": [
    "# # List of Mining Features\n",
    "# mining_feature_list = ['hash_rate_mean'] # 'revenue_sum','marketcap_thermocap_ratio'\n",
    "\n",
    "# # For Loop through all Features in the List\n",
    "# for x in mining_feature_list:\n",
    "    \n",
    "#     # Import Feature CSV-Files\n",
    "#     df_mining_hash_rate_mean = pd.read_csv(\"Glassnode/{}.csv\".format(x), index_col='Date')\n",
    "    \n",
    "# # Change Data Type of Columns to Float\n",
    "# for y in df_mining_hash_rate_mean.columns:\n",
    "#     try:\n",
    "#         df_mining_hash_rate_mean[\"{}\".format(y)] = df_mining_hash_rate_mean[\"{}\".format(y)].str.replace(',','.')\n",
    "#         df_mining_hash_rate_mean[\"{}\".format(y)] = df_mining_hash_rate_mean[\"{}\".format(y)].astype(float)\n",
    "#     except:\n",
    "#         pass\n",
    "    \n",
    "# df_mining_hash_rate_mean"
   ]
  },
  {
   "cell_type": "code",
   "execution_count": 42,
   "metadata": {
    "ExecuteTime": {
     "end_time": "2020-12-26T21:33:33.306213Z",
     "start_time": "2020-12-26T21:33:33.292429Z"
    }
   },
   "outputs": [],
   "source": [
    "# # List of Mining Features\n",
    "# mining_feature_list = ['marketcap_thermocap_ratio'] # 'revenue_sum','marketcap_thermocap_ratio'\n",
    "\n",
    "# # For Loop through all Features in the List\n",
    "# for x in mining_feature_list:\n",
    "    \n",
    "#     # Import Feature CSV-Files\n",
    "#     df_mining_marketcap_thermocap_ratio = pd.read_csv(\"Glassnode/{}.csv\".format(x), index_col='Date')\n",
    "    \n",
    "# # Change Data Type of Columns to Float\n",
    "# for y in df_mining_marketcap_thermocap_ratio.columns:\n",
    "#     try:\n",
    "#         df_mining_marketcap_thermocap_ratio[\"{}\".format(y)] = df_mining_marketcap_thermocap_ratio[\"{}\".format(y)].str.replace(',','.')\n",
    "#         df_mining_marketcap_thermocap_ratio[\"{}\".format(y)] = df_mining_marketcap_thermocap_ratio[\"{}\".format(y)].astype(float)\n",
    "#     except:\n",
    "#         pass\n",
    "    \n",
    "# df_mining_revenue_sum"
   ]
  },
  {
   "cell_type": "code",
   "execution_count": 43,
   "metadata": {
    "ExecuteTime": {
     "end_time": "2020-12-26T21:33:33.368224Z",
     "start_time": "2020-12-26T21:33:33.308397Z"
    }
   },
   "outputs": [],
   "source": [
    "# List of Mining Features\n",
    "mining_feature_list = ['difficulty_latest', 'hash_rate_mean'] #, 'revenue_sum','marketcap_thermocap_ratio'\n",
    "\n",
    "# Counter to Differentiate between Data Frame Setup and Data Frame Extension\n",
    "counter=0\n",
    "\n",
    "# For Loop through all Features in the List\n",
    "for x in mining_feature_list:\n",
    "    \n",
    "    # Import Feature CSV-Files\n",
    "    df = pd.read_csv(\"Glassnode/{}.csv\".format(x), index_col='Date')\n",
    "    \n",
    "    # Condition - Data Frame Set up or Data Frame Extension\n",
    "    if counter > 0:\n",
    "        \n",
    "        # Data Frame Extension - Inner Join\n",
    "        df_new = df_new.join(df, how='inner')\n",
    "    \n",
    "    else:\n",
    "        \n",
    "        # Data Frame Setup\n",
    "        df_new = df\n",
    "    \n",
    "    # Increase Counter\n",
    "    counter +=1\n",
    "\n",
    "# Store Data Frame Copy in Market Data Frame    \n",
    "df_mining = df_new.copy()\n",
    "\n",
    "# Delete Original Data Frame\n",
    "del df_new\n",
    "\n",
    "# Change Data Type of Columns to Float\n",
    "for y in df_mining.columns:\n",
    "    try:\n",
    "        df_mining[\"{}\".format(y)] = df_mining[\"{}\".format(y)].str.replace(',','.')\n",
    "        df_mining[\"{}\".format(y)] = df_mining[\"{}\".format(y)].astype(float)\n",
    "    except:\n",
    "        pass"
   ]
  },
  {
   "cell_type": "code",
   "execution_count": 44,
   "metadata": {
    "ExecuteTime": {
     "end_time": "2020-12-26T21:33:33.384181Z",
     "start_time": "2020-12-26T21:33:33.369245Z"
    }
   },
   "outputs": [
    {
     "data": {
      "text/html": [
       "<div>\n",
       "<style scoped>\n",
       "    .dataframe tbody tr th:only-of-type {\n",
       "        vertical-align: middle;\n",
       "    }\n",
       "\n",
       "    .dataframe tbody tr th {\n",
       "        vertical-align: top;\n",
       "    }\n",
       "\n",
       "    .dataframe thead th {\n",
       "        text-align: right;\n",
       "    }\n",
       "</style>\n",
       "<table border=\"1\" class=\"dataframe\">\n",
       "  <thead>\n",
       "    <tr style=\"text-align: right;\">\n",
       "      <th></th>\n",
       "      <th>mining/difficulty_latest</th>\n",
       "      <th>mining/hash_rate_mean</th>\n",
       "    </tr>\n",
       "    <tr>\n",
       "      <th>Date</th>\n",
       "      <th></th>\n",
       "      <th></th>\n",
       "    </tr>\n",
       "  </thead>\n",
       "  <tbody>\n",
       "    <tr>\n",
       "      <th>2020-12-22</th>\n",
       "      <td>80187763369133704478720.000000</td>\n",
       "      <td>132165952003620995072.000000</td>\n",
       "    </tr>\n",
       "    <tr>\n",
       "      <th>2020-12-23</th>\n",
       "      <td>80187763369133704478720.000000</td>\n",
       "      <td>146111617294112997376.000000</td>\n",
       "    </tr>\n",
       "    <tr>\n",
       "      <th>2020-12-24</th>\n",
       "      <td>80187763369133704478720.000000</td>\n",
       "      <td>114954071251531005952.000000</td>\n",
       "    </tr>\n",
       "    <tr>\n",
       "      <th>2020-12-25</th>\n",
       "      <td>80187763369133704478720.000000</td>\n",
       "      <td>133658648082637996032.000000</td>\n",
       "    </tr>\n",
       "    <tr>\n",
       "      <th>2020-12-26</th>\n",
       "      <td>80187763369133704478720.000000</td>\n",
       "      <td>127352989515328995328.000000</td>\n",
       "    </tr>\n",
       "  </tbody>\n",
       "</table>\n",
       "</div>"
      ],
      "text/plain": [
       "                 mining/difficulty_latest        mining/hash_rate_mean\n",
       "Date                                                                  \n",
       "2020-12-22 80187763369133704478720.000000 132165952003620995072.000000\n",
       "2020-12-23 80187763369133704478720.000000 146111617294112997376.000000\n",
       "2020-12-24 80187763369133704478720.000000 114954071251531005952.000000\n",
       "2020-12-25 80187763369133704478720.000000 133658648082637996032.000000\n",
       "2020-12-26 80187763369133704478720.000000 127352989515328995328.000000"
      ]
     },
     "execution_count": 44,
     "metadata": {},
     "output_type": "execute_result"
    }
   ],
   "source": [
    "# Latest Mining Metric Values\n",
    "df_mining.tail()"
   ]
  },
  {
   "cell_type": "markdown",
   "metadata": {},
   "source": [
    "#### Blocks Metric CSV-Files"
   ]
  },
  {
   "cell_type": "code",
   "execution_count": 45,
   "metadata": {
    "ExecuteTime": {
     "end_time": "2020-12-26T21:33:33.462010Z",
     "start_time": "2020-12-26T21:33:33.387176Z"
    }
   },
   "outputs": [],
   "source": [
    "# List of Blockchain Features\n",
    "block_feature_list = ['block_count', 'block_interval_mean', 'block_size_sum']\n",
    "\n",
    "# Counter to Differentiate between Data Frame Setup and Data Frame Extension\n",
    "counter=0\n",
    "\n",
    "# For Loop through all Features in the List\n",
    "for x in block_feature_list:\n",
    "    \n",
    "    # Import Feature CSV-Files\n",
    "    df = pd.read_csv(\"Glassnode/{}.csv\".format(x), index_col='Date')\n",
    "    \n",
    "    # Condition - Data Frame Set up or Data Frame Extension\n",
    "    if counter > 0:\n",
    "        \n",
    "        # Data Frame Extension - Inner Join\n",
    "        df_new = df_new.join(df, how='inner')\n",
    "    \n",
    "    else:\n",
    "        \n",
    "        # Data Frame Setup\n",
    "        df_new = df\n",
    "    \n",
    "    # Increase Counter\n",
    "    counter +=1\n",
    "\n",
    "# Store Data Frame Copy in Market Data Frame\n",
    "df_blockfeatures = df_new.copy()\n",
    "\n",
    "# Delete Original Data Frame\n",
    "del df_new\n",
    "\n",
    "# Change Data Type of Columns to Float\n",
    "for y in df_blockfeatures.columns:\n",
    "    try:\n",
    "        df_blockfeatures[\"{}\".format(y)] = df_blockfeatures[\"{}\".format(y)].str.replace(',','.')\n",
    "        df_blockfeatures[\"{}\".format(y)] = df_blockfeatures[\"{}\".format(y)].astype(float)\n",
    "    except:\n",
    "        pass"
   ]
  },
  {
   "cell_type": "code",
   "execution_count": 46,
   "metadata": {
    "ExecuteTime": {
     "end_time": "2020-12-26T21:33:33.477962Z",
     "start_time": "2020-12-26T21:33:33.463968Z"
    }
   },
   "outputs": [
    {
     "data": {
      "text/html": [
       "<div>\n",
       "<style scoped>\n",
       "    .dataframe tbody tr th:only-of-type {\n",
       "        vertical-align: middle;\n",
       "    }\n",
       "\n",
       "    .dataframe tbody tr th {\n",
       "        vertical-align: top;\n",
       "    }\n",
       "\n",
       "    .dataframe thead th {\n",
       "        text-align: right;\n",
       "    }\n",
       "</style>\n",
       "<table border=\"1\" class=\"dataframe\">\n",
       "  <thead>\n",
       "    <tr style=\"text-align: right;\">\n",
       "      <th></th>\n",
       "      <th>blockchain/block_count</th>\n",
       "      <th>blockchain/block_interval_mean</th>\n",
       "      <th>blockchain/block_size_sum</th>\n",
       "    </tr>\n",
       "    <tr>\n",
       "      <th>Date</th>\n",
       "      <th></th>\n",
       "      <th></th>\n",
       "      <th></th>\n",
       "    </tr>\n",
       "  </thead>\n",
       "  <tbody>\n",
       "    <tr>\n",
       "      <th>2020-12-22</th>\n",
       "      <td>143.000000</td>\n",
       "      <td>606.720280</td>\n",
       "      <td>186197300.000000</td>\n",
       "    </tr>\n",
       "    <tr>\n",
       "      <th>2020-12-23</th>\n",
       "      <td>154.000000</td>\n",
       "      <td>548.811688</td>\n",
       "      <td>191926648.000000</td>\n",
       "    </tr>\n",
       "    <tr>\n",
       "      <th>2020-12-24</th>\n",
       "      <td>126.000000</td>\n",
       "      <td>697.563492</td>\n",
       "      <td>160033350.000000</td>\n",
       "    </tr>\n",
       "    <tr>\n",
       "      <th>2020-12-25</th>\n",
       "      <td>144.000000</td>\n",
       "      <td>599.944444</td>\n",
       "      <td>185161562.000000</td>\n",
       "    </tr>\n",
       "    <tr>\n",
       "      <th>2020-12-26</th>\n",
       "      <td>137.000000</td>\n",
       "      <td>629.649635</td>\n",
       "      <td>189726620.000000</td>\n",
       "    </tr>\n",
       "  </tbody>\n",
       "</table>\n",
       "</div>"
      ],
      "text/plain": [
       "            blockchain/block_count  blockchain/block_interval_mean  \\\n",
       "Date                                                                 \n",
       "2020-12-22              143.000000                      606.720280   \n",
       "2020-12-23              154.000000                      548.811688   \n",
       "2020-12-24              126.000000                      697.563492   \n",
       "2020-12-25              144.000000                      599.944444   \n",
       "2020-12-26              137.000000                      629.649635   \n",
       "\n",
       "            blockchain/block_size_sum  \n",
       "Date                                   \n",
       "2020-12-22           186197300.000000  \n",
       "2020-12-23           191926648.000000  \n",
       "2020-12-24           160033350.000000  \n",
       "2020-12-25           185161562.000000  \n",
       "2020-12-26           189726620.000000  "
      ]
     },
     "execution_count": 46,
     "metadata": {},
     "output_type": "execute_result"
    }
   ],
   "source": [
    "# Show Latest Feature Values\n",
    "df_blockfeatures.tail()"
   ]
  },
  {
   "cell_type": "markdown",
   "metadata": {},
   "source": [
    "#### Distribution Metric CSV-Files"
   ]
  },
  {
   "cell_type": "code",
   "execution_count": 47,
   "metadata": {
    "ExecuteTime": {
     "end_time": "2020-12-26T21:33:33.492890Z",
     "start_time": "2020-12-26T21:33:33.478927Z"
    }
   },
   "outputs": [],
   "source": [
    "# List of Distribution Features\n",
    "distribution_feature_list = ['balance_exchanges']\n",
    "# Counter to Differentiate between Data Frame Setup and Data Frame Extension\n",
    "counter=0\n",
    "\n",
    "# For Loop through all Features in the List\n",
    "for x in distribution_feature_list:\n",
    "    \n",
    "    # Import Feature CSV-Files\n",
    "    df = pd.read_csv(\"Glassnode/{}.csv\".format(x), index_col='Date')\n",
    "    \n",
    "    # Condition - Data Frame Set up or Data Frame Extension\n",
    "    if counter > 0:\n",
    "        \n",
    "        # Data Frame Extension - Inner Join\n",
    "        df_new = df_new.join(df, how='inner')\n",
    "    \n",
    "    else:\n",
    "        # Data Frame Setup\n",
    "        df_new = df\n",
    "    \n",
    "    # Increase Counter    \n",
    "    counter +=1\n",
    "\n",
    "# Store Data Frame Copy in Distribution Data Frame    \n",
    "df_distribution = df_new.copy()\n",
    "\n",
    "# Delete Original Data Frame\n",
    "del df_new\n",
    "\n",
    "# Change Data Type of Columns to Float\n",
    "for y in df_distribution.columns:\n",
    "    try:\n",
    "        df_distribution[\"{}\".format(y)] = df_distribution[\"{}\".format(y)].str.replace(',','.')\n",
    "        df_distribution[\"{}\".format(y)] = df_distribution[\"{}\".format(y)].astype(float)\n",
    "    except:\n",
    "        pass"
   ]
  },
  {
   "cell_type": "code",
   "execution_count": 48,
   "metadata": {
    "ExecuteTime": {
     "end_time": "2020-12-26T21:33:33.508935Z",
     "start_time": "2020-12-26T21:33:33.494917Z"
    }
   },
   "outputs": [
    {
     "data": {
      "text/html": [
       "<div>\n",
       "<style scoped>\n",
       "    .dataframe tbody tr th:only-of-type {\n",
       "        vertical-align: middle;\n",
       "    }\n",
       "\n",
       "    .dataframe tbody tr th {\n",
       "        vertical-align: top;\n",
       "    }\n",
       "\n",
       "    .dataframe thead th {\n",
       "        text-align: right;\n",
       "    }\n",
       "</style>\n",
       "<table border=\"1\" class=\"dataframe\">\n",
       "  <thead>\n",
       "    <tr style=\"text-align: right;\">\n",
       "      <th></th>\n",
       "      <th>distribution/balance_exchanges</th>\n",
       "    </tr>\n",
       "    <tr>\n",
       "      <th>Date</th>\n",
       "      <th></th>\n",
       "    </tr>\n",
       "  </thead>\n",
       "  <tbody>\n",
       "    <tr>\n",
       "      <th>2020-12-22</th>\n",
       "      <td>2395347.741117</td>\n",
       "    </tr>\n",
       "    <tr>\n",
       "      <th>2020-12-23</th>\n",
       "      <td>2381871.454584</td>\n",
       "    </tr>\n",
       "    <tr>\n",
       "      <th>2020-12-24</th>\n",
       "      <td>2385704.408413</td>\n",
       "    </tr>\n",
       "    <tr>\n",
       "      <th>2020-12-25</th>\n",
       "      <td>2394084.291522</td>\n",
       "    </tr>\n",
       "    <tr>\n",
       "      <th>2020-12-26</th>\n",
       "      <td>2391271.683974</td>\n",
       "    </tr>\n",
       "  </tbody>\n",
       "</table>\n",
       "</div>"
      ],
      "text/plain": [
       "            distribution/balance_exchanges\n",
       "Date                                      \n",
       "2020-12-22                  2395347.741117\n",
       "2020-12-23                  2381871.454584\n",
       "2020-12-24                  2385704.408413\n",
       "2020-12-25                  2394084.291522\n",
       "2020-12-26                  2391271.683974"
      ]
     },
     "execution_count": 48,
     "metadata": {},
     "output_type": "execute_result"
    }
   ],
   "source": [
    "# Latest Distribution Metric Values\n",
    "df_distribution.tail()"
   ]
  },
  {
   "cell_type": "markdown",
   "metadata": {},
   "source": [
    "#### Fee Metric CSV-Files"
   ]
  },
  {
   "cell_type": "code",
   "execution_count": 49,
   "metadata": {
    "ExecuteTime": {
     "end_time": "2020-12-26T21:33:33.603597Z",
     "start_time": "2020-12-26T21:33:33.509846Z"
    }
   },
   "outputs": [],
   "source": [
    "# List of Fee Features\n",
    "fees_feature_list = ['volume_sum', 'volume_mean', 'fee_ratio_multiple']\n",
    "\n",
    "# Counter to Differentiate between Data Frame Setup and Data Frame Extension\n",
    "counter=0\n",
    "\n",
    "# For Loop through all Features in the List\n",
    "for x in fees_feature_list:\n",
    "    \n",
    "    # Import Feature CSV-Files\n",
    "    df = pd.read_csv(\"Glassnode/{}.csv\".format(x), index_col='Date') #decimal=\".\"\n",
    "    \n",
    "    # Condition - Data Frame Set up or Data Frame Extension\n",
    "    if counter > 0:\n",
    "        \n",
    "        # Data Frame Extension - Inner Join\n",
    "        df_new = df_new.join(df, how='inner')\n",
    "        \n",
    "    else:\n",
    "        \n",
    "        # Data Frame Setup\n",
    "        df_new = df\n",
    "    \n",
    "    # Increase Counter\n",
    "    counter +=1\n",
    "\n",
    "# Store Data Frame Copy in Fees Data Frame    \n",
    "df_fees = df_new.copy()\n",
    "\n",
    "# Delete Original Data Frame\n",
    "del df_new\n",
    "\n",
    "# Change Data Type of Columns to Float\n",
    "for y in df_fees.columns:\n",
    "    try:\n",
    "        df_fees[\"{}\".format(y)] = df_fees[\"{}\".format(y)].str.replace(',','.')\n",
    "        df_fees[\"{}\".format(y)] = df_fees[\"{}\".format(y)].astype(float)\n",
    "    except:\n",
    "        pass"
   ]
  },
  {
   "cell_type": "code",
   "execution_count": 50,
   "metadata": {
    "ExecuteTime": {
     "end_time": "2020-12-26T21:33:33.619129Z",
     "start_time": "2020-12-26T21:33:33.605592Z"
    }
   },
   "outputs": [
    {
     "data": {
      "text/html": [
       "<div>\n",
       "<style scoped>\n",
       "    .dataframe tbody tr th:only-of-type {\n",
       "        vertical-align: middle;\n",
       "    }\n",
       "\n",
       "    .dataframe tbody tr th {\n",
       "        vertical-align: top;\n",
       "    }\n",
       "\n",
       "    .dataframe thead th {\n",
       "        text-align: right;\n",
       "    }\n",
       "</style>\n",
       "<table border=\"1\" class=\"dataframe\">\n",
       "  <thead>\n",
       "    <tr style=\"text-align: right;\">\n",
       "      <th></th>\n",
       "      <th>fees/volume_sum</th>\n",
       "      <th>fees/volume_mean</th>\n",
       "      <th>fees/fee_ratio_multiple</th>\n",
       "    </tr>\n",
       "    <tr>\n",
       "      <th>Date</th>\n",
       "      <th></th>\n",
       "      <th></th>\n",
       "      <th></th>\n",
       "    </tr>\n",
       "  </thead>\n",
       "  <tbody>\n",
       "    <tr>\n",
       "      <th>2020-12-22</th>\n",
       "      <td>133.026814</td>\n",
       "      <td>0.000411</td>\n",
       "      <td>7.718570</td>\n",
       "    </tr>\n",
       "    <tr>\n",
       "      <th>2020-12-23</th>\n",
       "      <td>143.044612</td>\n",
       "      <td>0.000423</td>\n",
       "      <td>7.728670</td>\n",
       "    </tr>\n",
       "    <tr>\n",
       "      <th>2020-12-24</th>\n",
       "      <td>106.429444</td>\n",
       "      <td>0.000395</td>\n",
       "      <td>8.399268</td>\n",
       "    </tr>\n",
       "    <tr>\n",
       "      <th>2020-12-25</th>\n",
       "      <td>92.484946</td>\n",
       "      <td>0.000304</td>\n",
       "      <td>10.731313</td>\n",
       "    </tr>\n",
       "    <tr>\n",
       "      <th>2020-12-26</th>\n",
       "      <td>69.643227</td>\n",
       "      <td>0.000254</td>\n",
       "      <td>13.294806</td>\n",
       "    </tr>\n",
       "  </tbody>\n",
       "</table>\n",
       "</div>"
      ],
      "text/plain": [
       "            fees/volume_sum  fees/volume_mean  fees/fee_ratio_multiple\n",
       "Date                                                                  \n",
       "2020-12-22       133.026814          0.000411                 7.718570\n",
       "2020-12-23       143.044612          0.000423                 7.728670\n",
       "2020-12-24       106.429444          0.000395                 8.399268\n",
       "2020-12-25        92.484946          0.000304                10.731313\n",
       "2020-12-26        69.643227          0.000254                13.294806"
      ]
     },
     "execution_count": 50,
     "metadata": {},
     "output_type": "execute_result"
    }
   ],
   "source": [
    "# Latest Fee Metric Values\n",
    "df_fees.tail()"
   ]
  },
  {
   "cell_type": "markdown",
   "metadata": {},
   "source": [
    "#### UTXO Metric CSV-Files"
   ]
  },
  {
   "cell_type": "code",
   "execution_count": 51,
   "metadata": {
    "ExecuteTime": {
     "end_time": "2020-12-26T21:33:33.793118Z",
     "start_time": "2020-12-26T21:33:33.620549Z"
    }
   },
   "outputs": [],
   "source": [
    "# List of UTXO Features\n",
    "utxo_feature_list = ['utxo_created_count', 'utxo_spent_count','utxo_created_value_sum', 'utxo_spent_value_sum', 'utxo_profit_relative', 'utxo_profit_count', 'utxo_loss_count']\n",
    "\n",
    "# Counter to Differentiate between Data Frame Setup and Data Frame Extension\n",
    "counter=0\n",
    "\n",
    "# For Loop through all Features in the List\n",
    "for x in utxo_feature_list:\n",
    "    \n",
    "    # Import Feature CSV-Files\n",
    "    df = pd.read_csv(\"Glassnode/{}.csv\".format(x), index_col='Date', ) #decimal=\".\"\n",
    "    \n",
    "    # Condition - Data Frame Set up or Data Frame Extension\n",
    "    if counter > 0:\n",
    "        \n",
    "        # Data Frame Extension - Inner Join\n",
    "        df_new = df_new.join(df, how='inner')\n",
    "    \n",
    "    else:\n",
    "        \n",
    "        # Data Frame Setup\n",
    "        df_new = df\n",
    "\n",
    "    # Increase Counter\n",
    "    counter +=1\n",
    "\n",
    "# Store Data Frame Copy in UTXO Data Frame\n",
    "df_utxo = df_new.copy()\n",
    "\n",
    "# Delete Original Data Frame\n",
    "del df_new\n",
    "\n",
    "# Change Data Type of Columns to Float\n",
    "for y in df_utxo.columns:\n",
    "    try:\n",
    "        df_utxo[\"{}\".format(y)] = df_utxo[\"{}\".format(y)].str.replace(',','.')\n",
    "        df_utxo[\"{}\".format(y)] = df_utxo[\"{}\".format(y)].astype(float)\n",
    "    except:\n",
    "        pass"
   ]
  },
  {
   "cell_type": "code",
   "execution_count": 52,
   "metadata": {
    "ExecuteTime": {
     "end_time": "2020-12-26T21:33:33.809046Z",
     "start_time": "2020-12-26T21:33:33.795086Z"
    }
   },
   "outputs": [
    {
     "data": {
      "text/html": [
       "<div>\n",
       "<style scoped>\n",
       "    .dataframe tbody tr th:only-of-type {\n",
       "        vertical-align: middle;\n",
       "    }\n",
       "\n",
       "    .dataframe tbody tr th {\n",
       "        vertical-align: top;\n",
       "    }\n",
       "\n",
       "    .dataframe thead th {\n",
       "        text-align: right;\n",
       "    }\n",
       "</style>\n",
       "<table border=\"1\" class=\"dataframe\">\n",
       "  <thead>\n",
       "    <tr style=\"text-align: right;\">\n",
       "      <th></th>\n",
       "      <th>blockchain/utxo_created_count</th>\n",
       "      <th>blockchain/utxo_spent_count</th>\n",
       "      <th>blockchain/utxo_created_value_sum</th>\n",
       "      <th>blockchain/utxo_spent_value_sum</th>\n",
       "      <th>blockchain/utxo_profit_relative</th>\n",
       "      <th>blockchain/utxo_profit_count</th>\n",
       "      <th>blockchain/utxo_loss_count</th>\n",
       "    </tr>\n",
       "    <tr>\n",
       "      <th>Date</th>\n",
       "      <th></th>\n",
       "      <th></th>\n",
       "      <th></th>\n",
       "      <th></th>\n",
       "      <th></th>\n",
       "      <th></th>\n",
       "      <th></th>\n",
       "    </tr>\n",
       "  </thead>\n",
       "  <tbody>\n",
       "    <tr>\n",
       "      <th>2020-12-22</th>\n",
       "      <td>940355.000000</td>\n",
       "      <td>881579.000000</td>\n",
       "      <td>2040795.083998</td>\n",
       "      <td>2039901.333998</td>\n",
       "      <td>0.997969</td>\n",
       "      <td>115536726.000000</td>\n",
       "      <td>228390.000000</td>\n",
       "    </tr>\n",
       "    <tr>\n",
       "      <th>2020-12-23</th>\n",
       "      <td>1000784.000000</td>\n",
       "      <td>910566.000000</td>\n",
       "      <td>2006004.456482</td>\n",
       "      <td>2005041.956482</td>\n",
       "      <td>0.989296</td>\n",
       "      <td>114621933.000000</td>\n",
       "      <td>1240201.000000</td>\n",
       "    </tr>\n",
       "    <tr>\n",
       "      <th>2020-12-24</th>\n",
       "      <td>813920.000000</td>\n",
       "      <td>767276.000000</td>\n",
       "      <td>2115162.459113</td>\n",
       "      <td>2114374.959113</td>\n",
       "      <td>0.997990</td>\n",
       "      <td>115675765.000000</td>\n",
       "      <td>233013.000000</td>\n",
       "    </tr>\n",
       "    <tr>\n",
       "      <th>2020-12-25</th>\n",
       "      <td>847493.000000</td>\n",
       "      <td>901673.000000</td>\n",
       "      <td>2043474.790273</td>\n",
       "      <td>2042574.790273</td>\n",
       "      <td>0.999961</td>\n",
       "      <td>115850112.000000</td>\n",
       "      <td>4486.000000</td>\n",
       "    </tr>\n",
       "    <tr>\n",
       "      <th>2020-12-26</th>\n",
       "      <td>795770.000000</td>\n",
       "      <td>863067.000000</td>\n",
       "      <td>2013537.272122</td>\n",
       "      <td>2012681.022122</td>\n",
       "      <td>0.999491</td>\n",
       "      <td>115728359.000000</td>\n",
       "      <td>58942.000000</td>\n",
       "    </tr>\n",
       "  </tbody>\n",
       "</table>\n",
       "</div>"
      ],
      "text/plain": [
       "            blockchain/utxo_created_count  blockchain/utxo_spent_count  \\\n",
       "Date                                                                     \n",
       "2020-12-22                  940355.000000                881579.000000   \n",
       "2020-12-23                 1000784.000000                910566.000000   \n",
       "2020-12-24                  813920.000000                767276.000000   \n",
       "2020-12-25                  847493.000000                901673.000000   \n",
       "2020-12-26                  795770.000000                863067.000000   \n",
       "\n",
       "            blockchain/utxo_created_value_sum  \\\n",
       "Date                                            \n",
       "2020-12-22                     2040795.083998   \n",
       "2020-12-23                     2006004.456482   \n",
       "2020-12-24                     2115162.459113   \n",
       "2020-12-25                     2043474.790273   \n",
       "2020-12-26                     2013537.272122   \n",
       "\n",
       "            blockchain/utxo_spent_value_sum  blockchain/utxo_profit_relative  \\\n",
       "Date                                                                           \n",
       "2020-12-22                   2039901.333998                         0.997969   \n",
       "2020-12-23                   2005041.956482                         0.989296   \n",
       "2020-12-24                   2114374.959113                         0.997990   \n",
       "2020-12-25                   2042574.790273                         0.999961   \n",
       "2020-12-26                   2012681.022122                         0.999491   \n",
       "\n",
       "            blockchain/utxo_profit_count  blockchain/utxo_loss_count  \n",
       "Date                                                                  \n",
       "2020-12-22              115536726.000000               228390.000000  \n",
       "2020-12-23              114621933.000000              1240201.000000  \n",
       "2020-12-24              115675765.000000               233013.000000  \n",
       "2020-12-25              115850112.000000                 4486.000000  \n",
       "2020-12-26              115728359.000000                58942.000000  "
      ]
     },
     "execution_count": 52,
     "metadata": {},
     "output_type": "execute_result"
    }
   ],
   "source": [
    "# Latest UTXO Metric Values\n",
    "df_utxo.tail()"
   ]
  },
  {
   "cell_type": "markdown",
   "metadata": {},
   "source": [
    "#### Supply Metric CSV-Files"
   ]
  },
  {
   "cell_type": "code",
   "execution_count": 53,
   "metadata": {
    "ExecuteTime": {
     "end_time": "2020-12-26T21:33:34.362598Z",
     "start_time": "2020-12-26T21:33:33.810045Z"
    }
   },
   "outputs": [],
   "source": [
    "# List of Supply Features\n",
    "supply_feature_list = ['current','profit_relative', 'profit_sum', 'loss_sum', 'active_more_1y_percent', 'active_more_2y_percent', 'active_more_3y_percent', 'active_more_5y_percent', 'active_24h', 'active_1d_1w', 'active_1w_1m', 'active_1m_3m', 'active_3m_6m', 'active_6m_12m', 'active_1y_2y', 'active_2y_3y', 'active_3y_5y', 'active_5y_7y', 'active_7y_10y', 'active_more_10y', 'issued', 'inflation_rate']\n",
    "\n",
    "# Counter to Differentiate between Data Frame Setup and Data Frame Extension\n",
    "counter=0\n",
    "\n",
    "# For Loop through all Features in the List\n",
    "for x in supply_feature_list:\n",
    "    \n",
    "    # Import Feature CSV-Files\n",
    "    df = pd.read_csv(\"Glassnode/{}.csv\".format(x), index_col='Date', ) #decimal=\".\"\n",
    "    \n",
    "    # Condition - Data Frame Set up or Data Frame Extension\n",
    "    if counter > 0:\n",
    "        \n",
    "        # Data Frame Extension - Inner Join\n",
    "        df_new = df_new.join(df, how='inner')\n",
    "    \n",
    "    else:\n",
    "        \n",
    "        # Data Frame Setup\n",
    "        df_new = df\n",
    "    \n",
    "    # Increase Counter\n",
    "    counter +=1\n",
    "\n",
    "# Store Data Frame Copy in Supply Data Frame    \n",
    "df_supply = df_new.copy()\n",
    "\n",
    "# Delete Original Data Frame\n",
    "del df_new\n",
    "\n",
    "# Change Data Type of Columns to Float\n",
    "for y in df_supply.columns:\n",
    "    try:\n",
    "        df_supply[\"{}\".format(y)] = df_supply[\"{}\".format(y)].str.replace(',','.')\n",
    "        df_supply[\"{}\".format(y)] = df_supply[\"{}\".format(y)].astype(float)\n",
    "    except:\n",
    "        pass"
   ]
  },
  {
   "cell_type": "code",
   "execution_count": 54,
   "metadata": {
    "ExecuteTime": {
     "end_time": "2020-12-26T21:33:34.393588Z",
     "start_time": "2020-12-26T21:33:34.363578Z"
    }
   },
   "outputs": [
    {
     "data": {
      "text/html": [
       "<div>\n",
       "<style scoped>\n",
       "    .dataframe tbody tr th:only-of-type {\n",
       "        vertical-align: middle;\n",
       "    }\n",
       "\n",
       "    .dataframe tbody tr th {\n",
       "        vertical-align: top;\n",
       "    }\n",
       "\n",
       "    .dataframe thead th {\n",
       "        text-align: right;\n",
       "    }\n",
       "</style>\n",
       "<table border=\"1\" class=\"dataframe\">\n",
       "  <thead>\n",
       "    <tr style=\"text-align: right;\">\n",
       "      <th></th>\n",
       "      <th>supply/current</th>\n",
       "      <th>supply/profit_relative</th>\n",
       "      <th>supply/profit_sum</th>\n",
       "      <th>supply/loss_sum</th>\n",
       "      <th>supply/active_more_1y_percent</th>\n",
       "      <th>supply/active_more_2y_percent</th>\n",
       "      <th>supply/active_more_3y_percent</th>\n",
       "      <th>supply/active_more_5y_percent</th>\n",
       "      <th>supply/active_24h</th>\n",
       "      <th>supply/active_1d_1w</th>\n",
       "      <th>...</th>\n",
       "      <th>supply/active_3m_6m</th>\n",
       "      <th>supply/active_6m_12m</th>\n",
       "      <th>supply/active_1y_2y</th>\n",
       "      <th>supply/active_2y_3y</th>\n",
       "      <th>supply/active_3y_5y</th>\n",
       "      <th>supply/active_5y_7y</th>\n",
       "      <th>supply/active_7y_10y</th>\n",
       "      <th>supply/active_more_10y</th>\n",
       "      <th>supply/issued</th>\n",
       "      <th>supply/inflation_rate</th>\n",
       "    </tr>\n",
       "    <tr>\n",
       "      <th>Date</th>\n",
       "      <th></th>\n",
       "      <th></th>\n",
       "      <th></th>\n",
       "      <th></th>\n",
       "      <th></th>\n",
       "      <th></th>\n",
       "      <th></th>\n",
       "      <th></th>\n",
       "      <th></th>\n",
       "      <th></th>\n",
       "      <th></th>\n",
       "      <th></th>\n",
       "      <th></th>\n",
       "      <th></th>\n",
       "      <th></th>\n",
       "      <th></th>\n",
       "      <th></th>\n",
       "      <th></th>\n",
       "      <th></th>\n",
       "      <th></th>\n",
       "      <th></th>\n",
       "    </tr>\n",
       "  </thead>\n",
       "  <tbody>\n",
       "    <tr>\n",
       "      <th>2020-12-22</th>\n",
       "      <td>18578462.500000</td>\n",
       "      <td>0.993801</td>\n",
       "      <td>18450395.768873</td>\n",
       "      <td>95579.730503</td>\n",
       "      <td>0.596984</td>\n",
       "      <td>0.473157</td>\n",
       "      <td>0.337580</td>\n",
       "      <td>0.219012</td>\n",
       "      <td>375438.876473</td>\n",
       "      <td>928000.853458</td>\n",
       "      <td>...</td>\n",
       "      <td>1195736.437660</td>\n",
       "      <td>1748508.833361</td>\n",
       "      <td>2300520.979271</td>\n",
       "      <td>2518802.397737</td>\n",
       "      <td>2202813.222243</td>\n",
       "      <td>795407.551748</td>\n",
       "      <td>1412919.631347</td>\n",
       "      <td>1860580.020039</td>\n",
       "      <td>893.750000</td>\n",
       "      <td>0.017714</td>\n",
       "    </tr>\n",
       "    <tr>\n",
       "      <th>2020-12-23</th>\n",
       "      <td>18579425.000000</td>\n",
       "      <td>0.967662</td>\n",
       "      <td>17966047.101468</td>\n",
       "      <td>600407.494030</td>\n",
       "      <td>0.596198</td>\n",
       "      <td>0.472609</td>\n",
       "      <td>0.337903</td>\n",
       "      <td>0.219022</td>\n",
       "      <td>337956.508149</td>\n",
       "      <td>1028577.905221</td>\n",
       "      <td>...</td>\n",
       "      <td>1184297.599709</td>\n",
       "      <td>1708365.878369</td>\n",
       "      <td>2296224.304989</td>\n",
       "      <td>2502755.199186</td>\n",
       "      <td>2208732.490139</td>\n",
       "      <td>795245.773950</td>\n",
       "      <td>1413201.927403</td>\n",
       "      <td>1860863.530039</td>\n",
       "      <td>962.500000</td>\n",
       "      <td>0.019088</td>\n",
       "    </tr>\n",
       "    <tr>\n",
       "      <th>2020-12-24</th>\n",
       "      <td>18580212.500000</td>\n",
       "      <td>0.994780</td>\n",
       "      <td>18470314.542264</td>\n",
       "      <td>96927.553235</td>\n",
       "      <td>0.596083</td>\n",
       "      <td>0.472541</td>\n",
       "      <td>0.338230</td>\n",
       "      <td>0.219029</td>\n",
       "      <td>377139.138342</td>\n",
       "      <td>940901.181635</td>\n",
       "      <td>...</td>\n",
       "      <td>1192682.921490</td>\n",
       "      <td>1683413.997615</td>\n",
       "      <td>2295449.138291</td>\n",
       "      <td>2495530.848223</td>\n",
       "      <td>2214773.975731</td>\n",
       "      <td>794812.141882</td>\n",
       "      <td>1413510.852302</td>\n",
       "      <td>1861281.040039</td>\n",
       "      <td>787.500000</td>\n",
       "      <td>0.015590</td>\n",
       "    </tr>\n",
       "    <tr>\n",
       "      <th>2020-12-25</th>\n",
       "      <td>18581112.500000</td>\n",
       "      <td>0.999060</td>\n",
       "      <td>18550682.864399</td>\n",
       "      <td>17459.231099</td>\n",
       "      <td>0.596005</td>\n",
       "      <td>0.472420</td>\n",
       "      <td>0.338620</td>\n",
       "      <td>0.219090</td>\n",
       "      <td>160312.628412</td>\n",
       "      <td>935645.655444</td>\n",
       "      <td>...</td>\n",
       "      <td>1193118.529370</td>\n",
       "      <td>1682577.421704</td>\n",
       "      <td>2296346.525161</td>\n",
       "      <td>2486168.540529</td>\n",
       "      <td>2220997.771787</td>\n",
       "      <td>795663.645221</td>\n",
       "      <td>1412964.450601</td>\n",
       "      <td>1862302.720039</td>\n",
       "      <td>900.000000</td>\n",
       "      <td>0.017836</td>\n",
       "    </tr>\n",
       "    <tr>\n",
       "      <th>2020-12-26</th>\n",
       "      <td>18581968.750000</td>\n",
       "      <td>0.998221</td>\n",
       "      <td>18535955.256937</td>\n",
       "      <td>33043.088561</td>\n",
       "      <td>0.595695</td>\n",
       "      <td>0.472188</td>\n",
       "      <td>0.338818</td>\n",
       "      <td>0.219040</td>\n",
       "      <td>203462.839580</td>\n",
       "      <td>901935.775577</td>\n",
       "      <td>...</td>\n",
       "      <td>1184073.764434</td>\n",
       "      <td>1682796.389856</td>\n",
       "      <td>2295009.952812</td>\n",
       "      <td>2478281.572923</td>\n",
       "      <td>2225699.106010</td>\n",
       "      <td>794756.605631</td>\n",
       "      <td>1412534.697738</td>\n",
       "      <td>1862909.485784</td>\n",
       "      <td>856.250000</td>\n",
       "      <td>0.016961</td>\n",
       "    </tr>\n",
       "  </tbody>\n",
       "</table>\n",
       "<p>5 rows × 22 columns</p>\n",
       "</div>"
      ],
      "text/plain": [
       "            supply/current  supply/profit_relative  supply/profit_sum  \\\n",
       "Date                                                                    \n",
       "2020-12-22 18578462.500000                0.993801    18450395.768873   \n",
       "2020-12-23 18579425.000000                0.967662    17966047.101468   \n",
       "2020-12-24 18580212.500000                0.994780    18470314.542264   \n",
       "2020-12-25 18581112.500000                0.999060    18550682.864399   \n",
       "2020-12-26 18581968.750000                0.998221    18535955.256937   \n",
       "\n",
       "            supply/loss_sum  supply/active_more_1y_percent  \\\n",
       "Date                                                         \n",
       "2020-12-22     95579.730503                       0.596984   \n",
       "2020-12-23    600407.494030                       0.596198   \n",
       "2020-12-24     96927.553235                       0.596083   \n",
       "2020-12-25     17459.231099                       0.596005   \n",
       "2020-12-26     33043.088561                       0.595695   \n",
       "\n",
       "            supply/active_more_2y_percent  supply/active_more_3y_percent  \\\n",
       "Date                                                                       \n",
       "2020-12-22                       0.473157                       0.337580   \n",
       "2020-12-23                       0.472609                       0.337903   \n",
       "2020-12-24                       0.472541                       0.338230   \n",
       "2020-12-25                       0.472420                       0.338620   \n",
       "2020-12-26                       0.472188                       0.338818   \n",
       "\n",
       "            supply/active_more_5y_percent  supply/active_24h  \\\n",
       "Date                                                           \n",
       "2020-12-22                       0.219012      375438.876473   \n",
       "2020-12-23                       0.219022      337956.508149   \n",
       "2020-12-24                       0.219029      377139.138342   \n",
       "2020-12-25                       0.219090      160312.628412   \n",
       "2020-12-26                       0.219040      203462.839580   \n",
       "\n",
       "            supply/active_1d_1w  ...  supply/active_3m_6m  \\\n",
       "Date                             ...                        \n",
       "2020-12-22        928000.853458  ...       1195736.437660   \n",
       "2020-12-23       1028577.905221  ...       1184297.599709   \n",
       "2020-12-24        940901.181635  ...       1192682.921490   \n",
       "2020-12-25        935645.655444  ...       1193118.529370   \n",
       "2020-12-26        901935.775577  ...       1184073.764434   \n",
       "\n",
       "            supply/active_6m_12m  supply/active_1y_2y  supply/active_2y_3y  \\\n",
       "Date                                                                         \n",
       "2020-12-22        1748508.833361       2300520.979271       2518802.397737   \n",
       "2020-12-23        1708365.878369       2296224.304989       2502755.199186   \n",
       "2020-12-24        1683413.997615       2295449.138291       2495530.848223   \n",
       "2020-12-25        1682577.421704       2296346.525161       2486168.540529   \n",
       "2020-12-26        1682796.389856       2295009.952812       2478281.572923   \n",
       "\n",
       "            supply/active_3y_5y  supply/active_5y_7y  supply/active_7y_10y  \\\n",
       "Date                                                                         \n",
       "2020-12-22       2202813.222243        795407.551748        1412919.631347   \n",
       "2020-12-23       2208732.490139        795245.773950        1413201.927403   \n",
       "2020-12-24       2214773.975731        794812.141882        1413510.852302   \n",
       "2020-12-25       2220997.771787        795663.645221        1412964.450601   \n",
       "2020-12-26       2225699.106010        794756.605631        1412534.697738   \n",
       "\n",
       "            supply/active_more_10y  supply/issued  supply/inflation_rate  \n",
       "Date                                                                      \n",
       "2020-12-22          1860580.020039     893.750000               0.017714  \n",
       "2020-12-23          1860863.530039     962.500000               0.019088  \n",
       "2020-12-24          1861281.040039     787.500000               0.015590  \n",
       "2020-12-25          1862302.720039     900.000000               0.017836  \n",
       "2020-12-26          1862909.485784     856.250000               0.016961  \n",
       "\n",
       "[5 rows x 22 columns]"
      ]
     },
     "execution_count": 54,
     "metadata": {},
     "output_type": "execute_result"
    }
   ],
   "source": [
    "# Latest Supply Metric Values\n",
    "df_supply.tail()"
   ]
  },
  {
   "cell_type": "markdown",
   "metadata": {},
   "source": [
    "#### Transaction Metric CSV-Files"
   ]
  },
  {
   "cell_type": "code",
   "execution_count": 55,
   "metadata": {
    "ExecuteTime": {
     "end_time": "2020-12-26T21:33:34.472305Z",
     "start_time": "2020-12-26T21:33:34.394483Z"
    }
   },
   "outputs": [],
   "source": [
    "# List of Transaction features\n",
    "transaction_feature_list = ['count', 'size_sum','transfers_volume_sum', 'transfers_volume_adjusted_sum']\n",
    "\n",
    "# Counter to Differentiate between Data Frame Setup and Data Frame Extension\n",
    "counter=0\n",
    "\n",
    "# For Loop through all Features in the List\n",
    "for x in transaction_feature_list:\n",
    "    \n",
    "    # Import Feature CSV-Files\n",
    "    df = pd.read_csv(\"Glassnode/{}.csv\".format(x), index_col='Date', ) #decimal=\".\"\n",
    "    \n",
    "    # Condition - Data Frame Set up or Data Frame Extension\n",
    "    if counter > 0:\n",
    "        \n",
    "        # Data Frame Extension - Inner Join\n",
    "        df_new = df_new.join(df, how='inner')\n",
    "    \n",
    "    else:\n",
    "        \n",
    "        # Data Frame Setup\n",
    "        df_new = df\n",
    "    \n",
    "    # Increase Counter\n",
    "    counter +=1\n",
    "\n",
    "# Store Data Frame Copy in Transaction Data Frame\n",
    "df_transaction = df_new.copy()\n",
    "\n",
    "# Delete Original Data Frame\n",
    "del df_new\n",
    "\n",
    "# Change Data Type of Columns to Float\n",
    "for y in df_transaction.columns:\n",
    "    try:\n",
    "        df_transaction[\"{}\".format(y)] = df_transaction[\"{}\".format(y)].str.replace(',','.')\n",
    "        df_transaction[\"{}\".format(y)] = df_transaction[\"{}\".format(y)].astype(float)\n",
    "    except:\n",
    "        pass"
   ]
  },
  {
   "cell_type": "code",
   "execution_count": 56,
   "metadata": {
    "ExecuteTime": {
     "end_time": "2020-12-26T21:33:34.488269Z",
     "start_time": "2020-12-26T21:33:34.473280Z"
    }
   },
   "outputs": [
    {
     "data": {
      "text/html": [
       "<div>\n",
       "<style scoped>\n",
       "    .dataframe tbody tr th:only-of-type {\n",
       "        vertical-align: middle;\n",
       "    }\n",
       "\n",
       "    .dataframe tbody tr th {\n",
       "        vertical-align: top;\n",
       "    }\n",
       "\n",
       "    .dataframe thead th {\n",
       "        text-align: right;\n",
       "    }\n",
       "</style>\n",
       "<table border=\"1\" class=\"dataframe\">\n",
       "  <thead>\n",
       "    <tr style=\"text-align: right;\">\n",
       "      <th></th>\n",
       "      <th>transactions/count</th>\n",
       "      <th>transactions/size_sum</th>\n",
       "      <th>transactions/transfers_volume_sum</th>\n",
       "      <th>transactions/transfers_volume_adjusted_sum</th>\n",
       "    </tr>\n",
       "    <tr>\n",
       "      <th>Date</th>\n",
       "      <th></th>\n",
       "      <th></th>\n",
       "      <th></th>\n",
       "      <th></th>\n",
       "    </tr>\n",
       "  </thead>\n",
       "  <tbody>\n",
       "    <tr>\n",
       "      <th>2020-12-22</th>\n",
       "      <td>324020.000000</td>\n",
       "      <td>186139711.000000</td>\n",
       "      <td>2039768.307184</td>\n",
       "      <td>734478.588800</td>\n",
       "    </tr>\n",
       "    <tr>\n",
       "      <th>2020-12-23</th>\n",
       "      <td>338309.000000</td>\n",
       "      <td>191864565.000000</td>\n",
       "      <td>2004898.911870</td>\n",
       "      <td>714836.321250</td>\n",
       "    </tr>\n",
       "    <tr>\n",
       "      <th>2020-12-24</th>\n",
       "      <td>269433.000000</td>\n",
       "      <td>159983541.000000</td>\n",
       "      <td>2114268.529668</td>\n",
       "      <td>537084.844518</td>\n",
       "    </tr>\n",
       "    <tr>\n",
       "      <th>2020-12-25</th>\n",
       "      <td>303757.000000</td>\n",
       "      <td>185103589.000000</td>\n",
       "      <td>2042482.305327</td>\n",
       "      <td>371194.169582</td>\n",
       "    </tr>\n",
       "    <tr>\n",
       "      <th>2020-12-26</th>\n",
       "      <td>273817.000000</td>\n",
       "      <td>189670059.000000</td>\n",
       "      <td>2012611.378894</td>\n",
       "      <td>435542.248384</td>\n",
       "    </tr>\n",
       "  </tbody>\n",
       "</table>\n",
       "</div>"
      ],
      "text/plain": [
       "            transactions/count  transactions/size_sum  \\\n",
       "Date                                                    \n",
       "2020-12-22       324020.000000       186139711.000000   \n",
       "2020-12-23       338309.000000       191864565.000000   \n",
       "2020-12-24       269433.000000       159983541.000000   \n",
       "2020-12-25       303757.000000       185103589.000000   \n",
       "2020-12-26       273817.000000       189670059.000000   \n",
       "\n",
       "            transactions/transfers_volume_sum  \\\n",
       "Date                                            \n",
       "2020-12-22                     2039768.307184   \n",
       "2020-12-23                     2004898.911870   \n",
       "2020-12-24                     2114268.529668   \n",
       "2020-12-25                     2042482.305327   \n",
       "2020-12-26                     2012611.378894   \n",
       "\n",
       "            transactions/transfers_volume_adjusted_sum  \n",
       "Date                                                    \n",
       "2020-12-22                               734478.588800  \n",
       "2020-12-23                               714836.321250  \n",
       "2020-12-24                               537084.844518  \n",
       "2020-12-25                               371194.169582  \n",
       "2020-12-26                               435542.248384  "
      ]
     },
     "execution_count": 56,
     "metadata": {},
     "output_type": "execute_result"
    }
   ],
   "source": [
    "# Latest Transaction Metric Values\n",
    "df_transaction.tail()"
   ]
  },
  {
   "cell_type": "markdown",
   "metadata": {},
   "source": [
    "#### Exchange Metrics CSV-Files"
   ]
  },
  {
   "cell_type": "code",
   "execution_count": 57,
   "metadata": {
    "ExecuteTime": {
     "end_time": "2020-12-26T21:33:34.504190Z",
     "start_time": "2020-12-26T21:33:34.489229Z"
    }
   },
   "outputs": [],
   "source": [
    "# List of Exchange Features\n",
    "exchange_feature_list = ['transfers_volume_to_exchanges_sum', \n",
    "                         'transfers_volume_from_exchanges_sum',\n",
    "                         'transfers_to_exchanges_count', \n",
    "                         'transfers_from_exchanges_count',\n",
    "                         'transfers_volume_exchanges_net']\n",
    "\n",
    "\n",
    "# Counter to Differentiate between Data Frame Setup and Data Frame Extension\n",
    "counter=0\n",
    "\n",
    "# For Loop through all Features in the List\n",
    "for x in exchange_feature_list:\n",
    "    \n",
    "    # Import Feature CSV-Files\n",
    "    df = pd.read_csv(\"Glassnode/{}.csv\".format(x), index_col='Date', ) #decimal=\".\"\n",
    "    \n",
    "    # Condition - Data Frame Set up or Data Frame Extension\n",
    "    if counter > 0:\n",
    "        \n",
    "        # Data Frame Extension - Inner Join\n",
    "        df_new = df_new.join(df, how='inner')\n",
    "    \n",
    "    else:\n",
    "        \n",
    "        # Data Frame Setup\n",
    "        df_new = df\n",
    "    \n",
    "    # Increase Counter\n",
    "    counter +=1\n",
    "\n",
    "# Store Data Frame Copy in Exchange Data Frame    \n",
    "df_exchange = df_new.copy()\n",
    "\n",
    "# Delete Original Data Frame\n",
    "del df_new\n",
    "\n",
    "# Change Data Type of Columns to Float\n",
    "for y in df_exchange.columns:\n",
    "    try:\n",
    "        df_exchange[\"{}\".format(y)] = df_exchange[\"{}\".format(y)].str.replace(',','.')\n",
    "        df_exchange[\"{}\".format(y)] = df_exchange[\"{}\".format(y)].astype(float)\n",
    "    except:\n",
    "        pass"
   ]
  },
  {
   "cell_type": "code",
   "execution_count": 58,
   "metadata": {
    "ExecuteTime": {
     "end_time": "2020-12-26T21:33:34.520147Z",
     "start_time": "2020-12-26T21:33:34.505188Z"
    }
   },
   "outputs": [
    {
     "data": {
      "text/html": [
       "<div>\n",
       "<style scoped>\n",
       "    .dataframe tbody tr th:only-of-type {\n",
       "        vertical-align: middle;\n",
       "    }\n",
       "\n",
       "    .dataframe tbody tr th {\n",
       "        vertical-align: top;\n",
       "    }\n",
       "\n",
       "    .dataframe thead th {\n",
       "        text-align: right;\n",
       "    }\n",
       "</style>\n",
       "<table border=\"1\" class=\"dataframe\">\n",
       "  <thead>\n",
       "    <tr style=\"text-align: right;\">\n",
       "      <th></th>\n",
       "      <th>transactions/transfers_volume_to_exchanges_sum</th>\n",
       "      <th>transactions/transfers_volume_from_exchanges_sum</th>\n",
       "      <th>transactions/transfers_to_exchanges_count</th>\n",
       "      <th>transactions/transfers_from_exchanges_count</th>\n",
       "      <th>transactions/transfers_volume_exchanges_net</th>\n",
       "    </tr>\n",
       "    <tr>\n",
       "      <th>Date</th>\n",
       "      <th></th>\n",
       "      <th></th>\n",
       "      <th></th>\n",
       "      <th></th>\n",
       "      <th></th>\n",
       "    </tr>\n",
       "  </thead>\n",
       "  <tbody>\n",
       "    <tr>\n",
       "      <th>2020-12-22</th>\n",
       "      <td>59177.650653</td>\n",
       "      <td>78803.879638</td>\n",
       "      <td>61549.000000</td>\n",
       "      <td>48885.000000</td>\n",
       "      <td>-19626.228985</td>\n",
       "    </tr>\n",
       "    <tr>\n",
       "      <th>2020-12-23</th>\n",
       "      <td>83633.049593</td>\n",
       "      <td>97093.692567</td>\n",
       "      <td>68670.000000</td>\n",
       "      <td>47368.000000</td>\n",
       "      <td>-13460.642974</td>\n",
       "    </tr>\n",
       "    <tr>\n",
       "      <th>2020-12-24</th>\n",
       "      <td>56540.105385</td>\n",
       "      <td>52695.442867</td>\n",
       "      <td>54525.000000</td>\n",
       "      <td>44395.000000</td>\n",
       "      <td>3844.662518</td>\n",
       "    </tr>\n",
       "    <tr>\n",
       "      <th>2020-12-25</th>\n",
       "      <td>38213.539220</td>\n",
       "      <td>29821.667641</td>\n",
       "      <td>56010.000000</td>\n",
       "      <td>32189.000000</td>\n",
       "      <td>8391.871579</td>\n",
       "    </tr>\n",
       "    <tr>\n",
       "      <th>2020-12-26</th>\n",
       "      <td>32126.257538</td>\n",
       "      <td>34927.838649</td>\n",
       "      <td>55271.000000</td>\n",
       "      <td>40047.000000</td>\n",
       "      <td>-2801.581111</td>\n",
       "    </tr>\n",
       "  </tbody>\n",
       "</table>\n",
       "</div>"
      ],
      "text/plain": [
       "            transactions/transfers_volume_to_exchanges_sum  \\\n",
       "Date                                                         \n",
       "2020-12-22                                    59177.650653   \n",
       "2020-12-23                                    83633.049593   \n",
       "2020-12-24                                    56540.105385   \n",
       "2020-12-25                                    38213.539220   \n",
       "2020-12-26                                    32126.257538   \n",
       "\n",
       "            transactions/transfers_volume_from_exchanges_sum  \\\n",
       "Date                                                           \n",
       "2020-12-22                                      78803.879638   \n",
       "2020-12-23                                      97093.692567   \n",
       "2020-12-24                                      52695.442867   \n",
       "2020-12-25                                      29821.667641   \n",
       "2020-12-26                                      34927.838649   \n",
       "\n",
       "            transactions/transfers_to_exchanges_count  \\\n",
       "Date                                                    \n",
       "2020-12-22                               61549.000000   \n",
       "2020-12-23                               68670.000000   \n",
       "2020-12-24                               54525.000000   \n",
       "2020-12-25                               56010.000000   \n",
       "2020-12-26                               55271.000000   \n",
       "\n",
       "            transactions/transfers_from_exchanges_count  \\\n",
       "Date                                                      \n",
       "2020-12-22                                 48885.000000   \n",
       "2020-12-23                                 47368.000000   \n",
       "2020-12-24                                 44395.000000   \n",
       "2020-12-25                                 32189.000000   \n",
       "2020-12-26                                 40047.000000   \n",
       "\n",
       "            transactions/transfers_volume_exchanges_net  \n",
       "Date                                                     \n",
       "2020-12-22                                -19626.228985  \n",
       "2020-12-23                                -13460.642974  \n",
       "2020-12-24                                  3844.662518  \n",
       "2020-12-25                                  8391.871579  \n",
       "2020-12-26                                 -2801.581111  "
      ]
     },
     "execution_count": 58,
     "metadata": {},
     "output_type": "execute_result"
    }
   ],
   "source": [
    "# Latest Exchange Metric Values\n",
    "df_exchange.tail()"
   ]
  },
  {
   "cell_type": "markdown",
   "metadata": {},
   "source": [
    "#### Indicator-1 Metric CSV-Files"
   ]
  },
  {
   "cell_type": "code",
   "execution_count": 59,
   "metadata": {
    "ExecuteTime": {
     "end_time": "2020-12-26T21:33:34.693868Z",
     "start_time": "2020-12-26T21:33:34.521144Z"
    }
   },
   "outputs": [],
   "source": [
    "# List of Indicator-1 features\n",
    "indicator1_feature_list = ['sopr_adjusted', 'nvt', 'velocity', 'cdd','reserve_risk', 'average_dormancy', 'liveliness'] \n",
    "\n",
    "# Counter to Differentiate between Data Frame Setup and Data Frame Extension\n",
    "counter=0\n",
    "\n",
    "# For Loop through all Features in the List\n",
    "for x in indicator1_feature_list:\n",
    "    \n",
    "    # Import Feature CSV-Files\n",
    "    df = pd.read_csv(\"Glassnode/{}.csv\".format(x), index_col='Date', ) #decimal=\".\"\n",
    "    \n",
    "    # Condition - Data Frame Set up or Data Frame Extension\n",
    "    if counter > 0:\n",
    "        \n",
    "        # Data Frame Extension - Inner Join\n",
    "        df_new = df_new.join(df, how='inner')\n",
    "    \n",
    "    else:\n",
    "        \n",
    "        # Data Frame Setup\n",
    "        df_new = df\n",
    "    \n",
    "    # Increase Counter\n",
    "    counter +=1\n",
    "\n",
    "# Store Data Frame Copy in Indicator-1 Data Frame    \n",
    "df_indicator1 = df_new.copy()\n",
    "\n",
    "# Delete Original Data Frame\n",
    "del df_new\n",
    "\n",
    "# Change Data Type of Columns to Float\n",
    "for y in df_indicator1.columns:\n",
    "    try:\n",
    "        df_indicator1[\"{}\".format(y)] = df_indicator1[\"{}\".format(y)].str.replace(',','.')\n",
    "        df_indicator1[\"{}\".format(y)] = df_indicator1[\"{}\".format(y)].astype(float)\n",
    "    except:\n",
    "        pass"
   ]
  },
  {
   "cell_type": "code",
   "execution_count": 60,
   "metadata": {
    "ExecuteTime": {
     "end_time": "2020-12-26T21:33:34.709727Z",
     "start_time": "2020-12-26T21:33:34.695710Z"
    }
   },
   "outputs": [
    {
     "data": {
      "text/html": [
       "<div>\n",
       "<style scoped>\n",
       "    .dataframe tbody tr th:only-of-type {\n",
       "        vertical-align: middle;\n",
       "    }\n",
       "\n",
       "    .dataframe tbody tr th {\n",
       "        vertical-align: top;\n",
       "    }\n",
       "\n",
       "    .dataframe thead th {\n",
       "        text-align: right;\n",
       "    }\n",
       "</style>\n",
       "<table border=\"1\" class=\"dataframe\">\n",
       "  <thead>\n",
       "    <tr style=\"text-align: right;\">\n",
       "      <th></th>\n",
       "      <th>indicators/sopr_adjusted</th>\n",
       "      <th>indicators/nvt</th>\n",
       "      <th>indicators/velocity</th>\n",
       "      <th>indicators/cdd</th>\n",
       "      <th>indicators/reserve_risk</th>\n",
       "      <th>indicators/average_dormancy</th>\n",
       "      <th>indicators/liveliness</th>\n",
       "    </tr>\n",
       "    <tr>\n",
       "      <th>Date</th>\n",
       "      <th></th>\n",
       "      <th></th>\n",
       "      <th></th>\n",
       "      <th></th>\n",
       "      <th></th>\n",
       "      <th></th>\n",
       "      <th></th>\n",
       "    </tr>\n",
       "  </thead>\n",
       "  <tbody>\n",
       "    <tr>\n",
       "      <th>2020-12-22</th>\n",
       "      <td>1.117790</td>\n",
       "      <td>25.294764</td>\n",
       "      <td>0.039534</td>\n",
       "      <td>38593112.502022</td>\n",
       "      <td>0.003649</td>\n",
       "      <td>52.544912</td>\n",
       "      <td>0.607591</td>\n",
       "    </tr>\n",
       "    <tr>\n",
       "      <th>2020-12-23</th>\n",
       "      <td>1.126225</td>\n",
       "      <td>25.991160</td>\n",
       "      <td>0.038475</td>\n",
       "      <td>28566389.337585</td>\n",
       "      <td>0.003718</td>\n",
       "      <td>39.962140</td>\n",
       "      <td>0.608014</td>\n",
       "    </tr>\n",
       "    <tr>\n",
       "      <th>2020-12-24</th>\n",
       "      <td>1.117424</td>\n",
       "      <td>34.594557</td>\n",
       "      <td>0.028906</td>\n",
       "      <td>14555610.663966</td>\n",
       "      <td>0.003666</td>\n",
       "      <td>27.101138</td>\n",
       "      <td>0.608288</td>\n",
       "    </tr>\n",
       "    <tr>\n",
       "      <th>2020-12-25</th>\n",
       "      <td>1.056374</td>\n",
       "      <td>50.057663</td>\n",
       "      <td>0.019977</td>\n",
       "      <td>6679495.056003</td>\n",
       "      <td>0.003787</td>\n",
       "      <td>17.994612</td>\n",
       "      <td>0.608377</td>\n",
       "    </tr>\n",
       "    <tr>\n",
       "      <th>2020-12-26</th>\n",
       "      <td>1.116886</td>\n",
       "      <td>42.663987</td>\n",
       "      <td>0.023439</td>\n",
       "      <td>14214785.183155</td>\n",
       "      <td>0.003977</td>\n",
       "      <td>32.636984</td>\n",
       "      <td>0.608333</td>\n",
       "    </tr>\n",
       "  </tbody>\n",
       "</table>\n",
       "</div>"
      ],
      "text/plain": [
       "            indicators/sopr_adjusted  indicators/nvt  indicators/velocity  \\\n",
       "Date                                                                        \n",
       "2020-12-22                  1.117790       25.294764             0.039534   \n",
       "2020-12-23                  1.126225       25.991160             0.038475   \n",
       "2020-12-24                  1.117424       34.594557             0.028906   \n",
       "2020-12-25                  1.056374       50.057663             0.019977   \n",
       "2020-12-26                  1.116886       42.663987             0.023439   \n",
       "\n",
       "            indicators/cdd  indicators/reserve_risk  \\\n",
       "Date                                                  \n",
       "2020-12-22 38593112.502022                 0.003649   \n",
       "2020-12-23 28566389.337585                 0.003718   \n",
       "2020-12-24 14555610.663966                 0.003666   \n",
       "2020-12-25  6679495.056003                 0.003787   \n",
       "2020-12-26 14214785.183155                 0.003977   \n",
       "\n",
       "            indicators/average_dormancy  indicators/liveliness  \n",
       "Date                                                            \n",
       "2020-12-22                    52.544912               0.607591  \n",
       "2020-12-23                    39.962140               0.608014  \n",
       "2020-12-24                    27.101138               0.608288  \n",
       "2020-12-25                    17.994612               0.608377  \n",
       "2020-12-26                    32.636984               0.608333  "
      ]
     },
     "execution_count": 60,
     "metadata": {},
     "output_type": "execute_result"
    }
   ],
   "source": [
    "# Latest Indicator-1 Metric Values\n",
    "df_indicator1.tail()"
   ]
  },
  {
   "cell_type": "markdown",
   "metadata": {},
   "source": [
    "#### Indicator-2 Metrics CSV-Files"
   ]
  },
  {
   "cell_type": "code",
   "execution_count": 61,
   "metadata": {
    "ExecuteTime": {
     "end_time": "2020-12-26T21:33:35.057747Z",
     "start_time": "2020-12-26T21:33:34.710640Z"
    }
   },
   "outputs": [],
   "source": [
    "# List of Indicator-2 Features\n",
    "indicator2_feature_list = ['asol', 'sol_1h', 'sol_1h_24h', 'sol_1d_1w','sol_1w_1m', 'sol_1m_3m', 'sol_3m_6m', 'sol_6m_12m','sol_1y_2y', 'sol_2y_3y', 'sol_3y_5y', 'sol_5y_7y', 'sol_7y_10y']\n",
    "\n",
    "# Counter to Differentiate between Data Frame Setup and Data Frame Extension\n",
    "counter=0\n",
    "\n",
    "# For Loop through all Features in the List\n",
    "for x in indicator2_feature_list:\n",
    "    \n",
    "    # Import Feature CSV-Files\n",
    "    df = pd.read_csv(\"Glassnode/{}.csv\".format(x), index_col='Date')\n",
    "    \n",
    "    # Condition - Data Frame Set up or Data Frame Extension\n",
    "    if counter > 0:\n",
    "        \n",
    "        # Data Frame Extension - Inner Join\n",
    "        df_new = df_new.join(df, how='inner')\n",
    "    \n",
    "    else:\n",
    "        \n",
    "        # Data Frame Setup\n",
    "        df_new = df\n",
    "    \n",
    "    # Increase Counter\n",
    "    counter +=1\n",
    "\n",
    "# Store Data Frame Copy in Indicator-2 Data Frame\n",
    "df_indicator2 = df_new.copy()\n",
    "\n",
    "# Delete Original Data Frame\n",
    "del df_new\n",
    "\n",
    "# Change Data Type of Columns to Float\n",
    "for y in df_indicator2.columns:\n",
    "    try:\n",
    "        df_indicator2[\"{}\".format(y)] = df_indicator2[\"{}\".format(y)].str.replace(',','.')\n",
    "        df_indicator2[\"{}\".format(y)] = df_indicator2[\"{}\".format(y)].astype(float)\n",
    "    except:\n",
    "        pass"
   ]
  },
  {
   "cell_type": "code",
   "execution_count": 62,
   "metadata": {
    "ExecuteTime": {
     "end_time": "2020-12-26T21:33:35.073705Z",
     "start_time": "2020-12-26T21:33:35.059741Z"
    },
    "scrolled": true
   },
   "outputs": [
    {
     "data": {
      "text/html": [
       "<div>\n",
       "<style scoped>\n",
       "    .dataframe tbody tr th:only-of-type {\n",
       "        vertical-align: middle;\n",
       "    }\n",
       "\n",
       "    .dataframe tbody tr th {\n",
       "        vertical-align: top;\n",
       "    }\n",
       "\n",
       "    .dataframe thead th {\n",
       "        text-align: right;\n",
       "    }\n",
       "</style>\n",
       "<table border=\"1\" class=\"dataframe\">\n",
       "  <thead>\n",
       "    <tr style=\"text-align: right;\">\n",
       "      <th></th>\n",
       "      <th>indicators/asol</th>\n",
       "      <th>indicators/sol_1h</th>\n",
       "      <th>indicators/sol_1h_24h</th>\n",
       "      <th>indicators/sol_1d_1w</th>\n",
       "      <th>indicators/sol_1w_1m</th>\n",
       "      <th>indicators/sol_1m_3m</th>\n",
       "      <th>indicators/sol_3m_6m</th>\n",
       "      <th>indicators/sol_6m_12m</th>\n",
       "      <th>indicators/sol_1y_2y</th>\n",
       "      <th>indicators/sol_2y_3y</th>\n",
       "      <th>indicators/sol_3y_5y</th>\n",
       "      <th>indicators/sol_5y_7y</th>\n",
       "      <th>indicators/sol_7y_10y</th>\n",
       "    </tr>\n",
       "    <tr>\n",
       "      <th>Date</th>\n",
       "      <th></th>\n",
       "      <th></th>\n",
       "      <th></th>\n",
       "      <th></th>\n",
       "      <th></th>\n",
       "      <th></th>\n",
       "      <th></th>\n",
       "      <th></th>\n",
       "      <th></th>\n",
       "      <th></th>\n",
       "      <th></th>\n",
       "      <th></th>\n",
       "      <th></th>\n",
       "    </tr>\n",
       "  </thead>\n",
       "  <tbody>\n",
       "    <tr>\n",
       "      <th>2020-12-22</th>\n",
       "      <td>43.654548</td>\n",
       "      <td>175881.000000</td>\n",
       "      <td>350843.000000</td>\n",
       "      <td>192885.000000</td>\n",
       "      <td>75899.000000</td>\n",
       "      <td>31817.000000</td>\n",
       "      <td>16756.000000</td>\n",
       "      <td>12723.000000</td>\n",
       "      <td>11365.000000</td>\n",
       "      <td>8062.000000</td>\n",
       "      <td>3796.000000</td>\n",
       "      <td>1106.000000</td>\n",
       "      <td>445.000000</td>\n",
       "    </tr>\n",
       "    <tr>\n",
       "      <th>2020-12-23</th>\n",
       "      <td>37.438367</td>\n",
       "      <td>193841.000000</td>\n",
       "      <td>355402.000000</td>\n",
       "      <td>178754.000000</td>\n",
       "      <td>100046.000000</td>\n",
       "      <td>36927.000000</td>\n",
       "      <td>13580.000000</td>\n",
       "      <td>10916.000000</td>\n",
       "      <td>10182.000000</td>\n",
       "      <td>6519.000000</td>\n",
       "      <td>3518.000000</td>\n",
       "      <td>607.000000</td>\n",
       "      <td>274.000000</td>\n",
       "    </tr>\n",
       "    <tr>\n",
       "      <th>2020-12-24</th>\n",
       "      <td>50.410794</td>\n",
       "      <td>149454.000000</td>\n",
       "      <td>290417.000000</td>\n",
       "      <td>158440.000000</td>\n",
       "      <td>68661.000000</td>\n",
       "      <td>43123.000000</td>\n",
       "      <td>21258.000000</td>\n",
       "      <td>9333.000000</td>\n",
       "      <td>14909.000000</td>\n",
       "      <td>6208.000000</td>\n",
       "      <td>3563.000000</td>\n",
       "      <td>1744.000000</td>\n",
       "      <td>166.000000</td>\n",
       "    </tr>\n",
       "    <tr>\n",
       "      <th>2020-12-25</th>\n",
       "      <td>44.243999</td>\n",
       "      <td>175545.000000</td>\n",
       "      <td>331966.000000</td>\n",
       "      <td>221714.000000</td>\n",
       "      <td>80389.000000</td>\n",
       "      <td>39332.000000</td>\n",
       "      <td>16812.000000</td>\n",
       "      <td>10970.000000</td>\n",
       "      <td>10595.000000</td>\n",
       "      <td>8122.000000</td>\n",
       "      <td>4315.000000</td>\n",
       "      <td>1634.000000</td>\n",
       "      <td>278.000000</td>\n",
       "    </tr>\n",
       "    <tr>\n",
       "      <th>2020-12-26</th>\n",
       "      <td>61.127237</td>\n",
       "      <td>166423.000000</td>\n",
       "      <td>263951.000000</td>\n",
       "      <td>190106.000000</td>\n",
       "      <td>110269.000000</td>\n",
       "      <td>58924.000000</td>\n",
       "      <td>22870.000000</td>\n",
       "      <td>16644.000000</td>\n",
       "      <td>15508.000000</td>\n",
       "      <td>10291.000000</td>\n",
       "      <td>6109.000000</td>\n",
       "      <td>1657.000000</td>\n",
       "      <td>315.000000</td>\n",
       "    </tr>\n",
       "  </tbody>\n",
       "</table>\n",
       "</div>"
      ],
      "text/plain": [
       "            indicators/asol  indicators/sol_1h  indicators/sol_1h_24h  \\\n",
       "Date                                                                    \n",
       "2020-12-22        43.654548      175881.000000          350843.000000   \n",
       "2020-12-23        37.438367      193841.000000          355402.000000   \n",
       "2020-12-24        50.410794      149454.000000          290417.000000   \n",
       "2020-12-25        44.243999      175545.000000          331966.000000   \n",
       "2020-12-26        61.127237      166423.000000          263951.000000   \n",
       "\n",
       "            indicators/sol_1d_1w  indicators/sol_1w_1m  indicators/sol_1m_3m  \\\n",
       "Date                                                                           \n",
       "2020-12-22         192885.000000          75899.000000          31817.000000   \n",
       "2020-12-23         178754.000000         100046.000000          36927.000000   \n",
       "2020-12-24         158440.000000          68661.000000          43123.000000   \n",
       "2020-12-25         221714.000000          80389.000000          39332.000000   \n",
       "2020-12-26         190106.000000         110269.000000          58924.000000   \n",
       "\n",
       "            indicators/sol_3m_6m  indicators/sol_6m_12m  indicators/sol_1y_2y  \\\n",
       "Date                                                                            \n",
       "2020-12-22          16756.000000           12723.000000          11365.000000   \n",
       "2020-12-23          13580.000000           10916.000000          10182.000000   \n",
       "2020-12-24          21258.000000            9333.000000          14909.000000   \n",
       "2020-12-25          16812.000000           10970.000000          10595.000000   \n",
       "2020-12-26          22870.000000           16644.000000          15508.000000   \n",
       "\n",
       "            indicators/sol_2y_3y  indicators/sol_3y_5y  indicators/sol_5y_7y  \\\n",
       "Date                                                                           \n",
       "2020-12-22           8062.000000           3796.000000           1106.000000   \n",
       "2020-12-23           6519.000000           3518.000000            607.000000   \n",
       "2020-12-24           6208.000000           3563.000000           1744.000000   \n",
       "2020-12-25           8122.000000           4315.000000           1634.000000   \n",
       "2020-12-26          10291.000000           6109.000000           1657.000000   \n",
       "\n",
       "            indicators/sol_7y_10y  \n",
       "Date                               \n",
       "2020-12-22             445.000000  \n",
       "2020-12-23             274.000000  \n",
       "2020-12-24             166.000000  \n",
       "2020-12-25             278.000000  \n",
       "2020-12-26             315.000000  "
      ]
     },
     "execution_count": 62,
     "metadata": {},
     "output_type": "execute_result"
    }
   ],
   "source": [
    "# Latest Indicator-2 Metric Values\n",
    "df_indicator2.tail()"
   ]
  },
  {
   "cell_type": "markdown",
   "metadata": {},
   "source": [
    "#### Indicator-3 Metrics CSV-Files"
   ]
  },
  {
   "cell_type": "code",
   "execution_count": 63,
   "metadata": {
    "ExecuteTime": {
     "end_time": "2020-12-26T21:33:35.342643Z",
     "start_time": "2020-12-26T21:33:35.074791Z"
    }
   },
   "outputs": [],
   "source": [
    "# List of Indicator-3 Features\n",
    "indicator3_feature_list = ['net_unrealized_profit_loss', 'unrealized_profit', 'unrealized_loss', 'net_realized_profit_loss', 'realized_profit', 'realized_loss', 'nupl_more_155', 'nupl_less_155', 'puell_multiple', 'stock_to_flow_deflection', 'difficulty_ribbon_compression']\n",
    "\n",
    "# Counter to Differentiate between Data Frame Setup and Data Frame Extension\n",
    "counter=0\n",
    "\n",
    "# For Loop through all Features in the List\n",
    "for x in indicator3_feature_list:\n",
    "    \n",
    "    # Import Feature CSV-Files\n",
    "    df = pd.read_csv(\"Glassnode/{}.csv\".format(x), index_col='Date')\n",
    "    \n",
    "    # Condition - Data Frame Set up or Data Frame Extension\n",
    "    if counter > 0:\n",
    "        \n",
    "        # Data Frame Extension - Inner Join\n",
    "        df_new = df_new.join(df, how='inner')\n",
    "    \n",
    "    else:\n",
    "        \n",
    "        # Data Frame Setup\n",
    "        df_new = df\n",
    "    \n",
    "    # Increase Counter\n",
    "    counter +=1\n",
    "\n",
    "# Store Data Frame Copy in Indicator-3 Data Frame\n",
    "df_indicator3 = df_new.copy()\n",
    "\n",
    "# Delete Original Data Frame\n",
    "del df_new\n",
    "\n",
    "# Change Data Type of Columns to Float\n",
    "for y in df_indicator3.columns:\n",
    "    try:\n",
    "        df_indicator3[\"{}\".format(y)] = df_indicator3[\"{}\".format(y)].str.replace(',','.')\n",
    "        df_indicator3[\"{}\".format(y)] = df_indicator3[\"{}\".format(y)].astype(float)\n",
    "    except:\n",
    "        pass"
   ]
  },
  {
   "cell_type": "code",
   "execution_count": 64,
   "metadata": {
    "ExecuteTime": {
     "end_time": "2020-12-26T21:33:35.357078Z",
     "start_time": "2020-12-26T21:33:35.344397Z"
    }
   },
   "outputs": [
    {
     "data": {
      "text/html": [
       "<div>\n",
       "<style scoped>\n",
       "    .dataframe tbody tr th:only-of-type {\n",
       "        vertical-align: middle;\n",
       "    }\n",
       "\n",
       "    .dataframe tbody tr th {\n",
       "        vertical-align: top;\n",
       "    }\n",
       "\n",
       "    .dataframe thead th {\n",
       "        text-align: right;\n",
       "    }\n",
       "</style>\n",
       "<table border=\"1\" class=\"dataframe\">\n",
       "  <thead>\n",
       "    <tr style=\"text-align: right;\">\n",
       "      <th></th>\n",
       "      <th>indicators/net_unrealized_profit_loss</th>\n",
       "      <th>indicators/unrealized_profit</th>\n",
       "      <th>indicators/unrealized_loss</th>\n",
       "      <th>indicators/net_realized_profit_loss</th>\n",
       "      <th>indicators/realized_profit</th>\n",
       "      <th>indicators/realized_loss</th>\n",
       "      <th>indicators/nupl_more_155</th>\n",
       "      <th>indicators/nupl_less_155</th>\n",
       "      <th>indicators/puell_multiple</th>\n",
       "      <th>indicators/stock_to_flow_deflection</th>\n",
       "      <th>indicators/difficulty_ribbon_compression</th>\n",
       "    </tr>\n",
       "    <tr>\n",
       "      <th>Date</th>\n",
       "      <th></th>\n",
       "      <th></th>\n",
       "      <th></th>\n",
       "      <th></th>\n",
       "      <th></th>\n",
       "      <th></th>\n",
       "      <th></th>\n",
       "      <th></th>\n",
       "      <th></th>\n",
       "      <th></th>\n",
       "      <th></th>\n",
       "    </tr>\n",
       "  </thead>\n",
       "  <tbody>\n",
       "    <tr>\n",
       "      <th>2020-12-22</th>\n",
       "      <td>0.648140</td>\n",
       "      <td>0.648168</td>\n",
       "      <td>0.000028</td>\n",
       "      <td>1643315945.240010</td>\n",
       "      <td>1741228980.952010</td>\n",
       "      <td>97913035.711994</td>\n",
       "      <td>0.769200</td>\n",
       "      <td>0.295821</td>\n",
       "      <td>1.651147</td>\n",
       "      <td>0.719964</td>\n",
       "      <td>0.021417</td>\n",
       "    </tr>\n",
       "    <tr>\n",
       "      <th>2020-12-23</th>\n",
       "      <td>0.637249</td>\n",
       "      <td>0.637651</td>\n",
       "      <td>0.000401</td>\n",
       "      <td>1560834780.054150</td>\n",
       "      <td>1646821880.745280</td>\n",
       "      <td>85987100.691126</td>\n",
       "      <td>0.766050</td>\n",
       "      <td>0.276599</td>\n",
       "      <td>1.808292</td>\n",
       "      <td>0.705177</td>\n",
       "      <td>0.021080</td>\n",
       "    </tr>\n",
       "    <tr>\n",
       "      <th>2020-12-24</th>\n",
       "      <td>0.641456</td>\n",
       "      <td>0.641482</td>\n",
       "      <td>0.000026</td>\n",
       "      <td>1400309670.421880</td>\n",
       "      <td>1471331914.015050</td>\n",
       "      <td>71022243.593170</td>\n",
       "      <td>0.769535</td>\n",
       "      <td>0.277785</td>\n",
       "      <td>1.457667</td>\n",
       "      <td>0.711080</td>\n",
       "      <td>0.020333</td>\n",
       "    </tr>\n",
       "    <tr>\n",
       "      <th>2020-12-25</th>\n",
       "      <td>0.653966</td>\n",
       "      <td>0.653966</td>\n",
       "      <td>0.000001</td>\n",
       "      <td>399359784.546646</td>\n",
       "      <td>434377918.262611</td>\n",
       "      <td>35018133.715966</td>\n",
       "      <td>0.778718</td>\n",
       "      <td>0.303996</td>\n",
       "      <td>1.719116</td>\n",
       "      <td>0.734276</td>\n",
       "      <td>0.019653</td>\n",
       "    </tr>\n",
       "    <tr>\n",
       "      <th>2020-12-26</th>\n",
       "      <td>0.674940</td>\n",
       "      <td>0.674948</td>\n",
       "      <td>0.000008</td>\n",
       "      <td>945580192.039412</td>\n",
       "      <td>972686637.198182</td>\n",
       "      <td>27106445.158769</td>\n",
       "      <td>0.792870</td>\n",
       "      <td>0.342730</td>\n",
       "      <td>1.718968</td>\n",
       "      <td>0.778810</td>\n",
       "      <td>0.019031</td>\n",
       "    </tr>\n",
       "  </tbody>\n",
       "</table>\n",
       "</div>"
      ],
      "text/plain": [
       "            indicators/net_unrealized_profit_loss  \\\n",
       "Date                                                \n",
       "2020-12-22                               0.648140   \n",
       "2020-12-23                               0.637249   \n",
       "2020-12-24                               0.641456   \n",
       "2020-12-25                               0.653966   \n",
       "2020-12-26                               0.674940   \n",
       "\n",
       "            indicators/unrealized_profit  indicators/unrealized_loss  \\\n",
       "Date                                                                   \n",
       "2020-12-22                      0.648168                    0.000028   \n",
       "2020-12-23                      0.637651                    0.000401   \n",
       "2020-12-24                      0.641482                    0.000026   \n",
       "2020-12-25                      0.653966                    0.000001   \n",
       "2020-12-26                      0.674948                    0.000008   \n",
       "\n",
       "            indicators/net_realized_profit_loss  indicators/realized_profit  \\\n",
       "Date                                                                          \n",
       "2020-12-22                    1643315945.240010           1741228980.952010   \n",
       "2020-12-23                    1560834780.054150           1646821880.745280   \n",
       "2020-12-24                    1400309670.421880           1471331914.015050   \n",
       "2020-12-25                     399359784.546646            434377918.262611   \n",
       "2020-12-26                     945580192.039412            972686637.198182   \n",
       "\n",
       "            indicators/realized_loss  indicators/nupl_more_155  \\\n",
       "Date                                                             \n",
       "2020-12-22           97913035.711994                  0.769200   \n",
       "2020-12-23           85987100.691126                  0.766050   \n",
       "2020-12-24           71022243.593170                  0.769535   \n",
       "2020-12-25           35018133.715966                  0.778718   \n",
       "2020-12-26           27106445.158769                  0.792870   \n",
       "\n",
       "            indicators/nupl_less_155  indicators/puell_multiple  \\\n",
       "Date                                                              \n",
       "2020-12-22                  0.295821                   1.651147   \n",
       "2020-12-23                  0.276599                   1.808292   \n",
       "2020-12-24                  0.277785                   1.457667   \n",
       "2020-12-25                  0.303996                   1.719116   \n",
       "2020-12-26                  0.342730                   1.718968   \n",
       "\n",
       "            indicators/stock_to_flow_deflection  \\\n",
       "Date                                              \n",
       "2020-12-22                             0.719964   \n",
       "2020-12-23                             0.705177   \n",
       "2020-12-24                             0.711080   \n",
       "2020-12-25                             0.734276   \n",
       "2020-12-26                             0.778810   \n",
       "\n",
       "            indicators/difficulty_ribbon_compression  \n",
       "Date                                                  \n",
       "2020-12-22                                  0.021417  \n",
       "2020-12-23                                  0.021080  \n",
       "2020-12-24                                  0.020333  \n",
       "2020-12-25                                  0.019653  \n",
       "2020-12-26                                  0.019031  "
      ]
     },
     "execution_count": 64,
     "metadata": {},
     "output_type": "execute_result"
    }
   ],
   "source": [
    "# Latest Indicator-3 Metric Values\n",
    "df_indicator3.tail()"
   ]
  },
  {
   "cell_type": "markdown",
   "metadata": {},
   "source": [
    "#### Addresses Metric CSV-Files"
   ]
  },
  {
   "cell_type": "code",
   "execution_count": 65,
   "metadata": {
    "ExecuteTime": {
     "end_time": "2020-12-26T21:33:35.610714Z",
     "start_time": "2020-12-26T21:33:35.358360Z"
    }
   },
   "outputs": [],
   "source": [
    "# List of Addresses Features\n",
    "addresses_feature_list = ['active_count', 'sending_count', 'receiving_count', 'new_non_zero_count', 'non_zero_count', 'min_point_zero_1_count', 'min_point_1_count', 'min_1_count', 'min_10_count', 'min_100_count', 'min_1k_count', 'min_10k_count']\n",
    "\n",
    "# Counter to Differentiate between Data Frame Setup and Data Frame Extension\n",
    "counter=0\n",
    "\n",
    "# For Loop through all Features in the List\n",
    "for x in addresses_feature_list:\n",
    "    \n",
    "    # Import Feature CSV-Files\n",
    "    df = pd.read_csv(\"Glassnode/{}.csv\".format(x), index_col='Date')\n",
    "    \n",
    "    # Condition - Data Frame Set up or Data Frame Extension\n",
    "    if counter > 0:\n",
    "        \n",
    "        # Data Frame Extension - Inner Join\n",
    "        df_new = df_new.join(df, how='inner')\n",
    "    \n",
    "    else:\n",
    "        \n",
    "        # Data Frame Setup\n",
    "        df_new = df\n",
    "    \n",
    "    # Increase Counter\n",
    "    counter +=1\n",
    "\n",
    "# Store Data Frame Copy in Addresses Data Frame\n",
    "df_addresses = df_new.copy()\n",
    "\n",
    "# Delete Original Data Frame\n",
    "del df_new\n",
    "\n",
    "# Change Data Type of Columns to Float\n",
    "for y in df_addresses.columns:\n",
    "    try:\n",
    "        df_addresses[\"{}\".format(y)] = df_addresses[\"{}\".format(y)].str.replace(',','.')\n",
    "        df_addresses[\"{}\".format(y)] = df_addresses[\"{}\".format(y)].astype(float)\n",
    "    except:\n",
    "        pass"
   ]
  },
  {
   "cell_type": "code",
   "execution_count": 66,
   "metadata": {
    "ExecuteTime": {
     "end_time": "2020-12-26T21:33:35.625645Z",
     "start_time": "2020-12-26T21:33:35.611683Z"
    }
   },
   "outputs": [
    {
     "data": {
      "text/html": [
       "<div>\n",
       "<style scoped>\n",
       "    .dataframe tbody tr th:only-of-type {\n",
       "        vertical-align: middle;\n",
       "    }\n",
       "\n",
       "    .dataframe tbody tr th {\n",
       "        vertical-align: top;\n",
       "    }\n",
       "\n",
       "    .dataframe thead th {\n",
       "        text-align: right;\n",
       "    }\n",
       "</style>\n",
       "<table border=\"1\" class=\"dataframe\">\n",
       "  <thead>\n",
       "    <tr style=\"text-align: right;\">\n",
       "      <th></th>\n",
       "      <th>addresses/active_count</th>\n",
       "      <th>addresses/sending_count</th>\n",
       "      <th>addresses/receiving_count</th>\n",
       "      <th>addresses/new_non_zero_count</th>\n",
       "      <th>addresses/non_zero_count</th>\n",
       "      <th>addresses/min_point_zero_1_count</th>\n",
       "      <th>addresses/min_point_1_count</th>\n",
       "      <th>addresses/min_1_count</th>\n",
       "      <th>addresses/min_10_count</th>\n",
       "      <th>addresses/min_100_count</th>\n",
       "      <th>addresses/min_1k_count</th>\n",
       "      <th>addresses/min_10k_count</th>\n",
       "    </tr>\n",
       "    <tr>\n",
       "      <th>Date</th>\n",
       "      <th></th>\n",
       "      <th></th>\n",
       "      <th></th>\n",
       "      <th></th>\n",
       "      <th></th>\n",
       "      <th></th>\n",
       "      <th></th>\n",
       "      <th></th>\n",
       "      <th></th>\n",
       "      <th></th>\n",
       "      <th></th>\n",
       "      <th></th>\n",
       "    </tr>\n",
       "  </thead>\n",
       "  <tbody>\n",
       "    <tr>\n",
       "      <th>2020-12-22</th>\n",
       "      <td>1099356.000000</td>\n",
       "      <td>669771.000000</td>\n",
       "      <td>738830.000000</td>\n",
       "      <td>528210.000000</td>\n",
       "      <td>33068915.000000</td>\n",
       "      <td>8550157.000000</td>\n",
       "      <td>3139132.000000</td>\n",
       "      <td>829715.000000</td>\n",
       "      <td>153788.000000</td>\n",
       "      <td>16136.000000</td>\n",
       "      <td>2252.000000</td>\n",
       "      <td>105.000000</td>\n",
       "    </tr>\n",
       "    <tr>\n",
       "      <th>2020-12-23</th>\n",
       "      <td>1131834.000000</td>\n",
       "      <td>684823.000000</td>\n",
       "      <td>782721.000000</td>\n",
       "      <td>540230.000000</td>\n",
       "      <td>33111216.000000</td>\n",
       "      <td>8544699.000000</td>\n",
       "      <td>3133057.000000</td>\n",
       "      <td>828576.000000</td>\n",
       "      <td>153724.000000</td>\n",
       "      <td>16119.000000</td>\n",
       "      <td>2247.000000</td>\n",
       "      <td>103.000000</td>\n",
       "    </tr>\n",
       "    <tr>\n",
       "      <th>2020-12-24</th>\n",
       "      <td>972137.000000</td>\n",
       "      <td>587208.000000</td>\n",
       "      <td>639266.000000</td>\n",
       "      <td>447429.000000</td>\n",
       "      <td>33117973.000000</td>\n",
       "      <td>8545074.000000</td>\n",
       "      <td>3134905.000000</td>\n",
       "      <td>829222.000000</td>\n",
       "      <td>153650.000000</td>\n",
       "      <td>16089.000000</td>\n",
       "      <td>2232.000000</td>\n",
       "      <td>103.000000</td>\n",
       "    </tr>\n",
       "    <tr>\n",
       "      <th>2020-12-25</th>\n",
       "      <td>1025877.000000</td>\n",
       "      <td>662802.000000</td>\n",
       "      <td>662961.000000</td>\n",
       "      <td>474667.000000</td>\n",
       "      <td>33073258.000000</td>\n",
       "      <td>8513136.000000</td>\n",
       "      <td>3130986.000000</td>\n",
       "      <td>828971.000000</td>\n",
       "      <td>153594.000000</td>\n",
       "      <td>16068.000000</td>\n",
       "      <td>2228.000000</td>\n",
       "      <td>103.000000</td>\n",
       "    </tr>\n",
       "    <tr>\n",
       "      <th>2020-12-26</th>\n",
       "      <td>949564.000000</td>\n",
       "      <td>598441.000000</td>\n",
       "      <td>627828.000000</td>\n",
       "      <td>448279.000000</td>\n",
       "      <td>33075652.000000</td>\n",
       "      <td>8490133.000000</td>\n",
       "      <td>3122900.000000</td>\n",
       "      <td>826721.000000</td>\n",
       "      <td>153580.000000</td>\n",
       "      <td>16104.000000</td>\n",
       "      <td>2221.000000</td>\n",
       "      <td>102.000000</td>\n",
       "    </tr>\n",
       "  </tbody>\n",
       "</table>\n",
       "</div>"
      ],
      "text/plain": [
       "            addresses/active_count  addresses/sending_count  \\\n",
       "Date                                                          \n",
       "2020-12-22          1099356.000000            669771.000000   \n",
       "2020-12-23          1131834.000000            684823.000000   \n",
       "2020-12-24           972137.000000            587208.000000   \n",
       "2020-12-25          1025877.000000            662802.000000   \n",
       "2020-12-26           949564.000000            598441.000000   \n",
       "\n",
       "            addresses/receiving_count  addresses/new_non_zero_count  \\\n",
       "Date                                                                  \n",
       "2020-12-22              738830.000000                 528210.000000   \n",
       "2020-12-23              782721.000000                 540230.000000   \n",
       "2020-12-24              639266.000000                 447429.000000   \n",
       "2020-12-25              662961.000000                 474667.000000   \n",
       "2020-12-26              627828.000000                 448279.000000   \n",
       "\n",
       "            addresses/non_zero_count  addresses/min_point_zero_1_count  \\\n",
       "Date                                                                     \n",
       "2020-12-22           33068915.000000                    8550157.000000   \n",
       "2020-12-23           33111216.000000                    8544699.000000   \n",
       "2020-12-24           33117973.000000                    8545074.000000   \n",
       "2020-12-25           33073258.000000                    8513136.000000   \n",
       "2020-12-26           33075652.000000                    8490133.000000   \n",
       "\n",
       "            addresses/min_point_1_count  addresses/min_1_count  \\\n",
       "Date                                                             \n",
       "2020-12-22               3139132.000000          829715.000000   \n",
       "2020-12-23               3133057.000000          828576.000000   \n",
       "2020-12-24               3134905.000000          829222.000000   \n",
       "2020-12-25               3130986.000000          828971.000000   \n",
       "2020-12-26               3122900.000000          826721.000000   \n",
       "\n",
       "            addresses/min_10_count  addresses/min_100_count  \\\n",
       "Date                                                          \n",
       "2020-12-22           153788.000000             16136.000000   \n",
       "2020-12-23           153724.000000             16119.000000   \n",
       "2020-12-24           153650.000000             16089.000000   \n",
       "2020-12-25           153594.000000             16068.000000   \n",
       "2020-12-26           153580.000000             16104.000000   \n",
       "\n",
       "            addresses/min_1k_count  addresses/min_10k_count  \n",
       "Date                                                         \n",
       "2020-12-22             2252.000000               105.000000  \n",
       "2020-12-23             2247.000000               103.000000  \n",
       "2020-12-24             2232.000000               103.000000  \n",
       "2020-12-25             2228.000000               103.000000  \n",
       "2020-12-26             2221.000000               102.000000  "
      ]
     },
     "execution_count": 66,
     "metadata": {},
     "output_type": "execute_result"
    }
   ],
   "source": [
    "# Latest Addresses Metric Values\n",
    "df_addresses.tail()"
   ]
  },
  {
   "cell_type": "markdown",
   "metadata": {},
   "source": [
    "#### Futures Metrics CSV-Files - Excluded as Data Available Only Since Feb 2020"
   ]
  },
  {
   "cell_type": "markdown",
   "metadata": {},
   "source": [
    "##### List of Future Features\n",
    "futures_feature_list = ['futures_volume_daily_all_sum', 'futures_volume_daily_perpetual_sum', 'futures_open_interest_all_sum', 'futures_open_interest_perpetual_sum', 'futures_funding_rate_perpetual']\n",
    "\n",
    "##### Counter to Differentiate between Data Frame Setup and Data Frame Extension\n",
    "counter=0\n",
    "\n",
    "##### For Loop through all Features in the List\n",
    "for x in futures_feature_list:\n",
    "    \n",
    "    ##### Import Feature CSV-Files\n",
    "    df = pd.read_csv(\"Glassnode/{}.csv\".format(x), index_col='Date')\n",
    "    \n",
    "    ##### Condition - Data Frame Set up or Data Frame Extension\n",
    "    if counter > 0:\n",
    "        \n",
    "        ##### Data Frame Extension - Inner Join\n",
    "        df_new = df_new.join(df, how='inner')\n",
    "    \n",
    "    else:\n",
    "        \n",
    "        ##### Data Frame Setup\n",
    "        df_new = df\n",
    "    \n",
    "    ##### Increase Counter\n",
    "    counter +=1\n",
    "\n",
    "##### Store Data Frame Copy in Market Data Frame\n",
    "df_futures = df_new.copy()\n",
    "\n",
    "##### Delete Original Data Frame\n",
    "del df_new\n",
    "\n",
    "##### Change Data Type of Columns to Float\n",
    "for y in df_futures.columns:\n",
    "    try:\n",
    "        df_futures[\"{}\".format(y)] = df_futures[\"{}\".format(y)].str.replace(',','.')\n",
    "        df_futures[\"{}\".format(y)] = df_futures[\"{}\".format(y)].astype(float)\n",
    "    except:\n",
    "        pass"
   ]
  },
  {
   "cell_type": "code",
   "execution_count": 67,
   "metadata": {
    "ExecuteTime": {
     "end_time": "2020-12-26T21:33:35.656603Z",
     "start_time": "2020-12-26T21:33:35.637782Z"
    }
   },
   "outputs": [],
   "source": [
    "import seaborn as sns\n",
    "\n",
    "# Function for Correlation Heatmap\n",
    "def heatmap(df):\n",
    "    \n",
    "    # Correlation Coefficient Calculation\n",
    "    df_corr = df.corr(method='spearman')\n",
    "    \n",
    "    # Adjustment of Matrix Dimensions\n",
    "    matrix = np.triu(df_corr)\n",
    "    \n",
    "    # Defining Font Size\n",
    "    sns.set(font_scale=0.65)\n",
    "    \n",
    "    # Heatmap\n",
    "    return sns.heatmap(round(df_corr, 1), annot=True, fmt='.1g', square=True, mask=matrix, vmin=-1, vmax=1, center=0, cmap='RdYlGn', annot_kws={\"fontsize\":5})"
   ]
  },
  {
   "cell_type": "markdown",
   "metadata": {},
   "source": [
    "# Economic Data from Yahoo Finance"
   ]
  },
  {
   "cell_type": "code",
   "execution_count": 68,
   "metadata": {
    "ExecuteTime": {
     "end_time": "2020-12-26T21:33:35.672556Z",
     "start_time": "2020-12-26T21:33:35.662995Z"
    }
   },
   "outputs": [],
   "source": [
    "# Change of Working Directory\n",
    "os.chdir('{}JupyterLabDir\\\\Rest\\\\MA BTC\\\\Markus_Code_MA_final\\\\20201010\\\\YahooFinance'.format(os.getcwd().split('JupyterLabDir')[0]))\n"
   ]
  },
  {
   "cell_type": "code",
   "execution_count": 69,
   "metadata": {
    "ExecuteTime": {
     "end_time": "2020-12-26T21:33:35.688515Z",
     "start_time": "2020-12-26T21:33:35.674515Z"
    }
   },
   "outputs": [],
   "source": [
    "# Import Function for Feature Variables from Yahoo Finance\n",
    "def import_economic_data(list):\n",
    "\n",
    "    data_list=[]\n",
    "    \n",
    "    for i in range(len(list)):\n",
    "        \n",
    "        stock=yf.Ticker(list[i])\n",
    "        \n",
    "        # get max. historical market data\n",
    "        data_list.append(stock.history(period='max'))\n",
    "\n",
    "    return data_list"
   ]
  },
  {
   "cell_type": "code",
   "execution_count": 70,
   "metadata": {
    "ExecuteTime": {
     "end_time": "2020-12-26T21:33:35.704166Z",
     "start_time": "2020-12-26T21:33:35.690473Z"
    }
   },
   "outputs": [],
   "source": [
    "# List of Economic Feature Labels\n",
    "input_list=['GC=F', 'SI=F', 'CL=F', 'NG=F', '^FVX', '^TNX', '^TYX', '^DJI', '^RUT', '^GSPC', '^STOXX50E', '^IXIC', '^VIX', '^SKEW', 'DX-Y.NYB','EURUSD=X', 'JPYUSD=X', 'GBPUSD=X', 'CADUSD=X', 'SEKUSD=X', 'CHFUSD=X']"
   ]
  },
  {
   "cell_type": "code",
   "execution_count": 71,
   "metadata": {
    "ExecuteTime": {
     "end_time": "2020-12-26T21:33:35.719767Z",
     "start_time": "2020-12-26T21:33:35.705704Z"
    }
   },
   "outputs": [
    {
     "name": "stdout",
     "output_type": "stream",
     "text": [
      "0 GC=F\n",
      "1 SI=F\n",
      "2 CL=F\n",
      "3 NG=F\n",
      "4 ^FVX\n",
      "5 ^TNX\n",
      "6 ^TYX\n",
      "7 ^DJI\n",
      "8 ^RUT\n",
      "9 ^GSPC\n",
      "10 ^STOXX50E\n",
      "11 ^IXIC\n",
      "12 ^VIX\n",
      "13 ^SKEW\n",
      "14 DX-Y.NYB\n",
      "15 EURUSD=X\n",
      "16 JPYUSD=X\n",
      "17 GBPUSD=X\n",
      "18 CADUSD=X\n",
      "19 SEKUSD=X\n",
      "20 CHFUSD=X\n"
     ]
    }
   ],
   "source": [
    "# List of Economic Feature Labels\n",
    "for i, val in enumerate(input_list):\n",
    "    print(i, val)"
   ]
  },
  {
   "cell_type": "code",
   "execution_count": 72,
   "metadata": {
    "ExecuteTime": {
     "end_time": "2020-12-26T21:33:53.957847Z",
     "start_time": "2020-12-26T21:33:35.721669Z"
    }
   },
   "outputs": [],
   "source": [
    "# Import of Financial Features Into a List\n",
    "data_list = import_economic_data(input_list)"
   ]
  },
  {
   "cell_type": "code",
   "execution_count": 73,
   "metadata": {
    "ExecuteTime": {
     "end_time": "2020-12-26T21:33:53.988896Z",
     "start_time": "2020-12-26T21:33:53.960631Z"
    }
   },
   "outputs": [
    {
     "data": {
      "text/html": [
       "<div>\n",
       "<style scoped>\n",
       "    .dataframe tbody tr th:only-of-type {\n",
       "        vertical-align: middle;\n",
       "    }\n",
       "\n",
       "    .dataframe tbody tr th {\n",
       "        vertical-align: top;\n",
       "    }\n",
       "\n",
       "    .dataframe thead th {\n",
       "        text-align: right;\n",
       "    }\n",
       "</style>\n",
       "<table border=\"1\" class=\"dataframe\">\n",
       "  <thead>\n",
       "    <tr style=\"text-align: right;\">\n",
       "      <th></th>\n",
       "      <th>Open</th>\n",
       "      <th>High</th>\n",
       "      <th>Low</th>\n",
       "      <th>Close</th>\n",
       "      <th>Volume</th>\n",
       "      <th>Dividends</th>\n",
       "      <th>Stock Splits</th>\n",
       "    </tr>\n",
       "    <tr>\n",
       "      <th>Date</th>\n",
       "      <th></th>\n",
       "      <th></th>\n",
       "      <th></th>\n",
       "      <th></th>\n",
       "      <th></th>\n",
       "      <th></th>\n",
       "      <th></th>\n",
       "    </tr>\n",
       "  </thead>\n",
       "  <tbody>\n",
       "    <tr>\n",
       "      <th>2000-08-30</th>\n",
       "      <td>273.900000</td>\n",
       "      <td>273.900000</td>\n",
       "      <td>273.900000</td>\n",
       "      <td>273.900000</td>\n",
       "      <td>0</td>\n",
       "      <td>0</td>\n",
       "      <td>0</td>\n",
       "    </tr>\n",
       "    <tr>\n",
       "      <th>2000-08-31</th>\n",
       "      <td>274.800000</td>\n",
       "      <td>278.300000</td>\n",
       "      <td>274.800000</td>\n",
       "      <td>278.300000</td>\n",
       "      <td>0</td>\n",
       "      <td>0</td>\n",
       "      <td>0</td>\n",
       "    </tr>\n",
       "    <tr>\n",
       "      <th>2000-09-01</th>\n",
       "      <td>277.000000</td>\n",
       "      <td>277.000000</td>\n",
       "      <td>277.000000</td>\n",
       "      <td>277.000000</td>\n",
       "      <td>0</td>\n",
       "      <td>0</td>\n",
       "      <td>0</td>\n",
       "    </tr>\n",
       "    <tr>\n",
       "      <th>2000-09-05</th>\n",
       "      <td>275.800000</td>\n",
       "      <td>275.800000</td>\n",
       "      <td>275.800000</td>\n",
       "      <td>275.800000</td>\n",
       "      <td>2</td>\n",
       "      <td>0</td>\n",
       "      <td>0</td>\n",
       "    </tr>\n",
       "    <tr>\n",
       "      <th>2000-09-06</th>\n",
       "      <td>274.200000</td>\n",
       "      <td>274.200000</td>\n",
       "      <td>274.200000</td>\n",
       "      <td>274.200000</td>\n",
       "      <td>0</td>\n",
       "      <td>0</td>\n",
       "      <td>0</td>\n",
       "    </tr>\n",
       "    <tr>\n",
       "      <th>...</th>\n",
       "      <td>...</td>\n",
       "      <td>...</td>\n",
       "      <td>...</td>\n",
       "      <td>...</td>\n",
       "      <td>...</td>\n",
       "      <td>...</td>\n",
       "      <td>...</td>\n",
       "    </tr>\n",
       "    <tr>\n",
       "      <th>2020-12-17</th>\n",
       "      <td>1874.200000</td>\n",
       "      <td>1896.200000</td>\n",
       "      <td>1874.200000</td>\n",
       "      <td>1887.200000</td>\n",
       "      <td>414</td>\n",
       "      <td>0</td>\n",
       "      <td>0</td>\n",
       "    </tr>\n",
       "    <tr>\n",
       "      <th>2020-12-18</th>\n",
       "      <td>1882.400000</td>\n",
       "      <td>1889.500000</td>\n",
       "      <td>1882.300000</td>\n",
       "      <td>1885.700000</td>\n",
       "      <td>276</td>\n",
       "      <td>0</td>\n",
       "      <td>0</td>\n",
       "    </tr>\n",
       "    <tr>\n",
       "      <th>2020-12-21</th>\n",
       "      <td>1884.800000</td>\n",
       "      <td>1908.000000</td>\n",
       "      <td>1869.100000</td>\n",
       "      <td>1879.200000</td>\n",
       "      <td>136</td>\n",
       "      <td>0</td>\n",
       "      <td>0</td>\n",
       "    </tr>\n",
       "    <tr>\n",
       "      <th>2020-12-22</th>\n",
       "      <td>1882.200000</td>\n",
       "      <td>1882.200000</td>\n",
       "      <td>1861.000000</td>\n",
       "      <td>1866.600000</td>\n",
       "      <td>233</td>\n",
       "      <td>0</td>\n",
       "      <td>0</td>\n",
       "    </tr>\n",
       "    <tr>\n",
       "      <th>2020-12-23</th>\n",
       "      <td>1867.000000</td>\n",
       "      <td>1878.800000</td>\n",
       "      <td>1864.500000</td>\n",
       "      <td>1874.700000</td>\n",
       "      <td>82</td>\n",
       "      <td>0</td>\n",
       "      <td>0</td>\n",
       "    </tr>\n",
       "  </tbody>\n",
       "</table>\n",
       "<p>5150 rows × 7 columns</p>\n",
       "</div>"
      ],
      "text/plain": [
       "                  Open        High         Low       Close  Volume  Dividends  \\\n",
       "Date                                                                            \n",
       "2000-08-30  273.900000  273.900000  273.900000  273.900000       0          0   \n",
       "2000-08-31  274.800000  278.300000  274.800000  278.300000       0          0   \n",
       "2000-09-01  277.000000  277.000000  277.000000  277.000000       0          0   \n",
       "2000-09-05  275.800000  275.800000  275.800000  275.800000       2          0   \n",
       "2000-09-06  274.200000  274.200000  274.200000  274.200000       0          0   \n",
       "...                ...         ...         ...         ...     ...        ...   \n",
       "2020-12-17 1874.200000 1896.200000 1874.200000 1887.200000     414          0   \n",
       "2020-12-18 1882.400000 1889.500000 1882.300000 1885.700000     276          0   \n",
       "2020-12-21 1884.800000 1908.000000 1869.100000 1879.200000     136          0   \n",
       "2020-12-22 1882.200000 1882.200000 1861.000000 1866.600000     233          0   \n",
       "2020-12-23 1867.000000 1878.800000 1864.500000 1874.700000      82          0   \n",
       "\n",
       "            Stock Splits  \n",
       "Date                      \n",
       "2000-08-30             0  \n",
       "2000-08-31             0  \n",
       "2000-09-01             0  \n",
       "2000-09-05             0  \n",
       "2000-09-06             0  \n",
       "...                  ...  \n",
       "2020-12-17             0  \n",
       "2020-12-18             0  \n",
       "2020-12-21             0  \n",
       "2020-12-22             0  \n",
       "2020-12-23             0  \n",
       "\n",
       "[5150 rows x 7 columns]"
      ]
     },
     "execution_count": 73,
     "metadata": {},
     "output_type": "execute_result"
    }
   ],
   "source": [
    "# Select a Data Frame of List\n",
    "data_list[0]"
   ]
  },
  {
   "cell_type": "code",
   "execution_count": 74,
   "metadata": {
    "ExecuteTime": {
     "end_time": "2020-12-26T21:33:56.818089Z",
     "start_time": "2020-12-26T21:33:53.991432Z"
    }
   },
   "outputs": [],
   "source": [
    "# Creating CSV-Files of all Economic Features\n",
    "\n",
    "# Counter\n",
    "i=0\n",
    "\n",
    "# For Loop Through Feature List\n",
    "for x in data_list:   \n",
    "    \n",
    "    # Iterative Creation of CSV-Files, Input List as CSV File Name \n",
    "    x.to_csv(\"{}.csv\".format(input_list[i]), decimal=',')\n",
    "    \n",
    "    # Increase Counter\n",
    "    i+=1"
   ]
  },
  {
   "cell_type": "markdown",
   "metadata": {
    "ExecuteTime": {
     "end_time": "2020-12-26T21:18:25.536621Z",
     "start_time": "2020-12-26T21:18:25.511648Z"
    }
   },
   "source": [
    "# Import Economic CSV-Files"
   ]
  },
  {
   "cell_type": "code",
   "execution_count": 75,
   "metadata": {
    "ExecuteTime": {
     "end_time": "2020-12-26T21:33:56.833310Z",
     "start_time": "2020-12-26T21:33:56.819310Z"
    }
   },
   "outputs": [],
   "source": [
    "# Change of Working Directory\n",
    "os.chdir('{}JupyterLabDir\\\\Rest\\\\MA BTC\\\\Markus_Code_MA_final\\\\20201010'.format(os.getcwd().split('JupyterLabDir')[0]))\n"
   ]
  },
  {
   "cell_type": "code",
   "execution_count": 76,
   "metadata": {
    "ExecuteTime": {
     "end_time": "2020-12-26T21:33:56.849263Z",
     "start_time": "2020-12-26T21:33:56.834269Z"
    }
   },
   "outputs": [],
   "source": [
    "# List of Economic Feature Labels\n",
    "input_list=['GC=F', 'SI=F', 'CL=F', 'NG=F', '^FVX', '^TNX', '^TYX', '^DJI', '^RUT', '^GSPC', '^STOXX50E', '^IXIC', '^VIX', '^SKEW', 'DX-Y.NYB','EURUSD=X', 'JPYUSD=X', 'GBPUSD=X', 'CADUSD=X', 'SEKUSD=X', 'CHFUSD=X']"
   ]
  },
  {
   "cell_type": "code",
   "execution_count": 77,
   "metadata": {
    "ExecuteTime": {
     "end_time": "2020-12-26T21:33:57.970751Z",
     "start_time": "2020-12-26T21:33:56.850227Z"
    }
   },
   "outputs": [],
   "source": [
    "# Counter\n",
    "counter=0\n",
    "\n",
    "# Create List\n",
    "data_list=[]\n",
    "\n",
    "# For Loop through Input List\n",
    "for x in input_list:\n",
    "    \n",
    "    # Import CSV-Files\n",
    "    df = pd.read_csv(\"YahooFinance/{}.csv\".format(x), index_col='Date')\n",
    "    \n",
    "    # Change Data Type of Columns to Float\n",
    "    for y in df.columns:\n",
    "        try:\n",
    "            df[\"{}\".format(y)] = df[\"{}\".format(y)].str.replace(',','.')\n",
    "            df[\"{}\".format(y)] = df[\"{}\".format(y)].astype(float)\n",
    "        except:\n",
    "            pass\n",
    "\n",
    "    # Append Data Frame to List\n",
    "    data_list.append(df)"
   ]
  },
  {
   "cell_type": "code",
   "execution_count": 78,
   "metadata": {
    "ExecuteTime": {
     "end_time": "2020-12-26T21:33:58.001702Z",
     "start_time": "2020-12-26T21:33:57.972744Z"
    }
   },
   "outputs": [
    {
     "name": "stdout",
     "output_type": "stream",
     "text": [
      "<class 'pandas.core.frame.DataFrame'>\n",
      "Index: 5150 entries, 2000-08-30 to 2020-12-23\n",
      "Data columns (total 7 columns):\n",
      " #   Column        Non-Null Count  Dtype  \n",
      "---  ------        --------------  -----  \n",
      " 0   Open          5150 non-null   float64\n",
      " 1   High          5150 non-null   float64\n",
      " 2   Low           5150 non-null   float64\n",
      " 3   Close         5150 non-null   float64\n",
      " 4   Volume        5150 non-null   int64  \n",
      " 5   Dividends     5150 non-null   int64  \n",
      " 6   Stock Splits  5150 non-null   int64  \n",
      "dtypes: float64(4), int64(3)\n",
      "memory usage: 321.9+ KB\n"
     ]
    }
   ],
   "source": [
    "data_list[0].info()"
   ]
  },
  {
   "cell_type": "markdown",
   "metadata": {},
   "source": [
    "# Commodity CSV-Files"
   ]
  },
  {
   "cell_type": "code",
   "execution_count": 79,
   "metadata": {
    "ExecuteTime": {
     "end_time": "2020-12-26T21:33:58.033114Z",
     "start_time": "2020-12-26T21:33:58.003663Z"
    }
   },
   "outputs": [],
   "source": [
    "# Merge of Commodity CSV-Files\n",
    "commodities_1 = pd.merge(data_list[0], data_list[1], on=['Date'], how='inner', suffixes=[' Gold', ' Silver'])"
   ]
  },
  {
   "cell_type": "code",
   "execution_count": 80,
   "metadata": {
    "ExecuteTime": {
     "end_time": "2020-12-26T21:33:58.048520Z",
     "start_time": "2020-12-26T21:33:58.035074Z"
    }
   },
   "outputs": [],
   "source": [
    "# Selection of Closed Price Columns\n",
    "commodities_1 = commodities_1[['Close Gold','Close Silver']]"
   ]
  },
  {
   "cell_type": "code",
   "execution_count": 81,
   "metadata": {
    "ExecuteTime": {
     "end_time": "2020-12-26T21:33:58.063999Z",
     "start_time": "2020-12-26T21:33:58.050045Z"
    }
   },
   "outputs": [],
   "source": [
    "# Merge of Commodity CSV-Files\n",
    "commodities_2 = pd.merge(data_list[2], data_list[3], on=['Date'], how='inner', suffixes=[' WTI Crude Oil', ' Natural Gas'])"
   ]
  },
  {
   "cell_type": "code",
   "execution_count": 82,
   "metadata": {
    "ExecuteTime": {
     "end_time": "2020-12-26T21:33:58.078724Z",
     "start_time": "2020-12-26T21:33:58.065010Z"
    }
   },
   "outputs": [],
   "source": [
    "# Selection of Closed Price Columns\n",
    "commodities_2 = commodities_2[['Close WTI Crude Oil','Close Natural Gas']]"
   ]
  },
  {
   "cell_type": "code",
   "execution_count": 83,
   "metadata": {
    "ExecuteTime": {
     "end_time": "2020-12-26T21:33:58.093917Z",
     "start_time": "2020-12-26T21:33:58.079981Z"
    }
   },
   "outputs": [],
   "source": [
    "# Concatenation of all Commodity Features\n",
    "df_commodities = pd.concat([commodities_1, commodities_2], axis=1, join='inner')"
   ]
  },
  {
   "cell_type": "code",
   "execution_count": 84,
   "metadata": {
    "ExecuteTime": {
     "end_time": "2020-12-26T21:33:58.109876Z",
     "start_time": "2020-12-26T21:33:58.095913Z"
    }
   },
   "outputs": [
    {
     "name": "stdout",
     "output_type": "stream",
     "text": [
      "<class 'pandas.core.frame.DataFrame'>\n",
      "Index: 5089 entries, 2000-08-30 to 2020-12-23\n",
      "Data columns (total 4 columns):\n",
      " #   Column               Non-Null Count  Dtype  \n",
      "---  ------               --------------  -----  \n",
      " 0   Close Gold           5089 non-null   float64\n",
      " 1   Close Silver         5089 non-null   float64\n",
      " 2   Close WTI Crude Oil  5089 non-null   float64\n",
      " 3   Close Natural Gas    5089 non-null   float64\n",
      "dtypes: float64(4)\n",
      "memory usage: 198.8+ KB\n"
     ]
    }
   ],
   "source": [
    "df_commodities.info()"
   ]
  },
  {
   "cell_type": "code",
   "execution_count": 85,
   "metadata": {
    "ExecuteTime": {
     "end_time": "2020-12-26T21:33:58.499833Z",
     "start_time": "2020-12-26T21:33:58.111869Z"
    }
   },
   "outputs": [
    {
     "data": {
      "text/plain": [
       "<AxesSubplot:>"
      ]
     },
     "execution_count": 85,
     "metadata": {},
     "output_type": "execute_result"
    },
    {
     "data": {
      "image/png": "[encoded data removed]",
      "text/plain": [
       "<Figure size 432x288 with 2 Axes>"
      ]
     },
     "metadata": {},
     "output_type": "display_data"
    }
   ],
   "source": [
    "# Correlation Matrix of Commodity Features\n",
    "heatmap(df_commodities)"
   ]
  },
  {
   "cell_type": "markdown",
   "metadata": {},
   "source": [
    "# Bond Yield CSV-Files"
   ]
  },
  {
   "cell_type": "code",
   "execution_count": 86,
   "metadata": {
    "ExecuteTime": {
     "end_time": "2020-12-26T21:33:58.531747Z",
     "start_time": "2020-12-26T21:33:58.500917Z"
    }
   },
   "outputs": [],
   "source": [
    "# Merge of Bond Yield CSV-Files\n",
    "bonds_1 = pd.merge(data_list[4], data_list[5], on=['Date'], how='inner', suffixes=[' Treasury Yield 5 Years', ' Treasury Yield 10 Years'])"
   ]
  },
  {
   "cell_type": "code",
   "execution_count": 87,
   "metadata": {
    "ExecuteTime": {
     "end_time": "2020-12-26T21:33:58.547394Z",
     "start_time": "2020-12-26T21:33:58.532745Z"
    }
   },
   "outputs": [],
   "source": [
    "# Selection of Closed Price Columns\n",
    "bonds_1 = bonds_1[['Close Treasury Yield 5 Years', 'Close Treasury Yield 10 Years']]"
   ]
  },
  {
   "cell_type": "code",
   "execution_count": 88,
   "metadata": {
    "ExecuteTime": {
     "end_time": "2020-12-26T21:33:58.562665Z",
     "start_time": "2020-12-26T21:33:58.548703Z"
    }
   },
   "outputs": [],
   "source": [
    "# DataFrame of Remaining Feature\n",
    "bonds_2 = pd.DataFrame(data_list[6])"
   ]
  },
  {
   "cell_type": "code",
   "execution_count": 89,
   "metadata": {
    "ExecuteTime": {
     "end_time": "2020-12-26T21:33:58.578622Z",
     "start_time": "2020-12-26T21:33:58.563662Z"
    }
   },
   "outputs": [],
   "source": [
    "# Selection of Closed Price Column\n",
    "bonds_2 = pd.DataFrame(bonds_2['Close'])"
   ]
  },
  {
   "cell_type": "code",
   "execution_count": 90,
   "metadata": {
    "ExecuteTime": {
     "end_time": "2020-12-26T21:33:58.594579Z",
     "start_time": "2020-12-26T21:33:58.579620Z"
    }
   },
   "outputs": [],
   "source": [
    "# Rename Column\n",
    "bonds_2.columns = ['Treasury Yield 30 Years']"
   ]
  },
  {
   "cell_type": "code",
   "execution_count": 91,
   "metadata": {
    "ExecuteTime": {
     "end_time": "2020-12-26T21:33:58.610538Z",
     "start_time": "2020-12-26T21:33:58.595756Z"
    }
   },
   "outputs": [],
   "source": [
    "# Concatentation of Bond Yield Features\n",
    "df_bonds = pd.concat([bonds_1, bonds_2], axis=1, join='inner')"
   ]
  },
  {
   "cell_type": "code",
   "execution_count": 92,
   "metadata": {
    "ExecuteTime": {
     "end_time": "2020-12-26T21:33:58.626530Z",
     "start_time": "2020-12-26T21:33:58.612542Z"
    }
   },
   "outputs": [
    {
     "name": "stdout",
     "output_type": "stream",
     "text": [
      "<class 'pandas.core.frame.DataFrame'>\n",
      "Index: 10954 entries, 1977-02-15 to 2020-12-23\n",
      "Data columns (total 3 columns):\n",
      " #   Column                         Non-Null Count  Dtype  \n",
      "---  ------                         --------------  -----  \n",
      " 0   Close Treasury Yield 5 Years   10954 non-null  float64\n",
      " 1   Close Treasury Yield 10 Years  10954 non-null  float64\n",
      " 2   Treasury Yield 30 Years        10954 non-null  float64\n",
      "dtypes: float64(3)\n",
      "memory usage: 342.3+ KB\n"
     ]
    }
   ],
   "source": [
    "df_bonds.info()"
   ]
  },
  {
   "cell_type": "code",
   "execution_count": 93,
   "metadata": {
    "ExecuteTime": {
     "end_time": "2020-12-26T21:33:58.642451Z",
     "start_time": "2020-12-26T21:33:58.627492Z"
    }
   },
   "outputs": [
    {
     "data": {
      "text/html": [
       "<div>\n",
       "<style scoped>\n",
       "    .dataframe tbody tr th:only-of-type {\n",
       "        vertical-align: middle;\n",
       "    }\n",
       "\n",
       "    .dataframe tbody tr th {\n",
       "        vertical-align: top;\n",
       "    }\n",
       "\n",
       "    .dataframe thead th {\n",
       "        text-align: right;\n",
       "    }\n",
       "</style>\n",
       "<table border=\"1\" class=\"dataframe\">\n",
       "  <thead>\n",
       "    <tr style=\"text-align: right;\">\n",
       "      <th></th>\n",
       "      <th>Close Treasury Yield 5 Years</th>\n",
       "      <th>Close Treasury Yield 10 Years</th>\n",
       "      <th>Treasury Yield 30 Years</th>\n",
       "    </tr>\n",
       "    <tr>\n",
       "      <th>Date</th>\n",
       "      <th></th>\n",
       "      <th></th>\n",
       "      <th></th>\n",
       "    </tr>\n",
       "  </thead>\n",
       "  <tbody>\n",
       "    <tr>\n",
       "      <th>2020-12-17</th>\n",
       "      <td>0.377000</td>\n",
       "      <td>0.930000</td>\n",
       "      <td>1.676000</td>\n",
       "    </tr>\n",
       "    <tr>\n",
       "      <th>2020-12-18</th>\n",
       "      <td>0.381000</td>\n",
       "      <td>0.948000</td>\n",
       "      <td>1.700000</td>\n",
       "    </tr>\n",
       "    <tr>\n",
       "      <th>2020-12-21</th>\n",
       "      <td>0.383000</td>\n",
       "      <td>0.941000</td>\n",
       "      <td>1.684000</td>\n",
       "    </tr>\n",
       "    <tr>\n",
       "      <th>2020-12-22</th>\n",
       "      <td>0.364000</td>\n",
       "      <td>0.918000</td>\n",
       "      <td>1.653000</td>\n",
       "    </tr>\n",
       "    <tr>\n",
       "      <th>2020-12-23</th>\n",
       "      <td>0.377000</td>\n",
       "      <td>0.955000</td>\n",
       "      <td>1.697000</td>\n",
       "    </tr>\n",
       "  </tbody>\n",
       "</table>\n",
       "</div>"
      ],
      "text/plain": [
       "            Close Treasury Yield 5 Years  Close Treasury Yield 10 Years  \\\n",
       "Date                                                                      \n",
       "2020-12-17                      0.377000                       0.930000   \n",
       "2020-12-18                      0.381000                       0.948000   \n",
       "2020-12-21                      0.383000                       0.941000   \n",
       "2020-12-22                      0.364000                       0.918000   \n",
       "2020-12-23                      0.377000                       0.955000   \n",
       "\n",
       "            Treasury Yield 30 Years  \n",
       "Date                                 \n",
       "2020-12-17                 1.676000  \n",
       "2020-12-18                 1.700000  \n",
       "2020-12-21                 1.684000  \n",
       "2020-12-22                 1.653000  \n",
       "2020-12-23                 1.697000  "
      ]
     },
     "execution_count": 93,
     "metadata": {},
     "output_type": "execute_result"
    }
   ],
   "source": [
    "df_bonds.tail()"
   ]
  },
  {
   "cell_type": "code",
   "execution_count": 94,
   "metadata": {
    "ExecuteTime": {
     "end_time": "2020-12-26T21:33:58.909765Z",
     "start_time": "2020-12-26T21:33:58.644446Z"
    }
   },
   "outputs": [
    {
     "data": {
      "text/plain": [
       "<AxesSubplot:>"
      ]
     },
     "execution_count": 94,
     "metadata": {},
     "output_type": "execute_result"
    },
    {
     "data": {
      "image/png": "[encoded data removed]",
      "text/plain": [
       "<Figure size 432x288 with 2 Axes>"
      ]
     },
     "metadata": {},
     "output_type": "display_data"
    }
   ],
   "source": [
    "# Correlation of Bond Yield Features\n",
    "heatmap(df_bonds)"
   ]
  },
  {
   "cell_type": "code",
   "execution_count": 95,
   "metadata": {
    "ExecuteTime": {
     "end_time": "2020-12-26T21:33:58.925728Z",
     "start_time": "2020-12-26T21:33:58.911733Z"
    }
   },
   "outputs": [],
   "source": [
    "# Merge of Index CSV-Files\n",
    "stocks_1 = pd.merge(data_list[7], data_list[8], on=['Date'], how='inner', suffixes=[' Dow Jones Industrial Average', ' Russell 2000'])"
   ]
  },
  {
   "cell_type": "code",
   "execution_count": 96,
   "metadata": {
    "ExecuteTime": {
     "end_time": "2020-12-26T21:33:58.941654Z",
     "start_time": "2020-12-26T21:33:58.927691Z"
    }
   },
   "outputs": [],
   "source": [
    "# Selection of Closed Price Columns\n",
    "stocks_1 = stocks_1[['Close Dow Jones Industrial Average', 'Close Russell 2000']]"
   ]
  },
  {
   "cell_type": "code",
   "execution_count": 97,
   "metadata": {
    "ExecuteTime": {
     "end_time": "2020-12-26T21:33:58.973613Z",
     "start_time": "2020-12-26T21:33:58.943649Z"
    }
   },
   "outputs": [],
   "source": [
    "# Merge of Index CSV-Files\n",
    "stocks_2 = pd.merge(data_list[9], data_list[10], on=['Date'], how='inner', suffixes=[' S&P 500', ' EURO STOXX 50'])"
   ]
  },
  {
   "cell_type": "code",
   "execution_count": 98,
   "metadata": {
    "ExecuteTime": {
     "end_time": "2020-12-26T21:33:58.989017Z",
     "start_time": "2020-12-26T21:33:58.975564Z"
    }
   },
   "outputs": [],
   "source": [
    "# Selection of Closed Price Columns\n",
    "stocks_2 = stocks_2[['Close S&P 500', 'Close EURO STOXX 50']]"
   ]
  },
  {
   "cell_type": "code",
   "execution_count": 99,
   "metadata": {
    "ExecuteTime": {
     "end_time": "2020-12-26T21:33:59.004484Z",
     "start_time": "2020-12-26T21:33:58.990522Z"
    }
   },
   "outputs": [],
   "source": [
    "# Merge of Index CSV-Files\n",
    "stocks_3 = pd.merge(data_list[11], data_list[12], on=['Date'], how='inner', suffixes=[' NASDAQ', ' VIX'])"
   ]
  },
  {
   "cell_type": "code",
   "execution_count": 100,
   "metadata": {
    "ExecuteTime": {
     "end_time": "2020-12-26T21:33:59.020476Z",
     "start_time": "2020-12-26T21:33:59.006512Z"
    }
   },
   "outputs": [],
   "source": [
    "# Selection of Closed Price Columns\n",
    "stocks_3 = stocks_3[['Close NASDAQ', 'Close VIX']]"
   ]
  },
  {
   "cell_type": "code",
   "execution_count": 101,
   "metadata": {
    "ExecuteTime": {
     "end_time": "2020-12-26T21:33:59.036401Z",
     "start_time": "2020-12-26T21:33:59.021440Z"
    }
   },
   "outputs": [],
   "source": [
    "# DataFrame of Remaining Feature\n",
    "stocks_4 = pd.DataFrame(data_list[13])"
   ]
  },
  {
   "cell_type": "code",
   "execution_count": 102,
   "metadata": {
    "ExecuteTime": {
     "end_time": "2020-12-26T21:33:59.051577Z",
     "start_time": "2020-12-26T21:33:59.038394Z"
    }
   },
   "outputs": [],
   "source": [
    "# Selection of Closed Price Column\n",
    "stocks_4 = stocks_4[['Close']]"
   ]
  },
  {
   "cell_type": "code",
   "execution_count": 103,
   "metadata": {
    "ExecuteTime": {
     "end_time": "2020-12-26T21:33:59.067317Z",
     "start_time": "2020-12-26T21:33:59.053383Z"
    }
   },
   "outputs": [],
   "source": [
    "# Rename Column\n",
    "stocks_4.columns = ['Close CBOE Skew']"
   ]
  },
  {
   "cell_type": "code",
   "execution_count": 104,
   "metadata": {
    "ExecuteTime": {
     "end_time": "2020-12-26T21:33:59.098236Z",
     "start_time": "2020-12-26T21:33:59.069314Z"
    }
   },
   "outputs": [],
   "source": [
    "# Concatenation of Index Features\n",
    "df_stocks = pd.concat([stocks_1, stocks_2, stocks_3, stocks_4], axis=1, join='inner')"
   ]
  },
  {
   "cell_type": "code",
   "execution_count": 105,
   "metadata": {
    "ExecuteTime": {
     "end_time": "2020-12-26T21:33:59.114193Z",
     "start_time": "2020-12-26T21:33:59.100230Z"
    }
   },
   "outputs": [
    {
     "name": "stdout",
     "output_type": "stream",
     "text": [
      "<class 'pandas.core.frame.DataFrame'>\n",
      "Index: 3353 entries, 2007-03-30 to 2020-12-23\n",
      "Data columns (total 7 columns):\n",
      " #   Column                              Non-Null Count  Dtype  \n",
      "---  ------                              --------------  -----  \n",
      " 0   Close Dow Jones Industrial Average  3353 non-null   float64\n",
      " 1   Close Russell 2000                  3353 non-null   float64\n",
      " 2   Close S&P 500                       3353 non-null   float64\n",
      " 3   Close EURO STOXX 50                 3353 non-null   float64\n",
      " 4   Close NASDAQ                        3353 non-null   float64\n",
      " 5   Close VIX                           3353 non-null   float64\n",
      " 6   Close CBOE Skew                     3353 non-null   float64\n",
      "dtypes: float64(7)\n",
      "memory usage: 209.6+ KB\n"
     ]
    }
   ],
   "source": [
    "df_stocks.info()"
   ]
  },
  {
   "cell_type": "code",
   "execution_count": 106,
   "metadata": {
    "ExecuteTime": {
     "end_time": "2020-12-26T21:33:59.130149Z",
     "start_time": "2020-12-26T21:33:59.115190Z"
    }
   },
   "outputs": [
    {
     "data": {
      "text/html": [
       "<div>\n",
       "<style scoped>\n",
       "    .dataframe tbody tr th:only-of-type {\n",
       "        vertical-align: middle;\n",
       "    }\n",
       "\n",
       "    .dataframe tbody tr th {\n",
       "        vertical-align: top;\n",
       "    }\n",
       "\n",
       "    .dataframe thead th {\n",
       "        text-align: right;\n",
       "    }\n",
       "</style>\n",
       "<table border=\"1\" class=\"dataframe\">\n",
       "  <thead>\n",
       "    <tr style=\"text-align: right;\">\n",
       "      <th></th>\n",
       "      <th>Close Dow Jones Industrial Average</th>\n",
       "      <th>Close Russell 2000</th>\n",
       "      <th>Close S&amp;P 500</th>\n",
       "      <th>Close EURO STOXX 50</th>\n",
       "      <th>Close NASDAQ</th>\n",
       "      <th>Close VIX</th>\n",
       "      <th>Close CBOE Skew</th>\n",
       "    </tr>\n",
       "    <tr>\n",
       "      <th>Date</th>\n",
       "      <th></th>\n",
       "      <th></th>\n",
       "      <th></th>\n",
       "      <th></th>\n",
       "      <th></th>\n",
       "      <th></th>\n",
       "      <th></th>\n",
       "    </tr>\n",
       "  </thead>\n",
       "  <tbody>\n",
       "    <tr>\n",
       "      <th>2020-12-17</th>\n",
       "      <td>30303.370000</td>\n",
       "      <td>1978.050000</td>\n",
       "      <td>3722.480000</td>\n",
       "      <td>3560.870000</td>\n",
       "      <td>12764.750000</td>\n",
       "      <td>21.930000</td>\n",
       "      <td>144.790000</td>\n",
       "    </tr>\n",
       "    <tr>\n",
       "      <th>2020-12-18</th>\n",
       "      <td>30179.050000</td>\n",
       "      <td>1969.990000</td>\n",
       "      <td>3709.410000</td>\n",
       "      <td>3545.740000</td>\n",
       "      <td>12755.640000</td>\n",
       "      <td>21.570000</td>\n",
       "      <td>147.070000</td>\n",
       "    </tr>\n",
       "    <tr>\n",
       "      <th>2020-12-21</th>\n",
       "      <td>30216.450000</td>\n",
       "      <td>1970.330000</td>\n",
       "      <td>3694.920000</td>\n",
       "      <td>3448.680000</td>\n",
       "      <td>12742.520000</td>\n",
       "      <td>25.160000</td>\n",
       "      <td>147.020000</td>\n",
       "    </tr>\n",
       "    <tr>\n",
       "      <th>2020-12-22</th>\n",
       "      <td>30015.510000</td>\n",
       "      <td>1989.880000</td>\n",
       "      <td>3687.260000</td>\n",
       "      <td>3497.490000</td>\n",
       "      <td>12807.920000</td>\n",
       "      <td>24.230000</td>\n",
       "      <td>146.530000</td>\n",
       "    </tr>\n",
       "    <tr>\n",
       "      <th>2020-12-23</th>\n",
       "      <td>30129.830000</td>\n",
       "      <td>2007.100000</td>\n",
       "      <td>3690.010000</td>\n",
       "      <td>3539.260000</td>\n",
       "      <td>12771.110000</td>\n",
       "      <td>23.310000</td>\n",
       "      <td>146.270000</td>\n",
       "    </tr>\n",
       "  </tbody>\n",
       "</table>\n",
       "</div>"
      ],
      "text/plain": [
       "            Close Dow Jones Industrial Average  Close Russell 2000  \\\n",
       "Date                                                                 \n",
       "2020-12-17                        30303.370000         1978.050000   \n",
       "2020-12-18                        30179.050000         1969.990000   \n",
       "2020-12-21                        30216.450000         1970.330000   \n",
       "2020-12-22                        30015.510000         1989.880000   \n",
       "2020-12-23                        30129.830000         2007.100000   \n",
       "\n",
       "            Close S&P 500  Close EURO STOXX 50  Close NASDAQ  Close VIX  \\\n",
       "Date                                                                      \n",
       "2020-12-17    3722.480000          3560.870000  12764.750000  21.930000   \n",
       "2020-12-18    3709.410000          3545.740000  12755.640000  21.570000   \n",
       "2020-12-21    3694.920000          3448.680000  12742.520000  25.160000   \n",
       "2020-12-22    3687.260000          3497.490000  12807.920000  24.230000   \n",
       "2020-12-23    3690.010000          3539.260000  12771.110000  23.310000   \n",
       "\n",
       "            Close CBOE Skew  \n",
       "Date                         \n",
       "2020-12-17       144.790000  \n",
       "2020-12-18       147.070000  \n",
       "2020-12-21       147.020000  \n",
       "2020-12-22       146.530000  \n",
       "2020-12-23       146.270000  "
      ]
     },
     "execution_count": 106,
     "metadata": {},
     "output_type": "execute_result"
    }
   ],
   "source": [
    "df_stocks.tail()"
   ]
  },
  {
   "cell_type": "code",
   "execution_count": 107,
   "metadata": {
    "ExecuteTime": {
     "end_time": "2020-12-26T21:33:59.556011Z",
     "start_time": "2020-12-26T21:33:59.132144Z"
    }
   },
   "outputs": [
    {
     "data": {
      "text/plain": [
       "<AxesSubplot:>"
      ]
     },
     "execution_count": 107,
     "metadata": {},
     "output_type": "execute_result"
    },
    {
     "data": {
      "image/png": "[encoded data removed]",
      "text/plain": [
       "<Figure size 432x288 with 2 Axes>"
      ]
     },
     "metadata": {},
     "output_type": "display_data"
    }
   ],
   "source": [
    "# Correlation Matrix of Index Features\n",
    "heatmap(df_stocks)"
   ]
  },
  {
   "cell_type": "markdown",
   "metadata": {},
   "source": [
    "# Currency CSV-Files"
   ]
  },
  {
   "cell_type": "code",
   "execution_count": 108,
   "metadata": {
    "ExecuteTime": {
     "end_time": "2020-12-26T21:33:59.571970Z",
     "start_time": "2020-12-26T21:33:59.558009Z"
    }
   },
   "outputs": [],
   "source": [
    "# Merge of Currency CSV-Files\n",
    "currencies_1 = pd.merge(data_list[14], data_list[15], on='Date', how='inner', suffixes=[' USD Index', ' EUR/USD'])"
   ]
  },
  {
   "cell_type": "code",
   "execution_count": 109,
   "metadata": {
    "ExecuteTime": {
     "end_time": "2020-12-26T21:33:59.587927Z",
     "start_time": "2020-12-26T21:33:59.573965Z"
    }
   },
   "outputs": [],
   "source": [
    "# Selection of Closed Currency Columns\n",
    "currencies_1 = currencies_1[['Close USD Index', 'Close EUR/USD']]"
   ]
  },
  {
   "cell_type": "code",
   "execution_count": 110,
   "metadata": {
    "ExecuteTime": {
     "end_time": "2020-12-26T21:33:59.603888Z",
     "start_time": "2020-12-26T21:33:59.588924Z"
    }
   },
   "outputs": [],
   "source": [
    "# Merge of Currency CSV-Files\n",
    "currencies_2 = pd.merge(data_list[16], data_list[17], on='Date', how='inner', suffixes=[' JPY/USD', ' GBP/USD'])"
   ]
  },
  {
   "cell_type": "code",
   "execution_count": 111,
   "metadata": {
    "ExecuteTime": {
     "end_time": "2020-12-26T21:33:59.619930Z",
     "start_time": "2020-12-26T21:33:59.604881Z"
    }
   },
   "outputs": [],
   "source": [
    "# Selection of Closed Currency Columns\n",
    "currencies_2 = currencies_2[['Close JPY/USD', 'Close GBP/USD']]"
   ]
  },
  {
   "cell_type": "code",
   "execution_count": 112,
   "metadata": {
    "ExecuteTime": {
     "end_time": "2020-12-26T21:33:59.635799Z",
     "start_time": "2020-12-26T21:33:59.621836Z"
    }
   },
   "outputs": [],
   "source": [
    "# Merge of Currency CSV-Files\n",
    "currencies_3 = pd.merge(data_list[18], data_list[19], on='Date', how='inner', suffixes=[' CAD/USD', ' SEK/USD'])"
   ]
  },
  {
   "cell_type": "code",
   "execution_count": 113,
   "metadata": {
    "ExecuteTime": {
     "end_time": "2020-12-26T21:33:59.650980Z",
     "start_time": "2020-12-26T21:33:59.637794Z"
    }
   },
   "outputs": [],
   "source": [
    "# Selection of Closed Currency Columns\n",
    "currencies_3 = currencies_3[['Close CAD/USD', 'Close SEK/USD']]"
   ]
  },
  {
   "cell_type": "code",
   "execution_count": 114,
   "metadata": {
    "ExecuteTime": {
     "end_time": "2020-12-26T21:33:59.666717Z",
     "start_time": "2020-12-26T21:33:59.652754Z"
    }
   },
   "outputs": [],
   "source": [
    "# DataFrame of remaining Exchange Currency\n",
    "currencies_4 = pd.DataFrame(data_list[20].loc[:, 'Close'])"
   ]
  },
  {
   "cell_type": "code",
   "execution_count": 115,
   "metadata": {
    "ExecuteTime": {
     "end_time": "2020-12-26T21:33:59.682698Z",
     "start_time": "2020-12-26T21:33:59.667720Z"
    }
   },
   "outputs": [],
   "source": [
    "# Rename Column\n",
    "currencies_4.columns = ['Close CHF/USD']"
   ]
  },
  {
   "cell_type": "code",
   "execution_count": 116,
   "metadata": {
    "ExecuteTime": {
     "end_time": "2020-12-26T21:33:59.698632Z",
     "start_time": "2020-12-26T21:33:59.684669Z"
    }
   },
   "outputs": [],
   "source": [
    "# Concatenation of Currencies\n",
    "df_currencies = pd.concat([currencies_1, currencies_2, currencies_3, currencies_4], axis=1, join='inner')"
   ]
  },
  {
   "cell_type": "code",
   "execution_count": 117,
   "metadata": {
    "ExecuteTime": {
     "end_time": "2020-12-26T21:33:59.714619Z",
     "start_time": "2020-12-26T21:33:59.700626Z"
    }
   },
   "outputs": [
    {
     "name": "stdout",
     "output_type": "stream",
     "text": [
      "<class 'pandas.core.frame.DataFrame'>\n",
      "Index: 4242 entries, 2003-12-01 to 2020-12-23\n",
      "Data columns (total 7 columns):\n",
      " #   Column           Non-Null Count  Dtype  \n",
      "---  ------           --------------  -----  \n",
      " 0   Close USD Index  4242 non-null   float64\n",
      " 1   Close EUR/USD    4242 non-null   float64\n",
      " 2   Close JPY/USD    4242 non-null   float64\n",
      " 3   Close GBP/USD    4242 non-null   float64\n",
      " 4   Close CAD/USD    4242 non-null   float64\n",
      " 5   Close SEK/USD    4242 non-null   float64\n",
      " 6   Close CHF/USD    4242 non-null   float64\n",
      "dtypes: float64(7)\n",
      "memory usage: 265.1+ KB\n"
     ]
    }
   ],
   "source": [
    "df_currencies.info()"
   ]
  },
  {
   "cell_type": "code",
   "execution_count": 193,
   "metadata": {
    "ExecuteTime": {
     "end_time": "2020-12-26T21:33:59.730545Z",
     "start_time": "2020-12-26T21:33:59.716584Z"
    }
   },
   "outputs": [
    {
     "data": {
      "text/html": [
       "<div>\n",
       "<style scoped>\n",
       "    .dataframe tbody tr th:only-of-type {\n",
       "        vertical-align: middle;\n",
       "    }\n",
       "\n",
       "    .dataframe tbody tr th {\n",
       "        vertical-align: top;\n",
       "    }\n",
       "\n",
       "    .dataframe thead th {\n",
       "        text-align: right;\n",
       "    }\n",
       "</style>\n",
       "<table border=\"1\" class=\"dataframe\">\n",
       "  <thead>\n",
       "    <tr style=\"text-align: right;\">\n",
       "      <th></th>\n",
       "      <th>Close USD Index</th>\n",
       "      <th>Close EUR/USD</th>\n",
       "      <th>Close JPY/USD</th>\n",
       "      <th>Close GBP/USD</th>\n",
       "      <th>Close CAD/USD</th>\n",
       "      <th>Close SEK/USD</th>\n",
       "      <th>Close CHF/USD</th>\n",
       "    </tr>\n",
       "    <tr>\n",
       "      <th>Date</th>\n",
       "      <th></th>\n",
       "      <th></th>\n",
       "      <th></th>\n",
       "      <th></th>\n",
       "      <th></th>\n",
       "      <th></th>\n",
       "      <th></th>\n",
       "    </tr>\n",
       "  </thead>\n",
       "  <tbody>\n",
       "    <tr>\n",
       "      <th>2020-12-10</th>\n",
       "      <td>90.79</td>\n",
       "      <td>1.21</td>\n",
       "      <td>0.01</td>\n",
       "      <td>1.34</td>\n",
       "      <td>0.78</td>\n",
       "      <td>0.12</td>\n",
       "      <td>1.12</td>\n",
       "    </tr>\n",
       "    <tr>\n",
       "      <th>2020-12-11</th>\n",
       "      <td>90.98</td>\n",
       "      <td>1.21</td>\n",
       "      <td>0.01</td>\n",
       "      <td>1.33</td>\n",
       "      <td>0.79</td>\n",
       "      <td>0.12</td>\n",
       "      <td>1.13</td>\n",
       "    </tr>\n",
       "    <tr>\n",
       "      <th>2020-12-14</th>\n",
       "      <td>90.72</td>\n",
       "      <td>1.21</td>\n",
       "      <td>0.01</td>\n",
       "      <td>1.33</td>\n",
       "      <td>0.78</td>\n",
       "      <td>0.12</td>\n",
       "      <td>1.13</td>\n",
       "    </tr>\n",
       "    <tr>\n",
       "      <th>2020-12-15</th>\n",
       "      <td>90.47</td>\n",
       "      <td>1.21</td>\n",
       "      <td>0.01</td>\n",
       "      <td>1.33</td>\n",
       "      <td>0.78</td>\n",
       "      <td>0.12</td>\n",
       "      <td>1.13</td>\n",
       "    </tr>\n",
       "    <tr>\n",
       "      <th>2020-12-16</th>\n",
       "      <td>90.45</td>\n",
       "      <td>1.22</td>\n",
       "      <td>0.01</td>\n",
       "      <td>1.34</td>\n",
       "      <td>0.79</td>\n",
       "      <td>0.12</td>\n",
       "      <td>1.13</td>\n",
       "    </tr>\n",
       "    <tr>\n",
       "      <th>2020-12-17</th>\n",
       "      <td>89.82</td>\n",
       "      <td>1.22</td>\n",
       "      <td>0.01</td>\n",
       "      <td>1.35</td>\n",
       "      <td>0.78</td>\n",
       "      <td>0.12</td>\n",
       "      <td>1.13</td>\n",
       "    </tr>\n",
       "    <tr>\n",
       "      <th>2020-12-18</th>\n",
       "      <td>90.02</td>\n",
       "      <td>1.23</td>\n",
       "      <td>0.01</td>\n",
       "      <td>1.36</td>\n",
       "      <td>0.79</td>\n",
       "      <td>0.12</td>\n",
       "      <td>1.13</td>\n",
       "    </tr>\n",
       "    <tr>\n",
       "      <th>2020-12-21</th>\n",
       "      <td>90.04</td>\n",
       "      <td>1.22</td>\n",
       "      <td>0.01</td>\n",
       "      <td>1.34</td>\n",
       "      <td>0.78</td>\n",
       "      <td>0.12</td>\n",
       "      <td>1.13</td>\n",
       "    </tr>\n",
       "    <tr>\n",
       "      <th>2020-12-22</th>\n",
       "      <td>90.65</td>\n",
       "      <td>1.22</td>\n",
       "      <td>0.01</td>\n",
       "      <td>1.34</td>\n",
       "      <td>0.78</td>\n",
       "      <td>0.12</td>\n",
       "      <td>1.13</td>\n",
       "    </tr>\n",
       "    <tr>\n",
       "      <th>2020-12-23</th>\n",
       "      <td>90.41</td>\n",
       "      <td>1.22</td>\n",
       "      <td>0.01</td>\n",
       "      <td>1.34</td>\n",
       "      <td>0.78</td>\n",
       "      <td>0.12</td>\n",
       "      <td>1.13</td>\n",
       "    </tr>\n",
       "  </tbody>\n",
       "</table>\n",
       "</div>"
      ],
      "text/plain": [
       "            Close USD Index  Close EUR/USD  Close JPY/USD  Close GBP/USD  \\\n",
       "Date                                                                       \n",
       "2020-12-10            90.79           1.21           0.01           1.34   \n",
       "2020-12-11            90.98           1.21           0.01           1.33   \n",
       "2020-12-14            90.72           1.21           0.01           1.33   \n",
       "2020-12-15            90.47           1.21           0.01           1.33   \n",
       "2020-12-16            90.45           1.22           0.01           1.34   \n",
       "2020-12-17            89.82           1.22           0.01           1.35   \n",
       "2020-12-18            90.02           1.23           0.01           1.36   \n",
       "2020-12-21            90.04           1.22           0.01           1.34   \n",
       "2020-12-22            90.65           1.22           0.01           1.34   \n",
       "2020-12-23            90.41           1.22           0.01           1.34   \n",
       "\n",
       "            Close CAD/USD  Close SEK/USD  Close CHF/USD  \n",
       "Date                                                     \n",
       "2020-12-10           0.78           0.12           1.12  \n",
       "2020-12-11           0.79           0.12           1.13  \n",
       "2020-12-14           0.78           0.12           1.13  \n",
       "2020-12-15           0.78           0.12           1.13  \n",
       "2020-12-16           0.79           0.12           1.13  \n",
       "2020-12-17           0.78           0.12           1.13  \n",
       "2020-12-18           0.79           0.12           1.13  \n",
       "2020-12-21           0.78           0.12           1.13  \n",
       "2020-12-22           0.78           0.12           1.13  \n",
       "2020-12-23           0.78           0.12           1.13  "
      ]
     },
     "execution_count": 193,
     "metadata": {},
     "output_type": "execute_result"
    }
   ],
   "source": [
    "df_currencies.tail(10)"
   ]
  },
  {
   "cell_type": "code",
   "execution_count": 119,
   "metadata": {
    "ExecuteTime": {
     "end_time": "2020-12-26T21:34:00.219240Z",
     "start_time": "2020-12-26T21:33:59.732549Z"
    }
   },
   "outputs": [
    {
     "data": {
      "text/plain": [
       "<AxesSubplot:>"
      ]
     },
     "execution_count": 119,
     "metadata": {},
     "output_type": "execute_result"
    },
    {
     "data": {
      "image/png": "[encoded data removed]",
      "text/plain": [
       "<Figure size 432x288 with 2 Axes>"
      ]
     },
     "metadata": {},
     "output_type": "display_data"
    }
   ],
   "source": [
    "# Correlation Matrix of Exchange Currencies\n",
    "heatmap(df_currencies)"
   ]
  },
  {
   "cell_type": "markdown",
   "metadata": {},
   "source": [
    "# Stocks"
   ]
  },
  {
   "cell_type": "code",
   "execution_count": 120,
   "metadata": {
    "ExecuteTime": {
     "end_time": "2020-12-26T21:34:00.235198Z",
     "start_time": "2020-12-26T21:34:00.220238Z"
    }
   },
   "outputs": [],
   "source": [
    "# Calcuation of Daily Changes for Stock Market Variables\n",
    "df_stocks['Dow Jones Industrial Average Daily Change'] = df_stocks['Close Dow Jones Industrial Average'].diff()\n",
    "df_stocks['Russell 2000 Daily Change'] = df_stocks['Close Russell 2000'].diff()\n",
    "df_stocks['S&P 500 Daily Change'] = df_stocks['Close S&P 500'].diff()\n",
    "df_stocks['EURO STOXX 50 Daily Change'] = df_stocks['Close EURO STOXX 50'].diff()\n",
    "df_stocks['NASDAQ Daily Change'] = df_stocks['Close NASDAQ'].diff()\n",
    "df_stocks['VIX Daily Change'] = df_stocks['Close VIX'].diff()\n",
    "df_stocks['CBOE Skew Daily Change'] = df_stocks['Close CBOE Skew'].diff()"
   ]
  },
  {
   "cell_type": "code",
   "execution_count": 121,
   "metadata": {
    "ExecuteTime": {
     "end_time": "2020-12-26T21:34:00.251156Z",
     "start_time": "2020-12-26T21:34:00.236206Z"
    }
   },
   "outputs": [
    {
     "data": {
      "text/html": [
       "<div>\n",
       "<style scoped>\n",
       "    .dataframe tbody tr th:only-of-type {\n",
       "        vertical-align: middle;\n",
       "    }\n",
       "\n",
       "    .dataframe tbody tr th {\n",
       "        vertical-align: top;\n",
       "    }\n",
       "\n",
       "    .dataframe thead th {\n",
       "        text-align: right;\n",
       "    }\n",
       "</style>\n",
       "<table border=\"1\" class=\"dataframe\">\n",
       "  <thead>\n",
       "    <tr style=\"text-align: right;\">\n",
       "      <th></th>\n",
       "      <th>Close Dow Jones Industrial Average</th>\n",
       "      <th>Close Russell 2000</th>\n",
       "      <th>Close S&amp;P 500</th>\n",
       "      <th>Close EURO STOXX 50</th>\n",
       "      <th>Close NASDAQ</th>\n",
       "      <th>Close VIX</th>\n",
       "      <th>Close CBOE Skew</th>\n",
       "      <th>Dow Jones Industrial Average Daily Change</th>\n",
       "      <th>Russell 2000 Daily Change</th>\n",
       "      <th>S&amp;P 500 Daily Change</th>\n",
       "      <th>EURO STOXX 50 Daily Change</th>\n",
       "      <th>NASDAQ Daily Change</th>\n",
       "      <th>VIX Daily Change</th>\n",
       "      <th>CBOE Skew Daily Change</th>\n",
       "    </tr>\n",
       "    <tr>\n",
       "      <th>Date</th>\n",
       "      <th></th>\n",
       "      <th></th>\n",
       "      <th></th>\n",
       "      <th></th>\n",
       "      <th></th>\n",
       "      <th></th>\n",
       "      <th></th>\n",
       "      <th></th>\n",
       "      <th></th>\n",
       "      <th></th>\n",
       "      <th></th>\n",
       "      <th></th>\n",
       "      <th></th>\n",
       "      <th></th>\n",
       "    </tr>\n",
       "  </thead>\n",
       "  <tbody>\n",
       "    <tr>\n",
       "      <th>2020-12-18</th>\n",
       "      <td>30179.050000</td>\n",
       "      <td>1969.990000</td>\n",
       "      <td>3709.410000</td>\n",
       "      <td>3545.740000</td>\n",
       "      <td>12755.640000</td>\n",
       "      <td>21.570000</td>\n",
       "      <td>147.070000</td>\n",
       "      <td>-124.320000</td>\n",
       "      <td>-8.060000</td>\n",
       "      <td>-13.070000</td>\n",
       "      <td>-15.130000</td>\n",
       "      <td>-9.110000</td>\n",
       "      <td>-0.360000</td>\n",
       "      <td>2.280000</td>\n",
       "    </tr>\n",
       "    <tr>\n",
       "      <th>2020-12-21</th>\n",
       "      <td>30216.450000</td>\n",
       "      <td>1970.330000</td>\n",
       "      <td>3694.920000</td>\n",
       "      <td>3448.680000</td>\n",
       "      <td>12742.520000</td>\n",
       "      <td>25.160000</td>\n",
       "      <td>147.020000</td>\n",
       "      <td>37.400000</td>\n",
       "      <td>0.340000</td>\n",
       "      <td>-14.490000</td>\n",
       "      <td>-97.060000</td>\n",
       "      <td>-13.120000</td>\n",
       "      <td>3.590000</td>\n",
       "      <td>-0.050000</td>\n",
       "    </tr>\n",
       "    <tr>\n",
       "      <th>2020-12-22</th>\n",
       "      <td>30015.510000</td>\n",
       "      <td>1989.880000</td>\n",
       "      <td>3687.260000</td>\n",
       "      <td>3497.490000</td>\n",
       "      <td>12807.920000</td>\n",
       "      <td>24.230000</td>\n",
       "      <td>146.530000</td>\n",
       "      <td>-200.940000</td>\n",
       "      <td>19.550000</td>\n",
       "      <td>-7.660000</td>\n",
       "      <td>48.810000</td>\n",
       "      <td>65.400000</td>\n",
       "      <td>-0.930000</td>\n",
       "      <td>-0.490000</td>\n",
       "    </tr>\n",
       "  </tbody>\n",
       "</table>\n",
       "</div>"
      ],
      "text/plain": [
       "            Close Dow Jones Industrial Average  Close Russell 2000  \\\n",
       "Date                                                                 \n",
       "2020-12-18                        30179.050000         1969.990000   \n",
       "2020-12-21                        30216.450000         1970.330000   \n",
       "2020-12-22                        30015.510000         1989.880000   \n",
       "\n",
       "            Close S&P 500  Close EURO STOXX 50  Close NASDAQ  Close VIX  \\\n",
       "Date                                                                      \n",
       "2020-12-18    3709.410000          3545.740000  12755.640000  21.570000   \n",
       "2020-12-21    3694.920000          3448.680000  12742.520000  25.160000   \n",
       "2020-12-22    3687.260000          3497.490000  12807.920000  24.230000   \n",
       "\n",
       "            Close CBOE Skew  Dow Jones Industrial Average Daily Change  \\\n",
       "Date                                                                     \n",
       "2020-12-18       147.070000                                -124.320000   \n",
       "2020-12-21       147.020000                                  37.400000   \n",
       "2020-12-22       146.530000                                -200.940000   \n",
       "\n",
       "            Russell 2000 Daily Change  S&P 500 Daily Change  \\\n",
       "Date                                                          \n",
       "2020-12-18                  -8.060000            -13.070000   \n",
       "2020-12-21                   0.340000            -14.490000   \n",
       "2020-12-22                  19.550000             -7.660000   \n",
       "\n",
       "            EURO STOXX 50 Daily Change  NASDAQ Daily Change  VIX Daily Change  \\\n",
       "Date                                                                            \n",
       "2020-12-18                  -15.130000            -9.110000         -0.360000   \n",
       "2020-12-21                  -97.060000           -13.120000          3.590000   \n",
       "2020-12-22                   48.810000            65.400000         -0.930000   \n",
       "\n",
       "            CBOE Skew Daily Change  \n",
       "Date                                \n",
       "2020-12-18                2.280000  \n",
       "2020-12-21               -0.050000  \n",
       "2020-12-22               -0.490000  "
      ]
     },
     "execution_count": 121,
     "metadata": {},
     "output_type": "execute_result"
    }
   ],
   "source": [
    "df_stocks.iloc[-4:-1, :]"
   ]
  },
  {
   "cell_type": "code",
   "execution_count": 122,
   "metadata": {
    "ExecuteTime": {
     "end_time": "2020-12-26T21:34:00.267114Z",
     "start_time": "2020-12-26T21:34:00.254148Z"
    }
   },
   "outputs": [],
   "source": [
    "df_stocks = df_stocks.dropna()"
   ]
  },
  {
   "cell_type": "code",
   "execution_count": 123,
   "metadata": {
    "ExecuteTime": {
     "end_time": "2020-12-26T21:34:00.298418Z",
     "start_time": "2020-12-26T21:34:00.269126Z"
    }
   },
   "outputs": [
    {
     "data": {
      "text/html": [
       "<div>\n",
       "<style scoped>\n",
       "    .dataframe tbody tr th:only-of-type {\n",
       "        vertical-align: middle;\n",
       "    }\n",
       "\n",
       "    .dataframe tbody tr th {\n",
       "        vertical-align: top;\n",
       "    }\n",
       "\n",
       "    .dataframe thead th {\n",
       "        text-align: right;\n",
       "    }\n",
       "</style>\n",
       "<table border=\"1\" class=\"dataframe\">\n",
       "  <thead>\n",
       "    <tr style=\"text-align: right;\">\n",
       "      <th></th>\n",
       "      <th>Close Dow Jones Industrial Average</th>\n",
       "      <th>Close Russell 2000</th>\n",
       "      <th>Close S&amp;P 500</th>\n",
       "      <th>Close EURO STOXX 50</th>\n",
       "      <th>Close NASDAQ</th>\n",
       "      <th>Close VIX</th>\n",
       "      <th>Close CBOE Skew</th>\n",
       "      <th>Dow Jones Industrial Average Daily Change</th>\n",
       "      <th>Russell 2000 Daily Change</th>\n",
       "      <th>S&amp;P 500 Daily Change</th>\n",
       "      <th>EURO STOXX 50 Daily Change</th>\n",
       "      <th>NASDAQ Daily Change</th>\n",
       "      <th>VIX Daily Change</th>\n",
       "      <th>CBOE Skew Daily Change</th>\n",
       "    </tr>\n",
       "    <tr>\n",
       "      <th>Date</th>\n",
       "      <th></th>\n",
       "      <th></th>\n",
       "      <th></th>\n",
       "      <th></th>\n",
       "      <th></th>\n",
       "      <th></th>\n",
       "      <th></th>\n",
       "      <th></th>\n",
       "      <th></th>\n",
       "      <th></th>\n",
       "      <th></th>\n",
       "      <th></th>\n",
       "      <th></th>\n",
       "      <th></th>\n",
       "    </tr>\n",
       "  </thead>\n",
       "  <tbody>\n",
       "    <tr>\n",
       "      <th>2020-12-17</th>\n",
       "      <td>30303.370000</td>\n",
       "      <td>1978.050000</td>\n",
       "      <td>3722.480000</td>\n",
       "      <td>3560.870000</td>\n",
       "      <td>12764.750000</td>\n",
       "      <td>21.930000</td>\n",
       "      <td>144.790000</td>\n",
       "      <td>148.830000</td>\n",
       "      <td>25.330000</td>\n",
       "      <td>21.310000</td>\n",
       "      <td>17.870000</td>\n",
       "      <td>106.560000</td>\n",
       "      <td>-0.570000</td>\n",
       "      <td>5.840000</td>\n",
       "    </tr>\n",
       "    <tr>\n",
       "      <th>2020-12-18</th>\n",
       "      <td>30179.050000</td>\n",
       "      <td>1969.990000</td>\n",
       "      <td>3709.410000</td>\n",
       "      <td>3545.740000</td>\n",
       "      <td>12755.640000</td>\n",
       "      <td>21.570000</td>\n",
       "      <td>147.070000</td>\n",
       "      <td>-124.320000</td>\n",
       "      <td>-8.060000</td>\n",
       "      <td>-13.070000</td>\n",
       "      <td>-15.130000</td>\n",
       "      <td>-9.110000</td>\n",
       "      <td>-0.360000</td>\n",
       "      <td>2.280000</td>\n",
       "    </tr>\n",
       "    <tr>\n",
       "      <th>2020-12-21</th>\n",
       "      <td>30216.450000</td>\n",
       "      <td>1970.330000</td>\n",
       "      <td>3694.920000</td>\n",
       "      <td>3448.680000</td>\n",
       "      <td>12742.520000</td>\n",
       "      <td>25.160000</td>\n",
       "      <td>147.020000</td>\n",
       "      <td>37.400000</td>\n",
       "      <td>0.340000</td>\n",
       "      <td>-14.490000</td>\n",
       "      <td>-97.060000</td>\n",
       "      <td>-13.120000</td>\n",
       "      <td>3.590000</td>\n",
       "      <td>-0.050000</td>\n",
       "    </tr>\n",
       "    <tr>\n",
       "      <th>2020-12-22</th>\n",
       "      <td>30015.510000</td>\n",
       "      <td>1989.880000</td>\n",
       "      <td>3687.260000</td>\n",
       "      <td>3497.490000</td>\n",
       "      <td>12807.920000</td>\n",
       "      <td>24.230000</td>\n",
       "      <td>146.530000</td>\n",
       "      <td>-200.940000</td>\n",
       "      <td>19.550000</td>\n",
       "      <td>-7.660000</td>\n",
       "      <td>48.810000</td>\n",
       "      <td>65.400000</td>\n",
       "      <td>-0.930000</td>\n",
       "      <td>-0.490000</td>\n",
       "    </tr>\n",
       "    <tr>\n",
       "      <th>2020-12-23</th>\n",
       "      <td>30129.830000</td>\n",
       "      <td>2007.100000</td>\n",
       "      <td>3690.010000</td>\n",
       "      <td>3539.260000</td>\n",
       "      <td>12771.110000</td>\n",
       "      <td>23.310000</td>\n",
       "      <td>146.270000</td>\n",
       "      <td>114.320000</td>\n",
       "      <td>17.220000</td>\n",
       "      <td>2.750000</td>\n",
       "      <td>41.770000</td>\n",
       "      <td>-36.810000</td>\n",
       "      <td>-0.920000</td>\n",
       "      <td>-0.260000</td>\n",
       "    </tr>\n",
       "  </tbody>\n",
       "</table>\n",
       "</div>"
      ],
      "text/plain": [
       "            Close Dow Jones Industrial Average  Close Russell 2000  \\\n",
       "Date                                                                 \n",
       "2020-12-17                        30303.370000         1978.050000   \n",
       "2020-12-18                        30179.050000         1969.990000   \n",
       "2020-12-21                        30216.450000         1970.330000   \n",
       "2020-12-22                        30015.510000         1989.880000   \n",
       "2020-12-23                        30129.830000         2007.100000   \n",
       "\n",
       "            Close S&P 500  Close EURO STOXX 50  Close NASDAQ  Close VIX  \\\n",
       "Date                                                                      \n",
       "2020-12-17    3722.480000          3560.870000  12764.750000  21.930000   \n",
       "2020-12-18    3709.410000          3545.740000  12755.640000  21.570000   \n",
       "2020-12-21    3694.920000          3448.680000  12742.520000  25.160000   \n",
       "2020-12-22    3687.260000          3497.490000  12807.920000  24.230000   \n",
       "2020-12-23    3690.010000          3539.260000  12771.110000  23.310000   \n",
       "\n",
       "            Close CBOE Skew  Dow Jones Industrial Average Daily Change  \\\n",
       "Date                                                                     \n",
       "2020-12-17       144.790000                                 148.830000   \n",
       "2020-12-18       147.070000                                -124.320000   \n",
       "2020-12-21       147.020000                                  37.400000   \n",
       "2020-12-22       146.530000                                -200.940000   \n",
       "2020-12-23       146.270000                                 114.320000   \n",
       "\n",
       "            Russell 2000 Daily Change  S&P 500 Daily Change  \\\n",
       "Date                                                          \n",
       "2020-12-17                  25.330000             21.310000   \n",
       "2020-12-18                  -8.060000            -13.070000   \n",
       "2020-12-21                   0.340000            -14.490000   \n",
       "2020-12-22                  19.550000             -7.660000   \n",
       "2020-12-23                  17.220000              2.750000   \n",
       "\n",
       "            EURO STOXX 50 Daily Change  NASDAQ Daily Change  VIX Daily Change  \\\n",
       "Date                                                                            \n",
       "2020-12-17                   17.870000           106.560000         -0.570000   \n",
       "2020-12-18                  -15.130000            -9.110000         -0.360000   \n",
       "2020-12-21                  -97.060000           -13.120000          3.590000   \n",
       "2020-12-22                   48.810000            65.400000         -0.930000   \n",
       "2020-12-23                   41.770000           -36.810000         -0.920000   \n",
       "\n",
       "            CBOE Skew Daily Change  \n",
       "Date                                \n",
       "2020-12-17                5.840000  \n",
       "2020-12-18                2.280000  \n",
       "2020-12-21               -0.050000  \n",
       "2020-12-22               -0.490000  \n",
       "2020-12-23               -0.260000  "
      ]
     },
     "execution_count": 123,
     "metadata": {},
     "output_type": "execute_result"
    }
   ],
   "source": [
    "df_stocks.tail()"
   ]
  },
  {
   "cell_type": "code",
   "execution_count": null,
   "metadata": {},
   "outputs": [],
   "source": []
  },
  {
   "cell_type": "code",
   "execution_count": null,
   "metadata": {},
   "outputs": [],
   "source": []
  },
  {
   "cell_type": "markdown",
   "metadata": {},
   "source": [
    "## Target Variables"
   ]
  },
  {
   "cell_type": "code",
   "execution_count": 124,
   "metadata": {
    "ExecuteTime": {
     "end_time": "2020-12-26T21:34:00.314009Z",
     "start_time": "2020-12-26T21:34:00.300065Z"
    }
   },
   "outputs": [],
   "source": [
    "df_return = pd.DataFrame(df_market['market/price_usd_close'])"
   ]
  },
  {
   "cell_type": "code",
   "execution_count": 125,
   "metadata": {
    "ExecuteTime": {
     "end_time": "2020-12-26T21:34:00.329959Z",
     "start_time": "2020-12-26T21:34:00.314986Z"
    }
   },
   "outputs": [],
   "source": [
    "df_return.columns = ['Closed Price USD']"
   ]
  },
  {
   "cell_type": "code",
   "execution_count": 126,
   "metadata": {
    "ExecuteTime": {
     "end_time": "2020-12-26T21:34:00.345902Z",
     "start_time": "2020-12-26T21:34:00.331940Z"
    }
   },
   "outputs": [],
   "source": [
    "# Add Column with BTC Daily Returns in USD\n",
    "df_return['Daily Return in USD'] = df_return['Closed Price USD'].diff()"
   ]
  },
  {
   "cell_type": "raw",
   "metadata": {},
   "source": [
    "# Add Column with BTC Daily Returns in Percent\n",
    "df_return['Daily Returns in Percent'] = (df_return['Daily Returns USD']) / (df_return['Closed Price USD'].shift(1))*100"
   ]
  },
  {
   "cell_type": "raw",
   "metadata": {},
   "source": [
    "# Add Column with BTC Daily Log Returns in Percent\n",
    "df_return['Daily Log Returns in Percent'] = pd.DataFrame(np.log(df_return['Closed Price USD']/df_return['Closed Price USD'].shift(1))*100)"
   ]
  },
  {
   "cell_type": "code",
   "execution_count": 127,
   "metadata": {
    "ExecuteTime": {
     "end_time": "2020-12-26T21:34:00.361860Z",
     "start_time": "2020-12-26T21:34:00.346899Z"
    }
   },
   "outputs": [
    {
     "data": {
      "text/html": [
       "<div>\n",
       "<style scoped>\n",
       "    .dataframe tbody tr th:only-of-type {\n",
       "        vertical-align: middle;\n",
       "    }\n",
       "\n",
       "    .dataframe tbody tr th {\n",
       "        vertical-align: top;\n",
       "    }\n",
       "\n",
       "    .dataframe thead th {\n",
       "        text-align: right;\n",
       "    }\n",
       "</style>\n",
       "<table border=\"1\" class=\"dataframe\">\n",
       "  <thead>\n",
       "    <tr style=\"text-align: right;\">\n",
       "      <th></th>\n",
       "      <th>Closed Price USD</th>\n",
       "      <th>Daily Return in USD</th>\n",
       "    </tr>\n",
       "    <tr>\n",
       "      <th>Date</th>\n",
       "      <th></th>\n",
       "      <th></th>\n",
       "    </tr>\n",
       "  </thead>\n",
       "  <tbody>\n",
       "    <tr>\n",
       "      <th>2020-12-22</th>\n",
       "      <td>23758.933628</td>\n",
       "      <td>883.477928</td>\n",
       "    </tr>\n",
       "    <tr>\n",
       "      <th>2020-12-23</th>\n",
       "      <td>23279.549293</td>\n",
       "      <td>-479.384335</td>\n",
       "    </tr>\n",
       "    <tr>\n",
       "      <th>2020-12-24</th>\n",
       "      <td>23764.753405</td>\n",
       "      <td>485.204112</td>\n",
       "    </tr>\n",
       "    <tr>\n",
       "      <th>2020-12-25</th>\n",
       "      <td>24688.211520</td>\n",
       "      <td>923.458115</td>\n",
       "    </tr>\n",
       "    <tr>\n",
       "      <th>2020-12-26</th>\n",
       "      <td>26440.248700</td>\n",
       "      <td>1752.037180</td>\n",
       "    </tr>\n",
       "  </tbody>\n",
       "</table>\n",
       "</div>"
      ],
      "text/plain": [
       "            Closed Price USD  Daily Return in USD\n",
       "Date                                             \n",
       "2020-12-22      23758.933628           883.477928\n",
       "2020-12-23      23279.549293          -479.384335\n",
       "2020-12-24      23764.753405           485.204112\n",
       "2020-12-25      24688.211520           923.458115\n",
       "2020-12-26      26440.248700          1752.037180"
      ]
     },
     "execution_count": 127,
     "metadata": {},
     "output_type": "execute_result"
    }
   ],
   "source": [
    "df_return.tail()"
   ]
  },
  {
   "cell_type": "markdown",
   "metadata": {},
   "source": [
    "## Feature Engineering"
   ]
  },
  {
   "cell_type": "markdown",
   "metadata": {},
   "source": [
    "### Volatility"
   ]
  },
  {
   "cell_type": "code",
   "execution_count": 128,
   "metadata": {
    "ExecuteTime": {
     "end_time": "2020-12-26T21:34:00.377816Z",
     "start_time": "2020-12-26T21:34:00.362907Z"
    }
   },
   "outputs": [],
   "source": [
    "# Selecting BTC Close Price in USD\n",
    "df_volatility = pd.DataFrame(df_market['market/price_usd_close'])"
   ]
  },
  {
   "cell_type": "code",
   "execution_count": 129,
   "metadata": {
    "ExecuteTime": {
     "end_time": "2020-12-26T21:34:00.387202Z",
     "start_time": "2020-12-26T21:34:00.378815Z"
    }
   },
   "outputs": [],
   "source": [
    "# Rename Price Column\n",
    "df_volatility.columns = ['Closed Price USD']"
   ]
  },
  {
   "cell_type": "code",
   "execution_count": 130,
   "metadata": {
    "ExecuteTime": {
     "end_time": "2020-12-26T21:34:00.402751Z",
     "start_time": "2020-12-26T21:34:00.388789Z"
    }
   },
   "outputs": [],
   "source": [
    "# Add Column with BTC Daily Returns in USD\n",
    "df_volatility['Daily Return in USD'] = df_volatility['Closed Price USD'].diff()"
   ]
  },
  {
   "cell_type": "code",
   "execution_count": 131,
   "metadata": {
    "ExecuteTime": {
     "end_time": "2020-12-26T21:34:00.418708Z",
     "start_time": "2020-12-26T21:34:00.404746Z"
    }
   },
   "outputs": [
    {
     "data": {
      "text/html": [
       "<div>\n",
       "<style scoped>\n",
       "    .dataframe tbody tr th:only-of-type {\n",
       "        vertical-align: middle;\n",
       "    }\n",
       "\n",
       "    .dataframe tbody tr th {\n",
       "        vertical-align: top;\n",
       "    }\n",
       "\n",
       "    .dataframe thead th {\n",
       "        text-align: right;\n",
       "    }\n",
       "</style>\n",
       "<table border=\"1\" class=\"dataframe\">\n",
       "  <thead>\n",
       "    <tr style=\"text-align: right;\">\n",
       "      <th></th>\n",
       "      <th>Closed Price USD</th>\n",
       "      <th>Daily Return in USD</th>\n",
       "    </tr>\n",
       "    <tr>\n",
       "      <th>Date</th>\n",
       "      <th></th>\n",
       "      <th></th>\n",
       "    </tr>\n",
       "  </thead>\n",
       "  <tbody>\n",
       "    <tr>\n",
       "      <th>2010-07-17</th>\n",
       "      <td>0.049510</td>\n",
       "      <td>nan</td>\n",
       "    </tr>\n",
       "    <tr>\n",
       "      <th>2010-07-18</th>\n",
       "      <td>0.085840</td>\n",
       "      <td>0.036330</td>\n",
       "    </tr>\n",
       "    <tr>\n",
       "      <th>2010-07-19</th>\n",
       "      <td>0.080800</td>\n",
       "      <td>-0.005040</td>\n",
       "    </tr>\n",
       "    <tr>\n",
       "      <th>2010-07-20</th>\n",
       "      <td>0.074733</td>\n",
       "      <td>-0.006067</td>\n",
       "    </tr>\n",
       "    <tr>\n",
       "      <th>2010-07-21</th>\n",
       "      <td>0.079210</td>\n",
       "      <td>0.004477</td>\n",
       "    </tr>\n",
       "    <tr>\n",
       "      <th>...</th>\n",
       "      <td>...</td>\n",
       "      <td>...</td>\n",
       "    </tr>\n",
       "    <tr>\n",
       "      <th>2020-12-22</th>\n",
       "      <td>23758.933628</td>\n",
       "      <td>883.477928</td>\n",
       "    </tr>\n",
       "    <tr>\n",
       "      <th>2020-12-23</th>\n",
       "      <td>23279.549293</td>\n",
       "      <td>-479.384335</td>\n",
       "    </tr>\n",
       "    <tr>\n",
       "      <th>2020-12-24</th>\n",
       "      <td>23764.753405</td>\n",
       "      <td>485.204112</td>\n",
       "    </tr>\n",
       "    <tr>\n",
       "      <th>2020-12-25</th>\n",
       "      <td>24688.211520</td>\n",
       "      <td>923.458115</td>\n",
       "    </tr>\n",
       "    <tr>\n",
       "      <th>2020-12-26</th>\n",
       "      <td>26440.248700</td>\n",
       "      <td>1752.037180</td>\n",
       "    </tr>\n",
       "  </tbody>\n",
       "</table>\n",
       "<p>3816 rows × 2 columns</p>\n",
       "</div>"
      ],
      "text/plain": [
       "            Closed Price USD  Daily Return in USD\n",
       "Date                                             \n",
       "2010-07-17          0.049510                  nan\n",
       "2010-07-18          0.085840             0.036330\n",
       "2010-07-19          0.080800            -0.005040\n",
       "2010-07-20          0.074733            -0.006067\n",
       "2010-07-21          0.079210             0.004477\n",
       "...                      ...                  ...\n",
       "2020-12-22      23758.933628           883.477928\n",
       "2020-12-23      23279.549293          -479.384335\n",
       "2020-12-24      23764.753405           485.204112\n",
       "2020-12-25      24688.211520           923.458115\n",
       "2020-12-26      26440.248700          1752.037180\n",
       "\n",
       "[3816 rows x 2 columns]"
      ]
     },
     "execution_count": 131,
     "metadata": {},
     "output_type": "execute_result"
    }
   ],
   "source": [
    "df_volatility"
   ]
  },
  {
   "cell_type": "code",
   "execution_count": null,
   "metadata": {},
   "outputs": [],
   "source": []
  },
  {
   "cell_type": "code",
   "execution_count": 132,
   "metadata": {
    "ExecuteTime": {
     "end_time": "2020-12-26T21:34:00.434700Z",
     "start_time": "2020-12-26T21:34:00.420703Z"
    }
   },
   "outputs": [],
   "source": [
    "# Add Column with BTC Daily Returns in Percent\n",
    "df_volatility['Daily Return in Percent'] = (df_volatility['Daily Return in USD']) / (df_volatility['Closed Price USD'].shift(1))*100"
   ]
  },
  {
   "cell_type": "code",
   "execution_count": 133,
   "metadata": {
    "ExecuteTime": {
     "end_time": "2020-12-26T21:34:00.450622Z",
     "start_time": "2020-12-26T21:34:00.436660Z"
    }
   },
   "outputs": [],
   "source": [
    "# Add Column with BTC Daily Log Returns in Percent\n",
    "df_volatility['Daily Log Return in Percent'] = pd.DataFrame(np.log(df_volatility['Closed Price USD']/df_volatility['Closed Price USD'].shift(1))*100)"
   ]
  },
  {
   "cell_type": "code",
   "execution_count": 134,
   "metadata": {
    "ExecuteTime": {
     "end_time": "2020-12-26T21:34:00.466581Z",
     "start_time": "2020-12-26T21:34:00.452619Z"
    }
   },
   "outputs": [
    {
     "data": {
      "text/html": [
       "<div>\n",
       "<style scoped>\n",
       "    .dataframe tbody tr th:only-of-type {\n",
       "        vertical-align: middle;\n",
       "    }\n",
       "\n",
       "    .dataframe tbody tr th {\n",
       "        vertical-align: top;\n",
       "    }\n",
       "\n",
       "    .dataframe thead th {\n",
       "        text-align: right;\n",
       "    }\n",
       "</style>\n",
       "<table border=\"1\" class=\"dataframe\">\n",
       "  <thead>\n",
       "    <tr style=\"text-align: right;\">\n",
       "      <th></th>\n",
       "      <th>Closed Price USD</th>\n",
       "      <th>Daily Return in USD</th>\n",
       "      <th>Daily Return in Percent</th>\n",
       "      <th>Daily Log Return in Percent</th>\n",
       "    </tr>\n",
       "    <tr>\n",
       "      <th>Date</th>\n",
       "      <th></th>\n",
       "      <th></th>\n",
       "      <th></th>\n",
       "      <th></th>\n",
       "    </tr>\n",
       "  </thead>\n",
       "  <tbody>\n",
       "    <tr>\n",
       "      <th>2020-12-22</th>\n",
       "      <td>23758.933628</td>\n",
       "      <td>883.477928</td>\n",
       "      <td>3.862122</td>\n",
       "      <td>3.789408</td>\n",
       "    </tr>\n",
       "    <tr>\n",
       "      <th>2020-12-23</th>\n",
       "      <td>23279.549293</td>\n",
       "      <td>-479.384335</td>\n",
       "      <td>-2.017701</td>\n",
       "      <td>-2.038335</td>\n",
       "    </tr>\n",
       "    <tr>\n",
       "      <th>2020-12-24</th>\n",
       "      <td>23764.753405</td>\n",
       "      <td>485.204112</td>\n",
       "      <td>2.084250</td>\n",
       "      <td>2.062827</td>\n",
       "    </tr>\n",
       "    <tr>\n",
       "      <th>2020-12-25</th>\n",
       "      <td>24688.211520</td>\n",
       "      <td>923.458115</td>\n",
       "      <td>3.885831</td>\n",
       "      <td>3.812233</td>\n",
       "    </tr>\n",
       "    <tr>\n",
       "      <th>2020-12-26</th>\n",
       "      <td>26440.248700</td>\n",
       "      <td>1752.037180</td>\n",
       "      <td>7.096655</td>\n",
       "      <td>6.856156</td>\n",
       "    </tr>\n",
       "  </tbody>\n",
       "</table>\n",
       "</div>"
      ],
      "text/plain": [
       "            Closed Price USD  Daily Return in USD  Daily Return in Percent  \\\n",
       "Date                                                                         \n",
       "2020-12-22      23758.933628           883.477928                 3.862122   \n",
       "2020-12-23      23279.549293          -479.384335                -2.017701   \n",
       "2020-12-24      23764.753405           485.204112                 2.084250   \n",
       "2020-12-25      24688.211520           923.458115                 3.885831   \n",
       "2020-12-26      26440.248700          1752.037180                 7.096655   \n",
       "\n",
       "            Daily Log Return in Percent  \n",
       "Date                                     \n",
       "2020-12-22                     3.789408  \n",
       "2020-12-23                    -2.038335  \n",
       "2020-12-24                     2.062827  \n",
       "2020-12-25                     3.812233  \n",
       "2020-12-26                     6.856156  "
      ]
     },
     "execution_count": 134,
     "metadata": {},
     "output_type": "execute_result"
    }
   ],
   "source": [
    "df_volatility.tail()"
   ]
  },
  {
   "cell_type": "code",
   "execution_count": null,
   "metadata": {},
   "outputs": [],
   "source": []
  },
  {
   "cell_type": "code",
   "execution_count": 135,
   "metadata": {
    "ExecuteTime": {
     "end_time": "2020-12-26T21:34:00.497500Z",
     "start_time": "2020-12-26T21:34:00.468698Z"
    }
   },
   "outputs": [],
   "source": [
    "# Calculation of Rolling Volatility of BTC Daily Log Returns for 10, 20 and 30 days period\n",
    "df_volatility['Volatility Daily Log Return in Percent 3D'] = pd.DataFrame(df_volatility['Daily Log Return in Percent'].rolling(window=3, min_periods=1).std())\n",
    "df_volatility['Volatility Daily Log Return in Percent 5D'] = pd.DataFrame(df_volatility['Daily Log Return in Percent'].rolling(window=5, min_periods=1).std())\n",
    "df_volatility['Volatility Daily Log Return in Percent 10D'] = pd.DataFrame(df_volatility['Daily Log Return in Percent'].rolling(window=10, min_periods=1).std())"
   ]
  },
  {
   "cell_type": "code",
   "execution_count": 136,
   "metadata": {
    "ExecuteTime": {
     "end_time": "2020-12-26T21:34:00.529439Z",
     "start_time": "2020-12-26T21:34:00.500494Z"
    }
   },
   "outputs": [
    {
     "data": {
      "text/html": [
       "<div>\n",
       "<style scoped>\n",
       "    .dataframe tbody tr th:only-of-type {\n",
       "        vertical-align: middle;\n",
       "    }\n",
       "\n",
       "    .dataframe tbody tr th {\n",
       "        vertical-align: top;\n",
       "    }\n",
       "\n",
       "    .dataframe thead th {\n",
       "        text-align: right;\n",
       "    }\n",
       "</style>\n",
       "<table border=\"1\" class=\"dataframe\">\n",
       "  <thead>\n",
       "    <tr style=\"text-align: right;\">\n",
       "      <th></th>\n",
       "      <th>Closed Price USD</th>\n",
       "      <th>Daily Return in USD</th>\n",
       "      <th>Daily Return in Percent</th>\n",
       "      <th>Daily Log Return in Percent</th>\n",
       "      <th>Volatility Daily Log Return in Percent 3D</th>\n",
       "      <th>Volatility Daily Log Return in Percent 5D</th>\n",
       "      <th>Volatility Daily Log Return in Percent 10D</th>\n",
       "    </tr>\n",
       "    <tr>\n",
       "      <th>Date</th>\n",
       "      <th></th>\n",
       "      <th></th>\n",
       "      <th></th>\n",
       "      <th></th>\n",
       "      <th></th>\n",
       "      <th></th>\n",
       "      <th></th>\n",
       "    </tr>\n",
       "  </thead>\n",
       "  <tbody>\n",
       "    <tr>\n",
       "      <th>2020-12-22</th>\n",
       "      <td>23758.933628</td>\n",
       "      <td>883.477928</td>\n",
       "      <td>3.862122</td>\n",
       "      <td>3.789408</td>\n",
       "      <td>3.490530</td>\n",
       "      <td>2.888440</td>\n",
       "      <td>3.627352</td>\n",
       "    </tr>\n",
       "    <tr>\n",
       "      <th>2020-12-23</th>\n",
       "      <td>23279.549293</td>\n",
       "      <td>-479.384335</td>\n",
       "      <td>-2.017701</td>\n",
       "      <td>-2.038335</td>\n",
       "      <td>3.640783</td>\n",
       "      <td>3.132969</td>\n",
       "      <td>3.885051</td>\n",
       "    </tr>\n",
       "    <tr>\n",
       "      <th>2020-12-24</th>\n",
       "      <td>23764.753405</td>\n",
       "      <td>485.204112</td>\n",
       "      <td>2.084250</td>\n",
       "      <td>2.062827</td>\n",
       "      <td>2.993415</td>\n",
       "      <td>2.863625</td>\n",
       "      <td>3.851810</td>\n",
       "    </tr>\n",
       "    <tr>\n",
       "      <th>2020-12-25</th>\n",
       "      <td>24688.211520</td>\n",
       "      <td>923.458115</td>\n",
       "      <td>3.885831</td>\n",
       "      <td>3.812233</td>\n",
       "      <td>3.003029</td>\n",
       "      <td>3.212691</td>\n",
       "      <td>3.861086</td>\n",
       "    </tr>\n",
       "    <tr>\n",
       "      <th>2020-12-26</th>\n",
       "      <td>26440.248700</td>\n",
       "      <td>1752.037180</td>\n",
       "      <td>7.096655</td>\n",
       "      <td>6.856156</td>\n",
       "      <td>2.425623</td>\n",
       "      <td>3.254318</td>\n",
       "      <td>3.397940</td>\n",
       "    </tr>\n",
       "  </tbody>\n",
       "</table>\n",
       "</div>"
      ],
      "text/plain": [
       "            Closed Price USD  Daily Return in USD  Daily Return in Percent  \\\n",
       "Date                                                                         \n",
       "2020-12-22      23758.933628           883.477928                 3.862122   \n",
       "2020-12-23      23279.549293          -479.384335                -2.017701   \n",
       "2020-12-24      23764.753405           485.204112                 2.084250   \n",
       "2020-12-25      24688.211520           923.458115                 3.885831   \n",
       "2020-12-26      26440.248700          1752.037180                 7.096655   \n",
       "\n",
       "            Daily Log Return in Percent  \\\n",
       "Date                                      \n",
       "2020-12-22                     3.789408   \n",
       "2020-12-23                    -2.038335   \n",
       "2020-12-24                     2.062827   \n",
       "2020-12-25                     3.812233   \n",
       "2020-12-26                     6.856156   \n",
       "\n",
       "            Volatility Daily Log Return in Percent 3D  \\\n",
       "Date                                                    \n",
       "2020-12-22                                   3.490530   \n",
       "2020-12-23                                   3.640783   \n",
       "2020-12-24                                   2.993415   \n",
       "2020-12-25                                   3.003029   \n",
       "2020-12-26                                   2.425623   \n",
       "\n",
       "            Volatility Daily Log Return in Percent 5D  \\\n",
       "Date                                                    \n",
       "2020-12-22                                   2.888440   \n",
       "2020-12-23                                   3.132969   \n",
       "2020-12-24                                   2.863625   \n",
       "2020-12-25                                   3.212691   \n",
       "2020-12-26                                   3.254318   \n",
       "\n",
       "            Volatility Daily Log Return in Percent 10D  \n",
       "Date                                                    \n",
       "2020-12-22                                    3.627352  \n",
       "2020-12-23                                    3.885051  \n",
       "2020-12-24                                    3.851810  \n",
       "2020-12-25                                    3.861086  \n",
       "2020-12-26                                    3.397940  "
      ]
     },
     "execution_count": 136,
     "metadata": {},
     "output_type": "execute_result"
    }
   ],
   "source": [
    "df_volatility.tail()"
   ]
  },
  {
   "cell_type": "code",
   "execution_count": 137,
   "metadata": {
    "ExecuteTime": {
     "end_time": "2020-12-26T21:34:00.545371Z",
     "start_time": "2020-12-26T21:34:00.530410Z"
    }
   },
   "outputs": [],
   "source": [
    "df_volatility_reduced = df_volatility['Volatility Daily Log Return in Percent 5D']"
   ]
  },
  {
   "cell_type": "markdown",
   "metadata": {},
   "source": [
    "### Log Price"
   ]
  },
  {
   "cell_type": "code",
   "execution_count": 138,
   "metadata": {
    "ExecuteTime": {
     "end_time": "2020-12-26T21:34:00.561326Z",
     "start_time": "2020-12-26T21:34:00.547364Z"
    }
   },
   "outputs": [],
   "source": [
    "# Selecting BTC Close Price in USD\n",
    "df_logprice = pd.DataFrame(np.log(df_market['market/price_usd_close']))"
   ]
  },
  {
   "cell_type": "code",
   "execution_count": 139,
   "metadata": {
    "ExecuteTime": {
     "end_time": "2020-12-26T21:34:00.577360Z",
     "start_time": "2020-12-26T21:34:00.563322Z"
    }
   },
   "outputs": [],
   "source": [
    "df_logprice.columns = ['Log Price in USD']"
   ]
  },
  {
   "cell_type": "code",
   "execution_count": 140,
   "metadata": {
    "ExecuteTime": {
     "end_time": "2020-12-26T21:34:00.593371Z",
     "start_time": "2020-12-26T21:34:00.578282Z"
    }
   },
   "outputs": [
    {
     "data": {
      "text/html": [
       "<div>\n",
       "<style scoped>\n",
       "    .dataframe tbody tr th:only-of-type {\n",
       "        vertical-align: middle;\n",
       "    }\n",
       "\n",
       "    .dataframe tbody tr th {\n",
       "        vertical-align: top;\n",
       "    }\n",
       "\n",
       "    .dataframe thead th {\n",
       "        text-align: right;\n",
       "    }\n",
       "</style>\n",
       "<table border=\"1\" class=\"dataframe\">\n",
       "  <thead>\n",
       "    <tr style=\"text-align: right;\">\n",
       "      <th></th>\n",
       "      <th>Log Price in USD</th>\n",
       "    </tr>\n",
       "    <tr>\n",
       "      <th>Date</th>\n",
       "      <th></th>\n",
       "    </tr>\n",
       "  </thead>\n",
       "  <tbody>\n",
       "    <tr>\n",
       "      <th>2020-12-22</th>\n",
       "      <td>10.075714</td>\n",
       "    </tr>\n",
       "    <tr>\n",
       "      <th>2020-12-23</th>\n",
       "      <td>10.055331</td>\n",
       "    </tr>\n",
       "    <tr>\n",
       "      <th>2020-12-24</th>\n",
       "      <td>10.075959</td>\n",
       "    </tr>\n",
       "    <tr>\n",
       "      <th>2020-12-25</th>\n",
       "      <td>10.114081</td>\n",
       "    </tr>\n",
       "    <tr>\n",
       "      <th>2020-12-26</th>\n",
       "      <td>10.182643</td>\n",
       "    </tr>\n",
       "  </tbody>\n",
       "</table>\n",
       "</div>"
      ],
      "text/plain": [
       "            Log Price in USD\n",
       "Date                        \n",
       "2020-12-22         10.075714\n",
       "2020-12-23         10.055331\n",
       "2020-12-24         10.075959\n",
       "2020-12-25         10.114081\n",
       "2020-12-26         10.182643"
      ]
     },
     "execution_count": 140,
     "metadata": {},
     "output_type": "execute_result"
    }
   ],
   "source": [
    "df_logprice.tail()"
   ]
  },
  {
   "cell_type": "markdown",
   "metadata": {},
   "source": [
    "# Data Sets"
   ]
  },
  {
   "cell_type": "markdown",
   "metadata": {},
   "source": [
    "## Data Set I. - Blockchain Metrics Only"
   ]
  },
  {
   "cell_type": "code",
   "execution_count": 141,
   "metadata": {
    "ExecuteTime": {
     "end_time": "2020-12-26T21:34:00.640116Z",
     "start_time": "2020-12-26T21:34:00.595236Z"
    }
   },
   "outputs": [],
   "source": [
    "# Merging all Blockchain DataFrame Metrics\n",
    "df_blockchain = pd.concat([df_return, df_logprice, df_volatility_reduced, df_market, df_mining, df_blockfeatures, df_fees, df_utxo, df_supply, \n",
    "                           df_transaction, df_indicator1, df_indicator2, df_indicator3, df_addresses, df_exchange, df_distribution], axis=1, join='inner')"
   ]
  },
  {
   "cell_type": "code",
   "execution_count": 142,
   "metadata": {
    "ExecuteTime": {
     "end_time": "2020-12-26T21:34:00.671044Z",
     "start_time": "2020-12-26T21:34:00.641114Z"
    }
   },
   "outputs": [],
   "source": [
    "df_blockchain = df_blockchain.dropna()"
   ]
  },
  {
   "cell_type": "code",
   "execution_count": 143,
   "metadata": {
    "ExecuteTime": {
     "end_time": "2020-12-26T21:34:00.686992Z",
     "start_time": "2020-12-26T21:34:00.672031Z"
    }
   },
   "outputs": [],
   "source": [
    "df_blockchain = df_blockchain.drop(['Closed Price USD'], axis=1)"
   ]
  },
  {
   "cell_type": "code",
   "execution_count": 144,
   "metadata": {
    "ExecuteTime": {
     "end_time": "2020-12-26T21:34:00.702950Z",
     "start_time": "2020-12-26T21:34:00.687989Z"
    }
   },
   "outputs": [],
   "source": [
    "df_blockchain.index = df_blockchain.index.astype('datetime64[ns]')"
   ]
  },
  {
   "cell_type": "code",
   "execution_count": 145,
   "metadata": {
    "ExecuteTime": {
     "end_time": "2020-12-26T21:34:00.733866Z",
     "start_time": "2020-12-26T21:34:00.703953Z"
    },
    "scrolled": true
   },
   "outputs": [
    {
     "name": "stdout",
     "output_type": "stream",
     "text": [
      "<class 'pandas.core.frame.DataFrame'>\n",
      "DatetimeIndex: 3420 entries, 2011-08-17 to 2020-12-26\n",
      "Data columns (total 97 columns):\n",
      " #   Column                                            Non-Null Count  Dtype  \n",
      "---  ------                                            --------------  -----  \n",
      " 0   Daily Return in USD                               3420 non-null   float64\n",
      " 1   Log Price in USD                                  3420 non-null   float64\n",
      " 2   Volatility Daily Log Return in Percent 5D         3420 non-null   float64\n",
      " 3   market/price_usd_close                            3420 non-null   float64\n",
      " 4   market/price_drawdown_relative                    3420 non-null   float64\n",
      " 5   market/price_realized_usd                         3420 non-null   float64\n",
      " 6   market/mvrv                                       3420 non-null   float64\n",
      " 7   mining/difficulty_latest                          3420 non-null   float64\n",
      " 8   mining/hash_rate_mean                             3420 non-null   float64\n",
      " 9   blockchain/block_count                            3420 non-null   float64\n",
      " 10  blockchain/block_interval_mean                    3420 non-null   float64\n",
      " 11  blockchain/block_size_sum                         3420 non-null   float64\n",
      " 12  fees/volume_sum                                   3420 non-null   float64\n",
      " 13  fees/volume_mean                                  3420 non-null   float64\n",
      " 14  fees/fee_ratio_multiple                           3420 non-null   float64\n",
      " 15  blockchain/utxo_created_count                     3420 non-null   float64\n",
      " 16  blockchain/utxo_spent_count                       3420 non-null   float64\n",
      " 17  blockchain/utxo_created_value_sum                 3420 non-null   float64\n",
      " 18  blockchain/utxo_spent_value_sum                   3420 non-null   float64\n",
      " 19  blockchain/utxo_profit_relative                   3420 non-null   float64\n",
      " 20  blockchain/utxo_profit_count                      3420 non-null   float64\n",
      " 21  blockchain/utxo_loss_count                        3420 non-null   float64\n",
      " 22  supply/current                                    3420 non-null   float64\n",
      " 23  supply/profit_relative                            3420 non-null   float64\n",
      " 24  supply/profit_sum                                 3420 non-null   float64\n",
      " 25  supply/loss_sum                                   3420 non-null   float64\n",
      " 26  supply/active_more_1y_percent                     3420 non-null   float64\n",
      " 27  supply/active_more_2y_percent                     3420 non-null   float64\n",
      " 28  supply/active_more_3y_percent                     3420 non-null   float64\n",
      " 29  supply/active_more_5y_percent                     3420 non-null   float64\n",
      " 30  supply/active_24h                                 3420 non-null   float64\n",
      " 31  supply/active_1d_1w                               3420 non-null   float64\n",
      " 32  supply/active_1w_1m                               3420 non-null   float64\n",
      " 33  supply/active_1m_3m                               3420 non-null   float64\n",
      " 34  supply/active_3m_6m                               3420 non-null   float64\n",
      " 35  supply/active_6m_12m                              3420 non-null   float64\n",
      " 36  supply/active_1y_2y                               3420 non-null   float64\n",
      " 37  supply/active_2y_3y                               3420 non-null   float64\n",
      " 38  supply/active_3y_5y                               3420 non-null   float64\n",
      " 39  supply/active_5y_7y                               3420 non-null   float64\n",
      " 40  supply/active_7y_10y                              3420 non-null   float64\n",
      " 41  supply/active_more_10y                            3420 non-null   float64\n",
      " 42  supply/issued                                     3420 non-null   float64\n",
      " 43  supply/inflation_rate                             3420 non-null   float64\n",
      " 44  transactions/count                                3420 non-null   float64\n",
      " 45  transactions/size_sum                             3420 non-null   float64\n",
      " 46  transactions/transfers_volume_sum                 3420 non-null   float64\n",
      " 47  transactions/transfers_volume_adjusted_sum        3420 non-null   float64\n",
      " 48  indicators/sopr_adjusted                          3420 non-null   float64\n",
      " 49  indicators/nvt                                    3420 non-null   float64\n",
      " 50  indicators/velocity                               3420 non-null   float64\n",
      " 51  indicators/cdd                                    3420 non-null   float64\n",
      " 52  indicators/reserve_risk                           3420 non-null   float64\n",
      " 53  indicators/average_dormancy                       3420 non-null   float64\n",
      " 54  indicators/liveliness                             3420 non-null   float64\n",
      " 55  indicators/asol                                   3420 non-null   float64\n",
      " 56  indicators/sol_1h                                 3420 non-null   float64\n",
      " 57  indicators/sol_1h_24h                             3420 non-null   float64\n",
      " 58  indicators/sol_1d_1w                              3420 non-null   float64\n",
      " 59  indicators/sol_1w_1m                              3420 non-null   float64\n",
      " 60  indicators/sol_1m_3m                              3420 non-null   float64\n",
      " 61  indicators/sol_3m_6m                              3420 non-null   float64\n",
      " 62  indicators/sol_6m_12m                             3420 non-null   float64\n",
      " 63  indicators/sol_1y_2y                              3420 non-null   float64\n",
      " 64  indicators/sol_2y_3y                              3420 non-null   float64\n",
      " 65  indicators/sol_3y_5y                              3420 non-null   float64\n",
      " 66  indicators/sol_5y_7y                              3420 non-null   float64\n",
      " 67  indicators/sol_7y_10y                             3420 non-null   float64\n",
      " 68  indicators/net_unrealized_profit_loss             3420 non-null   float64\n",
      " 69  indicators/unrealized_profit                      3420 non-null   float64\n",
      " 70  indicators/unrealized_loss                        3420 non-null   float64\n",
      " 71  indicators/net_realized_profit_loss               3420 non-null   float64\n",
      " 72  indicators/realized_profit                        3420 non-null   float64\n",
      " 73  indicators/realized_loss                          3420 non-null   float64\n",
      " 74  indicators/nupl_more_155                          3420 non-null   float64\n",
      " 75  indicators/nupl_less_155                          3420 non-null   float64\n",
      " 76  indicators/puell_multiple                         3420 non-null   float64\n",
      " 77  indicators/stock_to_flow_deflection               3420 non-null   float64\n",
      " 78  indicators/difficulty_ribbon_compression          3420 non-null   float64\n",
      " 79  addresses/active_count                            3420 non-null   float64\n",
      " 80  addresses/sending_count                           3420 non-null   float64\n",
      " 81  addresses/receiving_count                         3420 non-null   float64\n",
      " 82  addresses/new_non_zero_count                      3420 non-null   float64\n",
      " 83  addresses/non_zero_count                          3420 non-null   float64\n",
      " 84  addresses/min_point_zero_1_count                  3420 non-null   float64\n",
      " 85  addresses/min_point_1_count                       3420 non-null   float64\n",
      " 86  addresses/min_1_count                             3420 non-null   float64\n",
      " 87  addresses/min_10_count                            3420 non-null   float64\n",
      " 88  addresses/min_100_count                           3420 non-null   float64\n",
      " 89  addresses/min_1k_count                            3420 non-null   float64\n",
      " 90  addresses/min_10k_count                           3420 non-null   float64\n",
      " 91  transactions/transfers_volume_to_exchanges_sum    3420 non-null   float64\n",
      " 92  transactions/transfers_volume_from_exchanges_sum  3420 non-null   float64\n",
      " 93  transactions/transfers_to_exchanges_count         3420 non-null   float64\n",
      " 94  transactions/transfers_from_exchanges_count       3420 non-null   float64\n",
      " 95  transactions/transfers_volume_exchanges_net       3420 non-null   float64\n",
      " 96  distribution/balance_exchanges                    3420 non-null   float64\n",
      "dtypes: float64(97)\n",
      "memory usage: 2.6 MB\n"
     ]
    }
   ],
   "source": [
    "df_blockchain.info()"
   ]
  },
  {
   "cell_type": "code",
   "execution_count": 146,
   "metadata": {
    "ExecuteTime": {
     "end_time": "2020-12-26T21:34:00.765807Z",
     "start_time": "2020-12-26T21:34:00.734863Z"
    }
   },
   "outputs": [
    {
     "data": {
      "text/html": [
       "<div>\n",
       "<style scoped>\n",
       "    .dataframe tbody tr th:only-of-type {\n",
       "        vertical-align: middle;\n",
       "    }\n",
       "\n",
       "    .dataframe tbody tr th {\n",
       "        vertical-align: top;\n",
       "    }\n",
       "\n",
       "    .dataframe thead th {\n",
       "        text-align: right;\n",
       "    }\n",
       "</style>\n",
       "<table border=\"1\" class=\"dataframe\">\n",
       "  <thead>\n",
       "    <tr style=\"text-align: right;\">\n",
       "      <th></th>\n",
       "      <th>Daily Return in USD</th>\n",
       "      <th>Log Price in USD</th>\n",
       "      <th>Volatility Daily Log Return in Percent 5D</th>\n",
       "      <th>market/price_usd_close</th>\n",
       "      <th>market/price_drawdown_relative</th>\n",
       "      <th>market/price_realized_usd</th>\n",
       "      <th>market/mvrv</th>\n",
       "      <th>mining/difficulty_latest</th>\n",
       "      <th>mining/hash_rate_mean</th>\n",
       "      <th>blockchain/block_count</th>\n",
       "      <th>...</th>\n",
       "      <th>addresses/min_10_count</th>\n",
       "      <th>addresses/min_100_count</th>\n",
       "      <th>addresses/min_1k_count</th>\n",
       "      <th>addresses/min_10k_count</th>\n",
       "      <th>transactions/transfers_volume_to_exchanges_sum</th>\n",
       "      <th>transactions/transfers_volume_from_exchanges_sum</th>\n",
       "      <th>transactions/transfers_to_exchanges_count</th>\n",
       "      <th>transactions/transfers_from_exchanges_count</th>\n",
       "      <th>transactions/transfers_volume_exchanges_net</th>\n",
       "      <th>distribution/balance_exchanges</th>\n",
       "    </tr>\n",
       "    <tr>\n",
       "      <th>Date</th>\n",
       "      <th></th>\n",
       "      <th></th>\n",
       "      <th></th>\n",
       "      <th></th>\n",
       "      <th></th>\n",
       "      <th></th>\n",
       "      <th></th>\n",
       "      <th></th>\n",
       "      <th></th>\n",
       "      <th></th>\n",
       "      <th></th>\n",
       "      <th></th>\n",
       "      <th></th>\n",
       "      <th></th>\n",
       "      <th></th>\n",
       "      <th></th>\n",
       "      <th></th>\n",
       "      <th></th>\n",
       "      <th></th>\n",
       "      <th></th>\n",
       "      <th></th>\n",
       "    </tr>\n",
       "  </thead>\n",
       "  <tbody>\n",
       "    <tr>\n",
       "      <th>2020-12-22</th>\n",
       "      <td>883.477928</td>\n",
       "      <td>10.075714</td>\n",
       "      <td>2.888440</td>\n",
       "      <td>23758.933628</td>\n",
       "      <td>-0.016668</td>\n",
       "      <td>8286.352932</td>\n",
       "      <td>2.786825</td>\n",
       "      <td>80187763369133704478720.000000</td>\n",
       "      <td>132165952003620995072.000000</td>\n",
       "      <td>143.000000</td>\n",
       "      <td>...</td>\n",
       "      <td>153788.000000</td>\n",
       "      <td>16136.000000</td>\n",
       "      <td>2252.000000</td>\n",
       "      <td>105.000000</td>\n",
       "      <td>59177.650653</td>\n",
       "      <td>78803.879638</td>\n",
       "      <td>61549.000000</td>\n",
       "      <td>48885.000000</td>\n",
       "      <td>-19626.228985</td>\n",
       "      <td>2395347.741117</td>\n",
       "    </tr>\n",
       "    <tr>\n",
       "      <th>2020-12-23</th>\n",
       "      <td>-479.384335</td>\n",
       "      <td>10.055331</td>\n",
       "      <td>3.132969</td>\n",
       "      <td>23279.549293</td>\n",
       "      <td>-0.036508</td>\n",
       "      <td>8375.793326</td>\n",
       "      <td>2.811232</td>\n",
       "      <td>80187763369133704478720.000000</td>\n",
       "      <td>146111617294112997376.000000</td>\n",
       "      <td>154.000000</td>\n",
       "      <td>...</td>\n",
       "      <td>153724.000000</td>\n",
       "      <td>16119.000000</td>\n",
       "      <td>2247.000000</td>\n",
       "      <td>103.000000</td>\n",
       "      <td>83633.049593</td>\n",
       "      <td>97093.692567</td>\n",
       "      <td>68670.000000</td>\n",
       "      <td>47368.000000</td>\n",
       "      <td>-13460.642974</td>\n",
       "      <td>2381871.454584</td>\n",
       "    </tr>\n",
       "    <tr>\n",
       "      <th>2020-12-24</th>\n",
       "      <td>485.204112</td>\n",
       "      <td>10.075959</td>\n",
       "      <td>2.863625</td>\n",
       "      <td>23764.753405</td>\n",
       "      <td>-0.016427</td>\n",
       "      <td>8448.066552</td>\n",
       "      <td>2.750256</td>\n",
       "      <td>80187763369133704478720.000000</td>\n",
       "      <td>114954071251531005952.000000</td>\n",
       "      <td>126.000000</td>\n",
       "      <td>...</td>\n",
       "      <td>153650.000000</td>\n",
       "      <td>16089.000000</td>\n",
       "      <td>2232.000000</td>\n",
       "      <td>103.000000</td>\n",
       "      <td>56540.105385</td>\n",
       "      <td>52695.442867</td>\n",
       "      <td>54525.000000</td>\n",
       "      <td>44395.000000</td>\n",
       "      <td>3844.662518</td>\n",
       "      <td>2385704.408413</td>\n",
       "    </tr>\n",
       "    <tr>\n",
       "      <th>2020-12-25</th>\n",
       "      <td>923.458115</td>\n",
       "      <td>10.114081</td>\n",
       "      <td>3.212691</td>\n",
       "      <td>24688.211520</td>\n",
       "      <td>-0.001589</td>\n",
       "      <td>8467.173679</td>\n",
       "      <td>2.837378</td>\n",
       "      <td>80187763369133704478720.000000</td>\n",
       "      <td>133658648082637996032.000000</td>\n",
       "      <td>144.000000</td>\n",
       "      <td>...</td>\n",
       "      <td>153594.000000</td>\n",
       "      <td>16068.000000</td>\n",
       "      <td>2228.000000</td>\n",
       "      <td>103.000000</td>\n",
       "      <td>38213.539220</td>\n",
       "      <td>29821.667641</td>\n",
       "      <td>56010.000000</td>\n",
       "      <td>32189.000000</td>\n",
       "      <td>8391.871579</td>\n",
       "      <td>2394084.291522</td>\n",
       "    </tr>\n",
       "    <tr>\n",
       "      <th>2020-12-26</th>\n",
       "      <td>1752.037180</td>\n",
       "      <td>10.182643</td>\n",
       "      <td>3.254318</td>\n",
       "      <td>26440.248700</td>\n",
       "      <td>-0.009069</td>\n",
       "      <td>8511.239439</td>\n",
       "      <td>2.967878</td>\n",
       "      <td>80187763369133704478720.000000</td>\n",
       "      <td>127352989515328995328.000000</td>\n",
       "      <td>137.000000</td>\n",
       "      <td>...</td>\n",
       "      <td>153580.000000</td>\n",
       "      <td>16104.000000</td>\n",
       "      <td>2221.000000</td>\n",
       "      <td>102.000000</td>\n",
       "      <td>32126.257538</td>\n",
       "      <td>34927.838649</td>\n",
       "      <td>55271.000000</td>\n",
       "      <td>40047.000000</td>\n",
       "      <td>-2801.581111</td>\n",
       "      <td>2391271.683974</td>\n",
       "    </tr>\n",
       "  </tbody>\n",
       "</table>\n",
       "<p>5 rows × 97 columns</p>\n",
       "</div>"
      ],
      "text/plain": [
       "            Daily Return in USD  Log Price in USD  \\\n",
       "Date                                                \n",
       "2020-12-22           883.477928         10.075714   \n",
       "2020-12-23          -479.384335         10.055331   \n",
       "2020-12-24           485.204112         10.075959   \n",
       "2020-12-25           923.458115         10.114081   \n",
       "2020-12-26          1752.037180         10.182643   \n",
       "\n",
       "            Volatility Daily Log Return in Percent 5D  market/price_usd_close  \\\n",
       "Date                                                                            \n",
       "2020-12-22                                   2.888440            23758.933628   \n",
       "2020-12-23                                   3.132969            23279.549293   \n",
       "2020-12-24                                   2.863625            23764.753405   \n",
       "2020-12-25                                   3.212691            24688.211520   \n",
       "2020-12-26                                   3.254318            26440.248700   \n",
       "\n",
       "            market/price_drawdown_relative  market/price_realized_usd  \\\n",
       "Date                                                                    \n",
       "2020-12-22                       -0.016668                8286.352932   \n",
       "2020-12-23                       -0.036508                8375.793326   \n",
       "2020-12-24                       -0.016427                8448.066552   \n",
       "2020-12-25                       -0.001589                8467.173679   \n",
       "2020-12-26                       -0.009069                8511.239439   \n",
       "\n",
       "            market/mvrv       mining/difficulty_latest  \\\n",
       "Date                                                     \n",
       "2020-12-22     2.786825 80187763369133704478720.000000   \n",
       "2020-12-23     2.811232 80187763369133704478720.000000   \n",
       "2020-12-24     2.750256 80187763369133704478720.000000   \n",
       "2020-12-25     2.837378 80187763369133704478720.000000   \n",
       "2020-12-26     2.967878 80187763369133704478720.000000   \n",
       "\n",
       "                  mining/hash_rate_mean  blockchain/block_count  ...  \\\n",
       "Date                                                             ...   \n",
       "2020-12-22 132165952003620995072.000000              143.000000  ...   \n",
       "2020-12-23 146111617294112997376.000000              154.000000  ...   \n",
       "2020-12-24 114954071251531005952.000000              126.000000  ...   \n",
       "2020-12-25 133658648082637996032.000000              144.000000  ...   \n",
       "2020-12-26 127352989515328995328.000000              137.000000  ...   \n",
       "\n",
       "            addresses/min_10_count  addresses/min_100_count  \\\n",
       "Date                                                          \n",
       "2020-12-22           153788.000000             16136.000000   \n",
       "2020-12-23           153724.000000             16119.000000   \n",
       "2020-12-24           153650.000000             16089.000000   \n",
       "2020-12-25           153594.000000             16068.000000   \n",
       "2020-12-26           153580.000000             16104.000000   \n",
       "\n",
       "            addresses/min_1k_count  addresses/min_10k_count  \\\n",
       "Date                                                          \n",
       "2020-12-22             2252.000000               105.000000   \n",
       "2020-12-23             2247.000000               103.000000   \n",
       "2020-12-24             2232.000000               103.000000   \n",
       "2020-12-25             2228.000000               103.000000   \n",
       "2020-12-26             2221.000000               102.000000   \n",
       "\n",
       "            transactions/transfers_volume_to_exchanges_sum  \\\n",
       "Date                                                         \n",
       "2020-12-22                                    59177.650653   \n",
       "2020-12-23                                    83633.049593   \n",
       "2020-12-24                                    56540.105385   \n",
       "2020-12-25                                    38213.539220   \n",
       "2020-12-26                                    32126.257538   \n",
       "\n",
       "            transactions/transfers_volume_from_exchanges_sum  \\\n",
       "Date                                                           \n",
       "2020-12-22                                      78803.879638   \n",
       "2020-12-23                                      97093.692567   \n",
       "2020-12-24                                      52695.442867   \n",
       "2020-12-25                                      29821.667641   \n",
       "2020-12-26                                      34927.838649   \n",
       "\n",
       "            transactions/transfers_to_exchanges_count  \\\n",
       "Date                                                    \n",
       "2020-12-22                               61549.000000   \n",
       "2020-12-23                               68670.000000   \n",
       "2020-12-24                               54525.000000   \n",
       "2020-12-25                               56010.000000   \n",
       "2020-12-26                               55271.000000   \n",
       "\n",
       "            transactions/transfers_from_exchanges_count  \\\n",
       "Date                                                      \n",
       "2020-12-22                                 48885.000000   \n",
       "2020-12-23                                 47368.000000   \n",
       "2020-12-24                                 44395.000000   \n",
       "2020-12-25                                 32189.000000   \n",
       "2020-12-26                                 40047.000000   \n",
       "\n",
       "            transactions/transfers_volume_exchanges_net  \\\n",
       "Date                                                      \n",
       "2020-12-22                                -19626.228985   \n",
       "2020-12-23                                -13460.642974   \n",
       "2020-12-24                                  3844.662518   \n",
       "2020-12-25                                  8391.871579   \n",
       "2020-12-26                                 -2801.581111   \n",
       "\n",
       "            distribution/balance_exchanges  \n",
       "Date                                        \n",
       "2020-12-22                  2395347.741117  \n",
       "2020-12-23                  2381871.454584  \n",
       "2020-12-24                  2385704.408413  \n",
       "2020-12-25                  2394084.291522  \n",
       "2020-12-26                  2391271.683974  \n",
       "\n",
       "[5 rows x 97 columns]"
      ]
     },
     "execution_count": 146,
     "metadata": {},
     "output_type": "execute_result"
    }
   ],
   "source": [
    "df_blockchain.tail()"
   ]
  },
  {
   "cell_type": "code",
   "execution_count": 147,
   "metadata": {
    "ExecuteTime": {
     "end_time": "2020-12-26T21:34:01.003148Z",
     "start_time": "2020-12-26T21:34:00.766778Z"
    }
   },
   "outputs": [
    {
     "data": {
      "text/html": [
       "<div>\n",
       "<style scoped>\n",
       "    .dataframe tbody tr th:only-of-type {\n",
       "        vertical-align: middle;\n",
       "    }\n",
       "\n",
       "    .dataframe tbody tr th {\n",
       "        vertical-align: top;\n",
       "    }\n",
       "\n",
       "    .dataframe thead th {\n",
       "        text-align: right;\n",
       "    }\n",
       "</style>\n",
       "<table border=\"1\" class=\"dataframe\">\n",
       "  <thead>\n",
       "    <tr style=\"text-align: right;\">\n",
       "      <th></th>\n",
       "      <th>Daily Return in USD</th>\n",
       "      <th>Log Price in USD</th>\n",
       "      <th>Volatility Daily Log Return in Percent 5D</th>\n",
       "      <th>market/price_usd_close</th>\n",
       "      <th>market/price_drawdown_relative</th>\n",
       "      <th>market/price_realized_usd</th>\n",
       "      <th>market/mvrv</th>\n",
       "      <th>mining/difficulty_latest</th>\n",
       "      <th>mining/hash_rate_mean</th>\n",
       "      <th>blockchain/block_count</th>\n",
       "      <th>...</th>\n",
       "      <th>addresses/min_10_count</th>\n",
       "      <th>addresses/min_100_count</th>\n",
       "      <th>addresses/min_1k_count</th>\n",
       "      <th>addresses/min_10k_count</th>\n",
       "      <th>transactions/transfers_volume_to_exchanges_sum</th>\n",
       "      <th>transactions/transfers_volume_from_exchanges_sum</th>\n",
       "      <th>transactions/transfers_to_exchanges_count</th>\n",
       "      <th>transactions/transfers_from_exchanges_count</th>\n",
       "      <th>transactions/transfers_volume_exchanges_net</th>\n",
       "      <th>distribution/balance_exchanges</th>\n",
       "    </tr>\n",
       "  </thead>\n",
       "  <tbody>\n",
       "    <tr>\n",
       "      <th>count</th>\n",
       "      <td>3420.000000</td>\n",
       "      <td>3420.000000</td>\n",
       "      <td>3420.000000</td>\n",
       "      <td>3420.000000</td>\n",
       "      <td>3420.000000</td>\n",
       "      <td>3420.000000</td>\n",
       "      <td>3420.000000</td>\n",
       "      <td>3420.000000</td>\n",
       "      <td>3420.000000</td>\n",
       "      <td>3420.000000</td>\n",
       "      <td>...</td>\n",
       "      <td>3420.000000</td>\n",
       "      <td>3420.000000</td>\n",
       "      <td>3420.000000</td>\n",
       "      <td>3420.000000</td>\n",
       "      <td>3420.000000</td>\n",
       "      <td>3420.000000</td>\n",
       "      <td>3420.000000</td>\n",
       "      <td>3420.000000</td>\n",
       "      <td>3420.000000</td>\n",
       "      <td>3420.000000</td>\n",
       "    </tr>\n",
       "    <tr>\n",
       "      <th>mean</th>\n",
       "      <td>7.727862</td>\n",
       "      <td>6.420092</td>\n",
       "      <td>3.494696</td>\n",
       "      <td>3337.997492</td>\n",
       "      <td>-0.544966</td>\n",
       "      <td>1982.505110</td>\n",
       "      <td>1.694469</td>\n",
       "      <td>14430451074214360252416.000000</td>\n",
       "      <td>24427119534036541440.000000</td>\n",
       "      <td>152.586550</td>\n",
       "      <td>...</td>\n",
       "      <td>126193.088304</td>\n",
       "      <td>14786.967251</td>\n",
       "      <td>1632.996199</td>\n",
       "      <td>102.571930</td>\n",
       "      <td>36212.087997</td>\n",
       "      <td>35503.739146</td>\n",
       "      <td>25400.663450</td>\n",
       "      <td>18709.827778</td>\n",
       "      <td>708.348850</td>\n",
       "      <td>1221320.008612</td>\n",
       "    </tr>\n",
       "    <tr>\n",
       "      <th>std</th>\n",
       "      <td>241.990712</td>\n",
       "      <td>2.467435</td>\n",
       "      <td>3.238803</td>\n",
       "      <td>4443.377553</td>\n",
       "      <td>0.234811</td>\n",
       "      <td>2439.289086</td>\n",
       "      <td>0.748298</td>\n",
       "      <td>23760808647533550108672.000000</td>\n",
       "      <td>40100100507797045248.000000</td>\n",
       "      <td>18.993336</td>\n",
       "      <td>...</td>\n",
       "      <td>28429.287652</td>\n",
       "      <td>3483.904241</td>\n",
       "      <td>378.292967</td>\n",
       "      <td>14.366666</td>\n",
       "      <td>30796.184625</td>\n",
       "      <td>29574.103795</td>\n",
       "      <td>26921.755802</td>\n",
       "      <td>17360.835994</td>\n",
       "      <td>7465.246821</td>\n",
       "      <td>1057077.416259</td>\n",
       "    </tr>\n",
       "    <tr>\n",
       "      <th>min</th>\n",
       "      <td>-3052.461475</td>\n",
       "      <td>0.718341</td>\n",
       "      <td>0.157723</td>\n",
       "      <td>2.051027</td>\n",
       "      <td>-0.935694</td>\n",
       "      <td>4.780226</td>\n",
       "      <td>0.402165</td>\n",
       "      <td>4684588175054590.000000</td>\n",
       "      <td>6399665203131.940430</td>\n",
       "      <td>80.000000</td>\n",
       "      <td>...</td>\n",
       "      <td>65620.000000</td>\n",
       "      <td>4147.000000</td>\n",
       "      <td>622.000000</td>\n",
       "      <td>63.000000</td>\n",
       "      <td>0.000000</td>\n",
       "      <td>0.000000</td>\n",
       "      <td>0.000000</td>\n",
       "      <td>0.000000</td>\n",
       "      <td>-69789.449136</td>\n",
       "      <td>0.007500</td>\n",
       "    </tr>\n",
       "    <tr>\n",
       "      <th>25%</th>\n",
       "      <td>-7.122561</td>\n",
       "      <td>5.427817</td>\n",
       "      <td>1.527568</td>\n",
       "      <td>227.651687</td>\n",
       "      <td>-0.714921</td>\n",
       "      <td>255.375770</td>\n",
       "      <td>1.185165</td>\n",
       "      <td>3901337247460400128.000000</td>\n",
       "      <td>8699088869182117.000000</td>\n",
       "      <td>140.000000</td>\n",
       "      <td>...</td>\n",
       "      <td>100622.000000</td>\n",
       "      <td>12999.500000</td>\n",
       "      <td>1500.250000</td>\n",
       "      <td>97.000000</td>\n",
       "      <td>10697.312430</td>\n",
       "      <td>10171.487636</td>\n",
       "      <td>2323.750000</td>\n",
       "      <td>1494.500000</td>\n",
       "      <td>-1706.526819</td>\n",
       "      <td>314808.646741</td>\n",
       "    </tr>\n",
       "    <tr>\n",
       "      <th>50%</th>\n",
       "      <td>0.111373</td>\n",
       "      <td>6.438299</td>\n",
       "      <td>2.657471</td>\n",
       "      <td>625.342360</td>\n",
       "      <td>-0.593978</td>\n",
       "      <td>353.200352</td>\n",
       "      <td>1.602503</td>\n",
       "      <td>767335669260637962240.000000</td>\n",
       "      <td>1294483601522800128.000000</td>\n",
       "      <td>151.000000</td>\n",
       "      <td>...</td>\n",
       "      <td>138605.500000</td>\n",
       "      <td>16186.000000</td>\n",
       "      <td>1691.000000</td>\n",
       "      <td>105.000000</td>\n",
       "      <td>33029.864625</td>\n",
       "      <td>32627.454006</td>\n",
       "      <td>23769.000000</td>\n",
       "      <td>18459.000000</td>\n",
       "      <td>220.839457</td>\n",
       "      <td>942231.802291</td>\n",
       "    </tr>\n",
       "    <tr>\n",
       "      <th>75%</th>\n",
       "      <td>13.836816</td>\n",
       "      <td>8.795159</td>\n",
       "      <td>4.396007</td>\n",
       "      <td>6602.202856</td>\n",
       "      <td>-0.442636</td>\n",
       "      <td>4962.628630</td>\n",
       "      <td>1.990479</td>\n",
       "      <td>24161544035787174051840.000000</td>\n",
       "      <td>39830756801272373248.000000</td>\n",
       "      <td>163.000000</td>\n",
       "      <td>...</td>\n",
       "      <td>149845.750000</td>\n",
       "      <td>17155.250000</td>\n",
       "      <td>1849.000000</td>\n",
       "      <td>113.000000</td>\n",
       "      <td>51743.955142</td>\n",
       "      <td>52048.622152</td>\n",
       "      <td>41027.500000</td>\n",
       "      <td>31284.500000</td>\n",
       "      <td>2735.186427</td>\n",
       "      <td>2391974.835861</td>\n",
       "    </tr>\n",
       "    <tr>\n",
       "      <th>max</th>\n",
       "      <td>3224.132131</td>\n",
       "      <td>10.182643</td>\n",
       "      <td>41.749946</td>\n",
       "      <td>26440.248700</td>\n",
       "      <td>0.000000</td>\n",
       "      <td>8511.239439</td>\n",
       "      <td>5.733982</td>\n",
       "      <td>85887904103269694177280.000000</td>\n",
       "      <td>160765244797356015616.000000</td>\n",
       "      <td>260.000000</td>\n",
       "      <td>...</td>\n",
       "      <td>157275.000000</td>\n",
       "      <td>18543.000000</td>\n",
       "      <td>2306.000000</td>\n",
       "      <td>126.000000</td>\n",
       "      <td>275787.223656</td>\n",
       "      <td>272701.298977</td>\n",
       "      <td>269206.000000</td>\n",
       "      <td>105019.000000</td>\n",
       "      <td>96773.471113</td>\n",
       "      <td>2974820.281334</td>\n",
       "    </tr>\n",
       "  </tbody>\n",
       "</table>\n",
       "<p>8 rows × 97 columns</p>\n",
       "</div>"
      ],
      "text/plain": [
       "       Daily Return in USD  Log Price in USD  \\\n",
       "count          3420.000000       3420.000000   \n",
       "mean              7.727862          6.420092   \n",
       "std             241.990712          2.467435   \n",
       "min           -3052.461475          0.718341   \n",
       "25%              -7.122561          5.427817   \n",
       "50%               0.111373          6.438299   \n",
       "75%              13.836816          8.795159   \n",
       "max            3224.132131         10.182643   \n",
       "\n",
       "       Volatility Daily Log Return in Percent 5D  market/price_usd_close  \\\n",
       "count                                3420.000000             3420.000000   \n",
       "mean                                    3.494696             3337.997492   \n",
       "std                                     3.238803             4443.377553   \n",
       "min                                     0.157723                2.051027   \n",
       "25%                                     1.527568              227.651687   \n",
       "50%                                     2.657471              625.342360   \n",
       "75%                                     4.396007             6602.202856   \n",
       "max                                    41.749946            26440.248700   \n",
       "\n",
       "       market/price_drawdown_relative  market/price_realized_usd  market/mvrv  \\\n",
       "count                     3420.000000                3420.000000  3420.000000   \n",
       "mean                        -0.544966                1982.505110     1.694469   \n",
       "std                          0.234811                2439.289086     0.748298   \n",
       "min                         -0.935694                   4.780226     0.402165   \n",
       "25%                         -0.714921                 255.375770     1.185165   \n",
       "50%                         -0.593978                 353.200352     1.602503   \n",
       "75%                         -0.442636                4962.628630     1.990479   \n",
       "max                          0.000000                8511.239439     5.733982   \n",
       "\n",
       "            mining/difficulty_latest        mining/hash_rate_mean  \\\n",
       "count                    3420.000000                  3420.000000   \n",
       "mean  14430451074214360252416.000000  24427119534036541440.000000   \n",
       "std   23760808647533550108672.000000  40100100507797045248.000000   \n",
       "min          4684588175054590.000000         6399665203131.940430   \n",
       "25%       3901337247460400128.000000      8699088869182117.000000   \n",
       "50%     767335669260637962240.000000   1294483601522800128.000000   \n",
       "75%   24161544035787174051840.000000  39830756801272373248.000000   \n",
       "max   85887904103269694177280.000000 160765244797356015616.000000   \n",
       "\n",
       "       blockchain/block_count  ...  addresses/min_10_count  \\\n",
       "count             3420.000000  ...             3420.000000   \n",
       "mean               152.586550  ...           126193.088304   \n",
       "std                 18.993336  ...            28429.287652   \n",
       "min                 80.000000  ...            65620.000000   \n",
       "25%                140.000000  ...           100622.000000   \n",
       "50%                151.000000  ...           138605.500000   \n",
       "75%                163.000000  ...           149845.750000   \n",
       "max                260.000000  ...           157275.000000   \n",
       "\n",
       "       addresses/min_100_count  addresses/min_1k_count  \\\n",
       "count              3420.000000             3420.000000   \n",
       "mean              14786.967251             1632.996199   \n",
       "std                3483.904241              378.292967   \n",
       "min                4147.000000              622.000000   \n",
       "25%               12999.500000             1500.250000   \n",
       "50%               16186.000000             1691.000000   \n",
       "75%               17155.250000             1849.000000   \n",
       "max               18543.000000             2306.000000   \n",
       "\n",
       "       addresses/min_10k_count  \\\n",
       "count              3420.000000   \n",
       "mean                102.571930   \n",
       "std                  14.366666   \n",
       "min                  63.000000   \n",
       "25%                  97.000000   \n",
       "50%                 105.000000   \n",
       "75%                 113.000000   \n",
       "max                 126.000000   \n",
       "\n",
       "       transactions/transfers_volume_to_exchanges_sum  \\\n",
       "count                                     3420.000000   \n",
       "mean                                     36212.087997   \n",
       "std                                      30796.184625   \n",
       "min                                          0.000000   \n",
       "25%                                      10697.312430   \n",
       "50%                                      33029.864625   \n",
       "75%                                      51743.955142   \n",
       "max                                     275787.223656   \n",
       "\n",
       "       transactions/transfers_volume_from_exchanges_sum  \\\n",
       "count                                       3420.000000   \n",
       "mean                                       35503.739146   \n",
       "std                                        29574.103795   \n",
       "min                                            0.000000   \n",
       "25%                                        10171.487636   \n",
       "50%                                        32627.454006   \n",
       "75%                                        52048.622152   \n",
       "max                                       272701.298977   \n",
       "\n",
       "       transactions/transfers_to_exchanges_count  \\\n",
       "count                                3420.000000   \n",
       "mean                                25400.663450   \n",
       "std                                 26921.755802   \n",
       "min                                     0.000000   \n",
       "25%                                  2323.750000   \n",
       "50%                                 23769.000000   \n",
       "75%                                 41027.500000   \n",
       "max                                269206.000000   \n",
       "\n",
       "       transactions/transfers_from_exchanges_count  \\\n",
       "count                                  3420.000000   \n",
       "mean                                  18709.827778   \n",
       "std                                   17360.835994   \n",
       "min                                       0.000000   \n",
       "25%                                    1494.500000   \n",
       "50%                                   18459.000000   \n",
       "75%                                   31284.500000   \n",
       "max                                  105019.000000   \n",
       "\n",
       "       transactions/transfers_volume_exchanges_net  \\\n",
       "count                                  3420.000000   \n",
       "mean                                    708.348850   \n",
       "std                                    7465.246821   \n",
       "min                                  -69789.449136   \n",
       "25%                                   -1706.526819   \n",
       "50%                                     220.839457   \n",
       "75%                                    2735.186427   \n",
       "max                                   96773.471113   \n",
       "\n",
       "       distribution/balance_exchanges  \n",
       "count                     3420.000000  \n",
       "mean                   1221320.008612  \n",
       "std                    1057077.416259  \n",
       "min                          0.007500  \n",
       "25%                     314808.646741  \n",
       "50%                     942231.802291  \n",
       "75%                    2391974.835861  \n",
       "max                    2974820.281334  \n",
       "\n",
       "[8 rows x 97 columns]"
      ]
     },
     "execution_count": 147,
     "metadata": {},
     "output_type": "execute_result"
    }
   ],
   "source": [
    "# Summary of each variable\n",
    "df_blockchain.describe()"
   ]
  },
  {
   "cell_type": "code",
   "execution_count": 148,
   "metadata": {
    "ExecuteTime": {
     "end_time": "2020-12-26T21:34:01.537075Z",
     "start_time": "2020-12-26T21:34:01.005145Z"
    }
   },
   "outputs": [],
   "source": [
    "# Creating CSV-File of Blockchain Data\n",
    "df_blockchain.to_csv(\"df_dataset1.csv\")"
   ]
  },
  {
   "cell_type": "code",
   "execution_count": null,
   "metadata": {},
   "outputs": [],
   "source": []
  },
  {
   "cell_type": "markdown",
   "metadata": {},
   "source": [
    "# Data Set II. - Blockchain and Economic Metrics"
   ]
  },
  {
   "cell_type": "code",
   "execution_count": 149,
   "metadata": {
    "ExecuteTime": {
     "end_time": "2020-12-26T21:34:01.552678Z",
     "start_time": "2020-12-26T21:34:01.538716Z"
    }
   },
   "outputs": [],
   "source": [
    "df_commodities.index = df_commodities.index.astype('datetime64[ns]')\n",
    "df_bonds.index = df_bonds.index.astype('datetime64[ns]')\n",
    "df_stocks.index = df_stocks.index.astype('datetime64[ns]')\n",
    "df_currencies.index = df_currencies.index.astype('datetime64[ns]')"
   ]
  },
  {
   "cell_type": "code",
   "execution_count": 150,
   "metadata": {
    "ExecuteTime": {
     "end_time": "2020-12-26T21:34:01.568637Z",
     "start_time": "2020-12-26T21:34:01.553678Z"
    }
   },
   "outputs": [],
   "source": [
    "# Concatenation of all Financial Featuers\n",
    "df_economics = pd.concat([df_commodities, df_bonds, df_stocks, df_currencies], axis=1, join='inner')"
   ]
  },
  {
   "cell_type": "code",
   "execution_count": 151,
   "metadata": {
    "ExecuteTime": {
     "end_time": "2020-12-26T21:34:01.584593Z",
     "start_time": "2020-12-26T21:34:01.570644Z"
    }
   },
   "outputs": [],
   "source": [
    "df_economics = df_economics.dropna()"
   ]
  },
  {
   "cell_type": "code",
   "execution_count": 152,
   "metadata": {
    "ExecuteTime": {
     "end_time": "2020-12-26T21:34:01.600553Z",
     "start_time": "2020-12-26T21:34:01.586589Z"
    }
   },
   "outputs": [
    {
     "name": "stdout",
     "output_type": "stream",
     "text": [
      "<class 'pandas.core.frame.DataFrame'>\n",
      "DatetimeIndex: 3293 entries, 2007-04-02 to 2020-12-23\n",
      "Data columns (total 28 columns):\n",
      " #   Column                                     Non-Null Count  Dtype  \n",
      "---  ------                                     --------------  -----  \n",
      " 0   Close Gold                                 3293 non-null   float64\n",
      " 1   Close Silver                               3293 non-null   float64\n",
      " 2   Close WTI Crude Oil                        3293 non-null   float64\n",
      " 3   Close Natural Gas                          3293 non-null   float64\n",
      " 4   Close Treasury Yield 5 Years               3293 non-null   float64\n",
      " 5   Close Treasury Yield 10 Years              3293 non-null   float64\n",
      " 6   Treasury Yield 30 Years                    3293 non-null   float64\n",
      " 7   Close Dow Jones Industrial Average         3293 non-null   float64\n",
      " 8   Close Russell 2000                         3293 non-null   float64\n",
      " 9   Close S&P 500                              3293 non-null   float64\n",
      " 10  Close EURO STOXX 50                        3293 non-null   float64\n",
      " 11  Close NASDAQ                               3293 non-null   float64\n",
      " 12  Close VIX                                  3293 non-null   float64\n",
      " 13  Close CBOE Skew                            3293 non-null   float64\n",
      " 14  Dow Jones Industrial Average Daily Change  3293 non-null   float64\n",
      " 15  Russell 2000 Daily Change                  3293 non-null   float64\n",
      " 16  S&P 500 Daily Change                       3293 non-null   float64\n",
      " 17  EURO STOXX 50 Daily Change                 3293 non-null   float64\n",
      " 18  NASDAQ Daily Change                        3293 non-null   float64\n",
      " 19  VIX Daily Change                           3293 non-null   float64\n",
      " 20  CBOE Skew Daily Change                     3293 non-null   float64\n",
      " 21  Close USD Index                            3293 non-null   float64\n",
      " 22  Close EUR/USD                              3293 non-null   float64\n",
      " 23  Close JPY/USD                              3293 non-null   float64\n",
      " 24  Close GBP/USD                              3293 non-null   float64\n",
      " 25  Close CAD/USD                              3293 non-null   float64\n",
      " 26  Close SEK/USD                              3293 non-null   float64\n",
      " 27  Close CHF/USD                              3293 non-null   float64\n",
      "dtypes: float64(28)\n",
      "memory usage: 746.1 KB\n"
     ]
    }
   ],
   "source": [
    "df_economics.info()"
   ]
  },
  {
   "cell_type": "code",
   "execution_count": 153,
   "metadata": {
    "ExecuteTime": {
     "end_time": "2020-12-26T21:34:01.710432Z",
     "start_time": "2020-12-26T21:34:01.602546Z"
    }
   },
   "outputs": [
    {
     "data": {
      "text/html": [
       "<div>\n",
       "<style scoped>\n",
       "    .dataframe tbody tr th:only-of-type {\n",
       "        vertical-align: middle;\n",
       "    }\n",
       "\n",
       "    .dataframe tbody tr th {\n",
       "        vertical-align: top;\n",
       "    }\n",
       "\n",
       "    .dataframe thead th {\n",
       "        text-align: right;\n",
       "    }\n",
       "</style>\n",
       "<table border=\"1\" class=\"dataframe\">\n",
       "  <thead>\n",
       "    <tr style=\"text-align: right;\">\n",
       "      <th></th>\n",
       "      <th>Close Gold</th>\n",
       "      <th>Close Silver</th>\n",
       "      <th>Close WTI Crude Oil</th>\n",
       "      <th>Close Natural Gas</th>\n",
       "      <th>Close Treasury Yield 5 Years</th>\n",
       "      <th>Close Treasury Yield 10 Years</th>\n",
       "      <th>Treasury Yield 30 Years</th>\n",
       "      <th>Close Dow Jones Industrial Average</th>\n",
       "      <th>Close Russell 2000</th>\n",
       "      <th>Close S&amp;P 500</th>\n",
       "      <th>...</th>\n",
       "      <th>NASDAQ Daily Change</th>\n",
       "      <th>VIX Daily Change</th>\n",
       "      <th>CBOE Skew Daily Change</th>\n",
       "      <th>Close USD Index</th>\n",
       "      <th>Close EUR/USD</th>\n",
       "      <th>Close JPY/USD</th>\n",
       "      <th>Close GBP/USD</th>\n",
       "      <th>Close CAD/USD</th>\n",
       "      <th>Close SEK/USD</th>\n",
       "      <th>Close CHF/USD</th>\n",
       "    </tr>\n",
       "  </thead>\n",
       "  <tbody>\n",
       "    <tr>\n",
       "      <th>count</th>\n",
       "      <td>3293.000000</td>\n",
       "      <td>3293.000000</td>\n",
       "      <td>3293.000000</td>\n",
       "      <td>3293.000000</td>\n",
       "      <td>3293.000000</td>\n",
       "      <td>3293.000000</td>\n",
       "      <td>3293.000000</td>\n",
       "      <td>3293.000000</td>\n",
       "      <td>3293.000000</td>\n",
       "      <td>3293.000000</td>\n",
       "      <td>...</td>\n",
       "      <td>3293.000000</td>\n",
       "      <td>3293.000000</td>\n",
       "      <td>3293.000000</td>\n",
       "      <td>3293.000000</td>\n",
       "      <td>3293.000000</td>\n",
       "      <td>3293.000000</td>\n",
       "      <td>3293.000000</td>\n",
       "      <td>3293.000000</td>\n",
       "      <td>3293.000000</td>\n",
       "      <td>3293.000000</td>\n",
       "    </tr>\n",
       "    <tr>\n",
       "      <th>mean</th>\n",
       "      <td>1283.701397</td>\n",
       "      <td>19.773350</td>\n",
       "      <td>71.311215</td>\n",
       "      <td>3.868285</td>\n",
       "      <td>1.825348</td>\n",
       "      <td>2.553753</td>\n",
       "      <td>3.301112</td>\n",
       "      <td>16940.054519</td>\n",
       "      <td>1064.563729</td>\n",
       "      <td>1898.869517</td>\n",
       "      <td>...</td>\n",
       "      <td>3.077725</td>\n",
       "      <td>0.001737</td>\n",
       "      <td>0.016225</td>\n",
       "      <td>87.042244</td>\n",
       "      <td>1.261530</td>\n",
       "      <td>0.009978</td>\n",
       "      <td>1.521858</td>\n",
       "      <td>0.871815</td>\n",
       "      <td>0.132365</td>\n",
       "      <td>1.017291</td>\n",
       "    </tr>\n",
       "    <tr>\n",
       "      <th>std</th>\n",
       "      <td>287.864411</td>\n",
       "      <td>6.804558</td>\n",
       "      <td>23.868681</td>\n",
       "      <td>1.913736</td>\n",
       "      <td>0.938597</td>\n",
       "      <td>0.914275</td>\n",
       "      <td>0.889144</td>\n",
       "      <td>5933.193419</td>\n",
       "      <td>362.576939</td>\n",
       "      <td>707.278752</td>\n",
       "      <td>...</td>\n",
       "      <td>72.186993</td>\n",
       "      <td>2.090007</td>\n",
       "      <td>3.446465</td>\n",
       "      <td>8.672687</td>\n",
       "      <td>0.133291</td>\n",
       "      <td>0.001385</td>\n",
       "      <td>0.211119</td>\n",
       "      <td>0.106356</td>\n",
       "      <td>0.018900</td>\n",
       "      <td>0.081133</td>\n",
       "    </tr>\n",
       "    <tr>\n",
       "      <th>min</th>\n",
       "      <td>641.700000</td>\n",
       "      <td>8.790000</td>\n",
       "      <td>-37.630000</td>\n",
       "      <td>1.482000</td>\n",
       "      <td>0.195000</td>\n",
       "      <td>0.499000</td>\n",
       "      <td>0.937000</td>\n",
       "      <td>6547.050000</td>\n",
       "      <td>343.260000</td>\n",
       "      <td>676.530000</td>\n",
       "      <td>...</td>\n",
       "      <td>-970.290000</td>\n",
       "      <td>-17.640000</td>\n",
       "      <td>-22.810000</td>\n",
       "      <td>71.330000</td>\n",
       "      <td>1.039000</td>\n",
       "      <td>0.008000</td>\n",
       "      <td>1.149400</td>\n",
       "      <td>0.686700</td>\n",
       "      <td>0.095800</td>\n",
       "      <td>0.802500</td>\n",
       "    </tr>\n",
       "    <tr>\n",
       "      <th>25%</th>\n",
       "      <td>1142.800000</td>\n",
       "      <td>15.500000</td>\n",
       "      <td>50.790000</td>\n",
       "      <td>2.713000</td>\n",
       "      <td>1.261000</td>\n",
       "      <td>1.943000</td>\n",
       "      <td>2.799000</td>\n",
       "      <td>12288.170000</td>\n",
       "      <td>761.900000</td>\n",
       "      <td>1318.430000</td>\n",
       "      <td>...</td>\n",
       "      <td>-19.910000</td>\n",
       "      <td>-0.770000</td>\n",
       "      <td>-1.480000</td>\n",
       "      <td>79.870000</td>\n",
       "      <td>1.131400</td>\n",
       "      <td>0.009000</td>\n",
       "      <td>1.320000</td>\n",
       "      <td>0.763700</td>\n",
       "      <td>0.115400</td>\n",
       "      <td>0.986000</td>\n",
       "    </tr>\n",
       "    <tr>\n",
       "      <th>50%</th>\n",
       "      <td>1272.400000</td>\n",
       "      <td>17.342000</td>\n",
       "      <td>69.190000</td>\n",
       "      <td>3.368000</td>\n",
       "      <td>1.679000</td>\n",
       "      <td>2.463000</td>\n",
       "      <td>3.105000</td>\n",
       "      <td>16133.230000</td>\n",
       "      <td>1096.380000</td>\n",
       "      <td>1842.980000</td>\n",
       "      <td>...</td>\n",
       "      <td>4.470000</td>\n",
       "      <td>-0.100000</td>\n",
       "      <td>0.000000</td>\n",
       "      <td>84.430000</td>\n",
       "      <td>1.270800</td>\n",
       "      <td>0.009500</td>\n",
       "      <td>1.537400</td>\n",
       "      <td>0.883500</td>\n",
       "      <td>0.130800</td>\n",
       "      <td>1.024300</td>\n",
       "    </tr>\n",
       "    <tr>\n",
       "      <th>75%</th>\n",
       "      <td>1461.300000</td>\n",
       "      <td>21.582000</td>\n",
       "      <td>92.630000</td>\n",
       "      <td>4.313000</td>\n",
       "      <td>2.345000</td>\n",
       "      <td>3.083000</td>\n",
       "      <td>4.068000</td>\n",
       "      <td>21409.550000</td>\n",
       "      <td>1382.510000</td>\n",
       "      <td>2438.300000</td>\n",
       "      <td>...</td>\n",
       "      <td>28.560000</td>\n",
       "      <td>0.600000</td>\n",
       "      <td>1.530000</td>\n",
       "      <td>95.790000</td>\n",
       "      <td>1.361600</td>\n",
       "      <td>0.010900</td>\n",
       "      <td>1.616000</td>\n",
       "      <td>0.975400</td>\n",
       "      <td>0.150100</td>\n",
       "      <td>1.069300</td>\n",
       "    </tr>\n",
       "    <tr>\n",
       "      <th>max</th>\n",
       "      <td>2051.500000</td>\n",
       "      <td>48.584000</td>\n",
       "      <td>145.180000</td>\n",
       "      <td>13.389000</td>\n",
       "      <td>5.154000</td>\n",
       "      <td>5.248000</td>\n",
       "      <td>5.356000</td>\n",
       "      <td>30303.370000</td>\n",
       "      <td>2007.100000</td>\n",
       "      <td>3722.480000</td>\n",
       "      <td>...</td>\n",
       "      <td>673.080000</td>\n",
       "      <td>24.860000</td>\n",
       "      <td>30.610000</td>\n",
       "      <td>103.290000</td>\n",
       "      <td>1.598800</td>\n",
       "      <td>0.013200</td>\n",
       "      <td>2.108200</td>\n",
       "      <td>1.088500</td>\n",
       "      <td>0.171300</td>\n",
       "      <td>1.383500</td>\n",
       "    </tr>\n",
       "  </tbody>\n",
       "</table>\n",
       "<p>8 rows × 28 columns</p>\n",
       "</div>"
      ],
      "text/plain": [
       "       Close Gold  Close Silver  Close WTI Crude Oil  Close Natural Gas  \\\n",
       "count 3293.000000   3293.000000          3293.000000        3293.000000   \n",
       "mean  1283.701397     19.773350            71.311215           3.868285   \n",
       "std    287.864411      6.804558            23.868681           1.913736   \n",
       "min    641.700000      8.790000           -37.630000           1.482000   \n",
       "25%   1142.800000     15.500000            50.790000           2.713000   \n",
       "50%   1272.400000     17.342000            69.190000           3.368000   \n",
       "75%   1461.300000     21.582000            92.630000           4.313000   \n",
       "max   2051.500000     48.584000           145.180000          13.389000   \n",
       "\n",
       "       Close Treasury Yield 5 Years  Close Treasury Yield 10 Years  \\\n",
       "count                   3293.000000                    3293.000000   \n",
       "mean                       1.825348                       2.553753   \n",
       "std                        0.938597                       0.914275   \n",
       "min                        0.195000                       0.499000   \n",
       "25%                        1.261000                       1.943000   \n",
       "50%                        1.679000                       2.463000   \n",
       "75%                        2.345000                       3.083000   \n",
       "max                        5.154000                       5.248000   \n",
       "\n",
       "       Treasury Yield 30 Years  Close Dow Jones Industrial Average  \\\n",
       "count              3293.000000                         3293.000000   \n",
       "mean                  3.301112                        16940.054519   \n",
       "std                   0.889144                         5933.193419   \n",
       "min                   0.937000                         6547.050000   \n",
       "25%                   2.799000                        12288.170000   \n",
       "50%                   3.105000                        16133.230000   \n",
       "75%                   4.068000                        21409.550000   \n",
       "max                   5.356000                        30303.370000   \n",
       "\n",
       "       Close Russell 2000  Close S&P 500  ...  NASDAQ Daily Change  \\\n",
       "count         3293.000000    3293.000000  ...          3293.000000   \n",
       "mean          1064.563729    1898.869517  ...             3.077725   \n",
       "std            362.576939     707.278752  ...            72.186993   \n",
       "min            343.260000     676.530000  ...          -970.290000   \n",
       "25%            761.900000    1318.430000  ...           -19.910000   \n",
       "50%           1096.380000    1842.980000  ...             4.470000   \n",
       "75%           1382.510000    2438.300000  ...            28.560000   \n",
       "max           2007.100000    3722.480000  ...           673.080000   \n",
       "\n",
       "       VIX Daily Change  CBOE Skew Daily Change  Close USD Index  \\\n",
       "count       3293.000000             3293.000000      3293.000000   \n",
       "mean           0.001737                0.016225        87.042244   \n",
       "std            2.090007                3.446465         8.672687   \n",
       "min          -17.640000              -22.810000        71.330000   \n",
       "25%           -0.770000               -1.480000        79.870000   \n",
       "50%           -0.100000                0.000000        84.430000   \n",
       "75%            0.600000                1.530000        95.790000   \n",
       "max           24.860000               30.610000       103.290000   \n",
       "\n",
       "       Close EUR/USD  Close JPY/USD  Close GBP/USD  Close CAD/USD  \\\n",
       "count    3293.000000    3293.000000    3293.000000    3293.000000   \n",
       "mean        1.261530       0.009978       1.521858       0.871815   \n",
       "std         0.133291       0.001385       0.211119       0.106356   \n",
       "min         1.039000       0.008000       1.149400       0.686700   \n",
       "25%         1.131400       0.009000       1.320000       0.763700   \n",
       "50%         1.270800       0.009500       1.537400       0.883500   \n",
       "75%         1.361600       0.010900       1.616000       0.975400   \n",
       "max         1.598800       0.013200       2.108200       1.088500   \n",
       "\n",
       "       Close SEK/USD  Close CHF/USD  \n",
       "count    3293.000000    3293.000000  \n",
       "mean        0.132365       1.017291  \n",
       "std         0.018900       0.081133  \n",
       "min         0.095800       0.802500  \n",
       "25%         0.115400       0.986000  \n",
       "50%         0.130800       1.024300  \n",
       "75%         0.150100       1.069300  \n",
       "max         0.171300       1.383500  \n",
       "\n",
       "[8 rows x 28 columns]"
      ]
     },
     "execution_count": 153,
     "metadata": {},
     "output_type": "execute_result"
    }
   ],
   "source": [
    "# Summary of each variable\n",
    "df_economics.describe()"
   ]
  },
  {
   "cell_type": "code",
   "execution_count": 154,
   "metadata": {
    "ExecuteTime": {
     "end_time": "2020-12-26T21:34:01.726497Z",
     "start_time": "2020-12-26T21:34:01.712428Z"
    }
   },
   "outputs": [],
   "source": [
    "df_dataset2 = pd.merge(df_blockchain, df_economics, how='inner', left_on='Date', right_on='Date')"
   ]
  },
  {
   "cell_type": "code",
   "execution_count": 155,
   "metadata": {
    "ExecuteTime": {
     "end_time": "2020-12-26T21:34:02.024594Z",
     "start_time": "2020-12-26T21:34:01.727387Z"
    }
   },
   "outputs": [
    {
     "data": {
      "text/html": [
       "<div>\n",
       "<style scoped>\n",
       "    .dataframe tbody tr th:only-of-type {\n",
       "        vertical-align: middle;\n",
       "    }\n",
       "\n",
       "    .dataframe tbody tr th {\n",
       "        vertical-align: top;\n",
       "    }\n",
       "\n",
       "    .dataframe thead th {\n",
       "        text-align: right;\n",
       "    }\n",
       "</style>\n",
       "<table border=\"1\" class=\"dataframe\">\n",
       "  <thead>\n",
       "    <tr style=\"text-align: right;\">\n",
       "      <th></th>\n",
       "      <th>Daily Return in USD</th>\n",
       "      <th>Log Price in USD</th>\n",
       "      <th>Volatility Daily Log Return in Percent 5D</th>\n",
       "      <th>market/price_usd_close</th>\n",
       "      <th>market/price_drawdown_relative</th>\n",
       "      <th>market/price_realized_usd</th>\n",
       "      <th>market/mvrv</th>\n",
       "      <th>mining/difficulty_latest</th>\n",
       "      <th>mining/hash_rate_mean</th>\n",
       "      <th>blockchain/block_count</th>\n",
       "      <th>...</th>\n",
       "      <th>NASDAQ Daily Change</th>\n",
       "      <th>VIX Daily Change</th>\n",
       "      <th>CBOE Skew Daily Change</th>\n",
       "      <th>Close USD Index</th>\n",
       "      <th>Close EUR/USD</th>\n",
       "      <th>Close JPY/USD</th>\n",
       "      <th>Close GBP/USD</th>\n",
       "      <th>Close CAD/USD</th>\n",
       "      <th>Close SEK/USD</th>\n",
       "      <th>Close CHF/USD</th>\n",
       "    </tr>\n",
       "  </thead>\n",
       "  <tbody>\n",
       "    <tr>\n",
       "      <th>count</th>\n",
       "      <td>2249.000000</td>\n",
       "      <td>2249.000000</td>\n",
       "      <td>2249.000000</td>\n",
       "      <td>2249.000000</td>\n",
       "      <td>2249.000000</td>\n",
       "      <td>2249.000000</td>\n",
       "      <td>2249.000000</td>\n",
       "      <td>2249.000000</td>\n",
       "      <td>2249.000000</td>\n",
       "      <td>2249.000000</td>\n",
       "      <td>...</td>\n",
       "      <td>2249.000000</td>\n",
       "      <td>2249.000000</td>\n",
       "      <td>2249.000000</td>\n",
       "      <td>2249.000000</td>\n",
       "      <td>2249.000000</td>\n",
       "      <td>2249.000000</td>\n",
       "      <td>2249.000000</td>\n",
       "      <td>2249.000000</td>\n",
       "      <td>2249.000000</td>\n",
       "      <td>2249.000000</td>\n",
       "    </tr>\n",
       "    <tr>\n",
       "      <th>mean</th>\n",
       "      <td>8.824399</td>\n",
       "      <td>6.411282</td>\n",
       "      <td>3.513591</td>\n",
       "      <td>3322.471952</td>\n",
       "      <td>-0.544756</td>\n",
       "      <td>1974.412676</td>\n",
       "      <td>1.691010</td>\n",
       "      <td>14525612276244186923008.000000</td>\n",
       "      <td>24459615249953652736.000000</td>\n",
       "      <td>152.040462</td>\n",
       "      <td>...</td>\n",
       "      <td>4.486701</td>\n",
       "      <td>-0.006163</td>\n",
       "      <td>0.025482</td>\n",
       "      <td>90.713179</td>\n",
       "      <td>1.199025</td>\n",
       "      <td>0.009726</td>\n",
       "      <td>1.435755</td>\n",
       "      <td>0.835097</td>\n",
       "      <td>0.126573</td>\n",
       "      <td>1.048536</td>\n",
       "    </tr>\n",
       "    <tr>\n",
       "      <th>std</th>\n",
       "      <td>251.455333</td>\n",
       "      <td>2.469346</td>\n",
       "      <td>3.300081</td>\n",
       "      <td>4418.089869</td>\n",
       "      <td>0.235622</td>\n",
       "      <td>2437.958945</td>\n",
       "      <td>0.747809</td>\n",
       "      <td>23935064865626189201408.000000</td>\n",
       "      <td>40141281990894952448.000000</td>\n",
       "      <td>18.887112</td>\n",
       "      <td>...</td>\n",
       "      <td>83.744006</td>\n",
       "      <td>1.861950</td>\n",
       "      <td>3.843435</td>\n",
       "      <td>7.734061</td>\n",
       "      <td>0.101102</td>\n",
       "      <td>0.001354</td>\n",
       "      <td>0.148483</td>\n",
       "      <td>0.100798</td>\n",
       "      <td>0.018198</td>\n",
       "      <td>0.044160</td>\n",
       "    </tr>\n",
       "    <tr>\n",
       "      <th>min</th>\n",
       "      <td>-3052.461475</td>\n",
       "      <td>0.718341</td>\n",
       "      <td>0.238271</td>\n",
       "      <td>2.051027</td>\n",
       "      <td>-0.935694</td>\n",
       "      <td>4.780226</td>\n",
       "      <td>0.402165</td>\n",
       "      <td>4684588175054590.000000</td>\n",
       "      <td>6399665203131.940430</td>\n",
       "      <td>89.000000</td>\n",
       "      <td>...</td>\n",
       "      <td>-970.290000</td>\n",
       "      <td>-17.640000</td>\n",
       "      <td>-22.810000</td>\n",
       "      <td>73.670000</td>\n",
       "      <td>1.039000</td>\n",
       "      <td>0.008000</td>\n",
       "      <td>1.149400</td>\n",
       "      <td>0.686700</td>\n",
       "      <td>0.095800</td>\n",
       "      <td>0.970700</td>\n",
       "    </tr>\n",
       "    <tr>\n",
       "      <th>25%</th>\n",
       "      <td>-7.302646</td>\n",
       "      <td>5.426567</td>\n",
       "      <td>1.515868</td>\n",
       "      <td>227.367339</td>\n",
       "      <td>-0.712376</td>\n",
       "      <td>254.972023</td>\n",
       "      <td>1.182227</td>\n",
       "      <td>3901337247460400128.000000</td>\n",
       "      <td>9084533497378490.000000</td>\n",
       "      <td>140.000000</td>\n",
       "      <td>...</td>\n",
       "      <td>-20.820000</td>\n",
       "      <td>-0.720000</td>\n",
       "      <td>-1.680000</td>\n",
       "      <td>81.730000</td>\n",
       "      <td>1.115900</td>\n",
       "      <td>0.008900</td>\n",
       "      <td>1.296700</td>\n",
       "      <td>0.756000</td>\n",
       "      <td>0.112200</td>\n",
       "      <td>1.012400</td>\n",
       "    </tr>\n",
       "    <tr>\n",
       "      <th>50%</th>\n",
       "      <td>0.129851</td>\n",
       "      <td>6.432667</td>\n",
       "      <td>2.637223</td>\n",
       "      <td>621.830136</td>\n",
       "      <td>-0.594304</td>\n",
       "      <td>353.692978</td>\n",
       "      <td>1.599846</td>\n",
       "      <td>767335669260637962240.000000</td>\n",
       "      <td>1289104886357850112.000000</td>\n",
       "      <td>151.000000</td>\n",
       "      <td>...</td>\n",
       "      <td>5.600000</td>\n",
       "      <td>-0.080000</td>\n",
       "      <td>0.000000</td>\n",
       "      <td>93.960000</td>\n",
       "      <td>1.168200</td>\n",
       "      <td>0.009300</td>\n",
       "      <td>1.429600</td>\n",
       "      <td>0.780200</td>\n",
       "      <td>0.119400</td>\n",
       "      <td>1.038500</td>\n",
       "    </tr>\n",
       "    <tr>\n",
       "      <th>75%</th>\n",
       "      <td>13.708309</td>\n",
       "      <td>8.793195</td>\n",
       "      <td>4.395490</td>\n",
       "      <td>6589.249192</td>\n",
       "      <td>-0.443596</td>\n",
       "      <td>4971.490723</td>\n",
       "      <td>1.983954</td>\n",
       "      <td>24251119882350098382848.000000</td>\n",
       "      <td>39829559916680699904.000000</td>\n",
       "      <td>163.000000</td>\n",
       "      <td>...</td>\n",
       "      <td>34.430000</td>\n",
       "      <td>0.540000</td>\n",
       "      <td>1.710000</td>\n",
       "      <td>97.090000</td>\n",
       "      <td>1.297400</td>\n",
       "      <td>0.009900</td>\n",
       "      <td>1.568300</td>\n",
       "      <td>0.939200</td>\n",
       "      <td>0.147800</td>\n",
       "      <td>1.079700</td>\n",
       "    </tr>\n",
       "    <tr>\n",
       "      <th>max</th>\n",
       "      <td>3224.132131</td>\n",
       "      <td>10.075714</td>\n",
       "      <td>41.749946</td>\n",
       "      <td>23758.933628</td>\n",
       "      <td>-0.000316</td>\n",
       "      <td>8375.793326</td>\n",
       "      <td>5.442744</td>\n",
       "      <td>85887904103269694177280.000000</td>\n",
       "      <td>160765244797356015616.000000</td>\n",
       "      <td>260.000000</td>\n",
       "      <td>...</td>\n",
       "      <td>673.080000</td>\n",
       "      <td>24.860000</td>\n",
       "      <td>30.610000</td>\n",
       "      <td>103.290000</td>\n",
       "      <td>1.452400</td>\n",
       "      <td>0.013200</td>\n",
       "      <td>1.715900</td>\n",
       "      <td>1.032800</td>\n",
       "      <td>0.159000</td>\n",
       "      <td>1.273100</td>\n",
       "    </tr>\n",
       "  </tbody>\n",
       "</table>\n",
       "<p>8 rows × 125 columns</p>\n",
       "</div>"
      ],
      "text/plain": [
       "       Daily Return in USD  Log Price in USD  \\\n",
       "count          2249.000000       2249.000000   \n",
       "mean              8.824399          6.411282   \n",
       "std             251.455333          2.469346   \n",
       "min           -3052.461475          0.718341   \n",
       "25%              -7.302646          5.426567   \n",
       "50%               0.129851          6.432667   \n",
       "75%              13.708309          8.793195   \n",
       "max            3224.132131         10.075714   \n",
       "\n",
       "       Volatility Daily Log Return in Percent 5D  market/price_usd_close  \\\n",
       "count                                2249.000000             2249.000000   \n",
       "mean                                    3.513591             3322.471952   \n",
       "std                                     3.300081             4418.089869   \n",
       "min                                     0.238271                2.051027   \n",
       "25%                                     1.515868              227.367339   \n",
       "50%                                     2.637223              621.830136   \n",
       "75%                                     4.395490             6589.249192   \n",
       "max                                    41.749946            23758.933628   \n",
       "\n",
       "       market/price_drawdown_relative  market/price_realized_usd  market/mvrv  \\\n",
       "count                     2249.000000                2249.000000  2249.000000   \n",
       "mean                        -0.544756                1974.412676     1.691010   \n",
       "std                          0.235622                2437.958945     0.747809   \n",
       "min                         -0.935694                   4.780226     0.402165   \n",
       "25%                         -0.712376                 254.972023     1.182227   \n",
       "50%                         -0.594304                 353.692978     1.599846   \n",
       "75%                         -0.443596                4971.490723     1.983954   \n",
       "max                         -0.000316                8375.793326     5.442744   \n",
       "\n",
       "            mining/difficulty_latest        mining/hash_rate_mean  \\\n",
       "count                    2249.000000                  2249.000000   \n",
       "mean  14525612276244186923008.000000  24459615249953652736.000000   \n",
       "std   23935064865626189201408.000000  40141281990894952448.000000   \n",
       "min          4684588175054590.000000         6399665203131.940430   \n",
       "25%       3901337247460400128.000000      9084533497378490.000000   \n",
       "50%     767335669260637962240.000000   1289104886357850112.000000   \n",
       "75%   24251119882350098382848.000000  39829559916680699904.000000   \n",
       "max   85887904103269694177280.000000 160765244797356015616.000000   \n",
       "\n",
       "       blockchain/block_count  ...  NASDAQ Daily Change  VIX Daily Change  \\\n",
       "count             2249.000000  ...          2249.000000       2249.000000   \n",
       "mean               152.040462  ...             4.486701         -0.006163   \n",
       "std                 18.887112  ...            83.744006          1.861950   \n",
       "min                 89.000000  ...          -970.290000        -17.640000   \n",
       "25%                140.000000  ...           -20.820000         -0.720000   \n",
       "50%                151.000000  ...             5.600000         -0.080000   \n",
       "75%                163.000000  ...            34.430000          0.540000   \n",
       "max                260.000000  ...           673.080000         24.860000   \n",
       "\n",
       "       CBOE Skew Daily Change  Close USD Index  Close EUR/USD  Close JPY/USD  \\\n",
       "count             2249.000000      2249.000000    2249.000000    2249.000000   \n",
       "mean                 0.025482        90.713179       1.199025       0.009726   \n",
       "std                  3.843435         7.734061       0.101102       0.001354   \n",
       "min                -22.810000        73.670000       1.039000       0.008000   \n",
       "25%                 -1.680000        81.730000       1.115900       0.008900   \n",
       "50%                  0.000000        93.960000       1.168200       0.009300   \n",
       "75%                  1.710000        97.090000       1.297400       0.009900   \n",
       "max                 30.610000       103.290000       1.452400       0.013200   \n",
       "\n",
       "       Close GBP/USD  Close CAD/USD  Close SEK/USD  Close CHF/USD  \n",
       "count    2249.000000    2249.000000    2249.000000    2249.000000  \n",
       "mean        1.435755       0.835097       0.126573       1.048536  \n",
       "std         0.148483       0.100798       0.018198       0.044160  \n",
       "min         1.149400       0.686700       0.095800       0.970700  \n",
       "25%         1.296700       0.756000       0.112200       1.012400  \n",
       "50%         1.429600       0.780200       0.119400       1.038500  \n",
       "75%         1.568300       0.939200       0.147800       1.079700  \n",
       "max         1.715900       1.032800       0.159000       1.273100  \n",
       "\n",
       "[8 rows x 125 columns]"
      ]
     },
     "execution_count": 155,
     "metadata": {},
     "output_type": "execute_result"
    }
   ],
   "source": [
    "df_dataset2.describe()"
   ]
  },
  {
   "cell_type": "code",
   "execution_count": 156,
   "metadata": {
    "ExecuteTime": {
     "end_time": "2020-12-26T21:34:02.463421Z",
     "start_time": "2020-12-26T21:34:02.026590Z"
    }
   },
   "outputs": [],
   "source": [
    "# Creating CSV-File of Blockchain and Economic Data\n",
    "df_dataset2.to_csv('df_dataset2.csv')"
   ]
  },
  {
   "cell_type": "markdown",
   "metadata": {},
   "source": [
    "# START Classification Models - Data Set Variations"
   ]
  },
  {
   "cell_type": "code",
   "execution_count": 157,
   "metadata": {
    "ExecuteTime": {
     "end_time": "2020-12-26T22:49:59.561845Z",
     "start_time": "2020-12-26T22:49:59.552985Z"
    },
    "scrolled": true
   },
   "outputs": [],
   "source": [
    "# Import of Modules and Packages\n",
    "import os\n",
    "import pandas as pd\n",
    "import matplotlib.pyplot as plt\n",
    "import math\n",
    "\n",
    "from sklearn.preprocessing import StandardScaler, MinMaxScaler\n",
    "\n",
    "from sklearn.model_selection import train_test_split\n",
    "from sklearn.model_selection import cross_val_score\n",
    "from sklearn.model_selection import StratifiedKFold\n",
    "from sklearn.metrics import roc_auc_score, roc_curve\n",
    "from sklearn.metrics import confusion_matrix, classification_report\n",
    "\n",
    "# Logistic Regression\n",
    "from sklearn.linear_model import LogisticRegression\n",
    "from sklearn.tree import DecisionTreeClassifier\n",
    "from sklearn.ensemble import RandomForestClassifier\n",
    "from sklearn.neighbors import KNeighborsClassifier\n",
    "from pycaret.classification import *\n",
    "\n",
    "# Deep Neural Networks\n",
    "from tensorflow import keras\n",
    "from keras.wrappers.scikit_learn import KerasClassifier\n",
    "from keras.models import Sequential\n",
    "from keras.layers import Dense\n",
    "from keras.optimizers import SGD\n",
    "from keras.optimizers import Adam\n",
    "import numpy as np\n",
    "\n",
    "# PyCaret\n",
    "import pycaret"
   ]
  },
  {
   "cell_type": "code",
   "execution_count": 158,
   "metadata": {
    "ExecuteTime": {
     "end_time": "2020-12-26T22:49:59.576752Z",
     "start_time": "2020-12-26T22:49:59.562792Z"
    }
   },
   "outputs": [],
   "source": [
    "# Adjustment of Decimal Places\n",
    "pd.options.display.float_format = '{:.2f}'.format\n",
    "pd.set_option('display.max_columns', None)"
   ]
  },
  {
   "cell_type": "markdown",
   "metadata": {},
   "source": [
    "# Import Data Sets"
   ]
  },
  {
   "cell_type": "markdown",
   "metadata": {},
   "source": [
    "## Data Set I."
   ]
  },
  {
   "cell_type": "code",
   "execution_count": 159,
   "metadata": {
    "ExecuteTime": {
     "end_time": "2020-12-26T22:49:59.592781Z",
     "start_time": "2020-12-26T22:49:59.577750Z"
    }
   },
   "outputs": [
    {
     "data": {
      "text/plain": [
       "'C:\\\\Users\\\\markus.gebele\\\\github_repo\\\\JupyterLabDir\\\\Rest\\\\MA BTC\\\\Markus_Code_MA_final\\\\20201010'"
      ]
     },
     "execution_count": 159,
     "metadata": {},
     "output_type": "execute_result"
    }
   ],
   "source": [
    "os.getcwd()"
   ]
  },
  {
   "cell_type": "code",
   "execution_count": 160,
   "metadata": {
    "ExecuteTime": {
     "end_time": "2020-12-26T22:49:59.656576Z",
     "start_time": "2020-12-26T22:49:59.593706Z"
    }
   },
   "outputs": [],
   "source": [
    "# CSV Import of Data Set I. - Blockchain Data\n",
    "df_dataset1 = pd.read_csv('df_dataset2.csv', parse_dates = True, index_col='Date')"
   ]
  },
  {
   "cell_type": "code",
   "execution_count": 161,
   "metadata": {
    "ExecuteTime": {
     "end_time": "2020-12-26T22:49:59.688452Z",
     "start_time": "2020-12-26T22:49:59.657536Z"
    }
   },
   "outputs": [
    {
     "data": {
      "text/html": [
       "<div>\n",
       "<style scoped>\n",
       "    .dataframe tbody tr th:only-of-type {\n",
       "        vertical-align: middle;\n",
       "    }\n",
       "\n",
       "    .dataframe tbody tr th {\n",
       "        vertical-align: top;\n",
       "    }\n",
       "\n",
       "    .dataframe thead th {\n",
       "        text-align: right;\n",
       "    }\n",
       "</style>\n",
       "<table border=\"1\" class=\"dataframe\">\n",
       "  <thead>\n",
       "    <tr style=\"text-align: right;\">\n",
       "      <th></th>\n",
       "      <th>Daily Return in USD</th>\n",
       "      <th>Log Price in USD</th>\n",
       "      <th>Volatility Daily Log Return in Percent 5D</th>\n",
       "      <th>market/price_usd_close</th>\n",
       "      <th>market/price_drawdown_relative</th>\n",
       "      <th>market/price_realized_usd</th>\n",
       "      <th>market/mvrv</th>\n",
       "      <th>mining/difficulty_latest</th>\n",
       "      <th>mining/hash_rate_mean</th>\n",
       "      <th>blockchain/block_count</th>\n",
       "      <th>...</th>\n",
       "      <th>NASDAQ Daily Change</th>\n",
       "      <th>VIX Daily Change</th>\n",
       "      <th>CBOE Skew Daily Change</th>\n",
       "      <th>Close USD Index</th>\n",
       "      <th>Close EUR/USD</th>\n",
       "      <th>Close JPY/USD</th>\n",
       "      <th>Close GBP/USD</th>\n",
       "      <th>Close CAD/USD</th>\n",
       "      <th>Close SEK/USD</th>\n",
       "      <th>Close CHF/USD</th>\n",
       "    </tr>\n",
       "    <tr>\n",
       "      <th>Date</th>\n",
       "      <th></th>\n",
       "      <th></th>\n",
       "      <th></th>\n",
       "      <th></th>\n",
       "      <th></th>\n",
       "      <th></th>\n",
       "      <th></th>\n",
       "      <th></th>\n",
       "      <th></th>\n",
       "      <th></th>\n",
       "      <th></th>\n",
       "      <th></th>\n",
       "      <th></th>\n",
       "      <th></th>\n",
       "      <th></th>\n",
       "      <th></th>\n",
       "      <th></th>\n",
       "      <th></th>\n",
       "      <th></th>\n",
       "      <th></th>\n",
       "      <th></th>\n",
       "    </tr>\n",
       "  </thead>\n",
       "  <tbody>\n",
       "    <tr>\n",
       "      <th>2011-08-17</th>\n",
       "      <td>0.03</td>\n",
       "      <td>2.40</td>\n",
       "      <td>3.60</td>\n",
       "      <td>10.99</td>\n",
       "      <td>-0.66</td>\n",
       "      <td>6.81</td>\n",
       "      <td>1.60</td>\n",
       "      <td>7755426037811680.00</td>\n",
       "      <td>12230547335773.00</td>\n",
       "      <td>136.00</td>\n",
       "      <td>...</td>\n",
       "      <td>-11.97</td>\n",
       "      <td>-1.27</td>\n",
       "      <td>3.75</td>\n",
       "      <td>73.67</td>\n",
       "      <td>1.44</td>\n",
       "      <td>0.01</td>\n",
       "      <td>1.64</td>\n",
       "      <td>1.02</td>\n",
       "      <td>0.16</td>\n",
       "      <td>1.26</td>\n",
       "    </tr>\n",
       "    <tr>\n",
       "      <th>2011-08-18</th>\n",
       "      <td>-0.15</td>\n",
       "      <td>2.38</td>\n",
       "      <td>3.29</td>\n",
       "      <td>10.85</td>\n",
       "      <td>-0.66</td>\n",
       "      <td>6.81</td>\n",
       "      <td>1.60</td>\n",
       "      <td>7755426037811680.00</td>\n",
       "      <td>12915246321786.50</td>\n",
       "      <td>144.00</td>\n",
       "      <td>...</td>\n",
       "      <td>-131.05</td>\n",
       "      <td>11.09</td>\n",
       "      <td>-1.72</td>\n",
       "      <td>74.24</td>\n",
       "      <td>1.44</td>\n",
       "      <td>0.01</td>\n",
       "      <td>1.65</td>\n",
       "      <td>1.02</td>\n",
       "      <td>0.16</td>\n",
       "      <td>1.27</td>\n",
       "    </tr>\n",
       "    <tr>\n",
       "      <th>2011-08-19</th>\n",
       "      <td>0.80</td>\n",
       "      <td>2.46</td>\n",
       "      <td>3.72</td>\n",
       "      <td>11.65</td>\n",
       "      <td>-0.63</td>\n",
       "      <td>6.82</td>\n",
       "      <td>1.65</td>\n",
       "      <td>7755426037811680.00</td>\n",
       "      <td>11678381642086.70</td>\n",
       "      <td>131.00</td>\n",
       "      <td>...</td>\n",
       "      <td>-38.59</td>\n",
       "      <td>0.38</td>\n",
       "      <td>-0.39</td>\n",
       "      <td>73.99</td>\n",
       "      <td>1.43</td>\n",
       "      <td>0.01</td>\n",
       "      <td>1.65</td>\n",
       "      <td>1.01</td>\n",
       "      <td>0.16</td>\n",
       "      <td>1.26</td>\n",
       "    </tr>\n",
       "    <tr>\n",
       "      <th>2011-08-22</th>\n",
       "      <td>-0.38</td>\n",
       "      <td>2.39</td>\n",
       "      <td>4.15</td>\n",
       "      <td>10.94</td>\n",
       "      <td>-0.66</td>\n",
       "      <td>6.84</td>\n",
       "      <td>1.63</td>\n",
       "      <td>7755426037811680.00</td>\n",
       "      <td>15232874647151.10</td>\n",
       "      <td>169.00</td>\n",
       "      <td>...</td>\n",
       "      <td>3.54</td>\n",
       "      <td>-0.61</td>\n",
       "      <td>-4.65</td>\n",
       "      <td>74.07</td>\n",
       "      <td>1.44</td>\n",
       "      <td>0.01</td>\n",
       "      <td>1.65</td>\n",
       "      <td>1.01</td>\n",
       "      <td>0.16</td>\n",
       "      <td>1.27</td>\n",
       "    </tr>\n",
       "    <tr>\n",
       "      <th>2011-08-23</th>\n",
       "      <td>-0.01</td>\n",
       "      <td>2.39</td>\n",
       "      <td>4.09</td>\n",
       "      <td>10.93</td>\n",
       "      <td>-0.66</td>\n",
       "      <td>6.84</td>\n",
       "      <td>1.61</td>\n",
       "      <td>7755426037811680.00</td>\n",
       "      <td>13087830283303.00</td>\n",
       "      <td>155.00</td>\n",
       "      <td>...</td>\n",
       "      <td>100.68</td>\n",
       "      <td>-6.17</td>\n",
       "      <td>4.65</td>\n",
       "      <td>73.87</td>\n",
       "      <td>1.44</td>\n",
       "      <td>0.01</td>\n",
       "      <td>1.65</td>\n",
       "      <td>1.01</td>\n",
       "      <td>0.16</td>\n",
       "      <td>1.27</td>\n",
       "    </tr>\n",
       "    <tr>\n",
       "      <th>...</th>\n",
       "      <td>...</td>\n",
       "      <td>...</td>\n",
       "      <td>...</td>\n",
       "      <td>...</td>\n",
       "      <td>...</td>\n",
       "      <td>...</td>\n",
       "      <td>...</td>\n",
       "      <td>...</td>\n",
       "      <td>...</td>\n",
       "      <td>...</td>\n",
       "      <td>...</td>\n",
       "      <td>...</td>\n",
       "      <td>...</td>\n",
       "      <td>...</td>\n",
       "      <td>...</td>\n",
       "      <td>...</td>\n",
       "      <td>...</td>\n",
       "      <td>...</td>\n",
       "      <td>...</td>\n",
       "      <td>...</td>\n",
       "      <td>...</td>\n",
       "    </tr>\n",
       "    <tr>\n",
       "      <th>2020-12-17</th>\n",
       "      <td>1445.85</td>\n",
       "      <td>10.03</td>\n",
       "      <td>3.95</td>\n",
       "      <td>22790.81</td>\n",
       "      <td>-0.04</td>\n",
       "      <td>7935.71</td>\n",
       "      <td>2.84</td>\n",
       "      <td>80187763369133704478720.00</td>\n",
       "      <td>120924230791744995328.00</td>\n",
       "      <td>129.00</td>\n",
       "      <td>...</td>\n",
       "      <td>106.56</td>\n",
       "      <td>-0.57</td>\n",
       "      <td>5.84</td>\n",
       "      <td>89.82</td>\n",
       "      <td>1.22</td>\n",
       "      <td>0.01</td>\n",
       "      <td>1.35</td>\n",
       "      <td>0.78</td>\n",
       "      <td>0.12</td>\n",
       "      <td>1.13</td>\n",
       "    </tr>\n",
       "    <tr>\n",
       "      <th>2020-12-18</th>\n",
       "      <td>287.96</td>\n",
       "      <td>10.05</td>\n",
       "      <td>4.03</td>\n",
       "      <td>23078.76</td>\n",
       "      <td>-0.02</td>\n",
       "      <td>8072.93</td>\n",
       "      <td>2.83</td>\n",
       "      <td>80187763369133704478720.00</td>\n",
       "      <td>145575084110428995584.00</td>\n",
       "      <td>157.00</td>\n",
       "      <td>...</td>\n",
       "      <td>-9.11</td>\n",
       "      <td>-0.36</td>\n",
       "      <td>2.28</td>\n",
       "      <td>90.02</td>\n",
       "      <td>1.23</td>\n",
       "      <td>0.01</td>\n",
       "      <td>1.36</td>\n",
       "      <td>0.79</td>\n",
       "      <td>0.12</td>\n",
       "      <td>1.13</td>\n",
       "    </tr>\n",
       "    <tr>\n",
       "      <th>2020-12-21</th>\n",
       "      <td>-674.33</td>\n",
       "      <td>10.04</td>\n",
       "      <td>3.74</td>\n",
       "      <td>22875.46</td>\n",
       "      <td>-0.05</td>\n",
       "      <td>8205.79</td>\n",
       "      <td>2.83</td>\n",
       "      <td>80187763369133704478720.00</td>\n",
       "      <td>125467801265571004416.00</td>\n",
       "      <td>136.00</td>\n",
       "      <td>...</td>\n",
       "      <td>-13.12</td>\n",
       "      <td>3.59</td>\n",
       "      <td>-0.05</td>\n",
       "      <td>90.04</td>\n",
       "      <td>1.22</td>\n",
       "      <td>0.01</td>\n",
       "      <td>1.34</td>\n",
       "      <td>0.78</td>\n",
       "      <td>0.12</td>\n",
       "      <td>1.13</td>\n",
       "    </tr>\n",
       "    <tr>\n",
       "      <th>2020-12-22</th>\n",
       "      <td>883.48</td>\n",
       "      <td>10.08</td>\n",
       "      <td>2.89</td>\n",
       "      <td>23758.93</td>\n",
       "      <td>-0.02</td>\n",
       "      <td>8286.35</td>\n",
       "      <td>2.79</td>\n",
       "      <td>80187763369133704478720.00</td>\n",
       "      <td>132165952003620995072.00</td>\n",
       "      <td>143.00</td>\n",
       "      <td>...</td>\n",
       "      <td>65.40</td>\n",
       "      <td>-0.93</td>\n",
       "      <td>-0.49</td>\n",
       "      <td>90.65</td>\n",
       "      <td>1.22</td>\n",
       "      <td>0.01</td>\n",
       "      <td>1.34</td>\n",
       "      <td>0.78</td>\n",
       "      <td>0.12</td>\n",
       "      <td>1.13</td>\n",
       "    </tr>\n",
       "    <tr>\n",
       "      <th>2020-12-23</th>\n",
       "      <td>-479.38</td>\n",
       "      <td>10.06</td>\n",
       "      <td>3.13</td>\n",
       "      <td>23279.55</td>\n",
       "      <td>-0.04</td>\n",
       "      <td>8375.79</td>\n",
       "      <td>2.81</td>\n",
       "      <td>80187763369133704478720.00</td>\n",
       "      <td>146111617294112997376.00</td>\n",
       "      <td>154.00</td>\n",
       "      <td>...</td>\n",
       "      <td>-36.81</td>\n",
       "      <td>-0.92</td>\n",
       "      <td>-0.26</td>\n",
       "      <td>90.41</td>\n",
       "      <td>1.22</td>\n",
       "      <td>0.01</td>\n",
       "      <td>1.34</td>\n",
       "      <td>0.78</td>\n",
       "      <td>0.12</td>\n",
       "      <td>1.13</td>\n",
       "    </tr>\n",
       "  </tbody>\n",
       "</table>\n",
       "<p>2249 rows × 125 columns</p>\n",
       "</div>"
      ],
      "text/plain": [
       "            Daily Return in USD  Log Price in USD  \\\n",
       "Date                                                \n",
       "2011-08-17                 0.03              2.40   \n",
       "2011-08-18                -0.15              2.38   \n",
       "2011-08-19                 0.80              2.46   \n",
       "2011-08-22                -0.38              2.39   \n",
       "2011-08-23                -0.01              2.39   \n",
       "...                         ...               ...   \n",
       "2020-12-17              1445.85             10.03   \n",
       "2020-12-18               287.96             10.05   \n",
       "2020-12-21              -674.33             10.04   \n",
       "2020-12-22               883.48             10.08   \n",
       "2020-12-23              -479.38             10.06   \n",
       "\n",
       "            Volatility Daily Log Return in Percent 5D  market/price_usd_close  \\\n",
       "Date                                                                            \n",
       "2011-08-17                                       3.60                   10.99   \n",
       "2011-08-18                                       3.29                   10.85   \n",
       "2011-08-19                                       3.72                   11.65   \n",
       "2011-08-22                                       4.15                   10.94   \n",
       "2011-08-23                                       4.09                   10.93   \n",
       "...                                               ...                     ...   \n",
       "2020-12-17                                       3.95                22790.81   \n",
       "2020-12-18                                       4.03                23078.76   \n",
       "2020-12-21                                       3.74                22875.46   \n",
       "2020-12-22                                       2.89                23758.93   \n",
       "2020-12-23                                       3.13                23279.55   \n",
       "\n",
       "            market/price_drawdown_relative  market/price_realized_usd  \\\n",
       "Date                                                                    \n",
       "2011-08-17                           -0.66                       6.81   \n",
       "2011-08-18                           -0.66                       6.81   \n",
       "2011-08-19                           -0.63                       6.82   \n",
       "2011-08-22                           -0.66                       6.84   \n",
       "2011-08-23                           -0.66                       6.84   \n",
       "...                                    ...                        ...   \n",
       "2020-12-17                           -0.04                    7935.71   \n",
       "2020-12-18                           -0.02                    8072.93   \n",
       "2020-12-21                           -0.05                    8205.79   \n",
       "2020-12-22                           -0.02                    8286.35   \n",
       "2020-12-23                           -0.04                    8375.79   \n",
       "\n",
       "            market/mvrv   mining/difficulty_latest    mining/hash_rate_mean  \\\n",
       "Date                                                                          \n",
       "2011-08-17         1.60        7755426037811680.00        12230547335773.00   \n",
       "2011-08-18         1.60        7755426037811680.00        12915246321786.50   \n",
       "2011-08-19         1.65        7755426037811680.00        11678381642086.70   \n",
       "2011-08-22         1.63        7755426037811680.00        15232874647151.10   \n",
       "2011-08-23         1.61        7755426037811680.00        13087830283303.00   \n",
       "...                 ...                        ...                      ...   \n",
       "2020-12-17         2.84 80187763369133704478720.00 120924230791744995328.00   \n",
       "2020-12-18         2.83 80187763369133704478720.00 145575084110428995584.00   \n",
       "2020-12-21         2.83 80187763369133704478720.00 125467801265571004416.00   \n",
       "2020-12-22         2.79 80187763369133704478720.00 132165952003620995072.00   \n",
       "2020-12-23         2.81 80187763369133704478720.00 146111617294112997376.00   \n",
       "\n",
       "            blockchain/block_count  ...  NASDAQ Daily Change  \\\n",
       "Date                                ...                        \n",
       "2011-08-17                  136.00  ...               -11.97   \n",
       "2011-08-18                  144.00  ...              -131.05   \n",
       "2011-08-19                  131.00  ...               -38.59   \n",
       "2011-08-22                  169.00  ...                 3.54   \n",
       "2011-08-23                  155.00  ...               100.68   \n",
       "...                            ...  ...                  ...   \n",
       "2020-12-17                  129.00  ...               106.56   \n",
       "2020-12-18                  157.00  ...                -9.11   \n",
       "2020-12-21                  136.00  ...               -13.12   \n",
       "2020-12-22                  143.00  ...                65.40   \n",
       "2020-12-23                  154.00  ...               -36.81   \n",
       "\n",
       "            VIX Daily Change  CBOE Skew Daily Change  Close USD Index  \\\n",
       "Date                                                                    \n",
       "2011-08-17             -1.27                    3.75            73.67   \n",
       "2011-08-18             11.09                   -1.72            74.24   \n",
       "2011-08-19              0.38                   -0.39            73.99   \n",
       "2011-08-22             -0.61                   -4.65            74.07   \n",
       "2011-08-23             -6.17                    4.65            73.87   \n",
       "...                      ...                     ...              ...   \n",
       "2020-12-17             -0.57                    5.84            89.82   \n",
       "2020-12-18             -0.36                    2.28            90.02   \n",
       "2020-12-21              3.59                   -0.05            90.04   \n",
       "2020-12-22             -0.93                   -0.49            90.65   \n",
       "2020-12-23             -0.92                   -0.26            90.41   \n",
       "\n",
       "            Close EUR/USD  Close JPY/USD  Close GBP/USD  Close CAD/USD  \\\n",
       "Date                                                                     \n",
       "2011-08-17           1.44           0.01           1.64           1.02   \n",
       "2011-08-18           1.44           0.01           1.65           1.02   \n",
       "2011-08-19           1.43           0.01           1.65           1.01   \n",
       "2011-08-22           1.44           0.01           1.65           1.01   \n",
       "2011-08-23           1.44           0.01           1.65           1.01   \n",
       "...                   ...            ...            ...            ...   \n",
       "2020-12-17           1.22           0.01           1.35           0.78   \n",
       "2020-12-18           1.23           0.01           1.36           0.79   \n",
       "2020-12-21           1.22           0.01           1.34           0.78   \n",
       "2020-12-22           1.22           0.01           1.34           0.78   \n",
       "2020-12-23           1.22           0.01           1.34           0.78   \n",
       "\n",
       "            Close SEK/USD  Close CHF/USD  \n",
       "Date                                      \n",
       "2011-08-17           0.16           1.26  \n",
       "2011-08-18           0.16           1.27  \n",
       "2011-08-19           0.16           1.26  \n",
       "2011-08-22           0.16           1.27  \n",
       "2011-08-23           0.16           1.27  \n",
       "...                   ...            ...  \n",
       "2020-12-17           0.12           1.13  \n",
       "2020-12-18           0.12           1.13  \n",
       "2020-12-21           0.12           1.13  \n",
       "2020-12-22           0.12           1.13  \n",
       "2020-12-23           0.12           1.13  \n",
       "\n",
       "[2249 rows x 125 columns]"
      ]
     },
     "execution_count": 161,
     "metadata": {},
     "output_type": "execute_result"
    }
   ],
   "source": [
    "# Daily Return in USD in row 2011-07-16 means the change in \"btc dollar price\" from 2011-07-15 23:59 to 2011-07-16 23:59 \n",
    "# in row 2011-07-17 means the change in \"btc dollar price\" from 2011-07-16 23:59 to 2011-07-17 23:59 \n",
    "\n",
    "df_dataset1"
   ]
  },
  {
   "cell_type": "code",
   "execution_count": 162,
   "metadata": {
    "ExecuteTime": {
     "end_time": "2020-12-26T22:49:59.704445Z",
     "start_time": "2020-12-26T22:49:59.689450Z"
    }
   },
   "outputs": [],
   "source": [
    "#recalculate the correct \"Daily Return in USD\" for Friday-Monday problem\n",
    "df_dataset1[\"Daily Return in USD\"] = df_dataset1[\"market/price_usd_close\"].diff()"
   ]
  },
  {
   "cell_type": "code",
   "execution_count": 163,
   "metadata": {
    "ExecuteTime": {
     "end_time": "2020-12-26T22:49:59.720408Z",
     "start_time": "2020-12-26T22:49:59.705408Z"
    }
   },
   "outputs": [
    {
     "data": {
      "text/html": [
       "<div>\n",
       "<style scoped>\n",
       "    .dataframe tbody tr th:only-of-type {\n",
       "        vertical-align: middle;\n",
       "    }\n",
       "\n",
       "    .dataframe tbody tr th {\n",
       "        vertical-align: top;\n",
       "    }\n",
       "\n",
       "    .dataframe thead th {\n",
       "        text-align: right;\n",
       "    }\n",
       "</style>\n",
       "<table border=\"1\" class=\"dataframe\">\n",
       "  <thead>\n",
       "    <tr style=\"text-align: right;\">\n",
       "      <th></th>\n",
       "      <th>Daily Return in USD</th>\n",
       "      <th>market/price_usd_close</th>\n",
       "    </tr>\n",
       "    <tr>\n",
       "      <th>Date</th>\n",
       "      <th></th>\n",
       "      <th></th>\n",
       "    </tr>\n",
       "  </thead>\n",
       "  <tbody>\n",
       "    <tr>\n",
       "      <th>2011-08-17</th>\n",
       "      <td>nan</td>\n",
       "      <td>10.99</td>\n",
       "    </tr>\n",
       "    <tr>\n",
       "      <th>2011-08-18</th>\n",
       "      <td>-0.15</td>\n",
       "      <td>10.85</td>\n",
       "    </tr>\n",
       "    <tr>\n",
       "      <th>2011-08-19</th>\n",
       "      <td>0.80</td>\n",
       "      <td>11.65</td>\n",
       "    </tr>\n",
       "    <tr>\n",
       "      <th>2011-08-22</th>\n",
       "      <td>-0.71</td>\n",
       "      <td>10.94</td>\n",
       "    </tr>\n",
       "    <tr>\n",
       "      <th>2011-08-23</th>\n",
       "      <td>-0.01</td>\n",
       "      <td>10.93</td>\n",
       "    </tr>\n",
       "    <tr>\n",
       "      <th>...</th>\n",
       "      <td>...</td>\n",
       "      <td>...</td>\n",
       "    </tr>\n",
       "    <tr>\n",
       "      <th>2020-12-17</th>\n",
       "      <td>1445.85</td>\n",
       "      <td>22790.81</td>\n",
       "    </tr>\n",
       "    <tr>\n",
       "      <th>2020-12-18</th>\n",
       "      <td>287.96</td>\n",
       "      <td>23078.76</td>\n",
       "    </tr>\n",
       "    <tr>\n",
       "      <th>2020-12-21</th>\n",
       "      <td>-203.31</td>\n",
       "      <td>22875.46</td>\n",
       "    </tr>\n",
       "    <tr>\n",
       "      <th>2020-12-22</th>\n",
       "      <td>883.48</td>\n",
       "      <td>23758.93</td>\n",
       "    </tr>\n",
       "    <tr>\n",
       "      <th>2020-12-23</th>\n",
       "      <td>-479.38</td>\n",
       "      <td>23279.55</td>\n",
       "    </tr>\n",
       "  </tbody>\n",
       "</table>\n",
       "<p>2249 rows × 2 columns</p>\n",
       "</div>"
      ],
      "text/plain": [
       "            Daily Return in USD  market/price_usd_close\n",
       "Date                                                   \n",
       "2011-08-17                  nan                   10.99\n",
       "2011-08-18                -0.15                   10.85\n",
       "2011-08-19                 0.80                   11.65\n",
       "2011-08-22                -0.71                   10.94\n",
       "2011-08-23                -0.01                   10.93\n",
       "...                         ...                     ...\n",
       "2020-12-17              1445.85                22790.81\n",
       "2020-12-18               287.96                23078.76\n",
       "2020-12-21              -203.31                22875.46\n",
       "2020-12-22               883.48                23758.93\n",
       "2020-12-23              -479.38                23279.55\n",
       "\n",
       "[2249 rows x 2 columns]"
      ]
     },
     "execution_count": 163,
     "metadata": {},
     "output_type": "execute_result"
    }
   ],
   "source": [
    "df_dataset1[[\"Daily Return in USD\", \"market/price_usd_close\"]]"
   ]
  },
  {
   "cell_type": "code",
   "execution_count": 164,
   "metadata": {
    "ExecuteTime": {
     "end_time": "2020-12-26T22:49:59.736325Z",
     "start_time": "2020-12-26T22:49:59.721365Z"
    }
   },
   "outputs": [],
   "source": [
    "df_dataset1[\"Log Price in USD\"] = pd.DataFrame(np.log(df_dataset1['market/price_usd_close']))\n",
    "df_dataset1[\"Volatility Daily Log Return in Percent 5D\"] = 0\n"
   ]
  },
  {
   "cell_type": "code",
   "execution_count": 165,
   "metadata": {
    "ExecuteTime": {
     "end_time": "2020-12-26T22:49:59.752317Z",
     "start_time": "2020-12-26T22:49:59.737322Z"
    },
    "scrolled": true
   },
   "outputs": [
    {
     "name": "stdout",
     "output_type": "stream",
     "text": [
      "<class 'pandas.core.frame.DataFrame'>\n",
      "DatetimeIndex: 2249 entries, 2011-08-17 to 2020-12-23\n",
      "Columns: 125 entries, Daily Return in USD to Close CHF/USD\n",
      "dtypes: float64(124), int64(1)\n",
      "memory usage: 2.2 MB\n"
     ]
    }
   ],
   "source": [
    "# Data Set Info\n",
    "df_dataset1.info()"
   ]
  },
  {
   "cell_type": "code",
   "execution_count": 166,
   "metadata": {
    "ExecuteTime": {
     "end_time": "2020-12-26T22:49:59.768378Z",
     "start_time": "2020-12-26T22:49:59.754311Z"
    }
   },
   "outputs": [],
   "source": [
    "# List of Data Types\n",
    "l_dtypes = df_dataset1.dtypes"
   ]
  },
  {
   "cell_type": "code",
   "execution_count": 167,
   "metadata": {
    "ExecuteTime": {
     "end_time": "2020-12-26T22:49:59.784197Z",
     "start_time": "2020-12-26T22:49:59.770291Z"
    }
   },
   "outputs": [
    {
     "name": "stdout",
     "output_type": "stream",
     "text": [
      "124\n"
     ]
    }
   ],
   "source": [
    "# Counter\n",
    "counter = 0\n",
    "\n",
    "# Cross-Check of Data Types\n",
    "for i in l_dtypes:\n",
    "    if (i == float):\n",
    "        counter = counter+1\n",
    "    else:\n",
    "        counter = counter\n",
    "\n",
    "# Number of Float Data Types\n",
    "print(counter)"
   ]
  },
  {
   "cell_type": "code",
   "execution_count": 168,
   "metadata": {
    "ExecuteTime": {
     "end_time": "2020-12-26T22:49:59.799411Z",
     "start_time": "2020-12-26T22:49:59.785272Z"
    }
   },
   "outputs": [
    {
     "data": {
      "text/plain": [
       "Daily Return in USD                          float64\n",
       "Log Price in USD                             float64\n",
       "Volatility Daily Log Return in Percent 5D      int64\n",
       "market/price_usd_close                       float64\n",
       "market/price_drawdown_relative               float64\n",
       "                                              ...   \n",
       "Close JPY/USD                                float64\n",
       "Close GBP/USD                                float64\n",
       "Close CAD/USD                                float64\n",
       "Close SEK/USD                                float64\n",
       "Close CHF/USD                                float64\n",
       "Length: 125, dtype: object"
      ]
     },
     "execution_count": 168,
     "metadata": {},
     "output_type": "execute_result"
    }
   ],
   "source": [
    "# Data Types\n",
    "df_dataset1.dtypes"
   ]
  },
  {
   "cell_type": "code",
   "execution_count": 169,
   "metadata": {
    "ExecuteTime": {
     "end_time": "2020-12-26T22:50:00.019603Z",
     "start_time": "2020-12-26T22:49:59.800169Z"
    }
   },
   "outputs": [
    {
     "data": {
      "text/html": [
       "<div>\n",
       "<style scoped>\n",
       "    .dataframe tbody tr th:only-of-type {\n",
       "        vertical-align: middle;\n",
       "    }\n",
       "\n",
       "    .dataframe tbody tr th {\n",
       "        vertical-align: top;\n",
       "    }\n",
       "\n",
       "    .dataframe thead th {\n",
       "        text-align: right;\n",
       "    }\n",
       "</style>\n",
       "<table border=\"1\" class=\"dataframe\">\n",
       "  <thead>\n",
       "    <tr style=\"text-align: right;\">\n",
       "      <th></th>\n",
       "      <th>Daily Return in USD</th>\n",
       "      <th>Log Price in USD</th>\n",
       "      <th>Volatility Daily Log Return in Percent 5D</th>\n",
       "      <th>market/price_usd_close</th>\n",
       "      <th>market/price_drawdown_relative</th>\n",
       "      <th>market/price_realized_usd</th>\n",
       "      <th>market/mvrv</th>\n",
       "      <th>mining/difficulty_latest</th>\n",
       "      <th>mining/hash_rate_mean</th>\n",
       "      <th>blockchain/block_count</th>\n",
       "      <th>...</th>\n",
       "      <th>NASDAQ Daily Change</th>\n",
       "      <th>VIX Daily Change</th>\n",
       "      <th>CBOE Skew Daily Change</th>\n",
       "      <th>Close USD Index</th>\n",
       "      <th>Close EUR/USD</th>\n",
       "      <th>Close JPY/USD</th>\n",
       "      <th>Close GBP/USD</th>\n",
       "      <th>Close CAD/USD</th>\n",
       "      <th>Close SEK/USD</th>\n",
       "      <th>Close CHF/USD</th>\n",
       "    </tr>\n",
       "  </thead>\n",
       "  <tbody>\n",
       "    <tr>\n",
       "      <th>count</th>\n",
       "      <td>2248.00</td>\n",
       "      <td>2249.00</td>\n",
       "      <td>2249.00</td>\n",
       "      <td>2249.00</td>\n",
       "      <td>2249.00</td>\n",
       "      <td>2249.00</td>\n",
       "      <td>2249.00</td>\n",
       "      <td>2249.00</td>\n",
       "      <td>2249.00</td>\n",
       "      <td>2249.00</td>\n",
       "      <td>...</td>\n",
       "      <td>2249.00</td>\n",
       "      <td>2249.00</td>\n",
       "      <td>2249.00</td>\n",
       "      <td>2249.00</td>\n",
       "      <td>2249.00</td>\n",
       "      <td>2249.00</td>\n",
       "      <td>2249.00</td>\n",
       "      <td>2249.00</td>\n",
       "      <td>2249.00</td>\n",
       "      <td>2249.00</td>\n",
       "    </tr>\n",
       "    <tr>\n",
       "      <th>mean</th>\n",
       "      <td>10.35</td>\n",
       "      <td>6.41</td>\n",
       "      <td>0.00</td>\n",
       "      <td>3322.47</td>\n",
       "      <td>-0.54</td>\n",
       "      <td>1974.41</td>\n",
       "      <td>1.69</td>\n",
       "      <td>14525612276244186923008.00</td>\n",
       "      <td>24459615249953652736.00</td>\n",
       "      <td>152.04</td>\n",
       "      <td>...</td>\n",
       "      <td>4.49</td>\n",
       "      <td>-0.01</td>\n",
       "      <td>0.03</td>\n",
       "      <td>90.71</td>\n",
       "      <td>1.20</td>\n",
       "      <td>0.01</td>\n",
       "      <td>1.44</td>\n",
       "      <td>0.84</td>\n",
       "      <td>0.13</td>\n",
       "      <td>1.05</td>\n",
       "    </tr>\n",
       "    <tr>\n",
       "      <th>std</th>\n",
       "      <td>272.82</td>\n",
       "      <td>2.47</td>\n",
       "      <td>0.00</td>\n",
       "      <td>4418.09</td>\n",
       "      <td>0.24</td>\n",
       "      <td>2437.96</td>\n",
       "      <td>0.75</td>\n",
       "      <td>23935064865626189201408.00</td>\n",
       "      <td>40141281990894952448.00</td>\n",
       "      <td>18.89</td>\n",
       "      <td>...</td>\n",
       "      <td>83.74</td>\n",
       "      <td>1.86</td>\n",
       "      <td>3.84</td>\n",
       "      <td>7.73</td>\n",
       "      <td>0.10</td>\n",
       "      <td>0.00</td>\n",
       "      <td>0.15</td>\n",
       "      <td>0.10</td>\n",
       "      <td>0.02</td>\n",
       "      <td>0.04</td>\n",
       "    </tr>\n",
       "    <tr>\n",
       "      <th>min</th>\n",
       "      <td>-3052.46</td>\n",
       "      <td>0.72</td>\n",
       "      <td>0.00</td>\n",
       "      <td>2.05</td>\n",
       "      <td>-0.94</td>\n",
       "      <td>4.78</td>\n",
       "      <td>0.40</td>\n",
       "      <td>4684588175054590.00</td>\n",
       "      <td>6399665203131.94</td>\n",
       "      <td>89.00</td>\n",
       "      <td>...</td>\n",
       "      <td>-970.29</td>\n",
       "      <td>-17.64</td>\n",
       "      <td>-22.81</td>\n",
       "      <td>73.67</td>\n",
       "      <td>1.04</td>\n",
       "      <td>0.01</td>\n",
       "      <td>1.15</td>\n",
       "      <td>0.69</td>\n",
       "      <td>0.10</td>\n",
       "      <td>0.97</td>\n",
       "    </tr>\n",
       "    <tr>\n",
       "      <th>25%</th>\n",
       "      <td>-8.38</td>\n",
       "      <td>5.43</td>\n",
       "      <td>0.00</td>\n",
       "      <td>227.37</td>\n",
       "      <td>-0.71</td>\n",
       "      <td>254.97</td>\n",
       "      <td>1.18</td>\n",
       "      <td>3901337247460400128.00</td>\n",
       "      <td>9084533497378490.00</td>\n",
       "      <td>140.00</td>\n",
       "      <td>...</td>\n",
       "      <td>-20.82</td>\n",
       "      <td>-0.72</td>\n",
       "      <td>-1.68</td>\n",
       "      <td>81.73</td>\n",
       "      <td>1.12</td>\n",
       "      <td>0.01</td>\n",
       "      <td>1.30</td>\n",
       "      <td>0.76</td>\n",
       "      <td>0.11</td>\n",
       "      <td>1.01</td>\n",
       "    </tr>\n",
       "    <tr>\n",
       "      <th>50%</th>\n",
       "      <td>0.15</td>\n",
       "      <td>6.43</td>\n",
       "      <td>0.00</td>\n",
       "      <td>621.83</td>\n",
       "      <td>-0.59</td>\n",
       "      <td>353.69</td>\n",
       "      <td>1.60</td>\n",
       "      <td>767335669260638093312.00</td>\n",
       "      <td>1289104886357850112.00</td>\n",
       "      <td>151.00</td>\n",
       "      <td>...</td>\n",
       "      <td>5.60</td>\n",
       "      <td>-0.08</td>\n",
       "      <td>0.00</td>\n",
       "      <td>93.96</td>\n",
       "      <td>1.17</td>\n",
       "      <td>0.01</td>\n",
       "      <td>1.43</td>\n",
       "      <td>0.78</td>\n",
       "      <td>0.12</td>\n",
       "      <td>1.04</td>\n",
       "    </tr>\n",
       "    <tr>\n",
       "      <th>75%</th>\n",
       "      <td>16.65</td>\n",
       "      <td>8.79</td>\n",
       "      <td>0.00</td>\n",
       "      <td>6589.25</td>\n",
       "      <td>-0.44</td>\n",
       "      <td>4971.49</td>\n",
       "      <td>1.98</td>\n",
       "      <td>24251119882350098382848.00</td>\n",
       "      <td>39829559916680699904.00</td>\n",
       "      <td>163.00</td>\n",
       "      <td>...</td>\n",
       "      <td>34.43</td>\n",
       "      <td>0.54</td>\n",
       "      <td>1.71</td>\n",
       "      <td>97.09</td>\n",
       "      <td>1.30</td>\n",
       "      <td>0.01</td>\n",
       "      <td>1.57</td>\n",
       "      <td>0.94</td>\n",
       "      <td>0.15</td>\n",
       "      <td>1.08</td>\n",
       "    </tr>\n",
       "    <tr>\n",
       "      <th>max</th>\n",
       "      <td>3224.13</td>\n",
       "      <td>10.08</td>\n",
       "      <td>0.00</td>\n",
       "      <td>23758.93</td>\n",
       "      <td>-0.00</td>\n",
       "      <td>8375.79</td>\n",
       "      <td>5.44</td>\n",
       "      <td>85887904103269694177280.00</td>\n",
       "      <td>160765244797356015616.00</td>\n",
       "      <td>260.00</td>\n",
       "      <td>...</td>\n",
       "      <td>673.08</td>\n",
       "      <td>24.86</td>\n",
       "      <td>30.61</td>\n",
       "      <td>103.29</td>\n",
       "      <td>1.45</td>\n",
       "      <td>0.01</td>\n",
       "      <td>1.72</td>\n",
       "      <td>1.03</td>\n",
       "      <td>0.16</td>\n",
       "      <td>1.27</td>\n",
       "    </tr>\n",
       "  </tbody>\n",
       "</table>\n",
       "<p>8 rows × 125 columns</p>\n",
       "</div>"
      ],
      "text/plain": [
       "       Daily Return in USD  Log Price in USD  \\\n",
       "count              2248.00           2249.00   \n",
       "mean                 10.35              6.41   \n",
       "std                 272.82              2.47   \n",
       "min               -3052.46              0.72   \n",
       "25%                  -8.38              5.43   \n",
       "50%                   0.15              6.43   \n",
       "75%                  16.65              8.79   \n",
       "max                3224.13             10.08   \n",
       "\n",
       "       Volatility Daily Log Return in Percent 5D  market/price_usd_close  \\\n",
       "count                                    2249.00                 2249.00   \n",
       "mean                                        0.00                 3322.47   \n",
       "std                                         0.00                 4418.09   \n",
       "min                                         0.00                    2.05   \n",
       "25%                                         0.00                  227.37   \n",
       "50%                                         0.00                  621.83   \n",
       "75%                                         0.00                 6589.25   \n",
       "max                                         0.00                23758.93   \n",
       "\n",
       "       market/price_drawdown_relative  market/price_realized_usd  market/mvrv  \\\n",
       "count                         2249.00                    2249.00      2249.00   \n",
       "mean                            -0.54                    1974.41         1.69   \n",
       "std                              0.24                    2437.96         0.75   \n",
       "min                             -0.94                       4.78         0.40   \n",
       "25%                             -0.71                     254.97         1.18   \n",
       "50%                             -0.59                     353.69         1.60   \n",
       "75%                             -0.44                    4971.49         1.98   \n",
       "max                             -0.00                    8375.79         5.44   \n",
       "\n",
       "        mining/difficulty_latest    mining/hash_rate_mean  \\\n",
       "count                    2249.00                  2249.00   \n",
       "mean  14525612276244186923008.00  24459615249953652736.00   \n",
       "std   23935064865626189201408.00  40141281990894952448.00   \n",
       "min          4684588175054590.00         6399665203131.94   \n",
       "25%       3901337247460400128.00      9084533497378490.00   \n",
       "50%     767335669260638093312.00   1289104886357850112.00   \n",
       "75%   24251119882350098382848.00  39829559916680699904.00   \n",
       "max   85887904103269694177280.00 160765244797356015616.00   \n",
       "\n",
       "       blockchain/block_count  ...  NASDAQ Daily Change  VIX Daily Change  \\\n",
       "count                 2249.00  ...              2249.00           2249.00   \n",
       "mean                   152.04  ...                 4.49             -0.01   \n",
       "std                     18.89  ...                83.74              1.86   \n",
       "min                     89.00  ...              -970.29            -17.64   \n",
       "25%                    140.00  ...               -20.82             -0.72   \n",
       "50%                    151.00  ...                 5.60             -0.08   \n",
       "75%                    163.00  ...                34.43              0.54   \n",
       "max                    260.00  ...               673.08             24.86   \n",
       "\n",
       "       CBOE Skew Daily Change  Close USD Index  Close EUR/USD  Close JPY/USD  \\\n",
       "count                 2249.00          2249.00        2249.00        2249.00   \n",
       "mean                     0.03            90.71           1.20           0.01   \n",
       "std                      3.84             7.73           0.10           0.00   \n",
       "min                    -22.81            73.67           1.04           0.01   \n",
       "25%                     -1.68            81.73           1.12           0.01   \n",
       "50%                      0.00            93.96           1.17           0.01   \n",
       "75%                      1.71            97.09           1.30           0.01   \n",
       "max                     30.61           103.29           1.45           0.01   \n",
       "\n",
       "       Close GBP/USD  Close CAD/USD  Close SEK/USD  Close CHF/USD  \n",
       "count        2249.00        2249.00        2249.00        2249.00  \n",
       "mean            1.44           0.84           0.13           1.05  \n",
       "std             0.15           0.10           0.02           0.04  \n",
       "min             1.15           0.69           0.10           0.97  \n",
       "25%             1.30           0.76           0.11           1.01  \n",
       "50%             1.43           0.78           0.12           1.04  \n",
       "75%             1.57           0.94           0.15           1.08  \n",
       "max             1.72           1.03           0.16           1.27  \n",
       "\n",
       "[8 rows x 125 columns]"
      ]
     },
     "execution_count": 169,
     "metadata": {},
     "output_type": "execute_result"
    }
   ],
   "source": [
    "# Summary Statistics\n",
    "df_dataset1.describe()"
   ]
  },
  {
   "cell_type": "code",
   "execution_count": 170,
   "metadata": {
    "ExecuteTime": {
     "end_time": "2020-12-26T22:50:00.035526Z",
     "start_time": "2020-12-26T22:50:00.020599Z"
    }
   },
   "outputs": [
    {
     "data": {
      "text/html": [
       "<div>\n",
       "<style scoped>\n",
       "    .dataframe tbody tr th:only-of-type {\n",
       "        vertical-align: middle;\n",
       "    }\n",
       "\n",
       "    .dataframe tbody tr th {\n",
       "        vertical-align: top;\n",
       "    }\n",
       "\n",
       "    .dataframe thead th {\n",
       "        text-align: right;\n",
       "    }\n",
       "</style>\n",
       "<table border=\"1\" class=\"dataframe\">\n",
       "  <thead>\n",
       "    <tr style=\"text-align: right;\">\n",
       "      <th></th>\n",
       "      <th>Daily Return in USD</th>\n",
       "      <th>Log Price in USD</th>\n",
       "      <th>Volatility Daily Log Return in Percent 5D</th>\n",
       "      <th>market/price_usd_close</th>\n",
       "      <th>market/price_drawdown_relative</th>\n",
       "      <th>market/price_realized_usd</th>\n",
       "      <th>market/mvrv</th>\n",
       "      <th>mining/difficulty_latest</th>\n",
       "      <th>mining/hash_rate_mean</th>\n",
       "      <th>blockchain/block_count</th>\n",
       "      <th>...</th>\n",
       "      <th>NASDAQ Daily Change</th>\n",
       "      <th>VIX Daily Change</th>\n",
       "      <th>CBOE Skew Daily Change</th>\n",
       "      <th>Close USD Index</th>\n",
       "      <th>Close EUR/USD</th>\n",
       "      <th>Close JPY/USD</th>\n",
       "      <th>Close GBP/USD</th>\n",
       "      <th>Close CAD/USD</th>\n",
       "      <th>Close SEK/USD</th>\n",
       "      <th>Close CHF/USD</th>\n",
       "    </tr>\n",
       "    <tr>\n",
       "      <th>Date</th>\n",
       "      <th></th>\n",
       "      <th></th>\n",
       "      <th></th>\n",
       "      <th></th>\n",
       "      <th></th>\n",
       "      <th></th>\n",
       "      <th></th>\n",
       "      <th></th>\n",
       "      <th></th>\n",
       "      <th></th>\n",
       "      <th></th>\n",
       "      <th></th>\n",
       "      <th></th>\n",
       "      <th></th>\n",
       "      <th></th>\n",
       "      <th></th>\n",
       "      <th></th>\n",
       "      <th></th>\n",
       "      <th></th>\n",
       "      <th></th>\n",
       "      <th></th>\n",
       "    </tr>\n",
       "  </thead>\n",
       "  <tbody>\n",
       "    <tr>\n",
       "      <th>2020-12-17</th>\n",
       "      <td>1445.85</td>\n",
       "      <td>10.03</td>\n",
       "      <td>0</td>\n",
       "      <td>22790.81</td>\n",
       "      <td>-0.04</td>\n",
       "      <td>7935.71</td>\n",
       "      <td>2.84</td>\n",
       "      <td>80187763369133704478720.00</td>\n",
       "      <td>120924230791744995328.00</td>\n",
       "      <td>129.00</td>\n",
       "      <td>...</td>\n",
       "      <td>106.56</td>\n",
       "      <td>-0.57</td>\n",
       "      <td>5.84</td>\n",
       "      <td>89.82</td>\n",
       "      <td>1.22</td>\n",
       "      <td>0.01</td>\n",
       "      <td>1.35</td>\n",
       "      <td>0.78</td>\n",
       "      <td>0.12</td>\n",
       "      <td>1.13</td>\n",
       "    </tr>\n",
       "    <tr>\n",
       "      <th>2020-12-18</th>\n",
       "      <td>287.96</td>\n",
       "      <td>10.05</td>\n",
       "      <td>0</td>\n",
       "      <td>23078.76</td>\n",
       "      <td>-0.02</td>\n",
       "      <td>8072.93</td>\n",
       "      <td>2.83</td>\n",
       "      <td>80187763369133704478720.00</td>\n",
       "      <td>145575084110428995584.00</td>\n",
       "      <td>157.00</td>\n",
       "      <td>...</td>\n",
       "      <td>-9.11</td>\n",
       "      <td>-0.36</td>\n",
       "      <td>2.28</td>\n",
       "      <td>90.02</td>\n",
       "      <td>1.23</td>\n",
       "      <td>0.01</td>\n",
       "      <td>1.36</td>\n",
       "      <td>0.79</td>\n",
       "      <td>0.12</td>\n",
       "      <td>1.13</td>\n",
       "    </tr>\n",
       "    <tr>\n",
       "      <th>2020-12-21</th>\n",
       "      <td>-203.31</td>\n",
       "      <td>10.04</td>\n",
       "      <td>0</td>\n",
       "      <td>22875.46</td>\n",
       "      <td>-0.05</td>\n",
       "      <td>8205.79</td>\n",
       "      <td>2.83</td>\n",
       "      <td>80187763369133704478720.00</td>\n",
       "      <td>125467801265571004416.00</td>\n",
       "      <td>136.00</td>\n",
       "      <td>...</td>\n",
       "      <td>-13.12</td>\n",
       "      <td>3.59</td>\n",
       "      <td>-0.05</td>\n",
       "      <td>90.04</td>\n",
       "      <td>1.22</td>\n",
       "      <td>0.01</td>\n",
       "      <td>1.34</td>\n",
       "      <td>0.78</td>\n",
       "      <td>0.12</td>\n",
       "      <td>1.13</td>\n",
       "    </tr>\n",
       "    <tr>\n",
       "      <th>2020-12-22</th>\n",
       "      <td>883.48</td>\n",
       "      <td>10.08</td>\n",
       "      <td>0</td>\n",
       "      <td>23758.93</td>\n",
       "      <td>-0.02</td>\n",
       "      <td>8286.35</td>\n",
       "      <td>2.79</td>\n",
       "      <td>80187763369133704478720.00</td>\n",
       "      <td>132165952003620995072.00</td>\n",
       "      <td>143.00</td>\n",
       "      <td>...</td>\n",
       "      <td>65.40</td>\n",
       "      <td>-0.93</td>\n",
       "      <td>-0.49</td>\n",
       "      <td>90.65</td>\n",
       "      <td>1.22</td>\n",
       "      <td>0.01</td>\n",
       "      <td>1.34</td>\n",
       "      <td>0.78</td>\n",
       "      <td>0.12</td>\n",
       "      <td>1.13</td>\n",
       "    </tr>\n",
       "    <tr>\n",
       "      <th>2020-12-23</th>\n",
       "      <td>-479.38</td>\n",
       "      <td>10.06</td>\n",
       "      <td>0</td>\n",
       "      <td>23279.55</td>\n",
       "      <td>-0.04</td>\n",
       "      <td>8375.79</td>\n",
       "      <td>2.81</td>\n",
       "      <td>80187763369133704478720.00</td>\n",
       "      <td>146111617294112997376.00</td>\n",
       "      <td>154.00</td>\n",
       "      <td>...</td>\n",
       "      <td>-36.81</td>\n",
       "      <td>-0.92</td>\n",
       "      <td>-0.26</td>\n",
       "      <td>90.41</td>\n",
       "      <td>1.22</td>\n",
       "      <td>0.01</td>\n",
       "      <td>1.34</td>\n",
       "      <td>0.78</td>\n",
       "      <td>0.12</td>\n",
       "      <td>1.13</td>\n",
       "    </tr>\n",
       "  </tbody>\n",
       "</table>\n",
       "<p>5 rows × 125 columns</p>\n",
       "</div>"
      ],
      "text/plain": [
       "            Daily Return in USD  Log Price in USD  \\\n",
       "Date                                                \n",
       "2020-12-17              1445.85             10.03   \n",
       "2020-12-18               287.96             10.05   \n",
       "2020-12-21              -203.31             10.04   \n",
       "2020-12-22               883.48             10.08   \n",
       "2020-12-23              -479.38             10.06   \n",
       "\n",
       "            Volatility Daily Log Return in Percent 5D  market/price_usd_close  \\\n",
       "Date                                                                            \n",
       "2020-12-17                                          0                22790.81   \n",
       "2020-12-18                                          0                23078.76   \n",
       "2020-12-21                                          0                22875.46   \n",
       "2020-12-22                                          0                23758.93   \n",
       "2020-12-23                                          0                23279.55   \n",
       "\n",
       "            market/price_drawdown_relative  market/price_realized_usd  \\\n",
       "Date                                                                    \n",
       "2020-12-17                           -0.04                    7935.71   \n",
       "2020-12-18                           -0.02                    8072.93   \n",
       "2020-12-21                           -0.05                    8205.79   \n",
       "2020-12-22                           -0.02                    8286.35   \n",
       "2020-12-23                           -0.04                    8375.79   \n",
       "\n",
       "            market/mvrv   mining/difficulty_latest    mining/hash_rate_mean  \\\n",
       "Date                                                                          \n",
       "2020-12-17         2.84 80187763369133704478720.00 120924230791744995328.00   \n",
       "2020-12-18         2.83 80187763369133704478720.00 145575084110428995584.00   \n",
       "2020-12-21         2.83 80187763369133704478720.00 125467801265571004416.00   \n",
       "2020-12-22         2.79 80187763369133704478720.00 132165952003620995072.00   \n",
       "2020-12-23         2.81 80187763369133704478720.00 146111617294112997376.00   \n",
       "\n",
       "            blockchain/block_count  ...  NASDAQ Daily Change  \\\n",
       "Date                                ...                        \n",
       "2020-12-17                  129.00  ...               106.56   \n",
       "2020-12-18                  157.00  ...                -9.11   \n",
       "2020-12-21                  136.00  ...               -13.12   \n",
       "2020-12-22                  143.00  ...                65.40   \n",
       "2020-12-23                  154.00  ...               -36.81   \n",
       "\n",
       "            VIX Daily Change  CBOE Skew Daily Change  Close USD Index  \\\n",
       "Date                                                                    \n",
       "2020-12-17             -0.57                    5.84            89.82   \n",
       "2020-12-18             -0.36                    2.28            90.02   \n",
       "2020-12-21              3.59                   -0.05            90.04   \n",
       "2020-12-22             -0.93                   -0.49            90.65   \n",
       "2020-12-23             -0.92                   -0.26            90.41   \n",
       "\n",
       "            Close EUR/USD  Close JPY/USD  Close GBP/USD  Close CAD/USD  \\\n",
       "Date                                                                     \n",
       "2020-12-17           1.22           0.01           1.35           0.78   \n",
       "2020-12-18           1.23           0.01           1.36           0.79   \n",
       "2020-12-21           1.22           0.01           1.34           0.78   \n",
       "2020-12-22           1.22           0.01           1.34           0.78   \n",
       "2020-12-23           1.22           0.01           1.34           0.78   \n",
       "\n",
       "            Close SEK/USD  Close CHF/USD  \n",
       "Date                                      \n",
       "2020-12-17           0.12           1.13  \n",
       "2020-12-18           0.12           1.13  \n",
       "2020-12-21           0.12           1.13  \n",
       "2020-12-22           0.12           1.13  \n",
       "2020-12-23           0.12           1.13  \n",
       "\n",
       "[5 rows x 125 columns]"
      ]
     },
     "execution_count": 170,
     "metadata": {},
     "output_type": "execute_result"
    }
   ],
   "source": [
    "# Dataset Tail\n",
    "df_dataset1.tail()"
   ]
  },
  {
   "cell_type": "code",
   "execution_count": 171,
   "metadata": {
    "ExecuteTime": {
     "end_time": "2020-12-26T22:50:00.051554Z",
     "start_time": "2020-12-26T22:50:00.036524Z"
    }
   },
   "outputs": [
    {
     "data": {
      "text/plain": [
       "125"
      ]
     },
     "execution_count": 171,
     "metadata": {},
     "output_type": "execute_result"
    }
   ],
   "source": [
    "len( df_dataset1.columns)"
   ]
  },
  {
   "cell_type": "markdown",
   "metadata": {},
   "source": [
    "## Prediction Shift"
   ]
  },
  {
   "cell_type": "code",
   "execution_count": 172,
   "metadata": {
    "ExecuteTime": {
     "end_time": "2020-12-26T22:50:00.067475Z",
     "start_time": "2020-12-26T22:50:00.052514Z"
    }
   },
   "outputs": [
    {
     "name": "stdout",
     "output_type": "stream",
     "text": [
      "Daily Return in USD\n",
      "Log Price in USD\n",
      "Volatility Daily Log Return in Percent 5D\n",
      "market/price_usd_close\n",
      "market/price_drawdown_relative\n",
      "market/price_realized_usd\n",
      "market/mvrv\n",
      "mining/difficulty_latest\n",
      "mining/hash_rate_mean\n",
      "blockchain/block_count\n",
      "blockchain/block_interval_mean\n",
      "blockchain/block_size_sum\n",
      "fees/volume_sum\n",
      "fees/volume_mean\n",
      "fees/fee_ratio_multiple\n",
      "blockchain/utxo_created_count\n",
      "blockchain/utxo_spent_count\n",
      "blockchain/utxo_created_value_sum\n",
      "blockchain/utxo_spent_value_sum\n",
      "blockchain/utxo_profit_relative\n",
      "blockchain/utxo_profit_count\n",
      "blockchain/utxo_loss_count\n",
      "supply/current\n",
      "supply/profit_relative\n",
      "supply/profit_sum\n",
      "supply/loss_sum\n",
      "supply/active_more_1y_percent\n",
      "supply/active_more_2y_percent\n",
      "supply/active_more_3y_percent\n",
      "supply/active_more_5y_percent\n",
      "supply/active_24h\n",
      "supply/active_1d_1w\n",
      "supply/active_1w_1m\n",
      "supply/active_1m_3m\n",
      "supply/active_3m_6m\n",
      "supply/active_6m_12m\n",
      "supply/active_1y_2y\n",
      "supply/active_2y_3y\n",
      "supply/active_3y_5y\n",
      "supply/active_5y_7y\n",
      "supply/active_7y_10y\n",
      "supply/active_more_10y\n",
      "supply/issued\n",
      "supply/inflation_rate\n",
      "transactions/count\n",
      "transactions/size_sum\n",
      "transactions/transfers_volume_sum\n",
      "transactions/transfers_volume_adjusted_sum\n",
      "indicators/sopr_adjusted\n",
      "indicators/nvt\n",
      "indicators/velocity\n",
      "indicators/cdd\n",
      "indicators/reserve_risk\n",
      "indicators/average_dormancy\n",
      "indicators/liveliness\n",
      "indicators/asol\n",
      "indicators/sol_1h\n",
      "indicators/sol_1h_24h\n",
      "indicators/sol_1d_1w\n",
      "indicators/sol_1w_1m\n",
      "indicators/sol_1m_3m\n",
      "indicators/sol_3m_6m\n",
      "indicators/sol_6m_12m\n",
      "indicators/sol_1y_2y\n",
      "indicators/sol_2y_3y\n",
      "indicators/sol_3y_5y\n",
      "indicators/sol_5y_7y\n",
      "indicators/sol_7y_10y\n",
      "indicators/net_unrealized_profit_loss\n",
      "indicators/unrealized_profit\n",
      "indicators/unrealized_loss\n",
      "indicators/net_realized_profit_loss\n",
      "indicators/realized_profit\n",
      "indicators/realized_loss\n",
      "indicators/nupl_more_155\n",
      "indicators/nupl_less_155\n",
      "indicators/puell_multiple\n",
      "indicators/stock_to_flow_deflection\n",
      "indicators/difficulty_ribbon_compression\n",
      "addresses/active_count\n",
      "addresses/sending_count\n",
      "addresses/receiving_count\n",
      "addresses/new_non_zero_count\n",
      "addresses/non_zero_count\n",
      "addresses/min_point_zero_1_count\n",
      "addresses/min_point_1_count\n",
      "addresses/min_1_count\n",
      "addresses/min_10_count\n",
      "addresses/min_100_count\n",
      "addresses/min_1k_count\n",
      "addresses/min_10k_count\n",
      "transactions/transfers_volume_to_exchanges_sum\n",
      "transactions/transfers_volume_from_exchanges_sum\n",
      "transactions/transfers_to_exchanges_count\n",
      "transactions/transfers_from_exchanges_count\n",
      "transactions/transfers_volume_exchanges_net\n",
      "distribution/balance_exchanges\n",
      "Close Gold\n",
      "Close Silver\n",
      "Close WTI Crude Oil\n",
      "Close Natural Gas\n",
      "Close Treasury Yield 5 Years\n",
      "Close Treasury Yield 10 Years\n",
      "Treasury Yield 30 Years\n",
      "Close Dow Jones Industrial Average\n",
      "Close Russell 2000\n",
      "Close S&P 500\n",
      "Close EURO STOXX 50\n",
      "Close NASDAQ\n",
      "Close VIX\n",
      "Close CBOE Skew\n",
      "Dow Jones Industrial Average Daily Change\n",
      "Russell 2000 Daily Change\n",
      "S&P 500 Daily Change\n",
      "EURO STOXX 50 Daily Change\n",
      "NASDAQ Daily Change\n",
      "VIX Daily Change\n",
      "CBOE Skew Daily Change\n",
      "Close USD Index\n",
      "Close EUR/USD\n",
      "Close JPY/USD\n",
      "Close GBP/USD\n",
      "Close CAD/USD\n",
      "Close SEK/USD\n",
      "Close CHF/USD\n"
     ]
    }
   ],
   "source": [
    "for x in df_dataset1.columns:\n",
    "    print(x)"
   ]
  },
  {
   "cell_type": "markdown",
   "metadata": {},
   "source": [
    "### Data Set I."
   ]
  },
  {
   "cell_type": "code",
   "execution_count": 173,
   "metadata": {
    "ExecuteTime": {
     "end_time": "2020-12-26T22:50:00.099356Z",
     "start_time": "2020-12-26T22:50:00.084399Z"
    }
   },
   "outputs": [
    {
     "data": {
      "text/html": [
       "<div>\n",
       "<style scoped>\n",
       "    .dataframe tbody tr th:only-of-type {\n",
       "        vertical-align: middle;\n",
       "    }\n",
       "\n",
       "    .dataframe tbody tr th {\n",
       "        vertical-align: top;\n",
       "    }\n",
       "\n",
       "    .dataframe thead th {\n",
       "        text-align: right;\n",
       "    }\n",
       "</style>\n",
       "<table border=\"1\" class=\"dataframe\">\n",
       "  <thead>\n",
       "    <tr style=\"text-align: right;\">\n",
       "      <th></th>\n",
       "      <th>Daily Return in USD</th>\n",
       "      <th>Log Price in USD</th>\n",
       "      <th>Volatility Daily Log Return in Percent 5D</th>\n",
       "      <th>market/price_usd_close</th>\n",
       "    </tr>\n",
       "    <tr>\n",
       "      <th>Date</th>\n",
       "      <th></th>\n",
       "      <th></th>\n",
       "      <th></th>\n",
       "      <th></th>\n",
       "    </tr>\n",
       "  </thead>\n",
       "  <tbody>\n",
       "    <tr>\n",
       "      <th>2011-08-17</th>\n",
       "      <td>nan</td>\n",
       "      <td>2.40</td>\n",
       "      <td>0</td>\n",
       "      <td>10.99</td>\n",
       "    </tr>\n",
       "    <tr>\n",
       "      <th>2011-08-18</th>\n",
       "      <td>-0.15</td>\n",
       "      <td>2.38</td>\n",
       "      <td>0</td>\n",
       "      <td>10.85</td>\n",
       "    </tr>\n",
       "    <tr>\n",
       "      <th>2011-08-19</th>\n",
       "      <td>0.80</td>\n",
       "      <td>2.46</td>\n",
       "      <td>0</td>\n",
       "      <td>11.65</td>\n",
       "    </tr>\n",
       "    <tr>\n",
       "      <th>2011-08-22</th>\n",
       "      <td>-0.71</td>\n",
       "      <td>2.39</td>\n",
       "      <td>0</td>\n",
       "      <td>10.94</td>\n",
       "    </tr>\n",
       "    <tr>\n",
       "      <th>2011-08-23</th>\n",
       "      <td>-0.01</td>\n",
       "      <td>2.39</td>\n",
       "      <td>0</td>\n",
       "      <td>10.93</td>\n",
       "    </tr>\n",
       "    <tr>\n",
       "      <th>...</th>\n",
       "      <td>...</td>\n",
       "      <td>...</td>\n",
       "      <td>...</td>\n",
       "      <td>...</td>\n",
       "    </tr>\n",
       "    <tr>\n",
       "      <th>2020-12-17</th>\n",
       "      <td>1445.85</td>\n",
       "      <td>10.03</td>\n",
       "      <td>0</td>\n",
       "      <td>22790.81</td>\n",
       "    </tr>\n",
       "    <tr>\n",
       "      <th>2020-12-18</th>\n",
       "      <td>287.96</td>\n",
       "      <td>10.05</td>\n",
       "      <td>0</td>\n",
       "      <td>23078.76</td>\n",
       "    </tr>\n",
       "    <tr>\n",
       "      <th>2020-12-21</th>\n",
       "      <td>-203.31</td>\n",
       "      <td>10.04</td>\n",
       "      <td>0</td>\n",
       "      <td>22875.46</td>\n",
       "    </tr>\n",
       "    <tr>\n",
       "      <th>2020-12-22</th>\n",
       "      <td>883.48</td>\n",
       "      <td>10.08</td>\n",
       "      <td>0</td>\n",
       "      <td>23758.93</td>\n",
       "    </tr>\n",
       "    <tr>\n",
       "      <th>2020-12-23</th>\n",
       "      <td>-479.38</td>\n",
       "      <td>10.06</td>\n",
       "      <td>0</td>\n",
       "      <td>23279.55</td>\n",
       "    </tr>\n",
       "  </tbody>\n",
       "</table>\n",
       "<p>2249 rows × 4 columns</p>\n",
       "</div>"
      ],
      "text/plain": [
       "            Daily Return in USD  Log Price in USD  \\\n",
       "Date                                                \n",
       "2011-08-17                  nan              2.40   \n",
       "2011-08-18                -0.15              2.38   \n",
       "2011-08-19                 0.80              2.46   \n",
       "2011-08-22                -0.71              2.39   \n",
       "2011-08-23                -0.01              2.39   \n",
       "...                         ...               ...   \n",
       "2020-12-17              1445.85             10.03   \n",
       "2020-12-18               287.96             10.05   \n",
       "2020-12-21              -203.31             10.04   \n",
       "2020-12-22               883.48             10.08   \n",
       "2020-12-23              -479.38             10.06   \n",
       "\n",
       "            Volatility Daily Log Return in Percent 5D  market/price_usd_close  \n",
       "Date                                                                           \n",
       "2011-08-17                                          0                   10.99  \n",
       "2011-08-18                                          0                   10.85  \n",
       "2011-08-19                                          0                   11.65  \n",
       "2011-08-22                                          0                   10.94  \n",
       "2011-08-23                                          0                   10.93  \n",
       "...                                               ...                     ...  \n",
       "2020-12-17                                          0                22790.81  \n",
       "2020-12-18                                          0                23078.76  \n",
       "2020-12-21                                          0                22875.46  \n",
       "2020-12-22                                          0                23758.93  \n",
       "2020-12-23                                          0                23279.55  \n",
       "\n",
       "[2249 rows x 4 columns]"
      ]
     },
     "execution_count": 173,
     "metadata": {},
     "output_type": "execute_result"
    }
   ],
   "source": [
    "df_dataset1[['Daily Return in USD', 'Log Price in USD',\n",
    "       'Volatility Daily Log Return in Percent 5D', 'market/price_usd_close']]"
   ]
  },
  {
   "cell_type": "code",
   "execution_count": 174,
   "metadata": {
    "ExecuteTime": {
     "end_time": "2020-12-26T22:50:00.115346Z",
     "start_time": "2020-12-26T22:50:00.100352Z"
    }
   },
   "outputs": [],
   "source": [
    "# Shift of Target Column by 1 Day\n",
    "df_dataset1['Daily Return in USD_ohneshift'] = df_dataset1['Daily Return in USD'] \n",
    "df_dataset1[\"percentage_daily_return_bef_shift\"] = df_dataset1[\"Daily Return in USD_ohneshift\"]/df_dataset1[\"market/price_usd_close\"]"
   ]
  },
  {
   "cell_type": "code",
   "execution_count": 175,
   "metadata": {
    "ExecuteTime": {
     "end_time": "2020-12-26T22:50:00.131305Z",
     "start_time": "2020-12-26T22:50:00.116310Z"
    }
   },
   "outputs": [],
   "source": [
    "df_dataset1 = df_dataset1.sort_index(ascending = False)"
   ]
  },
  {
   "cell_type": "code",
   "execution_count": 176,
   "metadata": {
    "ExecuteTime": {
     "end_time": "2020-12-26T22:50:00.147262Z",
     "start_time": "2020-12-26T22:50:00.132307Z"
    }
   },
   "outputs": [],
   "source": [
    "df_dataset1['Daily Return in USD'] = df_dataset1['Daily Return in USD'].shift(1)\n"
   ]
  },
  {
   "cell_type": "code",
   "execution_count": 177,
   "metadata": {
    "ExecuteTime": {
     "end_time": "2020-12-26T22:50:00.163184Z",
     "start_time": "2020-12-26T22:50:00.148260Z"
    }
   },
   "outputs": [
    {
     "data": {
      "text/html": [
       "<div>\n",
       "<style scoped>\n",
       "    .dataframe tbody tr th:only-of-type {\n",
       "        vertical-align: middle;\n",
       "    }\n",
       "\n",
       "    .dataframe tbody tr th {\n",
       "        vertical-align: top;\n",
       "    }\n",
       "\n",
       "    .dataframe thead th {\n",
       "        text-align: right;\n",
       "    }\n",
       "</style>\n",
       "<table border=\"1\" class=\"dataframe\">\n",
       "  <thead>\n",
       "    <tr style=\"text-align: right;\">\n",
       "      <th></th>\n",
       "      <th>Daily Return in USD</th>\n",
       "      <th>addresses/active_count</th>\n",
       "      <th>Log Price in USD</th>\n",
       "      <th>Volatility Daily Log Return in Percent 5D</th>\n",
       "      <th>market/price_usd_close</th>\n",
       "    </tr>\n",
       "    <tr>\n",
       "      <th>Date</th>\n",
       "      <th></th>\n",
       "      <th></th>\n",
       "      <th></th>\n",
       "      <th></th>\n",
       "      <th></th>\n",
       "    </tr>\n",
       "  </thead>\n",
       "  <tbody>\n",
       "    <tr>\n",
       "      <th>2020-12-23</th>\n",
       "      <td>nan</td>\n",
       "      <td>1131834.00</td>\n",
       "      <td>10.06</td>\n",
       "      <td>0</td>\n",
       "      <td>23279.55</td>\n",
       "    </tr>\n",
       "    <tr>\n",
       "      <th>2020-12-22</th>\n",
       "      <td>-479.38</td>\n",
       "      <td>1099356.00</td>\n",
       "      <td>10.08</td>\n",
       "      <td>0</td>\n",
       "      <td>23758.93</td>\n",
       "    </tr>\n",
       "    <tr>\n",
       "      <th>2020-12-21</th>\n",
       "      <td>883.48</td>\n",
       "      <td>1125440.00</td>\n",
       "      <td>10.04</td>\n",
       "      <td>0</td>\n",
       "      <td>22875.46</td>\n",
       "    </tr>\n",
       "    <tr>\n",
       "      <th>2020-12-18</th>\n",
       "      <td>-203.31</td>\n",
       "      <td>1193436.00</td>\n",
       "      <td>10.05</td>\n",
       "      <td>0</td>\n",
       "      <td>23078.76</td>\n",
       "    </tr>\n",
       "    <tr>\n",
       "      <th>2020-12-17</th>\n",
       "      <td>287.96</td>\n",
       "      <td>1068910.00</td>\n",
       "      <td>10.03</td>\n",
       "      <td>0</td>\n",
       "      <td>22790.81</td>\n",
       "    </tr>\n",
       "    <tr>\n",
       "      <th>...</th>\n",
       "      <td>...</td>\n",
       "      <td>...</td>\n",
       "      <td>...</td>\n",
       "      <td>...</td>\n",
       "      <td>...</td>\n",
       "    </tr>\n",
       "    <tr>\n",
       "      <th>2011-08-23</th>\n",
       "      <td>-0.08</td>\n",
       "      <td>22345.00</td>\n",
       "      <td>2.39</td>\n",
       "      <td>0</td>\n",
       "      <td>10.93</td>\n",
       "    </tr>\n",
       "    <tr>\n",
       "      <th>2011-08-22</th>\n",
       "      <td>-0.01</td>\n",
       "      <td>25025.00</td>\n",
       "      <td>2.39</td>\n",
       "      <td>0</td>\n",
       "      <td>10.94</td>\n",
       "    </tr>\n",
       "    <tr>\n",
       "      <th>2011-08-19</th>\n",
       "      <td>-0.71</td>\n",
       "      <td>21840.00</td>\n",
       "      <td>2.46</td>\n",
       "      <td>0</td>\n",
       "      <td>11.65</td>\n",
       "    </tr>\n",
       "    <tr>\n",
       "      <th>2011-08-18</th>\n",
       "      <td>0.80</td>\n",
       "      <td>20313.00</td>\n",
       "      <td>2.38</td>\n",
       "      <td>0</td>\n",
       "      <td>10.85</td>\n",
       "    </tr>\n",
       "    <tr>\n",
       "      <th>2011-08-17</th>\n",
       "      <td>-0.15</td>\n",
       "      <td>19988.00</td>\n",
       "      <td>2.40</td>\n",
       "      <td>0</td>\n",
       "      <td>10.99</td>\n",
       "    </tr>\n",
       "  </tbody>\n",
       "</table>\n",
       "<p>2249 rows × 5 columns</p>\n",
       "</div>"
      ],
      "text/plain": [
       "            Daily Return in USD  addresses/active_count  Log Price in USD  \\\n",
       "Date                                                                        \n",
       "2020-12-23                  nan              1131834.00             10.06   \n",
       "2020-12-22              -479.38              1099356.00             10.08   \n",
       "2020-12-21               883.48              1125440.00             10.04   \n",
       "2020-12-18              -203.31              1193436.00             10.05   \n",
       "2020-12-17               287.96              1068910.00             10.03   \n",
       "...                         ...                     ...               ...   \n",
       "2011-08-23                -0.08                22345.00              2.39   \n",
       "2011-08-22                -0.01                25025.00              2.39   \n",
       "2011-08-19                -0.71                21840.00              2.46   \n",
       "2011-08-18                 0.80                20313.00              2.38   \n",
       "2011-08-17                -0.15                19988.00              2.40   \n",
       "\n",
       "            Volatility Daily Log Return in Percent 5D  market/price_usd_close  \n",
       "Date                                                                           \n",
       "2020-12-23                                          0                23279.55  \n",
       "2020-12-22                                          0                23758.93  \n",
       "2020-12-21                                          0                22875.46  \n",
       "2020-12-18                                          0                23078.76  \n",
       "2020-12-17                                          0                22790.81  \n",
       "...                                               ...                     ...  \n",
       "2011-08-23                                          0                   10.93  \n",
       "2011-08-22                                          0                   10.94  \n",
       "2011-08-19                                          0                   11.65  \n",
       "2011-08-18                                          0                   10.85  \n",
       "2011-08-17                                          0                   10.99  \n",
       "\n",
       "[2249 rows x 5 columns]"
      ]
     },
     "execution_count": 177,
     "metadata": {},
     "output_type": "execute_result"
    }
   ],
   "source": [
    "df_dataset1[['Daily Return in USD', 'addresses/active_count', 'Log Price in USD',\n",
    "       'Volatility Daily Log Return in Percent 5D', 'market/price_usd_close']]"
   ]
  },
  {
   "cell_type": "code",
   "execution_count": 178,
   "metadata": {
    "ExecuteTime": {
     "end_time": "2020-12-26T22:50:00.179203Z",
     "start_time": "2020-12-26T22:50:00.165487Z"
    }
   },
   "outputs": [],
   "source": [
    "df_dataset1['market/price_usd_close_cummax']=df_dataset1['market/price_usd_close'].cummax()\n",
    "df_dataset1['price_usd_close_percent_of_maxtilnow'] = df_dataset1['market/price_usd_close']/df_dataset1['market/price_usd_close_cummax']"
   ]
  },
  {
   "cell_type": "code",
   "execution_count": null,
   "metadata": {},
   "outputs": [],
   "source": []
  },
  {
   "cell_type": "code",
   "execution_count": 179,
   "metadata": {
    "ExecuteTime": {
     "end_time": "2020-12-26T22:50:00.195102Z",
     "start_time": "2020-12-26T22:50:00.182217Z"
    }
   },
   "outputs": [
    {
     "data": {
      "text/html": [
       "<div>\n",
       "<style scoped>\n",
       "    .dataframe tbody tr th:only-of-type {\n",
       "        vertical-align: middle;\n",
       "    }\n",
       "\n",
       "    .dataframe tbody tr th {\n",
       "        vertical-align: top;\n",
       "    }\n",
       "\n",
       "    .dataframe thead th {\n",
       "        text-align: right;\n",
       "    }\n",
       "</style>\n",
       "<table border=\"1\" class=\"dataframe\">\n",
       "  <thead>\n",
       "    <tr style=\"text-align: right;\">\n",
       "      <th></th>\n",
       "      <th>Log Price in USD</th>\n",
       "      <th>Volatility Daily Log Return in Percent 5D</th>\n",
       "      <th>market/price_usd_close</th>\n",
       "      <th>percentage_daily_return_bef_shift</th>\n",
       "    </tr>\n",
       "    <tr>\n",
       "      <th>Date</th>\n",
       "      <th></th>\n",
       "      <th></th>\n",
       "      <th></th>\n",
       "      <th></th>\n",
       "    </tr>\n",
       "  </thead>\n",
       "  <tbody>\n",
       "    <tr>\n",
       "      <th>2011-08-23</th>\n",
       "      <td>2.39</td>\n",
       "      <td>0</td>\n",
       "      <td>10.93</td>\n",
       "      <td>-0.00</td>\n",
       "    </tr>\n",
       "    <tr>\n",
       "      <th>2011-08-22</th>\n",
       "      <td>2.39</td>\n",
       "      <td>0</td>\n",
       "      <td>10.94</td>\n",
       "      <td>-0.06</td>\n",
       "    </tr>\n",
       "    <tr>\n",
       "      <th>2011-08-19</th>\n",
       "      <td>2.46</td>\n",
       "      <td>0</td>\n",
       "      <td>11.65</td>\n",
       "      <td>0.07</td>\n",
       "    </tr>\n",
       "    <tr>\n",
       "      <th>2011-08-18</th>\n",
       "      <td>2.38</td>\n",
       "      <td>0</td>\n",
       "      <td>10.85</td>\n",
       "      <td>-0.01</td>\n",
       "    </tr>\n",
       "    <tr>\n",
       "      <th>2011-08-17</th>\n",
       "      <td>2.40</td>\n",
       "      <td>0</td>\n",
       "      <td>10.99</td>\n",
       "      <td>nan</td>\n",
       "    </tr>\n",
       "  </tbody>\n",
       "</table>\n",
       "</div>"
      ],
      "text/plain": [
       "            Log Price in USD  Volatility Daily Log Return in Percent 5D  \\\n",
       "Date                                                                      \n",
       "2011-08-23              2.39                                          0   \n",
       "2011-08-22              2.39                                          0   \n",
       "2011-08-19              2.46                                          0   \n",
       "2011-08-18              2.38                                          0   \n",
       "2011-08-17              2.40                                          0   \n",
       "\n",
       "            market/price_usd_close  percentage_daily_return_bef_shift  \n",
       "Date                                                                   \n",
       "2011-08-23                   10.93                              -0.00  \n",
       "2011-08-22                   10.94                              -0.06  \n",
       "2011-08-19                   11.65                               0.07  \n",
       "2011-08-18                   10.85                              -0.01  \n",
       "2011-08-17                   10.99                                nan  "
      ]
     },
     "execution_count": 179,
     "metadata": {},
     "output_type": "execute_result"
    }
   ],
   "source": [
    "# Check Shift\n",
    "df_dataset1[[ 'Log Price in USD',\n",
    "       'Volatility Daily Log Return in Percent 5D', 'market/price_usd_close',\"percentage_daily_return_bef_shift\"]].tail()"
   ]
  },
  {
   "cell_type": "code",
   "execution_count": 180,
   "metadata": {
    "ExecuteTime": {
     "end_time": "2020-12-26T22:50:00.210059Z",
     "start_time": "2020-12-26T22:50:00.197095Z"
    }
   },
   "outputs": [
    {
     "data": {
      "text/plain": [
       "Daily Return in USD                          1\n",
       "Log Price in USD                             0\n",
       "Volatility Daily Log Return in Percent 5D    0\n",
       "market/price_usd_close                       0\n",
       "market/price_drawdown_relative               0\n",
       "                                            ..\n",
       "Close CHF/USD                                0\n",
       "Daily Return in USD_ohneshift                1\n",
       "percentage_daily_return_bef_shift            1\n",
       "market/price_usd_close_cummax                0\n",
       "price_usd_close_percent_of_maxtilnow         0\n",
       "Length: 129, dtype: int64"
      ]
     },
     "execution_count": 180,
     "metadata": {},
     "output_type": "execute_result"
    }
   ],
   "source": [
    "# Check Empty Cells\n",
    "df_dataset1.isnull().sum()"
   ]
  },
  {
   "cell_type": "code",
   "execution_count": 181,
   "metadata": {
    "ExecuteTime": {
     "end_time": "2020-12-26T22:50:00.242009Z",
     "start_time": "2020-12-26T22:50:00.211056Z"
    }
   },
   "outputs": [
    {
     "data": {
      "text/html": [
       "<div>\n",
       "<style scoped>\n",
       "    .dataframe tbody tr th:only-of-type {\n",
       "        vertical-align: middle;\n",
       "    }\n",
       "\n",
       "    .dataframe tbody tr th {\n",
       "        vertical-align: top;\n",
       "    }\n",
       "\n",
       "    .dataframe thead th {\n",
       "        text-align: right;\n",
       "    }\n",
       "</style>\n",
       "<table border=\"1\" class=\"dataframe\">\n",
       "  <thead>\n",
       "    <tr style=\"text-align: right;\">\n",
       "      <th></th>\n",
       "      <th>Daily Return in USD</th>\n",
       "      <th>Log Price in USD</th>\n",
       "      <th>Volatility Daily Log Return in Percent 5D</th>\n",
       "      <th>market/price_usd_close</th>\n",
       "      <th>market/price_drawdown_relative</th>\n",
       "      <th>market/price_realized_usd</th>\n",
       "      <th>market/mvrv</th>\n",
       "      <th>mining/difficulty_latest</th>\n",
       "      <th>mining/hash_rate_mean</th>\n",
       "      <th>blockchain/block_count</th>\n",
       "      <th>...</th>\n",
       "      <th>Close EUR/USD</th>\n",
       "      <th>Close JPY/USD</th>\n",
       "      <th>Close GBP/USD</th>\n",
       "      <th>Close CAD/USD</th>\n",
       "      <th>Close SEK/USD</th>\n",
       "      <th>Close CHF/USD</th>\n",
       "      <th>Daily Return in USD_ohneshift</th>\n",
       "      <th>percentage_daily_return_bef_shift</th>\n",
       "      <th>market/price_usd_close_cummax</th>\n",
       "      <th>price_usd_close_percent_of_maxtilnow</th>\n",
       "    </tr>\n",
       "    <tr>\n",
       "      <th>Date</th>\n",
       "      <th></th>\n",
       "      <th></th>\n",
       "      <th></th>\n",
       "      <th></th>\n",
       "      <th></th>\n",
       "      <th></th>\n",
       "      <th></th>\n",
       "      <th></th>\n",
       "      <th></th>\n",
       "      <th></th>\n",
       "      <th></th>\n",
       "      <th></th>\n",
       "      <th></th>\n",
       "      <th></th>\n",
       "      <th></th>\n",
       "      <th></th>\n",
       "      <th></th>\n",
       "      <th></th>\n",
       "      <th></th>\n",
       "      <th></th>\n",
       "      <th></th>\n",
       "    </tr>\n",
       "  </thead>\n",
       "  <tbody>\n",
       "    <tr>\n",
       "      <th>2020-12-23</th>\n",
       "      <td>True</td>\n",
       "      <td>False</td>\n",
       "      <td>False</td>\n",
       "      <td>False</td>\n",
       "      <td>False</td>\n",
       "      <td>False</td>\n",
       "      <td>False</td>\n",
       "      <td>False</td>\n",
       "      <td>False</td>\n",
       "      <td>False</td>\n",
       "      <td>...</td>\n",
       "      <td>False</td>\n",
       "      <td>False</td>\n",
       "      <td>False</td>\n",
       "      <td>False</td>\n",
       "      <td>False</td>\n",
       "      <td>False</td>\n",
       "      <td>False</td>\n",
       "      <td>False</td>\n",
       "      <td>False</td>\n",
       "      <td>False</td>\n",
       "    </tr>\n",
       "    <tr>\n",
       "      <th>2020-12-22</th>\n",
       "      <td>False</td>\n",
       "      <td>False</td>\n",
       "      <td>False</td>\n",
       "      <td>False</td>\n",
       "      <td>False</td>\n",
       "      <td>False</td>\n",
       "      <td>False</td>\n",
       "      <td>False</td>\n",
       "      <td>False</td>\n",
       "      <td>False</td>\n",
       "      <td>...</td>\n",
       "      <td>False</td>\n",
       "      <td>False</td>\n",
       "      <td>False</td>\n",
       "      <td>False</td>\n",
       "      <td>False</td>\n",
       "      <td>False</td>\n",
       "      <td>False</td>\n",
       "      <td>False</td>\n",
       "      <td>False</td>\n",
       "      <td>False</td>\n",
       "    </tr>\n",
       "    <tr>\n",
       "      <th>2020-12-21</th>\n",
       "      <td>False</td>\n",
       "      <td>False</td>\n",
       "      <td>False</td>\n",
       "      <td>False</td>\n",
       "      <td>False</td>\n",
       "      <td>False</td>\n",
       "      <td>False</td>\n",
       "      <td>False</td>\n",
       "      <td>False</td>\n",
       "      <td>False</td>\n",
       "      <td>...</td>\n",
       "      <td>False</td>\n",
       "      <td>False</td>\n",
       "      <td>False</td>\n",
       "      <td>False</td>\n",
       "      <td>False</td>\n",
       "      <td>False</td>\n",
       "      <td>False</td>\n",
       "      <td>False</td>\n",
       "      <td>False</td>\n",
       "      <td>False</td>\n",
       "    </tr>\n",
       "    <tr>\n",
       "      <th>2020-12-18</th>\n",
       "      <td>False</td>\n",
       "      <td>False</td>\n",
       "      <td>False</td>\n",
       "      <td>False</td>\n",
       "      <td>False</td>\n",
       "      <td>False</td>\n",
       "      <td>False</td>\n",
       "      <td>False</td>\n",
       "      <td>False</td>\n",
       "      <td>False</td>\n",
       "      <td>...</td>\n",
       "      <td>False</td>\n",
       "      <td>False</td>\n",
       "      <td>False</td>\n",
       "      <td>False</td>\n",
       "      <td>False</td>\n",
       "      <td>False</td>\n",
       "      <td>False</td>\n",
       "      <td>False</td>\n",
       "      <td>False</td>\n",
       "      <td>False</td>\n",
       "    </tr>\n",
       "    <tr>\n",
       "      <th>2020-12-17</th>\n",
       "      <td>False</td>\n",
       "      <td>False</td>\n",
       "      <td>False</td>\n",
       "      <td>False</td>\n",
       "      <td>False</td>\n",
       "      <td>False</td>\n",
       "      <td>False</td>\n",
       "      <td>False</td>\n",
       "      <td>False</td>\n",
       "      <td>False</td>\n",
       "      <td>...</td>\n",
       "      <td>False</td>\n",
       "      <td>False</td>\n",
       "      <td>False</td>\n",
       "      <td>False</td>\n",
       "      <td>False</td>\n",
       "      <td>False</td>\n",
       "      <td>False</td>\n",
       "      <td>False</td>\n",
       "      <td>False</td>\n",
       "      <td>False</td>\n",
       "    </tr>\n",
       "    <tr>\n",
       "      <th>...</th>\n",
       "      <td>...</td>\n",
       "      <td>...</td>\n",
       "      <td>...</td>\n",
       "      <td>...</td>\n",
       "      <td>...</td>\n",
       "      <td>...</td>\n",
       "      <td>...</td>\n",
       "      <td>...</td>\n",
       "      <td>...</td>\n",
       "      <td>...</td>\n",
       "      <td>...</td>\n",
       "      <td>...</td>\n",
       "      <td>...</td>\n",
       "      <td>...</td>\n",
       "      <td>...</td>\n",
       "      <td>...</td>\n",
       "      <td>...</td>\n",
       "      <td>...</td>\n",
       "      <td>...</td>\n",
       "      <td>...</td>\n",
       "      <td>...</td>\n",
       "    </tr>\n",
       "    <tr>\n",
       "      <th>2011-08-23</th>\n",
       "      <td>False</td>\n",
       "      <td>False</td>\n",
       "      <td>False</td>\n",
       "      <td>False</td>\n",
       "      <td>False</td>\n",
       "      <td>False</td>\n",
       "      <td>False</td>\n",
       "      <td>False</td>\n",
       "      <td>False</td>\n",
       "      <td>False</td>\n",
       "      <td>...</td>\n",
       "      <td>False</td>\n",
       "      <td>False</td>\n",
       "      <td>False</td>\n",
       "      <td>False</td>\n",
       "      <td>False</td>\n",
       "      <td>False</td>\n",
       "      <td>False</td>\n",
       "      <td>False</td>\n",
       "      <td>False</td>\n",
       "      <td>False</td>\n",
       "    </tr>\n",
       "    <tr>\n",
       "      <th>2011-08-22</th>\n",
       "      <td>False</td>\n",
       "      <td>False</td>\n",
       "      <td>False</td>\n",
       "      <td>False</td>\n",
       "      <td>False</td>\n",
       "      <td>False</td>\n",
       "      <td>False</td>\n",
       "      <td>False</td>\n",
       "      <td>False</td>\n",
       "      <td>False</td>\n",
       "      <td>...</td>\n",
       "      <td>False</td>\n",
       "      <td>False</td>\n",
       "      <td>False</td>\n",
       "      <td>False</td>\n",
       "      <td>False</td>\n",
       "      <td>False</td>\n",
       "      <td>False</td>\n",
       "      <td>False</td>\n",
       "      <td>False</td>\n",
       "      <td>False</td>\n",
       "    </tr>\n",
       "    <tr>\n",
       "      <th>2011-08-19</th>\n",
       "      <td>False</td>\n",
       "      <td>False</td>\n",
       "      <td>False</td>\n",
       "      <td>False</td>\n",
       "      <td>False</td>\n",
       "      <td>False</td>\n",
       "      <td>False</td>\n",
       "      <td>False</td>\n",
       "      <td>False</td>\n",
       "      <td>False</td>\n",
       "      <td>...</td>\n",
       "      <td>False</td>\n",
       "      <td>False</td>\n",
       "      <td>False</td>\n",
       "      <td>False</td>\n",
       "      <td>False</td>\n",
       "      <td>False</td>\n",
       "      <td>False</td>\n",
       "      <td>False</td>\n",
       "      <td>False</td>\n",
       "      <td>False</td>\n",
       "    </tr>\n",
       "    <tr>\n",
       "      <th>2011-08-18</th>\n",
       "      <td>False</td>\n",
       "      <td>False</td>\n",
       "      <td>False</td>\n",
       "      <td>False</td>\n",
       "      <td>False</td>\n",
       "      <td>False</td>\n",
       "      <td>False</td>\n",
       "      <td>False</td>\n",
       "      <td>False</td>\n",
       "      <td>False</td>\n",
       "      <td>...</td>\n",
       "      <td>False</td>\n",
       "      <td>False</td>\n",
       "      <td>False</td>\n",
       "      <td>False</td>\n",
       "      <td>False</td>\n",
       "      <td>False</td>\n",
       "      <td>False</td>\n",
       "      <td>False</td>\n",
       "      <td>False</td>\n",
       "      <td>False</td>\n",
       "    </tr>\n",
       "    <tr>\n",
       "      <th>2011-08-17</th>\n",
       "      <td>False</td>\n",
       "      <td>False</td>\n",
       "      <td>False</td>\n",
       "      <td>False</td>\n",
       "      <td>False</td>\n",
       "      <td>False</td>\n",
       "      <td>False</td>\n",
       "      <td>False</td>\n",
       "      <td>False</td>\n",
       "      <td>False</td>\n",
       "      <td>...</td>\n",
       "      <td>False</td>\n",
       "      <td>False</td>\n",
       "      <td>False</td>\n",
       "      <td>False</td>\n",
       "      <td>False</td>\n",
       "      <td>False</td>\n",
       "      <td>True</td>\n",
       "      <td>True</td>\n",
       "      <td>False</td>\n",
       "      <td>False</td>\n",
       "    </tr>\n",
       "  </tbody>\n",
       "</table>\n",
       "<p>2249 rows × 129 columns</p>\n",
       "</div>"
      ],
      "text/plain": [
       "            Daily Return in USD  Log Price in USD  \\\n",
       "Date                                                \n",
       "2020-12-23                 True             False   \n",
       "2020-12-22                False             False   \n",
       "2020-12-21                False             False   \n",
       "2020-12-18                False             False   \n",
       "2020-12-17                False             False   \n",
       "...                         ...               ...   \n",
       "2011-08-23                False             False   \n",
       "2011-08-22                False             False   \n",
       "2011-08-19                False             False   \n",
       "2011-08-18                False             False   \n",
       "2011-08-17                False             False   \n",
       "\n",
       "            Volatility Daily Log Return in Percent 5D  market/price_usd_close  \\\n",
       "Date                                                                            \n",
       "2020-12-23                                      False                   False   \n",
       "2020-12-22                                      False                   False   \n",
       "2020-12-21                                      False                   False   \n",
       "2020-12-18                                      False                   False   \n",
       "2020-12-17                                      False                   False   \n",
       "...                                               ...                     ...   \n",
       "2011-08-23                                      False                   False   \n",
       "2011-08-22                                      False                   False   \n",
       "2011-08-19                                      False                   False   \n",
       "2011-08-18                                      False                   False   \n",
       "2011-08-17                                      False                   False   \n",
       "\n",
       "            market/price_drawdown_relative  market/price_realized_usd  \\\n",
       "Date                                                                    \n",
       "2020-12-23                           False                      False   \n",
       "2020-12-22                           False                      False   \n",
       "2020-12-21                           False                      False   \n",
       "2020-12-18                           False                      False   \n",
       "2020-12-17                           False                      False   \n",
       "...                                    ...                        ...   \n",
       "2011-08-23                           False                      False   \n",
       "2011-08-22                           False                      False   \n",
       "2011-08-19                           False                      False   \n",
       "2011-08-18                           False                      False   \n",
       "2011-08-17                           False                      False   \n",
       "\n",
       "            market/mvrv  mining/difficulty_latest  mining/hash_rate_mean  \\\n",
       "Date                                                                       \n",
       "2020-12-23        False                     False                  False   \n",
       "2020-12-22        False                     False                  False   \n",
       "2020-12-21        False                     False                  False   \n",
       "2020-12-18        False                     False                  False   \n",
       "2020-12-17        False                     False                  False   \n",
       "...                 ...                       ...                    ...   \n",
       "2011-08-23        False                     False                  False   \n",
       "2011-08-22        False                     False                  False   \n",
       "2011-08-19        False                     False                  False   \n",
       "2011-08-18        False                     False                  False   \n",
       "2011-08-17        False                     False                  False   \n",
       "\n",
       "            blockchain/block_count  ...  Close EUR/USD  Close JPY/USD  \\\n",
       "Date                                ...                                 \n",
       "2020-12-23                   False  ...          False          False   \n",
       "2020-12-22                   False  ...          False          False   \n",
       "2020-12-21                   False  ...          False          False   \n",
       "2020-12-18                   False  ...          False          False   \n",
       "2020-12-17                   False  ...          False          False   \n",
       "...                            ...  ...            ...            ...   \n",
       "2011-08-23                   False  ...          False          False   \n",
       "2011-08-22                   False  ...          False          False   \n",
       "2011-08-19                   False  ...          False          False   \n",
       "2011-08-18                   False  ...          False          False   \n",
       "2011-08-17                   False  ...          False          False   \n",
       "\n",
       "            Close GBP/USD  Close CAD/USD  Close SEK/USD  Close CHF/USD  \\\n",
       "Date                                                                     \n",
       "2020-12-23          False          False          False          False   \n",
       "2020-12-22          False          False          False          False   \n",
       "2020-12-21          False          False          False          False   \n",
       "2020-12-18          False          False          False          False   \n",
       "2020-12-17          False          False          False          False   \n",
       "...                   ...            ...            ...            ...   \n",
       "2011-08-23          False          False          False          False   \n",
       "2011-08-22          False          False          False          False   \n",
       "2011-08-19          False          False          False          False   \n",
       "2011-08-18          False          False          False          False   \n",
       "2011-08-17          False          False          False          False   \n",
       "\n",
       "            Daily Return in USD_ohneshift  percentage_daily_return_bef_shift  \\\n",
       "Date                                                                           \n",
       "2020-12-23                          False                              False   \n",
       "2020-12-22                          False                              False   \n",
       "2020-12-21                          False                              False   \n",
       "2020-12-18                          False                              False   \n",
       "2020-12-17                          False                              False   \n",
       "...                                   ...                                ...   \n",
       "2011-08-23                          False                              False   \n",
       "2011-08-22                          False                              False   \n",
       "2011-08-19                          False                              False   \n",
       "2011-08-18                          False                              False   \n",
       "2011-08-17                           True                               True   \n",
       "\n",
       "            market/price_usd_close_cummax  \\\n",
       "Date                                        \n",
       "2020-12-23                          False   \n",
       "2020-12-22                          False   \n",
       "2020-12-21                          False   \n",
       "2020-12-18                          False   \n",
       "2020-12-17                          False   \n",
       "...                                   ...   \n",
       "2011-08-23                          False   \n",
       "2011-08-22                          False   \n",
       "2011-08-19                          False   \n",
       "2011-08-18                          False   \n",
       "2011-08-17                          False   \n",
       "\n",
       "            price_usd_close_percent_of_maxtilnow  \n",
       "Date                                              \n",
       "2020-12-23                                 False  \n",
       "2020-12-22                                 False  \n",
       "2020-12-21                                 False  \n",
       "2020-12-18                                 False  \n",
       "2020-12-17                                 False  \n",
       "...                                          ...  \n",
       "2011-08-23                                 False  \n",
       "2011-08-22                                 False  \n",
       "2011-08-19                                 False  \n",
       "2011-08-18                                 False  \n",
       "2011-08-17                                 False  \n",
       "\n",
       "[2249 rows x 129 columns]"
      ]
     },
     "execution_count": 181,
     "metadata": {},
     "output_type": "execute_result"
    }
   ],
   "source": [
    "# daily return: von gestern auf heute die preisveränderung deswegen shift später\n",
    "df_dataset1.isnull()"
   ]
  },
  {
   "cell_type": "code",
   "execution_count": 182,
   "metadata": {
    "ExecuteTime": {
     "end_time": "2020-12-26T22:50:00.257965Z",
     "start_time": "2020-12-26T22:50:00.243074Z"
    }
   },
   "outputs": [],
   "source": [
    "# Delete Empty Row\n",
    "df_dataset1 = df_dataset1.dropna()"
   ]
  },
  {
   "cell_type": "code",
   "execution_count": 183,
   "metadata": {
    "ExecuteTime": {
     "end_time": "2020-12-26T22:50:00.273923Z",
     "start_time": "2020-12-26T22:50:00.259955Z"
    }
   },
   "outputs": [
    {
     "data": {
      "text/plain": [
       "Daily Return in USD                          0\n",
       "Log Price in USD                             0\n",
       "Volatility Daily Log Return in Percent 5D    0\n",
       "market/price_usd_close                       0\n",
       "market/price_drawdown_relative               0\n",
       "                                            ..\n",
       "Close CHF/USD                                0\n",
       "Daily Return in USD_ohneshift                0\n",
       "percentage_daily_return_bef_shift            0\n",
       "market/price_usd_close_cummax                0\n",
       "price_usd_close_percent_of_maxtilnow         0\n",
       "Length: 129, dtype: int64"
      ]
     },
     "execution_count": 183,
     "metadata": {},
     "output_type": "execute_result"
    }
   ],
   "source": [
    "# Re-Check Empty Cells\n",
    "df_dataset1.isnull().sum()"
   ]
  },
  {
   "cell_type": "markdown",
   "metadata": {},
   "source": [
    "# Classification Setup"
   ]
  },
  {
   "cell_type": "markdown",
   "metadata": {},
   "source": [
    "## Create Data Set Copies for Trading Strategy"
   ]
  },
  {
   "cell_type": "code",
   "execution_count": 184,
   "metadata": {
    "ExecuteTime": {
     "end_time": "2020-12-26T22:50:00.289088Z",
     "start_time": "2020-12-26T22:50:00.274918Z"
    }
   },
   "outputs": [],
   "source": [
    "# Data Set Copy for Trading Extension\n",
    "df_dataset1_copy = df_dataset1.copy()\n"
   ]
  },
  {
   "cell_type": "markdown",
   "metadata": {},
   "source": [
    "## Categorization - Data Set I."
   ]
  },
  {
   "cell_type": "code",
   "execution_count": 185,
   "metadata": {
    "ExecuteTime": {
     "end_time": "2020-12-26T22:50:00.304840Z",
     "start_time": "2020-12-26T22:50:00.290393Z"
    }
   },
   "outputs": [],
   "source": [
    "# Categorization\n",
    "# Class 1 for all Returns >= 0 USD\n",
    "df_dataset1.loc[df_dataset1['Daily Return in USD'] >= 0, 'Class'] = 1\n",
    "# Class 0 for all Returns < 0 USD\n",
    "df_dataset1.loc[df_dataset1['Daily Return in USD'] < 0, 'Class'] = 0"
   ]
  },
  {
   "cell_type": "code",
   "execution_count": 186,
   "metadata": {
    "ExecuteTime": {
     "end_time": "2020-12-26T22:50:00.335756Z",
     "start_time": "2020-12-26T22:50:00.305837Z"
    }
   },
   "outputs": [
    {
     "data": {
      "text/html": [
       "<div>\n",
       "<style scoped>\n",
       "    .dataframe tbody tr th:only-of-type {\n",
       "        vertical-align: middle;\n",
       "    }\n",
       "\n",
       "    .dataframe tbody tr th {\n",
       "        vertical-align: top;\n",
       "    }\n",
       "\n",
       "    .dataframe thead th {\n",
       "        text-align: right;\n",
       "    }\n",
       "</style>\n",
       "<table border=\"1\" class=\"dataframe\">\n",
       "  <thead>\n",
       "    <tr style=\"text-align: right;\">\n",
       "      <th></th>\n",
       "      <th>Daily Return in USD</th>\n",
       "      <th>Log Price in USD</th>\n",
       "      <th>Volatility Daily Log Return in Percent 5D</th>\n",
       "      <th>market/price_usd_close</th>\n",
       "      <th>market/price_drawdown_relative</th>\n",
       "      <th>market/price_realized_usd</th>\n",
       "      <th>market/mvrv</th>\n",
       "      <th>mining/difficulty_latest</th>\n",
       "      <th>mining/hash_rate_mean</th>\n",
       "      <th>blockchain/block_count</th>\n",
       "      <th>...</th>\n",
       "      <th>Close JPY/USD</th>\n",
       "      <th>Close GBP/USD</th>\n",
       "      <th>Close CAD/USD</th>\n",
       "      <th>Close SEK/USD</th>\n",
       "      <th>Close CHF/USD</th>\n",
       "      <th>Daily Return in USD_ohneshift</th>\n",
       "      <th>percentage_daily_return_bef_shift</th>\n",
       "      <th>market/price_usd_close_cummax</th>\n",
       "      <th>price_usd_close_percent_of_maxtilnow</th>\n",
       "      <th>Class</th>\n",
       "    </tr>\n",
       "    <tr>\n",
       "      <th>Date</th>\n",
       "      <th></th>\n",
       "      <th></th>\n",
       "      <th></th>\n",
       "      <th></th>\n",
       "      <th></th>\n",
       "      <th></th>\n",
       "      <th></th>\n",
       "      <th></th>\n",
       "      <th></th>\n",
       "      <th></th>\n",
       "      <th></th>\n",
       "      <th></th>\n",
       "      <th></th>\n",
       "      <th></th>\n",
       "      <th></th>\n",
       "      <th></th>\n",
       "      <th></th>\n",
       "      <th></th>\n",
       "      <th></th>\n",
       "      <th></th>\n",
       "      <th></th>\n",
       "    </tr>\n",
       "  </thead>\n",
       "  <tbody>\n",
       "    <tr>\n",
       "      <th>2020-12-22</th>\n",
       "      <td>-479.38</td>\n",
       "      <td>10.08</td>\n",
       "      <td>0</td>\n",
       "      <td>23758.93</td>\n",
       "      <td>-0.02</td>\n",
       "      <td>8286.35</td>\n",
       "      <td>2.79</td>\n",
       "      <td>80187763369133704478720.00</td>\n",
       "      <td>132165952003620995072.00</td>\n",
       "      <td>143.00</td>\n",
       "      <td>...</td>\n",
       "      <td>0.01</td>\n",
       "      <td>1.34</td>\n",
       "      <td>0.78</td>\n",
       "      <td>0.12</td>\n",
       "      <td>1.13</td>\n",
       "      <td>883.48</td>\n",
       "      <td>0.04</td>\n",
       "      <td>23758.93</td>\n",
       "      <td>1.00</td>\n",
       "      <td>0.00</td>\n",
       "    </tr>\n",
       "    <tr>\n",
       "      <th>2020-12-21</th>\n",
       "      <td>883.48</td>\n",
       "      <td>10.04</td>\n",
       "      <td>0</td>\n",
       "      <td>22875.46</td>\n",
       "      <td>-0.05</td>\n",
       "      <td>8205.79</td>\n",
       "      <td>2.83</td>\n",
       "      <td>80187763369133704478720.00</td>\n",
       "      <td>125467801265571004416.00</td>\n",
       "      <td>136.00</td>\n",
       "      <td>...</td>\n",
       "      <td>0.01</td>\n",
       "      <td>1.34</td>\n",
       "      <td>0.78</td>\n",
       "      <td>0.12</td>\n",
       "      <td>1.13</td>\n",
       "      <td>-203.31</td>\n",
       "      <td>-0.01</td>\n",
       "      <td>23758.93</td>\n",
       "      <td>0.96</td>\n",
       "      <td>1.00</td>\n",
       "    </tr>\n",
       "    <tr>\n",
       "      <th>2020-12-18</th>\n",
       "      <td>-203.31</td>\n",
       "      <td>10.05</td>\n",
       "      <td>0</td>\n",
       "      <td>23078.76</td>\n",
       "      <td>-0.02</td>\n",
       "      <td>8072.93</td>\n",
       "      <td>2.83</td>\n",
       "      <td>80187763369133704478720.00</td>\n",
       "      <td>145575084110428995584.00</td>\n",
       "      <td>157.00</td>\n",
       "      <td>...</td>\n",
       "      <td>0.01</td>\n",
       "      <td>1.36</td>\n",
       "      <td>0.79</td>\n",
       "      <td>0.12</td>\n",
       "      <td>1.13</td>\n",
       "      <td>287.96</td>\n",
       "      <td>0.01</td>\n",
       "      <td>23758.93</td>\n",
       "      <td>0.97</td>\n",
       "      <td>0.00</td>\n",
       "    </tr>\n",
       "    <tr>\n",
       "      <th>2020-12-17</th>\n",
       "      <td>287.96</td>\n",
       "      <td>10.03</td>\n",
       "      <td>0</td>\n",
       "      <td>22790.81</td>\n",
       "      <td>-0.04</td>\n",
       "      <td>7935.71</td>\n",
       "      <td>2.84</td>\n",
       "      <td>80187763369133704478720.00</td>\n",
       "      <td>120924230791744995328.00</td>\n",
       "      <td>129.00</td>\n",
       "      <td>...</td>\n",
       "      <td>0.01</td>\n",
       "      <td>1.35</td>\n",
       "      <td>0.78</td>\n",
       "      <td>0.12</td>\n",
       "      <td>1.13</td>\n",
       "      <td>1445.85</td>\n",
       "      <td>0.06</td>\n",
       "      <td>23758.93</td>\n",
       "      <td>0.96</td>\n",
       "      <td>1.00</td>\n",
       "    </tr>\n",
       "    <tr>\n",
       "      <th>2020-12-16</th>\n",
       "      <td>1445.85</td>\n",
       "      <td>9.97</td>\n",
       "      <td>0</td>\n",
       "      <td>21344.96</td>\n",
       "      <td>-0.01</td>\n",
       "      <td>7816.38</td>\n",
       "      <td>2.56</td>\n",
       "      <td>80187763369133704478720.00</td>\n",
       "      <td>132126357193890004992.00</td>\n",
       "      <td>143.00</td>\n",
       "      <td>...</td>\n",
       "      <td>0.01</td>\n",
       "      <td>1.34</td>\n",
       "      <td>0.79</td>\n",
       "      <td>0.12</td>\n",
       "      <td>1.13</td>\n",
       "      <td>1921.14</td>\n",
       "      <td>0.09</td>\n",
       "      <td>23758.93</td>\n",
       "      <td>0.90</td>\n",
       "      <td>1.00</td>\n",
       "    </tr>\n",
       "  </tbody>\n",
       "</table>\n",
       "<p>5 rows × 130 columns</p>\n",
       "</div>"
      ],
      "text/plain": [
       "            Daily Return in USD  Log Price in USD  \\\n",
       "Date                                                \n",
       "2020-12-22              -479.38             10.08   \n",
       "2020-12-21               883.48             10.04   \n",
       "2020-12-18              -203.31             10.05   \n",
       "2020-12-17               287.96             10.03   \n",
       "2020-12-16              1445.85              9.97   \n",
       "\n",
       "            Volatility Daily Log Return in Percent 5D  market/price_usd_close  \\\n",
       "Date                                                                            \n",
       "2020-12-22                                          0                23758.93   \n",
       "2020-12-21                                          0                22875.46   \n",
       "2020-12-18                                          0                23078.76   \n",
       "2020-12-17                                          0                22790.81   \n",
       "2020-12-16                                          0                21344.96   \n",
       "\n",
       "            market/price_drawdown_relative  market/price_realized_usd  \\\n",
       "Date                                                                    \n",
       "2020-12-22                           -0.02                    8286.35   \n",
       "2020-12-21                           -0.05                    8205.79   \n",
       "2020-12-18                           -0.02                    8072.93   \n",
       "2020-12-17                           -0.04                    7935.71   \n",
       "2020-12-16                           -0.01                    7816.38   \n",
       "\n",
       "            market/mvrv   mining/difficulty_latest    mining/hash_rate_mean  \\\n",
       "Date                                                                          \n",
       "2020-12-22         2.79 80187763369133704478720.00 132165952003620995072.00   \n",
       "2020-12-21         2.83 80187763369133704478720.00 125467801265571004416.00   \n",
       "2020-12-18         2.83 80187763369133704478720.00 145575084110428995584.00   \n",
       "2020-12-17         2.84 80187763369133704478720.00 120924230791744995328.00   \n",
       "2020-12-16         2.56 80187763369133704478720.00 132126357193890004992.00   \n",
       "\n",
       "            blockchain/block_count  ...  Close JPY/USD  Close GBP/USD  \\\n",
       "Date                                ...                                 \n",
       "2020-12-22                  143.00  ...           0.01           1.34   \n",
       "2020-12-21                  136.00  ...           0.01           1.34   \n",
       "2020-12-18                  157.00  ...           0.01           1.36   \n",
       "2020-12-17                  129.00  ...           0.01           1.35   \n",
       "2020-12-16                  143.00  ...           0.01           1.34   \n",
       "\n",
       "            Close CAD/USD  Close SEK/USD  Close CHF/USD  \\\n",
       "Date                                                      \n",
       "2020-12-22           0.78           0.12           1.13   \n",
       "2020-12-21           0.78           0.12           1.13   \n",
       "2020-12-18           0.79           0.12           1.13   \n",
       "2020-12-17           0.78           0.12           1.13   \n",
       "2020-12-16           0.79           0.12           1.13   \n",
       "\n",
       "            Daily Return in USD_ohneshift  percentage_daily_return_bef_shift  \\\n",
       "Date                                                                           \n",
       "2020-12-22                         883.48                               0.04   \n",
       "2020-12-21                        -203.31                              -0.01   \n",
       "2020-12-18                         287.96                               0.01   \n",
       "2020-12-17                        1445.85                               0.06   \n",
       "2020-12-16                        1921.14                               0.09   \n",
       "\n",
       "            market/price_usd_close_cummax  \\\n",
       "Date                                        \n",
       "2020-12-22                       23758.93   \n",
       "2020-12-21                       23758.93   \n",
       "2020-12-18                       23758.93   \n",
       "2020-12-17                       23758.93   \n",
       "2020-12-16                       23758.93   \n",
       "\n",
       "            price_usd_close_percent_of_maxtilnow  Class  \n",
       "Date                                                     \n",
       "2020-12-22                                  1.00   0.00  \n",
       "2020-12-21                                  0.96   1.00  \n",
       "2020-12-18                                  0.97   0.00  \n",
       "2020-12-17                                  0.96   1.00  \n",
       "2020-12-16                                  0.90   1.00  \n",
       "\n",
       "[5 rows x 130 columns]"
      ]
     },
     "execution_count": 186,
     "metadata": {},
     "output_type": "execute_result"
    }
   ],
   "source": [
    "# Data Set Head\n",
    "df_dataset1.head()"
   ]
  },
  {
   "cell_type": "code",
   "execution_count": 187,
   "metadata": {
    "ExecuteTime": {
     "end_time": "2020-12-26T22:50:00.351681Z",
     "start_time": "2020-12-26T22:50:00.337719Z"
    }
   },
   "outputs": [
    {
     "name": "stdout",
     "output_type": "stream",
     "text": [
      "0 Daily Return in USD\n",
      "1 Log Price in USD\n",
      "2 Volatility Daily Log Return in Percent 5D\n",
      "3 market/price_usd_close\n",
      "4 market/price_drawdown_relative\n",
      "5 market/price_realized_usd\n",
      "6 market/mvrv\n",
      "7 mining/difficulty_latest\n",
      "8 mining/hash_rate_mean\n",
      "9 blockchain/block_count\n",
      "10 blockchain/block_interval_mean\n",
      "11 blockchain/block_size_sum\n",
      "12 fees/volume_sum\n",
      "13 fees/volume_mean\n",
      "14 fees/fee_ratio_multiple\n",
      "15 blockchain/utxo_created_count\n",
      "16 blockchain/utxo_spent_count\n",
      "17 blockchain/utxo_created_value_sum\n",
      "18 blockchain/utxo_spent_value_sum\n",
      "19 blockchain/utxo_profit_relative\n",
      "20 blockchain/utxo_profit_count\n",
      "21 blockchain/utxo_loss_count\n",
      "22 supply/current\n",
      "23 supply/profit_relative\n",
      "24 supply/profit_sum\n",
      "25 supply/loss_sum\n",
      "26 supply/active_more_1y_percent\n",
      "27 supply/active_more_2y_percent\n",
      "28 supply/active_more_3y_percent\n",
      "29 supply/active_more_5y_percent\n",
      "30 supply/active_24h\n",
      "31 supply/active_1d_1w\n",
      "32 supply/active_1w_1m\n",
      "33 supply/active_1m_3m\n",
      "34 supply/active_3m_6m\n",
      "35 supply/active_6m_12m\n",
      "36 supply/active_1y_2y\n",
      "37 supply/active_2y_3y\n",
      "38 supply/active_3y_5y\n",
      "39 supply/active_5y_7y\n",
      "40 supply/active_7y_10y\n",
      "41 supply/active_more_10y\n",
      "42 supply/issued\n",
      "43 supply/inflation_rate\n",
      "44 transactions/count\n",
      "45 transactions/size_sum\n",
      "46 transactions/transfers_volume_sum\n",
      "47 transactions/transfers_volume_adjusted_sum\n",
      "48 indicators/sopr_adjusted\n",
      "49 indicators/nvt\n",
      "50 indicators/velocity\n",
      "51 indicators/cdd\n",
      "52 indicators/reserve_risk\n",
      "53 indicators/average_dormancy\n",
      "54 indicators/liveliness\n",
      "55 indicators/asol\n",
      "56 indicators/sol_1h\n",
      "57 indicators/sol_1h_24h\n",
      "58 indicators/sol_1d_1w\n",
      "59 indicators/sol_1w_1m\n",
      "60 indicators/sol_1m_3m\n",
      "61 indicators/sol_3m_6m\n",
      "62 indicators/sol_6m_12m\n",
      "63 indicators/sol_1y_2y\n",
      "64 indicators/sol_2y_3y\n",
      "65 indicators/sol_3y_5y\n",
      "66 indicators/sol_5y_7y\n",
      "67 indicators/sol_7y_10y\n",
      "68 indicators/net_unrealized_profit_loss\n",
      "69 indicators/unrealized_profit\n",
      "70 indicators/unrealized_loss\n",
      "71 indicators/net_realized_profit_loss\n",
      "72 indicators/realized_profit\n",
      "73 indicators/realized_loss\n",
      "74 indicators/nupl_more_155\n",
      "75 indicators/nupl_less_155\n",
      "76 indicators/puell_multiple\n",
      "77 indicators/stock_to_flow_deflection\n",
      "78 indicators/difficulty_ribbon_compression\n",
      "79 addresses/active_count\n",
      "80 addresses/sending_count\n",
      "81 addresses/receiving_count\n",
      "82 addresses/new_non_zero_count\n",
      "83 addresses/non_zero_count\n",
      "84 addresses/min_point_zero_1_count\n",
      "85 addresses/min_point_1_count\n",
      "86 addresses/min_1_count\n",
      "87 addresses/min_10_count\n",
      "88 addresses/min_100_count\n",
      "89 addresses/min_1k_count\n",
      "90 addresses/min_10k_count\n",
      "91 transactions/transfers_volume_to_exchanges_sum\n",
      "92 transactions/transfers_volume_from_exchanges_sum\n",
      "93 transactions/transfers_to_exchanges_count\n",
      "94 transactions/transfers_from_exchanges_count\n",
      "95 transactions/transfers_volume_exchanges_net\n",
      "96 distribution/balance_exchanges\n",
      "97 Close Gold\n",
      "98 Close Silver\n",
      "99 Close WTI Crude Oil\n",
      "100 Close Natural Gas\n",
      "101 Close Treasury Yield 5 Years\n",
      "102 Close Treasury Yield 10 Years\n",
      "103 Treasury Yield 30 Years\n",
      "104 Close Dow Jones Industrial Average\n",
      "105 Close Russell 2000\n",
      "106 Close S&P 500\n",
      "107 Close EURO STOXX 50\n",
      "108 Close NASDAQ\n",
      "109 Close VIX\n",
      "110 Close CBOE Skew\n",
      "111 Dow Jones Industrial Average Daily Change\n",
      "112 Russell 2000 Daily Change\n",
      "113 S&P 500 Daily Change\n",
      "114 EURO STOXX 50 Daily Change\n",
      "115 NASDAQ Daily Change\n",
      "116 VIX Daily Change\n",
      "117 CBOE Skew Daily Change\n",
      "118 Close USD Index\n",
      "119 Close EUR/USD\n",
      "120 Close JPY/USD\n",
      "121 Close GBP/USD\n",
      "122 Close CAD/USD\n",
      "123 Close SEK/USD\n",
      "124 Close CHF/USD\n",
      "125 Daily Return in USD_ohneshift\n",
      "126 percentage_daily_return_bef_shift\n",
      "127 market/price_usd_close_cummax\n",
      "128 price_usd_close_percent_of_maxtilnow\n",
      "129 Class\n"
     ]
    }
   ],
   "source": [
    "for x in range(len(df_dataset1.columns)):\n",
    "    print(x, df_dataset1.columns[x])"
   ]
  },
  {
   "cell_type": "code",
   "execution_count": 188,
   "metadata": {
    "ExecuteTime": {
     "end_time": "2020-12-26T22:50:00.367674Z",
     "start_time": "2020-12-26T22:50:00.353676Z"
    }
   },
   "outputs": [],
   "source": [
    "# Delete Original Target Column\n",
    "df_dataset1 = df_dataset1.drop(['Daily Return in USD'], axis=1)"
   ]
  },
  {
   "cell_type": "code",
   "execution_count": 189,
   "metadata": {
    "ExecuteTime": {
     "end_time": "2020-12-26T22:50:00.383607Z",
     "start_time": "2020-12-26T22:50:00.368635Z"
    }
   },
   "outputs": [
    {
     "data": {
      "text/plain": [
       "1.00    1243\n",
       "0.00    1004\n",
       "Name: Class, dtype: int64"
      ]
     },
     "execution_count": 189,
     "metadata": {},
     "output_type": "execute_result"
    }
   ],
   "source": [
    "# Check Class Balance\n",
    "df_dataset1['Class'].value_counts()"
   ]
  },
  {
   "cell_type": "code",
   "execution_count": 190,
   "metadata": {
    "ExecuteTime": {
     "end_time": "2020-12-26T22:50:00.415669Z",
     "start_time": "2020-12-26T22:50:00.385592Z"
    }
   },
   "outputs": [
    {
     "data": {
      "text/html": [
       "<div>\n",
       "<style scoped>\n",
       "    .dataframe tbody tr th:only-of-type {\n",
       "        vertical-align: middle;\n",
       "    }\n",
       "\n",
       "    .dataframe tbody tr th {\n",
       "        vertical-align: top;\n",
       "    }\n",
       "\n",
       "    .dataframe thead th {\n",
       "        text-align: right;\n",
       "    }\n",
       "</style>\n",
       "<table border=\"1\" class=\"dataframe\">\n",
       "  <thead>\n",
       "    <tr style=\"text-align: right;\">\n",
       "      <th></th>\n",
       "      <th>Log Price in USD</th>\n",
       "      <th>Volatility Daily Log Return in Percent 5D</th>\n",
       "      <th>market/price_usd_close</th>\n",
       "      <th>market/price_drawdown_relative</th>\n",
       "      <th>market/price_realized_usd</th>\n",
       "      <th>market/mvrv</th>\n",
       "      <th>mining/difficulty_latest</th>\n",
       "      <th>mining/hash_rate_mean</th>\n",
       "      <th>blockchain/block_count</th>\n",
       "      <th>blockchain/block_interval_mean</th>\n",
       "      <th>...</th>\n",
       "      <th>Close JPY/USD</th>\n",
       "      <th>Close GBP/USD</th>\n",
       "      <th>Close CAD/USD</th>\n",
       "      <th>Close SEK/USD</th>\n",
       "      <th>Close CHF/USD</th>\n",
       "      <th>Daily Return in USD_ohneshift</th>\n",
       "      <th>percentage_daily_return_bef_shift</th>\n",
       "      <th>market/price_usd_close_cummax</th>\n",
       "      <th>price_usd_close_percent_of_maxtilnow</th>\n",
       "      <th>Class</th>\n",
       "    </tr>\n",
       "    <tr>\n",
       "      <th>Date</th>\n",
       "      <th></th>\n",
       "      <th></th>\n",
       "      <th></th>\n",
       "      <th></th>\n",
       "      <th></th>\n",
       "      <th></th>\n",
       "      <th></th>\n",
       "      <th></th>\n",
       "      <th></th>\n",
       "      <th></th>\n",
       "      <th></th>\n",
       "      <th></th>\n",
       "      <th></th>\n",
       "      <th></th>\n",
       "      <th></th>\n",
       "      <th></th>\n",
       "      <th></th>\n",
       "      <th></th>\n",
       "      <th></th>\n",
       "      <th></th>\n",
       "      <th></th>\n",
       "    </tr>\n",
       "  </thead>\n",
       "  <tbody>\n",
       "    <tr>\n",
       "      <th>2011-08-24</th>\n",
       "      <td>2.38</td>\n",
       "      <td>0</td>\n",
       "      <td>10.85</td>\n",
       "      <td>-0.66</td>\n",
       "      <td>6.84</td>\n",
       "      <td>1.60</td>\n",
       "      <td>7755426037811680.00</td>\n",
       "      <td>11900546103872.40</td>\n",
       "      <td>134.00</td>\n",
       "      <td>651.69</td>\n",
       "      <td>...</td>\n",
       "      <td>0.01</td>\n",
       "      <td>1.65</td>\n",
       "      <td>1.01</td>\n",
       "      <td>0.16</td>\n",
       "      <td>1.26</td>\n",
       "      <td>-0.08</td>\n",
       "      <td>-0.01</td>\n",
       "      <td>23758.93</td>\n",
       "      <td>0.00</td>\n",
       "      <td>0.00</td>\n",
       "    </tr>\n",
       "    <tr>\n",
       "      <th>2011-08-23</th>\n",
       "      <td>2.39</td>\n",
       "      <td>0</td>\n",
       "      <td>10.93</td>\n",
       "      <td>-0.66</td>\n",
       "      <td>6.84</td>\n",
       "      <td>1.61</td>\n",
       "      <td>7755426037811680.00</td>\n",
       "      <td>13087830283303.00</td>\n",
       "      <td>155.00</td>\n",
       "      <td>592.57</td>\n",
       "      <td>...</td>\n",
       "      <td>0.01</td>\n",
       "      <td>1.65</td>\n",
       "      <td>1.01</td>\n",
       "      <td>0.16</td>\n",
       "      <td>1.27</td>\n",
       "      <td>-0.01</td>\n",
       "      <td>-0.00</td>\n",
       "      <td>23758.93</td>\n",
       "      <td>0.00</td>\n",
       "      <td>0.00</td>\n",
       "    </tr>\n",
       "    <tr>\n",
       "      <th>2011-08-22</th>\n",
       "      <td>2.39</td>\n",
       "      <td>0</td>\n",
       "      <td>10.94</td>\n",
       "      <td>-0.66</td>\n",
       "      <td>6.84</td>\n",
       "      <td>1.63</td>\n",
       "      <td>7755426037811680.00</td>\n",
       "      <td>15232874647151.10</td>\n",
       "      <td>169.00</td>\n",
       "      <td>509.12</td>\n",
       "      <td>...</td>\n",
       "      <td>0.01</td>\n",
       "      <td>1.65</td>\n",
       "      <td>1.01</td>\n",
       "      <td>0.16</td>\n",
       "      <td>1.27</td>\n",
       "      <td>-0.71</td>\n",
       "      <td>-0.06</td>\n",
       "      <td>23758.93</td>\n",
       "      <td>0.00</td>\n",
       "      <td>0.00</td>\n",
       "    </tr>\n",
       "    <tr>\n",
       "      <th>2011-08-19</th>\n",
       "      <td>2.46</td>\n",
       "      <td>0</td>\n",
       "      <td>11.65</td>\n",
       "      <td>-0.63</td>\n",
       "      <td>6.82</td>\n",
       "      <td>1.65</td>\n",
       "      <td>7755426037811680.00</td>\n",
       "      <td>11678381642086.70</td>\n",
       "      <td>131.00</td>\n",
       "      <td>664.08</td>\n",
       "      <td>...</td>\n",
       "      <td>0.01</td>\n",
       "      <td>1.65</td>\n",
       "      <td>1.01</td>\n",
       "      <td>0.16</td>\n",
       "      <td>1.26</td>\n",
       "      <td>0.80</td>\n",
       "      <td>0.07</td>\n",
       "      <td>23758.93</td>\n",
       "      <td>0.00</td>\n",
       "      <td>0.00</td>\n",
       "    </tr>\n",
       "    <tr>\n",
       "      <th>2011-08-18</th>\n",
       "      <td>2.38</td>\n",
       "      <td>0</td>\n",
       "      <td>10.85</td>\n",
       "      <td>-0.66</td>\n",
       "      <td>6.81</td>\n",
       "      <td>1.60</td>\n",
       "      <td>7755426037811680.00</td>\n",
       "      <td>12915246321786.50</td>\n",
       "      <td>144.00</td>\n",
       "      <td>600.49</td>\n",
       "      <td>...</td>\n",
       "      <td>0.01</td>\n",
       "      <td>1.65</td>\n",
       "      <td>1.02</td>\n",
       "      <td>0.16</td>\n",
       "      <td>1.27</td>\n",
       "      <td>-0.15</td>\n",
       "      <td>-0.01</td>\n",
       "      <td>23758.93</td>\n",
       "      <td>0.00</td>\n",
       "      <td>1.00</td>\n",
       "    </tr>\n",
       "  </tbody>\n",
       "</table>\n",
       "<p>5 rows × 129 columns</p>\n",
       "</div>"
      ],
      "text/plain": [
       "            Log Price in USD  Volatility Daily Log Return in Percent 5D  \\\n",
       "Date                                                                      \n",
       "2011-08-24              2.38                                          0   \n",
       "2011-08-23              2.39                                          0   \n",
       "2011-08-22              2.39                                          0   \n",
       "2011-08-19              2.46                                          0   \n",
       "2011-08-18              2.38                                          0   \n",
       "\n",
       "            market/price_usd_close  market/price_drawdown_relative  \\\n",
       "Date                                                                 \n",
       "2011-08-24                   10.85                           -0.66   \n",
       "2011-08-23                   10.93                           -0.66   \n",
       "2011-08-22                   10.94                           -0.66   \n",
       "2011-08-19                   11.65                           -0.63   \n",
       "2011-08-18                   10.85                           -0.66   \n",
       "\n",
       "            market/price_realized_usd  market/mvrv  mining/difficulty_latest  \\\n",
       "Date                                                                           \n",
       "2011-08-24                       6.84         1.60       7755426037811680.00   \n",
       "2011-08-23                       6.84         1.61       7755426037811680.00   \n",
       "2011-08-22                       6.84         1.63       7755426037811680.00   \n",
       "2011-08-19                       6.82         1.65       7755426037811680.00   \n",
       "2011-08-18                       6.81         1.60       7755426037811680.00   \n",
       "\n",
       "            mining/hash_rate_mean  blockchain/block_count  \\\n",
       "Date                                                        \n",
       "2011-08-24      11900546103872.40                  134.00   \n",
       "2011-08-23      13087830283303.00                  155.00   \n",
       "2011-08-22      15232874647151.10                  169.00   \n",
       "2011-08-19      11678381642086.70                  131.00   \n",
       "2011-08-18      12915246321786.50                  144.00   \n",
       "\n",
       "            blockchain/block_interval_mean  ...  Close JPY/USD  Close GBP/USD  \\\n",
       "Date                                        ...                                 \n",
       "2011-08-24                          651.69  ...           0.01           1.65   \n",
       "2011-08-23                          592.57  ...           0.01           1.65   \n",
       "2011-08-22                          509.12  ...           0.01           1.65   \n",
       "2011-08-19                          664.08  ...           0.01           1.65   \n",
       "2011-08-18                          600.49  ...           0.01           1.65   \n",
       "\n",
       "            Close CAD/USD  Close SEK/USD  Close CHF/USD  \\\n",
       "Date                                                      \n",
       "2011-08-24           1.01           0.16           1.26   \n",
       "2011-08-23           1.01           0.16           1.27   \n",
       "2011-08-22           1.01           0.16           1.27   \n",
       "2011-08-19           1.01           0.16           1.26   \n",
       "2011-08-18           1.02           0.16           1.27   \n",
       "\n",
       "            Daily Return in USD_ohneshift  percentage_daily_return_bef_shift  \\\n",
       "Date                                                                           \n",
       "2011-08-24                          -0.08                              -0.01   \n",
       "2011-08-23                          -0.01                              -0.00   \n",
       "2011-08-22                          -0.71                              -0.06   \n",
       "2011-08-19                           0.80                               0.07   \n",
       "2011-08-18                          -0.15                              -0.01   \n",
       "\n",
       "            market/price_usd_close_cummax  \\\n",
       "Date                                        \n",
       "2011-08-24                       23758.93   \n",
       "2011-08-23                       23758.93   \n",
       "2011-08-22                       23758.93   \n",
       "2011-08-19                       23758.93   \n",
       "2011-08-18                       23758.93   \n",
       "\n",
       "            price_usd_close_percent_of_maxtilnow  Class  \n",
       "Date                                                     \n",
       "2011-08-24                                  0.00   0.00  \n",
       "2011-08-23                                  0.00   0.00  \n",
       "2011-08-22                                  0.00   0.00  \n",
       "2011-08-19                                  0.00   0.00  \n",
       "2011-08-18                                  0.00   1.00  \n",
       "\n",
       "[5 rows x 129 columns]"
      ]
     },
     "execution_count": 190,
     "metadata": {},
     "output_type": "execute_result"
    }
   ],
   "source": [
    "# Data Set Head\n",
    "df_dataset1.tail()"
   ]
  },
  {
   "cell_type": "code",
   "execution_count": 191,
   "metadata": {},
   "outputs": [],
   "source": [
    "# Creating CSV-File for hp tuning\n",
    "df_dataset1.to_csv('df_dataset_hp.csv')"
   ]
  },
  {
   "cell_type": "code",
   "execution_count": 192,
   "metadata": {},
   "outputs": [
    {
     "ename": "NameError",
     "evalue": "name 'asd' is not defined",
     "output_type": "error",
     "traceback": [
      "\u001b[1;31m---------------------------------------------------------------------------\u001b[0m",
      "\u001b[1;31mNameError\u001b[0m                                 Traceback (most recent call last)",
      "\u001b[1;32m<ipython-input-192-c85320d9ddb9>\u001b[0m in \u001b[0;36m<module>\u001b[1;34m\u001b[0m\n\u001b[1;32m----> 1\u001b[1;33m \u001b[0masd\u001b[0m\u001b[1;33m\u001b[0m\u001b[1;33m\u001b[0m\u001b[0m\n\u001b[0m",
      "\u001b[1;31mNameError\u001b[0m: name 'asd' is not defined"
     ]
    }
   ],
   "source": [
    "asd"
   ]
  },
  {
   "cell_type": "markdown",
   "metadata": {},
   "source": [
    "# Model Preparation - Data Set I."
   ]
  },
  {
   "cell_type": "markdown",
   "metadata": {},
   "source": [
    "## Train Test Split - Data Set I."
   ]
  },
  {
   "cell_type": "code",
   "execution_count": null,
   "metadata": {
    "ExecuteTime": {
     "end_time": "2020-12-26T22:50:00.431500Z",
     "start_time": "2020-12-26T22:50:00.417507Z"
    }
   },
   "outputs": [],
   "source": [
    "# Setup of Predictors (Indpendent Variables) by Excluding Target Variable\n",
    "predictors = df_dataset1.drop(['Class'], axis=1).values.astype(np.float32)"
   ]
  },
  {
   "cell_type": "code",
   "execution_count": null,
   "metadata": {
    "ExecuteTime": {
     "end_time": "2020-12-26T22:50:00.447457Z",
     "start_time": "2020-12-26T22:50:00.433464Z"
    }
   },
   "outputs": [],
   "source": [
    "# Setup of Categorized Target Variable\n",
    "target = df_dataset1['Class'].astype(np.float32)"
   ]
  },
  {
   "cell_type": "code",
   "execution_count": null,
   "metadata": {
    "ExecuteTime": {
     "end_time": "2020-12-26T22:50:00.462762Z",
     "start_time": "2020-12-26T22:50:00.449538Z"
    }
   },
   "outputs": [],
   "source": [
    "# Predictor Dimensions\n",
    "predictors.shape"
   ]
  },
  {
   "cell_type": "code",
   "execution_count": null,
   "metadata": {
    "ExecuteTime": {
     "end_time": "2020-12-26T22:50:00.478377Z",
     "start_time": "2020-12-26T22:50:00.464381Z"
    }
   },
   "outputs": [],
   "source": [
    "for x in range(len(predictors[0])):\n",
    "    print(x, predictors[0][x])"
   ]
  },
  {
   "cell_type": "code",
   "execution_count": null,
   "metadata": {
    "ExecuteTime": {
     "end_time": "2020-12-26T22:50:00.494300Z",
     "start_time": "2020-12-26T22:50:00.480338Z"
    }
   },
   "outputs": [],
   "source": [
    "# Target Dimensions\n",
    "target.shape"
   ]
  },
  {
   "cell_type": "code",
   "execution_count": null,
   "metadata": {
    "ExecuteTime": {
     "end_time": "2020-12-26T22:50:00.509782Z",
     "start_time": "2020-12-26T22:50:00.496296Z"
    }
   },
   "outputs": [],
   "source": [
    "# Train-Test-Split Function to Create Training and Test Data Set\n",
    "X_train, X_test, y_train, y_test = train_test_split(predictors, target, test_size=0.3, random_state = 41, stratify=target)"
   ]
  },
  {
   "cell_type": "code",
   "execution_count": null,
   "metadata": {
    "ExecuteTime": {
     "end_time": "2020-12-26T22:50:00.525235Z",
     "start_time": "2020-12-26T22:50:00.511340Z"
    }
   },
   "outputs": [],
   "source": [
    "# Dimensions of Predictors for Training\n",
    "X_train.shape"
   ]
  },
  {
   "cell_type": "code",
   "execution_count": null,
   "metadata": {
    "ExecuteTime": {
     "end_time": "2020-12-26T22:50:00.541176Z",
     "start_time": "2020-12-26T22:50:00.527213Z"
    }
   },
   "outputs": [],
   "source": [
    "# Dimensions of Target for Training\n",
    "y_train.shape"
   ]
  },
  {
   "cell_type": "code",
   "execution_count": null,
   "metadata": {
    "ExecuteTime": {
     "end_time": "2020-12-26T22:50:00.557169Z",
     "start_time": "2020-12-26T22:50:00.542173Z"
    }
   },
   "outputs": [],
   "source": [
    "# Number of Predictors\n",
    "n_nodes = predictors.shape[1]\n",
    "n_nodes"
   ]
  },
  {
   "cell_type": "markdown",
   "metadata": {},
   "source": [
    "### Check of Class Balance"
   ]
  },
  {
   "cell_type": "code",
   "execution_count": null,
   "metadata": {
    "ExecuteTime": {
     "end_time": "2020-12-26T22:50:00.573090Z",
     "start_time": "2020-12-26T22:50:00.558130Z"
    }
   },
   "outputs": [],
   "source": [
    "# Check Training Target of Class 0\n",
    "y_train[y_train==0].count()"
   ]
  },
  {
   "cell_type": "code",
   "execution_count": null,
   "metadata": {
    "ExecuteTime": {
     "end_time": "2020-12-26T22:50:00.589047Z",
     "start_time": "2020-12-26T22:50:00.574088Z"
    }
   },
   "outputs": [],
   "source": [
    "# Check Training Target of Class 1\n",
    "y_train[y_train==1].count()"
   ]
  },
  {
   "cell_type": "code",
   "execution_count": null,
   "metadata": {
    "ExecuteTime": {
     "end_time": "2020-12-26T22:50:00.605039Z",
     "start_time": "2020-12-26T22:50:00.590044Z"
    }
   },
   "outputs": [],
   "source": [
    "# Check Test Target of Class 0\n",
    "y_test[y_test==0].count()"
   ]
  },
  {
   "cell_type": "code",
   "execution_count": null,
   "metadata": {
    "ExecuteTime": {
     "end_time": "2020-12-26T22:50:00.619999Z",
     "start_time": "2020-12-26T22:50:00.606012Z"
    }
   },
   "outputs": [],
   "source": [
    "# Check Test Target of Class 1\n",
    "y_test[y_test==1].count()"
   ]
  },
  {
   "cell_type": "markdown",
   "metadata": {},
   "source": [
    "# Feature Selection random forest"
   ]
  },
  {
   "cell_type": "code",
   "execution_count": null,
   "metadata": {
    "ExecuteTime": {
     "end_time": "2020-12-26T22:50:00.634982Z",
     "start_time": "2020-12-26T22:50:00.621959Z"
    },
    "scrolled": true
   },
   "outputs": [],
   "source": [
    "# import pandas as pd\n",
    "# from sklearn.feature_selection import SelectFromModel\n",
    "\n",
    "# rank_delete_list = []\n",
    "# df_dataset1_columns_keep = []\n",
    "\n",
    "\n",
    "# # old values:\n",
    "# # RandomForestClassifier(max_depth=4, min_samples_leaf=4, min_samples_split=3,\n",
    "# #                        n_estimators=625)\n",
    "\n",
    "# # define RFE\n",
    "# sel = SelectFromModel(RandomForestClassifier(max_depth=10, max_features='sqrt', min_samples_leaf=2,\n",
    "#                        min_samples_split=10, n_estimators=1000))\n",
    "\n",
    "# # fit RFE\n",
    "# sel.fit(X_train, y_train)\n",
    "# # summarize all features\n",
    "# sel.get_support()\n",
    "\n",
    "# # summarize all features\n",
    "# for i in range(X_train.shape[1]):\n",
    "#     if sel.get_support()[i] == False:\n",
    "#         rank_delete_list.append(i)\n",
    "#     else:\n",
    "#         print('Column: %d, Selected %s, col %s' % (i, sel.get_support()[i], df_dataset1.columns[i] ))\n",
    "#         df_dataset1_columns_keep.append(df_dataset1.columns[i])"
   ]
  },
  {
   "cell_type": "code",
   "execution_count": null,
   "metadata": {
    "ExecuteTime": {
     "end_time": "2020-12-26T22:50:00.650444Z",
     "start_time": "2020-12-26T22:50:00.636951Z"
    }
   },
   "outputs": [],
   "source": [
    "# df_dataset1_columns_keep"
   ]
  },
  {
   "cell_type": "code",
   "execution_count": null,
   "metadata": {
    "ExecuteTime": {
     "end_time": "2020-12-26T22:50:00.665844Z",
     "start_time": "2020-12-26T22:50:00.654915Z"
    },
    "scrolled": true
   },
   "outputs": [],
   "source": [
    "# df_dataset1=df_dataset1[df_dataset1_columns_keep]\n",
    "# df_dataset1"
   ]
  },
  {
   "cell_type": "code",
   "execution_count": null,
   "metadata": {
    "ExecuteTime": {
     "end_time": "2020-12-26T22:50:00.681801Z",
     "start_time": "2020-12-26T22:50:00.668835Z"
    }
   },
   "outputs": [],
   "source": [
    "# predictors.shape"
   ]
  },
  {
   "cell_type": "code",
   "execution_count": null,
   "metadata": {
    "ExecuteTime": {
     "end_time": "2020-12-26T22:50:00.697758Z",
     "start_time": "2020-12-26T22:50:00.684792Z"
    }
   },
   "outputs": [],
   "source": [
    "# predictors = np.delete(predictors, rank_delete_list, 1)"
   ]
  },
  {
   "cell_type": "code",
   "execution_count": null,
   "metadata": {
    "ExecuteTime": {
     "end_time": "2020-12-26T22:50:00.713715Z",
     "start_time": "2020-12-26T22:50:00.699762Z"
    }
   },
   "outputs": [],
   "source": [
    "predictors.shape"
   ]
  },
  {
   "cell_type": "markdown",
   "metadata": {},
   "source": [
    "# Visualize pred vs reality"
   ]
  },
  {
   "cell_type": "code",
   "execution_count": null,
   "metadata": {
    "ExecuteTime": {
     "end_time": "2020-12-26T22:50:00.728674Z",
     "start_time": "2020-12-26T22:50:00.714713Z"
    }
   },
   "outputs": [],
   "source": [
    "# Split Data into Training and Testing\n",
    "X_train, X_test, y_train, y_test = train_test_split(\n",
    "    predictors, target, test_size=0.3, stratify=target)\n",
    "\n",
    "# Amount of Columns\n",
    "n_nodes = predictors.shape[1]\n",
    "\n",
    "# Instantiation of MinMaxScaler\n",
    "norm_scaler = MinMaxScaler()\n",
    "\n",
    "# Training and Application of Feature Scaler on Training Data of Predictors\n",
    "X_train_scaled = pd.DataFrame(norm_scaler.fit_transform(X_train))\n",
    "\n",
    "# Application of Feature Scaler on Test Data of Predictors\n",
    "X_test_scaled = norm_scaler.transform(X_test)\n",
    "\n"
   ]
  },
  {
   "cell_type": "markdown",
   "metadata": {},
   "source": [
    "# Hyperparam tuning"
   ]
  },
  {
   "cell_type": "code",
   "execution_count": null,
   "metadata": {
    "ExecuteTime": {
     "end_time": "2020-12-26T22:50:00.743891Z",
     "start_time": "2020-12-26T22:50:00.730669Z"
    }
   },
   "outputs": [],
   "source": [
    "# from sklearn.model_selection import GridSearchCV\n",
    "# import warnings\n",
    "# warnings.filterwarnings('ignore')\n",
    "\n",
    "# LR = LogisticRegression()\n",
    "# LRparam_grid = {\n",
    "#     'C': [1], #1\n",
    "#      'penalty': ['l1'], #l2\n",
    "#      'max_iter': [1200, 12000],\n",
    "#      'solver': ['liblinear',] #,  'sag', 'saga' , 'lbfgs'  #'newton-cg'\n",
    "# }\n",
    "# LR_search = GridSearchCV(LR, param_grid=LRparam_grid, refit = True, verbose = 3, cv=5)\n",
    "\n",
    "# # fitting the model for grid search \n",
    "# LR_search.fit(X_train , y_train)\n",
    "# LR_search.best_params_\n",
    "# # summarize\n",
    "# print('Mean Accuracy: %.3f' % LR_search.best_score_)\n",
    "# print('Config: %s' % LR_search.best_params_)"
   ]
  },
  {
   "cell_type": "code",
   "execution_count": null,
   "metadata": {
    "ExecuteTime": {
     "end_time": "2020-12-26T22:50:00.759914Z",
     "start_time": "2020-12-26T22:50:00.745664Z"
    }
   },
   "outputs": [],
   "source": [
    "# from sklearn.model_selection import GridSearchCV\n",
    "# import warnings\n",
    "# warnings.filterwarnings('ignore')\n",
    "\n",
    "# LR = LogisticRegression()\n",
    "# LRparam_grid = {\n",
    "#     'C': [1], #1\n",
    "#      'penalty': ['l1'], #l2\n",
    "#      'max_iter': [1100],\n",
    "#      'solver': ['liblinear',] #,  'sag', 'saga' , 'lbfgs'  #'newton-cg'\n",
    "# }\n",
    "# LR_search = GridSearchCV(LR, param_grid=LRparam_grid, refit = True, verbose = 3, cv=5)\n",
    "\n",
    "# # fitting the model for grid search \n",
    "# LR_search.fit(X_train , y_train)\n",
    "# LR_search.best_params_\n",
    "# # summarize\n",
    "# print('Mean Accuracy: %.3f' % LR_search.best_score_)\n",
    "# print('Config: %s' % LR_search.best_params_)"
   ]
  },
  {
   "cell_type": "code",
   "execution_count": null,
   "metadata": {
    "ExecuteTime": {
     "end_time": "2020-12-27T00:56:05.245091Z",
     "start_time": "2020-12-27T00:56:05.231910Z"
    }
   },
   "outputs": [],
   "source": [
    "train_features = X_train\n",
    "train_labels = y_train\n",
    "test_features = X_test\n",
    "test_labels = y_test"
   ]
  },
  {
   "cell_type": "code",
   "execution_count": null,
   "metadata": {
    "ExecuteTime": {
     "end_time": "2020-12-27T00:56:06.063829Z",
     "start_time": "2020-12-27T00:56:05.950164Z"
    }
   },
   "outputs": [],
   "source": [
    "from numpy import inf\n",
    "\n",
    "def evaluate(model, test_features, test_labels):\n",
    "    predictions = model.predict(test_features)\n",
    "    #print(\"predictions {} _test_labels {} \".format(predictions, test_labels))\n",
    "    errors = int( np.sum((predictions==test_labels) == False) )\n",
    "    alle = len(test_labels.values)\n",
    "    x = errors / alle\n",
    "    mape = 100 * errors / alle\n",
    "    accuracy = 100 - mape\n",
    "    print('Model Performance')\n",
    "    print('Amount Errors total {} of {} '.format(np.mean(errors), alle))\n",
    "    print('Accuracy = {:0.2f}%.'.format(accuracy))\n",
    "    return accuracy\n",
    "    \n",
    "base_model = RandomForestClassifier(n_estimators = 10)\n",
    "base_model.fit(train_features, train_labels)\n",
    "base_accuracy = evaluate(base_model, test_features, test_labels)"
   ]
  },
  {
   "cell_type": "code",
   "execution_count": null,
   "metadata": {
    "ExecuteTime": {
     "end_time": "2020-12-27T00:59:47.508279Z",
     "start_time": "2020-12-27T00:59:47.492322Z"
    }
   },
   "outputs": [],
   "source": [
    "from sklearn.model_selection import RandomizedSearchCV\n",
    "# Number of trees in random forest\n",
    "n_estimators = [int(x) for x in np.linspace(start = 200, stop = 2000, num = 8)]\n",
    "# Number of features to consider at every split\n",
    "max_features = ['auto', 'sqrt']\n",
    "# Maximum number of levels in tree\n",
    "max_depth = [int(x) for x in np.linspace(10, 110, num = 8)]\n",
    "max_depth.append(None)\n",
    "# Minimum number of samples required to split a node\n",
    "min_samples_split = [2, 5, 10]\n",
    "# Minimum number of samples required at each leaf node\n",
    "min_samples_leaf = [1, 2, 4]\n",
    "# Method of selecting samples for training each tree\n",
    "bootstrap = [True, False]\n",
    "# Create the random grid\n",
    "param_grid = {'n_estimators': n_estimators,\n",
    "               'max_features': max_features,\n",
    "               'max_depth': max_depth,\n",
    "               'min_samples_split': min_samples_split,\n",
    "               'min_samples_leaf': min_samples_leaf,\n",
    "               'bootstrap': bootstrap}\n",
    "print(param_grid)"
   ]
  },
  {
   "cell_type": "code",
   "execution_count": null,
   "metadata": {
    "ExecuteTime": {
     "end_time": "2020-12-27T00:59:48.247856Z",
     "start_time": "2020-12-27T00:59:48.238881Z"
    }
   },
   "outputs": [],
   "source": [
    "# from sklearn.model_selection import GridSearchCV\n",
    "\n",
    "# # Create a based model\n",
    "# rf = RandomForestClassifier()\n",
    "# # Instantiate the grid search model\n",
    "# grid_search = GridSearchCV(estimator = rf, param_grid = param_grid, \n",
    "#                           cv = 3, n_jobs = -1, verbose = 2)"
   ]
  },
  {
   "cell_type": "code",
   "execution_count": null,
   "metadata": {
    "ExecuteTime": {
     "end_time": "2020-12-27T05:47:42.805436Z",
     "start_time": "2020-12-27T00:59:49.066412Z"
    }
   },
   "outputs": [],
   "source": [
    "# # Fit the grid search to the data\n",
    "# grid_search.fit(train_features, train_labels)\n",
    "# grid_search.best_params_"
   ]
  },
  {
   "cell_type": "markdown",
   "metadata": {},
   "source": [
    "search:\n",
    "{'n_estimators': [200, 457, 714, 971, 1228, 1485, 1742, 2000], \n",
    " 'max_features': ['auto', 'sqrt'],\n",
    " 'max_depth': [10, 24, 38, 52, 67, 81, 95, 110, None],\n",
    " 'min_samples_split': [2, 5, 10],\n",
    " 'min_samples_leaf': [1, 2, 4], \n",
    " 'bootstrap': [True, False]}\n",
    "result:\n",
    "{'bootstrap': True,\n",
    " 'max_depth': 10,\n",
    " 'max_features': 'auto',\n",
    " 'min_samples_leaf': 2,\n",
    " 'min_samples_split': 2,\n",
    " 'n_estimators': 200}"
   ]
  },
  {
   "cell_type": "code",
   "execution_count": null,
   "metadata": {
    "ExecuteTime": {
     "end_time": "2020-12-27T05:47:42.869265Z",
     "start_time": "2020-12-27T05:47:42.808430Z"
    }
   },
   "outputs": [],
   "source": [
    "# best_grid = grid_search.best_estimator_\n",
    "# grid_accuracy = evaluate(best_grid, test_features, test_labels)"
   ]
  },
  {
   "cell_type": "code",
   "execution_count": null,
   "metadata": {
    "ExecuteTime": {
     "end_time": "2020-12-27T05:47:42.885222Z",
     "start_time": "2020-12-27T05:47:42.871875Z"
    }
   },
   "outputs": [],
   "source": [
    "# print('Improvement of {:0.2f}%.'.format( 100 * (grid_accuracy - base_accuracy) / base_accuracy))"
   ]
  },
  {
   "cell_type": "code",
   "execution_count": null,
   "metadata": {
    "ExecuteTime": {
     "end_time": "2020-12-27T05:47:42.901208Z",
     "start_time": "2020-12-27T05:47:42.887218Z"
    }
   },
   "outputs": [],
   "source": [
    "# best_grid"
   ]
  },
  {
   "cell_type": "code",
   "execution_count": null,
   "metadata": {},
   "outputs": [],
   "source": []
  },
  {
   "cell_type": "code",
   "execution_count": null,
   "metadata": {
    "ExecuteTime": {
     "end_time": "2020-12-26T22:50:00.880842Z",
     "start_time": "2020-12-26T22:50:00.762873Z"
    }
   },
   "outputs": [],
   "source": [
    "# Instantiate Classifier Logistic Regression\n",
    "lreg = LogisticRegression(max_iter=1200)\n",
    "\n",
    "# Train Classifier\n",
    "lreg.fit(X_train_scaled, y_train)\n",
    "\n",
    "# Prediction of Classes\n",
    "y_pred = lreg.predict(X_test_scaled)\n",
    "\n",
    "# Display Confusion Matrix and Classification Report\n",
    "print(confusion_matrix(y_test, y_pred))\n",
    "#     print(classification_report(y_test, y_pred))\n",
    "\n",
    "# Prediction of Probabilities\n",
    "y_pred_prob = lreg.predict_proba(X_test_scaled)[:, 1]\n",
    "\n",
    "# Create Data Frame of Actual Values - y_test\n",
    "df_y_test = pd.DataFrame(y_test)\n",
    "\n",
    "# Add Predicted Probabilities to Data Frame\n",
    "df_y_test[\"y_pred_prob\"] = y_pred_prob\n",
    "\n",
    "# Add Predicted Classes (0 or 1) to Data Frame to Cross-Check Predicted Probabilities\n",
    "df_y_test[\"y_pred\"] = y_pred"
   ]
  },
  {
   "cell_type": "code",
   "execution_count": null,
   "metadata": {},
   "outputs": [],
   "source": []
  },
  {
   "cell_type": "code",
   "execution_count": null,
   "metadata": {
    "ExecuteTime": {
     "end_time": "2020-12-26T22:50:00.896411Z",
     "start_time": "2020-12-26T22:50:00.882399Z"
    }
   },
   "outputs": [],
   "source": [
    "df_y_test=df_y_test.sort_index()\n",
    "df_y_test"
   ]
  },
  {
   "cell_type": "code",
   "execution_count": null,
   "metadata": {
    "ExecuteTime": {
     "end_time": "2020-12-26T22:50:00.912353Z",
     "start_time": "2020-12-26T22:50:00.897359Z"
    }
   },
   "outputs": [],
   "source": [
    "df_y_test[df_y_test['Class']!=df_y_test['y_pred']]"
   ]
  },
  {
   "cell_type": "code",
   "execution_count": null,
   "metadata": {
    "ExecuteTime": {
     "end_time": "2020-12-26T22:50:00.928018Z",
     "start_time": "2020-12-26T22:50:00.913329Z"
    }
   },
   "outputs": [],
   "source": [
    "df_y_test[df_y_test['Class']==df_y_test['y_pred']]"
   ]
  },
  {
   "cell_type": "code",
   "execution_count": null,
   "metadata": {
    "ExecuteTime": {
     "end_time": "2020-12-26T22:50:00.991140Z",
     "start_time": "2020-12-26T22:50:00.929272Z"
    }
   },
   "outputs": [],
   "source": [
    "import plotly.graph_objects as go\n",
    "\n",
    "# Create traces\n",
    "fig = go.Figure()\n",
    "fig.add_trace(go.Scatter(x=df_y_test.index, y=df_y_test['Class'],\n",
    "                    mode='lines+markers',\n",
    "                    name='Class - reality'))\n",
    "fig.add_trace(go.Scatter(x=df_y_test.index, y=df_y_test['y_pred_prob'],\n",
    "                    mode='lines+markers',\n",
    "                    name='y_pred'))\n",
    "fig.show()\n"
   ]
  },
  {
   "cell_type": "code",
   "execution_count": null,
   "metadata": {
    "ExecuteTime": {
     "end_time": "2020-12-26T22:50:01.006469Z",
     "start_time": "2020-12-26T22:50:00.992141Z"
    }
   },
   "outputs": [],
   "source": [
    "# Select Actual Daily Returns in USD from the Data Set Copy\n",
    "df_dataset1_copy_dailyreturns = df_dataset1_copy[['Daily Return in USD']]\n",
    "\n",
    "# # Merge Predictions and Daily Returns Data Frame on the Column \"Date\"\n",
    "# df_y_test_withdailyreturns = pd.merge(\n",
    "#     df_y_test, df_dataset1_copy_dailyreturns, on='Date')\n",
    "\n",
    "# df_dataset1_copy_percentage = df_dataset1_copy[['percentage_daily_return']]\n",
    "# df_y_test_withdailyreturns = pd.merge(\n",
    "#     df_y_test_withdailyreturns, df_dataset1_copy_percentage, on='Date')\n",
    "\n",
    "# # Add Bitcoin Price in USD\n",
    "# df_y_test_withdailyreturns = pd.merge(\n",
    "#     df_y_test_withdailyreturns, df_dataset1['market/price_usd_close'], on='Date')\n",
    "\n",
    "# df_y_test_withdailyreturns['y_pred_prob_bereinigt'] = np.where(\n",
    "#     df_y_test_withdailyreturns['y_pred_prob'] < 0.5, 1-df_y_test_withdailyreturns['y_pred_prob'], df_y_test_withdailyreturns['y_pred_prob'])\n",
    "\n",
    "# df_y_test_withdailyreturns[\"Einsatz\"] = einsatz * \\\n",
    "#     df_y_test_withdailyreturns[\"y_pred_prob_bereinigt\"]  # **2\n"
   ]
  },
  {
   "cell_type": "code",
   "execution_count": null,
   "metadata": {},
   "outputs": [],
   "source": []
  },
  {
   "cell_type": "code",
   "execution_count": null,
   "metadata": {},
   "outputs": [],
   "source": []
  },
  {
   "cell_type": "markdown",
   "metadata": {},
   "source": [
    "## Feature Scaling - Data Set I."
   ]
  },
  {
   "cell_type": "code",
   "execution_count": null,
   "metadata": {
    "ExecuteTime": {
     "end_time": "2020-12-26T22:50:01.022025Z",
     "start_time": "2020-12-26T22:50:01.012052Z"
    }
   },
   "outputs": [],
   "source": [
    "# Instantiation of MinMaxScaler and StandardSacler\n",
    "norm_scaler = MinMaxScaler()\n",
    "#std_scaler = StandardScaler()"
   ]
  },
  {
   "cell_type": "code",
   "execution_count": null,
   "metadata": {
    "ExecuteTime": {
     "end_time": "2020-12-26T22:50:01.037981Z",
     "start_time": "2020-12-26T22:50:01.025018Z"
    }
   },
   "outputs": [],
   "source": [
    "# Scaler Training and Transformation of Training Set\n",
    "X_train_scaled = pd.DataFrame(norm_scaler.fit_transform(X_train))"
   ]
  },
  {
   "cell_type": "code",
   "execution_count": null,
   "metadata": {
    "ExecuteTime": {
     "end_time": "2020-12-26T22:50:01.053728Z",
     "start_time": "2020-12-26T22:50:01.038979Z"
    }
   },
   "outputs": [],
   "source": [
    "# Scaler Transformation of Test Set\n",
    "X_test_scaled = norm_scaler.transform(X_test)"
   ]
  },
  {
   "cell_type": "code",
   "execution_count": null,
   "metadata": {
    "ExecuteTime": {
     "end_time": "2020-12-26T22:50:01.069693Z",
     "start_time": "2020-12-26T22:50:01.054697Z"
    }
   },
   "outputs": [],
   "source": [
    "# Scaled Test Features\n",
    "X_test_scaled"
   ]
  },
  {
   "cell_type": "code",
   "execution_count": null,
   "metadata": {
    "ExecuteTime": {
     "end_time": "2020-12-26T22:50:01.085612Z",
     "start_time": "2020-12-26T22:50:01.070687Z"
    }
   },
   "outputs": [],
   "source": [
    "# Scaler Transformation of Entire Training Set - Input for Cross-Validation\n",
    "predictors_scaled = norm_scaler.transform(predictors)"
   ]
  },
  {
   "cell_type": "markdown",
   "metadata": {},
   "source": [
    "# Classification Models - Data Set I."
   ]
  },
  {
   "cell_type": "code",
   "execution_count": null,
   "metadata": {
    "ExecuteTime": {
     "end_time": "2020-12-26T22:50:01.100811Z",
     "start_time": "2020-12-26T22:50:01.086789Z"
    }
   },
   "outputs": [],
   "source": [
    "# Function To Show Accuracy Mean and Accuracy Standard Deviation\n",
    "def show_scores(scores):\n",
    "    # Scores Series\n",
    "    print('Scores:', scores)\n",
    "    # Score Mean\n",
    "    print('Mean:', np.mean(scores))\n",
    "    # Score Standard Deviation\n",
    "    print('Standard Deviation:', np.std(scores))"
   ]
  },
  {
   "cell_type": "code",
   "execution_count": null,
   "metadata": {},
   "outputs": [],
   "source": []
  },
  {
   "cell_type": "code",
   "execution_count": null,
   "metadata": {},
   "outputs": [],
   "source": []
  },
  {
   "cell_type": "code",
   "execution_count": null,
   "metadata": {},
   "outputs": [],
   "source": []
  },
  {
   "cell_type": "code",
   "execution_count": null,
   "metadata": {},
   "outputs": [],
   "source": []
  },
  {
   "cell_type": "markdown",
   "metadata": {},
   "source": [
    "## XGBoost - Data Set I."
   ]
  },
  {
   "cell_type": "code",
   "execution_count": null,
   "metadata": {
    "ExecuteTime": {
     "end_time": "2020-12-26T22:50:08.143404Z",
     "start_time": "2020-12-26T22:50:01.101569Z"
    }
   },
   "outputs": [],
   "source": [
    "# Test Accuracy\n",
    "from sklearn.metrics import accuracy_score\n",
    "from xgboost import XGBClassifier\n",
    "\n",
    "# Instantiate Classifier - LogisticRegression\n",
    "model = XGBClassifier(base_score=0.5, booster='gbtree', colsample_bylevel=1,\n",
    "              colsample_bynode=1, colsample_bytree=0.58, gamma=2.5,\n",
    "              learning_rate=0.12049999999999998, max_delta_step=0, max_depth=2,\n",
    "              min_child_weight=0, missing=None, n_estimators=48, n_jobs=1,\n",
    "              nthread=None, objective='reg:squarederror', random_state=0,\n",
    "              reg_alpha=0, reg_lambda=1, scale_pos_weight=1, seed=None,\n",
    "              silent=None, subsample=0.8999999999999999, verbosity=1)\n",
    "\n",
    "accuarylist = []\n",
    "\n",
    "for x in range(30):\n",
    "    # Split Data into Training and Testing\n",
    "    X_train, X_test, y_train, y_test = train_test_split(\n",
    "        predictors, target, test_size=0.3, stratify=target)\n",
    "    \n",
    "    # Scaler Training and Transformation of Training Set\n",
    "    #X_train_scaled = pd.DataFrame(norm_scaler.fit_transform(X_train))\n",
    "    #X_test_scaled = pd.DataFrame(norm_scaler.fit_transform(X_test))\n",
    "    \n",
    "    # Train Classifier\n",
    "    model.fit(X_train, y_train)\n",
    "    y_pred = model.predict(X_test)\n",
    "    predictions = [round(value) for value in y_pred]\n",
    "    accuracy = accuracy_score(y_test, predictions)\n",
    "    accuarylist.append(accuracy * 100.0)\n",
    "\n",
    "meanacc = np.mean(accuarylist)"
   ]
  },
  {
   "cell_type": "code",
   "execution_count": null,
   "metadata": {
    "ExecuteTime": {
     "end_time": "2020-12-26T22:50:08.158397Z",
     "start_time": "2020-12-26T22:50:08.145401Z"
    }
   },
   "outputs": [],
   "source": [
    "# Prediction of Classes\n",
    "y_pred = model.predict(X_test)"
   ]
  },
  {
   "cell_type": "code",
   "execution_count": null,
   "metadata": {
    "ExecuteTime": {
     "end_time": "2020-12-26T22:50:08.178148Z",
     "start_time": "2020-12-26T22:50:08.159362Z"
    }
   },
   "outputs": [],
   "source": [
    "# Prediction of Probabilities\n",
    "y_pred_prob = model.predict_proba(X_test)[:,1]"
   ]
  },
  {
   "cell_type": "code",
   "execution_count": null,
   "metadata": {
    "ExecuteTime": {
     "end_time": "2020-12-26T22:50:08.194140Z",
     "start_time": "2020-12-26T22:50:08.180157Z"
    }
   },
   "outputs": [],
   "source": [
    "# Select Predicted Probabilities\n",
    "y_pred_prob[1:11]"
   ]
  },
  {
   "cell_type": "code",
   "execution_count": null,
   "metadata": {
    "ExecuteTime": {
     "end_time": "2020-12-26T22:50:08.210097Z",
     "start_time": "2020-12-26T22:50:08.196338Z"
    }
   },
   "outputs": [],
   "source": [
    "# Select Actual Classes\n",
    "np.array(y_test[1:11])"
   ]
  },
  {
   "cell_type": "code",
   "execution_count": null,
   "metadata": {
    "ExecuteTime": {
     "end_time": "2020-12-26T22:50:08.226020Z",
     "start_time": "2020-12-26T22:50:08.212057Z"
    }
   },
   "outputs": [],
   "source": [
    "# Train Accuracy\n",
    "model.score(X_train, y_train)"
   ]
  },
  {
   "cell_type": "code",
   "execution_count": null,
   "metadata": {
    "ExecuteTime": {
     "end_time": "2020-12-26T22:50:08.257968Z",
     "start_time": "2020-12-26T22:50:08.227017Z"
    },
    "scrolled": true
   },
   "outputs": [],
   "source": [
    "# Test Accuracy\n",
    "for x in range(10):\n",
    "    print(model.score(X_test, y_test))"
   ]
  },
  {
   "cell_type": "code",
   "execution_count": null,
   "metadata": {
    "ExecuteTime": {
     "end_time": "2020-12-26T22:50:08.273891Z",
     "start_time": "2020-12-26T22:50:08.259930Z"
    },
    "scrolled": true
   },
   "outputs": [],
   "source": [
    "# Output of Confusion Matrix\n",
    "print(confusion_matrix(y_test, y_pred))"
   ]
  },
  {
   "cell_type": "code",
   "execution_count": null,
   "metadata": {
    "ExecuteTime": {
     "end_time": "2020-12-26T22:50:08.289211Z",
     "start_time": "2020-12-26T22:50:08.275886Z"
    }
   },
   "outputs": [],
   "source": [
    "# Output of Classification Report\n",
    "print(classification_report(y_test, y_pred))"
   ]
  },
  {
   "cell_type": "code",
   "execution_count": null,
   "metadata": {
    "ExecuteTime": {
     "end_time": "2020-12-26T22:50:08.304606Z",
     "start_time": "2020-12-26T22:50:08.290848Z"
    }
   },
   "outputs": [],
   "source": [
    "# Generate ROC curve values: fpr, tpr, thresholds\n",
    "fpr, tpr, thresholds = roc_curve(y_test, y_pred_prob)"
   ]
  },
  {
   "cell_type": "code",
   "execution_count": null,
   "metadata": {
    "ExecuteTime": {
     "end_time": "2020-12-26T22:50:08.319807Z",
     "start_time": "2020-12-26T22:50:08.306805Z"
    }
   },
   "outputs": [],
   "source": [
    "# 10-fold Cross Validation including Stratification\n",
    "skf = StratifiedKFold(shuffle=True, n_splits=10)"
   ]
  },
  {
   "cell_type": "code",
   "execution_count": null,
   "metadata": {
    "ExecuteTime": {
     "end_time": "2020-12-26T22:50:08.335765Z",
     "start_time": "2020-12-26T22:50:08.321798Z"
    }
   },
   "outputs": [],
   "source": [
    "# Compute and print AUC Score\n",
    "print(\"AUC: {}\".format(roc_auc_score(y_test, y_pred_prob)))"
   ]
  },
  {
   "cell_type": "code",
   "execution_count": null,
   "metadata": {
    "ExecuteTime": {
     "end_time": "2020-12-26T22:50:08.492608Z",
     "start_time": "2020-12-26T22:50:08.336756Z"
    }
   },
   "outputs": [],
   "source": [
    "# Cross-Validation for AUC scores\n",
    "cv_auc = cross_val_score(lreg, predictors, target, cv=skf, scoring='roc_auc')"
   ]
  },
  {
   "cell_type": "code",
   "execution_count": null,
   "metadata": {
    "ExecuteTime": {
     "end_time": "2020-12-26T22:50:08.508513Z",
     "start_time": "2020-12-26T22:50:08.493665Z"
    }
   },
   "outputs": [],
   "source": [
    "# Print List of AUC scores\n",
    "print(\"AUC scores computed using 10-fold cross-validation: {}\".format(cv_auc))"
   ]
  },
  {
   "cell_type": "code",
   "execution_count": null,
   "metadata": {
    "ExecuteTime": {
     "end_time": "2020-12-26T22:50:08.664788Z",
     "start_time": "2020-12-26T22:50:08.509507Z"
    }
   },
   "outputs": [],
   "source": [
    "# Cross-Validation for Accuracy Scores\n",
    "cv_acc = cross_val_score(lreg, predictors, target, cv=skf, scoring='accuracy')"
   ]
  },
  {
   "cell_type": "code",
   "execution_count": null,
   "metadata": {
    "ExecuteTime": {
     "end_time": "2020-12-26T22:50:08.680145Z",
     "start_time": "2020-12-26T22:50:08.666089Z"
    }
   },
   "outputs": [],
   "source": [
    "# Print List of Accuracy Scores\n",
    "print(\"Accuracy scores computed using 10-fold cross-validation: {}\".format(cv_acc))"
   ]
  },
  {
   "cell_type": "code",
   "execution_count": null,
   "metadata": {
    "ExecuteTime": {
     "end_time": "2020-12-26T22:50:08.696012Z",
     "start_time": "2020-12-26T22:50:08.681017Z"
    },
    "scrolled": true
   },
   "outputs": [],
   "source": [
    "# Accuracy Results - Mean and Standard Deviation\n",
    "show_scores(cv_acc)"
   ]
  },
  {
   "cell_type": "markdown",
   "metadata": {},
   "source": [
    "## Logistic Regression classical"
   ]
  },
  {
   "cell_type": "code",
   "execution_count": null,
   "metadata": {
    "ExecuteTime": {
     "end_time": "2020-12-26T22:50:08.711229Z",
     "start_time": "2020-12-26T22:50:08.697972Z"
    }
   },
   "outputs": [],
   "source": [
    "# Instantiate Classifier - LogisticRegression\n",
    "lreg = LogisticRegression(max_iter=1200)"
   ]
  },
  {
   "cell_type": "code",
   "execution_count": null,
   "metadata": {
    "ExecuteTime": {
     "end_time": "2020-12-26T22:50:08.806772Z",
     "start_time": "2020-12-26T22:50:08.712932Z"
    }
   },
   "outputs": [],
   "source": [
    "# Train Classifier\n",
    "lreg.fit(X_train_scaled, y_train)"
   ]
  },
  {
   "cell_type": "code",
   "execution_count": null,
   "metadata": {
    "ExecuteTime": {
     "end_time": "2020-12-26T22:50:08.822672Z",
     "start_time": "2020-12-26T22:50:08.807679Z"
    }
   },
   "outputs": [],
   "source": [
    "# Prediction of Classes\n",
    "y_pred = lreg.predict(X_test_scaled)"
   ]
  },
  {
   "cell_type": "code",
   "execution_count": null,
   "metadata": {
    "ExecuteTime": {
     "end_time": "2020-12-26T22:50:08.837801Z",
     "start_time": "2020-12-26T22:50:08.823668Z"
    }
   },
   "outputs": [],
   "source": [
    "# Prediction of Probabilities\n",
    "y_pred_prob = lreg.predict_proba(X_test_scaled)[:,1]"
   ]
  },
  {
   "cell_type": "code",
   "execution_count": null,
   "metadata": {
    "ExecuteTime": {
     "end_time": "2020-12-26T22:50:08.853749Z",
     "start_time": "2020-12-26T22:50:08.838761Z"
    }
   },
   "outputs": [],
   "source": [
    "# Select Predicted Probabilities\n",
    "y_pred_prob[1:11]"
   ]
  },
  {
   "cell_type": "code",
   "execution_count": null,
   "metadata": {
    "ExecuteTime": {
     "end_time": "2020-12-26T22:50:08.869713Z",
     "start_time": "2020-12-26T22:50:08.854753Z"
    }
   },
   "outputs": [],
   "source": [
    "# Select Actual Classes\n",
    "np.array(y_test[1:11])"
   ]
  },
  {
   "cell_type": "code",
   "execution_count": null,
   "metadata": {
    "ExecuteTime": {
     "end_time": "2020-12-26T22:50:08.885672Z",
     "start_time": "2020-12-26T22:50:08.871689Z"
    }
   },
   "outputs": [],
   "source": [
    "# Train Accuracy\n",
    "lreg.score(X_train_scaled, y_train)"
   ]
  },
  {
   "cell_type": "code",
   "execution_count": null,
   "metadata": {
    "ExecuteTime": {
     "end_time": "2020-12-26T22:50:08.901628Z",
     "start_time": "2020-12-26T22:50:08.886663Z"
    },
    "scrolled": true
   },
   "outputs": [],
   "source": [
    "# Test Accuracy\n",
    "lreg.score(X_test_scaled, y_test)"
   ]
  },
  {
   "cell_type": "code",
   "execution_count": null,
   "metadata": {
    "ExecuteTime": {
     "end_time": "2020-12-26T22:50:08.917132Z",
     "start_time": "2020-12-26T22:50:08.902591Z"
    },
    "scrolled": true
   },
   "outputs": [],
   "source": [
    "# Output of Confusion Matrix\n",
    "print(confusion_matrix(y_test, y_pred))"
   ]
  },
  {
   "cell_type": "code",
   "execution_count": null,
   "metadata": {
    "ExecuteTime": {
     "end_time": "2020-12-26T22:50:08.933085Z",
     "start_time": "2020-12-26T22:50:08.918126Z"
    }
   },
   "outputs": [],
   "source": [
    "# Output of Classification Report\n",
    "print(classification_report(y_test, y_pred))"
   ]
  },
  {
   "cell_type": "code",
   "execution_count": null,
   "metadata": {
    "ExecuteTime": {
     "end_time": "2020-12-26T22:50:08.949043Z",
     "start_time": "2020-12-26T22:50:08.934080Z"
    }
   },
   "outputs": [],
   "source": [
    "# Generate ROC curve values: fpr, tpr, thresholds\n",
    "fpr, tpr, thresholds = roc_curve(y_test, y_pred_prob)"
   ]
  },
  {
   "cell_type": "code",
   "execution_count": null,
   "metadata": {
    "ExecuteTime": {
     "end_time": "2020-12-26T22:50:08.965072Z",
     "start_time": "2020-12-26T22:50:08.951035Z"
    }
   },
   "outputs": [],
   "source": [
    "# 10-fold Cross Validation including Stratification\n",
    "skf = StratifiedKFold(shuffle=True, n_splits=10)"
   ]
  },
  {
   "cell_type": "code",
   "execution_count": null,
   "metadata": {
    "ExecuteTime": {
     "end_time": "2020-12-26T22:50:08.980957Z",
     "start_time": "2020-12-26T22:50:08.966991Z"
    }
   },
   "outputs": [],
   "source": [
    "# Compute and print AUC Score\n",
    "print(\"AUC: {}\".format(roc_auc_score(y_test, y_pred_prob)))"
   ]
  },
  {
   "cell_type": "code",
   "execution_count": null,
   "metadata": {
    "ExecuteTime": {
     "end_time": "2020-12-26T22:50:10.007212Z",
     "start_time": "2020-12-26T22:50:08.981920Z"
    }
   },
   "outputs": [],
   "source": [
    "# Cross-Validation for AUC scores\n",
    "cv_auc = cross_val_score(lreg, predictors_scaled, target, cv=skf, scoring='roc_auc')"
   ]
  },
  {
   "cell_type": "code",
   "execution_count": null,
   "metadata": {
    "ExecuteTime": {
     "end_time": "2020-12-26T22:50:10.023241Z",
     "start_time": "2020-12-26T22:50:10.008231Z"
    }
   },
   "outputs": [],
   "source": [
    "# Print List of AUC scores\n",
    "print(\"AUC scores computed using 10-fold cross-validation: {}\".format(cv_auc))"
   ]
  },
  {
   "cell_type": "code",
   "execution_count": null,
   "metadata": {
    "ExecuteTime": {
     "end_time": "2020-12-26T22:50:11.129232Z",
     "start_time": "2020-12-26T22:50:10.024341Z"
    }
   },
   "outputs": [],
   "source": [
    "# Cross-Validation for Accuracy Scores\n",
    "cv_acc = cross_val_score(lreg, predictors_scaled, target, cv=skf, scoring='accuracy')"
   ]
  },
  {
   "cell_type": "code",
   "execution_count": null,
   "metadata": {
    "ExecuteTime": {
     "end_time": "2020-12-26T22:50:11.145183Z",
     "start_time": "2020-12-26T22:50:11.130221Z"
    }
   },
   "outputs": [],
   "source": [
    "# Print List of Accuracy Scores\n",
    "print(\"Accuracy scores computed using 10-fold cross-validation: {}\".format(cv_acc))"
   ]
  },
  {
   "cell_type": "code",
   "execution_count": null,
   "metadata": {
    "ExecuteTime": {
     "end_time": "2020-12-26T22:50:11.161107Z",
     "start_time": "2020-12-26T22:50:11.147145Z"
    },
    "scrolled": true
   },
   "outputs": [],
   "source": [
    "# Accuracy Results - Mean and Standard Deviation\n",
    "show_scores(cv_acc)"
   ]
  },
  {
   "cell_type": "markdown",
   "metadata": {},
   "source": [
    "## Logistic Regression - Data Set I."
   ]
  },
  {
   "cell_type": "code",
   "execution_count": null,
   "metadata": {
    "ExecuteTime": {
     "end_time": "2020-12-26T22:50:11.176707Z",
     "start_time": "2020-12-26T22:50:11.162138Z"
    }
   },
   "outputs": [],
   "source": [
    "# Instantiate Classifier - LogisticRegression\n",
    "lreg = LogisticRegression(C=1000, max_iter=1200, penalty='l1', solver='liblinear')"
   ]
  },
  {
   "cell_type": "code",
   "execution_count": null,
   "metadata": {
    "ExecuteTime": {
     "end_time": "2020-12-26T22:50:48.323832Z",
     "start_time": "2020-12-26T22:50:11.178099Z"
    }
   },
   "outputs": [],
   "source": [
    "# Train Classifier\n",
    "lreg.fit(X_train_scaled, y_train)"
   ]
  },
  {
   "cell_type": "code",
   "execution_count": null,
   "metadata": {
    "ExecuteTime": {
     "end_time": "2020-12-26T22:50:48.339755Z",
     "start_time": "2020-12-26T22:50:48.324829Z"
    }
   },
   "outputs": [],
   "source": [
    "# Prediction of Classes\n",
    "y_pred = lreg.predict(X_test_scaled)"
   ]
  },
  {
   "cell_type": "code",
   "execution_count": null,
   "metadata": {
    "ExecuteTime": {
     "end_time": "2020-12-26T22:50:48.354751Z",
     "start_time": "2020-12-26T22:50:48.340784Z"
    }
   },
   "outputs": [],
   "source": [
    "# Prediction of Probabilities\n",
    "y_pred_prob = lreg.predict_proba(X_test_scaled)[:,1]"
   ]
  },
  {
   "cell_type": "code",
   "execution_count": null,
   "metadata": {
    "ExecuteTime": {
     "end_time": "2020-12-26T22:50:48.370708Z",
     "start_time": "2020-12-26T22:50:48.356710Z"
    }
   },
   "outputs": [],
   "source": [
    "# Select Predicted Probabilities\n",
    "y_pred_prob[1:11]"
   ]
  },
  {
   "cell_type": "code",
   "execution_count": null,
   "metadata": {
    "ExecuteTime": {
     "end_time": "2020-12-26T22:50:48.386665Z",
     "start_time": "2020-12-26T22:50:48.372668Z"
    }
   },
   "outputs": [],
   "source": [
    "# Select Actual Classes\n",
    "np.array(y_test[1:11])"
   ]
  },
  {
   "cell_type": "code",
   "execution_count": null,
   "metadata": {
    "ExecuteTime": {
     "end_time": "2020-12-26T22:50:48.402623Z",
     "start_time": "2020-12-26T22:50:48.388657Z"
    }
   },
   "outputs": [],
   "source": [
    "# Train Accuracy\n",
    "lreg.score(X_train_scaled, y_train)"
   ]
  },
  {
   "cell_type": "code",
   "execution_count": null,
   "metadata": {
    "ExecuteTime": {
     "end_time": "2020-12-26T22:50:48.418581Z",
     "start_time": "2020-12-26T22:50:48.403619Z"
    },
    "scrolled": true
   },
   "outputs": [],
   "source": [
    "# Test Accuracy\n",
    "lreg.score(X_test_scaled, y_test)"
   ]
  },
  {
   "cell_type": "code",
   "execution_count": null,
   "metadata": {
    "ExecuteTime": {
     "end_time": "2020-12-26T22:50:48.434537Z",
     "start_time": "2020-12-26T22:50:48.420572Z"
    },
    "scrolled": true
   },
   "outputs": [],
   "source": [
    "# Output of Confusion Matrix\n",
    "print(confusion_matrix(y_test, y_pred))"
   ]
  },
  {
   "cell_type": "code",
   "execution_count": null,
   "metadata": {
    "ExecuteTime": {
     "end_time": "2020-12-26T22:50:48.450495Z",
     "start_time": "2020-12-26T22:50:48.435501Z"
    }
   },
   "outputs": [],
   "source": [
    "# Output of Classification Report\n",
    "print(classification_report(y_test, y_pred))"
   ]
  },
  {
   "cell_type": "code",
   "execution_count": null,
   "metadata": {
    "ExecuteTime": {
     "end_time": "2020-12-26T22:50:48.466452Z",
     "start_time": "2020-12-26T22:50:48.451490Z"
    }
   },
   "outputs": [],
   "source": [
    "# Generate ROC curve values: fpr, tpr, thresholds\n",
    "fpr, tpr, thresholds = roc_curve(y_test, y_pred_prob)"
   ]
  },
  {
   "cell_type": "code",
   "execution_count": null,
   "metadata": {
    "ExecuteTime": {
     "end_time": "2020-12-26T22:50:48.482409Z",
     "start_time": "2020-12-26T22:50:48.468508Z"
    }
   },
   "outputs": [],
   "source": [
    "# 10-fold Cross Validation including Stratification\n",
    "skf = StratifiedKFold(shuffle=True, n_splits=10)"
   ]
  },
  {
   "cell_type": "code",
   "execution_count": null,
   "metadata": {
    "ExecuteTime": {
     "end_time": "2020-12-26T22:50:48.489649Z",
     "start_time": "2020-12-26T22:50:48.484370Z"
    }
   },
   "outputs": [],
   "source": [
    "# Compute and print AUC Score\n",
    "print(\"AUC: {}\".format(roc_auc_score(y_test, y_pred_prob)))"
   ]
  },
  {
   "cell_type": "code",
   "execution_count": null,
   "metadata": {
    "ExecuteTime": {
     "end_time": "2020-12-26T22:58:35.991039Z",
     "start_time": "2020-12-26T22:50:48.490355Z"
    }
   },
   "outputs": [],
   "source": [
    "# Cross-Validation for AUC scores\n",
    "cv_auc = cross_val_score(lreg, predictors_scaled, target, cv=skf, scoring='roc_auc')"
   ]
  },
  {
   "cell_type": "code",
   "execution_count": null,
   "metadata": {
    "ExecuteTime": {
     "end_time": "2020-12-26T22:58:36.012445Z",
     "start_time": "2020-12-26T22:58:35.991598Z"
    }
   },
   "outputs": [],
   "source": [
    "# Print List of AUC scores\n",
    "print(\"AUC scores computed using 10-fold cross-validation: {}\".format(cv_auc))"
   ]
  },
  {
   "cell_type": "code",
   "execution_count": null,
   "metadata": {
    "ExecuteTime": {
     "end_time": "2020-12-26T23:05:43.555697Z",
     "start_time": "2020-12-26T22:58:36.013577Z"
    }
   },
   "outputs": [],
   "source": [
    "# Cross-Validation for Accuracy Scores\n",
    "cv_acc = cross_val_score(lreg, predictors_scaled, target, cv=skf, scoring='accuracy')"
   ]
  },
  {
   "cell_type": "code",
   "execution_count": null,
   "metadata": {
    "ExecuteTime": {
     "end_time": "2020-12-26T23:05:43.571025Z",
     "start_time": "2020-12-26T23:05:43.556252Z"
    }
   },
   "outputs": [],
   "source": [
    "# Print List of Accuracy Scores\n",
    "print(\"Accuracy scores computed using 10-fold cross-validation: {}\".format(cv_acc))"
   ]
  },
  {
   "cell_type": "code",
   "execution_count": null,
   "metadata": {
    "ExecuteTime": {
     "end_time": "2020-12-26T23:05:43.593281Z",
     "start_time": "2020-12-26T23:05:43.572120Z"
    }
   },
   "outputs": [],
   "source": [
    "# Accuracy Results - Mean and Standard Deviation\n",
    "show_scores(cv_acc)"
   ]
  },
  {
   "cell_type": "markdown",
   "metadata": {},
   "source": [
    "## XGBoost - Data Set I."
   ]
  },
  {
   "cell_type": "code",
   "execution_count": null,
   "metadata": {
    "ExecuteTime": {
     "end_time": "2020-12-26T23:05:43.608495Z",
     "start_time": "2020-12-26T23:05:43.594238Z"
    }
   },
   "outputs": [],
   "source": [
    "from xgboost import XGBClassifier\n",
    "\n",
    "# Instantiate Classifier - LogisticRegression\n",
    "model = XGBClassifier(base_score=0.5, booster='gbtree', colsample_bylevel=1,\n",
    "              colsample_bynode=1, colsample_bytree=0.7, gamma=0, gpu_id=-1,\n",
    "              importance_type='gain', interaction_constraints='',\n",
    "              learning_rate=0.01, max_delta_step=0, max_depth=3,\n",
    "              min_child_weight=1, monotone_constraints='()',\n",
    "              n_estimators=200, n_jobs=0, num_parallel_tree=1,\n",
    "              objective='reg:squarederror', random_state=0, reg_alpha=0,\n",
    "              reg_lambda=1, scale_pos_weight=1, subsample=0.7,\n",
    "              tree_method='exact', validate_parameters=1, verbosity=None)"
   ]
  },
  {
   "cell_type": "code",
   "execution_count": null,
   "metadata": {
    "ExecuteTime": {
     "end_time": "2020-12-26T23:06:30.792770Z",
     "start_time": "2020-12-26T23:05:43.610148Z"
    }
   },
   "outputs": [],
   "source": [
    "# Test Accuracy\n",
    "from sklearn.metrics import accuracy_score\n",
    "from xgboost import XGBClassifier\n",
    "\n",
    "# Instantiate Classifier - LogisticRegression\n",
    "model = XGBClassifier(base_score=0.5, booster='gbtree', colsample_bylevel=1,\n",
    "              colsample_bynode=1, colsample_bytree=0.7, gamma=0, gpu_id=-1,\n",
    "              importance_type='gain', interaction_constraints='',\n",
    "              learning_rate=0.01, max_delta_step=0, max_depth=3,\n",
    "              min_child_weight=1, monotone_constraints='()',\n",
    "              n_estimators=200, n_jobs=0, num_parallel_tree=1,\n",
    "              objective='reg:squarederror', random_state=0, reg_alpha=0,\n",
    "              reg_lambda=1, scale_pos_weight=1, subsample=0.7,\n",
    "              tree_method='exact', validate_parameters=1, verbosity=None)\n",
    "\n",
    "accuarylist = []\n",
    "\n",
    "for x in range(30):\n",
    "    # Split Data into Training and Testing\n",
    "    X_train, X_test, y_train, y_test = train_test_split(\n",
    "        predictors, target, test_size=0.3, stratify=target)\n",
    "    \n",
    "    # Scaler Training and Transformation of Training Set\n",
    "    #X_train_scaled = pd.DataFrame(norm_scaler.fit_transform(X_train))\n",
    "    #X_test_scaled = pd.DataFrame(norm_scaler.fit_transform(X_test))\n",
    "    \n",
    "    # Train Classifier\n",
    "    model.fit(X_train, y_train)\n",
    "    y_pred = model.predict(X_test)\n",
    "    predictions = [round(value) for value in y_pred]\n",
    "    accuracy = accuracy_score(y_test, predictions)\n",
    "    accuarylist.append(accuracy * 100.0)\n",
    "\n",
    "meanacc = np.mean(accuarylist)"
   ]
  },
  {
   "cell_type": "code",
   "execution_count": null,
   "metadata": {
    "ExecuteTime": {
     "end_time": "2020-12-26T23:06:30.814541Z",
     "start_time": "2020-12-26T23:06:30.793251Z"
    }
   },
   "outputs": [],
   "source": [
    "# Prediction of Classes\n",
    "y_pred = model.predict(X_test)"
   ]
  },
  {
   "cell_type": "code",
   "execution_count": null,
   "metadata": {
    "ExecuteTime": {
     "end_time": "2020-12-26T23:06:30.835186Z",
     "start_time": "2020-12-26T23:06:30.816536Z"
    }
   },
   "outputs": [],
   "source": [
    "# Prediction of Probabilities\n",
    "y_pred_prob = model.predict_proba(X_test)[:,1]"
   ]
  },
  {
   "cell_type": "code",
   "execution_count": null,
   "metadata": {
    "ExecuteTime": {
     "end_time": "2020-12-26T23:06:30.850811Z",
     "start_time": "2020-12-26T23:06:30.836183Z"
    }
   },
   "outputs": [],
   "source": [
    "# Select Predicted Probabilities\n",
    "y_pred_prob[1:11]"
   ]
  },
  {
   "cell_type": "code",
   "execution_count": null,
   "metadata": {
    "ExecuteTime": {
     "end_time": "2020-12-26T23:06:30.866103Z",
     "start_time": "2020-12-26T23:06:30.852139Z"
    }
   },
   "outputs": [],
   "source": [
    "# Select Actual Classes\n",
    "np.array(y_test[1:11])"
   ]
  },
  {
   "cell_type": "code",
   "execution_count": null,
   "metadata": {
    "ExecuteTime": {
     "end_time": "2020-12-26T23:06:30.898017Z",
     "start_time": "2020-12-26T23:06:30.868470Z"
    }
   },
   "outputs": [],
   "source": [
    "# Train Accuracy\n",
    "model.score(X_train, y_train)"
   ]
  },
  {
   "cell_type": "code",
   "execution_count": null,
   "metadata": {
    "ExecuteTime": {
     "end_time": "2020-12-26T23:06:30.976807Z",
     "start_time": "2020-12-26T23:06:30.899015Z"
    },
    "scrolled": true
   },
   "outputs": [],
   "source": [
    "# Test Accuracy\n",
    "for x in range(10):\n",
    "    print(model.score(X_test, y_test))"
   ]
  },
  {
   "cell_type": "code",
   "execution_count": null,
   "metadata": {
    "ExecuteTime": {
     "end_time": "2020-12-26T23:06:30.992928Z",
     "start_time": "2020-12-26T23:06:30.978801Z"
    },
    "scrolled": true
   },
   "outputs": [],
   "source": [
    "# Output of Confusion Matrix\n",
    "print(confusion_matrix(y_test, y_pred))"
   ]
  },
  {
   "cell_type": "code",
   "execution_count": null,
   "metadata": {
    "ExecuteTime": {
     "end_time": "2020-12-26T23:06:31.008772Z",
     "start_time": "2020-12-26T23:06:30.993760Z"
    }
   },
   "outputs": [],
   "source": [
    "# Output of Classification Report\n",
    "print(classification_report(y_test, y_pred))"
   ]
  },
  {
   "cell_type": "code",
   "execution_count": null,
   "metadata": {
    "ExecuteTime": {
     "end_time": "2020-12-26T23:06:31.024711Z",
     "start_time": "2020-12-26T23:06:31.010716Z"
    }
   },
   "outputs": [],
   "source": [
    "# Generate ROC curve values: fpr, tpr, thresholds\n",
    "fpr, tpr, thresholds = roc_curve(y_test, y_pred_prob)"
   ]
  },
  {
   "cell_type": "code",
   "execution_count": null,
   "metadata": {
    "ExecuteTime": {
     "end_time": "2020-12-26T23:06:31.040636Z",
     "start_time": "2020-12-26T23:06:31.026674Z"
    }
   },
   "outputs": [],
   "source": [
    "# 10-fold Cross Validation including Stratification\n",
    "skf = StratifiedKFold(shuffle=True, n_splits=10)"
   ]
  },
  {
   "cell_type": "code",
   "execution_count": null,
   "metadata": {
    "ExecuteTime": {
     "end_time": "2020-12-26T23:06:31.056626Z",
     "start_time": "2020-12-26T23:06:31.042631Z"
    }
   },
   "outputs": [],
   "source": [
    "# Compute and print AUC Score\n",
    "print(\"AUC: {}\".format(roc_auc_score(y_test, y_pred_prob)))"
   ]
  },
  {
   "cell_type": "code",
   "execution_count": null,
   "metadata": {
    "ExecuteTime": {
     "end_time": "2020-12-26T23:06:51.315252Z",
     "start_time": "2020-12-26T23:06:31.058853Z"
    }
   },
   "outputs": [],
   "source": [
    "# Cross-Validation for AUC scores\n",
    "cv_auc = cross_val_score(model, predictors, target, cv=skf, scoring='roc_auc')"
   ]
  },
  {
   "cell_type": "code",
   "execution_count": null,
   "metadata": {
    "ExecuteTime": {
     "end_time": "2020-12-26T23:06:51.330724Z",
     "start_time": "2020-12-26T23:06:51.316809Z"
    }
   },
   "outputs": [],
   "source": [
    "# Print List of AUC scores\n",
    "print(\"AUC scores computed using 10-fold cross-validation: {}\".format(cv_auc))"
   ]
  },
  {
   "cell_type": "code",
   "execution_count": null,
   "metadata": {
    "ExecuteTime": {
     "end_time": "2020-12-26T23:07:11.128993Z",
     "start_time": "2020-12-26T23:06:51.331721Z"
    }
   },
   "outputs": [],
   "source": [
    "# Cross-Validation for Accuracy Scores\n",
    "cv_acc = cross_val_score(model, predictors, target, cv=skf, scoring='accuracy')"
   ]
  },
  {
   "cell_type": "code",
   "execution_count": null,
   "metadata": {
    "ExecuteTime": {
     "end_time": "2020-12-26T23:07:11.144378Z",
     "start_time": "2020-12-26T23:07:11.129519Z"
    }
   },
   "outputs": [],
   "source": [
    "# Print List of Accuracy Scores\n",
    "print(\"Accuracy scores computed using 10-fold cross-validation: {}\".format(cv_acc))"
   ]
  },
  {
   "cell_type": "code",
   "execution_count": null,
   "metadata": {
    "ExecuteTime": {
     "end_time": "2020-12-26T23:07:11.165651Z",
     "start_time": "2020-12-26T23:07:11.145376Z"
    },
    "scrolled": true
   },
   "outputs": [],
   "source": [
    "# Accuracy Results - Mean and Standard Deviation\n",
    "show_scores(cv_acc)"
   ]
  },
  {
   "cell_type": "code",
   "execution_count": null,
   "metadata": {
    "ExecuteTime": {
     "end_time": "2020-12-26T23:07:11.181335Z",
     "start_time": "2020-12-26T23:07:11.166635Z"
    },
    "scrolled": true
   },
   "outputs": [],
   "source": [
    "# Accuracy Results - Mean and Standard Deviation\n",
    "show_scores(cv_acc)"
   ]
  },
  {
   "cell_type": "markdown",
   "metadata": {},
   "source": [
    "## Random Forest Classifier - Data Set I."
   ]
  },
  {
   "cell_type": "code",
   "execution_count": null,
   "metadata": {
    "ExecuteTime": {
     "end_time": "2020-12-26T23:07:11.211548Z",
     "start_time": "2020-12-26T23:07:11.193575Z"
    }
   },
   "outputs": [],
   "source": [
    "# Instantiate Classifier - Random Forest\n",
    "rfc = RandomForestClassifier(max_depth=5, max_features='sqrt', min_samples_leaf=2,\n",
    "                       min_samples_split=10, n_estimators=1000)"
   ]
  },
  {
   "cell_type": "code",
   "execution_count": null,
   "metadata": {
    "ExecuteTime": {
     "end_time": "2020-12-26T23:07:16.924216Z",
     "start_time": "2020-12-26T23:07:11.214503Z"
    }
   },
   "outputs": [],
   "source": [
    "# Train Classifier\n",
    "rfc.fit(X_train_scaled, y_train)"
   ]
  },
  {
   "cell_type": "code",
   "execution_count": null,
   "metadata": {
    "ExecuteTime": {
     "end_time": "2020-12-26T23:07:17.082122Z",
     "start_time": "2020-12-26T23:07:16.926155Z"
    }
   },
   "outputs": [],
   "source": [
    "# Prediction of Classes\n",
    "y_pred = rfc.predict(X_test_scaled)"
   ]
  },
  {
   "cell_type": "code",
   "execution_count": null,
   "metadata": {
    "ExecuteTime": {
     "end_time": "2020-12-26T23:07:17.221772Z",
     "start_time": "2020-12-26T23:07:17.083085Z"
    }
   },
   "outputs": [],
   "source": [
    "# Prediction of Probabilities\n",
    "y_pred_prob = rfc.predict_proba(X_test_scaled)[:,1]"
   ]
  },
  {
   "cell_type": "code",
   "execution_count": null,
   "metadata": {
    "ExecuteTime": {
     "end_time": "2020-12-26T23:07:17.237729Z",
     "start_time": "2020-12-26T23:07:17.223793Z"
    }
   },
   "outputs": [],
   "source": [
    "# Select Predicted Probabilities\n",
    "y_pred_prob[1:11]"
   ]
  },
  {
   "cell_type": "code",
   "execution_count": null,
   "metadata": {
    "ExecuteTime": {
     "end_time": "2020-12-26T23:07:17.460165Z",
     "start_time": "2020-12-26T23:07:17.238726Z"
    }
   },
   "outputs": [],
   "source": [
    "# Train Accuracy\n",
    "rfc.score(X_train_scaled, y_train)"
   ]
  },
  {
   "cell_type": "code",
   "execution_count": null,
   "metadata": {
    "ExecuteTime": {
     "end_time": "2020-12-26T23:07:17.602784Z",
     "start_time": "2020-12-26T23:07:17.461131Z"
    }
   },
   "outputs": [],
   "source": [
    "# Test Accuracy\n",
    "rfc.score(X_test_scaled, y_test)"
   ]
  },
  {
   "cell_type": "code",
   "execution_count": null,
   "metadata": {
    "ExecuteTime": {
     "end_time": "2020-12-26T23:07:17.618742Z",
     "start_time": "2020-12-26T23:07:17.604747Z"
    }
   },
   "outputs": [],
   "source": [
    "# Output of Confusion Matrix\n",
    "print(confusion_matrix(y_test, y_pred))"
   ]
  },
  {
   "cell_type": "code",
   "execution_count": null,
   "metadata": {
    "ExecuteTime": {
     "end_time": "2020-12-26T23:07:17.638974Z",
     "start_time": "2020-12-26T23:07:17.619707Z"
    }
   },
   "outputs": [],
   "source": [
    "# Output of Classification Report\n",
    "print(classification_report(y_test, y_pred))"
   ]
  },
  {
   "cell_type": "code",
   "execution_count": null,
   "metadata": {
    "ExecuteTime": {
     "end_time": "2020-12-26T23:07:17.654827Z",
     "start_time": "2020-12-26T23:07:17.639867Z"
    }
   },
   "outputs": [],
   "source": [
    "# Generate ROC curve values: fpr, tpr, thresholds\n",
    "fpr, tpr, thresholds = roc_curve(y_test, y_pred_prob)"
   ]
  },
  {
   "cell_type": "code",
   "execution_count": null,
   "metadata": {
    "ExecuteTime": {
     "end_time": "2020-12-26T23:07:17.670814Z",
     "start_time": "2020-12-26T23:07:17.657175Z"
    }
   },
   "outputs": [],
   "source": [
    "# 10-fold Cross Validation including Stratification\n",
    "skf = StratifiedKFold(shuffle=True, n_splits=10)"
   ]
  },
  {
   "cell_type": "code",
   "execution_count": null,
   "metadata": {
    "ExecuteTime": {
     "end_time": "2020-12-26T23:07:17.686772Z",
     "start_time": "2020-12-26T23:07:17.672779Z"
    }
   },
   "outputs": [],
   "source": [
    "# Compute and print AUC score\n",
    "print(\"AUC: {}\".format(roc_auc_score(y_test, y_pred_prob)))"
   ]
  },
  {
   "cell_type": "code",
   "execution_count": null,
   "metadata": {
    "ExecuteTime": {
     "end_time": "2020-12-26T23:08:26.148631Z",
     "start_time": "2020-12-26T23:07:17.688734Z"
    }
   },
   "outputs": [],
   "source": [
    "# Cross-Validation for AUC scores\n",
    "cv_auc = cross_val_score(rfc, predictors_scaled, target, cv=skf, scoring='roc_auc')"
   ]
  },
  {
   "cell_type": "code",
   "execution_count": null,
   "metadata": {
    "ExecuteTime": {
     "end_time": "2020-12-26T23:08:26.164114Z",
     "start_time": "2020-12-26T23:08:26.149691Z"
    }
   },
   "outputs": [],
   "source": [
    "# Print List of AUC scores\n",
    "print(\"AUC scores computed using 10-fold cross-validation: {}\".format(cv_auc))"
   ]
  },
  {
   "cell_type": "code",
   "execution_count": null,
   "metadata": {
    "ExecuteTime": {
     "end_time": "2020-12-26T23:09:33.971322Z",
     "start_time": "2020-12-26T23:08:26.165111Z"
    }
   },
   "outputs": [],
   "source": [
    "# Cross-Validation for Accuracy Scores\n",
    "cv_acc = cross_val_score(rfc, predictors_scaled, target, cv=skf, scoring='accuracy')"
   ]
  },
  {
   "cell_type": "code",
   "execution_count": null,
   "metadata": {
    "ExecuteTime": {
     "end_time": "2020-12-26T23:09:33.986920Z",
     "start_time": "2020-12-26T23:09:33.971834Z"
    }
   },
   "outputs": [],
   "source": [
    "# Print List of Accuracy Scores\n",
    "print(\"Accuracy scores computed using 10-fold cross-validation: {}\".format(cv_acc))"
   ]
  },
  {
   "cell_type": "code",
   "execution_count": null,
   "metadata": {
    "ExecuteTime": {
     "end_time": "2020-12-26T23:09:33.992920Z",
     "start_time": "2020-12-26T23:09:33.987920Z"
    }
   },
   "outputs": [],
   "source": [
    "# Accuracy Results - Mean and Standard Deviation\n",
    "show_scores(cv_acc)"
   ]
  },
  {
   "cell_type": "markdown",
   "metadata": {},
   "source": [
    "# Trading Strategy - Data Set I"
   ]
  },
  {
   "cell_type": "markdown",
   "metadata": {},
   "source": [
    "## Trading Strategy in Combination with Logistic Regression"
   ]
  },
  {
   "cell_type": "code",
   "execution_count": null,
   "metadata": {
    "ExecuteTime": {
     "end_time": "2020-12-26T23:09:34.022741Z",
     "start_time": "2020-12-26T23:09:33.995085Z"
    }
   },
   "outputs": [],
   "source": [
    "# Create Lists To Store All Calculated Values For Every Variable of Every Run\n",
    "# Specified Period\n",
    "# Threshold 0.5\n",
    "spec_list_05_total = []\n",
    "spec_list_05_profit = []\n",
    "spec_list_05_loss = []\n",
    "spec_list_05_trans = []\n",
    "spec_list_05_acc = []\n",
    "spec_list_05_preds_corr = []\n",
    "spec_list_05_preds = []\n",
    "# Threshold 0.6\n",
    "spec_list_06_total = []\n",
    "spec_list_06_profit = []\n",
    "spec_list_06_loss = []\n",
    "spec_list_06_trans = []\n",
    "spec_list_06_acc = []\n",
    "spec_list_06_preds_corr = []\n",
    "spec_list_06_preds = []\n",
    "# Threshold 0.7\n",
    "spec_list_07_total = []\n",
    "spec_list_07_profit = []\n",
    "spec_list_07_loss = []\n",
    "spec_list_07_trans = []\n",
    "spec_list_07_acc = []\n",
    "spec_list_07_preds_corr = []\n",
    "spec_list_07_preds = []\n",
    "# Threshold 0.8\n",
    "spec_list_08_total = []\n",
    "spec_list_08_profit = []\n",
    "spec_list_08_loss = []\n",
    "spec_list_08_trans = []\n",
    "spec_list_08_acc = []\n",
    "spec_list_08_preds_corr = []\n",
    "spec_list_08_preds = []\n",
    "\n",
    "# Entire Period\n",
    "# Threshold 0.5\n",
    "list_05_total = []\n",
    "list_05_profit = []\n",
    "list_05_loss = []\n",
    "list_05_trans = []\n",
    "list_05_acc = []\n",
    "list_05_preds_corr = []\n",
    "list_05_preds = []\n",
    "# Threshold 0.6\n",
    "list_06_total = []\n",
    "list_06_profit = []\n",
    "list_06_loss = []\n",
    "list_06_trans = []\n",
    "list_06_acc = []\n",
    "list_06_preds_corr = []\n",
    "list_06_preds = []\n",
    "# Threshold 0.7\n",
    "list_07_total = []\n",
    "list_07_profit = []\n",
    "list_07_loss = []\n",
    "list_07_trans = []\n",
    "list_07_acc = []\n",
    "list_07_preds_corr = []\n",
    "list_07_preds = []\n",
    "# Threshold 0.8\n",
    "list_08_total = []\n",
    "list_08_profit = []\n",
    "list_08_loss = []\n",
    "list_08_trans = []\n",
    "list_08_acc = []\n",
    "list_08_preds_corr = []\n",
    "list_08_preds = []"
   ]
  },
  {
   "cell_type": "code",
   "execution_count": null,
   "metadata": {
    "ExecuteTime": {
     "end_time": "2020-12-26T23:09:34.038699Z",
     "start_time": "2020-12-26T23:09:34.023706Z"
    }
   },
   "outputs": [],
   "source": [
    "target"
   ]
  },
  {
   "cell_type": "code",
   "execution_count": null,
   "metadata": {
    "ExecuteTime": {
     "end_time": "2020-12-26T23:09:34.054656Z",
     "start_time": "2020-12-26T23:09:34.039664Z"
    }
   },
   "outputs": [],
   "source": [
    "predictors"
   ]
  },
  {
   "cell_type": "code",
   "execution_count": null,
   "metadata": {
    "ExecuteTime": {
     "end_time": "2020-12-26T23:09:34.069617Z",
     "start_time": "2020-12-26T23:09:34.055620Z"
    }
   },
   "outputs": [],
   "source": [
    "for x in df_dataset1.columns:\n",
    "    print(x)"
   ]
  },
  {
   "cell_type": "code",
   "execution_count": null,
   "metadata": {
    "ExecuteTime": {
     "end_time": "2020-12-26T23:09:34.084574Z",
     "start_time": "2020-12-26T23:09:34.071434Z"
    }
   },
   "outputs": [],
   "source": [
    "df_dataset1_copy[['Daily Return in USD']]"
   ]
  },
  {
   "cell_type": "code",
   "execution_count": null,
   "metadata": {
    "ExecuteTime": {
     "end_time": "2020-12-26T23:09:34.100502Z",
     "start_time": "2020-12-26T23:09:34.086539Z"
    }
   },
   "outputs": [],
   "source": [
    "df_dataset1_copy[\"percentage_daily_return\"] = df_dataset1_copy[\"Daily Return in USD\"]/df_dataset1_copy[\"market/price_usd_close\"]\n",
    "df_dataset1_copy[\"percentage_daily_return\"]"
   ]
  },
  {
   "cell_type": "code",
   "execution_count": null,
   "metadata": {
    "ExecuteTime": {
     "end_time": "2020-12-26T23:09:34.115656Z",
     "start_time": "2020-12-26T23:09:34.101499Z"
    }
   },
   "outputs": [],
   "source": [
    "# lreg = XGBClassifier(base_score=0.5, booster='gbtree', colsample_bylevel=1,\n",
    "#               colsample_bynode=1, colsample_bytree=0.7, gamma=0, gpu_id=-1,\n",
    "#               importance_type='gain', interaction_constraints='',\n",
    "#               learning_rate=0.01, max_delta_step=0, max_depth=3,\n",
    "#               min_child_weight=1, monotone_constraints='()',\n",
    "#               n_estimators=200, n_jobs=0, num_parallel_tree=1,\n",
    "#               objective='reg:squarederror', random_state=0, reg_alpha=0,\n",
    "#               reg_lambda=1, scale_pos_weight=1, subsample=0.7,\n",
    "#               tree_method='exact', validate_parameters=1, verbosity=None)"
   ]
  },
  {
   "cell_type": "code",
   "execution_count": null,
   "metadata": {
    "ExecuteTime": {
     "end_time": "2020-12-27T10:46:52.230647Z",
     "start_time": "2020-12-27T10:41:49.929975Z"
    },
    "scrolled": true
   },
   "outputs": [],
   "source": [
    "einsatz = 1000\n",
    "prestakepercentlist = []\n",
    "zinseszins = []\n",
    "profitpercent = []\n",
    "current_profitpercent = []\n",
    "spec_start_date = '2019-09-09'\n",
    "\n",
    "prestakepercentlist51 = []\n",
    "prestakepercentlist52 = []\n",
    "prestakepercentlist53 = []\n",
    "\n",
    "profitpercent51 = []\n",
    "profitpercent52 = []\n",
    "profitpercent53 = []\n",
    "\n",
    "current_profitpercent51 = []\n",
    "current_profitpercent52 = []\n",
    "current_profitpercent53 = []\n",
    "\n",
    "zinseszins51 = []\n",
    "zinseszins52 = []\n",
    "zinseszins53 = []\n",
    "\n",
    "current_zinseszins = []\n",
    "current_zinseszins51 = []\n",
    "current_zinseszins52 = []\n",
    "current_zinseszins53 = []\n",
    "\n",
    "\n",
    "# For Loop to Simulate K-fold Cross Validation\n",
    "for x in range(1, 200):\n",
    "\n",
    "    # Display Number of Runs\n",
    "    print(\"Run:\", x)\n",
    "\n",
    "    # Split Data into Training and Testing\n",
    "    X_train, X_test, y_train, y_test = train_test_split(\n",
    "        predictors, target, test_size=0.3, stratify=target)\n",
    "\n",
    "    # Amount of Columns\n",
    "    n_nodes = predictors.shape[1]\n",
    "    \n",
    "    # Instantiate Classifier Logistic Regression\n",
    "#     lreg = XGBClassifier(base_score=0.5, booster='gbtree', colsample_bylevel=1,\n",
    "#               colsample_bynode=1, colsample_bytree=0.7, gamma=0, gpu_id=-1,\n",
    "#               importance_type='gain', interaction_constraints='',\n",
    "#               learning_rate=0.01, max_delta_step=0, max_depth=3,\n",
    "#               min_child_weight=1, monotone_constraints='()',\n",
    "#               n_estimators=200, n_jobs=0, num_parallel_tree=1,\n",
    "#               objective='reg:squarederror', random_state=0, reg_alpha=0,\n",
    "#               reg_lambda=1, scale_pos_weight=1, subsample=0.7,\n",
    "#               tree_method='exact', validate_parameters=1, verbosity=None)\n",
    "    \n",
    "#     lreg = RandomForestClassifier(n_estimators=100, max_leaf_nodes=None, \n",
    "#                                   criterion='gini', max_depth=3)   \n",
    "    \n",
    "#     lreg = RandomForestClassifier(n_estimators=1000, bootstrap= True, max_depth= 5,\n",
    "#                                   max_features= 'auto', min_samples_leaf= 5,\n",
    "#                                   min_samples_split= 15\n",
    "#                                  ) \n",
    "    \n",
    "    #totry:\n",
    "    lreg = RandomForestClassifier(max_depth=5, max_features='sqrt', \n",
    "                                 min_samples_leaf=2,\n",
    "                       min_samples_split=10, n_estimators=1000)\n",
    "    \n",
    "    lreg = RandomForestClassifier(max_depth=10, min_samples_leaf=2, n_estimators=200)\n",
    "    \n",
    "    \n",
    "#     lreg = RandomForestClassifier(bootstrap=True, ccp_alpha=0.0, class_weight=None,\n",
    "#                        criterion='gini', max_depth=80, max_features='sqrt',\n",
    "#                        max_leaf_nodes=None, max_samples=None,\n",
    "#                        min_impurity_decrease=0.0, min_impurity_split=None,\n",
    "#                        min_samples_leaf=1, min_samples_split=10,\n",
    "#                        min_weight_fraction_leaf=0.0, n_estimators=400,\n",
    "#                        n_jobs=None, oob_score=False, random_state=None,\n",
    "#                        verbose=0, warm_start=False)\n",
    "    \n",
    "    \n",
    "    # Train Classifier\n",
    "    lreg.fit(X_train, y_train)\n",
    "\n",
    "    # Prediction of Classes\n",
    "    y_pred = lreg.predict(X_test)\n",
    "\n",
    "    # Display Confusion Matrix and Classification Report\n",
    "    print(confusion_matrix(y_test, y_pred))\n",
    "#     print(classification_report(y_test, y_pred))\n",
    "\n",
    "    # Prediction of Probabilities\n",
    "    y_pred_prob = lreg.predict_proba(X_test)[:, 1]\n",
    "\n",
    "    # Create Data Frame of Actual Values - y_test\n",
    "    df_y_test = pd.DataFrame(y_test)\n",
    "\n",
    "    # Add Predicted Probabilities to Data Frame\n",
    "    df_y_test[\"y_pred_prob\"] = y_pred_prob\n",
    "\n",
    "    # Add Predicted Classes (0 or 1) to Data Frame to Cross-Check Predicted Probabilities\n",
    "    df_y_test[\"y_pred\"] = y_pred\n",
    "\n",
    "    # Select Actual Daily Returns in USD from the Data Set Copy\n",
    "    df_dataset1_copy_dailyreturns = df_dataset1_copy[['Daily Return in USD']]\n",
    "\n",
    "    # Merge Predictions and Daily Returns Data Frame on the Column \"Date\"\n",
    "    df_y_test_withdailyreturns = pd.merge(\n",
    "        df_y_test, df_dataset1_copy_dailyreturns, on='Date')\n",
    "\n",
    "    df_dataset1_copy_percentage = df_dataset1_copy[['percentage_daily_return']]\n",
    "    df_y_test_withdailyreturns = pd.merge(\n",
    "        df_y_test_withdailyreturns, df_dataset1_copy_percentage, on='Date')\n",
    "\n",
    "    # Add Bitcoin Price in USD\n",
    "    df_y_test_withdailyreturns = pd.merge(\n",
    "        df_y_test_withdailyreturns, df_dataset1_copy['market/price_usd_close'], on='Date')\n",
    "\n",
    "    df_y_test_withdailyreturns['y_pred_prob_bereinigt'] = np.where(\n",
    "        df_y_test_withdailyreturns['y_pred_prob'] < 0.5, 1-df_y_test_withdailyreturns['y_pred_prob'], df_y_test_withdailyreturns['y_pred_prob'])\n",
    "\n",
    "    df_y_test_withdailyreturns[\"Einsatz\"] = einsatz #* \\\n",
    "        #df_y_test_withdailyreturns[\"y_pred_prob_bereinigt\"]  # **2\n",
    "\n",
    "    # Add and Calculate Transaction Costs based on the Bitcoin Price in USD\n",
    "    df_y_test_withdailyreturns['Transaction Costs in USD'] = df_y_test_withdailyreturns['Einsatz']*0.00027*2\n",
    "\n",
    "    # Create List of Multiple Thresholds\n",
    "    # A Threshold of 0.7 means that only predicted probabilites with more than 0.7 or less than 0.3 are considered further\n",
    "    list_thresholdcalc = [0.5, 0.51, 0.52, 0.53]\n",
    "\n",
    "    # Try and Except Block to Address Cases in Which a Data Frame does NOT Contain Any Values Because No predicted Probability Meets the Threshold Requirements\n",
    "    try:\n",
    "\n",
    "        # For Loop Over List\n",
    "        for thresholdcalc in list_thresholdcalc:\n",
    "\n",
    "            # Creation of a Data Frame Containing Only Probability Predictions Which Meet the Threshold Requirements\n",
    "            df_y_test_probaall = df_y_test.loc[(df_y_test['y_pred_prob'] > thresholdcalc) | (\n",
    "                df_y_test['y_pred_prob'] < 1-thresholdcalc)]\n",
    "\n",
    "            # Calculation Of Accuracy Only for the Data Subset Meeting Threshold Requirements\n",
    "            acc_calc = len(df_y_test_probaall[df_y_test_probaall['Class']\n",
    "                                              == df_y_test_probaall['y_pred']]) / len(df_y_test_probaall)\n",
    "\n",
    "            print(\"Threshold of:\", thresholdcalc)\n",
    "            print(classification_report(\n",
    "                df_y_test_probaall[\"Class\"], df_y_test_probaall[\"y_pred\"]))\n",
    "\n",
    "            # Creation of Another Data Frame including Returns and Transaction Costs\n",
    "            # Only For Probability Predicitons that Meet the Threshold Requirements\n",
    "            df_y_test_probaall_withdailyreturns = df_y_test_withdailyreturns.loc[(\n",
    "                df_y_test_withdailyreturns['y_pred_prob'] > thresholdcalc) | (df_y_test_withdailyreturns['y_pred_prob'] < 1-thresholdcalc)]\n",
    "\n",
    "            # Trading Assumption: Bet Amount = 1 Bitcoin for Each Prediction\n",
    "            # Select Daily Returns Only From True Predictions Where Predicted Class equals Actual Class.\n",
    "            # It does not matter whether Daily Returns are Positive or Negative as Short-Selling Option Allows To Profit From Falling Prices\n",
    "            profit = df_y_test_probaall_withdailyreturns[\"percentage_daily_return\"][\n",
    "                df_y_test_probaall_withdailyreturns['Class'] == df_y_test_probaall_withdailyreturns['y_pred']].abs().sum()\n",
    "\n",
    "            # Select  Daily Returns Only From False Predictions Where Predicted Class equals Actual Class\n",
    "            loss = df_y_test_probaall_withdailyreturns[\"percentage_daily_return\"][df_y_test_probaall_withdailyreturns['Class']\n",
    "                                                                                  != df_y_test_probaall_withdailyreturns['y_pred']].abs().sum()\n",
    "\n",
    "            print(\"prestake profit-loss {:.2f} x\".format(profit-loss))\n",
    "\n",
    "            if thresholdcalc == 0.5:\n",
    "                prestakepercentlist.append(int((profit-loss)*100))\n",
    "            if thresholdcalc == 0.51:\n",
    "                prestakepercentlist51.append(int((profit-loss)*100))\n",
    "            if thresholdcalc == 0.52:\n",
    "                prestakepercentlist52.append(int((profit-loss)*100))\n",
    "            if thresholdcalc == 0.53:\n",
    "                prestakepercentlist53.append(int((profit-loss)*100))\n",
    "\n",
    "            loss = loss * einsatz\n",
    "            profit = profit * einsatz\n",
    "\n",
    "            # Calculation of Transaction Costs based On BTC Value in USD. Each Future Trade considers Transaction Costs twice, becauase of Buying and Selling the Future\n",
    "            transaction_costs = df_y_test_probaall_withdailyreturns['Transaction Costs in USD'].sum(\n",
    "            )\n",
    "\n",
    "            # Calculation of Total Profit Considering Profit, Loss and Transaction Costs\n",
    "            total = profit-loss-transaction_costs\n",
    "\n",
    "            # In addition, the same setting with different time horizon\n",
    "            currentpreds_all = df_y_test_probaall_withdailyreturns[\n",
    "                df_y_test_probaall_withdailyreturns.index >= spec_start_date]\n",
    "\n",
    "            # the len\n",
    "            currentpreds_all_count = len(currentpreds_all)\n",
    "\n",
    "            # Analog to Profit Calculation Above\n",
    "            currentpreds_winning_total = currentpreds_all[\"percentage_daily_return\"][(\n",
    "                currentpreds_all['Class'] == currentpreds_all['y_pred'])].abs().sum()\n",
    "            # Analog to Loss Calculation Above\n",
    "            currentpreds_loosing_total = currentpreds_all[\"percentage_daily_return\"][(\n",
    "                currentpreds_all['Class'] != currentpreds_all['y_pred'])].abs().sum()\n",
    "            # Analog to Calculation of Transaction Costs Above\n",
    "            currentpreds_transaction_costs = currentpreds_all['Transaction Costs in USD'][(\n",
    "                currentpreds_all['Class'] != currentpreds_all['y_pred'])].abs().sum()\n",
    "\n",
    "            currentpreds_loosing_total = currentpreds_loosing_total * einsatz\n",
    "            currentpreds_winning_total = currentpreds_winning_total * einsatz\n",
    "\n",
    "            # Analog to Calculation of Total Profit\n",
    "            currentpreds_total = currentpreds_winning_total - \\\n",
    "                currentpreds_loosing_total-currentpreds_transaction_costs\n",
    "            \n",
    "            print(\"currentpreds_winning_total {} - currentpreds_loosing_total {} -currentpreds_transaction_costs {} \".format(\n",
    "            currentpreds_winning_total, currentpreds_loosing_total, currentpreds_transaction_costs))\n",
    "\n",
    "            # Condition\n",
    "            # In Case the Shorter Time Horizon Does Not Include any Sample -> Empyt Output\n",
    "            if currentpreds_all_count == 0:\n",
    "                currentpreds_all_count = '-'\n",
    "                current_acc_calc = '-'\n",
    "\n",
    "            # Otherwise Calculation of Accuracy analog to theeins Accuracy Calculation for the Entire Period\n",
    "            else:\n",
    "                current_acc_calc = (len(currentpreds_all[\"Daily Return in USD\"][(\n",
    "                    currentpreds_all['Class'] == currentpreds_all['y_pred'])]))/currentpreds_all_count\n",
    "\n",
    "            # Display of Threshold, Total Profit, Profit, Loss, Transaction Costs, Accuracy and Correct Number of Predictions Both for the Specified Time Horizon and the Entire Time\n",
    "            print(\"SpecPeriod:\")\n",
    "            print(\"einsatz\", int(currentpreds_all[\"Einsatz\"].sum()), \"Total Return in SpecPeriod:\", int(currentpreds_total), \"/ Profit: \", int(currentpreds_winning_total), \"/ Loss: \", int(currentpreds_loosing_total), \"/ TransCosts: \", int(currentpreds_transaction_costs),\n",
    "                  \"/ #CorrectPreds:\", (len(currentpreds_all[\"Daily Return in USD\"][(currentpreds_all['Class'] == currentpreds_all['y_pred'])])), \"of\", len(currentpreds_all))\n",
    "\n",
    "            print(\"CalcAccuracy {:.2f} -- profit in %/bet: {:.2f}\".format(current_acc_calc, 100*(int(\n",
    "                currentpreds_total) / len(currentpreds_all)) / (currentpreds_all[\"Einsatz\"].sum() / len(currentpreds_all))))\n",
    "            print(\"einsatz * 1+profit% ^ # wetten {:.2f}\".format(einsatz*(1+(int(currentpreds_total) / len(currentpreds_all)) / (\n",
    "                currentpreds_all[\"Einsatz\"].sum() / len(currentpreds_all))) ** len(currentpreds_all)))\n",
    "\n",
    "            if thresholdcalc == 0.5:\n",
    "                current_profitpercent.append(100*(int(currentpreds_total) / len(\n",
    "                    currentpreds_all)) / (currentpreds_all[\"Einsatz\"].sum() / len(currentpreds_all)))\n",
    "            if thresholdcalc == 0.51:\n",
    "                current_profitpercent51.append(100*(int(currentpreds_total) / len(\n",
    "                    currentpreds_all)) / (currentpreds_all[\"Einsatz\"].sum() / len(currentpreds_all)))\n",
    "            if thresholdcalc == 0.52:\n",
    "                current_profitpercent52.append(100*(int(currentpreds_total) / len(\n",
    "                    currentpreds_all)) / (currentpreds_all[\"Einsatz\"].sum() / len(currentpreds_all)))\n",
    "            if thresholdcalc == 0.53:\n",
    "                current_profitpercent53.append(100*(int(currentpreds_total) / len(\n",
    "                    currentpreds_all)) / (currentpreds_all[\"Einsatz\"].sum() / len(currentpreds_all)))\n",
    "\n",
    "            print()\n",
    "            print(\"Entire Period:\")\n",
    "            print(\"einsatz\", int(df_y_test_probaall_withdailyreturns[\"Einsatz\"].sum()), \"TotReturn:\", int(total), \"/ Profit: \", int(profit), \"/ Loss: \", int(loss), \"/ TransCosts: \", int(\n",
    "                transaction_costs), \"/ CalcAccuracy\", round(acc_calc, 2), \"/ #CorrectPreds:\", len(df_y_test_probaall[df_y_test_probaall['Class'] == df_y_test_probaall['y_pred']]),  \"Of\", len(df_y_test_probaall))\n",
    "            print(\"einsatz/bet\", df_y_test_probaall_withdailyreturns[\"Einsatz\"].sum() / len(df_y_test_probaall), \"TotReturn / bet\", int(total) / len(\n",
    "                df_y_test_probaall), \"/ TranCosts / bet \", int(transaction_costs) / len(df_y_test_probaall), \"/ CalcuAcc\", round(acc_calc, 2))\n",
    "            print(\"profit in %/bet: {:.2f}\".format(100*(int(total) / len(df_y_test_probaall)) / (\n",
    "                df_y_test_probaall_withdailyreturns[\"Einsatz\"].sum() / len(df_y_test_probaall))))\n",
    "\n",
    "            if thresholdcalc == 0.5:\n",
    "                profitpercent.append(100*(int(total) / len(df_y_test_probaall)) / (\n",
    "                    df_y_test_probaall_withdailyreturns[\"Einsatz\"].sum() / len(df_y_test_probaall)))\n",
    "            if thresholdcalc == 0.51:\n",
    "                profitpercent51.append(100*(int(total) / len(df_y_test_probaall)) / (\n",
    "                    df_y_test_probaall_withdailyreturns[\"Einsatz\"].sum() / len(df_y_test_probaall)))\n",
    "            if thresholdcalc == 0.52:\n",
    "                profitpercent52.append(100*(int(total) / len(df_y_test_probaall)) / (\n",
    "                    df_y_test_probaall_withdailyreturns[\"Einsatz\"].sum() / len(df_y_test_probaall)))\n",
    "            if thresholdcalc == 0.53:\n",
    "                profitpercent53.append(100*(int(total) / len(df_y_test_probaall)) / (\n",
    "                    df_y_test_probaall_withdailyreturns[\"Einsatz\"].sum() / len(df_y_test_probaall)))\n",
    "\n",
    "            print(\"einsatz * 1+profit% ^ # wetten {:.2f}\".format(einsatz*(1+(int(total) / len(df_y_test_probaall)) / (\n",
    "                df_y_test_probaall_withdailyreturns[\"Einsatz\"].sum() / len(df_y_test_probaall))) ** len(df_y_test_probaall)))\n",
    "            if thresholdcalc == 0.5:\n",
    "                zinseszins.append(einsatz*(1+(int(total) / len(df_y_test_probaall)) / (\n",
    "                    df_y_test_probaall_withdailyreturns[\"Einsatz\"].sum() / len(df_y_test_probaall))) ** len(df_y_test_probaall))\n",
    "\n",
    "                current_zinseszins.append(einsatz*(1+(int(currentpreds_total) / len(currentpreds_all)) / (\n",
    "                    currentpreds_all[\"Einsatz\"].sum() / len(currentpreds_all))) ** len(currentpreds_all))\n",
    "\n",
    "            print()\n",
    "            print()\n",
    "\n",
    "            # Store All Calculated Values For Every Variable of Every Run\n",
    "            # Specified Period\n",
    "            # Threshold = 0.5\n",
    "            if thresholdcalc == 0.5:\n",
    "                spec_list_05_total.append(currentpreds_total)\n",
    "                spec_list_05_profit.append(currentpreds_winning_total)\n",
    "                spec_list_05_loss.append(currentpreds_loosing_total)\n",
    "                spec_list_05_trans.append(currentpreds_transaction_costs)\n",
    "                spec_list_05_acc.append(current_acc_calc)\n",
    "                spec_list_05_preds_corr.append((len(df_y_test_probaall_withdailyreturns[\"Daily Return in USD\"][(\n",
    "                    df_y_test_probaall_withdailyreturns.index >= spec_start_date) & (df_y_test_probaall_withdailyreturns['Class'] == df_y_test_probaall_withdailyreturns['y_pred'])])))\n",
    "                spec_list_05_preds.append(currentpreds_all_count)\n",
    "                # Entire Period:\n",
    "                list_05_total.append(total)\n",
    "                list_05_profit.append(profit)\n",
    "                list_05_loss.append(loss)\n",
    "                list_05_trans.append(transaction_costs)\n",
    "                list_05_acc.append(acc_calc)\n",
    "                list_05_preds_corr.append(len(\n",
    "                    df_y_test_probaall[df_y_test_probaall['Class'] == df_y_test_probaall['y_pred']]))\n",
    "                list_05_preds.append(len(df_y_test_probaall))\n",
    "\n",
    "            # Threshold = 0.6\n",
    "            if thresholdcalc == 0.51:\n",
    "                spec_list_06_total.append(currentpreds_total)\n",
    "                spec_list_06_profit.append(currentpreds_winning_total)\n",
    "                spec_list_06_loss.append(currentpreds_loosing_total)\n",
    "                spec_list_06_trans.append(currentpreds_transaction_costs)\n",
    "                spec_list_06_acc.append(current_acc_calc)\n",
    "                spec_list_06_preds_corr.append((len(df_y_test_probaall_withdailyreturns[\"Daily Return in USD\"][(\n",
    "                    df_y_test_probaall_withdailyreturns.index >= spec_start_date) & (df_y_test_probaall_withdailyreturns['Class'] == df_y_test_probaall_withdailyreturns['y_pred'])])))\n",
    "                spec_list_06_preds.append(currentpreds_all_count)\n",
    "                # Entire Period:\n",
    "                list_06_total.append(total)\n",
    "                list_06_profit.append(profit)\n",
    "                list_06_loss.append(loss)\n",
    "                list_06_trans.append(transaction_costs)\n",
    "                list_06_acc.append(acc_calc)\n",
    "                list_06_preds_corr.append(len(\n",
    "                    df_y_test_probaall[df_y_test_probaall['Class'] == df_y_test_probaall['y_pred']]))\n",
    "                list_06_preds.append(len(df_y_test_probaall))\n",
    "\n",
    "                zinseszins51.append(einsatz*(1+(int(total) / len(df_y_test_probaall)) / (\n",
    "                    df_y_test_probaall_withdailyreturns[\"Einsatz\"].sum() / len(df_y_test_probaall))) ** len(df_y_test_probaall))\n",
    "\n",
    "                current_zinseszins51.append(einsatz*(1+(int(currentpreds_total) / len(currentpreds_all)) / (\n",
    "                    currentpreds_all[\"Einsatz\"].sum() / len(currentpreds_all))) ** len(currentpreds_all))\n",
    "\n",
    "            # Threshold = 0.7\n",
    "            if thresholdcalc == 0.52:\n",
    "                spec_list_07_total.append(currentpreds_total)\n",
    "                spec_list_07_profit.append(currentpreds_winning_total)\n",
    "                spec_list_07_loss.append(currentpreds_loosing_total)\n",
    "                spec_list_07_trans.append(currentpreds_transaction_costs)\n",
    "                spec_list_07_acc.append(current_acc_calc)\n",
    "                spec_list_07_preds_corr.append((len(df_y_test_probaall_withdailyreturns[\"Daily Return in USD\"][(\n",
    "                    df_y_test_probaall_withdailyreturns.index >= spec_start_date) & (df_y_test_probaall_withdailyreturns['Class'] == df_y_test_probaall_withdailyreturns['y_pred'])])))\n",
    "                spec_list_07_preds.append(currentpreds_all_count)\n",
    "                # Entire Period:\n",
    "                list_07_total.append(total)\n",
    "                list_07_profit.append(profit)\n",
    "                list_07_loss.append(loss)\n",
    "                list_07_trans.append(transaction_costs)\n",
    "                list_07_acc.append(acc_calc)\n",
    "                list_07_preds_corr.append(len(\n",
    "                    df_y_test_probaall[df_y_test_probaall['Class'] == df_y_test_probaall['y_pred']]))\n",
    "                list_07_preds.append(len(df_y_test_probaall))\n",
    "                zinseszins52.append(einsatz*(1+(int(total) / len(df_y_test_probaall)) / (\n",
    "                    df_y_test_probaall_withdailyreturns[\"Einsatz\"].sum() / len(df_y_test_probaall))) ** len(df_y_test_probaall))\n",
    "\n",
    "                current_zinseszins52.append(einsatz*(1+(int(currentpreds_total) / len(currentpreds_all)) / (\n",
    "                    currentpreds_all[\"Einsatz\"].sum() / len(currentpreds_all))) ** len(currentpreds_all))\n",
    "\n",
    "            # Threshold = 0.8\n",
    "            if thresholdcalc == 0.53:\n",
    "                spec_list_08_total.append(currentpreds_total)\n",
    "                spec_list_08_profit.append(currentpreds_winning_total)\n",
    "                spec_list_08_loss.append(currentpreds_loosing_total)\n",
    "                spec_list_08_trans.append(currentpreds_transaction_costs)\n",
    "                spec_list_08_acc.append(current_acc_calc)\n",
    "                spec_list_08_preds_corr.append((len(df_y_test_probaall_withdailyreturns[\"Daily Return in USD\"][(\n",
    "                    df_y_test_probaall_withdailyreturns.index >= spec_start_date) & (df_y_test_probaall_withdailyreturns['Class'] == df_y_test_probaall_withdailyreturns['y_pred'])])))\n",
    "                spec_list_08_preds.append(currentpreds_all_count)\n",
    "                # Entire Period:\n",
    "                list_08_total.append(total)\n",
    "                list_08_profit.append(profit)\n",
    "                list_08_loss.append(loss)\n",
    "                list_08_trans.append(transaction_costs)\n",
    "                list_08_acc.append(acc_calc)\n",
    "                list_08_preds_corr.append(len(\n",
    "                    df_y_test_probaall[df_y_test_probaall['Class'] == df_y_test_probaall['y_pred']]))\n",
    "                list_08_preds.append(len(df_y_test_probaall))\n",
    "                zinseszins53.append(einsatz*(1+(int(total) / len(df_y_test_probaall)) / (\n",
    "                    df_y_test_probaall_withdailyreturns[\"Einsatz\"].sum() / len(df_y_test_probaall))) ** len(df_y_test_probaall))\n",
    "\n",
    "                current_zinseszins53.append(einsatz*(1+(int(currentpreds_total) / len(currentpreds_all)) / (\n",
    "                    currentpreds_all[\"Einsatz\"].sum() / len(currentpreds_all))) ** len(currentpreds_all))\n",
    "\n",
    "    except:\n",
    "        print(\"error\")\n",
    "    print()\n",
    "    print()\n"
   ]
  },
  {
   "cell_type": "code",
   "execution_count": null,
   "metadata": {},
   "outputs": [],
   "source": []
  },
  {
   "cell_type": "code",
   "execution_count": null,
   "metadata": {},
   "outputs": [],
   "source": []
  },
  {
   "cell_type": "code",
   "execution_count": null,
   "metadata": {
    "ExecuteTime": {
     "end_time": "2020-12-27T10:46:52.259608Z",
     "start_time": "2020-12-27T10:46:52.232200Z"
    }
   },
   "outputs": [],
   "source": [
    "# einsatz = 1000\n",
    "# prestakepercentlist = []\n",
    "# zinseszins = []\n",
    "# profitpercent = []\n",
    "# current_profitpercent = []\n",
    "# spec_start_date = '2019-09-09'\n",
    "\n",
    "\n",
    "# # For Loop to Simulate K-fold Cross Validation\n",
    "# for x in range(1, 2):\n",
    "\n",
    "#     # Display Number of Runs\n",
    "#     print(\"Run:\", x)\n",
    "\n",
    "#     # Split Data into Training and Testing\n",
    "#     X_train, X_test, y_train, y_test = train_test_split(\n",
    "#         predictors, target, test_size=0.3, stratify=target)\n",
    "\n",
    "#     # Amount of Columns\n",
    "#     n_nodes = predictors.shape[1]\n",
    "\n",
    "#     # Instantiation of MinMaxScaler\n",
    "#     norm_scaler = MinMaxScaler()\n",
    "\n",
    "#     # Training and Application of Feature Scaler on Training Data of Predictors\n",
    "#     X_train_scaled = pd.DataFrame(norm_scaler.fit_transform(X_train))\n",
    "#     X_train_scaled = X_train\n",
    "\n",
    "#     # Application of Feature Scaler on Test Data of Predictors\n",
    "#     X_test_scaled = norm_scaler.transform(X_test)\n",
    "#     X_test_scaled = X_test\n",
    "\n",
    "#     # Instantiate Classifier Logistic Regression\n",
    "#     lreg = XGBClassifier(base_score=0.5, booster='gbtree', colsample_bylevel=1,\n",
    "#                          colsample_bynode=1, colsample_bytree=0.7, gamma=0, gpu_id=-1,\n",
    "#                          importance_type='gain', interaction_constraints='',\n",
    "#                          learning_rate=0.01, max_delta_step=0, max_depth=3,\n",
    "#                          min_child_weight=1, monotone_constraints='()',\n",
    "#                          n_estimators=200, n_jobs=0, num_parallel_tree=1,\n",
    "#                          objective='reg:squarederror', random_state=0, reg_alpha=0,\n",
    "#                          reg_lambda=1, scale_pos_weight=1, subsample=0.7,\n",
    "#                          tree_method='exact', validate_parameters=1, verbosity=None)\n",
    "\n",
    "#     # Train Classifier\n",
    "#     lreg.fit(X_train_scaled, y_train)\n",
    "\n",
    "#     # Prediction of Classes\n",
    "#     y_pred = lreg.predict(X_test_scaled)\n",
    "\n",
    "#     # Display Confusion Matrix and Classification Report\n",
    "#     print(confusion_matrix(y_test, y_pred))\n",
    "# #     print(classification_report(y_test, y_pred))\n",
    "\n",
    "#     # Prediction of Probabilities\n",
    "#     y_pred_prob = lreg.predict_proba(X_test_scaled)[:, 1]\n",
    "\n",
    "#     # Create Data Frame of Actual Values - y_test\n",
    "#     df_y_test = pd.DataFrame(y_test)\n",
    "\n",
    "#     # Add Predicted Probabilities to Data Frame\n",
    "#     df_y_test[\"y_pred_prob\"] = y_pred_prob\n",
    "\n",
    "#     # Add Predicted Classes (0 or 1) to Data Frame to Cross-Check Predicted Probabilities\n",
    "#     df_y_test[\"y_pred\"] = y_pred\n",
    "\n",
    "#     # Select Actual Daily Returns in USD from the Data Set Copy\n",
    "#     df_dataset1_copy_dailyreturns = df_dataset1_copy[['Daily Return in USD']]\n",
    "\n",
    "#     # Merge Predictions and Daily Returns Data Frame on the Column \"Date\"\n",
    "#     df_y_test_withdailyreturns = pd.merge(\n",
    "#         df_y_test, df_dataset1_copy_dailyreturns, on='Date')\n",
    "\n",
    "#     df_dataset1_copy_percentage = df_dataset1_copy[['percentage_daily_return']]\n",
    "#     df_y_test_withdailyreturns = pd.merge(\n",
    "#         df_y_test_withdailyreturns, df_dataset1_copy_percentage, on='Date')\n",
    "\n",
    "#     # Add Bitcoin Price in USD\n",
    "#     df_y_test_withdailyreturns = pd.merge(\n",
    "#         df_y_test_withdailyreturns, df_dataset1_copy['market/price_usd_close'], on='Date')\n",
    "\n",
    "#     df_y_test_withdailyreturns['y_pred_prob_bereinigt'] = np.where(\n",
    "#         df_y_test_withdailyreturns['y_pred_prob'] < 0.5, 1-df_y_test_withdailyreturns['y_pred_prob'], df_y_test_withdailyreturns['y_pred_prob'])\n",
    "\n",
    "#     df_y_test_withdailyreturns[\"Einsatz\"] = einsatz #* \\\n",
    "#         #df_y_test_withdailyreturns[\"y_pred_prob_bereinigt\"]  # **2\n",
    "\n",
    "#     # Add and Calculate Transaction Costs based on the Bitcoin Price in USD\n",
    "#     df_y_test_withdailyreturns['Transaction Costs in USD'] = df_y_test_withdailyreturns['Einsatz']*0.0003*2\n",
    "\n",
    "#     # Create List of Multiple Thresholds\n",
    "#     # A Threshold of 0.7 means that only predicted probabilites with more than 0.7 or less than 0.3 are considered further\n",
    "#     list_thresholdcalc = [0.5]\n",
    "\n",
    "#     # Try and Except Block to Address Cases in Which a Data Frame does NOT Contain Any Values Because No predicted Probability Meets the Threshold Requirements\n",
    "#     try:\n",
    "\n",
    "#         # For Loop Over List\n",
    "#         for thresholdcalc in list_thresholdcalc:\n",
    "\n",
    "#             # Creation of a Data Frame Containing Only Probability Predictions Which Meet the Threshold Requirements\n",
    "#             df_y_test_probaall = df_y_test.loc[(df_y_test['y_pred_prob'] > thresholdcalc) | (\n",
    "#                 df_y_test['y_pred_prob'] < 1-thresholdcalc)]\n",
    "\n",
    "#             # Calculation Of Accuracy Only for the Data Subset Meeting Threshold Requirements\n",
    "#             acc_calc = len(df_y_test_probaall[df_y_test_probaall['Class']\n",
    "#                                               == df_y_test_probaall['y_pred']]) / len(df_y_test_probaall)\n",
    "\n",
    "#             print(\"Threshold of:\", thresholdcalc)\n",
    "#             print(classification_report(\n",
    "#                 df_y_test_probaall[\"Class\"], df_y_test_probaall[\"y_pred\"]))\n",
    "\n",
    "#             # Creation of Another Data Frame including Returns and Transaction Costs\n",
    "#             # Only For Probability Predicitons that Meet the Threshold Requirements\n",
    "#             df_y_test_probaall_withdailyreturns = df_y_test_withdailyreturns.loc[(\n",
    "#                 df_y_test_withdailyreturns['y_pred_prob'] > thresholdcalc) | (df_y_test_withdailyreturns['y_pred_prob'] < 1-thresholdcalc)]\n",
    "\n",
    "#             # Trading Assumption: Bet Amount = 1 Bitcoin for Each Prediction\n",
    "#             # Select Daily Returns Only From True Predictions Where Predicted Class equals Actual Class.\n",
    "#             # It does not matter whether Daily Returns are Positive or Negative as Short-Selling Option Allows To Profit From Falling Prices\n",
    "#             profit = df_y_test_probaall_withdailyreturns[\"percentage_daily_return\"][\n",
    "#                 df_y_test_probaall_withdailyreturns['Class'] == df_y_test_probaall_withdailyreturns['y_pred']].abs().sum()\n",
    "\n",
    "#             # Select  Daily Returns Only From False Predictions Where Predicted Class equals Actual Class\n",
    "#             loss = df_y_test_probaall_withdailyreturns[\"percentage_daily_return\"][df_y_test_probaall_withdailyreturns['Class']\n",
    "#                                                                                   != df_y_test_probaall_withdailyreturns['y_pred']].abs().sum()\n",
    "\n",
    "#             print(\"prestake profit-loss {:.2f} x\".format(profit-loss))\n",
    "\n",
    "#             if thresholdcalc == 0.5:\n",
    "#                 prestakepercentlist.append(int((profit-loss)*100))\n",
    "            \n",
    "\n",
    "#             loss = loss * einsatz\n",
    "#             profit = profit * einsatz\n",
    "\n",
    "#             # Calculation of Transaction Costs based On BTC Value in USD. Each Future Trade considers Transaction Costs twice, becauase of Buying and Selling the Future\n",
    "#             transaction_costs = df_y_test_probaall_withdailyreturns['Transaction Costs in USD'].sum(\n",
    "#             )\n",
    "\n",
    "#             # Calculation of Total Profit Considering Profit, Loss and Transaction Costs\n",
    "#             total = profit-loss-transaction_costs\n",
    "\n",
    "#             print()\n",
    "#             print(\"Entire Period:\")\n",
    "#             print(\"einsatz\", int(df_y_test_probaall_withdailyreturns[\"Einsatz\"].sum()), \"TotReturn:\", int(total), \"/ Profit: \", int(profit), \"/ Loss: \", int(loss), \"/ TransCosts: \", int(\n",
    "#                 transaction_costs), \"/ CalcAccuracy\", round(acc_calc, 2), \"/ #CorrectPreds:\", len(df_y_test_probaall[df_y_test_probaall['Class'] == df_y_test_probaall['y_pred']]),  \"Of\", len(df_y_test_probaall))\n",
    "#             print(\"einsatz/bet\", df_y_test_probaall_withdailyreturns[\"Einsatz\"].sum() / len(df_y_test_probaall), \"TotReturn / bet\", int(total) / len(\n",
    "#                 df_y_test_probaall), \"/ TranCosts / bet \", int(transaction_costs) / len(df_y_test_probaall), \"/ CalcuAcc\", round(acc_calc, 2))\n",
    "#             print(\"profit in %/bet: {:.2f}\".format(100*(int(total) / len(df_y_test_probaall)) / (\n",
    "#                 df_y_test_probaall_withdailyreturns[\"Einsatz\"].sum() / len(df_y_test_probaall))))\n",
    "\n",
    "#             if thresholdcalc == 0.5:\n",
    "#                 profitpercent.append(100*(int(total) / len(df_y_test_probaall)) / (\n",
    "#                     df_y_test_probaall_withdailyreturns[\"Einsatz\"].sum() / len(df_y_test_probaall)))\n",
    "\n",
    "#             print(\"einsatz * 1+profit% ^ # wetten {:.2f}\".format(einsatz*(1+(int(total) / len(df_y_test_probaall)) / (\n",
    "#                 df_y_test_probaall_withdailyreturns[\"Einsatz\"].sum() / len(df_y_test_probaall))) ** len(df_y_test_probaall)))\n",
    "#             zinseszins.append(einsatz*(1+(int(total) / len(df_y_test_probaall)) / (\n",
    "#                 df_y_test_probaall_withdailyreturns[\"Einsatz\"].sum() / len(df_y_test_probaall))) ** len(df_y_test_probaall))\n",
    "\n",
    "#             # Store All Calculated Values For Every Variable of Every Run\n",
    "#             # Specified Period\n",
    "#             # Threshold = 0.5\n",
    "#             if thresholdcalc == 0.5:\n",
    "#                 # Entire Period:\n",
    "#                 list_05_total.append(total)\n",
    "#                 list_05_profit.append(profit)\n",
    "#                 list_05_loss.append(loss)\n",
    "#                 list_05_trans.append(transaction_costs)\n",
    "#                 list_05_acc.append(acc_calc)\n",
    "#                 list_05_preds_corr.append(len(\n",
    "#                     df_y_test_probaall[df_y_test_probaall['Class'] == df_y_test_probaall['y_pred']]))\n",
    "#                 list_05_preds.append(len(df_y_test_probaall))\n",
    "\n",
    "#     except:\n",
    "#         print(\"error\")\n"
   ]
  },
  {
   "cell_type": "code",
   "execution_count": null,
   "metadata": {
    "ExecuteTime": {
     "end_time": "2020-12-27T10:46:52.285088Z",
     "start_time": "2020-12-27T10:46:52.261142Z"
    }
   },
   "outputs": [],
   "source": [
    "# df_y_test_probaall_withdailyreturns[\"percentage_daily_return\"][\n",
    "#                 df_y_test_probaall_withdailyreturns['Class'] == df_y_test_probaall_withdailyreturns['y_pred']].abs().sum()"
   ]
  },
  {
   "cell_type": "code",
   "execution_count": null,
   "metadata": {
    "ExecuteTime": {
     "end_time": "2020-12-27T10:46:52.309982Z",
     "start_time": "2020-12-27T10:46:52.286673Z"
    }
   },
   "outputs": [],
   "source": [
    "# df_y_test_probaall_withdailyreturns[\"percentage_daily_return\"][\n",
    "#                 df_y_test_probaall_withdailyreturns['Class'] == df_y_test_probaall_withdailyreturns['y_pred']].abs()"
   ]
  },
  {
   "cell_type": "code",
   "execution_count": null,
   "metadata": {
    "ExecuteTime": {
     "end_time": "2020-12-27T10:46:52.335806Z",
     "start_time": "2020-12-27T10:46:52.311068Z"
    }
   },
   "outputs": [],
   "source": [
    "# df_y_test_probaall_withdailyreturns[\"percentage_daily_return\"].sort_values()"
   ]
  },
  {
   "cell_type": "code",
   "execution_count": null,
   "metadata": {
    "ExecuteTime": {
     "end_time": "2020-12-27T10:46:52.362138Z",
     "start_time": "2020-12-27T10:46:52.336387Z"
    }
   },
   "outputs": [],
   "source": [
    "len(profitpercent)\n",
    "len(current_profitpercent)"
   ]
  },
  {
   "cell_type": "code",
   "execution_count": null,
   "metadata": {
    "ExecuteTime": {
     "end_time": "2020-12-27T10:46:52.386976Z",
     "start_time": "2020-12-27T10:46:52.362708Z"
    }
   },
   "outputs": [],
   "source": [
    "len(predictors)"
   ]
  },
  {
   "cell_type": "code",
   "execution_count": null,
   "metadata": {
    "ExecuteTime": {
     "end_time": "2020-12-27T10:46:52.412958Z",
     "start_time": "2020-12-27T10:46:52.388776Z"
    }
   },
   "outputs": [],
   "source": [
    "len(y_test)"
   ]
  },
  {
   "cell_type": "code",
   "execution_count": null,
   "metadata": {
    "ExecuteTime": {
     "end_time": "2020-12-27T10:46:52.438919Z",
     "start_time": "2020-12-27T10:46:52.414557Z"
    }
   },
   "outputs": [],
   "source": [
    "len(df_y_test_withdailyreturns)"
   ]
  },
  {
   "cell_type": "code",
   "execution_count": null,
   "metadata": {
    "ExecuteTime": {
     "end_time": "2020-12-27T10:46:52.477878Z",
     "start_time": "2020-12-27T10:46:52.440631Z"
    }
   },
   "outputs": [],
   "source": [
    "df_lost = df_y_test_withdailyreturns[df_y_test_withdailyreturns[\"Class\"] != df_y_test_withdailyreturns[\"y_pred\"]]\n",
    "df_lost.sort_values('percentage_daily_return')"
   ]
  },
  {
   "cell_type": "code",
   "execution_count": null,
   "metadata": {
    "ExecuteTime": {
     "end_time": "2020-12-27T10:46:52.493873Z",
     "start_time": "2020-12-27T10:46:52.478473Z"
    }
   },
   "outputs": [],
   "source": [
    "df_y_test_withdailyreturns[df_y_test_withdailyreturns[\"Class\"] == df_y_test_withdailyreturns[\"y_pred\"]]"
   ]
  },
  {
   "cell_type": "code",
   "execution_count": null,
   "metadata": {},
   "outputs": [],
   "source": []
  },
  {
   "cell_type": "code",
   "execution_count": null,
   "metadata": {},
   "outputs": [],
   "source": []
  },
  {
   "cell_type": "markdown",
   "metadata": {},
   "source": [
    "# save to csv"
   ]
  },
  {
   "cell_type": "code",
   "execution_count": null,
   "metadata": {
    "ExecuteTime": {
     "end_time": "2020-12-27T10:47:34.985412Z",
     "start_time": "2020-12-27T10:46:52.494890Z"
    }
   },
   "outputs": [],
   "source": [
    "# Test Accuracy\n",
    "from sklearn.metrics import accuracy_score\n",
    "from xgboost import XGBClassifier\n",
    "\n",
    "accuarylist = []\n",
    "\n",
    "for x in range(30):\n",
    "    # Split Data into Training and Testing\n",
    "    X_train, X_test, y_train, y_test = train_test_split(\n",
    "        predictors, target, test_size=0.3, stratify=target)\n",
    "    \n",
    "    # Scaler Training and Transformation of Training Set\n",
    "    #X_train_scaled = pd.DataFrame(norm_scaler.fit_transform(X_train))\n",
    "    #X_test_scaled = pd.DataFrame(norm_scaler.fit_transform(X_test))\n",
    "    \n",
    "    # Train Classifier\n",
    "    lreg.fit(X_train, y_train)\n",
    "    y_pred = lreg.predict(X_test)\n",
    "    predictions = [round(value) for value in y_pred]\n",
    "    accuracy = accuracy_score(y_test, predictions)\n",
    "    accuarylist.append(accuracy * 100.0)\n",
    "\n",
    "mean_auc_10 = np.mean(accuarylist)\n",
    "mean_auc_10"
   ]
  },
  {
   "cell_type": "code",
   "execution_count": null,
   "metadata": {
    "ExecuteTime": {
     "end_time": "2020-12-27T10:47:35.001253Z",
     "start_time": "2020-12-27T10:47:34.986257Z"
    }
   },
   "outputs": [],
   "source": [
    "import statistics\n",
    "\n",
    "result_to_csv = []\n",
    "\n",
    "result_to_csv.append((\"statistics.median(prestakepercentlist)\", statistics.median(prestakepercentlist) ))\n",
    "result_to_csv.append((\"statistics.median(profitpercent)\", statistics.median(profitpercent) ))\n",
    "result_to_csv.append((\"statistics.median(zinseszins)\", statistics.median(zinseszins) ))\n",
    "result_to_csv.append((\"statistics.median(current_profitpercent)\", statistics.median(current_profitpercent) ))\n",
    "result_to_csv.append((\"statistics.median(current_zinseszins)\", statistics.median(current_zinseszins) ))\n",
    "result_to_csv.append((\"statistics.median(prestakepercentlist51)\", statistics.median(prestakepercentlist51) ))\n",
    "result_to_csv.append((\"statistics.median(profitpercent51)\", statistics.median(profitpercent51) ))\n",
    "result_to_csv.append((\"statistics.median(zinseszins51)\", statistics.median(zinseszins51) ))\n",
    "result_to_csv.append((\"statistics.median(current_profitpercent51)\", statistics.median(current_profitpercent51) ))\n",
    "result_to_csv.append((\"statistics.median(current_zinseszins51)\", statistics.median(current_zinseszins51) ))\n",
    "result_to_csv.append((\"statistics.median(prestakepercentlist52)\", statistics.median(prestakepercentlist52) ))\n",
    "result_to_csv.append((\"statistics.median(profitpercent52)\", statistics.median(profitpercent52) ))\n",
    "result_to_csv.append((\"statistics.median(zinseszins52)\", statistics.median(zinseszins52) ))\n",
    "result_to_csv.append((\"statistics.median(current_profitpercent52)\", statistics.median(current_profitpercent52) ))\n",
    "result_to_csv.append((\"statistics.median(current_zinseszins52)\", statistics.median(current_zinseszins52) ))\n",
    "result_to_csv.append((\"statistics.median(prestakepercentlist53)\", statistics.median(prestakepercentlist53) ))\n",
    "result_to_csv.append((\"statistics.median(profitpercent53)\", statistics.median(profitpercent53) ))\n",
    "result_to_csv.append((\"statistics.median(zinseszins53)\", statistics.median(zinseszins53) ))\n",
    "result_to_csv.append((\"statistics.median(current_profitpercent53)\", statistics.median(current_profitpercent53) ))\n",
    "result_to_csv.append((\"statistics.median(current_zinseszins53)\", statistics.median(current_zinseszins53) ))\n",
    "df_zusammen = pd.DataFrame(result_to_csv)"
   ]
  },
  {
   "cell_type": "code",
   "execution_count": null,
   "metadata": {
    "ExecuteTime": {
     "end_time": "2020-12-27T10:47:35.082527Z",
     "start_time": "2020-12-27T10:47:35.002245Z"
    }
   },
   "outputs": [],
   "source": [
    "import time\n",
    "\n",
    "df_zusammen[\"algo\"] = pd.Series([lreg]) \n",
    "df_zusammen[\"spec_start_date\"] = pd.Series([spec_start_date]) \n",
    "df_zusammen[\"X_train.shape\"] = pd.Series([X_train.shape]) \n",
    "df_zusammen[\"X_test.shape\"] = pd.Series([X_test.shape]) \n",
    "df_zusammen[\"mean_auc_10\"] = pd.Series([mean_auc_10]) \n",
    "df_zusammen[\"df_dataset1.columns\"] = pd.Series([df_dataset1.columns.tolist()])\n",
    "\n",
    "out_path = \"{}_{}_ppd{}.xlsx\".format(int(time.time()), str(lreg)[:10], str(round( statistics.median(current_profitpercent), 2)) )\n",
    "\n",
    "writer = pd.ExcelWriter(out_path , engine='xlsxwriter')\n",
    "df_zusammen.to_excel(writer, sheet_name='Tabelle1')\n",
    "writer.save()"
   ]
  },
  {
   "cell_type": "code",
   "execution_count": null,
   "metadata": {},
   "outputs": [],
   "source": []
  },
  {
   "cell_type": "code",
   "execution_count": null,
   "metadata": {
    "ExecuteTime": {
     "end_time": "2020-12-27T10:47:35.101311Z",
     "start_time": "2020-12-27T10:47:35.084364Z"
    }
   },
   "outputs": [],
   "source": [
    "print( statistics.median(prestakepercentlist) )\n",
    "print( statistics.median(profitpercent) )\n",
    "print( statistics.median(zinseszins) )\n",
    "print( statistics.median(current_profitpercent) )\n",
    "print( statistics.median(current_zinseszins) )"
   ]
  },
  {
   "cell_type": "code",
   "execution_count": null,
   "metadata": {
    "ExecuteTime": {
     "end_time": "2020-12-27T10:47:35.118147Z",
     "start_time": "2020-12-27T10:47:35.102308Z"
    }
   },
   "outputs": [],
   "source": [
    "print( statistics.median(prestakepercentlist51) )\n",
    "print( statistics.median(profitpercent51) )\n",
    "print( statistics.median(zinseszins51) )\n",
    "print( statistics.median(current_profitpercent51) )\n",
    "print( statistics.median(current_zinseszins51) )"
   ]
  },
  {
   "cell_type": "code",
   "execution_count": null,
   "metadata": {
    "ExecuteTime": {
     "end_time": "2020-12-27T10:47:35.143720Z",
     "start_time": "2020-12-27T10:47:35.119652Z"
    }
   },
   "outputs": [],
   "source": [
    "print( statistics.median(prestakepercentlist52) )\n",
    "print( statistics.median(profitpercent52) )\n",
    "print( statistics.median(zinseszins52) )\n",
    "print( statistics.median(current_profitpercent52) )\n",
    "print( statistics.median(current_zinseszins52) )"
   ]
  },
  {
   "cell_type": "code",
   "execution_count": null,
   "metadata": {
    "ExecuteTime": {
     "end_time": "2020-12-27T10:47:35.159209Z",
     "start_time": "2020-12-27T10:47:35.145810Z"
    }
   },
   "outputs": [],
   "source": [
    "print( statistics.median(prestakepercentlist53) )\n",
    "print( statistics.median(profitpercent53) )\n",
    "print( statistics.median(zinseszins53) )\n",
    "print( statistics.median(current_profitpercent53) )\n",
    "print( statistics.median(current_zinseszins53) )"
   ]
  },
  {
   "cell_type": "code",
   "execution_count": null,
   "metadata": {},
   "outputs": [],
   "source": []
  },
  {
   "cell_type": "code",
   "execution_count": null,
   "metadata": {
    "ExecuteTime": {
     "end_time": "2020-12-27T10:47:35.177929Z",
     "start_time": "2020-12-27T10:47:35.161197Z"
    }
   },
   "outputs": [],
   "source": [
    "current_profitpercent"
   ]
  },
  {
   "cell_type": "code",
   "execution_count": null,
   "metadata": {
    "ExecuteTime": {
     "end_time": "2020-12-27T10:47:35.196367Z",
     "start_time": "2020-12-27T10:47:35.179970Z"
    }
   },
   "outputs": [],
   "source": [
    "currentpreds_all[\"Daily Return in USD\"][(\n",
    "    currentpreds_all['Class'] == currentpreds_all['y_pred'])].sort_values()"
   ]
  },
  {
   "cell_type": "code",
   "execution_count": null,
   "metadata": {
    "ExecuteTime": {
     "end_time": "2020-12-27T10:47:35.212471Z",
     "start_time": "2020-12-27T10:47:35.197493Z"
    },
    "scrolled": true
   },
   "outputs": [],
   "source": [
    "currentpreds_all[[\"Daily Return in USD\",'Class', \"y_pred\"]][(\n",
    "    currentpreds_all['Class'] != currentpreds_all['y_pred'])].sort_values(\"Daily Return in USD\")"
   ]
  },
  {
   "cell_type": "code",
   "execution_count": null,
   "metadata": {
    "ExecuteTime": {
     "end_time": "2020-12-27T10:47:35.235131Z",
     "start_time": "2020-12-27T10:47:35.213502Z"
    },
    "scrolled": true
   },
   "outputs": [],
   "source": [
    "currentpreds_all[\"percentage_daily_return\"][(\n",
    "    currentpreds_all['Class'] != currentpreds_all['y_pred'])].abs().sort_values(ascending=False)"
   ]
  },
  {
   "cell_type": "code",
   "execution_count": null,
   "metadata": {
    "ExecuteTime": {
     "end_time": "2020-12-27T10:47:35.250640Z",
     "start_time": "2020-12-27T10:47:35.240854Z"
    }
   },
   "outputs": [],
   "source": [
    "currentpreds_all[\"percentage_daily_return\"][(\n",
    "    currentpreds_all['Class'] == currentpreds_all['y_pred'])].abs().sort_values(ascending=False).head(30)"
   ]
  },
  {
   "cell_type": "code",
   "execution_count": null,
   "metadata": {
    "ExecuteTime": {
     "end_time": "2020-12-27T10:47:35.266720Z",
     "start_time": "2020-12-27T10:47:35.252617Z"
    }
   },
   "outputs": [],
   "source": [
    "currentpreds_all[\"percentage_daily_return\"][(\n",
    "    currentpreds_all['Class'] == currentpreds_all['y_pred'])].abs().sum()"
   ]
  },
  {
   "cell_type": "code",
   "execution_count": null,
   "metadata": {
    "ExecuteTime": {
     "end_time": "2020-12-27T10:47:35.282715Z",
     "start_time": "2020-12-27T10:47:35.268714Z"
    }
   },
   "outputs": [],
   "source": [
    "currentpreds_all[\"percentage_daily_return\"][(\n",
    "    currentpreds_all['Class'] != currentpreds_all['y_pred'])].abs().sum()"
   ]
  },
  {
   "cell_type": "markdown",
   "metadata": {},
   "source": [
    "# Deepdive in prediction"
   ]
  },
  {
   "cell_type": "code",
   "execution_count": null,
   "metadata": {
    "ExecuteTime": {
     "end_time": "2020-12-27T10:47:35.311705Z",
     "start_time": "2020-12-27T10:47:35.283675Z"
    }
   },
   "outputs": [],
   "source": [
    "current_profitpercent"
   ]
  },
  {
   "cell_type": "code",
   "execution_count": null,
   "metadata": {
    "ExecuteTime": {
     "end_time": "2020-12-27T10:47:35.337792Z",
     "start_time": "2020-12-27T10:47:35.312416Z"
    }
   },
   "outputs": [],
   "source": [
    "profitpercent"
   ]
  },
  {
   "cell_type": "code",
   "execution_count": null,
   "metadata": {
    "ExecuteTime": {
     "end_time": "2020-12-27T10:47:35.353622Z",
     "start_time": "2020-12-27T10:47:35.338845Z"
    }
   },
   "outputs": [],
   "source": [
    "df_y_test_withdailyreturns.sort_values(\"Daily Return in USD\")"
   ]
  },
  {
   "cell_type": "code",
   "execution_count": null,
   "metadata": {
    "ExecuteTime": {
     "end_time": "2020-12-27T10:47:35.369168Z",
     "start_time": "2020-12-27T10:47:35.354591Z"
    }
   },
   "outputs": [],
   "source": [
    "df_y_test_withdailyreturns[df_y_test_withdailyreturns[\"Class\"] != df_y_test_withdailyreturns[\"y_pred\"]].abs().sum()"
   ]
  },
  {
   "cell_type": "code",
   "execution_count": null,
   "metadata": {
    "ExecuteTime": {
     "end_time": "2020-12-27T10:47:35.385275Z",
     "start_time": "2020-12-27T10:47:35.369938Z"
    }
   },
   "outputs": [],
   "source": [
    "df_y_test_withdailyreturns[df_y_test_withdailyreturns[\"Class\"] == df_y_test_withdailyreturns[\"y_pred\"]].abs().sum()"
   ]
  },
  {
   "cell_type": "code",
   "execution_count": null,
   "metadata": {
    "ExecuteTime": {
     "end_time": "2020-12-27T10:47:35.401160Z",
     "start_time": "2020-12-27T10:47:35.386273Z"
    }
   },
   "outputs": [],
   "source": [
    "dfrights = df_y_test_withdailyreturns[df_y_test_withdailyreturns[\"Class\"] == df_y_test_withdailyreturns[\"y_pred\"]]\n",
    "dfwrongs = df_y_test_withdailyreturns[df_y_test_withdailyreturns[\"Class\"] != df_y_test_withdailyreturns[\"y_pred\"]]"
   ]
  },
  {
   "cell_type": "code",
   "execution_count": null,
   "metadata": {
    "ExecuteTime": {
     "end_time": "2020-12-27T10:47:35.416661Z",
     "start_time": "2020-12-27T10:47:35.402157Z"
    }
   },
   "outputs": [],
   "source": [
    "df_y_test_withdailyreturns = df_y_test_withdailyreturns.sort_index()\n",
    "df_y_test_withdailyreturns[\"dfrights\"] = np.where(df_y_test_withdailyreturns[\"Class\"] == df_y_test_withdailyreturns[\"y_pred\"], 1.0, 0.0)\n",
    "df_y_test_withdailyreturns.head()"
   ]
  },
  {
   "cell_type": "code",
   "execution_count": null,
   "metadata": {
    "ExecuteTime": {
     "end_time": "2020-12-27T10:47:35.446122Z",
     "start_time": "2020-12-27T10:47:35.417689Z"
    }
   },
   "outputs": [],
   "source": [
    "df_y_test_withdailyreturns['gain'] = np.where(df_y_test_withdailyreturns[\"dfrights\"]==1.0, df_y_test_withdailyreturns[\"percentage_daily_return\"].abs(), -1*df_y_test_withdailyreturns[\"percentage_daily_return\"].abs() )\n",
    "df_y_test_withdailyreturns['gain_cumsum'] = df_y_test_withdailyreturns['gain'].cumsum()\n",
    "df_y_test_withdailyreturns['gain_cumsum']"
   ]
  },
  {
   "cell_type": "code",
   "execution_count": null,
   "metadata": {
    "ExecuteTime": {
     "end_time": "2020-12-27T10:47:35.539989Z",
     "start_time": "2020-12-27T10:47:35.449086Z"
    }
   },
   "outputs": [],
   "source": [
    "import plotly.express as px\n",
    "\n",
    "fig = px.line(df_y_test_withdailyreturns, y=df_y_test_withdailyreturns['gain_cumsum'], title='Algo gains over time')\n",
    "fig.show()"
   ]
  },
  {
   "cell_type": "code",
   "execution_count": null,
   "metadata": {},
   "outputs": [],
   "source": []
  },
  {
   "cell_type": "code",
   "execution_count": null,
   "metadata": {},
   "outputs": [],
   "source": []
  },
  {
   "cell_type": "code",
   "execution_count": null,
   "metadata": {
    "ExecuteTime": {
     "end_time": "2020-12-27T10:47:35.555544Z",
     "start_time": "2020-12-27T10:47:35.541985Z"
    }
   },
   "outputs": [],
   "source": [
    "dfwrongs.abs().index.values"
   ]
  },
  {
   "cell_type": "code",
   "execution_count": null,
   "metadata": {
    "ExecuteTime": {
     "end_time": "2020-12-27T10:47:35.578976Z",
     "start_time": "2020-12-27T10:47:35.556540Z"
    }
   },
   "outputs": [],
   "source": [
    "dfwrongs.abs().percentage_daily_return.values"
   ]
  },
  {
   "cell_type": "code",
   "execution_count": null,
   "metadata": {
    "ExecuteTime": {
     "end_time": "2020-12-27T10:47:35.614998Z",
     "start_time": "2020-12-27T10:47:35.580971Z"
    }
   },
   "outputs": [],
   "source": [
    "dfwrongs = dfwrongs.sort_index()\n",
    "dfwrongs"
   ]
  },
  {
   "cell_type": "code",
   "execution_count": null,
   "metadata": {
    "ExecuteTime": {
     "end_time": "2020-12-27T10:47:35.647417Z",
     "start_time": "2020-12-27T10:47:35.616991Z"
    }
   },
   "outputs": [],
   "source": [
    "import plotly.graph_objects as go\n",
    "\n",
    "# show perecentages of wrong predictions over time\n",
    "fig = go.Figure(data=go.Scatter(x=dfwrongs.abs().index, y=dfwrongs.abs().percentage_daily_return.values))\n",
    "fig.show()"
   ]
  },
  {
   "cell_type": "code",
   "execution_count": null,
   "metadata": {
    "ExecuteTime": {
     "end_time": "2020-12-27T10:47:35.702298Z",
     "start_time": "2020-12-27T10:47:35.649484Z"
    }
   },
   "outputs": [],
   "source": [
    "# show perecentages of wrong predictions histogramm\n",
    "\n",
    "dfwrongs.abs().sort_values(\"percentage_daily_return\")\n",
    "fig = px.histogram(dfwrongs.abs(), x=\"percentage_daily_return\")\n",
    "fig.show()"
   ]
  },
  {
   "cell_type": "code",
   "execution_count": null,
   "metadata": {
    "ExecuteTime": {
     "end_time": "2020-12-27T10:47:35.763106Z",
     "start_time": "2020-12-27T10:47:35.704122Z"
    }
   },
   "outputs": [],
   "source": [
    "dfrights.abs().sort_values(\"percentage_daily_return\")\n",
    "fig = px.histogram(dfrights.abs(), x=\"percentage_daily_return\")\n",
    "fig.show()"
   ]
  },
  {
   "cell_type": "code",
   "execution_count": null,
   "metadata": {
    "ExecuteTime": {
     "end_time": "2020-12-27T10:47:35.817467Z",
     "start_time": "2020-12-27T10:47:35.765240Z"
    }
   },
   "outputs": [],
   "source": [
    "dfwrongs[\"year\"] = dfwrongs.index.year\n",
    "dfwrongs.abs().groupby(['year']).agg(['sum', 'count'])"
   ]
  },
  {
   "cell_type": "code",
   "execution_count": null,
   "metadata": {
    "ExecuteTime": {
     "end_time": "2020-12-27T10:47:35.885584Z",
     "start_time": "2020-12-27T10:47:35.819416Z"
    }
   },
   "outputs": [],
   "source": [
    "# HERE DIFF LOOK AT percentage_daily_return\n",
    "\n",
    "dfrights[\"year\"] = dfrights.index.year\n",
    "dfrights.abs().groupby(['year']).agg(['sum', 'count']) - dfwrongs.abs().groupby(['year']).agg(['sum', 'count'])"
   ]
  },
  {
   "cell_type": "markdown",
   "metadata": {},
   "source": [
    "# predict on tomorrow"
   ]
  },
  {
   "cell_type": "code",
   "execution_count": null,
   "metadata": {
    "ExecuteTime": {
     "end_time": "2020-12-27T10:47:38.058805Z",
     "start_time": "2020-12-27T10:47:35.886883Z"
    }
   },
   "outputs": [],
   "source": [
    "# Split Data into Training and Testing\n",
    "#X_train, X_test, y_train, y_test = train_test_split(predictors, target, test_size=0.3, stratify=target)\n",
    "\n",
    "# Amount of Columns\n",
    "n_nodes = predictors.shape[1]\n",
    "print(\"Amount of Columns\", n_nodes)\n",
    "\n",
    "# Instantiation of MinMaxScaler\n",
    "norm_scaler = MinMaxScaler()\n",
    "\n",
    "# Training and Application of Feature Scaler on Training Data of Predictors\n",
    "predictors_scaled = pd.DataFrame(norm_scaler.fit_transform(predictors))\n",
    "\n",
    "# Instantiate Classifier Logistic Regression\n",
    "#lreg = LogisticRegression(max_iter=12000) \n",
    "\n",
    "# Train Classifier\n",
    "lreg.fit(predictors_scaled, target)"
   ]
  },
  {
   "cell_type": "markdown",
   "metadata": {},
   "source": [
    "# get x train data of today to predict tomorrow y  "
   ]
  },
  {
   "cell_type": "code",
   "execution_count": null,
   "metadata": {
    "ExecuteTime": {
     "end_time": "2020-12-27T10:47:38.074729Z",
     "start_time": "2020-12-27T10:47:38.059793Z"
    }
   },
   "outputs": [],
   "source": [
    "most_current_day = df_dataset1.head(1)\n",
    "dateofprediction = most_current_day.index\n",
    "most_current_day"
   ]
  },
  {
   "cell_type": "code",
   "execution_count": null,
   "metadata": {
    "ExecuteTime": {
     "end_time": "2020-12-27T10:47:38.090686Z",
     "start_time": "2020-12-27T10:47:38.075726Z"
    }
   },
   "outputs": [],
   "source": [
    "try:\n",
    "    # Setup of Predictors (Indpendent Variables) by Excluding Target Variable\n",
    "    most_current_day_predictors = most_current_day.drop(['Class'], axis=1).values.astype(np.float32)\n",
    "except:\n",
    "    # Setup of Predictors (Indpendent Variables) by Excluding Target Variable\n",
    "    most_current_day_predictors = most_current_day.values.astype(np.float32)"
   ]
  },
  {
   "cell_type": "code",
   "execution_count": null,
   "metadata": {
    "ExecuteTime": {
     "end_time": "2020-12-27T10:47:38.106643Z",
     "start_time": "2020-12-27T10:47:38.091683Z"
    }
   },
   "outputs": [],
   "source": [
    "# Scaler Transformation of Entire Training Set - Input for Cross-Validation\n",
    "most_current_day_predictors_scaled = norm_scaler.transform(most_current_day_predictors)\n",
    "most_current_day_predictors_scaled"
   ]
  },
  {
   "cell_type": "code",
   "execution_count": null,
   "metadata": {
    "ExecuteTime": {
     "end_time": "2020-12-27T10:47:38.137560Z",
     "start_time": "2020-12-27T10:47:38.107641Z"
    }
   },
   "outputs": [],
   "source": [
    "# Prediction of Probabilities\n",
    "most_current_day_pred_prob = lreg.predict_proba(most_current_day_predictors_scaled)[:,1]\n",
    "most_current_day_pred_prob[0]"
   ]
  },
  {
   "cell_type": "code",
   "execution_count": null,
   "metadata": {
    "ExecuteTime": {
     "end_time": "2020-12-27T10:47:38.167514Z",
     "start_time": "2020-12-27T10:47:38.138558Z"
    }
   },
   "outputs": [],
   "source": [
    "# Prediction of Classes\n",
    "most_current_day_pred = lreg.predict(most_current_day_predictors_scaled)\n",
    "algoprediction = int( most_current_day_pred[0] )\n",
    "algoprediction"
   ]
  },
  {
   "cell_type": "code",
   "execution_count": null,
   "metadata": {
    "ExecuteTime": {
     "end_time": "2020-12-27T10:47:38.183477Z",
     "start_time": "2020-12-27T10:47:38.168478Z"
    }
   },
   "outputs": [],
   "source": [
    "dateofprediction[0]"
   ]
  },
  {
   "cell_type": "code",
   "execution_count": null,
   "metadata": {},
   "outputs": [],
   "source": []
  },
  {
   "cell_type": "code",
   "execution_count": null,
   "metadata": {},
   "outputs": [],
   "source": []
  }
 ],
 "metadata": {
  "kernelspec": {
   "display_name": "Python 3",
   "language": "python",
   "name": "python3"
  },
  "language_info": {
   "codemirror_mode": {
    "name": "ipython",
    "version": 3
   },
   "file_extension": ".py",
   "mimetype": "text/x-python",
   "name": "python",
   "nbconvert_exporter": "python",
   "pygments_lexer": "ipython3",
   "version": "3.8.3"
  },
  "toc": {
   "base_numbering": 1,
   "nav_menu": {},
   "number_sections": true,
   "sideBar": true,
   "skip_h1_title": false,
   "title_cell": "Table of Contents",
   "title_sidebar": "Contents",
   "toc_cell": true,
   "toc_position": {},
   "toc_section_display": true,
   "toc_window_display": false
  },
  "toc-autonumbering": true,
  "toc-showtags": false,
  "varInspector": {
   "cols": {
    "lenName": 16,
    "lenType": 16,
    "lenVar": 40
   },
   "kernels_config": {
    "python": {
     "delete_cmd_postfix": "",
     "delete_cmd_prefix": "del ",
     "library": "var_list.py",
     "varRefreshCmd": "print(var_dic_list())"
    },
    "r": {
     "delete_cmd_postfix": ") ",
     "delete_cmd_prefix": "rm(",
     "library": "var_list.r",
     "varRefreshCmd": "cat(var_dic_list()) "
    }
   },
   "types_to_exclude": [
    "module",
    "function",
    "builtin_function_or_method",
    "instance",
    "_Feature"
   ],
   "window_display": false
  }
 },
 "nbformat": 4,
 "nbformat_minor": 4
}
