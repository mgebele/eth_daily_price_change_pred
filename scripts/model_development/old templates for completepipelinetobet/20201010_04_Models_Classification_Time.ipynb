{
 "cells": [
  {
   "cell_type": "markdown",
   "metadata": {
    "toc": true
   },
   "source": [
    "<h1>Table of Contents<span class=\"tocSkip\"></span></h1>\n",
    "<div class=\"toc\"><ul class=\"toc-item\"><li><span><a href=\"#Classification-Models---Time-Period-Comparison\" data-toc-modified-id=\"Classification-Models---Time-Period-Comparison-1\"><span class=\"toc-item-num\">1&nbsp;&nbsp;</span>Classification Models - Time Period Comparison</a></span></li><li><span><a href=\"#Import-Data-Sets\" data-toc-modified-id=\"Import-Data-Sets-2\"><span class=\"toc-item-num\">2&nbsp;&nbsp;</span>Import Data Sets</a></span><ul class=\"toc-item\"><li><span><a href=\"#Data-Set-III.---1st-Halving-to-2nd-Halving\" data-toc-modified-id=\"Data-Set-III.---1st-Halving-to-2nd-Halving-2.1\"><span class=\"toc-item-num\">2.1&nbsp;&nbsp;</span>Data Set III. - 1st Halving to 2nd Halving</a></span></li><li><span><a href=\"#Data-Set-III.---2nd-Halving-to-3rd-Halving\" data-toc-modified-id=\"Data-Set-III.---2nd-Halving-to-3rd-Halving-2.2\"><span class=\"toc-item-num\">2.2&nbsp;&nbsp;</span>Data Set III. - 2nd Halving to 3rd Halving</a></span></li><li><span><a href=\"#Prediction-Shift\" data-toc-modified-id=\"Prediction-Shift-2.3\"><span class=\"toc-item-num\">2.3&nbsp;&nbsp;</span>Prediction Shift</a></span><ul class=\"toc-item\"><li><span><a href=\"#Data-Set-III.---1st-Halving-to-2nd-Halving\" data-toc-modified-id=\"Data-Set-III.---1st-Halving-to-2nd-Halving-2.3.1\"><span class=\"toc-item-num\">2.3.1&nbsp;&nbsp;</span>Data Set III. - 1st Halving to 2nd Halving</a></span></li><li><span><a href=\"#Data-Set-III.---2nd-Halving-to-3rd-Halving\" data-toc-modified-id=\"Data-Set-III.---2nd-Halving-to-3rd-Halving-2.3.2\"><span class=\"toc-item-num\">2.3.2&nbsp;&nbsp;</span>Data Set III. - 2nd Halving to 3rd Halving</a></span></li></ul></li></ul></li><li><span><a href=\"#Classification-Setup\" data-toc-modified-id=\"Classification-Setup-3\"><span class=\"toc-item-num\">3&nbsp;&nbsp;</span>Classification Setup</a></span><ul class=\"toc-item\"><li><span><a href=\"#Categorization---Data-Set-III.---1st-Halving-to-2nd-Halving\" data-toc-modified-id=\"Categorization---Data-Set-III.---1st-Halving-to-2nd-Halving-3.1\"><span class=\"toc-item-num\">3.1&nbsp;&nbsp;</span>Categorization - Data Set III. - 1st Halving to 2nd Halving</a></span></li><li><span><a href=\"#Categorization---Data-Set-III.---2nd-Halving-to-3rd-Halving\" data-toc-modified-id=\"Categorization---Data-Set-III.---2nd-Halving-to-3rd-Halving-3.2\"><span class=\"toc-item-num\">3.2&nbsp;&nbsp;</span>Categorization - Data Set III. - 2nd Halving to 3rd Halving</a></span></li></ul></li><li><span><a href=\"#Model-Preparation---Data-Set-III.---1st-Halving-to-2nd-Halving\" data-toc-modified-id=\"Model-Preparation---Data-Set-III.---1st-Halving-to-2nd-Halving-4\"><span class=\"toc-item-num\">4&nbsp;&nbsp;</span>Model Preparation - Data Set III. - 1st Halving to 2nd Halving</a></span><ul class=\"toc-item\"><li><span><a href=\"#Train-Test-Split---Data-Set-III.---1st-Halving-to-2nd-Halving\" data-toc-modified-id=\"Train-Test-Split---Data-Set-III.---1st-Halving-to-2nd-Halving-4.1\"><span class=\"toc-item-num\">4.1&nbsp;&nbsp;</span>Train Test Split - Data Set III. - 1st Halving to 2nd Halving</a></span><ul class=\"toc-item\"><li><span><a href=\"#Check-of-Class-Balance\" data-toc-modified-id=\"Check-of-Class-Balance-4.1.1\"><span class=\"toc-item-num\">4.1.1&nbsp;&nbsp;</span>Check of Class Balance</a></span></li></ul></li><li><span><a href=\"#Data-Set-III.-Feature-Scaling---1st-Halving-to-2nd-Halving\" data-toc-modified-id=\"Data-Set-III.-Feature-Scaling---1st-Halving-to-2nd-Halving-4.2\"><span class=\"toc-item-num\">4.2&nbsp;&nbsp;</span>Data Set III. Feature Scaling - 1st Halving to 2nd Halving</a></span></li></ul></li><li><span><a href=\"#Classification-Models---Data-Set-III.---1st-Halving-to-2nd-Halving\" data-toc-modified-id=\"Classification-Models---Data-Set-III.---1st-Halving-to-2nd-Halving-5\"><span class=\"toc-item-num\">5&nbsp;&nbsp;</span>Classification Models - Data Set III. - 1st Halving to 2nd Halving</a></span><ul class=\"toc-item\"><li><span><a href=\"#Logistic-Regression---Data-Set-III.---1st-Halving-to-2nd-Halving\" data-toc-modified-id=\"Logistic-Regression---Data-Set-III.---1st-Halving-to-2nd-Halving-5.1\"><span class=\"toc-item-num\">5.1&nbsp;&nbsp;</span>Logistic Regression - Data Set III. - 1st Halving to 2nd Halving</a></span></li><li><span><a href=\"#Decision-Tree-Classifier---Data-Set-III.---1st-Halving-to-2nd-Halving\" data-toc-modified-id=\"Decision-Tree-Classifier---Data-Set-III.---1st-Halving-to-2nd-Halving-5.2\"><span class=\"toc-item-num\">5.2&nbsp;&nbsp;</span>Decision Tree Classifier - Data Set III. - 1st Halving to 2nd Halving</a></span></li><li><span><a href=\"#Random-Forest-Classifier---Data-Set-III.---1st-Halving-to-2nd-Halving\" data-toc-modified-id=\"Random-Forest-Classifier---Data-Set-III.---1st-Halving-to-2nd-Halving-5.3\"><span class=\"toc-item-num\">5.3&nbsp;&nbsp;</span>Random Forest Classifier - Data Set III. - 1st Halving to 2nd Halving</a></span></li><li><span><a href=\"#K-Nearest-Neighbors---Data-Set-III.---1st-Halving-to-2nd-Halving\" data-toc-modified-id=\"K-Nearest-Neighbors---Data-Set-III.---1st-Halving-to-2nd-Halving-5.4\"><span class=\"toc-item-num\">5.4&nbsp;&nbsp;</span>K-Nearest Neighbors - Data Set III. - 1st Halving to 2nd Halving</a></span></li><li><span><a href=\"#Artificial-Neural-Networks---Data-Set-III.---1st-Halving-to-2nd-Halving\" data-toc-modified-id=\"Artificial-Neural-Networks---Data-Set-III.---1st-Halving-to-2nd-Halving-5.5\"><span class=\"toc-item-num\">5.5&nbsp;&nbsp;</span>Artificial Neural Networks - Data Set III. - 1st Halving to 2nd Halving</a></span><ul class=\"toc-item\"><li><span><a href=\"#Artificial-Neural-Network---Experiments\" data-toc-modified-id=\"Artificial-Neural-Network---Experiments-5.5.1\"><span class=\"toc-item-num\">5.5.1&nbsp;&nbsp;</span>Artificial Neural Network - Experiments</a></span></li><li><span><a href=\"#Artificial-Neural-Network-including-Stratified-10-fold-Cross-Validation\" data-toc-modified-id=\"Artificial-Neural-Network-including-Stratified-10-fold-Cross-Validation-5.5.2\"><span class=\"toc-item-num\">5.5.2&nbsp;&nbsp;</span>Artificial Neural Network including Stratified 10-fold Cross-Validation</a></span></li></ul></li></ul></li><li><span><a href=\"#Model-Preparation---Data-Set-III.---2nd-Halving-to-3rd-Halving\" data-toc-modified-id=\"Model-Preparation---Data-Set-III.---2nd-Halving-to-3rd-Halving-6\"><span class=\"toc-item-num\">6&nbsp;&nbsp;</span>Model Preparation - Data Set III. - 2nd Halving to 3rd Halving</a></span><ul class=\"toc-item\"><li><span><a href=\"#Train-Test-Split---Data-Set-III.---2nd-Halving-to-3rd-Halving\" data-toc-modified-id=\"Train-Test-Split---Data-Set-III.---2nd-Halving-to-3rd-Halving-6.1\"><span class=\"toc-item-num\">6.1&nbsp;&nbsp;</span>Train Test Split - Data Set III. - 2nd Halving to 3rd Halving</a></span><ul class=\"toc-item\"><li><span><a href=\"#Check-of-Class-Balance\" data-toc-modified-id=\"Check-of-Class-Balance-6.1.1\"><span class=\"toc-item-num\">6.1.1&nbsp;&nbsp;</span>Check of Class Balance</a></span></li></ul></li><li><span><a href=\"#Data-Set-III.-Feature-Scaling---2nd-Halving-to-3rd-Halving\" data-toc-modified-id=\"Data-Set-III.-Feature-Scaling---2nd-Halving-to-3rd-Halving-6.2\"><span class=\"toc-item-num\">6.2&nbsp;&nbsp;</span>Data Set III. Feature Scaling - 2nd Halving to 3rd Halving</a></span></li></ul></li><li><span><a href=\"#Classification-Models---Data-Set-III.---2nd-Halving-to-3rd-Halving\" data-toc-modified-id=\"Classification-Models---Data-Set-III.---2nd-Halving-to-3rd-Halving-7\"><span class=\"toc-item-num\">7&nbsp;&nbsp;</span>Classification Models - Data Set III. - 2nd Halving to 3rd Halving</a></span><ul class=\"toc-item\"><li><span><a href=\"#Logistic-Regression---Data-Set-III.---2nd-Halving-to-3rd-Halving\" data-toc-modified-id=\"Logistic-Regression---Data-Set-III.---2nd-Halving-to-3rd-Halving-7.1\"><span class=\"toc-item-num\">7.1&nbsp;&nbsp;</span>Logistic Regression - Data Set III. - 2nd Halving to 3rd Halving</a></span></li><li><span><a href=\"#Decision-Tree-Classifier---Data-Set-III.---2nd-Halving-to-3rd-Halving\" data-toc-modified-id=\"Decision-Tree-Classifier---Data-Set-III.---2nd-Halving-to-3rd-Halving-7.2\"><span class=\"toc-item-num\">7.2&nbsp;&nbsp;</span>Decision Tree Classifier - Data Set III. - 2nd Halving to 3rd Halving</a></span></li><li><span><a href=\"#Random-Forest-Classifier---Data-Set-III.---2nd-Halving-to-3rd-Halving\" data-toc-modified-id=\"Random-Forest-Classifier---Data-Set-III.---2nd-Halving-to-3rd-Halving-7.3\"><span class=\"toc-item-num\">7.3&nbsp;&nbsp;</span>Random Forest Classifier - Data Set III. - 2nd Halving to 3rd Halving</a></span></li><li><span><a href=\"#K-Nearest-Neighbors---Data-Set-III.---2nd-Halving-to-3rd-Halving\" data-toc-modified-id=\"K-Nearest-Neighbors---Data-Set-III.---2nd-Halving-to-3rd-Halving-7.4\"><span class=\"toc-item-num\">7.4&nbsp;&nbsp;</span>K-Nearest Neighbors - Data Set III. - 2nd Halving to 3rd Halving</a></span></li><li><span><a href=\"#Artificial-Neural-Networks---Data-Set-III.---2nd-Halving-to-3rd-Halving\" data-toc-modified-id=\"Artificial-Neural-Networks---Data-Set-III.---2nd-Halving-to-3rd-Halving-7.5\"><span class=\"toc-item-num\">7.5&nbsp;&nbsp;</span>Artificial Neural Networks - Data Set III. - 2nd Halving to 3rd Halving</a></span><ul class=\"toc-item\"><li><span><a href=\"#Artificial-Neural-Network---Experiments\" data-toc-modified-id=\"Artificial-Neural-Network---Experiments-7.5.1\"><span class=\"toc-item-num\">7.5.1&nbsp;&nbsp;</span>Artificial Neural Network - Experiments</a></span></li><li><span><a href=\"#Artificial-Neural-Network-including-Stratified-10-fold-Cross-Validation\" data-toc-modified-id=\"Artificial-Neural-Network-including-Stratified-10-fold-Cross-Validation-7.5.2\"><span class=\"toc-item-num\">7.5.2&nbsp;&nbsp;</span>Artificial Neural Network including Stratified 10-fold Cross-Validation</a></span></li></ul></li></ul></li></ul></div>"
   ]
  },
  {
   "cell_type": "markdown",
   "metadata": {},
   "source": [
    "# Classification Models - Time Period Comparison"
   ]
  },
  {
   "cell_type": "code",
   "execution_count": 1,
   "metadata": {
    "scrolled": true
   },
   "outputs": [],
   "source": [
    "# Import of Modules and Packages\n",
    "import os\n",
    "import numpy as np\n",
    "import pandas as pd\n",
    "import matplotlib.pyplot as plt\n",
    "import math\n",
    "\n",
    "from sklearn.preprocessing import StandardScaler, MinMaxScaler\n",
    "\n",
    "from sklearn.model_selection import GridSearchCV\n",
    "from sklearn.model_selection import train_test_split\n",
    "from sklearn.model_selection import cross_val_score, cross_val_predict\n",
    "from sklearn.model_selection import RandomizedSearchCV\n",
    "from sklearn.model_selection import StratifiedKFold\n",
    "from sklearn.metrics import roc_auc_score, roc_curve\n",
    "from sklearn.metrics import confusion_matrix, classification_report\n",
    "\n",
    "# Logistic Regression\n",
    "from sklearn.linear_model import LogisticRegression\n",
    "from sklearn.tree import DecisionTreeClassifier\n",
    "from sklearn.ensemble import RandomForestClassifier\n",
    "from sklearn.neighbors import KNeighborsClassifier\n",
    "from pycaret.classification import *\n",
    "\n",
    "# Deep Neural Networks\n",
    "from tensorflow import keras\n",
    "from keras.wrappers.scikit_learn import KerasClassifier\n",
    "from keras.models import Sequential\n",
    "from keras.layers import Dense\n",
    "from keras.optimizers import SGD\n",
    "from keras.optimizers import Adam"
   ]
  },
  {
   "cell_type": "code",
   "execution_count": 2,
   "metadata": {},
   "outputs": [],
   "source": [
    "# Adjustment of Decimal Places\n",
    "pd.options.display.float_format = '{:.2f}'.format"
   ]
  },
  {
   "cell_type": "code",
   "execution_count": 3,
   "metadata": {},
   "outputs": [
    {
     "data": {
      "text/plain": [
       "'/Users/Jens/Documents/Studium/Master_TUM/Management_Technology/5_Semester_SS/04_Masterarbeit/Model/20201010'"
      ]
     },
     "execution_count": 3,
     "metadata": {},
     "output_type": "execute_result"
    }
   ],
   "source": [
    "# Current Working Directory\n",
    "os.getcwd()"
   ]
  },
  {
   "cell_type": "code",
   "execution_count": 4,
   "metadata": {},
   "outputs": [],
   "source": [
    "# Set Working Directory\n",
    "os.chdir('/Users/Jens/Documents/Studium/Master_TUM/Management_Technology/5_Semester_SS/04_Masterarbeit/Model/20201010')"
   ]
  },
  {
   "cell_type": "code",
   "execution_count": 5,
   "metadata": {},
   "outputs": [
    {
     "data": {
      "text/plain": [
       "'/Users/Jens/Documents/Studium/Master_TUM/Management_Technology/5_Semester_SS/04_Masterarbeit/Model/20201010'"
      ]
     },
     "execution_count": 5,
     "metadata": {},
     "output_type": "execute_result"
    }
   ],
   "source": [
    "# Current Working Directory\n",
    "os.getcwd()"
   ]
  },
  {
   "cell_type": "markdown",
   "metadata": {},
   "source": [
    "# Import Data Sets"
   ]
  },
  {
   "cell_type": "markdown",
   "metadata": {},
   "source": [
    "## Data Set III. - 1st Halving to 2nd Halving"
   ]
  },
  {
   "cell_type": "code",
   "execution_count": 6,
   "metadata": {},
   "outputs": [],
   "source": [
    "# CSV Import of Data Set I. - Blockchain Data\n",
    "df_dataset3_1H = pd.read_csv('TimePeriods/df_dataset3_1H.csv', parse_dates = True, index_col='Date')"
   ]
  },
  {
   "cell_type": "code",
   "execution_count": 7,
   "metadata": {},
   "outputs": [
    {
     "data": {
      "text/plain": [
       "(864, 135)"
      ]
     },
     "execution_count": 7,
     "metadata": {},
     "output_type": "execute_result"
    }
   ],
   "source": [
    "# Data Set Dimensions\n",
    "df_dataset3_1H.shape"
   ]
  },
  {
   "cell_type": "code",
   "execution_count": 8,
   "metadata": {},
   "outputs": [
    {
     "name": "stdout",
     "output_type": "stream",
     "text": [
      "<class 'pandas.core.frame.DataFrame'>\n",
      "DatetimeIndex: 864 entries, 2012-11-29 to 2016-07-08\n",
      "Columns: 135 entries, Daily Return in USD to Volatility Daily Log Return in Percent 10D\n",
      "dtypes: float64(135)\n",
      "memory usage: 918.0 KB\n"
     ]
    }
   ],
   "source": [
    "# Data Set Info\n",
    "df_dataset3_1H.info()"
   ]
  },
  {
   "cell_type": "code",
   "execution_count": 9,
   "metadata": {},
   "outputs": [],
   "source": [
    "# List of Data Types\n",
    "l_dtypes = df_dataset3_1H.dtypes"
   ]
  },
  {
   "cell_type": "code",
   "execution_count": 10,
   "metadata": {},
   "outputs": [
    {
     "name": "stdout",
     "output_type": "stream",
     "text": [
      "135\n"
     ]
    }
   ],
   "source": [
    "# Counter\n",
    "counter = 0\n",
    "\n",
    "# Cross-Check of Data Types\n",
    "for i in l_dtypes:\n",
    "    if (i == float):\n",
    "        counter = counter+1\n",
    "    else:\n",
    "        counter = counter\n",
    "\n",
    "# Number of Float Data Types\n",
    "print(counter)"
   ]
  },
  {
   "cell_type": "code",
   "execution_count": 11,
   "metadata": {},
   "outputs": [
    {
     "data": {
      "text/plain": [
       "Daily Return in USD                           float64\n",
       "Log Price in USD                              float64\n",
       "Volatility Daily Log Return in Percent 5D     float64\n",
       "market/price_usd_close                        float64\n",
       "market/price_drawdown_relative                float64\n",
       "                                               ...   \n",
       "Bitcoin Trend                                 float64\n",
       "Daily Log Return in Percent                   float64\n",
       "Class                                         float64\n",
       "Volatility Daily Log Return in Percent 3D     float64\n",
       "Volatility Daily Log Return in Percent 10D    float64\n",
       "Length: 135, dtype: object"
      ]
     },
     "execution_count": 11,
     "metadata": {},
     "output_type": "execute_result"
    }
   ],
   "source": [
    "# Data Types\n",
    "df_dataset3_1H.dtypes"
   ]
  },
  {
   "cell_type": "code",
   "execution_count": 12,
   "metadata": {},
   "outputs": [
    {
     "data": {
      "text/html": [
       "<div>\n",
       "<style scoped>\n",
       "    .dataframe tbody tr th:only-of-type {\n",
       "        vertical-align: middle;\n",
       "    }\n",
       "\n",
       "    .dataframe tbody tr th {\n",
       "        vertical-align: top;\n",
       "    }\n",
       "\n",
       "    .dataframe thead th {\n",
       "        text-align: right;\n",
       "    }\n",
       "</style>\n",
       "<table border=\"1\" class=\"dataframe\">\n",
       "  <thead>\n",
       "    <tr style=\"text-align: right;\">\n",
       "      <th></th>\n",
       "      <th>Daily Return in USD</th>\n",
       "      <th>Log Price in USD</th>\n",
       "      <th>Volatility Daily Log Return in Percent 5D</th>\n",
       "      <th>market/price_usd_close</th>\n",
       "      <th>market/price_drawdown_relative</th>\n",
       "      <th>market/price_realized_usd</th>\n",
       "      <th>market/mvrv</th>\n",
       "      <th>mining/difficulty_latest</th>\n",
       "      <th>mining/hash_rate_mean</th>\n",
       "      <th>mining/revenue_sum</th>\n",
       "      <th>...</th>\n",
       "      <th>Close JPY/USD</th>\n",
       "      <th>Close GBP/USD</th>\n",
       "      <th>Close CAD/USD</th>\n",
       "      <th>Close SEK/USD</th>\n",
       "      <th>Close CHF/USD</th>\n",
       "      <th>Bitcoin Trend</th>\n",
       "      <th>Daily Log Return in Percent</th>\n",
       "      <th>Class</th>\n",
       "      <th>Volatility Daily Log Return in Percent 3D</th>\n",
       "      <th>Volatility Daily Log Return in Percent 10D</th>\n",
       "    </tr>\n",
       "  </thead>\n",
       "  <tbody>\n",
       "    <tr>\n",
       "      <th>count</th>\n",
       "      <td>864.00</td>\n",
       "      <td>864.00</td>\n",
       "      <td>864.00</td>\n",
       "      <td>864.00</td>\n",
       "      <td>864.00</td>\n",
       "      <td>864.00</td>\n",
       "      <td>864.00</td>\n",
       "      <td>864.00</td>\n",
       "      <td>864.00</td>\n",
       "      <td>864.00</td>\n",
       "      <td>...</td>\n",
       "      <td>864.00</td>\n",
       "      <td>864.00</td>\n",
       "      <td>864.00</td>\n",
       "      <td>864.00</td>\n",
       "      <td>864.00</td>\n",
       "      <td>864.00</td>\n",
       "      <td>864.00</td>\n",
       "      <td>864.00</td>\n",
       "      <td>864.00</td>\n",
       "      <td>864.00</td>\n",
       "    </tr>\n",
       "    <tr>\n",
       "      <th>mean</th>\n",
       "      <td>0.53</td>\n",
       "      <td>5.53</td>\n",
       "      <td>4.37</td>\n",
       "      <td>340.66</td>\n",
       "      <td>-0.58</td>\n",
       "      <td>237.10</td>\n",
       "      <td>1.70</td>\n",
       "      <td>192563238629018861568.00</td>\n",
       "      <td>330876800078521344.00</td>\n",
       "      <td>4001.30</td>\n",
       "      <td>...</td>\n",
       "      <td>0.01</td>\n",
       "      <td>1.56</td>\n",
       "      <td>0.87</td>\n",
       "      <td>0.14</td>\n",
       "      <td>1.06</td>\n",
       "      <td>2.23</td>\n",
       "      <td>0.46</td>\n",
       "      <td>0.56</td>\n",
       "      <td>4.08</td>\n",
       "      <td>4.71</td>\n",
       "    </tr>\n",
       "    <tr>\n",
       "      <th>std</th>\n",
       "      <td>23.53</td>\n",
       "      <td>0.95</td>\n",
       "      <td>4.78</td>\n",
       "      <td>212.65</td>\n",
       "      <td>0.20</td>\n",
       "      <td>122.67</td>\n",
       "      <td>0.87</td>\n",
       "      <td>243849110863998386176.00</td>\n",
       "      <td>419825829468196544.00</td>\n",
       "      <td>528.43</td>\n",
       "      <td>...</td>\n",
       "      <td>0.00</td>\n",
       "      <td>0.08</td>\n",
       "      <td>0.09</td>\n",
       "      <td>0.02</td>\n",
       "      <td>0.04</td>\n",
       "      <td>1.40</td>\n",
       "      <td>6.56</td>\n",
       "      <td>0.50</td>\n",
       "      <td>5.15</td>\n",
       "      <td>4.50</td>\n",
       "    </tr>\n",
       "    <tr>\n",
       "      <th>min</th>\n",
       "      <td>-214.66</td>\n",
       "      <td>2.52</td>\n",
       "      <td>0.36</td>\n",
       "      <td>12.45</td>\n",
       "      <td>-0.85</td>\n",
       "      <td>7.07</td>\n",
       "      <td>0.63</td>\n",
       "      <td>12750792960434000.00</td>\n",
       "      <td>17731370875561.80</td>\n",
       "      <td>2681.18</td>\n",
       "      <td>...</td>\n",
       "      <td>0.01</td>\n",
       "      <td>1.29</td>\n",
       "      <td>0.69</td>\n",
       "      <td>0.11</td>\n",
       "      <td>0.97</td>\n",
       "      <td>0.38</td>\n",
       "      <td>-67.87</td>\n",
       "      <td>0.00</td>\n",
       "      <td>0.04</td>\n",
       "      <td>0.56</td>\n",
       "    </tr>\n",
       "    <tr>\n",
       "      <th>25%</th>\n",
       "      <td>-3.64</td>\n",
       "      <td>5.32</td>\n",
       "      <td>1.88</td>\n",
       "      <td>203.55</td>\n",
       "      <td>-0.72</td>\n",
       "      <td>70.22</td>\n",
       "      <td>1.03</td>\n",
       "      <td>1679026357970510080.00</td>\n",
       "      <td>3518929614251135.00</td>\n",
       "      <td>3639.88</td>\n",
       "      <td>...</td>\n",
       "      <td>0.01</td>\n",
       "      <td>1.51</td>\n",
       "      <td>0.78</td>\n",
       "      <td>0.12</td>\n",
       "      <td>1.03</td>\n",
       "      <td>1.46</td>\n",
       "      <td>-1.46</td>\n",
       "      <td>0.00</td>\n",
       "      <td>1.42</td>\n",
       "      <td>2.32</td>\n",
       "    </tr>\n",
       "    <tr>\n",
       "      <th>50%</th>\n",
       "      <td>0.43</td>\n",
       "      <td>5.77</td>\n",
       "      <td>2.99</td>\n",
       "      <td>320.94</td>\n",
       "      <td>-0.62</td>\n",
       "      <td>293.92</td>\n",
       "      <td>1.43</td>\n",
       "      <td>148869690776208015360.00</td>\n",
       "      <td>237476297731414496.00</td>\n",
       "      <td>3927.28</td>\n",
       "      <td>...</td>\n",
       "      <td>0.01</td>\n",
       "      <td>1.55</td>\n",
       "      <td>0.90</td>\n",
       "      <td>0.14</td>\n",
       "      <td>1.06</td>\n",
       "      <td>2.01</td>\n",
       "      <td>0.31</td>\n",
       "      <td>1.00</td>\n",
       "      <td>2.71</td>\n",
       "      <td>3.38</td>\n",
       "    </tr>\n",
       "    <tr>\n",
       "      <th>75%</th>\n",
       "      <td>4.79</td>\n",
       "      <td>6.12</td>\n",
       "      <td>4.86</td>\n",
       "      <td>454.07</td>\n",
       "      <td>-0.50</td>\n",
       "      <td>322.64</td>\n",
       "      <td>2.02</td>\n",
       "      <td>226344099652499013632.00</td>\n",
       "      <td>391868209133517312.00</td>\n",
       "      <td>4287.66</td>\n",
       "      <td>...</td>\n",
       "      <td>0.01</td>\n",
       "      <td>1.62</td>\n",
       "      <td>0.95</td>\n",
       "      <td>0.15</td>\n",
       "      <td>1.10</td>\n",
       "      <td>2.56</td>\n",
       "      <td>2.37</td>\n",
       "      <td>1.00</td>\n",
       "      <td>4.63</td>\n",
       "      <td>5.52</td>\n",
       "    </tr>\n",
       "    <tr>\n",
       "      <th>max</th>\n",
       "      <td>192.19</td>\n",
       "      <td>7.03</td>\n",
       "      <td>44.05</td>\n",
       "      <td>1134.39</td>\n",
       "      <td>-0.00</td>\n",
       "      <td>359.65</td>\n",
       "      <td>5.44</td>\n",
       "      <td>916541405299582042112.00</td>\n",
       "      <td>1732947819494520064.00</td>\n",
       "      <td>6538.64</td>\n",
       "      <td>...</td>\n",
       "      <td>0.01</td>\n",
       "      <td>1.72</td>\n",
       "      <td>1.02</td>\n",
       "      <td>0.16</td>\n",
       "      <td>1.17</td>\n",
       "      <td>12.00</td>\n",
       "      <td>47.79</td>\n",
       "      <td>1.00</td>\n",
       "      <td>49.51</td>\n",
       "      <td>34.33</td>\n",
       "    </tr>\n",
       "  </tbody>\n",
       "</table>\n",
       "<p>8 rows × 135 columns</p>\n",
       "</div>"
      ],
      "text/plain": [
       "       Daily Return in USD  Log Price in USD  \\\n",
       "count               864.00            864.00   \n",
       "mean                  0.53              5.53   \n",
       "std                  23.53              0.95   \n",
       "min                -214.66              2.52   \n",
       "25%                  -3.64              5.32   \n",
       "50%                   0.43              5.77   \n",
       "75%                   4.79              6.12   \n",
       "max                 192.19              7.03   \n",
       "\n",
       "       Volatility Daily Log Return in Percent 5D  market/price_usd_close  \\\n",
       "count                                     864.00                  864.00   \n",
       "mean                                        4.37                  340.66   \n",
       "std                                         4.78                  212.65   \n",
       "min                                         0.36                   12.45   \n",
       "25%                                         1.88                  203.55   \n",
       "50%                                         2.99                  320.94   \n",
       "75%                                         4.86                  454.07   \n",
       "max                                        44.05                 1134.39   \n",
       "\n",
       "       market/price_drawdown_relative  market/price_realized_usd  market/mvrv  \\\n",
       "count                          864.00                     864.00       864.00   \n",
       "mean                            -0.58                     237.10         1.70   \n",
       "std                              0.20                     122.67         0.87   \n",
       "min                             -0.85                       7.07         0.63   \n",
       "25%                             -0.72                      70.22         1.03   \n",
       "50%                             -0.62                     293.92         1.43   \n",
       "75%                             -0.50                     322.64         2.02   \n",
       "max                             -0.00                     359.65         5.44   \n",
       "\n",
       "       mining/difficulty_latest  mining/hash_rate_mean  mining/revenue_sum  \\\n",
       "count                    864.00                 864.00              864.00   \n",
       "mean   192563238629018861568.00  330876800078521344.00             4001.30   \n",
       "std    243849110863998386176.00  419825829468196544.00              528.43   \n",
       "min        12750792960434000.00      17731370875561.80             2681.18   \n",
       "25%      1679026357970510080.00    3518929614251135.00             3639.88   \n",
       "50%    148869690776208015360.00  237476297731414496.00             3927.28   \n",
       "75%    226344099652499013632.00  391868209133517312.00             4287.66   \n",
       "max    916541405299582042112.00 1732947819494520064.00             6538.64   \n",
       "\n",
       "       ...  Close JPY/USD  Close GBP/USD  Close CAD/USD  Close SEK/USD  \\\n",
       "count  ...         864.00         864.00         864.00         864.00   \n",
       "mean   ...           0.01           1.56           0.87           0.14   \n",
       "std    ...           0.00           0.08           0.09           0.02   \n",
       "min    ...           0.01           1.29           0.69           0.11   \n",
       "25%    ...           0.01           1.51           0.78           0.12   \n",
       "50%    ...           0.01           1.55           0.90           0.14   \n",
       "75%    ...           0.01           1.62           0.95           0.15   \n",
       "max    ...           0.01           1.72           1.02           0.16   \n",
       "\n",
       "       Close CHF/USD  Bitcoin Trend  Daily Log Return in Percent  Class  \\\n",
       "count         864.00         864.00                       864.00 864.00   \n",
       "mean            1.06           2.23                         0.46   0.56   \n",
       "std             0.04           1.40                         6.56   0.50   \n",
       "min             0.97           0.38                       -67.87   0.00   \n",
       "25%             1.03           1.46                        -1.46   0.00   \n",
       "50%             1.06           2.01                         0.31   1.00   \n",
       "75%             1.10           2.56                         2.37   1.00   \n",
       "max             1.17          12.00                        47.79   1.00   \n",
       "\n",
       "       Volatility Daily Log Return in Percent 3D  \\\n",
       "count                                     864.00   \n",
       "mean                                        4.08   \n",
       "std                                         5.15   \n",
       "min                                         0.04   \n",
       "25%                                         1.42   \n",
       "50%                                         2.71   \n",
       "75%                                         4.63   \n",
       "max                                        49.51   \n",
       "\n",
       "       Volatility Daily Log Return in Percent 10D  \n",
       "count                                      864.00  \n",
       "mean                                         4.71  \n",
       "std                                          4.50  \n",
       "min                                          0.56  \n",
       "25%                                          2.32  \n",
       "50%                                          3.38  \n",
       "75%                                          5.52  \n",
       "max                                         34.33  \n",
       "\n",
       "[8 rows x 135 columns]"
      ]
     },
     "execution_count": 12,
     "metadata": {},
     "output_type": "execute_result"
    }
   ],
   "source": [
    "# Summary Statistics\n",
    "df_dataset3_1H.describe()"
   ]
  },
  {
   "cell_type": "code",
   "execution_count": 13,
   "metadata": {},
   "outputs": [
    {
     "data": {
      "text/html": [
       "<div>\n",
       "<style scoped>\n",
       "    .dataframe tbody tr th:only-of-type {\n",
       "        vertical-align: middle;\n",
       "    }\n",
       "\n",
       "    .dataframe tbody tr th {\n",
       "        vertical-align: top;\n",
       "    }\n",
       "\n",
       "    .dataframe thead th {\n",
       "        text-align: right;\n",
       "    }\n",
       "</style>\n",
       "<table border=\"1\" class=\"dataframe\">\n",
       "  <thead>\n",
       "    <tr style=\"text-align: right;\">\n",
       "      <th></th>\n",
       "      <th>Daily Return in USD</th>\n",
       "      <th>Log Price in USD</th>\n",
       "      <th>Volatility Daily Log Return in Percent 5D</th>\n",
       "      <th>market/price_usd_close</th>\n",
       "      <th>market/price_drawdown_relative</th>\n",
       "      <th>market/price_realized_usd</th>\n",
       "      <th>market/mvrv</th>\n",
       "      <th>mining/difficulty_latest</th>\n",
       "      <th>mining/hash_rate_mean</th>\n",
       "      <th>mining/revenue_sum</th>\n",
       "      <th>...</th>\n",
       "      <th>Close JPY/USD</th>\n",
       "      <th>Close GBP/USD</th>\n",
       "      <th>Close CAD/USD</th>\n",
       "      <th>Close SEK/USD</th>\n",
       "      <th>Close CHF/USD</th>\n",
       "      <th>Bitcoin Trend</th>\n",
       "      <th>Daily Log Return in Percent</th>\n",
       "      <th>Class</th>\n",
       "      <th>Volatility Daily Log Return in Percent 3D</th>\n",
       "      <th>Volatility Daily Log Return in Percent 10D</th>\n",
       "    </tr>\n",
       "    <tr>\n",
       "      <th>Date</th>\n",
       "      <th></th>\n",
       "      <th></th>\n",
       "      <th></th>\n",
       "      <th></th>\n",
       "      <th></th>\n",
       "      <th></th>\n",
       "      <th></th>\n",
       "      <th></th>\n",
       "      <th></th>\n",
       "      <th></th>\n",
       "      <th></th>\n",
       "      <th></th>\n",
       "      <th></th>\n",
       "      <th></th>\n",
       "      <th></th>\n",
       "      <th></th>\n",
       "      <th></th>\n",
       "      <th></th>\n",
       "      <th></th>\n",
       "      <th></th>\n",
       "      <th></th>\n",
       "    </tr>\n",
       "  </thead>\n",
       "  <tbody>\n",
       "    <tr>\n",
       "      <th>2016-07-01</th>\n",
       "      <td>5.12</td>\n",
       "      <td>6.52</td>\n",
       "      <td>3.04</td>\n",
       "      <td>677.75</td>\n",
       "      <td>-0.42</td>\n",
       "      <td>357.19</td>\n",
       "      <td>1.90</td>\n",
       "      <td>899594466211063005184.00</td>\n",
       "      <td>1623174034535229952.00</td>\n",
       "      <td>3932.69</td>\n",
       "      <td>...</td>\n",
       "      <td>0.01</td>\n",
       "      <td>1.33</td>\n",
       "      <td>0.77</td>\n",
       "      <td>0.12</td>\n",
       "      <td>1.02</td>\n",
       "      <td>2.40</td>\n",
       "      <td>0.76</td>\n",
       "      <td>1.00</td>\n",
       "      <td>3.61</td>\n",
       "      <td>5.62</td>\n",
       "    </tr>\n",
       "    <tr>\n",
       "      <th>2016-07-05</th>\n",
       "      <td>-11.85</td>\n",
       "      <td>6.51</td>\n",
       "      <td>2.98</td>\n",
       "      <td>669.52</td>\n",
       "      <td>-0.42</td>\n",
       "      <td>359.12</td>\n",
       "      <td>1.88</td>\n",
       "      <td>916541405299582042112.00</td>\n",
       "      <td>1537927925665280000.00</td>\n",
       "      <td>3680.87</td>\n",
       "      <td>...</td>\n",
       "      <td>0.01</td>\n",
       "      <td>1.33</td>\n",
       "      <td>0.78</td>\n",
       "      <td>0.12</td>\n",
       "      <td>1.03</td>\n",
       "      <td>2.25</td>\n",
       "      <td>-1.22</td>\n",
       "      <td>0.00</td>\n",
       "      <td>3.41</td>\n",
       "      <td>5.44</td>\n",
       "    </tr>\n",
       "    <tr>\n",
       "      <th>2016-07-06</th>\n",
       "      <td>7.50</td>\n",
       "      <td>6.52</td>\n",
       "      <td>2.82</td>\n",
       "      <td>677.02</td>\n",
       "      <td>-0.42</td>\n",
       "      <td>359.56</td>\n",
       "      <td>1.88</td>\n",
       "      <td>916541405299582042112.00</td>\n",
       "      <td>1489359836828290048.00</td>\n",
       "      <td>3555.68</td>\n",
       "      <td>...</td>\n",
       "      <td>0.01</td>\n",
       "      <td>1.30</td>\n",
       "      <td>0.77</td>\n",
       "      <td>0.12</td>\n",
       "      <td>1.02</td>\n",
       "      <td>2.28</td>\n",
       "      <td>1.11</td>\n",
       "      <td>1.00</td>\n",
       "      <td>1.26</td>\n",
       "      <td>4.98</td>\n",
       "    </tr>\n",
       "    <tr>\n",
       "      <th>2016-07-07</th>\n",
       "      <td>-36.24</td>\n",
       "      <td>6.46</td>\n",
       "      <td>3.97</td>\n",
       "      <td>640.78</td>\n",
       "      <td>-0.45</td>\n",
       "      <td>359.39</td>\n",
       "      <td>1.79</td>\n",
       "      <td>916541405299582042112.00</td>\n",
       "      <td>1446081773148640000.00</td>\n",
       "      <td>3481.51</td>\n",
       "      <td>...</td>\n",
       "      <td>0.01</td>\n",
       "      <td>1.29</td>\n",
       "      <td>0.77</td>\n",
       "      <td>0.12</td>\n",
       "      <td>1.03</td>\n",
       "      <td>2.52</td>\n",
       "      <td>-5.50</td>\n",
       "      <td>0.00</td>\n",
       "      <td>3.35</td>\n",
       "      <td>3.76</td>\n",
       "    </tr>\n",
       "    <tr>\n",
       "      <th>2016-07-08</th>\n",
       "      <td>25.06</td>\n",
       "      <td>6.50</td>\n",
       "      <td>3.47</td>\n",
       "      <td>665.84</td>\n",
       "      <td>-0.43</td>\n",
       "      <td>359.65</td>\n",
       "      <td>1.80</td>\n",
       "      <td>916541405299582042112.00</td>\n",
       "      <td>1536381125864900096.00</td>\n",
       "      <td>3682.26</td>\n",
       "      <td>...</td>\n",
       "      <td>0.01</td>\n",
       "      <td>1.29</td>\n",
       "      <td>0.77</td>\n",
       "      <td>0.12</td>\n",
       "      <td>1.02</td>\n",
       "      <td>2.55</td>\n",
       "      <td>3.84</td>\n",
       "      <td>1.00</td>\n",
       "      <td>4.80</td>\n",
       "      <td>3.64</td>\n",
       "    </tr>\n",
       "  </tbody>\n",
       "</table>\n",
       "<p>5 rows × 135 columns</p>\n",
       "</div>"
      ],
      "text/plain": [
       "            Daily Return in USD  Log Price in USD  \\\n",
       "Date                                                \n",
       "2016-07-01                 5.12              6.52   \n",
       "2016-07-05               -11.85              6.51   \n",
       "2016-07-06                 7.50              6.52   \n",
       "2016-07-07               -36.24              6.46   \n",
       "2016-07-08                25.06              6.50   \n",
       "\n",
       "            Volatility Daily Log Return in Percent 5D  market/price_usd_close  \\\n",
       "Date                                                                            \n",
       "2016-07-01                                       3.04                  677.75   \n",
       "2016-07-05                                       2.98                  669.52   \n",
       "2016-07-06                                       2.82                  677.02   \n",
       "2016-07-07                                       3.97                  640.78   \n",
       "2016-07-08                                       3.47                  665.84   \n",
       "\n",
       "            market/price_drawdown_relative  market/price_realized_usd  \\\n",
       "Date                                                                    \n",
       "2016-07-01                           -0.42                     357.19   \n",
       "2016-07-05                           -0.42                     359.12   \n",
       "2016-07-06                           -0.42                     359.56   \n",
       "2016-07-07                           -0.45                     359.39   \n",
       "2016-07-08                           -0.43                     359.65   \n",
       "\n",
       "            market/mvrv  mining/difficulty_latest  mining/hash_rate_mean  \\\n",
       "Date                                                                       \n",
       "2016-07-01         1.90  899594466211063005184.00 1623174034535229952.00   \n",
       "2016-07-05         1.88  916541405299582042112.00 1537927925665280000.00   \n",
       "2016-07-06         1.88  916541405299582042112.00 1489359836828290048.00   \n",
       "2016-07-07         1.79  916541405299582042112.00 1446081773148640000.00   \n",
       "2016-07-08         1.80  916541405299582042112.00 1536381125864900096.00   \n",
       "\n",
       "            mining/revenue_sum  ...  Close JPY/USD  Close GBP/USD  \\\n",
       "Date                            ...                                 \n",
       "2016-07-01             3932.69  ...           0.01           1.33   \n",
       "2016-07-05             3680.87  ...           0.01           1.33   \n",
       "2016-07-06             3555.68  ...           0.01           1.30   \n",
       "2016-07-07             3481.51  ...           0.01           1.29   \n",
       "2016-07-08             3682.26  ...           0.01           1.29   \n",
       "\n",
       "            Close CAD/USD  Close SEK/USD  Close CHF/USD  Bitcoin Trend  \\\n",
       "Date                                                                     \n",
       "2016-07-01           0.77           0.12           1.02           2.40   \n",
       "2016-07-05           0.78           0.12           1.03           2.25   \n",
       "2016-07-06           0.77           0.12           1.02           2.28   \n",
       "2016-07-07           0.77           0.12           1.03           2.52   \n",
       "2016-07-08           0.77           0.12           1.02           2.55   \n",
       "\n",
       "            Daily Log Return in Percent  Class  \\\n",
       "Date                                             \n",
       "2016-07-01                         0.76   1.00   \n",
       "2016-07-05                        -1.22   0.00   \n",
       "2016-07-06                         1.11   1.00   \n",
       "2016-07-07                        -5.50   0.00   \n",
       "2016-07-08                         3.84   1.00   \n",
       "\n",
       "            Volatility Daily Log Return in Percent 3D  \\\n",
       "Date                                                    \n",
       "2016-07-01                                       3.61   \n",
       "2016-07-05                                       3.41   \n",
       "2016-07-06                                       1.26   \n",
       "2016-07-07                                       3.35   \n",
       "2016-07-08                                       4.80   \n",
       "\n",
       "            Volatility Daily Log Return in Percent 10D  \n",
       "Date                                                    \n",
       "2016-07-01                                        5.62  \n",
       "2016-07-05                                        5.44  \n",
       "2016-07-06                                        4.98  \n",
       "2016-07-07                                        3.76  \n",
       "2016-07-08                                        3.64  \n",
       "\n",
       "[5 rows x 135 columns]"
      ]
     },
     "execution_count": 13,
     "metadata": {},
     "output_type": "execute_result"
    }
   ],
   "source": [
    "# Dataset Tail\n",
    "df_dataset3_1H.tail()"
   ]
  },
  {
   "cell_type": "markdown",
   "metadata": {},
   "source": [
    "## Data Set III. - 2nd Halving to 3rd Halving"
   ]
  },
  {
   "cell_type": "code",
   "execution_count": 14,
   "metadata": {},
   "outputs": [],
   "source": [
    "# CSV Import of Data Set II. - Blockchain and Economic Data\n",
    "df_dataset3_2H = pd.read_csv('TimePeriods/df_dataset3_2H.csv', parse_dates=True, index_col = 'Date')"
   ]
  },
  {
   "cell_type": "code",
   "execution_count": 15,
   "metadata": {},
   "outputs": [
    {
     "data": {
      "text/plain": [
       "(917, 135)"
      ]
     },
     "execution_count": 15,
     "metadata": {},
     "output_type": "execute_result"
    }
   ],
   "source": [
    "# Data Set Dimensions\n",
    "df_dataset3_2H.shape"
   ]
  },
  {
   "cell_type": "code",
   "execution_count": 16,
   "metadata": {},
   "outputs": [
    {
     "name": "stdout",
     "output_type": "stream",
     "text": [
      "<class 'pandas.core.frame.DataFrame'>\n",
      "DatetimeIndex: 917 entries, 2016-07-11 to 2020-05-11\n",
      "Columns: 135 entries, Daily Return in USD to Volatility Daily Log Return in Percent 10D\n",
      "dtypes: float64(135)\n",
      "memory usage: 974.3 KB\n"
     ]
    }
   ],
   "source": [
    "# Data Set Info\n",
    "df_dataset3_2H.info()"
   ]
  },
  {
   "cell_type": "code",
   "execution_count": 17,
   "metadata": {},
   "outputs": [
    {
     "data": {
      "text/html": [
       "<div>\n",
       "<style scoped>\n",
       "    .dataframe tbody tr th:only-of-type {\n",
       "        vertical-align: middle;\n",
       "    }\n",
       "\n",
       "    .dataframe tbody tr th {\n",
       "        vertical-align: top;\n",
       "    }\n",
       "\n",
       "    .dataframe thead th {\n",
       "        text-align: right;\n",
       "    }\n",
       "</style>\n",
       "<table border=\"1\" class=\"dataframe\">\n",
       "  <thead>\n",
       "    <tr style=\"text-align: right;\">\n",
       "      <th></th>\n",
       "      <th>Daily Return in USD</th>\n",
       "      <th>Log Price in USD</th>\n",
       "      <th>Volatility Daily Log Return in Percent 5D</th>\n",
       "      <th>market/price_usd_close</th>\n",
       "      <th>market/price_drawdown_relative</th>\n",
       "      <th>market/price_realized_usd</th>\n",
       "      <th>market/mvrv</th>\n",
       "      <th>mining/difficulty_latest</th>\n",
       "      <th>mining/hash_rate_mean</th>\n",
       "      <th>mining/revenue_sum</th>\n",
       "      <th>...</th>\n",
       "      <th>Close JPY/USD</th>\n",
       "      <th>Close GBP/USD</th>\n",
       "      <th>Close CAD/USD</th>\n",
       "      <th>Close SEK/USD</th>\n",
       "      <th>Close CHF/USD</th>\n",
       "      <th>Bitcoin Trend</th>\n",
       "      <th>Daily Log Return in Percent</th>\n",
       "      <th>Class</th>\n",
       "      <th>Volatility Daily Log Return in Percent 3D</th>\n",
       "      <th>Volatility Daily Log Return in Percent 10D</th>\n",
       "    </tr>\n",
       "  </thead>\n",
       "  <tbody>\n",
       "    <tr>\n",
       "      <th>count</th>\n",
       "      <td>917.00</td>\n",
       "      <td>917.00</td>\n",
       "      <td>917.00</td>\n",
       "      <td>917.00</td>\n",
       "      <td>917.00</td>\n",
       "      <td>917.00</td>\n",
       "      <td>917.00</td>\n",
       "      <td>917.00</td>\n",
       "      <td>917.00</td>\n",
       "      <td>917.00</td>\n",
       "      <td>...</td>\n",
       "      <td>917.00</td>\n",
       "      <td>917.00</td>\n",
       "      <td>917.00</td>\n",
       "      <td>917.00</td>\n",
       "      <td>917.00</td>\n",
       "      <td>917.00</td>\n",
       "      <td>917.00</td>\n",
       "      <td>917.00</td>\n",
       "      <td>917.00</td>\n",
       "      <td>917.00</td>\n",
       "    </tr>\n",
       "    <tr>\n",
       "      <th>mean</th>\n",
       "      <td>7.74</td>\n",
       "      <td>8.32</td>\n",
       "      <td>3.97</td>\n",
       "      <td>5746.25</td>\n",
       "      <td>-0.46</td>\n",
       "      <td>3554.06</td>\n",
       "      <td>1.81</td>\n",
       "      <td>22917404517911148625920.00</td>\n",
       "      <td>38898488698606977024.00</td>\n",
       "      <td>1986.92</td>\n",
       "      <td>...</td>\n",
       "      <td>0.01</td>\n",
       "      <td>1.29</td>\n",
       "      <td>0.76</td>\n",
       "      <td>0.11</td>\n",
       "      <td>1.02</td>\n",
       "      <td>10.34</td>\n",
       "      <td>0.28</td>\n",
       "      <td>0.54</td>\n",
       "      <td>3.69</td>\n",
       "      <td>4.22</td>\n",
       "    </tr>\n",
       "    <tr>\n",
       "      <th>std</th>\n",
       "      <td>354.11</td>\n",
       "      <td>0.96</td>\n",
       "      <td>2.88</td>\n",
       "      <td>3708.61</td>\n",
       "      <td>0.24</td>\n",
       "      <td>2154.36</td>\n",
       "      <td>0.68</td>\n",
       "      <td>21324174199145069805568.00</td>\n",
       "      <td>35960061804381126656.00</td>\n",
       "      <td>270.64</td>\n",
       "      <td>...</td>\n",
       "      <td>0.00</td>\n",
       "      <td>0.05</td>\n",
       "      <td>0.02</td>\n",
       "      <td>0.01</td>\n",
       "      <td>0.02</td>\n",
       "      <td>8.96</td>\n",
       "      <td>4.98</td>\n",
       "      <td>0.50</td>\n",
       "      <td>3.28</td>\n",
       "      <td>2.51</td>\n",
       "    </tr>\n",
       "    <tr>\n",
       "      <th>min</th>\n",
       "      <td>-3052.46</td>\n",
       "      <td>6.29</td>\n",
       "      <td>0.24</td>\n",
       "      <td>541.12</td>\n",
       "      <td>-0.84</td>\n",
       "      <td>361.11</td>\n",
       "      <td>0.71</td>\n",
       "      <td>867124737898319970304.00</td>\n",
       "      <td>1235972958208999936.00</td>\n",
       "      <td>1195.40</td>\n",
       "      <td>...</td>\n",
       "      <td>0.01</td>\n",
       "      <td>1.15</td>\n",
       "      <td>0.69</td>\n",
       "      <td>0.10</td>\n",
       "      <td>0.97</td>\n",
       "      <td>1.11</td>\n",
       "      <td>-48.74</td>\n",
       "      <td>0.00</td>\n",
       "      <td>0.05</td>\n",
       "      <td>0.49</td>\n",
       "    </tr>\n",
       "    <tr>\n",
       "      <th>25%</th>\n",
       "      <td>-71.72</td>\n",
       "      <td>7.81</td>\n",
       "      <td>1.91</td>\n",
       "      <td>2460.92</td>\n",
       "      <td>-0.65</td>\n",
       "      <td>862.10</td>\n",
       "      <td>1.31</td>\n",
       "      <td>3043669231460090380288.00</td>\n",
       "      <td>5018124545645240320.00</td>\n",
       "      <td>1812.40</td>\n",
       "      <td>...</td>\n",
       "      <td>0.01</td>\n",
       "      <td>1.26</td>\n",
       "      <td>0.75</td>\n",
       "      <td>0.11</td>\n",
       "      <td>1.00</td>\n",
       "      <td>6.08</td>\n",
       "      <td>-1.43</td>\n",
       "      <td>0.00</td>\n",
       "      <td>1.42</td>\n",
       "      <td>2.46</td>\n",
       "    </tr>\n",
       "    <tr>\n",
       "      <th>50%</th>\n",
       "      <td>3.77</td>\n",
       "      <td>8.75</td>\n",
       "      <td>3.40</td>\n",
       "      <td>6332.79</td>\n",
       "      <td>-0.51</td>\n",
       "      <td>4682.81</td>\n",
       "      <td>1.67</td>\n",
       "      <td>21220165902503700856832.00</td>\n",
       "      <td>34980042698567401472.00</td>\n",
       "      <td>1960.71</td>\n",
       "      <td>...</td>\n",
       "      <td>0.01</td>\n",
       "      <td>1.29</td>\n",
       "      <td>0.76</td>\n",
       "      <td>0.11</td>\n",
       "      <td>1.01</td>\n",
       "      <td>8.88</td>\n",
       "      <td>0.26</td>\n",
       "      <td>1.00</td>\n",
       "      <td>2.80</td>\n",
       "      <td>3.95</td>\n",
       "    </tr>\n",
       "    <tr>\n",
       "      <th>75%</th>\n",
       "      <td>87.99</td>\n",
       "      <td>9.02</td>\n",
       "      <td>5.37</td>\n",
       "      <td>8300.86</td>\n",
       "      <td>-0.24</td>\n",
       "      <td>5326.32</td>\n",
       "      <td>2.15</td>\n",
       "      <td>32018846536995902062592.00</td>\n",
       "      <td>55599758596220796928.00</td>\n",
       "      <td>2121.52</td>\n",
       "      <td>...</td>\n",
       "      <td>0.01</td>\n",
       "      <td>1.32</td>\n",
       "      <td>0.77</td>\n",
       "      <td>0.12</td>\n",
       "      <td>1.03</td>\n",
       "      <td>12.06</td>\n",
       "      <td>2.33</td>\n",
       "      <td>1.00</td>\n",
       "      <td>5.05</td>\n",
       "      <td>5.54</td>\n",
       "    </tr>\n",
       "    <tr>\n",
       "      <th>max</th>\n",
       "      <td>3224.13</td>\n",
       "      <td>9.85</td>\n",
       "      <td>24.14</td>\n",
       "      <td>19007.01</td>\n",
       "      <td>-0.00</td>\n",
       "      <td>5834.50</td>\n",
       "      <td>4.35</td>\n",
       "      <td>71094267092888002232320.00</td>\n",
       "      <td>127960653687068999680.00</td>\n",
       "      <td>3433.45</td>\n",
       "      <td>...</td>\n",
       "      <td>0.01</td>\n",
       "      <td>1.43</td>\n",
       "      <td>0.83</td>\n",
       "      <td>0.13</td>\n",
       "      <td>1.08</td>\n",
       "      <td>100.00</td>\n",
       "      <td>22.61</td>\n",
       "      <td>1.00</td>\n",
       "      <td>32.62</td>\n",
       "      <td>18.28</td>\n",
       "    </tr>\n",
       "  </tbody>\n",
       "</table>\n",
       "<p>8 rows × 135 columns</p>\n",
       "</div>"
      ],
      "text/plain": [
       "       Daily Return in USD  Log Price in USD  \\\n",
       "count               917.00            917.00   \n",
       "mean                  7.74              8.32   \n",
       "std                 354.11              0.96   \n",
       "min               -3052.46              6.29   \n",
       "25%                 -71.72              7.81   \n",
       "50%                   3.77              8.75   \n",
       "75%                  87.99              9.02   \n",
       "max                3224.13              9.85   \n",
       "\n",
       "       Volatility Daily Log Return in Percent 5D  market/price_usd_close  \\\n",
       "count                                     917.00                  917.00   \n",
       "mean                                        3.97                 5746.25   \n",
       "std                                         2.88                 3708.61   \n",
       "min                                         0.24                  541.12   \n",
       "25%                                         1.91                 2460.92   \n",
       "50%                                         3.40                 6332.79   \n",
       "75%                                         5.37                 8300.86   \n",
       "max                                        24.14                19007.01   \n",
       "\n",
       "       market/price_drawdown_relative  market/price_realized_usd  market/mvrv  \\\n",
       "count                          917.00                     917.00       917.00   \n",
       "mean                            -0.46                    3554.06         1.81   \n",
       "std                              0.24                    2154.36         0.68   \n",
       "min                             -0.84                     361.11         0.71   \n",
       "25%                             -0.65                     862.10         1.31   \n",
       "50%                             -0.51                    4682.81         1.67   \n",
       "75%                             -0.24                    5326.32         2.15   \n",
       "max                             -0.00                    5834.50         4.35   \n",
       "\n",
       "        mining/difficulty_latest    mining/hash_rate_mean  mining/revenue_sum  \\\n",
       "count                     917.00                   917.00              917.00   \n",
       "mean  22917404517911148625920.00  38898488698606977024.00             1986.92   \n",
       "std   21324174199145069805568.00  35960061804381126656.00              270.64   \n",
       "min     867124737898319970304.00   1235972958208999936.00             1195.40   \n",
       "25%    3043669231460090380288.00   5018124545645240320.00             1812.40   \n",
       "50%   21220165902503700856832.00  34980042698567401472.00             1960.71   \n",
       "75%   32018846536995902062592.00  55599758596220796928.00             2121.52   \n",
       "max   71094267092888002232320.00 127960653687068999680.00             3433.45   \n",
       "\n",
       "       ...  Close JPY/USD  Close GBP/USD  Close CAD/USD  Close SEK/USD  \\\n",
       "count  ...         917.00         917.00         917.00         917.00   \n",
       "mean   ...           0.01           1.29           0.76           0.11   \n",
       "std    ...           0.00           0.05           0.02           0.01   \n",
       "min    ...           0.01           1.15           0.69           0.10   \n",
       "25%    ...           0.01           1.26           0.75           0.11   \n",
       "50%    ...           0.01           1.29           0.76           0.11   \n",
       "75%    ...           0.01           1.32           0.77           0.12   \n",
       "max    ...           0.01           1.43           0.83           0.13   \n",
       "\n",
       "       Close CHF/USD  Bitcoin Trend  Daily Log Return in Percent  Class  \\\n",
       "count         917.00         917.00                       917.00 917.00   \n",
       "mean            1.02          10.34                         0.28   0.54   \n",
       "std             0.02           8.96                         4.98   0.50   \n",
       "min             0.97           1.11                       -48.74   0.00   \n",
       "25%             1.00           6.08                        -1.43   0.00   \n",
       "50%             1.01           8.88                         0.26   1.00   \n",
       "75%             1.03          12.06                         2.33   1.00   \n",
       "max             1.08         100.00                        22.61   1.00   \n",
       "\n",
       "       Volatility Daily Log Return in Percent 3D  \\\n",
       "count                                     917.00   \n",
       "mean                                        3.69   \n",
       "std                                         3.28   \n",
       "min                                         0.05   \n",
       "25%                                         1.42   \n",
       "50%                                         2.80   \n",
       "75%                                         5.05   \n",
       "max                                        32.62   \n",
       "\n",
       "       Volatility Daily Log Return in Percent 10D  \n",
       "count                                      917.00  \n",
       "mean                                         4.22  \n",
       "std                                          2.51  \n",
       "min                                          0.49  \n",
       "25%                                          2.46  \n",
       "50%                                          3.95  \n",
       "75%                                          5.54  \n",
       "max                                         18.28  \n",
       "\n",
       "[8 rows x 135 columns]"
      ]
     },
     "execution_count": 17,
     "metadata": {},
     "output_type": "execute_result"
    }
   ],
   "source": [
    "# Summary Statistics\n",
    "df_dataset3_2H.describe()"
   ]
  },
  {
   "cell_type": "markdown",
   "metadata": {},
   "source": [
    "## Prediction Shift"
   ]
  },
  {
   "cell_type": "markdown",
   "metadata": {},
   "source": [
    "### Data Set III. - 1st Halving to 2nd Halving"
   ]
  },
  {
   "cell_type": "code",
   "execution_count": 18,
   "metadata": {},
   "outputs": [
    {
     "data": {
      "text/html": [
       "<div>\n",
       "<style scoped>\n",
       "    .dataframe tbody tr th:only-of-type {\n",
       "        vertical-align: middle;\n",
       "    }\n",
       "\n",
       "    .dataframe tbody tr th {\n",
       "        vertical-align: top;\n",
       "    }\n",
       "\n",
       "    .dataframe thead th {\n",
       "        text-align: right;\n",
       "    }\n",
       "</style>\n",
       "<table border=\"1\" class=\"dataframe\">\n",
       "  <thead>\n",
       "    <tr style=\"text-align: right;\">\n",
       "      <th></th>\n",
       "      <th>Daily Return in USD</th>\n",
       "      <th>Log Price in USD</th>\n",
       "      <th>Volatility Daily Log Return in Percent 5D</th>\n",
       "      <th>market/price_usd_close</th>\n",
       "      <th>market/price_drawdown_relative</th>\n",
       "      <th>market/price_realized_usd</th>\n",
       "      <th>market/mvrv</th>\n",
       "      <th>mining/difficulty_latest</th>\n",
       "      <th>mining/hash_rate_mean</th>\n",
       "      <th>mining/revenue_sum</th>\n",
       "      <th>...</th>\n",
       "      <th>Close JPY/USD</th>\n",
       "      <th>Close GBP/USD</th>\n",
       "      <th>Close CAD/USD</th>\n",
       "      <th>Close SEK/USD</th>\n",
       "      <th>Close CHF/USD</th>\n",
       "      <th>Bitcoin Trend</th>\n",
       "      <th>Daily Log Return in Percent</th>\n",
       "      <th>Class</th>\n",
       "      <th>Volatility Daily Log Return in Percent 3D</th>\n",
       "      <th>Volatility Daily Log Return in Percent 10D</th>\n",
       "    </tr>\n",
       "    <tr>\n",
       "      <th>Date</th>\n",
       "      <th></th>\n",
       "      <th></th>\n",
       "      <th></th>\n",
       "      <th></th>\n",
       "      <th></th>\n",
       "      <th></th>\n",
       "      <th></th>\n",
       "      <th></th>\n",
       "      <th></th>\n",
       "      <th></th>\n",
       "      <th></th>\n",
       "      <th></th>\n",
       "      <th></th>\n",
       "      <th></th>\n",
       "      <th></th>\n",
       "      <th></th>\n",
       "      <th></th>\n",
       "      <th></th>\n",
       "      <th></th>\n",
       "      <th></th>\n",
       "      <th></th>\n",
       "    </tr>\n",
       "  </thead>\n",
       "  <tbody>\n",
       "    <tr>\n",
       "      <th>2016-07-01</th>\n",
       "      <td>5.12</td>\n",
       "      <td>6.52</td>\n",
       "      <td>3.04</td>\n",
       "      <td>677.75</td>\n",
       "      <td>-0.42</td>\n",
       "      <td>357.19</td>\n",
       "      <td>1.90</td>\n",
       "      <td>899594466211063005184.00</td>\n",
       "      <td>1623174034535229952.00</td>\n",
       "      <td>3932.69</td>\n",
       "      <td>...</td>\n",
       "      <td>0.01</td>\n",
       "      <td>1.33</td>\n",
       "      <td>0.77</td>\n",
       "      <td>0.12</td>\n",
       "      <td>1.02</td>\n",
       "      <td>2.40</td>\n",
       "      <td>0.76</td>\n",
       "      <td>1.00</td>\n",
       "      <td>3.61</td>\n",
       "      <td>5.62</td>\n",
       "    </tr>\n",
       "    <tr>\n",
       "      <th>2016-07-05</th>\n",
       "      <td>-11.85</td>\n",
       "      <td>6.51</td>\n",
       "      <td>2.98</td>\n",
       "      <td>669.52</td>\n",
       "      <td>-0.42</td>\n",
       "      <td>359.12</td>\n",
       "      <td>1.88</td>\n",
       "      <td>916541405299582042112.00</td>\n",
       "      <td>1537927925665280000.00</td>\n",
       "      <td>3680.87</td>\n",
       "      <td>...</td>\n",
       "      <td>0.01</td>\n",
       "      <td>1.33</td>\n",
       "      <td>0.78</td>\n",
       "      <td>0.12</td>\n",
       "      <td>1.03</td>\n",
       "      <td>2.25</td>\n",
       "      <td>-1.22</td>\n",
       "      <td>0.00</td>\n",
       "      <td>3.41</td>\n",
       "      <td>5.44</td>\n",
       "    </tr>\n",
       "    <tr>\n",
       "      <th>2016-07-06</th>\n",
       "      <td>7.50</td>\n",
       "      <td>6.52</td>\n",
       "      <td>2.82</td>\n",
       "      <td>677.02</td>\n",
       "      <td>-0.42</td>\n",
       "      <td>359.56</td>\n",
       "      <td>1.88</td>\n",
       "      <td>916541405299582042112.00</td>\n",
       "      <td>1489359836828290048.00</td>\n",
       "      <td>3555.68</td>\n",
       "      <td>...</td>\n",
       "      <td>0.01</td>\n",
       "      <td>1.30</td>\n",
       "      <td>0.77</td>\n",
       "      <td>0.12</td>\n",
       "      <td>1.02</td>\n",
       "      <td>2.28</td>\n",
       "      <td>1.11</td>\n",
       "      <td>1.00</td>\n",
       "      <td>1.26</td>\n",
       "      <td>4.98</td>\n",
       "    </tr>\n",
       "    <tr>\n",
       "      <th>2016-07-07</th>\n",
       "      <td>-36.24</td>\n",
       "      <td>6.46</td>\n",
       "      <td>3.97</td>\n",
       "      <td>640.78</td>\n",
       "      <td>-0.45</td>\n",
       "      <td>359.39</td>\n",
       "      <td>1.79</td>\n",
       "      <td>916541405299582042112.00</td>\n",
       "      <td>1446081773148640000.00</td>\n",
       "      <td>3481.51</td>\n",
       "      <td>...</td>\n",
       "      <td>0.01</td>\n",
       "      <td>1.29</td>\n",
       "      <td>0.77</td>\n",
       "      <td>0.12</td>\n",
       "      <td>1.03</td>\n",
       "      <td>2.52</td>\n",
       "      <td>-5.50</td>\n",
       "      <td>0.00</td>\n",
       "      <td>3.35</td>\n",
       "      <td>3.76</td>\n",
       "    </tr>\n",
       "    <tr>\n",
       "      <th>2016-07-08</th>\n",
       "      <td>25.06</td>\n",
       "      <td>6.50</td>\n",
       "      <td>3.47</td>\n",
       "      <td>665.84</td>\n",
       "      <td>-0.43</td>\n",
       "      <td>359.65</td>\n",
       "      <td>1.80</td>\n",
       "      <td>916541405299582042112.00</td>\n",
       "      <td>1536381125864900096.00</td>\n",
       "      <td>3682.26</td>\n",
       "      <td>...</td>\n",
       "      <td>0.01</td>\n",
       "      <td>1.29</td>\n",
       "      <td>0.77</td>\n",
       "      <td>0.12</td>\n",
       "      <td>1.02</td>\n",
       "      <td>2.55</td>\n",
       "      <td>3.84</td>\n",
       "      <td>1.00</td>\n",
       "      <td>4.80</td>\n",
       "      <td>3.64</td>\n",
       "    </tr>\n",
       "  </tbody>\n",
       "</table>\n",
       "<p>5 rows × 135 columns</p>\n",
       "</div>"
      ],
      "text/plain": [
       "            Daily Return in USD  Log Price in USD  \\\n",
       "Date                                                \n",
       "2016-07-01                 5.12              6.52   \n",
       "2016-07-05               -11.85              6.51   \n",
       "2016-07-06                 7.50              6.52   \n",
       "2016-07-07               -36.24              6.46   \n",
       "2016-07-08                25.06              6.50   \n",
       "\n",
       "            Volatility Daily Log Return in Percent 5D  market/price_usd_close  \\\n",
       "Date                                                                            \n",
       "2016-07-01                                       3.04                  677.75   \n",
       "2016-07-05                                       2.98                  669.52   \n",
       "2016-07-06                                       2.82                  677.02   \n",
       "2016-07-07                                       3.97                  640.78   \n",
       "2016-07-08                                       3.47                  665.84   \n",
       "\n",
       "            market/price_drawdown_relative  market/price_realized_usd  \\\n",
       "Date                                                                    \n",
       "2016-07-01                           -0.42                     357.19   \n",
       "2016-07-05                           -0.42                     359.12   \n",
       "2016-07-06                           -0.42                     359.56   \n",
       "2016-07-07                           -0.45                     359.39   \n",
       "2016-07-08                           -0.43                     359.65   \n",
       "\n",
       "            market/mvrv  mining/difficulty_latest  mining/hash_rate_mean  \\\n",
       "Date                                                                       \n",
       "2016-07-01         1.90  899594466211063005184.00 1623174034535229952.00   \n",
       "2016-07-05         1.88  916541405299582042112.00 1537927925665280000.00   \n",
       "2016-07-06         1.88  916541405299582042112.00 1489359836828290048.00   \n",
       "2016-07-07         1.79  916541405299582042112.00 1446081773148640000.00   \n",
       "2016-07-08         1.80  916541405299582042112.00 1536381125864900096.00   \n",
       "\n",
       "            mining/revenue_sum  ...  Close JPY/USD  Close GBP/USD  \\\n",
       "Date                            ...                                 \n",
       "2016-07-01             3932.69  ...           0.01           1.33   \n",
       "2016-07-05             3680.87  ...           0.01           1.33   \n",
       "2016-07-06             3555.68  ...           0.01           1.30   \n",
       "2016-07-07             3481.51  ...           0.01           1.29   \n",
       "2016-07-08             3682.26  ...           0.01           1.29   \n",
       "\n",
       "            Close CAD/USD  Close SEK/USD  Close CHF/USD  Bitcoin Trend  \\\n",
       "Date                                                                     \n",
       "2016-07-01           0.77           0.12           1.02           2.40   \n",
       "2016-07-05           0.78           0.12           1.03           2.25   \n",
       "2016-07-06           0.77           0.12           1.02           2.28   \n",
       "2016-07-07           0.77           0.12           1.03           2.52   \n",
       "2016-07-08           0.77           0.12           1.02           2.55   \n",
       "\n",
       "            Daily Log Return in Percent  Class  \\\n",
       "Date                                             \n",
       "2016-07-01                         0.76   1.00   \n",
       "2016-07-05                        -1.22   0.00   \n",
       "2016-07-06                         1.11   1.00   \n",
       "2016-07-07                        -5.50   0.00   \n",
       "2016-07-08                         3.84   1.00   \n",
       "\n",
       "            Volatility Daily Log Return in Percent 3D  \\\n",
       "Date                                                    \n",
       "2016-07-01                                       3.61   \n",
       "2016-07-05                                       3.41   \n",
       "2016-07-06                                       1.26   \n",
       "2016-07-07                                       3.35   \n",
       "2016-07-08                                       4.80   \n",
       "\n",
       "            Volatility Daily Log Return in Percent 10D  \n",
       "Date                                                    \n",
       "2016-07-01                                        5.62  \n",
       "2016-07-05                                        5.44  \n",
       "2016-07-06                                        4.98  \n",
       "2016-07-07                                        3.76  \n",
       "2016-07-08                                        3.64  \n",
       "\n",
       "[5 rows x 135 columns]"
      ]
     },
     "execution_count": 18,
     "metadata": {},
     "output_type": "execute_result"
    }
   ],
   "source": [
    "# Data Set Tail\n",
    "df_dataset3_1H.tail()"
   ]
  },
  {
   "cell_type": "code",
   "execution_count": 19,
   "metadata": {},
   "outputs": [],
   "source": [
    "# Shift of Target Column by 1 Day\n",
    "df_dataset3_1H['Daily Return in USD'] = df_dataset3_1H['Daily Return in USD'].shift(1) "
   ]
  },
  {
   "cell_type": "code",
   "execution_count": 20,
   "metadata": {},
   "outputs": [
    {
     "data": {
      "text/html": [
       "<div>\n",
       "<style scoped>\n",
       "    .dataframe tbody tr th:only-of-type {\n",
       "        vertical-align: middle;\n",
       "    }\n",
       "\n",
       "    .dataframe tbody tr th {\n",
       "        vertical-align: top;\n",
       "    }\n",
       "\n",
       "    .dataframe thead th {\n",
       "        text-align: right;\n",
       "    }\n",
       "</style>\n",
       "<table border=\"1\" class=\"dataframe\">\n",
       "  <thead>\n",
       "    <tr style=\"text-align: right;\">\n",
       "      <th></th>\n",
       "      <th>Daily Return in USD</th>\n",
       "      <th>Log Price in USD</th>\n",
       "      <th>Volatility Daily Log Return in Percent 5D</th>\n",
       "      <th>market/price_usd_close</th>\n",
       "      <th>market/price_drawdown_relative</th>\n",
       "      <th>market/price_realized_usd</th>\n",
       "      <th>market/mvrv</th>\n",
       "      <th>mining/difficulty_latest</th>\n",
       "      <th>mining/hash_rate_mean</th>\n",
       "      <th>mining/revenue_sum</th>\n",
       "      <th>...</th>\n",
       "      <th>Close JPY/USD</th>\n",
       "      <th>Close GBP/USD</th>\n",
       "      <th>Close CAD/USD</th>\n",
       "      <th>Close SEK/USD</th>\n",
       "      <th>Close CHF/USD</th>\n",
       "      <th>Bitcoin Trend</th>\n",
       "      <th>Daily Log Return in Percent</th>\n",
       "      <th>Class</th>\n",
       "      <th>Volatility Daily Log Return in Percent 3D</th>\n",
       "      <th>Volatility Daily Log Return in Percent 10D</th>\n",
       "    </tr>\n",
       "    <tr>\n",
       "      <th>Date</th>\n",
       "      <th></th>\n",
       "      <th></th>\n",
       "      <th></th>\n",
       "      <th></th>\n",
       "      <th></th>\n",
       "      <th></th>\n",
       "      <th></th>\n",
       "      <th></th>\n",
       "      <th></th>\n",
       "      <th></th>\n",
       "      <th></th>\n",
       "      <th></th>\n",
       "      <th></th>\n",
       "      <th></th>\n",
       "      <th></th>\n",
       "      <th></th>\n",
       "      <th></th>\n",
       "      <th></th>\n",
       "      <th></th>\n",
       "      <th></th>\n",
       "      <th></th>\n",
       "    </tr>\n",
       "  </thead>\n",
       "  <tbody>\n",
       "    <tr>\n",
       "      <th>2016-07-01</th>\n",
       "      <td>35.54</td>\n",
       "      <td>6.52</td>\n",
       "      <td>3.04</td>\n",
       "      <td>677.75</td>\n",
       "      <td>-0.42</td>\n",
       "      <td>357.19</td>\n",
       "      <td>1.90</td>\n",
       "      <td>899594466211063005184.00</td>\n",
       "      <td>1623174034535229952.00</td>\n",
       "      <td>3932.69</td>\n",
       "      <td>...</td>\n",
       "      <td>0.01</td>\n",
       "      <td>1.33</td>\n",
       "      <td>0.77</td>\n",
       "      <td>0.12</td>\n",
       "      <td>1.02</td>\n",
       "      <td>2.40</td>\n",
       "      <td>0.76</td>\n",
       "      <td>1.00</td>\n",
       "      <td>3.61</td>\n",
       "      <td>5.62</td>\n",
       "    </tr>\n",
       "    <tr>\n",
       "      <th>2016-07-05</th>\n",
       "      <td>5.12</td>\n",
       "      <td>6.51</td>\n",
       "      <td>2.98</td>\n",
       "      <td>669.52</td>\n",
       "      <td>-0.42</td>\n",
       "      <td>359.12</td>\n",
       "      <td>1.88</td>\n",
       "      <td>916541405299582042112.00</td>\n",
       "      <td>1537927925665280000.00</td>\n",
       "      <td>3680.87</td>\n",
       "      <td>...</td>\n",
       "      <td>0.01</td>\n",
       "      <td>1.33</td>\n",
       "      <td>0.78</td>\n",
       "      <td>0.12</td>\n",
       "      <td>1.03</td>\n",
       "      <td>2.25</td>\n",
       "      <td>-1.22</td>\n",
       "      <td>0.00</td>\n",
       "      <td>3.41</td>\n",
       "      <td>5.44</td>\n",
       "    </tr>\n",
       "    <tr>\n",
       "      <th>2016-07-06</th>\n",
       "      <td>-11.85</td>\n",
       "      <td>6.52</td>\n",
       "      <td>2.82</td>\n",
       "      <td>677.02</td>\n",
       "      <td>-0.42</td>\n",
       "      <td>359.56</td>\n",
       "      <td>1.88</td>\n",
       "      <td>916541405299582042112.00</td>\n",
       "      <td>1489359836828290048.00</td>\n",
       "      <td>3555.68</td>\n",
       "      <td>...</td>\n",
       "      <td>0.01</td>\n",
       "      <td>1.30</td>\n",
       "      <td>0.77</td>\n",
       "      <td>0.12</td>\n",
       "      <td>1.02</td>\n",
       "      <td>2.28</td>\n",
       "      <td>1.11</td>\n",
       "      <td>1.00</td>\n",
       "      <td>1.26</td>\n",
       "      <td>4.98</td>\n",
       "    </tr>\n",
       "    <tr>\n",
       "      <th>2016-07-07</th>\n",
       "      <td>7.50</td>\n",
       "      <td>6.46</td>\n",
       "      <td>3.97</td>\n",
       "      <td>640.78</td>\n",
       "      <td>-0.45</td>\n",
       "      <td>359.39</td>\n",
       "      <td>1.79</td>\n",
       "      <td>916541405299582042112.00</td>\n",
       "      <td>1446081773148640000.00</td>\n",
       "      <td>3481.51</td>\n",
       "      <td>...</td>\n",
       "      <td>0.01</td>\n",
       "      <td>1.29</td>\n",
       "      <td>0.77</td>\n",
       "      <td>0.12</td>\n",
       "      <td>1.03</td>\n",
       "      <td>2.52</td>\n",
       "      <td>-5.50</td>\n",
       "      <td>0.00</td>\n",
       "      <td>3.35</td>\n",
       "      <td>3.76</td>\n",
       "    </tr>\n",
       "    <tr>\n",
       "      <th>2016-07-08</th>\n",
       "      <td>-36.24</td>\n",
       "      <td>6.50</td>\n",
       "      <td>3.47</td>\n",
       "      <td>665.84</td>\n",
       "      <td>-0.43</td>\n",
       "      <td>359.65</td>\n",
       "      <td>1.80</td>\n",
       "      <td>916541405299582042112.00</td>\n",
       "      <td>1536381125864900096.00</td>\n",
       "      <td>3682.26</td>\n",
       "      <td>...</td>\n",
       "      <td>0.01</td>\n",
       "      <td>1.29</td>\n",
       "      <td>0.77</td>\n",
       "      <td>0.12</td>\n",
       "      <td>1.02</td>\n",
       "      <td>2.55</td>\n",
       "      <td>3.84</td>\n",
       "      <td>1.00</td>\n",
       "      <td>4.80</td>\n",
       "      <td>3.64</td>\n",
       "    </tr>\n",
       "  </tbody>\n",
       "</table>\n",
       "<p>5 rows × 135 columns</p>\n",
       "</div>"
      ],
      "text/plain": [
       "            Daily Return in USD  Log Price in USD  \\\n",
       "Date                                                \n",
       "2016-07-01                35.54              6.52   \n",
       "2016-07-05                 5.12              6.51   \n",
       "2016-07-06               -11.85              6.52   \n",
       "2016-07-07                 7.50              6.46   \n",
       "2016-07-08               -36.24              6.50   \n",
       "\n",
       "            Volatility Daily Log Return in Percent 5D  market/price_usd_close  \\\n",
       "Date                                                                            \n",
       "2016-07-01                                       3.04                  677.75   \n",
       "2016-07-05                                       2.98                  669.52   \n",
       "2016-07-06                                       2.82                  677.02   \n",
       "2016-07-07                                       3.97                  640.78   \n",
       "2016-07-08                                       3.47                  665.84   \n",
       "\n",
       "            market/price_drawdown_relative  market/price_realized_usd  \\\n",
       "Date                                                                    \n",
       "2016-07-01                           -0.42                     357.19   \n",
       "2016-07-05                           -0.42                     359.12   \n",
       "2016-07-06                           -0.42                     359.56   \n",
       "2016-07-07                           -0.45                     359.39   \n",
       "2016-07-08                           -0.43                     359.65   \n",
       "\n",
       "            market/mvrv  mining/difficulty_latest  mining/hash_rate_mean  \\\n",
       "Date                                                                       \n",
       "2016-07-01         1.90  899594466211063005184.00 1623174034535229952.00   \n",
       "2016-07-05         1.88  916541405299582042112.00 1537927925665280000.00   \n",
       "2016-07-06         1.88  916541405299582042112.00 1489359836828290048.00   \n",
       "2016-07-07         1.79  916541405299582042112.00 1446081773148640000.00   \n",
       "2016-07-08         1.80  916541405299582042112.00 1536381125864900096.00   \n",
       "\n",
       "            mining/revenue_sum  ...  Close JPY/USD  Close GBP/USD  \\\n",
       "Date                            ...                                 \n",
       "2016-07-01             3932.69  ...           0.01           1.33   \n",
       "2016-07-05             3680.87  ...           0.01           1.33   \n",
       "2016-07-06             3555.68  ...           0.01           1.30   \n",
       "2016-07-07             3481.51  ...           0.01           1.29   \n",
       "2016-07-08             3682.26  ...           0.01           1.29   \n",
       "\n",
       "            Close CAD/USD  Close SEK/USD  Close CHF/USD  Bitcoin Trend  \\\n",
       "Date                                                                     \n",
       "2016-07-01           0.77           0.12           1.02           2.40   \n",
       "2016-07-05           0.78           0.12           1.03           2.25   \n",
       "2016-07-06           0.77           0.12           1.02           2.28   \n",
       "2016-07-07           0.77           0.12           1.03           2.52   \n",
       "2016-07-08           0.77           0.12           1.02           2.55   \n",
       "\n",
       "            Daily Log Return in Percent  Class  \\\n",
       "Date                                             \n",
       "2016-07-01                         0.76   1.00   \n",
       "2016-07-05                        -1.22   0.00   \n",
       "2016-07-06                         1.11   1.00   \n",
       "2016-07-07                        -5.50   0.00   \n",
       "2016-07-08                         3.84   1.00   \n",
       "\n",
       "            Volatility Daily Log Return in Percent 3D  \\\n",
       "Date                                                    \n",
       "2016-07-01                                       3.61   \n",
       "2016-07-05                                       3.41   \n",
       "2016-07-06                                       1.26   \n",
       "2016-07-07                                       3.35   \n",
       "2016-07-08                                       4.80   \n",
       "\n",
       "            Volatility Daily Log Return in Percent 10D  \n",
       "Date                                                    \n",
       "2016-07-01                                        5.62  \n",
       "2016-07-05                                        5.44  \n",
       "2016-07-06                                        4.98  \n",
       "2016-07-07                                        3.76  \n",
       "2016-07-08                                        3.64  \n",
       "\n",
       "[5 rows x 135 columns]"
      ]
     },
     "execution_count": 20,
     "metadata": {},
     "output_type": "execute_result"
    }
   ],
   "source": [
    "# Check Shift\n",
    "df_dataset3_1H.tail()"
   ]
  },
  {
   "cell_type": "code",
   "execution_count": 21,
   "metadata": {},
   "outputs": [
    {
     "data": {
      "text/plain": [
       "Daily Return in USD                           1\n",
       "Log Price in USD                              0\n",
       "Volatility Daily Log Return in Percent 5D     0\n",
       "market/price_usd_close                        0\n",
       "market/price_drawdown_relative                0\n",
       "                                             ..\n",
       "Bitcoin Trend                                 0\n",
       "Daily Log Return in Percent                   0\n",
       "Class                                         0\n",
       "Volatility Daily Log Return in Percent 3D     0\n",
       "Volatility Daily Log Return in Percent 10D    0\n",
       "Length: 135, dtype: int64"
      ]
     },
     "execution_count": 21,
     "metadata": {},
     "output_type": "execute_result"
    }
   ],
   "source": [
    "# Check Empty Cells\n",
    "df_dataset3_1H.isnull().sum()"
   ]
  },
  {
   "cell_type": "code",
   "execution_count": 22,
   "metadata": {},
   "outputs": [],
   "source": [
    "# Delete Empty Row\n",
    "df_dataset3_1H = df_dataset3_1H.dropna()"
   ]
  },
  {
   "cell_type": "code",
   "execution_count": 23,
   "metadata": {},
   "outputs": [
    {
     "data": {
      "text/plain": [
       "Daily Return in USD                           0\n",
       "Log Price in USD                              0\n",
       "Volatility Daily Log Return in Percent 5D     0\n",
       "market/price_usd_close                        0\n",
       "market/price_drawdown_relative                0\n",
       "                                             ..\n",
       "Bitcoin Trend                                 0\n",
       "Daily Log Return in Percent                   0\n",
       "Class                                         0\n",
       "Volatility Daily Log Return in Percent 3D     0\n",
       "Volatility Daily Log Return in Percent 10D    0\n",
       "Length: 135, dtype: int64"
      ]
     },
     "execution_count": 23,
     "metadata": {},
     "output_type": "execute_result"
    }
   ],
   "source": [
    "# Re-Check Empty Cells\n",
    "df_dataset3_1H.isnull().sum()"
   ]
  },
  {
   "cell_type": "markdown",
   "metadata": {},
   "source": [
    "### Data Set III. - 2nd Halving to 3rd Halving"
   ]
  },
  {
   "cell_type": "code",
   "execution_count": 24,
   "metadata": {},
   "outputs": [
    {
     "data": {
      "text/html": [
       "<div>\n",
       "<style scoped>\n",
       "    .dataframe tbody tr th:only-of-type {\n",
       "        vertical-align: middle;\n",
       "    }\n",
       "\n",
       "    .dataframe tbody tr th {\n",
       "        vertical-align: top;\n",
       "    }\n",
       "\n",
       "    .dataframe thead th {\n",
       "        text-align: right;\n",
       "    }\n",
       "</style>\n",
       "<table border=\"1\" class=\"dataframe\">\n",
       "  <thead>\n",
       "    <tr style=\"text-align: right;\">\n",
       "      <th></th>\n",
       "      <th>Daily Return in USD</th>\n",
       "      <th>Log Price in USD</th>\n",
       "      <th>Volatility Daily Log Return in Percent 5D</th>\n",
       "      <th>market/price_usd_close</th>\n",
       "      <th>market/price_drawdown_relative</th>\n",
       "      <th>market/price_realized_usd</th>\n",
       "      <th>market/mvrv</th>\n",
       "      <th>mining/difficulty_latest</th>\n",
       "      <th>mining/hash_rate_mean</th>\n",
       "      <th>mining/revenue_sum</th>\n",
       "      <th>...</th>\n",
       "      <th>Close JPY/USD</th>\n",
       "      <th>Close GBP/USD</th>\n",
       "      <th>Close CAD/USD</th>\n",
       "      <th>Close SEK/USD</th>\n",
       "      <th>Close CHF/USD</th>\n",
       "      <th>Bitcoin Trend</th>\n",
       "      <th>Daily Log Return in Percent</th>\n",
       "      <th>Class</th>\n",
       "      <th>Volatility Daily Log Return in Percent 3D</th>\n",
       "      <th>Volatility Daily Log Return in Percent 10D</th>\n",
       "    </tr>\n",
       "    <tr>\n",
       "      <th>Date</th>\n",
       "      <th></th>\n",
       "      <th></th>\n",
       "      <th></th>\n",
       "      <th></th>\n",
       "      <th></th>\n",
       "      <th></th>\n",
       "      <th></th>\n",
       "      <th></th>\n",
       "      <th></th>\n",
       "      <th></th>\n",
       "      <th></th>\n",
       "      <th></th>\n",
       "      <th></th>\n",
       "      <th></th>\n",
       "      <th></th>\n",
       "      <th></th>\n",
       "      <th></th>\n",
       "      <th></th>\n",
       "      <th></th>\n",
       "      <th></th>\n",
       "      <th></th>\n",
       "    </tr>\n",
       "  </thead>\n",
       "  <tbody>\n",
       "    <tr>\n",
       "      <th>2020-05-05</th>\n",
       "      <td>72.25</td>\n",
       "      <td>9.10</td>\n",
       "      <td>5.36</td>\n",
       "      <td>8987.61</td>\n",
       "      <td>-0.55</td>\n",
       "      <td>5614.69</td>\n",
       "      <td>1.59</td>\n",
       "      <td>69169621458724700815360.00</td>\n",
       "      <td>126481026862657994752.00</td>\n",
       "      <td>2046.90</td>\n",
       "      <td>...</td>\n",
       "      <td>0.01</td>\n",
       "      <td>1.24</td>\n",
       "      <td>0.71</td>\n",
       "      <td>0.10</td>\n",
       "      <td>1.04</td>\n",
       "      <td>9.80</td>\n",
       "      <td>0.81</td>\n",
       "      <td>1.00</td>\n",
       "      <td>2.30</td>\n",
       "      <td>3.76</td>\n",
       "    </tr>\n",
       "    <tr>\n",
       "      <th>2020-05-06</th>\n",
       "      <td>265.47</td>\n",
       "      <td>9.13</td>\n",
       "      <td>5.15</td>\n",
       "      <td>9253.08</td>\n",
       "      <td>-0.53</td>\n",
       "      <td>5625.49</td>\n",
       "      <td>1.63</td>\n",
       "      <td>69169621458724700815360.00</td>\n",
       "      <td>122034205213128998912.00</td>\n",
       "      <td>1993.54</td>\n",
       "      <td>...</td>\n",
       "      <td>0.01</td>\n",
       "      <td>1.24</td>\n",
       "      <td>0.71</td>\n",
       "      <td>0.10</td>\n",
       "      <td>1.03</td>\n",
       "      <td>11.40</td>\n",
       "      <td>2.91</td>\n",
       "      <td>1.00</td>\n",
       "      <td>1.22</td>\n",
       "      <td>3.64</td>\n",
       "    </tr>\n",
       "    <tr>\n",
       "      <th>2020-05-07</th>\n",
       "      <td>729.25</td>\n",
       "      <td>9.21</td>\n",
       "      <td>3.40</td>\n",
       "      <td>9982.32</td>\n",
       "      <td>-0.50</td>\n",
       "      <td>5645.90</td>\n",
       "      <td>1.68</td>\n",
       "      <td>69169621458724700815360.00</td>\n",
       "      <td>117833080558024998912.00</td>\n",
       "      <td>1925.82</td>\n",
       "      <td>...</td>\n",
       "      <td>0.01</td>\n",
       "      <td>1.23</td>\n",
       "      <td>0.71</td>\n",
       "      <td>0.10</td>\n",
       "      <td>1.03</td>\n",
       "      <td>13.80</td>\n",
       "      <td>7.59</td>\n",
       "      <td>1.00</td>\n",
       "      <td>3.47</td>\n",
       "      <td>3.92</td>\n",
       "    </tr>\n",
       "    <tr>\n",
       "      <th>2020-05-08</th>\n",
       "      <td>-128.16</td>\n",
       "      <td>9.20</td>\n",
       "      <td>3.30</td>\n",
       "      <td>9854.16</td>\n",
       "      <td>-0.50</td>\n",
       "      <td>5665.30</td>\n",
       "      <td>1.75</td>\n",
       "      <td>69169621458724700815360.00</td>\n",
       "      <td>109306735643127005184.00</td>\n",
       "      <td>1816.60</td>\n",
       "      <td>...</td>\n",
       "      <td>0.01</td>\n",
       "      <td>1.24</td>\n",
       "      <td>0.72</td>\n",
       "      <td>0.10</td>\n",
       "      <td>1.03</td>\n",
       "      <td>15.20</td>\n",
       "      <td>-1.29</td>\n",
       "      <td>0.00</td>\n",
       "      <td>4.44</td>\n",
       "      <td>4.17</td>\n",
       "    </tr>\n",
       "    <tr>\n",
       "      <th>2020-05-11</th>\n",
       "      <td>-161.52</td>\n",
       "      <td>9.06</td>\n",
       "      <td>7.92</td>\n",
       "      <td>8599.78</td>\n",
       "      <td>-0.57</td>\n",
       "      <td>5668.06</td>\n",
       "      <td>1.54</td>\n",
       "      <td>69169621458724700815360.00</td>\n",
       "      <td>125958413392175005696.00</td>\n",
       "      <td>1901.10</td>\n",
       "      <td>...</td>\n",
       "      <td>0.01</td>\n",
       "      <td>1.24</td>\n",
       "      <td>0.72</td>\n",
       "      <td>0.10</td>\n",
       "      <td>1.03</td>\n",
       "      <td>20.00</td>\n",
       "      <td>-13.62</td>\n",
       "      <td>0.00</td>\n",
       "      <td>10.65</td>\n",
       "      <td>6.68</td>\n",
       "    </tr>\n",
       "  </tbody>\n",
       "</table>\n",
       "<p>5 rows × 135 columns</p>\n",
       "</div>"
      ],
      "text/plain": [
       "            Daily Return in USD  Log Price in USD  \\\n",
       "Date                                                \n",
       "2020-05-05                72.25              9.10   \n",
       "2020-05-06               265.47              9.13   \n",
       "2020-05-07               729.25              9.21   \n",
       "2020-05-08              -128.16              9.20   \n",
       "2020-05-11              -161.52              9.06   \n",
       "\n",
       "            Volatility Daily Log Return in Percent 5D  market/price_usd_close  \\\n",
       "Date                                                                            \n",
       "2020-05-05                                       5.36                 8987.61   \n",
       "2020-05-06                                       5.15                 9253.08   \n",
       "2020-05-07                                       3.40                 9982.32   \n",
       "2020-05-08                                       3.30                 9854.16   \n",
       "2020-05-11                                       7.92                 8599.78   \n",
       "\n",
       "            market/price_drawdown_relative  market/price_realized_usd  \\\n",
       "Date                                                                    \n",
       "2020-05-05                           -0.55                    5614.69   \n",
       "2020-05-06                           -0.53                    5625.49   \n",
       "2020-05-07                           -0.50                    5645.90   \n",
       "2020-05-08                           -0.50                    5665.30   \n",
       "2020-05-11                           -0.57                    5668.06   \n",
       "\n",
       "            market/mvrv   mining/difficulty_latest    mining/hash_rate_mean  \\\n",
       "Date                                                                          \n",
       "2020-05-05         1.59 69169621458724700815360.00 126481026862657994752.00   \n",
       "2020-05-06         1.63 69169621458724700815360.00 122034205213128998912.00   \n",
       "2020-05-07         1.68 69169621458724700815360.00 117833080558024998912.00   \n",
       "2020-05-08         1.75 69169621458724700815360.00 109306735643127005184.00   \n",
       "2020-05-11         1.54 69169621458724700815360.00 125958413392175005696.00   \n",
       "\n",
       "            mining/revenue_sum  ...  Close JPY/USD  Close GBP/USD  \\\n",
       "Date                            ...                                 \n",
       "2020-05-05             2046.90  ...           0.01           1.24   \n",
       "2020-05-06             1993.54  ...           0.01           1.24   \n",
       "2020-05-07             1925.82  ...           0.01           1.23   \n",
       "2020-05-08             1816.60  ...           0.01           1.24   \n",
       "2020-05-11             1901.10  ...           0.01           1.24   \n",
       "\n",
       "            Close CAD/USD  Close SEK/USD  Close CHF/USD  Bitcoin Trend  \\\n",
       "Date                                                                     \n",
       "2020-05-05           0.71           0.10           1.04           9.80   \n",
       "2020-05-06           0.71           0.10           1.03          11.40   \n",
       "2020-05-07           0.71           0.10           1.03          13.80   \n",
       "2020-05-08           0.72           0.10           1.03          15.20   \n",
       "2020-05-11           0.72           0.10           1.03          20.00   \n",
       "\n",
       "            Daily Log Return in Percent  Class  \\\n",
       "Date                                             \n",
       "2020-05-05                         0.81   1.00   \n",
       "2020-05-06                         2.91   1.00   \n",
       "2020-05-07                         7.59   1.00   \n",
       "2020-05-08                        -1.29   0.00   \n",
       "2020-05-11                       -13.62   0.00   \n",
       "\n",
       "            Volatility Daily Log Return in Percent 3D  \\\n",
       "Date                                                    \n",
       "2020-05-05                                       2.30   \n",
       "2020-05-06                                       1.22   \n",
       "2020-05-07                                       3.47   \n",
       "2020-05-08                                       4.44   \n",
       "2020-05-11                                      10.65   \n",
       "\n",
       "            Volatility Daily Log Return in Percent 10D  \n",
       "Date                                                    \n",
       "2020-05-05                                        3.76  \n",
       "2020-05-06                                        3.64  \n",
       "2020-05-07                                        3.92  \n",
       "2020-05-08                                        4.17  \n",
       "2020-05-11                                        6.68  \n",
       "\n",
       "[5 rows x 135 columns]"
      ]
     },
     "execution_count": 24,
     "metadata": {},
     "output_type": "execute_result"
    }
   ],
   "source": [
    "# Data Set Tail\n",
    "df_dataset3_2H.tail()"
   ]
  },
  {
   "cell_type": "code",
   "execution_count": 25,
   "metadata": {},
   "outputs": [],
   "source": [
    "# Shift of Target Column by 1 Day\n",
    "df_dataset3_2H['Daily Return in USD'] = df_dataset3_2H['Daily Return in USD'].shift(1) "
   ]
  },
  {
   "cell_type": "code",
   "execution_count": 26,
   "metadata": {},
   "outputs": [
    {
     "data": {
      "text/html": [
       "<div>\n",
       "<style scoped>\n",
       "    .dataframe tbody tr th:only-of-type {\n",
       "        vertical-align: middle;\n",
       "    }\n",
       "\n",
       "    .dataframe tbody tr th {\n",
       "        vertical-align: top;\n",
       "    }\n",
       "\n",
       "    .dataframe thead th {\n",
       "        text-align: right;\n",
       "    }\n",
       "</style>\n",
       "<table border=\"1\" class=\"dataframe\">\n",
       "  <thead>\n",
       "    <tr style=\"text-align: right;\">\n",
       "      <th></th>\n",
       "      <th>Daily Return in USD</th>\n",
       "      <th>Log Price in USD</th>\n",
       "      <th>Volatility Daily Log Return in Percent 5D</th>\n",
       "      <th>market/price_usd_close</th>\n",
       "      <th>market/price_drawdown_relative</th>\n",
       "      <th>market/price_realized_usd</th>\n",
       "      <th>market/mvrv</th>\n",
       "      <th>mining/difficulty_latest</th>\n",
       "      <th>mining/hash_rate_mean</th>\n",
       "      <th>mining/revenue_sum</th>\n",
       "      <th>...</th>\n",
       "      <th>Close JPY/USD</th>\n",
       "      <th>Close GBP/USD</th>\n",
       "      <th>Close CAD/USD</th>\n",
       "      <th>Close SEK/USD</th>\n",
       "      <th>Close CHF/USD</th>\n",
       "      <th>Bitcoin Trend</th>\n",
       "      <th>Daily Log Return in Percent</th>\n",
       "      <th>Class</th>\n",
       "      <th>Volatility Daily Log Return in Percent 3D</th>\n",
       "      <th>Volatility Daily Log Return in Percent 10D</th>\n",
       "    </tr>\n",
       "    <tr>\n",
       "      <th>Date</th>\n",
       "      <th></th>\n",
       "      <th></th>\n",
       "      <th></th>\n",
       "      <th></th>\n",
       "      <th></th>\n",
       "      <th></th>\n",
       "      <th></th>\n",
       "      <th></th>\n",
       "      <th></th>\n",
       "      <th></th>\n",
       "      <th></th>\n",
       "      <th></th>\n",
       "      <th></th>\n",
       "      <th></th>\n",
       "      <th></th>\n",
       "      <th></th>\n",
       "      <th></th>\n",
       "      <th></th>\n",
       "      <th></th>\n",
       "      <th></th>\n",
       "      <th></th>\n",
       "    </tr>\n",
       "  </thead>\n",
       "  <tbody>\n",
       "    <tr>\n",
       "      <th>2020-05-05</th>\n",
       "      <td>17.24</td>\n",
       "      <td>9.10</td>\n",
       "      <td>5.36</td>\n",
       "      <td>8987.61</td>\n",
       "      <td>-0.55</td>\n",
       "      <td>5614.69</td>\n",
       "      <td>1.59</td>\n",
       "      <td>69169621458724700815360.00</td>\n",
       "      <td>126481026862657994752.00</td>\n",
       "      <td>2046.90</td>\n",
       "      <td>...</td>\n",
       "      <td>0.01</td>\n",
       "      <td>1.24</td>\n",
       "      <td>0.71</td>\n",
       "      <td>0.10</td>\n",
       "      <td>1.04</td>\n",
       "      <td>9.80</td>\n",
       "      <td>0.81</td>\n",
       "      <td>1.00</td>\n",
       "      <td>2.30</td>\n",
       "      <td>3.76</td>\n",
       "    </tr>\n",
       "    <tr>\n",
       "      <th>2020-05-06</th>\n",
       "      <td>72.25</td>\n",
       "      <td>9.13</td>\n",
       "      <td>5.15</td>\n",
       "      <td>9253.08</td>\n",
       "      <td>-0.53</td>\n",
       "      <td>5625.49</td>\n",
       "      <td>1.63</td>\n",
       "      <td>69169621458724700815360.00</td>\n",
       "      <td>122034205213128998912.00</td>\n",
       "      <td>1993.54</td>\n",
       "      <td>...</td>\n",
       "      <td>0.01</td>\n",
       "      <td>1.24</td>\n",
       "      <td>0.71</td>\n",
       "      <td>0.10</td>\n",
       "      <td>1.03</td>\n",
       "      <td>11.40</td>\n",
       "      <td>2.91</td>\n",
       "      <td>1.00</td>\n",
       "      <td>1.22</td>\n",
       "      <td>3.64</td>\n",
       "    </tr>\n",
       "    <tr>\n",
       "      <th>2020-05-07</th>\n",
       "      <td>265.47</td>\n",
       "      <td>9.21</td>\n",
       "      <td>3.40</td>\n",
       "      <td>9982.32</td>\n",
       "      <td>-0.50</td>\n",
       "      <td>5645.90</td>\n",
       "      <td>1.68</td>\n",
       "      <td>69169621458724700815360.00</td>\n",
       "      <td>117833080558024998912.00</td>\n",
       "      <td>1925.82</td>\n",
       "      <td>...</td>\n",
       "      <td>0.01</td>\n",
       "      <td>1.23</td>\n",
       "      <td>0.71</td>\n",
       "      <td>0.10</td>\n",
       "      <td>1.03</td>\n",
       "      <td>13.80</td>\n",
       "      <td>7.59</td>\n",
       "      <td>1.00</td>\n",
       "      <td>3.47</td>\n",
       "      <td>3.92</td>\n",
       "    </tr>\n",
       "    <tr>\n",
       "      <th>2020-05-08</th>\n",
       "      <td>729.25</td>\n",
       "      <td>9.20</td>\n",
       "      <td>3.30</td>\n",
       "      <td>9854.16</td>\n",
       "      <td>-0.50</td>\n",
       "      <td>5665.30</td>\n",
       "      <td>1.75</td>\n",
       "      <td>69169621458724700815360.00</td>\n",
       "      <td>109306735643127005184.00</td>\n",
       "      <td>1816.60</td>\n",
       "      <td>...</td>\n",
       "      <td>0.01</td>\n",
       "      <td>1.24</td>\n",
       "      <td>0.72</td>\n",
       "      <td>0.10</td>\n",
       "      <td>1.03</td>\n",
       "      <td>15.20</td>\n",
       "      <td>-1.29</td>\n",
       "      <td>0.00</td>\n",
       "      <td>4.44</td>\n",
       "      <td>4.17</td>\n",
       "    </tr>\n",
       "    <tr>\n",
       "      <th>2020-05-11</th>\n",
       "      <td>-128.16</td>\n",
       "      <td>9.06</td>\n",
       "      <td>7.92</td>\n",
       "      <td>8599.78</td>\n",
       "      <td>-0.57</td>\n",
       "      <td>5668.06</td>\n",
       "      <td>1.54</td>\n",
       "      <td>69169621458724700815360.00</td>\n",
       "      <td>125958413392175005696.00</td>\n",
       "      <td>1901.10</td>\n",
       "      <td>...</td>\n",
       "      <td>0.01</td>\n",
       "      <td>1.24</td>\n",
       "      <td>0.72</td>\n",
       "      <td>0.10</td>\n",
       "      <td>1.03</td>\n",
       "      <td>20.00</td>\n",
       "      <td>-13.62</td>\n",
       "      <td>0.00</td>\n",
       "      <td>10.65</td>\n",
       "      <td>6.68</td>\n",
       "    </tr>\n",
       "  </tbody>\n",
       "</table>\n",
       "<p>5 rows × 135 columns</p>\n",
       "</div>"
      ],
      "text/plain": [
       "            Daily Return in USD  Log Price in USD  \\\n",
       "Date                                                \n",
       "2020-05-05                17.24              9.10   \n",
       "2020-05-06                72.25              9.13   \n",
       "2020-05-07               265.47              9.21   \n",
       "2020-05-08               729.25              9.20   \n",
       "2020-05-11              -128.16              9.06   \n",
       "\n",
       "            Volatility Daily Log Return in Percent 5D  market/price_usd_close  \\\n",
       "Date                                                                            \n",
       "2020-05-05                                       5.36                 8987.61   \n",
       "2020-05-06                                       5.15                 9253.08   \n",
       "2020-05-07                                       3.40                 9982.32   \n",
       "2020-05-08                                       3.30                 9854.16   \n",
       "2020-05-11                                       7.92                 8599.78   \n",
       "\n",
       "            market/price_drawdown_relative  market/price_realized_usd  \\\n",
       "Date                                                                    \n",
       "2020-05-05                           -0.55                    5614.69   \n",
       "2020-05-06                           -0.53                    5625.49   \n",
       "2020-05-07                           -0.50                    5645.90   \n",
       "2020-05-08                           -0.50                    5665.30   \n",
       "2020-05-11                           -0.57                    5668.06   \n",
       "\n",
       "            market/mvrv   mining/difficulty_latest    mining/hash_rate_mean  \\\n",
       "Date                                                                          \n",
       "2020-05-05         1.59 69169621458724700815360.00 126481026862657994752.00   \n",
       "2020-05-06         1.63 69169621458724700815360.00 122034205213128998912.00   \n",
       "2020-05-07         1.68 69169621458724700815360.00 117833080558024998912.00   \n",
       "2020-05-08         1.75 69169621458724700815360.00 109306735643127005184.00   \n",
       "2020-05-11         1.54 69169621458724700815360.00 125958413392175005696.00   \n",
       "\n",
       "            mining/revenue_sum  ...  Close JPY/USD  Close GBP/USD  \\\n",
       "Date                            ...                                 \n",
       "2020-05-05             2046.90  ...           0.01           1.24   \n",
       "2020-05-06             1993.54  ...           0.01           1.24   \n",
       "2020-05-07             1925.82  ...           0.01           1.23   \n",
       "2020-05-08             1816.60  ...           0.01           1.24   \n",
       "2020-05-11             1901.10  ...           0.01           1.24   \n",
       "\n",
       "            Close CAD/USD  Close SEK/USD  Close CHF/USD  Bitcoin Trend  \\\n",
       "Date                                                                     \n",
       "2020-05-05           0.71           0.10           1.04           9.80   \n",
       "2020-05-06           0.71           0.10           1.03          11.40   \n",
       "2020-05-07           0.71           0.10           1.03          13.80   \n",
       "2020-05-08           0.72           0.10           1.03          15.20   \n",
       "2020-05-11           0.72           0.10           1.03          20.00   \n",
       "\n",
       "            Daily Log Return in Percent  Class  \\\n",
       "Date                                             \n",
       "2020-05-05                         0.81   1.00   \n",
       "2020-05-06                         2.91   1.00   \n",
       "2020-05-07                         7.59   1.00   \n",
       "2020-05-08                        -1.29   0.00   \n",
       "2020-05-11                       -13.62   0.00   \n",
       "\n",
       "            Volatility Daily Log Return in Percent 3D  \\\n",
       "Date                                                    \n",
       "2020-05-05                                       2.30   \n",
       "2020-05-06                                       1.22   \n",
       "2020-05-07                                       3.47   \n",
       "2020-05-08                                       4.44   \n",
       "2020-05-11                                      10.65   \n",
       "\n",
       "            Volatility Daily Log Return in Percent 10D  \n",
       "Date                                                    \n",
       "2020-05-05                                        3.76  \n",
       "2020-05-06                                        3.64  \n",
       "2020-05-07                                        3.92  \n",
       "2020-05-08                                        4.17  \n",
       "2020-05-11                                        6.68  \n",
       "\n",
       "[5 rows x 135 columns]"
      ]
     },
     "execution_count": 26,
     "metadata": {},
     "output_type": "execute_result"
    }
   ],
   "source": [
    "# Check Shift\n",
    "df_dataset3_2H.tail()"
   ]
  },
  {
   "cell_type": "code",
   "execution_count": 27,
   "metadata": {},
   "outputs": [
    {
     "data": {
      "text/plain": [
       "Daily Return in USD                           1\n",
       "Log Price in USD                              0\n",
       "Volatility Daily Log Return in Percent 5D     0\n",
       "market/price_usd_close                        0\n",
       "market/price_drawdown_relative                0\n",
       "                                             ..\n",
       "Bitcoin Trend                                 0\n",
       "Daily Log Return in Percent                   0\n",
       "Class                                         0\n",
       "Volatility Daily Log Return in Percent 3D     0\n",
       "Volatility Daily Log Return in Percent 10D    0\n",
       "Length: 135, dtype: int64"
      ]
     },
     "execution_count": 27,
     "metadata": {},
     "output_type": "execute_result"
    }
   ],
   "source": [
    "# Check Empty Cells\n",
    "df_dataset3_2H.isnull().sum()"
   ]
  },
  {
   "cell_type": "code",
   "execution_count": 28,
   "metadata": {},
   "outputs": [],
   "source": [
    "# Delete Empty Row\n",
    "df_dataset3_2H = df_dataset3_2H.dropna()"
   ]
  },
  {
   "cell_type": "code",
   "execution_count": 29,
   "metadata": {},
   "outputs": [
    {
     "data": {
      "text/plain": [
       "Daily Return in USD                           0\n",
       "Log Price in USD                              0\n",
       "Volatility Daily Log Return in Percent 5D     0\n",
       "market/price_usd_close                        0\n",
       "market/price_drawdown_relative                0\n",
       "                                             ..\n",
       "Bitcoin Trend                                 0\n",
       "Daily Log Return in Percent                   0\n",
       "Class                                         0\n",
       "Volatility Daily Log Return in Percent 3D     0\n",
       "Volatility Daily Log Return in Percent 10D    0\n",
       "Length: 135, dtype: int64"
      ]
     },
     "execution_count": 29,
     "metadata": {},
     "output_type": "execute_result"
    }
   ],
   "source": [
    "# Re-Check Empty Cells\n",
    "df_dataset3_2H.isnull().sum()"
   ]
  },
  {
   "cell_type": "markdown",
   "metadata": {},
   "source": [
    "# Classification Setup"
   ]
  },
  {
   "cell_type": "markdown",
   "metadata": {},
   "source": [
    "## Categorization - Data Set III. - 1st Halving to 2nd Halving"
   ]
  },
  {
   "cell_type": "code",
   "execution_count": 30,
   "metadata": {},
   "outputs": [],
   "source": [
    "# Categorization\n",
    "# Class 1 for all Returns >= 0 USD\n",
    "df_dataset3_1H.loc[df_dataset3_1H['Daily Return in USD'] >= 0, 'Class'] = 1\n",
    "# Class 0 for all Returns < 0 USD\n",
    "df_dataset3_1H.loc[df_dataset3_1H['Daily Return in USD'] < 0, 'Class'] = 0"
   ]
  },
  {
   "cell_type": "code",
   "execution_count": 31,
   "metadata": {},
   "outputs": [
    {
     "data": {
      "text/html": [
       "<div>\n",
       "<style scoped>\n",
       "    .dataframe tbody tr th:only-of-type {\n",
       "        vertical-align: middle;\n",
       "    }\n",
       "\n",
       "    .dataframe tbody tr th {\n",
       "        vertical-align: top;\n",
       "    }\n",
       "\n",
       "    .dataframe thead th {\n",
       "        text-align: right;\n",
       "    }\n",
       "</style>\n",
       "<table border=\"1\" class=\"dataframe\">\n",
       "  <thead>\n",
       "    <tr style=\"text-align: right;\">\n",
       "      <th></th>\n",
       "      <th>Daily Return in USD</th>\n",
       "      <th>Log Price in USD</th>\n",
       "      <th>Volatility Daily Log Return in Percent 5D</th>\n",
       "      <th>market/price_usd_close</th>\n",
       "      <th>market/price_drawdown_relative</th>\n",
       "      <th>market/price_realized_usd</th>\n",
       "      <th>market/mvrv</th>\n",
       "      <th>mining/difficulty_latest</th>\n",
       "      <th>mining/hash_rate_mean</th>\n",
       "      <th>mining/revenue_sum</th>\n",
       "      <th>...</th>\n",
       "      <th>Close JPY/USD</th>\n",
       "      <th>Close GBP/USD</th>\n",
       "      <th>Close CAD/USD</th>\n",
       "      <th>Close SEK/USD</th>\n",
       "      <th>Close CHF/USD</th>\n",
       "      <th>Bitcoin Trend</th>\n",
       "      <th>Daily Log Return in Percent</th>\n",
       "      <th>Class</th>\n",
       "      <th>Volatility Daily Log Return in Percent 3D</th>\n",
       "      <th>Volatility Daily Log Return in Percent 10D</th>\n",
       "    </tr>\n",
       "    <tr>\n",
       "      <th>Date</th>\n",
       "      <th></th>\n",
       "      <th></th>\n",
       "      <th></th>\n",
       "      <th></th>\n",
       "      <th></th>\n",
       "      <th></th>\n",
       "      <th></th>\n",
       "      <th></th>\n",
       "      <th></th>\n",
       "      <th></th>\n",
       "      <th></th>\n",
       "      <th></th>\n",
       "      <th></th>\n",
       "      <th></th>\n",
       "      <th></th>\n",
       "      <th></th>\n",
       "      <th></th>\n",
       "      <th></th>\n",
       "      <th></th>\n",
       "      <th></th>\n",
       "      <th></th>\n",
       "    </tr>\n",
       "  </thead>\n",
       "  <tbody>\n",
       "    <tr>\n",
       "      <th>2012-11-30</th>\n",
       "      <td>0.15</td>\n",
       "      <td>2.53</td>\n",
       "      <td>1.75</td>\n",
       "      <td>12.55</td>\n",
       "      <td>-0.61</td>\n",
       "      <td>7.09</td>\n",
       "      <td>1.76</td>\n",
       "      <td>14770001517804900.00</td>\n",
       "      <td>21284631140125.30</td>\n",
       "      <td>3147.53</td>\n",
       "      <td>...</td>\n",
       "      <td>0.01</td>\n",
       "      <td>1.60</td>\n",
       "      <td>1.01</td>\n",
       "      <td>0.15</td>\n",
       "      <td>1.08</td>\n",
       "      <td>0.59</td>\n",
       "      <td>0.84</td>\n",
       "      <td>1.00</td>\n",
       "      <td>0.22</td>\n",
       "      <td>2.01</td>\n",
       "    </tr>\n",
       "    <tr>\n",
       "      <th>2012-12-03</th>\n",
       "      <td>0.10</td>\n",
       "      <td>2.54</td>\n",
       "      <td>0.57</td>\n",
       "      <td>12.65</td>\n",
       "      <td>-0.60</td>\n",
       "      <td>7.11</td>\n",
       "      <td>1.76</td>\n",
       "      <td>14770001517804900.00</td>\n",
       "      <td>24589626183418.60</td>\n",
       "      <td>3693.29</td>\n",
       "      <td>...</td>\n",
       "      <td>0.01</td>\n",
       "      <td>1.60</td>\n",
       "      <td>1.01</td>\n",
       "      <td>0.15</td>\n",
       "      <td>1.08</td>\n",
       "      <td>0.45</td>\n",
       "      <td>0.79</td>\n",
       "      <td>1.00</td>\n",
       "      <td>0.25</td>\n",
       "      <td>2.02</td>\n",
       "    </tr>\n",
       "    <tr>\n",
       "      <th>2012-12-05</th>\n",
       "      <td>0.22</td>\n",
       "      <td>2.58</td>\n",
       "      <td>1.48</td>\n",
       "      <td>13.20</td>\n",
       "      <td>-0.59</td>\n",
       "      <td>7.19</td>\n",
       "      <td>1.84</td>\n",
       "      <td>14770001517804900.00</td>\n",
       "      <td>19331218327420.70</td>\n",
       "      <td>3077.22</td>\n",
       "      <td>...</td>\n",
       "      <td>0.01</td>\n",
       "      <td>1.61</td>\n",
       "      <td>1.01</td>\n",
       "      <td>0.15</td>\n",
       "      <td>1.08</td>\n",
       "      <td>0.49</td>\n",
       "      <td>4.23</td>\n",
       "      <td>1.00</td>\n",
       "      <td>1.97</td>\n",
       "      <td>1.76</td>\n",
       "    </tr>\n",
       "    <tr>\n",
       "      <th>2012-12-06</th>\n",
       "      <td>-0.21</td>\n",
       "      <td>2.59</td>\n",
       "      <td>1.45</td>\n",
       "      <td>13.36</td>\n",
       "      <td>-0.58</td>\n",
       "      <td>7.22</td>\n",
       "      <td>1.86</td>\n",
       "      <td>14770001517804900.00</td>\n",
       "      <td>22333342986394.30</td>\n",
       "      <td>3456.15</td>\n",
       "      <td>...</td>\n",
       "      <td>0.01</td>\n",
       "      <td>1.61</td>\n",
       "      <td>1.01</td>\n",
       "      <td>0.15</td>\n",
       "      <td>1.08</td>\n",
       "      <td>0.54</td>\n",
       "      <td>1.18</td>\n",
       "      <td>0.00</td>\n",
       "      <td>1.89</td>\n",
       "      <td>1.72</td>\n",
       "    </tr>\n",
       "    <tr>\n",
       "      <th>2012-12-07</th>\n",
       "      <td>0.16</td>\n",
       "      <td>2.60</td>\n",
       "      <td>1.51</td>\n",
       "      <td>13.46</td>\n",
       "      <td>-0.58</td>\n",
       "      <td>7.24</td>\n",
       "      <td>1.84</td>\n",
       "      <td>14770001517804900.00</td>\n",
       "      <td>21690176744838.30</td>\n",
       "      <td>3249.33</td>\n",
       "      <td>...</td>\n",
       "      <td>0.01</td>\n",
       "      <td>1.60</td>\n",
       "      <td>1.01</td>\n",
       "      <td>0.15</td>\n",
       "      <td>1.07</td>\n",
       "      <td>0.69</td>\n",
       "      <td>0.73</td>\n",
       "      <td>1.00</td>\n",
       "      <td>1.91</td>\n",
       "      <td>1.58</td>\n",
       "    </tr>\n",
       "  </tbody>\n",
       "</table>\n",
       "<p>5 rows × 135 columns</p>\n",
       "</div>"
      ],
      "text/plain": [
       "            Daily Return in USD  Log Price in USD  \\\n",
       "Date                                                \n",
       "2012-11-30                 0.15              2.53   \n",
       "2012-12-03                 0.10              2.54   \n",
       "2012-12-05                 0.22              2.58   \n",
       "2012-12-06                -0.21              2.59   \n",
       "2012-12-07                 0.16              2.60   \n",
       "\n",
       "            Volatility Daily Log Return in Percent 5D  market/price_usd_close  \\\n",
       "Date                                                                            \n",
       "2012-11-30                                       1.75                   12.55   \n",
       "2012-12-03                                       0.57                   12.65   \n",
       "2012-12-05                                       1.48                   13.20   \n",
       "2012-12-06                                       1.45                   13.36   \n",
       "2012-12-07                                       1.51                   13.46   \n",
       "\n",
       "            market/price_drawdown_relative  market/price_realized_usd  \\\n",
       "Date                                                                    \n",
       "2012-11-30                           -0.61                       7.09   \n",
       "2012-12-03                           -0.60                       7.11   \n",
       "2012-12-05                           -0.59                       7.19   \n",
       "2012-12-06                           -0.58                       7.22   \n",
       "2012-12-07                           -0.58                       7.24   \n",
       "\n",
       "            market/mvrv  mining/difficulty_latest  mining/hash_rate_mean  \\\n",
       "Date                                                                       \n",
       "2012-11-30         1.76      14770001517804900.00      21284631140125.30   \n",
       "2012-12-03         1.76      14770001517804900.00      24589626183418.60   \n",
       "2012-12-05         1.84      14770001517804900.00      19331218327420.70   \n",
       "2012-12-06         1.86      14770001517804900.00      22333342986394.30   \n",
       "2012-12-07         1.84      14770001517804900.00      21690176744838.30   \n",
       "\n",
       "            mining/revenue_sum  ...  Close JPY/USD  Close GBP/USD  \\\n",
       "Date                            ...                                 \n",
       "2012-11-30             3147.53  ...           0.01           1.60   \n",
       "2012-12-03             3693.29  ...           0.01           1.60   \n",
       "2012-12-05             3077.22  ...           0.01           1.61   \n",
       "2012-12-06             3456.15  ...           0.01           1.61   \n",
       "2012-12-07             3249.33  ...           0.01           1.60   \n",
       "\n",
       "            Close CAD/USD  Close SEK/USD  Close CHF/USD  Bitcoin Trend  \\\n",
       "Date                                                                     \n",
       "2012-11-30           1.01           0.15           1.08           0.59   \n",
       "2012-12-03           1.01           0.15           1.08           0.45   \n",
       "2012-12-05           1.01           0.15           1.08           0.49   \n",
       "2012-12-06           1.01           0.15           1.08           0.54   \n",
       "2012-12-07           1.01           0.15           1.07           0.69   \n",
       "\n",
       "            Daily Log Return in Percent  Class  \\\n",
       "Date                                             \n",
       "2012-11-30                         0.84   1.00   \n",
       "2012-12-03                         0.79   1.00   \n",
       "2012-12-05                         4.23   1.00   \n",
       "2012-12-06                         1.18   0.00   \n",
       "2012-12-07                         0.73   1.00   \n",
       "\n",
       "            Volatility Daily Log Return in Percent 3D  \\\n",
       "Date                                                    \n",
       "2012-11-30                                       0.22   \n",
       "2012-12-03                                       0.25   \n",
       "2012-12-05                                       1.97   \n",
       "2012-12-06                                       1.89   \n",
       "2012-12-07                                       1.91   \n",
       "\n",
       "            Volatility Daily Log Return in Percent 10D  \n",
       "Date                                                    \n",
       "2012-11-30                                        2.01  \n",
       "2012-12-03                                        2.02  \n",
       "2012-12-05                                        1.76  \n",
       "2012-12-06                                        1.72  \n",
       "2012-12-07                                        1.58  \n",
       "\n",
       "[5 rows x 135 columns]"
      ]
     },
     "execution_count": 31,
     "metadata": {},
     "output_type": "execute_result"
    }
   ],
   "source": [
    "# Data Set Head\n",
    "df_dataset3_1H.head()"
   ]
  },
  {
   "cell_type": "code",
   "execution_count": 32,
   "metadata": {},
   "outputs": [],
   "source": [
    "# Delete Original Target Column\n",
    "df_dataset3_1H = df_dataset3_1H.drop(['Daily Return in USD'], axis=1)"
   ]
  },
  {
   "cell_type": "code",
   "execution_count": 33,
   "metadata": {},
   "outputs": [
    {
     "data": {
      "text/plain": [
       "1.00    482\n",
       "0.00    381\n",
       "Name: Class, dtype: int64"
      ]
     },
     "execution_count": 33,
     "metadata": {},
     "output_type": "execute_result"
    }
   ],
   "source": [
    "# Check Class Balance\n",
    "df_dataset3_1H['Class'].value_counts()"
   ]
  },
  {
   "cell_type": "code",
   "execution_count": 34,
   "metadata": {},
   "outputs": [
    {
     "data": {
      "text/html": [
       "<div>\n",
       "<style scoped>\n",
       "    .dataframe tbody tr th:only-of-type {\n",
       "        vertical-align: middle;\n",
       "    }\n",
       "\n",
       "    .dataframe tbody tr th {\n",
       "        vertical-align: top;\n",
       "    }\n",
       "\n",
       "    .dataframe thead th {\n",
       "        text-align: right;\n",
       "    }\n",
       "</style>\n",
       "<table border=\"1\" class=\"dataframe\">\n",
       "  <thead>\n",
       "    <tr style=\"text-align: right;\">\n",
       "      <th></th>\n",
       "      <th>Log Price in USD</th>\n",
       "      <th>Volatility Daily Log Return in Percent 5D</th>\n",
       "      <th>market/price_usd_close</th>\n",
       "      <th>market/price_drawdown_relative</th>\n",
       "      <th>market/price_realized_usd</th>\n",
       "      <th>market/mvrv</th>\n",
       "      <th>mining/difficulty_latest</th>\n",
       "      <th>mining/hash_rate_mean</th>\n",
       "      <th>mining/revenue_sum</th>\n",
       "      <th>mining/marketcap_thermocap_ratio</th>\n",
       "      <th>...</th>\n",
       "      <th>Close JPY/USD</th>\n",
       "      <th>Close GBP/USD</th>\n",
       "      <th>Close CAD/USD</th>\n",
       "      <th>Close SEK/USD</th>\n",
       "      <th>Close CHF/USD</th>\n",
       "      <th>Bitcoin Trend</th>\n",
       "      <th>Daily Log Return in Percent</th>\n",
       "      <th>Class</th>\n",
       "      <th>Volatility Daily Log Return in Percent 3D</th>\n",
       "      <th>Volatility Daily Log Return in Percent 10D</th>\n",
       "    </tr>\n",
       "    <tr>\n",
       "      <th>Date</th>\n",
       "      <th></th>\n",
       "      <th></th>\n",
       "      <th></th>\n",
       "      <th></th>\n",
       "      <th></th>\n",
       "      <th></th>\n",
       "      <th></th>\n",
       "      <th></th>\n",
       "      <th></th>\n",
       "      <th></th>\n",
       "      <th></th>\n",
       "      <th></th>\n",
       "      <th></th>\n",
       "      <th></th>\n",
       "      <th></th>\n",
       "      <th></th>\n",
       "      <th></th>\n",
       "      <th></th>\n",
       "      <th></th>\n",
       "      <th></th>\n",
       "      <th></th>\n",
       "    </tr>\n",
       "  </thead>\n",
       "  <tbody>\n",
       "    <tr>\n",
       "      <th>2012-11-30</th>\n",
       "      <td>2.53</td>\n",
       "      <td>1.75</td>\n",
       "      <td>12.55</td>\n",
       "      <td>-0.61</td>\n",
       "      <td>7.09</td>\n",
       "      <td>1.76</td>\n",
       "      <td>14770001517804900.00</td>\n",
       "      <td>21284631140125.30</td>\n",
       "      <td>3147.53</td>\n",
       "      <td>0.00</td>\n",
       "      <td>...</td>\n",
       "      <td>0.01</td>\n",
       "      <td>1.60</td>\n",
       "      <td>1.01</td>\n",
       "      <td>0.15</td>\n",
       "      <td>1.08</td>\n",
       "      <td>0.59</td>\n",
       "      <td>0.84</td>\n",
       "      <td>1.00</td>\n",
       "      <td>0.22</td>\n",
       "      <td>2.01</td>\n",
       "    </tr>\n",
       "    <tr>\n",
       "      <th>2012-12-03</th>\n",
       "      <td>2.54</td>\n",
       "      <td>0.57</td>\n",
       "      <td>12.65</td>\n",
       "      <td>-0.60</td>\n",
       "      <td>7.11</td>\n",
       "      <td>1.76</td>\n",
       "      <td>14770001517804900.00</td>\n",
       "      <td>24589626183418.60</td>\n",
       "      <td>3693.29</td>\n",
       "      <td>0.00</td>\n",
       "      <td>...</td>\n",
       "      <td>0.01</td>\n",
       "      <td>1.60</td>\n",
       "      <td>1.01</td>\n",
       "      <td>0.15</td>\n",
       "      <td>1.08</td>\n",
       "      <td>0.45</td>\n",
       "      <td>0.79</td>\n",
       "      <td>1.00</td>\n",
       "      <td>0.25</td>\n",
       "      <td>2.02</td>\n",
       "    </tr>\n",
       "    <tr>\n",
       "      <th>2012-12-05</th>\n",
       "      <td>2.58</td>\n",
       "      <td>1.48</td>\n",
       "      <td>13.20</td>\n",
       "      <td>-0.59</td>\n",
       "      <td>7.19</td>\n",
       "      <td>1.84</td>\n",
       "      <td>14770001517804900.00</td>\n",
       "      <td>19331218327420.70</td>\n",
       "      <td>3077.22</td>\n",
       "      <td>0.00</td>\n",
       "      <td>...</td>\n",
       "      <td>0.01</td>\n",
       "      <td>1.61</td>\n",
       "      <td>1.01</td>\n",
       "      <td>0.15</td>\n",
       "      <td>1.08</td>\n",
       "      <td>0.49</td>\n",
       "      <td>4.23</td>\n",
       "      <td>1.00</td>\n",
       "      <td>1.97</td>\n",
       "      <td>1.76</td>\n",
       "    </tr>\n",
       "    <tr>\n",
       "      <th>2012-12-06</th>\n",
       "      <td>2.59</td>\n",
       "      <td>1.45</td>\n",
       "      <td>13.36</td>\n",
       "      <td>-0.58</td>\n",
       "      <td>7.22</td>\n",
       "      <td>1.86</td>\n",
       "      <td>14770001517804900.00</td>\n",
       "      <td>22333342986394.30</td>\n",
       "      <td>3456.15</td>\n",
       "      <td>0.00</td>\n",
       "      <td>...</td>\n",
       "      <td>0.01</td>\n",
       "      <td>1.61</td>\n",
       "      <td>1.01</td>\n",
       "      <td>0.15</td>\n",
       "      <td>1.08</td>\n",
       "      <td>0.54</td>\n",
       "      <td>1.18</td>\n",
       "      <td>0.00</td>\n",
       "      <td>1.89</td>\n",
       "      <td>1.72</td>\n",
       "    </tr>\n",
       "    <tr>\n",
       "      <th>2012-12-07</th>\n",
       "      <td>2.60</td>\n",
       "      <td>1.51</td>\n",
       "      <td>13.46</td>\n",
       "      <td>-0.58</td>\n",
       "      <td>7.24</td>\n",
       "      <td>1.84</td>\n",
       "      <td>14770001517804900.00</td>\n",
       "      <td>21690176744838.30</td>\n",
       "      <td>3249.33</td>\n",
       "      <td>0.00</td>\n",
       "      <td>...</td>\n",
       "      <td>0.01</td>\n",
       "      <td>1.60</td>\n",
       "      <td>1.01</td>\n",
       "      <td>0.15</td>\n",
       "      <td>1.07</td>\n",
       "      <td>0.69</td>\n",
       "      <td>0.73</td>\n",
       "      <td>1.00</td>\n",
       "      <td>1.91</td>\n",
       "      <td>1.58</td>\n",
       "    </tr>\n",
       "  </tbody>\n",
       "</table>\n",
       "<p>5 rows × 134 columns</p>\n",
       "</div>"
      ],
      "text/plain": [
       "            Log Price in USD  Volatility Daily Log Return in Percent 5D  \\\n",
       "Date                                                                      \n",
       "2012-11-30              2.53                                       1.75   \n",
       "2012-12-03              2.54                                       0.57   \n",
       "2012-12-05              2.58                                       1.48   \n",
       "2012-12-06              2.59                                       1.45   \n",
       "2012-12-07              2.60                                       1.51   \n",
       "\n",
       "            market/price_usd_close  market/price_drawdown_relative  \\\n",
       "Date                                                                 \n",
       "2012-11-30                   12.55                           -0.61   \n",
       "2012-12-03                   12.65                           -0.60   \n",
       "2012-12-05                   13.20                           -0.59   \n",
       "2012-12-06                   13.36                           -0.58   \n",
       "2012-12-07                   13.46                           -0.58   \n",
       "\n",
       "            market/price_realized_usd  market/mvrv  mining/difficulty_latest  \\\n",
       "Date                                                                           \n",
       "2012-11-30                       7.09         1.76      14770001517804900.00   \n",
       "2012-12-03                       7.11         1.76      14770001517804900.00   \n",
       "2012-12-05                       7.19         1.84      14770001517804900.00   \n",
       "2012-12-06                       7.22         1.86      14770001517804900.00   \n",
       "2012-12-07                       7.24         1.84      14770001517804900.00   \n",
       "\n",
       "            mining/hash_rate_mean  mining/revenue_sum  \\\n",
       "Date                                                    \n",
       "2012-11-30      21284631140125.30             3147.53   \n",
       "2012-12-03      24589626183418.60             3693.29   \n",
       "2012-12-05      19331218327420.70             3077.22   \n",
       "2012-12-06      22333342986394.30             3456.15   \n",
       "2012-12-07      21690176744838.30             3249.33   \n",
       "\n",
       "            mining/marketcap_thermocap_ratio  ...  Close JPY/USD  \\\n",
       "Date                                          ...                  \n",
       "2012-11-30                              0.00  ...           0.01   \n",
       "2012-12-03                              0.00  ...           0.01   \n",
       "2012-12-05                              0.00  ...           0.01   \n",
       "2012-12-06                              0.00  ...           0.01   \n",
       "2012-12-07                              0.00  ...           0.01   \n",
       "\n",
       "            Close GBP/USD  Close CAD/USD  Close SEK/USD  Close CHF/USD  \\\n",
       "Date                                                                     \n",
       "2012-11-30           1.60           1.01           0.15           1.08   \n",
       "2012-12-03           1.60           1.01           0.15           1.08   \n",
       "2012-12-05           1.61           1.01           0.15           1.08   \n",
       "2012-12-06           1.61           1.01           0.15           1.08   \n",
       "2012-12-07           1.60           1.01           0.15           1.07   \n",
       "\n",
       "            Bitcoin Trend  Daily Log Return in Percent  Class  \\\n",
       "Date                                                            \n",
       "2012-11-30           0.59                         0.84   1.00   \n",
       "2012-12-03           0.45                         0.79   1.00   \n",
       "2012-12-05           0.49                         4.23   1.00   \n",
       "2012-12-06           0.54                         1.18   0.00   \n",
       "2012-12-07           0.69                         0.73   1.00   \n",
       "\n",
       "            Volatility Daily Log Return in Percent 3D  \\\n",
       "Date                                                    \n",
       "2012-11-30                                       0.22   \n",
       "2012-12-03                                       0.25   \n",
       "2012-12-05                                       1.97   \n",
       "2012-12-06                                       1.89   \n",
       "2012-12-07                                       1.91   \n",
       "\n",
       "            Volatility Daily Log Return in Percent 10D  \n",
       "Date                                                    \n",
       "2012-11-30                                        2.01  \n",
       "2012-12-03                                        2.02  \n",
       "2012-12-05                                        1.76  \n",
       "2012-12-06                                        1.72  \n",
       "2012-12-07                                        1.58  \n",
       "\n",
       "[5 rows x 134 columns]"
      ]
     },
     "execution_count": 34,
     "metadata": {},
     "output_type": "execute_result"
    }
   ],
   "source": [
    "# Data Set Head\n",
    "df_dataset3_1H.head()"
   ]
  },
  {
   "cell_type": "markdown",
   "metadata": {},
   "source": [
    "## Categorization - Data Set III. - 2nd Halving to 3rd Halving"
   ]
  },
  {
   "cell_type": "code",
   "execution_count": 35,
   "metadata": {},
   "outputs": [],
   "source": [
    "# Categorization\n",
    "# Class 1 for all Returns >= 0 USD\n",
    "df_dataset3_2H.loc[df_dataset3_2H['Daily Return in USD'] >= 0, 'Class'] = 1\n",
    "# Class 0 for all Returns < 0 USD\n",
    "df_dataset3_2H.loc[df_dataset3_2H['Daily Return in USD'] < 0, 'Class'] = 0"
   ]
  },
  {
   "cell_type": "code",
   "execution_count": 36,
   "metadata": {},
   "outputs": [
    {
     "data": {
      "text/html": [
       "<div>\n",
       "<style scoped>\n",
       "    .dataframe tbody tr th:only-of-type {\n",
       "        vertical-align: middle;\n",
       "    }\n",
       "\n",
       "    .dataframe tbody tr th {\n",
       "        vertical-align: top;\n",
       "    }\n",
       "\n",
       "    .dataframe thead th {\n",
       "        text-align: right;\n",
       "    }\n",
       "</style>\n",
       "<table border=\"1\" class=\"dataframe\">\n",
       "  <thead>\n",
       "    <tr style=\"text-align: right;\">\n",
       "      <th></th>\n",
       "      <th>Daily Return in USD</th>\n",
       "      <th>Log Price in USD</th>\n",
       "      <th>Volatility Daily Log Return in Percent 5D</th>\n",
       "      <th>market/price_usd_close</th>\n",
       "      <th>market/price_drawdown_relative</th>\n",
       "      <th>market/price_realized_usd</th>\n",
       "      <th>market/mvrv</th>\n",
       "      <th>mining/difficulty_latest</th>\n",
       "      <th>mining/hash_rate_mean</th>\n",
       "      <th>mining/revenue_sum</th>\n",
       "      <th>...</th>\n",
       "      <th>Close JPY/USD</th>\n",
       "      <th>Close GBP/USD</th>\n",
       "      <th>Close CAD/USD</th>\n",
       "      <th>Close SEK/USD</th>\n",
       "      <th>Close CHF/USD</th>\n",
       "      <th>Bitcoin Trend</th>\n",
       "      <th>Daily Log Return in Percent</th>\n",
       "      <th>Class</th>\n",
       "      <th>Volatility Daily Log Return in Percent 3D</th>\n",
       "      <th>Volatility Daily Log Return in Percent 10D</th>\n",
       "    </tr>\n",
       "    <tr>\n",
       "      <th>Date</th>\n",
       "      <th></th>\n",
       "      <th></th>\n",
       "      <th></th>\n",
       "      <th></th>\n",
       "      <th></th>\n",
       "      <th></th>\n",
       "      <th></th>\n",
       "      <th></th>\n",
       "      <th></th>\n",
       "      <th></th>\n",
       "      <th></th>\n",
       "      <th></th>\n",
       "      <th></th>\n",
       "      <th></th>\n",
       "      <th></th>\n",
       "      <th></th>\n",
       "      <th></th>\n",
       "      <th></th>\n",
       "      <th></th>\n",
       "      <th></th>\n",
       "      <th></th>\n",
       "    </tr>\n",
       "  </thead>\n",
       "  <tbody>\n",
       "    <tr>\n",
       "      <th>2016-07-12</th>\n",
       "      <td>-0.15</td>\n",
       "      <td>6.50</td>\n",
       "      <td>3.73</td>\n",
       "      <td>665.27</td>\n",
       "      <td>-0.43</td>\n",
       "      <td>361.45</td>\n",
       "      <td>1.82</td>\n",
       "      <td>916541405299582042112.00</td>\n",
       "      <td>1521133444260760064.00</td>\n",
       "      <td>1838.67</td>\n",
       "      <td>...</td>\n",
       "      <td>0.01</td>\n",
       "      <td>1.30</td>\n",
       "      <td>0.76</td>\n",
       "      <td>0.12</td>\n",
       "      <td>1.02</td>\n",
       "      <td>2.10</td>\n",
       "      <td>2.14</td>\n",
       "      <td>0.00</td>\n",
       "      <td>3.13</td>\n",
       "      <td>3.20</td>\n",
       "    </tr>\n",
       "    <tr>\n",
       "      <th>2016-07-13</th>\n",
       "      <td>14.12</td>\n",
       "      <td>6.48</td>\n",
       "      <td>3.70</td>\n",
       "      <td>655.21</td>\n",
       "      <td>-0.44</td>\n",
       "      <td>361.86</td>\n",
       "      <td>1.83</td>\n",
       "      <td>916541405299582042112.00</td>\n",
       "      <td>1361717452908039936.00</td>\n",
       "      <td>1665.68</td>\n",
       "      <td>...</td>\n",
       "      <td>0.01</td>\n",
       "      <td>1.33</td>\n",
       "      <td>0.77</td>\n",
       "      <td>0.12</td>\n",
       "      <td>1.01</td>\n",
       "      <td>2.16</td>\n",
       "      <td>-1.52</td>\n",
       "      <td>1.00</td>\n",
       "      <td>2.35</td>\n",
       "      <td>3.20</td>\n",
       "    </tr>\n",
       "    <tr>\n",
       "      <th>2016-07-14</th>\n",
       "      <td>-10.06</td>\n",
       "      <td>6.49</td>\n",
       "      <td>2.52</td>\n",
       "      <td>660.29</td>\n",
       "      <td>-0.43</td>\n",
       "      <td>362.01</td>\n",
       "      <td>1.82</td>\n",
       "      <td>916541405299582042112.00</td>\n",
       "      <td>1497599320306870016.00</td>\n",
       "      <td>1819.99</td>\n",
       "      <td>...</td>\n",
       "      <td>0.01</td>\n",
       "      <td>1.31</td>\n",
       "      <td>0.77</td>\n",
       "      <td>0.12</td>\n",
       "      <td>1.02</td>\n",
       "      <td>2.07</td>\n",
       "      <td>0.77</td>\n",
       "      <td>0.00</td>\n",
       "      <td>1.85</td>\n",
       "      <td>3.14</td>\n",
       "    </tr>\n",
       "    <tr>\n",
       "      <th>2016-07-15</th>\n",
       "      <td>5.08</td>\n",
       "      <td>6.50</td>\n",
       "      <td>1.83</td>\n",
       "      <td>666.43</td>\n",
       "      <td>-0.43</td>\n",
       "      <td>362.28</td>\n",
       "      <td>1.83</td>\n",
       "      <td>916541405299582042112.00</td>\n",
       "      <td>1435302118336600064.00</td>\n",
       "      <td>1742.73</td>\n",
       "      <td>...</td>\n",
       "      <td>0.01</td>\n",
       "      <td>1.34</td>\n",
       "      <td>0.77</td>\n",
       "      <td>0.12</td>\n",
       "      <td>1.02</td>\n",
       "      <td>1.89</td>\n",
       "      <td>0.93</td>\n",
       "      <td>1.00</td>\n",
       "      <td>1.37</td>\n",
       "      <td>2.62</td>\n",
       "    </tr>\n",
       "    <tr>\n",
       "      <th>2016-07-18</th>\n",
       "      <td>6.14</td>\n",
       "      <td>6.51</td>\n",
       "      <td>1.36</td>\n",
       "      <td>675.07</td>\n",
       "      <td>-0.42</td>\n",
       "      <td>363.54</td>\n",
       "      <td>1.87</td>\n",
       "      <td>916943310198014083072.00</td>\n",
       "      <td>1540237029156169984.00</td>\n",
       "      <td>1909.07</td>\n",
       "      <td>...</td>\n",
       "      <td>0.01</td>\n",
       "      <td>1.32</td>\n",
       "      <td>0.77</td>\n",
       "      <td>0.12</td>\n",
       "      <td>1.02</td>\n",
       "      <td>1.86</td>\n",
       "      <td>1.29</td>\n",
       "      <td>1.00</td>\n",
       "      <td>0.26</td>\n",
       "      <td>2.64</td>\n",
       "    </tr>\n",
       "  </tbody>\n",
       "</table>\n",
       "<p>5 rows × 135 columns</p>\n",
       "</div>"
      ],
      "text/plain": [
       "            Daily Return in USD  Log Price in USD  \\\n",
       "Date                                                \n",
       "2016-07-12                -0.15              6.50   \n",
       "2016-07-13                14.12              6.48   \n",
       "2016-07-14               -10.06              6.49   \n",
       "2016-07-15                 5.08              6.50   \n",
       "2016-07-18                 6.14              6.51   \n",
       "\n",
       "            Volatility Daily Log Return in Percent 5D  market/price_usd_close  \\\n",
       "Date                                                                            \n",
       "2016-07-12                                       3.73                  665.27   \n",
       "2016-07-13                                       3.70                  655.21   \n",
       "2016-07-14                                       2.52                  660.29   \n",
       "2016-07-15                                       1.83                  666.43   \n",
       "2016-07-18                                       1.36                  675.07   \n",
       "\n",
       "            market/price_drawdown_relative  market/price_realized_usd  \\\n",
       "Date                                                                    \n",
       "2016-07-12                           -0.43                     361.45   \n",
       "2016-07-13                           -0.44                     361.86   \n",
       "2016-07-14                           -0.43                     362.01   \n",
       "2016-07-15                           -0.43                     362.28   \n",
       "2016-07-18                           -0.42                     363.54   \n",
       "\n",
       "            market/mvrv  mining/difficulty_latest  mining/hash_rate_mean  \\\n",
       "Date                                                                       \n",
       "2016-07-12         1.82  916541405299582042112.00 1521133444260760064.00   \n",
       "2016-07-13         1.83  916541405299582042112.00 1361717452908039936.00   \n",
       "2016-07-14         1.82  916541405299582042112.00 1497599320306870016.00   \n",
       "2016-07-15         1.83  916541405299582042112.00 1435302118336600064.00   \n",
       "2016-07-18         1.87  916943310198014083072.00 1540237029156169984.00   \n",
       "\n",
       "            mining/revenue_sum  ...  Close JPY/USD  Close GBP/USD  \\\n",
       "Date                            ...                                 \n",
       "2016-07-12             1838.67  ...           0.01           1.30   \n",
       "2016-07-13             1665.68  ...           0.01           1.33   \n",
       "2016-07-14             1819.99  ...           0.01           1.31   \n",
       "2016-07-15             1742.73  ...           0.01           1.34   \n",
       "2016-07-18             1909.07  ...           0.01           1.32   \n",
       "\n",
       "            Close CAD/USD  Close SEK/USD  Close CHF/USD  Bitcoin Trend  \\\n",
       "Date                                                                     \n",
       "2016-07-12           0.76           0.12           1.02           2.10   \n",
       "2016-07-13           0.77           0.12           1.01           2.16   \n",
       "2016-07-14           0.77           0.12           1.02           2.07   \n",
       "2016-07-15           0.77           0.12           1.02           1.89   \n",
       "2016-07-18           0.77           0.12           1.02           1.86   \n",
       "\n",
       "            Daily Log Return in Percent  Class  \\\n",
       "Date                                             \n",
       "2016-07-12                         2.14   0.00   \n",
       "2016-07-13                        -1.52   1.00   \n",
       "2016-07-14                         0.77   0.00   \n",
       "2016-07-15                         0.93   1.00   \n",
       "2016-07-18                         1.29   1.00   \n",
       "\n",
       "            Volatility Daily Log Return in Percent 3D  \\\n",
       "Date                                                    \n",
       "2016-07-12                                       3.13   \n",
       "2016-07-13                                       2.35   \n",
       "2016-07-14                                       1.85   \n",
       "2016-07-15                                       1.37   \n",
       "2016-07-18                                       0.26   \n",
       "\n",
       "            Volatility Daily Log Return in Percent 10D  \n",
       "Date                                                    \n",
       "2016-07-12                                        3.20  \n",
       "2016-07-13                                        3.20  \n",
       "2016-07-14                                        3.14  \n",
       "2016-07-15                                        2.62  \n",
       "2016-07-18                                        2.64  \n",
       "\n",
       "[5 rows x 135 columns]"
      ]
     },
     "execution_count": 36,
     "metadata": {},
     "output_type": "execute_result"
    }
   ],
   "source": [
    "# Data Set Head\n",
    "df_dataset3_2H.head()"
   ]
  },
  {
   "cell_type": "code",
   "execution_count": 37,
   "metadata": {},
   "outputs": [],
   "source": [
    "# Delete Original Target Column\n",
    "df_dataset3_2H = df_dataset3_2H.drop(['Daily Return in USD'], axis=1)"
   ]
  },
  {
   "cell_type": "code",
   "execution_count": 38,
   "metadata": {},
   "outputs": [
    {
     "data": {
      "text/plain": [
       "1.00    497\n",
       "0.00    419\n",
       "Name: Class, dtype: int64"
      ]
     },
     "execution_count": 38,
     "metadata": {},
     "output_type": "execute_result"
    }
   ],
   "source": [
    "# Check Class Balance\n",
    "df_dataset3_2H['Class'].value_counts()"
   ]
  },
  {
   "cell_type": "code",
   "execution_count": 39,
   "metadata": {},
   "outputs": [
    {
     "data": {
      "text/html": [
       "<div>\n",
       "<style scoped>\n",
       "    .dataframe tbody tr th:only-of-type {\n",
       "        vertical-align: middle;\n",
       "    }\n",
       "\n",
       "    .dataframe tbody tr th {\n",
       "        vertical-align: top;\n",
       "    }\n",
       "\n",
       "    .dataframe thead th {\n",
       "        text-align: right;\n",
       "    }\n",
       "</style>\n",
       "<table border=\"1\" class=\"dataframe\">\n",
       "  <thead>\n",
       "    <tr style=\"text-align: right;\">\n",
       "      <th></th>\n",
       "      <th>Log Price in USD</th>\n",
       "      <th>Volatility Daily Log Return in Percent 5D</th>\n",
       "      <th>market/price_usd_close</th>\n",
       "      <th>market/price_drawdown_relative</th>\n",
       "      <th>market/price_realized_usd</th>\n",
       "      <th>market/mvrv</th>\n",
       "      <th>mining/difficulty_latest</th>\n",
       "      <th>mining/hash_rate_mean</th>\n",
       "      <th>mining/revenue_sum</th>\n",
       "      <th>mining/marketcap_thermocap_ratio</th>\n",
       "      <th>...</th>\n",
       "      <th>Close JPY/USD</th>\n",
       "      <th>Close GBP/USD</th>\n",
       "      <th>Close CAD/USD</th>\n",
       "      <th>Close SEK/USD</th>\n",
       "      <th>Close CHF/USD</th>\n",
       "      <th>Bitcoin Trend</th>\n",
       "      <th>Daily Log Return in Percent</th>\n",
       "      <th>Class</th>\n",
       "      <th>Volatility Daily Log Return in Percent 3D</th>\n",
       "      <th>Volatility Daily Log Return in Percent 10D</th>\n",
       "    </tr>\n",
       "    <tr>\n",
       "      <th>Date</th>\n",
       "      <th></th>\n",
       "      <th></th>\n",
       "      <th></th>\n",
       "      <th></th>\n",
       "      <th></th>\n",
       "      <th></th>\n",
       "      <th></th>\n",
       "      <th></th>\n",
       "      <th></th>\n",
       "      <th></th>\n",
       "      <th></th>\n",
       "      <th></th>\n",
       "      <th></th>\n",
       "      <th></th>\n",
       "      <th></th>\n",
       "      <th></th>\n",
       "      <th></th>\n",
       "      <th></th>\n",
       "      <th></th>\n",
       "      <th></th>\n",
       "      <th></th>\n",
       "    </tr>\n",
       "  </thead>\n",
       "  <tbody>\n",
       "    <tr>\n",
       "      <th>2016-07-12</th>\n",
       "      <td>6.50</td>\n",
       "      <td>3.73</td>\n",
       "      <td>665.27</td>\n",
       "      <td>-0.43</td>\n",
       "      <td>361.45</td>\n",
       "      <td>1.82</td>\n",
       "      <td>916541405299582042112.00</td>\n",
       "      <td>1521133444260760064.00</td>\n",
       "      <td>1838.67</td>\n",
       "      <td>0.00</td>\n",
       "      <td>...</td>\n",
       "      <td>0.01</td>\n",
       "      <td>1.30</td>\n",
       "      <td>0.76</td>\n",
       "      <td>0.12</td>\n",
       "      <td>1.02</td>\n",
       "      <td>2.10</td>\n",
       "      <td>2.14</td>\n",
       "      <td>0.00</td>\n",
       "      <td>3.13</td>\n",
       "      <td>3.20</td>\n",
       "    </tr>\n",
       "    <tr>\n",
       "      <th>2016-07-13</th>\n",
       "      <td>6.48</td>\n",
       "      <td>3.70</td>\n",
       "      <td>655.21</td>\n",
       "      <td>-0.44</td>\n",
       "      <td>361.86</td>\n",
       "      <td>1.83</td>\n",
       "      <td>916541405299582042112.00</td>\n",
       "      <td>1361717452908039936.00</td>\n",
       "      <td>1665.68</td>\n",
       "      <td>0.00</td>\n",
       "      <td>...</td>\n",
       "      <td>0.01</td>\n",
       "      <td>1.33</td>\n",
       "      <td>0.77</td>\n",
       "      <td>0.12</td>\n",
       "      <td>1.01</td>\n",
       "      <td>2.16</td>\n",
       "      <td>-1.52</td>\n",
       "      <td>1.00</td>\n",
       "      <td>2.35</td>\n",
       "      <td>3.20</td>\n",
       "    </tr>\n",
       "    <tr>\n",
       "      <th>2016-07-14</th>\n",
       "      <td>6.49</td>\n",
       "      <td>2.52</td>\n",
       "      <td>660.29</td>\n",
       "      <td>-0.43</td>\n",
       "      <td>362.01</td>\n",
       "      <td>1.82</td>\n",
       "      <td>916541405299582042112.00</td>\n",
       "      <td>1497599320306870016.00</td>\n",
       "      <td>1819.99</td>\n",
       "      <td>0.00</td>\n",
       "      <td>...</td>\n",
       "      <td>0.01</td>\n",
       "      <td>1.31</td>\n",
       "      <td>0.77</td>\n",
       "      <td>0.12</td>\n",
       "      <td>1.02</td>\n",
       "      <td>2.07</td>\n",
       "      <td>0.77</td>\n",
       "      <td>0.00</td>\n",
       "      <td>1.85</td>\n",
       "      <td>3.14</td>\n",
       "    </tr>\n",
       "    <tr>\n",
       "      <th>2016-07-15</th>\n",
       "      <td>6.50</td>\n",
       "      <td>1.83</td>\n",
       "      <td>666.43</td>\n",
       "      <td>-0.43</td>\n",
       "      <td>362.28</td>\n",
       "      <td>1.83</td>\n",
       "      <td>916541405299582042112.00</td>\n",
       "      <td>1435302118336600064.00</td>\n",
       "      <td>1742.73</td>\n",
       "      <td>0.00</td>\n",
       "      <td>...</td>\n",
       "      <td>0.01</td>\n",
       "      <td>1.34</td>\n",
       "      <td>0.77</td>\n",
       "      <td>0.12</td>\n",
       "      <td>1.02</td>\n",
       "      <td>1.89</td>\n",
       "      <td>0.93</td>\n",
       "      <td>1.00</td>\n",
       "      <td>1.37</td>\n",
       "      <td>2.62</td>\n",
       "    </tr>\n",
       "    <tr>\n",
       "      <th>2016-07-18</th>\n",
       "      <td>6.51</td>\n",
       "      <td>1.36</td>\n",
       "      <td>675.07</td>\n",
       "      <td>-0.42</td>\n",
       "      <td>363.54</td>\n",
       "      <td>1.87</td>\n",
       "      <td>916943310198014083072.00</td>\n",
       "      <td>1540237029156169984.00</td>\n",
       "      <td>1909.07</td>\n",
       "      <td>0.00</td>\n",
       "      <td>...</td>\n",
       "      <td>0.01</td>\n",
       "      <td>1.32</td>\n",
       "      <td>0.77</td>\n",
       "      <td>0.12</td>\n",
       "      <td>1.02</td>\n",
       "      <td>1.86</td>\n",
       "      <td>1.29</td>\n",
       "      <td>1.00</td>\n",
       "      <td>0.26</td>\n",
       "      <td>2.64</td>\n",
       "    </tr>\n",
       "  </tbody>\n",
       "</table>\n",
       "<p>5 rows × 134 columns</p>\n",
       "</div>"
      ],
      "text/plain": [
       "            Log Price in USD  Volatility Daily Log Return in Percent 5D  \\\n",
       "Date                                                                      \n",
       "2016-07-12              6.50                                       3.73   \n",
       "2016-07-13              6.48                                       3.70   \n",
       "2016-07-14              6.49                                       2.52   \n",
       "2016-07-15              6.50                                       1.83   \n",
       "2016-07-18              6.51                                       1.36   \n",
       "\n",
       "            market/price_usd_close  market/price_drawdown_relative  \\\n",
       "Date                                                                 \n",
       "2016-07-12                  665.27                           -0.43   \n",
       "2016-07-13                  655.21                           -0.44   \n",
       "2016-07-14                  660.29                           -0.43   \n",
       "2016-07-15                  666.43                           -0.43   \n",
       "2016-07-18                  675.07                           -0.42   \n",
       "\n",
       "            market/price_realized_usd  market/mvrv  mining/difficulty_latest  \\\n",
       "Date                                                                           \n",
       "2016-07-12                     361.45         1.82  916541405299582042112.00   \n",
       "2016-07-13                     361.86         1.83  916541405299582042112.00   \n",
       "2016-07-14                     362.01         1.82  916541405299582042112.00   \n",
       "2016-07-15                     362.28         1.83  916541405299582042112.00   \n",
       "2016-07-18                     363.54         1.87  916943310198014083072.00   \n",
       "\n",
       "            mining/hash_rate_mean  mining/revenue_sum  \\\n",
       "Date                                                    \n",
       "2016-07-12 1521133444260760064.00             1838.67   \n",
       "2016-07-13 1361717452908039936.00             1665.68   \n",
       "2016-07-14 1497599320306870016.00             1819.99   \n",
       "2016-07-15 1435302118336600064.00             1742.73   \n",
       "2016-07-18 1540237029156169984.00             1909.07   \n",
       "\n",
       "            mining/marketcap_thermocap_ratio  ...  Close JPY/USD  \\\n",
       "Date                                          ...                  \n",
       "2016-07-12                              0.00  ...           0.01   \n",
       "2016-07-13                              0.00  ...           0.01   \n",
       "2016-07-14                              0.00  ...           0.01   \n",
       "2016-07-15                              0.00  ...           0.01   \n",
       "2016-07-18                              0.00  ...           0.01   \n",
       "\n",
       "            Close GBP/USD  Close CAD/USD  Close SEK/USD  Close CHF/USD  \\\n",
       "Date                                                                     \n",
       "2016-07-12           1.30           0.76           0.12           1.02   \n",
       "2016-07-13           1.33           0.77           0.12           1.01   \n",
       "2016-07-14           1.31           0.77           0.12           1.02   \n",
       "2016-07-15           1.34           0.77           0.12           1.02   \n",
       "2016-07-18           1.32           0.77           0.12           1.02   \n",
       "\n",
       "            Bitcoin Trend  Daily Log Return in Percent  Class  \\\n",
       "Date                                                            \n",
       "2016-07-12           2.10                         2.14   0.00   \n",
       "2016-07-13           2.16                        -1.52   1.00   \n",
       "2016-07-14           2.07                         0.77   0.00   \n",
       "2016-07-15           1.89                         0.93   1.00   \n",
       "2016-07-18           1.86                         1.29   1.00   \n",
       "\n",
       "            Volatility Daily Log Return in Percent 3D  \\\n",
       "Date                                                    \n",
       "2016-07-12                                       3.13   \n",
       "2016-07-13                                       2.35   \n",
       "2016-07-14                                       1.85   \n",
       "2016-07-15                                       1.37   \n",
       "2016-07-18                                       0.26   \n",
       "\n",
       "            Volatility Daily Log Return in Percent 10D  \n",
       "Date                                                    \n",
       "2016-07-12                                        3.20  \n",
       "2016-07-13                                        3.20  \n",
       "2016-07-14                                        3.14  \n",
       "2016-07-15                                        2.62  \n",
       "2016-07-18                                        2.64  \n",
       "\n",
       "[5 rows x 134 columns]"
      ]
     },
     "execution_count": 39,
     "metadata": {},
     "output_type": "execute_result"
    }
   ],
   "source": [
    "# Data Set Head\n",
    "df_dataset3_2H.head()"
   ]
  },
  {
   "cell_type": "markdown",
   "metadata": {},
   "source": [
    "# Model Preparation - Data Set III. - 1st Halving to 2nd Halving"
   ]
  },
  {
   "cell_type": "markdown",
   "metadata": {},
   "source": [
    "## Train Test Split - Data Set III. - 1st Halving to 2nd Halving"
   ]
  },
  {
   "cell_type": "code",
   "execution_count": 40,
   "metadata": {},
   "outputs": [],
   "source": [
    "# Setup of Predictors (Indpendent Variables) by Excluding Target Variable\n",
    "predictors = df_dataset3_1H.drop(['Class'], axis=1).values.astype(np.float32)"
   ]
  },
  {
   "cell_type": "code",
   "execution_count": 41,
   "metadata": {},
   "outputs": [],
   "source": [
    "# Setup of Categorized Target Variable\n",
    "target = df_dataset3_1H['Class'].astype(np.float32)"
   ]
  },
  {
   "cell_type": "code",
   "execution_count": 42,
   "metadata": {},
   "outputs": [
    {
     "data": {
      "text/plain": [
       "(863, 133)"
      ]
     },
     "execution_count": 42,
     "metadata": {},
     "output_type": "execute_result"
    }
   ],
   "source": [
    "# Predictor Dimensions\n",
    "predictors.shape"
   ]
  },
  {
   "cell_type": "code",
   "execution_count": 43,
   "metadata": {},
   "outputs": [
    {
     "data": {
      "text/plain": [
       "(863,)"
      ]
     },
     "execution_count": 43,
     "metadata": {},
     "output_type": "execute_result"
    }
   ],
   "source": [
    "# Target Dimensions\n",
    "target.shape"
   ]
  },
  {
   "cell_type": "code",
   "execution_count": 44,
   "metadata": {},
   "outputs": [],
   "source": [
    "# Train-Test-Split Function to Create Training and Test Data Set\n",
    "X_train, X_test, y_train, y_test = train_test_split(predictors, target, test_size=0.3, random_state = 41, stratify=target)"
   ]
  },
  {
   "cell_type": "code",
   "execution_count": 45,
   "metadata": {},
   "outputs": [
    {
     "data": {
      "text/plain": [
       "(604, 133)"
      ]
     },
     "execution_count": 45,
     "metadata": {},
     "output_type": "execute_result"
    }
   ],
   "source": [
    "# Dimensions of Predictors for Training\n",
    "X_train.shape"
   ]
  },
  {
   "cell_type": "code",
   "execution_count": 46,
   "metadata": {},
   "outputs": [
    {
     "data": {
      "text/plain": [
       "(604,)"
      ]
     },
     "execution_count": 46,
     "metadata": {},
     "output_type": "execute_result"
    }
   ],
   "source": [
    "# Dimensions of Target for Training\n",
    "y_train.shape"
   ]
  },
  {
   "cell_type": "code",
   "execution_count": 47,
   "metadata": {},
   "outputs": [
    {
     "data": {
      "text/plain": [
       "133"
      ]
     },
     "execution_count": 47,
     "metadata": {},
     "output_type": "execute_result"
    }
   ],
   "source": [
    "# Number of Predictors\n",
    "n_nodes = predictors.shape[1]\n",
    "n_nodes"
   ]
  },
  {
   "cell_type": "markdown",
   "metadata": {},
   "source": [
    "### Check of Class Balance"
   ]
  },
  {
   "cell_type": "code",
   "execution_count": 48,
   "metadata": {},
   "outputs": [
    {
     "data": {
      "text/plain": [
       "267"
      ]
     },
     "execution_count": 48,
     "metadata": {},
     "output_type": "execute_result"
    }
   ],
   "source": [
    "# Check Training Target of Class 0\n",
    "y_train[y_train==0].count()"
   ]
  },
  {
   "cell_type": "code",
   "execution_count": 49,
   "metadata": {},
   "outputs": [
    {
     "data": {
      "text/plain": [
       "337"
      ]
     },
     "execution_count": 49,
     "metadata": {},
     "output_type": "execute_result"
    }
   ],
   "source": [
    "# Check Training Target of Class 1\n",
    "y_train[y_train==1].count()"
   ]
  },
  {
   "cell_type": "code",
   "execution_count": 50,
   "metadata": {},
   "outputs": [
    {
     "data": {
      "text/plain": [
       "114"
      ]
     },
     "execution_count": 50,
     "metadata": {},
     "output_type": "execute_result"
    }
   ],
   "source": [
    "# Check Test Target of Class 0\n",
    "y_test[y_test==0].count()"
   ]
  },
  {
   "cell_type": "code",
   "execution_count": 51,
   "metadata": {},
   "outputs": [
    {
     "data": {
      "text/plain": [
       "145"
      ]
     },
     "execution_count": 51,
     "metadata": {},
     "output_type": "execute_result"
    }
   ],
   "source": [
    "# Check Test Target of Class 1\n",
    "y_test[y_test==1].count()"
   ]
  },
  {
   "cell_type": "markdown",
   "metadata": {},
   "source": [
    "## Data Set III. Feature Scaling - 1st Halving to 2nd Halving"
   ]
  },
  {
   "cell_type": "code",
   "execution_count": 52,
   "metadata": {},
   "outputs": [],
   "source": [
    "# Instantiation of MinMaxScaler and StandardSacler\n",
    "norm_scaler = MinMaxScaler()\n",
    "#std_scaler = StandardScaler()"
   ]
  },
  {
   "cell_type": "code",
   "execution_count": 53,
   "metadata": {},
   "outputs": [],
   "source": [
    "# Scaler Training and Transformation of Training Set\n",
    "X_train_scaled = pd.DataFrame(norm_scaler.fit_transform(X_train))"
   ]
  },
  {
   "cell_type": "code",
   "execution_count": 54,
   "metadata": {},
   "outputs": [],
   "source": [
    "# Scaler Transformation of Test Set\n",
    "X_test_scaled = norm_scaler.transform(X_test)"
   ]
  },
  {
   "cell_type": "code",
   "execution_count": 55,
   "metadata": {},
   "outputs": [
    {
     "data": {
      "text/plain": [
       "array([[0.65144676, 0.05811039, 0.19973388, ..., 0.64941615, 0.06049944,\n",
       "        0.05779058],\n",
       "       [0.7581573 , 0.02646179, 0.32965136, ..., 0.5634856 , 0.02101776,\n",
       "        0.07828151],\n",
       "       [0.7226203 , 0.08099729, 0.2793094 , ..., 0.52286065, 0.07282718,\n",
       "        0.08106211],\n",
       "       ...,\n",
       "       [0.68625396, 0.1214798 , 0.23547924, ..., 0.57692856, 0.13669346,\n",
       "        0.12337809],\n",
       "       [0.6987694 , 0.05849206, 0.24976186, ..., 0.61268556, 0.06378868,\n",
       "        0.0736761 ],\n",
       "       [0.9527728 , 0.08898389, 0.8065427 , ..., 0.7693668 , 0.11335642,\n",
       "        0.49644783]], dtype=float32)"
      ]
     },
     "execution_count": 55,
     "metadata": {},
     "output_type": "execute_result"
    }
   ],
   "source": [
    "# Scaled Test Features\n",
    "X_test_scaled"
   ]
  },
  {
   "cell_type": "code",
   "execution_count": 56,
   "metadata": {},
   "outputs": [],
   "source": [
    "# Scaler Transformation of Entire Training Set - Input for Cross-Validation\n",
    "predictors_scaled = norm_scaler.transform(predictors)"
   ]
  },
  {
   "cell_type": "markdown",
   "metadata": {},
   "source": [
    "# Classification Models - Data Set III. - 1st Halving to 2nd Halving"
   ]
  },
  {
   "cell_type": "code",
   "execution_count": 57,
   "metadata": {},
   "outputs": [],
   "source": [
    "# Function To Show Accuracy Mean and Accuracy Standard Deviation\n",
    "def show_scores(scores):\n",
    "    # Scores Series\n",
    "    print('Scores:', scores)\n",
    "    # Score Mean\n",
    "    print('Mean:', np.mean(scores))\n",
    "    # Score Standard Deviation\n",
    "    print('Standard Deviation:', np.std(scores))"
   ]
  },
  {
   "cell_type": "code",
   "execution_count": 58,
   "metadata": {},
   "outputs": [
    {
     "data": {
      "image/png": "[encoded data removed]",
      "text/plain": [
       "<Figure size 1080x288 with 1 Axes>"
      ]
     },
     "metadata": {
      "needs_background": "light"
     },
     "output_type": "display_data"
    }
   ],
   "source": [
    "# Sample Plot of a Logit Function\n",
    "\n",
    "# X-Value Range\n",
    "x = np.linspace(-10, 10, 150)\n",
    "\n",
    "# Y-Value Calculation\n",
    "p = 1/(1 + np.exp(-x)) \n",
    "\n",
    "# Plot Settings\n",
    "_ = plt.figure(figsize=(15, 4))\n",
    "_ = plt.axvline(x=0, color='gray',linestyle='--')\n",
    "_ = plt.axhline(y=0.5, color='gray',linestyle='--')\n",
    "_ = plt.plot(x, p)\n",
    "_ = plt.xlabel(\"Output Value\") \n",
    "_ = plt.ylabel(\"Sigmoid (Output Value)\") \n",
    "\n",
    "# Save Plot as JPEG\n",
    "#plt.savefig('Graphics/Sigmoid.jpg', dpi=300)\n",
    "\n",
    "# Plot Output\n",
    "plt.show()"
   ]
  },
  {
   "cell_type": "markdown",
   "metadata": {},
   "source": [
    "## Logistic Regression - Data Set III. - 1st Halving to 2nd Halving"
   ]
  },
  {
   "cell_type": "code",
   "execution_count": 59,
   "metadata": {},
   "outputs": [],
   "source": [
    "# Instantiate Classifier - LogisticRegression\n",
    "lreg = LogisticRegression(max_iter=1200)"
   ]
  },
  {
   "cell_type": "code",
   "execution_count": 60,
   "metadata": {},
   "outputs": [
    {
     "data": {
      "text/plain": [
       "LogisticRegression(max_iter=1200)"
      ]
     },
     "execution_count": 60,
     "metadata": {},
     "output_type": "execute_result"
    }
   ],
   "source": [
    "# Train Classifier\n",
    "lreg.fit(X_train_scaled, y_train)"
   ]
  },
  {
   "cell_type": "code",
   "execution_count": 61,
   "metadata": {},
   "outputs": [],
   "source": [
    "# Prediction of Classes\n",
    "y_pred = lreg.predict(X_test_scaled)"
   ]
  },
  {
   "cell_type": "code",
   "execution_count": 62,
   "metadata": {},
   "outputs": [],
   "source": [
    "# Prediction of Probabilities\n",
    "y_pred_prob = lreg.predict_proba(X_test_scaled)[:,1]"
   ]
  },
  {
   "cell_type": "code",
   "execution_count": 63,
   "metadata": {},
   "outputs": [
    {
     "data": {
      "text/plain": [
       "array([0.37191071, 0.38709739, 0.43992125, 0.66775806, 0.84614341,\n",
       "       0.5393156 , 0.50674681, 0.63491303, 0.63201659, 0.68561093])"
      ]
     },
     "execution_count": 63,
     "metadata": {},
     "output_type": "execute_result"
    }
   ],
   "source": [
    "# Select Predicted Probabilities\n",
    "y_pred_prob[1:11]"
   ]
  },
  {
   "cell_type": "code",
   "execution_count": 64,
   "metadata": {},
   "outputs": [
    {
     "data": {
      "text/plain": [
       "array([1., 0., 1., 1., 1., 0., 0., 0., 1., 0.], dtype=float32)"
      ]
     },
     "execution_count": 64,
     "metadata": {},
     "output_type": "execute_result"
    }
   ],
   "source": [
    "# Select Actual Classes\n",
    "np.array(y_test[1:11])"
   ]
  },
  {
   "cell_type": "code",
   "execution_count": 65,
   "metadata": {},
   "outputs": [
    {
     "data": {
      "text/plain": [
       "0.6837748344370861"
      ]
     },
     "execution_count": 65,
     "metadata": {},
     "output_type": "execute_result"
    }
   ],
   "source": [
    "# Train Accuracy\n",
    "lreg.score(X_train_scaled, y_train)"
   ]
  },
  {
   "cell_type": "code",
   "execution_count": 66,
   "metadata": {},
   "outputs": [
    {
     "data": {
      "text/plain": [
       "0.5945945945945946"
      ]
     },
     "execution_count": 66,
     "metadata": {},
     "output_type": "execute_result"
    }
   ],
   "source": [
    "# Test Accuracy\n",
    "lreg.score(X_test_scaled, y_test)"
   ]
  },
  {
   "cell_type": "code",
   "execution_count": 67,
   "metadata": {},
   "outputs": [
    {
     "name": "stdout",
     "output_type": "stream",
     "text": [
      "[[55 59]\n",
      " [46 99]]\n"
     ]
    }
   ],
   "source": [
    "# Output of Confusion Matrix\n",
    "print(confusion_matrix(y_test, y_pred))"
   ]
  },
  {
   "cell_type": "code",
   "execution_count": 68,
   "metadata": {},
   "outputs": [
    {
     "name": "stdout",
     "output_type": "stream",
     "text": [
      "              precision    recall  f1-score   support\n",
      "\n",
      "         0.0       0.54      0.48      0.51       114\n",
      "         1.0       0.63      0.68      0.65       145\n",
      "\n",
      "    accuracy                           0.59       259\n",
      "   macro avg       0.59      0.58      0.58       259\n",
      "weighted avg       0.59      0.59      0.59       259\n",
      "\n"
     ]
    }
   ],
   "source": [
    "# Output of Classification Report\n",
    "print(classification_report(y_test, y_pred))"
   ]
  },
  {
   "cell_type": "code",
   "execution_count": 69,
   "metadata": {},
   "outputs": [],
   "source": [
    "# Generate ROC curve values: fpr, tpr, thresholds\n",
    "fpr, tpr, thresholds = roc_curve(y_test, y_pred_prob)"
   ]
  },
  {
   "cell_type": "code",
   "execution_count": 70,
   "metadata": {},
   "outputs": [
    {
     "data": {
      "image/png": "[encoded data removed]",
      "text/plain": [
       "<Figure size 432x288 with 1 Axes>"
      ]
     },
     "metadata": {
      "needs_background": "light"
     },
     "output_type": "display_data"
    }
   ],
   "source": [
    "# Plot of ROC curve\n",
    "_ = plt.plot([0, 1], [0, 1])\n",
    "_ = plt.plot(fpr, tpr)\n",
    "_ = plt.xlabel('False Positive Rate')\n",
    "_ = plt.ylabel('True Positive Rate')\n",
    "_ = plt.title('Receiver Operating Characteristic (ROC) Curve')\n",
    "plt.show()"
   ]
  },
  {
   "cell_type": "code",
   "execution_count": 71,
   "metadata": {},
   "outputs": [],
   "source": [
    "# 10-fold Cross Validation including Stratification\n",
    "skf = StratifiedKFold(shuffle=True, n_splits=10)"
   ]
  },
  {
   "cell_type": "code",
   "execution_count": 72,
   "metadata": {},
   "outputs": [
    {
     "name": "stdout",
     "output_type": "stream",
     "text": [
      "AUC: 0.633091349062311\n"
     ]
    }
   ],
   "source": [
    "# Compute and print AUC Score\n",
    "print(\"AUC: {}\".format(roc_auc_score(y_test, y_pred_prob)))"
   ]
  },
  {
   "cell_type": "code",
   "execution_count": 73,
   "metadata": {},
   "outputs": [],
   "source": [
    "# Cross-Validation for AUC scores\n",
    "cv_auc = cross_val_score(lreg, predictors_scaled, target, cv=skf, scoring='roc_auc')"
   ]
  },
  {
   "cell_type": "code",
   "execution_count": 74,
   "metadata": {},
   "outputs": [
    {
     "name": "stdout",
     "output_type": "stream",
     "text": [
      "AUC scores computed using 10-fold cross-validation: [0.62191192 0.73630505 0.66292735 0.70942982 0.625      0.69462719\n",
      " 0.71217105 0.5504386  0.65734649 0.65241228]\n"
     ]
    }
   ],
   "source": [
    "# Print List of AUC scores\n",
    "print(\"AUC scores computed using 10-fold cross-validation: {}\".format(cv_auc))"
   ]
  },
  {
   "cell_type": "code",
   "execution_count": 75,
   "metadata": {},
   "outputs": [],
   "source": [
    "# Cross-Validation for Accuracy Scores\n",
    "cv_acc = cross_val_score(lreg, predictors_scaled, target, cv=skf, scoring='accuracy')"
   ]
  },
  {
   "cell_type": "code",
   "execution_count": 76,
   "metadata": {},
   "outputs": [
    {
     "name": "stdout",
     "output_type": "stream",
     "text": [
      "Accuracy scores computed using 10-fold cross-validation: [0.57471264 0.66666667 0.66666667 0.54651163 0.62790698 0.60465116\n",
      " 0.61627907 0.5        0.6744186  0.63953488]\n"
     ]
    }
   ],
   "source": [
    "# Print List of Accuracy Scores\n",
    "print(\"Accuracy scores computed using 10-fold cross-validation: {}\".format(cv_acc))"
   ]
  },
  {
   "cell_type": "code",
   "execution_count": 77,
   "metadata": {},
   "outputs": [
    {
     "name": "stdout",
     "output_type": "stream",
     "text": [
      "Scores: [0.57471264 0.66666667 0.66666667 0.54651163 0.62790698 0.60465116\n",
      " 0.61627907 0.5        0.6744186  0.63953488]\n",
      "Mean: 0.611734830259289\n",
      "Standard Deviation: 0.054017459532551056\n"
     ]
    }
   ],
   "source": [
    "# Accuracy Results - Mean and Standard Deviation\n",
    "show_scores(cv_acc)"
   ]
  },
  {
   "cell_type": "markdown",
   "metadata": {},
   "source": [
    "## Decision Tree Classifier - Data Set III. - 1st Halving to 2nd Halving"
   ]
  },
  {
   "cell_type": "code",
   "execution_count": 78,
   "metadata": {},
   "outputs": [],
   "source": [
    "# Instantiate Classifier - Decision Tree\n",
    "dtc = DecisionTreeClassifier(criterion='gini', max_depth=2)"
   ]
  },
  {
   "cell_type": "code",
   "execution_count": 79,
   "metadata": {},
   "outputs": [
    {
     "data": {
      "text/plain": [
       "DecisionTreeClassifier(max_depth=2)"
      ]
     },
     "execution_count": 79,
     "metadata": {},
     "output_type": "execute_result"
    }
   ],
   "source": [
    "# Train Classifier\n",
    "dtc.fit(X_train_scaled, y_train)"
   ]
  },
  {
   "cell_type": "code",
   "execution_count": 80,
   "metadata": {},
   "outputs": [],
   "source": [
    "# Prediction of Classes\n",
    "y_pred = dtc.predict(X_test_scaled)"
   ]
  },
  {
   "cell_type": "code",
   "execution_count": 81,
   "metadata": {},
   "outputs": [],
   "source": [
    "# Prediction of Probabilities\n",
    "y_pred_prob = dtc.predict_proba(X_test_scaled)[:,1]"
   ]
  },
  {
   "cell_type": "code",
   "execution_count": 82,
   "metadata": {},
   "outputs": [
    {
     "data": {
      "text/plain": [
       "array([0.432     , 0.432     , 0.38888889, 0.432     , 0.80116959,\n",
       "       0.432     , 0.432     , 0.432     , 0.432     , 0.432     ])"
      ]
     },
     "execution_count": 82,
     "metadata": {},
     "output_type": "execute_result"
    }
   ],
   "source": [
    "# Select Predicted Probabilities\n",
    "y_pred_prob[1:11]"
   ]
  },
  {
   "cell_type": "code",
   "execution_count": 83,
   "metadata": {},
   "outputs": [
    {
     "data": {
      "text/plain": [
       "0.6490066225165563"
      ]
     },
     "execution_count": 83,
     "metadata": {},
     "output_type": "execute_result"
    }
   ],
   "source": [
    "# Train Accuracy\n",
    "dtc.score(X_train_scaled, y_train)"
   ]
  },
  {
   "cell_type": "code",
   "execution_count": 84,
   "metadata": {},
   "outputs": [
    {
     "data": {
      "text/plain": [
       "0.5752895752895753"
      ]
     },
     "execution_count": 84,
     "metadata": {},
     "output_type": "execute_result"
    }
   ],
   "source": [
    "# Test Accuracy\n",
    "dtc.score(X_test_scaled, y_test)"
   ]
  },
  {
   "cell_type": "code",
   "execution_count": 85,
   "metadata": {},
   "outputs": [
    {
     "data": {
      "image/png": "[encoded data removed]",
      "text/plain": [
       "<Figure size 1080x288 with 1 Axes>"
      ]
     },
     "metadata": {
      "needs_background": "light"
     },
     "output_type": "display_data"
    }
   ],
   "source": [
    "# Range of Maximum Tree Depth Size\n",
    "max_depth = np.arange(1, 11)\n",
    "\n",
    "# Array Setup to Store Training and Test Accuracies\n",
    "train_accuracy = np.empty(len(max_depth))\n",
    "test_accuracy = np.empty(len(max_depth))\n",
    "\n",
    "# For Loop over Maximum Depth Size Range\n",
    "for i, n in enumerate(max_depth):\n",
    "    \n",
    "    # Instantiation of Decision Tree Classifier with Depth Size = n\n",
    "    dtc = DecisionTreeClassifier(max_depth = n)\n",
    "\n",
    "    # Training of Classifier\n",
    "    dtc.fit(X_train_scaled, y_train)\n",
    "    \n",
    "    # Training Accuracy based on Varying Depth Size\n",
    "    train_accuracy[i] = dtc.score(X_train_scaled, y_train)\n",
    "\n",
    "    # Testing Accuracy based on Varying Depth Size\n",
    "    test_accuracy[i] = dtc.score(X_test_scaled, y_test)\n",
    "\n",
    "# Generate plot\n",
    "_ = plt.figure(figsize=(15, 4))\n",
    "_ = plt.title('Varying Number of Maximum Depth')\n",
    "_ = plt.plot(max_depth, test_accuracy, label = 'Testing Accuracy')\n",
    "_ = plt.plot(max_depth, train_accuracy, label = 'Training Accuracy')\n",
    "_ = plt.xlabel('Maximum Depth')\n",
    "_ = plt.ylabel('Accuracy')\n",
    "_ = plt.legend()\n",
    "\n",
    "# Save Plot as JPEG\n",
    "plt.savefig('Graphics/DecisionTreeTraining_03.jpg', dpi=300)\n",
    "\n",
    "# Display Plot\n",
    "plt.show()"
   ]
  },
  {
   "cell_type": "code",
   "execution_count": 86,
   "metadata": {},
   "outputs": [
    {
     "name": "stdout",
     "output_type": "stream",
     "text": [
      "[[88 26]\n",
      " [84 61]]\n"
     ]
    }
   ],
   "source": [
    "# Output of Confusion Matrix\n",
    "print(confusion_matrix(y_test, y_pred))"
   ]
  },
  {
   "cell_type": "code",
   "execution_count": 87,
   "metadata": {},
   "outputs": [
    {
     "name": "stdout",
     "output_type": "stream",
     "text": [
      "              precision    recall  f1-score   support\n",
      "\n",
      "         0.0       0.51      0.77      0.62       114\n",
      "         1.0       0.70      0.42      0.53       145\n",
      "\n",
      "    accuracy                           0.58       259\n",
      "   macro avg       0.61      0.60      0.57       259\n",
      "weighted avg       0.62      0.58      0.57       259\n",
      "\n"
     ]
    }
   ],
   "source": [
    "# Output of Classification Report\n",
    "print(classification_report(y_test, y_pred))"
   ]
  },
  {
   "cell_type": "code",
   "execution_count": 88,
   "metadata": {},
   "outputs": [],
   "source": [
    "# Generate ROC curve values: fpr, tpr, thresholds\n",
    "fpr, tpr, thresholds = roc_curve(y_test, y_pred_prob)"
   ]
  },
  {
   "cell_type": "code",
   "execution_count": 89,
   "metadata": {},
   "outputs": [
    {
     "data": {
      "image/png": "[encoded data removed]",
      "text/plain": [
       "<Figure size 432x288 with 1 Axes>"
      ]
     },
     "metadata": {
      "needs_background": "light"
     },
     "output_type": "display_data"
    }
   ],
   "source": [
    "# Plot of ROC curve\n",
    "_ = plt.plot([0, 1], [0, 1])\n",
    "_ = plt.plot(fpr, tpr)\n",
    "_ = plt.xlabel('False Positive Rate')\n",
    "_ = plt.ylabel('True Positive Rate')\n",
    "_ = plt.title('Receiver Operating Characteristic (ROC) Curve')\n",
    "plt.show()"
   ]
  },
  {
   "cell_type": "code",
   "execution_count": 90,
   "metadata": {},
   "outputs": [],
   "source": [
    "# 10-fold Cross Validation including Stratification\n",
    "skf = StratifiedKFold(shuffle=True, n_splits=10)"
   ]
  },
  {
   "cell_type": "code",
   "execution_count": 91,
   "metadata": {},
   "outputs": [
    {
     "name": "stdout",
     "output_type": "stream",
     "text": [
      "AUC: 0.6010889292196008\n"
     ]
    }
   ],
   "source": [
    "# Compute and print AUC score\n",
    "print(\"AUC: {}\".format(roc_auc_score(y_test, y_pred_prob)))"
   ]
  },
  {
   "cell_type": "code",
   "execution_count": 92,
   "metadata": {},
   "outputs": [],
   "source": [
    "# Cross-Validation for AUC scores\n",
    "cv_auc = cross_val_score(dtc, predictors_scaled, target, cv=skf, scoring='roc_auc')"
   ]
  },
  {
   "cell_type": "code",
   "execution_count": 93,
   "metadata": {},
   "outputs": [
    {
     "name": "stdout",
     "output_type": "stream",
     "text": [
      "AUC scores computed using 10-fold cross-validation: [0.57330827 0.45273899 0.60042735 0.55838816 0.59813596 0.56907895\n",
      " 0.52028509 0.58662281 0.50438596 0.42105263]\n"
     ]
    }
   ],
   "source": [
    "# Print List of AUC scores\n",
    "print(\"AUC scores computed using 10-fold cross-validation: {}\".format(cv_auc))"
   ]
  },
  {
   "cell_type": "code",
   "execution_count": 94,
   "metadata": {},
   "outputs": [],
   "source": [
    "# Cross-Validation for Accuracy Scores\n",
    "cv_acc = cross_val_score(dtc, predictors_scaled, target, cv=skf, scoring='accuracy')"
   ]
  },
  {
   "cell_type": "code",
   "execution_count": 95,
   "metadata": {},
   "outputs": [
    {
     "name": "stdout",
     "output_type": "stream",
     "text": [
      "Accuracy scores computed using 10-fold cross-validation: [0.50574713 0.51724138 0.55172414 0.5        0.56976744 0.58139535\n",
      " 0.53488372 0.54651163 0.6744186  0.62790698]\n"
     ]
    }
   ],
   "source": [
    "# Print List of Accuracy Scores\n",
    "print(\"Accuracy scores computed using 10-fold cross-validation: {}\".format(cv_acc))"
   ]
  },
  {
   "cell_type": "code",
   "execution_count": 96,
   "metadata": {},
   "outputs": [
    {
     "name": "stdout",
     "output_type": "stream",
     "text": [
      "Scores: [0.50574713 0.51724138 0.55172414 0.5        0.56976744 0.58139535\n",
      " 0.53488372 0.54651163 0.6744186  0.62790698]\n",
      "Mean: 0.5609596364608395\n",
      "Standard Deviation: 0.05244030598119296\n"
     ]
    }
   ],
   "source": [
    "# Accuracy Results - Mean and Standard Deviation\n",
    "show_scores(cv_acc)"
   ]
  },
  {
   "cell_type": "markdown",
   "metadata": {},
   "source": [
    "## Random Forest Classifier - Data Set III. - 1st Halving to 2nd Halving"
   ]
  },
  {
   "cell_type": "code",
   "execution_count": 97,
   "metadata": {},
   "outputs": [],
   "source": [
    "# Instantiate Classifier - Random Forest\n",
    "rfc = RandomForestClassifier(n_estimators=100, max_leaf_nodes=None, criterion='gini', max_depth=3, random_state=41)"
   ]
  },
  {
   "cell_type": "code",
   "execution_count": 98,
   "metadata": {},
   "outputs": [
    {
     "data": {
      "text/plain": [
       "RandomForestClassifier(max_depth=3, random_state=41)"
      ]
     },
     "execution_count": 98,
     "metadata": {},
     "output_type": "execute_result"
    }
   ],
   "source": [
    "# Train Classifier\n",
    "rfc.fit(X_train_scaled, y_train)"
   ]
  },
  {
   "cell_type": "code",
   "execution_count": 99,
   "metadata": {},
   "outputs": [],
   "source": [
    "# Prediction of Classes\n",
    "y_pred = rfc.predict(X_test_scaled)"
   ]
  },
  {
   "cell_type": "code",
   "execution_count": 100,
   "metadata": {},
   "outputs": [],
   "source": [
    "# Prediction of Probabilities\n",
    "y_pred_prob = rfc.predict_proba(X_test_scaled)[:,1]"
   ]
  },
  {
   "cell_type": "code",
   "execution_count": 101,
   "metadata": {},
   "outputs": [
    {
     "data": {
      "text/plain": [
       "array([0.39419785, 0.42435179, 0.48716482, 0.59387518, 0.8430963 ,\n",
       "       0.51353589, 0.44667899, 0.56516506, 0.63883827, 0.53360071])"
      ]
     },
     "execution_count": 101,
     "metadata": {},
     "output_type": "execute_result"
    }
   ],
   "source": [
    "# Select Predicted Probabilities\n",
    "y_pred_prob[1:11]"
   ]
  },
  {
   "cell_type": "code",
   "execution_count": 102,
   "metadata": {},
   "outputs": [
    {
     "data": {
      "text/plain": [
       "0.7251655629139073"
      ]
     },
     "execution_count": 102,
     "metadata": {},
     "output_type": "execute_result"
    }
   ],
   "source": [
    "# Train Accuracy\n",
    "rfc.score(X_train_scaled, y_train)"
   ]
  },
  {
   "cell_type": "code",
   "execution_count": 103,
   "metadata": {},
   "outputs": [
    {
     "data": {
      "text/plain": [
       "0.5945945945945946"
      ]
     },
     "execution_count": 103,
     "metadata": {},
     "output_type": "execute_result"
    }
   ],
   "source": [
    "# Test Accuracy\n",
    "rfc.score(X_test_scaled, y_test)"
   ]
  },
  {
   "cell_type": "code",
   "execution_count": 104,
   "metadata": {},
   "outputs": [
    {
     "name": "stdout",
     "output_type": "stream",
     "text": [
      "[[57 57]\n",
      " [48 97]]\n"
     ]
    }
   ],
   "source": [
    "# Output of Confusion Matrix\n",
    "print(confusion_matrix(y_test, y_pred))"
   ]
  },
  {
   "cell_type": "code",
   "execution_count": 105,
   "metadata": {},
   "outputs": [
    {
     "name": "stdout",
     "output_type": "stream",
     "text": [
      "              precision    recall  f1-score   support\n",
      "\n",
      "         0.0       0.54      0.50      0.52       114\n",
      "         1.0       0.63      0.67      0.65       145\n",
      "\n",
      "    accuracy                           0.59       259\n",
      "   macro avg       0.59      0.58      0.58       259\n",
      "weighted avg       0.59      0.59      0.59       259\n",
      "\n"
     ]
    }
   ],
   "source": [
    "# Output of Classification Report\n",
    "print(classification_report(y_test, y_pred))"
   ]
  },
  {
   "cell_type": "code",
   "execution_count": 106,
   "metadata": {},
   "outputs": [],
   "source": [
    "# Generate ROC curve values: fpr, tpr, thresholds\n",
    "fpr, tpr, thresholds = roc_curve(y_test, y_pred_prob)"
   ]
  },
  {
   "cell_type": "code",
   "execution_count": 107,
   "metadata": {},
   "outputs": [
    {
     "data": {
      "image/png": "[encoded data removed]",
      "text/plain": [
       "<Figure size 432x288 with 1 Axes>"
      ]
     },
     "metadata": {
      "needs_background": "light"
     },
     "output_type": "display_data"
    }
   ],
   "source": [
    "# Plot of ROC curve\n",
    "_ = plt.plot([0, 1], [0, 1])\n",
    "_ = plt.plot(fpr, tpr)\n",
    "_ = plt.xlabel('False Positive Rate')\n",
    "_ = plt.ylabel('True Positive Rate')\n",
    "_ = plt.title('Receiver Operating Characteristic (ROC) Curve')\n",
    "plt.show()"
   ]
  },
  {
   "cell_type": "code",
   "execution_count": 108,
   "metadata": {},
   "outputs": [],
   "source": [
    "# 10-fold Cross Validation including Stratification\n",
    "skf = StratifiedKFold(shuffle=True, n_splits=10)"
   ]
  },
  {
   "cell_type": "code",
   "execution_count": 109,
   "metadata": {},
   "outputs": [
    {
     "name": "stdout",
     "output_type": "stream",
     "text": [
      "AUC: 0.622444041137326\n"
     ]
    }
   ],
   "source": [
    "# Compute and print AUC score\n",
    "print(\"AUC: {}\".format(roc_auc_score(y_test, y_pred_prob)))"
   ]
  },
  {
   "cell_type": "code",
   "execution_count": 110,
   "metadata": {},
   "outputs": [],
   "source": [
    "# Cross-Validation for AUC scores\n",
    "cv_auc = cross_val_score(rfc, predictors_scaled, target, cv=skf, scoring='roc_auc')"
   ]
  },
  {
   "cell_type": "code",
   "execution_count": 111,
   "metadata": {},
   "outputs": [
    {
     "name": "stdout",
     "output_type": "stream",
     "text": [
      "AUC scores computed using 10-fold cross-validation: [0.65252417 0.72234157 0.68108974 0.79276316 0.64254386 0.67050439\n",
      " 0.58717105 0.55811404 0.55537281 0.70285088]\n"
     ]
    }
   ],
   "source": [
    "# Print List of AUC scores\n",
    "print(\"AUC scores computed using 10-fold cross-validation: {}\".format(cv_auc))"
   ]
  },
  {
   "cell_type": "code",
   "execution_count": 112,
   "metadata": {},
   "outputs": [],
   "source": [
    "# Cross-Validation for Accuracy Scores\n",
    "cv_acc = cross_val_score(rfc, predictors_scaled, target, cv=skf, scoring='accuracy')"
   ]
  },
  {
   "cell_type": "code",
   "execution_count": 113,
   "metadata": {},
   "outputs": [
    {
     "name": "stdout",
     "output_type": "stream",
     "text": [
      "Accuracy scores computed using 10-fold cross-validation: [0.55172414 0.64367816 0.65517241 0.58139535 0.58139535 0.59302326\n",
      " 0.59302326 0.63953488 0.48837209 0.61627907]\n"
     ]
    }
   ],
   "source": [
    "# Print List of Accuracy Scores\n",
    "print(\"Accuracy scores computed using 10-fold cross-validation: {}\".format(cv_acc))"
   ]
  },
  {
   "cell_type": "code",
   "execution_count": 114,
   "metadata": {},
   "outputs": [
    {
     "name": "stdout",
     "output_type": "stream",
     "text": [
      "Scores: [0.55172414 0.64367816 0.65517241 0.58139535 0.58139535 0.59302326\n",
      " 0.59302326 0.63953488 0.48837209 0.61627907]\n",
      "Mean: 0.5943597968457632\n",
      "Standard Deviation: 0.04694958753316639\n"
     ]
    }
   ],
   "source": [
    "# Accuracy Results - Mean and Standard Deviation\n",
    "show_scores(cv_acc)"
   ]
  },
  {
   "cell_type": "markdown",
   "metadata": {},
   "source": [
    "## K-Nearest Neighbors - Data Set III. - 1st Halving to 2nd Halving"
   ]
  },
  {
   "cell_type": "code",
   "execution_count": 115,
   "metadata": {},
   "outputs": [],
   "source": [
    "# Instantiate Classifier - K-Nearest Neighbors\n",
    "knn = KNeighborsClassifier(n_neighbors=79)"
   ]
  },
  {
   "cell_type": "code",
   "execution_count": 116,
   "metadata": {},
   "outputs": [
    {
     "data": {
      "text/plain": [
       "KNeighborsClassifier(n_neighbors=79)"
      ]
     },
     "execution_count": 116,
     "metadata": {},
     "output_type": "execute_result"
    }
   ],
   "source": [
    "# Train Classifier\n",
    "knn.fit(X_train_scaled, y_train) "
   ]
  },
  {
   "cell_type": "code",
   "execution_count": 117,
   "metadata": {},
   "outputs": [],
   "source": [
    "# Prediction of Classes\n",
    "y_pred = knn.predict(X_test_scaled)"
   ]
  },
  {
   "cell_type": "code",
   "execution_count": 118,
   "metadata": {},
   "outputs": [],
   "source": [
    "# Prediction of Probabilities\n",
    "y_pred_prob = knn.predict_proba(X_test_scaled)[:, 1]"
   ]
  },
  {
   "cell_type": "code",
   "execution_count": 119,
   "metadata": {},
   "outputs": [
    {
     "data": {
      "text/plain": [
       "array([0.37974684, 0.40506329, 0.50632911, 0.59493671, 0.73417722,\n",
       "       0.53164557, 0.48101266, 0.51898734, 0.64556962, 0.49367089])"
      ]
     },
     "execution_count": 119,
     "metadata": {},
     "output_type": "execute_result"
    }
   ],
   "source": [
    "# Select Predicted Probabilities\n",
    "y_pred_prob[1:11]"
   ]
  },
  {
   "cell_type": "code",
   "execution_count": 120,
   "metadata": {},
   "outputs": [
    {
     "data": {
      "text/plain": [
       "0.5993377483443708"
      ]
     },
     "execution_count": 120,
     "metadata": {},
     "output_type": "execute_result"
    }
   ],
   "source": [
    "# Train Accuracy\n",
    "knn.score(X_train_scaled, y_train)"
   ]
  },
  {
   "cell_type": "code",
   "execution_count": 121,
   "metadata": {},
   "outputs": [
    {
     "data": {
      "text/plain": [
       "0.5984555984555985"
      ]
     },
     "execution_count": 121,
     "metadata": {},
     "output_type": "execute_result"
    }
   ],
   "source": [
    "# Test Accuracy\n",
    "knn.score(X_test_scaled, y_test)"
   ]
  },
  {
   "cell_type": "code",
   "execution_count": 122,
   "metadata": {},
   "outputs": [
    {
     "data": {
      "image/png": "[encoded data removed]",
      "text/plain": [
       "<Figure size 1080x288 with 1 Axes>"
      ]
     },
     "metadata": {
      "needs_background": "light"
     },
     "output_type": "display_data"
    }
   ],
   "source": [
    "# Array Setup to Store Training and Test Accuracies, plus Range Definition of K-Neighbors\n",
    "neighbors = np.arange(1, 101)\n",
    "train_accuracy = np.empty(len(neighbors))\n",
    "test_accuracy = np.empty(len(neighbors))\n",
    "\n",
    "# Loop over Different Number of K-Kneighbors\n",
    "for i, k in enumerate(neighbors):\n",
    "    \n",
    "    # Instantiation a K-NN Classifier with K-Neighbors\n",
    "    knn = KNeighborsClassifier(n_neighbors = k)\n",
    "\n",
    "    # Training of Classifier\n",
    "    knn.fit(X_train_scaled, y_train)\n",
    "    \n",
    "    # Training Accuracy based on Varying Number of K-Neighbors\n",
    "    train_accuracy[i] = knn.score(X_train_scaled, y_train)\n",
    "\n",
    "    # Training Accuracy based on Varying Number of K-Neighbors\n",
    "    test_accuracy[i] = knn.score(X_test_scaled, y_test)\n",
    "\n",
    "# Generate plot\n",
    "_ = plt.figure(figsize=(15, 4))\n",
    "_ = plt.title('Varying Number of K Neighbors')\n",
    "_ = plt.plot(neighbors, test_accuracy, label = 'Testing Accuracy')\n",
    "_ = plt.plot(neighbors, train_accuracy, label = 'Training Accuracy')\n",
    "_ = plt.legend()\n",
    "_ = plt.xlabel('Number of Nearest Neighbors')\n",
    "_ = plt.ylabel('Accuracy')\n",
    "\n",
    "# Save Plot as JPEG\n",
    "plt.savefig('Graphics/KNN_Training_03.jpg', dpi=300)\n",
    "\n",
    "\n",
    "# Display Plot\n",
    "plt.show()"
   ]
  },
  {
   "cell_type": "code",
   "execution_count": 123,
   "metadata": {},
   "outputs": [
    {
     "name": "stdout",
     "output_type": "stream",
     "text": [
      "[[ 48  66]\n",
      " [ 38 107]]\n"
     ]
    }
   ],
   "source": [
    "# Output of Confusion Matrix\n",
    "print(confusion_matrix(y_test, y_pred))"
   ]
  },
  {
   "cell_type": "code",
   "execution_count": 124,
   "metadata": {},
   "outputs": [
    {
     "name": "stdout",
     "output_type": "stream",
     "text": [
      "              precision    recall  f1-score   support\n",
      "\n",
      "         0.0       0.56      0.42      0.48       114\n",
      "         1.0       0.62      0.74      0.67       145\n",
      "\n",
      "    accuracy                           0.60       259\n",
      "   macro avg       0.59      0.58      0.58       259\n",
      "weighted avg       0.59      0.60      0.59       259\n",
      "\n"
     ]
    }
   ],
   "source": [
    "# Output of Classification Report\n",
    "print(classification_report(y_test, y_pred))"
   ]
  },
  {
   "cell_type": "code",
   "execution_count": 125,
   "metadata": {},
   "outputs": [],
   "source": [
    "# Generate ROC curve values: fpr, tpr, thresholds\n",
    "fpr, tpr, thresholds = roc_curve(y_test, y_pred_prob)"
   ]
  },
  {
   "cell_type": "code",
   "execution_count": 126,
   "metadata": {},
   "outputs": [
    {
     "data": {
      "image/png": "[encoded data removed]",
      "text/plain": [
       "<Figure size 432x288 with 1 Axes>"
      ]
     },
     "metadata": {
      "needs_background": "light"
     },
     "output_type": "display_data"
    }
   ],
   "source": [
    "# Plot of ROC curve\n",
    "_ = plt.plot([0, 1], [0, 1])\n",
    "_ = plt.plot(fpr, tpr)\n",
    "_ = plt.xlabel('False Positive Rate')\n",
    "_ = plt.ylabel('True Positive Rate')\n",
    "_ = plt.title('Receiver Operating Characteristic (ROC) Curve')\n",
    "plt.show()"
   ]
  },
  {
   "cell_type": "code",
   "execution_count": 127,
   "metadata": {},
   "outputs": [],
   "source": [
    "# 10-fold Cross Validation including Stratification\n",
    "skf = StratifiedKFold(shuffle=True, n_splits=10)"
   ]
  },
  {
   "cell_type": "code",
   "execution_count": 128,
   "metadata": {},
   "outputs": [
    {
     "name": "stdout",
     "output_type": "stream",
     "text": [
      "AUC: 0.5726557773744706\n"
     ]
    }
   ],
   "source": [
    "# Compute and print AUC score\n",
    "print(\"AUC: {}\".format(roc_auc_score(y_test, y_pred_prob)))"
   ]
  },
  {
   "cell_type": "code",
   "execution_count": 129,
   "metadata": {},
   "outputs": [],
   "source": [
    "# Cross-Validation for AUC scores\n",
    "cv_auc = cross_val_score(knn, predictors_scaled, target, cv=skf, scoring='roc_auc')"
   ]
  },
  {
   "cell_type": "code",
   "execution_count": 130,
   "metadata": {},
   "outputs": [
    {
     "name": "stdout",
     "output_type": "stream",
     "text": [
      "AUC scores computed using 10-fold cross-validation: [0.69253491 0.63050483 0.66746795 0.61759868 0.61567982 0.6598136\n",
      " 0.56222588 0.55729167 0.4591557  0.66940789]\n"
     ]
    }
   ],
   "source": [
    "# Print List of AUC scores\n",
    "print(\"AUC scores computed using 10-fold cross-validation: {}\".format(cv_auc))"
   ]
  },
  {
   "cell_type": "code",
   "execution_count": 131,
   "metadata": {},
   "outputs": [],
   "source": [
    "# Cross-Validation for Accuracy Scores\n",
    "cv_acc = cross_val_score(knn, predictors_scaled, target, cv=skf, scoring='accuracy')"
   ]
  },
  {
   "cell_type": "code",
   "execution_count": 132,
   "metadata": {},
   "outputs": [
    {
     "name": "stdout",
     "output_type": "stream",
     "text": [
      "Accuracy scores computed using 10-fold cross-validation: [0.47126437 0.62068966 0.62068966 0.61627907 0.5        0.65116279\n",
      " 0.59302326 0.55813953 0.61627907 0.56976744]\n"
     ]
    }
   ],
   "source": [
    "# Print List of Accuracy Scores\n",
    "print(\"Accuracy scores computed using 10-fold cross-validation: {}\".format(cv_acc))"
   ]
  },
  {
   "cell_type": "code",
   "execution_count": 133,
   "metadata": {},
   "outputs": [
    {
     "name": "stdout",
     "output_type": "stream",
     "text": [
      "Scores: [0.47126437 0.62068966 0.62068966 0.61627907 0.5        0.65116279\n",
      " 0.59302326 0.55813953 0.61627907 0.56976744]\n",
      "Mean: 0.5817294840951618\n",
      "Standard Deviation: 0.0547297885886812\n"
     ]
    }
   ],
   "source": [
    "# Accuracy Results - Mean and Standard Deviation\n",
    "show_scores(cv_acc)"
   ]
  },
  {
   "cell_type": "markdown",
   "metadata": {},
   "source": [
    "## Artificial Neural Networks - Data Set III. - 1st Halving to 2nd Halving"
   ]
  },
  {
   "cell_type": "markdown",
   "metadata": {},
   "source": [
    "### Artificial Neural Network - Experiments"
   ]
  },
  {
   "cell_type": "code",
   "execution_count": 134,
   "metadata": {},
   "outputs": [],
   "source": [
    "# Instantiate Sequential Model    \n",
    "ann_model = Sequential()\n",
    "    \n",
    "# Layers: Input Layer plus 3 Hidden Dense layers of 300, 200 and 100 neurons each\n",
    "ann_model.add(Dense(300, input_shape= (n_nodes, )))\n",
    "ann_model.add(Dense(200, activation = 'relu'))\n",
    "ann_model.add(Dense(100, activation = 'relu'))\n",
    "ann_model.add(Dense(50, activation = 'relu'))\n",
    "    \n",
    "# Output Layer with 1 Neuron for Binary Classification, either Positive or Negative\n",
    "ann_model.add(Dense(1, activation = 'sigmoid'))"
   ]
  },
  {
   "cell_type": "code",
   "execution_count": 135,
   "metadata": {},
   "outputs": [
    {
     "name": "stdout",
     "output_type": "stream",
     "text": [
      "Model: \"sequential\"\n",
      "_________________________________________________________________\n",
      "Layer (type)                 Output Shape              Param #   \n",
      "=================================================================\n",
      "dense (Dense)                (None, 300)               40200     \n",
      "_________________________________________________________________\n",
      "dense_1 (Dense)              (None, 200)               60200     \n",
      "_________________________________________________________________\n",
      "dense_2 (Dense)              (None, 100)               20100     \n",
      "_________________________________________________________________\n",
      "dense_3 (Dense)              (None, 50)                5050      \n",
      "_________________________________________________________________\n",
      "dense_4 (Dense)              (None, 1)                 51        \n",
      "=================================================================\n",
      "Total params: 125,601\n",
      "Trainable params: 125,601\n",
      "Non-trainable params: 0\n",
      "_________________________________________________________________\n"
     ]
    }
   ],
   "source": [
    "# Display Artificial Neural Network Structure\n",
    "ann_model.summary()"
   ]
  },
  {
   "cell_type": "code",
   "execution_count": 136,
   "metadata": {},
   "outputs": [],
   "source": [
    "# Compile ANN-Model using Stochastic Gradient Descent as Optimizer and Binary Crossentropy as Loss Fucntion\n",
    "ann_model.compile(loss='binary_crossentropy', optimizer='SGD', metrics=['accuracy'])"
   ]
  },
  {
   "cell_type": "code",
   "execution_count": 137,
   "metadata": {},
   "outputs": [
    {
     "name": "stdout",
     "output_type": "stream",
     "text": [
      "Epoch 1/50\n",
      "16/16 [==============================] - 0s 13ms/step - loss: 0.6839 - accuracy: 0.5652 - val_loss: 0.6933 - val_accuracy: 0.5289\n",
      "Epoch 2/50\n",
      "16/16 [==============================] - 0s 3ms/step - loss: 0.6795 - accuracy: 0.5652 - val_loss: 0.6850 - val_accuracy: 0.5289\n",
      "Epoch 3/50\n",
      "16/16 [==============================] - 0s 4ms/step - loss: 0.6766 - accuracy: 0.5652 - val_loss: 0.6822 - val_accuracy: 0.5289\n",
      "Epoch 4/50\n",
      "16/16 [==============================] - 0s 4ms/step - loss: 0.6754 - accuracy: 0.5652 - val_loss: 0.6820 - val_accuracy: 0.5289\n",
      "Epoch 5/50\n",
      "16/16 [==============================] - 0s 4ms/step - loss: 0.6733 - accuracy: 0.5652 - val_loss: 0.6826 - val_accuracy: 0.5289\n",
      "Epoch 6/50\n",
      "16/16 [==============================] - 0s 4ms/step - loss: 0.6718 - accuracy: 0.5652 - val_loss: 0.6803 - val_accuracy: 0.5289\n",
      "Epoch 7/50\n",
      "16/16 [==============================] - 0s 4ms/step - loss: 0.6703 - accuracy: 0.5652 - val_loss: 0.6803 - val_accuracy: 0.5289\n",
      "Epoch 8/50\n",
      "16/16 [==============================] - 0s 4ms/step - loss: 0.6693 - accuracy: 0.5652 - val_loss: 0.6832 - val_accuracy: 0.5289\n",
      "Epoch 9/50\n",
      "16/16 [==============================] - 0s 5ms/step - loss: 0.6685 - accuracy: 0.5673 - val_loss: 0.6786 - val_accuracy: 0.5207\n",
      "Epoch 10/50\n",
      "16/16 [==============================] - 0s 4ms/step - loss: 0.6673 - accuracy: 0.5673 - val_loss: 0.6800 - val_accuracy: 0.5207\n",
      "Epoch 11/50\n",
      "16/16 [==============================] - 0s 4ms/step - loss: 0.6663 - accuracy: 0.5673 - val_loss: 0.6770 - val_accuracy: 0.5289\n",
      "Epoch 12/50\n",
      "16/16 [==============================] - 0s 3ms/step - loss: 0.6653 - accuracy: 0.5756 - val_loss: 0.6764 - val_accuracy: 0.5289\n",
      "Epoch 13/50\n",
      "16/16 [==============================] - 0s 4ms/step - loss: 0.6644 - accuracy: 0.5901 - val_loss: 0.6782 - val_accuracy: 0.5289\n",
      "Epoch 14/50\n",
      "16/16 [==============================] - 0s 3ms/step - loss: 0.6628 - accuracy: 0.5880 - val_loss: 0.6780 - val_accuracy: 0.5289\n",
      "Epoch 15/50\n",
      "16/16 [==============================] - 0s 4ms/step - loss: 0.6622 - accuracy: 0.5859 - val_loss: 0.6785 - val_accuracy: 0.5289\n",
      "Epoch 16/50\n",
      "16/16 [==============================] - 0s 4ms/step - loss: 0.6612 - accuracy: 0.5839 - val_loss: 0.6708 - val_accuracy: 0.5537\n",
      "Epoch 17/50\n",
      "16/16 [==============================] - 0s 4ms/step - loss: 0.6607 - accuracy: 0.5983 - val_loss: 0.6715 - val_accuracy: 0.5455\n",
      "Epoch 18/50\n",
      "16/16 [==============================] - 0s 4ms/step - loss: 0.6592 - accuracy: 0.6025 - val_loss: 0.6711 - val_accuracy: 0.5537\n",
      "Epoch 19/50\n",
      "16/16 [==============================] - 0s 4ms/step - loss: 0.6591 - accuracy: 0.6025 - val_loss: 0.6772 - val_accuracy: 0.5207\n",
      "Epoch 20/50\n",
      "16/16 [==============================] - 0s 4ms/step - loss: 0.6582 - accuracy: 0.5921 - val_loss: 0.6811 - val_accuracy: 0.5207\n",
      "Epoch 21/50\n",
      "16/16 [==============================] - 0s 4ms/step - loss: 0.6579 - accuracy: 0.5942 - val_loss: 0.6769 - val_accuracy: 0.5207\n",
      "Epoch 22/50\n",
      "16/16 [==============================] - 0s 3ms/step - loss: 0.6569 - accuracy: 0.5921 - val_loss: 0.6766 - val_accuracy: 0.5207\n",
      "Epoch 23/50\n",
      "16/16 [==============================] - 0s 4ms/step - loss: 0.6551 - accuracy: 0.6046 - val_loss: 0.6793 - val_accuracy: 0.5207\n",
      "Epoch 24/50\n",
      "16/16 [==============================] - 0s 4ms/step - loss: 0.6549 - accuracy: 0.5901 - val_loss: 0.6757 - val_accuracy: 0.5207\n",
      "Epoch 25/50\n",
      "16/16 [==============================] - 0s 3ms/step - loss: 0.6543 - accuracy: 0.6087 - val_loss: 0.6775 - val_accuracy: 0.5207\n",
      "Epoch 26/50\n",
      "16/16 [==============================] - 0s 5ms/step - loss: 0.6529 - accuracy: 0.5921 - val_loss: 0.6722 - val_accuracy: 0.5537\n",
      "Epoch 27/50\n",
      "16/16 [==============================] - 0s 5ms/step - loss: 0.6524 - accuracy: 0.5942 - val_loss: 0.6734 - val_accuracy: 0.5289\n",
      "Epoch 28/50\n",
      "16/16 [==============================] - 0s 4ms/step - loss: 0.6523 - accuracy: 0.5983 - val_loss: 0.6737 - val_accuracy: 0.5455\n",
      "Epoch 29/50\n",
      "16/16 [==============================] - 0s 4ms/step - loss: 0.6513 - accuracy: 0.6025 - val_loss: 0.6729 - val_accuracy: 0.5537\n",
      "Epoch 30/50\n",
      "16/16 [==============================] - 0s 4ms/step - loss: 0.6509 - accuracy: 0.6108 - val_loss: 0.6832 - val_accuracy: 0.5372\n",
      "Epoch 31/50\n",
      "16/16 [==============================] - 0s 4ms/step - loss: 0.6513 - accuracy: 0.6046 - val_loss: 0.6847 - val_accuracy: 0.5207\n",
      "Epoch 32/50\n",
      "16/16 [==============================] - 0s 4ms/step - loss: 0.6527 - accuracy: 0.6025 - val_loss: 0.6750 - val_accuracy: 0.5372\n",
      "Epoch 33/50\n",
      "16/16 [==============================] - 0s 5ms/step - loss: 0.6495 - accuracy: 0.6128 - val_loss: 0.6705 - val_accuracy: 0.5455\n",
      "Epoch 34/50\n",
      "16/16 [==============================] - 0s 4ms/step - loss: 0.6489 - accuracy: 0.6108 - val_loss: 0.6753 - val_accuracy: 0.5289\n",
      "Epoch 35/50\n",
      "16/16 [==============================] - 0s 4ms/step - loss: 0.6485 - accuracy: 0.6108 - val_loss: 0.6781 - val_accuracy: 0.5289\n",
      "Epoch 36/50\n",
      "16/16 [==============================] - 0s 3ms/step - loss: 0.6473 - accuracy: 0.5983 - val_loss: 0.6735 - val_accuracy: 0.5537\n",
      "Epoch 37/50\n",
      "16/16 [==============================] - 0s 4ms/step - loss: 0.6480 - accuracy: 0.6190 - val_loss: 0.6689 - val_accuracy: 0.5537\n",
      "Epoch 38/50\n",
      "16/16 [==============================] - 0s 4ms/step - loss: 0.6471 - accuracy: 0.6190 - val_loss: 0.6697 - val_accuracy: 0.5289\n",
      "Epoch 39/50\n",
      "16/16 [==============================] - 0s 4ms/step - loss: 0.6467 - accuracy: 0.6087 - val_loss: 0.6719 - val_accuracy: 0.5702\n",
      "Epoch 40/50\n",
      "16/16 [==============================] - 0s 3ms/step - loss: 0.6458 - accuracy: 0.6211 - val_loss: 0.6698 - val_accuracy: 0.5785\n",
      "Epoch 41/50\n",
      "16/16 [==============================] - ETA: 0s - loss: 0.6806 - accuracy: 0.50 - 0s 4ms/step - loss: 0.6456 - accuracy: 0.6170 - val_loss: 0.6728 - val_accuracy: 0.5620\n",
      "Epoch 42/50\n",
      "16/16 [==============================] - 0s 4ms/step - loss: 0.6453 - accuracy: 0.6108 - val_loss: 0.6763 - val_accuracy: 0.5207\n",
      "Epoch 43/50\n",
      "16/16 [==============================] - 0s 4ms/step - loss: 0.6454 - accuracy: 0.6025 - val_loss: 0.6654 - val_accuracy: 0.5950\n",
      "Epoch 44/50\n",
      "16/16 [==============================] - 0s 3ms/step - loss: 0.6447 - accuracy: 0.6149 - val_loss: 0.6685 - val_accuracy: 0.6116\n",
      "Epoch 45/50\n",
      "16/16 [==============================] - 0s 5ms/step - loss: 0.6444 - accuracy: 0.6108 - val_loss: 0.6746 - val_accuracy: 0.5455\n",
      "Epoch 46/50\n",
      "16/16 [==============================] - 0s 4ms/step - loss: 0.6433 - accuracy: 0.6315 - val_loss: 0.6757 - val_accuracy: 0.5785\n",
      "Epoch 47/50\n",
      "16/16 [==============================] - 0s 4ms/step - loss: 0.6427 - accuracy: 0.6273 - val_loss: 0.6716 - val_accuracy: 0.5620\n",
      "Epoch 48/50\n",
      "16/16 [==============================] - 0s 4ms/step - loss: 0.6415 - accuracy: 0.6232 - val_loss: 0.6778 - val_accuracy: 0.5785\n",
      "Epoch 49/50\n",
      "16/16 [==============================] - 0s 3ms/step - loss: 0.6422 - accuracy: 0.6253 - val_loss: 0.6717 - val_accuracy: 0.5537\n",
      "Epoch 50/50\n",
      "16/16 [==============================] - 0s 4ms/step - loss: 0.6403 - accuracy: 0.6211 - val_loss: 0.6682 - val_accuracy: 0.6033\n"
     ]
    },
    {
     "data": {
      "text/plain": [
       "<tensorflow.python.keras.callbacks.History at 0x1a4755bc50>"
      ]
     },
     "execution_count": 137,
     "metadata": {},
     "output_type": "execute_result"
    }
   ],
   "source": [
    "# Train ANN Model with 50 epochs and 20% Validation Data\n",
    "ann_model.fit(X_train_scaled, y_train, epochs = 50, validation_split=0.2)"
   ]
  },
  {
   "cell_type": "code",
   "execution_count": 138,
   "metadata": {},
   "outputs": [
    {
     "name": "stdout",
     "output_type": "stream",
     "text": [
      "9/9 [==============================] - 0s 1ms/step - loss: 0.6783 - accuracy: 0.5637\n"
     ]
    }
   ],
   "source": [
    "# Evaluate Artificial Neural Network Accuracy with Test Data\n",
    "accuracy = ann_model.evaluate(X_test_scaled, y_test)[1] #[1] only the 2nd value = accuracy is handed over"
   ]
  },
  {
   "cell_type": "code",
   "execution_count": 139,
   "metadata": {},
   "outputs": [
    {
     "name": "stdout",
     "output_type": "stream",
     "text": [
      "Accuracy: 0.5637065768241882\n"
     ]
    }
   ],
   "source": [
    "# Print Artificial Neural Network Accuracy\n",
    "print('Accuracy:', accuracy)"
   ]
  },
  {
   "cell_type": "code",
   "execution_count": 140,
   "metadata": {},
   "outputs": [],
   "source": [
    "# Select Second Hidden Layer\n",
    "hidden_1 = ann_model.layers[1]"
   ]
  },
  {
   "cell_type": "code",
   "execution_count": 141,
   "metadata": {},
   "outputs": [],
   "source": [
    "# Select Parameters of Second Hidden Layer\n",
    "weights, biases = hidden_1.get_weights()"
   ]
  },
  {
   "cell_type": "code",
   "execution_count": 142,
   "metadata": {},
   "outputs": [
    {
     "data": {
      "text/plain": [
       "array([[-0.05019465,  0.10813741,  0.0797414 , ...,  0.06806318,\n",
       "         0.00077038, -0.00222655],\n",
       "       [ 0.06176249,  0.10578568,  0.0581279 , ...,  0.05162123,\n",
       "        -0.01191535, -0.04734957],\n",
       "       [-0.07238408, -0.00215866,  0.10835663, ...,  0.04466002,\n",
       "         0.06601265,  0.10517511],\n",
       "       ...,\n",
       "       [ 0.07913464, -0.03839827, -0.0501738 , ..., -0.01263717,\n",
       "        -0.03566979, -0.06787581],\n",
       "       [ 0.085459  ,  0.09596621,  0.04143716, ..., -0.10158531,\n",
       "         0.06270026,  0.02240788],\n",
       "       [-0.00614495, -0.07812005,  0.01873083, ..., -0.03641923,\n",
       "        -0.03438623, -0.0619978 ]], dtype=float32)"
      ]
     },
     "execution_count": 142,
     "metadata": {},
     "output_type": "execute_result"
    }
   ],
   "source": [
    "# Controll Weight Parameters\n",
    "weights[0:10]"
   ]
  },
  {
   "cell_type": "code",
   "execution_count": 143,
   "metadata": {},
   "outputs": [
    {
     "data": {
      "text/plain": [
       "array([-4.1501215e-04,  9.4138231e-05,  5.1857269e-04, -5.3806405e-04,\n",
       "       -7.1797386e-04,  0.0000000e+00, -1.1656079e-03, -3.1123823e-03,\n",
       "        8.6058397e-04,  3.3658103e-03], dtype=float32)"
      ]
     },
     "execution_count": 143,
     "metadata": {},
     "output_type": "execute_result"
    }
   ],
   "source": [
    "# Controll Bias Parameters\n",
    "biases[0:10]"
   ]
  },
  {
   "cell_type": "code",
   "execution_count": 144,
   "metadata": {},
   "outputs": [],
   "source": [
    "# Prediction of Probabilities\n",
    "y_pred_proba = ann_model.predict(X_test_scaled)"
   ]
  },
  {
   "cell_type": "code",
   "execution_count": 145,
   "metadata": {},
   "outputs": [
    {
     "name": "stdout",
     "output_type": "stream",
     "text": [
      "Raw Model Predictions | True labels\n",
      "[0.48751533] | 1.0\n",
      "[0.3895354] | 1.0\n",
      "[0.36329645] | 0.0\n",
      "[0.46662325] | 1.0\n",
      "[0.5481623] | 1.0\n",
      "[0.7862042] | 1.0\n",
      "[0.46111315] | 0.0\n",
      "[0.4104941] | 0.0\n",
      "[0.51250184] | 0.0\n",
      "[0.6027862] | 1.0\n",
      "[0.45750684] | 0.0\n",
      "[0.62381744] | 0.0\n",
      "[0.56160146] | 0.0\n",
      "[0.6281266] | 1.0\n",
      "[0.6262776] | 1.0\n",
      "[0.4788968] | 0.0\n",
      "[0.6786709] | 0.0\n",
      "[0.37068987] | 0.0\n",
      "[0.40908718] | 0.0\n",
      "[0.50824344] | 1.0\n",
      "[0.58787394] | 1.0\n"
     ]
    }
   ],
   "source": [
    "# Display Predictions against Actual Values\n",
    "print(\"{:10} | {:10}\".format('Raw Model Predictions','True labels'))\n",
    "\n",
    "# For Loop through Predictions and Actual Values\n",
    "for i, prediction in enumerate(y_pred_proba):\n",
    "    print(\"{} | {}\".format(prediction, y_test[i]))\n",
    "    if i == 20:\n",
    "        break"
   ]
  },
  {
   "cell_type": "code",
   "execution_count": 146,
   "metadata": {},
   "outputs": [],
   "source": [
    "# Change Probability Predictions to Class Predictions\n",
    "y_pred_proba[y_pred_proba >= 0.5] = 1\n",
    "y_pred_proba[y_pred_proba < 0.5] = 0"
   ]
  },
  {
   "cell_type": "code",
   "execution_count": 147,
   "metadata": {},
   "outputs": [
    {
     "name": "stdout",
     "output_type": "stream",
     "text": [
      "[[67 47]\n",
      " [66 79]]\n"
     ]
    }
   ],
   "source": [
    "cm = confusion_matrix(y_test, y_pred_proba)\n",
    "print(cm)"
   ]
  },
  {
   "cell_type": "code",
   "execution_count": 148,
   "metadata": {},
   "outputs": [
    {
     "name": "stdout",
     "output_type": "stream",
     "text": [
      "              precision    recall  f1-score   support\n",
      "\n",
      "         0.0       0.50      0.59      0.54       114\n",
      "         1.0       0.63      0.54      0.58       145\n",
      "\n",
      "    accuracy                           0.56       259\n",
      "   macro avg       0.57      0.57      0.56       259\n",
      "weighted avg       0.57      0.56      0.57       259\n",
      "\n"
     ]
    }
   ],
   "source": [
    "# Output of Classification Report\n",
    "print(classification_report(y_test, y_pred_proba))"
   ]
  },
  {
   "cell_type": "markdown",
   "metadata": {},
   "source": [
    "### Artificial Neural Network including Stratified 10-fold Cross-Validation"
   ]
  },
  {
   "cell_type": "code",
   "execution_count": 149,
   "metadata": {},
   "outputs": [],
   "source": [
    "# Function for Deep Neural Network\n",
    "def dnn_model():\n",
    "    \n",
    "    # Instantiate Sequential Model\n",
    "    dnn_model = Sequential()\n",
    "    \n",
    "    # Layers: Input Layer plus 3 Hidden Dense layers of 300, 200 and 100 neurons each\n",
    "    dnn_model.add(Dense(300, input_shape= (n_nodes, )))\n",
    "    dnn_model.add(Dense(200, activation = 'relu'))\n",
    "    dnn_model.add(Dense(100, activation = 'relu'))\n",
    "    dnn_model.add(Dense(50, activation = 'relu'))\n",
    "    \n",
    "    # Output Layer with 1 Neuron for Binary Classification, either Positive or Negative\n",
    "    dnn_model.add(Dense(1, activation = 'sigmoid'))\n",
    "    \n",
    "    # Compile ANN-Model using Stochastic Gradient Descent as Optimizer and Binary Crossentropy as Loss Fucntion\n",
    "    dnn_model.compile(loss='binary_crossentropy', optimizer='SGD', metrics=['accuracy'])\n",
    "    \n",
    "    return dnn_model"
   ]
  },
  {
   "cell_type": "code",
   "execution_count": 150,
   "metadata": {},
   "outputs": [],
   "source": [
    "# Create Model\n",
    "model = KerasClassifier(build_fn=dnn_model)"
   ]
  },
  {
   "cell_type": "code",
   "execution_count": 151,
   "metadata": {},
   "outputs": [],
   "source": [
    "# Cross-Validation for Accuracy Scores\n",
    "kfold = StratifiedKFold(n_splits=10, shuffle=True, random_state=41)"
   ]
  },
  {
   "cell_type": "code",
   "execution_count": 152,
   "metadata": {},
   "outputs": [
    {
     "name": "stdout",
     "output_type": "stream",
     "text": [
      "25/25 [==============================] - 0s 2ms/step - loss: 0.6861 - accuracy: 0.5657\n",
      "3/3 [==============================] - 0s 1ms/step - loss: 0.6868 - accuracy: 0.5517\n",
      "25/25 [==============================] - 0s 2ms/step - loss: 0.6961 - accuracy: 0.4974\n",
      "3/3 [==============================] - 0s 1ms/step - loss: 0.6796 - accuracy: 0.5747\n",
      "25/25 [==============================] - 0s 2ms/step - loss: 0.6877 - accuracy: 0.5528\n",
      "3/3 [==============================] - 0s 2ms/step - loss: 0.6867 - accuracy: 0.5402\n",
      "25/25 [==============================] - 0s 2ms/step - loss: 0.6916 - accuracy: 0.5380\n",
      "WARNING:tensorflow:5 out of the last 219 calls to <function Model.make_test_function.<locals>.test_function at 0x1a46c02290> triggered tf.function retracing. Tracing is expensive and the excessive number of tracings could be due to (1) creating @tf.function repeatedly in a loop, (2) passing tensors with different shapes, (3) passing Python objects instead of tensors. For (1), please define your @tf.function outside of the loop. For (2), @tf.function has experimental_relax_shapes=True option that relaxes argument shapes that can avoid unnecessary retracing. For (3), please refer to https://www.tensorflow.org/tutorials/customization/performance#python_or_tensor_args and https://www.tensorflow.org/api_docs/python/tf/function for  more details.\n",
      "3/3 [==============================] - 0s 3ms/step - loss: 0.6899 - accuracy: 0.5581\n",
      "25/25 [==============================] - 0s 2ms/step - loss: 0.6895 - accuracy: 0.5586\n",
      "WARNING:tensorflow:5 out of the last 13 calls to <function Model.make_test_function.<locals>.test_function at 0x1a46c02170> triggered tf.function retracing. Tracing is expensive and the excessive number of tracings could be due to (1) creating @tf.function repeatedly in a loop, (2) passing tensors with different shapes, (3) passing Python objects instead of tensors. For (1), please define your @tf.function outside of the loop. For (2), @tf.function has experimental_relax_shapes=True option that relaxes argument shapes that can avoid unnecessary retracing. For (3), please refer to https://www.tensorflow.org/tutorials/customization/performance#python_or_tensor_args and https://www.tensorflow.org/api_docs/python/tf/function for  more details.\n",
      "3/3 [==============================] - 0s 2ms/step - loss: 0.6846 - accuracy: 0.5581\n",
      "25/25 [==============================] - 0s 2ms/step - loss: 0.6892 - accuracy: 0.5534\n",
      "WARNING:tensorflow:5 out of the last 13 calls to <function Model.make_test_function.<locals>.test_function at 0x1a47a77dd0> triggered tf.function retracing. Tracing is expensive and the excessive number of tracings could be due to (1) creating @tf.function repeatedly in a loop, (2) passing tensors with different shapes, (3) passing Python objects instead of tensors. For (1), please define your @tf.function outside of the loop. For (2), @tf.function has experimental_relax_shapes=True option that relaxes argument shapes that can avoid unnecessary retracing. For (3), please refer to https://www.tensorflow.org/tutorials/customization/performance#python_or_tensor_args and https://www.tensorflow.org/api_docs/python/tf/function for  more details.\n",
      "3/3 [==============================] - 0s 2ms/step - loss: 0.6846 - accuracy: 0.5581\n",
      "25/25 [==============================] - 0s 2ms/step - loss: 0.7025 - accuracy: 0.4942\n",
      "WARNING:tensorflow:5 out of the last 13 calls to <function Model.make_test_function.<locals>.test_function at 0x1a4d020ef0> triggered tf.function retracing. Tracing is expensive and the excessive number of tracings could be due to (1) creating @tf.function repeatedly in a loop, (2) passing tensors with different shapes, (3) passing Python objects instead of tensors. For (1), please define your @tf.function outside of the loop. For (2), @tf.function has experimental_relax_shapes=True option that relaxes argument shapes that can avoid unnecessary retracing. For (3), please refer to https://www.tensorflow.org/tutorials/customization/performance#python_or_tensor_args and https://www.tensorflow.org/api_docs/python/tf/function for  more details.\n",
      "3/3 [==============================] - 0s 2ms/step - loss: 0.6907 - accuracy: 0.5233\n",
      "25/25 [==============================] - 0s 2ms/step - loss: 0.6895 - accuracy: 0.5637\n",
      "WARNING:tensorflow:5 out of the last 13 calls to <function Model.make_test_function.<locals>.test_function at 0x1a498b33b0> triggered tf.function retracing. Tracing is expensive and the excessive number of tracings could be due to (1) creating @tf.function repeatedly in a loop, (2) passing tensors with different shapes, (3) passing Python objects instead of tensors. For (1), please define your @tf.function outside of the loop. For (2), @tf.function has experimental_relax_shapes=True option that relaxes argument shapes that can avoid unnecessary retracing. For (3), please refer to https://www.tensorflow.org/tutorials/customization/performance#python_or_tensor_args and https://www.tensorflow.org/api_docs/python/tf/function for  more details.\n",
      "3/3 [==============================] - 0s 3ms/step - loss: 0.6873 - accuracy: 0.5581\n",
      "25/25 [==============================] - 0s 2ms/step - loss: 0.7031 - accuracy: 0.4646\n",
      "WARNING:tensorflow:5 out of the last 13 calls to <function Model.make_test_function.<locals>.test_function at 0x1a49b1e830> triggered tf.function retracing. Tracing is expensive and the excessive number of tracings could be due to (1) creating @tf.function repeatedly in a loop, (2) passing tensors with different shapes, (3) passing Python objects instead of tensors. For (1), please define your @tf.function outside of the loop. For (2), @tf.function has experimental_relax_shapes=True option that relaxes argument shapes that can avoid unnecessary retracing. For (3), please refer to https://www.tensorflow.org/tutorials/customization/performance#python_or_tensor_args and https://www.tensorflow.org/api_docs/python/tf/function for  more details.\n",
      "3/3 [==============================] - 0s 2ms/step - loss: 0.7015 - accuracy: 0.5233\n",
      "25/25 [==============================] - 0s 2ms/step - loss: 0.6869 - accuracy: 0.5573\n",
      "WARNING:tensorflow:5 out of the last 13 calls to <function Model.make_test_function.<locals>.test_function at 0x1a4782d320> triggered tf.function retracing. Tracing is expensive and the excessive number of tracings could be due to (1) creating @tf.function repeatedly in a loop, (2) passing tensors with different shapes, (3) passing Python objects instead of tensors. For (1), please define your @tf.function outside of the loop. For (2), @tf.function has experimental_relax_shapes=True option that relaxes argument shapes that can avoid unnecessary retracing. For (3), please refer to https://www.tensorflow.org/tutorials/customization/performance#python_or_tensor_args and https://www.tensorflow.org/api_docs/python/tf/function for  more details.\n",
      "3/3 [==============================] - 0s 2ms/step - loss: 0.6833 - accuracy: 0.5581\n"
     ]
    }
   ],
   "source": [
    "cross_acc = cross_val_score(model, predictors_scaled, target, cv=kfold)"
   ]
  },
  {
   "cell_type": "code",
   "execution_count": 153,
   "metadata": {},
   "outputs": [
    {
     "name": "stdout",
     "output_type": "stream",
     "text": [
      "Scores: [0.55172414 0.57471263 0.54022986 0.55813956 0.55813956 0.55813956\n",
      " 0.52325583 0.55813956 0.52325583 0.55813956]\n",
      "Mean: 0.5503876090049744\n",
      "Standard Deviation: 0.015714338678156494\n"
     ]
    }
   ],
   "source": [
    "# Accuracy Results - Mean and Standard Deviation\n",
    "show_scores(cross_acc)"
   ]
  },
  {
   "cell_type": "markdown",
   "metadata": {},
   "source": [
    "# Model Preparation - Data Set III. - 2nd Halving to 3rd Halving"
   ]
  },
  {
   "cell_type": "markdown",
   "metadata": {},
   "source": [
    "## Train Test Split - Data Set III. - 2nd Halving to 3rd Halving"
   ]
  },
  {
   "cell_type": "code",
   "execution_count": 154,
   "metadata": {},
   "outputs": [],
   "source": [
    "# Setup of Predictors (Indpendent Variables) by Excluding Target Variable\n",
    "predictors = df_dataset3_2H.drop(['Class'], axis=1).values.astype(np.float32)"
   ]
  },
  {
   "cell_type": "code",
   "execution_count": 155,
   "metadata": {},
   "outputs": [],
   "source": [
    "# Setup of Categorized Target Variable\n",
    "target = df_dataset3_2H['Class'].astype(np.float32)"
   ]
  },
  {
   "cell_type": "code",
   "execution_count": 156,
   "metadata": {},
   "outputs": [
    {
     "data": {
      "text/plain": [
       "(916, 133)"
      ]
     },
     "execution_count": 156,
     "metadata": {},
     "output_type": "execute_result"
    }
   ],
   "source": [
    "# Predictor Dimensions\n",
    "predictors.shape"
   ]
  },
  {
   "cell_type": "code",
   "execution_count": 157,
   "metadata": {},
   "outputs": [
    {
     "data": {
      "text/plain": [
       "(916,)"
      ]
     },
     "execution_count": 157,
     "metadata": {},
     "output_type": "execute_result"
    }
   ],
   "source": [
    "# Target Dimensions\n",
    "target.shape"
   ]
  },
  {
   "cell_type": "code",
   "execution_count": 158,
   "metadata": {},
   "outputs": [],
   "source": [
    "# Train-Test-Split Function to Create Training and Test Data Set\n",
    "X_train, X_test, y_train, y_test = train_test_split(predictors, target, test_size=0.3, random_state = 41, stratify=target)"
   ]
  },
  {
   "cell_type": "code",
   "execution_count": 159,
   "metadata": {},
   "outputs": [
    {
     "data": {
      "text/plain": [
       "(641, 133)"
      ]
     },
     "execution_count": 159,
     "metadata": {},
     "output_type": "execute_result"
    }
   ],
   "source": [
    "# Dimensions of Predictors for Training\n",
    "X_train.shape"
   ]
  },
  {
   "cell_type": "code",
   "execution_count": 160,
   "metadata": {},
   "outputs": [
    {
     "data": {
      "text/plain": [
       "(641,)"
      ]
     },
     "execution_count": 160,
     "metadata": {},
     "output_type": "execute_result"
    }
   ],
   "source": [
    "# Dimensions of Target for Training\n",
    "y_train.shape"
   ]
  },
  {
   "cell_type": "code",
   "execution_count": 161,
   "metadata": {},
   "outputs": [
    {
     "data": {
      "text/plain": [
       "133"
      ]
     },
     "execution_count": 161,
     "metadata": {},
     "output_type": "execute_result"
    }
   ],
   "source": [
    "# Number of Predictors\n",
    "n_nodes = predictors.shape[1]\n",
    "n_nodes"
   ]
  },
  {
   "cell_type": "markdown",
   "metadata": {},
   "source": [
    "### Check of Class Balance"
   ]
  },
  {
   "cell_type": "code",
   "execution_count": 162,
   "metadata": {},
   "outputs": [
    {
     "data": {
      "text/plain": [
       "293"
      ]
     },
     "execution_count": 162,
     "metadata": {},
     "output_type": "execute_result"
    }
   ],
   "source": [
    "# Check Training Target of Class 0\n",
    "y_train[y_train==0].count()"
   ]
  },
  {
   "cell_type": "code",
   "execution_count": 163,
   "metadata": {},
   "outputs": [
    {
     "data": {
      "text/plain": [
       "348"
      ]
     },
     "execution_count": 163,
     "metadata": {},
     "output_type": "execute_result"
    }
   ],
   "source": [
    "# Check Training Target of Class 1\n",
    "y_train[y_train==1].count()"
   ]
  },
  {
   "cell_type": "code",
   "execution_count": 164,
   "metadata": {},
   "outputs": [
    {
     "data": {
      "text/plain": [
       "126"
      ]
     },
     "execution_count": 164,
     "metadata": {},
     "output_type": "execute_result"
    }
   ],
   "source": [
    "# Check Test Target of Class 0\n",
    "y_test[y_test==0].count()"
   ]
  },
  {
   "cell_type": "code",
   "execution_count": 165,
   "metadata": {},
   "outputs": [
    {
     "data": {
      "text/plain": [
       "149"
      ]
     },
     "execution_count": 165,
     "metadata": {},
     "output_type": "execute_result"
    }
   ],
   "source": [
    "# Check Test Target of Class 1\n",
    "y_test[y_test==1].count()"
   ]
  },
  {
   "cell_type": "markdown",
   "metadata": {},
   "source": [
    "## Data Set III. Feature Scaling - 2nd Halving to 3rd Halving"
   ]
  },
  {
   "cell_type": "code",
   "execution_count": 166,
   "metadata": {},
   "outputs": [],
   "source": [
    "# Instantiation of MinMaxScaler and StandardSacler\n",
    "norm_scaler = MinMaxScaler()\n",
    "#std_scaler = StandardScaler()"
   ]
  },
  {
   "cell_type": "code",
   "execution_count": 167,
   "metadata": {},
   "outputs": [],
   "source": [
    "# Scaler Training and Transformation of Training Set\n",
    "X_train_scaled = pd.DataFrame(norm_scaler.fit_transform(X_train))"
   ]
  },
  {
   "cell_type": "code",
   "execution_count": 168,
   "metadata": {},
   "outputs": [],
   "source": [
    "# Scaler Transformation of Test Set\n",
    "X_test_scaled = norm_scaler.transform(X_test)"
   ]
  },
  {
   "cell_type": "code",
   "execution_count": 169,
   "metadata": {},
   "outputs": [
    {
     "data": {
      "text/plain": [
       "array([[0.4642737 , 0.2541759 , 0.12757313, ..., 0.7831615 , 0.03308141,\n",
       "        0.2661308 ],\n",
       "       [0.7873626 , 0.0793874 , 0.4596457 , ..., 0.71369976, 0.05364885,\n",
       "        0.15377703],\n",
       "       [0.70012546, 0.12429956, 0.3307463 , ..., 0.6691225 , 0.11022172,\n",
       "        0.18870437],\n",
       "       ...,\n",
       "       [0.53171873, 0.02815014, 0.16977875, ..., 0.7086517 , 0.02417368,\n",
       "        0.04845678],\n",
       "       [0.8605373 , 0.21424493, 0.60252666, ..., 0.5902245 , 0.20160577,\n",
       "        0.44434825],\n",
       "       [0.567889  , 0.29502738, 0.1968542 , ..., 0.8091682 , 0.22919205,\n",
       "        0.3136084 ]], dtype=float32)"
      ]
     },
     "execution_count": 169,
     "metadata": {},
     "output_type": "execute_result"
    }
   ],
   "source": [
    "# Scaled Test Features\n",
    "X_test_scaled"
   ]
  },
  {
   "cell_type": "code",
   "execution_count": 170,
   "metadata": {},
   "outputs": [],
   "source": [
    "# Scaler Transformation of Entire Training Set - Input for Cross-Validation\n",
    "predictors_scaled = norm_scaler.transform(predictors)"
   ]
  },
  {
   "cell_type": "markdown",
   "metadata": {},
   "source": [
    "# Classification Models - Data Set III. - 2nd Halving to 3rd Halving"
   ]
  },
  {
   "cell_type": "markdown",
   "metadata": {},
   "source": [
    "## Logistic Regression - Data Set III. - 2nd Halving to 3rd Halving"
   ]
  },
  {
   "cell_type": "code",
   "execution_count": 171,
   "metadata": {},
   "outputs": [],
   "source": [
    "# Instantiate Classifier - LogisticRegression\n",
    "lreg = LogisticRegression(max_iter=1200)"
   ]
  },
  {
   "cell_type": "code",
   "execution_count": 172,
   "metadata": {},
   "outputs": [
    {
     "data": {
      "text/plain": [
       "LogisticRegression(max_iter=1200)"
      ]
     },
     "execution_count": 172,
     "metadata": {},
     "output_type": "execute_result"
    }
   ],
   "source": [
    "# Train Classifier\n",
    "lreg.fit(X_train_scaled, y_train)"
   ]
  },
  {
   "cell_type": "code",
   "execution_count": 173,
   "metadata": {},
   "outputs": [],
   "source": [
    "# Prediction of Classes\n",
    "y_pred = lreg.predict(X_test_scaled)"
   ]
  },
  {
   "cell_type": "code",
   "execution_count": 174,
   "metadata": {},
   "outputs": [],
   "source": [
    "# Prediction of Probabilities\n",
    "y_pred_prob = lreg.predict_proba(X_test_scaled)[:,1]"
   ]
  },
  {
   "cell_type": "code",
   "execution_count": 175,
   "metadata": {},
   "outputs": [
    {
     "data": {
      "text/plain": [
       "array([0.37787011, 0.28176554, 0.57607966, 0.54203161, 0.68377064,\n",
       "       0.40642708, 0.32344561, 0.70253263, 0.45723801, 0.49209548])"
      ]
     },
     "execution_count": 175,
     "metadata": {},
     "output_type": "execute_result"
    }
   ],
   "source": [
    "# Select Predicted Probabilities\n",
    "y_pred_prob[1:11]"
   ]
  },
  {
   "cell_type": "code",
   "execution_count": 176,
   "metadata": {},
   "outputs": [
    {
     "data": {
      "text/plain": [
       "array([0., 1., 1., 1., 1., 0., 0., 0., 1., 1.], dtype=float32)"
      ]
     },
     "execution_count": 176,
     "metadata": {},
     "output_type": "execute_result"
    }
   ],
   "source": [
    "# Select Actual Classes\n",
    "np.array(y_test[1:11])"
   ]
  },
  {
   "cell_type": "code",
   "execution_count": 177,
   "metadata": {},
   "outputs": [
    {
     "data": {
      "text/plain": [
       "0.6645865834633385"
      ]
     },
     "execution_count": 177,
     "metadata": {},
     "output_type": "execute_result"
    }
   ],
   "source": [
    "# Train Accuracy\n",
    "lreg.score(X_train_scaled, y_train)"
   ]
  },
  {
   "cell_type": "code",
   "execution_count": 178,
   "metadata": {},
   "outputs": [
    {
     "data": {
      "text/plain": [
       "0.6290909090909091"
      ]
     },
     "execution_count": 178,
     "metadata": {},
     "output_type": "execute_result"
    }
   ],
   "source": [
    "# Test Accuracy\n",
    "lreg.score(X_test_scaled, y_test)"
   ]
  },
  {
   "cell_type": "code",
   "execution_count": 179,
   "metadata": {},
   "outputs": [
    {
     "name": "stdout",
     "output_type": "stream",
     "text": [
      "[[ 73  53]\n",
      " [ 49 100]]\n"
     ]
    }
   ],
   "source": [
    "# Output of Confusion Matrix\n",
    "print(confusion_matrix(y_test, y_pred))"
   ]
  },
  {
   "cell_type": "code",
   "execution_count": 180,
   "metadata": {},
   "outputs": [
    {
     "name": "stdout",
     "output_type": "stream",
     "text": [
      "              precision    recall  f1-score   support\n",
      "\n",
      "         0.0       0.60      0.58      0.59       126\n",
      "         1.0       0.65      0.67      0.66       149\n",
      "\n",
      "    accuracy                           0.63       275\n",
      "   macro avg       0.63      0.63      0.63       275\n",
      "weighted avg       0.63      0.63      0.63       275\n",
      "\n"
     ]
    }
   ],
   "source": [
    "# Output of Classification Report\n",
    "print(classification_report(y_test, y_pred))"
   ]
  },
  {
   "cell_type": "code",
   "execution_count": 181,
   "metadata": {},
   "outputs": [],
   "source": [
    "# Generate ROC curve values: fpr, tpr, thresholds\n",
    "fpr, tpr, thresholds = roc_curve(y_test, y_pred_prob)"
   ]
  },
  {
   "cell_type": "code",
   "execution_count": 182,
   "metadata": {},
   "outputs": [
    {
     "data": {
      "image/png": "[encoded data removed]",
      "text/plain": [
       "<Figure size 432x288 with 1 Axes>"
      ]
     },
     "metadata": {
      "needs_background": "light"
     },
     "output_type": "display_data"
    }
   ],
   "source": [
    "# Plot of ROC curve\n",
    "_ = plt.plot([0, 1], [0, 1])\n",
    "_ = plt.plot(fpr, tpr)\n",
    "_ = plt.xlabel('False Positive Rate')\n",
    "_ = plt.ylabel('True Positive Rate')\n",
    "_ = plt.title('Receiver Operating Characteristic (ROC) Curve')\n",
    "plt.show()"
   ]
  },
  {
   "cell_type": "code",
   "execution_count": 183,
   "metadata": {},
   "outputs": [],
   "source": [
    "# 10-fold Cross Validation including Stratification\n",
    "skf = StratifiedKFold(shuffle=True, n_splits=10)"
   ]
  },
  {
   "cell_type": "code",
   "execution_count": 184,
   "metadata": {},
   "outputs": [
    {
     "name": "stdout",
     "output_type": "stream",
     "text": [
      "AUC: 0.6530840524129116\n"
     ]
    }
   ],
   "source": [
    "# Compute and print AUC Score\n",
    "print(\"AUC: {}\".format(roc_auc_score(y_test, y_pred_prob)))"
   ]
  },
  {
   "cell_type": "code",
   "execution_count": 185,
   "metadata": {},
   "outputs": [],
   "source": [
    "# Cross-Validation for AUC scores\n",
    "cv_auc = cross_val_score(lreg, predictors_scaled, target, cv=skf, scoring='roc_auc')"
   ]
  },
  {
   "cell_type": "code",
   "execution_count": 186,
   "metadata": {},
   "outputs": [
    {
     "name": "stdout",
     "output_type": "stream",
     "text": [
      "AUC scores computed using 10-fold cross-validation: [0.63952381 0.67809524 0.72285714 0.57619048 0.66714286 0.58380952\n",
      " 0.69727891 0.77113703 0.67638484 0.5297561 ]\n"
     ]
    }
   ],
   "source": [
    "# Print List of AUC scores\n",
    "print(\"AUC scores computed using 10-fold cross-validation: {}\".format(cv_auc))"
   ]
  },
  {
   "cell_type": "code",
   "execution_count": 187,
   "metadata": {},
   "outputs": [],
   "source": [
    "# Cross-Validation for Accuracy Scores\n",
    "cv_acc = cross_val_score(lreg, predictors_scaled, target, cv=skf, scoring='accuracy')"
   ]
  },
  {
   "cell_type": "code",
   "execution_count": 188,
   "metadata": {},
   "outputs": [
    {
     "name": "stdout",
     "output_type": "stream",
     "text": [
      "Accuracy scores computed using 10-fold cross-validation: [0.63043478 0.66304348 0.59782609 0.55434783 0.69565217 0.64130435\n",
      " 0.62637363 0.61538462 0.63736264 0.62637363]\n"
     ]
    }
   ],
   "source": [
    "# Print List of Accuracy Scores\n",
    "print(\"Accuracy scores computed using 10-fold cross-validation: {}\".format(cv_acc))"
   ]
  },
  {
   "cell_type": "code",
   "execution_count": 189,
   "metadata": {},
   "outputs": [
    {
     "name": "stdout",
     "output_type": "stream",
     "text": [
      "Scores: [0.63043478 0.66304348 0.59782609 0.55434783 0.69565217 0.64130435\n",
      " 0.62637363 0.61538462 0.63736264 0.62637363]\n",
      "Mean: 0.628810320114668\n",
      "Standard Deviation: 0.03545198794781968\n"
     ]
    }
   ],
   "source": [
    "# Accuracy Results - Mean and Standard Deviation\n",
    "show_scores(cv_acc)"
   ]
  },
  {
   "cell_type": "markdown",
   "metadata": {},
   "source": [
    "## Decision Tree Classifier - Data Set III. - 2nd Halving to 3rd Halving"
   ]
  },
  {
   "cell_type": "code",
   "execution_count": 190,
   "metadata": {},
   "outputs": [],
   "source": [
    "# Instantiate Classifier - Decision Tree\n",
    "dtc = DecisionTreeClassifier(criterion='gini', max_depth=2)"
   ]
  },
  {
   "cell_type": "code",
   "execution_count": 191,
   "metadata": {},
   "outputs": [
    {
     "data": {
      "text/plain": [
       "DecisionTreeClassifier(max_depth=2)"
      ]
     },
     "execution_count": 191,
     "metadata": {},
     "output_type": "execute_result"
    }
   ],
   "source": [
    "# Train Classifier\n",
    "dtc.fit(X_train_scaled, y_train)"
   ]
  },
  {
   "cell_type": "code",
   "execution_count": 192,
   "metadata": {},
   "outputs": [],
   "source": [
    "# Prediction of Classes\n",
    "y_pred = dtc.predict(X_test_scaled)"
   ]
  },
  {
   "cell_type": "code",
   "execution_count": 193,
   "metadata": {},
   "outputs": [],
   "source": [
    "# Prediction of Probabilities\n",
    "y_pred_prob = dtc.predict_proba(X_test_scaled)[:,1]"
   ]
  },
  {
   "cell_type": "code",
   "execution_count": 194,
   "metadata": {},
   "outputs": [
    {
     "data": {
      "text/plain": [
       "array([0.4235589 , 0.4235589 , 0.4235589 , 0.4235589 , 0.77511962,\n",
       "       0.4235589 , 0.4235589 , 0.4235589 , 0.4235589 , 0.4235589 ])"
      ]
     },
     "execution_count": 194,
     "metadata": {},
     "output_type": "execute_result"
    }
   ],
   "source": [
    "# Select Predicted Probabilities\n",
    "y_pred_prob[1:11]"
   ]
  },
  {
   "cell_type": "code",
   "execution_count": 195,
   "metadata": {},
   "outputs": [
    {
     "data": {
      "text/plain": [
       "0.6505460218408736"
      ]
     },
     "execution_count": 195,
     "metadata": {},
     "output_type": "execute_result"
    }
   ],
   "source": [
    "# Train Accuracy\n",
    "dtc.score(X_train_scaled, y_train)"
   ]
  },
  {
   "cell_type": "code",
   "execution_count": 196,
   "metadata": {},
   "outputs": [
    {
     "data": {
      "text/plain": [
       "0.5563636363636364"
      ]
     },
     "execution_count": 196,
     "metadata": {},
     "output_type": "execute_result"
    }
   ],
   "source": [
    "# Test Accuracy\n",
    "dtc.score(X_test_scaled, y_test)"
   ]
  },
  {
   "cell_type": "code",
   "execution_count": 197,
   "metadata": {},
   "outputs": [
    {
     "data": {
      "image/png": "[encoded data removed]",
      "text/plain": [
       "<Figure size 1080x288 with 1 Axes>"
      ]
     },
     "metadata": {
      "needs_background": "light"
     },
     "output_type": "display_data"
    }
   ],
   "source": [
    "# Range of Maximum Tree Depth Size\n",
    "max_depth = np.arange(1, 11)\n",
    "\n",
    "# Array Setup to Store Training and Test Accuracies\n",
    "train_accuracy = np.empty(len(max_depth))\n",
    "test_accuracy = np.empty(len(max_depth))\n",
    "\n",
    "# For Loop over Maximum Depth Size Range\n",
    "for i, n in enumerate(max_depth):\n",
    "    \n",
    "    # Instantiation of Decision Tree Classifier with Depth Size = n\n",
    "    dtc = DecisionTreeClassifier(max_depth = n)\n",
    "\n",
    "    # Training of Classifier\n",
    "    dtc.fit(X_train_scaled, y_train)\n",
    "    \n",
    "    # Training Accuracy based on Varying Depth Size\n",
    "    train_accuracy[i] = dtc.score(X_train_scaled, y_train)\n",
    "\n",
    "    # Testing Accuracy based on Varying Depth Size\n",
    "    test_accuracy[i] = dtc.score(X_test_scaled, y_test)\n",
    "\n",
    "# Generate plot\n",
    "_ = plt.figure(figsize=(15, 4))\n",
    "_ = plt.title('Varying Number of Maximum Depth')\n",
    "_ = plt.plot(max_depth, test_accuracy, label = 'Testing Accuracy')\n",
    "_ = plt.plot(max_depth, train_accuracy, label = 'Training Accuracy')\n",
    "_ = plt.xlabel('Maximum Depth')\n",
    "_ = plt.ylabel('Accuracy')\n",
    "_ = plt.legend()\n",
    "\n",
    "# Save Plot as JPEG\n",
    "#plt.savefig('Graphics/DecisionTreeTraining.jpg', dpi=300)\n",
    "\n",
    "# Display Plot\n",
    "plt.show()"
   ]
  },
  {
   "cell_type": "code",
   "execution_count": 198,
   "metadata": {},
   "outputs": [
    {
     "name": "stdout",
     "output_type": "stream",
     "text": [
      "[[95 31]\n",
      " [91 58]]\n"
     ]
    }
   ],
   "source": [
    "# Output of Confusion Matrix\n",
    "print(confusion_matrix(y_test, y_pred))"
   ]
  },
  {
   "cell_type": "code",
   "execution_count": 199,
   "metadata": {},
   "outputs": [
    {
     "name": "stdout",
     "output_type": "stream",
     "text": [
      "              precision    recall  f1-score   support\n",
      "\n",
      "         0.0       0.51      0.75      0.61       126\n",
      "         1.0       0.65      0.39      0.49       149\n",
      "\n",
      "    accuracy                           0.56       275\n",
      "   macro avg       0.58      0.57      0.55       275\n",
      "weighted avg       0.59      0.56      0.54       275\n",
      "\n"
     ]
    }
   ],
   "source": [
    "# Output of Classification Report\n",
    "print(classification_report(y_test, y_pred))"
   ]
  },
  {
   "cell_type": "code",
   "execution_count": 200,
   "metadata": {},
   "outputs": [],
   "source": [
    "# Generate ROC curve values: fpr, tpr, thresholds\n",
    "fpr, tpr, thresholds = roc_curve(y_test, y_pred_prob)"
   ]
  },
  {
   "cell_type": "code",
   "execution_count": 201,
   "metadata": {},
   "outputs": [
    {
     "data": {
      "image/png": "[encoded data removed]",
      "text/plain": [
       "<Figure size 432x288 with 1 Axes>"
      ]
     },
     "metadata": {
      "needs_background": "light"
     },
     "output_type": "display_data"
    }
   ],
   "source": [
    "# Plot of ROC curve\n",
    "_ = plt.plot([0, 1], [0, 1])\n",
    "_ = plt.plot(fpr, tpr)\n",
    "_ = plt.xlabel('False Positive Rate')\n",
    "_ = plt.ylabel('True Positive Rate')\n",
    "_ = plt.title('Receiver Operating Characteristic (ROC) Curve')\n",
    "plt.show()"
   ]
  },
  {
   "cell_type": "code",
   "execution_count": 202,
   "metadata": {},
   "outputs": [],
   "source": [
    "# 10-fold Cross Validation including Stratification\n",
    "skf = StratifiedKFold(shuffle=True, n_splits=10)"
   ]
  },
  {
   "cell_type": "code",
   "execution_count": 203,
   "metadata": {},
   "outputs": [
    {
     "name": "stdout",
     "output_type": "stream",
     "text": [
      "AUC: 0.5728933631618195\n"
     ]
    }
   ],
   "source": [
    "# Compute and print AUC score\n",
    "print(\"AUC: {}\".format(roc_auc_score(y_test, y_pred_prob)))"
   ]
  },
  {
   "cell_type": "code",
   "execution_count": 204,
   "metadata": {},
   "outputs": [],
   "source": [
    "# Cross-Validation for AUC scores\n",
    "cv_auc = cross_val_score(dtc, predictors_scaled, target, cv=skf, scoring='roc_auc')"
   ]
  },
  {
   "cell_type": "code",
   "execution_count": 205,
   "metadata": {},
   "outputs": [
    {
     "name": "stdout",
     "output_type": "stream",
     "text": [
      "AUC scores computed using 10-fold cross-validation: [0.49214286 0.54714286 0.61738095 0.52285714 0.54547619 0.54714286\n",
      " 0.53887269 0.45165209 0.61370262 0.58170732]\n"
     ]
    }
   ],
   "source": [
    "# Print List of AUC scores\n",
    "print(\"AUC scores computed using 10-fold cross-validation: {}\".format(cv_auc))"
   ]
  },
  {
   "cell_type": "code",
   "execution_count": 206,
   "metadata": {},
   "outputs": [],
   "source": [
    "# Cross-Validation for Accuracy Scores\n",
    "cv_acc = cross_val_score(dtc, predictors_scaled, target, cv=skf, scoring='accuracy')"
   ]
  },
  {
   "cell_type": "code",
   "execution_count": 207,
   "metadata": {},
   "outputs": [
    {
     "name": "stdout",
     "output_type": "stream",
     "text": [
      "Accuracy scores computed using 10-fold cross-validation: [0.63043478 0.54347826 0.52173913 0.56521739 0.4673913  0.58695652\n",
      " 0.64835165 0.45054945 0.51648352 0.51648352]\n"
     ]
    }
   ],
   "source": [
    "# Print List of Accuracy Scores\n",
    "print(\"Accuracy scores computed using 10-fold cross-validation: {}\".format(cv_acc))"
   ]
  },
  {
   "cell_type": "code",
   "execution_count": 208,
   "metadata": {},
   "outputs": [
    {
     "name": "stdout",
     "output_type": "stream",
     "text": [
      "Scores: [0.63043478 0.54347826 0.52173913 0.56521739 0.4673913  0.58695652\n",
      " 0.64835165 0.45054945 0.51648352 0.51648352]\n",
      "Mean: 0.5447085523172479\n",
      "Standard Deviation: 0.06104317148217698\n"
     ]
    }
   ],
   "source": [
    "# Accuracy Results - Mean and Standard Deviation\n",
    "show_scores(cv_acc)"
   ]
  },
  {
   "cell_type": "markdown",
   "metadata": {},
   "source": [
    "## Random Forest Classifier - Data Set III. - 2nd Halving to 3rd Halving"
   ]
  },
  {
   "cell_type": "code",
   "execution_count": 209,
   "metadata": {},
   "outputs": [],
   "source": [
    "# Instantiate Classifier - Random Forest\n",
    "rfc = RandomForestClassifier(n_estimators=100, max_leaf_nodes=None, criterion='gini', max_depth=3, random_state=41)"
   ]
  },
  {
   "cell_type": "code",
   "execution_count": 210,
   "metadata": {},
   "outputs": [
    {
     "data": {
      "text/plain": [
       "RandomForestClassifier(max_depth=3, random_state=41)"
      ]
     },
     "execution_count": 210,
     "metadata": {},
     "output_type": "execute_result"
    }
   ],
   "source": [
    "# Train Classifier\n",
    "rfc.fit(X_train_scaled, y_train)"
   ]
  },
  {
   "cell_type": "code",
   "execution_count": 211,
   "metadata": {},
   "outputs": [],
   "source": [
    "# Prediction of Classes\n",
    "y_pred = rfc.predict(X_test_scaled)"
   ]
  },
  {
   "cell_type": "code",
   "execution_count": 212,
   "metadata": {},
   "outputs": [],
   "source": [
    "# Prediction of Probabilities\n",
    "y_pred_prob = rfc.predict_proba(X_test_scaled)[:,1]"
   ]
  },
  {
   "cell_type": "code",
   "execution_count": 213,
   "metadata": {},
   "outputs": [
    {
     "data": {
      "text/plain": [
       "array([0.50425732, 0.41745538, 0.49721311, 0.50465714, 0.61051616,\n",
       "       0.45660295, 0.45057741, 0.60242922, 0.50215601, 0.43514315])"
      ]
     },
     "execution_count": 213,
     "metadata": {},
     "output_type": "execute_result"
    }
   ],
   "source": [
    "# Select Predicted Probabilities\n",
    "y_pred_prob[1:11]"
   ]
  },
  {
   "cell_type": "code",
   "execution_count": 214,
   "metadata": {},
   "outputs": [
    {
     "data": {
      "text/plain": [
       "0.717628705148206"
      ]
     },
     "execution_count": 214,
     "metadata": {},
     "output_type": "execute_result"
    }
   ],
   "source": [
    "# Train Accuracy\n",
    "rfc.score(X_train_scaled, y_train)"
   ]
  },
  {
   "cell_type": "code",
   "execution_count": 215,
   "metadata": {},
   "outputs": [
    {
     "data": {
      "text/plain": [
       "0.6545454545454545"
      ]
     },
     "execution_count": 215,
     "metadata": {},
     "output_type": "execute_result"
    }
   ],
   "source": [
    "# Test Accuracy\n",
    "rfc.score(X_test_scaled, y_test)"
   ]
  },
  {
   "cell_type": "code",
   "execution_count": 216,
   "metadata": {},
   "outputs": [
    {
     "name": "stdout",
     "output_type": "stream",
     "text": [
      "[[ 75  51]\n",
      " [ 44 105]]\n"
     ]
    }
   ],
   "source": [
    "# Output of Confusion Matrix\n",
    "print(confusion_matrix(y_test, y_pred))"
   ]
  },
  {
   "cell_type": "code",
   "execution_count": 217,
   "metadata": {},
   "outputs": [
    {
     "name": "stdout",
     "output_type": "stream",
     "text": [
      "              precision    recall  f1-score   support\n",
      "\n",
      "         0.0       0.63      0.60      0.61       126\n",
      "         1.0       0.67      0.70      0.69       149\n",
      "\n",
      "    accuracy                           0.65       275\n",
      "   macro avg       0.65      0.65      0.65       275\n",
      "weighted avg       0.65      0.65      0.65       275\n",
      "\n"
     ]
    }
   ],
   "source": [
    "# Output of Classification Report\n",
    "print(classification_report(y_test, y_pred))"
   ]
  },
  {
   "cell_type": "code",
   "execution_count": 218,
   "metadata": {},
   "outputs": [],
   "source": [
    "# Generate ROC curve values: fpr, tpr, thresholds\n",
    "fpr, tpr, thresholds = roc_curve(y_test, y_pred_prob)"
   ]
  },
  {
   "cell_type": "code",
   "execution_count": 219,
   "metadata": {},
   "outputs": [
    {
     "data": {
      "image/png": "[encoded data removed]",
      "text/plain": [
       "<Figure size 432x288 with 1 Axes>"
      ]
     },
     "metadata": {
      "needs_background": "light"
     },
     "output_type": "display_data"
    }
   ],
   "source": [
    "# Plot of ROC curve\n",
    "_ = plt.plot([0, 1], [0, 1])\n",
    "_ = plt.plot(fpr, tpr)\n",
    "_ = plt.xlabel('False Positive Rate')\n",
    "_ = plt.ylabel('True Positive Rate')\n",
    "_ = plt.title('Receiver Operating Characteristic (ROC) Curve')\n",
    "plt.show()"
   ]
  },
  {
   "cell_type": "code",
   "execution_count": 220,
   "metadata": {},
   "outputs": [],
   "source": [
    "# 10-fold Cross Validation including Stratification\n",
    "skf = StratifiedKFold(shuffle=True, n_splits=10)"
   ]
  },
  {
   "cell_type": "code",
   "execution_count": 221,
   "metadata": {},
   "outputs": [
    {
     "name": "stdout",
     "output_type": "stream",
     "text": [
      "AUC: 0.6656013635879408\n"
     ]
    }
   ],
   "source": [
    "# Compute and print AUC score\n",
    "print(\"AUC: {}\".format(roc_auc_score(y_test, y_pred_prob)))"
   ]
  },
  {
   "cell_type": "code",
   "execution_count": 222,
   "metadata": {},
   "outputs": [],
   "source": [
    "# Cross-Validation for AUC scores\n",
    "cv_auc = cross_val_score(rfc, predictors_scaled, target, cv=skf, scoring='roc_auc')"
   ]
  },
  {
   "cell_type": "code",
   "execution_count": 223,
   "metadata": {},
   "outputs": [
    {
     "name": "stdout",
     "output_type": "stream",
     "text": [
      "AUC scores computed using 10-fold cross-validation: [0.69190476 0.67714286 0.71761905 0.65761905 0.54714286 0.64047619\n",
      " 0.66083576 0.7249757  0.59329446 0.64097561]\n"
     ]
    }
   ],
   "source": [
    "# Print List of AUC scores\n",
    "print(\"AUC scores computed using 10-fold cross-validation: {}\".format(cv_auc))"
   ]
  },
  {
   "cell_type": "code",
   "execution_count": 224,
   "metadata": {},
   "outputs": [],
   "source": [
    "# Cross-Validation for Accuracy Scores\n",
    "cv_acc = cross_val_score(rfc, predictors_scaled, target, cv=skf, scoring='accuracy')"
   ]
  },
  {
   "cell_type": "code",
   "execution_count": 225,
   "metadata": {},
   "outputs": [
    {
     "name": "stdout",
     "output_type": "stream",
     "text": [
      "Accuracy scores computed using 10-fold cross-validation: [0.61956522 0.59782609 0.61956522 0.61956522 0.66304348 0.54347826\n",
      " 0.61538462 0.62637363 0.63736264 0.65934066]\n"
     ]
    }
   ],
   "source": [
    "# Print List of Accuracy Scores\n",
    "print(\"Accuracy scores computed using 10-fold cross-validation: {}\".format(cv_acc))"
   ]
  },
  {
   "cell_type": "code",
   "execution_count": 226,
   "metadata": {},
   "outputs": [
    {
     "name": "stdout",
     "output_type": "stream",
     "text": [
      "Scores: [0.61956522 0.59782609 0.61956522 0.61956522 0.66304348 0.54347826\n",
      " 0.61538462 0.62637363 0.63736264 0.65934066]\n",
      "Mean: 0.6201505016722408\n",
      "Standard Deviation: 0.031798449871117566\n"
     ]
    }
   ],
   "source": [
    "# Accuracy Results - Mean and Standard Deviation\n",
    "show_scores(cv_acc)"
   ]
  },
  {
   "cell_type": "markdown",
   "metadata": {},
   "source": [
    "## K-Nearest Neighbors - Data Set III. - 2nd Halving to 3rd Halving"
   ]
  },
  {
   "cell_type": "code",
   "execution_count": 227,
   "metadata": {},
   "outputs": [],
   "source": [
    "# Instantiate Classifier - K-Nearest Neighbors\n",
    "knn = KNeighborsClassifier(n_neighbors=12)"
   ]
  },
  {
   "cell_type": "code",
   "execution_count": 228,
   "metadata": {},
   "outputs": [
    {
     "data": {
      "text/plain": [
       "KNeighborsClassifier(n_neighbors=12)"
      ]
     },
     "execution_count": 228,
     "metadata": {},
     "output_type": "execute_result"
    }
   ],
   "source": [
    "# Train Classifier\n",
    "knn.fit(X_train_scaled, y_train) "
   ]
  },
  {
   "cell_type": "code",
   "execution_count": 229,
   "metadata": {},
   "outputs": [],
   "source": [
    "# Prediction of Classes\n",
    "y_pred = knn.predict(X_test_scaled)"
   ]
  },
  {
   "cell_type": "code",
   "execution_count": 230,
   "metadata": {},
   "outputs": [],
   "source": [
    "# Prediction of Probabilities\n",
    "y_pred_prob = knn.predict_proba(X_test_scaled)[:, 1]"
   ]
  },
  {
   "cell_type": "code",
   "execution_count": 231,
   "metadata": {},
   "outputs": [
    {
     "data": {
      "text/plain": [
       "array([0.41666667, 0.41666667, 0.66666667, 0.58333333, 0.75      ,\n",
       "       0.33333333, 0.58333333, 0.58333333, 0.66666667, 0.5       ])"
      ]
     },
     "execution_count": 231,
     "metadata": {},
     "output_type": "execute_result"
    }
   ],
   "source": [
    "# Select Predicted Probabilities\n",
    "y_pred_prob[1:11]"
   ]
  },
  {
   "cell_type": "code",
   "execution_count": 232,
   "metadata": {},
   "outputs": [
    {
     "data": {
      "text/plain": [
       "0.6474258970358814"
      ]
     },
     "execution_count": 232,
     "metadata": {},
     "output_type": "execute_result"
    }
   ],
   "source": [
    "# Train Accuracy\n",
    "knn.score(X_train_scaled, y_train)"
   ]
  },
  {
   "cell_type": "code",
   "execution_count": 233,
   "metadata": {},
   "outputs": [
    {
     "data": {
      "text/plain": [
       "0.6472727272727272"
      ]
     },
     "execution_count": 233,
     "metadata": {},
     "output_type": "execute_result"
    }
   ],
   "source": [
    "# Test Accuracy\n",
    "knn.score(X_test_scaled, y_test)"
   ]
  },
  {
   "cell_type": "code",
   "execution_count": 234,
   "metadata": {},
   "outputs": [
    {
     "data": {
      "image/png": "[encoded data removed]",
      "text/plain": [
       "<Figure size 1080x288 with 1 Axes>"
      ]
     },
     "metadata": {
      "needs_background": "light"
     },
     "output_type": "display_data"
    }
   ],
   "source": [
    "# Array Setup to Store Training and Test Accuracies, plus Range Definition of K-Neighbors\n",
    "neighbors = np.arange(1, 101)\n",
    "train_accuracy = np.empty(len(neighbors))\n",
    "test_accuracy = np.empty(len(neighbors))\n",
    "\n",
    "# Loop over Different Number of K-Kneighbors\n",
    "for i, k in enumerate(neighbors):\n",
    "    \n",
    "    # Instantiation a K-NN Classifier with K-Neighbors\n",
    "    knn = KNeighborsClassifier(n_neighbors = k)\n",
    "\n",
    "    # Training of Classifier\n",
    "    knn.fit(X_train_scaled, y_train)\n",
    "    \n",
    "    # Training Accuracy based on Varying Number of K-Neighbors\n",
    "    train_accuracy[i] = knn.score(X_train_scaled, y_train)\n",
    "\n",
    "    # Training Accuracy based on Varying Number of K-Neighbors\n",
    "    test_accuracy[i] = knn.score(X_test_scaled, y_test)\n",
    "\n",
    "# Generate plot\n",
    "_ = plt.figure(figsize=(15, 4))\n",
    "_ = plt.title('Varying Number of K Neighbors')\n",
    "_ = plt.plot(neighbors, test_accuracy, label = 'Testing Accuracy')\n",
    "_ = plt.plot(neighbors, train_accuracy, label = 'Training Accuracy')\n",
    "_ = plt.legend()\n",
    "_ = plt.xlabel('Number of Nearest Neighbors')\n",
    "_ = plt.ylabel('Accuracy')\n",
    "\n",
    "# Save Plot as JPEG\n",
    "# plt.savefig('Graphics/KNN_Training.jpg', dpi=300)\n",
    "\n",
    "\n",
    "# Display Plot\n",
    "plt.show()"
   ]
  },
  {
   "cell_type": "code",
   "execution_count": 235,
   "metadata": {},
   "outputs": [
    {
     "name": "stdout",
     "output_type": "stream",
     "text": [
      "[[91 35]\n",
      " [62 87]]\n"
     ]
    }
   ],
   "source": [
    "# Output of Confusion Matrix\n",
    "print(confusion_matrix(y_test, y_pred))"
   ]
  },
  {
   "cell_type": "code",
   "execution_count": 236,
   "metadata": {},
   "outputs": [
    {
     "name": "stdout",
     "output_type": "stream",
     "text": [
      "              precision    recall  f1-score   support\n",
      "\n",
      "         0.0       0.59      0.72      0.65       126\n",
      "         1.0       0.71      0.58      0.64       149\n",
      "\n",
      "    accuracy                           0.65       275\n",
      "   macro avg       0.65      0.65      0.65       275\n",
      "weighted avg       0.66      0.65      0.65       275\n",
      "\n"
     ]
    }
   ],
   "source": [
    "# Output of Classification Report\n",
    "print(classification_report(y_test, y_pred))"
   ]
  },
  {
   "cell_type": "code",
   "execution_count": 237,
   "metadata": {},
   "outputs": [],
   "source": [
    "# Generate ROC curve values: fpr, tpr, thresholds\n",
    "fpr, tpr, thresholds = roc_curve(y_test, y_pred_prob)"
   ]
  },
  {
   "cell_type": "code",
   "execution_count": 238,
   "metadata": {},
   "outputs": [
    {
     "data": {
      "image/png": "[encoded data removed]",
      "text/plain": [
       "<Figure size 432x288 with 1 Axes>"
      ]
     },
     "metadata": {
      "needs_background": "light"
     },
     "output_type": "display_data"
    }
   ],
   "source": [
    "# Plot of ROC curve\n",
    "_ = plt.plot([0, 1], [0, 1])\n",
    "_ = plt.plot(fpr, tpr)\n",
    "_ = plt.xlabel('False Positive Rate')\n",
    "_ = plt.ylabel('True Positive Rate')\n",
    "_ = plt.title('Receiver Operating Characteristic (ROC) Curve')\n",
    "plt.show()"
   ]
  },
  {
   "cell_type": "code",
   "execution_count": 239,
   "metadata": {},
   "outputs": [],
   "source": [
    "# 10-fold Cross Validation including Stratification\n",
    "skf = StratifiedKFold(shuffle=True, n_splits=10)"
   ]
  },
  {
   "cell_type": "code",
   "execution_count": 240,
   "metadata": {},
   "outputs": [
    {
     "name": "stdout",
     "output_type": "stream",
     "text": [
      "AUC: 0.6522850751038671\n"
     ]
    }
   ],
   "source": [
    "# Compute and print AUC score\n",
    "print(\"AUC: {}\".format(roc_auc_score(y_test, y_pred_prob)))"
   ]
  },
  {
   "cell_type": "code",
   "execution_count": 241,
   "metadata": {},
   "outputs": [],
   "source": [
    "# Cross-Validation for AUC scores\n",
    "cv_auc = cross_val_score(knn, predictors_scaled, target, cv=skf, scoring='roc_auc')"
   ]
  },
  {
   "cell_type": "code",
   "execution_count": 242,
   "metadata": {},
   "outputs": [
    {
     "name": "stdout",
     "output_type": "stream",
     "text": [
      "AUC scores computed using 10-fold cross-validation: [0.52785714 0.53214286 0.60928571 0.65119048 0.50904762 0.64595238\n",
      " 0.63556851 0.601069   0.63872692 0.50731707]\n"
     ]
    }
   ],
   "source": [
    "# Print List of AUC scores\n",
    "print(\"AUC scores computed using 10-fold cross-validation: {}\".format(cv_auc))"
   ]
  },
  {
   "cell_type": "code",
   "execution_count": 243,
   "metadata": {},
   "outputs": [],
   "source": [
    "# Cross-Validation for Accuracy Scores\n",
    "cv_acc = cross_val_score(knn, predictors_scaled, target, cv=skf, scoring='accuracy')"
   ]
  },
  {
   "cell_type": "code",
   "execution_count": 244,
   "metadata": {},
   "outputs": [
    {
     "name": "stdout",
     "output_type": "stream",
     "text": [
      "Accuracy scores computed using 10-fold cross-validation: [0.59782609 0.54347826 0.52173913 0.52173913 0.52173913 0.56521739\n",
      " 0.67032967 0.54945055 0.48351648 0.69230769]\n"
     ]
    }
   ],
   "source": [
    "# Print List of Accuracy Scores\n",
    "print(\"Accuracy scores computed using 10-fold cross-validation: {}\".format(cv_acc))"
   ]
  },
  {
   "cell_type": "code",
   "execution_count": 245,
   "metadata": {},
   "outputs": [
    {
     "name": "stdout",
     "output_type": "stream",
     "text": [
      "Scores: [0.59782609 0.54347826 0.52173913 0.52173913 0.52173913 0.56521739\n",
      " 0.67032967 0.54945055 0.48351648 0.69230769]\n",
      "Mean: 0.5667343526039178\n",
      "Standard Deviation: 0.06427141671030778\n"
     ]
    }
   ],
   "source": [
    "# Accuracy Results - Mean and Standard Deviation\n",
    "show_scores(cv_acc)"
   ]
  },
  {
   "cell_type": "markdown",
   "metadata": {},
   "source": [
    "## Artificial Neural Networks - Data Set III. - 2nd Halving to 3rd Halving"
   ]
  },
  {
   "cell_type": "markdown",
   "metadata": {},
   "source": [
    "### Artificial Neural Network - Experiments"
   ]
  },
  {
   "cell_type": "code",
   "execution_count": 246,
   "metadata": {},
   "outputs": [],
   "source": [
    "# Instantiate Sequential Model    \n",
    "ann_model = Sequential()\n",
    "    \n",
    "# Layers: Input Layer plus 3 Hidden Dense layers of 300, 200 and 100 neurons each\n",
    "ann_model.add(Dense(300, input_shape= (n_nodes, )))\n",
    "ann_model.add(Dense(200, activation = 'relu'))\n",
    "ann_model.add(Dense(100, activation = 'relu'))\n",
    "ann_model.add(Dense(50, activation = 'relu'))\n",
    "    \n",
    "# Output Layer with 1 Neuron for Binary Classification, either Positive or Negative\n",
    "ann_model.add(Dense(1, activation = 'sigmoid'))"
   ]
  },
  {
   "cell_type": "code",
   "execution_count": 247,
   "metadata": {},
   "outputs": [
    {
     "name": "stdout",
     "output_type": "stream",
     "text": [
      "Model: \"sequential_11\"\n",
      "_________________________________________________________________\n",
      "Layer (type)                 Output Shape              Param #   \n",
      "=================================================================\n",
      "dense_55 (Dense)             (None, 300)               40200     \n",
      "_________________________________________________________________\n",
      "dense_56 (Dense)             (None, 200)               60200     \n",
      "_________________________________________________________________\n",
      "dense_57 (Dense)             (None, 100)               20100     \n",
      "_________________________________________________________________\n",
      "dense_58 (Dense)             (None, 50)                5050      \n",
      "_________________________________________________________________\n",
      "dense_59 (Dense)             (None, 1)                 51        \n",
      "=================================================================\n",
      "Total params: 125,601\n",
      "Trainable params: 125,601\n",
      "Non-trainable params: 0\n",
      "_________________________________________________________________\n"
     ]
    }
   ],
   "source": [
    "# Display Artificial Neural Network Structure\n",
    "ann_model.summary()"
   ]
  },
  {
   "cell_type": "code",
   "execution_count": 248,
   "metadata": {},
   "outputs": [],
   "source": [
    "# Compile ANN-Model using Stochastic Gradient Descent as Optimizer and Binary Crossentropy as Loss Fucntion\n",
    "ann_model.compile(loss='binary_crossentropy', optimizer='SGD', metrics=['accuracy'])"
   ]
  },
  {
   "cell_type": "code",
   "execution_count": 249,
   "metadata": {},
   "outputs": [
    {
     "name": "stdout",
     "output_type": "stream",
     "text": [
      "Epoch 1/50\n",
      " 1/16 [>.............................] - ETA: 0s - loss: 0.7166 - accuracy: 0.4375WARNING:tensorflow:5 out of the last 13 calls to <function Model.make_test_function.<locals>.test_function at 0x1a496070e0> triggered tf.function retracing. Tracing is expensive and the excessive number of tracings could be due to (1) creating @tf.function repeatedly in a loop, (2) passing tensors with different shapes, (3) passing Python objects instead of tensors. For (1), please define your @tf.function outside of the loop. For (2), @tf.function has experimental_relax_shapes=True option that relaxes argument shapes that can avoid unnecessary retracing. For (3), please refer to https://www.tensorflow.org/tutorials/customization/performance#python_or_tensor_args and https://www.tensorflow.org/api_docs/python/tf/function for  more details.\n",
      "16/16 [==============================] - 0s 11ms/step - loss: 0.6888 - accuracy: 0.5352 - val_loss: 0.6760 - val_accuracy: 0.5814\n",
      "Epoch 2/50\n",
      "16/16 [==============================] - 0s 3ms/step - loss: 0.6828 - accuracy: 0.5605 - val_loss: 0.6739 - val_accuracy: 0.5736\n",
      "Epoch 3/50\n",
      "16/16 [==============================] - 0s 3ms/step - loss: 0.6803 - accuracy: 0.5762 - val_loss: 0.6732 - val_accuracy: 0.5349\n",
      "Epoch 4/50\n",
      "16/16 [==============================] - 0s 3ms/step - loss: 0.6778 - accuracy: 0.5781 - val_loss: 0.6733 - val_accuracy: 0.5504\n",
      "Epoch 5/50\n",
      "16/16 [==============================] - 0s 3ms/step - loss: 0.6758 - accuracy: 0.5605 - val_loss: 0.6701 - val_accuracy: 0.5891\n",
      "Epoch 6/50\n",
      "16/16 [==============================] - 0s 3ms/step - loss: 0.6763 - accuracy: 0.5723 - val_loss: 0.6700 - val_accuracy: 0.5736\n",
      "Epoch 7/50\n",
      "16/16 [==============================] - 0s 3ms/step - loss: 0.6751 - accuracy: 0.5879 - val_loss: 0.6695 - val_accuracy: 0.5581\n",
      "Epoch 8/50\n",
      "16/16 [==============================] - 0s 3ms/step - loss: 0.6734 - accuracy: 0.5801 - val_loss: 0.6694 - val_accuracy: 0.5659\n",
      "Epoch 9/50\n",
      "16/16 [==============================] - 0s 3ms/step - loss: 0.6742 - accuracy: 0.5762 - val_loss: 0.6685 - val_accuracy: 0.5736\n",
      "Epoch 10/50\n",
      "16/16 [==============================] - 0s 3ms/step - loss: 0.6708 - accuracy: 0.5977 - val_loss: 0.6702 - val_accuracy: 0.5504\n",
      "Epoch 11/50\n",
      "16/16 [==============================] - 0s 3ms/step - loss: 0.6717 - accuracy: 0.5840 - val_loss: 0.6682 - val_accuracy: 0.5581\n",
      "Epoch 12/50\n",
      "16/16 [==============================] - 0s 3ms/step - loss: 0.6706 - accuracy: 0.5898 - val_loss: 0.6674 - val_accuracy: 0.5969\n",
      "Epoch 13/50\n",
      "16/16 [==============================] - 0s 3ms/step - loss: 0.6711 - accuracy: 0.5879 - val_loss: 0.6666 - val_accuracy: 0.6124\n",
      "Epoch 14/50\n",
      "16/16 [==============================] - 0s 3ms/step - loss: 0.6709 - accuracy: 0.5859 - val_loss: 0.6683 - val_accuracy: 0.5426\n",
      "Epoch 15/50\n",
      "16/16 [==============================] - 0s 3ms/step - loss: 0.6709 - accuracy: 0.5762 - val_loss: 0.6670 - val_accuracy: 0.5814\n",
      "Epoch 16/50\n",
      "16/16 [==============================] - 0s 3ms/step - loss: 0.6693 - accuracy: 0.6074 - val_loss: 0.6664 - val_accuracy: 0.5969\n",
      "Epoch 17/50\n",
      "16/16 [==============================] - 0s 3ms/step - loss: 0.6685 - accuracy: 0.5977 - val_loss: 0.6679 - val_accuracy: 0.5504\n",
      "Epoch 18/50\n",
      "16/16 [==============================] - 0s 3ms/step - loss: 0.6664 - accuracy: 0.6074 - val_loss: 0.6685 - val_accuracy: 0.5504\n",
      "Epoch 19/50\n",
      "16/16 [==============================] - 0s 3ms/step - loss: 0.6666 - accuracy: 0.5996 - val_loss: 0.6657 - val_accuracy: 0.6124\n",
      "Epoch 20/50\n",
      "16/16 [==============================] - 0s 3ms/step - loss: 0.6683 - accuracy: 0.6016 - val_loss: 0.6658 - val_accuracy: 0.5969\n",
      "Epoch 21/50\n",
      "16/16 [==============================] - 0s 3ms/step - loss: 0.6659 - accuracy: 0.6055 - val_loss: 0.6656 - val_accuracy: 0.6202\n",
      "Epoch 22/50\n",
      "16/16 [==============================] - 0s 3ms/step - loss: 0.6657 - accuracy: 0.6094 - val_loss: 0.6662 - val_accuracy: 0.5891\n",
      "Epoch 23/50\n",
      "16/16 [==============================] - 0s 3ms/step - loss: 0.6654 - accuracy: 0.5918 - val_loss: 0.6697 - val_accuracy: 0.5504\n",
      "Epoch 24/50\n",
      "16/16 [==============================] - 0s 3ms/step - loss: 0.6658 - accuracy: 0.6016 - val_loss: 0.6664 - val_accuracy: 0.5814\n",
      "Epoch 25/50\n",
      "16/16 [==============================] - 0s 3ms/step - loss: 0.6649 - accuracy: 0.5840 - val_loss: 0.6652 - val_accuracy: 0.6202\n",
      "Epoch 26/50\n",
      "16/16 [==============================] - 0s 3ms/step - loss: 0.6633 - accuracy: 0.5938 - val_loss: 0.6681 - val_accuracy: 0.5504\n",
      "Epoch 27/50\n",
      "16/16 [==============================] - 0s 3ms/step - loss: 0.6649 - accuracy: 0.5938 - val_loss: 0.6658 - val_accuracy: 0.5891\n",
      "Epoch 28/50\n",
      "16/16 [==============================] - 0s 3ms/step - loss: 0.6637 - accuracy: 0.5957 - val_loss: 0.6659 - val_accuracy: 0.6202\n",
      "Epoch 29/50\n",
      "16/16 [==============================] - 0s 3ms/step - loss: 0.6641 - accuracy: 0.5977 - val_loss: 0.6652 - val_accuracy: 0.5891\n",
      "Epoch 30/50\n",
      "16/16 [==============================] - 0s 3ms/step - loss: 0.6628 - accuracy: 0.6113 - val_loss: 0.6646 - val_accuracy: 0.5814\n",
      "Epoch 31/50\n",
      "16/16 [==============================] - 0s 3ms/step - loss: 0.6639 - accuracy: 0.5996 - val_loss: 0.6664 - val_accuracy: 0.5504\n",
      "Epoch 32/50\n",
      "16/16 [==============================] - 0s 3ms/step - loss: 0.6618 - accuracy: 0.6250 - val_loss: 0.6643 - val_accuracy: 0.5969\n",
      "Epoch 33/50\n",
      "16/16 [==============================] - 0s 3ms/step - loss: 0.6597 - accuracy: 0.6113 - val_loss: 0.6673 - val_accuracy: 0.6357\n",
      "Epoch 34/50\n",
      "16/16 [==============================] - 0s 3ms/step - loss: 0.6637 - accuracy: 0.6230 - val_loss: 0.6652 - val_accuracy: 0.6357\n",
      "Epoch 35/50\n",
      "16/16 [==============================] - 0s 3ms/step - loss: 0.6608 - accuracy: 0.6016 - val_loss: 0.6658 - val_accuracy: 0.5504\n",
      "Epoch 36/50\n",
      "16/16 [==============================] - 0s 4ms/step - loss: 0.6609 - accuracy: 0.5957 - val_loss: 0.6646 - val_accuracy: 0.5659\n",
      "Epoch 37/50\n",
      "16/16 [==============================] - 0s 3ms/step - loss: 0.6597 - accuracy: 0.6094 - val_loss: 0.6716 - val_accuracy: 0.5504\n",
      "Epoch 38/50\n",
      "16/16 [==============================] - 0s 3ms/step - loss: 0.6608 - accuracy: 0.5938 - val_loss: 0.6645 - val_accuracy: 0.6357\n",
      "Epoch 39/50\n",
      "16/16 [==============================] - 0s 3ms/step - loss: 0.6611 - accuracy: 0.5938 - val_loss: 0.6650 - val_accuracy: 0.5814\n",
      "Epoch 40/50\n",
      "16/16 [==============================] - 0s 4ms/step - loss: 0.6619 - accuracy: 0.6016 - val_loss: 0.6635 - val_accuracy: 0.6279\n",
      "Epoch 41/50\n",
      "16/16 [==============================] - 0s 3ms/step - loss: 0.6622 - accuracy: 0.6113 - val_loss: 0.6645 - val_accuracy: 0.5814\n",
      "Epoch 42/50\n",
      "16/16 [==============================] - 0s 3ms/step - loss: 0.6607 - accuracy: 0.6230 - val_loss: 0.6631 - val_accuracy: 0.6357\n",
      "Epoch 43/50\n",
      "16/16 [==============================] - 0s 3ms/step - loss: 0.6587 - accuracy: 0.6094 - val_loss: 0.6641 - val_accuracy: 0.5814\n",
      "Epoch 44/50\n",
      "16/16 [==============================] - 0s 3ms/step - loss: 0.6592 - accuracy: 0.6211 - val_loss: 0.6635 - val_accuracy: 0.5581\n",
      "Epoch 45/50\n",
      "16/16 [==============================] - 0s 3ms/step - loss: 0.6602 - accuracy: 0.6094 - val_loss: 0.6625 - val_accuracy: 0.6279\n",
      "Epoch 46/50\n",
      "16/16 [==============================] - 0s 3ms/step - loss: 0.6567 - accuracy: 0.6309 - val_loss: 0.6636 - val_accuracy: 0.5891\n",
      "Epoch 47/50\n",
      "16/16 [==============================] - 0s 4ms/step - loss: 0.6582 - accuracy: 0.6191 - val_loss: 0.6628 - val_accuracy: 0.6434\n",
      "Epoch 48/50\n",
      "16/16 [==============================] - 0s 4ms/step - loss: 0.6572 - accuracy: 0.6055 - val_loss: 0.6623 - val_accuracy: 0.6589\n",
      "Epoch 49/50\n",
      "16/16 [==============================] - 0s 3ms/step - loss: 0.6554 - accuracy: 0.6230 - val_loss: 0.6618 - val_accuracy: 0.6357\n",
      "Epoch 50/50\n",
      "16/16 [==============================] - 0s 3ms/step - loss: 0.6552 - accuracy: 0.6191 - val_loss: 0.6682 - val_accuracy: 0.5581\n"
     ]
    },
    {
     "data": {
      "text/plain": [
       "<tensorflow.python.keras.callbacks.History at 0x1a471cda10>"
      ]
     },
     "execution_count": 249,
     "metadata": {},
     "output_type": "execute_result"
    }
   ],
   "source": [
    "# Train ANN Model with 50 epochs and 20% Validation Data\n",
    "ann_model.fit(X_train_scaled, y_train, epochs = 50, validation_split=0.2)"
   ]
  },
  {
   "cell_type": "code",
   "execution_count": 250,
   "metadata": {},
   "outputs": [
    {
     "name": "stdout",
     "output_type": "stream",
     "text": [
      "9/9 [==============================] - 0s 1ms/step - loss: 0.6858 - accuracy: 0.5309\n"
     ]
    }
   ],
   "source": [
    "# Evaluate Artificial Neural Network Accuracy with Test Data\n",
    "accuracy = ann_model.evaluate(X_test_scaled, y_test)[1] #[1] only the 2nd value = accuracy is handed over"
   ]
  },
  {
   "cell_type": "code",
   "execution_count": 251,
   "metadata": {},
   "outputs": [
    {
     "name": "stdout",
     "output_type": "stream",
     "text": [
      "Accuracy: 0.5309090614318848\n"
     ]
    }
   ],
   "source": [
    "# Print Artificial Neural Network Accuracy\n",
    "print('Accuracy:', accuracy)"
   ]
  },
  {
   "cell_type": "code",
   "execution_count": 252,
   "metadata": {},
   "outputs": [],
   "source": [
    "# Select Second Hidden Layer\n",
    "hidden_1 = ann_model.layers[1]"
   ]
  },
  {
   "cell_type": "code",
   "execution_count": 253,
   "metadata": {},
   "outputs": [],
   "source": [
    "# Select Parameters of Second Hidden Layer\n",
    "weights, biases = hidden_1.get_weights()"
   ]
  },
  {
   "cell_type": "code",
   "execution_count": 254,
   "metadata": {},
   "outputs": [
    {
     "data": {
      "text/plain": [
       "array([[ 0.10036215,  0.09148857, -0.06826721, ...,  0.06852654,\n",
       "         0.06258529, -0.04880323],\n",
       "       [-0.03365724,  0.10351609,  0.0887888 , ...,  0.02972874,\n",
       "         0.04755316,  0.0863336 ],\n",
       "       [ 0.08453884,  0.07188699,  0.00579856, ...,  0.07790574,\n",
       "        -0.0447959 ,  0.09558026],\n",
       "       ...,\n",
       "       [-0.04723175,  0.03857442,  0.10447849, ..., -0.09724548,\n",
       "         0.10776661, -0.08526158],\n",
       "       [-0.04846499, -0.02797089,  0.08026842, ...,  0.00893874,\n",
       "        -0.00379164,  0.1096022 ],\n",
       "       [-0.01479792, -0.09434044,  0.09804564, ...,  0.05384263,\n",
       "         0.10612056,  0.09910025]], dtype=float32)"
      ]
     },
     "execution_count": 254,
     "metadata": {},
     "output_type": "execute_result"
    }
   ],
   "source": [
    "# Controll Weight Parameters\n",
    "weights[0:10]"
   ]
  },
  {
   "cell_type": "code",
   "execution_count": 255,
   "metadata": {},
   "outputs": [
    {
     "data": {
      "text/plain": [
       "array([ 1.0059632e-03, -1.3834626e-05,  6.7578047e-05, -5.6529942e-04,\n",
       "        1.9565318e-03, -2.3609982e-03,  0.0000000e+00, -1.5901692e-03,\n",
       "       -1.5611260e-04,  1.9929828e-03], dtype=float32)"
      ]
     },
     "execution_count": 255,
     "metadata": {},
     "output_type": "execute_result"
    }
   ],
   "source": [
    "# Controll Bias Parameters\n",
    "biases[0:10]"
   ]
  },
  {
   "cell_type": "code",
   "execution_count": 256,
   "metadata": {},
   "outputs": [],
   "source": [
    "# Prediction of Probabilities\n",
    "y_pred_proba = ann_model.predict(X_test_scaled)"
   ]
  },
  {
   "cell_type": "code",
   "execution_count": 257,
   "metadata": {},
   "outputs": [
    {
     "name": "stdout",
     "output_type": "stream",
     "text": [
      "Raw Model Predictions | True labels\n",
      "[0.7130879] | 1.0\n",
      "[0.5091779] | 0.0\n",
      "[0.47176692] | 1.0\n",
      "[0.6090121] | 1.0\n",
      "[0.5364243] | 1.0\n",
      "[0.66673005] | 1.0\n",
      "[0.508117] | 0.0\n",
      "[0.5873139] | 0.0\n",
      "[0.6578086] | 0.0\n",
      "[0.49499965] | 1.0\n",
      "[0.55513567] | 1.0\n",
      "[0.46217084] | 0.0\n",
      "[0.6765494] | 0.0\n",
      "[0.7161453] | 1.0\n",
      "[0.46102464] | 1.0\n",
      "[0.5742131] | 1.0\n"
     ]
    }
   ],
   "source": [
    "# Display Predictions against Actual Values\n",
    "print(\"{:10} | {:10}\".format('Raw Model Predictions','True labels'))\n",
    "\n",
    "# For Loop through Predictions and Actual Values\n",
    "for i, prediction in enumerate(y_pred_proba):\n",
    "    print(\"{} | {}\".format(prediction, y_test[i]))\n",
    "    if i == 15:\n",
    "        break"
   ]
  },
  {
   "cell_type": "code",
   "execution_count": 258,
   "metadata": {},
   "outputs": [],
   "source": [
    "# Change Probability Predictions to Class Predictions\n",
    "y_pred_proba[y_pred_proba >= 0.5] = 1\n",
    "y_pred_proba[y_pred_proba < 0.5] = 0"
   ]
  },
  {
   "cell_type": "code",
   "execution_count": 259,
   "metadata": {},
   "outputs": [
    {
     "name": "stdout",
     "output_type": "stream",
     "text": [
      "[[ 28  98]\n",
      " [ 31 118]]\n"
     ]
    }
   ],
   "source": [
    "cm = confusion_matrix(y_test, y_pred_proba)\n",
    "print(cm)"
   ]
  },
  {
   "cell_type": "code",
   "execution_count": 260,
   "metadata": {},
   "outputs": [
    {
     "name": "stdout",
     "output_type": "stream",
     "text": [
      "              precision    recall  f1-score   support\n",
      "\n",
      "         0.0       0.47      0.22      0.30       126\n",
      "         1.0       0.55      0.79      0.65       149\n",
      "\n",
      "    accuracy                           0.53       275\n",
      "   macro avg       0.51      0.51      0.47       275\n",
      "weighted avg       0.51      0.53      0.49       275\n",
      "\n"
     ]
    }
   ],
   "source": [
    "# Output of Classification Report\n",
    "print(classification_report(y_test, y_pred_proba))"
   ]
  },
  {
   "cell_type": "markdown",
   "metadata": {},
   "source": [
    "### Artificial Neural Network including Stratified 10-fold Cross-Validation"
   ]
  },
  {
   "cell_type": "code",
   "execution_count": 261,
   "metadata": {},
   "outputs": [],
   "source": [
    "# Function for Deep Neural Network\n",
    "def dnn_model():\n",
    "    \n",
    "    # Instantiate Sequential Model\n",
    "    dnn_model = Sequential()\n",
    "    \n",
    "    # Layers: Input Layer plus 3 Hidden Dense layers of 300, 200 and 100 neurons each\n",
    "    dnn_model.add(Dense(300, input_shape= (n_nodes, )))\n",
    "    dnn_model.add(Dense(200, activation = 'relu'))\n",
    "    dnn_model.add(Dense(100, activation = 'relu'))\n",
    "    dnn_model.add(Dense(50, activation = 'relu'))\n",
    "    \n",
    "    # Output Layer with 1 Neuron for Binary Classification, either Positive or Negative\n",
    "    dnn_model.add(Dense(1, activation = 'sigmoid'))\n",
    "    \n",
    "    # Compile ANN-Model using Stochastic Gradient Descent as Optimizer and Binary Crossentropy as Loss Fucntion\n",
    "    dnn_model.compile(loss='binary_crossentropy', optimizer='SGD', metrics=['accuracy'])\n",
    "    \n",
    "    return dnn_model"
   ]
  },
  {
   "cell_type": "code",
   "execution_count": 262,
   "metadata": {},
   "outputs": [],
   "source": [
    "# Create Model\n",
    "model = KerasClassifier(build_fn=dnn_model)"
   ]
  },
  {
   "cell_type": "code",
   "execution_count": 263,
   "metadata": {},
   "outputs": [],
   "source": [
    "# Cross-Validation for Accuracy Scores\n",
    "kfold = StratifiedKFold(n_splits=10, shuffle=True, random_state=41)"
   ]
  },
  {
   "cell_type": "code",
   "execution_count": 264,
   "metadata": {},
   "outputs": [
    {
     "name": "stdout",
     "output_type": "stream",
     "text": [
      "26/26 [==============================] - 0s 2ms/step - loss: 0.6890 - accuracy: 0.5485\n",
      "3/3 [==============================] - 0s 1ms/step - loss: 0.6847 - accuracy: 0.5326\n",
      "26/26 [==============================] - 0s 2ms/step - loss: 0.6889 - accuracy: 0.5461\n",
      "3/3 [==============================] - 0s 1ms/step - loss: 0.6906 - accuracy: 0.5326\n",
      "26/26 [==============================] - 0s 2ms/step - loss: 0.6898 - accuracy: 0.5279\n",
      "3/3 [==============================] - 0s 2ms/step - loss: 0.6797 - accuracy: 0.5543\n",
      "26/26 [==============================] - 0s 2ms/step - loss: 0.6884 - accuracy: 0.5364\n",
      "WARNING:tensorflow:5 out of the last 269 calls to <function Model.make_test_function.<locals>.test_function at 0x1a497347a0> triggered tf.function retracing. Tracing is expensive and the excessive number of tracings could be due to (1) creating @tf.function repeatedly in a loop, (2) passing tensors with different shapes, (3) passing Python objects instead of tensors. For (1), please define your @tf.function outside of the loop. For (2), @tf.function has experimental_relax_shapes=True option that relaxes argument shapes that can avoid unnecessary retracing. For (3), please refer to https://www.tensorflow.org/tutorials/customization/performance#python_or_tensor_args and https://www.tensorflow.org/api_docs/python/tf/function for  more details.\n",
      "3/3 [==============================] - 0s 2ms/step - loss: 0.6801 - accuracy: 0.5109\n",
      "26/26 [==============================] - 0s 2ms/step - loss: 0.6949 - accuracy: 0.5121\n",
      "WARNING:tensorflow:5 out of the last 13 calls to <function Model.make_test_function.<locals>.test_function at 0x1a491c45f0> triggered tf.function retracing. Tracing is expensive and the excessive number of tracings could be due to (1) creating @tf.function repeatedly in a loop, (2) passing tensors with different shapes, (3) passing Python objects instead of tensors. For (1), please define your @tf.function outside of the loop. For (2), @tf.function has experimental_relax_shapes=True option that relaxes argument shapes that can avoid unnecessary retracing. For (3), please refer to https://www.tensorflow.org/tutorials/customization/performance#python_or_tensor_args and https://www.tensorflow.org/api_docs/python/tf/function for  more details.\n",
      "3/3 [==============================] - 0s 2ms/step - loss: 0.6857 - accuracy: 0.5217\n",
      "26/26 [==============================] - 0s 2ms/step - loss: 0.6907 - accuracy: 0.5146\n",
      "WARNING:tensorflow:5 out of the last 13 calls to <function Model.make_test_function.<locals>.test_function at 0x121bbe170> triggered tf.function retracing. Tracing is expensive and the excessive number of tracings could be due to (1) creating @tf.function repeatedly in a loop, (2) passing tensors with different shapes, (3) passing Python objects instead of tensors. For (1), please define your @tf.function outside of the loop. For (2), @tf.function has experimental_relax_shapes=True option that relaxes argument shapes that can avoid unnecessary retracing. For (3), please refer to https://www.tensorflow.org/tutorials/customization/performance#python_or_tensor_args and https://www.tensorflow.org/api_docs/python/tf/function for  more details.\n",
      "3/3 [==============================] - 0s 2ms/step - loss: 0.6883 - accuracy: 0.5326\n",
      "26/26 [==============================] - 0s 2ms/step - loss: 0.6884 - accuracy: 0.5467\n",
      "WARNING:tensorflow:5 out of the last 13 calls to <function Model.make_test_function.<locals>.test_function at 0x1a473f3c20> triggered tf.function retracing. Tracing is expensive and the excessive number of tracings could be due to (1) creating @tf.function repeatedly in a loop, (2) passing tensors with different shapes, (3) passing Python objects instead of tensors. For (1), please define your @tf.function outside of the loop. For (2), @tf.function has experimental_relax_shapes=True option that relaxes argument shapes that can avoid unnecessary retracing. For (3), please refer to https://www.tensorflow.org/tutorials/customization/performance#python_or_tensor_args and https://www.tensorflow.org/api_docs/python/tf/function for  more details.\n",
      "3/3 [==============================] - 0s 2ms/step - loss: 0.6916 - accuracy: 0.5385\n",
      "26/26 [==============================] - 0s 2ms/step - loss: 0.6933 - accuracy: 0.5236\n",
      "WARNING:tensorflow:5 out of the last 13 calls to <function Model.make_test_function.<locals>.test_function at 0x1a4cff0290> triggered tf.function retracing. Tracing is expensive and the excessive number of tracings could be due to (1) creating @tf.function repeatedly in a loop, (2) passing tensors with different shapes, (3) passing Python objects instead of tensors. For (1), please define your @tf.function outside of the loop. For (2), @tf.function has experimental_relax_shapes=True option that relaxes argument shapes that can avoid unnecessary retracing. For (3), please refer to https://www.tensorflow.org/tutorials/customization/performance#python_or_tensor_args and https://www.tensorflow.org/api_docs/python/tf/function for  more details.\n",
      "3/3 [==============================] - 0s 2ms/step - loss: 0.6872 - accuracy: 0.5165\n",
      "26/26 [==============================] - 0s 2ms/step - loss: 0.6944 - accuracy: 0.5164\n",
      "WARNING:tensorflow:5 out of the last 13 calls to <function Model.make_test_function.<locals>.test_function at 0x1a490ba200> triggered tf.function retracing. Tracing is expensive and the excessive number of tracings could be due to (1) creating @tf.function repeatedly in a loop, (2) passing tensors with different shapes, (3) passing Python objects instead of tensors. For (1), please define your @tf.function outside of the loop. For (2), @tf.function has experimental_relax_shapes=True option that relaxes argument shapes that can avoid unnecessary retracing. For (3), please refer to https://www.tensorflow.org/tutorials/customization/performance#python_or_tensor_args and https://www.tensorflow.org/api_docs/python/tf/function for  more details.\n",
      "3/3 [==============================] - 0s 2ms/step - loss: 0.6863 - accuracy: 0.5385\n",
      "26/26 [==============================] - 0s 2ms/step - loss: 0.6916 - accuracy: 0.5224\n",
      "WARNING:tensorflow:5 out of the last 13 calls to <function Model.make_test_function.<locals>.test_function at 0x121bd4b00> triggered tf.function retracing. Tracing is expensive and the excessive number of tracings could be due to (1) creating @tf.function repeatedly in a loop, (2) passing tensors with different shapes, (3) passing Python objects instead of tensors. For (1), please define your @tf.function outside of the loop. For (2), @tf.function has experimental_relax_shapes=True option that relaxes argument shapes that can avoid unnecessary retracing. For (3), please refer to https://www.tensorflow.org/tutorials/customization/performance#python_or_tensor_args and https://www.tensorflow.org/api_docs/python/tf/function for  more details.\n",
      "3/3 [==============================] - 0s 2ms/step - loss: 0.6877 - accuracy: 0.5604\n"
     ]
    }
   ],
   "source": [
    "cross_acc = cross_val_score(model, predictors_scaled, target, cv=kfold)"
   ]
  },
  {
   "cell_type": "code",
   "execution_count": 265,
   "metadata": {},
   "outputs": [
    {
     "name": "stdout",
     "output_type": "stream",
     "text": [
      "Scores: [0.53260869 0.53260869 0.55434781 0.51086956 0.52173913 0.53260869\n",
      " 0.53846157 0.51648355 0.53846157 0.56043959]\n",
      "Mean: 0.5338628828525543\n",
      "Standard Deviation: 0.014665224129348156\n"
     ]
    }
   ],
   "source": [
    "# Accuracy Results - Mean and Standard Deviation\n",
    "show_scores(cross_acc)"
   ]
  }
 ],
 "metadata": {
  "kernelspec": {
   "display_name": "Python 3",
   "language": "python",
   "name": "python3"
  },
  "language_info": {
   "codemirror_mode": {
    "name": "ipython",
    "version": 3
   },
   "file_extension": ".py",
   "mimetype": "text/x-python",
   "name": "python",
   "nbconvert_exporter": "python",
   "pygments_lexer": "ipython3",
   "version": "3.8.5"
  },
  "toc": {
   "base_numbering": 1,
   "nav_menu": {},
   "number_sections": true,
   "sideBar": true,
   "skip_h1_title": false,
   "title_cell": "Table of Contents",
   "title_sidebar": "Contents",
   "toc_cell": true,
   "toc_position": {},
   "toc_section_display": true,
   "toc_window_display": false
  },
  "toc-autonumbering": true
 },
 "nbformat": 4,
 "nbformat_minor": 4
}
