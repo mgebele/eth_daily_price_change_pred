{
 "cells": [
  {
   "cell_type": "markdown",
   "metadata": {
    "toc": true
   },
   "source": [
    "## <h1>Table of Contents<span class=\"tocSkip\"></span></h1>\n",
    "<div class=\"toc\"><ul class=\"toc-item\"><li><span><a href=\"#Data-Preprocessing\" data-toc-modified-id=\"Data-Preprocessing-1\"><span class=\"toc-item-num\">1&nbsp;&nbsp;</span>Data Preprocessing</a></span><ul class=\"toc-item\"><li><span><a href=\"#Data-Import-via-Application-Programming-Interfaces\" data-toc-modified-id=\"Data-Import-via-Application-Programming-Interfaces-1.1\"><span class=\"toc-item-num\">1.1&nbsp;&nbsp;</span>Data Import via Application Programming Interfaces</a></span><ul class=\"toc-item\"><li><span><a href=\"#Blockchain-Data-from-Glassnode\" data-toc-modified-id=\"Blockchain-Data-from-Glassnode-1.1.1\"><span class=\"toc-item-num\">1.1.1&nbsp;&nbsp;</span>Blockchain Data from Glassnode</a></span><ul class=\"toc-item\"><li><span><a href=\"#Market-Metrics-from-Glassnode\" data-toc-modified-id=\"Market-Metrics-from-Glassnode-1.1.1.1\"><span class=\"toc-item-num\">1.1.1.1&nbsp;&nbsp;</span>Market Metrics from Glassnode</a></span></li><li><span><a href=\"#Mining-Metrics-from-Glassnode\" data-toc-modified-id=\"Mining-Metrics-from-Glassnode-1.1.1.2\"><span class=\"toc-item-num\">1.1.1.2&nbsp;&nbsp;</span>Mining Metrics from Glassnode</a></span></li><li><span><a href=\"#Blocks-Metrics-from-Glassnode\" data-toc-modified-id=\"Blocks-Metrics-from-Glassnode-1.1.1.3\"><span class=\"toc-item-num\">1.1.1.3&nbsp;&nbsp;</span>Blocks Metrics from Glassnode</a></span></li><li><span><a href=\"#Distribution-Metrics-from-Glassnode\" data-toc-modified-id=\"Distribution-Metrics-from-Glassnode-1.1.1.4\"><span class=\"toc-item-num\">1.1.1.4&nbsp;&nbsp;</span>Distribution Metrics from Glassnode</a></span></li><li><span><a href=\"#Fee-Metrics-from-Glassnode\" data-toc-modified-id=\"Fee-Metrics-from-Glassnode-1.1.1.5\"><span class=\"toc-item-num\">1.1.1.5&nbsp;&nbsp;</span>Fee Metrics from Glassnode</a></span></li><li><span><a href=\"#UTXO-Metrics-from-Glassnode\" data-toc-modified-id=\"UTXO-Metrics-from-Glassnode-1.1.1.6\"><span class=\"toc-item-num\">1.1.1.6&nbsp;&nbsp;</span>UTXO Metrics from Glassnode</a></span></li><li><span><a href=\"#Supply-Metrics-from-Glassnode\" data-toc-modified-id=\"Supply-Metrics-from-Glassnode-1.1.1.7\"><span class=\"toc-item-num\">1.1.1.7&nbsp;&nbsp;</span>Supply Metrics from Glassnode</a></span></li><li><span><a href=\"#Transaction-Metrics-from-Glassnode\" data-toc-modified-id=\"Transaction-Metrics-from-Glassnode-1.1.1.8\"><span class=\"toc-item-num\">1.1.1.8&nbsp;&nbsp;</span>Transaction Metrics from Glassnode</a></span></li><li><span><a href=\"#Exchange-Metrics-from-Glassnode---1-Month-Lag\" data-toc-modified-id=\"Exchange-Metrics-from-Glassnode---1-Month-Lag-1.1.1.9\"><span class=\"toc-item-num\">1.1.1.9&nbsp;&nbsp;</span>Exchange Metrics from Glassnode - 1 Month Lag</a></span></li><li><span><a href=\"#Indicator-I-Metrics-from-Glassnode\" data-toc-modified-id=\"Indicator-I-Metrics-from-Glassnode-1.1.1.10\"><span class=\"toc-item-num\">1.1.1.10&nbsp;&nbsp;</span>Indicator-I Metrics from Glassnode</a></span></li><li><span><a href=\"#Indicator-2-Metrics-from-Glassnode\" data-toc-modified-id=\"Indicator-2-Metrics-from-Glassnode-1.1.1.11\"><span class=\"toc-item-num\">1.1.1.11&nbsp;&nbsp;</span>Indicator-2 Metrics from Glassnode</a></span></li><li><span><a href=\"#Indicator-3-Metrics-from-Glassnode\" data-toc-modified-id=\"Indicator-3-Metrics-from-Glassnode-1.1.1.12\"><span class=\"toc-item-num\">1.1.1.12&nbsp;&nbsp;</span>Indicator-3 Metrics from Glassnode</a></span></li><li><span><a href=\"#Addresses-Metrics-from-Glassnode\" data-toc-modified-id=\"Addresses-Metrics-from-Glassnode-1.1.1.13\"><span class=\"toc-item-num\">1.1.1.13&nbsp;&nbsp;</span>Addresses Metrics from Glassnode</a></span></li><li><span><a href=\"#Futures-Metrics-from-Glassnode---Excluded-as-Data-Available-Only-Since-Feb-2020\" data-toc-modified-id=\"Futures-Metrics-from-Glassnode---Excluded-as-Data-Available-Only-Since-Feb-2020-1.1.1.14\"><span class=\"toc-item-num\">1.1.1.14&nbsp;&nbsp;</span>Futures Metrics from Glassnode - Excluded as Data Available Only Since Feb 2020</a></span><ul class=\"toc-item\"><li><span><a href=\"#List-of-Futures-Features\" data-toc-modified-id=\"List-of-Futures-Features-1.1.1.14.1\"><span class=\"toc-item-num\">1.1.1.14.1&nbsp;&nbsp;</span>List of Futures Features</a></span></li><li><span><a href=\"#Data-Frame-of-Future-features\" data-toc-modified-id=\"Data-Frame-of-Future-features-1.1.1.14.2\"><span class=\"toc-item-num\">1.1.1.14.2&nbsp;&nbsp;</span>Data Frame of Future features</a></span></li></ul></li></ul></li></ul></li><li><span><a href=\"#File-Import-and-Data-Tidying\" data-toc-modified-id=\"File-Import-and-Data-Tidying-1.2\"><span class=\"toc-item-num\">1.2&nbsp;&nbsp;</span>File Import and Data Tidying</a></span><ul class=\"toc-item\"><li><span><a href=\"#Import-Blockchain-CSV-Files\" data-toc-modified-id=\"Import-Blockchain-CSV-Files-1.2.1\"><span class=\"toc-item-num\">1.2.1&nbsp;&nbsp;</span>Import Blockchain CSV-Files</a></span><ul class=\"toc-item\"><li><span><a href=\"#Market-Metric-CSV-Files\" data-toc-modified-id=\"Market-Metric-CSV-Files-1.2.1.1\"><span class=\"toc-item-num\">1.2.1.1&nbsp;&nbsp;</span>Market Metric CSV-Files</a></span></li><li><span><a href=\"#Mining-Metric-CSV-Files\" data-toc-modified-id=\"Mining-Metric-CSV-Files-1.2.1.2\"><span class=\"toc-item-num\">1.2.1.2&nbsp;&nbsp;</span>Mining Metric CSV-Files</a></span></li><li><span><a href=\"#Blocks-Metric-CSV-Files\" data-toc-modified-id=\"Blocks-Metric-CSV-Files-1.2.1.3\"><span class=\"toc-item-num\">1.2.1.3&nbsp;&nbsp;</span>Blocks Metric CSV-Files</a></span></li><li><span><a href=\"#Distribution-Metric-CSV-Files\" data-toc-modified-id=\"Distribution-Metric-CSV-Files-1.2.1.4\"><span class=\"toc-item-num\">1.2.1.4&nbsp;&nbsp;</span>Distribution Metric CSV-Files</a></span></li><li><span><a href=\"#Fee-Metric-CSV-Files\" data-toc-modified-id=\"Fee-Metric-CSV-Files-1.2.1.5\"><span class=\"toc-item-num\">1.2.1.5&nbsp;&nbsp;</span>Fee Metric CSV-Files</a></span></li><li><span><a href=\"#UTXO-Metric-CSV-Files\" data-toc-modified-id=\"UTXO-Metric-CSV-Files-1.2.1.6\"><span class=\"toc-item-num\">1.2.1.6&nbsp;&nbsp;</span>UTXO Metric CSV-Files</a></span></li><li><span><a href=\"#Supply-Metric-CSV-Files\" data-toc-modified-id=\"Supply-Metric-CSV-Files-1.2.1.7\"><span class=\"toc-item-num\">1.2.1.7&nbsp;&nbsp;</span>Supply Metric CSV-Files</a></span></li><li><span><a href=\"#Transaction-Metric-CSV-Files\" data-toc-modified-id=\"Transaction-Metric-CSV-Files-1.2.1.8\"><span class=\"toc-item-num\">1.2.1.8&nbsp;&nbsp;</span>Transaction Metric CSV-Files</a></span></li><li><span><a href=\"#Exchange-Metrics-CSV-Files\" data-toc-modified-id=\"Exchange-Metrics-CSV-Files-1.2.1.9\"><span class=\"toc-item-num\">1.2.1.9&nbsp;&nbsp;</span>Exchange Metrics CSV-Files</a></span></li><li><span><a href=\"#Indicator-1-Metric-CSV-Files\" data-toc-modified-id=\"Indicator-1-Metric-CSV-Files-1.2.1.10\"><span class=\"toc-item-num\">1.2.1.10&nbsp;&nbsp;</span>Indicator-1 Metric CSV-Files</a></span></li><li><span><a href=\"#Indicator-2-Metrics-CSV-Files\" data-toc-modified-id=\"Indicator-2-Metrics-CSV-Files-1.2.1.11\"><span class=\"toc-item-num\">1.2.1.11&nbsp;&nbsp;</span>Indicator-2 Metrics CSV-Files</a></span></li><li><span><a href=\"#Indicator-3-Metrics-CSV-Files\" data-toc-modified-id=\"Indicator-3-Metrics-CSV-Files-1.2.1.12\"><span class=\"toc-item-num\">1.2.1.12&nbsp;&nbsp;</span>Indicator-3 Metrics CSV-Files</a></span></li><li><span><a href=\"#Addresses-Metric-CSV-Files\" data-toc-modified-id=\"Addresses-Metric-CSV-Files-1.2.1.13\"><span class=\"toc-item-num\">1.2.1.13&nbsp;&nbsp;</span>Addresses Metric CSV-Files</a></span></li><li><span><a href=\"#Futures-Metrics-CSV-Files---Excluded-as-Data-Available-Only-Since-Feb-2020\" data-toc-modified-id=\"Futures-Metrics-CSV-Files---Excluded-as-Data-Available-Only-Since-Feb-2020-1.2.1.14\"><span class=\"toc-item-num\">1.2.1.14&nbsp;&nbsp;</span>Futures Metrics CSV-Files - Excluded as Data Available Only Since Feb 2020</a></span><ul class=\"toc-item\"><li><span><a href=\"#List-of-Future-Features\" data-toc-modified-id=\"List-of-Future-Features-1.2.1.14.1\"><span class=\"toc-item-num\">1.2.1.14.1&nbsp;&nbsp;</span>List of Future Features</a></span></li><li><span><a href=\"#Counter-to-Differentiate-between-Data-Frame-Setup-and-Data-Frame-Extension\" data-toc-modified-id=\"Counter-to-Differentiate-between-Data-Frame-Setup-and-Data-Frame-Extension-1.2.1.14.2\"><span class=\"toc-item-num\">1.2.1.14.2&nbsp;&nbsp;</span>Counter to Differentiate between Data Frame Setup and Data Frame Extension</a></span></li><li><span><a href=\"#For-Loop-through-all-Features-in-the-List\" data-toc-modified-id=\"For-Loop-through-all-Features-in-the-List-1.2.1.14.3\"><span class=\"toc-item-num\">1.2.1.14.3&nbsp;&nbsp;</span>For Loop through all Features in the List</a></span></li><li><span><a href=\"#Store-Data-Frame-Copy-in-Market-Data-Frame\" data-toc-modified-id=\"Store-Data-Frame-Copy-in-Market-Data-Frame-1.2.1.14.4\"><span class=\"toc-item-num\">1.2.1.14.4&nbsp;&nbsp;</span>Store Data Frame Copy in Market Data Frame</a></span></li><li><span><a href=\"#Delete-Original-Data-Frame\" data-toc-modified-id=\"Delete-Original-Data-Frame-1.2.1.14.5\"><span class=\"toc-item-num\">1.2.1.14.5&nbsp;&nbsp;</span>Delete Original Data Frame</a></span></li><li><span><a href=\"#Change-Data-Type-of-Columns-to-Float\" data-toc-modified-id=\"Change-Data-Type-of-Columns-to-Float-1.2.1.14.6\"><span class=\"toc-item-num\">1.2.1.14.6&nbsp;&nbsp;</span>Change Data Type of Columns to Float</a></span></li></ul></li></ul></li></ul></li><li><span><a href=\"#Target-Variables\" data-toc-modified-id=\"Target-Variables-1.3\"><span class=\"toc-item-num\">1.3&nbsp;&nbsp;</span>Target Variables</a></span></li><li><span><a href=\"#Feature-Engineering\" data-toc-modified-id=\"Feature-Engineering-1.4\"><span class=\"toc-item-num\">1.4&nbsp;&nbsp;</span>Feature Engineering</a></span><ul class=\"toc-item\"><li><span><a href=\"#Volatility\" data-toc-modified-id=\"Volatility-1.4.1\"><span class=\"toc-item-num\">1.4.1&nbsp;&nbsp;</span>Volatility</a></span></li><li><span><a href=\"#Log-Price\" data-toc-modified-id=\"Log-Price-1.4.2\"><span class=\"toc-item-num\">1.4.2&nbsp;&nbsp;</span>Log Price</a></span></li></ul></li></ul></li><li><span><a href=\"#Data-Sets\" data-toc-modified-id=\"Data-Sets-2\"><span class=\"toc-item-num\">2&nbsp;&nbsp;</span>Data Sets</a></span><ul class=\"toc-item\"><li><span><a href=\"#Data-Set-I.---Blockchain-Metrics-Only\" data-toc-modified-id=\"Data-Set-I.---Blockchain-Metrics-Only-2.1\"><span class=\"toc-item-num\">2.1&nbsp;&nbsp;</span>Data Set I. - Blockchain Metrics Only</a></span></li></ul></li><li><span><a href=\"#Classification-Models---Data-Set-Variations\" data-toc-modified-id=\"Classification-Models---Data-Set-Variations-3\"><span class=\"toc-item-num\">3&nbsp;&nbsp;</span>Classification Models - Data Set Variations</a></span></li><li><span><a href=\"#Import-Data-Sets\" data-toc-modified-id=\"Import-Data-Sets-4\"><span class=\"toc-item-num\">4&nbsp;&nbsp;</span>Import Data Sets</a></span><ul class=\"toc-item\"><li><span><a href=\"#Data-Set-I.\" data-toc-modified-id=\"Data-Set-I.-4.1\"><span class=\"toc-item-num\">4.1&nbsp;&nbsp;</span>Data Set I.</a></span></li><li><span><a href=\"#Prediction-Shift\" data-toc-modified-id=\"Prediction-Shift-4.2\"><span class=\"toc-item-num\">4.2&nbsp;&nbsp;</span>Prediction Shift</a></span></li></ul></li><li><span><a href=\"#Classification-Setup\" data-toc-modified-id=\"Classification-Setup-5\"><span class=\"toc-item-num\">5&nbsp;&nbsp;</span>Classification Setup</a></span><ul class=\"toc-item\"><li><span><a href=\"#Create-Data-Set-Copies-for-Trading-Strategy\" data-toc-modified-id=\"Create-Data-Set-Copies-for-Trading-Strategy-5.1\"><span class=\"toc-item-num\">5.1&nbsp;&nbsp;</span>Create Data Set Copies for Trading Strategy</a></span></li><li><span><a href=\"#Categorization---Data-Set-I.\" data-toc-modified-id=\"Categorization---Data-Set-I.-5.2\"><span class=\"toc-item-num\">5.2&nbsp;&nbsp;</span>Categorization - Data Set I.</a></span></li></ul></li><li><span><a href=\"#Model-Preparation---Data-Set-I.\" data-toc-modified-id=\"Model-Preparation---Data-Set-I.-6\"><span class=\"toc-item-num\">6&nbsp;&nbsp;</span>Model Preparation - Data Set I.</a></span></li><li><span><a href=\"#predictors-target-for-2020-inspection\" data-toc-modified-id=\"predictors-target-for-2020-inspection-7\"><span class=\"toc-item-num\">7&nbsp;&nbsp;</span>predictors target for 2020 inspection</a></span><ul class=\"toc-item\"><li><span><a href=\"#Train-Test-Split---Data-Set-I.\" data-toc-modified-id=\"Train-Test-Split---Data-Set-I.-7.1\"><span class=\"toc-item-num\">7.1&nbsp;&nbsp;</span>Train Test Split - Data Set I.</a></span><ul class=\"toc-item\"><li><span><a href=\"#Check-of-Class-Balance\" data-toc-modified-id=\"Check-of-Class-Balance-7.1.1\"><span class=\"toc-item-num\">7.1.1&nbsp;&nbsp;</span>Check of Class Balance</a></span></li></ul></li><li><span><a href=\"#Feature-Scaling---Data-Set-I.\" data-toc-modified-id=\"Feature-Scaling---Data-Set-I.-7.2\"><span class=\"toc-item-num\">7.2&nbsp;&nbsp;</span>Feature Scaling - Data Set I.</a></span></li></ul></li><li><span><a href=\"#Classification-Models---Data-Set-I.\" data-toc-modified-id=\"Classification-Models---Data-Set-I.-8\"><span class=\"toc-item-num\">8&nbsp;&nbsp;</span>Classification Models - Data Set I.</a></span><ul class=\"toc-item\"><li><span><a href=\"#Logistic-Regression---Data-Set-I.\" data-toc-modified-id=\"Logistic-Regression---Data-Set-I.-8.1\"><span class=\"toc-item-num\">8.1&nbsp;&nbsp;</span>Logistic Regression - Data Set I.</a></span></li><li><span><a href=\"#Random-Forest-Classifier---Data-Set-I.\" data-toc-modified-id=\"Random-Forest-Classifier---Data-Set-I.-8.2\"><span class=\"toc-item-num\">8.2&nbsp;&nbsp;</span>Random Forest Classifier - Data Set I.</a></span></li></ul></li><li><span><a href=\"#Trading-Strategy---Data-Set-I\" data-toc-modified-id=\"Trading-Strategy---Data-Set-I-9\"><span class=\"toc-item-num\">9&nbsp;&nbsp;</span>Trading Strategy - Data Set I</a></span><ul class=\"toc-item\"><li><span><a href=\"#Trading-Strategy-in-Combination-with-Logistic-Regression\" data-toc-modified-id=\"Trading-Strategy-in-Combination-with-Logistic-Regression-9.1\"><span class=\"toc-item-num\">9.1&nbsp;&nbsp;</span>Trading Strategy in Combination with Logistic Regression</a></span></li></ul></li></ul></div>"
   ]
  },
  {
   "cell_type": "markdown",
   "metadata": {},
   "source": [
    "# Data Preprocessing"
   ]
  },
  {
   "cell_type": "markdown",
   "metadata": {},
   "source": [
    "## Data Import via Application Programming Interfaces"
   ]
  },
  {
   "cell_type": "code",
   "execution_count": null,
   "metadata": {
    "ExecuteTime": {
     "end_time": "2020-12-25T21:15:50.768323Z",
     "start_time": "2020-12-25T21:15:49.741674Z"
    },
    "scrolled": true
   },
   "outputs": [],
   "source": [
    "# Import of Modules and Packages\n",
    "import os\n",
    "import requests\n",
    "import json\n",
    "import datetime\n",
    "import yfinance as yf\n",
    "import time\n",
    "\n",
    "import numpy as np\n",
    "import pandas as pd\n",
    "import matplotlib.pyplot as plt\n",
    "\n",
    "from pytrends.request import TrendReq\n",
    "from pytrends import dailydata"
   ]
  },
  {
   "cell_type": "code",
   "execution_count": null,
   "metadata": {
    "ExecuteTime": {
     "end_time": "2020-12-25T21:15:50.785066Z",
     "start_time": "2020-12-25T21:15:50.770284Z"
    }
   },
   "outputs": [],
   "source": [
    "# Adjustment of Decimal Places\n",
    "pd.options.display.float_format = '{:.2f}'.format"
   ]
  },
  {
   "cell_type": "code",
   "execution_count": null,
   "metadata": {
    "ExecuteTime": {
     "end_time": "2020-12-25T21:15:50.800364Z",
     "start_time": "2020-12-25T21:15:50.787266Z"
    }
   },
   "outputs": [],
   "source": [
    "# Glassnode API Key\n",
    "API_Key =''"
   ]
  },
  {
   "cell_type": "code",
   "execution_count": null,
   "metadata": {
    "ExecuteTime": {
     "end_time": "2020-12-25T21:15:50.819420Z",
     "start_time": "2020-12-25T21:15:50.802364Z"
    }
   },
   "outputs": [],
   "source": [
    "os.getcwd()"
   ]
  },
  {
   "cell_type": "code",
   "execution_count": null,
   "metadata": {
    "ExecuteTime": {
     "end_time": "2020-12-25T21:15:50.842518Z",
     "start_time": "2020-12-25T21:15:50.821417Z"
    }
   },
   "outputs": [],
   "source": [
    "os.chdir('C:\\\\Users\\\\markus.gebele\\\\github_repo\\\\JupyterLabDir\\\\Rest\\\\MA BTC\\\\Markus_Code_MA_final\\\\20201010\\\\Glassnode')"
   ]
  },
  {
   "cell_type": "markdown",
   "metadata": {},
   "source": [
    "### Blockchain Data from Glassnode"
   ]
  },
  {
   "cell_type": "code",
   "execution_count": null,
   "metadata": {
    "ExecuteTime": {
     "end_time": "2020-12-25T21:15:50.858398Z",
     "start_time": "2020-12-25T21:15:50.844376Z"
    }
   },
   "outputs": [],
   "source": [
    "# Import Function for a Single Feature Variable from Glassnode\n",
    "def import_glassnode (url, feature_name):\n",
    "    data = requests.get(url).json()\n",
    "    df = pd.json_normalize(data)\n",
    "    \n",
    "    # Rename columns\n",
    "    df.columns = ['Date', feature_name]\n",
    "   \n",
    "    # Convert Object to Datetime Object\n",
    "    df.Date = pd.to_datetime(df.Date, unit='s')\n",
    "    df.Date = df.Date.map(lambda x: x.strftime('%Y-%m-%d'))\n",
    "    \n",
    "    # Set Date Column as Index\n",
    "    df.set_index('Date', inplace=True)\n",
    "    \n",
    "    # Drop Missing Values\n",
    "    df = df.dropna()\n",
    "    \n",
    "    # Change Data Type to Float\n",
    "    df = df.astype(float)\n",
    "    \n",
    "    # Creation of CSV-File, Part of Feature Name as CSV File Name \n",
    "    df.to_csv(\"{}.csv\".format(feature_name.rsplit('/')[-1]), decimal=',')\n",
    "    \n",
    "    # Plot of DataFrame\n",
    "    #df.plot(figsize=(4.5, 1.75))\n",
    "    #plt.xticks(rotation=45)\n",
    "    return df"
   ]
  },
  {
   "cell_type": "code",
   "execution_count": null,
   "metadata": {
    "ExecuteTime": {
     "end_time": "2020-12-25T21:15:50.873984Z",
     "start_time": "2020-12-25T21:15:50.860318Z"
    }
   },
   "outputs": [],
   "source": [
    "# Import Function for Several Feature Variables from Glassnode\n",
    "def import_glassnode_many(feature_list):\n",
    "    # Counter to Differentiate between Data Frame Setup and Data Frame Join\n",
    "    counter=0\n",
    "    \n",
    "    # For Loop through all Features in the List\n",
    "    for feature in feature_list:\n",
    "        \n",
    "        # URL\n",
    "        url = 'https://api.glassnode.com/v1/metrics/{}?a=btc&f=json&api_key={}'.format(feature, API_Key)\n",
    "        \n",
    "        # Execute Import Function for a Single Feature Variable\n",
    "        df=import_glassnode(url, feature)\n",
    "        \n",
    "        # Display Data Frame Tail\n",
    "        print(df.tail())\n",
    "        \n",
    "        # Condition - Data Frame Set up or Data Frame Join\n",
    "        if counter > 0:\n",
    "            \n",
    "            # Data Frame Join\n",
    "            df_new = df_new.join(df, how='inner')   \n",
    "        \n",
    "        else:\n",
    "            \n",
    "            # Data Frame Setup\n",
    "            df_new = df\n",
    "        \n",
    "        # Increase Counter\n",
    "        counter +=1\n",
    "    \n",
    "    return df_new"
   ]
  },
  {
   "cell_type": "markdown",
   "metadata": {},
   "source": [
    "#### Market Metrics from Glassnode"
   ]
  },
  {
   "cell_type": "code",
   "execution_count": null,
   "metadata": {
    "ExecuteTime": {
     "end_time": "2020-12-25T21:15:50.889323Z",
     "start_time": "2020-12-25T21:15:50.876357Z"
    }
   },
   "outputs": [],
   "source": [
    "# List of Market Features\n",
    "market_feature_list = ['market/price_usd_close', 'market/price_drawdown_relative', 'market/price_realized_usd', 'market/mvrv']"
   ]
  },
  {
   "cell_type": "code",
   "execution_count": null,
   "metadata": {
    "ExecuteTime": {
     "end_time": "2020-12-25T21:15:53.506654Z",
     "start_time": "2020-12-25T21:15:50.891316Z"
    }
   },
   "outputs": [],
   "source": [
    "try: \n",
    "    # Data Frame of Market Features\n",
    "    df_market = import_glassnode_many(market_feature_list)\n",
    "except:\n",
    "    time.sleep(60)\n",
    "    df_market = import_glassnode_many(market_feature_list)"
   ]
  },
  {
   "cell_type": "markdown",
   "metadata": {},
   "source": [
    "#### Mining Metrics from Glassnode"
   ]
  },
  {
   "cell_type": "code",
   "execution_count": null,
   "metadata": {
    "ExecuteTime": {
     "end_time": "2020-12-25T21:15:53.522407Z",
     "start_time": "2020-12-25T21:15:53.507593Z"
    }
   },
   "outputs": [],
   "source": [
    "# List of Mining Features    #'mining/revenue_sum',\n",
    "mining_feature_list = ['mining/difficulty_latest', 'mining/hash_rate_mean', 'mining/marketcap_thermocap_ratio']"
   ]
  },
  {
   "cell_type": "code",
   "execution_count": null,
   "metadata": {
    "ExecuteTime": {
     "end_time": "2020-12-25T21:15:54.813238Z",
     "start_time": "2020-12-25T21:15:53.523549Z"
    }
   },
   "outputs": [],
   "source": [
    "# Data Frame of Mining Features\n",
    "df_mining = import_glassnode_many(mining_feature_list)"
   ]
  },
  {
   "cell_type": "markdown",
   "metadata": {},
   "source": [
    "#### Blocks Metrics from Glassnode"
   ]
  },
  {
   "cell_type": "code",
   "execution_count": null,
   "metadata": {
    "ExecuteTime": {
     "end_time": "2020-12-25T21:15:54.834348Z",
     "start_time": "2020-12-25T21:15:54.815233Z"
    }
   },
   "outputs": [],
   "source": [
    "# List of Blockchain Features\n",
    "blockchain_feature_list = ['blockchain/block_count', 'blockchain/block_interval_mean', 'blockchain/block_size_sum']"
   ]
  },
  {
   "cell_type": "code",
   "execution_count": null,
   "metadata": {
    "ExecuteTime": {
     "end_time": "2020-12-25T21:15:56.181508Z",
     "start_time": "2020-12-25T21:15:54.836342Z"
    }
   },
   "outputs": [],
   "source": [
    "# Data Frame of Blockchain Features\n",
    "df_blockchainfeatures = import_glassnode_many(blockchain_feature_list)"
   ]
  },
  {
   "cell_type": "markdown",
   "metadata": {},
   "source": [
    "#### Distribution Metrics from Glassnode "
   ]
  },
  {
   "cell_type": "code",
   "execution_count": null,
   "metadata": {
    "ExecuteTime": {
     "end_time": "2020-12-25T21:15:56.197465Z",
     "start_time": "2020-12-25T21:15:56.183503Z"
    }
   },
   "outputs": [],
   "source": [
    "# List of Distribution Features\n",
    "#distribution_feature_list = ['distribution/balance_1pct_holders', 'distribution/gini', 'distribution/herfindahl'] #"
   ]
  },
  {
   "cell_type": "code",
   "execution_count": null,
   "metadata": {
    "ExecuteTime": {
     "end_time": "2020-12-25T21:15:56.213422Z",
     "start_time": "2020-12-25T21:15:56.199461Z"
    }
   },
   "outputs": [],
   "source": [
    "# Data Frame of Distribution Features\n",
    "#df_distribution = import_glassnode_many(distribution_feature_list)"
   ]
  },
  {
   "cell_type": "markdown",
   "metadata": {},
   "source": [
    "#### Fee Metrics from Glassnode "
   ]
  },
  {
   "cell_type": "code",
   "execution_count": null,
   "metadata": {
    "ExecuteTime": {
     "end_time": "2020-12-25T21:15:56.229382Z",
     "start_time": "2020-12-25T21:15:56.215621Z"
    }
   },
   "outputs": [],
   "source": [
    "# List of Fee Features\n",
    "fees_feature_list = ['fees/volume_sum', 'fees/volume_mean', 'fees/fee_ratio_multiple']"
   ]
  },
  {
   "cell_type": "code",
   "execution_count": null,
   "metadata": {
    "ExecuteTime": {
     "end_time": "2020-12-25T21:15:57.448953Z",
     "start_time": "2020-12-25T21:15:56.231377Z"
    }
   },
   "outputs": [],
   "source": [
    "# Data Frame of Fee Features\n",
    "df_fees = import_glassnode_many(fees_feature_list)"
   ]
  },
  {
   "cell_type": "markdown",
   "metadata": {},
   "source": [
    "#### UTXO Metrics from Glassnode"
   ]
  },
  {
   "cell_type": "code",
   "execution_count": null,
   "metadata": {
    "ExecuteTime": {
     "end_time": "2020-12-25T21:15:57.464910Z",
     "start_time": "2020-12-25T21:15:57.449950Z"
    }
   },
   "outputs": [],
   "source": [
    "# List of UTXO Features\n",
    "utxo_feature_list = ['blockchain/utxo_created_count', 'blockchain/utxo_spent_count', 'blockchain/utxo_created_value_sum', 'blockchain/utxo_spent_value_sum', 'blockchain/utxo_profit_relative', 'blockchain/utxo_profit_count', 'blockchain/utxo_loss_count']"
   ]
  },
  {
   "cell_type": "code",
   "execution_count": null,
   "metadata": {
    "ExecuteTime": {
     "end_time": "2020-12-25T21:16:00.143852Z",
     "start_time": "2020-12-25T21:15:57.465907Z"
    }
   },
   "outputs": [],
   "source": [
    "# Data Frame of UTXO Features\n",
    "df_utxo = import_glassnode_many(utxo_feature_list)"
   ]
  },
  {
   "cell_type": "code",
   "execution_count": null,
   "metadata": {},
   "outputs": [],
   "source": []
  },
  {
   "cell_type": "markdown",
   "metadata": {},
   "source": [
    "#### Supply Metrics from Glassnode"
   ]
  },
  {
   "cell_type": "code",
   "execution_count": null,
   "metadata": {
    "ExecuteTime": {
     "end_time": "2020-12-25T21:16:00.158868Z",
     "start_time": "2020-12-25T21:16:00.145741Z"
    }
   },
   "outputs": [],
   "source": [
    "# List of Supply Features\n",
    "supply_feature_list = ['supply/current','supply/profit_relative', 'supply/profit_sum', 'supply/loss_sum', 'supply/active_more_1y_percent', 'supply/active_more_2y_percent', 'supply/active_more_3y_percent', 'supply/active_more_5y_percent', 'supply/active_24h', 'supply/active_1d_1w', 'supply/active_1w_1m', 'supply/active_1m_3m', 'supply/active_3m_6m', 'supply/active_6m_12m', 'supply/active_1y_2y', 'supply/active_2y_3y', 'supply/active_3y_5y', 'supply/active_5y_7y', 'supply/active_7y_10y', 'supply/active_more_10y', 'supply/issued', 'supply/inflation_rate']"
   ]
  },
  {
   "cell_type": "code",
   "execution_count": null,
   "metadata": {
    "ExecuteTime": {
     "end_time": "2020-12-25T21:16:09.266904Z",
     "start_time": "2020-12-25T21:16:00.159775Z"
    }
   },
   "outputs": [],
   "source": [
    "# Data Frame of Supply Features\n",
    "df_supply = import_glassnode_many(supply_feature_list)"
   ]
  },
  {
   "cell_type": "markdown",
   "metadata": {},
   "source": [
    "#### Transaction Metrics from Glassnode"
   ]
  },
  {
   "cell_type": "code",
   "execution_count": null,
   "metadata": {
    "ExecuteTime": {
     "end_time": "2020-12-25T21:16:09.283966Z",
     "start_time": "2020-12-25T21:16:09.267577Z"
    }
   },
   "outputs": [],
   "source": [
    "# List of Transaction Features\n",
    "transaction_feature_list = ['transactions/count', 'transactions/size_sum','transactions/transfers_volume_sum', 'transactions/transfers_volume_adjusted_sum']"
   ]
  },
  {
   "cell_type": "code",
   "execution_count": null,
   "metadata": {
    "ExecuteTime": {
     "end_time": "2020-12-25T21:16:10.780642Z",
     "start_time": "2020-12-25T21:16:09.287954Z"
    }
   },
   "outputs": [],
   "source": [
    "# Data Frame of Transaction Features\n",
    "df_transaction = import_glassnode_many(transaction_feature_list)"
   ]
  },
  {
   "cell_type": "code",
   "execution_count": null,
   "metadata": {},
   "outputs": [],
   "source": []
  },
  {
   "cell_type": "markdown",
   "metadata": {},
   "source": [
    "#### Exchange Metrics from Glassnode - 1 Month Lag"
   ]
  },
  {
   "cell_type": "code",
   "execution_count": null,
   "metadata": {
    "ExecuteTime": {
     "end_time": "2020-12-25T21:16:10.809278Z",
     "start_time": "2020-12-25T21:16:10.782275Z"
    }
   },
   "outputs": [],
   "source": [
    "# List of Exchange Features\n",
    "#exchange_feature_list = ['transactions/transfers_volume_to_exchanges_sum', 'transactions/transfers_volume_from_exchanges_sum', 'transactions/transfers_to_exchanges_count', 'transactions/transfers_from_exchanges_count', 'distribution/balance_exchanges', 'transactions/transfers_volume_exchanges_net']"
   ]
  },
  {
   "cell_type": "code",
   "execution_count": null,
   "metadata": {
    "ExecuteTime": {
     "end_time": "2020-12-25T21:16:10.838298Z",
     "start_time": "2020-12-25T21:16:10.810026Z"
    }
   },
   "outputs": [],
   "source": [
    "# Data Frame of Exchange Features\n",
    "#df_exchange = import_glassnode_many(exchange_feature_list)"
   ]
  },
  {
   "cell_type": "markdown",
   "metadata": {},
   "source": [
    "#### Indicator-I Metrics from Glassnode"
   ]
  },
  {
   "cell_type": "code",
   "execution_count": null,
   "metadata": {
    "ExecuteTime": {
     "end_time": "2020-12-25T21:16:10.853516Z",
     "start_time": "2020-12-25T21:16:10.840124Z"
    }
   },
   "outputs": [],
   "source": [
    "# List of Indicator-1 Features\n",
    "indicator1_feature_list = ['indicators/sopr_adjusted', 'indicators/nvt', 'indicators/velocity', 'indicators/cdd', 'indicators/reserve_risk', 'indicators/average_dormancy', 'indicators/liveliness']                         "
   ]
  },
  {
   "cell_type": "code",
   "execution_count": null,
   "metadata": {
    "ExecuteTime": {
     "end_time": "2020-12-25T21:16:13.834421Z",
     "start_time": "2020-12-25T21:16:10.855474Z"
    }
   },
   "outputs": [],
   "source": [
    "# Data Frame of Indicator-1 Features\n",
    "df_indicator1 = import_glassnode_many(indicator1_feature_list)"
   ]
  },
  {
   "cell_type": "markdown",
   "metadata": {},
   "source": [
    "#### Indicator-2 Metrics from Glassnode"
   ]
  },
  {
   "cell_type": "code",
   "execution_count": null,
   "metadata": {
    "ExecuteTime": {
     "end_time": "2020-12-25T21:16:13.857789Z",
     "start_time": "2020-12-25T21:16:13.834421Z"
    }
   },
   "outputs": [],
   "source": [
    "# List of Indicator-2 Features\n",
    "indicator2_feature_list = ['indicators/asol', 'indicators/sol_1h', 'indicators/sol_1h_24h', 'indicators/sol_1d_1w', 'indicators/sol_1w_1m', 'indicators/sol_1m_3m', 'indicators/sol_3m_6m', 'indicators/sol_6m_12m', 'indicators/sol_1y_2y', 'indicators/sol_2y_3y', 'indicators/sol_3y_5y', 'indicators/sol_5y_7y', 'indicators/sol_7y_10y']"
   ]
  },
  {
   "cell_type": "code",
   "execution_count": null,
   "metadata": {
    "ExecuteTime": {
     "end_time": "2020-12-25T21:16:19.377504Z",
     "start_time": "2020-12-25T21:16:13.859782Z"
    }
   },
   "outputs": [],
   "source": [
    "# Data Frame of Indicator-2 Features\n",
    "df_indicator2 = import_glassnode_many(indicator2_feature_list)"
   ]
  },
  {
   "cell_type": "code",
   "execution_count": null,
   "metadata": {},
   "outputs": [],
   "source": []
  },
  {
   "cell_type": "markdown",
   "metadata": {},
   "source": [
    "#### Indicator-3 Metrics from Glassnode"
   ]
  },
  {
   "cell_type": "code",
   "execution_count": null,
   "metadata": {
    "ExecuteTime": {
     "end_time": "2020-12-25T21:16:19.393499Z",
     "start_time": "2020-12-25T21:16:19.378542Z"
    }
   },
   "outputs": [],
   "source": [
    "# List of Indicator-3 Features\n",
    "indicator3_feature_list = ['indicators/net_unrealized_profit_loss', 'indicators/unrealized_profit', 'indicators/unrealized_loss', 'indicators/net_realized_profit_loss', 'indicators/realized_profit', 'indicators/realized_loss', 'indicators/nupl_more_155', 'indicators/nupl_less_155', 'indicators/puell_multiple', 'indicators/stock_to_flow_deflection', 'indicators/difficulty_ribbon_compression']"
   ]
  },
  {
   "cell_type": "code",
   "execution_count": null,
   "metadata": {
    "ExecuteTime": {
     "end_time": "2020-12-25T21:16:24.477233Z",
     "start_time": "2020-12-25T21:16:19.395458Z"
    }
   },
   "outputs": [],
   "source": [
    "# Data Frame of Indicator-3 Features\n",
    "df_indicator3 = import_glassnode_many(indicator3_feature_list)"
   ]
  },
  {
   "cell_type": "markdown",
   "metadata": {},
   "source": [
    "#### Addresses Metrics from Glassnode"
   ]
  },
  {
   "cell_type": "code",
   "execution_count": null,
   "metadata": {
    "ExecuteTime": {
     "end_time": "2020-12-25T21:16:24.493183Z",
     "start_time": "2020-12-25T21:16:24.478197Z"
    }
   },
   "outputs": [],
   "source": [
    "# List of Addresses Features\n",
    "addresses_feature_list = ['addresses/active_count', 'addresses/sending_count', 'addresses/receiving_count', 'addresses/new_non_zero_count', 'addresses/non_zero_count', 'addresses/min_point_zero_1_count','addresses/min_point_1_count', 'addresses/min_1_count', 'addresses/min_10_count', 'addresses/min_100_count', 'addresses/min_1k_count', 'addresses/min_10k_count']"
   ]
  },
  {
   "cell_type": "code",
   "execution_count": null,
   "metadata": {
    "ExecuteTime": {
     "end_time": "2020-12-25T21:16:28.989168Z",
     "start_time": "2020-12-25T21:16:24.494152Z"
    }
   },
   "outputs": [],
   "source": [
    "# Data Frame of Addresses Features\n",
    "df_addresses = import_glassnode_many(addresses_feature_list)"
   ]
  },
  {
   "cell_type": "markdown",
   "metadata": {},
   "source": [
    "#### Futures Metrics from Glassnode - Excluded as Data Available Only Since Feb 2020"
   ]
  },
  {
   "cell_type": "markdown",
   "metadata": {},
   "source": [
    "##### List of Futures Features\n",
    "futures_feature_list = ['derivatives/futures_volume_daily_all_sum', 'derivatives/futures_volume_daily_perpetual_sum', 'derivatives/futures_open_interest_all_sum', 'derivatives/futures_open_interest_perpetual_sum', 'derivatives/futures_funding_rate_perpetual']"
   ]
  },
  {
   "cell_type": "markdown",
   "metadata": {},
   "source": [
    "##### Data Frame of Future features\n",
    "df_futures = import_glassnode_many(futures_feature_list)"
   ]
  },
  {
   "cell_type": "code",
   "execution_count": null,
   "metadata": {},
   "outputs": [],
   "source": []
  },
  {
   "cell_type": "markdown",
   "metadata": {},
   "source": [
    "## File Import and Data Tidying"
   ]
  },
  {
   "cell_type": "code",
   "execution_count": null,
   "metadata": {
    "ExecuteTime": {
     "end_time": "2020-12-25T21:16:29.426612Z",
     "start_time": "2020-12-25T21:16:28.989943Z"
    },
    "scrolled": true
   },
   "outputs": [],
   "source": [
    "# Import of Modules and Packages\n",
    "import os\n",
    "import datetime\n",
    "\n",
    "import numpy as np\n",
    "import pandas as pd\n",
    "import matplotlib.pyplot as plt\n",
    "import seaborn as sns"
   ]
  },
  {
   "cell_type": "code",
   "execution_count": null,
   "metadata": {
    "ExecuteTime": {
     "end_time": "2020-12-25T21:16:29.442470Z",
     "start_time": "2020-12-25T21:16:29.429446Z"
    }
   },
   "outputs": [],
   "source": [
    "# Adjustment of Decimal Places\n",
    "pd.options.display.float_format = '{:.6f}'.format"
   ]
  },
  {
   "cell_type": "code",
   "execution_count": null,
   "metadata": {
    "ExecuteTime": {
     "end_time": "2020-12-25T21:16:29.458364Z",
     "start_time": "2020-12-25T21:16:29.444401Z"
    }
   },
   "outputs": [],
   "source": [
    "os.chdir('C:\\\\Users\\\\markus.gebele\\\\github_repo\\\\JupyterLabDir\\\\Rest\\\\MA BTC\\\\Markus_Code_MA_final\\\\20201010')"
   ]
  },
  {
   "cell_type": "markdown",
   "metadata": {},
   "source": [
    "### Import Blockchain CSV-Files"
   ]
  },
  {
   "cell_type": "markdown",
   "metadata": {},
   "source": [
    "#### Market Metric CSV-Files"
   ]
  },
  {
   "cell_type": "code",
   "execution_count": null,
   "metadata": {
    "ExecuteTime": {
     "end_time": "2020-12-25T21:16:29.552499Z",
     "start_time": "2020-12-25T21:16:29.459360Z"
    }
   },
   "outputs": [],
   "source": [
    "# List of Market Features\n",
    "market_feature_list = ['price_usd_close', 'price_drawdown_relative', 'price_realized_usd', 'mvrv']\n",
    "\n",
    "# Counter to Differentiate between Data Frame Setup and Data Frame Extension\n",
    "counter=0\n",
    "\n",
    "# For Loop through all Features in the List\n",
    "for x in market_feature_list:\n",
    "    \n",
    "    # Import Feature CSV-Files\n",
    "    df = pd.read_csv(\"Glassnode/{}.csv\".format(x), index_col='Date', ) #decimal=\".\"\n",
    "    \n",
    "    # Condition - Data Frame Set up or Data Frame Extension\n",
    "    if counter > 0:\n",
    "        \n",
    "        # Data Frame Extension - Inner Join\n",
    "        df_new = df_new.join(df, how='inner')\n",
    "    \n",
    "    else:\n",
    "        \n",
    "        # Data Frame Setup\n",
    "        df_new = df\n",
    "    \n",
    "    # Increase Counter\n",
    "    counter +=1\n",
    "\n",
    "# Store Data Frame Copy in Market Data Frame\n",
    "df_market = df_new.copy()\n",
    "\n",
    "# Delete Original Data Frame\n",
    "del df_new\n",
    "\n",
    "# Change Data Type of Columns to Float\n",
    "for y in df_market.columns:\n",
    "    try:\n",
    "        df_market[\"{}\".format(y)] = df_market[\"{}\".format(y)].str.replace(',','.')\n",
    "        df_market[\"{}\".format(y)] = df_market[\"{}\".format(y)].astype(float)\n",
    "    except:\n",
    "        pass"
   ]
  },
  {
   "cell_type": "code",
   "execution_count": null,
   "metadata": {
    "ExecuteTime": {
     "end_time": "2020-12-25T21:16:29.583030Z",
     "start_time": "2020-12-25T21:16:29.558437Z"
    }
   },
   "outputs": [],
   "source": [
    "# Latest Market Metric Values\n",
    "df_market.tail()"
   ]
  },
  {
   "cell_type": "markdown",
   "metadata": {},
   "source": [
    "#### Mining Metric CSV-Files"
   ]
  },
  {
   "cell_type": "code",
   "execution_count": null,
   "metadata": {
    "ExecuteTime": {
     "end_time": "2020-12-25T21:16:29.677957Z",
     "start_time": "2020-12-25T21:16:29.585025Z"
    }
   },
   "outputs": [],
   "source": [
    "# List of Mining Features\n",
    "mining_feature_list = ['difficulty_latest', 'hash_rate_mean', 'revenue_sum','marketcap_thermocap_ratio']\n",
    "\n",
    "# Counter to Differentiate between Data Frame Setup and Data Frame Extension\n",
    "counter=0\n",
    "\n",
    "# For Loop through all Features in the List\n",
    "for x in mining_feature_list:\n",
    "    \n",
    "    # Import Feature CSV-Files\n",
    "    df = pd.read_csv(\"Glassnode/{}.csv\".format(x), index_col='Date')\n",
    "    \n",
    "    # Condition - Data Frame Set up or Data Frame Extension\n",
    "    if counter > 0:\n",
    "        \n",
    "        # Data Frame Extension - Inner Join\n",
    "        df_new = df_new.join(df, how='inner')\n",
    "    \n",
    "    else:\n",
    "        \n",
    "        # Data Frame Setup\n",
    "        df_new = df\n",
    "    \n",
    "    # Increase Counter\n",
    "    counter +=1\n",
    "\n",
    "# Store Data Frame Copy in Market Data Frame    \n",
    "df_mining = df_new.copy()\n",
    "\n",
    "# Delete Original Data Frame\n",
    "del df_new\n",
    "\n",
    "# Change Data Type of Columns to Float\n",
    "for y in df_mining.columns:\n",
    "    try:\n",
    "        df_mining[\"{}\".format(y)] = df_mining[\"{}\".format(y)].str.replace(',','.')\n",
    "        df_mining[\"{}\".format(y)] = df_mining[\"{}\".format(y)].astype(float)\n",
    "    except:\n",
    "        pass"
   ]
  },
  {
   "cell_type": "code",
   "execution_count": null,
   "metadata": {
    "ExecuteTime": {
     "end_time": "2020-12-25T21:16:29.693735Z",
     "start_time": "2020-12-25T21:16:29.678775Z"
    }
   },
   "outputs": [],
   "source": [
    "# Latest Mining Metric Values\n",
    "df_mining.tail()"
   ]
  },
  {
   "cell_type": "markdown",
   "metadata": {},
   "source": [
    "#### Blocks Metric CSV-Files"
   ]
  },
  {
   "cell_type": "code",
   "execution_count": null,
   "metadata": {
    "ExecuteTime": {
     "end_time": "2020-12-25T21:16:29.771252Z",
     "start_time": "2020-12-25T21:16:29.694733Z"
    }
   },
   "outputs": [],
   "source": [
    "# List of Blockchain Features\n",
    "block_feature_list = ['block_count', 'block_interval_mean', 'block_size_sum']\n",
    "\n",
    "# Counter to Differentiate between Data Frame Setup and Data Frame Extension\n",
    "counter=0\n",
    "\n",
    "# For Loop through all Features in the List\n",
    "for x in block_feature_list:\n",
    "    \n",
    "    # Import Feature CSV-Files\n",
    "    df = pd.read_csv(\"Glassnode/{}.csv\".format(x), index_col='Date')\n",
    "    \n",
    "    # Condition - Data Frame Set up or Data Frame Extension\n",
    "    if counter > 0:\n",
    "        \n",
    "        # Data Frame Extension - Inner Join\n",
    "        df_new = df_new.join(df, how='inner')\n",
    "    \n",
    "    else:\n",
    "        \n",
    "        # Data Frame Setup\n",
    "        df_new = df\n",
    "    \n",
    "    # Increase Counter\n",
    "    counter +=1\n",
    "\n",
    "# Store Data Frame Copy in Market Data Frame\n",
    "df_blockfeatures = df_new.copy()\n",
    "\n",
    "# Delete Original Data Frame\n",
    "del df_new\n",
    "\n",
    "# Change Data Type of Columns to Float\n",
    "for y in df_blockfeatures.columns:\n",
    "    try:\n",
    "        df_blockfeatures[\"{}\".format(y)] = df_blockfeatures[\"{}\".format(y)].str.replace(',','.')\n",
    "        df_blockfeatures[\"{}\".format(y)] = df_blockfeatures[\"{}\".format(y)].astype(float)\n",
    "    except:\n",
    "        pass"
   ]
  },
  {
   "cell_type": "code",
   "execution_count": null,
   "metadata": {
    "ExecuteTime": {
     "end_time": "2020-12-25T21:16:29.787097Z",
     "start_time": "2020-12-25T21:16:29.772136Z"
    }
   },
   "outputs": [],
   "source": [
    "# Show Latest Feature Values\n",
    "df_blockfeatures.tail()"
   ]
  },
  {
   "cell_type": "markdown",
   "metadata": {},
   "source": [
    "#### Distribution Metric CSV-Files"
   ]
  },
  {
   "cell_type": "code",
   "execution_count": null,
   "metadata": {
    "ExecuteTime": {
     "end_time": "2020-12-25T21:16:29.802275Z",
     "start_time": "2020-12-25T21:16:29.789092Z"
    }
   },
   "outputs": [],
   "source": [
    "# # List of Distribution Features\n",
    "# distribution_feature_list = ['balance_1pct_holders', 'gini', 'herfindahl']\n",
    "\n",
    "# # Counter to Differentiate between Data Frame Setup and Data Frame Extension\n",
    "# counter=0\n",
    "\n",
    "# # For Loop through all Features in the List\n",
    "# for x in distribution_feature_list:\n",
    "    \n",
    "#     # Import Feature CSV-Files\n",
    "#     df = pd.read_csv(\"Glassnode/{}.csv\".format(x), index_col='Date')\n",
    "    \n",
    "#     # Condition - Data Frame Set up or Data Frame Extension\n",
    "#     if counter > 0:\n",
    "        \n",
    "#         # Data Frame Extension - Inner Join\n",
    "#         df_new = df_new.join(df, how='inner')\n",
    "    \n",
    "#     else:\n",
    "#         # Data Frame Setup\n",
    "#         df_new = df\n",
    "    \n",
    "#     # Increase Counter    \n",
    "#     counter +=1\n",
    "\n",
    "# # Store Data Frame Copy in Distribution Data Frame    \n",
    "# df_distribution = df_new.copy()\n",
    "\n",
    "# # Delete Original Data Frame\n",
    "# del df_new\n",
    "\n",
    "# # Change Data Type of Columns to Float\n",
    "# for y in df_distribution.columns:\n",
    "#     try:\n",
    "#         df_distribution[\"{}\".format(y)] = df_distribution[\"{}\".format(y)].str.replace(',','.')\n",
    "#         df_distribution[\"{}\".format(y)] = df_distribution[\"{}\".format(y)].astype(float)\n",
    "#     except:\n",
    "#         pass"
   ]
  },
  {
   "cell_type": "code",
   "execution_count": null,
   "metadata": {
    "ExecuteTime": {
     "end_time": "2020-12-25T21:16:29.818013Z",
     "start_time": "2020-12-25T21:16:29.804050Z"
    }
   },
   "outputs": [],
   "source": [
    "# # Latest Distribution Metric Values\n",
    "# df_distribution.tail()"
   ]
  },
  {
   "cell_type": "markdown",
   "metadata": {},
   "source": [
    "#### Fee Metric CSV-Files"
   ]
  },
  {
   "cell_type": "code",
   "execution_count": null,
   "metadata": {
    "ExecuteTime": {
     "end_time": "2020-12-25T21:16:29.897642Z",
     "start_time": "2020-12-25T21:16:29.820045Z"
    }
   },
   "outputs": [],
   "source": [
    "# List of Fee Features\n",
    "fees_feature_list = ['volume_sum', 'volume_mean', 'fee_ratio_multiple']\n",
    "\n",
    "# Counter to Differentiate between Data Frame Setup and Data Frame Extension\n",
    "counter=0\n",
    "\n",
    "# For Loop through all Features in the List\n",
    "for x in fees_feature_list:\n",
    "    \n",
    "    # Import Feature CSV-Files\n",
    "    df = pd.read_csv(\"Glassnode/{}.csv\".format(x), index_col='Date') #decimal=\".\"\n",
    "    \n",
    "    # Condition - Data Frame Set up or Data Frame Extension\n",
    "    if counter > 0:\n",
    "        \n",
    "        # Data Frame Extension - Inner Join\n",
    "        df_new = df_new.join(df, how='inner')\n",
    "        \n",
    "    else:\n",
    "        \n",
    "        # Data Frame Setup\n",
    "        df_new = df\n",
    "    \n",
    "    # Increase Counter\n",
    "    counter +=1\n",
    "\n",
    "# Store Data Frame Copy in Fees Data Frame    \n",
    "df_fees = df_new.copy()\n",
    "\n",
    "# Delete Original Data Frame\n",
    "del df_new\n",
    "\n",
    "# Change Data Type of Columns to Float\n",
    "for y in df_fees.columns:\n",
    "    try:\n",
    "        df_fees[\"{}\".format(y)] = df_fees[\"{}\".format(y)].str.replace(',','.')\n",
    "        df_fees[\"{}\".format(y)] = df_fees[\"{}\".format(y)].astype(float)\n",
    "    except:\n",
    "        pass"
   ]
  },
  {
   "cell_type": "code",
   "execution_count": null,
   "metadata": {
    "ExecuteTime": {
     "end_time": "2020-12-25T21:16:29.913324Z",
     "start_time": "2020-12-25T21:16:29.899362Z"
    }
   },
   "outputs": [],
   "source": [
    "# Latest Fee Metric Values\n",
    "df_fees.tail()"
   ]
  },
  {
   "cell_type": "markdown",
   "metadata": {},
   "source": [
    "#### UTXO Metric CSV-Files"
   ]
  },
  {
   "cell_type": "code",
   "execution_count": null,
   "metadata": {
    "ExecuteTime": {
     "end_time": "2020-12-25T21:16:30.132737Z",
     "start_time": "2020-12-25T21:16:29.914320Z"
    }
   },
   "outputs": [],
   "source": [
    "# List of UTXO Features\n",
    "utxo_feature_list = ['utxo_created_count', 'utxo_spent_count','utxo_created_value_sum', 'utxo_spent_value_sum', 'utxo_profit_relative', 'utxo_profit_count', 'utxo_loss_count']\n",
    "\n",
    "# Counter to Differentiate between Data Frame Setup and Data Frame Extension\n",
    "counter=0\n",
    "\n",
    "# For Loop through all Features in the List\n",
    "for x in utxo_feature_list:\n",
    "    \n",
    "    # Import Feature CSV-Files\n",
    "    df = pd.read_csv(\"Glassnode/{}.csv\".format(x), index_col='Date', ) #decimal=\".\"\n",
    "    \n",
    "    # Condition - Data Frame Set up or Data Frame Extension\n",
    "    if counter > 0:\n",
    "        \n",
    "        # Data Frame Extension - Inner Join\n",
    "        df_new = df_new.join(df, how='inner')\n",
    "    \n",
    "    else:\n",
    "        \n",
    "        # Data Frame Setup\n",
    "        df_new = df\n",
    "\n",
    "    # Increase Counter\n",
    "    counter +=1\n",
    "\n",
    "# Store Data Frame Copy in UTXO Data Frame\n",
    "df_utxo = df_new.copy()\n",
    "\n",
    "# Delete Original Data Frame\n",
    "del df_new\n",
    "\n",
    "# Change Data Type of Columns to Float\n",
    "for y in df_utxo.columns:\n",
    "    try:\n",
    "        df_utxo[\"{}\".format(y)] = df_utxo[\"{}\".format(y)].str.replace(',','.')\n",
    "        df_utxo[\"{}\".format(y)] = df_utxo[\"{}\".format(y)].astype(float)\n",
    "    except:\n",
    "        pass"
   ]
  },
  {
   "cell_type": "code",
   "execution_count": null,
   "metadata": {
    "ExecuteTime": {
     "end_time": "2020-12-25T21:16:30.148695Z",
     "start_time": "2020-12-25T21:16:30.134737Z"
    }
   },
   "outputs": [],
   "source": [
    "# Latest UTXO Metric Values\n",
    "df_utxo.tail()"
   ]
  },
  {
   "cell_type": "markdown",
   "metadata": {},
   "source": [
    "#### Supply Metric CSV-Files"
   ]
  },
  {
   "cell_type": "code",
   "execution_count": null,
   "metadata": {
    "ExecuteTime": {
     "end_time": "2020-12-25T21:16:30.986391Z",
     "start_time": "2020-12-25T21:16:30.150691Z"
    }
   },
   "outputs": [],
   "source": [
    "# List of Supply Features\n",
    "supply_feature_list = ['current','profit_relative', 'profit_sum', 'loss_sum', 'active_more_1y_percent', 'active_more_2y_percent', 'active_more_3y_percent', 'active_more_5y_percent', 'active_24h', 'active_1d_1w', 'active_1w_1m', 'active_1m_3m', 'active_3m_6m', 'active_6m_12m', 'active_1y_2y', 'active_2y_3y', 'active_3y_5y', 'active_5y_7y', 'active_7y_10y', 'active_more_10y', 'issued', 'inflation_rate']\n",
    "\n",
    "# Counter to Differentiate between Data Frame Setup and Data Frame Extension\n",
    "counter=0\n",
    "\n",
    "# For Loop through all Features in the List\n",
    "for x in supply_feature_list:\n",
    "    \n",
    "    # Import Feature CSV-Files\n",
    "    df = pd.read_csv(\"Glassnode/{}.csv\".format(x), index_col='Date', ) #decimal=\".\"\n",
    "    \n",
    "    # Condition - Data Frame Set up or Data Frame Extension\n",
    "    if counter > 0:\n",
    "        \n",
    "        # Data Frame Extension - Inner Join\n",
    "        df_new = df_new.join(df, how='inner')\n",
    "    \n",
    "    else:\n",
    "        \n",
    "        # Data Frame Setup\n",
    "        df_new = df\n",
    "    \n",
    "    # Increase Counter\n",
    "    counter +=1\n",
    "\n",
    "# Store Data Frame Copy in Supply Data Frame    \n",
    "df_supply = df_new.copy()\n",
    "\n",
    "# Delete Original Data Frame\n",
    "del df_new\n",
    "\n",
    "# Change Data Type of Columns to Float\n",
    "for y in df_supply.columns:\n",
    "    try:\n",
    "        df_supply[\"{}\".format(y)] = df_supply[\"{}\".format(y)].str.replace(',','.')\n",
    "        df_supply[\"{}\".format(y)] = df_supply[\"{}\".format(y)].astype(float)\n",
    "    except:\n",
    "        pass"
   ]
  },
  {
   "cell_type": "code",
   "execution_count": null,
   "metadata": {
    "ExecuteTime": {
     "end_time": "2020-12-25T21:16:31.017307Z",
     "start_time": "2020-12-25T21:16:30.988387Z"
    }
   },
   "outputs": [],
   "source": [
    "# Latest Supply Metric Values\n",
    "df_supply.tail()"
   ]
  },
  {
   "cell_type": "markdown",
   "metadata": {},
   "source": [
    "#### Transaction Metric CSV-Files"
   ]
  },
  {
   "cell_type": "code",
   "execution_count": null,
   "metadata": {
    "ExecuteTime": {
     "end_time": "2020-12-25T21:16:31.143971Z",
     "start_time": "2020-12-25T21:16:31.019437Z"
    }
   },
   "outputs": [],
   "source": [
    "# List of Transaction features\n",
    "transaction_feature_list = ['count', 'size_sum','transfers_volume_sum', 'transfers_volume_adjusted_sum']\n",
    "\n",
    "# Counter to Differentiate between Data Frame Setup and Data Frame Extension\n",
    "counter=0\n",
    "\n",
    "# For Loop through all Features in the List\n",
    "for x in transaction_feature_list:\n",
    "    \n",
    "    # Import Feature CSV-Files\n",
    "    df = pd.read_csv(\"Glassnode/{}.csv\".format(x), index_col='Date', ) #decimal=\".\"\n",
    "    \n",
    "    # Condition - Data Frame Set up or Data Frame Extension\n",
    "    if counter > 0:\n",
    "        \n",
    "        # Data Frame Extension - Inner Join\n",
    "        df_new = df_new.join(df, how='inner')\n",
    "    \n",
    "    else:\n",
    "        \n",
    "        # Data Frame Setup\n",
    "        df_new = df\n",
    "    \n",
    "    # Increase Counter\n",
    "    counter +=1\n",
    "\n",
    "# Store Data Frame Copy in Transaction Data Frame\n",
    "df_transaction = df_new.copy()\n",
    "\n",
    "# Delete Original Data Frame\n",
    "del df_new\n",
    "\n",
    "# Change Data Type of Columns to Float\n",
    "for y in df_transaction.columns:\n",
    "    try:\n",
    "        df_transaction[\"{}\".format(y)] = df_transaction[\"{}\".format(y)].str.replace(',','.')\n",
    "        df_transaction[\"{}\".format(y)] = df_transaction[\"{}\".format(y)].astype(float)\n",
    "    except:\n",
    "        pass"
   ]
  },
  {
   "cell_type": "code",
   "execution_count": null,
   "metadata": {
    "ExecuteTime": {
     "end_time": "2020-12-25T21:16:31.159957Z",
     "start_time": "2020-12-25T21:16:31.145964Z"
    }
   },
   "outputs": [],
   "source": [
    "# Latest Transaction Metric Values\n",
    "df_transaction.tail()"
   ]
  },
  {
   "cell_type": "markdown",
   "metadata": {},
   "source": [
    "#### Exchange Metrics CSV-Files"
   ]
  },
  {
   "cell_type": "code",
   "execution_count": null,
   "metadata": {
    "ExecuteTime": {
     "end_time": "2020-12-25T21:16:31.175885Z",
     "start_time": "2020-12-25T21:16:31.161924Z"
    }
   },
   "outputs": [],
   "source": [
    "# # List of Exchange Features\n",
    "# exchange_feature_list = ['transfers_volume_to_exchanges_sum', 'transfers_volume_from_exchanges_sum', 'transfers_to_exchanges_count', \n",
    "#                          'transfers_from_exchanges_count', 'balance_exchanges', 'transfers_volume_exchanges_net']\n",
    "\n",
    "# # Counter to Differentiate between Data Frame Setup and Data Frame Extension\n",
    "# counter=0\n",
    "\n",
    "# # For Loop through all Features in the List\n",
    "# for x in exchange_feature_list:\n",
    "    \n",
    "#     # Import Feature CSV-Files\n",
    "#     df = pd.read_csv(\"Glassnode/{}.csv\".format(x), index_col='Date', ) #decimal=\".\"\n",
    "    \n",
    "#     # Condition - Data Frame Set up or Data Frame Extension\n",
    "#     if counter > 0:\n",
    "        \n",
    "#         # Data Frame Extension - Inner Join\n",
    "#         df_new = df_new.join(df, how='inner')\n",
    "    \n",
    "#     else:\n",
    "        \n",
    "#         # Data Frame Setup\n",
    "#         df_new = df\n",
    "    \n",
    "#     # Increase Counter\n",
    "#     counter +=1\n",
    "\n",
    "# # Store Data Frame Copy in Exchange Data Frame    \n",
    "# df_exchange = df_new.copy()\n",
    "\n",
    "# # Delete Original Data Frame\n",
    "# del df_new\n",
    "\n",
    "# # Change Data Type of Columns to Float\n",
    "# for y in df_exchange.columns:\n",
    "#     try:\n",
    "#         df_exchange[\"{}\".format(y)] = df_exchange[\"{}\".format(y)].str.replace(',','.')\n",
    "#         df_exchange[\"{}\".format(y)] = df_exchange[\"{}\".format(y)].astype(float)\n",
    "#     except:\n",
    "#         pass"
   ]
  },
  {
   "cell_type": "code",
   "execution_count": null,
   "metadata": {
    "ExecuteTime": {
     "end_time": "2020-12-25T21:16:31.191842Z",
     "start_time": "2020-12-25T21:16:31.177909Z"
    }
   },
   "outputs": [],
   "source": [
    "# # Latest Exchange Metric Values\n",
    "# df_exchange.tail()"
   ]
  },
  {
   "cell_type": "markdown",
   "metadata": {},
   "source": [
    "#### Indicator-1 Metric CSV-Files"
   ]
  },
  {
   "cell_type": "code",
   "execution_count": null,
   "metadata": {
    "ExecuteTime": {
     "end_time": "2020-12-25T21:16:31.476084Z",
     "start_time": "2020-12-25T21:16:31.193839Z"
    }
   },
   "outputs": [],
   "source": [
    "# List of Indicator-1 features\n",
    "indicator1_feature_list = ['sopr_adjusted', 'nvt', 'velocity', 'cdd','reserve_risk', 'average_dormancy', 'liveliness'] \n",
    "\n",
    "# Counter to Differentiate between Data Frame Setup and Data Frame Extension\n",
    "counter=0\n",
    "\n",
    "# For Loop through all Features in the List\n",
    "for x in indicator1_feature_list:\n",
    "    \n",
    "    # Import Feature CSV-Files\n",
    "    df = pd.read_csv(\"Glassnode/{}.csv\".format(x), index_col='Date', ) #decimal=\".\"\n",
    "    \n",
    "    # Condition - Data Frame Set up or Data Frame Extension\n",
    "    if counter > 0:\n",
    "        \n",
    "        # Data Frame Extension - Inner Join\n",
    "        df_new = df_new.join(df, how='inner')\n",
    "    \n",
    "    else:\n",
    "        \n",
    "        # Data Frame Setup\n",
    "        df_new = df\n",
    "    \n",
    "    # Increase Counter\n",
    "    counter +=1\n",
    "\n",
    "# Store Data Frame Copy in Indicator-1 Data Frame    \n",
    "df_indicator1 = df_new.copy()\n",
    "\n",
    "# Delete Original Data Frame\n",
    "del df_new\n",
    "\n",
    "# Change Data Type of Columns to Float\n",
    "for y in df_indicator1.columns:\n",
    "    try:\n",
    "        df_indicator1[\"{}\".format(y)] = df_indicator1[\"{}\".format(y)].str.replace(',','.')\n",
    "        df_indicator1[\"{}\".format(y)] = df_indicator1[\"{}\".format(y)].astype(float)\n",
    "    except:\n",
    "        pass"
   ]
  },
  {
   "cell_type": "code",
   "execution_count": null,
   "metadata": {
    "ExecuteTime": {
     "end_time": "2020-12-25T21:16:31.492078Z",
     "start_time": "2020-12-25T21:16:31.478079Z"
    }
   },
   "outputs": [],
   "source": [
    "# Latest Indicator-1 Metric Values\n",
    "df_indicator1.tail()"
   ]
  },
  {
   "cell_type": "markdown",
   "metadata": {},
   "source": [
    "#### Indicator-2 Metrics CSV-Files"
   ]
  },
  {
   "cell_type": "code",
   "execution_count": null,
   "metadata": {
    "ExecuteTime": {
     "end_time": "2020-12-25T21:16:31.981425Z",
     "start_time": "2020-12-25T21:16:31.494035Z"
    }
   },
   "outputs": [],
   "source": [
    "# List of Indicator-2 Features\n",
    "indicator2_feature_list = ['asol', 'sol_1h', 'sol_1h_24h', 'sol_1d_1w','sol_1w_1m', 'sol_1m_3m', 'sol_3m_6m', 'sol_6m_12m','sol_1y_2y', 'sol_2y_3y', 'sol_3y_5y', 'sol_5y_7y', 'sol_7y_10y']\n",
    "\n",
    "# Counter to Differentiate between Data Frame Setup and Data Frame Extension\n",
    "counter=0\n",
    "\n",
    "# For Loop through all Features in the List\n",
    "for x in indicator2_feature_list:\n",
    "    \n",
    "    # Import Feature CSV-Files\n",
    "    df = pd.read_csv(\"Glassnode/{}.csv\".format(x), index_col='Date')\n",
    "    \n",
    "    # Condition - Data Frame Set up or Data Frame Extension\n",
    "    if counter > 0:\n",
    "        \n",
    "        # Data Frame Extension - Inner Join\n",
    "        df_new = df_new.join(df, how='inner')\n",
    "    \n",
    "    else:\n",
    "        \n",
    "        # Data Frame Setup\n",
    "        df_new = df\n",
    "    \n",
    "    # Increase Counter\n",
    "    counter +=1\n",
    "\n",
    "# Store Data Frame Copy in Indicator-2 Data Frame\n",
    "df_indicator2 = df_new.copy()\n",
    "\n",
    "# Delete Original Data Frame\n",
    "del df_new\n",
    "\n",
    "# Change Data Type of Columns to Float\n",
    "for y in df_indicator2.columns:\n",
    "    try:\n",
    "        df_indicator2[\"{}\".format(y)] = df_indicator2[\"{}\".format(y)].str.replace(',','.')\n",
    "        df_indicator2[\"{}\".format(y)] = df_indicator2[\"{}\".format(y)].astype(float)\n",
    "    except:\n",
    "        pass"
   ]
  },
  {
   "cell_type": "code",
   "execution_count": null,
   "metadata": {
    "ExecuteTime": {
     "end_time": "2020-12-25T21:16:31.997382Z",
     "start_time": "2020-12-25T21:16:31.982422Z"
    }
   },
   "outputs": [],
   "source": [
    "# Latest Indicator-2 Metric Values\n",
    "df_indicator2.tail()"
   ]
  },
  {
   "cell_type": "markdown",
   "metadata": {},
   "source": [
    "#### Indicator-3 Metrics CSV-Files"
   ]
  },
  {
   "cell_type": "code",
   "execution_count": null,
   "metadata": {
    "ExecuteTime": {
     "end_time": "2020-12-25T21:16:32.345483Z",
     "start_time": "2020-12-25T21:16:31.998387Z"
    }
   },
   "outputs": [],
   "source": [
    "# List of Indicator-3 Features\n",
    "indicator3_feature_list = ['net_unrealized_profit_loss', 'unrealized_profit', 'unrealized_loss', 'net_realized_profit_loss', 'realized_profit', 'realized_loss', 'nupl_more_155', 'nupl_less_155', 'puell_multiple', 'stock_to_flow_deflection', 'difficulty_ribbon_compression']\n",
    "\n",
    "# Counter to Differentiate between Data Frame Setup and Data Frame Extension\n",
    "counter=0\n",
    "\n",
    "# For Loop through all Features in the List\n",
    "for x in indicator3_feature_list:\n",
    "    \n",
    "    # Import Feature CSV-Files\n",
    "    df = pd.read_csv(\"Glassnode/{}.csv\".format(x), index_col='Date')\n",
    "    \n",
    "    # Condition - Data Frame Set up or Data Frame Extension\n",
    "    if counter > 0:\n",
    "        \n",
    "        # Data Frame Extension - Inner Join\n",
    "        df_new = df_new.join(df, how='inner')\n",
    "    \n",
    "    else:\n",
    "        \n",
    "        # Data Frame Setup\n",
    "        df_new = df\n",
    "    \n",
    "    # Increase Counter\n",
    "    counter +=1\n",
    "\n",
    "# Store Data Frame Copy in Indicator-3 Data Frame\n",
    "df_indicator3 = df_new.copy()\n",
    "\n",
    "# Delete Original Data Frame\n",
    "del df_new\n",
    "\n",
    "# Change Data Type of Columns to Float\n",
    "for y in df_indicator3.columns:\n",
    "    try:\n",
    "        df_indicator3[\"{}\".format(y)] = df_indicator3[\"{}\".format(y)].str.replace(',','.')\n",
    "        df_indicator3[\"{}\".format(y)] = df_indicator3[\"{}\".format(y)].astype(float)\n",
    "    except:\n",
    "        pass"
   ]
  },
  {
   "cell_type": "code",
   "execution_count": null,
   "metadata": {
    "ExecuteTime": {
     "end_time": "2020-12-25T21:16:32.360657Z",
     "start_time": "2020-12-25T21:16:32.347449Z"
    }
   },
   "outputs": [],
   "source": [
    "# Latest Indicator-3 Metric Values\n",
    "df_indicator3.tail()"
   ]
  },
  {
   "cell_type": "markdown",
   "metadata": {},
   "source": [
    "#### Addresses Metric CSV-Files"
   ]
  },
  {
   "cell_type": "code",
   "execution_count": null,
   "metadata": {
    "ExecuteTime": {
     "end_time": "2020-12-25T21:16:32.717496Z",
     "start_time": "2020-12-25T21:16:32.361948Z"
    }
   },
   "outputs": [],
   "source": [
    "# List of Addresses Features\n",
    "addresses_feature_list = ['active_count', 'sending_count', 'receiving_count', 'new_non_zero_count', 'non_zero_count', 'min_point_zero_1_count', 'min_point_1_count', 'min_1_count', 'min_10_count', 'min_100_count', 'min_1k_count', 'min_10k_count']\n",
    "\n",
    "# Counter to Differentiate between Data Frame Setup and Data Frame Extension\n",
    "counter=0\n",
    "\n",
    "# For Loop through all Features in the List\n",
    "for x in addresses_feature_list:\n",
    "    \n",
    "    # Import Feature CSV-Files\n",
    "    df = pd.read_csv(\"Glassnode/{}.csv\".format(x), index_col='Date')\n",
    "    \n",
    "    # Condition - Data Frame Set up or Data Frame Extension\n",
    "    if counter > 0:\n",
    "        \n",
    "        # Data Frame Extension - Inner Join\n",
    "        df_new = df_new.join(df, how='inner')\n",
    "    \n",
    "    else:\n",
    "        \n",
    "        # Data Frame Setup\n",
    "        df_new = df\n",
    "    \n",
    "    # Increase Counter\n",
    "    counter +=1\n",
    "\n",
    "# Store Data Frame Copy in Addresses Data Frame\n",
    "df_addresses = df_new.copy()\n",
    "\n",
    "# Delete Original Data Frame\n",
    "del df_new\n",
    "\n",
    "# Change Data Type of Columns to Float\n",
    "for y in df_addresses.columns:\n",
    "    try:\n",
    "        df_addresses[\"{}\".format(y)] = df_addresses[\"{}\".format(y)].str.replace(',','.')\n",
    "        df_addresses[\"{}\".format(y)] = df_addresses[\"{}\".format(y)].astype(float)\n",
    "    except:\n",
    "        pass"
   ]
  },
  {
   "cell_type": "code",
   "execution_count": null,
   "metadata": {
    "ExecuteTime": {
     "end_time": "2020-12-25T21:16:32.750826Z",
     "start_time": "2020-12-25T21:16:32.719654Z"
    }
   },
   "outputs": [],
   "source": [
    "# Latest Addresses Metric Values\n",
    "df_addresses.tail()"
   ]
  },
  {
   "cell_type": "markdown",
   "metadata": {},
   "source": [
    "#### Futures Metrics CSV-Files - Excluded as Data Available Only Since Feb 2020"
   ]
  },
  {
   "cell_type": "markdown",
   "metadata": {},
   "source": [
    "##### List of Future Features\n",
    "futures_feature_list = ['futures_volume_daily_all_sum', 'futures_volume_daily_perpetual_sum', 'futures_open_interest_all_sum', 'futures_open_interest_perpetual_sum', 'futures_funding_rate_perpetual']\n",
    "\n",
    "##### Counter to Differentiate between Data Frame Setup and Data Frame Extension\n",
    "counter=0\n",
    "\n",
    "##### For Loop through all Features in the List\n",
    "for x in futures_feature_list:\n",
    "    \n",
    "    ##### Import Feature CSV-Files\n",
    "    df = pd.read_csv(\"Glassnode/{}.csv\".format(x), index_col='Date')\n",
    "    \n",
    "    ##### Condition - Data Frame Set up or Data Frame Extension\n",
    "    if counter > 0:\n",
    "        \n",
    "        ##### Data Frame Extension - Inner Join\n",
    "        df_new = df_new.join(df, how='inner')\n",
    "    \n",
    "    else:\n",
    "        \n",
    "        ##### Data Frame Setup\n",
    "        df_new = df\n",
    "    \n",
    "    ##### Increase Counter\n",
    "    counter +=1\n",
    "\n",
    "##### Store Data Frame Copy in Market Data Frame\n",
    "df_futures = df_new.copy()\n",
    "\n",
    "##### Delete Original Data Frame\n",
    "del df_new\n",
    "\n",
    "##### Change Data Type of Columns to Float\n",
    "for y in df_futures.columns:\n",
    "    try:\n",
    "        df_futures[\"{}\".format(y)] = df_futures[\"{}\".format(y)].str.replace(',','.')\n",
    "        df_futures[\"{}\".format(y)] = df_futures[\"{}\".format(y)].astype(float)\n",
    "    except:\n",
    "        pass"
   ]
  },
  {
   "cell_type": "markdown",
   "metadata": {},
   "source": [
    "## Target Variables"
   ]
  },
  {
   "cell_type": "code",
   "execution_count": null,
   "metadata": {
    "ExecuteTime": {
     "end_time": "2020-12-25T21:16:32.766241Z",
     "start_time": "2020-12-25T21:16:32.752820Z"
    }
   },
   "outputs": [],
   "source": [
    "df_return = pd.DataFrame(df_market['market/price_usd_close'])"
   ]
  },
  {
   "cell_type": "code",
   "execution_count": null,
   "metadata": {
    "ExecuteTime": {
     "end_time": "2020-12-25T21:16:32.782159Z",
     "start_time": "2020-12-25T21:16:32.768160Z"
    }
   },
   "outputs": [],
   "source": [
    "df_return.columns = ['Closed Price USD']"
   ]
  },
  {
   "cell_type": "code",
   "execution_count": null,
   "metadata": {
    "ExecuteTime": {
     "end_time": "2020-12-25T21:16:32.800689Z",
     "start_time": "2020-12-25T21:16:32.784133Z"
    }
   },
   "outputs": [],
   "source": [
    "# Add Column with BTC Daily Returns in USD\n",
    "df_return['Daily Return in USD'] = df_return['Closed Price USD'].diff()"
   ]
  },
  {
   "cell_type": "raw",
   "metadata": {},
   "source": [
    "# Add Column with BTC Daily Returns in Percent\n",
    "df_return['Daily Returns in Percent'] = (df_return['Daily Returns USD']) / (df_return['Closed Price USD'].shift(1))*100"
   ]
  },
  {
   "cell_type": "raw",
   "metadata": {},
   "source": [
    "# Add Column with BTC Daily Log Returns in Percent\n",
    "df_return['Daily Log Returns in Percent'] = pd.DataFrame(np.log(df_return['Closed Price USD']/df_return['Closed Price USD'].shift(1))*100)"
   ]
  },
  {
   "cell_type": "code",
   "execution_count": null,
   "metadata": {
    "ExecuteTime": {
     "end_time": "2020-12-25T21:16:32.816140Z",
     "start_time": "2020-12-25T21:16:32.802685Z"
    }
   },
   "outputs": [],
   "source": [
    "df_return.tail()"
   ]
  },
  {
   "cell_type": "markdown",
   "metadata": {},
   "source": [
    "## Feature Engineering"
   ]
  },
  {
   "cell_type": "markdown",
   "metadata": {},
   "source": [
    "### Volatility"
   ]
  },
  {
   "cell_type": "code",
   "execution_count": null,
   "metadata": {
    "ExecuteTime": {
     "end_time": "2020-12-25T21:16:32.832063Z",
     "start_time": "2020-12-25T21:16:32.818102Z"
    }
   },
   "outputs": [],
   "source": [
    "# Selecting BTC Close Price in USD\n",
    "df_volatility = pd.DataFrame(df_market['market/price_usd_close'])"
   ]
  },
  {
   "cell_type": "code",
   "execution_count": null,
   "metadata": {
    "ExecuteTime": {
     "end_time": "2020-12-25T21:16:32.848054Z",
     "start_time": "2020-12-25T21:16:32.843034Z"
    }
   },
   "outputs": [],
   "source": [
    "# Rename Price Column\n",
    "df_volatility.columns = ['Closed Price USD']"
   ]
  },
  {
   "cell_type": "code",
   "execution_count": null,
   "metadata": {
    "ExecuteTime": {
     "end_time": "2020-12-25T21:16:32.864015Z",
     "start_time": "2020-12-25T21:16:32.852012Z"
    }
   },
   "outputs": [],
   "source": [
    "# Add Column with BTC Daily Returns in USD\n",
    "df_volatility['Daily Return in USD'] = df_volatility['Closed Price USD'].diff()"
   ]
  },
  {
   "cell_type": "code",
   "execution_count": null,
   "metadata": {
    "ExecuteTime": {
     "end_time": "2020-12-25T21:16:32.879969Z",
     "start_time": "2020-12-25T21:16:32.865975Z"
    }
   },
   "outputs": [],
   "source": [
    "# Add Column with BTC Daily Returns in Percent\n",
    "df_volatility['Daily Return in Percent'] = (df_volatility['Daily Return in USD']) / (df_volatility['Closed Price USD'].shift(1))*100"
   ]
  },
  {
   "cell_type": "code",
   "execution_count": null,
   "metadata": {
    "ExecuteTime": {
     "end_time": "2020-12-25T21:16:32.908712Z",
     "start_time": "2020-12-25T21:16:32.881931Z"
    }
   },
   "outputs": [],
   "source": [
    "# Add Column with BTC Daily Log Returns in Percent\n",
    "df_volatility['Daily Log Return in Percent'] = pd.DataFrame(np.log(df_volatility['Closed Price USD']/df_volatility['Closed Price USD'].shift(1))*100)"
   ]
  },
  {
   "cell_type": "code",
   "execution_count": null,
   "metadata": {
    "ExecuteTime": {
     "end_time": "2020-12-25T21:16:32.939886Z",
     "start_time": "2020-12-25T21:16:32.913695Z"
    }
   },
   "outputs": [],
   "source": [
    "df_volatility.tail()"
   ]
  },
  {
   "cell_type": "code",
   "execution_count": null,
   "metadata": {
    "ExecuteTime": {
     "end_time": "2020-12-25T21:16:32.955839Z",
     "start_time": "2020-12-25T21:16:32.940848Z"
    }
   },
   "outputs": [],
   "source": [
    "# Calculation of Rolling Volatility of BTC Daily Log Returns for 10, 20 and 30 days period\n",
    "df_volatility['Volatility Daily Log Return in Percent 3D'] = pd.DataFrame(df_volatility['Daily Log Return in Percent'].rolling(window=3, min_periods=1).std())\n",
    "df_volatility['Volatility Daily Log Return in Percent 5D'] = pd.DataFrame(df_volatility['Daily Log Return in Percent'].rolling(window=5, min_periods=1).std())\n",
    "df_volatility['Volatility Daily Log Return in Percent 10D'] = pd.DataFrame(df_volatility['Daily Log Return in Percent'].rolling(window=10, min_periods=1).std())"
   ]
  },
  {
   "cell_type": "code",
   "execution_count": null,
   "metadata": {
    "ExecuteTime": {
     "end_time": "2020-12-25T21:16:32.971798Z",
     "start_time": "2020-12-25T21:16:32.956805Z"
    }
   },
   "outputs": [],
   "source": [
    "df_volatility.tail()"
   ]
  },
  {
   "cell_type": "code",
   "execution_count": null,
   "metadata": {
    "ExecuteTime": {
     "end_time": "2020-12-25T21:16:32.987723Z",
     "start_time": "2020-12-25T21:16:32.972765Z"
    }
   },
   "outputs": [],
   "source": [
    "df_volatility_reduced = df_volatility['Volatility Daily Log Return in Percent 5D']"
   ]
  },
  {
   "cell_type": "markdown",
   "metadata": {},
   "source": [
    "### Log Price"
   ]
  },
  {
   "cell_type": "code",
   "execution_count": null,
   "metadata": {
    "ExecuteTime": {
     "end_time": "2020-12-25T21:16:33.000689Z",
     "start_time": "2020-12-25T21:16:32.989718Z"
    }
   },
   "outputs": [],
   "source": [
    "# Selecting BTC Close Price in USD\n",
    "df_logprice = pd.DataFrame(np.log(df_market['market/price_usd_close']))"
   ]
  },
  {
   "cell_type": "code",
   "execution_count": null,
   "metadata": {
    "ExecuteTime": {
     "end_time": "2020-12-25T21:16:33.027350Z",
     "start_time": "2020-12-25T21:16:33.001874Z"
    }
   },
   "outputs": [],
   "source": [
    "df_logprice.columns = ['Log Price in USD']"
   ]
  },
  {
   "cell_type": "code",
   "execution_count": null,
   "metadata": {
    "ExecuteTime": {
     "end_time": "2020-12-25T21:16:33.057735Z",
     "start_time": "2020-12-25T21:16:33.029344Z"
    }
   },
   "outputs": [],
   "source": [
    "df_logprice.tail()"
   ]
  },
  {
   "cell_type": "markdown",
   "metadata": {},
   "source": [
    "# Data Sets"
   ]
  },
  {
   "cell_type": "markdown",
   "metadata": {},
   "source": [
    "## Data Set I. - Blockchain Metrics Only"
   ]
  },
  {
   "cell_type": "code",
   "execution_count": null,
   "metadata": {
    "ExecuteTime": {
     "end_time": "2020-12-25T21:16:33.104283Z",
     "start_time": "2020-12-25T21:16:33.059487Z"
    }
   },
   "outputs": [],
   "source": [
    "# Merging all Blockchain DataFrame Metrics\n",
    "df_blockchain = pd.concat([df_return, df_logprice, df_volatility_reduced, df_market, df_mining, df_blockfeatures, df_fees, df_utxo, df_supply, \n",
    "                           df_transaction, df_indicator1, df_indicator2, df_indicator3, df_addresses], axis=1, join='inner')"
   ]
  },
  {
   "cell_type": "code",
   "execution_count": null,
   "metadata": {
    "ExecuteTime": {
     "end_time": "2020-12-25T21:16:33.133356Z",
     "start_time": "2020-12-25T21:16:33.106099Z"
    }
   },
   "outputs": [],
   "source": [
    "df_blockchain = df_blockchain.dropna()"
   ]
  },
  {
   "cell_type": "code",
   "execution_count": null,
   "metadata": {
    "ExecuteTime": {
     "end_time": "2020-12-25T21:16:33.164170Z",
     "start_time": "2020-12-25T21:16:33.135410Z"
    }
   },
   "outputs": [],
   "source": [
    "df_blockchain = df_blockchain.drop(['Closed Price USD'], axis=1)"
   ]
  },
  {
   "cell_type": "code",
   "execution_count": null,
   "metadata": {
    "ExecuteTime": {
     "end_time": "2020-12-25T21:16:33.186873Z",
     "start_time": "2020-12-25T21:16:33.166090Z"
    }
   },
   "outputs": [],
   "source": [
    "df_blockchain.index = df_blockchain.index.astype('datetime64[ns]')"
   ]
  },
  {
   "cell_type": "code",
   "execution_count": null,
   "metadata": {
    "ExecuteTime": {
     "end_time": "2020-12-25T21:16:33.217449Z",
     "start_time": "2020-12-25T21:16:33.189863Z"
    }
   },
   "outputs": [],
   "source": [
    "df_blockchain.info()"
   ]
  },
  {
   "cell_type": "code",
   "execution_count": null,
   "metadata": {
    "ExecuteTime": {
     "end_time": "2020-12-25T21:16:33.249362Z",
     "start_time": "2020-12-25T21:16:33.219418Z"
    }
   },
   "outputs": [],
   "source": [
    "df_blockchain.tail()"
   ]
  },
  {
   "cell_type": "code",
   "execution_count": null,
   "metadata": {
    "ExecuteTime": {
     "end_time": "2020-12-25T21:16:33.489596Z",
     "start_time": "2020-12-25T21:16:33.251719Z"
    }
   },
   "outputs": [],
   "source": [
    "# Summary of each variable\n",
    "df_blockchain.describe()"
   ]
  },
  {
   "cell_type": "code",
   "execution_count": null,
   "metadata": {
    "ExecuteTime": {
     "end_time": "2020-12-25T21:16:34.014038Z",
     "start_time": "2020-12-25T21:16:33.491563Z"
    }
   },
   "outputs": [],
   "source": [
    "# Creating CSV-File of Blockchain Data\n",
    "df_blockchain.to_csv(\"df_dataset1.csv\")"
   ]
  },
  {
   "cell_type": "code",
   "execution_count": null,
   "metadata": {},
   "outputs": [],
   "source": []
  },
  {
   "cell_type": "markdown",
   "metadata": {},
   "source": [
    "# Classification Models - Data Set Variations"
   ]
  },
  {
   "cell_type": "code",
   "execution_count": 1,
   "metadata": {
    "ExecuteTime": {
     "end_time": "2020-12-28T19:52:37.784877Z",
     "start_time": "2020-12-28T19:52:33.903528Z"
    },
    "scrolled": true
   },
   "outputs": [],
   "source": [
    "# Import of Modules and Packages\n",
    "import os\n",
    "import numpy as np\n",
    "import pandas as pd\n",
    "import matplotlib.pyplot as plt\n",
    "import math\n",
    "\n",
    "from sklearn.preprocessing import StandardScaler, MinMaxScaler\n",
    "\n",
    "from sklearn.model_selection import train_test_split\n",
    "from sklearn.model_selection import cross_val_score\n",
    "from sklearn.model_selection import StratifiedKFold\n",
    "from sklearn.metrics import roc_auc_score, roc_curve\n",
    "from sklearn.metrics import confusion_matrix, classification_report\n",
    "\n",
    "# Logistic Regression\n",
    "from sklearn.linear_model import LogisticRegression\n",
    "from sklearn.tree import DecisionTreeClassifier\n",
    "from sklearn.ensemble import RandomForestClassifier\n",
    "from sklearn.neighbors import KNeighborsClassifier\n",
    "from pycaret.classification import *\n",
    "\n",
    "# Deep Neural Networks\n",
    "from tensorflow import keras\n",
    "from keras.wrappers.scikit_learn import KerasClassifier\n",
    "from keras.models import Sequential\n",
    "from keras.layers import Dense\n",
    "from keras.optimizers import SGD\n",
    "from keras.optimizers import Adam\n",
    "\n",
    "# PyCaret\n",
    "import pycaret"
   ]
  },
  {
   "cell_type": "code",
   "execution_count": 2,
   "metadata": {
    "ExecuteTime": {
     "end_time": "2020-12-28T19:52:37.800092Z",
     "start_time": "2020-12-28T19:52:37.786303Z"
    }
   },
   "outputs": [],
   "source": [
    "# Adjustment of Decimal Places\n",
    "pd.options.display.float_format = '{:.2f}'.format"
   ]
  },
  {
   "cell_type": "markdown",
   "metadata": {},
   "source": [
    "# Import Data Sets"
   ]
  },
  {
   "cell_type": "markdown",
   "metadata": {},
   "source": [
    "## Data Set I."
   ]
  },
  {
   "cell_type": "code",
   "execution_count": 3,
   "metadata": {
    "ExecuteTime": {
     "end_time": "2020-12-28T19:52:37.818298Z",
     "start_time": "2020-12-28T19:52:37.802085Z"
    }
   },
   "outputs": [
    {
     "data": {
      "text/plain": [
       "'C:\\\\Users\\\\markus.gebele\\\\github_repo\\\\JupyterLabDir\\\\Rest\\\\MA BTC\\\\Markus_Code_MA_final\\\\20201010\\\\model development\\\\Testing for complete year 2019 or 2020'"
      ]
     },
     "execution_count": 3,
     "metadata": {},
     "output_type": "execute_result"
    }
   ],
   "source": [
    "os.getcwd()"
   ]
  },
  {
   "cell_type": "code",
   "execution_count": 4,
   "metadata": {
    "ExecuteTime": {
     "end_time": "2020-12-28T19:52:37.838274Z",
     "start_time": "2020-12-28T19:52:37.820292Z"
    }
   },
   "outputs": [],
   "source": [
    "os.chdir('{}JupyterLabDir\\\\Rest\\\\MA BTC\\\\Markus_Code_MA_final\\\\20201010'.format(os.getcwd().split('JupyterLabDir')[0]))\n"
   ]
  },
  {
   "cell_type": "code",
   "execution_count": 5,
   "metadata": {
    "ExecuteTime": {
     "end_time": "2020-12-28T19:52:37.902105Z",
     "start_time": "2020-12-28T19:52:37.840268Z"
    }
   },
   "outputs": [],
   "source": [
    "# CSV Import of Data Set I. - Blockchain Data\n",
    "df_dataset1 = pd.read_csv('df_dataset2.csv', parse_dates = True, index_col='Date')"
   ]
  },
  {
   "cell_type": "code",
   "execution_count": 6,
   "metadata": {
    "ExecuteTime": {
     "end_time": "2020-12-28T19:52:37.932022Z",
     "start_time": "2020-12-28T19:52:37.904158Z"
    }
   },
   "outputs": [
    {
     "data": {
      "text/html": [
       "<div>\n",
       "<style scoped>\n",
       "    .dataframe tbody tr th:only-of-type {\n",
       "        vertical-align: middle;\n",
       "    }\n",
       "\n",
       "    .dataframe tbody tr th {\n",
       "        vertical-align: top;\n",
       "    }\n",
       "\n",
       "    .dataframe thead th {\n",
       "        text-align: right;\n",
       "    }\n",
       "</style>\n",
       "<table border=\"1\" class=\"dataframe\">\n",
       "  <thead>\n",
       "    <tr style=\"text-align: right;\">\n",
       "      <th></th>\n",
       "      <th>Daily Return in USD</th>\n",
       "      <th>Log Price in USD</th>\n",
       "      <th>Volatility Daily Log Return in Percent 5D</th>\n",
       "      <th>market/price_usd_close</th>\n",
       "      <th>market/price_drawdown_relative</th>\n",
       "      <th>market/price_realized_usd</th>\n",
       "      <th>market/mvrv</th>\n",
       "      <th>mining/difficulty_latest</th>\n",
       "      <th>mining/hash_rate_mean</th>\n",
       "      <th>blockchain/block_count</th>\n",
       "      <th>...</th>\n",
       "      <th>NASDAQ Daily Change</th>\n",
       "      <th>VIX Daily Change</th>\n",
       "      <th>CBOE Skew Daily Change</th>\n",
       "      <th>Close USD Index</th>\n",
       "      <th>Close EUR/USD</th>\n",
       "      <th>Close JPY/USD</th>\n",
       "      <th>Close GBP/USD</th>\n",
       "      <th>Close CAD/USD</th>\n",
       "      <th>Close SEK/USD</th>\n",
       "      <th>Close CHF/USD</th>\n",
       "    </tr>\n",
       "    <tr>\n",
       "      <th>Date</th>\n",
       "      <th></th>\n",
       "      <th></th>\n",
       "      <th></th>\n",
       "      <th></th>\n",
       "      <th></th>\n",
       "      <th></th>\n",
       "      <th></th>\n",
       "      <th></th>\n",
       "      <th></th>\n",
       "      <th></th>\n",
       "      <th></th>\n",
       "      <th></th>\n",
       "      <th></th>\n",
       "      <th></th>\n",
       "      <th></th>\n",
       "      <th></th>\n",
       "      <th></th>\n",
       "      <th></th>\n",
       "      <th></th>\n",
       "      <th></th>\n",
       "      <th></th>\n",
       "    </tr>\n",
       "  </thead>\n",
       "  <tbody>\n",
       "    <tr>\n",
       "      <th>2011-08-17</th>\n",
       "      <td>0.03</td>\n",
       "      <td>2.40</td>\n",
       "      <td>3.60</td>\n",
       "      <td>10.99</td>\n",
       "      <td>-0.66</td>\n",
       "      <td>6.81</td>\n",
       "      <td>1.60</td>\n",
       "      <td>7755426037811680.00</td>\n",
       "      <td>12230547335773.00</td>\n",
       "      <td>136.00</td>\n",
       "      <td>...</td>\n",
       "      <td>-11.97</td>\n",
       "      <td>-1.27</td>\n",
       "      <td>3.75</td>\n",
       "      <td>73.67</td>\n",
       "      <td>1.44</td>\n",
       "      <td>0.01</td>\n",
       "      <td>1.64</td>\n",
       "      <td>1.02</td>\n",
       "      <td>0.16</td>\n",
       "      <td>1.26</td>\n",
       "    </tr>\n",
       "    <tr>\n",
       "      <th>2011-08-18</th>\n",
       "      <td>-0.15</td>\n",
       "      <td>2.38</td>\n",
       "      <td>3.29</td>\n",
       "      <td>10.85</td>\n",
       "      <td>-0.66</td>\n",
       "      <td>6.81</td>\n",
       "      <td>1.60</td>\n",
       "      <td>7755426037811680.00</td>\n",
       "      <td>12915246321786.50</td>\n",
       "      <td>144.00</td>\n",
       "      <td>...</td>\n",
       "      <td>-131.05</td>\n",
       "      <td>11.09</td>\n",
       "      <td>-1.72</td>\n",
       "      <td>74.24</td>\n",
       "      <td>1.44</td>\n",
       "      <td>0.01</td>\n",
       "      <td>1.65</td>\n",
       "      <td>1.02</td>\n",
       "      <td>0.16</td>\n",
       "      <td>1.27</td>\n",
       "    </tr>\n",
       "    <tr>\n",
       "      <th>2011-08-19</th>\n",
       "      <td>0.80</td>\n",
       "      <td>2.46</td>\n",
       "      <td>3.72</td>\n",
       "      <td>11.65</td>\n",
       "      <td>-0.63</td>\n",
       "      <td>6.82</td>\n",
       "      <td>1.65</td>\n",
       "      <td>7755426037811680.00</td>\n",
       "      <td>11678381642086.70</td>\n",
       "      <td>131.00</td>\n",
       "      <td>...</td>\n",
       "      <td>-38.59</td>\n",
       "      <td>0.38</td>\n",
       "      <td>-0.39</td>\n",
       "      <td>73.99</td>\n",
       "      <td>1.43</td>\n",
       "      <td>0.01</td>\n",
       "      <td>1.65</td>\n",
       "      <td>1.01</td>\n",
       "      <td>0.16</td>\n",
       "      <td>1.26</td>\n",
       "    </tr>\n",
       "    <tr>\n",
       "      <th>2011-08-22</th>\n",
       "      <td>-0.38</td>\n",
       "      <td>2.39</td>\n",
       "      <td>4.15</td>\n",
       "      <td>10.94</td>\n",
       "      <td>-0.66</td>\n",
       "      <td>6.84</td>\n",
       "      <td>1.63</td>\n",
       "      <td>7755426037811680.00</td>\n",
       "      <td>15232874647151.10</td>\n",
       "      <td>169.00</td>\n",
       "      <td>...</td>\n",
       "      <td>3.54</td>\n",
       "      <td>-0.61</td>\n",
       "      <td>-4.65</td>\n",
       "      <td>74.07</td>\n",
       "      <td>1.44</td>\n",
       "      <td>0.01</td>\n",
       "      <td>1.65</td>\n",
       "      <td>1.01</td>\n",
       "      <td>0.16</td>\n",
       "      <td>1.27</td>\n",
       "    </tr>\n",
       "    <tr>\n",
       "      <th>2011-08-23</th>\n",
       "      <td>-0.01</td>\n",
       "      <td>2.39</td>\n",
       "      <td>4.09</td>\n",
       "      <td>10.93</td>\n",
       "      <td>-0.66</td>\n",
       "      <td>6.84</td>\n",
       "      <td>1.61</td>\n",
       "      <td>7755426037811680.00</td>\n",
       "      <td>13087830283303.00</td>\n",
       "      <td>155.00</td>\n",
       "      <td>...</td>\n",
       "      <td>100.68</td>\n",
       "      <td>-6.17</td>\n",
       "      <td>4.65</td>\n",
       "      <td>73.87</td>\n",
       "      <td>1.44</td>\n",
       "      <td>0.01</td>\n",
       "      <td>1.65</td>\n",
       "      <td>1.01</td>\n",
       "      <td>0.16</td>\n",
       "      <td>1.27</td>\n",
       "    </tr>\n",
       "    <tr>\n",
       "      <th>...</th>\n",
       "      <td>...</td>\n",
       "      <td>...</td>\n",
       "      <td>...</td>\n",
       "      <td>...</td>\n",
       "      <td>...</td>\n",
       "      <td>...</td>\n",
       "      <td>...</td>\n",
       "      <td>...</td>\n",
       "      <td>...</td>\n",
       "      <td>...</td>\n",
       "      <td>...</td>\n",
       "      <td>...</td>\n",
       "      <td>...</td>\n",
       "      <td>...</td>\n",
       "      <td>...</td>\n",
       "      <td>...</td>\n",
       "      <td>...</td>\n",
       "      <td>...</td>\n",
       "      <td>...</td>\n",
       "      <td>...</td>\n",
       "      <td>...</td>\n",
       "    </tr>\n",
       "    <tr>\n",
       "      <th>2020-12-17</th>\n",
       "      <td>1445.85</td>\n",
       "      <td>10.03</td>\n",
       "      <td>3.95</td>\n",
       "      <td>22790.81</td>\n",
       "      <td>-0.04</td>\n",
       "      <td>7935.71</td>\n",
       "      <td>2.84</td>\n",
       "      <td>80187763369133704478720.00</td>\n",
       "      <td>120924230791744995328.00</td>\n",
       "      <td>129.00</td>\n",
       "      <td>...</td>\n",
       "      <td>106.56</td>\n",
       "      <td>-0.57</td>\n",
       "      <td>5.84</td>\n",
       "      <td>89.82</td>\n",
       "      <td>1.22</td>\n",
       "      <td>0.01</td>\n",
       "      <td>1.35</td>\n",
       "      <td>0.78</td>\n",
       "      <td>0.12</td>\n",
       "      <td>1.13</td>\n",
       "    </tr>\n",
       "    <tr>\n",
       "      <th>2020-12-18</th>\n",
       "      <td>287.96</td>\n",
       "      <td>10.05</td>\n",
       "      <td>4.03</td>\n",
       "      <td>23078.76</td>\n",
       "      <td>-0.02</td>\n",
       "      <td>8072.93</td>\n",
       "      <td>2.83</td>\n",
       "      <td>80187763369133704478720.00</td>\n",
       "      <td>145575084110428995584.00</td>\n",
       "      <td>157.00</td>\n",
       "      <td>...</td>\n",
       "      <td>-9.11</td>\n",
       "      <td>-0.36</td>\n",
       "      <td>2.28</td>\n",
       "      <td>90.02</td>\n",
       "      <td>1.23</td>\n",
       "      <td>0.01</td>\n",
       "      <td>1.36</td>\n",
       "      <td>0.79</td>\n",
       "      <td>0.12</td>\n",
       "      <td>1.13</td>\n",
       "    </tr>\n",
       "    <tr>\n",
       "      <th>2020-12-21</th>\n",
       "      <td>-674.33</td>\n",
       "      <td>10.04</td>\n",
       "      <td>3.74</td>\n",
       "      <td>22875.46</td>\n",
       "      <td>-0.05</td>\n",
       "      <td>8205.79</td>\n",
       "      <td>2.83</td>\n",
       "      <td>80187763369133704478720.00</td>\n",
       "      <td>125467801265571004416.00</td>\n",
       "      <td>136.00</td>\n",
       "      <td>...</td>\n",
       "      <td>-13.12</td>\n",
       "      <td>3.59</td>\n",
       "      <td>-0.05</td>\n",
       "      <td>90.04</td>\n",
       "      <td>1.22</td>\n",
       "      <td>0.01</td>\n",
       "      <td>1.34</td>\n",
       "      <td>0.78</td>\n",
       "      <td>0.12</td>\n",
       "      <td>1.13</td>\n",
       "    </tr>\n",
       "    <tr>\n",
       "      <th>2020-12-22</th>\n",
       "      <td>883.48</td>\n",
       "      <td>10.08</td>\n",
       "      <td>2.89</td>\n",
       "      <td>23758.93</td>\n",
       "      <td>-0.02</td>\n",
       "      <td>8286.35</td>\n",
       "      <td>2.79</td>\n",
       "      <td>80187763369133704478720.00</td>\n",
       "      <td>132165952003620995072.00</td>\n",
       "      <td>143.00</td>\n",
       "      <td>...</td>\n",
       "      <td>65.40</td>\n",
       "      <td>-0.93</td>\n",
       "      <td>-0.49</td>\n",
       "      <td>90.65</td>\n",
       "      <td>1.22</td>\n",
       "      <td>0.01</td>\n",
       "      <td>1.34</td>\n",
       "      <td>0.78</td>\n",
       "      <td>0.12</td>\n",
       "      <td>1.13</td>\n",
       "    </tr>\n",
       "    <tr>\n",
       "      <th>2020-12-23</th>\n",
       "      <td>-479.38</td>\n",
       "      <td>10.06</td>\n",
       "      <td>3.13</td>\n",
       "      <td>23279.55</td>\n",
       "      <td>-0.04</td>\n",
       "      <td>8375.79</td>\n",
       "      <td>2.81</td>\n",
       "      <td>80187763369133704478720.00</td>\n",
       "      <td>146111617294112997376.00</td>\n",
       "      <td>154.00</td>\n",
       "      <td>...</td>\n",
       "      <td>-36.81</td>\n",
       "      <td>-0.92</td>\n",
       "      <td>-0.26</td>\n",
       "      <td>90.41</td>\n",
       "      <td>1.22</td>\n",
       "      <td>0.01</td>\n",
       "      <td>1.34</td>\n",
       "      <td>0.78</td>\n",
       "      <td>0.12</td>\n",
       "      <td>1.13</td>\n",
       "    </tr>\n",
       "  </tbody>\n",
       "</table>\n",
       "<p>2249 rows × 125 columns</p>\n",
       "</div>"
      ],
      "text/plain": [
       "            Daily Return in USD  Log Price in USD  \\\n",
       "Date                                                \n",
       "2011-08-17                 0.03              2.40   \n",
       "2011-08-18                -0.15              2.38   \n",
       "2011-08-19                 0.80              2.46   \n",
       "2011-08-22                -0.38              2.39   \n",
       "2011-08-23                -0.01              2.39   \n",
       "...                         ...               ...   \n",
       "2020-12-17              1445.85             10.03   \n",
       "2020-12-18               287.96             10.05   \n",
       "2020-12-21              -674.33             10.04   \n",
       "2020-12-22               883.48             10.08   \n",
       "2020-12-23              -479.38             10.06   \n",
       "\n",
       "            Volatility Daily Log Return in Percent 5D  market/price_usd_close  \\\n",
       "Date                                                                            \n",
       "2011-08-17                                       3.60                   10.99   \n",
       "2011-08-18                                       3.29                   10.85   \n",
       "2011-08-19                                       3.72                   11.65   \n",
       "2011-08-22                                       4.15                   10.94   \n",
       "2011-08-23                                       4.09                   10.93   \n",
       "...                                               ...                     ...   \n",
       "2020-12-17                                       3.95                22790.81   \n",
       "2020-12-18                                       4.03                23078.76   \n",
       "2020-12-21                                       3.74                22875.46   \n",
       "2020-12-22                                       2.89                23758.93   \n",
       "2020-12-23                                       3.13                23279.55   \n",
       "\n",
       "            market/price_drawdown_relative  market/price_realized_usd  \\\n",
       "Date                                                                    \n",
       "2011-08-17                           -0.66                       6.81   \n",
       "2011-08-18                           -0.66                       6.81   \n",
       "2011-08-19                           -0.63                       6.82   \n",
       "2011-08-22                           -0.66                       6.84   \n",
       "2011-08-23                           -0.66                       6.84   \n",
       "...                                    ...                        ...   \n",
       "2020-12-17                           -0.04                    7935.71   \n",
       "2020-12-18                           -0.02                    8072.93   \n",
       "2020-12-21                           -0.05                    8205.79   \n",
       "2020-12-22                           -0.02                    8286.35   \n",
       "2020-12-23                           -0.04                    8375.79   \n",
       "\n",
       "            market/mvrv   mining/difficulty_latest    mining/hash_rate_mean  \\\n",
       "Date                                                                          \n",
       "2011-08-17         1.60        7755426037811680.00        12230547335773.00   \n",
       "2011-08-18         1.60        7755426037811680.00        12915246321786.50   \n",
       "2011-08-19         1.65        7755426037811680.00        11678381642086.70   \n",
       "2011-08-22         1.63        7755426037811680.00        15232874647151.10   \n",
       "2011-08-23         1.61        7755426037811680.00        13087830283303.00   \n",
       "...                 ...                        ...                      ...   \n",
       "2020-12-17         2.84 80187763369133704478720.00 120924230791744995328.00   \n",
       "2020-12-18         2.83 80187763369133704478720.00 145575084110428995584.00   \n",
       "2020-12-21         2.83 80187763369133704478720.00 125467801265571004416.00   \n",
       "2020-12-22         2.79 80187763369133704478720.00 132165952003620995072.00   \n",
       "2020-12-23         2.81 80187763369133704478720.00 146111617294112997376.00   \n",
       "\n",
       "            blockchain/block_count  ...  NASDAQ Daily Change  \\\n",
       "Date                                ...                        \n",
       "2011-08-17                  136.00  ...               -11.97   \n",
       "2011-08-18                  144.00  ...              -131.05   \n",
       "2011-08-19                  131.00  ...               -38.59   \n",
       "2011-08-22                  169.00  ...                 3.54   \n",
       "2011-08-23                  155.00  ...               100.68   \n",
       "...                            ...  ...                  ...   \n",
       "2020-12-17                  129.00  ...               106.56   \n",
       "2020-12-18                  157.00  ...                -9.11   \n",
       "2020-12-21                  136.00  ...               -13.12   \n",
       "2020-12-22                  143.00  ...                65.40   \n",
       "2020-12-23                  154.00  ...               -36.81   \n",
       "\n",
       "            VIX Daily Change  CBOE Skew Daily Change  Close USD Index  \\\n",
       "Date                                                                    \n",
       "2011-08-17             -1.27                    3.75            73.67   \n",
       "2011-08-18             11.09                   -1.72            74.24   \n",
       "2011-08-19              0.38                   -0.39            73.99   \n",
       "2011-08-22             -0.61                   -4.65            74.07   \n",
       "2011-08-23             -6.17                    4.65            73.87   \n",
       "...                      ...                     ...              ...   \n",
       "2020-12-17             -0.57                    5.84            89.82   \n",
       "2020-12-18             -0.36                    2.28            90.02   \n",
       "2020-12-21              3.59                   -0.05            90.04   \n",
       "2020-12-22             -0.93                   -0.49            90.65   \n",
       "2020-12-23             -0.92                   -0.26            90.41   \n",
       "\n",
       "            Close EUR/USD  Close JPY/USD  Close GBP/USD  Close CAD/USD  \\\n",
       "Date                                                                     \n",
       "2011-08-17           1.44           0.01           1.64           1.02   \n",
       "2011-08-18           1.44           0.01           1.65           1.02   \n",
       "2011-08-19           1.43           0.01           1.65           1.01   \n",
       "2011-08-22           1.44           0.01           1.65           1.01   \n",
       "2011-08-23           1.44           0.01           1.65           1.01   \n",
       "...                   ...            ...            ...            ...   \n",
       "2020-12-17           1.22           0.01           1.35           0.78   \n",
       "2020-12-18           1.23           0.01           1.36           0.79   \n",
       "2020-12-21           1.22           0.01           1.34           0.78   \n",
       "2020-12-22           1.22           0.01           1.34           0.78   \n",
       "2020-12-23           1.22           0.01           1.34           0.78   \n",
       "\n",
       "            Close SEK/USD  Close CHF/USD  \n",
       "Date                                      \n",
       "2011-08-17           0.16           1.26  \n",
       "2011-08-18           0.16           1.27  \n",
       "2011-08-19           0.16           1.26  \n",
       "2011-08-22           0.16           1.27  \n",
       "2011-08-23           0.16           1.27  \n",
       "...                   ...            ...  \n",
       "2020-12-17           0.12           1.13  \n",
       "2020-12-18           0.12           1.13  \n",
       "2020-12-21           0.12           1.13  \n",
       "2020-12-22           0.12           1.13  \n",
       "2020-12-23           0.12           1.13  \n",
       "\n",
       "[2249 rows x 125 columns]"
      ]
     },
     "execution_count": 6,
     "metadata": {},
     "output_type": "execute_result"
    }
   ],
   "source": [
    "df_dataset1"
   ]
  },
  {
   "cell_type": "code",
   "execution_count": 7,
   "metadata": {
    "ExecuteTime": {
     "end_time": "2020-12-28T19:52:37.947980Z",
     "start_time": "2020-12-28T19:52:37.934018Z"
    }
   },
   "outputs": [
    {
     "name": "stdout",
     "output_type": "stream",
     "text": [
      "<class 'pandas.core.frame.DataFrame'>\n",
      "DatetimeIndex: 2249 entries, 2011-08-17 to 2020-12-23\n",
      "Columns: 125 entries, Daily Return in USD to Close CHF/USD\n",
      "dtypes: float64(125)\n",
      "memory usage: 2.2 MB\n"
     ]
    }
   ],
   "source": [
    "# Data Set Info\n",
    "df_dataset1.info()"
   ]
  },
  {
   "cell_type": "code",
   "execution_count": 8,
   "metadata": {
    "ExecuteTime": {
     "end_time": "2020-12-28T19:52:37.963937Z",
     "start_time": "2020-12-28T19:52:37.950973Z"
    }
   },
   "outputs": [],
   "source": [
    "# List of Data Types\n",
    "l_dtypes = df_dataset1.dtypes"
   ]
  },
  {
   "cell_type": "code",
   "execution_count": 9,
   "metadata": {
    "ExecuteTime": {
     "end_time": "2020-12-28T19:52:37.979894Z",
     "start_time": "2020-12-28T19:52:37.965933Z"
    }
   },
   "outputs": [
    {
     "name": "stdout",
     "output_type": "stream",
     "text": [
      "125\n"
     ]
    }
   ],
   "source": [
    "# Counter\n",
    "counter = 0\n",
    "\n",
    "# Cross-Check of Data Types\n",
    "for i in l_dtypes:\n",
    "    if (i == float):\n",
    "        counter = counter+1\n",
    "    else:\n",
    "        counter = counter\n",
    "\n",
    "# Number of Float Data Types\n",
    "print(counter)"
   ]
  },
  {
   "cell_type": "code",
   "execution_count": 10,
   "metadata": {
    "ExecuteTime": {
     "end_time": "2020-12-28T19:52:37.995853Z",
     "start_time": "2020-12-28T19:52:37.980893Z"
    }
   },
   "outputs": [
    {
     "data": {
      "text/plain": [
       "Daily Return in USD                          float64\n",
       "Log Price in USD                             float64\n",
       "Volatility Daily Log Return in Percent 5D    float64\n",
       "market/price_usd_close                       float64\n",
       "market/price_drawdown_relative               float64\n",
       "                                              ...   \n",
       "Close JPY/USD                                float64\n",
       "Close GBP/USD                                float64\n",
       "Close CAD/USD                                float64\n",
       "Close SEK/USD                                float64\n",
       "Close CHF/USD                                float64\n",
       "Length: 125, dtype: object"
      ]
     },
     "execution_count": 10,
     "metadata": {},
     "output_type": "execute_result"
    }
   ],
   "source": [
    "# Data Types\n",
    "df_dataset1.dtypes"
   ]
  },
  {
   "cell_type": "code",
   "execution_count": 11,
   "metadata": {
    "ExecuteTime": {
     "end_time": "2020-12-28T19:52:38.247181Z",
     "start_time": "2020-12-28T19:52:37.996850Z"
    }
   },
   "outputs": [
    {
     "data": {
      "text/html": [
       "<div>\n",
       "<style scoped>\n",
       "    .dataframe tbody tr th:only-of-type {\n",
       "        vertical-align: middle;\n",
       "    }\n",
       "\n",
       "    .dataframe tbody tr th {\n",
       "        vertical-align: top;\n",
       "    }\n",
       "\n",
       "    .dataframe thead th {\n",
       "        text-align: right;\n",
       "    }\n",
       "</style>\n",
       "<table border=\"1\" class=\"dataframe\">\n",
       "  <thead>\n",
       "    <tr style=\"text-align: right;\">\n",
       "      <th></th>\n",
       "      <th>Daily Return in USD</th>\n",
       "      <th>Log Price in USD</th>\n",
       "      <th>Volatility Daily Log Return in Percent 5D</th>\n",
       "      <th>market/price_usd_close</th>\n",
       "      <th>market/price_drawdown_relative</th>\n",
       "      <th>market/price_realized_usd</th>\n",
       "      <th>market/mvrv</th>\n",
       "      <th>mining/difficulty_latest</th>\n",
       "      <th>mining/hash_rate_mean</th>\n",
       "      <th>blockchain/block_count</th>\n",
       "      <th>...</th>\n",
       "      <th>NASDAQ Daily Change</th>\n",
       "      <th>VIX Daily Change</th>\n",
       "      <th>CBOE Skew Daily Change</th>\n",
       "      <th>Close USD Index</th>\n",
       "      <th>Close EUR/USD</th>\n",
       "      <th>Close JPY/USD</th>\n",
       "      <th>Close GBP/USD</th>\n",
       "      <th>Close CAD/USD</th>\n",
       "      <th>Close SEK/USD</th>\n",
       "      <th>Close CHF/USD</th>\n",
       "    </tr>\n",
       "  </thead>\n",
       "  <tbody>\n",
       "    <tr>\n",
       "      <th>count</th>\n",
       "      <td>2249.00</td>\n",
       "      <td>2249.00</td>\n",
       "      <td>2249.00</td>\n",
       "      <td>2249.00</td>\n",
       "      <td>2249.00</td>\n",
       "      <td>2249.00</td>\n",
       "      <td>2249.00</td>\n",
       "      <td>2249.00</td>\n",
       "      <td>2249.00</td>\n",
       "      <td>2249.00</td>\n",
       "      <td>...</td>\n",
       "      <td>2249.00</td>\n",
       "      <td>2249.00</td>\n",
       "      <td>2249.00</td>\n",
       "      <td>2249.00</td>\n",
       "      <td>2249.00</td>\n",
       "      <td>2249.00</td>\n",
       "      <td>2249.00</td>\n",
       "      <td>2249.00</td>\n",
       "      <td>2249.00</td>\n",
       "      <td>2249.00</td>\n",
       "    </tr>\n",
       "    <tr>\n",
       "      <th>mean</th>\n",
       "      <td>8.82</td>\n",
       "      <td>6.41</td>\n",
       "      <td>3.51</td>\n",
       "      <td>3322.47</td>\n",
       "      <td>-0.54</td>\n",
       "      <td>1974.41</td>\n",
       "      <td>1.69</td>\n",
       "      <td>14525612276244186923008.00</td>\n",
       "      <td>24459615249953652736.00</td>\n",
       "      <td>152.04</td>\n",
       "      <td>...</td>\n",
       "      <td>4.49</td>\n",
       "      <td>-0.01</td>\n",
       "      <td>0.03</td>\n",
       "      <td>90.71</td>\n",
       "      <td>1.20</td>\n",
       "      <td>0.01</td>\n",
       "      <td>1.44</td>\n",
       "      <td>0.84</td>\n",
       "      <td>0.13</td>\n",
       "      <td>1.05</td>\n",
       "    </tr>\n",
       "    <tr>\n",
       "      <th>std</th>\n",
       "      <td>251.46</td>\n",
       "      <td>2.47</td>\n",
       "      <td>3.30</td>\n",
       "      <td>4418.09</td>\n",
       "      <td>0.24</td>\n",
       "      <td>2437.96</td>\n",
       "      <td>0.75</td>\n",
       "      <td>23935064865626189201408.00</td>\n",
       "      <td>40141281990894952448.00</td>\n",
       "      <td>18.89</td>\n",
       "      <td>...</td>\n",
       "      <td>83.74</td>\n",
       "      <td>1.86</td>\n",
       "      <td>3.84</td>\n",
       "      <td>7.73</td>\n",
       "      <td>0.10</td>\n",
       "      <td>0.00</td>\n",
       "      <td>0.15</td>\n",
       "      <td>0.10</td>\n",
       "      <td>0.02</td>\n",
       "      <td>0.04</td>\n",
       "    </tr>\n",
       "    <tr>\n",
       "      <th>min</th>\n",
       "      <td>-3052.46</td>\n",
       "      <td>0.72</td>\n",
       "      <td>0.24</td>\n",
       "      <td>2.05</td>\n",
       "      <td>-0.94</td>\n",
       "      <td>4.78</td>\n",
       "      <td>0.40</td>\n",
       "      <td>4684588175054590.00</td>\n",
       "      <td>6399665203131.94</td>\n",
       "      <td>89.00</td>\n",
       "      <td>...</td>\n",
       "      <td>-970.29</td>\n",
       "      <td>-17.64</td>\n",
       "      <td>-22.81</td>\n",
       "      <td>73.67</td>\n",
       "      <td>1.04</td>\n",
       "      <td>0.01</td>\n",
       "      <td>1.15</td>\n",
       "      <td>0.69</td>\n",
       "      <td>0.10</td>\n",
       "      <td>0.97</td>\n",
       "    </tr>\n",
       "    <tr>\n",
       "      <th>25%</th>\n",
       "      <td>-7.30</td>\n",
       "      <td>5.43</td>\n",
       "      <td>1.52</td>\n",
       "      <td>227.37</td>\n",
       "      <td>-0.71</td>\n",
       "      <td>254.97</td>\n",
       "      <td>1.18</td>\n",
       "      <td>3901337247460400128.00</td>\n",
       "      <td>9084533497378490.00</td>\n",
       "      <td>140.00</td>\n",
       "      <td>...</td>\n",
       "      <td>-20.82</td>\n",
       "      <td>-0.72</td>\n",
       "      <td>-1.68</td>\n",
       "      <td>81.73</td>\n",
       "      <td>1.12</td>\n",
       "      <td>0.01</td>\n",
       "      <td>1.30</td>\n",
       "      <td>0.76</td>\n",
       "      <td>0.11</td>\n",
       "      <td>1.01</td>\n",
       "    </tr>\n",
       "    <tr>\n",
       "      <th>50%</th>\n",
       "      <td>0.13</td>\n",
       "      <td>6.43</td>\n",
       "      <td>2.64</td>\n",
       "      <td>621.83</td>\n",
       "      <td>-0.59</td>\n",
       "      <td>353.69</td>\n",
       "      <td>1.60</td>\n",
       "      <td>767335669260638093312.00</td>\n",
       "      <td>1289104886357850112.00</td>\n",
       "      <td>151.00</td>\n",
       "      <td>...</td>\n",
       "      <td>5.60</td>\n",
       "      <td>-0.08</td>\n",
       "      <td>0.00</td>\n",
       "      <td>93.96</td>\n",
       "      <td>1.17</td>\n",
       "      <td>0.01</td>\n",
       "      <td>1.43</td>\n",
       "      <td>0.78</td>\n",
       "      <td>0.12</td>\n",
       "      <td>1.04</td>\n",
       "    </tr>\n",
       "    <tr>\n",
       "      <th>75%</th>\n",
       "      <td>13.71</td>\n",
       "      <td>8.79</td>\n",
       "      <td>4.40</td>\n",
       "      <td>6589.25</td>\n",
       "      <td>-0.44</td>\n",
       "      <td>4971.49</td>\n",
       "      <td>1.98</td>\n",
       "      <td>24251119882350098382848.00</td>\n",
       "      <td>39829559916680699904.00</td>\n",
       "      <td>163.00</td>\n",
       "      <td>...</td>\n",
       "      <td>34.43</td>\n",
       "      <td>0.54</td>\n",
       "      <td>1.71</td>\n",
       "      <td>97.09</td>\n",
       "      <td>1.30</td>\n",
       "      <td>0.01</td>\n",
       "      <td>1.57</td>\n",
       "      <td>0.94</td>\n",
       "      <td>0.15</td>\n",
       "      <td>1.08</td>\n",
       "    </tr>\n",
       "    <tr>\n",
       "      <th>max</th>\n",
       "      <td>3224.13</td>\n",
       "      <td>10.08</td>\n",
       "      <td>41.75</td>\n",
       "      <td>23758.93</td>\n",
       "      <td>-0.00</td>\n",
       "      <td>8375.79</td>\n",
       "      <td>5.44</td>\n",
       "      <td>85887904103269694177280.00</td>\n",
       "      <td>160765244797356015616.00</td>\n",
       "      <td>260.00</td>\n",
       "      <td>...</td>\n",
       "      <td>673.08</td>\n",
       "      <td>24.86</td>\n",
       "      <td>30.61</td>\n",
       "      <td>103.29</td>\n",
       "      <td>1.45</td>\n",
       "      <td>0.01</td>\n",
       "      <td>1.72</td>\n",
       "      <td>1.03</td>\n",
       "      <td>0.16</td>\n",
       "      <td>1.27</td>\n",
       "    </tr>\n",
       "  </tbody>\n",
       "</table>\n",
       "<p>8 rows × 125 columns</p>\n",
       "</div>"
      ],
      "text/plain": [
       "       Daily Return in USD  Log Price in USD  \\\n",
       "count              2249.00           2249.00   \n",
       "mean                  8.82              6.41   \n",
       "std                 251.46              2.47   \n",
       "min               -3052.46              0.72   \n",
       "25%                  -7.30              5.43   \n",
       "50%                   0.13              6.43   \n",
       "75%                  13.71              8.79   \n",
       "max                3224.13             10.08   \n",
       "\n",
       "       Volatility Daily Log Return in Percent 5D  market/price_usd_close  \\\n",
       "count                                    2249.00                 2249.00   \n",
       "mean                                        3.51                 3322.47   \n",
       "std                                         3.30                 4418.09   \n",
       "min                                         0.24                    2.05   \n",
       "25%                                         1.52                  227.37   \n",
       "50%                                         2.64                  621.83   \n",
       "75%                                         4.40                 6589.25   \n",
       "max                                        41.75                23758.93   \n",
       "\n",
       "       market/price_drawdown_relative  market/price_realized_usd  market/mvrv  \\\n",
       "count                         2249.00                    2249.00      2249.00   \n",
       "mean                            -0.54                    1974.41         1.69   \n",
       "std                              0.24                    2437.96         0.75   \n",
       "min                             -0.94                       4.78         0.40   \n",
       "25%                             -0.71                     254.97         1.18   \n",
       "50%                             -0.59                     353.69         1.60   \n",
       "75%                             -0.44                    4971.49         1.98   \n",
       "max                             -0.00                    8375.79         5.44   \n",
       "\n",
       "        mining/difficulty_latest    mining/hash_rate_mean  \\\n",
       "count                    2249.00                  2249.00   \n",
       "mean  14525612276244186923008.00  24459615249953652736.00   \n",
       "std   23935064865626189201408.00  40141281990894952448.00   \n",
       "min          4684588175054590.00         6399665203131.94   \n",
       "25%       3901337247460400128.00      9084533497378490.00   \n",
       "50%     767335669260638093312.00   1289104886357850112.00   \n",
       "75%   24251119882350098382848.00  39829559916680699904.00   \n",
       "max   85887904103269694177280.00 160765244797356015616.00   \n",
       "\n",
       "       blockchain/block_count  ...  NASDAQ Daily Change  VIX Daily Change  \\\n",
       "count                 2249.00  ...              2249.00           2249.00   \n",
       "mean                   152.04  ...                 4.49             -0.01   \n",
       "std                     18.89  ...                83.74              1.86   \n",
       "min                     89.00  ...              -970.29            -17.64   \n",
       "25%                    140.00  ...               -20.82             -0.72   \n",
       "50%                    151.00  ...                 5.60             -0.08   \n",
       "75%                    163.00  ...                34.43              0.54   \n",
       "max                    260.00  ...               673.08             24.86   \n",
       "\n",
       "       CBOE Skew Daily Change  Close USD Index  Close EUR/USD  Close JPY/USD  \\\n",
       "count                 2249.00          2249.00        2249.00        2249.00   \n",
       "mean                     0.03            90.71           1.20           0.01   \n",
       "std                      3.84             7.73           0.10           0.00   \n",
       "min                    -22.81            73.67           1.04           0.01   \n",
       "25%                     -1.68            81.73           1.12           0.01   \n",
       "50%                      0.00            93.96           1.17           0.01   \n",
       "75%                      1.71            97.09           1.30           0.01   \n",
       "max                     30.61           103.29           1.45           0.01   \n",
       "\n",
       "       Close GBP/USD  Close CAD/USD  Close SEK/USD  Close CHF/USD  \n",
       "count        2249.00        2249.00        2249.00        2249.00  \n",
       "mean            1.44           0.84           0.13           1.05  \n",
       "std             0.15           0.10           0.02           0.04  \n",
       "min             1.15           0.69           0.10           0.97  \n",
       "25%             1.30           0.76           0.11           1.01  \n",
       "50%             1.43           0.78           0.12           1.04  \n",
       "75%             1.57           0.94           0.15           1.08  \n",
       "max             1.72           1.03           0.16           1.27  \n",
       "\n",
       "[8 rows x 125 columns]"
      ]
     },
     "execution_count": 11,
     "metadata": {},
     "output_type": "execute_result"
    }
   ],
   "source": [
    "# Summary Statistics\n",
    "df_dataset1.describe()"
   ]
  },
  {
   "cell_type": "code",
   "execution_count": 12,
   "metadata": {
    "ExecuteTime": {
     "end_time": "2020-12-28T19:52:38.262368Z",
     "start_time": "2020-12-28T19:52:38.248179Z"
    }
   },
   "outputs": [
    {
     "data": {
      "text/html": [
       "<div>\n",
       "<style scoped>\n",
       "    .dataframe tbody tr th:only-of-type {\n",
       "        vertical-align: middle;\n",
       "    }\n",
       "\n",
       "    .dataframe tbody tr th {\n",
       "        vertical-align: top;\n",
       "    }\n",
       "\n",
       "    .dataframe thead th {\n",
       "        text-align: right;\n",
       "    }\n",
       "</style>\n",
       "<table border=\"1\" class=\"dataframe\">\n",
       "  <thead>\n",
       "    <tr style=\"text-align: right;\">\n",
       "      <th></th>\n",
       "      <th>Daily Return in USD</th>\n",
       "      <th>Log Price in USD</th>\n",
       "      <th>Volatility Daily Log Return in Percent 5D</th>\n",
       "      <th>market/price_usd_close</th>\n",
       "      <th>market/price_drawdown_relative</th>\n",
       "      <th>market/price_realized_usd</th>\n",
       "      <th>market/mvrv</th>\n",
       "      <th>mining/difficulty_latest</th>\n",
       "      <th>mining/hash_rate_mean</th>\n",
       "      <th>blockchain/block_count</th>\n",
       "      <th>...</th>\n",
       "      <th>NASDAQ Daily Change</th>\n",
       "      <th>VIX Daily Change</th>\n",
       "      <th>CBOE Skew Daily Change</th>\n",
       "      <th>Close USD Index</th>\n",
       "      <th>Close EUR/USD</th>\n",
       "      <th>Close JPY/USD</th>\n",
       "      <th>Close GBP/USD</th>\n",
       "      <th>Close CAD/USD</th>\n",
       "      <th>Close SEK/USD</th>\n",
       "      <th>Close CHF/USD</th>\n",
       "    </tr>\n",
       "    <tr>\n",
       "      <th>Date</th>\n",
       "      <th></th>\n",
       "      <th></th>\n",
       "      <th></th>\n",
       "      <th></th>\n",
       "      <th></th>\n",
       "      <th></th>\n",
       "      <th></th>\n",
       "      <th></th>\n",
       "      <th></th>\n",
       "      <th></th>\n",
       "      <th></th>\n",
       "      <th></th>\n",
       "      <th></th>\n",
       "      <th></th>\n",
       "      <th></th>\n",
       "      <th></th>\n",
       "      <th></th>\n",
       "      <th></th>\n",
       "      <th></th>\n",
       "      <th></th>\n",
       "      <th></th>\n",
       "    </tr>\n",
       "  </thead>\n",
       "  <tbody>\n",
       "    <tr>\n",
       "      <th>2020-12-17</th>\n",
       "      <td>1445.85</td>\n",
       "      <td>10.03</td>\n",
       "      <td>3.95</td>\n",
       "      <td>22790.81</td>\n",
       "      <td>-0.04</td>\n",
       "      <td>7935.71</td>\n",
       "      <td>2.84</td>\n",
       "      <td>80187763369133704478720.00</td>\n",
       "      <td>120924230791744995328.00</td>\n",
       "      <td>129.00</td>\n",
       "      <td>...</td>\n",
       "      <td>106.56</td>\n",
       "      <td>-0.57</td>\n",
       "      <td>5.84</td>\n",
       "      <td>89.82</td>\n",
       "      <td>1.22</td>\n",
       "      <td>0.01</td>\n",
       "      <td>1.35</td>\n",
       "      <td>0.78</td>\n",
       "      <td>0.12</td>\n",
       "      <td>1.13</td>\n",
       "    </tr>\n",
       "    <tr>\n",
       "      <th>2020-12-18</th>\n",
       "      <td>287.96</td>\n",
       "      <td>10.05</td>\n",
       "      <td>4.03</td>\n",
       "      <td>23078.76</td>\n",
       "      <td>-0.02</td>\n",
       "      <td>8072.93</td>\n",
       "      <td>2.83</td>\n",
       "      <td>80187763369133704478720.00</td>\n",
       "      <td>145575084110428995584.00</td>\n",
       "      <td>157.00</td>\n",
       "      <td>...</td>\n",
       "      <td>-9.11</td>\n",
       "      <td>-0.36</td>\n",
       "      <td>2.28</td>\n",
       "      <td>90.02</td>\n",
       "      <td>1.23</td>\n",
       "      <td>0.01</td>\n",
       "      <td>1.36</td>\n",
       "      <td>0.79</td>\n",
       "      <td>0.12</td>\n",
       "      <td>1.13</td>\n",
       "    </tr>\n",
       "    <tr>\n",
       "      <th>2020-12-21</th>\n",
       "      <td>-674.33</td>\n",
       "      <td>10.04</td>\n",
       "      <td>3.74</td>\n",
       "      <td>22875.46</td>\n",
       "      <td>-0.05</td>\n",
       "      <td>8205.79</td>\n",
       "      <td>2.83</td>\n",
       "      <td>80187763369133704478720.00</td>\n",
       "      <td>125467801265571004416.00</td>\n",
       "      <td>136.00</td>\n",
       "      <td>...</td>\n",
       "      <td>-13.12</td>\n",
       "      <td>3.59</td>\n",
       "      <td>-0.05</td>\n",
       "      <td>90.04</td>\n",
       "      <td>1.22</td>\n",
       "      <td>0.01</td>\n",
       "      <td>1.34</td>\n",
       "      <td>0.78</td>\n",
       "      <td>0.12</td>\n",
       "      <td>1.13</td>\n",
       "    </tr>\n",
       "    <tr>\n",
       "      <th>2020-12-22</th>\n",
       "      <td>883.48</td>\n",
       "      <td>10.08</td>\n",
       "      <td>2.89</td>\n",
       "      <td>23758.93</td>\n",
       "      <td>-0.02</td>\n",
       "      <td>8286.35</td>\n",
       "      <td>2.79</td>\n",
       "      <td>80187763369133704478720.00</td>\n",
       "      <td>132165952003620995072.00</td>\n",
       "      <td>143.00</td>\n",
       "      <td>...</td>\n",
       "      <td>65.40</td>\n",
       "      <td>-0.93</td>\n",
       "      <td>-0.49</td>\n",
       "      <td>90.65</td>\n",
       "      <td>1.22</td>\n",
       "      <td>0.01</td>\n",
       "      <td>1.34</td>\n",
       "      <td>0.78</td>\n",
       "      <td>0.12</td>\n",
       "      <td>1.13</td>\n",
       "    </tr>\n",
       "    <tr>\n",
       "      <th>2020-12-23</th>\n",
       "      <td>-479.38</td>\n",
       "      <td>10.06</td>\n",
       "      <td>3.13</td>\n",
       "      <td>23279.55</td>\n",
       "      <td>-0.04</td>\n",
       "      <td>8375.79</td>\n",
       "      <td>2.81</td>\n",
       "      <td>80187763369133704478720.00</td>\n",
       "      <td>146111617294112997376.00</td>\n",
       "      <td>154.00</td>\n",
       "      <td>...</td>\n",
       "      <td>-36.81</td>\n",
       "      <td>-0.92</td>\n",
       "      <td>-0.26</td>\n",
       "      <td>90.41</td>\n",
       "      <td>1.22</td>\n",
       "      <td>0.01</td>\n",
       "      <td>1.34</td>\n",
       "      <td>0.78</td>\n",
       "      <td>0.12</td>\n",
       "      <td>1.13</td>\n",
       "    </tr>\n",
       "  </tbody>\n",
       "</table>\n",
       "<p>5 rows × 125 columns</p>\n",
       "</div>"
      ],
      "text/plain": [
       "            Daily Return in USD  Log Price in USD  \\\n",
       "Date                                                \n",
       "2020-12-17              1445.85             10.03   \n",
       "2020-12-18               287.96             10.05   \n",
       "2020-12-21              -674.33             10.04   \n",
       "2020-12-22               883.48             10.08   \n",
       "2020-12-23              -479.38             10.06   \n",
       "\n",
       "            Volatility Daily Log Return in Percent 5D  market/price_usd_close  \\\n",
       "Date                                                                            \n",
       "2020-12-17                                       3.95                22790.81   \n",
       "2020-12-18                                       4.03                23078.76   \n",
       "2020-12-21                                       3.74                22875.46   \n",
       "2020-12-22                                       2.89                23758.93   \n",
       "2020-12-23                                       3.13                23279.55   \n",
       "\n",
       "            market/price_drawdown_relative  market/price_realized_usd  \\\n",
       "Date                                                                    \n",
       "2020-12-17                           -0.04                    7935.71   \n",
       "2020-12-18                           -0.02                    8072.93   \n",
       "2020-12-21                           -0.05                    8205.79   \n",
       "2020-12-22                           -0.02                    8286.35   \n",
       "2020-12-23                           -0.04                    8375.79   \n",
       "\n",
       "            market/mvrv   mining/difficulty_latest    mining/hash_rate_mean  \\\n",
       "Date                                                                          \n",
       "2020-12-17         2.84 80187763369133704478720.00 120924230791744995328.00   \n",
       "2020-12-18         2.83 80187763369133704478720.00 145575084110428995584.00   \n",
       "2020-12-21         2.83 80187763369133704478720.00 125467801265571004416.00   \n",
       "2020-12-22         2.79 80187763369133704478720.00 132165952003620995072.00   \n",
       "2020-12-23         2.81 80187763369133704478720.00 146111617294112997376.00   \n",
       "\n",
       "            blockchain/block_count  ...  NASDAQ Daily Change  \\\n",
       "Date                                ...                        \n",
       "2020-12-17                  129.00  ...               106.56   \n",
       "2020-12-18                  157.00  ...                -9.11   \n",
       "2020-12-21                  136.00  ...               -13.12   \n",
       "2020-12-22                  143.00  ...                65.40   \n",
       "2020-12-23                  154.00  ...               -36.81   \n",
       "\n",
       "            VIX Daily Change  CBOE Skew Daily Change  Close USD Index  \\\n",
       "Date                                                                    \n",
       "2020-12-17             -0.57                    5.84            89.82   \n",
       "2020-12-18             -0.36                    2.28            90.02   \n",
       "2020-12-21              3.59                   -0.05            90.04   \n",
       "2020-12-22             -0.93                   -0.49            90.65   \n",
       "2020-12-23             -0.92                   -0.26            90.41   \n",
       "\n",
       "            Close EUR/USD  Close JPY/USD  Close GBP/USD  Close CAD/USD  \\\n",
       "Date                                                                     \n",
       "2020-12-17           1.22           0.01           1.35           0.78   \n",
       "2020-12-18           1.23           0.01           1.36           0.79   \n",
       "2020-12-21           1.22           0.01           1.34           0.78   \n",
       "2020-12-22           1.22           0.01           1.34           0.78   \n",
       "2020-12-23           1.22           0.01           1.34           0.78   \n",
       "\n",
       "            Close SEK/USD  Close CHF/USD  \n",
       "Date                                      \n",
       "2020-12-17           0.12           1.13  \n",
       "2020-12-18           0.12           1.13  \n",
       "2020-12-21           0.12           1.13  \n",
       "2020-12-22           0.12           1.13  \n",
       "2020-12-23           0.12           1.13  \n",
       "\n",
       "[5 rows x 125 columns]"
      ]
     },
     "execution_count": 12,
     "metadata": {},
     "output_type": "execute_result"
    }
   ],
   "source": [
    "# Dataset Tail\n",
    "df_dataset1.tail()"
   ]
  },
  {
   "cell_type": "markdown",
   "metadata": {},
   "source": [
    "## Prediction Shift"
   ]
  },
  {
   "cell_type": "code",
   "execution_count": 13,
   "metadata": {
    "ExecuteTime": {
     "end_time": "2020-12-28T19:52:38.278098Z",
     "start_time": "2020-12-28T19:52:38.263138Z"
    }
   },
   "outputs": [
    {
     "data": {
      "text/html": [
       "<div>\n",
       "<style scoped>\n",
       "    .dataframe tbody tr th:only-of-type {\n",
       "        vertical-align: middle;\n",
       "    }\n",
       "\n",
       "    .dataframe tbody tr th {\n",
       "        vertical-align: top;\n",
       "    }\n",
       "\n",
       "    .dataframe thead th {\n",
       "        text-align: right;\n",
       "    }\n",
       "</style>\n",
       "<table border=\"1\" class=\"dataframe\">\n",
       "  <thead>\n",
       "    <tr style=\"text-align: right;\">\n",
       "      <th></th>\n",
       "      <th>Daily Return in USD</th>\n",
       "      <th>Log Price in USD</th>\n",
       "      <th>Volatility Daily Log Return in Percent 5D</th>\n",
       "      <th>market/price_usd_close</th>\n",
       "    </tr>\n",
       "    <tr>\n",
       "      <th>Date</th>\n",
       "      <th></th>\n",
       "      <th></th>\n",
       "      <th></th>\n",
       "      <th></th>\n",
       "    </tr>\n",
       "  </thead>\n",
       "  <tbody>\n",
       "    <tr>\n",
       "      <th>2011-08-17</th>\n",
       "      <td>0.03</td>\n",
       "      <td>2.40</td>\n",
       "      <td>3.60</td>\n",
       "      <td>10.99</td>\n",
       "    </tr>\n",
       "    <tr>\n",
       "      <th>2011-08-18</th>\n",
       "      <td>-0.15</td>\n",
       "      <td>2.38</td>\n",
       "      <td>3.29</td>\n",
       "      <td>10.85</td>\n",
       "    </tr>\n",
       "    <tr>\n",
       "      <th>2011-08-19</th>\n",
       "      <td>0.80</td>\n",
       "      <td>2.46</td>\n",
       "      <td>3.72</td>\n",
       "      <td>11.65</td>\n",
       "    </tr>\n",
       "    <tr>\n",
       "      <th>2011-08-22</th>\n",
       "      <td>-0.38</td>\n",
       "      <td>2.39</td>\n",
       "      <td>4.15</td>\n",
       "      <td>10.94</td>\n",
       "    </tr>\n",
       "    <tr>\n",
       "      <th>2011-08-23</th>\n",
       "      <td>-0.01</td>\n",
       "      <td>2.39</td>\n",
       "      <td>4.09</td>\n",
       "      <td>10.93</td>\n",
       "    </tr>\n",
       "    <tr>\n",
       "      <th>...</th>\n",
       "      <td>...</td>\n",
       "      <td>...</td>\n",
       "      <td>...</td>\n",
       "      <td>...</td>\n",
       "    </tr>\n",
       "    <tr>\n",
       "      <th>2020-12-17</th>\n",
       "      <td>1445.85</td>\n",
       "      <td>10.03</td>\n",
       "      <td>3.95</td>\n",
       "      <td>22790.81</td>\n",
       "    </tr>\n",
       "    <tr>\n",
       "      <th>2020-12-18</th>\n",
       "      <td>287.96</td>\n",
       "      <td>10.05</td>\n",
       "      <td>4.03</td>\n",
       "      <td>23078.76</td>\n",
       "    </tr>\n",
       "    <tr>\n",
       "      <th>2020-12-21</th>\n",
       "      <td>-674.33</td>\n",
       "      <td>10.04</td>\n",
       "      <td>3.74</td>\n",
       "      <td>22875.46</td>\n",
       "    </tr>\n",
       "    <tr>\n",
       "      <th>2020-12-22</th>\n",
       "      <td>883.48</td>\n",
       "      <td>10.08</td>\n",
       "      <td>2.89</td>\n",
       "      <td>23758.93</td>\n",
       "    </tr>\n",
       "    <tr>\n",
       "      <th>2020-12-23</th>\n",
       "      <td>-479.38</td>\n",
       "      <td>10.06</td>\n",
       "      <td>3.13</td>\n",
       "      <td>23279.55</td>\n",
       "    </tr>\n",
       "  </tbody>\n",
       "</table>\n",
       "<p>2249 rows × 4 columns</p>\n",
       "</div>"
      ],
      "text/plain": [
       "            Daily Return in USD  Log Price in USD  \\\n",
       "Date                                                \n",
       "2011-08-17                 0.03              2.40   \n",
       "2011-08-18                -0.15              2.38   \n",
       "2011-08-19                 0.80              2.46   \n",
       "2011-08-22                -0.38              2.39   \n",
       "2011-08-23                -0.01              2.39   \n",
       "...                         ...               ...   \n",
       "2020-12-17              1445.85             10.03   \n",
       "2020-12-18               287.96             10.05   \n",
       "2020-12-21              -674.33             10.04   \n",
       "2020-12-22               883.48             10.08   \n",
       "2020-12-23              -479.38             10.06   \n",
       "\n",
       "            Volatility Daily Log Return in Percent 5D  market/price_usd_close  \n",
       "Date                                                                           \n",
       "2011-08-17                                       3.60                   10.99  \n",
       "2011-08-18                                       3.29                   10.85  \n",
       "2011-08-19                                       3.72                   11.65  \n",
       "2011-08-22                                       4.15                   10.94  \n",
       "2011-08-23                                       4.09                   10.93  \n",
       "...                                               ...                     ...  \n",
       "2020-12-17                                       3.95                22790.81  \n",
       "2020-12-18                                       4.03                23078.76  \n",
       "2020-12-21                                       3.74                22875.46  \n",
       "2020-12-22                                       2.89                23758.93  \n",
       "2020-12-23                                       3.13                23279.55  \n",
       "\n",
       "[2249 rows x 4 columns]"
      ]
     },
     "execution_count": 13,
     "metadata": {},
     "output_type": "execute_result"
    }
   ],
   "source": [
    "df_dataset1[['Daily Return in USD', 'Log Price in USD',\n",
    "       'Volatility Daily Log Return in Percent 5D', 'market/price_usd_close']]"
   ]
  },
  {
   "cell_type": "code",
   "execution_count": 14,
   "metadata": {
    "ExecuteTime": {
     "end_time": "2020-12-28T19:52:38.310048Z",
     "start_time": "2020-12-28T19:52:38.279100Z"
    }
   },
   "outputs": [],
   "source": [
    "# Shift of Target Column by 1 Day\n",
    "df_dataset1['Daily Return in USD_ohneshift'] = df_dataset1['Daily Return in USD'] \n",
    "df_dataset1[\"percentage_daily_return_bef_shift\"] = df_dataset1[\"Daily Return in USD_ohneshift\"]/df_dataset1[\"market/price_usd_close\"]"
   ]
  },
  {
   "cell_type": "code",
   "execution_count": 15,
   "metadata": {
    "ExecuteTime": {
     "end_time": "2020-12-28T19:52:38.325970Z",
     "start_time": "2020-12-28T19:52:38.312009Z"
    }
   },
   "outputs": [],
   "source": [
    "df_dataset1 = df_dataset1.sort_index(ascending = False)"
   ]
  },
  {
   "cell_type": "code",
   "execution_count": 16,
   "metadata": {
    "ExecuteTime": {
     "end_time": "2020-12-28T19:52:38.342021Z",
     "start_time": "2020-12-28T19:52:38.326967Z"
    }
   },
   "outputs": [],
   "source": [
    "# Shift of Target Column by 1 Day\n",
    "df_dataset1['Daily Return in USD'] = df_dataset1['Daily Return in USD'].shift(1) "
   ]
  },
  {
   "cell_type": "code",
   "execution_count": 17,
   "metadata": {
    "ExecuteTime": {
     "end_time": "2020-12-28T19:52:38.356886Z",
     "start_time": "2020-12-28T19:52:38.342930Z"
    }
   },
   "outputs": [
    {
     "data": {
      "text/html": [
       "<div>\n",
       "<style scoped>\n",
       "    .dataframe tbody tr th:only-of-type {\n",
       "        vertical-align: middle;\n",
       "    }\n",
       "\n",
       "    .dataframe tbody tr th {\n",
       "        vertical-align: top;\n",
       "    }\n",
       "\n",
       "    .dataframe thead th {\n",
       "        text-align: right;\n",
       "    }\n",
       "</style>\n",
       "<table border=\"1\" class=\"dataframe\">\n",
       "  <thead>\n",
       "    <tr style=\"text-align: right;\">\n",
       "      <th></th>\n",
       "      <th>Daily Return in USD</th>\n",
       "      <th>addresses/active_count</th>\n",
       "      <th>Log Price in USD</th>\n",
       "      <th>Volatility Daily Log Return in Percent 5D</th>\n",
       "      <th>market/price_usd_close</th>\n",
       "    </tr>\n",
       "    <tr>\n",
       "      <th>Date</th>\n",
       "      <th></th>\n",
       "      <th></th>\n",
       "      <th></th>\n",
       "      <th></th>\n",
       "      <th></th>\n",
       "    </tr>\n",
       "  </thead>\n",
       "  <tbody>\n",
       "    <tr>\n",
       "      <th>2020-12-23</th>\n",
       "      <td>nan</td>\n",
       "      <td>1131834.00</td>\n",
       "      <td>10.06</td>\n",
       "      <td>3.13</td>\n",
       "      <td>23279.55</td>\n",
       "    </tr>\n",
       "    <tr>\n",
       "      <th>2020-12-22</th>\n",
       "      <td>-479.38</td>\n",
       "      <td>1099356.00</td>\n",
       "      <td>10.08</td>\n",
       "      <td>2.89</td>\n",
       "      <td>23758.93</td>\n",
       "    </tr>\n",
       "    <tr>\n",
       "      <th>2020-12-21</th>\n",
       "      <td>883.48</td>\n",
       "      <td>1125440.00</td>\n",
       "      <td>10.04</td>\n",
       "      <td>3.74</td>\n",
       "      <td>22875.46</td>\n",
       "    </tr>\n",
       "    <tr>\n",
       "      <th>2020-12-18</th>\n",
       "      <td>-674.33</td>\n",
       "      <td>1193436.00</td>\n",
       "      <td>10.05</td>\n",
       "      <td>4.03</td>\n",
       "      <td>23078.76</td>\n",
       "    </tr>\n",
       "    <tr>\n",
       "      <th>2020-12-17</th>\n",
       "      <td>287.96</td>\n",
       "      <td>1068910.00</td>\n",
       "      <td>10.03</td>\n",
       "      <td>3.95</td>\n",
       "      <td>22790.81</td>\n",
       "    </tr>\n",
       "    <tr>\n",
       "      <th>...</th>\n",
       "      <td>...</td>\n",
       "      <td>...</td>\n",
       "      <td>...</td>\n",
       "      <td>...</td>\n",
       "      <td>...</td>\n",
       "    </tr>\n",
       "    <tr>\n",
       "      <th>2011-08-23</th>\n",
       "      <td>-0.08</td>\n",
       "      <td>22345.00</td>\n",
       "      <td>2.39</td>\n",
       "      <td>4.09</td>\n",
       "      <td>10.93</td>\n",
       "    </tr>\n",
       "    <tr>\n",
       "      <th>2011-08-22</th>\n",
       "      <td>-0.01</td>\n",
       "      <td>25025.00</td>\n",
       "      <td>2.39</td>\n",
       "      <td>4.15</td>\n",
       "      <td>10.94</td>\n",
       "    </tr>\n",
       "    <tr>\n",
       "      <th>2011-08-19</th>\n",
       "      <td>-0.38</td>\n",
       "      <td>21840.00</td>\n",
       "      <td>2.46</td>\n",
       "      <td>3.72</td>\n",
       "      <td>11.65</td>\n",
       "    </tr>\n",
       "    <tr>\n",
       "      <th>2011-08-18</th>\n",
       "      <td>0.80</td>\n",
       "      <td>20313.00</td>\n",
       "      <td>2.38</td>\n",
       "      <td>3.29</td>\n",
       "      <td>10.85</td>\n",
       "    </tr>\n",
       "    <tr>\n",
       "      <th>2011-08-17</th>\n",
       "      <td>-0.15</td>\n",
       "      <td>19988.00</td>\n",
       "      <td>2.40</td>\n",
       "      <td>3.60</td>\n",
       "      <td>10.99</td>\n",
       "    </tr>\n",
       "  </tbody>\n",
       "</table>\n",
       "<p>2249 rows × 5 columns</p>\n",
       "</div>"
      ],
      "text/plain": [
       "            Daily Return in USD  addresses/active_count  Log Price in USD  \\\n",
       "Date                                                                        \n",
       "2020-12-23                  nan              1131834.00             10.06   \n",
       "2020-12-22              -479.38              1099356.00             10.08   \n",
       "2020-12-21               883.48              1125440.00             10.04   \n",
       "2020-12-18              -674.33              1193436.00             10.05   \n",
       "2020-12-17               287.96              1068910.00             10.03   \n",
       "...                         ...                     ...               ...   \n",
       "2011-08-23                -0.08                22345.00              2.39   \n",
       "2011-08-22                -0.01                25025.00              2.39   \n",
       "2011-08-19                -0.38                21840.00              2.46   \n",
       "2011-08-18                 0.80                20313.00              2.38   \n",
       "2011-08-17                -0.15                19988.00              2.40   \n",
       "\n",
       "            Volatility Daily Log Return in Percent 5D  market/price_usd_close  \n",
       "Date                                                                           \n",
       "2020-12-23                                       3.13                23279.55  \n",
       "2020-12-22                                       2.89                23758.93  \n",
       "2020-12-21                                       3.74                22875.46  \n",
       "2020-12-18                                       4.03                23078.76  \n",
       "2020-12-17                                       3.95                22790.81  \n",
       "...                                               ...                     ...  \n",
       "2011-08-23                                       4.09                   10.93  \n",
       "2011-08-22                                       4.15                   10.94  \n",
       "2011-08-19                                       3.72                   11.65  \n",
       "2011-08-18                                       3.29                   10.85  \n",
       "2011-08-17                                       3.60                   10.99  \n",
       "\n",
       "[2249 rows x 5 columns]"
      ]
     },
     "execution_count": 17,
     "metadata": {},
     "output_type": "execute_result"
    }
   ],
   "source": [
    "df_dataset1[['Daily Return in USD', 'addresses/active_count', 'Log Price in USD',\n",
    "       'Volatility Daily Log Return in Percent 5D', 'market/price_usd_close']]"
   ]
  },
  {
   "cell_type": "code",
   "execution_count": 18,
   "metadata": {
    "ExecuteTime": {
     "end_time": "2020-12-28T19:52:38.371846Z",
     "start_time": "2020-12-28T19:52:38.357885Z"
    }
   },
   "outputs": [],
   "source": [
    "df_dataset1['market/price_usd_close_cummax']=df_dataset1['market/price_usd_close'].cummax()\n",
    "df_dataset1['price_usd_close_percent_of_maxtilnow'] = df_dataset1['market/price_usd_close']/df_dataset1['market/price_usd_close_cummax']\n"
   ]
  },
  {
   "cell_type": "code",
   "execution_count": null,
   "metadata": {},
   "outputs": [],
   "source": []
  },
  {
   "cell_type": "code",
   "execution_count": 19,
   "metadata": {
    "ExecuteTime": {
     "end_time": "2020-12-28T19:52:38.387804Z",
     "start_time": "2020-12-28T19:52:38.372844Z"
    }
   },
   "outputs": [
    {
     "data": {
      "text/html": [
       "<div>\n",
       "<style scoped>\n",
       "    .dataframe tbody tr th:only-of-type {\n",
       "        vertical-align: middle;\n",
       "    }\n",
       "\n",
       "    .dataframe tbody tr th {\n",
       "        vertical-align: top;\n",
       "    }\n",
       "\n",
       "    .dataframe thead th {\n",
       "        text-align: right;\n",
       "    }\n",
       "</style>\n",
       "<table border=\"1\" class=\"dataframe\">\n",
       "  <thead>\n",
       "    <tr style=\"text-align: right;\">\n",
       "      <th></th>\n",
       "      <th>Log Price in USD</th>\n",
       "      <th>Volatility Daily Log Return in Percent 5D</th>\n",
       "      <th>market/price_usd_close</th>\n",
       "      <th>percentage_daily_return_bef_shift</th>\n",
       "    </tr>\n",
       "    <tr>\n",
       "      <th>Date</th>\n",
       "      <th></th>\n",
       "      <th></th>\n",
       "      <th></th>\n",
       "      <th></th>\n",
       "    </tr>\n",
       "  </thead>\n",
       "  <tbody>\n",
       "    <tr>\n",
       "      <th>2011-08-23</th>\n",
       "      <td>2.39</td>\n",
       "      <td>4.09</td>\n",
       "      <td>10.93</td>\n",
       "      <td>-0.00</td>\n",
       "    </tr>\n",
       "    <tr>\n",
       "      <th>2011-08-22</th>\n",
       "      <td>2.39</td>\n",
       "      <td>4.15</td>\n",
       "      <td>10.94</td>\n",
       "      <td>-0.03</td>\n",
       "    </tr>\n",
       "    <tr>\n",
       "      <th>2011-08-19</th>\n",
       "      <td>2.46</td>\n",
       "      <td>3.72</td>\n",
       "      <td>11.65</td>\n",
       "      <td>0.07</td>\n",
       "    </tr>\n",
       "    <tr>\n",
       "      <th>2011-08-18</th>\n",
       "      <td>2.38</td>\n",
       "      <td>3.29</td>\n",
       "      <td>10.85</td>\n",
       "      <td>-0.01</td>\n",
       "    </tr>\n",
       "    <tr>\n",
       "      <th>2011-08-17</th>\n",
       "      <td>2.40</td>\n",
       "      <td>3.60</td>\n",
       "      <td>10.99</td>\n",
       "      <td>0.00</td>\n",
       "    </tr>\n",
       "  </tbody>\n",
       "</table>\n",
       "</div>"
      ],
      "text/plain": [
       "            Log Price in USD  Volatility Daily Log Return in Percent 5D  \\\n",
       "Date                                                                      \n",
       "2011-08-23              2.39                                       4.09   \n",
       "2011-08-22              2.39                                       4.15   \n",
       "2011-08-19              2.46                                       3.72   \n",
       "2011-08-18              2.38                                       3.29   \n",
       "2011-08-17              2.40                                       3.60   \n",
       "\n",
       "            market/price_usd_close  percentage_daily_return_bef_shift  \n",
       "Date                                                                   \n",
       "2011-08-23                   10.93                              -0.00  \n",
       "2011-08-22                   10.94                              -0.03  \n",
       "2011-08-19                   11.65                               0.07  \n",
       "2011-08-18                   10.85                              -0.01  \n",
       "2011-08-17                   10.99                               0.00  "
      ]
     },
     "execution_count": 19,
     "metadata": {},
     "output_type": "execute_result"
    }
   ],
   "source": [
    "# Check Shift\n",
    "df_dataset1[[ 'Log Price in USD',\n",
    "       'Volatility Daily Log Return in Percent 5D', 'market/price_usd_close',\"percentage_daily_return_bef_shift\"]].tail()"
   ]
  },
  {
   "cell_type": "code",
   "execution_count": 20,
   "metadata": {
    "ExecuteTime": {
     "end_time": "2020-12-28T19:52:38.403762Z",
     "start_time": "2020-12-28T19:52:38.388801Z"
    }
   },
   "outputs": [
    {
     "data": {
      "text/plain": [
       "Daily Return in USD                          1\n",
       "Log Price in USD                             0\n",
       "Volatility Daily Log Return in Percent 5D    0\n",
       "market/price_usd_close                       0\n",
       "market/price_drawdown_relative               0\n",
       "                                            ..\n",
       "Close CHF/USD                                0\n",
       "Daily Return in USD_ohneshift                0\n",
       "percentage_daily_return_bef_shift            0\n",
       "market/price_usd_close_cummax                0\n",
       "price_usd_close_percent_of_maxtilnow         0\n",
       "Length: 129, dtype: int64"
      ]
     },
     "execution_count": 20,
     "metadata": {},
     "output_type": "execute_result"
    }
   ],
   "source": [
    "# Check Empty Cells\n",
    "df_dataset1.isnull().sum()"
   ]
  },
  {
   "cell_type": "code",
   "execution_count": 21,
   "metadata": {
    "ExecuteTime": {
     "end_time": "2020-12-28T19:52:38.434763Z",
     "start_time": "2020-12-28T19:52:38.404759Z"
    }
   },
   "outputs": [
    {
     "data": {
      "text/html": [
       "<div>\n",
       "<style scoped>\n",
       "    .dataframe tbody tr th:only-of-type {\n",
       "        vertical-align: middle;\n",
       "    }\n",
       "\n",
       "    .dataframe tbody tr th {\n",
       "        vertical-align: top;\n",
       "    }\n",
       "\n",
       "    .dataframe thead th {\n",
       "        text-align: right;\n",
       "    }\n",
       "</style>\n",
       "<table border=\"1\" class=\"dataframe\">\n",
       "  <thead>\n",
       "    <tr style=\"text-align: right;\">\n",
       "      <th></th>\n",
       "      <th>Daily Return in USD</th>\n",
       "      <th>Log Price in USD</th>\n",
       "      <th>Volatility Daily Log Return in Percent 5D</th>\n",
       "      <th>market/price_usd_close</th>\n",
       "      <th>market/price_drawdown_relative</th>\n",
       "      <th>market/price_realized_usd</th>\n",
       "      <th>market/mvrv</th>\n",
       "      <th>mining/difficulty_latest</th>\n",
       "      <th>mining/hash_rate_mean</th>\n",
       "      <th>blockchain/block_count</th>\n",
       "      <th>...</th>\n",
       "      <th>Close EUR/USD</th>\n",
       "      <th>Close JPY/USD</th>\n",
       "      <th>Close GBP/USD</th>\n",
       "      <th>Close CAD/USD</th>\n",
       "      <th>Close SEK/USD</th>\n",
       "      <th>Close CHF/USD</th>\n",
       "      <th>Daily Return in USD_ohneshift</th>\n",
       "      <th>percentage_daily_return_bef_shift</th>\n",
       "      <th>market/price_usd_close_cummax</th>\n",
       "      <th>price_usd_close_percent_of_maxtilnow</th>\n",
       "    </tr>\n",
       "    <tr>\n",
       "      <th>Date</th>\n",
       "      <th></th>\n",
       "      <th></th>\n",
       "      <th></th>\n",
       "      <th></th>\n",
       "      <th></th>\n",
       "      <th></th>\n",
       "      <th></th>\n",
       "      <th></th>\n",
       "      <th></th>\n",
       "      <th></th>\n",
       "      <th></th>\n",
       "      <th></th>\n",
       "      <th></th>\n",
       "      <th></th>\n",
       "      <th></th>\n",
       "      <th></th>\n",
       "      <th></th>\n",
       "      <th></th>\n",
       "      <th></th>\n",
       "      <th></th>\n",
       "      <th></th>\n",
       "    </tr>\n",
       "  </thead>\n",
       "  <tbody>\n",
       "    <tr>\n",
       "      <th>2020-12-23</th>\n",
       "      <td>True</td>\n",
       "      <td>False</td>\n",
       "      <td>False</td>\n",
       "      <td>False</td>\n",
       "      <td>False</td>\n",
       "      <td>False</td>\n",
       "      <td>False</td>\n",
       "      <td>False</td>\n",
       "      <td>False</td>\n",
       "      <td>False</td>\n",
       "      <td>...</td>\n",
       "      <td>False</td>\n",
       "      <td>False</td>\n",
       "      <td>False</td>\n",
       "      <td>False</td>\n",
       "      <td>False</td>\n",
       "      <td>False</td>\n",
       "      <td>False</td>\n",
       "      <td>False</td>\n",
       "      <td>False</td>\n",
       "      <td>False</td>\n",
       "    </tr>\n",
       "    <tr>\n",
       "      <th>2020-12-22</th>\n",
       "      <td>False</td>\n",
       "      <td>False</td>\n",
       "      <td>False</td>\n",
       "      <td>False</td>\n",
       "      <td>False</td>\n",
       "      <td>False</td>\n",
       "      <td>False</td>\n",
       "      <td>False</td>\n",
       "      <td>False</td>\n",
       "      <td>False</td>\n",
       "      <td>...</td>\n",
       "      <td>False</td>\n",
       "      <td>False</td>\n",
       "      <td>False</td>\n",
       "      <td>False</td>\n",
       "      <td>False</td>\n",
       "      <td>False</td>\n",
       "      <td>False</td>\n",
       "      <td>False</td>\n",
       "      <td>False</td>\n",
       "      <td>False</td>\n",
       "    </tr>\n",
       "    <tr>\n",
       "      <th>2020-12-21</th>\n",
       "      <td>False</td>\n",
       "      <td>False</td>\n",
       "      <td>False</td>\n",
       "      <td>False</td>\n",
       "      <td>False</td>\n",
       "      <td>False</td>\n",
       "      <td>False</td>\n",
       "      <td>False</td>\n",
       "      <td>False</td>\n",
       "      <td>False</td>\n",
       "      <td>...</td>\n",
       "      <td>False</td>\n",
       "      <td>False</td>\n",
       "      <td>False</td>\n",
       "      <td>False</td>\n",
       "      <td>False</td>\n",
       "      <td>False</td>\n",
       "      <td>False</td>\n",
       "      <td>False</td>\n",
       "      <td>False</td>\n",
       "      <td>False</td>\n",
       "    </tr>\n",
       "    <tr>\n",
       "      <th>2020-12-18</th>\n",
       "      <td>False</td>\n",
       "      <td>False</td>\n",
       "      <td>False</td>\n",
       "      <td>False</td>\n",
       "      <td>False</td>\n",
       "      <td>False</td>\n",
       "      <td>False</td>\n",
       "      <td>False</td>\n",
       "      <td>False</td>\n",
       "      <td>False</td>\n",
       "      <td>...</td>\n",
       "      <td>False</td>\n",
       "      <td>False</td>\n",
       "      <td>False</td>\n",
       "      <td>False</td>\n",
       "      <td>False</td>\n",
       "      <td>False</td>\n",
       "      <td>False</td>\n",
       "      <td>False</td>\n",
       "      <td>False</td>\n",
       "      <td>False</td>\n",
       "    </tr>\n",
       "    <tr>\n",
       "      <th>2020-12-17</th>\n",
       "      <td>False</td>\n",
       "      <td>False</td>\n",
       "      <td>False</td>\n",
       "      <td>False</td>\n",
       "      <td>False</td>\n",
       "      <td>False</td>\n",
       "      <td>False</td>\n",
       "      <td>False</td>\n",
       "      <td>False</td>\n",
       "      <td>False</td>\n",
       "      <td>...</td>\n",
       "      <td>False</td>\n",
       "      <td>False</td>\n",
       "      <td>False</td>\n",
       "      <td>False</td>\n",
       "      <td>False</td>\n",
       "      <td>False</td>\n",
       "      <td>False</td>\n",
       "      <td>False</td>\n",
       "      <td>False</td>\n",
       "      <td>False</td>\n",
       "    </tr>\n",
       "    <tr>\n",
       "      <th>...</th>\n",
       "      <td>...</td>\n",
       "      <td>...</td>\n",
       "      <td>...</td>\n",
       "      <td>...</td>\n",
       "      <td>...</td>\n",
       "      <td>...</td>\n",
       "      <td>...</td>\n",
       "      <td>...</td>\n",
       "      <td>...</td>\n",
       "      <td>...</td>\n",
       "      <td>...</td>\n",
       "      <td>...</td>\n",
       "      <td>...</td>\n",
       "      <td>...</td>\n",
       "      <td>...</td>\n",
       "      <td>...</td>\n",
       "      <td>...</td>\n",
       "      <td>...</td>\n",
       "      <td>...</td>\n",
       "      <td>...</td>\n",
       "      <td>...</td>\n",
       "    </tr>\n",
       "    <tr>\n",
       "      <th>2011-08-23</th>\n",
       "      <td>False</td>\n",
       "      <td>False</td>\n",
       "      <td>False</td>\n",
       "      <td>False</td>\n",
       "      <td>False</td>\n",
       "      <td>False</td>\n",
       "      <td>False</td>\n",
       "      <td>False</td>\n",
       "      <td>False</td>\n",
       "      <td>False</td>\n",
       "      <td>...</td>\n",
       "      <td>False</td>\n",
       "      <td>False</td>\n",
       "      <td>False</td>\n",
       "      <td>False</td>\n",
       "      <td>False</td>\n",
       "      <td>False</td>\n",
       "      <td>False</td>\n",
       "      <td>False</td>\n",
       "      <td>False</td>\n",
       "      <td>False</td>\n",
       "    </tr>\n",
       "    <tr>\n",
       "      <th>2011-08-22</th>\n",
       "      <td>False</td>\n",
       "      <td>False</td>\n",
       "      <td>False</td>\n",
       "      <td>False</td>\n",
       "      <td>False</td>\n",
       "      <td>False</td>\n",
       "      <td>False</td>\n",
       "      <td>False</td>\n",
       "      <td>False</td>\n",
       "      <td>False</td>\n",
       "      <td>...</td>\n",
       "      <td>False</td>\n",
       "      <td>False</td>\n",
       "      <td>False</td>\n",
       "      <td>False</td>\n",
       "      <td>False</td>\n",
       "      <td>False</td>\n",
       "      <td>False</td>\n",
       "      <td>False</td>\n",
       "      <td>False</td>\n",
       "      <td>False</td>\n",
       "    </tr>\n",
       "    <tr>\n",
       "      <th>2011-08-19</th>\n",
       "      <td>False</td>\n",
       "      <td>False</td>\n",
       "      <td>False</td>\n",
       "      <td>False</td>\n",
       "      <td>False</td>\n",
       "      <td>False</td>\n",
       "      <td>False</td>\n",
       "      <td>False</td>\n",
       "      <td>False</td>\n",
       "      <td>False</td>\n",
       "      <td>...</td>\n",
       "      <td>False</td>\n",
       "      <td>False</td>\n",
       "      <td>False</td>\n",
       "      <td>False</td>\n",
       "      <td>False</td>\n",
       "      <td>False</td>\n",
       "      <td>False</td>\n",
       "      <td>False</td>\n",
       "      <td>False</td>\n",
       "      <td>False</td>\n",
       "    </tr>\n",
       "    <tr>\n",
       "      <th>2011-08-18</th>\n",
       "      <td>False</td>\n",
       "      <td>False</td>\n",
       "      <td>False</td>\n",
       "      <td>False</td>\n",
       "      <td>False</td>\n",
       "      <td>False</td>\n",
       "      <td>False</td>\n",
       "      <td>False</td>\n",
       "      <td>False</td>\n",
       "      <td>False</td>\n",
       "      <td>...</td>\n",
       "      <td>False</td>\n",
       "      <td>False</td>\n",
       "      <td>False</td>\n",
       "      <td>False</td>\n",
       "      <td>False</td>\n",
       "      <td>False</td>\n",
       "      <td>False</td>\n",
       "      <td>False</td>\n",
       "      <td>False</td>\n",
       "      <td>False</td>\n",
       "    </tr>\n",
       "    <tr>\n",
       "      <th>2011-08-17</th>\n",
       "      <td>False</td>\n",
       "      <td>False</td>\n",
       "      <td>False</td>\n",
       "      <td>False</td>\n",
       "      <td>False</td>\n",
       "      <td>False</td>\n",
       "      <td>False</td>\n",
       "      <td>False</td>\n",
       "      <td>False</td>\n",
       "      <td>False</td>\n",
       "      <td>...</td>\n",
       "      <td>False</td>\n",
       "      <td>False</td>\n",
       "      <td>False</td>\n",
       "      <td>False</td>\n",
       "      <td>False</td>\n",
       "      <td>False</td>\n",
       "      <td>False</td>\n",
       "      <td>False</td>\n",
       "      <td>False</td>\n",
       "      <td>False</td>\n",
       "    </tr>\n",
       "  </tbody>\n",
       "</table>\n",
       "<p>2249 rows × 129 columns</p>\n",
       "</div>"
      ],
      "text/plain": [
       "            Daily Return in USD  Log Price in USD  \\\n",
       "Date                                                \n",
       "2020-12-23                 True             False   \n",
       "2020-12-22                False             False   \n",
       "2020-12-21                False             False   \n",
       "2020-12-18                False             False   \n",
       "2020-12-17                False             False   \n",
       "...                         ...               ...   \n",
       "2011-08-23                False             False   \n",
       "2011-08-22                False             False   \n",
       "2011-08-19                False             False   \n",
       "2011-08-18                False             False   \n",
       "2011-08-17                False             False   \n",
       "\n",
       "            Volatility Daily Log Return in Percent 5D  market/price_usd_close  \\\n",
       "Date                                                                            \n",
       "2020-12-23                                      False                   False   \n",
       "2020-12-22                                      False                   False   \n",
       "2020-12-21                                      False                   False   \n",
       "2020-12-18                                      False                   False   \n",
       "2020-12-17                                      False                   False   \n",
       "...                                               ...                     ...   \n",
       "2011-08-23                                      False                   False   \n",
       "2011-08-22                                      False                   False   \n",
       "2011-08-19                                      False                   False   \n",
       "2011-08-18                                      False                   False   \n",
       "2011-08-17                                      False                   False   \n",
       "\n",
       "            market/price_drawdown_relative  market/price_realized_usd  \\\n",
       "Date                                                                    \n",
       "2020-12-23                           False                      False   \n",
       "2020-12-22                           False                      False   \n",
       "2020-12-21                           False                      False   \n",
       "2020-12-18                           False                      False   \n",
       "2020-12-17                           False                      False   \n",
       "...                                    ...                        ...   \n",
       "2011-08-23                           False                      False   \n",
       "2011-08-22                           False                      False   \n",
       "2011-08-19                           False                      False   \n",
       "2011-08-18                           False                      False   \n",
       "2011-08-17                           False                      False   \n",
       "\n",
       "            market/mvrv  mining/difficulty_latest  mining/hash_rate_mean  \\\n",
       "Date                                                                       \n",
       "2020-12-23        False                     False                  False   \n",
       "2020-12-22        False                     False                  False   \n",
       "2020-12-21        False                     False                  False   \n",
       "2020-12-18        False                     False                  False   \n",
       "2020-12-17        False                     False                  False   \n",
       "...                 ...                       ...                    ...   \n",
       "2011-08-23        False                     False                  False   \n",
       "2011-08-22        False                     False                  False   \n",
       "2011-08-19        False                     False                  False   \n",
       "2011-08-18        False                     False                  False   \n",
       "2011-08-17        False                     False                  False   \n",
       "\n",
       "            blockchain/block_count  ...  Close EUR/USD  Close JPY/USD  \\\n",
       "Date                                ...                                 \n",
       "2020-12-23                   False  ...          False          False   \n",
       "2020-12-22                   False  ...          False          False   \n",
       "2020-12-21                   False  ...          False          False   \n",
       "2020-12-18                   False  ...          False          False   \n",
       "2020-12-17                   False  ...          False          False   \n",
       "...                            ...  ...            ...            ...   \n",
       "2011-08-23                   False  ...          False          False   \n",
       "2011-08-22                   False  ...          False          False   \n",
       "2011-08-19                   False  ...          False          False   \n",
       "2011-08-18                   False  ...          False          False   \n",
       "2011-08-17                   False  ...          False          False   \n",
       "\n",
       "            Close GBP/USD  Close CAD/USD  Close SEK/USD  Close CHF/USD  \\\n",
       "Date                                                                     \n",
       "2020-12-23          False          False          False          False   \n",
       "2020-12-22          False          False          False          False   \n",
       "2020-12-21          False          False          False          False   \n",
       "2020-12-18          False          False          False          False   \n",
       "2020-12-17          False          False          False          False   \n",
       "...                   ...            ...            ...            ...   \n",
       "2011-08-23          False          False          False          False   \n",
       "2011-08-22          False          False          False          False   \n",
       "2011-08-19          False          False          False          False   \n",
       "2011-08-18          False          False          False          False   \n",
       "2011-08-17          False          False          False          False   \n",
       "\n",
       "            Daily Return in USD_ohneshift  percentage_daily_return_bef_shift  \\\n",
       "Date                                                                           \n",
       "2020-12-23                          False                              False   \n",
       "2020-12-22                          False                              False   \n",
       "2020-12-21                          False                              False   \n",
       "2020-12-18                          False                              False   \n",
       "2020-12-17                          False                              False   \n",
       "...                                   ...                                ...   \n",
       "2011-08-23                          False                              False   \n",
       "2011-08-22                          False                              False   \n",
       "2011-08-19                          False                              False   \n",
       "2011-08-18                          False                              False   \n",
       "2011-08-17                          False                              False   \n",
       "\n",
       "            market/price_usd_close_cummax  \\\n",
       "Date                                        \n",
       "2020-12-23                          False   \n",
       "2020-12-22                          False   \n",
       "2020-12-21                          False   \n",
       "2020-12-18                          False   \n",
       "2020-12-17                          False   \n",
       "...                                   ...   \n",
       "2011-08-23                          False   \n",
       "2011-08-22                          False   \n",
       "2011-08-19                          False   \n",
       "2011-08-18                          False   \n",
       "2011-08-17                          False   \n",
       "\n",
       "            price_usd_close_percent_of_maxtilnow  \n",
       "Date                                              \n",
       "2020-12-23                                 False  \n",
       "2020-12-22                                 False  \n",
       "2020-12-21                                 False  \n",
       "2020-12-18                                 False  \n",
       "2020-12-17                                 False  \n",
       "...                                          ...  \n",
       "2011-08-23                                 False  \n",
       "2011-08-22                                 False  \n",
       "2011-08-19                                 False  \n",
       "2011-08-18                                 False  \n",
       "2011-08-17                                 False  \n",
       "\n",
       "[2249 rows x 129 columns]"
      ]
     },
     "execution_count": 21,
     "metadata": {},
     "output_type": "execute_result"
    }
   ],
   "source": [
    "# daily return: von gestern auf heute die preisveränderung deswegen shift später\n",
    "df_dataset1.isnull()"
   ]
  },
  {
   "cell_type": "code",
   "execution_count": 22,
   "metadata": {
    "ExecuteTime": {
     "end_time": "2020-12-28T19:52:38.450636Z",
     "start_time": "2020-12-28T19:52:38.435676Z"
    }
   },
   "outputs": [],
   "source": [
    "# Delete Empty Row\n",
    "df_dataset1 = df_dataset1.dropna()"
   ]
  },
  {
   "cell_type": "code",
   "execution_count": 23,
   "metadata": {
    "ExecuteTime": {
     "end_time": "2020-12-28T19:52:38.466646Z",
     "start_time": "2020-12-28T19:52:38.455958Z"
    }
   },
   "outputs": [
    {
     "data": {
      "text/plain": [
       "Daily Return in USD                          0\n",
       "Log Price in USD                             0\n",
       "Volatility Daily Log Return in Percent 5D    0\n",
       "market/price_usd_close                       0\n",
       "market/price_drawdown_relative               0\n",
       "                                            ..\n",
       "Close CHF/USD                                0\n",
       "Daily Return in USD_ohneshift                0\n",
       "percentage_daily_return_bef_shift            0\n",
       "market/price_usd_close_cummax                0\n",
       "price_usd_close_percent_of_maxtilnow         0\n",
       "Length: 129, dtype: int64"
      ]
     },
     "execution_count": 23,
     "metadata": {},
     "output_type": "execute_result"
    }
   ],
   "source": [
    "# Re-Check Empty Cells\n",
    "df_dataset1.isnull().sum()"
   ]
  },
  {
   "cell_type": "markdown",
   "metadata": {},
   "source": [
    "# Classification Setup"
   ]
  },
  {
   "cell_type": "markdown",
   "metadata": {},
   "source": [
    "## Create Data Set Copies for Trading Strategy"
   ]
  },
  {
   "cell_type": "code",
   "execution_count": 24,
   "metadata": {
    "ExecuteTime": {
     "end_time": "2020-12-28T19:52:38.482025Z",
     "start_time": "2020-12-28T19:52:38.469586Z"
    }
   },
   "outputs": [],
   "source": [
    "# Data Set Copy for Trading Extension\n",
    "df_dataset1_copy = df_dataset1.copy()\n"
   ]
  },
  {
   "cell_type": "markdown",
   "metadata": {},
   "source": [
    "## Categorization - Data Set I."
   ]
  },
  {
   "cell_type": "code",
   "execution_count": 25,
   "metadata": {
    "ExecuteTime": {
     "end_time": "2020-12-28T19:52:38.497608Z",
     "start_time": "2020-12-28T19:52:38.483548Z"
    }
   },
   "outputs": [],
   "source": [
    "# Categorization\n",
    "# Class 1 for all Returns >= 0 USD\n",
    "df_dataset1.loc[df_dataset1['Daily Return in USD'] >= 0, 'Class'] = 1\n",
    "# Class 0 for all Returns < 0 USD\n",
    "df_dataset1.loc[df_dataset1['Daily Return in USD'] < 0, 'Class'] = 0"
   ]
  },
  {
   "cell_type": "code",
   "execution_count": 26,
   "metadata": {
    "ExecuteTime": {
     "end_time": "2020-12-28T19:52:38.512658Z",
     "start_time": "2020-12-28T19:52:38.498508Z"
    }
   },
   "outputs": [
    {
     "data": {
      "text/html": [
       "<div>\n",
       "<style scoped>\n",
       "    .dataframe tbody tr th:only-of-type {\n",
       "        vertical-align: middle;\n",
       "    }\n",
       "\n",
       "    .dataframe tbody tr th {\n",
       "        vertical-align: top;\n",
       "    }\n",
       "\n",
       "    .dataframe thead th {\n",
       "        text-align: right;\n",
       "    }\n",
       "</style>\n",
       "<table border=\"1\" class=\"dataframe\">\n",
       "  <thead>\n",
       "    <tr style=\"text-align: right;\">\n",
       "      <th></th>\n",
       "      <th>Daily Return in USD</th>\n",
       "      <th>Log Price in USD</th>\n",
       "      <th>Volatility Daily Log Return in Percent 5D</th>\n",
       "      <th>market/price_usd_close</th>\n",
       "      <th>market/price_drawdown_relative</th>\n",
       "      <th>market/price_realized_usd</th>\n",
       "      <th>market/mvrv</th>\n",
       "      <th>mining/difficulty_latest</th>\n",
       "      <th>mining/hash_rate_mean</th>\n",
       "      <th>blockchain/block_count</th>\n",
       "      <th>...</th>\n",
       "      <th>Close JPY/USD</th>\n",
       "      <th>Close GBP/USD</th>\n",
       "      <th>Close CAD/USD</th>\n",
       "      <th>Close SEK/USD</th>\n",
       "      <th>Close CHF/USD</th>\n",
       "      <th>Daily Return in USD_ohneshift</th>\n",
       "      <th>percentage_daily_return_bef_shift</th>\n",
       "      <th>market/price_usd_close_cummax</th>\n",
       "      <th>price_usd_close_percent_of_maxtilnow</th>\n",
       "      <th>Class</th>\n",
       "    </tr>\n",
       "    <tr>\n",
       "      <th>Date</th>\n",
       "      <th></th>\n",
       "      <th></th>\n",
       "      <th></th>\n",
       "      <th></th>\n",
       "      <th></th>\n",
       "      <th></th>\n",
       "      <th></th>\n",
       "      <th></th>\n",
       "      <th></th>\n",
       "      <th></th>\n",
       "      <th></th>\n",
       "      <th></th>\n",
       "      <th></th>\n",
       "      <th></th>\n",
       "      <th></th>\n",
       "      <th></th>\n",
       "      <th></th>\n",
       "      <th></th>\n",
       "      <th></th>\n",
       "      <th></th>\n",
       "      <th></th>\n",
       "    </tr>\n",
       "  </thead>\n",
       "  <tbody>\n",
       "    <tr>\n",
       "      <th>2020-12-22</th>\n",
       "      <td>-479.38</td>\n",
       "      <td>10.08</td>\n",
       "      <td>2.89</td>\n",
       "      <td>23758.93</td>\n",
       "      <td>-0.02</td>\n",
       "      <td>8286.35</td>\n",
       "      <td>2.79</td>\n",
       "      <td>80187763369133704478720.00</td>\n",
       "      <td>132165952003620995072.00</td>\n",
       "      <td>143.00</td>\n",
       "      <td>...</td>\n",
       "      <td>0.01</td>\n",
       "      <td>1.34</td>\n",
       "      <td>0.78</td>\n",
       "      <td>0.12</td>\n",
       "      <td>1.13</td>\n",
       "      <td>883.48</td>\n",
       "      <td>0.04</td>\n",
       "      <td>23758.93</td>\n",
       "      <td>1.00</td>\n",
       "      <td>0.00</td>\n",
       "    </tr>\n",
       "    <tr>\n",
       "      <th>2020-12-21</th>\n",
       "      <td>883.48</td>\n",
       "      <td>10.04</td>\n",
       "      <td>3.74</td>\n",
       "      <td>22875.46</td>\n",
       "      <td>-0.05</td>\n",
       "      <td>8205.79</td>\n",
       "      <td>2.83</td>\n",
       "      <td>80187763369133704478720.00</td>\n",
       "      <td>125467801265571004416.00</td>\n",
       "      <td>136.00</td>\n",
       "      <td>...</td>\n",
       "      <td>0.01</td>\n",
       "      <td>1.34</td>\n",
       "      <td>0.78</td>\n",
       "      <td>0.12</td>\n",
       "      <td>1.13</td>\n",
       "      <td>-674.33</td>\n",
       "      <td>-0.03</td>\n",
       "      <td>23758.93</td>\n",
       "      <td>0.96</td>\n",
       "      <td>1.00</td>\n",
       "    </tr>\n",
       "    <tr>\n",
       "      <th>2020-12-18</th>\n",
       "      <td>-674.33</td>\n",
       "      <td>10.05</td>\n",
       "      <td>4.03</td>\n",
       "      <td>23078.76</td>\n",
       "      <td>-0.02</td>\n",
       "      <td>8072.93</td>\n",
       "      <td>2.83</td>\n",
       "      <td>80187763369133704478720.00</td>\n",
       "      <td>145575084110428995584.00</td>\n",
       "      <td>157.00</td>\n",
       "      <td>...</td>\n",
       "      <td>0.01</td>\n",
       "      <td>1.36</td>\n",
       "      <td>0.79</td>\n",
       "      <td>0.12</td>\n",
       "      <td>1.13</td>\n",
       "      <td>287.96</td>\n",
       "      <td>0.01</td>\n",
       "      <td>23758.93</td>\n",
       "      <td>0.97</td>\n",
       "      <td>0.00</td>\n",
       "    </tr>\n",
       "    <tr>\n",
       "      <th>2020-12-17</th>\n",
       "      <td>287.96</td>\n",
       "      <td>10.03</td>\n",
       "      <td>3.95</td>\n",
       "      <td>22790.81</td>\n",
       "      <td>-0.04</td>\n",
       "      <td>7935.71</td>\n",
       "      <td>2.84</td>\n",
       "      <td>80187763369133704478720.00</td>\n",
       "      <td>120924230791744995328.00</td>\n",
       "      <td>129.00</td>\n",
       "      <td>...</td>\n",
       "      <td>0.01</td>\n",
       "      <td>1.35</td>\n",
       "      <td>0.78</td>\n",
       "      <td>0.12</td>\n",
       "      <td>1.13</td>\n",
       "      <td>1445.85</td>\n",
       "      <td>0.06</td>\n",
       "      <td>23758.93</td>\n",
       "      <td>0.96</td>\n",
       "      <td>1.00</td>\n",
       "    </tr>\n",
       "    <tr>\n",
       "      <th>2020-12-16</th>\n",
       "      <td>1445.85</td>\n",
       "      <td>9.97</td>\n",
       "      <td>3.66</td>\n",
       "      <td>21344.96</td>\n",
       "      <td>-0.01</td>\n",
       "      <td>7816.38</td>\n",
       "      <td>2.56</td>\n",
       "      <td>80187763369133704478720.00</td>\n",
       "      <td>132126357193890004992.00</td>\n",
       "      <td>143.00</td>\n",
       "      <td>...</td>\n",
       "      <td>0.01</td>\n",
       "      <td>1.34</td>\n",
       "      <td>0.79</td>\n",
       "      <td>0.12</td>\n",
       "      <td>1.13</td>\n",
       "      <td>1921.14</td>\n",
       "      <td>0.09</td>\n",
       "      <td>23758.93</td>\n",
       "      <td>0.90</td>\n",
       "      <td>1.00</td>\n",
       "    </tr>\n",
       "  </tbody>\n",
       "</table>\n",
       "<p>5 rows × 130 columns</p>\n",
       "</div>"
      ],
      "text/plain": [
       "            Daily Return in USD  Log Price in USD  \\\n",
       "Date                                                \n",
       "2020-12-22              -479.38             10.08   \n",
       "2020-12-21               883.48             10.04   \n",
       "2020-12-18              -674.33             10.05   \n",
       "2020-12-17               287.96             10.03   \n",
       "2020-12-16              1445.85              9.97   \n",
       "\n",
       "            Volatility Daily Log Return in Percent 5D  market/price_usd_close  \\\n",
       "Date                                                                            \n",
       "2020-12-22                                       2.89                23758.93   \n",
       "2020-12-21                                       3.74                22875.46   \n",
       "2020-12-18                                       4.03                23078.76   \n",
       "2020-12-17                                       3.95                22790.81   \n",
       "2020-12-16                                       3.66                21344.96   \n",
       "\n",
       "            market/price_drawdown_relative  market/price_realized_usd  \\\n",
       "Date                                                                    \n",
       "2020-12-22                           -0.02                    8286.35   \n",
       "2020-12-21                           -0.05                    8205.79   \n",
       "2020-12-18                           -0.02                    8072.93   \n",
       "2020-12-17                           -0.04                    7935.71   \n",
       "2020-12-16                           -0.01                    7816.38   \n",
       "\n",
       "            market/mvrv   mining/difficulty_latest    mining/hash_rate_mean  \\\n",
       "Date                                                                          \n",
       "2020-12-22         2.79 80187763369133704478720.00 132165952003620995072.00   \n",
       "2020-12-21         2.83 80187763369133704478720.00 125467801265571004416.00   \n",
       "2020-12-18         2.83 80187763369133704478720.00 145575084110428995584.00   \n",
       "2020-12-17         2.84 80187763369133704478720.00 120924230791744995328.00   \n",
       "2020-12-16         2.56 80187763369133704478720.00 132126357193890004992.00   \n",
       "\n",
       "            blockchain/block_count  ...  Close JPY/USD  Close GBP/USD  \\\n",
       "Date                                ...                                 \n",
       "2020-12-22                  143.00  ...           0.01           1.34   \n",
       "2020-12-21                  136.00  ...           0.01           1.34   \n",
       "2020-12-18                  157.00  ...           0.01           1.36   \n",
       "2020-12-17                  129.00  ...           0.01           1.35   \n",
       "2020-12-16                  143.00  ...           0.01           1.34   \n",
       "\n",
       "            Close CAD/USD  Close SEK/USD  Close CHF/USD  \\\n",
       "Date                                                      \n",
       "2020-12-22           0.78           0.12           1.13   \n",
       "2020-12-21           0.78           0.12           1.13   \n",
       "2020-12-18           0.79           0.12           1.13   \n",
       "2020-12-17           0.78           0.12           1.13   \n",
       "2020-12-16           0.79           0.12           1.13   \n",
       "\n",
       "            Daily Return in USD_ohneshift  percentage_daily_return_bef_shift  \\\n",
       "Date                                                                           \n",
       "2020-12-22                         883.48                               0.04   \n",
       "2020-12-21                        -674.33                              -0.03   \n",
       "2020-12-18                         287.96                               0.01   \n",
       "2020-12-17                        1445.85                               0.06   \n",
       "2020-12-16                        1921.14                               0.09   \n",
       "\n",
       "            market/price_usd_close_cummax  \\\n",
       "Date                                        \n",
       "2020-12-22                       23758.93   \n",
       "2020-12-21                       23758.93   \n",
       "2020-12-18                       23758.93   \n",
       "2020-12-17                       23758.93   \n",
       "2020-12-16                       23758.93   \n",
       "\n",
       "            price_usd_close_percent_of_maxtilnow  Class  \n",
       "Date                                                     \n",
       "2020-12-22                                  1.00   0.00  \n",
       "2020-12-21                                  0.96   1.00  \n",
       "2020-12-18                                  0.97   0.00  \n",
       "2020-12-17                                  0.96   1.00  \n",
       "2020-12-16                                  0.90   1.00  \n",
       "\n",
       "[5 rows x 130 columns]"
      ]
     },
     "execution_count": 26,
     "metadata": {},
     "output_type": "execute_result"
    }
   ],
   "source": [
    "# Data Set Head\n",
    "df_dataset1.head()"
   ]
  },
  {
   "cell_type": "code",
   "execution_count": 27,
   "metadata": {
    "ExecuteTime": {
     "end_time": "2020-12-28T19:52:38.528462Z",
     "start_time": "2020-12-28T19:52:38.513468Z"
    }
   },
   "outputs": [],
   "source": [
    "# Delete Original Target Column\n",
    "df_dataset1 = df_dataset1.drop(['Daily Return in USD'], axis=1)"
   ]
  },
  {
   "cell_type": "code",
   "execution_count": 28,
   "metadata": {
    "ExecuteTime": {
     "end_time": "2020-12-28T19:52:38.544424Z",
     "start_time": "2020-12-28T19:52:38.529426Z"
    }
   },
   "outputs": [
    {
     "data": {
      "text/plain": [
       "1.00    1240\n",
       "0.00    1008\n",
       "Name: Class, dtype: int64"
      ]
     },
     "execution_count": 28,
     "metadata": {},
     "output_type": "execute_result"
    }
   ],
   "source": [
    "# Check Class Balance\n",
    "df_dataset1['Class'].value_counts()"
   ]
  },
  {
   "cell_type": "code",
   "execution_count": 29,
   "metadata": {
    "ExecuteTime": {
     "end_time": "2020-12-28T19:52:38.575335Z",
     "start_time": "2020-12-28T19:52:38.546380Z"
    }
   },
   "outputs": [
    {
     "data": {
      "text/html": [
       "<div>\n",
       "<style scoped>\n",
       "    .dataframe tbody tr th:only-of-type {\n",
       "        vertical-align: middle;\n",
       "    }\n",
       "\n",
       "    .dataframe tbody tr th {\n",
       "        vertical-align: top;\n",
       "    }\n",
       "\n",
       "    .dataframe thead th {\n",
       "        text-align: right;\n",
       "    }\n",
       "</style>\n",
       "<table border=\"1\" class=\"dataframe\">\n",
       "  <thead>\n",
       "    <tr style=\"text-align: right;\">\n",
       "      <th></th>\n",
       "      <th>Log Price in USD</th>\n",
       "      <th>Volatility Daily Log Return in Percent 5D</th>\n",
       "      <th>market/price_usd_close</th>\n",
       "      <th>market/price_drawdown_relative</th>\n",
       "      <th>market/price_realized_usd</th>\n",
       "      <th>market/mvrv</th>\n",
       "      <th>mining/difficulty_latest</th>\n",
       "      <th>mining/hash_rate_mean</th>\n",
       "      <th>blockchain/block_count</th>\n",
       "      <th>blockchain/block_interval_mean</th>\n",
       "      <th>...</th>\n",
       "      <th>Close JPY/USD</th>\n",
       "      <th>Close GBP/USD</th>\n",
       "      <th>Close CAD/USD</th>\n",
       "      <th>Close SEK/USD</th>\n",
       "      <th>Close CHF/USD</th>\n",
       "      <th>Daily Return in USD_ohneshift</th>\n",
       "      <th>percentage_daily_return_bef_shift</th>\n",
       "      <th>market/price_usd_close_cummax</th>\n",
       "      <th>price_usd_close_percent_of_maxtilnow</th>\n",
       "      <th>Class</th>\n",
       "    </tr>\n",
       "    <tr>\n",
       "      <th>Date</th>\n",
       "      <th></th>\n",
       "      <th></th>\n",
       "      <th></th>\n",
       "      <th></th>\n",
       "      <th></th>\n",
       "      <th></th>\n",
       "      <th></th>\n",
       "      <th></th>\n",
       "      <th></th>\n",
       "      <th></th>\n",
       "      <th></th>\n",
       "      <th></th>\n",
       "      <th></th>\n",
       "      <th></th>\n",
       "      <th></th>\n",
       "      <th></th>\n",
       "      <th></th>\n",
       "      <th></th>\n",
       "      <th></th>\n",
       "      <th></th>\n",
       "      <th></th>\n",
       "    </tr>\n",
       "  </thead>\n",
       "  <tbody>\n",
       "    <tr>\n",
       "      <th>2020-12-22</th>\n",
       "      <td>10.08</td>\n",
       "      <td>2.89</td>\n",
       "      <td>23758.93</td>\n",
       "      <td>-0.02</td>\n",
       "      <td>8286.35</td>\n",
       "      <td>2.79</td>\n",
       "      <td>80187763369133704478720.00</td>\n",
       "      <td>132165952003620995072.00</td>\n",
       "      <td>143.00</td>\n",
       "      <td>606.72</td>\n",
       "      <td>...</td>\n",
       "      <td>0.01</td>\n",
       "      <td>1.34</td>\n",
       "      <td>0.78</td>\n",
       "      <td>0.12</td>\n",
       "      <td>1.13</td>\n",
       "      <td>883.48</td>\n",
       "      <td>0.04</td>\n",
       "      <td>23758.93</td>\n",
       "      <td>1.00</td>\n",
       "      <td>0.00</td>\n",
       "    </tr>\n",
       "    <tr>\n",
       "      <th>2020-12-21</th>\n",
       "      <td>10.04</td>\n",
       "      <td>3.74</td>\n",
       "      <td>22875.46</td>\n",
       "      <td>-0.05</td>\n",
       "      <td>8205.79</td>\n",
       "      <td>2.83</td>\n",
       "      <td>80187763369133704478720.00</td>\n",
       "      <td>125467801265571004416.00</td>\n",
       "      <td>136.00</td>\n",
       "      <td>639.11</td>\n",
       "      <td>...</td>\n",
       "      <td>0.01</td>\n",
       "      <td>1.34</td>\n",
       "      <td>0.78</td>\n",
       "      <td>0.12</td>\n",
       "      <td>1.13</td>\n",
       "      <td>-674.33</td>\n",
       "      <td>-0.03</td>\n",
       "      <td>23758.93</td>\n",
       "      <td>0.96</td>\n",
       "      <td>1.00</td>\n",
       "    </tr>\n",
       "    <tr>\n",
       "      <th>2020-12-18</th>\n",
       "      <td>10.05</td>\n",
       "      <td>4.03</td>\n",
       "      <td>23078.76</td>\n",
       "      <td>-0.02</td>\n",
       "      <td>8072.93</td>\n",
       "      <td>2.83</td>\n",
       "      <td>80187763369133704478720.00</td>\n",
       "      <td>145575084110428995584.00</td>\n",
       "      <td>157.00</td>\n",
       "      <td>550.83</td>\n",
       "      <td>...</td>\n",
       "      <td>0.01</td>\n",
       "      <td>1.36</td>\n",
       "      <td>0.79</td>\n",
       "      <td>0.12</td>\n",
       "      <td>1.13</td>\n",
       "      <td>287.96</td>\n",
       "      <td>0.01</td>\n",
       "      <td>23758.93</td>\n",
       "      <td>0.97</td>\n",
       "      <td>0.00</td>\n",
       "    </tr>\n",
       "    <tr>\n",
       "      <th>2020-12-17</th>\n",
       "      <td>10.03</td>\n",
       "      <td>3.95</td>\n",
       "      <td>22790.81</td>\n",
       "      <td>-0.04</td>\n",
       "      <td>7935.71</td>\n",
       "      <td>2.84</td>\n",
       "      <td>80187763369133704478720.00</td>\n",
       "      <td>120924230791744995328.00</td>\n",
       "      <td>129.00</td>\n",
       "      <td>663.12</td>\n",
       "      <td>...</td>\n",
       "      <td>0.01</td>\n",
       "      <td>1.35</td>\n",
       "      <td>0.78</td>\n",
       "      <td>0.12</td>\n",
       "      <td>1.13</td>\n",
       "      <td>1445.85</td>\n",
       "      <td>0.06</td>\n",
       "      <td>23758.93</td>\n",
       "      <td>0.96</td>\n",
       "      <td>1.00</td>\n",
       "    </tr>\n",
       "    <tr>\n",
       "      <th>2020-12-16</th>\n",
       "      <td>9.97</td>\n",
       "      <td>3.66</td>\n",
       "      <td>21344.96</td>\n",
       "      <td>-0.01</td>\n",
       "      <td>7816.38</td>\n",
       "      <td>2.56</td>\n",
       "      <td>80187763369133704478720.00</td>\n",
       "      <td>132126357193890004992.00</td>\n",
       "      <td>143.00</td>\n",
       "      <td>606.90</td>\n",
       "      <td>...</td>\n",
       "      <td>0.01</td>\n",
       "      <td>1.34</td>\n",
       "      <td>0.79</td>\n",
       "      <td>0.12</td>\n",
       "      <td>1.13</td>\n",
       "      <td>1921.14</td>\n",
       "      <td>0.09</td>\n",
       "      <td>23758.93</td>\n",
       "      <td>0.90</td>\n",
       "      <td>1.00</td>\n",
       "    </tr>\n",
       "  </tbody>\n",
       "</table>\n",
       "<p>5 rows × 129 columns</p>\n",
       "</div>"
      ],
      "text/plain": [
       "            Log Price in USD  Volatility Daily Log Return in Percent 5D  \\\n",
       "Date                                                                      \n",
       "2020-12-22             10.08                                       2.89   \n",
       "2020-12-21             10.04                                       3.74   \n",
       "2020-12-18             10.05                                       4.03   \n",
       "2020-12-17             10.03                                       3.95   \n",
       "2020-12-16              9.97                                       3.66   \n",
       "\n",
       "            market/price_usd_close  market/price_drawdown_relative  \\\n",
       "Date                                                                 \n",
       "2020-12-22                23758.93                           -0.02   \n",
       "2020-12-21                22875.46                           -0.05   \n",
       "2020-12-18                23078.76                           -0.02   \n",
       "2020-12-17                22790.81                           -0.04   \n",
       "2020-12-16                21344.96                           -0.01   \n",
       "\n",
       "            market/price_realized_usd  market/mvrv   mining/difficulty_latest  \\\n",
       "Date                                                                            \n",
       "2020-12-22                    8286.35         2.79 80187763369133704478720.00   \n",
       "2020-12-21                    8205.79         2.83 80187763369133704478720.00   \n",
       "2020-12-18                    8072.93         2.83 80187763369133704478720.00   \n",
       "2020-12-17                    7935.71         2.84 80187763369133704478720.00   \n",
       "2020-12-16                    7816.38         2.56 80187763369133704478720.00   \n",
       "\n",
       "              mining/hash_rate_mean  blockchain/block_count  \\\n",
       "Date                                                          \n",
       "2020-12-22 132165952003620995072.00                  143.00   \n",
       "2020-12-21 125467801265571004416.00                  136.00   \n",
       "2020-12-18 145575084110428995584.00                  157.00   \n",
       "2020-12-17 120924230791744995328.00                  129.00   \n",
       "2020-12-16 132126357193890004992.00                  143.00   \n",
       "\n",
       "            blockchain/block_interval_mean  ...  Close JPY/USD  Close GBP/USD  \\\n",
       "Date                                        ...                                 \n",
       "2020-12-22                          606.72  ...           0.01           1.34   \n",
       "2020-12-21                          639.11  ...           0.01           1.34   \n",
       "2020-12-18                          550.83  ...           0.01           1.36   \n",
       "2020-12-17                          663.12  ...           0.01           1.35   \n",
       "2020-12-16                          606.90  ...           0.01           1.34   \n",
       "\n",
       "            Close CAD/USD  Close SEK/USD  Close CHF/USD  \\\n",
       "Date                                                      \n",
       "2020-12-22           0.78           0.12           1.13   \n",
       "2020-12-21           0.78           0.12           1.13   \n",
       "2020-12-18           0.79           0.12           1.13   \n",
       "2020-12-17           0.78           0.12           1.13   \n",
       "2020-12-16           0.79           0.12           1.13   \n",
       "\n",
       "            Daily Return in USD_ohneshift  percentage_daily_return_bef_shift  \\\n",
       "Date                                                                           \n",
       "2020-12-22                         883.48                               0.04   \n",
       "2020-12-21                        -674.33                              -0.03   \n",
       "2020-12-18                         287.96                               0.01   \n",
       "2020-12-17                        1445.85                               0.06   \n",
       "2020-12-16                        1921.14                               0.09   \n",
       "\n",
       "            market/price_usd_close_cummax  \\\n",
       "Date                                        \n",
       "2020-12-22                       23758.93   \n",
       "2020-12-21                       23758.93   \n",
       "2020-12-18                       23758.93   \n",
       "2020-12-17                       23758.93   \n",
       "2020-12-16                       23758.93   \n",
       "\n",
       "            price_usd_close_percent_of_maxtilnow  Class  \n",
       "Date                                                     \n",
       "2020-12-22                                  1.00   0.00  \n",
       "2020-12-21                                  0.96   1.00  \n",
       "2020-12-18                                  0.97   0.00  \n",
       "2020-12-17                                  0.96   1.00  \n",
       "2020-12-16                                  0.90   1.00  \n",
       "\n",
       "[5 rows x 129 columns]"
      ]
     },
     "execution_count": 29,
     "metadata": {},
     "output_type": "execute_result"
    }
   ],
   "source": [
    "# Data Set Head\n",
    "df_dataset1.head()"
   ]
  },
  {
   "cell_type": "markdown",
   "metadata": {},
   "source": [
    "# Model Preparation - Data Set I."
   ]
  },
  {
   "cell_type": "code",
   "execution_count": null,
   "metadata": {},
   "outputs": [],
   "source": []
  },
  {
   "cell_type": "markdown",
   "metadata": {},
   "source": [
    "# predictors target for 2020 inspection"
   ]
  },
  {
   "cell_type": "code",
   "execution_count": 30,
   "metadata": {
    "ExecuteTime": {
     "end_time": "2020-12-28T19:52:38.590295Z",
     "start_time": "2020-12-28T19:52:38.576300Z"
    }
   },
   "outputs": [
    {
     "name": "stdout",
     "output_type": "stream",
     "text": [
      "2010\n",
      "238\n"
     ]
    }
   ],
   "source": [
    "# get time of 01.01.2019 until 31.12.2019 as testing df\n",
    "#df_dataset1_copy_2019 df_dataset1_copy_allbut2019\n",
    "df_dataset1_allbut2019 = df_dataset1.loc[df_dataset1.index.year != 2019]\n",
    "df_dataset1_2019 = df_dataset1.loc[df_dataset1.index.year == 2019]\n",
    "print(len(df_dataset1_allbut2019))\n",
    "print(len(df_dataset1_2019))\n",
    "# Setup of Predictors (Indpendent Variables) by Excluding Target Variable\n",
    "X_trainpredictors_allbut2019 = df_dataset1_allbut2019.drop(['Class'], axis=1).values.astype(np.float32)\n",
    "X_testpredictors_2019 = df_dataset1_2019.drop(['Class'], axis=1).values.astype(np.float32)\n",
    "# Setup of Categorized Target Variable\n",
    "y_traintarget_allbut2019 = df_dataset1_allbut2019['Class'].astype(np.float32)\n",
    "y_testtarget_2019 = df_dataset1_2019['Class'].astype(np.float32)"
   ]
  },
  {
   "cell_type": "markdown",
   "metadata": {},
   "source": [
    "## Train Test Split - Data Set I."
   ]
  },
  {
   "cell_type": "code",
   "execution_count": 31,
   "metadata": {
    "ExecuteTime": {
     "end_time": "2020-12-28T19:52:38.606220Z",
     "start_time": "2020-12-28T19:52:38.591260Z"
    }
   },
   "outputs": [],
   "source": [
    "# Setup of Predictors (Indpendent Variables) by Excluding Target Variable\n",
    "predictors = df_dataset1.drop(['Class'], axis=1).values.astype(np.float32)"
   ]
  },
  {
   "cell_type": "code",
   "execution_count": 32,
   "metadata": {
    "ExecuteTime": {
     "end_time": "2020-12-28T19:52:38.622290Z",
     "start_time": "2020-12-28T19:52:38.607219Z"
    }
   },
   "outputs": [],
   "source": [
    "# Setup of Categorized Target Variable\n",
    "target = df_dataset1['Class'].astype(np.float32)"
   ]
  },
  {
   "cell_type": "code",
   "execution_count": 33,
   "metadata": {
    "ExecuteTime": {
     "end_time": "2020-12-28T19:52:38.638135Z",
     "start_time": "2020-12-28T19:52:38.623175Z"
    }
   },
   "outputs": [
    {
     "data": {
      "text/plain": [
       "(2248, 128)"
      ]
     },
     "execution_count": 33,
     "metadata": {},
     "output_type": "execute_result"
    }
   ],
   "source": [
    "# Predictor Dimensions\n",
    "predictors.shape"
   ]
  },
  {
   "cell_type": "code",
   "execution_count": 34,
   "metadata": {
    "ExecuteTime": {
     "end_time": "2020-12-28T19:52:38.654250Z",
     "start_time": "2020-12-28T19:52:38.639132Z"
    }
   },
   "outputs": [
    {
     "data": {
      "text/plain": [
       "(2248,)"
      ]
     },
     "execution_count": 34,
     "metadata": {},
     "output_type": "execute_result"
    }
   ],
   "source": [
    "# Target Dimensions\n",
    "target.shape"
   ]
  },
  {
   "cell_type": "code",
   "execution_count": 35,
   "metadata": {
    "ExecuteTime": {
     "end_time": "2020-12-28T19:52:38.670082Z",
     "start_time": "2020-12-28T19:52:38.655090Z"
    }
   },
   "outputs": [],
   "source": [
    "# Train-Test-Split Function to Create Training and Test Data Set\n",
    "X_train, X_test, y_train, y_test = train_test_split(predictors, target, test_size=0.3, random_state = 41, stratify=target)"
   ]
  },
  {
   "cell_type": "code",
   "execution_count": 36,
   "metadata": {
    "ExecuteTime": {
     "end_time": "2020-12-28T19:52:38.686039Z",
     "start_time": "2020-12-28T19:52:38.671047Z"
    }
   },
   "outputs": [
    {
     "data": {
      "text/plain": [
       "(1573, 128)"
      ]
     },
     "execution_count": 36,
     "metadata": {},
     "output_type": "execute_result"
    }
   ],
   "source": [
    "# Dimensions of Predictors for Training\n",
    "X_train.shape"
   ]
  },
  {
   "cell_type": "code",
   "execution_count": 37,
   "metadata": {
    "ExecuteTime": {
     "end_time": "2020-12-28T19:52:38.701964Z",
     "start_time": "2020-12-28T19:52:38.687005Z"
    }
   },
   "outputs": [
    {
     "data": {
      "text/plain": [
       "(1573,)"
      ]
     },
     "execution_count": 37,
     "metadata": {},
     "output_type": "execute_result"
    }
   ],
   "source": [
    "# Dimensions of Target for Training\n",
    "y_train.shape"
   ]
  },
  {
   "cell_type": "code",
   "execution_count": 38,
   "metadata": {
    "ExecuteTime": {
     "end_time": "2020-12-28T19:52:38.718000Z",
     "start_time": "2020-12-28T19:52:38.702961Z"
    }
   },
   "outputs": [
    {
     "data": {
      "text/plain": [
       "128"
      ]
     },
     "execution_count": 38,
     "metadata": {},
     "output_type": "execute_result"
    }
   ],
   "source": [
    "# Number of Predictors\n",
    "n_nodes = predictors.shape[1]\n",
    "n_nodes"
   ]
  },
  {
   "cell_type": "markdown",
   "metadata": {},
   "source": [
    "### Check of Class Balance"
   ]
  },
  {
   "cell_type": "code",
   "execution_count": 39,
   "metadata": {
    "ExecuteTime": {
     "end_time": "2020-12-28T19:52:38.732881Z",
     "start_time": "2020-12-28T19:52:38.718919Z"
    }
   },
   "outputs": [
    {
     "data": {
      "text/plain": [
       "705"
      ]
     },
     "execution_count": 39,
     "metadata": {},
     "output_type": "execute_result"
    }
   ],
   "source": [
    "# Check Training Target of Class 0\n",
    "y_train[y_train==0].count()"
   ]
  },
  {
   "cell_type": "code",
   "execution_count": 40,
   "metadata": {
    "ExecuteTime": {
     "end_time": "2020-12-28T19:52:38.747842Z",
     "start_time": "2020-12-28T19:52:38.733879Z"
    }
   },
   "outputs": [
    {
     "data": {
      "text/plain": [
       "868"
      ]
     },
     "execution_count": 40,
     "metadata": {},
     "output_type": "execute_result"
    }
   ],
   "source": [
    "# Check Training Target of Class 1\n",
    "y_train[y_train==1].count()"
   ]
  },
  {
   "cell_type": "code",
   "execution_count": 41,
   "metadata": {
    "ExecuteTime": {
     "end_time": "2020-12-28T19:52:38.763918Z",
     "start_time": "2020-12-28T19:52:38.749837Z"
    }
   },
   "outputs": [
    {
     "data": {
      "text/plain": [
       "303"
      ]
     },
     "execution_count": 41,
     "metadata": {},
     "output_type": "execute_result"
    }
   ],
   "source": [
    "# Check Test Target of Class 0\n",
    "y_test[y_test==0].count()"
   ]
  },
  {
   "cell_type": "code",
   "execution_count": 42,
   "metadata": {
    "ExecuteTime": {
     "end_time": "2020-12-28T19:52:38.779757Z",
     "start_time": "2020-12-28T19:52:38.764796Z"
    }
   },
   "outputs": [
    {
     "data": {
      "text/plain": [
       "372"
      ]
     },
     "execution_count": 42,
     "metadata": {},
     "output_type": "execute_result"
    }
   ],
   "source": [
    "# Check Test Target of Class 1\n",
    "y_test[y_test==1].count()"
   ]
  },
  {
   "cell_type": "markdown",
   "metadata": {},
   "source": [
    "## Feature Scaling - Data Set I."
   ]
  },
  {
   "cell_type": "code",
   "execution_count": 43,
   "metadata": {
    "ExecuteTime": {
     "end_time": "2020-12-28T19:52:38.795714Z",
     "start_time": "2020-12-28T19:52:38.780754Z"
    }
   },
   "outputs": [],
   "source": [
    "# Instantiation of MinMaxScaler and StandardSacler\n",
    "norm_scaler = MinMaxScaler()\n",
    "#std_scaler = StandardScaler()"
   ]
  },
  {
   "cell_type": "code",
   "execution_count": 44,
   "metadata": {
    "ExecuteTime": {
     "end_time": "2020-12-28T19:52:38.811795Z",
     "start_time": "2020-12-28T19:52:38.796711Z"
    }
   },
   "outputs": [],
   "source": [
    "# Scaler Training and Transformation of Training Set\n",
    "X_train_scaled = pd.DataFrame(norm_scaler.fit_transform(X_train))"
   ]
  },
  {
   "cell_type": "code",
   "execution_count": 45,
   "metadata": {
    "ExecuteTime": {
     "end_time": "2020-12-28T19:52:38.827629Z",
     "start_time": "2020-12-28T19:52:38.812911Z"
    }
   },
   "outputs": [],
   "source": [
    "# Scaler Transformation of Test Set\n",
    "X_test_scaled = norm_scaler.transform(X_test)"
   ]
  },
  {
   "cell_type": "code",
   "execution_count": 46,
   "metadata": {
    "ExecuteTime": {
     "end_time": "2020-12-28T19:52:38.843586Z",
     "start_time": "2020-12-28T19:52:38.828626Z"
    }
   },
   "outputs": [
    {
     "data": {
      "text/plain": [
       "array([[9.4198540e-02, 4.1142296e-02, 1.2211084e-04, ..., 7.6661593e-01,\n",
       "        0.0000000e+00, 1.2211083e-04],\n",
       "       [9.2835414e-01, 8.2369328e-02, 5.1145339e-01, ..., 7.4458098e-01,\n",
       "        0.0000000e+00, 5.1145339e-01],\n",
       "       [9.0062004e-01, 1.6173875e-02, 3.9452699e-01, ..., 7.8791654e-01,\n",
       "        0.0000000e+00, 3.9452702e-01],\n",
       "       ...,\n",
       "       [7.2954619e-01, 7.7024646e-02, 7.9520859e-02, ..., 8.0786449e-01,\n",
       "        0.0000000e+00, 7.9520859e-02],\n",
       "       [9.2078972e-01, 2.3921803e-02, 4.7649646e-01, ..., 7.5910664e-01,\n",
       "        0.0000000e+00, 4.7649646e-01],\n",
       "       [1.9484754e-01, 6.9343582e-02, 4.4824788e-04, ..., 7.6707143e-01,\n",
       "        0.0000000e+00, 4.4824794e-04]], dtype=float32)"
      ]
     },
     "execution_count": 46,
     "metadata": {},
     "output_type": "execute_result"
    }
   ],
   "source": [
    "# Scaled Test Features\n",
    "X_test_scaled"
   ]
  },
  {
   "cell_type": "code",
   "execution_count": 47,
   "metadata": {
    "ExecuteTime": {
     "end_time": "2020-12-28T19:52:38.859544Z",
     "start_time": "2020-12-28T19:52:38.844583Z"
    }
   },
   "outputs": [],
   "source": [
    "# Scaler Transformation of Entire Training Set - Input for Cross-Validation\n",
    "predictors_scaled = norm_scaler.transform(predictors)"
   ]
  },
  {
   "cell_type": "markdown",
   "metadata": {},
   "source": [
    "# Classification Models - Data Set I."
   ]
  },
  {
   "cell_type": "code",
   "execution_count": 48,
   "metadata": {
    "ExecuteTime": {
     "end_time": "2020-12-28T19:52:38.875502Z",
     "start_time": "2020-12-28T19:52:38.860541Z"
    }
   },
   "outputs": [],
   "source": [
    "# Function To Show Accuracy Mean and Accuracy Standard Deviation\n",
    "def show_scores(scores):\n",
    "    # Scores Series\n",
    "    print('Scores:', scores)\n",
    "    # Score Mean\n",
    "    print('Mean:', np.mean(scores))\n",
    "    # Score Standard Deviation\n",
    "    print('Standard Deviation:', np.std(scores))"
   ]
  },
  {
   "cell_type": "markdown",
   "metadata": {},
   "source": [
    "## Logistic Regression - Data Set I."
   ]
  },
  {
   "cell_type": "code",
   "execution_count": 49,
   "metadata": {
    "ExecuteTime": {
     "end_time": "2020-12-28T19:52:38.890462Z",
     "start_time": "2020-12-28T19:52:38.876586Z"
    }
   },
   "outputs": [],
   "source": [
    "# Instantiate Classifier - LogisticRegression\n",
    "lreg = LogisticRegression(max_iter=1200)"
   ]
  },
  {
   "cell_type": "code",
   "execution_count": 50,
   "metadata": {
    "ExecuteTime": {
     "end_time": "2020-12-28T19:52:39.017147Z",
     "start_time": "2020-12-28T19:52:38.891459Z"
    }
   },
   "outputs": [
    {
     "data": {
      "text/plain": [
       "LogisticRegression(max_iter=1200)"
      ]
     },
     "execution_count": 50,
     "metadata": {},
     "output_type": "execute_result"
    }
   ],
   "source": [
    "# Train Classifier\n",
    "lreg.fit(X_train_scaled, y_train)"
   ]
  },
  {
   "cell_type": "code",
   "execution_count": 51,
   "metadata": {
    "ExecuteTime": {
     "end_time": "2020-12-28T19:52:39.033136Z",
     "start_time": "2020-12-28T19:52:39.018119Z"
    }
   },
   "outputs": [],
   "source": [
    "# Prediction of Classes\n",
    "y_pred = lreg.predict(X_test_scaled)"
   ]
  },
  {
   "cell_type": "code",
   "execution_count": 52,
   "metadata": {
    "ExecuteTime": {
     "end_time": "2020-12-28T19:52:39.048331Z",
     "start_time": "2020-12-28T19:52:39.034079Z"
    }
   },
   "outputs": [],
   "source": [
    "# Prediction of Probabilities\n",
    "y_pred_prob = lreg.predict_proba(X_test_scaled)[:,1]"
   ]
  },
  {
   "cell_type": "code",
   "execution_count": 53,
   "metadata": {
    "ExecuteTime": {
     "end_time": "2020-12-28T19:52:39.063996Z",
     "start_time": "2020-12-28T19:52:39.050034Z"
    }
   },
   "outputs": [
    {
     "data": {
      "text/plain": [
       "array([0.52838095, 0.5258881 , 0.33937565, 0.57605454, 0.33388052,\n",
       "       0.54942822, 0.66384574, 0.65030004, 0.60179467, 0.67859721])"
      ]
     },
     "execution_count": 53,
     "metadata": {},
     "output_type": "execute_result"
    }
   ],
   "source": [
    "# Select Predicted Probabilities\n",
    "y_pred_prob[1:11]"
   ]
  },
  {
   "cell_type": "code",
   "execution_count": 54,
   "metadata": {
    "ExecuteTime": {
     "end_time": "2020-12-28T19:52:39.080032Z",
     "start_time": "2020-12-28T19:52:39.064994Z"
    }
   },
   "outputs": [
    {
     "data": {
      "text/plain": [
       "array([0., 1., 0., 1., 1., 1., 1., 1., 1., 1.], dtype=float32)"
      ]
     },
     "execution_count": 54,
     "metadata": {},
     "output_type": "execute_result"
    }
   ],
   "source": [
    "# Select Actual Classes\n",
    "np.array(y_test[1:11])"
   ]
  },
  {
   "cell_type": "code",
   "execution_count": 55,
   "metadata": {
    "ExecuteTime": {
     "end_time": "2020-12-28T19:52:39.095912Z",
     "start_time": "2020-12-28T19:52:39.080951Z"
    }
   },
   "outputs": [
    {
     "data": {
      "text/plain": [
       "0.6141131595677051"
      ]
     },
     "execution_count": 55,
     "metadata": {},
     "output_type": "execute_result"
    }
   ],
   "source": [
    "# Train Accuracy\n",
    "lreg.score(X_train_scaled, y_train)"
   ]
  },
  {
   "cell_type": "code",
   "execution_count": 56,
   "metadata": {
    "ExecuteTime": {
     "end_time": "2020-12-28T19:52:39.111975Z",
     "start_time": "2020-12-28T19:52:39.096909Z"
    }
   },
   "outputs": [
    {
     "data": {
      "text/plain": [
       "0.5674074074074074"
      ]
     },
     "execution_count": 56,
     "metadata": {},
     "output_type": "execute_result"
    }
   ],
   "source": [
    "# Test Accuracy\n",
    "lreg.score(X_test_scaled, y_test)"
   ]
  },
  {
   "cell_type": "code",
   "execution_count": 57,
   "metadata": {
    "ExecuteTime": {
     "end_time": "2020-12-28T19:52:39.126829Z",
     "start_time": "2020-12-28T19:52:39.112867Z"
    }
   },
   "outputs": [
    {
     "name": "stdout",
     "output_type": "stream",
     "text": [
      "[[101 202]\n",
      " [ 90 282]]\n"
     ]
    }
   ],
   "source": [
    "# Output of Confusion Matrix\n",
    "print(confusion_matrix(y_test, y_pred))"
   ]
  },
  {
   "cell_type": "code",
   "execution_count": 58,
   "metadata": {
    "ExecuteTime": {
     "end_time": "2020-12-28T19:52:39.141789Z",
     "start_time": "2020-12-28T19:52:39.127826Z"
    }
   },
   "outputs": [
    {
     "name": "stdout",
     "output_type": "stream",
     "text": [
      "              precision    recall  f1-score   support\n",
      "\n",
      "         0.0       0.53      0.33      0.41       303\n",
      "         1.0       0.58      0.76      0.66       372\n",
      "\n",
      "    accuracy                           0.57       675\n",
      "   macro avg       0.56      0.55      0.53       675\n",
      "weighted avg       0.56      0.57      0.55       675\n",
      "\n"
     ]
    }
   ],
   "source": [
    "# Output of Classification Report\n",
    "print(classification_report(y_test, y_pred))"
   ]
  },
  {
   "cell_type": "code",
   "execution_count": 59,
   "metadata": {
    "ExecuteTime": {
     "end_time": "2020-12-28T19:52:39.157875Z",
     "start_time": "2020-12-28T19:52:39.142793Z"
    }
   },
   "outputs": [],
   "source": [
    "# Generate ROC curve values: fpr, tpr, thresholds\n",
    "fpr, tpr, thresholds = roc_curve(y_test, y_pred_prob)"
   ]
  },
  {
   "cell_type": "code",
   "execution_count": 60,
   "metadata": {
    "ExecuteTime": {
     "end_time": "2020-12-28T19:52:39.330285Z",
     "start_time": "2020-12-28T19:52:39.158747Z"
    }
   },
   "outputs": [
    {
     "data": {
      "image/png": "[encoded data removed]",
      "text/plain": [
       "<Figure size 432x288 with 1 Axes>"
      ]
     },
     "metadata": {
      "needs_background": "light"
     },
     "output_type": "display_data"
    }
   ],
   "source": [
    "# Plot of ROC curve\n",
    "_ = plt.plot([0, 1], [0, 1])\n",
    "_ = plt.plot(fpr, tpr)\n",
    "_ = plt.xlabel('False Positive Rate')\n",
    "_ = plt.ylabel('True Positive Rate')\n",
    "_ = plt.title('Receiver Operating Characteristic (ROC) Curve')\n",
    "plt.show()"
   ]
  },
  {
   "cell_type": "code",
   "execution_count": 61,
   "metadata": {
    "ExecuteTime": {
     "end_time": "2020-12-28T19:52:39.345786Z",
     "start_time": "2020-12-28T19:52:39.331282Z"
    }
   },
   "outputs": [],
   "source": [
    "# 10-fold Cross Validation including Stratification\n",
    "skf = StratifiedKFold(shuffle=True, n_splits=10)"
   ]
  },
  {
   "cell_type": "code",
   "execution_count": 62,
   "metadata": {
    "ExecuteTime": {
     "end_time": "2020-12-28T19:52:39.361205Z",
     "start_time": "2020-12-28T19:52:39.347240Z"
    }
   },
   "outputs": [
    {
     "name": "stdout",
     "output_type": "stream",
     "text": [
      "AUC: 0.5846197522978105\n"
     ]
    }
   ],
   "source": [
    "# Compute and print AUC Score\n",
    "print(\"AUC: {}\".format(roc_auc_score(y_test, y_pred_prob)))"
   ]
  },
  {
   "cell_type": "code",
   "execution_count": 63,
   "metadata": {
    "ExecuteTime": {
     "end_time": "2020-12-28T19:52:40.575045Z",
     "start_time": "2020-12-28T19:52:39.363197Z"
    }
   },
   "outputs": [],
   "source": [
    "# Cross-Validation for AUC scores\n",
    "cv_auc = cross_val_score(lreg, predictors_scaled, target, cv=skf, scoring='roc_auc')"
   ]
  },
  {
   "cell_type": "code",
   "execution_count": 64,
   "metadata": {
    "ExecuteTime": {
     "end_time": "2020-12-28T19:52:40.591091Z",
     "start_time": "2020-12-28T19:52:40.576042Z"
    }
   },
   "outputs": [
    {
     "name": "stdout",
     "output_type": "stream",
     "text": [
      "AUC scores computed using 10-fold cross-validation: [0.54726924 0.61984989 0.54136059 0.58998722 0.5663526  0.65673906\n",
      " 0.58647397 0.57353881 0.59766129 0.53951613]\n"
     ]
    }
   ],
   "source": [
    "# Print List of AUC scores\n",
    "print(\"AUC scores computed using 10-fold cross-validation: {}\".format(cv_auc))"
   ]
  },
  {
   "cell_type": "code",
   "execution_count": 65,
   "metadata": {
    "ExecuteTime": {
     "end_time": "2020-12-28T19:52:41.809266Z",
     "start_time": "2020-12-28T19:52:40.592998Z"
    }
   },
   "outputs": [],
   "source": [
    "# Cross-Validation for Accuracy Scores\n",
    "cv_acc = cross_val_score(lreg, predictors_scaled, target, cv=skf, scoring='accuracy')"
   ]
  },
  {
   "cell_type": "code",
   "execution_count": 66,
   "metadata": {
    "ExecuteTime": {
     "end_time": "2020-12-28T19:52:41.824541Z",
     "start_time": "2020-12-28T19:52:41.810264Z"
    }
   },
   "outputs": [
    {
     "name": "stdout",
     "output_type": "stream",
     "text": [
      "Accuracy scores computed using 10-fold cross-validation: [0.55111111 0.52888889 0.57777778 0.61333333 0.56444444 0.58222222\n",
      " 0.58222222 0.61333333 0.58482143 0.54910714]\n"
     ]
    }
   ],
   "source": [
    "# Print List of Accuracy Scores\n",
    "print(\"Accuracy scores computed using 10-fold cross-validation: {}\".format(cv_acc))"
   ]
  },
  {
   "cell_type": "code",
   "execution_count": 67,
   "metadata": {
    "ExecuteTime": {
     "end_time": "2020-12-28T19:52:41.840488Z",
     "start_time": "2020-12-28T19:52:41.825540Z"
    }
   },
   "outputs": [
    {
     "name": "stdout",
     "output_type": "stream",
     "text": [
      "Scores: [0.55111111 0.52888889 0.57777778 0.61333333 0.56444444 0.58222222\n",
      " 0.58222222 0.61333333 0.58482143 0.54910714]\n",
      "Mean: 0.5747261904761906\n",
      "Standard Deviation: 0.025739871897330895\n"
     ]
    }
   ],
   "source": [
    "# Accuracy Results - Mean and Standard Deviation\n",
    "show_scores(cv_acc)"
   ]
  },
  {
   "cell_type": "markdown",
   "metadata": {},
   "source": [
    "## Random Forest Classifier - Data Set I."
   ]
  },
  {
   "cell_type": "code",
   "execution_count": 68,
   "metadata": {
    "ExecuteTime": {
     "end_time": "2020-12-28T19:52:41.855807Z",
     "start_time": "2020-12-28T19:52:41.845746Z"
    }
   },
   "outputs": [],
   "source": [
    "# Instantiate Classifier - Random Forest\n",
    "rfc = RandomForestClassifier(n_estimators=100, max_leaf_nodes=None, criterion='gini', max_depth=3, random_state=41)"
   ]
  },
  {
   "cell_type": "code",
   "execution_count": 69,
   "metadata": {
    "ExecuteTime": {
     "end_time": "2020-12-28T19:52:42.342592Z",
     "start_time": "2020-12-28T19:52:41.858800Z"
    }
   },
   "outputs": [
    {
     "data": {
      "text/plain": [
       "RandomForestClassifier(max_depth=3, random_state=41)"
      ]
     },
     "execution_count": 69,
     "metadata": {},
     "output_type": "execute_result"
    }
   ],
   "source": [
    "# Train Classifier\n",
    "rfc.fit(X_train_scaled, y_train)"
   ]
  },
  {
   "cell_type": "code",
   "execution_count": 70,
   "metadata": {
    "ExecuteTime": {
     "end_time": "2020-12-28T19:52:42.373905Z",
     "start_time": "2020-12-28T19:52:42.343950Z"
    }
   },
   "outputs": [],
   "source": [
    "# Prediction of Classes\n",
    "y_pred = rfc.predict(X_test_scaled)"
   ]
  },
  {
   "cell_type": "code",
   "execution_count": 71,
   "metadata": {
    "ExecuteTime": {
     "end_time": "2020-12-28T19:52:42.405804Z",
     "start_time": "2020-12-28T19:52:42.374867Z"
    }
   },
   "outputs": [],
   "source": [
    "# Prediction of Probabilities\n",
    "y_pred_prob = rfc.predict_proba(X_test_scaled)[:,1]"
   ]
  },
  {
   "cell_type": "code",
   "execution_count": 72,
   "metadata": {
    "ExecuteTime": {
     "end_time": "2020-12-28T19:52:42.421742Z",
     "start_time": "2020-12-28T19:52:42.407779Z"
    }
   },
   "outputs": [
    {
     "data": {
      "text/plain": [
       "array([0.58253076, 0.49358043, 0.36888449, 0.566384  , 0.53076821,\n",
       "       0.54777115, 0.56087306, 0.70139623, 0.5619971 , 0.69338184])"
      ]
     },
     "execution_count": 72,
     "metadata": {},
     "output_type": "execute_result"
    }
   ],
   "source": [
    "# Select Predicted Probabilities\n",
    "y_pred_prob[1:11]"
   ]
  },
  {
   "cell_type": "code",
   "execution_count": 73,
   "metadata": {
    "ExecuteTime": {
     "end_time": "2020-12-28T19:52:42.451697Z",
     "start_time": "2020-12-28T19:52:42.423737Z"
    }
   },
   "outputs": [
    {
     "data": {
      "text/plain": [
       "0.6338207247298157"
      ]
     },
     "execution_count": 73,
     "metadata": {},
     "output_type": "execute_result"
    }
   ],
   "source": [
    "# Train Accuracy\n",
    "rfc.score(X_train_scaled, y_train)"
   ]
  },
  {
   "cell_type": "code",
   "execution_count": 74,
   "metadata": {
    "ExecuteTime": {
     "end_time": "2020-12-28T19:52:42.483577Z",
     "start_time": "2020-12-28T19:52:42.452659Z"
    }
   },
   "outputs": [
    {
     "data": {
      "text/plain": [
       "0.5822222222222222"
      ]
     },
     "execution_count": 74,
     "metadata": {},
     "output_type": "execute_result"
    }
   ],
   "source": [
    "# Test Accuracy\n",
    "rfc.score(X_test_scaled, y_test)"
   ]
  },
  {
   "cell_type": "code",
   "execution_count": 75,
   "metadata": {
    "ExecuteTime": {
     "end_time": "2020-12-28T19:52:42.499572Z",
     "start_time": "2020-12-28T19:52:42.484574Z"
    }
   },
   "outputs": [
    {
     "name": "stdout",
     "output_type": "stream",
     "text": [
      "[[ 80 223]\n",
      " [ 59 313]]\n"
     ]
    }
   ],
   "source": [
    "# Output of Confusion Matrix\n",
    "print(confusion_matrix(y_test, y_pred))"
   ]
  },
  {
   "cell_type": "code",
   "execution_count": 76,
   "metadata": {
    "ExecuteTime": {
     "end_time": "2020-12-28T19:52:42.515644Z",
     "start_time": "2020-12-28T19:52:42.500539Z"
    }
   },
   "outputs": [
    {
     "name": "stdout",
     "output_type": "stream",
     "text": [
      "              precision    recall  f1-score   support\n",
      "\n",
      "         0.0       0.58      0.26      0.36       303\n",
      "         1.0       0.58      0.84      0.69       372\n",
      "\n",
      "    accuracy                           0.58       675\n",
      "   macro avg       0.58      0.55      0.53       675\n",
      "weighted avg       0.58      0.58      0.54       675\n",
      "\n"
     ]
    }
   ],
   "source": [
    "# Output of Classification Report\n",
    "print(classification_report(y_test, y_pred))"
   ]
  },
  {
   "cell_type": "code",
   "execution_count": 77,
   "metadata": {
    "ExecuteTime": {
     "end_time": "2020-12-28T19:52:42.531482Z",
     "start_time": "2020-12-28T19:52:42.516490Z"
    }
   },
   "outputs": [],
   "source": [
    "# Generate ROC curve values: fpr, tpr, thresholds\n",
    "fpr, tpr, thresholds = roc_curve(y_test, y_pred_prob)"
   ]
  },
  {
   "cell_type": "code",
   "execution_count": 78,
   "metadata": {
    "ExecuteTime": {
     "end_time": "2020-12-28T19:52:42.547435Z",
     "start_time": "2020-12-28T19:52:42.532446Z"
    }
   },
   "outputs": [],
   "source": [
    "# 10-fold Cross Validation including Stratification\n",
    "skf = StratifiedKFold(shuffle=True, n_splits=10)"
   ]
  },
  {
   "cell_type": "code",
   "execution_count": 79,
   "metadata": {
    "ExecuteTime": {
     "end_time": "2020-12-28T19:52:42.563365Z",
     "start_time": "2020-12-28T19:52:42.548404Z"
    }
   },
   "outputs": [
    {
     "name": "stdout",
     "output_type": "stream",
     "text": [
      "AUC: 0.5898940700521665\n"
     ]
    }
   ],
   "source": [
    "# Compute and print AUC score\n",
    "print(\"AUC: {}\".format(roc_auc_score(y_test, y_pred_prob)))"
   ]
  },
  {
   "cell_type": "code",
   "execution_count": 80,
   "metadata": {
    "ExecuteTime": {
     "end_time": "2020-12-28T19:52:47.999242Z",
     "start_time": "2020-12-28T19:52:42.564362Z"
    }
   },
   "outputs": [],
   "source": [
    "# Cross-Validation for AUC scores\n",
    "cv_auc = cross_val_score(rfc, predictors_scaled, target, cv=skf, scoring='roc_auc')"
   ]
  },
  {
   "cell_type": "code",
   "execution_count": 81,
   "metadata": {
    "ExecuteTime": {
     "end_time": "2020-12-28T19:52:48.014765Z",
     "start_time": "2020-12-28T19:52:48.000239Z"
    }
   },
   "outputs": [
    {
     "name": "stdout",
     "output_type": "stream",
     "text": [
      "AUC scores computed using 10-fold cross-validation: [0.60108592 0.62000958 0.62663686 0.6097892  0.58831044 0.61737464\n",
      " 0.60196423 0.54295752 0.56008065 0.49483871]\n"
     ]
    }
   ],
   "source": [
    "# Print List of AUC scores\n",
    "print(\"AUC scores computed using 10-fold cross-validation: {}\".format(cv_auc))"
   ]
  },
  {
   "cell_type": "code",
   "execution_count": 82,
   "metadata": {
    "ExecuteTime": {
     "end_time": "2020-12-28T19:52:52.904772Z",
     "start_time": "2020-12-28T19:52:48.015579Z"
    }
   },
   "outputs": [],
   "source": [
    "# Cross-Validation for Accuracy Scores\n",
    "cv_acc = cross_val_score(rfc, predictors_scaled, target, cv=skf, scoring='accuracy')"
   ]
  },
  {
   "cell_type": "code",
   "execution_count": 83,
   "metadata": {
    "ExecuteTime": {
     "end_time": "2020-12-28T19:52:52.920282Z",
     "start_time": "2020-12-28T19:52:52.906165Z"
    }
   },
   "outputs": [
    {
     "name": "stdout",
     "output_type": "stream",
     "text": [
      "Accuracy scores computed using 10-fold cross-validation: [0.56444444 0.53777778 0.57333333 0.57333333 0.55555556 0.6\n",
      " 0.59555556 0.57777778 0.58482143 0.59821429]\n"
     ]
    }
   ],
   "source": [
    "# Print List of Accuracy Scores\n",
    "print(\"Accuracy scores computed using 10-fold cross-validation: {}\".format(cv_acc))"
   ]
  },
  {
   "cell_type": "code",
   "execution_count": 84,
   "metadata": {
    "ExecuteTime": {
     "end_time": "2020-12-28T19:52:52.935848Z",
     "start_time": "2020-12-28T19:52:52.922704Z"
    }
   },
   "outputs": [
    {
     "name": "stdout",
     "output_type": "stream",
     "text": [
      "Scores: [0.56444444 0.53777778 0.57333333 0.57333333 0.55555556 0.6\n",
      " 0.59555556 0.57777778 0.58482143 0.59821429]\n",
      "Mean: 0.5760813492063492\n",
      "Standard Deviation: 0.0188665652106663\n"
     ]
    }
   ],
   "source": [
    "# Accuracy Results - Mean and Standard Deviation\n",
    "show_scores(cv_acc)"
   ]
  },
  {
   "cell_type": "markdown",
   "metadata": {},
   "source": [
    "# Trading Strategy - Data Set I"
   ]
  },
  {
   "cell_type": "markdown",
   "metadata": {},
   "source": [
    "## Trading Strategy in Combination with Logistic Regression"
   ]
  },
  {
   "cell_type": "code",
   "execution_count": 85,
   "metadata": {
    "ExecuteTime": {
     "end_time": "2020-12-28T19:52:52.955699Z",
     "start_time": "2020-12-28T19:52:52.937127Z"
    }
   },
   "outputs": [],
   "source": [
    "# Create Lists To Store All Calculated Values For Every Variable of Every Run\n",
    "# Specified Period\n",
    "# Threshold 0.5\n",
    "spec_list_05_total = []\n",
    "spec_list_05_profit = []\n",
    "spec_list_05_loss = []\n",
    "spec_list_05_trans = []\n",
    "spec_list_05_acc = []\n",
    "spec_list_05_preds_corr = []\n",
    "spec_list_05_preds = []\n",
    "# Threshold 0.6\n",
    "spec_list_06_total = []\n",
    "spec_list_06_profit = []\n",
    "spec_list_06_loss = []\n",
    "spec_list_06_trans = []\n",
    "spec_list_06_acc = []\n",
    "spec_list_06_preds_corr = []\n",
    "spec_list_06_preds = []\n",
    "# Threshold 0.7\n",
    "spec_list_07_total = []\n",
    "spec_list_07_profit = []\n",
    "spec_list_07_loss = []\n",
    "spec_list_07_trans = []\n",
    "spec_list_07_acc = []\n",
    "spec_list_07_preds_corr = []\n",
    "spec_list_07_preds = []\n",
    "# Threshold 0.8\n",
    "spec_list_08_total = []\n",
    "spec_list_08_profit = []\n",
    "spec_list_08_loss = []\n",
    "spec_list_08_trans = []\n",
    "spec_list_08_acc = []\n",
    "spec_list_08_preds_corr = []\n",
    "spec_list_08_preds = []\n",
    "\n",
    "# Entire Period\n",
    "# Threshold 0.5\n",
    "list_05_total = []\n",
    "list_05_profit = []\n",
    "list_05_loss = []\n",
    "list_05_trans = []\n",
    "list_05_acc = []\n",
    "list_05_preds_corr = []\n",
    "list_05_preds = []\n",
    "# Threshold 0.6\n",
    "list_06_total = []\n",
    "list_06_profit = []\n",
    "list_06_loss = []\n",
    "list_06_trans = []\n",
    "list_06_acc = []\n",
    "list_06_preds_corr = []\n",
    "list_06_preds = []\n",
    "# Threshold 0.7\n",
    "list_07_total = []\n",
    "list_07_profit = []\n",
    "list_07_loss = []\n",
    "list_07_trans = []\n",
    "list_07_acc = []\n",
    "list_07_preds_corr = []\n",
    "list_07_preds = []\n",
    "# Threshold 0.8\n",
    "list_08_total = []\n",
    "list_08_profit = []\n",
    "list_08_loss = []\n",
    "list_08_trans = []\n",
    "list_08_acc = []\n",
    "list_08_preds_corr = []\n",
    "list_08_preds = []"
   ]
  },
  {
   "cell_type": "code",
   "execution_count": 86,
   "metadata": {
    "ExecuteTime": {
     "end_time": "2020-12-28T19:52:52.971688Z",
     "start_time": "2020-12-28T19:52:52.956697Z"
    }
   },
   "outputs": [
    {
     "data": {
      "text/plain": [
       "Date\n",
       "2020-12-22   0.00\n",
       "2020-12-21   1.00\n",
       "2020-12-18   0.00\n",
       "2020-12-17   1.00\n",
       "2020-12-16   1.00\n",
       "             ... \n",
       "2011-08-23   0.00\n",
       "2011-08-22   0.00\n",
       "2011-08-19   0.00\n",
       "2011-08-18   1.00\n",
       "2011-08-17   0.00\n",
       "Name: Class, Length: 2248, dtype: float32"
      ]
     },
     "execution_count": 86,
     "metadata": {},
     "output_type": "execute_result"
    }
   ],
   "source": [
    "target\n"
   ]
  },
  {
   "cell_type": "code",
   "execution_count": 87,
   "metadata": {
    "ExecuteTime": {
     "end_time": "2020-12-28T19:52:52.987613Z",
     "start_time": "2020-12-28T19:52:52.972654Z"
    }
   },
   "outputs": [
    {
     "data": {
      "text/plain": [
       "array([[ 1.00757141e+01,  2.88843989e+00,  2.37589336e+04, ...,\n",
       "         3.71850841e-02,  2.37589336e+04,  1.00000000e+00],\n",
       "       [ 1.00378199e+01,  3.73631477e+00,  2.28754551e+04, ...,\n",
       "        -2.94781197e-02,  2.37589336e+04,  9.62814927e-01],\n",
       "       [ 1.00466681e+01,  4.02774429e+00,  2.30787637e+04, ...,\n",
       "         1.24771595e-02,  2.37589336e+04,  9.71372068e-01],\n",
       "       ...,\n",
       "       [ 2.45530629e+00,  3.72086787e+00,  1.16499996e+01, ...,\n",
       "         6.89255223e-02,  2.37589336e+04,  4.90341859e-04],\n",
       "       [ 2.38389015e+00,  3.29314303e+00,  1.08470173e+01, ...,\n",
       "        -1.34644359e-02,  2.37589336e+04,  4.56544803e-04],\n",
       "       [ 2.39726472e+00,  3.60249925e+00,  1.09930668e+01, ...,\n",
       "         3.10301641e-03,  2.37589336e+04,  4.62691911e-04]], dtype=float32)"
      ]
     },
     "execution_count": 87,
     "metadata": {},
     "output_type": "execute_result"
    }
   ],
   "source": [
    "predictors"
   ]
  },
  {
   "cell_type": "code",
   "execution_count": 88,
   "metadata": {
    "ExecuteTime": {
     "end_time": "2020-12-28T19:52:53.003570Z",
     "start_time": "2020-12-28T19:52:52.989623Z"
    }
   },
   "outputs": [],
   "source": [
    "# for x in df_dataset1.columns:\n",
    "#     print(x)"
   ]
  },
  {
   "cell_type": "code",
   "execution_count": 89,
   "metadata": {
    "ExecuteTime": {
     "end_time": "2020-12-28T19:52:53.019531Z",
     "start_time": "2020-12-28T19:52:53.004569Z"
    }
   },
   "outputs": [
    {
     "data": {
      "text/html": [
       "<div>\n",
       "<style scoped>\n",
       "    .dataframe tbody tr th:only-of-type {\n",
       "        vertical-align: middle;\n",
       "    }\n",
       "\n",
       "    .dataframe tbody tr th {\n",
       "        vertical-align: top;\n",
       "    }\n",
       "\n",
       "    .dataframe thead th {\n",
       "        text-align: right;\n",
       "    }\n",
       "</style>\n",
       "<table border=\"1\" class=\"dataframe\">\n",
       "  <thead>\n",
       "    <tr style=\"text-align: right;\">\n",
       "      <th></th>\n",
       "      <th>Daily Return in USD</th>\n",
       "    </tr>\n",
       "    <tr>\n",
       "      <th>Date</th>\n",
       "      <th></th>\n",
       "    </tr>\n",
       "  </thead>\n",
       "  <tbody>\n",
       "    <tr>\n",
       "      <th>2020-12-22</th>\n",
       "      <td>-479.38</td>\n",
       "    </tr>\n",
       "    <tr>\n",
       "      <th>2020-12-21</th>\n",
       "      <td>883.48</td>\n",
       "    </tr>\n",
       "    <tr>\n",
       "      <th>2020-12-18</th>\n",
       "      <td>-674.33</td>\n",
       "    </tr>\n",
       "    <tr>\n",
       "      <th>2020-12-17</th>\n",
       "      <td>287.96</td>\n",
       "    </tr>\n",
       "    <tr>\n",
       "      <th>2020-12-16</th>\n",
       "      <td>1445.85</td>\n",
       "    </tr>\n",
       "    <tr>\n",
       "      <th>...</th>\n",
       "      <td>...</td>\n",
       "    </tr>\n",
       "    <tr>\n",
       "      <th>2011-08-23</th>\n",
       "      <td>-0.08</td>\n",
       "    </tr>\n",
       "    <tr>\n",
       "      <th>2011-08-22</th>\n",
       "      <td>-0.01</td>\n",
       "    </tr>\n",
       "    <tr>\n",
       "      <th>2011-08-19</th>\n",
       "      <td>-0.38</td>\n",
       "    </tr>\n",
       "    <tr>\n",
       "      <th>2011-08-18</th>\n",
       "      <td>0.80</td>\n",
       "    </tr>\n",
       "    <tr>\n",
       "      <th>2011-08-17</th>\n",
       "      <td>-0.15</td>\n",
       "    </tr>\n",
       "  </tbody>\n",
       "</table>\n",
       "<p>2248 rows × 1 columns</p>\n",
       "</div>"
      ],
      "text/plain": [
       "            Daily Return in USD\n",
       "Date                           \n",
       "2020-12-22              -479.38\n",
       "2020-12-21               883.48\n",
       "2020-12-18              -674.33\n",
       "2020-12-17               287.96\n",
       "2020-12-16              1445.85\n",
       "...                         ...\n",
       "2011-08-23                -0.08\n",
       "2011-08-22                -0.01\n",
       "2011-08-19                -0.38\n",
       "2011-08-18                 0.80\n",
       "2011-08-17                -0.15\n",
       "\n",
       "[2248 rows x 1 columns]"
      ]
     },
     "execution_count": 89,
     "metadata": {},
     "output_type": "execute_result"
    }
   ],
   "source": [
    "df_dataset1_copy[['Daily Return in USD']]"
   ]
  },
  {
   "cell_type": "code",
   "execution_count": 90,
   "metadata": {
    "ExecuteTime": {
     "end_time": "2020-12-28T19:52:53.035485Z",
     "start_time": "2020-12-28T19:52:53.020527Z"
    },
    "scrolled": true
   },
   "outputs": [
    {
     "data": {
      "text/plain": [
       "Class\n",
       "0.00    116\n",
       "1.00    122\n",
       "Name: Class, dtype: int64"
      ]
     },
     "execution_count": 90,
     "metadata": {},
     "output_type": "execute_result"
    }
   ],
   "source": [
    "y_traintarget_allbut2019\n",
    "y_testtarget_2019.groupby(y_testtarget_2019).size()"
   ]
  },
  {
   "cell_type": "code",
   "execution_count": null,
   "metadata": {},
   "outputs": [],
   "source": []
  },
  {
   "cell_type": "code",
   "execution_count": null,
   "metadata": {},
   "outputs": [],
   "source": []
  },
  {
   "cell_type": "code",
   "execution_count": 91,
   "metadata": {
    "ExecuteTime": {
     "end_time": "2020-12-28T19:52:53.051442Z",
     "start_time": "2020-12-28T19:52:53.036482Z"
    }
   },
   "outputs": [
    {
     "data": {
      "text/plain": [
       "Date\n",
       "2020-12-22   -0.02\n",
       "2020-12-21    0.04\n",
       "2020-12-18   -0.03\n",
       "2020-12-17    0.01\n",
       "2020-12-16    0.07\n",
       "              ... \n",
       "2011-08-23   -0.01\n",
       "2011-08-22   -0.00\n",
       "2011-08-19   -0.03\n",
       "2011-08-18    0.07\n",
       "2011-08-17   -0.01\n",
       "Name: percentage_daily_return, Length: 2248, dtype: float64"
      ]
     },
     "execution_count": 91,
     "metadata": {},
     "output_type": "execute_result"
    }
   ],
   "source": [
    "df_dataset1_copy[\"percentage_daily_return\"] = df_dataset1_copy[\"Daily Return in USD\"]/df_dataset1_copy[\"market/price_usd_close\"]\n",
    "df_dataset1_copy[\"percentage_daily_return\"]"
   ]
  },
  {
   "cell_type": "code",
   "execution_count": 92,
   "metadata": {
    "ExecuteTime": {
     "end_time": "2020-12-28T19:52:53.629435Z",
     "start_time": "2020-12-28T19:52:53.052440Z"
    }
   },
   "outputs": [
    {
     "data": {
      "text/plain": [
       "array([[ 1.00757141e+01,  2.88843989e+00,  2.37589336e+04, ...,\n",
       "         3.71850841e-02,  2.37589336e+04,  1.00000000e+00],\n",
       "       [ 1.00378199e+01,  3.73631477e+00,  2.28754551e+04, ...,\n",
       "        -2.94781197e-02,  2.37589336e+04,  9.62814927e-01],\n",
       "       [ 1.00466681e+01,  4.02774429e+00,  2.30787637e+04, ...,\n",
       "         1.24771595e-02,  2.37589336e+04,  9.71372068e-01],\n",
       "       ...,\n",
       "       [ 2.45530629e+00,  3.72086787e+00,  1.16499996e+01, ...,\n",
       "         6.89255223e-02,  2.37589336e+04,  4.90341859e-04],\n",
       "       [ 2.38389015e+00,  3.29314303e+00,  1.08470173e+01, ...,\n",
       "        -1.34644359e-02,  2.37589336e+04,  4.56544803e-04],\n",
       "       [ 2.39726472e+00,  3.60249925e+00,  1.09930668e+01, ...,\n",
       "         3.10301641e-03,  2.37589336e+04,  4.62691911e-04]], dtype=float32)"
      ]
     },
     "execution_count": 92,
     "metadata": {},
     "output_type": "execute_result"
    }
   ],
   "source": [
    "from xgboost import XGBClassifier\n",
    "\n",
    "predictors"
   ]
  },
  {
   "cell_type": "code",
   "execution_count": 93,
   "metadata": {
    "ExecuteTime": {
     "end_time": "2020-12-28T19:52:53.645296Z",
     "start_time": "2020-12-28T19:52:53.630339Z"
    }
   },
   "outputs": [
    {
     "data": {
      "text/plain": [
       "(2010, 128)"
      ]
     },
     "execution_count": 93,
     "metadata": {},
     "output_type": "execute_result"
    }
   ],
   "source": [
    "X_trainpredictors_allbut2019.shape\n"
   ]
  },
  {
   "cell_type": "code",
   "execution_count": 94,
   "metadata": {
    "ExecuteTime": {
     "end_time": "2020-12-28T19:52:53.661252Z",
     "start_time": "2020-12-28T19:52:53.646294Z"
    }
   },
   "outputs": [
    {
     "data": {
      "text/plain": [
       "(238, 128)"
      ]
     },
     "execution_count": 94,
     "metadata": {},
     "output_type": "execute_result"
    }
   ],
   "source": [
    "X_testpredictors_2019.shape\n"
   ]
  },
  {
   "cell_type": "code",
   "execution_count": 95,
   "metadata": {
    "ExecuteTime": {
     "end_time": "2020-12-28T19:52:53.677023Z",
     "start_time": "2020-12-28T19:52:53.662250Z"
    }
   },
   "outputs": [
    {
     "data": {
      "text/plain": [
       "(2010,)"
      ]
     },
     "execution_count": 95,
     "metadata": {},
     "output_type": "execute_result"
    }
   ],
   "source": [
    "y_traintarget_allbut2019.shape\n"
   ]
  },
  {
   "cell_type": "code",
   "execution_count": 96,
   "metadata": {
    "ExecuteTime": {
     "end_time": "2020-12-28T19:52:53.692207Z",
     "start_time": "2020-12-28T19:52:53.678206Z"
    }
   },
   "outputs": [
    {
     "data": {
      "text/plain": [
       "(238,)"
      ]
     },
     "execution_count": 96,
     "metadata": {},
     "output_type": "execute_result"
    }
   ],
   "source": [
    "y_testtarget_2019.shape"
   ]
  },
  {
   "cell_type": "code",
   "execution_count": 97,
   "metadata": {
    "ExecuteTime": {
     "end_time": "2020-12-28T19:52:53.708226Z",
     "start_time": "2020-12-28T19:52:53.693166Z"
    }
   },
   "outputs": [],
   "source": [
    "# Split Data into Training and Testing\n",
    "X_train = X_trainpredictors_allbut2019\n",
    "X_test = X_testpredictors_2019\n",
    "y_train = y_traintarget_allbut2019\n",
    "y_test = y_testtarget_2019"
   ]
  },
  {
   "cell_type": "code",
   "execution_count": 98,
   "metadata": {
    "ExecuteTime": {
     "end_time": "2020-12-28T19:52:53.724188Z",
     "start_time": "2020-12-28T19:52:53.709330Z"
    }
   },
   "outputs": [
    {
     "data": {
      "text/plain": [
       "(2010, 128)"
      ]
     },
     "execution_count": 98,
     "metadata": {},
     "output_type": "execute_result"
    }
   ],
   "source": [
    "X_train.shape"
   ]
  },
  {
   "cell_type": "code",
   "execution_count": 99,
   "metadata": {
    "ExecuteTime": {
     "end_time": "2020-12-28T19:52:53.740043Z",
     "start_time": "2020-12-28T19:52:53.725332Z"
    }
   },
   "outputs": [
    {
     "data": {
      "text/plain": [
       "(238,)"
      ]
     },
     "execution_count": 99,
     "metadata": {},
     "output_type": "execute_result"
    }
   ],
   "source": [
    "y_test.shape"
   ]
  },
  {
   "cell_type": "code",
   "execution_count": null,
   "metadata": {},
   "outputs": [],
   "source": []
  },
  {
   "cell_type": "code",
   "execution_count": 100,
   "metadata": {
    "ExecuteTime": {
     "end_time": "2020-12-28T19:55:40.271782Z",
     "start_time": "2020-12-28T19:52:53.742036Z"
    },
    "scrolled": true
   },
   "outputs": [
    {
     "name": "stdout",
     "output_type": "stream",
     "text": [
      "Run: 1\n",
      "[[57 59]\n",
      " [41 81]]\n",
      "Threshold of: 0.5\n",
      "              precision    recall  f1-score   support\n",
      "\n",
      "         0.0       0.58      0.49      0.53       116\n",
      "         1.0       0.58      0.66      0.62       122\n",
      "\n",
      "    accuracy                           0.58       238\n",
      "   macro avg       0.58      0.58      0.58       238\n",
      "weighted avg       0.58      0.58      0.58       238\n",
      "\n",
      "prestake profit-loss 1.33 x\n",
      "\n",
      "Entire Period:\n",
      "einsatz 238000 TotReturn: 1199 / Profit:  3525 / Loss:  2197 / TransCosts:  128 / CalcAccuracy 0.58 / #CorrectPreds: 138 Of 238\n",
      "einsatz/bet 1000.0 TotReturn / bet 5.03781512605042 / TranCosts / bet  0.5378151260504201 / CalcuAcc 0.58\n",
      "profit in %/bet: 0.50\n",
      "einsatz * 1+profit% ^ # wetten 3306.83\n",
      "\n",
      "\n",
      "Threshold of: 0.51\n",
      "              precision    recall  f1-score   support\n",
      "\n",
      "         0.0       0.61      0.47      0.53        88\n",
      "         1.0       0.59      0.72      0.65        93\n",
      "\n",
      "    accuracy                           0.60       181\n",
      "   macro avg       0.60      0.59      0.59       181\n",
      "weighted avg       0.60      0.60      0.59       181\n",
      "\n",
      "prestake profit-loss 1.21 x\n",
      "\n",
      "Entire Period:\n",
      "einsatz 181000 TotReturn: 1112 / Profit:  2849 / Loss:  1639 / TransCosts:  97 / CalcAccuracy 0.6 / #CorrectPreds: 108 Of 181\n",
      "einsatz/bet 1000.0 TotReturn / bet 6.143646408839779 / TranCosts / bet  0.5359116022099447 / CalcuAcc 0.6\n",
      "profit in %/bet: 0.61\n",
      "einsatz * 1+profit% ^ # wetten 3030.11\n",
      "\n",
      "\n",
      "Threshold of: 0.52\n",
      "              precision    recall  f1-score   support\n",
      "\n",
      "         0.0       0.70      0.50      0.58        60\n",
      "         1.0       0.64      0.80      0.71        66\n",
      "\n",
      "    accuracy                           0.66       126\n",
      "   macro avg       0.67      0.65      0.65       126\n",
      "weighted avg       0.67      0.66      0.65       126\n",
      "\n",
      "prestake profit-loss 1.71 x\n",
      "\n",
      "Entire Period:\n",
      "einsatz 126000 TotReturn: 1642 / Profit:  2456 / Loss:  745 / TransCosts:  68 / CalcAccuracy 0.66 / #CorrectPreds: 83 Of 126\n",
      "einsatz/bet 1000.0 TotReturn / bet 13.031746031746032 / TranCosts / bet  0.5396825396825397 / CalcuAcc 0.66\n",
      "profit in %/bet: 1.30\n",
      "einsatz * 1+profit% ^ # wetten 5110.99\n",
      "\n",
      "\n",
      "Threshold of: 0.53\n",
      "              precision    recall  f1-score   support\n",
      "\n",
      "         0.0       0.72      0.46      0.56        39\n",
      "         1.0       0.63      0.84      0.72        43\n",
      "\n",
      "    accuracy                           0.66        82\n",
      "   macro avg       0.68      0.65      0.64        82\n",
      "weighted avg       0.67      0.66      0.65        82\n",
      "\n",
      "prestake profit-loss 0.69 x\n",
      "\n",
      "Entire Period:\n",
      "einsatz 82000 TotReturn: 645 / Profit:  1188 / Loss:  498 / TransCosts:  44 / CalcAccuracy 0.66 / #CorrectPreds: 54 Of 82\n",
      "einsatz/bet 1000.0 TotReturn / bet 7.865853658536586 / TranCosts / bet  0.5365853658536586 / CalcuAcc 0.66\n",
      "profit in %/bet: 0.79\n",
      "einsatz * 1+profit% ^ # wetten 1901.18\n",
      "\n",
      "\n",
      "\n",
      "\n",
      "Run: 2\n",
      "[[62 54]\n",
      " [40 82]]\n",
      "Threshold of: 0.5\n",
      "              precision    recall  f1-score   support\n",
      "\n",
      "         0.0       0.61      0.53      0.57       116\n",
      "         1.0       0.60      0.67      0.64       122\n",
      "\n",
      "    accuracy                           0.61       238\n",
      "   macro avg       0.61      0.60      0.60       238\n",
      "weighted avg       0.61      0.61      0.60       238\n",
      "\n",
      "prestake profit-loss 1.43 x\n",
      "\n",
      "Entire Period:\n",
      "einsatz 238000 TotReturn: 1304 / Profit:  3577 / Loss:  2144 / TransCosts:  128 / CalcAccuracy 0.61 / #CorrectPreds: 144 Of 238\n",
      "einsatz/bet 1000.0 TotReturn / bet 5.4789915966386555 / TranCosts / bet  0.5378151260504201 / CalcuAcc 0.61\n",
      "profit in %/bet: 0.55\n",
      "einsatz * 1+profit% ^ # wetten 3670.91\n",
      "\n",
      "\n",
      "Threshold of: 0.51\n",
      "              precision    recall  f1-score   support\n",
      "\n",
      "         0.0       0.62      0.51      0.56        89\n",
      "         1.0       0.60      0.71      0.65        92\n",
      "\n",
      "    accuracy                           0.61       181\n",
      "   macro avg       0.61      0.61      0.60       181\n",
      "weighted avg       0.61      0.61      0.60       181\n",
      "\n",
      "prestake profit-loss 0.99 x\n",
      "\n",
      "Entire Period:\n",
      "einsatz 181000 TotReturn: 894 / Profit:  2583 / Loss:  1590 / TransCosts:  97 / CalcAccuracy 0.61 / #CorrectPreds: 110 Of 181\n",
      "einsatz/bet 1000.0 TotReturn / bet 4.939226519337017 / TranCosts / bet  0.5359116022099447 / CalcuAcc 0.61\n",
      "profit in %/bet: 0.49\n",
      "einsatz * 1+profit% ^ # wetten 2439.52\n",
      "\n",
      "\n",
      "Threshold of: 0.52\n",
      "              precision    recall  f1-score   support\n",
      "\n",
      "         0.0       0.72      0.53      0.61        62\n",
      "         1.0       0.64      0.80      0.71        64\n",
      "\n",
      "    accuracy                           0.67       126\n",
      "   macro avg       0.68      0.66      0.66       126\n",
      "weighted avg       0.68      0.67      0.66       126\n",
      "\n",
      "prestake profit-loss 1.13 x\n",
      "\n",
      "Entire Period:\n",
      "einsatz 126000 TotReturn: 1063 / Profit:  1982 / Loss:  850 / TransCosts:  68 / CalcAccuracy 0.67 / #CorrectPreds: 84 Of 126\n",
      "einsatz/bet 1000.0 TotReturn / bet 8.436507936507937 / TranCosts / bet  0.5396825396825397 / CalcuAcc 0.67\n",
      "profit in %/bet: 0.84\n",
      "einsatz * 1+profit% ^ # wetten 2882.16\n",
      "\n",
      "\n",
      "Threshold of: 0.53\n",
      "              precision    recall  f1-score   support\n",
      "\n",
      "         0.0       0.74      0.50      0.60        40\n",
      "         1.0       0.62      0.82      0.71        40\n",
      "\n",
      "    accuracy                           0.66        80\n",
      "   macro avg       0.68      0.66      0.65        80\n",
      "weighted avg       0.68      0.66      0.65        80\n",
      "\n",
      "prestake profit-loss 0.71 x\n",
      "\n",
      "Entire Period:\n",
      "einsatz 80000 TotReturn: 662 / Profit:  1130 / Loss:  424 / TransCosts:  43 / CalcAccuracy 0.66 / #CorrectPreds: 53 Of 80\n",
      "einsatz/bet 1000.0 TotReturn / bet 8.275 / TranCosts / bet  0.5375 / CalcuAcc 0.66\n",
      "profit in %/bet: 0.83\n",
      "einsatz * 1+profit% ^ # wetten 1933.39\n",
      "\n",
      "\n",
      "\n",
      "\n",
      "Run: 3\n",
      "[[61 55]\n",
      " [43 79]]\n",
      "Threshold of: 0.5\n",
      "              precision    recall  f1-score   support\n",
      "\n",
      "         0.0       0.59      0.53      0.55       116\n",
      "         1.0       0.59      0.65      0.62       122\n",
      "\n",
      "    accuracy                           0.59       238\n",
      "   macro avg       0.59      0.59      0.59       238\n",
      "weighted avg       0.59      0.59      0.59       238\n",
      "\n",
      "prestake profit-loss 1.25 x\n",
      "\n",
      "Entire Period:\n",
      "einsatz 238000 TotReturn: 1118 / Profit:  3485 / Loss:  2237 / TransCosts:  128 / CalcAccuracy 0.59 / #CorrectPreds: 140 Of 238\n",
      "einsatz/bet 1000.0 TotReturn / bet 4.697478991596639 / TranCosts / bet  0.5378151260504201 / CalcuAcc 0.59\n",
      "profit in %/bet: 0.47\n",
      "einsatz * 1+profit% ^ # wetten 3050.73\n",
      "\n",
      "\n",
      "Threshold of: 0.51\n",
      "              precision    recall  f1-score   support\n",
      "\n",
      "         0.0       0.62      0.51      0.56        89\n",
      "         1.0       0.61      0.72      0.66        97\n",
      "\n",
      "    accuracy                           0.62       186\n",
      "   macro avg       0.62      0.61      0.61       186\n",
      "weighted avg       0.62      0.62      0.61       186\n",
      "\n",
      "prestake profit-loss 1.41 x\n",
      "\n",
      "Entire Period:\n",
      "einsatz 186000 TotReturn: 1309 / Profit:  2863 / Loss:  1454 / TransCosts:  100 / CalcAccuracy 0.62 / #CorrectPreds: 115 Of 186\n",
      "einsatz/bet 1000.0 TotReturn / bet 7.037634408602151 / TranCosts / bet  0.5376344086021505 / CalcuAcc 0.62\n",
      "profit in %/bet: 0.70\n",
      "einsatz * 1+profit% ^ # wetten 3685.53\n",
      "\n",
      "\n",
      "Threshold of: 0.52\n",
      "              precision    recall  f1-score   support\n",
      "\n",
      "         0.0       0.74      0.54      0.62        63\n",
      "         1.0       0.63      0.81      0.71        62\n",
      "\n",
      "    accuracy                           0.67       125\n",
      "   macro avg       0.69      0.67      0.67       125\n",
      "weighted avg       0.69      0.67      0.67       125\n",
      "\n",
      "prestake profit-loss 1.08 x\n",
      "\n",
      "Entire Period:\n",
      "einsatz 125000 TotReturn: 1014 / Profit:  1975 / Loss:  893 / TransCosts:  67 / CalcAccuracy 0.67 / #CorrectPreds: 84 Of 125\n",
      "einsatz/bet 1000.0 TotReturn / bet 8.112 / TranCosts / bet  0.536 / CalcuAcc 0.67\n",
      "profit in %/bet: 0.81\n",
      "einsatz * 1+profit% ^ # wetten 2745.35\n",
      "\n",
      "\n",
      "Threshold of: 0.53\n",
      "              precision    recall  f1-score   support\n",
      "\n",
      "         0.0       0.74      0.53      0.62        43\n",
      "         1.0       0.63      0.81      0.71        42\n",
      "\n",
      "    accuracy                           0.67        85\n",
      "   macro avg       0.69      0.67      0.66        85\n",
      "weighted avg       0.69      0.67      0.66        85\n",
      "\n",
      "prestake profit-loss 0.60 x\n",
      "\n",
      "Entire Period:\n",
      "einsatz 85000 TotReturn: 557 / Profit:  1162 / Loss:  558 / TransCosts:  45 / CalcAccuracy 0.67 / #CorrectPreds: 57 Of 85\n",
      "einsatz/bet 1000.0 TotReturn / bet 6.552941176470588 / TranCosts / bet  0.5294117647058824 / CalcuAcc 0.67\n",
      "profit in %/bet: 0.66\n",
      "einsatz * 1+profit% ^ # wetten 1742.26\n",
      "\n",
      "\n",
      "\n",
      "\n",
      "Run: 4\n"
     ]
    },
    {
     "name": "stdout",
     "output_type": "stream",
     "text": [
      "[[62 54]\n",
      " [42 80]]\n",
      "Threshold of: 0.5\n",
      "              precision    recall  f1-score   support\n",
      "\n",
      "         0.0       0.60      0.53      0.56       116\n",
      "         1.0       0.60      0.66      0.62       122\n",
      "\n",
      "    accuracy                           0.60       238\n",
      "   macro avg       0.60      0.60      0.59       238\n",
      "weighted avg       0.60      0.60      0.60       238\n",
      "\n",
      "prestake profit-loss 1.14 x\n",
      "\n",
      "Entire Period:\n",
      "einsatz 238000 TotReturn: 1012 / Profit:  3431 / Loss:  2290 / TransCosts:  128 / CalcAccuracy 0.6 / #CorrectPreds: 142 Of 238\n",
      "einsatz/bet 1000.0 TotReturn / bet 4.2521008403361344 / TranCosts / bet  0.5378151260504201 / CalcuAcc 0.6\n",
      "profit in %/bet: 0.43\n",
      "einsatz * 1+profit% ^ # wetten 2745.20\n",
      "\n",
      "\n",
      "Threshold of: 0.51\n",
      "              precision    recall  f1-score   support\n",
      "\n",
      "         0.0       0.65      0.53      0.58        99\n",
      "         1.0       0.59      0.71      0.64        95\n",
      "\n",
      "    accuracy                           0.61       194\n",
      "   macro avg       0.62      0.62      0.61       194\n",
      "weighted avg       0.62      0.61      0.61       194\n",
      "\n",
      "prestake profit-loss 1.18 x\n",
      "\n",
      "Entire Period:\n",
      "einsatz 194000 TotReturn: 1079 / Profit:  2756 / Loss:  1572 / TransCosts:  104 / CalcAccuracy 0.61 / #CorrectPreds: 119 Of 194\n",
      "einsatz/bet 1000.0 TotReturn / bet 5.561855670103093 / TranCosts / bet  0.5360824742268041 / CalcuAcc 0.61\n",
      "profit in %/bet: 0.56\n",
      "einsatz * 1+profit% ^ # wetten 2932.96\n",
      "\n",
      "\n",
      "Threshold of: 0.52\n",
      "              precision    recall  f1-score   support\n",
      "\n",
      "         0.0       0.69      0.52      0.60        69\n",
      "         1.0       0.60      0.76      0.67        66\n",
      "\n",
      "    accuracy                           0.64       135\n",
      "   macro avg       0.65      0.64      0.63       135\n",
      "weighted avg       0.65      0.64      0.63       135\n",
      "\n",
      "prestake profit-loss 0.93 x\n",
      "\n",
      "Entire Period:\n",
      "einsatz 135000 TotReturn: 857 / Profit:  1826 / Loss:  896 / TransCosts:  72 / CalcAccuracy 0.64 / #CorrectPreds: 86 Of 135\n",
      "einsatz/bet 1000.0 TotReturn / bet 6.348148148148148 / TranCosts / bet  0.5333333333333333 / CalcuAcc 0.64\n",
      "profit in %/bet: 0.63\n",
      "einsatz * 1+profit% ^ # wetten 2349.71\n",
      "\n",
      "\n",
      "Threshold of: 0.53\n",
      "              precision    recall  f1-score   support\n",
      "\n",
      "         0.0       0.67      0.55      0.60        40\n",
      "         1.0       0.65      0.75      0.69        44\n",
      "\n",
      "    accuracy                           0.65        84\n",
      "   macro avg       0.66      0.65      0.65        84\n",
      "weighted avg       0.66      0.65      0.65        84\n",
      "\n",
      "prestake profit-loss 0.66 x\n",
      "\n",
      "Entire Period:\n",
      "einsatz 84000 TotReturn: 609 / Profit:  1142 / Loss:  487 / TransCosts:  45 / CalcAccuracy 0.65 / #CorrectPreds: 55 Of 84\n",
      "einsatz/bet 1000.0 TotReturn / bet 7.25 / TranCosts / bet  0.5357142857142857 / CalcuAcc 0.65\n",
      "profit in %/bet: 0.72\n",
      "einsatz * 1+profit% ^ # wetten 1834.56\n",
      "\n",
      "\n",
      "\n",
      "\n",
      "Run: 5\n",
      "[[55 61]\n",
      " [38 84]]\n",
      "Threshold of: 0.5\n",
      "              precision    recall  f1-score   support\n",
      "\n",
      "         0.0       0.59      0.47      0.53       116\n",
      "         1.0       0.58      0.69      0.63       122\n",
      "\n",
      "    accuracy                           0.58       238\n",
      "   macro avg       0.59      0.58      0.58       238\n",
      "weighted avg       0.59      0.58      0.58       238\n",
      "\n",
      "prestake profit-loss 1.30 x\n",
      "\n",
      "Entire Period:\n",
      "einsatz 238000 TotReturn: 1174 / Profit:  3512 / Loss:  2209 / TransCosts:  128 / CalcAccuracy 0.58 / #CorrectPreds: 139 Of 238\n",
      "einsatz/bet 1000.0 TotReturn / bet 4.932773109243698 / TranCosts / bet  0.5378151260504201 / CalcuAcc 0.58\n",
      "profit in %/bet: 0.49\n",
      "einsatz * 1+profit% ^ # wetten 3225.58\n",
      "\n",
      "\n",
      "Threshold of: 0.51\n",
      "              precision    recall  f1-score   support\n",
      "\n",
      "         0.0       0.60      0.47      0.53        87\n",
      "         1.0       0.56      0.69      0.62        86\n",
      "\n",
      "    accuracy                           0.58       173\n",
      "   macro avg       0.58      0.58      0.57       173\n",
      "weighted avg       0.58      0.58      0.57       173\n",
      "\n",
      "prestake profit-loss 0.92 x\n",
      "\n",
      "Entire Period:\n",
      "einsatz 173000 TotReturn: 826 / Profit:  2432 / Loss:  1513 / TransCosts:  93 / CalcAccuracy 0.58 / #CorrectPreds: 100 Of 173\n",
      "einsatz/bet 1000.0 TotReturn / bet 4.77456647398844 / TranCosts / bet  0.5375722543352601 / CalcuAcc 0.58\n",
      "profit in %/bet: 0.48\n",
      "einsatz * 1+profit% ^ # wetten 2279.68\n",
      "\n",
      "\n",
      "Threshold of: 0.52\n",
      "              precision    recall  f1-score   support\n",
      "\n",
      "         0.0       0.67      0.50      0.57        62\n",
      "         1.0       0.56      0.73      0.63        55\n",
      "\n",
      "    accuracy                           0.61       117\n",
      "   macro avg       0.62      0.61      0.60       117\n",
      "weighted avg       0.62      0.61      0.60       117\n",
      "\n",
      "prestake profit-loss 0.90 x\n",
      "\n",
      "Entire Period:\n",
      "einsatz 117000 TotReturn: 841 / Profit:  1900 / Loss:  995 / TransCosts:  63 / CalcAccuracy 0.61 / #CorrectPreds: 71 Of 117\n",
      "einsatz/bet 1000.0 TotReturn / bet 7.188034188034188 / TranCosts / bet  0.5384615384615384 / CalcuAcc 0.61\n",
      "profit in %/bet: 0.72\n",
      "einsatz * 1+profit% ^ # wetten 2311.72\n",
      "\n",
      "\n",
      "Threshold of: 0.53\n",
      "              precision    recall  f1-score   support\n",
      "\n",
      "         0.0       0.68      0.50      0.58        34\n",
      "         1.0       0.60      0.76      0.68        34\n",
      "\n",
      "    accuracy                           0.63        68\n",
      "   macro avg       0.64      0.63      0.63        68\n",
      "weighted avg       0.64      0.63      0.63        68\n",
      "\n",
      "prestake profit-loss 0.60 x\n",
      "\n",
      "Entire Period:\n",
      "einsatz 68000 TotReturn: 563 / Profit:  1049 / Loss:  449 / TransCosts:  36 / CalcAccuracy 0.63 / #CorrectPreds: 43 Of 68\n",
      "einsatz/bet 1000.0 TotReturn / bet 8.279411764705882 / TranCosts / bet  0.5294117647058824 / CalcuAcc 0.63\n",
      "profit in %/bet: 0.83\n",
      "einsatz * 1+profit% ^ # wetten 1751.87\n",
      "\n",
      "\n",
      "\n",
      "\n",
      "Run: 6\n",
      "[[55 61]\n",
      " [38 84]]\n",
      "Threshold of: 0.5\n",
      "              precision    recall  f1-score   support\n",
      "\n",
      "         0.0       0.59      0.47      0.53       116\n",
      "         1.0       0.58      0.69      0.63       122\n",
      "\n",
      "    accuracy                           0.58       238\n",
      "   macro avg       0.59      0.58      0.58       238\n",
      "weighted avg       0.59      0.58      0.58       238\n",
      "\n",
      "prestake profit-loss 1.32 x\n",
      "\n",
      "Entire Period:\n",
      "einsatz 238000 TotReturn: 1190 / Profit:  3520 / Loss:  2201 / TransCosts:  128 / CalcAccuracy 0.58 / #CorrectPreds: 139 Of 238\n",
      "einsatz/bet 1000.0 TotReturn / bet 5.0 / TranCosts / bet  0.5378151260504201 / CalcuAcc 0.58\n",
      "profit in %/bet: 0.50\n",
      "einsatz * 1+profit% ^ # wetten 3277.35\n",
      "\n",
      "\n",
      "Threshold of: 0.51\n",
      "              precision    recall  f1-score   support\n",
      "\n",
      "         0.0       0.66      0.46      0.54        80\n",
      "         1.0       0.61      0.78      0.68        86\n",
      "\n",
      "    accuracy                           0.63       166\n",
      "   macro avg       0.63      0.62      0.61       166\n",
      "weighted avg       0.63      0.63      0.62       166\n",
      "\n",
      "prestake profit-loss 1.04 x\n",
      "\n",
      "Entire Period:\n",
      "einsatz 166000 TotReturn: 950 / Profit:  2609 / Loss:  1569 / TransCosts:  89 / CalcAccuracy 0.63 / #CorrectPreds: 104 Of 166\n",
      "einsatz/bet 1000.0 TotReturn / bet 5.72289156626506 / TranCosts / bet  0.536144578313253 / CalcuAcc 0.63\n",
      "profit in %/bet: 0.57\n",
      "einsatz * 1+profit% ^ # wetten 2578.72\n",
      "\n",
      "\n",
      "Threshold of: 0.52\n",
      "              precision    recall  f1-score   support\n",
      "\n",
      "         0.0       0.66      0.40      0.50        57\n",
      "         1.0       0.60      0.81      0.68        62\n",
      "\n",
      "    accuracy                           0.61       119\n",
      "   macro avg       0.63      0.60      0.59       119\n",
      "weighted avg       0.62      0.61      0.60       119\n",
      "\n",
      "prestake profit-loss 0.90 x\n",
      "\n",
      "Entire Period:\n",
      "einsatz 119000 TotReturn: 838 / Profit:  1782 / Loss:  880 / TransCosts:  64 / CalcAccuracy 0.61 / #CorrectPreds: 73 Of 119\n",
      "einsatz/bet 1000.0 TotReturn / bet 7.042016806722689 / TranCosts / bet  0.5378151260504201 / CalcuAcc 0.61\n",
      "profit in %/bet: 0.70\n",
      "einsatz * 1+profit% ^ # wetten 2304.96\n",
      "\n",
      "\n",
      "Threshold of: 0.53\n",
      "              precision    recall  f1-score   support\n",
      "\n",
      "         0.0       0.82      0.42      0.56        33\n",
      "         1.0       0.59      0.90      0.71        30\n",
      "\n",
      "    accuracy                           0.65        63\n",
      "   macro avg       0.71      0.66      0.64        63\n",
      "weighted avg       0.71      0.65      0.63        63\n",
      "\n",
      "prestake profit-loss 0.66 x\n",
      "\n",
      "Entire Period:\n",
      "einsatz 63000 TotReturn: 623 / Profit:  1079 / Loss:  422 / TransCosts:  34 / CalcAccuracy 0.65 / #CorrectPreds: 41 Of 63\n",
      "einsatz/bet 1000.0 TotReturn / bet 9.88888888888889 / TranCosts / bet  0.5396825396825397 / CalcuAcc 0.65\n",
      "profit in %/bet: 0.99\n",
      "einsatz * 1+profit% ^ # wetten 1858.82\n",
      "\n",
      "\n",
      "\n",
      "\n",
      "Run: 7\n"
     ]
    },
    {
     "name": "stdout",
     "output_type": "stream",
     "text": [
      "[[56 60]\n",
      " [39 83]]\n",
      "Threshold of: 0.5\n",
      "              precision    recall  f1-score   support\n",
      "\n",
      "         0.0       0.59      0.48      0.53       116\n",
      "         1.0       0.58      0.68      0.63       122\n",
      "\n",
      "    accuracy                           0.58       238\n",
      "   macro avg       0.58      0.58      0.58       238\n",
      "weighted avg       0.58      0.58      0.58       238\n",
      "\n",
      "prestake profit-loss 1.28 x\n",
      "\n",
      "Entire Period:\n",
      "einsatz 238000 TotReturn: 1156 / Profit:  3503 / Loss:  2219 / TransCosts:  128 / CalcAccuracy 0.58 / #CorrectPreds: 139 Of 238\n",
      "einsatz/bet 1000.0 TotReturn / bet 4.857142857142857 / TranCosts / bet  0.5378151260504201 / CalcuAcc 0.58\n",
      "profit in %/bet: 0.49\n",
      "einsatz * 1+profit% ^ # wetten 3168.32\n",
      "\n",
      "\n",
      "Threshold of: 0.51\n",
      "              precision    recall  f1-score   support\n",
      "\n",
      "         0.0       0.64      0.43      0.52        90\n",
      "         1.0       0.57      0.76      0.65        91\n",
      "\n",
      "    accuracy                           0.60       181\n",
      "   macro avg       0.61      0.60      0.59       181\n",
      "weighted avg       0.61      0.60      0.59       181\n",
      "\n",
      "prestake profit-loss 1.04 x\n",
      "\n",
      "Entire Period:\n",
      "einsatz 181000 TotReturn: 947 / Profit:  2771 / Loss:  1727 / TransCosts:  97 / CalcAccuracy 0.6 / #CorrectPreds: 108 Of 181\n",
      "einsatz/bet 1000.0 TotReturn / bet 5.232044198895028 / TranCosts / bet  0.5359116022099447 / CalcuAcc 0.6\n",
      "profit in %/bet: 0.52\n",
      "einsatz * 1+profit% ^ # wetten 2571.61\n",
      "\n",
      "\n",
      "Threshold of: 0.52\n",
      "              precision    recall  f1-score   support\n",
      "\n",
      "         0.0       0.63      0.48      0.55        56\n",
      "         1.0       0.64      0.76      0.70        68\n",
      "\n",
      "    accuracy                           0.64       124\n",
      "   macro avg       0.63      0.62      0.62       124\n",
      "weighted avg       0.64      0.64      0.63       124\n",
      "\n",
      "prestake profit-loss 1.32 x\n",
      "\n",
      "Entire Period:\n",
      "einsatz 124000 TotReturn: 1255 / Profit:  2230 / Loss:  908 / TransCosts:  66 / CalcAccuracy 0.64 / #CorrectPreds: 79 Of 124\n",
      "einsatz/bet 1000.0 TotReturn / bet 10.120967741935484 / TranCosts / bet  0.532258064516129 / CalcuAcc 0.64\n",
      "profit in %/bet: 1.01\n",
      "einsatz * 1+profit% ^ # wetten 3485.78\n",
      "\n",
      "\n",
      "Threshold of: 0.53\n",
      "              precision    recall  f1-score   support\n",
      "\n",
      "         0.0       0.68      0.53      0.59        40\n",
      "         1.0       0.61      0.75      0.67        40\n",
      "\n",
      "    accuracy                           0.64        80\n",
      "   macro avg       0.64      0.64      0.63        80\n",
      "weighted avg       0.64      0.64      0.63        80\n",
      "\n",
      "prestake profit-loss 0.85 x\n",
      "\n",
      "Entire Period:\n",
      "einsatz 80000 TotReturn: 806 / Profit:  1337 / Loss:  487 / TransCosts:  43 / CalcAccuracy 0.64 / #CorrectPreds: 51 Of 80\n",
      "einsatz/bet 1000.0 TotReturn / bet 10.075 / TranCosts / bet  0.5375 / CalcuAcc 0.64\n",
      "profit in %/bet: 1.01\n",
      "einsatz * 1+profit% ^ # wetten 2229.92\n",
      "\n",
      "\n",
      "\n",
      "\n",
      "Run: 8\n",
      "[[57 59]\n",
      " [37 85]]\n",
      "Threshold of: 0.5\n",
      "              precision    recall  f1-score   support\n",
      "\n",
      "         0.0       0.61      0.49      0.54       116\n",
      "         1.0       0.59      0.70      0.64       122\n",
      "\n",
      "    accuracy                           0.60       238\n",
      "   macro avg       0.60      0.59      0.59       238\n",
      "weighted avg       0.60      0.60      0.59       238\n",
      "\n",
      "prestake profit-loss 1.48 x\n",
      "\n",
      "Entire Period:\n",
      "einsatz 238000 TotReturn: 1351 / Profit:  3601 / Loss:  2121 / TransCosts:  128 / CalcAccuracy 0.6 / #CorrectPreds: 142 Of 238\n",
      "einsatz/bet 1000.0 TotReturn / bet 5.676470588235294 / TranCosts / bet  0.5378151260504201 / CalcuAcc 0.6\n",
      "profit in %/bet: 0.57\n",
      "einsatz * 1+profit% ^ # wetten 3846.56\n",
      "\n",
      "\n",
      "Threshold of: 0.51\n",
      "              precision    recall  f1-score   support\n",
      "\n",
      "         0.0       0.67      0.51      0.58        87\n",
      "         1.0       0.61      0.76      0.68        90\n",
      "\n",
      "    accuracy                           0.63       177\n",
      "   macro avg       0.64      0.63      0.63       177\n",
      "weighted avg       0.64      0.63      0.63       177\n",
      "\n",
      "prestake profit-loss 1.18 x\n",
      "\n",
      "Entire Period:\n",
      "einsatz 177000 TotReturn: 1082 / Profit:  2616 / Loss:  1438 / TransCosts:  95 / CalcAccuracy 0.63 / #CorrectPreds: 112 Of 177\n",
      "einsatz/bet 1000.0 TotReturn / bet 6.112994350282486 / TranCosts / bet  0.536723163841808 / CalcuAcc 0.63\n",
      "profit in %/bet: 0.61\n",
      "einsatz * 1+profit% ^ # wetten 2940.87\n",
      "\n",
      "\n",
      "Threshold of: 0.52\n",
      "              precision    recall  f1-score   support\n",
      "\n",
      "         0.0       0.66      0.51      0.57        61\n",
      "         1.0       0.61      0.75      0.67        63\n",
      "\n",
      "    accuracy                           0.63       124\n",
      "   macro avg       0.63      0.63      0.62       124\n",
      "weighted avg       0.63      0.63      0.62       124\n",
      "\n",
      "prestake profit-loss 1.20 x\n",
      "\n",
      "Entire Period:\n",
      "einsatz 124000 TotReturn: 1132 / Profit:  2004 / Loss:  805 / TransCosts:  66 / CalcAccuracy 0.63 / #CorrectPreds: 78 Of 124\n",
      "einsatz/bet 1000.0 TotReturn / bet 9.129032258064516 / TranCosts / bet  0.532258064516129 / CalcuAcc 0.63\n",
      "profit in %/bet: 0.91\n",
      "einsatz * 1+profit% ^ # wetten 3085.96\n",
      "\n",
      "\n",
      "Threshold of: 0.53\n",
      "              precision    recall  f1-score   support\n",
      "\n",
      "         0.0       0.70      0.53      0.61        43\n",
      "         1.0       0.62      0.77      0.69        43\n",
      "\n",
      "    accuracy                           0.65        86\n",
      "   macro avg       0.66      0.65      0.65        86\n",
      "weighted avg       0.66      0.65      0.65        86\n",
      "\n",
      "prestake profit-loss 0.70 x\n",
      "\n",
      "Entire Period:\n",
      "einsatz 86000 TotReturn: 653 / Profit:  1199 / Loss:  499 / TransCosts:  46 / CalcAccuracy 0.65 / #CorrectPreds: 56 Of 86\n",
      "einsatz/bet 1000.0 TotReturn / bet 7.593023255813954 / TranCosts / bet  0.5348837209302325 / CalcuAcc 0.65\n",
      "profit in %/bet: 0.76\n",
      "einsatz * 1+profit% ^ # wetten 1916.56\n",
      "\n",
      "\n",
      "\n",
      "\n",
      "Run: 9\n",
      "[[60 56]\n",
      " [41 81]]\n",
      "Threshold of: 0.5\n",
      "              precision    recall  f1-score   support\n",
      "\n",
      "         0.0       0.59      0.52      0.55       116\n",
      "         1.0       0.59      0.66      0.63       122\n",
      "\n",
      "    accuracy                           0.59       238\n",
      "   macro avg       0.59      0.59      0.59       238\n",
      "weighted avg       0.59      0.59      0.59       238\n",
      "\n",
      "prestake profit-loss 1.42 x\n",
      "\n",
      "Entire Period:\n",
      "einsatz 238000 TotReturn: 1292 / Profit:  3572 / Loss:  2150 / TransCosts:  128 / CalcAccuracy 0.59 / #CorrectPreds: 141 Of 238\n",
      "einsatz/bet 1000.0 TotReturn / bet 5.428571428571429 / TranCosts / bet  0.5378151260504201 / CalcuAcc 0.59\n",
      "profit in %/bet: 0.54\n",
      "einsatz * 1+profit% ^ # wetten 3627.36\n",
      "\n",
      "\n",
      "Threshold of: 0.51\n",
      "              precision    recall  f1-score   support\n",
      "\n",
      "         0.0       0.65      0.50      0.56        88\n",
      "         1.0       0.59      0.72      0.65        87\n",
      "\n",
      "    accuracy                           0.61       175\n",
      "   macro avg       0.62      0.61      0.61       175\n",
      "weighted avg       0.62      0.61      0.61       175\n",
      "\n",
      "prestake profit-loss 1.17 x\n",
      "\n",
      "Entire Period:\n",
      "einsatz 175000 TotReturn: 1076 / Profit:  2628 / Loss:  1457 / TransCosts:  94 / CalcAccuracy 0.61 / #CorrectPreds: 107 Of 175\n",
      "einsatz/bet 1000.0 TotReturn / bet 6.148571428571429 / TranCosts / bet  0.5371428571428571 / CalcuAcc 0.61\n",
      "profit in %/bet: 0.61\n",
      "einsatz * 1+profit% ^ # wetten 2923.28\n",
      "\n",
      "\n",
      "Threshold of: 0.52\n",
      "              precision    recall  f1-score   support\n",
      "\n",
      "         0.0       0.70      0.52      0.59        62\n",
      "         1.0       0.58      0.75      0.66        56\n",
      "\n",
      "    accuracy                           0.63       118\n",
      "   macro avg       0.64      0.63      0.62       118\n",
      "weighted avg       0.64      0.63      0.62       118\n",
      "\n",
      "prestake profit-loss 0.87 x\n",
      "\n",
      "Entire Period:\n",
      "einsatz 118000 TotReturn: 807 / Profit:  1671 / Loss:  800 / TransCosts:  63 / CalcAccuracy 0.63 / #CorrectPreds: 74 Of 118\n",
      "einsatz/bet 1000.0 TotReturn / bet 6.838983050847458 / TranCosts / bet  0.5338983050847458 / CalcuAcc 0.63\n",
      "profit in %/bet: 0.68\n",
      "einsatz * 1+profit% ^ # wetten 2235.03\n",
      "\n",
      "\n",
      "Threshold of: 0.53\n",
      "              precision    recall  f1-score   support\n",
      "\n",
      "         0.0       0.73      0.65      0.69        34\n",
      "         1.0       0.69      0.77      0.73        35\n",
      "\n",
      "    accuracy                           0.71        69\n",
      "   macro avg       0.71      0.71      0.71        69\n",
      "weighted avg       0.71      0.71      0.71        69\n",
      "\n",
      "prestake profit-loss 0.68 x\n",
      "\n",
      "Entire Period:\n",
      "einsatz 69000 TotReturn: 643 / Profit:  1058 / Loss:  378 / TransCosts:  37 / CalcAccuracy 0.71 / #CorrectPreds: 49 Of 69\n",
      "einsatz/bet 1000.0 TotReturn / bet 9.318840579710145 / TranCosts / bet  0.5362318840579711 / CalcuAcc 0.71\n",
      "profit in %/bet: 0.93\n",
      "einsatz * 1+profit% ^ # wetten 1896.52\n",
      "\n",
      "\n",
      "\n",
      "\n",
      "Run: 10\n"
     ]
    },
    {
     "name": "stdout",
     "output_type": "stream",
     "text": [
      "[[58 58]\n",
      " [34 88]]\n",
      "Threshold of: 0.5\n",
      "              precision    recall  f1-score   support\n",
      "\n",
      "         0.0       0.63      0.50      0.56       116\n",
      "         1.0       0.60      0.72      0.66       122\n",
      "\n",
      "    accuracy                           0.61       238\n",
      "   macro avg       0.62      0.61      0.61       238\n",
      "weighted avg       0.62      0.61      0.61       238\n",
      "\n",
      "prestake profit-loss 1.38 x\n",
      "\n",
      "Entire Period:\n",
      "einsatz 238000 TotReturn: 1254 / Profit:  3552 / Loss:  2169 / TransCosts:  128 / CalcAccuracy 0.61 / #CorrectPreds: 146 Of 238\n",
      "einsatz/bet 1000.0 TotReturn / bet 5.26890756302521 / TranCosts / bet  0.5378151260504201 / CalcuAcc 0.61\n",
      "profit in %/bet: 0.53\n",
      "einsatz * 1+profit% ^ # wetten 3492.81\n",
      "\n",
      "\n",
      "Threshold of: 0.51\n",
      "              precision    recall  f1-score   support\n",
      "\n",
      "         0.0       0.64      0.44      0.52        89\n",
      "         1.0       0.58      0.76      0.66        92\n",
      "\n",
      "    accuracy                           0.60       181\n",
      "   macro avg       0.61      0.60      0.59       181\n",
      "weighted avg       0.61      0.60      0.59       181\n",
      "\n",
      "prestake profit-loss 1.24 x\n",
      "\n",
      "Entire Period:\n",
      "einsatz 181000 TotReturn: 1143 / Profit:  2853 / Loss:  1612 / TransCosts:  97 / CalcAccuracy 0.6 / #CorrectPreds: 109 Of 181\n",
      "einsatz/bet 1000.0 TotReturn / bet 6.314917127071824 / TranCosts / bet  0.5359116022099447 / CalcuAcc 0.6\n",
      "profit in %/bet: 0.63\n",
      "einsatz * 1+profit% ^ # wetten 3124.91\n",
      "\n",
      "\n",
      "Threshold of: 0.52\n",
      "              precision    recall  f1-score   support\n",
      "\n",
      "         0.0       0.67      0.49      0.57        63\n",
      "         1.0       0.62      0.78      0.69        67\n",
      "\n",
      "    accuracy                           0.64       130\n",
      "   macro avg       0.65      0.63      0.63       130\n",
      "weighted avg       0.65      0.64      0.63       130\n",
      "\n",
      "prestake profit-loss 1.13 x\n",
      "\n",
      "Entire Period:\n",
      "einsatz 130000 TotReturn: 1060 / Profit:  2081 / Loss:  950 / TransCosts:  70 / CalcAccuracy 0.64 / #CorrectPreds: 83 Of 130\n",
      "einsatz/bet 1000.0 TotReturn / bet 8.153846153846153 / TranCosts / bet  0.5384615384615384 / CalcuAcc 0.64\n",
      "profit in %/bet: 0.82\n",
      "einsatz * 1+profit% ^ # wetten 2873.99\n",
      "\n",
      "\n",
      "Threshold of: 0.53\n",
      "              precision    recall  f1-score   support\n",
      "\n",
      "         0.0       0.70      0.50      0.58        32\n",
      "         1.0       0.71      0.85      0.78        47\n",
      "\n",
      "    accuracy                           0.71        79\n",
      "   macro avg       0.70      0.68      0.68        79\n",
      "weighted avg       0.71      0.71      0.70        79\n",
      "\n",
      "prestake profit-loss 0.87 x\n",
      "\n",
      "Entire Period:\n",
      "einsatz 79000 TotReturn: 829 / Profit:  1203 / Loss:  331 / TransCosts:  42 / CalcAccuracy 0.71 / #CorrectPreds: 56 Of 79\n",
      "einsatz/bet 1000.0 TotReturn / bet 10.49367088607595 / TranCosts / bet  0.5316455696202531 / CalcuAcc 0.71\n",
      "profit in %/bet: 1.05\n",
      "einsatz * 1+profit% ^ # wetten 2281.15\n",
      "\n",
      "\n",
      "\n",
      "\n",
      "Run: 11\n",
      "[[54 62]\n",
      " [33 89]]\n",
      "Threshold of: 0.5\n",
      "              precision    recall  f1-score   support\n",
      "\n",
      "         0.0       0.62      0.47      0.53       116\n",
      "         1.0       0.59      0.73      0.65       122\n",
      "\n",
      "    accuracy                           0.60       238\n",
      "   macro avg       0.61      0.60      0.59       238\n",
      "weighted avg       0.60      0.60      0.59       238\n",
      "\n",
      "prestake profit-loss 1.80 x\n",
      "\n",
      "Entire Period:\n",
      "einsatz 238000 TotReturn: 1672 / Profit:  3761 / Loss:  1960 / TransCosts:  128 / CalcAccuracy 0.6 / #CorrectPreds: 143 Of 238\n",
      "einsatz/bet 1000.0 TotReturn / bet 7.025210084033613 / TranCosts / bet  0.5378151260504201 / CalcuAcc 0.6\n",
      "profit in %/bet: 0.70\n",
      "einsatz * 1+profit% ^ # wetten 5291.78\n",
      "\n",
      "\n",
      "Threshold of: 0.51\n",
      "              precision    recall  f1-score   support\n",
      "\n",
      "         0.0       0.64      0.42      0.51        85\n",
      "         1.0       0.60      0.78      0.68        92\n",
      "\n",
      "    accuracy                           0.61       177\n",
      "   macro avg       0.62      0.60      0.59       177\n",
      "weighted avg       0.62      0.61      0.60       177\n",
      "\n",
      "prestake profit-loss 1.19 x\n",
      "\n",
      "Entire Period:\n",
      "einsatz 177000 TotReturn: 1097 / Profit:  2677 / Loss:  1484 / TransCosts:  95 / CalcAccuracy 0.61 / #CorrectPreds: 108 Of 177\n",
      "einsatz/bet 1000.0 TotReturn / bet 6.19774011299435 / TranCosts / bet  0.536723163841808 / CalcuAcc 0.61\n",
      "profit in %/bet: 0.62\n",
      "einsatz * 1+profit% ^ # wetten 2985.04\n",
      "\n",
      "\n",
      "Threshold of: 0.52\n",
      "              precision    recall  f1-score   support\n",
      "\n",
      "         0.0       0.68      0.37      0.48        67\n",
      "         1.0       0.56      0.82      0.67        66\n",
      "\n",
      "    accuracy                           0.59       133\n",
      "   macro avg       0.62      0.60      0.57       133\n",
      "weighted avg       0.62      0.59      0.57       133\n",
      "\n",
      "prestake profit-loss 0.65 x\n",
      "\n",
      "Entire Period:\n",
      "einsatz 133000 TotReturn: 582 / Profit:  1749 / Loss:  1094 / TransCosts:  71 / CalcAccuracy 0.59 / #CorrectPreds: 79 Of 133\n",
      "einsatz/bet 1000.0 TotReturn / bet 4.37593984962406 / TranCosts / bet  0.5338345864661654 / CalcuAcc 0.59\n",
      "profit in %/bet: 0.44\n",
      "einsatz * 1+profit% ^ # wetten 1787.34\n",
      "\n",
      "\n",
      "Threshold of: 0.53\n",
      "              precision    recall  f1-score   support\n",
      "\n",
      "         0.0       0.71      0.37      0.48        41\n",
      "         1.0       0.58      0.86      0.69        42\n",
      "\n",
      "    accuracy                           0.61        83\n",
      "   macro avg       0.65      0.61      0.59        83\n",
      "weighted avg       0.65      0.61      0.59        83\n",
      "\n",
      "prestake profit-loss 0.45 x\n",
      "\n",
      "Entire Period:\n",
      "einsatz 83000 TotReturn: 407 / Profit:  1042 / Loss:  590 / TransCosts:  44 / CalcAccuracy 0.61 / #CorrectPreds: 51 Of 83\n",
      "einsatz/bet 1000.0 TotReturn / bet 4.903614457831325 / TranCosts / bet  0.5301204819277109 / CalcuAcc 0.61\n",
      "profit in %/bet: 0.49\n",
      "einsatz * 1+profit% ^ # wetten 1500.81\n",
      "\n",
      "\n",
      "\n",
      "\n",
      "Run: 12\n",
      "[[58 58]\n",
      " [41 81]]\n",
      "Threshold of: 0.5\n",
      "              precision    recall  f1-score   support\n",
      "\n",
      "         0.0       0.59      0.50      0.54       116\n",
      "         1.0       0.58      0.66      0.62       122\n",
      "\n",
      "    accuracy                           0.58       238\n",
      "   macro avg       0.58      0.58      0.58       238\n",
      "weighted avg       0.58      0.58      0.58       238\n",
      "\n",
      "prestake profit-loss 1.35 x\n",
      "\n",
      "Entire Period:\n",
      "einsatz 238000 TotReturn: 1222 / Profit:  3537 / Loss:  2185 / TransCosts:  128 / CalcAccuracy 0.58 / #CorrectPreds: 139 Of 238\n",
      "einsatz/bet 1000.0 TotReturn / bet 5.1344537815126055 / TranCosts / bet  0.5378151260504201 / CalcuAcc 0.58\n",
      "profit in %/bet: 0.51\n",
      "einsatz * 1+profit% ^ # wetten 3383.37\n",
      "\n",
      "\n",
      "Threshold of: 0.51\n",
      "              precision    recall  f1-score   support\n",
      "\n",
      "         0.0       0.58      0.50      0.54        84\n",
      "         1.0       0.58      0.66      0.61        87\n",
      "\n",
      "    accuracy                           0.58       171\n",
      "   macro avg       0.58      0.58      0.58       171\n",
      "weighted avg       0.58      0.58      0.58       171\n",
      "\n",
      "prestake profit-loss 1.18 x\n",
      "\n",
      "Entire Period:\n",
      "einsatz 171000 TotReturn: 1092 / Profit:  2702 / Loss:  1517 / TransCosts:  92 / CalcAccuracy 0.58 / #CorrectPreds: 99 Of 171\n",
      "einsatz/bet 1000.0 TotReturn / bet 6.385964912280702 / TranCosts / bet  0.5380116959064327 / CalcuAcc 0.58\n",
      "profit in %/bet: 0.64\n",
      "einsatz * 1+profit% ^ # wetten 2969.90\n",
      "\n",
      "\n",
      "Threshold of: 0.52\n",
      "              precision    recall  f1-score   support\n",
      "\n",
      "         0.0       0.67      0.52      0.58        60\n",
      "         1.0       0.60      0.74      0.66        58\n",
      "\n",
      "    accuracy                           0.63       118\n",
      "   macro avg       0.64      0.63      0.62       118\n",
      "weighted avg       0.64      0.63      0.62       118\n",
      "\n",
      "prestake profit-loss 0.84 x\n",
      "\n",
      "Entire Period:\n",
      "einsatz 118000 TotReturn: 780 / Profit:  1759 / Loss:  914 / TransCosts:  63 / CalcAccuracy 0.63 / #CorrectPreds: 74 Of 118\n",
      "einsatz/bet 1000.0 TotReturn / bet 6.610169491525424 / TranCosts / bet  0.5338983050847458 / CalcuAcc 0.63\n",
      "profit in %/bet: 0.66\n",
      "einsatz * 1+profit% ^ # wetten 2175.88\n",
      "\n",
      "\n",
      "Threshold of: 0.53\n",
      "              precision    recall  f1-score   support\n",
      "\n",
      "         0.0       0.75      0.55      0.64        38\n",
      "         1.0       0.61      0.79      0.69        34\n",
      "\n",
      "    accuracy                           0.67        72\n",
      "   macro avg       0.68      0.67      0.66        72\n",
      "weighted avg       0.69      0.67      0.66        72\n",
      "\n",
      "prestake profit-loss 0.86 x\n",
      "\n",
      "Entire Period:\n",
      "einsatz 72000 TotReturn: 822 / Profit:  1290 / Loss:  428 / TransCosts:  38 / CalcAccuracy 0.67 / #CorrectPreds: 48 Of 72\n",
      "einsatz/bet 1000.0 TotReturn / bet 11.416666666666666 / TranCosts / bet  0.5277777777777778 / CalcuAcc 0.67\n",
      "profit in %/bet: 1.14\n",
      "einsatz * 1+profit% ^ # wetten 2264.48\n",
      "\n",
      "\n",
      "\n",
      "\n",
      "Run: 13\n"
     ]
    },
    {
     "name": "stdout",
     "output_type": "stream",
     "text": [
      "[[61 55]\n",
      " [45 77]]\n",
      "Threshold of: 0.5\n",
      "              precision    recall  f1-score   support\n",
      "\n",
      "         0.0       0.58      0.53      0.55       116\n",
      "         1.0       0.58      0.63      0.61       122\n",
      "\n",
      "    accuracy                           0.58       238\n",
      "   macro avg       0.58      0.58      0.58       238\n",
      "weighted avg       0.58      0.58      0.58       238\n",
      "\n",
      "prestake profit-loss 1.23 x\n",
      "\n",
      "Entire Period:\n",
      "einsatz 238000 TotReturn: 1102 / Profit:  3476 / Loss:  2246 / TransCosts:  128 / CalcAccuracy 0.58 / #CorrectPreds: 138 Of 238\n",
      "einsatz/bet 1000.0 TotReturn / bet 4.630252100840337 / TranCosts / bet  0.5378151260504201 / CalcuAcc 0.58\n",
      "profit in %/bet: 0.46\n",
      "einsatz * 1+profit% ^ # wetten 3002.53\n",
      "\n",
      "\n",
      "Threshold of: 0.51\n",
      "              precision    recall  f1-score   support\n",
      "\n",
      "         0.0       0.64      0.52      0.57        91\n",
      "         1.0       0.60      0.71      0.65        91\n",
      "\n",
      "    accuracy                           0.62       182\n",
      "   macro avg       0.62      0.62      0.61       182\n",
      "weighted avg       0.62      0.62      0.61       182\n",
      "\n",
      "prestake profit-loss 1.13 x\n",
      "\n",
      "Entire Period:\n",
      "einsatz 182000 TotReturn: 1031 / Profit:  2644 / Loss:  1514 / TransCosts:  98 / CalcAccuracy 0.62 / #CorrectPreds: 112 Of 182\n",
      "einsatz/bet 1000.0 TotReturn / bet 5.664835164835165 / TranCosts / bet  0.5384615384615384 / CalcuAcc 0.62\n",
      "profit in %/bet: 0.57\n",
      "einsatz * 1+profit% ^ # wetten 2795.72\n",
      "\n",
      "\n",
      "Threshold of: 0.52\n",
      "              precision    recall  f1-score   support\n",
      "\n",
      "         0.0       0.76      0.62      0.68        61\n",
      "         1.0       0.68      0.80      0.74        61\n",
      "\n",
      "    accuracy                           0.71       122\n",
      "   macro avg       0.72      0.71      0.71       122\n",
      "weighted avg       0.72      0.71      0.71       122\n",
      "\n",
      "prestake profit-loss 1.40 x\n",
      "\n",
      "Entire Period:\n",
      "einsatz 122000 TotReturn: 1331 / Profit:  2113 / Loss:  715 / TransCosts:  65 / CalcAccuracy 0.71 / #CorrectPreds: 87 Of 122\n",
      "einsatz/bet 1000.0 TotReturn / bet 10.90983606557377 / TranCosts / bet  0.5327868852459017 / CalcuAcc 0.71\n",
      "profit in %/bet: 1.09\n",
      "einsatz * 1+profit% ^ # wetten 3757.64\n",
      "\n",
      "\n",
      "Threshold of: 0.53\n",
      "              precision    recall  f1-score   support\n",
      "\n",
      "         0.0       0.75      0.64      0.69        42\n",
      "         1.0       0.63      0.74      0.68        35\n",
      "\n",
      "    accuracy                           0.69        77\n",
      "   macro avg       0.69      0.69      0.69        77\n",
      "weighted avg       0.70      0.69      0.69        77\n",
      "\n",
      "prestake profit-loss 0.86 x\n",
      "\n",
      "Entire Period:\n",
      "einsatz 77000 TotReturn: 815 / Profit:  1238 / Loss:  381 / TransCosts:  41 / CalcAccuracy 0.69 / #CorrectPreds: 53 Of 77\n",
      "einsatz/bet 1000.0 TotReturn / bet 10.584415584415584 / TranCosts / bet  0.5324675324675324 / CalcuAcc 0.69\n",
      "profit in %/bet: 1.06\n",
      "einsatz * 1+profit% ^ # wetten 2249.52\n",
      "\n",
      "\n",
      "\n",
      "\n",
      "Run: 14\n",
      "[[60 56]\n",
      " [42 80]]\n",
      "Threshold of: 0.5\n",
      "              precision    recall  f1-score   support\n",
      "\n",
      "         0.0       0.59      0.52      0.55       116\n",
      "         1.0       0.59      0.66      0.62       122\n",
      "\n",
      "    accuracy                           0.59       238\n",
      "   macro avg       0.59      0.59      0.59       238\n",
      "weighted avg       0.59      0.59      0.59       238\n",
      "\n",
      "prestake profit-loss 1.35 x\n",
      "\n",
      "Entire Period:\n",
      "einsatz 238000 TotReturn: 1217 / Profit:  3534 / Loss:  2188 / TransCosts:  128 / CalcAccuracy 0.59 / #CorrectPreds: 140 Of 238\n",
      "einsatz/bet 1000.0 TotReturn / bet 5.11344537815126 / TranCosts / bet  0.5378151260504201 / CalcuAcc 0.59\n",
      "profit in %/bet: 0.51\n",
      "einsatz * 1+profit% ^ # wetten 3366.59\n",
      "\n",
      "\n",
      "Threshold of: 0.51\n",
      "              precision    recall  f1-score   support\n",
      "\n",
      "         0.0       0.67      0.56      0.61        87\n",
      "         1.0       0.62      0.72      0.66        85\n",
      "\n",
      "    accuracy                           0.64       172\n",
      "   macro avg       0.64      0.64      0.64       172\n",
      "weighted avg       0.64      0.64      0.64       172\n",
      "\n",
      "prestake profit-loss 1.56 x\n",
      "\n",
      "Entire Period:\n",
      "einsatz 172000 TotReturn: 1468 / Profit:  2809 / Loss:  1247 / TransCosts:  92 / CalcAccuracy 0.64 / #CorrectPreds: 110 Of 172\n",
      "einsatz/bet 1000.0 TotReturn / bet 8.534883720930232 / TranCosts / bet  0.5348837209302325 / CalcuAcc 0.64\n",
      "profit in %/bet: 0.85\n",
      "einsatz * 1+profit% ^ # wetten 4313.59\n",
      "\n",
      "\n",
      "Threshold of: 0.52\n",
      "              precision    recall  f1-score   support\n",
      "\n",
      "         0.0       0.69      0.55      0.61        56\n",
      "         1.0       0.66      0.78      0.72        63\n",
      "\n",
      "    accuracy                           0.67       119\n",
      "   macro avg       0.68      0.67      0.66       119\n",
      "weighted avg       0.67      0.67      0.67       119\n",
      "\n",
      "prestake profit-loss 1.35 x\n",
      "\n",
      "Entire Period:\n",
      "einsatz 119000 TotReturn: 1289 / Profit:  2024 / Loss:  670 / TransCosts:  64 / CalcAccuracy 0.67 / #CorrectPreds: 80 Of 119\n",
      "einsatz/bet 1000.0 TotReturn / bet 10.831932773109244 / TranCosts / bet  0.5378151260504201 / CalcuAcc 0.67\n",
      "profit in %/bet: 1.08\n",
      "einsatz * 1+profit% ^ # wetten 3604.09\n",
      "\n",
      "\n",
      "Threshold of: 0.53\n",
      "              precision    recall  f1-score   support\n",
      "\n",
      "         0.0       0.74      0.66      0.69        38\n",
      "         1.0       0.65      0.73      0.69        33\n",
      "\n",
      "    accuracy                           0.69        71\n",
      "   macro avg       0.69      0.69      0.69        71\n",
      "weighted avg       0.70      0.69      0.69        71\n",
      "\n",
      "prestake profit-loss 0.76 x\n",
      "\n",
      "Entire Period:\n",
      "einsatz 71000 TotReturn: 726 / Profit:  1096 / Loss:  331 / TransCosts:  38 / CalcAccuracy 0.69 / #CorrectPreds: 49 Of 71\n",
      "einsatz/bet 1000.0 TotReturn / bet 10.225352112676056 / TranCosts / bet  0.5352112676056338 / CalcuAcc 0.69\n",
      "profit in %/bet: 1.02\n",
      "einsatz * 1+profit% ^ # wetten 2059.19\n",
      "\n",
      "\n",
      "\n",
      "\n",
      "Run: 15\n",
      "[[56 60]\n",
      " [42 80]]\n",
      "Threshold of: 0.5\n",
      "              precision    recall  f1-score   support\n",
      "\n",
      "         0.0       0.57      0.48      0.52       116\n",
      "         1.0       0.57      0.66      0.61       122\n",
      "\n",
      "    accuracy                           0.57       238\n",
      "   macro avg       0.57      0.57      0.57       238\n",
      "weighted avg       0.57      0.57      0.57       238\n",
      "\n",
      "prestake profit-loss 1.00 x\n",
      "\n",
      "Entire Period:\n",
      "einsatz 238000 TotReturn: 869 / Profit:  3360 / Loss:  2362 / TransCosts:  128 / CalcAccuracy 0.57 / #CorrectPreds: 136 Of 238\n",
      "einsatz/bet 1000.0 TotReturn / bet 3.6512605042016806 / TranCosts / bet  0.5378151260504201 / CalcuAcc 0.57\n",
      "profit in %/bet: 0.37\n",
      "einsatz * 1+profit% ^ # wetten 2380.75\n",
      "\n",
      "\n",
      "Threshold of: 0.51\n",
      "              precision    recall  f1-score   support\n",
      "\n",
      "         0.0       0.65      0.48      0.55        88\n",
      "         1.0       0.59      0.74      0.66        89\n",
      "\n",
      "    accuracy                           0.61       177\n",
      "   macro avg       0.62      0.61      0.60       177\n",
      "weighted avg       0.62      0.61      0.60       177\n",
      "\n",
      "prestake profit-loss 1.21 x\n",
      "\n",
      "Entire Period:\n",
      "einsatz 177000 TotReturn: 1116 / Profit:  2654 / Loss:  1443 / TransCosts:  95 / CalcAccuracy 0.61 / #CorrectPreds: 108 Of 177\n",
      "einsatz/bet 1000.0 TotReturn / bet 6.305084745762712 / TranCosts / bet  0.536723163841808 / CalcuAcc 0.61\n",
      "profit in %/bet: 0.63\n",
      "einsatz * 1+profit% ^ # wetten 3041.94\n",
      "\n",
      "\n",
      "Threshold of: 0.52\n",
      "              precision    recall  f1-score   support\n",
      "\n",
      "         0.0       0.73      0.51      0.60        69\n",
      "         1.0       0.56      0.77      0.65        56\n",
      "\n",
      "    accuracy                           0.62       125\n",
      "   macro avg       0.64      0.64      0.62       125\n",
      "weighted avg       0.65      0.62      0.62       125\n",
      "\n",
      "prestake profit-loss 0.98 x\n",
      "\n",
      "Entire Period:\n",
      "einsatz 125000 TotReturn: 911 / Profit:  1866 / Loss:  887 / TransCosts:  67 / CalcAccuracy 0.62 / #CorrectPreds: 78 Of 125\n",
      "einsatz/bet 1000.0 TotReturn / bet 7.288 / TranCosts / bet  0.536 / CalcuAcc 0.62\n",
      "profit in %/bet: 0.73\n",
      "einsatz * 1+profit% ^ # wetten 2478.61\n",
      "\n",
      "\n",
      "Threshold of: 0.53\n",
      "              precision    recall  f1-score   support\n",
      "\n",
      "         0.0       0.72      0.54      0.62        39\n",
      "         1.0       0.62      0.79      0.70        38\n",
      "\n",
      "    accuracy                           0.66        77\n",
      "   macro avg       0.67      0.66      0.66        77\n",
      "weighted avg       0.68      0.66      0.66        77\n",
      "\n",
      "prestake profit-loss 0.64 x\n",
      "\n",
      "Entire Period:\n",
      "einsatz 77000 TotReturn: 602 / Profit:  1119 / Loss:  475 / TransCosts:  41 / CalcAccuracy 0.66 / #CorrectPreds: 51 Of 77\n",
      "einsatz/bet 1000.0 TotReturn / bet 7.818181818181818 / TranCosts / bet  0.5324675324675324 / CalcuAcc 0.66\n",
      "profit in %/bet: 0.78\n",
      "einsatz * 1+profit% ^ # wetten 1821.50\n",
      "\n",
      "\n",
      "\n",
      "\n",
      "Run: 16\n"
     ]
    },
    {
     "name": "stdout",
     "output_type": "stream",
     "text": [
      "[[55 61]\n",
      " [40 82]]\n",
      "Threshold of: 0.5\n",
      "              precision    recall  f1-score   support\n",
      "\n",
      "         0.0       0.58      0.47      0.52       116\n",
      "         1.0       0.57      0.67      0.62       122\n",
      "\n",
      "    accuracy                           0.58       238\n",
      "   macro avg       0.58      0.57      0.57       238\n",
      "weighted avg       0.58      0.58      0.57       238\n",
      "\n",
      "prestake profit-loss 0.71 x\n",
      "\n",
      "Entire Period:\n",
      "einsatz 238000 TotReturn: 580 / Profit:  3216 / Loss:  2506 / TransCosts:  128 / CalcAccuracy 0.58 / #CorrectPreds: 137 Of 238\n",
      "einsatz/bet 1000.0 TotReturn / bet 2.436974789915966 / TranCosts / bet  0.5378151260504201 / CalcuAcc 0.58\n",
      "profit in %/bet: 0.24\n",
      "einsatz * 1+profit% ^ # wetten 1784.78\n",
      "\n",
      "\n",
      "Threshold of: 0.51\n",
      "              precision    recall  f1-score   support\n",
      "\n",
      "         0.0       0.61      0.49      0.54        88\n",
      "         1.0       0.58      0.69      0.63        91\n",
      "\n",
      "    accuracy                           0.59       179\n",
      "   macro avg       0.59      0.59      0.59       179\n",
      "weighted avg       0.59      0.59      0.59       179\n",
      "\n",
      "prestake profit-loss 0.99 x\n",
      "\n",
      "Entire Period:\n",
      "einsatz 179000 TotReturn: 891 / Profit:  2532 / Loss:  1544 / TransCosts:  96 / CalcAccuracy 0.59 / #CorrectPreds: 106 Of 179\n",
      "einsatz/bet 1000.0 TotReturn / bet 4.977653631284916 / TranCosts / bet  0.5363128491620112 / CalcuAcc 0.59\n",
      "profit in %/bet: 0.50\n",
      "einsatz * 1+profit% ^ # wetten 2432.18\n",
      "\n",
      "\n",
      "Threshold of: 0.52\n",
      "              precision    recall  f1-score   support\n",
      "\n",
      "         0.0       0.66      0.52      0.58        60\n",
      "         1.0       0.61      0.74      0.67        62\n",
      "\n",
      "    accuracy                           0.63       122\n",
      "   macro avg       0.64      0.63      0.63       122\n",
      "weighted avg       0.64      0.63      0.63       122\n",
      "\n",
      "prestake profit-loss 0.79 x\n",
      "\n",
      "Entire Period:\n",
      "einsatz 122000 TotReturn: 724 / Profit:  1745 / Loss:  955 / TransCosts:  65 / CalcAccuracy 0.63 / #CorrectPreds: 77 Of 122\n",
      "einsatz/bet 1000.0 TotReturn / bet 5.934426229508197 / TranCosts / bet  0.5327868852459017 / CalcuAcc 0.63\n",
      "profit in %/bet: 0.59\n",
      "einsatz * 1+profit% ^ # wetten 2058.26\n",
      "\n",
      "\n",
      "Threshold of: 0.53\n",
      "              precision    recall  f1-score   support\n",
      "\n",
      "         0.0       0.72      0.53      0.61        34\n",
      "         1.0       0.65      0.81      0.72        37\n",
      "\n",
      "    accuracy                           0.68        71\n",
      "   macro avg       0.69      0.67      0.67        71\n",
      "weighted avg       0.68      0.68      0.67        71\n",
      "\n",
      "prestake profit-loss 0.73 x\n",
      "\n",
      "Entire Period:\n",
      "einsatz 71000 TotReturn: 686 / Profit:  1125 / Loss:  399 / TransCosts:  38 / CalcAccuracy 0.68 / #CorrectPreds: 48 Of 71\n",
      "einsatz/bet 1000.0 TotReturn / bet 9.661971830985916 / TranCosts / bet  0.5352112676056338 / CalcuAcc 0.68\n",
      "profit in %/bet: 0.97\n",
      "einsatz * 1+profit% ^ # wetten 1979.23\n",
      "\n",
      "\n",
      "\n",
      "\n",
      "Run: 17\n",
      "[[56 60]\n",
      " [38 84]]\n",
      "Threshold of: 0.5\n",
      "              precision    recall  f1-score   support\n",
      "\n",
      "         0.0       0.60      0.48      0.53       116\n",
      "         1.0       0.58      0.69      0.63       122\n",
      "\n",
      "    accuracy                           0.59       238\n",
      "   macro avg       0.59      0.59      0.58       238\n",
      "weighted avg       0.59      0.59      0.58       238\n",
      "\n",
      "prestake profit-loss 0.83 x\n",
      "\n",
      "Entire Period:\n",
      "einsatz 238000 TotReturn: 699 / Profit:  3275 / Loss:  2447 / TransCosts:  128 / CalcAccuracy 0.59 / #CorrectPreds: 140 Of 238\n",
      "einsatz/bet 1000.0 TotReturn / bet 2.936974789915966 / TranCosts / bet  0.5378151260504201 / CalcuAcc 0.59\n",
      "profit in %/bet: 0.29\n",
      "einsatz * 1+profit% ^ # wetten 2009.68\n",
      "\n",
      "\n",
      "Threshold of: 0.51\n",
      "              precision    recall  f1-score   support\n",
      "\n",
      "         0.0       0.64      0.44      0.52        89\n",
      "         1.0       0.58      0.76      0.66        91\n",
      "\n",
      "    accuracy                           0.60       180\n",
      "   macro avg       0.61      0.60      0.59       180\n",
      "weighted avg       0.61      0.60      0.59       180\n",
      "\n",
      "prestake profit-loss 1.06 x\n",
      "\n",
      "Entire Period:\n",
      "einsatz 180000 TotReturn: 963 / Profit:  2664 / Loss:  1603 / TransCosts:  97 / CalcAccuracy 0.6 / #CorrectPreds: 108 Of 180\n",
      "einsatz/bet 1000.0 TotReturn / bet 5.35 / TranCosts / bet  0.5388888888888889 / CalcuAcc 0.6\n",
      "profit in %/bet: 0.54\n",
      "einsatz * 1+profit% ^ # wetten 2612.83\n",
      "\n",
      "\n",
      "Threshold of: 0.52\n",
      "              precision    recall  f1-score   support\n",
      "\n",
      "         0.0       0.70      0.42      0.53        66\n",
      "         1.0       0.60      0.82      0.69        68\n",
      "\n",
      "    accuracy                           0.63       134\n",
      "   macro avg       0.65      0.62      0.61       134\n",
      "weighted avg       0.65      0.63      0.61       134\n",
      "\n",
      "prestake profit-loss 1.00 x\n",
      "\n",
      "Entire Period:\n",
      "einsatz 134000 TotReturn: 923 / Profit:  2144 / Loss:  1148 / TransCosts:  72 / CalcAccuracy 0.63 / #CorrectPreds: 84 Of 134\n",
      "einsatz/bet 1000.0 TotReturn / bet 6.888059701492537 / TranCosts / bet  0.5373134328358209 / CalcuAcc 0.63\n",
      "profit in %/bet: 0.69\n",
      "einsatz * 1+profit% ^ # wetten 2508.88\n",
      "\n",
      "\n",
      "Threshold of: 0.53\n",
      "              precision    recall  f1-score   support\n",
      "\n",
      "         0.0       0.77      0.49      0.60        41\n",
      "         1.0       0.64      0.86      0.74        44\n",
      "\n",
      "    accuracy                           0.68        85\n",
      "   macro avg       0.71      0.68      0.67        85\n",
      "weighted avg       0.70      0.68      0.67        85\n",
      "\n",
      "prestake profit-loss 0.87 x\n",
      "\n",
      "Entire Period:\n",
      "einsatz 85000 TotReturn: 826 / Profit:  1442 / Loss:  570 / TransCosts:  45 / CalcAccuracy 0.68 / #CorrectPreds: 58 Of 85\n",
      "einsatz/bet 1000.0 TotReturn / bet 9.717647058823529 / TranCosts / bet  0.5294117647058824 / CalcuAcc 0.68\n",
      "profit in %/bet: 0.97\n",
      "einsatz * 1+profit% ^ # wetten 2275.07\n",
      "\n",
      "\n",
      "\n",
      "\n",
      "Run: 18\n",
      "[[51 65]\n",
      " [34 88]]\n",
      "Threshold of: 0.5\n",
      "              precision    recall  f1-score   support\n",
      "\n",
      "         0.0       0.60      0.44      0.51       116\n",
      "         1.0       0.58      0.72      0.64       122\n",
      "\n",
      "    accuracy                           0.58       238\n",
      "   macro avg       0.59      0.58      0.57       238\n",
      "weighted avg       0.59      0.58      0.58       238\n",
      "\n",
      "prestake profit-loss 1.27 x\n",
      "\n",
      "Entire Period:\n",
      "einsatz 238000 TotReturn: 1144 / Profit:  3497 / Loss:  2225 / TransCosts:  128 / CalcAccuracy 0.58 / #CorrectPreds: 139 Of 238\n",
      "einsatz/bet 1000.0 TotReturn / bet 4.80672268907563 / TranCosts / bet  0.5378151260504201 / CalcuAcc 0.58\n",
      "profit in %/bet: 0.48\n",
      "einsatz * 1+profit% ^ # wetten 3130.71\n",
      "\n",
      "\n",
      "Threshold of: 0.51\n",
      "              precision    recall  f1-score   support\n",
      "\n",
      "         0.0       0.65      0.45      0.53        89\n",
      "         1.0       0.59      0.76      0.67        93\n",
      "\n",
      "    accuracy                           0.61       182\n",
      "   macro avg       0.62      0.61      0.60       182\n",
      "weighted avg       0.62      0.61      0.60       182\n",
      "\n",
      "prestake profit-loss 1.25 x\n",
      "\n",
      "Entire Period:\n",
      "einsatz 182000 TotReturn: 1150 / Profit:  2881 / Loss:  1632 / TransCosts:  98 / CalcAccuracy 0.61 / #CorrectPreds: 111 Of 182\n",
      "einsatz/bet 1000.0 TotReturn / bet 6.318681318681318 / TranCosts / bet  0.5384615384615384 / CalcuAcc 0.61\n",
      "profit in %/bet: 0.63\n",
      "einsatz * 1+profit% ^ # wetten 3146.79\n",
      "\n",
      "\n",
      "Threshold of: 0.52\n",
      "              precision    recall  f1-score   support\n",
      "\n",
      "         0.0       0.72      0.48      0.58        54\n",
      "         1.0       0.65      0.84      0.73        61\n",
      "\n",
      "    accuracy                           0.67       115\n",
      "   macro avg       0.68      0.66      0.65       115\n",
      "weighted avg       0.68      0.67      0.66       115\n",
      "\n",
      "prestake profit-loss 1.20 x\n",
      "\n",
      "Entire Period:\n",
      "einsatz 115000 TotReturn: 1140 / Profit:  2044 / Loss:  842 / TransCosts:  62 / CalcAccuracy 0.67 / #CorrectPreds: 77 Of 115\n",
      "einsatz/bet 1000.0 TotReturn / bet 9.91304347826087 / TranCosts / bet  0.5391304347826087 / CalcuAcc 0.67\n",
      "profit in %/bet: 0.99\n",
      "einsatz * 1+profit% ^ # wetten 3109.27\n",
      "\n",
      "\n",
      "Threshold of: 0.53\n",
      "              precision    recall  f1-score   support\n",
      "\n",
      "         0.0       0.70      0.46      0.55        35\n",
      "         1.0       0.63      0.82      0.71        39\n",
      "\n",
      "    accuracy                           0.65        74\n",
      "   macro avg       0.66      0.64      0.63        74\n",
      "weighted avg       0.66      0.65      0.64        74\n",
      "\n",
      "prestake profit-loss 0.50 x\n",
      "\n",
      "Entire Period:\n",
      "einsatz 74000 TotReturn: 459 / Profit:  1106 / Loss:  607 / TransCosts:  39 / CalcAccuracy 0.65 / #CorrectPreds: 48 Of 74\n",
      "einsatz/bet 1000.0 TotReturn / bet 6.202702702702703 / TranCosts / bet  0.527027027027027 / CalcuAcc 0.65\n",
      "profit in %/bet: 0.62\n",
      "einsatz * 1+profit% ^ # wetten 1580.25\n",
      "\n",
      "\n",
      "\n",
      "\n",
      "Run: 19\n"
     ]
    },
    {
     "name": "stdout",
     "output_type": "stream",
     "text": [
      "[[56 60]\n",
      " [37 85]]\n",
      "Threshold of: 0.5\n",
      "              precision    recall  f1-score   support\n",
      "\n",
      "         0.0       0.60      0.48      0.54       116\n",
      "         1.0       0.59      0.70      0.64       122\n",
      "\n",
      "    accuracy                           0.59       238\n",
      "   macro avg       0.59      0.59      0.59       238\n",
      "weighted avg       0.59      0.59      0.59       238\n",
      "\n",
      "prestake profit-loss 1.33 x\n",
      "\n",
      "Entire Period:\n",
      "einsatz 238000 TotReturn: 1206 / Profit:  3528 / Loss:  2194 / TransCosts:  128 / CalcAccuracy 0.59 / #CorrectPreds: 141 Of 238\n",
      "einsatz/bet 1000.0 TotReturn / bet 5.067226890756302 / TranCosts / bet  0.5378151260504201 / CalcuAcc 0.59\n",
      "profit in %/bet: 0.51\n",
      "einsatz * 1+profit% ^ # wetten 3329.94\n",
      "\n",
      "\n",
      "Threshold of: 0.51\n",
      "              precision    recall  f1-score   support\n",
      "\n",
      "         0.0       0.64      0.48      0.55        82\n",
      "         1.0       0.61      0.75      0.67        89\n",
      "\n",
      "    accuracy                           0.62       171\n",
      "   macro avg       0.62      0.61      0.61       171\n",
      "weighted avg       0.62      0.62      0.61       171\n",
      "\n",
      "prestake profit-loss 1.26 x\n",
      "\n",
      "Entire Period:\n",
      "einsatz 171000 TotReturn: 1168 / Profit:  2700 / Loss:  1439 / TransCosts:  92 / CalcAccuracy 0.62 / #CorrectPreds: 106 Of 171\n",
      "einsatz/bet 1000.0 TotReturn / bet 6.830409356725146 / TranCosts / bet  0.5380116959064327 / CalcuAcc 0.62\n",
      "profit in %/bet: 0.68\n",
      "einsatz * 1+profit% ^ # wetten 3202.81\n",
      "\n",
      "\n",
      "Threshold of: 0.52\n",
      "              precision    recall  f1-score   support\n",
      "\n",
      "         0.0       0.67      0.48      0.56        60\n",
      "         1.0       0.62      0.78      0.69        64\n",
      "\n",
      "    accuracy                           0.64       124\n",
      "   macro avg       0.65      0.63      0.63       124\n",
      "weighted avg       0.64      0.64      0.63       124\n",
      "\n",
      "prestake profit-loss 0.92 x\n",
      "\n",
      "Entire Period:\n",
      "einsatz 124000 TotReturn: 849 / Profit:  1985 / Loss:  1069 / TransCosts:  66 / CalcAccuracy 0.64 / #CorrectPreds: 79 Of 124\n",
      "einsatz/bet 1000.0 TotReturn / bet 6.846774193548387 / TranCosts / bet  0.532258064516129 / CalcuAcc 0.64\n",
      "profit in %/bet: 0.68\n",
      "einsatz * 1+profit% ^ # wetten 2330.56\n",
      "\n",
      "\n",
      "Threshold of: 0.53\n",
      "              precision    recall  f1-score   support\n",
      "\n",
      "         0.0       0.74      0.49      0.59        41\n",
      "         1.0       0.62      0.83      0.71        41\n",
      "\n",
      "    accuracy                           0.66        82\n",
      "   macro avg       0.68      0.66      0.65        82\n",
      "weighted avg       0.68      0.66      0.65        82\n",
      "\n",
      "prestake profit-loss 0.70 x\n",
      "\n",
      "Entire Period:\n",
      "einsatz 82000 TotReturn: 651 / Profit:  1291 / Loss:  596 / TransCosts:  44 / CalcAccuracy 0.66 / #CorrectPreds: 54 Of 82\n",
      "einsatz/bet 1000.0 TotReturn / bet 7.939024390243903 / TranCosts / bet  0.5365853658536586 / CalcuAcc 0.66\n",
      "profit in %/bet: 0.79\n",
      "einsatz * 1+profit% ^ # wetten 1912.53\n",
      "\n",
      "\n",
      "\n",
      "\n"
     ]
    }
   ],
   "source": [
    "einsatz = 1000\n",
    "prestakepercentlist = []\n",
    "zinseszins = []\n",
    "profitpercent = []\n",
    "\n",
    "spec_start_date = '2019-09-09'\n",
    "\n",
    "prestakepercentlist51 = []\n",
    "prestakepercentlist52 = []\n",
    "prestakepercentlist53 = []\n",
    "\n",
    "profitpercent51 = []\n",
    "profitpercent52 = []\n",
    "profitpercent53 = []\n",
    "\n",
    "zinseszins51 = []\n",
    "zinseszins52 = []\n",
    "zinseszins53 = []\n",
    "\n",
    "\n",
    "# For Loop to Simulate K-fold Cross Validation\n",
    "for x in range(1, 20):\n",
    "\n",
    "    # Display Number of Runs\n",
    "    print(\"Run:\", x)\n",
    "        \n",
    "    # Split Data into Training and Testing\n",
    "    X_train = X_trainpredictors_allbut2019\n",
    "    X_test = X_testpredictors_2019\n",
    "    y_train = y_traintarget_allbut2019\n",
    "    y_test = y_testtarget_2019\n",
    "\n",
    "    # Amount of Columns\n",
    "    n_nodes = predictors.shape[1]\n",
    "\n",
    "    # Instantiation of MinMaxScaler\n",
    "    norm_scaler = MinMaxScaler()\n",
    "\n",
    "    # Training and Application of Feature Scaler on Training Data of Predictors\n",
    "    X_train_scaled = pd.DataFrame(norm_scaler.fit_transform(X_train))\n",
    "    #X_train_scaled = X_train\n",
    "\n",
    "    # Application of Feature Scaler on Test Data of Predictors\n",
    "    X_test_scaled = norm_scaler.transform(X_test)\n",
    "    #X_test_scaled = X_test\n",
    "    \n",
    "\n",
    "#     # Instantiate Classifier Logistic Regression\n",
    "#     lreg = RandomForestClassifier(bootstrap=True, ccp_alpha=0.0, class_weight=None,\n",
    "#                        criterion='gini', max_depth=7, max_features='auto',\n",
    "#                        max_leaf_nodes=None, max_samples=None,\n",
    "#                        min_impurity_decrease=0.0, min_impurity_split=None,\n",
    "#                        min_samples_leaf=2, min_samples_split=5,\n",
    "#                        min_weight_fraction_leaf=0.0, n_estimators=1050,\n",
    "#                        n_jobs=None, oob_score=False, random_state=None,\n",
    "#                        verbose=0, warm_start=False)\n",
    "\n",
    "#     lreg = RandomForestClassifier(bootstrap=True, ccp_alpha=0.0, class_weight=None,\n",
    "#                        criterion='gini', max_depth=6, max_features='auto',\n",
    "#                        max_leaf_nodes=None, max_samples=None,\n",
    "#                        min_impurity_decrease=0.0, min_impurity_split=None,\n",
    "#                        min_samples_leaf=2, min_samples_split=5,\n",
    "#                        min_weight_fraction_leaf=0.0, n_estimators=1050,\n",
    "#                        n_jobs=None, oob_score=False, random_state=None,\n",
    "#                        verbose=0, warm_start=False)\n",
    "    \n",
    "    lreg = RandomForestClassifier(bootstrap=True, ccp_alpha=0.0, class_weight=None,\n",
    "                       criterion='gini', max_depth=7, max_features='auto',\n",
    "                       max_leaf_nodes=None, max_samples=None,\n",
    "                       min_impurity_decrease=0.0, min_impurity_split=None,\n",
    "                       min_samples_leaf=2, min_samples_split=5,\n",
    "                       min_weight_fraction_leaf=0.0, n_estimators=1050,\n",
    "                       n_jobs=None, oob_score=False, random_state=None,\n",
    "                       verbose=0, warm_start=False)\n",
    "    # Train Classifier\n",
    "    lreg.fit(X_train_scaled, y_train)\n",
    "    \n",
    "    # Prediction of Classes\n",
    "    y_pred = lreg.predict(X_test_scaled)\n",
    "\n",
    "    # Display Confusion Matrix and Classification Report\n",
    "    print(confusion_matrix(y_test, y_pred))\n",
    "#     print(classification_report(y_test, y_pred))\n",
    "\n",
    "    # Prediction of Probabilities\n",
    "    y_pred_prob = lreg.predict_proba(X_test_scaled)[:, 1]\n",
    "\n",
    "    # Create Data Frame of Actual Values - y_test\n",
    "    df_y_test = pd.DataFrame(y_test)\n",
    "\n",
    "    # Add Predicted Probabilities to Data Frame\n",
    "    df_y_test[\"y_pred_prob\"] = y_pred_prob\n",
    "\n",
    "    # Add Predicted Classes (0 or 1) to Data Frame to Cross-Check Predicted Probabilities\n",
    "    df_y_test[\"y_pred\"] = y_pred\n",
    "\n",
    "    # Select Actual Daily Returns in USD from the Data Set Copy\n",
    "    df_dataset1_copy_dailyreturns = df_dataset1_copy[['Daily Return in USD']]\n",
    "\n",
    "    # Merge Predictions and Daily Returns Data Frame on the Column \"Date\"\n",
    "    df_y_test_withdailyreturns = pd.merge(\n",
    "        df_y_test, df_dataset1_copy_dailyreturns, on='Date')\n",
    "\n",
    "    df_dataset1_copy_percentage = df_dataset1_copy[['percentage_daily_return_bef_shift']]\n",
    "    df_y_test_withdailyreturns = pd.merge(\n",
    "        df_y_test_withdailyreturns, df_dataset1_copy_percentage, on='Date')\n",
    "\n",
    "    # Add Bitcoin Price in USD\n",
    "    df_y_test_withdailyreturns = pd.merge(\n",
    "        df_y_test_withdailyreturns, df_dataset1_copy['market/price_usd_close'], on='Date')\n",
    "\n",
    "    df_y_test_withdailyreturns['y_pred_prob_bereinigt'] = np.where(\n",
    "        df_y_test_withdailyreturns['y_pred_prob'] < 0.5, 1-df_y_test_withdailyreturns['y_pred_prob'], df_y_test_withdailyreturns['y_pred_prob'])\n",
    "\n",
    "    df_y_test_withdailyreturns[\"Einsatz\"] = einsatz #* \\\n",
    "        #df_y_test_withdailyreturns[\"y_pred_prob_bereinigt\"]  # **2\n",
    "\n",
    "    # Add and Calculate Transaction Costs based on the Bitcoin Price in USD\n",
    "    df_y_test_withdailyreturns['Transaction Costs in USD'] = df_y_test_withdailyreturns['Einsatz']*0.00027*2\n",
    "\n",
    "    # Create List of Multiple Thresholds\n",
    "    # A Threshold of 0.7 means that only predicted probabilites with more than 0.7 or less than 0.3 are considered further\n",
    "    list_thresholdcalc = [0.5, 0.51, 0.52, 0.53]\n",
    "\n",
    "    try:\n",
    "        \n",
    "        # For Loop Over List\n",
    "        for thresholdcalc in list_thresholdcalc:\n",
    "\n",
    "            # Creation of a Data Frame Containing Only Probability Predictions Which Meet the Threshold Requirements\n",
    "            df_y_test_probaall = df_y_test.loc[(df_y_test['y_pred_prob'] > thresholdcalc) | (\n",
    "                df_y_test['y_pred_prob'] < 1-thresholdcalc)]\n",
    "\n",
    "            # Calculation Of Accuracy Only for the Data Subset Meeting Threshold Requirements\n",
    "            acc_calc = len(df_y_test_probaall[df_y_test_probaall['Class']\n",
    "                                              == df_y_test_probaall['y_pred']]) / len(df_y_test_probaall)\n",
    "\n",
    "            print(\"Threshold of:\", thresholdcalc)\n",
    "            print(classification_report(\n",
    "                df_y_test_probaall[\"Class\"], df_y_test_probaall[\"y_pred\"]))\n",
    "\n",
    "            # Creation of Another Data Frame including Returns and Transaction Costs\n",
    "            # Only For Probability Predicitons that Meet the Threshold Requirements\n",
    "            df_y_test_probaall_withdailyreturns = df_y_test_withdailyreturns.loc[(\n",
    "                df_y_test_withdailyreturns['y_pred_prob'] > thresholdcalc) | (df_y_test_withdailyreturns['y_pred_prob'] < 1-thresholdcalc)]\n",
    "\n",
    "            # Trading Assumption: Bet Amount = 1 Bitcoin for Each Prediction\n",
    "            # Select Daily Returns Only From True Predictions Where Predicted Class equals Actual Class.\n",
    "            # It does not matter whether Daily Returns are Positive or Negative as Short-Selling Option Allows To Profit From Falling Prices\n",
    "            profit = df_y_test_probaall_withdailyreturns[\"percentage_daily_return_bef_shift\"][\n",
    "                df_y_test_probaall_withdailyreturns['Class'] == df_y_test_probaall_withdailyreturns['y_pred']].abs().sum()\n",
    "\n",
    "            # Select  Daily Returns Only From False Predictions Where Predicted Class equals Actual Class\n",
    "            loss = df_y_test_probaall_withdailyreturns[\"percentage_daily_return_bef_shift\"][df_y_test_probaall_withdailyreturns['Class']\n",
    "                                                                                  != df_y_test_probaall_withdailyreturns['y_pred']].abs().sum()\n",
    "\n",
    "            print(\"prestake profit-loss {:.2f} x\".format(profit-loss))\n",
    "\n",
    "            if thresholdcalc == 0.5:\n",
    "                prestakepercentlist.append(int((profit-loss)*100))\n",
    "            if thresholdcalc == 0.51:\n",
    "                prestakepercentlist51.append(int((profit-loss)*100))\n",
    "            if thresholdcalc == 0.52:\n",
    "                prestakepercentlist52.append(int((profit-loss)*100))\n",
    "            if thresholdcalc == 0.53:\n",
    "                prestakepercentlist53.append(int((profit-loss)*100))\n",
    "\n",
    "            loss = loss * einsatz\n",
    "            profit = profit * einsatz\n",
    "\n",
    "            # Calculation of Transaction Costs based On BTC Value in USD. Each Future Trade considers Transaction Costs twice, becauase of Buying and Selling the Future\n",
    "            transaction_costs = df_y_test_probaall_withdailyreturns['Transaction Costs in USD'].sum(\n",
    "            )\n",
    "\n",
    "            # Calculation of Total Profit Considering Profit, Loss and Transaction Costs\n",
    "            total = profit-loss-transaction_costs\n",
    "\n",
    "            print()\n",
    "            print(\"Entire Period:\")\n",
    "            print(\"einsatz\", int(df_y_test_probaall_withdailyreturns[\"Einsatz\"].sum()), \"TotReturn:\", int(total), \"/ Profit: \", int(profit), \"/ Loss: \", int(loss), \"/ TransCosts: \", int(\n",
    "                transaction_costs), \"/ CalcAccuracy\", round(acc_calc, 2), \"/ #CorrectPreds:\", len(df_y_test_probaall[df_y_test_probaall['Class'] == df_y_test_probaall['y_pred']]),  \"Of\", len(df_y_test_probaall))\n",
    "            print(\"einsatz/bet\", df_y_test_probaall_withdailyreturns[\"Einsatz\"].sum() / len(df_y_test_probaall), \"TotReturn / bet\", int(total) / len(\n",
    "                df_y_test_probaall), \"/ TranCosts / bet \", int(transaction_costs) / len(df_y_test_probaall), \"/ CalcuAcc\", round(acc_calc, 2))\n",
    "            print(\"profit in %/bet: {:.2f}\".format(100*(int(total) / len(df_y_test_probaall)) / (\n",
    "                df_y_test_probaall_withdailyreturns[\"Einsatz\"].sum() / len(df_y_test_probaall))))\n",
    "\n",
    "            if thresholdcalc == 0.5:\n",
    "                profitpercent.append(100*(int(total) / len(df_y_test_probaall)) / (\n",
    "                    df_y_test_probaall_withdailyreturns[\"Einsatz\"].sum() / len(df_y_test_probaall)))\n",
    "            if thresholdcalc == 0.51:\n",
    "                profitpercent51.append(100*(int(total) / len(df_y_test_probaall)) / (\n",
    "                    df_y_test_probaall_withdailyreturns[\"Einsatz\"].sum() / len(df_y_test_probaall)))\n",
    "            if thresholdcalc == 0.52:\n",
    "                profitpercent52.append(100*(int(total) / len(df_y_test_probaall)) / (\n",
    "                    df_y_test_probaall_withdailyreturns[\"Einsatz\"].sum() / len(df_y_test_probaall)))\n",
    "            if thresholdcalc == 0.53:\n",
    "                profitpercent53.append(100*(int(total) / len(df_y_test_probaall)) / (\n",
    "                    df_y_test_probaall_withdailyreturns[\"Einsatz\"].sum() / len(df_y_test_probaall)))\n",
    "\n",
    "            print(\"einsatz * 1+profit% ^ # wetten {:.2f}\".format(einsatz*(1+(int(total) / len(df_y_test_probaall)) / (\n",
    "                df_y_test_probaall_withdailyreturns[\"Einsatz\"].sum() / len(df_y_test_probaall))) ** len(df_y_test_probaall)))\n",
    "            if thresholdcalc == 0.5:\n",
    "                zinseszins.append(einsatz*(1+(int(total) / len(df_y_test_probaall)) / (\n",
    "                    df_y_test_probaall_withdailyreturns[\"Einsatz\"].sum() / len(df_y_test_probaall))) ** len(df_y_test_probaall))\n",
    "\n",
    "            print()\n",
    "            print()\n",
    "\n",
    "            # Store All Calculated Values For Every Variable of Every Run\n",
    "            # Specified Period\n",
    "            # Threshold = 0.5\n",
    "            if thresholdcalc == 0.5:\n",
    "                # Entire Period:\n",
    "                list_05_total.append(total)\n",
    "                list_05_profit.append(profit)\n",
    "                list_05_loss.append(loss)\n",
    "                list_05_trans.append(transaction_costs)\n",
    "                list_05_acc.append(acc_calc)\n",
    "                list_05_preds_corr.append(len(\n",
    "                    df_y_test_probaall[df_y_test_probaall['Class'] == df_y_test_probaall['y_pred']]))\n",
    "                list_05_preds.append(len(df_y_test_probaall))\n",
    "\n",
    "            # Threshold = 0.6\n",
    "            if thresholdcalc == 0.51:\n",
    "                # Entire Period:\n",
    "                list_06_total.append(total)\n",
    "                list_06_profit.append(profit)\n",
    "                list_06_loss.append(loss)\n",
    "                list_06_trans.append(transaction_costs)\n",
    "                list_06_acc.append(acc_calc)\n",
    "                list_06_preds_corr.append(len(\n",
    "                    df_y_test_probaall[df_y_test_probaall['Class'] == df_y_test_probaall['y_pred']]))\n",
    "                list_06_preds.append(len(df_y_test_probaall))\n",
    "\n",
    "                zinseszins51.append(einsatz*(1+(int(total) / len(df_y_test_probaall)) / (\n",
    "                    df_y_test_probaall_withdailyreturns[\"Einsatz\"].sum() / len(df_y_test_probaall))) ** len(df_y_test_probaall))\n",
    "\n",
    "            # Threshold = 0.7\n",
    "            if thresholdcalc == 0.52:\n",
    "                # Entire Period:\n",
    "                list_07_total.append(total)\n",
    "                list_07_profit.append(profit)\n",
    "                list_07_loss.append(loss)\n",
    "                list_07_trans.append(transaction_costs)\n",
    "                list_07_acc.append(acc_calc)\n",
    "                list_07_preds_corr.append(len(\n",
    "                    df_y_test_probaall[df_y_test_probaall['Class'] == df_y_test_probaall['y_pred']]))\n",
    "                list_07_preds.append(len(df_y_test_probaall))\n",
    "                zinseszins52.append(einsatz*(1+(int(total) / len(df_y_test_probaall)) / (\n",
    "                    df_y_test_probaall_withdailyreturns[\"Einsatz\"].sum() / len(df_y_test_probaall))) ** len(df_y_test_probaall))\n",
    "\n",
    "            # Threshold = 0.8\n",
    "            if thresholdcalc == 0.53:\n",
    "                # Entire Period:\n",
    "                list_08_total.append(total)\n",
    "                list_08_profit.append(profit)\n",
    "                list_08_loss.append(loss)\n",
    "                list_08_trans.append(transaction_costs)\n",
    "                list_08_acc.append(acc_calc)\n",
    "                list_08_preds_corr.append(len(\n",
    "                    df_y_test_probaall[df_y_test_probaall['Class'] == df_y_test_probaall['y_pred']]))\n",
    "                list_08_preds.append(len(df_y_test_probaall))\n",
    "                zinseszins53.append(einsatz*(1+(int(total) / len(df_y_test_probaall)) / (\n",
    "                    df_y_test_probaall_withdailyreturns[\"Einsatz\"].sum() / len(df_y_test_probaall))) ** len(df_y_test_probaall))\n",
    "\n",
    "    except:\n",
    "        print(\"problem\")\n",
    "    \n",
    "    print()\n",
    "    print()\n"
   ]
  },
  {
   "cell_type": "code",
   "execution_count": 101,
   "metadata": {
    "ExecuteTime": {
     "end_time": "2020-12-28T19:55:40.287921Z",
     "start_time": "2020-12-28T19:55:40.272995Z"
    },
    "scrolled": true
   },
   "outputs": [
    {
     "name": "stdout",
     "output_type": "stream",
     "text": [
      "131\n",
      "0.5\n",
      "3277.3490515654207\n"
     ]
    }
   ],
   "source": [
    "import statistics\n",
    "\n",
    "print( statistics.median(prestakepercentlist) )\n",
    "print( statistics.median(profitpercent) )\n",
    "print( statistics.median(zinseszins) )"
   ]
  },
  {
   "cell_type": "code",
   "execution_count": 102,
   "metadata": {
    "ExecuteTime": {
     "end_time": "2020-12-28T19:55:40.295278Z",
     "start_time": "2020-12-28T19:55:40.288946Z"
    }
   },
   "outputs": [
    {
     "name": "stdout",
     "output_type": "stream",
     "text": [
      "118\n",
      "0.6143646408839779\n",
      "2940.872441709147\n"
     ]
    }
   ],
   "source": [
    "print(statistics.median(prestakepercentlist51))\n",
    "print(statistics.median(profitpercent51))\n",
    "print(statistics.median(zinseszins51))\n"
   ]
  },
  {
   "cell_type": "code",
   "execution_count": 103,
   "metadata": {
    "ExecuteTime": {
     "end_time": "2020-12-28T19:55:40.311307Z",
     "start_time": "2020-12-28T19:55:40.296276Z"
    }
   },
   "outputs": [
    {
     "name": "stdout",
     "output_type": "stream",
     "text": [
      "99\n",
      "0.7288000000000001\n",
      "2508.87810425948\n"
     ]
    }
   ],
   "source": [
    "print(statistics.median(prestakepercentlist52))\n",
    "print(statistics.median(profitpercent52))\n",
    "print(statistics.median(zinseszins52))"
   ]
  },
  {
   "cell_type": "code",
   "execution_count": 104,
   "metadata": {
    "ExecuteTime": {
     "end_time": "2020-12-28T19:55:40.327268Z",
     "start_time": "2020-12-28T19:55:40.312273Z"
    }
   },
   "outputs": [
    {
     "name": "stdout",
     "output_type": "stream",
     "text": [
      "69\n",
      "0.8279411764705882\n",
      "1912.5347256133812\n"
     ]
    }
   ],
   "source": [
    "print(statistics.median(prestakepercentlist53))\n",
    "print(statistics.median(profitpercent53))\n",
    "print(statistics.median(zinseszins53))"
   ]
  },
  {
   "cell_type": "code",
   "execution_count": 105,
   "metadata": {
    "ExecuteTime": {
     "end_time": "2020-12-28T19:55:40.343219Z",
     "start_time": "2020-12-28T19:55:40.328230Z"
    }
   },
   "outputs": [
    {
     "data": {
      "text/plain": [
       "Date\n",
       "2019-10-25   0.44\n",
       "2019-09-19   0.44\n",
       "2019-11-11   0.44\n",
       "2019-08-05   0.44\n",
       "2019-09-13   0.45\n",
       "             ... \n",
       "2019-12-17   0.57\n",
       "2019-02-06   0.58\n",
       "2019-04-11   0.58\n",
       "2019-04-24   0.58\n",
       "2019-02-07   0.58\n",
       "Name: y_pred_prob, Length: 82, dtype: float64"
      ]
     },
     "execution_count": 105,
     "metadata": {},
     "output_type": "execute_result"
    }
   ],
   "source": [
    "df_y_test_probaall_withdailyreturns[\"y_pred_prob\"].sort_values()"
   ]
  },
  {
   "cell_type": "code",
   "execution_count": null,
   "metadata": {
    "ExecuteTime": {
     "end_time": "2020-12-28T15:09:56.241245Z",
     "start_time": "2020-12-28T15:09:56.222862Z"
    }
   },
   "outputs": [],
   "source": []
  },
  {
   "cell_type": "code",
   "execution_count": 106,
   "metadata": {
    "ExecuteTime": {
     "end_time": "2020-12-28T19:55:40.359176Z",
     "start_time": "2020-12-28T19:55:40.344187Z"
    }
   },
   "outputs": [
    {
     "data": {
      "text/plain": [
       "[0.503781512605042,\n",
       " 0.5478991596638656,\n",
       " 0.46974789915966386,\n",
       " 0.42521008403361343,\n",
       " 0.49327731092436977,\n",
       " 0.5,\n",
       " 0.48571428571428565,\n",
       " 0.5676470588235294,\n",
       " 0.5428571428571429,\n",
       " 0.526890756302521,\n",
       " 0.7025210084033613,\n",
       " 0.5134453781512606,\n",
       " 0.46302521008403363,\n",
       " 0.511344537815126,\n",
       " 0.36512605042016805,\n",
       " 0.24369747899159663,\n",
       " 0.2936974789915966,\n",
       " 0.48067226890756304,\n",
       " 0.5067226890756302]"
      ]
     },
     "execution_count": 106,
     "metadata": {},
     "output_type": "execute_result"
    }
   ],
   "source": [
    "profitpercent"
   ]
  },
  {
   "cell_type": "code",
   "execution_count": 107,
   "metadata": {
    "ExecuteTime": {
     "end_time": "2020-12-28T19:55:40.390821Z",
     "start_time": "2020-12-28T19:55:40.361143Z"
    }
   },
   "outputs": [
    {
     "data": {
      "text/html": [
       "<div>\n",
       "<style scoped>\n",
       "    .dataframe tbody tr th:only-of-type {\n",
       "        vertical-align: middle;\n",
       "    }\n",
       "\n",
       "    .dataframe tbody tr th {\n",
       "        vertical-align: top;\n",
       "    }\n",
       "\n",
       "    .dataframe thead th {\n",
       "        text-align: right;\n",
       "    }\n",
       "</style>\n",
       "<table border=\"1\" class=\"dataframe\">\n",
       "  <thead>\n",
       "    <tr style=\"text-align: right;\">\n",
       "      <th></th>\n",
       "      <th>Class</th>\n",
       "      <th>y_pred_prob</th>\n",
       "      <th>y_pred</th>\n",
       "      <th>Daily Return in USD</th>\n",
       "      <th>percentage_daily_return_bef_shift</th>\n",
       "      <th>market/price_usd_close</th>\n",
       "      <th>y_pred_prob_bereinigt</th>\n",
       "      <th>Einsatz</th>\n",
       "      <th>Transaction Costs in USD</th>\n",
       "    </tr>\n",
       "    <tr>\n",
       "      <th>Date</th>\n",
       "      <th></th>\n",
       "      <th></th>\n",
       "      <th></th>\n",
       "      <th></th>\n",
       "      <th></th>\n",
       "      <th></th>\n",
       "      <th></th>\n",
       "      <th></th>\n",
       "      <th></th>\n",
       "    </tr>\n",
       "  </thead>\n",
       "  <tbody>\n",
       "    <tr>\n",
       "      <th>2019-06-26</th>\n",
       "      <td>0.00</td>\n",
       "      <td>0.50</td>\n",
       "      <td>1.00</td>\n",
       "      <td>-1851.95</td>\n",
       "      <td>0.09</td>\n",
       "      <td>13003.33</td>\n",
       "      <td>0.50</td>\n",
       "      <td>1000</td>\n",
       "      <td>0.54</td>\n",
       "    </tr>\n",
       "    <tr>\n",
       "      <th>2019-07-15</th>\n",
       "      <td>0.00</td>\n",
       "      <td>0.48</td>\n",
       "      <td>0.00</td>\n",
       "      <td>-1409.18</td>\n",
       "      <td>0.06</td>\n",
       "      <td>10902.49</td>\n",
       "      <td>0.52</td>\n",
       "      <td>1000</td>\n",
       "      <td>0.54</td>\n",
       "    </tr>\n",
       "    <tr>\n",
       "      <th>2019-09-23</th>\n",
       "      <td>0.00</td>\n",
       "      <td>0.51</td>\n",
       "      <td>1.00</td>\n",
       "      <td>-1108.76</td>\n",
       "      <td>-0.04</td>\n",
       "      <td>9729.32</td>\n",
       "      <td>0.51</td>\n",
       "      <td>1000</td>\n",
       "      <td>0.54</td>\n",
       "    </tr>\n",
       "    <tr>\n",
       "      <th>2019-08-13</th>\n",
       "      <td>0.00</td>\n",
       "      <td>0.52</td>\n",
       "      <td>1.00</td>\n",
       "      <td>-857.41</td>\n",
       "      <td>-0.04</td>\n",
       "      <td>10895.83</td>\n",
       "      <td>0.52</td>\n",
       "      <td>1000</td>\n",
       "      <td>0.54</td>\n",
       "    </tr>\n",
       "    <tr>\n",
       "      <th>2019-07-10</th>\n",
       "      <td>0.00</td>\n",
       "      <td>0.51</td>\n",
       "      <td>1.00</td>\n",
       "      <td>-806.85</td>\n",
       "      <td>-0.03</td>\n",
       "      <td>12152.59</td>\n",
       "      <td>0.51</td>\n",
       "      <td>1000</td>\n",
       "      <td>0.54</td>\n",
       "    </tr>\n",
       "    <tr>\n",
       "      <th>...</th>\n",
       "      <td>...</td>\n",
       "      <td>...</td>\n",
       "      <td>...</td>\n",
       "      <td>...</td>\n",
       "      <td>...</td>\n",
       "      <td>...</td>\n",
       "      <td>...</td>\n",
       "      <td>...</td>\n",
       "      <td>...</td>\n",
       "    </tr>\n",
       "    <tr>\n",
       "      <th>2019-08-02</th>\n",
       "      <td>1.00</td>\n",
       "      <td>0.47</td>\n",
       "      <td>0.00</td>\n",
       "      <td>835.47</td>\n",
       "      <td>0.01</td>\n",
       "      <td>10518.17</td>\n",
       "      <td>0.53</td>\n",
       "      <td>1000</td>\n",
       "      <td>0.54</td>\n",
       "    </tr>\n",
       "    <tr>\n",
       "      <th>2019-07-17</th>\n",
       "      <td>1.00</td>\n",
       "      <td>0.48</td>\n",
       "      <td>0.00</td>\n",
       "      <td>968.88</td>\n",
       "      <td>0.02</td>\n",
       "      <td>9694.45</td>\n",
       "      <td>0.52</td>\n",
       "      <td>1000</td>\n",
       "      <td>0.54</td>\n",
       "    </tr>\n",
       "    <tr>\n",
       "      <th>2019-10-24</th>\n",
       "      <td>1.00</td>\n",
       "      <td>0.50</td>\n",
       "      <td>1.00</td>\n",
       "      <td>1158.86</td>\n",
       "      <td>-0.00</td>\n",
       "      <td>7497.31</td>\n",
       "      <td>0.50</td>\n",
       "      <td>1000</td>\n",
       "      <td>0.54</td>\n",
       "    </tr>\n",
       "    <tr>\n",
       "      <th>2019-06-25</th>\n",
       "      <td>1.00</td>\n",
       "      <td>0.50</td>\n",
       "      <td>1.00</td>\n",
       "      <td>1218.72</td>\n",
       "      <td>0.07</td>\n",
       "      <td>11784.60</td>\n",
       "      <td>0.50</td>\n",
       "      <td>1000</td>\n",
       "      <td>0.54</td>\n",
       "    </tr>\n",
       "    <tr>\n",
       "      <th>2019-06-27</th>\n",
       "      <td>1.00</td>\n",
       "      <td>0.52</td>\n",
       "      <td>1.00</td>\n",
       "      <td>1240.96</td>\n",
       "      <td>-0.17</td>\n",
       "      <td>11151.37</td>\n",
       "      <td>0.52</td>\n",
       "      <td>1000</td>\n",
       "      <td>0.54</td>\n",
       "    </tr>\n",
       "  </tbody>\n",
       "</table>\n",
       "<p>238 rows × 9 columns</p>\n",
       "</div>"
      ],
      "text/plain": [
       "            Class  y_pred_prob  y_pred  Daily Return in USD  \\\n",
       "Date                                                          \n",
       "2019-06-26   0.00         0.50    1.00             -1851.95   \n",
       "2019-07-15   0.00         0.48    0.00             -1409.18   \n",
       "2019-09-23   0.00         0.51    1.00             -1108.76   \n",
       "2019-08-13   0.00         0.52    1.00              -857.41   \n",
       "2019-07-10   0.00         0.51    1.00              -806.85   \n",
       "...           ...          ...     ...                  ...   \n",
       "2019-08-02   1.00         0.47    0.00               835.47   \n",
       "2019-07-17   1.00         0.48    0.00               968.88   \n",
       "2019-10-24   1.00         0.50    1.00              1158.86   \n",
       "2019-06-25   1.00         0.50    1.00              1218.72   \n",
       "2019-06-27   1.00         0.52    1.00              1240.96   \n",
       "\n",
       "            percentage_daily_return_bef_shift  market/price_usd_close  \\\n",
       "Date                                                                    \n",
       "2019-06-26                               0.09                13003.33   \n",
       "2019-07-15                               0.06                10902.49   \n",
       "2019-09-23                              -0.04                 9729.32   \n",
       "2019-08-13                              -0.04                10895.83   \n",
       "2019-07-10                              -0.03                12152.59   \n",
       "...                                       ...                     ...   \n",
       "2019-08-02                               0.01                10518.17   \n",
       "2019-07-17                               0.02                 9694.45   \n",
       "2019-10-24                              -0.00                 7497.31   \n",
       "2019-06-25                               0.07                11784.60   \n",
       "2019-06-27                              -0.17                11151.37   \n",
       "\n",
       "            y_pred_prob_bereinigt  Einsatz  Transaction Costs in USD  \n",
       "Date                                                                  \n",
       "2019-06-26                   0.50     1000                      0.54  \n",
       "2019-07-15                   0.52     1000                      0.54  \n",
       "2019-09-23                   0.51     1000                      0.54  \n",
       "2019-08-13                   0.52     1000                      0.54  \n",
       "2019-07-10                   0.51     1000                      0.54  \n",
       "...                           ...      ...                       ...  \n",
       "2019-08-02                   0.53     1000                      0.54  \n",
       "2019-07-17                   0.52     1000                      0.54  \n",
       "2019-10-24                   0.50     1000                      0.54  \n",
       "2019-06-25                   0.50     1000                      0.54  \n",
       "2019-06-27                   0.52     1000                      0.54  \n",
       "\n",
       "[238 rows x 9 columns]"
      ]
     },
     "execution_count": 107,
     "metadata": {},
     "output_type": "execute_result"
    }
   ],
   "source": [
    "df_y_test_withdailyreturns.sort_values(\"Daily Return in USD\")"
   ]
  },
  {
   "cell_type": "code",
   "execution_count": 108,
   "metadata": {
    "ExecuteTime": {
     "end_time": "2020-12-28T19:55:40.406058Z",
     "start_time": "2020-12-28T19:55:40.392059Z"
    }
   },
   "outputs": [
    {
     "data": {
      "text/plain": [
       "Class                                   37.00\n",
       "y_pred_prob                             49.27\n",
       "y_pred                                  60.00\n",
       "Daily Return in USD                  20089.83\n",
       "percentage_daily_return_bef_shift        2.19\n",
       "market/price_usd_close              712422.78\n",
       "y_pred_prob_bereinigt                   50.70\n",
       "Einsatz                              97000.00\n",
       "Transaction Costs in USD                52.38\n",
       "dtype: float64"
      ]
     },
     "execution_count": 108,
     "metadata": {},
     "output_type": "execute_result"
    }
   ],
   "source": [
    "df_y_test_withdailyreturns[df_y_test_withdailyreturns[\"Class\"] != df_y_test_withdailyreturns[\"y_pred\"]].abs().sum()"
   ]
  },
  {
   "cell_type": "code",
   "execution_count": 109,
   "metadata": {
    "ExecuteTime": {
     "end_time": "2020-12-28T19:55:40.421981Z",
     "start_time": "2020-12-28T19:55:40.407019Z"
    }
   },
   "outputs": [
    {
     "data": {
      "text/plain": [
       "Class                                    85.00\n",
       "y_pred_prob                              71.52\n",
       "y_pred                                   85.00\n",
       "Daily Return in USD                   27393.84\n",
       "percentage_daily_return_bef_shift         3.53\n",
       "market/price_usd_close              1055112.18\n",
       "y_pred_prob_bereinigt                    74.12\n",
       "Einsatz                              141000.00\n",
       "Transaction Costs in USD                 76.14\n",
       "dtype: float64"
      ]
     },
     "execution_count": 109,
     "metadata": {},
     "output_type": "execute_result"
    }
   ],
   "source": [
    "df_y_test_withdailyreturns[df_y_test_withdailyreturns[\"Class\"] == df_y_test_withdailyreturns[\"y_pred\"]].abs().sum()"
   ]
  },
  {
   "cell_type": "code",
   "execution_count": 110,
   "metadata": {
    "ExecuteTime": {
     "end_time": "2020-12-28T19:55:40.437947Z",
     "start_time": "2020-12-28T19:55:40.423976Z"
    }
   },
   "outputs": [],
   "source": [
    "dfrights = df_y_test_withdailyreturns[df_y_test_withdailyreturns[\"Class\"] == df_y_test_withdailyreturns[\"y_pred\"]]\n",
    "dfwrongs = df_y_test_withdailyreturns[df_y_test_withdailyreturns[\"Class\"] != df_y_test_withdailyreturns[\"y_pred\"]]"
   ]
  },
  {
   "cell_type": "code",
   "execution_count": 111,
   "metadata": {
    "ExecuteTime": {
     "end_time": "2020-12-28T19:55:41.086540Z",
     "start_time": "2020-12-28T19:55:40.438938Z"
    }
   },
   "outputs": [
    {
     "ename": "KeyError",
     "evalue": "'percentage_daily_return'",
     "output_type": "error",
     "traceback": [
      "\u001b[1;31m---------------------------------------------------------------------------\u001b[0m",
      "\u001b[1;31mKeyError\u001b[0m                                  Traceback (most recent call last)",
      "\u001b[1;32m<ipython-input-111-2ba25b26e639>\u001b[0m in \u001b[0;36m<module>\u001b[1;34m\u001b[0m\n\u001b[1;32m----> 1\u001b[1;33m \u001b[0mdfwrongs\u001b[0m\u001b[1;33m.\u001b[0m\u001b[0mabs\u001b[0m\u001b[1;33m(\u001b[0m\u001b[1;33m)\u001b[0m\u001b[1;33m.\u001b[0m\u001b[0msort_values\u001b[0m\u001b[1;33m(\u001b[0m\u001b[1;34m\"percentage_daily_return\"\u001b[0m\u001b[1;33m)\u001b[0m\u001b[1;33m\u001b[0m\u001b[1;33m\u001b[0m\u001b[0m\n\u001b[0m",
      "\u001b[1;32m~\\Anaconda3\\envs\\btcpred\\lib\\site-packages\\pandas\\core\\frame.py\u001b[0m in \u001b[0;36msort_values\u001b[1;34m(self, by, axis, ascending, inplace, kind, na_position, ignore_index, key)\u001b[0m\n\u001b[0;32m   5291\u001b[0m \u001b[1;33m\u001b[0m\u001b[0m\n\u001b[0;32m   5292\u001b[0m             \u001b[0mby\u001b[0m \u001b[1;33m=\u001b[0m \u001b[0mby\u001b[0m\u001b[1;33m[\u001b[0m\u001b[1;36m0\u001b[0m\u001b[1;33m]\u001b[0m\u001b[1;33m\u001b[0m\u001b[1;33m\u001b[0m\u001b[0m\n\u001b[1;32m-> 5293\u001b[1;33m             \u001b[0mk\u001b[0m \u001b[1;33m=\u001b[0m \u001b[0mself\u001b[0m\u001b[1;33m.\u001b[0m\u001b[0m_get_label_or_level_values\u001b[0m\u001b[1;33m(\u001b[0m\u001b[0mby\u001b[0m\u001b[1;33m,\u001b[0m \u001b[0maxis\u001b[0m\u001b[1;33m=\u001b[0m\u001b[0maxis\u001b[0m\u001b[1;33m)\u001b[0m\u001b[1;33m\u001b[0m\u001b[1;33m\u001b[0m\u001b[0m\n\u001b[0m\u001b[0;32m   5294\u001b[0m \u001b[1;33m\u001b[0m\u001b[0m\n\u001b[0;32m   5295\u001b[0m             \u001b[1;31m# need to rewrap column in Series to apply key function\u001b[0m\u001b[1;33m\u001b[0m\u001b[1;33m\u001b[0m\u001b[1;33m\u001b[0m\u001b[0m\n",
      "\u001b[1;32m~\\Anaconda3\\envs\\btcpred\\lib\\site-packages\\pandas\\core\\generic.py\u001b[0m in \u001b[0;36m_get_label_or_level_values\u001b[1;34m(self, key, axis)\u001b[0m\n\u001b[0;32m   1558\u001b[0m             \u001b[0mvalues\u001b[0m \u001b[1;33m=\u001b[0m \u001b[0mself\u001b[0m\u001b[1;33m.\u001b[0m\u001b[0maxes\u001b[0m\u001b[1;33m[\u001b[0m\u001b[0maxis\u001b[0m\u001b[1;33m]\u001b[0m\u001b[1;33m.\u001b[0m\u001b[0mget_level_values\u001b[0m\u001b[1;33m(\u001b[0m\u001b[0mkey\u001b[0m\u001b[1;33m)\u001b[0m\u001b[1;33m.\u001b[0m\u001b[0m_values\u001b[0m\u001b[1;33m\u001b[0m\u001b[1;33m\u001b[0m\u001b[0m\n\u001b[0;32m   1559\u001b[0m         \u001b[1;32melse\u001b[0m\u001b[1;33m:\u001b[0m\u001b[1;33m\u001b[0m\u001b[1;33m\u001b[0m\u001b[0m\n\u001b[1;32m-> 1560\u001b[1;33m             \u001b[1;32mraise\u001b[0m \u001b[0mKeyError\u001b[0m\u001b[1;33m(\u001b[0m\u001b[0mkey\u001b[0m\u001b[1;33m)\u001b[0m\u001b[1;33m\u001b[0m\u001b[1;33m\u001b[0m\u001b[0m\n\u001b[0m\u001b[0;32m   1561\u001b[0m \u001b[1;33m\u001b[0m\u001b[0m\n\u001b[0;32m   1562\u001b[0m         \u001b[1;31m# Check for duplicates\u001b[0m\u001b[1;33m\u001b[0m\u001b[1;33m\u001b[0m\u001b[1;33m\u001b[0m\u001b[0m\n",
      "\u001b[1;31mKeyError\u001b[0m: 'percentage_daily_return'"
     ]
    }
   ],
   "source": [
    "dfwrongs.abs().sort_values(\"percentage_daily_return\")"
   ]
  },
  {
   "cell_type": "code",
   "execution_count": null,
   "metadata": {
    "ExecuteTime": {
     "end_time": "2020-12-28T19:55:41.087503Z",
     "start_time": "2020-12-28T19:52:34.601Z"
    }
   },
   "outputs": [],
   "source": [
    "dfrights.sort_values(\"percentage_daily_return\")"
   ]
  },
  {
   "cell_type": "code",
   "execution_count": null,
   "metadata": {
    "ExecuteTime": {
     "end_time": "2020-12-28T19:55:41.088501Z",
     "start_time": "2020-12-28T19:52:34.607Z"
    }
   },
   "outputs": [],
   "source": [
    "dfwrongs[\"year\"] = dfwrongs.index.year\n",
    "dfwrongs.abs().groupby(['year']).agg(['sum', 'count'])"
   ]
  },
  {
   "cell_type": "code",
   "execution_count": null,
   "metadata": {
    "ExecuteTime": {
     "end_time": "2020-12-28T19:55:41.088501Z",
     "start_time": "2020-12-28T19:52:34.614Z"
    }
   },
   "outputs": [],
   "source": [
    "# HERE DIFF LOOK AT percentage_daily_return\n",
    "\n",
    "dfrights[\"year\"] = dfrights.index.year\n",
    "dfrights.abs().groupby(['year']).agg(['sum', 'count']) - dfwrongs.abs().groupby(['year']).agg(['sum', 'count'])"
   ]
  }
 ],
 "metadata": {
  "kernelspec": {
   "display_name": "Python 3",
   "language": "python",
   "name": "python3"
  },
  "language_info": {
   "codemirror_mode": {
    "name": "ipython",
    "version": 3
   },
   "file_extension": ".py",
   "mimetype": "text/x-python",
   "name": "python",
   "nbconvert_exporter": "python",
   "pygments_lexer": "ipython3",
   "version": "3.8.5"
  },
  "toc": {
   "base_numbering": 1,
   "nav_menu": {},
   "number_sections": true,
   "sideBar": true,
   "skip_h1_title": false,
   "title_cell": "Table of Contents",
   "title_sidebar": "Contents",
   "toc_cell": true,
   "toc_position": {
    "height": "calc(100% - 180px)",
    "left": "10px",
    "top": "150px",
    "width": "202.594px"
   },
   "toc_section_display": true,
   "toc_window_display": false
  },
  "toc-autonumbering": true,
  "toc-showtags": false
 },
 "nbformat": 4,
 "nbformat_minor": 4
}
