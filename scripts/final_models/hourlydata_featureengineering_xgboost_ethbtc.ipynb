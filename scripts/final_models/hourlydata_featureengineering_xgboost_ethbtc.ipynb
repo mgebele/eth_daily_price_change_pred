{
 "cells": [
  {
   "cell_type": "markdown",
   "metadata": {
    "toc": true
   },
   "source": [
    "<h1>Table of Contents<span class=\"tocSkip\"></span></h1>\n",
    "<div class=\"toc\"><ul class=\"toc-item\"><li><span><a href=\"#START-Classification-Models---Data-Set-Variations\" data-toc-modified-id=\"START-Classification-Models---Data-Set-Variations-1\"><span class=\"toc-item-num\">1&nbsp;&nbsp;</span>START Classification Models - Data Set Variations</a></span></li><li><span><a href=\"#Import-Data-Sets\" data-toc-modified-id=\"Import-Data-Sets-2\"><span class=\"toc-item-num\">2&nbsp;&nbsp;</span>Import Data Sets</a></span><ul class=\"toc-item\"><li><span><a href=\"#Data-Set-I.\" data-toc-modified-id=\"Data-Set-I.-2.1\"><span class=\"toc-item-num\">2.1&nbsp;&nbsp;</span>Data Set I.</a></span></li></ul></li><li><span><a href=\"#import-btc-data\" data-toc-modified-id=\"import-btc-data-3\"><span class=\"toc-item-num\">3&nbsp;&nbsp;</span>import btc data</a></span></li><li><span><a href=\"#calculate-meier-multiple:-200-moving-average-current-price\" data-toc-modified-id=\"calculate-meier-multiple:-200-moving-average-current-price-4\"><span class=\"toc-item-num\">4&nbsp;&nbsp;</span>calculate meier multiple: 200 moving average current price</a></span></li><li><span><a href=\"#transfers-to/from-exchanges-diff-und-sliding-window\" data-toc-modified-id=\"transfers-to/from-exchanges-diff-und-sliding-window-5\"><span class=\"toc-item-num\">5&nbsp;&nbsp;</span>transfers to/from exchanges diff und sliding window</a></span></li><li><span><a href=\"#kick-out-meyer-multiple-eth-because-of-data-loss\" data-toc-modified-id=\"kick-out-meyer-multiple-eth-because-of-data-loss-6\"><span class=\"toc-item-num\">6&nbsp;&nbsp;</span>kick out meyer multiple eth because of data loss</a></span></li><li><span><a href=\"#Bring-df_dataset1-and-df_dataset_btc-together\" data-toc-modified-id=\"Bring-df_dataset1-and-df_dataset_btc-together-7\"><span class=\"toc-item-num\">7&nbsp;&nbsp;</span>Bring df_dataset1 and df_dataset_btc together</a></span><ul class=\"toc-item\"><li><span><a href=\"#Prediction-Shift\" data-toc-modified-id=\"Prediction-Shift-7.1\"><span class=\"toc-item-num\">7.1&nbsp;&nbsp;</span>Prediction Shift</a></span><ul class=\"toc-item\"><li><span><a href=\"#Data-Set-I.\" data-toc-modified-id=\"Data-Set-I.-7.1.1\"><span class=\"toc-item-num\">7.1.1&nbsp;&nbsp;</span>Data Set I.</a></span></li></ul></li></ul></li><li><span><a href=\"#get-yearly-btc-dollar-increase-for-traditional-investment\" data-toc-modified-id=\"get-yearly-btc-dollar-increase-for-traditional-investment-8\"><span class=\"toc-item-num\">8&nbsp;&nbsp;</span>get yearly btc dollar increase for traditional investment</a></span></li><li><span><a href=\"#Classification-Setup\" data-toc-modified-id=\"Classification-Setup-9\"><span class=\"toc-item-num\">9&nbsp;&nbsp;</span>Classification Setup</a></span><ul class=\"toc-item\"><li><span><a href=\"#Create-Data-Set-Copies-for-Trading-Strategy\" data-toc-modified-id=\"Create-Data-Set-Copies-for-Trading-Strategy-9.1\"><span class=\"toc-item-num\">9.1&nbsp;&nbsp;</span>Create Data Set Copies for Trading Strategy</a></span></li><li><span><a href=\"#Categorization---Data-Set-I.\" data-toc-modified-id=\"Categorization---Data-Set-I.-9.2\"><span class=\"toc-item-num\">9.2&nbsp;&nbsp;</span>Categorization - Data Set I.</a></span></li></ul></li><li><span><a href=\"#Model-Preparation---Data-Set-I.\" data-toc-modified-id=\"Model-Preparation---Data-Set-I.-10\"><span class=\"toc-item-num\">10&nbsp;&nbsp;</span>Model Preparation - Data Set I.</a></span><ul class=\"toc-item\"><li><span><a href=\"#Train-Test-Split---Data-Set-I.\" data-toc-modified-id=\"Train-Test-Split---Data-Set-I.-10.1\"><span class=\"toc-item-num\">10.1&nbsp;&nbsp;</span>Train Test Split - Data Set I.</a></span><ul class=\"toc-item\"><li><span><a href=\"#Check-of-Class-Balance\" data-toc-modified-id=\"Check-of-Class-Balance-10.1.1\"><span class=\"toc-item-num\">10.1.1&nbsp;&nbsp;</span>Check of Class Balance</a></span></li></ul></li></ul></li><li><span><a href=\"#Feature-Selection-random-forest\" data-toc-modified-id=\"Feature-Selection-random-forest-11\"><span class=\"toc-item-num\">11&nbsp;&nbsp;</span>Feature Selection random forest</a></span></li><li><span><a href=\"#Classification-Models---Data-Set-I.\" data-toc-modified-id=\"Classification-Models---Data-Set-I.-12\"><span class=\"toc-item-num\">12&nbsp;&nbsp;</span>Classification Models - Data Set I.</a></span></li><li><span><a href=\"#Hyperparam-tuning-ranfo\" data-toc-modified-id=\"Hyperparam-tuning-ranfo-13\"><span class=\"toc-item-num\">13&nbsp;&nbsp;</span>Hyperparam tuning ranfo</a></span><ul class=\"toc-item\"><li><span><a href=\"#XGBoost---Data-Set-I.\" data-toc-modified-id=\"XGBoost---Data-Set-I.-13.1\"><span class=\"toc-item-num\">13.1&nbsp;&nbsp;</span>XGBoost - Data Set I.</a></span></li><li><span><a href=\"#Logistic-Regression---Data-Set-I.\" data-toc-modified-id=\"Logistic-Regression---Data-Set-I.-13.2\"><span class=\"toc-item-num\">13.2&nbsp;&nbsp;</span>Logistic Regression - Data Set I.</a></span></li><li><span><a href=\"#XGBoost---Data-Set-I.\" data-toc-modified-id=\"XGBoost---Data-Set-I.-13.3\"><span class=\"toc-item-num\">13.3&nbsp;&nbsp;</span>XGBoost - Data Set I.</a></span></li><li><span><a href=\"#Random-Forest-Classifier---Data-Set-I.\" data-toc-modified-id=\"Random-Forest-Classifier---Data-Set-I.-13.4\"><span class=\"toc-item-num\">13.4&nbsp;&nbsp;</span>Random Forest Classifier - Data Set I.</a></span></li></ul></li><li><span><a href=\"#Trading-Strategy---Data-Set-I\" data-toc-modified-id=\"Trading-Strategy---Data-Set-I-14\"><span class=\"toc-item-num\">14&nbsp;&nbsp;</span>Trading Strategy - Data Set I</a></span><ul class=\"toc-item\"><li><span><a href=\"#Trading-Strategy-in-Combination-with-Logistic-Regression\" data-toc-modified-id=\"Trading-Strategy-in-Combination-with-Logistic-Regression-14.1\"><span class=\"toc-item-num\">14.1&nbsp;&nbsp;</span>Trading Strategy in Combination with Logistic Regression</a></span></li></ul></li><li><span><a href=\"#inserted-only-bet-on-rising!-because-of-good-precision-there!\" data-toc-modified-id=\"inserted-only-bet-on-rising!-because-of-good-precision-there!-15\"><span class=\"toc-item-num\">15&nbsp;&nbsp;</span>inserted only bet on rising! because of good precision there!</a></span></li><li><span><a href=\"#Compare-with-year-2017\" data-toc-modified-id=\"Compare-with-year-2017-16\"><span class=\"toc-item-num\">16&nbsp;&nbsp;</span>Compare with year 2017</a></span></li><li><span><a href=\"#Compare-with-year-2018\" data-toc-modified-id=\"Compare-with-year-2018-17\"><span class=\"toc-item-num\">17&nbsp;&nbsp;</span>Compare with year 2018</a></span></li><li><span><a href=\"#Compare-with-year-2019\" data-toc-modified-id=\"Compare-with-year-2019-18\"><span class=\"toc-item-num\">18&nbsp;&nbsp;</span>Compare with year 2019</a></span></li><li><span><a href=\"#Compare-with-year-20\" data-toc-modified-id=\"Compare-with-year-20-19\"><span class=\"toc-item-num\">19&nbsp;&nbsp;</span>Compare with year 20</a></span></li><li><span><a href=\"#Save-Results-as-csv\" data-toc-modified-id=\"Save-Results-as-csv-20\"><span class=\"toc-item-num\">20&nbsp;&nbsp;</span>Save Results as csv</a></span></li><li><span><a href=\"#Deepdive-in-prediction\" data-toc-modified-id=\"Deepdive-in-prediction-21\"><span class=\"toc-item-num\">21&nbsp;&nbsp;</span>Deepdive in prediction</a></span></li><li><span><a href=\"#predict-on-tomorrow\" data-toc-modified-id=\"predict-on-tomorrow-22\"><span class=\"toc-item-num\">22&nbsp;&nbsp;</span>predict on tomorrow</a></span></li><li><span><a href=\"#get-x-train-data-of-today-to-predict-tomorrow-y\" data-toc-modified-id=\"get-x-train-data-of-today-to-predict-tomorrow-y-23\"><span class=\"toc-item-num\">23&nbsp;&nbsp;</span>get x train data of today to predict tomorrow y</a></span></li></ul></div>"
   ]
  },
  {
   "cell_type": "markdown",
   "metadata": {},
   "source": [
    "# START Classification Models - Data Set Variations"
   ]
  },
  {
   "cell_type": "code",
   "execution_count": 1,
   "metadata": {
    "ExecuteTime": {
     "end_time": "2021-01-31T17:03:32.243086Z",
     "start_time": "2021-01-31T17:03:28.792282Z"
    },
    "scrolled": true
   },
   "outputs": [],
   "source": [
    "# Import of Modules and Packages\n",
    "import os\n",
    "import pandas as pd\n",
    "import matplotlib.pyplot as plt\n",
    "import math\n",
    "\n",
    "from sklearn.preprocessing import StandardScaler, MinMaxScaler\n",
    "\n",
    "from sklearn.model_selection import train_test_split\n",
    "from sklearn.model_selection import cross_val_score\n",
    "from sklearn.model_selection import StratifiedKFold\n",
    "from sklearn.metrics import roc_auc_score, roc_curve\n",
    "from sklearn.metrics import confusion_matrix, classification_report\n",
    "\n",
    "# Logistic Regression\n",
    "from sklearn.linear_model import LogisticRegression\n",
    "from sklearn.tree import DecisionTreeClassifier\n",
    "from sklearn.ensemble import RandomForestClassifier\n",
    "from sklearn.neighbors import KNeighborsClassifier\n",
    "\n",
    "import numpy as np"
   ]
  },
  {
   "cell_type": "code",
   "execution_count": 2,
   "metadata": {
    "ExecuteTime": {
     "end_time": "2021-01-31T17:03:32.258740Z",
     "start_time": "2021-01-31T17:03:32.245005Z"
    }
   },
   "outputs": [],
   "source": [
    "# # Adjustment of Decimal Places\n",
    "# pd.options.display.float_format = '{:.2f}'.format\n",
    "# pd.set_option('display.max_columns', None)\n"
   ]
  },
  {
   "cell_type": "markdown",
   "metadata": {},
   "source": [
    "# Import Data Sets"
   ]
  },
  {
   "cell_type": "markdown",
   "metadata": {},
   "source": [
    "## Data Set I."
   ]
  },
  {
   "cell_type": "code",
   "execution_count": 3,
   "metadata": {
    "ExecuteTime": {
     "end_time": "2021-01-31T17:03:32.274001Z",
     "start_time": "2021-01-31T17:03:32.261930Z"
    }
   },
   "outputs": [
    {
     "data": {
      "text/plain": [
       "'c:\\\\Users\\\\markus.gebele\\\\github_repo\\\\JupyterLabDir\\\\Rest\\\\Pr BTC\\\\ml_model\\\\final_models'"
      ]
     },
     "execution_count": 3,
     "metadata": {},
     "output_type": "execute_result"
    }
   ],
   "source": [
    "os.getcwd()"
   ]
  },
  {
   "cell_type": "code",
   "execution_count": 4,
   "metadata": {
    "ExecuteTime": {
     "end_time": "2021-01-31T17:03:32.289967Z",
     "start_time": "2021-01-31T17:03:32.275895Z"
    }
   },
   "outputs": [],
   "source": [
    "os.chdir('{}JupyterLabDir\\\\Rest\\\\Pr BTC\\\\calculated_datasets'.format(os.getcwd().split('JupyterLabDir')[0]))\n"
   ]
  },
  {
   "cell_type": "code",
   "execution_count": 5,
   "metadata": {
    "ExecuteTime": {
     "end_time": "2021-01-31T17:03:32.299594Z",
     "start_time": "2021-01-31T17:03:32.290854Z"
    }
   },
   "outputs": [],
   "source": [
    "datacsvpath = 'df_eth_tier1_h.csv'"
   ]
  },
  {
   "cell_type": "code",
   "execution_count": 6,
   "metadata": {
    "ExecuteTime": {
     "end_time": "2021-01-31T17:03:32.819985Z",
     "start_time": "2021-01-31T17:03:32.300827Z"
    }
   },
   "outputs": [],
   "source": [
    "# CSV Import of Data Set I. - Blockchain Data\n",
    "df_dataset1 = pd.read_csv(datacsvpath, parse_dates = True, index_col='Date')"
   ]
  },
  {
   "cell_type": "markdown",
   "metadata": {},
   "source": [
    "# import btc data"
   ]
  },
  {
   "cell_type": "code",
   "execution_count": 7,
   "metadata": {
    "ExecuteTime": {
     "end_time": "2021-01-31T17:03:33.857573Z",
     "start_time": "2021-01-31T17:03:32.823943Z"
    }
   },
   "outputs": [],
   "source": [
    "df_dataset_btc = pd.read_csv('df_btc_tier1_h.csv', parse_dates = True, index_col='Date')\n",
    "# List of Data Types\n",
    "l_dtypes_btc = df_dataset_btc.dtypes\n",
    "# name btc feats different\n",
    "df_dataset_btc.columns = [str(col) + '_btc' for col in df_dataset_btc.columns]\n"
   ]
  },
  {
   "cell_type": "code",
   "execution_count": 8,
   "metadata": {
    "ExecuteTime": {
     "end_time": "2021-01-31T17:03:34.470819Z",
     "start_time": "2021-01-31T17:03:33.859401Z"
    }
   },
   "outputs": [],
   "source": [
    "# Merging all Blockchain DataFrame Metrics\n",
    "# issued = The total amount of new coins added to the current supply, i.e. minted coins or new coins released to the network. \n",
    "# current = The total amount of all coins ever created/issued, i.e. the circulating supply. \n",
    "df_dataset_btc = df_dataset_btc[[\"addresses/active_count_btc\",\n",
    "                                \"Closed Price USD_btc\",\n",
    "                                \"blockchain/block_count_btc\",\n",
    "                                \"supply/current_btc\",\n",
    "                                #  \"supply/issued_btc\",\n",
    "#                                 \"transactions/transfers_volume_from_exchanges_sum_btc\",\n",
    "                                \"Daily Return in USD_btc\",\n",
    "                                ]]\n"
   ]
  },
  {
   "cell_type": "code",
   "execution_count": 9,
   "metadata": {
    "ExecuteTime": {
     "end_time": "2021-01-31T17:03:34.472738Z",
     "start_time": "2021-01-31T17:03:28.502Z"
    }
   },
   "outputs": [],
   "source": [
    "df_dataset_btc[\"addresses/active_count_btc_cumsum\"] = df_dataset_btc[\"addresses/active_count_btc\"].cumsum()"
   ]
  },
  {
   "cell_type": "code",
   "execution_count": 10,
   "metadata": {
    "ExecuteTime": {
     "end_time": "2021-01-31T17:03:34.473734Z",
     "start_time": "2021-01-31T17:03:28.670Z"
    }
   },
   "outputs": [
    {
     "data": {
      "text/html": [
       "<div>\n",
       "<style scoped>\n",
       "    .dataframe tbody tr th:only-of-type {\n",
       "        vertical-align: middle;\n",
       "    }\n",
       "\n",
       "    .dataframe tbody tr th {\n",
       "        vertical-align: top;\n",
       "    }\n",
       "\n",
       "    .dataframe thead th {\n",
       "        text-align: right;\n",
       "    }\n",
       "</style>\n",
       "<table border=\"1\" class=\"dataframe\">\n",
       "  <thead>\n",
       "    <tr style=\"text-align: right;\">\n",
       "      <th></th>\n",
       "      <th>Closed Price USD_btc</th>\n",
       "      <th>market/price_usd_close_btc_diff</th>\n",
       "      <th>addresses/active_count_btc_cumsum</th>\n",
       "    </tr>\n",
       "    <tr>\n",
       "      <th>Date</th>\n",
       "      <th></th>\n",
       "      <th></th>\n",
       "      <th></th>\n",
       "    </tr>\n",
       "  </thead>\n",
       "  <tbody>\n",
       "    <tr>\n",
       "      <th>2010-07-18 03:00:00</th>\n",
       "      <td>0.059410</td>\n",
       "      <td>NaN</td>\n",
       "      <td>1.500000e+01</td>\n",
       "    </tr>\n",
       "    <tr>\n",
       "      <th>2010-07-18 04:00:00</th>\n",
       "      <td>0.059410</td>\n",
       "      <td>0.000000</td>\n",
       "      <td>3.500000e+01</td>\n",
       "    </tr>\n",
       "    <tr>\n",
       "      <th>2010-07-18 05:00:00</th>\n",
       "      <td>0.059410</td>\n",
       "      <td>0.000000</td>\n",
       "      <td>5.800000e+01</td>\n",
       "    </tr>\n",
       "    <tr>\n",
       "      <th>2010-07-18 06:00:00</th>\n",
       "      <td>0.059410</td>\n",
       "      <td>0.000000</td>\n",
       "      <td>7.400000e+01</td>\n",
       "    </tr>\n",
       "    <tr>\n",
       "      <th>2010-07-18 07:00:00</th>\n",
       "      <td>0.059410</td>\n",
       "      <td>0.000000</td>\n",
       "      <td>9.400000e+01</td>\n",
       "    </tr>\n",
       "    <tr>\n",
       "      <th>...</th>\n",
       "      <td>...</td>\n",
       "      <td>...</td>\n",
       "      <td>...</td>\n",
       "    </tr>\n",
       "    <tr>\n",
       "      <th>2021-01-31 11:00:00</th>\n",
       "      <td>33591.446705</td>\n",
       "      <td>-40.924733</td>\n",
       "      <td>2.116284e+09</td>\n",
       "    </tr>\n",
       "    <tr>\n",
       "      <th>2021-01-31 12:00:00</th>\n",
       "      <td>33960.283083</td>\n",
       "      <td>368.836378</td>\n",
       "      <td>2.116349e+09</td>\n",
       "    </tr>\n",
       "    <tr>\n",
       "      <th>2021-01-31 13:00:00</th>\n",
       "      <td>33628.755182</td>\n",
       "      <td>-331.527901</td>\n",
       "      <td>2.116377e+09</td>\n",
       "    </tr>\n",
       "    <tr>\n",
       "      <th>2021-01-31 14:00:00</th>\n",
       "      <td>33399.468206</td>\n",
       "      <td>-229.286977</td>\n",
       "      <td>2.116454e+09</td>\n",
       "    </tr>\n",
       "    <tr>\n",
       "      <th>2021-01-31 15:00:00</th>\n",
       "      <td>32893.460005</td>\n",
       "      <td>-506.008201</td>\n",
       "      <td>2.116486e+09</td>\n",
       "    </tr>\n",
       "  </tbody>\n",
       "</table>\n",
       "<p>91444 rows × 3 columns</p>\n",
       "</div>"
      ],
      "text/plain": [
       "                     Closed Price USD_btc  market/price_usd_close_btc_diff  \\\n",
       "Date                                                                         \n",
       "2010-07-18 03:00:00              0.059410                              NaN   \n",
       "2010-07-18 04:00:00              0.059410                         0.000000   \n",
       "2010-07-18 05:00:00              0.059410                         0.000000   \n",
       "2010-07-18 06:00:00              0.059410                         0.000000   \n",
       "2010-07-18 07:00:00              0.059410                         0.000000   \n",
       "...                                   ...                              ...   \n",
       "2021-01-31 11:00:00          33591.446705                       -40.924733   \n",
       "2021-01-31 12:00:00          33960.283083                       368.836378   \n",
       "2021-01-31 13:00:00          33628.755182                      -331.527901   \n",
       "2021-01-31 14:00:00          33399.468206                      -229.286977   \n",
       "2021-01-31 15:00:00          32893.460005                      -506.008201   \n",
       "\n",
       "                     addresses/active_count_btc_cumsum  \n",
       "Date                                                    \n",
       "2010-07-18 03:00:00                       1.500000e+01  \n",
       "2010-07-18 04:00:00                       3.500000e+01  \n",
       "2010-07-18 05:00:00                       5.800000e+01  \n",
       "2010-07-18 06:00:00                       7.400000e+01  \n",
       "2010-07-18 07:00:00                       9.400000e+01  \n",
       "...                                                ...  \n",
       "2021-01-31 11:00:00                       2.116284e+09  \n",
       "2021-01-31 12:00:00                       2.116349e+09  \n",
       "2021-01-31 13:00:00                       2.116377e+09  \n",
       "2021-01-31 14:00:00                       2.116454e+09  \n",
       "2021-01-31 15:00:00                       2.116486e+09  \n",
       "\n",
       "[91444 rows x 3 columns]"
      ]
     },
     "execution_count": 10,
     "metadata": {},
     "output_type": "execute_result"
    }
   ],
   "source": [
    "df_dataset_btc[\"market/price_usd_close_btc_diff\"] = df_dataset_btc[\"Closed Price USD_btc\"].diff()\n",
    "df_dataset_btc[[\"Closed Price USD_btc\",\n",
    "                \"market/price_usd_close_btc_diff\",\n",
    "               \"addresses/active_count_btc_cumsum\"]]\n"
   ]
  },
  {
   "cell_type": "markdown",
   "metadata": {},
   "source": [
    "# calculate meier multiple: 200 moving average current price"
   ]
  },
  {
   "cell_type": "code",
   "execution_count": 11,
   "metadata": {
    "ExecuteTime": {
     "end_time": "2021-01-31T17:03:34.473734Z",
     "start_time": "2021-01-31T17:03:29.031Z"
    }
   },
   "outputs": [
    {
     "data": {
      "text/html": [
       "<div>\n",
       "<style scoped>\n",
       "    .dataframe tbody tr th:only-of-type {\n",
       "        vertical-align: middle;\n",
       "    }\n",
       "\n",
       "    .dataframe tbody tr th {\n",
       "        vertical-align: top;\n",
       "    }\n",
       "\n",
       "    .dataframe thead th {\n",
       "        text-align: right;\n",
       "    }\n",
       "</style>\n",
       "<table border=\"1\" class=\"dataframe\">\n",
       "  <thead>\n",
       "    <tr style=\"text-align: right;\">\n",
       "      <th></th>\n",
       "      <th>addresses/active_count_btc</th>\n",
       "      <th>Closed Price USD_btc</th>\n",
       "      <th>blockchain/block_count_btc</th>\n",
       "      <th>supply/current_btc</th>\n",
       "      <th>Daily Return in USD_btc</th>\n",
       "      <th>addresses/active_count_btc_cumsum</th>\n",
       "      <th>market/price_usd_close_btc_diff</th>\n",
       "    </tr>\n",
       "    <tr>\n",
       "      <th>Date</th>\n",
       "      <th></th>\n",
       "      <th></th>\n",
       "      <th></th>\n",
       "      <th></th>\n",
       "      <th></th>\n",
       "      <th></th>\n",
       "      <th></th>\n",
       "    </tr>\n",
       "  </thead>\n",
       "  <tbody>\n",
       "    <tr>\n",
       "      <th>2010-07-18 03:00:00</th>\n",
       "      <td>15.0</td>\n",
       "      <td>0.059410</td>\n",
       "      <td>4.0</td>\n",
       "      <td>3440100.00</td>\n",
       "      <td>0.009900</td>\n",
       "      <td>1.500000e+01</td>\n",
       "      <td>NaN</td>\n",
       "    </tr>\n",
       "    <tr>\n",
       "      <th>2010-07-18 04:00:00</th>\n",
       "      <td>20.0</td>\n",
       "      <td>0.059410</td>\n",
       "      <td>11.0</td>\n",
       "      <td>3440650.00</td>\n",
       "      <td>0.000000</td>\n",
       "      <td>3.500000e+01</td>\n",
       "      <td>0.000000</td>\n",
       "    </tr>\n",
       "    <tr>\n",
       "      <th>2010-07-18 05:00:00</th>\n",
       "      <td>23.0</td>\n",
       "      <td>0.059410</td>\n",
       "      <td>4.0</td>\n",
       "      <td>3440850.00</td>\n",
       "      <td>0.000000</td>\n",
       "      <td>5.800000e+01</td>\n",
       "      <td>0.000000</td>\n",
       "    </tr>\n",
       "    <tr>\n",
       "      <th>2010-07-18 06:00:00</th>\n",
       "      <td>16.0</td>\n",
       "      <td>0.059410</td>\n",
       "      <td>10.0</td>\n",
       "      <td>3441350.00</td>\n",
       "      <td>0.000000</td>\n",
       "      <td>7.400000e+01</td>\n",
       "      <td>0.000000</td>\n",
       "    </tr>\n",
       "    <tr>\n",
       "      <th>2010-07-18 07:00:00</th>\n",
       "      <td>20.0</td>\n",
       "      <td>0.059410</td>\n",
       "      <td>13.0</td>\n",
       "      <td>3442000.00</td>\n",
       "      <td>0.000000</td>\n",
       "      <td>9.400000e+01</td>\n",
       "      <td>0.000000</td>\n",
       "    </tr>\n",
       "    <tr>\n",
       "      <th>...</th>\n",
       "      <td>...</td>\n",
       "      <td>...</td>\n",
       "      <td>...</td>\n",
       "      <td>...</td>\n",
       "      <td>...</td>\n",
       "      <td>...</td>\n",
       "      <td>...</td>\n",
       "    </tr>\n",
       "    <tr>\n",
       "      <th>2021-01-31 11:00:00</th>\n",
       "      <td>62207.0</td>\n",
       "      <td>33591.446705</td>\n",
       "      <td>7.0</td>\n",
       "      <td>18615462.50</td>\n",
       "      <td>-40.924733</td>\n",
       "      <td>2.116284e+09</td>\n",
       "      <td>-40.924733</td>\n",
       "    </tr>\n",
       "    <tr>\n",
       "      <th>2021-01-31 12:00:00</th>\n",
       "      <td>64826.0</td>\n",
       "      <td>33960.283083</td>\n",
       "      <td>8.0</td>\n",
       "      <td>18615512.50</td>\n",
       "      <td>368.836378</td>\n",
       "      <td>2.116349e+09</td>\n",
       "      <td>368.836378</td>\n",
       "    </tr>\n",
       "    <tr>\n",
       "      <th>2021-01-31 13:00:00</th>\n",
       "      <td>27620.0</td>\n",
       "      <td>33628.755182</td>\n",
       "      <td>3.0</td>\n",
       "      <td>18615531.25</td>\n",
       "      <td>-331.527901</td>\n",
       "      <td>2.116377e+09</td>\n",
       "      <td>-331.527901</td>\n",
       "    </tr>\n",
       "    <tr>\n",
       "      <th>2021-01-31 14:00:00</th>\n",
       "      <td>77148.0</td>\n",
       "      <td>33399.468206</td>\n",
       "      <td>8.0</td>\n",
       "      <td>18615581.25</td>\n",
       "      <td>-229.286977</td>\n",
       "      <td>2.116454e+09</td>\n",
       "      <td>-229.286977</td>\n",
       "    </tr>\n",
       "    <tr>\n",
       "      <th>2021-01-31 15:00:00</th>\n",
       "      <td>32218.0</td>\n",
       "      <td>32893.460005</td>\n",
       "      <td>3.0</td>\n",
       "      <td>18615600.00</td>\n",
       "      <td>-506.008201</td>\n",
       "      <td>2.116486e+09</td>\n",
       "      <td>-506.008201</td>\n",
       "    </tr>\n",
       "  </tbody>\n",
       "</table>\n",
       "<p>91444 rows × 7 columns</p>\n",
       "</div>"
      ],
      "text/plain": [
       "                     addresses/active_count_btc  Closed Price USD_btc  \\\n",
       "Date                                                                    \n",
       "2010-07-18 03:00:00                        15.0              0.059410   \n",
       "2010-07-18 04:00:00                        20.0              0.059410   \n",
       "2010-07-18 05:00:00                        23.0              0.059410   \n",
       "2010-07-18 06:00:00                        16.0              0.059410   \n",
       "2010-07-18 07:00:00                        20.0              0.059410   \n",
       "...                                         ...                   ...   \n",
       "2021-01-31 11:00:00                     62207.0          33591.446705   \n",
       "2021-01-31 12:00:00                     64826.0          33960.283083   \n",
       "2021-01-31 13:00:00                     27620.0          33628.755182   \n",
       "2021-01-31 14:00:00                     77148.0          33399.468206   \n",
       "2021-01-31 15:00:00                     32218.0          32893.460005   \n",
       "\n",
       "                     blockchain/block_count_btc  supply/current_btc  \\\n",
       "Date                                                                  \n",
       "2010-07-18 03:00:00                         4.0          3440100.00   \n",
       "2010-07-18 04:00:00                        11.0          3440650.00   \n",
       "2010-07-18 05:00:00                         4.0          3440850.00   \n",
       "2010-07-18 06:00:00                        10.0          3441350.00   \n",
       "2010-07-18 07:00:00                        13.0          3442000.00   \n",
       "...                                         ...                 ...   \n",
       "2021-01-31 11:00:00                         7.0         18615462.50   \n",
       "2021-01-31 12:00:00                         8.0         18615512.50   \n",
       "2021-01-31 13:00:00                         3.0         18615531.25   \n",
       "2021-01-31 14:00:00                         8.0         18615581.25   \n",
       "2021-01-31 15:00:00                         3.0         18615600.00   \n",
       "\n",
       "                     Daily Return in USD_btc  \\\n",
       "Date                                           \n",
       "2010-07-18 03:00:00                 0.009900   \n",
       "2010-07-18 04:00:00                 0.000000   \n",
       "2010-07-18 05:00:00                 0.000000   \n",
       "2010-07-18 06:00:00                 0.000000   \n",
       "2010-07-18 07:00:00                 0.000000   \n",
       "...                                      ...   \n",
       "2021-01-31 11:00:00               -40.924733   \n",
       "2021-01-31 12:00:00               368.836378   \n",
       "2021-01-31 13:00:00              -331.527901   \n",
       "2021-01-31 14:00:00              -229.286977   \n",
       "2021-01-31 15:00:00              -506.008201   \n",
       "\n",
       "                     addresses/active_count_btc_cumsum  \\\n",
       "Date                                                     \n",
       "2010-07-18 03:00:00                       1.500000e+01   \n",
       "2010-07-18 04:00:00                       3.500000e+01   \n",
       "2010-07-18 05:00:00                       5.800000e+01   \n",
       "2010-07-18 06:00:00                       7.400000e+01   \n",
       "2010-07-18 07:00:00                       9.400000e+01   \n",
       "...                                                ...   \n",
       "2021-01-31 11:00:00                       2.116284e+09   \n",
       "2021-01-31 12:00:00                       2.116349e+09   \n",
       "2021-01-31 13:00:00                       2.116377e+09   \n",
       "2021-01-31 14:00:00                       2.116454e+09   \n",
       "2021-01-31 15:00:00                       2.116486e+09   \n",
       "\n",
       "                     market/price_usd_close_btc_diff  \n",
       "Date                                                  \n",
       "2010-07-18 03:00:00                              NaN  \n",
       "2010-07-18 04:00:00                         0.000000  \n",
       "2010-07-18 05:00:00                         0.000000  \n",
       "2010-07-18 06:00:00                         0.000000  \n",
       "2010-07-18 07:00:00                         0.000000  \n",
       "...                                              ...  \n",
       "2021-01-31 11:00:00                       -40.924733  \n",
       "2021-01-31 12:00:00                       368.836378  \n",
       "2021-01-31 13:00:00                      -331.527901  \n",
       "2021-01-31 14:00:00                      -229.286977  \n",
       "2021-01-31 15:00:00                      -506.008201  \n",
       "\n",
       "[91444 rows x 7 columns]"
      ]
     },
     "execution_count": 11,
     "metadata": {},
     "output_type": "execute_result"
    }
   ],
   "source": [
    "df_dataset_btc = df_dataset_btc.sort_index(ascending=True)\n",
    "df_dataset_btc"
   ]
  },
  {
   "cell_type": "code",
   "execution_count": 12,
   "metadata": {
    "ExecuteTime": {
     "end_time": "2021-01-31T17:03:34.474732Z",
     "start_time": "2021-01-31T17:03:29.246Z"
    }
   },
   "outputs": [
    {
     "data": {
      "text/plain": [
       "Date\n",
       "2010-07-18 03:00:00         NaN\n",
       "2010-07-18 04:00:00         NaN\n",
       "2010-07-18 05:00:00         NaN\n",
       "2010-07-18 06:00:00         NaN\n",
       "2010-07-18 07:00:00         NaN\n",
       "                         ...   \n",
       "2021-01-31 11:00:00    1.023169\n",
       "2021-01-31 12:00:00    1.034151\n",
       "2021-01-31 13:00:00    1.023868\n",
       "2021-01-31 14:00:00    1.016766\n",
       "2021-01-31 15:00:00    1.001418\n",
       "Name: mayer_multiple_btc, Length: 91444, dtype: float64"
      ]
     },
     "execution_count": 12,
     "metadata": {},
     "output_type": "execute_result"
    }
   ],
   "source": [
    "# min_periods = 1\n",
    "df_dataset_btc[\"200movingaverage_btc\"] = pd.Series.rolling(df_dataset_btc[\"Closed Price USD_btc\"], window=200,).mean()\n",
    "df_dataset_btc[\"mayer_multiple_btc\"] =  df_dataset_btc[\"Closed Price USD_btc\"] / df_dataset_btc[\"200movingaverage_btc\"]\n",
    "df_dataset_btc[\"mayer_multiple_btc\"]"
   ]
  },
  {
   "cell_type": "code",
   "execution_count": 13,
   "metadata": {
    "ExecuteTime": {
     "end_time": "2021-01-31T17:03:34.475729Z",
     "start_time": "2021-01-31T17:03:29.442Z"
    }
   },
   "outputs": [],
   "source": [
    "df_dataset_btc[\"blockchain/block_count_btc_cumsum\"] = df_dataset_btc[\"blockchain/block_count_btc\"].cumsum()"
   ]
  },
  {
   "cell_type": "code",
   "execution_count": 14,
   "metadata": {
    "ExecuteTime": {
     "end_time": "2021-01-31T17:03:34.476726Z",
     "start_time": "2021-01-31T17:03:29.598Z"
    }
   },
   "outputs": [],
   "source": [
    "# somehow there are blocks missing so i just added the number of missing blocks\n",
    "df_dataset_btc[\"blockchain/block_count_btc_cumsum\"] = df_dataset_btc[\"blockchain/block_count_btc_cumsum\"]+141381"
   ]
  },
  {
   "cell_type": "code",
   "execution_count": 15,
   "metadata": {
    "ExecuteTime": {
     "end_time": "2021-01-31T17:03:34.476726Z",
     "start_time": "2021-01-31T17:03:29.784Z"
    }
   },
   "outputs": [
    {
     "data": {
      "text/plain": [
       "Date\n",
       "2016-07-09 00:00:00    486736.0\n",
       "2016-07-09 01:00:00    486743.0\n",
       "2016-07-09 02:00:00    486745.0\n",
       "2016-07-09 03:00:00    486750.0\n",
       "2016-07-09 04:00:00    486757.0\n",
       "2016-07-09 05:00:00    486762.0\n",
       "2016-07-09 06:00:00    486772.0\n",
       "2016-07-09 07:00:00    486776.0\n",
       "2016-07-09 08:00:00    486780.0\n",
       "2016-07-09 09:00:00    486785.0\n",
       "2016-07-09 10:00:00    486791.0\n",
       "2016-07-09 11:00:00    486796.0\n",
       "2016-07-09 12:00:00    486802.0\n",
       "2016-07-09 13:00:00    486809.0\n",
       "2016-07-09 14:00:00    486816.0\n",
       "2016-07-09 15:00:00    486823.0\n",
       "2016-07-09 16:00:00    486830.0\n",
       "2016-07-09 17:00:00    486834.0\n",
       "2016-07-09 18:00:00    486840.0\n",
       "2016-07-09 19:00:00    486847.0\n",
       "2016-07-09 20:00:00    486856.0\n",
       "2016-07-09 21:00:00    486862.0\n",
       "2016-07-09 22:00:00    486871.0\n",
       "2016-07-09 23:00:00    486876.0\n",
       "Name: blockchain/block_count_btc_cumsum, dtype: float64"
      ]
     },
     "execution_count": 15,
     "metadata": {},
     "output_type": "execute_result"
    }
   ],
   "source": [
    "# we are only +- 35 precise \n",
    "df_dataset_btc[\"blockchain/block_count_btc_cumsum\"].loc['2016-07-09']"
   ]
  },
  {
   "cell_type": "code",
   "execution_count": 16,
   "metadata": {
    "ExecuteTime": {
     "end_time": "2021-01-31T17:03:34.477730Z",
     "start_time": "2021-01-31T17:03:29.984Z"
    }
   },
   "outputs": [
    {
     "data": {
      "text/plain": [
       "Date\n",
       "2012-11-28 00:00:00    276720.0\n",
       "2012-11-28 01:00:00    276726.0\n",
       "2012-11-28 02:00:00    276733.0\n",
       "2012-11-28 03:00:00    276742.0\n",
       "2012-11-28 04:00:00    276752.0\n",
       "2012-11-28 05:00:00    276762.0\n",
       "2012-11-28 06:00:00    276767.0\n",
       "2012-11-28 07:00:00    276774.0\n",
       "2012-11-28 08:00:00    276782.0\n",
       "2012-11-28 09:00:00    276787.0\n",
       "2012-11-28 10:00:00    276796.0\n",
       "2012-11-28 11:00:00    276802.0\n",
       "2012-11-28 12:00:00    276811.0\n",
       "2012-11-28 13:00:00    276821.0\n",
       "2012-11-28 14:00:00    276827.0\n",
       "2012-11-28 15:00:00    276832.0\n",
       "2012-11-28 16:00:00    276841.0\n",
       "2012-11-28 17:00:00    276848.0\n",
       "2012-11-28 18:00:00    276855.0\n",
       "2012-11-28 19:00:00    276867.0\n",
       "2012-11-28 20:00:00    276870.0\n",
       "2012-11-28 21:00:00    276876.0\n",
       "2012-11-28 22:00:00    276880.0\n",
       "2012-11-28 23:00:00    276887.0\n",
       "Name: blockchain/block_count_btc_cumsum, dtype: float64"
      ]
     },
     "execution_count": 16,
     "metadata": {},
     "output_type": "execute_result"
    }
   ],
   "source": [
    "df_dataset_btc[\"blockchain/block_count_btc_cumsum\"].loc['2012-11-28']"
   ]
  },
  {
   "cell_type": "code",
   "execution_count": 17,
   "metadata": {
    "ExecuteTime": {
     "end_time": "2021-01-31T17:03:34.478721Z",
     "start_time": "2021-01-31T17:03:30.174Z"
    }
   },
   "outputs": [],
   "source": [
    "# 0 = halving! 1 = no halving\n",
    "df_dataset_btc['halving'] = np.where(df_dataset_btc[\"blockchain/block_count_btc_cumsum\"] % 210000 <= 50, 0, 1)"
   ]
  },
  {
   "cell_type": "code",
   "execution_count": 18,
   "metadata": {
    "ExecuteTime": {
     "end_time": "2021-01-31T17:03:34.479719Z",
     "start_time": "2021-01-31T17:03:30.317Z"
    }
   },
   "outputs": [
    {
     "data": {
      "text/plain": [
       "Date\n",
       "2010-07-18 03:00:00        0\n",
       "2011-08-30 10:00:00        0\n",
       "2011-08-30 11:00:00        0\n",
       "2011-08-30 12:00:00        0\n",
       "2011-08-30 13:00:00        0\n",
       "                       ...  \n",
       "2019-02-17 00:00:00    33421\n",
       "2019-02-17 01:00:00    33422\n",
       "2019-02-17 02:00:00    33423\n",
       "2019-02-17 03:00:00    33424\n",
       "2019-02-17 04:00:00    33425\n",
       "Name: days_after_halving, Length: 91444, dtype: int64"
      ]
     },
     "execution_count": 18,
     "metadata": {},
     "output_type": "execute_result"
    }
   ],
   "source": [
    "# the higher this value the \n",
    "df_dataset_btc[\"days_after_halving\"] = df_dataset_btc.groupby((df_dataset_btc[\"halving\"] == 0).cumsum()).cumcount()\n",
    "df_dataset_btc[\"days_after_halving\"].sort_values()"
   ]
  },
  {
   "cell_type": "code",
   "execution_count": 19,
   "metadata": {
    "ExecuteTime": {
     "end_time": "2021-01-31T17:03:34.479719Z",
     "start_time": "2021-01-31T17:03:30.515Z"
    }
   },
   "outputs": [],
   "source": [
    "# df_dataset_btc[\"stock_to_flow_ratio_btc\"] = df_dataset_btc[\"supply/current_btc\"] / (df_dataset_btc[\"supply/issued_btc\"] * 365)"
   ]
  },
  {
   "cell_type": "code",
   "execution_count": 20,
   "metadata": {
    "ExecuteTime": {
     "end_time": "2021-01-31T17:03:34.480716Z",
     "start_time": "2021-01-31T17:03:30.715Z"
    }
   },
   "outputs": [],
   "source": [
    "# df_dataset1[\"stock_to_flow_ratio\"] = df_dataset1[\"supply/current\"] / (df_dataset1[\"supply/issued\"] * 365)"
   ]
  },
  {
   "cell_type": "code",
   "execution_count": 21,
   "metadata": {
    "ExecuteTime": {
     "end_time": "2021-01-31T17:03:34.481727Z",
     "start_time": "2021-01-31T17:03:30.856Z"
    }
   },
   "outputs": [
    {
     "data": {
      "text/plain": [
       "Date\n",
       "2010-07-18 03:00:00         NaN\n",
       "2010-07-18 04:00:00         NaN\n",
       "2010-07-18 05:00:00         NaN\n",
       "2010-07-18 06:00:00         NaN\n",
       "2010-07-18 07:00:00         NaN\n",
       "                         ...   \n",
       "2021-01-31 11:00:00    1.023169\n",
       "2021-01-31 12:00:00    1.034151\n",
       "2021-01-31 13:00:00    1.023868\n",
       "2021-01-31 14:00:00    1.016766\n",
       "2021-01-31 15:00:00    1.001418\n",
       "Name: mayer_multiple, Length: 91444, dtype: float64"
      ]
     },
     "execution_count": 21,
     "metadata": {},
     "output_type": "execute_result"
    }
   ],
   "source": [
    "# min_periods = 1\n",
    "df_dataset1[\"200movingaverage\"] = pd.Series.rolling(df_dataset1[\"Closed Price USD\"], window=200,).mean()\n",
    "df_dataset1[\"mayer_multiple\"] =  df_dataset1[\"Closed Price USD\"] / df_dataset1[\"200movingaverage\"]\n",
    "df_dataset1[\"mayer_multiple\"]"
   ]
  },
  {
   "cell_type": "markdown",
   "metadata": {},
   "source": [
    "# transfers to/from exchanges diff und sliding window"
   ]
  },
  {
   "cell_type": "code",
   "execution_count": 22,
   "metadata": {
    "ExecuteTime": {
     "end_time": "2021-01-31T17:03:34.481727Z",
     "start_time": "2021-01-31T17:03:31.206Z"
    }
   },
   "outputs": [],
   "source": [
    "# df_dataset1[\"transfers_volume_from_exchanges_sum30movave\"] = pd.Series.rolling(df_dataset1[\"transactions/transfers_volume_from_exchanges_sum\"], window=30).mean()\n",
    "# df_dataset1[\"transfers_volume_from_exchanges_sum7movave\"] = pd.Series.rolling(df_dataset1[\"transactions/transfers_volume_from_exchanges_sum\"], window=7).mean()\n",
    "# df_dataset1[\"transfers_volume_from_exchanges_sum3movave\"] = pd.Series.rolling(df_dataset1[\"transactions/transfers_volume_from_exchanges_sum\"], window=3).mean()\n",
    "# df_dataset_btc[\"transfers_volume_from_exchanges_sum30movave_btc\"] = pd.Series.rolling(df_dataset_btc[\"transactions/transfers_volume_from_exchanges_sum_btc\"], window=30).mean()\n",
    "# df_dataset_btc[\"transfers_volume_from_exchanges_sum7movave_btc\"] = pd.Series.rolling(df_dataset_btc[\"transactions/transfers_volume_from_exchanges_sum_btc\"], window=7).mean()\n",
    "# df_dataset_btc[\"transfers_volume_from_exchanges_sum3movave_btc\"] = pd.Series.rolling(df_dataset_btc[\"transactions/transfers_volume_from_exchanges_sum_btc\"], window=3).mean()"
   ]
  },
  {
   "cell_type": "code",
   "execution_count": 23,
   "metadata": {
    "ExecuteTime": {
     "end_time": "2021-01-31T17:03:34.482711Z",
     "start_time": "2021-01-31T17:03:31.398Z"
    }
   },
   "outputs": [],
   "source": [
    "# df_dataset1 = df_dataset1.sort_index(ascending=True)\n",
    "# df_dataset_btc = df_dataset_btc.sort_index(ascending=True)\n",
    "# df_dataset1[\"transactions/transfers_volume_from_exchanges_sum_diff\"] = df_dataset1[\"transactions/transfers_volume_from_exchanges_sum\"].diff()\n",
    "# df_dataset_btc[\"transactions/transfers_volume_from_exchanges_sum_diff_btc\"] = df_dataset_btc[\"transactions/transfers_volume_from_exchanges_sum_btc\"].diff()\n",
    "# df_dataset1 = df_dataset1.sort_index(ascending=False)\n",
    "# df_dataset_btc = df_dataset_btc.sort_index(ascending=False)"
   ]
  },
  {
   "cell_type": "code",
   "execution_count": 24,
   "metadata": {
    "ExecuteTime": {
     "end_time": "2021-01-31T17:03:34.482711Z",
     "start_time": "2021-01-31T17:03:31.578Z"
    }
   },
   "outputs": [],
   "source": [
    "df_dataset1 = df_dataset1.sort_index(ascending=True)\n",
    "df_dataset_btc = df_dataset_btc.sort_index(ascending=True)"
   ]
  },
  {
   "cell_type": "code",
   "execution_count": 25,
   "metadata": {
    "ExecuteTime": {
     "end_time": "2021-01-31T17:03:34.483708Z",
     "start_time": "2021-01-31T17:03:31.750Z"
    }
   },
   "outputs": [],
   "source": [
    "for x in df_dataset1.columns:\n",
    "    df_dataset1[\"{}_adiff\".format(x)] = df_dataset1[\"{}\".format(x)].diff()"
   ]
  },
  {
   "cell_type": "code",
   "execution_count": 26,
   "metadata": {
    "ExecuteTime": {
     "end_time": "2021-01-31T17:03:34.484706Z",
     "start_time": "2021-01-31T17:03:31.956Z"
    }
   },
   "outputs": [],
   "source": [
    "df_dataset1 = df_dataset1.sort_index(ascending=False)\n",
    "df_dataset_btc = df_dataset_btc.sort_index(ascending=False)"
   ]
  },
  {
   "cell_type": "markdown",
   "metadata": {},
   "source": [
    "# kick out meyer multiple eth because of data loss"
   ]
  },
  {
   "cell_type": "code",
   "execution_count": null,
   "metadata": {},
   "outputs": [],
   "source": []
  },
  {
   "cell_type": "markdown",
   "metadata": {},
   "source": [
    "# Bring df_dataset1 and df_dataset_btc together"
   ]
  },
  {
   "cell_type": "code",
   "execution_count": 27,
   "metadata": {
    "ExecuteTime": {
     "end_time": "2021-01-31T17:03:34.485705Z",
     "start_time": "2021-01-31T17:03:32.725Z"
    }
   },
   "outputs": [
    {
     "data": {
      "text/html": [
       "<div>\n",
       "<style scoped>\n",
       "    .dataframe tbody tr th:only-of-type {\n",
       "        vertical-align: middle;\n",
       "    }\n",
       "\n",
       "    .dataframe tbody tr th {\n",
       "        vertical-align: top;\n",
       "    }\n",
       "\n",
       "    .dataframe thead th {\n",
       "        text-align: right;\n",
       "    }\n",
       "</style>\n",
       "<table border=\"1\" class=\"dataframe\">\n",
       "  <thead>\n",
       "    <tr style=\"text-align: right;\">\n",
       "      <th></th>\n",
       "      <th>addresses/new_non_zero_count</th>\n",
       "      <th>addresses/active_count</th>\n",
       "      <th>addresses/sending_count</th>\n",
       "      <th>addresses/receiving_count</th>\n",
       "      <th>addresses/count</th>\n",
       "      <th>blockchain/block_height</th>\n",
       "      <th>blockchain/block_count</th>\n",
       "      <th>blockchain/block_interval_mean</th>\n",
       "      <th>blockchain/block_interval_median</th>\n",
       "      <th>blockchain/block_size_sum</th>\n",
       "      <th>...</th>\n",
       "      <th>blockchain/block_count_btc</th>\n",
       "      <th>supply/current_btc</th>\n",
       "      <th>Daily Return in USD_btc</th>\n",
       "      <th>addresses/active_count_btc_cumsum</th>\n",
       "      <th>market/price_usd_close_btc_diff</th>\n",
       "      <th>200movingaverage_btc</th>\n",
       "      <th>mayer_multiple_btc</th>\n",
       "      <th>blockchain/block_count_btc_cumsum</th>\n",
       "      <th>halving</th>\n",
       "      <th>days_after_halving</th>\n",
       "    </tr>\n",
       "    <tr>\n",
       "      <th>Date</th>\n",
       "      <th></th>\n",
       "      <th></th>\n",
       "      <th></th>\n",
       "      <th></th>\n",
       "      <th></th>\n",
       "      <th></th>\n",
       "      <th></th>\n",
       "      <th></th>\n",
       "      <th></th>\n",
       "      <th></th>\n",
       "      <th></th>\n",
       "      <th></th>\n",
       "      <th></th>\n",
       "      <th></th>\n",
       "      <th></th>\n",
       "      <th></th>\n",
       "      <th></th>\n",
       "      <th></th>\n",
       "      <th></th>\n",
       "      <th></th>\n",
       "      <th></th>\n",
       "    </tr>\n",
       "  </thead>\n",
       "  <tbody>\n",
       "    <tr>\n",
       "      <th>2021-01-31 15:00:00</th>\n",
       "      <td>12704.0</td>\n",
       "      <td>32218.0</td>\n",
       "      <td>14700.0</td>\n",
       "      <td>19766.0</td>\n",
       "      <td>776431395.0</td>\n",
       "      <td>668495.0</td>\n",
       "      <td>3.0</td>\n",
       "      <td>720.000000</td>\n",
       "      <td>652.0</td>\n",
       "      <td>3821459.0</td>\n",
       "      <td>...</td>\n",
       "      <td>3.0</td>\n",
       "      <td>18615600.00</td>\n",
       "      <td>-506.008201</td>\n",
       "      <td>2.116486e+09</td>\n",
       "      <td>-506.008201</td>\n",
       "      <td>32846.884437</td>\n",
       "      <td>1.001418</td>\n",
       "      <td>735000.0</td>\n",
       "      <td>1</td>\n",
       "      <td>17084</td>\n",
       "    </tr>\n",
       "    <tr>\n",
       "      <th>2021-01-31 14:00:00</th>\n",
       "      <td>30536.0</td>\n",
       "      <td>77148.0</td>\n",
       "      <td>40010.0</td>\n",
       "      <td>46221.0</td>\n",
       "      <td>776418691.0</td>\n",
       "      <td>668492.0</td>\n",
       "      <td>8.0</td>\n",
       "      <td>613.750000</td>\n",
       "      <td>269.0</td>\n",
       "      <td>10594376.0</td>\n",
       "      <td>...</td>\n",
       "      <td>8.0</td>\n",
       "      <td>18615581.25</td>\n",
       "      <td>-229.286977</td>\n",
       "      <td>2.116454e+09</td>\n",
       "      <td>-229.286977</td>\n",
       "      <td>32848.722233</td>\n",
       "      <td>1.016766</td>\n",
       "      <td>734997.0</td>\n",
       "      <td>1</td>\n",
       "      <td>17083</td>\n",
       "    </tr>\n",
       "    <tr>\n",
       "      <th>2021-01-31 13:00:00</th>\n",
       "      <td>9939.0</td>\n",
       "      <td>27620.0</td>\n",
       "      <td>13676.0</td>\n",
       "      <td>15865.0</td>\n",
       "      <td>776388155.0</td>\n",
       "      <td>668484.0</td>\n",
       "      <td>3.0</td>\n",
       "      <td>719.000000</td>\n",
       "      <td>519.0</td>\n",
       "      <td>3968151.0</td>\n",
       "      <td>...</td>\n",
       "      <td>3.0</td>\n",
       "      <td>18615531.25</td>\n",
       "      <td>-331.527901</td>\n",
       "      <td>2.116377e+09</td>\n",
       "      <td>-331.527901</td>\n",
       "      <td>32844.827869</td>\n",
       "      <td>1.023868</td>\n",
       "      <td>734989.0</td>\n",
       "      <td>1</td>\n",
       "      <td>17082</td>\n",
       "    </tr>\n",
       "    <tr>\n",
       "      <th>2021-01-31 12:00:00</th>\n",
       "      <td>20527.0</td>\n",
       "      <td>64826.0</td>\n",
       "      <td>38106.0</td>\n",
       "      <td>32333.0</td>\n",
       "      <td>776378216.0</td>\n",
       "      <td>668481.0</td>\n",
       "      <td>8.0</td>\n",
       "      <td>429.875000</td>\n",
       "      <td>304.0</td>\n",
       "      <td>9906250.0</td>\n",
       "      <td>...</td>\n",
       "      <td>8.0</td>\n",
       "      <td>18615512.50</td>\n",
       "      <td>368.836378</td>\n",
       "      <td>2.116349e+09</td>\n",
       "      <td>368.836378</td>\n",
       "      <td>32838.818708</td>\n",
       "      <td>1.034151</td>\n",
       "      <td>734986.0</td>\n",
       "      <td>1</td>\n",
       "      <td>17081</td>\n",
       "    </tr>\n",
       "    <tr>\n",
       "      <th>2021-01-31 11:00:00</th>\n",
       "      <td>21640.0</td>\n",
       "      <td>62207.0</td>\n",
       "      <td>34760.0</td>\n",
       "      <td>33263.0</td>\n",
       "      <td>776357689.0</td>\n",
       "      <td>668473.0</td>\n",
       "      <td>7.0</td>\n",
       "      <td>547.000000</td>\n",
       "      <td>351.0</td>\n",
       "      <td>8965107.0</td>\n",
       "      <td>...</td>\n",
       "      <td>7.0</td>\n",
       "      <td>18615462.50</td>\n",
       "      <td>-40.924733</td>\n",
       "      <td>2.116284e+09</td>\n",
       "      <td>-40.924733</td>\n",
       "      <td>32830.795006</td>\n",
       "      <td>1.023169</td>\n",
       "      <td>734978.0</td>\n",
       "      <td>1</td>\n",
       "      <td>17080</td>\n",
       "    </tr>\n",
       "    <tr>\n",
       "      <th>...</th>\n",
       "      <td>...</td>\n",
       "      <td>...</td>\n",
       "      <td>...</td>\n",
       "      <td>...</td>\n",
       "      <td>...</td>\n",
       "      <td>...</td>\n",
       "      <td>...</td>\n",
       "      <td>...</td>\n",
       "      <td>...</td>\n",
       "      <td>...</td>\n",
       "      <td>...</td>\n",
       "      <td>...</td>\n",
       "      <td>...</td>\n",
       "      <td>...</td>\n",
       "      <td>...</td>\n",
       "      <td>...</td>\n",
       "      <td>...</td>\n",
       "      <td>...</td>\n",
       "      <td>...</td>\n",
       "      <td>...</td>\n",
       "      <td>...</td>\n",
       "    </tr>\n",
       "    <tr>\n",
       "      <th>2010-07-18 07:00:00</th>\n",
       "      <td>25.0</td>\n",
       "      <td>20.0</td>\n",
       "      <td>11.0</td>\n",
       "      <td>15.0</td>\n",
       "      <td>87143.0</td>\n",
       "      <td>68839.0</td>\n",
       "      <td>13.0</td>\n",
       "      <td>345.692308</td>\n",
       "      <td>243.0</td>\n",
       "      <td>5347.0</td>\n",
       "      <td>...</td>\n",
       "      <td>13.0</td>\n",
       "      <td>3442000.00</td>\n",
       "      <td>0.000000</td>\n",
       "      <td>9.400000e+01</td>\n",
       "      <td>0.000000</td>\n",
       "      <td>NaN</td>\n",
       "      <td>NaN</td>\n",
       "      <td>141423.0</td>\n",
       "      <td>1</td>\n",
       "      <td>4</td>\n",
       "    </tr>\n",
       "    <tr>\n",
       "      <th>2010-07-18 06:00:00</th>\n",
       "      <td>18.0</td>\n",
       "      <td>16.0</td>\n",
       "      <td>10.0</td>\n",
       "      <td>9.0</td>\n",
       "      <td>87118.0</td>\n",
       "      <td>68826.0</td>\n",
       "      <td>10.0</td>\n",
       "      <td>252.200000</td>\n",
       "      <td>278.0</td>\n",
       "      <td>4227.0</td>\n",
       "      <td>...</td>\n",
       "      <td>10.0</td>\n",
       "      <td>3441350.00</td>\n",
       "      <td>0.000000</td>\n",
       "      <td>7.400000e+01</td>\n",
       "      <td>0.000000</td>\n",
       "      <td>NaN</td>\n",
       "      <td>NaN</td>\n",
       "      <td>141410.0</td>\n",
       "      <td>1</td>\n",
       "      <td>3</td>\n",
       "    </tr>\n",
       "    <tr>\n",
       "      <th>2010-07-18 05:00:00</th>\n",
       "      <td>16.0</td>\n",
       "      <td>23.0</td>\n",
       "      <td>10.0</td>\n",
       "      <td>18.0</td>\n",
       "      <td>87100.0</td>\n",
       "      <td>68816.0</td>\n",
       "      <td>4.0</td>\n",
       "      <td>858.500000</td>\n",
       "      <td>823.0</td>\n",
       "      <td>3307.0</td>\n",
       "      <td>...</td>\n",
       "      <td>4.0</td>\n",
       "      <td>3440850.00</td>\n",
       "      <td>0.000000</td>\n",
       "      <td>5.800000e+01</td>\n",
       "      <td>0.000000</td>\n",
       "      <td>NaN</td>\n",
       "      <td>NaN</td>\n",
       "      <td>141400.0</td>\n",
       "      <td>1</td>\n",
       "      <td>2</td>\n",
       "    </tr>\n",
       "    <tr>\n",
       "      <th>2010-07-18 04:00:00</th>\n",
       "      <td>24.0</td>\n",
       "      <td>20.0</td>\n",
       "      <td>8.0</td>\n",
       "      <td>14.0</td>\n",
       "      <td>87084.0</td>\n",
       "      <td>68812.0</td>\n",
       "      <td>11.0</td>\n",
       "      <td>438.818182</td>\n",
       "      <td>417.0</td>\n",
       "      <td>4341.0</td>\n",
       "      <td>...</td>\n",
       "      <td>11.0</td>\n",
       "      <td>3440650.00</td>\n",
       "      <td>0.000000</td>\n",
       "      <td>3.500000e+01</td>\n",
       "      <td>0.000000</td>\n",
       "      <td>NaN</td>\n",
       "      <td>NaN</td>\n",
       "      <td>141396.0</td>\n",
       "      <td>1</td>\n",
       "      <td>1</td>\n",
       "    </tr>\n",
       "    <tr>\n",
       "      <th>2010-07-18 03:00:00</th>\n",
       "      <td>11.0</td>\n",
       "      <td>15.0</td>\n",
       "      <td>6.0</td>\n",
       "      <td>11.0</td>\n",
       "      <td>87060.0</td>\n",
       "      <td>68801.0</td>\n",
       "      <td>4.0</td>\n",
       "      <td>953.000000</td>\n",
       "      <td>941.0</td>\n",
       "      <td>2247.0</td>\n",
       "      <td>...</td>\n",
       "      <td>4.0</td>\n",
       "      <td>3440100.00</td>\n",
       "      <td>0.009900</td>\n",
       "      <td>1.500000e+01</td>\n",
       "      <td>NaN</td>\n",
       "      <td>NaN</td>\n",
       "      <td>NaN</td>\n",
       "      <td>141385.0</td>\n",
       "      <td>1</td>\n",
       "      <td>0</td>\n",
       "    </tr>\n",
       "  </tbody>\n",
       "</table>\n",
       "<p>91444 rows × 96 columns</p>\n",
       "</div>"
      ],
      "text/plain": [
       "                     addresses/new_non_zero_count  addresses/active_count  \\\n",
       "Date                                                                        \n",
       "2021-01-31 15:00:00                       12704.0                 32218.0   \n",
       "2021-01-31 14:00:00                       30536.0                 77148.0   \n",
       "2021-01-31 13:00:00                        9939.0                 27620.0   \n",
       "2021-01-31 12:00:00                       20527.0                 64826.0   \n",
       "2021-01-31 11:00:00                       21640.0                 62207.0   \n",
       "...                                           ...                     ...   \n",
       "2010-07-18 07:00:00                          25.0                    20.0   \n",
       "2010-07-18 06:00:00                          18.0                    16.0   \n",
       "2010-07-18 05:00:00                          16.0                    23.0   \n",
       "2010-07-18 04:00:00                          24.0                    20.0   \n",
       "2010-07-18 03:00:00                          11.0                    15.0   \n",
       "\n",
       "                     addresses/sending_count  addresses/receiving_count  \\\n",
       "Date                                                                      \n",
       "2021-01-31 15:00:00                  14700.0                    19766.0   \n",
       "2021-01-31 14:00:00                  40010.0                    46221.0   \n",
       "2021-01-31 13:00:00                  13676.0                    15865.0   \n",
       "2021-01-31 12:00:00                  38106.0                    32333.0   \n",
       "2021-01-31 11:00:00                  34760.0                    33263.0   \n",
       "...                                      ...                        ...   \n",
       "2010-07-18 07:00:00                     11.0                       15.0   \n",
       "2010-07-18 06:00:00                     10.0                        9.0   \n",
       "2010-07-18 05:00:00                     10.0                       18.0   \n",
       "2010-07-18 04:00:00                      8.0                       14.0   \n",
       "2010-07-18 03:00:00                      6.0                       11.0   \n",
       "\n",
       "                     addresses/count  blockchain/block_height  \\\n",
       "Date                                                            \n",
       "2021-01-31 15:00:00      776431395.0                 668495.0   \n",
       "2021-01-31 14:00:00      776418691.0                 668492.0   \n",
       "2021-01-31 13:00:00      776388155.0                 668484.0   \n",
       "2021-01-31 12:00:00      776378216.0                 668481.0   \n",
       "2021-01-31 11:00:00      776357689.0                 668473.0   \n",
       "...                              ...                      ...   \n",
       "2010-07-18 07:00:00          87143.0                  68839.0   \n",
       "2010-07-18 06:00:00          87118.0                  68826.0   \n",
       "2010-07-18 05:00:00          87100.0                  68816.0   \n",
       "2010-07-18 04:00:00          87084.0                  68812.0   \n",
       "2010-07-18 03:00:00          87060.0                  68801.0   \n",
       "\n",
       "                     blockchain/block_count  blockchain/block_interval_mean  \\\n",
       "Date                                                                          \n",
       "2021-01-31 15:00:00                     3.0                      720.000000   \n",
       "2021-01-31 14:00:00                     8.0                      613.750000   \n",
       "2021-01-31 13:00:00                     3.0                      719.000000   \n",
       "2021-01-31 12:00:00                     8.0                      429.875000   \n",
       "2021-01-31 11:00:00                     7.0                      547.000000   \n",
       "...                                     ...                             ...   \n",
       "2010-07-18 07:00:00                    13.0                      345.692308   \n",
       "2010-07-18 06:00:00                    10.0                      252.200000   \n",
       "2010-07-18 05:00:00                     4.0                      858.500000   \n",
       "2010-07-18 04:00:00                    11.0                      438.818182   \n",
       "2010-07-18 03:00:00                     4.0                      953.000000   \n",
       "\n",
       "                     blockchain/block_interval_median  \\\n",
       "Date                                                    \n",
       "2021-01-31 15:00:00                             652.0   \n",
       "2021-01-31 14:00:00                             269.0   \n",
       "2021-01-31 13:00:00                             519.0   \n",
       "2021-01-31 12:00:00                             304.0   \n",
       "2021-01-31 11:00:00                             351.0   \n",
       "...                                               ...   \n",
       "2010-07-18 07:00:00                             243.0   \n",
       "2010-07-18 06:00:00                             278.0   \n",
       "2010-07-18 05:00:00                             823.0   \n",
       "2010-07-18 04:00:00                             417.0   \n",
       "2010-07-18 03:00:00                             941.0   \n",
       "\n",
       "                     blockchain/block_size_sum  ...  \\\n",
       "Date                                            ...   \n",
       "2021-01-31 15:00:00                  3821459.0  ...   \n",
       "2021-01-31 14:00:00                 10594376.0  ...   \n",
       "2021-01-31 13:00:00                  3968151.0  ...   \n",
       "2021-01-31 12:00:00                  9906250.0  ...   \n",
       "2021-01-31 11:00:00                  8965107.0  ...   \n",
       "...                                        ...  ...   \n",
       "2010-07-18 07:00:00                     5347.0  ...   \n",
       "2010-07-18 06:00:00                     4227.0  ...   \n",
       "2010-07-18 05:00:00                     3307.0  ...   \n",
       "2010-07-18 04:00:00                     4341.0  ...   \n",
       "2010-07-18 03:00:00                     2247.0  ...   \n",
       "\n",
       "                     blockchain/block_count_btc  supply/current_btc  \\\n",
       "Date                                                                  \n",
       "2021-01-31 15:00:00                         3.0         18615600.00   \n",
       "2021-01-31 14:00:00                         8.0         18615581.25   \n",
       "2021-01-31 13:00:00                         3.0         18615531.25   \n",
       "2021-01-31 12:00:00                         8.0         18615512.50   \n",
       "2021-01-31 11:00:00                         7.0         18615462.50   \n",
       "...                                         ...                 ...   \n",
       "2010-07-18 07:00:00                        13.0          3442000.00   \n",
       "2010-07-18 06:00:00                        10.0          3441350.00   \n",
       "2010-07-18 05:00:00                         4.0          3440850.00   \n",
       "2010-07-18 04:00:00                        11.0          3440650.00   \n",
       "2010-07-18 03:00:00                         4.0          3440100.00   \n",
       "\n",
       "                     Daily Return in USD_btc  \\\n",
       "Date                                           \n",
       "2021-01-31 15:00:00              -506.008201   \n",
       "2021-01-31 14:00:00              -229.286977   \n",
       "2021-01-31 13:00:00              -331.527901   \n",
       "2021-01-31 12:00:00               368.836378   \n",
       "2021-01-31 11:00:00               -40.924733   \n",
       "...                                      ...   \n",
       "2010-07-18 07:00:00                 0.000000   \n",
       "2010-07-18 06:00:00                 0.000000   \n",
       "2010-07-18 05:00:00                 0.000000   \n",
       "2010-07-18 04:00:00                 0.000000   \n",
       "2010-07-18 03:00:00                 0.009900   \n",
       "\n",
       "                     addresses/active_count_btc_cumsum  \\\n",
       "Date                                                     \n",
       "2021-01-31 15:00:00                       2.116486e+09   \n",
       "2021-01-31 14:00:00                       2.116454e+09   \n",
       "2021-01-31 13:00:00                       2.116377e+09   \n",
       "2021-01-31 12:00:00                       2.116349e+09   \n",
       "2021-01-31 11:00:00                       2.116284e+09   \n",
       "...                                                ...   \n",
       "2010-07-18 07:00:00                       9.400000e+01   \n",
       "2010-07-18 06:00:00                       7.400000e+01   \n",
       "2010-07-18 05:00:00                       5.800000e+01   \n",
       "2010-07-18 04:00:00                       3.500000e+01   \n",
       "2010-07-18 03:00:00                       1.500000e+01   \n",
       "\n",
       "                     market/price_usd_close_btc_diff  200movingaverage_btc  \\\n",
       "Date                                                                         \n",
       "2021-01-31 15:00:00                      -506.008201          32846.884437   \n",
       "2021-01-31 14:00:00                      -229.286977          32848.722233   \n",
       "2021-01-31 13:00:00                      -331.527901          32844.827869   \n",
       "2021-01-31 12:00:00                       368.836378          32838.818708   \n",
       "2021-01-31 11:00:00                       -40.924733          32830.795006   \n",
       "...                                              ...                   ...   \n",
       "2010-07-18 07:00:00                         0.000000                   NaN   \n",
       "2010-07-18 06:00:00                         0.000000                   NaN   \n",
       "2010-07-18 05:00:00                         0.000000                   NaN   \n",
       "2010-07-18 04:00:00                         0.000000                   NaN   \n",
       "2010-07-18 03:00:00                              NaN                   NaN   \n",
       "\n",
       "                     mayer_multiple_btc  blockchain/block_count_btc_cumsum  \\\n",
       "Date                                                                         \n",
       "2021-01-31 15:00:00            1.001418                           735000.0   \n",
       "2021-01-31 14:00:00            1.016766                           734997.0   \n",
       "2021-01-31 13:00:00            1.023868                           734989.0   \n",
       "2021-01-31 12:00:00            1.034151                           734986.0   \n",
       "2021-01-31 11:00:00            1.023169                           734978.0   \n",
       "...                                 ...                                ...   \n",
       "2010-07-18 07:00:00                 NaN                           141423.0   \n",
       "2010-07-18 06:00:00                 NaN                           141410.0   \n",
       "2010-07-18 05:00:00                 NaN                           141400.0   \n",
       "2010-07-18 04:00:00                 NaN                           141396.0   \n",
       "2010-07-18 03:00:00                 NaN                           141385.0   \n",
       "\n",
       "                     halving  days_after_halving  \n",
       "Date                                              \n",
       "2021-01-31 15:00:00        1               17084  \n",
       "2021-01-31 14:00:00        1               17083  \n",
       "2021-01-31 13:00:00        1               17082  \n",
       "2021-01-31 12:00:00        1               17081  \n",
       "2021-01-31 11:00:00        1               17080  \n",
       "...                      ...                 ...  \n",
       "2010-07-18 07:00:00        1                   4  \n",
       "2010-07-18 06:00:00        1                   3  \n",
       "2010-07-18 05:00:00        1                   2  \n",
       "2010-07-18 04:00:00        1                   1  \n",
       "2010-07-18 03:00:00        1                   0  \n",
       "\n",
       "[91444 rows x 96 columns]"
      ]
     },
     "execution_count": 27,
     "metadata": {},
     "output_type": "execute_result"
    }
   ],
   "source": [
    "# Merging all Blockchain DataFrame Metrics\n",
    "df_dataset1 = pd.concat([df_dataset1, df_dataset_btc], axis=1, join='inner')\n",
    "df_dataset1"
   ]
  },
  {
   "cell_type": "code",
   "execution_count": 28,
   "metadata": {
    "ExecuteTime": {
     "end_time": "2021-01-31T17:03:34.485705Z",
     "start_time": "2021-01-31T17:03:32.965Z"
    }
   },
   "outputs": [
    {
     "data": {
      "text/html": [
       "<div>\n",
       "<style scoped>\n",
       "    .dataframe tbody tr th:only-of-type {\n",
       "        vertical-align: middle;\n",
       "    }\n",
       "\n",
       "    .dataframe tbody tr th {\n",
       "        vertical-align: top;\n",
       "    }\n",
       "\n",
       "    .dataframe thead th {\n",
       "        text-align: right;\n",
       "    }\n",
       "</style>\n",
       "<table border=\"1\" class=\"dataframe\">\n",
       "  <thead>\n",
       "    <tr style=\"text-align: right;\">\n",
       "      <th></th>\n",
       "      <th>addresses/new_non_zero_count</th>\n",
       "      <th>addresses/active_count</th>\n",
       "      <th>addresses/sending_count</th>\n",
       "      <th>addresses/receiving_count</th>\n",
       "      <th>addresses/count</th>\n",
       "      <th>blockchain/block_height</th>\n",
       "      <th>blockchain/block_count</th>\n",
       "      <th>blockchain/block_interval_mean</th>\n",
       "      <th>blockchain/block_interval_median</th>\n",
       "      <th>blockchain/block_size_sum</th>\n",
       "      <th>...</th>\n",
       "      <th>blockchain/block_count_btc</th>\n",
       "      <th>supply/current_btc</th>\n",
       "      <th>Daily Return in USD_btc</th>\n",
       "      <th>addresses/active_count_btc_cumsum</th>\n",
       "      <th>market/price_usd_close_btc_diff</th>\n",
       "      <th>200movingaverage_btc</th>\n",
       "      <th>mayer_multiple_btc</th>\n",
       "      <th>blockchain/block_count_btc_cumsum</th>\n",
       "      <th>halving</th>\n",
       "      <th>days_after_halving</th>\n",
       "    </tr>\n",
       "    <tr>\n",
       "      <th>Date</th>\n",
       "      <th></th>\n",
       "      <th></th>\n",
       "      <th></th>\n",
       "      <th></th>\n",
       "      <th></th>\n",
       "      <th></th>\n",
       "      <th></th>\n",
       "      <th></th>\n",
       "      <th></th>\n",
       "      <th></th>\n",
       "      <th></th>\n",
       "      <th></th>\n",
       "      <th></th>\n",
       "      <th></th>\n",
       "      <th></th>\n",
       "      <th></th>\n",
       "      <th></th>\n",
       "      <th></th>\n",
       "      <th></th>\n",
       "      <th></th>\n",
       "      <th></th>\n",
       "    </tr>\n",
       "  </thead>\n",
       "  <tbody>\n",
       "    <tr>\n",
       "      <th>2021-01-31 15:00:00</th>\n",
       "      <td>12704.0</td>\n",
       "      <td>32218.0</td>\n",
       "      <td>14700.0</td>\n",
       "      <td>19766.0</td>\n",
       "      <td>776431395.0</td>\n",
       "      <td>668495.0</td>\n",
       "      <td>3.0</td>\n",
       "      <td>720.000000</td>\n",
       "      <td>652.0</td>\n",
       "      <td>3821459.0</td>\n",
       "      <td>...</td>\n",
       "      <td>3.0</td>\n",
       "      <td>18615600.00</td>\n",
       "      <td>-506.008201</td>\n",
       "      <td>2.116486e+09</td>\n",
       "      <td>-506.008201</td>\n",
       "      <td>32846.884437</td>\n",
       "      <td>1.001418</td>\n",
       "      <td>735000.0</td>\n",
       "      <td>1</td>\n",
       "      <td>17084</td>\n",
       "    </tr>\n",
       "    <tr>\n",
       "      <th>2021-01-31 14:00:00</th>\n",
       "      <td>30536.0</td>\n",
       "      <td>77148.0</td>\n",
       "      <td>40010.0</td>\n",
       "      <td>46221.0</td>\n",
       "      <td>776418691.0</td>\n",
       "      <td>668492.0</td>\n",
       "      <td>8.0</td>\n",
       "      <td>613.750000</td>\n",
       "      <td>269.0</td>\n",
       "      <td>10594376.0</td>\n",
       "      <td>...</td>\n",
       "      <td>8.0</td>\n",
       "      <td>18615581.25</td>\n",
       "      <td>-229.286977</td>\n",
       "      <td>2.116454e+09</td>\n",
       "      <td>-229.286977</td>\n",
       "      <td>32848.722233</td>\n",
       "      <td>1.016766</td>\n",
       "      <td>734997.0</td>\n",
       "      <td>1</td>\n",
       "      <td>17083</td>\n",
       "    </tr>\n",
       "    <tr>\n",
       "      <th>2021-01-31 13:00:00</th>\n",
       "      <td>9939.0</td>\n",
       "      <td>27620.0</td>\n",
       "      <td>13676.0</td>\n",
       "      <td>15865.0</td>\n",
       "      <td>776388155.0</td>\n",
       "      <td>668484.0</td>\n",
       "      <td>3.0</td>\n",
       "      <td>719.000000</td>\n",
       "      <td>519.0</td>\n",
       "      <td>3968151.0</td>\n",
       "      <td>...</td>\n",
       "      <td>3.0</td>\n",
       "      <td>18615531.25</td>\n",
       "      <td>-331.527901</td>\n",
       "      <td>2.116377e+09</td>\n",
       "      <td>-331.527901</td>\n",
       "      <td>32844.827869</td>\n",
       "      <td>1.023868</td>\n",
       "      <td>734989.0</td>\n",
       "      <td>1</td>\n",
       "      <td>17082</td>\n",
       "    </tr>\n",
       "    <tr>\n",
       "      <th>2021-01-31 12:00:00</th>\n",
       "      <td>20527.0</td>\n",
       "      <td>64826.0</td>\n",
       "      <td>38106.0</td>\n",
       "      <td>32333.0</td>\n",
       "      <td>776378216.0</td>\n",
       "      <td>668481.0</td>\n",
       "      <td>8.0</td>\n",
       "      <td>429.875000</td>\n",
       "      <td>304.0</td>\n",
       "      <td>9906250.0</td>\n",
       "      <td>...</td>\n",
       "      <td>8.0</td>\n",
       "      <td>18615512.50</td>\n",
       "      <td>368.836378</td>\n",
       "      <td>2.116349e+09</td>\n",
       "      <td>368.836378</td>\n",
       "      <td>32838.818708</td>\n",
       "      <td>1.034151</td>\n",
       "      <td>734986.0</td>\n",
       "      <td>1</td>\n",
       "      <td>17081</td>\n",
       "    </tr>\n",
       "    <tr>\n",
       "      <th>2021-01-31 11:00:00</th>\n",
       "      <td>21640.0</td>\n",
       "      <td>62207.0</td>\n",
       "      <td>34760.0</td>\n",
       "      <td>33263.0</td>\n",
       "      <td>776357689.0</td>\n",
       "      <td>668473.0</td>\n",
       "      <td>7.0</td>\n",
       "      <td>547.000000</td>\n",
       "      <td>351.0</td>\n",
       "      <td>8965107.0</td>\n",
       "      <td>...</td>\n",
       "      <td>7.0</td>\n",
       "      <td>18615462.50</td>\n",
       "      <td>-40.924733</td>\n",
       "      <td>2.116284e+09</td>\n",
       "      <td>-40.924733</td>\n",
       "      <td>32830.795006</td>\n",
       "      <td>1.023169</td>\n",
       "      <td>734978.0</td>\n",
       "      <td>1</td>\n",
       "      <td>17080</td>\n",
       "    </tr>\n",
       "    <tr>\n",
       "      <th>...</th>\n",
       "      <td>...</td>\n",
       "      <td>...</td>\n",
       "      <td>...</td>\n",
       "      <td>...</td>\n",
       "      <td>...</td>\n",
       "      <td>...</td>\n",
       "      <td>...</td>\n",
       "      <td>...</td>\n",
       "      <td>...</td>\n",
       "      <td>...</td>\n",
       "      <td>...</td>\n",
       "      <td>...</td>\n",
       "      <td>...</td>\n",
       "      <td>...</td>\n",
       "      <td>...</td>\n",
       "      <td>...</td>\n",
       "      <td>...</td>\n",
       "      <td>...</td>\n",
       "      <td>...</td>\n",
       "      <td>...</td>\n",
       "      <td>...</td>\n",
       "    </tr>\n",
       "    <tr>\n",
       "      <th>2010-07-18 07:00:00</th>\n",
       "      <td>25.0</td>\n",
       "      <td>20.0</td>\n",
       "      <td>11.0</td>\n",
       "      <td>15.0</td>\n",
       "      <td>87143.0</td>\n",
       "      <td>68839.0</td>\n",
       "      <td>13.0</td>\n",
       "      <td>345.692308</td>\n",
       "      <td>243.0</td>\n",
       "      <td>5347.0</td>\n",
       "      <td>...</td>\n",
       "      <td>13.0</td>\n",
       "      <td>3442000.00</td>\n",
       "      <td>0.000000</td>\n",
       "      <td>9.400000e+01</td>\n",
       "      <td>0.000000</td>\n",
       "      <td>NaN</td>\n",
       "      <td>NaN</td>\n",
       "      <td>141423.0</td>\n",
       "      <td>1</td>\n",
       "      <td>4</td>\n",
       "    </tr>\n",
       "    <tr>\n",
       "      <th>2010-07-18 06:00:00</th>\n",
       "      <td>18.0</td>\n",
       "      <td>16.0</td>\n",
       "      <td>10.0</td>\n",
       "      <td>9.0</td>\n",
       "      <td>87118.0</td>\n",
       "      <td>68826.0</td>\n",
       "      <td>10.0</td>\n",
       "      <td>252.200000</td>\n",
       "      <td>278.0</td>\n",
       "      <td>4227.0</td>\n",
       "      <td>...</td>\n",
       "      <td>10.0</td>\n",
       "      <td>3441350.00</td>\n",
       "      <td>0.000000</td>\n",
       "      <td>7.400000e+01</td>\n",
       "      <td>0.000000</td>\n",
       "      <td>NaN</td>\n",
       "      <td>NaN</td>\n",
       "      <td>141410.0</td>\n",
       "      <td>1</td>\n",
       "      <td>3</td>\n",
       "    </tr>\n",
       "    <tr>\n",
       "      <th>2010-07-18 05:00:00</th>\n",
       "      <td>16.0</td>\n",
       "      <td>23.0</td>\n",
       "      <td>10.0</td>\n",
       "      <td>18.0</td>\n",
       "      <td>87100.0</td>\n",
       "      <td>68816.0</td>\n",
       "      <td>4.0</td>\n",
       "      <td>858.500000</td>\n",
       "      <td>823.0</td>\n",
       "      <td>3307.0</td>\n",
       "      <td>...</td>\n",
       "      <td>4.0</td>\n",
       "      <td>3440850.00</td>\n",
       "      <td>0.000000</td>\n",
       "      <td>5.800000e+01</td>\n",
       "      <td>0.000000</td>\n",
       "      <td>NaN</td>\n",
       "      <td>NaN</td>\n",
       "      <td>141400.0</td>\n",
       "      <td>1</td>\n",
       "      <td>2</td>\n",
       "    </tr>\n",
       "    <tr>\n",
       "      <th>2010-07-18 04:00:00</th>\n",
       "      <td>24.0</td>\n",
       "      <td>20.0</td>\n",
       "      <td>8.0</td>\n",
       "      <td>14.0</td>\n",
       "      <td>87084.0</td>\n",
       "      <td>68812.0</td>\n",
       "      <td>11.0</td>\n",
       "      <td>438.818182</td>\n",
       "      <td>417.0</td>\n",
       "      <td>4341.0</td>\n",
       "      <td>...</td>\n",
       "      <td>11.0</td>\n",
       "      <td>3440650.00</td>\n",
       "      <td>0.000000</td>\n",
       "      <td>3.500000e+01</td>\n",
       "      <td>0.000000</td>\n",
       "      <td>NaN</td>\n",
       "      <td>NaN</td>\n",
       "      <td>141396.0</td>\n",
       "      <td>1</td>\n",
       "      <td>1</td>\n",
       "    </tr>\n",
       "    <tr>\n",
       "      <th>2010-07-18 03:00:00</th>\n",
       "      <td>11.0</td>\n",
       "      <td>15.0</td>\n",
       "      <td>6.0</td>\n",
       "      <td>11.0</td>\n",
       "      <td>87060.0</td>\n",
       "      <td>68801.0</td>\n",
       "      <td>4.0</td>\n",
       "      <td>953.000000</td>\n",
       "      <td>941.0</td>\n",
       "      <td>2247.0</td>\n",
       "      <td>...</td>\n",
       "      <td>4.0</td>\n",
       "      <td>3440100.00</td>\n",
       "      <td>0.009900</td>\n",
       "      <td>1.500000e+01</td>\n",
       "      <td>NaN</td>\n",
       "      <td>NaN</td>\n",
       "      <td>NaN</td>\n",
       "      <td>141385.0</td>\n",
       "      <td>1</td>\n",
       "      <td>0</td>\n",
       "    </tr>\n",
       "  </tbody>\n",
       "</table>\n",
       "<p>91444 rows × 96 columns</p>\n",
       "</div>"
      ],
      "text/plain": [
       "                     addresses/new_non_zero_count  addresses/active_count  \\\n",
       "Date                                                                        \n",
       "2021-01-31 15:00:00                       12704.0                 32218.0   \n",
       "2021-01-31 14:00:00                       30536.0                 77148.0   \n",
       "2021-01-31 13:00:00                        9939.0                 27620.0   \n",
       "2021-01-31 12:00:00                       20527.0                 64826.0   \n",
       "2021-01-31 11:00:00                       21640.0                 62207.0   \n",
       "...                                           ...                     ...   \n",
       "2010-07-18 07:00:00                          25.0                    20.0   \n",
       "2010-07-18 06:00:00                          18.0                    16.0   \n",
       "2010-07-18 05:00:00                          16.0                    23.0   \n",
       "2010-07-18 04:00:00                          24.0                    20.0   \n",
       "2010-07-18 03:00:00                          11.0                    15.0   \n",
       "\n",
       "                     addresses/sending_count  addresses/receiving_count  \\\n",
       "Date                                                                      \n",
       "2021-01-31 15:00:00                  14700.0                    19766.0   \n",
       "2021-01-31 14:00:00                  40010.0                    46221.0   \n",
       "2021-01-31 13:00:00                  13676.0                    15865.0   \n",
       "2021-01-31 12:00:00                  38106.0                    32333.0   \n",
       "2021-01-31 11:00:00                  34760.0                    33263.0   \n",
       "...                                      ...                        ...   \n",
       "2010-07-18 07:00:00                     11.0                       15.0   \n",
       "2010-07-18 06:00:00                     10.0                        9.0   \n",
       "2010-07-18 05:00:00                     10.0                       18.0   \n",
       "2010-07-18 04:00:00                      8.0                       14.0   \n",
       "2010-07-18 03:00:00                      6.0                       11.0   \n",
       "\n",
       "                     addresses/count  blockchain/block_height  \\\n",
       "Date                                                            \n",
       "2021-01-31 15:00:00      776431395.0                 668495.0   \n",
       "2021-01-31 14:00:00      776418691.0                 668492.0   \n",
       "2021-01-31 13:00:00      776388155.0                 668484.0   \n",
       "2021-01-31 12:00:00      776378216.0                 668481.0   \n",
       "2021-01-31 11:00:00      776357689.0                 668473.0   \n",
       "...                              ...                      ...   \n",
       "2010-07-18 07:00:00          87143.0                  68839.0   \n",
       "2010-07-18 06:00:00          87118.0                  68826.0   \n",
       "2010-07-18 05:00:00          87100.0                  68816.0   \n",
       "2010-07-18 04:00:00          87084.0                  68812.0   \n",
       "2010-07-18 03:00:00          87060.0                  68801.0   \n",
       "\n",
       "                     blockchain/block_count  blockchain/block_interval_mean  \\\n",
       "Date                                                                          \n",
       "2021-01-31 15:00:00                     3.0                      720.000000   \n",
       "2021-01-31 14:00:00                     8.0                      613.750000   \n",
       "2021-01-31 13:00:00                     3.0                      719.000000   \n",
       "2021-01-31 12:00:00                     8.0                      429.875000   \n",
       "2021-01-31 11:00:00                     7.0                      547.000000   \n",
       "...                                     ...                             ...   \n",
       "2010-07-18 07:00:00                    13.0                      345.692308   \n",
       "2010-07-18 06:00:00                    10.0                      252.200000   \n",
       "2010-07-18 05:00:00                     4.0                      858.500000   \n",
       "2010-07-18 04:00:00                    11.0                      438.818182   \n",
       "2010-07-18 03:00:00                     4.0                      953.000000   \n",
       "\n",
       "                     blockchain/block_interval_median  \\\n",
       "Date                                                    \n",
       "2021-01-31 15:00:00                             652.0   \n",
       "2021-01-31 14:00:00                             269.0   \n",
       "2021-01-31 13:00:00                             519.0   \n",
       "2021-01-31 12:00:00                             304.0   \n",
       "2021-01-31 11:00:00                             351.0   \n",
       "...                                               ...   \n",
       "2010-07-18 07:00:00                             243.0   \n",
       "2010-07-18 06:00:00                             278.0   \n",
       "2010-07-18 05:00:00                             823.0   \n",
       "2010-07-18 04:00:00                             417.0   \n",
       "2010-07-18 03:00:00                             941.0   \n",
       "\n",
       "                     blockchain/block_size_sum  ...  \\\n",
       "Date                                            ...   \n",
       "2021-01-31 15:00:00                  3821459.0  ...   \n",
       "2021-01-31 14:00:00                 10594376.0  ...   \n",
       "2021-01-31 13:00:00                  3968151.0  ...   \n",
       "2021-01-31 12:00:00                  9906250.0  ...   \n",
       "2021-01-31 11:00:00                  8965107.0  ...   \n",
       "...                                        ...  ...   \n",
       "2010-07-18 07:00:00                     5347.0  ...   \n",
       "2010-07-18 06:00:00                     4227.0  ...   \n",
       "2010-07-18 05:00:00                     3307.0  ...   \n",
       "2010-07-18 04:00:00                     4341.0  ...   \n",
       "2010-07-18 03:00:00                     2247.0  ...   \n",
       "\n",
       "                     blockchain/block_count_btc  supply/current_btc  \\\n",
       "Date                                                                  \n",
       "2021-01-31 15:00:00                         3.0         18615600.00   \n",
       "2021-01-31 14:00:00                         8.0         18615581.25   \n",
       "2021-01-31 13:00:00                         3.0         18615531.25   \n",
       "2021-01-31 12:00:00                         8.0         18615512.50   \n",
       "2021-01-31 11:00:00                         7.0         18615462.50   \n",
       "...                                         ...                 ...   \n",
       "2010-07-18 07:00:00                        13.0          3442000.00   \n",
       "2010-07-18 06:00:00                        10.0          3441350.00   \n",
       "2010-07-18 05:00:00                         4.0          3440850.00   \n",
       "2010-07-18 04:00:00                        11.0          3440650.00   \n",
       "2010-07-18 03:00:00                         4.0          3440100.00   \n",
       "\n",
       "                     Daily Return in USD_btc  \\\n",
       "Date                                           \n",
       "2021-01-31 15:00:00              -506.008201   \n",
       "2021-01-31 14:00:00              -229.286977   \n",
       "2021-01-31 13:00:00              -331.527901   \n",
       "2021-01-31 12:00:00               368.836378   \n",
       "2021-01-31 11:00:00               -40.924733   \n",
       "...                                      ...   \n",
       "2010-07-18 07:00:00                 0.000000   \n",
       "2010-07-18 06:00:00                 0.000000   \n",
       "2010-07-18 05:00:00                 0.000000   \n",
       "2010-07-18 04:00:00                 0.000000   \n",
       "2010-07-18 03:00:00                 0.009900   \n",
       "\n",
       "                     addresses/active_count_btc_cumsum  \\\n",
       "Date                                                     \n",
       "2021-01-31 15:00:00                       2.116486e+09   \n",
       "2021-01-31 14:00:00                       2.116454e+09   \n",
       "2021-01-31 13:00:00                       2.116377e+09   \n",
       "2021-01-31 12:00:00                       2.116349e+09   \n",
       "2021-01-31 11:00:00                       2.116284e+09   \n",
       "...                                                ...   \n",
       "2010-07-18 07:00:00                       9.400000e+01   \n",
       "2010-07-18 06:00:00                       7.400000e+01   \n",
       "2010-07-18 05:00:00                       5.800000e+01   \n",
       "2010-07-18 04:00:00                       3.500000e+01   \n",
       "2010-07-18 03:00:00                       1.500000e+01   \n",
       "\n",
       "                     market/price_usd_close_btc_diff  200movingaverage_btc  \\\n",
       "Date                                                                         \n",
       "2021-01-31 15:00:00                      -506.008201          32846.884437   \n",
       "2021-01-31 14:00:00                      -229.286977          32848.722233   \n",
       "2021-01-31 13:00:00                      -331.527901          32844.827869   \n",
       "2021-01-31 12:00:00                       368.836378          32838.818708   \n",
       "2021-01-31 11:00:00                       -40.924733          32830.795006   \n",
       "...                                              ...                   ...   \n",
       "2010-07-18 07:00:00                         0.000000                   NaN   \n",
       "2010-07-18 06:00:00                         0.000000                   NaN   \n",
       "2010-07-18 05:00:00                         0.000000                   NaN   \n",
       "2010-07-18 04:00:00                         0.000000                   NaN   \n",
       "2010-07-18 03:00:00                              NaN                   NaN   \n",
       "\n",
       "                     mayer_multiple_btc  blockchain/block_count_btc_cumsum  \\\n",
       "Date                                                                         \n",
       "2021-01-31 15:00:00            1.001418                           735000.0   \n",
       "2021-01-31 14:00:00            1.016766                           734997.0   \n",
       "2021-01-31 13:00:00            1.023868                           734989.0   \n",
       "2021-01-31 12:00:00            1.034151                           734986.0   \n",
       "2021-01-31 11:00:00            1.023169                           734978.0   \n",
       "...                                 ...                                ...   \n",
       "2010-07-18 07:00:00                 NaN                           141423.0   \n",
       "2010-07-18 06:00:00                 NaN                           141410.0   \n",
       "2010-07-18 05:00:00                 NaN                           141400.0   \n",
       "2010-07-18 04:00:00                 NaN                           141396.0   \n",
       "2010-07-18 03:00:00                 NaN                           141385.0   \n",
       "\n",
       "                     halving  days_after_halving  \n",
       "Date                                              \n",
       "2021-01-31 15:00:00        1               17084  \n",
       "2021-01-31 14:00:00        1               17083  \n",
       "2021-01-31 13:00:00        1               17082  \n",
       "2021-01-31 12:00:00        1               17081  \n",
       "2021-01-31 11:00:00        1               17080  \n",
       "...                      ...                 ...  \n",
       "2010-07-18 07:00:00        1                   4  \n",
       "2010-07-18 06:00:00        1                   3  \n",
       "2010-07-18 05:00:00        1                   2  \n",
       "2010-07-18 04:00:00        1                   1  \n",
       "2010-07-18 03:00:00        1                   0  \n",
       "\n",
       "[91444 rows x 96 columns]"
      ]
     },
     "execution_count": 28,
     "metadata": {},
     "output_type": "execute_result"
    }
   ],
   "source": [
    "# Daily Return in USD in row 2011-07-16 means the change in \"btc dollar price\" from 2011-07-15 23:59 to 2011-07-16 23:59 \n",
    "# in row 2011-07-17 means the change in \"btc dollar price\" from 2011-07-16 23:59 to 2011-07-17 23:59 df_dataset1[\"Log Price in USD\"]\n",
    "df_dataset1"
   ]
  },
  {
   "cell_type": "code",
   "execution_count": 29,
   "metadata": {
    "ExecuteTime": {
     "end_time": "2021-01-31T17:03:34.486700Z",
     "start_time": "2021-01-31T17:03:33.120Z"
    }
   },
   "outputs": [],
   "source": [
    "#recalculate the correct \"Daily Return in USD\" for Friday-Monday problem\n",
    "df_dataset1[\"Daily Return in USD\"] = df_dataset1[\"Closed Price USD\"].diff()"
   ]
  },
  {
   "cell_type": "code",
   "execution_count": 30,
   "metadata": {
    "ExecuteTime": {
     "end_time": "2021-01-31T17:03:34.487698Z",
     "start_time": "2021-01-31T17:03:33.340Z"
    }
   },
   "outputs": [
    {
     "data": {
      "text/html": [
       "<div>\n",
       "<style scoped>\n",
       "    .dataframe tbody tr th:only-of-type {\n",
       "        vertical-align: middle;\n",
       "    }\n",
       "\n",
       "    .dataframe tbody tr th {\n",
       "        vertical-align: top;\n",
       "    }\n",
       "\n",
       "    .dataframe thead th {\n",
       "        text-align: right;\n",
       "    }\n",
       "</style>\n",
       "<table border=\"1\" class=\"dataframe\">\n",
       "  <thead>\n",
       "    <tr style=\"text-align: right;\">\n",
       "      <th></th>\n",
       "      <th>Daily Return in USD</th>\n",
       "      <th>Closed Price USD</th>\n",
       "    </tr>\n",
       "    <tr>\n",
       "      <th>Date</th>\n",
       "      <th></th>\n",
       "      <th></th>\n",
       "    </tr>\n",
       "  </thead>\n",
       "  <tbody>\n",
       "    <tr>\n",
       "      <th>2021-01-31 15:00:00</th>\n",
       "      <td>NaN</td>\n",
       "      <td>32893.460005</td>\n",
       "    </tr>\n",
       "    <tr>\n",
       "      <th>2021-01-31 14:00:00</th>\n",
       "      <td>506.008201</td>\n",
       "      <td>33399.468206</td>\n",
       "    </tr>\n",
       "    <tr>\n",
       "      <th>2021-01-31 13:00:00</th>\n",
       "      <td>229.286977</td>\n",
       "      <td>33628.755182</td>\n",
       "    </tr>\n",
       "    <tr>\n",
       "      <th>2021-01-31 12:00:00</th>\n",
       "      <td>331.527901</td>\n",
       "      <td>33960.283083</td>\n",
       "    </tr>\n",
       "    <tr>\n",
       "      <th>2021-01-31 11:00:00</th>\n",
       "      <td>-368.836378</td>\n",
       "      <td>33591.446705</td>\n",
       "    </tr>\n",
       "    <tr>\n",
       "      <th>...</th>\n",
       "      <td>...</td>\n",
       "      <td>...</td>\n",
       "    </tr>\n",
       "    <tr>\n",
       "      <th>2010-07-18 07:00:00</th>\n",
       "      <td>0.000000</td>\n",
       "      <td>0.059410</td>\n",
       "    </tr>\n",
       "    <tr>\n",
       "      <th>2010-07-18 06:00:00</th>\n",
       "      <td>0.000000</td>\n",
       "      <td>0.059410</td>\n",
       "    </tr>\n",
       "    <tr>\n",
       "      <th>2010-07-18 05:00:00</th>\n",
       "      <td>0.000000</td>\n",
       "      <td>0.059410</td>\n",
       "    </tr>\n",
       "    <tr>\n",
       "      <th>2010-07-18 04:00:00</th>\n",
       "      <td>0.000000</td>\n",
       "      <td>0.059410</td>\n",
       "    </tr>\n",
       "    <tr>\n",
       "      <th>2010-07-18 03:00:00</th>\n",
       "      <td>0.000000</td>\n",
       "      <td>0.059410</td>\n",
       "    </tr>\n",
       "  </tbody>\n",
       "</table>\n",
       "<p>91444 rows × 2 columns</p>\n",
       "</div>"
      ],
      "text/plain": [
       "                     Daily Return in USD  Closed Price USD\n",
       "Date                                                      \n",
       "2021-01-31 15:00:00                  NaN      32893.460005\n",
       "2021-01-31 14:00:00           506.008201      33399.468206\n",
       "2021-01-31 13:00:00           229.286977      33628.755182\n",
       "2021-01-31 12:00:00           331.527901      33960.283083\n",
       "2021-01-31 11:00:00          -368.836378      33591.446705\n",
       "...                                  ...               ...\n",
       "2010-07-18 07:00:00             0.000000          0.059410\n",
       "2010-07-18 06:00:00             0.000000          0.059410\n",
       "2010-07-18 05:00:00             0.000000          0.059410\n",
       "2010-07-18 04:00:00             0.000000          0.059410\n",
       "2010-07-18 03:00:00             0.000000          0.059410\n",
       "\n",
       "[91444 rows x 2 columns]"
      ]
     },
     "execution_count": 30,
     "metadata": {},
     "output_type": "execute_result"
    }
   ],
   "source": [
    "df_dataset1[[\"Daily Return in USD\", \"Closed Price USD\"]]"
   ]
  },
  {
   "cell_type": "code",
   "execution_count": 31,
   "metadata": {
    "ExecuteTime": {
     "end_time": "2021-01-31T17:03:34.487698Z",
     "start_time": "2021-01-31T17:03:33.509Z"
    }
   },
   "outputs": [],
   "source": [
    "df_dataset1[\"Log Price in USD\"] = pd.DataFrame(np.log(df_dataset1['Closed Price USD']))\n",
    "df_dataset1[\"Volatility Daily Log Return in Percent 5D\"] = 0\n"
   ]
  },
  {
   "cell_type": "code",
   "execution_count": 32,
   "metadata": {
    "ExecuteTime": {
     "end_time": "2021-01-31T17:03:34.488695Z",
     "start_time": "2021-01-31T17:03:33.765Z"
    },
    "scrolled": true
   },
   "outputs": [
    {
     "name": "stdout",
     "output_type": "stream",
     "text": [
      "<class 'pandas.core.frame.DataFrame'>\n",
      "DatetimeIndex: 91444 entries, 2021-01-31 15:00:00 to 2010-07-18 03:00:00\n",
      "Data columns (total 98 columns):\n",
      " #   Column                                      Non-Null Count  Dtype  \n",
      "---  ------                                      --------------  -----  \n",
      " 0   addresses/new_non_zero_count                91444 non-null  float64\n",
      " 1   addresses/active_count                      91444 non-null  float64\n",
      " 2   addresses/sending_count                     91444 non-null  float64\n",
      " 3   addresses/receiving_count                   91444 non-null  float64\n",
      " 4   addresses/count                             91444 non-null  float64\n",
      " 5   blockchain/block_height                     91444 non-null  float64\n",
      " 6   blockchain/block_count                      91444 non-null  float64\n",
      " 7   blockchain/block_interval_mean              91444 non-null  float64\n",
      " 8   blockchain/block_interval_median            91444 non-null  float64\n",
      " 9   blockchain/block_size_sum                   91444 non-null  float64\n",
      " 10  blockchain/block_size_mean                  91444 non-null  float64\n",
      " 11  fees/volume_sum                             91444 non-null  float64\n",
      " 12  fees/volume_mean                            91444 non-null  float64\n",
      " 13  fees/volume_median                          91444 non-null  float64\n",
      " 14  indicators/sopr                             91444 non-null  float64\n",
      " 15  market/price_drawdown_relative              91444 non-null  float64\n",
      " 16  market/marketcap_usd                        91444 non-null  float64\n",
      " 17  mining/difficulty_latest                    91444 non-null  float64\n",
      " 18  mining/hash_rate_mean                       91444 non-null  float64\n",
      " 19  supply/current                              91444 non-null  float64\n",
      " 20  transactions/count                          91444 non-null  float64\n",
      " 21  transactions/rate                           91444 non-null  float64\n",
      " 22  transactions/size_sum                       91444 non-null  float64\n",
      " 23  transactions/size_mean                      91444 non-null  float64\n",
      " 24  transactions/transfers_volume_sum           91444 non-null  float64\n",
      " 25  transactions/transfers_volume_mean          91444 non-null  float64\n",
      " 26  transactions/transfers_volume_median        91444 non-null  float64\n",
      " 27  blockchain/utxo_created_count               91444 non-null  float64\n",
      " 28  blockchain/utxo_spent_count                 91444 non-null  float64\n",
      " 29  blockchain/utxo_count                       91444 non-null  float64\n",
      " 30  blockchain/utxo_created_value_sum           91444 non-null  float64\n",
      " 31  blockchain/utxo_created_value_mean          91444 non-null  float64\n",
      " 32  blockchain/utxo_created_value_median        91444 non-null  float64\n",
      " 33  blockchain/utxo_spent_value_sum             91444 non-null  float64\n",
      " 34  blockchain/utxo_spent_value_mean            91444 non-null  float64\n",
      " 35  blockchain/utxo_spent_value_median          91444 non-null  float64\n",
      " 36  Closed Price USD                            91444 non-null  float64\n",
      " 37  Daily Return in USD                         91443 non-null  float64\n",
      " 38  Daily Return in Percent                     91444 non-null  float64\n",
      " 39  Daily Log Return in Percent                 91444 non-null  float64\n",
      " 40  200movingaverage                            91245 non-null  float64\n",
      " 41  mayer_multiple                              91245 non-null  float64\n",
      " 42  addresses/new_non_zero_count_adiff          91443 non-null  float64\n",
      " 43  addresses/active_count_adiff                91443 non-null  float64\n",
      " 44  addresses/sending_count_adiff               91443 non-null  float64\n",
      " 45  addresses/receiving_count_adiff             91443 non-null  float64\n",
      " 46  addresses/count_adiff                       91443 non-null  float64\n",
      " 47  blockchain/block_height_adiff               91443 non-null  float64\n",
      " 48  blockchain/block_count_adiff                91443 non-null  float64\n",
      " 49  blockchain/block_interval_mean_adiff        91443 non-null  float64\n",
      " 50  blockchain/block_interval_median_adiff      91443 non-null  float64\n",
      " 51  blockchain/block_size_sum_adiff             91443 non-null  float64\n",
      " 52  blockchain/block_size_mean_adiff            91443 non-null  float64\n",
      " 53  fees/volume_sum_adiff                       91443 non-null  float64\n",
      " 54  fees/volume_mean_adiff                      91443 non-null  float64\n",
      " 55  fees/volume_median_adiff                    91443 non-null  float64\n",
      " 56  indicators/sopr_adiff                       91443 non-null  float64\n",
      " 57  market/price_drawdown_relative_adiff        91443 non-null  float64\n",
      " 58  market/marketcap_usd_adiff                  91443 non-null  float64\n",
      " 59  mining/difficulty_latest_adiff              91443 non-null  float64\n",
      " 60  mining/hash_rate_mean_adiff                 91443 non-null  float64\n",
      " 61  supply/current_adiff                        91443 non-null  float64\n",
      " 62  transactions/count_adiff                    91443 non-null  float64\n",
      " 63  transactions/rate_adiff                     91443 non-null  float64\n",
      " 64  transactions/size_sum_adiff                 91443 non-null  float64\n",
      " 65  transactions/size_mean_adiff                91443 non-null  float64\n",
      " 66  transactions/transfers_volume_sum_adiff     91443 non-null  float64\n",
      " 67  transactions/transfers_volume_mean_adiff    91443 non-null  float64\n",
      " 68  transactions/transfers_volume_median_adiff  91443 non-null  float64\n",
      " 69  blockchain/utxo_created_count_adiff         91443 non-null  float64\n",
      " 70  blockchain/utxo_spent_count_adiff           91443 non-null  float64\n",
      " 71  blockchain/utxo_count_adiff                 91443 non-null  float64\n",
      " 72  blockchain/utxo_created_value_sum_adiff     91443 non-null  float64\n",
      " 73  blockchain/utxo_created_value_mean_adiff    91443 non-null  float64\n",
      " 74  blockchain/utxo_created_value_median_adiff  91443 non-null  float64\n",
      " 75  blockchain/utxo_spent_value_sum_adiff       91443 non-null  float64\n",
      " 76  blockchain/utxo_spent_value_mean_adiff      91443 non-null  float64\n",
      " 77  blockchain/utxo_spent_value_median_adiff    91443 non-null  float64\n",
      " 78  Closed Price USD_adiff                      91443 non-null  float64\n",
      " 79  Daily Return in USD_adiff                   91443 non-null  float64\n",
      " 80  Daily Return in Percent_adiff               91443 non-null  float64\n",
      " 81  Daily Log Return in Percent_adiff           91443 non-null  float64\n",
      " 82  200movingaverage_adiff                      91244 non-null  float64\n",
      " 83  mayer_multiple_adiff                        91244 non-null  float64\n",
      " 84  addresses/active_count_btc                  91444 non-null  float64\n",
      " 85  Closed Price USD_btc                        91444 non-null  float64\n",
      " 86  blockchain/block_count_btc                  91444 non-null  float64\n",
      " 87  supply/current_btc                          91444 non-null  float64\n",
      " 88  Daily Return in USD_btc                     91444 non-null  float64\n",
      " 89  addresses/active_count_btc_cumsum           91444 non-null  float64\n",
      " 90  market/price_usd_close_btc_diff             91443 non-null  float64\n",
      " 91  200movingaverage_btc                        91245 non-null  float64\n",
      " 92  mayer_multiple_btc                          91245 non-null  float64\n",
      " 93  blockchain/block_count_btc_cumsum           91444 non-null  float64\n",
      " 94  halving                                     91444 non-null  int32  \n",
      " 95  days_after_halving                          91444 non-null  int64  \n",
      " 96  Log Price in USD                            91444 non-null  float64\n",
      " 97  Volatility Daily Log Return in Percent 5D   91444 non-null  int64  \n",
      "dtypes: float64(95), int32(1), int64(2)\n",
      "memory usage: 70.7 MB\n"
     ]
    }
   ],
   "source": [
    "# Data Set Info\n",
    "df_dataset1.info()"
   ]
  },
  {
   "cell_type": "code",
   "execution_count": 33,
   "metadata": {
    "ExecuteTime": {
     "end_time": "2021-01-31T17:03:34.489692Z",
     "start_time": "2021-01-31T17:03:33.896Z"
    }
   },
   "outputs": [],
   "source": [
    "# List of Data Types\n",
    "l_dtypes = df_dataset1.dtypes"
   ]
  },
  {
   "cell_type": "code",
   "execution_count": 34,
   "metadata": {
    "ExecuteTime": {
     "end_time": "2021-01-31T17:03:34.489692Z",
     "start_time": "2021-01-31T17:03:34.033Z"
    }
   },
   "outputs": [
    {
     "name": "stdout",
     "output_type": "stream",
     "text": [
      "95\n"
     ]
    }
   ],
   "source": [
    "# Counter\n",
    "counter = 0\n",
    "\n",
    "# Cross-Check of Data Types\n",
    "for i in l_dtypes:\n",
    "    if (i == float):\n",
    "        counter = counter+1\n",
    "    else:\n",
    "        counter = counter\n",
    "\n",
    "# Number of Float Data Types\n",
    "print(counter)"
   ]
  },
  {
   "cell_type": "code",
   "execution_count": 35,
   "metadata": {
    "ExecuteTime": {
     "end_time": "2021-01-31T17:03:34.490689Z",
     "start_time": "2021-01-31T17:03:34.212Z"
    }
   },
   "outputs": [
    {
     "data": {
      "text/plain": [
       "addresses/new_non_zero_count                 float64\n",
       "addresses/active_count                       float64\n",
       "addresses/sending_count                      float64\n",
       "addresses/receiving_count                    float64\n",
       "addresses/count                              float64\n",
       "                                              ...   \n",
       "blockchain/block_count_btc_cumsum            float64\n",
       "halving                                        int32\n",
       "days_after_halving                             int64\n",
       "Log Price in USD                             float64\n",
       "Volatility Daily Log Return in Percent 5D      int64\n",
       "Length: 98, dtype: object"
      ]
     },
     "execution_count": 35,
     "metadata": {},
     "output_type": "execute_result"
    }
   ],
   "source": [
    "# Data Types\n",
    "df_dataset1.dtypes"
   ]
  },
  {
   "cell_type": "code",
   "execution_count": 36,
   "metadata": {
    "ExecuteTime": {
     "end_time": "2021-01-31T17:03:34.491687Z",
     "start_time": "2021-01-31T17:03:34.394Z"
    }
   },
   "outputs": [
    {
     "data": {
      "text/html": [
       "<div>\n",
       "<style scoped>\n",
       "    .dataframe tbody tr th:only-of-type {\n",
       "        vertical-align: middle;\n",
       "    }\n",
       "\n",
       "    .dataframe tbody tr th {\n",
       "        vertical-align: top;\n",
       "    }\n",
       "\n",
       "    .dataframe thead th {\n",
       "        text-align: right;\n",
       "    }\n",
       "</style>\n",
       "<table border=\"1\" class=\"dataframe\">\n",
       "  <thead>\n",
       "    <tr style=\"text-align: right;\">\n",
       "      <th></th>\n",
       "      <th>addresses/new_non_zero_count</th>\n",
       "      <th>addresses/active_count</th>\n",
       "      <th>addresses/sending_count</th>\n",
       "      <th>addresses/receiving_count</th>\n",
       "      <th>addresses/count</th>\n",
       "      <th>blockchain/block_height</th>\n",
       "      <th>blockchain/block_count</th>\n",
       "      <th>blockchain/block_interval_mean</th>\n",
       "      <th>blockchain/block_interval_median</th>\n",
       "      <th>blockchain/block_size_sum</th>\n",
       "      <th>...</th>\n",
       "      <th>Daily Return in USD_btc</th>\n",
       "      <th>addresses/active_count_btc_cumsum</th>\n",
       "      <th>market/price_usd_close_btc_diff</th>\n",
       "      <th>200movingaverage_btc</th>\n",
       "      <th>mayer_multiple_btc</th>\n",
       "      <th>blockchain/block_count_btc_cumsum</th>\n",
       "      <th>halving</th>\n",
       "      <th>days_after_halving</th>\n",
       "      <th>Log Price in USD</th>\n",
       "      <th>Volatility Daily Log Return in Percent 5D</th>\n",
       "    </tr>\n",
       "  </thead>\n",
       "  <tbody>\n",
       "    <tr>\n",
       "      <th>count</th>\n",
       "      <td>91444.000000</td>\n",
       "      <td>91444.000000</td>\n",
       "      <td>91444.000000</td>\n",
       "      <td>91444.000000</td>\n",
       "      <td>9.144400e+04</td>\n",
       "      <td>91444.000000</td>\n",
       "      <td>91444.000000</td>\n",
       "      <td>91444.000000</td>\n",
       "      <td>91444.000000</td>\n",
       "      <td>9.144400e+04</td>\n",
       "      <td>...</td>\n",
       "      <td>91444.000000</td>\n",
       "      <td>9.144400e+04</td>\n",
       "      <td>91443.000000</td>\n",
       "      <td>91245.000000</td>\n",
       "      <td>91245.000000</td>\n",
       "      <td>91444.000000</td>\n",
       "      <td>91444.000000</td>\n",
       "      <td>91444.000000</td>\n",
       "      <td>91444.000000</td>\n",
       "      <td>91444.0</td>\n",
       "    </tr>\n",
       "    <tr>\n",
       "      <th>mean</th>\n",
       "      <td>8481.572099</td>\n",
       "      <td>23145.163149</td>\n",
       "      <td>12098.040549</td>\n",
       "      <td>14311.937164</td>\n",
       "      <td>2.161258e+08</td>\n",
       "      <td>379356.548904</td>\n",
       "      <td>6.491612</td>\n",
       "      <td>669.155454</td>\n",
       "      <td>474.891660</td>\n",
       "      <td>3.551359e+06</td>\n",
       "      <td>...</td>\n",
       "      <td>0.359711</td>\n",
       "      <td>5.940341e+08</td>\n",
       "      <td>0.359715</td>\n",
       "      <td>3266.193533</td>\n",
       "      <td>1.016556</td>\n",
       "      <td>446234.025414</td>\n",
       "      <td>0.999738</td>\n",
       "      <td>13706.174970</td>\n",
       "      <td>5.823181</td>\n",
       "      <td>0.0</td>\n",
       "    </tr>\n",
       "    <tr>\n",
       "      <th>std</th>\n",
       "      <td>8049.370313</td>\n",
       "      <td>21290.051125</td>\n",
       "      <td>11571.331651</td>\n",
       "      <td>12878.571194</td>\n",
       "      <td>2.358384e+08</td>\n",
       "      <td>170709.216545</td>\n",
       "      <td>2.644469</td>\n",
       "      <td>387.671796</td>\n",
       "      <td>380.731291</td>\n",
       "      <td>3.194836e+06</td>\n",
       "      <td>...</td>\n",
       "      <td>64.511100</td>\n",
       "      <td>6.468688e+08</td>\n",
       "      <td>64.511453</td>\n",
       "      <td>5120.326780</td>\n",
       "      <td>0.094824</td>\n",
       "      <td>170418.074568</td>\n",
       "      <td>0.016198</td>\n",
       "      <td>9336.282974</td>\n",
       "      <td>3.129265</td>\n",
       "      <td>0.0</td>\n",
       "    </tr>\n",
       "    <tr>\n",
       "      <th>min</th>\n",
       "      <td>0.000000</td>\n",
       "      <td>1.000000</td>\n",
       "      <td>1.000000</td>\n",
       "      <td>1.000000</td>\n",
       "      <td>8.706000e+04</td>\n",
       "      <td>68801.000000</td>\n",
       "      <td>1.000000</td>\n",
       "      <td>1.000000</td>\n",
       "      <td>1.000000</td>\n",
       "      <td>4.690000e+02</td>\n",
       "      <td>...</td>\n",
       "      <td>-1775.272332</td>\n",
       "      <td>1.500000e+01</td>\n",
       "      <td>-1775.272332</td>\n",
       "      <td>0.059998</td>\n",
       "      <td>0.366759</td>\n",
       "      <td>141385.000000</td>\n",
       "      <td>0.000000</td>\n",
       "      <td>0.000000</td>\n",
       "      <td>-3.438588</td>\n",
       "      <td>0.0</td>\n",
       "    </tr>\n",
       "    <tr>\n",
       "      <th>25%</th>\n",
       "      <td>1265.000000</td>\n",
       "      <td>3531.000000</td>\n",
       "      <td>1849.000000</td>\n",
       "      <td>2387.000000</td>\n",
       "      <td>1.129916e+07</td>\n",
       "      <td>228641.750000</td>\n",
       "      <td>5.000000</td>\n",
       "      <td>441.375000</td>\n",
       "      <td>258.000000</td>\n",
       "      <td>8.252328e+05</td>\n",
       "      <td>...</td>\n",
       "      <td>-1.151933</td>\n",
       "      <td>2.890292e+07</td>\n",
       "      <td>-1.151955</td>\n",
       "      <td>78.632298</td>\n",
       "      <td>0.977930</td>\n",
       "      <td>295470.750000</td>\n",
       "      <td>1.000000</td>\n",
       "      <td>5709.750000</td>\n",
       "      <td>4.293100</td>\n",
       "      <td>0.0</td>\n",
       "    </tr>\n",
       "    <tr>\n",
       "      <th>50%</th>\n",
       "      <td>6586.000000</td>\n",
       "      <td>18384.000000</td>\n",
       "      <td>9213.500000</td>\n",
       "      <td>11858.500000</td>\n",
       "      <td>1.040746e+08</td>\n",
       "      <td>382589.500000</td>\n",
       "      <td>6.000000</td>\n",
       "      <td>572.285714</td>\n",
       "      <td>379.000000</td>\n",
       "      <td>2.793742e+06</td>\n",
       "      <td>...</td>\n",
       "      <td>0.000000</td>\n",
       "      <td>2.866473e+08</td>\n",
       "      <td>0.000000</td>\n",
       "      <td>548.520693</td>\n",
       "      <td>1.007727</td>\n",
       "      <td>449418.500000</td>\n",
       "      <td>1.000000</td>\n",
       "      <td>12220.000000</td>\n",
       "      <td>6.290492</td>\n",
       "      <td>0.0</td>\n",
       "    </tr>\n",
       "    <tr>\n",
       "      <th>75%</th>\n",
       "      <td>13378.000000</td>\n",
       "      <td>37410.000000</td>\n",
       "      <td>19184.250000</td>\n",
       "      <td>22896.250000</td>\n",
       "      <td>4.065018e+08</td>\n",
       "      <td>528299.750000</td>\n",
       "      <td>8.000000</td>\n",
       "      <td>772.600000</td>\n",
       "      <td>566.000000</td>\n",
       "      <td>5.713172e+06</td>\n",
       "      <td>...</td>\n",
       "      <td>1.518617</td>\n",
       "      <td>1.117653e+09</td>\n",
       "      <td>1.518657</td>\n",
       "      <td>6429.418064</td>\n",
       "      <td>1.046941</td>\n",
       "      <td>595067.750000</td>\n",
       "      <td>1.000000</td>\n",
       "      <td>21218.250000</td>\n",
       "      <td>8.762497</td>\n",
       "      <td>0.0</td>\n",
       "    </tr>\n",
       "    <tr>\n",
       "      <th>max</th>\n",
       "      <td>61207.000000</td>\n",
       "      <td>134284.000000</td>\n",
       "      <td>102973.000000</td>\n",
       "      <td>92713.000000</td>\n",
       "      <td>7.764314e+08</td>\n",
       "      <td>668495.000000</td>\n",
       "      <td>22.000000</td>\n",
       "      <td>8461.000000</td>\n",
       "      <td>8461.000000</td>\n",
       "      <td>2.739661e+07</td>\n",
       "      <td>...</td>\n",
       "      <td>3205.333195</td>\n",
       "      <td>2.116486e+09</td>\n",
       "      <td>3205.333195</td>\n",
       "      <td>37640.975903</td>\n",
       "      <td>2.092246</td>\n",
       "      <td>735000.000000</td>\n",
       "      <td>1.000000</td>\n",
       "      <td>33425.000000</td>\n",
       "      <td>10.634011</td>\n",
       "      <td>0.0</td>\n",
       "    </tr>\n",
       "  </tbody>\n",
       "</table>\n",
       "<p>8 rows × 98 columns</p>\n",
       "</div>"
      ],
      "text/plain": [
       "       addresses/new_non_zero_count  addresses/active_count  \\\n",
       "count                  91444.000000            91444.000000   \n",
       "mean                    8481.572099            23145.163149   \n",
       "std                     8049.370313            21290.051125   \n",
       "min                        0.000000                1.000000   \n",
       "25%                     1265.000000             3531.000000   \n",
       "50%                     6586.000000            18384.000000   \n",
       "75%                    13378.000000            37410.000000   \n",
       "max                    61207.000000           134284.000000   \n",
       "\n",
       "       addresses/sending_count  addresses/receiving_count  addresses/count  \\\n",
       "count             91444.000000               91444.000000     9.144400e+04   \n",
       "mean              12098.040549               14311.937164     2.161258e+08   \n",
       "std               11571.331651               12878.571194     2.358384e+08   \n",
       "min                   1.000000                   1.000000     8.706000e+04   \n",
       "25%                1849.000000                2387.000000     1.129916e+07   \n",
       "50%                9213.500000               11858.500000     1.040746e+08   \n",
       "75%               19184.250000               22896.250000     4.065018e+08   \n",
       "max              102973.000000               92713.000000     7.764314e+08   \n",
       "\n",
       "       blockchain/block_height  blockchain/block_count  \\\n",
       "count             91444.000000            91444.000000   \n",
       "mean             379356.548904                6.491612   \n",
       "std              170709.216545                2.644469   \n",
       "min               68801.000000                1.000000   \n",
       "25%              228641.750000                5.000000   \n",
       "50%              382589.500000                6.000000   \n",
       "75%              528299.750000                8.000000   \n",
       "max              668495.000000               22.000000   \n",
       "\n",
       "       blockchain/block_interval_mean  blockchain/block_interval_median  \\\n",
       "count                    91444.000000                      91444.000000   \n",
       "mean                       669.155454                        474.891660   \n",
       "std                        387.671796                        380.731291   \n",
       "min                          1.000000                          1.000000   \n",
       "25%                        441.375000                        258.000000   \n",
       "50%                        572.285714                        379.000000   \n",
       "75%                        772.600000                        566.000000   \n",
       "max                       8461.000000                       8461.000000   \n",
       "\n",
       "       blockchain/block_size_sum  ...  Daily Return in USD_btc  \\\n",
       "count               9.144400e+04  ...             91444.000000   \n",
       "mean                3.551359e+06  ...                 0.359711   \n",
       "std                 3.194836e+06  ...                64.511100   \n",
       "min                 4.690000e+02  ...             -1775.272332   \n",
       "25%                 8.252328e+05  ...                -1.151933   \n",
       "50%                 2.793742e+06  ...                 0.000000   \n",
       "75%                 5.713172e+06  ...                 1.518617   \n",
       "max                 2.739661e+07  ...              3205.333195   \n",
       "\n",
       "       addresses/active_count_btc_cumsum  market/price_usd_close_btc_diff  \\\n",
       "count                       9.144400e+04                     91443.000000   \n",
       "mean                        5.940341e+08                         0.359715   \n",
       "std                         6.468688e+08                        64.511453   \n",
       "min                         1.500000e+01                     -1775.272332   \n",
       "25%                         2.890292e+07                        -1.151955   \n",
       "50%                         2.866473e+08                         0.000000   \n",
       "75%                         1.117653e+09                         1.518657   \n",
       "max                         2.116486e+09                      3205.333195   \n",
       "\n",
       "       200movingaverage_btc  mayer_multiple_btc  \\\n",
       "count          91245.000000        91245.000000   \n",
       "mean            3266.193533            1.016556   \n",
       "std             5120.326780            0.094824   \n",
       "min                0.059998            0.366759   \n",
       "25%               78.632298            0.977930   \n",
       "50%              548.520693            1.007727   \n",
       "75%             6429.418064            1.046941   \n",
       "max            37640.975903            2.092246   \n",
       "\n",
       "       blockchain/block_count_btc_cumsum       halving  days_after_halving  \\\n",
       "count                       91444.000000  91444.000000        91444.000000   \n",
       "mean                       446234.025414      0.999738        13706.174970   \n",
       "std                        170418.074568      0.016198         9336.282974   \n",
       "min                        141385.000000      0.000000            0.000000   \n",
       "25%                        295470.750000      1.000000         5709.750000   \n",
       "50%                        449418.500000      1.000000        12220.000000   \n",
       "75%                        595067.750000      1.000000        21218.250000   \n",
       "max                        735000.000000      1.000000        33425.000000   \n",
       "\n",
       "       Log Price in USD  Volatility Daily Log Return in Percent 5D  \n",
       "count      91444.000000                                    91444.0  \n",
       "mean           5.823181                                        0.0  \n",
       "std            3.129265                                        0.0  \n",
       "min           -3.438588                                        0.0  \n",
       "25%            4.293100                                        0.0  \n",
       "50%            6.290492                                        0.0  \n",
       "75%            8.762497                                        0.0  \n",
       "max           10.634011                                        0.0  \n",
       "\n",
       "[8 rows x 98 columns]"
      ]
     },
     "execution_count": 36,
     "metadata": {},
     "output_type": "execute_result"
    }
   ],
   "source": [
    "# Summary Statistics\n",
    "df_dataset1.describe()"
   ]
  },
  {
   "cell_type": "code",
   "execution_count": 37,
   "metadata": {
    "ExecuteTime": {
     "end_time": "2021-01-31T17:03:34.628358Z",
     "start_time": "2021-01-31T17:03:34.600398Z"
    }
   },
   "outputs": [
    {
     "data": {
      "text/html": [
       "<div>\n",
       "<style scoped>\n",
       "    .dataframe tbody tr th:only-of-type {\n",
       "        vertical-align: middle;\n",
       "    }\n",
       "\n",
       "    .dataframe tbody tr th {\n",
       "        vertical-align: top;\n",
       "    }\n",
       "\n",
       "    .dataframe thead th {\n",
       "        text-align: right;\n",
       "    }\n",
       "</style>\n",
       "<table border=\"1\" class=\"dataframe\">\n",
       "  <thead>\n",
       "    <tr style=\"text-align: right;\">\n",
       "      <th></th>\n",
       "      <th>addresses/new_non_zero_count</th>\n",
       "      <th>addresses/active_count</th>\n",
       "      <th>addresses/sending_count</th>\n",
       "      <th>addresses/receiving_count</th>\n",
       "      <th>addresses/count</th>\n",
       "      <th>blockchain/block_height</th>\n",
       "      <th>blockchain/block_count</th>\n",
       "      <th>blockchain/block_interval_mean</th>\n",
       "      <th>blockchain/block_interval_median</th>\n",
       "      <th>blockchain/block_size_sum</th>\n",
       "      <th>...</th>\n",
       "      <th>Daily Return in USD_btc</th>\n",
       "      <th>addresses/active_count_btc_cumsum</th>\n",
       "      <th>market/price_usd_close_btc_diff</th>\n",
       "      <th>200movingaverage_btc</th>\n",
       "      <th>mayer_multiple_btc</th>\n",
       "      <th>blockchain/block_count_btc_cumsum</th>\n",
       "      <th>halving</th>\n",
       "      <th>days_after_halving</th>\n",
       "      <th>Log Price in USD</th>\n",
       "      <th>Volatility Daily Log Return in Percent 5D</th>\n",
       "    </tr>\n",
       "    <tr>\n",
       "      <th>Date</th>\n",
       "      <th></th>\n",
       "      <th></th>\n",
       "      <th></th>\n",
       "      <th></th>\n",
       "      <th></th>\n",
       "      <th></th>\n",
       "      <th></th>\n",
       "      <th></th>\n",
       "      <th></th>\n",
       "      <th></th>\n",
       "      <th></th>\n",
       "      <th></th>\n",
       "      <th></th>\n",
       "      <th></th>\n",
       "      <th></th>\n",
       "      <th></th>\n",
       "      <th></th>\n",
       "      <th></th>\n",
       "      <th></th>\n",
       "      <th></th>\n",
       "      <th></th>\n",
       "    </tr>\n",
       "  </thead>\n",
       "  <tbody>\n",
       "    <tr>\n",
       "      <th>2010-07-18 07:00:00</th>\n",
       "      <td>25.0</td>\n",
       "      <td>20.0</td>\n",
       "      <td>11.0</td>\n",
       "      <td>15.0</td>\n",
       "      <td>87143.0</td>\n",
       "      <td>68839.0</td>\n",
       "      <td>13.0</td>\n",
       "      <td>345.692308</td>\n",
       "      <td>243.0</td>\n",
       "      <td>5347.0</td>\n",
       "      <td>...</td>\n",
       "      <td>0.0000</td>\n",
       "      <td>94.0</td>\n",
       "      <td>0.0</td>\n",
       "      <td>NaN</td>\n",
       "      <td>NaN</td>\n",
       "      <td>141423.0</td>\n",
       "      <td>1</td>\n",
       "      <td>4</td>\n",
       "      <td>-2.823293</td>\n",
       "      <td>0</td>\n",
       "    </tr>\n",
       "    <tr>\n",
       "      <th>2010-07-18 06:00:00</th>\n",
       "      <td>18.0</td>\n",
       "      <td>16.0</td>\n",
       "      <td>10.0</td>\n",
       "      <td>9.0</td>\n",
       "      <td>87118.0</td>\n",
       "      <td>68826.0</td>\n",
       "      <td>10.0</td>\n",
       "      <td>252.200000</td>\n",
       "      <td>278.0</td>\n",
       "      <td>4227.0</td>\n",
       "      <td>...</td>\n",
       "      <td>0.0000</td>\n",
       "      <td>74.0</td>\n",
       "      <td>0.0</td>\n",
       "      <td>NaN</td>\n",
       "      <td>NaN</td>\n",
       "      <td>141410.0</td>\n",
       "      <td>1</td>\n",
       "      <td>3</td>\n",
       "      <td>-2.823293</td>\n",
       "      <td>0</td>\n",
       "    </tr>\n",
       "    <tr>\n",
       "      <th>2010-07-18 05:00:00</th>\n",
       "      <td>16.0</td>\n",
       "      <td>23.0</td>\n",
       "      <td>10.0</td>\n",
       "      <td>18.0</td>\n",
       "      <td>87100.0</td>\n",
       "      <td>68816.0</td>\n",
       "      <td>4.0</td>\n",
       "      <td>858.500000</td>\n",
       "      <td>823.0</td>\n",
       "      <td>3307.0</td>\n",
       "      <td>...</td>\n",
       "      <td>0.0000</td>\n",
       "      <td>58.0</td>\n",
       "      <td>0.0</td>\n",
       "      <td>NaN</td>\n",
       "      <td>NaN</td>\n",
       "      <td>141400.0</td>\n",
       "      <td>1</td>\n",
       "      <td>2</td>\n",
       "      <td>-2.823293</td>\n",
       "      <td>0</td>\n",
       "    </tr>\n",
       "    <tr>\n",
       "      <th>2010-07-18 04:00:00</th>\n",
       "      <td>24.0</td>\n",
       "      <td>20.0</td>\n",
       "      <td>8.0</td>\n",
       "      <td>14.0</td>\n",
       "      <td>87084.0</td>\n",
       "      <td>68812.0</td>\n",
       "      <td>11.0</td>\n",
       "      <td>438.818182</td>\n",
       "      <td>417.0</td>\n",
       "      <td>4341.0</td>\n",
       "      <td>...</td>\n",
       "      <td>0.0000</td>\n",
       "      <td>35.0</td>\n",
       "      <td>0.0</td>\n",
       "      <td>NaN</td>\n",
       "      <td>NaN</td>\n",
       "      <td>141396.0</td>\n",
       "      <td>1</td>\n",
       "      <td>1</td>\n",
       "      <td>-2.823293</td>\n",
       "      <td>0</td>\n",
       "    </tr>\n",
       "    <tr>\n",
       "      <th>2010-07-18 03:00:00</th>\n",
       "      <td>11.0</td>\n",
       "      <td>15.0</td>\n",
       "      <td>6.0</td>\n",
       "      <td>11.0</td>\n",
       "      <td>87060.0</td>\n",
       "      <td>68801.0</td>\n",
       "      <td>4.0</td>\n",
       "      <td>953.000000</td>\n",
       "      <td>941.0</td>\n",
       "      <td>2247.0</td>\n",
       "      <td>...</td>\n",
       "      <td>0.0099</td>\n",
       "      <td>15.0</td>\n",
       "      <td>NaN</td>\n",
       "      <td>NaN</td>\n",
       "      <td>NaN</td>\n",
       "      <td>141385.0</td>\n",
       "      <td>1</td>\n",
       "      <td>0</td>\n",
       "      <td>-2.823293</td>\n",
       "      <td>0</td>\n",
       "    </tr>\n",
       "  </tbody>\n",
       "</table>\n",
       "<p>5 rows × 98 columns</p>\n",
       "</div>"
      ],
      "text/plain": [
       "                     addresses/new_non_zero_count  addresses/active_count  \\\n",
       "Date                                                                        \n",
       "2010-07-18 07:00:00                          25.0                    20.0   \n",
       "2010-07-18 06:00:00                          18.0                    16.0   \n",
       "2010-07-18 05:00:00                          16.0                    23.0   \n",
       "2010-07-18 04:00:00                          24.0                    20.0   \n",
       "2010-07-18 03:00:00                          11.0                    15.0   \n",
       "\n",
       "                     addresses/sending_count  addresses/receiving_count  \\\n",
       "Date                                                                      \n",
       "2010-07-18 07:00:00                     11.0                       15.0   \n",
       "2010-07-18 06:00:00                     10.0                        9.0   \n",
       "2010-07-18 05:00:00                     10.0                       18.0   \n",
       "2010-07-18 04:00:00                      8.0                       14.0   \n",
       "2010-07-18 03:00:00                      6.0                       11.0   \n",
       "\n",
       "                     addresses/count  blockchain/block_height  \\\n",
       "Date                                                            \n",
       "2010-07-18 07:00:00          87143.0                  68839.0   \n",
       "2010-07-18 06:00:00          87118.0                  68826.0   \n",
       "2010-07-18 05:00:00          87100.0                  68816.0   \n",
       "2010-07-18 04:00:00          87084.0                  68812.0   \n",
       "2010-07-18 03:00:00          87060.0                  68801.0   \n",
       "\n",
       "                     blockchain/block_count  blockchain/block_interval_mean  \\\n",
       "Date                                                                          \n",
       "2010-07-18 07:00:00                    13.0                      345.692308   \n",
       "2010-07-18 06:00:00                    10.0                      252.200000   \n",
       "2010-07-18 05:00:00                     4.0                      858.500000   \n",
       "2010-07-18 04:00:00                    11.0                      438.818182   \n",
       "2010-07-18 03:00:00                     4.0                      953.000000   \n",
       "\n",
       "                     blockchain/block_interval_median  \\\n",
       "Date                                                    \n",
       "2010-07-18 07:00:00                             243.0   \n",
       "2010-07-18 06:00:00                             278.0   \n",
       "2010-07-18 05:00:00                             823.0   \n",
       "2010-07-18 04:00:00                             417.0   \n",
       "2010-07-18 03:00:00                             941.0   \n",
       "\n",
       "                     blockchain/block_size_sum  ...  Daily Return in USD_btc  \\\n",
       "Date                                            ...                            \n",
       "2010-07-18 07:00:00                     5347.0  ...                   0.0000   \n",
       "2010-07-18 06:00:00                     4227.0  ...                   0.0000   \n",
       "2010-07-18 05:00:00                     3307.0  ...                   0.0000   \n",
       "2010-07-18 04:00:00                     4341.0  ...                   0.0000   \n",
       "2010-07-18 03:00:00                     2247.0  ...                   0.0099   \n",
       "\n",
       "                     addresses/active_count_btc_cumsum  \\\n",
       "Date                                                     \n",
       "2010-07-18 07:00:00                               94.0   \n",
       "2010-07-18 06:00:00                               74.0   \n",
       "2010-07-18 05:00:00                               58.0   \n",
       "2010-07-18 04:00:00                               35.0   \n",
       "2010-07-18 03:00:00                               15.0   \n",
       "\n",
       "                     market/price_usd_close_btc_diff  200movingaverage_btc  \\\n",
       "Date                                                                         \n",
       "2010-07-18 07:00:00                              0.0                   NaN   \n",
       "2010-07-18 06:00:00                              0.0                   NaN   \n",
       "2010-07-18 05:00:00                              0.0                   NaN   \n",
       "2010-07-18 04:00:00                              0.0                   NaN   \n",
       "2010-07-18 03:00:00                              NaN                   NaN   \n",
       "\n",
       "                     mayer_multiple_btc  blockchain/block_count_btc_cumsum  \\\n",
       "Date                                                                         \n",
       "2010-07-18 07:00:00                 NaN                           141423.0   \n",
       "2010-07-18 06:00:00                 NaN                           141410.0   \n",
       "2010-07-18 05:00:00                 NaN                           141400.0   \n",
       "2010-07-18 04:00:00                 NaN                           141396.0   \n",
       "2010-07-18 03:00:00                 NaN                           141385.0   \n",
       "\n",
       "                     halving  days_after_halving  Log Price in USD  \\\n",
       "Date                                                                 \n",
       "2010-07-18 07:00:00        1                   4         -2.823293   \n",
       "2010-07-18 06:00:00        1                   3         -2.823293   \n",
       "2010-07-18 05:00:00        1                   2         -2.823293   \n",
       "2010-07-18 04:00:00        1                   1         -2.823293   \n",
       "2010-07-18 03:00:00        1                   0         -2.823293   \n",
       "\n",
       "                     Volatility Daily Log Return in Percent 5D  \n",
       "Date                                                            \n",
       "2010-07-18 07:00:00                                          0  \n",
       "2010-07-18 06:00:00                                          0  \n",
       "2010-07-18 05:00:00                                          0  \n",
       "2010-07-18 04:00:00                                          0  \n",
       "2010-07-18 03:00:00                                          0  \n",
       "\n",
       "[5 rows x 98 columns]"
      ]
     },
     "execution_count": 37,
     "metadata": {},
     "output_type": "execute_result"
    }
   ],
   "source": [
    "# Dataset Tail\n",
    "df_dataset1.tail()"
   ]
  },
  {
   "cell_type": "code",
   "execution_count": 38,
   "metadata": {
    "ExecuteTime": {
     "end_time": "2021-01-31T17:03:34.830909Z",
     "start_time": "2021-01-31T17:03:34.821838Z"
    }
   },
   "outputs": [
    {
     "data": {
      "text/plain": [
       "98"
      ]
     },
     "execution_count": 38,
     "metadata": {},
     "output_type": "execute_result"
    }
   ],
   "source": [
    "len( df_dataset1.columns)"
   ]
  },
  {
   "cell_type": "markdown",
   "metadata": {},
   "source": [
    "## Prediction Shift"
   ]
  },
  {
   "cell_type": "code",
   "execution_count": 39,
   "metadata": {
    "ExecuteTime": {
     "end_time": "2021-01-31T17:03:35.146067Z",
     "start_time": "2021-01-31T17:03:35.125004Z"
    }
   },
   "outputs": [
    {
     "name": "stdout",
     "output_type": "stream",
     "text": [
      "addresses/new_non_zero_count\n",
      "addresses/active_count\n",
      "addresses/sending_count\n",
      "addresses/receiving_count\n",
      "addresses/count\n",
      "blockchain/block_height\n",
      "blockchain/block_count\n",
      "blockchain/block_interval_mean\n",
      "blockchain/block_interval_median\n",
      "blockchain/block_size_sum\n",
      "blockchain/block_size_mean\n",
      "fees/volume_sum\n",
      "fees/volume_mean\n",
      "fees/volume_median\n",
      "indicators/sopr\n",
      "market/price_drawdown_relative\n",
      "market/marketcap_usd\n",
      "mining/difficulty_latest\n",
      "mining/hash_rate_mean\n",
      "supply/current\n",
      "transactions/count\n",
      "transactions/rate\n",
      "transactions/size_sum\n",
      "transactions/size_mean\n",
      "transactions/transfers_volume_sum\n",
      "transactions/transfers_volume_mean\n",
      "transactions/transfers_volume_median\n",
      "blockchain/utxo_created_count\n",
      "blockchain/utxo_spent_count\n",
      "blockchain/utxo_count\n",
      "blockchain/utxo_created_value_sum\n",
      "blockchain/utxo_created_value_mean\n",
      "blockchain/utxo_created_value_median\n",
      "blockchain/utxo_spent_value_sum\n",
      "blockchain/utxo_spent_value_mean\n",
      "blockchain/utxo_spent_value_median\n",
      "Closed Price USD\n",
      "Daily Return in USD\n",
      "Daily Return in Percent\n",
      "Daily Log Return in Percent\n",
      "200movingaverage\n",
      "mayer_multiple\n",
      "addresses/new_non_zero_count_adiff\n",
      "addresses/active_count_adiff\n",
      "addresses/sending_count_adiff\n",
      "addresses/receiving_count_adiff\n",
      "addresses/count_adiff\n",
      "blockchain/block_height_adiff\n",
      "blockchain/block_count_adiff\n",
      "blockchain/block_interval_mean_adiff\n",
      "blockchain/block_interval_median_adiff\n",
      "blockchain/block_size_sum_adiff\n",
      "blockchain/block_size_mean_adiff\n",
      "fees/volume_sum_adiff\n",
      "fees/volume_mean_adiff\n",
      "fees/volume_median_adiff\n",
      "indicators/sopr_adiff\n",
      "market/price_drawdown_relative_adiff\n",
      "market/marketcap_usd_adiff\n",
      "mining/difficulty_latest_adiff\n",
      "mining/hash_rate_mean_adiff\n",
      "supply/current_adiff\n",
      "transactions/count_adiff\n",
      "transactions/rate_adiff\n",
      "transactions/size_sum_adiff\n",
      "transactions/size_mean_adiff\n",
      "transactions/transfers_volume_sum_adiff\n",
      "transactions/transfers_volume_mean_adiff\n",
      "transactions/transfers_volume_median_adiff\n",
      "blockchain/utxo_created_count_adiff\n",
      "blockchain/utxo_spent_count_adiff\n",
      "blockchain/utxo_count_adiff\n",
      "blockchain/utxo_created_value_sum_adiff\n",
      "blockchain/utxo_created_value_mean_adiff\n",
      "blockchain/utxo_created_value_median_adiff\n",
      "blockchain/utxo_spent_value_sum_adiff\n",
      "blockchain/utxo_spent_value_mean_adiff\n",
      "blockchain/utxo_spent_value_median_adiff\n",
      "Closed Price USD_adiff\n",
      "Daily Return in USD_adiff\n",
      "Daily Return in Percent_adiff\n",
      "Daily Log Return in Percent_adiff\n",
      "200movingaverage_adiff\n",
      "mayer_multiple_adiff\n",
      "addresses/active_count_btc\n",
      "Closed Price USD_btc\n",
      "blockchain/block_count_btc\n",
      "supply/current_btc\n",
      "Daily Return in USD_btc\n",
      "addresses/active_count_btc_cumsum\n",
      "market/price_usd_close_btc_diff\n",
      "200movingaverage_btc\n",
      "mayer_multiple_btc\n",
      "blockchain/block_count_btc_cumsum\n",
      "halving\n",
      "days_after_halving\n",
      "Log Price in USD\n",
      "Volatility Daily Log Return in Percent 5D\n"
     ]
    }
   ],
   "source": [
    "for x in df_dataset1.columns:\n",
    "    print(x)"
   ]
  },
  {
   "cell_type": "markdown",
   "metadata": {},
   "source": [
    "### Data Set I."
   ]
  },
  {
   "cell_type": "code",
   "execution_count": 40,
   "metadata": {
    "ExecuteTime": {
     "end_time": "2021-01-31T17:03:35.886667Z",
     "start_time": "2021-01-31T17:03:35.880991Z"
    }
   },
   "outputs": [
    {
     "data": {
      "text/plain": [
       "Index(['addresses/new_non_zero_count', 'addresses/active_count',\n",
       "       'addresses/sending_count', 'addresses/receiving_count',\n",
       "       'addresses/count', 'blockchain/block_height', 'blockchain/block_count',\n",
       "       'blockchain/block_interval_mean', 'blockchain/block_interval_median',\n",
       "       'blockchain/block_size_sum', 'blockchain/block_size_mean',\n",
       "       'fees/volume_sum', 'fees/volume_mean', 'fees/volume_median',\n",
       "       'indicators/sopr', 'market/price_drawdown_relative',\n",
       "       'market/marketcap_usd', 'mining/difficulty_latest',\n",
       "       'mining/hash_rate_mean', 'supply/current', 'transactions/count',\n",
       "       'transactions/rate', 'transactions/size_sum', 'transactions/size_mean',\n",
       "       'transactions/transfers_volume_sum',\n",
       "       'transactions/transfers_volume_mean',\n",
       "       'transactions/transfers_volume_median', 'blockchain/utxo_created_count',\n",
       "       'blockchain/utxo_spent_count', 'blockchain/utxo_count',\n",
       "       'blockchain/utxo_created_value_sum',\n",
       "       'blockchain/utxo_created_value_mean',\n",
       "       'blockchain/utxo_created_value_median',\n",
       "       'blockchain/utxo_spent_value_sum', 'blockchain/utxo_spent_value_mean',\n",
       "       'blockchain/utxo_spent_value_median', 'Closed Price USD',\n",
       "       'Daily Return in USD', 'Daily Return in Percent',\n",
       "       'Daily Log Return in Percent', '200movingaverage', 'mayer_multiple',\n",
       "       'addresses/new_non_zero_count_adiff', 'addresses/active_count_adiff',\n",
       "       'addresses/sending_count_adiff', 'addresses/receiving_count_adiff',\n",
       "       'addresses/count_adiff', 'blockchain/block_height_adiff',\n",
       "       'blockchain/block_count_adiff', 'blockchain/block_interval_mean_adiff',\n",
       "       'blockchain/block_interval_median_adiff',\n",
       "       'blockchain/block_size_sum_adiff', 'blockchain/block_size_mean_adiff',\n",
       "       'fees/volume_sum_adiff', 'fees/volume_mean_adiff',\n",
       "       'fees/volume_median_adiff', 'indicators/sopr_adiff',\n",
       "       'market/price_drawdown_relative_adiff', 'market/marketcap_usd_adiff',\n",
       "       'mining/difficulty_latest_adiff', 'mining/hash_rate_mean_adiff',\n",
       "       'supply/current_adiff', 'transactions/count_adiff',\n",
       "       'transactions/rate_adiff', 'transactions/size_sum_adiff',\n",
       "       'transactions/size_mean_adiff',\n",
       "       'transactions/transfers_volume_sum_adiff',\n",
       "       'transactions/transfers_volume_mean_adiff',\n",
       "       'transactions/transfers_volume_median_adiff',\n",
       "       'blockchain/utxo_created_count_adiff',\n",
       "       'blockchain/utxo_spent_count_adiff', 'blockchain/utxo_count_adiff',\n",
       "       'blockchain/utxo_created_value_sum_adiff',\n",
       "       'blockchain/utxo_created_value_mean_adiff',\n",
       "       'blockchain/utxo_created_value_median_adiff',\n",
       "       'blockchain/utxo_spent_value_sum_adiff',\n",
       "       'blockchain/utxo_spent_value_mean_adiff',\n",
       "       'blockchain/utxo_spent_value_median_adiff', 'Closed Price USD_adiff',\n",
       "       'Daily Return in USD_adiff', 'Daily Return in Percent_adiff',\n",
       "       'Daily Log Return in Percent_adiff', '200movingaverage_adiff',\n",
       "       'mayer_multiple_adiff', 'addresses/active_count_btc',\n",
       "       'Closed Price USD_btc', 'blockchain/block_count_btc',\n",
       "       'supply/current_btc', 'Daily Return in USD_btc',\n",
       "       'addresses/active_count_btc_cumsum', 'market/price_usd_close_btc_diff',\n",
       "       '200movingaverage_btc', 'mayer_multiple_btc',\n",
       "       'blockchain/block_count_btc_cumsum', 'halving', 'days_after_halving',\n",
       "       'Log Price in USD', 'Volatility Daily Log Return in Percent 5D'],\n",
       "      dtype='object')"
      ]
     },
     "execution_count": 40,
     "metadata": {},
     "output_type": "execute_result"
    }
   ],
   "source": [
    "df_dataset1.columns"
   ]
  },
  {
   "cell_type": "code",
   "execution_count": 41,
   "metadata": {
    "ExecuteTime": {
     "end_time": "2021-01-31T17:03:36.028431Z",
     "start_time": "2021-01-31T17:03:36.001333Z"
    },
    "scrolled": true
   },
   "outputs": [
    {
     "data": {
      "text/html": [
       "<div>\n",
       "<style scoped>\n",
       "    .dataframe tbody tr th:only-of-type {\n",
       "        vertical-align: middle;\n",
       "    }\n",
       "\n",
       "    .dataframe tbody tr th {\n",
       "        vertical-align: top;\n",
       "    }\n",
       "\n",
       "    .dataframe thead th {\n",
       "        text-align: right;\n",
       "    }\n",
       "</style>\n",
       "<table border=\"1\" class=\"dataframe\">\n",
       "  <thead>\n",
       "    <tr style=\"text-align: right;\">\n",
       "      <th></th>\n",
       "      <th>Daily Return in USD</th>\n",
       "      <th>Log Price in USD</th>\n",
       "      <th>Volatility Daily Log Return in Percent 5D</th>\n",
       "      <th>Closed Price USD</th>\n",
       "    </tr>\n",
       "    <tr>\n",
       "      <th>Date</th>\n",
       "      <th></th>\n",
       "      <th></th>\n",
       "      <th></th>\n",
       "      <th></th>\n",
       "    </tr>\n",
       "  </thead>\n",
       "  <tbody>\n",
       "    <tr>\n",
       "      <th>2021-01-31 15:00:00</th>\n",
       "      <td>NaN</td>\n",
       "      <td>10.401029</td>\n",
       "      <td>0</td>\n",
       "      <td>32893.460005</td>\n",
       "    </tr>\n",
       "    <tr>\n",
       "      <th>2021-01-31 14:00:00</th>\n",
       "      <td>506.008201</td>\n",
       "      <td>10.416295</td>\n",
       "      <td>0</td>\n",
       "      <td>33399.468206</td>\n",
       "    </tr>\n",
       "    <tr>\n",
       "      <th>2021-01-31 13:00:00</th>\n",
       "      <td>229.286977</td>\n",
       "      <td>10.423137</td>\n",
       "      <td>0</td>\n",
       "      <td>33628.755182</td>\n",
       "    </tr>\n",
       "    <tr>\n",
       "      <th>2021-01-31 12:00:00</th>\n",
       "      <td>331.527901</td>\n",
       "      <td>10.432947</td>\n",
       "      <td>0</td>\n",
       "      <td>33960.283083</td>\n",
       "    </tr>\n",
       "    <tr>\n",
       "      <th>2021-01-31 11:00:00</th>\n",
       "      <td>-368.836378</td>\n",
       "      <td>10.422027</td>\n",
       "      <td>0</td>\n",
       "      <td>33591.446705</td>\n",
       "    </tr>\n",
       "    <tr>\n",
       "      <th>...</th>\n",
       "      <td>...</td>\n",
       "      <td>...</td>\n",
       "      <td>...</td>\n",
       "      <td>...</td>\n",
       "    </tr>\n",
       "    <tr>\n",
       "      <th>2010-07-18 07:00:00</th>\n",
       "      <td>0.000000</td>\n",
       "      <td>-2.823293</td>\n",
       "      <td>0</td>\n",
       "      <td>0.059410</td>\n",
       "    </tr>\n",
       "    <tr>\n",
       "      <th>2010-07-18 06:00:00</th>\n",
       "      <td>0.000000</td>\n",
       "      <td>-2.823293</td>\n",
       "      <td>0</td>\n",
       "      <td>0.059410</td>\n",
       "    </tr>\n",
       "    <tr>\n",
       "      <th>2010-07-18 05:00:00</th>\n",
       "      <td>0.000000</td>\n",
       "      <td>-2.823293</td>\n",
       "      <td>0</td>\n",
       "      <td>0.059410</td>\n",
       "    </tr>\n",
       "    <tr>\n",
       "      <th>2010-07-18 04:00:00</th>\n",
       "      <td>0.000000</td>\n",
       "      <td>-2.823293</td>\n",
       "      <td>0</td>\n",
       "      <td>0.059410</td>\n",
       "    </tr>\n",
       "    <tr>\n",
       "      <th>2010-07-18 03:00:00</th>\n",
       "      <td>0.000000</td>\n",
       "      <td>-2.823293</td>\n",
       "      <td>0</td>\n",
       "      <td>0.059410</td>\n",
       "    </tr>\n",
       "  </tbody>\n",
       "</table>\n",
       "<p>91444 rows × 4 columns</p>\n",
       "</div>"
      ],
      "text/plain": [
       "                     Daily Return in USD  Log Price in USD  \\\n",
       "Date                                                         \n",
       "2021-01-31 15:00:00                  NaN         10.401029   \n",
       "2021-01-31 14:00:00           506.008201         10.416295   \n",
       "2021-01-31 13:00:00           229.286977         10.423137   \n",
       "2021-01-31 12:00:00           331.527901         10.432947   \n",
       "2021-01-31 11:00:00          -368.836378         10.422027   \n",
       "...                                  ...               ...   \n",
       "2010-07-18 07:00:00             0.000000         -2.823293   \n",
       "2010-07-18 06:00:00             0.000000         -2.823293   \n",
       "2010-07-18 05:00:00             0.000000         -2.823293   \n",
       "2010-07-18 04:00:00             0.000000         -2.823293   \n",
       "2010-07-18 03:00:00             0.000000         -2.823293   \n",
       "\n",
       "                     Volatility Daily Log Return in Percent 5D  \\\n",
       "Date                                                             \n",
       "2021-01-31 15:00:00                                          0   \n",
       "2021-01-31 14:00:00                                          0   \n",
       "2021-01-31 13:00:00                                          0   \n",
       "2021-01-31 12:00:00                                          0   \n",
       "2021-01-31 11:00:00                                          0   \n",
       "...                                                        ...   \n",
       "2010-07-18 07:00:00                                          0   \n",
       "2010-07-18 06:00:00                                          0   \n",
       "2010-07-18 05:00:00                                          0   \n",
       "2010-07-18 04:00:00                                          0   \n",
       "2010-07-18 03:00:00                                          0   \n",
       "\n",
       "                     Closed Price USD  \n",
       "Date                                   \n",
       "2021-01-31 15:00:00      32893.460005  \n",
       "2021-01-31 14:00:00      33399.468206  \n",
       "2021-01-31 13:00:00      33628.755182  \n",
       "2021-01-31 12:00:00      33960.283083  \n",
       "2021-01-31 11:00:00      33591.446705  \n",
       "...                               ...  \n",
       "2010-07-18 07:00:00          0.059410  \n",
       "2010-07-18 06:00:00          0.059410  \n",
       "2010-07-18 05:00:00          0.059410  \n",
       "2010-07-18 04:00:00          0.059410  \n",
       "2010-07-18 03:00:00          0.059410  \n",
       "\n",
       "[91444 rows x 4 columns]"
      ]
     },
     "execution_count": 41,
     "metadata": {},
     "output_type": "execute_result"
    }
   ],
   "source": [
    "df_dataset1[['Daily Return in USD', 'Log Price in USD',\n",
    "       'Volatility Daily Log Return in Percent 5D', 'Closed Price USD']]"
   ]
  },
  {
   "cell_type": "code",
   "execution_count": 42,
   "metadata": {
    "ExecuteTime": {
     "end_time": "2021-01-31T17:03:36.153960Z",
     "start_time": "2021-01-31T17:03:36.133981Z"
    }
   },
   "outputs": [],
   "source": [
    "# Shift of Target Column by 1 Day\n",
    "df_dataset1['Daily Return in USD_ohneshift'] = df_dataset1['Daily Return in USD'] \n",
    "df_dataset1[\"percentage_daily_return_bef_shift\"] = df_dataset1[\"Daily Return in USD_ohneshift\"]/df_dataset1[\"Closed Price USD\"]"
   ]
  },
  {
   "cell_type": "code",
   "execution_count": 43,
   "metadata": {
    "ExecuteTime": {
     "end_time": "2021-01-31T17:03:36.278629Z",
     "start_time": "2021-01-31T17:03:36.254659Z"
    }
   },
   "outputs": [],
   "source": [
    "df_dataset1 = df_dataset1.sort_index(ascending = False)"
   ]
  },
  {
   "cell_type": "code",
   "execution_count": 44,
   "metadata": {
    "ExecuteTime": {
     "end_time": "2021-01-31T17:03:36.384313Z",
     "start_time": "2021-01-31T17:03:36.377334Z"
    }
   },
   "outputs": [],
   "source": [
    "df_dataset1['Daily Return in USD'] = df_dataset1['Daily Return in USD'].shift(1)\n"
   ]
  },
  {
   "cell_type": "code",
   "execution_count": 45,
   "metadata": {
    "ExecuteTime": {
     "end_time": "2021-01-31T17:03:37.108538Z",
     "start_time": "2021-01-31T17:03:37.074480Z"
    }
   },
   "outputs": [
    {
     "data": {
      "text/html": [
       "<div>\n",
       "<style scoped>\n",
       "    .dataframe tbody tr th:only-of-type {\n",
       "        vertical-align: middle;\n",
       "    }\n",
       "\n",
       "    .dataframe tbody tr th {\n",
       "        vertical-align: top;\n",
       "    }\n",
       "\n",
       "    .dataframe thead th {\n",
       "        text-align: right;\n",
       "    }\n",
       "</style>\n",
       "<table border=\"1\" class=\"dataframe\">\n",
       "  <thead>\n",
       "    <tr style=\"text-align: right;\">\n",
       "      <th></th>\n",
       "      <th>Daily Return in USD</th>\n",
       "      <th>addresses/active_count</th>\n",
       "      <th>Log Price in USD</th>\n",
       "      <th>Volatility Daily Log Return in Percent 5D</th>\n",
       "      <th>Closed Price USD</th>\n",
       "    </tr>\n",
       "    <tr>\n",
       "      <th>Date</th>\n",
       "      <th></th>\n",
       "      <th></th>\n",
       "      <th></th>\n",
       "      <th></th>\n",
       "      <th></th>\n",
       "    </tr>\n",
       "  </thead>\n",
       "  <tbody>\n",
       "    <tr>\n",
       "      <th>2021-01-31 15:00:00</th>\n",
       "      <td>NaN</td>\n",
       "      <td>32218.0</td>\n",
       "      <td>10.401029</td>\n",
       "      <td>0</td>\n",
       "      <td>32893.460005</td>\n",
       "    </tr>\n",
       "    <tr>\n",
       "      <th>2021-01-31 14:00:00</th>\n",
       "      <td>NaN</td>\n",
       "      <td>77148.0</td>\n",
       "      <td>10.416295</td>\n",
       "      <td>0</td>\n",
       "      <td>33399.468206</td>\n",
       "    </tr>\n",
       "    <tr>\n",
       "      <th>2021-01-31 13:00:00</th>\n",
       "      <td>506.008201</td>\n",
       "      <td>27620.0</td>\n",
       "      <td>10.423137</td>\n",
       "      <td>0</td>\n",
       "      <td>33628.755182</td>\n",
       "    </tr>\n",
       "    <tr>\n",
       "      <th>2021-01-31 12:00:00</th>\n",
       "      <td>229.286977</td>\n",
       "      <td>64826.0</td>\n",
       "      <td>10.432947</td>\n",
       "      <td>0</td>\n",
       "      <td>33960.283083</td>\n",
       "    </tr>\n",
       "    <tr>\n",
       "      <th>2021-01-31 11:00:00</th>\n",
       "      <td>331.527901</td>\n",
       "      <td>62207.0</td>\n",
       "      <td>10.422027</td>\n",
       "      <td>0</td>\n",
       "      <td>33591.446705</td>\n",
       "    </tr>\n",
       "    <tr>\n",
       "      <th>...</th>\n",
       "      <td>...</td>\n",
       "      <td>...</td>\n",
       "      <td>...</td>\n",
       "      <td>...</td>\n",
       "      <td>...</td>\n",
       "    </tr>\n",
       "    <tr>\n",
       "      <th>2010-07-18 07:00:00</th>\n",
       "      <td>0.000000</td>\n",
       "      <td>20.0</td>\n",
       "      <td>-2.823293</td>\n",
       "      <td>0</td>\n",
       "      <td>0.059410</td>\n",
       "    </tr>\n",
       "    <tr>\n",
       "      <th>2010-07-18 06:00:00</th>\n",
       "      <td>0.000000</td>\n",
       "      <td>16.0</td>\n",
       "      <td>-2.823293</td>\n",
       "      <td>0</td>\n",
       "      <td>0.059410</td>\n",
       "    </tr>\n",
       "    <tr>\n",
       "      <th>2010-07-18 05:00:00</th>\n",
       "      <td>0.000000</td>\n",
       "      <td>23.0</td>\n",
       "      <td>-2.823293</td>\n",
       "      <td>0</td>\n",
       "      <td>0.059410</td>\n",
       "    </tr>\n",
       "    <tr>\n",
       "      <th>2010-07-18 04:00:00</th>\n",
       "      <td>0.000000</td>\n",
       "      <td>20.0</td>\n",
       "      <td>-2.823293</td>\n",
       "      <td>0</td>\n",
       "      <td>0.059410</td>\n",
       "    </tr>\n",
       "    <tr>\n",
       "      <th>2010-07-18 03:00:00</th>\n",
       "      <td>0.000000</td>\n",
       "      <td>15.0</td>\n",
       "      <td>-2.823293</td>\n",
       "      <td>0</td>\n",
       "      <td>0.059410</td>\n",
       "    </tr>\n",
       "  </tbody>\n",
       "</table>\n",
       "<p>91444 rows × 5 columns</p>\n",
       "</div>"
      ],
      "text/plain": [
       "                     Daily Return in USD  addresses/active_count  \\\n",
       "Date                                                               \n",
       "2021-01-31 15:00:00                  NaN                 32218.0   \n",
       "2021-01-31 14:00:00                  NaN                 77148.0   \n",
       "2021-01-31 13:00:00           506.008201                 27620.0   \n",
       "2021-01-31 12:00:00           229.286977                 64826.0   \n",
       "2021-01-31 11:00:00           331.527901                 62207.0   \n",
       "...                                  ...                     ...   \n",
       "2010-07-18 07:00:00             0.000000                    20.0   \n",
       "2010-07-18 06:00:00             0.000000                    16.0   \n",
       "2010-07-18 05:00:00             0.000000                    23.0   \n",
       "2010-07-18 04:00:00             0.000000                    20.0   \n",
       "2010-07-18 03:00:00             0.000000                    15.0   \n",
       "\n",
       "                     Log Price in USD  \\\n",
       "Date                                    \n",
       "2021-01-31 15:00:00         10.401029   \n",
       "2021-01-31 14:00:00         10.416295   \n",
       "2021-01-31 13:00:00         10.423137   \n",
       "2021-01-31 12:00:00         10.432947   \n",
       "2021-01-31 11:00:00         10.422027   \n",
       "...                               ...   \n",
       "2010-07-18 07:00:00         -2.823293   \n",
       "2010-07-18 06:00:00         -2.823293   \n",
       "2010-07-18 05:00:00         -2.823293   \n",
       "2010-07-18 04:00:00         -2.823293   \n",
       "2010-07-18 03:00:00         -2.823293   \n",
       "\n",
       "                     Volatility Daily Log Return in Percent 5D  \\\n",
       "Date                                                             \n",
       "2021-01-31 15:00:00                                          0   \n",
       "2021-01-31 14:00:00                                          0   \n",
       "2021-01-31 13:00:00                                          0   \n",
       "2021-01-31 12:00:00                                          0   \n",
       "2021-01-31 11:00:00                                          0   \n",
       "...                                                        ...   \n",
       "2010-07-18 07:00:00                                          0   \n",
       "2010-07-18 06:00:00                                          0   \n",
       "2010-07-18 05:00:00                                          0   \n",
       "2010-07-18 04:00:00                                          0   \n",
       "2010-07-18 03:00:00                                          0   \n",
       "\n",
       "                     Closed Price USD  \n",
       "Date                                   \n",
       "2021-01-31 15:00:00      32893.460005  \n",
       "2021-01-31 14:00:00      33399.468206  \n",
       "2021-01-31 13:00:00      33628.755182  \n",
       "2021-01-31 12:00:00      33960.283083  \n",
       "2021-01-31 11:00:00      33591.446705  \n",
       "...                               ...  \n",
       "2010-07-18 07:00:00          0.059410  \n",
       "2010-07-18 06:00:00          0.059410  \n",
       "2010-07-18 05:00:00          0.059410  \n",
       "2010-07-18 04:00:00          0.059410  \n",
       "2010-07-18 03:00:00          0.059410  \n",
       "\n",
       "[91444 rows x 5 columns]"
      ]
     },
     "execution_count": 45,
     "metadata": {},
     "output_type": "execute_result"
    }
   ],
   "source": [
    "df_dataset1[['Daily Return in USD', 'addresses/active_count', 'Log Price in USD',\n",
    "       'Volatility Daily Log Return in Percent 5D', 'Closed Price USD']]"
   ]
  },
  {
   "cell_type": "code",
   "execution_count": 46,
   "metadata": {
    "ExecuteTime": {
     "end_time": "2021-01-31T17:03:37.250207Z",
     "start_time": "2021-01-31T17:03:37.240041Z"
    }
   },
   "outputs": [],
   "source": [
    "df_dataset1['Closed Price USD_cummax']=df_dataset1['Closed Price USD'].cummax()\n",
    "df_dataset1['price_usd_close_percent_of_maxtilnow'] = df_dataset1['Closed Price USD']/df_dataset1['Closed Price USD_cummax']"
   ]
  },
  {
   "cell_type": "code",
   "execution_count": null,
   "metadata": {},
   "outputs": [],
   "source": []
  },
  {
   "cell_type": "code",
   "execution_count": 47,
   "metadata": {
    "ExecuteTime": {
     "end_time": "2021-01-31T17:03:37.593892Z",
     "start_time": "2021-01-31T17:03:37.563795Z"
    }
   },
   "outputs": [
    {
     "data": {
      "text/html": [
       "<div>\n",
       "<style scoped>\n",
       "    .dataframe tbody tr th:only-of-type {\n",
       "        vertical-align: middle;\n",
       "    }\n",
       "\n",
       "    .dataframe tbody tr th {\n",
       "        vertical-align: top;\n",
       "    }\n",
       "\n",
       "    .dataframe thead th {\n",
       "        text-align: right;\n",
       "    }\n",
       "</style>\n",
       "<table border=\"1\" class=\"dataframe\">\n",
       "  <thead>\n",
       "    <tr style=\"text-align: right;\">\n",
       "      <th></th>\n",
       "      <th>Log Price in USD</th>\n",
       "      <th>Volatility Daily Log Return in Percent 5D</th>\n",
       "      <th>Closed Price USD</th>\n",
       "      <th>percentage_daily_return_bef_shift</th>\n",
       "    </tr>\n",
       "    <tr>\n",
       "      <th>Date</th>\n",
       "      <th></th>\n",
       "      <th></th>\n",
       "      <th></th>\n",
       "      <th></th>\n",
       "    </tr>\n",
       "  </thead>\n",
       "  <tbody>\n",
       "    <tr>\n",
       "      <th>2010-07-18 07:00:00</th>\n",
       "      <td>-2.823293</td>\n",
       "      <td>0</td>\n",
       "      <td>0.05941</td>\n",
       "      <td>0.0</td>\n",
       "    </tr>\n",
       "    <tr>\n",
       "      <th>2010-07-18 06:00:00</th>\n",
       "      <td>-2.823293</td>\n",
       "      <td>0</td>\n",
       "      <td>0.05941</td>\n",
       "      <td>0.0</td>\n",
       "    </tr>\n",
       "    <tr>\n",
       "      <th>2010-07-18 05:00:00</th>\n",
       "      <td>-2.823293</td>\n",
       "      <td>0</td>\n",
       "      <td>0.05941</td>\n",
       "      <td>0.0</td>\n",
       "    </tr>\n",
       "    <tr>\n",
       "      <th>2010-07-18 04:00:00</th>\n",
       "      <td>-2.823293</td>\n",
       "      <td>0</td>\n",
       "      <td>0.05941</td>\n",
       "      <td>0.0</td>\n",
       "    </tr>\n",
       "    <tr>\n",
       "      <th>2010-07-18 03:00:00</th>\n",
       "      <td>-2.823293</td>\n",
       "      <td>0</td>\n",
       "      <td>0.05941</td>\n",
       "      <td>0.0</td>\n",
       "    </tr>\n",
       "  </tbody>\n",
       "</table>\n",
       "</div>"
      ],
      "text/plain": [
       "                     Log Price in USD  \\\n",
       "Date                                    \n",
       "2010-07-18 07:00:00         -2.823293   \n",
       "2010-07-18 06:00:00         -2.823293   \n",
       "2010-07-18 05:00:00         -2.823293   \n",
       "2010-07-18 04:00:00         -2.823293   \n",
       "2010-07-18 03:00:00         -2.823293   \n",
       "\n",
       "                     Volatility Daily Log Return in Percent 5D  \\\n",
       "Date                                                             \n",
       "2010-07-18 07:00:00                                          0   \n",
       "2010-07-18 06:00:00                                          0   \n",
       "2010-07-18 05:00:00                                          0   \n",
       "2010-07-18 04:00:00                                          0   \n",
       "2010-07-18 03:00:00                                          0   \n",
       "\n",
       "                     Closed Price USD  percentage_daily_return_bef_shift  \n",
       "Date                                                                      \n",
       "2010-07-18 07:00:00           0.05941                                0.0  \n",
       "2010-07-18 06:00:00           0.05941                                0.0  \n",
       "2010-07-18 05:00:00           0.05941                                0.0  \n",
       "2010-07-18 04:00:00           0.05941                                0.0  \n",
       "2010-07-18 03:00:00           0.05941                                0.0  "
      ]
     },
     "execution_count": 47,
     "metadata": {},
     "output_type": "execute_result"
    }
   ],
   "source": [
    "# Check Shift\n",
    "df_dataset1[[ 'Log Price in USD',\n",
    "       'Volatility Daily Log Return in Percent 5D', 'Closed Price USD',\"percentage_daily_return_bef_shift\"]].tail()"
   ]
  },
  {
   "cell_type": "code",
   "execution_count": 48,
   "metadata": {
    "ExecuteTime": {
     "end_time": "2021-01-31T17:03:38.333941Z",
     "start_time": "2021-01-31T17:03:38.296373Z"
    }
   },
   "outputs": [],
   "source": [
    "df_dataset1=df_dataset1.drop('Volatility Daily Log Return in Percent 5D', axis=1)"
   ]
  },
  {
   "cell_type": "code",
   "execution_count": 49,
   "metadata": {
    "ExecuteTime": {
     "end_time": "2021-01-31T17:03:38.441512Z",
     "start_time": "2021-01-31T17:03:38.421532Z"
    }
   },
   "outputs": [
    {
     "data": {
      "text/plain": [
       "addresses/new_non_zero_count            0\n",
       "addresses/active_count                  0\n",
       "addresses/sending_count                 0\n",
       "addresses/receiving_count               0\n",
       "addresses/count                         0\n",
       "                                       ..\n",
       "Log Price in USD                        0\n",
       "Daily Return in USD_ohneshift           1\n",
       "percentage_daily_return_bef_shift       1\n",
       "Closed Price USD_cummax                 0\n",
       "price_usd_close_percent_of_maxtilnow    0\n",
       "Length: 101, dtype: int64"
      ]
     },
     "execution_count": 49,
     "metadata": {},
     "output_type": "execute_result"
    }
   ],
   "source": [
    "# Check Empty Cells\n",
    "df_dataset1.isnull().sum()"
   ]
  },
  {
   "cell_type": "code",
   "execution_count": 50,
   "metadata": {
    "ExecuteTime": {
     "end_time": "2021-01-31T17:03:38.583217Z",
     "start_time": "2021-01-31T17:03:38.546205Z"
    }
   },
   "outputs": [
    {
     "data": {
      "text/html": [
       "<div>\n",
       "<style scoped>\n",
       "    .dataframe tbody tr th:only-of-type {\n",
       "        vertical-align: middle;\n",
       "    }\n",
       "\n",
       "    .dataframe tbody tr th {\n",
       "        vertical-align: top;\n",
       "    }\n",
       "\n",
       "    .dataframe thead th {\n",
       "        text-align: right;\n",
       "    }\n",
       "</style>\n",
       "<table border=\"1\" class=\"dataframe\">\n",
       "  <thead>\n",
       "    <tr style=\"text-align: right;\">\n",
       "      <th></th>\n",
       "      <th>addresses/new_non_zero_count</th>\n",
       "      <th>addresses/active_count</th>\n",
       "      <th>addresses/sending_count</th>\n",
       "      <th>addresses/receiving_count</th>\n",
       "      <th>addresses/count</th>\n",
       "      <th>blockchain/block_height</th>\n",
       "      <th>blockchain/block_count</th>\n",
       "      <th>blockchain/block_interval_mean</th>\n",
       "      <th>blockchain/block_interval_median</th>\n",
       "      <th>blockchain/block_size_sum</th>\n",
       "      <th>...</th>\n",
       "      <th>200movingaverage_btc</th>\n",
       "      <th>mayer_multiple_btc</th>\n",
       "      <th>blockchain/block_count_btc_cumsum</th>\n",
       "      <th>halving</th>\n",
       "      <th>days_after_halving</th>\n",
       "      <th>Log Price in USD</th>\n",
       "      <th>Daily Return in USD_ohneshift</th>\n",
       "      <th>percentage_daily_return_bef_shift</th>\n",
       "      <th>Closed Price USD_cummax</th>\n",
       "      <th>price_usd_close_percent_of_maxtilnow</th>\n",
       "    </tr>\n",
       "    <tr>\n",
       "      <th>Date</th>\n",
       "      <th></th>\n",
       "      <th></th>\n",
       "      <th></th>\n",
       "      <th></th>\n",
       "      <th></th>\n",
       "      <th></th>\n",
       "      <th></th>\n",
       "      <th></th>\n",
       "      <th></th>\n",
       "      <th></th>\n",
       "      <th></th>\n",
       "      <th></th>\n",
       "      <th></th>\n",
       "      <th></th>\n",
       "      <th></th>\n",
       "      <th></th>\n",
       "      <th></th>\n",
       "      <th></th>\n",
       "      <th></th>\n",
       "      <th></th>\n",
       "      <th></th>\n",
       "    </tr>\n",
       "  </thead>\n",
       "  <tbody>\n",
       "    <tr>\n",
       "      <th>2021-01-31 15:00:00</th>\n",
       "      <td>False</td>\n",
       "      <td>False</td>\n",
       "      <td>False</td>\n",
       "      <td>False</td>\n",
       "      <td>False</td>\n",
       "      <td>False</td>\n",
       "      <td>False</td>\n",
       "      <td>False</td>\n",
       "      <td>False</td>\n",
       "      <td>False</td>\n",
       "      <td>...</td>\n",
       "      <td>False</td>\n",
       "      <td>False</td>\n",
       "      <td>False</td>\n",
       "      <td>False</td>\n",
       "      <td>False</td>\n",
       "      <td>False</td>\n",
       "      <td>True</td>\n",
       "      <td>True</td>\n",
       "      <td>False</td>\n",
       "      <td>False</td>\n",
       "    </tr>\n",
       "    <tr>\n",
       "      <th>2021-01-31 14:00:00</th>\n",
       "      <td>False</td>\n",
       "      <td>False</td>\n",
       "      <td>False</td>\n",
       "      <td>False</td>\n",
       "      <td>False</td>\n",
       "      <td>False</td>\n",
       "      <td>False</td>\n",
       "      <td>False</td>\n",
       "      <td>False</td>\n",
       "      <td>False</td>\n",
       "      <td>...</td>\n",
       "      <td>False</td>\n",
       "      <td>False</td>\n",
       "      <td>False</td>\n",
       "      <td>False</td>\n",
       "      <td>False</td>\n",
       "      <td>False</td>\n",
       "      <td>False</td>\n",
       "      <td>False</td>\n",
       "      <td>False</td>\n",
       "      <td>False</td>\n",
       "    </tr>\n",
       "    <tr>\n",
       "      <th>2021-01-31 13:00:00</th>\n",
       "      <td>False</td>\n",
       "      <td>False</td>\n",
       "      <td>False</td>\n",
       "      <td>False</td>\n",
       "      <td>False</td>\n",
       "      <td>False</td>\n",
       "      <td>False</td>\n",
       "      <td>False</td>\n",
       "      <td>False</td>\n",
       "      <td>False</td>\n",
       "      <td>...</td>\n",
       "      <td>False</td>\n",
       "      <td>False</td>\n",
       "      <td>False</td>\n",
       "      <td>False</td>\n",
       "      <td>False</td>\n",
       "      <td>False</td>\n",
       "      <td>False</td>\n",
       "      <td>False</td>\n",
       "      <td>False</td>\n",
       "      <td>False</td>\n",
       "    </tr>\n",
       "    <tr>\n",
       "      <th>2021-01-31 12:00:00</th>\n",
       "      <td>False</td>\n",
       "      <td>False</td>\n",
       "      <td>False</td>\n",
       "      <td>False</td>\n",
       "      <td>False</td>\n",
       "      <td>False</td>\n",
       "      <td>False</td>\n",
       "      <td>False</td>\n",
       "      <td>False</td>\n",
       "      <td>False</td>\n",
       "      <td>...</td>\n",
       "      <td>False</td>\n",
       "      <td>False</td>\n",
       "      <td>False</td>\n",
       "      <td>False</td>\n",
       "      <td>False</td>\n",
       "      <td>False</td>\n",
       "      <td>False</td>\n",
       "      <td>False</td>\n",
       "      <td>False</td>\n",
       "      <td>False</td>\n",
       "    </tr>\n",
       "    <tr>\n",
       "      <th>2021-01-31 11:00:00</th>\n",
       "      <td>False</td>\n",
       "      <td>False</td>\n",
       "      <td>False</td>\n",
       "      <td>False</td>\n",
       "      <td>False</td>\n",
       "      <td>False</td>\n",
       "      <td>False</td>\n",
       "      <td>False</td>\n",
       "      <td>False</td>\n",
       "      <td>False</td>\n",
       "      <td>...</td>\n",
       "      <td>False</td>\n",
       "      <td>False</td>\n",
       "      <td>False</td>\n",
       "      <td>False</td>\n",
       "      <td>False</td>\n",
       "      <td>False</td>\n",
       "      <td>False</td>\n",
       "      <td>False</td>\n",
       "      <td>False</td>\n",
       "      <td>False</td>\n",
       "    </tr>\n",
       "    <tr>\n",
       "      <th>...</th>\n",
       "      <td>...</td>\n",
       "      <td>...</td>\n",
       "      <td>...</td>\n",
       "      <td>...</td>\n",
       "      <td>...</td>\n",
       "      <td>...</td>\n",
       "      <td>...</td>\n",
       "      <td>...</td>\n",
       "      <td>...</td>\n",
       "      <td>...</td>\n",
       "      <td>...</td>\n",
       "      <td>...</td>\n",
       "      <td>...</td>\n",
       "      <td>...</td>\n",
       "      <td>...</td>\n",
       "      <td>...</td>\n",
       "      <td>...</td>\n",
       "      <td>...</td>\n",
       "      <td>...</td>\n",
       "      <td>...</td>\n",
       "      <td>...</td>\n",
       "    </tr>\n",
       "    <tr>\n",
       "      <th>2010-07-18 07:00:00</th>\n",
       "      <td>False</td>\n",
       "      <td>False</td>\n",
       "      <td>False</td>\n",
       "      <td>False</td>\n",
       "      <td>False</td>\n",
       "      <td>False</td>\n",
       "      <td>False</td>\n",
       "      <td>False</td>\n",
       "      <td>False</td>\n",
       "      <td>False</td>\n",
       "      <td>...</td>\n",
       "      <td>True</td>\n",
       "      <td>True</td>\n",
       "      <td>False</td>\n",
       "      <td>False</td>\n",
       "      <td>False</td>\n",
       "      <td>False</td>\n",
       "      <td>False</td>\n",
       "      <td>False</td>\n",
       "      <td>False</td>\n",
       "      <td>False</td>\n",
       "    </tr>\n",
       "    <tr>\n",
       "      <th>2010-07-18 06:00:00</th>\n",
       "      <td>False</td>\n",
       "      <td>False</td>\n",
       "      <td>False</td>\n",
       "      <td>False</td>\n",
       "      <td>False</td>\n",
       "      <td>False</td>\n",
       "      <td>False</td>\n",
       "      <td>False</td>\n",
       "      <td>False</td>\n",
       "      <td>False</td>\n",
       "      <td>...</td>\n",
       "      <td>True</td>\n",
       "      <td>True</td>\n",
       "      <td>False</td>\n",
       "      <td>False</td>\n",
       "      <td>False</td>\n",
       "      <td>False</td>\n",
       "      <td>False</td>\n",
       "      <td>False</td>\n",
       "      <td>False</td>\n",
       "      <td>False</td>\n",
       "    </tr>\n",
       "    <tr>\n",
       "      <th>2010-07-18 05:00:00</th>\n",
       "      <td>False</td>\n",
       "      <td>False</td>\n",
       "      <td>False</td>\n",
       "      <td>False</td>\n",
       "      <td>False</td>\n",
       "      <td>False</td>\n",
       "      <td>False</td>\n",
       "      <td>False</td>\n",
       "      <td>False</td>\n",
       "      <td>False</td>\n",
       "      <td>...</td>\n",
       "      <td>True</td>\n",
       "      <td>True</td>\n",
       "      <td>False</td>\n",
       "      <td>False</td>\n",
       "      <td>False</td>\n",
       "      <td>False</td>\n",
       "      <td>False</td>\n",
       "      <td>False</td>\n",
       "      <td>False</td>\n",
       "      <td>False</td>\n",
       "    </tr>\n",
       "    <tr>\n",
       "      <th>2010-07-18 04:00:00</th>\n",
       "      <td>False</td>\n",
       "      <td>False</td>\n",
       "      <td>False</td>\n",
       "      <td>False</td>\n",
       "      <td>False</td>\n",
       "      <td>False</td>\n",
       "      <td>False</td>\n",
       "      <td>False</td>\n",
       "      <td>False</td>\n",
       "      <td>False</td>\n",
       "      <td>...</td>\n",
       "      <td>True</td>\n",
       "      <td>True</td>\n",
       "      <td>False</td>\n",
       "      <td>False</td>\n",
       "      <td>False</td>\n",
       "      <td>False</td>\n",
       "      <td>False</td>\n",
       "      <td>False</td>\n",
       "      <td>False</td>\n",
       "      <td>False</td>\n",
       "    </tr>\n",
       "    <tr>\n",
       "      <th>2010-07-18 03:00:00</th>\n",
       "      <td>False</td>\n",
       "      <td>False</td>\n",
       "      <td>False</td>\n",
       "      <td>False</td>\n",
       "      <td>False</td>\n",
       "      <td>False</td>\n",
       "      <td>False</td>\n",
       "      <td>False</td>\n",
       "      <td>False</td>\n",
       "      <td>False</td>\n",
       "      <td>...</td>\n",
       "      <td>True</td>\n",
       "      <td>True</td>\n",
       "      <td>False</td>\n",
       "      <td>False</td>\n",
       "      <td>False</td>\n",
       "      <td>False</td>\n",
       "      <td>False</td>\n",
       "      <td>False</td>\n",
       "      <td>False</td>\n",
       "      <td>False</td>\n",
       "    </tr>\n",
       "  </tbody>\n",
       "</table>\n",
       "<p>91444 rows × 101 columns</p>\n",
       "</div>"
      ],
      "text/plain": [
       "                     addresses/new_non_zero_count  addresses/active_count  \\\n",
       "Date                                                                        \n",
       "2021-01-31 15:00:00                         False                   False   \n",
       "2021-01-31 14:00:00                         False                   False   \n",
       "2021-01-31 13:00:00                         False                   False   \n",
       "2021-01-31 12:00:00                         False                   False   \n",
       "2021-01-31 11:00:00                         False                   False   \n",
       "...                                           ...                     ...   \n",
       "2010-07-18 07:00:00                         False                   False   \n",
       "2010-07-18 06:00:00                         False                   False   \n",
       "2010-07-18 05:00:00                         False                   False   \n",
       "2010-07-18 04:00:00                         False                   False   \n",
       "2010-07-18 03:00:00                         False                   False   \n",
       "\n",
       "                     addresses/sending_count  addresses/receiving_count  \\\n",
       "Date                                                                      \n",
       "2021-01-31 15:00:00                    False                      False   \n",
       "2021-01-31 14:00:00                    False                      False   \n",
       "2021-01-31 13:00:00                    False                      False   \n",
       "2021-01-31 12:00:00                    False                      False   \n",
       "2021-01-31 11:00:00                    False                      False   \n",
       "...                                      ...                        ...   \n",
       "2010-07-18 07:00:00                    False                      False   \n",
       "2010-07-18 06:00:00                    False                      False   \n",
       "2010-07-18 05:00:00                    False                      False   \n",
       "2010-07-18 04:00:00                    False                      False   \n",
       "2010-07-18 03:00:00                    False                      False   \n",
       "\n",
       "                     addresses/count  blockchain/block_height  \\\n",
       "Date                                                            \n",
       "2021-01-31 15:00:00            False                    False   \n",
       "2021-01-31 14:00:00            False                    False   \n",
       "2021-01-31 13:00:00            False                    False   \n",
       "2021-01-31 12:00:00            False                    False   \n",
       "2021-01-31 11:00:00            False                    False   \n",
       "...                              ...                      ...   \n",
       "2010-07-18 07:00:00            False                    False   \n",
       "2010-07-18 06:00:00            False                    False   \n",
       "2010-07-18 05:00:00            False                    False   \n",
       "2010-07-18 04:00:00            False                    False   \n",
       "2010-07-18 03:00:00            False                    False   \n",
       "\n",
       "                     blockchain/block_count  blockchain/block_interval_mean  \\\n",
       "Date                                                                          \n",
       "2021-01-31 15:00:00                   False                           False   \n",
       "2021-01-31 14:00:00                   False                           False   \n",
       "2021-01-31 13:00:00                   False                           False   \n",
       "2021-01-31 12:00:00                   False                           False   \n",
       "2021-01-31 11:00:00                   False                           False   \n",
       "...                                     ...                             ...   \n",
       "2010-07-18 07:00:00                   False                           False   \n",
       "2010-07-18 06:00:00                   False                           False   \n",
       "2010-07-18 05:00:00                   False                           False   \n",
       "2010-07-18 04:00:00                   False                           False   \n",
       "2010-07-18 03:00:00                   False                           False   \n",
       "\n",
       "                     blockchain/block_interval_median  \\\n",
       "Date                                                    \n",
       "2021-01-31 15:00:00                             False   \n",
       "2021-01-31 14:00:00                             False   \n",
       "2021-01-31 13:00:00                             False   \n",
       "2021-01-31 12:00:00                             False   \n",
       "2021-01-31 11:00:00                             False   \n",
       "...                                               ...   \n",
       "2010-07-18 07:00:00                             False   \n",
       "2010-07-18 06:00:00                             False   \n",
       "2010-07-18 05:00:00                             False   \n",
       "2010-07-18 04:00:00                             False   \n",
       "2010-07-18 03:00:00                             False   \n",
       "\n",
       "                     blockchain/block_size_sum  ...  200movingaverage_btc  \\\n",
       "Date                                            ...                         \n",
       "2021-01-31 15:00:00                      False  ...                 False   \n",
       "2021-01-31 14:00:00                      False  ...                 False   \n",
       "2021-01-31 13:00:00                      False  ...                 False   \n",
       "2021-01-31 12:00:00                      False  ...                 False   \n",
       "2021-01-31 11:00:00                      False  ...                 False   \n",
       "...                                        ...  ...                   ...   \n",
       "2010-07-18 07:00:00                      False  ...                  True   \n",
       "2010-07-18 06:00:00                      False  ...                  True   \n",
       "2010-07-18 05:00:00                      False  ...                  True   \n",
       "2010-07-18 04:00:00                      False  ...                  True   \n",
       "2010-07-18 03:00:00                      False  ...                  True   \n",
       "\n",
       "                     mayer_multiple_btc  blockchain/block_count_btc_cumsum  \\\n",
       "Date                                                                         \n",
       "2021-01-31 15:00:00               False                              False   \n",
       "2021-01-31 14:00:00               False                              False   \n",
       "2021-01-31 13:00:00               False                              False   \n",
       "2021-01-31 12:00:00               False                              False   \n",
       "2021-01-31 11:00:00               False                              False   \n",
       "...                                 ...                                ...   \n",
       "2010-07-18 07:00:00                True                              False   \n",
       "2010-07-18 06:00:00                True                              False   \n",
       "2010-07-18 05:00:00                True                              False   \n",
       "2010-07-18 04:00:00                True                              False   \n",
       "2010-07-18 03:00:00                True                              False   \n",
       "\n",
       "                     halving  days_after_halving  Log Price in USD  \\\n",
       "Date                                                                 \n",
       "2021-01-31 15:00:00    False               False             False   \n",
       "2021-01-31 14:00:00    False               False             False   \n",
       "2021-01-31 13:00:00    False               False             False   \n",
       "2021-01-31 12:00:00    False               False             False   \n",
       "2021-01-31 11:00:00    False               False             False   \n",
       "...                      ...                 ...               ...   \n",
       "2010-07-18 07:00:00    False               False             False   \n",
       "2010-07-18 06:00:00    False               False             False   \n",
       "2010-07-18 05:00:00    False               False             False   \n",
       "2010-07-18 04:00:00    False               False             False   \n",
       "2010-07-18 03:00:00    False               False             False   \n",
       "\n",
       "                     Daily Return in USD_ohneshift  \\\n",
       "Date                                                 \n",
       "2021-01-31 15:00:00                           True   \n",
       "2021-01-31 14:00:00                          False   \n",
       "2021-01-31 13:00:00                          False   \n",
       "2021-01-31 12:00:00                          False   \n",
       "2021-01-31 11:00:00                          False   \n",
       "...                                            ...   \n",
       "2010-07-18 07:00:00                          False   \n",
       "2010-07-18 06:00:00                          False   \n",
       "2010-07-18 05:00:00                          False   \n",
       "2010-07-18 04:00:00                          False   \n",
       "2010-07-18 03:00:00                          False   \n",
       "\n",
       "                     percentage_daily_return_bef_shift  \\\n",
       "Date                                                     \n",
       "2021-01-31 15:00:00                               True   \n",
       "2021-01-31 14:00:00                              False   \n",
       "2021-01-31 13:00:00                              False   \n",
       "2021-01-31 12:00:00                              False   \n",
       "2021-01-31 11:00:00                              False   \n",
       "...                                                ...   \n",
       "2010-07-18 07:00:00                              False   \n",
       "2010-07-18 06:00:00                              False   \n",
       "2010-07-18 05:00:00                              False   \n",
       "2010-07-18 04:00:00                              False   \n",
       "2010-07-18 03:00:00                              False   \n",
       "\n",
       "                     Closed Price USD_cummax  \\\n",
       "Date                                           \n",
       "2021-01-31 15:00:00                    False   \n",
       "2021-01-31 14:00:00                    False   \n",
       "2021-01-31 13:00:00                    False   \n",
       "2021-01-31 12:00:00                    False   \n",
       "2021-01-31 11:00:00                    False   \n",
       "...                                      ...   \n",
       "2010-07-18 07:00:00                    False   \n",
       "2010-07-18 06:00:00                    False   \n",
       "2010-07-18 05:00:00                    False   \n",
       "2010-07-18 04:00:00                    False   \n",
       "2010-07-18 03:00:00                    False   \n",
       "\n",
       "                     price_usd_close_percent_of_maxtilnow  \n",
       "Date                                                       \n",
       "2021-01-31 15:00:00                                 False  \n",
       "2021-01-31 14:00:00                                 False  \n",
       "2021-01-31 13:00:00                                 False  \n",
       "2021-01-31 12:00:00                                 False  \n",
       "2021-01-31 11:00:00                                 False  \n",
       "...                                                   ...  \n",
       "2010-07-18 07:00:00                                 False  \n",
       "2010-07-18 06:00:00                                 False  \n",
       "2010-07-18 05:00:00                                 False  \n",
       "2010-07-18 04:00:00                                 False  \n",
       "2010-07-18 03:00:00                                 False  \n",
       "\n",
       "[91444 rows x 101 columns]"
      ]
     },
     "execution_count": 50,
     "metadata": {},
     "output_type": "execute_result"
    }
   ],
   "source": [
    "# daily return: von gestern auf heute die preisveränderung deswegen shift später\n",
    "df_dataset1.isnull()"
   ]
  },
  {
   "cell_type": "code",
   "execution_count": 51,
   "metadata": {
    "ExecuteTime": {
     "end_time": "2021-01-31T17:03:38.722924Z",
     "start_time": "2021-01-31T17:03:38.680871Z"
    }
   },
   "outputs": [],
   "source": [
    "# Delete Empty Row\n",
    "predict_change_for24h = df_dataset1.head(1)\n",
    "df_dataset1 = df_dataset1.dropna()"
   ]
  },
  {
   "cell_type": "code",
   "execution_count": 52,
   "metadata": {
    "ExecuteTime": {
     "end_time": "2021-01-31T17:03:38.832472Z",
     "start_time": "2021-01-31T17:03:38.815484Z"
    }
   },
   "outputs": [
    {
     "data": {
      "text/plain": [
       "addresses/new_non_zero_count            0\n",
       "addresses/active_count                  0\n",
       "addresses/sending_count                 0\n",
       "addresses/receiving_count               0\n",
       "addresses/count                         0\n",
       "                                       ..\n",
       "Log Price in USD                        0\n",
       "Daily Return in USD_ohneshift           0\n",
       "percentage_daily_return_bef_shift       0\n",
       "Closed Price USD_cummax                 0\n",
       "price_usd_close_percent_of_maxtilnow    0\n",
       "Length: 101, dtype: int64"
      ]
     },
     "execution_count": 52,
     "metadata": {},
     "output_type": "execute_result"
    }
   ],
   "source": [
    "# Re-Check Empty Cells\n",
    "df_dataset1.isnull().sum()"
   ]
  },
  {
   "cell_type": "markdown",
   "metadata": {},
   "source": [
    "# get yearly btc dollar increase for traditional investment"
   ]
  },
  {
   "cell_type": "code",
   "execution_count": 53,
   "metadata": {
    "ExecuteTime": {
     "end_time": "2021-01-31T17:03:39.634308Z",
     "start_time": "2021-01-31T17:03:39.616385Z"
    }
   },
   "outputs": [
    {
     "name": "stdout",
     "output_type": "stream",
     "text": [
      "year 2017\n",
      "13.953368201345004\n",
      "year 2018\n",
      "0.2784448571905228\n",
      "year 2019\n",
      "1.873887912521495\n",
      "year 2020\n",
      "3.233422930183335\n"
     ]
    }
   ],
   "source": [
    "print(\"year 2017\")\n",
    "print(df_dataset1.loc[\"2017-12-31\"][\"Closed Price USD\"][0] / df_dataset1.loc[\"2017-01-01\"][\"Closed Price USD\"][0])\n",
    "print(\"year 2018\")\n",
    "print(df_dataset1.loc[\"2018-12-31\"][\"Closed Price USD\"][0] / df_dataset1.loc[\"2018-01-01\"][\"Closed Price USD\"][0])\n",
    "print(\"year 2019\")\n",
    "print(df_dataset1.loc[\"2019-12-31\"][\"Closed Price USD\"][0] / df_dataset1.loc[\"2019-01-01\"][\"Closed Price USD\"][0])\n",
    "print(\"year 2020\")\n",
    "print(df_dataset1.loc[\"2020-12-23\"][\"Closed Price USD\"][0] / df_dataset1.loc[\"2020-01-01\"][\"Closed Price USD\"][0])"
   ]
  },
  {
   "cell_type": "markdown",
   "metadata": {},
   "source": [
    "# Classification Setup"
   ]
  },
  {
   "cell_type": "markdown",
   "metadata": {},
   "source": [
    "## Create Data Set Copies for Trading Strategy"
   ]
  },
  {
   "cell_type": "code",
   "execution_count": 54,
   "metadata": {
    "ExecuteTime": {
     "end_time": "2021-01-31T17:03:40.232880Z",
     "start_time": "2021-01-31T17:03:40.200891Z"
    },
    "scrolled": true
   },
   "outputs": [
    {
     "data": {
      "text/html": [
       "<div>\n",
       "<style scoped>\n",
       "    .dataframe tbody tr th:only-of-type {\n",
       "        vertical-align: middle;\n",
       "    }\n",
       "\n",
       "    .dataframe tbody tr th {\n",
       "        vertical-align: top;\n",
       "    }\n",
       "\n",
       "    .dataframe thead th {\n",
       "        text-align: right;\n",
       "    }\n",
       "</style>\n",
       "<table border=\"1\" class=\"dataframe\">\n",
       "  <thead>\n",
       "    <tr style=\"text-align: right;\">\n",
       "      <th></th>\n",
       "      <th>Closed Price USD</th>\n",
       "      <th>Daily Return in USD</th>\n",
       "      <th>Daily Return in Percent</th>\n",
       "      <th>Daily Log Return in Percent</th>\n",
       "      <th>Log Price in USD</th>\n",
       "      <th>Daily Return in USD_ohneshift</th>\n",
       "      <th>percentage_daily_return_bef_shift</th>\n",
       "      <th>Closed Price USD_cummax</th>\n",
       "      <th>price_usd_close_percent_of_maxtilnow</th>\n",
       "    </tr>\n",
       "    <tr>\n",
       "      <th>Date</th>\n",
       "      <th></th>\n",
       "      <th></th>\n",
       "      <th></th>\n",
       "      <th></th>\n",
       "      <th></th>\n",
       "      <th></th>\n",
       "      <th></th>\n",
       "      <th></th>\n",
       "      <th></th>\n",
       "    </tr>\n",
       "  </thead>\n",
       "  <tbody>\n",
       "    <tr>\n",
       "      <th>2021-01-31 13:00:00</th>\n",
       "      <td>33628.755182</td>\n",
       "      <td>506.008201</td>\n",
       "      <td>-0.976222</td>\n",
       "      <td>-0.981019</td>\n",
       "      <td>10.423137</td>\n",
       "      <td>229.286977</td>\n",
       "      <td>0.006818</td>\n",
       "      <td>33628.755182</td>\n",
       "      <td>1.000000</td>\n",
       "    </tr>\n",
       "    <tr>\n",
       "      <th>2021-01-31 12:00:00</th>\n",
       "      <td>33960.283083</td>\n",
       "      <td>229.286977</td>\n",
       "      <td>1.098007</td>\n",
       "      <td>1.092022</td>\n",
       "      <td>10.432947</td>\n",
       "      <td>331.527901</td>\n",
       "      <td>0.009762</td>\n",
       "      <td>33960.283083</td>\n",
       "      <td>1.000000</td>\n",
       "    </tr>\n",
       "    <tr>\n",
       "      <th>2021-01-31 11:00:00</th>\n",
       "      <td>33591.446705</td>\n",
       "      <td>331.527901</td>\n",
       "      <td>-0.121683</td>\n",
       "      <td>-0.121757</td>\n",
       "      <td>10.422027</td>\n",
       "      <td>-368.836378</td>\n",
       "      <td>-0.010980</td>\n",
       "      <td>33960.283083</td>\n",
       "      <td>0.989139</td>\n",
       "    </tr>\n",
       "    <tr>\n",
       "      <th>2021-01-31 10:00:00</th>\n",
       "      <td>33632.371438</td>\n",
       "      <td>-368.836378</td>\n",
       "      <td>0.772875</td>\n",
       "      <td>0.769904</td>\n",
       "      <td>10.423244</td>\n",
       "      <td>40.924733</td>\n",
       "      <td>0.001217</td>\n",
       "      <td>33960.283083</td>\n",
       "      <td>0.990344</td>\n",
       "    </tr>\n",
       "    <tr>\n",
       "      <th>2021-01-31 09:00:00</th>\n",
       "      <td>33374.428708</td>\n",
       "      <td>40.924733</td>\n",
       "      <td>-0.485197</td>\n",
       "      <td>-0.486378</td>\n",
       "      <td>10.415545</td>\n",
       "      <td>-257.942730</td>\n",
       "      <td>-0.007729</td>\n",
       "      <td>33960.283083</td>\n",
       "      <td>0.982749</td>\n",
       "    </tr>\n",
       "    <tr>\n",
       "      <th>2021-01-31 08:00:00</th>\n",
       "      <td>33537.150098</td>\n",
       "      <td>-257.942730</td>\n",
       "      <td>-0.104497</td>\n",
       "      <td>-0.104551</td>\n",
       "      <td>10.420409</td>\n",
       "      <td>162.721390</td>\n",
       "      <td>0.004852</td>\n",
       "      <td>33960.283083</td>\n",
       "      <td>0.987540</td>\n",
       "    </tr>\n",
       "    <tr>\n",
       "      <th>2021-01-31 07:00:00</th>\n",
       "      <td>33572.231912</td>\n",
       "      <td>162.721390</td>\n",
       "      <td>-0.203481</td>\n",
       "      <td>-0.203689</td>\n",
       "      <td>10.421455</td>\n",
       "      <td>35.081814</td>\n",
       "      <td>0.001045</td>\n",
       "      <td>33960.283083</td>\n",
       "      <td>0.988573</td>\n",
       "    </tr>\n",
       "    <tr>\n",
       "      <th>2021-01-31 06:00:00</th>\n",
       "      <td>33640.684460</td>\n",
       "      <td>35.081814</td>\n",
       "      <td>-0.389685</td>\n",
       "      <td>-0.390446</td>\n",
       "      <td>10.423491</td>\n",
       "      <td>68.452548</td>\n",
       "      <td>0.002035</td>\n",
       "      <td>33960.283083</td>\n",
       "      <td>0.990589</td>\n",
       "    </tr>\n",
       "    <tr>\n",
       "      <th>2021-01-31 05:00:00</th>\n",
       "      <td>33772.289875</td>\n",
       "      <td>68.452548</td>\n",
       "      <td>-0.740292</td>\n",
       "      <td>-0.743045</td>\n",
       "      <td>10.427396</td>\n",
       "      <td>131.605415</td>\n",
       "      <td>0.003897</td>\n",
       "      <td>33960.283083</td>\n",
       "      <td>0.994464</td>\n",
       "    </tr>\n",
       "    <tr>\n",
       "      <th>2021-01-31 04:00:00</th>\n",
       "      <td>34024.167907</td>\n",
       "      <td>131.605415</td>\n",
       "      <td>0.350160</td>\n",
       "      <td>0.349549</td>\n",
       "      <td>10.434826</td>\n",
       "      <td>251.878032</td>\n",
       "      <td>0.007403</td>\n",
       "      <td>34024.167907</td>\n",
       "      <td>1.000000</td>\n",
       "    </tr>\n",
       "  </tbody>\n",
       "</table>\n",
       "</div>"
      ],
      "text/plain": [
       "                     Closed Price USD  Daily Return in USD  \\\n",
       "Date                                                         \n",
       "2021-01-31 13:00:00      33628.755182           506.008201   \n",
       "2021-01-31 12:00:00      33960.283083           229.286977   \n",
       "2021-01-31 11:00:00      33591.446705           331.527901   \n",
       "2021-01-31 10:00:00      33632.371438          -368.836378   \n",
       "2021-01-31 09:00:00      33374.428708            40.924733   \n",
       "2021-01-31 08:00:00      33537.150098          -257.942730   \n",
       "2021-01-31 07:00:00      33572.231912           162.721390   \n",
       "2021-01-31 06:00:00      33640.684460            35.081814   \n",
       "2021-01-31 05:00:00      33772.289875            68.452548   \n",
       "2021-01-31 04:00:00      34024.167907           131.605415   \n",
       "\n",
       "                     Daily Return in Percent  Daily Log Return in Percent  \\\n",
       "Date                                                                        \n",
       "2021-01-31 13:00:00                -0.976222                    -0.981019   \n",
       "2021-01-31 12:00:00                 1.098007                     1.092022   \n",
       "2021-01-31 11:00:00                -0.121683                    -0.121757   \n",
       "2021-01-31 10:00:00                 0.772875                     0.769904   \n",
       "2021-01-31 09:00:00                -0.485197                    -0.486378   \n",
       "2021-01-31 08:00:00                -0.104497                    -0.104551   \n",
       "2021-01-31 07:00:00                -0.203481                    -0.203689   \n",
       "2021-01-31 06:00:00                -0.389685                    -0.390446   \n",
       "2021-01-31 05:00:00                -0.740292                    -0.743045   \n",
       "2021-01-31 04:00:00                 0.350160                     0.349549   \n",
       "\n",
       "                     Log Price in USD  Daily Return in USD_ohneshift  \\\n",
       "Date                                                                   \n",
       "2021-01-31 13:00:00         10.423137                     229.286977   \n",
       "2021-01-31 12:00:00         10.432947                     331.527901   \n",
       "2021-01-31 11:00:00         10.422027                    -368.836378   \n",
       "2021-01-31 10:00:00         10.423244                      40.924733   \n",
       "2021-01-31 09:00:00         10.415545                    -257.942730   \n",
       "2021-01-31 08:00:00         10.420409                     162.721390   \n",
       "2021-01-31 07:00:00         10.421455                      35.081814   \n",
       "2021-01-31 06:00:00         10.423491                      68.452548   \n",
       "2021-01-31 05:00:00         10.427396                     131.605415   \n",
       "2021-01-31 04:00:00         10.434826                     251.878032   \n",
       "\n",
       "                     percentage_daily_return_bef_shift  \\\n",
       "Date                                                     \n",
       "2021-01-31 13:00:00                           0.006818   \n",
       "2021-01-31 12:00:00                           0.009762   \n",
       "2021-01-31 11:00:00                          -0.010980   \n",
       "2021-01-31 10:00:00                           0.001217   \n",
       "2021-01-31 09:00:00                          -0.007729   \n",
       "2021-01-31 08:00:00                           0.004852   \n",
       "2021-01-31 07:00:00                           0.001045   \n",
       "2021-01-31 06:00:00                           0.002035   \n",
       "2021-01-31 05:00:00                           0.003897   \n",
       "2021-01-31 04:00:00                           0.007403   \n",
       "\n",
       "                     Closed Price USD_cummax  \\\n",
       "Date                                           \n",
       "2021-01-31 13:00:00             33628.755182   \n",
       "2021-01-31 12:00:00             33960.283083   \n",
       "2021-01-31 11:00:00             33960.283083   \n",
       "2021-01-31 10:00:00             33960.283083   \n",
       "2021-01-31 09:00:00             33960.283083   \n",
       "2021-01-31 08:00:00             33960.283083   \n",
       "2021-01-31 07:00:00             33960.283083   \n",
       "2021-01-31 06:00:00             33960.283083   \n",
       "2021-01-31 05:00:00             33960.283083   \n",
       "2021-01-31 04:00:00             34024.167907   \n",
       "\n",
       "                     price_usd_close_percent_of_maxtilnow  \n",
       "Date                                                       \n",
       "2021-01-31 13:00:00                              1.000000  \n",
       "2021-01-31 12:00:00                              1.000000  \n",
       "2021-01-31 11:00:00                              0.989139  \n",
       "2021-01-31 10:00:00                              0.990344  \n",
       "2021-01-31 09:00:00                              0.982749  \n",
       "2021-01-31 08:00:00                              0.987540  \n",
       "2021-01-31 07:00:00                              0.988573  \n",
       "2021-01-31 06:00:00                              0.990589  \n",
       "2021-01-31 05:00:00                              0.994464  \n",
       "2021-01-31 04:00:00                              1.000000  "
      ]
     },
     "execution_count": 54,
     "metadata": {},
     "output_type": "execute_result"
    }
   ],
   "source": [
    "# Data Set Copy for Trading Extension\n",
    "df_dataset1_copy = df_dataset1.copy()\n",
    "df_dataset1_copy[['Closed Price USD',\n",
    "       'Daily Return in USD', 'Daily Return in Percent',\n",
    "       'Daily Log Return in Percent', 'Log Price in USD',\n",
    "       'Daily Return in USD_ohneshift', 'percentage_daily_return_bef_shift',\n",
    "       'Closed Price USD_cummax',\n",
    "       'price_usd_close_percent_of_maxtilnow']].head(10)"
   ]
  },
  {
   "cell_type": "code",
   "execution_count": 55,
   "metadata": {
    "ExecuteTime": {
     "end_time": "2021-01-31T17:03:40.563836Z",
     "start_time": "2021-01-31T17:03:40.551868Z"
    }
   },
   "outputs": [
    {
     "data": {
      "text/plain": [
       "Index(['addresses/new_non_zero_count', 'addresses/active_count',\n",
       "       'addresses/sending_count', 'addresses/receiving_count',\n",
       "       'addresses/count', 'blockchain/block_height', 'blockchain/block_count',\n",
       "       'blockchain/block_interval_mean', 'blockchain/block_interval_median',\n",
       "       'blockchain/block_size_sum',\n",
       "       ...\n",
       "       '200movingaverage_btc', 'mayer_multiple_btc',\n",
       "       'blockchain/block_count_btc_cumsum', 'halving', 'days_after_halving',\n",
       "       'Log Price in USD', 'Daily Return in USD_ohneshift',\n",
       "       'percentage_daily_return_bef_shift', 'Closed Price USD_cummax',\n",
       "       'price_usd_close_percent_of_maxtilnow'],\n",
       "      dtype='object', length=101)"
      ]
     },
     "execution_count": 55,
     "metadata": {},
     "output_type": "execute_result"
    }
   ],
   "source": [
    "df_dataset1_copy.columns"
   ]
  },
  {
   "cell_type": "markdown",
   "metadata": {},
   "source": [
    "## Categorization - Data Set I."
   ]
  },
  {
   "cell_type": "code",
   "execution_count": 56,
   "metadata": {
    "ExecuteTime": {
     "end_time": "2021-01-31T17:03:41.255151Z",
     "start_time": "2021-01-31T17:03:41.221091Z"
    }
   },
   "outputs": [],
   "source": [
    "# Categorization\n",
    "# Class 1 for all Returns >= 0 USD\n",
    "df_dataset1.loc[df_dataset1['Daily Return in USD'] >= 0, 'Class'] = 1\n",
    "# Class 0 for all Returns < 0 USD\n",
    "df_dataset1.loc[df_dataset1['Daily Return in USD'] < 0, 'Class'] = 0"
   ]
  },
  {
   "cell_type": "code",
   "execution_count": 57,
   "metadata": {
    "ExecuteTime": {
     "end_time": "2021-01-31T17:03:41.932200Z",
     "start_time": "2021-01-31T17:03:41.899320Z"
    }
   },
   "outputs": [
    {
     "data": {
      "text/html": [
       "<div>\n",
       "<style scoped>\n",
       "    .dataframe tbody tr th:only-of-type {\n",
       "        vertical-align: middle;\n",
       "    }\n",
       "\n",
       "    .dataframe tbody tr th {\n",
       "        vertical-align: top;\n",
       "    }\n",
       "\n",
       "    .dataframe thead th {\n",
       "        text-align: right;\n",
       "    }\n",
       "</style>\n",
       "<table border=\"1\" class=\"dataframe\">\n",
       "  <thead>\n",
       "    <tr style=\"text-align: right;\">\n",
       "      <th></th>\n",
       "      <th>addresses/new_non_zero_count</th>\n",
       "      <th>addresses/active_count</th>\n",
       "      <th>addresses/sending_count</th>\n",
       "      <th>addresses/receiving_count</th>\n",
       "      <th>addresses/count</th>\n",
       "      <th>blockchain/block_height</th>\n",
       "      <th>blockchain/block_count</th>\n",
       "      <th>blockchain/block_interval_mean</th>\n",
       "      <th>blockchain/block_interval_median</th>\n",
       "      <th>blockchain/block_size_sum</th>\n",
       "      <th>...</th>\n",
       "      <th>mayer_multiple_btc</th>\n",
       "      <th>blockchain/block_count_btc_cumsum</th>\n",
       "      <th>halving</th>\n",
       "      <th>days_after_halving</th>\n",
       "      <th>Log Price in USD</th>\n",
       "      <th>Daily Return in USD_ohneshift</th>\n",
       "      <th>percentage_daily_return_bef_shift</th>\n",
       "      <th>Closed Price USD_cummax</th>\n",
       "      <th>price_usd_close_percent_of_maxtilnow</th>\n",
       "      <th>Class</th>\n",
       "    </tr>\n",
       "    <tr>\n",
       "      <th>Date</th>\n",
       "      <th></th>\n",
       "      <th></th>\n",
       "      <th></th>\n",
       "      <th></th>\n",
       "      <th></th>\n",
       "      <th></th>\n",
       "      <th></th>\n",
       "      <th></th>\n",
       "      <th></th>\n",
       "      <th></th>\n",
       "      <th></th>\n",
       "      <th></th>\n",
       "      <th></th>\n",
       "      <th></th>\n",
       "      <th></th>\n",
       "      <th></th>\n",
       "      <th></th>\n",
       "      <th></th>\n",
       "      <th></th>\n",
       "      <th></th>\n",
       "      <th></th>\n",
       "    </tr>\n",
       "  </thead>\n",
       "  <tbody>\n",
       "    <tr>\n",
       "      <th>2021-01-31 13:00:00</th>\n",
       "      <td>9939.0</td>\n",
       "      <td>27620.0</td>\n",
       "      <td>13676.0</td>\n",
       "      <td>15865.0</td>\n",
       "      <td>776388155.0</td>\n",
       "      <td>668484.0</td>\n",
       "      <td>3.0</td>\n",
       "      <td>719.000</td>\n",
       "      <td>519.0</td>\n",
       "      <td>3968151.0</td>\n",
       "      <td>...</td>\n",
       "      <td>1.023868</td>\n",
       "      <td>734989.0</td>\n",
       "      <td>1</td>\n",
       "      <td>17082</td>\n",
       "      <td>10.423137</td>\n",
       "      <td>229.286977</td>\n",
       "      <td>0.006818</td>\n",
       "      <td>33628.755182</td>\n",
       "      <td>1.000000</td>\n",
       "      <td>1.0</td>\n",
       "    </tr>\n",
       "    <tr>\n",
       "      <th>2021-01-31 12:00:00</th>\n",
       "      <td>20527.0</td>\n",
       "      <td>64826.0</td>\n",
       "      <td>38106.0</td>\n",
       "      <td>32333.0</td>\n",
       "      <td>776378216.0</td>\n",
       "      <td>668481.0</td>\n",
       "      <td>8.0</td>\n",
       "      <td>429.875</td>\n",
       "      <td>304.0</td>\n",
       "      <td>9906250.0</td>\n",
       "      <td>...</td>\n",
       "      <td>1.034151</td>\n",
       "      <td>734986.0</td>\n",
       "      <td>1</td>\n",
       "      <td>17081</td>\n",
       "      <td>10.432947</td>\n",
       "      <td>331.527901</td>\n",
       "      <td>0.009762</td>\n",
       "      <td>33960.283083</td>\n",
       "      <td>1.000000</td>\n",
       "      <td>1.0</td>\n",
       "    </tr>\n",
       "    <tr>\n",
       "      <th>2021-01-31 11:00:00</th>\n",
       "      <td>21640.0</td>\n",
       "      <td>62207.0</td>\n",
       "      <td>34760.0</td>\n",
       "      <td>33263.0</td>\n",
       "      <td>776357689.0</td>\n",
       "      <td>668473.0</td>\n",
       "      <td>7.0</td>\n",
       "      <td>547.000</td>\n",
       "      <td>351.0</td>\n",
       "      <td>8965107.0</td>\n",
       "      <td>...</td>\n",
       "      <td>1.023169</td>\n",
       "      <td>734978.0</td>\n",
       "      <td>1</td>\n",
       "      <td>17080</td>\n",
       "      <td>10.422027</td>\n",
       "      <td>-368.836378</td>\n",
       "      <td>-0.010980</td>\n",
       "      <td>33960.283083</td>\n",
       "      <td>0.989139</td>\n",
       "      <td>1.0</td>\n",
       "    </tr>\n",
       "    <tr>\n",
       "      <th>2021-01-31 10:00:00</th>\n",
       "      <td>11219.0</td>\n",
       "      <td>36699.0</td>\n",
       "      <td>21366.0</td>\n",
       "      <td>18450.0</td>\n",
       "      <td>776336049.0</td>\n",
       "      <td>668466.0</td>\n",
       "      <td>4.0</td>\n",
       "      <td>810.250</td>\n",
       "      <td>628.0</td>\n",
       "      <td>5835286.0</td>\n",
       "      <td>...</td>\n",
       "      <td>1.024548</td>\n",
       "      <td>734971.0</td>\n",
       "      <td>1</td>\n",
       "      <td>17079</td>\n",
       "      <td>10.423244</td>\n",
       "      <td>40.924733</td>\n",
       "      <td>0.001217</td>\n",
       "      <td>33960.283083</td>\n",
       "      <td>0.990344</td>\n",
       "      <td>0.0</td>\n",
       "    </tr>\n",
       "    <tr>\n",
       "      <th>2021-01-31 09:00:00</th>\n",
       "      <td>15835.0</td>\n",
       "      <td>51025.0</td>\n",
       "      <td>29805.0</td>\n",
       "      <td>25844.0</td>\n",
       "      <td>776324830.0</td>\n",
       "      <td>668462.0</td>\n",
       "      <td>6.0</td>\n",
       "      <td>663.500</td>\n",
       "      <td>401.0</td>\n",
       "      <td>8666683.0</td>\n",
       "      <td>...</td>\n",
       "      <td>1.016829</td>\n",
       "      <td>734967.0</td>\n",
       "      <td>1</td>\n",
       "      <td>17078</td>\n",
       "      <td>10.415545</td>\n",
       "      <td>-257.942730</td>\n",
       "      <td>-0.007729</td>\n",
       "      <td>33960.283083</td>\n",
       "      <td>0.982749</td>\n",
       "      <td>1.0</td>\n",
       "    </tr>\n",
       "  </tbody>\n",
       "</table>\n",
       "<p>5 rows × 102 columns</p>\n",
       "</div>"
      ],
      "text/plain": [
       "                     addresses/new_non_zero_count  addresses/active_count  \\\n",
       "Date                                                                        \n",
       "2021-01-31 13:00:00                        9939.0                 27620.0   \n",
       "2021-01-31 12:00:00                       20527.0                 64826.0   \n",
       "2021-01-31 11:00:00                       21640.0                 62207.0   \n",
       "2021-01-31 10:00:00                       11219.0                 36699.0   \n",
       "2021-01-31 09:00:00                       15835.0                 51025.0   \n",
       "\n",
       "                     addresses/sending_count  addresses/receiving_count  \\\n",
       "Date                                                                      \n",
       "2021-01-31 13:00:00                  13676.0                    15865.0   \n",
       "2021-01-31 12:00:00                  38106.0                    32333.0   \n",
       "2021-01-31 11:00:00                  34760.0                    33263.0   \n",
       "2021-01-31 10:00:00                  21366.0                    18450.0   \n",
       "2021-01-31 09:00:00                  29805.0                    25844.0   \n",
       "\n",
       "                     addresses/count  blockchain/block_height  \\\n",
       "Date                                                            \n",
       "2021-01-31 13:00:00      776388155.0                 668484.0   \n",
       "2021-01-31 12:00:00      776378216.0                 668481.0   \n",
       "2021-01-31 11:00:00      776357689.0                 668473.0   \n",
       "2021-01-31 10:00:00      776336049.0                 668466.0   \n",
       "2021-01-31 09:00:00      776324830.0                 668462.0   \n",
       "\n",
       "                     blockchain/block_count  blockchain/block_interval_mean  \\\n",
       "Date                                                                          \n",
       "2021-01-31 13:00:00                     3.0                         719.000   \n",
       "2021-01-31 12:00:00                     8.0                         429.875   \n",
       "2021-01-31 11:00:00                     7.0                         547.000   \n",
       "2021-01-31 10:00:00                     4.0                         810.250   \n",
       "2021-01-31 09:00:00                     6.0                         663.500   \n",
       "\n",
       "                     blockchain/block_interval_median  \\\n",
       "Date                                                    \n",
       "2021-01-31 13:00:00                             519.0   \n",
       "2021-01-31 12:00:00                             304.0   \n",
       "2021-01-31 11:00:00                             351.0   \n",
       "2021-01-31 10:00:00                             628.0   \n",
       "2021-01-31 09:00:00                             401.0   \n",
       "\n",
       "                     blockchain/block_size_sum  ...  mayer_multiple_btc  \\\n",
       "Date                                            ...                       \n",
       "2021-01-31 13:00:00                  3968151.0  ...            1.023868   \n",
       "2021-01-31 12:00:00                  9906250.0  ...            1.034151   \n",
       "2021-01-31 11:00:00                  8965107.0  ...            1.023169   \n",
       "2021-01-31 10:00:00                  5835286.0  ...            1.024548   \n",
       "2021-01-31 09:00:00                  8666683.0  ...            1.016829   \n",
       "\n",
       "                     blockchain/block_count_btc_cumsum  halving  \\\n",
       "Date                                                              \n",
       "2021-01-31 13:00:00                           734989.0        1   \n",
       "2021-01-31 12:00:00                           734986.0        1   \n",
       "2021-01-31 11:00:00                           734978.0        1   \n",
       "2021-01-31 10:00:00                           734971.0        1   \n",
       "2021-01-31 09:00:00                           734967.0        1   \n",
       "\n",
       "                     days_after_halving  Log Price in USD  \\\n",
       "Date                                                        \n",
       "2021-01-31 13:00:00               17082         10.423137   \n",
       "2021-01-31 12:00:00               17081         10.432947   \n",
       "2021-01-31 11:00:00               17080         10.422027   \n",
       "2021-01-31 10:00:00               17079         10.423244   \n",
       "2021-01-31 09:00:00               17078         10.415545   \n",
       "\n",
       "                     Daily Return in USD_ohneshift  \\\n",
       "Date                                                 \n",
       "2021-01-31 13:00:00                     229.286977   \n",
       "2021-01-31 12:00:00                     331.527901   \n",
       "2021-01-31 11:00:00                    -368.836378   \n",
       "2021-01-31 10:00:00                      40.924733   \n",
       "2021-01-31 09:00:00                    -257.942730   \n",
       "\n",
       "                     percentage_daily_return_bef_shift  \\\n",
       "Date                                                     \n",
       "2021-01-31 13:00:00                           0.006818   \n",
       "2021-01-31 12:00:00                           0.009762   \n",
       "2021-01-31 11:00:00                          -0.010980   \n",
       "2021-01-31 10:00:00                           0.001217   \n",
       "2021-01-31 09:00:00                          -0.007729   \n",
       "\n",
       "                     Closed Price USD_cummax  \\\n",
       "Date                                           \n",
       "2021-01-31 13:00:00             33628.755182   \n",
       "2021-01-31 12:00:00             33960.283083   \n",
       "2021-01-31 11:00:00             33960.283083   \n",
       "2021-01-31 10:00:00             33960.283083   \n",
       "2021-01-31 09:00:00             33960.283083   \n",
       "\n",
       "                     price_usd_close_percent_of_maxtilnow  Class  \n",
       "Date                                                              \n",
       "2021-01-31 13:00:00                              1.000000    1.0  \n",
       "2021-01-31 12:00:00                              1.000000    1.0  \n",
       "2021-01-31 11:00:00                              0.989139    1.0  \n",
       "2021-01-31 10:00:00                              0.990344    0.0  \n",
       "2021-01-31 09:00:00                              0.982749    1.0  \n",
       "\n",
       "[5 rows x 102 columns]"
      ]
     },
     "execution_count": 57,
     "metadata": {},
     "output_type": "execute_result"
    }
   ],
   "source": [
    "# Data Set Head\n",
    "df_dataset1.head()"
   ]
  },
  {
   "cell_type": "code",
   "execution_count": 58,
   "metadata": {
    "ExecuteTime": {
     "end_time": "2021-01-31T17:03:42.073949Z",
     "start_time": "2021-01-31T17:03:42.054875Z"
    }
   },
   "outputs": [
    {
     "name": "stdout",
     "output_type": "stream",
     "text": [
      "0 addresses/new_non_zero_count\n",
      "1 addresses/active_count\n",
      "2 addresses/sending_count\n",
      "3 addresses/receiving_count\n",
      "4 addresses/count\n",
      "5 blockchain/block_height\n",
      "6 blockchain/block_count\n",
      "7 blockchain/block_interval_mean\n",
      "8 blockchain/block_interval_median\n",
      "9 blockchain/block_size_sum\n",
      "10 blockchain/block_size_mean\n",
      "11 fees/volume_sum\n",
      "12 fees/volume_mean\n",
      "13 fees/volume_median\n",
      "14 indicators/sopr\n",
      "15 market/price_drawdown_relative\n",
      "16 market/marketcap_usd\n",
      "17 mining/difficulty_latest\n",
      "18 mining/hash_rate_mean\n",
      "19 supply/current\n",
      "20 transactions/count\n",
      "21 transactions/rate\n",
      "22 transactions/size_sum\n",
      "23 transactions/size_mean\n",
      "24 transactions/transfers_volume_sum\n",
      "25 transactions/transfers_volume_mean\n",
      "26 transactions/transfers_volume_median\n",
      "27 blockchain/utxo_created_count\n",
      "28 blockchain/utxo_spent_count\n",
      "29 blockchain/utxo_count\n",
      "30 blockchain/utxo_created_value_sum\n",
      "31 blockchain/utxo_created_value_mean\n",
      "32 blockchain/utxo_created_value_median\n",
      "33 blockchain/utxo_spent_value_sum\n",
      "34 blockchain/utxo_spent_value_mean\n",
      "35 blockchain/utxo_spent_value_median\n",
      "36 Closed Price USD\n",
      "37 Daily Return in USD\n",
      "38 Daily Return in Percent\n",
      "39 Daily Log Return in Percent\n",
      "40 200movingaverage\n",
      "41 mayer_multiple\n",
      "42 addresses/new_non_zero_count_adiff\n",
      "43 addresses/active_count_adiff\n",
      "44 addresses/sending_count_adiff\n",
      "45 addresses/receiving_count_adiff\n",
      "46 addresses/count_adiff\n",
      "47 blockchain/block_height_adiff\n",
      "48 blockchain/block_count_adiff\n",
      "49 blockchain/block_interval_mean_adiff\n",
      "50 blockchain/block_interval_median_adiff\n",
      "51 blockchain/block_size_sum_adiff\n",
      "52 blockchain/block_size_mean_adiff\n",
      "53 fees/volume_sum_adiff\n",
      "54 fees/volume_mean_adiff\n",
      "55 fees/volume_median_adiff\n",
      "56 indicators/sopr_adiff\n",
      "57 market/price_drawdown_relative_adiff\n",
      "58 market/marketcap_usd_adiff\n",
      "59 mining/difficulty_latest_adiff\n",
      "60 mining/hash_rate_mean_adiff\n",
      "61 supply/current_adiff\n",
      "62 transactions/count_adiff\n",
      "63 transactions/rate_adiff\n",
      "64 transactions/size_sum_adiff\n",
      "65 transactions/size_mean_adiff\n",
      "66 transactions/transfers_volume_sum_adiff\n",
      "67 transactions/transfers_volume_mean_adiff\n",
      "68 transactions/transfers_volume_median_adiff\n",
      "69 blockchain/utxo_created_count_adiff\n",
      "70 blockchain/utxo_spent_count_adiff\n",
      "71 blockchain/utxo_count_adiff\n",
      "72 blockchain/utxo_created_value_sum_adiff\n",
      "73 blockchain/utxo_created_value_mean_adiff\n",
      "74 blockchain/utxo_created_value_median_adiff\n",
      "75 blockchain/utxo_spent_value_sum_adiff\n",
      "76 blockchain/utxo_spent_value_mean_adiff\n",
      "77 blockchain/utxo_spent_value_median_adiff\n",
      "78 Closed Price USD_adiff\n",
      "79 Daily Return in USD_adiff\n",
      "80 Daily Return in Percent_adiff\n",
      "81 Daily Log Return in Percent_adiff\n",
      "82 200movingaverage_adiff\n",
      "83 mayer_multiple_adiff\n",
      "84 addresses/active_count_btc\n",
      "85 Closed Price USD_btc\n",
      "86 blockchain/block_count_btc\n",
      "87 supply/current_btc\n",
      "88 Daily Return in USD_btc\n",
      "89 addresses/active_count_btc_cumsum\n",
      "90 market/price_usd_close_btc_diff\n",
      "91 200movingaverage_btc\n",
      "92 mayer_multiple_btc\n",
      "93 blockchain/block_count_btc_cumsum\n",
      "94 halving\n",
      "95 days_after_halving\n",
      "96 Log Price in USD\n",
      "97 Daily Return in USD_ohneshift\n",
      "98 percentage_daily_return_bef_shift\n",
      "99 Closed Price USD_cummax\n",
      "100 price_usd_close_percent_of_maxtilnow\n",
      "101 Class\n"
     ]
    }
   ],
   "source": [
    "for x in range(len(df_dataset1.columns)):\n",
    "    print(x, df_dataset1.columns[x])"
   ]
  },
  {
   "cell_type": "code",
   "execution_count": 59,
   "metadata": {
    "ExecuteTime": {
     "end_time": "2021-01-31T17:03:42.215553Z",
     "start_time": "2021-01-31T17:03:42.195529Z"
    }
   },
   "outputs": [],
   "source": [
    "# Delete Original Target Column\n",
    "df_dataset1 = df_dataset1.drop(['Daily Return in USD'], axis=1)"
   ]
  },
  {
   "cell_type": "code",
   "execution_count": 60,
   "metadata": {
    "ExecuteTime": {
     "end_time": "2021-01-31T17:03:42.341227Z",
     "start_time": "2021-01-31T17:03:42.329171Z"
    }
   },
   "outputs": [
    {
     "data": {
      "text/plain": [
       "0.0    45679\n",
       "1.0    45563\n",
       "Name: Class, dtype: int64"
      ]
     },
     "execution_count": 60,
     "metadata": {},
     "output_type": "execute_result"
    }
   ],
   "source": [
    "# Check Class Balance\n",
    "df_dataset1['Class'].value_counts()"
   ]
  },
  {
   "cell_type": "code",
   "execution_count": 61,
   "metadata": {
    "ExecuteTime": {
     "end_time": "2021-01-31T17:03:42.625358Z",
     "start_time": "2021-01-31T17:03:42.597433Z"
    }
   },
   "outputs": [
    {
     "data": {
      "text/html": [
       "<div>\n",
       "<style scoped>\n",
       "    .dataframe tbody tr th:only-of-type {\n",
       "        vertical-align: middle;\n",
       "    }\n",
       "\n",
       "    .dataframe tbody tr th {\n",
       "        vertical-align: top;\n",
       "    }\n",
       "\n",
       "    .dataframe thead th {\n",
       "        text-align: right;\n",
       "    }\n",
       "</style>\n",
       "<table border=\"1\" class=\"dataframe\">\n",
       "  <thead>\n",
       "    <tr style=\"text-align: right;\">\n",
       "      <th></th>\n",
       "      <th>addresses/new_non_zero_count</th>\n",
       "      <th>addresses/active_count</th>\n",
       "      <th>addresses/sending_count</th>\n",
       "      <th>addresses/receiving_count</th>\n",
       "      <th>addresses/count</th>\n",
       "      <th>blockchain/block_height</th>\n",
       "      <th>blockchain/block_count</th>\n",
       "      <th>blockchain/block_interval_mean</th>\n",
       "      <th>blockchain/block_interval_median</th>\n",
       "      <th>blockchain/block_size_sum</th>\n",
       "      <th>...</th>\n",
       "      <th>mayer_multiple_btc</th>\n",
       "      <th>blockchain/block_count_btc_cumsum</th>\n",
       "      <th>halving</th>\n",
       "      <th>days_after_halving</th>\n",
       "      <th>Log Price in USD</th>\n",
       "      <th>Daily Return in USD_ohneshift</th>\n",
       "      <th>percentage_daily_return_bef_shift</th>\n",
       "      <th>Closed Price USD_cummax</th>\n",
       "      <th>price_usd_close_percent_of_maxtilnow</th>\n",
       "      <th>Class</th>\n",
       "    </tr>\n",
       "    <tr>\n",
       "      <th>Date</th>\n",
       "      <th></th>\n",
       "      <th></th>\n",
       "      <th></th>\n",
       "      <th></th>\n",
       "      <th></th>\n",
       "      <th></th>\n",
       "      <th></th>\n",
       "      <th></th>\n",
       "      <th></th>\n",
       "      <th></th>\n",
       "      <th></th>\n",
       "      <th></th>\n",
       "      <th></th>\n",
       "      <th></th>\n",
       "      <th></th>\n",
       "      <th></th>\n",
       "      <th></th>\n",
       "      <th></th>\n",
       "      <th></th>\n",
       "      <th></th>\n",
       "      <th></th>\n",
       "    </tr>\n",
       "  </thead>\n",
       "  <tbody>\n",
       "    <tr>\n",
       "      <th>2010-07-28 21:00:00</th>\n",
       "      <td>23.0</td>\n",
       "      <td>37.0</td>\n",
       "      <td>24.0</td>\n",
       "      <td>24.0</td>\n",
       "      <td>93906.0</td>\n",
       "      <td>70860.0</td>\n",
       "      <td>3.0</td>\n",
       "      <td>1311.000000</td>\n",
       "      <td>1409.0</td>\n",
       "      <td>6085.0</td>\n",
       "      <td>...</td>\n",
       "      <td>0.866956</td>\n",
       "      <td>142986.0</td>\n",
       "      <td>1</td>\n",
       "      <td>204</td>\n",
       "      <td>-2.852498</td>\n",
       "      <td>-0.0012</td>\n",
       "      <td>-0.020797</td>\n",
       "      <td>41523.339671</td>\n",
       "      <td>0.000001</td>\n",
       "      <td>0.0</td>\n",
       "    </tr>\n",
       "    <tr>\n",
       "      <th>2010-07-28 20:00:00</th>\n",
       "      <td>8.0</td>\n",
       "      <td>8.0</td>\n",
       "      <td>4.0</td>\n",
       "      <td>5.0</td>\n",
       "      <td>93883.0</td>\n",
       "      <td>70857.0</td>\n",
       "      <td>5.0</td>\n",
       "      <td>490.600000</td>\n",
       "      <td>568.0</td>\n",
       "      <td>40972.0</td>\n",
       "      <td>...</td>\n",
       "      <td>0.811258</td>\n",
       "      <td>142983.0</td>\n",
       "      <td>1</td>\n",
       "      <td>203</td>\n",
       "      <td>-2.918771</td>\n",
       "      <td>-0.0037</td>\n",
       "      <td>-0.068519</td>\n",
       "      <td>41523.339671</td>\n",
       "      <td>0.000001</td>\n",
       "      <td>0.0</td>\n",
       "    </tr>\n",
       "    <tr>\n",
       "      <th>2010-07-28 19:00:00</th>\n",
       "      <td>21.0</td>\n",
       "      <td>25.0</td>\n",
       "      <td>15.0</td>\n",
       "      <td>15.0</td>\n",
       "      <td>93875.0</td>\n",
       "      <td>70852.0</td>\n",
       "      <td>9.0</td>\n",
       "      <td>418.888889</td>\n",
       "      <td>377.0</td>\n",
       "      <td>96628.0</td>\n",
       "      <td>...</td>\n",
       "      <td>0.810929</td>\n",
       "      <td>142978.0</td>\n",
       "      <td>1</td>\n",
       "      <td>202</td>\n",
       "      <td>-2.918771</td>\n",
       "      <td>0.0000</td>\n",
       "      <td>0.000000</td>\n",
       "      <td>41523.339671</td>\n",
       "      <td>0.000001</td>\n",
       "      <td>0.0</td>\n",
       "    </tr>\n",
       "    <tr>\n",
       "      <th>2010-07-28 18:00:00</th>\n",
       "      <td>21.0</td>\n",
       "      <td>60.0</td>\n",
       "      <td>43.0</td>\n",
       "      <td>17.0</td>\n",
       "      <td>93854.0</td>\n",
       "      <td>70843.0</td>\n",
       "      <td>8.0</td>\n",
       "      <td>782.750000</td>\n",
       "      <td>493.0</td>\n",
       "      <td>35247.0</td>\n",
       "      <td>...</td>\n",
       "      <td>0.870644</td>\n",
       "      <td>142969.0</td>\n",
       "      <td>1</td>\n",
       "      <td>201</td>\n",
       "      <td>-2.847312</td>\n",
       "      <td>0.0040</td>\n",
       "      <td>0.068966</td>\n",
       "      <td>41523.339671</td>\n",
       "      <td>0.000001</td>\n",
       "      <td>1.0</td>\n",
       "    </tr>\n",
       "    <tr>\n",
       "      <th>2010-07-28 17:00:00</th>\n",
       "      <td>5.0</td>\n",
       "      <td>8.0</td>\n",
       "      <td>5.0</td>\n",
       "      <td>3.0</td>\n",
       "      <td>93833.0</td>\n",
       "      <td>70835.0</td>\n",
       "      <td>2.0</td>\n",
       "      <td>440.000000</td>\n",
       "      <td>118.0</td>\n",
       "      <td>1258.0</td>\n",
       "      <td>...</td>\n",
       "      <td>0.833028</td>\n",
       "      <td>142961.0</td>\n",
       "      <td>1</td>\n",
       "      <td>200</td>\n",
       "      <td>-2.891372</td>\n",
       "      <td>-0.0025</td>\n",
       "      <td>-0.045045</td>\n",
       "      <td>41523.339671</td>\n",
       "      <td>0.000001</td>\n",
       "      <td>1.0</td>\n",
       "    </tr>\n",
       "  </tbody>\n",
       "</table>\n",
       "<p>5 rows × 101 columns</p>\n",
       "</div>"
      ],
      "text/plain": [
       "                     addresses/new_non_zero_count  addresses/active_count  \\\n",
       "Date                                                                        \n",
       "2010-07-28 21:00:00                          23.0                    37.0   \n",
       "2010-07-28 20:00:00                           8.0                     8.0   \n",
       "2010-07-28 19:00:00                          21.0                    25.0   \n",
       "2010-07-28 18:00:00                          21.0                    60.0   \n",
       "2010-07-28 17:00:00                           5.0                     8.0   \n",
       "\n",
       "                     addresses/sending_count  addresses/receiving_count  \\\n",
       "Date                                                                      \n",
       "2010-07-28 21:00:00                     24.0                       24.0   \n",
       "2010-07-28 20:00:00                      4.0                        5.0   \n",
       "2010-07-28 19:00:00                     15.0                       15.0   \n",
       "2010-07-28 18:00:00                     43.0                       17.0   \n",
       "2010-07-28 17:00:00                      5.0                        3.0   \n",
       "\n",
       "                     addresses/count  blockchain/block_height  \\\n",
       "Date                                                            \n",
       "2010-07-28 21:00:00          93906.0                  70860.0   \n",
       "2010-07-28 20:00:00          93883.0                  70857.0   \n",
       "2010-07-28 19:00:00          93875.0                  70852.0   \n",
       "2010-07-28 18:00:00          93854.0                  70843.0   \n",
       "2010-07-28 17:00:00          93833.0                  70835.0   \n",
       "\n",
       "                     blockchain/block_count  blockchain/block_interval_mean  \\\n",
       "Date                                                                          \n",
       "2010-07-28 21:00:00                     3.0                     1311.000000   \n",
       "2010-07-28 20:00:00                     5.0                      490.600000   \n",
       "2010-07-28 19:00:00                     9.0                      418.888889   \n",
       "2010-07-28 18:00:00                     8.0                      782.750000   \n",
       "2010-07-28 17:00:00                     2.0                      440.000000   \n",
       "\n",
       "                     blockchain/block_interval_median  \\\n",
       "Date                                                    \n",
       "2010-07-28 21:00:00                            1409.0   \n",
       "2010-07-28 20:00:00                             568.0   \n",
       "2010-07-28 19:00:00                             377.0   \n",
       "2010-07-28 18:00:00                             493.0   \n",
       "2010-07-28 17:00:00                             118.0   \n",
       "\n",
       "                     blockchain/block_size_sum  ...  mayer_multiple_btc  \\\n",
       "Date                                            ...                       \n",
       "2010-07-28 21:00:00                     6085.0  ...            0.866956   \n",
       "2010-07-28 20:00:00                    40972.0  ...            0.811258   \n",
       "2010-07-28 19:00:00                    96628.0  ...            0.810929   \n",
       "2010-07-28 18:00:00                    35247.0  ...            0.870644   \n",
       "2010-07-28 17:00:00                     1258.0  ...            0.833028   \n",
       "\n",
       "                     blockchain/block_count_btc_cumsum  halving  \\\n",
       "Date                                                              \n",
       "2010-07-28 21:00:00                           142986.0        1   \n",
       "2010-07-28 20:00:00                           142983.0        1   \n",
       "2010-07-28 19:00:00                           142978.0        1   \n",
       "2010-07-28 18:00:00                           142969.0        1   \n",
       "2010-07-28 17:00:00                           142961.0        1   \n",
       "\n",
       "                     days_after_halving  Log Price in USD  \\\n",
       "Date                                                        \n",
       "2010-07-28 21:00:00                 204         -2.852498   \n",
       "2010-07-28 20:00:00                 203         -2.918771   \n",
       "2010-07-28 19:00:00                 202         -2.918771   \n",
       "2010-07-28 18:00:00                 201         -2.847312   \n",
       "2010-07-28 17:00:00                 200         -2.891372   \n",
       "\n",
       "                     Daily Return in USD_ohneshift  \\\n",
       "Date                                                 \n",
       "2010-07-28 21:00:00                        -0.0012   \n",
       "2010-07-28 20:00:00                        -0.0037   \n",
       "2010-07-28 19:00:00                         0.0000   \n",
       "2010-07-28 18:00:00                         0.0040   \n",
       "2010-07-28 17:00:00                        -0.0025   \n",
       "\n",
       "                     percentage_daily_return_bef_shift  \\\n",
       "Date                                                     \n",
       "2010-07-28 21:00:00                          -0.020797   \n",
       "2010-07-28 20:00:00                          -0.068519   \n",
       "2010-07-28 19:00:00                           0.000000   \n",
       "2010-07-28 18:00:00                           0.068966   \n",
       "2010-07-28 17:00:00                          -0.045045   \n",
       "\n",
       "                     Closed Price USD_cummax  \\\n",
       "Date                                           \n",
       "2010-07-28 21:00:00             41523.339671   \n",
       "2010-07-28 20:00:00             41523.339671   \n",
       "2010-07-28 19:00:00             41523.339671   \n",
       "2010-07-28 18:00:00             41523.339671   \n",
       "2010-07-28 17:00:00             41523.339671   \n",
       "\n",
       "                     price_usd_close_percent_of_maxtilnow  Class  \n",
       "Date                                                              \n",
       "2010-07-28 21:00:00                              0.000001    0.0  \n",
       "2010-07-28 20:00:00                              0.000001    0.0  \n",
       "2010-07-28 19:00:00                              0.000001    0.0  \n",
       "2010-07-28 18:00:00                              0.000001    1.0  \n",
       "2010-07-28 17:00:00                              0.000001    1.0  \n",
       "\n",
       "[5 rows x 101 columns]"
      ]
     },
     "execution_count": 61,
     "metadata": {},
     "output_type": "execute_result"
    }
   ],
   "source": [
    "# Data Set Head\n",
    "df_dataset1.tail()"
   ]
  },
  {
   "cell_type": "code",
   "execution_count": 62,
   "metadata": {
    "ExecuteTime": {
     "end_time": "2021-01-31T17:03:43.076160Z",
     "start_time": "2021-01-31T17:03:43.002356Z"
    }
   },
   "outputs": [],
   "source": [
    "df_dataset1_allbut2020 = df_dataset1.loc[df_dataset1.index.year != 2020]\n",
    "df_dataset1_2020 = df_dataset1.loc[df_dataset1.index.year == 2020]\n",
    "df_dataset1_allbut2019 = df_dataset1.loc[df_dataset1.index.year != 2019]\n",
    "df_dataset1_2019 = df_dataset1.loc[df_dataset1.index.year == 2019]\n",
    "df_dataset1_allbut2018 = df_dataset1.loc[df_dataset1.index.year != 2018]\n",
    "df_dataset1_2018 = df_dataset1.loc[df_dataset1.index.year == 2018]\n",
    "df_dataset1_allbut2017 = df_dataset1.loc[df_dataset1.index.year != 2017]\n",
    "df_dataset1_2017 = df_dataset1.loc[df_dataset1.index.year == 2017]"
   ]
  },
  {
   "cell_type": "code",
   "execution_count": null,
   "metadata": {},
   "outputs": [],
   "source": []
  },
  {
   "cell_type": "code",
   "execution_count": null,
   "metadata": {},
   "outputs": [],
   "source": []
  },
  {
   "cell_type": "code",
   "execution_count": null,
   "metadata": {},
   "outputs": [],
   "source": []
  },
  {
   "cell_type": "code",
   "execution_count": null,
   "metadata": {},
   "outputs": [],
   "source": []
  },
  {
   "cell_type": "code",
   "execution_count": null,
   "metadata": {},
   "outputs": [],
   "source": []
  },
  {
   "cell_type": "markdown",
   "metadata": {},
   "source": [
    "# Model Preparation - Data Set I."
   ]
  },
  {
   "cell_type": "markdown",
   "metadata": {},
   "source": [
    "## Train Test Split - Data Set I."
   ]
  },
  {
   "cell_type": "code",
   "execution_count": 63,
   "metadata": {
    "ExecuteTime": {
     "end_time": "2021-01-31T17:04:08.237699Z",
     "start_time": "2021-01-31T17:04:08.224555Z"
    }
   },
   "outputs": [],
   "source": [
    "# Setup of Predictors (Indpendent Variables) by Excluding Target Variable\n",
    "predictors = df_dataset1.drop(['Class'], axis=1).values.astype(np.float32)"
   ]
  },
  {
   "cell_type": "code",
   "execution_count": 64,
   "metadata": {
    "ExecuteTime": {
     "end_time": "2021-01-31T17:04:08.854054Z",
     "start_time": "2021-01-31T17:04:08.837004Z"
    }
   },
   "outputs": [],
   "source": [
    "# Setup of Categorized Target Variable\n",
    "target = df_dataset1['Class'].astype(np.float32)"
   ]
  },
  {
   "cell_type": "code",
   "execution_count": 65,
   "metadata": {
    "ExecuteTime": {
     "end_time": "2021-01-31T17:04:09.403575Z",
     "start_time": "2021-01-31T17:04:09.398510Z"
    }
   },
   "outputs": [
    {
     "data": {
      "text/plain": [
       "(91242, 100)"
      ]
     },
     "execution_count": 65,
     "metadata": {},
     "output_type": "execute_result"
    }
   ],
   "source": [
    "# Predictor Dimensions\n",
    "predictors.shape"
   ]
  },
  {
   "cell_type": "code",
   "execution_count": 66,
   "metadata": {
    "ExecuteTime": {
     "end_time": "2021-01-31T17:04:10.048884Z",
     "start_time": "2021-01-31T17:04:10.039810Z"
    }
   },
   "outputs": [
    {
     "name": "stdout",
     "output_type": "stream",
     "text": [
      "0 9939.0\n",
      "1 27620.0\n",
      "2 13676.0\n",
      "3 15865.0\n",
      "4 776388160.0\n",
      "5 668484.0\n",
      "6 3.0\n",
      "7 719.0\n",
      "8 519.0\n",
      "9 3968151.0\n",
      "10 1322717.0\n",
      "11 2.4099982\n",
      "12 0.00042920714\n",
      "13 0.00023302\n",
      "14 1.04782\n",
      "15 -0.1981998\n",
      "16 628778000000.0\n",
      "17 8.943638e+22\n",
      "18 1.2438997e+20\n",
      "19 18615532.0\n",
      "20 5615.0\n",
      "21 1.5597222\n",
      "22 3967073.0\n",
      "23 706.5134\n",
      "24 62940.062\n",
      "25 11.209271\n",
      "26 0.03184059\n",
      "27 17234.0\n",
      "28 18066.0\n",
      "29 117139580.0\n",
      "30 62961.223\n",
      "31 3.6533146\n",
      "32 0.00662575\n",
      "33 62942.473\n",
      "34 3.4840293\n",
      "35 0.008136\n",
      "36 33628.754\n",
      "37 -0.97622246\n",
      "38 -0.9810187\n",
      "39 32844.83\n",
      "40 1.0238676\n",
      "41 -10588.0\n",
      "42 -37206.0\n",
      "43 -24430.0\n",
      "44 -16468.0\n",
      "45 9939.0\n",
      "46 3.0\n",
      "47 -5.0\n",
      "48 289.125\n",
      "49 215.0\n",
      "50 -5938099.0\n",
      "51 84435.75\n",
      "52 -1.827566\n",
      "53 0.0001239731\n",
      "54 9.765e-05\n",
      "55 0.043065734\n",
      "56 -0.007904519\n",
      "57 414506140.0\n",
      "58 0.0\n",
      "59 -8.366211e+19\n",
      "60 18.75\n",
      "61 -8268.0\n",
      "62 -2.2966666\n",
      "63 -5935703.0\n",
      "64 -6.788866\n",
      "65 -32462.219\n",
      "66 4.337394\n",
      "67 0.0176397\n",
      "68 -20260.0\n",
      "69 -33560.0\n",
      "70 -832.0\n",
      "71 -32495.297\n",
      "72 1.1074\n",
      "73 0.00357386\n",
      "74 -32464.047\n",
      "75 1.6359968\n",
      "76 0.00496454\n",
      "77 -331.5279\n",
      "78 -700.36426\n",
      "79 -2.0742292\n",
      "80 -2.0730412\n",
      "81 6.0091615\n",
      "82 -0.010282967\n",
      "83 27620.0\n",
      "84 33628.754\n",
      "85 3.0\n",
      "86 18615532.0\n",
      "87 -331.5279\n",
      "88 2116377000.0\n",
      "89 -331.5279\n",
      "90 32844.83\n",
      "91 1.0238676\n",
      "92 734989.0\n",
      "93 1.0\n",
      "94 17082.0\n",
      "95 10.423137\n",
      "96 229.28697\n",
      "97 0.0068181823\n",
      "98 33628.754\n",
      "99 1.0\n"
     ]
    }
   ],
   "source": [
    "for x in range(len(predictors[0])):\n",
    "    print(x, predictors[0][x])"
   ]
  },
  {
   "cell_type": "code",
   "execution_count": 67,
   "metadata": {
    "ExecuteTime": {
     "end_time": "2021-01-31T17:04:10.252027Z",
     "start_time": "2021-01-31T17:04:10.238249Z"
    }
   },
   "outputs": [
    {
     "data": {
      "text/plain": [
       "(91242,)"
      ]
     },
     "execution_count": 67,
     "metadata": {},
     "output_type": "execute_result"
    }
   ],
   "source": [
    "# Target Dimensions\n",
    "target.shape"
   ]
  },
  {
   "cell_type": "code",
   "execution_count": 68,
   "metadata": {
    "ExecuteTime": {
     "end_time": "2021-01-31T17:04:10.928544Z",
     "start_time": "2021-01-31T17:04:10.871599Z"
    }
   },
   "outputs": [],
   "source": [
    "# Train-Test-Split Function to Create Training and Test Data Set\n",
    "X_train, X_test, y_train, y_test = train_test_split(predictors, target, test_size=0.3, random_state = 41, stratify=target)"
   ]
  },
  {
   "cell_type": "code",
   "execution_count": 69,
   "metadata": {
    "ExecuteTime": {
     "end_time": "2021-01-31T17:04:11.054115Z",
     "start_time": "2021-01-31T17:04:11.039121Z"
    }
   },
   "outputs": [
    {
     "data": {
      "text/plain": [
       "(63869, 100)"
      ]
     },
     "execution_count": 69,
     "metadata": {},
     "output_type": "execute_result"
    }
   ],
   "source": [
    "# Dimensions of Predictors for Training\n",
    "X_train.shape"
   ]
  },
  {
   "cell_type": "code",
   "execution_count": 70,
   "metadata": {
    "ExecuteTime": {
     "end_time": "2021-01-31T17:04:11.684441Z",
     "start_time": "2021-01-31T17:04:11.665488Z"
    }
   },
   "outputs": [
    {
     "data": {
      "text/plain": [
       "(63869,)"
      ]
     },
     "execution_count": 70,
     "metadata": {},
     "output_type": "execute_result"
    }
   ],
   "source": [
    "# Dimensions of Target for Training\n",
    "y_train.shape"
   ]
  },
  {
   "cell_type": "code",
   "execution_count": 71,
   "metadata": {
    "ExecuteTime": {
     "end_time": "2021-01-31T17:04:11.935773Z",
     "start_time": "2021-01-31T17:04:11.920778Z"
    }
   },
   "outputs": [
    {
     "data": {
      "text/plain": [
       "100"
      ]
     },
     "execution_count": 71,
     "metadata": {},
     "output_type": "execute_result"
    }
   ],
   "source": [
    "# Number of Predictors\n",
    "n_nodes = predictors.shape[1]\n",
    "n_nodes"
   ]
  },
  {
   "cell_type": "markdown",
   "metadata": {},
   "source": [
    "### Check of Class Balance"
   ]
  },
  {
   "cell_type": "code",
   "execution_count": 72,
   "metadata": {
    "ExecuteTime": {
     "end_time": "2021-01-31T17:04:12.925501Z",
     "start_time": "2021-01-31T17:04:12.912454Z"
    }
   },
   "outputs": [
    {
     "data": {
      "text/plain": [
       "31975"
      ]
     },
     "execution_count": 72,
     "metadata": {},
     "output_type": "execute_result"
    }
   ],
   "source": [
    "# Check Training Target of Class 0\n",
    "y_train[y_train==0].count()"
   ]
  },
  {
   "cell_type": "code",
   "execution_count": 73,
   "metadata": {
    "ExecuteTime": {
     "end_time": "2021-01-31T17:04:13.506880Z",
     "start_time": "2021-01-31T17:04:13.488923Z"
    }
   },
   "outputs": [
    {
     "data": {
      "text/plain": [
       "31894"
      ]
     },
     "execution_count": 73,
     "metadata": {},
     "output_type": "execute_result"
    }
   ],
   "source": [
    "# Check Training Target of Class 1\n",
    "y_train[y_train==1].count()"
   ]
  },
  {
   "cell_type": "code",
   "execution_count": 74,
   "metadata": {
    "ExecuteTime": {
     "end_time": "2021-01-31T17:04:14.181538Z",
     "start_time": "2021-01-31T17:04:14.176069Z"
    }
   },
   "outputs": [
    {
     "data": {
      "text/plain": [
       "13704"
      ]
     },
     "execution_count": 74,
     "metadata": {},
     "output_type": "execute_result"
    }
   ],
   "source": [
    "# Check Test Target of Class 0\n",
    "y_test[y_test==0].count()"
   ]
  },
  {
   "cell_type": "code",
   "execution_count": 75,
   "metadata": {
    "ExecuteTime": {
     "end_time": "2021-01-31T17:04:14.307800Z",
     "start_time": "2021-01-31T17:04:14.294774Z"
    }
   },
   "outputs": [
    {
     "data": {
      "text/plain": [
       "13669"
      ]
     },
     "execution_count": 75,
     "metadata": {},
     "output_type": "execute_result"
    }
   ],
   "source": [
    "# Check Test Target of Class 1\n",
    "y_test[y_test==1].count()"
   ]
  },
  {
   "cell_type": "markdown",
   "metadata": {},
   "source": [
    "# Feature Selection random forest"
   ]
  },
  {
   "cell_type": "code",
   "execution_count": 76,
   "metadata": {
    "ExecuteTime": {
     "end_time": "2021-01-31T17:05:47.226855Z",
     "start_time": "2021-01-31T17:04:14.990947Z"
    },
    "scrolled": true
   },
   "outputs": [],
   "source": [
    "import pandas as pd\n",
    "from sklearn.feature_selection import SelectFromModel\n",
    "\n",
    "rank_delete_list = []\n",
    "df_dataset1_columns_keep = []\n",
    "\n",
    "\n",
    "# old values:\n",
    "# RandomForestClassifier(max_depth=4, min_samples_leaf=4, min_samples_split=3,\n",
    "#                        n_estimators=625)\n",
    "\n",
    "# define RFE\n",
    "sel = SelectFromModel(RandomForestClassifier(bootstrap=False, min_samples_leaf=4, \n",
    "                                  min_samples_split=5,\n",
    "                       n_estimators=200))\n",
    "\n",
    "# fit RFE\n",
    "sel.fit(X_train, y_train)\n",
    "# summarize all features\n",
    "sel.get_support()\n",
    "\n",
    "# summarize all features\n",
    "for i in range(X_train.shape[1]):\n",
    "    if sel.get_support()[i] == False:\n",
    "        rank_delete_list.append(i)\n",
    "    else:\n",
    "        print('Column: %d, Selected %s, col %s' % (i, sel.get_support()[i], df_dataset1.columns[i] ))\n",
    "        df_dataset1_columns_keep.append(df_dataset1.columns[i])"
   ]
  },
  {
   "cell_type": "code",
   "execution_count": null,
   "metadata": {
    "ExecuteTime": {
     "end_time": "2021-01-31T17:05:47.242951Z",
     "start_time": "2021-01-31T17:05:47.228850Z"
    }
   },
   "outputs": [
    {
     "data": {
      "text/plain": [
       "['addresses/sending_count',\n",
       " 'blockchain/block_interval_mean',\n",
       " 'blockchain/block_interval_median',\n",
       " 'blockchain/block_size_mean',\n",
       " 'fees/volume_sum',\n",
       " 'fees/volume_mean',\n",
       " 'indicators/sopr',\n",
       " 'mining/hash_rate_mean',\n",
       " 'transactions/size_mean',\n",
       " 'transactions/transfers_volume_mean',\n",
       " 'transactions/transfers_volume_median',\n",
       " 'blockchain/utxo_created_value_mean',\n",
       " 'blockchain/utxo_created_value_median',\n",
       " 'blockchain/utxo_spent_value_mean',\n",
       " 'blockchain/utxo_spent_value_median',\n",
       " 'Daily Return in Percent',\n",
       " 'Daily Log Return in Percent',\n",
       " 'mayer_multiple',\n",
       " 'addresses/new_non_zero_count_adiff',\n",
       " 'addresses/active_count_adiff',\n",
       " 'addresses/sending_count_adiff',\n",
       " 'addresses/receiving_count_adiff',\n",
       " 'blockchain/block_interval_mean_adiff',\n",
       " 'blockchain/block_interval_median_adiff',\n",
       " 'blockchain/block_size_mean_adiff',\n",
       " 'fees/volume_sum_adiff',\n",
       " 'fees/volume_mean_adiff',\n",
       " 'indicators/sopr_adiff',\n",
       " 'market/price_drawdown_relative_adiff',\n",
       " 'market/marketcap_usd_adiff',\n",
       " 'mining/hash_rate_mean_adiff',\n",
       " 'transactions/size_mean_adiff',\n",
       " 'transactions/transfers_volume_sum_adiff',\n",
       " 'transactions/transfers_volume_mean_adiff',\n",
       " 'transactions/transfers_volume_median_adiff',\n",
       " 'blockchain/utxo_created_count_adiff',\n",
       " 'blockchain/utxo_count_adiff',\n",
       " 'blockchain/utxo_created_value_sum_adiff',\n",
       " 'blockchain/utxo_created_value_mean_adiff',\n",
       " 'blockchain/utxo_created_value_median_adiff',\n",
       " 'blockchain/utxo_spent_value_sum_adiff',\n",
       " 'blockchain/utxo_spent_value_mean_adiff',\n",
       " 'blockchain/utxo_spent_value_median_adiff',\n",
       " 'Daily Return in USD_adiff',\n",
       " 'Daily Return in Percent_adiff',\n",
       " 'Daily Log Return in Percent_adiff',\n",
       " '200movingaverage_adiff',\n",
       " 'mayer_multiple_adiff',\n",
       " 'mayer_multiple_btc',\n",
       " 'Daily Return in USD_ohneshift',\n",
       " 'percentage_daily_return_bef_shift']"
      ]
     },
     "execution_count": 80,
     "metadata": {},
     "output_type": "execute_result"
    }
   ],
   "source": [
    "df_dataset1_columns_keep"
   ]
  },
  {
   "cell_type": "code",
   "execution_count": null,
   "metadata": {
    "ExecuteTime": {
     "end_time": "2021-01-31T17:05:47.273771Z",
     "start_time": "2021-01-31T17:05:47.245805Z"
    },
    "scrolled": true
   },
   "outputs": [],
   "source": [
    "df_dataset1=df_dataset1[df_dataset1_columns_keep]\n",
    "predictors = np.delete(predictors, rank_delete_list, 1)"
   ]
  },
  {
   "cell_type": "code",
   "execution_count": null,
   "metadata": {
    "ExecuteTime": {
     "end_time": "2021-01-31T17:05:47.288852Z",
     "start_time": "2021-01-31T17:05:47.276755Z"
    }
   },
   "outputs": [
    {
     "data": {
      "text/plain": [
       "(91242, 51)"
      ]
     },
     "execution_count": 82,
     "metadata": {},
     "output_type": "execute_result"
    }
   ],
   "source": [
    "predictors.shape"
   ]
  },
  {
   "cell_type": "code",
   "execution_count": null,
   "metadata": {
    "ExecuteTime": {
     "end_time": "2021-01-31T17:05:47.304746Z",
     "start_time": "2021-01-31T17:05:47.291683Z"
    }
   },
   "outputs": [
    {
     "data": {
      "text/plain": [
       "(91242, 51)"
      ]
     },
     "execution_count": 83,
     "metadata": {},
     "output_type": "execute_result"
    }
   ],
   "source": [
    "predictors.shape"
   ]
  },
  {
   "cell_type": "code",
   "execution_count": null,
   "metadata": {
    "ExecuteTime": {
     "end_time": "2021-01-31T17:05:47.320768Z",
     "start_time": "2021-01-31T17:05:47.306643Z"
    }
   },
   "outputs": [],
   "source": [
    "anzahlfeats = predictors.shape[1]"
   ]
  },
  {
   "cell_type": "code",
   "execution_count": null,
   "metadata": {
    "ExecuteTime": {
     "end_time": "2021-01-31T17:05:47.509216Z",
     "start_time": "2021-01-31T17:05:47.322601Z"
    }
   },
   "outputs": [
    {
     "name": "stdout",
     "output_type": "stream",
     "text": [
      "[[13700     4]\n",
      " [13662     7]]\n"
     ]
    }
   ],
   "source": [
    "# Instantiate Classifier Logistic Regression\n",
    "lreg = LogisticRegression(max_iter=1200)\n",
    "\n",
    "# Train Classifier\n",
    "lreg.fit(X_train, y_train)\n",
    "\n",
    "# Prediction of Classes\n",
    "y_pred = lreg.predict(X_test)\n",
    "\n",
    "# Display Confusion Matrix and Classification Report\n",
    "print(confusion_matrix(y_test, y_pred))\n",
    "#     print(classification_report(y_test, y_pred))\n",
    "\n",
    "# Prediction of Probabilities\n",
    "y_pred_prob = lreg.predict_proba(X_test)[:, 1]\n",
    "\n",
    "# Create Data Frame of Actual Values - y_test\n",
    "df_y_test = pd.DataFrame(y_test)\n",
    "\n",
    "# Add Predicted Probabilities to Data Frame\n",
    "df_y_test[\"y_pred_prob\"] = y_pred_prob\n",
    "\n",
    "# Add Predicted Classes (0 or 1) to Data Frame to Cross-Check Predicted Probabilities\n",
    "df_y_test[\"y_pred\"] = y_pred"
   ]
  },
  {
   "cell_type": "code",
   "execution_count": null,
   "metadata": {},
   "outputs": [],
   "source": []
  },
  {
   "cell_type": "code",
   "execution_count": null,
   "metadata": {
    "ExecuteTime": {
     "end_time": "2021-01-31T17:05:47.541137Z",
     "start_time": "2021-01-31T17:05:47.512099Z"
    }
   },
   "outputs": [
    {
     "data": {
      "text/html": [
       "<div>\n",
       "<style scoped>\n",
       "    .dataframe tbody tr th:only-of-type {\n",
       "        vertical-align: middle;\n",
       "    }\n",
       "\n",
       "    .dataframe tbody tr th {\n",
       "        vertical-align: top;\n",
       "    }\n",
       "\n",
       "    .dataframe thead th {\n",
       "        text-align: right;\n",
       "    }\n",
       "</style>\n",
       "<table border=\"1\" class=\"dataframe\">\n",
       "  <thead>\n",
       "    <tr style=\"text-align: right;\">\n",
       "      <th></th>\n",
       "      <th>Class</th>\n",
       "      <th>y_pred_prob</th>\n",
       "      <th>y_pred</th>\n",
       "    </tr>\n",
       "    <tr>\n",
       "      <th>Date</th>\n",
       "      <th></th>\n",
       "      <th></th>\n",
       "      <th></th>\n",
       "    </tr>\n",
       "  </thead>\n",
       "  <tbody>\n",
       "    <tr>\n",
       "      <th>2010-07-29 11:00:00</th>\n",
       "      <td>1.0</td>\n",
       "      <td>0.500000</td>\n",
       "      <td>0.0</td>\n",
       "    </tr>\n",
       "    <tr>\n",
       "      <th>2010-07-29 18:00:00</th>\n",
       "      <td>0.0</td>\n",
       "      <td>0.500000</td>\n",
       "      <td>0.0</td>\n",
       "    </tr>\n",
       "    <tr>\n",
       "      <th>2010-07-29 19:00:00</th>\n",
       "      <td>1.0</td>\n",
       "      <td>0.500000</td>\n",
       "      <td>0.0</td>\n",
       "    </tr>\n",
       "    <tr>\n",
       "      <th>2010-07-30 04:00:00</th>\n",
       "      <td>1.0</td>\n",
       "      <td>0.500000</td>\n",
       "      <td>0.0</td>\n",
       "    </tr>\n",
       "    <tr>\n",
       "      <th>2010-07-30 06:00:00</th>\n",
       "      <td>0.0</td>\n",
       "      <td>0.500000</td>\n",
       "      <td>0.0</td>\n",
       "    </tr>\n",
       "    <tr>\n",
       "      <th>...</th>\n",
       "      <td>...</td>\n",
       "      <td>...</td>\n",
       "      <td>...</td>\n",
       "    </tr>\n",
       "    <tr>\n",
       "      <th>2021-01-30 16:00:00</th>\n",
       "      <td>0.0</td>\n",
       "      <td>0.474162</td>\n",
       "      <td>0.0</td>\n",
       "    </tr>\n",
       "    <tr>\n",
       "      <th>2021-01-30 17:00:00</th>\n",
       "      <td>1.0</td>\n",
       "      <td>0.462518</td>\n",
       "      <td>0.0</td>\n",
       "    </tr>\n",
       "    <tr>\n",
       "      <th>2021-01-30 19:00:00</th>\n",
       "      <td>0.0</td>\n",
       "      <td>0.480584</td>\n",
       "      <td>0.0</td>\n",
       "    </tr>\n",
       "    <tr>\n",
       "      <th>2021-01-30 20:00:00</th>\n",
       "      <td>0.0</td>\n",
       "      <td>0.468103</td>\n",
       "      <td>0.0</td>\n",
       "    </tr>\n",
       "    <tr>\n",
       "      <th>2021-01-31 09:00:00</th>\n",
       "      <td>1.0</td>\n",
       "      <td>0.472980</td>\n",
       "      <td>0.0</td>\n",
       "    </tr>\n",
       "  </tbody>\n",
       "</table>\n",
       "<p>27373 rows × 3 columns</p>\n",
       "</div>"
      ],
      "text/plain": [
       "                     Class  y_pred_prob  y_pred\n",
       "Date                                           \n",
       "2010-07-29 11:00:00    1.0     0.500000     0.0\n",
       "2010-07-29 18:00:00    0.0     0.500000     0.0\n",
       "2010-07-29 19:00:00    1.0     0.500000     0.0\n",
       "2010-07-30 04:00:00    1.0     0.500000     0.0\n",
       "2010-07-30 06:00:00    0.0     0.500000     0.0\n",
       "...                    ...          ...     ...\n",
       "2021-01-30 16:00:00    0.0     0.474162     0.0\n",
       "2021-01-30 17:00:00    1.0     0.462518     0.0\n",
       "2021-01-30 19:00:00    0.0     0.480584     0.0\n",
       "2021-01-30 20:00:00    0.0     0.468103     0.0\n",
       "2021-01-31 09:00:00    1.0     0.472980     0.0\n",
       "\n",
       "[27373 rows x 3 columns]"
      ]
     },
     "execution_count": 86,
     "metadata": {},
     "output_type": "execute_result"
    }
   ],
   "source": [
    "df_y_test=df_y_test.sort_index()\n",
    "df_y_test"
   ]
  },
  {
   "cell_type": "code",
   "execution_count": null,
   "metadata": {
    "ExecuteTime": {
     "end_time": "2021-01-31T17:05:47.573008Z",
     "start_time": "2021-01-31T17:05:47.544012Z"
    }
   },
   "outputs": [
    {
     "data": {
      "text/html": [
       "<div>\n",
       "<style scoped>\n",
       "    .dataframe tbody tr th:only-of-type {\n",
       "        vertical-align: middle;\n",
       "    }\n",
       "\n",
       "    .dataframe tbody tr th {\n",
       "        vertical-align: top;\n",
       "    }\n",
       "\n",
       "    .dataframe thead th {\n",
       "        text-align: right;\n",
       "    }\n",
       "</style>\n",
       "<table border=\"1\" class=\"dataframe\">\n",
       "  <thead>\n",
       "    <tr style=\"text-align: right;\">\n",
       "      <th></th>\n",
       "      <th>Class</th>\n",
       "      <th>y_pred_prob</th>\n",
       "      <th>y_pred</th>\n",
       "    </tr>\n",
       "    <tr>\n",
       "      <th>Date</th>\n",
       "      <th></th>\n",
       "      <th></th>\n",
       "      <th></th>\n",
       "    </tr>\n",
       "  </thead>\n",
       "  <tbody>\n",
       "    <tr>\n",
       "      <th>2010-07-29 11:00:00</th>\n",
       "      <td>1.0</td>\n",
       "      <td>0.500000</td>\n",
       "      <td>0.0</td>\n",
       "    </tr>\n",
       "    <tr>\n",
       "      <th>2010-07-29 19:00:00</th>\n",
       "      <td>1.0</td>\n",
       "      <td>0.500000</td>\n",
       "      <td>0.0</td>\n",
       "    </tr>\n",
       "    <tr>\n",
       "      <th>2010-07-30 04:00:00</th>\n",
       "      <td>1.0</td>\n",
       "      <td>0.500000</td>\n",
       "      <td>0.0</td>\n",
       "    </tr>\n",
       "    <tr>\n",
       "      <th>2010-07-30 09:00:00</th>\n",
       "      <td>1.0</td>\n",
       "      <td>0.500000</td>\n",
       "      <td>0.0</td>\n",
       "    </tr>\n",
       "    <tr>\n",
       "      <th>2010-07-30 12:00:00</th>\n",
       "      <td>1.0</td>\n",
       "      <td>0.500000</td>\n",
       "      <td>0.0</td>\n",
       "    </tr>\n",
       "    <tr>\n",
       "      <th>...</th>\n",
       "      <td>...</td>\n",
       "      <td>...</td>\n",
       "      <td>...</td>\n",
       "    </tr>\n",
       "    <tr>\n",
       "      <th>2021-01-29 19:00:00</th>\n",
       "      <td>1.0</td>\n",
       "      <td>0.465043</td>\n",
       "      <td>0.0</td>\n",
       "    </tr>\n",
       "    <tr>\n",
       "      <th>2021-01-30 01:00:00</th>\n",
       "      <td>1.0</td>\n",
       "      <td>0.473319</td>\n",
       "      <td>0.0</td>\n",
       "    </tr>\n",
       "    <tr>\n",
       "      <th>2021-01-30 09:00:00</th>\n",
       "      <td>1.0</td>\n",
       "      <td>0.463671</td>\n",
       "      <td>0.0</td>\n",
       "    </tr>\n",
       "    <tr>\n",
       "      <th>2021-01-30 17:00:00</th>\n",
       "      <td>1.0</td>\n",
       "      <td>0.462518</td>\n",
       "      <td>0.0</td>\n",
       "    </tr>\n",
       "    <tr>\n",
       "      <th>2021-01-31 09:00:00</th>\n",
       "      <td>1.0</td>\n",
       "      <td>0.472980</td>\n",
       "      <td>0.0</td>\n",
       "    </tr>\n",
       "  </tbody>\n",
       "</table>\n",
       "<p>13666 rows × 3 columns</p>\n",
       "</div>"
      ],
      "text/plain": [
       "                     Class  y_pred_prob  y_pred\n",
       "Date                                           \n",
       "2010-07-29 11:00:00    1.0     0.500000     0.0\n",
       "2010-07-29 19:00:00    1.0     0.500000     0.0\n",
       "2010-07-30 04:00:00    1.0     0.500000     0.0\n",
       "2010-07-30 09:00:00    1.0     0.500000     0.0\n",
       "2010-07-30 12:00:00    1.0     0.500000     0.0\n",
       "...                    ...          ...     ...\n",
       "2021-01-29 19:00:00    1.0     0.465043     0.0\n",
       "2021-01-30 01:00:00    1.0     0.473319     0.0\n",
       "2021-01-30 09:00:00    1.0     0.463671     0.0\n",
       "2021-01-30 17:00:00    1.0     0.462518     0.0\n",
       "2021-01-31 09:00:00    1.0     0.472980     0.0\n",
       "\n",
       "[13666 rows x 3 columns]"
      ]
     },
     "execution_count": 87,
     "metadata": {},
     "output_type": "execute_result"
    }
   ],
   "source": [
    "df_y_test[df_y_test['Class']!=df_y_test['y_pred']]"
   ]
  },
  {
   "cell_type": "code",
   "execution_count": null,
   "metadata": {
    "ExecuteTime": {
     "end_time": "2021-01-31T17:05:47.603939Z",
     "start_time": "2021-01-31T17:05:47.574931Z"
    }
   },
   "outputs": [
    {
     "data": {
      "text/html": [
       "<div>\n",
       "<style scoped>\n",
       "    .dataframe tbody tr th:only-of-type {\n",
       "        vertical-align: middle;\n",
       "    }\n",
       "\n",
       "    .dataframe tbody tr th {\n",
       "        vertical-align: top;\n",
       "    }\n",
       "\n",
       "    .dataframe thead th {\n",
       "        text-align: right;\n",
       "    }\n",
       "</style>\n",
       "<table border=\"1\" class=\"dataframe\">\n",
       "  <thead>\n",
       "    <tr style=\"text-align: right;\">\n",
       "      <th></th>\n",
       "      <th>Class</th>\n",
       "      <th>y_pred_prob</th>\n",
       "      <th>y_pred</th>\n",
       "    </tr>\n",
       "    <tr>\n",
       "      <th>Date</th>\n",
       "      <th></th>\n",
       "      <th></th>\n",
       "      <th></th>\n",
       "    </tr>\n",
       "  </thead>\n",
       "  <tbody>\n",
       "    <tr>\n",
       "      <th>2010-07-29 18:00:00</th>\n",
       "      <td>0.0</td>\n",
       "      <td>0.500000</td>\n",
       "      <td>0.0</td>\n",
       "    </tr>\n",
       "    <tr>\n",
       "      <th>2010-07-30 06:00:00</th>\n",
       "      <td>0.0</td>\n",
       "      <td>0.500000</td>\n",
       "      <td>0.0</td>\n",
       "    </tr>\n",
       "    <tr>\n",
       "      <th>2010-07-31 13:00:00</th>\n",
       "      <td>0.0</td>\n",
       "      <td>0.500000</td>\n",
       "      <td>0.0</td>\n",
       "    </tr>\n",
       "    <tr>\n",
       "      <th>2010-08-01 21:00:00</th>\n",
       "      <td>0.0</td>\n",
       "      <td>0.500000</td>\n",
       "      <td>0.0</td>\n",
       "    </tr>\n",
       "    <tr>\n",
       "      <th>2010-08-03 09:00:00</th>\n",
       "      <td>0.0</td>\n",
       "      <td>0.500000</td>\n",
       "      <td>0.0</td>\n",
       "    </tr>\n",
       "    <tr>\n",
       "      <th>...</th>\n",
       "      <td>...</td>\n",
       "      <td>...</td>\n",
       "      <td>...</td>\n",
       "    </tr>\n",
       "    <tr>\n",
       "      <th>2021-01-30 05:00:00</th>\n",
       "      <td>0.0</td>\n",
       "      <td>0.471136</td>\n",
       "      <td>0.0</td>\n",
       "    </tr>\n",
       "    <tr>\n",
       "      <th>2021-01-30 11:00:00</th>\n",
       "      <td>0.0</td>\n",
       "      <td>0.479180</td>\n",
       "      <td>0.0</td>\n",
       "    </tr>\n",
       "    <tr>\n",
       "      <th>2021-01-30 16:00:00</th>\n",
       "      <td>0.0</td>\n",
       "      <td>0.474162</td>\n",
       "      <td>0.0</td>\n",
       "    </tr>\n",
       "    <tr>\n",
       "      <th>2021-01-30 19:00:00</th>\n",
       "      <td>0.0</td>\n",
       "      <td>0.480584</td>\n",
       "      <td>0.0</td>\n",
       "    </tr>\n",
       "    <tr>\n",
       "      <th>2021-01-30 20:00:00</th>\n",
       "      <td>0.0</td>\n",
       "      <td>0.468103</td>\n",
       "      <td>0.0</td>\n",
       "    </tr>\n",
       "  </tbody>\n",
       "</table>\n",
       "<p>13707 rows × 3 columns</p>\n",
       "</div>"
      ],
      "text/plain": [
       "                     Class  y_pred_prob  y_pred\n",
       "Date                                           \n",
       "2010-07-29 18:00:00    0.0     0.500000     0.0\n",
       "2010-07-30 06:00:00    0.0     0.500000     0.0\n",
       "2010-07-31 13:00:00    0.0     0.500000     0.0\n",
       "2010-08-01 21:00:00    0.0     0.500000     0.0\n",
       "2010-08-03 09:00:00    0.0     0.500000     0.0\n",
       "...                    ...          ...     ...\n",
       "2021-01-30 05:00:00    0.0     0.471136     0.0\n",
       "2021-01-30 11:00:00    0.0     0.479180     0.0\n",
       "2021-01-30 16:00:00    0.0     0.474162     0.0\n",
       "2021-01-30 19:00:00    0.0     0.480584     0.0\n",
       "2021-01-30 20:00:00    0.0     0.468103     0.0\n",
       "\n",
       "[13707 rows x 3 columns]"
      ]
     },
     "execution_count": 88,
     "metadata": {},
     "output_type": "execute_result"
    }
   ],
   "source": [
    "df_y_test[df_y_test['Class']==df_y_test['y_pred']]"
   ]
  },
  {
   "cell_type": "code",
   "execution_count": null,
   "metadata": {
    "ExecuteTime": {
     "end_time": "2021-01-31T17:05:47.619902Z",
     "start_time": "2021-01-31T17:05:47.605848Z"
    }
   },
   "outputs": [],
   "source": [
    "# import plotly.graph_objects as go\n",
    "\n",
    "# # Create traces\n",
    "# fig = go.Figure()\n",
    "# fig.add_trace(go.Scatter(x=df_y_test.index, y=df_y_test['Class'],\n",
    "#                     mode='lines+markers',\n",
    "#                     name='Class - reality'))\n",
    "# fig.add_trace(go.Scatter(x=df_y_test.index, y=df_y_test['y_pred_prob'],\n",
    "#                     mode='lines+markers',\n",
    "#                     name='y_pred'))\n",
    "# fig.show()\n"
   ]
  },
  {
   "cell_type": "code",
   "execution_count": null,
   "metadata": {
    "ExecuteTime": {
     "end_time": "2021-01-31T17:05:47.635008Z",
     "start_time": "2021-01-31T17:05:47.621806Z"
    }
   },
   "outputs": [],
   "source": [
    "# Select Actual Daily Returns in USD from the Data Set Copy\n",
    "df_dataset1_copy_dailyreturns = df_dataset1_copy[['Daily Return in USD']]\n",
    "\n",
    "# # Merge Predictions and Daily Returns Data Frame on the Column \"Date\"\n",
    "# df_y_test_withdailyreturns = pd.merge(\n",
    "#     df_y_test, df_dataset1_copy_dailyreturns, on='Date')\n",
    "\n",
    "# df_dataset1_copy_percentage = df_dataset1_copy[['percentage_daily_return']]\n",
    "# df_y_test_withdailyreturns = pd.merge(\n",
    "#     df_y_test_withdailyreturns, df_dataset1_copy_percentage, on='Date')\n",
    "\n",
    "# # Add Bitcoin Price in USD\n",
    "# df_y_test_withdailyreturns = pd.merge(\n",
    "#     df_y_test_withdailyreturns, df_dataset1['Closed Price USD'], on='Date')\n",
    "\n",
    "# df_y_test_withdailyreturns['y_pred_prob_bereinigt'] = np.where(\n",
    "#     df_y_test_withdailyreturns['y_pred_prob'] < 0.5, 1-df_y_test_withdailyreturns['y_pred_prob'], df_y_test_withdailyreturns['y_pred_prob'])\n",
    "\n",
    "# df_y_test_withdailyreturns[\"Einsatz\"] = einsatz * \\\n",
    "#     df_y_test_withdailyreturns[\"y_pred_prob_bereinigt\"]  # **2\n"
   ]
  },
  {
   "cell_type": "code",
   "execution_count": null,
   "metadata": {},
   "outputs": [],
   "source": []
  },
  {
   "cell_type": "markdown",
   "metadata": {},
   "source": [
    "# Classification Models - Data Set I."
   ]
  },
  {
   "cell_type": "code",
   "execution_count": null,
   "metadata": {
    "ExecuteTime": {
     "end_time": "2021-01-31T16:40:12.750920Z",
     "start_time": "2021-01-31T16:40:12.737862Z"
    }
   },
   "outputs": [],
   "source": [
    "# Function To Show Accuracy Mean and Accuracy Standard Deviation\n",
    "def show_scores(scores):\n",
    "    # Scores Series\n",
    "    print('Scores:', scores)\n",
    "    # Score Mean\n",
    "    print('Mean:', np.mean(scores))\n",
    "    # Score Standard Deviation\n",
    "    print('Standard Deviation:', np.std(scores))"
   ]
  },
  {
   "cell_type": "markdown",
   "metadata": {},
   "source": [
    "# Hyperparam tuning ranfo"
   ]
  },
  {
   "cell_type": "code",
   "execution_count": null,
   "metadata": {
    "ExecuteTime": {
     "end_time": "2021-01-31T16:40:12.766931Z",
     "start_time": "2021-01-31T16:40:12.752823Z"
    }
   },
   "outputs": [],
   "source": [
    "# train_features = X_train\n",
    "# train_labels = y_train\n",
    "# test_features = X_test\n",
    "# test_labels = y_test"
   ]
  },
  {
   "cell_type": "code",
   "execution_count": null,
   "metadata": {
    "ExecuteTime": {
     "end_time": "2021-01-31T16:40:12.782957Z",
     "start_time": "2021-01-31T16:40:12.768813Z"
    }
   },
   "outputs": [],
   "source": [
    "# from numpy import inf\n",
    "\n",
    "# def evaluate(model, test_features, test_labels):\n",
    "#     predictions = model.predict(test_features)\n",
    "#     #print(\"predictions {} _test_labels {} \".format(predictions, test_labels))\n",
    "#     errors = int( np.sum((predictions==test_labels) == False) )\n",
    "#     alle = len(test_labels.values)\n",
    "#     x = errors / alle\n",
    "#     mape = 100 * errors / alle\n",
    "#     accuracy = 100 - mape\n",
    "#     print('Model Performance')\n",
    "#     print('Amount Errors total {} of {} '.format(np.mean(errors), alle))\n",
    "#     print('Accuracy = {:0.2f}%.'.format(accuracy))\n",
    "#     return accuracy\n",
    "    \n",
    "# base_model = RandomForestClassifier(n_estimators = 500)\n",
    "# base_model.fit(train_features, train_labels)\n",
    "# base_accuracy = evaluate(base_model, test_features, test_labels)"
   ]
  },
  {
   "cell_type": "code",
   "execution_count": null,
   "metadata": {
    "ExecuteTime": {
     "end_time": "2021-01-31T16:40:12.798810Z",
     "start_time": "2021-01-31T16:40:12.784736Z"
    }
   },
   "outputs": [],
   "source": [
    "# predictors.shape"
   ]
  },
  {
   "cell_type": "code",
   "execution_count": null,
   "metadata": {
    "ExecuteTime": {
     "end_time": "2021-01-31T16:40:12.814792Z",
     "start_time": "2021-01-31T16:40:12.800694Z"
    }
   },
   "outputs": [
    {
     "data": {
      "text/plain": [
       "{'subsample': 0.7,\n",
       " 'objective': 'binary:logistic',\n",
       " 'n_estimators': 600,\n",
       " 'min_child_weight': 7,\n",
       " 'max_depth': 2,\n",
       " 'learning_rate': 0.1,\n",
       " 'gamma': 4,\n",
       " 'colsample_bytree': 1.0,\n",
       " 'base_score': 0.8}"
      ]
     },
     "execution_count": 95,
     "metadata": {},
     "output_type": "execute_result"
    }
   ],
   "source": [
    "{'subsample': 0.7, 'objective': 'binary:logistic', \n",
    " 'n_estimators': 600, 'min_child_weight': 7, 'max_depth': 2, \n",
    " 'learning_rate': 0.1, 'gamma': 4, 'colsample_bytree': 1.0,\n",
    " 'base_score': 0.8}\n"
   ]
  },
  {
   "cell_type": "code",
   "execution_count": null,
   "metadata": {
    "ExecuteTime": {
     "end_time": "2021-01-31T16:40:12.830737Z",
     "start_time": "2021-01-31T16:40:12.818678Z"
    }
   },
   "outputs": [],
   "source": [
    "# from xgboost import XGBClassifier\n",
    "\n",
    "# multievaluate = []\n",
    "\n",
    "# # base_model = RandomForestClassifier(n_estimators = 500, min_samples_leaf = 4)\n",
    "# base_model = XGBClassifier(base_score=0.8, colsample_bytree=1.0, gamma=4,\n",
    "#               learning_rate=0.1, max_depth=2,\n",
    "#               min_child_weight=7, n_estimators=600,\n",
    "#               objective='binary:logistic', \n",
    "#               subsample=0.7)\n",
    "\n",
    "# for x in range(10):\n",
    "#   # Split Data into Training and Testing\n",
    "#   X_train, X_test, y_train, y_test = train_test_split(\n",
    "#     predictors, target, test_size=0.3, stratify=target)\n",
    "#   train_features = X_train\n",
    "#   train_labels = y_train\n",
    "#   test_features = X_test\n",
    "#   test_labels = y_test\n",
    "  \n",
    "#   base_model.fit(train_features, train_labels)\n",
    "  \n",
    "#   multievaluate.append(evaluate(base_model, test_features, test_labels))\n",
    "\n",
    "# # mean of 10 accuracy runs\n",
    "# print(\"MEAN ACC:\")\n",
    "# np.mean( multievaluate )"
   ]
  },
  {
   "cell_type": "code",
   "execution_count": null,
   "metadata": {
    "ExecuteTime": {
     "end_time": "2021-01-31T16:40:12.846594Z",
     "start_time": "2021-01-31T16:40:12.832608Z"
    }
   },
   "outputs": [],
   "source": [
    "# from sklearn.model_selection import RandomizedSearchCV\n",
    "# # Number of trees in random forest\n",
    "# n_estimators = [int(x) for x in np.linspace(start = 200, stop = 2000, num = 10)]\n",
    "# # Number of features to consider at every split\n",
    "# max_features = ['auto', 'sqrt']\n",
    "# # Maximum number of levels in tree\n",
    "# max_depth = [int(x) for x in np.linspace(10, 110, num = 11)]\n",
    "# max_depth.append(None)\n",
    "# # Minimum number of samples required to split a node\n",
    "# min_samples_split = [2, 5, 10]\n",
    "# # Minimum number of samples required at each leaf node\n",
    "# min_samples_leaf = [1, 2, 4]\n",
    "# # Method of selecting samples for training each tree\n",
    "# bootstrap = [True, False]\n",
    "# # Create the random grid\n",
    "# param_grid = {'n_estimators': n_estimators,\n",
    "#                'max_features': max_features,\n",
    "#                'max_depth': max_depth,\n",
    "#                'min_samples_split': min_samples_split,\n",
    "#                'min_samples_leaf': min_samples_leaf,\n",
    "#                'bootstrap': bootstrap}\n",
    "# print(param_grid)"
   ]
  },
  {
   "cell_type": "code",
   "execution_count": null,
   "metadata": {
    "ExecuteTime": {
     "end_time": "2021-01-31T16:40:12.862528Z",
     "start_time": "2021-01-31T16:40:12.848567Z"
    }
   },
   "outputs": [],
   "source": [
    "# from sklearn.model_selection import GridSearchCV\n",
    "\n",
    "# # Create a based model\n",
    "# model = RandomForestClassifier()\n",
    "# # Instantiate the grid search model\n",
    "# grid_search = GridSearchCV(estimator = model, param_grid = param_grid, \n",
    "#                           cv = 3, n_jobs = -1, verbose = 2)\n",
    "\n",
    "# print(grid_search)"
   ]
  },
  {
   "cell_type": "code",
   "execution_count": null,
   "metadata": {
    "ExecuteTime": {
     "end_time": "2021-01-31T16:40:12.878571Z",
     "start_time": "2021-01-31T16:40:12.863526Z"
    }
   },
   "outputs": [],
   "source": [
    "# # Fit the grid search to the data\n",
    "# grid_search.fit(train_features, train_labels)\n",
    "# grid_search.best_params_"
   ]
  },
  {
   "cell_type": "code",
   "execution_count": null,
   "metadata": {
    "ExecuteTime": {
     "end_time": "2021-01-31T16:40:12.893481Z",
     "start_time": "2021-01-31T16:40:12.880480Z"
    }
   },
   "outputs": [],
   "source": [
    "# best_params = grid_search.best_params_\n",
    "# best_params"
   ]
  },
  {
   "cell_type": "code",
   "execution_count": null,
   "metadata": {
    "ExecuteTime": {
     "end_time": "2021-01-31T16:40:12.908441Z",
     "start_time": "2021-01-31T16:40:12.896441Z"
    }
   },
   "outputs": [],
   "source": [
    "# multievaluate = []\n",
    "\n",
    "# for x in range(10):\n",
    "#   # Split Data into Training and Testing\n",
    "#   X_train, X_test, y_train, y_test = train_test_split(\n",
    "#     predictors, target, test_size=0.3, stratify=target)\n",
    "#   train_features = X_train\n",
    "#   train_labels = y_train\n",
    "#   test_features = X_test\n",
    "#   test_labels = y_test\n",
    "\n",
    "#   multievaluate.append(evaluate(best_grid, test_features, test_labels))\n",
    "\n",
    "# # mean of 10 accuracy runs\n",
    "# print(\"MEAN ACC:\")\n",
    "# np.mean( multievaluate )"
   ]
  },
  {
   "cell_type": "code",
   "execution_count": null,
   "metadata": {
    "ExecuteTime": {
     "end_time": "2021-01-31T16:40:12.954398Z",
     "start_time": "2021-01-31T16:40:12.910593Z"
    }
   },
   "outputs": [],
   "source": [
    "import xlsxwriter\n",
    "# Adjustment of Decimal Places\n",
    "pd.options.display.float_format = '{:.2f}'.format\n",
    "pd.options.display.max_columns = None\n",
    "pd.options.display.max_rows = None"
   ]
  },
  {
   "cell_type": "code",
   "execution_count": null,
   "metadata": {
    "ExecuteTime": {
     "end_time": "2021-01-31T16:40:12.970370Z",
     "start_time": "2021-01-31T16:40:12.956277Z"
    }
   },
   "outputs": [],
   "source": [
    "# import time\n",
    "# import statistics\n",
    "\n",
    "# result_to_csv = []\n",
    "\n",
    "# result_to_csv.append((\"np.mean( multievaluate )\", np.mean( multievaluate ) ))\n",
    "\n",
    "# df_zusammen = pd.DataFrame(result_to_csv)\n",
    "# df_zusammen[\"best_grid\"] = pd.Series([best_grid]) \n",
    "# df_zusammen[\"best_params\"] = pd.Series([best_params]) \n",
    "# df_zusammen[\"param_grid\"] = pd.Series([param_grid]) \n",
    "# df_zusammen[\"X_train.shape\"] = pd.Series([X_train.shape]) \n",
    "# df_zusammen[\"X_test.shape\"] = pd.Series([X_test.shape]) \n",
    "# df_zusammen[\"datacsvpath\"] = pd.Series([datacsvpath])\n",
    "# df_zusammen[\"df_dataset1.columns\"] = pd.Series([df_dataset1.columns.tolist()]) \n",
    "\n",
    "# out_path = \"hptuning_{}_{}_ppd{}.xlsx\".format(int(time.time()), str(model)[:10], str(round(  np.mean( multievaluate ), 2)) )\n",
    "\n",
    "# writer = pd.ExcelWriter(out_path , engine='xlsxwriter')\n",
    "# df_zusammen.to_excel(writer, sheet_name='Tabelle1')\n",
    "# writer.save()"
   ]
  },
  {
   "cell_type": "markdown",
   "metadata": {},
   "source": [
    "## XGBoost - Data Set I."
   ]
  },
  {
   "cell_type": "code",
   "execution_count": null,
   "metadata": {
    "ExecuteTime": {
     "end_time": "2021-01-31T16:40:26.186723Z",
     "start_time": "2021-01-31T16:40:12.972261Z"
    }
   },
   "outputs": [],
   "source": [
    "# Test Accuracy\n",
    "from sklearn.metrics import accuracy_score\n",
    "from xgboost import XGBClassifier\n",
    "\n",
    "# Instantiate Classifier - LogisticRegression\n",
    "model = XGBClassifier(base_score=0.5, booster='gbtree', colsample_bylevel=1,\n",
    "              colsample_bynode=1, colsample_bytree=0.58, gamma=2.5,\n",
    "              learning_rate=0.12049999999999998, max_delta_step=0, max_depth=2,\n",
    "              min_child_weight=0, missing=None, n_estimators=48, n_jobs=1,\n",
    "              nthread=None, objective='reg:squarederror', random_state=0,\n",
    "              reg_alpha=0, reg_lambda=1, scale_pos_weight=1, seed=None,\n",
    "              silent=None, subsample=0.8999999999999999, verbosity=1)\n",
    "\n",
    "accuarylist = []\n",
    "\n",
    "for x in range(2):\n",
    "    # Split Data into Training and Testing\n",
    "    X_train, X_test, y_train, y_test = train_test_split(\n",
    "        predictors, target, test_size=0.3, stratify=target)\n",
    "    \n",
    "    # Train Classifier\n",
    "    model.fit(X_train, y_train)\n",
    "    y_pred = model.predict(X_test)\n",
    "    predictions = [round(value) for value in y_pred]\n",
    "    accuracy = accuracy_score(y_test, predictions)\n",
    "    accuarylist.append(accuracy * 100.0)\n",
    "\n",
    "meanacc = np.mean(accuarylist)"
   ]
  },
  {
   "cell_type": "code",
   "execution_count": null,
   "metadata": {
    "ExecuteTime": {
     "end_time": "2021-01-31T16:40:26.249598Z",
     "start_time": "2021-01-31T16:40:26.188722Z"
    }
   },
   "outputs": [],
   "source": [
    "# Prediction of Classes\n",
    "y_pred = model.predict(X_test)"
   ]
  },
  {
   "cell_type": "code",
   "execution_count": null,
   "metadata": {
    "ExecuteTime": {
     "end_time": "2021-01-31T16:40:26.313507Z",
     "start_time": "2021-01-31T16:40:26.250556Z"
    }
   },
   "outputs": [],
   "source": [
    "# Prediction of Probabilities\n",
    "y_pred_prob = model.predict_proba(X_test)[:,1]"
   ]
  },
  {
   "cell_type": "code",
   "execution_count": null,
   "metadata": {
    "ExecuteTime": {
     "end_time": "2021-01-31T16:40:26.329485Z",
     "start_time": "2021-01-31T16:40:26.315384Z"
    }
   },
   "outputs": [
    {
     "data": {
      "text/plain": [
       "array([0.44921806, 0.5515704 , 0.40364328, 0.43445718, 0.7979975 ,\n",
       "       0.5310994 , 0.54200995, 0.40216625, 0.3836712 , 0.4686783 ],\n",
       "      dtype=float32)"
      ]
     },
     "execution_count": 107,
     "metadata": {},
     "output_type": "execute_result"
    }
   ],
   "source": [
    "# Select Predicted Probabilities\n",
    "y_pred_prob[1:11]"
   ]
  },
  {
   "cell_type": "code",
   "execution_count": null,
   "metadata": {
    "ExecuteTime": {
     "end_time": "2021-01-31T16:40:26.345303Z",
     "start_time": "2021-01-31T16:40:26.331342Z"
    }
   },
   "outputs": [
    {
     "data": {
      "text/plain": [
       "array([1., 0., 0., 1., 1., 1., 0., 1., 1., 0.], dtype=float32)"
      ]
     },
     "execution_count": 108,
     "metadata": {},
     "output_type": "execute_result"
    }
   ],
   "source": [
    "# Select Actual Classes\n",
    "np.array(y_test[1:11])"
   ]
  },
  {
   "cell_type": "code",
   "execution_count": null,
   "metadata": {
    "ExecuteTime": {
     "end_time": "2021-01-31T16:40:26.501991Z",
     "start_time": "2021-01-31T16:40:26.346300Z"
    }
   },
   "outputs": [
    {
     "data": {
      "text/plain": [
       "0.5665346255616966"
      ]
     },
     "execution_count": 109,
     "metadata": {},
     "output_type": "execute_result"
    }
   ],
   "source": [
    "# Train Accuracy\n",
    "model.score(X_train, y_train)"
   ]
  },
  {
   "cell_type": "code",
   "execution_count": null,
   "metadata": {
    "ExecuteTime": {
     "end_time": "2021-01-31T16:40:27.115361Z",
     "start_time": "2021-01-31T16:40:26.504876Z"
    },
    "scrolled": true
   },
   "outputs": [
    {
     "name": "stdout",
     "output_type": "stream",
     "text": [
      "0.562963504182954\n",
      "0.562963504182954\n",
      "0.562963504182954\n",
      "0.562963504182954\n",
      "0.562963504182954\n",
      "0.562963504182954\n",
      "0.562963504182954\n",
      "0.562963504182954\n",
      "0.562963504182954\n",
      "0.562963504182954\n"
     ]
    }
   ],
   "source": [
    "# Test Accuracy\n",
    "for x in range(10):\n",
    "    print(model.score(X_test, y_test))"
   ]
  },
  {
   "cell_type": "code",
   "execution_count": null,
   "metadata": {
    "ExecuteTime": {
     "end_time": "2021-01-31T16:40:27.145264Z",
     "start_time": "2021-01-31T16:40:27.117238Z"
    },
    "scrolled": true
   },
   "outputs": [
    {
     "name": "stdout",
     "output_type": "stream",
     "text": [
      "[[8209 5495]\n",
      " [6468 7201]]\n"
     ]
    }
   ],
   "source": [
    "# Output of Confusion Matrix\n",
    "print(confusion_matrix(y_test, y_pred))"
   ]
  },
  {
   "cell_type": "code",
   "execution_count": null,
   "metadata": {
    "ExecuteTime": {
     "end_time": "2021-01-31T16:40:27.209122Z",
     "start_time": "2021-01-31T16:40:27.147158Z"
    }
   },
   "outputs": [
    {
     "name": "stdout",
     "output_type": "stream",
     "text": [
      "              precision    recall  f1-score   support\n",
      "\n",
      "         0.0       0.56      0.60      0.58     13704\n",
      "         1.0       0.57      0.53      0.55     13669\n",
      "\n",
      "    accuracy                           0.56     27373\n",
      "   macro avg       0.56      0.56      0.56     27373\n",
      "weighted avg       0.56      0.56      0.56     27373\n",
      "\n"
     ]
    }
   ],
   "source": [
    "# Output of Classification Report\n",
    "print(classification_report(y_test, y_pred))"
   ]
  },
  {
   "cell_type": "code",
   "execution_count": null,
   "metadata": {
    "ExecuteTime": {
     "end_time": "2021-01-31T16:40:27.223988Z",
     "start_time": "2021-01-31T16:40:27.211197Z"
    }
   },
   "outputs": [],
   "source": [
    "# Generate ROC curve values: fpr, tpr, thresholds\n",
    "fpr, tpr, thresholds = roc_curve(y_test, y_pred_prob)"
   ]
  },
  {
   "cell_type": "code",
   "execution_count": null,
   "metadata": {
    "ExecuteTime": {
     "end_time": "2021-01-31T16:40:27.239043Z",
     "start_time": "2021-01-31T16:40:27.225948Z"
    }
   },
   "outputs": [],
   "source": [
    "# 10-fold Cross Validation including Stratification\n",
    "skf = StratifiedKFold(shuffle=True, n_splits=10)"
   ]
  },
  {
   "cell_type": "code",
   "execution_count": null,
   "metadata": {
    "ExecuteTime": {
     "end_time": "2021-01-31T16:40:27.254994Z",
     "start_time": "2021-01-31T16:40:27.240940Z"
    }
   },
   "outputs": [
    {
     "name": "stdout",
     "output_type": "stream",
     "text": [
      "AUC: 0.5928584626767195\n"
     ]
    }
   ],
   "source": [
    "# Compute and print AUC Score\n",
    "print(\"AUC: {}\".format(roc_auc_score(y_test, y_pred_prob)))"
   ]
  },
  {
   "cell_type": "code",
   "execution_count": null,
   "metadata": {
    "ExecuteTime": {
     "end_time": "2021-01-31T16:40:30.976047Z",
     "start_time": "2021-01-31T16:40:27.257862Z"
    }
   },
   "outputs": [],
   "source": [
    "# Cross-Validation for AUC scores\n",
    "cv_auc = cross_val_score(lreg, predictors, target, cv=skf, scoring='roc_auc')"
   ]
  },
  {
   "cell_type": "code",
   "execution_count": null,
   "metadata": {
    "ExecuteTime": {
     "end_time": "2021-01-31T16:40:30.991959Z",
     "start_time": "2021-01-31T16:40:30.978909Z"
    }
   },
   "outputs": [
    {
     "name": "stdout",
     "output_type": "stream",
     "text": [
      "AUC scores computed using 10-fold cross-validation: [0.52933551 0.52726421 0.53782877 0.53436078 0.5258461  0.53289508\n",
      " 0.54427914 0.53039063 0.53129089 0.53015062]\n"
     ]
    }
   ],
   "source": [
    "# Print List of AUC scores\n",
    "print(\"AUC scores computed using 10-fold cross-validation: {}\".format(cv_auc))"
   ]
  },
  {
   "cell_type": "code",
   "execution_count": null,
   "metadata": {
    "ExecuteTime": {
     "end_time": "2021-01-31T16:40:34.784814Z",
     "start_time": "2021-01-31T16:40:30.993870Z"
    }
   },
   "outputs": [],
   "source": [
    "# Cross-Validation for Accuracy Scores\n",
    "cv_acc = cross_val_score(lreg, predictors, target, cv=skf, scoring='accuracy')"
   ]
  },
  {
   "cell_type": "code",
   "execution_count": null,
   "metadata": {
    "ExecuteTime": {
     "end_time": "2021-01-31T16:40:34.800715Z",
     "start_time": "2021-01-31T16:40:34.786727Z"
    }
   },
   "outputs": [
    {
     "name": "stdout",
     "output_type": "stream",
     "text": [
      "Accuracy scores computed using 10-fold cross-validation: [0.50060274 0.50060274 0.5003288  0.50065761 0.50120561 0.50065761\n",
      " 0.50054801 0.50098641 0.50054801 0.50065761]\n"
     ]
    }
   ],
   "source": [
    "# Print List of Accuracy Scores\n",
    "print(\"Accuracy scores computed using 10-fold cross-validation: {}\".format(cv_acc))"
   ]
  },
  {
   "cell_type": "code",
   "execution_count": null,
   "metadata": {
    "ExecuteTime": {
     "end_time": "2021-01-31T16:40:34.832602Z",
     "start_time": "2021-01-31T16:40:34.826618Z"
    },
    "scrolled": true
   },
   "outputs": [
    {
     "name": "stdout",
     "output_type": "stream",
     "text": [
      "Scores: [0.50060274 0.50060274 0.5003288  0.50065761 0.50120561 0.50065761\n",
      " 0.50054801 0.50098641 0.50054801 0.50065761]\n",
      "Mean: 0.500679513311273\n",
      "Standard Deviation: 0.0002327614868632552\n"
     ]
    }
   ],
   "source": [
    "# Accuracy Results - Mean and Standard Deviation\n",
    "show_scores(cv_acc)"
   ]
  },
  {
   "cell_type": "markdown",
   "metadata": {},
   "source": [
    "## Logistic Regression - Data Set I."
   ]
  },
  {
   "cell_type": "code",
   "execution_count": null,
   "metadata": {
    "ExecuteTime": {
     "end_time": "2021-01-31T16:40:34.848559Z",
     "start_time": "2021-01-31T16:40:34.837588Z"
    }
   },
   "outputs": [],
   "source": [
    "# Instantiate Classifier - LogisticRegression\n",
    "lreg = LogisticRegression(C=1000, max_iter=1200, penalty='l1', solver='liblinear')"
   ]
  },
  {
   "cell_type": "code",
   "execution_count": null,
   "metadata": {
    "ExecuteTime": {
     "end_time": "2021-01-31T16:40:34.924423Z",
     "start_time": "2021-01-31T16:40:34.850554Z"
    }
   },
   "outputs": [],
   "source": [
    "# Instantiation of MinMaxScaler\n",
    "norm_scaler = MinMaxScaler()\n",
    "\n",
    "# Training and Application of Feature Scaler on Training Data of Predictors\n",
    "X_train_scaled = pd.DataFrame(norm_scaler.fit_transform(X_train))\n",
    "\n",
    "# Application of Feature Scaler on Test Data of Predictors\n",
    "X_test_scaled = norm_scaler.transform(X_test)"
   ]
  },
  {
   "cell_type": "code",
   "execution_count": null,
   "metadata": {
    "ExecuteTime": {
     "start_time": "2021-01-31T16:37:16.076Z"
    }
   },
   "outputs": [],
   "source": [
    "# Train Classifier\n",
    "lreg.fit(X_train_scaled, y_train)"
   ]
  },
  {
   "cell_type": "code",
   "execution_count": null,
   "metadata": {
    "ExecuteTime": {
     "start_time": "2021-01-31T16:37:16.092Z"
    }
   },
   "outputs": [],
   "source": [
    "# Prediction of Classes\n",
    "y_pred = lreg.predict(X_test_scaled)"
   ]
  },
  {
   "cell_type": "code",
   "execution_count": null,
   "metadata": {
    "ExecuteTime": {
     "start_time": "2021-01-31T16:37:16.112Z"
    }
   },
   "outputs": [],
   "source": [
    "# Prediction of Probabilities\n",
    "y_pred_prob = lreg.predict_proba(X_test_scaled)[:,1]"
   ]
  },
  {
   "cell_type": "code",
   "execution_count": null,
   "metadata": {
    "ExecuteTime": {
     "start_time": "2021-01-31T16:37:16.136Z"
    }
   },
   "outputs": [],
   "source": [
    "# Select Predicted Probabilities\n",
    "y_pred_prob[1:11]"
   ]
  },
  {
   "cell_type": "code",
   "execution_count": null,
   "metadata": {
    "ExecuteTime": {
     "start_time": "2021-01-31T16:37:16.159Z"
    }
   },
   "outputs": [],
   "source": [
    "# Select Actual Classes\n",
    "np.array(y_test[1:11])"
   ]
  },
  {
   "cell_type": "code",
   "execution_count": null,
   "metadata": {
    "ExecuteTime": {
     "start_time": "2021-01-31T16:37:16.180Z"
    }
   },
   "outputs": [],
   "source": [
    "# Train Accuracy\n",
    "lreg.score(X_train_scaled, y_train)"
   ]
  },
  {
   "cell_type": "code",
   "execution_count": null,
   "metadata": {
    "ExecuteTime": {
     "start_time": "2021-01-31T16:37:16.199Z"
    },
    "scrolled": true
   },
   "outputs": [],
   "source": [
    "# Test Accuracy\n",
    "lreg.score(X_test_scaled, y_test)"
   ]
  },
  {
   "cell_type": "code",
   "execution_count": null,
   "metadata": {
    "ExecuteTime": {
     "start_time": "2021-01-31T16:37:16.217Z"
    },
    "scrolled": true
   },
   "outputs": [],
   "source": [
    "# Output of Confusion Matrix\n",
    "print(confusion_matrix(y_test, y_pred))"
   ]
  },
  {
   "cell_type": "code",
   "execution_count": null,
   "metadata": {
    "ExecuteTime": {
     "start_time": "2021-01-31T16:37:16.235Z"
    }
   },
   "outputs": [],
   "source": [
    "# Output of Classification Report\n",
    "print(classification_report(y_test, y_pred))"
   ]
  },
  {
   "cell_type": "code",
   "execution_count": null,
   "metadata": {
    "ExecuteTime": {
     "start_time": "2021-01-31T16:37:16.252Z"
    }
   },
   "outputs": [],
   "source": [
    "# Generate ROC curve values: fpr, tpr, thresholds\n",
    "fpr, tpr, thresholds = roc_curve(y_test, y_pred_prob)"
   ]
  },
  {
   "cell_type": "code",
   "execution_count": null,
   "metadata": {
    "ExecuteTime": {
     "start_time": "2021-01-31T16:37:16.268Z"
    }
   },
   "outputs": [],
   "source": [
    "# 10-fold Cross Validation including Stratification\n",
    "skf = StratifiedKFold(shuffle=True, n_splits=10)"
   ]
  },
  {
   "cell_type": "code",
   "execution_count": null,
   "metadata": {
    "ExecuteTime": {
     "start_time": "2021-01-31T16:37:16.285Z"
    }
   },
   "outputs": [],
   "source": [
    "# Compute and print AUC Score\n",
    "print(\"AUC: {}\".format(roc_auc_score(y_test, y_pred_prob)))"
   ]
  },
  {
   "cell_type": "code",
   "execution_count": null,
   "metadata": {
    "ExecuteTime": {
     "start_time": "2021-01-31T16:37:16.302Z"
    }
   },
   "outputs": [],
   "source": [
    "# # Cross-Validation for AUC scores\n",
    "# cv_auc = cross_val_score(lreg, predictors_scaled, target, cv=skf, scoring='roc_auc')"
   ]
  },
  {
   "cell_type": "code",
   "execution_count": null,
   "metadata": {
    "ExecuteTime": {
     "start_time": "2021-01-31T16:37:16.319Z"
    }
   },
   "outputs": [],
   "source": [
    "# # Print List of AUC scores\n",
    "# print(\"AUC scores computed using 10-fold cross-validation: {}\".format(cv_auc))"
   ]
  },
  {
   "cell_type": "code",
   "execution_count": null,
   "metadata": {
    "ExecuteTime": {
     "start_time": "2021-01-31T16:37:16.336Z"
    }
   },
   "outputs": [],
   "source": [
    "# # Cross-Validation for Accuracy Scores\n",
    "# cv_acc = cross_val_score(lreg, predictors_scaled, target, cv=skf, scoring='accuracy')"
   ]
  },
  {
   "cell_type": "code",
   "execution_count": null,
   "metadata": {
    "ExecuteTime": {
     "start_time": "2021-01-31T16:37:16.352Z"
    }
   },
   "outputs": [],
   "source": [
    "# # Print List of Accuracy Scores\n",
    "# print(\"Accuracy scores computed using 10-fold cross-validation: {}\".format(cv_acc))"
   ]
  },
  {
   "cell_type": "code",
   "execution_count": null,
   "metadata": {
    "ExecuteTime": {
     "start_time": "2021-01-31T16:37:16.367Z"
    }
   },
   "outputs": [],
   "source": [
    "# # Accuracy Results - Mean and Standard Deviation\n",
    "# show_scores(cv_acc)"
   ]
  },
  {
   "cell_type": "markdown",
   "metadata": {},
   "source": [
    "## XGBoost - Data Set I."
   ]
  },
  {
   "cell_type": "code",
   "execution_count": null,
   "metadata": {
    "ExecuteTime": {
     "start_time": "2021-01-31T16:37:16.383Z"
    }
   },
   "outputs": [],
   "source": [
    "from xgboost import XGBClassifier\n",
    "\n",
    "# Instantiate Classifier - LogisticRegression\n",
    "model = XGBClassifier(base_score=0.5, booster='gbtree', colsample_bylevel=1,\n",
    "              colsample_bynode=1, colsample_bytree=0.7, gamma=0, gpu_id=-1,\n",
    "              importance_type='gain', interaction_constraints='',\n",
    "              learning_rate=0.01, max_delta_step=0, max_depth=3,\n",
    "              min_child_weight=1, monotone_constraints='()',\n",
    "              n_estimators=200, n_jobs=0, num_parallel_tree=1,\n",
    "              objective='reg:squarederror', random_state=0, reg_alpha=0,\n",
    "              reg_lambda=1, scale_pos_weight=1, subsample=0.7,\n",
    "              tree_method='exact', validate_parameters=1, verbosity=None)"
   ]
  },
  {
   "cell_type": "code",
   "execution_count": null,
   "metadata": {
    "ExecuteTime": {
     "start_time": "2021-01-31T16:37:16.397Z"
    }
   },
   "outputs": [],
   "source": [
    "# Test Accuracy\n",
    "from sklearn.metrics import accuracy_score\n",
    "from xgboost import XGBClassifier\n",
    "\n",
    "# Instantiate Classifier - LogisticRegression\n",
    "model = XGBClassifier(base_score=0.5, booster='gbtree', colsample_bylevel=1,\n",
    "              colsample_bynode=1, colsample_bytree=0.7, gamma=0, gpu_id=-1,\n",
    "              importance_type='gain', interaction_constraints='',\n",
    "              learning_rate=0.01, max_delta_step=0, max_depth=3,\n",
    "              min_child_weight=1, monotone_constraints='()',\n",
    "              n_estimators=200, n_jobs=0, num_parallel_tree=1,\n",
    "              objective='reg:squarederror', random_state=0, reg_alpha=0,\n",
    "              reg_lambda=1, scale_pos_weight=1, subsample=0.7,\n",
    "              tree_method='exact', validate_parameters=1, verbosity=None)\n",
    "\n",
    "accuarylist = []\n",
    "\n",
    "for x in range(2):\n",
    "    # Split Data into Training and Testing\n",
    "    X_train, X_test, y_train, y_test = train_test_split(\n",
    "        predictors, target, test_size=0.3, stratify=target)\n",
    "\n",
    "    # Train Classifier\n",
    "    model.fit(X_train, y_train)\n",
    "    y_pred = model.predict(X_test)\n",
    "    predictions = [round(value) for value in y_pred]\n",
    "    accuracy = accuracy_score(y_test, predictions)\n",
    "    accuarylist.append(accuracy * 100.0)\n",
    "\n",
    "meanacc = np.mean(accuarylist)"
   ]
  },
  {
   "cell_type": "code",
   "execution_count": null,
   "metadata": {
    "ExecuteTime": {
     "start_time": "2021-01-31T16:37:16.413Z"
    }
   },
   "outputs": [],
   "source": [
    "# Prediction of Classes\n",
    "y_pred = model.predict(X_test)"
   ]
  },
  {
   "cell_type": "code",
   "execution_count": null,
   "metadata": {
    "ExecuteTime": {
     "start_time": "2021-01-31T16:37:16.430Z"
    }
   },
   "outputs": [],
   "source": [
    "# Prediction of Probabilities\n",
    "y_pred_prob = model.predict_proba(X_test)[:,1]"
   ]
  },
  {
   "cell_type": "code",
   "execution_count": null,
   "metadata": {
    "ExecuteTime": {
     "start_time": "2021-01-31T16:37:16.445Z"
    }
   },
   "outputs": [],
   "source": [
    "# Select Predicted Probabilities\n",
    "y_pred_prob[1:11]"
   ]
  },
  {
   "cell_type": "code",
   "execution_count": null,
   "metadata": {
    "ExecuteTime": {
     "start_time": "2021-01-31T16:37:16.461Z"
    }
   },
   "outputs": [],
   "source": [
    "# Select Actual Classes\n",
    "np.array(y_test[1:11])"
   ]
  },
  {
   "cell_type": "code",
   "execution_count": null,
   "metadata": {
    "ExecuteTime": {
     "start_time": "2021-01-31T16:37:16.476Z"
    }
   },
   "outputs": [],
   "source": [
    "# Train Accuracy\n",
    "model.score(X_train, y_train)"
   ]
  },
  {
   "cell_type": "code",
   "execution_count": null,
   "metadata": {
    "ExecuteTime": {
     "start_time": "2021-01-31T16:37:16.491Z"
    },
    "scrolled": true
   },
   "outputs": [],
   "source": [
    "# Test Accuracy\n",
    "for x in range(10):\n",
    "    print(model.score(X_test, y_test))"
   ]
  },
  {
   "cell_type": "code",
   "execution_count": null,
   "metadata": {
    "ExecuteTime": {
     "start_time": "2021-01-31T16:37:16.506Z"
    },
    "scrolled": true
   },
   "outputs": [],
   "source": [
    "# Output of Confusion Matrix\n",
    "print(confusion_matrix(y_test, y_pred))"
   ]
  },
  {
   "cell_type": "code",
   "execution_count": null,
   "metadata": {
    "ExecuteTime": {
     "start_time": "2021-01-31T16:37:16.521Z"
    }
   },
   "outputs": [],
   "source": [
    "# Output of Classification Report\n",
    "print(classification_report(y_test, y_pred))"
   ]
  },
  {
   "cell_type": "code",
   "execution_count": null,
   "metadata": {
    "ExecuteTime": {
     "start_time": "2021-01-31T16:37:16.536Z"
    }
   },
   "outputs": [],
   "source": [
    "# Generate ROC curve values: fpr, tpr, thresholds\n",
    "fpr, tpr, thresholds = roc_curve(y_test, y_pred_prob)"
   ]
  },
  {
   "cell_type": "code",
   "execution_count": null,
   "metadata": {
    "ExecuteTime": {
     "start_time": "2021-01-31T16:37:16.550Z"
    }
   },
   "outputs": [],
   "source": [
    "# 10-fold Cross Validation including Stratification\n",
    "skf = StratifiedKFold(shuffle=True, n_splits=10)"
   ]
  },
  {
   "cell_type": "code",
   "execution_count": null,
   "metadata": {
    "ExecuteTime": {
     "start_time": "2021-01-31T16:37:16.564Z"
    }
   },
   "outputs": [],
   "source": [
    "# Compute and print AUC Score\n",
    "print(\"AUC: {}\".format(roc_auc_score(y_test, y_pred_prob)))"
   ]
  },
  {
   "cell_type": "code",
   "execution_count": null,
   "metadata": {
    "ExecuteTime": {
     "start_time": "2021-01-31T16:37:16.579Z"
    }
   },
   "outputs": [],
   "source": [
    "# Cross-Validation for AUC scores\n",
    "cv_auc = cross_val_score(model, predictors, target, cv=skf, scoring='roc_auc')"
   ]
  },
  {
   "cell_type": "code",
   "execution_count": null,
   "metadata": {
    "ExecuteTime": {
     "start_time": "2021-01-31T16:37:16.594Z"
    }
   },
   "outputs": [],
   "source": [
    "# Print List of AUC scores\n",
    "print(\"AUC scores computed using 10-fold cross-validation: {}\".format(cv_auc))"
   ]
  },
  {
   "cell_type": "code",
   "execution_count": null,
   "metadata": {
    "ExecuteTime": {
     "start_time": "2021-01-31T16:37:16.609Z"
    }
   },
   "outputs": [],
   "source": [
    "# Cross-Validation for Accuracy Scores\n",
    "cv_acc = cross_val_score(model, predictors, target, cv=skf, scoring='accuracy')"
   ]
  },
  {
   "cell_type": "code",
   "execution_count": null,
   "metadata": {
    "ExecuteTime": {
     "start_time": "2021-01-31T16:37:16.623Z"
    }
   },
   "outputs": [],
   "source": [
    "# Print List of Accuracy Scores\n",
    "print(\"Accuracy scores computed using 10-fold cross-validation: {}\".format(cv_acc))"
   ]
  },
  {
   "cell_type": "code",
   "execution_count": null,
   "metadata": {
    "ExecuteTime": {
     "start_time": "2021-01-31T16:37:16.637Z"
    },
    "scrolled": true
   },
   "outputs": [],
   "source": [
    "# Accuracy Results - Mean and Standard Deviation\n",
    "show_scores(cv_acc)"
   ]
  },
  {
   "cell_type": "code",
   "execution_count": null,
   "metadata": {
    "ExecuteTime": {
     "start_time": "2021-01-31T16:37:16.654Z"
    },
    "scrolled": true
   },
   "outputs": [],
   "source": [
    "# Accuracy Results - Mean and Standard Deviation\n",
    "show_scores(cv_acc)"
   ]
  },
  {
   "cell_type": "markdown",
   "metadata": {},
   "source": [
    "## Random Forest Classifier - Data Set I."
   ]
  },
  {
   "cell_type": "code",
   "execution_count": null,
   "metadata": {
    "ExecuteTime": {
     "start_time": "2021-01-31T16:37:16.675Z"
    }
   },
   "outputs": [],
   "source": [
    "# Instantiate Classifier - Random Forest\n",
    "rfc = RandomForestClassifier(max_depth=5, max_features='sqrt', min_samples_leaf=2,\n",
    "                       min_samples_split=10, n_estimators=1000)"
   ]
  },
  {
   "cell_type": "code",
   "execution_count": null,
   "metadata": {
    "ExecuteTime": {
     "start_time": "2021-01-31T16:37:16.690Z"
    }
   },
   "outputs": [],
   "source": [
    "# Train Classifier\n",
    "rfc.fit(X_train, y_train)"
   ]
  },
  {
   "cell_type": "code",
   "execution_count": null,
   "metadata": {
    "ExecuteTime": {
     "start_time": "2021-01-31T16:37:16.705Z"
    }
   },
   "outputs": [],
   "source": [
    "# Prediction of Classes\n",
    "y_pred = rfc.predict(X_test)"
   ]
  },
  {
   "cell_type": "code",
   "execution_count": null,
   "metadata": {
    "ExecuteTime": {
     "start_time": "2021-01-31T16:37:16.721Z"
    }
   },
   "outputs": [],
   "source": [
    "# Prediction of Probabilities\n",
    "y_pred_prob = rfc.predict_proba(X_test)[:,1]"
   ]
  },
  {
   "cell_type": "code",
   "execution_count": null,
   "metadata": {
    "ExecuteTime": {
     "start_time": "2021-01-31T16:37:16.737Z"
    }
   },
   "outputs": [],
   "source": [
    "# Select Predicted Probabilities\n",
    "y_pred_prob[1:11]"
   ]
  },
  {
   "cell_type": "code",
   "execution_count": null,
   "metadata": {
    "ExecuteTime": {
     "start_time": "2021-01-31T16:37:16.752Z"
    }
   },
   "outputs": [],
   "source": [
    "# Train Accuracy\n",
    "rfc.score(X_train, y_train)"
   ]
  },
  {
   "cell_type": "code",
   "execution_count": null,
   "metadata": {
    "ExecuteTime": {
     "start_time": "2021-01-31T16:37:16.766Z"
    }
   },
   "outputs": [],
   "source": [
    "# Test Accuracy\n",
    "rfc.score(X_test, y_test)"
   ]
  },
  {
   "cell_type": "code",
   "execution_count": null,
   "metadata": {
    "ExecuteTime": {
     "start_time": "2021-01-31T16:37:16.781Z"
    }
   },
   "outputs": [],
   "source": [
    "# Output of Confusion Matrix\n",
    "print(confusion_matrix(y_test, y_pred))"
   ]
  },
  {
   "cell_type": "code",
   "execution_count": null,
   "metadata": {
    "ExecuteTime": {
     "start_time": "2021-01-31T16:37:16.797Z"
    }
   },
   "outputs": [],
   "source": [
    "# Output of Classification Report\n",
    "print(classification_report(y_test, y_pred))"
   ]
  },
  {
   "cell_type": "code",
   "execution_count": null,
   "metadata": {
    "ExecuteTime": {
     "start_time": "2021-01-31T16:37:16.812Z"
    }
   },
   "outputs": [],
   "source": [
    "# Generate ROC curve values: fpr, tpr, thresholds\n",
    "fpr, tpr, thresholds = roc_curve(y_test, y_pred_prob)"
   ]
  },
  {
   "cell_type": "code",
   "execution_count": null,
   "metadata": {
    "ExecuteTime": {
     "start_time": "2021-01-31T16:37:16.827Z"
    }
   },
   "outputs": [],
   "source": [
    "# 10-fold Cross Validation including Stratification\n",
    "skf = StratifiedKFold(shuffle=True, n_splits=10)"
   ]
  },
  {
   "cell_type": "code",
   "execution_count": null,
   "metadata": {
    "ExecuteTime": {
     "start_time": "2021-01-31T16:37:16.842Z"
    }
   },
   "outputs": [],
   "source": [
    "# Compute and print AUC score\n",
    "print(\"AUC: {}\".format(roc_auc_score(y_test, y_pred_prob)))"
   ]
  },
  {
   "cell_type": "code",
   "execution_count": null,
   "metadata": {
    "ExecuteTime": {
     "start_time": "2021-01-31T16:37:16.856Z"
    }
   },
   "outputs": [],
   "source": [
    "# Cross-Validation for AUC scores\n",
    "cv_auc = cross_val_score(rfc, predictors, target, cv=skf, scoring='roc_auc')"
   ]
  },
  {
   "cell_type": "code",
   "execution_count": null,
   "metadata": {
    "ExecuteTime": {
     "start_time": "2021-01-31T16:37:16.870Z"
    }
   },
   "outputs": [],
   "source": [
    "# Print List of AUC scores\n",
    "print(\"AUC scores computed using 10-fold cross-validation: {}\".format(cv_auc))"
   ]
  },
  {
   "cell_type": "code",
   "execution_count": null,
   "metadata": {
    "ExecuteTime": {
     "start_time": "2021-01-31T16:37:16.885Z"
    }
   },
   "outputs": [],
   "source": [
    "# Cross-Validation for Accuracy Scores\n",
    "cv_acc = cross_val_score(rfc, predictors, target, cv=skf, scoring='accuracy')"
   ]
  },
  {
   "cell_type": "code",
   "execution_count": null,
   "metadata": {
    "ExecuteTime": {
     "start_time": "2021-01-31T16:37:16.900Z"
    }
   },
   "outputs": [],
   "source": [
    "# Print List of Accuracy Scores\n",
    "print(\"Accuracy scores computed using 10-fold cross-validation: {}\".format(cv_acc))"
   ]
  },
  {
   "cell_type": "code",
   "execution_count": null,
   "metadata": {
    "ExecuteTime": {
     "start_time": "2021-01-31T16:37:16.916Z"
    }
   },
   "outputs": [],
   "source": [
    "# Accuracy Results - Mean and Standard Deviation\n",
    "show_scores(cv_acc)"
   ]
  },
  {
   "cell_type": "markdown",
   "metadata": {},
   "source": [
    "# Trading Strategy - Data Set I"
   ]
  },
  {
   "cell_type": "markdown",
   "metadata": {},
   "source": [
    "## Trading Strategy in Combination with Logistic Regression"
   ]
  },
  {
   "cell_type": "code",
   "execution_count": null,
   "metadata": {
    "ExecuteTime": {
     "end_time": "2021-01-31T17:12:10.450345Z",
     "start_time": "2021-01-31T17:12:10.433088Z"
    }
   },
   "outputs": [],
   "source": [
    "target"
   ]
  },
  {
   "cell_type": "code",
   "execution_count": null,
   "metadata": {
    "ExecuteTime": {
     "end_time": "2021-01-31T17:12:10.466200Z",
     "start_time": "2021-01-31T17:12:10.451871Z"
    }
   },
   "outputs": [],
   "source": [
    "predictors"
   ]
  },
  {
   "cell_type": "code",
   "execution_count": null,
   "metadata": {
    "ExecuteTime": {
     "end_time": "2021-01-31T17:12:10.482219Z",
     "start_time": "2021-01-31T17:12:10.468285Z"
    }
   },
   "outputs": [],
   "source": [
    "for x in df_dataset1.columns:\n",
    "    print(x)"
   ]
  },
  {
   "cell_type": "code",
   "execution_count": null,
   "metadata": {
    "ExecuteTime": {
     "end_time": "2021-01-31T17:12:10.497564Z",
     "start_time": "2021-01-31T17:12:10.484148Z"
    }
   },
   "outputs": [],
   "source": [
    "df_dataset1_copy[['Daily Return in USD']]"
   ]
  },
  {
   "cell_type": "code",
   "execution_count": null,
   "metadata": {
    "ExecuteTime": {
     "end_time": "2021-01-31T17:12:10.513069Z",
     "start_time": "2021-01-31T17:12:10.499550Z"
    }
   },
   "outputs": [],
   "source": [
    "# Create Lists To Store All Calculated Values For Every Variable of Every Run\n",
    "# Specified Period\n",
    "# Threshold 0.5\n",
    "spec_list_05_total = []\n",
    "spec_list_05_profit = []\n",
    "spec_list_05_loss = []\n",
    "spec_list_05_trans = []\n",
    "spec_list_05_acc = []\n",
    "spec_list_05_preds_corr = []\n",
    "spec_list_05_preds = []\n",
    "# Threshold 0.6\n",
    "spec_list_06_total = []\n",
    "spec_list_06_profit = []\n",
    "spec_list_06_loss = []\n",
    "spec_list_06_trans = []\n",
    "spec_list_06_acc = []\n",
    "spec_list_06_preds_corr = []\n",
    "spec_list_06_preds = []\n",
    "# Threshold 0.7\n",
    "spec_list_07_total = []\n",
    "spec_list_07_profit = []\n",
    "spec_list_07_loss = []\n",
    "spec_list_07_trans = []\n",
    "spec_list_07_acc = []\n",
    "spec_list_07_preds_corr = []\n",
    "spec_list_07_preds = []\n",
    "# Threshold 0.8\n",
    "spec_list_08_total = []\n",
    "spec_list_08_profit = []\n",
    "spec_list_08_loss = []\n",
    "spec_list_08_trans = []\n",
    "spec_list_08_acc = []\n",
    "spec_list_08_preds_corr = []\n",
    "spec_list_08_preds = []\n",
    "\n",
    "# Entire Period\n",
    "# Threshold 0.5\n",
    "list_05_total = []\n",
    "list_05_profit = []\n",
    "list_05_loss = []\n",
    "list_05_trans = []\n",
    "list_05_acc = []\n",
    "list_05_preds_corr = []\n",
    "list_05_preds = []\n",
    "# Threshold 0.6\n",
    "list_06_total = []\n",
    "list_06_profit = []\n",
    "list_06_loss = []\n",
    "list_06_trans = []\n",
    "list_06_acc = []\n",
    "list_06_preds_corr = []\n",
    "list_06_preds = []\n",
    "# Threshold 0.7\n",
    "list_07_total = []\n",
    "list_07_profit = []\n",
    "list_07_loss = []\n",
    "list_07_trans = []\n",
    "list_07_acc = []\n",
    "list_07_preds_corr = []\n",
    "list_07_preds = []\n",
    "# Threshold 0.8\n",
    "list_08_total = []\n",
    "list_08_profit = []\n",
    "list_08_loss = []\n",
    "list_08_trans = []\n",
    "list_08_acc = []\n",
    "list_08_preds_corr = []\n",
    "list_08_preds = []"
   ]
  },
  {
   "cell_type": "code",
   "execution_count": null,
   "metadata": {
    "ExecuteTime": {
     "end_time": "2021-01-31T17:12:10.529058Z",
     "start_time": "2021-01-31T17:12:10.515064Z"
    }
   },
   "outputs": [],
   "source": [
    "df_dataset1_copy[\"percentage_daily_return\"] = df_dataset1_copy[\"Daily Return in USD\"]/df_dataset1_copy[\"Closed Price USD\"]\n",
    "df_dataset1_copy[\"percentage_daily_return\"]"
   ]
  },
  {
   "cell_type": "markdown",
   "metadata": {},
   "source": [
    "# inserted only bet on rising! because of good precision there!"
   ]
  },
  {
   "cell_type": "code",
   "execution_count": null,
   "metadata": {
    "ExecuteTime": {
     "end_time": "2021-02-01T07:55:58.813235Z",
     "start_time": "2021-01-31T22:39:26.558038Z"
    },
    "scrolled": true
   },
   "outputs": [],
   "source": [
    "einsatz = 1000\n",
    "prestakepercentlist = []\n",
    "zinseszins = []\n",
    "profitpercent = []\n",
    "current_profitpercent = []\n",
    "spec_start_date = '2019-09-09'\n",
    "\n",
    "prestakepercentlist51 = []\n",
    "prestakepercentlist52 = []\n",
    "prestakepercentlist53 = []\n",
    "\n",
    "profitpercent51 = []\n",
    "profitpercent52 = []\n",
    "profitpercent53 = []\n",
    "\n",
    "current_profitpercent51 = []\n",
    "current_profitpercent52 = []\n",
    "current_profitpercent53 = []\n",
    "\n",
    "zinseszins51 = []\n",
    "zinseszins52 = []\n",
    "zinseszins53 = []\n",
    "\n",
    "current_zinseszins = []\n",
    "current_zinseszins51 = []\n",
    "current_zinseszins52 = []\n",
    "current_zinseszins53 = []\n",
    "\n",
    "\n",
    "# For Loop to Simulate K-fold Cross Validation\n",
    "for x in range(1, 10):\n",
    "\n",
    "    # Display Number of Runs\n",
    "    print(\"Run:\", x)\n",
    "\n",
    "    # Split Data into Training and Testing\n",
    "    X_train, X_test, y_train, y_test = train_test_split(\n",
    "        predictors, target, test_size=0.3, stratify=target)\n",
    "\n",
    "    # Amount of Columns\n",
    "    n_nodes = predictors.shape[1]\n",
    "\n",
    "    lreg = RandomForestClassifier(bootstrap=False, min_samples_leaf=4,\n",
    "                                  min_samples_split=5, n_estimators=200)\n",
    "\n",
    "    # Train Classifier\n",
    "    lreg.fit(X_train, y_train)\n",
    "\n",
    "    # Prediction of Classes\n",
    "    y_pred = lreg.predict(X_test)\n",
    "\n",
    "    # Display Confusion Matrix and Classification Report\n",
    "    print(confusion_matrix(y_test, y_pred))\n",
    "#     print(classification_report(y_test, y_pred))\n",
    "\n",
    "    # Prediction of Probabilities\n",
    "    y_pred_prob = lreg.predict_proba(X_test)[:, 1]\n",
    "\n",
    "    # Create Data Frame of Actual Values - y_test\n",
    "    df_y_test = pd.DataFrame(y_test)\n",
    "\n",
    "    # Add Predicted Probabilities to Data Frame\n",
    "    df_y_test[\"y_pred_prob\"] = y_pred_prob\n",
    "\n",
    "    # Add Predicted Classes (0 or 1) to Data Frame to Cross-Check Predicted Probabilities\n",
    "    df_y_test[\"y_pred\"] = y_pred\n",
    "\n",
    "    # Select Actual Daily Returns in USD from the Data Set Copy\n",
    "    df_dataset1_copy_dailyreturns = df_dataset1_copy[['Daily Return in USD']]\n",
    "\n",
    "    # Merge Predictions and Daily Returns Data Frame on the Column \"Date\"\n",
    "    df_y_test_withdailyreturns = pd.merge(\n",
    "        df_y_test, df_dataset1_copy_dailyreturns, on='Date')\n",
    "\n",
    "    df_dataset1_copy_percentage = df_dataset1_copy[['percentage_daily_return']]\n",
    "    df_y_test_withdailyreturns = pd.merge(\n",
    "        df_y_test_withdailyreturns, df_dataset1_copy_percentage, on='Date')\n",
    "\n",
    "    # Add Bitcoin Price in USD\n",
    "    df_y_test_withdailyreturns = pd.merge(\n",
    "        df_y_test_withdailyreturns, df_dataset1_copy['Closed Price USD'], on='Date')\n",
    "\n",
    "    df_y_test_withdailyreturns['y_pred_prob_bereinigt'] = np.where(\n",
    "        df_y_test_withdailyreturns['y_pred_prob'] < 0.5, 1-df_y_test_withdailyreturns['y_pred_prob'], df_y_test_withdailyreturns['y_pred_prob'])\n",
    "\n",
    "    df_y_test_withdailyreturns[\"Einsatz\"] = einsatz  # * \\\n",
    "    # df_y_test_withdailyreturns[\"y_pred_prob_bereinigt\"]  # **2\n",
    "\n",
    "    # Add and Calculate Transaction Costs based on the Bitcoin Price in USD\n",
    "    df_y_test_withdailyreturns['Transaction Costs in USD'] = df_y_test_withdailyreturns['Einsatz']*0.00027*2\n",
    "\n",
    "    # Create List of Multiple Thresholds\n",
    "    # A Threshold of 0.7 means that only predicted probabilites with more than 0.7 or less than 0.3 are considered further\n",
    "    list_thresholdcalc = [0.5, 0.57, 0.6, 0.65]\n",
    "\n",
    "    # Try and Except Block to Address Cases in Which a Data Frame does NOT Contain Any Values Because No predicted Probability Meets the Threshold Requirements\n",
    "    try:\n",
    "\n",
    "        # For Loop Over List\n",
    "        for thresholdcalc in list_thresholdcalc:\n",
    "\n",
    "            # Creation of a Data Frame Containing Only Probability Predictions Which Meet the Threshold Requirements\n",
    "            df_y_test_probaall = df_y_test.loc[(\n",
    "                df_y_test['y_pred_prob'] > thresholdcalc)]\n",
    "           # | ( df_y_test['y_pred_prob'] < 1-thresholdcalc)\n",
    "\n",
    "            # Calculation Of Accuracy Only for the Data Subset Meeting Threshold Requirements\n",
    "            acc_calc = len(df_y_test_probaall[df_y_test_probaall['Class']\n",
    "                                              == df_y_test_probaall['y_pred']]) / len(df_y_test_probaall)\n",
    "\n",
    "            print(\"Threshold of:\", thresholdcalc)\n",
    "            print(classification_report(\n",
    "                df_y_test_probaall[\"Class\"], df_y_test_probaall[\"y_pred\"]))\n",
    "\n",
    "            # Creation of Another Data Frame including Returns and Transaction Costs\n",
    "            # Only For Probability Predicitons that Meet the Threshold Requirements\n",
    "            df_y_test_probaall_withdailyreturns = df_y_test_withdailyreturns.loc[(\n",
    "                df_y_test_withdailyreturns['y_pred_prob'] > thresholdcalc)]\n",
    "            # | (df_y_test_withdailyreturns['y_pred_prob'] < 1-thresholdcalc)\n",
    "\n",
    "            # Trading Assumption: Bet Amount = 1 Bitcoin for Each Prediction\n",
    "            # Select Daily Returns Only From True Predictions Where Predicted Class equals Actual Class.\n",
    "            # It does not matter whether Daily Returns are Positive or Negative as Short-Selling Option Allows To Profit From Falling Prices\n",
    "            profit = df_y_test_probaall_withdailyreturns[\"percentage_daily_return\"][\n",
    "                df_y_test_probaall_withdailyreturns['Class'] == df_y_test_probaall_withdailyreturns['y_pred']].abs().sum()\n",
    "\n",
    "            # Select  Daily Returns Only From False Predictions Where Predicted Class equals Actual Class\n",
    "            loss = df_y_test_probaall_withdailyreturns[\"percentage_daily_return\"][df_y_test_probaall_withdailyreturns['Class']\n",
    "                                                                                  != df_y_test_probaall_withdailyreturns['y_pred']].abs().sum()\n",
    "\n",
    "            print(\"prestake profit-loss {:.2f} x\".format(profit-loss))\n",
    "\n",
    "            if thresholdcalc == list_thresholdcalc[0]:\n",
    "                prestakepercentlist.append(int((profit-loss)*100))\n",
    "            if thresholdcalc == list_thresholdcalc[1]:\n",
    "                prestakepercentlist51.append(int((profit-loss)*100))\n",
    "            if thresholdcalc == list_thresholdcalc[2]:\n",
    "                prestakepercentlist52.append(int((profit-loss)*100))\n",
    "            if thresholdcalc == list_thresholdcalc[3]:\n",
    "                prestakepercentlist53.append(int((profit-loss)*100))\n",
    "\n",
    "            loss = loss * einsatz\n",
    "            profit = profit * einsatz\n",
    "\n",
    "            # Calculation of Transaction Costs based On BTC Value in USD. Each Future Trade considers Transaction Costs twice, becauase of Buying and Selling the Future\n",
    "            transaction_costs = df_y_test_probaall_withdailyreturns['Transaction Costs in USD'].sum(\n",
    "            )\n",
    "\n",
    "            # Calculation of Total Profit Considering Profit, Loss and Transaction Costs\n",
    "            total = profit-loss-transaction_costs\n",
    "\n",
    "            # In addition, the same setting with different time horizon\n",
    "            currentpreds_all = df_y_test_probaall_withdailyreturns[\n",
    "                df_y_test_probaall_withdailyreturns.index >= spec_start_date]\n",
    "\n",
    "            # the len\n",
    "            currentpreds_all_count = len(currentpreds_all)\n",
    "\n",
    "            # Analog to Profit Calculation Above\n",
    "            currentpreds_winning_total = currentpreds_all[\"percentage_daily_return\"][(\n",
    "                currentpreds_all['Class'] == currentpreds_all['y_pred'])].abs().sum()\n",
    "            # Analog to Loss Calculation Above\n",
    "            currentpreds_loosing_total = currentpreds_all[\"percentage_daily_return\"][(\n",
    "                currentpreds_all['Class'] != currentpreds_all['y_pred'])].abs().sum()\n",
    "            # Analog to Calculation of Transaction Costs Above\n",
    "            currentpreds_transaction_costs = currentpreds_all['Transaction Costs in USD'][(\n",
    "                currentpreds_all['Class'] != currentpreds_all['y_pred'])].abs().sum()\n",
    "\n",
    "            currentpreds_loosing_total = currentpreds_loosing_total * einsatz\n",
    "            currentpreds_winning_total = currentpreds_winning_total * einsatz\n",
    "\n",
    "            # Analog to Calculation of Total Profit\n",
    "            currentpreds_total = currentpreds_winning_total - \\\n",
    "                currentpreds_loosing_total-currentpreds_transaction_costs\n",
    "\n",
    "            print(\"currentpreds_winning_total {} - currentpreds_loosing_total {} -currentpreds_transaction_costs {} \".format(\n",
    "                currentpreds_winning_total, currentpreds_loosing_total, currentpreds_transaction_costs))\n",
    "\n",
    "            # Condition\n",
    "            # In Case the Shorter Time Horizon Does Not Include any Sample -> Empyt Output\n",
    "            if currentpreds_all_count == 0:\n",
    "                currentpreds_all_count = '-'\n",
    "                current_acc_calc = '-'\n",
    "\n",
    "            # Otherwise Calculation of Accuracy analog to theeins Accuracy Calculation for the Entire Period\n",
    "            else:\n",
    "                current_acc_calc = (len(currentpreds_all[\"Daily Return in USD\"][(\n",
    "                    currentpreds_all['Class'] == currentpreds_all['y_pred'])]))/currentpreds_all_count\n",
    "\n",
    "            # Display of Threshold, Total Profit, Profit, Loss, Transaction Costs, Accuracy and Correct Number of Predictions Both for the Specified Time Horizon and the Entire Time\n",
    "            print(\"SpecPeriod:\")\n",
    "            print(\"einsatz\", int(currentpreds_all[\"Einsatz\"].sum()), \"Total Return in SpecPeriod:\", int(currentpreds_total), \"/ Profit: \", int(currentpreds_winning_total), \"/ Loss: \", int(currentpreds_loosing_total), \"/ TransCosts: \", int(currentpreds_transaction_costs),\n",
    "                  \"/ #CorrectPreds:\", (len(currentpreds_all[\"Daily Return in USD\"][(currentpreds_all['Class'] == currentpreds_all['y_pred'])])), \"of\", len(currentpreds_all))\n",
    "\n",
    "            print(\"CalcAccuracy {:.2f} -- profit in %/bet: {:.2f}\".format(current_acc_calc, 100*(int(\n",
    "                currentpreds_total) / len(currentpreds_all)) / (currentpreds_all[\"Einsatz\"].sum() / len(currentpreds_all))))\n",
    "            print(\"einsatz * 1+profit% ^ # wetten {:.2f}\".format(einsatz*(1+(int(currentpreds_total) / len(currentpreds_all)) / (\n",
    "                currentpreds_all[\"Einsatz\"].sum() / len(currentpreds_all))) ** len(currentpreds_all)))\n",
    "\n",
    "            if thresholdcalc == list_thresholdcalc[0]:\n",
    "                current_profitpercent.append(100*(int(currentpreds_total) / len(\n",
    "                    currentpreds_all)) / (currentpreds_all[\"Einsatz\"].sum() / len(currentpreds_all)))\n",
    "            if thresholdcalc == list_thresholdcalc[1]:\n",
    "                current_profitpercent51.append(100*(int(currentpreds_total) / len(\n",
    "                    currentpreds_all)) / (currentpreds_all[\"Einsatz\"].sum() / len(currentpreds_all)))\n",
    "            if thresholdcalc == list_thresholdcalc[2]:\n",
    "                current_profitpercent52.append(100*(int(currentpreds_total) / len(\n",
    "                    currentpreds_all)) / (currentpreds_all[\"Einsatz\"].sum() / len(currentpreds_all)))\n",
    "            if thresholdcalc == list_thresholdcalc[3]:\n",
    "                current_profitpercent53.append(100*(int(currentpreds_total) / len(\n",
    "                    currentpreds_all)) / (currentpreds_all[\"Einsatz\"].sum() / len(currentpreds_all)))\n",
    "\n",
    "            print()\n",
    "            print(\"Entire Period:\")\n",
    "            print(\"einsatz\", int(df_y_test_probaall_withdailyreturns[\"Einsatz\"].sum()), \"TotReturn:\", int(total), \"/ Profit: \", int(profit), \"/ Loss: \", int(loss), \"/ TransCosts: \", int(\n",
    "                transaction_costs), \"/ CalcAccuracy\", round(acc_calc, 2), \"/ #CorrectPreds:\", len(df_y_test_probaall[df_y_test_probaall['Class'] == df_y_test_probaall['y_pred']]),  \"Of\", len(df_y_test_probaall))\n",
    "            print(\"einsatz/bet\", df_y_test_probaall_withdailyreturns[\"Einsatz\"].sum() / len(df_y_test_probaall), \"TotReturn / bet\", int(total) / len(\n",
    "                df_y_test_probaall), \"/ TranCosts / bet \", int(transaction_costs) / len(df_y_test_probaall), \"/ CalcuAcc\", round(acc_calc, 2))\n",
    "            print(\"profit in %/bet: {:.2f}\".format(100*(int(total) / len(df_y_test_probaall)) / (\n",
    "                df_y_test_probaall_withdailyreturns[\"Einsatz\"].sum() / len(df_y_test_probaall))))\n",
    "\n",
    "            if thresholdcalc == list_thresholdcalc[0]:\n",
    "                profitpercent.append(100*(int(total) / len(df_y_test_probaall)) / (\n",
    "                    df_y_test_probaall_withdailyreturns[\"Einsatz\"].sum() / len(df_y_test_probaall)))\n",
    "            if thresholdcalc == list_thresholdcalc[1]:\n",
    "                profitpercent51.append(100*(int(total) / len(df_y_test_probaall)) / (\n",
    "                    df_y_test_probaall_withdailyreturns[\"Einsatz\"].sum() / len(df_y_test_probaall)))\n",
    "            if thresholdcalc == list_thresholdcalc[2]:\n",
    "                profitpercent52.append(100*(int(total) / len(df_y_test_probaall)) / (\n",
    "                    df_y_test_probaall_withdailyreturns[\"Einsatz\"].sum() / len(df_y_test_probaall)))\n",
    "            if thresholdcalc == list_thresholdcalc[3]:\n",
    "                profitpercent53.append(100*(int(total) / len(df_y_test_probaall)) / (\n",
    "                    df_y_test_probaall_withdailyreturns[\"Einsatz\"].sum() / len(df_y_test_probaall)))\n",
    "\n",
    "            print(\"einsatz * 1+profit% ^ # wetten {:.2f}\".format(einsatz*(1+(int(total) / len(df_y_test_probaall)) / (\n",
    "                df_y_test_probaall_withdailyreturns[\"Einsatz\"].sum() / len(df_y_test_probaall))) ** len(df_y_test_probaall)))\n",
    "            if thresholdcalc == list_thresholdcalc[0]:\n",
    "                zinseszins.append(einsatz*(1+(int(total) / len(df_y_test_probaall)) / (\n",
    "                    df_y_test_probaall_withdailyreturns[\"Einsatz\"].sum() / len(df_y_test_probaall))) ** len(df_y_test_probaall))\n",
    "\n",
    "                current_zinseszins.append(einsatz*(1+(int(currentpreds_total) / len(currentpreds_all)) / (\n",
    "                    currentpreds_all[\"Einsatz\"].sum() / len(currentpreds_all))) ** len(currentpreds_all))\n",
    "\n",
    "            print()\n",
    "            print()\n",
    "\n",
    "            # Store All Calculated Values For Every Variable of Every Run\n",
    "            # Specified Period\n",
    "            # Threshold = 0.5\n",
    "            if thresholdcalc == list_thresholdcalc[0]:\n",
    "                spec_list_05_total.append(currentpreds_total)\n",
    "                spec_list_05_profit.append(currentpreds_winning_total)\n",
    "                spec_list_05_loss.append(currentpreds_loosing_total)\n",
    "                spec_list_05_trans.append(currentpreds_transaction_costs)\n",
    "                spec_list_05_acc.append(current_acc_calc)\n",
    "                spec_list_05_preds_corr.append((len(df_y_test_probaall_withdailyreturns[\"Daily Return in USD\"][(\n",
    "                    df_y_test_probaall_withdailyreturns.index >= spec_start_date) & (df_y_test_probaall_withdailyreturns['Class'] == df_y_test_probaall_withdailyreturns['y_pred'])])))\n",
    "                spec_list_05_preds.append(currentpreds_all_count)\n",
    "                # Entire Period:\n",
    "                list_05_total.append(total)\n",
    "                list_05_profit.append(profit)\n",
    "                list_05_loss.append(loss)\n",
    "                list_05_trans.append(transaction_costs)\n",
    "                list_05_acc.append(acc_calc)\n",
    "                list_05_preds_corr.append(len(\n",
    "                    df_y_test_probaall[df_y_test_probaall['Class'] == df_y_test_probaall['y_pred']]))\n",
    "                list_05_preds.append(len(df_y_test_probaall))\n",
    "\n",
    "            # Threshold = 0.6\n",
    "            if thresholdcalc == list_thresholdcalc[1]:\n",
    "                spec_list_06_total.append(currentpreds_total)\n",
    "                spec_list_06_profit.append(currentpreds_winning_total)\n",
    "                spec_list_06_loss.append(currentpreds_loosing_total)\n",
    "                spec_list_06_trans.append(currentpreds_transaction_costs)\n",
    "                spec_list_06_acc.append(current_acc_calc)\n",
    "                spec_list_06_preds_corr.append((len(df_y_test_probaall_withdailyreturns[\"Daily Return in USD\"][(\n",
    "                    df_y_test_probaall_withdailyreturns.index >= spec_start_date) & (df_y_test_probaall_withdailyreturns['Class'] == df_y_test_probaall_withdailyreturns['y_pred'])])))\n",
    "                spec_list_06_preds.append(currentpreds_all_count)\n",
    "                # Entire Period:\n",
    "                list_06_total.append(total)\n",
    "                list_06_profit.append(profit)\n",
    "                list_06_loss.append(loss)\n",
    "                list_06_trans.append(transaction_costs)\n",
    "                list_06_acc.append(acc_calc)\n",
    "                list_06_preds_corr.append(len(\n",
    "                    df_y_test_probaall[df_y_test_probaall['Class'] == df_y_test_probaall['y_pred']]))\n",
    "                list_06_preds.append(len(df_y_test_probaall))\n",
    "\n",
    "                zinseszins51.append(einsatz*(1+(int(total) / len(df_y_test_probaall)) / (\n",
    "                    df_y_test_probaall_withdailyreturns[\"Einsatz\"].sum() / len(df_y_test_probaall))) ** len(df_y_test_probaall))\n",
    "\n",
    "                current_zinseszins51.append(einsatz*(1+(int(currentpreds_total) / len(currentpreds_all)) / (\n",
    "                    currentpreds_all[\"Einsatz\"].sum() / len(currentpreds_all))) ** len(currentpreds_all))\n",
    "\n",
    "            # Threshold = 0.7\n",
    "            if thresholdcalc == list_thresholdcalc[2]:\n",
    "                spec_list_07_total.append(currentpreds_total)\n",
    "                spec_list_07_profit.append(currentpreds_winning_total)\n",
    "                spec_list_07_loss.append(currentpreds_loosing_total)\n",
    "                spec_list_07_trans.append(currentpreds_transaction_costs)\n",
    "                spec_list_07_acc.append(current_acc_calc)\n",
    "                spec_list_07_preds_corr.append((len(df_y_test_probaall_withdailyreturns[\"Daily Return in USD\"][(\n",
    "                    df_y_test_probaall_withdailyreturns.index >= spec_start_date) & (df_y_test_probaall_withdailyreturns['Class'] == df_y_test_probaall_withdailyreturns['y_pred'])])))\n",
    "                spec_list_07_preds.append(currentpreds_all_count)\n",
    "                # Entire Period:\n",
    "                list_07_total.append(total)\n",
    "                list_07_profit.append(profit)\n",
    "                list_07_loss.append(loss)\n",
    "                list_07_trans.append(transaction_costs)\n",
    "                list_07_acc.append(acc_calc)\n",
    "                list_07_preds_corr.append(len(\n",
    "                    df_y_test_probaall[df_y_test_probaall['Class'] == df_y_test_probaall['y_pred']]))\n",
    "                list_07_preds.append(len(df_y_test_probaall))\n",
    "                zinseszins52.append(einsatz*(1+(int(total) / len(df_y_test_probaall)) / (\n",
    "                    df_y_test_probaall_withdailyreturns[\"Einsatz\"].sum() / len(df_y_test_probaall))) ** len(df_y_test_probaall))\n",
    "\n",
    "                current_zinseszins52.append(einsatz*(1+(int(currentpreds_total) / len(currentpreds_all)) / (\n",
    "                    currentpreds_all[\"Einsatz\"].sum() / len(currentpreds_all))) ** len(currentpreds_all))\n",
    "\n",
    "            # Threshold = 0.8\n",
    "            if thresholdcalc == list_thresholdcalc[3]:\n",
    "                spec_list_08_total.append(currentpreds_total)\n",
    "                spec_list_08_profit.append(currentpreds_winning_total)\n",
    "                spec_list_08_loss.append(currentpreds_loosing_total)\n",
    "                spec_list_08_trans.append(currentpreds_transaction_costs)\n",
    "                spec_list_08_acc.append(current_acc_calc)\n",
    "                spec_list_08_preds_corr.append((len(df_y_test_probaall_withdailyreturns[\"Daily Return in USD\"][(\n",
    "                    df_y_test_probaall_withdailyreturns.index >= spec_start_date) & (df_y_test_probaall_withdailyreturns['Class'] == df_y_test_probaall_withdailyreturns['y_pred'])])))\n",
    "                spec_list_08_preds.append(currentpreds_all_count)\n",
    "                # Entire Period:\n",
    "                list_08_total.append(total)\n",
    "                list_08_profit.append(profit)\n",
    "                list_08_loss.append(loss)\n",
    "                list_08_trans.append(transaction_costs)\n",
    "                list_08_acc.append(acc_calc)\n",
    "                list_08_preds_corr.append(len(\n",
    "                    df_y_test_probaall[df_y_test_probaall['Class'] == df_y_test_probaall['y_pred']]))\n",
    "                list_08_preds.append(len(df_y_test_probaall))\n",
    "                zinseszins53.append(einsatz*(1+(int(total) / len(df_y_test_probaall)) / (\n",
    "                    df_y_test_probaall_withdailyreturns[\"Einsatz\"].sum() / len(df_y_test_probaall))) ** len(df_y_test_probaall))\n",
    "\n",
    "                current_zinseszins53.append(einsatz*(1+(int(currentpreds_total) / len(currentpreds_all)) / (\n",
    "                    currentpreds_all[\"Einsatz\"].sum() / len(currentpreds_all))) ** len(currentpreds_all))\n",
    "\n",
    "    except:\n",
    "        print(\"error\")\n",
    "    print()\n",
    "    print()\n"
   ]
  },
  {
   "cell_type": "code",
   "execution_count": null,
   "metadata": {
    "ExecuteTime": {
     "end_time": "2021-02-01T07:55:58.828065Z",
     "start_time": "2021-02-01T07:55:58.815101Z"
    }
   },
   "outputs": [],
   "source": [
    "# # Test Accuracy\n",
    "# from sklearn.metrics import accuracy_score\n",
    "# from xgboost import XGBClassifier\n",
    "\n",
    "# accuarylist = []\n",
    "\n",
    "# for x in range(30):\n",
    "#     # Split Data into Training and Testing\n",
    "#     X_train, X_test, y_train, y_test = train_test_split(\n",
    "#         predictors, target, test_size=0.3, stratify=target)\n",
    "    \n",
    "#     # Train Classifier\n",
    "#     lreg.fit(X_train, y_train)\n",
    "#     y_pred = lreg.predict(X_test)\n",
    "#     predictions = [round(value) for value in y_pred]\n",
    "#     accuracy = accuracy_score(y_test, predictions)\n",
    "#     accuarylist.append(accuracy * 100.0)\n",
    "\n",
    "# mean_auc_10 = np.mean(accuarylist)\n",
    "# mean_auc_10"
   ]
  },
  {
   "cell_type": "code",
   "execution_count": null,
   "metadata": {
    "ExecuteTime": {
     "end_time": "2021-02-01T07:55:58.844066Z",
     "start_time": "2021-02-01T07:55:58.830093Z"
    }
   },
   "outputs": [],
   "source": [
    "import statistics\n",
    "\n",
    "result_to_csv = []\n",
    "\n",
    "result_to_csv.append((\"statistics.median(prestakepercentlist)\", statistics.median(prestakepercentlist) ))\n",
    "result_to_csv.append((\"statistics.median(profitpercent)\", statistics.median(profitpercent) ))\n",
    "result_to_csv.append((\"statistics.median(zinseszins)\", statistics.median(zinseszins) ))\n",
    "result_to_csv.append((\"statistics.median(current_profitpercent)\", statistics.median(current_profitpercent) ))\n",
    "result_to_csv.append((\"statistics.median(current_zinseszins)\", statistics.median(current_zinseszins) ))\n",
    "result_to_csv.append((\"statistics.median(prestakepercentlist51)\", statistics.median(prestakepercentlist51) ))\n",
    "result_to_csv.append((\"statistics.median(profitpercent51)\", statistics.median(profitpercent51) ))\n",
    "result_to_csv.append((\"statistics.median(zinseszins51)\", statistics.median(zinseszins51) ))\n",
    "result_to_csv.append((\"statistics.median(current_profitpercent51)\", statistics.median(current_profitpercent51) ))\n",
    "result_to_csv.append((\"statistics.median(current_zinseszins51)\", statistics.median(current_zinseszins51) ))\n",
    "result_to_csv.append((\"statistics.median(prestakepercentlist52)\", statistics.median(prestakepercentlist52) ))\n",
    "result_to_csv.append((\"statistics.median(profitpercent52)\", statistics.median(profitpercent52) ))\n",
    "result_to_csv.append((\"statistics.median(zinseszins52)\", statistics.median(zinseszins52) ))\n",
    "result_to_csv.append((\"statistics.median(current_profitpercent52)\", statistics.median(current_profitpercent52) ))\n",
    "result_to_csv.append((\"statistics.median(current_zinseszins52)\", statistics.median(current_zinseszins52) ))\n",
    "result_to_csv.append((\"statistics.median(prestakepercentlist53)\", statistics.median(prestakepercentlist53) ))\n",
    "result_to_csv.append((\"statistics.median(profitpercent53)\", statistics.median(profitpercent53) ))\n",
    "result_to_csv.append((\"statistics.median(zinseszins53)\", statistics.median(zinseszins53) ))\n",
    "result_to_csv.append((\"statistics.median(current_profitpercent53)\", statistics.median(current_profitpercent53) ))\n",
    "result_to_csv.append((\"statistics.median(current_zinseszins53)\", statistics.median(current_zinseszins53) ))\n",
    "df_zusammen = pd.DataFrame(result_to_csv)"
   ]
  },
  {
   "cell_type": "code",
   "execution_count": null,
   "metadata": {
    "ExecuteTime": {
     "end_time": "2021-02-01T07:55:58.859328Z",
     "start_time": "2021-02-01T07:55:58.845020Z"
    }
   },
   "outputs": [],
   "source": [
    "df_zusammen"
   ]
  },
  {
   "cell_type": "code",
   "execution_count": null,
   "metadata": {
    "ExecuteTime": {
     "end_time": "2021-01-31T21:45:43.726167Z",
     "start_time": "2021-01-31T21:45:43.712866Z"
    }
   },
   "outputs": [],
   "source": [
    "X_train.shape"
   ]
  },
  {
   "cell_type": "code",
   "execution_count": null,
   "metadata": {
    "ExecuteTime": {
     "end_time": "2021-01-31T17:34:30.470995Z",
     "start_time": "2021-01-31T17:34:30.439181Z"
    }
   },
   "outputs": [],
   "source": [
    "import time\n",
    "\n",
    "df_zusammen[\"algo\"] = pd.Series([lreg]) \n",
    "df_zusammen[\"spec_start_date\"] = pd.Series([spec_start_date]) \n",
    "df_zusammen[\"X_train.shape\"] = pd.Series([X_train.shape]) \n",
    "df_zusammen[\"X_test.shape\"] = pd.Series([X_test.shape]) \n",
    "df_zusammen[\"mean_auc_10\"] = pd.Series([mean_auc_10]) \n",
    "# adapt column for class value\n",
    "#df_dataset1=df_dataset1.drop(['Class'])\n",
    "df_zusammen[\"df_dataset1.columns\"] = pd.Series([df_dataset1.columns.tolist()])\n"
   ]
  },
  {
   "cell_type": "code",
   "execution_count": null,
   "metadata": {
    "ExecuteTime": {
     "end_time": "2021-01-31T17:25:16.486868Z",
     "start_time": "2021-01-31T17:12:10.526Z"
    },
    "scrolled": true
   },
   "outputs": [],
   "source": [
    "print( statistics.median(prestakepercentlist) )\n",
    "print( statistics.median(profitpercent) )\n",
    "print( statistics.median(zinseszins) )\n",
    "print( statistics.median(current_profitpercent) )\n",
    "print( statistics.median(current_zinseszins) )\n",
    "print()\n",
    "print(\"proba > 51\")\n",
    "print( statistics.median(prestakepercentlist51) )\n",
    "print( statistics.median(profitpercent51) )\n",
    "print( statistics.median(zinseszins51) )\n",
    "print( statistics.median(current_profitpercent51) )\n",
    "print( statistics.median(current_zinseszins51) )\n",
    "print()\n",
    "print(\"proba > 52\")\n",
    "print( statistics.median(prestakepercentlist52) )\n",
    "print( statistics.median(profitpercent52) )\n",
    "print( statistics.median(zinseszins52) )\n",
    "print( statistics.median(current_profitpercent52) )\n",
    "print( statistics.median(current_zinseszins52) )\n",
    "print()\n",
    "print(\"proba > 53\")\n",
    "print( statistics.median(prestakepercentlist53) )\n",
    "print( statistics.median(profitpercent53) )\n",
    "print( statistics.median(zinseszins53) )\n",
    "print( statistics.median(current_profitpercent53) )\n",
    "print( statistics.median(current_zinseszins53) )"
   ]
  },
  {
   "cell_type": "code",
   "execution_count": null,
   "metadata": {
    "ExecuteTime": {
     "end_time": "2021-01-31T17:25:16.490033Z",
     "start_time": "2021-01-31T17:12:10.533Z"
    }
   },
   "outputs": [],
   "source": [
    "stt"
   ]
  },
  {
   "cell_type": "markdown",
   "metadata": {},
   "source": [
    "# Compare with year 2017"
   ]
  },
  {
   "cell_type": "code",
   "execution_count": null,
   "metadata": {
    "ExecuteTime": {
     "end_time": "2021-01-31T17:25:16.491880Z",
     "start_time": "2021-01-31T17:12:10.541Z"
    }
   },
   "outputs": [],
   "source": [
    "# get time of 01.01.2017 until 31.12.2017 as testing df\n",
    "#df_dataset1_copy_2017 df_dataset1_copy_allbut2017\n",
    "\n",
    "print(len(df_dataset1_allbut2017))\n",
    "print(len(df_dataset1_2017))\n",
    "\n",
    "# Setup of Predictors (Indpendent Variables) by Excluding Target Variable\n",
    "X_trainpredictors_allbut2017 = df_dataset1_allbut2017.drop(['Class'], axis=1).values.astype(np.float32)\n",
    "X_testpredictors_2017 = df_dataset1_2017.drop(['Class'], axis=1).values.astype(np.float32)\n",
    "# Setup of Categorized Target Variable\n",
    "y_traintarget_allbut2017 = df_dataset1_allbut2017['Class'].astype(np.float32)\n",
    "y_testtarget_2017 = df_dataset1_2017['Class'].astype(np.float32)\n",
    "\n",
    "# Split Data into Training and Testing\n",
    "X_train = X_trainpredictors_allbut2017\n",
    "X_test = X_testpredictors_2017\n",
    "y_train = y_traintarget_allbut2017\n",
    "y_test = y_testtarget_2017"
   ]
  },
  {
   "cell_type": "code",
   "execution_count": null,
   "metadata": {
    "ExecuteTime": {
     "end_time": "2021-01-31T17:25:16.493714Z",
     "start_time": "2021-01-31T17:12:10.547Z"
    }
   },
   "outputs": [],
   "source": [
    "y_traintarget_allbut2017\n",
    "y_testtarget_2017.groupby(y_testtarget_2017).size()"
   ]
  },
  {
   "cell_type": "code",
   "execution_count": null,
   "metadata": {
    "ExecuteTime": {
     "end_time": "2021-01-31T17:25:16.495702Z",
     "start_time": "2021-01-31T17:12:10.554Z"
    }
   },
   "outputs": [],
   "source": [
    "X_train.shape"
   ]
  },
  {
   "cell_type": "code",
   "execution_count": null,
   "metadata": {
    "ExecuteTime": {
     "end_time": "2021-01-31T17:25:16.497694Z",
     "start_time": "2021-01-31T17:12:10.561Z"
    }
   },
   "outputs": [],
   "source": [
    "y_test.shape"
   ]
  },
  {
   "cell_type": "code",
   "execution_count": null,
   "metadata": {
    "ExecuteTime": {
     "end_time": "2021-01-31T17:25:16.499828Z",
     "start_time": "2021-01-31T17:12:10.569Z"
    }
   },
   "outputs": [],
   "source": [
    "einsatz = 1000\n",
    "prestakepercentlist = []\n",
    "zinseszins = []\n",
    "profitpercent = []\n",
    "\n",
    "prestakepercentlist51 = []\n",
    "prestakepercentlist52 = []\n",
    "prestakepercentlist53 = []\n",
    "\n",
    "profitpercent51 = []\n",
    "profitpercent52 = []\n",
    "profitpercent53 = []\n",
    "\n",
    "zinseszins51 = []\n",
    "zinseszins52 = []\n",
    "zinseszins53 = []\n",
    "\n",
    "# For Loop to Simulate K-fold Cross Validation\n",
    "for x in range(1, 10):\n",
    "\n",
    "    # Display Number of Runs\n",
    "    print(\"Run:\", x)\n",
    "\n",
    "    # Amount of Columns\n",
    "    n_nodes = predictors.shape[1]\n",
    "\n",
    "    # Instantiation of MinMaxScaler\n",
    "    norm_scaler = MinMaxScaler()\n",
    "\n",
    "    # Train Classifier\n",
    "    lreg.fit(X_train, y_train)\n",
    "\n",
    "    # Prediction of Classes\n",
    "    y_pred = lreg.predict(X_test)\n",
    "\n",
    "    # Display Confusion Matrix and Classification Report\n",
    "    print(confusion_matrix(y_test, y_pred))\n",
    "\n",
    "    # Prediction of Probabilities\n",
    "    y_pred_prob = lreg.predict_proba(X_test)[:, 1]\n",
    "\n",
    "    # Create Data Frame of Actual Values - y_test\n",
    "    df_y_test = pd.DataFrame(y_test)\n",
    "\n",
    "    # Add Predicted Probabilities to Data Frame\n",
    "    df_y_test[\"y_pred_prob\"] = y_pred_prob\n",
    "\n",
    "    # Add Predicted Classes (0 or 1) to Data Frame to Cross-Check Predicted Probabilities\n",
    "    df_y_test[\"y_pred\"] = y_pred\n",
    "\n",
    "    # Select Actual Daily Returns in USD from the Data Set Copy\n",
    "    df_dataset1_copy_dailyreturns = df_dataset1_copy[['Daily Return in USD']]\n",
    "\n",
    "    # Merge Predictions and Daily Returns Data Frame on the Column \"Date\"\n",
    "    df_y_test_withdailyreturns = pd.merge(\n",
    "        df_y_test, df_dataset1_copy_dailyreturns, on='Date')\n",
    "\n",
    "    df_dataset1_copy_percentage = df_dataset1_copy[[\n",
    "        'percentage_daily_return_bef_shift']]\n",
    "    df_y_test_withdailyreturns = pd.merge(\n",
    "        df_y_test_withdailyreturns, df_dataset1_copy_percentage, on='Date')\n",
    "\n",
    "    # Add Bitcoin Price in USD\n",
    "    df_y_test_withdailyreturns = pd.merge(\n",
    "        df_y_test_withdailyreturns, df_dataset1_copy['Closed Price USD'], on='Date')\n",
    "\n",
    "    df_y_test_withdailyreturns['y_pred_prob_bereinigt'] = np.where(\n",
    "        df_y_test_withdailyreturns['y_pred_prob'] < 0.5, 1-df_y_test_withdailyreturns['y_pred_prob'], df_y_test_withdailyreturns['y_pred_prob'])\n",
    "\n",
    "    df_y_test_withdailyreturns[\"Einsatz\"] = einsatz  # * \\\n",
    "    # df_y_test_withdailyreturns[\"y_pred_prob_bereinigt\"]  # **2\n",
    "\n",
    "    # Add and Calculate Transaction Costs based on the Bitcoin Price in USD\n",
    "    df_y_test_withdailyreturns['Transaction Costs in USD'] = df_y_test_withdailyreturns['Einsatz']*0.00027*2\n",
    "\n",
    "    # Create List of Multiple Thresholds\n",
    "    # A Threshold of 0.7 means that only predicted probabilites with more than 0.7 or less than 0.3 are considered further\n",
    "    list_thresholdcalc = [0.5, 0.51, 0.52, 0.53]\n",
    "\n",
    "    try:\n",
    "\n",
    "        # For Loop Over List\n",
    "        for thresholdcalc in list_thresholdcalc:\n",
    "\n",
    "            # Creation of a Data Frame Containing Only Probability Predictions Which Meet the Threshold Requirements\n",
    "            df_y_test_probaall = df_y_test.loc[(df_y_test['y_pred_prob'] > thresholdcalc) | (\n",
    "                df_y_test['y_pred_prob'] < 1-thresholdcalc)]\n",
    "\n",
    "            # Calculation Of Accuracy Only for the Data Subset Meeting Threshold Requirements\n",
    "            acc_calc = len(df_y_test_probaall[df_y_test_probaall['Class']\n",
    "                                              == df_y_test_probaall['y_pred']]) / len(df_y_test_probaall)\n",
    "\n",
    "            print(\"Threshold of:\", thresholdcalc)\n",
    "            print(classification_report(\n",
    "                df_y_test_probaall[\"Class\"], df_y_test_probaall[\"y_pred\"]))\n",
    "\n",
    "            # Creation of Another Data Frame including Returns and Transaction Costs\n",
    "            # Only For Probability Predicitons that Meet the Threshold Requirements\n",
    "            df_y_test_probaall_withdailyreturns = df_y_test_withdailyreturns.loc[(\n",
    "                df_y_test_withdailyreturns['y_pred_prob'] > thresholdcalc) | (df_y_test_withdailyreturns['y_pred_prob'] < 1-thresholdcalc)]\n",
    "\n",
    "            # Trading Assumption: Bet Amount = 1 Bitcoin for Each Prediction\n",
    "            # Select Daily Returns Only From True Predictions Where Predicted Class equals Actual Class.\n",
    "            # It does not matter whether Daily Returns are Positive or Negative as Short-Selling Option Allows To Profit From Falling Prices\n",
    "            profit = df_y_test_probaall_withdailyreturns[\"percentage_daily_return_bef_shift\"][\n",
    "                df_y_test_probaall_withdailyreturns['Class'] == df_y_test_probaall_withdailyreturns['y_pred']].abs().sum()\n",
    "\n",
    "            # Select  Daily Returns Only From False Predictions Where Predicted Class equals Actual Class\n",
    "            loss = df_y_test_probaall_withdailyreturns[\"percentage_daily_return_bef_shift\"][df_y_test_probaall_withdailyreturns['Class']\n",
    "                                                                                            != df_y_test_probaall_withdailyreturns['y_pred']].abs().sum()\n",
    "\n",
    "            print(\"prestake profit-loss {:.2f} x\".format(profit-loss))\n",
    "\n",
    "            if thresholdcalc == 0.5:\n",
    "                prestakepercentlist.append(int((profit-loss)*100))\n",
    "            if thresholdcalc == 0.51:\n",
    "                prestakepercentlist51.append(int((profit-loss)*100))\n",
    "            if thresholdcalc == 0.52:\n",
    "                prestakepercentlist52.append(int((profit-loss)*100))\n",
    "            if thresholdcalc == 0.53:\n",
    "                prestakepercentlist53.append(int((profit-loss)*100))\n",
    "\n",
    "            loss = loss * einsatz\n",
    "            profit = profit * einsatz\n",
    "\n",
    "            # Calculation of Transaction Costs based On BTC Value in USD. Each Future Trade considers Transaction Costs twice, becauase of Buying and Selling the Future\n",
    "            transaction_costs = df_y_test_probaall_withdailyreturns['Transaction Costs in USD'].sum(\n",
    "            )\n",
    "\n",
    "            # Calculation of Total Profit Considering Profit, Loss and Transaction Costs\n",
    "            total = profit-loss-transaction_costs\n",
    "\n",
    "            print()\n",
    "            print(\"Entire Period:\")\n",
    "            print(\"einsatz\", int(df_y_test_probaall_withdailyreturns[\"Einsatz\"].sum()), \"TotReturn:\", int(total), \"/ Profit: \", int(profit), \"/ Loss: \", int(loss), \"/ TransCosts: \", int(\n",
    "                transaction_costs), \"/ CalcAccuracy\", round(acc_calc, 2), \"/ #CorrectPreds:\", len(df_y_test_probaall[df_y_test_probaall['Class'] == df_y_test_probaall['y_pred']]),  \"Of\", len(df_y_test_probaall))\n",
    "            print(\"einsatz/bet\", df_y_test_probaall_withdailyreturns[\"Einsatz\"].sum() / len(df_y_test_probaall), \"TotReturn / bet\", int(total) / len(\n",
    "                df_y_test_probaall), \"/ TranCosts / bet \", int(transaction_costs) / len(df_y_test_probaall), \"/ CalcuAcc\", round(acc_calc, 2))\n",
    "            print(\"profit in %/bet: {:.2f}\".format(100*(int(total) / len(df_y_test_probaall)) / (\n",
    "                df_y_test_probaall_withdailyreturns[\"Einsatz\"].sum() / len(df_y_test_probaall))))\n",
    "\n",
    "            if thresholdcalc == 0.5:\n",
    "                profitpercent.append(100*(int(total) / len(df_y_test_probaall)) / (\n",
    "                    df_y_test_probaall_withdailyreturns[\"Einsatz\"].sum() / len(df_y_test_probaall)))\n",
    "            if thresholdcalc == 0.51:\n",
    "                profitpercent51.append(100*(int(total) / len(df_y_test_probaall)) / (\n",
    "                    df_y_test_probaall_withdailyreturns[\"Einsatz\"].sum() / len(df_y_test_probaall)))\n",
    "            if thresholdcalc == 0.52:\n",
    "                profitpercent52.append(100*(int(total) / len(df_y_test_probaall)) / (\n",
    "                    df_y_test_probaall_withdailyreturns[\"Einsatz\"].sum() / len(df_y_test_probaall)))\n",
    "            if thresholdcalc == 0.53:\n",
    "                profitpercent53.append(100*(int(total) / len(df_y_test_probaall)) / (\n",
    "                    df_y_test_probaall_withdailyreturns[\"Einsatz\"].sum() / len(df_y_test_probaall)))\n",
    "\n",
    "            print(\"einsatz * 1+profit% ^ # wetten {:.2f}\".format(einsatz*(1+(int(total) / len(df_y_test_probaall)) / (\n",
    "                df_y_test_probaall_withdailyreturns[\"Einsatz\"].sum() / len(df_y_test_probaall))) ** len(df_y_test_probaall)))\n",
    "            if thresholdcalc == 0.5:\n",
    "                zinseszins.append(einsatz*(1+(int(total) / len(df_y_test_probaall)) / (\n",
    "                    df_y_test_probaall_withdailyreturns[\"Einsatz\"].sum() / len(df_y_test_probaall))) ** len(df_y_test_probaall))\n",
    "\n",
    "            print()\n",
    "            print()\n",
    "\n",
    "            # Store All Calculated Values For Every Variable of Every Run\n",
    "            # Specified Period\n",
    "            # Threshold = 0.5\n",
    "            if thresholdcalc == 0.5:\n",
    "                # Entire Period:\n",
    "                list_05_total.append(total)\n",
    "                list_05_profit.append(profit)\n",
    "                list_05_loss.append(loss)\n",
    "                list_05_trans.append(transaction_costs)\n",
    "                list_05_acc.append(acc_calc)\n",
    "                list_05_preds_corr.append(len(\n",
    "                    df_y_test_probaall[df_y_test_probaall['Class'] == df_y_test_probaall['y_pred']]))\n",
    "                list_05_preds.append(len(df_y_test_probaall))\n",
    "\n",
    "            # Threshold = 0.6\n",
    "            if thresholdcalc == 0.51:\n",
    "                # Entire Period:\n",
    "                list_06_total.append(total)\n",
    "                list_06_profit.append(profit)\n",
    "                list_06_loss.append(loss)\n",
    "                list_06_trans.append(transaction_costs)\n",
    "                list_06_acc.append(acc_calc)\n",
    "                list_06_preds_corr.append(len(\n",
    "                    df_y_test_probaall[df_y_test_probaall['Class'] == df_y_test_probaall['y_pred']]))\n",
    "                list_06_preds.append(len(df_y_test_probaall))\n",
    "\n",
    "                zinseszins51.append(einsatz*(1+(int(total) / len(df_y_test_probaall)) / (\n",
    "                    df_y_test_probaall_withdailyreturns[\"Einsatz\"].sum() / len(df_y_test_probaall))) ** len(df_y_test_probaall))\n",
    "\n",
    "            # Threshold = 0.7\n",
    "            if thresholdcalc == 0.52:\n",
    "                # Entire Period:\n",
    "                list_07_total.append(total)\n",
    "                list_07_profit.append(profit)\n",
    "                list_07_loss.append(loss)\n",
    "                list_07_trans.append(transaction_costs)\n",
    "                list_07_acc.append(acc_calc)\n",
    "                list_07_preds_corr.append(len(\n",
    "                    df_y_test_probaall[df_y_test_probaall['Class'] == df_y_test_probaall['y_pred']]))\n",
    "                list_07_preds.append(len(df_y_test_probaall))\n",
    "                zinseszins52.append(einsatz*(1+(int(total) / len(df_y_test_probaall)) / (\n",
    "                    df_y_test_probaall_withdailyreturns[\"Einsatz\"].sum() / len(df_y_test_probaall))) ** len(df_y_test_probaall))\n",
    "\n",
    "            # Threshold = 0.8\n",
    "            if thresholdcalc == 0.53:\n",
    "                # Entire Period:\n",
    "                list_08_total.append(total)\n",
    "                list_08_profit.append(profit)\n",
    "                list_08_loss.append(loss)\n",
    "                list_08_trans.append(transaction_costs)\n",
    "                list_08_acc.append(acc_calc)\n",
    "                list_08_preds_corr.append(len(\n",
    "                    df_y_test_probaall[df_y_test_probaall['Class'] == df_y_test_probaall['y_pred']]))\n",
    "                list_08_preds.append(len(df_y_test_probaall))\n",
    "                zinseszins53.append(einsatz*(1+(int(total) / len(df_y_test_probaall)) / (\n",
    "                    df_y_test_probaall_withdailyreturns[\"Einsatz\"].sum() / len(df_y_test_probaall))) ** len(df_y_test_probaall))\n",
    "\n",
    "    except:\n",
    "        print(\"problem\")\n",
    "\n",
    "    print()\n",
    "    print()\n"
   ]
  },
  {
   "cell_type": "code",
   "execution_count": null,
   "metadata": {
    "ExecuteTime": {
     "end_time": "2021-01-31T17:25:16.501715Z",
     "start_time": "2021-01-31T17:12:10.577Z"
    }
   },
   "outputs": [],
   "source": [
    "print( statistics.median(prestakepercentlist) )\n",
    "print( statistics.median(profitpercent) )\n",
    "print( statistics.median(zinseszins) )\n",
    "print()\n",
    "print(\"proba > 51\")\n",
    "print( statistics.median(prestakepercentlist51) )\n",
    "print( statistics.median(profitpercent51) )\n",
    "print( statistics.median(zinseszins51) )\n",
    "print()\n",
    "print(\"proba > 52\")\n",
    "print( statistics.median(prestakepercentlist52) )\n",
    "print( statistics.median(profitpercent52) )\n",
    "print( statistics.median(zinseszins52) )\n",
    "print()\n",
    "print(\"proba > 52\")\n",
    "print( statistics.median(prestakepercentlist53) )\n",
    "print( statistics.median(profitpercent53) )\n",
    "print( statistics.median(zinseszins53) )"
   ]
  },
  {
   "cell_type": "code",
   "execution_count": null,
   "metadata": {
    "ExecuteTime": {
     "end_time": "2021-01-31T17:25:16.503680Z",
     "start_time": "2021-01-31T17:12:10.587Z"
    }
   },
   "outputs": [],
   "source": [
    "import statistics\n",
    "\n",
    "results_of_2017 = []\n",
    "\n",
    "results_of_2017.append((\"2017_statistics.median(prestakepercentlist)\", statistics.median(prestakepercentlist) ))\n",
    "results_of_2017.append((\"2017_statistics.median(profitpercent)\", statistics.median(profitpercent) ))\n",
    "results_of_2017.append((\"2017_statistics.median(zinseszins)\", statistics.median(zinseszins) ))\n",
    "results_of_2017.append((\"\", \"\" ))\n",
    "results_of_2017.append((\"\", \"\" ))\n",
    "results_of_2017.append((\"2017_statistics.median(prestakepercentlist51)\", statistics.median(prestakepercentlist51) ))\n",
    "results_of_2017.append((\"2017_statistics.median(profitpercent51)\", statistics.median(profitpercent51) ))\n",
    "results_of_2017.append((\"2017_statistics.median(zinseszins51)\", statistics.median(zinseszins51) ))\n",
    "results_of_2017.append((\"\", \"\" ))\n",
    "results_of_2017.append((\"\", \"\" ))\n",
    "results_of_2017.append((\"2017_statistics.median(prestakepercentlist52)\", statistics.median(prestakepercentlist52) ))\n",
    "results_of_2017.append((\"2017_statistics.median(profitpercent52)\", statistics.median(profitpercent52) ))\n",
    "results_of_2017.append((\"2017_statistics.median(zinseszins52)\", statistics.median(zinseszins52) ))\n",
    "results_of_2017.append((\"\", \"\" ))\n",
    "results_of_2017.append((\"\", \"\" ))\n",
    "results_of_2017.append((\"2017_statistics.median(prestakepercentlist53)\", statistics.median(prestakepercentlist53) ))\n",
    "results_of_2017.append((\"2017_statistics.median(profitpercent53)\", statistics.median(profitpercent53) ))\n",
    "results_of_2017.append((\"2017_statistics.median(zinseszins53)\", statistics.median(zinseszins53) ))\n",
    "results_of_2017.append((\"\", \"\" ))\n",
    "results_of_2017.append((\"\", \"\" ))\n",
    "\n",
    "df_zusammen[\"year to predict_2017\"] = \"2017\" \n",
    "df_zusammen[\"keys_2017\"] = pd.Series([i[0] for i in results_of_2017]) \n",
    "df_zusammen[\"values_2017\"] = pd.Series([i[1] for i in results_of_2017]) \n",
    "df_zusammen[\"X_train.shape_2017\"] = pd.Series([X_train.shape]) \n",
    "df_zusammen[\"X_test.shape_2017\"] = pd.Series([X_test.shape]) "
   ]
  },
  {
   "cell_type": "markdown",
   "metadata": {},
   "source": [
    "# Compare with year 2018 "
   ]
  },
  {
   "cell_type": "code",
   "execution_count": null,
   "metadata": {
    "ExecuteTime": {
     "end_time": "2021-01-31T17:25:16.505734Z",
     "start_time": "2021-01-31T17:12:10.598Z"
    }
   },
   "outputs": [],
   "source": [
    "# get time of 01.01.2018 until 31.12.2018 as testing df\n",
    "#df_dataset1_copy_2018 df_dataset1_copy_allbut2018\n",
    "\n",
    "print(len(df_dataset1_allbut2018))\n",
    "print(len(df_dataset1_2018))\n",
    "\n",
    "# Setup of Predictors (Indpendent Variables) by Excluding Target Variable\n",
    "X_trainpredictors_allbut2018 = df_dataset1_allbut2018.drop(['Class'], axis=1).values.astype(np.float32)\n",
    "X_testpredictors_2018 = df_dataset1_2018.drop(['Class'], axis=1).values.astype(np.float32)\n",
    "# Setup of Categorized Target Variable\n",
    "y_traintarget_allbut2018 = df_dataset1_allbut2018['Class'].astype(np.float32)\n",
    "y_testtarget_2018 = df_dataset1_2018['Class'].astype(np.float32)\n",
    "\n",
    "# Split Data into Training and Testing\n",
    "X_train = X_trainpredictors_allbut2018\n",
    "X_test = X_testpredictors_2018\n",
    "y_train = y_traintarget_allbut2018\n",
    "y_test = y_testtarget_2018"
   ]
  },
  {
   "cell_type": "code",
   "execution_count": null,
   "metadata": {
    "ExecuteTime": {
     "end_time": "2021-01-31T17:25:16.507672Z",
     "start_time": "2021-01-31T17:12:10.609Z"
    }
   },
   "outputs": [],
   "source": [
    "y_traintarget_allbut2018\n",
    "y_testtarget_2018.groupby(y_testtarget_2018).size()"
   ]
  },
  {
   "cell_type": "code",
   "execution_count": null,
   "metadata": {
    "ExecuteTime": {
     "end_time": "2021-01-31T17:25:16.509663Z",
     "start_time": "2021-01-31T17:12:10.617Z"
    }
   },
   "outputs": [],
   "source": [
    "X_train.shape"
   ]
  },
  {
   "cell_type": "code",
   "execution_count": null,
   "metadata": {
    "ExecuteTime": {
     "end_time": "2021-01-31T17:25:16.510661Z",
     "start_time": "2021-01-31T17:12:10.628Z"
    }
   },
   "outputs": [],
   "source": [
    "y_test.shape"
   ]
  },
  {
   "cell_type": "code",
   "execution_count": null,
   "metadata": {
    "ExecuteTime": {
     "end_time": "2021-01-31T17:25:16.512774Z",
     "start_time": "2021-01-31T17:12:10.639Z"
    }
   },
   "outputs": [],
   "source": [
    "einsatz = 1000\n",
    "prestakepercentlist = []\n",
    "zinseszins = []\n",
    "profitpercent = []\n",
    "\n",
    "prestakepercentlist51 = []\n",
    "prestakepercentlist52 = []\n",
    "prestakepercentlist53 = []\n",
    "\n",
    "profitpercent51 = []\n",
    "profitpercent52 = []\n",
    "profitpercent53 = []\n",
    "\n",
    "zinseszins51 = []\n",
    "zinseszins52 = []\n",
    "zinseszins53 = []\n",
    "\n",
    "# For Loop to Simulate K-fold Cross Validation\n",
    "for x in range(1, 10):\n",
    "\n",
    "    # Display Number of Runs\n",
    "    print(\"Run:\", x)\n",
    "\n",
    "    # Amount of Columns\n",
    "    n_nodes = predictors.shape[1]\n",
    "\n",
    "    # Instantiation of MinMaxScaler\n",
    "    norm_scaler = MinMaxScaler()\n",
    "\n",
    "    # Train Classifier\n",
    "    lreg.fit(X_train, y_train)\n",
    "\n",
    "    # Prediction of Classes\n",
    "    y_pred = lreg.predict(X_test)\n",
    "\n",
    "    # Display Confusion Matrix and Classification Report\n",
    "    print(confusion_matrix(y_test, y_pred))\n",
    "\n",
    "    # Prediction of Probabilities\n",
    "    y_pred_prob = lreg.predict_proba(X_test)[:, 1]\n",
    "\n",
    "    # Create Data Frame of Actual Values - y_test\n",
    "    df_y_test = pd.DataFrame(y_test)\n",
    "\n",
    "    # Add Predicted Probabilities to Data Frame\n",
    "    df_y_test[\"y_pred_prob\"] = y_pred_prob\n",
    "\n",
    "    # Add Predicted Classes (0 or 1) to Data Frame to Cross-Check Predicted Probabilities\n",
    "    df_y_test[\"y_pred\"] = y_pred\n",
    "\n",
    "    # Select Actual Daily Returns in USD from the Data Set Copy\n",
    "    df_dataset1_copy_dailyreturns = df_dataset1_copy[['Daily Return in USD']]\n",
    "\n",
    "    # Merge Predictions and Daily Returns Data Frame on the Column \"Date\"\n",
    "    df_y_test_withdailyreturns = pd.merge(\n",
    "        df_y_test, df_dataset1_copy_dailyreturns, on='Date')\n",
    "\n",
    "    df_dataset1_copy_percentage = df_dataset1_copy[[\n",
    "        'percentage_daily_return_bef_shift']]\n",
    "    df_y_test_withdailyreturns = pd.merge(\n",
    "        df_y_test_withdailyreturns, df_dataset1_copy_percentage, on='Date')\n",
    "\n",
    "    # Add Bitcoin Price in USD\n",
    "    df_y_test_withdailyreturns = pd.merge(\n",
    "        df_y_test_withdailyreturns, df_dataset1_copy['Closed Price USD'], on='Date')\n",
    "\n",
    "    df_y_test_withdailyreturns['y_pred_prob_bereinigt'] = np.where(\n",
    "        df_y_test_withdailyreturns['y_pred_prob'] < 0.5, 1-df_y_test_withdailyreturns['y_pred_prob'], df_y_test_withdailyreturns['y_pred_prob'])\n",
    "\n",
    "    df_y_test_withdailyreturns[\"Einsatz\"] = einsatz  # * \\\n",
    "    # df_y_test_withdailyreturns[\"y_pred_prob_bereinigt\"]  # **2\n",
    "\n",
    "    # Add and Calculate Transaction Costs based on the Bitcoin Price in USD\n",
    "    df_y_test_withdailyreturns['Transaction Costs in USD'] = df_y_test_withdailyreturns['Einsatz']*0.00027*2\n",
    "\n",
    "    # Create List of Multiple Thresholds\n",
    "    # A Threshold of 0.7 means that only predicted probabilites with more than 0.7 or less than 0.3 are considered further\n",
    "    list_thresholdcalc = [0.5, 0.51, 0.52, 0.53]\n",
    "\n",
    "    try:\n",
    "\n",
    "        # For Loop Over List\n",
    "        for thresholdcalc in list_thresholdcalc:\n",
    "\n",
    "            # Creation of a Data Frame Containing Only Probability Predictions Which Meet the Threshold Requirements\n",
    "            df_y_test_probaall = df_y_test.loc[(df_y_test['y_pred_prob'] > thresholdcalc) | (\n",
    "                df_y_test['y_pred_prob'] < 1-thresholdcalc)]\n",
    "\n",
    "            # Calculation Of Accuracy Only for the Data Subset Meeting Threshold Requirements\n",
    "            acc_calc = len(df_y_test_probaall[df_y_test_probaall['Class']\n",
    "                                              == df_y_test_probaall['y_pred']]) / len(df_y_test_probaall)\n",
    "\n",
    "            print(\"Threshold of:\", thresholdcalc)\n",
    "            print(classification_report(\n",
    "                df_y_test_probaall[\"Class\"], df_y_test_probaall[\"y_pred\"]))\n",
    "\n",
    "            # Creation of Another Data Frame including Returns and Transaction Costs\n",
    "            # Only For Probability Predicitons that Meet the Threshold Requirements\n",
    "            df_y_test_probaall_withdailyreturns = df_y_test_withdailyreturns.loc[(\n",
    "                df_y_test_withdailyreturns['y_pred_prob'] > thresholdcalc) | (df_y_test_withdailyreturns['y_pred_prob'] < 1-thresholdcalc)]\n",
    "\n",
    "            # Trading Assumption: Bet Amount = 1 Bitcoin for Each Prediction\n",
    "            # Select Daily Returns Only From True Predictions Where Predicted Class equals Actual Class.\n",
    "            # It does not matter whether Daily Returns are Positive or Negative as Short-Selling Option Allows To Profit From Falling Prices\n",
    "            profit = df_y_test_probaall_withdailyreturns[\"percentage_daily_return_bef_shift\"][\n",
    "                df_y_test_probaall_withdailyreturns['Class'] == df_y_test_probaall_withdailyreturns['y_pred']].abs().sum()\n",
    "\n",
    "            # Select  Daily Returns Only From False Predictions Where Predicted Class equals Actual Class\n",
    "            loss = df_y_test_probaall_withdailyreturns[\"percentage_daily_return_bef_shift\"][df_y_test_probaall_withdailyreturns['Class']\n",
    "                                                                                            != df_y_test_probaall_withdailyreturns['y_pred']].abs().sum()\n",
    "\n",
    "            print(\"prestake profit-loss {:.2f} x\".format(profit-loss))\n",
    "\n",
    "            if thresholdcalc == 0.5:\n",
    "                prestakepercentlist.append(int((profit-loss)*100))\n",
    "            if thresholdcalc == 0.51:\n",
    "                prestakepercentlist51.append(int((profit-loss)*100))\n",
    "            if thresholdcalc == 0.52:\n",
    "                prestakepercentlist52.append(int((profit-loss)*100))\n",
    "            if thresholdcalc == 0.53:\n",
    "                prestakepercentlist53.append(int((profit-loss)*100))\n",
    "\n",
    "            loss = loss * einsatz\n",
    "            profit = profit * einsatz\n",
    "\n",
    "            # Calculation of Transaction Costs based On BTC Value in USD. Each Future Trade considers Transaction Costs twice, becauase of Buying and Selling the Future\n",
    "            transaction_costs = df_y_test_probaall_withdailyreturns['Transaction Costs in USD'].sum(\n",
    "            )\n",
    "\n",
    "            # Calculation of Total Profit Considering Profit, Loss and Transaction Costs\n",
    "            total = profit-loss-transaction_costs\n",
    "\n",
    "            print()\n",
    "            print(\"Entire Period:\")\n",
    "            print(\"einsatz\", int(df_y_test_probaall_withdailyreturns[\"Einsatz\"].sum()), \"TotReturn:\", int(total), \"/ Profit: \", int(profit), \"/ Loss: \", int(loss), \"/ TransCosts: \", int(\n",
    "                transaction_costs), \"/ CalcAccuracy\", round(acc_calc, 2), \"/ #CorrectPreds:\", len(df_y_test_probaall[df_y_test_probaall['Class'] == df_y_test_probaall['y_pred']]),  \"Of\", len(df_y_test_probaall))\n",
    "            print(\"einsatz/bet\", df_y_test_probaall_withdailyreturns[\"Einsatz\"].sum() / len(df_y_test_probaall), \"TotReturn / bet\", int(total) / len(\n",
    "                df_y_test_probaall), \"/ TranCosts / bet \", int(transaction_costs) / len(df_y_test_probaall), \"/ CalcuAcc\", round(acc_calc, 2))\n",
    "            print(\"profit in %/bet: {:.2f}\".format(100*(int(total) / len(df_y_test_probaall)) / (\n",
    "                df_y_test_probaall_withdailyreturns[\"Einsatz\"].sum() / len(df_y_test_probaall))))\n",
    "\n",
    "            if thresholdcalc == 0.5:\n",
    "                profitpercent.append(100*(int(total) / len(df_y_test_probaall)) / (\n",
    "                    df_y_test_probaall_withdailyreturns[\"Einsatz\"].sum() / len(df_y_test_probaall)))\n",
    "            if thresholdcalc == 0.51:\n",
    "                profitpercent51.append(100*(int(total) / len(df_y_test_probaall)) / (\n",
    "                    df_y_test_probaall_withdailyreturns[\"Einsatz\"].sum() / len(df_y_test_probaall)))\n",
    "            if thresholdcalc == 0.52:\n",
    "                profitpercent52.append(100*(int(total) / len(df_y_test_probaall)) / (\n",
    "                    df_y_test_probaall_withdailyreturns[\"Einsatz\"].sum() / len(df_y_test_probaall)))\n",
    "            if thresholdcalc == 0.53:\n",
    "                profitpercent53.append(100*(int(total) / len(df_y_test_probaall)) / (\n",
    "                    df_y_test_probaall_withdailyreturns[\"Einsatz\"].sum() / len(df_y_test_probaall)))\n",
    "\n",
    "            print(\"einsatz * 1+profit% ^ # wetten {:.2f}\".format(einsatz*(1+(int(total) / len(df_y_test_probaall)) / (\n",
    "                df_y_test_probaall_withdailyreturns[\"Einsatz\"].sum() / len(df_y_test_probaall))) ** len(df_y_test_probaall)))\n",
    "            if thresholdcalc == 0.5:\n",
    "                zinseszins.append(einsatz*(1+(int(total) / len(df_y_test_probaall)) / (\n",
    "                    df_y_test_probaall_withdailyreturns[\"Einsatz\"].sum() / len(df_y_test_probaall))) ** len(df_y_test_probaall))\n",
    "\n",
    "            print()\n",
    "            print()\n",
    "\n",
    "            # Store All Calculated Values For Every Variable of Every Run\n",
    "            # Specified Period\n",
    "            # Threshold = 0.5\n",
    "            if thresholdcalc == 0.5:\n",
    "                # Entire Period:\n",
    "                list_05_total.append(total)\n",
    "                list_05_profit.append(profit)\n",
    "                list_05_loss.append(loss)\n",
    "                list_05_trans.append(transaction_costs)\n",
    "                list_05_acc.append(acc_calc)\n",
    "                list_05_preds_corr.append(len(\n",
    "                    df_y_test_probaall[df_y_test_probaall['Class'] == df_y_test_probaall['y_pred']]))\n",
    "                list_05_preds.append(len(df_y_test_probaall))\n",
    "\n",
    "            # Threshold = 0.6\n",
    "            if thresholdcalc == 0.51:\n",
    "                # Entire Period:\n",
    "                list_06_total.append(total)\n",
    "                list_06_profit.append(profit)\n",
    "                list_06_loss.append(loss)\n",
    "                list_06_trans.append(transaction_costs)\n",
    "                list_06_acc.append(acc_calc)\n",
    "                list_06_preds_corr.append(len(\n",
    "                    df_y_test_probaall[df_y_test_probaall['Class'] == df_y_test_probaall['y_pred']]))\n",
    "                list_06_preds.append(len(df_y_test_probaall))\n",
    "\n",
    "                zinseszins51.append(einsatz*(1+(int(total) / len(df_y_test_probaall)) / (\n",
    "                    df_y_test_probaall_withdailyreturns[\"Einsatz\"].sum() / len(df_y_test_probaall))) ** len(df_y_test_probaall))\n",
    "\n",
    "            # Threshold = 0.7\n",
    "            if thresholdcalc == 0.52:\n",
    "                # Entire Period:\n",
    "                list_07_total.append(total)\n",
    "                list_07_profit.append(profit)\n",
    "                list_07_loss.append(loss)\n",
    "                list_07_trans.append(transaction_costs)\n",
    "                list_07_acc.append(acc_calc)\n",
    "                list_07_preds_corr.append(len(\n",
    "                    df_y_test_probaall[df_y_test_probaall['Class'] == df_y_test_probaall['y_pred']]))\n",
    "                list_07_preds.append(len(df_y_test_probaall))\n",
    "                zinseszins52.append(einsatz*(1+(int(total) / len(df_y_test_probaall)) / (\n",
    "                    df_y_test_probaall_withdailyreturns[\"Einsatz\"].sum() / len(df_y_test_probaall))) ** len(df_y_test_probaall))\n",
    "\n",
    "            # Threshold = 0.8\n",
    "            if thresholdcalc == 0.53:\n",
    "                # Entire Period:\n",
    "                list_08_total.append(total)\n",
    "                list_08_profit.append(profit)\n",
    "                list_08_loss.append(loss)\n",
    "                list_08_trans.append(transaction_costs)\n",
    "                list_08_acc.append(acc_calc)\n",
    "                list_08_preds_corr.append(len(\n",
    "                    df_y_test_probaall[df_y_test_probaall['Class'] == df_y_test_probaall['y_pred']]))\n",
    "                list_08_preds.append(len(df_y_test_probaall))\n",
    "                zinseszins53.append(einsatz*(1+(int(total) / len(df_y_test_probaall)) / (\n",
    "                    df_y_test_probaall_withdailyreturns[\"Einsatz\"].sum() / len(df_y_test_probaall))) ** len(df_y_test_probaall))\n",
    "\n",
    "    except:\n",
    "        print(\"problem\")\n",
    "\n",
    "    print()\n",
    "    print()\n"
   ]
  },
  {
   "cell_type": "code",
   "execution_count": null,
   "metadata": {
    "ExecuteTime": {
     "end_time": "2021-01-31T17:25:16.513790Z",
     "start_time": "2021-01-31T17:12:10.648Z"
    }
   },
   "outputs": [],
   "source": [
    "print( statistics.median(prestakepercentlist) )\n",
    "print( statistics.median(profitpercent) )\n",
    "print( statistics.median(zinseszins) )\n",
    "print()\n",
    "print(\"proba > 51\")\n",
    "print( statistics.median(prestakepercentlist51) )\n",
    "print( statistics.median(profitpercent51) )\n",
    "print( statistics.median(zinseszins51) )\n",
    "print()\n",
    "print(\"proba > 52\")\n",
    "print( statistics.median(prestakepercentlist52) )\n",
    "print( statistics.median(profitpercent52) )\n",
    "print( statistics.median(zinseszins52) )\n",
    "print()\n",
    "print(\"proba > 52\")\n",
    "print( statistics.median(prestakepercentlist53) )\n",
    "print( statistics.median(profitpercent53) )\n",
    "print( statistics.median(zinseszins53) )"
   ]
  },
  {
   "cell_type": "code",
   "execution_count": null,
   "metadata": {
    "ExecuteTime": {
     "end_time": "2021-01-31T17:25:16.515763Z",
     "start_time": "2021-01-31T17:12:10.658Z"
    }
   },
   "outputs": [],
   "source": [
    "import statistics\n",
    "\n",
    "results_of_2018 = []\n",
    "\n",
    "results_of_2018.append((\"2018_statistics.median(prestakepercentlist)\", statistics.median(prestakepercentlist) ))\n",
    "results_of_2018.append((\"2018_statistics.median(profitpercent)\", statistics.median(profitpercent) ))\n",
    "results_of_2018.append((\"2018_statistics.median(zinseszins)\", statistics.median(zinseszins) ))\n",
    "results_of_2018.append((\"\", \"\" ))\n",
    "results_of_2018.append((\"\", \"\" ))\n",
    "results_of_2018.append((\"2018_statistics.median(prestakepercentlist51)\", statistics.median(prestakepercentlist51) ))\n",
    "results_of_2018.append((\"2018_statistics.median(profitpercent51)\", statistics.median(profitpercent51) ))\n",
    "results_of_2018.append((\"2018_statistics.median(zinseszins51)\", statistics.median(zinseszins51) ))\n",
    "results_of_2018.append((\"\", \"\" ))\n",
    "results_of_2018.append((\"\", \"\" ))\n",
    "results_of_2018.append((\"2018_statistics.median(prestakepercentlist52)\", statistics.median(prestakepercentlist52) ))\n",
    "results_of_2018.append((\"2018_statistics.median(profitpercent52)\", statistics.median(profitpercent52) ))\n",
    "results_of_2018.append((\"2018_statistics.median(zinseszins52)\", statistics.median(zinseszins52) ))\n",
    "results_of_2018.append((\"\", \"\" ))\n",
    "results_of_2018.append((\"\", \"\" ))\n",
    "results_of_2018.append((\"2018_statistics.median(prestakepercentlist53)\", statistics.median(prestakepercentlist53) ))\n",
    "results_of_2018.append((\"2018_statistics.median(profitpercent53)\", statistics.median(profitpercent53) ))\n",
    "results_of_2018.append((\"2018_statistics.median(zinseszins53)\", statistics.median(zinseszins53) ))\n",
    "results_of_2018.append((\"\", \"\" ))\n",
    "results_of_2018.append((\"\", \"\" ))\n",
    "\n",
    "df_zusammen[\"year to predict_2018\"] = \"2018\" \n",
    "df_zusammen[\"keys_2018\"] = pd.Series([i[0] for i in results_of_2018]) \n",
    "df_zusammen[\"values_2018\"] = pd.Series([i[1] for i in results_of_2018]) \n",
    "df_zusammen[\"X_train.shape_2018\"] = pd.Series([X_train.shape]) \n",
    "df_zusammen[\"X_test.shape_2018\"] = pd.Series([X_test.shape]) "
   ]
  },
  {
   "cell_type": "code",
   "execution_count": null,
   "metadata": {},
   "outputs": [],
   "source": []
  },
  {
   "cell_type": "markdown",
   "metadata": {},
   "source": [
    "# Compare with year 2019"
   ]
  },
  {
   "cell_type": "code",
   "execution_count": null,
   "metadata": {
    "ExecuteTime": {
     "end_time": "2021-01-31T17:25:16.517789Z",
     "start_time": "2021-01-31T17:12:10.673Z"
    }
   },
   "outputs": [],
   "source": [
    "# get time of 01.01.2019 until 31.12.2019 as testing df\n",
    "#df_dataset1_copy_2019 df_dataset1_copy_allbut2019\n",
    "\n",
    "\n",
    "print(len(df_dataset1_allbut2019))\n",
    "print(len(df_dataset1_2019))\n",
    "# Setup of Predictors (Indpendent Variables) by Excluding Target Variable\n",
    "X_trainpredictors_allbut2019 = df_dataset1_allbut2019.drop(['Class'], axis=1).values.astype(np.float32)\n",
    "X_testpredictors_2019 = df_dataset1_2019.drop(['Class'], axis=1).values.astype(np.float32)\n",
    "# Setup of Categorized Target Variable\n",
    "y_traintarget_allbut2019 = df_dataset1_allbut2019['Class'].astype(np.float32)\n",
    "y_testtarget_2019 = df_dataset1_2019['Class'].astype(np.float32)\n",
    "\n",
    "# Split Data into Training and Testing\n",
    "X_train = X_trainpredictors_allbut2019\n",
    "X_test = X_testpredictors_2019\n",
    "y_train = y_traintarget_allbut2019\n",
    "y_test = y_testtarget_2019\n",
    "X_train_scaled = X_train\n",
    "X_test_scaled = X_test"
   ]
  },
  {
   "cell_type": "code",
   "execution_count": null,
   "metadata": {
    "ExecuteTime": {
     "end_time": "2021-01-31T17:25:16.518789Z",
     "start_time": "2021-01-31T17:12:10.681Z"
    }
   },
   "outputs": [],
   "source": [
    "einsatz = 1000\n",
    "prestakepercentlist = []\n",
    "zinseszins = []\n",
    "profitpercent = []\n",
    "\n",
    "prestakepercentlist51 = []\n",
    "prestakepercentlist52 = []\n",
    "prestakepercentlist53 = []\n",
    "\n",
    "profitpercent51 = []\n",
    "profitpercent52 = []\n",
    "profitpercent53 = []\n",
    "\n",
    "zinseszins51 = []\n",
    "zinseszins52 = []\n",
    "zinseszins53 = []\n",
    "\n",
    "# For Loop to Simulate K-fold Cross Validation\n",
    "for x in range(1, 10):\n",
    "\n",
    "    # Display Number of Runs\n",
    "    print(\"Run:\", x)\n",
    "\n",
    "    # Amount of Columns\n",
    "    n_nodes = predictors.shape[1]\n",
    "\n",
    "    # Instantiation of MinMaxScaler\n",
    "    norm_scaler = MinMaxScaler()\n",
    "\n",
    "    # Train Classifier\n",
    "    lreg.fit(X_train_scaled, y_train)\n",
    "\n",
    "    # Prediction of Classes\n",
    "    y_pred = lreg.predict(X_test_scaled)\n",
    "\n",
    "    # Display Confusion Matrix and Classification Report\n",
    "    print(confusion_matrix(y_test, y_pred))\n",
    "\n",
    "    # Prediction of Probabilities\n",
    "    y_pred_prob = lreg.predict_proba(X_test_scaled)[:, 1]\n",
    "\n",
    "    # Create Data Frame of Actual Values - y_test\n",
    "    df_y_test = pd.DataFrame(y_test)\n",
    "\n",
    "    # Add Predicted Probabilities to Data Frame\n",
    "    df_y_test[\"y_pred_prob\"] = y_pred_prob\n",
    "\n",
    "    # Add Predicted Classes (0 or 1) to Data Frame to Cross-Check Predicted Probabilities\n",
    "    df_y_test[\"y_pred\"] = y_pred\n",
    "\n",
    "    # Select Actual Daily Returns in USD from the Data Set Copy\n",
    "    df_dataset1_copy_dailyreturns = df_dataset1_copy[['Daily Return in USD']]\n",
    "\n",
    "    # Merge Predictions and Daily Returns Data Frame on the Column \"Date\"\n",
    "    df_y_test_withdailyreturns = pd.merge(\n",
    "        df_y_test, df_dataset1_copy_dailyreturns, on='Date')\n",
    "\n",
    "    df_dataset1_copy_percentage = df_dataset1_copy[[\n",
    "        'percentage_daily_return_bef_shift']]\n",
    "    df_y_test_withdailyreturns = pd.merge(\n",
    "        df_y_test_withdailyreturns, df_dataset1_copy_percentage, on='Date')\n",
    "\n",
    "    # Add Bitcoin Price in USD\n",
    "    df_y_test_withdailyreturns = pd.merge(\n",
    "        df_y_test_withdailyreturns, df_dataset1_copy['Closed Price USD'], on='Date')\n",
    "\n",
    "    df_y_test_withdailyreturns['y_pred_prob_bereinigt'] = np.where(\n",
    "        df_y_test_withdailyreturns['y_pred_prob'] < 0.5, 1-df_y_test_withdailyreturns['y_pred_prob'], df_y_test_withdailyreturns['y_pred_prob'])\n",
    "\n",
    "    df_y_test_withdailyreturns[\"Einsatz\"] = einsatz  # * \\\n",
    "    # df_y_test_withdailyreturns[\"y_pred_prob_bereinigt\"]  # **2\n",
    "\n",
    "    # Add and Calculate Transaction Costs based on the Bitcoin Price in USD\n",
    "    df_y_test_withdailyreturns['Transaction Costs in USD'] = df_y_test_withdailyreturns['Einsatz']*0.00027*2\n",
    "\n",
    "    # Create List of Multiple Thresholds\n",
    "    # A Threshold of 0.7 means that only predicted probabilites with more than 0.7 or less than 0.3 are considered further\n",
    "    list_thresholdcalc = [0.5, 0.51, 0.52, 0.53]\n",
    "\n",
    "    try:\n",
    "\n",
    "        # For Loop Over List\n",
    "        for thresholdcalc in list_thresholdcalc:\n",
    "\n",
    "            # Creation of a Data Frame Containing Only Probability Predictions Which Meet the Threshold Requirements\n",
    "            df_y_test_probaall = df_y_test.loc[(df_y_test['y_pred_prob'] > thresholdcalc) | (\n",
    "                df_y_test['y_pred_prob'] < 1-thresholdcalc)]\n",
    "\n",
    "            # Calculation Of Accuracy Only for the Data Subset Meeting Threshold Requirements\n",
    "            acc_calc = len(df_y_test_probaall[df_y_test_probaall['Class']\n",
    "                                              == df_y_test_probaall['y_pred']]) / len(df_y_test_probaall)\n",
    "\n",
    "            print(\"Threshold of:\", thresholdcalc)\n",
    "            print(classification_report(\n",
    "                df_y_test_probaall[\"Class\"], df_y_test_probaall[\"y_pred\"]))\n",
    "\n",
    "            # Creation of Another Data Frame including Returns and Transaction Costs\n",
    "            # Only For Probability Predicitons that Meet the Threshold Requirements\n",
    "            df_y_test_probaall_withdailyreturns = df_y_test_withdailyreturns.loc[(\n",
    "                df_y_test_withdailyreturns['y_pred_prob'] > thresholdcalc) | (df_y_test_withdailyreturns['y_pred_prob'] < 1-thresholdcalc)]\n",
    "\n",
    "            # Trading Assumption: Bet Amount = 1 Bitcoin for Each Prediction\n",
    "            # Select Daily Returns Only From True Predictions Where Predicted Class equals Actual Class.\n",
    "            # It does not matter whether Daily Returns are Positive or Negative as Short-Selling Option Allows To Profit From Falling Prices\n",
    "            profit = df_y_test_probaall_withdailyreturns[\"percentage_daily_return_bef_shift\"][\n",
    "                df_y_test_probaall_withdailyreturns['Class'] == df_y_test_probaall_withdailyreturns['y_pred']].abs().sum()\n",
    "\n",
    "            # Select  Daily Returns Only From False Predictions Where Predicted Class equals Actual Class\n",
    "            loss = df_y_test_probaall_withdailyreturns[\"percentage_daily_return_bef_shift\"][df_y_test_probaall_withdailyreturns['Class']\n",
    "                                                                                            != df_y_test_probaall_withdailyreturns['y_pred']].abs().sum()\n",
    "\n",
    "            print(\"prestake profit-loss {:.2f} x\".format(profit-loss))\n",
    "\n",
    "            if thresholdcalc == 0.5:\n",
    "                prestakepercentlist.append(int((profit-loss)*100))\n",
    "            if thresholdcalc == 0.51:\n",
    "                prestakepercentlist51.append(int((profit-loss)*100))\n",
    "            if thresholdcalc == 0.52:\n",
    "                prestakepercentlist52.append(int((profit-loss)*100))\n",
    "            if thresholdcalc == 0.53:\n",
    "                prestakepercentlist53.append(int((profit-loss)*100))\n",
    "\n",
    "            loss = loss * einsatz\n",
    "            profit = profit * einsatz\n",
    "\n",
    "            # Calculation of Transaction Costs based On BTC Value in USD. Each Future Trade considers Transaction Costs twice, becauase of Buying and Selling the Future\n",
    "            transaction_costs = df_y_test_probaall_withdailyreturns['Transaction Costs in USD'].sum(\n",
    "            )\n",
    "\n",
    "            # Calculation of Total Profit Considering Profit, Loss and Transaction Costs\n",
    "            total = profit-loss-transaction_costs\n",
    "\n",
    "            print()\n",
    "            print(\"Entire Period:\")\n",
    "            print(\"einsatz\", int(df_y_test_probaall_withdailyreturns[\"Einsatz\"].sum()), \"TotReturn:\", int(total), \"/ Profit: \", int(profit), \"/ Loss: \", int(loss), \"/ TransCosts: \", int(\n",
    "                transaction_costs), \"/ CalcAccuracy\", round(acc_calc, 2), \"/ #CorrectPreds:\", len(df_y_test_probaall[df_y_test_probaall['Class'] == df_y_test_probaall['y_pred']]),  \"Of\", len(df_y_test_probaall))\n",
    "            print(\"einsatz/bet\", df_y_test_probaall_withdailyreturns[\"Einsatz\"].sum() / len(df_y_test_probaall), \"TotReturn / bet\", int(total) / len(\n",
    "                df_y_test_probaall), \"/ TranCosts / bet \", int(transaction_costs) / len(df_y_test_probaall), \"/ CalcuAcc\", round(acc_calc, 2))\n",
    "            print(\"profit in %/bet: {:.2f}\".format(100*(int(total) / len(df_y_test_probaall)) / (\n",
    "                df_y_test_probaall_withdailyreturns[\"Einsatz\"].sum() / len(df_y_test_probaall))))\n",
    "\n",
    "            if thresholdcalc == 0.5:\n",
    "                profitpercent.append(100*(int(total) / len(df_y_test_probaall)) / (\n",
    "                    df_y_test_probaall_withdailyreturns[\"Einsatz\"].sum() / len(df_y_test_probaall)))\n",
    "            if thresholdcalc == 0.51:\n",
    "                profitpercent51.append(100*(int(total) / len(df_y_test_probaall)) / (\n",
    "                    df_y_test_probaall_withdailyreturns[\"Einsatz\"].sum() / len(df_y_test_probaall)))\n",
    "            if thresholdcalc == 0.52:\n",
    "                profitpercent52.append(100*(int(total) / len(df_y_test_probaall)) / (\n",
    "                    df_y_test_probaall_withdailyreturns[\"Einsatz\"].sum() / len(df_y_test_probaall)))\n",
    "            if thresholdcalc == 0.53:\n",
    "                profitpercent53.append(100*(int(total) / len(df_y_test_probaall)) / (\n",
    "                    df_y_test_probaall_withdailyreturns[\"Einsatz\"].sum() / len(df_y_test_probaall)))\n",
    "\n",
    "            print(\"einsatz * 1+profit% ^ # wetten {:.2f}\".format(einsatz*(1+(int(total) / len(df_y_test_probaall)) / (\n",
    "                df_y_test_probaall_withdailyreturns[\"Einsatz\"].sum() / len(df_y_test_probaall))) ** len(df_y_test_probaall)))\n",
    "            if thresholdcalc == 0.5:\n",
    "                zinseszins.append(einsatz*(1+(int(total) / len(df_y_test_probaall)) / (\n",
    "                    df_y_test_probaall_withdailyreturns[\"Einsatz\"].sum() / len(df_y_test_probaall))) ** len(df_y_test_probaall))\n",
    "\n",
    "            print()\n",
    "            print()\n",
    "\n",
    "            # Store All Calculated Values For Every Variable of Every Run\n",
    "            # Specified Period\n",
    "            # Threshold = 0.5\n",
    "            if thresholdcalc == 0.5:\n",
    "                # Entire Period:\n",
    "                list_05_total.append(total)\n",
    "                list_05_profit.append(profit)\n",
    "                list_05_loss.append(loss)\n",
    "                list_05_trans.append(transaction_costs)\n",
    "                list_05_acc.append(acc_calc)\n",
    "                list_05_preds_corr.append(len(\n",
    "                    df_y_test_probaall[df_y_test_probaall['Class'] == df_y_test_probaall['y_pred']]))\n",
    "                list_05_preds.append(len(df_y_test_probaall))\n",
    "\n",
    "            # Threshold = 0.6\n",
    "            if thresholdcalc == 0.51:\n",
    "                # Entire Period:\n",
    "                list_06_total.append(total)\n",
    "                list_06_profit.append(profit)\n",
    "                list_06_loss.append(loss)\n",
    "                list_06_trans.append(transaction_costs)\n",
    "                list_06_acc.append(acc_calc)\n",
    "                list_06_preds_corr.append(len(\n",
    "                    df_y_test_probaall[df_y_test_probaall['Class'] == df_y_test_probaall['y_pred']]))\n",
    "                list_06_preds.append(len(df_y_test_probaall))\n",
    "\n",
    "                zinseszins51.append(einsatz*(1+(int(total) / len(df_y_test_probaall)) / (\n",
    "                    df_y_test_probaall_withdailyreturns[\"Einsatz\"].sum() / len(df_y_test_probaall))) ** len(df_y_test_probaall))\n",
    "\n",
    "            # Threshold = 0.7\n",
    "            if thresholdcalc == 0.52:\n",
    "                # Entire Period:\n",
    "                list_07_total.append(total)\n",
    "                list_07_profit.append(profit)\n",
    "                list_07_loss.append(loss)\n",
    "                list_07_trans.append(transaction_costs)\n",
    "                list_07_acc.append(acc_calc)\n",
    "                list_07_preds_corr.append(len(\n",
    "                    df_y_test_probaall[df_y_test_probaall['Class'] == df_y_test_probaall['y_pred']]))\n",
    "                list_07_preds.append(len(df_y_test_probaall))\n",
    "                zinseszins52.append(einsatz*(1+(int(total) / len(df_y_test_probaall)) / (\n",
    "                    df_y_test_probaall_withdailyreturns[\"Einsatz\"].sum() / len(df_y_test_probaall))) ** len(df_y_test_probaall))\n",
    "\n",
    "            # Threshold = 0.8\n",
    "            if thresholdcalc == 0.53:\n",
    "                # Entire Period:\n",
    "                list_08_total.append(total)\n",
    "                list_08_profit.append(profit)\n",
    "                list_08_loss.append(loss)\n",
    "                list_08_trans.append(transaction_costs)\n",
    "                list_08_acc.append(acc_calc)\n",
    "                list_08_preds_corr.append(len(\n",
    "                    df_y_test_probaall[df_y_test_probaall['Class'] == df_y_test_probaall['y_pred']]))\n",
    "                list_08_preds.append(len(df_y_test_probaall))\n",
    "                zinseszins53.append(einsatz*(1+(int(total) / len(df_y_test_probaall)) / (\n",
    "                    df_y_test_probaall_withdailyreturns[\"Einsatz\"].sum() / len(df_y_test_probaall))) ** len(df_y_test_probaall))\n",
    "\n",
    "    except:\n",
    "        print(\"problem\")\n",
    "\n",
    "    print()\n",
    "    print()\n"
   ]
  },
  {
   "cell_type": "code",
   "execution_count": null,
   "metadata": {
    "ExecuteTime": {
     "end_time": "2021-01-31T17:25:16.520748Z",
     "start_time": "2021-01-31T17:12:10.689Z"
    }
   },
   "outputs": [],
   "source": [
    "print( statistics.median(prestakepercentlist) )\n",
    "print( statistics.median(profitpercent) )\n",
    "print( statistics.median(zinseszins) )\n",
    "print()\n",
    "print(\"proba > 51\")\n",
    "print( statistics.median(prestakepercentlist51) )\n",
    "print( statistics.median(profitpercent51) )\n",
    "print( statistics.median(zinseszins51) )\n",
    "print()\n",
    "print(\"proba > 52\")\n",
    "print( statistics.median(prestakepercentlist52) )\n",
    "print( statistics.median(profitpercent52) )\n",
    "print( statistics.median(zinseszins52) )\n",
    "print()\n",
    "print(\"proba > 52\")\n",
    "print( statistics.median(prestakepercentlist53) )\n",
    "print( statistics.median(profitpercent53) )\n",
    "print( statistics.median(zinseszins53) )"
   ]
  },
  {
   "cell_type": "code",
   "execution_count": null,
   "metadata": {
    "ExecuteTime": {
     "end_time": "2021-01-31T17:25:16.522763Z",
     "start_time": "2021-01-31T17:12:10.696Z"
    }
   },
   "outputs": [],
   "source": [
    "import statistics\n",
    "\n",
    "results_of_2019 = []\n",
    "\n",
    "results_of_2019.append((\"2019_statistics.median(prestakepercentlist)\", statistics.median(prestakepercentlist) ))\n",
    "results_of_2019.append((\"2019_statistics.median(profitpercent)\", statistics.median(profitpercent) ))\n",
    "results_of_2019.append((\"2019_statistics.median(zinseszins)\", statistics.median(zinseszins) ))\n",
    "results_of_2019.append((\"\", \"\" ))\n",
    "results_of_2019.append((\"\", \"\" ))\n",
    "results_of_2019.append((\"2019_statistics.median(prestakepercentlist51)\", statistics.median(prestakepercentlist51) ))\n",
    "results_of_2019.append((\"2019_statistics.median(profitpercent51)\", statistics.median(profitpercent51) ))\n",
    "results_of_2019.append((\"2019_statistics.median(zinseszins51)\", statistics.median(zinseszins51) ))\n",
    "results_of_2019.append((\"\", \"\" ))\n",
    "results_of_2019.append((\"\", \"\" ))\n",
    "results_of_2019.append((\"2019_statistics.median(prestakepercentlist52)\", statistics.median(prestakepercentlist52) ))\n",
    "results_of_2019.append((\"2019_statistics.median(profitpercent52)\", statistics.median(profitpercent52) ))\n",
    "results_of_2019.append((\"2019_statistics.median(zinseszins52)\", statistics.median(zinseszins52) ))\n",
    "results_of_2019.append((\"\", \"\" ))\n",
    "results_of_2019.append((\"\", \"\" ))\n",
    "results_of_2019.append((\"2019_statistics.median(prestakepercentlist53)\", statistics.median(prestakepercentlist53) ))\n",
    "results_of_2019.append((\"2019_statistics.median(profitpercent53)\", statistics.median(profitpercent53) ))\n",
    "results_of_2019.append((\"2019_statistics.median(zinseszins53)\", statistics.median(zinseszins53) ))\n",
    "results_of_2019.append((\"\", \"\" ))\n",
    "results_of_2019.append((\"\", \"\" ))\n",
    "\n",
    "df_zusammen[\"year to predict_2019\"] = \"2019\" \n",
    "df_zusammen[\"keys_2019\"] = pd.Series([i[0] for i in results_of_2019]) \n",
    "df_zusammen[\"values_2019\"] = pd.Series([i[1] for i in results_of_2019]) \n",
    "df_zusammen[\"X_train.shape_2019\"] = pd.Series([X_train.shape]) \n",
    "df_zusammen[\"X_test.shape_2019\"] = pd.Series([X_test.shape]) "
   ]
  },
  {
   "cell_type": "code",
   "execution_count": null,
   "metadata": {},
   "outputs": [],
   "source": []
  },
  {
   "cell_type": "markdown",
   "metadata": {},
   "source": [
    "# Compare with year 20"
   ]
  },
  {
   "cell_type": "code",
   "execution_count": null,
   "metadata": {
    "ExecuteTime": {
     "end_time": "2021-01-31T17:25:16.524785Z",
     "start_time": "2021-01-31T17:12:10.713Z"
    }
   },
   "outputs": [],
   "source": [
    "# get time of 01.01.2020 until 31.12.2020 as testing df\n",
    "#df_dataset1_copy_2020 df_dataset1_copy_allbut2020\n",
    "\n",
    "\n",
    "print(len(df_dataset1_allbut2020))\n",
    "print(len(df_dataset1_2020))\n",
    "# Setup of Predictors (Indpendent Variables) by Excluding Target Variable\n",
    "X_trainpredictors_allbut2020 = df_dataset1_allbut2020.drop(['Class'], axis=1).values.astype(np.float32)\n",
    "X_testpredictors_2020 = df_dataset1_2020.drop(['Class'], axis=1).values.astype(np.float32)\n",
    "# Setup of Categorized Target Variable\n",
    "y_traintarget_allbut2020 = df_dataset1_allbut2020['Class'].astype(np.float32)\n",
    "y_testtarget_2020 = df_dataset1_2020['Class'].astype(np.float32)\n",
    "\n",
    "# Split Data into Training and Testing\n",
    "X_train = X_trainpredictors_allbut2020\n",
    "X_test = X_testpredictors_2020\n",
    "y_train = y_traintarget_allbut2020\n",
    "y_test = y_testtarget_2020\n",
    "X_train_scaled = X_train\n",
    "X_test_scaled = X_test"
   ]
  },
  {
   "cell_type": "code",
   "execution_count": null,
   "metadata": {
    "ExecuteTime": {
     "end_time": "2021-01-31T17:25:16.525782Z",
     "start_time": "2021-01-31T17:12:10.721Z"
    }
   },
   "outputs": [],
   "source": [
    "einsatz = 1000\n",
    "prestakepercentlist = []\n",
    "zinseszins = []\n",
    "profitpercent = []\n",
    "\n",
    "prestakepercentlist51 = []\n",
    "prestakepercentlist52 = []\n",
    "prestakepercentlist53 = []\n",
    "\n",
    "profitpercent51 = []\n",
    "profitpercent52 = []\n",
    "profitpercent53 = []\n",
    "\n",
    "zinseszins51 = []\n",
    "zinseszins52 = []\n",
    "zinseszins53 = []\n",
    "\n",
    "# For Loop to Simulate K-fold Cross Validation\n",
    "for x in range(1, 10):\n",
    "\n",
    "    # Display Number of Runs\n",
    "    print(\"Run:\", x)\n",
    "\n",
    "    # Amount of Columns\n",
    "    n_nodes = predictors.shape[1]\n",
    "\n",
    "    # Instantiation of MinMaxScaler\n",
    "    norm_scaler = MinMaxScaler()\n",
    "\n",
    "    # Train Classifier\n",
    "    lreg.fit(X_train_scaled, y_train)\n",
    "\n",
    "    # Prediction of Classes\n",
    "    y_pred = lreg.predict(X_test_scaled)\n",
    "\n",
    "    # Display Confusion Matrix and Classification Report\n",
    "    print(confusion_matrix(y_test, y_pred))\n",
    "\n",
    "    # Prediction of Probabilities\n",
    "    y_pred_prob = lreg.predict_proba(X_test_scaled)[:, 1]\n",
    "\n",
    "    # Create Data Frame of Actual Values - y_test\n",
    "    df_y_test = pd.DataFrame(y_test)\n",
    "\n",
    "    # Add Predicted Probabilities to Data Frame\n",
    "    df_y_test[\"y_pred_prob\"] = y_pred_prob\n",
    "\n",
    "    # Add Predicted Classes (0 or 1) to Data Frame to Cross-Check Predicted Probabilities\n",
    "    df_y_test[\"y_pred\"] = y_pred\n",
    "\n",
    "    # Select Actual Daily Returns in USD from the Data Set Copy\n",
    "    df_dataset1_copy_dailyreturns = df_dataset1_copy[['Daily Return in USD']]\n",
    "\n",
    "    # Merge Predictions and Daily Returns Data Frame on the Column \"Date\"\n",
    "    df_y_test_withdailyreturns = pd.merge(\n",
    "        df_y_test, df_dataset1_copy_dailyreturns, on='Date')\n",
    "\n",
    "    df_dataset1_copy_percentage = df_dataset1_copy[[\n",
    "        'percentage_daily_return_bef_shift']]\n",
    "    df_y_test_withdailyreturns = pd.merge(\n",
    "        df_y_test_withdailyreturns, df_dataset1_copy_percentage, on='Date')\n",
    "\n",
    "    # Add Bitcoin Price in USD\n",
    "    df_y_test_withdailyreturns = pd.merge(\n",
    "        df_y_test_withdailyreturns, df_dataset1_copy['Closed Price USD'], on='Date')\n",
    "\n",
    "    df_y_test_withdailyreturns['y_pred_prob_bereinigt'] = np.where(\n",
    "        df_y_test_withdailyreturns['y_pred_prob'] < 0.5, 1-df_y_test_withdailyreturns['y_pred_prob'], df_y_test_withdailyreturns['y_pred_prob'])\n",
    "\n",
    "    df_y_test_withdailyreturns[\"Einsatz\"] = einsatz  # * \\\n",
    "    # df_y_test_withdailyreturns[\"y_pred_prob_bereinigt\"]  # **2\n",
    "\n",
    "    # Add and Calculate Transaction Costs based on the Bitcoin Price in USD\n",
    "    df_y_test_withdailyreturns['Transaction Costs in USD'] = df_y_test_withdailyreturns['Einsatz']*0.00027*2\n",
    "\n",
    "    # Create List of Multiple Thresholds\n",
    "    # A Threshold of 0.7 means that only predicted probabilites with more than 0.7 or less than 0.3 are considered further\n",
    "    list_thresholdcalc = [0.5, 0.51, 0.52, 0.53]\n",
    "\n",
    "    try:\n",
    "\n",
    "        # For Loop Over List\n",
    "        for thresholdcalc in list_thresholdcalc:\n",
    "\n",
    "            # Creation of a Data Frame Containing Only Probability Predictions Which Meet the Threshold Requirements\n",
    "            df_y_test_probaall = df_y_test.loc[(df_y_test['y_pred_prob'] > thresholdcalc) | (\n",
    "                df_y_test['y_pred_prob'] < 1-thresholdcalc)]\n",
    "\n",
    "            # Calculation Of Accuracy Only for the Data Subset Meeting Threshold Requirements\n",
    "            acc_calc = len(df_y_test_probaall[df_y_test_probaall['Class']\n",
    "                                              == df_y_test_probaall['y_pred']]) / len(df_y_test_probaall)\n",
    "\n",
    "            print(\"Threshold of:\", thresholdcalc)\n",
    "            print(classification_report(\n",
    "                df_y_test_probaall[\"Class\"], df_y_test_probaall[\"y_pred\"]))\n",
    "\n",
    "            # Creation of Another Data Frame including Returns and Transaction Costs\n",
    "            # Only For Probability Predicitons that Meet the Threshold Requirements\n",
    "            df_y_test_probaall_withdailyreturns = df_y_test_withdailyreturns.loc[(\n",
    "                df_y_test_withdailyreturns['y_pred_prob'] > thresholdcalc) | (df_y_test_withdailyreturns['y_pred_prob'] < 1-thresholdcalc)]\n",
    "\n",
    "            # Trading Assumption: Bet Amount = 1 Bitcoin for Each Prediction\n",
    "            # Select Daily Returns Only From True Predictions Where Predicted Class equals Actual Class.\n",
    "            # It does not matter whether Daily Returns are Positive or Negative as Short-Selling Option Allows To Profit From Falling Prices\n",
    "            profit = df_y_test_probaall_withdailyreturns[\"percentage_daily_return_bef_shift\"][\n",
    "                df_y_test_probaall_withdailyreturns['Class'] == df_y_test_probaall_withdailyreturns['y_pred']].abs().sum()\n",
    "\n",
    "            # Select  Daily Returns Only From False Predictions Where Predicted Class equals Actual Class\n",
    "            loss = df_y_test_probaall_withdailyreturns[\"percentage_daily_return_bef_shift\"][df_y_test_probaall_withdailyreturns['Class']\n",
    "                                                                                            != df_y_test_probaall_withdailyreturns['y_pred']].abs().sum()\n",
    "\n",
    "            print(\"prestake profit-loss {:.2f} x\".format(profit-loss))\n",
    "\n",
    "            if thresholdcalc == 0.5:\n",
    "                prestakepercentlist.append(int((profit-loss)*100))\n",
    "            if thresholdcalc == 0.51:\n",
    "                prestakepercentlist51.append(int((profit-loss)*100))\n",
    "            if thresholdcalc == 0.52:\n",
    "                prestakepercentlist52.append(int((profit-loss)*100))\n",
    "            if thresholdcalc == 0.53:\n",
    "                prestakepercentlist53.append(int((profit-loss)*100))\n",
    "\n",
    "            loss = loss * einsatz\n",
    "            profit = profit * einsatz\n",
    "\n",
    "            # Calculation of Transaction Costs based On BTC Value in USD. Each Future Trade considers Transaction Costs twice, becauase of Buying and Selling the Future\n",
    "            transaction_costs = df_y_test_probaall_withdailyreturns['Transaction Costs in USD'].sum(\n",
    "            )\n",
    "\n",
    "            # Calculation of Total Profit Considering Profit, Loss and Transaction Costs\n",
    "            total = profit-loss-transaction_costs\n",
    "\n",
    "            print()\n",
    "            print(\"Entire Period:\")\n",
    "            print(\"einsatz\", int(df_y_test_probaall_withdailyreturns[\"Einsatz\"].sum()), \"TotReturn:\", int(total), \"/ Profit: \", int(profit), \"/ Loss: \", int(loss), \"/ TransCosts: \", int(\n",
    "                transaction_costs), \"/ CalcAccuracy\", round(acc_calc, 2), \"/ #CorrectPreds:\", len(df_y_test_probaall[df_y_test_probaall['Class'] == df_y_test_probaall['y_pred']]),  \"Of\", len(df_y_test_probaall))\n",
    "            print(\"einsatz/bet\", df_y_test_probaall_withdailyreturns[\"Einsatz\"].sum() / len(df_y_test_probaall), \"TotReturn / bet\", int(total) / len(\n",
    "                df_y_test_probaall), \"/ TranCosts / bet \", int(transaction_costs) / len(df_y_test_probaall), \"/ CalcuAcc\", round(acc_calc, 2))\n",
    "            print(\"profit in %/bet: {:.2f}\".format(100*(int(total) / len(df_y_test_probaall)) / (\n",
    "                df_y_test_probaall_withdailyreturns[\"Einsatz\"].sum() / len(df_y_test_probaall))))\n",
    "\n",
    "            if thresholdcalc == 0.5:\n",
    "                profitpercent.append(100*(int(total) / len(df_y_test_probaall)) / (\n",
    "                    df_y_test_probaall_withdailyreturns[\"Einsatz\"].sum() / len(df_y_test_probaall)))\n",
    "            if thresholdcalc == 0.51:\n",
    "                profitpercent51.append(100*(int(total) / len(df_y_test_probaall)) / (\n",
    "                    df_y_test_probaall_withdailyreturns[\"Einsatz\"].sum() / len(df_y_test_probaall)))\n",
    "            if thresholdcalc == 0.52:\n",
    "                profitpercent52.append(100*(int(total) / len(df_y_test_probaall)) / (\n",
    "                    df_y_test_probaall_withdailyreturns[\"Einsatz\"].sum() / len(df_y_test_probaall)))\n",
    "            if thresholdcalc == 0.53:\n",
    "                profitpercent53.append(100*(int(total) / len(df_y_test_probaall)) / (\n",
    "                    df_y_test_probaall_withdailyreturns[\"Einsatz\"].sum() / len(df_y_test_probaall)))\n",
    "\n",
    "            print(\"einsatz * 1+profit% ^ # wetten {:.2f}\".format(einsatz*(1+(int(total) / len(df_y_test_probaall)) / (\n",
    "                df_y_test_probaall_withdailyreturns[\"Einsatz\"].sum() / len(df_y_test_probaall))) ** len(df_y_test_probaall)))\n",
    "            if thresholdcalc == 0.5:\n",
    "                zinseszins.append(einsatz*(1+(int(total) / len(df_y_test_probaall)) / (\n",
    "                    df_y_test_probaall_withdailyreturns[\"Einsatz\"].sum() / len(df_y_test_probaall))) ** len(df_y_test_probaall))\n",
    "\n",
    "            print()\n",
    "            print()\n",
    "\n",
    "            # Store All Calculated Values For Every Variable of Every Run\n",
    "            # Specified Period\n",
    "            # Threshold = 0.5\n",
    "            if thresholdcalc == 0.5:\n",
    "                # Entire Period:\n",
    "                list_05_total.append(total)\n",
    "                list_05_profit.append(profit)\n",
    "                list_05_loss.append(loss)\n",
    "                list_05_trans.append(transaction_costs)\n",
    "                list_05_acc.append(acc_calc)\n",
    "                list_05_preds_corr.append(len(\n",
    "                    df_y_test_probaall[df_y_test_probaall['Class'] == df_y_test_probaall['y_pred']]))\n",
    "                list_05_preds.append(len(df_y_test_probaall))\n",
    "\n",
    "            # Threshold = 0.6\n",
    "            if thresholdcalc == 0.51:\n",
    "                # Entire Period:\n",
    "                list_06_total.append(total)\n",
    "                list_06_profit.append(profit)\n",
    "                list_06_loss.append(loss)\n",
    "                list_06_trans.append(transaction_costs)\n",
    "                list_06_acc.append(acc_calc)\n",
    "                list_06_preds_corr.append(len(\n",
    "                    df_y_test_probaall[df_y_test_probaall['Class'] == df_y_test_probaall['y_pred']]))\n",
    "                list_06_preds.append(len(df_y_test_probaall))\n",
    "\n",
    "                zinseszins51.append(einsatz*(1+(int(total) / len(df_y_test_probaall)) / (\n",
    "                    df_y_test_probaall_withdailyreturns[\"Einsatz\"].sum() / len(df_y_test_probaall))) ** len(df_y_test_probaall))\n",
    "\n",
    "            # Threshold = 0.7\n",
    "            if thresholdcalc == 0.52:\n",
    "                # Entire Period:\n",
    "                list_07_total.append(total)\n",
    "                list_07_profit.append(profit)\n",
    "                list_07_loss.append(loss)\n",
    "                list_07_trans.append(transaction_costs)\n",
    "                list_07_acc.append(acc_calc)\n",
    "                list_07_preds_corr.append(len(\n",
    "                    df_y_test_probaall[df_y_test_probaall['Class'] == df_y_test_probaall['y_pred']]))\n",
    "                list_07_preds.append(len(df_y_test_probaall))\n",
    "                zinseszins52.append(einsatz*(1+(int(total) / len(df_y_test_probaall)) / (\n",
    "                    df_y_test_probaall_withdailyreturns[\"Einsatz\"].sum() / len(df_y_test_probaall))) ** len(df_y_test_probaall))\n",
    "\n",
    "            # Threshold = 0.8\n",
    "            if thresholdcalc == 0.53:\n",
    "                # Entire Period:\n",
    "                list_08_total.append(total)\n",
    "                list_08_profit.append(profit)\n",
    "                list_08_loss.append(loss)\n",
    "                list_08_trans.append(transaction_costs)\n",
    "                list_08_acc.append(acc_calc)\n",
    "                list_08_preds_corr.append(len(\n",
    "                    df_y_test_probaall[df_y_test_probaall['Class'] == df_y_test_probaall['y_pred']]))\n",
    "                list_08_preds.append(len(df_y_test_probaall))\n",
    "                zinseszins53.append(einsatz*(1+(int(total) / len(df_y_test_probaall)) / (\n",
    "                    df_y_test_probaall_withdailyreturns[\"Einsatz\"].sum() / len(df_y_test_probaall))) ** len(df_y_test_probaall))\n",
    "\n",
    "    except:\n",
    "        print(\"problem\")\n",
    "\n",
    "    print()\n",
    "    print()\n"
   ]
  },
  {
   "cell_type": "code",
   "execution_count": null,
   "metadata": {
    "ExecuteTime": {
     "end_time": "2021-01-31T17:25:16.527437Z",
     "start_time": "2021-01-31T17:12:10.731Z"
    }
   },
   "outputs": [],
   "source": [
    "print( statistics.median(prestakepercentlist) )\n",
    "print( statistics.median(profitpercent) )\n",
    "print( statistics.median(zinseszins) )\n",
    "print()\n",
    "print(\"proba > 51\")\n",
    "print( statistics.median(prestakepercentlist51) )\n",
    "print( statistics.median(profitpercent51) )\n",
    "print( statistics.median(zinseszins51) )\n",
    "print()\n",
    "print(\"proba > 52\")\n",
    "print( statistics.median(prestakepercentlist52) )\n",
    "print( statistics.median(profitpercent52) )\n",
    "print( statistics.median(zinseszins52) )\n",
    "print()\n",
    "print(\"proba > 52\")\n",
    "print( statistics.median(prestakepercentlist53) )\n",
    "print( statistics.median(profitpercent53) )\n",
    "print( statistics.median(zinseszins53) )"
   ]
  },
  {
   "cell_type": "code",
   "execution_count": null,
   "metadata": {
    "ExecuteTime": {
     "end_time": "2021-01-31T17:25:16.527808Z",
     "start_time": "2021-01-31T17:12:10.739Z"
    }
   },
   "outputs": [],
   "source": [
    "import statistics\n",
    "\n",
    "results_of_2020 = []\n",
    "\n",
    "results_of_2020.append((\"2020_statistics.median(prestakepercentlist)\", statistics.median(prestakepercentlist) ))\n",
    "results_of_2020.append((\"2020_statistics.median(profitpercent)\", statistics.median(profitpercent) ))\n",
    "results_of_2020.append((\"2020_statistics.median(zinseszins)\", statistics.median(zinseszins) ))\n",
    "results_of_2020.append((\"\", \"\" ))\n",
    "results_of_2020.append((\"\", \"\" ))\n",
    "results_of_2020.append((\"2020_statistics.median(prestakepercentlist51)\", statistics.median(prestakepercentlist51) ))\n",
    "results_of_2020.append((\"2020_statistics.median(profitpercent51)\", statistics.median(profitpercent51) ))\n",
    "results_of_2020.append((\"2020_statistics.median(zinseszins51)\", statistics.median(zinseszins51) ))\n",
    "results_of_2020.append((\"\", \"\" ))\n",
    "results_of_2020.append((\"\", \"\" ))\n",
    "results_of_2020.append((\"2020_statistics.median(prestakepercentlist52)\", statistics.median(prestakepercentlist52) ))\n",
    "results_of_2020.append((\"2020_statistics.median(profitpercent52)\", statistics.median(profitpercent52) ))\n",
    "results_of_2020.append((\"2020_statistics.median(zinseszins52)\", statistics.median(zinseszins52) ))\n",
    "results_of_2020.append((\"\", \"\" ))\n",
    "results_of_2020.append((\"\", \"\" ))\n",
    "results_of_2020.append((\"2020_statistics.median(prestakepercentlist53)\", statistics.median(prestakepercentlist53) ))\n",
    "results_of_2020.append((\"2020_statistics.median(profitpercent53)\", statistics.median(profitpercent53) ))\n",
    "results_of_2020.append((\"2020_statistics.median(zinseszins53)\", statistics.median(zinseszins53) ))\n",
    "results_of_2020.append((\"\", \"\" ))\n",
    "results_of_2020.append((\"\", \"\" ))\n",
    "\n",
    "df_zusammen[\"year to predict 2020\"] = \"2020\" \n",
    "df_zusammen[\"keys2020\"] = pd.Series([i[0] for i in results_of_2020]) \n",
    "df_zusammen[\"values2020\"] = pd.Series([i[1] for i in results_of_2020]) \n",
    "df_zusammen[\"X_train.shape2020\"] = pd.Series([X_train.shape]) \n",
    "df_zusammen[\"X_test.shape2020\"] = pd.Series([X_test.shape]) "
   ]
  },
  {
   "cell_type": "markdown",
   "metadata": {},
   "source": [
    "# Save Results as csv"
   ]
  },
  {
   "cell_type": "code",
   "execution_count": null,
   "metadata": {
    "ExecuteTime": {
     "end_time": "2021-01-31T17:25:16.529799Z",
     "start_time": "2021-01-31T17:12:10.749Z"
    }
   },
   "outputs": [],
   "source": [
    "out_path = \"{}_{}_ppd{}_f{}.xlsx\".format(int(time.time()), str(lreg)[:10], str(round(statistics.median(current_profitpercent),2)), anzahlfeats )\n",
    "\n",
    "writer = pd.ExcelWriter(out_path , engine='xlsxwriter')\n",
    "df_zusammen.to_excel(writer, sheet_name='Tabelle1')\n",
    "writer.save()"
   ]
  },
  {
   "cell_type": "code",
   "execution_count": null,
   "metadata": {
    "ExecuteTime": {
     "end_time": "2021-01-31T17:25:16.530770Z",
     "start_time": "2021-01-31T17:12:10.758Z"
    }
   },
   "outputs": [],
   "source": [
    "stop"
   ]
  },
  {
   "cell_type": "code",
   "execution_count": null,
   "metadata": {},
   "outputs": [],
   "source": []
  },
  {
   "cell_type": "code",
   "execution_count": null,
   "metadata": {},
   "outputs": [],
   "source": []
  },
  {
   "cell_type": "code",
   "execution_count": null,
   "metadata": {},
   "outputs": [],
   "source": []
  },
  {
   "cell_type": "code",
   "execution_count": null,
   "metadata": {},
   "outputs": [],
   "source": []
  },
  {
   "cell_type": "code",
   "execution_count": null,
   "metadata": {},
   "outputs": [],
   "source": []
  },
  {
   "cell_type": "code",
   "execution_count": null,
   "metadata": {
    "ExecuteTime": {
     "end_time": "2021-01-31T17:25:16.531799Z",
     "start_time": "2021-01-31T17:12:10.788Z"
    }
   },
   "outputs": [],
   "source": [
    "current_profitpercent"
   ]
  },
  {
   "cell_type": "code",
   "execution_count": null,
   "metadata": {
    "ExecuteTime": {
     "end_time": "2021-01-31T17:25:16.532764Z",
     "start_time": "2021-01-31T17:12:10.796Z"
    }
   },
   "outputs": [],
   "source": [
    "currentpreds_all[\"Daily Return in USD\"][(\n",
    "    currentpreds_all['Class'] == currentpreds_all['y_pred'])].sort_values()"
   ]
  },
  {
   "cell_type": "code",
   "execution_count": null,
   "metadata": {
    "ExecuteTime": {
     "end_time": "2021-01-31T17:25:16.533797Z",
     "start_time": "2021-01-31T17:12:10.804Z"
    },
    "scrolled": true
   },
   "outputs": [],
   "source": [
    "currentpreds_all[[\"Daily Return in USD\", \"percentage_daily_return\"]][(\n",
    "    currentpreds_all['Class'] != currentpreds_all['y_pred'])].abs().sort_values(\"percentage_daily_return\")"
   ]
  },
  {
   "cell_type": "code",
   "execution_count": null,
   "metadata": {
    "ExecuteTime": {
     "end_time": "2021-01-31T17:25:16.534759Z",
     "start_time": "2021-01-31T17:12:10.812Z"
    },
    "scrolled": true
   },
   "outputs": [],
   "source": [
    "currentpreds_all[[\"Daily Return in USD\", \"percentage_daily_return\"]][(\n",
    "    currentpreds_all['Class'] == currentpreds_all['y_pred'])].abs().sort_values(\"percentage_daily_return\",ascending=False)"
   ]
  },
  {
   "cell_type": "code",
   "execution_count": null,
   "metadata": {
    "ExecuteTime": {
     "end_time": "2021-01-31T17:25:16.535757Z",
     "start_time": "2021-01-31T17:12:10.820Z"
    }
   },
   "outputs": [],
   "source": [
    "currentpreds_all[\"percentage_daily_return\"][(\n",
    "    currentpreds_all['Class'] == currentpreds_all['y_pred'])].abs().sort_values(ascending=False).head(30)"
   ]
  },
  {
   "cell_type": "code",
   "execution_count": null,
   "metadata": {
    "ExecuteTime": {
     "end_time": "2021-01-31T17:25:16.536754Z",
     "start_time": "2021-01-31T17:12:10.827Z"
    }
   },
   "outputs": [],
   "source": [
    "currentpreds_all[\"percentage_daily_return\"][(\n",
    "    currentpreds_all['Class'] == currentpreds_all['y_pred'])].abs().sum()"
   ]
  },
  {
   "cell_type": "code",
   "execution_count": null,
   "metadata": {
    "ExecuteTime": {
     "end_time": "2021-01-31T17:25:16.537815Z",
     "start_time": "2021-01-31T17:12:10.835Z"
    }
   },
   "outputs": [],
   "source": [
    "currentpreds_all[\"percentage_daily_return\"][(\n",
    "    currentpreds_all['Class'] != currentpreds_all['y_pred'])].abs().sum()"
   ]
  },
  {
   "cell_type": "markdown",
   "metadata": {},
   "source": [
    "# Deepdive in prediction"
   ]
  },
  {
   "cell_type": "code",
   "execution_count": null,
   "metadata": {
    "ExecuteTime": {
     "end_time": "2021-01-31T17:25:16.539103Z",
     "start_time": "2021-01-31T17:12:10.845Z"
    }
   },
   "outputs": [],
   "source": [
    "current_profitpercent"
   ]
  },
  {
   "cell_type": "code",
   "execution_count": null,
   "metadata": {
    "ExecuteTime": {
     "end_time": "2021-01-31T17:25:16.539747Z",
     "start_time": "2021-01-31T17:12:10.854Z"
    }
   },
   "outputs": [],
   "source": [
    "profitpercent"
   ]
  },
  {
   "cell_type": "code",
   "execution_count": null,
   "metadata": {
    "ExecuteTime": {
     "end_time": "2021-01-31T17:25:16.540744Z",
     "start_time": "2021-01-31T17:12:10.862Z"
    }
   },
   "outputs": [],
   "source": [
    "len( df_y_test_withdailyreturns )"
   ]
  },
  {
   "cell_type": "code",
   "execution_count": null,
   "metadata": {},
   "outputs": [],
   "source": []
  },
  {
   "cell_type": "code",
   "execution_count": null,
   "metadata": {
    "ExecuteTime": {
     "end_time": "2021-01-31T17:25:16.542737Z",
     "start_time": "2021-01-31T17:12:10.877Z"
    }
   },
   "outputs": [],
   "source": [
    "df_y_test_withdailyreturns[\"percentage_daily_return\"][(df_y_test_withdailyreturns[\"Class\"] != df_y_test_withdailyreturns[\"y_pred\"]) & (df_y_test_withdailyreturns[\"y_pred\"] == 0 )].abs().count()"
   ]
  },
  {
   "cell_type": "code",
   "execution_count": null,
   "metadata": {
    "ExecuteTime": {
     "end_time": "2021-01-31T17:25:16.543735Z",
     "start_time": "2021-01-31T17:12:10.885Z"
    }
   },
   "outputs": [],
   "source": [
    "df_y_test_withdailyreturns[\"percentage_daily_return\"][(df_y_test_withdailyreturns[\"Class\"] != df_y_test_withdailyreturns[\"y_pred\"]) & (df_y_test_withdailyreturns[\"y_pred\"] == 1 )].abs().count()"
   ]
  },
  {
   "cell_type": "code",
   "execution_count": null,
   "metadata": {
    "ExecuteTime": {
     "end_time": "2021-01-31T17:25:16.544974Z",
     "start_time": "2021-01-31T17:12:10.896Z"
    }
   },
   "outputs": [],
   "source": [
    "df_y_test_withdailyreturns[\"percentage_daily_return\"][(df_y_test_withdailyreturns[\"Class\"] == df_y_test_withdailyreturns[\"y_pred\"]) & (df_y_test_withdailyreturns[\"y_pred\"] == 0 )].abs().count()"
   ]
  },
  {
   "cell_type": "code",
   "execution_count": null,
   "metadata": {
    "ExecuteTime": {
     "end_time": "2021-01-31T17:25:16.546726Z",
     "start_time": "2021-01-31T17:12:10.903Z"
    }
   },
   "outputs": [],
   "source": [
    "df_y_test_withdailyreturns[\"percentage_daily_return\"][(df_y_test_withdailyreturns[\"Class\"] == df_y_test_withdailyreturns[\"y_pred\"]) & (df_y_test_withdailyreturns[\"y_pred\"] == 1 )].abs().count()"
   ]
  },
  {
   "cell_type": "code",
   "execution_count": null,
   "metadata": {},
   "outputs": [],
   "source": []
  },
  {
   "cell_type": "code",
   "execution_count": null,
   "metadata": {},
   "outputs": [],
   "source": []
  },
  {
   "cell_type": "code",
   "execution_count": null,
   "metadata": {
    "ExecuteTime": {
     "end_time": "2021-01-31T17:25:16.548006Z",
     "start_time": "2021-01-31T17:12:10.926Z"
    }
   },
   "outputs": [],
   "source": [
    "# wrong negative\n",
    "df_y_test_withdailyreturns[\"percentage_daily_return\"][(df_y_test_withdailyreturns[\"Class\"] != df_y_test_withdailyreturns[\"y_pred\"]) & (df_y_test_withdailyreturns[\"y_pred\"] == 0 )].abs().sum()"
   ]
  },
  {
   "cell_type": "code",
   "execution_count": null,
   "metadata": {
    "ExecuteTime": {
     "end_time": "2021-01-31T17:25:16.548720Z",
     "start_time": "2021-01-31T17:12:10.933Z"
    }
   },
   "outputs": [],
   "source": [
    "# wrong positive\n",
    "df_y_test_withdailyreturns[\"percentage_daily_return\"][(df_y_test_withdailyreturns[\"Class\"] != df_y_test_withdailyreturns[\"y_pred\"]) & (df_y_test_withdailyreturns[\"y_pred\"] == 1 )].abs().sum()"
   ]
  },
  {
   "cell_type": "code",
   "execution_count": null,
   "metadata": {
    "ExecuteTime": {
     "end_time": "2021-01-31T17:25:16.549719Z",
     "start_time": "2021-01-31T17:12:10.942Z"
    }
   },
   "outputs": [],
   "source": [
    "# correct negative\n",
    "df_y_test_withdailyreturns[\"percentage_daily_return\"][(df_y_test_withdailyreturns[\"Class\"] == df_y_test_withdailyreturns[\"y_pred\"]) & (df_y_test_withdailyreturns[\"y_pred\"] == 0 )].abs().sum()"
   ]
  },
  {
   "cell_type": "code",
   "execution_count": null,
   "metadata": {
    "ExecuteTime": {
     "end_time": "2021-01-31T17:25:16.550716Z",
     "start_time": "2021-01-31T17:12:10.949Z"
    }
   },
   "outputs": [],
   "source": [
    "# correct positive\n",
    "df_y_test_withdailyreturns[\"percentage_daily_return\"][(df_y_test_withdailyreturns[\"Class\"] == df_y_test_withdailyreturns[\"y_pred\"]) & (df_y_test_withdailyreturns[\"y_pred\"] == 1 )].abs().sum()"
   ]
  },
  {
   "cell_type": "code",
   "execution_count": null,
   "metadata": {},
   "outputs": [],
   "source": []
  },
  {
   "cell_type": "code",
   "execution_count": null,
   "metadata": {},
   "outputs": [],
   "source": []
  },
  {
   "cell_type": "code",
   "execution_count": null,
   "metadata": {
    "ExecuteTime": {
     "end_time": "2021-01-31T17:25:16.551714Z",
     "start_time": "2021-01-31T17:12:10.971Z"
    }
   },
   "outputs": [],
   "source": [
    "df_y_test_withdailyreturns.sort_values(\"Daily Return in USD\")"
   ]
  },
  {
   "cell_type": "code",
   "execution_count": null,
   "metadata": {
    "ExecuteTime": {
     "end_time": "2021-01-31T17:25:16.552711Z",
     "start_time": "2021-01-31T17:12:10.978Z"
    }
   },
   "outputs": [],
   "source": [
    "df_y_test_withdailyreturns[df_y_test_withdailyreturns[\"Class\"] != df_y_test_withdailyreturns[\"y_pred\"]].abs().sum()"
   ]
  },
  {
   "cell_type": "code",
   "execution_count": null,
   "metadata": {
    "ExecuteTime": {
     "end_time": "2021-01-31T17:25:16.553733Z",
     "start_time": "2021-01-31T17:12:10.988Z"
    }
   },
   "outputs": [],
   "source": [
    "df_y_test_withdailyreturns[df_y_test_withdailyreturns[\"Class\"] == df_y_test_withdailyreturns[\"y_pred\"]].abs().sum()"
   ]
  },
  {
   "cell_type": "code",
   "execution_count": null,
   "metadata": {
    "ExecuteTime": {
     "end_time": "2021-01-31T17:25:16.554942Z",
     "start_time": "2021-01-31T17:12:11.004Z"
    }
   },
   "outputs": [],
   "source": [
    "dfrights = df_y_test_withdailyreturns[df_y_test_withdailyreturns[\"Class\"] == df_y_test_withdailyreturns[\"y_pred\"]]\n",
    "dfwrongs = df_y_test_withdailyreturns[df_y_test_withdailyreturns[\"Class\"] != df_y_test_withdailyreturns[\"y_pred\"]]"
   ]
  },
  {
   "cell_type": "code",
   "execution_count": null,
   "metadata": {
    "ExecuteTime": {
     "end_time": "2021-01-31T17:25:16.555703Z",
     "start_time": "2021-01-31T17:12:11.017Z"
    }
   },
   "outputs": [],
   "source": [
    "df_y_test_withdailyreturns = df_y_test_withdailyreturns.sort_index()\n",
    "df_y_test_withdailyreturns[\"dfrights\"] = np.where(df_y_test_withdailyreturns[\"Class\"] == df_y_test_withdailyreturns[\"y_pred\"], 1.0, 0.0)\n",
    "df_y_test_withdailyreturns.head()"
   ]
  },
  {
   "cell_type": "code",
   "execution_count": null,
   "metadata": {
    "ExecuteTime": {
     "end_time": "2021-01-31T17:25:16.556700Z",
     "start_time": "2021-01-31T17:12:11.029Z"
    }
   },
   "outputs": [],
   "source": [
    "df_y_test_withdailyreturns['gain'] = np.where(df_y_test_withdailyreturns[\"dfrights\"]==1.0, df_y_test_withdailyreturns[\"percentage_daily_return\"].abs(), -1*df_y_test_withdailyreturns[\"percentage_daily_return\"].abs() )\n",
    "df_y_test_withdailyreturns['gain_cumsum'] = df_y_test_withdailyreturns['gain'].cumsum()\n",
    "df_y_test_withdailyreturns['gain_cumsum']"
   ]
  },
  {
   "cell_type": "code",
   "execution_count": null,
   "metadata": {
    "ExecuteTime": {
     "end_time": "2021-01-31T17:25:16.557697Z",
     "start_time": "2021-01-31T17:12:11.041Z"
    }
   },
   "outputs": [],
   "source": [
    "import plotly.express as px\n",
    "\n",
    "fig = px.line(df_y_test_withdailyreturns, y=df_y_test_withdailyreturns['gain_cumsum'], title='Algo gains over time')\n",
    "fig.show()"
   ]
  },
  {
   "cell_type": "code",
   "execution_count": null,
   "metadata": {},
   "outputs": [],
   "source": []
  },
  {
   "cell_type": "code",
   "execution_count": null,
   "metadata": {},
   "outputs": [],
   "source": []
  },
  {
   "cell_type": "code",
   "execution_count": null,
   "metadata": {
    "ExecuteTime": {
     "end_time": "2021-01-31T17:25:16.558696Z",
     "start_time": "2021-01-31T17:12:11.064Z"
    }
   },
   "outputs": [],
   "source": [
    "dfwrongs.abs().index.values"
   ]
  },
  {
   "cell_type": "code",
   "execution_count": null,
   "metadata": {
    "ExecuteTime": {
     "end_time": "2021-01-31T17:25:16.560007Z",
     "start_time": "2021-01-31T17:12:11.077Z"
    }
   },
   "outputs": [],
   "source": [
    "dfwrongs.abs().percentage_daily_return.values"
   ]
  },
  {
   "cell_type": "code",
   "execution_count": null,
   "metadata": {
    "ExecuteTime": {
     "end_time": "2021-01-31T17:25:16.560689Z",
     "start_time": "2021-01-31T17:12:11.090Z"
    }
   },
   "outputs": [],
   "source": [
    "dfwrongs = dfwrongs.sort_index()\n",
    "dfwrongs"
   ]
  },
  {
   "cell_type": "code",
   "execution_count": null,
   "metadata": {
    "ExecuteTime": {
     "end_time": "2021-01-31T17:25:16.561862Z",
     "start_time": "2021-01-31T17:12:11.101Z"
    }
   },
   "outputs": [],
   "source": [
    "dfwrongs[\"percentage_daily_return\"].abs().sort_values()"
   ]
  },
  {
   "cell_type": "code",
   "execution_count": null,
   "metadata": {
    "ExecuteTime": {
     "end_time": "2021-01-31T17:25:16.562683Z",
     "start_time": "2021-01-31T17:12:11.113Z"
    }
   },
   "outputs": [],
   "source": [
    "dfrights[\"percentage_daily_return\"].abs().sort_values()"
   ]
  },
  {
   "cell_type": "code",
   "execution_count": null,
   "metadata": {
    "ExecuteTime": {
     "end_time": "2021-01-31T17:25:16.562683Z",
     "start_time": "2021-01-31T17:12:11.124Z"
    }
   },
   "outputs": [],
   "source": [
    "import plotly.graph_objects as go\n",
    "\n",
    "# show perecentages of wrong predictions over time\n",
    "fig = go.Figure(data=go.Scatter(x=dfwrongs.abs().index, y=dfwrongs.abs().percentage_daily_return.values))\n",
    "fig.show()"
   ]
  },
  {
   "cell_type": "code",
   "execution_count": null,
   "metadata": {
    "ExecuteTime": {
     "end_time": "2021-01-31T17:25:16.563930Z",
     "start_time": "2021-01-31T17:12:11.135Z"
    }
   },
   "outputs": [],
   "source": [
    "# show perecentages of wrong predictions histogramm\n",
    "\n",
    "dfwrongs.abs().sort_values(\"percentage_daily_return\")\n",
    "fig = px.histogram(dfwrongs.abs(), x=\"percentage_daily_return\")\n",
    "fig.show()"
   ]
  },
  {
   "cell_type": "code",
   "execution_count": null,
   "metadata": {
    "ExecuteTime": {
     "end_time": "2021-01-31T17:25:16.564913Z",
     "start_time": "2021-01-31T17:12:11.146Z"
    }
   },
   "outputs": [],
   "source": [
    "dfrights.abs().sort_values(\"percentage_daily_return\")\n",
    "fig = px.histogram(dfrights.abs(), x=\"percentage_daily_return\")\n",
    "fig.show()"
   ]
  },
  {
   "cell_type": "code",
   "execution_count": null,
   "metadata": {
    "ExecuteTime": {
     "end_time": "2021-01-31T17:25:16.565854Z",
     "start_time": "2021-01-31T17:12:11.158Z"
    }
   },
   "outputs": [],
   "source": [
    "dfwrongs[\"year\"] = dfwrongs.index.year\n",
    "dfwrongs.abs().groupby(['year']).agg(['sum', 'count'])"
   ]
  },
  {
   "cell_type": "code",
   "execution_count": null,
   "metadata": {
    "ExecuteTime": {
     "end_time": "2021-01-31T17:25:16.566916Z",
     "start_time": "2021-01-31T17:12:11.169Z"
    }
   },
   "outputs": [],
   "source": [
    "# HERE DIFF LOOK AT percentage_daily_return\n",
    "\n",
    "dfrights[\"year\"] = dfrights.index.year\n",
    "dfrights.abs().groupby(['year']).agg(['sum', 'count']) - dfwrongs.abs().groupby(['year']).agg(['sum', 'count'])"
   ]
  },
  {
   "cell_type": "markdown",
   "metadata": {},
   "source": [
    "# predict on tomorrow"
   ]
  },
  {
   "cell_type": "code",
   "execution_count": null,
   "metadata": {
    "ExecuteTime": {
     "end_time": "2021-01-31T17:25:16.567848Z",
     "start_time": "2021-01-31T17:12:11.182Z"
    }
   },
   "outputs": [],
   "source": [
    "# Split Data into Training and Testing\n",
    "#X_train, X_test, y_train, y_test = train_test_split(predictors, target, test_size=0.3, stratify=target)\n",
    "\n",
    "# Amount of Columns\n",
    "n_nodes = predictors.shape[1]\n",
    "print(\"Amount of Columns\", n_nodes)\n",
    "\n",
    "# Instantiation of MinMaxScaler\n",
    "norm_scaler = MinMaxScaler()\n",
    "\n",
    "# Training and Application of Feature Scaler on Training Data of Predictors\n",
    "predictors_scaled = pd.DataFrame(norm_scaler.fit_transform(predictors))\n",
    "\n",
    "# Instantiate Classifier Logistic Regression\n",
    "#lreg = LogisticRegression(max_iter=12000) \n",
    "\n",
    "# Train Classifier\n",
    "lreg.fit(predictors_scaled, target)"
   ]
  },
  {
   "cell_type": "markdown",
   "metadata": {},
   "source": [
    "# get x train data of today to predict tomorrow y  "
   ]
  },
  {
   "cell_type": "code",
   "execution_count": null,
   "metadata": {
    "ExecuteTime": {
     "end_time": "2021-01-31T17:25:16.567848Z",
     "start_time": "2021-01-31T17:12:11.195Z"
    }
   },
   "outputs": [],
   "source": [
    "most_current_day = df_dataset1.head(10)\n",
    "dateofprediction = most_current_day.index\n",
    "most_current_day"
   ]
  },
  {
   "cell_type": "code",
   "execution_count": null,
   "metadata": {
    "ExecuteTime": {
     "end_time": "2021-01-31T17:25:16.569472Z",
     "start_time": "2021-01-31T17:12:11.208Z"
    }
   },
   "outputs": [],
   "source": [
    "try:\n",
    "    # Setup of Predictors (Indpendent Variables) by Excluding Target Variable\n",
    "    most_current_day_predictors = most_current_day.drop(['Class'], axis=1).values.astype(np.float32)\n",
    "except:\n",
    "    # Setup of Predictors (Indpendent Variables) by Excluding Target Variable\n",
    "    most_current_day_predictors = most_current_day.values.astype(np.float32)"
   ]
  },
  {
   "cell_type": "code",
   "execution_count": null,
   "metadata": {
    "ExecuteTime": {
     "end_time": "2021-01-31T17:25:16.569843Z",
     "start_time": "2021-01-31T17:12:11.218Z"
    }
   },
   "outputs": [],
   "source": [
    "# Scaler Transformation of Entire Training Set - Input for Cross-Validation\n",
    "most_current_day_predictors_scaled = norm_scaler.transform(most_current_day_predictors)\n",
    "most_current_day_predictors_scaled"
   ]
  },
  {
   "cell_type": "code",
   "execution_count": null,
   "metadata": {
    "ExecuteTime": {
     "end_time": "2021-01-31T17:25:16.570923Z",
     "start_time": "2021-01-31T17:12:11.227Z"
    }
   },
   "outputs": [],
   "source": [
    "# Prediction of Probabilities\n",
    "most_current_day_pred_prob = lreg.predict_proba(most_current_day_predictors_scaled)[:,1]\n",
    "most_current_day_pred_prob"
   ]
  },
  {
   "cell_type": "code",
   "execution_count": null,
   "metadata": {
    "ExecuteTime": {
     "end_time": "2021-01-31T17:25:16.572375Z",
     "start_time": "2021-01-31T17:12:11.234Z"
    }
   },
   "outputs": [],
   "source": [
    "most_current_day[\"algoo\"] = most_current_day_pred_prob"
   ]
  },
  {
   "cell_type": "code",
   "execution_count": null,
   "metadata": {
    "ExecuteTime": {
     "end_time": "2021-01-31T17:25:16.572837Z",
     "start_time": "2021-01-31T17:12:11.242Z"
    }
   },
   "outputs": [],
   "source": [
    "most_current_day.columns"
   ]
  },
  {
   "cell_type": "code",
   "execution_count": null,
   "metadata": {
    "ExecuteTime": {
     "end_time": "2021-01-31T17:25:16.574426Z",
     "start_time": "2021-01-31T17:12:11.249Z"
    }
   },
   "outputs": [],
   "source": [
    "most_current_day[['Closed Price USD', 'Daily Return in Percent',\n",
    "                  'Log Price in USD', 'Daily Return in USD_ohneshift',\n",
    "                  'percentage_daily_return_bef_shift', 'Class', 'algoo']]"
   ]
  },
  {
   "cell_type": "code",
   "execution_count": null,
   "metadata": {
    "ExecuteTime": {
     "end_time": "2021-01-31T17:25:16.574830Z",
     "start_time": "2021-01-31T17:12:11.257Z"
    }
   },
   "outputs": [],
   "source": [
    "# Prediction of Classes\n",
    "most_current_day_pred = lreg.predict(most_current_day_predictors_scaled)\n",
    "algoprediction = int( most_current_day_pred[0] )\n",
    "algoprediction"
   ]
  },
  {
   "cell_type": "code",
   "execution_count": null,
   "metadata": {
    "ExecuteTime": {
     "end_time": "2021-01-31T17:25:16.575827Z",
     "start_time": "2021-01-31T17:12:11.263Z"
    }
   },
   "outputs": [],
   "source": [
    "dateofprediction[0]"
   ]
  },
  {
   "cell_type": "code",
   "execution_count": null,
   "metadata": {
    "ExecuteTime": {
     "end_time": "2021-01-31T17:25:16.577822Z",
     "start_time": "2021-01-31T17:12:11.271Z"
    }
   },
   "outputs": [],
   "source": [
    "df_dataset1.head(15)"
   ]
  },
  {
   "cell_type": "code",
   "execution_count": null,
   "metadata": {},
   "outputs": [],
   "source": []
  },
  {
   "cell_type": "code",
   "execution_count": null,
   "metadata": {},
   "outputs": [],
   "source": []
  }
 ],
 "metadata": {
  "kernelspec": {
   "display_name": "Python 3",
   "language": "python",
   "name": "python3"
  },
  "language_info": {
   "codemirror_mode": {
    "name": "ipython",
    "version": 3
   },
   "file_extension": ".py",
   "mimetype": "text/x-python",
   "name": "python",
   "nbconvert_exporter": "python",
   "pygments_lexer": "ipython3",
   "version": "3.8.5"
  },
  "toc": {
   "base_numbering": 1,
   "nav_menu": {},
   "number_sections": true,
   "sideBar": true,
   "skip_h1_title": false,
   "title_cell": "Table of Contents",
   "title_sidebar": "Contents",
   "toc_cell": true,
   "toc_position": {},
   "toc_section_display": true,
   "toc_window_display": false
  },
  "toc-autonumbering": true,
  "toc-showtags": false,
  "varInspector": {
   "cols": {
    "lenName": 16,
    "lenType": 16,
    "lenVar": 40
   },
   "kernels_config": {
    "python": {
     "delete_cmd_postfix": "",
     "delete_cmd_prefix": "del ",
     "library": "var_list.py",
     "varRefreshCmd": "print(var_dic_list())"
    },
    "r": {
     "delete_cmd_postfix": ") ",
     "delete_cmd_prefix": "rm(",
     "library": "var_list.r",
     "varRefreshCmd": "cat(var_dic_list()) "
    }
   },
   "types_to_exclude": [
    "module",
    "function",
    "builtin_function_or_method",
    "instance",
    "_Feature"
   ],
   "window_display": false
  }
 },
 "nbformat": 4,
 "nbformat_minor": 4
}
