{
 "cells": [
  {
   "cell_type": "markdown",
   "metadata": {
    "toc": true
   },
   "source": [
    "<h1>Table of Contents<span class=\"tocSkip\"></span></h1>\n",
    "<div class=\"toc\"><ul class=\"toc-item\"><li><span><a href=\"#Data-Preprocessing\" data-toc-modified-id=\"Data-Preprocessing-1\"><span class=\"toc-item-num\">1&nbsp;&nbsp;</span>Data Preprocessing</a></span><ul class=\"toc-item\"><li><span><a href=\"#Data-Import-via-Application-Programming-Interfaces\" data-toc-modified-id=\"Data-Import-via-Application-Programming-Interfaces-1.1\"><span class=\"toc-item-num\">1.1&nbsp;&nbsp;</span>Data Import via Application Programming Interfaces</a></span><ul class=\"toc-item\"><li><span><a href=\"#Blockchain-Data-from-Glassnode\" data-toc-modified-id=\"Blockchain-Data-from-Glassnode-1.1.1\"><span class=\"toc-item-num\">1.1.1&nbsp;&nbsp;</span>Blockchain Data from Glassnode</a></span><ul class=\"toc-item\"><li><span><a href=\"#Market-Metrics-from-Glassnode\" data-toc-modified-id=\"Market-Metrics-from-Glassnode-1.1.1.1\"><span class=\"toc-item-num\">1.1.1.1&nbsp;&nbsp;</span>Market Metrics from Glassnode</a></span></li><li><span><a href=\"#Mining-Metrics-from-Glassnode\" data-toc-modified-id=\"Mining-Metrics-from-Glassnode-1.1.1.2\"><span class=\"toc-item-num\">1.1.1.2&nbsp;&nbsp;</span>Mining Metrics from Glassnode</a></span></li><li><span><a href=\"#Blocks-Metrics-from-Glassnode\" data-toc-modified-id=\"Blocks-Metrics-from-Glassnode-1.1.1.3\"><span class=\"toc-item-num\">1.1.1.3&nbsp;&nbsp;</span>Blocks Metrics from Glassnode</a></span></li><li><span><a href=\"#Distribution-Metrics-from-Glassnode\" data-toc-modified-id=\"Distribution-Metrics-from-Glassnode-1.1.1.4\"><span class=\"toc-item-num\">1.1.1.4&nbsp;&nbsp;</span>Distribution Metrics from Glassnode</a></span></li><li><span><a href=\"#Fee-Metrics-from-Glassnode\" data-toc-modified-id=\"Fee-Metrics-from-Glassnode-1.1.1.5\"><span class=\"toc-item-num\">1.1.1.5&nbsp;&nbsp;</span>Fee Metrics from Glassnode</a></span></li><li><span><a href=\"#UTXO-Metrics-from-Glassnode\" data-toc-modified-id=\"UTXO-Metrics-from-Glassnode-1.1.1.6\"><span class=\"toc-item-num\">1.1.1.6&nbsp;&nbsp;</span>UTXO Metrics from Glassnode</a></span></li><li><span><a href=\"#Supply-Metrics-from-Glassnode\" data-toc-modified-id=\"Supply-Metrics-from-Glassnode-1.1.1.7\"><span class=\"toc-item-num\">1.1.1.7&nbsp;&nbsp;</span>Supply Metrics from Glassnode</a></span></li><li><span><a href=\"#Transaction-Metrics-from-Glassnode\" data-toc-modified-id=\"Transaction-Metrics-from-Glassnode-1.1.1.8\"><span class=\"toc-item-num\">1.1.1.8&nbsp;&nbsp;</span>Transaction Metrics from Glassnode</a></span></li><li><span><a href=\"#Exchange-Metrics-from-Glassnode---1-Month-Lag\" data-toc-modified-id=\"Exchange-Metrics-from-Glassnode---1-Month-Lag-1.1.1.9\"><span class=\"toc-item-num\">1.1.1.9&nbsp;&nbsp;</span>Exchange Metrics from Glassnode - 1 Month Lag</a></span></li><li><span><a href=\"#Indicator-I-Metrics-from-Glassnode\" data-toc-modified-id=\"Indicator-I-Metrics-from-Glassnode-1.1.1.10\"><span class=\"toc-item-num\">1.1.1.10&nbsp;&nbsp;</span>Indicator-I Metrics from Glassnode</a></span></li><li><span><a href=\"#Indicator-2-Metrics-from-Glassnode\" data-toc-modified-id=\"Indicator-2-Metrics-from-Glassnode-1.1.1.11\"><span class=\"toc-item-num\">1.1.1.11&nbsp;&nbsp;</span>Indicator-2 Metrics from Glassnode</a></span></li><li><span><a href=\"#Indicator-3-Metrics-from-Glassnode\" data-toc-modified-id=\"Indicator-3-Metrics-from-Glassnode-1.1.1.12\"><span class=\"toc-item-num\">1.1.1.12&nbsp;&nbsp;</span>Indicator-3 Metrics from Glassnode</a></span></li><li><span><a href=\"#Addresses-Metrics-from-Glassnode\" data-toc-modified-id=\"Addresses-Metrics-from-Glassnode-1.1.1.13\"><span class=\"toc-item-num\">1.1.1.13&nbsp;&nbsp;</span>Addresses Metrics from Glassnode</a></span></li><li><span><a href=\"#Futures-Metrics-from-Glassnode---Excluded-as-Data-Available-Only-Since-Feb-2020\" data-toc-modified-id=\"Futures-Metrics-from-Glassnode---Excluded-as-Data-Available-Only-Since-Feb-2020-1.1.1.14\"><span class=\"toc-item-num\">1.1.1.14&nbsp;&nbsp;</span>Futures Metrics from Glassnode - Excluded as Data Available Only Since Feb 2020</a></span><ul class=\"toc-item\"><li><span><a href=\"#List-of-Futures-Features\" data-toc-modified-id=\"List-of-Futures-Features-1.1.1.14.1\"><span class=\"toc-item-num\">1.1.1.14.1&nbsp;&nbsp;</span>List of Futures Features</a></span></li><li><span><a href=\"#Data-Frame-of-Future-features\" data-toc-modified-id=\"Data-Frame-of-Future-features-1.1.1.14.2\"><span class=\"toc-item-num\">1.1.1.14.2&nbsp;&nbsp;</span>Data Frame of Future features</a></span></li></ul></li></ul></li></ul></li><li><span><a href=\"#File-Import-and-Data-Tidying\" data-toc-modified-id=\"File-Import-and-Data-Tidying-1.2\"><span class=\"toc-item-num\">1.2&nbsp;&nbsp;</span>File Import and Data Tidying</a></span><ul class=\"toc-item\"><li><span><a href=\"#Import-Blockchain-CSV-Files\" data-toc-modified-id=\"Import-Blockchain-CSV-Files-1.2.1\"><span class=\"toc-item-num\">1.2.1&nbsp;&nbsp;</span>Import Blockchain CSV-Files</a></span><ul class=\"toc-item\"><li><span><a href=\"#Market-Metric-CSV-Files\" data-toc-modified-id=\"Market-Metric-CSV-Files-1.2.1.1\"><span class=\"toc-item-num\">1.2.1.1&nbsp;&nbsp;</span>Market Metric CSV-Files</a></span></li><li><span><a href=\"#Mining-Metric-CSV-Files\" data-toc-modified-id=\"Mining-Metric-CSV-Files-1.2.1.2\"><span class=\"toc-item-num\">1.2.1.2&nbsp;&nbsp;</span>Mining Metric CSV-Files</a></span></li><li><span><a href=\"#Blocks-Metric-CSV-Files\" data-toc-modified-id=\"Blocks-Metric-CSV-Files-1.2.1.3\"><span class=\"toc-item-num\">1.2.1.3&nbsp;&nbsp;</span>Blocks Metric CSV-Files</a></span></li><li><span><a href=\"#Distribution-Metric-CSV-Files\" data-toc-modified-id=\"Distribution-Metric-CSV-Files-1.2.1.4\"><span class=\"toc-item-num\">1.2.1.4&nbsp;&nbsp;</span>Distribution Metric CSV-Files</a></span></li><li><span><a href=\"#Fee-Metric-CSV-Files\" data-toc-modified-id=\"Fee-Metric-CSV-Files-1.2.1.5\"><span class=\"toc-item-num\">1.2.1.5&nbsp;&nbsp;</span>Fee Metric CSV-Files</a></span></li><li><span><a href=\"#UTXO-Metric-CSV-Files\" data-toc-modified-id=\"UTXO-Metric-CSV-Files-1.2.1.6\"><span class=\"toc-item-num\">1.2.1.6&nbsp;&nbsp;</span>UTXO Metric CSV-Files</a></span></li><li><span><a href=\"#Supply-Metric-CSV-Files\" data-toc-modified-id=\"Supply-Metric-CSV-Files-1.2.1.7\"><span class=\"toc-item-num\">1.2.1.7&nbsp;&nbsp;</span>Supply Metric CSV-Files</a></span></li><li><span><a href=\"#Transaction-Metric-CSV-Files\" data-toc-modified-id=\"Transaction-Metric-CSV-Files-1.2.1.8\"><span class=\"toc-item-num\">1.2.1.8&nbsp;&nbsp;</span>Transaction Metric CSV-Files</a></span></li><li><span><a href=\"#Exchange-Metrics-CSV-Files\" data-toc-modified-id=\"Exchange-Metrics-CSV-Files-1.2.1.9\"><span class=\"toc-item-num\">1.2.1.9&nbsp;&nbsp;</span>Exchange Metrics CSV-Files</a></span></li><li><span><a href=\"#Indicator-1-Metric-CSV-Files\" data-toc-modified-id=\"Indicator-1-Metric-CSV-Files-1.2.1.10\"><span class=\"toc-item-num\">1.2.1.10&nbsp;&nbsp;</span>Indicator-1 Metric CSV-Files</a></span></li><li><span><a href=\"#Indicator-2-Metrics-CSV-Files\" data-toc-modified-id=\"Indicator-2-Metrics-CSV-Files-1.2.1.11\"><span class=\"toc-item-num\">1.2.1.11&nbsp;&nbsp;</span>Indicator-2 Metrics CSV-Files</a></span></li><li><span><a href=\"#Indicator-3-Metrics-CSV-Files\" data-toc-modified-id=\"Indicator-3-Metrics-CSV-Files-1.2.1.12\"><span class=\"toc-item-num\">1.2.1.12&nbsp;&nbsp;</span>Indicator-3 Metrics CSV-Files</a></span></li><li><span><a href=\"#Addresses-Metric-CSV-Files\" data-toc-modified-id=\"Addresses-Metric-CSV-Files-1.2.1.13\"><span class=\"toc-item-num\">1.2.1.13&nbsp;&nbsp;</span>Addresses Metric CSV-Files</a></span></li><li><span><a href=\"#Futures-Metrics-CSV-Files---Excluded-as-Data-Available-Only-Since-Feb-2020\" data-toc-modified-id=\"Futures-Metrics-CSV-Files---Excluded-as-Data-Available-Only-Since-Feb-2020-1.2.1.14\"><span class=\"toc-item-num\">1.2.1.14&nbsp;&nbsp;</span>Futures Metrics CSV-Files - Excluded as Data Available Only Since Feb 2020</a></span><ul class=\"toc-item\"><li><span><a href=\"#List-of-Future-Features\" data-toc-modified-id=\"List-of-Future-Features-1.2.1.14.1\"><span class=\"toc-item-num\">1.2.1.14.1&nbsp;&nbsp;</span>List of Future Features</a></span></li><li><span><a href=\"#Counter-to-Differentiate-between-Data-Frame-Setup-and-Data-Frame-Extension\" data-toc-modified-id=\"Counter-to-Differentiate-between-Data-Frame-Setup-and-Data-Frame-Extension-1.2.1.14.2\"><span class=\"toc-item-num\">1.2.1.14.2&nbsp;&nbsp;</span>Counter to Differentiate between Data Frame Setup and Data Frame Extension</a></span></li><li><span><a href=\"#For-Loop-through-all-Features-in-the-List\" data-toc-modified-id=\"For-Loop-through-all-Features-in-the-List-1.2.1.14.3\"><span class=\"toc-item-num\">1.2.1.14.3&nbsp;&nbsp;</span>For Loop through all Features in the List</a></span></li><li><span><a href=\"#Store-Data-Frame-Copy-in-Market-Data-Frame\" data-toc-modified-id=\"Store-Data-Frame-Copy-in-Market-Data-Frame-1.2.1.14.4\"><span class=\"toc-item-num\">1.2.1.14.4&nbsp;&nbsp;</span>Store Data Frame Copy in Market Data Frame</a></span></li><li><span><a href=\"#Delete-Original-Data-Frame\" data-toc-modified-id=\"Delete-Original-Data-Frame-1.2.1.14.5\"><span class=\"toc-item-num\">1.2.1.14.5&nbsp;&nbsp;</span>Delete Original Data Frame</a></span></li><li><span><a href=\"#Change-Data-Type-of-Columns-to-Float\" data-toc-modified-id=\"Change-Data-Type-of-Columns-to-Float-1.2.1.14.6\"><span class=\"toc-item-num\">1.2.1.14.6&nbsp;&nbsp;</span>Change Data Type of Columns to Float</a></span></li></ul></li></ul></li></ul></li><li><span><a href=\"#Target-Variables\" data-toc-modified-id=\"Target-Variables-1.3\"><span class=\"toc-item-num\">1.3&nbsp;&nbsp;</span>Target Variables</a></span></li><li><span><a href=\"#Feature-Engineering\" data-toc-modified-id=\"Feature-Engineering-1.4\"><span class=\"toc-item-num\">1.4&nbsp;&nbsp;</span>Feature Engineering</a></span><ul class=\"toc-item\"><li><span><a href=\"#Volatility\" data-toc-modified-id=\"Volatility-1.4.1\"><span class=\"toc-item-num\">1.4.1&nbsp;&nbsp;</span>Volatility</a></span></li><li><span><a href=\"#Log-Price\" data-toc-modified-id=\"Log-Price-1.4.2\"><span class=\"toc-item-num\">1.4.2&nbsp;&nbsp;</span>Log Price</a></span></li></ul></li></ul></li><li><span><a href=\"#Data-Sets\" data-toc-modified-id=\"Data-Sets-2\"><span class=\"toc-item-num\">2&nbsp;&nbsp;</span>Data Sets</a></span><ul class=\"toc-item\"><li><span><a href=\"#Data-Set-I.---Blockchain-Metrics-Only\" data-toc-modified-id=\"Data-Set-I.---Blockchain-Metrics-Only-2.1\"><span class=\"toc-item-num\">2.1&nbsp;&nbsp;</span>Data Set I. - Blockchain Metrics Only</a></span></li></ul></li><li><span><a href=\"#Classification-Models---Data-Set-Variations\" data-toc-modified-id=\"Classification-Models---Data-Set-Variations-3\"><span class=\"toc-item-num\">3&nbsp;&nbsp;</span>Classification Models - Data Set Variations</a></span></li><li><span><a href=\"#Import-Data-Sets\" data-toc-modified-id=\"Import-Data-Sets-4\"><span class=\"toc-item-num\">4&nbsp;&nbsp;</span>Import Data Sets</a></span><ul class=\"toc-item\"><li><span><a href=\"#Data-Set-I.\" data-toc-modified-id=\"Data-Set-I.-4.1\"><span class=\"toc-item-num\">4.1&nbsp;&nbsp;</span>Data Set I.</a></span></li><li><span><a href=\"#Prediction-Shift\" data-toc-modified-id=\"Prediction-Shift-4.2\"><span class=\"toc-item-num\">4.2&nbsp;&nbsp;</span>Prediction Shift</a></span><ul class=\"toc-item\"><li><span><a href=\"#Data-Set-I.\" data-toc-modified-id=\"Data-Set-I.-4.2.1\"><span class=\"toc-item-num\">4.2.1&nbsp;&nbsp;</span>Data Set I.</a></span></li></ul></li></ul></li><li><span><a href=\"#Classification-Setup\" data-toc-modified-id=\"Classification-Setup-5\"><span class=\"toc-item-num\">5&nbsp;&nbsp;</span>Classification Setup</a></span><ul class=\"toc-item\"><li><span><a href=\"#Create-Data-Set-Copies-for-Trading-Strategy\" data-toc-modified-id=\"Create-Data-Set-Copies-for-Trading-Strategy-5.1\"><span class=\"toc-item-num\">5.1&nbsp;&nbsp;</span>Create Data Set Copies for Trading Strategy</a></span></li><li><span><a href=\"#Categorization---Data-Set-I.\" data-toc-modified-id=\"Categorization---Data-Set-I.-5.2\"><span class=\"toc-item-num\">5.2&nbsp;&nbsp;</span>Categorization - Data Set I.</a></span></li></ul></li><li><span><a href=\"#Model-Preparation---Data-Set-I.\" data-toc-modified-id=\"Model-Preparation---Data-Set-I.-6\"><span class=\"toc-item-num\">6&nbsp;&nbsp;</span>Model Preparation - Data Set I.</a></span><ul class=\"toc-item\"><li><span><a href=\"#Train-Test-Split---Data-Set-I.\" data-toc-modified-id=\"Train-Test-Split---Data-Set-I.-6.1\"><span class=\"toc-item-num\">6.1&nbsp;&nbsp;</span>Train Test Split - Data Set I.</a></span><ul class=\"toc-item\"><li><span><a href=\"#Check-of-Class-Balance\" data-toc-modified-id=\"Check-of-Class-Balance-6.1.1\"><span class=\"toc-item-num\">6.1.1&nbsp;&nbsp;</span>Check of Class Balance</a></span></li></ul></li></ul></li><li><span><a href=\"#Feature-Selection-random-forest\" data-toc-modified-id=\"Feature-Selection-random-forest-7\"><span class=\"toc-item-num\">7&nbsp;&nbsp;</span>Feature Selection random forest</a></span></li><li><span><a href=\"#Visualize-pred-vs-reality\" data-toc-modified-id=\"Visualize-pred-vs-reality-8\"><span class=\"toc-item-num\">8&nbsp;&nbsp;</span>Visualize pred vs reality</a></span></li><li><span><a href=\"#Hyperparam-tuning\" data-toc-modified-id=\"Hyperparam-tuning-9\"><span class=\"toc-item-num\">9&nbsp;&nbsp;</span>Hyperparam tuning</a></span><ul class=\"toc-item\"><li><span><a href=\"#Feature-Scaling---Data-Set-I.\" data-toc-modified-id=\"Feature-Scaling---Data-Set-I.-9.1\"><span class=\"toc-item-num\">9.1&nbsp;&nbsp;</span>Feature Scaling - Data Set I.</a></span></li></ul></li><li><span><a href=\"#Classification-Models---Data-Set-I.\" data-toc-modified-id=\"Classification-Models---Data-Set-I.-10\"><span class=\"toc-item-num\">10&nbsp;&nbsp;</span>Classification Models - Data Set I.</a></span><ul class=\"toc-item\"><li><span><a href=\"#XGBoost---Data-Set-I.\" data-toc-modified-id=\"XGBoost---Data-Set-I.-10.1\"><span class=\"toc-item-num\">10.1&nbsp;&nbsp;</span>XGBoost - Data Set I.</a></span></li><li><span><a href=\"#Logistic-Regression-classical\" data-toc-modified-id=\"Logistic-Regression-classical-10.2\"><span class=\"toc-item-num\">10.2&nbsp;&nbsp;</span>Logistic Regression classical</a></span></li><li><span><a href=\"#Logistic-Regression---Data-Set-I.\" data-toc-modified-id=\"Logistic-Regression---Data-Set-I.-10.3\"><span class=\"toc-item-num\">10.3&nbsp;&nbsp;</span>Logistic Regression - Data Set I.</a></span></li><li><span><a href=\"#XGBoost---Data-Set-I.\" data-toc-modified-id=\"XGBoost---Data-Set-I.-10.4\"><span class=\"toc-item-num\">10.4&nbsp;&nbsp;</span>XGBoost - Data Set I.</a></span></li><li><span><a href=\"#Random-Forest-Classifier---Data-Set-I.\" data-toc-modified-id=\"Random-Forest-Classifier---Data-Set-I.-10.5\"><span class=\"toc-item-num\">10.5&nbsp;&nbsp;</span>Random Forest Classifier - Data Set I.</a></span></li></ul></li><li><span><a href=\"#Trading-Strategy---Data-Set-I\" data-toc-modified-id=\"Trading-Strategy---Data-Set-I-11\"><span class=\"toc-item-num\">11&nbsp;&nbsp;</span>Trading Strategy - Data Set I</a></span><ul class=\"toc-item\"><li><span><a href=\"#Trading-Strategy-in-Combination-with-Logistic-Regression\" data-toc-modified-id=\"Trading-Strategy-in-Combination-with-Logistic-Regression-11.1\"><span class=\"toc-item-num\">11.1&nbsp;&nbsp;</span>Trading Strategy in Combination with Logistic Regression</a></span></li></ul></li><li><span><a href=\"#save-to-csv\" data-toc-modified-id=\"save-to-csv-12\"><span class=\"toc-item-num\">12&nbsp;&nbsp;</span>save to csv</a></span></li><li><span><a href=\"#Deepdive-in-prediction\" data-toc-modified-id=\"Deepdive-in-prediction-13\"><span class=\"toc-item-num\">13&nbsp;&nbsp;</span>Deepdive in prediction</a></span></li><li><span><a href=\"#predict-on-tomorrow\" data-toc-modified-id=\"predict-on-tomorrow-14\"><span class=\"toc-item-num\">14&nbsp;&nbsp;</span>predict on tomorrow</a></span></li><li><span><a href=\"#get-x-train-data-of-today-to-predict-tomorrow-y\" data-toc-modified-id=\"get-x-train-data-of-today-to-predict-tomorrow-y-15\"><span class=\"toc-item-num\">15&nbsp;&nbsp;</span>get x train data of today to predict tomorrow y</a></span></li></ul></div>"
   ]
  },
  {
   "cell_type": "markdown",
   "metadata": {},
   "source": [
    "# Classification Models - Data Set Variations"
   ]
  },
  {
   "cell_type": "code",
   "execution_count": 6,
   "metadata": {
    "ExecuteTime": {
     "end_time": "2020-12-26T16:23:40.600442Z",
     "start_time": "2020-12-26T16:23:40.587943Z"
    },
    "scrolled": true
   },
   "outputs": [],
   "source": [
    "# Import of Modules and Packages\n",
    "import os\n",
    "import pandas as pd\n",
    "import matplotlib.pyplot as plt\n",
    "import math\n",
    "\n",
    "from sklearn.preprocessing import StandardScaler, MinMaxScaler\n",
    "\n",
    "from sklearn.model_selection import train_test_split\n",
    "from sklearn.model_selection import cross_val_score\n",
    "from sklearn.model_selection import StratifiedKFold\n",
    "from sklearn.metrics import roc_auc_score, roc_curve\n",
    "from sklearn.metrics import confusion_matrix, classification_report\n",
    "\n",
    "# Logistic Regression\n",
    "from sklearn.linear_model import LogisticRegression\n",
    "from sklearn.tree import DecisionTreeClassifier\n",
    "from sklearn.ensemble import RandomForestClassifier\n",
    "from sklearn.neighbors import KNeighborsClassifier\n",
    "from pycaret.classification import *\n",
    "\n",
    "# Deep Neural Networks\n",
    "from tensorflow import keras\n",
    "from keras.wrappers.scikit_learn import KerasClassifier\n",
    "from keras.models import Sequential\n",
    "from keras.layers import Dense\n",
    "from keras.optimizers import SGD\n",
    "from keras.optimizers import Adam\n",
    "import numpy as np\n",
    "\n",
    "# PyCaret\n",
    "import pycaret"
   ]
  },
  {
   "cell_type": "code",
   "execution_count": 7,
   "metadata": {
    "ExecuteTime": {
     "end_time": "2020-12-26T16:23:40.616226Z",
     "start_time": "2020-12-26T16:23:40.601235Z"
    }
   },
   "outputs": [],
   "source": [
    "# Adjustment of Decimal Places\n",
    "pd.options.display.float_format = '{:.2f}'.format"
   ]
  },
  {
   "cell_type": "markdown",
   "metadata": {},
   "source": [
    "# Import Data Sets"
   ]
  },
  {
   "cell_type": "markdown",
   "metadata": {},
   "source": [
    "## Data Set I."
   ]
  },
  {
   "cell_type": "code",
   "execution_count": 8,
   "metadata": {
    "ExecuteTime": {
     "end_time": "2020-12-26T16:23:40.632193Z",
     "start_time": "2020-12-26T16:23:40.618190Z"
    }
   },
   "outputs": [
    {
     "data": {
      "text/plain": [
       "'C:\\\\Users\\\\markus.gebele\\\\github_repo\\\\JupyterLabDir\\\\Rest\\\\MA BTC\\\\Markus_Code_MA_final\\\\20201010'"
      ]
     },
     "execution_count": 8,
     "metadata": {},
     "output_type": "execute_result"
    }
   ],
   "source": [
    "os.getcwd()"
   ]
  },
  {
   "cell_type": "code",
   "execution_count": 9,
   "metadata": {
    "ExecuteTime": {
     "end_time": "2020-12-26T16:23:40.711982Z",
     "start_time": "2020-12-26T16:23:40.634148Z"
    }
   },
   "outputs": [],
   "source": [
    "# CSV Import of Data Set I. - Blockchain Data\n",
    "df_dataset1 = pd.read_csv('df_dataset1.csv', parse_dates = True, index_col='Date')"
   ]
  },
  {
   "cell_type": "code",
   "execution_count": 10,
   "metadata": {
    "ExecuteTime": {
     "end_time": "2020-12-26T16:23:40.743855Z",
     "start_time": "2020-12-26T16:23:40.712937Z"
    }
   },
   "outputs": [
    {
     "data": {
      "text/html": [
       "<div>\n",
       "<style scoped>\n",
       "    .dataframe tbody tr th:only-of-type {\n",
       "        vertical-align: middle;\n",
       "    }\n",
       "\n",
       "    .dataframe tbody tr th {\n",
       "        vertical-align: top;\n",
       "    }\n",
       "\n",
       "    .dataframe thead th {\n",
       "        text-align: right;\n",
       "    }\n",
       "</style>\n",
       "<table border=\"1\" class=\"dataframe\">\n",
       "  <thead>\n",
       "    <tr style=\"text-align: right;\">\n",
       "      <th></th>\n",
       "      <th>Daily Return in USD</th>\n",
       "      <th>Log Price in USD</th>\n",
       "      <th>Volatility Daily Log Return in Percent 5D</th>\n",
       "      <th>market/price_usd_close</th>\n",
       "      <th>market/price_drawdown_relative</th>\n",
       "      <th>market/price_realized_usd</th>\n",
       "      <th>market/mvrv</th>\n",
       "      <th>mining/difficulty_latest</th>\n",
       "      <th>mining/hash_rate_mean</th>\n",
       "      <th>blockchain/block_count</th>\n",
       "      <th>...</th>\n",
       "      <th>addresses/receiving_count</th>\n",
       "      <th>addresses/new_non_zero_count</th>\n",
       "      <th>addresses/non_zero_count</th>\n",
       "      <th>addresses/min_point_zero_1_count</th>\n",
       "      <th>addresses/min_point_1_count</th>\n",
       "      <th>addresses/min_1_count</th>\n",
       "      <th>addresses/min_10_count</th>\n",
       "      <th>addresses/min_100_count</th>\n",
       "      <th>addresses/min_1k_count</th>\n",
       "      <th>addresses/min_10k_count</th>\n",
       "    </tr>\n",
       "    <tr>\n",
       "      <th>Date</th>\n",
       "      <th></th>\n",
       "      <th></th>\n",
       "      <th></th>\n",
       "      <th></th>\n",
       "      <th></th>\n",
       "      <th></th>\n",
       "      <th></th>\n",
       "      <th></th>\n",
       "      <th></th>\n",
       "      <th></th>\n",
       "      <th></th>\n",
       "      <th></th>\n",
       "      <th></th>\n",
       "      <th></th>\n",
       "      <th></th>\n",
       "      <th></th>\n",
       "      <th></th>\n",
       "      <th></th>\n",
       "      <th></th>\n",
       "      <th></th>\n",
       "      <th></th>\n",
       "    </tr>\n",
       "  </thead>\n",
       "  <tbody>\n",
       "    <tr>\n",
       "      <th>2011-07-16</th>\n",
       "      <td>-0.09</td>\n",
       "      <td>2.62</td>\n",
       "      <td>0.70</td>\n",
       "      <td>13.72</td>\n",
       "      <td>-0.57</td>\n",
       "      <td>7.31</td>\n",
       "      <td>1.87</td>\n",
       "      <td>6713154126051590.00</td>\n",
       "      <td>11654137109701.80</td>\n",
       "      <td>157.00</td>\n",
       "      <td>...</td>\n",
       "      <td>20543.00</td>\n",
       "      <td>14625.00</td>\n",
       "      <td>296738.00</td>\n",
       "      <td>196860.00</td>\n",
       "      <td>126035.00</td>\n",
       "      <td>99005.00</td>\n",
       "      <td>64333.00</td>\n",
       "      <td>3805.00</td>\n",
       "      <td>598.00</td>\n",
       "      <td>62.00</td>\n",
       "    </tr>\n",
       "    <tr>\n",
       "      <th>2011-07-17</th>\n",
       "      <td>-0.55</td>\n",
       "      <td>2.58</td>\n",
       "      <td>1.70</td>\n",
       "      <td>13.17</td>\n",
       "      <td>-0.59</td>\n",
       "      <td>7.32</td>\n",
       "      <td>1.82</td>\n",
       "      <td>6713154126051590.00</td>\n",
       "      <td>13208752331351.50</td>\n",
       "      <td>170.00</td>\n",
       "      <td>...</td>\n",
       "      <td>21180.00</td>\n",
       "      <td>15530.00</td>\n",
       "      <td>303267.00</td>\n",
       "      <td>197576.00</td>\n",
       "      <td>126461.00</td>\n",
       "      <td>99364.00</td>\n",
       "      <td>64511.00</td>\n",
       "      <td>3824.00</td>\n",
       "      <td>599.00</td>\n",
       "      <td>62.00</td>\n",
       "    </tr>\n",
       "    <tr>\n",
       "      <th>2011-07-18</th>\n",
       "      <td>0.26</td>\n",
       "      <td>2.60</td>\n",
       "      <td>2.23</td>\n",
       "      <td>13.42</td>\n",
       "      <td>-0.58</td>\n",
       "      <td>7.01</td>\n",
       "      <td>1.86</td>\n",
       "      <td>6713154126051590.00</td>\n",
       "      <td>13355914725081.60</td>\n",
       "      <td>170.00</td>\n",
       "      <td>...</td>\n",
       "      <td>21198.00</td>\n",
       "      <td>15356.00</td>\n",
       "      <td>305043.00</td>\n",
       "      <td>195085.00</td>\n",
       "      <td>125059.00</td>\n",
       "      <td>98120.00</td>\n",
       "      <td>64454.00</td>\n",
       "      <td>3746.00</td>\n",
       "      <td>600.00</td>\n",
       "      <td>63.00</td>\n",
       "    </tr>\n",
       "    <tr>\n",
       "      <th>2011-07-19</th>\n",
       "      <td>0.42</td>\n",
       "      <td>2.63</td>\n",
       "      <td>2.83</td>\n",
       "      <td>13.84</td>\n",
       "      <td>-0.57</td>\n",
       "      <td>7.03</td>\n",
       "      <td>1.96</td>\n",
       "      <td>7262342175053680.00</td>\n",
       "      <td>11065053631354.40</td>\n",
       "      <td>142.00</td>\n",
       "      <td>...</td>\n",
       "      <td>21433.00</td>\n",
       "      <td>15873.00</td>\n",
       "      <td>310575.00</td>\n",
       "      <td>196075.00</td>\n",
       "      <td>125791.00</td>\n",
       "      <td>98755.00</td>\n",
       "      <td>64598.00</td>\n",
       "      <td>3761.00</td>\n",
       "      <td>597.00</td>\n",
       "      <td>63.00</td>\n",
       "    </tr>\n",
       "    <tr>\n",
       "      <th>2011-07-20</th>\n",
       "      <td>-0.15</td>\n",
       "      <td>2.62</td>\n",
       "      <td>2.80</td>\n",
       "      <td>13.69</td>\n",
       "      <td>-0.57</td>\n",
       "      <td>6.97</td>\n",
       "      <td>1.98</td>\n",
       "      <td>7262342175053680.00</td>\n",
       "      <td>12525772772957.20</td>\n",
       "      <td>149.00</td>\n",
       "      <td>...</td>\n",
       "      <td>21633.00</td>\n",
       "      <td>15840.00</td>\n",
       "      <td>315842.00</td>\n",
       "      <td>196368.00</td>\n",
       "      <td>126121.00</td>\n",
       "      <td>99090.00</td>\n",
       "      <td>64643.00</td>\n",
       "      <td>3799.00</td>\n",
       "      <td>598.00</td>\n",
       "      <td>63.00</td>\n",
       "    </tr>\n",
       "    <tr>\n",
       "      <th>...</th>\n",
       "      <td>...</td>\n",
       "      <td>...</td>\n",
       "      <td>...</td>\n",
       "      <td>...</td>\n",
       "      <td>...</td>\n",
       "      <td>...</td>\n",
       "      <td>...</td>\n",
       "      <td>...</td>\n",
       "      <td>...</td>\n",
       "      <td>...</td>\n",
       "      <td>...</td>\n",
       "      <td>...</td>\n",
       "      <td>...</td>\n",
       "      <td>...</td>\n",
       "      <td>...</td>\n",
       "      <td>...</td>\n",
       "      <td>...</td>\n",
       "      <td>...</td>\n",
       "      <td>...</td>\n",
       "      <td>...</td>\n",
       "      <td>...</td>\n",
       "    </tr>\n",
       "    <tr>\n",
       "      <th>2020-12-25</th>\n",
       "      <td>923.46</td>\n",
       "      <td>10.11</td>\n",
       "      <td>3.21</td>\n",
       "      <td>24688.21</td>\n",
       "      <td>-0.00</td>\n",
       "      <td>8467.17</td>\n",
       "      <td>2.84</td>\n",
       "      <td>80187763369133704478720.00</td>\n",
       "      <td>133658648082637996032.00</td>\n",
       "      <td>144.00</td>\n",
       "      <td>...</td>\n",
       "      <td>662961.00</td>\n",
       "      <td>474667.00</td>\n",
       "      <td>33073258.00</td>\n",
       "      <td>8513136.00</td>\n",
       "      <td>3130986.00</td>\n",
       "      <td>828971.00</td>\n",
       "      <td>153594.00</td>\n",
       "      <td>16068.00</td>\n",
       "      <td>2228.00</td>\n",
       "      <td>103.00</td>\n",
       "    </tr>\n",
       "    <tr>\n",
       "      <th>2020-12-26</th>\n",
       "      <td>1752.04</td>\n",
       "      <td>10.18</td>\n",
       "      <td>3.25</td>\n",
       "      <td>26440.25</td>\n",
       "      <td>-0.01</td>\n",
       "      <td>8511.24</td>\n",
       "      <td>2.97</td>\n",
       "      <td>80187763369133704478720.00</td>\n",
       "      <td>127352989515328995328.00</td>\n",
       "      <td>137.00</td>\n",
       "      <td>...</td>\n",
       "      <td>627828.00</td>\n",
       "      <td>448279.00</td>\n",
       "      <td>33075652.00</td>\n",
       "      <td>8490133.00</td>\n",
       "      <td>3122900.00</td>\n",
       "      <td>826721.00</td>\n",
       "      <td>153580.00</td>\n",
       "      <td>16104.00</td>\n",
       "      <td>2221.00</td>\n",
       "      <td>102.00</td>\n",
       "    </tr>\n",
       "    <tr>\n",
       "      <th>2020-12-27</th>\n",
       "      <td>-52.10</td>\n",
       "      <td>10.18</td>\n",
       "      <td>3.46</td>\n",
       "      <td>26388.15</td>\n",
       "      <td>-0.07</td>\n",
       "      <td>8610.61</td>\n",
       "      <td>3.14</td>\n",
       "      <td>80187763369133704478720.00</td>\n",
       "      <td>136527494404802002944.00</td>\n",
       "      <td>148.00</td>\n",
       "      <td>...</td>\n",
       "      <td>696511.00</td>\n",
       "      <td>503446.00</td>\n",
       "      <td>33070470.00</td>\n",
       "      <td>8470448.00</td>\n",
       "      <td>3120657.00</td>\n",
       "      <td>825437.00</td>\n",
       "      <td>153305.00</td>\n",
       "      <td>16038.00</td>\n",
       "      <td>2225.00</td>\n",
       "      <td>102.00</td>\n",
       "    </tr>\n",
       "    <tr>\n",
       "      <th>2020-12-28</th>\n",
       "      <td>710.80</td>\n",
       "      <td>10.21</td>\n",
       "      <td>2.59</td>\n",
       "      <td>27098.95</td>\n",
       "      <td>-0.04</td>\n",
       "      <td>8811.24</td>\n",
       "      <td>3.06</td>\n",
       "      <td>79884643861355300913152.00</td>\n",
       "      <td>148273901331699007488.00</td>\n",
       "      <td>160.00</td>\n",
       "      <td>...</td>\n",
       "      <td>717060.00</td>\n",
       "      <td>510439.00</td>\n",
       "      <td>33024571.00</td>\n",
       "      <td>8472554.00</td>\n",
       "      <td>3121921.00</td>\n",
       "      <td>825430.00</td>\n",
       "      <td>153690.00</td>\n",
       "      <td>16197.00</td>\n",
       "      <td>2225.00</td>\n",
       "      <td>98.00</td>\n",
       "    </tr>\n",
       "    <tr>\n",
       "      <th>2020-12-29</th>\n",
       "      <td>226.04</td>\n",
       "      <td>10.22</td>\n",
       "      <td>2.75</td>\n",
       "      <td>27324.99</td>\n",
       "      <td>-0.03</td>\n",
       "      <td>8943.52</td>\n",
       "      <td>2.98</td>\n",
       "      <td>79884643861355300913152.00</td>\n",
       "      <td>140440271419453997056.00</td>\n",
       "      <td>152.00</td>\n",
       "      <td>...</td>\n",
       "      <td>775904.00</td>\n",
       "      <td>560252.00</td>\n",
       "      <td>33035139.00</td>\n",
       "      <td>8480292.00</td>\n",
       "      <td>3120133.00</td>\n",
       "      <td>825876.00</td>\n",
       "      <td>153524.00</td>\n",
       "      <td>16227.00</td>\n",
       "      <td>2257.00</td>\n",
       "      <td>98.00</td>\n",
       "    </tr>\n",
       "  </tbody>\n",
       "</table>\n",
       "<p>3455 rows × 91 columns</p>\n",
       "</div>"
      ],
      "text/plain": [
       "            Daily Return in USD  Log Price in USD  \\\n",
       "Date                                                \n",
       "2011-07-16                -0.09              2.62   \n",
       "2011-07-17                -0.55              2.58   \n",
       "2011-07-18                 0.26              2.60   \n",
       "2011-07-19                 0.42              2.63   \n",
       "2011-07-20                -0.15              2.62   \n",
       "...                         ...               ...   \n",
       "2020-12-25               923.46             10.11   \n",
       "2020-12-26              1752.04             10.18   \n",
       "2020-12-27               -52.10             10.18   \n",
       "2020-12-28               710.80             10.21   \n",
       "2020-12-29               226.04             10.22   \n",
       "\n",
       "            Volatility Daily Log Return in Percent 5D  market/price_usd_close  \\\n",
       "Date                                                                            \n",
       "2011-07-16                                       0.70                   13.72   \n",
       "2011-07-17                                       1.70                   13.17   \n",
       "2011-07-18                                       2.23                   13.42   \n",
       "2011-07-19                                       2.83                   13.84   \n",
       "2011-07-20                                       2.80                   13.69   \n",
       "...                                               ...                     ...   \n",
       "2020-12-25                                       3.21                24688.21   \n",
       "2020-12-26                                       3.25                26440.25   \n",
       "2020-12-27                                       3.46                26388.15   \n",
       "2020-12-28                                       2.59                27098.95   \n",
       "2020-12-29                                       2.75                27324.99   \n",
       "\n",
       "            market/price_drawdown_relative  market/price_realized_usd  \\\n",
       "Date                                                                    \n",
       "2011-07-16                           -0.57                       7.31   \n",
       "2011-07-17                           -0.59                       7.32   \n",
       "2011-07-18                           -0.58                       7.01   \n",
       "2011-07-19                           -0.57                       7.03   \n",
       "2011-07-20                           -0.57                       6.97   \n",
       "...                                    ...                        ...   \n",
       "2020-12-25                           -0.00                    8467.17   \n",
       "2020-12-26                           -0.01                    8511.24   \n",
       "2020-12-27                           -0.07                    8610.61   \n",
       "2020-12-28                           -0.04                    8811.24   \n",
       "2020-12-29                           -0.03                    8943.52   \n",
       "\n",
       "            market/mvrv   mining/difficulty_latest    mining/hash_rate_mean  \\\n",
       "Date                                                                          \n",
       "2011-07-16         1.87        6713154126051590.00        11654137109701.80   \n",
       "2011-07-17         1.82        6713154126051590.00        13208752331351.50   \n",
       "2011-07-18         1.86        6713154126051590.00        13355914725081.60   \n",
       "2011-07-19         1.96        7262342175053680.00        11065053631354.40   \n",
       "2011-07-20         1.98        7262342175053680.00        12525772772957.20   \n",
       "...                 ...                        ...                      ...   \n",
       "2020-12-25         2.84 80187763369133704478720.00 133658648082637996032.00   \n",
       "2020-12-26         2.97 80187763369133704478720.00 127352989515328995328.00   \n",
       "2020-12-27         3.14 80187763369133704478720.00 136527494404802002944.00   \n",
       "2020-12-28         3.06 79884643861355300913152.00 148273901331699007488.00   \n",
       "2020-12-29         2.98 79884643861355300913152.00 140440271419453997056.00   \n",
       "\n",
       "            blockchain/block_count  ...  addresses/receiving_count  \\\n",
       "Date                                ...                              \n",
       "2011-07-16                  157.00  ...                   20543.00   \n",
       "2011-07-17                  170.00  ...                   21180.00   \n",
       "2011-07-18                  170.00  ...                   21198.00   \n",
       "2011-07-19                  142.00  ...                   21433.00   \n",
       "2011-07-20                  149.00  ...                   21633.00   \n",
       "...                            ...  ...                        ...   \n",
       "2020-12-25                  144.00  ...                  662961.00   \n",
       "2020-12-26                  137.00  ...                  627828.00   \n",
       "2020-12-27                  148.00  ...                  696511.00   \n",
       "2020-12-28                  160.00  ...                  717060.00   \n",
       "2020-12-29                  152.00  ...                  775904.00   \n",
       "\n",
       "            addresses/new_non_zero_count  addresses/non_zero_count  \\\n",
       "Date                                                                 \n",
       "2011-07-16                      14625.00                 296738.00   \n",
       "2011-07-17                      15530.00                 303267.00   \n",
       "2011-07-18                      15356.00                 305043.00   \n",
       "2011-07-19                      15873.00                 310575.00   \n",
       "2011-07-20                      15840.00                 315842.00   \n",
       "...                                  ...                       ...   \n",
       "2020-12-25                     474667.00               33073258.00   \n",
       "2020-12-26                     448279.00               33075652.00   \n",
       "2020-12-27                     503446.00               33070470.00   \n",
       "2020-12-28                     510439.00               33024571.00   \n",
       "2020-12-29                     560252.00               33035139.00   \n",
       "\n",
       "            addresses/min_point_zero_1_count  addresses/min_point_1_count  \\\n",
       "Date                                                                        \n",
       "2011-07-16                         196860.00                    126035.00   \n",
       "2011-07-17                         197576.00                    126461.00   \n",
       "2011-07-18                         195085.00                    125059.00   \n",
       "2011-07-19                         196075.00                    125791.00   \n",
       "2011-07-20                         196368.00                    126121.00   \n",
       "...                                      ...                          ...   \n",
       "2020-12-25                        8513136.00                   3130986.00   \n",
       "2020-12-26                        8490133.00                   3122900.00   \n",
       "2020-12-27                        8470448.00                   3120657.00   \n",
       "2020-12-28                        8472554.00                   3121921.00   \n",
       "2020-12-29                        8480292.00                   3120133.00   \n",
       "\n",
       "            addresses/min_1_count  addresses/min_10_count  \\\n",
       "Date                                                        \n",
       "2011-07-16               99005.00                64333.00   \n",
       "2011-07-17               99364.00                64511.00   \n",
       "2011-07-18               98120.00                64454.00   \n",
       "2011-07-19               98755.00                64598.00   \n",
       "2011-07-20               99090.00                64643.00   \n",
       "...                           ...                     ...   \n",
       "2020-12-25              828971.00               153594.00   \n",
       "2020-12-26              826721.00               153580.00   \n",
       "2020-12-27              825437.00               153305.00   \n",
       "2020-12-28              825430.00               153690.00   \n",
       "2020-12-29              825876.00               153524.00   \n",
       "\n",
       "            addresses/min_100_count  addresses/min_1k_count  \\\n",
       "Date                                                          \n",
       "2011-07-16                  3805.00                  598.00   \n",
       "2011-07-17                  3824.00                  599.00   \n",
       "2011-07-18                  3746.00                  600.00   \n",
       "2011-07-19                  3761.00                  597.00   \n",
       "2011-07-20                  3799.00                  598.00   \n",
       "...                             ...                     ...   \n",
       "2020-12-25                 16068.00                 2228.00   \n",
       "2020-12-26                 16104.00                 2221.00   \n",
       "2020-12-27                 16038.00                 2225.00   \n",
       "2020-12-28                 16197.00                 2225.00   \n",
       "2020-12-29                 16227.00                 2257.00   \n",
       "\n",
       "            addresses/min_10k_count  \n",
       "Date                                 \n",
       "2011-07-16                    62.00  \n",
       "2011-07-17                    62.00  \n",
       "2011-07-18                    63.00  \n",
       "2011-07-19                    63.00  \n",
       "2011-07-20                    63.00  \n",
       "...                             ...  \n",
       "2020-12-25                   103.00  \n",
       "2020-12-26                   102.00  \n",
       "2020-12-27                   102.00  \n",
       "2020-12-28                    98.00  \n",
       "2020-12-29                    98.00  \n",
       "\n",
       "[3455 rows x 91 columns]"
      ]
     },
     "execution_count": 10,
     "metadata": {},
     "output_type": "execute_result"
    }
   ],
   "source": [
    "# Daily Return in USD in row 2011-07-16 means the change in \"btc dollar price\" from 2011-07-15 23:59 to 2011-07-16 23:59 \n",
    "# in row 2011-07-17 means the change in \"btc dollar price\" from 2011-07-16 23:59 to 2011-07-17 23:59 \n",
    "\n",
    "df_dataset1"
   ]
  },
  {
   "cell_type": "code",
   "execution_count": 11,
   "metadata": {
    "ExecuteTime": {
     "end_time": "2020-12-26T16:23:40.775769Z",
     "start_time": "2020-12-26T16:23:40.745849Z"
    },
    "scrolled": true
   },
   "outputs": [
    {
     "name": "stdout",
     "output_type": "stream",
     "text": [
      "<class 'pandas.core.frame.DataFrame'>\n",
      "DatetimeIndex: 3455 entries, 2011-07-16 to 2020-12-29\n",
      "Data columns (total 91 columns):\n",
      " #   Column                                      Non-Null Count  Dtype  \n",
      "---  ------                                      --------------  -----  \n",
      " 0   Daily Return in USD                         3455 non-null   float64\n",
      " 1   Log Price in USD                            3455 non-null   float64\n",
      " 2   Volatility Daily Log Return in Percent 5D   3455 non-null   float64\n",
      " 3   market/price_usd_close                      3455 non-null   float64\n",
      " 4   market/price_drawdown_relative              3455 non-null   float64\n",
      " 5   market/price_realized_usd                   3455 non-null   float64\n",
      " 6   market/mvrv                                 3455 non-null   float64\n",
      " 7   mining/difficulty_latest                    3455 non-null   float64\n",
      " 8   mining/hash_rate_mean                       3455 non-null   float64\n",
      " 9   blockchain/block_count                      3455 non-null   float64\n",
      " 10  blockchain/block_interval_mean              3455 non-null   float64\n",
      " 11  blockchain/block_size_sum                   3455 non-null   float64\n",
      " 12  fees/volume_sum                             3455 non-null   float64\n",
      " 13  fees/volume_mean                            3455 non-null   float64\n",
      " 14  fees/fee_ratio_multiple                     3455 non-null   float64\n",
      " 15  blockchain/utxo_created_count               3455 non-null   float64\n",
      " 16  blockchain/utxo_spent_count                 3455 non-null   float64\n",
      " 17  blockchain/utxo_created_value_sum           3455 non-null   float64\n",
      " 18  blockchain/utxo_spent_value_sum             3455 non-null   float64\n",
      " 19  blockchain/utxo_profit_relative             3455 non-null   float64\n",
      " 20  blockchain/utxo_profit_count                3455 non-null   float64\n",
      " 21  blockchain/utxo_loss_count                  3455 non-null   float64\n",
      " 22  supply/current                              3455 non-null   float64\n",
      " 23  supply/profit_relative                      3455 non-null   float64\n",
      " 24  supply/profit_sum                           3455 non-null   float64\n",
      " 25  supply/loss_sum                             3455 non-null   float64\n",
      " 26  supply/active_more_1y_percent               3455 non-null   float64\n",
      " 27  supply/active_more_2y_percent               3455 non-null   float64\n",
      " 28  supply/active_more_3y_percent               3455 non-null   float64\n",
      " 29  supply/active_more_5y_percent               3455 non-null   float64\n",
      " 30  supply/active_24h                           3455 non-null   float64\n",
      " 31  supply/active_1d_1w                         3455 non-null   float64\n",
      " 32  supply/active_1w_1m                         3455 non-null   float64\n",
      " 33  supply/active_1m_3m                         3455 non-null   float64\n",
      " 34  supply/active_3m_6m                         3455 non-null   float64\n",
      " 35  supply/active_6m_12m                        3455 non-null   float64\n",
      " 36  supply/active_1y_2y                         3455 non-null   float64\n",
      " 37  supply/active_2y_3y                         3455 non-null   float64\n",
      " 38  supply/active_3y_5y                         3455 non-null   float64\n",
      " 39  supply/active_5y_7y                         3455 non-null   float64\n",
      " 40  supply/active_7y_10y                        3455 non-null   float64\n",
      " 41  supply/active_more_10y                      3455 non-null   float64\n",
      " 42  supply/issued                               3455 non-null   float64\n",
      " 43  supply/inflation_rate                       3455 non-null   float64\n",
      " 44  transactions/count                          3455 non-null   float64\n",
      " 45  transactions/size_sum                       3455 non-null   float64\n",
      " 46  transactions/transfers_volume_sum           3455 non-null   float64\n",
      " 47  transactions/transfers_volume_adjusted_sum  3455 non-null   float64\n",
      " 48  indicators/sopr_adjusted                    3455 non-null   float64\n",
      " 49  indicators/nvt                              3455 non-null   float64\n",
      " 50  indicators/velocity                         3455 non-null   float64\n",
      " 51  indicators/cdd                              3455 non-null   float64\n",
      " 52  indicators/reserve_risk                     3455 non-null   float64\n",
      " 53  indicators/average_dormancy                 3455 non-null   float64\n",
      " 54  indicators/liveliness                       3455 non-null   float64\n",
      " 55  indicators/asol                             3455 non-null   float64\n",
      " 56  indicators/sol_1h                           3455 non-null   float64\n",
      " 57  indicators/sol_1h_24h                       3455 non-null   float64\n",
      " 58  indicators/sol_1d_1w                        3455 non-null   float64\n",
      " 59  indicators/sol_1w_1m                        3455 non-null   float64\n",
      " 60  indicators/sol_1m_3m                        3455 non-null   float64\n",
      " 61  indicators/sol_3m_6m                        3455 non-null   float64\n",
      " 62  indicators/sol_6m_12m                       3455 non-null   float64\n",
      " 63  indicators/sol_1y_2y                        3455 non-null   float64\n",
      " 64  indicators/sol_2y_3y                        3455 non-null   float64\n",
      " 65  indicators/sol_3y_5y                        3455 non-null   float64\n",
      " 66  indicators/sol_5y_7y                        3455 non-null   float64\n",
      " 67  indicators/sol_7y_10y                       3455 non-null   float64\n",
      " 68  indicators/net_unrealized_profit_loss       3455 non-null   float64\n",
      " 69  indicators/unrealized_profit                3455 non-null   float64\n",
      " 70  indicators/unrealized_loss                  3455 non-null   float64\n",
      " 71  indicators/net_realized_profit_loss         3455 non-null   float64\n",
      " 72  indicators/realized_profit                  3455 non-null   float64\n",
      " 73  indicators/realized_loss                    3455 non-null   float64\n",
      " 74  indicators/nupl_more_155                    3455 non-null   float64\n",
      " 75  indicators/nupl_less_155                    3455 non-null   float64\n",
      " 76  indicators/puell_multiple                   3455 non-null   float64\n",
      " 77  indicators/stock_to_flow_deflection         3455 non-null   float64\n",
      " 78  indicators/difficulty_ribbon_compression    3455 non-null   float64\n",
      " 79  addresses/active_count                      3455 non-null   float64\n",
      " 80  addresses/sending_count                     3455 non-null   float64\n",
      " 81  addresses/receiving_count                   3455 non-null   float64\n",
      " 82  addresses/new_non_zero_count                3455 non-null   float64\n",
      " 83  addresses/non_zero_count                    3455 non-null   float64\n",
      " 84  addresses/min_point_zero_1_count            3455 non-null   float64\n",
      " 85  addresses/min_point_1_count                 3455 non-null   float64\n",
      " 86  addresses/min_1_count                       3455 non-null   float64\n",
      " 87  addresses/min_10_count                      3455 non-null   float64\n",
      " 88  addresses/min_100_count                     3455 non-null   float64\n",
      " 89  addresses/min_1k_count                      3455 non-null   float64\n",
      " 90  addresses/min_10k_count                     3455 non-null   float64\n",
      "dtypes: float64(91)\n",
      "memory usage: 2.4 MB\n"
     ]
    }
   ],
   "source": [
    "# Data Set Info\n",
    "df_dataset1.info()"
   ]
  },
  {
   "cell_type": "code",
   "execution_count": 12,
   "metadata": {
    "ExecuteTime": {
     "end_time": "2020-12-26T16:23:40.791727Z",
     "start_time": "2020-12-26T16:23:40.777764Z"
    }
   },
   "outputs": [],
   "source": [
    "# List of Data Types\n",
    "l_dtypes = df_dataset1.dtypes"
   ]
  },
  {
   "cell_type": "code",
   "execution_count": 13,
   "metadata": {
    "ExecuteTime": {
     "end_time": "2020-12-26T16:23:40.807684Z",
     "start_time": "2020-12-26T16:23:40.792724Z"
    }
   },
   "outputs": [
    {
     "name": "stdout",
     "output_type": "stream",
     "text": [
      "91\n"
     ]
    }
   ],
   "source": [
    "# Counter\n",
    "counter = 0\n",
    "\n",
    "# Cross-Check of Data Types\n",
    "for i in l_dtypes:\n",
    "    if (i == float):\n",
    "        counter = counter+1\n",
    "    else:\n",
    "        counter = counter\n",
    "\n",
    "# Number of Float Data Types\n",
    "print(counter)"
   ]
  },
  {
   "cell_type": "code",
   "execution_count": 14,
   "metadata": {
    "ExecuteTime": {
     "end_time": "2020-12-26T16:23:40.823678Z",
     "start_time": "2020-12-26T16:23:40.808688Z"
    }
   },
   "outputs": [
    {
     "data": {
      "text/plain": [
       "Daily Return in USD                          float64\n",
       "Log Price in USD                             float64\n",
       "Volatility Daily Log Return in Percent 5D    float64\n",
       "market/price_usd_close                       float64\n",
       "market/price_drawdown_relative               float64\n",
       "                                              ...   \n",
       "addresses/min_1_count                        float64\n",
       "addresses/min_10_count                       float64\n",
       "addresses/min_100_count                      float64\n",
       "addresses/min_1k_count                       float64\n",
       "addresses/min_10k_count                      float64\n",
       "Length: 91, dtype: object"
      ]
     },
     "execution_count": 14,
     "metadata": {},
     "output_type": "execute_result"
    }
   ],
   "source": [
    "# Data Types\n",
    "df_dataset1.dtypes"
   ]
  },
  {
   "cell_type": "code",
   "execution_count": 15,
   "metadata": {
    "ExecuteTime": {
     "end_time": "2020-12-26T16:23:41.043704Z",
     "start_time": "2020-12-26T16:23:40.824792Z"
    }
   },
   "outputs": [
    {
     "data": {
      "text/html": [
       "<div>\n",
       "<style scoped>\n",
       "    .dataframe tbody tr th:only-of-type {\n",
       "        vertical-align: middle;\n",
       "    }\n",
       "\n",
       "    .dataframe tbody tr th {\n",
       "        vertical-align: top;\n",
       "    }\n",
       "\n",
       "    .dataframe thead th {\n",
       "        text-align: right;\n",
       "    }\n",
       "</style>\n",
       "<table border=\"1\" class=\"dataframe\">\n",
       "  <thead>\n",
       "    <tr style=\"text-align: right;\">\n",
       "      <th></th>\n",
       "      <th>Daily Return in USD</th>\n",
       "      <th>Log Price in USD</th>\n",
       "      <th>Volatility Daily Log Return in Percent 5D</th>\n",
       "      <th>market/price_usd_close</th>\n",
       "      <th>market/price_drawdown_relative</th>\n",
       "      <th>market/price_realized_usd</th>\n",
       "      <th>market/mvrv</th>\n",
       "      <th>mining/difficulty_latest</th>\n",
       "      <th>mining/hash_rate_mean</th>\n",
       "      <th>blockchain/block_count</th>\n",
       "      <th>...</th>\n",
       "      <th>addresses/receiving_count</th>\n",
       "      <th>addresses/new_non_zero_count</th>\n",
       "      <th>addresses/non_zero_count</th>\n",
       "      <th>addresses/min_point_zero_1_count</th>\n",
       "      <th>addresses/min_point_1_count</th>\n",
       "      <th>addresses/min_1_count</th>\n",
       "      <th>addresses/min_10_count</th>\n",
       "      <th>addresses/min_100_count</th>\n",
       "      <th>addresses/min_1k_count</th>\n",
       "      <th>addresses/min_10k_count</th>\n",
       "    </tr>\n",
       "  </thead>\n",
       "  <tbody>\n",
       "    <tr>\n",
       "      <th>count</th>\n",
       "      <td>3455.00</td>\n",
       "      <td>3455.00</td>\n",
       "      <td>3455.00</td>\n",
       "      <td>3455.00</td>\n",
       "      <td>3455.00</td>\n",
       "      <td>3455.00</td>\n",
       "      <td>3455.00</td>\n",
       "      <td>3455.00</td>\n",
       "      <td>3455.00</td>\n",
       "      <td>3455.00</td>\n",
       "      <td>...</td>\n",
       "      <td>3455.00</td>\n",
       "      <td>3455.00</td>\n",
       "      <td>3455.00</td>\n",
       "      <td>3455.00</td>\n",
       "      <td>3455.00</td>\n",
       "      <td>3455.00</td>\n",
       "      <td>3455.00</td>\n",
       "      <td>3455.00</td>\n",
       "      <td>3455.00</td>\n",
       "      <td>3455.00</td>\n",
       "    </tr>\n",
       "    <tr>\n",
       "      <th>mean</th>\n",
       "      <td>7.90</td>\n",
       "      <td>6.39</td>\n",
       "      <td>3.53</td>\n",
       "      <td>3327.68</td>\n",
       "      <td>-0.55</td>\n",
       "      <td>1970.12</td>\n",
       "      <td>1.70</td>\n",
       "      <td>14353719238361098485760.00</td>\n",
       "      <td>24302747001824137216.00</td>\n",
       "      <td>152.56</td>\n",
       "      <td>...</td>\n",
       "      <td>327058.81</td>\n",
       "      <td>219136.28</td>\n",
       "      <td>12330936.86</td>\n",
       "      <td>3504837.26</td>\n",
       "      <td>1404429.58</td>\n",
       "      <td>472796.96</td>\n",
       "      <td>125650.62</td>\n",
       "      <td>14687.79</td>\n",
       "      <td>1624.12</td>\n",
       "      <td>102.24</td>\n",
       "    </tr>\n",
       "    <tr>\n",
       "      <th>std</th>\n",
       "      <td>241.09</td>\n",
       "      <td>2.49</td>\n",
       "      <td>3.35</td>\n",
       "      <td>4486.62</td>\n",
       "      <td>0.23</td>\n",
       "      <td>2442.56</td>\n",
       "      <td>0.75</td>\n",
       "      <td>23759441662281179463680.00</td>\n",
       "      <td>40114982933232230400.00</td>\n",
       "      <td>18.96</td>\n",
       "      <td>...</td>\n",
       "      <td>229458.79</td>\n",
       "      <td>161017.94</td>\n",
       "      <td>10912236.46</td>\n",
       "      <td>2930391.38</td>\n",
       "      <td>1033833.02</td>\n",
       "      <td>241077.01</td>\n",
       "      <td>28896.55</td>\n",
       "      <td>3618.62</td>\n",
       "      <td>389.15</td>\n",
       "      <td>14.70</td>\n",
       "    </tr>\n",
       "    <tr>\n",
       "      <th>min</th>\n",
       "      <td>-3052.46</td>\n",
       "      <td>0.72</td>\n",
       "      <td>0.16</td>\n",
       "      <td>2.05</td>\n",
       "      <td>-0.94</td>\n",
       "      <td>4.78</td>\n",
       "      <td>0.40</td>\n",
       "      <td>4684588175054590.00</td>\n",
       "      <td>6399665203131.94</td>\n",
       "      <td>80.00</td>\n",
       "      <td>...</td>\n",
       "      <td>7539.00</td>\n",
       "      <td>4241.00</td>\n",
       "      <td>296738.00</td>\n",
       "      <td>195085.00</td>\n",
       "      <td>125059.00</td>\n",
       "      <td>98120.00</td>\n",
       "      <td>64333.00</td>\n",
       "      <td>3746.00</td>\n",
       "      <td>597.00</td>\n",
       "      <td>62.00</td>\n",
       "    </tr>\n",
       "    <tr>\n",
       "      <th>25%</th>\n",
       "      <td>-7.00</td>\n",
       "      <td>5.41</td>\n",
       "      <td>1.53</td>\n",
       "      <td>223.58</td>\n",
       "      <td>-0.71</td>\n",
       "      <td>164.91</td>\n",
       "      <td>1.19</td>\n",
       "      <td>2617708177598920192.00</td>\n",
       "      <td>5139102536382890.00</td>\n",
       "      <td>140.00</td>\n",
       "      <td>...</td>\n",
       "      <td>103745.50</td>\n",
       "      <td>62254.00</td>\n",
       "      <td>2114197.00</td>\n",
       "      <td>703422.00</td>\n",
       "      <td>408416.50</td>\n",
       "      <td>235756.50</td>\n",
       "      <td>99691.50</td>\n",
       "      <td>12937.00</td>\n",
       "      <td>1461.00</td>\n",
       "      <td>97.00</td>\n",
       "    </tr>\n",
       "    <tr>\n",
       "      <th>50%</th>\n",
       "      <td>0.11</td>\n",
       "      <td>6.43</td>\n",
       "      <td>2.66</td>\n",
       "      <td>619.93</td>\n",
       "      <td>-0.59</td>\n",
       "      <td>351.55</td>\n",
       "      <td>1.61</td>\n",
       "      <td>716621792837638029312.00</td>\n",
       "      <td>1252290268138319872.00</td>\n",
       "      <td>151.00</td>\n",
       "      <td>...</td>\n",
       "      <td>368721.00</td>\n",
       "      <td>225591.00</td>\n",
       "      <td>7583326.00</td>\n",
       "      <td>2594208.00</td>\n",
       "      <td>1198967.00</td>\n",
       "      <td>484527.00</td>\n",
       "      <td>138476.00</td>\n",
       "      <td>16179.00</td>\n",
       "      <td>1688.00</td>\n",
       "      <td>105.00</td>\n",
       "    </tr>\n",
       "    <tr>\n",
       "      <th>75%</th>\n",
       "      <td>13.31</td>\n",
       "      <td>8.79</td>\n",
       "      <td>4.41</td>\n",
       "      <td>6589.15</td>\n",
       "      <td>-0.45</td>\n",
       "      <td>4961.51</td>\n",
       "      <td>1.99</td>\n",
       "      <td>24131685420266202071040.00</td>\n",
       "      <td>39311589905386799104.00</td>\n",
       "      <td>163.00</td>\n",
       "      <td>...</td>\n",
       "      <td>513610.00</td>\n",
       "      <td>351713.00</td>\n",
       "      <td>22451290.50</td>\n",
       "      <td>6394029.50</td>\n",
       "      <td>2475117.00</td>\n",
       "      <td>711475.00</td>\n",
       "      <td>149825.00</td>\n",
       "      <td>17142.00</td>\n",
       "      <td>1848.50</td>\n",
       "      <td>113.00</td>\n",
       "    </tr>\n",
       "    <tr>\n",
       "      <th>max</th>\n",
       "      <td>3224.13</td>\n",
       "      <td>10.22</td>\n",
       "      <td>41.75</td>\n",
       "      <td>27324.99</td>\n",
       "      <td>0.00</td>\n",
       "      <td>8943.52</td>\n",
       "      <td>5.73</td>\n",
       "      <td>85887904103269694177280.00</td>\n",
       "      <td>160765244797356015616.00</td>\n",
       "      <td>260.00</td>\n",
       "      <td>...</td>\n",
       "      <td>1072829.00</td>\n",
       "      <td>800180.00</td>\n",
       "      <td>33275082.00</td>\n",
       "      <td>8753449.00</td>\n",
       "      <td>3186455.00</td>\n",
       "      <td>829715.00</td>\n",
       "      <td>157275.00</td>\n",
       "      <td>18543.00</td>\n",
       "      <td>2306.00</td>\n",
       "      <td>126.00</td>\n",
       "    </tr>\n",
       "  </tbody>\n",
       "</table>\n",
       "<p>8 rows × 91 columns</p>\n",
       "</div>"
      ],
      "text/plain": [
       "       Daily Return in USD  Log Price in USD  \\\n",
       "count              3455.00           3455.00   \n",
       "mean                  7.90              6.39   \n",
       "std                 241.09              2.49   \n",
       "min               -3052.46              0.72   \n",
       "25%                  -7.00              5.41   \n",
       "50%                   0.11              6.43   \n",
       "75%                  13.31              8.79   \n",
       "max                3224.13             10.22   \n",
       "\n",
       "       Volatility Daily Log Return in Percent 5D  market/price_usd_close  \\\n",
       "count                                    3455.00                 3455.00   \n",
       "mean                                        3.53                 3327.68   \n",
       "std                                         3.35                 4486.62   \n",
       "min                                         0.16                    2.05   \n",
       "25%                                         1.53                  223.58   \n",
       "50%                                         2.66                  619.93   \n",
       "75%                                         4.41                 6589.15   \n",
       "max                                        41.75                27324.99   \n",
       "\n",
       "       market/price_drawdown_relative  market/price_realized_usd  market/mvrv  \\\n",
       "count                         3455.00                    3455.00      3455.00   \n",
       "mean                            -0.55                    1970.12         1.70   \n",
       "std                              0.23                    2442.56         0.75   \n",
       "min                             -0.94                       4.78         0.40   \n",
       "25%                             -0.71                     164.91         1.19   \n",
       "50%                             -0.59                     351.55         1.61   \n",
       "75%                             -0.45                    4961.51         1.99   \n",
       "max                              0.00                    8943.52         5.73   \n",
       "\n",
       "        mining/difficulty_latest    mining/hash_rate_mean  \\\n",
       "count                    3455.00                  3455.00   \n",
       "mean  14353719238361098485760.00  24302747001824137216.00   \n",
       "std   23759441662281179463680.00  40114982933232230400.00   \n",
       "min          4684588175054590.00         6399665203131.94   \n",
       "25%       2617708177598920192.00      5139102536382890.00   \n",
       "50%     716621792837638029312.00   1252290268138319872.00   \n",
       "75%   24131685420266202071040.00  39311589905386799104.00   \n",
       "max   85887904103269694177280.00 160765244797356015616.00   \n",
       "\n",
       "       blockchain/block_count  ...  addresses/receiving_count  \\\n",
       "count                 3455.00  ...                    3455.00   \n",
       "mean                   152.56  ...                  327058.81   \n",
       "std                     18.96  ...                  229458.79   \n",
       "min                     80.00  ...                    7539.00   \n",
       "25%                    140.00  ...                  103745.50   \n",
       "50%                    151.00  ...                  368721.00   \n",
       "75%                    163.00  ...                  513610.00   \n",
       "max                    260.00  ...                 1072829.00   \n",
       "\n",
       "       addresses/new_non_zero_count  addresses/non_zero_count  \\\n",
       "count                       3455.00                   3455.00   \n",
       "mean                      219136.28               12330936.86   \n",
       "std                       161017.94               10912236.46   \n",
       "min                         4241.00                 296738.00   \n",
       "25%                        62254.00                2114197.00   \n",
       "50%                       225591.00                7583326.00   \n",
       "75%                       351713.00               22451290.50   \n",
       "max                       800180.00               33275082.00   \n",
       "\n",
       "       addresses/min_point_zero_1_count  addresses/min_point_1_count  \\\n",
       "count                           3455.00                      3455.00   \n",
       "mean                         3504837.26                   1404429.58   \n",
       "std                          2930391.38                   1033833.02   \n",
       "min                           195085.00                    125059.00   \n",
       "25%                           703422.00                    408416.50   \n",
       "50%                          2594208.00                   1198967.00   \n",
       "75%                          6394029.50                   2475117.00   \n",
       "max                          8753449.00                   3186455.00   \n",
       "\n",
       "       addresses/min_1_count  addresses/min_10_count  addresses/min_100_count  \\\n",
       "count                3455.00                 3455.00                  3455.00   \n",
       "mean               472796.96               125650.62                 14687.79   \n",
       "std                241077.01                28896.55                  3618.62   \n",
       "min                 98120.00                64333.00                  3746.00   \n",
       "25%                235756.50                99691.50                 12937.00   \n",
       "50%                484527.00               138476.00                 16179.00   \n",
       "75%                711475.00               149825.00                 17142.00   \n",
       "max                829715.00               157275.00                 18543.00   \n",
       "\n",
       "       addresses/min_1k_count  addresses/min_10k_count  \n",
       "count                 3455.00                  3455.00  \n",
       "mean                  1624.12                   102.24  \n",
       "std                    389.15                    14.70  \n",
       "min                    597.00                    62.00  \n",
       "25%                   1461.00                    97.00  \n",
       "50%                   1688.00                   105.00  \n",
       "75%                   1848.50                   113.00  \n",
       "max                   2306.00                   126.00  \n",
       "\n",
       "[8 rows x 91 columns]"
      ]
     },
     "execution_count": 15,
     "metadata": {},
     "output_type": "execute_result"
    }
   ],
   "source": [
    "# Summary Statistics\n",
    "df_dataset1.describe()"
   ]
  },
  {
   "cell_type": "code",
   "execution_count": 16,
   "metadata": {
    "ExecuteTime": {
     "end_time": "2020-12-26T16:23:41.074972Z",
     "start_time": "2020-12-26T16:23:41.045083Z"
    }
   },
   "outputs": [
    {
     "data": {
      "text/html": [
       "<div>\n",
       "<style scoped>\n",
       "    .dataframe tbody tr th:only-of-type {\n",
       "        vertical-align: middle;\n",
       "    }\n",
       "\n",
       "    .dataframe tbody tr th {\n",
       "        vertical-align: top;\n",
       "    }\n",
       "\n",
       "    .dataframe thead th {\n",
       "        text-align: right;\n",
       "    }\n",
       "</style>\n",
       "<table border=\"1\" class=\"dataframe\">\n",
       "  <thead>\n",
       "    <tr style=\"text-align: right;\">\n",
       "      <th></th>\n",
       "      <th>Daily Return in USD</th>\n",
       "      <th>Log Price in USD</th>\n",
       "      <th>Volatility Daily Log Return in Percent 5D</th>\n",
       "      <th>market/price_usd_close</th>\n",
       "      <th>market/price_drawdown_relative</th>\n",
       "      <th>market/price_realized_usd</th>\n",
       "      <th>market/mvrv</th>\n",
       "      <th>mining/difficulty_latest</th>\n",
       "      <th>mining/hash_rate_mean</th>\n",
       "      <th>blockchain/block_count</th>\n",
       "      <th>...</th>\n",
       "      <th>addresses/receiving_count</th>\n",
       "      <th>addresses/new_non_zero_count</th>\n",
       "      <th>addresses/non_zero_count</th>\n",
       "      <th>addresses/min_point_zero_1_count</th>\n",
       "      <th>addresses/min_point_1_count</th>\n",
       "      <th>addresses/min_1_count</th>\n",
       "      <th>addresses/min_10_count</th>\n",
       "      <th>addresses/min_100_count</th>\n",
       "      <th>addresses/min_1k_count</th>\n",
       "      <th>addresses/min_10k_count</th>\n",
       "    </tr>\n",
       "    <tr>\n",
       "      <th>Date</th>\n",
       "      <th></th>\n",
       "      <th></th>\n",
       "      <th></th>\n",
       "      <th></th>\n",
       "      <th></th>\n",
       "      <th></th>\n",
       "      <th></th>\n",
       "      <th></th>\n",
       "      <th></th>\n",
       "      <th></th>\n",
       "      <th></th>\n",
       "      <th></th>\n",
       "      <th></th>\n",
       "      <th></th>\n",
       "      <th></th>\n",
       "      <th></th>\n",
       "      <th></th>\n",
       "      <th></th>\n",
       "      <th></th>\n",
       "      <th></th>\n",
       "      <th></th>\n",
       "    </tr>\n",
       "  </thead>\n",
       "  <tbody>\n",
       "    <tr>\n",
       "      <th>2020-12-25</th>\n",
       "      <td>923.46</td>\n",
       "      <td>10.11</td>\n",
       "      <td>3.21</td>\n",
       "      <td>24688.21</td>\n",
       "      <td>-0.00</td>\n",
       "      <td>8467.17</td>\n",
       "      <td>2.84</td>\n",
       "      <td>80187763369133704478720.00</td>\n",
       "      <td>133658648082637996032.00</td>\n",
       "      <td>144.00</td>\n",
       "      <td>...</td>\n",
       "      <td>662961.00</td>\n",
       "      <td>474667.00</td>\n",
       "      <td>33073258.00</td>\n",
       "      <td>8513136.00</td>\n",
       "      <td>3130986.00</td>\n",
       "      <td>828971.00</td>\n",
       "      <td>153594.00</td>\n",
       "      <td>16068.00</td>\n",
       "      <td>2228.00</td>\n",
       "      <td>103.00</td>\n",
       "    </tr>\n",
       "    <tr>\n",
       "      <th>2020-12-26</th>\n",
       "      <td>1752.04</td>\n",
       "      <td>10.18</td>\n",
       "      <td>3.25</td>\n",
       "      <td>26440.25</td>\n",
       "      <td>-0.01</td>\n",
       "      <td>8511.24</td>\n",
       "      <td>2.97</td>\n",
       "      <td>80187763369133704478720.00</td>\n",
       "      <td>127352989515328995328.00</td>\n",
       "      <td>137.00</td>\n",
       "      <td>...</td>\n",
       "      <td>627828.00</td>\n",
       "      <td>448279.00</td>\n",
       "      <td>33075652.00</td>\n",
       "      <td>8490133.00</td>\n",
       "      <td>3122900.00</td>\n",
       "      <td>826721.00</td>\n",
       "      <td>153580.00</td>\n",
       "      <td>16104.00</td>\n",
       "      <td>2221.00</td>\n",
       "      <td>102.00</td>\n",
       "    </tr>\n",
       "    <tr>\n",
       "      <th>2020-12-27</th>\n",
       "      <td>-52.10</td>\n",
       "      <td>10.18</td>\n",
       "      <td>3.46</td>\n",
       "      <td>26388.15</td>\n",
       "      <td>-0.07</td>\n",
       "      <td>8610.61</td>\n",
       "      <td>3.14</td>\n",
       "      <td>80187763369133704478720.00</td>\n",
       "      <td>136527494404802002944.00</td>\n",
       "      <td>148.00</td>\n",
       "      <td>...</td>\n",
       "      <td>696511.00</td>\n",
       "      <td>503446.00</td>\n",
       "      <td>33070470.00</td>\n",
       "      <td>8470448.00</td>\n",
       "      <td>3120657.00</td>\n",
       "      <td>825437.00</td>\n",
       "      <td>153305.00</td>\n",
       "      <td>16038.00</td>\n",
       "      <td>2225.00</td>\n",
       "      <td>102.00</td>\n",
       "    </tr>\n",
       "    <tr>\n",
       "      <th>2020-12-28</th>\n",
       "      <td>710.80</td>\n",
       "      <td>10.21</td>\n",
       "      <td>2.59</td>\n",
       "      <td>27098.95</td>\n",
       "      <td>-0.04</td>\n",
       "      <td>8811.24</td>\n",
       "      <td>3.06</td>\n",
       "      <td>79884643861355300913152.00</td>\n",
       "      <td>148273901331699007488.00</td>\n",
       "      <td>160.00</td>\n",
       "      <td>...</td>\n",
       "      <td>717060.00</td>\n",
       "      <td>510439.00</td>\n",
       "      <td>33024571.00</td>\n",
       "      <td>8472554.00</td>\n",
       "      <td>3121921.00</td>\n",
       "      <td>825430.00</td>\n",
       "      <td>153690.00</td>\n",
       "      <td>16197.00</td>\n",
       "      <td>2225.00</td>\n",
       "      <td>98.00</td>\n",
       "    </tr>\n",
       "    <tr>\n",
       "      <th>2020-12-29</th>\n",
       "      <td>226.04</td>\n",
       "      <td>10.22</td>\n",
       "      <td>2.75</td>\n",
       "      <td>27324.99</td>\n",
       "      <td>-0.03</td>\n",
       "      <td>8943.52</td>\n",
       "      <td>2.98</td>\n",
       "      <td>79884643861355300913152.00</td>\n",
       "      <td>140440271419453997056.00</td>\n",
       "      <td>152.00</td>\n",
       "      <td>...</td>\n",
       "      <td>775904.00</td>\n",
       "      <td>560252.00</td>\n",
       "      <td>33035139.00</td>\n",
       "      <td>8480292.00</td>\n",
       "      <td>3120133.00</td>\n",
       "      <td>825876.00</td>\n",
       "      <td>153524.00</td>\n",
       "      <td>16227.00</td>\n",
       "      <td>2257.00</td>\n",
       "      <td>98.00</td>\n",
       "    </tr>\n",
       "  </tbody>\n",
       "</table>\n",
       "<p>5 rows × 91 columns</p>\n",
       "</div>"
      ],
      "text/plain": [
       "            Daily Return in USD  Log Price in USD  \\\n",
       "Date                                                \n",
       "2020-12-25               923.46             10.11   \n",
       "2020-12-26              1752.04             10.18   \n",
       "2020-12-27               -52.10             10.18   \n",
       "2020-12-28               710.80             10.21   \n",
       "2020-12-29               226.04             10.22   \n",
       "\n",
       "            Volatility Daily Log Return in Percent 5D  market/price_usd_close  \\\n",
       "Date                                                                            \n",
       "2020-12-25                                       3.21                24688.21   \n",
       "2020-12-26                                       3.25                26440.25   \n",
       "2020-12-27                                       3.46                26388.15   \n",
       "2020-12-28                                       2.59                27098.95   \n",
       "2020-12-29                                       2.75                27324.99   \n",
       "\n",
       "            market/price_drawdown_relative  market/price_realized_usd  \\\n",
       "Date                                                                    \n",
       "2020-12-25                           -0.00                    8467.17   \n",
       "2020-12-26                           -0.01                    8511.24   \n",
       "2020-12-27                           -0.07                    8610.61   \n",
       "2020-12-28                           -0.04                    8811.24   \n",
       "2020-12-29                           -0.03                    8943.52   \n",
       "\n",
       "            market/mvrv   mining/difficulty_latest    mining/hash_rate_mean  \\\n",
       "Date                                                                          \n",
       "2020-12-25         2.84 80187763369133704478720.00 133658648082637996032.00   \n",
       "2020-12-26         2.97 80187763369133704478720.00 127352989515328995328.00   \n",
       "2020-12-27         3.14 80187763369133704478720.00 136527494404802002944.00   \n",
       "2020-12-28         3.06 79884643861355300913152.00 148273901331699007488.00   \n",
       "2020-12-29         2.98 79884643861355300913152.00 140440271419453997056.00   \n",
       "\n",
       "            blockchain/block_count  ...  addresses/receiving_count  \\\n",
       "Date                                ...                              \n",
       "2020-12-25                  144.00  ...                  662961.00   \n",
       "2020-12-26                  137.00  ...                  627828.00   \n",
       "2020-12-27                  148.00  ...                  696511.00   \n",
       "2020-12-28                  160.00  ...                  717060.00   \n",
       "2020-12-29                  152.00  ...                  775904.00   \n",
       "\n",
       "            addresses/new_non_zero_count  addresses/non_zero_count  \\\n",
       "Date                                                                 \n",
       "2020-12-25                     474667.00               33073258.00   \n",
       "2020-12-26                     448279.00               33075652.00   \n",
       "2020-12-27                     503446.00               33070470.00   \n",
       "2020-12-28                     510439.00               33024571.00   \n",
       "2020-12-29                     560252.00               33035139.00   \n",
       "\n",
       "            addresses/min_point_zero_1_count  addresses/min_point_1_count  \\\n",
       "Date                                                                        \n",
       "2020-12-25                        8513136.00                   3130986.00   \n",
       "2020-12-26                        8490133.00                   3122900.00   \n",
       "2020-12-27                        8470448.00                   3120657.00   \n",
       "2020-12-28                        8472554.00                   3121921.00   \n",
       "2020-12-29                        8480292.00                   3120133.00   \n",
       "\n",
       "            addresses/min_1_count  addresses/min_10_count  \\\n",
       "Date                                                        \n",
       "2020-12-25              828971.00               153594.00   \n",
       "2020-12-26              826721.00               153580.00   \n",
       "2020-12-27              825437.00               153305.00   \n",
       "2020-12-28              825430.00               153690.00   \n",
       "2020-12-29              825876.00               153524.00   \n",
       "\n",
       "            addresses/min_100_count  addresses/min_1k_count  \\\n",
       "Date                                                          \n",
       "2020-12-25                 16068.00                 2228.00   \n",
       "2020-12-26                 16104.00                 2221.00   \n",
       "2020-12-27                 16038.00                 2225.00   \n",
       "2020-12-28                 16197.00                 2225.00   \n",
       "2020-12-29                 16227.00                 2257.00   \n",
       "\n",
       "            addresses/min_10k_count  \n",
       "Date                                 \n",
       "2020-12-25                   103.00  \n",
       "2020-12-26                   102.00  \n",
       "2020-12-27                   102.00  \n",
       "2020-12-28                    98.00  \n",
       "2020-12-29                    98.00  \n",
       "\n",
       "[5 rows x 91 columns]"
      ]
     },
     "execution_count": 16,
     "metadata": {},
     "output_type": "execute_result"
    }
   ],
   "source": [
    "# Dataset Tail\n",
    "df_dataset1.tail()"
   ]
  },
  {
   "cell_type": "markdown",
   "metadata": {},
   "source": [
    "## Prediction Shift"
   ]
  },
  {
   "cell_type": "code",
   "execution_count": 17,
   "metadata": {
    "ExecuteTime": {
     "end_time": "2020-12-26T16:23:41.090930Z",
     "start_time": "2020-12-26T16:23:41.076968Z"
    }
   },
   "outputs": [
    {
     "name": "stdout",
     "output_type": "stream",
     "text": [
      "Daily Return in USD\n",
      "Log Price in USD\n",
      "Volatility Daily Log Return in Percent 5D\n",
      "market/price_usd_close\n",
      "market/price_drawdown_relative\n",
      "market/price_realized_usd\n",
      "market/mvrv\n",
      "mining/difficulty_latest\n",
      "mining/hash_rate_mean\n",
      "blockchain/block_count\n",
      "blockchain/block_interval_mean\n",
      "blockchain/block_size_sum\n",
      "fees/volume_sum\n",
      "fees/volume_mean\n",
      "fees/fee_ratio_multiple\n",
      "blockchain/utxo_created_count\n",
      "blockchain/utxo_spent_count\n",
      "blockchain/utxo_created_value_sum\n",
      "blockchain/utxo_spent_value_sum\n",
      "blockchain/utxo_profit_relative\n",
      "blockchain/utxo_profit_count\n",
      "blockchain/utxo_loss_count\n",
      "supply/current\n",
      "supply/profit_relative\n",
      "supply/profit_sum\n",
      "supply/loss_sum\n",
      "supply/active_more_1y_percent\n",
      "supply/active_more_2y_percent\n",
      "supply/active_more_3y_percent\n",
      "supply/active_more_5y_percent\n",
      "supply/active_24h\n",
      "supply/active_1d_1w\n",
      "supply/active_1w_1m\n",
      "supply/active_1m_3m\n",
      "supply/active_3m_6m\n",
      "supply/active_6m_12m\n",
      "supply/active_1y_2y\n",
      "supply/active_2y_3y\n",
      "supply/active_3y_5y\n",
      "supply/active_5y_7y\n",
      "supply/active_7y_10y\n",
      "supply/active_more_10y\n",
      "supply/issued\n",
      "supply/inflation_rate\n",
      "transactions/count\n",
      "transactions/size_sum\n",
      "transactions/transfers_volume_sum\n",
      "transactions/transfers_volume_adjusted_sum\n",
      "indicators/sopr_adjusted\n",
      "indicators/nvt\n",
      "indicators/velocity\n",
      "indicators/cdd\n",
      "indicators/reserve_risk\n",
      "indicators/average_dormancy\n",
      "indicators/liveliness\n",
      "indicators/asol\n",
      "indicators/sol_1h\n",
      "indicators/sol_1h_24h\n",
      "indicators/sol_1d_1w\n",
      "indicators/sol_1w_1m\n",
      "indicators/sol_1m_3m\n",
      "indicators/sol_3m_6m\n",
      "indicators/sol_6m_12m\n",
      "indicators/sol_1y_2y\n",
      "indicators/sol_2y_3y\n",
      "indicators/sol_3y_5y\n",
      "indicators/sol_5y_7y\n",
      "indicators/sol_7y_10y\n",
      "indicators/net_unrealized_profit_loss\n",
      "indicators/unrealized_profit\n",
      "indicators/unrealized_loss\n",
      "indicators/net_realized_profit_loss\n",
      "indicators/realized_profit\n",
      "indicators/realized_loss\n",
      "indicators/nupl_more_155\n",
      "indicators/nupl_less_155\n",
      "indicators/puell_multiple\n",
      "indicators/stock_to_flow_deflection\n",
      "indicators/difficulty_ribbon_compression\n",
      "addresses/active_count\n",
      "addresses/sending_count\n",
      "addresses/receiving_count\n",
      "addresses/new_non_zero_count\n",
      "addresses/non_zero_count\n",
      "addresses/min_point_zero_1_count\n",
      "addresses/min_point_1_count\n",
      "addresses/min_1_count\n",
      "addresses/min_10_count\n",
      "addresses/min_100_count\n",
      "addresses/min_1k_count\n",
      "addresses/min_10k_count\n"
     ]
    }
   ],
   "source": [
    "for x in df_dataset1.columns:\n",
    "    print(x)"
   ]
  },
  {
   "cell_type": "markdown",
   "metadata": {},
   "source": [
    "### Data Set I."
   ]
  },
  {
   "cell_type": "code",
   "execution_count": 18,
   "metadata": {
    "ExecuteTime": {
     "end_time": "2020-12-26T16:23:41.106888Z",
     "start_time": "2020-12-26T16:23:41.092925Z"
    }
   },
   "outputs": [
    {
     "data": {
      "text/plain": [
       "Index(['Daily Return in USD', 'Log Price in USD',\n",
       "       'Volatility Daily Log Return in Percent 5D', 'market/price_usd_close',\n",
       "       'market/price_drawdown_relative', 'market/price_realized_usd',\n",
       "       'market/mvrv', 'mining/difficulty_latest', 'mining/hash_rate_mean',\n",
       "       'blockchain/block_count', 'blockchain/block_interval_mean',\n",
       "       'blockchain/block_size_sum', 'fees/volume_sum', 'fees/volume_mean',\n",
       "       'fees/fee_ratio_multiple', 'blockchain/utxo_created_count',\n",
       "       'blockchain/utxo_spent_count', 'blockchain/utxo_created_value_sum',\n",
       "       'blockchain/utxo_spent_value_sum', 'blockchain/utxo_profit_relative',\n",
       "       'blockchain/utxo_profit_count', 'blockchain/utxo_loss_count',\n",
       "       'supply/current', 'supply/profit_relative', 'supply/profit_sum',\n",
       "       'supply/loss_sum', 'supply/active_more_1y_percent',\n",
       "       'supply/active_more_2y_percent', 'supply/active_more_3y_percent',\n",
       "       'supply/active_more_5y_percent', 'supply/active_24h',\n",
       "       'supply/active_1d_1w', 'supply/active_1w_1m', 'supply/active_1m_3m',\n",
       "       'supply/active_3m_6m', 'supply/active_6m_12m', 'supply/active_1y_2y',\n",
       "       'supply/active_2y_3y', 'supply/active_3y_5y', 'supply/active_5y_7y',\n",
       "       'supply/active_7y_10y', 'supply/active_more_10y', 'supply/issued',\n",
       "       'supply/inflation_rate', 'transactions/count', 'transactions/size_sum',\n",
       "       'transactions/transfers_volume_sum',\n",
       "       'transactions/transfers_volume_adjusted_sum',\n",
       "       'indicators/sopr_adjusted', 'indicators/nvt', 'indicators/velocity',\n",
       "       'indicators/cdd', 'indicators/reserve_risk',\n",
       "       'indicators/average_dormancy', 'indicators/liveliness',\n",
       "       'indicators/asol', 'indicators/sol_1h', 'indicators/sol_1h_24h',\n",
       "       'indicators/sol_1d_1w', 'indicators/sol_1w_1m', 'indicators/sol_1m_3m',\n",
       "       'indicators/sol_3m_6m', 'indicators/sol_6m_12m', 'indicators/sol_1y_2y',\n",
       "       'indicators/sol_2y_3y', 'indicators/sol_3y_5y', 'indicators/sol_5y_7y',\n",
       "       'indicators/sol_7y_10y', 'indicators/net_unrealized_profit_loss',\n",
       "       'indicators/unrealized_profit', 'indicators/unrealized_loss',\n",
       "       'indicators/net_realized_profit_loss', 'indicators/realized_profit',\n",
       "       'indicators/realized_loss', 'indicators/nupl_more_155',\n",
       "       'indicators/nupl_less_155', 'indicators/puell_multiple',\n",
       "       'indicators/stock_to_flow_deflection',\n",
       "       'indicators/difficulty_ribbon_compression', 'addresses/active_count',\n",
       "       'addresses/sending_count', 'addresses/receiving_count',\n",
       "       'addresses/new_non_zero_count', 'addresses/non_zero_count',\n",
       "       'addresses/min_point_zero_1_count', 'addresses/min_point_1_count',\n",
       "       'addresses/min_1_count', 'addresses/min_10_count',\n",
       "       'addresses/min_100_count', 'addresses/min_1k_count',\n",
       "       'addresses/min_10k_count'],\n",
       "      dtype='object')"
      ]
     },
     "execution_count": 18,
     "metadata": {},
     "output_type": "execute_result"
    }
   ],
   "source": [
    "df_dataset1.columns"
   ]
  },
  {
   "cell_type": "code",
   "execution_count": 19,
   "metadata": {
    "ExecuteTime": {
     "end_time": "2020-12-26T16:23:41.137839Z",
     "start_time": "2020-12-26T16:23:41.110895Z"
    }
   },
   "outputs": [
    {
     "data": {
      "text/html": [
       "<div>\n",
       "<style scoped>\n",
       "    .dataframe tbody tr th:only-of-type {\n",
       "        vertical-align: middle;\n",
       "    }\n",
       "\n",
       "    .dataframe tbody tr th {\n",
       "        vertical-align: top;\n",
       "    }\n",
       "\n",
       "    .dataframe thead th {\n",
       "        text-align: right;\n",
       "    }\n",
       "</style>\n",
       "<table border=\"1\" class=\"dataframe\">\n",
       "  <thead>\n",
       "    <tr style=\"text-align: right;\">\n",
       "      <th></th>\n",
       "      <th>Daily Return in USD</th>\n",
       "      <th>Log Price in USD</th>\n",
       "      <th>Volatility Daily Log Return in Percent 5D</th>\n",
       "      <th>market/price_usd_close</th>\n",
       "    </tr>\n",
       "    <tr>\n",
       "      <th>Date</th>\n",
       "      <th></th>\n",
       "      <th></th>\n",
       "      <th></th>\n",
       "      <th></th>\n",
       "    </tr>\n",
       "  </thead>\n",
       "  <tbody>\n",
       "    <tr>\n",
       "      <th>2011-07-16</th>\n",
       "      <td>-0.09</td>\n",
       "      <td>2.62</td>\n",
       "      <td>0.70</td>\n",
       "      <td>13.72</td>\n",
       "    </tr>\n",
       "    <tr>\n",
       "      <th>2011-07-17</th>\n",
       "      <td>-0.55</td>\n",
       "      <td>2.58</td>\n",
       "      <td>1.70</td>\n",
       "      <td>13.17</td>\n",
       "    </tr>\n",
       "    <tr>\n",
       "      <th>2011-07-18</th>\n",
       "      <td>0.26</td>\n",
       "      <td>2.60</td>\n",
       "      <td>2.23</td>\n",
       "      <td>13.42</td>\n",
       "    </tr>\n",
       "    <tr>\n",
       "      <th>2011-07-19</th>\n",
       "      <td>0.42</td>\n",
       "      <td>2.63</td>\n",
       "      <td>2.83</td>\n",
       "      <td>13.84</td>\n",
       "    </tr>\n",
       "    <tr>\n",
       "      <th>2011-07-20</th>\n",
       "      <td>-0.15</td>\n",
       "      <td>2.62</td>\n",
       "      <td>2.80</td>\n",
       "      <td>13.69</td>\n",
       "    </tr>\n",
       "    <tr>\n",
       "      <th>...</th>\n",
       "      <td>...</td>\n",
       "      <td>...</td>\n",
       "      <td>...</td>\n",
       "      <td>...</td>\n",
       "    </tr>\n",
       "    <tr>\n",
       "      <th>2020-12-25</th>\n",
       "      <td>923.46</td>\n",
       "      <td>10.11</td>\n",
       "      <td>3.21</td>\n",
       "      <td>24688.21</td>\n",
       "    </tr>\n",
       "    <tr>\n",
       "      <th>2020-12-26</th>\n",
       "      <td>1752.04</td>\n",
       "      <td>10.18</td>\n",
       "      <td>3.25</td>\n",
       "      <td>26440.25</td>\n",
       "    </tr>\n",
       "    <tr>\n",
       "      <th>2020-12-27</th>\n",
       "      <td>-52.10</td>\n",
       "      <td>10.18</td>\n",
       "      <td>3.46</td>\n",
       "      <td>26388.15</td>\n",
       "    </tr>\n",
       "    <tr>\n",
       "      <th>2020-12-28</th>\n",
       "      <td>710.80</td>\n",
       "      <td>10.21</td>\n",
       "      <td>2.59</td>\n",
       "      <td>27098.95</td>\n",
       "    </tr>\n",
       "    <tr>\n",
       "      <th>2020-12-29</th>\n",
       "      <td>226.04</td>\n",
       "      <td>10.22</td>\n",
       "      <td>2.75</td>\n",
       "      <td>27324.99</td>\n",
       "    </tr>\n",
       "  </tbody>\n",
       "</table>\n",
       "<p>3455 rows × 4 columns</p>\n",
       "</div>"
      ],
      "text/plain": [
       "            Daily Return in USD  Log Price in USD  \\\n",
       "Date                                                \n",
       "2011-07-16                -0.09              2.62   \n",
       "2011-07-17                -0.55              2.58   \n",
       "2011-07-18                 0.26              2.60   \n",
       "2011-07-19                 0.42              2.63   \n",
       "2011-07-20                -0.15              2.62   \n",
       "...                         ...               ...   \n",
       "2020-12-25               923.46             10.11   \n",
       "2020-12-26              1752.04             10.18   \n",
       "2020-12-27               -52.10             10.18   \n",
       "2020-12-28               710.80             10.21   \n",
       "2020-12-29               226.04             10.22   \n",
       "\n",
       "            Volatility Daily Log Return in Percent 5D  market/price_usd_close  \n",
       "Date                                                                           \n",
       "2011-07-16                                       0.70                   13.72  \n",
       "2011-07-17                                       1.70                   13.17  \n",
       "2011-07-18                                       2.23                   13.42  \n",
       "2011-07-19                                       2.83                   13.84  \n",
       "2011-07-20                                       2.80                   13.69  \n",
       "...                                               ...                     ...  \n",
       "2020-12-25                                       3.21                24688.21  \n",
       "2020-12-26                                       3.25                26440.25  \n",
       "2020-12-27                                       3.46                26388.15  \n",
       "2020-12-28                                       2.59                27098.95  \n",
       "2020-12-29                                       2.75                27324.99  \n",
       "\n",
       "[3455 rows x 4 columns]"
      ]
     },
     "execution_count": 19,
     "metadata": {},
     "output_type": "execute_result"
    }
   ],
   "source": [
    "df_dataset1[['Daily Return in USD', 'Log Price in USD',\n",
    "       'Volatility Daily Log Return in Percent 5D', 'market/price_usd_close']]"
   ]
  },
  {
   "cell_type": "code",
   "execution_count": 20,
   "metadata": {
    "ExecuteTime": {
     "end_time": "2020-12-26T16:23:41.152974Z",
     "start_time": "2020-12-26T16:23:41.140798Z"
    }
   },
   "outputs": [],
   "source": [
    "# Shift of Target Column by 1 Day\n",
    "df_dataset1['Daily Return in USD_ohneshift'] = df_dataset1['Daily Return in USD'] \n",
    "df_dataset1[\"percentage_daily_return_bef_shift\"] = df_dataset1[\"Daily Return in USD_ohneshift\"]/df_dataset1[\"market/price_usd_close\"]"
   ]
  },
  {
   "cell_type": "code",
   "execution_count": 21,
   "metadata": {
    "ExecuteTime": {
     "end_time": "2020-12-26T16:23:41.167725Z",
     "start_time": "2020-12-26T16:23:41.155761Z"
    }
   },
   "outputs": [],
   "source": [
    "df_dataset1 = df_dataset1.sort_index(ascending = False)"
   ]
  },
  {
   "cell_type": "code",
   "execution_count": 22,
   "metadata": {
    "ExecuteTime": {
     "end_time": "2020-12-26T16:23:41.183683Z",
     "start_time": "2020-12-26T16:23:41.170718Z"
    }
   },
   "outputs": [],
   "source": [
    "df_dataset1['Daily Return in USD'] = df_dataset1['Daily Return in USD'].shift(1)\n"
   ]
  },
  {
   "cell_type": "code",
   "execution_count": 23,
   "metadata": {
    "ExecuteTime": {
     "end_time": "2020-12-26T16:23:41.215634Z",
     "start_time": "2020-12-26T16:23:41.185678Z"
    }
   },
   "outputs": [
    {
     "data": {
      "text/html": [
       "<div>\n",
       "<style scoped>\n",
       "    .dataframe tbody tr th:only-of-type {\n",
       "        vertical-align: middle;\n",
       "    }\n",
       "\n",
       "    .dataframe tbody tr th {\n",
       "        vertical-align: top;\n",
       "    }\n",
       "\n",
       "    .dataframe thead th {\n",
       "        text-align: right;\n",
       "    }\n",
       "</style>\n",
       "<table border=\"1\" class=\"dataframe\">\n",
       "  <thead>\n",
       "    <tr style=\"text-align: right;\">\n",
       "      <th></th>\n",
       "      <th>Daily Return in USD</th>\n",
       "      <th>addresses/active_count</th>\n",
       "      <th>Log Price in USD</th>\n",
       "      <th>Volatility Daily Log Return in Percent 5D</th>\n",
       "      <th>market/price_usd_close</th>\n",
       "    </tr>\n",
       "    <tr>\n",
       "      <th>Date</th>\n",
       "      <th></th>\n",
       "      <th></th>\n",
       "      <th></th>\n",
       "      <th></th>\n",
       "      <th></th>\n",
       "    </tr>\n",
       "  </thead>\n",
       "  <tbody>\n",
       "    <tr>\n",
       "      <th>2020-12-29</th>\n",
       "      <td>nan</td>\n",
       "      <td>1150742.00</td>\n",
       "      <td>10.22</td>\n",
       "      <td>2.75</td>\n",
       "      <td>27324.99</td>\n",
       "    </tr>\n",
       "    <tr>\n",
       "      <th>2020-12-28</th>\n",
       "      <td>226.04</td>\n",
       "      <td>1144968.00</td>\n",
       "      <td>10.21</td>\n",
       "      <td>2.59</td>\n",
       "      <td>27098.95</td>\n",
       "    </tr>\n",
       "    <tr>\n",
       "      <th>2020-12-27</th>\n",
       "      <td>710.80</td>\n",
       "      <td>1060060.00</td>\n",
       "      <td>10.18</td>\n",
       "      <td>3.46</td>\n",
       "      <td>26388.15</td>\n",
       "    </tr>\n",
       "    <tr>\n",
       "      <th>2020-12-26</th>\n",
       "      <td>-52.10</td>\n",
       "      <td>949564.00</td>\n",
       "      <td>10.18</td>\n",
       "      <td>3.25</td>\n",
       "      <td>26440.25</td>\n",
       "    </tr>\n",
       "    <tr>\n",
       "      <th>2020-12-25</th>\n",
       "      <td>1752.04</td>\n",
       "      <td>1025877.00</td>\n",
       "      <td>10.11</td>\n",
       "      <td>3.21</td>\n",
       "      <td>24688.21</td>\n",
       "    </tr>\n",
       "    <tr>\n",
       "      <th>...</th>\n",
       "      <td>...</td>\n",
       "      <td>...</td>\n",
       "      <td>...</td>\n",
       "      <td>...</td>\n",
       "      <td>...</td>\n",
       "    </tr>\n",
       "    <tr>\n",
       "      <th>2011-07-20</th>\n",
       "      <td>-0.08</td>\n",
       "      <td>25539.00</td>\n",
       "      <td>2.62</td>\n",
       "      <td>2.80</td>\n",
       "      <td>13.69</td>\n",
       "    </tr>\n",
       "    <tr>\n",
       "      <th>2011-07-19</th>\n",
       "      <td>-0.15</td>\n",
       "      <td>24782.00</td>\n",
       "      <td>2.63</td>\n",
       "      <td>2.83</td>\n",
       "      <td>13.84</td>\n",
       "    </tr>\n",
       "    <tr>\n",
       "      <th>2011-07-18</th>\n",
       "      <td>0.42</td>\n",
       "      <td>27601.00</td>\n",
       "      <td>2.60</td>\n",
       "      <td>2.23</td>\n",
       "      <td>13.42</td>\n",
       "    </tr>\n",
       "    <tr>\n",
       "      <th>2011-07-17</th>\n",
       "      <td>0.26</td>\n",
       "      <td>24274.00</td>\n",
       "      <td>2.58</td>\n",
       "      <td>1.70</td>\n",
       "      <td>13.17</td>\n",
       "    </tr>\n",
       "    <tr>\n",
       "      <th>2011-07-16</th>\n",
       "      <td>-0.55</td>\n",
       "      <td>23674.00</td>\n",
       "      <td>2.62</td>\n",
       "      <td>0.70</td>\n",
       "      <td>13.72</td>\n",
       "    </tr>\n",
       "  </tbody>\n",
       "</table>\n",
       "<p>3455 rows × 5 columns</p>\n",
       "</div>"
      ],
      "text/plain": [
       "            Daily Return in USD  addresses/active_count  Log Price in USD  \\\n",
       "Date                                                                        \n",
       "2020-12-29                  nan              1150742.00             10.22   \n",
       "2020-12-28               226.04              1144968.00             10.21   \n",
       "2020-12-27               710.80              1060060.00             10.18   \n",
       "2020-12-26               -52.10               949564.00             10.18   \n",
       "2020-12-25              1752.04              1025877.00             10.11   \n",
       "...                         ...                     ...               ...   \n",
       "2011-07-20                -0.08                25539.00              2.62   \n",
       "2011-07-19                -0.15                24782.00              2.63   \n",
       "2011-07-18                 0.42                27601.00              2.60   \n",
       "2011-07-17                 0.26                24274.00              2.58   \n",
       "2011-07-16                -0.55                23674.00              2.62   \n",
       "\n",
       "            Volatility Daily Log Return in Percent 5D  market/price_usd_close  \n",
       "Date                                                                           \n",
       "2020-12-29                                       2.75                27324.99  \n",
       "2020-12-28                                       2.59                27098.95  \n",
       "2020-12-27                                       3.46                26388.15  \n",
       "2020-12-26                                       3.25                26440.25  \n",
       "2020-12-25                                       3.21                24688.21  \n",
       "...                                               ...                     ...  \n",
       "2011-07-20                                       2.80                   13.69  \n",
       "2011-07-19                                       2.83                   13.84  \n",
       "2011-07-18                                       2.23                   13.42  \n",
       "2011-07-17                                       1.70                   13.17  \n",
       "2011-07-16                                       0.70                   13.72  \n",
       "\n",
       "[3455 rows x 5 columns]"
      ]
     },
     "execution_count": 23,
     "metadata": {},
     "output_type": "execute_result"
    }
   ],
   "source": [
    "df_dataset1[['Daily Return in USD', 'addresses/active_count', 'Log Price in USD',\n",
    "       'Volatility Daily Log Return in Percent 5D', 'market/price_usd_close']]"
   ]
  },
  {
   "cell_type": "code",
   "execution_count": 24,
   "metadata": {
    "ExecuteTime": {
     "end_time": "2020-12-26T16:23:41.231590Z",
     "start_time": "2020-12-26T16:23:41.216636Z"
    }
   },
   "outputs": [],
   "source": [
    "df_dataset1['market/price_usd_close_cummax']=df_dataset1['market/price_usd_close'].cummax()\n",
    "df_dataset1['price_usd_close_percent_of_maxtilnow'] = df_dataset1['market/price_usd_close']/df_dataset1['market/price_usd_close_cummax']"
   ]
  },
  {
   "cell_type": "code",
   "execution_count": null,
   "metadata": {},
   "outputs": [],
   "source": []
  },
  {
   "cell_type": "code",
   "execution_count": 25,
   "metadata": {
    "ExecuteTime": {
     "end_time": "2020-12-26T16:23:41.247513Z",
     "start_time": "2020-12-26T16:23:41.232815Z"
    }
   },
   "outputs": [
    {
     "data": {
      "text/html": [
       "<div>\n",
       "<style scoped>\n",
       "    .dataframe tbody tr th:only-of-type {\n",
       "        vertical-align: middle;\n",
       "    }\n",
       "\n",
       "    .dataframe tbody tr th {\n",
       "        vertical-align: top;\n",
       "    }\n",
       "\n",
       "    .dataframe thead th {\n",
       "        text-align: right;\n",
       "    }\n",
       "</style>\n",
       "<table border=\"1\" class=\"dataframe\">\n",
       "  <thead>\n",
       "    <tr style=\"text-align: right;\">\n",
       "      <th></th>\n",
       "      <th>Log Price in USD</th>\n",
       "      <th>Volatility Daily Log Return in Percent 5D</th>\n",
       "      <th>market/price_usd_close</th>\n",
       "      <th>percentage_daily_return_bef_shift</th>\n",
       "    </tr>\n",
       "    <tr>\n",
       "      <th>Date</th>\n",
       "      <th></th>\n",
       "      <th></th>\n",
       "      <th></th>\n",
       "      <th></th>\n",
       "    </tr>\n",
       "  </thead>\n",
       "  <tbody>\n",
       "    <tr>\n",
       "      <th>2011-07-20</th>\n",
       "      <td>2.62</td>\n",
       "      <td>2.80</td>\n",
       "      <td>13.69</td>\n",
       "      <td>-0.01</td>\n",
       "    </tr>\n",
       "    <tr>\n",
       "      <th>2011-07-19</th>\n",
       "      <td>2.63</td>\n",
       "      <td>2.83</td>\n",
       "      <td>13.84</td>\n",
       "      <td>0.03</td>\n",
       "    </tr>\n",
       "    <tr>\n",
       "      <th>2011-07-18</th>\n",
       "      <td>2.60</td>\n",
       "      <td>2.23</td>\n",
       "      <td>13.42</td>\n",
       "      <td>0.02</td>\n",
       "    </tr>\n",
       "    <tr>\n",
       "      <th>2011-07-17</th>\n",
       "      <td>2.58</td>\n",
       "      <td>1.70</td>\n",
       "      <td>13.17</td>\n",
       "      <td>-0.04</td>\n",
       "    </tr>\n",
       "    <tr>\n",
       "      <th>2011-07-16</th>\n",
       "      <td>2.62</td>\n",
       "      <td>0.70</td>\n",
       "      <td>13.72</td>\n",
       "      <td>-0.01</td>\n",
       "    </tr>\n",
       "  </tbody>\n",
       "</table>\n",
       "</div>"
      ],
      "text/plain": [
       "            Log Price in USD  Volatility Daily Log Return in Percent 5D  \\\n",
       "Date                                                                      \n",
       "2011-07-20              2.62                                       2.80   \n",
       "2011-07-19              2.63                                       2.83   \n",
       "2011-07-18              2.60                                       2.23   \n",
       "2011-07-17              2.58                                       1.70   \n",
       "2011-07-16              2.62                                       0.70   \n",
       "\n",
       "            market/price_usd_close  percentage_daily_return_bef_shift  \n",
       "Date                                                                   \n",
       "2011-07-20                   13.69                              -0.01  \n",
       "2011-07-19                   13.84                               0.03  \n",
       "2011-07-18                   13.42                               0.02  \n",
       "2011-07-17                   13.17                              -0.04  \n",
       "2011-07-16                   13.72                              -0.01  "
      ]
     },
     "execution_count": 25,
     "metadata": {},
     "output_type": "execute_result"
    }
   ],
   "source": [
    "# Check Shift\n",
    "df_dataset1[[ 'Log Price in USD',\n",
    "       'Volatility Daily Log Return in Percent 5D', 'market/price_usd_close',\"percentage_daily_return_bef_shift\"]].tail()"
   ]
  },
  {
   "cell_type": "code",
   "execution_count": 26,
   "metadata": {
    "ExecuteTime": {
     "end_time": "2020-12-26T16:23:41.263470Z",
     "start_time": "2020-12-26T16:23:41.249508Z"
    }
   },
   "outputs": [
    {
     "data": {
      "text/plain": [
       "Daily Return in USD                          1\n",
       "Log Price in USD                             0\n",
       "Volatility Daily Log Return in Percent 5D    0\n",
       "market/price_usd_close                       0\n",
       "market/price_drawdown_relative               0\n",
       "                                            ..\n",
       "addresses/min_10k_count                      0\n",
       "Daily Return in USD_ohneshift                0\n",
       "percentage_daily_return_bef_shift            0\n",
       "market/price_usd_close_cummax                0\n",
       "price_usd_close_percent_of_maxtilnow         0\n",
       "Length: 95, dtype: int64"
      ]
     },
     "execution_count": 26,
     "metadata": {},
     "output_type": "execute_result"
    }
   ],
   "source": [
    "# Check Empty Cells\n",
    "df_dataset1.isnull().sum()"
   ]
  },
  {
   "cell_type": "code",
   "execution_count": 27,
   "metadata": {
    "ExecuteTime": {
     "end_time": "2020-12-26T16:23:41.310345Z",
     "start_time": "2020-12-26T16:23:41.265466Z"
    }
   },
   "outputs": [
    {
     "data": {
      "text/html": [
       "<div>\n",
       "<style scoped>\n",
       "    .dataframe tbody tr th:only-of-type {\n",
       "        vertical-align: middle;\n",
       "    }\n",
       "\n",
       "    .dataframe tbody tr th {\n",
       "        vertical-align: top;\n",
       "    }\n",
       "\n",
       "    .dataframe thead th {\n",
       "        text-align: right;\n",
       "    }\n",
       "</style>\n",
       "<table border=\"1\" class=\"dataframe\">\n",
       "  <thead>\n",
       "    <tr style=\"text-align: right;\">\n",
       "      <th></th>\n",
       "      <th>Daily Return in USD</th>\n",
       "      <th>Log Price in USD</th>\n",
       "      <th>Volatility Daily Log Return in Percent 5D</th>\n",
       "      <th>market/price_usd_close</th>\n",
       "      <th>market/price_drawdown_relative</th>\n",
       "      <th>market/price_realized_usd</th>\n",
       "      <th>market/mvrv</th>\n",
       "      <th>mining/difficulty_latest</th>\n",
       "      <th>mining/hash_rate_mean</th>\n",
       "      <th>blockchain/block_count</th>\n",
       "      <th>...</th>\n",
       "      <th>addresses/min_point_1_count</th>\n",
       "      <th>addresses/min_1_count</th>\n",
       "      <th>addresses/min_10_count</th>\n",
       "      <th>addresses/min_100_count</th>\n",
       "      <th>addresses/min_1k_count</th>\n",
       "      <th>addresses/min_10k_count</th>\n",
       "      <th>Daily Return in USD_ohneshift</th>\n",
       "      <th>percentage_daily_return_bef_shift</th>\n",
       "      <th>market/price_usd_close_cummax</th>\n",
       "      <th>price_usd_close_percent_of_maxtilnow</th>\n",
       "    </tr>\n",
       "    <tr>\n",
       "      <th>Date</th>\n",
       "      <th></th>\n",
       "      <th></th>\n",
       "      <th></th>\n",
       "      <th></th>\n",
       "      <th></th>\n",
       "      <th></th>\n",
       "      <th></th>\n",
       "      <th></th>\n",
       "      <th></th>\n",
       "      <th></th>\n",
       "      <th></th>\n",
       "      <th></th>\n",
       "      <th></th>\n",
       "      <th></th>\n",
       "      <th></th>\n",
       "      <th></th>\n",
       "      <th></th>\n",
       "      <th></th>\n",
       "      <th></th>\n",
       "      <th></th>\n",
       "      <th></th>\n",
       "    </tr>\n",
       "  </thead>\n",
       "  <tbody>\n",
       "    <tr>\n",
       "      <th>2020-12-29</th>\n",
       "      <td>True</td>\n",
       "      <td>False</td>\n",
       "      <td>False</td>\n",
       "      <td>False</td>\n",
       "      <td>False</td>\n",
       "      <td>False</td>\n",
       "      <td>False</td>\n",
       "      <td>False</td>\n",
       "      <td>False</td>\n",
       "      <td>False</td>\n",
       "      <td>...</td>\n",
       "      <td>False</td>\n",
       "      <td>False</td>\n",
       "      <td>False</td>\n",
       "      <td>False</td>\n",
       "      <td>False</td>\n",
       "      <td>False</td>\n",
       "      <td>False</td>\n",
       "      <td>False</td>\n",
       "      <td>False</td>\n",
       "      <td>False</td>\n",
       "    </tr>\n",
       "    <tr>\n",
       "      <th>2020-12-28</th>\n",
       "      <td>False</td>\n",
       "      <td>False</td>\n",
       "      <td>False</td>\n",
       "      <td>False</td>\n",
       "      <td>False</td>\n",
       "      <td>False</td>\n",
       "      <td>False</td>\n",
       "      <td>False</td>\n",
       "      <td>False</td>\n",
       "      <td>False</td>\n",
       "      <td>...</td>\n",
       "      <td>False</td>\n",
       "      <td>False</td>\n",
       "      <td>False</td>\n",
       "      <td>False</td>\n",
       "      <td>False</td>\n",
       "      <td>False</td>\n",
       "      <td>False</td>\n",
       "      <td>False</td>\n",
       "      <td>False</td>\n",
       "      <td>False</td>\n",
       "    </tr>\n",
       "    <tr>\n",
       "      <th>2020-12-27</th>\n",
       "      <td>False</td>\n",
       "      <td>False</td>\n",
       "      <td>False</td>\n",
       "      <td>False</td>\n",
       "      <td>False</td>\n",
       "      <td>False</td>\n",
       "      <td>False</td>\n",
       "      <td>False</td>\n",
       "      <td>False</td>\n",
       "      <td>False</td>\n",
       "      <td>...</td>\n",
       "      <td>False</td>\n",
       "      <td>False</td>\n",
       "      <td>False</td>\n",
       "      <td>False</td>\n",
       "      <td>False</td>\n",
       "      <td>False</td>\n",
       "      <td>False</td>\n",
       "      <td>False</td>\n",
       "      <td>False</td>\n",
       "      <td>False</td>\n",
       "    </tr>\n",
       "    <tr>\n",
       "      <th>2020-12-26</th>\n",
       "      <td>False</td>\n",
       "      <td>False</td>\n",
       "      <td>False</td>\n",
       "      <td>False</td>\n",
       "      <td>False</td>\n",
       "      <td>False</td>\n",
       "      <td>False</td>\n",
       "      <td>False</td>\n",
       "      <td>False</td>\n",
       "      <td>False</td>\n",
       "      <td>...</td>\n",
       "      <td>False</td>\n",
       "      <td>False</td>\n",
       "      <td>False</td>\n",
       "      <td>False</td>\n",
       "      <td>False</td>\n",
       "      <td>False</td>\n",
       "      <td>False</td>\n",
       "      <td>False</td>\n",
       "      <td>False</td>\n",
       "      <td>False</td>\n",
       "    </tr>\n",
       "    <tr>\n",
       "      <th>2020-12-25</th>\n",
       "      <td>False</td>\n",
       "      <td>False</td>\n",
       "      <td>False</td>\n",
       "      <td>False</td>\n",
       "      <td>False</td>\n",
       "      <td>False</td>\n",
       "      <td>False</td>\n",
       "      <td>False</td>\n",
       "      <td>False</td>\n",
       "      <td>False</td>\n",
       "      <td>...</td>\n",
       "      <td>False</td>\n",
       "      <td>False</td>\n",
       "      <td>False</td>\n",
       "      <td>False</td>\n",
       "      <td>False</td>\n",
       "      <td>False</td>\n",
       "      <td>False</td>\n",
       "      <td>False</td>\n",
       "      <td>False</td>\n",
       "      <td>False</td>\n",
       "    </tr>\n",
       "    <tr>\n",
       "      <th>...</th>\n",
       "      <td>...</td>\n",
       "      <td>...</td>\n",
       "      <td>...</td>\n",
       "      <td>...</td>\n",
       "      <td>...</td>\n",
       "      <td>...</td>\n",
       "      <td>...</td>\n",
       "      <td>...</td>\n",
       "      <td>...</td>\n",
       "      <td>...</td>\n",
       "      <td>...</td>\n",
       "      <td>...</td>\n",
       "      <td>...</td>\n",
       "      <td>...</td>\n",
       "      <td>...</td>\n",
       "      <td>...</td>\n",
       "      <td>...</td>\n",
       "      <td>...</td>\n",
       "      <td>...</td>\n",
       "      <td>...</td>\n",
       "      <td>...</td>\n",
       "    </tr>\n",
       "    <tr>\n",
       "      <th>2011-07-20</th>\n",
       "      <td>False</td>\n",
       "      <td>False</td>\n",
       "      <td>False</td>\n",
       "      <td>False</td>\n",
       "      <td>False</td>\n",
       "      <td>False</td>\n",
       "      <td>False</td>\n",
       "      <td>False</td>\n",
       "      <td>False</td>\n",
       "      <td>False</td>\n",
       "      <td>...</td>\n",
       "      <td>False</td>\n",
       "      <td>False</td>\n",
       "      <td>False</td>\n",
       "      <td>False</td>\n",
       "      <td>False</td>\n",
       "      <td>False</td>\n",
       "      <td>False</td>\n",
       "      <td>False</td>\n",
       "      <td>False</td>\n",
       "      <td>False</td>\n",
       "    </tr>\n",
       "    <tr>\n",
       "      <th>2011-07-19</th>\n",
       "      <td>False</td>\n",
       "      <td>False</td>\n",
       "      <td>False</td>\n",
       "      <td>False</td>\n",
       "      <td>False</td>\n",
       "      <td>False</td>\n",
       "      <td>False</td>\n",
       "      <td>False</td>\n",
       "      <td>False</td>\n",
       "      <td>False</td>\n",
       "      <td>...</td>\n",
       "      <td>False</td>\n",
       "      <td>False</td>\n",
       "      <td>False</td>\n",
       "      <td>False</td>\n",
       "      <td>False</td>\n",
       "      <td>False</td>\n",
       "      <td>False</td>\n",
       "      <td>False</td>\n",
       "      <td>False</td>\n",
       "      <td>False</td>\n",
       "    </tr>\n",
       "    <tr>\n",
       "      <th>2011-07-18</th>\n",
       "      <td>False</td>\n",
       "      <td>False</td>\n",
       "      <td>False</td>\n",
       "      <td>False</td>\n",
       "      <td>False</td>\n",
       "      <td>False</td>\n",
       "      <td>False</td>\n",
       "      <td>False</td>\n",
       "      <td>False</td>\n",
       "      <td>False</td>\n",
       "      <td>...</td>\n",
       "      <td>False</td>\n",
       "      <td>False</td>\n",
       "      <td>False</td>\n",
       "      <td>False</td>\n",
       "      <td>False</td>\n",
       "      <td>False</td>\n",
       "      <td>False</td>\n",
       "      <td>False</td>\n",
       "      <td>False</td>\n",
       "      <td>False</td>\n",
       "    </tr>\n",
       "    <tr>\n",
       "      <th>2011-07-17</th>\n",
       "      <td>False</td>\n",
       "      <td>False</td>\n",
       "      <td>False</td>\n",
       "      <td>False</td>\n",
       "      <td>False</td>\n",
       "      <td>False</td>\n",
       "      <td>False</td>\n",
       "      <td>False</td>\n",
       "      <td>False</td>\n",
       "      <td>False</td>\n",
       "      <td>...</td>\n",
       "      <td>False</td>\n",
       "      <td>False</td>\n",
       "      <td>False</td>\n",
       "      <td>False</td>\n",
       "      <td>False</td>\n",
       "      <td>False</td>\n",
       "      <td>False</td>\n",
       "      <td>False</td>\n",
       "      <td>False</td>\n",
       "      <td>False</td>\n",
       "    </tr>\n",
       "    <tr>\n",
       "      <th>2011-07-16</th>\n",
       "      <td>False</td>\n",
       "      <td>False</td>\n",
       "      <td>False</td>\n",
       "      <td>False</td>\n",
       "      <td>False</td>\n",
       "      <td>False</td>\n",
       "      <td>False</td>\n",
       "      <td>False</td>\n",
       "      <td>False</td>\n",
       "      <td>False</td>\n",
       "      <td>...</td>\n",
       "      <td>False</td>\n",
       "      <td>False</td>\n",
       "      <td>False</td>\n",
       "      <td>False</td>\n",
       "      <td>False</td>\n",
       "      <td>False</td>\n",
       "      <td>False</td>\n",
       "      <td>False</td>\n",
       "      <td>False</td>\n",
       "      <td>False</td>\n",
       "    </tr>\n",
       "  </tbody>\n",
       "</table>\n",
       "<p>3455 rows × 95 columns</p>\n",
       "</div>"
      ],
      "text/plain": [
       "            Daily Return in USD  Log Price in USD  \\\n",
       "Date                                                \n",
       "2020-12-29                 True             False   \n",
       "2020-12-28                False             False   \n",
       "2020-12-27                False             False   \n",
       "2020-12-26                False             False   \n",
       "2020-12-25                False             False   \n",
       "...                         ...               ...   \n",
       "2011-07-20                False             False   \n",
       "2011-07-19                False             False   \n",
       "2011-07-18                False             False   \n",
       "2011-07-17                False             False   \n",
       "2011-07-16                False             False   \n",
       "\n",
       "            Volatility Daily Log Return in Percent 5D  market/price_usd_close  \\\n",
       "Date                                                                            \n",
       "2020-12-29                                      False                   False   \n",
       "2020-12-28                                      False                   False   \n",
       "2020-12-27                                      False                   False   \n",
       "2020-12-26                                      False                   False   \n",
       "2020-12-25                                      False                   False   \n",
       "...                                               ...                     ...   \n",
       "2011-07-20                                      False                   False   \n",
       "2011-07-19                                      False                   False   \n",
       "2011-07-18                                      False                   False   \n",
       "2011-07-17                                      False                   False   \n",
       "2011-07-16                                      False                   False   \n",
       "\n",
       "            market/price_drawdown_relative  market/price_realized_usd  \\\n",
       "Date                                                                    \n",
       "2020-12-29                           False                      False   \n",
       "2020-12-28                           False                      False   \n",
       "2020-12-27                           False                      False   \n",
       "2020-12-26                           False                      False   \n",
       "2020-12-25                           False                      False   \n",
       "...                                    ...                        ...   \n",
       "2011-07-20                           False                      False   \n",
       "2011-07-19                           False                      False   \n",
       "2011-07-18                           False                      False   \n",
       "2011-07-17                           False                      False   \n",
       "2011-07-16                           False                      False   \n",
       "\n",
       "            market/mvrv  mining/difficulty_latest  mining/hash_rate_mean  \\\n",
       "Date                                                                       \n",
       "2020-12-29        False                     False                  False   \n",
       "2020-12-28        False                     False                  False   \n",
       "2020-12-27        False                     False                  False   \n",
       "2020-12-26        False                     False                  False   \n",
       "2020-12-25        False                     False                  False   \n",
       "...                 ...                       ...                    ...   \n",
       "2011-07-20        False                     False                  False   \n",
       "2011-07-19        False                     False                  False   \n",
       "2011-07-18        False                     False                  False   \n",
       "2011-07-17        False                     False                  False   \n",
       "2011-07-16        False                     False                  False   \n",
       "\n",
       "            blockchain/block_count  ...  addresses/min_point_1_count  \\\n",
       "Date                                ...                                \n",
       "2020-12-29                   False  ...                        False   \n",
       "2020-12-28                   False  ...                        False   \n",
       "2020-12-27                   False  ...                        False   \n",
       "2020-12-26                   False  ...                        False   \n",
       "2020-12-25                   False  ...                        False   \n",
       "...                            ...  ...                          ...   \n",
       "2011-07-20                   False  ...                        False   \n",
       "2011-07-19                   False  ...                        False   \n",
       "2011-07-18                   False  ...                        False   \n",
       "2011-07-17                   False  ...                        False   \n",
       "2011-07-16                   False  ...                        False   \n",
       "\n",
       "            addresses/min_1_count  addresses/min_10_count  \\\n",
       "Date                                                        \n",
       "2020-12-29                  False                   False   \n",
       "2020-12-28                  False                   False   \n",
       "2020-12-27                  False                   False   \n",
       "2020-12-26                  False                   False   \n",
       "2020-12-25                  False                   False   \n",
       "...                           ...                     ...   \n",
       "2011-07-20                  False                   False   \n",
       "2011-07-19                  False                   False   \n",
       "2011-07-18                  False                   False   \n",
       "2011-07-17                  False                   False   \n",
       "2011-07-16                  False                   False   \n",
       "\n",
       "            addresses/min_100_count  addresses/min_1k_count  \\\n",
       "Date                                                          \n",
       "2020-12-29                    False                   False   \n",
       "2020-12-28                    False                   False   \n",
       "2020-12-27                    False                   False   \n",
       "2020-12-26                    False                   False   \n",
       "2020-12-25                    False                   False   \n",
       "...                             ...                     ...   \n",
       "2011-07-20                    False                   False   \n",
       "2011-07-19                    False                   False   \n",
       "2011-07-18                    False                   False   \n",
       "2011-07-17                    False                   False   \n",
       "2011-07-16                    False                   False   \n",
       "\n",
       "            addresses/min_10k_count  Daily Return in USD_ohneshift  \\\n",
       "Date                                                                 \n",
       "2020-12-29                    False                          False   \n",
       "2020-12-28                    False                          False   \n",
       "2020-12-27                    False                          False   \n",
       "2020-12-26                    False                          False   \n",
       "2020-12-25                    False                          False   \n",
       "...                             ...                            ...   \n",
       "2011-07-20                    False                          False   \n",
       "2011-07-19                    False                          False   \n",
       "2011-07-18                    False                          False   \n",
       "2011-07-17                    False                          False   \n",
       "2011-07-16                    False                          False   \n",
       "\n",
       "            percentage_daily_return_bef_shift  market/price_usd_close_cummax  \\\n",
       "Date                                                                           \n",
       "2020-12-29                              False                          False   \n",
       "2020-12-28                              False                          False   \n",
       "2020-12-27                              False                          False   \n",
       "2020-12-26                              False                          False   \n",
       "2020-12-25                              False                          False   \n",
       "...                                       ...                            ...   \n",
       "2011-07-20                              False                          False   \n",
       "2011-07-19                              False                          False   \n",
       "2011-07-18                              False                          False   \n",
       "2011-07-17                              False                          False   \n",
       "2011-07-16                              False                          False   \n",
       "\n",
       "            price_usd_close_percent_of_maxtilnow  \n",
       "Date                                              \n",
       "2020-12-29                                 False  \n",
       "2020-12-28                                 False  \n",
       "2020-12-27                                 False  \n",
       "2020-12-26                                 False  \n",
       "2020-12-25                                 False  \n",
       "...                                          ...  \n",
       "2011-07-20                                 False  \n",
       "2011-07-19                                 False  \n",
       "2011-07-18                                 False  \n",
       "2011-07-17                                 False  \n",
       "2011-07-16                                 False  \n",
       "\n",
       "[3455 rows x 95 columns]"
      ]
     },
     "execution_count": 27,
     "metadata": {},
     "output_type": "execute_result"
    }
   ],
   "source": [
    "# daily return: von gestern auf heute die preisveränderung deswegen shift später\n",
    "df_dataset1.isnull()"
   ]
  },
  {
   "cell_type": "code",
   "execution_count": 28,
   "metadata": {
    "ExecuteTime": {
     "end_time": "2020-12-26T16:23:41.325679Z",
     "start_time": "2020-12-26T16:23:41.311377Z"
    }
   },
   "outputs": [],
   "source": [
    "# Delete Empty Row\n",
    "df_dataset1 = df_dataset1.dropna()"
   ]
  },
  {
   "cell_type": "code",
   "execution_count": 29,
   "metadata": {
    "ExecuteTime": {
     "end_time": "2020-12-26T16:23:41.341298Z",
     "start_time": "2020-12-26T16:23:41.327353Z"
    }
   },
   "outputs": [
    {
     "data": {
      "text/plain": [
       "Daily Return in USD                          0\n",
       "Log Price in USD                             0\n",
       "Volatility Daily Log Return in Percent 5D    0\n",
       "market/price_usd_close                       0\n",
       "market/price_drawdown_relative               0\n",
       "                                            ..\n",
       "addresses/min_10k_count                      0\n",
       "Daily Return in USD_ohneshift                0\n",
       "percentage_daily_return_bef_shift            0\n",
       "market/price_usd_close_cummax                0\n",
       "price_usd_close_percent_of_maxtilnow         0\n",
       "Length: 95, dtype: int64"
      ]
     },
     "execution_count": 29,
     "metadata": {},
     "output_type": "execute_result"
    }
   ],
   "source": [
    "# Re-Check Empty Cells\n",
    "df_dataset1.isnull().sum()"
   ]
  },
  {
   "cell_type": "markdown",
   "metadata": {},
   "source": [
    "# Classification Setup"
   ]
  },
  {
   "cell_type": "markdown",
   "metadata": {},
   "source": [
    "## Create Data Set Copies for Trading Strategy"
   ]
  },
  {
   "cell_type": "code",
   "execution_count": 30,
   "metadata": {
    "ExecuteTime": {
     "end_time": "2020-12-26T16:23:41.357275Z",
     "start_time": "2020-12-26T16:23:41.342260Z"
    }
   },
   "outputs": [],
   "source": [
    "# Data Set Copy for Trading Extension\n",
    "df_dataset1_copy = df_dataset1.copy()\n"
   ]
  },
  {
   "cell_type": "markdown",
   "metadata": {},
   "source": [
    "## Categorization - Data Set I."
   ]
  },
  {
   "cell_type": "code",
   "execution_count": 31,
   "metadata": {
    "ExecuteTime": {
     "end_time": "2020-12-26T16:23:41.373367Z",
     "start_time": "2020-12-26T16:23:41.358217Z"
    }
   },
   "outputs": [],
   "source": [
    "# Categorization\n",
    "# Class 1 for all Returns >= 0 USD\n",
    "df_dataset1.loc[df_dataset1['Daily Return in USD'] >= 0, 'Class'] = 1\n",
    "# Class 0 for all Returns < 0 USD\n",
    "df_dataset1.loc[df_dataset1['Daily Return in USD'] < 0, 'Class'] = 0"
   ]
  },
  {
   "cell_type": "code",
   "execution_count": 32,
   "metadata": {
    "ExecuteTime": {
     "end_time": "2020-12-26T16:23:41.405093Z",
     "start_time": "2020-12-26T16:23:41.375172Z"
    }
   },
   "outputs": [
    {
     "data": {
      "text/html": [
       "<div>\n",
       "<style scoped>\n",
       "    .dataframe tbody tr th:only-of-type {\n",
       "        vertical-align: middle;\n",
       "    }\n",
       "\n",
       "    .dataframe tbody tr th {\n",
       "        vertical-align: top;\n",
       "    }\n",
       "\n",
       "    .dataframe thead th {\n",
       "        text-align: right;\n",
       "    }\n",
       "</style>\n",
       "<table border=\"1\" class=\"dataframe\">\n",
       "  <thead>\n",
       "    <tr style=\"text-align: right;\">\n",
       "      <th></th>\n",
       "      <th>Daily Return in USD</th>\n",
       "      <th>Log Price in USD</th>\n",
       "      <th>Volatility Daily Log Return in Percent 5D</th>\n",
       "      <th>market/price_usd_close</th>\n",
       "      <th>market/price_drawdown_relative</th>\n",
       "      <th>market/price_realized_usd</th>\n",
       "      <th>market/mvrv</th>\n",
       "      <th>mining/difficulty_latest</th>\n",
       "      <th>mining/hash_rate_mean</th>\n",
       "      <th>blockchain/block_count</th>\n",
       "      <th>...</th>\n",
       "      <th>addresses/min_1_count</th>\n",
       "      <th>addresses/min_10_count</th>\n",
       "      <th>addresses/min_100_count</th>\n",
       "      <th>addresses/min_1k_count</th>\n",
       "      <th>addresses/min_10k_count</th>\n",
       "      <th>Daily Return in USD_ohneshift</th>\n",
       "      <th>percentage_daily_return_bef_shift</th>\n",
       "      <th>market/price_usd_close_cummax</th>\n",
       "      <th>price_usd_close_percent_of_maxtilnow</th>\n",
       "      <th>Class</th>\n",
       "    </tr>\n",
       "    <tr>\n",
       "      <th>Date</th>\n",
       "      <th></th>\n",
       "      <th></th>\n",
       "      <th></th>\n",
       "      <th></th>\n",
       "      <th></th>\n",
       "      <th></th>\n",
       "      <th></th>\n",
       "      <th></th>\n",
       "      <th></th>\n",
       "      <th></th>\n",
       "      <th></th>\n",
       "      <th></th>\n",
       "      <th></th>\n",
       "      <th></th>\n",
       "      <th></th>\n",
       "      <th></th>\n",
       "      <th></th>\n",
       "      <th></th>\n",
       "      <th></th>\n",
       "      <th></th>\n",
       "      <th></th>\n",
       "    </tr>\n",
       "  </thead>\n",
       "  <tbody>\n",
       "    <tr>\n",
       "      <th>2020-12-28</th>\n",
       "      <td>226.04</td>\n",
       "      <td>10.21</td>\n",
       "      <td>2.59</td>\n",
       "      <td>27098.95</td>\n",
       "      <td>-0.04</td>\n",
       "      <td>8811.24</td>\n",
       "      <td>3.06</td>\n",
       "      <td>79884643861355300913152.00</td>\n",
       "      <td>148273901331699007488.00</td>\n",
       "      <td>160.00</td>\n",
       "      <td>...</td>\n",
       "      <td>825430.00</td>\n",
       "      <td>153690.00</td>\n",
       "      <td>16197.00</td>\n",
       "      <td>2225.00</td>\n",
       "      <td>98.00</td>\n",
       "      <td>710.80</td>\n",
       "      <td>0.03</td>\n",
       "      <td>27324.99</td>\n",
       "      <td>0.99</td>\n",
       "      <td>1.00</td>\n",
       "    </tr>\n",
       "    <tr>\n",
       "      <th>2020-12-27</th>\n",
       "      <td>710.80</td>\n",
       "      <td>10.18</td>\n",
       "      <td>3.46</td>\n",
       "      <td>26388.15</td>\n",
       "      <td>-0.07</td>\n",
       "      <td>8610.61</td>\n",
       "      <td>3.14</td>\n",
       "      <td>80187763369133704478720.00</td>\n",
       "      <td>136527494404802002944.00</td>\n",
       "      <td>148.00</td>\n",
       "      <td>...</td>\n",
       "      <td>825437.00</td>\n",
       "      <td>153305.00</td>\n",
       "      <td>16038.00</td>\n",
       "      <td>2225.00</td>\n",
       "      <td>102.00</td>\n",
       "      <td>-52.10</td>\n",
       "      <td>-0.00</td>\n",
       "      <td>27324.99</td>\n",
       "      <td>0.97</td>\n",
       "      <td>1.00</td>\n",
       "    </tr>\n",
       "    <tr>\n",
       "      <th>2020-12-26</th>\n",
       "      <td>-52.10</td>\n",
       "      <td>10.18</td>\n",
       "      <td>3.25</td>\n",
       "      <td>26440.25</td>\n",
       "      <td>-0.01</td>\n",
       "      <td>8511.24</td>\n",
       "      <td>2.97</td>\n",
       "      <td>80187763369133704478720.00</td>\n",
       "      <td>127352989515328995328.00</td>\n",
       "      <td>137.00</td>\n",
       "      <td>...</td>\n",
       "      <td>826721.00</td>\n",
       "      <td>153580.00</td>\n",
       "      <td>16104.00</td>\n",
       "      <td>2221.00</td>\n",
       "      <td>102.00</td>\n",
       "      <td>1752.04</td>\n",
       "      <td>0.07</td>\n",
       "      <td>27324.99</td>\n",
       "      <td>0.97</td>\n",
       "      <td>0.00</td>\n",
       "    </tr>\n",
       "    <tr>\n",
       "      <th>2020-12-25</th>\n",
       "      <td>1752.04</td>\n",
       "      <td>10.11</td>\n",
       "      <td>3.21</td>\n",
       "      <td>24688.21</td>\n",
       "      <td>-0.00</td>\n",
       "      <td>8467.17</td>\n",
       "      <td>2.84</td>\n",
       "      <td>80187763369133704478720.00</td>\n",
       "      <td>133658648082637996032.00</td>\n",
       "      <td>144.00</td>\n",
       "      <td>...</td>\n",
       "      <td>828971.00</td>\n",
       "      <td>153594.00</td>\n",
       "      <td>16068.00</td>\n",
       "      <td>2228.00</td>\n",
       "      <td>103.00</td>\n",
       "      <td>923.46</td>\n",
       "      <td>0.04</td>\n",
       "      <td>27324.99</td>\n",
       "      <td>0.90</td>\n",
       "      <td>1.00</td>\n",
       "    </tr>\n",
       "    <tr>\n",
       "      <th>2020-12-24</th>\n",
       "      <td>923.46</td>\n",
       "      <td>10.08</td>\n",
       "      <td>2.86</td>\n",
       "      <td>23764.75</td>\n",
       "      <td>-0.02</td>\n",
       "      <td>8448.07</td>\n",
       "      <td>2.75</td>\n",
       "      <td>80187763369133704478720.00</td>\n",
       "      <td>114954071251531005952.00</td>\n",
       "      <td>126.00</td>\n",
       "      <td>...</td>\n",
       "      <td>829222.00</td>\n",
       "      <td>153650.00</td>\n",
       "      <td>16089.00</td>\n",
       "      <td>2232.00</td>\n",
       "      <td>103.00</td>\n",
       "      <td>485.20</td>\n",
       "      <td>0.02</td>\n",
       "      <td>27324.99</td>\n",
       "      <td>0.87</td>\n",
       "      <td>1.00</td>\n",
       "    </tr>\n",
       "  </tbody>\n",
       "</table>\n",
       "<p>5 rows × 96 columns</p>\n",
       "</div>"
      ],
      "text/plain": [
       "            Daily Return in USD  Log Price in USD  \\\n",
       "Date                                                \n",
       "2020-12-28               226.04             10.21   \n",
       "2020-12-27               710.80             10.18   \n",
       "2020-12-26               -52.10             10.18   \n",
       "2020-12-25              1752.04             10.11   \n",
       "2020-12-24               923.46             10.08   \n",
       "\n",
       "            Volatility Daily Log Return in Percent 5D  market/price_usd_close  \\\n",
       "Date                                                                            \n",
       "2020-12-28                                       2.59                27098.95   \n",
       "2020-12-27                                       3.46                26388.15   \n",
       "2020-12-26                                       3.25                26440.25   \n",
       "2020-12-25                                       3.21                24688.21   \n",
       "2020-12-24                                       2.86                23764.75   \n",
       "\n",
       "            market/price_drawdown_relative  market/price_realized_usd  \\\n",
       "Date                                                                    \n",
       "2020-12-28                           -0.04                    8811.24   \n",
       "2020-12-27                           -0.07                    8610.61   \n",
       "2020-12-26                           -0.01                    8511.24   \n",
       "2020-12-25                           -0.00                    8467.17   \n",
       "2020-12-24                           -0.02                    8448.07   \n",
       "\n",
       "            market/mvrv   mining/difficulty_latest    mining/hash_rate_mean  \\\n",
       "Date                                                                          \n",
       "2020-12-28         3.06 79884643861355300913152.00 148273901331699007488.00   \n",
       "2020-12-27         3.14 80187763369133704478720.00 136527494404802002944.00   \n",
       "2020-12-26         2.97 80187763369133704478720.00 127352989515328995328.00   \n",
       "2020-12-25         2.84 80187763369133704478720.00 133658648082637996032.00   \n",
       "2020-12-24         2.75 80187763369133704478720.00 114954071251531005952.00   \n",
       "\n",
       "            blockchain/block_count  ...  addresses/min_1_count  \\\n",
       "Date                                ...                          \n",
       "2020-12-28                  160.00  ...              825430.00   \n",
       "2020-12-27                  148.00  ...              825437.00   \n",
       "2020-12-26                  137.00  ...              826721.00   \n",
       "2020-12-25                  144.00  ...              828971.00   \n",
       "2020-12-24                  126.00  ...              829222.00   \n",
       "\n",
       "            addresses/min_10_count  addresses/min_100_count  \\\n",
       "Date                                                          \n",
       "2020-12-28               153690.00                 16197.00   \n",
       "2020-12-27               153305.00                 16038.00   \n",
       "2020-12-26               153580.00                 16104.00   \n",
       "2020-12-25               153594.00                 16068.00   \n",
       "2020-12-24               153650.00                 16089.00   \n",
       "\n",
       "            addresses/min_1k_count  addresses/min_10k_count  \\\n",
       "Date                                                          \n",
       "2020-12-28                 2225.00                    98.00   \n",
       "2020-12-27                 2225.00                   102.00   \n",
       "2020-12-26                 2221.00                   102.00   \n",
       "2020-12-25                 2228.00                   103.00   \n",
       "2020-12-24                 2232.00                   103.00   \n",
       "\n",
       "            Daily Return in USD_ohneshift  percentage_daily_return_bef_shift  \\\n",
       "Date                                                                           \n",
       "2020-12-28                         710.80                               0.03   \n",
       "2020-12-27                         -52.10                              -0.00   \n",
       "2020-12-26                        1752.04                               0.07   \n",
       "2020-12-25                         923.46                               0.04   \n",
       "2020-12-24                         485.20                               0.02   \n",
       "\n",
       "            market/price_usd_close_cummax  \\\n",
       "Date                                        \n",
       "2020-12-28                       27324.99   \n",
       "2020-12-27                       27324.99   \n",
       "2020-12-26                       27324.99   \n",
       "2020-12-25                       27324.99   \n",
       "2020-12-24                       27324.99   \n",
       "\n",
       "            price_usd_close_percent_of_maxtilnow  Class  \n",
       "Date                                                     \n",
       "2020-12-28                                  0.99   1.00  \n",
       "2020-12-27                                  0.97   1.00  \n",
       "2020-12-26                                  0.97   0.00  \n",
       "2020-12-25                                  0.90   1.00  \n",
       "2020-12-24                                  0.87   1.00  \n",
       "\n",
       "[5 rows x 96 columns]"
      ]
     },
     "execution_count": 32,
     "metadata": {},
     "output_type": "execute_result"
    }
   ],
   "source": [
    "# Data Set Head\n",
    "df_dataset1.head()"
   ]
  },
  {
   "cell_type": "code",
   "execution_count": 33,
   "metadata": {
    "ExecuteTime": {
     "end_time": "2020-12-26T16:23:41.421050Z",
     "start_time": "2020-12-26T16:23:41.406122Z"
    }
   },
   "outputs": [
    {
     "name": "stdout",
     "output_type": "stream",
     "text": [
      "0 Daily Return in USD\n",
      "1 Log Price in USD\n",
      "2 Volatility Daily Log Return in Percent 5D\n",
      "3 market/price_usd_close\n",
      "4 market/price_drawdown_relative\n",
      "5 market/price_realized_usd\n",
      "6 market/mvrv\n",
      "7 mining/difficulty_latest\n",
      "8 mining/hash_rate_mean\n",
      "9 blockchain/block_count\n",
      "10 blockchain/block_interval_mean\n",
      "11 blockchain/block_size_sum\n",
      "12 fees/volume_sum\n",
      "13 fees/volume_mean\n",
      "14 fees/fee_ratio_multiple\n",
      "15 blockchain/utxo_created_count\n",
      "16 blockchain/utxo_spent_count\n",
      "17 blockchain/utxo_created_value_sum\n",
      "18 blockchain/utxo_spent_value_sum\n",
      "19 blockchain/utxo_profit_relative\n",
      "20 blockchain/utxo_profit_count\n",
      "21 blockchain/utxo_loss_count\n",
      "22 supply/current\n",
      "23 supply/profit_relative\n",
      "24 supply/profit_sum\n",
      "25 supply/loss_sum\n",
      "26 supply/active_more_1y_percent\n",
      "27 supply/active_more_2y_percent\n",
      "28 supply/active_more_3y_percent\n",
      "29 supply/active_more_5y_percent\n",
      "30 supply/active_24h\n",
      "31 supply/active_1d_1w\n",
      "32 supply/active_1w_1m\n",
      "33 supply/active_1m_3m\n",
      "34 supply/active_3m_6m\n",
      "35 supply/active_6m_12m\n",
      "36 supply/active_1y_2y\n",
      "37 supply/active_2y_3y\n",
      "38 supply/active_3y_5y\n",
      "39 supply/active_5y_7y\n",
      "40 supply/active_7y_10y\n",
      "41 supply/active_more_10y\n",
      "42 supply/issued\n",
      "43 supply/inflation_rate\n",
      "44 transactions/count\n",
      "45 transactions/size_sum\n",
      "46 transactions/transfers_volume_sum\n",
      "47 transactions/transfers_volume_adjusted_sum\n",
      "48 indicators/sopr_adjusted\n",
      "49 indicators/nvt\n",
      "50 indicators/velocity\n",
      "51 indicators/cdd\n",
      "52 indicators/reserve_risk\n",
      "53 indicators/average_dormancy\n",
      "54 indicators/liveliness\n",
      "55 indicators/asol\n",
      "56 indicators/sol_1h\n",
      "57 indicators/sol_1h_24h\n",
      "58 indicators/sol_1d_1w\n",
      "59 indicators/sol_1w_1m\n",
      "60 indicators/sol_1m_3m\n",
      "61 indicators/sol_3m_6m\n",
      "62 indicators/sol_6m_12m\n",
      "63 indicators/sol_1y_2y\n",
      "64 indicators/sol_2y_3y\n",
      "65 indicators/sol_3y_5y\n",
      "66 indicators/sol_5y_7y\n",
      "67 indicators/sol_7y_10y\n",
      "68 indicators/net_unrealized_profit_loss\n",
      "69 indicators/unrealized_profit\n",
      "70 indicators/unrealized_loss\n",
      "71 indicators/net_realized_profit_loss\n",
      "72 indicators/realized_profit\n",
      "73 indicators/realized_loss\n",
      "74 indicators/nupl_more_155\n",
      "75 indicators/nupl_less_155\n",
      "76 indicators/puell_multiple\n",
      "77 indicators/stock_to_flow_deflection\n",
      "78 indicators/difficulty_ribbon_compression\n",
      "79 addresses/active_count\n",
      "80 addresses/sending_count\n",
      "81 addresses/receiving_count\n",
      "82 addresses/new_non_zero_count\n",
      "83 addresses/non_zero_count\n",
      "84 addresses/min_point_zero_1_count\n",
      "85 addresses/min_point_1_count\n",
      "86 addresses/min_1_count\n",
      "87 addresses/min_10_count\n",
      "88 addresses/min_100_count\n",
      "89 addresses/min_1k_count\n",
      "90 addresses/min_10k_count\n",
      "91 Daily Return in USD_ohneshift\n",
      "92 percentage_daily_return_bef_shift\n",
      "93 market/price_usd_close_cummax\n",
      "94 price_usd_close_percent_of_maxtilnow\n",
      "95 Class\n"
     ]
    }
   ],
   "source": [
    "for x in range(len(df_dataset1.columns)):\n",
    "    print(x, df_dataset1.columns[x])"
   ]
  },
  {
   "cell_type": "code",
   "execution_count": 34,
   "metadata": {
    "ExecuteTime": {
     "end_time": "2020-12-26T16:23:41.437054Z",
     "start_time": "2020-12-26T16:23:41.423044Z"
    }
   },
   "outputs": [],
   "source": [
    "# Delete Original Target Column\n",
    "df_dataset1 = df_dataset1.drop(['Daily Return in USD'], axis=1)"
   ]
  },
  {
   "cell_type": "code",
   "execution_count": 35,
   "metadata": {
    "ExecuteTime": {
     "end_time": "2020-12-26T16:23:41.452964Z",
     "start_time": "2020-12-26T16:23:41.438038Z"
    }
   },
   "outputs": [
    {
     "data": {
      "text/plain": [
       "1.00    1877\n",
       "0.00    1577\n",
       "Name: Class, dtype: int64"
      ]
     },
     "execution_count": 35,
     "metadata": {},
     "output_type": "execute_result"
    }
   ],
   "source": [
    "# Check Class Balance\n",
    "df_dataset1['Class'].value_counts()"
   ]
  },
  {
   "cell_type": "code",
   "execution_count": 36,
   "metadata": {
    "ExecuteTime": {
     "end_time": "2020-12-26T16:23:41.468772Z",
     "start_time": "2020-12-26T16:23:41.454991Z"
    }
   },
   "outputs": [
    {
     "data": {
      "text/html": [
       "<div>\n",
       "<style scoped>\n",
       "    .dataframe tbody tr th:only-of-type {\n",
       "        vertical-align: middle;\n",
       "    }\n",
       "\n",
       "    .dataframe tbody tr th {\n",
       "        vertical-align: top;\n",
       "    }\n",
       "\n",
       "    .dataframe thead th {\n",
       "        text-align: right;\n",
       "    }\n",
       "</style>\n",
       "<table border=\"1\" class=\"dataframe\">\n",
       "  <thead>\n",
       "    <tr style=\"text-align: right;\">\n",
       "      <th></th>\n",
       "      <th>Log Price in USD</th>\n",
       "      <th>Volatility Daily Log Return in Percent 5D</th>\n",
       "      <th>market/price_usd_close</th>\n",
       "      <th>market/price_drawdown_relative</th>\n",
       "      <th>market/price_realized_usd</th>\n",
       "      <th>market/mvrv</th>\n",
       "      <th>mining/difficulty_latest</th>\n",
       "      <th>mining/hash_rate_mean</th>\n",
       "      <th>blockchain/block_count</th>\n",
       "      <th>blockchain/block_interval_mean</th>\n",
       "      <th>...</th>\n",
       "      <th>addresses/min_1_count</th>\n",
       "      <th>addresses/min_10_count</th>\n",
       "      <th>addresses/min_100_count</th>\n",
       "      <th>addresses/min_1k_count</th>\n",
       "      <th>addresses/min_10k_count</th>\n",
       "      <th>Daily Return in USD_ohneshift</th>\n",
       "      <th>percentage_daily_return_bef_shift</th>\n",
       "      <th>market/price_usd_close_cummax</th>\n",
       "      <th>price_usd_close_percent_of_maxtilnow</th>\n",
       "      <th>Class</th>\n",
       "    </tr>\n",
       "    <tr>\n",
       "      <th>Date</th>\n",
       "      <th></th>\n",
       "      <th></th>\n",
       "      <th></th>\n",
       "      <th></th>\n",
       "      <th></th>\n",
       "      <th></th>\n",
       "      <th></th>\n",
       "      <th></th>\n",
       "      <th></th>\n",
       "      <th></th>\n",
       "      <th></th>\n",
       "      <th></th>\n",
       "      <th></th>\n",
       "      <th></th>\n",
       "      <th></th>\n",
       "      <th></th>\n",
       "      <th></th>\n",
       "      <th></th>\n",
       "      <th></th>\n",
       "      <th></th>\n",
       "      <th></th>\n",
       "    </tr>\n",
       "  </thead>\n",
       "  <tbody>\n",
       "    <tr>\n",
       "      <th>2011-07-20</th>\n",
       "      <td>2.62</td>\n",
       "      <td>2.80</td>\n",
       "      <td>13.69</td>\n",
       "      <td>-0.57</td>\n",
       "      <td>6.97</td>\n",
       "      <td>1.98</td>\n",
       "      <td>7262342175053680.00</td>\n",
       "      <td>12525772772957.20</td>\n",
       "      <td>149.00</td>\n",
       "      <td>579.79</td>\n",
       "      <td>...</td>\n",
       "      <td>99090.00</td>\n",
       "      <td>64643.00</td>\n",
       "      <td>3799.00</td>\n",
       "      <td>598.00</td>\n",
       "      <td>63.00</td>\n",
       "      <td>-0.15</td>\n",
       "      <td>-0.01</td>\n",
       "      <td>27324.99</td>\n",
       "      <td>0.00</td>\n",
       "      <td>0.00</td>\n",
       "    </tr>\n",
       "    <tr>\n",
       "      <th>2011-07-19</th>\n",
       "      <td>2.63</td>\n",
       "      <td>2.83</td>\n",
       "      <td>13.84</td>\n",
       "      <td>-0.57</td>\n",
       "      <td>7.03</td>\n",
       "      <td>1.96</td>\n",
       "      <td>7262342175053680.00</td>\n",
       "      <td>11065053631354.40</td>\n",
       "      <td>142.00</td>\n",
       "      <td>615.92</td>\n",
       "      <td>...</td>\n",
       "      <td>98755.00</td>\n",
       "      <td>64598.00</td>\n",
       "      <td>3761.00</td>\n",
       "      <td>597.00</td>\n",
       "      <td>63.00</td>\n",
       "      <td>0.42</td>\n",
       "      <td>0.03</td>\n",
       "      <td>27324.99</td>\n",
       "      <td>0.00</td>\n",
       "      <td>0.00</td>\n",
       "    </tr>\n",
       "    <tr>\n",
       "      <th>2011-07-18</th>\n",
       "      <td>2.60</td>\n",
       "      <td>2.23</td>\n",
       "      <td>13.42</td>\n",
       "      <td>-0.58</td>\n",
       "      <td>7.01</td>\n",
       "      <td>1.86</td>\n",
       "      <td>6713154126051590.00</td>\n",
       "      <td>13355914725081.60</td>\n",
       "      <td>170.00</td>\n",
       "      <td>502.64</td>\n",
       "      <td>...</td>\n",
       "      <td>98120.00</td>\n",
       "      <td>64454.00</td>\n",
       "      <td>3746.00</td>\n",
       "      <td>600.00</td>\n",
       "      <td>63.00</td>\n",
       "      <td>0.26</td>\n",
       "      <td>0.02</td>\n",
       "      <td>27324.99</td>\n",
       "      <td>0.00</td>\n",
       "      <td>1.00</td>\n",
       "    </tr>\n",
       "    <tr>\n",
       "      <th>2011-07-17</th>\n",
       "      <td>2.58</td>\n",
       "      <td>1.70</td>\n",
       "      <td>13.17</td>\n",
       "      <td>-0.59</td>\n",
       "      <td>7.32</td>\n",
       "      <td>1.82</td>\n",
       "      <td>6713154126051590.00</td>\n",
       "      <td>13208752331351.50</td>\n",
       "      <td>170.00</td>\n",
       "      <td>508.24</td>\n",
       "      <td>...</td>\n",
       "      <td>99364.00</td>\n",
       "      <td>64511.00</td>\n",
       "      <td>3824.00</td>\n",
       "      <td>599.00</td>\n",
       "      <td>62.00</td>\n",
       "      <td>-0.55</td>\n",
       "      <td>-0.04</td>\n",
       "      <td>27324.99</td>\n",
       "      <td>0.00</td>\n",
       "      <td>1.00</td>\n",
       "    </tr>\n",
       "    <tr>\n",
       "      <th>2011-07-16</th>\n",
       "      <td>2.62</td>\n",
       "      <td>0.70</td>\n",
       "      <td>13.72</td>\n",
       "      <td>-0.57</td>\n",
       "      <td>7.31</td>\n",
       "      <td>1.87</td>\n",
       "      <td>6713154126051590.00</td>\n",
       "      <td>11654137109701.80</td>\n",
       "      <td>157.00</td>\n",
       "      <td>576.03</td>\n",
       "      <td>...</td>\n",
       "      <td>99005.00</td>\n",
       "      <td>64333.00</td>\n",
       "      <td>3805.00</td>\n",
       "      <td>598.00</td>\n",
       "      <td>62.00</td>\n",
       "      <td>-0.09</td>\n",
       "      <td>-0.01</td>\n",
       "      <td>27324.99</td>\n",
       "      <td>0.00</td>\n",
       "      <td>0.00</td>\n",
       "    </tr>\n",
       "  </tbody>\n",
       "</table>\n",
       "<p>5 rows × 95 columns</p>\n",
       "</div>"
      ],
      "text/plain": [
       "            Log Price in USD  Volatility Daily Log Return in Percent 5D  \\\n",
       "Date                                                                      \n",
       "2011-07-20              2.62                                       2.80   \n",
       "2011-07-19              2.63                                       2.83   \n",
       "2011-07-18              2.60                                       2.23   \n",
       "2011-07-17              2.58                                       1.70   \n",
       "2011-07-16              2.62                                       0.70   \n",
       "\n",
       "            market/price_usd_close  market/price_drawdown_relative  \\\n",
       "Date                                                                 \n",
       "2011-07-20                   13.69                           -0.57   \n",
       "2011-07-19                   13.84                           -0.57   \n",
       "2011-07-18                   13.42                           -0.58   \n",
       "2011-07-17                   13.17                           -0.59   \n",
       "2011-07-16                   13.72                           -0.57   \n",
       "\n",
       "            market/price_realized_usd  market/mvrv  mining/difficulty_latest  \\\n",
       "Date                                                                           \n",
       "2011-07-20                       6.97         1.98       7262342175053680.00   \n",
       "2011-07-19                       7.03         1.96       7262342175053680.00   \n",
       "2011-07-18                       7.01         1.86       6713154126051590.00   \n",
       "2011-07-17                       7.32         1.82       6713154126051590.00   \n",
       "2011-07-16                       7.31         1.87       6713154126051590.00   \n",
       "\n",
       "            mining/hash_rate_mean  blockchain/block_count  \\\n",
       "Date                                                        \n",
       "2011-07-20      12525772772957.20                  149.00   \n",
       "2011-07-19      11065053631354.40                  142.00   \n",
       "2011-07-18      13355914725081.60                  170.00   \n",
       "2011-07-17      13208752331351.50                  170.00   \n",
       "2011-07-16      11654137109701.80                  157.00   \n",
       "\n",
       "            blockchain/block_interval_mean  ...  addresses/min_1_count  \\\n",
       "Date                                        ...                          \n",
       "2011-07-20                          579.79  ...               99090.00   \n",
       "2011-07-19                          615.92  ...               98755.00   \n",
       "2011-07-18                          502.64  ...               98120.00   \n",
       "2011-07-17                          508.24  ...               99364.00   \n",
       "2011-07-16                          576.03  ...               99005.00   \n",
       "\n",
       "            addresses/min_10_count  addresses/min_100_count  \\\n",
       "Date                                                          \n",
       "2011-07-20                64643.00                  3799.00   \n",
       "2011-07-19                64598.00                  3761.00   \n",
       "2011-07-18                64454.00                  3746.00   \n",
       "2011-07-17                64511.00                  3824.00   \n",
       "2011-07-16                64333.00                  3805.00   \n",
       "\n",
       "            addresses/min_1k_count  addresses/min_10k_count  \\\n",
       "Date                                                          \n",
       "2011-07-20                  598.00                    63.00   \n",
       "2011-07-19                  597.00                    63.00   \n",
       "2011-07-18                  600.00                    63.00   \n",
       "2011-07-17                  599.00                    62.00   \n",
       "2011-07-16                  598.00                    62.00   \n",
       "\n",
       "            Daily Return in USD_ohneshift  percentage_daily_return_bef_shift  \\\n",
       "Date                                                                           \n",
       "2011-07-20                          -0.15                              -0.01   \n",
       "2011-07-19                           0.42                               0.03   \n",
       "2011-07-18                           0.26                               0.02   \n",
       "2011-07-17                          -0.55                              -0.04   \n",
       "2011-07-16                          -0.09                              -0.01   \n",
       "\n",
       "            market/price_usd_close_cummax  \\\n",
       "Date                                        \n",
       "2011-07-20                       27324.99   \n",
       "2011-07-19                       27324.99   \n",
       "2011-07-18                       27324.99   \n",
       "2011-07-17                       27324.99   \n",
       "2011-07-16                       27324.99   \n",
       "\n",
       "            price_usd_close_percent_of_maxtilnow  Class  \n",
       "Date                                                     \n",
       "2011-07-20                                  0.00   0.00  \n",
       "2011-07-19                                  0.00   0.00  \n",
       "2011-07-18                                  0.00   1.00  \n",
       "2011-07-17                                  0.00   1.00  \n",
       "2011-07-16                                  0.00   0.00  \n",
       "\n",
       "[5 rows x 95 columns]"
      ]
     },
     "execution_count": 36,
     "metadata": {},
     "output_type": "execute_result"
    }
   ],
   "source": [
    "# Data Set Head\n",
    "df_dataset1.tail()"
   ]
  },
  {
   "cell_type": "markdown",
   "metadata": {},
   "source": [
    "# Model Preparation - Data Set I."
   ]
  },
  {
   "cell_type": "markdown",
   "metadata": {},
   "source": [
    "## Train Test Split - Data Set I."
   ]
  },
  {
   "cell_type": "code",
   "execution_count": 37,
   "metadata": {
    "ExecuteTime": {
     "end_time": "2020-12-26T16:23:41.483918Z",
     "start_time": "2020-12-26T16:23:41.469920Z"
    }
   },
   "outputs": [],
   "source": [
    "# Setup of Predictors (Indpendent Variables) by Excluding Target Variable\n",
    "predictors = df_dataset1.drop(['Class'], axis=1).values.astype(np.float32)"
   ]
  },
  {
   "cell_type": "code",
   "execution_count": 38,
   "metadata": {
    "ExecuteTime": {
     "end_time": "2020-12-26T16:23:41.499875Z",
     "start_time": "2020-12-26T16:23:41.484879Z"
    }
   },
   "outputs": [],
   "source": [
    "# Setup of Categorized Target Variable\n",
    "target = df_dataset1['Class'].astype(np.float32)"
   ]
  },
  {
   "cell_type": "code",
   "execution_count": 39,
   "metadata": {
    "ExecuteTime": {
     "end_time": "2020-12-26T16:23:41.515218Z",
     "start_time": "2020-12-26T16:23:41.500837Z"
    }
   },
   "outputs": [
    {
     "data": {
      "text/plain": [
       "(3454, 94)"
      ]
     },
     "execution_count": 39,
     "metadata": {},
     "output_type": "execute_result"
    }
   ],
   "source": [
    "# Predictor Dimensions\n",
    "predictors.shape"
   ]
  },
  {
   "cell_type": "code",
   "execution_count": 40,
   "metadata": {
    "ExecuteTime": {
     "end_time": "2020-12-26T16:23:41.530931Z",
     "start_time": "2020-12-26T16:23:41.516826Z"
    }
   },
   "outputs": [
    {
     "name": "stdout",
     "output_type": "stream",
     "text": [
      "0 10.207251\n",
      "1 2.585531\n",
      "2 27098.953\n",
      "3 -0.042062074\n",
      "4 8811.238\n",
      "5 3.0611277\n",
      "6 7.988464e+22\n",
      "7 1.482739e+20\n",
      "8 160.0\n",
      "9 538.76874\n",
      "10 207461100.0\n",
      "11 99.54007\n",
      "12 0.00032232076\n",
      "13 11.0462055\n",
      "14 909933.0\n",
      "15 1004976.0\n",
      "16 1980852.0\n",
      "17 1979852.0\n",
      "18 0.9972283\n",
      "19 115322370.0\n",
      "20 320524.0\n",
      "21 18583894.0\n",
      "22 0.9814426\n",
      "23 18226294.0\n",
      "24 344629.03\n",
      "25 0.5925645\n",
      "26 0.47148004\n",
      "27 0.33926746\n",
      "28 0.21902561\n",
      "29 393035.72\n",
      "30 862224.6\n",
      "31 1507151.0\n",
      "32 2041095.8\n",
      "33 1200597.2\n",
      "34 1567603.8\n",
      "35 2250221.8\n",
      "36 2457024.2\n",
      "37 2234562.0\n",
      "38 785683.06\n",
      "39 1422165.8\n",
      "40 1862499.8\n",
      "41 1000.0\n",
      "42 0.01983427\n",
      "43 308823.0\n",
      "44 207395710.0\n",
      "45 1979752.5\n",
      "46 693120.06\n",
      "47 1.3083317\n",
      "48 26.81194\n",
      "49 0.037296817\n",
      "50 60422252.0\n",
      "51 0.004235297\n",
      "52 87.17429\n",
      "53 0.6087812\n",
      "54 65.37776\n",
      "55 193535.0\n",
      "56 291430.0\n",
      "57 188939.0\n",
      "58 150587.0\n",
      "59 67193.0\n",
      "60 46330.0\n",
      "61 28454.0\n",
      "62 17133.0\n",
      "63 12586.0\n",
      "64 6973.0\n",
      "65 1674.0\n",
      "66 142.0\n",
      "67 0.6716151\n",
      "68 0.6718125\n",
      "69 0.00019736575\n",
      "70 3746981400.0\n",
      "71 3832497400.0\n",
      "72 85516140.0\n",
      "73 0.79955703\n",
      "74 0.33367822\n",
      "75 2.1314616\n",
      "76 0.7877385\n",
      "77 0.018094564\n",
      "78 1144968.0\n",
      "79 737505.0\n",
      "80 717060.0\n",
      "81 510439.0\n",
      "82 33024572.0\n",
      "83 8472554.0\n",
      "84 3121921.0\n",
      "85 825430.0\n",
      "86 153690.0\n",
      "87 16197.0\n",
      "88 2225.0\n",
      "89 98.0\n",
      "90 710.8033\n",
      "91 0.026229918\n",
      "92 27324.988\n",
      "93 0.9917279\n"
     ]
    }
   ],
   "source": [
    "for x in range(len(predictors[0])):\n",
    "    print(x, predictors[0][x])"
   ]
  },
  {
   "cell_type": "code",
   "execution_count": 41,
   "metadata": {
    "ExecuteTime": {
     "end_time": "2020-12-26T16:23:41.546716Z",
     "start_time": "2020-12-26T16:23:41.532752Z"
    }
   },
   "outputs": [
    {
     "data": {
      "text/plain": [
       "(3454,)"
      ]
     },
     "execution_count": 41,
     "metadata": {},
     "output_type": "execute_result"
    }
   ],
   "source": [
    "# Target Dimensions\n",
    "target.shape"
   ]
  },
  {
   "cell_type": "code",
   "execution_count": 42,
   "metadata": {
    "ExecuteTime": {
     "end_time": "2020-12-26T16:23:41.562673Z",
     "start_time": "2020-12-26T16:23:41.547714Z"
    }
   },
   "outputs": [],
   "source": [
    "# Train-Test-Split Function to Create Training and Test Data Set\n",
    "X_train, X_test, y_train, y_test = train_test_split(predictors, target, test_size=0.3, random_state = 41, stratify=target)"
   ]
  },
  {
   "cell_type": "code",
   "execution_count": 43,
   "metadata": {
    "ExecuteTime": {
     "end_time": "2020-12-26T16:23:41.578665Z",
     "start_time": "2020-12-26T16:23:41.567665Z"
    }
   },
   "outputs": [
    {
     "data": {
      "text/plain": [
       "(2417, 94)"
      ]
     },
     "execution_count": 43,
     "metadata": {},
     "output_type": "execute_result"
    }
   ],
   "source": [
    "# Dimensions of Predictors for Training\n",
    "X_train.shape"
   ]
  },
  {
   "cell_type": "code",
   "execution_count": 44,
   "metadata": {
    "ExecuteTime": {
     "end_time": "2020-12-26T16:23:41.594622Z",
     "start_time": "2020-12-26T16:23:41.581624Z"
    }
   },
   "outputs": [
    {
     "data": {
      "text/plain": [
       "(2417,)"
      ]
     },
     "execution_count": 44,
     "metadata": {},
     "output_type": "execute_result"
    }
   ],
   "source": [
    "# Dimensions of Target for Training\n",
    "y_train.shape"
   ]
  },
  {
   "cell_type": "code",
   "execution_count": 45,
   "metadata": {
    "ExecuteTime": {
     "end_time": "2020-12-26T16:23:41.609620Z",
     "start_time": "2020-12-26T16:23:41.595585Z"
    }
   },
   "outputs": [
    {
     "data": {
      "text/plain": [
       "94"
      ]
     },
     "execution_count": 45,
     "metadata": {},
     "output_type": "execute_result"
    }
   ],
   "source": [
    "# Number of Predictors\n",
    "n_nodes = predictors.shape[1]\n",
    "n_nodes"
   ]
  },
  {
   "cell_type": "markdown",
   "metadata": {},
   "source": [
    "### Check of Class Balance"
   ]
  },
  {
   "cell_type": "code",
   "execution_count": 46,
   "metadata": {
    "ExecuteTime": {
     "end_time": "2020-12-26T16:23:41.625536Z",
     "start_time": "2020-12-26T16:23:41.610544Z"
    }
   },
   "outputs": [
    {
     "data": {
      "text/plain": [
       "1104"
      ]
     },
     "execution_count": 46,
     "metadata": {},
     "output_type": "execute_result"
    }
   ],
   "source": [
    "# Check Training Target of Class 0\n",
    "y_train[y_train==0].count()"
   ]
  },
  {
   "cell_type": "code",
   "execution_count": 47,
   "metadata": {
    "ExecuteTime": {
     "end_time": "2020-12-26T16:23:41.641498Z",
     "start_time": "2020-12-26T16:23:41.626534Z"
    }
   },
   "outputs": [
    {
     "data": {
      "text/plain": [
       "1313"
      ]
     },
     "execution_count": 47,
     "metadata": {},
     "output_type": "execute_result"
    }
   ],
   "source": [
    "# Check Training Target of Class 1\n",
    "y_train[y_train==1].count()"
   ]
  },
  {
   "cell_type": "code",
   "execution_count": 48,
   "metadata": {
    "ExecuteTime": {
     "end_time": "2020-12-26T16:23:41.657477Z",
     "start_time": "2020-12-26T16:23:41.642499Z"
    }
   },
   "outputs": [
    {
     "data": {
      "text/plain": [
       "473"
      ]
     },
     "execution_count": 48,
     "metadata": {},
     "output_type": "execute_result"
    }
   ],
   "source": [
    "# Check Test Target of Class 0\n",
    "y_test[y_test==0].count()"
   ]
  },
  {
   "cell_type": "code",
   "execution_count": 49,
   "metadata": {
    "ExecuteTime": {
     "end_time": "2020-12-26T16:23:41.673412Z",
     "start_time": "2020-12-26T16:23:41.658449Z"
    }
   },
   "outputs": [
    {
     "data": {
      "text/plain": [
       "564"
      ]
     },
     "execution_count": 49,
     "metadata": {},
     "output_type": "execute_result"
    }
   ],
   "source": [
    "# Check Test Target of Class 1\n",
    "y_test[y_test==1].count()"
   ]
  },
  {
   "cell_type": "markdown",
   "metadata": {},
   "source": [
    "# Feature Selection random forest"
   ]
  },
  {
   "cell_type": "code",
   "execution_count": 56,
   "metadata": {
    "ExecuteTime": {
     "end_time": "2020-12-26T16:24:04.102976Z",
     "start_time": "2020-12-26T16:23:41.675374Z"
    },
    "scrolled": true
   },
   "outputs": [
    {
     "ename": "AttributeError",
     "evalue": "'SelectFromModel' object has no attribute 'feature_importances_'",
     "output_type": "error",
     "traceback": [
      "\u001b[1;31m---------------------------------------------------------------------------\u001b[0m",
      "\u001b[1;31mAttributeError\u001b[0m                            Traceback (most recent call last)",
      "\u001b[1;32m<ipython-input-56-486e9d931b9f>\u001b[0m in \u001b[0;36m<module>\u001b[1;34m\u001b[0m\n\u001b[0;32m     24\u001b[0m         \u001b[0mrank_delete_list\u001b[0m\u001b[1;33m.\u001b[0m\u001b[0mappend\u001b[0m\u001b[1;33m(\u001b[0m\u001b[0mi\u001b[0m\u001b[1;33m)\u001b[0m\u001b[1;33m\u001b[0m\u001b[1;33m\u001b[0m\u001b[0m\n\u001b[0;32m     25\u001b[0m     \u001b[1;32melse\u001b[0m\u001b[1;33m:\u001b[0m\u001b[1;33m\u001b[0m\u001b[1;33m\u001b[0m\u001b[0m\n\u001b[1;32m---> 26\u001b[1;33m         \u001b[0mprint\u001b[0m\u001b[1;33m(\u001b[0m\u001b[1;34m'Column: %d, Selected %s, col %s'\u001b[0m \u001b[1;33m%\u001b[0m \u001b[1;33m(\u001b[0m\u001b[0mi\u001b[0m\u001b[1;33m,\u001b[0m \u001b[0msel\u001b[0m\u001b[1;33m.\u001b[0m\u001b[0mfeature_importances_\u001b[0m\u001b[1;33m(\u001b[0m\u001b[1;33m)\u001b[0m\u001b[1;33m[\u001b[0m\u001b[0mi\u001b[0m\u001b[1;33m]\u001b[0m\u001b[1;33m,\u001b[0m \u001b[0mdf_dataset1\u001b[0m\u001b[1;33m.\u001b[0m\u001b[0mcolumns\u001b[0m\u001b[1;33m[\u001b[0m\u001b[0mi\u001b[0m\u001b[1;33m]\u001b[0m \u001b[1;33m)\u001b[0m\u001b[1;33m)\u001b[0m\u001b[1;33m\u001b[0m\u001b[1;33m\u001b[0m\u001b[0m\n\u001b[0m\u001b[0;32m     27\u001b[0m         \u001b[0mdf_dataset1_columns_keep\u001b[0m\u001b[1;33m.\u001b[0m\u001b[0mappend\u001b[0m\u001b[1;33m(\u001b[0m\u001b[0mdf_dataset1\u001b[0m\u001b[1;33m.\u001b[0m\u001b[0mcolumns\u001b[0m\u001b[1;33m[\u001b[0m\u001b[0mi\u001b[0m\u001b[1;33m]\u001b[0m\u001b[1;33m)\u001b[0m\u001b[1;33m\u001b[0m\u001b[1;33m\u001b[0m\u001b[0m\n",
      "\u001b[1;31mAttributeError\u001b[0m: 'SelectFromModel' object has no attribute 'feature_importances_'"
     ]
    }
   ],
   "source": [
    "import pandas as pd\n",
    "from sklearn.feature_selection import SelectFromModel\n",
    "\n",
    "rank_delete_list = []\n",
    "df_dataset1_columns_keep = []\n",
    "\n",
    "\n",
    "# old values:\n",
    "# RandomForestClassifier(max_depth=4, min_samples_leaf=4, min_samples_split=3,\n",
    "#                        n_estimators=625)\n",
    "\n",
    "# define RFE\n",
    "sel = SelectFromModel(RandomForestClassifier(max_depth=10, max_features='sqrt', min_samples_leaf=2,\n",
    "                       min_samples_split=10, n_estimators=1000))\n",
    "\n",
    "# fit RFE\n",
    "sel.fit(X_train, y_train)\n",
    "# summarize all features\n",
    "sel.get_support()\n",
    "\n",
    "# summarize all features\n",
    "for i in range(X_train.shape[1]):\n",
    "    if sel.get_support()[i] == False:\n",
    "        rank_delete_list.append(i)\n",
    "    else:\n",
    "        print('Column: %d, Selected %s, col %s' % (i, sel.get_support()[i], df_dataset1.columns[i] ))\n",
    "        df_dataset1_columns_keep.append(df_dataset1.columns[i])\n",
    "        \n"
   ]
  },
  {
   "cell_type": "code",
   "execution_count": 59,
   "metadata": {},
   "outputs": [
    {
     "name": "stdout",
     "output_type": "stream",
     "text": [
      "('Volatility Daily Log Return in Percent 5D', 0.007358264158726701)\n",
      "('blockchain/block_count', 0.014953141021347432)\n",
      "('blockchain/block_interval_mean', 0.007400687038947601)\n",
      "('fees/volume_sum', 0.010484646686283997)\n",
      "('fees/volume_mean', 0.00788791232692742)\n",
      "('blockchain/utxo_spent_count', 0.009130971361315037)\n",
      "('blockchain/utxo_created_value_sum', 0.00307003393853067)\n",
      "('blockchain/utxo_spent_value_sum', 0.009744779990527702)\n",
      "('blockchain/utxo_profit_relative', 0.013267177273126316)\n",
      "('supply/profit_relative', 0.016118482859474457)\n",
      "('supply/loss_sum', 0.010021830302079197)\n",
      "('supply/active_24h', 0.011602097895061225)\n",
      "('supply/active_1d_1w', 0.011655299206650442)\n",
      "('supply/active_1w_1m', 0.01004398907854173)\n",
      "('supply/active_1m_3m', 0.010129163717034517)\n",
      "('supply/active_3m_6m', 0.01127705022637371)\n",
      "('supply/active_6m_12m', 0.016916775902856795)\n",
      "('supply/active_1y_2y', 0.015557849639904316)\n",
      "('supply/active_2y_3y', 0.011957011507609605)\n",
      "('supply/inflation_rate', 0.006958465853432788)\n",
      "('transactions/transfers_volume_sum', 0.010896236575846202)\n",
      "('transactions/transfers_volume_adjusted_sum', 0.00612666625545136)\n",
      "('indicators/sopr_adjusted', 0.012550546573266179)\n",
      "('indicators/nvt', 0.009384143498166856)\n",
      "('indicators/velocity', 0.013422407801062389)\n",
      "('indicators/cdd', 0.008622013412033901)\n",
      "('indicators/average_dormancy', 0.010216819080746137)\n",
      "('indicators/asol', 0.006582540899477533)\n",
      "('indicators/sol_1h_24h', 0.004957414756699392)\n",
      "('indicators/sol_1d_1w', 0.017914930992064225)\n",
      "('indicators/sol_1w_1m', 0.018981671229832405)\n",
      "('indicators/sol_1m_3m', 0.013194684756491075)\n",
      "('indicators/sol_3m_6m', 0.014490803153289504)\n",
      "('indicators/sol_6m_12m', 0.012978121366887954)\n",
      "('indicators/sol_1y_2y', 0.01189795670822727)\n",
      "('indicators/net_realized_profit_loss', 0.011057445970052433)\n",
      "('indicators/realized_loss', 0.010593343345300293)\n",
      "('indicators/nupl_more_155', 0.009004210620971361)\n",
      "('indicators/nupl_less_155', 0.007919864857301243)\n",
      "('indicators/puell_multiple', 0.003838253695222257)\n",
      "('indicators/stock_to_flow_deflection', 0.0015028404818397236)\n",
      "('indicators/difficulty_ribbon_compression', 0.009125459438182352)\n",
      "('addresses/receiving_count', 0.011698215712671581)\n",
      "('Daily Return in USD_ohneshift', 0.010029487360502604)\n",
      "('percentage_daily_return_bef_shift', 0.0098282423833636)\n"
     ]
    }
   ],
   "source": [
    "# define RFE\n",
    "rfsel = RandomForestClassifier(max_depth=10, max_features='sqrt', min_samples_leaf=2,\n",
    "                       min_samples_split=10, n_estimators=1000)\n",
    "\n",
    "# fit RFE\n",
    "rfsel.fit(X_train, y_train)\n",
    "\n",
    "# for i in range(X_train.shape[1]):\n",
    "# Print the name and gini importance of each feature\n",
    "for feature in zip(df_dataset1.columns, rfsel.feature_importances_):\n",
    "    print(feature)"
   ]
  },
  {
   "cell_type": "code",
   "execution_count": 52,
   "metadata": {
    "ExecuteTime": {
     "end_time": "2020-12-26T16:24:04.150082Z",
     "start_time": "2020-12-26T16:24:04.119164Z"
    },
    "scrolled": true
   },
   "outputs": [
    {
     "data": {
      "text/html": [
       "<div>\n",
       "<style scoped>\n",
       "    .dataframe tbody tr th:only-of-type {\n",
       "        vertical-align: middle;\n",
       "    }\n",
       "\n",
       "    .dataframe tbody tr th {\n",
       "        vertical-align: top;\n",
       "    }\n",
       "\n",
       "    .dataframe thead th {\n",
       "        text-align: right;\n",
       "    }\n",
       "</style>\n",
       "<table border=\"1\" class=\"dataframe\">\n",
       "  <thead>\n",
       "    <tr style=\"text-align: right;\">\n",
       "      <th></th>\n",
       "      <th>Volatility Daily Log Return in Percent 5D</th>\n",
       "      <th>blockchain/block_count</th>\n",
       "      <th>blockchain/block_interval_mean</th>\n",
       "      <th>fees/volume_sum</th>\n",
       "      <th>fees/volume_mean</th>\n",
       "      <th>blockchain/utxo_spent_count</th>\n",
       "      <th>blockchain/utxo_created_value_sum</th>\n",
       "      <th>blockchain/utxo_spent_value_sum</th>\n",
       "      <th>blockchain/utxo_profit_relative</th>\n",
       "      <th>supply/profit_relative</th>\n",
       "      <th>...</th>\n",
       "      <th>indicators/net_realized_profit_loss</th>\n",
       "      <th>indicators/realized_loss</th>\n",
       "      <th>indicators/nupl_more_155</th>\n",
       "      <th>indicators/nupl_less_155</th>\n",
       "      <th>indicators/puell_multiple</th>\n",
       "      <th>indicators/stock_to_flow_deflection</th>\n",
       "      <th>indicators/difficulty_ribbon_compression</th>\n",
       "      <th>addresses/receiving_count</th>\n",
       "      <th>Daily Return in USD_ohneshift</th>\n",
       "      <th>percentage_daily_return_bef_shift</th>\n",
       "    </tr>\n",
       "    <tr>\n",
       "      <th>Date</th>\n",
       "      <th></th>\n",
       "      <th></th>\n",
       "      <th></th>\n",
       "      <th></th>\n",
       "      <th></th>\n",
       "      <th></th>\n",
       "      <th></th>\n",
       "      <th></th>\n",
       "      <th></th>\n",
       "      <th></th>\n",
       "      <th></th>\n",
       "      <th></th>\n",
       "      <th></th>\n",
       "      <th></th>\n",
       "      <th></th>\n",
       "      <th></th>\n",
       "      <th></th>\n",
       "      <th></th>\n",
       "      <th></th>\n",
       "      <th></th>\n",
       "      <th></th>\n",
       "    </tr>\n",
       "  </thead>\n",
       "  <tbody>\n",
       "    <tr>\n",
       "      <th>2020-12-28</th>\n",
       "      <td>2.59</td>\n",
       "      <td>160.00</td>\n",
       "      <td>538.77</td>\n",
       "      <td>99.54</td>\n",
       "      <td>0.00</td>\n",
       "      <td>1004976.00</td>\n",
       "      <td>1980852.01</td>\n",
       "      <td>1979852.01</td>\n",
       "      <td>1.00</td>\n",
       "      <td>0.98</td>\n",
       "      <td>...</td>\n",
       "      <td>3746981340.25</td>\n",
       "      <td>85516146.36</td>\n",
       "      <td>0.80</td>\n",
       "      <td>0.33</td>\n",
       "      <td>2.13</td>\n",
       "      <td>0.79</td>\n",
       "      <td>0.02</td>\n",
       "      <td>717060.00</td>\n",
       "      <td>710.80</td>\n",
       "      <td>0.03</td>\n",
       "    </tr>\n",
       "    <tr>\n",
       "      <th>2020-12-27</th>\n",
       "      <td>3.46</td>\n",
       "      <td>148.00</td>\n",
       "      <td>587.34</td>\n",
       "      <td>91.99</td>\n",
       "      <td>0.00</td>\n",
       "      <td>928647.00</td>\n",
       "      <td>2514614.70</td>\n",
       "      <td>2513689.70</td>\n",
       "      <td>1.00</td>\n",
       "      <td>0.98</td>\n",
       "      <td>...</td>\n",
       "      <td>1865915462.34</td>\n",
       "      <td>126251897.85</td>\n",
       "      <td>0.79</td>\n",
       "      <td>0.33</td>\n",
       "      <td>1.99</td>\n",
       "      <td>0.77</td>\n",
       "      <td>0.02</td>\n",
       "      <td>696511.00</td>\n",
       "      <td>-52.10</td>\n",
       "      <td>-0.00</td>\n",
       "    </tr>\n",
       "    <tr>\n",
       "      <th>2020-12-26</th>\n",
       "      <td>3.25</td>\n",
       "      <td>137.00</td>\n",
       "      <td>629.65</td>\n",
       "      <td>69.64</td>\n",
       "      <td>0.00</td>\n",
       "      <td>863067.00</td>\n",
       "      <td>2013537.27</td>\n",
       "      <td>2012681.02</td>\n",
       "      <td>1.00</td>\n",
       "      <td>1.00</td>\n",
       "      <td>...</td>\n",
       "      <td>945580192.04</td>\n",
       "      <td>27106445.16</td>\n",
       "      <td>0.79</td>\n",
       "      <td>0.34</td>\n",
       "      <td>1.72</td>\n",
       "      <td>0.78</td>\n",
       "      <td>0.02</td>\n",
       "      <td>627828.00</td>\n",
       "      <td>1752.04</td>\n",
       "      <td>0.07</td>\n",
       "    </tr>\n",
       "    <tr>\n",
       "      <th>2020-12-25</th>\n",
       "      <td>3.21</td>\n",
       "      <td>144.00</td>\n",
       "      <td>599.94</td>\n",
       "      <td>92.48</td>\n",
       "      <td>0.00</td>\n",
       "      <td>901673.00</td>\n",
       "      <td>2043474.79</td>\n",
       "      <td>2042574.79</td>\n",
       "      <td>1.00</td>\n",
       "      <td>1.00</td>\n",
       "      <td>...</td>\n",
       "      <td>399359784.55</td>\n",
       "      <td>35018133.72</td>\n",
       "      <td>0.78</td>\n",
       "      <td>0.30</td>\n",
       "      <td>1.72</td>\n",
       "      <td>0.73</td>\n",
       "      <td>0.02</td>\n",
       "      <td>662961.00</td>\n",
       "      <td>923.46</td>\n",
       "      <td>0.04</td>\n",
       "    </tr>\n",
       "    <tr>\n",
       "      <th>2020-12-24</th>\n",
       "      <td>2.86</td>\n",
       "      <td>126.00</td>\n",
       "      <td>697.56</td>\n",
       "      <td>106.43</td>\n",
       "      <td>0.00</td>\n",
       "      <td>767276.00</td>\n",
       "      <td>2115162.46</td>\n",
       "      <td>2114374.96</td>\n",
       "      <td>1.00</td>\n",
       "      <td>0.99</td>\n",
       "      <td>...</td>\n",
       "      <td>1400309670.42</td>\n",
       "      <td>71022243.59</td>\n",
       "      <td>0.77</td>\n",
       "      <td>0.28</td>\n",
       "      <td>1.46</td>\n",
       "      <td>0.71</td>\n",
       "      <td>0.02</td>\n",
       "      <td>639266.00</td>\n",
       "      <td>485.20</td>\n",
       "      <td>0.02</td>\n",
       "    </tr>\n",
       "    <tr>\n",
       "      <th>...</th>\n",
       "      <td>...</td>\n",
       "      <td>...</td>\n",
       "      <td>...</td>\n",
       "      <td>...</td>\n",
       "      <td>...</td>\n",
       "      <td>...</td>\n",
       "      <td>...</td>\n",
       "      <td>...</td>\n",
       "      <td>...</td>\n",
       "      <td>...</td>\n",
       "      <td>...</td>\n",
       "      <td>...</td>\n",
       "      <td>...</td>\n",
       "      <td>...</td>\n",
       "      <td>...</td>\n",
       "      <td>...</td>\n",
       "      <td>...</td>\n",
       "      <td>...</td>\n",
       "      <td>...</td>\n",
       "      <td>...</td>\n",
       "      <td>...</td>\n",
       "    </tr>\n",
       "    <tr>\n",
       "      <th>2011-07-20</th>\n",
       "      <td>2.80</td>\n",
       "      <td>149.00</td>\n",
       "      <td>579.79</td>\n",
       "      <td>10.57</td>\n",
       "      <td>0.00</td>\n",
       "      <td>16084.00</td>\n",
       "      <td>550679.89</td>\n",
       "      <td>543229.89</td>\n",
       "      <td>0.36</td>\n",
       "      <td>0.71</td>\n",
       "      <td>...</td>\n",
       "      <td>-495648.09</td>\n",
       "      <td>527905.72</td>\n",
       "      <td>0.98</td>\n",
       "      <td>0.12</td>\n",
       "      <td>3.37</td>\n",
       "      <td>13.79</td>\n",
       "      <td>0.44</td>\n",
       "      <td>21633.00</td>\n",
       "      <td>-0.15</td>\n",
       "      <td>-0.01</td>\n",
       "    </tr>\n",
       "    <tr>\n",
       "      <th>2011-07-19</th>\n",
       "      <td>2.83</td>\n",
       "      <td>142.00</td>\n",
       "      <td>615.92</td>\n",
       "      <td>14.85</td>\n",
       "      <td>0.00</td>\n",
       "      <td>17934.00</td>\n",
       "      <td>2741633.68</td>\n",
       "      <td>2734533.68</td>\n",
       "      <td>0.40</td>\n",
       "      <td>0.72</td>\n",
       "      <td>...</td>\n",
       "      <td>99248.93</td>\n",
       "      <td>67421.84</td>\n",
       "      <td>0.98</td>\n",
       "      <td>0.12</td>\n",
       "      <td>3.24</td>\n",
       "      <td>14.02</td>\n",
       "      <td>0.45</td>\n",
       "      <td>21433.00</td>\n",
       "      <td>0.42</td>\n",
       "      <td>0.03</td>\n",
       "    </tr>\n",
       "    <tr>\n",
       "      <th>2011-07-18</th>\n",
       "      <td>2.23</td>\n",
       "      <td>170.00</td>\n",
       "      <td>502.64</td>\n",
       "      <td>12.94</td>\n",
       "      <td>0.00</td>\n",
       "      <td>20344.00</td>\n",
       "      <td>3310046.72</td>\n",
       "      <td>3301546.72</td>\n",
       "      <td>0.35</td>\n",
       "      <td>0.71</td>\n",
       "      <td>...</td>\n",
       "      <td>-2231028.14</td>\n",
       "      <td>2340511.13</td>\n",
       "      <td>0.98</td>\n",
       "      <td>0.12</td>\n",
       "      <td>3.69</td>\n",
       "      <td>14.01</td>\n",
       "      <td>0.45</td>\n",
       "      <td>21198.00</td>\n",
       "      <td>0.26</td>\n",
       "      <td>0.02</td>\n",
       "    </tr>\n",
       "    <tr>\n",
       "      <th>2011-07-17</th>\n",
       "      <td>1.70</td>\n",
       "      <td>170.00</td>\n",
       "      <td>508.24</td>\n",
       "      <td>12.13</td>\n",
       "      <td>0.00</td>\n",
       "      <td>15075.00</td>\n",
       "      <td>571072.18</td>\n",
       "      <td>562572.18</td>\n",
       "      <td>0.30</td>\n",
       "      <td>0.63</td>\n",
       "      <td>...</td>\n",
       "      <td>2866.48</td>\n",
       "      <td>66977.58</td>\n",
       "      <td>0.98</td>\n",
       "      <td>0.04</td>\n",
       "      <td>3.83</td>\n",
       "      <td>13.48</td>\n",
       "      <td>0.46</td>\n",
       "      <td>21180.00</td>\n",
       "      <td>-0.55</td>\n",
       "      <td>-0.04</td>\n",
       "    </tr>\n",
       "    <tr>\n",
       "      <th>2011-07-16</th>\n",
       "      <td>0.70</td>\n",
       "      <td>157.00</td>\n",
       "      <td>576.03</td>\n",
       "      <td>11.15</td>\n",
       "      <td>0.00</td>\n",
       "      <td>15273.00</td>\n",
       "      <td>1255893.35</td>\n",
       "      <td>1248043.35</td>\n",
       "      <td>0.33</td>\n",
       "      <td>0.65</td>\n",
       "      <td>...</td>\n",
       "      <td>-34789.63</td>\n",
       "      <td>51099.34</td>\n",
       "      <td>0.98</td>\n",
       "      <td>0.08</td>\n",
       "      <td>3.66</td>\n",
       "      <td>14.11</td>\n",
       "      <td>0.46</td>\n",
       "      <td>20543.00</td>\n",
       "      <td>-0.09</td>\n",
       "      <td>-0.01</td>\n",
       "    </tr>\n",
       "  </tbody>\n",
       "</table>\n",
       "<p>3454 rows × 45 columns</p>\n",
       "</div>"
      ],
      "text/plain": [
       "            Volatility Daily Log Return in Percent 5D  blockchain/block_count  \\\n",
       "Date                                                                            \n",
       "2020-12-28                                       2.59                  160.00   \n",
       "2020-12-27                                       3.46                  148.00   \n",
       "2020-12-26                                       3.25                  137.00   \n",
       "2020-12-25                                       3.21                  144.00   \n",
       "2020-12-24                                       2.86                  126.00   \n",
       "...                                               ...                     ...   \n",
       "2011-07-20                                       2.80                  149.00   \n",
       "2011-07-19                                       2.83                  142.00   \n",
       "2011-07-18                                       2.23                  170.00   \n",
       "2011-07-17                                       1.70                  170.00   \n",
       "2011-07-16                                       0.70                  157.00   \n",
       "\n",
       "            blockchain/block_interval_mean  fees/volume_sum  fees/volume_mean  \\\n",
       "Date                                                                            \n",
       "2020-12-28                          538.77            99.54              0.00   \n",
       "2020-12-27                          587.34            91.99              0.00   \n",
       "2020-12-26                          629.65            69.64              0.00   \n",
       "2020-12-25                          599.94            92.48              0.00   \n",
       "2020-12-24                          697.56           106.43              0.00   \n",
       "...                                    ...              ...               ...   \n",
       "2011-07-20                          579.79            10.57              0.00   \n",
       "2011-07-19                          615.92            14.85              0.00   \n",
       "2011-07-18                          502.64            12.94              0.00   \n",
       "2011-07-17                          508.24            12.13              0.00   \n",
       "2011-07-16                          576.03            11.15              0.00   \n",
       "\n",
       "            blockchain/utxo_spent_count  blockchain/utxo_created_value_sum  \\\n",
       "Date                                                                         \n",
       "2020-12-28                   1004976.00                         1980852.01   \n",
       "2020-12-27                    928647.00                         2514614.70   \n",
       "2020-12-26                    863067.00                         2013537.27   \n",
       "2020-12-25                    901673.00                         2043474.79   \n",
       "2020-12-24                    767276.00                         2115162.46   \n",
       "...                                 ...                                ...   \n",
       "2011-07-20                     16084.00                          550679.89   \n",
       "2011-07-19                     17934.00                         2741633.68   \n",
       "2011-07-18                     20344.00                         3310046.72   \n",
       "2011-07-17                     15075.00                          571072.18   \n",
       "2011-07-16                     15273.00                         1255893.35   \n",
       "\n",
       "            blockchain/utxo_spent_value_sum  blockchain/utxo_profit_relative  \\\n",
       "Date                                                                           \n",
       "2020-12-28                       1979852.01                             1.00   \n",
       "2020-12-27                       2513689.70                             1.00   \n",
       "2020-12-26                       2012681.02                             1.00   \n",
       "2020-12-25                       2042574.79                             1.00   \n",
       "2020-12-24                       2114374.96                             1.00   \n",
       "...                                     ...                              ...   \n",
       "2011-07-20                        543229.89                             0.36   \n",
       "2011-07-19                       2734533.68                             0.40   \n",
       "2011-07-18                       3301546.72                             0.35   \n",
       "2011-07-17                        562572.18                             0.30   \n",
       "2011-07-16                       1248043.35                             0.33   \n",
       "\n",
       "            supply/profit_relative  ...  indicators/net_realized_profit_loss  \\\n",
       "Date                                ...                                        \n",
       "2020-12-28                    0.98  ...                        3746981340.25   \n",
       "2020-12-27                    0.98  ...                        1865915462.34   \n",
       "2020-12-26                    1.00  ...                         945580192.04   \n",
       "2020-12-25                    1.00  ...                         399359784.55   \n",
       "2020-12-24                    0.99  ...                        1400309670.42   \n",
       "...                            ...  ...                                  ...   \n",
       "2011-07-20                    0.71  ...                           -495648.09   \n",
       "2011-07-19                    0.72  ...                             99248.93   \n",
       "2011-07-18                    0.71  ...                          -2231028.14   \n",
       "2011-07-17                    0.63  ...                              2866.48   \n",
       "2011-07-16                    0.65  ...                            -34789.63   \n",
       "\n",
       "            indicators/realized_loss  indicators/nupl_more_155  \\\n",
       "Date                                                             \n",
       "2020-12-28               85516146.36                      0.80   \n",
       "2020-12-27              126251897.85                      0.79   \n",
       "2020-12-26               27106445.16                      0.79   \n",
       "2020-12-25               35018133.72                      0.78   \n",
       "2020-12-24               71022243.59                      0.77   \n",
       "...                              ...                       ...   \n",
       "2011-07-20                 527905.72                      0.98   \n",
       "2011-07-19                  67421.84                      0.98   \n",
       "2011-07-18                2340511.13                      0.98   \n",
       "2011-07-17                  66977.58                      0.98   \n",
       "2011-07-16                  51099.34                      0.98   \n",
       "\n",
       "            indicators/nupl_less_155  indicators/puell_multiple  \\\n",
       "Date                                                              \n",
       "2020-12-28                      0.33                       2.13   \n",
       "2020-12-27                      0.33                       1.99   \n",
       "2020-12-26                      0.34                       1.72   \n",
       "2020-12-25                      0.30                       1.72   \n",
       "2020-12-24                      0.28                       1.46   \n",
       "...                              ...                        ...   \n",
       "2011-07-20                      0.12                       3.37   \n",
       "2011-07-19                      0.12                       3.24   \n",
       "2011-07-18                      0.12                       3.69   \n",
       "2011-07-17                      0.04                       3.83   \n",
       "2011-07-16                      0.08                       3.66   \n",
       "\n",
       "            indicators/stock_to_flow_deflection  \\\n",
       "Date                                              \n",
       "2020-12-28                                 0.79   \n",
       "2020-12-27                                 0.77   \n",
       "2020-12-26                                 0.78   \n",
       "2020-12-25                                 0.73   \n",
       "2020-12-24                                 0.71   \n",
       "...                                         ...   \n",
       "2011-07-20                                13.79   \n",
       "2011-07-19                                14.02   \n",
       "2011-07-18                                14.01   \n",
       "2011-07-17                                13.48   \n",
       "2011-07-16                                14.11   \n",
       "\n",
       "            indicators/difficulty_ribbon_compression  \\\n",
       "Date                                                   \n",
       "2020-12-28                                      0.02   \n",
       "2020-12-27                                      0.02   \n",
       "2020-12-26                                      0.02   \n",
       "2020-12-25                                      0.02   \n",
       "2020-12-24                                      0.02   \n",
       "...                                              ...   \n",
       "2011-07-20                                      0.44   \n",
       "2011-07-19                                      0.45   \n",
       "2011-07-18                                      0.45   \n",
       "2011-07-17                                      0.46   \n",
       "2011-07-16                                      0.46   \n",
       "\n",
       "            addresses/receiving_count  Daily Return in USD_ohneshift  \\\n",
       "Date                                                                   \n",
       "2020-12-28                  717060.00                         710.80   \n",
       "2020-12-27                  696511.00                         -52.10   \n",
       "2020-12-26                  627828.00                        1752.04   \n",
       "2020-12-25                  662961.00                         923.46   \n",
       "2020-12-24                  639266.00                         485.20   \n",
       "...                               ...                            ...   \n",
       "2011-07-20                   21633.00                          -0.15   \n",
       "2011-07-19                   21433.00                           0.42   \n",
       "2011-07-18                   21198.00                           0.26   \n",
       "2011-07-17                   21180.00                          -0.55   \n",
       "2011-07-16                   20543.00                          -0.09   \n",
       "\n",
       "            percentage_daily_return_bef_shift  \n",
       "Date                                           \n",
       "2020-12-28                               0.03  \n",
       "2020-12-27                              -0.00  \n",
       "2020-12-26                               0.07  \n",
       "2020-12-25                               0.04  \n",
       "2020-12-24                               0.02  \n",
       "...                                       ...  \n",
       "2011-07-20                              -0.01  \n",
       "2011-07-19                               0.03  \n",
       "2011-07-18                               0.02  \n",
       "2011-07-17                              -0.04  \n",
       "2011-07-16                              -0.01  \n",
       "\n",
       "[3454 rows x 45 columns]"
      ]
     },
     "execution_count": 52,
     "metadata": {},
     "output_type": "execute_result"
    }
   ],
   "source": [
    "df_dataset1=df_dataset1[df_dataset1_columns_keep]\n",
    "df_dataset1"
   ]
  },
  {
   "cell_type": "code",
   "execution_count": 53,
   "metadata": {},
   "outputs": [
    {
     "ename": "NameError",
     "evalue": "name 'asds' is not defined",
     "output_type": "error",
     "traceback": [
      "\u001b[1;31m---------------------------------------------------------------------------\u001b[0m",
      "\u001b[1;31mNameError\u001b[0m                                 Traceback (most recent call last)",
      "\u001b[1;32m<ipython-input-53-7b2b3a0d1693>\u001b[0m in \u001b[0;36m<module>\u001b[1;34m\u001b[0m\n\u001b[1;32m----> 1\u001b[1;33m \u001b[0masds\u001b[0m\u001b[1;33m\u001b[0m\u001b[1;33m\u001b[0m\u001b[0m\n\u001b[0m",
      "\u001b[1;31mNameError\u001b[0m: name 'asds' is not defined"
     ]
    }
   ],
   "source": [
    "asds"
   ]
  },
  {
   "cell_type": "code",
   "execution_count": null,
   "metadata": {
    "ExecuteTime": {
     "end_time": "2020-12-26T16:24:04.166077Z",
     "start_time": "2020-12-26T16:24:04.151079Z"
    }
   },
   "outputs": [],
   "source": [
    "len(rank_delete_list)"
   ]
  },
  {
   "cell_type": "code",
   "execution_count": null,
   "metadata": {
    "ExecuteTime": {
     "end_time": "2020-12-26T16:24:04.182031Z",
     "start_time": "2020-12-26T16:24:04.168035Z"
    }
   },
   "outputs": [],
   "source": [
    "len(df_dataset1.columns)"
   ]
  },
  {
   "cell_type": "code",
   "execution_count": null,
   "metadata": {
    "ExecuteTime": {
     "end_time": "2020-12-26T16:24:04.197986Z",
     "start_time": "2020-12-26T16:24:04.183991Z"
    }
   },
   "outputs": [],
   "source": [
    "predictors.shape"
   ]
  },
  {
   "cell_type": "code",
   "execution_count": null,
   "metadata": {
    "ExecuteTime": {
     "end_time": "2020-12-26T16:24:04.213943Z",
     "start_time": "2020-12-26T16:24:04.198951Z"
    }
   },
   "outputs": [],
   "source": [
    "predictors = np.delete(predictors, rank_delete_list, 1)"
   ]
  },
  {
   "cell_type": "code",
   "execution_count": null,
   "metadata": {
    "ExecuteTime": {
     "end_time": "2020-12-26T16:24:04.229906Z",
     "start_time": "2020-12-26T16:24:04.214908Z"
    }
   },
   "outputs": [],
   "source": [
    "predictors.shape"
   ]
  },
  {
   "cell_type": "markdown",
   "metadata": {},
   "source": [
    "# Visualize pred vs reality"
   ]
  },
  {
   "cell_type": "code",
   "execution_count": null,
   "metadata": {
    "ExecuteTime": {
     "end_time": "2020-12-26T16:24:04.245863Z",
     "start_time": "2020-12-26T16:24:04.230867Z"
    }
   },
   "outputs": [],
   "source": [
    "# Split Data into Training and Testing\n",
    "X_train, X_test, y_train, y_test = train_test_split(\n",
    "    predictors, target, test_size=0.3, stratify=target)\n",
    "\n",
    "# Amount of Columns\n",
    "n_nodes = predictors.shape[1]\n",
    "\n",
    "# Instantiation of MinMaxScaler\n",
    "norm_scaler = MinMaxScaler()\n",
    "\n",
    "# Training and Application of Feature Scaler on Training Data of Predictors\n",
    "X_train_scaled = pd.DataFrame(norm_scaler.fit_transform(X_train))\n",
    "\n",
    "# Application of Feature Scaler on Test Data of Predictors\n",
    "X_test_scaled = norm_scaler.transform(X_test)\n",
    "\n"
   ]
  },
  {
   "cell_type": "markdown",
   "metadata": {},
   "source": [
    "# Hyperparam tuning"
   ]
  },
  {
   "cell_type": "code",
   "execution_count": null,
   "metadata": {
    "ExecuteTime": {
     "end_time": "2020-12-26T16:24:04.261821Z",
     "start_time": "2020-12-26T16:24:04.247821Z"
    }
   },
   "outputs": [],
   "source": [
    "# from sklearn.model_selection import GridSearchCV\n",
    "# import warnings\n",
    "# warnings.filterwarnings('ignore')\n",
    "\n",
    "# LR = LogisticRegression()\n",
    "# LRparam_grid = {\n",
    "#     'C': [1], #1\n",
    "#      'penalty': ['l1'], #l2\n",
    "#      'max_iter': [1200, 12000],\n",
    "#      'solver': ['liblinear',] #,  'sag', 'saga' , 'lbfgs'  #'newton-cg'\n",
    "# }\n",
    "# LR_search = GridSearchCV(LR, param_grid=LRparam_grid, refit = True, verbose = 3, cv=5)\n",
    "\n",
    "# # fitting the model for grid search \n",
    "# LR_search.fit(X_train , y_train)\n",
    "# LR_search.best_params_\n",
    "# # summarize\n",
    "# print('Mean Accuracy: %.3f' % LR_search.best_score_)\n",
    "# print('Config: %s' % LR_search.best_params_)"
   ]
  },
  {
   "cell_type": "code",
   "execution_count": null,
   "metadata": {
    "ExecuteTime": {
     "end_time": "2020-12-26T16:24:04.276997Z",
     "start_time": "2020-12-26T16:24:04.262782Z"
    }
   },
   "outputs": [],
   "source": [
    "# from sklearn.model_selection import GridSearchCV\n",
    "# import warnings\n",
    "# warnings.filterwarnings('ignore')\n",
    "\n",
    "# LR = LogisticRegression()\n",
    "# LRparam_grid = {\n",
    "#     'C': [1], #1\n",
    "#      'penalty': ['l1'], #l2\n",
    "#      'max_iter': [1100],\n",
    "#      'solver': ['liblinear',] #,  'sag', 'saga' , 'lbfgs'  #'newton-cg'\n",
    "# }\n",
    "# LR_search = GridSearchCV(LR, param_grid=LRparam_grid, refit = True, verbose = 3, cv=5)\n",
    "\n",
    "# # fitting the model for grid search \n",
    "# LR_search.fit(X_train , y_train)\n",
    "# LR_search.best_params_\n",
    "# # summarize\n",
    "# print('Mean Accuracy: %.3f' % LR_search.best_score_)\n",
    "# print('Config: %s' % LR_search.best_params_)"
   ]
  },
  {
   "cell_type": "code",
   "execution_count": null,
   "metadata": {},
   "outputs": [],
   "source": []
  },
  {
   "cell_type": "code",
   "execution_count": null,
   "metadata": {
    "ExecuteTime": {
     "end_time": "2020-12-26T16:24:04.340518Z",
     "start_time": "2020-12-26T16:24:04.278001Z"
    }
   },
   "outputs": [],
   "source": [
    "# Instantiate Classifier Logistic Regression\n",
    "lreg = LogisticRegression(max_iter=1200)\n",
    "\n",
    "# Train Classifier\n",
    "lreg.fit(X_train_scaled, y_train)\n",
    "\n",
    "# Prediction of Classes\n",
    "y_pred = lreg.predict(X_test_scaled)\n",
    "\n",
    "# Display Confusion Matrix and Classification Report\n",
    "print(confusion_matrix(y_test, y_pred))\n",
    "#     print(classification_report(y_test, y_pred))\n",
    "\n",
    "# Prediction of Probabilities\n",
    "y_pred_prob = lreg.predict_proba(X_test_scaled)[:, 1]\n",
    "\n",
    "# Create Data Frame of Actual Values - y_test\n",
    "df_y_test = pd.DataFrame(y_test)\n",
    "\n",
    "# Add Predicted Probabilities to Data Frame\n",
    "df_y_test[\"y_pred_prob\"] = y_pred_prob\n",
    "\n",
    "# Add Predicted Classes (0 or 1) to Data Frame to Cross-Check Predicted Probabilities\n",
    "df_y_test[\"y_pred\"] = y_pred"
   ]
  },
  {
   "cell_type": "code",
   "execution_count": null,
   "metadata": {},
   "outputs": [],
   "source": []
  },
  {
   "cell_type": "code",
   "execution_count": null,
   "metadata": {
    "ExecuteTime": {
     "end_time": "2020-12-26T16:24:04.355798Z",
     "start_time": "2020-12-26T16:24:04.341827Z"
    }
   },
   "outputs": [],
   "source": [
    "df_y_test=df_y_test.sort_index()\n",
    "df_y_test"
   ]
  },
  {
   "cell_type": "code",
   "execution_count": null,
   "metadata": {
    "ExecuteTime": {
     "end_time": "2020-12-26T16:24:04.371744Z",
     "start_time": "2020-12-26T16:24:04.356784Z"
    }
   },
   "outputs": [],
   "source": [
    "df_y_test[df_y_test['Class']!=df_y_test['y_pred']]"
   ]
  },
  {
   "cell_type": "code",
   "execution_count": null,
   "metadata": {
    "ExecuteTime": {
     "end_time": "2020-12-26T16:24:04.387701Z",
     "start_time": "2020-12-26T16:24:04.372844Z"
    }
   },
   "outputs": [],
   "source": [
    "df_y_test[df_y_test['Class']==df_y_test['y_pred']]"
   ]
  },
  {
   "cell_type": "code",
   "execution_count": null,
   "metadata": {
    "ExecuteTime": {
     "end_time": "2020-12-26T16:24:04.466491Z",
     "start_time": "2020-12-26T16:24:04.388698Z"
    }
   },
   "outputs": [],
   "source": [
    "import plotly.graph_objects as go\n",
    "\n",
    "# Create traces\n",
    "fig = go.Figure()\n",
    "fig.add_trace(go.Scatter(x=df_y_test.index, y=df_y_test['Class'],\n",
    "                    mode='lines+markers',\n",
    "                    name='Class - reality'))\n",
    "fig.add_trace(go.Scatter(x=df_y_test.index, y=df_y_test['y_pred_prob'],\n",
    "                    mode='lines+markers',\n",
    "                    name='y_pred'))\n",
    "fig.show()\n"
   ]
  },
  {
   "cell_type": "code",
   "execution_count": null,
   "metadata": {
    "ExecuteTime": {
     "end_time": "2020-12-26T16:24:04.481452Z",
     "start_time": "2020-12-26T16:24:04.468486Z"
    }
   },
   "outputs": [],
   "source": [
    "# Select Actual Daily Returns in USD from the Data Set Copy\n",
    "df_dataset1_copy_dailyreturns = df_dataset1_copy[['Daily Return in USD']]\n",
    "\n",
    "# # Merge Predictions and Daily Returns Data Frame on the Column \"Date\"\n",
    "# df_y_test_withdailyreturns = pd.merge(\n",
    "#     df_y_test, df_dataset1_copy_dailyreturns, on='Date')\n",
    "\n",
    "# df_dataset1_copy_percentage = df_dataset1_copy[['percentage_daily_return']]\n",
    "# df_y_test_withdailyreturns = pd.merge(\n",
    "#     df_y_test_withdailyreturns, df_dataset1_copy_percentage, on='Date')\n",
    "\n",
    "# # Add Bitcoin Price in USD\n",
    "# df_y_test_withdailyreturns = pd.merge(\n",
    "#     df_y_test_withdailyreturns, df_dataset1['market/price_usd_close'], on='Date')\n",
    "\n",
    "# df_y_test_withdailyreturns['y_pred_prob_bereinigt'] = np.where(\n",
    "#     df_y_test_withdailyreturns['y_pred_prob'] < 0.5, 1-df_y_test_withdailyreturns['y_pred_prob'], df_y_test_withdailyreturns['y_pred_prob'])\n",
    "\n",
    "# df_y_test_withdailyreturns[\"Einsatz\"] = einsatz * \\\n",
    "#     df_y_test_withdailyreturns[\"y_pred_prob_bereinigt\"]  # **2\n"
   ]
  },
  {
   "cell_type": "code",
   "execution_count": null,
   "metadata": {},
   "outputs": [],
   "source": []
  },
  {
   "cell_type": "code",
   "execution_count": null,
   "metadata": {},
   "outputs": [],
   "source": []
  },
  {
   "cell_type": "markdown",
   "metadata": {},
   "source": [
    "## Feature Scaling - Data Set I."
   ]
  },
  {
   "cell_type": "code",
   "execution_count": null,
   "metadata": {
    "ExecuteTime": {
     "end_time": "2020-12-26T16:24:04.497443Z",
     "start_time": "2020-12-26T16:24:04.482449Z"
    }
   },
   "outputs": [],
   "source": [
    "# Instantiation of MinMaxScaler and StandardSacler\n",
    "norm_scaler = MinMaxScaler()\n",
    "#std_scaler = StandardScaler()"
   ]
  },
  {
   "cell_type": "code",
   "execution_count": null,
   "metadata": {
    "ExecuteTime": {
     "end_time": "2020-12-26T16:24:04.513018Z",
     "start_time": "2020-12-26T16:24:04.499403Z"
    }
   },
   "outputs": [],
   "source": [
    "# Scaler Training and Transformation of Training Set\n",
    "X_train_scaled = pd.DataFrame(norm_scaler.fit_transform(X_train))"
   ]
  },
  {
   "cell_type": "code",
   "execution_count": null,
   "metadata": {
    "ExecuteTime": {
     "end_time": "2020-12-26T16:24:04.528502Z",
     "start_time": "2020-12-26T16:24:04.515360Z"
    }
   },
   "outputs": [],
   "source": [
    "# Scaler Transformation of Test Set\n",
    "X_test_scaled = norm_scaler.transform(X_test)"
   ]
  },
  {
   "cell_type": "code",
   "execution_count": null,
   "metadata": {
    "ExecuteTime": {
     "end_time": "2020-12-26T16:24:04.544466Z",
     "start_time": "2020-12-26T16:24:04.530352Z"
    }
   },
   "outputs": [],
   "source": [
    "# Scaled Test Features\n",
    "X_test_scaled"
   ]
  },
  {
   "cell_type": "code",
   "execution_count": null,
   "metadata": {
    "ExecuteTime": {
     "end_time": "2020-12-26T16:24:04.560242Z",
     "start_time": "2020-12-26T16:24:04.545282Z"
    }
   },
   "outputs": [],
   "source": [
    "# Scaler Transformation of Entire Training Set - Input for Cross-Validation\n",
    "predictors_scaled = norm_scaler.transform(predictors)"
   ]
  },
  {
   "cell_type": "markdown",
   "metadata": {},
   "source": [
    "# Classification Models - Data Set I."
   ]
  },
  {
   "cell_type": "code",
   "execution_count": null,
   "metadata": {
    "ExecuteTime": {
     "end_time": "2020-12-26T16:24:04.576287Z",
     "start_time": "2020-12-26T16:24:04.561240Z"
    }
   },
   "outputs": [],
   "source": [
    "# Function To Show Accuracy Mean and Accuracy Standard Deviation\n",
    "def show_scores(scores):\n",
    "    # Scores Series\n",
    "    print('Scores:', scores)\n",
    "    # Score Mean\n",
    "    print('Mean:', np.mean(scores))\n",
    "    # Score Standard Deviation\n",
    "    print('Standard Deviation:', np.std(scores))"
   ]
  },
  {
   "cell_type": "code",
   "execution_count": null,
   "metadata": {},
   "outputs": [],
   "source": []
  },
  {
   "cell_type": "code",
   "execution_count": null,
   "metadata": {},
   "outputs": [],
   "source": []
  },
  {
   "cell_type": "code",
   "execution_count": null,
   "metadata": {},
   "outputs": [],
   "source": []
  },
  {
   "cell_type": "code",
   "execution_count": null,
   "metadata": {},
   "outputs": [],
   "source": []
  },
  {
   "cell_type": "markdown",
   "metadata": {},
   "source": [
    "## XGBoost - Data Set I."
   ]
  },
  {
   "cell_type": "code",
   "execution_count": null,
   "metadata": {
    "ExecuteTime": {
     "end_time": "2020-12-26T16:26:20.238155Z",
     "start_time": "2020-12-26T16:25:51.431500Z"
    }
   },
   "outputs": [],
   "source": [
    "# Test Accuracy\n",
    "from sklearn.metrics import accuracy_score\n",
    "from xgboost import XGBClassifier\n",
    "\n",
    "# Instantiate Classifier - LogisticRegression\n",
    "model = XGBClassifier(base_score=0.5, booster='gbtree', colsample_bylevel=1,\n",
    "              colsample_bynode=1, colsample_bytree=0.58, gamma=2.5,\n",
    "              learning_rate=0.12049999999999998, max_delta_step=0, max_depth=2,\n",
    "              min_child_weight=0, missing=None, n_estimators=48, n_jobs=1,\n",
    "              nthread=None, objective='reg:squarederror', random_state=0,\n",
    "              reg_alpha=0, reg_lambda=1, scale_pos_weight=1, seed=None,\n",
    "              silent=None, subsample=0.8999999999999999, verbosity=1)\n",
    "\n",
    "accuarylist = []\n",
    "\n",
    "for x in range(30):\n",
    "    # Split Data into Training and Testing\n",
    "    X_train, X_test, y_train, y_test = train_test_split(\n",
    "        predictors, target, test_size=0.3, stratify=target)\n",
    "    \n",
    "    # Scaler Training and Transformation of Training Set\n",
    "    #X_train_scaled = pd.DataFrame(norm_scaler.fit_transform(X_train))\n",
    "    #X_test_scaled = pd.DataFrame(norm_scaler.fit_transform(X_test))\n",
    "    \n",
    "    # Train Classifier\n",
    "    model.fit(X_train, y_train)\n",
    "    y_pred = model.predict(X_test)\n",
    "    predictions = [round(value) for value in y_pred]\n",
    "    accuracy = accuracy_score(y_test, predictions)\n",
    "    accuarylist.append(accuracy * 100.0)\n",
    "\n",
    "meanacc = np.mean(accuarylist)"
   ]
  },
  {
   "cell_type": "code",
   "execution_count": null,
   "metadata": {
    "ExecuteTime": {
     "end_time": "2020-12-26T16:26:20.253866Z",
     "start_time": "2020-12-26T16:26:20.238906Z"
    }
   },
   "outputs": [],
   "source": [
    "# Prediction of Classes\n",
    "y_pred = model.predict(X_test)"
   ]
  },
  {
   "cell_type": "code",
   "execution_count": null,
   "metadata": {
    "ExecuteTime": {
     "end_time": "2020-12-26T16:26:20.269853Z",
     "start_time": "2020-12-26T16:26:20.254861Z"
    }
   },
   "outputs": [],
   "source": [
    "# Prediction of Probabilities\n",
    "y_pred_prob = model.predict_proba(X_test)[:,1]"
   ]
  },
  {
   "cell_type": "code",
   "execution_count": null,
   "metadata": {
    "ExecuteTime": {
     "end_time": "2020-12-26T16:26:20.285814Z",
     "start_time": "2020-12-26T16:26:20.270850Z"
    }
   },
   "outputs": [],
   "source": [
    "# Select Predicted Probabilities\n",
    "y_pred_prob[1:11]"
   ]
  },
  {
   "cell_type": "code",
   "execution_count": null,
   "metadata": {
    "ExecuteTime": {
     "end_time": "2020-12-26T16:26:20.301737Z",
     "start_time": "2020-12-26T16:26:20.286799Z"
    }
   },
   "outputs": [],
   "source": [
    "# Select Actual Classes\n",
    "np.array(y_test[1:11])"
   ]
  },
  {
   "cell_type": "code",
   "execution_count": null,
   "metadata": {
    "ExecuteTime": {
     "end_time": "2020-12-26T16:26:20.333652Z",
     "start_time": "2020-12-26T16:26:20.303732Z"
    }
   },
   "outputs": [],
   "source": [
    "# Train Accuracy\n",
    "model.score(X_train, y_train)"
   ]
  },
  {
   "cell_type": "code",
   "execution_count": null,
   "metadata": {
    "ExecuteTime": {
     "end_time": "2020-12-26T16:26:20.427401Z",
     "start_time": "2020-12-26T16:26:20.335732Z"
    },
    "scrolled": true
   },
   "outputs": [],
   "source": [
    "# Test Accuracy\n",
    "for x in range(10):\n",
    "    print(model.score(X_test, y_test))"
   ]
  },
  {
   "cell_type": "code",
   "execution_count": null,
   "metadata": {
    "ExecuteTime": {
     "end_time": "2020-12-26T16:26:20.443389Z",
     "start_time": "2020-12-26T16:26:20.428399Z"
    },
    "scrolled": true
   },
   "outputs": [],
   "source": [
    "# Output of Confusion Matrix\n",
    "print(confusion_matrix(y_test, y_pred))"
   ]
  },
  {
   "cell_type": "code",
   "execution_count": null,
   "metadata": {
    "ExecuteTime": {
     "end_time": "2020-12-26T16:26:20.459316Z",
     "start_time": "2020-12-26T16:26:20.445355Z"
    }
   },
   "outputs": [],
   "source": [
    "# Output of Classification Report\n",
    "print(classification_report(y_test, y_pred))"
   ]
  },
  {
   "cell_type": "code",
   "execution_count": null,
   "metadata": {
    "ExecuteTime": {
     "end_time": "2020-12-26T16:26:20.475308Z",
     "start_time": "2020-12-26T16:26:20.461311Z"
    }
   },
   "outputs": [],
   "source": [
    "# Generate ROC curve values: fpr, tpr, thresholds\n",
    "fpr, tpr, thresholds = roc_curve(y_test, y_pred_prob)"
   ]
  },
  {
   "cell_type": "code",
   "execution_count": null,
   "metadata": {
    "ExecuteTime": {
     "end_time": "2020-12-26T16:26:20.491265Z",
     "start_time": "2020-12-26T16:26:20.476271Z"
    }
   },
   "outputs": [],
   "source": [
    "# 10-fold Cross Validation including Stratification\n",
    "skf = StratifiedKFold(shuffle=True, n_splits=10)"
   ]
  },
  {
   "cell_type": "code",
   "execution_count": null,
   "metadata": {
    "ExecuteTime": {
     "end_time": "2020-12-26T16:26:20.507221Z",
     "start_time": "2020-12-26T16:26:20.493226Z"
    }
   },
   "outputs": [],
   "source": [
    "# Compute and print AUC Score\n",
    "print(\"AUC: {}\".format(roc_auc_score(y_test, y_pred_prob)))"
   ]
  },
  {
   "cell_type": "code",
   "execution_count": null,
   "metadata": {
    "ExecuteTime": {
     "end_time": "2020-12-26T17:48:17.797702Z",
     "start_time": "2020-12-26T17:48:07.235539Z"
    }
   },
   "outputs": [],
   "source": [
    "# Cross-Validation for AUC scores\n",
    "cv_auc = cross_val_score(lreg, predictors, target, cv=skf, scoring='roc_auc')"
   ]
  },
  {
   "cell_type": "code",
   "execution_count": null,
   "metadata": {
    "ExecuteTime": {
     "end_time": "2020-12-26T17:48:17.813696Z",
     "start_time": "2020-12-26T17:48:17.798735Z"
    }
   },
   "outputs": [],
   "source": [
    "# Print List of AUC scores\n",
    "print(\"AUC scores computed using 10-fold cross-validation: {}\".format(cv_auc))"
   ]
  },
  {
   "cell_type": "code",
   "execution_count": null,
   "metadata": {
    "ExecuteTime": {
     "end_time": "2020-12-26T17:48:31.585674Z",
     "start_time": "2020-12-26T17:48:20.599858Z"
    }
   },
   "outputs": [],
   "source": [
    "# Cross-Validation for Accuracy Scores\n",
    "cv_acc = cross_val_score(lreg, predictors, target, cv=skf, scoring='accuracy')"
   ]
  },
  {
   "cell_type": "code",
   "execution_count": null,
   "metadata": {
    "ExecuteTime": {
     "end_time": "2020-12-26T17:48:31.601479Z",
     "start_time": "2020-12-26T17:48:31.587487Z"
    }
   },
   "outputs": [],
   "source": [
    "# Print List of Accuracy Scores\n",
    "print(\"Accuracy scores computed using 10-fold cross-validation: {}\".format(cv_acc))"
   ]
  },
  {
   "cell_type": "code",
   "execution_count": null,
   "metadata": {
    "ExecuteTime": {
     "end_time": "2020-12-26T17:48:31.617434Z",
     "start_time": "2020-12-26T17:48:31.602439Z"
    },
    "scrolled": true
   },
   "outputs": [],
   "source": [
    "# Accuracy Results - Mean and Standard Deviation\n",
    "show_scores(cv_acc)"
   ]
  },
  {
   "cell_type": "markdown",
   "metadata": {},
   "source": [
    "## Logistic Regression classical"
   ]
  },
  {
   "cell_type": "code",
   "execution_count": null,
   "metadata": {
    "ExecuteTime": {
     "end_time": "2020-12-26T16:24:19.169327Z",
     "start_time": "2020-12-26T16:24:19.156365Z"
    }
   },
   "outputs": [],
   "source": [
    "# Instantiate Classifier - LogisticRegression\n",
    "lreg = LogisticRegression(max_iter=1200)"
   ]
  },
  {
   "cell_type": "code",
   "execution_count": null,
   "metadata": {
    "ExecuteTime": {
     "end_time": "2020-12-26T16:24:19.233182Z",
     "start_time": "2020-12-26T16:24:19.171322Z"
    }
   },
   "outputs": [],
   "source": [
    "# Train Classifier\n",
    "lreg.fit(X_train_scaled, y_train)"
   ]
  },
  {
   "cell_type": "code",
   "execution_count": null,
   "metadata": {
    "ExecuteTime": {
     "end_time": "2020-12-26T16:24:19.249115Z",
     "start_time": "2020-12-26T16:24:19.234154Z"
    }
   },
   "outputs": [],
   "source": [
    "# Prediction of Classes\n",
    "y_pred = lreg.predict(X_test_scaled)"
   ]
  },
  {
   "cell_type": "code",
   "execution_count": null,
   "metadata": {
    "ExecuteTime": {
     "end_time": "2020-12-26T16:24:19.265108Z",
     "start_time": "2020-12-26T16:24:19.251111Z"
    }
   },
   "outputs": [],
   "source": [
    "# Prediction of Probabilities\n",
    "y_pred_prob = lreg.predict_proba(X_test_scaled)[:,1]"
   ]
  },
  {
   "cell_type": "code",
   "execution_count": null,
   "metadata": {
    "ExecuteTime": {
     "end_time": "2020-12-26T16:24:19.281064Z",
     "start_time": "2020-12-26T16:24:19.266069Z"
    }
   },
   "outputs": [],
   "source": [
    "# Select Predicted Probabilities\n",
    "y_pred_prob[1:11]"
   ]
  },
  {
   "cell_type": "code",
   "execution_count": null,
   "metadata": {
    "ExecuteTime": {
     "end_time": "2020-12-26T16:24:19.297022Z",
     "start_time": "2020-12-26T16:24:19.283026Z"
    }
   },
   "outputs": [],
   "source": [
    "# Select Actual Classes\n",
    "np.array(y_test[1:11])"
   ]
  },
  {
   "cell_type": "code",
   "execution_count": null,
   "metadata": {
    "ExecuteTime": {
     "end_time": "2020-12-26T16:24:19.312974Z",
     "start_time": "2020-12-26T16:24:19.297985Z"
    }
   },
   "outputs": [],
   "source": [
    "# Train Accuracy\n",
    "lreg.score(X_train_scaled, y_train)"
   ]
  },
  {
   "cell_type": "code",
   "execution_count": null,
   "metadata": {
    "ExecuteTime": {
     "end_time": "2020-12-26T16:24:19.329038Z",
     "start_time": "2020-12-26T16:24:19.313942Z"
    },
    "scrolled": true
   },
   "outputs": [],
   "source": [
    "# Test Accuracy\n",
    "lreg.score(X_test_scaled, y_test)"
   ]
  },
  {
   "cell_type": "code",
   "execution_count": null,
   "metadata": {
    "ExecuteTime": {
     "end_time": "2020-12-26T16:24:19.344894Z",
     "start_time": "2020-12-26T16:24:19.330897Z"
    },
    "scrolled": true
   },
   "outputs": [],
   "source": [
    "# Output of Confusion Matrix\n",
    "print(confusion_matrix(y_test, y_pred))"
   ]
  },
  {
   "cell_type": "code",
   "execution_count": null,
   "metadata": {
    "ExecuteTime": {
     "end_time": "2020-12-26T16:24:19.360159Z",
     "start_time": "2020-12-26T16:24:19.345858Z"
    }
   },
   "outputs": [],
   "source": [
    "# Output of Classification Report\n",
    "print(classification_report(y_test, y_pred))"
   ]
  },
  {
   "cell_type": "code",
   "execution_count": null,
   "metadata": {
    "ExecuteTime": {
     "end_time": "2020-12-26T16:24:19.375817Z",
     "start_time": "2020-12-26T16:24:19.361814Z"
    }
   },
   "outputs": [],
   "source": [
    "# Generate ROC curve values: fpr, tpr, thresholds\n",
    "fpr, tpr, thresholds = roc_curve(y_test, y_pred_prob)"
   ]
  },
  {
   "cell_type": "code",
   "execution_count": null,
   "metadata": {
    "ExecuteTime": {
     "end_time": "2020-12-26T16:24:19.391774Z",
     "start_time": "2020-12-26T16:24:19.377774Z"
    }
   },
   "outputs": [],
   "source": [
    "# 10-fold Cross Validation including Stratification\n",
    "skf = StratifiedKFold(shuffle=True, n_splits=10)"
   ]
  },
  {
   "cell_type": "code",
   "execution_count": null,
   "metadata": {
    "ExecuteTime": {
     "end_time": "2020-12-26T16:24:19.407726Z",
     "start_time": "2020-12-26T16:24:19.393731Z"
    }
   },
   "outputs": [],
   "source": [
    "# Compute and print AUC Score\n",
    "print(\"AUC: {}\".format(roc_auc_score(y_test, y_pred_prob)))"
   ]
  },
  {
   "cell_type": "code",
   "execution_count": null,
   "metadata": {
    "ExecuteTime": {
     "end_time": "2020-12-26T16:24:20.120823Z",
     "start_time": "2020-12-26T16:24:19.409834Z"
    }
   },
   "outputs": [],
   "source": [
    "# Cross-Validation for AUC scores\n",
    "cv_auc = cross_val_score(lreg, predictors_scaled, target, cv=skf, scoring='roc_auc')"
   ]
  },
  {
   "cell_type": "code",
   "execution_count": null,
   "metadata": {
    "ExecuteTime": {
     "end_time": "2020-12-26T16:24:20.136783Z",
     "start_time": "2020-12-26T16:24:20.121788Z"
    }
   },
   "outputs": [],
   "source": [
    "# Print List of AUC scores\n",
    "print(\"AUC scores computed using 10-fold cross-validation: {}\".format(cv_auc))"
   ]
  },
  {
   "cell_type": "code",
   "execution_count": null,
   "metadata": {
    "ExecuteTime": {
     "end_time": "2020-12-26T16:24:20.883757Z",
     "start_time": "2020-12-26T16:24:20.138743Z"
    }
   },
   "outputs": [],
   "source": [
    "# Cross-Validation for Accuracy Scores\n",
    "cv_acc = cross_val_score(lreg, predictors_scaled, target, cv=skf, scoring='accuracy')"
   ]
  },
  {
   "cell_type": "code",
   "execution_count": null,
   "metadata": {
    "ExecuteTime": {
     "end_time": "2020-12-26T16:24:20.899716Z",
     "start_time": "2020-12-26T16:24:20.884758Z"
    }
   },
   "outputs": [],
   "source": [
    "# Print List of Accuracy Scores\n",
    "print(\"Accuracy scores computed using 10-fold cross-validation: {}\".format(cv_acc))"
   ]
  },
  {
   "cell_type": "code",
   "execution_count": null,
   "metadata": {
    "ExecuteTime": {
     "end_time": "2020-12-26T16:24:20.915672Z",
     "start_time": "2020-12-26T16:24:20.900712Z"
    },
    "scrolled": true
   },
   "outputs": [],
   "source": [
    "# Accuracy Results - Mean and Standard Deviation\n",
    "show_scores(cv_acc)"
   ]
  },
  {
   "cell_type": "markdown",
   "metadata": {},
   "source": [
    "## Logistic Regression - Data Set I."
   ]
  },
  {
   "cell_type": "code",
   "execution_count": null,
   "metadata": {
    "ExecuteTime": {
     "end_time": "2020-12-26T16:24:20.931629Z",
     "start_time": "2020-12-26T16:24:20.916669Z"
    }
   },
   "outputs": [],
   "source": [
    "# Instantiate Classifier - LogisticRegression\n",
    "lreg = LogisticRegression(C=1000, max_iter=1200, penalty='l1', solver='liblinear')"
   ]
  },
  {
   "cell_type": "code",
   "execution_count": null,
   "metadata": {
    "ExecuteTime": {
     "end_time": "2020-12-26T16:24:25.928321Z",
     "start_time": "2020-12-26T16:24:20.932627Z"
    }
   },
   "outputs": [],
   "source": [
    "# Train Classifier\n",
    "lreg.fit(X_train_scaled, y_train)"
   ]
  },
  {
   "cell_type": "code",
   "execution_count": null,
   "metadata": {
    "ExecuteTime": {
     "end_time": "2020-12-26T16:24:25.944278Z",
     "start_time": "2020-12-26T16:24:25.929318Z"
    }
   },
   "outputs": [],
   "source": [
    "# Prediction of Classes\n",
    "y_pred = lreg.predict(X_test_scaled)"
   ]
  },
  {
   "cell_type": "code",
   "execution_count": null,
   "metadata": {
    "ExecuteTime": {
     "end_time": "2020-12-26T16:24:25.960236Z",
     "start_time": "2020-12-26T16:24:25.945276Z"
    }
   },
   "outputs": [],
   "source": [
    "# Prediction of Probabilities\n",
    "y_pred_prob = lreg.predict_proba(X_test_scaled)[:,1]"
   ]
  },
  {
   "cell_type": "code",
   "execution_count": null,
   "metadata": {
    "ExecuteTime": {
     "end_time": "2020-12-26T16:24:25.976249Z",
     "start_time": "2020-12-26T16:24:25.961233Z"
    }
   },
   "outputs": [],
   "source": [
    "# Select Predicted Probabilities\n",
    "y_pred_prob[1:11]"
   ]
  },
  {
   "cell_type": "code",
   "execution_count": null,
   "metadata": {
    "ExecuteTime": {
     "end_time": "2020-12-26T16:24:25.991319Z",
     "start_time": "2020-12-26T16:24:25.977199Z"
    }
   },
   "outputs": [],
   "source": [
    "# Select Actual Classes\n",
    "np.array(y_test[1:11])"
   ]
  },
  {
   "cell_type": "code",
   "execution_count": null,
   "metadata": {
    "ExecuteTime": {
     "end_time": "2020-12-26T16:24:26.007147Z",
     "start_time": "2020-12-26T16:24:25.992481Z"
    }
   },
   "outputs": [],
   "source": [
    "# Train Accuracy\n",
    "lreg.score(X_train_scaled, y_train)"
   ]
  },
  {
   "cell_type": "code",
   "execution_count": null,
   "metadata": {
    "ExecuteTime": {
     "end_time": "2020-12-26T16:24:26.023069Z",
     "start_time": "2020-12-26T16:24:26.017084Z"
    },
    "scrolled": true
   },
   "outputs": [],
   "source": [
    "# Test Accuracy\n",
    "lreg.score(X_test_scaled, y_test)"
   ]
  },
  {
   "cell_type": "code",
   "execution_count": null,
   "metadata": {
    "ExecuteTime": {
     "end_time": "2020-12-26T16:24:26.039065Z",
     "start_time": "2020-12-26T16:24:26.026142Z"
    },
    "scrolled": true
   },
   "outputs": [],
   "source": [
    "# Output of Confusion Matrix\n",
    "print(confusion_matrix(y_test, y_pred))"
   ]
  },
  {
   "cell_type": "code",
   "execution_count": null,
   "metadata": {
    "ExecuteTime": {
     "end_time": "2020-12-26T16:24:26.055023Z",
     "start_time": "2020-12-26T16:24:26.040023Z"
    }
   },
   "outputs": [],
   "source": [
    "# Output of Classification Report\n",
    "print(classification_report(y_test, y_pred))"
   ]
  },
  {
   "cell_type": "code",
   "execution_count": null,
   "metadata": {
    "ExecuteTime": {
     "end_time": "2020-12-26T16:24:26.070976Z",
     "start_time": "2020-12-26T16:24:26.055981Z"
    }
   },
   "outputs": [],
   "source": [
    "# Generate ROC curve values: fpr, tpr, thresholds\n",
    "fpr, tpr, thresholds = roc_curve(y_test, y_pred_prob)"
   ]
  },
  {
   "cell_type": "code",
   "execution_count": null,
   "metadata": {
    "ExecuteTime": {
     "end_time": "2020-12-26T16:24:26.086934Z",
     "start_time": "2020-12-26T16:24:26.071939Z"
    }
   },
   "outputs": [],
   "source": [
    "# 10-fold Cross Validation including Stratification\n",
    "skf = StratifiedKFold(shuffle=True, n_splits=10)"
   ]
  },
  {
   "cell_type": "code",
   "execution_count": null,
   "metadata": {
    "ExecuteTime": {
     "end_time": "2020-12-26T16:24:26.102890Z",
     "start_time": "2020-12-26T16:24:26.087897Z"
    }
   },
   "outputs": [],
   "source": [
    "# Compute and print AUC Score\n",
    "print(\"AUC: {}\".format(roc_auc_score(y_test, y_pred_prob)))"
   ]
  },
  {
   "cell_type": "code",
   "execution_count": null,
   "metadata": {
    "ExecuteTime": {
     "end_time": "2020-12-26T16:25:07.957669Z",
     "start_time": "2020-12-26T16:24:26.104851Z"
    }
   },
   "outputs": [],
   "source": [
    "# Cross-Validation for AUC scores\n",
    "cv_auc = cross_val_score(lreg, predictors_scaled, target, cv=skf, scoring='roc_auc')"
   ]
  },
  {
   "cell_type": "code",
   "execution_count": null,
   "metadata": {
    "ExecuteTime": {
     "end_time": "2020-12-26T16:25:07.973066Z",
     "start_time": "2020-12-26T16:25:07.958406Z"
    }
   },
   "outputs": [],
   "source": [
    "# Print List of AUC scores\n",
    "print(\"AUC scores computed using 10-fold cross-validation: {}\".format(cv_auc))"
   ]
  },
  {
   "cell_type": "code",
   "execution_count": null,
   "metadata": {
    "ExecuteTime": {
     "end_time": "2020-12-26T16:25:51.383522Z",
     "start_time": "2020-12-26T16:25:07.974024Z"
    }
   },
   "outputs": [],
   "source": [
    "# Cross-Validation for Accuracy Scores\n",
    "cv_acc = cross_val_score(lreg, predictors_scaled, target, cv=skf, scoring='accuracy')"
   ]
  },
  {
   "cell_type": "code",
   "execution_count": null,
   "metadata": {
    "ExecuteTime": {
     "end_time": "2020-12-26T16:25:51.399393Z",
     "start_time": "2020-12-26T16:25:51.384820Z"
    }
   },
   "outputs": [],
   "source": [
    "# Print List of Accuracy Scores\n",
    "print(\"Accuracy scores computed using 10-fold cross-validation: {}\".format(cv_acc))"
   ]
  },
  {
   "cell_type": "code",
   "execution_count": null,
   "metadata": {
    "ExecuteTime": {
     "end_time": "2020-12-26T16:25:51.414817Z",
     "start_time": "2020-12-26T16:25:51.400354Z"
    }
   },
   "outputs": [],
   "source": [
    "# Accuracy Results - Mean and Standard Deviation\n",
    "show_scores(cv_acc)"
   ]
  },
  {
   "cell_type": "markdown",
   "metadata": {},
   "source": [
    "## XGBoost - Data Set I."
   ]
  },
  {
   "cell_type": "code",
   "execution_count": null,
   "metadata": {
    "ExecuteTime": {
     "end_time": "2020-12-26T16:25:51.430274Z",
     "start_time": "2020-12-26T16:25:51.416313Z"
    }
   },
   "outputs": [],
   "source": [
    "from xgboost import XGBClassifier\n",
    "\n",
    "# Instantiate Classifier - LogisticRegression\n",
    "model = XGBClassifier(base_score=0.5, booster='gbtree', colsample_bylevel=1,\n",
    "              colsample_bynode=1, colsample_bytree=0.7, gamma=0, gpu_id=-1,\n",
    "              importance_type='gain', interaction_constraints='',\n",
    "              learning_rate=0.01, max_delta_step=0, max_depth=3,\n",
    "              min_child_weight=1, monotone_constraints='()',\n",
    "              n_estimators=200, n_jobs=0, num_parallel_tree=1,\n",
    "              objective='reg:squarederror', random_state=0, reg_alpha=0,\n",
    "              reg_lambda=1, scale_pos_weight=1, subsample=0.7,\n",
    "              tree_method='exact', validate_parameters=1, verbosity=None)"
   ]
  },
  {
   "cell_type": "code",
   "execution_count": null,
   "metadata": {
    "ExecuteTime": {
     "end_time": "2020-12-26T16:26:20.238155Z",
     "start_time": "2020-12-26T16:25:51.431500Z"
    }
   },
   "outputs": [],
   "source": [
    "# Test Accuracy\n",
    "from sklearn.metrics import accuracy_score\n",
    "from xgboost import XGBClassifier\n",
    "\n",
    "# Instantiate Classifier - LogisticRegression\n",
    "model = XGBClassifier(base_score=0.5, booster='gbtree', colsample_bylevel=1,\n",
    "              colsample_bynode=1, colsample_bytree=0.7, gamma=0, gpu_id=-1,\n",
    "              importance_type='gain', interaction_constraints='',\n",
    "              learning_rate=0.01, max_delta_step=0, max_depth=3,\n",
    "              min_child_weight=1, monotone_constraints='()',\n",
    "              n_estimators=200, n_jobs=0, num_parallel_tree=1,\n",
    "              objective='reg:squarederror', random_state=0, reg_alpha=0,\n",
    "              reg_lambda=1, scale_pos_weight=1, subsample=0.7,\n",
    "              tree_method='exact', validate_parameters=1, verbosity=None)\n",
    "\n",
    "accuarylist = []\n",
    "\n",
    "for x in range(30):\n",
    "    # Split Data into Training and Testing\n",
    "    X_train, X_test, y_train, y_test = train_test_split(\n",
    "        predictors, target, test_size=0.3, stratify=target)\n",
    "    \n",
    "    # Scaler Training and Transformation of Training Set\n",
    "    #X_train_scaled = pd.DataFrame(norm_scaler.fit_transform(X_train))\n",
    "    #X_test_scaled = pd.DataFrame(norm_scaler.fit_transform(X_test))\n",
    "    \n",
    "    # Train Classifier\n",
    "    model.fit(X_train, y_train)\n",
    "    y_pred = model.predict(X_test)\n",
    "    predictions = [round(value) for value in y_pred]\n",
    "    accuracy = accuracy_score(y_test, predictions)\n",
    "    accuarylist.append(accuracy * 100.0)\n",
    "\n",
    "meanacc = np.mean(accuarylist)"
   ]
  },
  {
   "cell_type": "code",
   "execution_count": null,
   "metadata": {
    "ExecuteTime": {
     "end_time": "2020-12-26T16:26:20.253866Z",
     "start_time": "2020-12-26T16:26:20.238906Z"
    }
   },
   "outputs": [],
   "source": [
    "# Prediction of Classes\n",
    "y_pred = model.predict(X_test)"
   ]
  },
  {
   "cell_type": "code",
   "execution_count": null,
   "metadata": {
    "ExecuteTime": {
     "end_time": "2020-12-26T16:26:20.269853Z",
     "start_time": "2020-12-26T16:26:20.254861Z"
    }
   },
   "outputs": [],
   "source": [
    "# Prediction of Probabilities\n",
    "y_pred_prob = model.predict_proba(X_test)[:,1]"
   ]
  },
  {
   "cell_type": "code",
   "execution_count": null,
   "metadata": {
    "ExecuteTime": {
     "end_time": "2020-12-26T16:26:20.285814Z",
     "start_time": "2020-12-26T16:26:20.270850Z"
    }
   },
   "outputs": [],
   "source": [
    "# Select Predicted Probabilities\n",
    "y_pred_prob[1:11]"
   ]
  },
  {
   "cell_type": "code",
   "execution_count": null,
   "metadata": {
    "ExecuteTime": {
     "end_time": "2020-12-26T16:26:20.301737Z",
     "start_time": "2020-12-26T16:26:20.286799Z"
    }
   },
   "outputs": [],
   "source": [
    "# Select Actual Classes\n",
    "np.array(y_test[1:11])"
   ]
  },
  {
   "cell_type": "code",
   "execution_count": null,
   "metadata": {
    "ExecuteTime": {
     "end_time": "2020-12-26T16:26:20.333652Z",
     "start_time": "2020-12-26T16:26:20.303732Z"
    }
   },
   "outputs": [],
   "source": [
    "# Train Accuracy\n",
    "model.score(X_train, y_train)"
   ]
  },
  {
   "cell_type": "code",
   "execution_count": null,
   "metadata": {
    "ExecuteTime": {
     "end_time": "2020-12-26T16:26:20.427401Z",
     "start_time": "2020-12-26T16:26:20.335732Z"
    },
    "scrolled": true
   },
   "outputs": [],
   "source": [
    "# Test Accuracy\n",
    "for x in range(10):\n",
    "    print(model.score(X_test, y_test))"
   ]
  },
  {
   "cell_type": "code",
   "execution_count": null,
   "metadata": {
    "ExecuteTime": {
     "end_time": "2020-12-26T16:26:20.443389Z",
     "start_time": "2020-12-26T16:26:20.428399Z"
    },
    "scrolled": true
   },
   "outputs": [],
   "source": [
    "# Output of Confusion Matrix\n",
    "print(confusion_matrix(y_test, y_pred))"
   ]
  },
  {
   "cell_type": "code",
   "execution_count": null,
   "metadata": {
    "ExecuteTime": {
     "end_time": "2020-12-26T16:26:20.459316Z",
     "start_time": "2020-12-26T16:26:20.445355Z"
    }
   },
   "outputs": [],
   "source": [
    "# Output of Classification Report\n",
    "print(classification_report(y_test, y_pred))"
   ]
  },
  {
   "cell_type": "code",
   "execution_count": null,
   "metadata": {
    "ExecuteTime": {
     "end_time": "2020-12-26T16:26:20.475308Z",
     "start_time": "2020-12-26T16:26:20.461311Z"
    }
   },
   "outputs": [],
   "source": [
    "# Generate ROC curve values: fpr, tpr, thresholds\n",
    "fpr, tpr, thresholds = roc_curve(y_test, y_pred_prob)"
   ]
  },
  {
   "cell_type": "code",
   "execution_count": null,
   "metadata": {
    "ExecuteTime": {
     "end_time": "2020-12-26T16:26:20.491265Z",
     "start_time": "2020-12-26T16:26:20.476271Z"
    }
   },
   "outputs": [],
   "source": [
    "# 10-fold Cross Validation including Stratification\n",
    "skf = StratifiedKFold(shuffle=True, n_splits=10)"
   ]
  },
  {
   "cell_type": "code",
   "execution_count": null,
   "metadata": {
    "ExecuteTime": {
     "end_time": "2020-12-26T16:26:20.507221Z",
     "start_time": "2020-12-26T16:26:20.493226Z"
    }
   },
   "outputs": [],
   "source": [
    "# Compute and print AUC Score\n",
    "print(\"AUC: {}\".format(roc_auc_score(y_test, y_pred_prob)))"
   ]
  },
  {
   "cell_type": "code",
   "execution_count": null,
   "metadata": {
    "ExecuteTime": {
     "end_time": "2020-12-26T17:48:17.797702Z",
     "start_time": "2020-12-26T17:48:07.235539Z"
    }
   },
   "outputs": [],
   "source": [
    "# Cross-Validation for AUC scores\n",
    "cv_auc = cross_val_score(model, predictors, target, cv=skf, scoring='roc_auc')"
   ]
  },
  {
   "cell_type": "code",
   "execution_count": null,
   "metadata": {
    "ExecuteTime": {
     "end_time": "2020-12-26T17:48:17.813696Z",
     "start_time": "2020-12-26T17:48:17.798735Z"
    }
   },
   "outputs": [],
   "source": [
    "# Print List of AUC scores\n",
    "print(\"AUC scores computed using 10-fold cross-validation: {}\".format(cv_auc))"
   ]
  },
  {
   "cell_type": "code",
   "execution_count": null,
   "metadata": {
    "ExecuteTime": {
     "end_time": "2020-12-26T17:48:31.585674Z",
     "start_time": "2020-12-26T17:48:20.599858Z"
    }
   },
   "outputs": [],
   "source": [
    "# Cross-Validation for Accuracy Scores\n",
    "cv_acc = cross_val_score(model, predictors, target, cv=skf, scoring='accuracy')"
   ]
  },
  {
   "cell_type": "code",
   "execution_count": null,
   "metadata": {
    "ExecuteTime": {
     "end_time": "2020-12-26T17:48:31.601479Z",
     "start_time": "2020-12-26T17:48:31.587487Z"
    }
   },
   "outputs": [],
   "source": [
    "# Print List of Accuracy Scores\n",
    "print(\"Accuracy scores computed using 10-fold cross-validation: {}\".format(cv_acc))"
   ]
  },
  {
   "cell_type": "code",
   "execution_count": null,
   "metadata": {
    "ExecuteTime": {
     "end_time": "2020-12-26T17:48:31.617434Z",
     "start_time": "2020-12-26T17:48:31.602439Z"
    },
    "scrolled": true
   },
   "outputs": [],
   "source": [
    "# Accuracy Results - Mean and Standard Deviation\n",
    "show_scores(cv_acc)"
   ]
  },
  {
   "cell_type": "code",
   "execution_count": null,
   "metadata": {
    "ExecuteTime": {
     "end_time": "2020-12-26T17:48:31.633503Z",
     "start_time": "2020-12-26T17:48:31.618396Z"
    },
    "scrolled": true
   },
   "outputs": [],
   "source": [
    "# Accuracy Results - Mean and Standard Deviation\n",
    "show_scores(cv_acc)"
   ]
  },
  {
   "cell_type": "markdown",
   "metadata": {},
   "source": [
    "## Random Forest Classifier - Data Set I."
   ]
  },
  {
   "cell_type": "code",
   "execution_count": null,
   "metadata": {
    "ExecuteTime": {
     "end_time": "2020-12-26T19:44:41.110203Z",
     "start_time": "2020-12-26T19:44:41.093352Z"
    }
   },
   "outputs": [],
   "source": [
    "# Instantiate Classifier - Random Forest\n",
    "rfc = RandomForestClassifier(max_depth=5, max_features='sqrt', min_samples_leaf=2,\n",
    "                       min_samples_split=10, n_estimators=1000)"
   ]
  },
  {
   "cell_type": "code",
   "execution_count": null,
   "metadata": {
    "ExecuteTime": {
     "end_time": "2020-12-26T19:44:45.988810Z",
     "start_time": "2020-12-26T19:44:41.448103Z"
    }
   },
   "outputs": [],
   "source": [
    "# Train Classifier\n",
    "rfc.fit(X_train_scaled, y_train)"
   ]
  },
  {
   "cell_type": "code",
   "execution_count": null,
   "metadata": {
    "ExecuteTime": {
     "end_time": "2020-12-26T19:44:46.132095Z",
     "start_time": "2020-12-26T19:44:45.990392Z"
    }
   },
   "outputs": [],
   "source": [
    "# Prediction of Classes\n",
    "y_pred = rfc.predict(X_test_scaled)"
   ]
  },
  {
   "cell_type": "code",
   "execution_count": null,
   "metadata": {
    "ExecuteTime": {
     "end_time": "2020-12-26T19:44:46.288456Z",
     "start_time": "2020-12-26T19:44:46.134089Z"
    }
   },
   "outputs": [],
   "source": [
    "# Prediction of Probabilities\n",
    "y_pred_prob = rfc.predict_proba(X_test_scaled)[:,1]"
   ]
  },
  {
   "cell_type": "code",
   "execution_count": null,
   "metadata": {
    "ExecuteTime": {
     "end_time": "2020-12-26T19:44:46.304458Z",
     "start_time": "2020-12-26T19:44:46.290452Z"
    }
   },
   "outputs": [],
   "source": [
    "# Select Predicted Probabilities\n",
    "y_pred_prob[1:11]"
   ]
  },
  {
   "cell_type": "code",
   "execution_count": null,
   "metadata": {
    "ExecuteTime": {
     "end_time": "2020-12-26T19:44:46.525169Z",
     "start_time": "2020-12-26T19:44:46.305410Z"
    }
   },
   "outputs": [],
   "source": [
    "# Train Accuracy\n",
    "rfc.score(X_train_scaled, y_train)"
   ]
  },
  {
   "cell_type": "code",
   "execution_count": null,
   "metadata": {
    "ExecuteTime": {
     "end_time": "2020-12-26T19:44:46.666751Z",
     "start_time": "2020-12-26T19:44:46.525980Z"
    }
   },
   "outputs": [],
   "source": [
    "# Test Accuracy\n",
    "rfc.score(X_test_scaled, y_test)"
   ]
  },
  {
   "cell_type": "code",
   "execution_count": null,
   "metadata": {
    "ExecuteTime": {
     "end_time": "2020-12-26T19:44:50.769414Z",
     "start_time": "2020-12-26T19:44:50.752423Z"
    }
   },
   "outputs": [],
   "source": [
    "# Output of Confusion Matrix\n",
    "print(confusion_matrix(y_test, y_pred))"
   ]
  },
  {
   "cell_type": "code",
   "execution_count": null,
   "metadata": {
    "ExecuteTime": {
     "end_time": "2020-12-26T19:44:51.225034Z",
     "start_time": "2020-12-26T19:44:51.203017Z"
    }
   },
   "outputs": [],
   "source": [
    "# Output of Classification Report\n",
    "print(classification_report(y_test, y_pred))"
   ]
  },
  {
   "cell_type": "code",
   "execution_count": null,
   "metadata": {
    "ExecuteTime": {
     "end_time": "2020-12-26T19:44:51.758135Z",
     "start_time": "2020-12-26T19:44:51.741030Z"
    }
   },
   "outputs": [],
   "source": [
    "# Generate ROC curve values: fpr, tpr, thresholds\n",
    "fpr, tpr, thresholds = roc_curve(y_test, y_pred_prob)"
   ]
  },
  {
   "cell_type": "code",
   "execution_count": null,
   "metadata": {
    "ExecuteTime": {
     "end_time": "2020-12-26T19:44:52.528388Z",
     "start_time": "2020-12-26T19:44:52.521403Z"
    }
   },
   "outputs": [],
   "source": [
    "# 10-fold Cross Validation including Stratification\n",
    "skf = StratifiedKFold(shuffle=True, n_splits=10)"
   ]
  },
  {
   "cell_type": "code",
   "execution_count": null,
   "metadata": {
    "ExecuteTime": {
     "end_time": "2020-12-26T19:44:52.995257Z",
     "start_time": "2020-12-26T19:44:52.974341Z"
    }
   },
   "outputs": [],
   "source": [
    "# Compute and print AUC score\n",
    "print(\"AUC: {}\".format(roc_auc_score(y_test, y_pred_prob)))"
   ]
  },
  {
   "cell_type": "code",
   "execution_count": null,
   "metadata": {
    "ExecuteTime": {
     "end_time": "2020-12-26T19:45:51.358518Z",
     "start_time": "2020-12-26T19:44:53.380601Z"
    }
   },
   "outputs": [],
   "source": [
    "# Cross-Validation for AUC scores\n",
    "cv_auc = cross_val_score(rfc, predictors_scaled, target, cv=skf, scoring='roc_auc')"
   ]
  },
  {
   "cell_type": "code",
   "execution_count": null,
   "metadata": {
    "ExecuteTime": {
     "end_time": "2020-12-26T19:45:51.374479Z",
     "start_time": "2020-12-26T19:45:51.359566Z"
    }
   },
   "outputs": [],
   "source": [
    "# Print List of AUC scores\n",
    "print(\"AUC scores computed using 10-fold cross-validation: {}\".format(cv_auc))"
   ]
  },
  {
   "cell_type": "code",
   "execution_count": null,
   "metadata": {
    "ExecuteTime": {
     "end_time": "2020-12-26T19:47:01.588233Z",
     "start_time": "2020-12-26T19:45:51.376472Z"
    }
   },
   "outputs": [],
   "source": [
    "# Cross-Validation for Accuracy Scores\n",
    "cv_acc = cross_val_score(rfc, predictors_scaled, target, cv=skf, scoring='accuracy')"
   ]
  },
  {
   "cell_type": "code",
   "execution_count": null,
   "metadata": {
    "ExecuteTime": {
     "end_time": "2020-12-26T19:47:01.604087Z",
     "start_time": "2020-12-26T19:47:01.589182Z"
    }
   },
   "outputs": [],
   "source": [
    "# Print List of Accuracy Scores\n",
    "print(\"Accuracy scores computed using 10-fold cross-validation: {}\".format(cv_acc))"
   ]
  },
  {
   "cell_type": "code",
   "execution_count": null,
   "metadata": {
    "ExecuteTime": {
     "end_time": "2020-12-26T19:47:01.619523Z",
     "start_time": "2020-12-26T19:47:01.605048Z"
    }
   },
   "outputs": [],
   "source": [
    "# Accuracy Results - Mean and Standard Deviation\n",
    "show_scores(cv_acc)"
   ]
  },
  {
   "cell_type": "markdown",
   "metadata": {},
   "source": [
    "# Trading Strategy - Data Set I"
   ]
  },
  {
   "cell_type": "markdown",
   "metadata": {},
   "source": [
    "## Trading Strategy in Combination with Logistic Regression"
   ]
  },
  {
   "cell_type": "code",
   "execution_count": null,
   "metadata": {
    "ExecuteTime": {
     "end_time": "2020-12-26T17:49:15.654359Z",
     "start_time": "2020-12-26T17:49:15.642393Z"
    }
   },
   "outputs": [],
   "source": [
    "# Create Lists To Store All Calculated Values For Every Variable of Every Run\n",
    "# Specified Period\n",
    "# Threshold 0.5\n",
    "spec_list_05_total = []\n",
    "spec_list_05_profit = []\n",
    "spec_list_05_loss = []\n",
    "spec_list_05_trans = []\n",
    "spec_list_05_acc = []\n",
    "spec_list_05_preds_corr = []\n",
    "spec_list_05_preds = []\n",
    "# Threshold 0.6\n",
    "spec_list_06_total = []\n",
    "spec_list_06_profit = []\n",
    "spec_list_06_loss = []\n",
    "spec_list_06_trans = []\n",
    "spec_list_06_acc = []\n",
    "spec_list_06_preds_corr = []\n",
    "spec_list_06_preds = []\n",
    "# Threshold 0.7\n",
    "spec_list_07_total = []\n",
    "spec_list_07_profit = []\n",
    "spec_list_07_loss = []\n",
    "spec_list_07_trans = []\n",
    "spec_list_07_acc = []\n",
    "spec_list_07_preds_corr = []\n",
    "spec_list_07_preds = []\n",
    "# Threshold 0.8\n",
    "spec_list_08_total = []\n",
    "spec_list_08_profit = []\n",
    "spec_list_08_loss = []\n",
    "spec_list_08_trans = []\n",
    "spec_list_08_acc = []\n",
    "spec_list_08_preds_corr = []\n",
    "spec_list_08_preds = []\n",
    "\n",
    "# Entire Period\n",
    "# Threshold 0.5\n",
    "list_05_total = []\n",
    "list_05_profit = []\n",
    "list_05_loss = []\n",
    "list_05_trans = []\n",
    "list_05_acc = []\n",
    "list_05_preds_corr = []\n",
    "list_05_preds = []\n",
    "# Threshold 0.6\n",
    "list_06_total = []\n",
    "list_06_profit = []\n",
    "list_06_loss = []\n",
    "list_06_trans = []\n",
    "list_06_acc = []\n",
    "list_06_preds_corr = []\n",
    "list_06_preds = []\n",
    "# Threshold 0.7\n",
    "list_07_total = []\n",
    "list_07_profit = []\n",
    "list_07_loss = []\n",
    "list_07_trans = []\n",
    "list_07_acc = []\n",
    "list_07_preds_corr = []\n",
    "list_07_preds = []\n",
    "# Threshold 0.8\n",
    "list_08_total = []\n",
    "list_08_profit = []\n",
    "list_08_loss = []\n",
    "list_08_trans = []\n",
    "list_08_acc = []\n",
    "list_08_preds_corr = []\n",
    "list_08_preds = []"
   ]
  },
  {
   "cell_type": "code",
   "execution_count": null,
   "metadata": {
    "ExecuteTime": {
     "end_time": "2020-12-26T17:49:15.670316Z",
     "start_time": "2020-12-26T17:49:15.655356Z"
    }
   },
   "outputs": [],
   "source": [
    "target"
   ]
  },
  {
   "cell_type": "code",
   "execution_count": null,
   "metadata": {
    "ExecuteTime": {
     "end_time": "2020-12-26T17:49:15.686306Z",
     "start_time": "2020-12-26T17:49:15.671313Z"
    }
   },
   "outputs": [],
   "source": [
    "predictors"
   ]
  },
  {
   "cell_type": "code",
   "execution_count": null,
   "metadata": {
    "ExecuteTime": {
     "end_time": "2020-12-26T17:49:15.701471Z",
     "start_time": "2020-12-26T17:49:15.687438Z"
    }
   },
   "outputs": [],
   "source": [
    "for x in df_dataset1.columns:\n",
    "    print(x)"
   ]
  },
  {
   "cell_type": "code",
   "execution_count": null,
   "metadata": {
    "ExecuteTime": {
     "end_time": "2020-12-26T17:49:15.716396Z",
     "start_time": "2020-12-26T17:49:15.702432Z"
    }
   },
   "outputs": [],
   "source": [
    "df_dataset1_copy[['Daily Return in USD']]"
   ]
  },
  {
   "cell_type": "code",
   "execution_count": null,
   "metadata": {
    "ExecuteTime": {
     "end_time": "2020-12-26T17:49:15.732200Z",
     "start_time": "2020-12-26T17:49:15.718390Z"
    }
   },
   "outputs": [],
   "source": [
    "df_dataset1_copy[\"percentage_daily_return\"] = df_dataset1_copy[\"Daily Return in USD\"]/df_dataset1_copy[\"market/price_usd_close\"]\n",
    "df_dataset1_copy[\"percentage_daily_return\"]"
   ]
  },
  {
   "cell_type": "code",
   "execution_count": null,
   "metadata": {
    "ExecuteTime": {
     "end_time": "2020-12-26T17:49:15.748317Z",
     "start_time": "2020-12-26T17:49:15.733349Z"
    }
   },
   "outputs": [],
   "source": [
    "# lreg = XGBClassifier(base_score=0.5, booster='gbtree', colsample_bylevel=1,\n",
    "#               colsample_bynode=1, colsample_bytree=0.7, gamma=0, gpu_id=-1,\n",
    "#               importance_type='gain', interaction_constraints='',\n",
    "#               learning_rate=0.01, max_delta_step=0, max_depth=3,\n",
    "#               min_child_weight=1, monotone_constraints='()',\n",
    "#               n_estimators=200, n_jobs=0, num_parallel_tree=1,\n",
    "#               objective='reg:squarederror', random_state=0, reg_alpha=0,\n",
    "#               reg_lambda=1, scale_pos_weight=1, subsample=0.7,\n",
    "#               tree_method='exact', validate_parameters=1, verbosity=None)"
   ]
  },
  {
   "cell_type": "code",
   "execution_count": null,
   "metadata": {
    "ExecuteTime": {
     "end_time": "2020-12-26T19:31:28.613736Z",
     "start_time": "2020-12-26T19:14:51.904387Z"
    },
    "scrolled": true
   },
   "outputs": [],
   "source": [
    "einsatz = 1000\n",
    "prestakepercentlist = []\n",
    "zinseszins = []\n",
    "profitpercent = []\n",
    "current_profitpercent = []\n",
    "spec_start_date = '2019-09-09'\n",
    "\n",
    "prestakepercentlist51 = []\n",
    "prestakepercentlist52 = []\n",
    "prestakepercentlist53 = []\n",
    "\n",
    "profitpercent51 = []\n",
    "profitpercent52 = []\n",
    "profitpercent53 = []\n",
    "\n",
    "current_profitpercent51 = []\n",
    "current_profitpercent52 = []\n",
    "current_profitpercent53 = []\n",
    "\n",
    "zinseszins51 = []\n",
    "zinseszins52 = []\n",
    "zinseszins53 = []\n",
    "\n",
    "current_zinseszins = []\n",
    "current_zinseszins51 = []\n",
    "current_zinseszins52 = []\n",
    "current_zinseszins53 = []\n",
    "\n",
    "\n",
    "# For Loop to Simulate K-fold Cross Validation\n",
    "for x in range(1, 200):\n",
    "\n",
    "    # Display Number of Runs\n",
    "    print(\"Run:\", x)\n",
    "\n",
    "    # Split Data into Training and Testing\n",
    "    X_train, X_test, y_train, y_test = train_test_split(\n",
    "        predictors, target, test_size=0.3, stratify=target)\n",
    "\n",
    "    # Amount of Columns\n",
    "    n_nodes = predictors.shape[1]\n",
    "    \n",
    "    # Instantiate Classifier Logistic Regression\n",
    "#     lreg = XGBClassifier(base_score=0.5, booster='gbtree', colsample_bylevel=1,\n",
    "#               colsample_bynode=1, colsample_bytree=0.7, gamma=0, gpu_id=-1,\n",
    "#               importance_type='gain', interaction_constraints='',\n",
    "#               learning_rate=0.01, max_delta_step=0, max_depth=3,\n",
    "#               min_child_weight=1, monotone_constraints='()',\n",
    "#               n_estimators=200, n_jobs=0, num_parallel_tree=1,\n",
    "#               objective='reg:squarederror', random_state=0, reg_alpha=0,\n",
    "#               reg_lambda=1, scale_pos_weight=1, subsample=0.7,\n",
    "#               tree_method='exact', validate_parameters=1, verbosity=None)\n",
    "    \n",
    "#     lreg = RandomForestClassifier(n_estimators=100, max_leaf_nodes=None, \n",
    "#                                   criterion='gini', max_depth=3)   \n",
    "    \n",
    "    lreg = RandomForestClassifier(n_estimators=1000, bootstrap= True, max_depth= 5,\n",
    "                                  max_features= 'auto', min_samples_leaf= 5,\n",
    "                                  min_samples_split= 15\n",
    "                                 ) \n",
    "    \n",
    "    \n",
    "    # Train Classifier\n",
    "    lreg.fit(X_train, y_train)\n",
    "\n",
    "    # Prediction of Classes\n",
    "    y_pred = lreg.predict(X_test)\n",
    "\n",
    "    # Display Confusion Matrix and Classification Report\n",
    "    print(confusion_matrix(y_test, y_pred))\n",
    "#     print(classification_report(y_test, y_pred))\n",
    "\n",
    "    # Prediction of Probabilities\n",
    "    y_pred_prob = lreg.predict_proba(X_test)[:, 1]\n",
    "\n",
    "    # Create Data Frame of Actual Values - y_test\n",
    "    df_y_test = pd.DataFrame(y_test)\n",
    "\n",
    "    # Add Predicted Probabilities to Data Frame\n",
    "    df_y_test[\"y_pred_prob\"] = y_pred_prob\n",
    "\n",
    "    # Add Predicted Classes (0 or 1) to Data Frame to Cross-Check Predicted Probabilities\n",
    "    df_y_test[\"y_pred\"] = y_pred\n",
    "\n",
    "    # Select Actual Daily Returns in USD from the Data Set Copy\n",
    "    df_dataset1_copy_dailyreturns = df_dataset1_copy[['Daily Return in USD']]\n",
    "\n",
    "    # Merge Predictions and Daily Returns Data Frame on the Column \"Date\"\n",
    "    df_y_test_withdailyreturns = pd.merge(\n",
    "        df_y_test, df_dataset1_copy_dailyreturns, on='Date')\n",
    "\n",
    "    df_dataset1_copy_percentage = df_dataset1_copy[['percentage_daily_return']]\n",
    "    df_y_test_withdailyreturns = pd.merge(\n",
    "        df_y_test_withdailyreturns, df_dataset1_copy_percentage, on='Date')\n",
    "\n",
    "    # Add Bitcoin Price in USD\n",
    "    df_y_test_withdailyreturns = pd.merge(\n",
    "        df_y_test_withdailyreturns, df_dataset1_copy['market/price_usd_close'], on='Date')\n",
    "\n",
    "    df_y_test_withdailyreturns['y_pred_prob_bereinigt'] = np.where(\n",
    "        df_y_test_withdailyreturns['y_pred_prob'] < 0.5, 1-df_y_test_withdailyreturns['y_pred_prob'], df_y_test_withdailyreturns['y_pred_prob'])\n",
    "\n",
    "    df_y_test_withdailyreturns[\"Einsatz\"] = einsatz #* \\\n",
    "        #df_y_test_withdailyreturns[\"y_pred_prob_bereinigt\"]  # **2\n",
    "\n",
    "    # Add and Calculate Transaction Costs based on the Bitcoin Price in USD\n",
    "    df_y_test_withdailyreturns['Transaction Costs in USD'] = df_y_test_withdailyreturns['Einsatz']*0.00027*2\n",
    "\n",
    "    # Create List of Multiple Thresholds\n",
    "    # A Threshold of 0.7 means that only predicted probabilites with more than 0.7 or less than 0.3 are considered further\n",
    "    list_thresholdcalc = [0.5, 0.51, 0.52, 0.53]\n",
    "\n",
    "    # Try and Except Block to Address Cases in Which a Data Frame does NOT Contain Any Values Because No predicted Probability Meets the Threshold Requirements\n",
    "    try:\n",
    "\n",
    "        # For Loop Over List\n",
    "        for thresholdcalc in list_thresholdcalc:\n",
    "\n",
    "            # Creation of a Data Frame Containing Only Probability Predictions Which Meet the Threshold Requirements\n",
    "            df_y_test_probaall = df_y_test.loc[(df_y_test['y_pred_prob'] > thresholdcalc) | (\n",
    "                df_y_test['y_pred_prob'] < 1-thresholdcalc)]\n",
    "\n",
    "            # Calculation Of Accuracy Only for the Data Subset Meeting Threshold Requirements\n",
    "            acc_calc = len(df_y_test_probaall[df_y_test_probaall['Class']\n",
    "                                              == df_y_test_probaall['y_pred']]) / len(df_y_test_probaall)\n",
    "\n",
    "            print(\"Threshold of:\", thresholdcalc)\n",
    "            print(classification_report(\n",
    "                df_y_test_probaall[\"Class\"], df_y_test_probaall[\"y_pred\"]))\n",
    "\n",
    "            # Creation of Another Data Frame including Returns and Transaction Costs\n",
    "            # Only For Probability Predicitons that Meet the Threshold Requirements\n",
    "            df_y_test_probaall_withdailyreturns = df_y_test_withdailyreturns.loc[(\n",
    "                df_y_test_withdailyreturns['y_pred_prob'] > thresholdcalc) | (df_y_test_withdailyreturns['y_pred_prob'] < 1-thresholdcalc)]\n",
    "\n",
    "            # Trading Assumption: Bet Amount = 1 Bitcoin for Each Prediction\n",
    "            # Select Daily Returns Only From True Predictions Where Predicted Class equals Actual Class.\n",
    "            # It does not matter whether Daily Returns are Positive or Negative as Short-Selling Option Allows To Profit From Falling Prices\n",
    "            profit = df_y_test_probaall_withdailyreturns[\"percentage_daily_return\"][\n",
    "                df_y_test_probaall_withdailyreturns['Class'] == df_y_test_probaall_withdailyreturns['y_pred']].abs().sum()\n",
    "\n",
    "            # Select  Daily Returns Only From False Predictions Where Predicted Class equals Actual Class\n",
    "            loss = df_y_test_probaall_withdailyreturns[\"percentage_daily_return\"][df_y_test_probaall_withdailyreturns['Class']\n",
    "                                                                                  != df_y_test_probaall_withdailyreturns['y_pred']].abs().sum()\n",
    "\n",
    "            print(\"prestake profit-loss {:.2f} x\".format(profit-loss))\n",
    "\n",
    "            if thresholdcalc == 0.5:\n",
    "                prestakepercentlist.append(int((profit-loss)*100))\n",
    "            if thresholdcalc == 0.51:\n",
    "                prestakepercentlist51.append(int((profit-loss)*100))\n",
    "            if thresholdcalc == 0.52:\n",
    "                prestakepercentlist52.append(int((profit-loss)*100))\n",
    "            if thresholdcalc == 0.53:\n",
    "                prestakepercentlist53.append(int((profit-loss)*100))\n",
    "\n",
    "            loss = loss * einsatz\n",
    "            profit = profit * einsatz\n",
    "\n",
    "            # Calculation of Transaction Costs based On BTC Value in USD. Each Future Trade considers Transaction Costs twice, becauase of Buying and Selling the Future\n",
    "            transaction_costs = df_y_test_probaall_withdailyreturns['Transaction Costs in USD'].sum(\n",
    "            )\n",
    "\n",
    "            # Calculation of Total Profit Considering Profit, Loss and Transaction Costs\n",
    "            total = profit-loss-transaction_costs\n",
    "\n",
    "            # In addition, the same setting with different time horizon\n",
    "            currentpreds_all = df_y_test_probaall_withdailyreturns[\n",
    "                df_y_test_probaall_withdailyreturns.index >= spec_start_date]\n",
    "\n",
    "            # the len\n",
    "            currentpreds_all_count = len(currentpreds_all)\n",
    "\n",
    "            # Analog to Profit Calculation Above\n",
    "            currentpreds_winning_total = currentpreds_all[\"percentage_daily_return\"][(\n",
    "                currentpreds_all['Class'] == currentpreds_all['y_pred'])].abs().sum()\n",
    "            # Analog to Loss Calculation Above\n",
    "            currentpreds_loosing_total = currentpreds_all[\"percentage_daily_return\"][(\n",
    "                currentpreds_all['Class'] != currentpreds_all['y_pred'])].abs().sum()\n",
    "            # Analog to Calculation of Transaction Costs Above\n",
    "            currentpreds_transaction_costs = currentpreds_all['Transaction Costs in USD'][(\n",
    "                currentpreds_all['Class'] != currentpreds_all['y_pred'])].abs().sum()\n",
    "\n",
    "            currentpreds_loosing_total = currentpreds_loosing_total * einsatz\n",
    "            currentpreds_winning_total = currentpreds_winning_total * einsatz\n",
    "\n",
    "            # Analog to Calculation of Total Profit\n",
    "            currentpreds_total = currentpreds_winning_total - \\\n",
    "                currentpreds_loosing_total-currentpreds_transaction_costs\n",
    "            \n",
    "            print(\"currentpreds_winning_total {} - currentpreds_loosing_total {} -currentpreds_transaction_costs {} \".format(\n",
    "            currentpreds_winning_total, currentpreds_loosing_total, currentpreds_transaction_costs))\n",
    "\n",
    "            # Condition\n",
    "            # In Case the Shorter Time Horizon Does Not Include any Sample -> Empyt Output\n",
    "            if currentpreds_all_count == 0:\n",
    "                currentpreds_all_count = '-'\n",
    "                current_acc_calc = '-'\n",
    "\n",
    "            # Otherwise Calculation of Accuracy analog to theeins Accuracy Calculation for the Entire Period\n",
    "            else:\n",
    "                current_acc_calc = (len(currentpreds_all[\"Daily Return in USD\"][(\n",
    "                    currentpreds_all['Class'] == currentpreds_all['y_pred'])]))/currentpreds_all_count\n",
    "\n",
    "            # Display of Threshold, Total Profit, Profit, Loss, Transaction Costs, Accuracy and Correct Number of Predictions Both for the Specified Time Horizon and the Entire Time\n",
    "            print(\"SpecPeriod:\")\n",
    "            print(\"einsatz\", int(currentpreds_all[\"Einsatz\"].sum()), \"Total Return in SpecPeriod:\", int(currentpreds_total), \"/ Profit: \", int(currentpreds_winning_total), \"/ Loss: \", int(currentpreds_loosing_total), \"/ TransCosts: \", int(currentpreds_transaction_costs),\n",
    "                  \"/ #CorrectPreds:\", (len(currentpreds_all[\"Daily Return in USD\"][(currentpreds_all['Class'] == currentpreds_all['y_pred'])])), \"of\", len(currentpreds_all))\n",
    "\n",
    "            print(\"CalcAccuracy {:.2f} -- profit in %/bet: {:.2f}\".format(current_acc_calc, 100*(int(\n",
    "                currentpreds_total) / len(currentpreds_all)) / (currentpreds_all[\"Einsatz\"].sum() / len(currentpreds_all))))\n",
    "            print(\"einsatz * 1+profit% ^ # wetten {:.2f}\".format(einsatz*(1+(int(currentpreds_total) / len(currentpreds_all)) / (\n",
    "                currentpreds_all[\"Einsatz\"].sum() / len(currentpreds_all))) ** len(currentpreds_all)))\n",
    "\n",
    "            if thresholdcalc == 0.5:\n",
    "                current_profitpercent.append(100*(int(currentpreds_total) / len(\n",
    "                    currentpreds_all)) / (currentpreds_all[\"Einsatz\"].sum() / len(currentpreds_all)))\n",
    "            if thresholdcalc == 0.51:\n",
    "                current_profitpercent51.append(100*(int(currentpreds_total) / len(\n",
    "                    currentpreds_all)) / (currentpreds_all[\"Einsatz\"].sum() / len(currentpreds_all)))\n",
    "            if thresholdcalc == 0.52:\n",
    "                current_profitpercent52.append(100*(int(currentpreds_total) / len(\n",
    "                    currentpreds_all)) / (currentpreds_all[\"Einsatz\"].sum() / len(currentpreds_all)))\n",
    "            if thresholdcalc == 0.53:\n",
    "                current_profitpercent53.append(100*(int(currentpreds_total) / len(\n",
    "                    currentpreds_all)) / (currentpreds_all[\"Einsatz\"].sum() / len(currentpreds_all)))\n",
    "\n",
    "            print()\n",
    "            print(\"Entire Period:\")\n",
    "            print(\"einsatz\", int(df_y_test_probaall_withdailyreturns[\"Einsatz\"].sum()), \"TotReturn:\", int(total), \"/ Profit: \", int(profit), \"/ Loss: \", int(loss), \"/ TransCosts: \", int(\n",
    "                transaction_costs), \"/ CalcAccuracy\", round(acc_calc, 2), \"/ #CorrectPreds:\", len(df_y_test_probaall[df_y_test_probaall['Class'] == df_y_test_probaall['y_pred']]),  \"Of\", len(df_y_test_probaall))\n",
    "            print(\"einsatz/bet\", df_y_test_probaall_withdailyreturns[\"Einsatz\"].sum() / len(df_y_test_probaall), \"TotReturn / bet\", int(total) / len(\n",
    "                df_y_test_probaall), \"/ TranCosts / bet \", int(transaction_costs) / len(df_y_test_probaall), \"/ CalcuAcc\", round(acc_calc, 2))\n",
    "            print(\"profit in %/bet: {:.2f}\".format(100*(int(total) / len(df_y_test_probaall)) / (\n",
    "                df_y_test_probaall_withdailyreturns[\"Einsatz\"].sum() / len(df_y_test_probaall))))\n",
    "\n",
    "            if thresholdcalc == 0.5:\n",
    "                profitpercent.append(100*(int(total) / len(df_y_test_probaall)) / (\n",
    "                    df_y_test_probaall_withdailyreturns[\"Einsatz\"].sum() / len(df_y_test_probaall)))\n",
    "            if thresholdcalc == 0.51:\n",
    "                profitpercent51.append(100*(int(total) / len(df_y_test_probaall)) / (\n",
    "                    df_y_test_probaall_withdailyreturns[\"Einsatz\"].sum() / len(df_y_test_probaall)))\n",
    "            if thresholdcalc == 0.52:\n",
    "                profitpercent52.append(100*(int(total) / len(df_y_test_probaall)) / (\n",
    "                    df_y_test_probaall_withdailyreturns[\"Einsatz\"].sum() / len(df_y_test_probaall)))\n",
    "            if thresholdcalc == 0.53:\n",
    "                profitpercent53.append(100*(int(total) / len(df_y_test_probaall)) / (\n",
    "                    df_y_test_probaall_withdailyreturns[\"Einsatz\"].sum() / len(df_y_test_probaall)))\n",
    "\n",
    "            print(\"einsatz * 1+profit% ^ # wetten {:.2f}\".format(einsatz*(1+(int(total) / len(df_y_test_probaall)) / (\n",
    "                df_y_test_probaall_withdailyreturns[\"Einsatz\"].sum() / len(df_y_test_probaall))) ** len(df_y_test_probaall)))\n",
    "            if thresholdcalc == 0.5:\n",
    "                zinseszins.append(einsatz*(1+(int(total) / len(df_y_test_probaall)) / (\n",
    "                    df_y_test_probaall_withdailyreturns[\"Einsatz\"].sum() / len(df_y_test_probaall))) ** len(df_y_test_probaall))\n",
    "\n",
    "                current_zinseszins.append(einsatz*(1+(int(currentpreds_total) / len(currentpreds_all)) / (\n",
    "                    currentpreds_all[\"Einsatz\"].sum() / len(currentpreds_all))) ** len(currentpreds_all))\n",
    "\n",
    "            print()\n",
    "            print()\n",
    "\n",
    "            # Store All Calculated Values For Every Variable of Every Run\n",
    "            # Specified Period\n",
    "            # Threshold = 0.5\n",
    "            if thresholdcalc == 0.5:\n",
    "                spec_list_05_total.append(currentpreds_total)\n",
    "                spec_list_05_profit.append(currentpreds_winning_total)\n",
    "                spec_list_05_loss.append(currentpreds_loosing_total)\n",
    "                spec_list_05_trans.append(currentpreds_transaction_costs)\n",
    "                spec_list_05_acc.append(current_acc_calc)\n",
    "                spec_list_05_preds_corr.append((len(df_y_test_probaall_withdailyreturns[\"Daily Return in USD\"][(\n",
    "                    df_y_test_probaall_withdailyreturns.index >= spec_start_date) & (df_y_test_probaall_withdailyreturns['Class'] == df_y_test_probaall_withdailyreturns['y_pred'])])))\n",
    "                spec_list_05_preds.append(currentpreds_all_count)\n",
    "                # Entire Period:\n",
    "                list_05_total.append(total)\n",
    "                list_05_profit.append(profit)\n",
    "                list_05_loss.append(loss)\n",
    "                list_05_trans.append(transaction_costs)\n",
    "                list_05_acc.append(acc_calc)\n",
    "                list_05_preds_corr.append(len(\n",
    "                    df_y_test_probaall[df_y_test_probaall['Class'] == df_y_test_probaall['y_pred']]))\n",
    "                list_05_preds.append(len(df_y_test_probaall))\n",
    "\n",
    "            # Threshold = 0.6\n",
    "            if thresholdcalc == 0.51:\n",
    "                spec_list_06_total.append(currentpreds_total)\n",
    "                spec_list_06_profit.append(currentpreds_winning_total)\n",
    "                spec_list_06_loss.append(currentpreds_loosing_total)\n",
    "                spec_list_06_trans.append(currentpreds_transaction_costs)\n",
    "                spec_list_06_acc.append(current_acc_calc)\n",
    "                spec_list_06_preds_corr.append((len(df_y_test_probaall_withdailyreturns[\"Daily Return in USD\"][(\n",
    "                    df_y_test_probaall_withdailyreturns.index >= spec_start_date) & (df_y_test_probaall_withdailyreturns['Class'] == df_y_test_probaall_withdailyreturns['y_pred'])])))\n",
    "                spec_list_06_preds.append(currentpreds_all_count)\n",
    "                # Entire Period:\n",
    "                list_06_total.append(total)\n",
    "                list_06_profit.append(profit)\n",
    "                list_06_loss.append(loss)\n",
    "                list_06_trans.append(transaction_costs)\n",
    "                list_06_acc.append(acc_calc)\n",
    "                list_06_preds_corr.append(len(\n",
    "                    df_y_test_probaall[df_y_test_probaall['Class'] == df_y_test_probaall['y_pred']]))\n",
    "                list_06_preds.append(len(df_y_test_probaall))\n",
    "\n",
    "                zinseszins51.append(einsatz*(1+(int(total) / len(df_y_test_probaall)) / (\n",
    "                    df_y_test_probaall_withdailyreturns[\"Einsatz\"].sum() / len(df_y_test_probaall))) ** len(df_y_test_probaall))\n",
    "\n",
    "                current_zinseszins51.append(einsatz*(1+(int(currentpreds_total) / len(currentpreds_all)) / (\n",
    "                    currentpreds_all[\"Einsatz\"].sum() / len(currentpreds_all))) ** len(currentpreds_all))\n",
    "\n",
    "            # Threshold = 0.7\n",
    "            if thresholdcalc == 0.52:\n",
    "                spec_list_07_total.append(currentpreds_total)\n",
    "                spec_list_07_profit.append(currentpreds_winning_total)\n",
    "                spec_list_07_loss.append(currentpreds_loosing_total)\n",
    "                spec_list_07_trans.append(currentpreds_transaction_costs)\n",
    "                spec_list_07_acc.append(current_acc_calc)\n",
    "                spec_list_07_preds_corr.append((len(df_y_test_probaall_withdailyreturns[\"Daily Return in USD\"][(\n",
    "                    df_y_test_probaall_withdailyreturns.index >= spec_start_date) & (df_y_test_probaall_withdailyreturns['Class'] == df_y_test_probaall_withdailyreturns['y_pred'])])))\n",
    "                spec_list_07_preds.append(currentpreds_all_count)\n",
    "                # Entire Period:\n",
    "                list_07_total.append(total)\n",
    "                list_07_profit.append(profit)\n",
    "                list_07_loss.append(loss)\n",
    "                list_07_trans.append(transaction_costs)\n",
    "                list_07_acc.append(acc_calc)\n",
    "                list_07_preds_corr.append(len(\n",
    "                    df_y_test_probaall[df_y_test_probaall['Class'] == df_y_test_probaall['y_pred']]))\n",
    "                list_07_preds.append(len(df_y_test_probaall))\n",
    "                zinseszins52.append(einsatz*(1+(int(total) / len(df_y_test_probaall)) / (\n",
    "                    df_y_test_probaall_withdailyreturns[\"Einsatz\"].sum() / len(df_y_test_probaall))) ** len(df_y_test_probaall))\n",
    "\n",
    "                current_zinseszins52.append(einsatz*(1+(int(currentpreds_total) / len(currentpreds_all)) / (\n",
    "                    currentpreds_all[\"Einsatz\"].sum() / len(currentpreds_all))) ** len(currentpreds_all))\n",
    "\n",
    "            # Threshold = 0.8\n",
    "            if thresholdcalc == 0.53:\n",
    "                spec_list_08_total.append(currentpreds_total)\n",
    "                spec_list_08_profit.append(currentpreds_winning_total)\n",
    "                spec_list_08_loss.append(currentpreds_loosing_total)\n",
    "                spec_list_08_trans.append(currentpreds_transaction_costs)\n",
    "                spec_list_08_acc.append(current_acc_calc)\n",
    "                spec_list_08_preds_corr.append((len(df_y_test_probaall_withdailyreturns[\"Daily Return in USD\"][(\n",
    "                    df_y_test_probaall_withdailyreturns.index >= spec_start_date) & (df_y_test_probaall_withdailyreturns['Class'] == df_y_test_probaall_withdailyreturns['y_pred'])])))\n",
    "                spec_list_08_preds.append(currentpreds_all_count)\n",
    "                # Entire Period:\n",
    "                list_08_total.append(total)\n",
    "                list_08_profit.append(profit)\n",
    "                list_08_loss.append(loss)\n",
    "                list_08_trans.append(transaction_costs)\n",
    "                list_08_acc.append(acc_calc)\n",
    "                list_08_preds_corr.append(len(\n",
    "                    df_y_test_probaall[df_y_test_probaall['Class'] == df_y_test_probaall['y_pred']]))\n",
    "                list_08_preds.append(len(df_y_test_probaall))\n",
    "                zinseszins53.append(einsatz*(1+(int(total) / len(df_y_test_probaall)) / (\n",
    "                    df_y_test_probaall_withdailyreturns[\"Einsatz\"].sum() / len(df_y_test_probaall))) ** len(df_y_test_probaall))\n",
    "\n",
    "                current_zinseszins53.append(einsatz*(1+(int(currentpreds_total) / len(currentpreds_all)) / (\n",
    "                    currentpreds_all[\"Einsatz\"].sum() / len(currentpreds_all))) ** len(currentpreds_all))\n",
    "\n",
    "    except:\n",
    "        print(\"error\")\n",
    "    print()\n",
    "    print()\n"
   ]
  },
  {
   "cell_type": "code",
   "execution_count": null,
   "metadata": {},
   "outputs": [],
   "source": []
  },
  {
   "cell_type": "code",
   "execution_count": null,
   "metadata": {},
   "outputs": [],
   "source": []
  },
  {
   "cell_type": "code",
   "execution_count": null,
   "metadata": {
    "ExecuteTime": {
     "end_time": "2020-12-26T19:31:28.628694Z",
     "start_time": "2020-12-26T19:31:28.615729Z"
    }
   },
   "outputs": [],
   "source": [
    "# einsatz = 1000\n",
    "# prestakepercentlist = []\n",
    "# zinseszins = []\n",
    "# profitpercent = []\n",
    "# current_profitpercent = []\n",
    "# spec_start_date = '2019-09-09'\n",
    "\n",
    "\n",
    "# # For Loop to Simulate K-fold Cross Validation\n",
    "# for x in range(1, 2):\n",
    "\n",
    "#     # Display Number of Runs\n",
    "#     print(\"Run:\", x)\n",
    "\n",
    "#     # Split Data into Training and Testing\n",
    "#     X_train, X_test, y_train, y_test = train_test_split(\n",
    "#         predictors, target, test_size=0.3, stratify=target)\n",
    "\n",
    "#     # Amount of Columns\n",
    "#     n_nodes = predictors.shape[1]\n",
    "\n",
    "#     # Instantiation of MinMaxScaler\n",
    "#     norm_scaler = MinMaxScaler()\n",
    "\n",
    "#     # Training and Application of Feature Scaler on Training Data of Predictors\n",
    "#     X_train_scaled = pd.DataFrame(norm_scaler.fit_transform(X_train))\n",
    "#     X_train_scaled = X_train\n",
    "\n",
    "#     # Application of Feature Scaler on Test Data of Predictors\n",
    "#     X_test_scaled = norm_scaler.transform(X_test)\n",
    "#     X_test_scaled = X_test\n",
    "\n",
    "#     # Instantiate Classifier Logistic Regression\n",
    "#     lreg = XGBClassifier(base_score=0.5, booster='gbtree', colsample_bylevel=1,\n",
    "#                          colsample_bynode=1, colsample_bytree=0.7, gamma=0, gpu_id=-1,\n",
    "#                          importance_type='gain', interaction_constraints='',\n",
    "#                          learning_rate=0.01, max_delta_step=0, max_depth=3,\n",
    "#                          min_child_weight=1, monotone_constraints='()',\n",
    "#                          n_estimators=200, n_jobs=0, num_parallel_tree=1,\n",
    "#                          objective='reg:squarederror', random_state=0, reg_alpha=0,\n",
    "#                          reg_lambda=1, scale_pos_weight=1, subsample=0.7,\n",
    "#                          tree_method='exact', validate_parameters=1, verbosity=None)\n",
    "\n",
    "#     # Train Classifier\n",
    "#     lreg.fit(X_train_scaled, y_train)\n",
    "\n",
    "#     # Prediction of Classes\n",
    "#     y_pred = lreg.predict(X_test_scaled)\n",
    "\n",
    "#     # Display Confusion Matrix and Classification Report\n",
    "#     print(confusion_matrix(y_test, y_pred))\n",
    "# #     print(classification_report(y_test, y_pred))\n",
    "\n",
    "#     # Prediction of Probabilities\n",
    "#     y_pred_prob = lreg.predict_proba(X_test_scaled)[:, 1]\n",
    "\n",
    "#     # Create Data Frame of Actual Values - y_test\n",
    "#     df_y_test = pd.DataFrame(y_test)\n",
    "\n",
    "#     # Add Predicted Probabilities to Data Frame\n",
    "#     df_y_test[\"y_pred_prob\"] = y_pred_prob\n",
    "\n",
    "#     # Add Predicted Classes (0 or 1) to Data Frame to Cross-Check Predicted Probabilities\n",
    "#     df_y_test[\"y_pred\"] = y_pred\n",
    "\n",
    "#     # Select Actual Daily Returns in USD from the Data Set Copy\n",
    "#     df_dataset1_copy_dailyreturns = df_dataset1_copy[['Daily Return in USD']]\n",
    "\n",
    "#     # Merge Predictions and Daily Returns Data Frame on the Column \"Date\"\n",
    "#     df_y_test_withdailyreturns = pd.merge(\n",
    "#         df_y_test, df_dataset1_copy_dailyreturns, on='Date')\n",
    "\n",
    "#     df_dataset1_copy_percentage = df_dataset1_copy[['percentage_daily_return']]\n",
    "#     df_y_test_withdailyreturns = pd.merge(\n",
    "#         df_y_test_withdailyreturns, df_dataset1_copy_percentage, on='Date')\n",
    "\n",
    "#     # Add Bitcoin Price in USD\n",
    "#     df_y_test_withdailyreturns = pd.merge(\n",
    "#         df_y_test_withdailyreturns, df_dataset1_copy['market/price_usd_close'], on='Date')\n",
    "\n",
    "#     df_y_test_withdailyreturns['y_pred_prob_bereinigt'] = np.where(\n",
    "#         df_y_test_withdailyreturns['y_pred_prob'] < 0.5, 1-df_y_test_withdailyreturns['y_pred_prob'], df_y_test_withdailyreturns['y_pred_prob'])\n",
    "\n",
    "#     df_y_test_withdailyreturns[\"Einsatz\"] = einsatz #* \\\n",
    "#         #df_y_test_withdailyreturns[\"y_pred_prob_bereinigt\"]  # **2\n",
    "\n",
    "#     # Add and Calculate Transaction Costs based on the Bitcoin Price in USD\n",
    "#     df_y_test_withdailyreturns['Transaction Costs in USD'] = df_y_test_withdailyreturns['Einsatz']*0.0003*2\n",
    "\n",
    "#     # Create List of Multiple Thresholds\n",
    "#     # A Threshold of 0.7 means that only predicted probabilites with more than 0.7 or less than 0.3 are considered further\n",
    "#     list_thresholdcalc = [0.5]\n",
    "\n",
    "#     # Try and Except Block to Address Cases in Which a Data Frame does NOT Contain Any Values Because No predicted Probability Meets the Threshold Requirements\n",
    "#     try:\n",
    "\n",
    "#         # For Loop Over List\n",
    "#         for thresholdcalc in list_thresholdcalc:\n",
    "\n",
    "#             # Creation of a Data Frame Containing Only Probability Predictions Which Meet the Threshold Requirements\n",
    "#             df_y_test_probaall = df_y_test.loc[(df_y_test['y_pred_prob'] > thresholdcalc) | (\n",
    "#                 df_y_test['y_pred_prob'] < 1-thresholdcalc)]\n",
    "\n",
    "#             # Calculation Of Accuracy Only for the Data Subset Meeting Threshold Requirements\n",
    "#             acc_calc = len(df_y_test_probaall[df_y_test_probaall['Class']\n",
    "#                                               == df_y_test_probaall['y_pred']]) / len(df_y_test_probaall)\n",
    "\n",
    "#             print(\"Threshold of:\", thresholdcalc)\n",
    "#             print(classification_report(\n",
    "#                 df_y_test_probaall[\"Class\"], df_y_test_probaall[\"y_pred\"]))\n",
    "\n",
    "#             # Creation of Another Data Frame including Returns and Transaction Costs\n",
    "#             # Only For Probability Predicitons that Meet the Threshold Requirements\n",
    "#             df_y_test_probaall_withdailyreturns = df_y_test_withdailyreturns.loc[(\n",
    "#                 df_y_test_withdailyreturns['y_pred_prob'] > thresholdcalc) | (df_y_test_withdailyreturns['y_pred_prob'] < 1-thresholdcalc)]\n",
    "\n",
    "#             # Trading Assumption: Bet Amount = 1 Bitcoin for Each Prediction\n",
    "#             # Select Daily Returns Only From True Predictions Where Predicted Class equals Actual Class.\n",
    "#             # It does not matter whether Daily Returns are Positive or Negative as Short-Selling Option Allows To Profit From Falling Prices\n",
    "#             profit = df_y_test_probaall_withdailyreturns[\"percentage_daily_return\"][\n",
    "#                 df_y_test_probaall_withdailyreturns['Class'] == df_y_test_probaall_withdailyreturns['y_pred']].abs().sum()\n",
    "\n",
    "#             # Select  Daily Returns Only From False Predictions Where Predicted Class equals Actual Class\n",
    "#             loss = df_y_test_probaall_withdailyreturns[\"percentage_daily_return\"][df_y_test_probaall_withdailyreturns['Class']\n",
    "#                                                                                   != df_y_test_probaall_withdailyreturns['y_pred']].abs().sum()\n",
    "\n",
    "#             print(\"prestake profit-loss {:.2f} x\".format(profit-loss))\n",
    "\n",
    "#             if thresholdcalc == 0.5:\n",
    "#                 prestakepercentlist.append(int((profit-loss)*100))\n",
    "            \n",
    "\n",
    "#             loss = loss * einsatz\n",
    "#             profit = profit * einsatz\n",
    "\n",
    "#             # Calculation of Transaction Costs based On BTC Value in USD. Each Future Trade considers Transaction Costs twice, becauase of Buying and Selling the Future\n",
    "#             transaction_costs = df_y_test_probaall_withdailyreturns['Transaction Costs in USD'].sum(\n",
    "#             )\n",
    "\n",
    "#             # Calculation of Total Profit Considering Profit, Loss and Transaction Costs\n",
    "#             total = profit-loss-transaction_costs\n",
    "\n",
    "#             print()\n",
    "#             print(\"Entire Period:\")\n",
    "#             print(\"einsatz\", int(df_y_test_probaall_withdailyreturns[\"Einsatz\"].sum()), \"TotReturn:\", int(total), \"/ Profit: \", int(profit), \"/ Loss: \", int(loss), \"/ TransCosts: \", int(\n",
    "#                 transaction_costs), \"/ CalcAccuracy\", round(acc_calc, 2), \"/ #CorrectPreds:\", len(df_y_test_probaall[df_y_test_probaall['Class'] == df_y_test_probaall['y_pred']]),  \"Of\", len(df_y_test_probaall))\n",
    "#             print(\"einsatz/bet\", df_y_test_probaall_withdailyreturns[\"Einsatz\"].sum() / len(df_y_test_probaall), \"TotReturn / bet\", int(total) / len(\n",
    "#                 df_y_test_probaall), \"/ TranCosts / bet \", int(transaction_costs) / len(df_y_test_probaall), \"/ CalcuAcc\", round(acc_calc, 2))\n",
    "#             print(\"profit in %/bet: {:.2f}\".format(100*(int(total) / len(df_y_test_probaall)) / (\n",
    "#                 df_y_test_probaall_withdailyreturns[\"Einsatz\"].sum() / len(df_y_test_probaall))))\n",
    "\n",
    "#             if thresholdcalc == 0.5:\n",
    "#                 profitpercent.append(100*(int(total) / len(df_y_test_probaall)) / (\n",
    "#                     df_y_test_probaall_withdailyreturns[\"Einsatz\"].sum() / len(df_y_test_probaall)))\n",
    "\n",
    "#             print(\"einsatz * 1+profit% ^ # wetten {:.2f}\".format(einsatz*(1+(int(total) / len(df_y_test_probaall)) / (\n",
    "#                 df_y_test_probaall_withdailyreturns[\"Einsatz\"].sum() / len(df_y_test_probaall))) ** len(df_y_test_probaall)))\n",
    "#             zinseszins.append(einsatz*(1+(int(total) / len(df_y_test_probaall)) / (\n",
    "#                 df_y_test_probaall_withdailyreturns[\"Einsatz\"].sum() / len(df_y_test_probaall))) ** len(df_y_test_probaall))\n",
    "\n",
    "#             # Store All Calculated Values For Every Variable of Every Run\n",
    "#             # Specified Period\n",
    "#             # Threshold = 0.5\n",
    "#             if thresholdcalc == 0.5:\n",
    "#                 # Entire Period:\n",
    "#                 list_05_total.append(total)\n",
    "#                 list_05_profit.append(profit)\n",
    "#                 list_05_loss.append(loss)\n",
    "#                 list_05_trans.append(transaction_costs)\n",
    "#                 list_05_acc.append(acc_calc)\n",
    "#                 list_05_preds_corr.append(len(\n",
    "#                     df_y_test_probaall[df_y_test_probaall['Class'] == df_y_test_probaall['y_pred']]))\n",
    "#                 list_05_preds.append(len(df_y_test_probaall))\n",
    "\n",
    "#     except:\n",
    "#         print(\"error\")\n"
   ]
  },
  {
   "cell_type": "code",
   "execution_count": null,
   "metadata": {
    "ExecuteTime": {
     "end_time": "2020-12-26T19:31:28.644651Z",
     "start_time": "2020-12-26T19:31:28.630688Z"
    }
   },
   "outputs": [],
   "source": [
    "# df_y_test_probaall_withdailyreturns[\"percentage_daily_return\"][\n",
    "#                 df_y_test_probaall_withdailyreturns['Class'] == df_y_test_probaall_withdailyreturns['y_pred']].abs().sum()"
   ]
  },
  {
   "cell_type": "code",
   "execution_count": null,
   "metadata": {
    "ExecuteTime": {
     "end_time": "2020-12-26T19:31:28.660638Z",
     "start_time": "2020-12-26T19:31:28.646645Z"
    }
   },
   "outputs": [],
   "source": [
    "# df_y_test_probaall_withdailyreturns[\"percentage_daily_return\"][\n",
    "#                 df_y_test_probaall_withdailyreturns['Class'] == df_y_test_probaall_withdailyreturns['y_pred']].abs()"
   ]
  },
  {
   "cell_type": "code",
   "execution_count": null,
   "metadata": {
    "ExecuteTime": {
     "end_time": "2020-12-26T19:31:28.676595Z",
     "start_time": "2020-12-26T19:31:28.662602Z"
    }
   },
   "outputs": [],
   "source": [
    "# df_y_test_probaall_withdailyreturns[\"percentage_daily_return\"].sort_values()"
   ]
  },
  {
   "cell_type": "code",
   "execution_count": null,
   "metadata": {
    "ExecuteTime": {
     "end_time": "2020-12-26T19:31:28.692552Z",
     "start_time": "2020-12-26T19:31:28.678560Z"
    }
   },
   "outputs": [],
   "source": [
    "len(profitpercent)\n",
    "len(current_profitpercent)"
   ]
  },
  {
   "cell_type": "code",
   "execution_count": null,
   "metadata": {
    "ExecuteTime": {
     "end_time": "2020-12-26T19:31:28.708482Z",
     "start_time": "2020-12-26T19:31:28.693552Z"
    }
   },
   "outputs": [],
   "source": [
    "len(predictors)"
   ]
  },
  {
   "cell_type": "code",
   "execution_count": null,
   "metadata": {
    "ExecuteTime": {
     "end_time": "2020-12-26T19:31:28.724466Z",
     "start_time": "2020-12-26T19:31:28.710475Z"
    }
   },
   "outputs": [],
   "source": [
    "len(y_test)"
   ]
  },
  {
   "cell_type": "code",
   "execution_count": null,
   "metadata": {
    "ExecuteTime": {
     "end_time": "2020-12-26T19:31:28.740424Z",
     "start_time": "2020-12-26T19:31:28.725481Z"
    }
   },
   "outputs": [],
   "source": [
    "len(df_y_test_withdailyreturns)"
   ]
  },
  {
   "cell_type": "code",
   "execution_count": null,
   "metadata": {
    "ExecuteTime": {
     "end_time": "2020-12-26T19:31:28.771312Z",
     "start_time": "2020-12-26T19:31:28.741424Z"
    }
   },
   "outputs": [],
   "source": [
    "df_lost = df_y_test_withdailyreturns[df_y_test_withdailyreturns[\"Class\"] != df_y_test_withdailyreturns[\"y_pred\"]]\n",
    "df_lost.sort_values('percentage_daily_return')"
   ]
  },
  {
   "cell_type": "code",
   "execution_count": null,
   "metadata": {
    "ExecuteTime": {
     "end_time": "2020-12-26T19:31:28.802379Z",
     "start_time": "2020-12-26T19:31:28.772339Z"
    }
   },
   "outputs": [],
   "source": [
    "df_y_test_withdailyreturns[df_y_test_withdailyreturns[\"Class\"] == df_y_test_withdailyreturns[\"y_pred\"]]"
   ]
  },
  {
   "cell_type": "code",
   "execution_count": null,
   "metadata": {},
   "outputs": [],
   "source": []
  },
  {
   "cell_type": "code",
   "execution_count": null,
   "metadata": {},
   "outputs": [],
   "source": []
  },
  {
   "cell_type": "markdown",
   "metadata": {},
   "source": [
    "# save to csv"
   ]
  },
  {
   "cell_type": "code",
   "execution_count": null,
   "metadata": {
    "ExecuteTime": {
     "end_time": "2020-12-26T19:33:51.368607Z",
     "start_time": "2020-12-26T19:31:28.803259Z"
    }
   },
   "outputs": [],
   "source": [
    "# Test Accuracy\n",
    "from sklearn.metrics import accuracy_score\n",
    "from xgboost import XGBClassifier\n",
    "\n",
    "accuarylist = []\n",
    "\n",
    "for x in range(30):\n",
    "    # Split Data into Training and Testing\n",
    "    X_train, X_test, y_train, y_test = train_test_split(\n",
    "        predictors, target, test_size=0.3, stratify=target)\n",
    "    \n",
    "    # Scaler Training and Transformation of Training Set\n",
    "    #X_train_scaled = pd.DataFrame(norm_scaler.fit_transform(X_train))\n",
    "    #X_test_scaled = pd.DataFrame(norm_scaler.fit_transform(X_test))\n",
    "    \n",
    "    # Train Classifier\n",
    "    lreg.fit(X_train, y_train)\n",
    "    y_pred = lreg.predict(X_test)\n",
    "    predictions = [round(value) for value in y_pred]\n",
    "    accuracy = accuracy_score(y_test, predictions)\n",
    "    accuarylist.append(accuracy * 100.0)\n",
    "\n",
    "mean_auc_10 = np.mean(accuarylist)\n",
    "mean_auc_10"
   ]
  },
  {
   "cell_type": "code",
   "execution_count": null,
   "metadata": {
    "ExecuteTime": {
     "end_time": "2020-12-26T19:33:51.384530Z",
     "start_time": "2020-12-26T19:33:51.369570Z"
    }
   },
   "outputs": [],
   "source": [
    "import statistics\n",
    "\n",
    "result_to_csv = []\n",
    "\n",
    "result_to_csv.append((\"statistics.median(prestakepercentlist)\", statistics.median(prestakepercentlist) ))\n",
    "result_to_csv.append((\"statistics.median(profitpercent)\", statistics.median(profitpercent) ))\n",
    "result_to_csv.append((\"statistics.median(zinseszins)\", statistics.median(zinseszins) ))\n",
    "result_to_csv.append((\"statistics.median(current_profitpercent)\", statistics.median(current_profitpercent) ))\n",
    "result_to_csv.append((\"statistics.median(current_zinseszins)\", statistics.median(current_zinseszins) ))\n",
    "result_to_csv.append((\"statistics.median(prestakepercentlist51)\", statistics.median(prestakepercentlist51) ))\n",
    "result_to_csv.append((\"statistics.median(profitpercent51)\", statistics.median(profitpercent51) ))\n",
    "result_to_csv.append((\"statistics.median(zinseszins51)\", statistics.median(zinseszins51) ))\n",
    "result_to_csv.append((\"statistics.median(current_profitpercent51)\", statistics.median(current_profitpercent51) ))\n",
    "result_to_csv.append((\"statistics.median(current_zinseszins51)\", statistics.median(current_zinseszins51) ))\n",
    "result_to_csv.append((\"statistics.median(prestakepercentlist52)\", statistics.median(prestakepercentlist52) ))\n",
    "result_to_csv.append((\"statistics.median(profitpercent52)\", statistics.median(profitpercent52) ))\n",
    "result_to_csv.append((\"statistics.median(zinseszins52)\", statistics.median(zinseszins52) ))\n",
    "result_to_csv.append((\"statistics.median(current_profitpercent52)\", statistics.median(current_profitpercent52) ))\n",
    "result_to_csv.append((\"statistics.median(current_zinseszins52)\", statistics.median(current_zinseszins52) ))\n",
    "result_to_csv.append((\"statistics.median(prestakepercentlist53)\", statistics.median(prestakepercentlist53) ))\n",
    "result_to_csv.append((\"statistics.median(profitpercent53)\", statistics.median(profitpercent53) ))\n",
    "result_to_csv.append((\"statistics.median(zinseszins53)\", statistics.median(zinseszins53) ))\n",
    "result_to_csv.append((\"statistics.median(current_profitpercent53)\", statistics.median(current_profitpercent53) ))\n",
    "result_to_csv.append((\"statistics.median(current_zinseszins53)\", statistics.median(current_zinseszins53) ))\n",
    "df_zusammen = pd.DataFrame(result_to_csv)"
   ]
  },
  {
   "cell_type": "code",
   "execution_count": null,
   "metadata": {
    "ExecuteTime": {
     "end_time": "2020-12-26T19:33:51.499013Z",
     "start_time": "2020-12-26T19:33:51.386525Z"
    }
   },
   "outputs": [],
   "source": [
    "import time\n",
    "\n",
    "df_zusammen[\"algo\"] = pd.Series([lreg]) \n",
    "df_zusammen[\"spec_start_date\"] = pd.Series([spec_start_date]) \n",
    "df_zusammen[\"X_train.shape\"] = pd.Series([X_train.shape]) \n",
    "df_zusammen[\"X_test.shape\"] = pd.Series([X_test.shape]) \n",
    "df_zusammen[\"mean_auc_10\"] = pd.Series([mean_auc_10]) \n",
    "df_zusammen[\"df_dataset1.columns\"] = pd.Series([df_dataset1.columns])\n",
    "\n",
    "out_path = \"{}_{}_ppd{}.xlsx\".format(int(time.time()), str(lreg)[:10], str(round( statistics.median(current_profitpercent), 2)) )\n",
    "\n",
    "writer = pd.ExcelWriter(out_path , engine='xlsxwriter')\n",
    "df_zusammen.to_excel(writer, sheet_name='Tabelle1')\n",
    "writer.save()"
   ]
  },
  {
   "cell_type": "code",
   "execution_count": null,
   "metadata": {},
   "outputs": [],
   "source": []
  },
  {
   "cell_type": "code",
   "execution_count": null,
   "metadata": {
    "ExecuteTime": {
     "end_time": "2020-12-26T19:33:51.514975Z",
     "start_time": "2020-12-26T19:33:51.501011Z"
    }
   },
   "outputs": [],
   "source": [
    "print( statistics.median(prestakepercentlist) )\n",
    "print( statistics.median(profitpercent) )\n",
    "print( statistics.median(zinseszins) )\n",
    "print( statistics.median(current_profitpercent) )\n",
    "print( statistics.median(current_zinseszins) )"
   ]
  },
  {
   "cell_type": "code",
   "execution_count": null,
   "metadata": {
    "ExecuteTime": {
     "end_time": "2020-12-26T19:33:51.529933Z",
     "start_time": "2020-12-26T19:33:51.516970Z"
    }
   },
   "outputs": [],
   "source": [
    "print( statistics.median(prestakepercentlist51) )\n",
    "print( statistics.median(profitpercent51) )\n",
    "print( statistics.median(zinseszins51) )\n",
    "print( statistics.median(current_profitpercent51) )\n",
    "print( statistics.median(current_zinseszins51) )"
   ]
  },
  {
   "cell_type": "code",
   "execution_count": null,
   "metadata": {
    "ExecuteTime": {
     "end_time": "2020-12-26T19:33:51.545525Z",
     "start_time": "2020-12-26T19:33:51.531929Z"
    }
   },
   "outputs": [],
   "source": [
    "print( statistics.median(prestakepercentlist52) )\n",
    "print( statistics.median(profitpercent52) )\n",
    "print( statistics.median(zinseszins52) )\n",
    "print( statistics.median(current_profitpercent52) )\n",
    "print( statistics.median(current_zinseszins52) )"
   ]
  },
  {
   "cell_type": "code",
   "execution_count": null,
   "metadata": {
    "ExecuteTime": {
     "end_time": "2020-12-26T19:33:51.560883Z",
     "start_time": "2020-12-26T19:33:51.546904Z"
    }
   },
   "outputs": [],
   "source": [
    "print( statistics.median(prestakepercentlist53) )\n",
    "print( statistics.median(profitpercent53) )\n",
    "print( statistics.median(zinseszins53) )\n",
    "print( statistics.median(current_profitpercent53) )\n",
    "print( statistics.median(current_zinseszins53) )"
   ]
  },
  {
   "cell_type": "code",
   "execution_count": null,
   "metadata": {},
   "outputs": [],
   "source": []
  },
  {
   "cell_type": "code",
   "execution_count": null,
   "metadata": {
    "ExecuteTime": {
     "end_time": "2020-12-26T19:38:16.067773Z",
     "start_time": "2020-12-26T19:38:16.047287Z"
    }
   },
   "outputs": [],
   "source": [
    "current_profitpercent"
   ]
  },
  {
   "cell_type": "code",
   "execution_count": null,
   "metadata": {
    "ExecuteTime": {
     "end_time": "2020-12-26T19:38:16.083731Z",
     "start_time": "2020-12-26T19:38:16.068771Z"
    }
   },
   "outputs": [],
   "source": [
    "currentpreds_all[\"Daily Return in USD\"][(\n",
    "    currentpreds_all['Class'] == currentpreds_all['y_pred'])].sort_values()"
   ]
  },
  {
   "cell_type": "code",
   "execution_count": null,
   "metadata": {
    "ExecuteTime": {
     "end_time": "2020-12-26T19:38:16.099816Z",
     "start_time": "2020-12-26T19:38:16.084728Z"
    },
    "scrolled": true
   },
   "outputs": [],
   "source": [
    "currentpreds_all[[\"Daily Return in USD\",'Class', \"y_pred\"]][(\n",
    "    currentpreds_all['Class'] != currentpreds_all['y_pred'])].sort_values(\"Daily Return in USD\")"
   ]
  },
  {
   "cell_type": "code",
   "execution_count": null,
   "metadata": {
    "ExecuteTime": {
     "end_time": "2020-12-26T19:38:16.115682Z",
     "start_time": "2020-12-26T19:38:16.101684Z"
    },
    "scrolled": true
   },
   "outputs": [],
   "source": [
    "currentpreds_all[\"percentage_daily_return\"][(\n",
    "    currentpreds_all['Class'] != currentpreds_all['y_pred'])].abs().sort_values(ascending=False)"
   ]
  },
  {
   "cell_type": "code",
   "execution_count": null,
   "metadata": {
    "ExecuteTime": {
     "end_time": "2020-12-26T19:38:16.131644Z",
     "start_time": "2020-12-26T19:38:16.116643Z"
    }
   },
   "outputs": [],
   "source": [
    "currentpreds_all[\"percentage_daily_return\"][(\n",
    "    currentpreds_all['Class'] == currentpreds_all['y_pred'])].abs().sort_values(ascending=False).head(30)"
   ]
  },
  {
   "cell_type": "code",
   "execution_count": null,
   "metadata": {
    "ExecuteTime": {
     "end_time": "2020-12-26T19:38:16.147596Z",
     "start_time": "2020-12-26T19:38:16.132738Z"
    }
   },
   "outputs": [],
   "source": [
    "currentpreds_all[\"percentage_daily_return\"][(\n",
    "    currentpreds_all['Class'] == currentpreds_all['y_pred'])].abs().sum()"
   ]
  },
  {
   "cell_type": "code",
   "execution_count": null,
   "metadata": {
    "ExecuteTime": {
     "end_time": "2020-12-26T19:38:16.163554Z",
     "start_time": "2020-12-26T19:38:16.148558Z"
    }
   },
   "outputs": [],
   "source": [
    "currentpreds_all[\"percentage_daily_return\"][(\n",
    "    currentpreds_all['Class'] != currentpreds_all['y_pred'])].abs().sum()"
   ]
  },
  {
   "cell_type": "markdown",
   "metadata": {},
   "source": [
    "# Deepdive in prediction"
   ]
  },
  {
   "cell_type": "code",
   "execution_count": null,
   "metadata": {
    "ExecuteTime": {
     "end_time": "2020-12-26T19:38:16.179511Z",
     "start_time": "2020-12-26T19:38:16.165523Z"
    }
   },
   "outputs": [],
   "source": [
    "current_profitpercent"
   ]
  },
  {
   "cell_type": "code",
   "execution_count": null,
   "metadata": {
    "ExecuteTime": {
     "end_time": "2020-12-26T19:38:16.195432Z",
     "start_time": "2020-12-26T19:38:16.180473Z"
    }
   },
   "outputs": [],
   "source": [
    "profitpercent"
   ]
  },
  {
   "cell_type": "code",
   "execution_count": null,
   "metadata": {
    "ExecuteTime": {
     "end_time": "2020-12-26T19:38:16.227380Z",
     "start_time": "2020-12-26T19:38:16.196429Z"
    }
   },
   "outputs": [],
   "source": [
    "df_y_test_withdailyreturns.sort_values(\"Daily Return in USD\")"
   ]
  },
  {
   "cell_type": "code",
   "execution_count": null,
   "metadata": {
    "ExecuteTime": {
     "end_time": "2020-12-26T19:38:16.243306Z",
     "start_time": "2020-12-26T19:38:16.228345Z"
    }
   },
   "outputs": [],
   "source": [
    "df_y_test_withdailyreturns[df_y_test_withdailyreturns[\"Class\"] != df_y_test_withdailyreturns[\"y_pred\"]].abs().sum()"
   ]
  },
  {
   "cell_type": "code",
   "execution_count": null,
   "metadata": {
    "ExecuteTime": {
     "end_time": "2020-12-26T19:38:16.259270Z",
     "start_time": "2020-12-26T19:38:16.244305Z"
    }
   },
   "outputs": [],
   "source": [
    "df_y_test_withdailyreturns[df_y_test_withdailyreturns[\"Class\"] == df_y_test_withdailyreturns[\"y_pred\"]].abs().sum()"
   ]
  },
  {
   "cell_type": "code",
   "execution_count": null,
   "metadata": {
    "ExecuteTime": {
     "end_time": "2020-12-26T19:38:16.275250Z",
     "start_time": "2020-12-26T19:38:16.260260Z"
    }
   },
   "outputs": [],
   "source": [
    "dfrights = df_y_test_withdailyreturns[df_y_test_withdailyreturns[\"Class\"] == df_y_test_withdailyreturns[\"y_pred\"]]\n",
    "dfwrongs = df_y_test_withdailyreturns[df_y_test_withdailyreturns[\"Class\"] != df_y_test_withdailyreturns[\"y_pred\"]]"
   ]
  },
  {
   "cell_type": "code",
   "execution_count": null,
   "metadata": {
    "ExecuteTime": {
     "end_time": "2020-12-26T19:38:16.306176Z",
     "start_time": "2020-12-26T19:38:16.277251Z"
    }
   },
   "outputs": [],
   "source": [
    "df_y_test_withdailyreturns = df_y_test_withdailyreturns.sort_index()\n",
    "df_y_test_withdailyreturns[\"dfrights\"] = np.where(df_y_test_withdailyreturns[\"Class\"] == df_y_test_withdailyreturns[\"y_pred\"], 1.0, 0.0)\n",
    "df_y_test_withdailyreturns.head()"
   ]
  },
  {
   "cell_type": "code",
   "execution_count": null,
   "metadata": {
    "ExecuteTime": {
     "end_time": "2020-12-26T19:38:16.322094Z",
     "start_time": "2020-12-26T19:38:16.307136Z"
    }
   },
   "outputs": [],
   "source": [
    "df_y_test_withdailyreturns['gain'] = np.where(df_y_test_withdailyreturns[\"dfrights\"]==1.0, df_y_test_withdailyreturns[\"percentage_daily_return\"].abs(), -1*df_y_test_withdailyreturns[\"percentage_daily_return\"].abs() )\n",
    "df_y_test_withdailyreturns['gain_cumsum'] = df_y_test_withdailyreturns['gain'].cumsum()\n",
    "df_y_test_withdailyreturns['gain_cumsum']"
   ]
  },
  {
   "cell_type": "code",
   "execution_count": null,
   "metadata": {
    "ExecuteTime": {
     "end_time": "2020-12-26T19:38:16.406033Z",
     "start_time": "2020-12-26T19:38:16.323096Z"
    }
   },
   "outputs": [],
   "source": [
    "import plotly.express as px\n",
    "\n",
    "fig = px.line(df_y_test_withdailyreturns, y=df_y_test_withdailyreturns['gain_cumsum'], title='Algo gains over time')\n",
    "fig.show()"
   ]
  },
  {
   "cell_type": "code",
   "execution_count": null,
   "metadata": {},
   "outputs": [],
   "source": []
  },
  {
   "cell_type": "code",
   "execution_count": null,
   "metadata": {},
   "outputs": [],
   "source": []
  },
  {
   "cell_type": "code",
   "execution_count": null,
   "metadata": {
    "ExecuteTime": {
     "end_time": "2020-12-26T19:38:16.435924Z",
     "start_time": "2020-12-26T19:38:16.408994Z"
    }
   },
   "outputs": [],
   "source": [
    "dfwrongs.abs().index.values"
   ]
  },
  {
   "cell_type": "code",
   "execution_count": null,
   "metadata": {
    "ExecuteTime": {
     "end_time": "2020-12-26T19:38:16.451880Z",
     "start_time": "2020-12-26T19:38:16.437918Z"
    }
   },
   "outputs": [],
   "source": [
    "dfwrongs.abs().percentage_daily_return.values"
   ]
  },
  {
   "cell_type": "code",
   "execution_count": null,
   "metadata": {
    "ExecuteTime": {
     "end_time": "2020-12-26T19:38:16.483833Z",
     "start_time": "2020-12-26T19:38:16.452877Z"
    }
   },
   "outputs": [],
   "source": [
    "dfwrongs = dfwrongs.sort_index()\n",
    "dfwrongs"
   ]
  },
  {
   "cell_type": "code",
   "execution_count": null,
   "metadata": {
    "ExecuteTime": {
     "end_time": "2020-12-26T19:38:16.515798Z",
     "start_time": "2020-12-26T19:38:16.485914Z"
    }
   },
   "outputs": [],
   "source": [
    "import plotly.graph_objects as go\n",
    "\n",
    "# show perecentages of wrong predictions over time\n",
    "fig = go.Figure(data=go.Scatter(x=dfwrongs.abs().index, y=dfwrongs.abs().percentage_daily_return.values))\n",
    "fig.show()"
   ]
  },
  {
   "cell_type": "code",
   "execution_count": null,
   "metadata": {
    "ExecuteTime": {
     "end_time": "2020-12-26T19:38:16.592541Z",
     "start_time": "2020-12-26T19:38:16.516710Z"
    }
   },
   "outputs": [],
   "source": [
    "# show perecentages of wrong predictions histogramm\n",
    "\n",
    "dfwrongs.abs().sort_values(\"percentage_daily_return\")\n",
    "fig = px.histogram(dfwrongs.abs(), x=\"percentage_daily_return\")\n",
    "fig.show()"
   ]
  },
  {
   "cell_type": "code",
   "execution_count": null,
   "metadata": {
    "ExecuteTime": {
     "end_time": "2020-12-26T19:38:16.640414Z",
     "start_time": "2020-12-26T19:38:16.593643Z"
    }
   },
   "outputs": [],
   "source": [
    "dfrights.abs().sort_values(\"percentage_daily_return\")\n",
    "fig = px.histogram(dfrights.abs(), x=\"percentage_daily_return\")\n",
    "fig.show()"
   ]
  },
  {
   "cell_type": "code",
   "execution_count": null,
   "metadata": {
    "ExecuteTime": {
     "end_time": "2020-12-26T19:38:16.672325Z",
     "start_time": "2020-12-26T19:38:16.641373Z"
    }
   },
   "outputs": [],
   "source": [
    "dfwrongs[\"year\"] = dfwrongs.index.year\n",
    "dfwrongs.abs().groupby(['year']).agg(['sum', 'count'])"
   ]
  },
  {
   "cell_type": "code",
   "execution_count": null,
   "metadata": {
    "ExecuteTime": {
     "end_time": "2020-12-26T19:38:16.736120Z",
     "start_time": "2020-12-26T19:38:16.673289Z"
    }
   },
   "outputs": [],
   "source": [
    "# HERE DIFF LOOK AT percentage_daily_return\n",
    "\n",
    "dfrights[\"year\"] = dfrights.index.year\n",
    "dfrights.abs().groupby(['year']).agg(['sum', 'count']) - dfwrongs.abs().groupby(['year']).agg(['sum', 'count'])"
   ]
  },
  {
   "cell_type": "markdown",
   "metadata": {},
   "source": [
    "# predict on tomorrow"
   ]
  },
  {
   "cell_type": "code",
   "execution_count": null,
   "metadata": {
    "ExecuteTime": {
     "end_time": "2020-12-26T19:38:23.585233Z",
     "start_time": "2020-12-26T19:38:16.737118Z"
    }
   },
   "outputs": [],
   "source": [
    "# Split Data into Training and Testing\n",
    "#X_train, X_test, y_train, y_test = train_test_split(predictors, target, test_size=0.3, stratify=target)\n",
    "\n",
    "# Amount of Columns\n",
    "n_nodes = predictors.shape[1]\n",
    "print(\"Amount of Columns\", n_nodes)\n",
    "\n",
    "# Instantiation of MinMaxScaler\n",
    "norm_scaler = MinMaxScaler()\n",
    "\n",
    "# Training and Application of Feature Scaler on Training Data of Predictors\n",
    "predictors_scaled = pd.DataFrame(norm_scaler.fit_transform(predictors))\n",
    "\n",
    "# Instantiate Classifier Logistic Regression\n",
    "#lreg = LogisticRegression(max_iter=12000) \n",
    "\n",
    "# Train Classifier\n",
    "lreg.fit(predictors_scaled, target)"
   ]
  },
  {
   "cell_type": "markdown",
   "metadata": {},
   "source": [
    "# get x train data of today to predict tomorrow y  "
   ]
  },
  {
   "cell_type": "code",
   "execution_count": null,
   "metadata": {
    "ExecuteTime": {
     "end_time": "2020-12-26T19:38:47.371622Z",
     "start_time": "2020-12-26T19:38:47.339779Z"
    }
   },
   "outputs": [],
   "source": [
    "most_current_day = df_dataset1.head(1)\n",
    "dateofprediction = most_current_day.index\n",
    "most_current_day"
   ]
  },
  {
   "cell_type": "code",
   "execution_count": null,
   "metadata": {
    "ExecuteTime": {
     "end_time": "2020-12-26T19:38:48.969894Z",
     "start_time": "2020-12-26T19:38:48.957926Z"
    }
   },
   "outputs": [],
   "source": [
    "try:\n",
    "    # Setup of Predictors (Indpendent Variables) by Excluding Target Variable\n",
    "    most_current_day_predictors = most_current_day.drop(['Class'], axis=1).values.astype(np.float32)\n",
    "except:\n",
    "    # Setup of Predictors (Indpendent Variables) by Excluding Target Variable\n",
    "    most_current_day_predictors = most_current_day.values.astype(np.float32)"
   ]
  },
  {
   "cell_type": "code",
   "execution_count": null,
   "metadata": {
    "ExecuteTime": {
     "end_time": "2020-12-26T19:38:50.504389Z",
     "start_time": "2020-12-26T19:38:50.487464Z"
    }
   },
   "outputs": [],
   "source": [
    "# Scaler Transformation of Entire Training Set - Input for Cross-Validation\n",
    "most_current_day_predictors_scaled = norm_scaler.transform(most_current_day_predictors)\n",
    "most_current_day_predictors_scaled"
   ]
  },
  {
   "cell_type": "code",
   "execution_count": null,
   "metadata": {
    "ExecuteTime": {
     "end_time": "2020-12-26T19:38:51.350487Z",
     "start_time": "2020-12-26T19:38:51.261718Z"
    }
   },
   "outputs": [],
   "source": [
    "# Prediction of Probabilities\n",
    "most_current_day_pred_prob = lreg.predict_proba(most_current_day_predictors_scaled)[:,1]\n",
    "most_current_day_pred_prob[0]"
   ]
  },
  {
   "cell_type": "code",
   "execution_count": null,
   "metadata": {
    "ExecuteTime": {
     "end_time": "2020-12-26T19:38:52.181311Z",
     "start_time": "2020-12-26T19:38:52.087589Z"
    }
   },
   "outputs": [],
   "source": [
    "# Prediction of Classes\n",
    "most_current_day_pred = lreg.predict(most_current_day_predictors_scaled)\n",
    "algoprediction = int( most_current_day_pred[0] )\n",
    "algoprediction"
   ]
  },
  {
   "cell_type": "code",
   "execution_count": null,
   "metadata": {
    "ExecuteTime": {
     "end_time": "2020-12-26T19:38:23.821379Z",
     "start_time": "2020-12-26T19:38:23.806643Z"
    }
   },
   "outputs": [],
   "source": [
    "dateofprediction[0]"
   ]
  },
  {
   "cell_type": "code",
   "execution_count": null,
   "metadata": {},
   "outputs": [],
   "source": []
  },
  {
   "cell_type": "code",
   "execution_count": null,
   "metadata": {},
   "outputs": [],
   "source": []
  }
 ],
 "metadata": {
  "kernelspec": {
   "display_name": "Python 3",
   "language": "python",
   "name": "python3"
  },
  "language_info": {
   "codemirror_mode": {
    "name": "ipython",
    "version": 3
   },
   "file_extension": ".py",
   "mimetype": "text/x-python",
   "name": "python",
   "nbconvert_exporter": "python",
   "pygments_lexer": "ipython3",
   "version": "3.8.5"
  },
  "toc": {
   "base_numbering": 1,
   "nav_menu": {},
   "number_sections": true,
   "sideBar": true,
   "skip_h1_title": false,
   "title_cell": "Table of Contents",
   "title_sidebar": "Contents",
   "toc_cell": true,
   "toc_position": {},
   "toc_section_display": true,
   "toc_window_display": false
  },
  "toc-autonumbering": true,
  "toc-showtags": false,
  "varInspector": {
   "cols": {
    "lenName": 16,
    "lenType": 16,
    "lenVar": 40
   },
   "kernels_config": {
    "python": {
     "delete_cmd_postfix": "",
     "delete_cmd_prefix": "del ",
     "library": "var_list.py",
     "varRefreshCmd": "print(var_dic_list())"
    },
    "r": {
     "delete_cmd_postfix": ") ",
     "delete_cmd_prefix": "rm(",
     "library": "var_list.r",
     "varRefreshCmd": "cat(var_dic_list()) "
    }
   },
   "types_to_exclude": [
    "module",
    "function",
    "builtin_function_or_method",
    "instance",
    "_Feature"
   ],
   "window_display": false
  }
 },
 "nbformat": 4,
 "nbformat_minor": 4
}
