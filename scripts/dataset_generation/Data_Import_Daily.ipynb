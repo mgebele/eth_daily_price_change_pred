{
 "cells": [
  {
   "cell_type": "markdown",
   "metadata": {
    "toc": true
   },
   "source": [
    "<h1>Table of Contents<span class=\"tocSkip\"></span></h1>\n",
    "<div class=\"toc\"><ul class=\"toc-item\"><li><span><a href=\"#START-Classification-Models---Data-Set-Variations\" data-toc-modified-id=\"START-Classification-Models---Data-Set-Variations-1\"><span class=\"toc-item-num\">1&nbsp;&nbsp;</span>START Classification Models - Data Set Variations</a></span></li><li><span><a href=\"#Import-Data-Sets\" data-toc-modified-id=\"Import-Data-Sets-2\"><span class=\"toc-item-num\">2&nbsp;&nbsp;</span>Import Data Sets</a></span><ul class=\"toc-item\"><li><span><a href=\"#Data-Set-I.\" data-toc-modified-id=\"Data-Set-I.-2.1\"><span class=\"toc-item-num\">2.1&nbsp;&nbsp;</span>Data Set I.</a></span></li></ul></li><li><span><a href=\"#import-btc-data\" data-toc-modified-id=\"import-btc-data-3\"><span class=\"toc-item-num\">3&nbsp;&nbsp;</span>import btc data</a></span></li><li><span><a href=\"#calculate-meier-multiple:-200-moving-average-current-price\" data-toc-modified-id=\"calculate-meier-multiple:-200-moving-average-current-price-4\"><span class=\"toc-item-num\">4&nbsp;&nbsp;</span>calculate meier multiple: 200 moving average current price</a></span></li><li><span><a href=\"#transfers-to/from-exchanges-diff-und-sliding-window\" data-toc-modified-id=\"transfers-to/from-exchanges-diff-und-sliding-window-5\"><span class=\"toc-item-num\">5&nbsp;&nbsp;</span>transfers to/from exchanges diff und sliding window</a></span></li><li><span><a href=\"#kick-out-meyer-multiple-eth-because-of-data-loss\" data-toc-modified-id=\"kick-out-meyer-multiple-eth-because-of-data-loss-6\"><span class=\"toc-item-num\">6&nbsp;&nbsp;</span>kick out meyer multiple eth because of data loss</a></span></li><li><span><a href=\"#Bring-df_dataset1-and-df_dataset_btc-together\" data-toc-modified-id=\"Bring-df_dataset1-and-df_dataset_btc-together-7\"><span class=\"toc-item-num\">7&nbsp;&nbsp;</span>Bring df_dataset1 and df_dataset_btc together</a></span><ul class=\"toc-item\"><li><span><a href=\"#Prediction-Shift\" data-toc-modified-id=\"Prediction-Shift-7.1\"><span class=\"toc-item-num\">7.1&nbsp;&nbsp;</span>Prediction Shift</a></span><ul class=\"toc-item\"><li><span><a href=\"#Data-Set-I.\" data-toc-modified-id=\"Data-Set-I.-7.1.1\"><span class=\"toc-item-num\">7.1.1&nbsp;&nbsp;</span>Data Set I.</a></span></li></ul></li></ul></li><li><span><a href=\"#get-yearly-btc-dollar-increase-for-traditional-investment\" data-toc-modified-id=\"get-yearly-btc-dollar-increase-for-traditional-investment-8\"><span class=\"toc-item-num\">8&nbsp;&nbsp;</span>get yearly btc dollar increase for traditional investment</a></span></li><li><span><a href=\"#Classification-Setup\" data-toc-modified-id=\"Classification-Setup-9\"><span class=\"toc-item-num\">9&nbsp;&nbsp;</span>Classification Setup</a></span><ul class=\"toc-item\"><li><span><a href=\"#Create-Data-Set-Copies-for-Trading-Strategy\" data-toc-modified-id=\"Create-Data-Set-Copies-for-Trading-Strategy-9.1\"><span class=\"toc-item-num\">9.1&nbsp;&nbsp;</span>Create Data Set Copies for Trading Strategy</a></span></li><li><span><a href=\"#Categorization---Data-Set-I.\" data-toc-modified-id=\"Categorization---Data-Set-I.-9.2\"><span class=\"toc-item-num\">9.2&nbsp;&nbsp;</span>Categorization - Data Set I.</a></span></li></ul></li><li><span><a href=\"#Model-Preparation---Data-Set-I.\" data-toc-modified-id=\"Model-Preparation---Data-Set-I.-10\"><span class=\"toc-item-num\">10&nbsp;&nbsp;</span>Model Preparation - Data Set I.</a></span><ul class=\"toc-item\"><li><span><a href=\"#Train-Test-Split---Data-Set-I.\" data-toc-modified-id=\"Train-Test-Split---Data-Set-I.-10.1\"><span class=\"toc-item-num\">10.1&nbsp;&nbsp;</span>Train Test Split - Data Set I.</a></span></li></ul></li><li><span><a href=\"#predict-on-tomorrow\" data-toc-modified-id=\"predict-on-tomorrow-11\"><span class=\"toc-item-num\">11&nbsp;&nbsp;</span>predict on tomorrow</a></span></li><li><span><a href=\"#get-x-train-data-of-today-to-predict-tomorrow-y\" data-toc-modified-id=\"get-x-train-data-of-today-to-predict-tomorrow-y-12\"><span class=\"toc-item-num\">12&nbsp;&nbsp;</span>get x train data of today to predict tomorrow y</a></span></li></ul></div>"
   ]
  },
  {
   "cell_type": "code",
   "execution_count": 1,
   "metadata": {
    "ExecuteTime": {
     "end_time": "2021-02-20T11:07:04.881587Z",
     "start_time": "2021-02-20T11:07:04.866421Z"
    }
   },
   "outputs": [],
   "source": [
    "#1.1  Data Import via Application Programming Interfaces"
   ]
  },
  {
   "cell_type": "code",
   "execution_count": 2,
   "metadata": {
    "ExecuteTime": {
     "end_time": "2021-02-20T11:07:06.000627Z",
     "start_time": "2021-02-20T11:07:05.362154Z"
    }
   },
   "outputs": [],
   "source": [
    "# Import of Modules and Packages\n",
    "import os\n",
    "import requests\n",
    "import json\n",
    "import datetime\n",
    "import yfinance as yf\n",
    "import time\n",
    "\n",
    "import numpy as np\n",
    "import pandas as pd\n",
    "import matplotlib.pyplot as plt"
   ]
  },
  {
   "cell_type": "code",
   "execution_count": 3,
   "metadata": {
    "ExecuteTime": {
     "end_time": "2021-02-20T11:07:06.016428Z",
     "start_time": "2021-02-20T11:07:06.001633Z"
    }
   },
   "outputs": [],
   "source": [
    "# Adjustment of Decimal Places\n",
    "pd.options.display.float_format = '{:.2f}'.format"
   ]
  },
  {
   "cell_type": "code",
   "execution_count": 4,
   "metadata": {
    "ExecuteTime": {
     "end_time": "2021-02-20T11:07:06.451619Z",
     "start_time": "2021-02-20T11:07:06.439412Z"
    }
   },
   "outputs": [],
   "source": [
    "setdir='C:\\\\Users\\\\markus.gebele\\\\github_repo\\\\JupyterLabDir\\\\Rest\\\\MA BTC\\\\Markus_Code_MA_final\\\\20201010'\n",
    "os.chdir(setdir)"
   ]
  },
  {
   "cell_type": "code",
   "execution_count": 5,
   "metadata": {
    "ExecuteTime": {
     "end_time": "2021-02-20T11:07:06.936542Z",
     "start_time": "2021-02-20T11:07:06.921472Z"
    }
   },
   "outputs": [],
   "source": [
    "# Glassnode API Key\n",
    "API_Key =''"
   ]
  },
  {
   "cell_type": "code",
   "execution_count": 6,
   "metadata": {
    "ExecuteTime": {
     "end_time": "2021-02-20T11:07:07.404900Z",
     "start_time": "2021-02-20T11:07:07.394849Z"
    }
   },
   "outputs": [],
   "source": [
    "#3  Btc Eth"
   ]
  },
  {
   "cell_type": "code",
   "execution_count": 21,
   "metadata": {
    "ExecuteTime": {
     "end_time": "2021-02-20T11:07:50.911253Z",
     "start_time": "2021-02-20T11:07:50.893278Z"
    }
   },
   "outputs": [],
   "source": [
    "def import_glassnode(url, feature_name):\n",
    "    data = requests.get(url).json()\n",
    "    df = pd.json_normalize(data)\n",
    "\n",
    "    # Rename columns\n",
    "    df.columns = ['Date', feature_name]\n",
    "\n",
    "    # Convert Object to Datetime Object\n",
    "    df.Date = pd.to_datetime(df.Date, unit='s')\n",
    "    #df.Date = df.Date.map(lambda x: x.strftime('%Y-%m-%d'))\n",
    "\n",
    "    # Set Date Column as Index\n",
    "    df.set_index('Date', inplace=True)\n",
    "\n",
    "    # Drop Missing Values\n",
    "    df = df.dropna()\n",
    "\n",
    "    # Change Data Type to Float\n",
    "    df = df.astype(float)\n",
    "\n",
    "    # Creation of CSV-File, Part of Feature Name as CSV File Name\n",
    "    feature_name = feature_name.replace('/', '_')\n",
    "    df.to_csv(\"{}.csv\".format(feature_name))\n",
    "\n",
    "\n",
    "# Plot of DataFrame\n",
    "    return df"
   ]
  },
  {
   "cell_type": "code",
   "execution_count": 22,
   "metadata": {
    "ExecuteTime": {
     "end_time": "2021-02-20T11:07:51.626562Z",
     "start_time": "2021-02-20T11:07:51.614500Z"
    }
   },
   "outputs": [],
   "source": [
    "#3.0.1  Bitcoin API - Daily Basis"
   ]
  },
  {
   "cell_type": "code",
   "execution_count": 23,
   "metadata": {
    "ExecuteTime": {
     "end_time": "2021-02-20T11:07:52.106566Z",
     "start_time": "2021-02-20T11:07:52.089378Z"
    }
   },
   "outputs": [],
   "source": [
    "# Import Function for Several Feature Variables from Glassnode\n",
    "def import_btc_daily(feature_list):\n",
    "    # Counter to Differentiate between Data Frame Setup and Data Frame Join\n",
    "    counter=0\n",
    "    \n",
    "    # For Loop through all Features in the List\n",
    "    for feature in feature_list:\n",
    "        \n",
    "        # URL\n",
    "        url = 'https://api.glassnode.com/v1/metrics/{}?a=btc&f=json&api_key={}'.format(feature, API_Key)\n",
    "        \n",
    "        # Execute Import Function for a Single Feature Variable\n",
    "        df=import_glassnode(url, feature)\n",
    "        \n",
    "        # Display Data Frame Tail\n",
    "#         print(df.head())\n",
    "#         print(df.tail())\n",
    "        \n",
    "        \n",
    "        # Condition - Data Frame Set up or Data Frame Join\n",
    "        if counter > 0:\n",
    "            \n",
    "            # Data Frame Join\n",
    "            df_new = df_new.join(df, how='inner')   \n",
    "        \n",
    "        else:\n",
    "            \n",
    "            # Data Frame Setup\n",
    "            df_new = df\n",
    "        \n",
    "        # Increase Counter\n",
    "        counter +=1\n",
    "    \n",
    "    return df_new"
   ]
  },
  {
   "cell_type": "code",
   "execution_count": 24,
   "metadata": {
    "ExecuteTime": {
     "end_time": "2021-02-20T11:07:52.341109Z",
     "start_time": "2021-02-20T11:07:52.337066Z"
    }
   },
   "outputs": [],
   "source": [
    "#3.0.3  Ethereum API - Daily Basis"
   ]
  },
  {
   "cell_type": "code",
   "execution_count": 25,
   "metadata": {
    "ExecuteTime": {
     "end_time": "2021-02-20T11:07:52.574478Z",
     "start_time": "2021-02-20T11:07:52.566454Z"
    }
   },
   "outputs": [],
   "source": [
    "# Import Function for Several Feature Variables from Glassnode\n",
    "def import_eth_daily(feature_list):\n",
    "    # Counter to Differentiate between Data Frame Setup and Data Frame Join\n",
    "    counter=0\n",
    "    \n",
    "    # For Loop through all Features in the List\n",
    "    for feature in feature_list:\n",
    "        # URL\n",
    "        url = 'https://api.glassnode.com/v1/metrics/{}?a=eth&i=24h&f=json&api_key={}'.format(feature, API_Key)\n",
    "        \n",
    "        # Execute Import Function for a Single Feature Variable\n",
    "        df=import_glassnode(url, feature)\n",
    "        \n",
    "        print(feature)\n",
    "        \n",
    "        # Display Data Frame Tail\n",
    "        print(df.head())\n",
    "        print(df.tail())\n",
    "        # Condition - Data Frame Set up or Data Frame Join\n",
    "        if counter > 0:\n",
    "            # Data Frame Join\n",
    "            df_new = df_new.join(df, how='inner')   \n",
    "        else:\n",
    "            # Data Frame Setup\n",
    "            df_new = df\n",
    "        \n",
    "        # Increase Counter\n",
    "        counter +=1\n",
    "    \n",
    "    return df_new"
   ]
  },
  {
   "cell_type": "code",
   "execution_count": 26,
   "metadata": {
    "ExecuteTime": {
     "end_time": "2021-02-20T11:07:52.810263Z",
     "start_time": "2021-02-20T11:07:52.801053Z"
    }
   },
   "outputs": [],
   "source": [
    "#3.1  Bitcoin Feature"
   ]
  },
  {
   "cell_type": "code",
   "execution_count": 27,
   "metadata": {
    "ExecuteTime": {
     "end_time": "2021-02-20T11:07:53.027032Z",
     "start_time": "2021-02-20T11:07:53.019018Z"
    }
   },
   "outputs": [],
   "source": [
    "#3.1.1  Bitcoin Feature Daily - Tier 1"
   ]
  },
  {
   "cell_type": "code",
   "execution_count": 28,
   "metadata": {
    "ExecuteTime": {
     "end_time": "2021-02-20T11:07:53.245164Z",
     "start_time": "2021-02-20T11:07:53.226191Z"
    }
   },
   "outputs": [],
   "source": [
    "btc_tier1_list_d = ['addresses/new_non_zero_count', 'addresses/active_count', 'addresses/sending_count', 'addresses/receiving_count', 'addresses/count', \n",
    "              'blockchain/block_height', 'blockchain/block_count', 'blockchain/block_interval_mean', 'blockchain/block_interval_median', 'blockchain/block_size_sum', \n",
    "              'blockchain/block_size_mean', 'fees/volume_sum', 'fees/volume_mean', 'fees/volume_median', 'indicators/sopr', 'market/price_usd_close', 'market/price_drawdown_relative', 'market/marketcap_usd', \n",
    "              'mining/difficulty_latest', 'mining/hash_rate_mean', 'supply/current', 'transactions/count', 'transactions/rate', 'transactions/size_sum', \n",
    "              'transactions/size_mean', 'transactions/transfers_volume_sum', 'transactions/transfers_volume_mean', 'transactions/transfers_volume_median', \n",
    "              'blockchain/utxo_created_count', 'blockchain/utxo_spent_count', 'blockchain/utxo_count', 'blockchain/utxo_created_value_sum', 'blockchain/utxo_created_value_mean',\n",
    "              'blockchain/utxo_created_value_median', 'blockchain/utxo_spent_value_sum', 'blockchain/utxo_spent_value_mean', 'blockchain/utxo_spent_value_median']"
   ]
  },
  {
   "cell_type": "code",
   "execution_count": 29,
   "metadata": {
    "ExecuteTime": {
     "end_time": "2021-02-20T11:07:53.464551Z",
     "start_time": "2021-02-20T11:07:53.456660Z"
    }
   },
   "outputs": [],
   "source": [
    "#3.1.3  Bitcoin Feature Daily - Tier 2"
   ]
  },
  {
   "cell_type": "code",
   "execution_count": 30,
   "metadata": {
    "ExecuteTime": {
     "end_time": "2021-02-20T11:07:53.696155Z",
     "start_time": "2021-02-20T11:07:53.689474Z"
    }
   },
   "outputs": [],
   "source": [
    "btc_tier2_list_d = ['addresses/non_zero_count', 'addresses/min_point_zero_1_count', 'addresses/min_point_1_count', 'addresses/min_1_count', 'addresses/min_10_count',\n",
    "                   'addresses/min_100_count', 'addresses/min_1k_count', 'addresses/min_10k_count', 'transactions/transfers_volume_to_exchanges_sum', \n",
    "                    'transactions/transfers_volume_from_exchanges_sum', 'transactions/transfers_volume_exchanges_net', 'transactions/transfers_to_exchanges_count',\n",
    "                    'transactions/transfers_from_exchanges_count', 'transactions/transfers_volume_to_exchanges_mean', 'transactions/transfers_volume_from_exchanges_mean',\n",
    "                    'distribution/balance_exchanges', 'fees/fee_ratio_multiple', 'indicators/sopr_adjusted', \n",
    "                    'indicators/net_unrealized_profit_loss', 'indicators/unrealized_profit', 'indicators/unrealized_loss', 'indicators/realized_profit',\n",
    "                    'indicators/realized_loss', 'indicators/net_realized_profit_loss', 'indicators/puell_multiple', 'indicators/cdd',\n",
    "                    'indicators/cdd_supply_adjusted', 'indicators/cdd_supply_adjusted_binary', 'indicators/reserve_risk', 'indicators/liveliness', \n",
    "                    'indicators/average_dormancy', 'indicators/average_dormancy_supply_adjusted',  'indicators/asol', 'indicators/msol', \n",
    "                    'indicators/sol_1h', 'indicators/sol_1h_24h', 'indicators/sol_1d_1w', 'indicators/sol_1w_1m', 'indicators/sol_1m_3m', \n",
    "                    'indicators/sol_3m_6m', 'indicators/sol_6m_12m', 'indicators/sol_1y_2y', 'indicators/sol_2y_3y', 'indicators/sol_3y_5y', 'indicators/sol_5y_7y',\n",
    "                    'indicators/sol_7y_10y', 'indicators/sol_more_10y', 'indicators/nvt', 'indicators/nvts', 'indicators/velocity', 'indicators/stock_to_flow_deflection',\n",
    "                    'indicators/difficulty_ribbon_compression', 'indicators/cvdd', 'indicators/rhodl_ratio', 'market/price_realized_usd',\n",
    "                    'market/marketcap_realized_usd', 'market/mvrv', 'market/mvrv_z_score', 'mining/thermocap', 'mining/marketcap_thermocap_ratio', 'mining/revenue_sum',\n",
    "                    'mining/revenue_from_fees', 'mining/volume_mined_sum', 'supply/profit_relative', 'supply/profit_sum', 'supply/loss_sum',\n",
    "                    'supply/active_more_1y_percent', 'supply/active_more_2y_percent', 'supply/active_more_3y_percent', 'supply/active_more_5y_percent',\n",
    "                    'supply/active_24h', 'supply/active_1d_1w', 'supply/active_1w_1m', 'supply/active_1m_3m', 'supply/active_3m_6m', 'supply/active_6m_12m', 'supply/active_1y_2y',\n",
    "                    'supply/active_2y_3y', 'supply/active_3y_5y', 'supply/active_5y_7y', 'supply/active_7y_10y', 'supply/active_more_10y', 'supply/issued', 'supply/inflation_rate',\n",
    "                    'supply/current_adjusted', 'transactions/transfers_volume_adjusted_sum', 'transactions/transfers_volume_adjusted_mean', 'transactions/transfers_volume_adjusted_median',\n",
    "                    'blockchain/utxo_profit_relative', 'blockchain/utxo_profit_count', 'blockchain/utxo_loss_count']\n"
   ]
  },
  {
   "cell_type": "code",
   "execution_count": 31,
   "metadata": {
    "ExecuteTime": {
     "end_time": "2021-02-20T11:07:53.915204Z",
     "start_time": "2021-02-20T11:07:53.905203Z"
    }
   },
   "outputs": [],
   "source": [
    "#3.2  Bitcoin Data"
   ]
  },
  {
   "cell_type": "code",
   "execution_count": 32,
   "metadata": {
    "ExecuteTime": {
     "end_time": "2021-02-20T11:07:54.118067Z",
     "start_time": "2021-02-20T11:07:54.116076Z"
    }
   },
   "outputs": [],
   "source": [
    "#3.2.1  Bitcoin Data Daily Tier 1"
   ]
  },
  {
   "cell_type": "code",
   "execution_count": 33,
   "metadata": {
    "ExecuteTime": {
     "end_time": "2021-02-20T11:07:54.350463Z",
     "start_time": "2021-02-20T11:07:54.336550Z"
    }
   },
   "outputs": [],
   "source": [
    "# Set Working Directory to Tier 1 BTC Daily\n",
    "os.chdir('{}/Tier1/BTC_Daily'.format(setdir))"
   ]
  },
  {
   "cell_type": "code",
   "execution_count": 34,
   "metadata": {
    "ExecuteTime": {
     "end_time": "2021-02-20T11:08:10.437760Z",
     "start_time": "2021-02-20T11:07:54.773745Z"
    }
   },
   "outputs": [],
   "source": [
    "df_btc_tier1_d = import_btc_daily(btc_tier1_list_d)"
   ]
  },
  {
   "cell_type": "code",
   "execution_count": 35,
   "metadata": {
    "ExecuteTime": {
     "end_time": "2021-02-20T11:13:16.068028Z",
     "start_time": "2021-02-20T11:13:16.027884Z"
    }
   },
   "outputs": [
    {
     "data": {
      "text/html": [
       "<div>\n",
       "<style scoped>\n",
       "    .dataframe tbody tr th:only-of-type {\n",
       "        vertical-align: middle;\n",
       "    }\n",
       "\n",
       "    .dataframe tbody tr th {\n",
       "        vertical-align: top;\n",
       "    }\n",
       "\n",
       "    .dataframe thead th {\n",
       "        text-align: right;\n",
       "    }\n",
       "</style>\n",
       "<table border=\"1\" class=\"dataframe\">\n",
       "  <thead>\n",
       "    <tr style=\"text-align: right;\">\n",
       "      <th></th>\n",
       "      <th>addresses/new_non_zero_count</th>\n",
       "      <th>addresses/active_count</th>\n",
       "      <th>addresses/sending_count</th>\n",
       "      <th>addresses/receiving_count</th>\n",
       "      <th>addresses/count</th>\n",
       "      <th>blockchain/block_height</th>\n",
       "      <th>blockchain/block_count</th>\n",
       "      <th>blockchain/block_interval_mean</th>\n",
       "      <th>blockchain/block_interval_median</th>\n",
       "      <th>blockchain/block_size_sum</th>\n",
       "      <th>...</th>\n",
       "      <th>transactions/transfers_volume_median</th>\n",
       "      <th>blockchain/utxo_created_count</th>\n",
       "      <th>blockchain/utxo_spent_count</th>\n",
       "      <th>blockchain/utxo_count</th>\n",
       "      <th>blockchain/utxo_created_value_sum</th>\n",
       "      <th>blockchain/utxo_created_value_mean</th>\n",
       "      <th>blockchain/utxo_created_value_median</th>\n",
       "      <th>blockchain/utxo_spent_value_sum</th>\n",
       "      <th>blockchain/utxo_spent_value_mean</th>\n",
       "      <th>blockchain/utxo_spent_value_median</th>\n",
       "    </tr>\n",
       "    <tr>\n",
       "      <th>Date</th>\n",
       "      <th></th>\n",
       "      <th></th>\n",
       "      <th></th>\n",
       "      <th></th>\n",
       "      <th></th>\n",
       "      <th></th>\n",
       "      <th></th>\n",
       "      <th></th>\n",
       "      <th></th>\n",
       "      <th></th>\n",
       "      <th></th>\n",
       "      <th></th>\n",
       "      <th></th>\n",
       "      <th></th>\n",
       "      <th></th>\n",
       "      <th></th>\n",
       "      <th></th>\n",
       "      <th></th>\n",
       "      <th></th>\n",
       "      <th></th>\n",
       "      <th></th>\n",
       "    </tr>\n",
       "  </thead>\n",
       "  <tbody>\n",
       "    <tr>\n",
       "      <th>2021-02-15</th>\n",
       "      <td>535064.00</td>\n",
       "      <td>1142365.00</td>\n",
       "      <td>708689.00</td>\n",
       "      <td>778833.00</td>\n",
       "      <td>785044737.00</td>\n",
       "      <td>670789.00</td>\n",
       "      <td>152.00</td>\n",
       "      <td>589.99</td>\n",
       "      <td>359.00</td>\n",
       "      <td>201027196.00</td>\n",
       "      <td>...</td>\n",
       "      <td>0.02</td>\n",
       "      <td>974929.00</td>\n",
       "      <td>946160.00</td>\n",
       "      <td>118789246.00</td>\n",
       "      <td>2374770.78</td>\n",
       "      <td>2.44</td>\n",
       "      <td>0.00</td>\n",
       "      <td>2373820.78</td>\n",
       "      <td>2.51</td>\n",
       "      <td>0.00</td>\n",
       "    </tr>\n",
       "    <tr>\n",
       "      <th>2021-02-16</th>\n",
       "      <td>510432.00</td>\n",
       "      <td>991949.00</td>\n",
       "      <td>552389.00</td>\n",
       "      <td>745448.00</td>\n",
       "      <td>785555169.00</td>\n",
       "      <td>670910.00</td>\n",
       "      <td>121.00</td>\n",
       "      <td>716.81</td>\n",
       "      <td>536.00</td>\n",
       "      <td>156916096.00</td>\n",
       "      <td>...</td>\n",
       "      <td>0.02</td>\n",
       "      <td>932767.00</td>\n",
       "      <td>715012.00</td>\n",
       "      <td>119007001.00</td>\n",
       "      <td>2515309.89</td>\n",
       "      <td>2.70</td>\n",
       "      <td>0.00</td>\n",
       "      <td>2514553.64</td>\n",
       "      <td>3.52</td>\n",
       "      <td>0.01</td>\n",
       "    </tr>\n",
       "    <tr>\n",
       "      <th>2021-02-17</th>\n",
       "      <td>555803.00</td>\n",
       "      <td>1138578.00</td>\n",
       "      <td>630336.00</td>\n",
       "      <td>829211.00</td>\n",
       "      <td>786110972.00</td>\n",
       "      <td>671048.00</td>\n",
       "      <td>138.00</td>\n",
       "      <td>620.64</td>\n",
       "      <td>395.00</td>\n",
       "      <td>178160687.00</td>\n",
       "      <td>...</td>\n",
       "      <td>0.02</td>\n",
       "      <td>1027930.00</td>\n",
       "      <td>823593.00</td>\n",
       "      <td>119211338.00</td>\n",
       "      <td>2077696.30</td>\n",
       "      <td>2.02</td>\n",
       "      <td>0.00</td>\n",
       "      <td>2076833.80</td>\n",
       "      <td>2.52</td>\n",
       "      <td>0.01</td>\n",
       "    </tr>\n",
       "    <tr>\n",
       "      <th>2021-02-18</th>\n",
       "      <td>560991.00</td>\n",
       "      <td>1138749.00</td>\n",
       "      <td>637433.00</td>\n",
       "      <td>820184.00</td>\n",
       "      <td>786671963.00</td>\n",
       "      <td>671185.00</td>\n",
       "      <td>137.00</td>\n",
       "      <td>630.19</td>\n",
       "      <td>521.00</td>\n",
       "      <td>178791889.00</td>\n",
       "      <td>...</td>\n",
       "      <td>0.02</td>\n",
       "      <td>1020323.00</td>\n",
       "      <td>819863.00</td>\n",
       "      <td>119411798.00</td>\n",
       "      <td>2202921.05</td>\n",
       "      <td>2.16</td>\n",
       "      <td>0.00</td>\n",
       "      <td>2202064.80</td>\n",
       "      <td>2.69</td>\n",
       "      <td>0.01</td>\n",
       "    </tr>\n",
       "    <tr>\n",
       "      <th>2021-02-19</th>\n",
       "      <td>603519.00</td>\n",
       "      <td>1246492.00</td>\n",
       "      <td>712634.00</td>\n",
       "      <td>884297.00</td>\n",
       "      <td>787275482.00</td>\n",
       "      <td>671338.00</td>\n",
       "      <td>153.00</td>\n",
       "      <td>568.91</td>\n",
       "      <td>375.00</td>\n",
       "      <td>203282199.00</td>\n",
       "      <td>...</td>\n",
       "      <td>0.02</td>\n",
       "      <td>1108810.00</td>\n",
       "      <td>922508.00</td>\n",
       "      <td>119598100.00</td>\n",
       "      <td>2365992.80</td>\n",
       "      <td>2.13</td>\n",
       "      <td>0.00</td>\n",
       "      <td>2365036.55</td>\n",
       "      <td>2.56</td>\n",
       "      <td>0.01</td>\n",
       "    </tr>\n",
       "  </tbody>\n",
       "</table>\n",
       "<p>5 rows × 37 columns</p>\n",
       "</div>"
      ],
      "text/plain": [
       "            addresses/new_non_zero_count  addresses/active_count  \\\n",
       "Date                                                               \n",
       "2021-02-15                     535064.00              1142365.00   \n",
       "2021-02-16                     510432.00               991949.00   \n",
       "2021-02-17                     555803.00              1138578.00   \n",
       "2021-02-18                     560991.00              1138749.00   \n",
       "2021-02-19                     603519.00              1246492.00   \n",
       "\n",
       "            addresses/sending_count  addresses/receiving_count  \\\n",
       "Date                                                             \n",
       "2021-02-15                708689.00                  778833.00   \n",
       "2021-02-16                552389.00                  745448.00   \n",
       "2021-02-17                630336.00                  829211.00   \n",
       "2021-02-18                637433.00                  820184.00   \n",
       "2021-02-19                712634.00                  884297.00   \n",
       "\n",
       "            addresses/count  blockchain/block_height  blockchain/block_count  \\\n",
       "Date                                                                           \n",
       "2021-02-15     785044737.00                670789.00                  152.00   \n",
       "2021-02-16     785555169.00                670910.00                  121.00   \n",
       "2021-02-17     786110972.00                671048.00                  138.00   \n",
       "2021-02-18     786671963.00                671185.00                  137.00   \n",
       "2021-02-19     787275482.00                671338.00                  153.00   \n",
       "\n",
       "            blockchain/block_interval_mean  blockchain/block_interval_median  \\\n",
       "Date                                                                           \n",
       "2021-02-15                          589.99                            359.00   \n",
       "2021-02-16                          716.81                            536.00   \n",
       "2021-02-17                          620.64                            395.00   \n",
       "2021-02-18                          630.19                            521.00   \n",
       "2021-02-19                          568.91                            375.00   \n",
       "\n",
       "            blockchain/block_size_sum  ...  \\\n",
       "Date                                   ...   \n",
       "2021-02-15               201027196.00  ...   \n",
       "2021-02-16               156916096.00  ...   \n",
       "2021-02-17               178160687.00  ...   \n",
       "2021-02-18               178791889.00  ...   \n",
       "2021-02-19               203282199.00  ...   \n",
       "\n",
       "            transactions/transfers_volume_median  \\\n",
       "Date                                               \n",
       "2021-02-15                                  0.02   \n",
       "2021-02-16                                  0.02   \n",
       "2021-02-17                                  0.02   \n",
       "2021-02-18                                  0.02   \n",
       "2021-02-19                                  0.02   \n",
       "\n",
       "            blockchain/utxo_created_count  blockchain/utxo_spent_count  \\\n",
       "Date                                                                     \n",
       "2021-02-15                      974929.00                    946160.00   \n",
       "2021-02-16                      932767.00                    715012.00   \n",
       "2021-02-17                     1027930.00                    823593.00   \n",
       "2021-02-18                     1020323.00                    819863.00   \n",
       "2021-02-19                     1108810.00                    922508.00   \n",
       "\n",
       "            blockchain/utxo_count  blockchain/utxo_created_value_sum  \\\n",
       "Date                                                                   \n",
       "2021-02-15           118789246.00                         2374770.78   \n",
       "2021-02-16           119007001.00                         2515309.89   \n",
       "2021-02-17           119211338.00                         2077696.30   \n",
       "2021-02-18           119411798.00                         2202921.05   \n",
       "2021-02-19           119598100.00                         2365992.80   \n",
       "\n",
       "            blockchain/utxo_created_value_mean  \\\n",
       "Date                                             \n",
       "2021-02-15                                2.44   \n",
       "2021-02-16                                2.70   \n",
       "2021-02-17                                2.02   \n",
       "2021-02-18                                2.16   \n",
       "2021-02-19                                2.13   \n",
       "\n",
       "            blockchain/utxo_created_value_median  \\\n",
       "Date                                               \n",
       "2021-02-15                                  0.00   \n",
       "2021-02-16                                  0.00   \n",
       "2021-02-17                                  0.00   \n",
       "2021-02-18                                  0.00   \n",
       "2021-02-19                                  0.00   \n",
       "\n",
       "            blockchain/utxo_spent_value_sum  blockchain/utxo_spent_value_mean  \\\n",
       "Date                                                                            \n",
       "2021-02-15                       2373820.78                              2.51   \n",
       "2021-02-16                       2514553.64                              3.52   \n",
       "2021-02-17                       2076833.80                              2.52   \n",
       "2021-02-18                       2202064.80                              2.69   \n",
       "2021-02-19                       2365036.55                              2.56   \n",
       "\n",
       "            blockchain/utxo_spent_value_median  \n",
       "Date                                            \n",
       "2021-02-15                                0.00  \n",
       "2021-02-16                                0.01  \n",
       "2021-02-17                                0.01  \n",
       "2021-02-18                                0.01  \n",
       "2021-02-19                                0.01  \n",
       "\n",
       "[5 rows x 37 columns]"
      ]
     },
     "execution_count": 35,
     "metadata": {},
     "output_type": "execute_result"
    }
   ],
   "source": [
    "df_btc_tier1_d.tail()"
   ]
  },
  {
   "cell_type": "code",
   "execution_count": 36,
   "metadata": {
    "ExecuteTime": {
     "end_time": "2021-02-20T11:13:16.084005Z",
     "start_time": "2021-02-20T11:13:16.069981Z"
    }
   },
   "outputs": [
    {
     "data": {
      "text/plain": [
       "(3871, 37)"
      ]
     },
     "execution_count": 36,
     "metadata": {},
     "output_type": "execute_result"
    }
   ],
   "source": [
    "df_btc_tier1_d.shape"
   ]
  },
  {
   "cell_type": "code",
   "execution_count": 37,
   "metadata": {
    "ExecuteTime": {
     "end_time": "2021-02-20T11:13:16.115547Z",
     "start_time": "2021-02-20T11:13:16.086002Z"
    }
   },
   "outputs": [],
   "source": [
    "# 3.2.3  Bitcoin Data Daily Tier 2"
   ]
  },
  {
   "cell_type": "code",
   "execution_count": 38,
   "metadata": {
    "ExecuteTime": {
     "end_time": "2021-02-20T11:13:16.130831Z",
     "start_time": "2021-02-20T11:13:16.117454Z"
    }
   },
   "outputs": [],
   "source": [
    "# Set Working Directory to Tier 2 BTC Daily\n",
    "os.chdir('{}/Tier2/BTC_Daily'.format(setdir))"
   ]
  },
  {
   "cell_type": "code",
   "execution_count": null,
   "metadata": {
    "ExecuteTime": {
     "start_time": "2021-02-20T11:13:16.043Z"
    }
   },
   "outputs": [],
   "source": [
    "df_btc_tier2_d = import_btc_daily(btc_tier2_list_d)"
   ]
  },
  {
   "cell_type": "code",
   "execution_count": null,
   "metadata": {
    "ExecuteTime": {
     "start_time": "2021-02-20T11:13:16.049Z"
    }
   },
   "outputs": [],
   "source": [
    "df_btc_tier2_d.tail()"
   ]
  },
  {
   "cell_type": "code",
   "execution_count": null,
   "metadata": {
    "ExecuteTime": {
     "start_time": "2021-02-20T11:13:16.053Z"
    }
   },
   "outputs": [],
   "source": [
    "for i, word in enumerate(btc_tier1_list_d):\n",
    "    btc_tier1_list_d[i] = btc_tier1_list_d[i].replace('/', '_')\n",
    "    \n",
    "for i, word in enumerate(btc_tier2_list_d):\n",
    "    btc_tier2_list_d[i] = btc_tier2_list_d[i].replace('/', '_')\n"
   ]
  },
  {
   "cell_type": "code",
   "execution_count": null,
   "metadata": {
    "ExecuteTime": {
     "start_time": "2021-02-20T11:13:16.058Z"
    }
   },
   "outputs": [],
   "source": [
    "#3.3  Ethereum Feature"
   ]
  },
  {
   "cell_type": "code",
   "execution_count": null,
   "metadata": {
    "ExecuteTime": {
     "start_time": "2021-02-20T11:13:16.063Z"
    }
   },
   "outputs": [],
   "source": [
    "#3.3.1  Ethereum Feature Daily - Tier 1"
   ]
  },
  {
   "cell_type": "code",
   "execution_count": null,
   "metadata": {
    "ExecuteTime": {
     "start_time": "2021-02-20T11:13:16.067Z"
    }
   },
   "outputs": [],
   "source": [
    "eth_tier1_list_d = ['addresses/new_non_zero_count', 'addresses/active_count', 'addresses/sending_count', 'addresses/receiving_count', 'addresses/count', \n",
    "              'blockchain/block_height', 'blockchain/block_count', 'blockchain/block_interval_mean', 'blockchain/block_interval_median', 'blockchain/block_size_sum', \n",
    "              'blockchain/block_size_mean', 'fees/volume_sum', 'fees/volume_mean', 'fees/volume_median', 'fees/gas_used_sum', 'fees/gas_used_mean', 'fees/gas_used_median',\n",
    "            'fees/gas_price_mean', 'fees/gas_price_median', 'fees/gas_limit_tx_mean', 'fees/gas_limit_tx_median', 'indicators/sopr', 'market/price_usd_close', 'market/price_drawdown_relative', 'market/marketcap_usd', \n",
    "              'mining/difficulty_latest', 'mining/hash_rate_mean',  \n",
    "            'supply/current', 'transactions/count', 'transactions/rate', 'transactions/transfers_count', 'transactions/transfers_rate', 'transactions/transfers_volume_sum', \n",
    "                  'transactions/transfers_volume_mean', 'transactions/transfers_volume_median'\n",
    "                   ]\n",
    "\n",
    "# 'protocols/uniswap_volume_sum', 'protocols/uniswap_transaction_count',   "
   ]
  },
  {
   "cell_type": "code",
   "execution_count": null,
   "metadata": {
    "ExecuteTime": {
     "start_time": "2021-02-20T11:13:16.073Z"
    }
   },
   "outputs": [],
   "source": [
    "# 3.3.3  Ethereum Feature Daily - Tier 2"
   ]
  },
  {
   "cell_type": "code",
   "execution_count": null,
   "metadata": {
    "ExecuteTime": {
     "start_time": "2021-02-20T11:13:16.077Z"
    }
   },
   "outputs": [],
   "source": [
    "eth_tier2_list_d = ['addresses/non_zero_count', 'addresses/min_point_zero_1_count', 'addresses/min_point_1_count', 'addresses/min_1_count', 'addresses/min_10_count',\n",
    "                   'addresses/min_100_count', 'addresses/min_1k_count', 'addresses/min_10k_count', 'addresses/min_32_count', 'distribution/balance_1pct_holders',\n",
    "                    'distribution/gini', 'distribution/herfindahl', 'distribution/supply_contracts', \n",
    "                    'transactions/transfers_volume_to_exchanges_sum', 'transactions/transfers_volume_from_exchanges_sum', 'transactions/transfers_volume_exchanges_net', \n",
    "                    'transactions/transfers_to_exchanges_count','transactions/transfers_from_exchanges_count', 'transactions/transfers_volume_to_exchanges_mean', \n",
    "                    'transactions/transfers_volume_from_exchanges_mean','distribution/balance_exchanges', 'fees/fee_ratio_multiple', \n",
    "                'indicators/net_unrealized_profit_loss', 'indicators/unrealized_profit', 'indicators/unrealized_loss', 'indicators/cdd', 'indicators/liveliness', \n",
    "                    'indicators/average_dormancy', 'indicators/asol', 'indicators/msol', 'indicators/nvt', 'indicators/nvts', 'indicators/velocity', \n",
    "                    'market/marketcap_realized_usd', 'market/mvrv', 'mining/thermocap', 'mining/marketcap_thermocap_ratio', 'mining/revenue_sum', 'mining/revenue_from_fees', \n",
    "                    'supply/profit_relative', 'supply/profit_sum', 'supply/loss_sum',\n",
    "                    \n",
    "                    \n",
    "                    'supply/active_24h', 'supply/active_1d_1w', 'supply/active_1w_1m', 'supply/active_1m_3m', 'supply/active_3m_6m', 'supply/active_6m_12m', 'supply/active_1y_2y',\n",
    "                    'supply/active_2y_3y', 'supply/active_3y_5y', 'supply/active_5y_7y', 'supply/active_7y_10y', 'supply/active_more_10y', 'supply/issued', 'supply/inflation_rate',\n",
    "                    'transactions/contract_calls_internal_count']  "
   ]
  },
  {
   "cell_type": "code",
   "execution_count": null,
   "metadata": {
    "ExecuteTime": {
     "start_time": "2021-02-20T11:13:16.081Z"
    }
   },
   "outputs": [],
   "source": [
    "#3.4  Ethereum Data"
   ]
  },
  {
   "cell_type": "code",
   "execution_count": null,
   "metadata": {
    "ExecuteTime": {
     "start_time": "2021-02-20T11:13:16.086Z"
    }
   },
   "outputs": [],
   "source": [
    "#3.4.1  Ethereum Data Daily - Tier 1"
   ]
  },
  {
   "cell_type": "code",
   "execution_count": null,
   "metadata": {
    "ExecuteTime": {
     "start_time": "2021-02-20T11:13:16.091Z"
    }
   },
   "outputs": [],
   "source": [
    "df_eth_tier1_d = import_eth_daily(eth_tier1_list_d)"
   ]
  },
  {
   "cell_type": "code",
   "execution_count": null,
   "metadata": {
    "ExecuteTime": {
     "start_time": "2021-02-20T11:13:16.096Z"
    }
   },
   "outputs": [],
   "source": [
    "df_eth_tier1_d.tail()"
   ]
  },
  {
   "cell_type": "code",
   "execution_count": null,
   "metadata": {
    "ExecuteTime": {
     "start_time": "2021-02-20T11:13:16.101Z"
    }
   },
   "outputs": [],
   "source": [
    "df_eth_tier1_d.shape"
   ]
  },
  {
   "cell_type": "code",
   "execution_count": null,
   "metadata": {
    "ExecuteTime": {
     "start_time": "2021-02-20T11:13:16.105Z"
    }
   },
   "outputs": [],
   "source": [
    "#3.5.1  Ethereum Data Daily - Tier 2"
   ]
  },
  {
   "cell_type": "code",
   "execution_count": null,
   "metadata": {
    "ExecuteTime": {
     "start_time": "2021-02-20T11:13:16.109Z"
    }
   },
   "outputs": [],
   "source": [
    "# Set Working Directory to Tier 2 ETH Daily\n",
    "os.chdir('{}/Tier2/ETH_Daily'.format(setdir))"
   ]
  },
  {
   "cell_type": "code",
   "execution_count": null,
   "metadata": {
    "ExecuteTime": {
     "start_time": "2021-02-20T11:13:16.114Z"
    }
   },
   "outputs": [],
   "source": [
    "df_eth_tier2_d = import_eth_daily(eth_tier2_list_d)"
   ]
  },
  {
   "cell_type": "code",
   "execution_count": null,
   "metadata": {
    "ExecuteTime": {
     "start_time": "2021-02-20T11:13:16.118Z"
    }
   },
   "outputs": [],
   "source": [
    "df_eth_tier2_d"
   ]
  },
  {
   "cell_type": "code",
   "execution_count": null,
   "metadata": {
    "ExecuteTime": {
     "start_time": "2021-02-20T11:13:16.123Z"
    }
   },
   "outputs": [],
   "source": [
    "for i, word in enumerate(eth_tier1_list_d):\n",
    "    eth_tier1_list_d[i] = eth_tier1_list_d[i].replace('/', '_')\n",
    "\n",
    "for i, word in enumerate(eth_tier2_list_d):\n",
    "    eth_tier2_list_d[i] = eth_tier2_list_d[i].replace('/', '_')\n"
   ]
  },
  {
   "cell_type": "code",
   "execution_count": null,
   "metadata": {
    "ExecuteTime": {
     "start_time": "2021-02-20T11:13:16.128Z"
    }
   },
   "outputs": [],
   "source": [
    "df_dataset2_eth = pd.merge(df_eth_tier1_d, df_eth_tier2_d, how='inner', left_on='Date', right_on='Date')"
   ]
  },
  {
   "cell_type": "code",
   "execution_count": null,
   "metadata": {
    "ExecuteTime": {
     "start_time": "2021-02-20T11:13:16.132Z"
    }
   },
   "outputs": [],
   "source": [
    "df_dataset2_btc = pd.merge(df_btc_tier1_d, df_btc_tier2_d, how='inner', left_on='Date', right_on='Date')"
   ]
  },
  {
   "cell_type": "code",
   "execution_count": null,
   "metadata": {
    "ExecuteTime": {
     "start_time": "2021-02-20T11:13:16.138Z"
    }
   },
   "outputs": [],
   "source": [
    "#3.6  Target Variables"
   ]
  },
  {
   "cell_type": "code",
   "execution_count": null,
   "metadata": {
    "ExecuteTime": {
     "start_time": "2021-02-20T11:13:16.142Z"
    }
   },
   "outputs": [],
   "source": [
    "df_dataset2_btc['Closed Price USD'] = df_dataset2_btc['market/price_usd_close']\n",
    "df_dataset2_eth['Closed Price USD'] = df_dataset2_eth['market/price_usd_close']"
   ]
  },
  {
   "cell_type": "code",
   "execution_count": null,
   "metadata": {
    "ExecuteTime": {
     "start_time": "2021-02-20T11:13:16.146Z"
    }
   },
   "outputs": [],
   "source": [
    "try:\n",
    "    df_dataset2_btc = df_dataset2_btc.drop('market/price_usd_close', axis = 1)\n",
    "except:\n",
    "    print(\"was already gone\")\n",
    "    \n",
    "try:\n",
    "    df_dataset2_eth = df_dataset2_eth.drop('market/price_usd_close', axis = 1)\n",
    "except:\n",
    "    print(\"was already gone\")   \n"
   ]
  },
  {
   "cell_type": "code",
   "execution_count": null,
   "metadata": {
    "ExecuteTime": {
     "start_time": "2021-02-20T11:13:16.149Z"
    }
   },
   "outputs": [],
   "source": [
    "df_dataset2_btc['Daily Return in USD'] = df_dataset2_btc['Closed Price USD'].diff()\n",
    "df_dataset2_eth['Daily Return in USD'] = df_dataset2_eth['Closed Price USD'].diff()"
   ]
  },
  {
   "cell_type": "code",
   "execution_count": null,
   "metadata": {
    "ExecuteTime": {
     "start_time": "2021-02-20T11:13:16.153Z"
    }
   },
   "outputs": [],
   "source": [
    "# Add Column with BTC Daily Returns in Percent\n",
    "df_dataset2_btc['Daily Return in Percent'] = (df_dataset2_btc['Daily Return in USD']) / (df_dataset2_btc['Closed Price USD'].shift(1))*100\n",
    "# Add Column with BTC Daily Returns in Percent\n",
    "df_dataset2_eth['Daily Return in Percent'] = (df_dataset2_eth['Daily Return in USD']) / (df_dataset2_eth['Closed Price USD'].shift(1))*100"
   ]
  },
  {
   "cell_type": "code",
   "execution_count": null,
   "metadata": {
    "ExecuteTime": {
     "start_time": "2021-02-20T11:13:16.156Z"
    }
   },
   "outputs": [],
   "source": [
    "# Add Column with BTC Daily Log Returns in Percent\n",
    "df_dataset2_btc['Daily Log Return in Percent'] = pd.DataFrame(np.log(df_dataset2_btc['Closed Price USD']/df_dataset2_btc['Closed Price USD'].shift(1))*100)\n",
    "# Add Column with BTC Daily Log Returns in Percent\n",
    "df_dataset2_eth['Daily Log Return in Percent'] = pd.DataFrame(np.log(df_dataset2_eth['Closed Price USD']/df_dataset2_eth['Closed Price USD'].shift(1))*100)"
   ]
  },
  {
   "cell_type": "code",
   "execution_count": null,
   "metadata": {
    "ExecuteTime": {
     "start_time": "2021-02-20T11:13:16.160Z"
    }
   },
   "outputs": [],
   "source": [
    "df_dataset2_btc['Log Price in USD'] = np.log(df_dataset2_btc['Closed Price USD'])\n",
    "df_dataset2_eth['Log Price in USD'] = np.log(df_dataset2_eth['Closed Price USD'])"
   ]
  },
  {
   "cell_type": "code",
   "execution_count": null,
   "metadata": {
    "ExecuteTime": {
     "start_time": "2021-02-20T11:13:16.164Z"
    }
   },
   "outputs": [],
   "source": [
    "df_dataset2_btc = df_dataset2_btc.dropna()"
   ]
  },
  {
   "cell_type": "code",
   "execution_count": null,
   "metadata": {
    "ExecuteTime": {
     "start_time": "2021-02-20T11:13:16.167Z"
    }
   },
   "outputs": [],
   "source": [
    "df_dataset2_eth = df_dataset2_eth.dropna()"
   ]
  },
  {
   "cell_type": "code",
   "execution_count": null,
   "metadata": {
    "ExecuteTime": {
     "start_time": "2021-02-20T11:13:16.170Z"
    }
   },
   "outputs": [],
   "source": [
    "os.chdir('{}'.format(setdir))"
   ]
  },
  {
   "cell_type": "code",
   "execution_count": null,
   "metadata": {
    "ExecuteTime": {
     "start_time": "2021-02-20T11:13:16.173Z"
    }
   },
   "outputs": [],
   "source": [
    "# Creating CSV-File of Blockchain and Economic Data\n",
    "df_dataset2_btc.to_csv('df_btc_tier1_tier2.csv')"
   ]
  },
  {
   "cell_type": "code",
   "execution_count": null,
   "metadata": {
    "ExecuteTime": {
     "start_time": "2021-02-20T11:13:16.176Z"
    }
   },
   "outputs": [],
   "source": [
    "# Creating CSV-File of Blockchain and Economic Data\n",
    "df_dataset2_eth.to_csv('df_eth_tier1_tier2.csv')"
   ]
  },
  {
   "cell_type": "code",
   "execution_count": null,
   "metadata": {
    "ExecuteTime": {
     "start_time": "2021-02-20T11:13:16.179Z"
    }
   },
   "outputs": [],
   "source": [
    "# Current Working Directory\n",
    "os.getcwd()"
   ]
  },
  {
   "cell_type": "markdown",
   "metadata": {},
   "source": []
  }
 ],
 "metadata": {
  "kernelspec": {
   "display_name": "Python 3",
   "language": "python",
   "name": "python3"
  },
  "language_info": {
   "codemirror_mode": {
    "name": "ipython",
    "version": 3
   },
   "file_extension": ".py",
   "mimetype": "text/x-python",
   "name": "python",
   "nbconvert_exporter": "python",
   "pygments_lexer": "ipython3",
   "version": "3.8.5"
  },
  "toc": {
   "base_numbering": 1,
   "nav_menu": {},
   "number_sections": true,
   "sideBar": true,
   "skip_h1_title": false,
   "title_cell": "Table of Contents",
   "title_sidebar": "Contents",
   "toc_cell": true,
   "toc_position": {},
   "toc_section_display": true,
   "toc_window_display": false
  },
  "toc-autonumbering": true,
  "toc-showtags": false,
  "varInspector": {
   "cols": {
    "lenName": 16,
    "lenType": 16,
    "lenVar": 40
   },
   "kernels_config": {
    "python": {
     "delete_cmd_postfix": "",
     "delete_cmd_prefix": "del ",
     "library": "var_list.py",
     "varRefreshCmd": "print(var_dic_list())"
    },
    "r": {
     "delete_cmd_postfix": ") ",
     "delete_cmd_prefix": "rm(",
     "library": "var_list.r",
     "varRefreshCmd": "cat(var_dic_list()) "
    }
   },
   "types_to_exclude": [
    "module",
    "function",
    "builtin_function_or_method",
    "instance",
    "_Feature"
   ],
   "window_display": false
  }
 },
 "nbformat": 4,
 "nbformat_minor": 4
}
